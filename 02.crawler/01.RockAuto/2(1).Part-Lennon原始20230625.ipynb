{
 "cells": [
  {
   "cell_type": "code",
   "execution_count": 1,
   "id": "75615279",
   "metadata": {},
   "outputs": [],
   "source": [
    "import pandas as pd"
   ]
  },
  {
   "cell_type": "code",
   "execution_count": 2,
   "id": "95822d56",
   "metadata": {},
   "outputs": [
    {
     "name": "stdout",
     "output_type": "stream",
     "text": [
      "总数量：100\n"
     ]
    },
    {
     "data": {
      "text/plain": [
       "['https://www.rockauto.com/en/parts/bosch,63132,mass+air+flow+(maf)+sensor,5128',\n",
       " 'https://www.rockauto.com/en/parts/bosch,63136,mass+air+flow+(maf)+sensor,5128',\n",
       " 'https://www.rockauto.com/en/parts/bosch,0280212009,mass+air+flow+(maf)+sensor,5128',\n",
       " 'https://www.rockauto.com/en/parts/bosch,0280217007,mass+air+flow+(maf)+sensor,5128',\n",
       " 'https://www.rockauto.com/en/parts/bosch,0280217100,mass+air+flow+(maf)+sensor,5128',\n",
       " 'https://www.rockauto.com/en/parts/bosch,0280217114,mass+air+flow+(maf)+sensor,5128',\n",
       " 'https://www.rockauto.com/en/parts/bosch,0280217117,mass+air+flow+(maf)+sensor,5128',\n",
       " 'https://www.rockauto.com/en/parts/bosch,0280217500,mass+air+flow+(maf)+sensor,5128',\n",
       " 'https://www.rockauto.com/en/parts/bosch,0280217509,mass+air+flow+(maf)+sensor,5128',\n",
       " 'https://www.rockauto.com/en/parts/bosch,0280217515,mass+air+flow+(maf)+sensor,5128',\n",
       " 'https://www.rockauto.com/en/parts/bosch,0280217517,mass+air+flow+(maf)+sensor,5128',\n",
       " 'https://www.rockauto.com/en/parts/bosch,0280217532,mass+air+flow+(maf)+sensor,5128',\n",
       " 'https://www.rockauto.com/en/parts/bosch,0280217533,mass+air+flow+(maf)+sensor,5128',\n",
       " 'https://www.rockauto.com/en/parts/bosch,0280217807,mass+air+flow+(maf)+sensor,5128',\n",
       " 'https://www.rockauto.com/en/parts/bosch,0280217809,mass+air+flow+(maf)+sensor,5128',\n",
       " 'https://www.rockauto.com/en/parts/bosch,0280217810,mass+air+flow+(maf)+sensor,5128',\n",
       " 'https://www.rockauto.com/en/parts/bosch,0280217814,mass+air+flow+(maf)+sensor,5128',\n",
       " 'https://www.rockauto.com/en/parts/bosch,0280218002,mass+air+flow+(maf)+sensor,5128',\n",
       " 'https://www.rockauto.com/en/parts/bosch,0280218009,mass+air+flow+(maf)+sensor,5128',\n",
       " 'https://www.rockauto.com/en/parts/bosch,0280218010,mass+air+flow+(maf)+sensor,5128',\n",
       " 'https://www.rockauto.com/en/parts/bosch,0280218012,mass+air+flow+(maf)+sensor,5128',\n",
       " 'https://www.rockauto.com/en/parts/bosch,0280218017,mass+air+flow+(maf)+sensor,5128',\n",
       " 'https://www.rockauto.com/en/parts/bosch,0280218023,mass+air+flow+(maf)+sensor,5128',\n",
       " 'https://www.rockauto.com/en/parts/bosch,0280218032,mass+air+flow+(maf)+sensor,5128',\n",
       " 'https://www.rockauto.com/en/parts/bosch,0280218038,mass+air+flow+(maf)+sensor,5128',\n",
       " 'https://www.rockauto.com/en/parts/bosch,0280218055,mass+air+flow+(maf)+sensor,5128',\n",
       " 'https://www.rockauto.com/en/parts/bosch,0280218060,mass+air+flow+(maf)+sensor,5128',\n",
       " 'https://www.rockauto.com/en/parts/bosch,0280218062,mass+air+flow+(maf)+sensor,5128',\n",
       " 'https://www.rockauto.com/en/parts/bosch,0280218063,mass+air+flow+(maf)+sensor,5128',\n",
       " 'https://www.rockauto.com/en/parts/bosch,0280218065,mass+air+flow+(maf)+sensor,5128',\n",
       " 'https://www.rockauto.com/en/parts/bosch,0280218067,mass+air+flow+(maf)+sensor,5128',\n",
       " 'https://www.rockauto.com/en/parts/bosch,0280218069,mass+air+flow+(maf)+sensor,5128',\n",
       " 'https://www.rockauto.com/en/parts/bosch,0280218071,mass+air+flow+(maf)+sensor,5128',\n",
       " 'https://www.rockauto.com/en/parts/bosch,280218071,mass+air+flow+(maf)+sensor,5128',\n",
       " 'https://www.rockauto.com/en/parts/bosch,0280218076,mass+air+flow+(maf)+sensor,5128',\n",
       " 'https://www.rockauto.com/en/parts/bosch,0280218077,mass+air+flow+(maf)+sensor,5128',\n",
       " 'https://www.rockauto.com/en/parts/bosch,0280218088,mass+air+flow+(maf)+sensor,5128',\n",
       " 'https://www.rockauto.com/en/parts/bosch,0280218089,mass+air+flow+(maf)+sensor,5128',\n",
       " 'https://www.rockauto.com/en/parts/bosch,0280218090,mass+air+flow+(maf)+sensor,5128',\n",
       " 'https://www.rockauto.com/en/parts/bosch,0280218100,mass+air+flow+(maf)+sensor,5128',\n",
       " 'https://www.rockauto.com/en/parts/bosch,0280218108,mass+air+flow+(maf)+sensor,5128',\n",
       " 'https://www.rockauto.com/en/parts/bosch,0280218109,mass+air+flow+(maf)+sensor,5128',\n",
       " 'https://www.rockauto.com/en/parts/bosch,0280218124,mass+air+flow+(maf)+sensor,5128',\n",
       " 'https://www.rockauto.com/en/parts/bosch,0280218135,mass+air+flow+(maf)+sensor,5128',\n",
       " 'https://www.rockauto.com/en/parts/bosch,0280218141,mass+air+flow+(maf)+sensor,5128',\n",
       " 'https://www.rockauto.com/en/parts/bosch,0280218143,mass+air+flow+(maf)+sensor,5128',\n",
       " 'https://www.rockauto.com/en/parts/bosch,0280218145,mass+air+flow+(maf)+sensor,5128',\n",
       " 'https://www.rockauto.com/en/parts/bosch,0280218152,mass+air+flow+(maf)+sensor,5128',\n",
       " 'https://www.rockauto.com/en/parts/bosch,0280218154,mass+air+flow+(maf)+sensor,5128',\n",
       " 'https://www.rockauto.com/en/parts/bosch,0280218175,mass+air+flow+(maf)+sensor,5128',\n",
       " 'https://www.rockauto.com/en/parts/bosch,0280218187,mass+air+flow+(maf)+sensor,5128',\n",
       " 'https://www.rockauto.com/en/parts/bosch,0280218190,mass+air+flow+(maf)+sensor,5128',\n",
       " 'https://www.rockauto.com/en/parts/bosch,0280218192,mass+air+flow+(maf)+sensor,5128',\n",
       " 'https://www.rockauto.com/en/parts/bosch,0280218198,mass+air+flow+(maf)+sensor,5128',\n",
       " 'https://www.rockauto.com/en/parts/bosch,0280218205,mass+air+flow+(maf)+sensor,5128',\n",
       " 'https://www.rockauto.com/en/parts/bosch,0280218214,mass+air+flow+(maf)+sensor,5128',\n",
       " 'https://www.rockauto.com/en/parts/bosch,0280218218,mass+air+flow+(maf)+sensor,5128',\n",
       " 'https://www.rockauto.com/en/parts/bosch,0280218226,mass+air+flow+(maf)+sensor,5128',\n",
       " 'https://www.rockauto.com/en/parts/bosch,0280218228,mass+air+flow+(maf)+sensor,5128',\n",
       " 'https://www.rockauto.com/en/parts/bosch,0280218230,mass+air+flow+(maf)+sensor,5128',\n",
       " 'https://www.rockauto.com/en/parts/bosch,0280218232,mass+air+flow+(maf)+sensor,5128',\n",
       " 'https://www.rockauto.com/en/parts/bosch,0280218234,mass+air+flow+(maf)+sensor,5128',\n",
       " 'https://www.rockauto.com/en/parts/bosch,0280218241,mass+air+flow+(maf)+sensor,5128',\n",
       " 'https://www.rockauto.com/en/parts/bosch,0280218260,mass+air+flow+(maf)+sensor,5128',\n",
       " 'https://www.rockauto.com/en/parts/bosch,0280218266,mass+air+flow+(maf)+sensor,5128',\n",
       " 'https://www.rockauto.com/en/parts/bosch,0280218270,mass+air+flow+(maf)+sensor,5128',\n",
       " 'https://www.rockauto.com/en/parts/bosch,0280218271,mass+air+flow+(maf)+sensor,5128',\n",
       " 'https://www.rockauto.com/en/parts/bosch,0280218275,mass+air+flow+(maf)+sensor,5128',\n",
       " 'https://www.rockauto.com/en/parts/bosch,0280218279,mass+air+flow+(maf)+sensor,5128',\n",
       " 'https://www.rockauto.com/en/parts/bosch,0280218286,mass+air+flow+(maf)+sensor,5128',\n",
       " 'https://www.rockauto.com/en/parts/bosch,0280218288,mass+air+flow+(maf)+sensor,5128',\n",
       " 'https://www.rockauto.com/en/parts/bosch,0280218291,mass+air+flow+(maf)+sensor,5128',\n",
       " 'https://www.rockauto.com/en/parts/bosch,0280218341,mass+air+flow+(maf)+sensor,5128',\n",
       " 'https://www.rockauto.com/en/parts/bosch,0280218381,mass+air+flow+(maf)+sensor,5128',\n",
       " 'https://www.rockauto.com/en/parts/bosch,0280218390,mass+air+flow+(maf)+sensor,5128',\n",
       " 'https://www.rockauto.com/en/parts/bosch,0280218396,mass+air+flow+(maf)+sensor,5128',\n",
       " 'https://www.rockauto.com/en/parts/bosch,0280218419,mass+air+flow+(maf)+sensor,5128',\n",
       " 'https://www.rockauto.com/en/parts/bosch,0280218429,mass+air+flow+(maf)+sensor,5128',\n",
       " 'https://www.rockauto.com/en/parts/bosch,0280218488,mass+air+flow+(maf)+sensor,5128',\n",
       " 'https://www.rockauto.com/en/parts/bosch,0280218490,mass+air+flow+(maf)+sensor,5128',\n",
       " 'https://www.rockauto.com/en/parts/bosch,0281002152,mass+air+flow+(maf)+sensor,5128',\n",
       " 'https://www.rockauto.com/en/parts/bosch,0281002184,mass+air+flow+(maf)+sensor,5128',\n",
       " 'https://www.rockauto.com/en/parts/bosch,0281002435,mass+air+flow+(maf)+sensor,5128',\n",
       " 'https://www.rockauto.com/en/parts/bosch,0281002461,mass+air+flow+(maf)+sensor,5128',\n",
       " 'https://www.rockauto.com/en/parts/bosch,0281002531,mass+air+flow+(maf)+sensor,5128',\n",
       " 'https://www.rockauto.com/en/parts/bosch,0281002535,mass+air+flow+(maf)+sensor,5128',\n",
       " 'https://www.rockauto.com/en/parts/bosch,0281002735,mass+air+flow+(maf)+sensor,5128',\n",
       " 'https://www.rockauto.com/en/parts/bosch,0281002757,mass+air+flow+(maf)+sensor,5128',\n",
       " 'https://www.rockauto.com/en/parts/bosch,0281002896,mass+air+flow+(maf)+sensor,5128',\n",
       " 'https://www.rockauto.com/en/parts/bosch,0281002956,mass+air+flow+(maf)+sensor,5128',\n",
       " 'https://www.rockauto.com/en/parts/bosch,0281002978,mass+air+flow+(maf)+sensor,5128',\n",
       " 'https://www.rockauto.com/en/parts/bosch,0281006147,mass+air+flow+(maf)+sensor,5128',\n",
       " 'https://www.rockauto.com/en/parts/bosch,0281006297,mass+air+flow+(maf)+sensor,5128',\n",
       " 'https://www.rockauto.com/en/parts/bosch,0986280101,mass+air+flow+(maf)+sensor,5128',\n",
       " 'https://www.rockauto.com/en/parts/bosch,0986280102,mass+air+flow+(maf)+sensor,5128',\n",
       " 'https://www.rockauto.com/en/parts/bosch,0986280208,mass+air+flow+(maf)+sensor,5128',\n",
       " 'https://www.rockauto.com/en/parts/bosch,0986280209,mass+air+flow+(maf)+sensor,5128',\n",
       " 'https://www.rockauto.com/en/parts/bosch,0986280210,mass+air+flow+(maf)+sensor,5128',\n",
       " 'https://www.rockauto.com/en/parts/bosch,0986280216,mass+air+flow+(maf)+sensor,5128',\n",
       " 'https://www.rockauto.com/en/parts/bosch,0986280217,mass+air+flow+(maf)+sensor,5128']"
      ]
     },
     "execution_count": 2,
     "metadata": {},
     "output_type": "execute_result"
    }
   ],
   "source": [
    "df_menu = pd.read_excel('./menu.xlsx', header=0)\n",
    "list_url = df_menu['Url'].to_list()\n",
    "\n",
    "print('总数量：' + str(len(list_url)))\n",
    "list_url"
   ]
  },
  {
   "cell_type": "code",
   "execution_count": 3,
   "id": "ccc172ba",
   "metadata": {},
   "outputs": [
    {
     "data": {
      "text/html": [
       "<div>\n",
       "<style scoped>\n",
       "    .dataframe tbody tr th:only-of-type {\n",
       "        vertical-align: middle;\n",
       "    }\n",
       "\n",
       "    .dataframe tbody tr th {\n",
       "        vertical-align: top;\n",
       "    }\n",
       "\n",
       "    .dataframe thead th {\n",
       "        text-align: right;\n",
       "    }\n",
       "</style>\n",
       "<table border=\"1\" class=\"dataframe\">\n",
       "  <thead>\n",
       "    <tr style=\"text-align: right;\">\n",
       "      <th></th>\n",
       "      <th>Part_Number</th>\n",
       "      <th>Manufacturer</th>\n",
       "      <th>Vehicle</th>\n",
       "      <th>Note_1</th>\n",
       "      <th>Info</th>\n",
       "      <th>Note_2</th>\n",
       "      <th>Alternate_OE_Part_Numbers</th>\n",
       "      <th>Src</th>\n",
       "      <th>status</th>\n",
       "    </tr>\n",
       "  </thead>\n",
       "  <tbody>\n",
       "  </tbody>\n",
       "</table>\n",
       "</div>"
      ],
      "text/plain": [
       "Empty DataFrame\n",
       "Columns: [Part_Number, Manufacturer, Vehicle, Note_1, Info, Note_2, Alternate_OE_Part_Numbers, Src, status]\n",
       "Index: []"
      ]
     },
     "execution_count": 3,
     "metadata": {},
     "output_type": "execute_result"
    }
   ],
   "source": [
    "df = pd.DataFrame(columns=['Part_Number',\n",
    "                           'Manufacturer',\n",
    "                           'Vehicle',\n",
    "                           'Note_1',\n",
    "                           'Info',\n",
    "                           'Note_2',\n",
    "                           'Alternate_OE_Part_Numbers',\n",
    "                           'Src',\n",
    "                           'status'])\n",
    "\n",
    "df"
   ]
  },
  {
   "cell_type": "code",
   "execution_count": 4,
   "id": "8d1ca69c",
   "metadata": {},
   "outputs": [],
   "source": [
    "from selenium.webdriver import ChromeOptions"
   ]
  },
  {
   "cell_type": "code",
   "execution_count": 5,
   "id": "fe4e6120",
   "metadata": {},
   "outputs": [],
   "source": [
    "option = ChromeOptions()\n",
    "option.add_experimental_option('useAutomationExtension', False)\n",
    "option.add_argument('blink-settings=imagesEnabled=false')\n",
    "option.add_argument('--disable-blink-features=AutomationControlled')\n",
    "option.add_argument('--disable-dev-shm-usage')\n",
    "option.add_argument('--disable-gpu')\n",
    "option.add_experimental_option('excludeSwitches', ['enable-automation'])\n",
    "# option.add_argument('--headless')\n",
    "option.add_argument('--no-sandbox')\n",
    "option.add_argument('--proxy-server=http://u431.kdltps.com:15818')\n",
    "option.add_argument('user-agent=Mozilla/5.0 (Windows NT 10.0; Win64; x64) AppleWebKit/537.36 (KHTML, like Gecko) Chrome/113.0.0.0 Safari/537.36')\n",
    "option.page_load_strategy = 'eager'"
   ]
  },
  {
   "cell_type": "code",
   "execution_count": 6,
   "id": "615beeeb",
   "metadata": {},
   "outputs": [],
   "source": [
    "from selenium.webdriver import Chrome\n",
    "from selenium.webdriver.chrome.service import Service"
   ]
  },
  {
   "cell_type": "code",
   "execution_count": 7,
   "id": "018d81c1",
   "metadata": {},
   "outputs": [],
   "source": [
    "browser = Chrome(service=Service('../../../chromedriver'), options=option)\n",
    "\n",
    "browser.maximize_window()"
   ]
  },
  {
   "cell_type": "code",
   "execution_count": 8,
   "id": "fec71893",
   "metadata": {},
   "outputs": [],
   "source": [
    "import time"
   ]
  },
  {
   "cell_type": "code",
   "execution_count": 9,
   "id": "9e02fbb5",
   "metadata": {
    "scrolled": true
   },
   "outputs": [],
   "source": [
    "i = 0\n",
    "\n",
    "browser.get(list_url[i])\n",
    "\n",
    "time.sleep(5)"
   ]
  },
  {
   "cell_type": "code",
   "execution_count": 10,
   "id": "7cabed18",
   "metadata": {},
   "outputs": [],
   "source": [
    "from selenium.webdriver.support import expected_conditions as EC\n",
    "from selenium.webdriver.support.wait import WebDriverWait\n",
    "from selenium.webdriver.common.by import By"
   ]
  },
  {
   "cell_type": "code",
   "execution_count": 11,
   "id": "87e7672c",
   "metadata": {},
   "outputs": [],
   "source": [
    "if len(browser.find_elements(by=By.XPATH, value='//span[@class=\"navlabellink nvoffset nnormal\"]')) != 0:\n",
    "    print('No Parts Found')"
   ]
  },
  {
   "cell_type": "code",
   "execution_count": 12,
   "id": "cd14a208",
   "metadata": {},
   "outputs": [
    {
     "data": {
      "text/plain": [
       "[<selenium.webdriver.remote.webelement.WebElement (session=\"c25a937762e3da189a02e0d423ed1b92\", element=\"C465B0D2BF5869FB9D37F2E667BB9902_element_27\")>]"
      ]
     },
     "execution_count": 12,
     "metadata": {},
     "output_type": "execute_result"
    }
   ],
   "source": [
    "wait = WebDriverWait(browser, 60)\n",
    "wait.until(EC.presence_of_element_located((By.XPATH, '//tbody[@class=\"listing-inner altrow-a-1  \"]')))\n",
    "list_part = browser.find_elements(by=By.XPATH, value='//tbody[@class=\"listing-inner altrow-a-1  \"]') + browser.find_elements(by=By.XPATH, value='//tbody[@class=\"listing-inner altrow-a-0  \"]')\n",
    "\n",
    "list_part"
   ]
  },
  {
   "cell_type": "code",
   "execution_count": 13,
   "id": "235d790d",
   "metadata": {},
   "outputs": [
    {
     "data": {
      "text/plain": [
       "[<selenium.webdriver.remote.webelement.WebElement (session=\"c25a937762e3da189a02e0d423ed1b92\", element=\"C465B0D2BF5869FB9D37F2E667BB9902_element_28\")>]"
      ]
     },
     "execution_count": 13,
     "metadata": {},
     "output_type": "execute_result"
    }
   ],
   "source": [
    "list_part_number = [part.find_element(by=By.XPATH, value='./descendant::div[@class=\"listing-text-row-moreinfo-truck\"]/span[@title=\"Buyer\\'s Guide\"]') for part in list_part]\n",
    "\n",
    "list_part_number"
   ]
  },
  {
   "cell_type": "code",
   "execution_count": 14,
   "id": "1b109931",
   "metadata": {},
   "outputs": [
    {
     "data": {
      "text/plain": [
       "0"
      ]
     },
     "execution_count": 14,
     "metadata": {},
     "output_type": "execute_result"
    }
   ],
   "source": [
    "part_index = [part_number.text for part_number in list_part_number].index(list_url[i].split(',')[-3])\n",
    "\n",
    "part_index"
   ]
  },
  {
   "cell_type": "code",
   "execution_count": 15,
   "id": "5465a987",
   "metadata": {},
   "outputs": [
    {
     "data": {
      "text/plain": [
       "'BOSCH'"
      ]
     },
     "execution_count": 15,
     "metadata": {},
     "output_type": "execute_result"
    }
   ],
   "source": [
    "manufacturer = list_part[part_index].find_element(by=By.XPATH, value='./descendant::div[@class=\"listing-text-row-moreinfo-truck\"]/span[@class=\"listing-final-manufacturer \"]').text\n",
    "\n",
    "manufacturer"
   ]
  },
  {
   "cell_type": "code",
   "execution_count": 16,
   "id": "514d6e06",
   "metadata": {},
   "outputs": [
    {
     "data": {
      "text/plain": [
       "'CADILLAC CTS 2003-2005\\nSATURN VUE 2004-2006'"
      ]
     },
     "execution_count": 16,
     "metadata": {},
     "output_type": "execute_result"
    }
   ],
   "source": [
    "list_part_number[part_index].click()\n",
    "time.sleep(5)\n",
    "list_vehicle = browser.find_element(by=By.XPATH, value='//div[@id=\"buyersguidepopup-outer_c\"]').find_elements(by=By.XPATH, value='./descendant::table[@class=\"nobmp\"]')\n",
    "if len(list_vehicle) == 0:\n",
    "    vehicle = ''\n",
    "else:\n",
    "    vehicle = list_vehicle[0].text\n",
    "\n",
    "vehicle"
   ]
  },
  {
   "cell_type": "code",
   "execution_count": 17,
   "id": "0e21cbad",
   "metadata": {},
   "outputs": [
    {
     "data": {
      "text/plain": [
       "''"
      ]
     },
     "execution_count": 17,
     "metadata": {},
     "output_type": "execute_result"
    }
   ],
   "source": [
    "note_1 = ';'.join(row.text for row in list_part[part_index].find_elements(by=By.XPATH, value='./descendant::div[@class=\"listing-text-row-moreinfo-truck\"]/span[@class=\"span-link-underline-remover\"]'))\n",
    "\n",
    "note_1"
   ]
  },
  {
   "cell_type": "code",
   "execution_count": 18,
   "id": "d2bd254c",
   "metadata": {},
   "outputs": [
    {
     "data": {
      "text/plain": [
       "'https://www.rockauto.com/en/moreinfo.php?pk=570063'"
      ]
     },
     "execution_count": 18,
     "metadata": {},
     "output_type": "execute_result"
    }
   ],
   "source": [
    "info = ';'.join(row.get_attribute('href') for row in list_part[part_index].find_elements(by=By.XPATH, value='./descendant::div[@class=\"listing-text-row-moreinfo-truck\"]/a[@class=\"ra-btn ra-btn-moreinfo\"]'))\n",
    "\n",
    "info"
   ]
  },
  {
   "cell_type": "code",
   "execution_count": 19,
   "id": "82228fd5",
   "metadata": {},
   "outputs": [
    {
     "data": {
      "text/plain": [
       "'Category: Mass Air Flow (MAF) Sensor'"
      ]
     },
     "execution_count": 19,
     "metadata": {},
     "output_type": "execute_result"
    }
   ],
   "source": [
    "note_2 = ';'.join(row.text for row in list_part[part_index].find_elements(by=By.XPATH, value='./descendant::div[@class=\"listing-text-row\"]'))\n",
    "\n",
    "note_2"
   ]
  },
  {
   "cell_type": "code",
   "execution_count": 20,
   "id": "a4e918ae",
   "metadata": {},
   "outputs": [
    {
     "data": {
      "text/plain": [
       "''"
      ]
     },
     "execution_count": 20,
     "metadata": {},
     "output_type": "execute_result"
    }
   ],
   "source": [
    "oe = ';'.join(row.get_attribute('textContent') for row in list_part[part_index].find_elements(by=By.XPATH, value='./descendant::span[@title=\"Replaces these Alternate/ OE Part Numbers\"]'))\n",
    "oe = ';'.join(oe.split(', '))\n",
    "\n",
    "oe"
   ]
  },
  {
   "cell_type": "code",
   "execution_count": 21,
   "id": "1a81bf14",
   "metadata": {},
   "outputs": [
    {
     "data": {
      "text/plain": [
       "'https://www.rockauto.com/info/23/23_63132_1__ra_m.jpg'"
      ]
     },
     "execution_count": 21,
     "metadata": {},
     "output_type": "execute_result"
    }
   ],
   "source": [
    "src = ';'.join(row.get_attribute('src') for row in list_part[part_index].find_elements(by=By.XPATH, value='./descendant::img[@class=\" listing-inline-image\"]'))\n",
    "\n",
    "src"
   ]
  },
  {
   "cell_type": "code",
   "execution_count": 22,
   "id": "07befa50",
   "metadata": {},
   "outputs": [
    {
     "data": {
      "text/html": [
       "<div>\n",
       "<style scoped>\n",
       "    .dataframe tbody tr th:only-of-type {\n",
       "        vertical-align: middle;\n",
       "    }\n",
       "\n",
       "    .dataframe tbody tr th {\n",
       "        vertical-align: top;\n",
       "    }\n",
       "\n",
       "    .dataframe thead th {\n",
       "        text-align: right;\n",
       "    }\n",
       "</style>\n",
       "<table border=\"1\" class=\"dataframe\">\n",
       "  <thead>\n",
       "    <tr style=\"text-align: right;\">\n",
       "      <th></th>\n",
       "      <th>Part_Number</th>\n",
       "      <th>Manufacturer</th>\n",
       "      <th>Vehicle</th>\n",
       "      <th>Note_1</th>\n",
       "      <th>Info</th>\n",
       "      <th>Note_2</th>\n",
       "      <th>Alternate_OE_Part_Numbers</th>\n",
       "      <th>Src</th>\n",
       "      <th>status</th>\n",
       "    </tr>\n",
       "  </thead>\n",
       "  <tbody>\n",
       "    <tr>\n",
       "      <th>0</th>\n",
       "      <td>63132</td>\n",
       "      <td>BOSCH</td>\n",
       "      <td>CADILLAC CTS 2003-2005\\nSATURN VUE 2004-2006</td>\n",
       "      <td></td>\n",
       "      <td>https://www.rockauto.com/en/moreinfo.php?pk=57...</td>\n",
       "      <td>Category: Mass Air Flow (MAF) Sensor</td>\n",
       "      <td></td>\n",
       "      <td>https://www.rockauto.com/info/23/23_63132_1__r...</td>\n",
       "      <td>ok</td>\n",
       "    </tr>\n",
       "  </tbody>\n",
       "</table>\n",
       "</div>"
      ],
      "text/plain": [
       "  Part_Number Manufacturer                                       Vehicle  \\\n",
       "0       63132        BOSCH  CADILLAC CTS 2003-2005\\nSATURN VUE 2004-2006   \n",
       "\n",
       "  Note_1                                               Info  \\\n",
       "0         https://www.rockauto.com/en/moreinfo.php?pk=57...   \n",
       "\n",
       "                                 Note_2 Alternate_OE_Part_Numbers  \\\n",
       "0  Category: Mass Air Flow (MAF) Sensor                             \n",
       "\n",
       "                                                 Src status  \n",
       "0  https://www.rockauto.com/info/23/23_63132_1__r...     ok  "
      ]
     },
     "execution_count": 22,
     "metadata": {},
     "output_type": "execute_result"
    }
   ],
   "source": [
    "df_temp = pd.DataFrame([{'Part_Number': list_url[i].split(',')[-3],\n",
    "                         'Manufacturer': manufacturer,\n",
    "                         'Vehicle': vehicle,\n",
    "                         'Note_1': note_1,\n",
    "                         'Info': info,\n",
    "                         'Note_2': note_2,\n",
    "                         'Alternate_OE_Part_Numbers': oe,\n",
    "                         'Src': src,\n",
    "                         'status': 'ok'}])\n",
    "\n",
    "browser.quit()\n",
    "\n",
    "df = pd.concat([df, df_temp], ignore_index=True).fillna('')\n",
    "\n",
    "df"
   ]
  },
  {
   "cell_type": "code",
   "execution_count": null,
   "id": "ccf11974",
   "metadata": {},
   "outputs": [],
   "source": []
  }
 ],
 "metadata": {
  "kernelspec": {
   "display_name": "Python 3 (ipykernel)",
   "language": "python",
   "name": "python3"
  },
  "language_info": {
   "codemirror_mode": {
    "name": "ipython",
    "version": 3
   },
   "file_extension": ".py",
   "mimetype": "text/x-python",
   "name": "python",
   "nbconvert_exporter": "python",
   "pygments_lexer": "ipython3",
   "version": "3.11.3"
  }
 },
 "nbformat": 4,
 "nbformat_minor": 5
}
