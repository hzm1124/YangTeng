{
 "cells": [
  {
   "cell_type": "code",
   "execution_count": 1,
   "id": "32a12924-e1d6-4d3e-a9ef-8073d0aeb574",
   "metadata": {
    "scrolled": true
   },
   "outputs": [
    {
     "data": {
      "text/plain": [
       "['crawler_1.xlsx', 'crawler_2.xlsx']"
      ]
     },
     "execution_count": 1,
     "metadata": {},
     "output_type": "execute_result"
    }
   ],
   "source": [
    "import os\n",
    "\n",
    "list_file = sorted(list(os.walk('./file/1.page'))[0][2])\n",
    "while '.DS_Store' in list_file:\n",
    "    list_file.remove('.DS_Store')\n",
    "while '0.null.txt' in list_file:\n",
    "    list_file.remove('0.null.txt')\n",
    "\n",
    "list_file"
   ]
  },
  {
   "cell_type": "code",
   "execution_count": 2,
   "id": "c9de1936-ff24-4793-98f4-5ef072598a26",
   "metadata": {},
   "outputs": [
    {
     "data": {
      "text/plain": [
       "'crawler_1.xlsx'"
      ]
     },
     "execution_count": 2,
     "metadata": {},
     "output_type": "execute_result"
    }
   ],
   "source": [
    "file = list_file[0]\n",
    "\n",
    "file"
   ]
  },
  {
   "cell_type": "code",
   "execution_count": 3,
   "id": "783f89be-0cdc-4912-942e-895cc5f09840",
   "metadata": {},
   "outputs": [],
   "source": [
    "import pandas as pd\n",
    "\n",
    "output_correct, output_error = pd.DataFrame(), pd.DataFrame()"
   ]
  },
  {
   "cell_type": "code",
   "execution_count": 4,
   "id": "1c28f4ff-eee5-4220-a711-cc2f93fe08f0",
   "metadata": {
    "scrolled": true
   },
   "outputs": [
    {
     "name": "stdout",
     "output_type": "stream",
     "text": [
      "总数量：1\n"
     ]
    },
    {
     "data": {
      "text/plain": [
       "['https://www.dormanproducts.com/gsearch.aspx?type=keyword&origin=keyword&q=wheel%2520cylinder']"
      ]
     },
     "execution_count": 4,
     "metadata": {},
     "output_type": "execute_result"
    }
   ],
   "source": [
    "input_ = pd.read_excel(f'./file/1.page/{file}',\n",
    "                       header=0,\n",
    "                       dtype=str).fillna('')\n",
    "\n",
    "input_['No'] = input_['No'].astype(int)\n",
    "input_['SKU Count'] = input_['SKU Count'].astype(int)\n",
    "input_['Page'] = input_['Page'].astype(int)\n",
    "\n",
    "print(f'总数量：{len(input_)}')\n",
    "input_['Url'].tolist()"
   ]
  },
  {
   "cell_type": "code",
   "execution_count": 5,
   "id": "5878a9f0-d639-4123-b6e0-bc564f72c2d6",
   "metadata": {},
   "outputs": [
    {
     "data": {
      "text/plain": [
       "0"
      ]
     },
     "execution_count": 5,
     "metadata": {},
     "output_type": "execute_result"
    }
   ],
   "source": [
    "a = 0\n",
    "\n",
    "a"
   ]
  },
  {
   "cell_type": "code",
   "execution_count": 6,
   "id": "9f61dd65-55da-4d0b-ba30-d0534eff0781",
   "metadata": {},
   "outputs": [
    {
     "data": {
      "text/plain": [
       "'error'"
      ]
     },
     "execution_count": 6,
     "metadata": {},
     "output_type": "execute_result"
    }
   ],
   "source": [
    "crawler_status = 'error'\n",
    "\n",
    "crawler_status"
   ]
  },
  {
   "cell_type": "code",
   "execution_count": 7,
   "id": "523cc867",
   "metadata": {
    "scrolled": true
   },
   "outputs": [
    {
     "name": "stdout",
     "output_type": "stream",
     "text": [
      "1 0 0\n",
      "1 1 100\n",
      "1 2 200\n",
      "1 3 300\n",
      "1 4 400\n",
      "1 5 500\n",
      "1 6 600\n",
      "1 7 699\n",
      "2 7 699\n",
      "1 8 796\n",
      "1 9 896\n",
      "1 10 996\n",
      "1 11 1096\n",
      "1 12 1196\n",
      "1 0 1207\n",
      "1 1 1207\n",
      "1 2 1207\n",
      "1 3 1207\n",
      "1 4 1207\n",
      "1 5 1207\n",
      "1 6 1207\n",
      "1 7 1210\n",
      "2 7 1210\n",
      "3 7 1210\n",
      "4 7 1210\n",
      "1 8 1210\n",
      "1 9 1210\n",
      "1 10 1210\n",
      "1 11 1210\n",
      "1 12 1211\n",
      "1 0 1211\n",
      "1 1 1211\n",
      "1 2 1211\n",
      "1 3 1211\n",
      "1 4 1211\n",
      "1 5 1211\n",
      "1 6 1211\n",
      "1 7 1211\n",
      "1 8 1211\n",
      "1 9 1211\n",
      "1 10 1211\n",
      "1 11 1211\n",
      "1 12 1211\n",
      "1 0 1211\n",
      "1 1 1211\n",
      "1 2 1211\n",
      "1 3 1211\n",
      "1 4 1211\n",
      "1 5 1211\n",
      "1 6 1211\n",
      "1 7 1211\n",
      "1 8 1211\n",
      "2 8 1211\n",
      "1 9 1211\n",
      "1 10 1211\n",
      "1 11 1211\n",
      "1 12 1211\n",
      "1 0 1211\n",
      "2 0 1211\n",
      "1 1 1211\n",
      "1 2 1211\n",
      "1 3 1211\n",
      "1 4 1211\n",
      "1 5 1211\n"
     ]
    },
    {
     "data": {
      "text/plain": [
       "<Response [200]>"
      ]
     },
     "execution_count": 7,
     "metadata": {},
     "output_type": "execute_result"
    }
   ],
   "source": [
    "import requests\n",
    "\n",
    "import sys\n",
    "sys.path.append('../00.Tools')\n",
    "from crawler_configuration import get_header, get_proxy\n",
    "\n",
    "from bs4 import BeautifulSoup\n",
    "from lxml import etree\n",
    "\n",
    "list_url = []\n",
    "while len(list_url) < input_.loc[a, 'SKU Count']:\n",
    "    for i in range(input_.loc[a, 'Page']):\n",
    "        b = 0\n",
    "        while True:\n",
    "            b += 1\n",
    "            print(b, i, len(list_url))\n",
    "            try:\n",
    "                resp = requests.get(f'''{input_.loc[a, 'Url']}&start={i*100}&num=100''',\n",
    "                                     headers=get_header(),\n",
    "                                     proxies=get_proxy(),\n",
    "                                     timeout=(10, 10))\n",
    "                \n",
    "                if resp.status_code == 200:\n",
    "                    break\n",
    "            except KeyboardInterrupt:\n",
    "                break\n",
    "            except:\n",
    "                continue\n",
    "\n",
    "        # = = = = = = = = = = = = = = =\n",
    "\n",
    "        soup = BeautifulSoup(resp.text, 'lxml')\n",
    "        html = etree.HTML(str(soup))\n",
    "\n",
    "        # = = = = = = = = = = = = = = =\n",
    "\n",
    "        list_url += [f'https://www.dormanproducts.com/{href.strip()}' for href in html.xpath('//h2[@class=\"item-headline\"]/a/@href')]\n",
    "        list_url = sorted(list(set(list_url)), key=list_url.index)\n",
    "\n",
    "        # = = = = = = = = = = = = = = =\n",
    "\n",
    "        if len(list_url) == input_.loc[a, 'SKU Count']:\n",
    "            break\n",
    "\n",
    "resp"
   ]
  },
  {
   "cell_type": "code",
   "execution_count": 8,
   "id": "96f1239b-50f9-42d4-b879-831dc05deb48",
   "metadata": {
    "scrolled": true
   },
   "outputs": [
    {
     "data": {
      "text/html": [
       "<div>\n",
       "<style scoped>\n",
       "    .dataframe tbody tr th:only-of-type {\n",
       "        vertical-align: middle;\n",
       "    }\n",
       "\n",
       "    .dataframe tbody tr th {\n",
       "        vertical-align: top;\n",
       "    }\n",
       "\n",
       "    .dataframe thead th {\n",
       "        text-align: right;\n",
       "    }\n",
       "</style>\n",
       "<table border=\"1\" class=\"dataframe\">\n",
       "  <thead>\n",
       "    <tr style=\"text-align: right;\">\n",
       "      <th></th>\n",
       "      <th>No</th>\n",
       "      <th>Url</th>\n",
       "    </tr>\n",
       "  </thead>\n",
       "  <tbody>\n",
       "    <tr>\n",
       "      <th>0</th>\n",
       "      <td>1</td>\n",
       "      <td>https://www.dormanproducts.com/p-9421-w37425.a...</td>\n",
       "    </tr>\n",
       "    <tr>\n",
       "      <th>1</th>\n",
       "      <td>2</td>\n",
       "      <td>https://www.dormanproducts.com/p-21537-w72258....</td>\n",
       "    </tr>\n",
       "    <tr>\n",
       "      <th>2</th>\n",
       "      <td>3</td>\n",
       "      <td>https://www.dormanproducts.com/p-50659-w610165...</td>\n",
       "    </tr>\n",
       "    <tr>\n",
       "      <th>3</th>\n",
       "      <td>4</td>\n",
       "      <td>https://www.dormanproducts.com/p-47833-w610150...</td>\n",
       "    </tr>\n",
       "    <tr>\n",
       "      <th>4</th>\n",
       "      <td>5</td>\n",
       "      <td>https://www.dormanproducts.com/p-50424-w610166...</td>\n",
       "    </tr>\n",
       "    <tr>\n",
       "      <th>...</th>\n",
       "      <td>...</td>\n",
       "      <td>...</td>\n",
       "    </tr>\n",
       "    <tr>\n",
       "      <th>1207</th>\n",
       "      <td>1208</td>\n",
       "      <td>https://www.dormanproducts.com/p-17363-w37323....</td>\n",
       "    </tr>\n",
       "    <tr>\n",
       "      <th>1208</th>\n",
       "      <td>1209</td>\n",
       "      <td>https://www.dormanproducts.com/p-9432-w40823.a...</td>\n",
       "    </tr>\n",
       "    <tr>\n",
       "      <th>1209</th>\n",
       "      <td>1210</td>\n",
       "      <td>https://www.dormanproducts.com/p-21540-w90550....</td>\n",
       "    </tr>\n",
       "    <tr>\n",
       "      <th>1210</th>\n",
       "      <td>1211</td>\n",
       "      <td>https://www.dormanproducts.com/p-54736-963-205...</td>\n",
       "    </tr>\n",
       "    <tr>\n",
       "      <th>1211</th>\n",
       "      <td>1212</td>\n",
       "      <td>https://www.dormanproducts.com/p-31967-w37426....</td>\n",
       "    </tr>\n",
       "  </tbody>\n",
       "</table>\n",
       "<p>1212 rows × 2 columns</p>\n",
       "</div>"
      ],
      "text/plain": [
       "        No                                                Url\n",
       "0        1  https://www.dormanproducts.com/p-9421-w37425.a...\n",
       "1        2  https://www.dormanproducts.com/p-21537-w72258....\n",
       "2        3  https://www.dormanproducts.com/p-50659-w610165...\n",
       "3        4  https://www.dormanproducts.com/p-47833-w610150...\n",
       "4        5  https://www.dormanproducts.com/p-50424-w610166...\n",
       "...    ...                                                ...\n",
       "1207  1208  https://www.dormanproducts.com/p-17363-w37323....\n",
       "1208  1209  https://www.dormanproducts.com/p-9432-w40823.a...\n",
       "1209  1210  https://www.dormanproducts.com/p-21540-w90550....\n",
       "1210  1211  https://www.dormanproducts.com/p-54736-963-205...\n",
       "1211  1212  https://www.dormanproducts.com/p-31967-w37426....\n",
       "\n",
       "[1212 rows x 2 columns]"
      ]
     },
     "execution_count": 8,
     "metadata": {},
     "output_type": "execute_result"
    }
   ],
   "source": [
    "df_temp = pd.DataFrame({'No': [i+1 for i in range(len(list_url))],\n",
    "                        'Url': list_url})\n",
    "\n",
    "output_correct = pd.concat([output_correct, df_temp], ignore_index=True).fillna('')\n",
    "\n",
    "output_correct"
   ]
  },
  {
   "cell_type": "code",
   "execution_count": 9,
   "id": "fc4ed7f6-ed4f-431c-b944-b1690309cdae",
   "metadata": {},
   "outputs": [
    {
     "data": {
      "text/plain": [
       "'ok'"
      ]
     },
     "execution_count": 9,
     "metadata": {},
     "output_type": "execute_result"
    }
   ],
   "source": [
    "crawler_status = 'ok'\n",
    "\n",
    "crawler_status"
   ]
  },
  {
   "cell_type": "code",
   "execution_count": 10,
   "id": "65c745d1-446e-46c5-9dec-819c9f7944d3",
   "metadata": {},
   "outputs": [
    {
     "data": {
      "text/html": [
       "<div>\n",
       "<style scoped>\n",
       "    .dataframe tbody tr th:only-of-type {\n",
       "        vertical-align: middle;\n",
       "    }\n",
       "\n",
       "    .dataframe tbody tr th {\n",
       "        vertical-align: top;\n",
       "    }\n",
       "\n",
       "    .dataframe thead th {\n",
       "        text-align: right;\n",
       "    }\n",
       "</style>\n",
       "<table border=\"1\" class=\"dataframe\">\n",
       "  <thead>\n",
       "    <tr style=\"text-align: right;\">\n",
       "      <th></th>\n",
       "    </tr>\n",
       "  </thead>\n",
       "  <tbody>\n",
       "  </tbody>\n",
       "</table>\n",
       "</div>"
      ],
      "text/plain": [
       "Empty DataFrame\n",
       "Columns: []\n",
       "Index: []"
      ]
     },
     "execution_count": 10,
     "metadata": {},
     "output_type": "execute_result"
    }
   ],
   "source": [
    "if crawler_status == 'error':\n",
    "    output_error = pd.concat([output_error, pd.DataFrame([input_.iloc[a]]).reset_index(drop=True)], ignore_index=True).fillna('')\n",
    "\n",
    "output_error"
   ]
  },
  {
   "cell_type": "code",
   "execution_count": 11,
   "id": "7fd477de",
   "metadata": {},
   "outputs": [
    {
     "data": {
      "text/html": [
       "<div>\n",
       "<style scoped>\n",
       "    .dataframe tbody tr th:only-of-type {\n",
       "        vertical-align: middle;\n",
       "    }\n",
       "\n",
       "    .dataframe tbody tr th {\n",
       "        vertical-align: top;\n",
       "    }\n",
       "\n",
       "    .dataframe thead th {\n",
       "        text-align: right;\n",
       "    }\n",
       "</style>\n",
       "<table border=\"1\" class=\"dataframe\">\n",
       "  <thead>\n",
       "    <tr style=\"text-align: right;\">\n",
       "      <th></th>\n",
       "      <th>No</th>\n",
       "      <th>Url</th>\n",
       "    </tr>\n",
       "  </thead>\n",
       "  <tbody>\n",
       "    <tr>\n",
       "      <th>0</th>\n",
       "      <td>1</td>\n",
       "      <td>https://www.dormanproducts.com/p-9421-w37425.a...</td>\n",
       "    </tr>\n",
       "    <tr>\n",
       "      <th>1</th>\n",
       "      <td>2</td>\n",
       "      <td>https://www.dormanproducts.com/p-21537-w72258....</td>\n",
       "    </tr>\n",
       "    <tr>\n",
       "      <th>2</th>\n",
       "      <td>3</td>\n",
       "      <td>https://www.dormanproducts.com/p-50659-w610165...</td>\n",
       "    </tr>\n",
       "    <tr>\n",
       "      <th>3</th>\n",
       "      <td>4</td>\n",
       "      <td>https://www.dormanproducts.com/p-47833-w610150...</td>\n",
       "    </tr>\n",
       "    <tr>\n",
       "      <th>4</th>\n",
       "      <td>5</td>\n",
       "      <td>https://www.dormanproducts.com/p-50424-w610166...</td>\n",
       "    </tr>\n",
       "    <tr>\n",
       "      <th>...</th>\n",
       "      <td>...</td>\n",
       "      <td>...</td>\n",
       "    </tr>\n",
       "    <tr>\n",
       "      <th>1207</th>\n",
       "      <td>1208</td>\n",
       "      <td>https://www.dormanproducts.com/p-17363-w37323....</td>\n",
       "    </tr>\n",
       "    <tr>\n",
       "      <th>1208</th>\n",
       "      <td>1209</td>\n",
       "      <td>https://www.dormanproducts.com/p-9432-w40823.a...</td>\n",
       "    </tr>\n",
       "    <tr>\n",
       "      <th>1209</th>\n",
       "      <td>1210</td>\n",
       "      <td>https://www.dormanproducts.com/p-21540-w90550....</td>\n",
       "    </tr>\n",
       "    <tr>\n",
       "      <th>1210</th>\n",
       "      <td>1211</td>\n",
       "      <td>https://www.dormanproducts.com/p-54736-963-205...</td>\n",
       "    </tr>\n",
       "    <tr>\n",
       "      <th>1211</th>\n",
       "      <td>1212</td>\n",
       "      <td>https://www.dormanproducts.com/p-31967-w37426....</td>\n",
       "    </tr>\n",
       "  </tbody>\n",
       "</table>\n",
       "<p>1212 rows × 2 columns</p>\n",
       "</div>"
      ],
      "text/plain": [
       "        No                                                Url\n",
       "0        1  https://www.dormanproducts.com/p-9421-w37425.a...\n",
       "1        2  https://www.dormanproducts.com/p-21537-w72258....\n",
       "2        3  https://www.dormanproducts.com/p-50659-w610165...\n",
       "3        4  https://www.dormanproducts.com/p-47833-w610150...\n",
       "4        5  https://www.dormanproducts.com/p-50424-w610166...\n",
       "...    ...                                                ...\n",
       "1207  1208  https://www.dormanproducts.com/p-17363-w37323....\n",
       "1208  1209  https://www.dormanproducts.com/p-9432-w40823.a...\n",
       "1209  1210  https://www.dormanproducts.com/p-21540-w90550....\n",
       "1210  1211  https://www.dormanproducts.com/p-54736-963-205...\n",
       "1211  1212  https://www.dormanproducts.com/p-31967-w37426....\n",
       "\n",
       "[1212 rows x 2 columns]"
      ]
     },
     "execution_count": 11,
     "metadata": {},
     "output_type": "execute_result"
    }
   ],
   "source": [
    "if not output_correct.empty:\n",
    "    output_correct = output_correct.sort_values(by=['No'],\n",
    "                                                ascending=[True],\n",
    "                                                ignore_index=True)\n",
    "    output_correct.to_excel('./test_url.xlsx', index=False)\n",
    "\n",
    "output_correct"
   ]
  },
  {
   "cell_type": "code",
   "execution_count": 12,
   "id": "39a5441b-7f69-4812-aad8-7e10a1a24e78",
   "metadata": {},
   "outputs": [
    {
     "data": {
      "text/html": [
       "<div>\n",
       "<style scoped>\n",
       "    .dataframe tbody tr th:only-of-type {\n",
       "        vertical-align: middle;\n",
       "    }\n",
       "\n",
       "    .dataframe tbody tr th {\n",
       "        vertical-align: top;\n",
       "    }\n",
       "\n",
       "    .dataframe thead th {\n",
       "        text-align: right;\n",
       "    }\n",
       "</style>\n",
       "<table border=\"1\" class=\"dataframe\">\n",
       "  <thead>\n",
       "    <tr style=\"text-align: right;\">\n",
       "      <th></th>\n",
       "    </tr>\n",
       "  </thead>\n",
       "  <tbody>\n",
       "  </tbody>\n",
       "</table>\n",
       "</div>"
      ],
      "text/plain": [
       "Empty DataFrame\n",
       "Columns: []\n",
       "Index: []"
      ]
     },
     "execution_count": 12,
     "metadata": {},
     "output_type": "execute_result"
    }
   ],
   "source": [
    "if not output_error.empty:\n",
    "    output_error = output_error.sort_values(by=['No'],\n",
    "                                            ascending=[True],\n",
    "                                            ignore_index=True)\n",
    "    output_error.to_excel('./test_url_error.xlsx', index=False)\n",
    "\n",
    "output_error"
   ]
  },
  {
   "cell_type": "code",
   "execution_count": null,
   "id": "ba5d9f77-7464-4ad5-a42b-1fa0c0505832",
   "metadata": {},
   "outputs": [],
   "source": []
  }
 ],
 "metadata": {
  "kernelspec": {
   "display_name": "Python 3 (ipykernel)",
   "language": "python",
   "name": "python3"
  },
  "language_info": {
   "codemirror_mode": {
    "name": "ipython",
    "version": 3
   },
   "file_extension": ".py",
   "mimetype": "text/x-python",
   "name": "python",
   "nbconvert_exporter": "python",
   "pygments_lexer": "ipython3",
   "version": "3.11.3"
  }
 },
 "nbformat": 4,
 "nbformat_minor": 5
}
