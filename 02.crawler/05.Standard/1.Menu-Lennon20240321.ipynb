{
 "cells": [
  {
   "cell_type": "code",
   "execution_count": 1,
   "id": "6f77e0f4",
   "metadata": {},
   "outputs": [],
   "source": [
    "param_filter = 'temperature%20sensor'\n",
    "param_start = 1141"
   ]
  },
  {
   "cell_type": "code",
   "execution_count": 2,
   "id": "7457fa97",
   "metadata": {},
   "outputs": [],
   "source": [
    "import pandas as pd"
   ]
  },
  {
   "cell_type": "code",
   "execution_count": 3,
   "id": "43e75cab",
   "metadata": {},
   "outputs": [
    {
     "data": {
      "text/html": [
       "<div>\n",
       "<style scoped>\n",
       "    .dataframe tbody tr th:only-of-type {\n",
       "        vertical-align: middle;\n",
       "    }\n",
       "\n",
       "    .dataframe tbody tr th {\n",
       "        vertical-align: top;\n",
       "    }\n",
       "\n",
       "    .dataframe thead th {\n",
       "        text-align: right;\n",
       "    }\n",
       "</style>\n",
       "<table border=\"1\" class=\"dataframe\">\n",
       "  <thead>\n",
       "    <tr style=\"text-align: right;\">\n",
       "      <th></th>\n",
       "      <th>No.</th>\n",
       "      <th>Url</th>\n",
       "    </tr>\n",
       "  </thead>\n",
       "  <tbody>\n",
       "    <tr>\n",
       "      <th>0</th>\n",
       "      <td>1</td>\n",
       "      <td>https://ecatalog.smpcorp.com/V2/STD/api/part/p...</td>\n",
       "    </tr>\n",
       "    <tr>\n",
       "      <th>1</th>\n",
       "      <td>2</td>\n",
       "      <td>https://ecatalog.smpcorp.com/V2/STD/api/part/p...</td>\n",
       "    </tr>\n",
       "    <tr>\n",
       "      <th>2</th>\n",
       "      <td>3</td>\n",
       "      <td>https://ecatalog.smpcorp.com/V2/STD/api/part/p...</td>\n",
       "    </tr>\n",
       "    <tr>\n",
       "      <th>3</th>\n",
       "      <td>4</td>\n",
       "      <td>https://ecatalog.smpcorp.com/V2/STD/api/part/p...</td>\n",
       "    </tr>\n",
       "    <tr>\n",
       "      <th>4</th>\n",
       "      <td>5</td>\n",
       "      <td>https://ecatalog.smpcorp.com/V2/STD/api/part/p...</td>\n",
       "    </tr>\n",
       "    <tr>\n",
       "      <th>...</th>\n",
       "      <td>...</td>\n",
       "      <td>...</td>\n",
       "    </tr>\n",
       "    <tr>\n",
       "      <th>1136</th>\n",
       "      <td>1137</td>\n",
       "      <td>https://ecatalog.smpcorp.com/V2/STD/api/part/p...</td>\n",
       "    </tr>\n",
       "    <tr>\n",
       "      <th>1137</th>\n",
       "      <td>1138</td>\n",
       "      <td>https://ecatalog.smpcorp.com/V2/STD/api/part/p...</td>\n",
       "    </tr>\n",
       "    <tr>\n",
       "      <th>1138</th>\n",
       "      <td>1139</td>\n",
       "      <td>https://ecatalog.smpcorp.com/V2/STD/api/part/p...</td>\n",
       "    </tr>\n",
       "    <tr>\n",
       "      <th>1139</th>\n",
       "      <td>1140</td>\n",
       "      <td>https://ecatalog.smpcorp.com/V2/STD/api/part/p...</td>\n",
       "    </tr>\n",
       "    <tr>\n",
       "      <th>1140</th>\n",
       "      <td>1141</td>\n",
       "      <td>https://ecatalog.smpcorp.com/V2/STD/api/part/p...</td>\n",
       "    </tr>\n",
       "  </tbody>\n",
       "</table>\n",
       "<p>1141 rows × 2 columns</p>\n",
       "</div>"
      ],
      "text/plain": [
       "       No.                                                Url\n",
       "0        1  https://ecatalog.smpcorp.com/V2/STD/api/part/p...\n",
       "1        2  https://ecatalog.smpcorp.com/V2/STD/api/part/p...\n",
       "2        3  https://ecatalog.smpcorp.com/V2/STD/api/part/p...\n",
       "3        4  https://ecatalog.smpcorp.com/V2/STD/api/part/p...\n",
       "4        5  https://ecatalog.smpcorp.com/V2/STD/api/part/p...\n",
       "...    ...                                                ...\n",
       "1136  1137  https://ecatalog.smpcorp.com/V2/STD/api/part/p...\n",
       "1137  1138  https://ecatalog.smpcorp.com/V2/STD/api/part/p...\n",
       "1138  1139  https://ecatalog.smpcorp.com/V2/STD/api/part/p...\n",
       "1139  1140  https://ecatalog.smpcorp.com/V2/STD/api/part/p...\n",
       "1140  1141  https://ecatalog.smpcorp.com/V2/STD/api/part/p...\n",
       "\n",
       "[1141 rows x 2 columns]"
      ]
     },
     "execution_count": 3,
     "metadata": {},
     "output_type": "execute_result"
    }
   ],
   "source": [
    "df = pd.DataFrame({'No.': [i+1 for i in range(param_start)],\n",
    "                   'Url': ['https://ecatalog.smpcorp.com/V2/STD/api/part/partsearch?filter=' + param_filter + '&filterType=s&searchType=p&imageSize=80&start=' + str(_) + '&limit=1&sort=3&catFilter=-All-&yearFilter=-All-&makeFilter=-All-&modelFilter=-All-&engineFilter=-All-&attrCodeFilter=-All-&attrValueFilter=-All-&plkEngineMakeFilter=-All-&plkEngineModelFilter=-All-&plkEngineDispFilter=-All-' for _ in range(param_start)]})\n",
    "\n",
    "df.to_excel('./menu.xlsx', index=False)\n",
    "\n",
    "df"
   ]
  },
  {
   "cell_type": "code",
   "execution_count": null,
   "id": "60094d07",
   "metadata": {},
   "outputs": [],
   "source": []
  }
 ],
 "metadata": {
  "kernelspec": {
   "display_name": "Python 3 (ipykernel)",
   "language": "python",
   "name": "python3"
  },
  "language_info": {
   "codemirror_mode": {
    "name": "ipython",
    "version": 3
   },
   "file_extension": ".py",
   "mimetype": "text/x-python",
   "name": "python",
   "nbconvert_exporter": "python",
   "pygments_lexer": "ipython3",
   "version": "3.11.3"
  }
 },
 "nbformat": 4,
 "nbformat_minor": 5
}
