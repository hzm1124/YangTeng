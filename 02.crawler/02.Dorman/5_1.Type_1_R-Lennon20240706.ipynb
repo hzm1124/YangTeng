{
 "cells": [
  {
   "cell_type": "code",
   "execution_count": 1,
   "id": "a3ab352a-d243-44f8-b85e-b4f88454ef50",
   "metadata": {},
   "outputs": [],
   "source": [
    "param_date = '20240706'"
   ]
  },
  {
   "cell_type": "code",
   "execution_count": 2,
   "id": "d11d4e10-6867-494b-8274-1d8c69794375",
   "metadata": {
    "scrolled": true
   },
   "outputs": [
    {
     "data": {
      "text/plain": [
       "['make_1.AC.xlsx',\n",
       " 'make_10.American LaFrance.xlsx',\n",
       " 'make_100.Lamborghini.xlsx',\n",
       " 'make_101.Lancia.xlsx',\n",
       " 'make_102.Land Rover.xlsx',\n",
       " 'make_103.Lexus.xlsx',\n",
       " 'make_104.Lincoln.xlsx',\n",
       " 'make_105.Lion.xlsx',\n",
       " 'make_106.Lotus.xlsx',\n",
       " 'make_107.MG.xlsx',\n",
       " 'make_108.Mack.xlsx',\n",
       " 'make_109.Maple Leaf Truck.xlsx',\n",
       " 'make_11.American Motors.xlsx',\n",
       " 'make_110.Maserati.xlsx',\n",
       " 'make_111.Maybach.xlsx',\n",
       " 'make_112.Mazda.xlsx',\n",
       " 'make_113.Mercedes-Benz.xlsx',\n",
       " 'make_114.Mercury.xlsx',\n",
       " 'make_115.Merkur.xlsx',\n",
       " 'make_116.Metropolitan.xlsx',\n",
       " 'make_117.Mini.xlsx',\n",
       " 'make_118.Mitsubishi.xlsx',\n",
       " 'make_119.Mitsubishi Fuso.xlsx',\n",
       " 'make_12.Aston Martin.xlsx',\n",
       " 'make_120.Mobility Ventures.xlsx',\n",
       " 'make_121.Monaco Coach.xlsx',\n",
       " 'make_122.Motor Coach Industries.xlsx',\n",
       " 'make_123.Nash.xlsx',\n",
       " 'make_124.National RV.xlsx',\n",
       " 'make_125.Neoplan.xlsx',\n",
       " 'make_126.New Flyer.xlsx',\n",
       " 'make_127.Newmar.xlsx',\n",
       " 'make_128.Nexus.xlsx',\n",
       " 'make_129.Nissan.xlsx',\n",
       " 'make_13.Asuna.xlsx',\n",
       " 'make_130.Nova Bus Corporation.xlsx',\n",
       " 'make_131.Oldsmobile.xlsx',\n",
       " 'make_132.Ontario Bus.xlsx',\n",
       " 'make_133.Opel.xlsx',\n",
       " 'make_134.Orion Bus.xlsx',\n",
       " 'make_135.Oshkosh Motor Truck Co..xlsx',\n",
       " 'make_136.PEMFAB.xlsx',\n",
       " 'make_137.PIERCE.xlsx',\n",
       " 'make_138.Packard.xlsx',\n",
       " 'make_139.Peterbilt.xlsx',\n",
       " 'make_14.Audi.xlsx',\n",
       " 'make_140.Peugeot.xlsx',\n",
       " 'make_141.Pierce Mfg. Inc..xlsx',\n",
       " 'make_142.Plymouth.xlsx',\n",
       " 'make_143.Pontiac.xlsx',\n",
       " 'make_144.Porsche.xlsx',\n",
       " 'make_145.REO Truck.xlsx',\n",
       " 'make_146.Ram.xlsx',\n",
       " 'make_147.Renault.xlsx',\n",
       " 'make_148.Renegade.xlsx',\n",
       " 'make_149.Roadmaster Rail.xlsx',\n",
       " 'make_15.Austin.xlsx',\n",
       " 'make_150.Rolls-Royce.xlsx',\n",
       " 'make_151.Rover.xlsx',\n",
       " 'make_152.SAVAGE.xlsx',\n",
       " 'make_153.SCHMIDT.xlsx',\n",
       " 'make_154.SEAGRAVE.xlsx',\n",
       " 'make_155.SMI.xlsx',\n",
       " 'make_156.SPARTAN.xlsx',\n",
       " 'make_157.SRT.xlsx',\n",
       " 'make_158.SUTPHEN.xlsx',\n",
       " 'make_159.Saab.xlsx',\n",
       " 'make_16.Autocar.xlsx',\n",
       " 'make_160.Saturn.xlsx',\n",
       " 'make_161.Scion.xlsx',\n",
       " 'make_162.Seat.xlsx',\n",
       " 'make_163.Shelby.xlsx',\n",
       " 'make_164.Simca.xlsx',\n",
       " 'make_165.Smart.xlsx',\n",
       " 'make_166.Spartan Motors.xlsx',\n",
       " 'make_167.Sterling.xlsx',\n",
       " 'make_168.Sterling Truck.xlsx',\n",
       " 'make_169.Studebaker.xlsx',\n",
       " 'make_17.Autocar LLC..xlsx',\n",
       " 'make_170.Subaru.xlsx',\n",
       " 'make_171.Sunbeam.xlsx',\n",
       " 'make_172.Suzuki.xlsx',\n",
       " 'make_173.Temsa Bus.xlsx',\n",
       " 'make_174.Tesla.xlsx',\n",
       " 'make_175.Thomas.xlsx',\n",
       " 'make_176.Thor Motor Coach.xlsx',\n",
       " 'make_177.Tiffin.xlsx',\n",
       " 'make_178.Toyota.xlsx',\n",
       " 'make_179.Transportation Mfg Corp..xlsx',\n",
       " 'make_18.BMW.xlsx',\n",
       " 'make_180.Triumph.xlsx',\n",
       " 'make_181.UD.xlsx',\n",
       " 'make_182.Unimog.xlsx',\n",
       " 'make_183.VPG.xlsx',\n",
       " 'make_184.Van Hool.xlsx',\n",
       " 'make_185.Volkswagen.xlsx',\n",
       " 'make_186.Volvo.xlsx',\n",
       " 'make_187.Western RV.xlsx',\n",
       " 'make_188.Western Star.xlsx',\n",
       " 'make_189.White Truck.xlsx',\n",
       " 'make_19.Bentley.xlsx',\n",
       " 'make_190.White\\\\GMC.xlsx',\n",
       " 'make_191.Willys.xlsx',\n",
       " 'make_192.Winnebago.xlsx',\n",
       " 'make_193.Workhorse.xlsx',\n",
       " 'make_194.Workhorse Custom Chassis.xlsx',\n",
       " 'make_195.Yugo.xlsx',\n",
       " 'make_2.AM General.xlsx',\n",
       " 'make_20.Bering.xlsx',\n",
       " 'make_21.Bertone.xlsx',\n",
       " 'make_22.Blue Bird.xlsx',\n",
       " 'make_23.Bricklin.xlsx',\n",
       " 'make_24.Brockway.xlsx',\n",
       " 'make_25.Bugatti.xlsx',\n",
       " 'make_26.Buick.xlsx',\n",
       " 'make_27.Bus and Coach Intl (BCI).xlsx',\n",
       " 'make_28.Cadillac.xlsx',\n",
       " 'make_29.Capacity Of Texas.xlsx',\n",
       " 'make_3.AMERTEK.xlsx',\n",
       " 'make_30.Caterpillar.xlsx',\n",
       " 'make_31.Checker.xlsx',\n",
       " 'make_32.Chevrolet.xlsx',\n",
       " 'make_33.Chrysler.xlsx',\n",
       " 'make_34.Citroen.xlsx',\n",
       " 'make_35.Coachmen.xlsx',\n",
       " 'make_36.Country Coach.xlsx',\n",
       " 'make_37.Country Coach Motorhome.xlsx',\n",
       " 'make_38.Crane Carrier.xlsx',\n",
       " 'make_39.Crown Coach.xlsx',\n",
       " 'make_4.ATC.xlsx',\n",
       " 'make_40.DIAMOND.xlsx',\n",
       " 'make_41.Daewoo.xlsx',\n",
       " 'make_42.Daihatsu.xlsx',\n",
       " 'make_43.Damon.xlsx',\n",
       " 'make_44.DeLorean.xlsx',\n",
       " 'make_45.DeSoto.xlsx',\n",
       " 'make_46.Dennis Eagle.xlsx',\n",
       " 'make_47.Diamond Reo.xlsx',\n",
       " 'make_48.Diamond T.xlsx',\n",
       " 'make_49.Dina.xlsx',\n",
       " 'make_5.Acura.xlsx',\n",
       " 'make_50.Divco.xlsx',\n",
       " 'make_51.Dodge.xlsx',\n",
       " 'make_52.Dynamax Corp.xlsx',\n",
       " 'make_53.E-ONE.xlsx',\n",
       " 'make_54.Eagle.xlsx',\n",
       " 'make_55.Edsel.xlsx',\n",
       " 'make_56.El Dorado.xlsx',\n",
       " 'make_57.Emergency One.xlsx',\n",
       " 'make_58.Entegra Coach.xlsx',\n",
       " 'make_59.FWD.xlsx',\n",
       " 'make_6.Advance Mixer.xlsx',\n",
       " 'make_60.FWD Corporation.xlsx',\n",
       " 'make_61.Federal Motors.xlsx',\n",
       " 'make_62.Federal Truck.xlsx',\n",
       " 'make_63.Ferrari.xlsx',\n",
       " 'make_64.Fiat.xlsx',\n",
       " 'make_65.Fleetwood.xlsx',\n",
       " 'make_66.Ford.xlsx',\n",
       " 'make_67.Forest River.xlsx',\n",
       " 'make_68.Foretravel Motorhome.xlsx',\n",
       " 'make_69.Frazer.xlsx',\n",
       " 'make_7.Alexander Dennis.xlsx',\n",
       " 'make_70.Freightliner.xlsx',\n",
       " 'make_71.GMC.xlsx',\n",
       " 'make_72.GRUMMAN.xlsx',\n",
       " 'make_73.Genesis.xlsx',\n",
       " 'make_74.Geo.xlsx',\n",
       " 'make_75.Gillig.xlsx',\n",
       " 'make_76.Grande West.xlsx',\n",
       " 'make_77.Gulf Stream.xlsx',\n",
       " 'make_78.HME.xlsx',\n",
       " 'make_79.Hino.xlsx',\n",
       " 'make_8.Alfa Romeo.xlsx',\n",
       " 'make_80.Holiday Rambler.xlsx',\n",
       " 'make_81.Honda.xlsx',\n",
       " 'make_82.Hudson.xlsx',\n",
       " 'make_83.Hummer.xlsx',\n",
       " 'make_84.Hyundai.xlsx',\n",
       " 'make_85.IC.xlsx',\n",
       " 'make_86.IC Corporation.xlsx',\n",
       " 'make_87.Infiniti.xlsx',\n",
       " 'make_88.International.xlsx',\n",
       " 'make_89.Isuzu.xlsx',\n",
       " 'make_9.American Coach.xlsx',\n",
       " 'make_90.Itasca.xlsx',\n",
       " 'make_91.Jaguar.xlsx',\n",
       " 'make_92.Jayco.xlsx',\n",
       " 'make_93.Jeep.xlsx',\n",
       " 'make_94.KME.xlsx',\n",
       " 'make_95.Kaiser.xlsx',\n",
       " 'make_96.Kalmar.xlsx',\n",
       " 'make_97.Kenworth.xlsx',\n",
       " 'make_98.Kia.xlsx',\n",
       " 'make_99.Lada.xlsx']"
      ]
     },
     "execution_count": 2,
     "metadata": {},
     "output_type": "execute_result"
    }
   ],
   "source": [
    "import os\n",
    "\n",
    "list_file = sorted(list(os.walk(f'./{param_date}/4.model_2/'))[0][2])\n",
    "while '.DS_Store' in list_file:\n",
    "    list_file.remove('.DS_Store')\n",
    "while '0.null.txt' in list_file:\n",
    "    list_file.remove('0.null.txt')\n",
    "\n",
    "list_file"
   ]
  },
  {
   "cell_type": "code",
   "execution_count": 3,
   "id": "0f895146-2f35-41dd-8ee9-d7f9429ec581",
   "metadata": {},
   "outputs": [
    {
     "data": {
      "text/plain": [
       "'make_1.AC.xlsx'"
      ]
     },
     "execution_count": 3,
     "metadata": {},
     "output_type": "execute_result"
    }
   ],
   "source": [
    "file = list_file[0]\n",
    "\n",
    "file"
   ]
  },
  {
   "cell_type": "code",
   "execution_count": 4,
   "id": "783f89be-0cdc-4912-942e-895cc5f09840",
   "metadata": {},
   "outputs": [],
   "source": [
    "import pandas as pd\n",
    "\n",
    "output_correct, output_error = pd.DataFrame(), pd.DataFrame()"
   ]
  },
  {
   "cell_type": "code",
   "execution_count": 5,
   "id": "1c28f4ff-eee5-4220-a711-cc2f93fe08f0",
   "metadata": {
    "scrolled": true
   },
   "outputs": [
    {
     "name": "stdout",
     "output_type": "stream",
     "text": [
      "总数量：3\n"
     ]
    },
    {
     "data": {
      "text/plain": [
       "['Shelby Cobra', 'Shelby Cobra', 'Shelby Cobra']"
      ]
     },
     "execution_count": 5,
     "metadata": {},
     "output_type": "execute_result"
    }
   ],
   "source": [
    "input_ = pd.read_excel(f'./{param_date}/4.model_2/{file}',\n",
    "                       header=0,\n",
    "                       dtype=str).fillna('')\n",
    "\n",
    "input_['Year'] = input_['Year'].astype(int)\n",
    "input_['Make No'] = input_['Make No'].astype(int)\n",
    "input_['Model No'] = input_['Model No'].astype(int)\n",
    "\n",
    "print(f'总数量：{len(input_)}')\n",
    "input_['Model'].tolist()"
   ]
  },
  {
   "cell_type": "code",
   "execution_count": 6,
   "id": "5532440c-308c-43a0-9fdb-c4d6ee1f4b44",
   "metadata": {},
   "outputs": [
    {
     "data": {
      "text/plain": [
       "0"
      ]
     },
     "execution_count": 6,
     "metadata": {},
     "output_type": "execute_result"
    }
   ],
   "source": [
    "a = 0\n",
    "\n",
    "a"
   ]
  },
  {
   "cell_type": "code",
   "execution_count": 7,
   "id": "9f61dd65-55da-4d0b-ba30-d0534eff0781",
   "metadata": {},
   "outputs": [
    {
     "data": {
      "text/plain": [
       "'error'"
      ]
     },
     "execution_count": 7,
     "metadata": {},
     "output_type": "execute_result"
    }
   ],
   "source": [
    "crawler_status = 'error'\n",
    "\n",
    "crawler_status"
   ]
  },
  {
   "cell_type": "code",
   "execution_count": 8,
   "id": "523cc867",
   "metadata": {
    "scrolled": true
   },
   "outputs": [
    {
     "data": {
      "text/plain": [
       "'{\"d\":\"\\\\u003cselect id=\\\\\"parttypeDropdown\\\\\" name=\\\\\"parttypeDropdown\\\\\" onchange=\\\\\"showResults(this);\\\\\" class=\\\\\"form-control\\\\\"\\\\u003e\\\\n\\\\u003coption value=\\\\\"0\\\\\"  disabled\\\\u003e{0}\\\\u003c/option\\\\u003e\\\\n\\\\u003coption value=\\\\\"10420\\\\\"  \\\\u003eBrake Adjusting Screw Spring Kit\\\\u003c/option\\\\u003e\\\\n\\\\u003coption value=\\\\\"1572\\\\\"  \\\\u003eTurn Signal Cam\\\\u003c/option\\\\u003e\\\\n\\\\u003c/select\\\\u003e\"}'"
      ]
     },
     "execution_count": 8,
     "metadata": {},
     "output_type": "execute_result"
    }
   ],
   "source": [
    "import requests\n",
    "import json\n",
    "\n",
    "import sys\n",
    "sys.path.append('../00.Tools')\n",
    "from crawler_configuration import get_ua, get_proxy\n",
    "\n",
    "data = {'cssClass': 'form-control',\n",
    "        'dropdownType': '3',\n",
    "        'selectedValue': '',\n",
    "        'vehicleAttributes': {'Make': f'''{input_.loc[a, 'Make']}''',\n",
    "                              'MakeID': f'''{input_.loc[a, 'Make Code']}''',\n",
    "                              'ModelID': f'''{input_.loc[a, 'Model Code']}''',\n",
    "                              'SkinID': '1',\n",
    "                              'Year': f'''{input_.loc[a, 'Year']}'''}}\n",
    "\n",
    "resp = requests.post('https://www.dormanproducts.com/ApplicationGuideService.asmx/BuildDropdown',\n",
    "                     data=json.dumps(data),\n",
    "                     headers=get_ua(**{'Content-Type': 'application/json; charset=UTF-8'}),\n",
    "                     proxies=get_proxy(),\n",
    "                     timeout=(10, 10)).text\n",
    "\n",
    "resp"
   ]
  },
  {
   "cell_type": "code",
   "execution_count": 9,
   "id": "3be6677e-d86b-4f58-a0d7-fb2636a4bf34",
   "metadata": {},
   "outputs": [
    {
     "data": {
      "text/plain": [
       "{'d': '<select id=\"parttypeDropdown\" name=\"parttypeDropdown\" onchange=\"showResults(this);\" class=\"form-control\">\\n<option value=\"0\"  disabled>{0}</option>\\n<option value=\"10420\"  >Brake Adjusting Screw Spring Kit</option>\\n<option value=\"1572\"  >Turn Signal Cam</option>\\n</select>'}"
      ]
     },
     "execution_count": 9,
     "metadata": {},
     "output_type": "execute_result"
    }
   ],
   "source": [
    "json_ = json.loads(resp.strip())\n",
    "\n",
    "json_"
   ]
  },
  {
   "cell_type": "code",
   "execution_count": 10,
   "id": "86ef5f53-4ba1-4024-af2a-5ad7c6898c6a",
   "metadata": {
    "scrolled": true
   },
   "outputs": [
    {
     "name": "stdout",
     "output_type": "stream",
     "text": [
      "<html>\n",
      " <body>\n",
      "  <select class=\"form-control\" id=\"parttypeDropdown\" name=\"parttypeDropdown\" onchange=\"showResults(this);\">\n",
      "   <option disabled=\"\" value=\"0\">\n",
      "    {0}\n",
      "   </option>\n",
      "   <option value=\"10420\">\n",
      "    Brake Adjusting Screw Spring Kit\n",
      "   </option>\n",
      "   <option value=\"1572\">\n",
      "    Turn Signal Cam\n",
      "   </option>\n",
      "  </select>\n",
      " </body>\n",
      "</html>\n",
      "\n"
     ]
    }
   ],
   "source": [
    "from bs4 import BeautifulSoup\n",
    "from lxml import etree\n",
    "\n",
    "soup = BeautifulSoup(json_['d'].strip(), 'lxml')\n",
    "html = etree.HTML(str(soup))\n",
    "\n",
    "with open('./type_1.html', 'w', encoding='UTF-8') as file:\n",
    "    file.write(str(soup))\n",
    "\n",
    "print(soup.prettify())"
   ]
  },
  {
   "cell_type": "code",
   "execution_count": 11,
   "id": "3befeac4-5316-4a9b-8e6e-6d86058b0d5c",
   "metadata": {},
   "outputs": [
    {
     "data": {
      "text/plain": [
       "['10420', '1572']"
      ]
     },
     "execution_count": 11,
     "metadata": {},
     "output_type": "execute_result"
    }
   ],
   "source": [
    "list_type_code = html.xpath('//select[@id=\"parttypeDropdown\"]/option/@value')[1:]\n",
    "\n",
    "list_type_code"
   ]
  },
  {
   "cell_type": "code",
   "execution_count": 12,
   "id": "39216933-52b3-4261-924c-cfcfddab201b",
   "metadata": {},
   "outputs": [
    {
     "data": {
      "text/plain": [
       "False"
      ]
     },
     "execution_count": 12,
     "metadata": {},
     "output_type": "execute_result"
    }
   ],
   "source": [
    "len(list_type_code) == 0"
   ]
  },
  {
   "cell_type": "code",
   "execution_count": 13,
   "id": "4dbb3897-5cba-4e2c-95ba-9c60454d7095",
   "metadata": {},
   "outputs": [
    {
     "data": {
      "text/plain": [
       "['Brake Adjusting Screw Spring Kit', 'Turn Signal Cam']"
      ]
     },
     "execution_count": 13,
     "metadata": {},
     "output_type": "execute_result"
    }
   ],
   "source": [
    "list_type = html.xpath('//select[@id=\"parttypeDropdown\"]/option/text()')[1:]\n",
    "\n",
    "list_type"
   ]
  },
  {
   "cell_type": "code",
   "execution_count": 14,
   "id": "96f1239b-50f9-42d4-b879-831dc05deb48",
   "metadata": {},
   "outputs": [
    {
     "data": {
      "text/html": [
       "<div>\n",
       "<style scoped>\n",
       "    .dataframe tbody tr th:only-of-type {\n",
       "        vertical-align: middle;\n",
       "    }\n",
       "\n",
       "    .dataframe tbody tr th {\n",
       "        vertical-align: top;\n",
       "    }\n",
       "\n",
       "    .dataframe thead th {\n",
       "        text-align: right;\n",
       "    }\n",
       "</style>\n",
       "<table border=\"1\" class=\"dataframe\">\n",
       "  <thead>\n",
       "    <tr style=\"text-align: right;\">\n",
       "      <th></th>\n",
       "      <th>Year</th>\n",
       "      <th>Make No</th>\n",
       "      <th>Make</th>\n",
       "      <th>Make Code</th>\n",
       "      <th>Model No</th>\n",
       "      <th>Model</th>\n",
       "      <th>Model Code</th>\n",
       "      <th>Type No</th>\n",
       "      <th>Type</th>\n",
       "      <th>Type Code</th>\n",
       "      <th>Type Url</th>\n",
       "    </tr>\n",
       "  </thead>\n",
       "  <tbody>\n",
       "    <tr>\n",
       "      <th>0</th>\n",
       "      <td>1971</td>\n",
       "      <td>1</td>\n",
       "      <td>AC</td>\n",
       "      <td>457</td>\n",
       "      <td>1</td>\n",
       "      <td>Shelby Cobra</td>\n",
       "      <td>21378</td>\n",
       "      <td>1</td>\n",
       "      <td>Brake Adjusting Screw Spring Kit</td>\n",
       "      <td>10420</td>\n",
       "      <td>https://www.dormanproducts.com/gsearch.aspx?ty...</td>\n",
       "    </tr>\n",
       "    <tr>\n",
       "      <th>1</th>\n",
       "      <td>1971</td>\n",
       "      <td>1</td>\n",
       "      <td>AC</td>\n",
       "      <td>457</td>\n",
       "      <td>1</td>\n",
       "      <td>Shelby Cobra</td>\n",
       "      <td>21378</td>\n",
       "      <td>2</td>\n",
       "      <td>Turn Signal Cam</td>\n",
       "      <td>1572</td>\n",
       "      <td>https://www.dormanproducts.com/gsearch.aspx?ty...</td>\n",
       "    </tr>\n",
       "  </tbody>\n",
       "</table>\n",
       "</div>"
      ],
      "text/plain": [
       "   Year  Make No Make Make Code  Model No         Model Model Code  Type No  \\\n",
       "0  1971        1   AC       457         1  Shelby Cobra      21378        1   \n",
       "1  1971        1   AC       457         1  Shelby Cobra      21378        2   \n",
       "\n",
       "                               Type Type Code  \\\n",
       "0  Brake Adjusting Screw Spring Kit     10420   \n",
       "1                   Turn Signal Cam      1572   \n",
       "\n",
       "                                            Type Url  \n",
       "0  https://www.dormanproducts.com/gsearch.aspx?ty...  \n",
       "1  https://www.dormanproducts.com/gsearch.aspx?ty...  "
      ]
     },
     "execution_count": 14,
     "metadata": {},
     "output_type": "execute_result"
    }
   ],
   "source": [
    "df_temp = pd.DataFrame({'Year': input_.loc[a, 'Year'],\n",
    "                        'Make No': input_.loc[a, 'Make No'],\n",
    "                        'Make': input_.loc[a, 'Make'],\n",
    "                        'Make Code': input_.loc[a, 'Make Code'],\n",
    "                        'Model No': input_.loc[a, 'Model No'],\n",
    "                        'Model': input_.loc[a, 'Model'],\n",
    "                        'Model Code': input_.loc[a, 'Model Code'],\n",
    "                        'Type No': [i+1 for i in range(len(list_type))],\n",
    "                        'Type': list_type,\n",
    "                        'Type Code': list_type_code,\n",
    "                        'Type Url': [f'https://www.dormanproducts.com/gsearch.aspx?type=keyword&q={type_}' for type_ in list_type]})\n",
    "\n",
    "output_correct = pd.concat([output_correct, df_temp], ignore_index=True).fillna('')\n",
    "\n",
    "output_correct"
   ]
  },
  {
   "cell_type": "code",
   "execution_count": 15,
   "id": "fc4ed7f6-ed4f-431c-b944-b1690309cdae",
   "metadata": {},
   "outputs": [
    {
     "data": {
      "text/plain": [
       "'ok'"
      ]
     },
     "execution_count": 15,
     "metadata": {},
     "output_type": "execute_result"
    }
   ],
   "source": [
    "crawler_status = 'ok'\n",
    "\n",
    "crawler_status"
   ]
  },
  {
   "cell_type": "code",
   "execution_count": 16,
   "id": "65c745d1-446e-46c5-9dec-819c9f7944d3",
   "metadata": {},
   "outputs": [
    {
     "data": {
      "text/html": [
       "<div>\n",
       "<style scoped>\n",
       "    .dataframe tbody tr th:only-of-type {\n",
       "        vertical-align: middle;\n",
       "    }\n",
       "\n",
       "    .dataframe tbody tr th {\n",
       "        vertical-align: top;\n",
       "    }\n",
       "\n",
       "    .dataframe thead th {\n",
       "        text-align: right;\n",
       "    }\n",
       "</style>\n",
       "<table border=\"1\" class=\"dataframe\">\n",
       "  <thead>\n",
       "    <tr style=\"text-align: right;\">\n",
       "      <th></th>\n",
       "    </tr>\n",
       "  </thead>\n",
       "  <tbody>\n",
       "  </tbody>\n",
       "</table>\n",
       "</div>"
      ],
      "text/plain": [
       "Empty DataFrame\n",
       "Columns: []\n",
       "Index: []"
      ]
     },
     "execution_count": 16,
     "metadata": {},
     "output_type": "execute_result"
    }
   ],
   "source": [
    "if crawler_status == 'error':\n",
    "    df_temp = pd.DataFrame([{'Year': input_.loc[a, 'Year'],\n",
    "                             'Make No': input_.loc[a, 'Make No'],\n",
    "                             'Make': input_.loc[a, 'Make'],\n",
    "                             'Make Code': input_.loc[a, 'Make Code'],\n",
    "                             'Model No': input_.loc[a, 'Model No'],\n",
    "                             'Model': input_.loc[a, 'Model'],\n",
    "                             'Model Code': input_.loc[a, 'Model Code']}])\n",
    "\n",
    "    output_error = pd.concat([output_error, df_temp], ignore_index=True).fillna('')\n",
    "\n",
    "output_error"
   ]
  },
  {
   "cell_type": "code",
   "execution_count": 17,
   "id": "7fd477de",
   "metadata": {},
   "outputs": [
    {
     "data": {
      "text/html": [
       "<div>\n",
       "<style scoped>\n",
       "    .dataframe tbody tr th:only-of-type {\n",
       "        vertical-align: middle;\n",
       "    }\n",
       "\n",
       "    .dataframe tbody tr th {\n",
       "        vertical-align: top;\n",
       "    }\n",
       "\n",
       "    .dataframe thead th {\n",
       "        text-align: right;\n",
       "    }\n",
       "</style>\n",
       "<table border=\"1\" class=\"dataframe\">\n",
       "  <thead>\n",
       "    <tr style=\"text-align: right;\">\n",
       "      <th></th>\n",
       "      <th>Year</th>\n",
       "      <th>Make No</th>\n",
       "      <th>Make</th>\n",
       "      <th>Make Code</th>\n",
       "      <th>Model No</th>\n",
       "      <th>Model</th>\n",
       "      <th>Model Code</th>\n",
       "      <th>Type No</th>\n",
       "      <th>Type</th>\n",
       "      <th>Type Code</th>\n",
       "      <th>Type Url</th>\n",
       "    </tr>\n",
       "  </thead>\n",
       "  <tbody>\n",
       "    <tr>\n",
       "      <th>0</th>\n",
       "      <td>1971</td>\n",
       "      <td>1</td>\n",
       "      <td>AC</td>\n",
       "      <td>457</td>\n",
       "      <td>1</td>\n",
       "      <td>Shelby Cobra</td>\n",
       "      <td>21378</td>\n",
       "      <td>1</td>\n",
       "      <td>Brake Adjusting Screw Spring Kit</td>\n",
       "      <td>10420</td>\n",
       "      <td>https://www.dormanproducts.com/gsearch.aspx?ty...</td>\n",
       "    </tr>\n",
       "    <tr>\n",
       "      <th>1</th>\n",
       "      <td>1971</td>\n",
       "      <td>1</td>\n",
       "      <td>AC</td>\n",
       "      <td>457</td>\n",
       "      <td>1</td>\n",
       "      <td>Shelby Cobra</td>\n",
       "      <td>21378</td>\n",
       "      <td>2</td>\n",
       "      <td>Turn Signal Cam</td>\n",
       "      <td>1572</td>\n",
       "      <td>https://www.dormanproducts.com/gsearch.aspx?ty...</td>\n",
       "    </tr>\n",
       "  </tbody>\n",
       "</table>\n",
       "</div>"
      ],
      "text/plain": [
       "   Year  Make No Make Make Code  Model No         Model Model Code  Type No  \\\n",
       "0  1971        1   AC       457         1  Shelby Cobra      21378        1   \n",
       "1  1971        1   AC       457         1  Shelby Cobra      21378        2   \n",
       "\n",
       "                               Type Type Code  \\\n",
       "0  Brake Adjusting Screw Spring Kit     10420   \n",
       "1                   Turn Signal Cam      1572   \n",
       "\n",
       "                                            Type Url  \n",
       "0  https://www.dormanproducts.com/gsearch.aspx?ty...  \n",
       "1  https://www.dormanproducts.com/gsearch.aspx?ty...  "
      ]
     },
     "execution_count": 17,
     "metadata": {},
     "output_type": "execute_result"
    }
   ],
   "source": [
    "if not output_correct.empty:\n",
    "    output_correct = output_correct.sort_values(by=['Year', 'Make No', 'Model No', 'Type No'],\n",
    "                                                ascending=[False, True, True, True],\n",
    "                                                ignore_index=True)\n",
    "    output_correct.to_excel('./test_type_1.xlsx', index=False)\n",
    "\n",
    "output_correct"
   ]
  },
  {
   "cell_type": "code",
   "execution_count": 18,
   "id": "39a5441b-7f69-4812-aad8-7e10a1a24e78",
   "metadata": {},
   "outputs": [
    {
     "data": {
      "text/html": [
       "<div>\n",
       "<style scoped>\n",
       "    .dataframe tbody tr th:only-of-type {\n",
       "        vertical-align: middle;\n",
       "    }\n",
       "\n",
       "    .dataframe tbody tr th {\n",
       "        vertical-align: top;\n",
       "    }\n",
       "\n",
       "    .dataframe thead th {\n",
       "        text-align: right;\n",
       "    }\n",
       "</style>\n",
       "<table border=\"1\" class=\"dataframe\">\n",
       "  <thead>\n",
       "    <tr style=\"text-align: right;\">\n",
       "      <th></th>\n",
       "    </tr>\n",
       "  </thead>\n",
       "  <tbody>\n",
       "  </tbody>\n",
       "</table>\n",
       "</div>"
      ],
      "text/plain": [
       "Empty DataFrame\n",
       "Columns: []\n",
       "Index: []"
      ]
     },
     "execution_count": 18,
     "metadata": {},
     "output_type": "execute_result"
    }
   ],
   "source": [
    "if not output_error.empty:\n",
    "    output_error = output_error.sort_values(by=['Year', 'Make No', 'Model No'],\n",
    "                                            ascending=[False, True, True],\n",
    "                                            ignore_index=True)\n",
    "    output_error.to_excel('./test_type_1_error.xlsx', index=False)\n",
    "\n",
    "output_error"
   ]
  },
  {
   "cell_type": "code",
   "execution_count": null,
   "id": "d2973381-3168-4e42-b3c5-5b9afda061f7",
   "metadata": {},
   "outputs": [],
   "source": []
  }
 ],
 "metadata": {
  "kernelspec": {
   "display_name": "Python 3 (ipykernel)",
   "language": "python",
   "name": "python3"
  },
  "language_info": {
   "codemirror_mode": {
    "name": "ipython",
    "version": 3
   },
   "file_extension": ".py",
   "mimetype": "text/x-python",
   "name": "python",
   "nbconvert_exporter": "python",
   "pygments_lexer": "ipython3",
   "version": "3.11.3"
  }
 },
 "nbformat": 4,
 "nbformat_minor": 5
}
