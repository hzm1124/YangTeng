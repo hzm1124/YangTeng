{
 "cells": [
  {
   "cell_type": "markdown",
   "id": "4c4e15aa",
   "metadata": {},
   "source": [
    "# 1. Menu"
   ]
  },
  {
   "cell_type": "code",
   "execution_count": 1,
   "id": "87ab1168",
   "metadata": {},
   "outputs": [],
   "source": [
    "param_part_type = 'Fuel%2520Filler%2520Neck'\n",
    "param_start = [i*100 for i in range(4)]"
   ]
  },
  {
   "cell_type": "code",
   "execution_count": 2,
   "id": "c79f27d8",
   "metadata": {
    "scrolled": true
   },
   "outputs": [
    {
     "data": {
      "text/plain": [
       "['https://www.dormanproducts.com/gsearch.aspx?type=keyword&origin=keyword&parttype=Fuel%2520Filler%2520Neck&start=0&num=100',\n",
       " 'https://www.dormanproducts.com/gsearch.aspx?type=keyword&origin=keyword&parttype=Fuel%2520Filler%2520Neck&start=100&num=100',\n",
       " 'https://www.dormanproducts.com/gsearch.aspx?type=keyword&origin=keyword&parttype=Fuel%2520Filler%2520Neck&start=200&num=100',\n",
       " 'https://www.dormanproducts.com/gsearch.aspx?type=keyword&origin=keyword&parttype=Fuel%2520Filler%2520Neck&start=300&num=100']"
      ]
     },
     "execution_count": 2,
     "metadata": {},
     "output_type": "execute_result"
    }
   ],
   "source": [
    "list_url = ['https://www.dormanproducts.com/gsearch.aspx?type=keyword&origin=keyword&parttype=' + param_part_type + '&start=' + str(_) + '&num=100' for _ in param_start]\n",
    "list_no = [str(i+1) for i in range(len(list_url))]\n",
    "\n",
    "list_url"
   ]
  },
  {
   "cell_type": "code",
   "execution_count": 3,
   "id": "73372795",
   "metadata": {},
   "outputs": [],
   "source": [
    "import os"
   ]
  },
  {
   "cell_type": "code",
   "execution_count": 5,
   "id": "3417a953",
   "metadata": {},
   "outputs": [
    {
     "name": "stdout",
     "output_type": "stream",
     "text": [
      "None !\n"
     ]
    }
   ],
   "source": [
    "list_file = list(os.walk('./menu'))[0][2]\n",
    "if '.DS_Store' in list_file:\n",
    "    list_file.remove('.DS_Store')\n",
    "if '0.null.txt' in list_file:\n",
    "    list_file.remove('0.null.txt')\n",
    "    \n",
    "new_list_no = []\n",
    "new_list_url = []\n",
    "for no, url in zip(list_no, list_url):\n",
    "    if no + '.txt' not in list_file:\n",
    "        new_list_no.append(no)\n",
    "        new_list_url.append(url)\n",
    "        \n",
    "if len(new_list_no) == 0:\n",
    "    print('None !')\n",
    "else:\n",
    "    with open('./menu.txt', 'w', encoding='UTF-8') as f:\n",
    "        f.write('let list_no = [\"' + '\",\"'.join(new_list_no) + '\"];\\nlet list_url = [\"' + '\",\"'.join(new_list_url) + '\"];\\n')\n",
    "\n",
    "    print('Done ~')"
   ]
  },
  {
   "cell_type": "markdown",
   "id": "02db1d0d",
   "metadata": {},
   "source": [
    "# 2. Part\n",
    "## 2.1. 原始数据"
   ]
  },
  {
   "cell_type": "code",
   "execution_count": 7,
   "id": "936d6c99",
   "metadata": {},
   "outputs": [],
   "source": [
    "import pandas as pd\n",
    "import os"
   ]
  },
  {
   "cell_type": "code",
   "execution_count": 10,
   "id": "20950587",
   "metadata": {},
   "outputs": [
    {
     "name": "stdout",
     "output_type": "stream",
     "text": [
      "None !\n"
     ]
    }
   ],
   "source": [
    "df = pd.read_excel('./menu.xlsx',\n",
    "                   header=0,\n",
    "                   dtype=str).fillna('')\n",
    "\n",
    "list_file = list(os.walk('./part'))[0][2]\n",
    "if '.DS_Store' in list_file:\n",
    "    list_file.remove('.DS_Store')\n",
    "if '0.null.txt' in list_file:\n",
    "    list_file.remove('0.null.txt')\n",
    "    \n",
    "df_file = pd.DataFrame()\n",
    "for i in range(len(list_file)):\n",
    "    df_file.loc[i, 'No.'] = list_file[i].split('.')[0]\n",
    "    df_file.loc[i, 'Crawler'] = 'y'\n",
    "    \n",
    "if len(df_file) == 0:\n",
    "    print('None !')\n",
    "else:\n",
    "    df = pd.merge(left=df,\n",
    "                  right=df_file,\n",
    "                  how='left',\n",
    "                  left_on='No.',\n",
    "                  right_on='No.').fillna('')\n",
    "\n",
    "    df = df[df['Crawler'] != 'y'].reset_index(drop=True)\n",
    "    \n",
    "    if len(df) == 0:\n",
    "        print('None !')\n",
    "    else:\n",
    "        with open('./part.txt', 'w', encoding='UTF-8') as f:\n",
    "            f.write('let list_no = [\"' + '\",\"'.join(df['No.'].tolist()) + '\"];\\nlet list_url = [\"' + '\",\"'.join(df['Url'].tolist()) + '\"];\\n')\n",
    "\n",
    "        print('Done ~')"
   ]
  },
  {
   "cell_type": "code",
   "execution_count": null,
   "id": "4809a442",
   "metadata": {},
   "outputs": [],
   "source": []
  }
 ],
 "metadata": {
  "kernelspec": {
   "display_name": "Python 3 (ipykernel)",
   "language": "python",
   "name": "python3"
  },
  "language_info": {
   "codemirror_mode": {
    "name": "ipython",
    "version": 3
   },
   "file_extension": ".py",
   "mimetype": "text/x-python",
   "name": "python",
   "nbconvert_exporter": "python",
   "pygments_lexer": "ipython3",
   "version": "3.11.3"
  }
 },
 "nbformat": 4,
 "nbformat_minor": 5
}
