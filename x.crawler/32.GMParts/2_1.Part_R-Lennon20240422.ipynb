{
 "cells": [
  {
   "cell_type": "code",
   "execution_count": 1,
   "id": "a6cde5cd",
   "metadata": {},
   "outputs": [],
   "source": [
    "import pandas as pd\n",
    "\n",
    "output_correct = pd.DataFrame()\n",
    "output_error = pd.DataFrame()"
   ]
  },
  {
   "cell_type": "code",
   "execution_count": 2,
   "id": "acb380f0",
   "metadata": {
    "scrolled": true
   },
   "outputs": [
    {
     "name": "stdout",
     "output_type": "stream",
     "text": [
      "总数量：20\n"
     ]
    },
    {
     "data": {
      "text/plain": [
       "['acdelco-professional-ignition-lock-cylinder-(programming-required-by-automotive-professional)-88921963',\n",
       " 'gm-genuine-parts-chrome-front-driver-side-door-lock-cylinder-bezel-13598329',\n",
       " 'gm-genuine-parts-cocoa-passenger-side-rear-side-door-lock-cylinder-bezel-13356142',\n",
       " 'gm-genuine-parts-deck-lid-lock-cylinder-13598087',\n",
       " 'gm-genuine-parts-deck-lid-lock-cylinder-23133269',\n",
       " 'gm-genuine-parts-deck-lid-lock-cylinder-12458205',\n",
       " 'gm-genuine-parts-deck-lid-lock-cylinder-reinforcement-23151211',\n",
       " 'gm-genuine-parts-door-lock-cylinder-23432185',\n",
       " 'gm-genuine-parts-door-lock-cylinder-15785103',\n",
       " 'gm-genuine-parts-door-lock-cylinder-23435058',\n",
       " 'gm-genuine-parts-door-lock-cylinder-cover-kit-13599552',\n",
       " 'gm-genuine-parts-driver-side-front-door-lock-cylinder-96801558',\n",
       " 'gm-genuine-parts-driver-side-front-door-lock-cylinder-13510387',\n",
       " 'gm-genuine-parts-driver-side-front-door-lock-cylinder-89022371',\n",
       " 'gm-genuine-parts-driver-side-front-door-lock-cylinder-rod-13281810',\n",
       " 'gm-genuine-parts-driver-side-front-door-lock-cylinder-rod-15269119',\n",
       " 'gm-genuine-parts-driver-side-front-door-lock-cylinder-rod-22777346',\n",
       " 'gm-genuine-parts-driver-side-front-door-lock-cylinder-rod-15705627',\n",
       " 'gm-genuine-parts-driver-side-front-door-lock-cylinder-rod-25941395',\n",
       " 'gm-genuine-parts-driver-side-front-door-lock-cylinder-rod-42540486']"
      ]
     },
     "execution_count": 2,
     "metadata": {},
     "output_type": "execute_result"
    }
   ],
   "source": [
    "input_ = pd.read_excel('./menu.xlsx',\n",
    "                       header=0,\n",
    "                       dtype=str).fillna('')\n",
    "\n",
    "print('总数量：' + str(len(input_)))\n",
    "input_['Url_1'].tolist()"
   ]
  },
  {
   "cell_type": "code",
   "execution_count": 3,
   "id": "2cf7de3c",
   "metadata": {},
   "outputs": [
    {
     "name": "stdout",
     "output_type": "stream",
     "text": [
      "error\n"
     ]
    }
   ],
   "source": [
    "crawler_status = 'error'\n",
    "\n",
    "print(crawler_status)"
   ]
  },
  {
   "cell_type": "code",
   "execution_count": 4,
   "id": "33f09186",
   "metadata": {},
   "outputs": [],
   "source": [
    "import requests\n",
    "\n",
    "import sys\n",
    "sys.path.append('../00.Tools')\n",
    "import UA\n",
    "import Proxy"
   ]
  },
  {
   "cell_type": "code",
   "execution_count": 5,
   "id": "82b6c7d8",
   "metadata": {
    "scrolled": true
   },
   "outputs": [
    {
     "data": {
      "text/plain": [
       "'{\"breadCrumbTrailEntryViewExtended\":[{\"0\":{\"label\":\"Parts\",\"value\":\"3074457345616983668\",\"type_\":\"FACET_ENTRY_CATEGORY\"},\"1\":{\"label\":\"Electrical\",\"value\":\"3074457345616983671\",\"type_\":\"FACET_ENTRY_CATEGORY\"},\"2\":{\"label\":\"Sensors & Switches\",\"value\":\"3074457345616983744\",\"type_\":\"FACET_ENTRY_CATEGORY\"}}],\"catalogEntry\":{\"buyable\":\"true\",\"longDescription\":\"ACDelco Professional Ignition Lock Cylinder (Programming Required by Automotive Professional)\",\"partTerminologyId\":\"4516\",\"thumbnail\":\"\\\\/wcsstore\\\\/GMCAS\\\\/U1417_Primary.jpg\",\"shippableAttributes\":[{\"imageUrl\":\"https:\\\\/\\\\/ecom-dam.ext.gm.com\\\\/products\\\\/images\\\\/shipping\\\\/fedex_icon.png\",\"name\":\"FedExGroundShipping\"}],\"attachments\":[],\"UserData\":[{\"FeaturesAndBenefits\":{\"GM\":[{\"content\":[\"This part requires programming and\\\\/or special setup procedures. GM Service Information describes the procedures and special tools needed to ensure proper operation in the vehicle\",\"Professional, premium aftermarket replacement\",\"Provides the performance and dependability you expect from ACDelco\",\"Manufactured to meet expectations for fit, form, and function\"]}]},\"images\":{\"mainImage\":\"https:\\\\/\\\\/ecom-dam.ext.gm.com\\\\/products\\\\/images\\\\/U1417_Primary.jpg\",\"zoomable\":\"Y\",\"name\":\"Primary Image\",\"shortdesc\":\"PRIMARY:U1417_Primary.jpg\",\"alternateImages\":[{\"zoomable\":\"Y\",\"name\":\"Alternate Image\",\"shortdesc\":\"ALTERNATE:U1417_Alternate1.jpg\",\"mimeType\":\"image\\\\/jpeg\",\"URL\":\"https:\\\\/\\\\/ecom-dam.ext.gm.com\\\\/products\\\\/images\\\\/U1417_Alternate1.jpg\"},{\"zoomable\":\"Y\",\"name\":\"Alternate Image\",\"shortdesc\":\"ALTERNATE:U1417_Alternate2.jpg\",\"mimeType\":\"image\\\\/jpeg\",\"URL\":\"https:\\\\/\\\\/ecom-dam.ext.gm.com\\\\/products\\\\/images\\\\/U1417_Alternate2.jpg\"},{\"zoomable\":\"Y\",\"name\":\"Alternate Image\",\"shortdesc\":\"ALTERNATE:U1417_Alternate3.jpg\",\"mimeType\":\"image\\\\/jpeg\",\"URL\":\"https:\\\\/\\\\/ecom-dam.ext.gm.com\\\\/products\\\\/images\\\\/U1417_Alternate3.jpg\"},{\"zoomable\":\"Y\",\"name\":\"Alternate Image\",\"shortdesc\":\"ALTERNATE:U1417_Alternate4.jpg\",\"mimeType\":\"image\\\\/jpeg\",\"URL\":\"https:\\\\/\\\\/ecom-dam.ext.gm.com\\\\/products\\\\/images\\\\/U1417_Alternate4.jpg\"}],\"onVehicleImages\":[],\"mimeType\":\"image\\\\/jpeg\",\"drawingImages\":[]},\"Warranty\":\"24 Months\\\\/Unlimited Miles Limited Warranty for Parts (plus Labor if installed by a GM dealer)\",\"VIDEO\":[{\"IMAGES\":{\"zoomable\":\"Y\",\"name\":\"Video\",\"mimeType\":\"image\\\\/jpeg\",\"URL\":\"https:\\\\/\\\\/ecom-dam.ext.gm.com\\\\/products\\\\/images\\\\/6221368737001.jpg\"},\"VIDEO_ID\":\"6221368737001\"}],\"GoodMaintenance\":{\"GM\":[{\"content\":[\"Having your service technician regularly inspect your ignition system can help you stay away from conditions that may result in poor performance or reduced fuel economy.\"]}]},\"Faq\":{\"GM\":{\"2\":[\"When your \\'Service Engine Soon\\' light illuminates, that is an indication that there is a potential issue with the drivability, electronics, or emissions of your engine.\",\"While investigating what triggered the \\'Service Engine Soon\\' light, do you recommend any additional services?\"],\"3\":[\"Preventative maintenance should be referenced in your owner\\'s manual, and, while repairing or having your \\'Service Engine Soon\\' light repaired, if your vehicle is due for maintenance, yes. As described in your owner\\'s manual, this maintenance will help prevent future issues.\",\"If I don\\'t investigate the problem, will the light turn off by itself?\"],\"4\":[\"Possibly. Sometimes, the triggering device will reset itself thus turning off the \\'Service Engine Soon\\' light until that device\\\\/sensor is tested by the vehicles on board computer again. If it fails the test again when tested, the \\'Service Engine Soon\\' light will illuminate once again. Some devices\\\\/sensors when tested and failed will illuminate the \\'Service Engine Soon\\' and it will not go out until correct service work is performed.\",\"If I ignore the light, will there be consequences?\"],\"5\":[\"General Motors has designed the vehicle to inform its driver if there is an issue with certain devices\\\\/sensors that effect the drivability\\\\/emissions. If this is ignored, there is a possibility that the drivability will suffer, fuel economy will be decreased, or the emissions being emitted will be increased. Do not ignore the \\'Service Engine Soon\\' light.\",\"Is it possible for my vehicle to pass an emissions test if the \\'Service Engine Soon\\' light is on?\"],\"6\":[\"No. When state and local officials perform certified emission tests, one of the first steps in the process is to inspect for a \\'Service Engine Soon\\'. If it is on, it will automatically fail the test.\",\"Does the \\'Service Engine Soon\\' light tell me when my vehicle needs a tune-up?\"],\"7\":[\"No. The \\'Service Engine Soon\\' is related to engine emissions and drivability conditions. Please refer to your owner\\'s manual maintenance schedule for information pertaining to tune up time intervals.\"]}},\"ProductDescription\":{\"GM\":\"An ACDelco Professional, premium aftermarket Ignition Starter Switch is a high quality replacement for many vehicles on the road today. It is a multi-position switch that activates the ignition, accessory, and cranking circuits in your vehicle. This premium aftermarket replacement ignition starter switch is manufactured to meet your expectations for fit, form, and function. &#9888 <bold>WARNING:<\\\\/bold>  Cancer and Reproductive Harm - <Underline>https:\\\\/\\\\/www.P65Warnings.ca.gov<\\\\/Underline>\"},\"Troubleshooting\":{\"GM\":[{\"content\":[\"Due to a damaged or worn-out sensor, switch, or relay, these problems may occur:\",\"Warning indicators on the instrument panel\",\"Service Engine Soon light illuminates\",\"Headlights inoperable\",\"Hazard lights inoperable\",\"Turn Signals inoperable\",\"Cruise control inoperable\",\"No start\\\\/hard start\"]}]},\"PackagingInformation\":{\"EA\":{\"quantityEach\":\"1\",\"packageUOM\":\"in\",\"GTIN\":\"00021625447117\",\"width\":\"2.8\",\"length\":\"2.9\",\"weight\":\".48\",\"weightUOM\":\"pounds\",\"height\":\"2.7\"}}}],\"soc\":{\"SoC_Restricted\":\"N\",\"SoC_ManualReview\":\"N\"},\"shortDescription\":\"ACDelco Professional Ignition Lock Cylinder (Programming Required by Automotive Professional)\",\"parentCatalogGroupID\":[\"10001_3074457345616983244\",\"3074457345616677718_3074457345616983744\",\"3074457345616678718_3074457345616983744\"],\"storeID\":\"10051\",\"manufacturer\":\"ACDelco\",\"manufacturerPartNumber\":\"U1417\",\"seoUrl\":\"acdelco-professional-ignition-lock-cylinder-(programming-required-by-automotive-professional)-88921963\",\"hasSingleSKU\":false,\"price\":[{\"usage\":\"Display\",\"description\":\"L\",\"currency\":\"USD\",\"value\":\"68.1\"},{\"usage\":\"Offer\",\"description\":\"O\",\"currency\":\"USD\",\"value\":\"\"}],\"name\":\"ACDelco Professional Ignition Lock Cylinder (Programming Required by Automotive Professional)\",\"partNumber\":\"88921963\",\"attributes\":[{\"name\":\"Terminal Quantity\",\"value\":\"5\"},{\"name\":\"Classification\",\"value\":\"Gold\"},{\"name\":\"Mounting Hardware Included\",\"value\":\"No\"},{\"name\":\"Connector Quantity\",\"value\":\"1\"},{\"name\":\"Keys Included\",\"value\":\"No\"},{\"name\":\"Mounting Type\",\"value\":\"Bolt On\"},{\"name\":\"Terminal Type\",\"value\":\"Screw\"},{\"name\":\"Key Programmable\",\"value\":\"No\"},{\"name\":\"Connector Gender\",\"value\":\"Male\"},{\"name\":\"Terminal Gender\",\"value\":\"Male\"}],\"catalogEntryTypeCode\":\"ItemBean\",\"VOV\":[],\"fullImage\":\"\\\\/wcsstore\\\\/GMCAS\\\\/U1417_Primary.jpg\",\"uniqueID\":\"3074457345617591931\"}}'"
      ]
     },
     "execution_count": 5,
     "metadata": {},
     "output_type": "execute_result"
    }
   ],
   "source": [
    "a = 0\n",
    "\n",
    "resp = requests.get('https://parts.gmparts.com/wcs/resources/store/11705/productSearch/' + input_.loc[a, 'Url_1'] + '?brand=GM&catalogId=3074457345616677718',\n",
    "                    headers=UA.get_User_Agent_Requests(),\n",
    "                    proxies=Proxy.get_Proxy_Requests()).text\n",
    "\n",
    "resp"
   ]
  },
  {
   "cell_type": "code",
   "execution_count": 6,
   "id": "91502d9d",
   "metadata": {},
   "outputs": [],
   "source": [
    "import json"
   ]
  },
  {
   "cell_type": "code",
   "execution_count": 7,
   "id": "0e553235",
   "metadata": {
    "scrolled": true
   },
   "outputs": [
    {
     "data": {
      "text/plain": [
       "{'breadCrumbTrailEntryViewExtended': [{'0': {'label': 'Parts',\n",
       "    'value': '3074457345616983668',\n",
       "    'type_': 'FACET_ENTRY_CATEGORY'},\n",
       "   '1': {'label': 'Electrical',\n",
       "    'value': '3074457345616983671',\n",
       "    'type_': 'FACET_ENTRY_CATEGORY'},\n",
       "   '2': {'label': 'Sensors & Switches',\n",
       "    'value': '3074457345616983744',\n",
       "    'type_': 'FACET_ENTRY_CATEGORY'}}],\n",
       " 'catalogEntry': {'buyable': 'true',\n",
       "  'longDescription': 'ACDelco Professional Ignition Lock Cylinder (Programming Required by Automotive Professional)',\n",
       "  'partTerminologyId': '4516',\n",
       "  'thumbnail': '/wcsstore/GMCAS/U1417_Primary.jpg',\n",
       "  'shippableAttributes': [{'imageUrl': 'https://ecom-dam.ext.gm.com/products/images/shipping/fedex_icon.png',\n",
       "    'name': 'FedExGroundShipping'}],\n",
       "  'attachments': [],\n",
       "  'UserData': [{'FeaturesAndBenefits': {'GM': [{'content': ['This part requires programming and/or special setup procedures. GM Service Information describes the procedures and special tools needed to ensure proper operation in the vehicle',\n",
       "        'Professional, premium aftermarket replacement',\n",
       "        'Provides the performance and dependability you expect from ACDelco',\n",
       "        'Manufactured to meet expectations for fit, form, and function']}]},\n",
       "    'images': {'mainImage': 'https://ecom-dam.ext.gm.com/products/images/U1417_Primary.jpg',\n",
       "     'zoomable': 'Y',\n",
       "     'name': 'Primary Image',\n",
       "     'shortdesc': 'PRIMARY:U1417_Primary.jpg',\n",
       "     'alternateImages': [{'zoomable': 'Y',\n",
       "       'name': 'Alternate Image',\n",
       "       'shortdesc': 'ALTERNATE:U1417_Alternate1.jpg',\n",
       "       'mimeType': 'image/jpeg',\n",
       "       'URL': 'https://ecom-dam.ext.gm.com/products/images/U1417_Alternate1.jpg'},\n",
       "      {'zoomable': 'Y',\n",
       "       'name': 'Alternate Image',\n",
       "       'shortdesc': 'ALTERNATE:U1417_Alternate2.jpg',\n",
       "       'mimeType': 'image/jpeg',\n",
       "       'URL': 'https://ecom-dam.ext.gm.com/products/images/U1417_Alternate2.jpg'},\n",
       "      {'zoomable': 'Y',\n",
       "       'name': 'Alternate Image',\n",
       "       'shortdesc': 'ALTERNATE:U1417_Alternate3.jpg',\n",
       "       'mimeType': 'image/jpeg',\n",
       "       'URL': 'https://ecom-dam.ext.gm.com/products/images/U1417_Alternate3.jpg'},\n",
       "      {'zoomable': 'Y',\n",
       "       'name': 'Alternate Image',\n",
       "       'shortdesc': 'ALTERNATE:U1417_Alternate4.jpg',\n",
       "       'mimeType': 'image/jpeg',\n",
       "       'URL': 'https://ecom-dam.ext.gm.com/products/images/U1417_Alternate4.jpg'}],\n",
       "     'onVehicleImages': [],\n",
       "     'mimeType': 'image/jpeg',\n",
       "     'drawingImages': []},\n",
       "    'Warranty': '24 Months/Unlimited Miles Limited Warranty for Parts (plus Labor if installed by a GM dealer)',\n",
       "    'VIDEO': [{'IMAGES': {'zoomable': 'Y',\n",
       "       'name': 'Video',\n",
       "       'mimeType': 'image/jpeg',\n",
       "       'URL': 'https://ecom-dam.ext.gm.com/products/images/6221368737001.jpg'},\n",
       "      'VIDEO_ID': '6221368737001'}],\n",
       "    'GoodMaintenance': {'GM': [{'content': ['Having your service technician regularly inspect your ignition system can help you stay away from conditions that may result in poor performance or reduced fuel economy.']}]},\n",
       "    'Faq': {'GM': {'2': [\"When your 'Service Engine Soon' light illuminates, that is an indication that there is a potential issue with the drivability, electronics, or emissions of your engine.\",\n",
       "       \"While investigating what triggered the 'Service Engine Soon' light, do you recommend any additional services?\"],\n",
       "      '3': [\"Preventative maintenance should be referenced in your owner's manual, and, while repairing or having your 'Service Engine Soon' light repaired, if your vehicle is due for maintenance, yes. As described in your owner's manual, this maintenance will help prevent future issues.\",\n",
       "       \"If I don't investigate the problem, will the light turn off by itself?\"],\n",
       "      '4': [\"Possibly. Sometimes, the triggering device will reset itself thus turning off the 'Service Engine Soon' light until that device/sensor is tested by the vehicles on board computer again. If it fails the test again when tested, the 'Service Engine Soon' light will illuminate once again. Some devices/sensors when tested and failed will illuminate the 'Service Engine Soon' and it will not go out until correct service work is performed.\",\n",
       "       'If I ignore the light, will there be consequences?'],\n",
       "      '5': [\"General Motors has designed the vehicle to inform its driver if there is an issue with certain devices/sensors that effect the drivability/emissions. If this is ignored, there is a possibility that the drivability will suffer, fuel economy will be decreased, or the emissions being emitted will be increased. Do not ignore the 'Service Engine Soon' light.\",\n",
       "       \"Is it possible for my vehicle to pass an emissions test if the 'Service Engine Soon' light is on?\"],\n",
       "      '6': [\"No. When state and local officials perform certified emission tests, one of the first steps in the process is to inspect for a 'Service Engine Soon'. If it is on, it will automatically fail the test.\",\n",
       "       \"Does the 'Service Engine Soon' light tell me when my vehicle needs a tune-up?\"],\n",
       "      '7': [\"No. The 'Service Engine Soon' is related to engine emissions and drivability conditions. Please refer to your owner's manual maintenance schedule for information pertaining to tune up time intervals.\"]}},\n",
       "    'ProductDescription': {'GM': 'An ACDelco Professional, premium aftermarket Ignition Starter Switch is a high quality replacement for many vehicles on the road today. It is a multi-position switch that activates the ignition, accessory, and cranking circuits in your vehicle. This premium aftermarket replacement ignition starter switch is manufactured to meet your expectations for fit, form, and function. &#9888 <bold>WARNING:</bold>  Cancer and Reproductive Harm - <Underline>https://www.P65Warnings.ca.gov</Underline>'},\n",
       "    'Troubleshooting': {'GM': [{'content': ['Due to a damaged or worn-out sensor, switch, or relay, these problems may occur:',\n",
       "        'Warning indicators on the instrument panel',\n",
       "        'Service Engine Soon light illuminates',\n",
       "        'Headlights inoperable',\n",
       "        'Hazard lights inoperable',\n",
       "        'Turn Signals inoperable',\n",
       "        'Cruise control inoperable',\n",
       "        'No start/hard start']}]},\n",
       "    'PackagingInformation': {'EA': {'quantityEach': '1',\n",
       "      'packageUOM': 'in',\n",
       "      'GTIN': '00021625447117',\n",
       "      'width': '2.8',\n",
       "      'length': '2.9',\n",
       "      'weight': '.48',\n",
       "      'weightUOM': 'pounds',\n",
       "      'height': '2.7'}}}],\n",
       "  'soc': {'SoC_Restricted': 'N', 'SoC_ManualReview': 'N'},\n",
       "  'shortDescription': 'ACDelco Professional Ignition Lock Cylinder (Programming Required by Automotive Professional)',\n",
       "  'parentCatalogGroupID': ['10001_3074457345616983244',\n",
       "   '3074457345616677718_3074457345616983744',\n",
       "   '3074457345616678718_3074457345616983744'],\n",
       "  'storeID': '10051',\n",
       "  'manufacturer': 'ACDelco',\n",
       "  'manufacturerPartNumber': 'U1417',\n",
       "  'seoUrl': 'acdelco-professional-ignition-lock-cylinder-(programming-required-by-automotive-professional)-88921963',\n",
       "  'hasSingleSKU': False,\n",
       "  'price': [{'usage': 'Display',\n",
       "    'description': 'L',\n",
       "    'currency': 'USD',\n",
       "    'value': '68.1'},\n",
       "   {'usage': 'Offer', 'description': 'O', 'currency': 'USD', 'value': ''}],\n",
       "  'name': 'ACDelco Professional Ignition Lock Cylinder (Programming Required by Automotive Professional)',\n",
       "  'partNumber': '88921963',\n",
       "  'attributes': [{'name': 'Terminal Quantity', 'value': '5'},\n",
       "   {'name': 'Classification', 'value': 'Gold'},\n",
       "   {'name': 'Mounting Hardware Included', 'value': 'No'},\n",
       "   {'name': 'Connector Quantity', 'value': '1'},\n",
       "   {'name': 'Keys Included', 'value': 'No'},\n",
       "   {'name': 'Mounting Type', 'value': 'Bolt On'},\n",
       "   {'name': 'Terminal Type', 'value': 'Screw'},\n",
       "   {'name': 'Key Programmable', 'value': 'No'},\n",
       "   {'name': 'Connector Gender', 'value': 'Male'},\n",
       "   {'name': 'Terminal Gender', 'value': 'Male'}],\n",
       "  'catalogEntryTypeCode': 'ItemBean',\n",
       "  'VOV': [],\n",
       "  'fullImage': '/wcsstore/GMCAS/U1417_Primary.jpg',\n",
       "  'uniqueID': '3074457345617591931'}}"
      ]
     },
     "execution_count": 7,
     "metadata": {},
     "output_type": "execute_result"
    }
   ],
   "source": [
    "json_data = json.loads(resp)\n",
    "\n",
    "json_data"
   ]
  },
  {
   "cell_type": "code",
   "execution_count": 8,
   "id": "6aabbf5c",
   "metadata": {},
   "outputs": [
    {
     "data": {
      "text/plain": [
       "'https://ecom-dam.ext.gm.com/products/images/U1417_Primary.jpg'"
      ]
     },
     "execution_count": 8,
     "metadata": {},
     "output_type": "execute_result"
    }
   ],
   "source": [
    "src = json_data['catalogEntry']['UserData'][0]['images']['mainImage'].strip()\n",
    "\n",
    "src"
   ]
  },
  {
   "cell_type": "code",
   "execution_count": 9,
   "id": "87edb83b",
   "metadata": {},
   "outputs": [
    {
     "data": {
      "text/plain": [
       "{'EA': {'quantityEach': '1',\n",
       "  'packageUOM': 'in',\n",
       "  'GTIN': '00021625447117',\n",
       "  'width': '2.8',\n",
       "  'length': '2.9',\n",
       "  'weight': '.48',\n",
       "  'weightUOM': 'pounds',\n",
       "  'height': '2.7'}}"
      ]
     },
     "execution_count": 9,
     "metadata": {},
     "output_type": "execute_result"
    }
   ],
   "source": [
    "dict_packaging = json_data['catalogEntry']['UserData'][0]['PackagingInformation'] if 'PackagingInformation' in json_data['catalogEntry']['UserData'][0] else {}\n",
    "\n",
    "dict_packaging"
   ]
  },
  {
   "cell_type": "code",
   "execution_count": 10,
   "id": "13b1853d",
   "metadata": {
    "scrolled": true
   },
   "outputs": [
    {
     "data": {
      "text/plain": [
       "'ACDelco'"
      ]
     },
     "execution_count": 10,
     "metadata": {},
     "output_type": "execute_result"
    }
   ],
   "source": [
    "manufacturer = json_data['catalogEntry']['manufacturer'].strip()\n",
    "\n",
    "manufacturer"
   ]
  },
  {
   "cell_type": "code",
   "execution_count": 11,
   "id": "df55f171",
   "metadata": {},
   "outputs": [
    {
     "data": {
      "text/plain": [
       "'U1417'"
      ]
     },
     "execution_count": 11,
     "metadata": {},
     "output_type": "execute_result"
    }
   ],
   "source": [
    "manufacturer_part_number = json_data['catalogEntry']['manufacturerPartNumber'].strip() if 'manufacturerPartNumber' in json_data['catalogEntry'] else ''\n",
    "\n",
    "manufacturer_part_number"
   ]
  },
  {
   "cell_type": "code",
   "execution_count": 12,
   "id": "8c05e9b4",
   "metadata": {},
   "outputs": [
    {
     "data": {
      "text/plain": [
       "'ACDelco Professional Ignition Lock Cylinder (Programming Required by Automotive Professional)'"
      ]
     },
     "execution_count": 12,
     "metadata": {},
     "output_type": "execute_result"
    }
   ],
   "source": [
    "title = json_data['catalogEntry']['name'].strip()\n",
    "\n",
    "title"
   ]
  },
  {
   "cell_type": "code",
   "execution_count": 13,
   "id": "d3737125",
   "metadata": {},
   "outputs": [
    {
     "data": {
      "text/plain": [
       "'88921963'"
      ]
     },
     "execution_count": 13,
     "metadata": {},
     "output_type": "execute_result"
    }
   ],
   "source": [
    "part_number = json_data['catalogEntry']['partNumber'].strip()\n",
    "\n",
    "part_number"
   ]
  },
  {
   "cell_type": "code",
   "execution_count": 14,
   "id": "e39de59a",
   "metadata": {},
   "outputs": [
    {
     "data": {
      "text/plain": [
       "[{'name': 'Terminal Quantity', 'value': '5'},\n",
       " {'name': 'Classification', 'value': 'Gold'},\n",
       " {'name': 'Mounting Hardware Included', 'value': 'No'},\n",
       " {'name': 'Connector Quantity', 'value': '1'},\n",
       " {'name': 'Keys Included', 'value': 'No'},\n",
       " {'name': 'Mounting Type', 'value': 'Bolt On'},\n",
       " {'name': 'Terminal Type', 'value': 'Screw'},\n",
       " {'name': 'Key Programmable', 'value': 'No'},\n",
       " {'name': 'Connector Gender', 'value': 'Male'},\n",
       " {'name': 'Terminal Gender', 'value': 'Male'}]"
      ]
     },
     "execution_count": 14,
     "metadata": {},
     "output_type": "execute_result"
    }
   ],
   "source": [
    "list_attribute = json_data['catalogEntry']['attributes']\n",
    "\n",
    "list_attribute"
   ]
  },
  {
   "cell_type": "code",
   "execution_count": 15,
   "id": "c2d0889f",
   "metadata": {},
   "outputs": [
    {
     "data": {
      "text/plain": [
       "1"
      ]
     },
     "execution_count": 15,
     "metadata": {},
     "output_type": "execute_result"
    }
   ],
   "source": [
    "df_temp = pd.DataFrame([{'序号': int(input_.loc[a, 'No.']),\n",
    "                         'Part_Number': part_number,\n",
    "                         'Manufacturer': manufacturer,\n",
    "                         'Manufacturer_Part_Number': manufacturer_part_number,\n",
    "                         'Title': title,\n",
    "                         'Pic': '',\n",
    "                         'Url': 'https://parts.gmparts.com/product/' + input_.loc[a, 'Url_1'],\n",
    "                         'Src': src}])\n",
    "\n",
    "for attribute in list_attribute:\n",
    "    df_temp.loc[0, attribute['name'].strip()] = attribute['value'].strip() + ' ' + attribute['unitOfMeasure'].strip() if 'unitOfMeasure' in attribute else attribute['value'].strip()\n",
    "\n",
    "for key in dict_packaging:\n",
    "    for key_2 in dict_packaging[key]:\n",
    "        if key_2 == 'packageUOM' or key_2 == 'weightUOM':\n",
    "            continue\n",
    "        elif key_2 == 'length' or key_2 == 'width' or key_2 == 'height':\n",
    "            df_temp.loc[0, key.strip() + '_' + key_2.strip()] = dict_packaging[key][key_2].strip() + ' ' + dict_packaging[key]['packageUOM'].strip()\n",
    "        elif key_2 == 'weight':\n",
    "            df_temp.loc[0, key.strip() + '_' + key_2.strip()] = dict_packaging[key][key_2].strip() + ' ' + dict_packaging[key]['weightUOM'].strip()\n",
    "        else:\n",
    "            df_temp.loc[0, key.strip() + '_' + key_2.strip()] = dict_packaging[key][key_2].strip()\n",
    "            \n",
    "output_correct = pd.concat([output_correct, df_temp], ignore_index=True).fillna('')\n",
    "\n",
    "len(output_correct)"
   ]
  },
  {
   "cell_type": "code",
   "execution_count": 16,
   "id": "da309cd1",
   "metadata": {},
   "outputs": [
    {
     "name": "stdout",
     "output_type": "stream",
     "text": [
      "ok\n"
     ]
    }
   ],
   "source": [
    "crawler_status = 'ok'\n",
    "\n",
    "print(crawler_status)"
   ]
  },
  {
   "cell_type": "code",
   "execution_count": 17,
   "id": "daf6f5ef",
   "metadata": {},
   "outputs": [
    {
     "data": {
      "text/plain": [
       "0"
      ]
     },
     "execution_count": 17,
     "metadata": {},
     "output_type": "execute_result"
    }
   ],
   "source": [
    "if crawler_status == 'error':\n",
    "    df_temp = pd.DataFrame([{'No.': int(input_.loc[a, 'No.']),\n",
    "                             'Url_1': input_.loc[a, 'Url_1']}])\n",
    "    \n",
    "    output_error = pd.concat([output_error, df_temp], ignore_index=True).fillna('')\n",
    "\n",
    "len(output_error)"
   ]
  },
  {
   "cell_type": "code",
   "execution_count": 18,
   "id": "ef910c0f",
   "metadata": {},
   "outputs": [
    {
     "data": {
      "text/html": [
       "<div>\n",
       "<style scoped>\n",
       "    .dataframe tbody tr th:only-of-type {\n",
       "        vertical-align: middle;\n",
       "    }\n",
       "\n",
       "    .dataframe tbody tr th {\n",
       "        vertical-align: top;\n",
       "    }\n",
       "\n",
       "    .dataframe thead th {\n",
       "        text-align: right;\n",
       "    }\n",
       "</style>\n",
       "<table border=\"1\" class=\"dataframe\">\n",
       "  <thead>\n",
       "    <tr style=\"text-align: right;\">\n",
       "      <th></th>\n",
       "      <th>序号</th>\n",
       "      <th>Part_Number</th>\n",
       "      <th>Manufacturer</th>\n",
       "      <th>Manufacturer_Part_Number</th>\n",
       "      <th>Title</th>\n",
       "      <th>Pic</th>\n",
       "      <th>Url</th>\n",
       "      <th>Src</th>\n",
       "      <th>Terminal Quantity</th>\n",
       "      <th>Classification</th>\n",
       "      <th>...</th>\n",
       "      <th>Terminal Type</th>\n",
       "      <th>Key Programmable</th>\n",
       "      <th>Connector Gender</th>\n",
       "      <th>Terminal Gender</th>\n",
       "      <th>EA_quantityEach</th>\n",
       "      <th>EA_GTIN</th>\n",
       "      <th>EA_width</th>\n",
       "      <th>EA_length</th>\n",
       "      <th>EA_weight</th>\n",
       "      <th>EA_height</th>\n",
       "    </tr>\n",
       "  </thead>\n",
       "  <tbody>\n",
       "    <tr>\n",
       "      <th>0</th>\n",
       "      <td>2</td>\n",
       "      <td>88921963</td>\n",
       "      <td>ACDelco</td>\n",
       "      <td>U1417</td>\n",
       "      <td>ACDelco Professional Ignition Lock Cylinder (P...</td>\n",
       "      <td></td>\n",
       "      <td>https://parts.gmparts.com/product/acdelco-prof...</td>\n",
       "      <td>https://ecom-dam.ext.gm.com/products/images/U1...</td>\n",
       "      <td>5</td>\n",
       "      <td>Gold</td>\n",
       "      <td>...</td>\n",
       "      <td>Screw</td>\n",
       "      <td>No</td>\n",
       "      <td>Male</td>\n",
       "      <td>Male</td>\n",
       "      <td>1</td>\n",
       "      <td>00021625447117</td>\n",
       "      <td>2.8 in</td>\n",
       "      <td>2.9 in</td>\n",
       "      <td>.48 pounds</td>\n",
       "      <td>2.7 in</td>\n",
       "    </tr>\n",
       "  </tbody>\n",
       "</table>\n",
       "<p>1 rows × 24 columns</p>\n",
       "</div>"
      ],
      "text/plain": [
       "   序号 Part_Number Manufacturer Manufacturer_Part_Number  \\\n",
       "0   2    88921963      ACDelco                    U1417   \n",
       "\n",
       "                                               Title Pic  \\\n",
       "0  ACDelco Professional Ignition Lock Cylinder (P...       \n",
       "\n",
       "                                                 Url  \\\n",
       "0  https://parts.gmparts.com/product/acdelco-prof...   \n",
       "\n",
       "                                                 Src Terminal Quantity  \\\n",
       "0  https://ecom-dam.ext.gm.com/products/images/U1...                 5   \n",
       "\n",
       "  Classification  ... Terminal Type Key Programmable Connector Gender  \\\n",
       "0           Gold  ...         Screw               No             Male   \n",
       "\n",
       "  Terminal Gender EA_quantityEach         EA_GTIN EA_width EA_length  \\\n",
       "0            Male               1  00021625447117   2.8 in    2.9 in   \n",
       "\n",
       "    EA_weight EA_height  \n",
       "0  .48 pounds    2.7 in  \n",
       "\n",
       "[1 rows x 24 columns]"
      ]
     },
     "execution_count": 18,
     "metadata": {},
     "output_type": "execute_result"
    }
   ],
   "source": [
    "output_correct = output_correct.drop_duplicates(ignore_index=True)\n",
    "output_correct = output_correct.sort_values(by=['序号'], ascending=[True]).reset_index(drop=True)\n",
    "output_correct.to_excel('./test_part.xlsx', index=False)\n",
    "\n",
    "output_correct"
   ]
  },
  {
   "cell_type": "code",
   "execution_count": 19,
   "id": "bb3d8b4d",
   "metadata": {},
   "outputs": [
    {
     "data": {
      "text/html": [
       "<div>\n",
       "<style scoped>\n",
       "    .dataframe tbody tr th:only-of-type {\n",
       "        vertical-align: middle;\n",
       "    }\n",
       "\n",
       "    .dataframe tbody tr th {\n",
       "        vertical-align: top;\n",
       "    }\n",
       "\n",
       "    .dataframe thead th {\n",
       "        text-align: right;\n",
       "    }\n",
       "</style>\n",
       "<table border=\"1\" class=\"dataframe\">\n",
       "  <thead>\n",
       "    <tr style=\"text-align: right;\">\n",
       "      <th></th>\n",
       "    </tr>\n",
       "  </thead>\n",
       "  <tbody>\n",
       "  </tbody>\n",
       "</table>\n",
       "</div>"
      ],
      "text/plain": [
       "Empty DataFrame\n",
       "Columns: []\n",
       "Index: []"
      ]
     },
     "execution_count": 19,
     "metadata": {},
     "output_type": "execute_result"
    }
   ],
   "source": [
    "if len(output_error) != 0:\n",
    "    output_error = output_error.drop_duplicates(ignore_index=True)\n",
    "    output_error = output_error.sort_values(by=['No.'], ascending=[True]).reset_index(drop=True)\n",
    "    output_error.to_excel('./test_part_error.xlsx', index=False)\n",
    "\n",
    "output_error"
   ]
  },
  {
   "cell_type": "code",
   "execution_count": null,
   "id": "31ac9610",
   "metadata": {},
   "outputs": [],
   "source": []
  }
 ],
 "metadata": {
  "kernelspec": {
   "display_name": "Python 3 (ipykernel)",
   "language": "python",
   "name": "python3"
  },
  "language_info": {
   "codemirror_mode": {
    "name": "ipython",
    "version": 3
   },
   "file_extension": ".py",
   "mimetype": "text/x-python",
   "name": "python",
   "nbconvert_exporter": "python",
   "pygments_lexer": "ipython3",
   "version": "3.11.3"
  }
 },
 "nbformat": 4,
 "nbformat_minor": 5
}
