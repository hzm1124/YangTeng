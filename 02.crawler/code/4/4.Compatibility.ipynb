{
 "cells": [
  {
   "cell_type": "code",
   "execution_count": 1,
   "id": "fa669609-9648-4262-af13-9f12444656ac",
   "metadata": {},
   "outputs": [
    {
     "data": {
      "text/plain": [
       "{'sku_count': 1401,\n",
       " 'page_count': 15,\n",
       " 'page': 1,\n",
       " 'page_url': 'https://www.cardone.com/motors/wiper-and-washer/windshield-wiper-motor/?pageSize=96&sort=name&page=1',\n",
       " 'page_url_2': 'https://cardone.myconvermax.com/search.json?pagesize=96&sort.0.fieldname=name&page=0&referrer=%2Fmotors%2Fwiper-and-washer%2Fwindshield-wiper-motor%2F',\n",
       " 'no': 1,\n",
       " 'part_code': '82816',\n",
       " 'part_url': 'https://cardone.myconvermax.com/item.json?key=82816',\n",
       " 'compatibility_url': 'https://cardone.myconvermax.com/ymm/fitments.json?productId=82816'}"
      ]
     },
     "execution_count": 1,
     "metadata": {},
     "output_type": "execute_result"
    }
   ],
   "source": [
    "dict_ = {'sku_count': 1401,\n",
    " 'page_count': 15,\n",
    " 'page': 1,\n",
    " 'page_url': 'https://www.cardone.com/motors/wiper-and-washer/windshield-wiper-motor/?pageSize=96&sort=name&page=1',\n",
    " 'page_url_2': 'https://cardone.myconvermax.com/search.json?pagesize=96&sort.0.fieldname=name&page=0&referrer=%2Fmotors%2Fwiper-and-washer%2Fwindshield-wiper-motor%2F',\n",
    " 'no': 1,\n",
    " 'part_code': '82816',\n",
    " 'part_url': 'https://cardone.myconvermax.com/item.json?key=82816',\n",
    " 'compatibility_url': 'https://cardone.myconvermax.com/ymm/fitments.json?productId=82816'}\n",
    "\n",
    "dict_"
   ]
  },
  {
   "cell_type": "code",
   "execution_count": 2,
   "id": "c3c9650c-cd53-4a09-8c7c-4c84093be312",
   "metadata": {},
   "outputs": [],
   "source": [
    "import requests\n",
    "\n",
    "import sys\n",
    "sys.path.append('../00.Tools')\n",
    "from configuration import generate_header, generate_proxy"
   ]
  },
  {
   "cell_type": "code",
   "execution_count": 3,
   "id": "866b0da8-7440-40f3-8754-363776cde011",
   "metadata": {},
   "outputs": [
    {
     "data": {
      "text/plain": [
       "200"
      ]
     },
     "execution_count": 3,
     "metadata": {},
     "output_type": "execute_result"
    }
   ],
   "source": [
    "response = requests.get(dict_['compatibility_url'],\n",
    "                        headers=generate_header(),\n",
    "                        proxies=generate_proxy(),\n",
    "                        timeout=(10, 15),\n",
    "                        allow_redirects=False)\n",
    "\n",
    "response.status_code"
   ]
  },
  {
   "cell_type": "code",
   "execution_count": 4,
   "id": "637c43b3-45bb-41be-8cde-7d8f8d20338e",
   "metadata": {},
   "outputs": [
    {
     "data": {
      "text/plain": [
       "[{'Year': '1993 - 1995',\n",
       "  'Make': 'Chevrolet',\n",
       "  'Model': 'Camaro',\n",
       "  'Engine': '3.4L',\n",
       "  'QualifierText': 'Motor without Washer Pump',\n",
       "  'Position': 'Front'},\n",
       " {'Year': '1995 - 1998',\n",
       "  'Make': 'Chevrolet',\n",
       "  'Model': 'Camaro',\n",
       "  'Engine': '3.8L',\n",
       "  'QualifierText': 'Motor without Washer Pump',\n",
       "  'Position': 'Front'},\n",
       " {'Year': '1993 - 1998',\n",
       "  'Make': 'Chevrolet',\n",
       "  'Model': 'Camaro',\n",
       "  'Engine': '5.7L',\n",
       "  'QualifierText': 'Motor without Washer Pump',\n",
       "  'Position': 'Front'},\n",
       " {'Year': '1993 - 1995',\n",
       "  'Make': 'Pontiac',\n",
       "  'Model': 'Firebird',\n",
       "  'Engine': '3.4L',\n",
       "  'QualifierText': 'Motor without Washer Pump',\n",
       "  'Position': 'Front'},\n",
       " {'Year': '1995 - 1998',\n",
       "  'Make': 'Pontiac',\n",
       "  'Model': 'Firebird',\n",
       "  'Engine': '3.8L',\n",
       "  'QualifierText': 'Motor without Washer Pump',\n",
       "  'Position': 'Front'},\n",
       " {'Year': '1993 - 1998',\n",
       "  'Make': 'Pontiac',\n",
       "  'Model': 'Firebird',\n",
       "  'Engine': '5.7L',\n",
       "  'QualifierText': 'Motor without Washer Pump',\n",
       "  'Position': 'Front'}]"
      ]
     },
     "execution_count": 4,
     "metadata": {},
     "output_type": "execute_result"
    }
   ],
   "source": [
    "list_compatibility = response.json()['Fitments']\n",
    "\n",
    "list_compatibility"
   ]
  },
  {
   "cell_type": "code",
   "execution_count": 5,
   "id": "f47d31b0-e541-4eb0-8349-6e4f97a2d438",
   "metadata": {},
   "outputs": [
    {
     "data": {
      "text/plain": [
       "False"
      ]
     },
     "execution_count": 5,
     "metadata": {},
     "output_type": "execute_result"
    }
   ],
   "source": [
    "not list_compatibility"
   ]
  },
  {
   "cell_type": "code",
   "execution_count": 6,
   "id": "e0a838fb-2524-459f-8497-4ad347807862",
   "metadata": {},
   "outputs": [
    {
     "data": {
      "text/plain": [
       "{'sku_count': 1401,\n",
       " 'page_count': 15,\n",
       " 'page': 1,\n",
       " 'page_url': 'https://www.cardone.com/motors/wiper-and-washer/windshield-wiper-motor/?pageSize=96&sort=name&page=1',\n",
       " 'page_url_2': 'https://cardone.myconvermax.com/search.json?pagesize=96&sort.0.fieldname=name&page=0&referrer=%2Fmotors%2Fwiper-and-washer%2Fwindshield-wiper-motor%2F',\n",
       " 'no': 1,\n",
       " 'part_code': '82816',\n",
       " 'part_url': 'https://cardone.myconvermax.com/item.json?key=82816',\n",
       " 'compatibility_url': 'https://cardone.myconvermax.com/ymm/fitments.json?productId=82816',\n",
       " 'compatibility_no': 1,\n",
       " 'Year': '1993 - 1995',\n",
       " 'Make': 'Chevrolet',\n",
       " 'Model': 'Camaro',\n",
       " 'Engine': '3.4L',\n",
       " 'QualifierText': 'Motor without Washer Pump',\n",
       " 'Position': 'Front'}"
      ]
     },
     "execution_count": 6,
     "metadata": {},
     "output_type": "execute_result"
    }
   ],
   "source": [
    "{**dict_, 'compatibility_no': 1, **list_compatibility[0]}"
   ]
  },
  {
   "cell_type": "code",
   "execution_count": null,
   "id": "e8583847-71e7-438f-9d47-3b54e65d253c",
   "metadata": {},
   "outputs": [],
   "source": []
  }
 ],
 "metadata": {
  "kernelspec": {
   "display_name": "Python 3 (ipykernel)",
   "language": "python",
   "name": "python3"
  },
  "language_info": {
   "codemirror_mode": {
    "name": "ipython",
    "version": 3
   },
   "file_extension": ".py",
   "mimetype": "text/x-python",
   "name": "python",
   "nbconvert_exporter": "python",
   "pygments_lexer": "ipython3",
   "version": "3.12.7"
  }
 },
 "nbformat": 4,
 "nbformat_minor": 5
}
