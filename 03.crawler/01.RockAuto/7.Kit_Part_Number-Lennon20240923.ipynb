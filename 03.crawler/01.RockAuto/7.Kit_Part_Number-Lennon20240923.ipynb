{
 "cells": [
  {
   "cell_type": "code",
   "execution_count": 2,
   "id": "5a52743a-d139-4667-b3b4-363cb166476b",
   "metadata": {},
   "outputs": [
    {
     "name": "stdout",
     "output_type": "stream",
     "text": [
      "crawler_1.xlsx\n"
     ]
    },
    {
     "name": "stderr",
     "output_type": "stream",
     "text": [
      "Progress: 100%|██████████████████████████████| 10/10 [00:00<00:00, 18.08it/s]"
     ]
    },
    {
     "name": "stdout",
     "output_type": "stream",
     "text": [
      "\n",
      "Done ~\n"
     ]
    },
    {
     "name": "stderr",
     "output_type": "stream",
     "text": [
      "\n"
     ]
    }
   ],
   "source": [
    "import os\n",
    "import shutil\n",
    "\n",
    "import pandas as pd\n",
    "\n",
    "from tqdm import tqdm\n",
    "import json\n",
    "\n",
    "# = = = = = = = = = = = = = = =\n",
    "\n",
    "if os.path.exists('./file/7.kit_part_number'):\n",
    "    shutil.rmtree('./file/7.kit_part_number')\n",
    "\n",
    "os.makedirs('./file/7.kit_part_number')\n",
    "\n",
    "# = = = = = = = = = = = = = = =\n",
    "\n",
    "list_file = sorted(list(os.walk('./file/6.kit_input'))[0][2])\n",
    "while '.DS_Store' in list_file:\n",
    "    list_file.remove('.DS_Store')\n",
    "while '0.null.txt' in list_file:\n",
    "    list_file.remove('0.null.txt')\n",
    "    \n",
    "# = = = = = = = = = = = = = = =\n",
    "\n",
    "for file in list_file:\n",
    "    \n",
    "    print(file)\n",
    "\n",
    "    # = = = = = = = = = = = = = = =\n",
    "\n",
    "    input_ = pd.read_excel(f'./file/6.kit_input/{file}',\n",
    "                       header=0,\n",
    "                       dtype=str).fillna('')\n",
    "\n",
    "    input_['No'] = input_['No'].astype(int)\n",
    "    \n",
    "    # = = = = = = = = = = = = = = =\n",
    "\n",
    "    list_column = input_.columns.tolist()\n",
    "    \n",
    "    # = = = = = = = = = = = = = = =\n",
    "\n",
    "    list_df = []\n",
    "    for i in tqdm(range(len(input_)), desc='Progress', ncols=77):\n",
    "        dict_ = json.loads(input_.loc[i, 'Json_Kit'])\n",
    "        \n",
    "        # = = = = = = = = = = = = = = =\n",
    "\n",
    "        if dict_:\n",
    "            for key, value in dict_.items():\n",
    "                df_temp = pd.concat([pd.DataFrame([input_.iloc[i]]).reset_index(drop=True),\n",
    "                                     pd.DataFrame([{'Kit_No': int(key) + 1}]),\n",
    "                                     pd.DataFrame([dict_[key]])], axis=1).fillna('')\n",
    "                list_df.append(df_temp)\n",
    "        else:\n",
    "            list_df.append(pd.DataFrame([input_.iloc[i]]).reset_index(drop=True))\n",
    "\n",
    "        # = = = = = = = = = = = = = = =\n",
    "\n",
    "        output = pd.concat(list_df, ignore_index=True).fillna('')\n",
    "\n",
    "        output = output.sort_values(by=['No', 'Kit_No'],\n",
    "                                    ascending=[True, True],\n",
    "                                    ignore_index=True)\n",
    "\n",
    "        output[list_column + ['Kit_No',\n",
    "                              'Kit_Quantity',\n",
    "                              'Kit_Type',\n",
    "                              'Kit_Manufacturer',\n",
    "                              'Kit_Part Number',\n",
    "                              'Kit_Url',\n",
    "                              'Kit_Json_Src',\n",
    "                              'Kit_Info',                    \n",
    "                              'Kit_Type Code',\n",
    "                              'Kit_Part Code',\n",
    "                              'Kit_JOIN_MPNTCPC']].to_excel(f'./file/7.kit_part_number/{file}', index=False)\n",
    "\n",
    "    # = = = = = = = = = = = = = = =\n",
    "\n",
    "    print()\n",
    "\n",
    "print('Done ~')"
   ]
  },
  {
   "cell_type": "code",
   "execution_count": null,
   "id": "b09555ca-b763-40cc-b060-c17a5d45abd6",
   "metadata": {},
   "outputs": [],
   "source": []
  }
 ],
 "metadata": {
  "kernelspec": {
   "display_name": "Python 3 (ipykernel)",
   "language": "python",
   "name": "python3"
  },
  "language_info": {
   "codemirror_mode": {
    "name": "ipython",
    "version": 3
   },
   "file_extension": ".py",
   "mimetype": "text/x-python",
   "name": "python",
   "nbconvert_exporter": "python",
   "pygments_lexer": "ipython3",
   "version": "3.11.3"
  }
 },
 "nbformat": 4,
 "nbformat_minor": 5
}
