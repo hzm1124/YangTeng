{
 "cells": [
  {
   "cell_type": "code",
   "execution_count": 1,
   "id": "ac7fb788-2e77-4500-b015-18b365a24a8b",
   "metadata": {},
   "outputs": [
    {
     "name": "stdout",
     "output_type": "stream",
     "text": [
      "crawler_1.xlsx\n"
     ]
    },
    {
     "name": "stderr",
     "output_type": "stream",
     "text": [
      "Progress: 100%|██████████████████████████████| 10/10 [00:00<00:00, 43.86it/s]"
     ]
    },
    {
     "name": "stdout",
     "output_type": "stream",
     "text": [
      "\n",
      "Done ~\n"
     ]
    },
    {
     "name": "stderr",
     "output_type": "stream",
     "text": [
      "\n"
     ]
    }
   ],
   "source": [
    "import os\n",
    "import shutil\n",
    "\n",
    "directory_out = './file/7.kit_part_number'\n",
    "\n",
    "if os.path.exists(directory_out):\n",
    "    shutil.rmtree(directory_out)\n",
    "os.makedirs(directory_out)\n",
    "\n",
    "# = = = = = = = = = = = = = = =\n",
    "\n",
    "import pandas as pd\n",
    "\n",
    "from tqdm import tqdm\n",
    "import json\n",
    "\n",
    "# = = = = = = = = = = = = = = =\n",
    "\n",
    "directory_in = './file/6.kit_input'\n",
    "\n",
    "list_file = [file for file in sorted(os.listdir(directory_in)) if file not in ['.DS_Store'] and os.path.isfile(f'{directory_in}/{file}')]\n",
    "for file in list_file:\n",
    "\n",
    "    print(file)\n",
    "\n",
    "    # = = = = = = = = = = = = = = =\n",
    "\n",
    "    df_input = pd.read_excel(f'{directory_in}/{file}',\n",
    "                             header=0,\n",
    "                             dtype=str).fillna('')\n",
    "\n",
    "    df_input['No'] = df_input['No'].astype(int)\n",
    "\n",
    "    # = = = = = = = = = = = = = = =\n",
    "\n",
    "    list_series, list_column = [], df_input.columns.tolist()\n",
    "    for _, series in tqdm(df_input.iterrows(), total=len(df_input), desc='Progress', ncols=77):\n",
    "        dict_dict = json.loads(series['Json_Kit'])\n",
    "\n",
    "        if dict_dict:\n",
    "            for key, value in dict_dict.items():\n",
    "                series_copy = series.copy()\n",
    "                series_copy['[Kit] No'] = int(key) + 1\n",
    "                for k, v in value.items():\n",
    "                    if k == '[Kit] Dict_Src':\n",
    "                        series_copy['[Kit] Json_Src'] = json.dumps(v)\n",
    "                    else:\n",
    "                        series_copy[k] = v\n",
    "                list_series.append(series_copy)\n",
    "        else:\n",
    "            list_series.append(series)\n",
    "\n",
    "    # = = = = = = = = = = = = = = =\n",
    "\n",
    "    df_output = pd.DataFrame(list_series).sort_values(by=['No', '[Kit] No'],\n",
    "                                                      ascending=[True, True],\n",
    "                                                      ignore_index=True)\n",
    "    df_output[list_column + ['[Kit] No',\n",
    "                             '[Kit] Quantity',\n",
    "                             '[Kit] Type',\n",
    "                             '[Kit] Manufacturer',\n",
    "                             '[Kit] Part Number',\n",
    "                             '[Kit] Url',\n",
    "                             '[Kit] Json_Src',\n",
    "                             '[Kit] Info',\n",
    "                             '[Kit] Type Code',\n",
    "                             '[Kit] Part Code',\n",
    "                             '[Kit] JOIN_MPNTCPC']].to_excel(f'{directory_out}/{file}', index=False)\n",
    "\n",
    "print()\n",
    "print('Done ~')"
   ]
  },
  {
   "cell_type": "code",
   "execution_count": null,
   "id": "27293b52-66ed-450d-b1e2-4ca40157e0e7",
   "metadata": {},
   "outputs": [],
   "source": []
  }
 ],
 "metadata": {
  "kernelspec": {
   "display_name": "Python 3 (ipykernel)",
   "language": "python",
   "name": "python3"
  },
  "language_info": {
   "codemirror_mode": {
    "name": "ipython",
    "version": 3
   },
   "file_extension": ".py",
   "mimetype": "text/x-python",
   "name": "python",
   "nbconvert_exporter": "python",
   "pygments_lexer": "ipython3",
   "version": "3.12.7"
  }
 },
 "nbformat": 4,
 "nbformat_minor": 5
}
