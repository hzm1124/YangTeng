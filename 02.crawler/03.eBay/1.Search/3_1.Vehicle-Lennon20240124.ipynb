{
 "cells": [
  {
   "cell_type": "code",
   "execution_count": null,
   "id": "bf8e3b8c",
   "metadata": {},
   "outputs": [],
   "source": [
    "import pandas as pd"
   ]
  },
  {
   "cell_type": "code",
   "execution_count": null,
   "id": "e5d1b49e",
   "metadata": {},
   "outputs": [],
   "source": [
    "df = pd.read_excel('./item.xlsx',\n",
    "                   header=0,\n",
    "                   dtype=str).fillna('')\n",
    "\n",
    "list_item_number = df['Item_Number'].tolist()\n",
    "list_category_id = df['Category_Id'].tolist()\n",
    "list_market_id = df['Market_Id'].tolist()\n",
    "list_vehicle_page = df['Vehicle_Page'].tolist()\n",
    "\n",
    "print('总数量：' + str(len(list_item_number)))\n",
    "list_item_number"
   ]
  },
  {
   "cell_type": "code",
   "execution_count": null,
   "id": "7e9d224c",
   "metadata": {},
   "outputs": [],
   "source": [
    "df = pd.DataFrame()\n",
    "\n",
    "df"
   ]
  },
  {
   "cell_type": "code",
   "execution_count": null,
   "id": "7c612d65",
   "metadata": {},
   "outputs": [],
   "source": [
    "dict_vehicle = {}\n",
    "\n",
    "dict_vehicle"
   ]
  },
  {
   "cell_type": "code",
   "execution_count": null,
   "id": "08d16b1c",
   "metadata": {
    "scrolled": true
   },
   "outputs": [],
   "source": [
    "list_job = []\n",
    "for item_number, category_id, market_id, vehicle_page in zip(list_item_number, list_category_id, list_market_id, list_vehicle_page):\n",
    "    if vehicle_page != '':\n",
    "        dict_vehicle[item_number] = {}\n",
    "        dict_vehicle[item_number]['vehicle_page'] = int(vehicle_page)\n",
    "        for i in range(int(vehicle_page)):\n",
    "            list_job.append((item_number, category_id, market_id, i))\n",
    "            \n",
    "print('总数量：' + str(len(list_job)))\n",
    "list_job"
   ]
  },
  {
   "cell_type": "code",
   "execution_count": null,
   "id": "154e2140",
   "metadata": {},
   "outputs": [],
   "source": [
    "import requests\n",
    "import json"
   ]
  },
  {
   "cell_type": "code",
   "execution_count": null,
   "id": "a611e0be",
   "metadata": {},
   "outputs": [],
   "source": [
    "import sys\n",
    "sys.path.append('../../../00.module')\n",
    "import UA\n",
    "import Proxy\n",
    "\n",
    "i = 0\n",
    "\n",
    "item_number, category_id, market_id, vehicle_page = list_job[i]\n",
    "\n",
    "data = '{\"scopedContext\":{\"catalogDetails\":{\"itemId\":\"' + item_number + '\",\"categoryId\":\"' + category_id + '\",\"marketplaceId\":\"' + market_id + '\"}}}'\n",
    "\n",
    "ua = UA.get_User_Agent_Requests()\n",
    "ua['Content-Type'] = 'application/json'\n",
    "\n",
    "resp = requests.post('https://www.ebay.com/g/api/finders?module_groups=PART_FINDER&referrer=VIEWITEM&offset=' + str(vehicle_page*20) + '&module=COMPATIBILITY_TABLE&_ul=US&_stpos=91710&orig_cvip=true',\n",
    "                     data=data,\n",
    "                     headers=ua,\n",
    "                     proxies=Proxy.get_Proxy_Requests()).text\n",
    "\n",
    "resp = json.loads(resp)\n",
    "\n",
    "resp"
   ]
  },
  {
   "cell_type": "code",
   "execution_count": null,
   "id": "741f47e5",
   "metadata": {},
   "outputs": [],
   "source": [
    "list_header = resp['modules']['COMPATIBILITY_TABLE']['paginatedTable']['header']['cells']\n",
    "\n",
    "list_header"
   ]
  },
  {
   "cell_type": "code",
   "execution_count": null,
   "id": "6f977780",
   "metadata": {},
   "outputs": [],
   "source": [
    "for k in range(len(list_header)):\n",
    "    if 'Make' in list_header[k]['textSpans'][0]['text']:\n",
    "        col_make = k\n",
    "    elif 'Model' in list_header[k]['textSpans'][0]['text']:\n",
    "        col_model = k\n",
    "    elif 'Year' in list_header[k]['textSpans'][0]['text']:\n",
    "        col_year = k\n",
    "        \n",
    "col_make, col_model, col_year"
   ]
  },
  {
   "cell_type": "code",
   "execution_count": null,
   "id": "3a1e7124",
   "metadata": {},
   "outputs": [],
   "source": [
    "list_row = resp['modules']['COMPATIBILITY_TABLE']['paginatedTable']['rows']\n",
    "\n",
    "list_row"
   ]
  },
  {
   "cell_type": "code",
   "execution_count": null,
   "id": "65ecf457",
   "metadata": {},
   "outputs": [],
   "source": [
    "list_vehicle = []\n",
    "for row in list_row:\n",
    "    make = row['cells'][col_make]['textSpans'][0]['text'].strip()\n",
    "    model = row['cells'][col_model]['textSpans'][0]['text'].strip()\n",
    "    year = int(row['cells'][col_year]['textSpans'][0]['text'].strip())\n",
    "    \n",
    "    list_vehicle.append({'make': make, 'model': model, 'year': year})\n",
    "            \n",
    "dict_vehicle[item_number][str(vehicle_page)] = list_vehicle\n",
    "\n",
    "list_vehicle"
   ]
  },
  {
   "cell_type": "code",
   "execution_count": null,
   "id": "e0cf0981",
   "metadata": {},
   "outputs": [],
   "source": [
    "if dict_vehicle[item_number]['vehicle_page']+1 == len(dict_vehicle[item_number]):\n",
    "    print('fuck')"
   ]
  },
  {
   "cell_type": "code",
   "execution_count": null,
   "id": "ab31a5b2",
   "metadata": {
    "scrolled": true
   },
   "outputs": [],
   "source": [
    "new_list_vehicle = []\n",
    "new_dict_vehicle = {}\n",
    "for i in range(dict_vehicle[item_number]['vehicle_page']):\n",
    "    list_vehicle += dict_vehicle[item_number][str(i)]\n",
    "    \n",
    "for vehicle in list_vehicle:\n",
    "    if vehicle['make'] not in new_dict_vehicle:\n",
    "        new_dict_vehicle[vehicle['make']] = {vehicle['model']: [vehicle['year']]}\n",
    "    else:\n",
    "        if vehicle['model'] not in new_dict_vehicle[vehicle['make']]:\n",
    "            new_dict_vehicle[vehicle['make']][vehicle['model']] = [vehicle['year']]\n",
    "        else:\n",
    "            new_dict_vehicle[vehicle['make']][vehicle['model']].append(vehicle['year'])\n",
    "            \n",
    "new_dict_vehicle"
   ]
  },
  {
   "cell_type": "code",
   "execution_count": null,
   "id": "758910f2",
   "metadata": {},
   "outputs": [],
   "source": [
    "new_list_vehicle = []\n",
    "for make in new_dict_vehicle:\n",
    "    for model in new_dict_vehicle[make]:\n",
    "        year_max = max(new_dict_vehicle[make][model])\n",
    "        year_min = min(new_dict_vehicle[make][model])\n",
    "        if year_max == year_min:\n",
    "            new_list_vehicle.append(make + ' ' + model + ' ' + str(year_min))\n",
    "        else:\n",
    "            new_list_vehicle.append(make + ' ' + model + ' ' + str(year_min) + '-' + str(year_max))\n",
    "            \n",
    "vehicle = '\\n'.join(new_list_vehicle)\n",
    "\n",
    "print(vehicle)"
   ]
  },
  {
   "cell_type": "code",
   "execution_count": null,
   "id": "a89cf998",
   "metadata": {},
   "outputs": [],
   "source": [
    "df_temp = pd.DataFrame([{'status': 'ok',\n",
    "                         'Item_Number': item_number,\n",
    "                         'Vehicle': vehicle}])\n",
    "\n",
    "df = pd.concat([df, df_temp], ignore_index=True).fillna('')\n",
    "\n",
    "df"
   ]
  },
  {
   "cell_type": "code",
   "execution_count": null,
   "id": "aa913456",
   "metadata": {},
   "outputs": [],
   "source": []
  }
 ],
 "metadata": {
  "kernelspec": {
   "display_name": "Python 3 (ipykernel)",
   "language": "python",
   "name": "python3"
  },
  "language_info": {
   "codemirror_mode": {
    "name": "ipython",
    "version": 3
   },
   "file_extension": ".py",
   "mimetype": "text/x-python",
   "name": "python",
   "nbconvert_exporter": "python",
   "pygments_lexer": "ipython3",
   "version": "3.11.3"
  }
 },
 "nbformat": 4,
 "nbformat_minor": 5
}
