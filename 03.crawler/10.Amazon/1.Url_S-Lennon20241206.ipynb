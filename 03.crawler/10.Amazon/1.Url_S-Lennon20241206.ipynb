{
 "cells": [
  {
   "cell_type": "code",
   "execution_count": 1,
   "id": "04fd32ae-daca-4db8-95c0-1ca07b9a7033",
   "metadata": {},
   "outputs": [],
   "source": [
    "from selenium.webdriver import ChromeOptions\n",
    "\n",
    "import sys\n",
    "sys.path.append('../00.Tools')\n",
    "from crawler_configuration import get_header, get_proxy\n",
    "\n",
    "from selenium.webdriver import Chrome\n",
    "from selenium.webdriver.chrome.service import Service\n",
    "\n",
    "import time\n",
    "\n",
    "# = = =  = = =  = = =\n",
    "\n",
    "from urllib.parse import urlparse, parse_qs, urlencode\n",
    "\n",
    "# = = =  = = =  = = =\n",
    "\n",
    "import pandas as pd"
   ]
  },
  {
   "cell_type": "code",
   "execution_count": 2,
   "id": "683123d4-59ce-4401-a4a0-09ca203ed98b",
   "metadata": {},
   "outputs": [
    {
     "name": "stdout",
     "output_type": "stream",
     "text": [
      "1\n"
     ]
    },
    {
     "data": {
      "text/plain": [
       "<selenium.webdriver.chrome.webdriver.WebDriver (session=\"1045c542c512b38850488855236f4e2e\")>"
      ]
     },
     "execution_count": 2,
     "metadata": {},
     "output_type": "execute_result"
    }
   ],
   "source": [
    "option = ChromeOptions()\n",
    "option.add_experimental_option('useAutomationExtension', False)\n",
    "option.add_experimental_option('excludeSwitches', ['enable-automation'])\n",
    "option.add_argument('--disable-blink-features=AutomationControlled')\n",
    "option.add_argument('--disable-dev-shm-usage')\n",
    "option.add_argument('--disable-gpu')\n",
    "option.add_argument('--no-sandbox')\n",
    "# option.add_argument('--headless=new')\n",
    "# option.add_argument('blink-settings=imagesEnabled=false')\n",
    "option.add_argument(get_header(method='selenium'))\n",
    "option.add_argument(get_proxy(method='selenium'))\n",
    "option.page_load_strategy = 'normal'\n",
    "\n",
    "driver = Chrome(service=Service('../chromedriver'), options=option)\n",
    "driver.maximize_window()\n",
    "\n",
    "# = = =  = = =  = = =\n",
    "\n",
    "crawler_retry = 0\n",
    "while True:\n",
    "    crawler_retry += 1\n",
    "    print(crawler_retry)\n",
    "    try:\n",
    "        driver.get('https://www.amazon.com/?language=en_US')\n",
    "        time.sleep(1)\n",
    "        driver.execute_script(\"window.scrollTo(0, 0.2 * document.body.scrollHeight);\")\n",
    "        time.sleep(1.5)\n",
    "        driver.execute_script(\"window.scrollTo(0, 0.45 * document.body.scrollHeight);\")\n",
    "        time.sleep(0.7)\n",
    "        driver.execute_script(\"window.scrollTo(0, 0.7 * document.body.scrollHeight);\")\n",
    "        time.sleep(1.2)\n",
    "        driver.execute_script(\"window.scrollTo(0, 0.95 * document.body.scrollHeight);\")\n",
    "        time.sleep(1)\n",
    "        driver.execute_script(\"window.scrollTo(0, 0);\")\n",
    "\n",
    "        break\n",
    "    except KeyboardInterrupt:\n",
    "        break\n",
    "    except:\n",
    "        time.sleep(3)\n",
    "        continue\n",
    "\n",
    "driver"
   ]
  },
  {
   "cell_type": "code",
   "execution_count": 3,
   "id": "2565c290-4ff7-4f83-ade6-da35107cf326",
   "metadata": {},
   "outputs": [
    {
     "data": {
      "text/plain": [
       "[]"
      ]
     },
     "execution_count": 3,
     "metadata": {},
     "output_type": "execute_result"
    }
   ],
   "source": [
    "list_url = []\n",
    "\n",
    "list_url"
   ]
  },
  {
   "cell_type": "markdown",
   "id": "a033c0fb-7401-4be5-8864-f31444e879d4",
   "metadata": {},
   "source": [
    "# 1. BSR"
   ]
  },
  {
   "cell_type": "code",
   "execution_count": null,
   "id": "e6f450b2-92c0-47b6-a091-4c456a1c6444",
   "metadata": {},
   "outputs": [],
   "source": [
    "from bs4 import BeautifulSoup\n",
    "from lxml import etree\n",
    "\n",
    "import json\n",
    "\n",
    "soup = BeautifulSoup(driver.page_source, 'lxml')\n",
    "html = etree.HTML(str(soup))\n",
    "\n",
    "list_dict = json.loads(html.xpath('//div[@data-client-recs-list]/@data-client-recs-list')[0])\n",
    "list_url_temp = [f'''https://www.amazon.com/dp/{dict_['id']}''' for dict_ in list_dict]\n",
    "\n",
    "len(list_url_temp), list_url_temp[-1]"
   ]
  },
  {
   "cell_type": "code",
   "execution_count": null,
   "id": "aa3a4cc8-e2e9-48ef-8c6b-a113e9481a45",
   "metadata": {},
   "outputs": [],
   "source": [
    "list_url.extend(list_url_temp)\n",
    "\n",
    "len(list_url)"
   ]
  },
  {
   "cell_type": "markdown",
   "id": "8321b2c9-7664-423f-be3d-9f0979ddfa0e",
   "metadata": {},
   "source": [
    "# 2. Search 1"
   ]
  },
  {
   "cell_type": "code",
   "execution_count": 4,
   "id": "3ac9ec51-7693-4046-879e-4e1fa7eef198",
   "metadata": {},
   "outputs": [
    {
     "ename": "IndexError",
     "evalue": "list index out of range",
     "output_type": "error",
     "traceback": [
      "\u001b[0;31m---------------------------------------------------------------------------\u001b[0m",
      "\u001b[0;31mIndexError\u001b[0m                                Traceback (most recent call last)",
      "Cell \u001b[0;32mIn[4], line 11\u001b[0m\n\u001b[1;32m      7\u001b[0m html \u001b[38;5;241m=\u001b[39m etree\u001b[38;5;241m.\u001b[39mHTML(\u001b[38;5;28mstr\u001b[39m(soup))\n\u001b[1;32m      9\u001b[0m list_url_temp \u001b[38;5;241m=\u001b[39m [\u001b[38;5;124mf\u001b[39m\u001b[38;5;124m'\u001b[39m\u001b[38;5;124mhttps://www.amazon.com\u001b[39m\u001b[38;5;132;01m{\u001b[39;00mhref\u001b[38;5;241m.\u001b[39mstrip()\u001b[38;5;132;01m}\u001b[39;00m\u001b[38;5;124m'\u001b[39m \u001b[38;5;28;01mfor\u001b[39;00m href \u001b[38;5;129;01min\u001b[39;00m html\u001b[38;5;241m.\u001b[39mxpath(\u001b[38;5;124m'\u001b[39m\u001b[38;5;124m//div[@class=\u001b[39m\u001b[38;5;124m\"\u001b[39m\u001b[38;5;124ma-section a-spacing-none puis-padding-right-small s-title-instructions-style\u001b[39m\u001b[38;5;124m\"\u001b[39m\u001b[38;5;124m]/h2/a/@href\u001b[39m\u001b[38;5;124m'\u001b[39m)]\n\u001b[0;32m---> 11\u001b[0m \u001b[38;5;28mlen\u001b[39m(list_url_temp), \u001b[43mlist_url_temp\u001b[49m\u001b[43m[\u001b[49m\u001b[38;5;241;43m-\u001b[39;49m\u001b[38;5;241;43m1\u001b[39;49m\u001b[43m]\u001b[49m\n",
      "\u001b[0;31mIndexError\u001b[0m: list index out of range"
     ]
    }
   ],
   "source": [
    "from bs4 import BeautifulSoup\n",
    "from lxml import etree\n",
    "\n",
    "import json\n",
    "\n",
    "soup = BeautifulSoup(driver.page_source, 'lxml')\n",
    "html = etree.HTML(str(soup))\n",
    "\n",
    "list_url_temp = [f'https://www.amazon.com{href.strip()}' for href in html.xpath('//div[@class=\"a-section a-spacing-none puis-padding-right-small s-title-instructions-style\"]/h2/a/@href')]\n",
    "\n",
    "len(list_url_temp), list_url_temp[-1]"
   ]
  },
  {
   "cell_type": "code",
   "execution_count": null,
   "id": "081a50d3-9426-4548-82c8-3a4583225869",
   "metadata": {},
   "outputs": [],
   "source": [
    "list_url.extend(list_url_temp)\n",
    "\n",
    "len(list_url)"
   ]
  },
  {
   "cell_type": "markdown",
   "id": "6f33194d-c2c1-4240-9384-97ae2669c52b",
   "metadata": {},
   "source": [
    "# 3. Search 2"
   ]
  },
  {
   "cell_type": "code",
   "execution_count": 16,
   "id": "5743e335-f9ca-4363-840c-a61f6e38c4b9",
   "metadata": {},
   "outputs": [
    {
     "data": {
      "text/plain": [
       "(24,\n",
       " 'https://www.amazon.com/Kesoto-Conditioning-Refrigeration-Copper-Valve/dp/B07KMGRG3G/ref=sr_1_134?crid=31VO9AFIVUTQ7&dib=eyJ2IjoiMSJ9.ZtSydL7_OFRZTCHIiWcptswRRBwQO8r5OnBenEoldaQzWyOMAqZDJivP7-cSDHA1bo1w-DtqYtQRqOans2mWhsbJ1bSkLVEMybrcNI9LuPPbys1Pvay7aKjsG6tbYkbT0TM8vlctUPOhndrU5_gVoiNlyZuAVPpFZWwSmoc9lm5_IsmR_wvMQ1Tc8ujbtViqTSDEpI9YdT5ouCeIErMnxg.sx0KoVQvXrgE69Ogd0pWpvq6nX-gOoxRxGdn-fKH_Kg&dib_tag=se&keywords=ac+repair+kit&qid=1733466682&s=automotive&sprefix=ac+repair%2Cautomotive%2C968&sr=1-134')"
      ]
     },
     "execution_count": 16,
     "metadata": {},
     "output_type": "execute_result"
    }
   ],
   "source": [
    "from bs4 import BeautifulSoup\n",
    "from lxml import etree\n",
    "\n",
    "import json\n",
    "\n",
    "soup = BeautifulSoup(driver.page_source, 'lxml')\n",
    "html = etree.HTML(str(soup))\n",
    "\n",
    "list_url_temp = [f'https://www.amazon.com{href.strip()}' for href in html.xpath('//div[@class=\"a-section a-spacing-none a-spacing-top-small s-title-instructions-style\"]/h2/a/@href')]\n",
    "\n",
    "len(list_url_temp), list_url_temp[-1]"
   ]
  },
  {
   "cell_type": "code",
   "execution_count": 17,
   "id": "db96f30c-041b-411c-9a4a-bac707537124",
   "metadata": {},
   "outputs": [
    {
     "data": {
      "text/plain": [
       "153"
      ]
     },
     "execution_count": 17,
     "metadata": {},
     "output_type": "execute_result"
    }
   ],
   "source": [
    "list_url.extend(list_url_temp)\n",
    "\n",
    "len(list_url)"
   ]
  },
  {
   "cell_type": "markdown",
   "id": "76e85689-e22f-4d96-87c8-23dade7f133d",
   "metadata": {},
   "source": [
    "# 4. temp"
   ]
  },
  {
   "cell_type": "code",
   "execution_count": 5,
   "id": "2797eda2-eda2-45ec-838b-593943c50e61",
   "metadata": {},
   "outputs": [
    {
     "ename": "IndexError",
     "evalue": "list index out of range",
     "output_type": "error",
     "traceback": [
      "\u001b[0;31m---------------------------------------------------------------------------\u001b[0m",
      "\u001b[0;31mIndexError\u001b[0m                                Traceback (most recent call last)",
      "Cell \u001b[0;32mIn[5], line 11\u001b[0m\n\u001b[1;32m      7\u001b[0m html \u001b[38;5;241m=\u001b[39m etree\u001b[38;5;241m.\u001b[39mHTML(\u001b[38;5;28mstr\u001b[39m(soup))\n\u001b[1;32m      9\u001b[0m list_url_temp \u001b[38;5;241m=\u001b[39m [\u001b[38;5;124mf\u001b[39m\u001b[38;5;124m'\u001b[39m\u001b[38;5;124mhttps://www.amazon.com\u001b[39m\u001b[38;5;132;01m{\u001b[39;00mhref\u001b[38;5;241m.\u001b[39mstrip()\u001b[38;5;132;01m}\u001b[39;00m\u001b[38;5;124m'\u001b[39m \u001b[38;5;28;01mfor\u001b[39;00m href \u001b[38;5;129;01min\u001b[39;00m html\u001b[38;5;241m.\u001b[39mxpath(\u001b[38;5;124m'\u001b[39m\u001b[38;5;124m//li[@data-testid=\u001b[39m\u001b[38;5;124m\"\u001b[39m\u001b[38;5;124mproduct-grid-item\u001b[39m\u001b[38;5;124m\"\u001b[39m\u001b[38;5;124m]/div/a/@href\u001b[39m\u001b[38;5;124m'\u001b[39m)]\n\u001b[0;32m---> 11\u001b[0m \u001b[38;5;28mlen\u001b[39m(list_url_temp), \u001b[43mlist_url_temp\u001b[49m\u001b[43m[\u001b[49m\u001b[38;5;241;43m-\u001b[39;49m\u001b[38;5;241;43m1\u001b[39;49m\u001b[43m]\u001b[49m\n",
      "\u001b[0;31mIndexError\u001b[0m: list index out of range"
     ]
    }
   ],
   "source": [
    "from bs4 import BeautifulSoup\n",
    "from lxml import etree\n",
    "\n",
    "import json\n",
    "\n",
    "soup = BeautifulSoup(driver.page_source, 'lxml')\n",
    "html = etree.HTML(str(soup))\n",
    "\n",
    "list_url_temp = [f'https://www.amazon.com{href.strip()}' for href in html.xpath('//li[@data-testid=\"product-grid-item\"]/div/a/@href')]\n",
    "\n",
    "len(list_url_temp), list_url_temp[-1]"
   ]
  },
  {
   "cell_type": "code",
   "execution_count": null,
   "id": "d0d9ff94-ea31-4bda-b1be-8ebbceb39468",
   "metadata": {},
   "outputs": [],
   "source": [
    "list_url.extend(list_url_temp)\n",
    "\n",
    "len(list_url)"
   ]
  },
  {
   "cell_type": "markdown",
   "id": "1c8349d9-e9f4-4a6f-8810-49ed0e5c01a8",
   "metadata": {},
   "source": [
    "# = = =  = = =  = = ="
   ]
  },
  {
   "cell_type": "code",
   "execution_count": null,
   "id": "b1d2fc38-cc14-40c1-96f7-b92d7faaa3b0",
   "metadata": {
    "scrolled": true
   },
   "outputs": [],
   "source": [
    "driver.quit()\n",
    "\n",
    "print('Data Outputting...')\n",
    "if list_url:\n",
    "    df = pd.DataFrame({'No': range(1, len(list_url) + 1),\n",
    "                       'Url': list_url})\n",
    "    df.to_excel('./file/1.url.xlsx', index=False)\n",
    "print('Output Finished !')\n",
    "print()\n",
    "\n",
    "df"
   ]
  },
  {
   "cell_type": "code",
   "execution_count": null,
   "id": "65a73d55-f26c-466a-89d7-529fb5ec190b",
   "metadata": {},
   "outputs": [],
   "source": []
  }
 ],
 "metadata": {
  "kernelspec": {
   "display_name": "Python 3 (ipykernel)",
   "language": "python",
   "name": "python3"
  },
  "language_info": {
   "codemirror_mode": {
    "name": "ipython",
    "version": 3
   },
   "file_extension": ".py",
   "mimetype": "text/x-python",
   "name": "python",
   "nbconvert_exporter": "python",
   "pygments_lexer": "ipython3",
   "version": "3.12.7"
  }
 },
 "nbformat": 4,
 "nbformat_minor": 5
}
