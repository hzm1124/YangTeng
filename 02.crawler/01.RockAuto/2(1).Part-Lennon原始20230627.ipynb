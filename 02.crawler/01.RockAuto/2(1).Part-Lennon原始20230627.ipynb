{
 "cells": [
  {
   "cell_type": "code",
   "execution_count": 1,
   "id": "62cb4f87",
   "metadata": {},
   "outputs": [],
   "source": [
    "list_user_agent = ['Mozilla/5.0 (Macintosh; Intel Mac OS X 10_15_7) AppleWebKit/537.36 (KHTML, like Gecko) Chrome/114.0.5735.90 Safari/537.36',\n",
    "                   'Mozilla/5.0 (Macintosh; Intel Mac OS X 10_15_7) AppleWebKit/537.36 (KHTML, like Gecko) Chrome/114.0.5735.16 Safari/537.36',\n",
    "                   'Mozilla/5.0 (Macintosh; Intel Mac OS X 10_15_7) AppleWebKit/537.36 (KHTML, like Gecko) Chrome/113.0.5672.63 Safari/537.36',\n",
    "                   'Mozilla/5.0 (Macintosh; Intel Mac OS X 10_15_7) AppleWebKit/537.36 (KHTML, like Gecko) Chrome/113.0.5672.24 Safari/537.36',\n",
    "                   'Mozilla/5.0 (Macintosh; Intel Mac OS X 10_15_7) AppleWebKit/537.36 (KHTML, like Gecko) Chrome/112.0.5615.49 Safari/537.36',\n",
    "                   'Mozilla/5.0 (Macintosh; Intel Mac OS X 10_15_7) AppleWebKit/537.36 (KHTML, like Gecko) Chrome/112.0.5615.28 Safari/537.36',\n",
    "                   'Mozilla/5.0 (Macintosh; Intel Mac OS X 10_15_7) AppleWebKit/537.36 (KHTML, like Gecko) Chrome/111.0.5563.64 Safari/537.36',\n",
    "                   'Mozilla/5.0 (Macintosh; Intel Mac OS X 10_15_7) AppleWebKit/537.36 (KHTML, like Gecko) Chrome/111.0.5563.41 Safari/537.36',\n",
    "                   'Mozilla/5.0 (Macintosh; Intel Mac OS X 10_15_7) AppleWebKit/537.36 (KHTML, like Gecko) Chrome/111.0.5563.19 Safari/537.36',\n",
    "                   'Mozilla/5.0 (Macintosh; Intel Mac OS X 10_15_7) AppleWebKit/537.36 (KHTML, like Gecko) Chrome/110.0.5481.77 Safari/537.36',\n",
    "                   'Mozilla/5.0 (Macintosh; Intel Mac OS X 10_15_7) AppleWebKit/537.36 (KHTML, like Gecko) Chrome/110.0.5481.30 Safari/537.36',\n",
    "                   'Mozilla/5.0 (Macintosh; Intel Mac OS X 10_15_7) AppleWebKit/537.36 (KHTML, like Gecko) Chrome/109.0.5414.74 Safari/537.36',\n",
    "                   'Mozilla/5.0 (Macintosh; Intel Mac OS X 10_15_7) AppleWebKit/537.36 (KHTML, like Gecko) Chrome/109.0.5414.25 Safari/537.36',\n",
    "                   'Mozilla/5.0 (Macintosh; Intel Mac OS X 10_15_7) AppleWebKit/537.36 (KHTML, like Gecko) Chrome/108.0.5359.71 Safari/537.36',\n",
    "                   'Mozilla/5.0 (Macintosh; Intel Mac OS X 10_15_7) AppleWebKit/537.36 (KHTML, like Gecko) Chrome/108.0.5359.22 Safari/537.36',\n",
    "                   'Mozilla/5.0 (Macintosh; Intel Mac OS X 10_15_7) AppleWebKit/537.36 (KHTML, like Gecko) Chrome/107.0.5304.62 Safari/537.36',\n",
    "                   'Mozilla/5.0 (Macintosh; Intel Mac OS X 10_15_7) AppleWebKit/537.36 (KHTML, like Gecko) Chrome/107.0.5304.18 Safari/537.36',\n",
    "                   'Mozilla/5.0 (Macintosh; Intel Mac OS X 10_15_7) AppleWebKit/537.36 (KHTML, like Gecko) Chrome/106.0.5249.61 Safari/537.36',\n",
    "                   'Mozilla/5.0 (Macintosh; Intel Mac OS X 10_15_7) AppleWebKit/537.36 (KHTML, like Gecko) Chrome/106.0.5249.21 Safari/537.36',\n",
    "                   'Mozilla/5.0 (Macintosh; Intel Mac OS X 10_15_7) AppleWebKit/537.36 (KHTML, like Gecko) Chrome/105.0.5195.52 Safari/537.36',\n",
    "                   'Mozilla/5.0 (Macintosh; Intel Mac OS X 10_15_7) AppleWebKit/537.36 (KHTML, like Gecko) Chrome/105.0.5195.19 Safari/537.36',\n",
    "                   'Mozilla/5.0 (Macintosh; Intel Mac OS X 10_15_7) AppleWebKit/537.36 (KHTML, like Gecko) Chrome/104.0.5112.79 Safari/537.36',\n",
    "                   'Mozilla/5.0 (Macintosh; Intel Mac OS X 10_15_7) AppleWebKit/537.36 (KHTML, like Gecko) Chrome/104.0.5112.29 Safari/537.36',\n",
    "                   'Mozilla/5.0 (Macintosh; Intel Mac OS X 10_15_7) AppleWebKit/537.36 (KHTML, like Gecko) Chrome/104.0.5112.20 Safari/537.36',\n",
    "                   'Mozilla/5.0 (Macintosh; Intel Mac OS X 10_15_7) AppleWebKit/537.36 (KHTML, like Gecko) Chrome/103.0.5060.53 Safari/537.36',\n",
    "                   'Mozilla/5.0 (Macintosh; Intel Mac OS X 10_15_7) AppleWebKit/537.36 (KHTML, like Gecko) Chrome/103.0.5060.24 Safari/537.36',\n",
    "                   'Mozilla/5.0 (Macintosh; Intel Mac OS X 10_15_7) AppleWebKit/537.36 (KHTML, like Gecko) Chrome/103.0.5060.134 Safari/537.36',\n",
    "                   'Mozilla/5.0 (Macintosh; Intel Mac OS X 10_15_7) AppleWebKit/537.36 (KHTML, like Gecko) Chrome/102.0.5005.61 Safari/537.36',\n",
    "                   'Mozilla/5.0 (Macintosh; Intel Mac OS X 10_15_7) AppleWebKit/537.36 (KHTML, like Gecko) Chrome/102.0.5005.27 Safari/537.36',\n",
    "                   'Mozilla/5.0 (Macintosh; Intel Mac OS X 10_15_7) AppleWebKit/537.36 (KHTML, like Gecko) Chrome/101.0.4951.41 Safari/537.36',\n",
    "                   'Mozilla/5.0 (Macintosh; Intel Mac OS X 10_15_7) AppleWebKit/537.36 (KHTML, like Gecko) Chrome/101.0.4951.15 Safari/537.36',\n",
    "                   'Mozilla/5.0 (Macintosh; Intel Mac OS X 10_15_7) AppleWebKit/537.36 (KHTML, like Gecko) Chrome/100.0.4896.60 Safari/537.36',\n",
    "                   'Mozilla/5.0 (Macintosh; Intel Mac OS X 10_15_7) AppleWebKit/537.36 (KHTML, like Gecko) Chrome/100.0.4896.20 Safari/537.36']"
   ]
  },
  {
   "cell_type": "code",
   "execution_count": 2,
   "id": "75615279",
   "metadata": {},
   "outputs": [],
   "source": [
    "import pandas as pd"
   ]
  },
  {
   "cell_type": "code",
   "execution_count": 3,
   "id": "95822d56",
   "metadata": {
    "scrolled": true
   },
   "outputs": [
    {
     "name": "stdout",
     "output_type": "stream",
     "text": [
      "总数量：486\n"
     ]
    },
    {
     "data": {
      "text/plain": [
       "['https://www.rockauto.com/en/parts/standard+motor+products,ALS100,speed+sensor,10634',\n",
       " 'https://www.rockauto.com/en/parts/standard+motor+products,ALS1807,speed+sensor,10634',\n",
       " 'https://www.rockauto.com/en/parts/standard+motor+products,PC513,speed+sensor,10634',\n",
       " 'https://www.rockauto.com/en/parts/standard+motor+products,PC514,speed+sensor,10634',\n",
       " 'https://www.rockauto.com/en/parts/standard+motor+products,SC10,speed+sensor,10634',\n",
       " 'https://www.rockauto.com/en/parts/standard+motor+products,SC100,speed+sensor,10634',\n",
       " 'https://www.rockauto.com/en/parts/standard+motor+products,SC102,speed+sensor,10634',\n",
       " 'https://www.rockauto.com/en/parts/standard+motor+products,SC103,speed+sensor,10634',\n",
       " 'https://www.rockauto.com/en/parts/standard+motor+products,SC103T,speed+sensor,10634',\n",
       " 'https://www.rockauto.com/en/parts/standard+motor+products,SC104,speed+sensor,10634',\n",
       " 'https://www.rockauto.com/en/parts/standard+motor+products,SC104T,speed+sensor,10634',\n",
       " 'https://www.rockauto.com/en/parts/standard+motor+products,SC105,speed+sensor,10634',\n",
       " 'https://www.rockauto.com/en/parts/standard+motor+products,SC105T,speed+sensor,10634',\n",
       " 'https://www.rockauto.com/en/parts/standard+motor+products,SC106,speed+sensor,10634',\n",
       " 'https://www.rockauto.com/en/parts/standard+motor+products,SC108,speed+sensor,10634',\n",
       " 'https://www.rockauto.com/en/parts/standard+motor+products,SC109,speed+sensor,10634',\n",
       " 'https://www.rockauto.com/en/parts/standard+motor+products,SC109T,speed+sensor,10634',\n",
       " 'https://www.rockauto.com/en/parts/standard+motor+products,SC110,speed+sensor,10634',\n",
       " 'https://www.rockauto.com/en/parts/standard+motor+products,SC111,speed+sensor,10634',\n",
       " 'https://www.rockauto.com/en/parts/standard+motor+products,SC113,speed+sensor,10634',\n",
       " 'https://www.rockauto.com/en/parts/standard+motor+products,SC117,speed+sensor,10634',\n",
       " 'https://www.rockauto.com/en/parts/standard+motor+products,SC12,speed+sensor,10634',\n",
       " 'https://www.rockauto.com/en/parts/standard+motor+products,SC121,speed+sensor,10634',\n",
       " 'https://www.rockauto.com/en/parts/standard+motor+products,SC123,speed+sensor,10634',\n",
       " 'https://www.rockauto.com/en/parts/standard+motor+products,SC124,speed+sensor,10634',\n",
       " 'https://www.rockauto.com/en/parts/standard+motor+products,SC125,speed+sensor,10634',\n",
       " 'https://www.rockauto.com/en/parts/standard+motor+products,SC126,speed+sensor,10634',\n",
       " 'https://www.rockauto.com/en/parts/standard+motor+products,SC127,speed+sensor,10634',\n",
       " 'https://www.rockauto.com/en/parts/standard+motor+products,SC129,speed+sensor,10634',\n",
       " 'https://www.rockauto.com/en/parts/standard+motor+products,SC130,speed+sensor,10634',\n",
       " 'https://www.rockauto.com/en/parts/standard+motor+products,SC131,speed+sensor,10634',\n",
       " 'https://www.rockauto.com/en/parts/standard+motor+products,SC131T,speed+sensor,10634',\n",
       " 'https://www.rockauto.com/en/parts/standard+motor+products,SC133,speed+sensor,10634',\n",
       " 'https://www.rockauto.com/en/parts/standard+motor+products,SC134,speed+sensor,10634',\n",
       " 'https://www.rockauto.com/en/parts/standard+motor+products,SC136,speed+sensor,10634',\n",
       " 'https://www.rockauto.com/en/parts/standard+motor+products,SC136T,speed+sensor,10634',\n",
       " 'https://www.rockauto.com/en/parts/standard+motor+products,SC137,speed+sensor,10634',\n",
       " 'https://www.rockauto.com/en/parts/standard+motor+products,SC142,speed+sensor,10634',\n",
       " 'https://www.rockauto.com/en/parts/standard+motor+products,SC143,speed+sensor,10634',\n",
       " 'https://www.rockauto.com/en/parts/standard+motor+products,SC144,speed+sensor,10634',\n",
       " 'https://www.rockauto.com/en/parts/standard+motor+products,SC146,speed+sensor,10634',\n",
       " 'https://www.rockauto.com/en/parts/standard+motor+products,SC147,speed+sensor,10634',\n",
       " 'https://www.rockauto.com/en/parts/standard+motor+products,SC148,speed+sensor,10634',\n",
       " 'https://www.rockauto.com/en/parts/standard+motor+products,SC149,speed+sensor,10634',\n",
       " 'https://www.rockauto.com/en/parts/standard+motor+products,SC150,speed+sensor,10634',\n",
       " 'https://www.rockauto.com/en/parts/standard+motor+products,SC151,speed+sensor,10634',\n",
       " 'https://www.rockauto.com/en/parts/standard+motor+products,SC153,speed+sensor,10634',\n",
       " 'https://www.rockauto.com/en/parts/standard+motor+products,SC153T,speed+sensor,10634',\n",
       " 'https://www.rockauto.com/en/parts/standard+motor+products,SC154,speed+sensor,10634',\n",
       " 'https://www.rockauto.com/en/parts/standard+motor+products,SC156,speed+sensor,10634',\n",
       " 'https://www.rockauto.com/en/parts/standard+motor+products,SC157,speed+sensor,10634',\n",
       " 'https://www.rockauto.com/en/parts/standard+motor+products,SC158,speed+sensor,10634',\n",
       " 'https://www.rockauto.com/en/parts/standard+motor+products,SC159,speed+sensor,10634',\n",
       " 'https://www.rockauto.com/en/parts/standard+motor+products,SC160,speed+sensor,10634',\n",
       " 'https://www.rockauto.com/en/parts/standard+motor+products,SC161,speed+sensor,10634',\n",
       " 'https://www.rockauto.com/en/parts/standard+motor+products,SC162,speed+sensor,10634',\n",
       " 'https://www.rockauto.com/en/parts/standard+motor+products,SC163,speed+sensor,10634',\n",
       " 'https://www.rockauto.com/en/parts/standard+motor+products,SC167,speed+sensor,10634',\n",
       " 'https://www.rockauto.com/en/parts/standard+motor+products,SC168,speed+sensor,10634',\n",
       " 'https://www.rockauto.com/en/parts/standard+motor+products,SC168T,speed+sensor,10634',\n",
       " 'https://www.rockauto.com/en/parts/standard+motor+products,SC169,speed+sensor,10634',\n",
       " 'https://www.rockauto.com/en/parts/standard+motor+products,SC171,speed+sensor,10634',\n",
       " 'https://www.rockauto.com/en/parts/standard+motor+products,SC172,speed+sensor,10634',\n",
       " 'https://www.rockauto.com/en/parts/standard+motor+products,SC173,speed+sensor,10634',\n",
       " 'https://www.rockauto.com/en/parts/standard+motor+products,SC174,speed+sensor,10634',\n",
       " 'https://www.rockauto.com/en/parts/standard+motor+products,SC175,speed+sensor,10634',\n",
       " 'https://www.rockauto.com/en/parts/standard+motor+products,SC176,speed+sensor,10634',\n",
       " 'https://www.rockauto.com/en/parts/standard+motor+products,SC177,speed+sensor,10634',\n",
       " 'https://www.rockauto.com/en/parts/standard+motor+products,SC180,speed+sensor,10634',\n",
       " 'https://www.rockauto.com/en/parts/standard+motor+products,SC182,speed+sensor,10634',\n",
       " 'https://www.rockauto.com/en/parts/standard+motor+products,SC183,speed+sensor,10634',\n",
       " 'https://www.rockauto.com/en/parts/standard+motor+products,SC187,speed+sensor,10634',\n",
       " 'https://www.rockauto.com/en/parts/standard+motor+products,SC188,speed+sensor,10634',\n",
       " 'https://www.rockauto.com/en/parts/standard+motor+products,SC189,speed+sensor,10634',\n",
       " 'https://www.rockauto.com/en/parts/standard+motor+products,SC19,speed+sensor,10634',\n",
       " 'https://www.rockauto.com/en/parts/standard+motor+products,SC193,speed+sensor,10634',\n",
       " 'https://www.rockauto.com/en/parts/standard+motor+products,SC198,speed+sensor,10634',\n",
       " 'https://www.rockauto.com/en/parts/standard+motor+products,SC199,speed+sensor,10634',\n",
       " 'https://www.rockauto.com/en/parts/standard+motor+products,SC20,speed+sensor,10634',\n",
       " 'https://www.rockauto.com/en/parts/standard+motor+products,SC200,speed+sensor,10634',\n",
       " 'https://www.rockauto.com/en/parts/standard+motor+products,SC201,speed+sensor,10634',\n",
       " 'https://www.rockauto.com/en/parts/standard+motor+products,SC202,speed+sensor,10634',\n",
       " 'https://www.rockauto.com/en/parts/standard+motor+products,SC204,speed+sensor,10634',\n",
       " 'https://www.rockauto.com/en/parts/standard+motor+products,SC205,speed+sensor,10634',\n",
       " 'https://www.rockauto.com/en/parts/standard+motor+products,SC208,speed+sensor,10634',\n",
       " 'https://www.rockauto.com/en/parts/standard+motor+products,SC209,speed+sensor,10634',\n",
       " 'https://www.rockauto.com/en/parts/standard+motor+products,SC21,speed+sensor,10634',\n",
       " 'https://www.rockauto.com/en/parts/standard+motor+products,SC210,speed+sensor,10634',\n",
       " 'https://www.rockauto.com/en/parts/standard+motor+products,SC212,speed+sensor,10634',\n",
       " 'https://www.rockauto.com/en/parts/standard+motor+products,SC213,speed+sensor,10634',\n",
       " 'https://www.rockauto.com/en/parts/standard+motor+products,SC214,speed+sensor,10634',\n",
       " 'https://www.rockauto.com/en/parts/standard+motor+products,SC215,speed+sensor,10634',\n",
       " 'https://www.rockauto.com/en/parts/standard+motor+products,SC22,speed+sensor,10634',\n",
       " 'https://www.rockauto.com/en/parts/standard+motor+products,SC224,speed+sensor,10634',\n",
       " 'https://www.rockauto.com/en/parts/standard+motor+products,SC225,speed+sensor,10634',\n",
       " 'https://www.rockauto.com/en/parts/standard+motor+products,SC226,speed+sensor,10634',\n",
       " 'https://www.rockauto.com/en/parts/standard+motor+products,SC229,speed+sensor,10634',\n",
       " 'https://www.rockauto.com/en/parts/standard+motor+products,SC230,speed+sensor,10634',\n",
       " 'https://www.rockauto.com/en/parts/standard+motor+products,SC232,speed+sensor,10634',\n",
       " 'https://www.rockauto.com/en/parts/standard+motor+products,SC233,speed+sensor,10634',\n",
       " 'https://www.rockauto.com/en/parts/standard+motor+products,SC234,speed+sensor,10634',\n",
       " 'https://www.rockauto.com/en/parts/standard+motor+products,SC235,speed+sensor,10634',\n",
       " 'https://www.rockauto.com/en/parts/standard+motor+products,SC236,speed+sensor,10634',\n",
       " 'https://www.rockauto.com/en/parts/standard+motor+products,SC237,speed+sensor,10634',\n",
       " 'https://www.rockauto.com/en/parts/standard+motor+products,SC238,speed+sensor,10634',\n",
       " 'https://www.rockauto.com/en/parts/standard+motor+products,SC239,speed+sensor,10634',\n",
       " 'https://www.rockauto.com/en/parts/standard+motor+products,SC240,speed+sensor,10634',\n",
       " 'https://www.rockauto.com/en/parts/standard+motor+products,SC241,speed+sensor,10634',\n",
       " 'https://www.rockauto.com/en/parts/standard+motor+products,SC242,speed+sensor,10634',\n",
       " 'https://www.rockauto.com/en/parts/standard+motor+products,SC244,speed+sensor,10634',\n",
       " 'https://www.rockauto.com/en/parts/standard+motor+products,SC245,speed+sensor,10634',\n",
       " 'https://www.rockauto.com/en/parts/standard+motor+products,SC247,speed+sensor,10634',\n",
       " 'https://www.rockauto.com/en/parts/standard+motor+products,SC249,speed+sensor,10634',\n",
       " 'https://www.rockauto.com/en/parts/standard+motor+products,SC251,speed+sensor,10634',\n",
       " 'https://www.rockauto.com/en/parts/standard+motor+products,SC254,speed+sensor,10634',\n",
       " 'https://www.rockauto.com/en/parts/standard+motor+products,SC255,speed+sensor,10634',\n",
       " 'https://www.rockauto.com/en/parts/standard+motor+products,SC256,speed+sensor,10634',\n",
       " 'https://www.rockauto.com/en/parts/standard+motor+products,SC257,speed+sensor,10634',\n",
       " 'https://www.rockauto.com/en/parts/standard+motor+products,SC260,speed+sensor,10634',\n",
       " 'https://www.rockauto.com/en/parts/standard+motor+products,SC261,speed+sensor,10634',\n",
       " 'https://www.rockauto.com/en/parts/standard+motor+products,SC262,speed+sensor,10634',\n",
       " 'https://www.rockauto.com/en/parts/standard+motor+products,SC263,speed+sensor,10634',\n",
       " 'https://www.rockauto.com/en/parts/standard+motor+products,SC265,speed+sensor,10634',\n",
       " 'https://www.rockauto.com/en/parts/standard+motor+products,SC267,speed+sensor,10634',\n",
       " 'https://www.rockauto.com/en/parts/standard+motor+products,SC271,speed+sensor,10634',\n",
       " 'https://www.rockauto.com/en/parts/standard+motor+products,SC274,speed+sensor,10634',\n",
       " 'https://www.rockauto.com/en/parts/standard+motor+products,SC275,speed+sensor,10634',\n",
       " 'https://www.rockauto.com/en/parts/standard+motor+products,SC276,speed+sensor,10634',\n",
       " 'https://www.rockauto.com/en/parts/standard+motor+products,SC277,speed+sensor,10634',\n",
       " 'https://www.rockauto.com/en/parts/standard+motor+products,SC279,speed+sensor,10634',\n",
       " 'https://www.rockauto.com/en/parts/standard+motor+products,SC28,speed+sensor,10634',\n",
       " 'https://www.rockauto.com/en/parts/standard+motor+products,SC281,speed+sensor,10634',\n",
       " 'https://www.rockauto.com/en/parts/standard+motor+products,SC284,speed+sensor,10634',\n",
       " 'https://www.rockauto.com/en/parts/standard+motor+products,SC288,speed+sensor,10634',\n",
       " 'https://www.rockauto.com/en/parts/standard+motor+products,SC289,speed+sensor,10634',\n",
       " 'https://www.rockauto.com/en/parts/standard+motor+products,SC292,speed+sensor,10634',\n",
       " 'https://www.rockauto.com/en/parts/standard+motor+products,SC293,speed+sensor,10634',\n",
       " 'https://www.rockauto.com/en/parts/standard+motor+products,SC294,speed+sensor,10634',\n",
       " 'https://www.rockauto.com/en/parts/standard+motor+products,SC296,speed+sensor,10634',\n",
       " 'https://www.rockauto.com/en/parts/standard+motor+products,SC297,speed+sensor,10634',\n",
       " 'https://www.rockauto.com/en/parts/standard+motor+products,SC300,speed+sensor,10634',\n",
       " 'https://www.rockauto.com/en/parts/standard+motor+products,SC303,speed+sensor,10634',\n",
       " 'https://www.rockauto.com/en/parts/standard+motor+products,SC305,speed+sensor,10634',\n",
       " 'https://www.rockauto.com/en/parts/standard+motor+products,SC306,speed+sensor,10634',\n",
       " 'https://www.rockauto.com/en/parts/standard+motor+products,SC307,speed+sensor,10634',\n",
       " 'https://www.rockauto.com/en/parts/standard+motor+products,SC309,speed+sensor,10634',\n",
       " 'https://www.rockauto.com/en/parts/standard+motor+products,SC315,speed+sensor,10634',\n",
       " 'https://www.rockauto.com/en/parts/standard+motor+products,SC317,speed+sensor,10634',\n",
       " 'https://www.rockauto.com/en/parts/standard+motor+products,SC318,speed+sensor,10634',\n",
       " 'https://www.rockauto.com/en/parts/standard+motor+products,SC32,speed+sensor,10634',\n",
       " 'https://www.rockauto.com/en/parts/standard+motor+products,SC320,speed+sensor,10634',\n",
       " 'https://www.rockauto.com/en/parts/standard+motor+products,SC324,speed+sensor,10634',\n",
       " 'https://www.rockauto.com/en/parts/standard+motor+products,SC325,speed+sensor,10634',\n",
       " 'https://www.rockauto.com/en/parts/standard+motor+products,SC326,speed+sensor,10634',\n",
       " 'https://www.rockauto.com/en/parts/standard+motor+products,SC327,speed+sensor,10634',\n",
       " 'https://www.rockauto.com/en/parts/standard+motor+products,SC329,speed+sensor,10634',\n",
       " 'https://www.rockauto.com/en/parts/standard+motor+products,SC330,speed+sensor,10634',\n",
       " 'https://www.rockauto.com/en/parts/standard+motor+products,SC331,speed+sensor,10634',\n",
       " 'https://www.rockauto.com/en/parts/standard+motor+products,SC333,speed+sensor,10634',\n",
       " 'https://www.rockauto.com/en/parts/standard+motor+products,SC335,speed+sensor,10634',\n",
       " 'https://www.rockauto.com/en/parts/standard+motor+products,SC336,speed+sensor,10634',\n",
       " 'https://www.rockauto.com/en/parts/standard+motor+products,SC337,speed+sensor,10634',\n",
       " 'https://www.rockauto.com/en/parts/standard+motor+products,SC34,speed+sensor,10634',\n",
       " 'https://www.rockauto.com/en/parts/standard+motor+products,SC340,speed+sensor,10634',\n",
       " 'https://www.rockauto.com/en/parts/standard+motor+products,SC341,speed+sensor,10634',\n",
       " 'https://www.rockauto.com/en/parts/standard+motor+products,SC345,speed+sensor,10634',\n",
       " 'https://www.rockauto.com/en/parts/standard+motor+products,SC346,speed+sensor,10634',\n",
       " 'https://www.rockauto.com/en/parts/standard+motor+products,SC347,speed+sensor,10634',\n",
       " 'https://www.rockauto.com/en/parts/standard+motor+products,SC348,speed+sensor,10634',\n",
       " 'https://www.rockauto.com/en/parts/standard+motor+products,SC349,speed+sensor,10634',\n",
       " 'https://www.rockauto.com/en/parts/standard+motor+products,SC350,speed+sensor,10634',\n",
       " 'https://www.rockauto.com/en/parts/standard+motor+products,SC352,speed+sensor,10634',\n",
       " 'https://www.rockauto.com/en/parts/standard+motor+products,SC353,speed+sensor,10634',\n",
       " 'https://www.rockauto.com/en/parts/standard+motor+products,SC354,speed+sensor,10634',\n",
       " 'https://www.rockauto.com/en/parts/standard+motor+products,SC357,speed+sensor,10634',\n",
       " 'https://www.rockauto.com/en/parts/standard+motor+products,SC358,speed+sensor,10634',\n",
       " 'https://www.rockauto.com/en/parts/standard+motor+products,SC359,speed+sensor,10634',\n",
       " 'https://www.rockauto.com/en/parts/standard+motor+products,SC360,speed+sensor,10634',\n",
       " 'https://www.rockauto.com/en/parts/standard+motor+products,SC360T,speed+sensor,10634',\n",
       " 'https://www.rockauto.com/en/parts/standard+motor+products,SC361,speed+sensor,10634',\n",
       " 'https://www.rockauto.com/en/parts/standard+motor+products,SC366,speed+sensor,10634',\n",
       " 'https://www.rockauto.com/en/parts/standard+motor+products,SC368,speed+sensor,10634',\n",
       " 'https://www.rockauto.com/en/parts/standard+motor+products,SC369,speed+sensor,10634',\n",
       " 'https://www.rockauto.com/en/parts/standard+motor+products,SC37,speed+sensor,10634',\n",
       " 'https://www.rockauto.com/en/parts/standard+motor+products,SC370,speed+sensor,10634',\n",
       " 'https://www.rockauto.com/en/parts/standard+motor+products,SC372,speed+sensor,10634',\n",
       " 'https://www.rockauto.com/en/parts/standard+motor+products,SC373,speed+sensor,10634',\n",
       " 'https://www.rockauto.com/en/parts/standard+motor+products,SC374,speed+sensor,10634',\n",
       " 'https://www.rockauto.com/en/parts/standard+motor+products,SC374T,speed+sensor,10634',\n",
       " 'https://www.rockauto.com/en/parts/standard+motor+products,SC377,speed+sensor,10634',\n",
       " 'https://www.rockauto.com/en/parts/standard+motor+products,SC378,speed+sensor,10634',\n",
       " 'https://www.rockauto.com/en/parts/standard+motor+products,SC379,speed+sensor,10634',\n",
       " 'https://www.rockauto.com/en/parts/standard+motor+products,SC37T,speed+sensor,10634',\n",
       " 'https://www.rockauto.com/en/parts/standard+motor+products,SC381,speed+sensor,10634',\n",
       " 'https://www.rockauto.com/en/parts/standard+motor+products,SC382,speed+sensor,10634',\n",
       " 'https://www.rockauto.com/en/parts/standard+motor+products,SC386,speed+sensor,10634',\n",
       " 'https://www.rockauto.com/en/parts/standard+motor+products,SC387,speed+sensor,10634',\n",
       " 'https://www.rockauto.com/en/parts/standard+motor+products,SC389,speed+sensor,10634',\n",
       " 'https://www.rockauto.com/en/parts/standard+motor+products,SC39,speed+sensor,10634',\n",
       " 'https://www.rockauto.com/en/parts/standard+motor+products,SC390,speed+sensor,10634',\n",
       " 'https://www.rockauto.com/en/parts/standard+motor+products,SC394,speed+sensor,10634',\n",
       " 'https://www.rockauto.com/en/parts/standard+motor+products,SC395,speed+sensor,10634',\n",
       " 'https://www.rockauto.com/en/parts/standard+motor+products,SC396,speed+sensor,10634',\n",
       " 'https://www.rockauto.com/en/parts/standard+motor+products,SC398,speed+sensor,10634',\n",
       " 'https://www.rockauto.com/en/parts/standard+motor+products,SC399,speed+sensor,10634',\n",
       " 'https://www.rockauto.com/en/parts/standard+motor+products,SC401,speed+sensor,10634',\n",
       " 'https://www.rockauto.com/en/parts/standard+motor+products,SC402,speed+sensor,10634',\n",
       " 'https://www.rockauto.com/en/parts/standard+motor+products,SC403,speed+sensor,10634',\n",
       " 'https://www.rockauto.com/en/parts/standard+motor+products,SC404,speed+sensor,10634',\n",
       " 'https://www.rockauto.com/en/parts/standard+motor+products,SC405,speed+sensor,10634',\n",
       " 'https://www.rockauto.com/en/parts/standard+motor+products,SC406,speed+sensor,10634',\n",
       " 'https://www.rockauto.com/en/parts/standard+motor+products,SC41,speed+sensor,10634',\n",
       " 'https://www.rockauto.com/en/parts/standard+motor+products,SC411,speed+sensor,10634',\n",
       " 'https://www.rockauto.com/en/parts/standard+motor+products,SC413,speed+sensor,10634',\n",
       " 'https://www.rockauto.com/en/parts/standard+motor+products,SC414,speed+sensor,10634',\n",
       " 'https://www.rockauto.com/en/parts/standard+motor+products,SC415,speed+sensor,10634',\n",
       " 'https://www.rockauto.com/en/parts/standard+motor+products,SC417,speed+sensor,10634',\n",
       " 'https://www.rockauto.com/en/parts/standard+motor+products,SC42,speed+sensor,10634',\n",
       " 'https://www.rockauto.com/en/parts/standard+motor+products,SC420,speed+sensor,10634',\n",
       " 'https://www.rockauto.com/en/parts/standard+motor+products,SC421,speed+sensor,10634',\n",
       " 'https://www.rockauto.com/en/parts/standard+motor+products,SC422,speed+sensor,10634',\n",
       " 'https://www.rockauto.com/en/parts/standard+motor+products,SC425,speed+sensor,10634',\n",
       " 'https://www.rockauto.com/en/parts/standard+motor+products,SC426,speed+sensor,10634',\n",
       " 'https://www.rockauto.com/en/parts/standard+motor+products,SC427,speed+sensor,10634',\n",
       " 'https://www.rockauto.com/en/parts/standard+motor+products,SC429,speed+sensor,10634',\n",
       " 'https://www.rockauto.com/en/parts/standard+motor+products,SC433,speed+sensor,10634',\n",
       " 'https://www.rockauto.com/en/parts/standard+motor+products,SC435,speed+sensor,10634',\n",
       " 'https://www.rockauto.com/en/parts/standard+motor+products,SC438,speed+sensor,10634',\n",
       " 'https://www.rockauto.com/en/parts/standard+motor+products,SC439,speed+sensor,10634',\n",
       " 'https://www.rockauto.com/en/parts/standard+motor+products,SC440,speed+sensor,10634',\n",
       " 'https://www.rockauto.com/en/parts/standard+motor+products,SC441,speed+sensor,10634',\n",
       " 'https://www.rockauto.com/en/parts/standard+motor+products,SC442,speed+sensor,10634',\n",
       " 'https://www.rockauto.com/en/parts/standard+motor+products,SC443,speed+sensor,10634',\n",
       " 'https://www.rockauto.com/en/parts/standard+motor+products,SC445,speed+sensor,10634',\n",
       " 'https://www.rockauto.com/en/parts/standard+motor+products,SC450,speed+sensor,10634',\n",
       " 'https://www.rockauto.com/en/parts/standard+motor+products,SC454,speed+sensor,10634',\n",
       " 'https://www.rockauto.com/en/parts/standard+motor+products,SC455,speed+sensor,10634',\n",
       " 'https://www.rockauto.com/en/parts/standard+motor+products,SC458,speed+sensor,10634',\n",
       " 'https://www.rockauto.com/en/parts/standard+motor+products,SC459,speed+sensor,10634',\n",
       " 'https://www.rockauto.com/en/parts/standard+motor+products,SC46,speed+sensor,10634',\n",
       " 'https://www.rockauto.com/en/parts/standard+motor+products,SC460,speed+sensor,10634',\n",
       " 'https://www.rockauto.com/en/parts/standard+motor+products,SC461,speed+sensor,10634',\n",
       " 'https://www.rockauto.com/en/parts/standard+motor+products,SC463,speed+sensor,10634',\n",
       " 'https://www.rockauto.com/en/parts/standard+motor+products,SC467,speed+sensor,10634',\n",
       " 'https://www.rockauto.com/en/parts/standard+motor+products,SC468,speed+sensor,10634',\n",
       " 'https://www.rockauto.com/en/parts/standard+motor+products,SC469,speed+sensor,10634',\n",
       " 'https://www.rockauto.com/en/parts/standard+motor+products,SC46T,speed+sensor,10634',\n",
       " 'https://www.rockauto.com/en/parts/standard+motor+products,SC470,speed+sensor,10634',\n",
       " 'https://www.rockauto.com/en/parts/standard+motor+products,SC471,speed+sensor,10634',\n",
       " 'https://www.rockauto.com/en/parts/standard+motor+products,SC472,speed+sensor,10634',\n",
       " 'https://www.rockauto.com/en/parts/standard+motor+products,SC473,speed+sensor,10634',\n",
       " 'https://www.rockauto.com/en/parts/standard+motor+products,SC474,speed+sensor,10634',\n",
       " 'https://www.rockauto.com/en/parts/standard+motor+products,SC476,speed+sensor,10634',\n",
       " 'https://www.rockauto.com/en/parts/standard+motor+products,SC477,speed+sensor,10634',\n",
       " 'https://www.rockauto.com/en/parts/standard+motor+products,SC478,speed+sensor,10634',\n",
       " 'https://www.rockauto.com/en/parts/standard+motor+products,SC479,speed+sensor,10634',\n",
       " 'https://www.rockauto.com/en/parts/standard+motor+products,SC480,speed+sensor,10634',\n",
       " 'https://www.rockauto.com/en/parts/standard+motor+products,SC481,speed+sensor,10634',\n",
       " 'https://www.rockauto.com/en/parts/standard+motor+products,SC482,speed+sensor,10634',\n",
       " 'https://www.rockauto.com/en/parts/standard+motor+products,SC484,speed+sensor,10634',\n",
       " 'https://www.rockauto.com/en/parts/standard+motor+products,SC485,speed+sensor,10634',\n",
       " 'https://www.rockauto.com/en/parts/standard+motor+products,SC486,speed+sensor,10634',\n",
       " 'https://www.rockauto.com/en/parts/standard+motor+products,SC487,speed+sensor,10634',\n",
       " 'https://www.rockauto.com/en/parts/standard+motor+products,SC489,speed+sensor,10634',\n",
       " 'https://www.rockauto.com/en/parts/standard+motor+products,SC490,speed+sensor,10634',\n",
       " 'https://www.rockauto.com/en/parts/standard+motor+products,SC491,speed+sensor,10634',\n",
       " 'https://www.rockauto.com/en/parts/standard+motor+products,SC493,speed+sensor,10634',\n",
       " 'https://www.rockauto.com/en/parts/standard+motor+products,SC494,speed+sensor,10634',\n",
       " 'https://www.rockauto.com/en/parts/standard+motor+products,SC495,speed+sensor,10634',\n",
       " 'https://www.rockauto.com/en/parts/standard+motor+products,SC498,speed+sensor,10634',\n",
       " 'https://www.rockauto.com/en/parts/standard+motor+products,SC5,speed+sensor,10634',\n",
       " 'https://www.rockauto.com/en/parts/standard+motor+products,SC500,speed+sensor,10634',\n",
       " 'https://www.rockauto.com/en/parts/standard+motor+products,SC501,speed+sensor,10634',\n",
       " 'https://www.rockauto.com/en/parts/standard+motor+products,SC502,speed+sensor,10634',\n",
       " 'https://www.rockauto.com/en/parts/standard+motor+products,SC503,speed+sensor,10634',\n",
       " 'https://www.rockauto.com/en/parts/standard+motor+products,SC504,speed+sensor,10634',\n",
       " 'https://www.rockauto.com/en/parts/standard+motor+products,SC505,speed+sensor,10634',\n",
       " 'https://www.rockauto.com/en/parts/standard+motor+products,SC506,speed+sensor,10634',\n",
       " 'https://www.rockauto.com/en/parts/standard+motor+products,SC507,speed+sensor,10634',\n",
       " 'https://www.rockauto.com/en/parts/standard+motor+products,SC508,speed+sensor,10634',\n",
       " 'https://www.rockauto.com/en/parts/standard+motor+products,SC510,speed+sensor,10634',\n",
       " 'https://www.rockauto.com/en/parts/standard+motor+products,SC513,speed+sensor,10634',\n",
       " 'https://www.rockauto.com/en/parts/standard+motor+products,SC515,speed+sensor,10634',\n",
       " 'https://www.rockauto.com/en/parts/standard+motor+products,SC516,speed+sensor,10634',\n",
       " 'https://www.rockauto.com/en/parts/standard+motor+products,SC517,speed+sensor,10634',\n",
       " 'https://www.rockauto.com/en/parts/standard+motor+products,SC518,speed+sensor,10634',\n",
       " 'https://www.rockauto.com/en/parts/standard+motor+products,SC52,speed+sensor,10634',\n",
       " 'https://www.rockauto.com/en/parts/standard+motor+products,SC521,speed+sensor,10634',\n",
       " 'https://www.rockauto.com/en/parts/standard+motor+products,SC522,speed+sensor,10634',\n",
       " 'https://www.rockauto.com/en/parts/standard+motor+products,SC523,speed+sensor,10634',\n",
       " 'https://www.rockauto.com/en/parts/standard+motor+products,SC524,speed+sensor,10634',\n",
       " 'https://www.rockauto.com/en/parts/standard+motor+products,SC525,speed+sensor,10634',\n",
       " 'https://www.rockauto.com/en/parts/standard+motor+products,SC529,speed+sensor,10634',\n",
       " 'https://www.rockauto.com/en/parts/standard+motor+products,SC532,speed+sensor,10634',\n",
       " 'https://www.rockauto.com/en/parts/standard+motor+products,SC533,speed+sensor,10634',\n",
       " 'https://www.rockauto.com/en/parts/standard+motor+products,SC534,speed+sensor,10634',\n",
       " 'https://www.rockauto.com/en/parts/standard+motor+products,SC535,speed+sensor,10634',\n",
       " 'https://www.rockauto.com/en/parts/standard+motor+products,SC536,speed+sensor,10634',\n",
       " 'https://www.rockauto.com/en/parts/standard+motor+products,SC538,speed+sensor,10634',\n",
       " 'https://www.rockauto.com/en/parts/standard+motor+products,SC539,speed+sensor,10634',\n",
       " 'https://www.rockauto.com/en/parts/standard+motor+products,SC541,speed+sensor,10634',\n",
       " 'https://www.rockauto.com/en/parts/standard+motor+products,SC544,speed+sensor,10634',\n",
       " 'https://www.rockauto.com/en/parts/standard+motor+products,SC545,speed+sensor,10634',\n",
       " 'https://www.rockauto.com/en/parts/standard+motor+products,SC546,speed+sensor,10634',\n",
       " 'https://www.rockauto.com/en/parts/standard+motor+products,SC548,speed+sensor,10634',\n",
       " 'https://www.rockauto.com/en/parts/standard+motor+products,SC552,speed+sensor,10634',\n",
       " 'https://www.rockauto.com/en/parts/standard+motor+products,SC554,speed+sensor,10634',\n",
       " 'https://www.rockauto.com/en/parts/standard+motor+products,SC555,speed+sensor,10634',\n",
       " 'https://www.rockauto.com/en/parts/standard+motor+products,SC556,speed+sensor,10634',\n",
       " 'https://www.rockauto.com/en/parts/standard+motor+products,SC56,speed+sensor,10634',\n",
       " 'https://www.rockauto.com/en/parts/standard+motor+products,SC560,speed+sensor,10634',\n",
       " 'https://www.rockauto.com/en/parts/standard+motor+products,SC561,speed+sensor,10634',\n",
       " 'https://www.rockauto.com/en/parts/standard+motor+products,SC565,speed+sensor,10634',\n",
       " 'https://www.rockauto.com/en/parts/standard+motor+products,SC568,speed+sensor,10634',\n",
       " 'https://www.rockauto.com/en/parts/standard+motor+products,SC569,speed+sensor,10634',\n",
       " 'https://www.rockauto.com/en/parts/standard+motor+products,SC57,speed+sensor,10634',\n",
       " 'https://www.rockauto.com/en/parts/standard+motor+products,SC570,speed+sensor,10634',\n",
       " 'https://www.rockauto.com/en/parts/standard+motor+products,SC571,speed+sensor,10634',\n",
       " 'https://www.rockauto.com/en/parts/standard+motor+products,SC577,speed+sensor,10634',\n",
       " 'https://www.rockauto.com/en/parts/standard+motor+products,SC579,speed+sensor,10634',\n",
       " 'https://www.rockauto.com/en/parts/standard+motor+products,SC580,speed+sensor,10634',\n",
       " 'https://www.rockauto.com/en/parts/standard+motor+products,SC582,speed+sensor,10634',\n",
       " 'https://www.rockauto.com/en/parts/standard+motor+products,SC584,speed+sensor,10634',\n",
       " 'https://www.rockauto.com/en/parts/standard+motor+products,SC585,speed+sensor,10634',\n",
       " 'https://www.rockauto.com/en/parts/standard+motor+products,SC586,speed+sensor,10634',\n",
       " 'https://www.rockauto.com/en/parts/standard+motor+products,SC587,speed+sensor,10634',\n",
       " 'https://www.rockauto.com/en/parts/standard+motor+products,SC589,speed+sensor,10634',\n",
       " 'https://www.rockauto.com/en/parts/standard+motor+products,SC59,speed+sensor,10634',\n",
       " 'https://www.rockauto.com/en/parts/standard+motor+products,SC590,speed+sensor,10634',\n",
       " 'https://www.rockauto.com/en/parts/standard+motor+products,SC591,speed+sensor,10634',\n",
       " 'https://www.rockauto.com/en/parts/standard+motor+products,SC592,speed+sensor,10634',\n",
       " 'https://www.rockauto.com/en/parts/standard+motor+products,SC593,speed+sensor,10634',\n",
       " 'https://www.rockauto.com/en/parts/standard+motor+products,SC594,speed+sensor,10634',\n",
       " 'https://www.rockauto.com/en/parts/standard+motor+products,SC595,speed+sensor,10634',\n",
       " 'https://www.rockauto.com/en/parts/standard+motor+products,SC596,speed+sensor,10634',\n",
       " 'https://www.rockauto.com/en/parts/standard+motor+products,SC597,speed+sensor,10634',\n",
       " 'https://www.rockauto.com/en/parts/standard+motor+products,SC598,speed+sensor,10634',\n",
       " 'https://www.rockauto.com/en/parts/standard+motor+products,SC599,speed+sensor,10634',\n",
       " 'https://www.rockauto.com/en/parts/standard+motor+products,SC60,speed+sensor,10634',\n",
       " 'https://www.rockauto.com/en/parts/standard+motor+products,SC601,speed+sensor,10634',\n",
       " 'https://www.rockauto.com/en/parts/standard+motor+products,SC602,speed+sensor,10634',\n",
       " 'https://www.rockauto.com/en/parts/standard+motor+products,SC603,speed+sensor,10634',\n",
       " 'https://www.rockauto.com/en/parts/standard+motor+products,SC607,speed+sensor,10634',\n",
       " 'https://www.rockauto.com/en/parts/standard+motor+products,SC608,speed+sensor,10634',\n",
       " 'https://www.rockauto.com/en/parts/standard+motor+products,SC609,speed+sensor,10634',\n",
       " 'https://www.rockauto.com/en/parts/standard+motor+products,SC61,speed+sensor,10634',\n",
       " 'https://www.rockauto.com/en/parts/standard+motor+products,SC612,speed+sensor,10634',\n",
       " 'https://www.rockauto.com/en/parts/standard+motor+products,SC613,speed+sensor,10634',\n",
       " 'https://www.rockauto.com/en/parts/standard+motor+products,SC615,speed+sensor,10634',\n",
       " 'https://www.rockauto.com/en/parts/standard+motor+products,SC616,speed+sensor,10634',\n",
       " 'https://www.rockauto.com/en/parts/standard+motor+products,SC622,speed+sensor,10634',\n",
       " 'https://www.rockauto.com/en/parts/standard+motor+products,SC628,speed+sensor,10634',\n",
       " 'https://www.rockauto.com/en/parts/standard+motor+products,SC630,speed+sensor,10634',\n",
       " 'https://www.rockauto.com/en/parts/standard+motor+products,SC631,speed+sensor,10634',\n",
       " 'https://www.rockauto.com/en/parts/standard+motor+products,SC632,speed+sensor,10634',\n",
       " 'https://www.rockauto.com/en/parts/standard+motor+products,SC633,speed+sensor,10634',\n",
       " 'https://www.rockauto.com/en/parts/standard+motor+products,SC634,speed+sensor,10634',\n",
       " 'https://www.rockauto.com/en/parts/standard+motor+products,SC635,speed+sensor,10634',\n",
       " 'https://www.rockauto.com/en/parts/standard+motor+products,SC637,speed+sensor,10634',\n",
       " 'https://www.rockauto.com/en/parts/standard+motor+products,SC638,speed+sensor,10634',\n",
       " 'https://www.rockauto.com/en/parts/standard+motor+products,SC64,speed+sensor,10634',\n",
       " 'https://www.rockauto.com/en/parts/standard+motor+products,SC641,speed+sensor,10634',\n",
       " 'https://www.rockauto.com/en/parts/standard+motor+products,SC642,speed+sensor,10634',\n",
       " 'https://www.rockauto.com/en/parts/standard+motor+products,SC644,speed+sensor,10634',\n",
       " 'https://www.rockauto.com/en/parts/standard+motor+products,SC647,speed+sensor,10634',\n",
       " 'https://www.rockauto.com/en/parts/standard+motor+products,SC65,speed+sensor,10634',\n",
       " 'https://www.rockauto.com/en/parts/standard+motor+products,SC651,speed+sensor,10634',\n",
       " 'https://www.rockauto.com/en/parts/standard+motor+products,SC653,speed+sensor,10634',\n",
       " 'https://www.rockauto.com/en/parts/standard+motor+products,SC654,speed+sensor,10634',\n",
       " 'https://www.rockauto.com/en/parts/standard+motor+products,SC655,speed+sensor,10634',\n",
       " 'https://www.rockauto.com/en/parts/standard+motor+products,SC656,speed+sensor,10634',\n",
       " 'https://www.rockauto.com/en/parts/standard+motor+products,SC657,speed+sensor,10634',\n",
       " 'https://www.rockauto.com/en/parts/standard+motor+products,SC658,speed+sensor,10634',\n",
       " 'https://www.rockauto.com/en/parts/standard+motor+products,SC659,speed+sensor,10634',\n",
       " 'https://www.rockauto.com/en/parts/standard+motor+products,SC66,speed+sensor,10634',\n",
       " 'https://www.rockauto.com/en/parts/standard+motor+products,SC664,speed+sensor,10634',\n",
       " 'https://www.rockauto.com/en/parts/standard+motor+products,SC666,speed+sensor,10634',\n",
       " 'https://www.rockauto.com/en/parts/standard+motor+products,SC669,speed+sensor,10634',\n",
       " 'https://www.rockauto.com/en/parts/standard+motor+products,SC67,speed+sensor,10634',\n",
       " 'https://www.rockauto.com/en/parts/standard+motor+products,SC671,speed+sensor,10634',\n",
       " 'https://www.rockauto.com/en/parts/standard+motor+products,SC673,speed+sensor,10634',\n",
       " 'https://www.rockauto.com/en/parts/standard+motor+products,SC675,speed+sensor,10634',\n",
       " 'https://www.rockauto.com/en/parts/standard+motor+products,SC677,speed+sensor,10634',\n",
       " 'https://www.rockauto.com/en/parts/standard+motor+products,SC678,speed+sensor,10634',\n",
       " 'https://www.rockauto.com/en/parts/standard+motor+products,SC679,speed+sensor,10634',\n",
       " 'https://www.rockauto.com/en/parts/standard+motor+products,SC68,speed+sensor,10634',\n",
       " 'https://www.rockauto.com/en/parts/standard+motor+products,SC680,speed+sensor,10634',\n",
       " 'https://www.rockauto.com/en/parts/standard+motor+products,SC681,speed+sensor,10634',\n",
       " 'https://www.rockauto.com/en/parts/standard+motor+products,SC684,speed+sensor,10634',\n",
       " 'https://www.rockauto.com/en/parts/standard+motor+products,SC686,speed+sensor,10634',\n",
       " 'https://www.rockauto.com/en/parts/standard+motor+products,SC687,speed+sensor,10634',\n",
       " 'https://www.rockauto.com/en/parts/standard+motor+products,SC688,speed+sensor,10634',\n",
       " 'https://www.rockauto.com/en/parts/standard+motor+products,SC689,speed+sensor,10634',\n",
       " 'https://www.rockauto.com/en/parts/standard+motor+products,SC69,speed+sensor,10634',\n",
       " 'https://www.rockauto.com/en/parts/standard+motor+products,SC690,speed+sensor,10634',\n",
       " 'https://www.rockauto.com/en/parts/standard+motor+products,SC692,speed+sensor,10634',\n",
       " 'https://www.rockauto.com/en/parts/standard+motor+products,SC693,speed+sensor,10634',\n",
       " 'https://www.rockauto.com/en/parts/standard+motor+products,SC695,speed+sensor,10634',\n",
       " 'https://www.rockauto.com/en/parts/standard+motor+products,SC696,speed+sensor,10634',\n",
       " 'https://www.rockauto.com/en/parts/standard+motor+products,SC697,speed+sensor,10634',\n",
       " 'https://www.rockauto.com/en/parts/standard+motor+products,SC705,speed+sensor,10634',\n",
       " 'https://www.rockauto.com/en/parts/standard+motor+products,SC708,speed+sensor,10634',\n",
       " 'https://www.rockauto.com/en/parts/standard+motor+products,SC71,speed+sensor,10634',\n",
       " 'https://www.rockauto.com/en/parts/standard+motor+products,SC710,speed+sensor,10634',\n",
       " 'https://www.rockauto.com/en/parts/standard+motor+products,SC711,speed+sensor,10634',\n",
       " 'https://www.rockauto.com/en/parts/standard+motor+products,SC714,speed+sensor,10634',\n",
       " 'https://www.rockauto.com/en/parts/standard+motor+products,SC718,speed+sensor,10634',\n",
       " 'https://www.rockauto.com/en/parts/standard+motor+products,SC719,speed+sensor,10634',\n",
       " 'https://www.rockauto.com/en/parts/standard+motor+products,SC72,speed+sensor,10634',\n",
       " 'https://www.rockauto.com/en/parts/standard+motor+products,SC722,speed+sensor,10634',\n",
       " 'https://www.rockauto.com/en/parts/standard+motor+products,SC723,speed+sensor,10634',\n",
       " 'https://www.rockauto.com/en/parts/standard+motor+products,SC724,speed+sensor,10634',\n",
       " 'https://www.rockauto.com/en/parts/standard+motor+products,SC725,speed+sensor,10634',\n",
       " 'https://www.rockauto.com/en/parts/standard+motor+products,SC726,speed+sensor,10634',\n",
       " 'https://www.rockauto.com/en/parts/standard+motor+products,SC727,speed+sensor,10634',\n",
       " 'https://www.rockauto.com/en/parts/standard+motor+products,SC728,speed+sensor,10634',\n",
       " 'https://www.rockauto.com/en/parts/standard+motor+products,SC730,speed+sensor,10634',\n",
       " 'https://www.rockauto.com/en/parts/standard+motor+products,SC731,speed+sensor,10634',\n",
       " 'https://www.rockauto.com/en/parts/standard+motor+products,SC733,speed+sensor,10634',\n",
       " 'https://www.rockauto.com/en/parts/standard+motor+products,SC734,speed+sensor,10634',\n",
       " 'https://www.rockauto.com/en/parts/standard+motor+products,SC736,speed+sensor,10634',\n",
       " 'https://www.rockauto.com/en/parts/standard+motor+products,SC738,speed+sensor,10634',\n",
       " 'https://www.rockauto.com/en/parts/standard+motor+products,SC74,speed+sensor,10634',\n",
       " 'https://www.rockauto.com/en/parts/standard+motor+products,SC740,speed+sensor,10634',\n",
       " 'https://www.rockauto.com/en/parts/standard+motor+products,SC743,speed+sensor,10634',\n",
       " 'https://www.rockauto.com/en/parts/standard+motor+products,SC747,speed+sensor,10634',\n",
       " 'https://www.rockauto.com/en/parts/standard+motor+products,SC748,speed+sensor,10634',\n",
       " 'https://www.rockauto.com/en/parts/standard+motor+products,SC749,speed+sensor,10634',\n",
       " 'https://www.rockauto.com/en/parts/standard+motor+products,SC75,speed+sensor,10634',\n",
       " 'https://www.rockauto.com/en/parts/standard+motor+products,SC750,speed+sensor,10634',\n",
       " 'https://www.rockauto.com/en/parts/standard+motor+products,SC753,speed+sensor,10634',\n",
       " 'https://www.rockauto.com/en/parts/standard+motor+products,SC754,speed+sensor,10634',\n",
       " 'https://www.rockauto.com/en/parts/standard+motor+products,SC755,speed+sensor,10634',\n",
       " 'https://www.rockauto.com/en/parts/standard+motor+products,SC76,speed+sensor,10634',\n",
       " 'https://www.rockauto.com/en/parts/standard+motor+products,SC760,speed+sensor,10634',\n",
       " 'https://www.rockauto.com/en/parts/standard+motor+products,SC761,speed+sensor,10634',\n",
       " 'https://www.rockauto.com/en/parts/standard+motor+products,SC763,speed+sensor,10634',\n",
       " 'https://www.rockauto.com/en/parts/standard+motor+products,SC77,speed+sensor,10634',\n",
       " 'https://www.rockauto.com/en/parts/standard+motor+products,SC771,speed+sensor,10634',\n",
       " 'https://www.rockauto.com/en/parts/standard+motor+products,SC772,speed+sensor,10634',\n",
       " 'https://www.rockauto.com/en/parts/standard+motor+products,SC774,speed+sensor,10634',\n",
       " 'https://www.rockauto.com/en/parts/standard+motor+products,SC779,speed+sensor,10634',\n",
       " 'https://www.rockauto.com/en/parts/standard+motor+products,SC780,speed+sensor,10634',\n",
       " 'https://www.rockauto.com/en/parts/standard+motor+products,SC782,speed+sensor,10634',\n",
       " 'https://www.rockauto.com/en/parts/standard+motor+products,SC790,speed+sensor,10634',\n",
       " 'https://www.rockauto.com/en/parts/standard+motor+products,SC791,speed+sensor,10634',\n",
       " 'https://www.rockauto.com/en/parts/standard+motor+products,SC792,speed+sensor,10634',\n",
       " 'https://www.rockauto.com/en/parts/standard+motor+products,SC793,speed+sensor,10634',\n",
       " 'https://www.rockauto.com/en/parts/standard+motor+products,SC794,speed+sensor,10634',\n",
       " 'https://www.rockauto.com/en/parts/standard+motor+products,SC796,speed+sensor,10634',\n",
       " 'https://www.rockauto.com/en/parts/standard+motor+products,SC797,speed+sensor,10634',\n",
       " 'https://www.rockauto.com/en/parts/standard+motor+products,SC798,speed+sensor,10634',\n",
       " 'https://www.rockauto.com/en/parts/standard+motor+products,SC799,speed+sensor,10634',\n",
       " 'https://www.rockauto.com/en/parts/standard+motor+products,SC801,speed+sensor,10634',\n",
       " 'https://www.rockauto.com/en/parts/standard+motor+products,SC802,speed+sensor,10634',\n",
       " 'https://www.rockauto.com/en/parts/standard+motor+products,SC803,speed+sensor,10634',\n",
       " 'https://www.rockauto.com/en/parts/standard+motor+products,SC804,speed+sensor,10634',\n",
       " 'https://www.rockauto.com/en/parts/standard+motor+products,SC805,speed+sensor,10634',\n",
       " 'https://www.rockauto.com/en/parts/standard+motor+products,SC806,speed+sensor,10634',\n",
       " 'https://www.rockauto.com/en/parts/standard+motor+products,SC807,speed+sensor,10634',\n",
       " 'https://www.rockauto.com/en/parts/standard+motor+products,SC808,speed+sensor,10634',\n",
       " 'https://www.rockauto.com/en/parts/standard+motor+products,SC809,speed+sensor,10634',\n",
       " 'https://www.rockauto.com/en/parts/standard+motor+products,SC810,speed+sensor,10634',\n",
       " 'https://www.rockauto.com/en/parts/standard+motor+products,SC811,speed+sensor,10634',\n",
       " 'https://www.rockauto.com/en/parts/standard+motor+products,SC813,speed+sensor,10634',\n",
       " 'https://www.rockauto.com/en/parts/standard+motor+products,SC814,speed+sensor,10634',\n",
       " 'https://www.rockauto.com/en/parts/standard+motor+products,SC815,speed+sensor,10634',\n",
       " 'https://www.rockauto.com/en/parts/standard+motor+products,SC817,speed+sensor,10634',\n",
       " 'https://www.rockauto.com/en/parts/standard+motor+products,SC818,speed+sensor,10634',\n",
       " 'https://www.rockauto.com/en/parts/standard+motor+products,SC819,speed+sensor,10634',\n",
       " 'https://www.rockauto.com/en/parts/standard+motor+products,SC820,speed+sensor,10634',\n",
       " 'https://www.rockauto.com/en/parts/standard+motor+products,SC821,speed+sensor,10634',\n",
       " 'https://www.rockauto.com/en/parts/standard+motor+products,SC824,speed+sensor,10634',\n",
       " 'https://www.rockauto.com/en/parts/standard+motor+products,SC827,speed+sensor,10634',\n",
       " 'https://www.rockauto.com/en/parts/standard+motor+products,SC83,speed+sensor,10634',\n",
       " 'https://www.rockauto.com/en/parts/standard+motor+products,SC84,speed+sensor,10634',\n",
       " 'https://www.rockauto.com/en/parts/standard+motor+products,SC88,speed+sensor,10634',\n",
       " 'https://www.rockauto.com/en/parts/standard+motor+products,SC89,speed+sensor,10634',\n",
       " 'https://www.rockauto.com/en/parts/standard+motor+products,SC89T,speed+sensor,10634',\n",
       " 'https://www.rockauto.com/en/parts/standard+motor+products,SC9,speed+sensor,10634',\n",
       " 'https://www.rockauto.com/en/parts/standard+motor+products,SC90,speed+sensor,10634',\n",
       " 'https://www.rockauto.com/en/parts/standard+motor+products,SC90T,speed+sensor,10634',\n",
       " 'https://www.rockauto.com/en/parts/standard+motor+products,SC96,speed+sensor,10634',\n",
       " 'https://www.rockauto.com/en/parts/standard+motor+products,SC97,speed+sensor,10634',\n",
       " 'https://www.rockauto.com/en/parts/standard+motor+products,SC98,speed+sensor,10634',\n",
       " 'https://www.rockauto.com/en/parts/standard+motor+products,SC99,speed+sensor,10634']"
      ]
     },
     "execution_count": 3,
     "metadata": {},
     "output_type": "execute_result"
    }
   ],
   "source": [
    "df_menu = pd.read_excel('./menu.xlsx', header=0)\n",
    "list_url = df_menu['Url'].to_list()\n",
    "\n",
    "print('总数量：' + str(len(list_url)))\n",
    "list_url"
   ]
  },
  {
   "cell_type": "code",
   "execution_count": 4,
   "id": "ccc172ba",
   "metadata": {},
   "outputs": [
    {
     "data": {
      "text/html": [
       "<div>\n",
       "<style scoped>\n",
       "    .dataframe tbody tr th:only-of-type {\n",
       "        vertical-align: middle;\n",
       "    }\n",
       "\n",
       "    .dataframe tbody tr th {\n",
       "        vertical-align: top;\n",
       "    }\n",
       "\n",
       "    .dataframe thead th {\n",
       "        text-align: right;\n",
       "    }\n",
       "</style>\n",
       "<table border=\"1\" class=\"dataframe\">\n",
       "  <thead>\n",
       "    <tr style=\"text-align: right;\">\n",
       "      <th></th>\n",
       "      <th>Part_Number</th>\n",
       "      <th>Manufacturer</th>\n",
       "      <th>Vehicle</th>\n",
       "      <th>Note_1</th>\n",
       "      <th>Info</th>\n",
       "      <th>Note_2</th>\n",
       "      <th>Alternate_OE_Part_Numbers</th>\n",
       "      <th>Src</th>\n",
       "      <th>status</th>\n",
       "    </tr>\n",
       "  </thead>\n",
       "  <tbody>\n",
       "  </tbody>\n",
       "</table>\n",
       "</div>"
      ],
      "text/plain": [
       "Empty DataFrame\n",
       "Columns: [Part_Number, Manufacturer, Vehicle, Note_1, Info, Note_2, Alternate_OE_Part_Numbers, Src, status]\n",
       "Index: []"
      ]
     },
     "execution_count": 4,
     "metadata": {},
     "output_type": "execute_result"
    }
   ],
   "source": [
    "df = pd.DataFrame(columns=['Part_Number',\n",
    "                           'Manufacturer',\n",
    "                           'Vehicle',\n",
    "                           'Note_1',\n",
    "                           'Info',\n",
    "                           'Note_2',\n",
    "                           'Alternate_OE_Part_Numbers',\n",
    "                           'Src',\n",
    "                           'status'])\n",
    "\n",
    "df"
   ]
  },
  {
   "cell_type": "code",
   "execution_count": 5,
   "id": "8d1ca69c",
   "metadata": {},
   "outputs": [],
   "source": [
    "from selenium.webdriver import ChromeOptions\n",
    "import random"
   ]
  },
  {
   "cell_type": "code",
   "execution_count": 6,
   "id": "fe4e6120",
   "metadata": {},
   "outputs": [],
   "source": [
    "option = ChromeOptions()\n",
    "option.add_experimental_option('useAutomationExtension', False)\n",
    "# option.add_argument('blink-settings=imagesEnabled=false')\n",
    "option.add_argument('--disable-blink-features=AutomationControlled')\n",
    "option.add_argument('--disable-dev-shm-usage')\n",
    "option.add_argument('--disable-gpu')\n",
    "option.add_experimental_option('excludeSwitches', ['enable-automation'])\n",
    "# option.add_argument('--headless')\n",
    "option.add_argument('--no-sandbox')\n",
    "# option.add_argument('--proxy-server=http://u431.kdltps.com:15818')\n",
    "option.add_argument('user-agent=' + random.choice(list_user_agent))\n",
    "option.page_load_strategy = 'eager'"
   ]
  },
  {
   "cell_type": "code",
   "execution_count": 7,
   "id": "615beeeb",
   "metadata": {},
   "outputs": [],
   "source": [
    "from selenium.webdriver import Chrome\n",
    "from selenium.webdriver.chrome.service import Service"
   ]
  },
  {
   "cell_type": "code",
   "execution_count": 8,
   "id": "018d81c1",
   "metadata": {},
   "outputs": [],
   "source": [
    "browser = Chrome(service=Service('../../../chromedriver'), options=option)\n",
    "\n",
    "browser.maximize_window()"
   ]
  },
  {
   "cell_type": "code",
   "execution_count": 9,
   "id": "fec71893",
   "metadata": {},
   "outputs": [],
   "source": [
    "import time"
   ]
  },
  {
   "cell_type": "code",
   "execution_count": 10,
   "id": "9e02fbb5",
   "metadata": {
    "scrolled": true
   },
   "outputs": [],
   "source": [
    "i = 0\n",
    "\n",
    "browser.get(list_url[i])\n",
    "\n",
    "time.sleep(5)"
   ]
  },
  {
   "cell_type": "code",
   "execution_count": 11,
   "id": "7cabed18",
   "metadata": {},
   "outputs": [],
   "source": [
    "from selenium.webdriver.support import expected_conditions as EC\n",
    "from selenium.webdriver.support.wait import WebDriverWait\n",
    "from selenium.webdriver.common.by import By"
   ]
  },
  {
   "cell_type": "code",
   "execution_count": 12,
   "id": "87e7672c",
   "metadata": {},
   "outputs": [],
   "source": [
    "if len(browser.find_elements(by=By.XPATH, value='//span[@class=\"navlabellink nvoffset nnormal\"]')) != 0:\n",
    "    print('No Parts Found')"
   ]
  },
  {
   "cell_type": "code",
   "execution_count": 13,
   "id": "cd14a208",
   "metadata": {},
   "outputs": [
    {
     "data": {
      "text/plain": [
       "[<selenium.webdriver.remote.webelement.WebElement (session=\"75504312b23a6a08b87b7200d97a0fcd\", element=\"DACAF3F340DBC3D50073D8ADD30C9AF9_element_46\")>]"
      ]
     },
     "execution_count": 13,
     "metadata": {},
     "output_type": "execute_result"
    }
   ],
   "source": [
    "wait = WebDriverWait(browser, 60)\n",
    "wait.until(EC.presence_of_element_located((By.XPATH, '//tbody[@class=\"listing-inner altrow-a-1  \"]')))\n",
    "list_part = browser.find_elements(by=By.XPATH, value='//tbody[@class=\"listing-inner altrow-a-1  \"]') + browser.find_elements(by=By.XPATH, value='//tbody[@class=\"listing-inner altrow-a-0  \"]')\n",
    "\n",
    "list_part"
   ]
  },
  {
   "cell_type": "code",
   "execution_count": 14,
   "id": "235d790d",
   "metadata": {},
   "outputs": [
    {
     "data": {
      "text/plain": [
       "[<selenium.webdriver.remote.webelement.WebElement (session=\"75504312b23a6a08b87b7200d97a0fcd\", element=\"DACAF3F340DBC3D50073D8ADD30C9AF9_element_47\")>]"
      ]
     },
     "execution_count": 14,
     "metadata": {},
     "output_type": "execute_result"
    }
   ],
   "source": [
    "list_part_number = [part.find_element(by=By.XPATH, value='./descendant::div[@class=\"listing-text-row-moreinfo-truck\"]/span[@title=\"Buyer\\'s Guide\"]') for part in list_part]\n",
    "\n",
    "list_part_number"
   ]
  },
  {
   "cell_type": "code",
   "execution_count": 15,
   "id": "1b109931",
   "metadata": {},
   "outputs": [
    {
     "data": {
      "text/plain": [
       "0"
      ]
     },
     "execution_count": 15,
     "metadata": {},
     "output_type": "execute_result"
    }
   ],
   "source": [
    "part_index = [part_number.text for part_number in list_part_number].index(list_url[i].split(',')[-3])\n",
    "\n",
    "part_index"
   ]
  },
  {
   "cell_type": "code",
   "execution_count": 16,
   "id": "5465a987",
   "metadata": {},
   "outputs": [
    {
     "data": {
      "text/plain": [
       "'STANDARD MOTOR PRODUCTS'"
      ]
     },
     "execution_count": 16,
     "metadata": {},
     "output_type": "execute_result"
    }
   ],
   "source": [
    "manufacturer = list_part[part_index].find_element(by=By.XPATH, value='./descendant::div[@class=\"listing-text-row-moreinfo-truck\"]/span[@class=\"listing-final-manufacturer \"]').text\n",
    "\n",
    "manufacturer"
   ]
  },
  {
   "cell_type": "code",
   "execution_count": 17,
   "id": "514d6e06",
   "metadata": {},
   "outputs": [
    {
     "data": {
      "text/plain": [
       "'DODGE B1500 1998\\nDODGE B2500 1998\\nDODGE B3500 1998\\nDODGE DAKOTA 1998\\nDODGE DURANGO 1998-1999\\nDODGE RAM 1500 PICKUP 1998-2001\\nDODGE RAM 2500 PICKUP 1998-2001\\nDODGE RAM 2500 VAN 1999\\nDODGE RAM 3500 PICKUP 1998\\nDODGE RAM 4000 2005'"
      ]
     },
     "execution_count": 17,
     "metadata": {},
     "output_type": "execute_result"
    }
   ],
   "source": [
    "list_part_number[part_index].click()\n",
    "time.sleep(5)\n",
    "list_vehicle = browser.find_element(by=By.XPATH, value='//div[@id=\"buyersguidepopup-outer_c\"]').find_elements(by=By.XPATH, value='./descendant::table[@class=\"nobmp\"]')\n",
    "if len(list_vehicle) == 0:\n",
    "    vehicle = ''\n",
    "else:\n",
    "    vehicle = list_vehicle[0].text\n",
    "\n",
    "vehicle"
   ]
  },
  {
   "cell_type": "code",
   "execution_count": 18,
   "id": "0e21cbad",
   "metadata": {},
   "outputs": [
    {
     "data": {
      "text/plain": [
       "''"
      ]
     },
     "execution_count": 18,
     "metadata": {},
     "output_type": "execute_result"
    }
   ],
   "source": [
    "note_1 = ';'.join(row.text for row in list_part[part_index].find_elements(by=By.XPATH, value='./descendant::div[@class=\"listing-text-row-moreinfo-truck\"]/span[@class=\"span-link-underline-remover\"]'))\n",
    "\n",
    "note_1"
   ]
  },
  {
   "cell_type": "code",
   "execution_count": 19,
   "id": "d2bd254c",
   "metadata": {},
   "outputs": [
    {
     "data": {
      "text/plain": [
       "'https://www.rockauto.com/en/moreinfo.php?pk=816991'"
      ]
     },
     "execution_count": 19,
     "metadata": {},
     "output_type": "execute_result"
    }
   ],
   "source": [
    "info = ';'.join(row.get_attribute('href') for row in list_part[part_index].find_elements(by=By.XPATH, value='./descendant::div[@class=\"listing-text-row-moreinfo-truck\"]/a[@class=\"ra-btn ra-btn-moreinfo\"]'))\n",
    "\n",
    "info"
   ]
  },
  {
   "cell_type": "code",
   "execution_count": 20,
   "id": "82228fd5",
   "metadata": {},
   "outputs": [
    {
     "data": {
      "text/plain": [
       "'Category: Speed Sensor'"
      ]
     },
     "execution_count": 20,
     "metadata": {},
     "output_type": "execute_result"
    }
   ],
   "source": [
    "note_2 = ';'.join(row.text for row in list_part[part_index].find_elements(by=By.XPATH, value='./descendant::div[@class=\"listing-text-row\"]'))\n",
    "\n",
    "note_2"
   ]
  },
  {
   "cell_type": "code",
   "execution_count": 21,
   "id": "a4e918ae",
   "metadata": {},
   "outputs": [
    {
     "data": {
      "text/plain": [
       "'05014787AA;5014787AA;5014787AB;5016133AA;56028187AB;56028187AC;56028229AA;ALS101'"
      ]
     },
     "execution_count": 21,
     "metadata": {},
     "output_type": "execute_result"
    }
   ],
   "source": [
    "oe = ';'.join(row.get_attribute('textContent') for row in list_part[part_index].find_elements(by=By.XPATH, value='./descendant::span[@title=\"Replaces these Alternate/ OE Part Numbers\"]'))\n",
    "oe = ';'.join(oe.split(', '))\n",
    "\n",
    "oe"
   ]
  },
  {
   "cell_type": "code",
   "execution_count": 22,
   "id": "1a81bf14",
   "metadata": {},
   "outputs": [
    {
     "data": {
      "text/plain": [
       "'https://www.rockauto.com/info/154/ALS100_Front__ra_m.jpg'"
      ]
     },
     "execution_count": 22,
     "metadata": {},
     "output_type": "execute_result"
    }
   ],
   "source": [
    "src = ';'.join(row.get_attribute('src') for row in list_part[part_index].find_elements(by=By.XPATH, value='./descendant::img[@class=\" listing-inline-image\"]'))\n",
    "\n",
    "src"
   ]
  },
  {
   "cell_type": "code",
   "execution_count": 23,
   "id": "07befa50",
   "metadata": {},
   "outputs": [
    {
     "data": {
      "text/html": [
       "<div>\n",
       "<style scoped>\n",
       "    .dataframe tbody tr th:only-of-type {\n",
       "        vertical-align: middle;\n",
       "    }\n",
       "\n",
       "    .dataframe tbody tr th {\n",
       "        vertical-align: top;\n",
       "    }\n",
       "\n",
       "    .dataframe thead th {\n",
       "        text-align: right;\n",
       "    }\n",
       "</style>\n",
       "<table border=\"1\" class=\"dataframe\">\n",
       "  <thead>\n",
       "    <tr style=\"text-align: right;\">\n",
       "      <th></th>\n",
       "      <th>Part_Number</th>\n",
       "      <th>Manufacturer</th>\n",
       "      <th>Vehicle</th>\n",
       "      <th>Note_1</th>\n",
       "      <th>Info</th>\n",
       "      <th>Note_2</th>\n",
       "      <th>Alternate_OE_Part_Numbers</th>\n",
       "      <th>Src</th>\n",
       "      <th>status</th>\n",
       "    </tr>\n",
       "  </thead>\n",
       "  <tbody>\n",
       "    <tr>\n",
       "      <th>0</th>\n",
       "      <td>ALS100</td>\n",
       "      <td>STANDARD MOTOR PRODUCTS</td>\n",
       "      <td>DODGE B1500 1998\\nDODGE B2500 1998\\nDODGE B350...</td>\n",
       "      <td></td>\n",
       "      <td>https://www.rockauto.com/en/moreinfo.php?pk=81...</td>\n",
       "      <td>Category: Speed Sensor</td>\n",
       "      <td>05014787AA;5014787AA;5014787AB;5016133AA;56028...</td>\n",
       "      <td>https://www.rockauto.com/info/154/ALS100_Front...</td>\n",
       "      <td>ok</td>\n",
       "    </tr>\n",
       "  </tbody>\n",
       "</table>\n",
       "</div>"
      ],
      "text/plain": [
       "  Part_Number             Manufacturer  \\\n",
       "0      ALS100  STANDARD MOTOR PRODUCTS   \n",
       "\n",
       "                                             Vehicle Note_1  \\\n",
       "0  DODGE B1500 1998\\nDODGE B2500 1998\\nDODGE B350...          \n",
       "\n",
       "                                                Info                  Note_2  \\\n",
       "0  https://www.rockauto.com/en/moreinfo.php?pk=81...  Category: Speed Sensor   \n",
       "\n",
       "                           Alternate_OE_Part_Numbers  \\\n",
       "0  05014787AA;5014787AA;5014787AB;5016133AA;56028...   \n",
       "\n",
       "                                                 Src status  \n",
       "0  https://www.rockauto.com/info/154/ALS100_Front...     ok  "
      ]
     },
     "execution_count": 23,
     "metadata": {},
     "output_type": "execute_result"
    }
   ],
   "source": [
    "df_temp = pd.DataFrame([{'Part_Number': list_url[i].split(',')[-3],\n",
    "                         'Manufacturer': manufacturer,\n",
    "                         'Vehicle': vehicle,\n",
    "                         'Note_1': note_1,\n",
    "                         'Info': info,\n",
    "                         'Note_2': note_2,\n",
    "                         'Alternate_OE_Part_Numbers': oe,\n",
    "                         'Src': src,\n",
    "                         'status': 'ok'}])\n",
    "\n",
    "browser.quit()\n",
    "\n",
    "df = pd.concat([df, df_temp], ignore_index=True).fillna('')\n",
    "\n",
    "df"
   ]
  },
  {
   "cell_type": "code",
   "execution_count": null,
   "id": "ccf11974",
   "metadata": {},
   "outputs": [],
   "source": []
  }
 ],
 "metadata": {
  "kernelspec": {
   "display_name": "Python 3 (ipykernel)",
   "language": "python",
   "name": "python3"
  },
  "language_info": {
   "codemirror_mode": {
    "name": "ipython",
    "version": 3
   },
   "file_extension": ".py",
   "mimetype": "text/x-python",
   "name": "python",
   "nbconvert_exporter": "python",
   "pygments_lexer": "ipython3",
   "version": "3.11.3"
  }
 },
 "nbformat": 4,
 "nbformat_minor": 5
}
