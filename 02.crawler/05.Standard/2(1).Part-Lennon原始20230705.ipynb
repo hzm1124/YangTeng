{
 "cells": [
  {
   "cell_type": "code",
   "execution_count": 1,
   "id": "12b71025",
   "metadata": {},
   "outputs": [],
   "source": [
    "import pandas as pd"
   ]
  },
  {
   "cell_type": "code",
   "execution_count": 2,
   "id": "07ddad26",
   "metadata": {},
   "outputs": [
    {
     "name": "stdout",
     "output_type": "stream",
     "text": [
      "总数量：4\n"
     ]
    },
    {
     "data": {
      "text/plain": [
       "['1713', 'FJG138', 'TBG164', 'TBG118']"
      ]
     },
     "execution_count": 2,
     "metadata": {},
     "output_type": "execute_result"
    }
   ],
   "source": [
    "df_menu = pd.read_excel('./menu.xlsx', header=0)\n",
    "list_part_number = df_menu['Part_Number'].to_list()\n",
    "\n",
    "print('总数量：' + str(len(list_part_number)))\n",
    "list_part_number"
   ]
  },
  {
   "cell_type": "code",
   "execution_count": 3,
   "id": "2813e839",
   "metadata": {},
   "outputs": [
    {
     "data": {
      "text/html": [
       "<div>\n",
       "<style scoped>\n",
       "    .dataframe tbody tr th:only-of-type {\n",
       "        vertical-align: middle;\n",
       "    }\n",
       "\n",
       "    .dataframe tbody tr th {\n",
       "        vertical-align: top;\n",
       "    }\n",
       "\n",
       "    .dataframe thead th {\n",
       "        text-align: right;\n",
       "    }\n",
       "</style>\n",
       "<table border=\"1\" class=\"dataframe\">\n",
       "  <thead>\n",
       "    <tr style=\"text-align: right;\">\n",
       "      <th></th>\n",
       "      <th>Part_Number</th>\n",
       "      <th>Part_Type</th>\n",
       "      <th>POP</th>\n",
       "      <th>Per_Car</th>\n",
       "      <th>Vehicle</th>\n",
       "      <th>Src</th>\n",
       "      <th>status</th>\n",
       "    </tr>\n",
       "  </thead>\n",
       "  <tbody>\n",
       "  </tbody>\n",
       "</table>\n",
       "</div>"
      ],
      "text/plain": [
       "Empty DataFrame\n",
       "Columns: [Part_Number, Part_Type, POP, Per_Car, Vehicle, Src, status]\n",
       "Index: []"
      ]
     },
     "execution_count": 3,
     "metadata": {},
     "output_type": "execute_result"
    }
   ],
   "source": [
    "df = pd.DataFrame(columns=['Part_Number',\n",
    "                           'Part_Type',\n",
    "                           'POP',\n",
    "                           'Per_Car',\n",
    "                           'Vehicle',\n",
    "                           'Src',\n",
    "                           'status'])\n",
    "\n",
    "df"
   ]
  },
  {
   "cell_type": "code",
   "execution_count": 4,
   "id": "714577eb",
   "metadata": {},
   "outputs": [],
   "source": [
    "import requests\n",
    "import json"
   ]
  },
  {
   "cell_type": "code",
   "execution_count": 5,
   "id": "57060a9a",
   "metadata": {},
   "outputs": [
    {
     "data": {
      "text/plain": [
       "{'pd': {'rowId': 1,\n",
       "  'site': 'STD',\n",
       "  'webBase': '1713',\n",
       "  'brand': 'STD',\n",
       "  'basePart': '1713',\n",
       "  'partDesc_en': 'Throttle Body Injection Tune-Up Kit',\n",
       "  'partLongDesc_en': 'Throttle Body Injection Tune-Up Kit',\n",
       "  'pop': 'X',\n",
       "  'partComment': None,\n",
       "  'qtyEach': 1,\n",
       "  'webColumn_Id': None,\n",
       "  'categoryName_en': None,\n",
       "  'vehicleId': None,\n",
       "  'mfg': None,\n",
       "  'mfG_Part': None,\n",
       "  'maxRows': 1,\n",
       "  'brandLink': None,\n",
       "  'imageUrl': None},\n",
       " 'pp': {'buyersGuides': [{'basePart': '1713',\n",
       "    'buyersGuideId': 10018,\n",
       "    'buyersGuideDesc': 'Chevrolet Metro (92)'},\n",
       "   {'basePart': '1713',\n",
       "    'buyersGuideId': 12447,\n",
       "    'buyersGuideDesc': 'Chevrolet Sprint (91-89)'},\n",
       "   {'basePart': '1713',\n",
       "    'buyersGuideId': 22310,\n",
       "    'buyersGuideDesc': 'Geo Metro (97-89)'},\n",
       "   {'basePart': '1713',\n",
       "    'buyersGuideId': 46339,\n",
       "    'buyersGuideDesc': 'Suzuki Swift (93-89)'}],\n",
       "  'partSpecs': [{'attributeCode': '110',\n",
       "    'attributeValue': 1905,\n",
       "    'attributeSort': 0,\n",
       "    'attributeName_en': 'Warranty',\n",
       "    'siteValue_en': '3 years/36,000 mile'}],\n",
       "  'imageUrls': [],\n",
       "  'relatedParts': [],\n",
       "  'relatedCategories': None,\n",
       "  'fandB': [{'basePart': '1713',\n",
       "    'fbId': '301746',\n",
       "    'fbDesc': 'For over 100 years, professional technicians have trusted Standard® to replace the failed OE part. Standard® manufacturers the highest-quality, best-performing parts for all import and domestic vehicles; gas, diesel, electric and hybrid. Precision manufacturing, multiple layers of testing, and a detailed validation process ensures Standard® parts don’t just fit, they perform and they last.',\n",
       "    'taB_Type': 'F&B Heading',\n",
       "    'assetSort': 1,\n",
       "    'digiSort': 100},\n",
       "   {'basePart': '1713',\n",
       "    'fbId': '277',\n",
       "    'fbDesc': 'TBI Kits and Gaskets are manufactured with robust material design for prolonged life and improved performance',\n",
       "    'taB_Type': 'F&B Details',\n",
       "    'assetSort': 8,\n",
       "    'digiSort': 200},\n",
       "   {'basePart': '1713',\n",
       "    'fbId': '28',\n",
       "    'fbDesc': 'All products are tested and inspected in an ISO 9000-compliant environment',\n",
       "    'taB_Type': 'F&B Details',\n",
       "    'assetSort': 8,\n",
       "    'digiSort': 210},\n",
       "   {'basePart': '1713',\n",
       "    'fbId': '275',\n",
       "    'fbDesc': 'State-of-the-art designs that meet or exceed OE specifications',\n",
       "    'taB_Type': 'F&B Details',\n",
       "    'assetSort': 8,\n",
       "    'digiSort': 220},\n",
       "   {'basePart': '1713',\n",
       "    'fbId': '381',\n",
       "    'fbDesc': 'With industry leading expertise, when original equipment fails our products are designed to fix the inherent failure issues',\n",
       "    'taB_Type': 'F&B Details',\n",
       "    'assetSort': 8,\n",
       "    'digiSort': 230},\n",
       "   {'basePart': '1713',\n",
       "    'fbId': '53',\n",
       "    'fbDesc': 'As a global manufacturer, we have complete control of the manufacturing process from componentry to finished product',\n",
       "    'taB_Type': 'F&B Details',\n",
       "    'assetSort': 8,\n",
       "    'digiSort': 240}],\n",
       "  'digiAssests': [{'asset_ID': 3,\n",
       "    'assetName': 'Bulletins',\n",
       "    'basePart': '1713',\n",
       "    'fileName': 'ST10235VWL-MAR13_JTF_veh_warn_light.pdf',\n",
       "    'fileURL': 'http://eaccess.smpcorp.com/eCatalogs/Downloads/EMD/ST10235VWL-MAR13_JTF_veh_warn_light.pdf',\n",
       "    'comment_ID': '260657',\n",
       "    'comment': 'Just the Facts: Vehicle Warning Lights',\n",
       "    'assetSort': 3,\n",
       "    'digiSort': 0,\n",
       "    'videoImage': None},\n",
       "   {'asset_ID': 3,\n",
       "    'assetName': 'Bulletins',\n",
       "    'basePart': '1713',\n",
       "    'fileName': 'ST11237-Standard_Interactive_Buyers_Guide-WEB.pdf',\n",
       "    'fileURL': 'http://eaccess.smpcorp.com/eCatalogs/Downloads/EMD/ST11237-Standard_Interactive_Buyers_Guide-WEB.pdf',\n",
       "    'comment_ID': '260664',\n",
       "    'comment': \"Standard Interactive Buyer's Guide\",\n",
       "    'assetSort': 3,\n",
       "    'digiSort': 0,\n",
       "    'videoImage': None},\n",
       "   {'asset_ID': 7,\n",
       "    'assetName': 'Videos',\n",
       "    'basePart': '1713',\n",
       "    'fileName': 'WIYB: Engineering Spotlight: Long Island City',\n",
       "    'fileURL': 'https://youtube.com/embed/I-kWdiTPe08',\n",
       "    'comment_ID': '291618',\n",
       "    'comment': 'WIYB: Engineering Spotlight: Long Island City',\n",
       "    'assetSort': 7,\n",
       "    'digiSort': 80003,\n",
       "    'videoImage': None},\n",
       "   {'asset_ID': 7,\n",
       "    'assetName': 'Videos',\n",
       "    'basePart': '1713',\n",
       "    'fileName': 'SMP Engineering - Long Island City Facility Tour',\n",
       "    'fileURL': 'https://youtube.com/embed/ut5LYbUFCKo',\n",
       "    'comment_ID': '271219',\n",
       "    'comment': 'SMP Engineering - Long Island City Facility Tour',\n",
       "    'assetSort': 7,\n",
       "    'digiSort': 80350,\n",
       "    'videoImage': None},\n",
       "   {'asset_ID': 7,\n",
       "    'assetName': 'Videos',\n",
       "    'basePart': '1713',\n",
       "    'fileName': 'Standard Interactive Buyers Guide',\n",
       "    'fileURL': 'https://youtube.com/embed/mRzK11T9pxg',\n",
       "    'comment_ID': '251346',\n",
       "    'comment': 'Standard Interactive Buyers Guide',\n",
       "    'assetSort': 7,\n",
       "    'digiSort': 90030,\n",
       "    'videoImage': None},\n",
       "   {'asset_ID': 7,\n",
       "    'assetName': 'Videos',\n",
       "    'basePart': '1713',\n",
       "    'fileName': 'SMP Parts App Update (3.0.9)',\n",
       "    'fileURL': 'https://youtube.com/embed/HvA2lY15M28',\n",
       "    'comment_ID': '270593',\n",
       "    'comment': 'SMP Parts App Update (3.0.9)',\n",
       "    'assetSort': 7,\n",
       "    'digiSort': 90090,\n",
       "    'videoImage': None}],\n",
       "  'categories': [{'basePart': '1713',\n",
       "    'webLayout_ID': 347400,\n",
       "    'categoryName_en': 'Throttle Body Injection Tune-Up Kit',\n",
       "    'prodCategory_ASort': 27540}],\n",
       "  'crossRef': None,\n",
       "  'completeRepair': {'serviceParts': [],\n",
       "   'serviceSpec': [{'serviceName': 'Fuel Filter Flush (Required)'},\n",
       "    {'serviceName': 'Oil Change (Required)'}]}}}"
      ]
     },
     "execution_count": 5,
     "metadata": {},
     "output_type": "execute_result"
    }
   ],
   "source": [
    "i = 0\n",
    "\n",
    "resp = requests.get('https://ecatalog.smpcorp.com/V2/STD/api/part/partselect?part=' + list_part_number[i] + '&func=PART').text\n",
    "info = json.loads(resp)\n",
    "\n",
    "info"
   ]
  },
  {
   "cell_type": "code",
   "execution_count": 6,
   "id": "2b6f398d",
   "metadata": {},
   "outputs": [
    {
     "data": {
      "text/plain": [
       "'Throttle Body Injection Tune-Up Kit'"
      ]
     },
     "execution_count": 6,
     "metadata": {},
     "output_type": "execute_result"
    }
   ],
   "source": [
    "part_type = info['pp']['categories'][0]['categoryName_en']\n",
    "\n",
    "part_type"
   ]
  },
  {
   "cell_type": "code",
   "execution_count": 7,
   "id": "49ce4ab1",
   "metadata": {},
   "outputs": [
    {
     "data": {
      "text/plain": [
       "'X'"
      ]
     },
     "execution_count": 7,
     "metadata": {},
     "output_type": "execute_result"
    }
   ],
   "source": [
    "pop = info['pd']['pop']\n",
    "\n",
    "pop"
   ]
  },
  {
   "cell_type": "code",
   "execution_count": 8,
   "id": "70903b20",
   "metadata": {},
   "outputs": [
    {
     "data": {
      "text/plain": [
       "1"
      ]
     },
     "execution_count": 8,
     "metadata": {},
     "output_type": "execute_result"
    }
   ],
   "source": [
    "per_car = info['pd']['qtyEach']\n",
    "\n",
    "per_car"
   ]
  },
  {
   "cell_type": "code",
   "execution_count": 9,
   "id": "f56c350e",
   "metadata": {},
   "outputs": [
    {
     "data": {
      "text/plain": [
       "'Chevrolet Metro (92)\\nChevrolet Sprint (91-89)\\nGeo Metro (97-89)\\nSuzuki Swift (93-89)'"
      ]
     },
     "execution_count": 9,
     "metadata": {},
     "output_type": "execute_result"
    }
   ],
   "source": [
    "list_vehicle = [vehicle['buyersGuideDesc'] for vehicle in info['pp']['buyersGuides']]\n",
    "vehicle = '\\n'.join(list_vehicle)\n",
    "\n",
    "vehicle"
   ]
  },
  {
   "cell_type": "code",
   "execution_count": 10,
   "id": "ae20f4e8",
   "metadata": {},
   "outputs": [
    {
     "data": {
      "text/plain": [
       "[{'attributeCode': '110',\n",
       "  'attributeValue': 1905,\n",
       "  'attributeSort': 0,\n",
       "  'attributeName_en': 'Warranty',\n",
       "  'siteValue_en': '3 years/36,000 mile'}]"
      ]
     },
     "execution_count": 10,
     "metadata": {},
     "output_type": "execute_result"
    }
   ],
   "source": [
    "details = info['pp']['partSpecs']\n",
    "\n",
    "details"
   ]
  },
  {
   "cell_type": "code",
   "execution_count": 11,
   "id": "8855996e",
   "metadata": {},
   "outputs": [
    {
     "data": {
      "text/plain": [
       "'STD'"
      ]
     },
     "execution_count": 11,
     "metadata": {},
     "output_type": "execute_result"
    }
   ],
   "source": [
    "brand = info['pd']['brand']\n",
    "\n",
    "brand"
   ]
  },
  {
   "cell_type": "code",
   "execution_count": 12,
   "id": "7d4d6d66",
   "metadata": {},
   "outputs": [
    {
     "data": {
      "text/plain": [
       "[]"
      ]
     },
     "execution_count": 12,
     "metadata": {},
     "output_type": "execute_result"
    }
   ],
   "source": [
    "resp = requests.get('https://ecatalog.smpcorp.com/V2/STD/api/image/getallimages?partNum=' + list_part_number[i] + '&brand=' + brand + '&zoomFactor_sm=75&zoomFactor_md=360&zoomFactor_bg=960').text\n",
    "info = json.loads(resp)\n",
    "\n",
    "info"
   ]
  },
  {
   "cell_type": "code",
   "execution_count": 15,
   "id": "05770e72",
   "metadata": {},
   "outputs": [
    {
     "data": {
      "text/plain": [
       "''"
      ]
     },
     "execution_count": 15,
     "metadata": {},
     "output_type": "execute_result"
    }
   ],
   "source": [
    "if len(info) == 0:\n",
    "    src = ''\n",
    "else:\n",
    "    src = info[0]['image_BG_Url']\n",
    "\n",
    "src"
   ]
  },
  {
   "cell_type": "code",
   "execution_count": 16,
   "id": "0f2fa476",
   "metadata": {},
   "outputs": [
    {
     "data": {
      "text/html": [
       "<div>\n",
       "<style scoped>\n",
       "    .dataframe tbody tr th:only-of-type {\n",
       "        vertical-align: middle;\n",
       "    }\n",
       "\n",
       "    .dataframe tbody tr th {\n",
       "        vertical-align: top;\n",
       "    }\n",
       "\n",
       "    .dataframe thead th {\n",
       "        text-align: right;\n",
       "    }\n",
       "</style>\n",
       "<table border=\"1\" class=\"dataframe\">\n",
       "  <thead>\n",
       "    <tr style=\"text-align: right;\">\n",
       "      <th></th>\n",
       "      <th>Part_Number</th>\n",
       "      <th>Part_Type</th>\n",
       "      <th>POP</th>\n",
       "      <th>Per_Car</th>\n",
       "      <th>Vehicle</th>\n",
       "      <th>Src</th>\n",
       "      <th>status</th>\n",
       "    </tr>\n",
       "  </thead>\n",
       "  <tbody>\n",
       "    <tr>\n",
       "      <th>0</th>\n",
       "      <td>1713</td>\n",
       "      <td>Throttle Body Injection Tune-Up Kit</td>\n",
       "      <td>X</td>\n",
       "      <td>1</td>\n",
       "      <td>Chevrolet Metro (92)\\nChevrolet Sprint (91-89)...</td>\n",
       "      <td></td>\n",
       "      <td>ok</td>\n",
       "    </tr>\n",
       "  </tbody>\n",
       "</table>\n",
       "</div>"
      ],
      "text/plain": [
       "  Part_Number                            Part_Type POP  Per_Car  \\\n",
       "0        1713  Throttle Body Injection Tune-Up Kit   X        1   \n",
       "\n",
       "                                             Vehicle Src status  \n",
       "0  Chevrolet Metro (92)\\nChevrolet Sprint (91-89)...         ok  "
      ]
     },
     "execution_count": 16,
     "metadata": {},
     "output_type": "execute_result"
    }
   ],
   "source": [
    "df_temp = pd.DataFrame([{'Part_Number': list_part_number[i],\n",
    "                         'Part_Type': part_type,\n",
    "                         'POP': pop,\n",
    "                         'Per_Car': per_car,\n",
    "                         'Vehicle': vehicle,\n",
    "                         'Src': src,\n",
    "                         'status': 'ok'}])\n",
    "\n",
    "df_temp"
   ]
  },
  {
   "cell_type": "code",
   "execution_count": 17,
   "id": "4c7b2fb6",
   "metadata": {},
   "outputs": [
    {
     "data": {
      "text/html": [
       "<div>\n",
       "<style scoped>\n",
       "    .dataframe tbody tr th:only-of-type {\n",
       "        vertical-align: middle;\n",
       "    }\n",
       "\n",
       "    .dataframe tbody tr th {\n",
       "        vertical-align: top;\n",
       "    }\n",
       "\n",
       "    .dataframe thead th {\n",
       "        text-align: right;\n",
       "    }\n",
       "</style>\n",
       "<table border=\"1\" class=\"dataframe\">\n",
       "  <thead>\n",
       "    <tr style=\"text-align: right;\">\n",
       "      <th></th>\n",
       "      <th>Part_Number</th>\n",
       "      <th>Part_Type</th>\n",
       "      <th>POP</th>\n",
       "      <th>Per_Car</th>\n",
       "      <th>Vehicle</th>\n",
       "      <th>Src</th>\n",
       "      <th>status</th>\n",
       "      <th>warranty</th>\n",
       "    </tr>\n",
       "  </thead>\n",
       "  <tbody>\n",
       "    <tr>\n",
       "      <th>0</th>\n",
       "      <td>1713</td>\n",
       "      <td>Throttle Body Injection Tune-Up Kit</td>\n",
       "      <td>X</td>\n",
       "      <td>1</td>\n",
       "      <td>Chevrolet Metro (92)\\nChevrolet Sprint (91-89)...</td>\n",
       "      <td></td>\n",
       "      <td>ok</td>\n",
       "      <td>3 years/36,000 mile</td>\n",
       "    </tr>\n",
       "  </tbody>\n",
       "</table>\n",
       "</div>"
      ],
      "text/plain": [
       "  Part_Number                            Part_Type POP  Per_Car  \\\n",
       "0        1713  Throttle Body Injection Tune-Up Kit   X        1   \n",
       "\n",
       "                                             Vehicle Src status  \\\n",
       "0  Chevrolet Metro (92)\\nChevrolet Sprint (91-89)...         ok   \n",
       "\n",
       "              warranty  \n",
       "0  3 years/36,000 mile  "
      ]
     },
     "execution_count": 17,
     "metadata": {},
     "output_type": "execute_result"
    }
   ],
   "source": [
    "for name_value in details:\n",
    "    df_temp[name_value['attributeName_en'].lower()] = name_value['siteValue_en']\n",
    "    \n",
    "df = pd.concat([df, df_temp], ignore_index=True).fillna('')\n",
    "\n",
    "df"
   ]
  },
  {
   "cell_type": "code",
   "execution_count": null,
   "id": "79d2da03",
   "metadata": {},
   "outputs": [],
   "source": []
  }
 ],
 "metadata": {
  "kernelspec": {
   "display_name": "Python 3 (ipykernel)",
   "language": "python",
   "name": "python3"
  },
  "language_info": {
   "codemirror_mode": {
    "name": "ipython",
    "version": 3
   },
   "file_extension": ".py",
   "mimetype": "text/x-python",
   "name": "python",
   "nbconvert_exporter": "python",
   "pygments_lexer": "ipython3",
   "version": "3.11.3"
  }
 },
 "nbformat": 4,
 "nbformat_minor": 5
}
