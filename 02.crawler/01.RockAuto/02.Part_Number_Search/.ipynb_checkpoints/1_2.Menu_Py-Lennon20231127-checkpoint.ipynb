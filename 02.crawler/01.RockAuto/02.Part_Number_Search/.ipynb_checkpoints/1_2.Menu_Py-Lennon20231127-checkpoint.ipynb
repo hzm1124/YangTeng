{
 "cells": [
  {
   "cell_type": "code",
   "execution_count": 1,
   "id": "e8e93640",
   "metadata": {},
   "outputs": [],
   "source": [
    "import pandas as pd"
   ]
  },
  {
   "cell_type": "code",
   "execution_count": 2,
   "id": "58d28d81",
   "metadata": {},
   "outputs": [
    {
     "data": {
      "text/html": [
       "<div>\n",
       "<style scoped>\n",
       "    .dataframe tbody tr th:only-of-type {\n",
       "        vertical-align: middle;\n",
       "    }\n",
       "\n",
       "    .dataframe tbody tr th {\n",
       "        vertical-align: top;\n",
       "    }\n",
       "\n",
       "    .dataframe thead th {\n",
       "        text-align: right;\n",
       "    }\n",
       "</style>\n",
       "<table border=\"1\" class=\"dataframe\">\n",
       "  <thead>\n",
       "    <tr style=\"text-align: right;\">\n",
       "      <th></th>\n",
       "    </tr>\n",
       "  </thead>\n",
       "  <tbody>\n",
       "  </tbody>\n",
       "</table>\n",
       "</div>"
      ],
      "text/plain": [
       "Empty DataFrame\n",
       "Columns: []\n",
       "Index: []"
      ]
     },
     "execution_count": 2,
     "metadata": {},
     "output_type": "execute_result"
    }
   ],
   "source": [
    "df = pd.DataFrame()\n",
    "\n",
    "df"
   ]
  },
  {
   "cell_type": "code",
   "execution_count": 3,
   "id": "ff878a19",
   "metadata": {},
   "outputs": [],
   "source": [
    "import json"
   ]
  },
  {
   "cell_type": "code",
   "execution_count": 4,
   "id": "f2941ebf",
   "metadata": {},
   "outputs": [
    {
     "data": {
      "text/html": [
       "<div>\n",
       "<style scoped>\n",
       "    .dataframe tbody tr th:only-of-type {\n",
       "        vertical-align: middle;\n",
       "    }\n",
       "\n",
       "    .dataframe tbody tr th {\n",
       "        vertical-align: top;\n",
       "    }\n",
       "\n",
       "    .dataframe thead th {\n",
       "        text-align: right;\n",
       "    }\n",
       "</style>\n",
       "<table border=\"1\" class=\"dataframe\">\n",
       "  <thead>\n",
       "    <tr style=\"text-align: right;\">\n",
       "      <th></th>\n",
       "      <th>Url</th>\n",
       "      <th>No.</th>\n",
       "      <th>Part_Number</th>\n",
       "    </tr>\n",
       "  </thead>\n",
       "  <tbody>\n",
       "    <tr>\n",
       "      <th>0</th>\n",
       "      <td>https://www.rockauto.com/en/parts/airtex,AW102...</td>\n",
       "      <td>1</td>\n",
       "      <td>AW1028H</td>\n",
       "    </tr>\n",
       "    <tr>\n",
       "      <th>1</th>\n",
       "      <td>https://www.rockauto.com/en/parts/airtex,AW106...</td>\n",
       "      <td>2</td>\n",
       "      <td>AW1069</td>\n",
       "    </tr>\n",
       "    <tr>\n",
       "      <th>2</th>\n",
       "      <td>https://www.rockauto.com/en/parts/airtex,AW109...</td>\n",
       "      <td>3</td>\n",
       "      <td>AW1099</td>\n",
       "    </tr>\n",
       "    <tr>\n",
       "      <th>3</th>\n",
       "      <td>https://www.rockauto.com/en/parts/airtex,AW112...</td>\n",
       "      <td>4</td>\n",
       "      <td>AW1120H</td>\n",
       "    </tr>\n",
       "    <tr>\n",
       "      <th>4</th>\n",
       "      <td>https://www.rockauto.com/en/parts/airtex,AW112...</td>\n",
       "      <td>5</td>\n",
       "      <td>AW1127</td>\n",
       "    </tr>\n",
       "    <tr>\n",
       "      <th>...</th>\n",
       "      <td>...</td>\n",
       "      <td>...</td>\n",
       "      <td>...</td>\n",
       "    </tr>\n",
       "    <tr>\n",
       "      <th>346</th>\n",
       "      <td>https://www.rockauto.com/en/parts/airtex,AW949...</td>\n",
       "      <td>347</td>\n",
       "      <td>AW9496</td>\n",
       "    </tr>\n",
       "    <tr>\n",
       "      <th>347</th>\n",
       "      <td>https://www.rockauto.com/en/parts/airtex,AW953...</td>\n",
       "      <td>348</td>\n",
       "      <td>AW953H</td>\n",
       "    </tr>\n",
       "    <tr>\n",
       "      <th>348</th>\n",
       "      <td>https://www.rockauto.com/en/parts/airtex,AW971...</td>\n",
       "      <td>349</td>\n",
       "      <td>AW971</td>\n",
       "    </tr>\n",
       "    <tr>\n",
       "      <th>349</th>\n",
       "      <td>https://www.rockauto.com/en/parts/airtex,AW981...</td>\n",
       "      <td>350</td>\n",
       "      <td>AW981</td>\n",
       "    </tr>\n",
       "    <tr>\n",
       "      <th>350</th>\n",
       "      <td>https://www.rockauto.com/en/parts/airtex,WP247...</td>\n",
       "      <td>351</td>\n",
       "      <td>WP2473</td>\n",
       "    </tr>\n",
       "  </tbody>\n",
       "</table>\n",
       "<p>351 rows × 3 columns</p>\n",
       "</div>"
      ],
      "text/plain": [
       "                                                   Url  No. Part_Number\n",
       "0    https://www.rockauto.com/en/parts/airtex,AW102...    1     AW1028H\n",
       "1    https://www.rockauto.com/en/parts/airtex,AW106...    2      AW1069\n",
       "2    https://www.rockauto.com/en/parts/airtex,AW109...    3      AW1099\n",
       "3    https://www.rockauto.com/en/parts/airtex,AW112...    4     AW1120H\n",
       "4    https://www.rockauto.com/en/parts/airtex,AW112...    5      AW1127\n",
       "..                                                 ...  ...         ...\n",
       "346  https://www.rockauto.com/en/parts/airtex,AW949...  347      AW9496\n",
       "347  https://www.rockauto.com/en/parts/airtex,AW953...  348      AW953H\n",
       "348  https://www.rockauto.com/en/parts/airtex,AW971...  349       AW971\n",
       "349  https://www.rockauto.com/en/parts/airtex,AW981...  350       AW981\n",
       "350  https://www.rockauto.com/en/parts/airtex,WP247...  351      WP2473\n",
       "\n",
       "[351 rows x 3 columns]"
      ]
     },
     "execution_count": 4,
     "metadata": {},
     "output_type": "execute_result"
    }
   ],
   "source": [
    "with open('./menu.txt', 'r', encoding='UTF-8') as f:\n",
    "    df = pd.DataFrame(json.loads(f.read()))\n",
    " \n",
    "df = df[['Url', 'No.', 'Part_Number']]\n",
    "    \n",
    "df.to_excel('./menu.xlsx', index=False)\n",
    "\n",
    "df"
   ]
  },
  {
   "cell_type": "code",
   "execution_count": null,
   "id": "6a1ed2b7",
   "metadata": {},
   "outputs": [],
   "source": []
  }
 ],
 "metadata": {
  "kernelspec": {
   "display_name": "Python 3 (ipykernel)",
   "language": "python",
   "name": "python3"
  },
  "language_info": {
   "codemirror_mode": {
    "name": "ipython",
    "version": 3
   },
   "file_extension": ".py",
   "mimetype": "text/x-python",
   "name": "python",
   "nbconvert_exporter": "python",
   "pygments_lexer": "ipython3",
   "version": "3.11.3"
  }
 },
 "nbformat": 4,
 "nbformat_minor": 5
}
