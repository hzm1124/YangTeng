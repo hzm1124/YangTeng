{
 "cells": [
  {
   "cell_type": "code",
   "execution_count": 1,
   "id": "14ca4672",
   "metadata": {},
   "outputs": [],
   "source": [
    "import os"
   ]
  },
  {
   "cell_type": "code",
   "execution_count": 2,
   "id": "a3369d1a",
   "metadata": {},
   "outputs": [
    {
     "data": {
      "text/plain": [
       "8"
      ]
     },
     "execution_count": 2,
     "metadata": {},
     "output_type": "execute_result"
    }
   ],
   "source": [
    "list_file = list(os.walk('./menu'))[0][2]\n",
    "if '.DS_Store' in list_file:\n",
    "   list_file.remove('.DS_Store')\n",
    "\n",
    "len(list_file)"
   ]
  },
  {
   "cell_type": "code",
   "execution_count": 3,
   "id": "552c5c8c",
   "metadata": {},
   "outputs": [],
   "source": [
    "import pandas as pd"
   ]
  },
  {
   "cell_type": "code",
   "execution_count": 4,
   "id": "19a50da8",
   "metadata": {},
   "outputs": [
    {
     "data": {
      "text/html": [
       "<div>\n",
       "<style scoped>\n",
       "    .dataframe tbody tr th:only-of-type {\n",
       "        vertical-align: middle;\n",
       "    }\n",
       "\n",
       "    .dataframe tbody tr th {\n",
       "        vertical-align: top;\n",
       "    }\n",
       "\n",
       "    .dataframe thead th {\n",
       "        text-align: right;\n",
       "    }\n",
       "</style>\n",
       "<table border=\"1\" class=\"dataframe\">\n",
       "  <thead>\n",
       "    <tr style=\"text-align: right;\">\n",
       "      <th></th>\n",
       "      <th>Part_Number</th>\n",
       "      <th>Title</th>\n",
       "      <th>Description</th>\n",
       "      <th>Url</th>\n",
       "    </tr>\n",
       "  </thead>\n",
       "  <tbody>\n",
       "  </tbody>\n",
       "</table>\n",
       "</div>"
      ],
      "text/plain": [
       "Empty DataFrame\n",
       "Columns: [Part_Number, Title, Description, Url]\n",
       "Index: []"
      ]
     },
     "execution_count": 4,
     "metadata": {},
     "output_type": "execute_result"
    }
   ],
   "source": [
    "df = pd.DataFrame(columns=['Part_Number', 'Title', 'Description', 'Url'])\n",
    "\n",
    "df"
   ]
  },
  {
   "cell_type": "code",
   "execution_count": 5,
   "id": "000d53d7",
   "metadata": {},
   "outputs": [],
   "source": [
    "import json"
   ]
  },
  {
   "cell_type": "code",
   "execution_count": 6,
   "id": "1d3df716",
   "metadata": {},
   "outputs": [
    {
     "name": "stdout",
     "output_type": "stream",
     "text": [
      "www.summitracing.com_search_PageSize=100&SortBy=SKU&SortOrder=Ascending&keyword=LS%20Oil%20Pan&page=8.txt\n",
      "www.summitracing.com_search_PageSize=100&SortBy=SKU&SortOrder=Ascending&keyword=LS%20Oil%20Pan&page=7.txt\n",
      "www.summitracing.com_search_PageSize=100&SortBy=SKU&SortOrder=Ascending&keyword=LS%20Oil%20Pan&page=6.txt\n",
      "www.summitracing.com_search_PageSize=100&SortBy=SKU&SortOrder=Ascending&keyword=LS%20Oil%20Pan&page=4.txt\n",
      "www.summitracing.com_search_PageSize=100&SortBy=SKU&SortOrder=Ascending&keyword=LS%20Oil%20Pan&page=5.txt\n",
      "www.summitracing.com_search_PageSize=100&SortBy=SKU&SortOrder=Ascending&keyword=LS%20Oil%20Pan&page=1.txt\n",
      "www.summitracing.com_search_PageSize=100&SortBy=SKU&SortOrder=Ascending&keyword=LS%20Oil%20Pan&page=2.txt\n",
      "www.summitracing.com_search_PageSize=100&SortBy=SKU&SortOrder=Ascending&keyword=LS%20Oil%20Pan&page=3.txt\n"
     ]
    }
   ],
   "source": [
    "for file in list_file:\n",
    "    print(file)\n",
    "    with open('./menu/' + file) as f:\n",
    "        list_part = f.read()[1:-1].split('},{')\n",
    "        for i in range(len(list_part)):\n",
    "            if i == 0:\n",
    "                part = json.loads(list_part[i] + '}')\n",
    "            elif i == len(list_part) - 1:\n",
    "                part = json.loads('{' + list_part[i])\n",
    "            else:\n",
    "                part = json.loads('{' + list_part[i] + '}')\n",
    "                \n",
    "            df_temp = pd.DataFrame([{'Part_Number': part['Part_Number'],\n",
    "                                     'Title': part['Title'],\n",
    "                                     'Description': part['Description'],\n",
    "                                     'Url': part['Url']}])\n",
    "            df = pd.concat([df, df_temp], ignore_index=True)"
   ]
  },
  {
   "cell_type": "code",
   "execution_count": 7,
   "id": "e7c8e52b",
   "metadata": {},
   "outputs": [
    {
     "data": {
      "text/html": [
       "<div>\n",
       "<style scoped>\n",
       "    .dataframe tbody tr th:only-of-type {\n",
       "        vertical-align: middle;\n",
       "    }\n",
       "\n",
       "    .dataframe tbody tr th {\n",
       "        vertical-align: top;\n",
       "    }\n",
       "\n",
       "    .dataframe thead th {\n",
       "        text-align: right;\n",
       "    }\n",
       "</style>\n",
       "<table border=\"1\" class=\"dataframe\">\n",
       "  <thead>\n",
       "    <tr style=\"text-align: right;\">\n",
       "      <th></th>\n",
       "      <th>Part_Number</th>\n",
       "      <th>Title</th>\n",
       "      <th>Description</th>\n",
       "      <th>Url</th>\n",
       "    </tr>\n",
       "  </thead>\n",
       "  <tbody>\n",
       "    <tr>\n",
       "      <th>0</th>\n",
       "      <td>TRD-42913</td>\n",
       "      <td>Trans-Dapt Performance Swap-In-A-Box Complete ...</td>\n",
       "      <td>64-67 CHEVELLE+MALIBU/LS SWAP IN A BOX KIT-BLA...</td>\n",
       "      <td>https://www.summitracing.com/parts/trd-42913</td>\n",
       "    </tr>\n",
       "    <tr>\n",
       "      <th>1</th>\n",
       "      <td>TRD-42921</td>\n",
       "      <td>Trans-Dapt Performance Swap-In-A-Box Complete ...</td>\n",
       "      <td>Engine Swap Kit, Headers, Motor Mounts, Oil Pa...</td>\n",
       "      <td>https://www.summitracing.com/parts/trd-42921</td>\n",
       "    </tr>\n",
       "    <tr>\n",
       "      <th>2</th>\n",
       "      <td>TRD-4336</td>\n",
       "      <td>Trans-Dapt Performance Products Oil Pan Gasket...</td>\n",
       "      <td>GASKET FOR LS FABRICATED ALUMINUM OIL PAN</td>\n",
       "      <td>https://www.summitracing.com/parts/trd-4336</td>\n",
       "    </tr>\n",
       "    <tr>\n",
       "      <th>3</th>\n",
       "      <td>TRD-46001</td>\n",
       "      <td>Trans-Dapt Performance Swap-In-A-Box Complete ...</td>\n",
       "      <td>Engine Swap Kit, Headers, Motor Mounts, Oil Pa...</td>\n",
       "      <td>https://www.summitracing.com/parts/trd-46001</td>\n",
       "    </tr>\n",
       "    <tr>\n",
       "      <th>4</th>\n",
       "      <td>TRD-46002</td>\n",
       "      <td>Trans-Dapt Performance Swap-In-A-Box Complete ...</td>\n",
       "      <td>Engine Swap Kit, Silver Ceramic Coated Headers...</td>\n",
       "      <td>https://www.summitracing.com/parts/trd-46002</td>\n",
       "    </tr>\n",
       "    <tr>\n",
       "      <th>...</th>\n",
       "      <td>...</td>\n",
       "      <td>...</td>\n",
       "      <td>...</td>\n",
       "      <td>...</td>\n",
       "    </tr>\n",
       "    <tr>\n",
       "      <th>740</th>\n",
       "      <td>IRP-EGM-731</td>\n",
       "      <td>Improved Racing Crank Scraper and Windage Tray...</td>\n",
       "      <td>Crank scraper &amp; windage tray kit for 3.622\" st...</td>\n",
       "      <td>https://www.summitracing.com/parts/irp-egm-731</td>\n",
       "    </tr>\n",
       "    <tr>\n",
       "      <th>741</th>\n",
       "      <td>IRP-EGM-731F</td>\n",
       "      <td>Improved Racing Crank Scraper and Windage Tray...</td>\n",
       "      <td>Crank scraper &amp; windage tray kit for 3.622\" LS...</td>\n",
       "      <td>https://www.summitracing.com/parts/irp-egm-731f</td>\n",
       "    </tr>\n",
       "    <tr>\n",
       "      <th>742</th>\n",
       "      <td>IRP-EGM-731G</td>\n",
       "      <td>Improved Racing Crank Scraper and Windage Tray...</td>\n",
       "      <td>Crank scraper &amp; windage tray kit for 3.622\" LS...</td>\n",
       "      <td>https://www.summitracing.com/parts/irp-egm-731g</td>\n",
       "    </tr>\n",
       "    <tr>\n",
       "      <th>743</th>\n",
       "      <td>IRP-EGM-732</td>\n",
       "      <td>Improved Racing Crank Scraper and Windage Tray...</td>\n",
       "      <td>Crank scraper &amp; windage tray kit for 3.622\" LS...</td>\n",
       "      <td>https://www.summitracing.com/parts/irp-egm-732</td>\n",
       "    </tr>\n",
       "    <tr>\n",
       "      <th>744</th>\n",
       "      <td>IRP-EGM-732F</td>\n",
       "      <td>Improved Racing Crank Scraper and Windage Tray...</td>\n",
       "      <td>Crank scraper &amp; windage tray kit, 3.622\" LS, F...</td>\n",
       "      <td>https://www.summitracing.com/parts/irp-egm-732f</td>\n",
       "    </tr>\n",
       "  </tbody>\n",
       "</table>\n",
       "<p>745 rows × 4 columns</p>\n",
       "</div>"
      ],
      "text/plain": [
       "      Part_Number                                              Title  \\\n",
       "0       TRD-42913  Trans-Dapt Performance Swap-In-A-Box Complete ...   \n",
       "1       TRD-42921  Trans-Dapt Performance Swap-In-A-Box Complete ...   \n",
       "2        TRD-4336  Trans-Dapt Performance Products Oil Pan Gasket...   \n",
       "3       TRD-46001  Trans-Dapt Performance Swap-In-A-Box Complete ...   \n",
       "4       TRD-46002  Trans-Dapt Performance Swap-In-A-Box Complete ...   \n",
       "..            ...                                                ...   \n",
       "740   IRP-EGM-731  Improved Racing Crank Scraper and Windage Tray...   \n",
       "741  IRP-EGM-731F  Improved Racing Crank Scraper and Windage Tray...   \n",
       "742  IRP-EGM-731G  Improved Racing Crank Scraper and Windage Tray...   \n",
       "743   IRP-EGM-732  Improved Racing Crank Scraper and Windage Tray...   \n",
       "744  IRP-EGM-732F  Improved Racing Crank Scraper and Windage Tray...   \n",
       "\n",
       "                                           Description  \\\n",
       "0    64-67 CHEVELLE+MALIBU/LS SWAP IN A BOX KIT-BLA...   \n",
       "1    Engine Swap Kit, Headers, Motor Mounts, Oil Pa...   \n",
       "2            GASKET FOR LS FABRICATED ALUMINUM OIL PAN   \n",
       "3    Engine Swap Kit, Headers, Motor Mounts, Oil Pa...   \n",
       "4    Engine Swap Kit, Silver Ceramic Coated Headers...   \n",
       "..                                                 ...   \n",
       "740  Crank scraper & windage tray kit for 3.622\" st...   \n",
       "741  Crank scraper & windage tray kit for 3.622\" LS...   \n",
       "742  Crank scraper & windage tray kit for 3.622\" LS...   \n",
       "743  Crank scraper & windage tray kit for 3.622\" LS...   \n",
       "744  Crank scraper & windage tray kit, 3.622\" LS, F...   \n",
       "\n",
       "                                                 Url  \n",
       "0       https://www.summitracing.com/parts/trd-42913  \n",
       "1       https://www.summitracing.com/parts/trd-42921  \n",
       "2        https://www.summitracing.com/parts/trd-4336  \n",
       "3       https://www.summitracing.com/parts/trd-46001  \n",
       "4       https://www.summitracing.com/parts/trd-46002  \n",
       "..                                               ...  \n",
       "740   https://www.summitracing.com/parts/irp-egm-731  \n",
       "741  https://www.summitracing.com/parts/irp-egm-731f  \n",
       "742  https://www.summitracing.com/parts/irp-egm-731g  \n",
       "743   https://www.summitracing.com/parts/irp-egm-732  \n",
       "744  https://www.summitracing.com/parts/irp-egm-732f  \n",
       "\n",
       "[745 rows x 4 columns]"
      ]
     },
     "execution_count": 7,
     "metadata": {},
     "output_type": "execute_result"
    }
   ],
   "source": [
    "df.to_excel('./menu.xlsx', index=False)\n",
    "\n",
    "df"
   ]
  },
  {
   "cell_type": "code",
   "execution_count": null,
   "id": "f1b946e9",
   "metadata": {},
   "outputs": [],
   "source": []
  }
 ],
 "metadata": {
  "kernelspec": {
   "display_name": "Python 3 (ipykernel)",
   "language": "python",
   "name": "python3"
  },
  "language_info": {
   "codemirror_mode": {
    "name": "ipython",
    "version": 3
   },
   "file_extension": ".py",
   "mimetype": "text/x-python",
   "name": "python",
   "nbconvert_exporter": "python",
   "pygments_lexer": "ipython3",
   "version": "3.11.3"
  }
 },
 "nbformat": 4,
 "nbformat_minor": 5
}
