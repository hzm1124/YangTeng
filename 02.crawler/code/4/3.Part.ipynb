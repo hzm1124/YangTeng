{
 "cells": [
  {
   "cell_type": "code",
   "execution_count": 1,
   "id": "099e363e-b41d-4e12-b05b-eae684afbb9a",
   "metadata": {},
   "outputs": [
    {
     "data": {
      "text/plain": [
       "{'sku_count': 1401,\n",
       " 'page_count': 15,\n",
       " 'page': 1,\n",
       " 'page_url': 'https://www.cardone.com/motors/wiper-and-washer/windshield-wiper-motor/?pageSize=96&sort=name&page=1',\n",
       " 'page_url_2': 'https://cardone.myconvermax.com/search.json?pagesize=96&sort.0.fieldname=name&page=0&referrer=%2Fmotors%2Fwiper-and-washer%2Fwindshield-wiper-motor%2F',\n",
       " 'no': 1,\n",
       " 'part_code': '82816',\n",
       " 'part_url': 'https://cardone.myconvermax.com/item.json?key=82816',\n",
       " 'compatibility_url': 'https://cardone.myconvermax.com/ymm/fitments.json?productId=82816'}"
      ]
     },
     "execution_count": 1,
     "metadata": {},
     "output_type": "execute_result"
    }
   ],
   "source": [
    "item = {'sku_count': 1401,\n",
    " 'page_count': 15,\n",
    " 'page': 1,\n",
    " 'page_url': 'https://www.cardone.com/motors/wiper-and-washer/windshield-wiper-motor/?pageSize=96&sort=name&page=1',\n",
    " 'page_url_2': 'https://cardone.myconvermax.com/search.json?pagesize=96&sort.0.fieldname=name&page=0&referrer=%2Fmotors%2Fwiper-and-washer%2Fwindshield-wiper-motor%2F',\n",
    " 'no': 1,\n",
    " 'part_code': '82816',\n",
    " 'part_url': 'https://cardone.myconvermax.com/item.json?key=82816',\n",
    " 'compatibility_url': 'https://cardone.myconvermax.com/ymm/fitments.json?productId=82816'}\n",
    "\n",
    "item"
   ]
  },
  {
   "cell_type": "code",
   "execution_count": 2,
   "id": "9f572629-b2f8-4b42-b260-d9dc4c8bd5a0",
   "metadata": {},
   "outputs": [],
   "source": [
    "import requests\n",
    "\n",
    "import sys\n",
    "sys.path.append('../00.Tools')\n",
    "from configuration import generate_header, generate_proxy"
   ]
  },
  {
   "cell_type": "code",
   "execution_count": 3,
   "id": "f08c9520-bd2e-4400-b4ac-b7c3f9889011",
   "metadata": {},
   "outputs": [
    {
     "data": {
      "text/plain": [
       "200"
      ]
     },
     "execution_count": 3,
     "metadata": {},
     "output_type": "execute_result"
    }
   ],
   "source": [
    "response = requests.get(item['part_url'],\n",
    "                        headers=generate_header(),\n",
    "                        proxies=generate_proxy(),\n",
    "                        timeout=(10, 15),\n",
    "                        allow_redirects=False)\n",
    "\n",
    "response.status_code"
   ]
  },
  {
   "cell_type": "code",
   "execution_count": 4,
   "id": "542545dd-77a9-404a-a1f1-951c69145875",
   "metadata": {
    "scrolled": true
   },
   "outputs": [
    {
     "data": {
      "text/plain": [
       "{'_docid': 25025,\n",
       " '_score': 10.911158,\n",
       " '_rank': 1,\n",
       " 'id': '82816',\n",
       " 'name': 'Wiper Motor - 40-1000',\n",
       " 'sku': '40-1000',\n",
       " 'mpn': '40-1000',\n",
       " 'customer_group_5_price_USD': 100.0,\n",
       " 'customer_group_5_retail_price_USD': 199.99,\n",
       " 'customer_group_7_price_CAD': 132.0,\n",
       " 'customer_group_7_retail_price_CAD': 264.99,\n",
       " 'customer_group_8_price_usd': 64.35,\n",
       " 'customer_group_8_retail_price_usd': 123.99,\n",
       " 'price': 0.0,\n",
       " 'customer_group_36_price_USD': 64.35,\n",
       " 'customer_group_36_retail_price_USD': 123.99,\n",
       " 'customer_group_37_price_USD': 64.35,\n",
       " 'customer_group_37_retail_price_USD': 123.99,\n",
       " 'customer_group_38_price_USD': 64.35,\n",
       " 'customer_group_38_retail_price_USD': 123.99,\n",
       " 'customer_group_39_price_USD': 64.35,\n",
       " 'customer_group_39_retail_price_USD': 123.99,\n",
       " 'customer_group_40_price_USD': 64.35,\n",
       " 'customer_group_40_retail_price_USD': 123.99,\n",
       " 'customer_group_41_price_USD': 64.35,\n",
       " 'customer_group_41_retail_price_USD': 123.99,\n",
       " 'customer_group_42_price_USD': 64.35,\n",
       " 'customer_group_42_retail_price_USD': 123.99,\n",
       " 'customer_group_43_price_USD': 64.35,\n",
       " 'customer_group_43_retail_price_USD': 123.99,\n",
       " 'customer_group_44_price_CAD': 96.85,\n",
       " 'customer_group_44_retail_price_CAD': 166.99,\n",
       " 'customer_group_45_price_CAD': 96.85,\n",
       " 'customer_group_45_retail_price_CAD': 166.99,\n",
       " 'customer_group_46_price_CAD': 96.85,\n",
       " 'customer_group_46_retail_price_CAD': 166.99,\n",
       " 'customer_group_47_price_CAD': 96.85,\n",
       " 'customer_group_47_retail_price_CAD': 166.99,\n",
       " 'customer_group_48_price_CAD': 96.85,\n",
       " 'customer_group_48_retail_price_CAD': 166.99,\n",
       " 'customer_group_49_price_CAD': 96.85,\n",
       " 'customer_group_49_retail_price_CAD': 166.99,\n",
       " 'customer_group_50_price_CAD': 96.85,\n",
       " 'customer_group_50_retail_price_CAD': 166.99,\n",
       " 'customer_group_51_price_CAD': 96.85,\n",
       " 'customer_group_51_retail_price_CAD': 166.99,\n",
       " 'customer_group_52_price_CAD': 96.85,\n",
       " 'customer_group_52_retail_price_CAD': 166.99,\n",
       " 'customer_group_53_price_CAD': 96.85,\n",
       " 'customer_group_53_retail_price_CAD': 166.99,\n",
       " 'customer_group_54_price_CAD': 96.85,\n",
       " 'customer_group_54_retail_price_CAD': 166.99,\n",
       " 'customer_group_55_price_CAD': 96.85,\n",
       " 'customer_group_55_retail_price_CAD': 166.99,\n",
       " 'customer_group_56_price_CAD': 96.85,\n",
       " 'customer_group_56_retail_price_CAD': 166.99,\n",
       " 'customer_group_57_price_CAD': 96.85,\n",
       " 'customer_group_57_retail_price_CAD': 166.99,\n",
       " 'customer_group_58_price_CAD': 96.85,\n",
       " 'customer_group_58_retail_price_CAD': 166.99,\n",
       " 'customer_group_59_price_USD': 55.35,\n",
       " 'customer_group_59_retail_price_USD': 123.99,\n",
       " 'customer_group_60_price_USD': 55.35,\n",
       " 'customer_group_60_retail_price_USD': 123.99,\n",
       " 'customer_group_61_price_USD': 55.35,\n",
       " 'customer_group_61_retail_price_USD': 123.99,\n",
       " 'customer_group_62_price_CAD': 96.85,\n",
       " 'customer_group_62_retail_price_CAD': 166.99,\n",
       " 'customer_group_63_price_CAD': 96.85,\n",
       " 'customer_group_63_retail_price_CAD': 166.99,\n",
       " 'customer_group_64_price_CAD': 96.85,\n",
       " 'customer_group_64_retail_price_CAD': 166.99,\n",
       " 'customer_group_65_price_CAD': 96.85,\n",
       " 'customer_group_65_retail_price_CAD': 166.99,\n",
       " 'customer_group_66_price_CAD': 96.85,\n",
       " 'customer_group_66_retail_price_CAD': 166.99,\n",
       " 'customer_group_67_price_CAD': 96.85,\n",
       " 'customer_group_67_retail_price_CAD': 166.99,\n",
       " 'customer_group_68_price_CAD': 96.85,\n",
       " 'customer_group_68_retail_price_CAD': 166.99,\n",
       " 'customer_group_69_price_CAD': 96.85,\n",
       " 'customer_group_69_retail_price_CAD': 166.99,\n",
       " 'customer_group_70_price_CAD': 96.85,\n",
       " 'customer_group_70_retail_price_CAD': 166.99,\n",
       " 'customer_group_71_price_USD': 64.35,\n",
       " 'customer_group_71_retail_price_USD': 123.99,\n",
       " 'customer_group_72_price_USD': 64.35,\n",
       " 'customer_group_72_retail_price_USD': 123.99,\n",
       " 'customer_group_73_price_USD': 64.35,\n",
       " 'customer_group_73_retail_price_USD': 123.99,\n",
       " 'customer_group_74_price_USD': 64.35,\n",
       " 'customer_group_74_retail_price_USD': 123.99,\n",
       " 'customer_group_75_price_USD': 123.99,\n",
       " 'customer_group_75_retail_price_USD': 123.99,\n",
       " 'customer_group_76_price_USD': 64.35,\n",
       " 'customer_group_76_retail_price_USD': 123.99,\n",
       " 'customer_group_77_price_USD': 123.99,\n",
       " 'customer_group_77_retail_price_USD': 123.99,\n",
       " 'customer_group_78_price_USD': 64.35,\n",
       " 'customer_group_78_retail_price_USD': 123.99,\n",
       " 'customer_group_79_price_USD': 123.99,\n",
       " 'customer_group_79_retail_price_USD': 123.99,\n",
       " 'customer_group_81_price_USD': 64.35,\n",
       " 'customer_group_81_retail_price_USD': 123.99,\n",
       " 'customer_group_84_price_USD': 64.35,\n",
       " 'customer_group_84_retail_price_USD': 123.99,\n",
       " 'customer_group_85_price_USD': 64.35,\n",
       " 'customer_group_85_retail_price_USD': 123.99,\n",
       " 'customer_group_86_price_USD': 64.35,\n",
       " 'customer_group_86_retail_price_USD': 123.99,\n",
       " 'customer_group_88_price_USD': 64.35,\n",
       " 'customer_group_88_retail_price_USD': 123.99,\n",
       " 'customer_group_89_price_USD': 64.35,\n",
       " 'customer_group_89_retail_price_USD': 123.99,\n",
       " 'customer_group_90_price_USD': 64.35,\n",
       " 'customer_group_90_retail_price_USD': 123.99,\n",
       " 'customer_group_91_price_USD': 64.35,\n",
       " 'customer_group_91_retail_price_USD': 123.99,\n",
       " 'customer_group_92_price_USD': 64.35,\n",
       " 'customer_group_92_retail_price_USD': 123.99,\n",
       " 'customer_group_94_price_USD': 64.35,\n",
       " 'customer_group_94_retail_price_USD': 123.99,\n",
       " 'customer_group_95_price_USD': 64.35,\n",
       " 'customer_group_95_retail_price_USD': 123.99,\n",
       " 'customer_group_96_price_USD': 64.35,\n",
       " 'customer_group_96_retail_price_USD': 123.99,\n",
       " 'customer_group_99_price_USD': 64.35,\n",
       " 'customer_group_99_retail_price_USD': 123.99,\n",
       " 'customer_group_100_price_USD': 64.35,\n",
       " 'customer_group_100_retail_price_USD': 123.99,\n",
       " 'customer_group_102_price_USD': 64.35,\n",
       " 'customer_group_102_retail_price_USD': 123.99,\n",
       " 'customer_group_103_price_USD': 64.35,\n",
       " 'customer_group_103_retail_price_USD': 123.99,\n",
       " 'customer_group_104_price_USD': 64.35,\n",
       " 'customer_group_104_retail_price_USD': 123.99,\n",
       " 'customer_group_105_price_USD': 64.35,\n",
       " 'customer_group_105_retail_price_USD': 123.99,\n",
       " 'customer_group_107_price_USD': 64.35,\n",
       " 'customer_group_107_retail_price_USD': 123.99,\n",
       " 'customer_group_108_price_USD': 64.35,\n",
       " 'customer_group_108_retail_price_USD': 123.99,\n",
       " 'customer_group_109_price_USD': 123.99,\n",
       " 'customer_group_109_retail_price_USD': 123.99,\n",
       " 'customer_group_110_price_USD': 64.35,\n",
       " 'customer_group_110_retail_price_USD': 123.99,\n",
       " 'customer_group_113_price_USD': 123.99,\n",
       " 'customer_group_113_retail_price_USD': 123.99,\n",
       " 'customer_group_114_price_USD': 64.35,\n",
       " 'customer_group_114_retail_price_USD': 123.99,\n",
       " 'customer_group_116_price_USD': 64.35,\n",
       " 'customer_group_116_retail_price_USD': 123.99,\n",
       " 'customer_group_123_price_USD': 55.35,\n",
       " 'customer_group_123_retail_price_USD': 123.99,\n",
       " 'customer_group_125_price_USD': 64.35,\n",
       " 'customer_group_125_retail_price_USD': 123.99,\n",
       " 'customer_group_126_price_USD': 64.35,\n",
       " 'customer_group_126_retail_price_USD': 123.99,\n",
       " 'customer_group_127_price_USD': 64.35,\n",
       " 'customer_group_127_retail_price_USD': 123.99,\n",
       " 'original_price': 0.0,\n",
       " 'price_usd': 0.0,\n",
       " 'price_cad': 0.0,\n",
       " 'inventory_level': 27,\n",
       " 'total_sold': 0,\n",
       " 'sort_order': 0,\n",
       " 'date_created': '2022-05-03T00:00:00',\n",
       " 'images_image_thumbnail1': 'https://cdn11.bigcommerce.com/s-z9vhe3o238/products/82816/images/5488626/482__00992.1687973871.220.290.jpg?c=1',\n",
       " 'images_image_thumbnail2': 'https://cdn11.bigcommerce.com/s-z9vhe3o238/products/82816/images/5488628/482__97909.1687973872.220.290.jpg?c=1',\n",
       " 'custom_url': '/product/windshield-wiper-motor-40-1000',\n",
       " 'brand_name': 'CARDONE Reman',\n",
       " 'brand_url': '/cardone-reman/',\n",
       " 'category': ['Motors',\n",
       "  'Motors>Wiper and Washer',\n",
       "  'Motors>Wiper and Washer>Windshield Wiper Motor'],\n",
       " 'category_urls': ['/motors/wiper-and-washer/windshield-wiper-motor/',\n",
       "  '/motors/wiper-and-washer/',\n",
       "  '/motors/'],\n",
       " 'pdm:general_life_cycle_status': 'Available to Order',\n",
       " 'Fitment': 'Vehicle Specific',\n",
       " 'fitment_summary': ['Chevrolet Camaro 1998-93', 'Pontiac Firebird 1998-93'],\n",
       " 'FitmentType': ['None'],\n",
       " 'Part_Type': ['Wiper Motor'],\n",
       " 'oe_numbers': '{\"Chevrolet\":\"22110039, 22154913\",\"Pontiac\":\"22110039, 22154913\"}',\n",
       " 'FitmentSource': 'pdm',\n",
       " '_fitments': []}"
      ]
     },
     "execution_count": 4,
     "metadata": {},
     "output_type": "execute_result"
    }
   ],
   "source": [
    "dict_ = response.json()\n",
    "\n",
    "dict_"
   ]
  },
  {
   "cell_type": "code",
   "execution_count": 5,
   "id": "2f7e4c4e-30c7-4dc2-a05a-27c3afa8ace8",
   "metadata": {},
   "outputs": [
    {
     "data": {
      "text/plain": [
       "False"
      ]
     },
     "execution_count": 5,
     "metadata": {},
     "output_type": "execute_result"
    }
   ],
   "source": [
    "dict_['id'] != item['part_code']"
   ]
  },
  {
   "cell_type": "code",
   "execution_count": 6,
   "id": "93d1b32f-ae12-45ea-a059-aae21323599e",
   "metadata": {},
   "outputs": [],
   "source": [
    "from urllib.parse import urljoin"
   ]
  },
  {
   "cell_type": "code",
   "execution_count": 7,
   "id": "f0d04c6c-4d4e-4e66-961d-f4bec8cf0a24",
   "metadata": {},
   "outputs": [
    {
     "name": "stdout",
     "output_type": "stream",
     "text": [
      "3. Motors>Wiper and Washer>Windshield Wiper Motor (https://www.cardone.com/motors/wiper-and-washer/windshield-wiper-motor/)\n",
      "2. Motors>Wiper and Washer (https://www.cardone.com/motors/wiper-and-washer/)\n",
      "1. Motors (https://www.cardone.com/motors/)\n"
     ]
    }
   ],
   "source": [
    "list_category, list_category_url = dict_['category'], dict_['category_urls']\n",
    "breadcrumbs, length = '', len(list_category)\n",
    "for i in range(length, 0, -1):\n",
    "    breadcrumbs += f'''{i}. {list_category[i - 1].strip()} ({urljoin(item['page_url'],list_category_url[length - i].strip())})\\n'''\n",
    "\n",
    "print(breadcrumbs.strip())"
   ]
  },
  {
   "cell_type": "code",
   "execution_count": 8,
   "id": "06953edb-c6cd-4940-ad50-d4e0a3d586a3",
   "metadata": {},
   "outputs": [],
   "source": [
    "import json"
   ]
  },
  {
   "cell_type": "code",
   "execution_count": 9,
   "id": "244612ec-296a-470a-a2e1-acf059e0c8c2",
   "metadata": {},
   "outputs": [
    {
     "data": {
      "text/plain": [
       "['22110039', '22154913']"
      ]
     },
     "execution_count": 9,
     "metadata": {},
     "output_type": "execute_result"
    }
   ],
   "source": [
    "list_oem, dict_str_oem = [], json.loads(dict_['oe_numbers']) if 'oe_numbers' in dict_ else {}\n",
    "for str_oem in dict_str_oem.values():\n",
    "    list_oem_2 = [oem.strip() for oem in str_oem.split(',')]\n",
    "    for oem in list_oem_2:\n",
    "        if oem not in list_oem:\n",
    "            list_oem.append(oem)\n",
    "\n",
    "list_oem"
   ]
  },
  {
   "cell_type": "code",
   "execution_count": 10,
   "id": "06cfd2e1-c14f-4027-b962-4b6804d8be06",
   "metadata": {},
   "outputs": [
    {
     "data": {
      "text/plain": [
       "{'sku_count': 1401,\n",
       " 'page_count': 15,\n",
       " 'page': 1,\n",
       " 'page_url': 'https://www.cardone.com/motors/wiper-and-washer/windshield-wiper-motor/?pageSize=96&sort=name&page=1',\n",
       " 'page_url_2': 'https://cardone.myconvermax.com/search.json?pagesize=96&sort.0.fieldname=name&page=0&referrer=%2Fmotors%2Fwiper-and-washer%2Fwindshield-wiper-motor%2F',\n",
       " 'no': 1,\n",
       " 'part_code': '82816',\n",
       " 'part_url': 'https://cardone.myconvermax.com/item.json?key=82816',\n",
       " 'compatibility_url': 'https://cardone.myconvermax.com/ymm/fitments.json?productId=82816',\n",
       " 'title': 'Wiper Motor - 40-1000',\n",
       " 'sku': '40-1000',\n",
       " 'mpn': '40-1000',\n",
       " 'url': 'https://www.cardone.com/product/windshield-wiper-motor-40-1000',\n",
       " 'brand': 'CARDONE Reman',\n",
       " 'brand_url': 'https://www.cardone.com/cardone-reman/',\n",
       " 'breadcrumbs': '3. Motors>Wiper and Washer>Windshield Wiper Motor (https://www.cardone.com/motors/wiper-and-washer/windshield-wiper-motor/)\\n2. Motors>Wiper and Washer (https://www.cardone.com/motors/wiper-and-washer/)\\n1. Motors (https://www.cardone.com/motors/)',\n",
       " 'fitment': 'Chevrolet Camaro 1998-93;Pontiac Firebird 1998-93',\n",
       " 'type_': 'Wiper Motor',\n",
       " 'oem': '22110039;22154913'}"
      ]
     },
     "execution_count": 10,
     "metadata": {},
     "output_type": "execute_result"
    }
   ],
   "source": [
    "{'sku_count': item['sku_count'],\n",
    " 'page_count': item['page_count'],\n",
    " 'page': item['page'],\n",
    " 'page_url': item['page_url'],\n",
    " 'page_url_2': item['page_url_2'],\n",
    " 'no': item['no'],\n",
    " 'part_code': item['part_code'],\n",
    " 'part_url': item['part_url'],\n",
    " 'compatibility_url': item['compatibility_url'],\n",
    " 'title': dict_['name'].strip(),\n",
    " 'sku': dict_['sku'].strip(),\n",
    " 'mpn': dict_['mpn'].strip(),\n",
    " 'url': urljoin(item['page_url'], dict_['custom_url'].strip()),\n",
    " 'brand': dict_['brand_name'].strip(),\n",
    " 'brand_url': urljoin(item['page_url'], dict_['brand_url'].strip()),\n",
    " 'breadcrumbs': breadcrumbs.strip(),\n",
    " 'fitment': ';'.join([fitment.strip() for fitment in dict_['fitment_summary']] if 'fitment_summary' in dict_ else []),\n",
    " 'type_': ';'.join([type_.strip() for type_ in dict_['Part_Type']] if 'Part_Type' in dict_ else []),\n",
    " 'oem': ';'.join(list_oem)}"
   ]
  },
  {
   "cell_type": "code",
   "execution_count": null,
   "id": "35511c87-198d-4591-a264-05899e1c215b",
   "metadata": {},
   "outputs": [],
   "source": []
  }
 ],
 "metadata": {
  "kernelspec": {
   "display_name": "Python 3 (ipykernel)",
   "language": "python",
   "name": "python3"
  },
  "language_info": {
   "codemirror_mode": {
    "name": "ipython",
    "version": 3
   },
   "file_extension": ".py",
   "mimetype": "text/x-python",
   "name": "python",
   "nbconvert_exporter": "python",
   "pygments_lexer": "ipython3",
   "version": "3.12.7"
  }
 },
 "nbformat": 4,
 "nbformat_minor": 5
}
