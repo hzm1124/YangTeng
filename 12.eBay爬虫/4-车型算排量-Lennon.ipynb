{
 "cells": [
  {
   "cell_type": "code",
   "execution_count": null,
   "id": "4f23eaf7",
   "metadata": {},
   "outputs": [],
   "source": [
    "dict_vehicle = {}\n",
    "for name_value in vehicle:\n",
    "    make = name_value['NameValueList'][2]['Value'][0]\n",
    "    model = name_value['NameValueList'][3]['Value'][0]\n",
    "    try:\n",
    "        engine = re.findall(r'^[.0-9]+L', name_value['NameValueList'][5]['Value'][0])[0]\n",
    "    except:\n",
    "        continue\n",
    "    year = name_value['NameValueList'][1]['Value'][0]\n",
    "\n",
    "    if make not in dict_vehicle:\n",
    "        dict_vehicle[make] = {model: {engine: [year]}}\n",
    "    else:\n",
    "        if model not in dict_vehicle[make]:\n",
    "            dict_vehicle[make][model] = {engine: [year]}\n",
    "        else:\n",
    "            if engine not in dict_vehicle[make][model]:\n",
    "                dict_vehicle[make][model][engine] = [year]\n",
    "            else:\n",
    "                dict_vehicle[make][model][engine].append(year)\n",
    "\n",
    "list_vehicle = []\n",
    "for make in dict_vehicle:\n",
    "    for model in dict_vehicle[make]:\n",
    "        for engine in dict_vehicle[make][model]:\n",
    "            list_vehicle.append(make + ' ' + model + ' ' + engine + ' ' + min(dict_vehicle[make][model][engine]) + '-' + max(dict_vehicle[make][model][engine]))\n",
    "\n",
    "vehicle = '\\n'.join(list_vehicle)"
   ]
  },
  {
   "cell_type": "code",
   "execution_count": null,
   "id": "f3ce6c30",
   "metadata": {},
   "outputs": [],
   "source": []
  }
 ],
 "metadata": {
  "kernelspec": {
   "display_name": "Python 3 (ipykernel)",
   "language": "python",
   "name": "python3"
  },
  "language_info": {
   "codemirror_mode": {
    "name": "ipython",
    "version": 3
   },
   "file_extension": ".py",
   "mimetype": "text/x-python",
   "name": "python",
   "nbconvert_exporter": "python",
   "pygments_lexer": "ipython3",
   "version": "3.11.3"
  }
 },
 "nbformat": 4,
 "nbformat_minor": 5
}
