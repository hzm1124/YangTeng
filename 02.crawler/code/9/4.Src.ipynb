{
 "cells": [
  {
   "cell_type": "code",
   "execution_count": 1,
   "id": "54a3d02f-970c-41be-8e9e-a1cf0d2b68ad",
   "metadata": {},
   "outputs": [
    {
     "data": {
      "text/plain": [
       "{'home': 'https://www.4s.com/en/ecatalog?part=HVAC+door+actuator&type=p&search=s',\n",
       " 'sku_count': 622,\n",
       " 'page_count': 7,\n",
       " 'page': 1,\n",
       " 'page_url': 'https://ecatalog.smpcorp.com/v2/fs/api/part/partsearch?filter=HVAC+door+actuator&filterType=s&searchType=p&start=0&limit=96&sort=3&catFilter=-All-&attrValueFilter=-All-',\n",
       " 'no': 1,\n",
       " 'url': 'https://www.4s.com/en/ecatalog?part=37530&type=p&search=s',\n",
       " 'brand': 'FS',\n",
       " 'part_number': '37530',\n",
       " 'part_url': 'https://ecatalog.smpcorp.com/v2/fs/api/part/partselect?part=37530&func=PART',\n",
       " 'src_url': 'https://ecatalog.smpcorp.com/v2/fs/api/image/getallimages?partNum=37530&brand=FS&zoomFactor_sm=75&zoomFactor_md=360&zoomFactor_bg=960',\n",
       " 'description_1': 'HVAC Air Door Actuator',\n",
       " 'description_2': 'HVAC Air Door Actuator',\n",
       " 'pop': 'AA',\n",
       " 'per_car': 1,\n",
       " 'vehicle': 'Buick Allure (10-05)\\nBuick LaCrosse (09-05)\\nCadillac XLR (09-04)\\nChevrolet Corvette (13-05)\\nChevrolet Impala (13-04)\\nChevrolet Impala Limited (16-14)\\nChevrolet Malibu (08-04)\\nChevrolet Monte Carlo (07-04)\\nChevrolet Vectra (08-04)\\nPontiac Grand Prix (08-04)',\n",
       " 'json_specification': '{\"Door Linkage\": \"Female\", \"Mounting Ear Qty.\": \"3\", \"Terminal Pin Qty.\": \"2\", \"Description\": \"HVAC Air Door Actuator\", \"Warranty\": \"120 days\", \"Depth IN\": \"1.25\", \"Width IN\": \"2.75\", \"Height MM\": \"83\", \"Width MM\": \"70\", \"Height IN\": \"3.25\", \"Depth MM\": \"32\", \"Style\": \"HVAC Air Door Actuator\", \"Terminal Gender\": \"Male\", \"Type\": \"HVAC Air Door Actuator\", \"Voltage\": \"12\", \"Wire Quantity\": \"N/A\", \"Connector Gender\": \"Female\", \"Connector Shape\": \"Rectangular\"}',\n",
       " 'json_type': '{\"0\": \"HVAC Door Actuator\"}'}"
      ]
     },
     "execution_count": 1,
     "metadata": {},
     "output_type": "execute_result"
    }
   ],
   "source": [
    "item = {'home': 'https://www.4s.com/en/ecatalog?part=HVAC+door+actuator&type=p&search=s',\n",
    " 'sku_count': 622,\n",
    " 'page_count': 7,\n",
    " 'page': 1,\n",
    " 'page_url': 'https://ecatalog.smpcorp.com/v2/fs/api/part/partsearch?filter=HVAC+door+actuator&filterType=s&searchType=p&start=0&limit=96&sort=3&catFilter=-All-&attrValueFilter=-All-',\n",
    " 'no': 1,\n",
    " 'url': 'https://www.4s.com/en/ecatalog?part=37530&type=p&search=s',\n",
    " 'brand': 'FS',\n",
    " 'part_number': '37530',\n",
    " 'part_url': 'https://ecatalog.smpcorp.com/v2/fs/api/part/partselect?part=37530&func=PART',\n",
    " 'src_url': 'https://ecatalog.smpcorp.com/v2/fs/api/image/getallimages?partNum=37530&brand=FS&zoomFactor_sm=75&zoomFactor_md=360&zoomFactor_bg=960',\n",
    " 'description_1': 'HVAC Air Door Actuator',\n",
    " 'description_2': 'HVAC Air Door Actuator',\n",
    " 'pop': 'AA',\n",
    " 'per_car': 1,\n",
    " 'vehicle': 'Buick Allure (10-05)\\nBuick LaCrosse (09-05)\\nCadillac XLR (09-04)\\nChevrolet Corvette (13-05)\\nChevrolet Impala (13-04)\\nChevrolet Impala Limited (16-14)\\nChevrolet Malibu (08-04)\\nChevrolet Monte Carlo (07-04)\\nChevrolet Vectra (08-04)\\nPontiac Grand Prix (08-04)',\n",
    " 'json_specification': '{\"Door Linkage\": \"Female\", \"Mounting Ear Qty.\": \"3\", \"Terminal Pin Qty.\": \"2\", \"Description\": \"HVAC Air Door Actuator\", \"Warranty\": \"120 days\", \"Depth IN\": \"1.25\", \"Width IN\": \"2.75\", \"Height MM\": \"83\", \"Width MM\": \"70\", \"Height IN\": \"3.25\", \"Depth MM\": \"32\", \"Style\": \"HVAC Air Door Actuator\", \"Terminal Gender\": \"Male\", \"Type\": \"HVAC Air Door Actuator\", \"Voltage\": \"12\", \"Wire Quantity\": \"N/A\", \"Connector Gender\": \"Female\", \"Connector Shape\": \"Rectangular\"}',\n",
    " 'json_type': '{\"0\": \"HVAC Door Actuator\"}'}\n",
    "\n",
    "item"
   ]
  },
  {
   "cell_type": "code",
   "execution_count": 2,
   "id": "a6d5dd5a-12a8-4dfd-ad74-b5355bdcd556",
   "metadata": {},
   "outputs": [],
   "source": [
    "import requests\n",
    "\n",
    "import sys\n",
    "sys.path.append('../00.Tools')\n",
    "from configuration import generate_header, generate_proxy"
   ]
  },
  {
   "cell_type": "code",
   "execution_count": 3,
   "id": "6f4ee20d-b99d-462c-b58e-e2bc39434390",
   "metadata": {},
   "outputs": [
    {
     "data": {
      "text/plain": [
       "200"
      ]
     },
     "execution_count": 3,
     "metadata": {},
     "output_type": "execute_result"
    }
   ],
   "source": [
    "response = requests.get(item['src_url'],\n",
    "                        headers=generate_header(),\n",
    "                        proxies=generate_proxy(),\n",
    "                        timeout=(10, 15),\n",
    "                        allow_redirects=False)\n",
    "\n",
    "response.status_code"
   ]
  },
  {
   "cell_type": "code",
   "execution_count": 4,
   "id": "0d11f187-3c86-4a7b-a8e8-78645448ddb3",
   "metadata": {
    "scrolled": true
   },
   "outputs": [
    {
     "data": {
      "text/plain": [
       "[{'image_Name': '5gPg5e7mUrcY465eNAOo6Q%3D%3D',\n",
       "  'image_SM_Url': 'https://ecatalog.smpcorp.com/ihgs/imagehandlergs.ashx?p1=dmUw3knyVMjCLhPeyHkruz9FNpDfGKFIWs34AmcG1EkFoZj0BakHNLc7py3fkaxYrm+ZHodTWPuhIKBw3J5SZ5iH9+8ykTJFSKEulrQ0hiWTskhDbDVIOt4K7Mm/YEv3m/CH1/uYPCgXGfdCmo4YlLSCFlglY/QZgZxqNqfXIAN0aaBJATFXkGBoJ7YJpQZR',\n",
       "  'image_MD_Url': 'https://ecatalog.smpcorp.com/ihgs/imagehandlergs.ashx?p1=dmUw3knyVMjCLhPeyHkruz9FNpDfGKFIBku710yGpH98FLEGPLEZwMKrn+Gl3vWxbEHUQlckYE7y916PDj4mUplpjLqJxiUyNc0Dfr4BAXPekNlQ51Q7yIznwcghdmhavbavYiSVAdwf+9wZqa98qhy8j2o5iNf28nVsDQ4R8zcC6Cbf/AtKmjhxUmB9mdAo',\n",
       "  'image_BG_Url': 'https://ecatalog.smpcorp.com/ihgs/imagehandlergs.ashx?p1=dmUw3knyVMjCLhPeyHkruyYF4nkLByFFki+PA/U85oYFks2NLcmYte72HZkm08flMYvVb8ruU/a2jlDyZ/9SFhHKSDnV/vfUm++2cf2MyJSTHiO+uZMQDMRJmK/E5kGqgMS+q/NNn547DcAIwETg03OU30A0tDSpovS8AJQZm94D/gVjNTwQBgwB44CkapgH'},\n",
       " {'image_Name': 'n7fIQyBWW4r8XSJXYCIZcw%3D%3D',\n",
       "  'image_SM_Url': 'https://ecatalog.smpcorp.com/ihgs/imagehandlergs.ashx?p1=dmUw3knyVMjCLhPeyHkruz9FNpDfGKFIWs34AmcG1EkFoZj0BakHNLE9JDZAvLMWi7h30WzXb4LOnVUip04BiJTs5tLYVtf0Jv0YyvK/rWdJmHQGKl7o+TW7k1Hj4TTuy5K/cNQbQ1spu2svsSDQ4m5fEIOJJ1pB+oTeEVzPEzEcY7+v4sU+03KSb0qhOxrP7EMO1I5u+vc=',\n",
       "  'image_MD_Url': 'https://ecatalog.smpcorp.com/ihgs/imagehandlergs.ashx?p1=dmUw3knyVMjCLhPeyHkruz9FNpDfGKFIBku710yGpH98FLEGPLEZwH5RXTTDT8FHrm+ZHodTWPuhIKBw3J5SZ5iH9+8ykTJFSKEulrQ0hiWTskhDbDVIOt4K7Mm/YEv3m/CH1/uYPCgXGfdCmo4YlLSCFlglY/QZgZxqNqfXIAN0aaBJATFXkGBoJ7YJpQZR',\n",
       "  'image_BG_Url': 'https://ecatalog.smpcorp.com/ihgs/imagehandlergs.ashx?p1=dmUw3knyVMjCLhPeyHkruyYF4nkLByFFki+PA/U85oZa0PFwUn8Iel6DrKAJfZjYMoN++3vibKFGVC+8Va8jLaI8gQqRXhksVqg+QadFzZ6AfnnMwvAWvxs/HBA23UPYMJi1dAphBIcr+m7fx4OW9Oe+1FHFJFtc1XlyPAQtjwY9/18pJGYHiZiQJSOi3Hj/'},\n",
       " {'image_Name': 'YBjhwXMgVksKj%2BYR3hSOLA%3D%3D',\n",
       "  'image_SM_Url': 'https://ecatalog.smpcorp.com/ihgs/imagehandlergs.ashx?p1=dmUw3knyVMjCLhPeyHkruz9FNpDfGKFIWs34AmcG1EkFoZj0BakHNPJMA+xPWmPC7Pdlud9TngDOnVUip04BiJTs5tLYVtf0Jv0YyvK/rWdJmHQGKl7o+TW7k1Hj4TTuy5K/cNQbQ1spu2svsSDQ4m5fEIOJJ1pB+oTeEVzPEzEcY7+v4sU+03KSb0qhOxrP7EMO1I5u+vc=',\n",
       "  'image_MD_Url': 'https://ecatalog.smpcorp.com/ihgs/imagehandlergs.ashx?p1=dmUw3knyVMjCLhPeyHkruz9FNpDfGKFIBku710yGpH98FLEGPLEZwGVtS0TRaLx3rm+ZHodTWPuhIKBw3J5SZ5iH9+8ykTJFSKEulrQ0hiWTskhDbDVIOt4K7Mm/YEv3m/CH1/uYPCgXGfdCmo4YlLSCFlglY/QZgZxqNqfXIAN0aaBJATFXkGBoJ7YJpQZR',\n",
       "  'image_BG_Url': 'https://ecatalog.smpcorp.com/ihgs/imagehandlergs.ashx?p1=dmUw3knyVMjCLhPeyHkruyYF4nkLByFFki+PA/U85oZa0PFwUn8IepIGP8XlP8xfMoN++3vibKFGVC+8Va8jLaI8gQqRXhksVqg+QadFzZ6AfnnMwvAWvxs/HBA23UPYMJi1dAphBIcr+m7fx4OW9Oe+1FHFJFtc1XlyPAQtjwY9/18pJGYHiZiQJSOi3Hj/'},\n",
       " {'image_Name': 'TRXxJKNrd7yXkbgXndVQOQ%3D%3D',\n",
       "  'image_SM_Url': 'https://ecatalog.smpcorp.com/ihgs/imagehandlergs.ashx?p1=dmUw3knyVMjCLhPeyHkruz9FNpDfGKFIWs34AmcG1EkFoZj0BakHNJU6R4R8mVDGB6ex4HxPMh4yg377e+JsoUZUL7xVryMtojyBCpFeGSxWqD5Bp0XNnoB+eczC8Ba/Gz8cEDbdQ9gwmLV0CmEEhyv6bt/Hg5b0577UUcUkW1zVeXI8BC2PBj3/XykkZgeJmJAlI6LceP8=',\n",
       "  'image_MD_Url': 'https://ecatalog.smpcorp.com/ihgs/imagehandlergs.ashx?p1=dmUw3knyVMjCLhPeyHkruz9FNpDfGKFIBku710yGpH98FLEGPLEZwIKPRRXba3VC7vYdmSbTx+Uxi9Vvyu5T9raOUPJn/1IWEcpIOdX+99Sb77Zx/YzIlJMeI765kxAMxEmYr8TmQaqAxL6r802fnjsNwAjARODTc5TfQDS0NKmi9LwAlBmb3gP+BWM1PBAGDAHjgKRqmAc=',\n",
       "  'image_BG_Url': 'https://ecatalog.smpcorp.com/ihgs/imagehandlergs.ashx?p1=dmUw3knyVMjCLhPeyHkruyYF4nkLByFFki+PA/U85oY9UbHjSiJkXfFN3woIsCq7bEHUQlckYE7y916PDj4mUplpjLqJxiUyNc0Dfr4BAXPekNlQ51Q7yIznwcghdmhavbavYiSVAdwf+9wZqa98qhy8j2o5iNf28nVsDQ4R8zcC6Cbf/AtKmjhxUmB9mdAo'},\n",
       " {'image_Name': 'E6i7G4Q5u7T42fVnGDdu7Q%3D%3D',\n",
       "  'image_SM_Url': 'https://ecatalog.smpcorp.com/ihgs/imagehandlergs.ashx?p1=dmUw3knyVMjCLhPeyHkruz9FNpDfGKFIWs34AmcG1EkFoZj0BakHNH9qGORqbHOE5rLkiyHdwiDOnVUip04BiJTs5tLYVtf0Jv0YyvK/rWdJmHQGKl7o+TW7k1Hj4TTuy5K/cNQbQ1spu2svsSDQ4m5fEIOJJ1pB+oTeEVzPEzEcY7+v4sU+03KSb0qhOxrP7EMO1I5u+vc=',\n",
       "  'image_MD_Url': 'https://ecatalog.smpcorp.com/ihgs/imagehandlergs.ashx?p1=dmUw3knyVMjCLhPeyHkruz9FNpDfGKFIBku710yGpH98FLEGPLEZwCnv/CdZUEpxrm+ZHodTWPuhIKBw3J5SZ5iH9+8ykTJFSKEulrQ0hiWTskhDbDVIOt4K7Mm/YEv3m/CH1/uYPCgXGfdCmo4YlLSCFlglY/QZgZxqNqfXIAN0aaBJATFXkGBoJ7YJpQZR',\n",
       "  'image_BG_Url': 'https://ecatalog.smpcorp.com/ihgs/imagehandlergs.ashx?p1=dmUw3knyVMjCLhPeyHkruyYF4nkLByFFki+PA/U85oaSoqXiErx3yekBDhZrewGmMoN++3vibKFGVC+8Va8jLaI8gQqRXhksVqg+QadFzZ6AfnnMwvAWvxs/HBA23UPYMJi1dAphBIcr+m7fx4OW9Oe+1FHFJFtc1XlyPAQtjwY9/18pJGYHiZiQJSOi3Hj/'},\n",
       " {'image_Name': 'QfqZBELOPkhvZJ21qabwcg%3D%3D',\n",
       "  'image_SM_Url': 'https://ecatalog.smpcorp.com/ihgs/imagehandlergs.ashx?p1=dmUw3knyVMjCLhPeyHkruz9FNpDfGKFIWs34AmcG1EkFoZj0BakHNIxEvP9AjMMSpTSKn1/x0z0yg377e+JsoUZUL7xVryMtojyBCpFeGSxWqD5Bp0XNnoB+eczC8Ba/Gz8cEDbdQ9gwmLV0CmEEhyv6bt/Hg5b0577UUcUkW1zVeXI8BC2PBj3/XykkZgeJmJAlI6LceP8=',\n",
       "  'image_MD_Url': 'https://ecatalog.smpcorp.com/ihgs/imagehandlergs.ashx?p1=dmUw3knyVMjCLhPeyHkruz9FNpDfGKFIBku710yGpH98FLEGPLEZwHz+L8A4gvEN7vYdmSbTx+Uxi9Vvyu5T9raOUPJn/1IWEcpIOdX+99Sb77Zx/YzIlJMeI765kxAMxEmYr8TmQaqAxL6r802fnjsNwAjARODTc5TfQDS0NKmi9LwAlBmb3gP+BWM1PBAGDAHjgKRqmAc=',\n",
       "  'image_BG_Url': 'https://ecatalog.smpcorp.com/ihgs/imagehandlergs.ashx?p1=dmUw3knyVMjCLhPeyHkruyYF4nkLByFFki+PA/U85oZZDU2jXlGDIS6xicFUkyzzbEHUQlckYE7y916PDj4mUplpjLqJxiUyNc0Dfr4BAXPekNlQ51Q7yIznwcghdmhavbavYiSVAdwf+9wZqa98qhy8j2o5iNf28nVsDQ4R8zcC6Cbf/AtKmjhxUmB9mdAo'},\n",
       " {'image_Name': 'QpXcdi1ndEQCuftSfQG8Lg%3D%3D',\n",
       "  'image_SM_Url': 'https://ecatalog.smpcorp.com/ihgs/imagehandlergs.ashx?p1=dmUw3knyVMjCLhPeyHkruz9FNpDfGKFIWs34AmcG1EkFoZj0BakHNF97h80PwDY+pTSKn1/x0z0yg377e+JsoUZUL7xVryMtojyBCpFeGSxWqD5Bp0XNnoB+eczC8Ba/Gz8cEDbdQ9gwmLV0CmEEhyv6bt/Hg5b0577UUcUkW1zVeXI8BC2PBj3/XykkZgeJmJAlI6LceP8=',\n",
       "  'image_MD_Url': 'https://ecatalog.smpcorp.com/ihgs/imagehandlergs.ashx?p1=dmUw3knyVMjCLhPeyHkruz9FNpDfGKFIBku710yGpH98FLEGPLEZwO/F5vwdtNgz7vYdmSbTx+Uxi9Vvyu5T9raOUPJn/1IWEcpIOdX+99Sb77Zx/YzIlJMeI765kxAMxEmYr8TmQaqAxL6r802fnjsNwAjARODTc5TfQDS0NKmi9LwAlBmb3gP+BWM1PBAGDAHjgKRqmAc=',\n",
       "  'image_BG_Url': 'https://ecatalog.smpcorp.com/ihgs/imagehandlergs.ashx?p1=dmUw3knyVMjCLhPeyHkruyYF4nkLByFFki+PA/U85oaNt5rTJG++Ti6xicFUkyzzbEHUQlckYE7y916PDj4mUplpjLqJxiUyNc0Dfr4BAXPekNlQ51Q7yIznwcghdmhavbavYiSVAdwf+9wZqa98qhy8j2o5iNf28nVsDQ4R8zcC6Cbf/AtKmjhxUmB9mdAo'},\n",
       " {'image_Name': 'HDGIPVgRhupUaxlOK28CDQ%3D%3D',\n",
       "  'image_SM_Url': 'https://ecatalog.smpcorp.com/ihgs/imagehandlergs.ashx?p1=dmUw3knyVMjCLhPeyHkruz9FNpDfGKFIWs34AmcG1EkFoZj0BakHNMI6VUzMgS5JkupJHAZVOinOnVUip04BiJTs5tLYVtf0Jv0YyvK/rWdJmHQGKl7o+TW7k1Hj4TTuy5K/cNQbQ1spu2svsSDQ4m5fEIOJJ1pB+oTeEVzPEzEcY7+v4sU+03KSb0qhOxrP7EMO1I5u+vc=',\n",
       "  'image_MD_Url': 'https://ecatalog.smpcorp.com/ihgs/imagehandlergs.ashx?p1=dmUw3knyVMjCLhPeyHkruz9FNpDfGKFIBku710yGpH98FLEGPLEZwP/38KXLfLCCrm+ZHodTWPuhIKBw3J5SZ5iH9+8ykTJFSKEulrQ0hiWTskhDbDVIOt4K7Mm/YEv3m/CH1/uYPCgXGfdCmo4YlLSCFlglY/QZgZxqNqfXIAN0aaBJATFXkGBoJ7YJpQZR',\n",
       "  'image_BG_Url': 'https://ecatalog.smpcorp.com/ihgs/imagehandlergs.ashx?p1=dmUw3knyVMjCLhPeyHkruyYF4nkLByFFki+PA/U85oaSGCOqj/hxoaXl5+43ctpMMoN++3vibKFGVC+8Va8jLaI8gQqRXhksVqg+QadFzZ6AfnnMwvAWvxs/HBA23UPYMJi1dAphBIcr+m7fx4OW9Oe+1FHFJFtc1XlyPAQtjwY9/18pJGYHiZiQJSOi3Hj/'}]"
      ]
     },
     "execution_count": 4,
     "metadata": {},
     "output_type": "execute_result"
    }
   ],
   "source": [
    "dict_ = response.json()\n",
    "\n",
    "dict_"
   ]
  },
  {
   "cell_type": "code",
   "execution_count": 5,
   "id": "60430c3d-6177-4962-b956-c3a33615990e",
   "metadata": {},
   "outputs": [
    {
     "data": {
      "text/plain": [
       "False"
      ]
     },
     "execution_count": 5,
     "metadata": {},
     "output_type": "execute_result"
    }
   ],
   "source": [
    "not dict_"
   ]
  },
  {
   "cell_type": "code",
   "execution_count": 6,
   "id": "cf5953ce-0e7e-4fbb-95bc-1ade50cd2f58",
   "metadata": {},
   "outputs": [
    {
     "data": {
      "text/plain": [
       "{'0': 'https://ecatalog.smpcorp.com/ihgs/imagehandlergs.ashx?p1=dmUw3knyVMjCLhPeyHkruyYF4nkLByFFki+PA/U85oYFks2NLcmYte72HZkm08flMYvVb8ruU/a2jlDyZ/9SFhHKSDnV/vfUm++2cf2MyJSTHiO+uZMQDMRJmK/E5kGqgMS+q/NNn547DcAIwETg03OU30A0tDSpovS8AJQZm94D/gVjNTwQBgwB44CkapgH',\n",
       " '1': 'https://ecatalog.smpcorp.com/ihgs/imagehandlergs.ashx?p1=dmUw3knyVMjCLhPeyHkruyYF4nkLByFFki+PA/U85oZa0PFwUn8Iel6DrKAJfZjYMoN++3vibKFGVC+8Va8jLaI8gQqRXhksVqg+QadFzZ6AfnnMwvAWvxs/HBA23UPYMJi1dAphBIcr+m7fx4OW9Oe+1FHFJFtc1XlyPAQtjwY9/18pJGYHiZiQJSOi3Hj/',\n",
       " '2': 'https://ecatalog.smpcorp.com/ihgs/imagehandlergs.ashx?p1=dmUw3knyVMjCLhPeyHkruyYF4nkLByFFki+PA/U85oZa0PFwUn8IepIGP8XlP8xfMoN++3vibKFGVC+8Va8jLaI8gQqRXhksVqg+QadFzZ6AfnnMwvAWvxs/HBA23UPYMJi1dAphBIcr+m7fx4OW9Oe+1FHFJFtc1XlyPAQtjwY9/18pJGYHiZiQJSOi3Hj/',\n",
       " '3': 'https://ecatalog.smpcorp.com/ihgs/imagehandlergs.ashx?p1=dmUw3knyVMjCLhPeyHkruyYF4nkLByFFki+PA/U85oY9UbHjSiJkXfFN3woIsCq7bEHUQlckYE7y916PDj4mUplpjLqJxiUyNc0Dfr4BAXPekNlQ51Q7yIznwcghdmhavbavYiSVAdwf+9wZqa98qhy8j2o5iNf28nVsDQ4R8zcC6Cbf/AtKmjhxUmB9mdAo',\n",
       " '4': 'https://ecatalog.smpcorp.com/ihgs/imagehandlergs.ashx?p1=dmUw3knyVMjCLhPeyHkruyYF4nkLByFFki+PA/U85oaSoqXiErx3yekBDhZrewGmMoN++3vibKFGVC+8Va8jLaI8gQqRXhksVqg+QadFzZ6AfnnMwvAWvxs/HBA23UPYMJi1dAphBIcr+m7fx4OW9Oe+1FHFJFtc1XlyPAQtjwY9/18pJGYHiZiQJSOi3Hj/',\n",
       " '5': 'https://ecatalog.smpcorp.com/ihgs/imagehandlergs.ashx?p1=dmUw3knyVMjCLhPeyHkruyYF4nkLByFFki+PA/U85oZZDU2jXlGDIS6xicFUkyzzbEHUQlckYE7y916PDj4mUplpjLqJxiUyNc0Dfr4BAXPekNlQ51Q7yIznwcghdmhavbavYiSVAdwf+9wZqa98qhy8j2o5iNf28nVsDQ4R8zcC6Cbf/AtKmjhxUmB9mdAo',\n",
       " '6': 'https://ecatalog.smpcorp.com/ihgs/imagehandlergs.ashx?p1=dmUw3knyVMjCLhPeyHkruyYF4nkLByFFki+PA/U85oaNt5rTJG++Ti6xicFUkyzzbEHUQlckYE7y916PDj4mUplpjLqJxiUyNc0Dfr4BAXPekNlQ51Q7yIznwcghdmhavbavYiSVAdwf+9wZqa98qhy8j2o5iNf28nVsDQ4R8zcC6Cbf/AtKmjhxUmB9mdAo',\n",
       " '7': 'https://ecatalog.smpcorp.com/ihgs/imagehandlergs.ashx?p1=dmUw3knyVMjCLhPeyHkruyYF4nkLByFFki+PA/U85oaSGCOqj/hxoaXl5+43ctpMMoN++3vibKFGVC+8Va8jLaI8gQqRXhksVqg+QadFzZ6AfnnMwvAWvxs/HBA23UPYMJi1dAphBIcr+m7fx4OW9Oe+1FHFJFtc1XlyPAQtjwY9/18pJGYHiZiQJSOi3Hj/'}"
      ]
     },
     "execution_count": 6,
     "metadata": {},
     "output_type": "execute_result"
    }
   ],
   "source": [
    "dict_src, list_src = {}, [dict_2['image_BG_Url'] for dict_2 in dict_]\n",
    "for i, src in enumerate(list_src):\n",
    "    dict_src[str(i)] = src.strip()\n",
    "\n",
    "dict_src"
   ]
  },
  {
   "cell_type": "code",
   "execution_count": 7,
   "id": "d1a98dba-4133-468c-a485-2aba77c5ff5f",
   "metadata": {},
   "outputs": [],
   "source": [
    "import json"
   ]
  },
  {
   "cell_type": "code",
   "execution_count": 8,
   "id": "7ddfa9ca-29b7-4c52-9150-d0c78ca63676",
   "metadata": {},
   "outputs": [
    {
     "data": {
      "text/plain": [
       "{'home': 'https://www.4s.com/en/ecatalog?part=HVAC+door+actuator&type=p&search=s',\n",
       " 'sku_count': 622,\n",
       " 'page_count': 7,\n",
       " 'page': 1,\n",
       " 'page_url': 'https://ecatalog.smpcorp.com/v2/fs/api/part/partsearch?filter=HVAC+door+actuator&filterType=s&searchType=p&start=0&limit=96&sort=3&catFilter=-All-&attrValueFilter=-All-',\n",
       " 'no': 1,\n",
       " 'url': 'https://www.4s.com/en/ecatalog?part=37530&type=p&search=s',\n",
       " 'brand': 'FS',\n",
       " 'part_number': '37530',\n",
       " 'part_url': 'https://ecatalog.smpcorp.com/v2/fs/api/part/partselect?part=37530&func=PART',\n",
       " 'src_url': 'https://ecatalog.smpcorp.com/v2/fs/api/image/getallimages?partNum=37530&brand=FS&zoomFactor_sm=75&zoomFactor_md=360&zoomFactor_bg=960',\n",
       " 'description_1': 'HVAC Air Door Actuator',\n",
       " 'description_2': 'HVAC Air Door Actuator',\n",
       " 'pop': 'AA',\n",
       " 'per_car': 1,\n",
       " 'vehicle': 'Buick Allure (10-05)\\nBuick LaCrosse (09-05)\\nCadillac XLR (09-04)\\nChevrolet Corvette (13-05)\\nChevrolet Impala (13-04)\\nChevrolet Impala Limited (16-14)\\nChevrolet Malibu (08-04)\\nChevrolet Monte Carlo (07-04)\\nChevrolet Vectra (08-04)\\nPontiac Grand Prix (08-04)',\n",
       " 'json_specification': '{\"Door Linkage\": \"Female\", \"Mounting Ear Qty.\": \"3\", \"Terminal Pin Qty.\": \"2\", \"Description\": \"HVAC Air Door Actuator\", \"Warranty\": \"120 days\", \"Depth IN\": \"1.25\", \"Width IN\": \"2.75\", \"Height MM\": \"83\", \"Width MM\": \"70\", \"Height IN\": \"3.25\", \"Depth MM\": \"32\", \"Style\": \"HVAC Air Door Actuator\", \"Terminal Gender\": \"Male\", \"Type\": \"HVAC Air Door Actuator\", \"Voltage\": \"12\", \"Wire Quantity\": \"N/A\", \"Connector Gender\": \"Female\", \"Connector Shape\": \"Rectangular\"}',\n",
       " 'json_type': '{\"0\": \"HVAC Door Actuator\"}',\n",
       " 'picture': '',\n",
       " 'json_src': '{\"0\": \"https://ecatalog.smpcorp.com/ihgs/imagehandlergs.ashx?p1=dmUw3knyVMjCLhPeyHkruyYF4nkLByFFki+PA/U85oYFks2NLcmYte72HZkm08flMYvVb8ruU/a2jlDyZ/9SFhHKSDnV/vfUm++2cf2MyJSTHiO+uZMQDMRJmK/E5kGqgMS+q/NNn547DcAIwETg03OU30A0tDSpovS8AJQZm94D/gVjNTwQBgwB44CkapgH\", \"1\": \"https://ecatalog.smpcorp.com/ihgs/imagehandlergs.ashx?p1=dmUw3knyVMjCLhPeyHkruyYF4nkLByFFki+PA/U85oZa0PFwUn8Iel6DrKAJfZjYMoN++3vibKFGVC+8Va8jLaI8gQqRXhksVqg+QadFzZ6AfnnMwvAWvxs/HBA23UPYMJi1dAphBIcr+m7fx4OW9Oe+1FHFJFtc1XlyPAQtjwY9/18pJGYHiZiQJSOi3Hj/\", \"2\": \"https://ecatalog.smpcorp.com/ihgs/imagehandlergs.ashx?p1=dmUw3knyVMjCLhPeyHkruyYF4nkLByFFki+PA/U85oZa0PFwUn8IepIGP8XlP8xfMoN++3vibKFGVC+8Va8jLaI8gQqRXhksVqg+QadFzZ6AfnnMwvAWvxs/HBA23UPYMJi1dAphBIcr+m7fx4OW9Oe+1FHFJFtc1XlyPAQtjwY9/18pJGYHiZiQJSOi3Hj/\", \"3\": \"https://ecatalog.smpcorp.com/ihgs/imagehandlergs.ashx?p1=dmUw3knyVMjCLhPeyHkruyYF4nkLByFFki+PA/U85oY9UbHjSiJkXfFN3woIsCq7bEHUQlckYE7y916PDj4mUplpjLqJxiUyNc0Dfr4BAXPekNlQ51Q7yIznwcghdmhavbavYiSVAdwf+9wZqa98qhy8j2o5iNf28nVsDQ4R8zcC6Cbf/AtKmjhxUmB9mdAo\", \"4\": \"https://ecatalog.smpcorp.com/ihgs/imagehandlergs.ashx?p1=dmUw3knyVMjCLhPeyHkruyYF4nkLByFFki+PA/U85oaSoqXiErx3yekBDhZrewGmMoN++3vibKFGVC+8Va8jLaI8gQqRXhksVqg+QadFzZ6AfnnMwvAWvxs/HBA23UPYMJi1dAphBIcr+m7fx4OW9Oe+1FHFJFtc1XlyPAQtjwY9/18pJGYHiZiQJSOi3Hj/\", \"5\": \"https://ecatalog.smpcorp.com/ihgs/imagehandlergs.ashx?p1=dmUw3knyVMjCLhPeyHkruyYF4nkLByFFki+PA/U85oZZDU2jXlGDIS6xicFUkyzzbEHUQlckYE7y916PDj4mUplpjLqJxiUyNc0Dfr4BAXPekNlQ51Q7yIznwcghdmhavbavYiSVAdwf+9wZqa98qhy8j2o5iNf28nVsDQ4R8zcC6Cbf/AtKmjhxUmB9mdAo\", \"6\": \"https://ecatalog.smpcorp.com/ihgs/imagehandlergs.ashx?p1=dmUw3knyVMjCLhPeyHkruyYF4nkLByFFki+PA/U85oaNt5rTJG++Ti6xicFUkyzzbEHUQlckYE7y916PDj4mUplpjLqJxiUyNc0Dfr4BAXPekNlQ51Q7yIznwcghdmhavbavYiSVAdwf+9wZqa98qhy8j2o5iNf28nVsDQ4R8zcC6Cbf/AtKmjhxUmB9mdAo\", \"7\": \"https://ecatalog.smpcorp.com/ihgs/imagehandlergs.ashx?p1=dmUw3knyVMjCLhPeyHkruyYF4nkLByFFki+PA/U85oaSGCOqj/hxoaXl5+43ctpMMoN++3vibKFGVC+8Va8jLaI8gQqRXhksVqg+QadFzZ6AfnnMwvAWvxs/HBA23UPYMJi1dAphBIcr+m7fx4OW9Oe+1FHFJFtc1XlyPAQtjwY9/18pJGYHiZiQJSOi3Hj/\"}'}"
      ]
     },
     "execution_count": 8,
     "metadata": {},
     "output_type": "execute_result"
    }
   ],
   "source": [
    "{'home': item['home'],\n",
    " 'sku_count': item['sku_count'],\n",
    " 'page_count': item['page_count'],\n",
    " 'page': item['page'],\n",
    " 'page_url': item['page_url'],\n",
    " 'no': item['no'],\n",
    " 'url': item['url'],\n",
    " 'brand': item['brand'],\n",
    " 'part_number': item['part_number'],\n",
    " 'part_url': item['part_url'],\n",
    " 'src_url': item['src_url'],\n",
    " 'description_1': item['description_1'],\n",
    " 'description_2': item['description_2'],\n",
    " 'pop': item['pop'],\n",
    " 'per_car': item['per_car'],\n",
    " 'vehicle': item['vehicle'],\n",
    " 'json_specification': item['json_specification'],\n",
    " 'json_type': item['json_type'],\n",
    " 'picture': '',\n",
    " 'json_src': json.dumps(dict_src)}"
   ]
  },
  {
   "cell_type": "code",
   "execution_count": null,
   "id": "ac61a048-3eae-4d21-8871-bd80cc21ae84",
   "metadata": {},
   "outputs": [],
   "source": []
  }
 ],
 "metadata": {
  "kernelspec": {
   "display_name": "Python 3 (ipykernel)",
   "language": "python",
   "name": "python3"
  },
  "language_info": {
   "codemirror_mode": {
    "name": "ipython",
    "version": 3
   },
   "file_extension": ".py",
   "mimetype": "text/x-python",
   "name": "python",
   "nbconvert_exporter": "python",
   "pygments_lexer": "ipython3",
   "version": "3.12.7"
  }
 },
 "nbformat": 4,
 "nbformat_minor": 5
}
