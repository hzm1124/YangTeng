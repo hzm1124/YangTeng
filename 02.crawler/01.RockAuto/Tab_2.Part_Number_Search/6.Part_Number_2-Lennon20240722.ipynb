{
 "cells": [
  {
   "cell_type": "code",
   "execution_count": 1,
   "id": "9ad6a7f2-9243-45ed-8458-5ee32bbe0478",
   "metadata": {},
   "outputs": [],
   "source": [
    "param_date = '20240726'"
   ]
  },
  {
   "cell_type": "code",
   "execution_count": 2,
   "id": "18dee82e-37aa-497e-95a3-d676288950ae",
   "metadata": {},
   "outputs": [],
   "source": [
    "import os\n",
    "\n",
    "os.makedirs(f'./{param_date}/6.part_number_2')\n",
    "os.makedirs(f'./{param_date}/7.part_1')\n",
    "os.makedirs(f'./{param_date}/7.part_1/0.error')"
   ]
  },
  {
   "cell_type": "code",
   "execution_count": 3,
   "id": "43f4760a-1c3d-4c3b-9e48-898b0ca9a42d",
   "metadata": {
    "scrolled": true
   },
   "outputs": [
    {
     "data": {
      "text/plain": [
       "['group_1.Apparel & Gifts.xlsx',\n",
       " 'group_10.Electrical-Switch & Relay.xlsx',\n",
       " 'group_11.Engine.xlsx',\n",
       " 'group_12.Exhaust & Emission.xlsx',\n",
       " 'group_13.Fuel & Air.xlsx',\n",
       " 'group_14.Garage Equipment.xlsx',\n",
       " 'group_15.Hardware.xlsx',\n",
       " 'group_16.Heat & Air Conditioning.xlsx',\n",
       " 'group_17.Hoses%2FLines & Clamps.xlsx',\n",
       " 'group_18.Ignition.xlsx',\n",
       " 'group_19.Interior.xlsx',\n",
       " 'group_2.Belt Drive.xlsx',\n",
       " 'group_20.Literature.xlsx',\n",
       " 'group_21.Steering.xlsx',\n",
       " 'group_22.Suspension.xlsx',\n",
       " 'group_23.Transmission-Automatic.xlsx',\n",
       " 'group_24.Transmission-Manual.xlsx',\n",
       " 'group_25.Wheel.xlsx',\n",
       " 'group_26.Wiper & Washer.xlsx',\n",
       " 'group_3.Body & Lamp Assembly.xlsx',\n",
       " 'group_4.Brake & Wheel Hub.xlsx',\n",
       " 'group_5.Cooling System.xlsx',\n",
       " 'group_6.Drivetrain.xlsx',\n",
       " 'group_7.Electrical.xlsx',\n",
       " 'group_8.Electrical-Bulb & Socket.xlsx',\n",
       " 'group_9.Electrical-Connector.xlsx']"
      ]
     },
     "execution_count": 3,
     "metadata": {},
     "output_type": "execute_result"
    }
   ],
   "source": [
    "list_file = sorted(list(os.walk(f'./{param_date}/5.part_number'))[0][2])\n",
    "while '.DS_Store' in list_file:\n",
    "    list_file.remove('.DS_Store')\n",
    "while '0.null.txt' in list_file:\n",
    "    list_file.remove('0.null.txt')\n",
    "\n",
    "list_file"
   ]
  },
  {
   "cell_type": "code",
   "execution_count": 4,
   "id": "4e88b454-b10b-488b-9e52-a374af7ad2dc",
   "metadata": {},
   "outputs": [
    {
     "name": "stderr",
     "output_type": "stream",
     "text": [
      "Progress: 100%|███████████████████████████| 26/26 [00:00<00:00, 17795.68it/s]"
     ]
    },
    {
     "name": "stdout",
     "output_type": "stream",
     "text": [
      "Done ~\n"
     ]
    },
    {
     "name": "stderr",
     "output_type": "stream",
     "text": [
      "\n"
     ]
    }
   ],
   "source": [
    "from tqdm import tqdm\n",
    "import re\n",
    "\n",
    "for file in tqdm(list_file, desc='Progress', ncols=77):\n",
    "    os.rename(f'./{param_date}/5.part_number/{file}',\n",
    "              f'''./{param_date}/5.part_number/{re.sub(r'-[0-9]{8}_[0-9]{6}.xlsx$', '.xlsx', file)}''')\n",
    "\n",
    "print('Done ~')"
   ]
  },
  {
   "cell_type": "code",
   "execution_count": 5,
   "id": "8e6c1549-a2b5-4679-b052-9fc261138ff5",
   "metadata": {},
   "outputs": [
    {
     "data": {
      "text/plain": [
       "['group_1.Apparel & Gifts.xlsx',\n",
       " 'group_10.Electrical-Switch & Relay.xlsx',\n",
       " 'group_11.Engine.xlsx',\n",
       " 'group_12.Exhaust & Emission.xlsx',\n",
       " 'group_13.Fuel & Air.xlsx',\n",
       " 'group_14.Garage Equipment.xlsx',\n",
       " 'group_15.Hardware.xlsx',\n",
       " 'group_16.Heat & Air Conditioning.xlsx',\n",
       " 'group_17.Hoses%2FLines & Clamps.xlsx',\n",
       " 'group_18.Ignition.xlsx',\n",
       " 'group_19.Interior.xlsx',\n",
       " 'group_2.Belt Drive.xlsx',\n",
       " 'group_20.Literature.xlsx',\n",
       " 'group_21.Steering.xlsx',\n",
       " 'group_22.Suspension.xlsx',\n",
       " 'group_23.Transmission-Automatic.xlsx',\n",
       " 'group_24.Transmission-Manual.xlsx',\n",
       " 'group_25.Wheel.xlsx',\n",
       " 'group_26.Wiper & Washer.xlsx',\n",
       " 'group_3.Body & Lamp Assembly.xlsx',\n",
       " 'group_4.Brake & Wheel Hub.xlsx',\n",
       " 'group_5.Cooling System.xlsx',\n",
       " 'group_6.Drivetrain.xlsx',\n",
       " 'group_7.Electrical.xlsx',\n",
       " 'group_8.Electrical-Bulb & Socket.xlsx',\n",
       " 'group_9.Electrical-Connector.xlsx']"
      ]
     },
     "execution_count": 5,
     "metadata": {},
     "output_type": "execute_result"
    }
   ],
   "source": [
    "list_file = sorted(list(os.walk(f'./{param_date}/5.part_number'))[0][2])\n",
    "while '.DS_Store' in list_file:\n",
    "    list_file.remove('.DS_Store')\n",
    "while '0.null.txt' in list_file:\n",
    "    list_file.remove('0.null.txt')\n",
    "\n",
    "list_file"
   ]
  },
  {
   "cell_type": "code",
   "execution_count": 6,
   "id": "273bb83c-0632-43c0-9a26-4001ea2bd488",
   "metadata": {},
   "outputs": [
    {
     "data": {
      "text/html": [
       "<div>\n",
       "<style scoped>\n",
       "    .dataframe tbody tr th:only-of-type {\n",
       "        vertical-align: middle;\n",
       "    }\n",
       "\n",
       "    .dataframe tbody tr th {\n",
       "        vertical-align: top;\n",
       "    }\n",
       "\n",
       "    .dataframe thead th {\n",
       "        text-align: right;\n",
       "    }\n",
       "</style>\n",
       "<table border=\"1\" class=\"dataframe\">\n",
       "  <thead>\n",
       "    <tr style=\"text-align: right;\">\n",
       "      <th></th>\n",
       "    </tr>\n",
       "  </thead>\n",
       "  <tbody>\n",
       "  </tbody>\n",
       "</table>\n",
       "</div>"
      ],
      "text/plain": [
       "Empty DataFrame\n",
       "Columns: []\n",
       "Index: []"
      ]
     },
     "execution_count": 6,
     "metadata": {},
     "output_type": "execute_result"
    }
   ],
   "source": [
    "import pandas as pd\n",
    "\n",
    "output = pd.DataFrame()\n",
    "\n",
    "output"
   ]
  },
  {
   "cell_type": "code",
   "execution_count": 7,
   "id": "fdf0d45b-b199-4767-b992-73cc402f7b5b",
   "metadata": {},
   "outputs": [
    {
     "name": "stderr",
     "output_type": "stream",
     "text": [
      "Progress: 100%|██████████████████████████████| 26/26 [06:57<00:00, 16.05s/it]\n"
     ]
    },
    {
     "name": "stdout",
     "output_type": "stream",
     "text": [
      "Done ~\n"
     ]
    }
   ],
   "source": [
    "for file in tqdm(list_file, desc='Progress', ncols=77):\n",
    "    input_ = pd.read_excel(f'./{param_date}/5.part_number/{file}',\n",
    "                           header=0,\n",
    "                           dtype=str).fillna('')\n",
    "\n",
    "    input_['Group No'] = input_['Group No'].astype(int)\n",
    "    input_['Type No'] = input_['Type No'].astype(int)\n",
    "    input_['Manufacturer No'] = input_['Manufacturer No'].astype(int)\n",
    "    input_['SKU Count'] = input_['SKU Count'].astype(int)\n",
    "    input_['Part No'] = input_['Part No'].astype(int)\n",
    "\n",
    "    output = pd.concat([output, input_], ignore_index=True).fillna('')\n",
    "\n",
    "    # = = = = = = = = = = = = = = =\n",
    "\n",
    "    input_ = input_[['Group No', 'Group', 'Type No', 'Type', 'Type Code', 'Manufacturer No', 'Manufacturer', 'Tab 2 Url', 'Part No', 'Part Number', 'Url']]\n",
    "\n",
    "    # = = = = = = = = = = = = = = =\n",
    "\n",
    "    list_output, index_start, index_end = [], 0, 10_000\n",
    "    while True:\n",
    "        if index_end < len(input_):\n",
    "            while input_.loc[index_end, 'Type No'] == input_.loc[index_end-1, 'Type No']:\n",
    "                index_end += 1\n",
    "                if index_end == len(input_):\n",
    "                    break\n",
    "            if index_end != len(input_):\n",
    "                list_output.append(input_[index_start:index_end].reset_index(drop=True))\n",
    "                index_start, index_end = index_end, index_end + 10_000\n",
    "        else:\n",
    "            list_output.append(input_[index_start:].reset_index(drop=True))\n",
    "            break\n",
    "\n",
    "    if len(list_output) == 1:\n",
    "        input_.to_excel(f'''./{param_date}/6.part_number_2/{file}''', index=False)\n",
    "    else:\n",
    "        for i, output_2 in zip(range(len(list_output)), list_output):\n",
    "            output_2.to_excel(f'''./{param_date}/6.part_number_2/{file.removesuffix('.xlsx')}-serial_{i+1}.xlsx''', index=False)\n",
    "\n",
    "# = = = = = = = = = = = = = = =\n",
    "\n",
    "output = output[['Group No', 'Group', 'Type No', 'Type', 'Type Code', 'Manufacturer No', 'Manufacturer', 'Tab 2 Url', 'SKU Count']]\n",
    "output = output.drop_duplicates(ignore_index=True)\n",
    "output = output.sort_values(by=['Group No', 'Type No', 'Manufacturer No'],\n",
    "                            ascending=[True, True, True],\n",
    "                            ignore_index=True)\n",
    "output.to_excel(f'./{param_date}/6.menu.xlsx', index=False)\n",
    "\n",
    "print('Done ~')"
   ]
  },
  {
   "cell_type": "code",
   "execution_count": null,
   "id": "84425d9a-b0d7-4cf2-986e-0a286e3ae5e7",
   "metadata": {},
   "outputs": [],
   "source": []
  }
 ],
 "metadata": {
  "kernelspec": {
   "display_name": "Python 3 (ipykernel)",
   "language": "python",
   "name": "python3"
  },
  "language_info": {
   "codemirror_mode": {
    "name": "ipython",
    "version": 3
   },
   "file_extension": ".py",
   "mimetype": "text/x-python",
   "name": "python",
   "nbconvert_exporter": "python",
   "pygments_lexer": "ipython3",
   "version": "3.11.3"
  }
 },
 "nbformat": 4,
 "nbformat_minor": 5
}
