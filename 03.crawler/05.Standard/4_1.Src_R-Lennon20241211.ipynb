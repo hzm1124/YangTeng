{
 "cells": [
  {
   "cell_type": "code",
   "execution_count": 1,
   "id": "28567785-1bca-439f-9042-e39b3255a55b",
   "metadata": {},
   "outputs": [],
   "source": [
    "import os\n",
    "\n",
    "# = = =  = = =  = = =\n",
    "\n",
    "import pandas as pd\n",
    "\n",
    "# = = =  = = =  = = =\n",
    "\n",
    "import requests\n",
    "\n",
    "import sys\n",
    "sys.path.append('../00.Tools')\n",
    "from crawler_configuration import get_header, get_proxy\n",
    "\n",
    "import json"
   ]
  },
  {
   "cell_type": "code",
   "execution_count": 2,
   "id": "9b75b948-9701-432e-a5ef-88d0e629bd2c",
   "metadata": {},
   "outputs": [
    {
     "data": {
      "text/plain": [
       "'1.xlsx'"
      ]
     },
     "execution_count": 2,
     "metadata": {},
     "output_type": "execute_result"
    }
   ],
   "source": [
    "directory_in = './file/3.part'\n",
    "list_file = [file for file in sorted(list(os.walk(directory_in))[0][2]) if file not in ['.DS_Store'] and os.path.isfile(os.path.join(directory_in, file))]\n",
    "file = list_file[0]\n",
    "\n",
    "file"
   ]
  },
  {
   "cell_type": "code",
   "execution_count": 3,
   "id": "72d1da7d-f371-4e06-8ec0-83c9b2abd2e3",
   "metadata": {},
   "outputs": [
    {
     "name": "stdout",
     "output_type": "stream",
     "text": [
      "Data Loading...\n",
      "Loading Done !\n",
      "\n",
      "总数量：450\n",
      "\n"
     ]
    },
    {
     "data": {
      "text/html": [
       "<div>\n",
       "<style scoped>\n",
       "    .dataframe tbody tr th:only-of-type {\n",
       "        vertical-align: middle;\n",
       "    }\n",
       "\n",
       "    .dataframe tbody tr th {\n",
       "        vertical-align: top;\n",
       "    }\n",
       "\n",
       "    .dataframe thead th {\n",
       "        text-align: right;\n",
       "    }\n",
       "</style>\n",
       "<table border=\"1\" class=\"dataframe\">\n",
       "  <thead>\n",
       "    <tr style=\"text-align: right;\">\n",
       "      <th></th>\n",
       "      <th>No</th>\n",
       "      <th>Part Number</th>\n",
       "      <th>Vehicle</th>\n",
       "      <th>Picture</th>\n",
       "      <th>Url</th>\n",
       "      <th>Json_Type</th>\n",
       "      <th>Json_Info</th>\n",
       "      <th>Json_Specification</th>\n",
       "    </tr>\n",
       "  </thead>\n",
       "  <tbody>\n",
       "    <tr>\n",
       "      <th>0</th>\n",
       "      <td>1</td>\n",
       "      <td>APK100</td>\n",
       "      <td>Cadillac Escalade (03)\\nChevrolet Avalanche 15...</td>\n",
       "      <td></td>\n",
       "      <td>https://www.standardbrand.com/en/ecatalog?part...</td>\n",
       "      <td>{\"0\": \"Sensor - Accelerator Pedal\"}</td>\n",
       "      <td>{\"Brand\": \"STD\", \"Partdesc_En\": \"Accelerator P...</td>\n",
       "      <td>{\"0\": {\"Warranty\": \"3 years/36,000 mile\"}, \"1\"...</td>\n",
       "    </tr>\n",
       "    <tr>\n",
       "      <th>1</th>\n",
       "      <td>2</td>\n",
       "      <td>APK101</td>\n",
       "      <td>Cadillac Escalade (05-03)\\nCadillac Escalade E...</td>\n",
       "      <td></td>\n",
       "      <td>https://www.standardbrand.com/en/ecatalog?part...</td>\n",
       "      <td>{\"0\": \"Sensor - Accelerator Pedal\"}</td>\n",
       "      <td>{\"Brand\": \"STD\", \"Partdesc_En\": \"Accelerator P...</td>\n",
       "      <td>{\"0\": {\"Warranty\": \"3 years/36,000 mile\"}, \"1\"...</td>\n",
       "    </tr>\n",
       "    <tr>\n",
       "      <th>2</th>\n",
       "      <td>3</td>\n",
       "      <td>APK102</td>\n",
       "      <td>Chevrolet B7 (02-97)\\nChevrolet Blazer (94)\\nC...</td>\n",
       "      <td></td>\n",
       "      <td>https://www.standardbrand.com/en/ecatalog?part...</td>\n",
       "      <td>{\"0\": \"Sensor - Accelerator Pedal\"}</td>\n",
       "      <td>{\"Brand\": \"STD\", \"Partdesc_En\": \"Accelerator P...</td>\n",
       "      <td>{\"0\": {\"Warranty\": \"3 years/36,000 mile\"}, \"1\"...</td>\n",
       "    </tr>\n",
       "    <tr>\n",
       "      <th>3</th>\n",
       "      <td>4</td>\n",
       "      <td>APK103</td>\n",
       "      <td>Ford F-250 (96)\\nFord F-250 HD (97)\\nFord F-25...</td>\n",
       "      <td></td>\n",
       "      <td>https://www.standardbrand.com/en/ecatalog?part...</td>\n",
       "      <td>{\"0\": \"Sensor - Accelerator Pedal\"}</td>\n",
       "      <td>{\"Brand\": \"STD\", \"Partdesc_En\": \"Accelerator P...</td>\n",
       "      <td>{\"0\": {\"Warranty\": \"3 years/36,000 mile\"}, \"1\"...</td>\n",
       "    </tr>\n",
       "    <tr>\n",
       "      <th>4</th>\n",
       "      <td>5</td>\n",
       "      <td>APS101</td>\n",
       "      <td>Ford F-250 (96)\\nFord F-350 (97-96)\\nFord F-59...</td>\n",
       "      <td></td>\n",
       "      <td>https://www.standardbrand.com/en/ecatalog?part...</td>\n",
       "      <td>{\"0\": \"Sensor - Accelerator Pedal\"}</td>\n",
       "      <td>{\"Brand\": \"STD\", \"Partdesc_En\": \"Accelerator P...</td>\n",
       "      <td>{\"0\": {\"Warranty\": \"3 years/36,000 mile\"}, \"1\"...</td>\n",
       "    </tr>\n",
       "    <tr>\n",
       "      <th>...</th>\n",
       "      <td>...</td>\n",
       "      <td>...</td>\n",
       "      <td>...</td>\n",
       "      <td>...</td>\n",
       "      <td>...</td>\n",
       "      <td>...</td>\n",
       "      <td>...</td>\n",
       "      <td>...</td>\n",
       "    </tr>\n",
       "    <tr>\n",
       "      <th>445</th>\n",
       "      <td>446</td>\n",
       "      <td>APS717</td>\n",
       "      <td>Lexus LX600 (24-22)</td>\n",
       "      <td></td>\n",
       "      <td>https://www.standardbrand.com/en/ecatalog?part...</td>\n",
       "      <td>{\"0\": \"Sensor - Accelerator Pedal\"}</td>\n",
       "      <td>{\"Brand\": \"STI\", \"Partdesc_En\": \"Accelerator P...</td>\n",
       "      <td>{\"0\": {\"Warranty\": \"3 years/36,000 mile\"}, \"1\"...</td>\n",
       "    </tr>\n",
       "    <tr>\n",
       "      <th>446</th>\n",
       "      <td>447</td>\n",
       "      <td>G92003</td>\n",
       "      <td>Cadillac Escalade (03)\\nChevrolet Avalanche 15...</td>\n",
       "      <td></td>\n",
       "      <td>https://www.standardbrand.com/en/ecatalog?part...</td>\n",
       "      <td>{\"0\": \"Sensor - Accelerator Pedal\"}</td>\n",
       "      <td>{\"Brand\": \"TEC\", \"Partdesc_En\": \"Accelerator P...</td>\n",
       "      <td>{\"0\": {\"Warranty\": \"3 years/36,000 mile\"}, \"1\"...</td>\n",
       "    </tr>\n",
       "    <tr>\n",
       "      <th>447</th>\n",
       "      <td>448</td>\n",
       "      <td>G92004</td>\n",
       "      <td>Cadillac Escalade (05-03)\\nCadillac Escalade E...</td>\n",
       "      <td></td>\n",
       "      <td>https://www.standardbrand.com/en/ecatalog?part...</td>\n",
       "      <td>{\"0\": \"Sensor - Accelerator Pedal\"}</td>\n",
       "      <td>{\"Brand\": \"TEC\", \"Partdesc_En\": \"Accelerator P...</td>\n",
       "      <td>{\"0\": {\"Warranty\": \"3 years/36,000 mile\"}, \"1\"...</td>\n",
       "    </tr>\n",
       "    <tr>\n",
       "      <th>448</th>\n",
       "      <td>449</td>\n",
       "      <td>G92005</td>\n",
       "      <td>Chevrolet B7 (02-97)\\nChevrolet Blazer (94)\\nC...</td>\n",
       "      <td></td>\n",
       "      <td>https://www.standardbrand.com/en/ecatalog?part...</td>\n",
       "      <td>{\"0\": \"Sensor - Accelerator Pedal\"}</td>\n",
       "      <td>{\"Brand\": \"TEC\", \"Partdesc_En\": \"Accelerator P...</td>\n",
       "      <td>{\"0\": {\"Warranty\": \"3 years/36,000 mile\"}, \"1\"...</td>\n",
       "    </tr>\n",
       "    <tr>\n",
       "      <th>449</th>\n",
       "      <td>450</td>\n",
       "      <td>T92001</td>\n",
       "      <td>Ford F-250 (96)\\nFord F-250 HD (97)\\nFord F-25...</td>\n",
       "      <td></td>\n",
       "      <td>https://www.standardbrand.com/en/ecatalog?part...</td>\n",
       "      <td>{\"0\": \"Sensor - Accelerator Pedal\"}</td>\n",
       "      <td>{\"Brand\": \"TEC\", \"Partdesc_En\": \"Accelerator P...</td>\n",
       "      <td>{\"0\": {\"Warranty\": \"3 years/36,000 mile\"}, \"1\"...</td>\n",
       "    </tr>\n",
       "  </tbody>\n",
       "</table>\n",
       "<p>450 rows × 8 columns</p>\n",
       "</div>"
      ],
      "text/plain": [
       "      No Part Number                                            Vehicle  \\\n",
       "0      1      APK100  Cadillac Escalade (03)\\nChevrolet Avalanche 15...   \n",
       "1      2      APK101  Cadillac Escalade (05-03)\\nCadillac Escalade E...   \n",
       "2      3      APK102  Chevrolet B7 (02-97)\\nChevrolet Blazer (94)\\nC...   \n",
       "3      4      APK103  Ford F-250 (96)\\nFord F-250 HD (97)\\nFord F-25...   \n",
       "4      5      APS101  Ford F-250 (96)\\nFord F-350 (97-96)\\nFord F-59...   \n",
       "..   ...         ...                                                ...   \n",
       "445  446      APS717                                Lexus LX600 (24-22)   \n",
       "446  447      G92003  Cadillac Escalade (03)\\nChevrolet Avalanche 15...   \n",
       "447  448      G92004  Cadillac Escalade (05-03)\\nCadillac Escalade E...   \n",
       "448  449      G92005  Chevrolet B7 (02-97)\\nChevrolet Blazer (94)\\nC...   \n",
       "449  450      T92001  Ford F-250 (96)\\nFord F-250 HD (97)\\nFord F-25...   \n",
       "\n",
       "    Picture                                                Url  \\\n",
       "0            https://www.standardbrand.com/en/ecatalog?part...   \n",
       "1            https://www.standardbrand.com/en/ecatalog?part...   \n",
       "2            https://www.standardbrand.com/en/ecatalog?part...   \n",
       "3            https://www.standardbrand.com/en/ecatalog?part...   \n",
       "4            https://www.standardbrand.com/en/ecatalog?part...   \n",
       "..      ...                                                ...   \n",
       "445          https://www.standardbrand.com/en/ecatalog?part...   \n",
       "446          https://www.standardbrand.com/en/ecatalog?part...   \n",
       "447          https://www.standardbrand.com/en/ecatalog?part...   \n",
       "448          https://www.standardbrand.com/en/ecatalog?part...   \n",
       "449          https://www.standardbrand.com/en/ecatalog?part...   \n",
       "\n",
       "                               Json_Type  \\\n",
       "0    {\"0\": \"Sensor - Accelerator Pedal\"}   \n",
       "1    {\"0\": \"Sensor - Accelerator Pedal\"}   \n",
       "2    {\"0\": \"Sensor - Accelerator Pedal\"}   \n",
       "3    {\"0\": \"Sensor - Accelerator Pedal\"}   \n",
       "4    {\"0\": \"Sensor - Accelerator Pedal\"}   \n",
       "..                                   ...   \n",
       "445  {\"0\": \"Sensor - Accelerator Pedal\"}   \n",
       "446  {\"0\": \"Sensor - Accelerator Pedal\"}   \n",
       "447  {\"0\": \"Sensor - Accelerator Pedal\"}   \n",
       "448  {\"0\": \"Sensor - Accelerator Pedal\"}   \n",
       "449  {\"0\": \"Sensor - Accelerator Pedal\"}   \n",
       "\n",
       "                                             Json_Info  \\\n",
       "0    {\"Brand\": \"STD\", \"Partdesc_En\": \"Accelerator P...   \n",
       "1    {\"Brand\": \"STD\", \"Partdesc_En\": \"Accelerator P...   \n",
       "2    {\"Brand\": \"STD\", \"Partdesc_En\": \"Accelerator P...   \n",
       "3    {\"Brand\": \"STD\", \"Partdesc_En\": \"Accelerator P...   \n",
       "4    {\"Brand\": \"STD\", \"Partdesc_En\": \"Accelerator P...   \n",
       "..                                                 ...   \n",
       "445  {\"Brand\": \"STI\", \"Partdesc_En\": \"Accelerator P...   \n",
       "446  {\"Brand\": \"TEC\", \"Partdesc_En\": \"Accelerator P...   \n",
       "447  {\"Brand\": \"TEC\", \"Partdesc_En\": \"Accelerator P...   \n",
       "448  {\"Brand\": \"TEC\", \"Partdesc_En\": \"Accelerator P...   \n",
       "449  {\"Brand\": \"TEC\", \"Partdesc_En\": \"Accelerator P...   \n",
       "\n",
       "                                    Json_Specification  \n",
       "0    {\"0\": {\"Warranty\": \"3 years/36,000 mile\"}, \"1\"...  \n",
       "1    {\"0\": {\"Warranty\": \"3 years/36,000 mile\"}, \"1\"...  \n",
       "2    {\"0\": {\"Warranty\": \"3 years/36,000 mile\"}, \"1\"...  \n",
       "3    {\"0\": {\"Warranty\": \"3 years/36,000 mile\"}, \"1\"...  \n",
       "4    {\"0\": {\"Warranty\": \"3 years/36,000 mile\"}, \"1\"...  \n",
       "..                                                 ...  \n",
       "445  {\"0\": {\"Warranty\": \"3 years/36,000 mile\"}, \"1\"...  \n",
       "446  {\"0\": {\"Warranty\": \"3 years/36,000 mile\"}, \"1\"...  \n",
       "447  {\"0\": {\"Warranty\": \"3 years/36,000 mile\"}, \"1\"...  \n",
       "448  {\"0\": {\"Warranty\": \"3 years/36,000 mile\"}, \"1\"...  \n",
       "449  {\"0\": {\"Warranty\": \"3 years/36,000 mile\"}, \"1\"...  \n",
       "\n",
       "[450 rows x 8 columns]"
      ]
     },
     "execution_count": 3,
     "metadata": {},
     "output_type": "execute_result"
    }
   ],
   "source": [
    "print('Data Loading...')\n",
    "list_dict_correct, list_series_error, df_input = [], [], pd.read_excel(os.path.join(directory_in, file),\n",
    "                                                                       header=0,\n",
    "                                                                       dtype=str).fillna('')\n",
    "print('Loading Done !')\n",
    "print()\n",
    "\n",
    "df_input['No'] = df_input['No'].astype(int)\n",
    "\n",
    "crawler_remain = len(df_input)\n",
    "\n",
    "print(f'总数量：{crawler_remain}')\n",
    "print()\n",
    "\n",
    "df_input"
   ]
  },
  {
   "cell_type": "code",
   "execution_count": 4,
   "id": "5878a9f0-d639-4123-b6e0-bc564f72c2d6",
   "metadata": {},
   "outputs": [
    {
     "data": {
      "text/plain": [
       "(False,\n",
       " 0,\n",
       " No                                                                    1\n",
       " Part Number                                                      APK100\n",
       " Vehicle               Cadillac Escalade (03)\\nChevrolet Avalanche 15...\n",
       " Picture                                                                \n",
       " Url                   https://www.standardbrand.com/en/ecatalog?part...\n",
       " Json_Type                           {\"0\": \"Sensor - Accelerator Pedal\"}\n",
       " Json_Info             {\"Brand\": \"STD\", \"Partdesc_En\": \"Accelerator P...\n",
       " Json_Specification    {\"0\": {\"Warranty\": \"3 years/36,000 mile\"}, \"1\"...\n",
       " Name: 0, dtype: object)"
      ]
     },
     "execution_count": 4,
     "metadata": {},
     "output_type": "execute_result"
    }
   ],
   "source": [
    "crawler_status, (crawler_index, crawler_series) = False, next(df_input.iterrows())\n",
    "\n",
    "crawler_status, crawler_index, crawler_series"
   ]
  },
  {
   "cell_type": "code",
   "execution_count": 5,
   "id": "ad99bc86-6e80-4fcf-8200-736dc5101097",
   "metadata": {
    "scrolled": true
   },
   "outputs": [
    {
     "name": "stdout",
     "output_type": "stream",
     "text": [
      "1\n"
     ]
    },
    {
     "data": {
      "text/plain": [
       "[{'image_Name': '3EXzJVEsi510QFHvWujpJw%3D%3D',\n",
       "  'image_SM_Url': 'https://ecatalog.smpcorp.com/ihgs/imagehandlergs.ashx?p1=1OUojjz7Fe0uu7MlzNMTtPOA3FM8wSUCfEFLjhl+yY51Wji2BTIoaJjOd4unmb3P8rLuwF0NJIf55URlMOW+XVqOzvag35n6IYODDVJXQ/5aAUVD7HPvINfMHmFkfTlA8D+msAMmvX2CZuqvooaa7DCB6ftZHycUfh/RSgS97TYr+m7fx4OW9L38hy3Ug/3UipkBNHJMFz+NdB7H8SFNzJiQJSOi3Hj/',\n",
       "  'image_MD_Url': 'https://ecatalog.smpcorp.com/ihgs/imagehandlergs.ashx?p1=1OUojjz7Fe0uu7MlzNMTtPOA3FM8wSUCqYrcgaXQHScWSaSu79Q7PWmsSG3zyFfwYvfY+sUXOOXlUiMf62iPubgwXLHE9txgJv0YyvK/rWecX6DmzjK5LAPGgnfAzoJeeiNuk1H1nIsgiEVPfC+WFBiIabLNN0HoI9kWyXUlSG47DcAIwETg06j7hX67oM0bbvjBiwbVe1wM0rktTvG9cAwB44CkapgH',\n",
       "  'image_BG_Url': 'https://ecatalog.smpcorp.com/ihgs/imagehandlergs.ashx?p1=1OUojjz7Fe0uu7MlzNMTtPOA3FM8wSUCTuE74rL23eTm8CXSh6KpKE+ijFXaAgeWnRaSzC3dZmboEyZGCTZQXGS/yUkBUvThK0HZgA1C4AGxzJCtT0EC3h5PFeAkVcMYsJ9MXbl4u4qQsP+xaLsnCdQCfVj8UUYFH/vcGamvfKrZu7Cn8K35U+X7Yt0dsg+ooOsi5MlAbZptp5EMIddhrA=='},\n",
       " {'image_Name': '3EXzJVEsi505CCqo6fpf%2Fw%3D%3D',\n",
       "  'image_SM_Url': 'https://ecatalog.smpcorp.com/ihgs/imagehandlergs.ashx?p1=1OUojjz7Fe0uu7MlzNMTtPOA3FM8wSUCfEFLjhl+yY51Wji2BTIoaJjOd4unmb3P4e2haml3juWdFpLMLd1mZugTJkYJNlBcZL/JSQFS9OErQdmADULgAbHMkK1PQQLeHk8V4CRVwxiwn0xduXi7ipCw/7FouycJ1AJ9WPxRRgUf+9wZqa98qtm7sKfwrflT5fti3R2yD6ig6yLkyUBtmm2nkQwh12Gs',\n",
       "  'image_MD_Url': 'https://ecatalog.smpcorp.com/ihgs/imagehandlergs.ashx?p1=1OUojjz7Fe0uu7MlzNMTtPOA3FM8wSUCqYrcgaXQHScWSaSu79Q7PWmsSG3zyFfwEXSOyBtNdyIyg377e+JsoXC3gvZVAi6qojyBCpFeGSwf/K3f4AfcXxjM1aDPLo5Z980Qr3slXwYwK7uLPr6UXYXU9twALcucfGARYTFnO4gqV79PBwIFNjQWo7BX3nyftoWtVeawpRmiu9+DXJMMbohJb67kWwLn',\n",
       "  'image_BG_Url': 'https://ecatalog.smpcorp.com/ihgs/imagehandlergs.ashx?p1=1OUojjz7Fe0uu7MlzNMTtPOA3FM8wSUCTuE74rL23eTm8CXSh6KpKHYzHaHL6R2Yrm+ZHodTWPtGHGwNK6wuSZiH9+8ykTJFaACzcM2Fwb3lQjHfxmkEu/M2DCKxWi0p8RRteh9+Smi4/XfVIJ38wXfbMVRlDB7P783s11OnTH0m+illfMglRS2o5CJbOjqSel2Wedg4OWSUt85nNN2TLw=='},\n",
       " {'image_Name': '3EXzJVEsi509GgYOD6dwTA%3D%3D',\n",
       "  'image_SM_Url': 'https://ecatalog.smpcorp.com/ihgs/imagehandlergs.ashx?p1=1OUojjz7Fe0uu7MlzNMTtPOA3FM8wSUCfEFLjhl+yY51Wji2BTIoaJjOd4unmb3PJPFLfEHWqLf55URlMOW+XVqOzvag35n6IYODDVJXQ/5aAUVD7HPvINfMHmFkfTlA8D+msAMmvX2CZuqvooaa7DCB6ftZHycUfh/RSgS97TYr+m7fx4OW9L38hy3Ug/3UipkBNHJMFz+NdB7H8SFNzJiQJSOi3Hj/',\n",
       "  'image_MD_Url': 'https://ecatalog.smpcorp.com/ihgs/imagehandlergs.ashx?p1=1OUojjz7Fe0uu7MlzNMTtPOA3FM8wSUCqYrcgaXQHScWSaSu79Q7PWmsSG3zyFfwjsQEhs3D4i/lUiMf62iPubgwXLHE9txgJv0YyvK/rWecX6DmzjK5LAPGgnfAzoJeeiNuk1H1nIsgiEVPfC+WFBiIabLNN0HoI9kWyXUlSG47DcAIwETg06j7hX67oM0bbvjBiwbVe1wM0rktTvG9cAwB44CkapgH',\n",
       "  'image_BG_Url': 'https://ecatalog.smpcorp.com/ihgs/imagehandlergs.ashx?p1=1OUojjz7Fe0uu7MlzNMTtPOA3FM8wSUCTuE74rL23eTm8CXSh6KpKCVh+luC94SgnRaSzC3dZmboEyZGCTZQXGS/yUkBUvThK0HZgA1C4AGxzJCtT0EC3h5PFeAkVcMYsJ9MXbl4u4qQsP+xaLsnCdQCfVj8UUYFH/vcGamvfKrZu7Cn8K35U+X7Yt0dsg+ooOsi5MlAbZptp5EMIddhrA=='}]"
      ]
     },
     "execution_count": 5,
     "metadata": {},
     "output_type": "execute_result"
    }
   ],
   "source": [
    "import time\n",
    "\n",
    "crawler_retry = 0\n",
    "while True:\n",
    "    crawler_retry += 1\n",
    "    print(crawler_retry)\n",
    "    try:\n",
    "        url_request, url_check = f'''https://ecatalog.smpcorp.com/V2/STD/api/image/getallimages?partNum={crawler_series['Part Number']}&brand={json.loads(crawler_series['Json_Info'])['Brand']}&zoomFactor_sm=75&zoomFactor_md=360&zoomFactor_bg=960''', crawler_series['Url']\n",
    "\n",
    "        resp = requests.get(url_request,\n",
    "                            headers=get_header(),\n",
    "                            proxies=get_proxy(),\n",
    "                            timeout=(5, 15))\n",
    "\n",
    "        if resp.status_code == 200:\n",
    "            break\n",
    "    except KeyboardInterrupt:\n",
    "        break\n",
    "    except:\n",
    "        time.sleep(3)\n",
    "        continue\n",
    "\n",
    "resp.json()"
   ]
  },
  {
   "cell_type": "code",
   "execution_count": 6,
   "id": "de561c57-4ed8-4d50-a309-d9a2a4a01965",
   "metadata": {},
   "outputs": [
    {
     "data": {
      "text/plain": [
       "{'0': 'https://ecatalog.smpcorp.com/ihgs/imagehandlergs.ashx?p1=1OUojjz7Fe0uu7MlzNMTtPOA3FM8wSUCTuE74rL23eTm8CXSh6KpKE+ijFXaAgeWnRaSzC3dZmboEyZGCTZQXGS/yUkBUvThK0HZgA1C4AGxzJCtT0EC3h5PFeAkVcMYsJ9MXbl4u4qQsP+xaLsnCdQCfVj8UUYFH/vcGamvfKrZu7Cn8K35U+X7Yt0dsg+ooOsi5MlAbZptp5EMIddhrA==',\n",
       " '1': 'https://ecatalog.smpcorp.com/ihgs/imagehandlergs.ashx?p1=1OUojjz7Fe0uu7MlzNMTtPOA3FM8wSUCTuE74rL23eTm8CXSh6KpKHYzHaHL6R2Yrm+ZHodTWPtGHGwNK6wuSZiH9+8ykTJFaACzcM2Fwb3lQjHfxmkEu/M2DCKxWi0p8RRteh9+Smi4/XfVIJ38wXfbMVRlDB7P783s11OnTH0m+illfMglRS2o5CJbOjqSel2Wedg4OWSUt85nNN2TLw==',\n",
       " '2': 'https://ecatalog.smpcorp.com/ihgs/imagehandlergs.ashx?p1=1OUojjz7Fe0uu7MlzNMTtPOA3FM8wSUCTuE74rL23eTm8CXSh6KpKCVh+luC94SgnRaSzC3dZmboEyZGCTZQXGS/yUkBUvThK0HZgA1C4AGxzJCtT0EC3h5PFeAkVcMYsJ9MXbl4u4qQsP+xaLsnCdQCfVj8UUYFH/vcGamvfKrZu7Cn8K35U+X7Yt0dsg+ooOsi5MlAbZptp5EMIddhrA=='}"
      ]
     },
     "execution_count": 6,
     "metadata": {},
     "output_type": "execute_result"
    }
   ],
   "source": [
    "dict_src = {}\n",
    "for i, dict_ in enumerate(resp.json()):\n",
    "    dict_src[str(i)] = dict_['image_BG_Url'].strip()\n",
    "\n",
    "dict_src"
   ]
  },
  {
   "cell_type": "code",
   "execution_count": 7,
   "id": "99f49dd4-107b-4d6f-9ed6-1db0c1be6093",
   "metadata": {},
   "outputs": [
    {
     "data": {
      "text/plain": [
       "[{'No': 1,\n",
       "  'Part Number': 'APK100',\n",
       "  'Vehicle': 'Cadillac Escalade (03)\\nChevrolet Avalanche 1500 (03)\\nChevrolet Avalanche 2500 (03)\\nChevrolet Silverado 1500 (03)\\nChevrolet Silverado 1500 HD (03)\\nChevrolet Silverado 2500 (03)\\nChevrolet Silverado 2500 HD (05-03)\\nChevrolet Silverado 3500 (05-03)\\nChevrolet Suburban 1500 (03)\\nChevrolet Suburban 2500 (03)\\nChevrolet Tahoe (03)\\nGMC Sierra 1500 (03-01)\\nGMC Sierra 1500 HD (03-01)\\nGMC Sierra 2500 (03-00)\\nGMC Sierra 2500 HD (05-01)\\nGMC Sierra 3500 (05-01)\\nGMC Yukon (03-00)\\nGMC Yukon XL 1500 (03-00)\\nGMC Yukon XL 2500 (03-00)\\nHummer H2 (03)',\n",
       "  'Picture': '',\n",
       "  'Url': 'https://www.standardbrand.com/en/ecatalog?part=APK100&type=p&search=s',\n",
       "  'Json_Src': '{\"0\": \"https://ecatalog.smpcorp.com/ihgs/imagehandlergs.ashx?p1=1OUojjz7Fe0uu7MlzNMTtPOA3FM8wSUCTuE74rL23eTm8CXSh6KpKE+ijFXaAgeWnRaSzC3dZmboEyZGCTZQXGS/yUkBUvThK0HZgA1C4AGxzJCtT0EC3h5PFeAkVcMYsJ9MXbl4u4qQsP+xaLsnCdQCfVj8UUYFH/vcGamvfKrZu7Cn8K35U+X7Yt0dsg+ooOsi5MlAbZptp5EMIddhrA==\", \"1\": \"https://ecatalog.smpcorp.com/ihgs/imagehandlergs.ashx?p1=1OUojjz7Fe0uu7MlzNMTtPOA3FM8wSUCTuE74rL23eTm8CXSh6KpKHYzHaHL6R2Yrm+ZHodTWPtGHGwNK6wuSZiH9+8ykTJFaACzcM2Fwb3lQjHfxmkEu/M2DCKxWi0p8RRteh9+Smi4/XfVIJ38wXfbMVRlDB7P783s11OnTH0m+illfMglRS2o5CJbOjqSel2Wedg4OWSUt85nNN2TLw==\", \"2\": \"https://ecatalog.smpcorp.com/ihgs/imagehandlergs.ashx?p1=1OUojjz7Fe0uu7MlzNMTtPOA3FM8wSUCTuE74rL23eTm8CXSh6KpKCVh+luC94SgnRaSzC3dZmboEyZGCTZQXGS/yUkBUvThK0HZgA1C4AGxzJCtT0EC3h5PFeAkVcMYsJ9MXbl4u4qQsP+xaLsnCdQCfVj8UUYFH/vcGamvfKrZu7Cn8K35U+X7Yt0dsg+ooOsi5MlAbZptp5EMIddhrA==\"}',\n",
       "  'Json_Type': '{\"0\": \"Sensor - Accelerator Pedal\"}',\n",
       "  'Json_Info': '{\"Brand\": \"STD\", \"Partdesc_En\": \"Accelerator Pedal Sensor\", \"Partlongdesc_En\": \"Accelerator Pedal Sensor\", \"Pop\": \"D\", \"Qtyeach\": 1}',\n",
       "  'Json_Specification': '{\"0\": {\"Warranty\": \"3 years/36,000 mile\"}, \"1\": {\"New or Reman\": \"New\"}, \"2\": {\"Linkage Attached\": \"No\"}, \"3\": {\"Pedal Assembly Included\": \"Yes\"}, \"4\": {\"Connector Quantity\": \"1\"}, \"5\": {\"Connector Shape\": \"Rectangular\"}, \"6\": {\"Connector Gender\": \"Female\"}, \"7\": {\"Terminal Quantity\": \"9\"}, \"8\": {\"Terminal Gender\": \"Male (1)\"}, \"9\": {\"Terminal Type\": \"Pin\"}, \"10\": {\"Attachment Method\": \"Bolt On\"}, \"11\": {\"Color/Finish\": \"Black\"}, \"12\": {\"Hardware included\": \"No\"}, \"13\": {\"Material\": \"Polyamide 6\"}, \"14\": {\"Mounting Bracket(s) Included\": \"No\"}}'}]"
      ]
     },
     "execution_count": 7,
     "metadata": {},
     "output_type": "execute_result"
    }
   ],
   "source": [
    "list_dict_correct.append({'No': crawler_series['No'],\n",
    "                          'Part Number': crawler_series['Part Number'],\n",
    "                          'Vehicle': crawler_series['Vehicle'],\n",
    "                          'Picture': crawler_series['Picture'],\n",
    "                          'Url': crawler_series['Url'],\n",
    "                          'Json_Src': json.dumps(dict_src),\n",
    "                          'Json_Type': crawler_series['Json_Type'],\n",
    "                          'Json_Info': crawler_series['Json_Info'],\n",
    "                          'Json_Specification': crawler_series['Json_Specification']})\n",
    "\n",
    "list_dict_correct"
   ]
  },
  {
   "cell_type": "code",
   "execution_count": 8,
   "id": "fc4ed7f6-ed4f-431c-b944-b1690309cdae",
   "metadata": {},
   "outputs": [
    {
     "data": {
      "text/plain": [
       "True"
      ]
     },
     "execution_count": 8,
     "metadata": {},
     "output_type": "execute_result"
    }
   ],
   "source": [
    "crawler_status = True\n",
    "\n",
    "crawler_status"
   ]
  },
  {
   "cell_type": "code",
   "execution_count": 9,
   "id": "65c745d1-446e-46c5-9dec-819c9f7944d3",
   "metadata": {},
   "outputs": [
    {
     "data": {
      "text/plain": [
       "[No                                                                    1\n",
       " Part Number                                                      APK100\n",
       " Vehicle               Cadillac Escalade (03)\\nChevrolet Avalanche 15...\n",
       " Picture                                                                \n",
       " Url                   https://www.standardbrand.com/en/ecatalog?part...\n",
       " Json_Type                           {\"0\": \"Sensor - Accelerator Pedal\"}\n",
       " Json_Info             {\"Brand\": \"STD\", \"Partdesc_En\": \"Accelerator P...\n",
       " Json_Specification    {\"0\": {\"Warranty\": \"3 years/36,000 mile\"}, \"1\"...\n",
       " Request_Url           https://ecatalog.smpcorp.com/V2/STD/api/image/...\n",
       " Check_Url             https://www.standardbrand.com/en/ecatalog?part...\n",
       " Name: 0, dtype: object]"
      ]
     },
     "execution_count": 9,
     "metadata": {},
     "output_type": "execute_result"
    }
   ],
   "source": [
    "crawler_series['Request_Url'], crawler_series['Check_Url'] = url_request, url_check\n",
    "\n",
    "list_series_error.append(crawler_series)\n",
    "\n",
    "list_series_error"
   ]
  },
  {
   "cell_type": "code",
   "execution_count": 10,
   "id": "17a796b2-35c8-4c10-960e-6111fec4b993",
   "metadata": {},
   "outputs": [
    {
     "name": "stdout",
     "output_type": "stream",
     "text": [
      "Data Outputting...\n"
     ]
    },
    {
     "data": {
      "text/html": [
       "<div>\n",
       "<style scoped>\n",
       "    .dataframe tbody tr th:only-of-type {\n",
       "        vertical-align: middle;\n",
       "    }\n",
       "\n",
       "    .dataframe tbody tr th {\n",
       "        vertical-align: top;\n",
       "    }\n",
       "\n",
       "    .dataframe thead th {\n",
       "        text-align: right;\n",
       "    }\n",
       "</style>\n",
       "<table border=\"1\" class=\"dataframe\">\n",
       "  <thead>\n",
       "    <tr style=\"text-align: right;\">\n",
       "      <th></th>\n",
       "      <th>No</th>\n",
       "      <th>Part Number</th>\n",
       "      <th>Vehicle</th>\n",
       "      <th>Picture</th>\n",
       "      <th>Url</th>\n",
       "      <th>Json_Src</th>\n",
       "      <th>Json_Type</th>\n",
       "      <th>Json_Info</th>\n",
       "      <th>Json_Specification</th>\n",
       "    </tr>\n",
       "  </thead>\n",
       "  <tbody>\n",
       "    <tr>\n",
       "      <th>0</th>\n",
       "      <td>1</td>\n",
       "      <td>APK100</td>\n",
       "      <td>Cadillac Escalade (03)\\nChevrolet Avalanche 15...</td>\n",
       "      <td></td>\n",
       "      <td>https://www.standardbrand.com/en/ecatalog?part...</td>\n",
       "      <td>{\"0\": \"https://ecatalog.smpcorp.com/ihgs/image...</td>\n",
       "      <td>{\"0\": \"Sensor - Accelerator Pedal\"}</td>\n",
       "      <td>{\"Brand\": \"STD\", \"Partdesc_En\": \"Accelerator P...</td>\n",
       "      <td>{\"0\": {\"Warranty\": \"3 years/36,000 mile\"}, \"1\"...</td>\n",
       "    </tr>\n",
       "  </tbody>\n",
       "</table>\n",
       "</div>"
      ],
      "text/plain": [
       "   No Part Number                                            Vehicle Picture  \\\n",
       "0   1      APK100  Cadillac Escalade (03)\\nChevrolet Avalanche 15...           \n",
       "\n",
       "                                                 Url  \\\n",
       "0  https://www.standardbrand.com/en/ecatalog?part...   \n",
       "\n",
       "                                            Json_Src  \\\n",
       "0  {\"0\": \"https://ecatalog.smpcorp.com/ihgs/image...   \n",
       "\n",
       "                             Json_Type  \\\n",
       "0  {\"0\": \"Sensor - Accelerator Pedal\"}   \n",
       "\n",
       "                                           Json_Info  \\\n",
       "0  {\"Brand\": \"STD\", \"Partdesc_En\": \"Accelerator P...   \n",
       "\n",
       "                                  Json_Specification  \n",
       "0  {\"0\": {\"Warranty\": \"3 years/36,000 mile\"}, \"1\"...  "
      ]
     },
     "execution_count": 10,
     "metadata": {},
     "output_type": "execute_result"
    }
   ],
   "source": [
    "print('Data Outputting...')\n",
    "if list_dict_correct:\n",
    "    df_correct = pd.DataFrame(list_dict_correct).sort_values(by=['No'],\n",
    "                                                             ascending=[True],\n",
    "                                                             ignore_index=True)\n",
    "    df_correct.to_excel('./test_src.xlsx', index=False)\n",
    "\n",
    "df_correct if list_dict_correct else ''"
   ]
  },
  {
   "cell_type": "code",
   "execution_count": 11,
   "id": "9bf713a9-1e05-4cd9-aa90-0340ee852a3e",
   "metadata": {},
   "outputs": [
    {
     "name": "stdout",
     "output_type": "stream",
     "text": [
      "Output Finished !\n",
      "\n"
     ]
    }
   ],
   "source": [
    "print('Output Finished !')\n",
    "print()"
   ]
  },
  {
   "cell_type": "code",
   "execution_count": 12,
   "id": "b21c3fac-203a-4c6e-b7ae-b0ac1a112665",
   "metadata": {},
   "outputs": [
    {
     "name": "stdout",
     "output_type": "stream",
     "text": [
      "- Error Occurred -\n",
      "\n"
     ]
    },
    {
     "data": {
      "text/html": [
       "<div>\n",
       "<style scoped>\n",
       "    .dataframe tbody tr th:only-of-type {\n",
       "        vertical-align: middle;\n",
       "    }\n",
       "\n",
       "    .dataframe tbody tr th {\n",
       "        vertical-align: top;\n",
       "    }\n",
       "\n",
       "    .dataframe thead th {\n",
       "        text-align: right;\n",
       "    }\n",
       "</style>\n",
       "<table border=\"1\" class=\"dataframe\">\n",
       "  <thead>\n",
       "    <tr style=\"text-align: right;\">\n",
       "      <th></th>\n",
       "      <th>No</th>\n",
       "      <th>Part Number</th>\n",
       "      <th>Vehicle</th>\n",
       "      <th>Picture</th>\n",
       "      <th>Url</th>\n",
       "      <th>Json_Type</th>\n",
       "      <th>Json_Info</th>\n",
       "      <th>Json_Specification</th>\n",
       "      <th>Request_Url</th>\n",
       "      <th>Check_Url</th>\n",
       "    </tr>\n",
       "  </thead>\n",
       "  <tbody>\n",
       "    <tr>\n",
       "      <th>0</th>\n",
       "      <td>1</td>\n",
       "      <td>APK100</td>\n",
       "      <td>Cadillac Escalade (03)\\nChevrolet Avalanche 15...</td>\n",
       "      <td></td>\n",
       "      <td>https://www.standardbrand.com/en/ecatalog?part...</td>\n",
       "      <td>{\"0\": \"Sensor - Accelerator Pedal\"}</td>\n",
       "      <td>{\"Brand\": \"STD\", \"Partdesc_En\": \"Accelerator P...</td>\n",
       "      <td>{\"0\": {\"Warranty\": \"3 years/36,000 mile\"}, \"1\"...</td>\n",
       "      <td>https://ecatalog.smpcorp.com/V2/STD/api/image/...</td>\n",
       "      <td>https://www.standardbrand.com/en/ecatalog?part...</td>\n",
       "    </tr>\n",
       "  </tbody>\n",
       "</table>\n",
       "</div>"
      ],
      "text/plain": [
       "   No Part Number                                            Vehicle Picture  \\\n",
       "0   1      APK100  Cadillac Escalade (03)\\nChevrolet Avalanche 15...           \n",
       "\n",
       "                                                 Url  \\\n",
       "0  https://www.standardbrand.com/en/ecatalog?part...   \n",
       "\n",
       "                             Json_Type  \\\n",
       "0  {\"0\": \"Sensor - Accelerator Pedal\"}   \n",
       "\n",
       "                                           Json_Info  \\\n",
       "0  {\"Brand\": \"STD\", \"Partdesc_En\": \"Accelerator P...   \n",
       "\n",
       "                                  Json_Specification  \\\n",
       "0  {\"0\": {\"Warranty\": \"3 years/36,000 mile\"}, \"1\"...   \n",
       "\n",
       "                                         Request_Url  \\\n",
       "0  https://ecatalog.smpcorp.com/V2/STD/api/image/...   \n",
       "\n",
       "                                           Check_Url  \n",
       "0  https://www.standardbrand.com/en/ecatalog?part...  "
      ]
     },
     "execution_count": 12,
     "metadata": {},
     "output_type": "execute_result"
    }
   ],
   "source": [
    "if list_series_error:\n",
    "    df_error = pd.DataFrame(list_series_error).sort_values(by=['No'],\n",
    "                                                           ascending=[True],\n",
    "                                                           ignore_index=True)\n",
    "    df_error.to_excel('./test_src_error.xlsx', index=False)\n",
    "    print('- Error Occurred -')\n",
    "    print()\n",
    "\n",
    "df_error if list_series_error else ''"
   ]
  },
  {
   "cell_type": "code",
   "execution_count": 13,
   "id": "71005f89-2624-4cbf-b626-24658ebeadf6",
   "metadata": {},
   "outputs": [
    {
     "name": "stdout",
     "output_type": "stream",
     "text": [
      "Done ~\n"
     ]
    }
   ],
   "source": [
    "print('Done ~')"
   ]
  },
  {
   "cell_type": "code",
   "execution_count": null,
   "id": "ba5d9f77-7464-4ad5-a42b-1fa0c0505832",
   "metadata": {},
   "outputs": [],
   "source": []
  }
 ],
 "metadata": {
  "kernelspec": {
   "display_name": "Python 3 (ipykernel)",
   "language": "python",
   "name": "python3"
  },
  "language_info": {
   "codemirror_mode": {
    "name": "ipython",
    "version": 3
   },
   "file_extension": ".py",
   "mimetype": "text/x-python",
   "name": "python",
   "nbconvert_exporter": "python",
   "pygments_lexer": "ipython3",
   "version": "3.12.7"
  }
 },
 "nbformat": 4,
 "nbformat_minor": 5
}
