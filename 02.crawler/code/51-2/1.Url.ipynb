{
 "cells": [
  {
   "cell_type": "code",
   "execution_count": 1,
   "id": "af4ac9c0-9898-4e1d-8033-c19f2d28613c",
   "metadata": {},
   "outputs": [
    {
     "data": {
      "text/plain": [
       "{'no': 1, 'brand': 'KYB', 'part_number': '344115'}"
      ]
     },
     "execution_count": 1,
     "metadata": {},
     "output_type": "execute_result"
    }
   ],
   "source": [
    "dict_ = {'no': 1,\n",
    "         'brand': 'KYB'.strip(),\n",
    "         'part_number': '344115'.replace('-', '').replace(' ', '')}\n",
    "\n",
    "dict_"
   ]
  },
  {
   "cell_type": "code",
   "execution_count": 2,
   "id": "aeabb589-e14b-4d95-b5f3-84042f0109b7",
   "metadata": {},
   "outputs": [],
   "source": [
    "import requests\n",
    "\n",
    "import sys\n",
    "sys.path.append('../00.Tools')\n",
    "from configuration import generate_header, generate_proxy"
   ]
  },
  {
   "cell_type": "code",
   "execution_count": 3,
   "id": "571b1ce0-cc56-4b64-ae93-472e35c37f19",
   "metadata": {},
   "outputs": [
    {
     "data": {
      "text/plain": [
       "200"
      ]
     },
     "execution_count": 3,
     "metadata": {},
     "output_type": "execute_result"
    }
   ],
   "source": [
    "response = requests.get(f'''https://www.onlinecarparts.co.uk/ajax/search/autocomplete?keyword={dict_['part_number']}''',\n",
    "                        headers=generate_header(**{'Referer': 'https://www.onlinecarparts.co.uk/'}),\n",
    "                        # proxies=generate_proxy(),\n",
    "                        timeout=(10, 15),\n",
    "                        allow_redirects=False)\n",
    "\n",
    "response.status_code"
   ]
  },
  {
   "cell_type": "code",
   "execution_count": 4,
   "id": "08509cb7-0219-4620-b394-1fda528a8ca7",
   "metadata": {},
   "outputs": [
    {
     "data": {
      "text/plain": [
       "{'success': True,\n",
       " 'results': [{'values': [{'title': 'KYB Shock absorber (344115)',\n",
       "     'url': 'https://www.onlinecarparts.co.uk/kyb-828666.html',\n",
       "     'articleId': 828666,\n",
       "     'articleNo': '344115',\n",
       "     'brandName': 'KYB'},\n",
       "    {'title': 'BUDWEG CALIPER Brake caliper (344115)',\n",
       "     'url': 'https://www.onlinecarparts.co.uk/budweg-caliper-7279575.html',\n",
       "     'articleId': 7279575,\n",
       "     'articleNo': '344115',\n",
       "     'brandName': 'BUDWEG CALIPER'}],\n",
       "   'meta': {'title': 'Item', 'type': 'product'}},\n",
       "  {'values': [{'title': 'OEN 344115',\n",
       "     'url': 'https://www.onlinecarparts.co.uk/oenumber/344115.html'},\n",
       "    {'title': 'OEN 34411514214',\n",
       "     'url': 'https://www.onlinecarparts.co.uk/oenumber/34411514214.html'},\n",
       "    {'title': 'OEN 34411514215',\n",
       "     'url': 'https://www.onlinecarparts.co.uk/oenumber/34411514215.html'}],\n",
       "   'meta': {'title': '', 'type': 'oen'}}],\n",
       " 'keyword': '344115'}"
      ]
     },
     "execution_count": 4,
     "metadata": {},
     "output_type": "execute_result"
    }
   ],
   "source": [
    "dict_2 = response.json()\n",
    "\n",
    "dict_2"
   ]
  },
  {
   "cell_type": "code",
   "execution_count": 5,
   "id": "07914ac4-d444-4487-9f54-99230f0237ca",
   "metadata": {},
   "outputs": [
    {
     "data": {
      "text/plain": [
       "False"
      ]
     },
     "execution_count": 5,
     "metadata": {},
     "output_type": "execute_result"
    }
   ],
   "source": [
    "'success' not in dict_2 or not dict_2['success']"
   ]
  },
  {
   "cell_type": "code",
   "execution_count": 6,
   "id": "29133dad-e5f2-493a-8c6f-7754bf499421",
   "metadata": {},
   "outputs": [
    {
     "data": {
      "text/plain": [
       "[{'title': 'KYB Shock absorber (344115)',\n",
       "  'url': 'https://www.onlinecarparts.co.uk/kyb-828666.html',\n",
       "  'articleId': 828666,\n",
       "  'articleNo': '344115',\n",
       "  'brandName': 'KYB'}]"
      ]
     },
     "execution_count": 6,
     "metadata": {},
     "output_type": "execute_result"
    }
   ],
   "source": [
    "list_dict_value = []\n",
    "for dict_result in dict_2['results']:\n",
    "    if dict_result['meta']['type'].strip() == 'product':\n",
    "        for dict_value in dict_result['values']:\n",
    "            if dict_value['brandName'].strip() == dict_['brand']:\n",
    "                list_dict_value.append(dict_value)\n",
    "\n",
    "list_dict_value"
   ]
  },
  {
   "cell_type": "code",
   "execution_count": 7,
   "id": "8aeb1d78-efc4-4298-8638-b6e773d31227",
   "metadata": {},
   "outputs": [
    {
     "data": {
      "text/plain": [
       "False"
      ]
     },
     "execution_count": 7,
     "metadata": {},
     "output_type": "execute_result"
    }
   ],
   "source": [
    "not list_dict_value"
   ]
  },
  {
   "cell_type": "code",
   "execution_count": 8,
   "id": "e4e099b5-095c-465a-99bd-f0686b8edeb0",
   "metadata": {},
   "outputs": [
    {
     "data": {
      "text/plain": [
       "{'no': 1,\n",
       " 'brand': 'KYB',\n",
       " 'part_number': '344115',\n",
       " 'part_no': 1,\n",
       " 'tag': 'KYB Shock absorber (344115)',\n",
       " 'url': 'https://www.onlinecarparts.co.uk/kyb-828666.html',\n",
       " 'article_id': 828666,\n",
       " 'article_no': '344115'}"
      ]
     },
     "execution_count": 8,
     "metadata": {},
     "output_type": "execute_result"
    }
   ],
   "source": [
    "{'no': dict_['no'],\n",
    " 'brand': dict_['brand'],\n",
    " 'part_number': dict_['part_number'],\n",
    " 'part_no': 1,\n",
    " 'tag': list_dict_value[0]['title'].strip(),\n",
    " 'url': list_dict_value[0]['url'].strip(),\n",
    " 'article_id': list_dict_value[0]['articleId'],\n",
    " 'article_no': list_dict_value[0]['articleNo']}"
   ]
  },
  {
   "cell_type": "code",
   "execution_count": null,
   "id": "b64ba591-eb5d-4319-9fdb-ab203d82741a",
   "metadata": {},
   "outputs": [],
   "source": []
  }
 ],
 "metadata": {
  "kernelspec": {
   "display_name": "Python 3 (ipykernel)",
   "language": "python",
   "name": "python3"
  },
  "language_info": {
   "codemirror_mode": {
    "name": "ipython",
    "version": 3
   },
   "file_extension": ".py",
   "mimetype": "text/x-python",
   "name": "python",
   "nbconvert_exporter": "python",
   "pygments_lexer": "ipython3",
   "version": "3.12.7"
  }
 },
 "nbformat": 4,
 "nbformat_minor": 5
}
