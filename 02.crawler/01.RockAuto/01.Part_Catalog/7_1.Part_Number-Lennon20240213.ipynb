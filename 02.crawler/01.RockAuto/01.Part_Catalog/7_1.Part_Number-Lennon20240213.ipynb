{
 "cells": [
  {
   "cell_type": "code",
   "execution_count": 1,
   "id": "43f80a68",
   "metadata": {},
   "outputs": [],
   "source": [
    "param_dir = 'data_20240206'\n",
    "param_make = 'ABARTH'"
   ]
  },
  {
   "cell_type": "code",
   "execution_count": 2,
   "id": "2c114ab8",
   "metadata": {},
   "outputs": [],
   "source": [
    "import pandas as pd\n",
    "\n",
    "output_correct = pd.DataFrame()\n",
    "\n",
    "output_error = pd.DataFrame()"
   ]
  },
  {
   "cell_type": "code",
   "execution_count": 3,
   "id": "81e2cd77",
   "metadata": {},
   "outputs": [
    {
     "name": "stdout",
     "output_type": "stream",
     "text": [
      "总数量：2\n"
     ]
    },
    {
     "data": {
      "text/plain": [
       "['Coolant / Antifreeze', 'Brake Pad']"
      ]
     },
     "execution_count": 3,
     "metadata": {},
     "output_type": "execute_result"
    }
   ],
   "source": [
    "input_ = pd.read_excel('./' + param_dir + '/' + param_make + '/6.type.xlsx',\n",
    "                       header=0,\n",
    "                       dtype=str).fillna('')\n",
    "\n",
    "length = len(input_)\n",
    "\n",
    "print('总数量：' + str(length))\n",
    "input_['Type'].tolist()"
   ]
  },
  {
   "cell_type": "code",
   "execution_count": 4,
   "id": "6e23da76",
   "metadata": {},
   "outputs": [
    {
     "name": "stdout",
     "output_type": "stream",
     "text": [
      "error\n"
     ]
    }
   ],
   "source": [
    "crawler_status = 'error'\n",
    "\n",
    "print(crawler_status)"
   ]
  },
  {
   "cell_type": "code",
   "execution_count": 5,
   "id": "c312537e",
   "metadata": {},
   "outputs": [],
   "source": [
    "import requests\n",
    "import json"
   ]
  },
  {
   "cell_type": "code",
   "execution_count": 6,
   "id": "1f6c50c9",
   "metadata": {},
   "outputs": [
    {
     "data": {
      "text/plain": [
       "{'html_fill_sections': {'navchildren[]': '<div class=\"ranavnode\" id=\"nav[__GIP__2__]\"><input type=\"hidden\" autocomplete=\"off\" id=\"jsn[__GIP__2__]\" value=\"{&quot;groupindex&quot;:&quot;__GIP__2__&quot;,&quot;tab&quot;:&quot;catalog&quot;,&quot;nodetype&quot;:&quot;no_parts_found&quot;,&quot;not_expandable&quot;:true}\" /><div id=\"nav_o[__GIP__2__]\" class=\"ranavouter\"><div class=\"inner\"><table class=\"tbl\"  cellpadding=\"0\" cellspacing=\"0\"><tr><td class=\"niconspace nlasticon\" id=\"navicon[__GIP__2__]\"></td><td class=\"nlabel\" ><span class=\"navlabellink nvoffset nnormal\">No Parts Found</span></td></tr></table></div></div><div class=\"nchildren ra-hide\" id=\"navchildren[__GIP__2__]\" ></div></div>'},\n",
       " 'jsn': {'tab': 'catalog',\n",
       "  'make': 'ABARTH',\n",
       "  'year': '1969',\n",
       "  'model': '1000',\n",
       "  'engine': '982cc L4',\n",
       "  'carcode': '1438885',\n",
       "  'groupname': 'Cooling System',\n",
       "  'parttype': '4008823823',\n",
       "  'nodetype': 'parttype'},\n",
       " 'collected_javascript': '/**UQ:56322749**/\\nwindow.top.parent.window[\"_nck\"] = \"8LVLUxTaILBT+tLxkg8+3Ag7\\\\/0bbOhvn7P3rkFbL80\\\\/oQB6RvzNfa5dcHvATqXAMxw5whzaDEdxk+27zeij67BjKru6WqTdNqG6tiEsD1EZhbTv0XForkbYp+nLaIKxDXfb4DjpqS2ZyAqHw8OmZkOGL7OHfXRfQUMiIdCs79MKq8s5CElUsIEj+vqDaW7wA\";\\n'}"
      ]
     },
     "execution_count": 6,
     "metadata": {},
     "output_type": "execute_result"
    }
   ],
   "source": [
    "import sys\n",
    "sys.path.append('../../../00.module')\n",
    "import UA\n",
    "import Proxy\n",
    "\n",
    "i = 0\n",
    "\n",
    "jsn = '{\"jsn\":{\"tab\":\"catalog\",\"make\":\"' + input_.loc[i, 'Make'] + '\",\"year\":\"' + input_.loc[i, 'Year'] + '\",\"model\":\"' + input_.loc[i, 'Model'] + '\",\"engine\":\"' + input_.loc[i, 'Engine'] + '\",\"carcode\":\"' + input_.loc[i, 'Car_Code'] + '\",\"groupname\":\"' + input_.loc[i, 'Category'] + '\",\"parttype\":\"' + input_.loc[i, 'Type_Code'] + '\",\"nodetype\":\"parttype\"}}'\n",
    "\n",
    "payload = {'func': 'navnode_fetch',\n",
    "           'payload': jsn,\n",
    "           'api_json_request': '1'}\n",
    "\n",
    "resp = requests.post('https://www.rockauto.com/catalog/catalogapi.php',\n",
    "                     data=payload,\n",
    "                                         proxies=Proxy.get_Proxy_Requests()).text\n",
    "\n",
    "resp = json.loads(resp)\n",
    "\n",
    "resp"
   ]
  },
  {
   "cell_type": "code",
   "execution_count": 7,
   "id": "84f8e9ea",
   "metadata": {},
   "outputs": [],
   "source": [
    "from bs4 import BeautifulSoup"
   ]
  },
  {
   "cell_type": "code",
   "execution_count": 8,
   "id": "be9f27ab",
   "metadata": {},
   "outputs": [
    {
     "name": "stdout",
     "output_type": "stream",
     "text": [
      "<html>\n",
      " <body>\n",
      "  <div class=\"ranavnode\" id=\"nav[__GIP__2__]\">\n",
      "   <input autocomplete=\"off\" id=\"jsn[__GIP__2__]\" type=\"hidden\" value='{\"groupindex\":\"__GIP__2__\",\"tab\":\"catalog\",\"nodetype\":\"no_parts_found\",\"not_expandable\":true}'/>\n",
      "   <div class=\"ranavouter\" id=\"nav_o[__GIP__2__]\">\n",
      "    <div class=\"inner\">\n",
      "     <table cellpadding=\"0\" cellspacing=\"0\" class=\"tbl\">\n",
      "      <tr>\n",
      "       <td class=\"niconspace nlasticon\" id=\"navicon[__GIP__2__]\">\n",
      "       </td>\n",
      "       <td class=\"nlabel\">\n",
      "        <span class=\"navlabellink nvoffset nnormal\">\n",
      "         No Parts Found\n",
      "        </span>\n",
      "       </td>\n",
      "      </tr>\n",
      "     </table>\n",
      "    </div>\n",
      "   </div>\n",
      "   <div class=\"nchildren ra-hide\" id=\"navchildren[__GIP__2__]\">\n",
      "   </div>\n",
      "  </div>\n",
      " </body>\n",
      "</html>\n",
      "\n"
     ]
    }
   ],
   "source": [
    "html = resp['html_fill_sections']['navchildren[]']\n",
    "\n",
    "soup = BeautifulSoup(html, 'lxml')\n",
    "\n",
    "with open('./part_number.html', 'w', encoding='UTF-8') as file:\n",
    "    file.write(str(soup))\n",
    "\n",
    "print(soup.prettify())"
   ]
  },
  {
   "cell_type": "code",
   "execution_count": 9,
   "id": "6d5642d6",
   "metadata": {},
   "outputs": [],
   "source": [
    "from lxml import etree"
   ]
  },
  {
   "cell_type": "code",
   "execution_count": 10,
   "id": "3cd6bee6",
   "metadata": {},
   "outputs": [
    {
     "data": {
      "text/plain": [
       "[]"
      ]
     },
     "execution_count": 10,
     "metadata": {},
     "output_type": "execute_result"
    }
   ],
   "source": [
    "html = etree.HTML(str(soup))\n",
    "\n",
    "list_part = html.xpath('//tbody[contains(@class, \"listing-inner\") and (contains(@class, \"altrow-a-1\") or contains(@class, \"altrow-a-0\"))]/tr/td/input[contains(@id, \"listing_data_supplemental\")]/@value')\n",
    "\n",
    "list_part"
   ]
  },
  {
   "cell_type": "code",
   "execution_count": 11,
   "id": "0f9c61d7",
   "metadata": {},
   "outputs": [
    {
     "data": {
      "text/plain": [
       "[]"
      ]
     },
     "execution_count": 11,
     "metadata": {},
     "output_type": "execute_result"
    }
   ],
   "source": [
    "list_tag = [json.loads(part)['sortgrouptext'].strip() for part in list_part]\n",
    "\n",
    "list_tag"
   ]
  },
  {
   "cell_type": "code",
   "execution_count": 12,
   "id": "1a642fa4",
   "metadata": {},
   "outputs": [
    {
     "data": {
      "text/plain": [
       "[]"
      ]
     },
     "execution_count": 12,
     "metadata": {},
     "output_type": "execute_result"
    }
   ],
   "source": [
    "list_manufacturer = [json.loads(part)['catalogname'].strip() for part in list_part]\n",
    "\n",
    "list_manufacturer"
   ]
  },
  {
   "cell_type": "code",
   "execution_count": 13,
   "id": "1daef8f8",
   "metadata": {},
   "outputs": [
    {
     "data": {
      "text/plain": [
       "[]"
      ]
     },
     "execution_count": 13,
     "metadata": {},
     "output_type": "execute_result"
    }
   ],
   "source": [
    "list_part_number = [json.loads(part)['partnumber'].strip() for part in list_part]\n",
    "\n",
    "list_part_number"
   ]
  },
  {
   "cell_type": "code",
   "execution_count": 14,
   "id": "1f53e536",
   "metadata": {},
   "outputs": [
    {
     "name": "stdout",
     "output_type": "stream",
     "text": [
      "ok\n"
     ]
    }
   ],
   "source": [
    "crawler_status = 'ok'\n",
    "\n",
    "print(crawler_status)"
   ]
  },
  {
   "cell_type": "code",
   "execution_count": 15,
   "id": "9b8bdb6c",
   "metadata": {
    "scrolled": true
   },
   "outputs": [
    {
     "name": "stdout",
     "output_type": "stream",
     "text": [
      "0 0\n"
     ]
    },
    {
     "data": {
      "text/html": [
       "<div>\n",
       "<style scoped>\n",
       "    .dataframe tbody tr th:only-of-type {\n",
       "        vertical-align: middle;\n",
       "    }\n",
       "\n",
       "    .dataframe tbody tr th {\n",
       "        vertical-align: top;\n",
       "    }\n",
       "\n",
       "    .dataframe thead th {\n",
       "        text-align: right;\n",
       "    }\n",
       "</style>\n",
       "<table border=\"1\" class=\"dataframe\">\n",
       "  <thead>\n",
       "    <tr style=\"text-align: right;\">\n",
       "      <th></th>\n",
       "      <th>Tab_Label</th>\n",
       "      <th>No.</th>\n",
       "      <th>Make</th>\n",
       "      <th>Year</th>\n",
       "      <th>Model</th>\n",
       "      <th>Engine</th>\n",
       "      <th>Car_Code</th>\n",
       "      <th>Category</th>\n",
       "      <th>Subcategory</th>\n",
       "      <th>Type</th>\n",
       "      <th>...</th>\n",
       "      <th>OE</th>\n",
       "      <th>Note_1</th>\n",
       "      <th>Note_2</th>\n",
       "      <th>Pic</th>\n",
       "      <th>Url</th>\n",
       "      <th>Info</th>\n",
       "      <th>Src</th>\n",
       "      <th>Part_Type</th>\n",
       "      <th>Part_Key</th>\n",
       "      <th>JOIN_MPN</th>\n",
       "    </tr>\n",
       "  </thead>\n",
       "  <tbody>\n",
       "  </tbody>\n",
       "</table>\n",
       "<p>0 rows × 27 columns</p>\n",
       "</div>"
      ],
      "text/plain": [
       "Empty DataFrame\n",
       "Columns: [Tab_Label, No., Make, Year, Model, Engine, Car_Code, Category, Subcategory, Type, Type_Code, Tab_Url, Part_Index, Tag, Manufacturer, Part_Number, Vehcile, OE, Note_1, Note_2, Pic, Url, Info, Src, Part_Type, Part_Key, JOIN_MPN]\n",
       "Index: []\n",
       "\n",
       "[0 rows x 27 columns]"
      ]
     },
     "execution_count": 15,
     "metadata": {},
     "output_type": "execute_result"
    }
   ],
   "source": [
    "if crawler_status == 'ok':\n",
    "    df_temp = pd.DataFrame({'Tab_Label': input_.loc[i, 'Tab_Label'],\n",
    "                            'No.': int(input_.loc[i, 'No.']),\n",
    "                            'Make': input_.loc[i, 'Make'],\n",
    "                            'Year': input_.loc[i, 'Year'],\n",
    "                            'Model': input_.loc[i, 'Model'],\n",
    "                            'Engine': input_.loc[i, 'Engine'],\n",
    "                            'Car_Code': input_.loc[i, 'Car_Code'],\n",
    "                            'Category': input_.loc[i, 'Category'],\n",
    "                            'Subcategory': '',\n",
    "                            'Type': input_.loc[i, 'Type'],\n",
    "                            'Type_Code': input_.loc[i, 'Type_Code'],\n",
    "                            'Tab_Url': input_.loc[i, 'Url'],\n",
    "                            'Part_Index': [(index+1) for index in range(len(list_part))],\n",
    "                            'Tag': list_tag,\n",
    "                            'Manufacturer': list_manufacturer,\n",
    "                            'Part_Number': list_part_number,\n",
    "                            'Vehcile': '',\n",
    "                            'OE': '',\n",
    "                            'Note_1': '',\n",
    "                            'Note_2': '',\n",
    "                            'Pic': '',\n",
    "                            'Url': '',\n",
    "                            'Info': '',\n",
    "                            'Src': '',\n",
    "                            'Part_Type': '',\n",
    "                            'Part_Key': '',\n",
    "                            'JOIN_MPN': [manufacturer+';'+part_number for manufacturer, part_number in zip(list_manufacturer, list_part_number)]})\n",
    "    \n",
    "    output_correct = pd.concat([output_correct, df_temp], ignore_index=True).fillna('')\n",
    "else:\n",
    "    df_temp = pd.DataFrame([{'Tab_Label': input_.loc[i, 'Tab_Label'],\n",
    "                             'No.': int(input_.loc[i, 'No.']),\n",
    "                             'Make': input_.loc[i, 'Make'],\n",
    "                             'Year': input_.loc[i, 'Year'],\n",
    "                             'Model': input_.loc[i, 'Model'],\n",
    "                             'Engine': input_.loc[i, 'Engine'],\n",
    "                             'Car_Code': input_.loc[i, 'Car_Code'],\n",
    "                             'Category': input_.loc[i, 'Category'],\n",
    "                             'Type': input_.loc[i, 'Type'],\n",
    "                             'Type_Code': input_.loc[i, 'Type_Code'],\n",
    "                             'Url': input_.loc[i, 'Url']}])\n",
    "    \n",
    "    output_error = pd.concat([output_error, df_temp], ignore_index=True).fillna('')\n",
    "    \n",
    "print(len(output_correct), len(output_error))\n",
    "output_correct"
   ]
  },
  {
   "cell_type": "code",
   "execution_count": null,
   "id": "79341cfb",
   "metadata": {},
   "outputs": [],
   "source": []
  }
 ],
 "metadata": {
  "kernelspec": {
   "display_name": "Python 3 (ipykernel)",
   "language": "python",
   "name": "python3"
  },
  "language_info": {
   "codemirror_mode": {
    "name": "ipython",
    "version": 3
   },
   "file_extension": ".py",
   "mimetype": "text/x-python",
   "name": "python",
   "nbconvert_exporter": "python",
   "pygments_lexer": "ipython3",
   "version": "3.11.3"
  }
 },
 "nbformat": 4,
 "nbformat_minor": 5
}
