{
 "cells": [
  {
   "cell_type": "code",
   "execution_count": 1,
   "id": "fe965f7d",
   "metadata": {},
   "outputs": [],
   "source": [
    "import pandas as pd"
   ]
  },
  {
   "cell_type": "code",
   "execution_count": 2,
   "id": "02f59b00",
   "metadata": {},
   "outputs": [
    {
     "data": {
      "text/html": [
       "<div>\n",
       "<style scoped>\n",
       "    .dataframe tbody tr th:only-of-type {\n",
       "        vertical-align: middle;\n",
       "    }\n",
       "\n",
       "    .dataframe tbody tr th {\n",
       "        vertical-align: top;\n",
       "    }\n",
       "\n",
       "    .dataframe thead th {\n",
       "        text-align: right;\n",
       "    }\n",
       "</style>\n",
       "<table border=\"1\" class=\"dataframe\">\n",
       "  <thead>\n",
       "    <tr style=\"text-align: right;\">\n",
       "      <th></th>\n",
       "      <th>Url</th>\n",
       "      <th>No.</th>\n",
       "    </tr>\n",
       "  </thead>\n",
       "  <tbody>\n",
       "    <tr>\n",
       "      <th>0</th>\n",
       "      <td>https://www.amazon.com/Motorcraft-YH-1829-Cont...</td>\n",
       "      <td>1</td>\n",
       "    </tr>\n",
       "    <tr>\n",
       "      <th>1</th>\n",
       "      <td>https://www.amazon.com/Compressor-Governor-Bra...</td>\n",
       "      <td>2</td>\n",
       "    </tr>\n",
       "    <tr>\n",
       "      <th>2</th>\n",
       "      <td>https://www.amazon.com/Compressor-Control-Sole...</td>\n",
       "      <td>3</td>\n",
       "    </tr>\n",
       "    <tr>\n",
       "      <th>3</th>\n",
       "      <td>https://www.amazon.com/AUTOKAY-Compressor-Elec...</td>\n",
       "      <td>4</td>\n",
       "    </tr>\n",
       "    <tr>\n",
       "      <th>4</th>\n",
       "      <td>https://www.amazon.com/labwork-parts-Compresso...</td>\n",
       "      <td>5</td>\n",
       "    </tr>\n",
       "    <tr>\n",
       "      <th>...</th>\n",
       "      <td>...</td>\n",
       "      <td>...</td>\n",
       "    </tr>\n",
       "    <tr>\n",
       "      <th>95</th>\n",
       "      <td>https://www.amazon.com/Compressor-Control-Conn...</td>\n",
       "      <td>96</td>\n",
       "    </tr>\n",
       "    <tr>\n",
       "      <th>96</th>\n",
       "      <td>https://www.amazon.com/Mando-22A1401-Compresso...</td>\n",
       "      <td>97</td>\n",
       "    </tr>\n",
       "    <tr>\n",
       "      <th>97</th>\n",
       "      <td>https://www.amazon.com/munirater-Compressor-Co...</td>\n",
       "      <td>98</td>\n",
       "    </tr>\n",
       "    <tr>\n",
       "      <th>98</th>\n",
       "      <td>https://www.amazon.com/WFLNHB-5SE09C-6SE12C-Co...</td>\n",
       "      <td>99</td>\n",
       "    </tr>\n",
       "    <tr>\n",
       "      <th>99</th>\n",
       "      <td>https://www.amazon.com/AUTOHAUX-Condition-Comp...</td>\n",
       "      <td>100</td>\n",
       "    </tr>\n",
       "  </tbody>\n",
       "</table>\n",
       "<p>100 rows × 2 columns</p>\n",
       "</div>"
      ],
      "text/plain": [
       "                                                  Url  No.\n",
       "0   https://www.amazon.com/Motorcraft-YH-1829-Cont...    1\n",
       "1   https://www.amazon.com/Compressor-Governor-Bra...    2\n",
       "2   https://www.amazon.com/Compressor-Control-Sole...    3\n",
       "3   https://www.amazon.com/AUTOKAY-Compressor-Elec...    4\n",
       "4   https://www.amazon.com/labwork-parts-Compresso...    5\n",
       "..                                                ...  ...\n",
       "95  https://www.amazon.com/Compressor-Control-Conn...   96\n",
       "96  https://www.amazon.com/Mando-22A1401-Compresso...   97\n",
       "97  https://www.amazon.com/munirater-Compressor-Co...   98\n",
       "98  https://www.amazon.com/WFLNHB-5SE09C-6SE12C-Co...   99\n",
       "99  https://www.amazon.com/AUTOHAUX-Condition-Comp...  100\n",
       "\n",
       "[100 rows x 2 columns]"
      ]
     },
     "execution_count": 2,
     "metadata": {},
     "output_type": "execute_result"
    }
   ],
   "source": [
    "df = pd.read_excel('./menu.xlsx',\n",
    "                   header=0,\n",
    "                   dtype=str).fillna('')\n",
    "\n",
    "df"
   ]
  },
  {
   "cell_type": "code",
   "execution_count": 3,
   "id": "33389dfd",
   "metadata": {},
   "outputs": [],
   "source": [
    "from tqdm import tqdm"
   ]
  },
  {
   "cell_type": "code",
   "execution_count": 4,
   "id": "c7969bab",
   "metadata": {},
   "outputs": [
    {
     "name": "stderr",
     "output_type": "stream",
     "text": [
      "进度: 100%|███████████████████████████████| 99/99 [00:00<00:00, 99338.78it/s]\n"
     ]
    }
   ],
   "source": [
    "data = '[{\"Url\":\"' + df.loc[0, 'Url'] + '\"}'\n",
    "for i in tqdm(range(1, len(df)), desc='进度', ncols=77):\n",
    "    data += ',{\"Url\":\"' + df.loc[i, 'Url'] + '\"}'\n",
    "    \n",
    "data += ']'"
   ]
  },
  {
   "cell_type": "code",
   "execution_count": 5,
   "id": "0809113b",
   "metadata": {},
   "outputs": [],
   "source": [
    "import pyperclip"
   ]
  },
  {
   "cell_type": "code",
   "execution_count": 6,
   "id": "7d8cf48a",
   "metadata": {},
   "outputs": [
    {
     "data": {
      "text/plain": [
       "'[{\"Url\":\"https://www.amazon.com/Motorcraft-YH-1829-Control/dp/B0080DWR5A/ref=zg_bs_g_15723451_sccl_1/137-2898221-1543558?psc=1\"},{\"Url\":\"https://www.amazon.com/Compressor-Governor-Brake-Control-275491/dp/B0BQDTF5PP/ref=zg_bs_g_15723451_sccl_2/137-2898221-1543558?psc=1\"},{\"Url\":\"https://www.amazon.com/Compressor-Control-Solenoid-Compatible-2013-2017/dp/B0C2TQ7CKN/ref=zg_bs_g_15723451_sccl_3/137-2898221-1543558?psc=1\"},{\"Url\":\"https://www.amazon.com/AUTOKAY-Compressor-Electronic-CONTROL-2011-2014/dp/B07JGRJCB6/ref=zg_bs_g_15723451_sccl_4/137-2898221-1543558?psc=1\"},{\"Url\":\"https://www.amazon.com/labwork-parts-Compressor-Electronic-Control-2011-2014/dp/B07MTXVVHM/ref=zg_bs_g_15723451_sccl_5/137-2898221-1543558?psc=1\"},{\"Url\":\"https://www.amazon.com/RKX-Compressor-Solenoid-VOLKSWAGEN-Compressors/dp/B01HC6GZSK/ref=zg_bs_g_15723451_sccl_6/137-2898221-1543558?psc=1\"},{\"Url\":\"https://www.amazon.com/Compressor-Control-Solenoid-Volkswagen-1K0820803E/dp/B073WP1QC1/ref=zg_bs_g_15723451_sccl_7/137-2898221-1543558?psc=1\"},{\"Url\":\"https://www.amazon.com/NewYall-Compressor-Control-Solenoid-Valve/dp/B09MTFRGC4/ref=zg_bs_g_15723451_sccl_8/137-2898221-1543558?psc=1\"},{\"Url\":\"https://www.amazon.com/NewYall-AC-Compressor-Control-Valve/dp/B07T9DTS4G/ref=zg_bs_g_15723451_sccl_9/137-2898221-1543558?psc=1\"},{\"Url\":\"https://www.amazon.com/AUTOMUTO-Compressor-Solenoid-Replacement-2007-2009/dp/B087M6N45M/ref=zg_bs_g_15723451_sccl_10/137-2898221-1543558?psc=1\"},{\"Url\":\"https://www.amazon.com/Universal-Conditioner-EX-1229C-Compressor/dp/B01BPENN1M/ref=zg_bs_g_15723451_sccl_11/137-2898221-1543558?psc=1\"},{\"Url\":\"https://www.amazon.com/Automotive-leader-1K0820803E-Compressor-2006-2015-Volkswagen/dp/B07H853N6R/ref=zg_bs_g_15723451_sccl_12/137-2898221-1543558?psc=1\"},{\"Url\":\"https://www.amazon.com/HornBlasters-VA-6-Brass-Air-Valve/dp/B006GPVU0C/ref=zg_bs_g_15723451_sccl_13/137-2898221-1543558?psc=1\"},{\"Url\":\"https://www.amazon.com/Universal-Air-Conditioner-EX-10514C/dp/B0722HJNDT/ref=zg_bs_g_15723451_sccl_14/137-2898221-1543558?psc=1\"},{\"Url\":\"https://www.amazon.com/QSERON-Compressor-Control-Solenoid-Corolla/dp/B09M36ZH6H/ref=zg_bs_g_15723451_sccl_15/137-2898221-1543558?psc=1\"},{\"Url\":\"https://www.amazon.com/ACTECmax-Compressor-Control-Nissan-Sentra/dp/B082XRWLPB/ref=zg_bs_g_15723451_sccl_16/137-2898221-1543558?psc=1\"},{\"Url\":\"https://www.amazon.com/GooDeal-Compressor-Control-Solenoid-Freestyle/dp/B01790CY84/ref=zg_bs_g_15723451_sccl_17/137-2898221-1543558?psc=1\"},{\"Url\":\"https://www.amazon.com/QSERON-Compressor-VS18E-Compressor-Electronic-Replacement/dp/B09M2Y9ZL3/ref=zg_bs_g_15723451_sccl_18/137-2898221-1543558?psc=1\"},{\"Url\":\"https://www.amazon.com/AUTOKAY-DCS17EC-Compressor-Control-Valve/dp/B07W54XXC3/ref=zg_bs_g_15723451_sccl_19/137-2898221-1543558?psc=1\"},{\"Url\":\"https://www.amazon.com/WFLNHB-Compressor-Electronic-Control-2011-2014/dp/B081V3XYL1/ref=zg_bs_g_15723451_sccl_20/137-2898221-1543558?psc=1\"},{\"Url\":\"https://www.amazon.com/Wisepick-Compressor-Control-Solenoid-5SEU12C/dp/B01HCUMMSS/ref=zg_bs_g_15723451_sccl_21/137-2898221-1543558?psc=1\"},{\"Url\":\"https://www.amazon.com/waltyotur-Compressor-1K0820803S-1K820859F-Replacement/dp/B0928VGWJN/ref=zg_bs_g_15723451_sccl_22/137-2898221-1543558?psc=1\"},{\"Url\":\"https://www.amazon.com/labwork-Compressor-Electronic-Control-2015-2016/dp/B07Z3MYJ6M/ref=zg_bs_g_15723451_sccl_23/137-2898221-1543558?psc=1\"},{\"Url\":\"https://www.amazon.com/Mercedes-Toyota-Corolla-Compressor-Control/dp/B0B7K57WHD/ref=zg_bs_g_15723451_sccl_24/137-2898221-1543558?psc=1\"},{\"Url\":\"https://www.amazon.com/labwork-Compressor-Control-SENTRA-SANDEN/dp/B07WJ7NXWW/ref=zg_bs_g_15723451_sccl_25/137-2898221-1543558?psc=1\"},{\"Url\":\"https://www.amazon.com/SCITOO-Compressor-Comaptible-2007-2015-Volkswagen/dp/B087N34FRK/ref=zg_bs_g_15723451_sccl_26/137-2898221-1543558?psc=1\"},{\"Url\":\"https://www.amazon.com/Certified-Conditioner-Conversion-Refrigerant-InterDynamics/dp/B002G1UO8E/ref=zg_bs_g_15723451_sccl_27/137-2898221-1543558?psc=1\"},{\"Url\":\"https://www.amazon.com/Universal-Air-Conditioner-EX-10542C/dp/B07114XR5N/ref=zg_bs_g_15723451_sccl_28/137-2898221-1543558?psc=1\"},{\"Url\":\"https://www.amazon.com/AUTOKAY-Compressor-Control-Solenoid-Volkswagen/dp/B01IN0J8GK/ref=zg_bs_g_15723451_sccl_29/137-2898221-1543558?psc=1\"},{\"Url\":\"https://www.amazon.com/labwork-Compressor-2011-2015-Sportage-2010-2015/dp/B083NCSGKG/ref=zg_bs_g_15723451_sccl_30/137-2898221-1543558?psc=1\"},{\"Url\":\"https://www.amazon.com/AUTOHAUX-Compressor-8831002790-2012-2017-2013-2017/dp/B09M8JMZLR/ref=zg_bs_g_15723451_sccl_31/137-2898221-1543558?psc=1\"},{\"Url\":\"https://www.amazon.com/AUTOHAUX-Compressor-Solenoid-Conditioner-Replacement/dp/B09NDQN5NM/ref=zg_bs_g_15723451_sccl_32/137-2898221-1543558?psc=1\"},{\"Url\":\"https://www.amazon.com/Qnbes-Compressor-Control-Compatible-2013-2018/dp/B09B71977F/ref=zg_bs_g_15723451_sccl_33/137-2898221-1543558?psc=1\"},{\"Url\":\"https://www.amazon.com/AUTOHAUX-Condition-Compressor-Control-Solenoid/dp/B09SBF2LTR/ref=zg_bs_g_15723451_sccl_34/137-2898221-1543558?psc=1\"},{\"Url\":\"https://www.amazon.com/WFLNHB-Compressor-Electronic-Control-2015-2016/dp/B0838VQGBW/ref=zg_bs_g_15723451_sccl_35/137-2898221-1543558?psc=1\"},{\"Url\":\"https://www.amazon.com/RKX-Compressor-Control-Solenoid-Compatible/dp/B086XL3HGV/ref=zg_bs_g_15723451_sccl_36/137-2898221-1543558?psc=1\"},{\"Url\":\"https://www.amazon.com/ABSOPRO-Compressor-Solenoid-976742S000-2014-2016/dp/B09ZXK8HR4/ref=zg_bs_g_15723451_sccl_37/137-2898221-1543558?psc=1\"},{\"Url\":\"https://www.amazon.com/Silscvtt-Compressor-Electronic-Replacement-2011-2014/dp/B0BCYLL16V/ref=zg_bs_g_15723451_sccl_38/137-2898221-1543558?psc=1\"},{\"Url\":\"https://www.amazon.com/Dorman-Solutions-917-275-Conditioning-Control/dp/B00YJG5ZII/ref=zg_bs_g_15723451_sccl_39/137-2898221-1543558?psc=1\"},{\"Url\":\"https://www.amazon.com/AUTOHAUX-Compressor-Solenoid-Pressure-Chevrolet/dp/B09M8JRL75/ref=zg_bs_g_15723451_sccl_40/137-2898221-1543558?psc=1\"},{\"Url\":\"https://www.amazon.com/RKX-Compressor-Solenoid-Compatible-Mercedes/dp/B0B9HP9KGF/ref=zg_bs_g_15723451_sccl_41/137-2898221-1543558?psc=1\"},{\"Url\":\"https://www.amazon.com/ACTECmax-Compressor-Control-Solenoid-Replacement/dp/B096VL2PSN/ref=zg_bs_g_15723451_sccl_42/137-2898221-1543558?psc=1\"},{\"Url\":\"https://www.amazon.com/Wisepick-Compressor-Control-Solenoid-VOLKSWAGEN/dp/B01HCUMPXU/ref=zg_bs_g_15723451_sccl_43/137-2898221-1543558?psc=1\"},{\"Url\":\"https://www.amazon.com/cciyu-Compressor-Control-Solenoid-2013-2017/dp/B087N6784Z/ref=zg_bs_g_15723451_sccl_44/137-2898221-1543558?psc=1\"},{\"Url\":\"https://www.amazon.com/SCITOO-Compressor-Solenoid-Comaptible-2012-2017/dp/B087N3KLBP/ref=zg_bs_g_15723451_sccl_45/137-2898221-1543558?psc=1\"},{\"Url\":\"https://www.amazon.com/Compressor-Assembly-Abrasion-Resistance-Devilbiss/dp/B0CDK7B4BJ/ref=zg_bs_g_15723451_sccl_46/137-2898221-1543558?psc=1\"},{\"Url\":\"https://www.amazon.com/QSERON-Compressor-Solenoid-2010-2013-Sportage/dp/B09M2W3JSJ/ref=zg_bs_g_15723451_sccl_47/137-2898221-1543558?psc=1\"},{\"Url\":\"https://www.amazon.com/DEVMO-Compressor-Replacement-compatible-Sportage/dp/B09C4JV8PT/ref=zg_bs_g_15723451_sccl_48/137-2898221-1543558?psc=1\"},{\"Url\":\"https://www.amazon.com/Universal-Air-Conditioner-EX-10489C/dp/B072HG6XGT/ref=zg_bs_g_15723451_sccl_49/137-2898221-1543558?psc=1\"},{\"Url\":\"https://www.amazon.com/cciyu-Compressor-2007-2015-Volkswagen-2006-2009/dp/B087NCLY2Z/ref=zg_bs_g_15723451_sccl_50/137-2898221-1543558?psc=1\"},{\"Url\":\"https://www.amazon.com/RKX-Compressor-Control-Solenoid-6SEU14C/dp/B071RCPPM4/ref=zg_bs_g_15723451_sccl_1/137-2898221-1543558?psc=1\"},{\"Url\":\"https://www.amazon.com/WFLNHB-Compressor-Electronic-Control-2012-2017/dp/B0838VMSLH/ref=zg_bs_g_15723451_sccl_2/137-2898221-1543558?psc=1\"},{\"Url\":\"https://www.amazon.com/Universal-Conditioner-EX-10335C-Compressor/dp/B01BPEN7AO/ref=zg_bs_g_15723451_sccl_3/137-2898221-1543558?psc=1\"},{\"Url\":\"https://www.amazon.com/AUTOHAUX-Condition-Compressor-2007-2011-2009-2011/dp/B09SBJNLY9/ref=zg_bs_g_15723451_sccl_4/137-2898221-1543558?psc=1\"},{\"Url\":\"https://www.amazon.com/QSERON-Compressor-Solenoid-Mercedes-Compatible/dp/B09W98WHC5/ref=zg_bs_g_15723451_sccl_5/137-2898221-1543558?psc=1\"},{\"Url\":\"https://www.amazon.com/CLIMAPARTS-CONTROL-7SB16H-7SBU16H-7SBU16/dp/B07G1QDYLH/ref=zg_bs_g_15723451_sccl_6/137-2898221-1543558?psc=1\"},{\"Url\":\"https://www.amazon.com/Compressor-Control-Solenoid-Beetle-compressor/dp/B015PR2TTC/ref=zg_bs_g_15723451_sccl_7/137-2898221-1543558?psc=1\"},{\"Url\":\"https://www.amazon.com/New-Compressor-Control-Valve-9736C/dp/B07Y42RGPZ/ref=zg_bs_g_15723451_sccl_8/137-2898221-1543558?psc=1\"},{\"Url\":\"https://www.amazon.com/RKX-Compressor-Solenoid-Compatible-compressors/dp/B0BQX39B1L/ref=zg_bs_g_15723451_sccl_9/137-2898221-1543558?psc=1\"},{\"Url\":\"https://www.amazon.com/Metal-Flexible-angle-metal-silver/dp/B00KSFG9HU/ref=zg_bs_g_15723451_sccl_10/137-2898221-1543558?psc=1\"},{\"Url\":\"https://www.amazon.com/RKX-Compressor-Solenoid-replacement-Compatible/dp/B084D77PGR/ref=zg_bs_g_15723451_sccl_11/137-2898221-1543558?psc=1\"},{\"Url\":\"https://www.amazon.com/QSERON-Compressor-Control-Solenoid-1K0820859S/dp/B09M2W1866/ref=zg_bs_g_15723451_sccl_12/137-2898221-1543558?psc=1\"},{\"Url\":\"https://www.amazon.com/Mando-22A1402-Compressor-Control-Replacement/dp/B08WYSPTMP/ref=zg_bs_g_15723451_sccl_13/137-2898221-1543558?psc=1\"},{\"Url\":\"https://www.amazon.com/DeVilbiss-702732-Air-Valve-Assembly/dp/B00GRVDNGO/ref=zg_bs_g_15723451_sccl_14/137-2898221-1543558?psc=1\"},{\"Url\":\"https://www.amazon.com/QSERON-Compressor-Solenoid-2009-2010-Pressure/dp/B09M2L6L91/ref=zg_bs_g_15723451_sccl_15/137-2898221-1543558?psc=1\"},{\"Url\":\"https://www.amazon.com/ACTECmax-Compressor-Control-Solenoid-VOLKSWAGEN/dp/B01EKIISRO/ref=zg_bs_g_15723451_sccl_16/137-2898221-1543558?psc=1\"},{\"Url\":\"https://www.amazon.com/AUTOHAUX-Compressor-Electronic-Solenoid-Mercedes-Benz/dp/B08VF2YNHZ/ref=zg_bs_g_15723451_sccl_17/137-2898221-1543558?psc=1\"},{\"Url\":\"https://www.amazon.com/Compressor-Electronic-Connector-Compatible-Replacement/dp/B0BMZYGKDF/ref=zg_bs_g_15723451_sccl_18/137-2898221-1543558?psc=1\"},{\"Url\":\"https://www.amazon.com/ACTECmax-Compressor-Control-Solenoid-7SEU16C/dp/B08NWTKJJ8/ref=zg_bs_g_15723451_sccl_19/137-2898221-1543558?psc=1\"},{\"Url\":\"https://www.amazon.com/Compressor-Control-Solenoid-Valve-SANDEN/dp/B07GHFVXXT/ref=zg_bs_g_15723451_sccl_20/137-2898221-1543558?psc=1\"},{\"Url\":\"https://www.amazon.com/NewYall-Compressor-Electronic-Control-Valve/dp/B07ZFHLN75/ref=zg_bs_g_15723451_sccl_21/137-2898221-1543558?psc=1\"},{\"Url\":\"https://www.amazon.com/ACDelco-24256861-Professional-Transmission-Control/dp/B005OVLAXQ/ref=zg_bs_g_15723451_sccl_22/137-2898221-1543558?psc=1\"},{\"Url\":\"https://www.amazon.com/labwork-Compressor-Electronic-Control-2012-2017/dp/B07Z66BHKD/ref=zg_bs_g_15723451_sccl_23/137-2898221-1543558?psc=1\"},{\"Url\":\"https://www.amazon.com/QSERON-Compressor-Volkswagen-1K0820803S-1K0820803E/dp/B09M2JT47J/ref=zg_bs_g_15723451_sccl_24/137-2898221-1543558?psc=1\"},{\"Url\":\"https://www.amazon.com/UAC-EX-0853C-Compressor-Control/dp/B00SLKMALS/ref=zg_bs_g_15723451_sccl_25/137-2898221-1543558?psc=1\"},{\"Url\":\"https://www.amazon.com/Unloader-Valve-22-02804-00-Carrier-Compressor/dp/B0BFQV7R67/ref=zg_bs_g_15723451_sccl_26/137-2898221-1543558?psc=1\"},{\"Url\":\"https://www.amazon.com/ACTECmax-Compressor-Control-Solenoid-6SEU16C/dp/B07W5B5GJD/ref=zg_bs_g_15723451_sccl_27/137-2898221-1543558?psc=1\"},{\"Url\":\"https://www.amazon.com/Compressor-Control-Solenoid-Passat-Tiguan/dp/B07HDX6ZJR/ref=zg_bs_g_15723451_sccl_28/137-2898221-1543558?psc=1\"},{\"Url\":\"https://www.amazon.com/Universal-Conditioner-EX-1224C-Compressor/dp/B01BPENN94/ref=zg_bs_g_15723451_sccl_29/137-2898221-1543558?psc=1\"},{\"Url\":\"https://www.amazon.com/Universal-Conditioner-EX-1238C-Compressor/dp/B01BPENQHI/ref=zg_bs_g_15723451_sccl_30/137-2898221-1543558?psc=1\"},{\"Url\":\"https://www.amazon.com/SCITOO-Compressor-Comaptible-2006-2008-Volkswagen/dp/B087N21FF6/ref=zg_bs_g_15723451_sccl_81/137-2898221-1543558?psc=1\"},{\"Url\":\"https://www.amazon.com/ACTECmax-Compressor-Control-Hyundai-Sonata/dp/B082XR26G8/ref=zg_bs_g_15723451_sccl_82/137-2898221-1543558?psc=1\"},{\"Url\":\"https://www.amazon.com/QSERON-Compressor-Replacement-2013-2017-Teana-Valeo/dp/B09M2SLZ5P/ref=zg_bs_g_15723451_sccl_83/137-2898221-1543558?psc=1\"},{\"Url\":\"https://www.amazon.com/RKX-Compressor-Control-Solenoid-Compatible/dp/B08TKJWP24/ref=zg_bs_g_15723451_sccl_84/137-2898221-1543558?psc=1\"},{\"Url\":\"https://www.amazon.com/AUTOHAUX-1K0820803E-Compressor-Volkswagen-2006-2015/dp/B08CGRFH2H/ref=zg_bs_g_15723451_sccl_85/137-2898221-1543558?psc=1\"},{\"Url\":\"https://www.amazon.com/Universal-Conditioner-EX-10333C-Compressor/dp/B01BPEN7XQ/ref=zg_bs_g_15723451_sccl_86/137-2898221-1543558?psc=1\"},{\"Url\":\"https://www.amazon.com/ACTECmax-Compressor-Control-Solenoid-Corolla/dp/B098T2K45T/ref=zg_bs_g_15723451_sccl_87/137-2898221-1543558?psc=1\"},{\"Url\":\"https://www.amazon.com/Conditioning-Compressor-Control-Sensitive-Perfect/dp/B0CBRK5TXV/ref=zg_bs_g_15723451_sccl_88/137-2898221-1543558?psc=1\"},{\"Url\":\"https://www.amazon.com/Universal-Conditioner-EX-10067C-Compressor/dp/B003R3KKPM/ref=zg_bs_g_15723451_sccl_89/137-2898221-1543558?psc=1\"},{\"Url\":\"https://www.amazon.com/Motoforti-Compressor-Control-2010-2011-Plastic/dp/B0BZTVM3XG/ref=zg_bs_g_15723451_sccl_90/137-2898221-1543558?psc=1\"},{\"Url\":\"https://www.amazon.com/Universal-Air-Conditioner-EX-10488C/dp/B0722HJNDS/ref=zg_bs_g_15723451_sccl_91/137-2898221-1543558?psc=1\"},{\"Url\":\"https://www.amazon.com/RKX-Compressor-Solenoid-Replacement-compatible/dp/B08TQMZQP6/ref=zg_bs_g_15723451_sccl_92/137-2898221-1543558?psc=1\"},{\"Url\":\"https://www.amazon.com/RKX-Compressor-Control-Solenoid-compatible/dp/B085RJDVBY/ref=zg_bs_g_15723451_sccl_93/137-2898221-1543558?psc=1\"},{\"Url\":\"https://www.amazon.com/RKX-Mechanical-Compressor-Control-Compatible/dp/B0B44HB6DW/ref=zg_bs_g_15723451_sccl_94/137-2898221-1543558?psc=1\"},{\"Url\":\"https://www.amazon.com/Metal-Flexible-angle-metal-silver/dp/B06XF2Y3S4/ref=zg_bs_g_15723451_sccl_95/137-2898221-1543558?psc=1\"},{\"Url\":\"https://www.amazon.com/Compressor-Control-Connector-Replacement-Compatible/dp/B0CDWSPX8K/ref=zg_bs_g_15723451_sccl_96/137-2898221-1543558?psc=1\"},{\"Url\":\"https://www.amazon.com/Mando-22A1401-Compressor-Control-Replacement/dp/B08WYXLJ77/ref=zg_bs_g_15723451_sccl_97/137-2898221-1543558?psc=1\"},{\"Url\":\"https://www.amazon.com/munirater-Compressor-Control-Replacement-Toyota/dp/B09YRFGY5V/ref=zg_bs_g_15723451_sccl_98/137-2898221-1543558?psc=1\"},{\"Url\":\"https://www.amazon.com/WFLNHB-5SE09C-6SE12C-Control-Compressor/dp/B07XT74DVX/ref=zg_bs_g_15723451_sccl_99/137-2898221-1543558?psc=1\"},{\"Url\":\"https://www.amazon.com/AUTOHAUX-Condition-Compressor-Control-Solenoid/dp/B09SBDWLSH/ref=zg_bs_g_15723451_sccl_100/137-2898221-1543558?psc=1\"}]'"
      ]
     },
     "execution_count": 6,
     "metadata": {},
     "output_type": "execute_result"
    }
   ],
   "source": [
    "pyperclip.copy(data)\n",
    "\n",
    "data"
   ]
  },
  {
   "cell_type": "code",
   "execution_count": null,
   "id": "28a549e4",
   "metadata": {},
   "outputs": [],
   "source": []
  }
 ],
 "metadata": {
  "kernelspec": {
   "display_name": "Python 3 (ipykernel)",
   "language": "python",
   "name": "python3"
  },
  "language_info": {
   "codemirror_mode": {
    "name": "ipython",
    "version": 3
   },
   "file_extension": ".py",
   "mimetype": "text/x-python",
   "name": "python",
   "nbconvert_exporter": "python",
   "pygments_lexer": "ipython3",
   "version": "3.11.5"
  }
 },
 "nbformat": 4,
 "nbformat_minor": 5
}
