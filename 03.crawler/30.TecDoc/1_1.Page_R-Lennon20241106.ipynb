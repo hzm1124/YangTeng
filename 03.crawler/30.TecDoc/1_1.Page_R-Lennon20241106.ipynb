{
 "cells": [
  {
   "cell_type": "code",
   "execution_count": 1,
   "id": "c50268ec-a5e6-45d3-80ea-48ea59fae0e5",
   "metadata": {},
   "outputs": [],
   "source": [
    "import pandas as pd\n",
    "\n",
    "# = = = = = = = = = = = = = = =\n",
    "\n",
    "from urllib.parse import urlparse, parse_qs, urlencode\n",
    "\n",
    "import requests\n",
    "import json\n",
    "\n",
    "import sys\n",
    "sys.path.append('../00.Tools')\n",
    "from crawler_configuration import get_header\n",
    "\n",
    "import time\n",
    "\n",
    "# = = = = = = = = = = = = = = =\n",
    "\n",
    "import math"
   ]
  },
  {
   "cell_type": "code",
   "execution_count": 2,
   "id": "7d25f26a-e26d-4e89-9e1a-1d1e721bd5bd",
   "metadata": {},
   "outputs": [
    {
     "data": {
      "text/plain": [
       "'2BeBXg6KgXfwZr8i2P2L7H5W6ujr4XXcy3fd3LhLaJKGh1SH6VEp'"
      ]
     },
     "execution_count": 2,
     "metadata": {},
     "output_type": "execute_result"
    }
   ],
   "source": [
    "with open('./api.txt', 'r') as api_txt:\n",
    "    api = api_txt.read()\n",
    "\n",
    "api"
   ]
  },
  {
   "cell_type": "code",
   "execution_count": 3,
   "id": "9efc10eb-f9b1-4c5d-906a-fecd87b61c42",
   "metadata": {},
   "outputs": [
    {
     "name": "stdout",
     "output_type": "stream",
     "text": [
      "总数量：2\n",
      "\n"
     ]
    },
    {
     "data": {
      "text/html": [
       "<div>\n",
       "<style scoped>\n",
       "    .dataframe tbody tr th:only-of-type {\n",
       "        vertical-align: middle;\n",
       "    }\n",
       "\n",
       "    .dataframe tbody tr th {\n",
       "        vertical-align: top;\n",
       "    }\n",
       "\n",
       "    .dataframe thead th {\n",
       "        text-align: right;\n",
       "    }\n",
       "</style>\n",
       "<table border=\"1\" class=\"dataframe\">\n",
       "  <thead>\n",
       "    <tr style=\"text-align: right;\">\n",
       "      <th></th>\n",
       "      <th>No</th>\n",
       "      <th>Url</th>\n",
       "    </tr>\n",
       "  </thead>\n",
       "  <tbody>\n",
       "    <tr>\n",
       "      <th>0</th>\n",
       "      <td>1</td>\n",
       "      <td>https://web.tecalliance.net/tecdoc/qa/parts/se...</td>\n",
       "    </tr>\n",
       "    <tr>\n",
       "      <th>1</th>\n",
       "      <td>2</td>\n",
       "      <td>https://web.tecalliance.net/tecdoc/qa/parts/se...</td>\n",
       "    </tr>\n",
       "  </tbody>\n",
       "</table>\n",
       "</div>"
      ],
      "text/plain": [
       "   No                                                Url\n",
       "0   1  https://web.tecalliance.net/tecdoc/qa/parts/se...\n",
       "1   2  https://web.tecalliance.net/tecdoc/qa/parts/se..."
      ]
     },
     "execution_count": 3,
     "metadata": {},
     "output_type": "execute_result"
    }
   ],
   "source": [
    "list_dict_correct, list_series_error, df_input = [], [], pd.read_excel('./file/input.xlsx',\n",
    "                                                                       header=0,\n",
    "                                                                       dtype=str).fillna('')\n",
    "\n",
    "df_input['No'] = df_input['No'].astype(int)\n",
    "\n",
    "count_remain = len(df_input)\n",
    "\n",
    "print(f'总数量：{count_remain}')\n",
    "print()\n",
    "df_input"
   ]
  },
  {
   "cell_type": "code",
   "execution_count": 4,
   "id": "f684bcff-7302-4ea3-8a92-3cb6b5bb097c",
   "metadata": {},
   "outputs": [
    {
     "data": {
      "text/plain": [
       "(0,\n",
       " No                                                     1\n",
       " Url    https://web.tecalliance.net/tecdoc/qa/parts/se...\n",
       " Name: 0, dtype: object)"
      ]
     },
     "execution_count": 4,
     "metadata": {},
     "output_type": "execute_result"
    }
   ],
   "source": [
    "(crawler_index, crawler_series) = next(df_input.iterrows())\n",
    "\n",
    "crawler_index, crawler_series"
   ]
  },
  {
   "cell_type": "code",
   "execution_count": 5,
   "id": "66d5b684-5e94-4e95-9207-b75da57cfca0",
   "metadata": {
    "scrolled": true
   },
   "outputs": [
    {
     "name": "stdout",
     "output_type": "stream",
     "text": [
      "1\n"
     ]
    },
    {
     "data": {
      "text/plain": [
       "<Response [200]>"
      ]
     },
     "execution_count": 5,
     "metadata": {},
     "output_type": "execute_result"
    }
   ],
   "source": [
    "url_parse = urlparse(crawler_series['Url'])\n",
    "\n",
    "dict_param = parse_qs(url_parse.query)\n",
    "\n",
    "data = {'getArticles': {'applyDqmRules': True,\n",
    "                        'articleCountry': 'DE',\n",
    "                        'articleStatusIds': [],\n",
    "                        'criteriaFilters': [],\n",
    "                        'dataSupplierIds': [int(dict_param['brands'][0].strip())],\n",
    "                        'filterQueries': ['(dataSupplierId NOT IN (4978,4982))'],\n",
    "                        'genericArticleIds': [int(dict_param['groups'][0].strip())],\n",
    "                        'includeAccessoryArticles': False,\n",
    "                        'includeAll': False,\n",
    "                        'includeArticleCriteria': True,\n",
    "                        'includeArticleLogisticsCriteria': True,\n",
    "                        'includeArticleStatusFacets': True,\n",
    "                        'includeArticleText': True,\n",
    "                        'includeComparableNumbers': True,\n",
    "                        'includeCriteriaFacets': True,\n",
    "                        'includeDataSupplierFacets': True,\n",
    "                        'includeGTINs': True,\n",
    "                        'includeGenericArticleFacets': True,\n",
    "                        'includeGenericArticles': True,\n",
    "                        'includeImages': True,\n",
    "                        'includeLinkages': True,\n",
    "                        'includeLinks': True,\n",
    "                        'includeMisc': True,\n",
    "                        'includeOEMNumbers': True,\n",
    "                        'includePDFs': True,\n",
    "                        'includePartsListArticles': False,\n",
    "                        'includePrices': True,\n",
    "                        'includeReplacedByArticles': True,\n",
    "                        'includeReplacesArticles': True,\n",
    "                        'includeTradeNumbers': True,\n",
    "                        'lang': 'qa',\n",
    "                        'linkagesPerPage': 100,\n",
    "                        'page': 1,\n",
    "                        'perPage': 1_000,\n",
    "                        'provider': 23365,\n",
    "                        'sort': [{'field': 'articleNumber', 'direction': 'asc'}]}}\n",
    "\n",
    "count_retry = 0\n",
    "while True:\n",
    "    count_retry += 1\n",
    "    print(count_retry)\n",
    "    try:\n",
    "        url_check = f'https://web.tecalliance.net/tecdoc/qa/parts/search?brands={dict_param['brands'][0].strip()}&groups={dict_param['groups'][0].strip()}'\n",
    "\n",
    "        resp = requests.post('https://webservice.tecalliance.services/pegasus-3-0/services/TecdocToCatDLB.jsonEndpoint',\n",
    "                             data=json.dumps(data),\n",
    "                             headers=get_header(**{'x-api-key': api}),\n",
    "                             timeout=(5, 15))\n",
    "\n",
    "        if resp.status_code == 200:\n",
    "            dict_ = resp.json()\n",
    "\n",
    "            if dict_['status'] == 401 and dict_['statusText'].strip() == 'Access not allowed':\n",
    "                print(f'fuck api {api}')\n",
    "                time.sleep(3)\n",
    "                with open('./api.txt', 'r') as api_txt:\n",
    "                    api = api_txt.read()\n",
    "            elif dict_['status'] == 200:\n",
    "                break\n",
    "    except KeyboardInterrupt:\n",
    "        break\n",
    "    except:\n",
    "        time.sleep(3)\n",
    "        continue\n",
    "\n",
    "resp"
   ]
  },
  {
   "cell_type": "code",
   "execution_count": 6,
   "id": "22ae157f-85b0-490a-b77f-2a8ef937b41a",
   "metadata": {},
   "outputs": [
    {
     "data": {
      "text/plain": [
       "658"
      ]
     },
     "execution_count": 6,
     "metadata": {},
     "output_type": "execute_result"
    }
   ],
   "source": [
    "count = dict_['totalMatchingArticles']\n",
    "\n",
    "count"
   ]
  },
  {
   "cell_type": "code",
   "execution_count": 7,
   "id": "c8aa4700-23c1-43b1-ad78-88b57e84bd8f",
   "metadata": {},
   "outputs": [
    {
     "data": {
      "text/plain": [
       "False"
      ]
     },
     "execution_count": 7,
     "metadata": {},
     "output_type": "execute_result"
    }
   ],
   "source": [
    "count <= 0"
   ]
  },
  {
   "cell_type": "code",
   "execution_count": 8,
   "id": "4a7ff806-2a2c-4958-95a6-88064231eb08",
   "metadata": {},
   "outputs": [
    {
     "data": {
      "text/plain": [
       "[{'No': 1,\n",
       "  'Url': 'https://web.tecalliance.net/tecdoc/qa/parts/search?brands=21&groups=298',\n",
       "  'Page': 1}]"
      ]
     },
     "execution_count": 8,
     "metadata": {},
     "output_type": "execute_result"
    }
   ],
   "source": [
    "list_dict_correct.append({'No': crawler_series['No'],\n",
    "                          'Url': url_check,\n",
    "                          'SKU Count': count,\n",
    "                          'Page': math.ceil(count / 1_000)})\n",
    "\n",
    "list_dict_correct"
   ]
  },
  {
   "cell_type": "code",
   "execution_count": 9,
   "id": "e9e00791-247f-46b0-b478-feb894d5b3e4",
   "metadata": {},
   "outputs": [
    {
     "data": {
      "text/plain": [
       "True"
      ]
     },
     "execution_count": 9,
     "metadata": {},
     "output_type": "execute_result"
    }
   ],
   "source": [
    "crawler_status = True\n",
    "\n",
    "crawler_status"
   ]
  },
  {
   "cell_type": "code",
   "execution_count": 10,
   "id": "18a55150-946e-412b-b51a-f8bd10cc3037",
   "metadata": {},
   "outputs": [
    {
     "data": {
      "text/plain": [
       "[No                                                           1\n",
       " Url          https://web.tecalliance.net/tecdoc/qa/parts/se...\n",
       " Check_Url    https://web.tecalliance.net/tecdoc/qa/parts/se...\n",
       " Name: 0, dtype: object]"
      ]
     },
     "execution_count": 10,
     "metadata": {},
     "output_type": "execute_result"
    }
   ],
   "source": [
    "crawler_series['Check_Url'] = url_check\n",
    "\n",
    "list_series_error.append(crawler_series)\n",
    "\n",
    "list_series_error"
   ]
  },
  {
   "cell_type": "code",
   "execution_count": 11,
   "id": "b6c3eefd-9d51-4639-b913-91a415433414",
   "metadata": {},
   "outputs": [
    {
     "data": {
      "text/html": [
       "<div>\n",
       "<style scoped>\n",
       "    .dataframe tbody tr th:only-of-type {\n",
       "        vertical-align: middle;\n",
       "    }\n",
       "\n",
       "    .dataframe tbody tr th {\n",
       "        vertical-align: top;\n",
       "    }\n",
       "\n",
       "    .dataframe thead th {\n",
       "        text-align: right;\n",
       "    }\n",
       "</style>\n",
       "<table border=\"1\" class=\"dataframe\">\n",
       "  <thead>\n",
       "    <tr style=\"text-align: right;\">\n",
       "      <th></th>\n",
       "      <th>No</th>\n",
       "      <th>Url</th>\n",
       "      <th>Page</th>\n",
       "    </tr>\n",
       "  </thead>\n",
       "  <tbody>\n",
       "    <tr>\n",
       "      <th>0</th>\n",
       "      <td>1</td>\n",
       "      <td>https://web.tecalliance.net/tecdoc/qa/parts/se...</td>\n",
       "      <td>1</td>\n",
       "    </tr>\n",
       "  </tbody>\n",
       "</table>\n",
       "</div>"
      ],
      "text/plain": [
       "   No                                                Url  Page\n",
       "0   1  https://web.tecalliance.net/tecdoc/qa/parts/se...     1"
      ]
     },
     "execution_count": 11,
     "metadata": {},
     "output_type": "execute_result"
    }
   ],
   "source": [
    "if list_dict_correct:\n",
    "    df_correct = pd.DataFrame(list_dict_correct).sort_values(by=['No'],\n",
    "                                                             ascending=[True],\n",
    "                                                             ignore_index=True)\n",
    "    df_correct.to_excel('./test_page.xlsx', index=False)\n",
    "\n",
    "df_correct"
   ]
  },
  {
   "cell_type": "code",
   "execution_count": 12,
   "id": "39a5441b-7f69-4812-aad8-7e10a1a24e78",
   "metadata": {},
   "outputs": [
    {
     "data": {
      "text/html": [
       "<div>\n",
       "<style scoped>\n",
       "    .dataframe tbody tr th:only-of-type {\n",
       "        vertical-align: middle;\n",
       "    }\n",
       "\n",
       "    .dataframe tbody tr th {\n",
       "        vertical-align: top;\n",
       "    }\n",
       "\n",
       "    .dataframe thead th {\n",
       "        text-align: right;\n",
       "    }\n",
       "</style>\n",
       "<table border=\"1\" class=\"dataframe\">\n",
       "  <thead>\n",
       "    <tr style=\"text-align: right;\">\n",
       "      <th></th>\n",
       "      <th>No</th>\n",
       "      <th>Url</th>\n",
       "      <th>Check_Url</th>\n",
       "    </tr>\n",
       "  </thead>\n",
       "  <tbody>\n",
       "    <tr>\n",
       "      <th>0</th>\n",
       "      <td>1</td>\n",
       "      <td>https://web.tecalliance.net/tecdoc/qa/parts/se...</td>\n",
       "      <td>https://web.tecalliance.net/tecdoc/qa/parts/se...</td>\n",
       "    </tr>\n",
       "  </tbody>\n",
       "</table>\n",
       "</div>"
      ],
      "text/plain": [
       "   No                                                Url  \\\n",
       "0   1  https://web.tecalliance.net/tecdoc/qa/parts/se...   \n",
       "\n",
       "                                           Check_Url  \n",
       "0  https://web.tecalliance.net/tecdoc/qa/parts/se...  "
      ]
     },
     "execution_count": 12,
     "metadata": {},
     "output_type": "execute_result"
    }
   ],
   "source": [
    "if list_series_error:\n",
    "    df_error = pd.DataFrame(list_series_error).sort_values(by=['No'],\n",
    "                                                           ascending=[True],\n",
    "                                                           ignore_index=True)\n",
    "    df_error.to_excel('./test_page_error.xlsx', index=False)\n",
    "\n",
    "df_error"
   ]
  },
  {
   "cell_type": "code",
   "execution_count": null,
   "id": "a31a202d-21e6-4a6a-8107-95dbbd0cf29b",
   "metadata": {},
   "outputs": [],
   "source": []
  }
 ],
 "metadata": {
  "kernelspec": {
   "display_name": "Python 3 (ipykernel)",
   "language": "python",
   "name": "python3"
  },
  "language_info": {
   "codemirror_mode": {
    "name": "ipython",
    "version": 3
   },
   "file_extension": ".py",
   "mimetype": "text/x-python",
   "name": "python",
   "nbconvert_exporter": "python",
   "pygments_lexer": "ipython3",
   "version": "3.12.7"
  }
 },
 "nbformat": 4,
 "nbformat_minor": 5
}
