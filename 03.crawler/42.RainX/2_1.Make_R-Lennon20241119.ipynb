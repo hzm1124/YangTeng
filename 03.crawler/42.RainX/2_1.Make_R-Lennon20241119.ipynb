{
 "cells": [
  {
   "cell_type": "code",
   "execution_count": 1,
   "id": "28567785-1bca-439f-9042-e39b3255a55b",
   "metadata": {},
   "outputs": [],
   "source": [
    "import pandas as pd\n",
    "\n",
    "# = = = = = = = = = = = = = = =\n",
    "\n",
    "import requests\n",
    "\n",
    "import sys\n",
    "sys.path.append('../00.Tools')\n",
    "from crawler_configuration_oversea import get_header, get_proxy\n",
    "\n",
    "from bs4 import BeautifulSoup\n",
    "from lxml import etree"
   ]
  },
  {
   "cell_type": "code",
   "execution_count": 2,
   "id": "5d22fc26-a390-442a-bfe3-4d409c33f1e7",
   "metadata": {
    "scrolled": true
   },
   "outputs": [
    {
     "name": "stdout",
     "output_type": "stream",
     "text": [
      "总数量：69\n",
      "\n"
     ]
    },
    {
     "data": {
      "text/html": [
       "<div>\n",
       "<style scoped>\n",
       "    .dataframe tbody tr th:only-of-type {\n",
       "        vertical-align: middle;\n",
       "    }\n",
       "\n",
       "    .dataframe tbody tr th {\n",
       "        vertical-align: top;\n",
       "    }\n",
       "\n",
       "    .dataframe thead th {\n",
       "        text-align: right;\n",
       "    }\n",
       "</style>\n",
       "<table border=\"1\" class=\"dataframe\">\n",
       "  <thead>\n",
       "    <tr style=\"text-align: right;\">\n",
       "      <th></th>\n",
       "      <th>Year</th>\n",
       "    </tr>\n",
       "  </thead>\n",
       "  <tbody>\n",
       "    <tr>\n",
       "      <th>0</th>\n",
       "      <td>2025</td>\n",
       "    </tr>\n",
       "    <tr>\n",
       "      <th>1</th>\n",
       "      <td>2024</td>\n",
       "    </tr>\n",
       "    <tr>\n",
       "      <th>2</th>\n",
       "      <td>2023</td>\n",
       "    </tr>\n",
       "    <tr>\n",
       "      <th>3</th>\n",
       "      <td>2022</td>\n",
       "    </tr>\n",
       "    <tr>\n",
       "      <th>4</th>\n",
       "      <td>2021</td>\n",
       "    </tr>\n",
       "    <tr>\n",
       "      <th>...</th>\n",
       "      <td>...</td>\n",
       "    </tr>\n",
       "    <tr>\n",
       "      <th>64</th>\n",
       "      <td>1961</td>\n",
       "    </tr>\n",
       "    <tr>\n",
       "      <th>65</th>\n",
       "      <td>1960</td>\n",
       "    </tr>\n",
       "    <tr>\n",
       "      <th>66</th>\n",
       "      <td>1959</td>\n",
       "    </tr>\n",
       "    <tr>\n",
       "      <th>67</th>\n",
       "      <td>1958</td>\n",
       "    </tr>\n",
       "    <tr>\n",
       "      <th>68</th>\n",
       "      <td>1957</td>\n",
       "    </tr>\n",
       "  </tbody>\n",
       "</table>\n",
       "<p>69 rows × 1 columns</p>\n",
       "</div>"
      ],
      "text/plain": [
       "    Year\n",
       "0   2025\n",
       "1   2024\n",
       "2   2023\n",
       "3   2022\n",
       "4   2021\n",
       "..   ...\n",
       "64  1961\n",
       "65  1960\n",
       "66  1959\n",
       "67  1958\n",
       "68  1957\n",
       "\n",
       "[69 rows x 1 columns]"
      ]
     },
     "execution_count": 2,
     "metadata": {},
     "output_type": "execute_result"
    }
   ],
   "source": [
    "list_dict_correct, list_series_error, df_input = [], [], pd.read_excel('./file/1.year.xlsx',\n",
    "                                                                       header=0,\n",
    "                                                                       dtype=str).fillna('')\n",
    "\n",
    "df_input['Year'] = df_input['Year'].astype(int)\n",
    "\n",
    "count_remain = len(df_input)\n",
    "\n",
    "print(f'总数量：{count_remain}')\n",
    "print()\n",
    "df_input"
   ]
  },
  {
   "cell_type": "code",
   "execution_count": 3,
   "id": "5878a9f0-d639-4123-b6e0-bc564f72c2d6",
   "metadata": {},
   "outputs": [
    {
     "data": {
      "text/plain": [
       "(False,\n",
       " 0,\n",
       " Year    2025\n",
       " Name: 0, dtype: int64)"
      ]
     },
     "execution_count": 3,
     "metadata": {},
     "output_type": "execute_result"
    }
   ],
   "source": [
    "crawler_status, (crawler_index, crawler_series) = False, next(df_input.iterrows())\n",
    "\n",
    "crawler_status, crawler_index, crawler_series"
   ]
  },
  {
   "cell_type": "code",
   "execution_count": 4,
   "id": "ad99bc86-6e80-4fcf-8200-736dc5101097",
   "metadata": {
    "scrolled": true
   },
   "outputs": [
    {
     "name": "stdout",
     "output_type": "stream",
     "text": [
      "1\n",
      "<html>\n",
      " <body>\n",
      "  <option value=\"\">\n",
      "   Make\n",
      "  </option>\n",
      "  <option value=\"Cadillac\">\n",
      "   Cadillac\n",
      "  </option>\n",
      "  <option value=\"INFINITI\">\n",
      "   INFINITI\n",
      "  </option>\n",
      "  <option value=\"Toyota\">\n",
      "   Toyota\n",
      "  </option>\n",
      "  0\n",
      " </body>\n",
      "</html>\n",
      "\n"
     ]
    }
   ],
   "source": [
    "import time\n",
    "\n",
    "data = {'action': 'bf_ajax_hook',\n",
    "        'type': 'make',\n",
    "        'c_year': crawler_series['Year']}\n",
    "\n",
    "count_retry = 0\n",
    "while True:\n",
    "    count_retry += 1\n",
    "    print(count_retry)\n",
    "    try:\n",
    "        url_check = 'https://www.rainx.com/'\n",
    "\n",
    "        resp = requests.post('https://www.rainx.com/wp-admin/admin-ajax.php',\n",
    "                             data=data,\n",
    "                             headers=get_header(),\n",
    "                             proxies=get_proxy(),\n",
    "                             timeout=(5, 15))\n",
    "\n",
    "        if resp.status_code == 200:\n",
    "            soup = BeautifulSoup(resp.text, 'lxml')\n",
    "            html = etree.HTML(str(soup))\n",
    "\n",
    "            with open('./make.html', 'w', encoding='UTF-8') as file:\n",
    "                file.write(str(soup))\n",
    "\n",
    "            if html.xpath('//option/text()')[0].strip() == 'Make':\n",
    "                break\n",
    "    except KeyboardInterrupt:\n",
    "        break\n",
    "    except:\n",
    "        time.sleep(3)\n",
    "        continue\n",
    "\n",
    "print(soup.prettify())"
   ]
  },
  {
   "cell_type": "code",
   "execution_count": 5,
   "id": "f933a1ab-8825-469f-91db-99d00e8d5c6d",
   "metadata": {
    "scrolled": true
   },
   "outputs": [
    {
     "data": {
      "text/plain": [
       "['Cadillac', 'INFINITI', 'Toyota']"
      ]
     },
     "execution_count": 5,
     "metadata": {},
     "output_type": "execute_result"
    }
   ],
   "source": [
    "list_make = [text for text in html.xpath('//option/text()')[1:]]\n",
    "\n",
    "list_make"
   ]
  },
  {
   "cell_type": "code",
   "execution_count": 6,
   "id": "76f349de-bb10-406d-a214-dfad8cb21bc8",
   "metadata": {},
   "outputs": [
    {
     "data": {
      "text/plain": [
       "[{'Year': np.int64(2025), 'Make No': 1, 'Make': 'Cadillac'},\n",
       " {'Year': np.int64(2025), 'Make No': 2, 'Make': 'INFINITI'},\n",
       " {'Year': np.int64(2025), 'Make No': 3, 'Make': 'Toyota'}]"
      ]
     },
     "execution_count": 6,
     "metadata": {},
     "output_type": "execute_result"
    }
   ],
   "source": [
    "list_dict_correct.extend([{'Year': crawler_series['Year'],\n",
    "                           'Make No': i + 1,\n",
    "                           'Make': make} for i, make in enumerate(list_make)])\n",
    "\n",
    "list_dict_correct"
   ]
  },
  {
   "cell_type": "code",
   "execution_count": 7,
   "id": "fc4ed7f6-ed4f-431c-b944-b1690309cdae",
   "metadata": {},
   "outputs": [
    {
     "data": {
      "text/plain": [
       "True"
      ]
     },
     "execution_count": 7,
     "metadata": {},
     "output_type": "execute_result"
    }
   ],
   "source": [
    "crawler_status = True\n",
    "\n",
    "crawler_status"
   ]
  },
  {
   "cell_type": "code",
   "execution_count": 8,
   "id": "65c745d1-446e-46c5-9dec-819c9f7944d3",
   "metadata": {},
   "outputs": [
    {
     "data": {
      "text/plain": [
       "[Year                           2025\n",
       " Check_Url    https://www.rainx.com/\n",
       " Name: 0, dtype: object]"
      ]
     },
     "execution_count": 8,
     "metadata": {},
     "output_type": "execute_result"
    }
   ],
   "source": [
    "crawler_series['Check_Url'] = url_check\n",
    "\n",
    "list_series_error.append(crawler_series)\n",
    "\n",
    "list_series_error"
   ]
  },
  {
   "cell_type": "code",
   "execution_count": 9,
   "id": "62de3d88-652d-4069-b2b9-cd58bb959632",
   "metadata": {},
   "outputs": [
    {
     "data": {
      "text/html": [
       "<div>\n",
       "<style scoped>\n",
       "    .dataframe tbody tr th:only-of-type {\n",
       "        vertical-align: middle;\n",
       "    }\n",
       "\n",
       "    .dataframe tbody tr th {\n",
       "        vertical-align: top;\n",
       "    }\n",
       "\n",
       "    .dataframe thead th {\n",
       "        text-align: right;\n",
       "    }\n",
       "</style>\n",
       "<table border=\"1\" class=\"dataframe\">\n",
       "  <thead>\n",
       "    <tr style=\"text-align: right;\">\n",
       "      <th></th>\n",
       "      <th>Year</th>\n",
       "      <th>Make No</th>\n",
       "      <th>Make</th>\n",
       "    </tr>\n",
       "  </thead>\n",
       "  <tbody>\n",
       "    <tr>\n",
       "      <th>0</th>\n",
       "      <td>2025</td>\n",
       "      <td>1</td>\n",
       "      <td>Cadillac</td>\n",
       "    </tr>\n",
       "    <tr>\n",
       "      <th>1</th>\n",
       "      <td>2025</td>\n",
       "      <td>2</td>\n",
       "      <td>INFINITI</td>\n",
       "    </tr>\n",
       "    <tr>\n",
       "      <th>2</th>\n",
       "      <td>2025</td>\n",
       "      <td>3</td>\n",
       "      <td>Toyota</td>\n",
       "    </tr>\n",
       "  </tbody>\n",
       "</table>\n",
       "</div>"
      ],
      "text/plain": [
       "   Year  Make No      Make\n",
       "0  2025        1  Cadillac\n",
       "1  2025        2  INFINITI\n",
       "2  2025        3    Toyota"
      ]
     },
     "execution_count": 9,
     "metadata": {},
     "output_type": "execute_result"
    }
   ],
   "source": [
    "if list_dict_correct:\n",
    "    df_correct = pd.DataFrame(list_dict_correct).sort_values(by=['Year', 'Make No'],\n",
    "                                                             ascending=[False, True],\n",
    "                                                             ignore_index=True)\n",
    "    df_correct.to_excel('./test_make.xlsx', index=False)\n",
    "\n",
    "df_correct"
   ]
  },
  {
   "cell_type": "code",
   "execution_count": 10,
   "id": "b21c3fac-203a-4c6e-b7ae-b0ac1a112665",
   "metadata": {},
   "outputs": [
    {
     "data": {
      "text/html": [
       "<div>\n",
       "<style scoped>\n",
       "    .dataframe tbody tr th:only-of-type {\n",
       "        vertical-align: middle;\n",
       "    }\n",
       "\n",
       "    .dataframe tbody tr th {\n",
       "        vertical-align: top;\n",
       "    }\n",
       "\n",
       "    .dataframe thead th {\n",
       "        text-align: right;\n",
       "    }\n",
       "</style>\n",
       "<table border=\"1\" class=\"dataframe\">\n",
       "  <thead>\n",
       "    <tr style=\"text-align: right;\">\n",
       "      <th></th>\n",
       "      <th>Year</th>\n",
       "      <th>Check_Url</th>\n",
       "    </tr>\n",
       "  </thead>\n",
       "  <tbody>\n",
       "    <tr>\n",
       "      <th>0</th>\n",
       "      <td>2025</td>\n",
       "      <td>https://www.rainx.com/</td>\n",
       "    </tr>\n",
       "  </tbody>\n",
       "</table>\n",
       "</div>"
      ],
      "text/plain": [
       "   Year               Check_Url\n",
       "0  2025  https://www.rainx.com/"
      ]
     },
     "execution_count": 10,
     "metadata": {},
     "output_type": "execute_result"
    }
   ],
   "source": [
    "if list_series_error:\n",
    "    df_error = pd.DataFrame(list_series_error).sort_values(by=['Year'],\n",
    "                                                           ascending=[False],\n",
    "                                                           ignore_index=True)\n",
    "    df_error.to_excel('./test_make_error.xlsx', index=False)\n",
    "\n",
    "df_error"
   ]
  },
  {
   "cell_type": "code",
   "execution_count": null,
   "id": "ba5d9f77-7464-4ad5-a42b-1fa0c0505832",
   "metadata": {},
   "outputs": [],
   "source": []
  }
 ],
 "metadata": {
  "kernelspec": {
   "display_name": "Python 3 (ipykernel)",
   "language": "python",
   "name": "python3"
  },
  "language_info": {
   "codemirror_mode": {
    "name": "ipython",
    "version": 3
   },
   "file_extension": ".py",
   "mimetype": "text/x-python",
   "name": "python",
   "nbconvert_exporter": "python",
   "pygments_lexer": "ipython3",
   "version": "3.12.7"
  }
 },
 "nbformat": 4,
 "nbformat_minor": 5
}
