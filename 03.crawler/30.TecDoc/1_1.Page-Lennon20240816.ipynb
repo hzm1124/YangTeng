{
 "cells": [
  {
   "cell_type": "code",
   "execution_count": 1,
   "id": "241ca2a8-6f62-493e-aae2-224c58b35d5b",
   "metadata": {},
   "outputs": [
    {
     "name": "stdout",
     "output_type": "stream",
     "text": [
      "1\n"
     ]
    },
    {
     "data": {
      "text/plain": [
       "'2BeBXg69osbuG45Rjtv1wLEnHL3nuT3WTPto2C3dW65fAmyAFsoa'"
      ]
     },
     "execution_count": 1,
     "metadata": {},
     "output_type": "execute_result"
    }
   ],
   "source": [
    "import requests\n",
    "import json\n",
    "\n",
    "import sys\n",
    "sys.path.append('../00.Tools')\n",
    "from crawler_configuration import get_header, get_proxy\n",
    "\n",
    "data = {'getAPIKeyForUser': {'catalog': 'tecdocsw',\n",
    "                             'username': '186299u15',\n",
    "                             'password': 'APMTeDoW14'}}\n",
    "\n",
    "b = 0\n",
    "while True:\n",
    "    b += 1\n",
    "    print(b)\n",
    "    try:\n",
    "        resp = requests.post('https://webservice.tecalliance.services/webcat30/v1/services/WebCat30WS.jsonEndpoint',\n",
    "                             data=json.dumps(data),\n",
    "                             headers=get_header(),\n",
    "                             #proxies=get_proxy(),\n",
    "                             timeout=(10, 10))\n",
    "\n",
    "        if resp.status_code == 200:\n",
    "            json_ = resp.json()\n",
    "\n",
    "            if json_['status'] == 200:\n",
    "                key = json_['apiKey']\n",
    "                break\n",
    "    except KeyboardInterrupt:\n",
    "        break\n",
    "    except:\n",
    "        continue\n",
    "\n",
    "key"
   ]
  },
  {
   "cell_type": "code",
   "execution_count": 2,
   "id": "b6805c52-ea07-44ad-a102-8936351bfb00",
   "metadata": {},
   "outputs": [],
   "source": [
    "import pandas as pd\n",
    "\n",
    "output_correct, output_error = pd.DataFrame(), pd.DataFrame()"
   ]
  },
  {
   "cell_type": "code",
   "execution_count": 3,
   "id": "c3846624-c4bb-4d86-98b0-19bf2a9e19fe",
   "metadata": {},
   "outputs": [
    {
     "name": "stdout",
     "output_type": "stream",
     "text": [
      "总数量：2\n"
     ]
    },
    {
     "data": {
      "text/plain": [
       "[1, 2]"
      ]
     },
     "execution_count": 3,
     "metadata": {},
     "output_type": "execute_result"
    }
   ],
   "source": [
    "input_ = pd.read_excel('./file/input.xlsx',\n",
    "                       header=0,\n",
    "                       dtype=str).fillna('')\n",
    "\n",
    "input_['No'] = input_['No'].astype(int)\n",
    "\n",
    "print(f'总数量：{len(input_)}')\n",
    "input_['No'].tolist()"
   ]
  },
  {
   "cell_type": "code",
   "execution_count": 4,
   "id": "f065d8a1-6f16-4fa1-9311-1bc34b72797b",
   "metadata": {},
   "outputs": [
    {
     "data": {
      "text/plain": [
       "0"
      ]
     },
     "execution_count": 4,
     "metadata": {},
     "output_type": "execute_result"
    }
   ],
   "source": [
    "a = 0\n",
    "\n",
    "a"
   ]
  },
  {
   "cell_type": "code",
   "execution_count": 5,
   "id": "46e5f9d2-661d-48d0-8d46-8ceb3186a047",
   "metadata": {},
   "outputs": [
    {
     "data": {
      "text/plain": [
       "'error'"
      ]
     },
     "execution_count": 5,
     "metadata": {},
     "output_type": "execute_result"
    }
   ],
   "source": [
    "crawler_status = 'error'\n",
    "\n",
    "crawler_status"
   ]
  },
  {
   "cell_type": "code",
   "execution_count": 6,
   "id": "33bbc3d5-5d32-4e79-800c-82cc9f0056a1",
   "metadata": {},
   "outputs": [
    {
     "name": "stdout",
     "output_type": "stream",
     "text": [
      "1\n"
     ]
    },
    {
     "data": {
      "text/plain": [
       "<Response [200]>"
      ]
     },
     "execution_count": 6,
     "metadata": {},
     "output_type": "execute_result"
    }
   ],
   "source": [
    "url = input_.loc[a, 'Url']\n",
    "\n",
    "dict_param = {}\n",
    "list_param = url.split('#@')[0].split('?')[1].split('&') if '?' in url else []\n",
    "for param in list_param:\n",
    "    dict_param[param.split('=')[0]] = param.split('=')[1]\n",
    "\n",
    "data = {'getArticles': {'articleCountry': 'DE',\n",
    "                        'articleStatusIds': [],\n",
    "                        'criteriaFilters': [],\n",
    "                        'dataSupplierIds': [int(dict_param['brands'])],\n",
    "                        'filterQueries':  ['(dataSupplierId NOT IN (4978,4982))'],\n",
    "                        'genericArticleIds': [int(dict_param['groups'])],\n",
    "                        'includeAccessoryArticles': False,\n",
    "                        'includeAll': False,\n",
    "                        'includeArticleCriteria': True,\n",
    "                        'includeArticleLogisticsCriteria': True,\n",
    "                        'includeArticleStatusFacets': True,\n",
    "                        'includeArticleText': True,\n",
    "                        'includeComparableNumbers': True,\n",
    "                        'includeCriteriaFacets': True,\n",
    "                        'includeDataSupplierFacets': True,\n",
    "                        'includeGTINs': True,\n",
    "                        'includeGenericArticleFacets': True,\n",
    "                        'includePartsListArticles': False,\n",
    "                        'includeImages': True,\n",
    "                        'includeLinkages': True,\n",
    "                        'includeLinks': True,\n",
    "                        'includeMisc': True,\n",
    "                        'includeOEMNumbers': True,\n",
    "                        'includePDFs': True,\n",
    "                        'includePartsListArticles': False,\n",
    "                        'includePrices': False,\n",
    "                        'includeReplacedByArticles': True,\n",
    "                        'includeReplacesArticles': True,\n",
    "                        'includeTradeNumbers': True,\n",
    "                        'lang': 'en',\n",
    "                        'linkagesPerPage': 100,\n",
    "                        'page': 1,\n",
    "                        'perPage': 1_000,\n",
    "                        'provider': 40_000,\n",
    "                        'sort': [{'field': 'articleNumber', 'direction': 'asc'}]}}\n",
    "\n",
    "b = 0\n",
    "while True:\n",
    "    b += 1\n",
    "    print(b)\n",
    "    try:\n",
    "        resp = requests.post('https://webservice.tecalliance.services/pegasus-3-0/services/TecdocToCatDLB.jsonEndpoint',\n",
    "                             data=json.dumps(data),\n",
    "                             headers=get_header(**{'x-api-key': key}),\n",
    "                             #proxies=get_proxy(),\n",
    "                             timeout=(10, 10))\n",
    "\n",
    "        if resp.status_code == 200:\n",
    "            json_ = resp.json()\n",
    "\n",
    "            if json_['status'] == 401 and json_['statusText'].strip() == 'Access not allowed':\n",
    "                while True:\n",
    "                    try:\n",
    "                        data = {'getAPIKeyForUser': {'catalog': 'tecdocsw',\n",
    "                                                     'username': '186299u15',\n",
    "                                                     'password': 'APMTeDoW14'}}\n",
    "                        \n",
    "                        resp = requests.post('https://webservice.tecalliance.services/webcat30/v1/services/WebCat30WS.jsonEndpoint',\n",
    "                                             data=json.dumps(data),\n",
    "                                             headers=get_header(),\n",
    "                                             #proxies=get_proxy(),\n",
    "                                             timeout=(10, 10))\n",
    "                \n",
    "                        if resp.status_code == 200:\n",
    "                            json_ = resp.json()\n",
    "                \n",
    "                            if json_['status'] == 200:\n",
    "                                key = json_['apiKey']\n",
    "                                break\n",
    "                    except KeyboardInterrupt:\n",
    "                        break\n",
    "                    except:\n",
    "                        continue\n",
    "            elif json_['status'] == 200:\n",
    "                break\n",
    "    except KeyboardInterrupt:\n",
    "        break\n",
    "    except:\n",
    "        continue\n",
    "\n",
    "resp"
   ]
  },
  {
   "cell_type": "code",
   "execution_count": 7,
   "id": "678465f1-fda2-4ef4-b34d-b22efa879b72",
   "metadata": {
    "scrolled": true
   },
   "outputs": [
    {
     "data": {
      "text/plain": [
       "1900"
      ]
     },
     "execution_count": 7,
     "metadata": {},
     "output_type": "execute_result"
    }
   ],
   "source": [
    "count = json_['totalMatchingArticles']\n",
    "\n",
    "count"
   ]
  },
  {
   "cell_type": "code",
   "execution_count": 8,
   "id": "d7e3c164-078a-4561-a77d-38a2e8637b02",
   "metadata": {},
   "outputs": [
    {
     "data": {
      "text/plain": [
       "False"
      ]
     },
     "execution_count": 8,
     "metadata": {},
     "output_type": "execute_result"
    }
   ],
   "source": [
    "count <= 0"
   ]
  },
  {
   "cell_type": "code",
   "execution_count": 9,
   "id": "762ab173-92c9-42d4-b819-41ab7f5bf36c",
   "metadata": {},
   "outputs": [
    {
     "data": {
      "text/html": [
       "<div>\n",
       "<style scoped>\n",
       "    .dataframe tbody tr th:only-of-type {\n",
       "        vertical-align: middle;\n",
       "    }\n",
       "\n",
       "    .dataframe tbody tr th {\n",
       "        vertical-align: top;\n",
       "    }\n",
       "\n",
       "    .dataframe thead th {\n",
       "        text-align: right;\n",
       "    }\n",
       "</style>\n",
       "<table border=\"1\" class=\"dataframe\">\n",
       "  <thead>\n",
       "    <tr style=\"text-align: right;\">\n",
       "      <th></th>\n",
       "      <th>No</th>\n",
       "      <th>Url</th>\n",
       "      <th>SKU Count</th>\n",
       "      <th>Page</th>\n",
       "    </tr>\n",
       "  </thead>\n",
       "  <tbody>\n",
       "    <tr>\n",
       "      <th>0</th>\n",
       "      <td>1</td>\n",
       "      <td>https://web.tecalliance.net/tecdocsw/en/parts/...</td>\n",
       "      <td>1900</td>\n",
       "      <td>2</td>\n",
       "    </tr>\n",
       "  </tbody>\n",
       "</table>\n",
       "</div>"
      ],
      "text/plain": [
       "   No                                                Url  SKU Count  Page\n",
       "0   1  https://web.tecalliance.net/tecdocsw/en/parts/...       1900     2"
      ]
     },
     "execution_count": 9,
     "metadata": {},
     "output_type": "execute_result"
    }
   ],
   "source": [
    "import math\n",
    "\n",
    "df_temp = pd.DataFrame([{'No': input_.loc[a, 'No'],\n",
    "                         'Url': f'''https://web.tecalliance.net/tecdocsw/en/parts/search?brands={int(dict_param['brands'])}&groups={int(dict_param['groups'])}''',\n",
    "                         'SKU Count': count,\n",
    "                         'Page': math.ceil(count / 1_000)}])\n",
    "\n",
    "output_correct = pd.concat([output_correct, df_temp], ignore_index=True).fillna('')\n",
    "\n",
    "output_correct"
   ]
  },
  {
   "cell_type": "code",
   "execution_count": 10,
   "id": "48e221df-8cff-4986-8557-c63a323c9af0",
   "metadata": {},
   "outputs": [
    {
     "data": {
      "text/plain": [
       "'ok'"
      ]
     },
     "execution_count": 10,
     "metadata": {},
     "output_type": "execute_result"
    }
   ],
   "source": [
    "crawler_status = 'ok'\n",
    "\n",
    "crawler_status"
   ]
  },
  {
   "cell_type": "code",
   "execution_count": 11,
   "id": "53813be9-26d9-4d84-bdf2-9cac0e0b8be2",
   "metadata": {},
   "outputs": [
    {
     "data": {
      "text/html": [
       "<div>\n",
       "<style scoped>\n",
       "    .dataframe tbody tr th:only-of-type {\n",
       "        vertical-align: middle;\n",
       "    }\n",
       "\n",
       "    .dataframe tbody tr th {\n",
       "        vertical-align: top;\n",
       "    }\n",
       "\n",
       "    .dataframe thead th {\n",
       "        text-align: right;\n",
       "    }\n",
       "</style>\n",
       "<table border=\"1\" class=\"dataframe\">\n",
       "  <thead>\n",
       "    <tr style=\"text-align: right;\">\n",
       "      <th></th>\n",
       "    </tr>\n",
       "  </thead>\n",
       "  <tbody>\n",
       "  </tbody>\n",
       "</table>\n",
       "</div>"
      ],
      "text/plain": [
       "Empty DataFrame\n",
       "Columns: []\n",
       "Index: []"
      ]
     },
     "execution_count": 11,
     "metadata": {},
     "output_type": "execute_result"
    }
   ],
   "source": [
    "if crawler_status == 'error':\n",
    "    output_error = pd.concat([output_error, pd.DataFrame([input_.iloc[a]]).reset_index(drop=True)], ignore_index=True).fillna('')\n",
    "\n",
    "output_error"
   ]
  },
  {
   "cell_type": "code",
   "execution_count": 12,
   "id": "7d5d0219-0e55-47db-b68d-ae54324a5e77",
   "metadata": {
    "scrolled": true
   },
   "outputs": [
    {
     "data": {
      "text/html": [
       "<div>\n",
       "<style scoped>\n",
       "    .dataframe tbody tr th:only-of-type {\n",
       "        vertical-align: middle;\n",
       "    }\n",
       "\n",
       "    .dataframe tbody tr th {\n",
       "        vertical-align: top;\n",
       "    }\n",
       "\n",
       "    .dataframe thead th {\n",
       "        text-align: right;\n",
       "    }\n",
       "</style>\n",
       "<table border=\"1\" class=\"dataframe\">\n",
       "  <thead>\n",
       "    <tr style=\"text-align: right;\">\n",
       "      <th></th>\n",
       "      <th>No</th>\n",
       "      <th>Url</th>\n",
       "      <th>SKU Count</th>\n",
       "      <th>Page</th>\n",
       "    </tr>\n",
       "  </thead>\n",
       "  <tbody>\n",
       "    <tr>\n",
       "      <th>0</th>\n",
       "      <td>1</td>\n",
       "      <td>https://web.tecalliance.net/tecdocsw/en/parts/...</td>\n",
       "      <td>1900</td>\n",
       "      <td>2</td>\n",
       "    </tr>\n",
       "  </tbody>\n",
       "</table>\n",
       "</div>"
      ],
      "text/plain": [
       "   No                                                Url  SKU Count  Page\n",
       "0   1  https://web.tecalliance.net/tecdocsw/en/parts/...       1900     2"
      ]
     },
     "execution_count": 12,
     "metadata": {},
     "output_type": "execute_result"
    }
   ],
   "source": [
    "if not output_correct.empty:\n",
    "    output_correct = output_correct.sort_values(by=['No'],\n",
    "                                                ascending=[True],\n",
    "                                                ignore_index=True)\n",
    "    output_correct.to_excel('./test_page.xlsx', index=False)\n",
    "\n",
    "output_correct"
   ]
  },
  {
   "cell_type": "code",
   "execution_count": 13,
   "id": "108fd0bd-7705-495d-8483-fd6f429e5324",
   "metadata": {},
   "outputs": [
    {
     "data": {
      "text/html": [
       "<div>\n",
       "<style scoped>\n",
       "    .dataframe tbody tr th:only-of-type {\n",
       "        vertical-align: middle;\n",
       "    }\n",
       "\n",
       "    .dataframe tbody tr th {\n",
       "        vertical-align: top;\n",
       "    }\n",
       "\n",
       "    .dataframe thead th {\n",
       "        text-align: right;\n",
       "    }\n",
       "</style>\n",
       "<table border=\"1\" class=\"dataframe\">\n",
       "  <thead>\n",
       "    <tr style=\"text-align: right;\">\n",
       "      <th></th>\n",
       "    </tr>\n",
       "  </thead>\n",
       "  <tbody>\n",
       "  </tbody>\n",
       "</table>\n",
       "</div>"
      ],
      "text/plain": [
       "Empty DataFrame\n",
       "Columns: []\n",
       "Index: []"
      ]
     },
     "execution_count": 13,
     "metadata": {},
     "output_type": "execute_result"
    }
   ],
   "source": [
    "if not output_error.empty:\n",
    "    output_error = output_error.sort_values(by=['No'],\n",
    "                                            ascending=[True],\n",
    "                                            ignore_index=True)\n",
    "    output_error.to_excel('./test_page_error.xlsx', index=False)\n",
    "\n",
    "output_error"
   ]
  },
  {
   "cell_type": "code",
   "execution_count": null,
   "id": "08165d9b-e0ac-40c6-b372-8728a759a163",
   "metadata": {},
   "outputs": [],
   "source": []
  }
 ],
 "metadata": {
  "kernelspec": {
   "display_name": "Python 3 (ipykernel)",
   "language": "python",
   "name": "python3"
  },
  "language_info": {
   "codemirror_mode": {
    "name": "ipython",
    "version": 3
   },
   "file_extension": ".py",
   "mimetype": "text/x-python",
   "name": "python",
   "nbconvert_exporter": "python",
   "pygments_lexer": "ipython3",
   "version": "3.11.3"
  }
 },
 "nbformat": 4,
 "nbformat_minor": 5
}
