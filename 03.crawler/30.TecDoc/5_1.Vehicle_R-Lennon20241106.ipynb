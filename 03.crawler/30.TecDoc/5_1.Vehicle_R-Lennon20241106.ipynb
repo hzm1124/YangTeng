{
 "cells": [
  {
   "cell_type": "code",
   "execution_count": 1,
   "id": "c50268ec-a5e6-45d3-80ea-48ea59fae0e5",
   "metadata": {},
   "outputs": [],
   "source": [
    "import os\n",
    "\n",
    "# = = = = = = = = = = = = = = =\n",
    "\n",
    "import pandas as pd\n",
    "\n",
    "# = = = = = = = = = = = = = = =\n",
    "\n",
    "import requests\n",
    "import json\n",
    "\n",
    "import sys\n",
    "sys.path.append('../00.Tools')\n",
    "from crawler_configuration import get_header\n",
    "\n",
    "import time"
   ]
  },
  {
   "cell_type": "code",
   "execution_count": 2,
   "id": "5dcc1a26-5e1b-406b-8aac-47735d7fbdd3",
   "metadata": {},
   "outputs": [
    {
     "data": {
      "text/plain": [
       "'2BeBXg6KgXfwZr8i2P2L7H5W6ujr4XXcy3hTGWmJADw69bQB1Z2J'"
      ]
     },
     "execution_count": 2,
     "metadata": {},
     "output_type": "execute_result"
    }
   ],
   "source": [
    "with open('./api.txt', 'r') as api_txt:\n",
    "    api = api_txt.read()\n",
    "\n",
    "api"
   ]
  },
  {
   "cell_type": "code",
   "execution_count": 3,
   "id": "966f8745-c430-472b-b0bc-5689f2505a19",
   "metadata": {},
   "outputs": [
    {
     "data": {
      "text/plain": [
       "'crawler_1.xlsx'"
      ]
     },
     "execution_count": 3,
     "metadata": {},
     "output_type": "execute_result"
    }
   ],
   "source": [
    "directory_in = './file/4.link'\n",
    "\n",
    "list_file = [file for file in sorted(os.listdir(directory_in)) if file not in ['.DS_Store'] and os.path.isfile(f'{directory_in}/{file}')]\n",
    "file = list_file[0]\n",
    "\n",
    "file"
   ]
  },
  {
   "cell_type": "code",
   "execution_count": 4,
   "id": "9efc10eb-f9b1-4c5d-906a-fecd87b61c42",
   "metadata": {
    "scrolled": true
   },
   "outputs": [
    {
     "name": "stdout",
     "output_type": "stream",
     "text": [
      "总数量：14548\n",
      "\n"
     ]
    },
    {
     "data": {
      "text/html": [
       "<div>\n",
       "<style scoped>\n",
       "    .dataframe tbody tr th:only-of-type {\n",
       "        vertical-align: middle;\n",
       "    }\n",
       "\n",
       "    .dataframe tbody tr th {\n",
       "        vertical-align: top;\n",
       "    }\n",
       "\n",
       "    .dataframe thead th {\n",
       "        text-align: right;\n",
       "    }\n",
       "</style>\n",
       "<table border=\"1\" class=\"dataframe\">\n",
       "  <thead>\n",
       "    <tr style=\"text-align: right;\">\n",
       "      <th></th>\n",
       "      <th>Part Code</th>\n",
       "      <th>Make</th>\n",
       "      <th>Make Code</th>\n",
       "      <th>Url</th>\n",
       "      <th>JOIN_PCMC</th>\n",
       "      <th>Link No</th>\n",
       "      <th>Json_Link</th>\n",
       "      <th>JOIN_JOIN_PCMCLN</th>\n",
       "    </tr>\n",
       "  </thead>\n",
       "  <tbody>\n",
       "    <tr>\n",
       "      <th>0</th>\n",
       "      <td>13362498</td>\n",
       "      <td>LEXUS</td>\n",
       "      <td>842</td>\n",
       "      <td>https://web.tecalliance.net/tecdoc/qa/parts/21...</td>\n",
       "      <td>13362498;842</td>\n",
       "      <td>1</td>\n",
       "      <td>{\"array\": [{\"articleLinkId\": 994698707, \"linki...</td>\n",
       "      <td>13362498;842;1</td>\n",
       "    </tr>\n",
       "    <tr>\n",
       "      <th>1</th>\n",
       "      <td>13362498</td>\n",
       "      <td>TOYOTA</td>\n",
       "      <td>111</td>\n",
       "      <td>https://web.tecalliance.net/tecdoc/qa/parts/21...</td>\n",
       "      <td>13362498;111</td>\n",
       "      <td>1</td>\n",
       "      <td>{\"array\": [{\"articleLinkId\": 994698706, \"linki...</td>\n",
       "      <td>13362498;111;1</td>\n",
       "    </tr>\n",
       "    <tr>\n",
       "      <th>2</th>\n",
       "      <td>13362499</td>\n",
       "      <td>DACIA</td>\n",
       "      <td>139</td>\n",
       "      <td>https://web.tecalliance.net/tecdoc/qa/parts/21...</td>\n",
       "      <td>13362499;139</td>\n",
       "      <td>1</td>\n",
       "      <td>{\"array\": [{\"articleLinkId\": 1200379749, \"link...</td>\n",
       "      <td>13362499;139;1</td>\n",
       "    </tr>\n",
       "    <tr>\n",
       "      <th>3</th>\n",
       "      <td>13362499</td>\n",
       "      <td>MITSUBISHI</td>\n",
       "      <td>77</td>\n",
       "      <td>https://web.tecalliance.net/tecdoc/qa/parts/21...</td>\n",
       "      <td>13362499;77</td>\n",
       "      <td>1</td>\n",
       "      <td>{\"array\": [{\"articleLinkId\": 1430072635, \"link...</td>\n",
       "      <td>13362499;77;1</td>\n",
       "    </tr>\n",
       "    <tr>\n",
       "      <th>4</th>\n",
       "      <td>13362499</td>\n",
       "      <td>RENAULT</td>\n",
       "      <td>93</td>\n",
       "      <td>https://web.tecalliance.net/tecdoc/qa/parts/21...</td>\n",
       "      <td>13362499;93</td>\n",
       "      <td>1</td>\n",
       "      <td>{\"array\": [{\"articleLinkId\": 815720483, \"linki...</td>\n",
       "      <td>13362499;93;1</td>\n",
       "    </tr>\n",
       "    <tr>\n",
       "      <th>...</th>\n",
       "      <td>...</td>\n",
       "      <td>...</td>\n",
       "      <td>...</td>\n",
       "      <td>...</td>\n",
       "      <td>...</td>\n",
       "      <td>...</td>\n",
       "      <td>...</td>\n",
       "      <td>...</td>\n",
       "    </tr>\n",
       "    <tr>\n",
       "      <th>14543</th>\n",
       "      <td>1396752376</td>\n",
       "      <td>MERCEDES-BENZ</td>\n",
       "      <td>74</td>\n",
       "      <td>https://web.tecalliance.net/tecdoc/qa/parts/21...</td>\n",
       "      <td>1396752376;74</td>\n",
       "      <td>3</td>\n",
       "      <td>{\"array\": [{\"articleLinkId\": 1396752454, \"link...</td>\n",
       "      <td>1396752376;74;3</td>\n",
       "    </tr>\n",
       "    <tr>\n",
       "      <th>14544</th>\n",
       "      <td>1396752376</td>\n",
       "      <td>MERCEDES-BENZ</td>\n",
       "      <td>74</td>\n",
       "      <td>https://web.tecalliance.net/tecdoc/qa/parts/21...</td>\n",
       "      <td>1396752376;74</td>\n",
       "      <td>4</td>\n",
       "      <td>{\"array\": [{\"articleLinkId\": 1396752407, \"link...</td>\n",
       "      <td>1396752376;74;4</td>\n",
       "    </tr>\n",
       "    <tr>\n",
       "      <th>14545</th>\n",
       "      <td>1396752464</td>\n",
       "      <td>MERCEDES-BENZ</td>\n",
       "      <td>74</td>\n",
       "      <td>https://web.tecalliance.net/tecdoc/qa/parts/21...</td>\n",
       "      <td>1396752464;74</td>\n",
       "      <td>1</td>\n",
       "      <td>{\"array\": [{\"articleLinkId\": 1396752487, \"link...</td>\n",
       "      <td>1396752464;74;1</td>\n",
       "    </tr>\n",
       "    <tr>\n",
       "      <th>14546</th>\n",
       "      <td>1396752464</td>\n",
       "      <td>MERCEDES-BENZ</td>\n",
       "      <td>74</td>\n",
       "      <td>https://web.tecalliance.net/tecdoc/qa/parts/21...</td>\n",
       "      <td>1396752464;74</td>\n",
       "      <td>2</td>\n",
       "      <td>{\"array\": [{\"articleLinkId\": 1396752471, \"link...</td>\n",
       "      <td>1396752464;74;2</td>\n",
       "    </tr>\n",
       "    <tr>\n",
       "      <th>14547</th>\n",
       "      <td>1396752492</td>\n",
       "      <td>MERCEDES-BENZ</td>\n",
       "      <td>74</td>\n",
       "      <td>https://web.tecalliance.net/tecdoc/qa/parts/21...</td>\n",
       "      <td>1396752492;74</td>\n",
       "      <td>1</td>\n",
       "      <td>{\"array\": [{\"articleLinkId\": 1430097304, \"link...</td>\n",
       "      <td>1396752492;74;1</td>\n",
       "    </tr>\n",
       "  </tbody>\n",
       "</table>\n",
       "<p>14548 rows × 8 columns</p>\n",
       "</div>"
      ],
      "text/plain": [
       "        Part Code           Make  Make Code  \\\n",
       "0        13362498          LEXUS        842   \n",
       "1        13362498         TOYOTA        111   \n",
       "2        13362499          DACIA        139   \n",
       "3        13362499     MITSUBISHI         77   \n",
       "4        13362499        RENAULT         93   \n",
       "...           ...            ...        ...   \n",
       "14543  1396752376  MERCEDES-BENZ         74   \n",
       "14544  1396752376  MERCEDES-BENZ         74   \n",
       "14545  1396752464  MERCEDES-BENZ         74   \n",
       "14546  1396752464  MERCEDES-BENZ         74   \n",
       "14547  1396752492  MERCEDES-BENZ         74   \n",
       "\n",
       "                                                     Url      JOIN_PCMC  \\\n",
       "0      https://web.tecalliance.net/tecdoc/qa/parts/21...   13362498;842   \n",
       "1      https://web.tecalliance.net/tecdoc/qa/parts/21...   13362498;111   \n",
       "2      https://web.tecalliance.net/tecdoc/qa/parts/21...   13362499;139   \n",
       "3      https://web.tecalliance.net/tecdoc/qa/parts/21...    13362499;77   \n",
       "4      https://web.tecalliance.net/tecdoc/qa/parts/21...    13362499;93   \n",
       "...                                                  ...            ...   \n",
       "14543  https://web.tecalliance.net/tecdoc/qa/parts/21...  1396752376;74   \n",
       "14544  https://web.tecalliance.net/tecdoc/qa/parts/21...  1396752376;74   \n",
       "14545  https://web.tecalliance.net/tecdoc/qa/parts/21...  1396752464;74   \n",
       "14546  https://web.tecalliance.net/tecdoc/qa/parts/21...  1396752464;74   \n",
       "14547  https://web.tecalliance.net/tecdoc/qa/parts/21...  1396752492;74   \n",
       "\n",
       "       Link No                                          Json_Link  \\\n",
       "0            1  {\"array\": [{\"articleLinkId\": 994698707, \"linki...   \n",
       "1            1  {\"array\": [{\"articleLinkId\": 994698706, \"linki...   \n",
       "2            1  {\"array\": [{\"articleLinkId\": 1200379749, \"link...   \n",
       "3            1  {\"array\": [{\"articleLinkId\": 1430072635, \"link...   \n",
       "4            1  {\"array\": [{\"articleLinkId\": 815720483, \"linki...   \n",
       "...        ...                                                ...   \n",
       "14543        3  {\"array\": [{\"articleLinkId\": 1396752454, \"link...   \n",
       "14544        4  {\"array\": [{\"articleLinkId\": 1396752407, \"link...   \n",
       "14545        1  {\"array\": [{\"articleLinkId\": 1396752487, \"link...   \n",
       "14546        2  {\"array\": [{\"articleLinkId\": 1396752471, \"link...   \n",
       "14547        1  {\"array\": [{\"articleLinkId\": 1430097304, \"link...   \n",
       "\n",
       "      JOIN_JOIN_PCMCLN  \n",
       "0       13362498;842;1  \n",
       "1       13362498;111;1  \n",
       "2       13362499;139;1  \n",
       "3        13362499;77;1  \n",
       "4        13362499;93;1  \n",
       "...                ...  \n",
       "14543  1396752376;74;3  \n",
       "14544  1396752376;74;4  \n",
       "14545  1396752464;74;1  \n",
       "14546  1396752464;74;2  \n",
       "14547  1396752492;74;1  \n",
       "\n",
       "[14548 rows x 8 columns]"
      ]
     },
     "execution_count": 4,
     "metadata": {},
     "output_type": "execute_result"
    }
   ],
   "source": [
    "list_dict_correct, list_series_error, df_input = [], [], pd.read_excel(f'{directory_in}/{file}',\n",
    "                                                                       header=0,\n",
    "                                                                       dtype=str).fillna('')\n",
    "\n",
    "df_input['Part Code'] = df_input['Part Code'].astype(int)\n",
    "df_input['Make Code'] = df_input['Make Code'].astype(int)\n",
    "df_input['Link No'] = df_input['Link No'].astype(int)\n",
    "\n",
    "count_remain = len(df_input)\n",
    "\n",
    "print(f'总数量：{count_remain}')\n",
    "print()\n",
    "df_input"
   ]
  },
  {
   "cell_type": "code",
   "execution_count": 5,
   "id": "f684bcff-7302-4ea3-8a92-3cb6b5bb097c",
   "metadata": {},
   "outputs": [
    {
     "data": {
      "text/plain": [
       "(False,\n",
       " 0,\n",
       " Part Code                                                    13362498\n",
       " Make                                                            LEXUS\n",
       " Make Code                                                         842\n",
       " Url                 https://web.tecalliance.net/tecdoc/qa/parts/21...\n",
       " JOIN_PCMC                                                13362498;842\n",
       " Link No                                                             1\n",
       " Json_Link           {\"array\": [{\"articleLinkId\": 994698707, \"linki...\n",
       " JOIN_JOIN_PCMCLN                                       13362498;842;1\n",
       " Name: 0, dtype: object)"
      ]
     },
     "execution_count": 5,
     "metadata": {},
     "output_type": "execute_result"
    }
   ],
   "source": [
    "crawler_status, (crawler_index, crawler_series) = False, next(df_input.iterrows())\n",
    "\n",
    "crawler_status, crawler_index, crawler_series"
   ]
  },
  {
   "cell_type": "code",
   "execution_count": 6,
   "id": "66d5b684-5e94-4e95-9207-b75da57cfca0",
   "metadata": {
    "scrolled": true
   },
   "outputs": [
    {
     "name": "stdout",
     "output_type": "stream",
     "text": [
      "1\n"
     ]
    },
    {
     "data": {
      "text/plain": [
       "<Response [200]>"
      ]
     },
     "execution_count": 6,
     "metadata": {},
     "output_type": "execute_result"
    }
   ],
   "source": [
    "import time\n",
    "\n",
    "data = {'getArticleLinkedAllLinkingTargetsByIds3': {'articleCountry': 'DE',\n",
    "                                                    'articleId': crawler_series['Part Code'],\n",
    "                                                    'immediateAttributs': True,\n",
    "                                                    'lang': 'qa',\n",
    "                                                    'linkedArticlePairs': json.loads(crawler_series['Json_Link']),\n",
    "                                                    'linkingTargetType': 'VOLB',\n",
    "                                                    'provider': 23365}}\n",
    "\n",
    "count_retry = 0\n",
    "while True:\n",
    "    count_retry += 1\n",
    "    print(count_retry)\n",
    "    try:\n",
    "        url_check = crawler_series['Url']\n",
    "\n",
    "        resp = requests.post('https://webservice.tecalliance.services/pegasus-3-0/services/TecdocToCatDLB.jsonEndpoint',\n",
    "                             data=json.dumps(data),\n",
    "                             headers=get_header(**{'x-api-key': api}),\n",
    "                             timeout=(5, 15))\n",
    "\n",
    "        if resp.status_code == 200:\n",
    "            dict_ = resp.json()\n",
    "\n",
    "            if dict_['status'] == 401 and dict_['statusText'].strip() == 'Access not allowed':\n",
    "                print(f'fuck api {api}')\n",
    "                time.sleep(3)\n",
    "                with open('./api.txt', 'r') as api_txt:\n",
    "                    api = api_txt.read()\n",
    "            elif dict_['status'] == 200:\n",
    "                break\n",
    "    except KeyboardInterrupt:\n",
    "        break\n",
    "    except:\n",
    "        time.sleep(3)\n",
    "        continue\n",
    "\n",
    "resp"
   ]
  },
  {
   "cell_type": "code",
   "execution_count": 7,
   "id": "4191fec7-5882-4900-9192-89f4fdb1ce7e",
   "metadata": {
    "scrolled": true
   },
   "outputs": [
    {
     "data": {
      "text/plain": [
       "[{'articleLinkId': 994698707,\n",
       "  'linkedArticleImmediateAttributs': {'array': [{'attrBlockNo': 0,\n",
       "     'attrId': 4224,\n",
       "     'attrIsConditional': False,\n",
       "     'attrIsInterval': False,\n",
       "     'attrName': 'Number of Doors',\n",
       "     'attrShortName': 'Number of doors',\n",
       "     'attrType': 'K',\n",
       "     'attrValue': '5'}]},\n",
       "  'linkedVehicles': {'array': [{'carDesc': '200h (ZWA10_, ZWA10R)',\n",
       "     'carId': 53026,\n",
       "     'constructionType': 'Hatchback',\n",
       "     'cylinderCapacity': 1798,\n",
       "     'linkingTargetType': 'P',\n",
       "     'manuDesc': 'LEXUS',\n",
       "     'manuId': 842,\n",
       "     'modelDesc': 'CT (ZWA10_)',\n",
       "     'modelId': 9014,\n",
       "     'powerHpFrom': 136,\n",
       "     'powerHpTo': 136,\n",
       "     'powerKwFrom': 100,\n",
       "     'powerKwTo': 100,\n",
       "     'yearOfConstructionFrom': 201109}]},\n",
       "  'linkingTargetId': 53026}]"
      ]
     },
     "execution_count": 7,
     "metadata": {},
     "output_type": "execute_result"
    }
   ],
   "source": [
    "list_vehicle = dict_['data']['array']\n",
    "\n",
    "list_vehicle"
   ]
  },
  {
   "cell_type": "code",
   "execution_count": 8,
   "id": "a18ca0c5-2b8c-4881-b5bf-9529fa0d2381",
   "metadata": {
    "scrolled": true
   },
   "outputs": [
    {
     "data": {
      "text/plain": [
       "[{'articleLinkId': 994698707,\n",
       "  'linkedArticleImmediateAttributs': {'array': [{'attrBlockNo': 0,\n",
       "     'attrId': 4224,\n",
       "     'attrIsConditional': False,\n",
       "     'attrIsInterval': False,\n",
       "     'attrName': 'Number of Doors',\n",
       "     'attrShortName': 'Number of doors',\n",
       "     'attrType': 'K',\n",
       "     'attrValue': '5'}]},\n",
       "  'linkedVehicles': {'array': [{'carDesc': '200h (ZWA10_, ZWA10R)',\n",
       "     'carId': 53026,\n",
       "     'constructionType': 'Hatchback',\n",
       "     'cylinderCapacity': 1798,\n",
       "     'linkingTargetType': 'P',\n",
       "     'manuDesc': 'LEXUS',\n",
       "     'manuId': 842,\n",
       "     'modelDesc': 'CT (ZWA10_)',\n",
       "     'modelId': 9014,\n",
       "     'powerHpFrom': 136,\n",
       "     'powerHpTo': 136,\n",
       "     'powerKwFrom': 100,\n",
       "     'powerKwTo': 100,\n",
       "     'yearOfConstructionFrom': 201109}]},\n",
       "  'linkingTargetId': 53026}]"
      ]
     },
     "execution_count": 8,
     "metadata": {},
     "output_type": "execute_result"
    }
   ],
   "source": [
    "list_vehicle"
   ]
  },
  {
   "cell_type": "code",
   "execution_count": 9,
   "id": "0c409d5e-acac-40a2-9567-0befedc18ee6",
   "metadata": {},
   "outputs": [
    {
     "data": {
      "text/plain": [
       "[{'Part Code': 13362498,\n",
       "  'Link No': 1,\n",
       "  'Json_Link': '{\"array\": [{\"articleLinkId\": 994698707, \"linkingTargetId\": 53026}]}',\n",
       "  'JOIN_JOIN_PCMCLN': '13362498;842;1',\n",
       "  'Vehicle No': 1,\n",
       "  'Make': 'LEXUS',\n",
       "  'Model': 'CT (ZWA10_)',\n",
       "  'Submodel': '200h (ZWA10_, ZWA10R)',\n",
       "  'Year': '201109-',\n",
       "  'kW': 100,\n",
       "  'HP': 136,\n",
       "  'cc': 1798,\n",
       "  'Design': 'Hatchback',\n",
       "  'Number of Doors': '5'}]"
      ]
     },
     "execution_count": 9,
     "metadata": {},
     "output_type": "execute_result"
    }
   ],
   "source": [
    "list_dict_correct_temp = []\n",
    "for i, vehicle in enumerate(list_vehicle):\n",
    "    if len(vehicle['linkedVehicles']['array']) != 1:\n",
    "        print('fuck')\n",
    "\n",
    "    if crawler_series['Make'] != vehicle['linkedVehicles']['array'][0]['manuDesc'].strip():\n",
    "        raise\n",
    "\n",
    "    dict_vehicle = {'Part Code': crawler_series['Part Code'],\n",
    "                    'Link No': crawler_series['Link No'],\n",
    "                    'Json_Link': crawler_series['Json_Link'],\n",
    "                    'JOIN_PCMCLN': crawler_series['JOIN_JOIN_PCMCLN'],\n",
    "                    'Vehicle No': i + 1,\n",
    "                    'Make': crawler_series['Make'],\n",
    "                    'Model': vehicle['linkedVehicles']['array'][0]['modelDesc'].strip(),\n",
    "                    'Submodel': vehicle['linkedVehicles']['array'][0]['carDesc'].strip(),\n",
    "                    'Year': f'''{vehicle['linkedVehicles']['array'][0]['yearOfConstructionFrom']}-{vehicle['linkedVehicles']['array'][0]['yearOfConstructionTo']}''' if 'yearOfConstructionTo' in vehicle['linkedVehicles']['array'][0] and vehicle['linkedVehicles']['array'][0]['yearOfConstructionFrom'] != vehicle['linkedVehicles']['array'][0]['yearOfConstructionTo'] else f'''{vehicle['linkedVehicles']['array'][0]['yearOfConstructionFrom']}-''',\n",
    "                    'kW': vehicle['linkedVehicles']['array'][0]['powerKwFrom'] if vehicle['linkedVehicles']['array'][0]['powerKwFrom'] == vehicle['linkedVehicles']['array'][0]['powerKwTo'] else f'''{vehicle['linkedVehicles']['array'][0]['powerKwFrom']}-{vehicle['linkedVehicles']['array'][0]['powerKwTo']}''',\n",
    "                    'HP': vehicle['linkedVehicles']['array'][0]['powerHpFrom'] if vehicle['linkedVehicles']['array'][0]['powerHpFrom'] == vehicle['linkedVehicles']['array'][0]['powerHpTo'] else f'''{vehicle['linkedVehicles']['array'][0]['powerHpFrom']}-{vehicle['linkedVehicles']['array'][0]['powerHpTo']}''',\n",
    "                    'cc': vehicle['linkedVehicles']['array'][0]['cylinderCapacity'] if 'cylinderCapacity' in vehicle['linkedVehicles']['array'][0] else '',\n",
    "                    'Design': vehicle['linkedVehicles']['array'][0]['constructionType'].strip()}\n",
    "\n",
    "    if type(vehicle['linkedArticleImmediateAttributs']) == str and vehicle['linkedArticleImmediateAttributs'].strip() == '':\n",
    "        list_attribute = []\n",
    "    elif type(vehicle['linkedArticleImmediateAttributs']) == dict:\n",
    "        list_attribute = vehicle['linkedArticleImmediateAttributs']['array']\n",
    "    else:\n",
    "        print('fuck')\n",
    "\n",
    "    dict_count = {}\n",
    "    for attribute in list_attribute:\n",
    "        if 'attrValue' not in attribute:\n",
    "            continue\n",
    "        key = attribute['attrName'].strip()\n",
    "        if key in dict_count:\n",
    "            dict_count[key] += 1\n",
    "        else:\n",
    "            dict_count[key] = 1\n",
    "\n",
    "    dict_no = {}\n",
    "    for attribute in list_attribute:\n",
    "        if attribute['attrName'].strip() == 'Block Separation' and attribute['attrShortName'].strip() == 'or' and 'attrValue' not in attribute:\n",
    "            continue\n",
    "        key = attribute['attrName'].strip()\n",
    "        if dict_count[key] == 1:\n",
    "            dict_vehicle[key] = attribute['attrValue'].strip()\n",
    "        else:\n",
    "            if key in dict_no:\n",
    "                dict_no[key] += 1\n",
    "            else:\n",
    "                dict_no[key] = 1\n",
    "            dict_vehicle[f'{key}-{dict_no[key]}'] = attribute['attrValue'].strip()\n",
    "\n",
    "    list_dict_correct_temp.append(dict_vehicle)\n",
    "\n",
    "list_dict_correct_temp"
   ]
  },
  {
   "cell_type": "code",
   "execution_count": 10,
   "id": "5adb5e58-d434-43e4-ae3a-39afd7034ab1",
   "metadata": {
    "scrolled": true
   },
   "outputs": [
    {
     "data": {
      "text/plain": [
       "[{'Part Code': 13362498,\n",
       "  'Link No': 1,\n",
       "  'Json_Link': '{\"array\": [{\"articleLinkId\": 994698707, \"linkingTargetId\": 53026}]}',\n",
       "  'JOIN_JOIN_PCMCLN': '13362498;842;1',\n",
       "  'Vehicle No': 1,\n",
       "  'Make': 'LEXUS',\n",
       "  'Model': 'CT (ZWA10_)',\n",
       "  'Submodel': '200h (ZWA10_, ZWA10R)',\n",
       "  'Year': '201109-',\n",
       "  'kW': 100,\n",
       "  'HP': 136,\n",
       "  'cc': 1798,\n",
       "  'Design': 'Hatchback',\n",
       "  'Number of Doors': '5'}]"
      ]
     },
     "execution_count": 10,
     "metadata": {},
     "output_type": "execute_result"
    }
   ],
   "source": [
    "list_dict_correct.extend(list_dict_correct_temp)\n",
    "\n",
    "list_dict_correct"
   ]
  },
  {
   "cell_type": "code",
   "execution_count": 11,
   "id": "e9e00791-247f-46b0-b478-feb894d5b3e4",
   "metadata": {},
   "outputs": [
    {
     "data": {
      "text/plain": [
       "True"
      ]
     },
     "execution_count": 11,
     "metadata": {},
     "output_type": "execute_result"
    }
   ],
   "source": [
    "crawler_status = True\n",
    "\n",
    "crawler_status"
   ]
  },
  {
   "cell_type": "code",
   "execution_count": 12,
   "id": "18a55150-946e-412b-b51a-f8bd10cc3037",
   "metadata": {},
   "outputs": [
    {
     "data": {
      "text/plain": [
       "[Part Code                                                    13362498\n",
       " Make                                                            LEXUS\n",
       " Make Code                                                         842\n",
       " Url                 https://web.tecalliance.net/tecdoc/qa/parts/21...\n",
       " JOIN_PCMC                                                13362498;842\n",
       " Link No                                                             1\n",
       " Json_Link           {\"array\": [{\"articleLinkId\": 994698707, \"linki...\n",
       " JOIN_JOIN_PCMCLN                                       13362498;842;1\n",
       " Check_Url           https://web.tecalliance.net/tecdoc/qa/parts/21...\n",
       " Name: 0, dtype: object]"
      ]
     },
     "execution_count": 12,
     "metadata": {},
     "output_type": "execute_result"
    }
   ],
   "source": [
    "crawler_series['Check_Url'] = url_check\n",
    "\n",
    "list_series_error.append(crawler_series)\n",
    "\n",
    "list_series_error"
   ]
  },
  {
   "cell_type": "code",
   "execution_count": 13,
   "id": "b594fb8e-1d00-45ae-be0e-5c0225f80499",
   "metadata": {},
   "outputs": [
    {
     "data": {
      "text/html": [
       "<div>\n",
       "<style scoped>\n",
       "    .dataframe tbody tr th:only-of-type {\n",
       "        vertical-align: middle;\n",
       "    }\n",
       "\n",
       "    .dataframe tbody tr th {\n",
       "        vertical-align: top;\n",
       "    }\n",
       "\n",
       "    .dataframe thead th {\n",
       "        text-align: right;\n",
       "    }\n",
       "</style>\n",
       "<table border=\"1\" class=\"dataframe\">\n",
       "  <thead>\n",
       "    <tr style=\"text-align: right;\">\n",
       "      <th></th>\n",
       "      <th>Part Code</th>\n",
       "      <th>Link No</th>\n",
       "      <th>Json_Link</th>\n",
       "      <th>JOIN_JOIN_PCMCLN</th>\n",
       "      <th>Vehicle No</th>\n",
       "      <th>Make</th>\n",
       "      <th>Model</th>\n",
       "      <th>Submodel</th>\n",
       "      <th>Year</th>\n",
       "      <th>kW</th>\n",
       "      <th>HP</th>\n",
       "      <th>cc</th>\n",
       "      <th>Design</th>\n",
       "      <th>Number of Doors</th>\n",
       "    </tr>\n",
       "  </thead>\n",
       "  <tbody>\n",
       "    <tr>\n",
       "      <th>0</th>\n",
       "      <td>13362498</td>\n",
       "      <td>1</td>\n",
       "      <td>{\"array\": [{\"articleLinkId\": 994698707, \"linki...</td>\n",
       "      <td>13362498;842;1</td>\n",
       "      <td>1</td>\n",
       "      <td>LEXUS</td>\n",
       "      <td>CT (ZWA10_)</td>\n",
       "      <td>200h (ZWA10_, ZWA10R)</td>\n",
       "      <td>201109-</td>\n",
       "      <td>100</td>\n",
       "      <td>136</td>\n",
       "      <td>1798</td>\n",
       "      <td>Hatchback</td>\n",
       "      <td>5</td>\n",
       "    </tr>\n",
       "  </tbody>\n",
       "</table>\n",
       "</div>"
      ],
      "text/plain": [
       "   Part Code  Link No                                          Json_Link  \\\n",
       "0   13362498        1  {\"array\": [{\"articleLinkId\": 994698707, \"linki...   \n",
       "\n",
       "  JOIN_JOIN_PCMCLN  Vehicle No   Make        Model               Submodel  \\\n",
       "0   13362498;842;1           1  LEXUS  CT (ZWA10_)  200h (ZWA10_, ZWA10R)   \n",
       "\n",
       "      Year   kW   HP    cc     Design Number of Doors  \n",
       "0  201109-  100  136  1798  Hatchback               5  "
      ]
     },
     "execution_count": 13,
     "metadata": {},
     "output_type": "execute_result"
    }
   ],
   "source": [
    "if list_dict_correct:\n",
    "    df_correct = pd.DataFrame(list_dict_correct).sort_values(by=['Part Code', 'Make', 'Link No', 'Vehicle No'],\n",
    "                                                             ascending=[True, True, True, True],\n",
    "                                                             ignore_index=True)\n",
    "    df_correct.to_excel('./test_vehicle.xlsx', index=False)\n",
    "\n",
    "df_correct"
   ]
  },
  {
   "cell_type": "code",
   "execution_count": 14,
   "id": "39a5441b-7f69-4812-aad8-7e10a1a24e78",
   "metadata": {},
   "outputs": [
    {
     "data": {
      "text/html": [
       "<div>\n",
       "<style scoped>\n",
       "    .dataframe tbody tr th:only-of-type {\n",
       "        vertical-align: middle;\n",
       "    }\n",
       "\n",
       "    .dataframe tbody tr th {\n",
       "        vertical-align: top;\n",
       "    }\n",
       "\n",
       "    .dataframe thead th {\n",
       "        text-align: right;\n",
       "    }\n",
       "</style>\n",
       "<table border=\"1\" class=\"dataframe\">\n",
       "  <thead>\n",
       "    <tr style=\"text-align: right;\">\n",
       "      <th></th>\n",
       "      <th>Part Code</th>\n",
       "      <th>Make</th>\n",
       "      <th>Make Code</th>\n",
       "      <th>Url</th>\n",
       "      <th>JOIN_PCMC</th>\n",
       "      <th>Link No</th>\n",
       "      <th>Json_Link</th>\n",
       "      <th>JOIN_JOIN_PCMCLN</th>\n",
       "      <th>Check_Url</th>\n",
       "    </tr>\n",
       "  </thead>\n",
       "  <tbody>\n",
       "    <tr>\n",
       "      <th>0</th>\n",
       "      <td>13362498</td>\n",
       "      <td>LEXUS</td>\n",
       "      <td>842</td>\n",
       "      <td>https://web.tecalliance.net/tecdoc/qa/parts/21...</td>\n",
       "      <td>13362498;842</td>\n",
       "      <td>1</td>\n",
       "      <td>{\"array\": [{\"articleLinkId\": 994698707, \"linki...</td>\n",
       "      <td>13362498;842;1</td>\n",
       "      <td>https://web.tecalliance.net/tecdoc/qa/parts/21...</td>\n",
       "    </tr>\n",
       "  </tbody>\n",
       "</table>\n",
       "</div>"
      ],
      "text/plain": [
       "   Part Code   Make  Make Code  \\\n",
       "0   13362498  LEXUS        842   \n",
       "\n",
       "                                                 Url     JOIN_PCMC  Link No  \\\n",
       "0  https://web.tecalliance.net/tecdoc/qa/parts/21...  13362498;842        1   \n",
       "\n",
       "                                           Json_Link JOIN_JOIN_PCMCLN  \\\n",
       "0  {\"array\": [{\"articleLinkId\": 994698707, \"linki...   13362498;842;1   \n",
       "\n",
       "                                           Check_Url  \n",
       "0  https://web.tecalliance.net/tecdoc/qa/parts/21...  "
      ]
     },
     "execution_count": 14,
     "metadata": {},
     "output_type": "execute_result"
    }
   ],
   "source": [
    "if list_series_error:\n",
    "    df_error = pd.DataFrame(list_series_error).sort_values(by=['Part Code', 'Make', 'Link No'],\n",
    "                                                           ascending=[True, True, True],\n",
    "                                                           ignore_index=True)\n",
    "    df_error.to_excel('./test_vehicle_error.xlsx', index=False)\n",
    "\n",
    "df_error"
   ]
  },
  {
   "cell_type": "code",
   "execution_count": null,
   "id": "a31a202d-21e6-4a6a-8107-95dbbd0cf29b",
   "metadata": {},
   "outputs": [],
   "source": []
  }
 ],
 "metadata": {
  "kernelspec": {
   "display_name": "Python 3 (ipykernel)",
   "language": "python",
   "name": "python3"
  },
  "language_info": {
   "codemirror_mode": {
    "name": "ipython",
    "version": 3
   },
   "file_extension": ".py",
   "mimetype": "text/x-python",
   "name": "python",
   "nbconvert_exporter": "python",
   "pygments_lexer": "ipython3",
   "version": "3.12.7"
  }
 },
 "nbformat": 4,
 "nbformat_minor": 5
}
