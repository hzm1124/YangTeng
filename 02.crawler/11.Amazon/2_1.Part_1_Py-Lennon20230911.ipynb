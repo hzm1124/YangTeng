{
 "cells": [
  {
   "cell_type": "code",
   "execution_count": 1,
   "id": "fe965f7d",
   "metadata": {},
   "outputs": [],
   "source": [
    "import pandas as pd"
   ]
  },
  {
   "cell_type": "code",
   "execution_count": 2,
   "id": "02f59b00",
   "metadata": {},
   "outputs": [
    {
     "data": {
      "text/html": [
       "<div>\n",
       "<style scoped>\n",
       "    .dataframe tbody tr th:only-of-type {\n",
       "        vertical-align: middle;\n",
       "    }\n",
       "\n",
       "    .dataframe tbody tr th {\n",
       "        vertical-align: top;\n",
       "    }\n",
       "\n",
       "    .dataframe thead th {\n",
       "        text-align: right;\n",
       "    }\n",
       "</style>\n",
       "<table border=\"1\" class=\"dataframe\">\n",
       "  <thead>\n",
       "    <tr style=\"text-align: right;\">\n",
       "      <th></th>\n",
       "      <th>Url</th>\n",
       "      <th>No.</th>\n",
       "    </tr>\n",
       "  </thead>\n",
       "  <tbody>\n",
       "    <tr>\n",
       "      <th>0</th>\n",
       "      <td>https://www.amazon.com/YQAUTEC-Window-1999-201...</td>\n",
       "      <td>1</td>\n",
       "    </tr>\n",
       "    <tr>\n",
       "      <th>1</th>\n",
       "      <td>https://www.amazon.com/Voron-Glass-Chevrolet-S...</td>\n",
       "      <td>2</td>\n",
       "    </tr>\n",
       "    <tr>\n",
       "      <th>2</th>\n",
       "      <td>https://www.amazon.com/AEROGUYS-Deflectors-Che...</td>\n",
       "      <td>3</td>\n",
       "    </tr>\n",
       "    <tr>\n",
       "      <th>3</th>\n",
       "      <td>https://www.amazon.com/Mirror-Eyebrow-Exterior...</td>\n",
       "      <td>4</td>\n",
       "    </tr>\n",
       "    <tr>\n",
       "      <th>4</th>\n",
       "      <td>https://www.amazon.com/Auto-Ventshade-94975-Ve...</td>\n",
       "      <td>5</td>\n",
       "    </tr>\n",
       "    <tr>\n",
       "      <th>...</th>\n",
       "      <td>...</td>\n",
       "      <td>...</td>\n",
       "    </tr>\n",
       "    <tr>\n",
       "      <th>195</th>\n",
       "      <td>https://www.amazon.com/2004-2012-Colorado-Defl...</td>\n",
       "      <td>46</td>\n",
       "    </tr>\n",
       "    <tr>\n",
       "      <th>196</th>\n",
       "      <td>https://www.amazon.com/Auto-Ventshade-194101-V...</td>\n",
       "      <td>47</td>\n",
       "    </tr>\n",
       "    <tr>\n",
       "      <th>197</th>\n",
       "      <td>https://www.amazon.com/CLIM-ART-Incredibly-Def...</td>\n",
       "      <td>48</td>\n",
       "    </tr>\n",
       "    <tr>\n",
       "      <th>198</th>\n",
       "      <td>https://www.amazon.com/Lightronic-WV94267-Wind...</td>\n",
       "      <td>49</td>\n",
       "    </tr>\n",
       "    <tr>\n",
       "      <th>199</th>\n",
       "      <td>https://www.amazon.com/Auto-Ventshade-194714-V...</td>\n",
       "      <td>50</td>\n",
       "    </tr>\n",
       "  </tbody>\n",
       "</table>\n",
       "<p>200 rows × 2 columns</p>\n",
       "</div>"
      ],
      "text/plain": [
       "                                                   Url No.\n",
       "0    https://www.amazon.com/YQAUTEC-Window-1999-201...   1\n",
       "1    https://www.amazon.com/Voron-Glass-Chevrolet-S...   2\n",
       "2    https://www.amazon.com/AEROGUYS-Deflectors-Che...   3\n",
       "3    https://www.amazon.com/Mirror-Eyebrow-Exterior...   4\n",
       "4    https://www.amazon.com/Auto-Ventshade-94975-Ve...   5\n",
       "..                                                 ...  ..\n",
       "195  https://www.amazon.com/2004-2012-Colorado-Defl...  46\n",
       "196  https://www.amazon.com/Auto-Ventshade-194101-V...  47\n",
       "197  https://www.amazon.com/CLIM-ART-Incredibly-Def...  48\n",
       "198  https://www.amazon.com/Lightronic-WV94267-Wind...  49\n",
       "199  https://www.amazon.com/Auto-Ventshade-194714-V...  50\n",
       "\n",
       "[200 rows x 2 columns]"
      ]
     },
     "execution_count": 2,
     "metadata": {},
     "output_type": "execute_result"
    }
   ],
   "source": [
    "df = pd.read_excel('./menu.xlsx',\n",
    "                   header=0,\n",
    "                   dtype=str).fillna('')\n",
    "\n",
    "df"
   ]
  },
  {
   "cell_type": "code",
   "execution_count": 3,
   "id": "33389dfd",
   "metadata": {},
   "outputs": [],
   "source": [
    "from tqdm import tqdm"
   ]
  },
  {
   "cell_type": "code",
   "execution_count": 4,
   "id": "c7969bab",
   "metadata": {},
   "outputs": [
    {
     "name": "stderr",
     "output_type": "stream",
     "text": [
      "进度: 100%|████████████████████████████| 199/199 [00:00<00:00, 199920.12it/s]\n"
     ]
    }
   ],
   "source": [
    "data = '[{\"Url\":\"' + df.loc[0, 'Url'] + '\"}'\n",
    "for i in tqdm(range(1, len(df)), desc='进度', ncols=77):\n",
    "    data += ',{\"Url\":\"' + df.loc[i, 'Url'] + '\"}'\n",
    "    \n",
    "data += ']'"
   ]
  },
  {
   "cell_type": "code",
   "execution_count": 5,
   "id": "0809113b",
   "metadata": {},
   "outputs": [],
   "source": [
    "import pyperclip"
   ]
  },
  {
   "cell_type": "code",
   "execution_count": 6,
   "id": "7d8cf48a",
   "metadata": {},
   "outputs": [
    {
     "data": {
      "text/plain": [
       "'[{\"Url\":\"https://www.amazon.com/YQAUTEC-Window-1999-2016-Deflectors-SuperCab/dp/B0BPC7RDZ7/ref=zg_bs_g_15735641_sccl_1/137-2898221-1543558?psc=1\"},{\"Url\":\"https://www.amazon.com/Voron-Glass-Chevrolet-Silverado-Deflectors/dp/B08FMVTMKH/ref=zg_bs_g_15735641_sccl_2/137-2898221-1543558?psc=1\"},{\"Url\":\"https://www.amazon.com/AEROGUYS-Deflectors-Chevrolet-Silverado-Accessories-4pcs/dp/B0B5TY7NBB/ref=zg_bs_g_15735641_sccl_3/137-2898221-1543558?psc=1\"},{\"Url\":\"https://www.amazon.com/Mirror-Eyebrow-Exterior-Accessories-Universal/dp/B0BQF4MF1Y/ref=zg_bs_g_15735641_sccl_4/137-2898221-1543558?psc=1\"},{\"Url\":\"https://www.amazon.com/Auto-Ventshade-94975-Ventvisor-Deflector/dp/B00PCE7SQ8/ref=zg_bs_g_15735641_sccl_5/137-2898221-1543558?psc=1\"},{\"Url\":\"https://www.amazon.com/Auto-Ventshade-194768-Ventvisor-Deflector/dp/B018AIGLSI/ref=zg_bs_g_15735641_sccl_6/137-2898221-1543558?psc=1\"},{\"Url\":\"https://www.amazon.com/Cxdar-Guards-Window-Visors-Deflector/dp/B0BR135PQZ/ref=zg_bs_g_15735641_sccl_7/137-2898221-1543558?psc=1\"},{\"Url\":\"https://www.amazon.com/AUTOCLOVER-Smoked-Window-Out-Channel-Deflector/dp/B07YSTD1GV/ref=zg_bs_g_15735641_sccl_8/137-2898221-1543558?psc=1\"},{\"Url\":\"https://www.amazon.com/Voron-Glass-Channel-2016-2020-Deflectors/dp/B087N6H35X/ref=zg_bs_g_15735641_sccl_9/137-2898221-1543558?psc=1\"},{\"Url\":\"https://www.amazon.com/YQAUTEC-Window-Visors-2018-2023-Deflectors/dp/B0C85VXZ2Q/ref=zg_bs_g_15735641_sccl_10/137-2898221-1543558?psc=1\"},{\"Url\":\"https://www.amazon.com/ACLONG-Guards-Shatterproof-Deflectors-6-Piece/dp/B0BXLHRRYZ/ref=zg_bs_g_15735641_sccl_11/137-2898221-1543558?psc=1\"},{\"Url\":\"https://www.amazon.com/ZXMOTO-Guards-Window-Outside-2006-2011/dp/B0BB71CTPV/ref=zg_bs_g_15735641_sccl_12/137-2898221-1543558?psc=1\"},{\"Url\":\"https://www.amazon.com/Auto-Ventshade-194109-Ventvisor-Deflector/dp/B001XUD46S/ref=zg_bs_g_15735641_sccl_13/137-2898221-1543558?psc=1\"},{\"Url\":\"https://www.amazon.com/Auto-Ventshade-194805-Window-Deflectors/dp/B07JDRP2Q6/ref=zg_bs_g_15735641_sccl_14/137-2898221-1543558?psc=1\"},{\"Url\":\"https://www.amazon.com/Goodyear-Shatterproof-Channel-Window-Deflectors/dp/B07SHHSJH4/ref=zg_bs_g_15735641_sccl_15/137-2898221-1543558?psc=1\"},{\"Url\":\"https://www.amazon.com/Optimal-Co-Deflectors-Crosstrek-Hatchback/dp/B083JLQSKJ/ref=zg_bs_g_15735641_sccl_16/137-2898221-1543558?psc=1\"},{\"Url\":\"https://www.amazon.com/Auto-Ventshade-194953-Ventvisor-Deflector/dp/B000CF6RX2/ref=zg_bs_g_15735641_sccl_17/137-2898221-1543558?psc=1\"},{\"Url\":\"https://www.amazon.com/Voron-Glass-Chevrolet-Trailblazer-Deflectors/dp/B0C33RLN3C/ref=zg_bs_g_15735641_sccl_18/137-2898221-1543558?psc=1\"},{\"Url\":\"https://www.amazon.com/Voron-Glass-Channel-2019-2021-Deflectors/dp/B0953VRK31/ref=zg_bs_g_15735641_sccl_19/137-2898221-1543558?psc=1\"},{\"Url\":\"https://www.amazon.com/Voron-Glass-Channel-2017-2021-Deflectors/dp/B08RJWC1LY/ref=zg_bs_g_15735641_sccl_20/137-2898221-1543558?psc=1\"},{\"Url\":\"https://www.amazon.com/Voron-Glass-Chevrolet-2018-2021-Deflectors/dp/B08VRHVKZM/ref=zg_bs_g_15735641_sccl_21/137-2898221-1543558?psc=1\"},{\"Url\":\"https://www.amazon.com/SuperCrew-2015-2023-2017-2022-Deflectors-4-Piece/dp/B0BBG92DB7/ref=zg_bs_g_15735641_sccl_22/137-2898221-1543558?psc=1\"},{\"Url\":\"https://www.amazon.com/ICBEAMER-Smooth-Measure-Require-Purchase/dp/B07HCW634B/ref=zg_bs_g_15735641_sccl_23/137-2898221-1543558?psc=1\"},{\"Url\":\"https://www.amazon.com/VanEssential-Transit-Insulated-Blackout-Current/dp/B09VCFVLDK/ref=zg_bs_g_15735641_sccl_24/137-2898221-1543558?psc=1\"},{\"Url\":\"https://www.amazon.com/Goodyear-Shatterproof-Deflectors-Accessories-GY003413LP/dp/B08FTHC4F8/ref=zg_bs_g_15735641_sccl_25/137-2898221-1543558?psc=1\"},{\"Url\":\"https://www.amazon.com/Auto-Ventshade-194536-Ventvisor-Deflector/dp/B00CEXKBS2/ref=zg_bs_g_15735641_sccl_26/137-2898221-1543558?psc=1\"},{\"Url\":\"https://www.amazon.com/Auto-Ventshade-194515-Ventvisor-Deflector/dp/B000GZBZOE/ref=zg_bs_g_15735641_sccl_27/137-2898221-1543558?psc=1\"},{\"Url\":\"https://www.amazon.com/Voron-Glass-Chevrolet-2019-2023-Deflectors/dp/B0B12Z5WJ9/ref=zg_bs_g_15735641_sccl_28/137-2898221-1543558?psc=1\"},{\"Url\":\"https://www.amazon.com/Channel-Guards-Compatible-2016-2021-Deflectors/dp/B08X9V5XPV/ref=zg_bs_g_15735641_sccl_29/137-2898221-1543558?psc=1\"},{\"Url\":\"https://www.amazon.com/Voron-Glass-Channel-2007-2020-Deflectors/dp/B087MW8JMR/ref=zg_bs_g_15735641_sccl_30/137-2898221-1543558?psc=1\"},{\"Url\":\"https://www.amazon.com/Voron-Glass-Durable-2011-2022-Deflectors/dp/B09VXJH523/ref=zg_bs_g_15735641_sccl_31/137-2898221-1543558?psc=1\"},{\"Url\":\"https://www.amazon.com/OXILAM-Deflectors-Chevrolet-Silverado-Directional/dp/B0B251YLZQ/ref=zg_bs_g_15735641_sccl_32/137-2898221-1543558?psc=1\"},{\"Url\":\"https://www.amazon.com/Voron-Glass-Channel-2011-2019-Deflectors/dp/B08VVTVVCK/ref=zg_bs_g_15735641_sccl_33/137-2898221-1543558?psc=1\"},{\"Url\":\"https://www.amazon.com/Auto-Ventshade-194355-Ventvisor-Deflector/dp/B000CF8VUE/ref=zg_bs_g_15735641_sccl_34/137-2898221-1543558?psc=1\"},{\"Url\":\"https://www.amazon.com/Tinted-Window-Deflectors-Guards-Toyota/dp/B07RTWF96Q/ref=zg_bs_g_15735641_sccl_35/137-2898221-1543558?psc=1\"},{\"Url\":\"https://www.amazon.com/Mirror-Eyebrow-Waterproof-Universal-SUV-Black/dp/B0BJF8T4SL/ref=zg_bs_g_15735641_sccl_36/137-2898221-1543558?psc=1\"},{\"Url\":\"https://www.amazon.com/Voron-Glass-Channel-2017-2023-Deflectors/dp/B0B6FYDQ7J/ref=zg_bs_g_15735641_sccl_37/137-2898221-1543558?psc=1\"},{\"Url\":\"https://www.amazon.com/Goodyear-Shatterproof-Deflectors-2011-2019-Accessories/dp/B0932X222S/ref=zg_bs_g_15735641_sccl_38/137-2898221-1543558?psc=1\"},{\"Url\":\"https://www.amazon.com/Guards-Deflector-Honda-2003-2007-Outside/dp/B0BYMQ23QX/ref=zg_bs_g_15735641_sccl_39/137-2898221-1543558?psc=1\"},{\"Url\":\"https://www.amazon.com/CLIM-ART-Incredibly-Compatible-Deflectors/dp/B0B647SVHZ/ref=zg_bs_g_15735641_sccl_40/137-2898221-1543558?psc=1\"},{\"Url\":\"https://www.amazon.com/CLIM-ART-Channel-Incredibly-Deflectors/dp/B07SKKW1HC/ref=zg_bs_g_15735641_sccl_41/137-2898221-1543558?psc=1\"},{\"Url\":\"https://www.amazon.com/Tinted-Window-Deflectors-Guards-Compatible/dp/B08X9XDW5P/ref=zg_bs_g_15735641_sccl_42/137-2898221-1543558?psc=1\"},{\"Url\":\"https://www.amazon.com/GrandWheel-Deflectors-Compatible-Chevrolet-Trailblazer/dp/B0BKQTWN57/ref=zg_bs_g_15735641_sccl_43/137-2898221-1543558?psc=1\"},{\"Url\":\"https://www.amazon.com/Voron-Glass-Wrangler-2018-2021-Deflectors/dp/B08FTHPRMV/ref=zg_bs_g_15735641_sccl_44/137-2898221-1543558?psc=1\"},{\"Url\":\"https://www.amazon.com/Goodyear-Shatterproof-Deflectors-Accessories-GY003404LPv/dp/B09DCXS2K4/ref=zg_bs_g_15735641_sccl_45/137-2898221-1543558?psc=1\"},{\"Url\":\"https://www.amazon.com/Auto-Ventshade-194995-Ventvisor-Deflector/dp/B00QEC0ANA/ref=zg_bs_g_15735641_sccl_46/137-2898221-1543558?psc=1\"},{\"Url\":\"https://www.amazon.com/Voron-Glass-Durable-Guards-Deflectors/dp/B0B6JB8MBV/ref=zg_bs_g_15735641_sccl_47/137-2898221-1543558?psc=1\"},{\"Url\":\"https://www.amazon.com/Auto-Ventshade-894027-Ventvisor-Deflector/dp/B00B19SEVG/ref=zg_bs_g_15735641_sccl_48/137-2898221-1543558?psc=1\"},{\"Url\":\"https://www.amazon.com/Deflectors-Compatible-SuperCrew-2015-2020-Platinum/dp/B08LCKS8SV/ref=zg_bs_g_15735641_sccl_49/137-2898221-1543558?psc=1\"},{\"Url\":\"https://www.amazon.com/Voron-Glass-Channel-2021-2022-Deflectors/dp/B09QGGFLJ2/ref=zg_bs_g_15735641_sccl_50/137-2898221-1543558?psc=1\"},{\"Url\":\"https://www.amazon.com/KitsPro-Channel-Deflector-2016-2023-Deflectors/dp/B0BYRXLT1G/ref=zg_bs_g_15735641_sccl_1/137-2898221-1543558?psc=1\"},{\"Url\":\"https://www.amazon.com/CLIM-ART-Incredibly-Deflectors-Accessories/dp/B08FTHRVCR/ref=zg_bs_g_15735641_sccl_2/137-2898221-1543558?psc=1\"},{\"Url\":\"https://www.amazon.com/CLIM-ART-Incredibly-Deflectors-Accessories/dp/B08FMVM87V/ref=zg_bs_g_15735641_sccl_3/137-2898221-1543558?psc=1\"},{\"Url\":\"https://www.amazon.com/Arokzn-Kia-Forte-Shatterproof-Deflectors/dp/B0BXNGK9PV/ref=zg_bs_g_15735641_sccl_4/137-2898221-1543558?psc=1\"},{\"Url\":\"https://www.amazon.com/AOKAILI-Window-Deflector-2013-2020-Fusion/dp/B0B124RDY5/ref=zg_bs_g_15735641_sccl_5/137-2898221-1543558?psc=1\"},{\"Url\":\"https://www.amazon.com/Voron-Glass-Channel-2018-2023-Deflectors/dp/B0B43BHCMW/ref=zg_bs_g_15735641_sccl_6/137-2898221-1543558?psc=1\"},{\"Url\":\"https://www.amazon.com/Goodyear-Shatterproof-Deflectors-Accessories-GY003415LP/dp/B08FMVWHX1/ref=zg_bs_g_15735641_sccl_7/137-2898221-1543558?psc=1\"},{\"Url\":\"https://www.amazon.com/Voron-Glass-Durable-2014-2019-Deflectors/dp/B087N4YNB1/ref=zg_bs_g_15735641_sccl_8/137-2898221-1543558?psc=1\"},{\"Url\":\"https://www.amazon.com/CLIM-ART-Incredibly-Deflectors-Accessories/dp/B09DCLTVFV/ref=zg_bs_g_15735641_sccl_9/137-2898221-1543558?psc=1\"},{\"Url\":\"https://www.amazon.com/Goodyear-Shatterproof-Channel-Deflectors-2009-2018/dp/B07SJG1QNL/ref=zg_bs_g_15735641_sccl_10/137-2898221-1543558?psc=1\"},{\"Url\":\"https://www.amazon.com/Lightronic-WV194109-Channel-2009-2018-2010-2020/dp/B08JBNKTW2/ref=zg_bs_g_15735641_sccl_11/137-2898221-1543558?psc=1\"},{\"Url\":\"https://www.amazon.com/YQAUTEC-1996-2014-Express-Deflectors-1996-2022/dp/B0CC8PRW5G/ref=zg_bs_g_15735641_sccl_12/137-2898221-1543558?psc=1\"},{\"Url\":\"https://www.amazon.com/Goodyear-Shatterproof-Deflectors-Accessories-GY003462LP/dp/B09KHG6RSF/ref=zg_bs_g_15735641_sccl_13/137-2898221-1543558?psc=1\"},{\"Url\":\"https://www.amazon.com/LT-Sport-Universal-Moonroof-Deflector/dp/B08QZTQDK8/ref=zg_bs_g_15735641_sccl_14/137-2898221-1543558?psc=1\"},{\"Url\":\"https://www.amazon.com/Goodyear-Shatterproof-Deflectors-Pathfinder-Accessories/dp/B0BZ42W5F2/ref=zg_bs_g_15735641_sccl_15/137-2898221-1543558?psc=1\"},{\"Url\":\"https://www.amazon.com/olltoz-Tinted-Window-Deflectors-Compatible/dp/B08JQ448L6/ref=zg_bs_g_15735641_sccl_16/137-2898221-1543558?psc=1\"},{\"Url\":\"https://www.amazon.com/Auto-Ventshade-194818-Ventvisor-2019-2020/dp/B086PH2W6Y/ref=zg_bs_g_15735641_sccl_17/137-2898221-1543558?psc=1\"},{\"Url\":\"https://www.amazon.com/Auto-Ventshade-194155-Ventvisor-Deflector/dp/B0026CG5S6/ref=zg_bs_g_15735641_sccl_18/137-2898221-1543558?psc=1\"},{\"Url\":\"https://www.amazon.com/Optimal-Co-2019-2020-Deflectors-Chevrolet/dp/B083Q4PHC4/ref=zg_bs_g_15735641_sccl_19/137-2898221-1543558?psc=1\"},{\"Url\":\"https://www.amazon.com/Window-Deflectors-Guards-Trucks-1999-2016/dp/B09P8BFFRW/ref=zg_bs_g_15735641_sccl_20/137-2898221-1543558?psc=1\"},{\"Url\":\"https://www.amazon.com/Voron-Glass-Channel-2022-2023-Deflectors/dp/B0C5MK3DY7/ref=zg_bs_g_15735641_sccl_21/137-2898221-1543558?psc=1\"},{\"Url\":\"https://www.amazon.com/Auto-Ventshade-192455-Ventvisor-C4500-C5500/dp/B000A8J972/ref=zg_bs_g_15735641_sccl_22/137-2898221-1543558?psc=1\"},{\"Url\":\"https://www.amazon.com/2006-2011-Acrylic-Deflector-IKON-MOTORSPORTS/dp/B00IOFW55Q/ref=zg_bs_g_15735641_sccl_23/137-2898221-1543558?psc=1\"},{\"Url\":\"https://www.amazon.com/Goodyear-Shatterproof-Deflectors-Accessories-GY003181LP/dp/B08FB78MZ2/ref=zg_bs_g_15735641_sccl_24/137-2898221-1543558?psc=1\"},{\"Url\":\"https://www.amazon.com/LINLINS-2016-2019-Chevrolet-Cruze-Deflectors/dp/B0BGMY537N/ref=zg_bs_g_15735641_sccl_25/137-2898221-1543558?psc=1\"},{\"Url\":\"https://www.amazon.com/Lightronic-WV194101-Deflector-Shatterproof-2009-2018/dp/B08JB9BR2J/ref=zg_bs_g_15735641_sccl_26/137-2898221-1543558?psc=1\"},{\"Url\":\"https://www.amazon.com/Goodyear-Shatterproof-Deflectors-2007-2018-Accessories/dp/B09XQRGQFX/ref=zg_bs_g_15735641_sccl_27/137-2898221-1543558?psc=1\"},{\"Url\":\"https://www.amazon.com/AUTOCLOVER-Cherokee-Out-Channer-Deflector-Renewal/dp/B07ZL5ZG81/ref=zg_bs_g_15735641_sccl_28/137-2898221-1543558?psc=1\"},{\"Url\":\"https://www.amazon.com/Lightronic-WV194166-Deflector-Shatterproof-2010-2017/dp/B08J3MGRF2/ref=zg_bs_g_15735641_sccl_29/137-2898221-1543558?psc=1\"},{\"Url\":\"https://www.amazon.com/GrandWheel-Deflectors-Compatible-Highlander-2014-2019/dp/B09SG7CGZS/ref=zg_bs_g_15735641_sccl_30/137-2898221-1543558?psc=1\"},{\"Url\":\"https://www.amazon.com/Voron-Glass-Chevrolet-2015-2022-Deflectors/dp/B09DGGG451/ref=zg_bs_g_15735641_sccl_81/137-2898221-1543558?psc=1\"},{\"Url\":\"https://www.amazon.com/Auto-Ventshade-194252-Ventvisor-Deflector/dp/B005O25CXE/ref=zg_bs_g_15735641_sccl_82/137-2898221-1543558?psc=1\"},{\"Url\":\"https://www.amazon.com/Voron-Glass-Durable-2014-2022-Deflectors/dp/B09X5VGD3B/ref=zg_bs_g_15735641_sccl_83/137-2898221-1543558?psc=1\"},{\"Url\":\"https://www.amazon.com/Tinted-Window-Deflectors-Compatible-GT-Line/dp/B0BDY5HWSM/ref=zg_bs_g_15735641_sccl_84/137-2898221-1543558?psc=1\"},{\"Url\":\"https://www.amazon.com/Voron-Glass-Channel-2007-2020-Deflectors/dp/B087N1HZ3Q/ref=zg_bs_g_15735641_sccl_85/137-2898221-1543558?psc=1\"},{\"Url\":\"https://www.amazon.com/GKmow-Pack-2-Mirror-Waterproof-Eyebrow/dp/B0C6KJRJTX/ref=zg_bs_g_15735641_sccl_86/137-2898221-1543558?psc=1\"},{\"Url\":\"https://www.amazon.com/ZYFZZDS-Window-Visors-Deflectors-2015/dp/B09V4N9CLF/ref=zg_bs_g_15735641_sccl_87/137-2898221-1543558?psc=1\"},{\"Url\":\"https://www.amazon.com/MZS-Window-Compatible-Vent-Shades/dp/B0C1VH8LZT/ref=zg_bs_g_15735641_sccl_88/137-2898221-1543558?psc=1\"},{\"Url\":\"https://www.amazon.com/NOPOCA-Toyota-Corolla-Hatchback-Guards%EF%BC%8CWindow/dp/B09ZNNNS1F/ref=zg_bs_g_15735641_sccl_89/137-2898221-1543558?psc=1\"},{\"Url\":\"https://www.amazon.com/Goodyear-Shatterproof-Deflectors-2018-2022-Accessories/dp/B09CDWFTWR/ref=zg_bs_g_15735641_sccl_90/137-2898221-1543558?psc=1\"},{\"Url\":\"https://www.amazon.com/Lightronic-Deflector-1999-2010-1999-2008-1999-2011/dp/B07JZ19QZR/ref=zg_bs_g_15735641_sccl_91/137-2898221-1543558?psc=1\"},{\"Url\":\"https://www.amazon.com/Voron-Glass-Chevrolet-Silverado-Deflectors/dp/B087NFBQ5G/ref=zg_bs_g_15735641_sccl_92/137-2898221-1543558?psc=1\"},{\"Url\":\"https://www.amazon.com/STRTSHIP-Deflector-Outside-2003-2009-4Runner/dp/B0BK8YQHVX/ref=zg_bs_g_15735641_sccl_93/137-2898221-1543558?psc=1\"},{\"Url\":\"https://www.amazon.com/lightronic-Deflectors-WV94101-2009-2018-Classic/dp/B07GTWZMWM/ref=zg_bs_g_15735641_sccl_94/137-2898221-1543558?psc=1\"},{\"Url\":\"https://www.amazon.com/Goodyear-Shatterproof-Deflectors-2022-2023-Accessories/dp/B0BWFQVVG3/ref=zg_bs_g_15735641_sccl_95/137-2898221-1543558?psc=1\"},{\"Url\":\"https://www.amazon.com/Optimal-Co-Deflectors-Compatible-Highlander/dp/B084V9JBK8/ref=zg_bs_g_15735641_sccl_96/137-2898221-1543558?psc=1\"},{\"Url\":\"https://www.amazon.com/olltoz-Deflectors-Compatible-2017-2021-Signature/dp/B08X9ZVGGM/ref=zg_bs_g_15735641_sccl_97/137-2898221-1543558?psc=1\"},{\"Url\":\"https://www.amazon.com/VXMOTOR-12-15-Honda-Civic-Sedan/dp/B01AHFCTFQ/ref=zg_bs_g_15735641_sccl_98/137-2898221-1543558?psc=1\"},{\"Url\":\"https://www.amazon.com/Lightronic-WV194768-Deflector-Shatterproof-2016-2020/dp/B089GHZF5H/ref=zg_bs_g_15735641_sccl_99/137-2898221-1543558?psc=1\"},{\"Url\":\"https://www.amazon.com/MUCO-Deflector-2011-2019-Explorer-Tape-Acrylic/dp/B09P4W465H/ref=zg_bs_g_15735641_sccl_100/137-2898221-1543558?psc=1\"},{\"Url\":\"https://www.amazon.com/Goodyear-Shatterproof-Deflectors-2017-2023-Accessories/dp/B0B6FNXCFY/ref=zg_bs_g_15735641_sccl_1/137-2898221-1543558?psc=1\"},{\"Url\":\"https://www.amazon.com/Voron-Glass-Channel-2014-2021-Deflectors/dp/B08PZH9CY8/ref=zg_bs_g_15735641_sccl_2/137-2898221-1543558?psc=1\"},{\"Url\":\"https://www.amazon.com/AUTOCLOVER-Window-SuperCrew-Out-Channel-Deflector/dp/B0B67S92PR/ref=zg_bs_g_15735641_sccl_3/137-2898221-1543558?psc=1\"},{\"Url\":\"https://www.amazon.com/AUTOCLOVER-Window-Toyota-Out-Channel-Deflector/dp/B0BHXRT1ND/ref=zg_bs_g_15735641_sccl_4/137-2898221-1543558?psc=1\"},{\"Url\":\"https://www.amazon.com/Auto-Ventshade-194056-Ventvisor-Deflector/dp/B000CF8W1W/ref=zg_bs_g_15735641_sccl_5/137-2898221-1543558?psc=1\"},{\"Url\":\"https://www.amazon.com/Generic-N630004-OEM-Deflector/dp/B07T93VPQ1/ref=zg_bs_g_15735641_sccl_6/137-2898221-1543558?psc=1\"},{\"Url\":\"https://www.amazon.com/Voron-Glass-Channel-2021-2023-Deflectors/dp/B0BQMP6XFL/ref=zg_bs_g_15735641_sccl_7/137-2898221-1543558?psc=1\"},{\"Url\":\"https://www.amazon.com/2018-2019-Unpainted-Deflector-IKON-MOTORSPORTS/dp/B07G9YRJGY/ref=zg_bs_g_15735641_sccl_8/137-2898221-1543558?psc=1\"},{\"Url\":\"https://www.amazon.com/LQQDP-Outside-Acrylic-Window-Extended/dp/B07MB2CD53/ref=zg_bs_g_15735641_sccl_9/137-2898221-1543558?psc=1\"},{\"Url\":\"https://www.amazon.com/Auto-Ventshade-194623-Ventvisor-Deflector/dp/B000CF6I40/ref=zg_bs_g_15735641_sccl_10/137-2898221-1543558?psc=1\"},{\"Url\":\"https://www.amazon.com/lightronic-Car-Window-Deflectors-Guards-WV94462-2012-2015/dp/B07GZXKFHV/ref=zg_bs_g_15735641_sccl_11/137-2898221-1543558?psc=1\"},{\"Url\":\"https://www.amazon.com/Voron-Glass-2018-2022-Gladiator-Deflectors/dp/B09KM5VTC3/ref=zg_bs_g_15735641_sccl_12/137-2898221-1543558?psc=1\"},{\"Url\":\"https://www.amazon.com/CMVT-Auto-Window-2016-2023-Deflector/dp/B0C7VQGCCD/ref=zg_bs_g_15735641_sccl_13/137-2898221-1543558?psc=1\"},{\"Url\":\"https://www.amazon.com/Goodyear-Shatterproof-Deflectors-2020-2022-Accessories/dp/B0B132KQ72/ref=zg_bs_g_15735641_sccl_14/137-2898221-1543558?psc=1\"},{\"Url\":\"https://www.amazon.com/Auto-Ventshade-Channel-Ventvisor-2022/dp/B0BSVQ4YWY/ref=zg_bs_g_15735641_sccl_15/137-2898221-1543558?psc=1\"},{\"Url\":\"https://www.amazon.com/2011-2019-Deflector-Explorer-Limited-Platinum/dp/B088QN1FFQ/ref=zg_bs_g_15735641_sccl_16/137-2898221-1543558?psc=1\"},{\"Url\":\"https://www.amazon.com/Goodyear-Window-Deflectors-Deflector-Accessories/dp/B09QD3ST3H/ref=zg_bs_g_15735641_sccl_17/137-2898221-1543558?psc=1\"},{\"Url\":\"https://www.amazon.com/Compatible-2011-2020-Acrylic-IKON-MOTORSPORTS/dp/B00IOFW5LK/ref=zg_bs_g_15735641_sccl_18/137-2898221-1543558?psc=1\"},{\"Url\":\"https://www.amazon.com/Goodyear-Shatterproof-Deflectors-2022-2023-Accessories/dp/B0BX4BTNLK/ref=zg_bs_g_15735641_sccl_19/137-2898221-1543558?psc=1\"},{\"Url\":\"https://www.amazon.com/Window-2003-2008-Acrylic-IKON-MOTORSPORTS/dp/B07BHGXCTK/ref=zg_bs_g_15735641_sccl_20/137-2898221-1543558?psc=1\"},{\"Url\":\"https://www.amazon.com/Auto-Ventshade-94044-Ventvisor-Deflector/dp/B000182EX2/ref=zg_bs_g_15735641_sccl_21/137-2898221-1543558?psc=1\"},{\"Url\":\"https://www.amazon.com/AEROGUYS-Channel-Deflectors-2022-2023-Accessories/dp/B0BMQFLF2X/ref=zg_bs_g_15735641_sccl_22/137-2898221-1543558?psc=1\"},{\"Url\":\"https://www.amazon.com/GrandWheel-Deflectors-Compatible-Sportage-2017-2022/dp/B0C9Q9TY15/ref=zg_bs_g_15735641_sccl_23/137-2898221-1543558?psc=1\"},{\"Url\":\"https://www.amazon.com/Cuztom-Tuning-2016-2019-Hatchback-Deflector/dp/B07BFHCG6T/ref=zg_bs_g_15735641_sccl_24/137-2898221-1543558?psc=1\"},{\"Url\":\"https://www.amazon.com/STARTSHIP-Original-Deflector-Outside-2019-2022/dp/B0BK8X2PMV/ref=zg_bs_g_15735641_sccl_25/137-2898221-1543558?psc=1\"},{\"Url\":\"https://www.amazon.com/Auto-Ventshade-194313-Ventvisor-Deflector/dp/B00DDQ194Y/ref=zg_bs_g_15735641_sccl_26/137-2898221-1543558?psc=1\"},{\"Url\":\"https://www.amazon.com/Goodyear-Shatterproof-Deflectors-2019-2022-Accessories/dp/B09GG3J8JF/ref=zg_bs_g_15735641_sccl_27/137-2898221-1543558?psc=1\"},{\"Url\":\"https://www.amazon.com/Auto-Ventshade-94924-Ventvisor-Deflector/dp/B000BOLETQ/ref=zg_bs_g_15735641_sccl_28/137-2898221-1543558?psc=1\"},{\"Url\":\"https://www.amazon.com/Auto-Ventshade-194531-Ventvisor-Deflector/dp/B00GBOMLPQ/ref=zg_bs_g_15735641_sccl_29/137-2898221-1543558?psc=1\"},{\"Url\":\"https://www.amazon.com/olltoz-Tinted-Deflectors-Compatible-Cherokee/dp/B08CB35VL5/ref=zg_bs_g_15735641_sccl_30/137-2898221-1543558?psc=1\"},{\"Url\":\"https://www.amazon.com/Voron-Glass-Durable-2016-2021-Deflectors/dp/B097N7QKWX/ref=zg_bs_g_15735641_sccl_131/137-2898221-1543558?psc=1\"},{\"Url\":\"https://www.amazon.com/Auto-Ventshade-192141-Ventvisor-Deflector/dp/B004IN8Y8A/ref=zg_bs_g_15735641_sccl_132/137-2898221-1543558?psc=1\"},{\"Url\":\"https://www.amazon.com/Goodyear-Shatterproof-Deflectors-Gladiator-Accessories/dp/B0B51K9GJ2/ref=zg_bs_g_15735641_sccl_133/137-2898221-1543558?psc=1\"},{\"Url\":\"https://www.amazon.com/Deflectors-Compatible-Telluride-2020-2023-Prestige/dp/B0BW7855V4/ref=zg_bs_g_15735641_sccl_134/137-2898221-1543558?psc=1\"},{\"Url\":\"https://www.amazon.com/Goodyear-Shatterproof-Deflectors-Deflector-Accessories/dp/B0B6JB6R36/ref=zg_bs_g_15735641_sccl_135/137-2898221-1543558?psc=1\"},{\"Url\":\"https://www.amazon.com/Savadicar-Extensions-Rainwater-Compatible-Accessories/dp/B09F2TPJS2/ref=zg_bs_g_15735641_sccl_136/137-2898221-1543558?psc=1\"},{\"Url\":\"https://www.amazon.com/ISSYAUTO-F150-Raptor-F250-F350/dp/B0BD3D9KV2/ref=zg_bs_g_15735641_sccl_137/137-2898221-1543558?psc=1\"},{\"Url\":\"https://www.amazon.com/Goodyear-Window-Deflectors-Highlander-2014-2019/dp/B07Y8J7MDX/ref=zg_bs_g_15735641_sccl_138/137-2898221-1543558?psc=1\"},{\"Url\":\"https://www.amazon.com/2016-2018-Acrylic-Deflector-IKON-MOTORSPORTS/dp/B07FSD69WP/ref=zg_bs_g_15735641_sccl_139/137-2898221-1543558?psc=1\"},{\"Url\":\"https://www.amazon.com/Window-Visors-1999-2004-Grand-Cherokee/dp/B01L10PHCI/ref=zg_bs_g_15735641_sccl_140/137-2898221-1543558?psc=1\"},{\"Url\":\"https://www.amazon.com/1995-2005-Acrylic-Deflector-IKON-MOTORSPORTS/dp/B07CCKXRQL/ref=zg_bs_g_15735641_sccl_141/137-2898221-1543558?psc=1\"},{\"Url\":\"https://www.amazon.com/Voron-Glass-Durable-2010-2021-Deflectors/dp/B097RVNGMF/ref=zg_bs_g_15735641_sccl_142/137-2898221-1543558?psc=1\"},{\"Url\":\"https://www.amazon.com/2002-2006-Avalanche-2001-2006-2001-2007-Silverado/dp/B088WM8ZYK/ref=zg_bs_g_15735641_sccl_143/137-2898221-1543558?psc=1\"},{\"Url\":\"https://www.amazon.com/AUTOCLOVER-4Runner-2010-2022-Out-Channel-Deflector/dp/B0B79M54F5/ref=zg_bs_g_15735641_sccl_144/137-2898221-1543558?psc=1\"},{\"Url\":\"https://www.amazon.com/Auto-Ventshade-Outside-Mount-Ventvisor/dp/B000182EWS/ref=zg_bs_g_15735641_sccl_145/137-2898221-1543558?psc=1\"},{\"Url\":\"https://www.amazon.com/Goodyear-Shatterproof-Deflectors-2011-2022-Accessories/dp/B09VXGR94J/ref=zg_bs_g_15735641_sccl_146/137-2898221-1543558?psc=1\"},{\"Url\":\"https://www.amazon.com/Voron-Glass-Chevrolet-Silverado-Deflectors/dp/B0BM4K25VR/ref=zg_bs_g_15735641_sccl_147/137-2898221-1543558?psc=1\"},{\"Url\":\"https://www.amazon.com/Goodyear-Shatterproof-Deflectors-Accessories-GY003198LP/dp/B08FTK47VT/ref=zg_bs_g_15735641_sccl_148/137-2898221-1543558?psc=1\"},{\"Url\":\"https://www.amazon.com/Lightronic-WV194425-Deflector-Shatterproof-2007-2011/dp/B0BWNBW61Q/ref=zg_bs_g_15735641_sccl_149/137-2898221-1543558?psc=1\"},{\"Url\":\"https://www.amazon.com/Voron-Glass-Durable-Sportage-Deflectors/dp/B0BX3Q3G4C/ref=zg_bs_g_15735641_sccl_150/137-2898221-1543558?psc=1\"},{\"Url\":\"https://www.amazon.com/Lightronic-Outside-Mount-Deflector-Shatterproof-2009-2020/dp/B07QTHLWVK/ref=zg_bs_g_15735641_sccl_1/137-2898221-1543558?psc=1\"},{\"Url\":\"https://www.amazon.com/Lightronic-Window-Visors-4Piece-2006-2011/dp/B07GZXLT7F/ref=zg_bs_g_15735641_sccl_2/137-2898221-1543558?psc=1\"},{\"Url\":\"https://www.amazon.com/2001-2006-Silverado-Deflector-IKON-MOTORSPORTS/dp/B07BHKY36Y/ref=zg_bs_g_15735641_sccl_3/137-2898221-1543558?psc=1\"},{\"Url\":\"https://www.amazon.com/Lightronic-Deflector-Shatterproof-Chrysler-2011-2020/dp/B089GJ44MT/ref=zg_bs_g_15735641_sccl_4/137-2898221-1543558?psc=1\"},{\"Url\":\"https://www.amazon.com/2001-2005-Acrylic-Semi-transparent-IKON-MOTORSPORTS/dp/B01HO657RS/ref=zg_bs_g_15735641_sccl_5/137-2898221-1543558?psc=1\"},{\"Url\":\"https://www.amazon.com/Window-2014-2017-Corolla-IKON-MOTORSPORTS/dp/B075ZMP422/ref=zg_bs_g_15735641_sccl_6/137-2898221-1543558?psc=1\"},{\"Url\":\"https://www.amazon.com/Auto-Ventshade-92002-Ventvisor-Deflector/dp/B0026CKZ0A/ref=zg_bs_g_15735641_sccl_7/137-2898221-1543558?psc=1\"},{\"Url\":\"https://www.amazon.com/Lightronic-1997-2017-Expedition-2007-2017-1998-2017/dp/B07TJS1DLN/ref=zg_bs_g_15735641_sccl_8/137-2898221-1543558?psc=1\"},{\"Url\":\"https://www.amazon.com/Goodyear-Shatterproof-Deflectors-Volkswagen-Accessories/dp/B09GK8L33W/ref=zg_bs_g_15735641_sccl_9/137-2898221-1543558?psc=1\"},{\"Url\":\"https://www.amazon.com/Lightronic-WV94073-Deflector-Shatterproof-2009-2013/dp/B07FXDXJBN/ref=zg_bs_g_15735641_sccl_10/137-2898221-1543558?psc=1\"},{\"Url\":\"https://www.amazon.com/Goodyear-Shatterproof-Deflectors-Accessories-GY003405LP/dp/B098FHQLQ7/ref=zg_bs_g_15735641_sccl_11/137-2898221-1543558?psc=1\"},{\"Url\":\"https://www.amazon.com/TONYTIM-Window-Visors-2007-2013-Deflectors/dp/B0773B6KFD/ref=zg_bs_g_15735641_sccl_12/137-2898221-1543558?psc=1\"},{\"Url\":\"https://www.amazon.com/2012-2016-Semi-transparent-Deflector-IKON-MOTORSPORTS/dp/B07FYBZ5SC/ref=zg_bs_g_15735641_sccl_13/137-2898221-1543558?psc=1\"},{\"Url\":\"https://www.amazon.com/Lightronic-WV94161-Window-2009-2017-Traverse/dp/B07TF5WGZH/ref=zg_bs_g_15735641_sccl_14/137-2898221-1543558?psc=1\"},{\"Url\":\"https://www.amazon.com/DNA-MOTORING-WVS-015-Window-Deflector/dp/B0727R7QJ3/ref=zg_bs_g_15735641_sccl_15/137-2898221-1543558?psc=1\"},{\"Url\":\"https://www.amazon.com/Lightronic-WV94249-2007-2018-Wrangler-Unlimited/dp/B07V5KZ9H4/ref=zg_bs_g_15735641_sccl_16/137-2898221-1543558?psc=1\"},{\"Url\":\"https://www.amazon.com/ALAVENTE-Channel-Deflectors-Ventvisor-Wrangler/dp/B08GKBGN4Q/ref=zg_bs_g_15735641_sccl_17/137-2898221-1543558?psc=1\"},{\"Url\":\"https://www.amazon.com/Lightronic-2007-2013-Silverado-2007-2014-Extended/dp/B07JJ8MYYS/ref=zg_bs_g_15735641_sccl_18/137-2898221-1543558?psc=1\"},{\"Url\":\"https://www.amazon.com/Goodyear-Shatterproof-Deflectors-2021-2023-Accessories/dp/B0BDM2NZHY/ref=zg_bs_g_15735641_sccl_19/137-2898221-1543558?psc=1\"},{\"Url\":\"https://www.amazon.com/FEIDKS-Deflector-2018-2022-Toyota-Camry/dp/B09XTZ1VKH/ref=zg_bs_g_15735641_sccl_20/137-2898221-1543558?psc=1\"},{\"Url\":\"https://www.amazon.com/Window-Deflectors-2007-2013-Silverado-Extended/dp/B084P8KJNG/ref=zg_bs_g_15735641_sccl_21/137-2898221-1543558?psc=1\"},{\"Url\":\"https://www.amazon.com/CLIM-ART-Incredibly-Compatible-Deflectors/dp/B0B6437PQF/ref=zg_bs_g_15735641_sccl_22/137-2898221-1543558?psc=1\"},{\"Url\":\"https://www.amazon.com/PLDDE-Chrome-Window-Visors-Outside/dp/B082CY8N23/ref=zg_bs_g_15735641_sccl_23/137-2898221-1543558?psc=1\"},{\"Url\":\"https://www.amazon.com/CLIM-ART-Incredibly-Deflectors-Accessories/dp/B0C23TF2XR/ref=zg_bs_g_15735641_sccl_24/137-2898221-1543558?psc=1\"},{\"Url\":\"https://www.amazon.com/ZONFANT-Window-Deflectors-Compatible-Sportage/dp/B0BNBHYZWX/ref=zg_bs_g_15735641_sccl_25/137-2898221-1543558?psc=1\"},{\"Url\":\"https://www.amazon.com/AUTOCLOVER-Black-Visor-Out-Channel-Deflector/dp/B07JHW3586/ref=zg_bs_g_15735641_sccl_26/137-2898221-1543558?psc=1\"},{\"Url\":\"https://www.amazon.com/Auto-Ventshade-194084-Ventvisor-Deflector/dp/B002M5QFIW/ref=zg_bs_g_15735641_sccl_27/137-2898221-1543558?psc=1\"},{\"Url\":\"https://www.amazon.com/Auto-Ventshade-92503-Ventvisor-Deflector/dp/B000182EW8/ref=zg_bs_g_15735641_sccl_28/137-2898221-1543558?psc=1\"},{\"Url\":\"https://www.amazon.com/MZS-Window-Compatible-Vent-Shades/dp/B0C1VGGMT2/ref=zg_bs_g_15735641_sccl_29/137-2898221-1543558?psc=1\"},{\"Url\":\"https://www.amazon.com/MUCO-Deflector-CrewMax-Platinum-TRD-Rain/dp/B0BNMMVG81/ref=zg_bs_g_15735641_sccl_30/137-2898221-1543558?psc=1\"},{\"Url\":\"https://www.amazon.com/Auto-Ventshade-192077-Ventvisor-Deflector/dp/B000JKOS68/ref=zg_bs_g_15735641_sccl_181/137-2898221-1543558?psc=1\"},{\"Url\":\"https://www.amazon.com/WeatherTech-82792-SWD-DK-Tacoma/dp/B01MG2LUJ5/ref=zg_bs_g_15735641_sccl_182/137-2898221-1543558?psc=1\"},{\"Url\":\"https://www.amazon.com/AUTOCLOVER-Smoked-Window-Visor-E291/dp/B0C7H5PT96/ref=zg_bs_g_15735641_sccl_183/137-2898221-1543558?psc=1\"},{\"Url\":\"https://www.amazon.com/Lightornic-Window-Deflector-2004-2014-Supercab/dp/B07GXB7VMT/ref=zg_bs_g_15735641_sccl_184/137-2898221-1543558?psc=1\"},{\"Url\":\"https://www.amazon.com/Lightronic-WV194810-Channel-2006-2010-Charger/dp/B081RMCQVP/ref=zg_bs_g_15735641_sccl_185/137-2898221-1543558?psc=1\"},{\"Url\":\"https://www.amazon.com/Deflectors-Compatible-Chevrolet-Traverse-2018-2023/dp/B0BW7KJN6R/ref=zg_bs_g_15735641_sccl_186/137-2898221-1543558?psc=1\"},{\"Url\":\"https://www.amazon.com/Auto-Ventshade-92099-Ventvisor-Deflector/dp/B000182EUU/ref=zg_bs_g_15735641_sccl_187/137-2898221-1543558?psc=1\"},{\"Url\":\"https://www.amazon.com/olltoz-SmokeTinted-Deflectors-Compatible-2005-2021/dp/B08GX1VLWV/ref=zg_bs_g_15735641_sccl_188/137-2898221-1543558?psc=1\"},{\"Url\":\"https://www.amazon.com/Voron-Glass-Volkswagen-Deflectors-Pieces-100435/dp/B0BSQX7SN3/ref=zg_bs_g_15735641_sccl_189/137-2898221-1543558?psc=1\"},{\"Url\":\"https://www.amazon.com/1999-2016-Acrylic-Deflector-IKON-MOTORSPORTS/dp/B07CGKJG3S/ref=zg_bs_g_15735641_sccl_190/137-2898221-1543558?psc=1\"},{\"Url\":\"https://www.amazon.com/Optimal-Co-Deflectors-Compatible-Chevrolet/dp/B08CG4X3ZW/ref=zg_bs_g_15735641_sccl_191/137-2898221-1543558?psc=1\"},{\"Url\":\"https://www.amazon.com/Auto-Ventshade-194977-Ventvisor-Deflector/dp/B01C711EMM/ref=zg_bs_g_15735641_sccl_192/137-2898221-1543558?psc=1\"},{\"Url\":\"https://www.amazon.com/Auto-Ventshade-896081-Ventvisor-Deflector/dp/B07R92NBNJ/ref=zg_bs_g_15735641_sccl_193/137-2898221-1543558?psc=1\"},{\"Url\":\"https://www.amazon.com/Lightronic-WV94632-2007-2016-2017-2019-2007-2010/dp/B07TV318GH/ref=zg_bs_g_15735641_sccl_194/137-2898221-1543558?psc=1\"},{\"Url\":\"https://www.amazon.com/Goodyear-Shatterproof-Deflectors-Deflector-Accessories/dp/B0BCWT3FJT/ref=zg_bs_g_15735641_sccl_195/137-2898221-1543558?psc=1\"},{\"Url\":\"https://www.amazon.com/2004-2012-Colorado-Deflector-IKON-MOTORSPORTS/dp/B07C4WKB1C/ref=zg_bs_g_15735641_sccl_196/137-2898221-1543558?psc=1\"},{\"Url\":\"https://www.amazon.com/Auto-Ventshade-194101-Ventvisor-Deflector/dp/B001O5RF1M/ref=zg_bs_g_15735641_sccl_197/137-2898221-1543558?psc=1\"},{\"Url\":\"https://www.amazon.com/CLIM-ART-Incredibly-Deflectors-Accessories/dp/B0B6JB5FHB/ref=zg_bs_g_15735641_sccl_198/137-2898221-1543558?psc=1\"},{\"Url\":\"https://www.amazon.com/Lightronic-WV94267-Window-2011-2019-Durango/dp/B07TD34RQR/ref=zg_bs_g_15735641_sccl_199/137-2898221-1543558?psc=1\"},{\"Url\":\"https://www.amazon.com/Auto-Ventshade-194714-Ventvisor-Deflector/dp/B00C7PX19I/ref=zg_bs_g_15735641_sccl_200/137-2898221-1543558?psc=1\"}]'"
      ]
     },
     "execution_count": 6,
     "metadata": {},
     "output_type": "execute_result"
    }
   ],
   "source": [
    "pyperclip.copy(data)\n",
    "\n",
    "data"
   ]
  },
  {
   "cell_type": "code",
   "execution_count": null,
   "id": "28a549e4",
   "metadata": {},
   "outputs": [],
   "source": []
  }
 ],
 "metadata": {
  "kernelspec": {
   "display_name": "Python 3 (ipykernel)",
   "language": "python",
   "name": "python3"
  },
  "language_info": {
   "codemirror_mode": {
    "name": "ipython",
    "version": 3
   },
   "file_extension": ".py",
   "mimetype": "text/x-python",
   "name": "python",
   "nbconvert_exporter": "python",
   "pygments_lexer": "ipython3",
   "version": "3.11.5"
  }
 },
 "nbformat": 4,
 "nbformat_minor": 5
}
