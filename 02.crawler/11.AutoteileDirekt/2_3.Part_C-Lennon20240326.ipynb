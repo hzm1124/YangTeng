{
 "cells": [
  {
   "cell_type": "code",
   "execution_count": null,
   "id": "438ad4f6",
   "metadata": {},
   "outputs": [],
   "source": [
    "import pandas as pd\n",
    "\n",
    "df = pd.DataFrame()"
   ]
  },
  {
   "cell_type": "code",
   "execution_count": null,
   "id": "5869723b",
   "metadata": {},
   "outputs": [],
   "source": [
    "import os"
   ]
  },
  {
   "cell_type": "code",
   "execution_count": null,
   "id": "e752dc55",
   "metadata": {},
   "outputs": [],
   "source": [
    "list_file = list(os.walk('./part'))[0][2]\n",
    "if '.DS_Store' in list_file:\n",
    "    list_file.remove('.DS_Store')\n",
    "if '0.null.txt' in list_file:\n",
    "    list_file.remove('0.null.txt')\n",
    "    \n",
    "list_file.sort()\n",
    "    \n",
    "len(list_file)"
   ]
  },
  {
   "cell_type": "code",
   "execution_count": null,
   "id": "8531cb55",
   "metadata": {},
   "outputs": [],
   "source": [
    "from bs4 import BeautifulSoup\n",
    "from lxml import etree"
   ]
  },
  {
   "cell_type": "code",
   "execution_count": null,
   "id": "de5304a7",
   "metadata": {},
   "outputs": [],
   "source": [
    "a = 0\n",
    "\n",
    "with open('./part/' + list_file[a], 'r', encoding='UTF-8') as file:\n",
    "    resp = file.read()\n",
    "    \n",
    "soup = BeautifulSoup(resp, 'lxml')\n",
    "html = etree.HTML(str(soup))\n",
    "\n",
    "with open('./part.html', 'w', encoding='UTF-8') as file:\n",
    "    file.write(str(soup))\n",
    "\n",
    "print(soup.prettify())"
   ]
  },
  {
   "cell_type": "code",
   "execution_count": null,
   "id": "971b1a34",
   "metadata": {},
   "outputs": [],
   "source": [
    "title = html.xpath('//h1[@class=\"product__title-link\"]/text()')[0].strip()\n",
    "\n",
    "title"
   ]
  },
  {
   "cell_type": "code",
   "execution_count": null,
   "id": "bd83317c",
   "metadata": {},
   "outputs": [],
   "source": [
    "subtitle = html.xpath('//h1[@class=\"product__title-link\"]/span[@class=\"product__subtitle\"]/text()')\n",
    "if len(subtitle) == 0:\n",
    "    subtitle = ''\n",
    "else:\n",
    "    subtitle = subtitle[0].strip()\n",
    "    \n",
    "subtitle"
   ]
  },
  {
   "cell_type": "code",
   "execution_count": null,
   "id": "75085502",
   "metadata": {},
   "outputs": [],
   "source": [
    "import re"
   ]
  },
  {
   "cell_type": "code",
   "execution_count": null,
   "id": "af195589",
   "metadata": {},
   "outputs": [],
   "source": [
    "artkl = re.sub('\\n +', '\\n', html.xpath('//div[@class=\"product__artkl\"]/text()')[0].strip())\n",
    "\n",
    "print(artkl)"
   ]
  },
  {
   "cell_type": "code",
   "execution_count": null,
   "id": "a0e6d488",
   "metadata": {},
   "outputs": [],
   "source": [
    "product_id = html.xpath('//div[@class=\"product\"]/@data-article-id')[0].strip()\n",
    "\n",
    "product_id"
   ]
  },
  {
   "cell_type": "code",
   "execution_count": null,
   "id": "438c519c",
   "metadata": {},
   "outputs": [],
   "source": [
    "price = html.xpath('//div[@class=\"product__new-price\"]/text()')[0].strip()\n",
    "\n",
    "price"
   ]
  },
  {
   "cell_type": "code",
   "execution_count": null,
   "id": "040627b3",
   "metadata": {
    "scrolled": true
   },
   "outputs": [],
   "source": [
    "list_oe = []\n",
    "list_li = html.xpath('//div[@class=\"product-oem__list\"]/ul/li')\n",
    "for li in list_li:\n",
    "    if len(li.xpath('./a')) == 0:\n",
    "        list_oe.append(re.sub('^.*?OE-', '', li.xpath('./text()')[0].strip()))\n",
    "    else:\n",
    "        list_oe.append(re.sub('^.*?OE-', '', li.xpath('./a/text()')[0].strip()))\n",
    "        \n",
    "list_oe"
   ]
  },
  {
   "cell_type": "code",
   "execution_count": null,
   "id": "00c6a56f",
   "metadata": {},
   "outputs": [],
   "source": [
    "kit = '\\n'.join([re.sub('\\n +', ' ', kit.strip()) for kit in html.xpath('//div[@class=\"product__kit\"]/ul/li/text()')])\n",
    "\n",
    "print(kit)"
   ]
  },
  {
   "cell_type": "code",
   "execution_count": null,
   "id": "9b48d630",
   "metadata": {},
   "outputs": [],
   "source": [
    "src = html.xpath('//div[contains(@class, \"main-image\")]/img/@src')[0].strip()\n",
    "\n",
    "src"
   ]
  },
  {
   "cell_type": "code",
   "execution_count": null,
   "id": "dbff6672",
   "metadata": {},
   "outputs": [],
   "source": [
    "maker_id = ';'.join([maker.strip() for maker in html.xpath('//div[@class=\"compatibility__maker-title\"]/@data-maker-id')])\n",
    "\n",
    "maker_id"
   ]
  },
  {
   "cell_type": "code",
   "execution_count": null,
   "id": "392a2804",
   "metadata": {},
   "outputs": [],
   "source": [
    "list_tr = html.xpath('//table[@class=\"product__table\"]/tr')\n",
    "\n",
    "list_tr"
   ]
  },
  {
   "cell_type": "code",
   "execution_count": null,
   "id": "65fafdc8",
   "metadata": {
    "scrolled": true
   },
   "outputs": [],
   "source": [
    "list_li = html.xpath('//div[@class=\"product-analogs__wrapper\"]/ul/li')\n",
    "\n",
    "list_li"
   ]
  },
  {
   "cell_type": "code",
   "execution_count": null,
   "id": "ee6c62db",
   "metadata": {},
   "outputs": [],
   "source": [
    "df_temp = pd.DataFrame([{'序号': int(list_file[a].replace('.txt', '')),\n",
    "                         'Title': title,\n",
    "                         'Subtitle': subtitle,\n",
    "                         'Artkl': artkl,\n",
    "                         'Product_Id': product_id,\n",
    "                         'Price': price,\n",
    "                         'Vehicle_1': '',\n",
    "                         'Vehicle_2': '',\n",
    "                         'OE': ';'.join(list_oe),\n",
    "                         'Kit': kit,\n",
    "                         'Pic': '',\n",
    "                         'Url': '',\n",
    "                         'Src': src,\n",
    "                         'Maker_Id': maker_id}])\n",
    "    \n",
    "for tr in list_tr:\n",
    "    name = tr.xpath('./td[1]/text()')[0].strip()\n",
    "    if name[-1] == ':':\n",
    "        df_temp.loc[0, name.upper()[:-1]] = tr.xpath('./td[2]/text()')[0].strip()\n",
    "    else:\n",
    "        df_temp.loc[0, name.upper()] = tr.xpath('./td[2]/text()')[0].strip()\n",
    "\n",
    "for li in list_li:\n",
    "    name = li.xpath('./span/text()')[0].strip()\n",
    "    if name[-1] == ':':\n",
    "        df_temp.loc[0, name.lower()[:-1]] = ''.join(li.xpath('./text()')).strip()\n",
    "    else:\n",
    "        df_temp.loc[0, name.lower()] = ''.join(li.xpath('./text()')).strip()\n",
    "\n",
    "df = pd.concat([df, df_temp], ignore_index=True).fillna('')\n",
    "    \n",
    "len(df)"
   ]
  },
  {
   "cell_type": "code",
   "execution_count": null,
   "id": "efcc191b",
   "metadata": {},
   "outputs": [],
   "source": [
    "df = df.drop_duplicates(ignore_index=True)\n",
    "df = df.sort_values(by=['序号'], ascending=[True]).reset_index(drop=True)\n",
    "df.to_excel('./part.xlsx', index=False)\n",
    "\n",
    "df"
   ]
  },
  {
   "cell_type": "code",
   "execution_count": null,
   "id": "036a324a",
   "metadata": {},
   "outputs": [],
   "source": []
  }
 ],
 "metadata": {
  "kernelspec": {
   "display_name": "Python 3 (ipykernel)",
   "language": "python",
   "name": "python3"
  },
  "language_info": {
   "codemirror_mode": {
    "name": "ipython",
    "version": 3
   },
   "file_extension": ".py",
   "mimetype": "text/x-python",
   "name": "python",
   "nbconvert_exporter": "python",
   "pygments_lexer": "ipython3",
   "version": "3.11.3"
  }
 },
 "nbformat": 4,
 "nbformat_minor": 5
}
