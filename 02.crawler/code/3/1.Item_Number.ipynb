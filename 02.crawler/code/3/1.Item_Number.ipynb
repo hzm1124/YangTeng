{
 "cells": [
  {
   "cell_type": "code",
   "execution_count": 1,
   "id": "5e5971dc-bc41-4105-8200-f57931ef4aef",
   "metadata": {},
   "outputs": [],
   "source": [
    "list_item_number = []"
   ]
  },
  {
   "cell_type": "code",
   "execution_count": 2,
   "id": "54a84413-49db-45d7-ab2f-ff982c72b4cf",
   "metadata": {},
   "outputs": [],
   "source": [
    "from urllib.parse import urlsplit"
   ]
  },
  {
   "cell_type": "code",
   "execution_count": 3,
   "id": "01cc7963-c152-40eb-a882-5b1cd8919cbf",
   "metadata": {},
   "outputs": [
    {
     "data": {
      "text/plain": [
       "SplitResult(scheme='https', netloc='www.ebay.com', path='/sch/i.html', query='_dkr=1&iconV2Request=true&_blrs=recall_filtering&_ssn=scitoo-autoparts&store_cat=0&store_name=cnbatteries&_oac=1&_nkw=ac+compressor&_stpos=91710&_fcid=1&_sop=15', fragment='')"
      ]
     },
     "execution_count": 3,
     "metadata": {},
     "output_type": "execute_result"
    }
   ],
   "source": [
    "tuple_ = urlsplit('https://www.ebay.com/sch/i.html?_dkr=1&iconV2Request=true&_blrs=recall_filtering&_ssn=scitoo-autoparts&store_cat=0&store_name=cnbatteries&_oac=1&_nkw=ac+compressor&_stpos=91710&_fcid=1&_sop=15')\n",
    "\n",
    "tuple_"
   ]
  },
  {
   "cell_type": "code",
   "execution_count": 4,
   "id": "867dd989-bcd5-4057-90c6-251f76906710",
   "metadata": {},
   "outputs": [],
   "source": [
    "from urllib.parse import parse_qs"
   ]
  },
  {
   "cell_type": "code",
   "execution_count": 5,
   "id": "3619e53f-740a-4ff8-a842-3d87d54d0526",
   "metadata": {},
   "outputs": [
    {
     "data": {
      "text/plain": [
       "{'_dkr': '1',\n",
       " 'iconV2Request': 'true',\n",
       " '_blrs': 'recall_filtering',\n",
       " '_ssn': 'scitoo-autoparts',\n",
       " 'store_cat': '0',\n",
       " 'store_name': 'cnbatteries',\n",
       " '_oac': '1',\n",
       " '_nkw': 'ac compressor',\n",
       " '_stpos': '91710',\n",
       " '_fcid': '1',\n",
       " '_sop': '15'}"
      ]
     },
     "execution_count": 5,
     "metadata": {},
     "output_type": "execute_result"
    }
   ],
   "source": [
    "dict_query = {key: value[0] for key, value in parse_qs(tuple_.query).items()}\n",
    "\n",
    "dict_query"
   ]
  },
  {
   "cell_type": "code",
   "execution_count": 6,
   "id": "65647c80-575d-42ae-94ea-a66ff88ac19a",
   "metadata": {},
   "outputs": [
    {
     "data": {
      "text/plain": [
       "{'_dkr': '1',\n",
       " 'iconV2Request': 'true',\n",
       " '_blrs': 'recall_filtering',\n",
       " '_ssn': 'scitoo-autoparts',\n",
       " 'store_cat': '0',\n",
       " 'store_name': 'cnbatteries',\n",
       " '_oac': '1',\n",
       " '_nkw': 'ac compressor',\n",
       " '_stpos': '91710',\n",
       " '_fcid': '1',\n",
       " '_sop': '15',\n",
       " '_ipg': 240,\n",
       " '_pgn': 1,\n",
       " '_ul': 'US'}"
      ]
     },
     "execution_count": 6,
     "metadata": {},
     "output_type": "execute_result"
    }
   ],
   "source": [
    "dict_query['_ipg'] = 240\n",
    "dict_query['_pgn'] = 1\n",
    "dict_query['_sop'] = dict_query['_sop'] if '_sop' in dict_query else 15\n",
    "if tuple_.netloc == 'www.ebay.com':\n",
    "    dict_query['_ul'] = 'US'\n",
    "    dict_query['_stpos'] = '91710'\n",
    "elif tuple_.netloc == 'www.ebay.de':\n",
    "    dict_query['_ul'] = 'DE'\n",
    "    dict_query['_stpos'] = '10115'\n",
    "elif tuple_.netloc == 'www.ebay.co.uk':\n",
    "    dict_query['_ul'] = 'GB'\n",
    "    dict_query['_stpos'] = 'BS81QU'\n",
    "elif tuple_.netloc == 'www.ebay.com.au':\n",
    "    dict_query['_ul'] = 'AU'\n",
    "    dict_query['_stpos'] = '2019'\n",
    "elif tuple_.netloc == 'www.ebay.ca':\n",
    "    dict_query['_ul'] = 'CA'\n",
    "    dict_query['_stpos'] = 'M5S2E8'\n",
    "elif tuple_.netloc == 'www.ebay.fr': # 法国\n",
    "    dict_query['_ul'] = 'FR'\n",
    "    dict_query['_stpos'] = '75001'\n",
    "elif tuple_.netloc == 'www.ebay.it': # 意大利\n",
    "    dict_query['_ul'] = 'IT'\n",
    "    dict_query['_stpos'] = '00184'\n",
    "elif tuple_.netloc == 'www.ebay.ie': # 爱尔兰\n",
    "    dict_query['_ul'] = 'IE'\n",
    "    dict_query['_stpos'] = 'D01F5P2'\n",
    "elif tuple_.netloc == 'www.ebay.es': # 西班牙\n",
    "    dict_query['_ul'] = 'ES'\n",
    "    dict_query['_stpos'] = '28001'\n",
    "elif tuple_.netloc == 'www.ebay.at': # 奥地利\n",
    "    dict_query['_ul'] = 'AT'\n",
    "    dict_query['_stpos'] = '1010'\n",
    "elif tuple_.netloc == 'www.befr.ebay.be': # 比利时\n",
    "    dict_query['_ul'] = 'BE'\n",
    "    dict_query['_stpos'] = '1000'\n",
    "\n",
    "dict_query"
   ]
  },
  {
   "cell_type": "code",
   "execution_count": 7,
   "id": "584e4e1f-60c3-432a-ba89-64f5b6788351",
   "metadata": {},
   "outputs": [],
   "source": [
    "from urllib.parse import urlunsplit\n",
    "from urllib.parse import urlencode"
   ]
  },
  {
   "cell_type": "code",
   "execution_count": 8,
   "id": "6e785740-7c0e-48cf-9040-53132dc78501",
   "metadata": {},
   "outputs": [
    {
     "data": {
      "text/plain": [
       "'https://www.ebay.com/sch/i.html?_dkr=1&iconV2Request=true&_blrs=recall_filtering&_ssn=scitoo-autoparts&store_cat=0&store_name=cnbatteries&_oac=1&_nkw=ac+compressor&_stpos=91710&_fcid=1&_sop=15&_ipg=240&_pgn=1&_ul=US'"
      ]
     },
     "execution_count": 8,
     "metadata": {},
     "output_type": "execute_result"
    }
   ],
   "source": [
    "url = urlunsplit((tuple_.scheme, tuple_.netloc, tuple_.path, urlencode(dict_query), tuple_.fragment))\n",
    "\n",
    "url"
   ]
  },
  {
   "cell_type": "code",
   "execution_count": 9,
   "id": "3e41f2ed-7d41-4523-9301-e61ca004a9f4",
   "metadata": {},
   "outputs": [],
   "source": [
    "import requests\n",
    "\n",
    "import sys\n",
    "sys.path.append('../00.Tools')\n",
    "from configuration import generate_header, generate_proxy"
   ]
  },
  {
   "cell_type": "code",
   "execution_count": 10,
   "id": "db420fad-1589-407c-9536-020ffc677a82",
   "metadata": {},
   "outputs": [
    {
     "data": {
      "text/plain": [
       "200"
      ]
     },
     "execution_count": 10,
     "metadata": {},
     "output_type": "execute_result"
    }
   ],
   "source": [
    "response = requests.get(url,\n",
    "                        headers=generate_header(**{'Accept-Language': 'en'}),\n",
    "                        proxies=generate_proxy(),\n",
    "                        timeout=(10, 15),\n",
    "                        allow_redirects=False)\n",
    "\n",
    "response.status_code"
   ]
  },
  {
   "cell_type": "code",
   "execution_count": 11,
   "id": "70423d13-0454-4f2c-9d28-ba435651e82d",
   "metadata": {},
   "outputs": [
    {
     "data": {
      "text/plain": [
       "SplitResult(scheme='https', netloc='www.ebay.com', path='/sch/i.html', query='_dkr=1&iconV2Request=true&_blrs=recall_filtering&_ssn=scitoo-autoparts&store_cat=0&store_name=cnbatteries&_oac=1&_nkw=ac+compressor&_stpos=91710&_fcid=1&_sop=15&_ipg=240&_pgn=1&_ul=US', fragment='')"
      ]
     },
     "execution_count": 11,
     "metadata": {},
     "output_type": "execute_result"
    }
   ],
   "source": [
    "tuple_ = urlsplit('https://www.ebay.com/sch/i.html?_dkr=1&iconV2Request=true&_blrs=recall_filtering&_ssn=scitoo-autoparts&store_cat=0&store_name=cnbatteries&_oac=1&_nkw=ac+compressor&_stpos=91710&_fcid=1&_sop=15&_ipg=240&_pgn=1&_ul=US')\n",
    "\n",
    "tuple_"
   ]
  },
  {
   "cell_type": "code",
   "execution_count": 12,
   "id": "90a4279d-4310-4152-a9de-4ba364aab945",
   "metadata": {},
   "outputs": [
    {
     "data": {
      "text/plain": [
       "{'_dkr': '1',\n",
       " 'iconV2Request': 'true',\n",
       " '_blrs': 'recall_filtering',\n",
       " '_ssn': 'scitoo-autoparts',\n",
       " 'store_cat': '0',\n",
       " 'store_name': 'cnbatteries',\n",
       " '_oac': '1',\n",
       " '_nkw': 'ac compressor',\n",
       " '_stpos': '91710',\n",
       " '_fcid': '1',\n",
       " '_sop': '15',\n",
       " '_ipg': '240',\n",
       " '_pgn': '1',\n",
       " '_ul': 'US'}"
      ]
     },
     "execution_count": 12,
     "metadata": {},
     "output_type": "execute_result"
    }
   ],
   "source": [
    "dict_query = {key: value[0] for key, value in parse_qs(tuple_.query).items()}\n",
    "\n",
    "dict_query"
   ]
  },
  {
   "cell_type": "code",
   "execution_count": 13,
   "id": "3efbc2ff-6b67-45a9-b8f5-eaeb494b90f6",
   "metadata": {},
   "outputs": [
    {
     "data": {
      "text/plain": [
       "1"
      ]
     },
     "execution_count": 13,
     "metadata": {},
     "output_type": "execute_result"
    }
   ],
   "source": [
    "page = int(dict_query['_pgn'])\n",
    "\n",
    "page"
   ]
  },
  {
   "cell_type": "code",
   "execution_count": 14,
   "id": "80bbe4fb-9143-423a-8f6c-11060fccd3bc",
   "metadata": {},
   "outputs": [],
   "source": [
    "from bs4 import BeautifulSoup"
   ]
  },
  {
   "cell_type": "code",
   "execution_count": 15,
   "id": "e6fecca7-7fc3-4307-9bb0-4292e386bf68",
   "metadata": {},
   "outputs": [
    {
     "name": "stderr",
     "output_type": "stream",
     "text": [
      "IOPub data rate exceeded.\n",
      "The Jupyter server will temporarily stop sending output\n",
      "to the client in order to avoid crashing it.\n",
      "To change this limit, set the config variable\n",
      "`--ServerApp.iopub_data_rate_limit`.\n",
      "\n",
      "Current values:\n",
      "ServerApp.iopub_data_rate_limit=1000000.0 (bytes/sec)\n",
      "ServerApp.rate_limit_window=3.0 (secs)\n",
      "\n"
     ]
    }
   ],
   "source": [
    "soup = BeautifulSoup(response.text, 'html5lib')\n",
    "\n",
    "with open('./1.item_number.html', 'w', encoding='utf-8') as file:\n",
    "    file.write(str(soup))\n",
    "\n",
    "print(soup.prettify())"
   ]
  },
  {
   "cell_type": "code",
   "execution_count": 16,
   "id": "30c1d922-9d47-485d-a31d-672353decadf",
   "metadata": {},
   "outputs": [],
   "source": [
    "from parsel import Selector"
   ]
  },
  {
   "cell_type": "code",
   "execution_count": 17,
   "id": "09843eaa-85cc-46f7-b165-47acb027abb7",
   "metadata": {},
   "outputs": [
    {
     "data": {
      "text/plain": [
       "<Selector query=None data='<html lang=\"en\"><!--<![endif]--><!--M...'>"
      ]
     },
     "execution_count": 17,
     "metadata": {},
     "output_type": "execute_result"
    }
   ],
   "source": [
    "selector = Selector(text=str(soup))\n",
    "\n",
    "selector"
   ]
  },
  {
   "cell_type": "code",
   "execution_count": 18,
   "id": "839ece6d-bcd5-4579-bf12-98008f8f55dc",
   "metadata": {},
   "outputs": [
    {
     "data": {
      "text/plain": [
       "[' results for ']"
      ]
     },
     "execution_count": 18,
     "metadata": {},
     "output_type": "execute_result"
    }
   ],
   "source": [
    "list_h1 = selector.xpath('//h1[@class=\"srp-controls__count-heading\"]/text()').getall()\n",
    "\n",
    "list_h1"
   ]
  },
  {
   "cell_type": "code",
   "execution_count": 19,
   "id": "0d38cc79-7996-4dd7-a1eb-11e8f30781dc",
   "metadata": {},
   "outputs": [
    {
     "data": {
      "text/plain": [
       "False"
      ]
     },
     "execution_count": 19,
     "metadata": {},
     "output_type": "execute_result"
    }
   ],
   "source": [
    "len(list_h1) != 1 or list_h1[0].strip() not in ['results for', 'result for']"
   ]
  },
  {
   "cell_type": "code",
   "execution_count": 20,
   "id": "eaa8033e-475b-4f9d-83ae-2a3dc0cfe565",
   "metadata": {
    "scrolled": true
   },
   "outputs": [
    {
     "data": {
      "text/plain": [
       "['https://ebay.com/itm/123456?itmmeta=012DEW30YG0MEEKND7NH&hash=item123546:g:acwAA9KNiJowH:sc:ShippingMethodStandard!95008!US!-1&itmprp=enc%3AbgepL1tlUHjMGCVfSTGJh%2BzsVKeJ3CQk7NizDI4BZeppuFnmyS6Ijyp8lh%2FnEw%2BWqO7uTV1Q6izE1R0T54aV8j71F4xlWfVcGft4%2FiOQhtqVXA1rW6M1atPARQRmhqUxtEPJKhKtSFgI%2Bvwlzb0GwVCtkp%3ABlBMUObkmabpYw',\n",
       " 'https://ebay.com/itm/123456?itmmeta=012DEW30YG0MEEKND7NH&hash=item123546:g:acwAA9KNiJowH:sc:ShippingMethodStandard!95008!US!-1&itmprp=enc%3AbgepL1tlUHjMGCVfSTGJh%2BzsVKeJ3CQk7NizDI4BZeppuFnmyS6Ijyp8lh%2FnEw%2BWqO7uTV1Q6izE1R0T54aV8j71F4xlWfVcGft4%2FiOQhtqVXA1rW6M1atPARQRmhqUxtEPJKhKtSFgI%2Bvwlzb0GwVCtkp%3ABlBMUObkmabpYw',\n",
       " 'https://www.ebay.com/itm/256756876675?_skw=ac+compressor&itmmeta=01JXBT8WKVDEZYHM27G59VE8VN&hash=item3bc7e70583:g:w~QAAOSw7tFnZQPw',\n",
       " 'https://www.ebay.com/itm/235793200715?_skw=ac+compressor&itmmeta=01JXBT8WKVR37H1VYK1YY174GK&hash=item36e65eb64b:g:NyUAAOSwWftncnlA',\n",
       " 'https://www.ebay.com/itm/335809181630?_skw=ac+compressor&itmmeta=01JXBT8WKVXZMBFJRN57GNVCJP&hash=item4e2fc977be:g:-5cAAOSwHe5nrEFh',\n",
       " 'https://www.ebay.com/itm/335625002635?_skw=ac+compressor&itmmeta=01JXBT8WKVDTNSN2X7Z9YS768P&hash=item4e24cf1e8b:g:rwsAAOSwYvRncneJ',\n",
       " 'https://www.ebay.com/itm/235954842995?_skw=ac+compressor&itmmeta=01JXBT8WKVRMY3Q1WAXAET0ZBF&hash=item36f0012d73:g:wm8AAOSw-TlnrEHU',\n",
       " 'https://www.ebay.com/itm/235917033360?_skw=ac+compressor&itmmeta=01JXBT8WKV2CT1FWEKKFE1C4MF&hash=item36edc03f90:g:busAAOSwnoJniUVs',\n",
       " 'https://www.ebay.com/itm/335958440522?_skw=ac+compressor&itmmeta=01JXBT8WKVE6GJK6S5D0SM353M&hash=item4e38aefa4a:g:-IsAAOSwJhloIrq3',\n",
       " 'https://www.ebay.com/itm/335625717917?_skw=ac+compressor&itmmeta=01JXBT8WKV121HNV8Y9Q5EF45M&hash=item4e24da089d:g:FKMAAOSwMe9ncnoS',\n",
       " 'https://www.ebay.com/itm/335980541665?_skw=ac+compressor&itmmeta=01JXBT8WKW9R9NHGPRNPJ15EB8&hash=item4e3a0036e1:g:9ZAAAOSwZThoNK6P',\n",
       " 'https://www.ebay.com/itm/235954844744?_skw=ac+compressor&itmmeta=01JXBT8WKWWX8ZBGGGJ8DF7XET&hash=item36f0013448:g:d94AAOSwKY1nrEKa',\n",
       " 'https://www.ebay.com/itm/335819077903?_skw=ac+compressor&itmmeta=01JXBT8WKWK5WBEEM3EKZ7WW6W&hash=item4e3060790f:g:OBcAAOSwUkxntKnx',\n",
       " 'https://www.ebay.com/itm/335625704341?_skw=ac+compressor&itmmeta=01JXBT8WKWWW0G7BTM2VM8AQDB&hash=item4e24d9d395:g:zZwAAOSw6NZnEwsY',\n",
       " 'https://www.ebay.com/itm/334211431931?_skw=ac+compressor&itmmeta=01JXBT8WKW5FJ2HTK5545E47TM&hash=item4dd08dbdfb:g:mX0AAOSwkqln9otq',\n",
       " 'https://www.ebay.com/itm/335625236482?_skw=ac+compressor&itmmeta=01JXBT8WKWGGQZ1W30QNWR80J8&hash=item4e24d2b002:g:-rIAAOSwoPhncnhQ',\n",
       " 'https://www.ebay.com/itm/255220734701?_skw=ac+compressor&itmmeta=01JXBT8WKW44KB54V5EE0M0FNB&hash=item3b6c575aed:g:EAEAAOSw6FJn9o3f',\n",
       " 'https://www.ebay.com/itm/335625658367?_skw=ac+compressor&itmmeta=01JXBT8WKW12K4FXAWJGCDMZ0R&hash=item4e24d91fff:g:ytgAAOSwvRhnEwAn',\n",
       " 'https://www.ebay.com/itm/256822640412?_skw=ac+compressor&itmmeta=01JXBT8WKWT9M4YK86XVJ81KD6&hash=item3bcbd27f1c:g:GgwAAOSwW5xntK32',\n",
       " 'https://www.ebay.com/itm/335817464391?_skw=ac+compressor&itmmeta=01JXBT8WKWPZH7H4E8AX5B2ZNA&hash=item4e3047da47:g:zdgAAOSwF6dns2qO',\n",
       " 'https://www.ebay.com/itm/334151851057?_skw=ac+compressor&itmmeta=01JXBT8WKW1AZ920NKTC8SEEDT&hash=item4dcd009c31:g:qWQAAOSwiLpn9osX',\n",
       " 'https://www.ebay.com/itm/335867255652?_skw=ac+compressor&itmmeta=01JXBT8WKWJDXYRN6RH6QTDJ1Y&hash=item4e333f9b64:g:HfQAAOSwqgtn2Oiv',\n",
       " 'https://www.ebay.com/itm/256947796774?_skw=ac+compressor&itmmeta=01JXBT8WKW4QYSJ0DKBRJKCJZA&hash=item3bd3483b26:g:EJMAAOSwOhNoNK3Y',\n",
       " 'https://www.ebay.com/itm/334041387751?_skw=ac+compressor&itmmeta=01JXBT8WKW177GYXH7VPDSN2HN&hash=item4dc66b12e7:g:DVwAAOSwwXdn9om4',\n",
       " 'https://www.ebay.com/itm/335867348384?_skw=ac+compressor&itmmeta=01JXBT8WKWKZBG8W64GT5ERG2K&hash=item4e334105a0:g:Jq8AAOSw-cpn2Qc3',\n",
       " 'https://www.ebay.com/itm/256681838558?_skw=ac+compressor&itmmeta=01JXBT8WKWQNAG7XHQ85B4KE1M&hash=item3bc36e07de:g:3V0AAOSwOplncnlx',\n",
       " 'https://www.ebay.com/itm/335625681208?_skw=ac+compressor&itmmeta=01JXBT8WKWV7VA7BJGMPA7K488&hash=item4e24d97938:g:kVwAAOSw8BBnEwZc',\n",
       " 'https://www.ebay.com/itm/235793309791?_skw=ac+compressor&itmmeta=01JXBT8WKWV6B8FFTPXDRXHVX5&hash=item36e660605f:g:UvIAAOSwgZ5nEwwm',\n",
       " 'https://www.ebay.com/itm/235792948511?_skw=ac+compressor&itmmeta=01JXBT8WKW3Q1FKYT8QYQX5T67&hash=item36e65add1f:g:b50AAOSwS1pnErn6',\n",
       " 'https://www.ebay.com/itm/235978698415?_skw=ac+compressor&itmmeta=01JXBT8WKWEWTPTASP4ZEXSVXS&hash=item36f16d2eaf:g:4tAAAOSw-x9nv0iM',\n",
       " 'https://www.ebay.com/itm/235792706642?_skw=ac+compressor&itmmeta=01JXBT8WKWJSK7V31S4WWQQF4C&hash=item36e6572c52:g:sQEAAOSwspFncnem',\n",
       " 'https://www.ebay.com/itm/256681642957?_skw=ac+compressor&itmmeta=01JXBT8WKWHB3BRJXJ5C86PQXC&hash=item3bc36b0bcd:g:7n4AAOSwTctnEs1H',\n",
       " 'https://www.ebay.com/itm/235333054559?_skw=ac+compressor&itmmeta=01JXBT8WKWEM5M4SB956EKMSJF&hash=item36caf1705f:g:iDkAAOSwUNxn9pFF',\n",
       " 'https://www.ebay.com/itm/335456401396?_skw=ac+compressor&itmmeta=01JXBT8WKWX41A6AKS9AZ8S859&hash=item4e1ac277f4:g:LD4AAOSwMKFn9pIh',\n",
       " 'https://www.ebay.com/itm/256681463897?_skw=ac+compressor&itmmeta=01JXBT8WKWSV8CHTWATQ3Y5ZBX&hash=item3bc3685059:g:A9oAAOSwYiVncngg',\n",
       " 'https://www.ebay.com/itm/335625547992?_skw=ac+compressor&itmmeta=01JXBT8WKW65FY6JCX8N38QGP5&hash=item4e24d770d8:g:38cAAOSwGDhncnkg',\n",
       " 'https://www.ebay.com/itm/255139710876?_skw=ac+compressor&itmmeta=01JXBT8WKXBCQ50CEVQCCKNT8K&hash=item3b6783079c:g:HEYAAOSw6a5n9osB',\n",
       " 'https://www.ebay.com/itm/335809180611?_skw=ac+compressor&itmmeta=01JXBT8WKXT7XMRF2PRTNHD8NB&hash=item4e2fc973c3:g:EPIAAOSwJxNnrEE5',\n",
       " 'https://www.ebay.com/itm/235793313103?_skw=ac+compressor&itmmeta=01JXBT8WKXNR9TE11BNCE0BQF1&hash=item36e6606d4f:g:Ee4AAOSwlCpnEw1l',\n",
       " 'https://www.ebay.com/itm/256763270995?_skw=ac+compressor&itmmeta=01JXBT8WKX9VWTTZS4TV0H7J46&hash=item3bc8489753:g:AGUAAOSwTBpncoTt',\n",
       " 'https://www.ebay.com/itm/255620823840?_skw=ac+compressor&itmmeta=01JXBT8WKXJ6MM0F162CKWH5X6&hash=item3b84303b20:g:5mQAAOSwQPJn9o9V',\n",
       " 'https://www.ebay.com/itm/235792992626?_skw=ac+compressor&itmmeta=01JXBT8WKXPQXEN9RKATHHPFCD&hash=item36e65b8972:g:NrkAAOSwQEFncniT',\n",
       " 'https://www.ebay.com/itm/256940234636?_skw=ac+compressor&itmmeta=01JXBT8WKXW0Z1HYWC5DQ98ZHQ&hash=item3bd2d4d78c:g:im0AAOSwPepoLTmF',\n",
       " 'https://www.ebay.com/itm/256814263462?_skw=ac+compressor&itmmeta=01JXBT8WKX0A1J6FRB79F6TZFS&hash=item3bcb52aca6:g:9S8AAOSw8YNnrEEf',\n",
       " 'https://www.ebay.com/itm/235793317067?_skw=ac+compressor&itmmeta=01JXBT8WKXX2GNXJRCVGRAJAP9&hash=item36e6607ccb:g:CoYAAOSwYv9ncnnv',\n",
       " 'https://www.ebay.com/itm/234441893392?_skw=ac+compressor&itmmeta=01JXBT8WKXKFYN8MBCFDE7AQRY&hash=item3695d36610:g:0FAAAOSwTQ5n9owp',\n",
       " 'https://www.ebay.com/itm/235793318124?_skw=ac+compressor&itmmeta=01JXBT8WKX7KWJBA9GGEA6HNBV&hash=item36e66080ec:g:d-YAAOSwRg1nEw7Y',\n",
       " 'https://www.ebay.com/itm/335980646294?_skw=ac+compressor&itmmeta=01JXBT8WKXBEQ4CBY6T8WVH6SD&hash=item4e3a01cf96:g:g9oAAOSwbGFoNMPi',\n",
       " 'https://www.ebay.com/itm/256948088539?_skw=ac+compressor&itmmeta=01JXBT8WKXW0V4ZP2KKJ099H45&hash=item3bd34caedb:g:HBgAAOSwHKVoNNze',\n",
       " 'https://www.ebay.com/itm/236104662003?_skw=ac+compressor&itmmeta=01JXBT8WKXMN4B4EZ9AT29NCPQ&hash=item36f8ef3bf3:g:oEcAAOSwxdxoJqUt',\n",
       " 'https://www.ebay.com/itm/256861788534?_skw=ac+compressor&itmmeta=01JXBT8WKXYH8VWXPDBNV28Q82&hash=item3bce27d976:g:Dv4AAOSwFThn2OiC',\n",
       " 'https://www.ebay.com/itm/234276873495?_skw=ac+compressor&itmmeta=01JXBT8WKXP7C9YZWK59EM9KBV&hash=item368bfd6517:g:ZVwAAOSwrN5n9ovO',\n",
       " 'https://www.ebay.com/itm/334434715351?_skw=ac+compressor&itmmeta=01JXBT8WKXWBSRJW2C0NC51S7V&hash=item4ddddcc6d7:g:sRsAAOSwPbhn9ozw',\n",
       " 'https://www.ebay.com/itm/335867256181?_skw=ac+compressor&itmmeta=01JXBT8WKX7C3C9PPGARC66YGS&hash=item4e333f9d75:g:sukAAOSwYqhn2Ojj',\n",
       " 'https://www.ebay.com/itm/256681465848?_skw=ac+compressor&itmmeta=01JXBT8WKXY3QJK8CNCXB9S9HB&hash=item3bc36857f8:g:D~wAAOSwMe9ncng~',\n",
       " 'https://www.ebay.com/itm/235793076694?_skw=ac+compressor&itmmeta=01JXBT8WKXJ7M1JT1QF626RGP1&hash=item36e65cd1d6:g:PeQAAOSwqGlncnjW',\n",
       " 'https://www.ebay.com/itm/256681763361?_skw=ac+compressor&itmmeta=01JXBT8WKXT433K865M75C8GK1&hash=item3bc36ce221:g:SY4AAOSw1kdncnkw',\n",
       " 'https://www.ebay.com/itm/235793325972?_skw=ac+compressor&itmmeta=01JXBT8WKXQDMC96AR8XNYSY9V&hash=item36e6609f94:g:XWEAAOSwQLNncno4',\n",
       " 'https://www.ebay.com/itm/255921803172?_skw=ac+compressor&itmmeta=01JXBT8WKXGY497ABDW2ZSN187&hash=item3b9620cfa4:g:0HIAAOSwV~xn9pAu',\n",
       " 'https://www.ebay.com/itm/335980457528?_skw=ac+compressor&itmmeta=01JXBT8WKX121SBJ46K9EM3T4J&hash=item4e39feee38:g:aPsAAOSw0wFoNJrk',\n",
       " 'https://www.ebay.com/itm/335980569375?_skw=ac+compressor&itmmeta=01JXBT8WKXV3ZMQ7XH0GEABM8S&hash=item4e3a00a31f:g:hYYAAOSwyu9oNLPV',\n",
       " 'https://www.ebay.com/itm/234276831063?_skw=ac+compressor&itmmeta=01JXBT8WKXMY3JN6AG2SJAS7F6&hash=item368bfcbf57:g:DPwAAOSw6Y1n9ou5',\n",
       " 'https://www.ebay.com/itm/234544398159?_skw=ac+compressor&itmmeta=01JXBT8WKXBS60W63NM0T7J213&hash=item369bef7f4f:g:7MsAAOSwV2hn9oyP',\n",
       " 'https://www.ebay.com/itm/236010018513?_skw=ac+compressor&itmmeta=01JXBT8WKXAEXJ7MWE5T67SG6G&hash=item36f34b16d1:g:cIwAAOSwuiBn2OjM',\n",
       " 'https://www.ebay.com/itm/255407581263?_skw=ac+compressor&itmmeta=01JXBT8WKX6HT8XXR0W9ERPEY4&hash=item3b777a684f:g:i54AAOSwlXBncnx7',\n",
       " 'https://www.ebay.com/itm/256861788765?_skw=ac+compressor&itmmeta=01JXBT8WKXEWYXMKH2SCAEKWM4&hash=item3bce27da5d:g:NlEAAOSwZXVn2Oia',\n",
       " 'https://www.ebay.com/itm/256814268066?_skw=ac+compressor&itmmeta=01JXBT8WKXE4RBMHZ05GPEYNA8&hash=item3bcb52bea2:g:kDkAAOSwJBRnrEJ5',\n",
       " 'https://www.ebay.com/itm/334041323458?_skw=ac+compressor&itmmeta=01JXBT8WKX5K7B7KX4QYZN9SBE&hash=item4dc66a17c2:g:0JAAAOSw1Ldn9oyz',\n",
       " 'https://www.ebay.com/itm/255527869390?_skw=ac+compressor&itmmeta=01JXBT8WKXTTKFQD0F3Z740AR0&hash=item3b7ea5dbce:g:RGcAAOSw5NVn9ozY',\n",
       " 'https://www.ebay.com/itm/335819162606?_skw=ac+compressor&itmmeta=01JXBT8WKXG4CTHVG0K8AWT9AS&hash=item4e3061c3ee:g:aqQAAOSwJOpntLxL',\n",
       " 'https://www.ebay.com/itm/335625296416?_skw=ac+compressor&itmmeta=01JXBT8WKXHTRXG2768FEZXRYA&hash=item4e24d39a20:g:FFMAAOSwDxxncnhz',\n",
       " 'https://www.ebay.com/itm/235793146101?_skw=ac+compressor&itmmeta=01JXBT8WKXRW39Y6RPSJMMV4E4&hash=item36e65de0f5:g:TDQAAOSwrfNncnkQ',\n",
       " 'https://www.ebay.com/itm/335625703228?_skw=ac+compressor&itmmeta=01JXBT8WKY3TYP5MEX2GCRSKED&hash=item4e24d9cf3c:g:WCsAAOSw1jdncnmB',\n",
       " 'https://www.ebay.com/itm/334712574189?_skw=ac+compressor&itmmeta=01JXBT8WKY3XR600CW9JJM4BWM&hash=item4dee6c90ed:g:zoEAAOSwCbFn9o19',\n",
       " 'https://www.ebay.com/itm/255753621750?_skw=ac+compressor&itmmeta=01JXBT8WKY2ET96BF8D1ZWTEE8&hash=item3b8c1a90f6:g:S8YAAOSwZCVn9o-y',\n",
       " 'https://www.ebay.com/itm/256814266459?_skw=ac+compressor&itmmeta=01JXBT8WKYT9APHN9B814RMTCT&hash=item3bcb52b85b:g:FeoAAOSwp1xnrEF-',\n",
       " 'https://www.ebay.com/itm/256681647689?_skw=ac+compressor&itmmeta=01JXBT8WKY6EZXVQSMFGPP8RNK&hash=item3bc36b1e49:g:j6oAAOSwxm1ncnjo',\n",
       " 'https://www.ebay.com/itm/235985113889?_skw=ac+compressor&itmmeta=01JXBT8WKY8D4GJSVB9DANQNGA&hash=item36f1cf1321:g:lRIAAOSwtupn9pR6',\n",
       " 'https://www.ebay.com/itm/335963474795?_skw=ac+compressor&itmmeta=01JXBT8WKYJKS4QJHE8SQY8X20&hash=item4e38fbcb6b:g:0lEAAOSweuVoJp5m',\n",
       " 'https://www.ebay.com/itm/333130143621?_skw=ac+compressor&itmmeta=01JXBT8WKYVBQ3HRDD3DJH2108&hash=item4d901a9785:g:-b8AAOSwOZZn9olR',\n",
       " 'https://www.ebay.com/itm/335980682795?_skw=ac+compressor&itmmeta=01JXBT8WKY0CZGQ3P614NHJ3DX&hash=item4e3a025e2b:g:yIoAAOSw8~doNMws',\n",
       " 'https://www.ebay.com/itm/255459637046?_skw=ac+compressor&itmmeta=01JXBT8WKYAW1H671V5BE1RF8Y&hash=item3b7a94b736:g:h7wAAOSw09Bn9o5s',\n",
       " 'https://www.ebay.com/itm/335958448016?_skw=ac+compressor&itmmeta=01JXBT8WKYCNPKKK1R46DJE9T6&hash=item4e38af1790:g:ZcsAAOSwWORoIrz7',\n",
       " 'https://www.ebay.com/itm/335625528387?_skw=ac+compressor&itmmeta=01JXBT8WKYMNZQMBS7FZCXJR4F&hash=item4e24d72443:g:tLkAAOSworxncnj6',\n",
       " 'https://www.ebay.com/itm/335625729246?_skw=ac+compressor&itmmeta=01JXBT8WKYB7Y7ZRY120JVXG18&hash=item4e24da34de:g:FQYAAOSwB3xncnoi',\n",
       " 'https://www.ebay.com/itm/335819153403?_skw=ac+compressor&itmmeta=01JXBT8WKYNZFE4GQ83EBG4JKB&hash=item4e30619ffb:g:WYEAAOSwrmdntLpE',\n",
       " 'https://www.ebay.com/itm/256937803887?_skw=ac+compressor&itmmeta=01JXBT8WKYDC89VCCKBSXWACJA&hash=item3bd2afc06f:g:DAAAAOSwDb9oKqlE',\n",
       " 'https://www.ebay.com/itm/335858740714?_skw=ac+compressor&itmmeta=01JXBT8WKY41T8KE5BGCJS877H&hash=item4e32bdadea:g:jVEAAOSw2uNn9ph3',\n",
       " 'https://www.ebay.com/itm/254174035720?_skw=ac+compressor&itmmeta=01JXBT8WKYJQH87JKW8S0JCHQN&hash=item3b2df3ff08:g:DXwAAOSw6Y1n9owe',\n",
       " 'https://www.ebay.com/itm/236104655737?_skw=ac+compressor&itmmeta=01JXBT8WKYB0T0VWXEN75APZVF&hash=item36f8ef2379:g:RD4AAOSwpCtoJqP0',\n",
       " 'https://www.ebay.com/itm/236122365929?_skw=ac+compressor&itmmeta=01JXBT8WKYY1TGD80HJXNFC37R&hash=item36f9fd5fe9:g:ZN8AAOSwZZ1oNL7n',\n",
       " 'https://www.ebay.com/itm/236144055494?_skw=ac+compressor&itmmeta=01JXBT8WKY6W8R2M7T56RDF208&hash=item36fb4854c6:g:5jkAAOSwJpdoR5Vu',\n",
       " 'https://www.ebay.com/itm/256589006811?_skw=ac+compressor&itmmeta=01JXBT8WKYXC3ARMP5TQYYCTHB&hash=item3bbde587db:g:iuAAAOSwA8Vn9pMb',\n",
       " 'https://www.ebay.com/itm/235962784178?_skw=ac+compressor&itmmeta=01JXBT8WKY4DJ7R7KJJ25JXJ0W&hash=item36f07a59b2:g:EG4AAOSwvbtns22X',\n",
       " 'https://www.ebay.com/itm/335980890112?_skw=ac+compressor&itmmeta=01JXBT8WKYA6G0EZY7V19Z64XJ&hash=item4e3a058800:g:WRQAAOSwU7toNP0u',\n",
       " 'https://www.ebay.com/itm/335958449481?_skw=ac+compressor&itmmeta=01JXBT8WKY8WXPP81V2JBQDYDB&hash=item4e38af1d49:g:4UgAAOSwFoBoIr1M',\n",
       " 'https://www.ebay.com/itm/334151803763?_skw=ac+compressor&itmmeta=01JXBT8WKYVME39VKYPAV7QZC1&hash=item4dccffe373:g:X7QAAOSwKANn9orn',\n",
       " 'https://www.ebay.com/itm/332901148739?_skw=ac+compressor&itmmeta=01JXBT8WKYA1S2HWFWJH0W1RFP&hash=item4d82746843:g:QsAAAOSw4Idn9okj',\n",
       " 'https://www.ebay.com/itm/255528785337?_skw=ac+compressor&itmmeta=01JXBT8WKY6JW3NCB996F0949R&hash=item3b7eb3d5b9:g:yesAAOSwAVpn9o7A',\n",
       " 'https://www.ebay.com/itm/232952274260?_skw=ac+compressor&itmmeta=01JXBT8WKYPMG5CVJZH69K4DRT&hash=item363d099d54:g:qpAAAOSwhFpn9ojg',\n",
       " 'https://www.ebay.com/itm/236122301430?_skw=ac+compressor&itmmeta=01JXBT8WKYXVT8KRXSXNWY41VD&hash=item36f9fc63f6:g:GcUAAOSwlcxoNKsl',\n",
       " 'https://www.ebay.com/itm/335980591327?_skw=ac+compressor&itmmeta=01JXBT8WKYZZRY3XNRQFVZ0JHN&hash=item4e3a00f8df:g:Z7AAAOSwOQVoNLgd',\n",
       " 'https://www.ebay.com/itm/335747135833?_skw=ac+compressor&itmmeta=01JXBT8WKYKKVG671P8236YD32&hash=item4e2c16b959:g:6roAAOSw3OlncoUH',\n",
       " 'https://www.ebay.com/itm/335625713082?_skw=ac+compressor&itmmeta=01JXBT8WKYPB8FA4W0M4Z2F8YJ&hash=item4e24d9f5ba:g:iPQAAOSw0hdncnmz',\n",
       " 'https://www.ebay.com/itm/236104681967?_skw=ac+compressor&itmmeta=01JXBT8WKYG1ZDS4NZX12TET51&hash=item36f8ef89ef:g:zF0AAOSwvD9oJqtV',\n",
       " 'https://www.ebay.com/itm/233176544003?_skw=ac+compressor&itmmeta=01JXBT8WKY3B5Z3QEY13ZZ43Q4&hash=item364a67b303:g:e40AAOSwfAxn9ok9',\n",
       " 'https://www.ebay.com/itm/234443009491?_skw=ac+compressor&itmmeta=01JXBT8WKZMJ88CDVW5RVPE4NX&hash=item3695e46dd3:g:htwAAOSwDxdn9o30',\n",
       " 'https://www.ebay.com/itm/335980569083?_skw=ac+compressor&itmmeta=01JXBT8WKZMPXCSE36R59M63MG&hash=item4e3a00a1fb:g:HFwAAOSwS-hoNLPT',\n",
       " 'https://www.ebay.com/itm/334497802270?_skw=ac+compressor&itmmeta=01JXBT8WKZWZTM610BXT780ZEP&hash=item4de19f681e:g:occAAOSw55xn9o86',\n",
       " 'https://www.ebay.com/itm/335867256862?_skw=ac+compressor&itmmeta=01JXBT8WKZ20C1GCMZCSECYGSX&hash=item4e333fa01e:g:QWEAAOSwuORn2Oj8',\n",
       " 'https://www.ebay.com/itm/255059327394?_skw=ac+compressor&itmmeta=01JXBT8WKZB34Y4R0QV6B0110P&hash=item3b62b879a2:g:hQoAAOSwBpVn9o2B',\n",
       " 'https://www.ebay.com/itm/333134223626?_skw=ac+compressor&itmmeta=01JXBT8WKZ5RCE13K5D6S6E6ZA&hash=item4d9058d90a:g:B2UAAOSwystn9ow0',\n",
       " 'https://www.ebay.com/itm/234276779738?_skw=ac+compressor&itmmeta=01JXBT8WKZ1P3E4ABKZNV330SM&hash=item368bfbf6da:g:7TIAAOSwMSNn9o3I',\n",
       " 'https://www.ebay.com/itm/236098626711?_skw=ac+compressor&itmmeta=01JXBT8WKZQQ7EA2FBM9V7EW0T&hash=item36f8932497:g:0bMAAOSw--JoIr97',\n",
       " 'https://www.ebay.com/itm/234276812992?_skw=ac+compressor&itmmeta=01JXBT8WKZHRZMFTP1ZMDYBKNA&hash=item368bfc78c0:g:e8YAAOSw1tBn9otL',\n",
       " 'https://www.ebay.com/itm/335855809571?_skw=ac+compressor&itmmeta=01JXBT8WKZ9X29YW4ZQ5STN5AR&hash=item4e3290f423:g:OtgAAOSwJpBn9pfl',\n",
       " 'https://www.ebay.com/itm/236122314760?_skw=ac+compressor&itmmeta=01JXBT8WKZG1FWSY18GJWB6XR8&hash=item36f9fc9808:g:f6wAAOSwYNBoNK9c',\n",
       " 'https://www.ebay.com/itm/334151770196?_skw=ac+compressor&itmmeta=01JXBT8WKZN3R5YDWKHXRV9A1Y&hash=item4dccff6054:g:iLUAAOSwWJtn9oq5',\n",
       " 'https://www.ebay.com/itm/256763267929?_skw=ac+compressor&itmmeta=01JXBT8WKZQ2MANBYQBZYVRGNF&hash=item3bc8488b59:g:rl8AAOSwsnpncoRc',\n",
       " 'https://www.ebay.com/itm/235944099098?_skw=ac+compressor&itmmeta=01JXBT8WKZY69AP7M8F451QN6G&hash=item36ef5d3d1a:g:tgYAAOSwhFpn9pag',\n",
       " 'https://www.ebay.com/itm/333119715726?_skw=ac+compressor&itmmeta=01JXBT8WKZPPM4MGRJ49ZB9R1P&hash=item4d8f7b798e:g:mWUAAOSw-Yln9owA',\n",
       " 'https://www.ebay.com/itm/335819084618?_skw=ac+compressor&itmmeta=01JXBT8WKZPX9V6FH3R207DPXQ&hash=item4e3060934a:g:2mYAAOSwD2JntKtK',\n",
       " 'https://www.ebay.com/itm/234997763807?_skw=ac+compressor&itmmeta=01JXBT8WKZ7R8CCKAH4FTQZPKP&hash=item36b6f54edf:g:e9IAAOSwiW1n9o2U',\n",
       " 'https://www.ebay.com/itm/332829417440?_skw=ac+compressor&itmmeta=01JXBT8WKZTPJ7XHTVJFRJTS90&hash=item4d7e2ddfe0:g:xG4AAOSwXvJn9okM',\n",
       " 'https://www.ebay.com/itm/256921802971?_skw=ac+compressor&itmmeta=01JXBT8WKZSZWK444C06M0NXPX&hash=item3bd1bb98db:g:FuwAAOSwR95oGl0D',\n",
       " 'https://www.ebay.com/itm/335958482240?_skw=ac+compressor&itmmeta=01JXBT8WKZGBS0XF1297A947C5&hash=item4e38af9d40:g:c8UAAOSwBdtoIsTs',\n",
       " 'https://www.ebay.com/itm/256821269045?_skw=ac+compressor&itmmeta=01JXBT8WKZHERTAB5567N5G47G&hash=item3bcbbd9235:g:9PUAAOSwWnRns2rj',\n",
       " 'https://www.ebay.com/itm/335980593975?_skw=ac+compressor&itmmeta=01JXBT8WKZCKFRYM8GBQVSF5GY&hash=item4e3a010337:g:TOcAAOSwtcRoNLiw',\n",
       " 'https://www.ebay.com/itm/334211432221?_skw=ac+compressor&itmmeta=01JXBT8WKZ50SC2WX7FV9HK759&hash=item4dd08dbf1d:g:L6UAAOSwD-hn9ouI',\n",
       " 'https://www.ebay.com/itm/236077945249?_skw=ac+compressor&itmmeta=01JXBT8WKZQ1S270XWJE58XHZN&hash=item36f75791a1:g:eFYAAOSwsyZoESEL',\n",
       " 'https://www.ebay.com/itm/234276820877?_skw=ac+compressor&itmmeta=01JXBT8WKZKA6DZ0PVRJ8R5PNR&hash=item368bfc978d:g:zkcAAOSwR4tn9ouf',\n",
       " 'https://www.ebay.com/itm/235964127278?_skw=ac+compressor&itmmeta=01JXBT8WKZANVDYHZWNB2MMTK4&hash=item36f08ed82e:g:hwIAAOSwJdFntK0e',\n",
       " 'https://www.ebay.com/itm/255620859948?_skw=ac+compressor&itmmeta=01JXBT8WKZ3ZVD4MY8182EW8EK&hash=item3b8430c82c:g:KdoAAOSwAQJn9o1P',\n",
       " 'https://www.ebay.com/itm/234053016991?_skw=ac+compressor&itmmeta=01JXBT8WKZJJZVYK35G5507N64&hash=item367ea59d9f:g:WXwAAOSwSeRn9ozx',\n",
       " 'https://www.ebay.com/itm/234445824486?_skw=ac+compressor&itmmeta=01JXBT8WKZ7YZF8K39V54W8KBQ&hash=item36960f61e6:g:DEsAAOSwp~Fn9ox6',\n",
       " 'https://www.ebay.com/itm/334382590431?_skw=ac+compressor&itmmeta=01JXBT8WKZ35BVP7SPMK09P69C&hash=item4ddac169df:g:g8wAAOSwlCpncny2',\n",
       " 'https://www.ebay.com/itm/335980850752?_skw=ac+compressor&itmmeta=01JXBT8WKZ0219GYZDQZC6J4A0&hash=item4e3a04ee40:g:uVYAAOSwT2poNPUO',\n",
       " 'https://www.ebay.com/itm/256929924874?_skw=ac+compressor&itmmeta=01JXBT8WKZFF12A0BQ997HJ8S4&hash=item3bd237870a:g:DqcAAOSwzrhoIrzq',\n",
       " 'https://www.ebay.com/itm/234440531333?_skw=ac+compressor&itmmeta=01JXBT8WKZK89Z9WD0Q43JYVMS&hash=item3695be9d85:g:6DIAAOSwU3Zn9ov-',\n",
       " 'https://www.ebay.com/itm/256948040840?_skw=ac+compressor&itmmeta=01JXBT8WKZ2CRFWDRW9RQ90AG8&hash=item3bd34bf488:g:V0UAAOSwQ49oNNK5',\n",
       " 'https://www.ebay.com/itm/235887729570?_skw=ac+compressor&itmmeta=01JXBT8WKZWZ55QJ8FXZ5KTME7&hash=item36ec011ba2:g:ERYAAOSwWvVncoTV',\n",
       " 'https://www.ebay.com/itm/256681503140?_skw=ac+compressor&itmmeta=01JXBT8WKZKD9V762H87YBHW41&hash=item3bc368e9a4:g:f58AAOSwW5Vncnhj',\n",
       " 'https://www.ebay.com/itm/256929914797?_skw=ac+compressor&itmmeta=01JXBT8WKZY9DTCBENR2YYRZFR&hash=item3bd2375fad:g:gZgAAOSww4loIrrE',\n",
       " 'https://www.ebay.com/itm/335958441601?_skw=ac+compressor&itmmeta=01JXBT8WM0XFA8QDFHTYYRAG5C&hash=item4e38aefe81:g:WhsAAOSwW5loIrsT',\n",
       " 'https://www.ebay.com/itm/335429280805?_skw=ac+compressor&itmmeta=01JXBT8WM0G7VJ5FN7WTK5S1V3&hash=item4e1924a425:g:3bkAAOSwwFVn9pGv',\n",
       " 'https://www.ebay.com/itm/335980582600?_skw=ac+compressor&itmmeta=01JXBT8WM034PJZY31KPA4JX2H&hash=item4e3a00d6c8:g:8BIAAOSwtWNoNLZq',\n",
       " 'https://www.ebay.com/itm/335980595608?_skw=ac+compressor&itmmeta=01JXBT8WM02SHS325RH0HG3GTC&hash=item4e3a010998:g:3l8AAOSwt11oNLkh',\n",
       " 'https://www.ebay.com/itm/234276860559?_skw=ac+compressor&itmmeta=01JXBT8WM0RDW1P9Z5FXVT38KD&hash=item368bfd328f:g:vwYAAOSw-0xncnuu',\n",
       " 'https://www.ebay.com/itm/235793202149?_skw=ac+compressor&itmmeta=01JXBT8WM07PPCEHXA9D3D4QDJ&hash=item36e65ebbe5:g:w-cAAOSwtdJncnlR',\n",
       " 'https://www.ebay.com/itm/255218432305?_skw=ac+compressor&itmmeta=01JXBT8WM06VFQ0YTBPWVBW9HK&hash=item3b6c343931:g:E3AAAOSwcYhn9os1',\n",
       " 'https://www.ebay.com/itm/256911408117?_skw=ac+compressor&itmmeta=01JXBT8WM0530DVAN8H1131ZSW&hash=item3bd11cfbf5:g:O5EAAOSwTKxoEOn0',\n",
       " 'https://www.ebay.com/itm/334151777199?_skw=ac+compressor&itmmeta=01JXBT8WM0J513A216C47XECED&hash=item4dccff7baf:g:qukAAOSwooZn9orP',\n",
       " 'https://www.ebay.com/itm/256947720790?_skw=ac+compressor&itmmeta=01JXBT8WM0701N9D7X47EY31B4&hash=item3bd3471256:g:tvEAAOSwPdRoNKHK',\n",
       " 'https://www.ebay.com/itm/236102103783?_skw=ac+compressor&itmmeta=01JXBT8WM04HVCG1WYPHVBX579&hash=item36f8c832e7:g:L8cAAOSwNZ5oJNMw',\n",
       " 'https://www.ebay.com/itm/256943109237?_skw=ac+compressor&itmmeta=01JXBT8WM0ZK941GNJ7HSF6JWM&hash=item3bd300b475:g:NH0AAOSw-pFoL-9k',\n",
       " 'https://www.ebay.com/itm/335511435714?_skw=ac+compressor&epid=817645923&itmmeta=01JXBT8WM01CP7HB9Z0BC67GSQ&hash=item4e1e0a39c2:g:nOEAAOSwhsZn85Ky',\n",
       " 'https://www.ebay.com/itm/335778363223?_skw=ac+compressor&itmmeta=01JXBT8WM0ZN42GQGG0HB52KKB&hash=item4e2df33757:g:n~0AAOSwXANn9pQ2',\n",
       " 'https://www.ebay.com/itm/335215802937?_skw=ac+compressor&itmmeta=01JXBT8WM04TM6R0WA5GBRAT9E&hash=item4e0c6b3a39:g:acIAAOSwGJJn9o9i',\n",
       " 'https://www.ebay.com/itm/232628030166?_skw=ac+compressor&itmmeta=01JXBT8WM0VMZZ83A4G0YMMKXR&hash=item3629b60ad6:g:unEAAOSwhCxn9ouN',\n",
       " 'https://www.ebay.com/itm/334348192867?_skw=ac+compressor&itmmeta=01JXBT8WM069KV9AKG4BYM1KD5&hash=item4dd8b48c63:g:hdYAAOSwBpVn9o44',\n",
       " 'https://www.ebay.com/itm/335858738955?_skw=ac+compressor&itmmeta=01JXBT8WM08F0NDXNNWZG41WXX&hash=item4e32bda70b:g:g~0AAOSwwUtn85Ss',\n",
       " 'https://www.ebay.com/itm/233621258535?_skw=ac+compressor&itmmeta=01JXBT8WM0ZDYBNWBAM9HF32SN&hash=item3664e98127:g:3BgAAOSwfixn9oln',\n",
       " 'https://www.ebay.com/itm/335936761646?_skw=ac+compressor&itmmeta=01JXBT8WM0TJGD5C6MWE561AM8&hash=item4e37642f2e:g:iOgAAOSwQ3hoEOi-',\n",
       " 'https://www.ebay.com/itm/335998328961?_skw=ac+compressor&itmmeta=01JXBT8WM0CP6J2HZRARRNEBYC&hash=item4e3b0fa081:g:~tUAAOSwAxZoQm2S',\n",
       " 'https://www.ebay.com/itm/332371706664?_skw=ac+compressor&itmmeta=01JXBT8WM02FPYETDYWXPQRZ83&hash=item4d62e5c328:g:9rgAAOSwTsVn9osO',\n",
       " 'https://www.ebay.com/itm/335935976543?_skw=ac+compressor&itmmeta=01JXBT8WM0184Q19EECYWF7BVK&hash=item4e3758345f:g:uYQAAOSwdoloEE2f',\n",
       " 'https://www.ebay.com/itm/236111234550?_skw=ac+compressor&itmmeta=01JXBT8WM0XMMKE574QQ629XN5&hash=item36f95385f6:g:W6QAAOSwcqdoK7uP',\n",
       " 'https://www.ebay.com/itm/334041488963?_skw=ac+compressor&itmmeta=01JXBT8WM0ATSYW0KF8JZQ2FE6&hash=item4dc66c9e43:g:NYsAAOSwFB1n9onn',\n",
       " 'https://www.ebay.com/itm/255022686336?_skw=ac+compressor&itmmeta=01JXBT8WM0EKFH68XVVA9VQG3H&hash=item3b60896080:g:VLMAAOSwufdn9opw',\n",
       " 'https://www.ebay.com/itm/235647554777?_skw=ac+compressor&itmmeta=01JXBT8WM0HZ7YCZBMKYA1HBQC&hash=item36ddb054d9:g:UGYAAOSwMjdn9pJV',\n",
       " 'https://www.ebay.com/itm/234616765615?_skw=ac+compressor&itmmeta=01JXBT8WM1CDJ0R5BGP7A2492D&hash=item36a03fbcaf:g:yFYAAOSwXvJn9o05',\n",
       " 'https://www.ebay.com/itm/232688638470?_skw=ac+compressor&itmmeta=01JXBT8WM13VEHS7X7Z4X0MYZN&hash=item362d52da06:g:pioAAOSwn0ln9pBF',\n",
       " 'https://www.ebay.com/itm/236112518936?_skw=ac+compressor&itmmeta=01JXBT8WM15GCNRKJ75NDV4JHD&hash=item36f9671f18:g:9qgAAOSwmihoQTjB',\n",
       " 'https://www.ebay.com/itm/234053013857?_skw=ac+compressor&itmmeta=01JXBT8WM1XG9HNGQG2SGJEQBV&hash=item367ea59161:g:VRIAAOSw2oBn9oza',\n",
       " 'https://www.ebay.com/itm/334041726512?_skw=ac+compressor&itmmeta=01JXBT8WM1NF55HMXJACZHTJXH&hash=item4dc6703e30:g:COcAAOSw69Jn9opb',\n",
       " 'https://www.ebay.com/itm/256947907052?_skw=ac+compressor&itmmeta=01JXBT8WM18XS1YWKJWWFKT7QV&hash=item3bd349e9ec:g:K6IAAOSwNb1oNLy3',\n",
       " 'https://www.ebay.com/itm/234277033709?_skw=ac+compressor&itmmeta=01JXBT8WM194W96F40GPP8CYPQ&hash=item368bffd6ed:g:mDgAAOSwf~5n849A',\n",
       " 'https://www.ebay.com/itm/335152609229?_skw=ac+compressor&itmmeta=01JXBT8WM1JTAKZMMN51JNJFZE&hash=item4e08a6f7cd:g:0NEAAOSwoXZnc7C3',\n",
       " 'https://www.ebay.com/itm/255018487588?_skw=ac+compressor&itmmeta=01JXBT8WM1G6K1GP09ZYJNQZT0&hash=item3b60494f24:g:70QAAOSw9Mtn9oor',\n",
       " 'https://www.ebay.com/itm/335936743678?_skw=ac+compressor&itmmeta=01JXBT8WM1X4AKT05TA0XNT9ZW&hash=item4e3763e8fe:g:GF0AAOSwc4doEOSO',\n",
       " 'https://www.ebay.com/itm/256496889692?_skw=ac+compressor&itmmeta=01JXBT8WM15MSFK1QEXJHXA5WX&hash=item3bb867ef5c:g:g7gAAOSwbEdnc7WN',\n",
       " 'https://www.ebay.com/itm/236001097330?_skw=ac+compressor&itmmeta=01JXBT8WM1HYJCHA92XJ506F58&hash=item36f2c2f672:g:iFwAAOSwS~1n0bkB',\n",
       " 'https://www.ebay.com/itm/235836608620?_skw=ac+compressor&itmmeta=01JXBT8WM1QFX3XVDXGK7EB6NC&hash=item36e8f5106c:g:PecAAOSwjaRn9pOT',\n",
       " 'https://www.ebay.com/itm/255531675896?_skw=ac+compressor&itmmeta=01JXBT8WM1MB1VJFASJV0MNAB7&hash=item3b7edff0f8:g:r80AAOSwfytn9o7v',\n",
       " 'https://www.ebay.com/itm/256511956659?_skw=ac+compressor&itmmeta=01JXBT8WM1RWHNFCC61YVE7VH9&hash=item3bb94dd6b3:g:~~MAAOSwCcFn9pFD',\n",
       " 'https://www.ebay.com/itm/256192886113?_skw=ac+compressor&itmmeta=01JXBT8WM1KNFMA75ZHAANRJ7Q&hash=item3ba6493561:g:7KEAAOSwfQtn9o6c',\n",
       " 'https://www.ebay.com/itm/334521174599?_skw=ac+compressor&itmmeta=01JXBT8WM1H8SGWFHHCHX519AX&hash=item4de3040a47:g:2oQAAOSwuMVn9o9s',\n",
       " 'https://www.ebay.com/itm/235956971484?_skw=ac+compressor&itmmeta=01JXBT8WM1QCBKR5VEAB208CNB&hash=item36f021a7dc:g:eQUAAOSwXxRoQkxy',\n",
       " 'https://www.ebay.com/itm/255922672592?_skw=ac+compressor&itmmeta=01JXBT8WM1N1C7KYBFHRSSZB8D&hash=item3b962e13d0:g:v24AAOSw3qBn84-Y',\n",
       " 'https://www.ebay.com/itm/255590598151?_skw=ac+compressor&itmmeta=01JXBT8WM13G3F2VXZ5YWFK86H&hash=item3b82630607:g:PpEAAOSwBBNn9o0H',\n",
       " 'https://www.ebay.com/itm/335682642668?_skw=ac+compressor&itmmeta=01JXBT8WM1T68E70W596KXX4MF&hash=item4e283ea2ec:g:vxAAAOSwwFVn9IOe',\n",
       " 'https://www.ebay.com/itm/334437920709?_skw=ac+compressor&epid=2146880418&itmmeta=01JXBT8WM175YCF3JVSJ56KV9Q&hash=item4dde0dafc5:g:hTEAAOSwQuhn9o7W',\n",
       " 'https://www.ebay.com/itm/333124695780?_skw=ac+compressor&itmmeta=01JXBT8WM1HN50AYD6W98164FV&hash=item4d8fc776e4:g:x8YAAOSwMzBn8451',\n",
       " 'https://www.ebay.com/itm/335974873683?_skw=ac+compressor&itmmeta=01JXBT8WM11AV9ARAZTYW1MF7G&hash=item4e39a9ba53:g:oo8AAOSwcedoL-v~',\n",
       " 'https://www.ebay.com/itm/335597362536?_skw=ac+compressor&itmmeta=01JXBT8WM1TKGG4KST130MAF94&hash=item4e23295d68:g:ANkAAOSw8Whncncn',\n",
       " 'https://www.ebay.com/itm/335858738787?_skw=ac+compressor&itmmeta=01JXBT8WM1YFQRNTVBBQCEJ8BJ&hash=item4e32bda663:g:ysIAAOSwqdJn9phg',\n",
       " 'https://www.ebay.com/itm/234052960438?_skw=ac+compressor&itmmeta=01JXBT8WM17A2S2S8KZBW6TSHJ&hash=item367ea4c0b6:g:LGEAAOSwJpBn9ol5',\n",
       " 'https://www.ebay.com/itm/232315242152?_skw=ac+compressor&epid=815965652&itmmeta=01JXBT8WM121BTPN4YG9FDWD2P&hash=item36171146a8:g:CM0AAOSwIj5n9oks',\n",
       " 'https://www.ebay.com/itm/234441498273?_skw=ac+compressor&itmmeta=01JXBT8WM1GT9TDVB8039E6X0M&hash=item3695cd5ea1:g:-OoAAOSwR8Vn9owU',\n",
       " 'https://www.ebay.com/itm/335936997407?_skw=ac+compressor&itmmeta=01JXBT8WM1WVSSBC3FVDHV9MV3&hash=item4e3767c81f:g:2SUAAOSwilxoESN~',\n",
       " 'https://www.ebay.com/itm/235184103540?_skw=ac+compressor&itmmeta=01JXBT8WM1EBTNJDAAQPV8H9ND&hash=item36c210a074:g:~QsAAOSwtvxn9o7c',\n",
       " 'https://www.ebay.com/itm/334041548817?_skw=ac+compressor&itmmeta=01JXBT8WM1D21AVHW0SW39XB75&hash=item4dc66d8811:g:dqoAAOSwXYhn9on~',\n",
       " 'https://www.ebay.com/itm/235869201283?_skw=ac+compressor&itmmeta=01JXBT8WM1PT485J82DMHDZMJY&hash=item36eae66383:g:dhEAAOSwtGdn9pRC',\n",
       " 'https://www.ebay.com/itm/234057629496?_skw=ac+compressor&itmmeta=01JXBT8WM1WMDWH0ERMFFJB60N&hash=item367eebff38:g:5hwAAOSwNBln9oqN',\n",
       " 'https://www.ebay.com/itm/236122388550?_skw=ac+compressor&itmmeta=01JXBT8WM1DAA1NZ35DP8Q643B&hash=item36f9fdb846:g:JBcAAOSwMBVoNMW4',\n",
       " 'https://www.ebay.com/itm/232435277242?_skw=ac+compressor&itmmeta=01JXBT8WM1GGK00DT6TYJCPYPN&hash=item361e38ddba:g:4f0AAOSwWS9n9oqT',\n",
       " 'https://www.ebay.com/itm/235648003016?_skw=ac+compressor&itmmeta=01JXBT8WM1RE2FJPBSTKN9W497&hash=item36ddb72bc8:g:zIkAAOSwiP5n9pJU',\n",
       " 'https://www.ebay.com/itm/335855065276?_skw=ac+compressor&itmmeta=01JXBT8WM1M8BJQMM1AADG8M18&hash=item4e328598bc:g:ffgAAOSwDXhn9pTW',\n",
       " 'https://www.ebay.com/itm/236116539507?_skw=ac+compressor&itmmeta=01JXBT8WM20SJPA03C7PWGJ3ZY&hash=item36f9a47873:g:54IAAOSw4ypoL-41',\n",
       " 'https://www.ebay.com/itm/232315264904?_skw=ac+compressor&itmmeta=01JXBT8WM22R4KWC2K53MSA2VJ&hash=item3617119f88:g:wKQAAOSwC~hn9ol2',\n",
       " 'https://www.ebay.com/itm/255410646663?_skw=ac+compressor&itmmeta=01JXBT8WM2X470G21VDTR882B7&hash=item3b77a92e87:g:zdsAAOSwDo1n9oxl',\n",
       " 'https://www.ebay.com/itm/335424739615?_skw=ac+compressor&itmmeta=01JXBT8WM2G8AJ0E4X5S1794ZK&hash=item4e18df591f:g:FlgAAOSwLihn9pHu',\n",
       " 'https://www.ebay.com/itm/335858517274?_skw=ac+compressor&itmmeta=01JXBT8WM25HQ4WSBMZ4X71933&hash=item4e32ba451a:g:fwgAAOSwaLdn0bt~',\n",
       " 'https://www.ebay.com/itm/252900220689?_skw=ac+compressor&itmmeta=01JXBT8WM295S1TQFX5MHHJ75V&hash=item3ae2071f11:g:k1AAAOSwGBNn9om-',\n",
       " 'https://www.ebay.com/itm/236133137294?_skw=ac+compressor&epid=22006264293&itmmeta=01JXBT8WM23MTQF41PX53QWPH4&hash=item36faa1bb8e:g:scoAAOSwa~VoPcuh',\n",
       " 'https://www.ebay.com/itm/335948712393?_skw=ac+compressor&itmmeta=01JXBT8WM2ZYPNBZVV73ZF4CPY&hash=item4e381a89c9:g:9K4AAOSwlN1oGmHO',\n",
       " 'https://www.ebay.com/itm/256968109555?_skw=ac+compressor&itmmeta=01JXBT8WM24AR4Z83VD2MR9PMK&hash=item3bd47e2df3:g:Q9QAAOSw3~xoRkXD',\n",
       " 'https://www.ebay.com/itm/335936896935?_skw=ac+compressor&itmmeta=01JXBT8WM257XP9P1962TFWRQH&hash=item4e37663fa7:g:GDYAAOSwev9oEQhn',\n",
       " 'https://www.ebay.com/itm/335937076221?_skw=ac+compressor&itmmeta=01JXBT8WM2VZBNAW2WYYT75Q5F&hash=item4e3768fbfd:g:DVsAAOSwFx5oETVx',\n",
       " 'https://www.ebay.com/itm/256513044658?_skw=ac+compressor&itmmeta=01JXBT8WM204NXV5ZMB4MYAF4Z&hash=item3bb95e70b2:g:VbkAAOSw3Olnc7aQ',\n",
       " 'https://www.ebay.com/itm/335682650386?_skw=ac+compressor&itmmeta=01JXBT8WM2KZSJKJ1V3HKB3CDE&hash=item4e283ec112:g:OSsAAOSwHOlnPA0W',\n",
       " 'https://www.ebay.com/itm/256911524499?_skw=ac+compressor&itmmeta=01JXBT8WM2QK4C5MHTTTVZYCKR&hash=item3bd11ec293:g:GcwAAOSw~oRoEQm2',\n",
       " 'https://www.ebay.com/itm/253139036562?_skw=ac+compressor&itmmeta=01JXBT8WM2PQQ47QK5E6BG78NN&hash=item3af0432992:g:vZ0AAOSw2Odn9ork',\n",
       " 'https://www.ebay.com/itm/256102649999?_skw=ac+compressor&itmmeta=01JXBT8WM212XK0R0AJQ6STZY9&hash=item3ba0e8508f:g:puwAAOSwWwFn9o3V',\n",
       " 'https://www.ebay.com/itm/236076912115?_skw=ac+compressor&itmmeta=01JXBT8WM2H0QT5ZNCCE1N4KWF&hash=item36f747cdf3:g:jlsAAOSww8RoEEOZ',\n",
       " 'https://www.ebay.com/itm/256947659042?_skw=ac+compressor&itmmeta=01JXBT8WM291EYKF6V26EGZ1J7&hash=item3bd3462122:g:BiAAAOSwm9RoNJXG',\n",
       " 'https://www.ebay.com/itm/235826519927?_skw=ac+compressor&itmmeta=01JXBT8WM2JFFRY89SY023XB49&hash=item36e85b1f77:g:ayMAAOSw7OBn9pMe',\n",
       " 'https://www.ebay.com/itm/236114054413?_skw=ac+compressor&itmmeta=01JXBT8WM2DVHR0ZSJY4JFHKWQ&hash=item36f97e8d0d:g:thEAAOSwh3JoLf8B',\n",
       " 'https://www.ebay.com/itm/256911743210?_skw=ac+compressor&itmmeta=01JXBT8WM2RCA3TX8TSWGBAQM7&hash=item3bd12218ea:g:TrAAAOSwVUdoEUJs',\n",
       " 'https://www.ebay.com/itm/256209081025?_skw=ac+compressor&itmmeta=01JXBT8WM2A1DYBAPZJM28TRPE&hash=item3ba74052c1:g:GfgAAOSwE2Nn9o7F',\n",
       " 'https://www.ebay.com/itm/335981114908?_skw=ac+compressor&itmmeta=01JXBT8WM2VZNZGYSYC86QY7E9&hash=item4e3a08f61c:g:EZAAAOSwblVoNS64',\n",
       " 'https://www.ebay.com/itm/235055850780?_skw=ac+compressor&itmmeta=01JXBT8WM2XGHWD31H8HFFTCM4&hash=item36ba6ba51c:g:ZUMAAOSwSAJn9o4E',\n",
       " 'https://www.ebay.com/itm/334041377271?_skw=ac+compressor&itmmeta=01JXBT8WM23D4FSF3GK4SDRV3P&hash=item4dc66ae9f7:g:PtkAAOSwQtNn9o0F',\n",
       " 'https://www.ebay.com/itm/256910783495?_skw=ac+compressor&itmmeta=01JXBT8WM27MRM68PGW51NMWT3&hash=item3bd1137407:g:YlUAAOSwBKRoEElL',\n",
       " 'https://www.ebay.com/itm/256851655918?_skw=ac+compressor&itmmeta=01JXBT8WM2K29SV3AX3861DWVH&hash=item3bcd8d3cee:g:WFQAAOSwJxFnzyfp',\n",
       " 'https://www.ebay.com/itm/256536401805?_skw=ac+compressor&itmmeta=01JXBT8WM2M5H171AM53C1AYPT&hash=item3bbac2d78d:g:mjkAAOSwAh9n9pHE',\n",
       " 'https://www.ebay.com/itm/253426070593?_skw=ac+compressor&itmmeta=01JXBT8WM23MEB9KT6NDD6J3WK&hash=item3b015ef441:g:XWcAAOSwHnRn9ou5',\n",
       " 'https://www.ebay.com/itm/335152580024?_skw=ac+compressor&itmmeta=01JXBT8WM2NPWFGXSGQ37N9KF8&hash=item4e08a685b8:g:M48AAOSwg6Jn9o8a',\n",
       " 'https://www.ebay.com/itm/235514544228?_skw=ac+compressor&itmmeta=01JXBT8WM2PHHHZ09V9K1B8KNB&hash=item36d5c2c064:g:sfUAAOSwYsVn85EA',\n",
       " 'https://www.ebay.com/itm/255459561160?_skw=ac+compressor&itmmeta=01JXBT8WM3VRFZXCWFD1A9WZ08&hash=item3b7a938ec8:g:FYgAAOSwT3dn9o5T',\n",
       " 'https://www.ebay.com/itm/256118799754?_skw=ac+compressor&itmmeta=01JXBT8WM33KGC7XPCDRBK8QZZ&hash=item3ba1debd8a:g:3VQAAOSw3oFn9o4X',\n",
       " 'https://www.ebay.com/itm/235717425775?_skw=ac+compressor&epid=2147344384&itmmeta=01JXBT8WM39D02R0NEZENHBV19&hash=item36e1da7a6f:g:h6wAAOSwDn1n9pJx']"
      ]
     },
     "execution_count": 20,
     "metadata": {},
     "output_type": "execute_result"
    }
   ],
   "source": [
    "list_href = selector.xpath('//a[@class=\"s-item__link\"]/@href').getall()\n",
    "\n",
    "list_href"
   ]
  },
  {
   "cell_type": "code",
   "execution_count": 21,
   "id": "7ab69837-1426-404c-9186-f0870eca77d9",
   "metadata": {
    "scrolled": true
   },
   "outputs": [
    {
     "data": {
      "text/plain": [
       "['256756876675',\n",
       " '235793200715',\n",
       " '335809181630',\n",
       " '335625002635',\n",
       " '235954842995',\n",
       " '235917033360',\n",
       " '335958440522',\n",
       " '335625717917',\n",
       " '335980541665',\n",
       " '235954844744',\n",
       " '335819077903',\n",
       " '335625704341',\n",
       " '334211431931',\n",
       " '335625236482',\n",
       " '255220734701',\n",
       " '335625658367',\n",
       " '256822640412',\n",
       " '335817464391',\n",
       " '334151851057',\n",
       " '335867255652',\n",
       " '256947796774',\n",
       " '334041387751',\n",
       " '335867348384',\n",
       " '256681838558',\n",
       " '335625681208',\n",
       " '235793309791',\n",
       " '235792948511',\n",
       " '235978698415',\n",
       " '235792706642',\n",
       " '256681642957',\n",
       " '235333054559',\n",
       " '335456401396',\n",
       " '256681463897',\n",
       " '335625547992',\n",
       " '255139710876',\n",
       " '335809180611',\n",
       " '235793313103',\n",
       " '256763270995',\n",
       " '255620823840',\n",
       " '235792992626',\n",
       " '256940234636',\n",
       " '256814263462',\n",
       " '235793317067',\n",
       " '234441893392',\n",
       " '235793318124',\n",
       " '335980646294',\n",
       " '256948088539',\n",
       " '236104662003',\n",
       " '256861788534',\n",
       " '234276873495',\n",
       " '334434715351',\n",
       " '335867256181',\n",
       " '256681465848',\n",
       " '235793076694',\n",
       " '256681763361',\n",
       " '235793325972',\n",
       " '255921803172',\n",
       " '335980457528',\n",
       " '335980569375',\n",
       " '234276831063',\n",
       " '234544398159',\n",
       " '236010018513',\n",
       " '255407581263',\n",
       " '256861788765',\n",
       " '256814268066',\n",
       " '334041323458',\n",
       " '255527869390',\n",
       " '335819162606',\n",
       " '335625296416',\n",
       " '235793146101',\n",
       " '335625703228',\n",
       " '334712574189',\n",
       " '255753621750',\n",
       " '256814266459',\n",
       " '256681647689',\n",
       " '235985113889',\n",
       " '335963474795',\n",
       " '333130143621',\n",
       " '335980682795',\n",
       " '255459637046',\n",
       " '335958448016',\n",
       " '335625528387',\n",
       " '335625729246',\n",
       " '335819153403',\n",
       " '256937803887',\n",
       " '335858740714',\n",
       " '254174035720',\n",
       " '236104655737',\n",
       " '236122365929',\n",
       " '236144055494',\n",
       " '256589006811',\n",
       " '235962784178',\n",
       " '335980890112',\n",
       " '335958449481',\n",
       " '334151803763',\n",
       " '332901148739',\n",
       " '255528785337',\n",
       " '232952274260',\n",
       " '236122301430',\n",
       " '335980591327',\n",
       " '335747135833',\n",
       " '335625713082',\n",
       " '236104681967',\n",
       " '233176544003',\n",
       " '234443009491',\n",
       " '335980569083',\n",
       " '334497802270',\n",
       " '335867256862',\n",
       " '255059327394',\n",
       " '333134223626',\n",
       " '234276779738',\n",
       " '236098626711',\n",
       " '234276812992',\n",
       " '335855809571',\n",
       " '236122314760',\n",
       " '334151770196',\n",
       " '256763267929',\n",
       " '235944099098',\n",
       " '333119715726',\n",
       " '335819084618',\n",
       " '234997763807',\n",
       " '332829417440',\n",
       " '256921802971',\n",
       " '335958482240',\n",
       " '256821269045',\n",
       " '335980593975',\n",
       " '334211432221',\n",
       " '236077945249',\n",
       " '234276820877',\n",
       " '235964127278',\n",
       " '255620859948',\n",
       " '234053016991',\n",
       " '234445824486',\n",
       " '334382590431',\n",
       " '335980850752',\n",
       " '256929924874',\n",
       " '234440531333',\n",
       " '256948040840',\n",
       " '235887729570',\n",
       " '256681503140',\n",
       " '256929914797',\n",
       " '335958441601',\n",
       " '335429280805',\n",
       " '335980582600',\n",
       " '335980595608',\n",
       " '234276860559',\n",
       " '235793202149',\n",
       " '255218432305',\n",
       " '256911408117',\n",
       " '334151777199',\n",
       " '256947720790',\n",
       " '236102103783',\n",
       " '256943109237',\n",
       " '335511435714',\n",
       " '335778363223',\n",
       " '335215802937',\n",
       " '232628030166',\n",
       " '334348192867',\n",
       " '335858738955',\n",
       " '233621258535',\n",
       " '335936761646',\n",
       " '335998328961',\n",
       " '332371706664',\n",
       " '335935976543',\n",
       " '236111234550',\n",
       " '334041488963',\n",
       " '255022686336',\n",
       " '235647554777',\n",
       " '234616765615',\n",
       " '232688638470',\n",
       " '236112518936',\n",
       " '234053013857',\n",
       " '334041726512',\n",
       " '256947907052',\n",
       " '234277033709',\n",
       " '335152609229',\n",
       " '255018487588',\n",
       " '335936743678',\n",
       " '256496889692',\n",
       " '236001097330',\n",
       " '235836608620',\n",
       " '255531675896',\n",
       " '256511956659',\n",
       " '256192886113',\n",
       " '334521174599',\n",
       " '235956971484',\n",
       " '255922672592',\n",
       " '255590598151',\n",
       " '335682642668',\n",
       " '334437920709',\n",
       " '333124695780',\n",
       " '335974873683',\n",
       " '335597362536',\n",
       " '335858738787',\n",
       " '234052960438',\n",
       " '232315242152',\n",
       " '234441498273',\n",
       " '335936997407',\n",
       " '235184103540',\n",
       " '334041548817',\n",
       " '235869201283',\n",
       " '234057629496',\n",
       " '236122388550',\n",
       " '232435277242',\n",
       " '235648003016',\n",
       " '335855065276',\n",
       " '236116539507',\n",
       " '232315264904',\n",
       " '255410646663',\n",
       " '335424739615',\n",
       " '335858517274',\n",
       " '252900220689',\n",
       " '236133137294',\n",
       " '335948712393',\n",
       " '256968109555',\n",
       " '335936896935',\n",
       " '335937076221',\n",
       " '256513044658',\n",
       " '335682650386',\n",
       " '256911524499',\n",
       " '253139036562',\n",
       " '256102649999',\n",
       " '236076912115',\n",
       " '256947659042',\n",
       " '235826519927',\n",
       " '236114054413',\n",
       " '256911743210',\n",
       " '256209081025',\n",
       " '335981114908',\n",
       " '235055850780',\n",
       " '334041377271',\n",
       " '256910783495',\n",
       " '256851655918',\n",
       " '256536401805',\n",
       " '253426070593',\n",
       " '335152580024',\n",
       " '235514544228',\n",
       " '255459561160',\n",
       " '256118799754',\n",
       " '235717425775']"
      ]
     },
     "execution_count": 21,
     "metadata": {},
     "output_type": "execute_result"
    }
   ],
   "source": [
    "list_item_number_2 = [href.strip().split('?')[0].split('/')[-1] for href in list_href]\n",
    "list_item_number_2 = [item_number.strip() for item_number in list_item_number_2 if len(item_number) == 12]\n",
    "\n",
    "list_item_number_2"
   ]
  },
  {
   "cell_type": "code",
   "execution_count": 22,
   "id": "203989ea-541e-4a5e-a677-9c195abd854c",
   "metadata": {},
   "outputs": [
    {
     "data": {
      "text/plain": [
       "False"
      ]
     },
     "execution_count": 22,
     "metadata": {},
     "output_type": "execute_result"
    }
   ],
   "source": [
    "not list_item_number_2"
   ]
  },
  {
   "cell_type": "code",
   "execution_count": 23,
   "id": "05d33df5-b275-4f74-93b8-aa81744459c5",
   "metadata": {},
   "outputs": [
    {
     "data": {
      "text/plain": [
       "['256756876675',\n",
       " '235793200715',\n",
       " '335809181630',\n",
       " '335625002635',\n",
       " '235954842995',\n",
       " '235917033360',\n",
       " '335958440522',\n",
       " '335625717917',\n",
       " '335980541665',\n",
       " '235954844744',\n",
       " '335819077903',\n",
       " '335625704341',\n",
       " '334211431931',\n",
       " '335625236482',\n",
       " '255220734701',\n",
       " '335625658367',\n",
       " '256822640412',\n",
       " '335817464391',\n",
       " '334151851057',\n",
       " '335867255652',\n",
       " '256947796774',\n",
       " '334041387751',\n",
       " '335867348384',\n",
       " '256681838558',\n",
       " '335625681208',\n",
       " '235793309791',\n",
       " '235792948511',\n",
       " '235978698415',\n",
       " '235792706642',\n",
       " '256681642957',\n",
       " '235333054559',\n",
       " '335456401396',\n",
       " '256681463897',\n",
       " '335625547992',\n",
       " '255139710876',\n",
       " '335809180611',\n",
       " '235793313103',\n",
       " '256763270995',\n",
       " '255620823840',\n",
       " '235792992626',\n",
       " '256940234636',\n",
       " '256814263462',\n",
       " '235793317067',\n",
       " '234441893392',\n",
       " '235793318124',\n",
       " '335980646294',\n",
       " '256948088539',\n",
       " '236104662003',\n",
       " '256861788534',\n",
       " '234276873495',\n",
       " '334434715351',\n",
       " '335867256181',\n",
       " '256681465848',\n",
       " '235793076694',\n",
       " '256681763361',\n",
       " '235793325972',\n",
       " '255921803172',\n",
       " '335980457528',\n",
       " '335980569375',\n",
       " '234276831063',\n",
       " '234544398159',\n",
       " '236010018513',\n",
       " '255407581263',\n",
       " '256861788765',\n",
       " '256814268066',\n",
       " '334041323458',\n",
       " '255527869390',\n",
       " '335819162606',\n",
       " '335625296416',\n",
       " '235793146101',\n",
       " '335625703228',\n",
       " '334712574189',\n",
       " '255753621750',\n",
       " '256814266459',\n",
       " '256681647689',\n",
       " '235985113889',\n",
       " '335963474795',\n",
       " '333130143621',\n",
       " '335980682795',\n",
       " '255459637046',\n",
       " '335958448016',\n",
       " '335625528387',\n",
       " '335625729246',\n",
       " '335819153403',\n",
       " '256937803887',\n",
       " '335858740714',\n",
       " '254174035720',\n",
       " '236104655737',\n",
       " '236122365929',\n",
       " '236144055494',\n",
       " '256589006811',\n",
       " '235962784178',\n",
       " '335980890112',\n",
       " '335958449481',\n",
       " '334151803763',\n",
       " '332901148739',\n",
       " '255528785337',\n",
       " '232952274260',\n",
       " '236122301430',\n",
       " '335980591327',\n",
       " '335747135833',\n",
       " '335625713082',\n",
       " '236104681967',\n",
       " '233176544003',\n",
       " '234443009491',\n",
       " '335980569083',\n",
       " '334497802270',\n",
       " '335867256862',\n",
       " '255059327394',\n",
       " '333134223626',\n",
       " '234276779738',\n",
       " '236098626711',\n",
       " '234276812992',\n",
       " '335855809571',\n",
       " '236122314760',\n",
       " '334151770196',\n",
       " '256763267929',\n",
       " '235944099098',\n",
       " '333119715726',\n",
       " '335819084618',\n",
       " '234997763807',\n",
       " '332829417440',\n",
       " '256921802971',\n",
       " '335958482240',\n",
       " '256821269045',\n",
       " '335980593975',\n",
       " '334211432221',\n",
       " '236077945249',\n",
       " '234276820877',\n",
       " '235964127278',\n",
       " '255620859948',\n",
       " '234053016991',\n",
       " '234445824486',\n",
       " '334382590431',\n",
       " '335980850752',\n",
       " '256929924874',\n",
       " '234440531333',\n",
       " '256948040840',\n",
       " '235887729570',\n",
       " '256681503140',\n",
       " '256929914797',\n",
       " '335958441601',\n",
       " '335429280805',\n",
       " '335980582600',\n",
       " '335980595608',\n",
       " '234276860559',\n",
       " '235793202149',\n",
       " '255218432305',\n",
       " '256911408117',\n",
       " '334151777199',\n",
       " '256947720790',\n",
       " '236102103783',\n",
       " '256943109237',\n",
       " '335511435714',\n",
       " '335778363223',\n",
       " '335215802937',\n",
       " '232628030166',\n",
       " '334348192867',\n",
       " '335858738955',\n",
       " '233621258535',\n",
       " '335936761646',\n",
       " '335998328961',\n",
       " '332371706664',\n",
       " '335935976543',\n",
       " '236111234550',\n",
       " '334041488963',\n",
       " '255022686336',\n",
       " '235647554777',\n",
       " '234616765615',\n",
       " '232688638470',\n",
       " '236112518936',\n",
       " '234053013857',\n",
       " '334041726512',\n",
       " '256947907052',\n",
       " '234277033709',\n",
       " '335152609229',\n",
       " '255018487588',\n",
       " '335936743678',\n",
       " '256496889692',\n",
       " '236001097330',\n",
       " '235836608620',\n",
       " '255531675896',\n",
       " '256511956659',\n",
       " '256192886113',\n",
       " '334521174599',\n",
       " '235956971484',\n",
       " '255922672592',\n",
       " '255590598151',\n",
       " '335682642668',\n",
       " '334437920709',\n",
       " '333124695780',\n",
       " '335974873683',\n",
       " '335597362536',\n",
       " '335858738787',\n",
       " '234052960438',\n",
       " '232315242152',\n",
       " '234441498273',\n",
       " '335936997407',\n",
       " '235184103540',\n",
       " '334041548817',\n",
       " '235869201283',\n",
       " '234057629496',\n",
       " '236122388550',\n",
       " '232435277242',\n",
       " '235648003016',\n",
       " '335855065276',\n",
       " '236116539507',\n",
       " '232315264904',\n",
       " '255410646663',\n",
       " '335424739615',\n",
       " '335858517274',\n",
       " '252900220689',\n",
       " '236133137294',\n",
       " '335948712393',\n",
       " '256968109555',\n",
       " '335936896935',\n",
       " '335937076221',\n",
       " '256513044658',\n",
       " '335682650386',\n",
       " '256911524499',\n",
       " '253139036562',\n",
       " '256102649999',\n",
       " '236076912115',\n",
       " '256947659042',\n",
       " '235826519927',\n",
       " '236114054413',\n",
       " '256911743210',\n",
       " '256209081025',\n",
       " '335981114908',\n",
       " '235055850780',\n",
       " '334041377271',\n",
       " '256910783495',\n",
       " '256851655918',\n",
       " '256536401805',\n",
       " '253426070593',\n",
       " '335152580024',\n",
       " '235514544228',\n",
       " '255459561160',\n",
       " '256118799754',\n",
       " '235717425775']"
      ]
     },
     "execution_count": 23,
     "metadata": {},
     "output_type": "execute_result"
    }
   ],
   "source": [
    "for item_number in list_item_number_2:\n",
    "    if item_number not in list_item_number:\n",
    "        list_item_number.append(item_number)\n",
    "\n",
    "list_item_number"
   ]
  },
  {
   "cell_type": "code",
   "execution_count": 24,
   "id": "ac130ede-3c8c-4a10-8d50-88761c3fd8b1",
   "metadata": {
    "scrolled": true
   },
   "outputs": [
    {
     "data": {
      "text/plain": [
       "{'page': 1,\n",
       " 'page_url': 'https://www.ebay.com/sch/i.html?_dkr=1&iconV2Request=true&_blrs=recall_filtering&_ssn=scitoo-autoparts&store_cat=0&store_name=cnbatteries&_oac=1&_nkw=ac+compressor&_stpos=91710&_fcid=1&_sop=15&_ipg=240&_pgn=1&_ul=US',\n",
       " 'no': 1,\n",
       " 'item_number': '256756876675'}"
      ]
     },
     "execution_count": 24,
     "metadata": {},
     "output_type": "execute_result"
    }
   ],
   "source": [
    "{'page': page,\n",
    " 'page_url': 'https://www.ebay.com/sch/i.html?_dkr=1&iconV2Request=true&_blrs=recall_filtering&_ssn=scitoo-autoparts&store_cat=0&store_name=cnbatteries&_oac=1&_nkw=ac+compressor&_stpos=91710&_fcid=1&_sop=15&_ipg=240&_pgn=1&_ul=US',\n",
    " 'no': 1,\n",
    " 'item_number': list_item_number[0]}"
   ]
  },
  {
   "cell_type": "code",
   "execution_count": 25,
   "id": "54270a88-1ad5-49b8-b982-f0bb8f2371b7",
   "metadata": {},
   "outputs": [
    {
     "data": {
      "text/plain": [
       "[<Selector query='//nav[@class=\"pagination\"]/a[@type=\"next\"]' data='<a _sp=\"p3658866.m4115.l8631\" aria-la...'>]"
      ]
     },
     "execution_count": 25,
     "metadata": {},
     "output_type": "execute_result"
    }
   ],
   "source": [
    "list_next = selector.xpath('//nav[@class=\"pagination\"]/a[@type=\"next\"]')\n",
    "\n",
    "list_next"
   ]
  },
  {
   "cell_type": "code",
   "execution_count": 26,
   "id": "07d6ed49-058f-46af-892c-0862dfe7a57c",
   "metadata": {},
   "outputs": [
    {
     "data": {
      "text/plain": [
       "[<Selector query='//nav[@class=\"pagination\"]/a[@type=\"next\"]' data='<a _sp=\"p3658866.m4115.l8631\" aria-la...'>]"
      ]
     },
     "execution_count": 26,
     "metadata": {},
     "output_type": "execute_result"
    }
   ],
   "source": [
    "list_next"
   ]
  },
  {
   "cell_type": "code",
   "execution_count": 27,
   "id": "edeadc88-b48a-4f65-95fe-9118b7c7a6c3",
   "metadata": {},
   "outputs": [
    {
     "data": {
      "text/plain": [
       "{'_dkr': '1',\n",
       " 'iconV2Request': 'true',\n",
       " '_blrs': 'recall_filtering',\n",
       " '_ssn': 'scitoo-autoparts',\n",
       " 'store_cat': '0',\n",
       " 'store_name': 'cnbatteries',\n",
       " '_oac': '1',\n",
       " '_nkw': 'ac compressor',\n",
       " '_stpos': '91710',\n",
       " '_fcid': '1',\n",
       " '_sop': '15',\n",
       " '_ipg': '240',\n",
       " '_pgn': 2,\n",
       " '_ul': 'US'}"
      ]
     },
     "execution_count": 27,
     "metadata": {},
     "output_type": "execute_result"
    }
   ],
   "source": [
    "dict_query['_pgn'] = page + 1\n",
    "\n",
    "dict_query"
   ]
  },
  {
   "cell_type": "code",
   "execution_count": 28,
   "id": "60f9782a-65c0-4308-ac1d-b074e7cbb63c",
   "metadata": {},
   "outputs": [
    {
     "data": {
      "text/plain": [
       "'https://www.ebay.com/sch/i.html?_dkr=1&iconV2Request=true&_blrs=recall_filtering&_ssn=scitoo-autoparts&store_cat=0&store_name=cnbatteries&_oac=1&_nkw=ac+compressor&_stpos=91710&_fcid=1&_sop=15&_ipg=240&_pgn=2&_ul=US'"
      ]
     },
     "execution_count": 28,
     "metadata": {},
     "output_type": "execute_result"
    }
   ],
   "source": [
    "url = urlunsplit((tuple_.scheme, tuple_.netloc, tuple_.path, urlencode(dict_query), tuple_.fragment))\n",
    "\n",
    "url"
   ]
  },
  {
   "cell_type": "code",
   "execution_count": null,
   "id": "b8a1c2a0-684b-4abf-98c8-f647eee9f56a",
   "metadata": {},
   "outputs": [],
   "source": []
  }
 ],
 "metadata": {
  "kernelspec": {
   "display_name": "Python 3 (ipykernel)",
   "language": "python",
   "name": "python3"
  },
  "language_info": {
   "codemirror_mode": {
    "name": "ipython",
    "version": 3
   },
   "file_extension": ".py",
   "mimetype": "text/x-python",
   "name": "python",
   "nbconvert_exporter": "python",
   "pygments_lexer": "ipython3",
   "version": "3.12.7"
  }
 },
 "nbformat": 4,
 "nbformat_minor": 5
}
