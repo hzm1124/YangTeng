{
 "cells": [
  {
   "cell_type": "code",
   "execution_count": 1,
   "id": "bc43eeb9-298f-4060-a29f-6cfeca9ef980",
   "metadata": {},
   "outputs": [],
   "source": [
    "import os\n",
    "\n",
    "# = = = = = = = = = = = = = = =\n",
    "\n",
    "import pandas as pd\n",
    "\n",
    "# = = = = = = = = = = = = = = =\n",
    "\n",
    "import requests\n",
    "\n",
    "import sys\n",
    "sys.path.append('../00.Tools')\n",
    "from crawler_configuration import get_header, get_proxy\n",
    "\n",
    "from bs4 import BeautifulSoup\n",
    "from lxml import etree\n",
    "\n",
    "import json"
   ]
  },
  {
   "cell_type": "code",
   "execution_count": 2,
   "id": "1549e972-a339-4b58-be42-48542af8a6b2",
   "metadata": {},
   "outputs": [
    {
     "data": {
      "text/plain": [
       "'crawler_1.xlsx'"
      ]
     },
     "execution_count": 2,
     "metadata": {},
     "output_type": "execute_result"
    }
   ],
   "source": [
    "directory_in = './file/1.item_number'\n",
    "\n",
    "list_file = [file for file in sorted(os.listdir(directory_in)) if file not in ['.DS_Store'] and os.path.isfile(f'{directory_in}/{file}')]\n",
    "file = list_file[0]\n",
    "\n",
    "file"
   ]
  },
  {
   "cell_type": "code",
   "execution_count": 3,
   "id": "e54a1949-c728-4502-91a4-65957f9a0d43",
   "metadata": {},
   "outputs": [
    {
     "name": "stdout",
     "output_type": "stream",
     "text": [
      "总数量：512\n",
      "\n"
     ]
    },
    {
     "data": {
      "text/html": [
       "<div>\n",
       "<style scoped>\n",
       "    .dataframe tbody tr th:only-of-type {\n",
       "        vertical-align: middle;\n",
       "    }\n",
       "\n",
       "    .dataframe tbody tr th {\n",
       "        vertical-align: top;\n",
       "    }\n",
       "\n",
       "    .dataframe thead th {\n",
       "        text-align: right;\n",
       "    }\n",
       "</style>\n",
       "<table border=\"1\" class=\"dataframe\">\n",
       "  <thead>\n",
       "    <tr style=\"text-align: right;\">\n",
       "      <th></th>\n",
       "      <th>No</th>\n",
       "      <th>Item Number</th>\n",
       "    </tr>\n",
       "  </thead>\n",
       "  <tbody>\n",
       "    <tr>\n",
       "      <th>0</th>\n",
       "      <td>1</td>\n",
       "      <td>255410646663</td>\n",
       "    </tr>\n",
       "    <tr>\n",
       "      <th>1</th>\n",
       "      <td>2</td>\n",
       "      <td>335270737835</td>\n",
       "    </tr>\n",
       "    <tr>\n",
       "      <th>2</th>\n",
       "      <td>3</td>\n",
       "      <td>232315264904</td>\n",
       "    </tr>\n",
       "    <tr>\n",
       "      <th>3</th>\n",
       "      <td>4</td>\n",
       "      <td>235748987359</td>\n",
       "    </tr>\n",
       "    <tr>\n",
       "      <th>4</th>\n",
       "      <td>5</td>\n",
       "      <td>252900220689</td>\n",
       "    </tr>\n",
       "    <tr>\n",
       "      <th>...</th>\n",
       "      <td>...</td>\n",
       "      <td>...</td>\n",
       "    </tr>\n",
       "    <tr>\n",
       "      <th>507</th>\n",
       "      <td>508</td>\n",
       "      <td>335624941617</td>\n",
       "    </tr>\n",
       "    <tr>\n",
       "      <th>508</th>\n",
       "      <td>509</td>\n",
       "      <td>234276860559</td>\n",
       "    </tr>\n",
       "    <tr>\n",
       "      <th>509</th>\n",
       "      <td>510</td>\n",
       "      <td>334151851057</td>\n",
       "    </tr>\n",
       "    <tr>\n",
       "      <th>510</th>\n",
       "      <td>511</td>\n",
       "      <td>234544398159</td>\n",
       "    </tr>\n",
       "    <tr>\n",
       "      <th>511</th>\n",
       "      <td>512</td>\n",
       "      <td>334499861839</td>\n",
       "    </tr>\n",
       "  </tbody>\n",
       "</table>\n",
       "<p>512 rows × 2 columns</p>\n",
       "</div>"
      ],
      "text/plain": [
       "      No   Item Number\n",
       "0      1  255410646663\n",
       "1      2  335270737835\n",
       "2      3  232315264904\n",
       "3      4  235748987359\n",
       "4      5  252900220689\n",
       "..   ...           ...\n",
       "507  508  335624941617\n",
       "508  509  234276860559\n",
       "509  510  334151851057\n",
       "510  511  234544398159\n",
       "511  512  334499861839\n",
       "\n",
       "[512 rows x 2 columns]"
      ]
     },
     "execution_count": 3,
     "metadata": {},
     "output_type": "execute_result"
    }
   ],
   "source": [
    "list_dict_correct, list_series_error, df_input = [], [], pd.read_excel(f'{directory_in}/{file}',\n",
    "                                                                       header=0,\n",
    "                                                                       dtype=str).fillna('')\n",
    "\n",
    "df_input['No'] = df_input['No'].astype(int)\n",
    "\n",
    "count_remain = len(df_input)\n",
    "\n",
    "print(f'总数量：{count_remain}')\n",
    "print()\n",
    "df_input"
   ]
  },
  {
   "cell_type": "code",
   "execution_count": 4,
   "id": "42130183-3b93-4078-ae77-346b4df4e38c",
   "metadata": {},
   "outputs": [
    {
     "data": {
      "text/plain": [
       "(0,\n",
       " No                        1\n",
       " Item Number    255410646663\n",
       " Name: 0, dtype: object)"
      ]
     },
     "execution_count": 4,
     "metadata": {},
     "output_type": "execute_result"
    }
   ],
   "source": [
    "(crawler_index, crawler_series) = next(df_input.iterrows())\n",
    "\n",
    "crawler_index, crawler_series"
   ]
  },
  {
   "cell_type": "code",
   "execution_count": 5,
   "id": "d1573928-cf3f-4364-b75a-2fd32bac0395",
   "metadata": {},
   "outputs": [
    {
     "name": "stdout",
     "output_type": "stream",
     "text": [
      "1\n",
      "2\n"
     ]
    },
    {
     "data": {
      "text/plain": [
       "200"
      ]
     },
     "execution_count": 5,
     "metadata": {},
     "output_type": "execute_result"
    }
   ],
   "source": [
    "import time\n",
    "\n",
    "count_retry = 0\n",
    "while True:\n",
    "    count_retry += 1\n",
    "    print(count_retry)\n",
    "    try:\n",
    "        url_request = f'''https://www.ebay.com/itm/{crawler_series['Item Number']}?_ul=US&_stpos=91710&orig_cvip=true'''\n",
    "\n",
    "        resp = requests.get(url_request,\n",
    "                            headers=get_header(),\n",
    "                            proxies=get_proxy(),\n",
    "                            timeout=(5, 15))\n",
    "\n",
    "        if resp.status_code == 200:\n",
    "            soup = BeautifulSoup(resp.text, 'lxml')\n",
    "            html = etree.HTML(str(soup))\n",
    "\n",
    "            # = = = = = = = = = = = = = = =\n",
    "\n",
    "            dict_ = json.loads(resp.text.split('$MC=(window.$MC||[]).concat(')[1].split(']}]})</script>')[0] + ']}]}')\n",
    "\n",
    "            # = = = = = = = = = = = = = = =\n",
    "\n",
    "            if dict_['o']['g']['itemId'].strip() == crawler_series['Item Number']:\n",
    "                with open('./url.html', 'w', encoding='UTF-8') as file:\n",
    "                    file.write(str(soup))\n",
    "\n",
    "                list_dict = [list_[2] for list_ in dict_['o']['w'] if 'model' in list_[2]]\n",
    "\n",
    "                # = = = = = = = = = = = = = = =\n",
    "\n",
    "                for link in list_dict[0]['model']['modules']['MARS']['metaData']:\n",
    "                    soup = BeautifulSoup(link, 'lxml')\n",
    "                    html = etree.HTML(str(soup))\n",
    "\n",
    "                    # = = = = = = = = = = = = = = =\n",
    "\n",
    "                    if html is not None and html.xpath('//link[@hreflang=\"x-default\"]'):\n",
    "                        url = html.xpath('//link/@href')[0]\n",
    "\n",
    "                        if url.startswith('https://www.ebay.com/'):\n",
    "                            url = f'{url}?_ul=US&_stpos=91710&orig_cvip=true'\n",
    "                        elif url.startswith('https://www.ebay.de/'):\n",
    "                            url = f'{url}?_ul=DE&_stpos=10115&orig_cvip=true'\n",
    "                        elif url.startswith('https://www.ebay.co.uk/'):\n",
    "                            url = f'{url}?_ul=GB&_stpos=BS81QU&orig_cvip=true'\n",
    "                        elif url.startswith('https://www.ebay.com.au/'):\n",
    "                            url = f'{url}?_ul=AU&_stpos=2019&orig_cvip=true'\n",
    "                        elif url.startswith('https://www.ebay.ca/'):\n",
    "                            url = f'{url}?_ul=CA&_stpos=M5S2E8&orig_cvip=true'\n",
    "\n",
    "                break\n",
    "    except KeyboardInterrupt:\n",
    "        break\n",
    "    except:\n",
    "        time.sleep(3)\n",
    "        continue\n",
    "\n",
    "resp.status_code"
   ]
  },
  {
   "cell_type": "code",
   "execution_count": 6,
   "id": "3163f64d-65ea-4aed-b31d-262a9346596e",
   "metadata": {},
   "outputs": [
    {
     "data": {
      "text/plain": [
       "[{'No': 1,\n",
       "  'Item Number': '255410646663',\n",
       "  'Url': 'https://www.ebay.com/itm/255410646663?_ul=US&_stpos=91710&orig_cvip=true'}]"
      ]
     },
     "execution_count": 6,
     "metadata": {},
     "output_type": "execute_result"
    }
   ],
   "source": [
    "list_dict_correct.append({'No': crawler_series['No'],\n",
    "                          'Item Number': crawler_series['Item Number'],\n",
    "                          'Url': url})\n",
    "\n",
    "list_dict_correct"
   ]
  },
  {
   "cell_type": "code",
   "execution_count": 7,
   "id": "fc4ed7f6-ed4f-431c-b944-b1690309cdae",
   "metadata": {},
   "outputs": [
    {
     "data": {
      "text/plain": [
       "True"
      ]
     },
     "execution_count": 7,
     "metadata": {},
     "output_type": "execute_result"
    }
   ],
   "source": [
    "crawler_status = True\n",
    "\n",
    "crawler_status"
   ]
  },
  {
   "cell_type": "code",
   "execution_count": 8,
   "id": "65c745d1-446e-46c5-9dec-819c9f7944d3",
   "metadata": {},
   "outputs": [
    {
     "data": {
      "text/plain": [
       "[No                                                             1\n",
       " Item Number                                         255410646663\n",
       " Request_Url    https://www.ebay.com/itm/255410646663?_ul=US&_...\n",
       " Name: 0, dtype: object]"
      ]
     },
     "execution_count": 8,
     "metadata": {},
     "output_type": "execute_result"
    }
   ],
   "source": [
    "crawler_series['Request_Url'] = url_request\n",
    "\n",
    "list_series_error.append(crawler_series)\n",
    "\n",
    "list_series_error"
   ]
  },
  {
   "cell_type": "code",
   "execution_count": 9,
   "id": "7fd477de",
   "metadata": {},
   "outputs": [
    {
     "data": {
      "text/html": [
       "<div>\n",
       "<style scoped>\n",
       "    .dataframe tbody tr th:only-of-type {\n",
       "        vertical-align: middle;\n",
       "    }\n",
       "\n",
       "    .dataframe tbody tr th {\n",
       "        vertical-align: top;\n",
       "    }\n",
       "\n",
       "    .dataframe thead th {\n",
       "        text-align: right;\n",
       "    }\n",
       "</style>\n",
       "<table border=\"1\" class=\"dataframe\">\n",
       "  <thead>\n",
       "    <tr style=\"text-align: right;\">\n",
       "      <th></th>\n",
       "      <th>No</th>\n",
       "      <th>Item Number</th>\n",
       "      <th>Url</th>\n",
       "    </tr>\n",
       "  </thead>\n",
       "  <tbody>\n",
       "    <tr>\n",
       "      <th>0</th>\n",
       "      <td>1</td>\n",
       "      <td>255410646663</td>\n",
       "      <td>https://www.ebay.com/itm/255410646663?_ul=US&amp;_...</td>\n",
       "    </tr>\n",
       "  </tbody>\n",
       "</table>\n",
       "</div>"
      ],
      "text/plain": [
       "   No   Item Number                                                Url\n",
       "0   1  255410646663  https://www.ebay.com/itm/255410646663?_ul=US&_..."
      ]
     },
     "execution_count": 9,
     "metadata": {},
     "output_type": "execute_result"
    }
   ],
   "source": [
    "if list_dict_correct:\n",
    "    df_correct = pd.DataFrame(list_dict_correct).sort_values(by=['No'],\n",
    "                                                             ascending=[True],\n",
    "                                                             ignore_index=True)\n",
    "    df_correct.to_excel('./test_url.xlsx', index=False)\n",
    "\n",
    "df_correct"
   ]
  },
  {
   "cell_type": "code",
   "execution_count": 10,
   "id": "39a5441b-7f69-4812-aad8-7e10a1a24e78",
   "metadata": {},
   "outputs": [
    {
     "data": {
      "text/html": [
       "<div>\n",
       "<style scoped>\n",
       "    .dataframe tbody tr th:only-of-type {\n",
       "        vertical-align: middle;\n",
       "    }\n",
       "\n",
       "    .dataframe tbody tr th {\n",
       "        vertical-align: top;\n",
       "    }\n",
       "\n",
       "    .dataframe thead th {\n",
       "        text-align: right;\n",
       "    }\n",
       "</style>\n",
       "<table border=\"1\" class=\"dataframe\">\n",
       "  <thead>\n",
       "    <tr style=\"text-align: right;\">\n",
       "      <th></th>\n",
       "      <th>No</th>\n",
       "      <th>Item Number</th>\n",
       "      <th>Request_Url</th>\n",
       "    </tr>\n",
       "  </thead>\n",
       "  <tbody>\n",
       "    <tr>\n",
       "      <th>0</th>\n",
       "      <td>1</td>\n",
       "      <td>255410646663</td>\n",
       "      <td>https://www.ebay.com/itm/255410646663?_ul=US&amp;_...</td>\n",
       "    </tr>\n",
       "  </tbody>\n",
       "</table>\n",
       "</div>"
      ],
      "text/plain": [
       "   No   Item Number                                        Request_Url\n",
       "0   1  255410646663  https://www.ebay.com/itm/255410646663?_ul=US&_..."
      ]
     },
     "execution_count": 10,
     "metadata": {},
     "output_type": "execute_result"
    }
   ],
   "source": [
    "if list_series_error:\n",
    "    df_error = pd.DataFrame(list_series_error).sort_values(by=['No'],\n",
    "                                                           ascending=[True],\n",
    "                                                           ignore_index=True)\n",
    "    df_error.to_excel('./test_url_error.xlsx', index=False)\n",
    "\n",
    "df_error"
   ]
  },
  {
   "cell_type": "code",
   "execution_count": null,
   "id": "ba5d9f77-7464-4ad5-a42b-1fa0c0505832",
   "metadata": {},
   "outputs": [],
   "source": []
  }
 ],
 "metadata": {
  "kernelspec": {
   "display_name": "Python 3 (ipykernel)",
   "language": "python",
   "name": "python3"
  },
  "language_info": {
   "codemirror_mode": {
    "name": "ipython",
    "version": 3
   },
   "file_extension": ".py",
   "mimetype": "text/x-python",
   "name": "python",
   "nbconvert_exporter": "python",
   "pygments_lexer": "ipython3",
   "version": "3.12.7"
  }
 },
 "nbformat": 4,
 "nbformat_minor": 5
}
