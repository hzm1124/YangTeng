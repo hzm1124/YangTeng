{
 "cells": [
  {
   "cell_type": "markdown",
   "id": "34a0a157",
   "metadata": {},
   "source": [
    "- Update: 2023.02.25\n",
    "\n",
    "# 0. 配置参数\n",
    "\n",
    "- `dict_page`：品类链接的参数\n",
    "- `out`：保存结果的路径"
   ]
  },
  {
   "cell_type": "code",
   "execution_count": 1,
   "id": "d9631fd2",
   "metadata": {},
   "outputs": [],
   "source": [
    "dict_page = {'url': 'https://www.cardone.com/search.php?page=WHAT_THE_FUCK&section=product&search_query=%22throttle+body%22&f=throttle+body&sort=relevance',\n",
    "             'max_page': 36}\n",
    "\n",
    "out = '../../file/cardone-throttle_body-menu.xlsx'"
   ]
  },
  {
   "cell_type": "code",
   "execution_count": 2,
   "id": "0703ff9e",
   "metadata": {},
   "outputs": [],
   "source": [
    "from selenium.webdriver import Chrome\n",
    "import datetime"
   ]
  },
  {
   "cell_type": "code",
   "execution_count": 3,
   "id": "040b8862",
   "metadata": {},
   "outputs": [
    {
     "name": "stdout",
     "output_type": "stream",
     "text": [
      "开始爬取时间：2023:02:25 08:48:29\n"
     ]
    }
   ],
   "source": [
    "browser = Chrome()\n",
    "browser.set_page_load_timeout(60)\n",
    "\n",
    "print(f'开始爬取时间：{datetime.datetime.now().strftime(\"%Y:%m:%d %H:%M:%S\")}')"
   ]
  },
  {
   "cell_type": "code",
   "execution_count": 4,
   "id": "edb2a37b",
   "metadata": {},
   "outputs": [],
   "source": [
    "from selenium.webdriver.common.by import By\n",
    "import time"
   ]
  },
  {
   "cell_type": "code",
   "execution_count": 5,
   "id": "3c764173",
   "metadata": {},
   "outputs": [
    {
     "name": "stdout",
     "output_type": "stream",
     "text": [
      "1\n",
      "2\n",
      "3\n",
      "4\n",
      "5\n",
      "6\n",
      "7\n",
      "8\n",
      "9\n",
      "10\n",
      "11\n",
      "12\n",
      "13\n",
      "14\n",
      "15\n",
      "16\n",
      "17\n",
      "18\n",
      "19\n",
      "20\n",
      "21\n",
      "22\n",
      "23\n",
      "24\n",
      "25\n",
      "26\n",
      "27\n",
      "28\n",
      "29\n",
      "30\n",
      "31\n",
      "32\n",
      "33\n",
      "34\n",
      "35\n",
      "36\n"
     ]
    }
   ],
   "source": [
    "col_url = []\n",
    "col_title = []\n",
    "col_part_number = []\n",
    "col_vehicle = []\n",
    "for i in range(1, dict_page['max_page']+1):\n",
    "    print(i)\n",
    "    browser.get(dict_page['url'].replace('WHAT_THE_FUCK', str(i)))\n",
    "    browser.execute_script('window.scrollTo(0, document.body.scrollHeight)')\n",
    "    time.sleep(1.5)\n",
    "    browser.execute_script('window.scrollTo(0, -document.body.scrollHeight)')\n",
    "    time.sleep(0.5)\n",
    "    browser.execute_script('window.scrollTo(0, document.body.scrollHeight)')\n",
    "    time.sleep(1.5)\n",
    "    browser.execute_script('window.scrollTo(0, -document.body.scrollHeight)')\n",
    "    time.sleep(0.5)\n",
    "    browser.execute_script('window.scrollTo(0, document.body.scrollHeight)')\n",
    "    time.sleep(1)\n",
    "    \n",
    "    list_article = browser.find_elements(by=By.CLASS_NAME, value='card--cart-enabled')\n",
    "    for article in list_article:\n",
    "        content = article.find_element(by=By.CLASS_NAME, value='col1')\n",
    "        title = content.find_element(by=By.TAG_NAME, value='h4').text\n",
    "        col_title.append(title)\n",
    "        #print(title)\n",
    "        url = content.find_element(by=By.TAG_NAME, value='h4').find_element(by=By.TAG_NAME, value='a').get_attribute('href')\n",
    "        col_url.append(url)\n",
    "        # print(url)\n",
    "        part_number = content.find_elements(by=By.TAG_NAME, value='p')[1].text.split('Part Number: ')[1]\n",
    "        col_part_number.append(part_number)\n",
    "        # print(part_number)\n",
    "        list_li = article.find_element(by=By.CLASS_NAME, value='card-attributes').find_elements(by=By.TAG_NAME, value='li')\n",
    "        list_vehicle = []\n",
    "        for li in list_li:\n",
    "            list_vehicle.append(li.text)\n",
    "        vehicle = '\\n'.join(list_vehicle)\n",
    "        col_vehicle.append(vehicle)\n",
    "        # print(vehicle)\n",
    "        # print()"
   ]
  },
  {
   "cell_type": "code",
   "execution_count": 6,
   "id": "0386aa7e",
   "metadata": {},
   "outputs": [
    {
     "name": "stdout",
     "output_type": "stream",
     "text": [
      "爬取结束时间：2023:02:25 08:54:45\n"
     ]
    }
   ],
   "source": [
    "browser.quit()\n",
    "print(f'爬取结束时间：{datetime.datetime.now().strftime(\"%Y:%m:%d %H:%M:%S\")}')"
   ]
  },
  {
   "cell_type": "code",
   "execution_count": 7,
   "id": "29c50d9b",
   "metadata": {},
   "outputs": [],
   "source": [
    "import pandas as pd"
   ]
  },
  {
   "cell_type": "code",
   "execution_count": 8,
   "id": "efcd15d5",
   "metadata": {},
   "outputs": [],
   "source": [
    "df = pd.DataFrame({'标题': col_title,\n",
    "                   '品牌号': col_part_number,\n",
    "                   '车型': col_vehicle,\n",
    "                   '链接': col_url})\n",
    "df.to_excel(out, index=False)"
   ]
  },
  {
   "cell_type": "code",
   "execution_count": null,
   "id": "2fb3e266",
   "metadata": {},
   "outputs": [],
   "source": []
  }
 ],
 "metadata": {
  "kernelspec": {
   "display_name": "Python 3 (ipykernel)",
   "language": "python",
   "name": "python3"
  },
  "language_info": {
   "codemirror_mode": {
    "name": "ipython",
    "version": 3
   },
   "file_extension": ".py",
   "mimetype": "text/x-python",
   "name": "python",
   "nbconvert_exporter": "python",
   "pygments_lexer": "ipython3",
   "version": "3.9.12"
  }
 },
 "nbformat": 4,
 "nbformat_minor": 5
}
