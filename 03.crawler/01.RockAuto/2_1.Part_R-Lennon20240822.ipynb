{
 "cells": [
  {
   "cell_type": "code",
   "execution_count": 1,
   "id": "32a12924-e1d6-4d3e-a9ef-8073d0aeb574",
   "metadata": {
    "scrolled": true
   },
   "outputs": [
    {
     "data": {
      "text/plain": [
       "['crawler_1.xlsx', 'crawler_2.xlsx']"
      ]
     },
     "execution_count": 1,
     "metadata": {},
     "output_type": "execute_result"
    }
   ],
   "source": [
    "import os\n",
    "\n",
    "list_file = sorted(list(os.walk('./file/1.part_number'))[0][2])\n",
    "while '.DS_Store' in list_file:\n",
    "    list_file.remove('.DS_Store')\n",
    "while '0.null.txt' in list_file:\n",
    "    list_file.remove('0.null.txt')\n",
    "\n",
    "list_file"
   ]
  },
  {
   "cell_type": "code",
   "execution_count": 2,
   "id": "c9de1936-ff24-4793-98f4-5ef072598a26",
   "metadata": {},
   "outputs": [
    {
     "data": {
      "text/plain": [
       "'crawler_2.xlsx'"
      ]
     },
     "execution_count": 2,
     "metadata": {},
     "output_type": "execute_result"
    }
   ],
   "source": [
    "file = list_file[1]\n",
    "\n",
    "file"
   ]
  },
  {
   "cell_type": "code",
   "execution_count": 3,
   "id": "783f89be-0cdc-4912-942e-895cc5f09840",
   "metadata": {},
   "outputs": [],
   "source": [
    "import pandas as pd\n",
    "\n",
    "output_correct, output_error = pd.DataFrame(), pd.DataFrame()"
   ]
  },
  {
   "cell_type": "code",
   "execution_count": 4,
   "id": "1c28f4ff-eee5-4220-a711-cc2f93fe08f0",
   "metadata": {
    "scrolled": true
   },
   "outputs": [
    {
     "name": "stdout",
     "output_type": "stream",
     "text": [
      "总数量：248\n"
     ]
    },
    {
     "data": {
      "text/plain": [
       "['03323',\n",
       " '912001',\n",
       " '912002',\n",
       " '912003',\n",
       " '912004',\n",
       " '912005',\n",
       " '912006',\n",
       " '912007',\n",
       " '912008',\n",
       " '912009',\n",
       " '912010',\n",
       " '912011',\n",
       " '912012',\n",
       " '912013',\n",
       " '912014',\n",
       " '912015',\n",
       " '912017',\n",
       " '912018',\n",
       " '912020',\n",
       " '912021',\n",
       " '912022',\n",
       " '912023',\n",
       " '912024',\n",
       " '912025',\n",
       " '912026',\n",
       " '912028',\n",
       " '912030',\n",
       " '912031',\n",
       " '912032',\n",
       " '912033',\n",
       " '912034',\n",
       " '912035',\n",
       " '912036',\n",
       " '912037',\n",
       " '912038',\n",
       " '912039',\n",
       " '912040',\n",
       " '912041',\n",
       " '912042',\n",
       " '912043',\n",
       " '912044',\n",
       " '912045',\n",
       " '912046',\n",
       " '912047',\n",
       " '912048',\n",
       " '912049',\n",
       " '912050',\n",
       " '912052',\n",
       " '912054',\n",
       " '912055',\n",
       " '912057',\n",
       " '912060',\n",
       " '912065',\n",
       " '912066',\n",
       " '912067',\n",
       " '912070',\n",
       " '912071',\n",
       " '912073',\n",
       " '912074',\n",
       " '912075',\n",
       " '912076',\n",
       " '912077',\n",
       " '912078',\n",
       " '912079',\n",
       " '912082',\n",
       " '912083',\n",
       " '912085',\n",
       " '912086',\n",
       " '912087',\n",
       " '912088',\n",
       " '912089',\n",
       " '912090',\n",
       " '912091',\n",
       " '912092',\n",
       " '912093',\n",
       " '912094',\n",
       " '912095',\n",
       " '912096',\n",
       " '912098',\n",
       " '912099',\n",
       " '912100',\n",
       " '912101',\n",
       " '912102',\n",
       " '912103',\n",
       " '912104',\n",
       " '912111',\n",
       " '912112',\n",
       " '912113',\n",
       " '912118',\n",
       " '912119',\n",
       " '912120',\n",
       " '912121',\n",
       " '912122',\n",
       " '912123',\n",
       " '912124',\n",
       " '912127',\n",
       " '912128',\n",
       " '912129',\n",
       " '912130',\n",
       " '912133',\n",
       " '912134',\n",
       " '912137',\n",
       " '912139',\n",
       " '912145',\n",
       " '912146',\n",
       " '912175',\n",
       " '912176',\n",
       " '912177',\n",
       " '912178',\n",
       " '912179',\n",
       " '912180',\n",
       " '912181',\n",
       " '912182',\n",
       " '912183',\n",
       " '912184',\n",
       " '912185',\n",
       " '912186',\n",
       " '912187',\n",
       " '912188',\n",
       " '912190',\n",
       " '912191',\n",
       " '912192',\n",
       " '912193',\n",
       " '912194',\n",
       " '912195',\n",
       " '912196',\n",
       " '912197',\n",
       " '912198',\n",
       " '912199',\n",
       " '912200',\n",
       " '912201',\n",
       " '912202',\n",
       " '912203',\n",
       " '912204',\n",
       " '912205',\n",
       " '912206',\n",
       " '912207',\n",
       " '912208',\n",
       " '912209',\n",
       " '912210',\n",
       " '912211',\n",
       " '912212',\n",
       " '912213',\n",
       " '912214',\n",
       " '912215',\n",
       " '912216',\n",
       " '912217',\n",
       " '912218',\n",
       " '912220',\n",
       " '912221',\n",
       " '912223',\n",
       " '912400',\n",
       " '912401',\n",
       " '912402',\n",
       " '912403',\n",
       " '912404',\n",
       " '912405',\n",
       " '912406',\n",
       " '912407',\n",
       " '912408',\n",
       " '912409',\n",
       " '912410',\n",
       " '912411',\n",
       " '912412',\n",
       " '912413',\n",
       " '912414',\n",
       " '912415',\n",
       " '912416',\n",
       " '912417',\n",
       " '912418',\n",
       " '912419',\n",
       " '912420',\n",
       " '912421',\n",
       " '912422',\n",
       " '912424',\n",
       " '912428',\n",
       " '912431',\n",
       " '912432',\n",
       " '912433',\n",
       " '912434',\n",
       " '912435',\n",
       " '912437',\n",
       " '912438',\n",
       " '912439',\n",
       " '912440',\n",
       " '912441',\n",
       " '912442',\n",
       " '912443',\n",
       " '912444',\n",
       " '912445',\n",
       " '912450',\n",
       " '912451',\n",
       " '912452',\n",
       " '912453',\n",
       " '912454',\n",
       " '912455',\n",
       " '912456',\n",
       " '912457',\n",
       " '912458',\n",
       " '912459',\n",
       " '912460',\n",
       " '912461',\n",
       " '912462',\n",
       " '912463',\n",
       " '912464',\n",
       " '912465',\n",
       " '912467',\n",
       " '912469',\n",
       " '912470',\n",
       " '912472',\n",
       " '912473',\n",
       " '912474',\n",
       " '912475',\n",
       " '912477',\n",
       " '912478',\n",
       " '912479',\n",
       " '912480',\n",
       " '912481',\n",
       " '912483',\n",
       " '912484',\n",
       " '912485',\n",
       " '912487',\n",
       " '912488',\n",
       " '912491',\n",
       " '912613',\n",
       " '912628',\n",
       " '912629',\n",
       " '912703',\n",
       " '912740',\n",
       " '912745',\n",
       " '912746',\n",
       " '912747',\n",
       " '912748',\n",
       " '912749',\n",
       " '912772',\n",
       " '912773',\n",
       " '912780',\n",
       " '912784',\n",
       " '912785',\n",
       " '912786',\n",
       " '912788',\n",
       " '912790',\n",
       " '912791',\n",
       " '912793',\n",
       " '9125001',\n",
       " '9125002',\n",
       " '9125003',\n",
       " '9245501']"
      ]
     },
     "execution_count": 4,
     "metadata": {},
     "output_type": "execute_result"
    }
   ],
   "source": [
    "input_ = pd.read_excel(f'./file/1.part_number/{file}',\n",
    "                       header=0,\n",
    "                       dtype=str).fillna('')\n",
    "\n",
    "input_['No'] = input_['No'].astype(int)\n",
    "\n",
    "print(f'总数量：{len(input_)}')\n",
    "input_['Part Number'].tolist()"
   ]
  },
  {
   "cell_type": "code",
   "execution_count": 5,
   "id": "5878a9f0-d639-4123-b6e0-bc564f72c2d6",
   "metadata": {},
   "outputs": [
    {
     "data": {
      "text/plain": [
       "0"
      ]
     },
     "execution_count": 5,
     "metadata": {},
     "output_type": "execute_result"
    }
   ],
   "source": [
    "a = 0\n",
    "\n",
    "a"
   ]
  },
  {
   "cell_type": "code",
   "execution_count": 6,
   "id": "9f61dd65-55da-4d0b-ba30-d0534eff0781",
   "metadata": {},
   "outputs": [
    {
     "data": {
      "text/plain": [
       "'error'"
      ]
     },
     "execution_count": 6,
     "metadata": {},
     "output_type": "execute_result"
    }
   ],
   "source": [
    "crawler_status = 'error'\n",
    "\n",
    "crawler_status"
   ]
  },
  {
   "cell_type": "code",
   "execution_count": 7,
   "id": "523cc867",
   "metadata": {
    "scrolled": true
   },
   "outputs": [
    {
     "name": "stdout",
     "output_type": "stream",
     "text": [
      "1\n"
     ]
    },
    {
     "data": {
      "text/plain": [
       "<Response [200]>"
      ]
     },
     "execution_count": 7,
     "metadata": {},
     "output_type": "execute_result"
    }
   ],
   "source": [
    "import requests\n",
    "import json\n",
    "\n",
    "import sys\n",
    "sys.path.append('../00.Tools')\n",
    "from crawler_configuration import get_header, get_proxy\n",
    "\n",
    "data = {'dopartsearch': '1',\n",
    "        'partsearch[partnum][partsearch_007]': input_.loc[a, 'Part Number'],\n",
    "        'partsearch[manufacturer][partsearch_007]': input_.loc[a, 'Manufacturer'],\n",
    "        'partsearch[partgroup][partsearch_007]': input_.loc[a, 'Group'],\n",
    "        'partsearch[parttype][partsearch_007]': input_.loc[a, 'Type Code'],\n",
    "        'partsearch[do][partsearch_007]': '1',\n",
    "        'func': 'sendparttabsearch',\n",
    "        'giveback': json.dumps({}),\n",
    "        'api_json_request': '1'}\n",
    "\n",
    "b = 0\n",
    "while True:\n",
    "    b += 1\n",
    "    print(b)\n",
    "    try:\n",
    "        resp = requests.post('https://www.rockauto.com/catalog/catalogapi.php',\n",
    "                             data=data,\n",
    "                             headers=get_header(),\n",
    "                             proxies=get_proxy(),\n",
    "                             timeout=(10, 10))\n",
    "        \n",
    "        if resp.status_code == 200:\n",
    "            json_ = resp.json()\n",
    "            \n",
    "            if 'redirect_to_url' not in json_ and not resp.json()['giveback'] and 'collected_javascript' in json_:\n",
    "                break\n",
    "    except KeyboardInterrupt:\n",
    "        break\n",
    "    except:\n",
    "        continue\n",
    "\n",
    "resp"
   ]
  },
  {
   "cell_type": "code",
   "execution_count": 8,
   "id": "86ef5f53-4ba1-4024-af2a-5ad7c6898c6a",
   "metadata": {
    "scrolled": true
   },
   "outputs": [
    {
     "name": "stdout",
     "output_type": "stream",
     "text": [
      "<html>\n",
      " <body>\n",
      "  <div class=\"ranavnode\" id=\"nav[__GIP__1__]\">\n",
      "   <input autocomplete=\"off\" id=\"jsn[__GIP__1__]\" type=\"hidden\" value='{\"groupindex\":\"__GIP__1__\",\"tab\":\"partsearch\",\"idepth\":0,\"groupname\":\"Cooling System\",\"parttype\":\"11393\",\"catalogname\":\"FVP\",\"partnumber\":\"GREEN5050GAL\",\"nodetype\":\"parttabsearch\",\"expanded\":true,\"loaded\":true}'/>\n",
      "   <input autocomplete=\"off\" id=\"navnodeunique[partsearch-cooling system-11393]\" name=\"navnodeunique[partsearch-cooling system-11393]\" type=\"hidden\" value=\"__GIP__1__\"/>\n",
      "   <div class=\"ranavouter\" id=\"nav_o[__GIP__1__]\">\n",
      "    <div class=\"inner\">\n",
      "     <table cellpadding=\"0\" cellspacing=\"0\" class=\"tbl\">\n",
      "      <tr>\n",
      "       <td class=\"niconspace nexpandedicon\" id=\"navicon[__GIP__1__]\">\n",
      "        <a href=\"/en/parts/fvp,GREEN5050GAL,coolant+/+antifreeze,11393\" onclick='cataloglite.LinkIntercept_ToggleNavNode(\"__GIP__1__\"); return false;' tabindex=\"-1\">\n",
      "         <img alt=\"Toggle\" src=\"/Images/1pxtransparent.png\"/>\n",
      "        </a>\n",
      "       </td>\n",
      "       <td class=\"nlabel\">\n",
      "        <a class=\"navlabellink nvoffset nnormal\" href=\"/en/parts/fvp,GREEN5050GAL,coolant+/+antifreeze,11393\" id=\"navhref[__GIP__1__]\" onclick='cataloglite.LinkIntercept_ToggleNavNode(\"__GIP__1__\"); return false;'>\n",
      "         Search for Manufacturer='FVP' and Part Group='Cooling System' and Part Type='Coolant / Antifreeze' and Part Number='GREEN5050GAL'\n",
      "        </a>\n",
      "       </td>\n",
      "      </tr>\n",
      "     </table>\n",
      "    </div>\n",
      "   </div>\n",
      "   <div class=\"nchildren\" id=\"navchildren[__GIP__1__]\">\n",
      "    <div class=\"listings-container\" id=\"listings[__GIP__2__]\">\n",
      "     <form action=\"/en/partsearch/?mfr=FVP&amp;parttype=11393&amp;partnum=GREEN5050GAL\" class=\"nobmp\" id=\"frmlistings[__GIP__2__]\" method=\"post\">\n",
      "      <input name=\"_nck\" type=\"hidden\" value=\"8LVLUxTaILBT+tLxkg8+3Ag7/0bbOhvn7P3rkFbL809YNOHQDmNBznFtdYfbcEUriQ0mcmy/TcWfcbfHTjxSwndfe2chgzy88liHO2MoAcp7wW7lek5DxawTLSg/DpYUwwgKwrMfy32o9E/VwfOsRSsjnYwo9CWZybSQxxbkJxw94i8MnSD9sgElxXTNThov\"/>\n",
      "      <div class=\"listing-container-border\">\n",
      "       <input autocomplete=\"off\" id=\"parentnode[__GIP__2__]\" type=\"hidden\" value=\"__GIP__1__\"/>\n",
      "       <div>\n",
      "        <div style=\"padding-top: 1px; padding-left: .25em; padding-right: .25em;\">\n",
      "         <div class=\"remove-for-print\" style=\"padding-top:5px;\">\n",
      "          <div class=\"ib vtop\">\n",
      "           <span class=\"show-if-js\" style=\"padding-left: .5em;\">\n",
      "            <img alt=\"Close\" class=\"mouseover\" onclick='cataloglite.NavNode_SimulateClick(\"__GIP__1__\");' src=\"/catalog/images/close.gif\" style=\"vertical-align: top;\" title=\"Close\"/>\n",
      "           </span>\n",
      "           <span class=\"show-if-js\" style=\"padding-left: .5em;\">\n",
      "            <a href=\"/en/printlistings.php?ni=__GIP__2__&amp;title=Print Part Listings\" rel=\"opener\" target=\"_blank\">\n",
      "             <img alt=\"Print Part Listings\" class=\"mouseover\" src=\"/Images/mobile/printer.png\" style=\"vertical-align: top; border: none; height: 20px;\" title=\"Print Part Listings\"/>\n",
      "            </a>\n",
      "           </span>\n",
      "           <span class=\"show-if-js\" style=\"padding-left: .5em;\">\n",
      "            <a href=\"/en/emailpagetofriend.php?nurl=%2Fen%2Fpartsearch%2F%3Fmfr%3DFVP%26parttype%3D11393%26partnum%3DGREEN5050GAL\" onclick='cataloglite.AddFiltersToEmailListingURL(\"\\/en\\/partsearch\\/?mfr=FVP&amp;parttype=11393&amp;partnum=GREEN5050GAL\", \"__GIP__2__\"); return false;' target=\"_blank\">\n",
      "             <img alt=\"Send these listings to a friend\" class=\"mouseover\" src=\"/Images/mobile/envelope.png\" style=\"vertical-align: top; border: none; height: 14px;\" title=\"Send these listings to a friend\"/>\n",
      "            </a>\n",
      "           </span>\n",
      "           <span class=\"show-if-js\" style=\"padding-left: .5em;\">\n",
      "            <a alt=\"How do I choose a part?\" href=\"/help/?page=2\" style=\"text-decoration: none;\" target=\"_blank\" title=\"How do I choose a part?\">\n",
      "             <img alt=\"Help\" class=\"help_q_icon_16 vtop\" src=\"/Images/questionMark.png\"/>\n",
      "            </a>\n",
      "           </span>\n",
      "          </div>\n",
      "          <span class=\"span-filterinput\" style=\"padding-left: .5em;\">\n",
      "           <div class=\"ib\">\n",
      "            <table class=\"tblz tbl-input-button-attached attached-filter-size\">\n",
      "             <tr>\n",
      "              <td class=\"td-input\">\n",
      "               <input autocapitalize=\"off\" autocomplete=\"off\" autocorrect=\"off\" class=\"filter-input\" id=\"filterinput[__GIP__2__]\" name=\"filterinput\" onblur='cataloglite.FilterListings(\"__GIP__2__\");' onclick='cataloglite.DisplayFilterBreakDown(\"__GIP__2__\");' onkeypress='return RA.InterceptEnter(event, function(){cataloglite.FilterListings(\"__GIP__2__\");});' placeholder=\"Filter By Keyword(s)\" size=\"25\" spellcheck=\"false\" style=\"\" title=\"Filter listings below by entering words that you want to see. Use '-' before a word to find results that do NOT contain that word. Use OR between words or groups of words to see listings that match either. Use quotes &quot;...&quot; around a set of words you wish to match only when they exist together as a phrase. Multiple filters can be applied by entering new words or phrases after each filter operation.\" type=\"text\" value=\"\"/>\n",
      "              </td>\n",
      "              <td class=\"td-button\">\n",
      "               <img alt=\"Apply Filter\" class=\"ib input-size ra-btn ra-btn-size-normal ra-btn-color-darkblue ra-btn-search-icon\" onclick=\"RA.ThrottleRepeats(function() { cataloglite.SendPartTabSearch('frm_partsearch', &quot;__GIP__2__&quot;); }, 'part_tab_search_filter', 2.5); return false;\" src=\"/Images/1pxtransparent.png\" style=\"color: black;\"/>\n",
      "              </td>\n",
      "             </tr>\n",
      "            </table>\n",
      "           </div>\n",
      "           <span style=\"position: relative;\">\n",
      "            <span class=\"ra-hide\" id=\"filterbreakdownwrapper___GIP__2__\" style=\"position: absolute; z-index: 10;\">\n",
      "             <div style=\"background: #FFFFFF; border: 1px solid black; padding: 5px; white-space: nowrap;\">\n",
      "              <div class=\"filter-breakdown-row-spacing\" style=\"text-align: right;\">\n",
      "               <img alt=\"Hide\" class=\"mouseover\" onclick='cataloglite.DisplayFilterBreakDown(\"__GIP__2__\", 1);' src=\"/catalog/images/close.gif\" style=\"vertical-align: top;\" title=\"Hide\"/>\n",
      "              </div>\n",
      "              <div id=\"filterbreakdownsteps___GIP__2__\">\n",
      "              </div>\n",
      "              <div style=\"text-align: center; padding-top: .25em;\">\n",
      "               <input class=\"ra-btn mo-link\" name=\"clearfilter\" onclick=\"RA.ThrottleRepeats(function() { cataloglite.SendPartTabSearch('frm_partsearch', &quot;__GIP__2__&quot;, 1); }, 'part_tab_search_filter', 2.5); return false;\" style=\"color: blue;\" type=\"submit\" value=\"Clear Filter\"/>\n",
      "              </div>\n",
      "             </div>\n",
      "            </span>\n",
      "           </span>\n",
      "          </span>\n",
      "         </div>\n",
      "        </div>\n",
      "        <div style=\"clear: both; padding-top: .25em;\">\n",
      "        </div>\n",
      "        <table cellpadding=\"0\" cellspacing=\"0\" class=\"nobmp\" style=\"width: 100%;\">\n",
      "         <tbody>\n",
      "          <tr>\n",
      "           <td colspan=\"2\">\n",
      "           </td>\n",
      "           <td class=\"listing-float-box-cell-shared-header\" colspan=\"4\" style=\"height: 1px; text-align: center;\">\n",
      "            <span style=\"font-weight: bold;\">\n",
      "             Price\n",
      "            </span>\n",
      "           </td>\n",
      "           <td class=\"ra-hide listing-float-box-cell-shared-header\" style=\"height: 1px; text-align: center;\">\n",
      "           </td>\n",
      "           <td class=\"ra-hide listing-float-box-cell-shared-header\" style=\"height: 1px; text-align: center;\">\n",
      "           </td>\n",
      "           <td class=\"ra-hide listing-float-box-cell-shared-header\" style=\"height: 1px; text-align: center;\">\n",
      "           </td>\n",
      "           <td class=\"listing-float-box-cell-shared-header\" style=\"text-align: center;\">\n",
      "           </td>\n",
      "          </tr>\n",
      "         </tbody>\n",
      "         <tr class=\"remove-for-print\">\n",
      "          <td class=\"ra-hide\" colspan=\"6\" id=\"listingnopartscriteria[__GIP__2__]\" style=\"color: red;\">\n",
      "           No parts for vehicles in selected markets.\n",
      "          </td>\n",
      "         </tr>\n",
      "         <tbody class=\"listing-inner altrow-a-1\" id=\"listingcontainer[__GIP__3__]\" style=\"\">\n",
      "          <tr>\n",
      "           <td class=\"listing-border-top-line listing-inner-content\" rowspan=\"2\" style=\"\">\n",
      "            <span style=\"float: right;\">\n",
      "            </span>\n",
      "            <div>\n",
      "            </div>\n",
      "            <div class=\"listing-text-row-moreinfo-truck\">\n",
      "             <span class=\"listing-final-manufacturer\">\n",
      "              FVP\n",
      "             </span>\n",
      "             <span alt=\"Buyer's Guide\" class=\"listing-final-partnumber as-link-if-js\" id=\"vew_partnumber[__GIP__3__]\" onclick='if (cataloglite.IsMobileAndNotExpanded(\"__GIP__3__\")) { return; } cataloglite.ShowBuyersGuidePopup(\"__GIP__3__\");' title=\"Buyer's Guide\">\n",
      "              GREEN5050GAL\n",
      "             </span>\n",
      "             <span class=\"span-link-underline-remover\">\n",
      "              Low Silicate Blend; 1 Gallon; Green; IAT\n",
      "             </span>\n",
      "             <a class=\"ra-btn ra-btn-moreinfo\" href=\"https://www.rockauto.com/en/moreinfo.php?pk=13527801&amp;cc=0&amp;pt=11393\" onclick='cataloglite.MoreInfoClick(this, \"__GIP__3__\"); AddSerializedCookieDataToHref(this);' rel=\"opener\" target=\"_blank\">\n",
      "              Info\n",
      "             </a>\n",
      "             <span class=\"truck ra-hide remove-for-print mouseover\" name=\"vew_whtruckicon[__GIP__3__][alloptions]\" onclick=\"FAQpopup('/help/?page=2#MINSHIPCOST', &quot;Could ship from same location as parts in cart&quot;, null, this); RA.StopBubble(event); return false;\" title=\"Could ship from same location as parts in cart\">\n",
      "             </span>\n",
      "            </div>\n",
      "            <div class=\"listing-text-row\">\n",
      "             <span title=\"Please make sure this note matches your vehicle. A seemingly contradictory note (like &quot;Left; Right;&quot;) means the part fits either (left OR right) -- it does not mean you'll receive two parts. Please do not choose a part if the note does not describe your application (for example, if the note says &quot;Sedan&quot; and you have a station wagon).\">\n",
      "              <span class=\"listing-footnote-text\">\n",
      "               Category: Coolant / Antifreeze\n",
      "              </span>\n",
      "             </span>\n",
      "            </div>\n",
      "            <div>\n",
      "             <div class=\"listing-optionchoice-multiple-container remove-for-print\">\n",
      "              <span class=\"listing-optionchoice-multiple-label\">\n",
      "               Choose Type:\n",
      "              </span>\n",
      "              <span class=\"ra-vertical-dropdown-replacement-c\" id=\"ddrepl[optionchoice[__GIP__3__]][container]\">\n",
      "               <span class=\"hide-if-js\">\n",
      "                <select autocomplete=\"none\" class=\"listing-optionchoice-multiple\" id=\"optionchoice[__GIP__3__]\" name=\"optionchoice[__GIP__3__]\" onchange=\"cataloglite.change_opt(&quot;__GIP__3__&quot;); cataloglite.DynamicDropDown_SetSelected(&quot;ddrepl[optionchoice[__GIP__3__]]&quot;, -1, 'r');\" tabindex=\"0\">\n",
      "                 <option selected=\"\" value=\"\">\n",
      "                  &amp;nbsp\n",
      "                 </option>\n",
      "                 <option value=\"22-50-0-1\">\n",
      "                  <span class=\"param-value-text\">\n",
      "                   Prediluted\n",
      "                  </span>\n",
      "                  <b>\n",
      "                   ($6.09)\n",
      "                  </b>\n",
      "                  ^\n",
      "                 </option>\n",
      "                 <option value=\"22-CON-0-1\">\n",
      "                  <span class=\"param-value-text\">\n",
      "                   Concentrated\n",
      "                  </span>\n",
      "                  <b>\n",
      "                   ($8.66)\n",
      "                  </b>\n",
      "                  ^\n",
      "                 </option>\n",
      "                </select>\n",
      "               </span>\n",
      "               <span class=\"ra-vertical-dropdown-replacement tfk show-if-js\" id=\"ddrepl[optionchoice[__GIP__3__]]\" style=\"\">\n",
      "                <input autocomplete=\"off\" id=\"ddrepl[optionchoice[__GIP__3__]][jsstate]\" type=\"hidden\" value='{\"expanded\":\"\",\"selectedindex\":0,\"selectid\":\"optionchoice[__GIP__3__]\",\"disabled\":false,\"tfk\":false}'/>\n",
      "                <table class=\"control-table nobmp-table\">\n",
      "                 <tr>\n",
      "                  <td>\n",
      "                   <span class=\"collapsed input-border input-padding no-text-select listing-optionchoice-multiple\" id=\"ddrepl[optionchoice[__GIP__3__]][collapse]\" onclick='clb.DynamicDropDown_CollapsedClick(\"ddrepl[optionchoice[__GIP__3__]]\", event);' style=\"min-width: 7em;\">\n",
      "                    <span class=\"down-arrow\">\n",
      "                    </span>\n",
      "                    <span class=\"vmiddle\" id=\"ddrepl[optionchoice[__GIP__3__]][collapsetext]\">\n",
      "                     &amp;nbsp\n",
      "                    </span>\n",
      "                   </span>\n",
      "                   <div class=\"expanded ra-hide\" id=\"ddrepl[optionchoice[__GIP__3__]][expand]\">\n",
      "                    <div class=\"absolute\" id=\"ddrepl[optionchoice[__GIP__3__]][absolute]\">\n",
      "                     <ul class=\"scroll\" id=\"ddrepl[optionchoice[__GIP__3__]][scroll]\">\n",
      "                      <li class=\"list-item first\" id=\"ddrepl[optionchoice[__GIP__3__]][list-item][0]\" onclick=\"clb.DynamicDropDown_SetSelected(&quot;ddrepl[optionchoice[__GIP__3__]]&quot;, 0, 'w');\">\n",
      "                       <div class=\"outer selected\" id=\"ddrepl[optionchoice[__GIP__3__]][list-item][0][outer]\">\n",
      "                        <div class=\"inner\" id=\"ddrepl[optionchoice[__GIP__3__]][list-item][0][inner]\">\n",
      "                         &amp;nbsp\n",
      "                        </div>\n",
      "                       </div>\n",
      "                      </li>\n",
      "                      <li class=\"list-item\" id=\"ddrepl[optionchoice[__GIP__3__]][list-item][1]\" onclick=\"clb.DynamicDropDown_SetSelected(&quot;ddrepl[optionchoice[__GIP__3__]]&quot;, 1, 'w');\">\n",
      "                       <div class=\"outer\" id=\"ddrepl[optionchoice[__GIP__3__]][list-item][1][outer]\">\n",
      "                        <div class=\"inner\" id=\"ddrepl[optionchoice[__GIP__3__]][list-item][1][inner]\">\n",
      "                         <span class=\"di vmiddle\">\n",
      "                          <span class=\"param-value-text\">\n",
      "                           Prediluted\n",
      "                          </span>\n",
      "                          <b>\n",
      "                           ($6.09)\n",
      "                          </b>\n",
      "                         </span>\n",
      "                         <img alt=\"Warehouse\" class=\"nobmp di vmiddle ra-hide\" name=\"vew_whtruckicon[__GIP__3__][22-50-0-1]\" onmousemove=\"clb.FAQHover_MouseMove(this, event, '/help/?page=2#MINSHIPCOST', 'Could ship from same location as parts in cart');\" onmouseout=\"clb.FAQHover_MouseOut(this, event);\" src=\"/Images/mobile/truck.png\" style=\"height: 1.25em; margin-left: .25em;\" title=\"Could ship from same location as parts in cart\"/>\n",
      "                        </div>\n",
      "                       </div>\n",
      "                      </li>\n",
      "                      <li class=\"list-item last\" id=\"ddrepl[optionchoice[__GIP__3__]][list-item][2]\" onclick=\"clb.DynamicDropDown_SetSelected(&quot;ddrepl[optionchoice[__GIP__3__]]&quot;, 2, 'w');\">\n",
      "                       <div class=\"outer\" id=\"ddrepl[optionchoice[__GIP__3__]][list-item][2][outer]\">\n",
      "                        <div class=\"inner\" id=\"ddrepl[optionchoice[__GIP__3__]][list-item][2][inner]\">\n",
      "                         <span class=\"di vmiddle\">\n",
      "                          <span class=\"param-value-text\">\n",
      "                           Concentrated\n",
      "                          </span>\n",
      "                          <b>\n",
      "                           ($8.66)\n",
      "                          </b>\n",
      "                         </span>\n",
      "                         <img alt=\"Warehouse\" class=\"nobmp di vmiddle ra-hide\" name=\"vew_whtruckicon[__GIP__3__][22-CON-0-1]\" onmousemove=\"clb.FAQHover_MouseMove(this, event, '/help/?page=2#MINSHIPCOST', 'Could ship from same location as parts in cart');\" onmouseout=\"clb.FAQHover_MouseOut(this, event);\" src=\"/Images/mobile/truck.png\" style=\"height: 1.25em; margin-left: .25em;\" title=\"Could ship from same location as parts in cart\"/>\n",
      "                        </div>\n",
      "                       </div>\n",
      "                      </li>\n",
      "                     </ul>\n",
      "                    </div>\n",
      "                   </div>\n",
      "                  </td>\n",
      "                  <td style=\"width: 1px;\">\n",
      "                   <label for=\"ddrepl[optionchoice[__GIP__3__]][tabbable]\" style=\"display:none;\">\n",
      "                    Intentionally blank\n",
      "                   </label>\n",
      "                   <input class=\"almost-hidden-input no-text-select ra-hide\" id=\"ddrepl[optionchoice[__GIP__3__]][tabbable]\" onfocus='clb.DynamicDropDown_SetFocus(\"ddrepl[optionchoice[__GIP__3__]]\", event);' tabindex=\"0\" type=\"text\" value=\"\"/>\n",
      "                  </td>\n",
      "                  <td style=\"width: 1px;\">\n",
      "                   <label for=\"ddrepl[optionchoice[__GIP__3__]][readonly]\" style=\"display:none;\">\n",
      "                    Intentionally blank\n",
      "                   </label>\n",
      "                   <input class=\"almost-hidden-input no-text-select ra-hide\" id=\"ddrepl[optionchoice[__GIP__3__]][readonly]\" onblur='clb.DynamicDropDown_Readonly_OnBlur(\"ddrepl[optionchoice[__GIP__3__]]\", event);' onfocus='clb.DynamicDropDown_Readonly_OnFocus(\"ddrepl[optionchoice[__GIP__3__]]\", event);' onkeydown='cataloglite.DynamicDropDown_Readonly_OnKeyDown(\"ddrepl[optionchoice[__GIP__3__]]\", event);' readonly=\"\" tabindex=\"-1\" type=\"text\" value=\"\"/>\n",
      "                  </td>\n",
      "                 </tr>\n",
      "                </table>\n",
      "               </span>\n",
      "              </span>\n",
      "              <label for=\"optionchoice[__GIP__3__]\" style=\"display:none;\">\n",
      "               Choose\n",
      "              </label>\n",
      "             </div>\n",
      "            </div>\n",
      "            <div>\n",
      "             <div class=\"listing-notification-wrapper hide-if-js\">\n",
      "              <span class=\"hide-if-js\">\n",
      "               ^ Could ship from same location as parts in cart\n",
      "              </span>\n",
      "              <span class=\"show-if-js\">\n",
      "               <img alt=\"Warehouse\" class=\"nobmp di vmiddle ra-hide\" onclick=\"FAQpopup('/help/?page=2#MINSHIPCOST', 'Could ship from same location as parts in cart', null, this); RA.StopBubble(event); return false;\" src=\"/Images/mobile/truck.png\" style=\"height: 1.25em; margin-left: .25em;\" title=\"Could ship from same location as parts in cart\"/>\n",
      "              </span>\n",
      "             </div>\n",
      "            </div>\n",
      "            <div>\n",
      "            </div>\n",
      "            <input autocomplete=\"off\" id=\"pricebreakdown[__GIP__3__][]\" type=\"hidden\" value='{\"bold\":false,\"notbold\":false,\"oos\":false,\"v\":\"&lt;span class=\\\"seeopt-price-text\\\"&gt;Choose Type at Left&lt;\\/span&gt;\",\"colspan\":4,\"n\":\"&lt;span class=\\\"seeopt-price-text\\\"&gt;Choose Type at Left&lt;\\/span&gt;\"}'/>\n",
      "            <input autocomplete=\"off\" id=\"corebreakdown[__GIP__3__][]\" type=\"hidden\" value='{\"bold\":false,\"notbold\":false,\"oos\":false,\"v\":null,\"display\":\"none\"}'/>\n",
      "            <input autocomplete=\"off\" id=\"totalbreakdown[__GIP__3__][]\" type=\"hidden\" value='{\"bold\":false,\"notbold\":false,\"oos\":false,\"v\":null,\"display\":\"none\"}'/>\n",
      "            <input autocomplete=\"off\" id=\"packbreakdown[__GIP__3__][]\" type=\"hidden\" value='{\"multiple\":null,\"v\":\"\",\"display\":\"none\"}'/>\n",
      "            <input autocomplete=\"off\" id=\"pricebreakdown[__GIP__3__][22-50-0-1]\" type=\"hidden\" value='{\"bold\":false,\"notbold\":false,\"oos\":false,\"v\":\"$6.09\",\"colspan\":4,\"n\":\"6.09\"}'/>\n",
      "            <input autocomplete=\"off\" id=\"corebreakdown[__GIP__3__][22-50-0-1]\" type=\"hidden\" value='{\"bold\":false,\"notbold\":false,\"oos\":false,\"v\":\"$0.00\",\"display\":\"none\",\"n\":\"0.00\"}'/>\n",
      "            <input autocomplete=\"off\" id=\"totalbreakdown[__GIP__3__][22-50-0-1]\" type=\"hidden\" value='{\"bold\":false,\"notbold\":false,\"oos\":false,\"v\":\"$6.09\",\"display\":\"none\",\"n\":\"6.09\"}'/>\n",
      "            <input autocomplete=\"off\" id=\"packbreakdown[__GIP__3__][22-50-0-1]\" type=\"hidden\" value=\"{&quot;multiple&quot;:&quot;1&quot;,&quot;v&quot;:&quot;&lt;span class=\\&quot;hide-if-js\\&quot;&gt;+ Sold in packs of 1&lt;\\/span&gt;&lt;span class=\\&quot;show-if-js\\&quot;&gt;&lt;span class=\\&quot;pack_size_box no-text-select\\&quot; onclick=\\&quot;showContextPopup('&amp;nbsp;', &amp;quot;Sold in packs of 1&amp;quot;, this); RA.StopBubble(event); return false;\\&quot; title=\\&quot;Sold in packs of 1\\&quot;&gt;&lt;span class=\\&quot;right\\&quot;&gt;&lt;span class=\\&quot;left\\&quot;&gt;&lt;span class=\\&quot;text\\&quot;&gt;&lt;span class=\\&quot;text-x-small\\&quot;&gt;x&lt;\\/span&gt;1&lt;\\/span&gt;&lt;\\/span&gt;&lt;\\/span&gt;&lt;\\/span&gt;&lt;\\/span&gt;&quot;,&quot;display&quot;:&quot;none&quot;}\"/>\n",
      "            <input autocomplete=\"off\" id=\"pricebreakdown[__GIP__3__][22-CON-0-1]\" type=\"hidden\" value='{\"bold\":false,\"notbold\":false,\"oos\":false,\"v\":\"$8.66\",\"colspan\":4,\"n\":\"8.66\"}'/>\n",
      "            <input autocomplete=\"off\" id=\"corebreakdown[__GIP__3__][22-CON-0-1]\" type=\"hidden\" value='{\"bold\":false,\"notbold\":false,\"oos\":false,\"v\":\"$0.00\",\"display\":\"none\",\"n\":\"0.00\"}'/>\n",
      "            <input autocomplete=\"off\" id=\"totalbreakdown[__GIP__3__][22-CON-0-1]\" type=\"hidden\" value='{\"bold\":false,\"notbold\":false,\"oos\":false,\"v\":\"$8.66\",\"display\":\"none\",\"n\":\"8.66\"}'/>\n",
      "            <input autocomplete=\"off\" id=\"packbreakdown[__GIP__3__][22-CON-0-1]\" type=\"hidden\" value=\"{&quot;multiple&quot;:&quot;1&quot;,&quot;v&quot;:&quot;&lt;span class=\\&quot;hide-if-js\\&quot;&gt;+ Sold in packs of 1&lt;\\/span&gt;&lt;span class=\\&quot;show-if-js\\&quot;&gt;&lt;span class=\\&quot;pack_size_box no-text-select\\&quot; onclick=\\&quot;showContextPopup('&amp;nbsp;', &amp;quot;Sold in packs of 1&amp;quot;, this); RA.StopBubble(event); return false;\\&quot; title=\\&quot;Sold in packs of 1\\&quot;&gt;&lt;span class=\\&quot;right\\&quot;&gt;&lt;span class=\\&quot;left\\&quot;&gt;&lt;span class=\\&quot;text\\&quot;&gt;&lt;span class=\\&quot;text-x-small\\&quot;&gt;x&lt;\\/span&gt;1&lt;\\/span&gt;&lt;\\/span&gt;&lt;\\/span&gt;&lt;\\/span&gt;&lt;\\/span&gt;&quot;,&quot;display&quot;:&quot;none&quot;}\"/>\n",
      "            <input autocomplete=\"off\" id=\"listing_data_essential[__GIP__3__]\" name=\"listing_data_essential[__GIP__3__]\" type=\"hidden\" value='{\"groupindex\":\"__GIP__3__\",\"carcode\":0,\"parttype\":\"11393\",\"partkey\":\"13527801\",\"opts\":{\"22-50-0-1\":{\"warehouse\":\"95677\",\"whpartnum\":\"FVP GREEN50\\/50-GAL\",\"optionlist\":\"22\",\"paramcode\":\"50\",\"notekey\":\"0\",\"multiple\":\"1\"},\"22-CON-0-1\":{\"warehouse\":\"95677\",\"whpartnum\":\"FVP GREEN-GAL\",\"optionlist\":\"22\",\"paramcode\":\"CON\",\"notekey\":\"0\",\"multiple\":\"1\"}}}'/>\n",
      "            <input autocomplete=\"off\" id=\"listing_data_supplemental[__GIP__3__]\" type=\"hidden\" value='{\"partnumber\":\"GREEN5050GAL\",\"catalogname\":\"FVP\",\"belongstolisting\":\"__GIP__2__\",\"sortgroup\":0,\"sortgrouptext\":\"\",\"paramdesc\":\"Type\"}'/>\n",
      "            <input autocomplete=\"off\" id=\"mdl_whtruckicon[__GIP__3__][]\" type=\"hidden\" value=\"false\"/>\n",
      "            <input autocomplete=\"off\" id=\"mdl_chkalternate[__GIP__3__][]\" type=\"hidden\" value=\"false\"/>\n",
      "            <input autocomplete=\"off\" id=\"mdl_btnaddtocart[__GIP__3__][]\" type=\"hidden\" value=\"false\"/>\n",
      "            <input autocomplete=\"off\" id=\"mdl_btnpartincart[__GIP__3__][]\" type=\"hidden\" value=\"false\"/>\n",
      "            <input autocomplete=\"off\" id=\"mdl_whtruckicon[__GIP__3__][alloptions]\" type=\"hidden\" value=\"false\"/>\n",
      "            <input autocomplete=\"off\" id=\"lst_shipwhlist[__GIP__3__][22-50-0-1]\" type=\"hidden\" value='{\"64121\":64121,\"28027\":28027,\"60524\":60524,\"55121\":55121,\"92829\":92829,\"80011\":80011,\"6405\":6405,\"95677\":95677,\"2321\":2321}'/>\n",
      "            <input autocomplete=\"off\" id=\"mdl_whtruckicon[__GIP__3__][22-50-0-1]\" type=\"hidden\" value=\"false\"/>\n",
      "            <input autocomplete=\"off\" id=\"mdl_btnaddtocart[__GIP__3__][22-50-0-1]\" type=\"hidden\" value=\"true\"/>\n",
      "            <input autocomplete=\"off\" id=\"mdl_btnpartincart[__GIP__3__][22-50-0-1]\" type=\"hidden\" value=\"false\"/>\n",
      "            <input autocomplete=\"off\" id=\"mdl_btnnotifyoos[__GIP__3__][22-50-0-1]\" type=\"hidden\" value=\"false\"/>\n",
      "            <input autocomplete=\"off\" id=\"mdl_chkalternate[__GIP__3__][22-50-0-1]\" type=\"hidden\" value=\"true\"/>\n",
      "            <input autocomplete=\"off\" id=\"lst_shipwhlist[__GIP__3__][22-CON-0-1]\" type=\"hidden\" value='{\"92829\":92829,\"80011\":80011,\"95677\":95677,\"6405\":6405,\"28027\":28027,\"64121\":64121,\"60524\":60524,\"2321\":2321,\"55121\":55121}'/>\n",
      "            <input autocomplete=\"off\" id=\"mdl_whtruckicon[__GIP__3__][22-CON-0-1]\" type=\"hidden\" value=\"false\"/>\n",
      "            <input autocomplete=\"off\" id=\"mdl_btnaddtocart[__GIP__3__][22-CON-0-1]\" type=\"hidden\" value=\"true\"/>\n",
      "            <input autocomplete=\"off\" id=\"mdl_btnpartincart[__GIP__3__][22-CON-0-1]\" type=\"hidden\" value=\"false\"/>\n",
      "            <input autocomplete=\"off\" id=\"mdl_btnnotifyoos[__GIP__3__][22-CON-0-1]\" type=\"hidden\" value=\"false\"/>\n",
      "            <input autocomplete=\"off\" id=\"mdl_chkalternate[__GIP__3__][22-CON-0-1]\" type=\"hidden\" value=\"true\"/>\n",
      "            <input autocomplete=\"off\" name=\"listing-codekey[__GIP__3__]\" type=\"hidden\" value=\"196120\"/>\n",
      "            <input autocomplete=\"off\" name=\"ssk[__GIP__3__]\" type=\"hidden\" value=\"HPc6NY4sqMvPDBCrBav8qaUBY6E8t8/xuwt5gZ++bQ1qli8WtbJXFEleoLsi0MNs4T68CvXXlK4=\"/>\n",
      "            <span style=\"display: none;\" title=\"Replaces these Alternate/ OE Part Numbers\">\n",
      "             GREENGAL, GREEN5050GAL\n",
      "            </span>\n",
      "           </td>\n",
      "           <td class=\"listing-border-top-line listing-float-box-cell-shared\" rowspan=\"2\" style=\"text-align: right; \">\n",
      "            <div class=\"listing-image-space-occupy\">\n",
      "             <table class=\"tblz listing-image-table\" id=\"listing_image_table[__GIP__3__]\" style=\"\">\n",
      "              <tr>\n",
      "               <td class=\"listing-image-table-leftrightcol\">\n",
      "                <div id=\"inlineimg_left_small[__GIP__3__]\">\n",
      "                 <img alt=\"&lt;\" class=\"listing-image-prevnext-image remove-for-print show-if-js\" id=\"inlineimgprevious[__GIP__3__]\" onclick='cataloglite.Listing_InlineImageManualScroll(\"__GIP__3__\", -1, false, false)' src=\"/catalog/images/prevIMGbig.png\" style=\" margin: .1em;\" title=\"Previous Image\"/>\n",
      "                </div>\n",
      "               </td>\n",
      "               <td class=\"listing-image-table-centercol\">\n",
      "                <div class=\"ra-hide\" id=\"inlineimgpositionancestor[__GIP__3__]\" style=\" position: relative; z-index: 1;\">\n",
      "                 <div class=\"listing-inlineimg_container listing-inline-image-border\" id=\"inlineimg_container[__GIP__3__]\" style=\"z-index: 1; text-align: center; background: #FFFFFF;\">\n",
      "                  <div class=\"listing-inline-image-popup-widget-title ra-hide\" id=\"inlineimg_containertitle[__GIP__3__]\" onmousedown='cataloglite.ImagePopupTitleMouseDown(\"__GIP__3__\")'>\n",
      "                   <div style=\"text-align: center; \">\n",
      "                    <span style=\"padding: 0 2em 0 2em;\">\n",
      "                     FVP GREEN5050GAL\n",
      "                    </span>\n",
      "                    <span style=\"position: absolute; right: 5px;\">\n",
      "                     <img alt=\"close\" onclick='cataloglite.Listing_InlineImagePopupInPlace(\"__GIP__3__\")' src=\"/catalog/images/close12_1.gif\" style=\"padding: .2em; cursor: pointer; display: block;\"/>\n",
      "                    </span>\n",
      "                   </div>\n",
      "                  </div>\n",
      "                  <div class=\"img-topper-container\" id=\"inlineimg_topper[__GIP__3__]\">\n",
      "                   <table class=\"tblz w100\">\n",
      "                    <tr>\n",
      "                     <td class=\"pinched\" style=\"vertical-align: top;\">\n",
      "                      <div style=\"text-align: left; padding-right: .25em;\">\n",
      "                       <span id=\"inlineimg_left_big[__GIP__3__]\">\n",
      "                       </span>\n",
      "                      </div>\n",
      "                      <div class=\"listing-image-counter\">\n",
      "                       <div class=\"inner\" id=\"imagecounterdisplay[__GIP__3__]\">\n",
      "                       </div>\n",
      "                      </div>\n",
      "                     </td>\n",
      "                     <td style=\"vertical-align: top;\">\n",
      "                      <div class=\"img-carousel-titlephrase\" id=\"imgcarouseltitlephrase[__GIP__3__]\">\n",
      "                       <b>\n",
      "                        Image Represents Prediluted Option\n",
      "                       </b>\n",
      "                      </div>\n",
      "                      <div class=\"ra-hide\" id=\"inlineimg_container360menu[__GIP__3__]\" style=\"padding: .25em; margin-bottom: .5em;\">\n",
      "                       <div class=\"ra-bar-slider-bar-c\">\n",
      "                        <div class=\"ra-bar-slider-bar\" id=\"inlineimg_sliderbar[__GIP__3__]\" onmousedown='cataloglite.ImageSliderMouseDown(\"__GIP__3__\", event);' ontouchstart='cataloglite.ImageSliderMouseDown(\"__GIP__3__\", event);'>\n",
      "                         <span class=\"ra-bar-slider-slider\" id=\"inlineimg_slider[__GIP__3__]\">\n",
      "                         </span>\n",
      "                        </div>\n",
      "                       </div>\n",
      "                      </div>\n",
      "                     </td>\n",
      "                     <td class=\"pinched\" style=\"vertical-align: top; text-align: right;\">\n",
      "                      <div style=\"padding-left: .25em;\">\n",
      "                       <span id=\"inlineimg_right_big[__GIP__3__]\">\n",
      "                       </span>\n",
      "                      </div>\n",
      "                     </td>\n",
      "                    </tr>\n",
      "                   </table>\n",
      "                  </div>\n",
      "                  <div class=\"inlineimg_containersizer ra-hide\" id=\"inlineimg_containersizer[__GIP__3__]\" onclick='cataloglite.Listing_InlineImagePopupInPlace(\"__GIP__3__\")' style=\" cursor: pointer;\">\n",
      "                   <img alt=\"Part image\" class=\"listing-inline-image\" id=\"inlineimg[__GIP__3__]\" src=\"/info/949/50 50 prediluted orig green front VP__ra_m.jpg\"/>\n",
      "                  </div>\n",
      "                 </div>\n",
      "                </div>\n",
      "                <img alt=\"Part image\" class=\"listing-inline-image listing-inline-image-thumb listing-inline-image-border\" id=\"inlineimg_thumb[__GIP__3__]\" onclick='cataloglite.Listing_InlineImagePopupInPlace(\"__GIP__3__\")' src=\"/info/949/50 50 prediluted orig green front VP__ra_m.jpg\" style=\"cursor: pointer;\" switch-to-highres=\"1\"/>\n",
      "               </td>\n",
      "               <td class=\"listing-image-table-leftrightcol\">\n",
      "                <div id=\"inlineimg_right_small[__GIP__3__]\">\n",
      "                 <img alt=\"&gt;\" class=\"listing-image-prevnext-image show-if-js remove-for-print\" id=\"inlineimgnext[__GIP__3__]\" name=\"inlnimgnextbtn\" onclick='cataloglite.Listing_InlineImageManualScroll(\"__GIP__3__\", 1, false, false)' src=\"/catalog/images/nextIMGbig.png\" style=\" margin: .1em;\" title=\"Next Image\"/>\n",
      "                </div>\n",
      "               </td>\n",
      "              </tr>\n",
      "             </table>\n",
      "             <input autocomplete=\"off\" id=\"jsninlineimg[__GIP__3__]\" type=\"hidden\" value='{\"Size\":\"Thumb\",\"SlotIndex\":0,\"Slots\":[{\"TitlePhrase\":\"&lt;b&gt;Image Represents Prediluted Option&lt;\\/b&gt;\",\"ParamCodes\":[\"&lt;b&gt;Image Represents Prediluted Option&lt;\\/b&gt;\"],\"Type\":\"Single\",\"ImageData\":{\"Thumb\":\"\\/info\\/949\\/50 50 prediluted orig green front VP__ra_m.jpg\",\"Popup\":\"\\/info\\/949\\/50 50 prediluted orig green front VP.jpg\",\"Full\":\"\\/info\\/949\\/50 50 prediluted orig green front VP.jpg\"}},{\"TitlePhrase\":\"&lt;b&gt;Image Represents Concentrated Option&lt;\\/b&gt;\",\"ParamCodes\":[\"&lt;b&gt;Image Represents Concentrated Option&lt;\\/b&gt;\"],\"Type\":\"Single\",\"ImageData\":{\"Thumb\":\"\\/info\\/949\\/full strength orig green front VP__ra_m.jpg\",\"Popup\":\"\\/info\\/949\\/full strength orig green front VP.jpg\",\"Full\":\"\\/info\\/949\\/full strength orig green front VP.jpg\"}}]}'/>\n",
      "            </div>\n",
      "           </td>\n",
      "           <td class=\"listing-border-top-line listing-float-box-cell-shared listing-float-box-cell-more-padding\" colspan=\"4\" id=\"listingtd[__GIP__3__][price]\" style=\"height: 1px; text-align: center; \">\n",
      "            <span class=\"\" id=\"dprice[__GIP__3__][td]\">\n",
      "             <span class=\"ra-formatted-amount listing-price listing-amount-bold\">\n",
      "              <span id=\"dprice[__GIP__3__][v]\">\n",
      "               <span class=\"seeopt-price-text\">\n",
      "                Choose Type at Left\n",
      "               </span>\n",
      "              </span>\n",
      "             </span>\n",
      "            </span>\n",
      "           </td>\n",
      "           <td class=\"ra-hide listing-border-top-line listing-float-box-cell-shared listing-float-box-cell-more-padding\" id=\"listingtd[__GIP__3__][core]\" style=\"height: 1px; text-align: center; \">\n",
      "            <span class=\"\" id=\"dcore[__GIP__3__][td]\">\n",
      "             <span class=\"ra-formatted-amount listing-core\">\n",
      "              <span id=\"dcore[__GIP__3__][v]\">\n",
      "              </span>\n",
      "             </span>\n",
      "            </span>\n",
      "           </td>\n",
      "           <td class=\"ra-hide listing-border-top-line listing-float-box-cell-shared listing-float-box-cell-more-padding\" id=\"listingtd[__GIP__3__][pack]\" style=\"height: 1px; text-align: center; \">\n",
      "            <span id=\"dpack[__GIP__3__][v]\">\n",
      "            </span>\n",
      "           </td>\n",
      "           <td class=\"ra-hide listing-border-top-line listing-float-box-cell-shared listing-float-box-cell-more-padding\" id=\"listingtd[__GIP__3__][total]\" style=\"height: 1px; text-align: center; \">\n",
      "            <span class=\"listing-amount-bold\" id=\"dtotal[__GIP__3__][td]\">\n",
      "             <span class=\"ra-formatted-amount listing-total\">\n",
      "              <span id=\"dtotal[__GIP__3__][v]\">\n",
      "              </span>\n",
      "             </span>\n",
      "            </span>\n",
      "           </td>\n",
      "           <td class=\"listing-border-top-line listing-float-box-cell-shared\" rowspan=\"2\" style=\"text-align: center; \">\n",
      "           </td>\n",
      "          </tr>\n",
      "          <tr>\n",
      "           <td class=\"listing-float-box-cell-shared\" colspan=\"4\" style=\"text-align: right;\">\n",
      "            <div style=\"padding-top: .25em; padding-bottom: .1em;\">\n",
      "             <div class=\"listing-quantity-adjustment ib remove-for-print show-if-js\">\n",
      "              <input autocomplete=\"off\" id=\"listingoptkeytomultiple[__GIP__3__]\" type=\"hidden\" value='{\"22-50-0-1\":\"1\",\"22-CON-0-1\":\"1\"}'/>\n",
      "              <input autocomplete=\"off\" id=\"listingoptkeytolinenumber[__GIP__3__]\" type=\"hidden\" value='{\"22-50-0-1\":null,\"22-CON-0-1\":null}'/>\n",
      "              <input autocomplete=\"off\" id=\"listingoptkeytoqtyincart[__GIP__3__]\" type=\"hidden\" value='{\"22-50-0-1\":null,\"22-CON-0-1\":null}'/>\n",
      "              <input autocomplete=\"off\" id=\"listingoptkeytoalternateid[__GIP__3__]\" type=\"hidden\" value='{\"22-50-0-1\":null,\"22-CON-0-1\":null}'/>\n",
      "              <table class=\"tblz di tbl-input-button-attached ra-invisible\" id=\"listingquantitytable[__GIP__3__]\">\n",
      "               <tr>\n",
      "                <td class=\"td-button-left\" style=\"text-align: right;\">\n",
      "                 <div class=\"qty-adjust-button\" onclick='cataloglite.ListingQuantityUpdate(\"__GIP__3__\", -1);' style=\"border-top-left-radius: 4px; border-bottom-left-radius: 4px;\">\n",
      "                  <img alt=\"\" class=\"nobmp vmiddle\" src=\"/Images/mobile/qty_down_white.png\"/>\n",
      "                 </div>\n",
      "                </td>\n",
      "                <td class=\"td-input\">\n",
      "                 <label for=\"raquantity[__GIP__3__]\" style=\"display:none;\">\n",
      "                  Quantity\n",
      "                 </label>\n",
      "                 <input aria-label=\"Quantity\" autocapitalize=\"off\" autocomplete=\"off\" autocorrect=\"off\" class=\"input-quantity ib\" data-autofill=\"block\" id=\"raquantity[__GIP__3__]\" maxlength=\"5\" name=\"raquantity[__GIP__3__]\" onchange='cataloglite.ListingQuantityUpdate(\"__GIP__3__\");' onkeypress='return RA.InterceptEnter(event, function(){RA.ByName(\"raquantity[__GIP__3__]\")[0].blur()});' spellcheck=\"false\" style=\"text-align: center; width: 2em; padding-left: 0;\" type=\"text\" value=\"1\"/>\n",
      "                </td>\n",
      "                <td class=\"td-button-right\">\n",
      "                 <div class=\"qty-adjust-button\" onclick='cataloglite.ListingQuantityUpdate(\"__GIP__3__\", 1);' style=\"border-top-right-radius: 4px; border-bottom-right-radius: 4px;\">\n",
      "                  <img alt=\"\" class=\"nobmp vmiddle\" src=\"/Images/mobile/qty_up_white.png\"/>\n",
      "                 </div>\n",
      "                </td>\n",
      "               </tr>\n",
      "              </table>\n",
      "             </div>\n",
      "             <div class=\"catalog-listing-buttons-wrapper ib\" style=\"min-width:105px;\">\n",
      "              <div class=\"vew_btnaddtocart remove-for-print hide-if-js\" id=\"vew_btnaddtocart[__GIP__3__]\">\n",
      "               <input class=\"hide-if-js ra-btn ra-btn-size-normal ra-btn-color-hotgreen\" id=\"addpart[__GIP__3__]\" name=\"addpart[__GIP__3__]\" onclick=\"cataloglite.ShowLoadingOverlay(null, 'PK_ADDINGPARTTOCART'); return cataloglite.Cart.AddPartWhenReady(&quot;__GIP__3__&quot;);\" type=\"submit\" value=\"Add to Cart &gt;\"/>\n",
      "               <a class=\"show-if-js ra-btn ra-btn-color-hotgreen ra-btn-size-normal ra-btn-add-part\" href=\"#\" onclick=\"RA.Click('addpart[__GIP__3__]'); return false;\" style=\"display: inline-block;\">\n",
      "                <span class=\"la-btn-v\">\n",
      "                 Add to Cart\n",
      "                </span>\n",
      "                <img alt=\"\" class=\"la-btn-v\" src=\"/Images/mobile/right_arrow_white.png\" style=\"height: 1em; margin-left: .25em;\"/>\n",
      "               </a>\n",
      "              </div>\n",
      "              <div class=\"vew_btnpartincart remove-for-print ra-hide hide-if-js\" id=\"vew_btnpartincart[__GIP__3__]\">\n",
      "               <input class=\"ra-btn ra-btn-size-normal ra-btn-part-in-cart\" name=\"addpart[__GIP__3__]\" onclick=\"cataloglite.Cart.ShowPartAlreadyInCart(__GIP__3__); return false;\" type=\"submit\" value=\"Part In Cart\"/>\n",
      "              </div>\n",
      "              <div class=\"vew_btnnotifyoos remove-for-print ra-hide hide-if-js\" id=\"vew_btnnotifyoos[__GIP__3__]\">\n",
      "               <input class=\"ra-btn ra-btn-size-normal ra-btn-color-darkblue\" onclick='cataloglite.GetAvailabilityAlertForOOSPart(\"__GIP__3__\");' type=\"button\" value=\"Notify Me When Available\"/>\n",
      "              </div>\n",
      "             </div>\n",
      "            </div>\n",
      "           </td>\n",
      "          </tr>\n",
      "         </tbody>\n",
      "        </table>\n",
      "        <div class=\"listing-filter-bottom-message ra-hide\" id=\"listingfiltermessage[__GIP__2__]\">\n",
      "        </div>\n",
      "        <input autocomplete=\"off\" id=\"part_groupindexes_in_this_listing[__GIP__2__]\" type=\"hidden\" value='[\"__GIP__3__\"]'/>\n",
      "       </div>\n",
      "      </div>\n",
      "     </form>\n",
      "    </div>\n",
      "   </div>\n",
      "  </div>\n",
      " </body>\n",
      "</html>\n",
      "\n"
     ]
    }
   ],
   "source": [
    "from bs4 import BeautifulSoup\n",
    "from lxml import etree\n",
    "\n",
    "soup = BeautifulSoup(json_['searchnoderesults'], 'lxml')\n",
    "html = etree.HTML(str(soup))\n",
    "\n",
    "with open('./part.html', 'w', encoding='UTF-8') as file:\n",
    "    file.write(str(soup))\n",
    "\n",
    "print(soup.prettify())"
   ]
  },
  {
   "cell_type": "code",
   "execution_count": 9,
   "id": "1b555c4a-9bf1-4f5b-8bf2-3f5750cddad6",
   "metadata": {},
   "outputs": [
    {
     "data": {
      "text/plain": [
       "[<Element tbody at 0x11fa104c0>]"
      ]
     },
     "execution_count": 9,
     "metadata": {},
     "output_type": "execute_result"
    }
   ],
   "source": [
    "list_tbody = html.xpath('//tbody[contains(@id, \"listingcontainer[__GIP__\")]')\n",
    "\n",
    "list_tbody"
   ]
  },
  {
   "cell_type": "code",
   "execution_count": 10,
   "id": "9f2a6a26-be63-42e9-9c6a-76d91ad16eac",
   "metadata": {},
   "outputs": [
    {
     "data": {
      "text/plain": [
       "['Low Silicate Blend; 1 Gallon; Green; IAT']"
      ]
     },
     "execution_count": 10,
     "metadata": {},
     "output_type": "execute_result"
    }
   ],
   "source": [
    "import re\n",
    "\n",
    "list_list_note = [tbody.xpath('./tr[1]/td[contains(@class, \"listing-inner-content\")]/div[@class=\"listing-text-row-moreinfo-truck\"]/span[@class=\"span-link-underline-remover\"]') for tbody in list_tbody]\n",
    "list_note = [etree.tostring(list_note[0]).decode('utf-8') if list_note else '' for list_note in list_list_note]\n",
    "list_note = [re.sub(r'<.*?>', '', note) for note in list_note]\n",
    "list_note = [re.sub(r' +', ' ', note).strip() for note in list_note]\n",
    "\n",
    "list_note"
   ]
  },
  {
   "cell_type": "code",
   "execution_count": 11,
   "id": "1e945a5b-95e9-4985-bb65-e6ca02bed9ee",
   "metadata": {},
   "outputs": [
    {
     "data": {
      "text/plain": [
       "[{'0': 'Category: Coolant / Antifreeze'}]"
      ]
     },
     "execution_count": 11,
     "metadata": {},
     "output_type": "execute_result"
    }
   ],
   "source": [
    "list_dict_note = []\n",
    "list_span = [tbody.xpath('./tr[1]/td[contains(@class, \"listing-inner-content\")]/div[@class=\"listing-text-row\"]/span[contains(@title, \"Please make sure\")]')[0] for tbody in list_tbody]\n",
    "\n",
    "for span in list_span:\n",
    "    dict_note = {}\n",
    "    list_span_2 = span.xpath('./span[@class=\"listing-footnote-text\"]')\n",
    "    list_note_2 = [etree.tostring(span_2).decode('utf-8') for span_2 in list_span_2]\n",
    "    list_note_2 = [re.sub(r'<.*?>', '', note_2) for note_2 in list_note_2]\n",
    "    list_note_2 = [re.sub(r' +', ' ', note_2).strip() for note_2 in list_note_2]\n",
    "    for i, note_2 in zip(range(len(list_note_2)), list_note_2):\n",
    "        dict_note[str(i)] = note_2\n",
    "\n",
    "    list_dict_note.append(dict_note)\n",
    "\n",
    "list_dict_note"
   ]
  },
  {
   "cell_type": "code",
   "execution_count": 12,
   "id": "013e9757-8348-4428-90b1-ab7ff51ce5a1",
   "metadata": {},
   "outputs": [
    {
     "data": {
      "text/plain": [
       "[{'groupindex': '__GIP__3__',\n",
       "  'carcode': 0,\n",
       "  'parttype': '11393',\n",
       "  'partkey': '13527801',\n",
       "  'opts': {'22-50-0-1': {'warehouse': '95677',\n",
       "    'whpartnum': 'FVP GREEN50/50-GAL',\n",
       "    'optionlist': '22',\n",
       "    'paramcode': '50',\n",
       "    'notekey': '0',\n",
       "    'multiple': '1'},\n",
       "   '22-CON-0-1': {'warehouse': '95677',\n",
       "    'whpartnum': 'FVP GREEN-GAL',\n",
       "    'optionlist': '22',\n",
       "    'paramcode': 'CON',\n",
       "    'notekey': '0',\n",
       "    'multiple': '1'}}}]"
      ]
     },
     "execution_count": 12,
     "metadata": {},
     "output_type": "execute_result"
    }
   ],
   "source": [
    "list_json = [json.loads(tbody.xpath('./tr[1]/td[contains(@class, \"listing-inner-content\")]/input[contains(@id, \"listing_data_essential[__GIP__\")]/@value')[0]) for tbody in list_tbody]\n",
    "\n",
    "list_json"
   ]
  },
  {
   "cell_type": "code",
   "execution_count": 13,
   "id": "26d4d0ad-5e31-4a69-a2a9-eacf1c2ef80d",
   "metadata": {},
   "outputs": [
    {
     "data": {
      "text/plain": [
       "(array([0]),)"
      ]
     },
     "execution_count": 13,
     "metadata": {},
     "output_type": "execute_result"
    }
   ],
   "source": [
    "import numpy as np\n",
    "\n",
    "array_index_type_code = np.where(np.array([json_['parttype'] for json_ in list_json]) == input_.loc[a, 'Type Code'])\n",
    "\n",
    "array_index_type_code"
   ]
  },
  {
   "cell_type": "code",
   "execution_count": 14,
   "id": "a889e0e6-c6e2-41c3-86bb-1269a71e6f1d",
   "metadata": {},
   "outputs": [
    {
     "data": {
      "text/plain": [
       "['13527801']"
      ]
     },
     "execution_count": 14,
     "metadata": {},
     "output_type": "execute_result"
    }
   ],
   "source": [
    "list_part_code = [json_['partkey'] for json_ in list_json]\n",
    "\n",
    "list_part_code"
   ]
  },
  {
   "cell_type": "code",
   "execution_count": 15,
   "id": "e22f41b8-e62f-4766-a6bb-2165d97afaf7",
   "metadata": {},
   "outputs": [
    {
     "data": {
      "text/plain": [
       "['https://www.rockauto.com/en/moreinfo.php?pk=13527801&cc=0&pt=11393']"
      ]
     },
     "execution_count": 15,
     "metadata": {},
     "output_type": "execute_result"
    }
   ],
   "source": [
    "list_list_info = [tbody.xpath('./tr[1]/td[contains(@class, \"listing-inner-content\")]/div[@class=\"listing-text-row-moreinfo-truck\"]/a[@class=\"ra-btn ra-btn-moreinfo\"]') for tbody in list_tbody]\n",
    "list_info = [list_info[0].xpath('./@href')[0].strip() if list_info else '' for list_info in list_list_info]\n",
    "list_info = [info if info.startswith('https://www.rockauto.com/en/moreinfo.php?') else f'''https://www.rockauto.com/en/moreinfo.php?pk={part_code}&cc=0&pt={input_.loc[a, 'Type Code']}&Lennon=1''' for info, part_code in zip(list_info, list_part_code)]\n",
    "\n",
    "list_info"
   ]
  },
  {
   "cell_type": "code",
   "execution_count": 16,
   "id": "94b6650a-657c-43ba-bfb3-80d3533e51c6",
   "metadata": {},
   "outputs": [
    {
     "data": {
      "text/plain": [
       "[{'partnumber': 'GREEN5050GAL',\n",
       "  'catalogname': 'FVP',\n",
       "  'belongstolisting': '__GIP__2__',\n",
       "  'sortgroup': 0,\n",
       "  'sortgrouptext': '',\n",
       "  'paramdesc': 'Type'}]"
      ]
     },
     "execution_count": 16,
     "metadata": {},
     "output_type": "execute_result"
    }
   ],
   "source": [
    "list_json = [json.loads(tbody.xpath('./tr[1]/td/input[contains(@id, \"listing_data_supplemental[__GIP__\")]/@value')[0]) for tbody in list_tbody]\n",
    "\n",
    "list_json"
   ]
  },
  {
   "cell_type": "code",
   "execution_count": 17,
   "id": "1b5dfcb9-4037-4fe0-b74f-d6fe4f9fc3fd",
   "metadata": {},
   "outputs": [
    {
     "data": {
      "text/plain": [
       "(array([0]),)"
      ]
     },
     "execution_count": 17,
     "metadata": {},
     "output_type": "execute_result"
    }
   ],
   "source": [
    "array_index_part_number = np.where(np.array([json_['partnumber'] for json_ in list_json]) == input_.loc[a, 'Part Number'])\n",
    "\n",
    "array_index_part_number"
   ]
  },
  {
   "cell_type": "code",
   "execution_count": 18,
   "id": "b97569ac-c1b1-4be0-a284-5df159906aac",
   "metadata": {},
   "outputs": [
    {
     "data": {
      "text/plain": [
       "(array([0]),)"
      ]
     },
     "execution_count": 18,
     "metadata": {},
     "output_type": "execute_result"
    }
   ],
   "source": [
    "array_index_manufacturer = np.where(np.array([json_['catalogname'] for json_ in list_json]) == input_.loc[a, 'Manufacturer'])\n",
    "\n",
    "array_index_manufacturer"
   ]
  },
  {
   "cell_type": "code",
   "execution_count": 19,
   "id": "fd0351e0-dfc5-4f69-884a-90ae9c0d3190",
   "metadata": {},
   "outputs": [
    {
     "data": {
      "text/plain": [
       "array([0])"
      ]
     },
     "execution_count": 19,
     "metadata": {},
     "output_type": "execute_result"
    }
   ],
   "source": [
    "array_index_part = np.intersect1d(np.intersect1d(array_index_type_code, array_index_part_number), array_index_manufacturer)\n",
    "\n",
    "array_index_part"
   ]
  },
  {
   "cell_type": "code",
   "execution_count": 20,
   "id": "a1a98ea9-459c-45e5-8ba9-800c4cbca3a2",
   "metadata": {},
   "outputs": [
    {
     "data": {
      "text/plain": [
       "0"
      ]
     },
     "execution_count": 20,
     "metadata": {},
     "output_type": "execute_result"
    }
   ],
   "source": [
    "if len(array_index_part) == 1:\n",
    "    index_part = array_index_part[0]\n",
    "\n",
    "index_part"
   ]
  },
  {
   "cell_type": "code",
   "execution_count": 21,
   "id": "c166959a-a5a0-4bf8-aa2a-8fff5cf69c83",
   "metadata": {},
   "outputs": [
    {
     "data": {
      "text/plain": [
       "'Type'"
      ]
     },
     "execution_count": 21,
     "metadata": {},
     "output_type": "execute_result"
    }
   ],
   "source": [
    "choose = list_json[index_part]['paramdesc'].strip()\n",
    "\n",
    "choose"
   ]
  },
  {
   "cell_type": "code",
   "execution_count": 22,
   "id": "4d37a05e-c138-47a3-a352-538e48fa438a",
   "metadata": {},
   "outputs": [
    {
     "data": {
      "text/plain": [
       "[['GREENGAL, GREEN5050GAL']]"
      ]
     },
     "execution_count": 22,
     "metadata": {},
     "output_type": "execute_result"
    }
   ],
   "source": [
    "list_oem = [td.xpath('./span[contains(@title, \"Replaces these Alternate\")]/text()') for td in list_tbody[index_part].xpath('./tr[1]/td[contains(@class, \"listing-inner-content\")]')]\n",
    "\n",
    "list_oem"
   ]
  },
  {
   "cell_type": "code",
   "execution_count": 23,
   "id": "dfcd4d2e-86ef-4c1d-ac30-e8660abf506b",
   "metadata": {},
   "outputs": [
    {
     "data": {
      "text/plain": [
       "'GREEN5050GAL;GREENGAL'"
      ]
     },
     "execution_count": 23,
     "metadata": {},
     "output_type": "execute_result"
    }
   ],
   "source": [
    "list_ = []\n",
    "for oem in list_oem:\n",
    "    if oem:\n",
    "        list_ += oem[0].split(',')\n",
    "list_ = [oem.strip() for oem in list_]\n",
    "    \n",
    "while '' in list_:\n",
    "    list_.remove('')\n",
    "\n",
    "oem = ';'.join(sorted(list(set(list_))))\n",
    "\n",
    "oem"
   ]
  },
  {
   "cell_type": "code",
   "execution_count": 24,
   "id": "2c519968-46eb-4a31-8e95-7a247524cb04",
   "metadata": {},
   "outputs": [
    {
     "data": {
      "text/plain": [
       "{'Size': 'Thumb',\n",
       " 'SlotIndex': 0,\n",
       " 'Slots': [{'TitlePhrase': '<b>Image Represents Prediluted Option</b>',\n",
       "   'ParamCodes': ['<b>Image Represents Prediluted Option</b>'],\n",
       "   'Type': 'Single',\n",
       "   'ImageData': {'Thumb': '/info/949/50 50 prediluted orig green front VP__ra_m.jpg',\n",
       "    'Popup': '/info/949/50 50 prediluted orig green front VP.jpg',\n",
       "    'Full': '/info/949/50 50 prediluted orig green front VP.jpg'}},\n",
       "  {'TitlePhrase': '<b>Image Represents Concentrated Option</b>',\n",
       "   'ParamCodes': ['<b>Image Represents Concentrated Option</b>'],\n",
       "   'Type': 'Single',\n",
       "   'ImageData': {'Thumb': '/info/949/full strength orig green front VP__ra_m.jpg',\n",
       "    'Popup': '/info/949/full strength orig green front VP.jpg',\n",
       "    'Full': '/info/949/full strength orig green front VP.jpg'}}]}"
      ]
     },
     "execution_count": 24,
     "metadata": {},
     "output_type": "execute_result"
    }
   ],
   "source": [
    "list_src = list_tbody[index_part].xpath('./tr[1]/td/div[contains(@class, \"listing-image-space-occupy\")]/input[contains(@id, \"jsninlineimg[__GIP__\")]')\n",
    "json_ = json.loads(list_src[0].xpath('./@value')[0]) if list_src else ''\n",
    "\n",
    "json_"
   ]
  },
  {
   "cell_type": "code",
   "execution_count": 25,
   "id": "56a1d744-de44-4689-9f1c-2385b454462b",
   "metadata": {},
   "outputs": [
    {
     "data": {
      "text/plain": [
       "{'0': 'https://www.rockauto.com/info/949/50 50 prediluted orig green front VP.jpg',\n",
       " '1': 'https://www.rockauto.com/info/949/full strength orig green front VP.jpg'}"
      ]
     },
     "execution_count": 25,
     "metadata": {},
     "output_type": "execute_result"
    }
   ],
   "source": [
    "dict_src = {}\n",
    "if json_ != '':\n",
    "    list_src = json_['Slots']\n",
    "    for i, src in zip(range(len(list_src)), list_src):\n",
    "        dict_src[str(i)] = f'''https://www.rockauto.com{src['ImageData']['Full'].strip()}'''\n",
    "\n",
    "dict_src"
   ]
  },
  {
   "cell_type": "code",
   "execution_count": 26,
   "id": "9ca98574-7554-4387-b03b-b73f64fe68ad",
   "metadata": {},
   "outputs": [
    {
     "data": {
      "text/plain": [
       "{'automatic': 'Choose Type at Left'}"
      ]
     },
     "execution_count": 26,
     "metadata": {},
     "output_type": "execute_result"
    }
   ],
   "source": [
    "price = list_tbody[index_part].xpath('./tr[1]/td[contains(@id, \"listingtd[__GIP__\") and contains(@id, \"__][price]\")]/span[contains(@id, \"dprice[__GIP__\") and contains(@id, \"__][td]\")]/span/span[contains(@id, \"dprice[__GIP__\") and contains(@id, \"__][v]\")]')\n",
    "price = etree.tostring(price[0]).decode('utf-8') if price else ''\n",
    "price = re.sub(r'<.*?>', '', price)\n",
    "price = re.sub(r' +', ' ', price).strip()\n",
    "dict_price = {'automatic': price}\n",
    "\n",
    "dict_price"
   ]
  },
  {
   "cell_type": "code",
   "execution_count": 27,
   "id": "0c406ee5-113c-4334-a004-dc10537e5e6b",
   "metadata": {},
   "outputs": [
    {
     "data": {
      "text/plain": [
       "{'automatic': 'Choose Type at Left',\n",
       " 'choose': {'0': 'Prediluted ($6.09) ^', '1': 'Concentrated ($8.66) ^'}}"
      ]
     },
     "execution_count": 27,
     "metadata": {},
     "output_type": "execute_result"
    }
   ],
   "source": [
    "td = list_tbody[index_part].xpath('./tr[1]/td[contains(@class, \"listing-inner-content\")]')[0]\n",
    "list_option = [etree.tostring(option).decode('utf-8') for option in td.xpath('./div/div[contains(@class, \"listing-optionchoice-multiple-container\")]/span[contains(@id, \"ddrepl[optionchoice[__GIP__\") and contains(@id, \"__]][container]\")]/span[@class=\"hide-if-js\"]/select[contains(@id, \"optionchoice[__GIP__\") and contains(@id, \"__]\")]/option[@value!=\"\"]')]\n",
    "list_option = [re.sub(r'<.*?>', '', option) for option in list_option]\n",
    "list_option = [re.sub(r' +', ' ', option).strip() for option in list_option]\n",
    "if list_option:\n",
    "    dict_price['choose'] = {}\n",
    "    for i, option in zip(range(len(list_option)), list_option):\n",
    "        dict_price['choose'][str(i)] = option\n",
    "\n",
    "dict_price"
   ]
  },
  {
   "cell_type": "code",
   "execution_count": 28,
   "id": "96f1239b-50f9-42d4-b879-831dc05deb48",
   "metadata": {
    "scrolled": true
   },
   "outputs": [
    {
     "data": {
      "text/html": [
       "<div>\n",
       "<style scoped>\n",
       "    .dataframe tbody tr th:only-of-type {\n",
       "        vertical-align: middle;\n",
       "    }\n",
       "\n",
       "    .dataframe tbody tr th {\n",
       "        vertical-align: top;\n",
       "    }\n",
       "\n",
       "    .dataframe thead th {\n",
       "        text-align: right;\n",
       "    }\n",
       "</style>\n",
       "<table border=\"1\" class=\"dataframe\">\n",
       "  <thead>\n",
       "    <tr style=\"text-align: right;\">\n",
       "      <th></th>\n",
       "      <th>No</th>\n",
       "      <th>Group</th>\n",
       "      <th>Type</th>\n",
       "      <th>Type Code</th>\n",
       "      <th>Manufacturer</th>\n",
       "      <th>Part Number</th>\n",
       "      <th>Note 1</th>\n",
       "      <th>Json_Note 2</th>\n",
       "      <th>Choose</th>\n",
       "      <th>Json_Price</th>\n",
       "      <th>OEM</th>\n",
       "      <th>Picture</th>\n",
       "      <th>Url</th>\n",
       "      <th>Info</th>\n",
       "      <th>Json_Src</th>\n",
       "      <th>Part Code</th>\n",
       "      <th>JOIN_MPNTCPC</th>\n",
       "    </tr>\n",
       "  </thead>\n",
       "  <tbody>\n",
       "    <tr>\n",
       "      <th>0</th>\n",
       "      <td>1</td>\n",
       "      <td>Cooling System</td>\n",
       "      <td>Hood Release Cable</td>\n",
       "      <td>11393</td>\n",
       "      <td>FVP</td>\n",
       "      <td>GREEN5050GAL</td>\n",
       "      <td>Low Silicate Blend; 1 Gallon; Green; IAT</td>\n",
       "      <td>{\"0\": \"Category: Coolant / Antifreeze\"}</td>\n",
       "      <td>Type</td>\n",
       "      <td>{\"automatic\": \"Choose Type at Left\", \"choose\":...</td>\n",
       "      <td>GREEN5050GAL;GREENGAL</td>\n",
       "      <td></td>\n",
       "      <td>https://www.rockauto.com/en/parts/dorman,03323...</td>\n",
       "      <td>https://www.rockauto.com/en/moreinfo.php?pk=13...</td>\n",
       "      <td>{\"0\": \"https://www.rockauto.com/info/949/50 50...</td>\n",
       "      <td>13527801</td>\n",
       "      <td>FVP;GREEN5050GAL;11393;13527801</td>\n",
       "    </tr>\n",
       "  </tbody>\n",
       "</table>\n",
       "</div>"
      ],
      "text/plain": [
       "   No           Group                Type Type Code Manufacturer  \\\n",
       "0   1  Cooling System  Hood Release Cable     11393          FVP   \n",
       "\n",
       "    Part Number                                    Note 1  \\\n",
       "0  GREEN5050GAL  Low Silicate Blend; 1 Gallon; Green; IAT   \n",
       "\n",
       "                               Json_Note 2 Choose  \\\n",
       "0  {\"0\": \"Category: Coolant / Antifreeze\"}   Type   \n",
       "\n",
       "                                          Json_Price                    OEM  \\\n",
       "0  {\"automatic\": \"Choose Type at Left\", \"choose\":...  GREEN5050GAL;GREENGAL   \n",
       "\n",
       "  Picture                                                Url  \\\n",
       "0          https://www.rockauto.com/en/parts/dorman,03323...   \n",
       "\n",
       "                                                Info  \\\n",
       "0  https://www.rockauto.com/en/moreinfo.php?pk=13...   \n",
       "\n",
       "                                            Json_Src Part Code  \\\n",
       "0  {\"0\": \"https://www.rockauto.com/info/949/50 50...  13527801   \n",
       "\n",
       "                      JOIN_MPNTCPC  \n",
       "0  FVP;GREEN5050GAL;11393;13527801  "
      ]
     },
     "execution_count": 28,
     "metadata": {},
     "output_type": "execute_result"
    }
   ],
   "source": [
    "df_temp = pd.DataFrame([{'No': input_.loc[a, 'No'],\n",
    "                         'Group': input_.loc[a, 'Group'],\n",
    "                         'Type': input_.loc[a, 'Type'],\n",
    "                         'Type Code': input_.loc[a, 'Type Code'],\n",
    "                         'Manufacturer': input_.loc[a, 'Manufacturer'],\n",
    "                         'Part Number': input_.loc[a, 'Part Number'],\n",
    "                         'Note 1': list_note[index_part],\n",
    "                         'Json_Note 2': json.dumps(list_dict_note[index_part]),\n",
    "                         'Choose': choose,\n",
    "                         'Json_Price': json.dumps(dict_price),\n",
    "                         'OEM': oem,\n",
    "                         'Picture': '',\n",
    "                         'Url': input_.loc[a, 'Url'],\n",
    "                         'Info': list_info[index_part],\n",
    "                         'Json_Src': json.dumps(dict_src),\n",
    "                         'Part Code': list_part_code[index_part],\n",
    "                         'JOIN_MPNTCPC': f'''{input_.loc[a, 'Manufacturer']};{input_.loc[a, 'Part Number']};{input_.loc[a, 'Type Code']};{list_part_code[index_part]}'''}])\n",
    "\n",
    "output_correct = pd.concat([output_correct, df_temp], ignore_index=True).fillna('')\n",
    "\n",
    "output_correct"
   ]
  },
  {
   "cell_type": "code",
   "execution_count": 29,
   "id": "fc4ed7f6-ed4f-431c-b944-b1690309cdae",
   "metadata": {},
   "outputs": [
    {
     "data": {
      "text/plain": [
       "'ok'"
      ]
     },
     "execution_count": 29,
     "metadata": {},
     "output_type": "execute_result"
    }
   ],
   "source": [
    "crawler_status = 'ok'\n",
    "\n",
    "crawler_status"
   ]
  },
  {
   "cell_type": "code",
   "execution_count": 30,
   "id": "65c745d1-446e-46c5-9dec-819c9f7944d3",
   "metadata": {},
   "outputs": [
    {
     "data": {
      "text/html": [
       "<div>\n",
       "<style scoped>\n",
       "    .dataframe tbody tr th:only-of-type {\n",
       "        vertical-align: middle;\n",
       "    }\n",
       "\n",
       "    .dataframe tbody tr th {\n",
       "        vertical-align: top;\n",
       "    }\n",
       "\n",
       "    .dataframe thead th {\n",
       "        text-align: right;\n",
       "    }\n",
       "</style>\n",
       "<table border=\"1\" class=\"dataframe\">\n",
       "  <thead>\n",
       "    <tr style=\"text-align: right;\">\n",
       "      <th></th>\n",
       "    </tr>\n",
       "  </thead>\n",
       "  <tbody>\n",
       "  </tbody>\n",
       "</table>\n",
       "</div>"
      ],
      "text/plain": [
       "Empty DataFrame\n",
       "Columns: []\n",
       "Index: []"
      ]
     },
     "execution_count": 30,
     "metadata": {},
     "output_type": "execute_result"
    }
   ],
   "source": [
    "if crawler_status == 'error':\n",
    "    output_error = pd.concat([output_error, pd.DataFrame([input_.iloc[a]]).reset_index(drop=True)], ignore_index=True).fillna('')\n",
    "\n",
    "output_error"
   ]
  },
  {
   "cell_type": "code",
   "execution_count": 31,
   "id": "7fd477de",
   "metadata": {},
   "outputs": [
    {
     "data": {
      "text/html": [
       "<div>\n",
       "<style scoped>\n",
       "    .dataframe tbody tr th:only-of-type {\n",
       "        vertical-align: middle;\n",
       "    }\n",
       "\n",
       "    .dataframe tbody tr th {\n",
       "        vertical-align: top;\n",
       "    }\n",
       "\n",
       "    .dataframe thead th {\n",
       "        text-align: right;\n",
       "    }\n",
       "</style>\n",
       "<table border=\"1\" class=\"dataframe\">\n",
       "  <thead>\n",
       "    <tr style=\"text-align: right;\">\n",
       "      <th></th>\n",
       "      <th>No</th>\n",
       "      <th>Group</th>\n",
       "      <th>Type</th>\n",
       "      <th>Type Code</th>\n",
       "      <th>Manufacturer</th>\n",
       "      <th>Part Number</th>\n",
       "      <th>Note 1</th>\n",
       "      <th>Json_Note 2</th>\n",
       "      <th>Choose</th>\n",
       "      <th>Json_Price</th>\n",
       "      <th>OEM</th>\n",
       "      <th>Picture</th>\n",
       "      <th>Url</th>\n",
       "      <th>Info</th>\n",
       "      <th>Json_Src</th>\n",
       "      <th>Part Code</th>\n",
       "      <th>JOIN_MPNTCPC</th>\n",
       "    </tr>\n",
       "  </thead>\n",
       "  <tbody>\n",
       "    <tr>\n",
       "      <th>0</th>\n",
       "      <td>1</td>\n",
       "      <td>Cooling System</td>\n",
       "      <td>Hood Release Cable</td>\n",
       "      <td>11393</td>\n",
       "      <td>FVP</td>\n",
       "      <td>GREEN5050GAL</td>\n",
       "      <td>Low Silicate Blend; 1 Gallon; Green; IAT</td>\n",
       "      <td>{\"0\": \"Category: Coolant / Antifreeze\"}</td>\n",
       "      <td>Type</td>\n",
       "      <td>{\"automatic\": \"Choose Type at Left\", \"choose\":...</td>\n",
       "      <td>GREEN5050GAL;GREENGAL</td>\n",
       "      <td></td>\n",
       "      <td>https://www.rockauto.com/en/parts/dorman,03323...</td>\n",
       "      <td>https://www.rockauto.com/en/moreinfo.php?pk=13...</td>\n",
       "      <td>{\"0\": \"https://www.rockauto.com/info/949/50 50...</td>\n",
       "      <td>13527801</td>\n",
       "      <td>FVP;GREEN5050GAL;11393;13527801</td>\n",
       "    </tr>\n",
       "  </tbody>\n",
       "</table>\n",
       "</div>"
      ],
      "text/plain": [
       "   No           Group                Type Type Code Manufacturer  \\\n",
       "0   1  Cooling System  Hood Release Cable     11393          FVP   \n",
       "\n",
       "    Part Number                                    Note 1  \\\n",
       "0  GREEN5050GAL  Low Silicate Blend; 1 Gallon; Green; IAT   \n",
       "\n",
       "                               Json_Note 2 Choose  \\\n",
       "0  {\"0\": \"Category: Coolant / Antifreeze\"}   Type   \n",
       "\n",
       "                                          Json_Price                    OEM  \\\n",
       "0  {\"automatic\": \"Choose Type at Left\", \"choose\":...  GREEN5050GAL;GREENGAL   \n",
       "\n",
       "  Picture                                                Url  \\\n",
       "0          https://www.rockauto.com/en/parts/dorman,03323...   \n",
       "\n",
       "                                                Info  \\\n",
       "0  https://www.rockauto.com/en/moreinfo.php?pk=13...   \n",
       "\n",
       "                                            Json_Src Part Code  \\\n",
       "0  {\"0\": \"https://www.rockauto.com/info/949/50 50...  13527801   \n",
       "\n",
       "                      JOIN_MPNTCPC  \n",
       "0  FVP;GREEN5050GAL;11393;13527801  "
      ]
     },
     "execution_count": 31,
     "metadata": {},
     "output_type": "execute_result"
    }
   ],
   "source": [
    "if not output_correct.empty:\n",
    "    output_correct = output_correct.sort_values(by=['No'],\n",
    "                                                ascending=[True],\n",
    "                                                ignore_index=True)\n",
    "    output_correct.to_excel('./test_part.xlsx', index=False)\n",
    "\n",
    "output_correct"
   ]
  },
  {
   "cell_type": "code",
   "execution_count": 32,
   "id": "39a5441b-7f69-4812-aad8-7e10a1a24e78",
   "metadata": {},
   "outputs": [
    {
     "data": {
      "text/html": [
       "<div>\n",
       "<style scoped>\n",
       "    .dataframe tbody tr th:only-of-type {\n",
       "        vertical-align: middle;\n",
       "    }\n",
       "\n",
       "    .dataframe tbody tr th {\n",
       "        vertical-align: top;\n",
       "    }\n",
       "\n",
       "    .dataframe thead th {\n",
       "        text-align: right;\n",
       "    }\n",
       "</style>\n",
       "<table border=\"1\" class=\"dataframe\">\n",
       "  <thead>\n",
       "    <tr style=\"text-align: right;\">\n",
       "      <th></th>\n",
       "    </tr>\n",
       "  </thead>\n",
       "  <tbody>\n",
       "  </tbody>\n",
       "</table>\n",
       "</div>"
      ],
      "text/plain": [
       "Empty DataFrame\n",
       "Columns: []\n",
       "Index: []"
      ]
     },
     "execution_count": 32,
     "metadata": {},
     "output_type": "execute_result"
    }
   ],
   "source": [
    "if not output_error.empty:\n",
    "    output_error = output_error.sort_values(by=['No'],\n",
    "                                            ascending=[True],\n",
    "                                            ignore_index=True)\n",
    "    output_error.to_excel('./test_part_error.xlsx', index=False)\n",
    "\n",
    "output_error"
   ]
  },
  {
   "cell_type": "code",
   "execution_count": null,
   "id": "ba5d9f77-7464-4ad5-a42b-1fa0c0505832",
   "metadata": {},
   "outputs": [],
   "source": []
  }
 ],
 "metadata": {
  "kernelspec": {
   "display_name": "Python 3 (ipykernel)",
   "language": "python",
   "name": "python3"
  },
  "language_info": {
   "codemirror_mode": {
    "name": "ipython",
    "version": 3
   },
   "file_extension": ".py",
   "mimetype": "text/x-python",
   "name": "python",
   "nbconvert_exporter": "python",
   "pygments_lexer": "ipython3",
   "version": "3.11.3"
  }
 },
 "nbformat": 4,
 "nbformat_minor": 5
}
