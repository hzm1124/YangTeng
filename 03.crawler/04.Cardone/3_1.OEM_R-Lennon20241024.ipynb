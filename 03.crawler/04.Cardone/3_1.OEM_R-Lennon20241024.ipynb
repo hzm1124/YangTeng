{
 "cells": [
  {
   "cell_type": "code",
   "execution_count": 1,
   "id": "bc43eeb9-298f-4060-a29f-6cfeca9ef980",
   "metadata": {},
   "outputs": [],
   "source": [
    "import os\n",
    "\n",
    "# = = = = = = = = = = = = = = =\n",
    "\n",
    "import pandas as pd\n",
    "\n",
    "# = = = = = = = = = = = = = = =\n",
    "\n",
    "import requests\n",
    "\n",
    "import sys\n",
    "sys.path.append('../00.Tools')\n",
    "from crawler_configuration import get_header, get_proxy"
   ]
  },
  {
   "cell_type": "code",
   "execution_count": 2,
   "id": "1549e972-a339-4b58-be42-48542af8a6b2",
   "metadata": {},
   "outputs": [
    {
     "data": {
      "text/plain": [
       "'crawler_1.xlsx'"
      ]
     },
     "execution_count": 2,
     "metadata": {},
     "output_type": "execute_result"
    }
   ],
   "source": [
    "directory_in = './file/2.part'\n",
    "\n",
    "list_file = [file for file in sorted(os.listdir(directory_in)) if file not in ['.DS_Store'] and os.path.isfile(f'{directory_in}/{file}')]\n",
    "file = list_file[0]\n",
    "\n",
    "file"
   ]
  },
  {
   "cell_type": "code",
   "execution_count": 3,
   "id": "e54a1949-c728-4502-91a4-65957f9a0d43",
   "metadata": {},
   "outputs": [
    {
     "name": "stdout",
     "output_type": "stream",
     "text": [
      "总数量：10\n",
      "\n"
     ]
    },
    {
     "data": {
      "text/html": [
       "<div>\n",
       "<style scoped>\n",
       "    .dataframe tbody tr th:only-of-type {\n",
       "        vertical-align: middle;\n",
       "    }\n",
       "\n",
       "    .dataframe tbody tr th {\n",
       "        vertical-align: top;\n",
       "    }\n",
       "\n",
       "    .dataframe thead th {\n",
       "        text-align: right;\n",
       "    }\n",
       "</style>\n",
       "<table border=\"1\" class=\"dataframe\">\n",
       "  <thead>\n",
       "    <tr style=\"text-align: right;\">\n",
       "      <th></th>\n",
       "      <th>No</th>\n",
       "      <th>Type</th>\n",
       "      <th>Part Number</th>\n",
       "      <th>Title</th>\n",
       "      <th>Application Summary</th>\n",
       "      <th>Picture</th>\n",
       "      <th>Url</th>\n",
       "      <th>Subtitle</th>\n",
       "      <th>Json_Src</th>\n",
       "      <th>Json_Info</th>\n",
       "    </tr>\n",
       "  </thead>\n",
       "  <tbody>\n",
       "    <tr>\n",
       "      <th>0</th>\n",
       "      <td>1</td>\n",
       "      <td>Windshield Wiper Motor</td>\n",
       "      <td>40-1000</td>\n",
       "      <td>Windshield Wiper Motor - 40-1000</td>\n",
       "      <td>Chevrolet Camaro 1998-93; Pontiac Firebird 199...</td>\n",
       "      <td></td>\n",
       "      <td>https://www.cardone.com/product/windshield-wip...</td>\n",
       "      <td>CARDONE Reman</td>\n",
       "      <td>{\"0\": \"https://cdn11.bigcommerce.com/s-z9vhe3o...</td>\n",
       "      <td>{\"0\": {\"productDeskExternalKey\": \"CPCX|40-1000...</td>\n",
       "    </tr>\n",
       "    <tr>\n",
       "      <th>1</th>\n",
       "      <td>2</td>\n",
       "      <td>Windshield Wiper Motor</td>\n",
       "      <td>40-10000</td>\n",
       "      <td>Windshield Wiper Motor - 40-10000</td>\n",
       "      <td>Hummer H3 2010-06</td>\n",
       "      <td></td>\n",
       "      <td>https://www.cardone.com/product/windshield-wip...</td>\n",
       "      <td>CARDONE Reman</td>\n",
       "      <td>{\"0\": \"https://cdn11.bigcommerce.com/s-z9vhe3o...</td>\n",
       "      <td>{\"0\": {\"productDeskExternalKey\": \"CPCX|40-1000...</td>\n",
       "    </tr>\n",
       "    <tr>\n",
       "      <th>2</th>\n",
       "      <td>3</td>\n",
       "      <td>Windshield Wiper Motor</td>\n",
       "      <td>40-10005</td>\n",
       "      <td>Windshield Wiper Motor - 40-10005</td>\n",
       "      <td></td>\n",
       "      <td></td>\n",
       "      <td>https://www.cardone.com/product/windshield-wip...</td>\n",
       "      <td>CARDONE Reman</td>\n",
       "      <td>{\"0\": \"https://cdn11.bigcommerce.com/s-z9vhe3o...</td>\n",
       "      <td>{\"0\": {\"productDeskExternalKey\": \"CPCX|40-1000...</td>\n",
       "    </tr>\n",
       "    <tr>\n",
       "      <th>3</th>\n",
       "      <td>4</td>\n",
       "      <td>Windshield Wiper Motor</td>\n",
       "      <td>40-10006</td>\n",
       "      <td>Windshield Wiper Motor - 40-10006</td>\n",
       "      <td>Buick Enclave 2017-08</td>\n",
       "      <td></td>\n",
       "      <td>https://www.cardone.com/product/windshield-wip...</td>\n",
       "      <td>CARDONE Reman</td>\n",
       "      <td>{\"0\": \"https://cdn11.bigcommerce.com/s-z9vhe3o...</td>\n",
       "      <td>{\"0\": {\"productDeskExternalKey\": \"CPCX|40-1000...</td>\n",
       "    </tr>\n",
       "    <tr>\n",
       "      <th>4</th>\n",
       "      <td>5</td>\n",
       "      <td>Windshield Wiper Motor</td>\n",
       "      <td>40-10007</td>\n",
       "      <td>Windshield Wiper Motor - 40-10007</td>\n",
       "      <td>Chevrolet Malibu 2007-05</td>\n",
       "      <td></td>\n",
       "      <td>https://www.cardone.com/product/windshield-wip...</td>\n",
       "      <td>CARDONE Reman</td>\n",
       "      <td>{\"0\": \"https://cdn11.bigcommerce.com/s-z9vhe3o...</td>\n",
       "      <td>{\"0\": {\"productDeskExternalKey\": \"CPCX|40-1000...</td>\n",
       "    </tr>\n",
       "    <tr>\n",
       "      <th>5</th>\n",
       "      <td>6</td>\n",
       "      <td>Windshield Wiper Motor</td>\n",
       "      <td>40-10009</td>\n",
       "      <td>Windshield Wiper Motor - 40-10009</td>\n",
       "      <td>Chevrolet Suburban 1500 2000, Suburban 2500 20...</td>\n",
       "      <td></td>\n",
       "      <td>https://www.cardone.com/product/windshield-wip...</td>\n",
       "      <td>CARDONE Reman</td>\n",
       "      <td>{\"0\": \"https://cdn11.bigcommerce.com/s-z9vhe3o...</td>\n",
       "      <td>{\"0\": {\"productDeskExternalKey\": \"CPCX|40-1000...</td>\n",
       "    </tr>\n",
       "    <tr>\n",
       "      <th>6</th>\n",
       "      <td>7</td>\n",
       "      <td>Windshield Wiper Motor</td>\n",
       "      <td>40-1001</td>\n",
       "      <td>Windshield Wiper Motor - 40-1001</td>\n",
       "      <td>Chevrolet Prizm 2002-98; Geo Prizm 1997-93; To...</td>\n",
       "      <td></td>\n",
       "      <td>https://www.cardone.com/product/windshield-wip...</td>\n",
       "      <td>CARDONE Reman</td>\n",
       "      <td>{\"0\": \"https://cdn11.bigcommerce.com/s-z9vhe3o...</td>\n",
       "      <td>{\"0\": {\"productDeskExternalKey\": \"CPCX|40-1001...</td>\n",
       "    </tr>\n",
       "    <tr>\n",
       "      <th>7</th>\n",
       "      <td>8</td>\n",
       "      <td>Windshield Wiper Motor</td>\n",
       "      <td>40-10013</td>\n",
       "      <td>Windshield Wiper Motor - 40-10013</td>\n",
       "      <td>Chevrolet Captiva Sport 2015-08; Saturn Vue 20...</td>\n",
       "      <td></td>\n",
       "      <td>https://www.cardone.com/product/windshield-wip...</td>\n",
       "      <td>CARDONE Reman</td>\n",
       "      <td>{\"0\": \"https://cdn11.bigcommerce.com/s-z9vhe3o...</td>\n",
       "      <td>{\"0\": {\"productDeskExternalKey\": \"CPCX|40-1001...</td>\n",
       "    </tr>\n",
       "    <tr>\n",
       "      <th>8</th>\n",
       "      <td>9</td>\n",
       "      <td>Windshield Wiper Motor</td>\n",
       "      <td>40-10014</td>\n",
       "      <td>Windshield Wiper Motor - 40-10014</td>\n",
       "      <td>Chevrolet Captiva Sport 2010-08; Saturn Vue 20...</td>\n",
       "      <td></td>\n",
       "      <td>https://www.cardone.com/product/windshield-wip...</td>\n",
       "      <td>CARDONE Reman</td>\n",
       "      <td>{\"0\": \"https://cdn11.bigcommerce.com/s-z9vhe3o...</td>\n",
       "      <td>{\"0\": {\"productDeskExternalKey\": \"CPCX|40-1001...</td>\n",
       "    </tr>\n",
       "    <tr>\n",
       "      <th>9</th>\n",
       "      <td>10</td>\n",
       "      <td>Windshield Wiper Motor</td>\n",
       "      <td>40-10015</td>\n",
       "      <td>Windshield Wiper Motor - 40-10015</td>\n",
       "      <td>Geo Metro 1994-89; Pontiac Firefly 1994 1991-89</td>\n",
       "      <td></td>\n",
       "      <td>https://www.cardone.com/product/windshield-wip...</td>\n",
       "      <td>CARDONE Reman</td>\n",
       "      <td>{\"0\": \"https://cdn11.bigcommerce.com/s-z9vhe3o...</td>\n",
       "      <td>{\"0\": {\"productDeskExternalKey\": \"CPCX|40-1001...</td>\n",
       "    </tr>\n",
       "  </tbody>\n",
       "</table>\n",
       "</div>"
      ],
      "text/plain": [
       "   No                    Type Part Number                              Title  \\\n",
       "0   1  Windshield Wiper Motor     40-1000   Windshield Wiper Motor - 40-1000   \n",
       "1   2  Windshield Wiper Motor    40-10000  Windshield Wiper Motor - 40-10000   \n",
       "2   3  Windshield Wiper Motor    40-10005  Windshield Wiper Motor - 40-10005   \n",
       "3   4  Windshield Wiper Motor    40-10006  Windshield Wiper Motor - 40-10006   \n",
       "4   5  Windshield Wiper Motor    40-10007  Windshield Wiper Motor - 40-10007   \n",
       "5   6  Windshield Wiper Motor    40-10009  Windshield Wiper Motor - 40-10009   \n",
       "6   7  Windshield Wiper Motor     40-1001   Windshield Wiper Motor - 40-1001   \n",
       "7   8  Windshield Wiper Motor    40-10013  Windshield Wiper Motor - 40-10013   \n",
       "8   9  Windshield Wiper Motor    40-10014  Windshield Wiper Motor - 40-10014   \n",
       "9  10  Windshield Wiper Motor    40-10015  Windshield Wiper Motor - 40-10015   \n",
       "\n",
       "                                 Application Summary Picture  \\\n",
       "0  Chevrolet Camaro 1998-93; Pontiac Firebird 199...           \n",
       "1                                  Hummer H3 2010-06           \n",
       "2                                                              \n",
       "3                              Buick Enclave 2017-08           \n",
       "4                           Chevrolet Malibu 2007-05           \n",
       "5  Chevrolet Suburban 1500 2000, Suburban 2500 20...           \n",
       "6  Chevrolet Prizm 2002-98; Geo Prizm 1997-93; To...           \n",
       "7  Chevrolet Captiva Sport 2015-08; Saturn Vue 20...           \n",
       "8  Chevrolet Captiva Sport 2010-08; Saturn Vue 20...           \n",
       "9    Geo Metro 1994-89; Pontiac Firefly 1994 1991-89           \n",
       "\n",
       "                                                 Url       Subtitle  \\\n",
       "0  https://www.cardone.com/product/windshield-wip...  CARDONE Reman   \n",
       "1  https://www.cardone.com/product/windshield-wip...  CARDONE Reman   \n",
       "2  https://www.cardone.com/product/windshield-wip...  CARDONE Reman   \n",
       "3  https://www.cardone.com/product/windshield-wip...  CARDONE Reman   \n",
       "4  https://www.cardone.com/product/windshield-wip...  CARDONE Reman   \n",
       "5  https://www.cardone.com/product/windshield-wip...  CARDONE Reman   \n",
       "6  https://www.cardone.com/product/windshield-wip...  CARDONE Reman   \n",
       "7  https://www.cardone.com/product/windshield-wip...  CARDONE Reman   \n",
       "8  https://www.cardone.com/product/windshield-wip...  CARDONE Reman   \n",
       "9  https://www.cardone.com/product/windshield-wip...  CARDONE Reman   \n",
       "\n",
       "                                            Json_Src  \\\n",
       "0  {\"0\": \"https://cdn11.bigcommerce.com/s-z9vhe3o...   \n",
       "1  {\"0\": \"https://cdn11.bigcommerce.com/s-z9vhe3o...   \n",
       "2  {\"0\": \"https://cdn11.bigcommerce.com/s-z9vhe3o...   \n",
       "3  {\"0\": \"https://cdn11.bigcommerce.com/s-z9vhe3o...   \n",
       "4  {\"0\": \"https://cdn11.bigcommerce.com/s-z9vhe3o...   \n",
       "5  {\"0\": \"https://cdn11.bigcommerce.com/s-z9vhe3o...   \n",
       "6  {\"0\": \"https://cdn11.bigcommerce.com/s-z9vhe3o...   \n",
       "7  {\"0\": \"https://cdn11.bigcommerce.com/s-z9vhe3o...   \n",
       "8  {\"0\": \"https://cdn11.bigcommerce.com/s-z9vhe3o...   \n",
       "9  {\"0\": \"https://cdn11.bigcommerce.com/s-z9vhe3o...   \n",
       "\n",
       "                                           Json_Info  \n",
       "0  {\"0\": {\"productDeskExternalKey\": \"CPCX|40-1000...  \n",
       "1  {\"0\": {\"productDeskExternalKey\": \"CPCX|40-1000...  \n",
       "2  {\"0\": {\"productDeskExternalKey\": \"CPCX|40-1000...  \n",
       "3  {\"0\": {\"productDeskExternalKey\": \"CPCX|40-1000...  \n",
       "4  {\"0\": {\"productDeskExternalKey\": \"CPCX|40-1000...  \n",
       "5  {\"0\": {\"productDeskExternalKey\": \"CPCX|40-1000...  \n",
       "6  {\"0\": {\"productDeskExternalKey\": \"CPCX|40-1001...  \n",
       "7  {\"0\": {\"productDeskExternalKey\": \"CPCX|40-1001...  \n",
       "8  {\"0\": {\"productDeskExternalKey\": \"CPCX|40-1001...  \n",
       "9  {\"0\": {\"productDeskExternalKey\": \"CPCX|40-1001...  "
      ]
     },
     "execution_count": 3,
     "metadata": {},
     "output_type": "execute_result"
    }
   ],
   "source": [
    "list_dict_correct, list_series_error, df_input = [], [], pd.read_excel(f'{directory_in}/{file}',\n",
    "                                                                       header=0,\n",
    "                                                                       dtype=str).fillna('')\n",
    "\n",
    "df_input['No'] = df_input['No'].astype(int)\n",
    "\n",
    "count_remain = len(df_input)\n",
    "\n",
    "print(f'总数量：{count_remain}')\n",
    "print()\n",
    "df_input"
   ]
  },
  {
   "cell_type": "code",
   "execution_count": 4,
   "id": "42130183-3b93-4078-ae77-346b4df4e38c",
   "metadata": {},
   "outputs": [
    {
     "data": {
      "text/plain": [
       "(0,\n",
       " No                                                                     1\n",
       " Type                                              Windshield Wiper Motor\n",
       " Part Number                                                      40-1000\n",
       " Title                                   Windshield Wiper Motor - 40-1000\n",
       " Application Summary    Chevrolet Camaro 1998-93; Pontiac Firebird 199...\n",
       " Picture                                                                 \n",
       " Url                    https://www.cardone.com/product/windshield-wip...\n",
       " Subtitle                                                   CARDONE Reman\n",
       " Json_Src               {\"0\": \"https://cdn11.bigcommerce.com/s-z9vhe3o...\n",
       " Json_Info              {\"0\": {\"productDeskExternalKey\": \"CPCX|40-1000...\n",
       " Name: 0, dtype: object)"
      ]
     },
     "execution_count": 4,
     "metadata": {},
     "output_type": "execute_result"
    }
   ],
   "source": [
    "(crawler_index, crawler_series) = next(df_input.iterrows())\n",
    "\n",
    "crawler_index, crawler_series"
   ]
  },
  {
   "cell_type": "code",
   "execution_count": 5,
   "id": "d1573928-cf3f-4364-b75a-2fd32bac0395",
   "metadata": {
    "scrolled": true
   },
   "outputs": [
    {
     "name": "stdout",
     "output_type": "stream",
     "text": [
      "1\n",
      "2\n"
     ]
    },
    {
     "data": {
      "text/plain": [
       "1"
      ]
     },
     "execution_count": 5,
     "metadata": {},
     "output_type": "execute_result"
    }
   ],
   "source": [
    "import time\n",
    "\n",
    "count_retry = 0\n",
    "while True:\n",
    "    count_retry += 1\n",
    "    print(count_retry)\n",
    "    try:\n",
    "        url_request, url_check = f'''https://productdesk-api.cellacore.net/legacy/cardone/FinishedGood/?q=productDeskItemNumber.keyword:{crawler_series['Part Number']}&size=1&useCache=false&auth=mXWIhUuYvk3hklMcdwLi4lwVd3s6VASw''', crawler_series['Url']\n",
    "\n",
    "        resp = requests.get(url_request,\n",
    "                            headers=get_header(),\n",
    "                            proxies=get_proxy(),\n",
    "                            timeout=(5, 15))\n",
    "\n",
    "        if resp.status_code == 200:\n",
    "            break\n",
    "    except KeyboardInterrupt:\n",
    "        break\n",
    "    except:\n",
    "        time.sleep(3)\n",
    "        continue\n",
    "\n",
    "len(resp.json())"
   ]
  },
  {
   "cell_type": "code",
   "execution_count": 6,
   "id": "1429cd76-f672-4116-be9b-d975fcafa14d",
   "metadata": {},
   "outputs": [
    {
     "data": {
      "text/plain": [
       "'22154913;22110039'"
      ]
     },
     "execution_count": 6,
     "metadata": {},
     "output_type": "execute_result"
    }
   ],
   "source": [
    "list_dict = resp.json()[0]['CrossReferences'] if 'CrossReferences' in resp.json()[0] else []\n",
    "list_reference = [dict_['reference'].strip() for dict_ in list_dict if dict_['referenceType'].strip() == 'OE Part']\n",
    "oem = ';'.join(list(dict.fromkeys(list_reference)))\n",
    "\n",
    "oem"
   ]
  },
  {
   "cell_type": "code",
   "execution_count": 7,
   "id": "bdcf91e3-7ec5-438b-8fd6-0c4b243867fa",
   "metadata": {},
   "outputs": [
    {
     "data": {
      "text/plain": [
       "[{'No': 1,\n",
       "  'Type': 'Windshield Wiper Motor',\n",
       "  'Part Number': '40-1000',\n",
       "  'Title': 'Windshield Wiper Motor - 40-1000',\n",
       "  'Application Summary': 'Chevrolet Camaro 1998-93; Pontiac Firebird 1998-93',\n",
       "  'OEM': '22154913;22110039',\n",
       "  'Picture': '',\n",
       "  'Url': 'https://www.cardone.com/product/windshield-wiper-motor-40-1000',\n",
       "  'Subtitle': 'CARDONE Reman',\n",
       "  'Json_Src': '{\"0\": \"https://cdn11.bigcommerce.com/s-z9vhe3o238/images/stencil/1280x1280/products/82816/5488626/482__00992.1687973871.jpg?c=1\", \"1\": \"https://cdn11.bigcommerce.com/s-z9vhe3o238/images/stencil/1280x1280/products/82816/5488628/482__97909.1687973872.jpg?c=1\", \"2\": \"https://cdn11.bigcommerce.com/s-z9vhe3o238/images/stencil/1280x1280/products/82816/5488630/482__09398.1687973874.jpg?c=1\", \"3\": \"https://cdn11.bigcommerce.com/s-z9vhe3o238/images/stencil/1280x1280/products/82816/5488632/482__69563.1687973875.jpg?c=1\", \"4\": \"https://cdn11.bigcommerce.com/s-z9vhe3o238/images/stencil/1280x1280/products/82816/5488635/482__93868.1687973876.jpg?c=1\", \"5\": \"https://cdn11.bigcommerce.com/s-z9vhe3o238/images/stencil/1280x1280/products/82816/5488640/482__32832.1687973878.jpg?c=1\", \"6\": \"https://cdn11.bigcommerce.com/s-z9vhe3o238/images/stencil/1280x1280/products/82816/5488643/482__89435.1687973879.jpg?c=1\", \"7\": \"https://cdn11.bigcommerce.com/s-z9vhe3o238/images/stencil/1280x1280/products/82816/5488646/482__80803.1687973881.jpg?c=1\"}',\n",
       "  'Json_Info': '{\"0\": {\"productDeskExternalKey\": \"CPCX|40-1000\"}, \"1\": {\"Package Contents\": \"Wiper Motor; Instruction Sheet\"}, \"2\": {\"E-Waste\": \"Yes\"}, \"3\": {\"Product Condition\": \"Remanufactured\"}, \"4\": {\"Mounting Hole Quantity\": \"3\"}, \"5\": {\"Terminal Type\": \"Blade\"}, \"6\": {\"Mounting Type\": \"Eyelet; Grommet\"}, \"7\": {\"Weight PG\": \"5.9000\"}, \"8\": {\"Washer Pump Included\": \"No\"}, \"9\": {\"Warranty Info\": \"1 Year/18,000 Mile\"}, \"10\": {\"Sustainable Choice\": \"Yes\"}, \"11\": {\"Lifecycle Status\": \"Available to Order\"}, \"12\": {\"ItemLevelGTIN\": \"00082617338332\"}, \"13\": {\"_addonCardone\": \"40-1000::98271:100085:306\"}, \"14\": {\"Eligible for R&R Service\": \"Yes\"}}'}]"
      ]
     },
     "execution_count": 7,
     "metadata": {},
     "output_type": "execute_result"
    }
   ],
   "source": [
    "list_dict_correct.append({'No': crawler_series['No'],\n",
    "                          'Type': crawler_series['Type'],\n",
    "                          'Part Number': crawler_series['Part Number'],\n",
    "                          'Title': crawler_series['Title'],\n",
    "                          'Application Summary': crawler_series['Application Summary'],\n",
    "                          'OEM': oem,\n",
    "                          'Picture': crawler_series['Picture'],\n",
    "                          'Url': crawler_series['Url'],\n",
    "                          'Subtitle': crawler_series['Subtitle'],\n",
    "                          'Json_Src': crawler_series['Json_Src'],\n",
    "                          'Json_Info': crawler_series['Json_Info']})\n",
    "\n",
    "list_dict_correct"
   ]
  },
  {
   "cell_type": "code",
   "execution_count": 8,
   "id": "fc4ed7f6-ed4f-431c-b944-b1690309cdae",
   "metadata": {},
   "outputs": [
    {
     "data": {
      "text/plain": [
       "True"
      ]
     },
     "execution_count": 8,
     "metadata": {},
     "output_type": "execute_result"
    }
   ],
   "source": [
    "crawler_status = True\n",
    "\n",
    "crawler_status"
   ]
  },
  {
   "cell_type": "code",
   "execution_count": 9,
   "id": "65c745d1-446e-46c5-9dec-819c9f7944d3",
   "metadata": {},
   "outputs": [
    {
     "data": {
      "text/plain": [
       "[No                                                                     1\n",
       " Type                                              Windshield Wiper Motor\n",
       " Part Number                                                      40-1000\n",
       " Title                                   Windshield Wiper Motor - 40-1000\n",
       " Application Summary    Chevrolet Camaro 1998-93; Pontiac Firebird 199...\n",
       " Picture                                                                 \n",
       " Url                    https://www.cardone.com/product/windshield-wip...\n",
       " Subtitle                                                   CARDONE Reman\n",
       " Json_Src               {\"0\": \"https://cdn11.bigcommerce.com/s-z9vhe3o...\n",
       " Json_Info              {\"0\": {\"productDeskExternalKey\": \"CPCX|40-1000...\n",
       " Request_Url            https://productdesk-api.cellacore.net/legacy/c...\n",
       " Check_Url              https://www.cardone.com/product/windshield-wip...\n",
       " Name: 0, dtype: object]"
      ]
     },
     "execution_count": 9,
     "metadata": {},
     "output_type": "execute_result"
    }
   ],
   "source": [
    "crawler_series['Request_Url'], crawler_series['Check_Url'] = url_request, url_check\n",
    "\n",
    "list_series_error.append(crawler_series)\n",
    "\n",
    "list_series_error"
   ]
  },
  {
   "cell_type": "code",
   "execution_count": 10,
   "id": "7fd477de",
   "metadata": {},
   "outputs": [
    {
     "data": {
      "text/html": [
       "<div>\n",
       "<style scoped>\n",
       "    .dataframe tbody tr th:only-of-type {\n",
       "        vertical-align: middle;\n",
       "    }\n",
       "\n",
       "    .dataframe tbody tr th {\n",
       "        vertical-align: top;\n",
       "    }\n",
       "\n",
       "    .dataframe thead th {\n",
       "        text-align: right;\n",
       "    }\n",
       "</style>\n",
       "<table border=\"1\" class=\"dataframe\">\n",
       "  <thead>\n",
       "    <tr style=\"text-align: right;\">\n",
       "      <th></th>\n",
       "      <th>No</th>\n",
       "      <th>Type</th>\n",
       "      <th>Part Number</th>\n",
       "      <th>Title</th>\n",
       "      <th>Application Summary</th>\n",
       "      <th>OEM</th>\n",
       "      <th>Picture</th>\n",
       "      <th>Url</th>\n",
       "      <th>Subtitle</th>\n",
       "      <th>Json_Src</th>\n",
       "      <th>Json_Info</th>\n",
       "    </tr>\n",
       "  </thead>\n",
       "  <tbody>\n",
       "    <tr>\n",
       "      <th>0</th>\n",
       "      <td>1</td>\n",
       "      <td>Windshield Wiper Motor</td>\n",
       "      <td>40-1000</td>\n",
       "      <td>Windshield Wiper Motor - 40-1000</td>\n",
       "      <td>Chevrolet Camaro 1998-93; Pontiac Firebird 199...</td>\n",
       "      <td>22154913;22110039</td>\n",
       "      <td></td>\n",
       "      <td>https://www.cardone.com/product/windshield-wip...</td>\n",
       "      <td>CARDONE Reman</td>\n",
       "      <td>{\"0\": \"https://cdn11.bigcommerce.com/s-z9vhe3o...</td>\n",
       "      <td>{\"0\": {\"productDeskExternalKey\": \"CPCX|40-1000...</td>\n",
       "    </tr>\n",
       "  </tbody>\n",
       "</table>\n",
       "</div>"
      ],
      "text/plain": [
       "   No                    Type Part Number                             Title  \\\n",
       "0   1  Windshield Wiper Motor     40-1000  Windshield Wiper Motor - 40-1000   \n",
       "\n",
       "                                 Application Summary                OEM  \\\n",
       "0  Chevrolet Camaro 1998-93; Pontiac Firebird 199...  22154913;22110039   \n",
       "\n",
       "  Picture                                                Url       Subtitle  \\\n",
       "0          https://www.cardone.com/product/windshield-wip...  CARDONE Reman   \n",
       "\n",
       "                                            Json_Src  \\\n",
       "0  {\"0\": \"https://cdn11.bigcommerce.com/s-z9vhe3o...   \n",
       "\n",
       "                                           Json_Info  \n",
       "0  {\"0\": {\"productDeskExternalKey\": \"CPCX|40-1000...  "
      ]
     },
     "execution_count": 10,
     "metadata": {},
     "output_type": "execute_result"
    }
   ],
   "source": [
    "if list_dict_correct:\n",
    "    df_correct = pd.DataFrame(list_dict_correct).sort_values(by=['No'],\n",
    "                                                             ascending=[True],\n",
    "                                                             ignore_index=True)\n",
    "    df_correct.to_excel('./test_oem.xlsx', index=False)\n",
    "\n",
    "df_correct"
   ]
  },
  {
   "cell_type": "code",
   "execution_count": 11,
   "id": "39a5441b-7f69-4812-aad8-7e10a1a24e78",
   "metadata": {},
   "outputs": [
    {
     "data": {
      "text/html": [
       "<div>\n",
       "<style scoped>\n",
       "    .dataframe tbody tr th:only-of-type {\n",
       "        vertical-align: middle;\n",
       "    }\n",
       "\n",
       "    .dataframe tbody tr th {\n",
       "        vertical-align: top;\n",
       "    }\n",
       "\n",
       "    .dataframe thead th {\n",
       "        text-align: right;\n",
       "    }\n",
       "</style>\n",
       "<table border=\"1\" class=\"dataframe\">\n",
       "  <thead>\n",
       "    <tr style=\"text-align: right;\">\n",
       "      <th></th>\n",
       "      <th>No</th>\n",
       "      <th>Type</th>\n",
       "      <th>Part Number</th>\n",
       "      <th>Title</th>\n",
       "      <th>Application Summary</th>\n",
       "      <th>Picture</th>\n",
       "      <th>Url</th>\n",
       "      <th>Subtitle</th>\n",
       "      <th>Json_Src</th>\n",
       "      <th>Json_Info</th>\n",
       "      <th>Request_Url</th>\n",
       "      <th>Check_Url</th>\n",
       "    </tr>\n",
       "  </thead>\n",
       "  <tbody>\n",
       "    <tr>\n",
       "      <th>0</th>\n",
       "      <td>1</td>\n",
       "      <td>Windshield Wiper Motor</td>\n",
       "      <td>40-1000</td>\n",
       "      <td>Windshield Wiper Motor - 40-1000</td>\n",
       "      <td>Chevrolet Camaro 1998-93; Pontiac Firebird 199...</td>\n",
       "      <td></td>\n",
       "      <td>https://www.cardone.com/product/windshield-wip...</td>\n",
       "      <td>CARDONE Reman</td>\n",
       "      <td>{\"0\": \"https://cdn11.bigcommerce.com/s-z9vhe3o...</td>\n",
       "      <td>{\"0\": {\"productDeskExternalKey\": \"CPCX|40-1000...</td>\n",
       "      <td>https://productdesk-api.cellacore.net/legacy/c...</td>\n",
       "      <td>https://www.cardone.com/product/windshield-wip...</td>\n",
       "    </tr>\n",
       "  </tbody>\n",
       "</table>\n",
       "</div>"
      ],
      "text/plain": [
       "   No                    Type Part Number                             Title  \\\n",
       "0   1  Windshield Wiper Motor     40-1000  Windshield Wiper Motor - 40-1000   \n",
       "\n",
       "                                 Application Summary Picture  \\\n",
       "0  Chevrolet Camaro 1998-93; Pontiac Firebird 199...           \n",
       "\n",
       "                                                 Url       Subtitle  \\\n",
       "0  https://www.cardone.com/product/windshield-wip...  CARDONE Reman   \n",
       "\n",
       "                                            Json_Src  \\\n",
       "0  {\"0\": \"https://cdn11.bigcommerce.com/s-z9vhe3o...   \n",
       "\n",
       "                                           Json_Info  \\\n",
       "0  {\"0\": {\"productDeskExternalKey\": \"CPCX|40-1000...   \n",
       "\n",
       "                                         Request_Url  \\\n",
       "0  https://productdesk-api.cellacore.net/legacy/c...   \n",
       "\n",
       "                                           Check_Url  \n",
       "0  https://www.cardone.com/product/windshield-wip...  "
      ]
     },
     "execution_count": 11,
     "metadata": {},
     "output_type": "execute_result"
    }
   ],
   "source": [
    "if list_series_error:\n",
    "    df_error = pd.DataFrame(list_series_error).sort_values(by=['No'],\n",
    "                                                           ascending=[True],\n",
    "                                                           ignore_index=True)\n",
    "    df_error.to_excel('./test_oem_error.xlsx', index=False)\n",
    "\n",
    "df_error"
   ]
  },
  {
   "cell_type": "code",
   "execution_count": null,
   "id": "ba5d9f77-7464-4ad5-a42b-1fa0c0505832",
   "metadata": {},
   "outputs": [],
   "source": []
  }
 ],
 "metadata": {
  "kernelspec": {
   "display_name": "Python 3 (ipykernel)",
   "language": "python",
   "name": "python3"
  },
  "language_info": {
   "codemirror_mode": {
    "name": "ipython",
    "version": 3
   },
   "file_extension": ".py",
   "mimetype": "text/x-python",
   "name": "python",
   "nbconvert_exporter": "python",
   "pygments_lexer": "ipython3",
   "version": "3.12.7"
  }
 },
 "nbformat": 4,
 "nbformat_minor": 5
}
