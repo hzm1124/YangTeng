{
 "cells": [
  {
   "cell_type": "code",
   "execution_count": 1,
   "id": "658fe0e0",
   "metadata": {},
   "outputs": [],
   "source": [
    "import pandas as pd"
   ]
  },
  {
   "cell_type": "code",
   "execution_count": 2,
   "id": "0800cec7",
   "metadata": {},
   "outputs": [
    {
     "name": "stdout",
     "output_type": "stream",
     "text": [
      "总数量：1\n"
     ]
    },
    {
     "data": {
      "text/plain": [
       "['https://ecatalog.smpcorp.com/V2/STD/api/part/partselect?func=PART&vid=&part=ADR4368']"
      ]
     },
     "execution_count": 2,
     "metadata": {},
     "output_type": "execute_result"
    }
   ],
   "source": [
    "df_menu = pd.read_excel('./menu.xlsx',\n",
    "                        header=0,\n",
    "                        dtype=str).fillna('')\n",
    "\n",
    "list_url = df_menu['basePart'].tolist()\n",
    "list_url = ['https://ecatalog.smpcorp.com/V2/STD/api/part/partselect?func=PART&vid=&part=' + _ for _ in list_url]\n",
    "\n",
    "print('总数量：' + str(len(list_url)))\n",
    "list_url"
   ]
  },
  {
   "cell_type": "code",
   "execution_count": 3,
   "id": "678b39c0",
   "metadata": {},
   "outputs": [
    {
     "data": {
      "text/html": [
       "<div>\n",
       "<style scoped>\n",
       "    .dataframe tbody tr th:only-of-type {\n",
       "        vertical-align: middle;\n",
       "    }\n",
       "\n",
       "    .dataframe tbody tr th {\n",
       "        vertical-align: top;\n",
       "    }\n",
       "\n",
       "    .dataframe thead th {\n",
       "        text-align: right;\n",
       "    }\n",
       "</style>\n",
       "<table border=\"1\" class=\"dataframe\">\n",
       "  <thead>\n",
       "    <tr style=\"text-align: right;\">\n",
       "      <th></th>\n",
       "    </tr>\n",
       "  </thead>\n",
       "  <tbody>\n",
       "  </tbody>\n",
       "</table>\n",
       "</div>"
      ],
      "text/plain": [
       "Empty DataFrame\n",
       "Columns: []\n",
       "Index: []"
      ]
     },
     "execution_count": 3,
     "metadata": {},
     "output_type": "execute_result"
    }
   ],
   "source": [
    "df = pd.DataFrame()\n",
    "\n",
    "df"
   ]
  },
  {
   "cell_type": "code",
   "execution_count": 4,
   "id": "b8a18426",
   "metadata": {},
   "outputs": [
    {
     "data": {
      "text/plain": [
       "'https://ecatalog.smpcorp.com/V2/STD/api/part/partselect?func=PART&vid=&part=ADR4368'"
      ]
     },
     "execution_count": 4,
     "metadata": {},
     "output_type": "execute_result"
    }
   ],
   "source": [
    "url = list_url[-1]\n",
    "\n",
    "url"
   ]
  },
  {
   "cell_type": "code",
   "execution_count": 5,
   "id": "51a3cfac",
   "metadata": {},
   "outputs": [],
   "source": [
    "import requests"
   ]
  },
  {
   "cell_type": "code",
   "execution_count": 6,
   "id": "a3fe7ef7",
   "metadata": {},
   "outputs": [
    {
     "data": {
      "text/plain": [
       "'{\"pd\":{\"rowId\":1,\"site\":\"STD\",\"webBase\":\"ADR4368\",\"brand\":\"STI\",\"basePart\":\"ADR4368\",\"partDesc_en\":\"HVAC Mode Door Actuator\",\"partLongDesc_en\":\"HVAC Mode Door Actuator\",\"pop\":\"X\",\"partComment\":null,\"qtyEach\":1,\"webColumn_Id\":null,\"categoryName_en\":null,\"vehicleId\":null,\"mfg\":null,\"mfG_Part\":null,\"maxRows\":1,\"brandLink\":null,\"imageUrl\":null},\"pp\":{\"buyersGuides\":[{\"basePart\":\"ADR4368\",\"buyersGuideId\":125510,\"buyersGuideDesc\":\"Hyundai Santa Fe (18-13)\"},{\"basePart\":\"ADR4368\",\"buyersGuideId\":128125,\"buyersGuideDesc\":\"Hyundai Santa Fe Sport (18-13)\"},{\"basePart\":\"ADR4368\",\"buyersGuideId\":129409,\"buyersGuideDesc\":\"Hyundai Santa Fe XL (18-13)\"},{\"basePart\":\"ADR4368\",\"buyersGuideId\":115654,\"buyersGuideDesc\":\"Kia Sorento (16)\"}],\"partSpecs\":[{\"attributeCode\":\"110\",\"attributeValue\":1905,\"attributeSort\":0,\"attributeName_en\":\"Warranty\",\"siteValue_en\":\"3 years/36,000 mile\"},{\"attributeCode\":\"269\",\"attributeValue\":10223,\"attributeSort\":0,\"attributeName_en\":\"Actuation Style\",\"siteValue_en\":\"Floor\"},{\"attributeCode\":\"389\",\"attributeValue\":1843,\"attributeSort\":0,\"attributeName_en\":\"Number Of Mounting Ears\",\"siteValue_en\":\"3\"},{\"attributeCode\":\"9\",\"attributeValue\":4752,\"attributeSort\":10310,\"attributeName_en\":\"Connector Gender\",\"siteValue_en\":\"Female\"},{\"attributeCode\":\"14\",\"attributeValue\":260,\"attributeSort\":10410,\"attributeName_en\":\"Contents\",\"siteValue_en\":\"1 Actuator\"},{\"attributeCode\":\"104\",\"attributeValue\":5956,\"attributeSort\":12380,\"attributeName_en\":\"Terminal Gender\",\"siteValue_en\":\"Male\"},{\"attributeCode\":\"164\",\"attributeValue\":2568,\"attributeSort\":12390,\"attributeName_en\":\"Terminal Quantity\",\"siteValue_en\":\"5\"},{\"attributeCode\":\"105\",\"attributeValue\":6556,\"attributeSort\":12400,\"attributeName_en\":\"Terminal Type\",\"siteValue_en\":\"Pin\"}],\"imageUrls\":[],\"relatedParts\":[],\"relatedCategories\":null,\"fandB\":[{\"basePart\":\"ADR4368\",\"fbId\":\"218967\",\"fbDesc\":\"Exact-match replacement properly restores function of failed OE unit\",\"taB_Type\":\"F&B Details\",\"assetSort\":8,\"digiSort\":200},{\"basePart\":\"ADR4368\",\"fbId\":\"218602\",\"fbDesc\":\"Includes complete motor and circuit board \",\"taB_Type\":\"F&B Details\",\"assetSort\":8,\"digiSort\":210},{\"basePart\":\"ADR4368\",\"fbId\":\"218609\",\"fbDesc\":\"Manufactured with high-quality plastic moldings to ensure durability\",\"taB_Type\":\"F&B Details\",\"assetSort\":8,\"digiSort\":220},{\"basePart\":\"ADR4368\",\"fbId\":\"291926\",\"fbDesc\":\"Extensively tested to ensure performance and reliability\",\"taB_Type\":\"F&B Details\",\"assetSort\":8,\"digiSort\":230},{\"basePart\":\"ADR4368\",\"fbId\":\"269278\",\"fbDesc\":\"Designed to meet or exceed OE performance, providing today\\'s technician with the quality parts needed to get the job done right, the first time\",\"taB_Type\":\"F&B Details\",\"assetSort\":8,\"digiSort\":240}],\"digiAssests\":[{\"asset_ID\":7,\"assetName\":\"Videos\",\"basePart\":\"ADR4368\",\"fileName\":\"SMP Engineering Spotlight: Long Island City\",\"fileURL\":\"https://youtube.com/embed/vac2vas7vJY\",\"comment_ID\":\"220958\",\"comment\":\"SMP Engineering Spotlight: Long Island City\",\"assetSort\":7,\"digiSort\":80000,\"videoImage\":null},{\"asset_ID\":7,\"assetName\":\"Videos\",\"basePart\":\"ADR4368\",\"fileName\":\"SMP Parts App Update (3.0.9)\",\"fileURL\":\"https://youtube.com/embed/KpEXmjcKbMc\",\"comment_ID\":\"270593\",\"comment\":\"SMP Parts App Update (3.0.9)\",\"assetSort\":7,\"digiSort\":90090,\"videoImage\":null}],\"categories\":[{\"basePart\":\"ADR4368\",\"webLayout_ID\":348300,\"categoryName_en\":\"HVAC Mode Door Actuator\",\"prodCategory_ASort\":21520}],\"crossRef\":null,\"completeRepair\":{\"serviceParts\":[],\"serviceSpec\":[{\"serviceName\":\"Fuel Filter Flush (Required)\"},{\"serviceName\":\"Oil Change (Required)\"}]}}}'"
      ]
     },
     "execution_count": 6,
     "metadata": {},
     "output_type": "execute_result"
    }
   ],
   "source": [
    "resp = requests.get(url).text\n",
    "\n",
    "resp"
   ]
  },
  {
   "cell_type": "code",
   "execution_count": 7,
   "id": "6591b575",
   "metadata": {},
   "outputs": [],
   "source": [
    "import json"
   ]
  },
  {
   "cell_type": "code",
   "execution_count": 8,
   "id": "9b9695a1",
   "metadata": {},
   "outputs": [
    {
     "data": {
      "text/plain": [
       "{'pd': {'rowId': 1,\n",
       "  'site': 'STD',\n",
       "  'webBase': 'ADR4368',\n",
       "  'brand': 'STI',\n",
       "  'basePart': 'ADR4368',\n",
       "  'partDesc_en': 'HVAC Mode Door Actuator',\n",
       "  'partLongDesc_en': 'HVAC Mode Door Actuator',\n",
       "  'pop': 'X',\n",
       "  'partComment': None,\n",
       "  'qtyEach': 1,\n",
       "  'webColumn_Id': None,\n",
       "  'categoryName_en': None,\n",
       "  'vehicleId': None,\n",
       "  'mfg': None,\n",
       "  'mfG_Part': None,\n",
       "  'maxRows': 1,\n",
       "  'brandLink': None,\n",
       "  'imageUrl': None},\n",
       " 'pp': {'buyersGuides': [{'basePart': 'ADR4368',\n",
       "    'buyersGuideId': 125510,\n",
       "    'buyersGuideDesc': 'Hyundai Santa Fe (18-13)'},\n",
       "   {'basePart': 'ADR4368',\n",
       "    'buyersGuideId': 128125,\n",
       "    'buyersGuideDesc': 'Hyundai Santa Fe Sport (18-13)'},\n",
       "   {'basePart': 'ADR4368',\n",
       "    'buyersGuideId': 129409,\n",
       "    'buyersGuideDesc': 'Hyundai Santa Fe XL (18-13)'},\n",
       "   {'basePart': 'ADR4368',\n",
       "    'buyersGuideId': 115654,\n",
       "    'buyersGuideDesc': 'Kia Sorento (16)'}],\n",
       "  'partSpecs': [{'attributeCode': '110',\n",
       "    'attributeValue': 1905,\n",
       "    'attributeSort': 0,\n",
       "    'attributeName_en': 'Warranty',\n",
       "    'siteValue_en': '3 years/36,000 mile'},\n",
       "   {'attributeCode': '269',\n",
       "    'attributeValue': 10223,\n",
       "    'attributeSort': 0,\n",
       "    'attributeName_en': 'Actuation Style',\n",
       "    'siteValue_en': 'Floor'},\n",
       "   {'attributeCode': '389',\n",
       "    'attributeValue': 1843,\n",
       "    'attributeSort': 0,\n",
       "    'attributeName_en': 'Number Of Mounting Ears',\n",
       "    'siteValue_en': '3'},\n",
       "   {'attributeCode': '9',\n",
       "    'attributeValue': 4752,\n",
       "    'attributeSort': 10310,\n",
       "    'attributeName_en': 'Connector Gender',\n",
       "    'siteValue_en': 'Female'},\n",
       "   {'attributeCode': '14',\n",
       "    'attributeValue': 260,\n",
       "    'attributeSort': 10410,\n",
       "    'attributeName_en': 'Contents',\n",
       "    'siteValue_en': '1 Actuator'},\n",
       "   {'attributeCode': '104',\n",
       "    'attributeValue': 5956,\n",
       "    'attributeSort': 12380,\n",
       "    'attributeName_en': 'Terminal Gender',\n",
       "    'siteValue_en': 'Male'},\n",
       "   {'attributeCode': '164',\n",
       "    'attributeValue': 2568,\n",
       "    'attributeSort': 12390,\n",
       "    'attributeName_en': 'Terminal Quantity',\n",
       "    'siteValue_en': '5'},\n",
       "   {'attributeCode': '105',\n",
       "    'attributeValue': 6556,\n",
       "    'attributeSort': 12400,\n",
       "    'attributeName_en': 'Terminal Type',\n",
       "    'siteValue_en': 'Pin'}],\n",
       "  'imageUrls': [],\n",
       "  'relatedParts': [],\n",
       "  'relatedCategories': None,\n",
       "  'fandB': [{'basePart': 'ADR4368',\n",
       "    'fbId': '218967',\n",
       "    'fbDesc': 'Exact-match replacement properly restores function of failed OE unit',\n",
       "    'taB_Type': 'F&B Details',\n",
       "    'assetSort': 8,\n",
       "    'digiSort': 200},\n",
       "   {'basePart': 'ADR4368',\n",
       "    'fbId': '218602',\n",
       "    'fbDesc': 'Includes complete motor and circuit board ',\n",
       "    'taB_Type': 'F&B Details',\n",
       "    'assetSort': 8,\n",
       "    'digiSort': 210},\n",
       "   {'basePart': 'ADR4368',\n",
       "    'fbId': '218609',\n",
       "    'fbDesc': 'Manufactured with high-quality plastic moldings to ensure durability',\n",
       "    'taB_Type': 'F&B Details',\n",
       "    'assetSort': 8,\n",
       "    'digiSort': 220},\n",
       "   {'basePart': 'ADR4368',\n",
       "    'fbId': '291926',\n",
       "    'fbDesc': 'Extensively tested to ensure performance and reliability',\n",
       "    'taB_Type': 'F&B Details',\n",
       "    'assetSort': 8,\n",
       "    'digiSort': 230},\n",
       "   {'basePart': 'ADR4368',\n",
       "    'fbId': '269278',\n",
       "    'fbDesc': \"Designed to meet or exceed OE performance, providing today's technician with the quality parts needed to get the job done right, the first time\",\n",
       "    'taB_Type': 'F&B Details',\n",
       "    'assetSort': 8,\n",
       "    'digiSort': 240}],\n",
       "  'digiAssests': [{'asset_ID': 7,\n",
       "    'assetName': 'Videos',\n",
       "    'basePart': 'ADR4368',\n",
       "    'fileName': 'SMP Engineering Spotlight: Long Island City',\n",
       "    'fileURL': 'https://youtube.com/embed/vac2vas7vJY',\n",
       "    'comment_ID': '220958',\n",
       "    'comment': 'SMP Engineering Spotlight: Long Island City',\n",
       "    'assetSort': 7,\n",
       "    'digiSort': 80000,\n",
       "    'videoImage': None},\n",
       "   {'asset_ID': 7,\n",
       "    'assetName': 'Videos',\n",
       "    'basePart': 'ADR4368',\n",
       "    'fileName': 'SMP Parts App Update (3.0.9)',\n",
       "    'fileURL': 'https://youtube.com/embed/KpEXmjcKbMc',\n",
       "    'comment_ID': '270593',\n",
       "    'comment': 'SMP Parts App Update (3.0.9)',\n",
       "    'assetSort': 7,\n",
       "    'digiSort': 90090,\n",
       "    'videoImage': None}],\n",
       "  'categories': [{'basePart': 'ADR4368',\n",
       "    'webLayout_ID': 348300,\n",
       "    'categoryName_en': 'HVAC Mode Door Actuator',\n",
       "    'prodCategory_ASort': 21520}],\n",
       "  'crossRef': None,\n",
       "  'completeRepair': {'serviceParts': [],\n",
       "   'serviceSpec': [{'serviceName': 'Fuel Filter Flush (Required)'},\n",
       "    {'serviceName': 'Oil Change (Required)'}]}}}"
      ]
     },
     "execution_count": 8,
     "metadata": {},
     "output_type": "execute_result"
    }
   ],
   "source": [
    "info = json.loads(resp)\n",
    "\n",
    "info"
   ]
  },
  {
   "cell_type": "code",
   "execution_count": 9,
   "id": "f58a2b1b",
   "metadata": {},
   "outputs": [
    {
     "data": {
      "text/plain": [
       "'ADR4368'"
      ]
     },
     "execution_count": 9,
     "metadata": {},
     "output_type": "execute_result"
    }
   ],
   "source": [
    "part_number = info['pd']['basePart']\n",
    "\n",
    "part_number"
   ]
  },
  {
   "cell_type": "code",
   "execution_count": 10,
   "id": "c09b3e6e",
   "metadata": {},
   "outputs": [
    {
     "data": {
      "text/plain": [
       "'HVAC Mode Door Actuator'"
      ]
     },
     "execution_count": 10,
     "metadata": {},
     "output_type": "execute_result"
    }
   ],
   "source": [
    "part_type = info['pd']['partDesc_en']\n",
    "\n",
    "part_type"
   ]
  },
  {
   "cell_type": "code",
   "execution_count": 11,
   "id": "347a9a1c",
   "metadata": {},
   "outputs": [
    {
     "data": {
      "text/plain": [
       "'HVAC Mode Door Actuator'"
      ]
     },
     "execution_count": 11,
     "metadata": {},
     "output_type": "execute_result"
    }
   ],
   "source": [
    "part_type_long = info['pd']['partLongDesc_en']\n",
    "\n",
    "part_type_long"
   ]
  },
  {
   "cell_type": "code",
   "execution_count": 12,
   "id": "70566afa",
   "metadata": {},
   "outputs": [
    {
     "data": {
      "text/plain": [
       "'STI'"
      ]
     },
     "execution_count": 12,
     "metadata": {},
     "output_type": "execute_result"
    }
   ],
   "source": [
    "brand = info['pd']['brand']\n",
    "\n",
    "brand"
   ]
  },
  {
   "cell_type": "code",
   "execution_count": 13,
   "id": "fb919988",
   "metadata": {},
   "outputs": [
    {
     "data": {
      "text/plain": [
       "'X'"
      ]
     },
     "execution_count": 13,
     "metadata": {},
     "output_type": "execute_result"
    }
   ],
   "source": [
    "pop = info['pd']['pop']\n",
    "\n",
    "pop"
   ]
  },
  {
   "cell_type": "code",
   "execution_count": 14,
   "id": "80fbfaee",
   "metadata": {},
   "outputs": [
    {
     "data": {
      "text/plain": [
       "1"
      ]
     },
     "execution_count": 14,
     "metadata": {},
     "output_type": "execute_result"
    }
   ],
   "source": [
    "per_car = info['pd']['qtyEach']\n",
    "\n",
    "per_car"
   ]
  },
  {
   "cell_type": "code",
   "execution_count": 15,
   "id": "4da612c1",
   "metadata": {},
   "outputs": [
    {
     "name": "stdout",
     "output_type": "stream",
     "text": [
      "Hyundai Santa Fe (18-13)\n",
      "Hyundai Santa Fe Sport (18-13)\n",
      "Hyundai Santa Fe XL (18-13)\n",
      "Kia Sorento (16)\n"
     ]
    }
   ],
   "source": [
    "list_vehicle = []\n",
    "for _ in info['pp']['buyersGuides']:\n",
    "    list_vehicle.append(_['buyersGuideDesc'])\n",
    "    \n",
    "vehicle = '\\n'.join(list_vehicle)\n",
    "\n",
    "print(vehicle)"
   ]
  },
  {
   "cell_type": "code",
   "execution_count": 16,
   "id": "c7cfd964",
   "metadata": {},
   "outputs": [
    {
     "data": {
      "text/html": [
       "<div>\n",
       "<style scoped>\n",
       "    .dataframe tbody tr th:only-of-type {\n",
       "        vertical-align: middle;\n",
       "    }\n",
       "\n",
       "    .dataframe tbody tr th {\n",
       "        vertical-align: top;\n",
       "    }\n",
       "\n",
       "    .dataframe thead th {\n",
       "        text-align: right;\n",
       "    }\n",
       "</style>\n",
       "<table border=\"1\" class=\"dataframe\">\n",
       "  <thead>\n",
       "    <tr style=\"text-align: right;\">\n",
       "      <th></th>\n",
       "      <th>status</th>\n",
       "      <th>序号</th>\n",
       "      <th>Part_Number</th>\n",
       "      <th>Part_Type</th>\n",
       "      <th>Part_Type_Long</th>\n",
       "      <th>Brand</th>\n",
       "      <th>Pop</th>\n",
       "      <th>Per_Car</th>\n",
       "      <th>Vehicle</th>\n",
       "      <th>Pic</th>\n",
       "      <th>Url</th>\n",
       "      <th>Src</th>\n",
       "    </tr>\n",
       "  </thead>\n",
       "  <tbody>\n",
       "    <tr>\n",
       "      <th>0</th>\n",
       "      <td>ok</td>\n",
       "      <td></td>\n",
       "      <td>ADR4368</td>\n",
       "      <td>HVAC Mode Door Actuator</td>\n",
       "      <td>HVAC Mode Door Actuator</td>\n",
       "      <td>STI</td>\n",
       "      <td>X</td>\n",
       "      <td>1</td>\n",
       "      <td>Hyundai Santa Fe (18-13)\\nHyundai Santa Fe Spo...</td>\n",
       "      <td></td>\n",
       "      <td></td>\n",
       "      <td></td>\n",
       "    </tr>\n",
       "  </tbody>\n",
       "</table>\n",
       "</div>"
      ],
      "text/plain": [
       "  status 序号 Part_Number                Part_Type           Part_Type_Long  \\\n",
       "0     ok        ADR4368  HVAC Mode Door Actuator  HVAC Mode Door Actuator   \n",
       "\n",
       "  Brand Pop  Per_Car                                            Vehicle Pic  \\\n",
       "0   STI   X        1  Hyundai Santa Fe (18-13)\\nHyundai Santa Fe Spo...       \n",
       "\n",
       "  Url Src  \n",
       "0          "
      ]
     },
     "execution_count": 16,
     "metadata": {},
     "output_type": "execute_result"
    }
   ],
   "source": [
    "df_temp = pd.DataFrame([{'status': 'ok',\n",
    "                         '序号': '',\n",
    "                         'Part_Number': part_number,\n",
    "                         'Part_Type': part_type,\n",
    "                         'Part_Type_Long': part_type_long,\n",
    "                         'Brand': brand,\n",
    "                         'Pop': pop,\n",
    "                         'Per_Car': per_car,\n",
    "                         'Vehicle': vehicle,\n",
    "                         'Pic': '',\n",
    "                         'Url': '',\n",
    "                         'Src': ''}])\n",
    "\n",
    "df_temp"
   ]
  },
  {
   "cell_type": "code",
   "execution_count": 17,
   "id": "c0bac62e",
   "metadata": {},
   "outputs": [
    {
     "data": {
      "text/html": [
       "<div>\n",
       "<style scoped>\n",
       "    .dataframe tbody tr th:only-of-type {\n",
       "        vertical-align: middle;\n",
       "    }\n",
       "\n",
       "    .dataframe tbody tr th {\n",
       "        vertical-align: top;\n",
       "    }\n",
       "\n",
       "    .dataframe thead th {\n",
       "        text-align: right;\n",
       "    }\n",
       "</style>\n",
       "<table border=\"1\" class=\"dataframe\">\n",
       "  <thead>\n",
       "    <tr style=\"text-align: right;\">\n",
       "      <th></th>\n",
       "      <th>status</th>\n",
       "      <th>序号</th>\n",
       "      <th>Part_Number</th>\n",
       "      <th>Part_Type</th>\n",
       "      <th>Part_Type_Long</th>\n",
       "      <th>Brand</th>\n",
       "      <th>Pop</th>\n",
       "      <th>Per_Car</th>\n",
       "      <th>Vehicle</th>\n",
       "      <th>Pic</th>\n",
       "      <th>Url</th>\n",
       "      <th>Src</th>\n",
       "      <th>warranty</th>\n",
       "      <th>actuation style</th>\n",
       "      <th>number of mounting ears</th>\n",
       "      <th>connector gender</th>\n",
       "      <th>contents</th>\n",
       "      <th>terminal gender</th>\n",
       "      <th>terminal quantity</th>\n",
       "      <th>terminal type</th>\n",
       "    </tr>\n",
       "  </thead>\n",
       "  <tbody>\n",
       "    <tr>\n",
       "      <th>0</th>\n",
       "      <td>ok</td>\n",
       "      <td></td>\n",
       "      <td>ADR4368</td>\n",
       "      <td>HVAC Mode Door Actuator</td>\n",
       "      <td>HVAC Mode Door Actuator</td>\n",
       "      <td>STI</td>\n",
       "      <td>X</td>\n",
       "      <td>1</td>\n",
       "      <td>Hyundai Santa Fe (18-13)\\nHyundai Santa Fe Spo...</td>\n",
       "      <td></td>\n",
       "      <td></td>\n",
       "      <td></td>\n",
       "      <td>3 years/36,000 mile</td>\n",
       "      <td>Floor</td>\n",
       "      <td>3</td>\n",
       "      <td>Female</td>\n",
       "      <td>1 Actuator</td>\n",
       "      <td>Male</td>\n",
       "      <td>5</td>\n",
       "      <td>Pin</td>\n",
       "    </tr>\n",
       "  </tbody>\n",
       "</table>\n",
       "</div>"
      ],
      "text/plain": [
       "  status 序号 Part_Number                Part_Type           Part_Type_Long  \\\n",
       "0     ok        ADR4368  HVAC Mode Door Actuator  HVAC Mode Door Actuator   \n",
       "\n",
       "  Brand Pop  Per_Car                                            Vehicle Pic  \\\n",
       "0   STI   X        1  Hyundai Santa Fe (18-13)\\nHyundai Santa Fe Spo...       \n",
       "\n",
       "  Url Src             warranty actuation style number of mounting ears  \\\n",
       "0          3 years/36,000 mile           Floor                       3   \n",
       "\n",
       "  connector gender    contents terminal gender terminal quantity terminal type  \n",
       "0           Female  1 Actuator            Male                 5           Pin  "
      ]
     },
     "execution_count": 17,
     "metadata": {},
     "output_type": "execute_result"
    }
   ],
   "source": [
    "for name_value in info['pp']['partSpecs']:\n",
    "    df_temp[name_value['attributeName_en'].lower()] = name_value['siteValue_en']\n",
    "    \n",
    "df = pd.concat([df, df_temp], ignore_index=True).fillna('')\n",
    "\n",
    "df"
   ]
  },
  {
   "cell_type": "code",
   "execution_count": null,
   "id": "8602774c",
   "metadata": {},
   "outputs": [],
   "source": []
  }
 ],
 "metadata": {
  "kernelspec": {
   "display_name": "Python 3 (ipykernel)",
   "language": "python",
   "name": "python3"
  },
  "language_info": {
   "codemirror_mode": {
    "name": "ipython",
    "version": 3
   },
   "file_extension": ".py",
   "mimetype": "text/x-python",
   "name": "python",
   "nbconvert_exporter": "python",
   "pygments_lexer": "ipython3",
   "version": "3.11.5"
  }
 },
 "nbformat": 4,
 "nbformat_minor": 5
}
