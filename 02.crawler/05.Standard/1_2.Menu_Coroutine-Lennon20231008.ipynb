{
 "cells": [
  {
   "cell_type": "code",
   "execution_count": 1,
   "id": "96129ce4",
   "metadata": {},
   "outputs": [
    {
     "name": "stdout",
     "output_type": "stream",
     "text": [
      "总数量：467\n",
      "\n"
     ]
    },
    {
     "name": "stderr",
     "output_type": "stream",
     "text": [
      "C:\\Users\\YangTeng\\AppData\\Local\\Temp\\ipykernel_2604\\3929323490.py:58: FutureWarning: Setting an item of incompatible dtype is deprecated and will raise in a future error of pandas. Value 'ok' has dtype incompatible with float64, please explicitly cast to a compatible dtype first.\n",
      "  df_temp.loc[0, 'status'] = 'ok'\n",
      "C:\\Users\\YangTeng\\AppData\\Local\\Temp\\ipykernel_2604\\3929323490.py:59: FutureWarning: Setting an item of incompatible dtype is deprecated and will raise in a future error of pandas. Value 'https://ecatalog.smpcorp.com/V2/STD/api/part/partsearch?filterType=n&searchType=p&imageSize=80&limit=1&sort=3&catFilter=-All-&yearFilter=-All-&makeFilter=-All-&modelFilter=-All-&engineFilter=-All-&attrCodeFilter=-All-&attrValueFilter=-All-&plkEngineMakeFilter=-All-&plkEngineModelFilter=-All-&plkEngineDispFilter=-All-&filter=Accelerator%20Pedal%20Sensor%20(APS)&start=18' has dtype incompatible with float64, please explicitly cast to a compatible dtype first.\n",
      "  df_temp.loc[0, 'Url'] = url\n",
      "C:\\Users\\YangTeng\\AppData\\Local\\Temp\\ipykernel_2604\\3929323490.py:58: FutureWarning: Setting an item of incompatible dtype is deprecated and will raise in a future error of pandas. Value 'ok' has dtype incompatible with float64, please explicitly cast to a compatible dtype first.\n",
      "  df_temp.loc[0, 'status'] = 'ok'\n",
      "C:\\Users\\YangTeng\\AppData\\Local\\Temp\\ipykernel_2604\\3929323490.py:59: FutureWarning: Setting an item of incompatible dtype is deprecated and will raise in a future error of pandas. Value 'https://ecatalog.smpcorp.com/V2/STD/api/part/partsearch?filterType=n&searchType=p&imageSize=80&limit=1&sort=3&catFilter=-All-&yearFilter=-All-&makeFilter=-All-&modelFilter=-All-&engineFilter=-All-&attrCodeFilter=-All-&attrValueFilter=-All-&plkEngineMakeFilter=-All-&plkEngineModelFilter=-All-&plkEngineDispFilter=-All-&filter=Accelerator%20Pedal%20Sensor%20(APS)&start=4' has dtype incompatible with float64, please explicitly cast to a compatible dtype first.\n",
      "  df_temp.loc[0, 'Url'] = url\n",
      "C:\\Users\\YangTeng\\AppData\\Local\\Temp\\ipykernel_2604\\3929323490.py:58: FutureWarning: Setting an item of incompatible dtype is deprecated and will raise in a future error of pandas. Value 'ok' has dtype incompatible with float64, please explicitly cast to a compatible dtype first.\n",
      "  df_temp.loc[0, 'status'] = 'ok'\n",
      "C:\\Users\\YangTeng\\AppData\\Local\\Temp\\ipykernel_2604\\3929323490.py:59: FutureWarning: Setting an item of incompatible dtype is deprecated and will raise in a future error of pandas. Value 'https://ecatalog.smpcorp.com/V2/STD/api/part/partsearch?filterType=n&searchType=p&imageSize=80&limit=1&sort=3&catFilter=-All-&yearFilter=-All-&makeFilter=-All-&modelFilter=-All-&engineFilter=-All-&attrCodeFilter=-All-&attrValueFilter=-All-&plkEngineMakeFilter=-All-&plkEngineModelFilter=-All-&plkEngineDispFilter=-All-&filter=Accelerator%20Pedal%20Sensor%20(APS)&start=16' has dtype incompatible with float64, please explicitly cast to a compatible dtype first.\n",
      "  df_temp.loc[0, 'Url'] = url\n",
      "C:\\Users\\YangTeng\\AppData\\Local\\Temp\\ipykernel_2604\\3929323490.py:58: FutureWarning: Setting an item of incompatible dtype is deprecated and will raise in a future error of pandas. Value 'ok' has dtype incompatible with float64, please explicitly cast to a compatible dtype first.\n",
      "  df_temp.loc[0, 'status'] = 'ok'\n",
      "C:\\Users\\YangTeng\\AppData\\Local\\Temp\\ipykernel_2604\\3929323490.py:59: FutureWarning: Setting an item of incompatible dtype is deprecated and will raise in a future error of pandas. Value 'https://ecatalog.smpcorp.com/V2/STD/api/part/partsearch?filterType=n&searchType=p&imageSize=80&limit=1&sort=3&catFilter=-All-&yearFilter=-All-&makeFilter=-All-&modelFilter=-All-&engineFilter=-All-&attrCodeFilter=-All-&attrValueFilter=-All-&plkEngineMakeFilter=-All-&plkEngineModelFilter=-All-&plkEngineDispFilter=-All-&filter=Accelerator%20Pedal%20Sensor%20(APS)&start=9' has dtype incompatible with float64, please explicitly cast to a compatible dtype first.\n",
      "  df_temp.loc[0, 'Url'] = url\n",
      "C:\\Users\\YangTeng\\AppData\\Local\\Temp\\ipykernel_2604\\3929323490.py:58: FutureWarning: Setting an item of incompatible dtype is deprecated and will raise in a future error of pandas. Value 'ok' has dtype incompatible with float64, please explicitly cast to a compatible dtype first.\n",
      "  df_temp.loc[0, 'status'] = 'ok'\n",
      "C:\\Users\\YangTeng\\AppData\\Local\\Temp\\ipykernel_2604\\3929323490.py:59: FutureWarning: Setting an item of incompatible dtype is deprecated and will raise in a future error of pandas. Value 'https://ecatalog.smpcorp.com/V2/STD/api/part/partsearch?filterType=n&searchType=p&imageSize=80&limit=1&sort=3&catFilter=-All-&yearFilter=-All-&makeFilter=-All-&modelFilter=-All-&engineFilter=-All-&attrCodeFilter=-All-&attrValueFilter=-All-&plkEngineMakeFilter=-All-&plkEngineModelFilter=-All-&plkEngineDispFilter=-All-&filter=Accelerator%20Pedal%20Sensor%20(APS)&start=12' has dtype incompatible with float64, please explicitly cast to a compatible dtype first.\n",
      "  df_temp.loc[0, 'Url'] = url\n"
     ]
    },
    {
     "name": "stdout",
     "output_type": "stream",
     "text": [
      "https://ecatalog.smpcorp.com/V2/STD/api/part/partsearch?filterType=n&searchType=p&imageSize=80&limit=1&sort=3&catFilter=-All-&yearFilter=-All-&makeFilter=-All-&modelFilter=-All-&engineFilter=-All-&attrCodeFilter=-All-&attrValueFilter=-All-&plkEngineMakeFilter=-All-&plkEngineModelFilter=-All-&plkEngineDispFilter=-All-&filter=Accelerator%20Pedal%20Sensor%20(APS)&start=18  <->  [ok] - 剩余数量：447\n",
      "https://ecatalog.smpcorp.com/V2/STD/api/part/partsearch?filterType=n&searchType=p&imageSize=80&limit=1&sort=3&catFilter=-All-&yearFilter=-All-&makeFilter=-All-&modelFilter=-All-&engineFilter=-All-&attrCodeFilter=-All-&attrValueFilter=-All-&plkEngineMakeFilter=-All-&plkEngineModelFilter=-All-&plkEngineDispFilter=-All-&filter=Accelerator%20Pedal%20Sensor%20(APS)&start=4  <->  [ok] - 剩余数量：446\n",
      "https://ecatalog.smpcorp.com/V2/STD/api/part/partsearch?filterType=n&searchType=p&imageSize=80&limit=1&sort=3&catFilter=-All-&yearFilter=-All-&makeFilter=-All-&modelFilter=-All-&engineFilter=-All-&attrCodeFilter=-All-&attrValueFilter=-All-&plkEngineMakeFilter=-All-&plkEngineModelFilter=-All-&plkEngineDispFilter=-All-&filter=Accelerator%20Pedal%20Sensor%20(APS)&start=16  <->  [ok] - 剩余数量：445\n",
      "https://ecatalog.smpcorp.com/V2/STD/api/part/partsearch?filterType=n&searchType=p&imageSize=80&limit=1&sort=3&catFilter=-All-&yearFilter=-All-&makeFilter=-All-&modelFilter=-All-&engineFilter=-All-&attrCodeFilter=-All-&attrValueFilter=-All-&plkEngineMakeFilter=-All-&plkEngineModelFilter=-All-&plkEngineDispFilter=-All-&filter=Accelerator%20Pedal%20Sensor%20(APS)&start=9  <->  [ok] - 剩余数量：444\n",
      "https://ecatalog.smpcorp.com/V2/STD/api/part/partsearch?filterType=n&searchType=p&imageSize=80&limit=1&sort=3&catFilter=-All-&yearFilter=-All-&makeFilter=-All-&modelFilter=-All-&engineFilter=-All-&attrCodeFilter=-All-&attrValueFilter=-All-&plkEngineMakeFilter=-All-&plkEngineModelFilter=-All-&plkEngineDispFilter=-All-&filter=Accelerator%20Pedal%20Sensor%20(APS)&start=12  <->  [ok] - 剩余数量：443\n"
     ]
    },
    {
     "name": "stderr",
     "output_type": "stream",
     "text": [
      "C:\\Users\\YangTeng\\AppData\\Local\\Temp\\ipykernel_2604\\3929323490.py:58: FutureWarning: Setting an item of incompatible dtype is deprecated and will raise in a future error of pandas. Value 'ok' has dtype incompatible with float64, please explicitly cast to a compatible dtype first.\n",
      "  df_temp.loc[0, 'status'] = 'ok'\n",
      "C:\\Users\\YangTeng\\AppData\\Local\\Temp\\ipykernel_2604\\3929323490.py:59: FutureWarning: Setting an item of incompatible dtype is deprecated and will raise in a future error of pandas. Value 'https://ecatalog.smpcorp.com/V2/STD/api/part/partsearch?filterType=n&searchType=p&imageSize=80&limit=1&sort=3&catFilter=-All-&yearFilter=-All-&makeFilter=-All-&modelFilter=-All-&engineFilter=-All-&attrCodeFilter=-All-&attrValueFilter=-All-&plkEngineMakeFilter=-All-&plkEngineModelFilter=-All-&plkEngineDispFilter=-All-&filter=Accelerator%20Pedal%20Sensor%20(APS)&start=3' has dtype incompatible with float64, please explicitly cast to a compatible dtype first.\n",
      "  df_temp.loc[0, 'Url'] = url\n",
      "C:\\Users\\YangTeng\\AppData\\Local\\Temp\\ipykernel_2604\\3929323490.py:58: FutureWarning: Setting an item of incompatible dtype is deprecated and will raise in a future error of pandas. Value 'ok' has dtype incompatible with float64, please explicitly cast to a compatible dtype first.\n",
      "  df_temp.loc[0, 'status'] = 'ok'\n",
      "C:\\Users\\YangTeng\\AppData\\Local\\Temp\\ipykernel_2604\\3929323490.py:59: FutureWarning: Setting an item of incompatible dtype is deprecated and will raise in a future error of pandas. Value 'https://ecatalog.smpcorp.com/V2/STD/api/part/partsearch?filterType=n&searchType=p&imageSize=80&limit=1&sort=3&catFilter=-All-&yearFilter=-All-&makeFilter=-All-&modelFilter=-All-&engineFilter=-All-&attrCodeFilter=-All-&attrValueFilter=-All-&plkEngineMakeFilter=-All-&plkEngineModelFilter=-All-&plkEngineDispFilter=-All-&filter=Accelerator%20Pedal%20Sensor%20(APS)&start=11' has dtype incompatible with float64, please explicitly cast to a compatible dtype first.\n",
      "  df_temp.loc[0, 'Url'] = url\n",
      "C:\\Users\\YangTeng\\AppData\\Local\\Temp\\ipykernel_2604\\3929323490.py:58: FutureWarning: Setting an item of incompatible dtype is deprecated and will raise in a future error of pandas. Value 'ok' has dtype incompatible with float64, please explicitly cast to a compatible dtype first.\n",
      "  df_temp.loc[0, 'status'] = 'ok'\n",
      "C:\\Users\\YangTeng\\AppData\\Local\\Temp\\ipykernel_2604\\3929323490.py:59: FutureWarning: Setting an item of incompatible dtype is deprecated and will raise in a future error of pandas. Value 'https://ecatalog.smpcorp.com/V2/STD/api/part/partsearch?filterType=n&searchType=p&imageSize=80&limit=1&sort=3&catFilter=-All-&yearFilter=-All-&makeFilter=-All-&modelFilter=-All-&engineFilter=-All-&attrCodeFilter=-All-&attrValueFilter=-All-&plkEngineMakeFilter=-All-&plkEngineModelFilter=-All-&plkEngineDispFilter=-All-&filter=Accelerator%20Pedal%20Sensor%20(APS)&start=0' has dtype incompatible with float64, please explicitly cast to a compatible dtype first.\n",
      "  df_temp.loc[0, 'Url'] = url\n",
      "C:\\Users\\YangTeng\\AppData\\Local\\Temp\\ipykernel_2604\\3929323490.py:58: FutureWarning: Setting an item of incompatible dtype is deprecated and will raise in a future error of pandas. Value 'ok' has dtype incompatible with float64, please explicitly cast to a compatible dtype first.\n",
      "  df_temp.loc[0, 'status'] = 'ok'\n",
      "C:\\Users\\YangTeng\\AppData\\Local\\Temp\\ipykernel_2604\\3929323490.py:59: FutureWarning: Setting an item of incompatible dtype is deprecated and will raise in a future error of pandas. Value 'https://ecatalog.smpcorp.com/V2/STD/api/part/partsearch?filterType=n&searchType=p&imageSize=80&limit=1&sort=3&catFilter=-All-&yearFilter=-All-&makeFilter=-All-&modelFilter=-All-&engineFilter=-All-&attrCodeFilter=-All-&attrValueFilter=-All-&plkEngineMakeFilter=-All-&plkEngineModelFilter=-All-&plkEngineDispFilter=-All-&filter=Accelerator%20Pedal%20Sensor%20(APS)&start=5' has dtype incompatible with float64, please explicitly cast to a compatible dtype first.\n",
      "  df_temp.loc[0, 'Url'] = url\n",
      "C:\\Users\\YangTeng\\AppData\\Local\\Temp\\ipykernel_2604\\3929323490.py:58: FutureWarning: Setting an item of incompatible dtype is deprecated and will raise in a future error of pandas. Value 'ok' has dtype incompatible with float64, please explicitly cast to a compatible dtype first.\n",
      "  df_temp.loc[0, 'status'] = 'ok'\n",
      "C:\\Users\\YangTeng\\AppData\\Local\\Temp\\ipykernel_2604\\3929323490.py:59: FutureWarning: Setting an item of incompatible dtype is deprecated and will raise in a future error of pandas. Value 'https://ecatalog.smpcorp.com/V2/STD/api/part/partsearch?filterType=n&searchType=p&imageSize=80&limit=1&sort=3&catFilter=-All-&yearFilter=-All-&makeFilter=-All-&modelFilter=-All-&engineFilter=-All-&attrCodeFilter=-All-&attrValueFilter=-All-&plkEngineMakeFilter=-All-&plkEngineModelFilter=-All-&plkEngineDispFilter=-All-&filter=Accelerator%20Pedal%20Sensor%20(APS)&start=2' has dtype incompatible with float64, please explicitly cast to a compatible dtype first.\n",
      "  df_temp.loc[0, 'Url'] = url\n",
      "C:\\Users\\YangTeng\\AppData\\Local\\Temp\\ipykernel_2604\\3929323490.py:58: FutureWarning: Setting an item of incompatible dtype is deprecated and will raise in a future error of pandas. Value 'ok' has dtype incompatible with float64, please explicitly cast to a compatible dtype first.\n",
      "  df_temp.loc[0, 'status'] = 'ok'\n",
      "C:\\Users\\YangTeng\\AppData\\Local\\Temp\\ipykernel_2604\\3929323490.py:59: FutureWarning: Setting an item of incompatible dtype is deprecated and will raise in a future error of pandas. Value 'https://ecatalog.smpcorp.com/V2/STD/api/part/partsearch?filterType=n&searchType=p&imageSize=80&limit=1&sort=3&catFilter=-All-&yearFilter=-All-&makeFilter=-All-&modelFilter=-All-&engineFilter=-All-&attrCodeFilter=-All-&attrValueFilter=-All-&plkEngineMakeFilter=-All-&plkEngineModelFilter=-All-&plkEngineDispFilter=-All-&filter=Accelerator%20Pedal%20Sensor%20(APS)&start=14' has dtype incompatible with float64, please explicitly cast to a compatible dtype first.\n",
      "  df_temp.loc[0, 'Url'] = url\n",
      "C:\\Users\\YangTeng\\AppData\\Local\\Temp\\ipykernel_2604\\3929323490.py:58: FutureWarning: Setting an item of incompatible dtype is deprecated and will raise in a future error of pandas. Value 'ok' has dtype incompatible with float64, please explicitly cast to a compatible dtype first.\n",
      "  df_temp.loc[0, 'status'] = 'ok'\n",
      "C:\\Users\\YangTeng\\AppData\\Local\\Temp\\ipykernel_2604\\3929323490.py:59: FutureWarning: Setting an item of incompatible dtype is deprecated and will raise in a future error of pandas. Value 'https://ecatalog.smpcorp.com/V2/STD/api/part/partsearch?filterType=n&searchType=p&imageSize=80&limit=1&sort=3&catFilter=-All-&yearFilter=-All-&makeFilter=-All-&modelFilter=-All-&engineFilter=-All-&attrCodeFilter=-All-&attrValueFilter=-All-&plkEngineMakeFilter=-All-&plkEngineModelFilter=-All-&plkEngineDispFilter=-All-&filter=Accelerator%20Pedal%20Sensor%20(APS)&start=17' has dtype incompatible with float64, please explicitly cast to a compatible dtype first.\n",
      "  df_temp.loc[0, 'Url'] = url\n",
      "C:\\Users\\YangTeng\\AppData\\Local\\Temp\\ipykernel_2604\\3929323490.py:58: FutureWarning: Setting an item of incompatible dtype is deprecated and will raise in a future error of pandas. Value 'ok' has dtype incompatible with float64, please explicitly cast to a compatible dtype first.\n",
      "  df_temp.loc[0, 'status'] = 'ok'\n",
      "C:\\Users\\YangTeng\\AppData\\Local\\Temp\\ipykernel_2604\\3929323490.py:59: FutureWarning: Setting an item of incompatible dtype is deprecated and will raise in a future error of pandas. Value 'https://ecatalog.smpcorp.com/V2/STD/api/part/partsearch?filterType=n&searchType=p&imageSize=80&limit=1&sort=3&catFilter=-All-&yearFilter=-All-&makeFilter=-All-&modelFilter=-All-&engineFilter=-All-&attrCodeFilter=-All-&attrValueFilter=-All-&plkEngineMakeFilter=-All-&plkEngineModelFilter=-All-&plkEngineDispFilter=-All-&filter=Accelerator%20Pedal%20Sensor%20(APS)&start=10' has dtype incompatible with float64, please explicitly cast to a compatible dtype first.\n",
      "  df_temp.loc[0, 'Url'] = url\n",
      "C:\\Users\\YangTeng\\AppData\\Local\\Temp\\ipykernel_2604\\3929323490.py:58: FutureWarning: Setting an item of incompatible dtype is deprecated and will raise in a future error of pandas. Value 'ok' has dtype incompatible with float64, please explicitly cast to a compatible dtype first.\n",
      "  df_temp.loc[0, 'status'] = 'ok'\n",
      "C:\\Users\\YangTeng\\AppData\\Local\\Temp\\ipykernel_2604\\3929323490.py:59: FutureWarning: Setting an item of incompatible dtype is deprecated and will raise in a future error of pandas. Value 'https://ecatalog.smpcorp.com/V2/STD/api/part/partsearch?filterType=n&searchType=p&imageSize=80&limit=1&sort=3&catFilter=-All-&yearFilter=-All-&makeFilter=-All-&modelFilter=-All-&engineFilter=-All-&attrCodeFilter=-All-&attrValueFilter=-All-&plkEngineMakeFilter=-All-&plkEngineModelFilter=-All-&plkEngineDispFilter=-All-&filter=Accelerator%20Pedal%20Sensor%20(APS)&start=19' has dtype incompatible with float64, please explicitly cast to a compatible dtype first.\n",
      "  df_temp.loc[0, 'Url'] = url\n"
     ]
    },
    {
     "name": "stdout",
     "output_type": "stream",
     "text": [
      "https://ecatalog.smpcorp.com/V2/STD/api/part/partsearch?filterType=n&searchType=p&imageSize=80&limit=1&sort=3&catFilter=-All-&yearFilter=-All-&makeFilter=-All-&modelFilter=-All-&engineFilter=-All-&attrCodeFilter=-All-&attrValueFilter=-All-&plkEngineMakeFilter=-All-&plkEngineModelFilter=-All-&plkEngineDispFilter=-All-&filter=Accelerator%20Pedal%20Sensor%20(APS)&start=3  <->  [ok] - 剩余数量：442\n",
      "https://ecatalog.smpcorp.com/V2/STD/api/part/partsearch?filterType=n&searchType=p&imageSize=80&limit=1&sort=3&catFilter=-All-&yearFilter=-All-&makeFilter=-All-&modelFilter=-All-&engineFilter=-All-&attrCodeFilter=-All-&attrValueFilter=-All-&plkEngineMakeFilter=-All-&plkEngineModelFilter=-All-&plkEngineDispFilter=-All-&filter=Accelerator%20Pedal%20Sensor%20(APS)&start=11  <->  [ok] - 剩余数量：441\n",
      "https://ecatalog.smpcorp.com/V2/STD/api/part/partsearch?filterType=n&searchType=p&imageSize=80&limit=1&sort=3&catFilter=-All-&yearFilter=-All-&makeFilter=-All-&modelFilter=-All-&engineFilter=-All-&attrCodeFilter=-All-&attrValueFilter=-All-&plkEngineMakeFilter=-All-&plkEngineModelFilter=-All-&plkEngineDispFilter=-All-&filter=Accelerator%20Pedal%20Sensor%20(APS)&start=0  <->  [ok] - 剩余数量：440\n",
      "https://ecatalog.smpcorp.com/V2/STD/api/part/partsearch?filterType=n&searchType=p&imageSize=80&limit=1&sort=3&catFilter=-All-&yearFilter=-All-&makeFilter=-All-&modelFilter=-All-&engineFilter=-All-&attrCodeFilter=-All-&attrValueFilter=-All-&plkEngineMakeFilter=-All-&plkEngineModelFilter=-All-&plkEngineDispFilter=-All-&filter=Accelerator%20Pedal%20Sensor%20(APS)&start=5  <->  [ok] - 剩余数量：439\n",
      "https://ecatalog.smpcorp.com/V2/STD/api/part/partsearch?filterType=n&searchType=p&imageSize=80&limit=1&sort=3&catFilter=-All-&yearFilter=-All-&makeFilter=-All-&modelFilter=-All-&engineFilter=-All-&attrCodeFilter=-All-&attrValueFilter=-All-&plkEngineMakeFilter=-All-&plkEngineModelFilter=-All-&plkEngineDispFilter=-All-&filter=Accelerator%20Pedal%20Sensor%20(APS)&start=2  <->  [ok] - 剩余数量：438\n",
      "https://ecatalog.smpcorp.com/V2/STD/api/part/partsearch?filterType=n&searchType=p&imageSize=80&limit=1&sort=3&catFilter=-All-&yearFilter=-All-&makeFilter=-All-&modelFilter=-All-&engineFilter=-All-&attrCodeFilter=-All-&attrValueFilter=-All-&plkEngineMakeFilter=-All-&plkEngineModelFilter=-All-&plkEngineDispFilter=-All-&filter=Accelerator%20Pedal%20Sensor%20(APS)&start=14  <->  [ok] - 剩余数量：437\n",
      "https://ecatalog.smpcorp.com/V2/STD/api/part/partsearch?filterType=n&searchType=p&imageSize=80&limit=1&sort=3&catFilter=-All-&yearFilter=-All-&makeFilter=-All-&modelFilter=-All-&engineFilter=-All-&attrCodeFilter=-All-&attrValueFilter=-All-&plkEngineMakeFilter=-All-&plkEngineModelFilter=-All-&plkEngineDispFilter=-All-&filter=Accelerator%20Pedal%20Sensor%20(APS)&start=17  <->  [ok] - 剩余数量：436\n",
      "https://ecatalog.smpcorp.com/V2/STD/api/part/partsearch?filterType=n&searchType=p&imageSize=80&limit=1&sort=3&catFilter=-All-&yearFilter=-All-&makeFilter=-All-&modelFilter=-All-&engineFilter=-All-&attrCodeFilter=-All-&attrValueFilter=-All-&plkEngineMakeFilter=-All-&plkEngineModelFilter=-All-&plkEngineDispFilter=-All-&filter=Accelerator%20Pedal%20Sensor%20(APS)&start=10  <->  [ok] - 剩余数量：435\n",
      "https://ecatalog.smpcorp.com/V2/STD/api/part/partsearch?filterType=n&searchType=p&imageSize=80&limit=1&sort=3&catFilter=-All-&yearFilter=-All-&makeFilter=-All-&modelFilter=-All-&engineFilter=-All-&attrCodeFilter=-All-&attrValueFilter=-All-&plkEngineMakeFilter=-All-&plkEngineModelFilter=-All-&plkEngineDispFilter=-All-&filter=Accelerator%20Pedal%20Sensor%20(APS)&start=19  <->  [ok] - 剩余数量：434\n"
     ]
    },
    {
     "name": "stderr",
     "output_type": "stream",
     "text": [
      "C:\\Users\\YangTeng\\AppData\\Local\\Temp\\ipykernel_2604\\3929323490.py:58: FutureWarning: Setting an item of incompatible dtype is deprecated and will raise in a future error of pandas. Value 'ok' has dtype incompatible with float64, please explicitly cast to a compatible dtype first.\n",
      "  df_temp.loc[0, 'status'] = 'ok'\n",
      "C:\\Users\\YangTeng\\AppData\\Local\\Temp\\ipykernel_2604\\3929323490.py:59: FutureWarning: Setting an item of incompatible dtype is deprecated and will raise in a future error of pandas. Value 'https://ecatalog.smpcorp.com/V2/STD/api/part/partsearch?filterType=n&searchType=p&imageSize=80&limit=1&sort=3&catFilter=-All-&yearFilter=-All-&makeFilter=-All-&modelFilter=-All-&engineFilter=-All-&attrCodeFilter=-All-&attrValueFilter=-All-&plkEngineMakeFilter=-All-&plkEngineModelFilter=-All-&plkEngineDispFilter=-All-&filter=Accelerator%20Pedal%20Sensor%20(APS)&start=20' has dtype incompatible with float64, please explicitly cast to a compatible dtype first.\n",
      "  df_temp.loc[0, 'Url'] = url\n"
     ]
    },
    {
     "name": "stdout",
     "output_type": "stream",
     "text": [
      "https://ecatalog.smpcorp.com/V2/STD/api/part/partsearch?filterType=n&searchType=p&imageSize=80&limit=1&sort=3&catFilter=-All-&yearFilter=-All-&makeFilter=-All-&modelFilter=-All-&engineFilter=-All-&attrCodeFilter=-All-&attrValueFilter=-All-&plkEngineMakeFilter=-All-&plkEngineModelFilter=-All-&plkEngineDispFilter=-All-&filter=Accelerator%20Pedal%20Sensor%20(APS)&start=20  <->  [ok] - 剩余数量：433\n"
     ]
    },
    {
     "name": "stderr",
     "output_type": "stream",
     "text": [
      "C:\\Users\\YangTeng\\AppData\\Local\\Temp\\ipykernel_2604\\3929323490.py:58: FutureWarning: Setting an item of incompatible dtype is deprecated and will raise in a future error of pandas. Value 'ok' has dtype incompatible with float64, please explicitly cast to a compatible dtype first.\n",
      "  df_temp.loc[0, 'status'] = 'ok'\n",
      "C:\\Users\\YangTeng\\AppData\\Local\\Temp\\ipykernel_2604\\3929323490.py:59: FutureWarning: Setting an item of incompatible dtype is deprecated and will raise in a future error of pandas. Value 'https://ecatalog.smpcorp.com/V2/STD/api/part/partsearch?filterType=n&searchType=p&imageSize=80&limit=1&sort=3&catFilter=-All-&yearFilter=-All-&makeFilter=-All-&modelFilter=-All-&engineFilter=-All-&attrCodeFilter=-All-&attrValueFilter=-All-&plkEngineMakeFilter=-All-&plkEngineModelFilter=-All-&plkEngineDispFilter=-All-&filter=Accelerator%20Pedal%20Sensor%20(APS)&start=15' has dtype incompatible with float64, please explicitly cast to a compatible dtype first.\n",
      "  df_temp.loc[0, 'Url'] = url\n",
      "C:\\Users\\YangTeng\\AppData\\Local\\Temp\\ipykernel_2604\\3929323490.py:58: FutureWarning: Setting an item of incompatible dtype is deprecated and will raise in a future error of pandas. Value 'ok' has dtype incompatible with float64, please explicitly cast to a compatible dtype first.\n",
      "  df_temp.loc[0, 'status'] = 'ok'\n",
      "C:\\Users\\YangTeng\\AppData\\Local\\Temp\\ipykernel_2604\\3929323490.py:59: FutureWarning: Setting an item of incompatible dtype is deprecated and will raise in a future error of pandas. Value 'https://ecatalog.smpcorp.com/V2/STD/api/part/partsearch?filterType=n&searchType=p&imageSize=80&limit=1&sort=3&catFilter=-All-&yearFilter=-All-&makeFilter=-All-&modelFilter=-All-&engineFilter=-All-&attrCodeFilter=-All-&attrValueFilter=-All-&plkEngineMakeFilter=-All-&plkEngineModelFilter=-All-&plkEngineDispFilter=-All-&filter=Accelerator%20Pedal%20Sensor%20(APS)&start=1' has dtype incompatible with float64, please explicitly cast to a compatible dtype first.\n",
      "  df_temp.loc[0, 'Url'] = url\n",
      "C:\\Users\\YangTeng\\AppData\\Local\\Temp\\ipykernel_2604\\3929323490.py:58: FutureWarning: Setting an item of incompatible dtype is deprecated and will raise in a future error of pandas. Value 'ok' has dtype incompatible with float64, please explicitly cast to a compatible dtype first.\n",
      "  df_temp.loc[0, 'status'] = 'ok'\n",
      "C:\\Users\\YangTeng\\AppData\\Local\\Temp\\ipykernel_2604\\3929323490.py:59: FutureWarning: Setting an item of incompatible dtype is deprecated and will raise in a future error of pandas. Value 'https://ecatalog.smpcorp.com/V2/STD/api/part/partsearch?filterType=n&searchType=p&imageSize=80&limit=1&sort=3&catFilter=-All-&yearFilter=-All-&makeFilter=-All-&modelFilter=-All-&engineFilter=-All-&attrCodeFilter=-All-&attrValueFilter=-All-&plkEngineMakeFilter=-All-&plkEngineModelFilter=-All-&plkEngineDispFilter=-All-&filter=Accelerator%20Pedal%20Sensor%20(APS)&start=8' has dtype incompatible with float64, please explicitly cast to a compatible dtype first.\n",
      "  df_temp.loc[0, 'Url'] = url\n",
      "C:\\Users\\YangTeng\\AppData\\Local\\Temp\\ipykernel_2604\\3929323490.py:58: FutureWarning: Setting an item of incompatible dtype is deprecated and will raise in a future error of pandas. Value 'ok' has dtype incompatible with float64, please explicitly cast to a compatible dtype first.\n",
      "  df_temp.loc[0, 'status'] = 'ok'\n",
      "C:\\Users\\YangTeng\\AppData\\Local\\Temp\\ipykernel_2604\\3929323490.py:59: FutureWarning: Setting an item of incompatible dtype is deprecated and will raise in a future error of pandas. Value 'https://ecatalog.smpcorp.com/V2/STD/api/part/partsearch?filterType=n&searchType=p&imageSize=80&limit=1&sort=3&catFilter=-All-&yearFilter=-All-&makeFilter=-All-&modelFilter=-All-&engineFilter=-All-&attrCodeFilter=-All-&attrValueFilter=-All-&plkEngineMakeFilter=-All-&plkEngineModelFilter=-All-&plkEngineDispFilter=-All-&filter=Accelerator%20Pedal%20Sensor%20(APS)&start=25' has dtype incompatible with float64, please explicitly cast to a compatible dtype first.\n",
      "  df_temp.loc[0, 'Url'] = url\n",
      "C:\\Users\\YangTeng\\AppData\\Local\\Temp\\ipykernel_2604\\3929323490.py:58: FutureWarning: Setting an item of incompatible dtype is deprecated and will raise in a future error of pandas. Value 'ok' has dtype incompatible with float64, please explicitly cast to a compatible dtype first.\n",
      "  df_temp.loc[0, 'status'] = 'ok'\n",
      "C:\\Users\\YangTeng\\AppData\\Local\\Temp\\ipykernel_2604\\3929323490.py:59: FutureWarning: Setting an item of incompatible dtype is deprecated and will raise in a future error of pandas. Value 'https://ecatalog.smpcorp.com/V2/STD/api/part/partsearch?filterType=n&searchType=p&imageSize=80&limit=1&sort=3&catFilter=-All-&yearFilter=-All-&makeFilter=-All-&modelFilter=-All-&engineFilter=-All-&attrCodeFilter=-All-&attrValueFilter=-All-&plkEngineMakeFilter=-All-&plkEngineModelFilter=-All-&plkEngineDispFilter=-All-&filter=Accelerator%20Pedal%20Sensor%20(APS)&start=29' has dtype incompatible with float64, please explicitly cast to a compatible dtype first.\n",
      "  df_temp.loc[0, 'Url'] = url\n",
      "C:\\Users\\YangTeng\\AppData\\Local\\Temp\\ipykernel_2604\\3929323490.py:58: FutureWarning: Setting an item of incompatible dtype is deprecated and will raise in a future error of pandas. Value 'ok' has dtype incompatible with float64, please explicitly cast to a compatible dtype first.\n",
      "  df_temp.loc[0, 'status'] = 'ok'\n",
      "C:\\Users\\YangTeng\\AppData\\Local\\Temp\\ipykernel_2604\\3929323490.py:59: FutureWarning: Setting an item of incompatible dtype is deprecated and will raise in a future error of pandas. Value 'https://ecatalog.smpcorp.com/V2/STD/api/part/partsearch?filterType=n&searchType=p&imageSize=80&limit=1&sort=3&catFilter=-All-&yearFilter=-All-&makeFilter=-All-&modelFilter=-All-&engineFilter=-All-&attrCodeFilter=-All-&attrValueFilter=-All-&plkEngineMakeFilter=-All-&plkEngineModelFilter=-All-&plkEngineDispFilter=-All-&filter=Accelerator%20Pedal%20Sensor%20(APS)&start=22' has dtype incompatible with float64, please explicitly cast to a compatible dtype first.\n",
      "  df_temp.loc[0, 'Url'] = url\n",
      "C:\\Users\\YangTeng\\AppData\\Local\\Temp\\ipykernel_2604\\3929323490.py:58: FutureWarning: Setting an item of incompatible dtype is deprecated and will raise in a future error of pandas. Value 'ok' has dtype incompatible with float64, please explicitly cast to a compatible dtype first.\n",
      "  df_temp.loc[0, 'status'] = 'ok'\n",
      "C:\\Users\\YangTeng\\AppData\\Local\\Temp\\ipykernel_2604\\3929323490.py:59: FutureWarning: Setting an item of incompatible dtype is deprecated and will raise in a future error of pandas. Value 'https://ecatalog.smpcorp.com/V2/STD/api/part/partsearch?filterType=n&searchType=p&imageSize=80&limit=1&sort=3&catFilter=-All-&yearFilter=-All-&makeFilter=-All-&modelFilter=-All-&engineFilter=-All-&attrCodeFilter=-All-&attrValueFilter=-All-&plkEngineMakeFilter=-All-&plkEngineModelFilter=-All-&plkEngineDispFilter=-All-&filter=Accelerator%20Pedal%20Sensor%20(APS)&start=28' has dtype incompatible with float64, please explicitly cast to a compatible dtype first.\n",
      "  df_temp.loc[0, 'Url'] = url\n",
      "C:\\Users\\YangTeng\\AppData\\Local\\Temp\\ipykernel_2604\\3929323490.py:58: FutureWarning: Setting an item of incompatible dtype is deprecated and will raise in a future error of pandas. Value 'ok' has dtype incompatible with float64, please explicitly cast to a compatible dtype first.\n",
      "  df_temp.loc[0, 'status'] = 'ok'\n",
      "C:\\Users\\YangTeng\\AppData\\Local\\Temp\\ipykernel_2604\\3929323490.py:59: FutureWarning: Setting an item of incompatible dtype is deprecated and will raise in a future error of pandas. Value 'https://ecatalog.smpcorp.com/V2/STD/api/part/partsearch?filterType=n&searchType=p&imageSize=80&limit=1&sort=3&catFilter=-All-&yearFilter=-All-&makeFilter=-All-&modelFilter=-All-&engineFilter=-All-&attrCodeFilter=-All-&attrValueFilter=-All-&plkEngineMakeFilter=-All-&plkEngineModelFilter=-All-&plkEngineDispFilter=-All-&filter=Accelerator%20Pedal%20Sensor%20(APS)&start=24' has dtype incompatible with float64, please explicitly cast to a compatible dtype first.\n",
      "  df_temp.loc[0, 'Url'] = url\n",
      "C:\\Users\\YangTeng\\AppData\\Local\\Temp\\ipykernel_2604\\3929323490.py:58: FutureWarning: Setting an item of incompatible dtype is deprecated and will raise in a future error of pandas. Value 'ok' has dtype incompatible with float64, please explicitly cast to a compatible dtype first.\n",
      "  df_temp.loc[0, 'status'] = 'ok'\n",
      "C:\\Users\\YangTeng\\AppData\\Local\\Temp\\ipykernel_2604\\3929323490.py:59: FutureWarning: Setting an item of incompatible dtype is deprecated and will raise in a future error of pandas. Value 'https://ecatalog.smpcorp.com/V2/STD/api/part/partsearch?filterType=n&searchType=p&imageSize=80&limit=1&sort=3&catFilter=-All-&yearFilter=-All-&makeFilter=-All-&modelFilter=-All-&engineFilter=-All-&attrCodeFilter=-All-&attrValueFilter=-All-&plkEngineMakeFilter=-All-&plkEngineModelFilter=-All-&plkEngineDispFilter=-All-&filter=Accelerator%20Pedal%20Sensor%20(APS)&start=32' has dtype incompatible with float64, please explicitly cast to a compatible dtype first.\n",
      "  df_temp.loc[0, 'Url'] = url\n"
     ]
    },
    {
     "name": "stdout",
     "output_type": "stream",
     "text": [
      "https://ecatalog.smpcorp.com/V2/STD/api/part/partsearch?filterType=n&searchType=p&imageSize=80&limit=1&sort=3&catFilter=-All-&yearFilter=-All-&makeFilter=-All-&modelFilter=-All-&engineFilter=-All-&attrCodeFilter=-All-&attrValueFilter=-All-&plkEngineMakeFilter=-All-&plkEngineModelFilter=-All-&plkEngineDispFilter=-All-&filter=Accelerator%20Pedal%20Sensor%20(APS)&start=15  <->  [ok] - 剩余数量：432\n",
      "https://ecatalog.smpcorp.com/V2/STD/api/part/partsearch?filterType=n&searchType=p&imageSize=80&limit=1&sort=3&catFilter=-All-&yearFilter=-All-&makeFilter=-All-&modelFilter=-All-&engineFilter=-All-&attrCodeFilter=-All-&attrValueFilter=-All-&plkEngineMakeFilter=-All-&plkEngineModelFilter=-All-&plkEngineDispFilter=-All-&filter=Accelerator%20Pedal%20Sensor%20(APS)&start=1  <->  [ok] - 剩余数量：431\n",
      "https://ecatalog.smpcorp.com/V2/STD/api/part/partsearch?filterType=n&searchType=p&imageSize=80&limit=1&sort=3&catFilter=-All-&yearFilter=-All-&makeFilter=-All-&modelFilter=-All-&engineFilter=-All-&attrCodeFilter=-All-&attrValueFilter=-All-&plkEngineMakeFilter=-All-&plkEngineModelFilter=-All-&plkEngineDispFilter=-All-&filter=Accelerator%20Pedal%20Sensor%20(APS)&start=8  <->  [ok] - 剩余数量：430\n",
      "https://ecatalog.smpcorp.com/V2/STD/api/part/partsearch?filterType=n&searchType=p&imageSize=80&limit=1&sort=3&catFilter=-All-&yearFilter=-All-&makeFilter=-All-&modelFilter=-All-&engineFilter=-All-&attrCodeFilter=-All-&attrValueFilter=-All-&plkEngineMakeFilter=-All-&plkEngineModelFilter=-All-&plkEngineDispFilter=-All-&filter=Accelerator%20Pedal%20Sensor%20(APS)&start=25  <->  [ok] - 剩余数量：429\n",
      "https://ecatalog.smpcorp.com/V2/STD/api/part/partsearch?filterType=n&searchType=p&imageSize=80&limit=1&sort=3&catFilter=-All-&yearFilter=-All-&makeFilter=-All-&modelFilter=-All-&engineFilter=-All-&attrCodeFilter=-All-&attrValueFilter=-All-&plkEngineMakeFilter=-All-&plkEngineModelFilter=-All-&plkEngineDispFilter=-All-&filter=Accelerator%20Pedal%20Sensor%20(APS)&start=29  <->  [ok] - 剩余数量：428\n",
      "https://ecatalog.smpcorp.com/V2/STD/api/part/partsearch?filterType=n&searchType=p&imageSize=80&limit=1&sort=3&catFilter=-All-&yearFilter=-All-&makeFilter=-All-&modelFilter=-All-&engineFilter=-All-&attrCodeFilter=-All-&attrValueFilter=-All-&plkEngineMakeFilter=-All-&plkEngineModelFilter=-All-&plkEngineDispFilter=-All-&filter=Accelerator%20Pedal%20Sensor%20(APS)&start=22  <->  [ok] - 剩余数量：427\n",
      "https://ecatalog.smpcorp.com/V2/STD/api/part/partsearch?filterType=n&searchType=p&imageSize=80&limit=1&sort=3&catFilter=-All-&yearFilter=-All-&makeFilter=-All-&modelFilter=-All-&engineFilter=-All-&attrCodeFilter=-All-&attrValueFilter=-All-&plkEngineMakeFilter=-All-&plkEngineModelFilter=-All-&plkEngineDispFilter=-All-&filter=Accelerator%20Pedal%20Sensor%20(APS)&start=28  <->  [ok] - 剩余数量：426\n",
      "https://ecatalog.smpcorp.com/V2/STD/api/part/partsearch?filterType=n&searchType=p&imageSize=80&limit=1&sort=3&catFilter=-All-&yearFilter=-All-&makeFilter=-All-&modelFilter=-All-&engineFilter=-All-&attrCodeFilter=-All-&attrValueFilter=-All-&plkEngineMakeFilter=-All-&plkEngineModelFilter=-All-&plkEngineDispFilter=-All-&filter=Accelerator%20Pedal%20Sensor%20(APS)&start=24  <->  [ok] - 剩余数量：425\n",
      "https://ecatalog.smpcorp.com/V2/STD/api/part/partsearch?filterType=n&searchType=p&imageSize=80&limit=1&sort=3&catFilter=-All-&yearFilter=-All-&makeFilter=-All-&modelFilter=-All-&engineFilter=-All-&attrCodeFilter=-All-&attrValueFilter=-All-&plkEngineMakeFilter=-All-&plkEngineModelFilter=-All-&plkEngineDispFilter=-All-&filter=Accelerator%20Pedal%20Sensor%20(APS)&start=32  <->  [ok] - 剩余数量：424\n"
     ]
    },
    {
     "name": "stderr",
     "output_type": "stream",
     "text": [
      "C:\\Users\\YangTeng\\AppData\\Local\\Temp\\ipykernel_2604\\3929323490.py:58: FutureWarning: Setting an item of incompatible dtype is deprecated and will raise in a future error of pandas. Value 'ok' has dtype incompatible with float64, please explicitly cast to a compatible dtype first.\n",
      "  df_temp.loc[0, 'status'] = 'ok'\n",
      "C:\\Users\\YangTeng\\AppData\\Local\\Temp\\ipykernel_2604\\3929323490.py:59: FutureWarning: Setting an item of incompatible dtype is deprecated and will raise in a future error of pandas. Value 'https://ecatalog.smpcorp.com/V2/STD/api/part/partsearch?filterType=n&searchType=p&imageSize=80&limit=1&sort=3&catFilter=-All-&yearFilter=-All-&makeFilter=-All-&modelFilter=-All-&engineFilter=-All-&attrCodeFilter=-All-&attrValueFilter=-All-&plkEngineMakeFilter=-All-&plkEngineModelFilter=-All-&plkEngineDispFilter=-All-&filter=Accelerator%20Pedal%20Sensor%20(APS)&start=23' has dtype incompatible with float64, please explicitly cast to a compatible dtype first.\n",
      "  df_temp.loc[0, 'Url'] = url\n"
     ]
    },
    {
     "name": "stdout",
     "output_type": "stream",
     "text": [
      "https://ecatalog.smpcorp.com/V2/STD/api/part/partsearch?filterType=n&searchType=p&imageSize=80&limit=1&sort=3&catFilter=-All-&yearFilter=-All-&makeFilter=-All-&modelFilter=-All-&engineFilter=-All-&attrCodeFilter=-All-&attrValueFilter=-All-&plkEngineMakeFilter=-All-&plkEngineModelFilter=-All-&plkEngineDispFilter=-All-&filter=Accelerator%20Pedal%20Sensor%20(APS)&start=23  <->  [ok] - 剩余数量：423\n"
     ]
    },
    {
     "name": "stderr",
     "output_type": "stream",
     "text": [
      "C:\\Users\\YangTeng\\AppData\\Local\\Temp\\ipykernel_2604\\3929323490.py:58: FutureWarning: Setting an item of incompatible dtype is deprecated and will raise in a future error of pandas. Value 'ok' has dtype incompatible with float64, please explicitly cast to a compatible dtype first.\n",
      "  df_temp.loc[0, 'status'] = 'ok'\n",
      "C:\\Users\\YangTeng\\AppData\\Local\\Temp\\ipykernel_2604\\3929323490.py:59: FutureWarning: Setting an item of incompatible dtype is deprecated and will raise in a future error of pandas. Value 'https://ecatalog.smpcorp.com/V2/STD/api/part/partsearch?filterType=n&searchType=p&imageSize=80&limit=1&sort=3&catFilter=-All-&yearFilter=-All-&makeFilter=-All-&modelFilter=-All-&engineFilter=-All-&attrCodeFilter=-All-&attrValueFilter=-All-&plkEngineMakeFilter=-All-&plkEngineModelFilter=-All-&plkEngineDispFilter=-All-&filter=Accelerator%20Pedal%20Sensor%20(APS)&start=30' has dtype incompatible with float64, please explicitly cast to a compatible dtype first.\n",
      "  df_temp.loc[0, 'Url'] = url\n",
      "C:\\Users\\YangTeng\\AppData\\Local\\Temp\\ipykernel_2604\\3929323490.py:58: FutureWarning: Setting an item of incompatible dtype is deprecated and will raise in a future error of pandas. Value 'ok' has dtype incompatible with float64, please explicitly cast to a compatible dtype first.\n",
      "  df_temp.loc[0, 'status'] = 'ok'\n",
      "C:\\Users\\YangTeng\\AppData\\Local\\Temp\\ipykernel_2604\\3929323490.py:59: FutureWarning: Setting an item of incompatible dtype is deprecated and will raise in a future error of pandas. Value 'https://ecatalog.smpcorp.com/V2/STD/api/part/partsearch?filterType=n&searchType=p&imageSize=80&limit=1&sort=3&catFilter=-All-&yearFilter=-All-&makeFilter=-All-&modelFilter=-All-&engineFilter=-All-&attrCodeFilter=-All-&attrValueFilter=-All-&plkEngineMakeFilter=-All-&plkEngineModelFilter=-All-&plkEngineDispFilter=-All-&filter=Accelerator%20Pedal%20Sensor%20(APS)&start=27' has dtype incompatible with float64, please explicitly cast to a compatible dtype first.\n",
      "  df_temp.loc[0, 'Url'] = url\n",
      "C:\\Users\\YangTeng\\AppData\\Local\\Temp\\ipykernel_2604\\3929323490.py:58: FutureWarning: Setting an item of incompatible dtype is deprecated and will raise in a future error of pandas. Value 'ok' has dtype incompatible with float64, please explicitly cast to a compatible dtype first.\n",
      "  df_temp.loc[0, 'status'] = 'ok'\n",
      "C:\\Users\\YangTeng\\AppData\\Local\\Temp\\ipykernel_2604\\3929323490.py:59: FutureWarning: Setting an item of incompatible dtype is deprecated and will raise in a future error of pandas. Value 'https://ecatalog.smpcorp.com/V2/STD/api/part/partsearch?filterType=n&searchType=p&imageSize=80&limit=1&sort=3&catFilter=-All-&yearFilter=-All-&makeFilter=-All-&modelFilter=-All-&engineFilter=-All-&attrCodeFilter=-All-&attrValueFilter=-All-&plkEngineMakeFilter=-All-&plkEngineModelFilter=-All-&plkEngineDispFilter=-All-&filter=Accelerator%20Pedal%20Sensor%20(APS)&start=26' has dtype incompatible with float64, please explicitly cast to a compatible dtype first.\n",
      "  df_temp.loc[0, 'Url'] = url\n",
      "C:\\Users\\YangTeng\\AppData\\Local\\Temp\\ipykernel_2604\\3929323490.py:58: FutureWarning: Setting an item of incompatible dtype is deprecated and will raise in a future error of pandas. Value 'ok' has dtype incompatible with float64, please explicitly cast to a compatible dtype first.\n",
      "  df_temp.loc[0, 'status'] = 'ok'\n",
      "C:\\Users\\YangTeng\\AppData\\Local\\Temp\\ipykernel_2604\\3929323490.py:59: FutureWarning: Setting an item of incompatible dtype is deprecated and will raise in a future error of pandas. Value 'https://ecatalog.smpcorp.com/V2/STD/api/part/partsearch?filterType=n&searchType=p&imageSize=80&limit=1&sort=3&catFilter=-All-&yearFilter=-All-&makeFilter=-All-&modelFilter=-All-&engineFilter=-All-&attrCodeFilter=-All-&attrValueFilter=-All-&plkEngineMakeFilter=-All-&plkEngineModelFilter=-All-&plkEngineDispFilter=-All-&filter=Accelerator%20Pedal%20Sensor%20(APS)&start=33' has dtype incompatible with float64, please explicitly cast to a compatible dtype first.\n",
      "  df_temp.loc[0, 'Url'] = url\n"
     ]
    },
    {
     "name": "stdout",
     "output_type": "stream",
     "text": [
      "https://ecatalog.smpcorp.com/V2/STD/api/part/partsearch?filterType=n&searchType=p&imageSize=80&limit=1&sort=3&catFilter=-All-&yearFilter=-All-&makeFilter=-All-&modelFilter=-All-&engineFilter=-All-&attrCodeFilter=-All-&attrValueFilter=-All-&plkEngineMakeFilter=-All-&plkEngineModelFilter=-All-&plkEngineDispFilter=-All-&filter=Accelerator%20Pedal%20Sensor%20(APS)&start=30  <->  [ok] - 剩余数量：422\n",
      "https://ecatalog.smpcorp.com/V2/STD/api/part/partsearch?filterType=n&searchType=p&imageSize=80&limit=1&sort=3&catFilter=-All-&yearFilter=-All-&makeFilter=-All-&modelFilter=-All-&engineFilter=-All-&attrCodeFilter=-All-&attrValueFilter=-All-&plkEngineMakeFilter=-All-&plkEngineModelFilter=-All-&plkEngineDispFilter=-All-&filter=Accelerator%20Pedal%20Sensor%20(APS)&start=27  <->  [ok] - 剩余数量：421\n",
      "https://ecatalog.smpcorp.com/V2/STD/api/part/partsearch?filterType=n&searchType=p&imageSize=80&limit=1&sort=3&catFilter=-All-&yearFilter=-All-&makeFilter=-All-&modelFilter=-All-&engineFilter=-All-&attrCodeFilter=-All-&attrValueFilter=-All-&plkEngineMakeFilter=-All-&plkEngineModelFilter=-All-&plkEngineDispFilter=-All-&filter=Accelerator%20Pedal%20Sensor%20(APS)&start=26  <->  [ok] - 剩余数量：420\n",
      "https://ecatalog.smpcorp.com/V2/STD/api/part/partsearch?filterType=n&searchType=p&imageSize=80&limit=1&sort=3&catFilter=-All-&yearFilter=-All-&makeFilter=-All-&modelFilter=-All-&engineFilter=-All-&attrCodeFilter=-All-&attrValueFilter=-All-&plkEngineMakeFilter=-All-&plkEngineModelFilter=-All-&plkEngineDispFilter=-All-&filter=Accelerator%20Pedal%20Sensor%20(APS)&start=33  <->  [ok] - 剩余数量：419\n"
     ]
    },
    {
     "name": "stderr",
     "output_type": "stream",
     "text": [
      "C:\\Users\\YangTeng\\AppData\\Local\\Temp\\ipykernel_2604\\3929323490.py:58: FutureWarning: Setting an item of incompatible dtype is deprecated and will raise in a future error of pandas. Value 'ok' has dtype incompatible with float64, please explicitly cast to a compatible dtype first.\n",
      "  df_temp.loc[0, 'status'] = 'ok'\n",
      "C:\\Users\\YangTeng\\AppData\\Local\\Temp\\ipykernel_2604\\3929323490.py:59: FutureWarning: Setting an item of incompatible dtype is deprecated and will raise in a future error of pandas. Value 'https://ecatalog.smpcorp.com/V2/STD/api/part/partsearch?filterType=n&searchType=p&imageSize=80&limit=1&sort=3&catFilter=-All-&yearFilter=-All-&makeFilter=-All-&modelFilter=-All-&engineFilter=-All-&attrCodeFilter=-All-&attrValueFilter=-All-&plkEngineMakeFilter=-All-&plkEngineModelFilter=-All-&plkEngineDispFilter=-All-&filter=Accelerator%20Pedal%20Sensor%20(APS)&start=31' has dtype incompatible with float64, please explicitly cast to a compatible dtype first.\n",
      "  df_temp.loc[0, 'Url'] = url\n",
      "C:\\Users\\YangTeng\\AppData\\Local\\Temp\\ipykernel_2604\\3929323490.py:58: FutureWarning: Setting an item of incompatible dtype is deprecated and will raise in a future error of pandas. Value 'ok' has dtype incompatible with float64, please explicitly cast to a compatible dtype first.\n",
      "  df_temp.loc[0, 'status'] = 'ok'\n",
      "C:\\Users\\YangTeng\\AppData\\Local\\Temp\\ipykernel_2604\\3929323490.py:59: FutureWarning: Setting an item of incompatible dtype is deprecated and will raise in a future error of pandas. Value 'https://ecatalog.smpcorp.com/V2/STD/api/part/partsearch?filterType=n&searchType=p&imageSize=80&limit=1&sort=3&catFilter=-All-&yearFilter=-All-&makeFilter=-All-&modelFilter=-All-&engineFilter=-All-&attrCodeFilter=-All-&attrValueFilter=-All-&plkEngineMakeFilter=-All-&plkEngineModelFilter=-All-&plkEngineDispFilter=-All-&filter=Accelerator%20Pedal%20Sensor%20(APS)&start=21' has dtype incompatible with float64, please explicitly cast to a compatible dtype first.\n",
      "  df_temp.loc[0, 'Url'] = url\n"
     ]
    },
    {
     "name": "stdout",
     "output_type": "stream",
     "text": [
      "https://ecatalog.smpcorp.com/V2/STD/api/part/partsearch?filterType=n&searchType=p&imageSize=80&limit=1&sort=3&catFilter=-All-&yearFilter=-All-&makeFilter=-All-&modelFilter=-All-&engineFilter=-All-&attrCodeFilter=-All-&attrValueFilter=-All-&plkEngineMakeFilter=-All-&plkEngineModelFilter=-All-&plkEngineDispFilter=-All-&filter=Accelerator%20Pedal%20Sensor%20(APS)&start=31  <->  [ok] - 剩余数量：418\n",
      "https://ecatalog.smpcorp.com/V2/STD/api/part/partsearch?filterType=n&searchType=p&imageSize=80&limit=1&sort=3&catFilter=-All-&yearFilter=-All-&makeFilter=-All-&modelFilter=-All-&engineFilter=-All-&attrCodeFilter=-All-&attrValueFilter=-All-&plkEngineMakeFilter=-All-&plkEngineModelFilter=-All-&plkEngineDispFilter=-All-&filter=Accelerator%20Pedal%20Sensor%20(APS)&start=21  <->  [ok] - 剩余数量：417\n"
     ]
    },
    {
     "name": "stderr",
     "output_type": "stream",
     "text": [
      "C:\\Users\\YangTeng\\AppData\\Local\\Temp\\ipykernel_2604\\3929323490.py:58: FutureWarning: Setting an item of incompatible dtype is deprecated and will raise in a future error of pandas. Value 'ok' has dtype incompatible with float64, please explicitly cast to a compatible dtype first.\n",
      "  df_temp.loc[0, 'status'] = 'ok'\n",
      "C:\\Users\\YangTeng\\AppData\\Local\\Temp\\ipykernel_2604\\3929323490.py:59: FutureWarning: Setting an item of incompatible dtype is deprecated and will raise in a future error of pandas. Value 'https://ecatalog.smpcorp.com/V2/STD/api/part/partsearch?filterType=n&searchType=p&imageSize=80&limit=1&sort=3&catFilter=-All-&yearFilter=-All-&makeFilter=-All-&modelFilter=-All-&engineFilter=-All-&attrCodeFilter=-All-&attrValueFilter=-All-&plkEngineMakeFilter=-All-&plkEngineModelFilter=-All-&plkEngineDispFilter=-All-&filter=Accelerator%20Pedal%20Sensor%20(APS)&start=41' has dtype incompatible with float64, please explicitly cast to a compatible dtype first.\n",
      "  df_temp.loc[0, 'Url'] = url\n",
      "C:\\Users\\YangTeng\\AppData\\Local\\Temp\\ipykernel_2604\\3929323490.py:58: FutureWarning: Setting an item of incompatible dtype is deprecated and will raise in a future error of pandas. Value 'ok' has dtype incompatible with float64, please explicitly cast to a compatible dtype first.\n",
      "  df_temp.loc[0, 'status'] = 'ok'\n",
      "C:\\Users\\YangTeng\\AppData\\Local\\Temp\\ipykernel_2604\\3929323490.py:59: FutureWarning: Setting an item of incompatible dtype is deprecated and will raise in a future error of pandas. Value 'https://ecatalog.smpcorp.com/V2/STD/api/part/partsearch?filterType=n&searchType=p&imageSize=80&limit=1&sort=3&catFilter=-All-&yearFilter=-All-&makeFilter=-All-&modelFilter=-All-&engineFilter=-All-&attrCodeFilter=-All-&attrValueFilter=-All-&plkEngineMakeFilter=-All-&plkEngineModelFilter=-All-&plkEngineDispFilter=-All-&filter=Accelerator%20Pedal%20Sensor%20(APS)&start=43' has dtype incompatible with float64, please explicitly cast to a compatible dtype first.\n",
      "  df_temp.loc[0, 'Url'] = url\n",
      "C:\\Users\\YangTeng\\AppData\\Local\\Temp\\ipykernel_2604\\3929323490.py:58: FutureWarning: Setting an item of incompatible dtype is deprecated and will raise in a future error of pandas. Value 'ok' has dtype incompatible with float64, please explicitly cast to a compatible dtype first.\n",
      "  df_temp.loc[0, 'status'] = 'ok'\n",
      "C:\\Users\\YangTeng\\AppData\\Local\\Temp\\ipykernel_2604\\3929323490.py:59: FutureWarning: Setting an item of incompatible dtype is deprecated and will raise in a future error of pandas. Value 'https://ecatalog.smpcorp.com/V2/STD/api/part/partsearch?filterType=n&searchType=p&imageSize=80&limit=1&sort=3&catFilter=-All-&yearFilter=-All-&makeFilter=-All-&modelFilter=-All-&engineFilter=-All-&attrCodeFilter=-All-&attrValueFilter=-All-&plkEngineMakeFilter=-All-&plkEngineModelFilter=-All-&plkEngineDispFilter=-All-&filter=Accelerator%20Pedal%20Sensor%20(APS)&start=34' has dtype incompatible with float64, please explicitly cast to a compatible dtype first.\n",
      "  df_temp.loc[0, 'Url'] = url\n",
      "C:\\Users\\YangTeng\\AppData\\Local\\Temp\\ipykernel_2604\\3929323490.py:58: FutureWarning: Setting an item of incompatible dtype is deprecated and will raise in a future error of pandas. Value 'ok' has dtype incompatible with float64, please explicitly cast to a compatible dtype first.\n",
      "  df_temp.loc[0, 'status'] = 'ok'\n",
      "C:\\Users\\YangTeng\\AppData\\Local\\Temp\\ipykernel_2604\\3929323490.py:59: FutureWarning: Setting an item of incompatible dtype is deprecated and will raise in a future error of pandas. Value 'https://ecatalog.smpcorp.com/V2/STD/api/part/partsearch?filterType=n&searchType=p&imageSize=80&limit=1&sort=3&catFilter=-All-&yearFilter=-All-&makeFilter=-All-&modelFilter=-All-&engineFilter=-All-&attrCodeFilter=-All-&attrValueFilter=-All-&plkEngineMakeFilter=-All-&plkEngineModelFilter=-All-&plkEngineDispFilter=-All-&filter=Accelerator%20Pedal%20Sensor%20(APS)&start=37' has dtype incompatible with float64, please explicitly cast to a compatible dtype first.\n",
      "  df_temp.loc[0, 'Url'] = url\n"
     ]
    },
    {
     "name": "stdout",
     "output_type": "stream",
     "text": [
      "https://ecatalog.smpcorp.com/V2/STD/api/part/partsearch?filterType=n&searchType=p&imageSize=80&limit=1&sort=3&catFilter=-All-&yearFilter=-All-&makeFilter=-All-&modelFilter=-All-&engineFilter=-All-&attrCodeFilter=-All-&attrValueFilter=-All-&plkEngineMakeFilter=-All-&plkEngineModelFilter=-All-&plkEngineDispFilter=-All-&filter=Accelerator%20Pedal%20Sensor%20(APS)&start=41  <->  [ok] - 剩余数量：416\n",
      "https://ecatalog.smpcorp.com/V2/STD/api/part/partsearch?filterType=n&searchType=p&imageSize=80&limit=1&sort=3&catFilter=-All-&yearFilter=-All-&makeFilter=-All-&modelFilter=-All-&engineFilter=-All-&attrCodeFilter=-All-&attrValueFilter=-All-&plkEngineMakeFilter=-All-&plkEngineModelFilter=-All-&plkEngineDispFilter=-All-&filter=Accelerator%20Pedal%20Sensor%20(APS)&start=43  <->  [ok] - 剩余数量：415\n",
      "https://ecatalog.smpcorp.com/V2/STD/api/part/partsearch?filterType=n&searchType=p&imageSize=80&limit=1&sort=3&catFilter=-All-&yearFilter=-All-&makeFilter=-All-&modelFilter=-All-&engineFilter=-All-&attrCodeFilter=-All-&attrValueFilter=-All-&plkEngineMakeFilter=-All-&plkEngineModelFilter=-All-&plkEngineDispFilter=-All-&filter=Accelerator%20Pedal%20Sensor%20(APS)&start=34  <->  [ok] - 剩余数量：414\n",
      "https://ecatalog.smpcorp.com/V2/STD/api/part/partsearch?filterType=n&searchType=p&imageSize=80&limit=1&sort=3&catFilter=-All-&yearFilter=-All-&makeFilter=-All-&modelFilter=-All-&engineFilter=-All-&attrCodeFilter=-All-&attrValueFilter=-All-&plkEngineMakeFilter=-All-&plkEngineModelFilter=-All-&plkEngineDispFilter=-All-&filter=Accelerator%20Pedal%20Sensor%20(APS)&start=37  <->  [ok] - 剩余数量：413\n"
     ]
    },
    {
     "name": "stderr",
     "output_type": "stream",
     "text": [
      "C:\\Users\\YangTeng\\AppData\\Local\\Temp\\ipykernel_2604\\3929323490.py:58: FutureWarning: Setting an item of incompatible dtype is deprecated and will raise in a future error of pandas. Value 'ok' has dtype incompatible with float64, please explicitly cast to a compatible dtype first.\n",
      "  df_temp.loc[0, 'status'] = 'ok'\n",
      "C:\\Users\\YangTeng\\AppData\\Local\\Temp\\ipykernel_2604\\3929323490.py:59: FutureWarning: Setting an item of incompatible dtype is deprecated and will raise in a future error of pandas. Value 'https://ecatalog.smpcorp.com/V2/STD/api/part/partsearch?filterType=n&searchType=p&imageSize=80&limit=1&sort=3&catFilter=-All-&yearFilter=-All-&makeFilter=-All-&modelFilter=-All-&engineFilter=-All-&attrCodeFilter=-All-&attrValueFilter=-All-&plkEngineMakeFilter=-All-&plkEngineModelFilter=-All-&plkEngineDispFilter=-All-&filter=Accelerator%20Pedal%20Sensor%20(APS)&start=13' has dtype incompatible with float64, please explicitly cast to a compatible dtype first.\n",
      "  df_temp.loc[0, 'Url'] = url\n",
      "C:\\Users\\YangTeng\\AppData\\Local\\Temp\\ipykernel_2604\\3929323490.py:58: FutureWarning: Setting an item of incompatible dtype is deprecated and will raise in a future error of pandas. Value 'ok' has dtype incompatible with float64, please explicitly cast to a compatible dtype first.\n",
      "  df_temp.loc[0, 'status'] = 'ok'\n",
      "C:\\Users\\YangTeng\\AppData\\Local\\Temp\\ipykernel_2604\\3929323490.py:59: FutureWarning: Setting an item of incompatible dtype is deprecated and will raise in a future error of pandas. Value 'https://ecatalog.smpcorp.com/V2/STD/api/part/partsearch?filterType=n&searchType=p&imageSize=80&limit=1&sort=3&catFilter=-All-&yearFilter=-All-&makeFilter=-All-&modelFilter=-All-&engineFilter=-All-&attrCodeFilter=-All-&attrValueFilter=-All-&plkEngineMakeFilter=-All-&plkEngineModelFilter=-All-&plkEngineDispFilter=-All-&filter=Accelerator%20Pedal%20Sensor%20(APS)&start=44' has dtype incompatible with float64, please explicitly cast to a compatible dtype first.\n",
      "  df_temp.loc[0, 'Url'] = url\n",
      "C:\\Users\\YangTeng\\AppData\\Local\\Temp\\ipykernel_2604\\3929323490.py:58: FutureWarning: Setting an item of incompatible dtype is deprecated and will raise in a future error of pandas. Value 'ok' has dtype incompatible with float64, please explicitly cast to a compatible dtype first.\n",
      "  df_temp.loc[0, 'status'] = 'ok'\n",
      "C:\\Users\\YangTeng\\AppData\\Local\\Temp\\ipykernel_2604\\3929323490.py:59: FutureWarning: Setting an item of incompatible dtype is deprecated and will raise in a future error of pandas. Value 'https://ecatalog.smpcorp.com/V2/STD/api/part/partsearch?filterType=n&searchType=p&imageSize=80&limit=1&sort=3&catFilter=-All-&yearFilter=-All-&makeFilter=-All-&modelFilter=-All-&engineFilter=-All-&attrCodeFilter=-All-&attrValueFilter=-All-&plkEngineMakeFilter=-All-&plkEngineModelFilter=-All-&plkEngineDispFilter=-All-&filter=Accelerator%20Pedal%20Sensor%20(APS)&start=35' has dtype incompatible with float64, please explicitly cast to a compatible dtype first.\n",
      "  df_temp.loc[0, 'Url'] = url\n"
     ]
    },
    {
     "name": "stdout",
     "output_type": "stream",
     "text": [
      "https://ecatalog.smpcorp.com/V2/STD/api/part/partsearch?filterType=n&searchType=p&imageSize=80&limit=1&sort=3&catFilter=-All-&yearFilter=-All-&makeFilter=-All-&modelFilter=-All-&engineFilter=-All-&attrCodeFilter=-All-&attrValueFilter=-All-&plkEngineMakeFilter=-All-&plkEngineModelFilter=-All-&plkEngineDispFilter=-All-&filter=Accelerator%20Pedal%20Sensor%20(APS)&start=13  <->  [ok] - 剩余数量：412\n",
      "https://ecatalog.smpcorp.com/V2/STD/api/part/partsearch?filterType=n&searchType=p&imageSize=80&limit=1&sort=3&catFilter=-All-&yearFilter=-All-&makeFilter=-All-&modelFilter=-All-&engineFilter=-All-&attrCodeFilter=-All-&attrValueFilter=-All-&plkEngineMakeFilter=-All-&plkEngineModelFilter=-All-&plkEngineDispFilter=-All-&filter=Accelerator%20Pedal%20Sensor%20(APS)&start=44  <->  [ok] - 剩余数量：411\n",
      "https://ecatalog.smpcorp.com/V2/STD/api/part/partsearch?filterType=n&searchType=p&imageSize=80&limit=1&sort=3&catFilter=-All-&yearFilter=-All-&makeFilter=-All-&modelFilter=-All-&engineFilter=-All-&attrCodeFilter=-All-&attrValueFilter=-All-&plkEngineMakeFilter=-All-&plkEngineModelFilter=-All-&plkEngineDispFilter=-All-&filter=Accelerator%20Pedal%20Sensor%20(APS)&start=35  <->  [ok] - 剩余数量：410\n"
     ]
    },
    {
     "name": "stderr",
     "output_type": "stream",
     "text": [
      "C:\\Users\\YangTeng\\AppData\\Local\\Temp\\ipykernel_2604\\3929323490.py:58: FutureWarning: Setting an item of incompatible dtype is deprecated and will raise in a future error of pandas. Value 'ok' has dtype incompatible with float64, please explicitly cast to a compatible dtype first.\n",
      "  df_temp.loc[0, 'status'] = 'ok'\n",
      "C:\\Users\\YangTeng\\AppData\\Local\\Temp\\ipykernel_2604\\3929323490.py:59: FutureWarning: Setting an item of incompatible dtype is deprecated and will raise in a future error of pandas. Value 'https://ecatalog.smpcorp.com/V2/STD/api/part/partsearch?filterType=n&searchType=p&imageSize=80&limit=1&sort=3&catFilter=-All-&yearFilter=-All-&makeFilter=-All-&modelFilter=-All-&engineFilter=-All-&attrCodeFilter=-All-&attrValueFilter=-All-&plkEngineMakeFilter=-All-&plkEngineModelFilter=-All-&plkEngineDispFilter=-All-&filter=Accelerator%20Pedal%20Sensor%20(APS)&start=36' has dtype incompatible with float64, please explicitly cast to a compatible dtype first.\n",
      "  df_temp.loc[0, 'Url'] = url\n"
     ]
    },
    {
     "name": "stdout",
     "output_type": "stream",
     "text": [
      "https://ecatalog.smpcorp.com/V2/STD/api/part/partsearch?filterType=n&searchType=p&imageSize=80&limit=1&sort=3&catFilter=-All-&yearFilter=-All-&makeFilter=-All-&modelFilter=-All-&engineFilter=-All-&attrCodeFilter=-All-&attrValueFilter=-All-&plkEngineMakeFilter=-All-&plkEngineModelFilter=-All-&plkEngineDispFilter=-All-&filter=Accelerator%20Pedal%20Sensor%20(APS)&start=36  <->  [ok] - 剩余数量：409\n"
     ]
    },
    {
     "name": "stderr",
     "output_type": "stream",
     "text": [
      "C:\\Users\\YangTeng\\AppData\\Local\\Temp\\ipykernel_2604\\3929323490.py:58: FutureWarning: Setting an item of incompatible dtype is deprecated and will raise in a future error of pandas. Value 'ok' has dtype incompatible with float64, please explicitly cast to a compatible dtype first.\n",
      "  df_temp.loc[0, 'status'] = 'ok'\n",
      "C:\\Users\\YangTeng\\AppData\\Local\\Temp\\ipykernel_2604\\3929323490.py:59: FutureWarning: Setting an item of incompatible dtype is deprecated and will raise in a future error of pandas. Value 'https://ecatalog.smpcorp.com/V2/STD/api/part/partsearch?filterType=n&searchType=p&imageSize=80&limit=1&sort=3&catFilter=-All-&yearFilter=-All-&makeFilter=-All-&modelFilter=-All-&engineFilter=-All-&attrCodeFilter=-All-&attrValueFilter=-All-&plkEngineMakeFilter=-All-&plkEngineModelFilter=-All-&plkEngineDispFilter=-All-&filter=Accelerator%20Pedal%20Sensor%20(APS)&start=42' has dtype incompatible with float64, please explicitly cast to a compatible dtype first.\n",
      "  df_temp.loc[0, 'Url'] = url\n"
     ]
    },
    {
     "name": "stdout",
     "output_type": "stream",
     "text": [
      "https://ecatalog.smpcorp.com/V2/STD/api/part/partsearch?filterType=n&searchType=p&imageSize=80&limit=1&sort=3&catFilter=-All-&yearFilter=-All-&makeFilter=-All-&modelFilter=-All-&engineFilter=-All-&attrCodeFilter=-All-&attrValueFilter=-All-&plkEngineMakeFilter=-All-&plkEngineModelFilter=-All-&plkEngineDispFilter=-All-&filter=Accelerator%20Pedal%20Sensor%20(APS)&start=42  <->  [ok] - 剩余数量：408\n"
     ]
    },
    {
     "name": "stderr",
     "output_type": "stream",
     "text": [
      "C:\\Users\\YangTeng\\AppData\\Local\\Temp\\ipykernel_2604\\3929323490.py:58: FutureWarning: Setting an item of incompatible dtype is deprecated and will raise in a future error of pandas. Value 'ok' has dtype incompatible with float64, please explicitly cast to a compatible dtype first.\n",
      "  df_temp.loc[0, 'status'] = 'ok'\n",
      "C:\\Users\\YangTeng\\AppData\\Local\\Temp\\ipykernel_2604\\3929323490.py:59: FutureWarning: Setting an item of incompatible dtype is deprecated and will raise in a future error of pandas. Value 'https://ecatalog.smpcorp.com/V2/STD/api/part/partsearch?filterType=n&searchType=p&imageSize=80&limit=1&sort=3&catFilter=-All-&yearFilter=-All-&makeFilter=-All-&modelFilter=-All-&engineFilter=-All-&attrCodeFilter=-All-&attrValueFilter=-All-&plkEngineMakeFilter=-All-&plkEngineModelFilter=-All-&plkEngineDispFilter=-All-&filter=Accelerator%20Pedal%20Sensor%20(APS)&start=45' has dtype incompatible with float64, please explicitly cast to a compatible dtype first.\n",
      "  df_temp.loc[0, 'Url'] = url\n",
      "C:\\Users\\YangTeng\\AppData\\Local\\Temp\\ipykernel_2604\\3929323490.py:58: FutureWarning: Setting an item of incompatible dtype is deprecated and will raise in a future error of pandas. Value 'ok' has dtype incompatible with float64, please explicitly cast to a compatible dtype first.\n",
      "  df_temp.loc[0, 'status'] = 'ok'\n",
      "C:\\Users\\YangTeng\\AppData\\Local\\Temp\\ipykernel_2604\\3929323490.py:59: FutureWarning: Setting an item of incompatible dtype is deprecated and will raise in a future error of pandas. Value 'https://ecatalog.smpcorp.com/V2/STD/api/part/partsearch?filterType=n&searchType=p&imageSize=80&limit=1&sort=3&catFilter=-All-&yearFilter=-All-&makeFilter=-All-&modelFilter=-All-&engineFilter=-All-&attrCodeFilter=-All-&attrValueFilter=-All-&plkEngineMakeFilter=-All-&plkEngineModelFilter=-All-&plkEngineDispFilter=-All-&filter=Accelerator%20Pedal%20Sensor%20(APS)&start=50' has dtype incompatible with float64, please explicitly cast to a compatible dtype first.\n",
      "  df_temp.loc[0, 'Url'] = url\n",
      "C:\\Users\\YangTeng\\AppData\\Local\\Temp\\ipykernel_2604\\3929323490.py:58: FutureWarning: Setting an item of incompatible dtype is deprecated and will raise in a future error of pandas. Value 'ok' has dtype incompatible with float64, please explicitly cast to a compatible dtype first.\n",
      "  df_temp.loc[0, 'status'] = 'ok'\n",
      "C:\\Users\\YangTeng\\AppData\\Local\\Temp\\ipykernel_2604\\3929323490.py:59: FutureWarning: Setting an item of incompatible dtype is deprecated and will raise in a future error of pandas. Value 'https://ecatalog.smpcorp.com/V2/STD/api/part/partsearch?filterType=n&searchType=p&imageSize=80&limit=1&sort=3&catFilter=-All-&yearFilter=-All-&makeFilter=-All-&modelFilter=-All-&engineFilter=-All-&attrCodeFilter=-All-&attrValueFilter=-All-&plkEngineMakeFilter=-All-&plkEngineModelFilter=-All-&plkEngineDispFilter=-All-&filter=Accelerator%20Pedal%20Sensor%20(APS)&start=49' has dtype incompatible with float64, please explicitly cast to a compatible dtype first.\n",
      "  df_temp.loc[0, 'Url'] = url\n",
      "C:\\Users\\YangTeng\\AppData\\Local\\Temp\\ipykernel_2604\\3929323490.py:58: FutureWarning: Setting an item of incompatible dtype is deprecated and will raise in a future error of pandas. Value 'ok' has dtype incompatible with float64, please explicitly cast to a compatible dtype first.\n",
      "  df_temp.loc[0, 'status'] = 'ok'\n",
      "C:\\Users\\YangTeng\\AppData\\Local\\Temp\\ipykernel_2604\\3929323490.py:59: FutureWarning: Setting an item of incompatible dtype is deprecated and will raise in a future error of pandas. Value 'https://ecatalog.smpcorp.com/V2/STD/api/part/partsearch?filterType=n&searchType=p&imageSize=80&limit=1&sort=3&catFilter=-All-&yearFilter=-All-&makeFilter=-All-&modelFilter=-All-&engineFilter=-All-&attrCodeFilter=-All-&attrValueFilter=-All-&plkEngineMakeFilter=-All-&plkEngineModelFilter=-All-&plkEngineDispFilter=-All-&filter=Accelerator%20Pedal%20Sensor%20(APS)&start=53' has dtype incompatible with float64, please explicitly cast to a compatible dtype first.\n",
      "  df_temp.loc[0, 'Url'] = url\n",
      "C:\\Users\\YangTeng\\AppData\\Local\\Temp\\ipykernel_2604\\3929323490.py:58: FutureWarning: Setting an item of incompatible dtype is deprecated and will raise in a future error of pandas. Value 'ok' has dtype incompatible with float64, please explicitly cast to a compatible dtype first.\n",
      "  df_temp.loc[0, 'status'] = 'ok'\n",
      "C:\\Users\\YangTeng\\AppData\\Local\\Temp\\ipykernel_2604\\3929323490.py:59: FutureWarning: Setting an item of incompatible dtype is deprecated and will raise in a future error of pandas. Value 'https://ecatalog.smpcorp.com/V2/STD/api/part/partsearch?filterType=n&searchType=p&imageSize=80&limit=1&sort=3&catFilter=-All-&yearFilter=-All-&makeFilter=-All-&modelFilter=-All-&engineFilter=-All-&attrCodeFilter=-All-&attrValueFilter=-All-&plkEngineMakeFilter=-All-&plkEngineModelFilter=-All-&plkEngineDispFilter=-All-&filter=Accelerator%20Pedal%20Sensor%20(APS)&start=51' has dtype incompatible with float64, please explicitly cast to a compatible dtype first.\n",
      "  df_temp.loc[0, 'Url'] = url\n",
      "C:\\Users\\YangTeng\\AppData\\Local\\Temp\\ipykernel_2604\\3929323490.py:58: FutureWarning: Setting an item of incompatible dtype is deprecated and will raise in a future error of pandas. Value 'ok' has dtype incompatible with float64, please explicitly cast to a compatible dtype first.\n",
      "  df_temp.loc[0, 'status'] = 'ok'\n",
      "C:\\Users\\YangTeng\\AppData\\Local\\Temp\\ipykernel_2604\\3929323490.py:59: FutureWarning: Setting an item of incompatible dtype is deprecated and will raise in a future error of pandas. Value 'https://ecatalog.smpcorp.com/V2/STD/api/part/partsearch?filterType=n&searchType=p&imageSize=80&limit=1&sort=3&catFilter=-All-&yearFilter=-All-&makeFilter=-All-&modelFilter=-All-&engineFilter=-All-&attrCodeFilter=-All-&attrValueFilter=-All-&plkEngineMakeFilter=-All-&plkEngineModelFilter=-All-&plkEngineDispFilter=-All-&filter=Accelerator%20Pedal%20Sensor%20(APS)&start=48' has dtype incompatible with float64, please explicitly cast to a compatible dtype first.\n",
      "  df_temp.loc[0, 'Url'] = url\n"
     ]
    },
    {
     "name": "stdout",
     "output_type": "stream",
     "text": [
      "https://ecatalog.smpcorp.com/V2/STD/api/part/partsearch?filterType=n&searchType=p&imageSize=80&limit=1&sort=3&catFilter=-All-&yearFilter=-All-&makeFilter=-All-&modelFilter=-All-&engineFilter=-All-&attrCodeFilter=-All-&attrValueFilter=-All-&plkEngineMakeFilter=-All-&plkEngineModelFilter=-All-&plkEngineDispFilter=-All-&filter=Accelerator%20Pedal%20Sensor%20(APS)&start=45  <->  [ok] - 剩余数量：407\n",
      "https://ecatalog.smpcorp.com/V2/STD/api/part/partsearch?filterType=n&searchType=p&imageSize=80&limit=1&sort=3&catFilter=-All-&yearFilter=-All-&makeFilter=-All-&modelFilter=-All-&engineFilter=-All-&attrCodeFilter=-All-&attrValueFilter=-All-&plkEngineMakeFilter=-All-&plkEngineModelFilter=-All-&plkEngineDispFilter=-All-&filter=Accelerator%20Pedal%20Sensor%20(APS)&start=50  <->  [ok] - 剩余数量：406\n",
      "https://ecatalog.smpcorp.com/V2/STD/api/part/partsearch?filterType=n&searchType=p&imageSize=80&limit=1&sort=3&catFilter=-All-&yearFilter=-All-&makeFilter=-All-&modelFilter=-All-&engineFilter=-All-&attrCodeFilter=-All-&attrValueFilter=-All-&plkEngineMakeFilter=-All-&plkEngineModelFilter=-All-&plkEngineDispFilter=-All-&filter=Accelerator%20Pedal%20Sensor%20(APS)&start=49  <->  [ok] - 剩余数量：405\n",
      "https://ecatalog.smpcorp.com/V2/STD/api/part/partsearch?filterType=n&searchType=p&imageSize=80&limit=1&sort=3&catFilter=-All-&yearFilter=-All-&makeFilter=-All-&modelFilter=-All-&engineFilter=-All-&attrCodeFilter=-All-&attrValueFilter=-All-&plkEngineMakeFilter=-All-&plkEngineModelFilter=-All-&plkEngineDispFilter=-All-&filter=Accelerator%20Pedal%20Sensor%20(APS)&start=53  <->  [ok] - 剩余数量：404\n",
      "https://ecatalog.smpcorp.com/V2/STD/api/part/partsearch?filterType=n&searchType=p&imageSize=80&limit=1&sort=3&catFilter=-All-&yearFilter=-All-&makeFilter=-All-&modelFilter=-All-&engineFilter=-All-&attrCodeFilter=-All-&attrValueFilter=-All-&plkEngineMakeFilter=-All-&plkEngineModelFilter=-All-&plkEngineDispFilter=-All-&filter=Accelerator%20Pedal%20Sensor%20(APS)&start=51  <->  [ok] - 剩余数量：403\n",
      "https://ecatalog.smpcorp.com/V2/STD/api/part/partsearch?filterType=n&searchType=p&imageSize=80&limit=1&sort=3&catFilter=-All-&yearFilter=-All-&makeFilter=-All-&modelFilter=-All-&engineFilter=-All-&attrCodeFilter=-All-&attrValueFilter=-All-&plkEngineMakeFilter=-All-&plkEngineModelFilter=-All-&plkEngineDispFilter=-All-&filter=Accelerator%20Pedal%20Sensor%20(APS)&start=48  <->  [ok] - 剩余数量：402\n"
     ]
    },
    {
     "name": "stderr",
     "output_type": "stream",
     "text": [
      "C:\\Users\\YangTeng\\AppData\\Local\\Temp\\ipykernel_2604\\3929323490.py:58: FutureWarning: Setting an item of incompatible dtype is deprecated and will raise in a future error of pandas. Value 'ok' has dtype incompatible with float64, please explicitly cast to a compatible dtype first.\n",
      "  df_temp.loc[0, 'status'] = 'ok'\n",
      "C:\\Users\\YangTeng\\AppData\\Local\\Temp\\ipykernel_2604\\3929323490.py:59: FutureWarning: Setting an item of incompatible dtype is deprecated and will raise in a future error of pandas. Value 'https://ecatalog.smpcorp.com/V2/STD/api/part/partsearch?filterType=n&searchType=p&imageSize=80&limit=1&sort=3&catFilter=-All-&yearFilter=-All-&makeFilter=-All-&modelFilter=-All-&engineFilter=-All-&attrCodeFilter=-All-&attrValueFilter=-All-&plkEngineMakeFilter=-All-&plkEngineModelFilter=-All-&plkEngineDispFilter=-All-&filter=Accelerator%20Pedal%20Sensor%20(APS)&start=47' has dtype incompatible with float64, please explicitly cast to a compatible dtype first.\n",
      "  df_temp.loc[0, 'Url'] = url\n",
      "C:\\Users\\YangTeng\\AppData\\Local\\Temp\\ipykernel_2604\\3929323490.py:58: FutureWarning: Setting an item of incompatible dtype is deprecated and will raise in a future error of pandas. Value 'ok' has dtype incompatible with float64, please explicitly cast to a compatible dtype first.\n",
      "  df_temp.loc[0, 'status'] = 'ok'\n",
      "C:\\Users\\YangTeng\\AppData\\Local\\Temp\\ipykernel_2604\\3929323490.py:59: FutureWarning: Setting an item of incompatible dtype is deprecated and will raise in a future error of pandas. Value 'https://ecatalog.smpcorp.com/V2/STD/api/part/partsearch?filterType=n&searchType=p&imageSize=80&limit=1&sort=3&catFilter=-All-&yearFilter=-All-&makeFilter=-All-&modelFilter=-All-&engineFilter=-All-&attrCodeFilter=-All-&attrValueFilter=-All-&plkEngineMakeFilter=-All-&plkEngineModelFilter=-All-&plkEngineDispFilter=-All-&filter=Accelerator%20Pedal%20Sensor%20(APS)&start=39' has dtype incompatible with float64, please explicitly cast to a compatible dtype first.\n",
      "  df_temp.loc[0, 'Url'] = url\n",
      "C:\\Users\\YangTeng\\AppData\\Local\\Temp\\ipykernel_2604\\3929323490.py:58: FutureWarning: Setting an item of incompatible dtype is deprecated and will raise in a future error of pandas. Value 'ok' has dtype incompatible with float64, please explicitly cast to a compatible dtype first.\n",
      "  df_temp.loc[0, 'status'] = 'ok'\n",
      "C:\\Users\\YangTeng\\AppData\\Local\\Temp\\ipykernel_2604\\3929323490.py:59: FutureWarning: Setting an item of incompatible dtype is deprecated and will raise in a future error of pandas. Value 'https://ecatalog.smpcorp.com/V2/STD/api/part/partsearch?filterType=n&searchType=p&imageSize=80&limit=1&sort=3&catFilter=-All-&yearFilter=-All-&makeFilter=-All-&modelFilter=-All-&engineFilter=-All-&attrCodeFilter=-All-&attrValueFilter=-All-&plkEngineMakeFilter=-All-&plkEngineModelFilter=-All-&plkEngineDispFilter=-All-&filter=Accelerator%20Pedal%20Sensor%20(APS)&start=38' has dtype incompatible with float64, please explicitly cast to a compatible dtype first.\n",
      "  df_temp.loc[0, 'Url'] = url\n",
      "C:\\Users\\YangTeng\\AppData\\Local\\Temp\\ipykernel_2604\\3929323490.py:58: FutureWarning: Setting an item of incompatible dtype is deprecated and will raise in a future error of pandas. Value 'ok' has dtype incompatible with float64, please explicitly cast to a compatible dtype first.\n",
      "  df_temp.loc[0, 'status'] = 'ok'\n",
      "C:\\Users\\YangTeng\\AppData\\Local\\Temp\\ipykernel_2604\\3929323490.py:59: FutureWarning: Setting an item of incompatible dtype is deprecated and will raise in a future error of pandas. Value 'https://ecatalog.smpcorp.com/V2/STD/api/part/partsearch?filterType=n&searchType=p&imageSize=80&limit=1&sort=3&catFilter=-All-&yearFilter=-All-&makeFilter=-All-&modelFilter=-All-&engineFilter=-All-&attrCodeFilter=-All-&attrValueFilter=-All-&plkEngineMakeFilter=-All-&plkEngineModelFilter=-All-&plkEngineDispFilter=-All-&filter=Accelerator%20Pedal%20Sensor%20(APS)&start=52' has dtype incompatible with float64, please explicitly cast to a compatible dtype first.\n",
      "  df_temp.loc[0, 'Url'] = url\n",
      "C:\\Users\\YangTeng\\AppData\\Local\\Temp\\ipykernel_2604\\3929323490.py:58: FutureWarning: Setting an item of incompatible dtype is deprecated and will raise in a future error of pandas. Value 'ok' has dtype incompatible with float64, please explicitly cast to a compatible dtype first.\n",
      "  df_temp.loc[0, 'status'] = 'ok'\n",
      "C:\\Users\\YangTeng\\AppData\\Local\\Temp\\ipykernel_2604\\3929323490.py:59: FutureWarning: Setting an item of incompatible dtype is deprecated and will raise in a future error of pandas. Value 'https://ecatalog.smpcorp.com/V2/STD/api/part/partsearch?filterType=n&searchType=p&imageSize=80&limit=1&sort=3&catFilter=-All-&yearFilter=-All-&makeFilter=-All-&modelFilter=-All-&engineFilter=-All-&attrCodeFilter=-All-&attrValueFilter=-All-&plkEngineMakeFilter=-All-&plkEngineModelFilter=-All-&plkEngineDispFilter=-All-&filter=Accelerator%20Pedal%20Sensor%20(APS)&start=40' has dtype incompatible with float64, please explicitly cast to a compatible dtype first.\n",
      "  df_temp.loc[0, 'Url'] = url\n",
      "C:\\Users\\YangTeng\\AppData\\Local\\Temp\\ipykernel_2604\\3929323490.py:58: FutureWarning: Setting an item of incompatible dtype is deprecated and will raise in a future error of pandas. Value 'ok' has dtype incompatible with float64, please explicitly cast to a compatible dtype first.\n",
      "  df_temp.loc[0, 'status'] = 'ok'\n",
      "C:\\Users\\YangTeng\\AppData\\Local\\Temp\\ipykernel_2604\\3929323490.py:59: FutureWarning: Setting an item of incompatible dtype is deprecated and will raise in a future error of pandas. Value 'https://ecatalog.smpcorp.com/V2/STD/api/part/partsearch?filterType=n&searchType=p&imageSize=80&limit=1&sort=3&catFilter=-All-&yearFilter=-All-&makeFilter=-All-&modelFilter=-All-&engineFilter=-All-&attrCodeFilter=-All-&attrValueFilter=-All-&plkEngineMakeFilter=-All-&plkEngineModelFilter=-All-&plkEngineDispFilter=-All-&filter=Accelerator%20Pedal%20Sensor%20(APS)&start=54' has dtype incompatible with float64, please explicitly cast to a compatible dtype first.\n",
      "  df_temp.loc[0, 'Url'] = url\n",
      "C:\\Users\\YangTeng\\AppData\\Local\\Temp\\ipykernel_2604\\3929323490.py:58: FutureWarning: Setting an item of incompatible dtype is deprecated and will raise in a future error of pandas. Value 'ok' has dtype incompatible with float64, please explicitly cast to a compatible dtype first.\n",
      "  df_temp.loc[0, 'status'] = 'ok'\n",
      "C:\\Users\\YangTeng\\AppData\\Local\\Temp\\ipykernel_2604\\3929323490.py:59: FutureWarning: Setting an item of incompatible dtype is deprecated and will raise in a future error of pandas. Value 'https://ecatalog.smpcorp.com/V2/STD/api/part/partsearch?filterType=n&searchType=p&imageSize=80&limit=1&sort=3&catFilter=-All-&yearFilter=-All-&makeFilter=-All-&modelFilter=-All-&engineFilter=-All-&attrCodeFilter=-All-&attrValueFilter=-All-&plkEngineMakeFilter=-All-&plkEngineModelFilter=-All-&plkEngineDispFilter=-All-&filter=Accelerator%20Pedal%20Sensor%20(APS)&start=6' has dtype incompatible with float64, please explicitly cast to a compatible dtype first.\n",
      "  df_temp.loc[0, 'Url'] = url\n"
     ]
    },
    {
     "name": "stdout",
     "output_type": "stream",
     "text": [
      "https://ecatalog.smpcorp.com/V2/STD/api/part/partsearch?filterType=n&searchType=p&imageSize=80&limit=1&sort=3&catFilter=-All-&yearFilter=-All-&makeFilter=-All-&modelFilter=-All-&engineFilter=-All-&attrCodeFilter=-All-&attrValueFilter=-All-&plkEngineMakeFilter=-All-&plkEngineModelFilter=-All-&plkEngineDispFilter=-All-&filter=Accelerator%20Pedal%20Sensor%20(APS)&start=47  <->  [ok] - 剩余数量：401\n",
      "https://ecatalog.smpcorp.com/V2/STD/api/part/partsearch?filterType=n&searchType=p&imageSize=80&limit=1&sort=3&catFilter=-All-&yearFilter=-All-&makeFilter=-All-&modelFilter=-All-&engineFilter=-All-&attrCodeFilter=-All-&attrValueFilter=-All-&plkEngineMakeFilter=-All-&plkEngineModelFilter=-All-&plkEngineDispFilter=-All-&filter=Accelerator%20Pedal%20Sensor%20(APS)&start=39  <->  [ok] - 剩余数量：400\n",
      "https://ecatalog.smpcorp.com/V2/STD/api/part/partsearch?filterType=n&searchType=p&imageSize=80&limit=1&sort=3&catFilter=-All-&yearFilter=-All-&makeFilter=-All-&modelFilter=-All-&engineFilter=-All-&attrCodeFilter=-All-&attrValueFilter=-All-&plkEngineMakeFilter=-All-&plkEngineModelFilter=-All-&plkEngineDispFilter=-All-&filter=Accelerator%20Pedal%20Sensor%20(APS)&start=38  <->  [ok] - 剩余数量：399\n",
      "https://ecatalog.smpcorp.com/V2/STD/api/part/partsearch?filterType=n&searchType=p&imageSize=80&limit=1&sort=3&catFilter=-All-&yearFilter=-All-&makeFilter=-All-&modelFilter=-All-&engineFilter=-All-&attrCodeFilter=-All-&attrValueFilter=-All-&plkEngineMakeFilter=-All-&plkEngineModelFilter=-All-&plkEngineDispFilter=-All-&filter=Accelerator%20Pedal%20Sensor%20(APS)&start=52  <->  [ok] - 剩余数量：398\n",
      "https://ecatalog.smpcorp.com/V2/STD/api/part/partsearch?filterType=n&searchType=p&imageSize=80&limit=1&sort=3&catFilter=-All-&yearFilter=-All-&makeFilter=-All-&modelFilter=-All-&engineFilter=-All-&attrCodeFilter=-All-&attrValueFilter=-All-&plkEngineMakeFilter=-All-&plkEngineModelFilter=-All-&plkEngineDispFilter=-All-&filter=Accelerator%20Pedal%20Sensor%20(APS)&start=40  <->  [ok] - 剩余数量：397\n",
      "https://ecatalog.smpcorp.com/V2/STD/api/part/partsearch?filterType=n&searchType=p&imageSize=80&limit=1&sort=3&catFilter=-All-&yearFilter=-All-&makeFilter=-All-&modelFilter=-All-&engineFilter=-All-&attrCodeFilter=-All-&attrValueFilter=-All-&plkEngineMakeFilter=-All-&plkEngineModelFilter=-All-&plkEngineDispFilter=-All-&filter=Accelerator%20Pedal%20Sensor%20(APS)&start=54  <->  [ok] - 剩余数量：396\n",
      "https://ecatalog.smpcorp.com/V2/STD/api/part/partsearch?filterType=n&searchType=p&imageSize=80&limit=1&sort=3&catFilter=-All-&yearFilter=-All-&makeFilter=-All-&modelFilter=-All-&engineFilter=-All-&attrCodeFilter=-All-&attrValueFilter=-All-&plkEngineMakeFilter=-All-&plkEngineModelFilter=-All-&plkEngineDispFilter=-All-&filter=Accelerator%20Pedal%20Sensor%20(APS)&start=6  <->  [ok] - 剩余数量：395\n"
     ]
    },
    {
     "name": "stderr",
     "output_type": "stream",
     "text": [
      "C:\\Users\\YangTeng\\AppData\\Local\\Temp\\ipykernel_2604\\3929323490.py:58: FutureWarning: Setting an item of incompatible dtype is deprecated and will raise in a future error of pandas. Value 'ok' has dtype incompatible with float64, please explicitly cast to a compatible dtype first.\n",
      "  df_temp.loc[0, 'status'] = 'ok'\n",
      "C:\\Users\\YangTeng\\AppData\\Local\\Temp\\ipykernel_2604\\3929323490.py:59: FutureWarning: Setting an item of incompatible dtype is deprecated and will raise in a future error of pandas. Value 'https://ecatalog.smpcorp.com/V2/STD/api/part/partsearch?filterType=n&searchType=p&imageSize=80&limit=1&sort=3&catFilter=-All-&yearFilter=-All-&makeFilter=-All-&modelFilter=-All-&engineFilter=-All-&attrCodeFilter=-All-&attrValueFilter=-All-&plkEngineMakeFilter=-All-&plkEngineModelFilter=-All-&plkEngineDispFilter=-All-&filter=Accelerator%20Pedal%20Sensor%20(APS)&start=46' has dtype incompatible with float64, please explicitly cast to a compatible dtype first.\n",
      "  df_temp.loc[0, 'Url'] = url\n"
     ]
    },
    {
     "name": "stdout",
     "output_type": "stream",
     "text": [
      "https://ecatalog.smpcorp.com/V2/STD/api/part/partsearch?filterType=n&searchType=p&imageSize=80&limit=1&sort=3&catFilter=-All-&yearFilter=-All-&makeFilter=-All-&modelFilter=-All-&engineFilter=-All-&attrCodeFilter=-All-&attrValueFilter=-All-&plkEngineMakeFilter=-All-&plkEngineModelFilter=-All-&plkEngineDispFilter=-All-&filter=Accelerator%20Pedal%20Sensor%20(APS)&start=46  <->  [ok] - 剩余数量：394\n"
     ]
    },
    {
     "name": "stderr",
     "output_type": "stream",
     "text": [
      "C:\\Users\\YangTeng\\AppData\\Local\\Temp\\ipykernel_2604\\3929323490.py:58: FutureWarning: Setting an item of incompatible dtype is deprecated and will raise in a future error of pandas. Value 'ok' has dtype incompatible with float64, please explicitly cast to a compatible dtype first.\n",
      "  df_temp.loc[0, 'status'] = 'ok'\n",
      "C:\\Users\\YangTeng\\AppData\\Local\\Temp\\ipykernel_2604\\3929323490.py:59: FutureWarning: Setting an item of incompatible dtype is deprecated and will raise in a future error of pandas. Value 'https://ecatalog.smpcorp.com/V2/STD/api/part/partsearch?filterType=n&searchType=p&imageSize=80&limit=1&sort=3&catFilter=-All-&yearFilter=-All-&makeFilter=-All-&modelFilter=-All-&engineFilter=-All-&attrCodeFilter=-All-&attrValueFilter=-All-&plkEngineMakeFilter=-All-&plkEngineModelFilter=-All-&plkEngineDispFilter=-All-&filter=Accelerator%20Pedal%20Sensor%20(APS)&start=58' has dtype incompatible with float64, please explicitly cast to a compatible dtype first.\n",
      "  df_temp.loc[0, 'Url'] = url\n"
     ]
    },
    {
     "name": "stdout",
     "output_type": "stream",
     "text": [
      "https://ecatalog.smpcorp.com/V2/STD/api/part/partsearch?filterType=n&searchType=p&imageSize=80&limit=1&sort=3&catFilter=-All-&yearFilter=-All-&makeFilter=-All-&modelFilter=-All-&engineFilter=-All-&attrCodeFilter=-All-&attrValueFilter=-All-&plkEngineMakeFilter=-All-&plkEngineModelFilter=-All-&plkEngineDispFilter=-All-&filter=Accelerator%20Pedal%20Sensor%20(APS)&start=58  <->  [ok] - 剩余数量：393\n"
     ]
    },
    {
     "name": "stderr",
     "output_type": "stream",
     "text": [
      "C:\\Users\\YangTeng\\AppData\\Local\\Temp\\ipykernel_2604\\3929323490.py:58: FutureWarning: Setting an item of incompatible dtype is deprecated and will raise in a future error of pandas. Value 'ok' has dtype incompatible with float64, please explicitly cast to a compatible dtype first.\n",
      "  df_temp.loc[0, 'status'] = 'ok'\n",
      "C:\\Users\\YangTeng\\AppData\\Local\\Temp\\ipykernel_2604\\3929323490.py:59: FutureWarning: Setting an item of incompatible dtype is deprecated and will raise in a future error of pandas. Value 'https://ecatalog.smpcorp.com/V2/STD/api/part/partsearch?filterType=n&searchType=p&imageSize=80&limit=1&sort=3&catFilter=-All-&yearFilter=-All-&makeFilter=-All-&modelFilter=-All-&engineFilter=-All-&attrCodeFilter=-All-&attrValueFilter=-All-&plkEngineMakeFilter=-All-&plkEngineModelFilter=-All-&plkEngineDispFilter=-All-&filter=Accelerator%20Pedal%20Sensor%20(APS)&start=59' has dtype incompatible with float64, please explicitly cast to a compatible dtype first.\n",
      "  df_temp.loc[0, 'Url'] = url\n",
      "C:\\Users\\YangTeng\\AppData\\Local\\Temp\\ipykernel_2604\\3929323490.py:58: FutureWarning: Setting an item of incompatible dtype is deprecated and will raise in a future error of pandas. Value 'ok' has dtype incompatible with float64, please explicitly cast to a compatible dtype first.\n",
      "  df_temp.loc[0, 'status'] = 'ok'\n",
      "C:\\Users\\YangTeng\\AppData\\Local\\Temp\\ipykernel_2604\\3929323490.py:59: FutureWarning: Setting an item of incompatible dtype is deprecated and will raise in a future error of pandas. Value 'https://ecatalog.smpcorp.com/V2/STD/api/part/partsearch?filterType=n&searchType=p&imageSize=80&limit=1&sort=3&catFilter=-All-&yearFilter=-All-&makeFilter=-All-&modelFilter=-All-&engineFilter=-All-&attrCodeFilter=-All-&attrValueFilter=-All-&plkEngineMakeFilter=-All-&plkEngineModelFilter=-All-&plkEngineDispFilter=-All-&filter=Accelerator%20Pedal%20Sensor%20(APS)&start=57' has dtype incompatible with float64, please explicitly cast to a compatible dtype first.\n",
      "  df_temp.loc[0, 'Url'] = url\n"
     ]
    },
    {
     "name": "stdout",
     "output_type": "stream",
     "text": [
      "https://ecatalog.smpcorp.com/V2/STD/api/part/partsearch?filterType=n&searchType=p&imageSize=80&limit=1&sort=3&catFilter=-All-&yearFilter=-All-&makeFilter=-All-&modelFilter=-All-&engineFilter=-All-&attrCodeFilter=-All-&attrValueFilter=-All-&plkEngineMakeFilter=-All-&plkEngineModelFilter=-All-&plkEngineDispFilter=-All-&filter=Accelerator%20Pedal%20Sensor%20(APS)&start=59  <->  [ok] - 剩余数量：392\n",
      "https://ecatalog.smpcorp.com/V2/STD/api/part/partsearch?filterType=n&searchType=p&imageSize=80&limit=1&sort=3&catFilter=-All-&yearFilter=-All-&makeFilter=-All-&modelFilter=-All-&engineFilter=-All-&attrCodeFilter=-All-&attrValueFilter=-All-&plkEngineMakeFilter=-All-&plkEngineModelFilter=-All-&plkEngineDispFilter=-All-&filter=Accelerator%20Pedal%20Sensor%20(APS)&start=57  <->  [ok] - 剩余数量：391\n"
     ]
    },
    {
     "name": "stderr",
     "output_type": "stream",
     "text": [
      "C:\\Users\\YangTeng\\AppData\\Local\\Temp\\ipykernel_2604\\3929323490.py:58: FutureWarning: Setting an item of incompatible dtype is deprecated and will raise in a future error of pandas. Value 'ok' has dtype incompatible with float64, please explicitly cast to a compatible dtype first.\n",
      "  df_temp.loc[0, 'status'] = 'ok'\n",
      "C:\\Users\\YangTeng\\AppData\\Local\\Temp\\ipykernel_2604\\3929323490.py:59: FutureWarning: Setting an item of incompatible dtype is deprecated and will raise in a future error of pandas. Value 'https://ecatalog.smpcorp.com/V2/STD/api/part/partsearch?filterType=n&searchType=p&imageSize=80&limit=1&sort=3&catFilter=-All-&yearFilter=-All-&makeFilter=-All-&modelFilter=-All-&engineFilter=-All-&attrCodeFilter=-All-&attrValueFilter=-All-&plkEngineMakeFilter=-All-&plkEngineModelFilter=-All-&plkEngineDispFilter=-All-&filter=Accelerator%20Pedal%20Sensor%20(APS)&start=73' has dtype incompatible with float64, please explicitly cast to a compatible dtype first.\n",
      "  df_temp.loc[0, 'Url'] = url\n",
      "C:\\Users\\YangTeng\\AppData\\Local\\Temp\\ipykernel_2604\\3929323490.py:58: FutureWarning: Setting an item of incompatible dtype is deprecated and will raise in a future error of pandas. Value 'ok' has dtype incompatible with float64, please explicitly cast to a compatible dtype first.\n",
      "  df_temp.loc[0, 'status'] = 'ok'\n",
      "C:\\Users\\YangTeng\\AppData\\Local\\Temp\\ipykernel_2604\\3929323490.py:59: FutureWarning: Setting an item of incompatible dtype is deprecated and will raise in a future error of pandas. Value 'https://ecatalog.smpcorp.com/V2/STD/api/part/partsearch?filterType=n&searchType=p&imageSize=80&limit=1&sort=3&catFilter=-All-&yearFilter=-All-&makeFilter=-All-&modelFilter=-All-&engineFilter=-All-&attrCodeFilter=-All-&attrValueFilter=-All-&plkEngineMakeFilter=-All-&plkEngineModelFilter=-All-&plkEngineDispFilter=-All-&filter=Accelerator%20Pedal%20Sensor%20(APS)&start=72' has dtype incompatible with float64, please explicitly cast to a compatible dtype first.\n",
      "  df_temp.loc[0, 'Url'] = url\n",
      "C:\\Users\\YangTeng\\AppData\\Local\\Temp\\ipykernel_2604\\3929323490.py:58: FutureWarning: Setting an item of incompatible dtype is deprecated and will raise in a future error of pandas. Value 'ok' has dtype incompatible with float64, please explicitly cast to a compatible dtype first.\n",
      "  df_temp.loc[0, 'status'] = 'ok'\n",
      "C:\\Users\\YangTeng\\AppData\\Local\\Temp\\ipykernel_2604\\3929323490.py:59: FutureWarning: Setting an item of incompatible dtype is deprecated and will raise in a future error of pandas. Value 'https://ecatalog.smpcorp.com/V2/STD/api/part/partsearch?filterType=n&searchType=p&imageSize=80&limit=1&sort=3&catFilter=-All-&yearFilter=-All-&makeFilter=-All-&modelFilter=-All-&engineFilter=-All-&attrCodeFilter=-All-&attrValueFilter=-All-&plkEngineMakeFilter=-All-&plkEngineModelFilter=-All-&plkEngineDispFilter=-All-&filter=Accelerator%20Pedal%20Sensor%20(APS)&start=69' has dtype incompatible with float64, please explicitly cast to a compatible dtype first.\n",
      "  df_temp.loc[0, 'Url'] = url\n",
      "C:\\Users\\YangTeng\\AppData\\Local\\Temp\\ipykernel_2604\\3929323490.py:58: FutureWarning: Setting an item of incompatible dtype is deprecated and will raise in a future error of pandas. Value 'ok' has dtype incompatible with float64, please explicitly cast to a compatible dtype first.\n",
      "  df_temp.loc[0, 'status'] = 'ok'\n",
      "C:\\Users\\YangTeng\\AppData\\Local\\Temp\\ipykernel_2604\\3929323490.py:59: FutureWarning: Setting an item of incompatible dtype is deprecated and will raise in a future error of pandas. Value 'https://ecatalog.smpcorp.com/V2/STD/api/part/partsearch?filterType=n&searchType=p&imageSize=80&limit=1&sort=3&catFilter=-All-&yearFilter=-All-&makeFilter=-All-&modelFilter=-All-&engineFilter=-All-&attrCodeFilter=-All-&attrValueFilter=-All-&plkEngineMakeFilter=-All-&plkEngineModelFilter=-All-&plkEngineDispFilter=-All-&filter=Accelerator%20Pedal%20Sensor%20(APS)&start=70' has dtype incompatible with float64, please explicitly cast to a compatible dtype first.\n",
      "  df_temp.loc[0, 'Url'] = url\n",
      "C:\\Users\\YangTeng\\AppData\\Local\\Temp\\ipykernel_2604\\3929323490.py:58: FutureWarning: Setting an item of incompatible dtype is deprecated and will raise in a future error of pandas. Value 'ok' has dtype incompatible with float64, please explicitly cast to a compatible dtype first.\n",
      "  df_temp.loc[0, 'status'] = 'ok'\n",
      "C:\\Users\\YangTeng\\AppData\\Local\\Temp\\ipykernel_2604\\3929323490.py:59: FutureWarning: Setting an item of incompatible dtype is deprecated and will raise in a future error of pandas. Value 'https://ecatalog.smpcorp.com/V2/STD/api/part/partsearch?filterType=n&searchType=p&imageSize=80&limit=1&sort=3&catFilter=-All-&yearFilter=-All-&makeFilter=-All-&modelFilter=-All-&engineFilter=-All-&attrCodeFilter=-All-&attrValueFilter=-All-&plkEngineMakeFilter=-All-&plkEngineModelFilter=-All-&plkEngineDispFilter=-All-&filter=Accelerator%20Pedal%20Sensor%20(APS)&start=63' has dtype incompatible with float64, please explicitly cast to a compatible dtype first.\n",
      "  df_temp.loc[0, 'Url'] = url\n"
     ]
    },
    {
     "name": "stdout",
     "output_type": "stream",
     "text": [
      "https://ecatalog.smpcorp.com/V2/STD/api/part/partsearch?filterType=n&searchType=p&imageSize=80&limit=1&sort=3&catFilter=-All-&yearFilter=-All-&makeFilter=-All-&modelFilter=-All-&engineFilter=-All-&attrCodeFilter=-All-&attrValueFilter=-All-&plkEngineMakeFilter=-All-&plkEngineModelFilter=-All-&plkEngineDispFilter=-All-&filter=Accelerator%20Pedal%20Sensor%20(APS)&start=73  <->  [ok] - 剩余数量：390\n",
      "https://ecatalog.smpcorp.com/V2/STD/api/part/partsearch?filterType=n&searchType=p&imageSize=80&limit=1&sort=3&catFilter=-All-&yearFilter=-All-&makeFilter=-All-&modelFilter=-All-&engineFilter=-All-&attrCodeFilter=-All-&attrValueFilter=-All-&plkEngineMakeFilter=-All-&plkEngineModelFilter=-All-&plkEngineDispFilter=-All-&filter=Accelerator%20Pedal%20Sensor%20(APS)&start=72  <->  [ok] - 剩余数量：389\n",
      "https://ecatalog.smpcorp.com/V2/STD/api/part/partsearch?filterType=n&searchType=p&imageSize=80&limit=1&sort=3&catFilter=-All-&yearFilter=-All-&makeFilter=-All-&modelFilter=-All-&engineFilter=-All-&attrCodeFilter=-All-&attrValueFilter=-All-&plkEngineMakeFilter=-All-&plkEngineModelFilter=-All-&plkEngineDispFilter=-All-&filter=Accelerator%20Pedal%20Sensor%20(APS)&start=69  <->  [ok] - 剩余数量：388\n",
      "https://ecatalog.smpcorp.com/V2/STD/api/part/partsearch?filterType=n&searchType=p&imageSize=80&limit=1&sort=3&catFilter=-All-&yearFilter=-All-&makeFilter=-All-&modelFilter=-All-&engineFilter=-All-&attrCodeFilter=-All-&attrValueFilter=-All-&plkEngineMakeFilter=-All-&plkEngineModelFilter=-All-&plkEngineDispFilter=-All-&filter=Accelerator%20Pedal%20Sensor%20(APS)&start=70  <->  [ok] - 剩余数量：387\n",
      "https://ecatalog.smpcorp.com/V2/STD/api/part/partsearch?filterType=n&searchType=p&imageSize=80&limit=1&sort=3&catFilter=-All-&yearFilter=-All-&makeFilter=-All-&modelFilter=-All-&engineFilter=-All-&attrCodeFilter=-All-&attrValueFilter=-All-&plkEngineMakeFilter=-All-&plkEngineModelFilter=-All-&plkEngineDispFilter=-All-&filter=Accelerator%20Pedal%20Sensor%20(APS)&start=63  <->  [ok] - 剩余数量：386\n"
     ]
    },
    {
     "name": "stderr",
     "output_type": "stream",
     "text": [
      "C:\\Users\\YangTeng\\AppData\\Local\\Temp\\ipykernel_2604\\3929323490.py:58: FutureWarning: Setting an item of incompatible dtype is deprecated and will raise in a future error of pandas. Value 'ok' has dtype incompatible with float64, please explicitly cast to a compatible dtype first.\n",
      "  df_temp.loc[0, 'status'] = 'ok'\n",
      "C:\\Users\\YangTeng\\AppData\\Local\\Temp\\ipykernel_2604\\3929323490.py:59: FutureWarning: Setting an item of incompatible dtype is deprecated and will raise in a future error of pandas. Value 'https://ecatalog.smpcorp.com/V2/STD/api/part/partsearch?filterType=n&searchType=p&imageSize=80&limit=1&sort=3&catFilter=-All-&yearFilter=-All-&makeFilter=-All-&modelFilter=-All-&engineFilter=-All-&attrCodeFilter=-All-&attrValueFilter=-All-&plkEngineMakeFilter=-All-&plkEngineModelFilter=-All-&plkEngineDispFilter=-All-&filter=Accelerator%20Pedal%20Sensor%20(APS)&start=55' has dtype incompatible with float64, please explicitly cast to a compatible dtype first.\n",
      "  df_temp.loc[0, 'Url'] = url\n",
      "C:\\Users\\YangTeng\\AppData\\Local\\Temp\\ipykernel_2604\\3929323490.py:58: FutureWarning: Setting an item of incompatible dtype is deprecated and will raise in a future error of pandas. Value 'ok' has dtype incompatible with float64, please explicitly cast to a compatible dtype first.\n",
      "  df_temp.loc[0, 'status'] = 'ok'\n",
      "C:\\Users\\YangTeng\\AppData\\Local\\Temp\\ipykernel_2604\\3929323490.py:59: FutureWarning: Setting an item of incompatible dtype is deprecated and will raise in a future error of pandas. Value 'https://ecatalog.smpcorp.com/V2/STD/api/part/partsearch?filterType=n&searchType=p&imageSize=80&limit=1&sort=3&catFilter=-All-&yearFilter=-All-&makeFilter=-All-&modelFilter=-All-&engineFilter=-All-&attrCodeFilter=-All-&attrValueFilter=-All-&plkEngineMakeFilter=-All-&plkEngineModelFilter=-All-&plkEngineDispFilter=-All-&filter=Accelerator%20Pedal%20Sensor%20(APS)&start=65' has dtype incompatible with float64, please explicitly cast to a compatible dtype first.\n",
      "  df_temp.loc[0, 'Url'] = url\n",
      "C:\\Users\\YangTeng\\AppData\\Local\\Temp\\ipykernel_2604\\3929323490.py:58: FutureWarning: Setting an item of incompatible dtype is deprecated and will raise in a future error of pandas. Value 'ok' has dtype incompatible with float64, please explicitly cast to a compatible dtype first.\n",
      "  df_temp.loc[0, 'status'] = 'ok'\n",
      "C:\\Users\\YangTeng\\AppData\\Local\\Temp\\ipykernel_2604\\3929323490.py:59: FutureWarning: Setting an item of incompatible dtype is deprecated and will raise in a future error of pandas. Value 'https://ecatalog.smpcorp.com/V2/STD/api/part/partsearch?filterType=n&searchType=p&imageSize=80&limit=1&sort=3&catFilter=-All-&yearFilter=-All-&makeFilter=-All-&modelFilter=-All-&engineFilter=-All-&attrCodeFilter=-All-&attrValueFilter=-All-&plkEngineMakeFilter=-All-&plkEngineModelFilter=-All-&plkEngineDispFilter=-All-&filter=Accelerator%20Pedal%20Sensor%20(APS)&start=62' has dtype incompatible with float64, please explicitly cast to a compatible dtype first.\n",
      "  df_temp.loc[0, 'Url'] = url\n",
      "C:\\Users\\YangTeng\\AppData\\Local\\Temp\\ipykernel_2604\\3929323490.py:58: FutureWarning: Setting an item of incompatible dtype is deprecated and will raise in a future error of pandas. Value 'ok' has dtype incompatible with float64, please explicitly cast to a compatible dtype first.\n",
      "  df_temp.loc[0, 'status'] = 'ok'\n",
      "C:\\Users\\YangTeng\\AppData\\Local\\Temp\\ipykernel_2604\\3929323490.py:59: FutureWarning: Setting an item of incompatible dtype is deprecated and will raise in a future error of pandas. Value 'https://ecatalog.smpcorp.com/V2/STD/api/part/partsearch?filterType=n&searchType=p&imageSize=80&limit=1&sort=3&catFilter=-All-&yearFilter=-All-&makeFilter=-All-&modelFilter=-All-&engineFilter=-All-&attrCodeFilter=-All-&attrValueFilter=-All-&plkEngineMakeFilter=-All-&plkEngineModelFilter=-All-&plkEngineDispFilter=-All-&filter=Accelerator%20Pedal%20Sensor%20(APS)&start=67' has dtype incompatible with float64, please explicitly cast to a compatible dtype first.\n",
      "  df_temp.loc[0, 'Url'] = url\n"
     ]
    },
    {
     "name": "stdout",
     "output_type": "stream",
     "text": [
      "https://ecatalog.smpcorp.com/V2/STD/api/part/partsearch?filterType=n&searchType=p&imageSize=80&limit=1&sort=3&catFilter=-All-&yearFilter=-All-&makeFilter=-All-&modelFilter=-All-&engineFilter=-All-&attrCodeFilter=-All-&attrValueFilter=-All-&plkEngineMakeFilter=-All-&plkEngineModelFilter=-All-&plkEngineDispFilter=-All-&filter=Accelerator%20Pedal%20Sensor%20(APS)&start=55  <->  [ok] - 剩余数量：385\n",
      "https://ecatalog.smpcorp.com/V2/STD/api/part/partsearch?filterType=n&searchType=p&imageSize=80&limit=1&sort=3&catFilter=-All-&yearFilter=-All-&makeFilter=-All-&modelFilter=-All-&engineFilter=-All-&attrCodeFilter=-All-&attrValueFilter=-All-&plkEngineMakeFilter=-All-&plkEngineModelFilter=-All-&plkEngineDispFilter=-All-&filter=Accelerator%20Pedal%20Sensor%20(APS)&start=65  <->  [ok] - 剩余数量：384\n",
      "https://ecatalog.smpcorp.com/V2/STD/api/part/partsearch?filterType=n&searchType=p&imageSize=80&limit=1&sort=3&catFilter=-All-&yearFilter=-All-&makeFilter=-All-&modelFilter=-All-&engineFilter=-All-&attrCodeFilter=-All-&attrValueFilter=-All-&plkEngineMakeFilter=-All-&plkEngineModelFilter=-All-&plkEngineDispFilter=-All-&filter=Accelerator%20Pedal%20Sensor%20(APS)&start=62  <->  [ok] - 剩余数量：383\n",
      "https://ecatalog.smpcorp.com/V2/STD/api/part/partsearch?filterType=n&searchType=p&imageSize=80&limit=1&sort=3&catFilter=-All-&yearFilter=-All-&makeFilter=-All-&modelFilter=-All-&engineFilter=-All-&attrCodeFilter=-All-&attrValueFilter=-All-&plkEngineMakeFilter=-All-&plkEngineModelFilter=-All-&plkEngineDispFilter=-All-&filter=Accelerator%20Pedal%20Sensor%20(APS)&start=67  <->  [ok] - 剩余数量：382\n"
     ]
    },
    {
     "name": "stderr",
     "output_type": "stream",
     "text": [
      "C:\\Users\\YangTeng\\AppData\\Local\\Temp\\ipykernel_2604\\3929323490.py:58: FutureWarning: Setting an item of incompatible dtype is deprecated and will raise in a future error of pandas. Value 'ok' has dtype incompatible with float64, please explicitly cast to a compatible dtype first.\n",
      "  df_temp.loc[0, 'status'] = 'ok'\n",
      "C:\\Users\\YangTeng\\AppData\\Local\\Temp\\ipykernel_2604\\3929323490.py:59: FutureWarning: Setting an item of incompatible dtype is deprecated and will raise in a future error of pandas. Value 'https://ecatalog.smpcorp.com/V2/STD/api/part/partsearch?filterType=n&searchType=p&imageSize=80&limit=1&sort=3&catFilter=-All-&yearFilter=-All-&makeFilter=-All-&modelFilter=-All-&engineFilter=-All-&attrCodeFilter=-All-&attrValueFilter=-All-&plkEngineMakeFilter=-All-&plkEngineModelFilter=-All-&plkEngineDispFilter=-All-&filter=Accelerator%20Pedal%20Sensor%20(APS)&start=66' has dtype incompatible with float64, please explicitly cast to a compatible dtype first.\n",
      "  df_temp.loc[0, 'Url'] = url\n",
      "C:\\Users\\YangTeng\\AppData\\Local\\Temp\\ipykernel_2604\\3929323490.py:58: FutureWarning: Setting an item of incompatible dtype is deprecated and will raise in a future error of pandas. Value 'ok' has dtype incompatible with float64, please explicitly cast to a compatible dtype first.\n",
      "  df_temp.loc[0, 'status'] = 'ok'\n",
      "C:\\Users\\YangTeng\\AppData\\Local\\Temp\\ipykernel_2604\\3929323490.py:59: FutureWarning: Setting an item of incompatible dtype is deprecated and will raise in a future error of pandas. Value 'https://ecatalog.smpcorp.com/V2/STD/api/part/partsearch?filterType=n&searchType=p&imageSize=80&limit=1&sort=3&catFilter=-All-&yearFilter=-All-&makeFilter=-All-&modelFilter=-All-&engineFilter=-All-&attrCodeFilter=-All-&attrValueFilter=-All-&plkEngineMakeFilter=-All-&plkEngineModelFilter=-All-&plkEngineDispFilter=-All-&filter=Accelerator%20Pedal%20Sensor%20(APS)&start=61' has dtype incompatible with float64, please explicitly cast to a compatible dtype first.\n",
      "  df_temp.loc[0, 'Url'] = url\n",
      "C:\\Users\\YangTeng\\AppData\\Local\\Temp\\ipykernel_2604\\3929323490.py:58: FutureWarning: Setting an item of incompatible dtype is deprecated and will raise in a future error of pandas. Value 'ok' has dtype incompatible with float64, please explicitly cast to a compatible dtype first.\n",
      "  df_temp.loc[0, 'status'] = 'ok'\n",
      "C:\\Users\\YangTeng\\AppData\\Local\\Temp\\ipykernel_2604\\3929323490.py:59: FutureWarning: Setting an item of incompatible dtype is deprecated and will raise in a future error of pandas. Value 'https://ecatalog.smpcorp.com/V2/STD/api/part/partsearch?filterType=n&searchType=p&imageSize=80&limit=1&sort=3&catFilter=-All-&yearFilter=-All-&makeFilter=-All-&modelFilter=-All-&engineFilter=-All-&attrCodeFilter=-All-&attrValueFilter=-All-&plkEngineMakeFilter=-All-&plkEngineModelFilter=-All-&plkEngineDispFilter=-All-&filter=Accelerator%20Pedal%20Sensor%20(APS)&start=64' has dtype incompatible with float64, please explicitly cast to a compatible dtype first.\n",
      "  df_temp.loc[0, 'Url'] = url\n"
     ]
    },
    {
     "name": "stdout",
     "output_type": "stream",
     "text": [
      "https://ecatalog.smpcorp.com/V2/STD/api/part/partsearch?filterType=n&searchType=p&imageSize=80&limit=1&sort=3&catFilter=-All-&yearFilter=-All-&makeFilter=-All-&modelFilter=-All-&engineFilter=-All-&attrCodeFilter=-All-&attrValueFilter=-All-&plkEngineMakeFilter=-All-&plkEngineModelFilter=-All-&plkEngineDispFilter=-All-&filter=Accelerator%20Pedal%20Sensor%20(APS)&start=66  <->  [ok] - 剩余数量：381\n",
      "https://ecatalog.smpcorp.com/V2/STD/api/part/partsearch?filterType=n&searchType=p&imageSize=80&limit=1&sort=3&catFilter=-All-&yearFilter=-All-&makeFilter=-All-&modelFilter=-All-&engineFilter=-All-&attrCodeFilter=-All-&attrValueFilter=-All-&plkEngineMakeFilter=-All-&plkEngineModelFilter=-All-&plkEngineDispFilter=-All-&filter=Accelerator%20Pedal%20Sensor%20(APS)&start=61  <->  [ok] - 剩余数量：380\n",
      "https://ecatalog.smpcorp.com/V2/STD/api/part/partsearch?filterType=n&searchType=p&imageSize=80&limit=1&sort=3&catFilter=-All-&yearFilter=-All-&makeFilter=-All-&modelFilter=-All-&engineFilter=-All-&attrCodeFilter=-All-&attrValueFilter=-All-&plkEngineMakeFilter=-All-&plkEngineModelFilter=-All-&plkEngineDispFilter=-All-&filter=Accelerator%20Pedal%20Sensor%20(APS)&start=64  <->  [ok] - 剩余数量：379\n"
     ]
    },
    {
     "name": "stderr",
     "output_type": "stream",
     "text": [
      "C:\\Users\\YangTeng\\AppData\\Local\\Temp\\ipykernel_2604\\3929323490.py:58: FutureWarning: Setting an item of incompatible dtype is deprecated and will raise in a future error of pandas. Value 'ok' has dtype incompatible with float64, please explicitly cast to a compatible dtype first.\n",
      "  df_temp.loc[0, 'status'] = 'ok'\n",
      "C:\\Users\\YangTeng\\AppData\\Local\\Temp\\ipykernel_2604\\3929323490.py:59: FutureWarning: Setting an item of incompatible dtype is deprecated and will raise in a future error of pandas. Value 'https://ecatalog.smpcorp.com/V2/STD/api/part/partsearch?filterType=n&searchType=p&imageSize=80&limit=1&sort=3&catFilter=-All-&yearFilter=-All-&makeFilter=-All-&modelFilter=-All-&engineFilter=-All-&attrCodeFilter=-All-&attrValueFilter=-All-&plkEngineMakeFilter=-All-&plkEngineModelFilter=-All-&plkEngineDispFilter=-All-&filter=Accelerator%20Pedal%20Sensor%20(APS)&start=71' has dtype incompatible with float64, please explicitly cast to a compatible dtype first.\n",
      "  df_temp.loc[0, 'Url'] = url\n",
      "C:\\Users\\YangTeng\\AppData\\Local\\Temp\\ipykernel_2604\\3929323490.py:58: FutureWarning: Setting an item of incompatible dtype is deprecated and will raise in a future error of pandas. Value 'ok' has dtype incompatible with float64, please explicitly cast to a compatible dtype first.\n",
      "  df_temp.loc[0, 'status'] = 'ok'\n",
      "C:\\Users\\YangTeng\\AppData\\Local\\Temp\\ipykernel_2604\\3929323490.py:59: FutureWarning: Setting an item of incompatible dtype is deprecated and will raise in a future error of pandas. Value 'https://ecatalog.smpcorp.com/V2/STD/api/part/partsearch?filterType=n&searchType=p&imageSize=80&limit=1&sort=3&catFilter=-All-&yearFilter=-All-&makeFilter=-All-&modelFilter=-All-&engineFilter=-All-&attrCodeFilter=-All-&attrValueFilter=-All-&plkEngineMakeFilter=-All-&plkEngineModelFilter=-All-&plkEngineDispFilter=-All-&filter=Accelerator%20Pedal%20Sensor%20(APS)&start=60' has dtype incompatible with float64, please explicitly cast to a compatible dtype first.\n",
      "  df_temp.loc[0, 'Url'] = url\n",
      "C:\\Users\\YangTeng\\AppData\\Local\\Temp\\ipykernel_2604\\3929323490.py:58: FutureWarning: Setting an item of incompatible dtype is deprecated and will raise in a future error of pandas. Value 'ok' has dtype incompatible with float64, please explicitly cast to a compatible dtype first.\n",
      "  df_temp.loc[0, 'status'] = 'ok'\n",
      "C:\\Users\\YangTeng\\AppData\\Local\\Temp\\ipykernel_2604\\3929323490.py:59: FutureWarning: Setting an item of incompatible dtype is deprecated and will raise in a future error of pandas. Value 'https://ecatalog.smpcorp.com/V2/STD/api/part/partsearch?filterType=n&searchType=p&imageSize=80&limit=1&sort=3&catFilter=-All-&yearFilter=-All-&makeFilter=-All-&modelFilter=-All-&engineFilter=-All-&attrCodeFilter=-All-&attrValueFilter=-All-&plkEngineMakeFilter=-All-&plkEngineModelFilter=-All-&plkEngineDispFilter=-All-&filter=Accelerator%20Pedal%20Sensor%20(APS)&start=79' has dtype incompatible with float64, please explicitly cast to a compatible dtype first.\n",
      "  df_temp.loc[0, 'Url'] = url\n",
      "C:\\Users\\YangTeng\\AppData\\Local\\Temp\\ipykernel_2604\\3929323490.py:58: FutureWarning: Setting an item of incompatible dtype is deprecated and will raise in a future error of pandas. Value 'ok' has dtype incompatible with float64, please explicitly cast to a compatible dtype first.\n",
      "  df_temp.loc[0, 'status'] = 'ok'\n",
      "C:\\Users\\YangTeng\\AppData\\Local\\Temp\\ipykernel_2604\\3929323490.py:59: FutureWarning: Setting an item of incompatible dtype is deprecated and will raise in a future error of pandas. Value 'https://ecatalog.smpcorp.com/V2/STD/api/part/partsearch?filterType=n&searchType=p&imageSize=80&limit=1&sort=3&catFilter=-All-&yearFilter=-All-&makeFilter=-All-&modelFilter=-All-&engineFilter=-All-&attrCodeFilter=-All-&attrValueFilter=-All-&plkEngineMakeFilter=-All-&plkEngineModelFilter=-All-&plkEngineDispFilter=-All-&filter=Accelerator%20Pedal%20Sensor%20(APS)&start=76' has dtype incompatible with float64, please explicitly cast to a compatible dtype first.\n",
      "  df_temp.loc[0, 'Url'] = url\n"
     ]
    },
    {
     "name": "stdout",
     "output_type": "stream",
     "text": [
      "https://ecatalog.smpcorp.com/V2/STD/api/part/partsearch?filterType=n&searchType=p&imageSize=80&limit=1&sort=3&catFilter=-All-&yearFilter=-All-&makeFilter=-All-&modelFilter=-All-&engineFilter=-All-&attrCodeFilter=-All-&attrValueFilter=-All-&plkEngineMakeFilter=-All-&plkEngineModelFilter=-All-&plkEngineDispFilter=-All-&filter=Accelerator%20Pedal%20Sensor%20(APS)&start=71  <->  [ok] - 剩余数量：378\n",
      "https://ecatalog.smpcorp.com/V2/STD/api/part/partsearch?filterType=n&searchType=p&imageSize=80&limit=1&sort=3&catFilter=-All-&yearFilter=-All-&makeFilter=-All-&modelFilter=-All-&engineFilter=-All-&attrCodeFilter=-All-&attrValueFilter=-All-&plkEngineMakeFilter=-All-&plkEngineModelFilter=-All-&plkEngineDispFilter=-All-&filter=Accelerator%20Pedal%20Sensor%20(APS)&start=60  <->  [ok] - 剩余数量：377\n",
      "https://ecatalog.smpcorp.com/V2/STD/api/part/partsearch?filterType=n&searchType=p&imageSize=80&limit=1&sort=3&catFilter=-All-&yearFilter=-All-&makeFilter=-All-&modelFilter=-All-&engineFilter=-All-&attrCodeFilter=-All-&attrValueFilter=-All-&plkEngineMakeFilter=-All-&plkEngineModelFilter=-All-&plkEngineDispFilter=-All-&filter=Accelerator%20Pedal%20Sensor%20(APS)&start=79  <->  [ok] - 剩余数量：376\n",
      "https://ecatalog.smpcorp.com/V2/STD/api/part/partsearch?filterType=n&searchType=p&imageSize=80&limit=1&sort=3&catFilter=-All-&yearFilter=-All-&makeFilter=-All-&modelFilter=-All-&engineFilter=-All-&attrCodeFilter=-All-&attrValueFilter=-All-&plkEngineMakeFilter=-All-&plkEngineModelFilter=-All-&plkEngineDispFilter=-All-&filter=Accelerator%20Pedal%20Sensor%20(APS)&start=76  <->  [ok] - 剩余数量：375\n"
     ]
    },
    {
     "name": "stderr",
     "output_type": "stream",
     "text": [
      "C:\\Users\\YangTeng\\AppData\\Local\\Temp\\ipykernel_2604\\3929323490.py:58: FutureWarning: Setting an item of incompatible dtype is deprecated and will raise in a future error of pandas. Value 'ok' has dtype incompatible with float64, please explicitly cast to a compatible dtype first.\n",
      "  df_temp.loc[0, 'status'] = 'ok'\n",
      "C:\\Users\\YangTeng\\AppData\\Local\\Temp\\ipykernel_2604\\3929323490.py:59: FutureWarning: Setting an item of incompatible dtype is deprecated and will raise in a future error of pandas. Value 'https://ecatalog.smpcorp.com/V2/STD/api/part/partsearch?filterType=n&searchType=p&imageSize=80&limit=1&sort=3&catFilter=-All-&yearFilter=-All-&makeFilter=-All-&modelFilter=-All-&engineFilter=-All-&attrCodeFilter=-All-&attrValueFilter=-All-&plkEngineMakeFilter=-All-&plkEngineModelFilter=-All-&plkEngineDispFilter=-All-&filter=Accelerator%20Pedal%20Sensor%20(APS)&start=77' has dtype incompatible with float64, please explicitly cast to a compatible dtype first.\n",
      "  df_temp.loc[0, 'Url'] = url\n"
     ]
    },
    {
     "name": "stdout",
     "output_type": "stream",
     "text": [
      "https://ecatalog.smpcorp.com/V2/STD/api/part/partsearch?filterType=n&searchType=p&imageSize=80&limit=1&sort=3&catFilter=-All-&yearFilter=-All-&makeFilter=-All-&modelFilter=-All-&engineFilter=-All-&attrCodeFilter=-All-&attrValueFilter=-All-&plkEngineMakeFilter=-All-&plkEngineModelFilter=-All-&plkEngineDispFilter=-All-&filter=Accelerator%20Pedal%20Sensor%20(APS)&start=77  <->  [ok] - 剩余数量：374\n"
     ]
    },
    {
     "name": "stderr",
     "output_type": "stream",
     "text": [
      "C:\\Users\\YangTeng\\AppData\\Local\\Temp\\ipykernel_2604\\3929323490.py:58: FutureWarning: Setting an item of incompatible dtype is deprecated and will raise in a future error of pandas. Value 'ok' has dtype incompatible with float64, please explicitly cast to a compatible dtype first.\n",
      "  df_temp.loc[0, 'status'] = 'ok'\n",
      "C:\\Users\\YangTeng\\AppData\\Local\\Temp\\ipykernel_2604\\3929323490.py:59: FutureWarning: Setting an item of incompatible dtype is deprecated and will raise in a future error of pandas. Value 'https://ecatalog.smpcorp.com/V2/STD/api/part/partsearch?filterType=n&searchType=p&imageSize=80&limit=1&sort=3&catFilter=-All-&yearFilter=-All-&makeFilter=-All-&modelFilter=-All-&engineFilter=-All-&attrCodeFilter=-All-&attrValueFilter=-All-&plkEngineMakeFilter=-All-&plkEngineModelFilter=-All-&plkEngineDispFilter=-All-&filter=Accelerator%20Pedal%20Sensor%20(APS)&start=81' has dtype incompatible with float64, please explicitly cast to a compatible dtype first.\n",
      "  df_temp.loc[0, 'Url'] = url\n",
      "C:\\Users\\YangTeng\\AppData\\Local\\Temp\\ipykernel_2604\\3929323490.py:58: FutureWarning: Setting an item of incompatible dtype is deprecated and will raise in a future error of pandas. Value 'ok' has dtype incompatible with float64, please explicitly cast to a compatible dtype first.\n",
      "  df_temp.loc[0, 'status'] = 'ok'\n",
      "C:\\Users\\YangTeng\\AppData\\Local\\Temp\\ipykernel_2604\\3929323490.py:59: FutureWarning: Setting an item of incompatible dtype is deprecated and will raise in a future error of pandas. Value 'https://ecatalog.smpcorp.com/V2/STD/api/part/partsearch?filterType=n&searchType=p&imageSize=80&limit=1&sort=3&catFilter=-All-&yearFilter=-All-&makeFilter=-All-&modelFilter=-All-&engineFilter=-All-&attrCodeFilter=-All-&attrValueFilter=-All-&plkEngineMakeFilter=-All-&plkEngineModelFilter=-All-&plkEngineDispFilter=-All-&filter=Accelerator%20Pedal%20Sensor%20(APS)&start=74' has dtype incompatible with float64, please explicitly cast to a compatible dtype first.\n",
      "  df_temp.loc[0, 'Url'] = url\n",
      "C:\\Users\\YangTeng\\AppData\\Local\\Temp\\ipykernel_2604\\3929323490.py:58: FutureWarning: Setting an item of incompatible dtype is deprecated and will raise in a future error of pandas. Value 'ok' has dtype incompatible with float64, please explicitly cast to a compatible dtype first.\n",
      "  df_temp.loc[0, 'status'] = 'ok'\n",
      "C:\\Users\\YangTeng\\AppData\\Local\\Temp\\ipykernel_2604\\3929323490.py:59: FutureWarning: Setting an item of incompatible dtype is deprecated and will raise in a future error of pandas. Value 'https://ecatalog.smpcorp.com/V2/STD/api/part/partsearch?filterType=n&searchType=p&imageSize=80&limit=1&sort=3&catFilter=-All-&yearFilter=-All-&makeFilter=-All-&modelFilter=-All-&engineFilter=-All-&attrCodeFilter=-All-&attrValueFilter=-All-&plkEngineMakeFilter=-All-&plkEngineModelFilter=-All-&plkEngineDispFilter=-All-&filter=Accelerator%20Pedal%20Sensor%20(APS)&start=75' has dtype incompatible with float64, please explicitly cast to a compatible dtype first.\n",
      "  df_temp.loc[0, 'Url'] = url\n"
     ]
    },
    {
     "name": "stdout",
     "output_type": "stream",
     "text": [
      "https://ecatalog.smpcorp.com/V2/STD/api/part/partsearch?filterType=n&searchType=p&imageSize=80&limit=1&sort=3&catFilter=-All-&yearFilter=-All-&makeFilter=-All-&modelFilter=-All-&engineFilter=-All-&attrCodeFilter=-All-&attrValueFilter=-All-&plkEngineMakeFilter=-All-&plkEngineModelFilter=-All-&plkEngineDispFilter=-All-&filter=Accelerator%20Pedal%20Sensor%20(APS)&start=81  <->  [ok] - 剩余数量：373\n",
      "https://ecatalog.smpcorp.com/V2/STD/api/part/partsearch?filterType=n&searchType=p&imageSize=80&limit=1&sort=3&catFilter=-All-&yearFilter=-All-&makeFilter=-All-&modelFilter=-All-&engineFilter=-All-&attrCodeFilter=-All-&attrValueFilter=-All-&plkEngineMakeFilter=-All-&plkEngineModelFilter=-All-&plkEngineDispFilter=-All-&filter=Accelerator%20Pedal%20Sensor%20(APS)&start=74  <->  [ok] - 剩余数量：372\n",
      "https://ecatalog.smpcorp.com/V2/STD/api/part/partsearch?filterType=n&searchType=p&imageSize=80&limit=1&sort=3&catFilter=-All-&yearFilter=-All-&makeFilter=-All-&modelFilter=-All-&engineFilter=-All-&attrCodeFilter=-All-&attrValueFilter=-All-&plkEngineMakeFilter=-All-&plkEngineModelFilter=-All-&plkEngineDispFilter=-All-&filter=Accelerator%20Pedal%20Sensor%20(APS)&start=75  <->  [ok] - 剩余数量：371\n"
     ]
    },
    {
     "name": "stderr",
     "output_type": "stream",
     "text": [
      "C:\\Users\\YangTeng\\AppData\\Local\\Temp\\ipykernel_2604\\3929323490.py:58: FutureWarning: Setting an item of incompatible dtype is deprecated and will raise in a future error of pandas. Value 'ok' has dtype incompatible with float64, please explicitly cast to a compatible dtype first.\n",
      "  df_temp.loc[0, 'status'] = 'ok'\n",
      "C:\\Users\\YangTeng\\AppData\\Local\\Temp\\ipykernel_2604\\3929323490.py:59: FutureWarning: Setting an item of incompatible dtype is deprecated and will raise in a future error of pandas. Value 'https://ecatalog.smpcorp.com/V2/STD/api/part/partsearch?filterType=n&searchType=p&imageSize=80&limit=1&sort=3&catFilter=-All-&yearFilter=-All-&makeFilter=-All-&modelFilter=-All-&engineFilter=-All-&attrCodeFilter=-All-&attrValueFilter=-All-&plkEngineMakeFilter=-All-&plkEngineModelFilter=-All-&plkEngineDispFilter=-All-&filter=Accelerator%20Pedal%20Sensor%20(APS)&start=78' has dtype incompatible with float64, please explicitly cast to a compatible dtype first.\n",
      "  df_temp.loc[0, 'Url'] = url\n"
     ]
    },
    {
     "name": "stdout",
     "output_type": "stream",
     "text": [
      "https://ecatalog.smpcorp.com/V2/STD/api/part/partsearch?filterType=n&searchType=p&imageSize=80&limit=1&sort=3&catFilter=-All-&yearFilter=-All-&makeFilter=-All-&modelFilter=-All-&engineFilter=-All-&attrCodeFilter=-All-&attrValueFilter=-All-&plkEngineMakeFilter=-All-&plkEngineModelFilter=-All-&plkEngineDispFilter=-All-&filter=Accelerator%20Pedal%20Sensor%20(APS)&start=78  <->  [ok] - 剩余数量：370\n"
     ]
    },
    {
     "name": "stderr",
     "output_type": "stream",
     "text": [
      "C:\\Users\\YangTeng\\AppData\\Local\\Temp\\ipykernel_2604\\3929323490.py:58: FutureWarning: Setting an item of incompatible dtype is deprecated and will raise in a future error of pandas. Value 'ok' has dtype incompatible with float64, please explicitly cast to a compatible dtype first.\n",
      "  df_temp.loc[0, 'status'] = 'ok'\n",
      "C:\\Users\\YangTeng\\AppData\\Local\\Temp\\ipykernel_2604\\3929323490.py:59: FutureWarning: Setting an item of incompatible dtype is deprecated and will raise in a future error of pandas. Value 'https://ecatalog.smpcorp.com/V2/STD/api/part/partsearch?filterType=n&searchType=p&imageSize=80&limit=1&sort=3&catFilter=-All-&yearFilter=-All-&makeFilter=-All-&modelFilter=-All-&engineFilter=-All-&attrCodeFilter=-All-&attrValueFilter=-All-&plkEngineMakeFilter=-All-&plkEngineModelFilter=-All-&plkEngineDispFilter=-All-&filter=Accelerator%20Pedal%20Sensor%20(APS)&start=80' has dtype incompatible with float64, please explicitly cast to a compatible dtype first.\n",
      "  df_temp.loc[0, 'Url'] = url\n",
      "C:\\Users\\YangTeng\\AppData\\Local\\Temp\\ipykernel_2604\\3929323490.py:58: FutureWarning: Setting an item of incompatible dtype is deprecated and will raise in a future error of pandas. Value 'ok' has dtype incompatible with float64, please explicitly cast to a compatible dtype first.\n",
      "  df_temp.loc[0, 'status'] = 'ok'\n",
      "C:\\Users\\YangTeng\\AppData\\Local\\Temp\\ipykernel_2604\\3929323490.py:59: FutureWarning: Setting an item of incompatible dtype is deprecated and will raise in a future error of pandas. Value 'https://ecatalog.smpcorp.com/V2/STD/api/part/partsearch?filterType=n&searchType=p&imageSize=80&limit=1&sort=3&catFilter=-All-&yearFilter=-All-&makeFilter=-All-&modelFilter=-All-&engineFilter=-All-&attrCodeFilter=-All-&attrValueFilter=-All-&plkEngineMakeFilter=-All-&plkEngineModelFilter=-All-&plkEngineDispFilter=-All-&filter=Accelerator%20Pedal%20Sensor%20(APS)&start=89' has dtype incompatible with float64, please explicitly cast to a compatible dtype first.\n",
      "  df_temp.loc[0, 'Url'] = url\n",
      "C:\\Users\\YangTeng\\AppData\\Local\\Temp\\ipykernel_2604\\3929323490.py:58: FutureWarning: Setting an item of incompatible dtype is deprecated and will raise in a future error of pandas. Value 'ok' has dtype incompatible with float64, please explicitly cast to a compatible dtype first.\n",
      "  df_temp.loc[0, 'status'] = 'ok'\n",
      "C:\\Users\\YangTeng\\AppData\\Local\\Temp\\ipykernel_2604\\3929323490.py:59: FutureWarning: Setting an item of incompatible dtype is deprecated and will raise in a future error of pandas. Value 'https://ecatalog.smpcorp.com/V2/STD/api/part/partsearch?filterType=n&searchType=p&imageSize=80&limit=1&sort=3&catFilter=-All-&yearFilter=-All-&makeFilter=-All-&modelFilter=-All-&engineFilter=-All-&attrCodeFilter=-All-&attrValueFilter=-All-&plkEngineMakeFilter=-All-&plkEngineModelFilter=-All-&plkEngineDispFilter=-All-&filter=Accelerator%20Pedal%20Sensor%20(APS)&start=88' has dtype incompatible with float64, please explicitly cast to a compatible dtype first.\n",
      "  df_temp.loc[0, 'Url'] = url\n"
     ]
    },
    {
     "name": "stdout",
     "output_type": "stream",
     "text": [
      "https://ecatalog.smpcorp.com/V2/STD/api/part/partsearch?filterType=n&searchType=p&imageSize=80&limit=1&sort=3&catFilter=-All-&yearFilter=-All-&makeFilter=-All-&modelFilter=-All-&engineFilter=-All-&attrCodeFilter=-All-&attrValueFilter=-All-&plkEngineMakeFilter=-All-&plkEngineModelFilter=-All-&plkEngineDispFilter=-All-&filter=Accelerator%20Pedal%20Sensor%20(APS)&start=80  <->  [ok] - 剩余数量：369\n",
      "https://ecatalog.smpcorp.com/V2/STD/api/part/partsearch?filterType=n&searchType=p&imageSize=80&limit=1&sort=3&catFilter=-All-&yearFilter=-All-&makeFilter=-All-&modelFilter=-All-&engineFilter=-All-&attrCodeFilter=-All-&attrValueFilter=-All-&plkEngineMakeFilter=-All-&plkEngineModelFilter=-All-&plkEngineDispFilter=-All-&filter=Accelerator%20Pedal%20Sensor%20(APS)&start=89  <->  [ok] - 剩余数量：368\n",
      "https://ecatalog.smpcorp.com/V2/STD/api/part/partsearch?filterType=n&searchType=p&imageSize=80&limit=1&sort=3&catFilter=-All-&yearFilter=-All-&makeFilter=-All-&modelFilter=-All-&engineFilter=-All-&attrCodeFilter=-All-&attrValueFilter=-All-&plkEngineMakeFilter=-All-&plkEngineModelFilter=-All-&plkEngineDispFilter=-All-&filter=Accelerator%20Pedal%20Sensor%20(APS)&start=88  <->  [ok] - 剩余数量：367\n"
     ]
    },
    {
     "name": "stderr",
     "output_type": "stream",
     "text": [
      "C:\\Users\\YangTeng\\AppData\\Local\\Temp\\ipykernel_2604\\3929323490.py:58: FutureWarning: Setting an item of incompatible dtype is deprecated and will raise in a future error of pandas. Value 'ok' has dtype incompatible with float64, please explicitly cast to a compatible dtype first.\n",
      "  df_temp.loc[0, 'status'] = 'ok'\n",
      "C:\\Users\\YangTeng\\AppData\\Local\\Temp\\ipykernel_2604\\3929323490.py:59: FutureWarning: Setting an item of incompatible dtype is deprecated and will raise in a future error of pandas. Value 'https://ecatalog.smpcorp.com/V2/STD/api/part/partsearch?filterType=n&searchType=p&imageSize=80&limit=1&sort=3&catFilter=-All-&yearFilter=-All-&makeFilter=-All-&modelFilter=-All-&engineFilter=-All-&attrCodeFilter=-All-&attrValueFilter=-All-&plkEngineMakeFilter=-All-&plkEngineModelFilter=-All-&plkEngineDispFilter=-All-&filter=Accelerator%20Pedal%20Sensor%20(APS)&start=84' has dtype incompatible with float64, please explicitly cast to a compatible dtype first.\n",
      "  df_temp.loc[0, 'Url'] = url\n",
      "C:\\Users\\YangTeng\\AppData\\Local\\Temp\\ipykernel_2604\\3929323490.py:58: FutureWarning: Setting an item of incompatible dtype is deprecated and will raise in a future error of pandas. Value 'ok' has dtype incompatible with float64, please explicitly cast to a compatible dtype first.\n",
      "  df_temp.loc[0, 'status'] = 'ok'\n",
      "C:\\Users\\YangTeng\\AppData\\Local\\Temp\\ipykernel_2604\\3929323490.py:59: FutureWarning: Setting an item of incompatible dtype is deprecated and will raise in a future error of pandas. Value 'https://ecatalog.smpcorp.com/V2/STD/api/part/partsearch?filterType=n&searchType=p&imageSize=80&limit=1&sort=3&catFilter=-All-&yearFilter=-All-&makeFilter=-All-&modelFilter=-All-&engineFilter=-All-&attrCodeFilter=-All-&attrValueFilter=-All-&plkEngineMakeFilter=-All-&plkEngineModelFilter=-All-&plkEngineDispFilter=-All-&filter=Accelerator%20Pedal%20Sensor%20(APS)&start=90' has dtype incompatible with float64, please explicitly cast to a compatible dtype first.\n",
      "  df_temp.loc[0, 'Url'] = url\n"
     ]
    },
    {
     "name": "stdout",
     "output_type": "stream",
     "text": [
      "https://ecatalog.smpcorp.com/V2/STD/api/part/partsearch?filterType=n&searchType=p&imageSize=80&limit=1&sort=3&catFilter=-All-&yearFilter=-All-&makeFilter=-All-&modelFilter=-All-&engineFilter=-All-&attrCodeFilter=-All-&attrValueFilter=-All-&plkEngineMakeFilter=-All-&plkEngineModelFilter=-All-&plkEngineDispFilter=-All-&filter=Accelerator%20Pedal%20Sensor%20(APS)&start=84  <->  [ok] - 剩余数量：366\n",
      "https://ecatalog.smpcorp.com/V2/STD/api/part/partsearch?filterType=n&searchType=p&imageSize=80&limit=1&sort=3&catFilter=-All-&yearFilter=-All-&makeFilter=-All-&modelFilter=-All-&engineFilter=-All-&attrCodeFilter=-All-&attrValueFilter=-All-&plkEngineMakeFilter=-All-&plkEngineModelFilter=-All-&plkEngineDispFilter=-All-&filter=Accelerator%20Pedal%20Sensor%20(APS)&start=90  <->  [ok] - 剩余数量：365\n"
     ]
    },
    {
     "name": "stderr",
     "output_type": "stream",
     "text": [
      "C:\\Users\\YangTeng\\AppData\\Local\\Temp\\ipykernel_2604\\3929323490.py:58: FutureWarning: Setting an item of incompatible dtype is deprecated and will raise in a future error of pandas. Value 'ok' has dtype incompatible with float64, please explicitly cast to a compatible dtype first.\n",
      "  df_temp.loc[0, 'status'] = 'ok'\n",
      "C:\\Users\\YangTeng\\AppData\\Local\\Temp\\ipykernel_2604\\3929323490.py:59: FutureWarning: Setting an item of incompatible dtype is deprecated and will raise in a future error of pandas. Value 'https://ecatalog.smpcorp.com/V2/STD/api/part/partsearch?filterType=n&searchType=p&imageSize=80&limit=1&sort=3&catFilter=-All-&yearFilter=-All-&makeFilter=-All-&modelFilter=-All-&engineFilter=-All-&attrCodeFilter=-All-&attrValueFilter=-All-&plkEngineMakeFilter=-All-&plkEngineModelFilter=-All-&plkEngineDispFilter=-All-&filter=Accelerator%20Pedal%20Sensor%20(APS)&start=92' has dtype incompatible with float64, please explicitly cast to a compatible dtype first.\n",
      "  df_temp.loc[0, 'Url'] = url\n",
      "C:\\Users\\YangTeng\\AppData\\Local\\Temp\\ipykernel_2604\\3929323490.py:58: FutureWarning: Setting an item of incompatible dtype is deprecated and will raise in a future error of pandas. Value 'ok' has dtype incompatible with float64, please explicitly cast to a compatible dtype first.\n",
      "  df_temp.loc[0, 'status'] = 'ok'\n",
      "C:\\Users\\YangTeng\\AppData\\Local\\Temp\\ipykernel_2604\\3929323490.py:59: FutureWarning: Setting an item of incompatible dtype is deprecated and will raise in a future error of pandas. Value 'https://ecatalog.smpcorp.com/V2/STD/api/part/partsearch?filterType=n&searchType=p&imageSize=80&limit=1&sort=3&catFilter=-All-&yearFilter=-All-&makeFilter=-All-&modelFilter=-All-&engineFilter=-All-&attrCodeFilter=-All-&attrValueFilter=-All-&plkEngineMakeFilter=-All-&plkEngineModelFilter=-All-&plkEngineDispFilter=-All-&filter=Accelerator%20Pedal%20Sensor%20(APS)&start=83' has dtype incompatible with float64, please explicitly cast to a compatible dtype first.\n",
      "  df_temp.loc[0, 'Url'] = url\n",
      "C:\\Users\\YangTeng\\AppData\\Local\\Temp\\ipykernel_2604\\3929323490.py:58: FutureWarning: Setting an item of incompatible dtype is deprecated and will raise in a future error of pandas. Value 'ok' has dtype incompatible with float64, please explicitly cast to a compatible dtype first.\n",
      "  df_temp.loc[0, 'status'] = 'ok'\n",
      "C:\\Users\\YangTeng\\AppData\\Local\\Temp\\ipykernel_2604\\3929323490.py:59: FutureWarning: Setting an item of incompatible dtype is deprecated and will raise in a future error of pandas. Value 'https://ecatalog.smpcorp.com/V2/STD/api/part/partsearch?filterType=n&searchType=p&imageSize=80&limit=1&sort=3&catFilter=-All-&yearFilter=-All-&makeFilter=-All-&modelFilter=-All-&engineFilter=-All-&attrCodeFilter=-All-&attrValueFilter=-All-&plkEngineMakeFilter=-All-&plkEngineModelFilter=-All-&plkEngineDispFilter=-All-&filter=Accelerator%20Pedal%20Sensor%20(APS)&start=86' has dtype incompatible with float64, please explicitly cast to a compatible dtype first.\n",
      "  df_temp.loc[0, 'Url'] = url\n",
      "C:\\Users\\YangTeng\\AppData\\Local\\Temp\\ipykernel_2604\\3929323490.py:58: FutureWarning: Setting an item of incompatible dtype is deprecated and will raise in a future error of pandas. Value 'ok' has dtype incompatible with float64, please explicitly cast to a compatible dtype first.\n",
      "  df_temp.loc[0, 'status'] = 'ok'\n",
      "C:\\Users\\YangTeng\\AppData\\Local\\Temp\\ipykernel_2604\\3929323490.py:59: FutureWarning: Setting an item of incompatible dtype is deprecated and will raise in a future error of pandas. Value 'https://ecatalog.smpcorp.com/V2/STD/api/part/partsearch?filterType=n&searchType=p&imageSize=80&limit=1&sort=3&catFilter=-All-&yearFilter=-All-&makeFilter=-All-&modelFilter=-All-&engineFilter=-All-&attrCodeFilter=-All-&attrValueFilter=-All-&plkEngineMakeFilter=-All-&plkEngineModelFilter=-All-&plkEngineDispFilter=-All-&filter=Accelerator%20Pedal%20Sensor%20(APS)&start=68' has dtype incompatible with float64, please explicitly cast to a compatible dtype first.\n",
      "  df_temp.loc[0, 'Url'] = url\n",
      "C:\\Users\\YangTeng\\AppData\\Local\\Temp\\ipykernel_2604\\3929323490.py:58: FutureWarning: Setting an item of incompatible dtype is deprecated and will raise in a future error of pandas. Value 'ok' has dtype incompatible with float64, please explicitly cast to a compatible dtype first.\n",
      "  df_temp.loc[0, 'status'] = 'ok'\n",
      "C:\\Users\\YangTeng\\AppData\\Local\\Temp\\ipykernel_2604\\3929323490.py:59: FutureWarning: Setting an item of incompatible dtype is deprecated and will raise in a future error of pandas. Value 'https://ecatalog.smpcorp.com/V2/STD/api/part/partsearch?filterType=n&searchType=p&imageSize=80&limit=1&sort=3&catFilter=-All-&yearFilter=-All-&makeFilter=-All-&modelFilter=-All-&engineFilter=-All-&attrCodeFilter=-All-&attrValueFilter=-All-&plkEngineMakeFilter=-All-&plkEngineModelFilter=-All-&plkEngineDispFilter=-All-&filter=Accelerator%20Pedal%20Sensor%20(APS)&start=82' has dtype incompatible with float64, please explicitly cast to a compatible dtype first.\n",
      "  df_temp.loc[0, 'Url'] = url\n"
     ]
    },
    {
     "name": "stdout",
     "output_type": "stream",
     "text": [
      "https://ecatalog.smpcorp.com/V2/STD/api/part/partsearch?filterType=n&searchType=p&imageSize=80&limit=1&sort=3&catFilter=-All-&yearFilter=-All-&makeFilter=-All-&modelFilter=-All-&engineFilter=-All-&attrCodeFilter=-All-&attrValueFilter=-All-&plkEngineMakeFilter=-All-&plkEngineModelFilter=-All-&plkEngineDispFilter=-All-&filter=Accelerator%20Pedal%20Sensor%20(APS)&start=92  <->  [ok] - 剩余数量：364\n",
      "https://ecatalog.smpcorp.com/V2/STD/api/part/partsearch?filterType=n&searchType=p&imageSize=80&limit=1&sort=3&catFilter=-All-&yearFilter=-All-&makeFilter=-All-&modelFilter=-All-&engineFilter=-All-&attrCodeFilter=-All-&attrValueFilter=-All-&plkEngineMakeFilter=-All-&plkEngineModelFilter=-All-&plkEngineDispFilter=-All-&filter=Accelerator%20Pedal%20Sensor%20(APS)&start=83  <->  [ok] - 剩余数量：363\n",
      "https://ecatalog.smpcorp.com/V2/STD/api/part/partsearch?filterType=n&searchType=p&imageSize=80&limit=1&sort=3&catFilter=-All-&yearFilter=-All-&makeFilter=-All-&modelFilter=-All-&engineFilter=-All-&attrCodeFilter=-All-&attrValueFilter=-All-&plkEngineMakeFilter=-All-&plkEngineModelFilter=-All-&plkEngineDispFilter=-All-&filter=Accelerator%20Pedal%20Sensor%20(APS)&start=86  <->  [ok] - 剩余数量：362\n",
      "https://ecatalog.smpcorp.com/V2/STD/api/part/partsearch?filterType=n&searchType=p&imageSize=80&limit=1&sort=3&catFilter=-All-&yearFilter=-All-&makeFilter=-All-&modelFilter=-All-&engineFilter=-All-&attrCodeFilter=-All-&attrValueFilter=-All-&plkEngineMakeFilter=-All-&plkEngineModelFilter=-All-&plkEngineDispFilter=-All-&filter=Accelerator%20Pedal%20Sensor%20(APS)&start=68  <->  [ok] - 剩余数量：361\n",
      "https://ecatalog.smpcorp.com/V2/STD/api/part/partsearch?filterType=n&searchType=p&imageSize=80&limit=1&sort=3&catFilter=-All-&yearFilter=-All-&makeFilter=-All-&modelFilter=-All-&engineFilter=-All-&attrCodeFilter=-All-&attrValueFilter=-All-&plkEngineMakeFilter=-All-&plkEngineModelFilter=-All-&plkEngineDispFilter=-All-&filter=Accelerator%20Pedal%20Sensor%20(APS)&start=82  <->  [ok] - 剩余数量：360\n"
     ]
    },
    {
     "name": "stderr",
     "output_type": "stream",
     "text": [
      "C:\\Users\\YangTeng\\AppData\\Local\\Temp\\ipykernel_2604\\3929323490.py:58: FutureWarning: Setting an item of incompatible dtype is deprecated and will raise in a future error of pandas. Value 'ok' has dtype incompatible with float64, please explicitly cast to a compatible dtype first.\n",
      "  df_temp.loc[0, 'status'] = 'ok'\n",
      "C:\\Users\\YangTeng\\AppData\\Local\\Temp\\ipykernel_2604\\3929323490.py:59: FutureWarning: Setting an item of incompatible dtype is deprecated and will raise in a future error of pandas. Value 'https://ecatalog.smpcorp.com/V2/STD/api/part/partsearch?filterType=n&searchType=p&imageSize=80&limit=1&sort=3&catFilter=-All-&yearFilter=-All-&makeFilter=-All-&modelFilter=-All-&engineFilter=-All-&attrCodeFilter=-All-&attrValueFilter=-All-&plkEngineMakeFilter=-All-&plkEngineModelFilter=-All-&plkEngineDispFilter=-All-&filter=Accelerator%20Pedal%20Sensor%20(APS)&start=91' has dtype incompatible with float64, please explicitly cast to a compatible dtype first.\n",
      "  df_temp.loc[0, 'Url'] = url\n",
      "C:\\Users\\YangTeng\\AppData\\Local\\Temp\\ipykernel_2604\\3929323490.py:58: FutureWarning: Setting an item of incompatible dtype is deprecated and will raise in a future error of pandas. Value 'ok' has dtype incompatible with float64, please explicitly cast to a compatible dtype first.\n",
      "  df_temp.loc[0, 'status'] = 'ok'\n",
      "C:\\Users\\YangTeng\\AppData\\Local\\Temp\\ipykernel_2604\\3929323490.py:59: FutureWarning: Setting an item of incompatible dtype is deprecated and will raise in a future error of pandas. Value 'https://ecatalog.smpcorp.com/V2/STD/api/part/partsearch?filterType=n&searchType=p&imageSize=80&limit=1&sort=3&catFilter=-All-&yearFilter=-All-&makeFilter=-All-&modelFilter=-All-&engineFilter=-All-&attrCodeFilter=-All-&attrValueFilter=-All-&plkEngineMakeFilter=-All-&plkEngineModelFilter=-All-&plkEngineDispFilter=-All-&filter=Accelerator%20Pedal%20Sensor%20(APS)&start=85' has dtype incompatible with float64, please explicitly cast to a compatible dtype first.\n",
      "  df_temp.loc[0, 'Url'] = url\n"
     ]
    },
    {
     "name": "stdout",
     "output_type": "stream",
     "text": [
      "https://ecatalog.smpcorp.com/V2/STD/api/part/partsearch?filterType=n&searchType=p&imageSize=80&limit=1&sort=3&catFilter=-All-&yearFilter=-All-&makeFilter=-All-&modelFilter=-All-&engineFilter=-All-&attrCodeFilter=-All-&attrValueFilter=-All-&plkEngineMakeFilter=-All-&plkEngineModelFilter=-All-&plkEngineDispFilter=-All-&filter=Accelerator%20Pedal%20Sensor%20(APS)&start=91  <->  [ok] - 剩余数量：359\n",
      "https://ecatalog.smpcorp.com/V2/STD/api/part/partsearch?filterType=n&searchType=p&imageSize=80&limit=1&sort=3&catFilter=-All-&yearFilter=-All-&makeFilter=-All-&modelFilter=-All-&engineFilter=-All-&attrCodeFilter=-All-&attrValueFilter=-All-&plkEngineMakeFilter=-All-&plkEngineModelFilter=-All-&plkEngineDispFilter=-All-&filter=Accelerator%20Pedal%20Sensor%20(APS)&start=85  <->  [ok] - 剩余数量：358\n"
     ]
    },
    {
     "name": "stderr",
     "output_type": "stream",
     "text": [
      "C:\\Users\\YangTeng\\AppData\\Local\\Temp\\ipykernel_2604\\3929323490.py:58: FutureWarning: Setting an item of incompatible dtype is deprecated and will raise in a future error of pandas. Value 'ok' has dtype incompatible with float64, please explicitly cast to a compatible dtype first.\n",
      "  df_temp.loc[0, 'status'] = 'ok'\n",
      "C:\\Users\\YangTeng\\AppData\\Local\\Temp\\ipykernel_2604\\3929323490.py:59: FutureWarning: Setting an item of incompatible dtype is deprecated and will raise in a future error of pandas. Value 'https://ecatalog.smpcorp.com/V2/STD/api/part/partsearch?filterType=n&searchType=p&imageSize=80&limit=1&sort=3&catFilter=-All-&yearFilter=-All-&makeFilter=-All-&modelFilter=-All-&engineFilter=-All-&attrCodeFilter=-All-&attrValueFilter=-All-&plkEngineMakeFilter=-All-&plkEngineModelFilter=-All-&plkEngineDispFilter=-All-&filter=Accelerator%20Pedal%20Sensor%20(APS)&start=95' has dtype incompatible with float64, please explicitly cast to a compatible dtype first.\n",
      "  df_temp.loc[0, 'Url'] = url\n",
      "C:\\Users\\YangTeng\\AppData\\Local\\Temp\\ipykernel_2604\\3929323490.py:58: FutureWarning: Setting an item of incompatible dtype is deprecated and will raise in a future error of pandas. Value 'ok' has dtype incompatible with float64, please explicitly cast to a compatible dtype first.\n",
      "  df_temp.loc[0, 'status'] = 'ok'\n",
      "C:\\Users\\YangTeng\\AppData\\Local\\Temp\\ipykernel_2604\\3929323490.py:59: FutureWarning: Setting an item of incompatible dtype is deprecated and will raise in a future error of pandas. Value 'https://ecatalog.smpcorp.com/V2/STD/api/part/partsearch?filterType=n&searchType=p&imageSize=80&limit=1&sort=3&catFilter=-All-&yearFilter=-All-&makeFilter=-All-&modelFilter=-All-&engineFilter=-All-&attrCodeFilter=-All-&attrValueFilter=-All-&plkEngineMakeFilter=-All-&plkEngineModelFilter=-All-&plkEngineDispFilter=-All-&filter=Accelerator%20Pedal%20Sensor%20(APS)&start=96' has dtype incompatible with float64, please explicitly cast to a compatible dtype first.\n",
      "  df_temp.loc[0, 'Url'] = url\n",
      "C:\\Users\\YangTeng\\AppData\\Local\\Temp\\ipykernel_2604\\3929323490.py:58: FutureWarning: Setting an item of incompatible dtype is deprecated and will raise in a future error of pandas. Value 'ok' has dtype incompatible with float64, please explicitly cast to a compatible dtype first.\n",
      "  df_temp.loc[0, 'status'] = 'ok'\n",
      "C:\\Users\\YangTeng\\AppData\\Local\\Temp\\ipykernel_2604\\3929323490.py:59: FutureWarning: Setting an item of incompatible dtype is deprecated and will raise in a future error of pandas. Value 'https://ecatalog.smpcorp.com/V2/STD/api/part/partsearch?filterType=n&searchType=p&imageSize=80&limit=1&sort=3&catFilter=-All-&yearFilter=-All-&makeFilter=-All-&modelFilter=-All-&engineFilter=-All-&attrCodeFilter=-All-&attrValueFilter=-All-&plkEngineMakeFilter=-All-&plkEngineModelFilter=-All-&plkEngineDispFilter=-All-&filter=Accelerator%20Pedal%20Sensor%20(APS)&start=100' has dtype incompatible with float64, please explicitly cast to a compatible dtype first.\n",
      "  df_temp.loc[0, 'Url'] = url\n"
     ]
    },
    {
     "name": "stdout",
     "output_type": "stream",
     "text": [
      "https://ecatalog.smpcorp.com/V2/STD/api/part/partsearch?filterType=n&searchType=p&imageSize=80&limit=1&sort=3&catFilter=-All-&yearFilter=-All-&makeFilter=-All-&modelFilter=-All-&engineFilter=-All-&attrCodeFilter=-All-&attrValueFilter=-All-&plkEngineMakeFilter=-All-&plkEngineModelFilter=-All-&plkEngineDispFilter=-All-&filter=Accelerator%20Pedal%20Sensor%20(APS)&start=95  <->  [ok] - 剩余数量：357\n",
      "https://ecatalog.smpcorp.com/V2/STD/api/part/partsearch?filterType=n&searchType=p&imageSize=80&limit=1&sort=3&catFilter=-All-&yearFilter=-All-&makeFilter=-All-&modelFilter=-All-&engineFilter=-All-&attrCodeFilter=-All-&attrValueFilter=-All-&plkEngineMakeFilter=-All-&plkEngineModelFilter=-All-&plkEngineDispFilter=-All-&filter=Accelerator%20Pedal%20Sensor%20(APS)&start=96  <->  [ok] - 剩余数量：356\n",
      "https://ecatalog.smpcorp.com/V2/STD/api/part/partsearch?filterType=n&searchType=p&imageSize=80&limit=1&sort=3&catFilter=-All-&yearFilter=-All-&makeFilter=-All-&modelFilter=-All-&engineFilter=-All-&attrCodeFilter=-All-&attrValueFilter=-All-&plkEngineMakeFilter=-All-&plkEngineModelFilter=-All-&plkEngineDispFilter=-All-&filter=Accelerator%20Pedal%20Sensor%20(APS)&start=100  <->  [ok] - 剩余数量：355\n"
     ]
    },
    {
     "name": "stderr",
     "output_type": "stream",
     "text": [
      "C:\\Users\\YangTeng\\AppData\\Local\\Temp\\ipykernel_2604\\3929323490.py:58: FutureWarning: Setting an item of incompatible dtype is deprecated and will raise in a future error of pandas. Value 'ok' has dtype incompatible with float64, please explicitly cast to a compatible dtype first.\n",
      "  df_temp.loc[0, 'status'] = 'ok'\n",
      "C:\\Users\\YangTeng\\AppData\\Local\\Temp\\ipykernel_2604\\3929323490.py:59: FutureWarning: Setting an item of incompatible dtype is deprecated and will raise in a future error of pandas. Value 'https://ecatalog.smpcorp.com/V2/STD/api/part/partsearch?filterType=n&searchType=p&imageSize=80&limit=1&sort=3&catFilter=-All-&yearFilter=-All-&makeFilter=-All-&modelFilter=-All-&engineFilter=-All-&attrCodeFilter=-All-&attrValueFilter=-All-&plkEngineMakeFilter=-All-&plkEngineModelFilter=-All-&plkEngineDispFilter=-All-&filter=Accelerator%20Pedal%20Sensor%20(APS)&start=99' has dtype incompatible with float64, please explicitly cast to a compatible dtype first.\n",
      "  df_temp.loc[0, 'Url'] = url\n"
     ]
    },
    {
     "name": "stdout",
     "output_type": "stream",
     "text": [
      "https://ecatalog.smpcorp.com/V2/STD/api/part/partsearch?filterType=n&searchType=p&imageSize=80&limit=1&sort=3&catFilter=-All-&yearFilter=-All-&makeFilter=-All-&modelFilter=-All-&engineFilter=-All-&attrCodeFilter=-All-&attrValueFilter=-All-&plkEngineMakeFilter=-All-&plkEngineModelFilter=-All-&plkEngineDispFilter=-All-&filter=Accelerator%20Pedal%20Sensor%20(APS)&start=99  <->  [ok] - 剩余数量：354\n"
     ]
    },
    {
     "name": "stderr",
     "output_type": "stream",
     "text": [
      "C:\\Users\\YangTeng\\AppData\\Local\\Temp\\ipykernel_2604\\3929323490.py:58: FutureWarning: Setting an item of incompatible dtype is deprecated and will raise in a future error of pandas. Value 'ok' has dtype incompatible with float64, please explicitly cast to a compatible dtype first.\n",
      "  df_temp.loc[0, 'status'] = 'ok'\n",
      "C:\\Users\\YangTeng\\AppData\\Local\\Temp\\ipykernel_2604\\3929323490.py:59: FutureWarning: Setting an item of incompatible dtype is deprecated and will raise in a future error of pandas. Value 'https://ecatalog.smpcorp.com/V2/STD/api/part/partsearch?filterType=n&searchType=p&imageSize=80&limit=1&sort=3&catFilter=-All-&yearFilter=-All-&makeFilter=-All-&modelFilter=-All-&engineFilter=-All-&attrCodeFilter=-All-&attrValueFilter=-All-&plkEngineMakeFilter=-All-&plkEngineModelFilter=-All-&plkEngineDispFilter=-All-&filter=Accelerator%20Pedal%20Sensor%20(APS)&start=93' has dtype incompatible with float64, please explicitly cast to a compatible dtype first.\n",
      "  df_temp.loc[0, 'Url'] = url\n",
      "C:\\Users\\YangTeng\\AppData\\Local\\Temp\\ipykernel_2604\\3929323490.py:58: FutureWarning: Setting an item of incompatible dtype is deprecated and will raise in a future error of pandas. Value 'ok' has dtype incompatible with float64, please explicitly cast to a compatible dtype first.\n",
      "  df_temp.loc[0, 'status'] = 'ok'\n",
      "C:\\Users\\YangTeng\\AppData\\Local\\Temp\\ipykernel_2604\\3929323490.py:59: FutureWarning: Setting an item of incompatible dtype is deprecated and will raise in a future error of pandas. Value 'https://ecatalog.smpcorp.com/V2/STD/api/part/partsearch?filterType=n&searchType=p&imageSize=80&limit=1&sort=3&catFilter=-All-&yearFilter=-All-&makeFilter=-All-&modelFilter=-All-&engineFilter=-All-&attrCodeFilter=-All-&attrValueFilter=-All-&plkEngineMakeFilter=-All-&plkEngineModelFilter=-All-&plkEngineDispFilter=-All-&filter=Accelerator%20Pedal%20Sensor%20(APS)&start=101' has dtype incompatible with float64, please explicitly cast to a compatible dtype first.\n",
      "  df_temp.loc[0, 'Url'] = url\n"
     ]
    },
    {
     "name": "stdout",
     "output_type": "stream",
     "text": [
      "https://ecatalog.smpcorp.com/V2/STD/api/part/partsearch?filterType=n&searchType=p&imageSize=80&limit=1&sort=3&catFilter=-All-&yearFilter=-All-&makeFilter=-All-&modelFilter=-All-&engineFilter=-All-&attrCodeFilter=-All-&attrValueFilter=-All-&plkEngineMakeFilter=-All-&plkEngineModelFilter=-All-&plkEngineDispFilter=-All-&filter=Accelerator%20Pedal%20Sensor%20(APS)&start=93  <->  [ok] - 剩余数量：353\n",
      "https://ecatalog.smpcorp.com/V2/STD/api/part/partsearch?filterType=n&searchType=p&imageSize=80&limit=1&sort=3&catFilter=-All-&yearFilter=-All-&makeFilter=-All-&modelFilter=-All-&engineFilter=-All-&attrCodeFilter=-All-&attrValueFilter=-All-&plkEngineMakeFilter=-All-&plkEngineModelFilter=-All-&plkEngineDispFilter=-All-&filter=Accelerator%20Pedal%20Sensor%20(APS)&start=101  <->  [ok] - 剩余数量：352\n"
     ]
    },
    {
     "name": "stderr",
     "output_type": "stream",
     "text": [
      "C:\\Users\\YangTeng\\AppData\\Local\\Temp\\ipykernel_2604\\3929323490.py:58: FutureWarning: Setting an item of incompatible dtype is deprecated and will raise in a future error of pandas. Value 'ok' has dtype incompatible with float64, please explicitly cast to a compatible dtype first.\n",
      "  df_temp.loc[0, 'status'] = 'ok'\n",
      "C:\\Users\\YangTeng\\AppData\\Local\\Temp\\ipykernel_2604\\3929323490.py:59: FutureWarning: Setting an item of incompatible dtype is deprecated and will raise in a future error of pandas. Value 'https://ecatalog.smpcorp.com/V2/STD/api/part/partsearch?filterType=n&searchType=p&imageSize=80&limit=1&sort=3&catFilter=-All-&yearFilter=-All-&makeFilter=-All-&modelFilter=-All-&engineFilter=-All-&attrCodeFilter=-All-&attrValueFilter=-All-&plkEngineMakeFilter=-All-&plkEngineModelFilter=-All-&plkEngineDispFilter=-All-&filter=Accelerator%20Pedal%20Sensor%20(APS)&start=102' has dtype incompatible with float64, please explicitly cast to a compatible dtype first.\n",
      "  df_temp.loc[0, 'Url'] = url\n",
      "C:\\Users\\YangTeng\\AppData\\Local\\Temp\\ipykernel_2604\\3929323490.py:58: FutureWarning: Setting an item of incompatible dtype is deprecated and will raise in a future error of pandas. Value 'ok' has dtype incompatible with float64, please explicitly cast to a compatible dtype first.\n",
      "  df_temp.loc[0, 'status'] = 'ok'\n",
      "C:\\Users\\YangTeng\\AppData\\Local\\Temp\\ipykernel_2604\\3929323490.py:59: FutureWarning: Setting an item of incompatible dtype is deprecated and will raise in a future error of pandas. Value 'https://ecatalog.smpcorp.com/V2/STD/api/part/partsearch?filterType=n&searchType=p&imageSize=80&limit=1&sort=3&catFilter=-All-&yearFilter=-All-&makeFilter=-All-&modelFilter=-All-&engineFilter=-All-&attrCodeFilter=-All-&attrValueFilter=-All-&plkEngineMakeFilter=-All-&plkEngineModelFilter=-All-&plkEngineDispFilter=-All-&filter=Accelerator%20Pedal%20Sensor%20(APS)&start=104' has dtype incompatible with float64, please explicitly cast to a compatible dtype first.\n",
      "  df_temp.loc[0, 'Url'] = url\n",
      "C:\\Users\\YangTeng\\AppData\\Local\\Temp\\ipykernel_2604\\3929323490.py:58: FutureWarning: Setting an item of incompatible dtype is deprecated and will raise in a future error of pandas. Value 'ok' has dtype incompatible with float64, please explicitly cast to a compatible dtype first.\n",
      "  df_temp.loc[0, 'status'] = 'ok'\n",
      "C:\\Users\\YangTeng\\AppData\\Local\\Temp\\ipykernel_2604\\3929323490.py:59: FutureWarning: Setting an item of incompatible dtype is deprecated and will raise in a future error of pandas. Value 'https://ecatalog.smpcorp.com/V2/STD/api/part/partsearch?filterType=n&searchType=p&imageSize=80&limit=1&sort=3&catFilter=-All-&yearFilter=-All-&makeFilter=-All-&modelFilter=-All-&engineFilter=-All-&attrCodeFilter=-All-&attrValueFilter=-All-&plkEngineMakeFilter=-All-&plkEngineModelFilter=-All-&plkEngineDispFilter=-All-&filter=Accelerator%20Pedal%20Sensor%20(APS)&start=105' has dtype incompatible with float64, please explicitly cast to a compatible dtype first.\n",
      "  df_temp.loc[0, 'Url'] = url\n",
      "C:\\Users\\YangTeng\\AppData\\Local\\Temp\\ipykernel_2604\\3929323490.py:58: FutureWarning: Setting an item of incompatible dtype is deprecated and will raise in a future error of pandas. Value 'ok' has dtype incompatible with float64, please explicitly cast to a compatible dtype first.\n",
      "  df_temp.loc[0, 'status'] = 'ok'\n",
      "C:\\Users\\YangTeng\\AppData\\Local\\Temp\\ipykernel_2604\\3929323490.py:59: FutureWarning: Setting an item of incompatible dtype is deprecated and will raise in a future error of pandas. Value 'https://ecatalog.smpcorp.com/V2/STD/api/part/partsearch?filterType=n&searchType=p&imageSize=80&limit=1&sort=3&catFilter=-All-&yearFilter=-All-&makeFilter=-All-&modelFilter=-All-&engineFilter=-All-&attrCodeFilter=-All-&attrValueFilter=-All-&plkEngineMakeFilter=-All-&plkEngineModelFilter=-All-&plkEngineDispFilter=-All-&filter=Accelerator%20Pedal%20Sensor%20(APS)&start=107' has dtype incompatible with float64, please explicitly cast to a compatible dtype first.\n",
      "  df_temp.loc[0, 'Url'] = url\n",
      "C:\\Users\\YangTeng\\AppData\\Local\\Temp\\ipykernel_2604\\3929323490.py:58: FutureWarning: Setting an item of incompatible dtype is deprecated and will raise in a future error of pandas. Value 'ok' has dtype incompatible with float64, please explicitly cast to a compatible dtype first.\n",
      "  df_temp.loc[0, 'status'] = 'ok'\n",
      "C:\\Users\\YangTeng\\AppData\\Local\\Temp\\ipykernel_2604\\3929323490.py:59: FutureWarning: Setting an item of incompatible dtype is deprecated and will raise in a future error of pandas. Value 'https://ecatalog.smpcorp.com/V2/STD/api/part/partsearch?filterType=n&searchType=p&imageSize=80&limit=1&sort=3&catFilter=-All-&yearFilter=-All-&makeFilter=-All-&modelFilter=-All-&engineFilter=-All-&attrCodeFilter=-All-&attrValueFilter=-All-&plkEngineMakeFilter=-All-&plkEngineModelFilter=-All-&plkEngineDispFilter=-All-&filter=Accelerator%20Pedal%20Sensor%20(APS)&start=94' has dtype incompatible with float64, please explicitly cast to a compatible dtype first.\n",
      "  df_temp.loc[0, 'Url'] = url\n"
     ]
    },
    {
     "name": "stdout",
     "output_type": "stream",
     "text": [
      "https://ecatalog.smpcorp.com/V2/STD/api/part/partsearch?filterType=n&searchType=p&imageSize=80&limit=1&sort=3&catFilter=-All-&yearFilter=-All-&makeFilter=-All-&modelFilter=-All-&engineFilter=-All-&attrCodeFilter=-All-&attrValueFilter=-All-&plkEngineMakeFilter=-All-&plkEngineModelFilter=-All-&plkEngineDispFilter=-All-&filter=Accelerator%20Pedal%20Sensor%20(APS)&start=102  <->  [ok] - 剩余数量：351\n",
      "https://ecatalog.smpcorp.com/V2/STD/api/part/partsearch?filterType=n&searchType=p&imageSize=80&limit=1&sort=3&catFilter=-All-&yearFilter=-All-&makeFilter=-All-&modelFilter=-All-&engineFilter=-All-&attrCodeFilter=-All-&attrValueFilter=-All-&plkEngineMakeFilter=-All-&plkEngineModelFilter=-All-&plkEngineDispFilter=-All-&filter=Accelerator%20Pedal%20Sensor%20(APS)&start=104  <->  [ok] - 剩余数量：350\n",
      "https://ecatalog.smpcorp.com/V2/STD/api/part/partsearch?filterType=n&searchType=p&imageSize=80&limit=1&sort=3&catFilter=-All-&yearFilter=-All-&makeFilter=-All-&modelFilter=-All-&engineFilter=-All-&attrCodeFilter=-All-&attrValueFilter=-All-&plkEngineMakeFilter=-All-&plkEngineModelFilter=-All-&plkEngineDispFilter=-All-&filter=Accelerator%20Pedal%20Sensor%20(APS)&start=105  <->  [ok] - 剩余数量：349\n",
      "https://ecatalog.smpcorp.com/V2/STD/api/part/partsearch?filterType=n&searchType=p&imageSize=80&limit=1&sort=3&catFilter=-All-&yearFilter=-All-&makeFilter=-All-&modelFilter=-All-&engineFilter=-All-&attrCodeFilter=-All-&attrValueFilter=-All-&plkEngineMakeFilter=-All-&plkEngineModelFilter=-All-&plkEngineDispFilter=-All-&filter=Accelerator%20Pedal%20Sensor%20(APS)&start=107  <->  [ok] - 剩余数量：348\n",
      "https://ecatalog.smpcorp.com/V2/STD/api/part/partsearch?filterType=n&searchType=p&imageSize=80&limit=1&sort=3&catFilter=-All-&yearFilter=-All-&makeFilter=-All-&modelFilter=-All-&engineFilter=-All-&attrCodeFilter=-All-&attrValueFilter=-All-&plkEngineMakeFilter=-All-&plkEngineModelFilter=-All-&plkEngineDispFilter=-All-&filter=Accelerator%20Pedal%20Sensor%20(APS)&start=94  <->  [ok] - 剩余数量：347\n"
     ]
    },
    {
     "name": "stderr",
     "output_type": "stream",
     "text": [
      "C:\\Users\\YangTeng\\AppData\\Local\\Temp\\ipykernel_2604\\3929323490.py:58: FutureWarning: Setting an item of incompatible dtype is deprecated and will raise in a future error of pandas. Value 'ok' has dtype incompatible with float64, please explicitly cast to a compatible dtype first.\n",
      "  df_temp.loc[0, 'status'] = 'ok'\n",
      "C:\\Users\\YangTeng\\AppData\\Local\\Temp\\ipykernel_2604\\3929323490.py:59: FutureWarning: Setting an item of incompatible dtype is deprecated and will raise in a future error of pandas. Value 'https://ecatalog.smpcorp.com/V2/STD/api/part/partsearch?filterType=n&searchType=p&imageSize=80&limit=1&sort=3&catFilter=-All-&yearFilter=-All-&makeFilter=-All-&modelFilter=-All-&engineFilter=-All-&attrCodeFilter=-All-&attrValueFilter=-All-&plkEngineMakeFilter=-All-&plkEngineModelFilter=-All-&plkEngineDispFilter=-All-&filter=Accelerator%20Pedal%20Sensor%20(APS)&start=108' has dtype incompatible with float64, please explicitly cast to a compatible dtype first.\n",
      "  df_temp.loc[0, 'Url'] = url\n",
      "C:\\Users\\YangTeng\\AppData\\Local\\Temp\\ipykernel_2604\\3929323490.py:58: FutureWarning: Setting an item of incompatible dtype is deprecated and will raise in a future error of pandas. Value 'ok' has dtype incompatible with float64, please explicitly cast to a compatible dtype first.\n",
      "  df_temp.loc[0, 'status'] = 'ok'\n",
      "C:\\Users\\YangTeng\\AppData\\Local\\Temp\\ipykernel_2604\\3929323490.py:59: FutureWarning: Setting an item of incompatible dtype is deprecated and will raise in a future error of pandas. Value 'https://ecatalog.smpcorp.com/V2/STD/api/part/partsearch?filterType=n&searchType=p&imageSize=80&limit=1&sort=3&catFilter=-All-&yearFilter=-All-&makeFilter=-All-&modelFilter=-All-&engineFilter=-All-&attrCodeFilter=-All-&attrValueFilter=-All-&plkEngineMakeFilter=-All-&plkEngineModelFilter=-All-&plkEngineDispFilter=-All-&filter=Accelerator%20Pedal%20Sensor%20(APS)&start=106' has dtype incompatible with float64, please explicitly cast to a compatible dtype first.\n",
      "  df_temp.loc[0, 'Url'] = url\n",
      "C:\\Users\\YangTeng\\AppData\\Local\\Temp\\ipykernel_2604\\3929323490.py:58: FutureWarning: Setting an item of incompatible dtype is deprecated and will raise in a future error of pandas. Value 'ok' has dtype incompatible with float64, please explicitly cast to a compatible dtype first.\n",
      "  df_temp.loc[0, 'status'] = 'ok'\n",
      "C:\\Users\\YangTeng\\AppData\\Local\\Temp\\ipykernel_2604\\3929323490.py:59: FutureWarning: Setting an item of incompatible dtype is deprecated and will raise in a future error of pandas. Value 'https://ecatalog.smpcorp.com/V2/STD/api/part/partsearch?filterType=n&searchType=p&imageSize=80&limit=1&sort=3&catFilter=-All-&yearFilter=-All-&makeFilter=-All-&modelFilter=-All-&engineFilter=-All-&attrCodeFilter=-All-&attrValueFilter=-All-&plkEngineMakeFilter=-All-&plkEngineModelFilter=-All-&plkEngineDispFilter=-All-&filter=Accelerator%20Pedal%20Sensor%20(APS)&start=109' has dtype incompatible with float64, please explicitly cast to a compatible dtype first.\n",
      "  df_temp.loc[0, 'Url'] = url\n",
      "C:\\Users\\YangTeng\\AppData\\Local\\Temp\\ipykernel_2604\\3929323490.py:58: FutureWarning: Setting an item of incompatible dtype is deprecated and will raise in a future error of pandas. Value 'ok' has dtype incompatible with float64, please explicitly cast to a compatible dtype first.\n",
      "  df_temp.loc[0, 'status'] = 'ok'\n",
      "C:\\Users\\YangTeng\\AppData\\Local\\Temp\\ipykernel_2604\\3929323490.py:59: FutureWarning: Setting an item of incompatible dtype is deprecated and will raise in a future error of pandas. Value 'https://ecatalog.smpcorp.com/V2/STD/api/part/partsearch?filterType=n&searchType=p&imageSize=80&limit=1&sort=3&catFilter=-All-&yearFilter=-All-&makeFilter=-All-&modelFilter=-All-&engineFilter=-All-&attrCodeFilter=-All-&attrValueFilter=-All-&plkEngineMakeFilter=-All-&plkEngineModelFilter=-All-&plkEngineDispFilter=-All-&filter=Accelerator%20Pedal%20Sensor%20(APS)&start=56' has dtype incompatible with float64, please explicitly cast to a compatible dtype first.\n",
      "  df_temp.loc[0, 'Url'] = url\n"
     ]
    },
    {
     "name": "stdout",
     "output_type": "stream",
     "text": [
      "https://ecatalog.smpcorp.com/V2/STD/api/part/partsearch?filterType=n&searchType=p&imageSize=80&limit=1&sort=3&catFilter=-All-&yearFilter=-All-&makeFilter=-All-&modelFilter=-All-&engineFilter=-All-&attrCodeFilter=-All-&attrValueFilter=-All-&plkEngineMakeFilter=-All-&plkEngineModelFilter=-All-&plkEngineDispFilter=-All-&filter=Accelerator%20Pedal%20Sensor%20(APS)&start=108  <->  [ok] - 剩余数量：346\n",
      "https://ecatalog.smpcorp.com/V2/STD/api/part/partsearch?filterType=n&searchType=p&imageSize=80&limit=1&sort=3&catFilter=-All-&yearFilter=-All-&makeFilter=-All-&modelFilter=-All-&engineFilter=-All-&attrCodeFilter=-All-&attrValueFilter=-All-&plkEngineMakeFilter=-All-&plkEngineModelFilter=-All-&plkEngineDispFilter=-All-&filter=Accelerator%20Pedal%20Sensor%20(APS)&start=106  <->  [ok] - 剩余数量：345\n",
      "https://ecatalog.smpcorp.com/V2/STD/api/part/partsearch?filterType=n&searchType=p&imageSize=80&limit=1&sort=3&catFilter=-All-&yearFilter=-All-&makeFilter=-All-&modelFilter=-All-&engineFilter=-All-&attrCodeFilter=-All-&attrValueFilter=-All-&plkEngineMakeFilter=-All-&plkEngineModelFilter=-All-&plkEngineDispFilter=-All-&filter=Accelerator%20Pedal%20Sensor%20(APS)&start=109  <->  [ok] - 剩余数量：344\n",
      "https://ecatalog.smpcorp.com/V2/STD/api/part/partsearch?filterType=n&searchType=p&imageSize=80&limit=1&sort=3&catFilter=-All-&yearFilter=-All-&makeFilter=-All-&modelFilter=-All-&engineFilter=-All-&attrCodeFilter=-All-&attrValueFilter=-All-&plkEngineMakeFilter=-All-&plkEngineModelFilter=-All-&plkEngineDispFilter=-All-&filter=Accelerator%20Pedal%20Sensor%20(APS)&start=56  <->  [ok] - 剩余数量：343\n"
     ]
    },
    {
     "name": "stderr",
     "output_type": "stream",
     "text": [
      "C:\\Users\\YangTeng\\AppData\\Local\\Temp\\ipykernel_2604\\3929323490.py:58: FutureWarning: Setting an item of incompatible dtype is deprecated and will raise in a future error of pandas. Value 'ok' has dtype incompatible with float64, please explicitly cast to a compatible dtype first.\n",
      "  df_temp.loc[0, 'status'] = 'ok'\n",
      "C:\\Users\\YangTeng\\AppData\\Local\\Temp\\ipykernel_2604\\3929323490.py:59: FutureWarning: Setting an item of incompatible dtype is deprecated and will raise in a future error of pandas. Value 'https://ecatalog.smpcorp.com/V2/STD/api/part/partsearch?filterType=n&searchType=p&imageSize=80&limit=1&sort=3&catFilter=-All-&yearFilter=-All-&makeFilter=-All-&modelFilter=-All-&engineFilter=-All-&attrCodeFilter=-All-&attrValueFilter=-All-&plkEngineMakeFilter=-All-&plkEngineModelFilter=-All-&plkEngineDispFilter=-All-&filter=Accelerator%20Pedal%20Sensor%20(APS)&start=115' has dtype incompatible with float64, please explicitly cast to a compatible dtype first.\n",
      "  df_temp.loc[0, 'Url'] = url\n",
      "C:\\Users\\YangTeng\\AppData\\Local\\Temp\\ipykernel_2604\\3929323490.py:58: FutureWarning: Setting an item of incompatible dtype is deprecated and will raise in a future error of pandas. Value 'ok' has dtype incompatible with float64, please explicitly cast to a compatible dtype first.\n",
      "  df_temp.loc[0, 'status'] = 'ok'\n",
      "C:\\Users\\YangTeng\\AppData\\Local\\Temp\\ipykernel_2604\\3929323490.py:59: FutureWarning: Setting an item of incompatible dtype is deprecated and will raise in a future error of pandas. Value 'https://ecatalog.smpcorp.com/V2/STD/api/part/partsearch?filterType=n&searchType=p&imageSize=80&limit=1&sort=3&catFilter=-All-&yearFilter=-All-&makeFilter=-All-&modelFilter=-All-&engineFilter=-All-&attrCodeFilter=-All-&attrValueFilter=-All-&plkEngineMakeFilter=-All-&plkEngineModelFilter=-All-&plkEngineDispFilter=-All-&filter=Accelerator%20Pedal%20Sensor%20(APS)&start=113' has dtype incompatible with float64, please explicitly cast to a compatible dtype first.\n",
      "  df_temp.loc[0, 'Url'] = url\n"
     ]
    },
    {
     "name": "stdout",
     "output_type": "stream",
     "text": [
      "https://ecatalog.smpcorp.com/V2/STD/api/part/partsearch?filterType=n&searchType=p&imageSize=80&limit=1&sort=3&catFilter=-All-&yearFilter=-All-&makeFilter=-All-&modelFilter=-All-&engineFilter=-All-&attrCodeFilter=-All-&attrValueFilter=-All-&plkEngineMakeFilter=-All-&plkEngineModelFilter=-All-&plkEngineDispFilter=-All-&filter=Accelerator%20Pedal%20Sensor%20(APS)&start=115  <->  [ok] - 剩余数量：342\n",
      "https://ecatalog.smpcorp.com/V2/STD/api/part/partsearch?filterType=n&searchType=p&imageSize=80&limit=1&sort=3&catFilter=-All-&yearFilter=-All-&makeFilter=-All-&modelFilter=-All-&engineFilter=-All-&attrCodeFilter=-All-&attrValueFilter=-All-&plkEngineMakeFilter=-All-&plkEngineModelFilter=-All-&plkEngineDispFilter=-All-&filter=Accelerator%20Pedal%20Sensor%20(APS)&start=113  <->  [ok] - 剩余数量：341\n"
     ]
    },
    {
     "name": "stderr",
     "output_type": "stream",
     "text": [
      "C:\\Users\\YangTeng\\AppData\\Local\\Temp\\ipykernel_2604\\3929323490.py:58: FutureWarning: Setting an item of incompatible dtype is deprecated and will raise in a future error of pandas. Value 'ok' has dtype incompatible with float64, please explicitly cast to a compatible dtype first.\n",
      "  df_temp.loc[0, 'status'] = 'ok'\n",
      "C:\\Users\\YangTeng\\AppData\\Local\\Temp\\ipykernel_2604\\3929323490.py:59: FutureWarning: Setting an item of incompatible dtype is deprecated and will raise in a future error of pandas. Value 'https://ecatalog.smpcorp.com/V2/STD/api/part/partsearch?filterType=n&searchType=p&imageSize=80&limit=1&sort=3&catFilter=-All-&yearFilter=-All-&makeFilter=-All-&modelFilter=-All-&engineFilter=-All-&attrCodeFilter=-All-&attrValueFilter=-All-&plkEngineMakeFilter=-All-&plkEngineModelFilter=-All-&plkEngineDispFilter=-All-&filter=Accelerator%20Pedal%20Sensor%20(APS)&start=110' has dtype incompatible with float64, please explicitly cast to a compatible dtype first.\n",
      "  df_temp.loc[0, 'Url'] = url\n"
     ]
    },
    {
     "name": "stdout",
     "output_type": "stream",
     "text": [
      "https://ecatalog.smpcorp.com/V2/STD/api/part/partsearch?filterType=n&searchType=p&imageSize=80&limit=1&sort=3&catFilter=-All-&yearFilter=-All-&makeFilter=-All-&modelFilter=-All-&engineFilter=-All-&attrCodeFilter=-All-&attrValueFilter=-All-&plkEngineMakeFilter=-All-&plkEngineModelFilter=-All-&plkEngineDispFilter=-All-&filter=Accelerator%20Pedal%20Sensor%20(APS)&start=110  <->  [ok] - 剩余数量：340\n"
     ]
    },
    {
     "name": "stderr",
     "output_type": "stream",
     "text": [
      "C:\\Users\\YangTeng\\AppData\\Local\\Temp\\ipykernel_2604\\3929323490.py:58: FutureWarning: Setting an item of incompatible dtype is deprecated and will raise in a future error of pandas. Value 'ok' has dtype incompatible with float64, please explicitly cast to a compatible dtype first.\n",
      "  df_temp.loc[0, 'status'] = 'ok'\n",
      "C:\\Users\\YangTeng\\AppData\\Local\\Temp\\ipykernel_2604\\3929323490.py:59: FutureWarning: Setting an item of incompatible dtype is deprecated and will raise in a future error of pandas. Value 'https://ecatalog.smpcorp.com/V2/STD/api/part/partsearch?filterType=n&searchType=p&imageSize=80&limit=1&sort=3&catFilter=-All-&yearFilter=-All-&makeFilter=-All-&modelFilter=-All-&engineFilter=-All-&attrCodeFilter=-All-&attrValueFilter=-All-&plkEngineMakeFilter=-All-&plkEngineModelFilter=-All-&plkEngineDispFilter=-All-&filter=Accelerator%20Pedal%20Sensor%20(APS)&start=111' has dtype incompatible with float64, please explicitly cast to a compatible dtype first.\n",
      "  df_temp.loc[0, 'Url'] = url\n",
      "C:\\Users\\YangTeng\\AppData\\Local\\Temp\\ipykernel_2604\\3929323490.py:58: FutureWarning: Setting an item of incompatible dtype is deprecated and will raise in a future error of pandas. Value 'ok' has dtype incompatible with float64, please explicitly cast to a compatible dtype first.\n",
      "  df_temp.loc[0, 'status'] = 'ok'\n",
      "C:\\Users\\YangTeng\\AppData\\Local\\Temp\\ipykernel_2604\\3929323490.py:59: FutureWarning: Setting an item of incompatible dtype is deprecated and will raise in a future error of pandas. Value 'https://ecatalog.smpcorp.com/V2/STD/api/part/partsearch?filterType=n&searchType=p&imageSize=80&limit=1&sort=3&catFilter=-All-&yearFilter=-All-&makeFilter=-All-&modelFilter=-All-&engineFilter=-All-&attrCodeFilter=-All-&attrValueFilter=-All-&plkEngineMakeFilter=-All-&plkEngineModelFilter=-All-&plkEngineDispFilter=-All-&filter=Accelerator%20Pedal%20Sensor%20(APS)&start=112' has dtype incompatible with float64, please explicitly cast to a compatible dtype first.\n",
      "  df_temp.loc[0, 'Url'] = url\n"
     ]
    },
    {
     "name": "stdout",
     "output_type": "stream",
     "text": [
      "https://ecatalog.smpcorp.com/V2/STD/api/part/partsearch?filterType=n&searchType=p&imageSize=80&limit=1&sort=3&catFilter=-All-&yearFilter=-All-&makeFilter=-All-&modelFilter=-All-&engineFilter=-All-&attrCodeFilter=-All-&attrValueFilter=-All-&plkEngineMakeFilter=-All-&plkEngineModelFilter=-All-&plkEngineDispFilter=-All-&filter=Accelerator%20Pedal%20Sensor%20(APS)&start=111  <->  [ok] - 剩余数量：339\n",
      "https://ecatalog.smpcorp.com/V2/STD/api/part/partsearch?filterType=n&searchType=p&imageSize=80&limit=1&sort=3&catFilter=-All-&yearFilter=-All-&makeFilter=-All-&modelFilter=-All-&engineFilter=-All-&attrCodeFilter=-All-&attrValueFilter=-All-&plkEngineMakeFilter=-All-&plkEngineModelFilter=-All-&plkEngineDispFilter=-All-&filter=Accelerator%20Pedal%20Sensor%20(APS)&start=112  <->  [ok] - 剩余数量：338\n"
     ]
    },
    {
     "name": "stderr",
     "output_type": "stream",
     "text": [
      "C:\\Users\\YangTeng\\AppData\\Local\\Temp\\ipykernel_2604\\3929323490.py:58: FutureWarning: Setting an item of incompatible dtype is deprecated and will raise in a future error of pandas. Value 'ok' has dtype incompatible with float64, please explicitly cast to a compatible dtype first.\n",
      "  df_temp.loc[0, 'status'] = 'ok'\n",
      "C:\\Users\\YangTeng\\AppData\\Local\\Temp\\ipykernel_2604\\3929323490.py:59: FutureWarning: Setting an item of incompatible dtype is deprecated and will raise in a future error of pandas. Value 'https://ecatalog.smpcorp.com/V2/STD/api/part/partsearch?filterType=n&searchType=p&imageSize=80&limit=1&sort=3&catFilter=-All-&yearFilter=-All-&makeFilter=-All-&modelFilter=-All-&engineFilter=-All-&attrCodeFilter=-All-&attrValueFilter=-All-&plkEngineMakeFilter=-All-&plkEngineModelFilter=-All-&plkEngineDispFilter=-All-&filter=Accelerator%20Pedal%20Sensor%20(APS)&start=119' has dtype incompatible with float64, please explicitly cast to a compatible dtype first.\n",
      "  df_temp.loc[0, 'Url'] = url\n",
      "C:\\Users\\YangTeng\\AppData\\Local\\Temp\\ipykernel_2604\\3929323490.py:58: FutureWarning: Setting an item of incompatible dtype is deprecated and will raise in a future error of pandas. Value 'ok' has dtype incompatible with float64, please explicitly cast to a compatible dtype first.\n",
      "  df_temp.loc[0, 'status'] = 'ok'\n",
      "C:\\Users\\YangTeng\\AppData\\Local\\Temp\\ipykernel_2604\\3929323490.py:59: FutureWarning: Setting an item of incompatible dtype is deprecated and will raise in a future error of pandas. Value 'https://ecatalog.smpcorp.com/V2/STD/api/part/partsearch?filterType=n&searchType=p&imageSize=80&limit=1&sort=3&catFilter=-All-&yearFilter=-All-&makeFilter=-All-&modelFilter=-All-&engineFilter=-All-&attrCodeFilter=-All-&attrValueFilter=-All-&plkEngineMakeFilter=-All-&plkEngineModelFilter=-All-&plkEngineDispFilter=-All-&filter=Accelerator%20Pedal%20Sensor%20(APS)&start=124' has dtype incompatible with float64, please explicitly cast to a compatible dtype first.\n",
      "  df_temp.loc[0, 'Url'] = url\n",
      "C:\\Users\\YangTeng\\AppData\\Local\\Temp\\ipykernel_2604\\3929323490.py:58: FutureWarning: Setting an item of incompatible dtype is deprecated and will raise in a future error of pandas. Value 'ok' has dtype incompatible with float64, please explicitly cast to a compatible dtype first.\n",
      "  df_temp.loc[0, 'status'] = 'ok'\n",
      "C:\\Users\\YangTeng\\AppData\\Local\\Temp\\ipykernel_2604\\3929323490.py:59: FutureWarning: Setting an item of incompatible dtype is deprecated and will raise in a future error of pandas. Value 'https://ecatalog.smpcorp.com/V2/STD/api/part/partsearch?filterType=n&searchType=p&imageSize=80&limit=1&sort=3&catFilter=-All-&yearFilter=-All-&makeFilter=-All-&modelFilter=-All-&engineFilter=-All-&attrCodeFilter=-All-&attrValueFilter=-All-&plkEngineMakeFilter=-All-&plkEngineModelFilter=-All-&plkEngineDispFilter=-All-&filter=Accelerator%20Pedal%20Sensor%20(APS)&start=118' has dtype incompatible with float64, please explicitly cast to a compatible dtype first.\n",
      "  df_temp.loc[0, 'Url'] = url\n",
      "C:\\Users\\YangTeng\\AppData\\Local\\Temp\\ipykernel_2604\\3929323490.py:58: FutureWarning: Setting an item of incompatible dtype is deprecated and will raise in a future error of pandas. Value 'ok' has dtype incompatible with float64, please explicitly cast to a compatible dtype first.\n",
      "  df_temp.loc[0, 'status'] = 'ok'\n",
      "C:\\Users\\YangTeng\\AppData\\Local\\Temp\\ipykernel_2604\\3929323490.py:59: FutureWarning: Setting an item of incompatible dtype is deprecated and will raise in a future error of pandas. Value 'https://ecatalog.smpcorp.com/V2/STD/api/part/partsearch?filterType=n&searchType=p&imageSize=80&limit=1&sort=3&catFilter=-All-&yearFilter=-All-&makeFilter=-All-&modelFilter=-All-&engineFilter=-All-&attrCodeFilter=-All-&attrValueFilter=-All-&plkEngineMakeFilter=-All-&plkEngineModelFilter=-All-&plkEngineDispFilter=-All-&filter=Accelerator%20Pedal%20Sensor%20(APS)&start=116' has dtype incompatible with float64, please explicitly cast to a compatible dtype first.\n",
      "  df_temp.loc[0, 'Url'] = url\n",
      "C:\\Users\\YangTeng\\AppData\\Local\\Temp\\ipykernel_2604\\3929323490.py:58: FutureWarning: Setting an item of incompatible dtype is deprecated and will raise in a future error of pandas. Value 'ok' has dtype incompatible with float64, please explicitly cast to a compatible dtype first.\n",
      "  df_temp.loc[0, 'status'] = 'ok'\n",
      "C:\\Users\\YangTeng\\AppData\\Local\\Temp\\ipykernel_2604\\3929323490.py:59: FutureWarning: Setting an item of incompatible dtype is deprecated and will raise in a future error of pandas. Value 'https://ecatalog.smpcorp.com/V2/STD/api/part/partsearch?filterType=n&searchType=p&imageSize=80&limit=1&sort=3&catFilter=-All-&yearFilter=-All-&makeFilter=-All-&modelFilter=-All-&engineFilter=-All-&attrCodeFilter=-All-&attrValueFilter=-All-&plkEngineMakeFilter=-All-&plkEngineModelFilter=-All-&plkEngineDispFilter=-All-&filter=Accelerator%20Pedal%20Sensor%20(APS)&start=121' has dtype incompatible with float64, please explicitly cast to a compatible dtype first.\n",
      "  df_temp.loc[0, 'Url'] = url\n",
      "C:\\Users\\YangTeng\\AppData\\Local\\Temp\\ipykernel_2604\\3929323490.py:58: FutureWarning: Setting an item of incompatible dtype is deprecated and will raise in a future error of pandas. Value 'ok' has dtype incompatible with float64, please explicitly cast to a compatible dtype first.\n",
      "  df_temp.loc[0, 'status'] = 'ok'\n",
      "C:\\Users\\YangTeng\\AppData\\Local\\Temp\\ipykernel_2604\\3929323490.py:59: FutureWarning: Setting an item of incompatible dtype is deprecated and will raise in a future error of pandas. Value 'https://ecatalog.smpcorp.com/V2/STD/api/part/partsearch?filterType=n&searchType=p&imageSize=80&limit=1&sort=3&catFilter=-All-&yearFilter=-All-&makeFilter=-All-&modelFilter=-All-&engineFilter=-All-&attrCodeFilter=-All-&attrValueFilter=-All-&plkEngineMakeFilter=-All-&plkEngineModelFilter=-All-&plkEngineDispFilter=-All-&filter=Accelerator%20Pedal%20Sensor%20(APS)&start=117' has dtype incompatible with float64, please explicitly cast to a compatible dtype first.\n",
      "  df_temp.loc[0, 'Url'] = url\n"
     ]
    },
    {
     "name": "stdout",
     "output_type": "stream",
     "text": [
      "https://ecatalog.smpcorp.com/V2/STD/api/part/partsearch?filterType=n&searchType=p&imageSize=80&limit=1&sort=3&catFilter=-All-&yearFilter=-All-&makeFilter=-All-&modelFilter=-All-&engineFilter=-All-&attrCodeFilter=-All-&attrValueFilter=-All-&plkEngineMakeFilter=-All-&plkEngineModelFilter=-All-&plkEngineDispFilter=-All-&filter=Accelerator%20Pedal%20Sensor%20(APS)&start=119  <->  [ok] - 剩余数量：337\n",
      "https://ecatalog.smpcorp.com/V2/STD/api/part/partsearch?filterType=n&searchType=p&imageSize=80&limit=1&sort=3&catFilter=-All-&yearFilter=-All-&makeFilter=-All-&modelFilter=-All-&engineFilter=-All-&attrCodeFilter=-All-&attrValueFilter=-All-&plkEngineMakeFilter=-All-&plkEngineModelFilter=-All-&plkEngineDispFilter=-All-&filter=Accelerator%20Pedal%20Sensor%20(APS)&start=124  <->  [ok] - 剩余数量：336\n",
      "https://ecatalog.smpcorp.com/V2/STD/api/part/partsearch?filterType=n&searchType=p&imageSize=80&limit=1&sort=3&catFilter=-All-&yearFilter=-All-&makeFilter=-All-&modelFilter=-All-&engineFilter=-All-&attrCodeFilter=-All-&attrValueFilter=-All-&plkEngineMakeFilter=-All-&plkEngineModelFilter=-All-&plkEngineDispFilter=-All-&filter=Accelerator%20Pedal%20Sensor%20(APS)&start=118  <->  [ok] - 剩余数量：335\n",
      "https://ecatalog.smpcorp.com/V2/STD/api/part/partsearch?filterType=n&searchType=p&imageSize=80&limit=1&sort=3&catFilter=-All-&yearFilter=-All-&makeFilter=-All-&modelFilter=-All-&engineFilter=-All-&attrCodeFilter=-All-&attrValueFilter=-All-&plkEngineMakeFilter=-All-&plkEngineModelFilter=-All-&plkEngineDispFilter=-All-&filter=Accelerator%20Pedal%20Sensor%20(APS)&start=116  <->  [ok] - 剩余数量：334\n",
      "https://ecatalog.smpcorp.com/V2/STD/api/part/partsearch?filterType=n&searchType=p&imageSize=80&limit=1&sort=3&catFilter=-All-&yearFilter=-All-&makeFilter=-All-&modelFilter=-All-&engineFilter=-All-&attrCodeFilter=-All-&attrValueFilter=-All-&plkEngineMakeFilter=-All-&plkEngineModelFilter=-All-&plkEngineDispFilter=-All-&filter=Accelerator%20Pedal%20Sensor%20(APS)&start=121  <->  [ok] - 剩余数量：333\n",
      "https://ecatalog.smpcorp.com/V2/STD/api/part/partsearch?filterType=n&searchType=p&imageSize=80&limit=1&sort=3&catFilter=-All-&yearFilter=-All-&makeFilter=-All-&modelFilter=-All-&engineFilter=-All-&attrCodeFilter=-All-&attrValueFilter=-All-&plkEngineMakeFilter=-All-&plkEngineModelFilter=-All-&plkEngineDispFilter=-All-&filter=Accelerator%20Pedal%20Sensor%20(APS)&start=117  <->  [ok] - 剩余数量：332\n"
     ]
    },
    {
     "name": "stderr",
     "output_type": "stream",
     "text": [
      "C:\\Users\\YangTeng\\AppData\\Local\\Temp\\ipykernel_2604\\3929323490.py:58: FutureWarning: Setting an item of incompatible dtype is deprecated and will raise in a future error of pandas. Value 'ok' has dtype incompatible with float64, please explicitly cast to a compatible dtype first.\n",
      "  df_temp.loc[0, 'status'] = 'ok'\n",
      "C:\\Users\\YangTeng\\AppData\\Local\\Temp\\ipykernel_2604\\3929323490.py:59: FutureWarning: Setting an item of incompatible dtype is deprecated and will raise in a future error of pandas. Value 'https://ecatalog.smpcorp.com/V2/STD/api/part/partsearch?filterType=n&searchType=p&imageSize=80&limit=1&sort=3&catFilter=-All-&yearFilter=-All-&makeFilter=-All-&modelFilter=-All-&engineFilter=-All-&attrCodeFilter=-All-&attrValueFilter=-All-&plkEngineMakeFilter=-All-&plkEngineModelFilter=-All-&plkEngineDispFilter=-All-&filter=Accelerator%20Pedal%20Sensor%20(APS)&start=123' has dtype incompatible with float64, please explicitly cast to a compatible dtype first.\n",
      "  df_temp.loc[0, 'Url'] = url\n",
      "C:\\Users\\YangTeng\\AppData\\Local\\Temp\\ipykernel_2604\\3929323490.py:58: FutureWarning: Setting an item of incompatible dtype is deprecated and will raise in a future error of pandas. Value 'ok' has dtype incompatible with float64, please explicitly cast to a compatible dtype first.\n",
      "  df_temp.loc[0, 'status'] = 'ok'\n",
      "C:\\Users\\YangTeng\\AppData\\Local\\Temp\\ipykernel_2604\\3929323490.py:59: FutureWarning: Setting an item of incompatible dtype is deprecated and will raise in a future error of pandas. Value 'https://ecatalog.smpcorp.com/V2/STD/api/part/partsearch?filterType=n&searchType=p&imageSize=80&limit=1&sort=3&catFilter=-All-&yearFilter=-All-&makeFilter=-All-&modelFilter=-All-&engineFilter=-All-&attrCodeFilter=-All-&attrValueFilter=-All-&plkEngineMakeFilter=-All-&plkEngineModelFilter=-All-&plkEngineDispFilter=-All-&filter=Accelerator%20Pedal%20Sensor%20(APS)&start=122' has dtype incompatible with float64, please explicitly cast to a compatible dtype first.\n",
      "  df_temp.loc[0, 'Url'] = url\n",
      "C:\\Users\\YangTeng\\AppData\\Local\\Temp\\ipykernel_2604\\3929323490.py:58: FutureWarning: Setting an item of incompatible dtype is deprecated and will raise in a future error of pandas. Value 'ok' has dtype incompatible with float64, please explicitly cast to a compatible dtype first.\n",
      "  df_temp.loc[0, 'status'] = 'ok'\n",
      "C:\\Users\\YangTeng\\AppData\\Local\\Temp\\ipykernel_2604\\3929323490.py:59: FutureWarning: Setting an item of incompatible dtype is deprecated and will raise in a future error of pandas. Value 'https://ecatalog.smpcorp.com/V2/STD/api/part/partsearch?filterType=n&searchType=p&imageSize=80&limit=1&sort=3&catFilter=-All-&yearFilter=-All-&makeFilter=-All-&modelFilter=-All-&engineFilter=-All-&attrCodeFilter=-All-&attrValueFilter=-All-&plkEngineMakeFilter=-All-&plkEngineModelFilter=-All-&plkEngineDispFilter=-All-&filter=Accelerator%20Pedal%20Sensor%20(APS)&start=120' has dtype incompatible with float64, please explicitly cast to a compatible dtype first.\n",
      "  df_temp.loc[0, 'Url'] = url\n",
      "C:\\Users\\YangTeng\\AppData\\Local\\Temp\\ipykernel_2604\\3929323490.py:58: FutureWarning: Setting an item of incompatible dtype is deprecated and will raise in a future error of pandas. Value 'ok' has dtype incompatible with float64, please explicitly cast to a compatible dtype first.\n",
      "  df_temp.loc[0, 'status'] = 'ok'\n",
      "C:\\Users\\YangTeng\\AppData\\Local\\Temp\\ipykernel_2604\\3929323490.py:59: FutureWarning: Setting an item of incompatible dtype is deprecated and will raise in a future error of pandas. Value 'https://ecatalog.smpcorp.com/V2/STD/api/part/partsearch?filterType=n&searchType=p&imageSize=80&limit=1&sort=3&catFilter=-All-&yearFilter=-All-&makeFilter=-All-&modelFilter=-All-&engineFilter=-All-&attrCodeFilter=-All-&attrValueFilter=-All-&plkEngineMakeFilter=-All-&plkEngineModelFilter=-All-&plkEngineDispFilter=-All-&filter=Accelerator%20Pedal%20Sensor%20(APS)&start=114' has dtype incompatible with float64, please explicitly cast to a compatible dtype first.\n",
      "  df_temp.loc[0, 'Url'] = url\n",
      "C:\\Users\\YangTeng\\AppData\\Local\\Temp\\ipykernel_2604\\3929323490.py:58: FutureWarning: Setting an item of incompatible dtype is deprecated and will raise in a future error of pandas. Value 'ok' has dtype incompatible with float64, please explicitly cast to a compatible dtype first.\n",
      "  df_temp.loc[0, 'status'] = 'ok'\n",
      "C:\\Users\\YangTeng\\AppData\\Local\\Temp\\ipykernel_2604\\3929323490.py:59: FutureWarning: Setting an item of incompatible dtype is deprecated and will raise in a future error of pandas. Value 'https://ecatalog.smpcorp.com/V2/STD/api/part/partsearch?filterType=n&searchType=p&imageSize=80&limit=1&sort=3&catFilter=-All-&yearFilter=-All-&makeFilter=-All-&modelFilter=-All-&engineFilter=-All-&attrCodeFilter=-All-&attrValueFilter=-All-&plkEngineMakeFilter=-All-&plkEngineModelFilter=-All-&plkEngineDispFilter=-All-&filter=Accelerator%20Pedal%20Sensor%20(APS)&start=126' has dtype incompatible with float64, please explicitly cast to a compatible dtype first.\n",
      "  df_temp.loc[0, 'Url'] = url\n"
     ]
    },
    {
     "name": "stdout",
     "output_type": "stream",
     "text": [
      "https://ecatalog.smpcorp.com/V2/STD/api/part/partsearch?filterType=n&searchType=p&imageSize=80&limit=1&sort=3&catFilter=-All-&yearFilter=-All-&makeFilter=-All-&modelFilter=-All-&engineFilter=-All-&attrCodeFilter=-All-&attrValueFilter=-All-&plkEngineMakeFilter=-All-&plkEngineModelFilter=-All-&plkEngineDispFilter=-All-&filter=Accelerator%20Pedal%20Sensor%20(APS)&start=123  <->  [ok] - 剩余数量：331\n",
      "https://ecatalog.smpcorp.com/V2/STD/api/part/partsearch?filterType=n&searchType=p&imageSize=80&limit=1&sort=3&catFilter=-All-&yearFilter=-All-&makeFilter=-All-&modelFilter=-All-&engineFilter=-All-&attrCodeFilter=-All-&attrValueFilter=-All-&plkEngineMakeFilter=-All-&plkEngineModelFilter=-All-&plkEngineDispFilter=-All-&filter=Accelerator%20Pedal%20Sensor%20(APS)&start=122  <->  [ok] - 剩余数量：330\n",
      "https://ecatalog.smpcorp.com/V2/STD/api/part/partsearch?filterType=n&searchType=p&imageSize=80&limit=1&sort=3&catFilter=-All-&yearFilter=-All-&makeFilter=-All-&modelFilter=-All-&engineFilter=-All-&attrCodeFilter=-All-&attrValueFilter=-All-&plkEngineMakeFilter=-All-&plkEngineModelFilter=-All-&plkEngineDispFilter=-All-&filter=Accelerator%20Pedal%20Sensor%20(APS)&start=120  <->  [ok] - 剩余数量：329\n",
      "https://ecatalog.smpcorp.com/V2/STD/api/part/partsearch?filterType=n&searchType=p&imageSize=80&limit=1&sort=3&catFilter=-All-&yearFilter=-All-&makeFilter=-All-&modelFilter=-All-&engineFilter=-All-&attrCodeFilter=-All-&attrValueFilter=-All-&plkEngineMakeFilter=-All-&plkEngineModelFilter=-All-&plkEngineDispFilter=-All-&filter=Accelerator%20Pedal%20Sensor%20(APS)&start=114  <->  [ok] - 剩余数量：328\n",
      "https://ecatalog.smpcorp.com/V2/STD/api/part/partsearch?filterType=n&searchType=p&imageSize=80&limit=1&sort=3&catFilter=-All-&yearFilter=-All-&makeFilter=-All-&modelFilter=-All-&engineFilter=-All-&attrCodeFilter=-All-&attrValueFilter=-All-&plkEngineMakeFilter=-All-&plkEngineModelFilter=-All-&plkEngineDispFilter=-All-&filter=Accelerator%20Pedal%20Sensor%20(APS)&start=126  <->  [ok] - 剩余数量：327\n"
     ]
    },
    {
     "name": "stderr",
     "output_type": "stream",
     "text": [
      "C:\\Users\\YangTeng\\AppData\\Local\\Temp\\ipykernel_2604\\3929323490.py:58: FutureWarning: Setting an item of incompatible dtype is deprecated and will raise in a future error of pandas. Value 'ok' has dtype incompatible with float64, please explicitly cast to a compatible dtype first.\n",
      "  df_temp.loc[0, 'status'] = 'ok'\n",
      "C:\\Users\\YangTeng\\AppData\\Local\\Temp\\ipykernel_2604\\3929323490.py:59: FutureWarning: Setting an item of incompatible dtype is deprecated and will raise in a future error of pandas. Value 'https://ecatalog.smpcorp.com/V2/STD/api/part/partsearch?filterType=n&searchType=p&imageSize=80&limit=1&sort=3&catFilter=-All-&yearFilter=-All-&makeFilter=-All-&modelFilter=-All-&engineFilter=-All-&attrCodeFilter=-All-&attrValueFilter=-All-&plkEngineMakeFilter=-All-&plkEngineModelFilter=-All-&plkEngineDispFilter=-All-&filter=Accelerator%20Pedal%20Sensor%20(APS)&start=125' has dtype incompatible with float64, please explicitly cast to a compatible dtype first.\n",
      "  df_temp.loc[0, 'Url'] = url\n",
      "C:\\Users\\YangTeng\\AppData\\Local\\Temp\\ipykernel_2604\\3929323490.py:58: FutureWarning: Setting an item of incompatible dtype is deprecated and will raise in a future error of pandas. Value 'ok' has dtype incompatible with float64, please explicitly cast to a compatible dtype first.\n",
      "  df_temp.loc[0, 'status'] = 'ok'\n",
      "C:\\Users\\YangTeng\\AppData\\Local\\Temp\\ipykernel_2604\\3929323490.py:59: FutureWarning: Setting an item of incompatible dtype is deprecated and will raise in a future error of pandas. Value 'https://ecatalog.smpcorp.com/V2/STD/api/part/partsearch?filterType=n&searchType=p&imageSize=80&limit=1&sort=3&catFilter=-All-&yearFilter=-All-&makeFilter=-All-&modelFilter=-All-&engineFilter=-All-&attrCodeFilter=-All-&attrValueFilter=-All-&plkEngineMakeFilter=-All-&plkEngineModelFilter=-All-&plkEngineDispFilter=-All-&filter=Accelerator%20Pedal%20Sensor%20(APS)&start=87' has dtype incompatible with float64, please explicitly cast to a compatible dtype first.\n",
      "  df_temp.loc[0, 'Url'] = url\n"
     ]
    },
    {
     "name": "stdout",
     "output_type": "stream",
     "text": [
      "https://ecatalog.smpcorp.com/V2/STD/api/part/partsearch?filterType=n&searchType=p&imageSize=80&limit=1&sort=3&catFilter=-All-&yearFilter=-All-&makeFilter=-All-&modelFilter=-All-&engineFilter=-All-&attrCodeFilter=-All-&attrValueFilter=-All-&plkEngineMakeFilter=-All-&plkEngineModelFilter=-All-&plkEngineDispFilter=-All-&filter=Accelerator%20Pedal%20Sensor%20(APS)&start=125  <->  [ok] - 剩余数量：326\n",
      "https://ecatalog.smpcorp.com/V2/STD/api/part/partsearch?filterType=n&searchType=p&imageSize=80&limit=1&sort=3&catFilter=-All-&yearFilter=-All-&makeFilter=-All-&modelFilter=-All-&engineFilter=-All-&attrCodeFilter=-All-&attrValueFilter=-All-&plkEngineMakeFilter=-All-&plkEngineModelFilter=-All-&plkEngineDispFilter=-All-&filter=Accelerator%20Pedal%20Sensor%20(APS)&start=87  <->  [ok] - 剩余数量：325\n"
     ]
    },
    {
     "name": "stderr",
     "output_type": "stream",
     "text": [
      "C:\\Users\\YangTeng\\AppData\\Local\\Temp\\ipykernel_2604\\3929323490.py:58: FutureWarning: Setting an item of incompatible dtype is deprecated and will raise in a future error of pandas. Value 'ok' has dtype incompatible with float64, please explicitly cast to a compatible dtype first.\n",
      "  df_temp.loc[0, 'status'] = 'ok'\n",
      "C:\\Users\\YangTeng\\AppData\\Local\\Temp\\ipykernel_2604\\3929323490.py:59: FutureWarning: Setting an item of incompatible dtype is deprecated and will raise in a future error of pandas. Value 'https://ecatalog.smpcorp.com/V2/STD/api/part/partsearch?filterType=n&searchType=p&imageSize=80&limit=1&sort=3&catFilter=-All-&yearFilter=-All-&makeFilter=-All-&modelFilter=-All-&engineFilter=-All-&attrCodeFilter=-All-&attrValueFilter=-All-&plkEngineMakeFilter=-All-&plkEngineModelFilter=-All-&plkEngineDispFilter=-All-&filter=Accelerator%20Pedal%20Sensor%20(APS)&start=129' has dtype incompatible with float64, please explicitly cast to a compatible dtype first.\n",
      "  df_temp.loc[0, 'Url'] = url\n",
      "C:\\Users\\YangTeng\\AppData\\Local\\Temp\\ipykernel_2604\\3929323490.py:58: FutureWarning: Setting an item of incompatible dtype is deprecated and will raise in a future error of pandas. Value 'ok' has dtype incompatible with float64, please explicitly cast to a compatible dtype first.\n",
      "  df_temp.loc[0, 'status'] = 'ok'\n",
      "C:\\Users\\YangTeng\\AppData\\Local\\Temp\\ipykernel_2604\\3929323490.py:59: FutureWarning: Setting an item of incompatible dtype is deprecated and will raise in a future error of pandas. Value 'https://ecatalog.smpcorp.com/V2/STD/api/part/partsearch?filterType=n&searchType=p&imageSize=80&limit=1&sort=3&catFilter=-All-&yearFilter=-All-&makeFilter=-All-&modelFilter=-All-&engineFilter=-All-&attrCodeFilter=-All-&attrValueFilter=-All-&plkEngineMakeFilter=-All-&plkEngineModelFilter=-All-&plkEngineDispFilter=-All-&filter=Accelerator%20Pedal%20Sensor%20(APS)&start=127' has dtype incompatible with float64, please explicitly cast to a compatible dtype first.\n",
      "  df_temp.loc[0, 'Url'] = url\n",
      "C:\\Users\\YangTeng\\AppData\\Local\\Temp\\ipykernel_2604\\3929323490.py:58: FutureWarning: Setting an item of incompatible dtype is deprecated and will raise in a future error of pandas. Value 'ok' has dtype incompatible with float64, please explicitly cast to a compatible dtype first.\n",
      "  df_temp.loc[0, 'status'] = 'ok'\n",
      "C:\\Users\\YangTeng\\AppData\\Local\\Temp\\ipykernel_2604\\3929323490.py:59: FutureWarning: Setting an item of incompatible dtype is deprecated and will raise in a future error of pandas. Value 'https://ecatalog.smpcorp.com/V2/STD/api/part/partsearch?filterType=n&searchType=p&imageSize=80&limit=1&sort=3&catFilter=-All-&yearFilter=-All-&makeFilter=-All-&modelFilter=-All-&engineFilter=-All-&attrCodeFilter=-All-&attrValueFilter=-All-&plkEngineMakeFilter=-All-&plkEngineModelFilter=-All-&plkEngineDispFilter=-All-&filter=Accelerator%20Pedal%20Sensor%20(APS)&start=128' has dtype incompatible with float64, please explicitly cast to a compatible dtype first.\n",
      "  df_temp.loc[0, 'Url'] = url\n",
      "C:\\Users\\YangTeng\\AppData\\Local\\Temp\\ipykernel_2604\\3929323490.py:58: FutureWarning: Setting an item of incompatible dtype is deprecated and will raise in a future error of pandas. Value 'ok' has dtype incompatible with float64, please explicitly cast to a compatible dtype first.\n",
      "  df_temp.loc[0, 'status'] = 'ok'\n",
      "C:\\Users\\YangTeng\\AppData\\Local\\Temp\\ipykernel_2604\\3929323490.py:59: FutureWarning: Setting an item of incompatible dtype is deprecated and will raise in a future error of pandas. Value 'https://ecatalog.smpcorp.com/V2/STD/api/part/partsearch?filterType=n&searchType=p&imageSize=80&limit=1&sort=3&catFilter=-All-&yearFilter=-All-&makeFilter=-All-&modelFilter=-All-&engineFilter=-All-&attrCodeFilter=-All-&attrValueFilter=-All-&plkEngineMakeFilter=-All-&plkEngineModelFilter=-All-&plkEngineDispFilter=-All-&filter=Accelerator%20Pedal%20Sensor%20(APS)&start=98' has dtype incompatible with float64, please explicitly cast to a compatible dtype first.\n",
      "  df_temp.loc[0, 'Url'] = url\n"
     ]
    },
    {
     "name": "stdout",
     "output_type": "stream",
     "text": [
      "https://ecatalog.smpcorp.com/V2/STD/api/part/partsearch?filterType=n&searchType=p&imageSize=80&limit=1&sort=3&catFilter=-All-&yearFilter=-All-&makeFilter=-All-&modelFilter=-All-&engineFilter=-All-&attrCodeFilter=-All-&attrValueFilter=-All-&plkEngineMakeFilter=-All-&plkEngineModelFilter=-All-&plkEngineDispFilter=-All-&filter=Accelerator%20Pedal%20Sensor%20(APS)&start=129  <->  [ok] - 剩余数量：324\n",
      "https://ecatalog.smpcorp.com/V2/STD/api/part/partsearch?filterType=n&searchType=p&imageSize=80&limit=1&sort=3&catFilter=-All-&yearFilter=-All-&makeFilter=-All-&modelFilter=-All-&engineFilter=-All-&attrCodeFilter=-All-&attrValueFilter=-All-&plkEngineMakeFilter=-All-&plkEngineModelFilter=-All-&plkEngineDispFilter=-All-&filter=Accelerator%20Pedal%20Sensor%20(APS)&start=127  <->  [ok] - 剩余数量：323\n",
      "https://ecatalog.smpcorp.com/V2/STD/api/part/partsearch?filterType=n&searchType=p&imageSize=80&limit=1&sort=3&catFilter=-All-&yearFilter=-All-&makeFilter=-All-&modelFilter=-All-&engineFilter=-All-&attrCodeFilter=-All-&attrValueFilter=-All-&plkEngineMakeFilter=-All-&plkEngineModelFilter=-All-&plkEngineDispFilter=-All-&filter=Accelerator%20Pedal%20Sensor%20(APS)&start=128  <->  [ok] - 剩余数量：322\n",
      "https://ecatalog.smpcorp.com/V2/STD/api/part/partsearch?filterType=n&searchType=p&imageSize=80&limit=1&sort=3&catFilter=-All-&yearFilter=-All-&makeFilter=-All-&modelFilter=-All-&engineFilter=-All-&attrCodeFilter=-All-&attrValueFilter=-All-&plkEngineMakeFilter=-All-&plkEngineModelFilter=-All-&plkEngineDispFilter=-All-&filter=Accelerator%20Pedal%20Sensor%20(APS)&start=98  <->  [ok] - 剩余数量：321\n"
     ]
    },
    {
     "name": "stderr",
     "output_type": "stream",
     "text": [
      "C:\\Users\\YangTeng\\AppData\\Local\\Temp\\ipykernel_2604\\3929323490.py:58: FutureWarning: Setting an item of incompatible dtype is deprecated and will raise in a future error of pandas. Value 'ok' has dtype incompatible with float64, please explicitly cast to a compatible dtype first.\n",
      "  df_temp.loc[0, 'status'] = 'ok'\n",
      "C:\\Users\\YangTeng\\AppData\\Local\\Temp\\ipykernel_2604\\3929323490.py:59: FutureWarning: Setting an item of incompatible dtype is deprecated and will raise in a future error of pandas. Value 'https://ecatalog.smpcorp.com/V2/STD/api/part/partsearch?filterType=n&searchType=p&imageSize=80&limit=1&sort=3&catFilter=-All-&yearFilter=-All-&makeFilter=-All-&modelFilter=-All-&engineFilter=-All-&attrCodeFilter=-All-&attrValueFilter=-All-&plkEngineMakeFilter=-All-&plkEngineModelFilter=-All-&plkEngineDispFilter=-All-&filter=Accelerator%20Pedal%20Sensor%20(APS)&start=137' has dtype incompatible with float64, please explicitly cast to a compatible dtype first.\n",
      "  df_temp.loc[0, 'Url'] = url\n",
      "C:\\Users\\YangTeng\\AppData\\Local\\Temp\\ipykernel_2604\\3929323490.py:58: FutureWarning: Setting an item of incompatible dtype is deprecated and will raise in a future error of pandas. Value 'ok' has dtype incompatible with float64, please explicitly cast to a compatible dtype first.\n",
      "  df_temp.loc[0, 'status'] = 'ok'\n",
      "C:\\Users\\YangTeng\\AppData\\Local\\Temp\\ipykernel_2604\\3929323490.py:59: FutureWarning: Setting an item of incompatible dtype is deprecated and will raise in a future error of pandas. Value 'https://ecatalog.smpcorp.com/V2/STD/api/part/partsearch?filterType=n&searchType=p&imageSize=80&limit=1&sort=3&catFilter=-All-&yearFilter=-All-&makeFilter=-All-&modelFilter=-All-&engineFilter=-All-&attrCodeFilter=-All-&attrValueFilter=-All-&plkEngineMakeFilter=-All-&plkEngineModelFilter=-All-&plkEngineDispFilter=-All-&filter=Accelerator%20Pedal%20Sensor%20(APS)&start=140' has dtype incompatible with float64, please explicitly cast to a compatible dtype first.\n",
      "  df_temp.loc[0, 'Url'] = url\n",
      "C:\\Users\\YangTeng\\AppData\\Local\\Temp\\ipykernel_2604\\3929323490.py:58: FutureWarning: Setting an item of incompatible dtype is deprecated and will raise in a future error of pandas. Value 'ok' has dtype incompatible with float64, please explicitly cast to a compatible dtype first.\n",
      "  df_temp.loc[0, 'status'] = 'ok'\n",
      "C:\\Users\\YangTeng\\AppData\\Local\\Temp\\ipykernel_2604\\3929323490.py:59: FutureWarning: Setting an item of incompatible dtype is deprecated and will raise in a future error of pandas. Value 'https://ecatalog.smpcorp.com/V2/STD/api/part/partsearch?filterType=n&searchType=p&imageSize=80&limit=1&sort=3&catFilter=-All-&yearFilter=-All-&makeFilter=-All-&modelFilter=-All-&engineFilter=-All-&attrCodeFilter=-All-&attrValueFilter=-All-&plkEngineMakeFilter=-All-&plkEngineModelFilter=-All-&plkEngineDispFilter=-All-&filter=Accelerator%20Pedal%20Sensor%20(APS)&start=139' has dtype incompatible with float64, please explicitly cast to a compatible dtype first.\n",
      "  df_temp.loc[0, 'Url'] = url\n"
     ]
    },
    {
     "name": "stdout",
     "output_type": "stream",
     "text": [
      "https://ecatalog.smpcorp.com/V2/STD/api/part/partsearch?filterType=n&searchType=p&imageSize=80&limit=1&sort=3&catFilter=-All-&yearFilter=-All-&makeFilter=-All-&modelFilter=-All-&engineFilter=-All-&attrCodeFilter=-All-&attrValueFilter=-All-&plkEngineMakeFilter=-All-&plkEngineModelFilter=-All-&plkEngineDispFilter=-All-&filter=Accelerator%20Pedal%20Sensor%20(APS)&start=137  <->  [ok] - 剩余数量：320\n",
      "https://ecatalog.smpcorp.com/V2/STD/api/part/partsearch?filterType=n&searchType=p&imageSize=80&limit=1&sort=3&catFilter=-All-&yearFilter=-All-&makeFilter=-All-&modelFilter=-All-&engineFilter=-All-&attrCodeFilter=-All-&attrValueFilter=-All-&plkEngineMakeFilter=-All-&plkEngineModelFilter=-All-&plkEngineDispFilter=-All-&filter=Accelerator%20Pedal%20Sensor%20(APS)&start=140  <->  [ok] - 剩余数量：319\n",
      "https://ecatalog.smpcorp.com/V2/STD/api/part/partsearch?filterType=n&searchType=p&imageSize=80&limit=1&sort=3&catFilter=-All-&yearFilter=-All-&makeFilter=-All-&modelFilter=-All-&engineFilter=-All-&attrCodeFilter=-All-&attrValueFilter=-All-&plkEngineMakeFilter=-All-&plkEngineModelFilter=-All-&plkEngineDispFilter=-All-&filter=Accelerator%20Pedal%20Sensor%20(APS)&start=139  <->  [ok] - 剩余数量：318\n"
     ]
    },
    {
     "name": "stderr",
     "output_type": "stream",
     "text": [
      "C:\\Users\\YangTeng\\AppData\\Local\\Temp\\ipykernel_2604\\3929323490.py:58: FutureWarning: Setting an item of incompatible dtype is deprecated and will raise in a future error of pandas. Value 'ok' has dtype incompatible with float64, please explicitly cast to a compatible dtype first.\n",
      "  df_temp.loc[0, 'status'] = 'ok'\n",
      "C:\\Users\\YangTeng\\AppData\\Local\\Temp\\ipykernel_2604\\3929323490.py:59: FutureWarning: Setting an item of incompatible dtype is deprecated and will raise in a future error of pandas. Value 'https://ecatalog.smpcorp.com/V2/STD/api/part/partsearch?filterType=n&searchType=p&imageSize=80&limit=1&sort=3&catFilter=-All-&yearFilter=-All-&makeFilter=-All-&modelFilter=-All-&engineFilter=-All-&attrCodeFilter=-All-&attrValueFilter=-All-&plkEngineMakeFilter=-All-&plkEngineModelFilter=-All-&plkEngineDispFilter=-All-&filter=Accelerator%20Pedal%20Sensor%20(APS)&start=132' has dtype incompatible with float64, please explicitly cast to a compatible dtype first.\n",
      "  df_temp.loc[0, 'Url'] = url\n",
      "C:\\Users\\YangTeng\\AppData\\Local\\Temp\\ipykernel_2604\\3929323490.py:58: FutureWarning: Setting an item of incompatible dtype is deprecated and will raise in a future error of pandas. Value 'ok' has dtype incompatible with float64, please explicitly cast to a compatible dtype first.\n",
      "  df_temp.loc[0, 'status'] = 'ok'\n",
      "C:\\Users\\YangTeng\\AppData\\Local\\Temp\\ipykernel_2604\\3929323490.py:59: FutureWarning: Setting an item of incompatible dtype is deprecated and will raise in a future error of pandas. Value 'https://ecatalog.smpcorp.com/V2/STD/api/part/partsearch?filterType=n&searchType=p&imageSize=80&limit=1&sort=3&catFilter=-All-&yearFilter=-All-&makeFilter=-All-&modelFilter=-All-&engineFilter=-All-&attrCodeFilter=-All-&attrValueFilter=-All-&plkEngineMakeFilter=-All-&plkEngineModelFilter=-All-&plkEngineDispFilter=-All-&filter=Accelerator%20Pedal%20Sensor%20(APS)&start=133' has dtype incompatible with float64, please explicitly cast to a compatible dtype first.\n",
      "  df_temp.loc[0, 'Url'] = url\n",
      "C:\\Users\\YangTeng\\AppData\\Local\\Temp\\ipykernel_2604\\3929323490.py:58: FutureWarning: Setting an item of incompatible dtype is deprecated and will raise in a future error of pandas. Value 'ok' has dtype incompatible with float64, please explicitly cast to a compatible dtype first.\n",
      "  df_temp.loc[0, 'status'] = 'ok'\n",
      "C:\\Users\\YangTeng\\AppData\\Local\\Temp\\ipykernel_2604\\3929323490.py:59: FutureWarning: Setting an item of incompatible dtype is deprecated and will raise in a future error of pandas. Value 'https://ecatalog.smpcorp.com/V2/STD/api/part/partsearch?filterType=n&searchType=p&imageSize=80&limit=1&sort=3&catFilter=-All-&yearFilter=-All-&makeFilter=-All-&modelFilter=-All-&engineFilter=-All-&attrCodeFilter=-All-&attrValueFilter=-All-&plkEngineMakeFilter=-All-&plkEngineModelFilter=-All-&plkEngineDispFilter=-All-&filter=Accelerator%20Pedal%20Sensor%20(APS)&start=130' has dtype incompatible with float64, please explicitly cast to a compatible dtype first.\n",
      "  df_temp.loc[0, 'Url'] = url\n",
      "C:\\Users\\YangTeng\\AppData\\Local\\Temp\\ipykernel_2604\\3929323490.py:58: FutureWarning: Setting an item of incompatible dtype is deprecated and will raise in a future error of pandas. Value 'ok' has dtype incompatible with float64, please explicitly cast to a compatible dtype first.\n",
      "  df_temp.loc[0, 'status'] = 'ok'\n",
      "C:\\Users\\YangTeng\\AppData\\Local\\Temp\\ipykernel_2604\\3929323490.py:59: FutureWarning: Setting an item of incompatible dtype is deprecated and will raise in a future error of pandas. Value 'https://ecatalog.smpcorp.com/V2/STD/api/part/partsearch?filterType=n&searchType=p&imageSize=80&limit=1&sort=3&catFilter=-All-&yearFilter=-All-&makeFilter=-All-&modelFilter=-All-&engineFilter=-All-&attrCodeFilter=-All-&attrValueFilter=-All-&plkEngineMakeFilter=-All-&plkEngineModelFilter=-All-&plkEngineDispFilter=-All-&filter=Accelerator%20Pedal%20Sensor%20(APS)&start=136' has dtype incompatible with float64, please explicitly cast to a compatible dtype first.\n",
      "  df_temp.loc[0, 'Url'] = url\n"
     ]
    },
    {
     "name": "stdout",
     "output_type": "stream",
     "text": [
      "https://ecatalog.smpcorp.com/V2/STD/api/part/partsearch?filterType=n&searchType=p&imageSize=80&limit=1&sort=3&catFilter=-All-&yearFilter=-All-&makeFilter=-All-&modelFilter=-All-&engineFilter=-All-&attrCodeFilter=-All-&attrValueFilter=-All-&plkEngineMakeFilter=-All-&plkEngineModelFilter=-All-&plkEngineDispFilter=-All-&filter=Accelerator%20Pedal%20Sensor%20(APS)&start=132  <->  [ok] - 剩余数量：317\n",
      "https://ecatalog.smpcorp.com/V2/STD/api/part/partsearch?filterType=n&searchType=p&imageSize=80&limit=1&sort=3&catFilter=-All-&yearFilter=-All-&makeFilter=-All-&modelFilter=-All-&engineFilter=-All-&attrCodeFilter=-All-&attrValueFilter=-All-&plkEngineMakeFilter=-All-&plkEngineModelFilter=-All-&plkEngineDispFilter=-All-&filter=Accelerator%20Pedal%20Sensor%20(APS)&start=133  <->  [ok] - 剩余数量：316\n",
      "https://ecatalog.smpcorp.com/V2/STD/api/part/partsearch?filterType=n&searchType=p&imageSize=80&limit=1&sort=3&catFilter=-All-&yearFilter=-All-&makeFilter=-All-&modelFilter=-All-&engineFilter=-All-&attrCodeFilter=-All-&attrValueFilter=-All-&plkEngineMakeFilter=-All-&plkEngineModelFilter=-All-&plkEngineDispFilter=-All-&filter=Accelerator%20Pedal%20Sensor%20(APS)&start=130  <->  [ok] - 剩余数量：315\n",
      "https://ecatalog.smpcorp.com/V2/STD/api/part/partsearch?filterType=n&searchType=p&imageSize=80&limit=1&sort=3&catFilter=-All-&yearFilter=-All-&makeFilter=-All-&modelFilter=-All-&engineFilter=-All-&attrCodeFilter=-All-&attrValueFilter=-All-&plkEngineMakeFilter=-All-&plkEngineModelFilter=-All-&plkEngineDispFilter=-All-&filter=Accelerator%20Pedal%20Sensor%20(APS)&start=136  <->  [ok] - 剩余数量：314\n"
     ]
    },
    {
     "name": "stderr",
     "output_type": "stream",
     "text": [
      "C:\\Users\\YangTeng\\AppData\\Local\\Temp\\ipykernel_2604\\3929323490.py:58: FutureWarning: Setting an item of incompatible dtype is deprecated and will raise in a future error of pandas. Value 'ok' has dtype incompatible with float64, please explicitly cast to a compatible dtype first.\n",
      "  df_temp.loc[0, 'status'] = 'ok'\n",
      "C:\\Users\\YangTeng\\AppData\\Local\\Temp\\ipykernel_2604\\3929323490.py:59: FutureWarning: Setting an item of incompatible dtype is deprecated and will raise in a future error of pandas. Value 'https://ecatalog.smpcorp.com/V2/STD/api/part/partsearch?filterType=n&searchType=p&imageSize=80&limit=1&sort=3&catFilter=-All-&yearFilter=-All-&makeFilter=-All-&modelFilter=-All-&engineFilter=-All-&attrCodeFilter=-All-&attrValueFilter=-All-&plkEngineMakeFilter=-All-&plkEngineModelFilter=-All-&plkEngineDispFilter=-All-&filter=Accelerator%20Pedal%20Sensor%20(APS)&start=134' has dtype incompatible with float64, please explicitly cast to a compatible dtype first.\n",
      "  df_temp.loc[0, 'Url'] = url\n",
      "C:\\Users\\YangTeng\\AppData\\Local\\Temp\\ipykernel_2604\\3929323490.py:58: FutureWarning: Setting an item of incompatible dtype is deprecated and will raise in a future error of pandas. Value 'ok' has dtype incompatible with float64, please explicitly cast to a compatible dtype first.\n",
      "  df_temp.loc[0, 'status'] = 'ok'\n",
      "C:\\Users\\YangTeng\\AppData\\Local\\Temp\\ipykernel_2604\\3929323490.py:59: FutureWarning: Setting an item of incompatible dtype is deprecated and will raise in a future error of pandas. Value 'https://ecatalog.smpcorp.com/V2/STD/api/part/partsearch?filterType=n&searchType=p&imageSize=80&limit=1&sort=3&catFilter=-All-&yearFilter=-All-&makeFilter=-All-&modelFilter=-All-&engineFilter=-All-&attrCodeFilter=-All-&attrValueFilter=-All-&plkEngineMakeFilter=-All-&plkEngineModelFilter=-All-&plkEngineDispFilter=-All-&filter=Accelerator%20Pedal%20Sensor%20(APS)&start=138' has dtype incompatible with float64, please explicitly cast to a compatible dtype first.\n",
      "  df_temp.loc[0, 'Url'] = url\n",
      "C:\\Users\\YangTeng\\AppData\\Local\\Temp\\ipykernel_2604\\3929323490.py:58: FutureWarning: Setting an item of incompatible dtype is deprecated and will raise in a future error of pandas. Value 'ok' has dtype incompatible with float64, please explicitly cast to a compatible dtype first.\n",
      "  df_temp.loc[0, 'status'] = 'ok'\n",
      "C:\\Users\\YangTeng\\AppData\\Local\\Temp\\ipykernel_2604\\3929323490.py:59: FutureWarning: Setting an item of incompatible dtype is deprecated and will raise in a future error of pandas. Value 'https://ecatalog.smpcorp.com/V2/STD/api/part/partsearch?filterType=n&searchType=p&imageSize=80&limit=1&sort=3&catFilter=-All-&yearFilter=-All-&makeFilter=-All-&modelFilter=-All-&engineFilter=-All-&attrCodeFilter=-All-&attrValueFilter=-All-&plkEngineMakeFilter=-All-&plkEngineModelFilter=-All-&plkEngineDispFilter=-All-&filter=Accelerator%20Pedal%20Sensor%20(APS)&start=131' has dtype incompatible with float64, please explicitly cast to a compatible dtype first.\n",
      "  df_temp.loc[0, 'Url'] = url\n"
     ]
    },
    {
     "name": "stdout",
     "output_type": "stream",
     "text": [
      "https://ecatalog.smpcorp.com/V2/STD/api/part/partsearch?filterType=n&searchType=p&imageSize=80&limit=1&sort=3&catFilter=-All-&yearFilter=-All-&makeFilter=-All-&modelFilter=-All-&engineFilter=-All-&attrCodeFilter=-All-&attrValueFilter=-All-&plkEngineMakeFilter=-All-&plkEngineModelFilter=-All-&plkEngineDispFilter=-All-&filter=Accelerator%20Pedal%20Sensor%20(APS)&start=134  <->  [ok] - 剩余数量：313\n",
      "https://ecatalog.smpcorp.com/V2/STD/api/part/partsearch?filterType=n&searchType=p&imageSize=80&limit=1&sort=3&catFilter=-All-&yearFilter=-All-&makeFilter=-All-&modelFilter=-All-&engineFilter=-All-&attrCodeFilter=-All-&attrValueFilter=-All-&plkEngineMakeFilter=-All-&plkEngineModelFilter=-All-&plkEngineDispFilter=-All-&filter=Accelerator%20Pedal%20Sensor%20(APS)&start=138  <->  [ok] - 剩余数量：312\n",
      "https://ecatalog.smpcorp.com/V2/STD/api/part/partsearch?filterType=n&searchType=p&imageSize=80&limit=1&sort=3&catFilter=-All-&yearFilter=-All-&makeFilter=-All-&modelFilter=-All-&engineFilter=-All-&attrCodeFilter=-All-&attrValueFilter=-All-&plkEngineMakeFilter=-All-&plkEngineModelFilter=-All-&plkEngineDispFilter=-All-&filter=Accelerator%20Pedal%20Sensor%20(APS)&start=131  <->  [ok] - 剩余数量：311\n"
     ]
    },
    {
     "name": "stderr",
     "output_type": "stream",
     "text": [
      "C:\\Users\\YangTeng\\AppData\\Local\\Temp\\ipykernel_2604\\3929323490.py:58: FutureWarning: Setting an item of incompatible dtype is deprecated and will raise in a future error of pandas. Value 'ok' has dtype incompatible with float64, please explicitly cast to a compatible dtype first.\n",
      "  df_temp.loc[0, 'status'] = 'ok'\n",
      "C:\\Users\\YangTeng\\AppData\\Local\\Temp\\ipykernel_2604\\3929323490.py:59: FutureWarning: Setting an item of incompatible dtype is deprecated and will raise in a future error of pandas. Value 'https://ecatalog.smpcorp.com/V2/STD/api/part/partsearch?filterType=n&searchType=p&imageSize=80&limit=1&sort=3&catFilter=-All-&yearFilter=-All-&makeFilter=-All-&modelFilter=-All-&engineFilter=-All-&attrCodeFilter=-All-&attrValueFilter=-All-&plkEngineMakeFilter=-All-&plkEngineModelFilter=-All-&plkEngineDispFilter=-All-&filter=Accelerator%20Pedal%20Sensor%20(APS)&start=142' has dtype incompatible with float64, please explicitly cast to a compatible dtype first.\n",
      "  df_temp.loc[0, 'Url'] = url\n"
     ]
    },
    {
     "name": "stdout",
     "output_type": "stream",
     "text": [
      "https://ecatalog.smpcorp.com/V2/STD/api/part/partsearch?filterType=n&searchType=p&imageSize=80&limit=1&sort=3&catFilter=-All-&yearFilter=-All-&makeFilter=-All-&modelFilter=-All-&engineFilter=-All-&attrCodeFilter=-All-&attrValueFilter=-All-&plkEngineMakeFilter=-All-&plkEngineModelFilter=-All-&plkEngineDispFilter=-All-&filter=Accelerator%20Pedal%20Sensor%20(APS)&start=142  <->  [ok] - 剩余数量：310\n"
     ]
    },
    {
     "name": "stderr",
     "output_type": "stream",
     "text": [
      "C:\\Users\\YangTeng\\AppData\\Local\\Temp\\ipykernel_2604\\3929323490.py:58: FutureWarning: Setting an item of incompatible dtype is deprecated and will raise in a future error of pandas. Value 'ok' has dtype incompatible with float64, please explicitly cast to a compatible dtype first.\n",
      "  df_temp.loc[0, 'status'] = 'ok'\n",
      "C:\\Users\\YangTeng\\AppData\\Local\\Temp\\ipykernel_2604\\3929323490.py:59: FutureWarning: Setting an item of incompatible dtype is deprecated and will raise in a future error of pandas. Value 'https://ecatalog.smpcorp.com/V2/STD/api/part/partsearch?filterType=n&searchType=p&imageSize=80&limit=1&sort=3&catFilter=-All-&yearFilter=-All-&makeFilter=-All-&modelFilter=-All-&engineFilter=-All-&attrCodeFilter=-All-&attrValueFilter=-All-&plkEngineMakeFilter=-All-&plkEngineModelFilter=-All-&plkEngineDispFilter=-All-&filter=Accelerator%20Pedal%20Sensor%20(APS)&start=144' has dtype incompatible with float64, please explicitly cast to a compatible dtype first.\n",
      "  df_temp.loc[0, 'Url'] = url\n",
      "C:\\Users\\YangTeng\\AppData\\Local\\Temp\\ipykernel_2604\\3929323490.py:58: FutureWarning: Setting an item of incompatible dtype is deprecated and will raise in a future error of pandas. Value 'ok' has dtype incompatible with float64, please explicitly cast to a compatible dtype first.\n",
      "  df_temp.loc[0, 'status'] = 'ok'\n",
      "C:\\Users\\YangTeng\\AppData\\Local\\Temp\\ipykernel_2604\\3929323490.py:59: FutureWarning: Setting an item of incompatible dtype is deprecated and will raise in a future error of pandas. Value 'https://ecatalog.smpcorp.com/V2/STD/api/part/partsearch?filterType=n&searchType=p&imageSize=80&limit=1&sort=3&catFilter=-All-&yearFilter=-All-&makeFilter=-All-&modelFilter=-All-&engineFilter=-All-&attrCodeFilter=-All-&attrValueFilter=-All-&plkEngineMakeFilter=-All-&plkEngineModelFilter=-All-&plkEngineDispFilter=-All-&filter=Accelerator%20Pedal%20Sensor%20(APS)&start=135' has dtype incompatible with float64, please explicitly cast to a compatible dtype first.\n",
      "  df_temp.loc[0, 'Url'] = url\n",
      "C:\\Users\\YangTeng\\AppData\\Local\\Temp\\ipykernel_2604\\3929323490.py:58: FutureWarning: Setting an item of incompatible dtype is deprecated and will raise in a future error of pandas. Value 'ok' has dtype incompatible with float64, please explicitly cast to a compatible dtype first.\n",
      "  df_temp.loc[0, 'status'] = 'ok'\n",
      "C:\\Users\\YangTeng\\AppData\\Local\\Temp\\ipykernel_2604\\3929323490.py:59: FutureWarning: Setting an item of incompatible dtype is deprecated and will raise in a future error of pandas. Value 'https://ecatalog.smpcorp.com/V2/STD/api/part/partsearch?filterType=n&searchType=p&imageSize=80&limit=1&sort=3&catFilter=-All-&yearFilter=-All-&makeFilter=-All-&modelFilter=-All-&engineFilter=-All-&attrCodeFilter=-All-&attrValueFilter=-All-&plkEngineMakeFilter=-All-&plkEngineModelFilter=-All-&plkEngineDispFilter=-All-&filter=Accelerator%20Pedal%20Sensor%20(APS)&start=148' has dtype incompatible with float64, please explicitly cast to a compatible dtype first.\n",
      "  df_temp.loc[0, 'Url'] = url\n"
     ]
    },
    {
     "name": "stdout",
     "output_type": "stream",
     "text": [
      "https://ecatalog.smpcorp.com/V2/STD/api/part/partsearch?filterType=n&searchType=p&imageSize=80&limit=1&sort=3&catFilter=-All-&yearFilter=-All-&makeFilter=-All-&modelFilter=-All-&engineFilter=-All-&attrCodeFilter=-All-&attrValueFilter=-All-&plkEngineMakeFilter=-All-&plkEngineModelFilter=-All-&plkEngineDispFilter=-All-&filter=Accelerator%20Pedal%20Sensor%20(APS)&start=144  <->  [ok] - 剩余数量：309\n",
      "https://ecatalog.smpcorp.com/V2/STD/api/part/partsearch?filterType=n&searchType=p&imageSize=80&limit=1&sort=3&catFilter=-All-&yearFilter=-All-&makeFilter=-All-&modelFilter=-All-&engineFilter=-All-&attrCodeFilter=-All-&attrValueFilter=-All-&plkEngineMakeFilter=-All-&plkEngineModelFilter=-All-&plkEngineDispFilter=-All-&filter=Accelerator%20Pedal%20Sensor%20(APS)&start=135  <->  [ok] - 剩余数量：308\n",
      "https://ecatalog.smpcorp.com/V2/STD/api/part/partsearch?filterType=n&searchType=p&imageSize=80&limit=1&sort=3&catFilter=-All-&yearFilter=-All-&makeFilter=-All-&modelFilter=-All-&engineFilter=-All-&attrCodeFilter=-All-&attrValueFilter=-All-&plkEngineMakeFilter=-All-&plkEngineModelFilter=-All-&plkEngineDispFilter=-All-&filter=Accelerator%20Pedal%20Sensor%20(APS)&start=148  <->  [ok] - 剩余数量：307\n"
     ]
    },
    {
     "name": "stderr",
     "output_type": "stream",
     "text": [
      "C:\\Users\\YangTeng\\AppData\\Local\\Temp\\ipykernel_2604\\3929323490.py:58: FutureWarning: Setting an item of incompatible dtype is deprecated and will raise in a future error of pandas. Value 'ok' has dtype incompatible with float64, please explicitly cast to a compatible dtype first.\n",
      "  df_temp.loc[0, 'status'] = 'ok'\n",
      "C:\\Users\\YangTeng\\AppData\\Local\\Temp\\ipykernel_2604\\3929323490.py:59: FutureWarning: Setting an item of incompatible dtype is deprecated and will raise in a future error of pandas. Value 'https://ecatalog.smpcorp.com/V2/STD/api/part/partsearch?filterType=n&searchType=p&imageSize=80&limit=1&sort=3&catFilter=-All-&yearFilter=-All-&makeFilter=-All-&modelFilter=-All-&engineFilter=-All-&attrCodeFilter=-All-&attrValueFilter=-All-&plkEngineMakeFilter=-All-&plkEngineModelFilter=-All-&plkEngineDispFilter=-All-&filter=Accelerator%20Pedal%20Sensor%20(APS)&start=146' has dtype incompatible with float64, please explicitly cast to a compatible dtype first.\n",
      "  df_temp.loc[0, 'Url'] = url\n",
      "C:\\Users\\YangTeng\\AppData\\Local\\Temp\\ipykernel_2604\\3929323490.py:58: FutureWarning: Setting an item of incompatible dtype is deprecated and will raise in a future error of pandas. Value 'ok' has dtype incompatible with float64, please explicitly cast to a compatible dtype first.\n",
      "  df_temp.loc[0, 'status'] = 'ok'\n",
      "C:\\Users\\YangTeng\\AppData\\Local\\Temp\\ipykernel_2604\\3929323490.py:59: FutureWarning: Setting an item of incompatible dtype is deprecated and will raise in a future error of pandas. Value 'https://ecatalog.smpcorp.com/V2/STD/api/part/partsearch?filterType=n&searchType=p&imageSize=80&limit=1&sort=3&catFilter=-All-&yearFilter=-All-&makeFilter=-All-&modelFilter=-All-&engineFilter=-All-&attrCodeFilter=-All-&attrValueFilter=-All-&plkEngineMakeFilter=-All-&plkEngineModelFilter=-All-&plkEngineDispFilter=-All-&filter=Accelerator%20Pedal%20Sensor%20(APS)&start=141' has dtype incompatible with float64, please explicitly cast to a compatible dtype first.\n",
      "  df_temp.loc[0, 'Url'] = url\n",
      "C:\\Users\\YangTeng\\AppData\\Local\\Temp\\ipykernel_2604\\3929323490.py:58: FutureWarning: Setting an item of incompatible dtype is deprecated and will raise in a future error of pandas. Value 'ok' has dtype incompatible with float64, please explicitly cast to a compatible dtype first.\n",
      "  df_temp.loc[0, 'status'] = 'ok'\n",
      "C:\\Users\\YangTeng\\AppData\\Local\\Temp\\ipykernel_2604\\3929323490.py:59: FutureWarning: Setting an item of incompatible dtype is deprecated and will raise in a future error of pandas. Value 'https://ecatalog.smpcorp.com/V2/STD/api/part/partsearch?filterType=n&searchType=p&imageSize=80&limit=1&sort=3&catFilter=-All-&yearFilter=-All-&makeFilter=-All-&modelFilter=-All-&engineFilter=-All-&attrCodeFilter=-All-&attrValueFilter=-All-&plkEngineMakeFilter=-All-&plkEngineModelFilter=-All-&plkEngineDispFilter=-All-&filter=Accelerator%20Pedal%20Sensor%20(APS)&start=147' has dtype incompatible with float64, please explicitly cast to a compatible dtype first.\n",
      "  df_temp.loc[0, 'Url'] = url\n"
     ]
    },
    {
     "name": "stdout",
     "output_type": "stream",
     "text": [
      "https://ecatalog.smpcorp.com/V2/STD/api/part/partsearch?filterType=n&searchType=p&imageSize=80&limit=1&sort=3&catFilter=-All-&yearFilter=-All-&makeFilter=-All-&modelFilter=-All-&engineFilter=-All-&attrCodeFilter=-All-&attrValueFilter=-All-&plkEngineMakeFilter=-All-&plkEngineModelFilter=-All-&plkEngineDispFilter=-All-&filter=Accelerator%20Pedal%20Sensor%20(APS)&start=146  <->  [ok] - 剩余数量：306\n",
      "https://ecatalog.smpcorp.com/V2/STD/api/part/partsearch?filterType=n&searchType=p&imageSize=80&limit=1&sort=3&catFilter=-All-&yearFilter=-All-&makeFilter=-All-&modelFilter=-All-&engineFilter=-All-&attrCodeFilter=-All-&attrValueFilter=-All-&plkEngineMakeFilter=-All-&plkEngineModelFilter=-All-&plkEngineDispFilter=-All-&filter=Accelerator%20Pedal%20Sensor%20(APS)&start=141  <->  [ok] - 剩余数量：305\n",
      "https://ecatalog.smpcorp.com/V2/STD/api/part/partsearch?filterType=n&searchType=p&imageSize=80&limit=1&sort=3&catFilter=-All-&yearFilter=-All-&makeFilter=-All-&modelFilter=-All-&engineFilter=-All-&attrCodeFilter=-All-&attrValueFilter=-All-&plkEngineMakeFilter=-All-&plkEngineModelFilter=-All-&plkEngineDispFilter=-All-&filter=Accelerator%20Pedal%20Sensor%20(APS)&start=147  <->  [ok] - 剩余数量：304\n"
     ]
    },
    {
     "name": "stderr",
     "output_type": "stream",
     "text": [
      "C:\\Users\\YangTeng\\AppData\\Local\\Temp\\ipykernel_2604\\3929323490.py:58: FutureWarning: Setting an item of incompatible dtype is deprecated and will raise in a future error of pandas. Value 'ok' has dtype incompatible with float64, please explicitly cast to a compatible dtype first.\n",
      "  df_temp.loc[0, 'status'] = 'ok'\n",
      "C:\\Users\\YangTeng\\AppData\\Local\\Temp\\ipykernel_2604\\3929323490.py:59: FutureWarning: Setting an item of incompatible dtype is deprecated and will raise in a future error of pandas. Value 'https://ecatalog.smpcorp.com/V2/STD/api/part/partsearch?filterType=n&searchType=p&imageSize=80&limit=1&sort=3&catFilter=-All-&yearFilter=-All-&makeFilter=-All-&modelFilter=-All-&engineFilter=-All-&attrCodeFilter=-All-&attrValueFilter=-All-&plkEngineMakeFilter=-All-&plkEngineModelFilter=-All-&plkEngineDispFilter=-All-&filter=Accelerator%20Pedal%20Sensor%20(APS)&start=155' has dtype incompatible with float64, please explicitly cast to a compatible dtype first.\n",
      "  df_temp.loc[0, 'Url'] = url\n",
      "C:\\Users\\YangTeng\\AppData\\Local\\Temp\\ipykernel_2604\\3929323490.py:58: FutureWarning: Setting an item of incompatible dtype is deprecated and will raise in a future error of pandas. Value 'ok' has dtype incompatible with float64, please explicitly cast to a compatible dtype first.\n",
      "  df_temp.loc[0, 'status'] = 'ok'\n",
      "C:\\Users\\YangTeng\\AppData\\Local\\Temp\\ipykernel_2604\\3929323490.py:59: FutureWarning: Setting an item of incompatible dtype is deprecated and will raise in a future error of pandas. Value 'https://ecatalog.smpcorp.com/V2/STD/api/part/partsearch?filterType=n&searchType=p&imageSize=80&limit=1&sort=3&catFilter=-All-&yearFilter=-All-&makeFilter=-All-&modelFilter=-All-&engineFilter=-All-&attrCodeFilter=-All-&attrValueFilter=-All-&plkEngineMakeFilter=-All-&plkEngineModelFilter=-All-&plkEngineDispFilter=-All-&filter=Accelerator%20Pedal%20Sensor%20(APS)&start=156' has dtype incompatible with float64, please explicitly cast to a compatible dtype first.\n",
      "  df_temp.loc[0, 'Url'] = url\n",
      "C:\\Users\\YangTeng\\AppData\\Local\\Temp\\ipykernel_2604\\3929323490.py:58: FutureWarning: Setting an item of incompatible dtype is deprecated and will raise in a future error of pandas. Value 'ok' has dtype incompatible with float64, please explicitly cast to a compatible dtype first.\n",
      "  df_temp.loc[0, 'status'] = 'ok'\n",
      "C:\\Users\\YangTeng\\AppData\\Local\\Temp\\ipykernel_2604\\3929323490.py:59: FutureWarning: Setting an item of incompatible dtype is deprecated and will raise in a future error of pandas. Value 'https://ecatalog.smpcorp.com/V2/STD/api/part/partsearch?filterType=n&searchType=p&imageSize=80&limit=1&sort=3&catFilter=-All-&yearFilter=-All-&makeFilter=-All-&modelFilter=-All-&engineFilter=-All-&attrCodeFilter=-All-&attrValueFilter=-All-&plkEngineMakeFilter=-All-&plkEngineModelFilter=-All-&plkEngineDispFilter=-All-&filter=Accelerator%20Pedal%20Sensor%20(APS)&start=151' has dtype incompatible with float64, please explicitly cast to a compatible dtype first.\n",
      "  df_temp.loc[0, 'Url'] = url\n",
      "C:\\Users\\YangTeng\\AppData\\Local\\Temp\\ipykernel_2604\\3929323490.py:58: FutureWarning: Setting an item of incompatible dtype is deprecated and will raise in a future error of pandas. Value 'ok' has dtype incompatible with float64, please explicitly cast to a compatible dtype first.\n",
      "  df_temp.loc[0, 'status'] = 'ok'\n",
      "C:\\Users\\YangTeng\\AppData\\Local\\Temp\\ipykernel_2604\\3929323490.py:59: FutureWarning: Setting an item of incompatible dtype is deprecated and will raise in a future error of pandas. Value 'https://ecatalog.smpcorp.com/V2/STD/api/part/partsearch?filterType=n&searchType=p&imageSize=80&limit=1&sort=3&catFilter=-All-&yearFilter=-All-&makeFilter=-All-&modelFilter=-All-&engineFilter=-All-&attrCodeFilter=-All-&attrValueFilter=-All-&plkEngineMakeFilter=-All-&plkEngineModelFilter=-All-&plkEngineDispFilter=-All-&filter=Accelerator%20Pedal%20Sensor%20(APS)&start=149' has dtype incompatible with float64, please explicitly cast to a compatible dtype first.\n",
      "  df_temp.loc[0, 'Url'] = url\n"
     ]
    },
    {
     "name": "stdout",
     "output_type": "stream",
     "text": [
      "https://ecatalog.smpcorp.com/V2/STD/api/part/partsearch?filterType=n&searchType=p&imageSize=80&limit=1&sort=3&catFilter=-All-&yearFilter=-All-&makeFilter=-All-&modelFilter=-All-&engineFilter=-All-&attrCodeFilter=-All-&attrValueFilter=-All-&plkEngineMakeFilter=-All-&plkEngineModelFilter=-All-&plkEngineDispFilter=-All-&filter=Accelerator%20Pedal%20Sensor%20(APS)&start=155  <->  [ok] - 剩余数量：303\n",
      "https://ecatalog.smpcorp.com/V2/STD/api/part/partsearch?filterType=n&searchType=p&imageSize=80&limit=1&sort=3&catFilter=-All-&yearFilter=-All-&makeFilter=-All-&modelFilter=-All-&engineFilter=-All-&attrCodeFilter=-All-&attrValueFilter=-All-&plkEngineMakeFilter=-All-&plkEngineModelFilter=-All-&plkEngineDispFilter=-All-&filter=Accelerator%20Pedal%20Sensor%20(APS)&start=156  <->  [ok] - 剩余数量：302\n",
      "https://ecatalog.smpcorp.com/V2/STD/api/part/partsearch?filterType=n&searchType=p&imageSize=80&limit=1&sort=3&catFilter=-All-&yearFilter=-All-&makeFilter=-All-&modelFilter=-All-&engineFilter=-All-&attrCodeFilter=-All-&attrValueFilter=-All-&plkEngineMakeFilter=-All-&plkEngineModelFilter=-All-&plkEngineDispFilter=-All-&filter=Accelerator%20Pedal%20Sensor%20(APS)&start=151  <->  [ok] - 剩余数量：301\n",
      "https://ecatalog.smpcorp.com/V2/STD/api/part/partsearch?filterType=n&searchType=p&imageSize=80&limit=1&sort=3&catFilter=-All-&yearFilter=-All-&makeFilter=-All-&modelFilter=-All-&engineFilter=-All-&attrCodeFilter=-All-&attrValueFilter=-All-&plkEngineMakeFilter=-All-&plkEngineModelFilter=-All-&plkEngineDispFilter=-All-&filter=Accelerator%20Pedal%20Sensor%20(APS)&start=149  <->  [ok] - 剩余数量：300\n"
     ]
    },
    {
     "name": "stderr",
     "output_type": "stream",
     "text": [
      "C:\\Users\\YangTeng\\AppData\\Local\\Temp\\ipykernel_2604\\3929323490.py:58: FutureWarning: Setting an item of incompatible dtype is deprecated and will raise in a future error of pandas. Value 'ok' has dtype incompatible with float64, please explicitly cast to a compatible dtype first.\n",
      "  df_temp.loc[0, 'status'] = 'ok'\n",
      "C:\\Users\\YangTeng\\AppData\\Local\\Temp\\ipykernel_2604\\3929323490.py:59: FutureWarning: Setting an item of incompatible dtype is deprecated and will raise in a future error of pandas. Value 'https://ecatalog.smpcorp.com/V2/STD/api/part/partsearch?filterType=n&searchType=p&imageSize=80&limit=1&sort=3&catFilter=-All-&yearFilter=-All-&makeFilter=-All-&modelFilter=-All-&engineFilter=-All-&attrCodeFilter=-All-&attrValueFilter=-All-&plkEngineMakeFilter=-All-&plkEngineModelFilter=-All-&plkEngineDispFilter=-All-&filter=Accelerator%20Pedal%20Sensor%20(APS)&start=153' has dtype incompatible with float64, please explicitly cast to a compatible dtype first.\n",
      "  df_temp.loc[0, 'Url'] = url\n",
      "C:\\Users\\YangTeng\\AppData\\Local\\Temp\\ipykernel_2604\\3929323490.py:58: FutureWarning: Setting an item of incompatible dtype is deprecated and will raise in a future error of pandas. Value 'ok' has dtype incompatible with float64, please explicitly cast to a compatible dtype first.\n",
      "  df_temp.loc[0, 'status'] = 'ok'\n",
      "C:\\Users\\YangTeng\\AppData\\Local\\Temp\\ipykernel_2604\\3929323490.py:59: FutureWarning: Setting an item of incompatible dtype is deprecated and will raise in a future error of pandas. Value 'https://ecatalog.smpcorp.com/V2/STD/api/part/partsearch?filterType=n&searchType=p&imageSize=80&limit=1&sort=3&catFilter=-All-&yearFilter=-All-&makeFilter=-All-&modelFilter=-All-&engineFilter=-All-&attrCodeFilter=-All-&attrValueFilter=-All-&plkEngineMakeFilter=-All-&plkEngineModelFilter=-All-&plkEngineDispFilter=-All-&filter=Accelerator%20Pedal%20Sensor%20(APS)&start=152' has dtype incompatible with float64, please explicitly cast to a compatible dtype first.\n",
      "  df_temp.loc[0, 'Url'] = url\n"
     ]
    },
    {
     "name": "stdout",
     "output_type": "stream",
     "text": [
      "https://ecatalog.smpcorp.com/V2/STD/api/part/partsearch?filterType=n&searchType=p&imageSize=80&limit=1&sort=3&catFilter=-All-&yearFilter=-All-&makeFilter=-All-&modelFilter=-All-&engineFilter=-All-&attrCodeFilter=-All-&attrValueFilter=-All-&plkEngineMakeFilter=-All-&plkEngineModelFilter=-All-&plkEngineDispFilter=-All-&filter=Accelerator%20Pedal%20Sensor%20(APS)&start=153  <->  [ok] - 剩余数量：299\n",
      "https://ecatalog.smpcorp.com/V2/STD/api/part/partsearch?filterType=n&searchType=p&imageSize=80&limit=1&sort=3&catFilter=-All-&yearFilter=-All-&makeFilter=-All-&modelFilter=-All-&engineFilter=-All-&attrCodeFilter=-All-&attrValueFilter=-All-&plkEngineMakeFilter=-All-&plkEngineModelFilter=-All-&plkEngineDispFilter=-All-&filter=Accelerator%20Pedal%20Sensor%20(APS)&start=152  <->  [ok] - 剩余数量：298\n"
     ]
    },
    {
     "name": "stderr",
     "output_type": "stream",
     "text": [
      "C:\\Users\\YangTeng\\AppData\\Local\\Temp\\ipykernel_2604\\3929323490.py:58: FutureWarning: Setting an item of incompatible dtype is deprecated and will raise in a future error of pandas. Value 'ok' has dtype incompatible with float64, please explicitly cast to a compatible dtype first.\n",
      "  df_temp.loc[0, 'status'] = 'ok'\n",
      "C:\\Users\\YangTeng\\AppData\\Local\\Temp\\ipykernel_2604\\3929323490.py:59: FutureWarning: Setting an item of incompatible dtype is deprecated and will raise in a future error of pandas. Value 'https://ecatalog.smpcorp.com/V2/STD/api/part/partsearch?filterType=n&searchType=p&imageSize=80&limit=1&sort=3&catFilter=-All-&yearFilter=-All-&makeFilter=-All-&modelFilter=-All-&engineFilter=-All-&attrCodeFilter=-All-&attrValueFilter=-All-&plkEngineMakeFilter=-All-&plkEngineModelFilter=-All-&plkEngineDispFilter=-All-&filter=Accelerator%20Pedal%20Sensor%20(APS)&start=157' has dtype incompatible with float64, please explicitly cast to a compatible dtype first.\n",
      "  df_temp.loc[0, 'Url'] = url\n"
     ]
    },
    {
     "name": "stdout",
     "output_type": "stream",
     "text": [
      "https://ecatalog.smpcorp.com/V2/STD/api/part/partsearch?filterType=n&searchType=p&imageSize=80&limit=1&sort=3&catFilter=-All-&yearFilter=-All-&makeFilter=-All-&modelFilter=-All-&engineFilter=-All-&attrCodeFilter=-All-&attrValueFilter=-All-&plkEngineMakeFilter=-All-&plkEngineModelFilter=-All-&plkEngineDispFilter=-All-&filter=Accelerator%20Pedal%20Sensor%20(APS)&start=157  <->  [ok] - 剩余数量：297\n"
     ]
    },
    {
     "name": "stderr",
     "output_type": "stream",
     "text": [
      "C:\\Users\\YangTeng\\AppData\\Local\\Temp\\ipykernel_2604\\3929323490.py:58: FutureWarning: Setting an item of incompatible dtype is deprecated and will raise in a future error of pandas. Value 'ok' has dtype incompatible with float64, please explicitly cast to a compatible dtype first.\n",
      "  df_temp.loc[0, 'status'] = 'ok'\n",
      "C:\\Users\\YangTeng\\AppData\\Local\\Temp\\ipykernel_2604\\3929323490.py:59: FutureWarning: Setting an item of incompatible dtype is deprecated and will raise in a future error of pandas. Value 'https://ecatalog.smpcorp.com/V2/STD/api/part/partsearch?filterType=n&searchType=p&imageSize=80&limit=1&sort=3&catFilter=-All-&yearFilter=-All-&makeFilter=-All-&modelFilter=-All-&engineFilter=-All-&attrCodeFilter=-All-&attrValueFilter=-All-&plkEngineMakeFilter=-All-&plkEngineModelFilter=-All-&plkEngineDispFilter=-All-&filter=Accelerator%20Pedal%20Sensor%20(APS)&start=145' has dtype incompatible with float64, please explicitly cast to a compatible dtype first.\n",
      "  df_temp.loc[0, 'Url'] = url\n",
      "C:\\Users\\YangTeng\\AppData\\Local\\Temp\\ipykernel_2604\\3929323490.py:58: FutureWarning: Setting an item of incompatible dtype is deprecated and will raise in a future error of pandas. Value 'ok' has dtype incompatible with float64, please explicitly cast to a compatible dtype first.\n",
      "  df_temp.loc[0, 'status'] = 'ok'\n",
      "C:\\Users\\YangTeng\\AppData\\Local\\Temp\\ipykernel_2604\\3929323490.py:59: FutureWarning: Setting an item of incompatible dtype is deprecated and will raise in a future error of pandas. Value 'https://ecatalog.smpcorp.com/V2/STD/api/part/partsearch?filterType=n&searchType=p&imageSize=80&limit=1&sort=3&catFilter=-All-&yearFilter=-All-&makeFilter=-All-&modelFilter=-All-&engineFilter=-All-&attrCodeFilter=-All-&attrValueFilter=-All-&plkEngineMakeFilter=-All-&plkEngineModelFilter=-All-&plkEngineDispFilter=-All-&filter=Accelerator%20Pedal%20Sensor%20(APS)&start=166' has dtype incompatible with float64, please explicitly cast to a compatible dtype first.\n",
      "  df_temp.loc[0, 'Url'] = url\n",
      "C:\\Users\\YangTeng\\AppData\\Local\\Temp\\ipykernel_2604\\3929323490.py:58: FutureWarning: Setting an item of incompatible dtype is deprecated and will raise in a future error of pandas. Value 'ok' has dtype incompatible with float64, please explicitly cast to a compatible dtype first.\n",
      "  df_temp.loc[0, 'status'] = 'ok'\n",
      "C:\\Users\\YangTeng\\AppData\\Local\\Temp\\ipykernel_2604\\3929323490.py:59: FutureWarning: Setting an item of incompatible dtype is deprecated and will raise in a future error of pandas. Value 'https://ecatalog.smpcorp.com/V2/STD/api/part/partsearch?filterType=n&searchType=p&imageSize=80&limit=1&sort=3&catFilter=-All-&yearFilter=-All-&makeFilter=-All-&modelFilter=-All-&engineFilter=-All-&attrCodeFilter=-All-&attrValueFilter=-All-&plkEngineMakeFilter=-All-&plkEngineModelFilter=-All-&plkEngineDispFilter=-All-&filter=Accelerator%20Pedal%20Sensor%20(APS)&start=160' has dtype incompatible with float64, please explicitly cast to a compatible dtype first.\n",
      "  df_temp.loc[0, 'Url'] = url\n",
      "C:\\Users\\YangTeng\\AppData\\Local\\Temp\\ipykernel_2604\\3929323490.py:58: FutureWarning: Setting an item of incompatible dtype is deprecated and will raise in a future error of pandas. Value 'ok' has dtype incompatible with float64, please explicitly cast to a compatible dtype first.\n",
      "  df_temp.loc[0, 'status'] = 'ok'\n",
      "C:\\Users\\YangTeng\\AppData\\Local\\Temp\\ipykernel_2604\\3929323490.py:59: FutureWarning: Setting an item of incompatible dtype is deprecated and will raise in a future error of pandas. Value 'https://ecatalog.smpcorp.com/V2/STD/api/part/partsearch?filterType=n&searchType=p&imageSize=80&limit=1&sort=3&catFilter=-All-&yearFilter=-All-&makeFilter=-All-&modelFilter=-All-&engineFilter=-All-&attrCodeFilter=-All-&attrValueFilter=-All-&plkEngineMakeFilter=-All-&plkEngineModelFilter=-All-&plkEngineDispFilter=-All-&filter=Accelerator%20Pedal%20Sensor%20(APS)&start=103' has dtype incompatible with float64, please explicitly cast to a compatible dtype first.\n",
      "  df_temp.loc[0, 'Url'] = url\n"
     ]
    },
    {
     "name": "stdout",
     "output_type": "stream",
     "text": [
      "https://ecatalog.smpcorp.com/V2/STD/api/part/partsearch?filterType=n&searchType=p&imageSize=80&limit=1&sort=3&catFilter=-All-&yearFilter=-All-&makeFilter=-All-&modelFilter=-All-&engineFilter=-All-&attrCodeFilter=-All-&attrValueFilter=-All-&plkEngineMakeFilter=-All-&plkEngineModelFilter=-All-&plkEngineDispFilter=-All-&filter=Accelerator%20Pedal%20Sensor%20(APS)&start=145  <->  [ok] - 剩余数量：296\n",
      "https://ecatalog.smpcorp.com/V2/STD/api/part/partsearch?filterType=n&searchType=p&imageSize=80&limit=1&sort=3&catFilter=-All-&yearFilter=-All-&makeFilter=-All-&modelFilter=-All-&engineFilter=-All-&attrCodeFilter=-All-&attrValueFilter=-All-&plkEngineMakeFilter=-All-&plkEngineModelFilter=-All-&plkEngineDispFilter=-All-&filter=Accelerator%20Pedal%20Sensor%20(APS)&start=166  <->  [ok] - 剩余数量：295\n",
      "https://ecatalog.smpcorp.com/V2/STD/api/part/partsearch?filterType=n&searchType=p&imageSize=80&limit=1&sort=3&catFilter=-All-&yearFilter=-All-&makeFilter=-All-&modelFilter=-All-&engineFilter=-All-&attrCodeFilter=-All-&attrValueFilter=-All-&plkEngineMakeFilter=-All-&plkEngineModelFilter=-All-&plkEngineDispFilter=-All-&filter=Accelerator%20Pedal%20Sensor%20(APS)&start=160  <->  [ok] - 剩余数量：294\n",
      "https://ecatalog.smpcorp.com/V2/STD/api/part/partsearch?filterType=n&searchType=p&imageSize=80&limit=1&sort=3&catFilter=-All-&yearFilter=-All-&makeFilter=-All-&modelFilter=-All-&engineFilter=-All-&attrCodeFilter=-All-&attrValueFilter=-All-&plkEngineMakeFilter=-All-&plkEngineModelFilter=-All-&plkEngineDispFilter=-All-&filter=Accelerator%20Pedal%20Sensor%20(APS)&start=103  <->  [ok] - 剩余数量：293\n"
     ]
    },
    {
     "name": "stderr",
     "output_type": "stream",
     "text": [
      "C:\\Users\\YangTeng\\AppData\\Local\\Temp\\ipykernel_2604\\3929323490.py:58: FutureWarning: Setting an item of incompatible dtype is deprecated and will raise in a future error of pandas. Value 'ok' has dtype incompatible with float64, please explicitly cast to a compatible dtype first.\n",
      "  df_temp.loc[0, 'status'] = 'ok'\n",
      "C:\\Users\\YangTeng\\AppData\\Local\\Temp\\ipykernel_2604\\3929323490.py:59: FutureWarning: Setting an item of incompatible dtype is deprecated and will raise in a future error of pandas. Value 'https://ecatalog.smpcorp.com/V2/STD/api/part/partsearch?filterType=n&searchType=p&imageSize=80&limit=1&sort=3&catFilter=-All-&yearFilter=-All-&makeFilter=-All-&modelFilter=-All-&engineFilter=-All-&attrCodeFilter=-All-&attrValueFilter=-All-&plkEngineMakeFilter=-All-&plkEngineModelFilter=-All-&plkEngineDispFilter=-All-&filter=Accelerator%20Pedal%20Sensor%20(APS)&start=163' has dtype incompatible with float64, please explicitly cast to a compatible dtype first.\n",
      "  df_temp.loc[0, 'Url'] = url\n",
      "C:\\Users\\YangTeng\\AppData\\Local\\Temp\\ipykernel_2604\\3929323490.py:58: FutureWarning: Setting an item of incompatible dtype is deprecated and will raise in a future error of pandas. Value 'ok' has dtype incompatible with float64, please explicitly cast to a compatible dtype first.\n",
      "  df_temp.loc[0, 'status'] = 'ok'\n",
      "C:\\Users\\YangTeng\\AppData\\Local\\Temp\\ipykernel_2604\\3929323490.py:59: FutureWarning: Setting an item of incompatible dtype is deprecated and will raise in a future error of pandas. Value 'https://ecatalog.smpcorp.com/V2/STD/api/part/partsearch?filterType=n&searchType=p&imageSize=80&limit=1&sort=3&catFilter=-All-&yearFilter=-All-&makeFilter=-All-&modelFilter=-All-&engineFilter=-All-&attrCodeFilter=-All-&attrValueFilter=-All-&plkEngineMakeFilter=-All-&plkEngineModelFilter=-All-&plkEngineDispFilter=-All-&filter=Accelerator%20Pedal%20Sensor%20(APS)&start=164' has dtype incompatible with float64, please explicitly cast to a compatible dtype first.\n",
      "  df_temp.loc[0, 'Url'] = url\n",
      "C:\\Users\\YangTeng\\AppData\\Local\\Temp\\ipykernel_2604\\3929323490.py:58: FutureWarning: Setting an item of incompatible dtype is deprecated and will raise in a future error of pandas. Value 'ok' has dtype incompatible with float64, please explicitly cast to a compatible dtype first.\n",
      "  df_temp.loc[0, 'status'] = 'ok'\n",
      "C:\\Users\\YangTeng\\AppData\\Local\\Temp\\ipykernel_2604\\3929323490.py:59: FutureWarning: Setting an item of incompatible dtype is deprecated and will raise in a future error of pandas. Value 'https://ecatalog.smpcorp.com/V2/STD/api/part/partsearch?filterType=n&searchType=p&imageSize=80&limit=1&sort=3&catFilter=-All-&yearFilter=-All-&makeFilter=-All-&modelFilter=-All-&engineFilter=-All-&attrCodeFilter=-All-&attrValueFilter=-All-&plkEngineMakeFilter=-All-&plkEngineModelFilter=-All-&plkEngineDispFilter=-All-&filter=Accelerator%20Pedal%20Sensor%20(APS)&start=161' has dtype incompatible with float64, please explicitly cast to a compatible dtype first.\n",
      "  df_temp.loc[0, 'Url'] = url\n",
      "C:\\Users\\YangTeng\\AppData\\Local\\Temp\\ipykernel_2604\\3929323490.py:58: FutureWarning: Setting an item of incompatible dtype is deprecated and will raise in a future error of pandas. Value 'ok' has dtype incompatible with float64, please explicitly cast to a compatible dtype first.\n",
      "  df_temp.loc[0, 'status'] = 'ok'\n",
      "C:\\Users\\YangTeng\\AppData\\Local\\Temp\\ipykernel_2604\\3929323490.py:59: FutureWarning: Setting an item of incompatible dtype is deprecated and will raise in a future error of pandas. Value 'https://ecatalog.smpcorp.com/V2/STD/api/part/partsearch?filterType=n&searchType=p&imageSize=80&limit=1&sort=3&catFilter=-All-&yearFilter=-All-&makeFilter=-All-&modelFilter=-All-&engineFilter=-All-&attrCodeFilter=-All-&attrValueFilter=-All-&plkEngineMakeFilter=-All-&plkEngineModelFilter=-All-&plkEngineDispFilter=-All-&filter=Accelerator%20Pedal%20Sensor%20(APS)&start=162' has dtype incompatible with float64, please explicitly cast to a compatible dtype first.\n",
      "  df_temp.loc[0, 'Url'] = url\n",
      "C:\\Users\\YangTeng\\AppData\\Local\\Temp\\ipykernel_2604\\3929323490.py:58: FutureWarning: Setting an item of incompatible dtype is deprecated and will raise in a future error of pandas. Value 'ok' has dtype incompatible with float64, please explicitly cast to a compatible dtype first.\n",
      "  df_temp.loc[0, 'status'] = 'ok'\n",
      "C:\\Users\\YangTeng\\AppData\\Local\\Temp\\ipykernel_2604\\3929323490.py:59: FutureWarning: Setting an item of incompatible dtype is deprecated and will raise in a future error of pandas. Value 'https://ecatalog.smpcorp.com/V2/STD/api/part/partsearch?filterType=n&searchType=p&imageSize=80&limit=1&sort=3&catFilter=-All-&yearFilter=-All-&makeFilter=-All-&modelFilter=-All-&engineFilter=-All-&attrCodeFilter=-All-&attrValueFilter=-All-&plkEngineMakeFilter=-All-&plkEngineModelFilter=-All-&plkEngineDispFilter=-All-&filter=Accelerator%20Pedal%20Sensor%20(APS)&start=165' has dtype incompatible with float64, please explicitly cast to a compatible dtype first.\n",
      "  df_temp.loc[0, 'Url'] = url\n",
      "C:\\Users\\YangTeng\\AppData\\Local\\Temp\\ipykernel_2604\\3929323490.py:58: FutureWarning: Setting an item of incompatible dtype is deprecated and will raise in a future error of pandas. Value 'ok' has dtype incompatible with float64, please explicitly cast to a compatible dtype first.\n",
      "  df_temp.loc[0, 'status'] = 'ok'\n",
      "C:\\Users\\YangTeng\\AppData\\Local\\Temp\\ipykernel_2604\\3929323490.py:59: FutureWarning: Setting an item of incompatible dtype is deprecated and will raise in a future error of pandas. Value 'https://ecatalog.smpcorp.com/V2/STD/api/part/partsearch?filterType=n&searchType=p&imageSize=80&limit=1&sort=3&catFilter=-All-&yearFilter=-All-&makeFilter=-All-&modelFilter=-All-&engineFilter=-All-&attrCodeFilter=-All-&attrValueFilter=-All-&plkEngineMakeFilter=-All-&plkEngineModelFilter=-All-&plkEngineDispFilter=-All-&filter=Accelerator%20Pedal%20Sensor%20(APS)&start=167' has dtype incompatible with float64, please explicitly cast to a compatible dtype first.\n",
      "  df_temp.loc[0, 'Url'] = url\n"
     ]
    },
    {
     "name": "stdout",
     "output_type": "stream",
     "text": [
      "https://ecatalog.smpcorp.com/V2/STD/api/part/partsearch?filterType=n&searchType=p&imageSize=80&limit=1&sort=3&catFilter=-All-&yearFilter=-All-&makeFilter=-All-&modelFilter=-All-&engineFilter=-All-&attrCodeFilter=-All-&attrValueFilter=-All-&plkEngineMakeFilter=-All-&plkEngineModelFilter=-All-&plkEngineDispFilter=-All-&filter=Accelerator%20Pedal%20Sensor%20(APS)&start=163  <->  [ok] - 剩余数量：292\n",
      "https://ecatalog.smpcorp.com/V2/STD/api/part/partsearch?filterType=n&searchType=p&imageSize=80&limit=1&sort=3&catFilter=-All-&yearFilter=-All-&makeFilter=-All-&modelFilter=-All-&engineFilter=-All-&attrCodeFilter=-All-&attrValueFilter=-All-&plkEngineMakeFilter=-All-&plkEngineModelFilter=-All-&plkEngineDispFilter=-All-&filter=Accelerator%20Pedal%20Sensor%20(APS)&start=164  <->  [ok] - 剩余数量：291\n",
      "https://ecatalog.smpcorp.com/V2/STD/api/part/partsearch?filterType=n&searchType=p&imageSize=80&limit=1&sort=3&catFilter=-All-&yearFilter=-All-&makeFilter=-All-&modelFilter=-All-&engineFilter=-All-&attrCodeFilter=-All-&attrValueFilter=-All-&plkEngineMakeFilter=-All-&plkEngineModelFilter=-All-&plkEngineDispFilter=-All-&filter=Accelerator%20Pedal%20Sensor%20(APS)&start=161  <->  [ok] - 剩余数量：290\n",
      "https://ecatalog.smpcorp.com/V2/STD/api/part/partsearch?filterType=n&searchType=p&imageSize=80&limit=1&sort=3&catFilter=-All-&yearFilter=-All-&makeFilter=-All-&modelFilter=-All-&engineFilter=-All-&attrCodeFilter=-All-&attrValueFilter=-All-&plkEngineMakeFilter=-All-&plkEngineModelFilter=-All-&plkEngineDispFilter=-All-&filter=Accelerator%20Pedal%20Sensor%20(APS)&start=162  <->  [ok] - 剩余数量：289\n",
      "https://ecatalog.smpcorp.com/V2/STD/api/part/partsearch?filterType=n&searchType=p&imageSize=80&limit=1&sort=3&catFilter=-All-&yearFilter=-All-&makeFilter=-All-&modelFilter=-All-&engineFilter=-All-&attrCodeFilter=-All-&attrValueFilter=-All-&plkEngineMakeFilter=-All-&plkEngineModelFilter=-All-&plkEngineDispFilter=-All-&filter=Accelerator%20Pedal%20Sensor%20(APS)&start=165  <->  [ok] - 剩余数量：288\n",
      "https://ecatalog.smpcorp.com/V2/STD/api/part/partsearch?filterType=n&searchType=p&imageSize=80&limit=1&sort=3&catFilter=-All-&yearFilter=-All-&makeFilter=-All-&modelFilter=-All-&engineFilter=-All-&attrCodeFilter=-All-&attrValueFilter=-All-&plkEngineMakeFilter=-All-&plkEngineModelFilter=-All-&plkEngineDispFilter=-All-&filter=Accelerator%20Pedal%20Sensor%20(APS)&start=167  <->  [ok] - 剩余数量：287\n"
     ]
    },
    {
     "name": "stderr",
     "output_type": "stream",
     "text": [
      "C:\\Users\\YangTeng\\AppData\\Local\\Temp\\ipykernel_2604\\3929323490.py:58: FutureWarning: Setting an item of incompatible dtype is deprecated and will raise in a future error of pandas. Value 'ok' has dtype incompatible with float64, please explicitly cast to a compatible dtype first.\n",
      "  df_temp.loc[0, 'status'] = 'ok'\n",
      "C:\\Users\\YangTeng\\AppData\\Local\\Temp\\ipykernel_2604\\3929323490.py:59: FutureWarning: Setting an item of incompatible dtype is deprecated and will raise in a future error of pandas. Value 'https://ecatalog.smpcorp.com/V2/STD/api/part/partsearch?filterType=n&searchType=p&imageSize=80&limit=1&sort=3&catFilter=-All-&yearFilter=-All-&makeFilter=-All-&modelFilter=-All-&engineFilter=-All-&attrCodeFilter=-All-&attrValueFilter=-All-&plkEngineMakeFilter=-All-&plkEngineModelFilter=-All-&plkEngineDispFilter=-All-&filter=Accelerator%20Pedal%20Sensor%20(APS)&start=173' has dtype incompatible with float64, please explicitly cast to a compatible dtype first.\n",
      "  df_temp.loc[0, 'Url'] = url\n"
     ]
    },
    {
     "name": "stdout",
     "output_type": "stream",
     "text": [
      "https://ecatalog.smpcorp.com/V2/STD/api/part/partsearch?filterType=n&searchType=p&imageSize=80&limit=1&sort=3&catFilter=-All-&yearFilter=-All-&makeFilter=-All-&modelFilter=-All-&engineFilter=-All-&attrCodeFilter=-All-&attrValueFilter=-All-&plkEngineMakeFilter=-All-&plkEngineModelFilter=-All-&plkEngineDispFilter=-All-&filter=Accelerator%20Pedal%20Sensor%20(APS)&start=173  <->  [ok] - 剩余数量：286\n"
     ]
    },
    {
     "name": "stderr",
     "output_type": "stream",
     "text": [
      "C:\\Users\\YangTeng\\AppData\\Local\\Temp\\ipykernel_2604\\3929323490.py:58: FutureWarning: Setting an item of incompatible dtype is deprecated and will raise in a future error of pandas. Value 'ok' has dtype incompatible with float64, please explicitly cast to a compatible dtype first.\n",
      "  df_temp.loc[0, 'status'] = 'ok'\n",
      "C:\\Users\\YangTeng\\AppData\\Local\\Temp\\ipykernel_2604\\3929323490.py:59: FutureWarning: Setting an item of incompatible dtype is deprecated and will raise in a future error of pandas. Value 'https://ecatalog.smpcorp.com/V2/STD/api/part/partsearch?filterType=n&searchType=p&imageSize=80&limit=1&sort=3&catFilter=-All-&yearFilter=-All-&makeFilter=-All-&modelFilter=-All-&engineFilter=-All-&attrCodeFilter=-All-&attrValueFilter=-All-&plkEngineMakeFilter=-All-&plkEngineModelFilter=-All-&plkEngineDispFilter=-All-&filter=Accelerator%20Pedal%20Sensor%20(APS)&start=158' has dtype incompatible with float64, please explicitly cast to a compatible dtype first.\n",
      "  df_temp.loc[0, 'Url'] = url\n",
      "C:\\Users\\YangTeng\\AppData\\Local\\Temp\\ipykernel_2604\\3929323490.py:58: FutureWarning: Setting an item of incompatible dtype is deprecated and will raise in a future error of pandas. Value 'ok' has dtype incompatible with float64, please explicitly cast to a compatible dtype first.\n",
      "  df_temp.loc[0, 'status'] = 'ok'\n",
      "C:\\Users\\YangTeng\\AppData\\Local\\Temp\\ipykernel_2604\\3929323490.py:59: FutureWarning: Setting an item of incompatible dtype is deprecated and will raise in a future error of pandas. Value 'https://ecatalog.smpcorp.com/V2/STD/api/part/partsearch?filterType=n&searchType=p&imageSize=80&limit=1&sort=3&catFilter=-All-&yearFilter=-All-&makeFilter=-All-&modelFilter=-All-&engineFilter=-All-&attrCodeFilter=-All-&attrValueFilter=-All-&plkEngineMakeFilter=-All-&plkEngineModelFilter=-All-&plkEngineDispFilter=-All-&filter=Accelerator%20Pedal%20Sensor%20(APS)&start=170' has dtype incompatible with float64, please explicitly cast to a compatible dtype first.\n",
      "  df_temp.loc[0, 'Url'] = url\n"
     ]
    },
    {
     "name": "stdout",
     "output_type": "stream",
     "text": [
      "https://ecatalog.smpcorp.com/V2/STD/api/part/partsearch?filterType=n&searchType=p&imageSize=80&limit=1&sort=3&catFilter=-All-&yearFilter=-All-&makeFilter=-All-&modelFilter=-All-&engineFilter=-All-&attrCodeFilter=-All-&attrValueFilter=-All-&plkEngineMakeFilter=-All-&plkEngineModelFilter=-All-&plkEngineDispFilter=-All-&filter=Accelerator%20Pedal%20Sensor%20(APS)&start=158  <->  [ok] - 剩余数量：285\n",
      "https://ecatalog.smpcorp.com/V2/STD/api/part/partsearch?filterType=n&searchType=p&imageSize=80&limit=1&sort=3&catFilter=-All-&yearFilter=-All-&makeFilter=-All-&modelFilter=-All-&engineFilter=-All-&attrCodeFilter=-All-&attrValueFilter=-All-&plkEngineMakeFilter=-All-&plkEngineModelFilter=-All-&plkEngineDispFilter=-All-&filter=Accelerator%20Pedal%20Sensor%20(APS)&start=170  <->  [ok] - 剩余数量：284\n"
     ]
    },
    {
     "name": "stderr",
     "output_type": "stream",
     "text": [
      "C:\\Users\\YangTeng\\AppData\\Local\\Temp\\ipykernel_2604\\3929323490.py:58: FutureWarning: Setting an item of incompatible dtype is deprecated and will raise in a future error of pandas. Value 'ok' has dtype incompatible with float64, please explicitly cast to a compatible dtype first.\n",
      "  df_temp.loc[0, 'status'] = 'ok'\n",
      "C:\\Users\\YangTeng\\AppData\\Local\\Temp\\ipykernel_2604\\3929323490.py:59: FutureWarning: Setting an item of incompatible dtype is deprecated and will raise in a future error of pandas. Value 'https://ecatalog.smpcorp.com/V2/STD/api/part/partsearch?filterType=n&searchType=p&imageSize=80&limit=1&sort=3&catFilter=-All-&yearFilter=-All-&makeFilter=-All-&modelFilter=-All-&engineFilter=-All-&attrCodeFilter=-All-&attrValueFilter=-All-&plkEngineMakeFilter=-All-&plkEngineModelFilter=-All-&plkEngineDispFilter=-All-&filter=Accelerator%20Pedal%20Sensor%20(APS)&start=169' has dtype incompatible with float64, please explicitly cast to a compatible dtype first.\n",
      "  df_temp.loc[0, 'Url'] = url\n",
      "C:\\Users\\YangTeng\\AppData\\Local\\Temp\\ipykernel_2604\\3929323490.py:58: FutureWarning: Setting an item of incompatible dtype is deprecated and will raise in a future error of pandas. Value 'ok' has dtype incompatible with float64, please explicitly cast to a compatible dtype first.\n",
      "  df_temp.loc[0, 'status'] = 'ok'\n",
      "C:\\Users\\YangTeng\\AppData\\Local\\Temp\\ipykernel_2604\\3929323490.py:59: FutureWarning: Setting an item of incompatible dtype is deprecated and will raise in a future error of pandas. Value 'https://ecatalog.smpcorp.com/V2/STD/api/part/partsearch?filterType=n&searchType=p&imageSize=80&limit=1&sort=3&catFilter=-All-&yearFilter=-All-&makeFilter=-All-&modelFilter=-All-&engineFilter=-All-&attrCodeFilter=-All-&attrValueFilter=-All-&plkEngineMakeFilter=-All-&plkEngineModelFilter=-All-&plkEngineDispFilter=-All-&filter=Accelerator%20Pedal%20Sensor%20(APS)&start=174' has dtype incompatible with float64, please explicitly cast to a compatible dtype first.\n",
      "  df_temp.loc[0, 'Url'] = url\n"
     ]
    },
    {
     "name": "stdout",
     "output_type": "stream",
     "text": [
      "https://ecatalog.smpcorp.com/V2/STD/api/part/partsearch?filterType=n&searchType=p&imageSize=80&limit=1&sort=3&catFilter=-All-&yearFilter=-All-&makeFilter=-All-&modelFilter=-All-&engineFilter=-All-&attrCodeFilter=-All-&attrValueFilter=-All-&plkEngineMakeFilter=-All-&plkEngineModelFilter=-All-&plkEngineDispFilter=-All-&filter=Accelerator%20Pedal%20Sensor%20(APS)&start=169  <->  [ok] - 剩余数量：283\n",
      "https://ecatalog.smpcorp.com/V2/STD/api/part/partsearch?filterType=n&searchType=p&imageSize=80&limit=1&sort=3&catFilter=-All-&yearFilter=-All-&makeFilter=-All-&modelFilter=-All-&engineFilter=-All-&attrCodeFilter=-All-&attrValueFilter=-All-&plkEngineMakeFilter=-All-&plkEngineModelFilter=-All-&plkEngineDispFilter=-All-&filter=Accelerator%20Pedal%20Sensor%20(APS)&start=174  <->  [ok] - 剩余数量：282\n"
     ]
    },
    {
     "name": "stderr",
     "output_type": "stream",
     "text": [
      "C:\\Users\\YangTeng\\AppData\\Local\\Temp\\ipykernel_2604\\3929323490.py:58: FutureWarning: Setting an item of incompatible dtype is deprecated and will raise in a future error of pandas. Value 'ok' has dtype incompatible with float64, please explicitly cast to a compatible dtype first.\n",
      "  df_temp.loc[0, 'status'] = 'ok'\n",
      "C:\\Users\\YangTeng\\AppData\\Local\\Temp\\ipykernel_2604\\3929323490.py:59: FutureWarning: Setting an item of incompatible dtype is deprecated and will raise in a future error of pandas. Value 'https://ecatalog.smpcorp.com/V2/STD/api/part/partsearch?filterType=n&searchType=p&imageSize=80&limit=1&sort=3&catFilter=-All-&yearFilter=-All-&makeFilter=-All-&modelFilter=-All-&engineFilter=-All-&attrCodeFilter=-All-&attrValueFilter=-All-&plkEngineMakeFilter=-All-&plkEngineModelFilter=-All-&plkEngineDispFilter=-All-&filter=Accelerator%20Pedal%20Sensor%20(APS)&start=150' has dtype incompatible with float64, please explicitly cast to a compatible dtype first.\n",
      "  df_temp.loc[0, 'Url'] = url\n",
      "C:\\Users\\YangTeng\\AppData\\Local\\Temp\\ipykernel_2604\\3929323490.py:58: FutureWarning: Setting an item of incompatible dtype is deprecated and will raise in a future error of pandas. Value 'ok' has dtype incompatible with float64, please explicitly cast to a compatible dtype first.\n",
      "  df_temp.loc[0, 'status'] = 'ok'\n",
      "C:\\Users\\YangTeng\\AppData\\Local\\Temp\\ipykernel_2604\\3929323490.py:59: FutureWarning: Setting an item of incompatible dtype is deprecated and will raise in a future error of pandas. Value 'https://ecatalog.smpcorp.com/V2/STD/api/part/partsearch?filterType=n&searchType=p&imageSize=80&limit=1&sort=3&catFilter=-All-&yearFilter=-All-&makeFilter=-All-&modelFilter=-All-&engineFilter=-All-&attrCodeFilter=-All-&attrValueFilter=-All-&plkEngineMakeFilter=-All-&plkEngineModelFilter=-All-&plkEngineDispFilter=-All-&filter=Accelerator%20Pedal%20Sensor%20(APS)&start=168' has dtype incompatible with float64, please explicitly cast to a compatible dtype first.\n",
      "  df_temp.loc[0, 'Url'] = url\n",
      "C:\\Users\\YangTeng\\AppData\\Local\\Temp\\ipykernel_2604\\3929323490.py:58: FutureWarning: Setting an item of incompatible dtype is deprecated and will raise in a future error of pandas. Value 'ok' has dtype incompatible with float64, please explicitly cast to a compatible dtype first.\n",
      "  df_temp.loc[0, 'status'] = 'ok'\n",
      "C:\\Users\\YangTeng\\AppData\\Local\\Temp\\ipykernel_2604\\3929323490.py:59: FutureWarning: Setting an item of incompatible dtype is deprecated and will raise in a future error of pandas. Value 'https://ecatalog.smpcorp.com/V2/STD/api/part/partsearch?filterType=n&searchType=p&imageSize=80&limit=1&sort=3&catFilter=-All-&yearFilter=-All-&makeFilter=-All-&modelFilter=-All-&engineFilter=-All-&attrCodeFilter=-All-&attrValueFilter=-All-&plkEngineMakeFilter=-All-&plkEngineModelFilter=-All-&plkEngineDispFilter=-All-&filter=Accelerator%20Pedal%20Sensor%20(APS)&start=172' has dtype incompatible with float64, please explicitly cast to a compatible dtype first.\n",
      "  df_temp.loc[0, 'Url'] = url\n"
     ]
    },
    {
     "name": "stdout",
     "output_type": "stream",
     "text": [
      "https://ecatalog.smpcorp.com/V2/STD/api/part/partsearch?filterType=n&searchType=p&imageSize=80&limit=1&sort=3&catFilter=-All-&yearFilter=-All-&makeFilter=-All-&modelFilter=-All-&engineFilter=-All-&attrCodeFilter=-All-&attrValueFilter=-All-&plkEngineMakeFilter=-All-&plkEngineModelFilter=-All-&plkEngineDispFilter=-All-&filter=Accelerator%20Pedal%20Sensor%20(APS)&start=150  <->  [ok] - 剩余数量：281\n",
      "https://ecatalog.smpcorp.com/V2/STD/api/part/partsearch?filterType=n&searchType=p&imageSize=80&limit=1&sort=3&catFilter=-All-&yearFilter=-All-&makeFilter=-All-&modelFilter=-All-&engineFilter=-All-&attrCodeFilter=-All-&attrValueFilter=-All-&plkEngineMakeFilter=-All-&plkEngineModelFilter=-All-&plkEngineDispFilter=-All-&filter=Accelerator%20Pedal%20Sensor%20(APS)&start=168  <->  [ok] - 剩余数量：280\n",
      "https://ecatalog.smpcorp.com/V2/STD/api/part/partsearch?filterType=n&searchType=p&imageSize=80&limit=1&sort=3&catFilter=-All-&yearFilter=-All-&makeFilter=-All-&modelFilter=-All-&engineFilter=-All-&attrCodeFilter=-All-&attrValueFilter=-All-&plkEngineMakeFilter=-All-&plkEngineModelFilter=-All-&plkEngineDispFilter=-All-&filter=Accelerator%20Pedal%20Sensor%20(APS)&start=172  <->  [ok] - 剩余数量：279\n"
     ]
    },
    {
     "name": "stderr",
     "output_type": "stream",
     "text": [
      "C:\\Users\\YangTeng\\AppData\\Local\\Temp\\ipykernel_2604\\3929323490.py:58: FutureWarning: Setting an item of incompatible dtype is deprecated and will raise in a future error of pandas. Value 'ok' has dtype incompatible with float64, please explicitly cast to a compatible dtype first.\n",
      "  df_temp.loc[0, 'status'] = 'ok'\n",
      "C:\\Users\\YangTeng\\AppData\\Local\\Temp\\ipykernel_2604\\3929323490.py:59: FutureWarning: Setting an item of incompatible dtype is deprecated and will raise in a future error of pandas. Value 'https://ecatalog.smpcorp.com/V2/STD/api/part/partsearch?filterType=n&searchType=p&imageSize=80&limit=1&sort=3&catFilter=-All-&yearFilter=-All-&makeFilter=-All-&modelFilter=-All-&engineFilter=-All-&attrCodeFilter=-All-&attrValueFilter=-All-&plkEngineMakeFilter=-All-&plkEngineModelFilter=-All-&plkEngineDispFilter=-All-&filter=Accelerator%20Pedal%20Sensor%20(APS)&start=177' has dtype incompatible with float64, please explicitly cast to a compatible dtype first.\n",
      "  df_temp.loc[0, 'Url'] = url\n",
      "C:\\Users\\YangTeng\\AppData\\Local\\Temp\\ipykernel_2604\\3929323490.py:58: FutureWarning: Setting an item of incompatible dtype is deprecated and will raise in a future error of pandas. Value 'ok' has dtype incompatible with float64, please explicitly cast to a compatible dtype first.\n",
      "  df_temp.loc[0, 'status'] = 'ok'\n",
      "C:\\Users\\YangTeng\\AppData\\Local\\Temp\\ipykernel_2604\\3929323490.py:59: FutureWarning: Setting an item of incompatible dtype is deprecated and will raise in a future error of pandas. Value 'https://ecatalog.smpcorp.com/V2/STD/api/part/partsearch?filterType=n&searchType=p&imageSize=80&limit=1&sort=3&catFilter=-All-&yearFilter=-All-&makeFilter=-All-&modelFilter=-All-&engineFilter=-All-&attrCodeFilter=-All-&attrValueFilter=-All-&plkEngineMakeFilter=-All-&plkEngineModelFilter=-All-&plkEngineDispFilter=-All-&filter=Accelerator%20Pedal%20Sensor%20(APS)&start=176' has dtype incompatible with float64, please explicitly cast to a compatible dtype first.\n",
      "  df_temp.loc[0, 'Url'] = url\n"
     ]
    },
    {
     "name": "stdout",
     "output_type": "stream",
     "text": [
      "https://ecatalog.smpcorp.com/V2/STD/api/part/partsearch?filterType=n&searchType=p&imageSize=80&limit=1&sort=3&catFilter=-All-&yearFilter=-All-&makeFilter=-All-&modelFilter=-All-&engineFilter=-All-&attrCodeFilter=-All-&attrValueFilter=-All-&plkEngineMakeFilter=-All-&plkEngineModelFilter=-All-&plkEngineDispFilter=-All-&filter=Accelerator%20Pedal%20Sensor%20(APS)&start=177  <->  [ok] - 剩余数量：278\n",
      "https://ecatalog.smpcorp.com/V2/STD/api/part/partsearch?filterType=n&searchType=p&imageSize=80&limit=1&sort=3&catFilter=-All-&yearFilter=-All-&makeFilter=-All-&modelFilter=-All-&engineFilter=-All-&attrCodeFilter=-All-&attrValueFilter=-All-&plkEngineMakeFilter=-All-&plkEngineModelFilter=-All-&plkEngineDispFilter=-All-&filter=Accelerator%20Pedal%20Sensor%20(APS)&start=176  <->  [ok] - 剩余数量：277\n"
     ]
    },
    {
     "name": "stderr",
     "output_type": "stream",
     "text": [
      "C:\\Users\\YangTeng\\AppData\\Local\\Temp\\ipykernel_2604\\3929323490.py:58: FutureWarning: Setting an item of incompatible dtype is deprecated and will raise in a future error of pandas. Value 'ok' has dtype incompatible with float64, please explicitly cast to a compatible dtype first.\n",
      "  df_temp.loc[0, 'status'] = 'ok'\n",
      "C:\\Users\\YangTeng\\AppData\\Local\\Temp\\ipykernel_2604\\3929323490.py:59: FutureWarning: Setting an item of incompatible dtype is deprecated and will raise in a future error of pandas. Value 'https://ecatalog.smpcorp.com/V2/STD/api/part/partsearch?filterType=n&searchType=p&imageSize=80&limit=1&sort=3&catFilter=-All-&yearFilter=-All-&makeFilter=-All-&modelFilter=-All-&engineFilter=-All-&attrCodeFilter=-All-&attrValueFilter=-All-&plkEngineMakeFilter=-All-&plkEngineModelFilter=-All-&plkEngineDispFilter=-All-&filter=Accelerator%20Pedal%20Sensor%20(APS)&start=181' has dtype incompatible with float64, please explicitly cast to a compatible dtype first.\n",
      "  df_temp.loc[0, 'Url'] = url\n",
      "C:\\Users\\YangTeng\\AppData\\Local\\Temp\\ipykernel_2604\\3929323490.py:58: FutureWarning: Setting an item of incompatible dtype is deprecated and will raise in a future error of pandas. Value 'ok' has dtype incompatible with float64, please explicitly cast to a compatible dtype first.\n",
      "  df_temp.loc[0, 'status'] = 'ok'\n",
      "C:\\Users\\YangTeng\\AppData\\Local\\Temp\\ipykernel_2604\\3929323490.py:59: FutureWarning: Setting an item of incompatible dtype is deprecated and will raise in a future error of pandas. Value 'https://ecatalog.smpcorp.com/V2/STD/api/part/partsearch?filterType=n&searchType=p&imageSize=80&limit=1&sort=3&catFilter=-All-&yearFilter=-All-&makeFilter=-All-&modelFilter=-All-&engineFilter=-All-&attrCodeFilter=-All-&attrValueFilter=-All-&plkEngineMakeFilter=-All-&plkEngineModelFilter=-All-&plkEngineDispFilter=-All-&filter=Accelerator%20Pedal%20Sensor%20(APS)&start=175' has dtype incompatible with float64, please explicitly cast to a compatible dtype first.\n",
      "  df_temp.loc[0, 'Url'] = url\n",
      "C:\\Users\\YangTeng\\AppData\\Local\\Temp\\ipykernel_2604\\3929323490.py:58: FutureWarning: Setting an item of incompatible dtype is deprecated and will raise in a future error of pandas. Value 'ok' has dtype incompatible with float64, please explicitly cast to a compatible dtype first.\n",
      "  df_temp.loc[0, 'status'] = 'ok'\n",
      "C:\\Users\\YangTeng\\AppData\\Local\\Temp\\ipykernel_2604\\3929323490.py:59: FutureWarning: Setting an item of incompatible dtype is deprecated and will raise in a future error of pandas. Value 'https://ecatalog.smpcorp.com/V2/STD/api/part/partsearch?filterType=n&searchType=p&imageSize=80&limit=1&sort=3&catFilter=-All-&yearFilter=-All-&makeFilter=-All-&modelFilter=-All-&engineFilter=-All-&attrCodeFilter=-All-&attrValueFilter=-All-&plkEngineMakeFilter=-All-&plkEngineModelFilter=-All-&plkEngineDispFilter=-All-&filter=Accelerator%20Pedal%20Sensor%20(APS)&start=180' has dtype incompatible with float64, please explicitly cast to a compatible dtype first.\n",
      "  df_temp.loc[0, 'Url'] = url\n",
      "C:\\Users\\YangTeng\\AppData\\Local\\Temp\\ipykernel_2604\\3929323490.py:58: FutureWarning: Setting an item of incompatible dtype is deprecated and will raise in a future error of pandas. Value 'ok' has dtype incompatible with float64, please explicitly cast to a compatible dtype first.\n",
      "  df_temp.loc[0, 'status'] = 'ok'\n",
      "C:\\Users\\YangTeng\\AppData\\Local\\Temp\\ipykernel_2604\\3929323490.py:59: FutureWarning: Setting an item of incompatible dtype is deprecated and will raise in a future error of pandas. Value 'https://ecatalog.smpcorp.com/V2/STD/api/part/partsearch?filterType=n&searchType=p&imageSize=80&limit=1&sort=3&catFilter=-All-&yearFilter=-All-&makeFilter=-All-&modelFilter=-All-&engineFilter=-All-&attrCodeFilter=-All-&attrValueFilter=-All-&plkEngineMakeFilter=-All-&plkEngineModelFilter=-All-&plkEngineDispFilter=-All-&filter=Accelerator%20Pedal%20Sensor%20(APS)&start=179' has dtype incompatible with float64, please explicitly cast to a compatible dtype first.\n",
      "  df_temp.loc[0, 'Url'] = url\n",
      "C:\\Users\\YangTeng\\AppData\\Local\\Temp\\ipykernel_2604\\3929323490.py:58: FutureWarning: Setting an item of incompatible dtype is deprecated and will raise in a future error of pandas. Value 'ok' has dtype incompatible with float64, please explicitly cast to a compatible dtype first.\n",
      "  df_temp.loc[0, 'status'] = 'ok'\n",
      "C:\\Users\\YangTeng\\AppData\\Local\\Temp\\ipykernel_2604\\3929323490.py:59: FutureWarning: Setting an item of incompatible dtype is deprecated and will raise in a future error of pandas. Value 'https://ecatalog.smpcorp.com/V2/STD/api/part/partsearch?filterType=n&searchType=p&imageSize=80&limit=1&sort=3&catFilter=-All-&yearFilter=-All-&makeFilter=-All-&modelFilter=-All-&engineFilter=-All-&attrCodeFilter=-All-&attrValueFilter=-All-&plkEngineMakeFilter=-All-&plkEngineModelFilter=-All-&plkEngineDispFilter=-All-&filter=Accelerator%20Pedal%20Sensor%20(APS)&start=171' has dtype incompatible with float64, please explicitly cast to a compatible dtype first.\n",
      "  df_temp.loc[0, 'Url'] = url\n",
      "C:\\Users\\YangTeng\\AppData\\Local\\Temp\\ipykernel_2604\\3929323490.py:58: FutureWarning: Setting an item of incompatible dtype is deprecated and will raise in a future error of pandas. Value 'ok' has dtype incompatible with float64, please explicitly cast to a compatible dtype first.\n",
      "  df_temp.loc[0, 'status'] = 'ok'\n",
      "C:\\Users\\YangTeng\\AppData\\Local\\Temp\\ipykernel_2604\\3929323490.py:59: FutureWarning: Setting an item of incompatible dtype is deprecated and will raise in a future error of pandas. Value 'https://ecatalog.smpcorp.com/V2/STD/api/part/partsearch?filterType=n&searchType=p&imageSize=80&limit=1&sort=3&catFilter=-All-&yearFilter=-All-&makeFilter=-All-&modelFilter=-All-&engineFilter=-All-&attrCodeFilter=-All-&attrValueFilter=-All-&plkEngineMakeFilter=-All-&plkEngineModelFilter=-All-&plkEngineDispFilter=-All-&filter=Accelerator%20Pedal%20Sensor%20(APS)&start=178' has dtype incompatible with float64, please explicitly cast to a compatible dtype first.\n",
      "  df_temp.loc[0, 'Url'] = url\n"
     ]
    },
    {
     "name": "stdout",
     "output_type": "stream",
     "text": [
      "https://ecatalog.smpcorp.com/V2/STD/api/part/partsearch?filterType=n&searchType=p&imageSize=80&limit=1&sort=3&catFilter=-All-&yearFilter=-All-&makeFilter=-All-&modelFilter=-All-&engineFilter=-All-&attrCodeFilter=-All-&attrValueFilter=-All-&plkEngineMakeFilter=-All-&plkEngineModelFilter=-All-&plkEngineDispFilter=-All-&filter=Accelerator%20Pedal%20Sensor%20(APS)&start=181  <->  [ok] - 剩余数量：276\n",
      "https://ecatalog.smpcorp.com/V2/STD/api/part/partsearch?filterType=n&searchType=p&imageSize=80&limit=1&sort=3&catFilter=-All-&yearFilter=-All-&makeFilter=-All-&modelFilter=-All-&engineFilter=-All-&attrCodeFilter=-All-&attrValueFilter=-All-&plkEngineMakeFilter=-All-&plkEngineModelFilter=-All-&plkEngineDispFilter=-All-&filter=Accelerator%20Pedal%20Sensor%20(APS)&start=175  <->  [ok] - 剩余数量：275\n",
      "https://ecatalog.smpcorp.com/V2/STD/api/part/partsearch?filterType=n&searchType=p&imageSize=80&limit=1&sort=3&catFilter=-All-&yearFilter=-All-&makeFilter=-All-&modelFilter=-All-&engineFilter=-All-&attrCodeFilter=-All-&attrValueFilter=-All-&plkEngineMakeFilter=-All-&plkEngineModelFilter=-All-&plkEngineDispFilter=-All-&filter=Accelerator%20Pedal%20Sensor%20(APS)&start=180  <->  [ok] - 剩余数量：274\n",
      "https://ecatalog.smpcorp.com/V2/STD/api/part/partsearch?filterType=n&searchType=p&imageSize=80&limit=1&sort=3&catFilter=-All-&yearFilter=-All-&makeFilter=-All-&modelFilter=-All-&engineFilter=-All-&attrCodeFilter=-All-&attrValueFilter=-All-&plkEngineMakeFilter=-All-&plkEngineModelFilter=-All-&plkEngineDispFilter=-All-&filter=Accelerator%20Pedal%20Sensor%20(APS)&start=179  <->  [ok] - 剩余数量：273\n",
      "https://ecatalog.smpcorp.com/V2/STD/api/part/partsearch?filterType=n&searchType=p&imageSize=80&limit=1&sort=3&catFilter=-All-&yearFilter=-All-&makeFilter=-All-&modelFilter=-All-&engineFilter=-All-&attrCodeFilter=-All-&attrValueFilter=-All-&plkEngineMakeFilter=-All-&plkEngineModelFilter=-All-&plkEngineDispFilter=-All-&filter=Accelerator%20Pedal%20Sensor%20(APS)&start=171  <->  [ok] - 剩余数量：272\n",
      "https://ecatalog.smpcorp.com/V2/STD/api/part/partsearch?filterType=n&searchType=p&imageSize=80&limit=1&sort=3&catFilter=-All-&yearFilter=-All-&makeFilter=-All-&modelFilter=-All-&engineFilter=-All-&attrCodeFilter=-All-&attrValueFilter=-All-&plkEngineMakeFilter=-All-&plkEngineModelFilter=-All-&plkEngineDispFilter=-All-&filter=Accelerator%20Pedal%20Sensor%20(APS)&start=178  <->  [ok] - 剩余数量：271\n"
     ]
    },
    {
     "name": "stderr",
     "output_type": "stream",
     "text": [
      "C:\\Users\\YangTeng\\AppData\\Local\\Temp\\ipykernel_2604\\3929323490.py:58: FutureWarning: Setting an item of incompatible dtype is deprecated and will raise in a future error of pandas. Value 'ok' has dtype incompatible with float64, please explicitly cast to a compatible dtype first.\n",
      "  df_temp.loc[0, 'status'] = 'ok'\n",
      "C:\\Users\\YangTeng\\AppData\\Local\\Temp\\ipykernel_2604\\3929323490.py:59: FutureWarning: Setting an item of incompatible dtype is deprecated and will raise in a future error of pandas. Value 'https://ecatalog.smpcorp.com/V2/STD/api/part/partsearch?filterType=n&searchType=p&imageSize=80&limit=1&sort=3&catFilter=-All-&yearFilter=-All-&makeFilter=-All-&modelFilter=-All-&engineFilter=-All-&attrCodeFilter=-All-&attrValueFilter=-All-&plkEngineMakeFilter=-All-&plkEngineModelFilter=-All-&plkEngineDispFilter=-All-&filter=Accelerator%20Pedal%20Sensor%20(APS)&start=159' has dtype incompatible with float64, please explicitly cast to a compatible dtype first.\n",
      "  df_temp.loc[0, 'Url'] = url\n",
      "C:\\Users\\YangTeng\\AppData\\Local\\Temp\\ipykernel_2604\\3929323490.py:58: FutureWarning: Setting an item of incompatible dtype is deprecated and will raise in a future error of pandas. Value 'ok' has dtype incompatible with float64, please explicitly cast to a compatible dtype first.\n",
      "  df_temp.loc[0, 'status'] = 'ok'\n",
      "C:\\Users\\YangTeng\\AppData\\Local\\Temp\\ipykernel_2604\\3929323490.py:59: FutureWarning: Setting an item of incompatible dtype is deprecated and will raise in a future error of pandas. Value 'https://ecatalog.smpcorp.com/V2/STD/api/part/partsearch?filterType=n&searchType=p&imageSize=80&limit=1&sort=3&catFilter=-All-&yearFilter=-All-&makeFilter=-All-&modelFilter=-All-&engineFilter=-All-&attrCodeFilter=-All-&attrValueFilter=-All-&plkEngineMakeFilter=-All-&plkEngineModelFilter=-All-&plkEngineDispFilter=-All-&filter=Accelerator%20Pedal%20Sensor%20(APS)&start=182' has dtype incompatible with float64, please explicitly cast to a compatible dtype first.\n",
      "  df_temp.loc[0, 'Url'] = url\n",
      "C:\\Users\\YangTeng\\AppData\\Local\\Temp\\ipykernel_2604\\3929323490.py:58: FutureWarning: Setting an item of incompatible dtype is deprecated and will raise in a future error of pandas. Value 'ok' has dtype incompatible with float64, please explicitly cast to a compatible dtype first.\n",
      "  df_temp.loc[0, 'status'] = 'ok'\n",
      "C:\\Users\\YangTeng\\AppData\\Local\\Temp\\ipykernel_2604\\3929323490.py:59: FutureWarning: Setting an item of incompatible dtype is deprecated and will raise in a future error of pandas. Value 'https://ecatalog.smpcorp.com/V2/STD/api/part/partsearch?filterType=n&searchType=p&imageSize=80&limit=1&sort=3&catFilter=-All-&yearFilter=-All-&makeFilter=-All-&modelFilter=-All-&engineFilter=-All-&attrCodeFilter=-All-&attrValueFilter=-All-&plkEngineMakeFilter=-All-&plkEngineModelFilter=-All-&plkEngineDispFilter=-All-&filter=Accelerator%20Pedal%20Sensor%20(APS)&start=183' has dtype incompatible with float64, please explicitly cast to a compatible dtype first.\n",
      "  df_temp.loc[0, 'Url'] = url\n"
     ]
    },
    {
     "name": "stdout",
     "output_type": "stream",
     "text": [
      "https://ecatalog.smpcorp.com/V2/STD/api/part/partsearch?filterType=n&searchType=p&imageSize=80&limit=1&sort=3&catFilter=-All-&yearFilter=-All-&makeFilter=-All-&modelFilter=-All-&engineFilter=-All-&attrCodeFilter=-All-&attrValueFilter=-All-&plkEngineMakeFilter=-All-&plkEngineModelFilter=-All-&plkEngineDispFilter=-All-&filter=Accelerator%20Pedal%20Sensor%20(APS)&start=159  <->  [ok] - 剩余数量：270\n",
      "https://ecatalog.smpcorp.com/V2/STD/api/part/partsearch?filterType=n&searchType=p&imageSize=80&limit=1&sort=3&catFilter=-All-&yearFilter=-All-&makeFilter=-All-&modelFilter=-All-&engineFilter=-All-&attrCodeFilter=-All-&attrValueFilter=-All-&plkEngineMakeFilter=-All-&plkEngineModelFilter=-All-&plkEngineDispFilter=-All-&filter=Accelerator%20Pedal%20Sensor%20(APS)&start=182  <->  [ok] - 剩余数量：269\n",
      "https://ecatalog.smpcorp.com/V2/STD/api/part/partsearch?filterType=n&searchType=p&imageSize=80&limit=1&sort=3&catFilter=-All-&yearFilter=-All-&makeFilter=-All-&modelFilter=-All-&engineFilter=-All-&attrCodeFilter=-All-&attrValueFilter=-All-&plkEngineMakeFilter=-All-&plkEngineModelFilter=-All-&plkEngineDispFilter=-All-&filter=Accelerator%20Pedal%20Sensor%20(APS)&start=183  <->  [ok] - 剩余数量：268\n"
     ]
    },
    {
     "name": "stderr",
     "output_type": "stream",
     "text": [
      "C:\\Users\\YangTeng\\AppData\\Local\\Temp\\ipykernel_2604\\3929323490.py:58: FutureWarning: Setting an item of incompatible dtype is deprecated and will raise in a future error of pandas. Value 'ok' has dtype incompatible with float64, please explicitly cast to a compatible dtype first.\n",
      "  df_temp.loc[0, 'status'] = 'ok'\n",
      "C:\\Users\\YangTeng\\AppData\\Local\\Temp\\ipykernel_2604\\3929323490.py:59: FutureWarning: Setting an item of incompatible dtype is deprecated and will raise in a future error of pandas. Value 'https://ecatalog.smpcorp.com/V2/STD/api/part/partsearch?filterType=n&searchType=p&imageSize=80&limit=1&sort=3&catFilter=-All-&yearFilter=-All-&makeFilter=-All-&modelFilter=-All-&engineFilter=-All-&attrCodeFilter=-All-&attrValueFilter=-All-&plkEngineMakeFilter=-All-&plkEngineModelFilter=-All-&plkEngineDispFilter=-All-&filter=Accelerator%20Pedal%20Sensor%20(APS)&start=188' has dtype incompatible with float64, please explicitly cast to a compatible dtype first.\n",
      "  df_temp.loc[0, 'Url'] = url\n",
      "C:\\Users\\YangTeng\\AppData\\Local\\Temp\\ipykernel_2604\\3929323490.py:58: FutureWarning: Setting an item of incompatible dtype is deprecated and will raise in a future error of pandas. Value 'ok' has dtype incompatible with float64, please explicitly cast to a compatible dtype first.\n",
      "  df_temp.loc[0, 'status'] = 'ok'\n",
      "C:\\Users\\YangTeng\\AppData\\Local\\Temp\\ipykernel_2604\\3929323490.py:59: FutureWarning: Setting an item of incompatible dtype is deprecated and will raise in a future error of pandas. Value 'https://ecatalog.smpcorp.com/V2/STD/api/part/partsearch?filterType=n&searchType=p&imageSize=80&limit=1&sort=3&catFilter=-All-&yearFilter=-All-&makeFilter=-All-&modelFilter=-All-&engineFilter=-All-&attrCodeFilter=-All-&attrValueFilter=-All-&plkEngineMakeFilter=-All-&plkEngineModelFilter=-All-&plkEngineDispFilter=-All-&filter=Accelerator%20Pedal%20Sensor%20(APS)&start=187' has dtype incompatible with float64, please explicitly cast to a compatible dtype first.\n",
      "  df_temp.loc[0, 'Url'] = url\n"
     ]
    },
    {
     "name": "stdout",
     "output_type": "stream",
     "text": [
      "https://ecatalog.smpcorp.com/V2/STD/api/part/partsearch?filterType=n&searchType=p&imageSize=80&limit=1&sort=3&catFilter=-All-&yearFilter=-All-&makeFilter=-All-&modelFilter=-All-&engineFilter=-All-&attrCodeFilter=-All-&attrValueFilter=-All-&plkEngineMakeFilter=-All-&plkEngineModelFilter=-All-&plkEngineDispFilter=-All-&filter=Accelerator%20Pedal%20Sensor%20(APS)&start=188  <->  [ok] - 剩余数量：267\n",
      "https://ecatalog.smpcorp.com/V2/STD/api/part/partsearch?filterType=n&searchType=p&imageSize=80&limit=1&sort=3&catFilter=-All-&yearFilter=-All-&makeFilter=-All-&modelFilter=-All-&engineFilter=-All-&attrCodeFilter=-All-&attrValueFilter=-All-&plkEngineMakeFilter=-All-&plkEngineModelFilter=-All-&plkEngineDispFilter=-All-&filter=Accelerator%20Pedal%20Sensor%20(APS)&start=187  <->  [ok] - 剩余数量：266\n"
     ]
    },
    {
     "name": "stderr",
     "output_type": "stream",
     "text": [
      "C:\\Users\\YangTeng\\AppData\\Local\\Temp\\ipykernel_2604\\3929323490.py:58: FutureWarning: Setting an item of incompatible dtype is deprecated and will raise in a future error of pandas. Value 'ok' has dtype incompatible with float64, please explicitly cast to a compatible dtype first.\n",
      "  df_temp.loc[0, 'status'] = 'ok'\n",
      "C:\\Users\\YangTeng\\AppData\\Local\\Temp\\ipykernel_2604\\3929323490.py:59: FutureWarning: Setting an item of incompatible dtype is deprecated and will raise in a future error of pandas. Value 'https://ecatalog.smpcorp.com/V2/STD/api/part/partsearch?filterType=n&searchType=p&imageSize=80&limit=1&sort=3&catFilter=-All-&yearFilter=-All-&makeFilter=-All-&modelFilter=-All-&engineFilter=-All-&attrCodeFilter=-All-&attrValueFilter=-All-&plkEngineMakeFilter=-All-&plkEngineModelFilter=-All-&plkEngineDispFilter=-All-&filter=Accelerator%20Pedal%20Sensor%20(APS)&start=184' has dtype incompatible with float64, please explicitly cast to a compatible dtype first.\n",
      "  df_temp.loc[0, 'Url'] = url\n",
      "C:\\Users\\YangTeng\\AppData\\Local\\Temp\\ipykernel_2604\\3929323490.py:58: FutureWarning: Setting an item of incompatible dtype is deprecated and will raise in a future error of pandas. Value 'ok' has dtype incompatible with float64, please explicitly cast to a compatible dtype first.\n",
      "  df_temp.loc[0, 'status'] = 'ok'\n",
      "C:\\Users\\YangTeng\\AppData\\Local\\Temp\\ipykernel_2604\\3929323490.py:59: FutureWarning: Setting an item of incompatible dtype is deprecated and will raise in a future error of pandas. Value 'https://ecatalog.smpcorp.com/V2/STD/api/part/partsearch?filterType=n&searchType=p&imageSize=80&limit=1&sort=3&catFilter=-All-&yearFilter=-All-&makeFilter=-All-&modelFilter=-All-&engineFilter=-All-&attrCodeFilter=-All-&attrValueFilter=-All-&plkEngineMakeFilter=-All-&plkEngineModelFilter=-All-&plkEngineDispFilter=-All-&filter=Accelerator%20Pedal%20Sensor%20(APS)&start=190' has dtype incompatible with float64, please explicitly cast to a compatible dtype first.\n",
      "  df_temp.loc[0, 'Url'] = url\n",
      "C:\\Users\\YangTeng\\AppData\\Local\\Temp\\ipykernel_2604\\3929323490.py:58: FutureWarning: Setting an item of incompatible dtype is deprecated and will raise in a future error of pandas. Value 'ok' has dtype incompatible with float64, please explicitly cast to a compatible dtype first.\n",
      "  df_temp.loc[0, 'status'] = 'ok'\n",
      "C:\\Users\\YangTeng\\AppData\\Local\\Temp\\ipykernel_2604\\3929323490.py:59: FutureWarning: Setting an item of incompatible dtype is deprecated and will raise in a future error of pandas. Value 'https://ecatalog.smpcorp.com/V2/STD/api/part/partsearch?filterType=n&searchType=p&imageSize=80&limit=1&sort=3&catFilter=-All-&yearFilter=-All-&makeFilter=-All-&modelFilter=-All-&engineFilter=-All-&attrCodeFilter=-All-&attrValueFilter=-All-&plkEngineMakeFilter=-All-&plkEngineModelFilter=-All-&plkEngineDispFilter=-All-&filter=Accelerator%20Pedal%20Sensor%20(APS)&start=199' has dtype incompatible with float64, please explicitly cast to a compatible dtype first.\n",
      "  df_temp.loc[0, 'Url'] = url\n",
      "C:\\Users\\YangTeng\\AppData\\Local\\Temp\\ipykernel_2604\\3929323490.py:58: FutureWarning: Setting an item of incompatible dtype is deprecated and will raise in a future error of pandas. Value 'ok' has dtype incompatible with float64, please explicitly cast to a compatible dtype first.\n",
      "  df_temp.loc[0, 'status'] = 'ok'\n",
      "C:\\Users\\YangTeng\\AppData\\Local\\Temp\\ipykernel_2604\\3929323490.py:59: FutureWarning: Setting an item of incompatible dtype is deprecated and will raise in a future error of pandas. Value 'https://ecatalog.smpcorp.com/V2/STD/api/part/partsearch?filterType=n&searchType=p&imageSize=80&limit=1&sort=3&catFilter=-All-&yearFilter=-All-&makeFilter=-All-&modelFilter=-All-&engineFilter=-All-&attrCodeFilter=-All-&attrValueFilter=-All-&plkEngineMakeFilter=-All-&plkEngineModelFilter=-All-&plkEngineDispFilter=-All-&filter=Accelerator%20Pedal%20Sensor%20(APS)&start=189' has dtype incompatible with float64, please explicitly cast to a compatible dtype first.\n",
      "  df_temp.loc[0, 'Url'] = url\n",
      "C:\\Users\\YangTeng\\AppData\\Local\\Temp\\ipykernel_2604\\3929323490.py:58: FutureWarning: Setting an item of incompatible dtype is deprecated and will raise in a future error of pandas. Value 'ok' has dtype incompatible with float64, please explicitly cast to a compatible dtype first.\n",
      "  df_temp.loc[0, 'status'] = 'ok'\n",
      "C:\\Users\\YangTeng\\AppData\\Local\\Temp\\ipykernel_2604\\3929323490.py:59: FutureWarning: Setting an item of incompatible dtype is deprecated and will raise in a future error of pandas. Value 'https://ecatalog.smpcorp.com/V2/STD/api/part/partsearch?filterType=n&searchType=p&imageSize=80&limit=1&sort=3&catFilter=-All-&yearFilter=-All-&makeFilter=-All-&modelFilter=-All-&engineFilter=-All-&attrCodeFilter=-All-&attrValueFilter=-All-&plkEngineMakeFilter=-All-&plkEngineModelFilter=-All-&plkEngineDispFilter=-All-&filter=Accelerator%20Pedal%20Sensor%20(APS)&start=186' has dtype incompatible with float64, please explicitly cast to a compatible dtype first.\n",
      "  df_temp.loc[0, 'Url'] = url\n"
     ]
    },
    {
     "name": "stdout",
     "output_type": "stream",
     "text": [
      "https://ecatalog.smpcorp.com/V2/STD/api/part/partsearch?filterType=n&searchType=p&imageSize=80&limit=1&sort=3&catFilter=-All-&yearFilter=-All-&makeFilter=-All-&modelFilter=-All-&engineFilter=-All-&attrCodeFilter=-All-&attrValueFilter=-All-&plkEngineMakeFilter=-All-&plkEngineModelFilter=-All-&plkEngineDispFilter=-All-&filter=Accelerator%20Pedal%20Sensor%20(APS)&start=184  <->  [ok] - 剩余数量：265\n",
      "https://ecatalog.smpcorp.com/V2/STD/api/part/partsearch?filterType=n&searchType=p&imageSize=80&limit=1&sort=3&catFilter=-All-&yearFilter=-All-&makeFilter=-All-&modelFilter=-All-&engineFilter=-All-&attrCodeFilter=-All-&attrValueFilter=-All-&plkEngineMakeFilter=-All-&plkEngineModelFilter=-All-&plkEngineDispFilter=-All-&filter=Accelerator%20Pedal%20Sensor%20(APS)&start=190  <->  [ok] - 剩余数量：264\n",
      "https://ecatalog.smpcorp.com/V2/STD/api/part/partsearch?filterType=n&searchType=p&imageSize=80&limit=1&sort=3&catFilter=-All-&yearFilter=-All-&makeFilter=-All-&modelFilter=-All-&engineFilter=-All-&attrCodeFilter=-All-&attrValueFilter=-All-&plkEngineMakeFilter=-All-&plkEngineModelFilter=-All-&plkEngineDispFilter=-All-&filter=Accelerator%20Pedal%20Sensor%20(APS)&start=199  <->  [ok] - 剩余数量：263\n",
      "https://ecatalog.smpcorp.com/V2/STD/api/part/partsearch?filterType=n&searchType=p&imageSize=80&limit=1&sort=3&catFilter=-All-&yearFilter=-All-&makeFilter=-All-&modelFilter=-All-&engineFilter=-All-&attrCodeFilter=-All-&attrValueFilter=-All-&plkEngineMakeFilter=-All-&plkEngineModelFilter=-All-&plkEngineDispFilter=-All-&filter=Accelerator%20Pedal%20Sensor%20(APS)&start=189  <->  [ok] - 剩余数量：262\n",
      "https://ecatalog.smpcorp.com/V2/STD/api/part/partsearch?filterType=n&searchType=p&imageSize=80&limit=1&sort=3&catFilter=-All-&yearFilter=-All-&makeFilter=-All-&modelFilter=-All-&engineFilter=-All-&attrCodeFilter=-All-&attrValueFilter=-All-&plkEngineMakeFilter=-All-&plkEngineModelFilter=-All-&plkEngineDispFilter=-All-&filter=Accelerator%20Pedal%20Sensor%20(APS)&start=186  <->  [ok] - 剩余数量：261\n"
     ]
    },
    {
     "name": "stderr",
     "output_type": "stream",
     "text": [
      "C:\\Users\\YangTeng\\AppData\\Local\\Temp\\ipykernel_2604\\3929323490.py:58: FutureWarning: Setting an item of incompatible dtype is deprecated and will raise in a future error of pandas. Value 'ok' has dtype incompatible with float64, please explicitly cast to a compatible dtype first.\n",
      "  df_temp.loc[0, 'status'] = 'ok'\n",
      "C:\\Users\\YangTeng\\AppData\\Local\\Temp\\ipykernel_2604\\3929323490.py:59: FutureWarning: Setting an item of incompatible dtype is deprecated and will raise in a future error of pandas. Value 'https://ecatalog.smpcorp.com/V2/STD/api/part/partsearch?filterType=n&searchType=p&imageSize=80&limit=1&sort=3&catFilter=-All-&yearFilter=-All-&makeFilter=-All-&modelFilter=-All-&engineFilter=-All-&attrCodeFilter=-All-&attrValueFilter=-All-&plkEngineMakeFilter=-All-&plkEngineModelFilter=-All-&plkEngineDispFilter=-All-&filter=Accelerator%20Pedal%20Sensor%20(APS)&start=192' has dtype incompatible with float64, please explicitly cast to a compatible dtype first.\n",
      "  df_temp.loc[0, 'Url'] = url\n",
      "C:\\Users\\YangTeng\\AppData\\Local\\Temp\\ipykernel_2604\\3929323490.py:58: FutureWarning: Setting an item of incompatible dtype is deprecated and will raise in a future error of pandas. Value 'ok' has dtype incompatible with float64, please explicitly cast to a compatible dtype first.\n",
      "  df_temp.loc[0, 'status'] = 'ok'\n",
      "C:\\Users\\YangTeng\\AppData\\Local\\Temp\\ipykernel_2604\\3929323490.py:59: FutureWarning: Setting an item of incompatible dtype is deprecated and will raise in a future error of pandas. Value 'https://ecatalog.smpcorp.com/V2/STD/api/part/partsearch?filterType=n&searchType=p&imageSize=80&limit=1&sort=3&catFilter=-All-&yearFilter=-All-&makeFilter=-All-&modelFilter=-All-&engineFilter=-All-&attrCodeFilter=-All-&attrValueFilter=-All-&plkEngineMakeFilter=-All-&plkEngineModelFilter=-All-&plkEngineDispFilter=-All-&filter=Accelerator%20Pedal%20Sensor%20(APS)&start=193' has dtype incompatible with float64, please explicitly cast to a compatible dtype first.\n",
      "  df_temp.loc[0, 'Url'] = url\n",
      "C:\\Users\\YangTeng\\AppData\\Local\\Temp\\ipykernel_2604\\3929323490.py:58: FutureWarning: Setting an item of incompatible dtype is deprecated and will raise in a future error of pandas. Value 'ok' has dtype incompatible with float64, please explicitly cast to a compatible dtype first.\n",
      "  df_temp.loc[0, 'status'] = 'ok'\n",
      "C:\\Users\\YangTeng\\AppData\\Local\\Temp\\ipykernel_2604\\3929323490.py:59: FutureWarning: Setting an item of incompatible dtype is deprecated and will raise in a future error of pandas. Value 'https://ecatalog.smpcorp.com/V2/STD/api/part/partsearch?filterType=n&searchType=p&imageSize=80&limit=1&sort=3&catFilter=-All-&yearFilter=-All-&makeFilter=-All-&modelFilter=-All-&engineFilter=-All-&attrCodeFilter=-All-&attrValueFilter=-All-&plkEngineMakeFilter=-All-&plkEngineModelFilter=-All-&plkEngineDispFilter=-All-&filter=Accelerator%20Pedal%20Sensor%20(APS)&start=198' has dtype incompatible with float64, please explicitly cast to a compatible dtype first.\n",
      "  df_temp.loc[0, 'Url'] = url\n"
     ]
    },
    {
     "name": "stdout",
     "output_type": "stream",
     "text": [
      "https://ecatalog.smpcorp.com/V2/STD/api/part/partsearch?filterType=n&searchType=p&imageSize=80&limit=1&sort=3&catFilter=-All-&yearFilter=-All-&makeFilter=-All-&modelFilter=-All-&engineFilter=-All-&attrCodeFilter=-All-&attrValueFilter=-All-&plkEngineMakeFilter=-All-&plkEngineModelFilter=-All-&plkEngineDispFilter=-All-&filter=Accelerator%20Pedal%20Sensor%20(APS)&start=192  <->  [ok] - 剩余数量：260\n",
      "https://ecatalog.smpcorp.com/V2/STD/api/part/partsearch?filterType=n&searchType=p&imageSize=80&limit=1&sort=3&catFilter=-All-&yearFilter=-All-&makeFilter=-All-&modelFilter=-All-&engineFilter=-All-&attrCodeFilter=-All-&attrValueFilter=-All-&plkEngineMakeFilter=-All-&plkEngineModelFilter=-All-&plkEngineDispFilter=-All-&filter=Accelerator%20Pedal%20Sensor%20(APS)&start=193  <->  [ok] - 剩余数量：259\n",
      "https://ecatalog.smpcorp.com/V2/STD/api/part/partsearch?filterType=n&searchType=p&imageSize=80&limit=1&sort=3&catFilter=-All-&yearFilter=-All-&makeFilter=-All-&modelFilter=-All-&engineFilter=-All-&attrCodeFilter=-All-&attrValueFilter=-All-&plkEngineMakeFilter=-All-&plkEngineModelFilter=-All-&plkEngineDispFilter=-All-&filter=Accelerator%20Pedal%20Sensor%20(APS)&start=198  <->  [ok] - 剩余数量：258\n"
     ]
    },
    {
     "name": "stderr",
     "output_type": "stream",
     "text": [
      "C:\\Users\\YangTeng\\AppData\\Local\\Temp\\ipykernel_2604\\3929323490.py:58: FutureWarning: Setting an item of incompatible dtype is deprecated and will raise in a future error of pandas. Value 'ok' has dtype incompatible with float64, please explicitly cast to a compatible dtype first.\n",
      "  df_temp.loc[0, 'status'] = 'ok'\n",
      "C:\\Users\\YangTeng\\AppData\\Local\\Temp\\ipykernel_2604\\3929323490.py:59: FutureWarning: Setting an item of incompatible dtype is deprecated and will raise in a future error of pandas. Value 'https://ecatalog.smpcorp.com/V2/STD/api/part/partsearch?filterType=n&searchType=p&imageSize=80&limit=1&sort=3&catFilter=-All-&yearFilter=-All-&makeFilter=-All-&modelFilter=-All-&engineFilter=-All-&attrCodeFilter=-All-&attrValueFilter=-All-&plkEngineMakeFilter=-All-&plkEngineModelFilter=-All-&plkEngineDispFilter=-All-&filter=Accelerator%20Pedal%20Sensor%20(APS)&start=196' has dtype incompatible with float64, please explicitly cast to a compatible dtype first.\n",
      "  df_temp.loc[0, 'Url'] = url\n",
      "C:\\Users\\YangTeng\\AppData\\Local\\Temp\\ipykernel_2604\\3929323490.py:58: FutureWarning: Setting an item of incompatible dtype is deprecated and will raise in a future error of pandas. Value 'ok' has dtype incompatible with float64, please explicitly cast to a compatible dtype first.\n",
      "  df_temp.loc[0, 'status'] = 'ok'\n",
      "C:\\Users\\YangTeng\\AppData\\Local\\Temp\\ipykernel_2604\\3929323490.py:59: FutureWarning: Setting an item of incompatible dtype is deprecated and will raise in a future error of pandas. Value 'https://ecatalog.smpcorp.com/V2/STD/api/part/partsearch?filterType=n&searchType=p&imageSize=80&limit=1&sort=3&catFilter=-All-&yearFilter=-All-&makeFilter=-All-&modelFilter=-All-&engineFilter=-All-&attrCodeFilter=-All-&attrValueFilter=-All-&plkEngineMakeFilter=-All-&plkEngineModelFilter=-All-&plkEngineDispFilter=-All-&filter=Accelerator%20Pedal%20Sensor%20(APS)&start=194' has dtype incompatible with float64, please explicitly cast to a compatible dtype first.\n",
      "  df_temp.loc[0, 'Url'] = url\n"
     ]
    },
    {
     "name": "stdout",
     "output_type": "stream",
     "text": [
      "https://ecatalog.smpcorp.com/V2/STD/api/part/partsearch?filterType=n&searchType=p&imageSize=80&limit=1&sort=3&catFilter=-All-&yearFilter=-All-&makeFilter=-All-&modelFilter=-All-&engineFilter=-All-&attrCodeFilter=-All-&attrValueFilter=-All-&plkEngineMakeFilter=-All-&plkEngineModelFilter=-All-&plkEngineDispFilter=-All-&filter=Accelerator%20Pedal%20Sensor%20(APS)&start=196  <->  [ok] - 剩余数量：257\n",
      "https://ecatalog.smpcorp.com/V2/STD/api/part/partsearch?filterType=n&searchType=p&imageSize=80&limit=1&sort=3&catFilter=-All-&yearFilter=-All-&makeFilter=-All-&modelFilter=-All-&engineFilter=-All-&attrCodeFilter=-All-&attrValueFilter=-All-&plkEngineMakeFilter=-All-&plkEngineModelFilter=-All-&plkEngineDispFilter=-All-&filter=Accelerator%20Pedal%20Sensor%20(APS)&start=194  <->  [ok] - 剩余数量：256\n"
     ]
    },
    {
     "name": "stderr",
     "output_type": "stream",
     "text": [
      "C:\\Users\\YangTeng\\AppData\\Local\\Temp\\ipykernel_2604\\3929323490.py:58: FutureWarning: Setting an item of incompatible dtype is deprecated and will raise in a future error of pandas. Value 'ok' has dtype incompatible with float64, please explicitly cast to a compatible dtype first.\n",
      "  df_temp.loc[0, 'status'] = 'ok'\n",
      "C:\\Users\\YangTeng\\AppData\\Local\\Temp\\ipykernel_2604\\3929323490.py:59: FutureWarning: Setting an item of incompatible dtype is deprecated and will raise in a future error of pandas. Value 'https://ecatalog.smpcorp.com/V2/STD/api/part/partsearch?filterType=n&searchType=p&imageSize=80&limit=1&sort=3&catFilter=-All-&yearFilter=-All-&makeFilter=-All-&modelFilter=-All-&engineFilter=-All-&attrCodeFilter=-All-&attrValueFilter=-All-&plkEngineMakeFilter=-All-&plkEngineModelFilter=-All-&plkEngineDispFilter=-All-&filter=Accelerator%20Pedal%20Sensor%20(APS)&start=195' has dtype incompatible with float64, please explicitly cast to a compatible dtype first.\n",
      "  df_temp.loc[0, 'Url'] = url\n",
      "C:\\Users\\YangTeng\\AppData\\Local\\Temp\\ipykernel_2604\\3929323490.py:58: FutureWarning: Setting an item of incompatible dtype is deprecated and will raise in a future error of pandas. Value 'ok' has dtype incompatible with float64, please explicitly cast to a compatible dtype first.\n",
      "  df_temp.loc[0, 'status'] = 'ok'\n",
      "C:\\Users\\YangTeng\\AppData\\Local\\Temp\\ipykernel_2604\\3929323490.py:59: FutureWarning: Setting an item of incompatible dtype is deprecated and will raise in a future error of pandas. Value 'https://ecatalog.smpcorp.com/V2/STD/api/part/partsearch?filterType=n&searchType=p&imageSize=80&limit=1&sort=3&catFilter=-All-&yearFilter=-All-&makeFilter=-All-&modelFilter=-All-&engineFilter=-All-&attrCodeFilter=-All-&attrValueFilter=-All-&plkEngineMakeFilter=-All-&plkEngineModelFilter=-All-&plkEngineDispFilter=-All-&filter=Accelerator%20Pedal%20Sensor%20(APS)&start=197' has dtype incompatible with float64, please explicitly cast to a compatible dtype first.\n",
      "  df_temp.loc[0, 'Url'] = url\n"
     ]
    },
    {
     "name": "stdout",
     "output_type": "stream",
     "text": [
      "https://ecatalog.smpcorp.com/V2/STD/api/part/partsearch?filterType=n&searchType=p&imageSize=80&limit=1&sort=3&catFilter=-All-&yearFilter=-All-&makeFilter=-All-&modelFilter=-All-&engineFilter=-All-&attrCodeFilter=-All-&attrValueFilter=-All-&plkEngineMakeFilter=-All-&plkEngineModelFilter=-All-&plkEngineDispFilter=-All-&filter=Accelerator%20Pedal%20Sensor%20(APS)&start=195  <->  [ok] - 剩余数量：255\n",
      "https://ecatalog.smpcorp.com/V2/STD/api/part/partsearch?filterType=n&searchType=p&imageSize=80&limit=1&sort=3&catFilter=-All-&yearFilter=-All-&makeFilter=-All-&modelFilter=-All-&engineFilter=-All-&attrCodeFilter=-All-&attrValueFilter=-All-&plkEngineMakeFilter=-All-&plkEngineModelFilter=-All-&plkEngineDispFilter=-All-&filter=Accelerator%20Pedal%20Sensor%20(APS)&start=197  <->  [ok] - 剩余数量：254\n"
     ]
    },
    {
     "name": "stderr",
     "output_type": "stream",
     "text": [
      "C:\\Users\\YangTeng\\AppData\\Local\\Temp\\ipykernel_2604\\3929323490.py:58: FutureWarning: Setting an item of incompatible dtype is deprecated and will raise in a future error of pandas. Value 'ok' has dtype incompatible with float64, please explicitly cast to a compatible dtype first.\n",
      "  df_temp.loc[0, 'status'] = 'ok'\n",
      "C:\\Users\\YangTeng\\AppData\\Local\\Temp\\ipykernel_2604\\3929323490.py:59: FutureWarning: Setting an item of incompatible dtype is deprecated and will raise in a future error of pandas. Value 'https://ecatalog.smpcorp.com/V2/STD/api/part/partsearch?filterType=n&searchType=p&imageSize=80&limit=1&sort=3&catFilter=-All-&yearFilter=-All-&makeFilter=-All-&modelFilter=-All-&engineFilter=-All-&attrCodeFilter=-All-&attrValueFilter=-All-&plkEngineMakeFilter=-All-&plkEngineModelFilter=-All-&plkEngineDispFilter=-All-&filter=Accelerator%20Pedal%20Sensor%20(APS)&start=206' has dtype incompatible with float64, please explicitly cast to a compatible dtype first.\n",
      "  df_temp.loc[0, 'Url'] = url\n"
     ]
    },
    {
     "name": "stdout",
     "output_type": "stream",
     "text": [
      "https://ecatalog.smpcorp.com/V2/STD/api/part/partsearch?filterType=n&searchType=p&imageSize=80&limit=1&sort=3&catFilter=-All-&yearFilter=-All-&makeFilter=-All-&modelFilter=-All-&engineFilter=-All-&attrCodeFilter=-All-&attrValueFilter=-All-&plkEngineMakeFilter=-All-&plkEngineModelFilter=-All-&plkEngineDispFilter=-All-&filter=Accelerator%20Pedal%20Sensor%20(APS)&start=206  <->  [ok] - 剩余数量：253\n"
     ]
    },
    {
     "name": "stderr",
     "output_type": "stream",
     "text": [
      "C:\\Users\\YangTeng\\AppData\\Local\\Temp\\ipykernel_2604\\3929323490.py:58: FutureWarning: Setting an item of incompatible dtype is deprecated and will raise in a future error of pandas. Value 'ok' has dtype incompatible with float64, please explicitly cast to a compatible dtype first.\n",
      "  df_temp.loc[0, 'status'] = 'ok'\n",
      "C:\\Users\\YangTeng\\AppData\\Local\\Temp\\ipykernel_2604\\3929323490.py:59: FutureWarning: Setting an item of incompatible dtype is deprecated and will raise in a future error of pandas. Value 'https://ecatalog.smpcorp.com/V2/STD/api/part/partsearch?filterType=n&searchType=p&imageSize=80&limit=1&sort=3&catFilter=-All-&yearFilter=-All-&makeFilter=-All-&modelFilter=-All-&engineFilter=-All-&attrCodeFilter=-All-&attrValueFilter=-All-&plkEngineMakeFilter=-All-&plkEngineModelFilter=-All-&plkEngineDispFilter=-All-&filter=Accelerator%20Pedal%20Sensor%20(APS)&start=204' has dtype incompatible with float64, please explicitly cast to a compatible dtype first.\n",
      "  df_temp.loc[0, 'Url'] = url\n",
      "C:\\Users\\YangTeng\\AppData\\Local\\Temp\\ipykernel_2604\\3929323490.py:58: FutureWarning: Setting an item of incompatible dtype is deprecated and will raise in a future error of pandas. Value 'ok' has dtype incompatible with float64, please explicitly cast to a compatible dtype first.\n",
      "  df_temp.loc[0, 'status'] = 'ok'\n",
      "C:\\Users\\YangTeng\\AppData\\Local\\Temp\\ipykernel_2604\\3929323490.py:59: FutureWarning: Setting an item of incompatible dtype is deprecated and will raise in a future error of pandas. Value 'https://ecatalog.smpcorp.com/V2/STD/api/part/partsearch?filterType=n&searchType=p&imageSize=80&limit=1&sort=3&catFilter=-All-&yearFilter=-All-&makeFilter=-All-&modelFilter=-All-&engineFilter=-All-&attrCodeFilter=-All-&attrValueFilter=-All-&plkEngineMakeFilter=-All-&plkEngineModelFilter=-All-&plkEngineDispFilter=-All-&filter=Accelerator%20Pedal%20Sensor%20(APS)&start=203' has dtype incompatible with float64, please explicitly cast to a compatible dtype first.\n",
      "  df_temp.loc[0, 'Url'] = url\n",
      "C:\\Users\\YangTeng\\AppData\\Local\\Temp\\ipykernel_2604\\3929323490.py:58: FutureWarning: Setting an item of incompatible dtype is deprecated and will raise in a future error of pandas. Value 'ok' has dtype incompatible with float64, please explicitly cast to a compatible dtype first.\n",
      "  df_temp.loc[0, 'status'] = 'ok'\n",
      "C:\\Users\\YangTeng\\AppData\\Local\\Temp\\ipykernel_2604\\3929323490.py:59: FutureWarning: Setting an item of incompatible dtype is deprecated and will raise in a future error of pandas. Value 'https://ecatalog.smpcorp.com/V2/STD/api/part/partsearch?filterType=n&searchType=p&imageSize=80&limit=1&sort=3&catFilter=-All-&yearFilter=-All-&makeFilter=-All-&modelFilter=-All-&engineFilter=-All-&attrCodeFilter=-All-&attrValueFilter=-All-&plkEngineMakeFilter=-All-&plkEngineModelFilter=-All-&plkEngineDispFilter=-All-&filter=Accelerator%20Pedal%20Sensor%20(APS)&start=200' has dtype incompatible with float64, please explicitly cast to a compatible dtype first.\n",
      "  df_temp.loc[0, 'Url'] = url\n",
      "C:\\Users\\YangTeng\\AppData\\Local\\Temp\\ipykernel_2604\\3929323490.py:58: FutureWarning: Setting an item of incompatible dtype is deprecated and will raise in a future error of pandas. Value 'ok' has dtype incompatible with float64, please explicitly cast to a compatible dtype first.\n",
      "  df_temp.loc[0, 'status'] = 'ok'\n",
      "C:\\Users\\YangTeng\\AppData\\Local\\Temp\\ipykernel_2604\\3929323490.py:59: FutureWarning: Setting an item of incompatible dtype is deprecated and will raise in a future error of pandas. Value 'https://ecatalog.smpcorp.com/V2/STD/api/part/partsearch?filterType=n&searchType=p&imageSize=80&limit=1&sort=3&catFilter=-All-&yearFilter=-All-&makeFilter=-All-&modelFilter=-All-&engineFilter=-All-&attrCodeFilter=-All-&attrValueFilter=-All-&plkEngineMakeFilter=-All-&plkEngineModelFilter=-All-&plkEngineDispFilter=-All-&filter=Accelerator%20Pedal%20Sensor%20(APS)&start=202' has dtype incompatible with float64, please explicitly cast to a compatible dtype first.\n",
      "  df_temp.loc[0, 'Url'] = url\n"
     ]
    },
    {
     "name": "stdout",
     "output_type": "stream",
     "text": [
      "https://ecatalog.smpcorp.com/V2/STD/api/part/partsearch?filterType=n&searchType=p&imageSize=80&limit=1&sort=3&catFilter=-All-&yearFilter=-All-&makeFilter=-All-&modelFilter=-All-&engineFilter=-All-&attrCodeFilter=-All-&attrValueFilter=-All-&plkEngineMakeFilter=-All-&plkEngineModelFilter=-All-&plkEngineDispFilter=-All-&filter=Accelerator%20Pedal%20Sensor%20(APS)&start=204  <->  [ok] - 剩余数量：252\n",
      "https://ecatalog.smpcorp.com/V2/STD/api/part/partsearch?filterType=n&searchType=p&imageSize=80&limit=1&sort=3&catFilter=-All-&yearFilter=-All-&makeFilter=-All-&modelFilter=-All-&engineFilter=-All-&attrCodeFilter=-All-&attrValueFilter=-All-&plkEngineMakeFilter=-All-&plkEngineModelFilter=-All-&plkEngineDispFilter=-All-&filter=Accelerator%20Pedal%20Sensor%20(APS)&start=203  <->  [ok] - 剩余数量：251\n",
      "https://ecatalog.smpcorp.com/V2/STD/api/part/partsearch?filterType=n&searchType=p&imageSize=80&limit=1&sort=3&catFilter=-All-&yearFilter=-All-&makeFilter=-All-&modelFilter=-All-&engineFilter=-All-&attrCodeFilter=-All-&attrValueFilter=-All-&plkEngineMakeFilter=-All-&plkEngineModelFilter=-All-&plkEngineDispFilter=-All-&filter=Accelerator%20Pedal%20Sensor%20(APS)&start=200  <->  [ok] - 剩余数量：250\n",
      "https://ecatalog.smpcorp.com/V2/STD/api/part/partsearch?filterType=n&searchType=p&imageSize=80&limit=1&sort=3&catFilter=-All-&yearFilter=-All-&makeFilter=-All-&modelFilter=-All-&engineFilter=-All-&attrCodeFilter=-All-&attrValueFilter=-All-&plkEngineMakeFilter=-All-&plkEngineModelFilter=-All-&plkEngineDispFilter=-All-&filter=Accelerator%20Pedal%20Sensor%20(APS)&start=202  <->  [ok] - 剩余数量：249\n"
     ]
    },
    {
     "name": "stderr",
     "output_type": "stream",
     "text": [
      "C:\\Users\\YangTeng\\AppData\\Local\\Temp\\ipykernel_2604\\3929323490.py:58: FutureWarning: Setting an item of incompatible dtype is deprecated and will raise in a future error of pandas. Value 'ok' has dtype incompatible with float64, please explicitly cast to a compatible dtype first.\n",
      "  df_temp.loc[0, 'status'] = 'ok'\n",
      "C:\\Users\\YangTeng\\AppData\\Local\\Temp\\ipykernel_2604\\3929323490.py:59: FutureWarning: Setting an item of incompatible dtype is deprecated and will raise in a future error of pandas. Value 'https://ecatalog.smpcorp.com/V2/STD/api/part/partsearch?filterType=n&searchType=p&imageSize=80&limit=1&sort=3&catFilter=-All-&yearFilter=-All-&makeFilter=-All-&modelFilter=-All-&engineFilter=-All-&attrCodeFilter=-All-&attrValueFilter=-All-&plkEngineMakeFilter=-All-&plkEngineModelFilter=-All-&plkEngineDispFilter=-All-&filter=Accelerator%20Pedal%20Sensor%20(APS)&start=211' has dtype incompatible with float64, please explicitly cast to a compatible dtype first.\n",
      "  df_temp.loc[0, 'Url'] = url\n",
      "C:\\Users\\YangTeng\\AppData\\Local\\Temp\\ipykernel_2604\\3929323490.py:58: FutureWarning: Setting an item of incompatible dtype is deprecated and will raise in a future error of pandas. Value 'ok' has dtype incompatible with float64, please explicitly cast to a compatible dtype first.\n",
      "  df_temp.loc[0, 'status'] = 'ok'\n",
      "C:\\Users\\YangTeng\\AppData\\Local\\Temp\\ipykernel_2604\\3929323490.py:59: FutureWarning: Setting an item of incompatible dtype is deprecated and will raise in a future error of pandas. Value 'https://ecatalog.smpcorp.com/V2/STD/api/part/partsearch?filterType=n&searchType=p&imageSize=80&limit=1&sort=3&catFilter=-All-&yearFilter=-All-&makeFilter=-All-&modelFilter=-All-&engineFilter=-All-&attrCodeFilter=-All-&attrValueFilter=-All-&plkEngineMakeFilter=-All-&plkEngineModelFilter=-All-&plkEngineDispFilter=-All-&filter=Accelerator%20Pedal%20Sensor%20(APS)&start=201' has dtype incompatible with float64, please explicitly cast to a compatible dtype first.\n",
      "  df_temp.loc[0, 'Url'] = url\n"
     ]
    },
    {
     "name": "stdout",
     "output_type": "stream",
     "text": [
      "https://ecatalog.smpcorp.com/V2/STD/api/part/partsearch?filterType=n&searchType=p&imageSize=80&limit=1&sort=3&catFilter=-All-&yearFilter=-All-&makeFilter=-All-&modelFilter=-All-&engineFilter=-All-&attrCodeFilter=-All-&attrValueFilter=-All-&plkEngineMakeFilter=-All-&plkEngineModelFilter=-All-&plkEngineDispFilter=-All-&filter=Accelerator%20Pedal%20Sensor%20(APS)&start=211  <->  [ok] - 剩余数量：248\n",
      "https://ecatalog.smpcorp.com/V2/STD/api/part/partsearch?filterType=n&searchType=p&imageSize=80&limit=1&sort=3&catFilter=-All-&yearFilter=-All-&makeFilter=-All-&modelFilter=-All-&engineFilter=-All-&attrCodeFilter=-All-&attrValueFilter=-All-&plkEngineMakeFilter=-All-&plkEngineModelFilter=-All-&plkEngineDispFilter=-All-&filter=Accelerator%20Pedal%20Sensor%20(APS)&start=201  <->  [ok] - 剩余数量：247\n"
     ]
    },
    {
     "name": "stderr",
     "output_type": "stream",
     "text": [
      "C:\\Users\\YangTeng\\AppData\\Local\\Temp\\ipykernel_2604\\3929323490.py:58: FutureWarning: Setting an item of incompatible dtype is deprecated and will raise in a future error of pandas. Value 'ok' has dtype incompatible with float64, please explicitly cast to a compatible dtype first.\n",
      "  df_temp.loc[0, 'status'] = 'ok'\n",
      "C:\\Users\\YangTeng\\AppData\\Local\\Temp\\ipykernel_2604\\3929323490.py:59: FutureWarning: Setting an item of incompatible dtype is deprecated and will raise in a future error of pandas. Value 'https://ecatalog.smpcorp.com/V2/STD/api/part/partsearch?filterType=n&searchType=p&imageSize=80&limit=1&sort=3&catFilter=-All-&yearFilter=-All-&makeFilter=-All-&modelFilter=-All-&engineFilter=-All-&attrCodeFilter=-All-&attrValueFilter=-All-&plkEngineMakeFilter=-All-&plkEngineModelFilter=-All-&plkEngineDispFilter=-All-&filter=Accelerator%20Pedal%20Sensor%20(APS)&start=207' has dtype incompatible with float64, please explicitly cast to a compatible dtype first.\n",
      "  df_temp.loc[0, 'Url'] = url\n"
     ]
    },
    {
     "name": "stdout",
     "output_type": "stream",
     "text": [
      "https://ecatalog.smpcorp.com/V2/STD/api/part/partsearch?filterType=n&searchType=p&imageSize=80&limit=1&sort=3&catFilter=-All-&yearFilter=-All-&makeFilter=-All-&modelFilter=-All-&engineFilter=-All-&attrCodeFilter=-All-&attrValueFilter=-All-&plkEngineMakeFilter=-All-&plkEngineModelFilter=-All-&plkEngineDispFilter=-All-&filter=Accelerator%20Pedal%20Sensor%20(APS)&start=207  <->  [ok] - 剩余数量：246\n"
     ]
    },
    {
     "name": "stderr",
     "output_type": "stream",
     "text": [
      "C:\\Users\\YangTeng\\AppData\\Local\\Temp\\ipykernel_2604\\3929323490.py:58: FutureWarning: Setting an item of incompatible dtype is deprecated and will raise in a future error of pandas. Value 'ok' has dtype incompatible with float64, please explicitly cast to a compatible dtype first.\n",
      "  df_temp.loc[0, 'status'] = 'ok'\n",
      "C:\\Users\\YangTeng\\AppData\\Local\\Temp\\ipykernel_2604\\3929323490.py:59: FutureWarning: Setting an item of incompatible dtype is deprecated and will raise in a future error of pandas. Value 'https://ecatalog.smpcorp.com/V2/STD/api/part/partsearch?filterType=n&searchType=p&imageSize=80&limit=1&sort=3&catFilter=-All-&yearFilter=-All-&makeFilter=-All-&modelFilter=-All-&engineFilter=-All-&attrCodeFilter=-All-&attrValueFilter=-All-&plkEngineMakeFilter=-All-&plkEngineModelFilter=-All-&plkEngineDispFilter=-All-&filter=Accelerator%20Pedal%20Sensor%20(APS)&start=208' has dtype incompatible with float64, please explicitly cast to a compatible dtype first.\n",
      "  df_temp.loc[0, 'Url'] = url\n"
     ]
    },
    {
     "name": "stdout",
     "output_type": "stream",
     "text": [
      "https://ecatalog.smpcorp.com/V2/STD/api/part/partsearch?filterType=n&searchType=p&imageSize=80&limit=1&sort=3&catFilter=-All-&yearFilter=-All-&makeFilter=-All-&modelFilter=-All-&engineFilter=-All-&attrCodeFilter=-All-&attrValueFilter=-All-&plkEngineMakeFilter=-All-&plkEngineModelFilter=-All-&plkEngineDispFilter=-All-&filter=Accelerator%20Pedal%20Sensor%20(APS)&start=208  <->  [ok] - 剩余数量：245\n"
     ]
    },
    {
     "name": "stderr",
     "output_type": "stream",
     "text": [
      "C:\\Users\\YangTeng\\AppData\\Local\\Temp\\ipykernel_2604\\3929323490.py:58: FutureWarning: Setting an item of incompatible dtype is deprecated and will raise in a future error of pandas. Value 'ok' has dtype incompatible with float64, please explicitly cast to a compatible dtype first.\n",
      "  df_temp.loc[0, 'status'] = 'ok'\n",
      "C:\\Users\\YangTeng\\AppData\\Local\\Temp\\ipykernel_2604\\3929323490.py:59: FutureWarning: Setting an item of incompatible dtype is deprecated and will raise in a future error of pandas. Value 'https://ecatalog.smpcorp.com/V2/STD/api/part/partsearch?filterType=n&searchType=p&imageSize=80&limit=1&sort=3&catFilter=-All-&yearFilter=-All-&makeFilter=-All-&modelFilter=-All-&engineFilter=-All-&attrCodeFilter=-All-&attrValueFilter=-All-&plkEngineMakeFilter=-All-&plkEngineModelFilter=-All-&plkEngineDispFilter=-All-&filter=Accelerator%20Pedal%20Sensor%20(APS)&start=191' has dtype incompatible with float64, please explicitly cast to a compatible dtype first.\n",
      "  df_temp.loc[0, 'Url'] = url\n",
      "C:\\Users\\YangTeng\\AppData\\Local\\Temp\\ipykernel_2604\\3929323490.py:58: FutureWarning: Setting an item of incompatible dtype is deprecated and will raise in a future error of pandas. Value 'ok' has dtype incompatible with float64, please explicitly cast to a compatible dtype first.\n",
      "  df_temp.loc[0, 'status'] = 'ok'\n",
      "C:\\Users\\YangTeng\\AppData\\Local\\Temp\\ipykernel_2604\\3929323490.py:59: FutureWarning: Setting an item of incompatible dtype is deprecated and will raise in a future error of pandas. Value 'https://ecatalog.smpcorp.com/V2/STD/api/part/partsearch?filterType=n&searchType=p&imageSize=80&limit=1&sort=3&catFilter=-All-&yearFilter=-All-&makeFilter=-All-&modelFilter=-All-&engineFilter=-All-&attrCodeFilter=-All-&attrValueFilter=-All-&plkEngineMakeFilter=-All-&plkEngineModelFilter=-All-&plkEngineDispFilter=-All-&filter=Accelerator%20Pedal%20Sensor%20(APS)&start=213' has dtype incompatible with float64, please explicitly cast to a compatible dtype first.\n",
      "  df_temp.loc[0, 'Url'] = url\n",
      "C:\\Users\\YangTeng\\AppData\\Local\\Temp\\ipykernel_2604\\3929323490.py:58: FutureWarning: Setting an item of incompatible dtype is deprecated and will raise in a future error of pandas. Value 'ok' has dtype incompatible with float64, please explicitly cast to a compatible dtype first.\n",
      "  df_temp.loc[0, 'status'] = 'ok'\n",
      "C:\\Users\\YangTeng\\AppData\\Local\\Temp\\ipykernel_2604\\3929323490.py:59: FutureWarning: Setting an item of incompatible dtype is deprecated and will raise in a future error of pandas. Value 'https://ecatalog.smpcorp.com/V2/STD/api/part/partsearch?filterType=n&searchType=p&imageSize=80&limit=1&sort=3&catFilter=-All-&yearFilter=-All-&makeFilter=-All-&modelFilter=-All-&engineFilter=-All-&attrCodeFilter=-All-&attrValueFilter=-All-&plkEngineMakeFilter=-All-&plkEngineModelFilter=-All-&plkEngineDispFilter=-All-&filter=Accelerator%20Pedal%20Sensor%20(APS)&start=210' has dtype incompatible with float64, please explicitly cast to a compatible dtype first.\n",
      "  df_temp.loc[0, 'Url'] = url\n"
     ]
    },
    {
     "name": "stdout",
     "output_type": "stream",
     "text": [
      "https://ecatalog.smpcorp.com/V2/STD/api/part/partsearch?filterType=n&searchType=p&imageSize=80&limit=1&sort=3&catFilter=-All-&yearFilter=-All-&makeFilter=-All-&modelFilter=-All-&engineFilter=-All-&attrCodeFilter=-All-&attrValueFilter=-All-&plkEngineMakeFilter=-All-&plkEngineModelFilter=-All-&plkEngineDispFilter=-All-&filter=Accelerator%20Pedal%20Sensor%20(APS)&start=191  <->  [ok] - 剩余数量：244\n",
      "https://ecatalog.smpcorp.com/V2/STD/api/part/partsearch?filterType=n&searchType=p&imageSize=80&limit=1&sort=3&catFilter=-All-&yearFilter=-All-&makeFilter=-All-&modelFilter=-All-&engineFilter=-All-&attrCodeFilter=-All-&attrValueFilter=-All-&plkEngineMakeFilter=-All-&plkEngineModelFilter=-All-&plkEngineDispFilter=-All-&filter=Accelerator%20Pedal%20Sensor%20(APS)&start=213  <->  [ok] - 剩余数量：243\n",
      "https://ecatalog.smpcorp.com/V2/STD/api/part/partsearch?filterType=n&searchType=p&imageSize=80&limit=1&sort=3&catFilter=-All-&yearFilter=-All-&makeFilter=-All-&modelFilter=-All-&engineFilter=-All-&attrCodeFilter=-All-&attrValueFilter=-All-&plkEngineMakeFilter=-All-&plkEngineModelFilter=-All-&plkEngineDispFilter=-All-&filter=Accelerator%20Pedal%20Sensor%20(APS)&start=210  <->  [ok] - 剩余数量：242\n"
     ]
    },
    {
     "name": "stderr",
     "output_type": "stream",
     "text": [
      "C:\\Users\\YangTeng\\AppData\\Local\\Temp\\ipykernel_2604\\3929323490.py:58: FutureWarning: Setting an item of incompatible dtype is deprecated and will raise in a future error of pandas. Value 'ok' has dtype incompatible with float64, please explicitly cast to a compatible dtype first.\n",
      "  df_temp.loc[0, 'status'] = 'ok'\n",
      "C:\\Users\\YangTeng\\AppData\\Local\\Temp\\ipykernel_2604\\3929323490.py:59: FutureWarning: Setting an item of incompatible dtype is deprecated and will raise in a future error of pandas. Value 'https://ecatalog.smpcorp.com/V2/STD/api/part/partsearch?filterType=n&searchType=p&imageSize=80&limit=1&sort=3&catFilter=-All-&yearFilter=-All-&makeFilter=-All-&modelFilter=-All-&engineFilter=-All-&attrCodeFilter=-All-&attrValueFilter=-All-&plkEngineMakeFilter=-All-&plkEngineModelFilter=-All-&plkEngineDispFilter=-All-&filter=Accelerator%20Pedal%20Sensor%20(APS)&start=143' has dtype incompatible with float64, please explicitly cast to a compatible dtype first.\n",
      "  df_temp.loc[0, 'Url'] = url\n"
     ]
    },
    {
     "name": "stdout",
     "output_type": "stream",
     "text": [
      "https://ecatalog.smpcorp.com/V2/STD/api/part/partsearch?filterType=n&searchType=p&imageSize=80&limit=1&sort=3&catFilter=-All-&yearFilter=-All-&makeFilter=-All-&modelFilter=-All-&engineFilter=-All-&attrCodeFilter=-All-&attrValueFilter=-All-&plkEngineMakeFilter=-All-&plkEngineModelFilter=-All-&plkEngineDispFilter=-All-&filter=Accelerator%20Pedal%20Sensor%20(APS)&start=143  <->  [ok] - 剩余数量：241\n"
     ]
    },
    {
     "name": "stderr",
     "output_type": "stream",
     "text": [
      "C:\\Users\\YangTeng\\AppData\\Local\\Temp\\ipykernel_2604\\3929323490.py:58: FutureWarning: Setting an item of incompatible dtype is deprecated and will raise in a future error of pandas. Value 'ok' has dtype incompatible with float64, please explicitly cast to a compatible dtype first.\n",
      "  df_temp.loc[0, 'status'] = 'ok'\n",
      "C:\\Users\\YangTeng\\AppData\\Local\\Temp\\ipykernel_2604\\3929323490.py:59: FutureWarning: Setting an item of incompatible dtype is deprecated and will raise in a future error of pandas. Value 'https://ecatalog.smpcorp.com/V2/STD/api/part/partsearch?filterType=n&searchType=p&imageSize=80&limit=1&sort=3&catFilter=-All-&yearFilter=-All-&makeFilter=-All-&modelFilter=-All-&engineFilter=-All-&attrCodeFilter=-All-&attrValueFilter=-All-&plkEngineMakeFilter=-All-&plkEngineModelFilter=-All-&plkEngineDispFilter=-All-&filter=Accelerator%20Pedal%20Sensor%20(APS)&start=214' has dtype incompatible with float64, please explicitly cast to a compatible dtype first.\n",
      "  df_temp.loc[0, 'Url'] = url\n",
      "C:\\Users\\YangTeng\\AppData\\Local\\Temp\\ipykernel_2604\\3929323490.py:58: FutureWarning: Setting an item of incompatible dtype is deprecated and will raise in a future error of pandas. Value 'ok' has dtype incompatible with float64, please explicitly cast to a compatible dtype first.\n",
      "  df_temp.loc[0, 'status'] = 'ok'\n",
      "C:\\Users\\YangTeng\\AppData\\Local\\Temp\\ipykernel_2604\\3929323490.py:59: FutureWarning: Setting an item of incompatible dtype is deprecated and will raise in a future error of pandas. Value 'https://ecatalog.smpcorp.com/V2/STD/api/part/partsearch?filterType=n&searchType=p&imageSize=80&limit=1&sort=3&catFilter=-All-&yearFilter=-All-&makeFilter=-All-&modelFilter=-All-&engineFilter=-All-&attrCodeFilter=-All-&attrValueFilter=-All-&plkEngineMakeFilter=-All-&plkEngineModelFilter=-All-&plkEngineDispFilter=-All-&filter=Accelerator%20Pedal%20Sensor%20(APS)&start=216' has dtype incompatible with float64, please explicitly cast to a compatible dtype first.\n",
      "  df_temp.loc[0, 'Url'] = url\n",
      "C:\\Users\\YangTeng\\AppData\\Local\\Temp\\ipykernel_2604\\3929323490.py:58: FutureWarning: Setting an item of incompatible dtype is deprecated and will raise in a future error of pandas. Value 'ok' has dtype incompatible with float64, please explicitly cast to a compatible dtype first.\n",
      "  df_temp.loc[0, 'status'] = 'ok'\n",
      "C:\\Users\\YangTeng\\AppData\\Local\\Temp\\ipykernel_2604\\3929323490.py:59: FutureWarning: Setting an item of incompatible dtype is deprecated and will raise in a future error of pandas. Value 'https://ecatalog.smpcorp.com/V2/STD/api/part/partsearch?filterType=n&searchType=p&imageSize=80&limit=1&sort=3&catFilter=-All-&yearFilter=-All-&makeFilter=-All-&modelFilter=-All-&engineFilter=-All-&attrCodeFilter=-All-&attrValueFilter=-All-&plkEngineMakeFilter=-All-&plkEngineModelFilter=-All-&plkEngineDispFilter=-All-&filter=Accelerator%20Pedal%20Sensor%20(APS)&start=219' has dtype incompatible with float64, please explicitly cast to a compatible dtype first.\n",
      "  df_temp.loc[0, 'Url'] = url\n",
      "C:\\Users\\YangTeng\\AppData\\Local\\Temp\\ipykernel_2604\\3929323490.py:58: FutureWarning: Setting an item of incompatible dtype is deprecated and will raise in a future error of pandas. Value 'ok' has dtype incompatible with float64, please explicitly cast to a compatible dtype first.\n",
      "  df_temp.loc[0, 'status'] = 'ok'\n",
      "C:\\Users\\YangTeng\\AppData\\Local\\Temp\\ipykernel_2604\\3929323490.py:59: FutureWarning: Setting an item of incompatible dtype is deprecated and will raise in a future error of pandas. Value 'https://ecatalog.smpcorp.com/V2/STD/api/part/partsearch?filterType=n&searchType=p&imageSize=80&limit=1&sort=3&catFilter=-All-&yearFilter=-All-&makeFilter=-All-&modelFilter=-All-&engineFilter=-All-&attrCodeFilter=-All-&attrValueFilter=-All-&plkEngineMakeFilter=-All-&plkEngineModelFilter=-All-&plkEngineDispFilter=-All-&filter=Accelerator%20Pedal%20Sensor%20(APS)&start=217' has dtype incompatible with float64, please explicitly cast to a compatible dtype first.\n",
      "  df_temp.loc[0, 'Url'] = url\n",
      "C:\\Users\\YangTeng\\AppData\\Local\\Temp\\ipykernel_2604\\3929323490.py:58: FutureWarning: Setting an item of incompatible dtype is deprecated and will raise in a future error of pandas. Value 'ok' has dtype incompatible with float64, please explicitly cast to a compatible dtype first.\n",
      "  df_temp.loc[0, 'status'] = 'ok'\n",
      "C:\\Users\\YangTeng\\AppData\\Local\\Temp\\ipykernel_2604\\3929323490.py:59: FutureWarning: Setting an item of incompatible dtype is deprecated and will raise in a future error of pandas. Value 'https://ecatalog.smpcorp.com/V2/STD/api/part/partsearch?filterType=n&searchType=p&imageSize=80&limit=1&sort=3&catFilter=-All-&yearFilter=-All-&makeFilter=-All-&modelFilter=-All-&engineFilter=-All-&attrCodeFilter=-All-&attrValueFilter=-All-&plkEngineMakeFilter=-All-&plkEngineModelFilter=-All-&plkEngineDispFilter=-All-&filter=Accelerator%20Pedal%20Sensor%20(APS)&start=215' has dtype incompatible with float64, please explicitly cast to a compatible dtype first.\n",
      "  df_temp.loc[0, 'Url'] = url\n",
      "C:\\Users\\YangTeng\\AppData\\Local\\Temp\\ipykernel_2604\\3929323490.py:58: FutureWarning: Setting an item of incompatible dtype is deprecated and will raise in a future error of pandas. Value 'ok' has dtype incompatible with float64, please explicitly cast to a compatible dtype first.\n",
      "  df_temp.loc[0, 'status'] = 'ok'\n",
      "C:\\Users\\YangTeng\\AppData\\Local\\Temp\\ipykernel_2604\\3929323490.py:59: FutureWarning: Setting an item of incompatible dtype is deprecated and will raise in a future error of pandas. Value 'https://ecatalog.smpcorp.com/V2/STD/api/part/partsearch?filterType=n&searchType=p&imageSize=80&limit=1&sort=3&catFilter=-All-&yearFilter=-All-&makeFilter=-All-&modelFilter=-All-&engineFilter=-All-&attrCodeFilter=-All-&attrValueFilter=-All-&plkEngineMakeFilter=-All-&plkEngineModelFilter=-All-&plkEngineDispFilter=-All-&filter=Accelerator%20Pedal%20Sensor%20(APS)&start=220' has dtype incompatible with float64, please explicitly cast to a compatible dtype first.\n",
      "  df_temp.loc[0, 'Url'] = url\n"
     ]
    },
    {
     "name": "stdout",
     "output_type": "stream",
     "text": [
      "https://ecatalog.smpcorp.com/V2/STD/api/part/partsearch?filterType=n&searchType=p&imageSize=80&limit=1&sort=3&catFilter=-All-&yearFilter=-All-&makeFilter=-All-&modelFilter=-All-&engineFilter=-All-&attrCodeFilter=-All-&attrValueFilter=-All-&plkEngineMakeFilter=-All-&plkEngineModelFilter=-All-&plkEngineDispFilter=-All-&filter=Accelerator%20Pedal%20Sensor%20(APS)&start=214  <->  [ok] - 剩余数量：240\n",
      "https://ecatalog.smpcorp.com/V2/STD/api/part/partsearch?filterType=n&searchType=p&imageSize=80&limit=1&sort=3&catFilter=-All-&yearFilter=-All-&makeFilter=-All-&modelFilter=-All-&engineFilter=-All-&attrCodeFilter=-All-&attrValueFilter=-All-&plkEngineMakeFilter=-All-&plkEngineModelFilter=-All-&plkEngineDispFilter=-All-&filter=Accelerator%20Pedal%20Sensor%20(APS)&start=216  <->  [ok] - 剩余数量：239\n",
      "https://ecatalog.smpcorp.com/V2/STD/api/part/partsearch?filterType=n&searchType=p&imageSize=80&limit=1&sort=3&catFilter=-All-&yearFilter=-All-&makeFilter=-All-&modelFilter=-All-&engineFilter=-All-&attrCodeFilter=-All-&attrValueFilter=-All-&plkEngineMakeFilter=-All-&plkEngineModelFilter=-All-&plkEngineDispFilter=-All-&filter=Accelerator%20Pedal%20Sensor%20(APS)&start=219  <->  [ok] - 剩余数量：238\n",
      "https://ecatalog.smpcorp.com/V2/STD/api/part/partsearch?filterType=n&searchType=p&imageSize=80&limit=1&sort=3&catFilter=-All-&yearFilter=-All-&makeFilter=-All-&modelFilter=-All-&engineFilter=-All-&attrCodeFilter=-All-&attrValueFilter=-All-&plkEngineMakeFilter=-All-&plkEngineModelFilter=-All-&plkEngineDispFilter=-All-&filter=Accelerator%20Pedal%20Sensor%20(APS)&start=217  <->  [ok] - 剩余数量：237\n",
      "https://ecatalog.smpcorp.com/V2/STD/api/part/partsearch?filterType=n&searchType=p&imageSize=80&limit=1&sort=3&catFilter=-All-&yearFilter=-All-&makeFilter=-All-&modelFilter=-All-&engineFilter=-All-&attrCodeFilter=-All-&attrValueFilter=-All-&plkEngineMakeFilter=-All-&plkEngineModelFilter=-All-&plkEngineDispFilter=-All-&filter=Accelerator%20Pedal%20Sensor%20(APS)&start=215  <->  [ok] - 剩余数量：236\n",
      "https://ecatalog.smpcorp.com/V2/STD/api/part/partsearch?filterType=n&searchType=p&imageSize=80&limit=1&sort=3&catFilter=-All-&yearFilter=-All-&makeFilter=-All-&modelFilter=-All-&engineFilter=-All-&attrCodeFilter=-All-&attrValueFilter=-All-&plkEngineMakeFilter=-All-&plkEngineModelFilter=-All-&plkEngineDispFilter=-All-&filter=Accelerator%20Pedal%20Sensor%20(APS)&start=220  <->  [ok] - 剩余数量：235\n"
     ]
    },
    {
     "name": "stderr",
     "output_type": "stream",
     "text": [
      "C:\\Users\\YangTeng\\AppData\\Local\\Temp\\ipykernel_2604\\3929323490.py:58: FutureWarning: Setting an item of incompatible dtype is deprecated and will raise in a future error of pandas. Value 'ok' has dtype incompatible with float64, please explicitly cast to a compatible dtype first.\n",
      "  df_temp.loc[0, 'status'] = 'ok'\n",
      "C:\\Users\\YangTeng\\AppData\\Local\\Temp\\ipykernel_2604\\3929323490.py:59: FutureWarning: Setting an item of incompatible dtype is deprecated and will raise in a future error of pandas. Value 'https://ecatalog.smpcorp.com/V2/STD/api/part/partsearch?filterType=n&searchType=p&imageSize=80&limit=1&sort=3&catFilter=-All-&yearFilter=-All-&makeFilter=-All-&modelFilter=-All-&engineFilter=-All-&attrCodeFilter=-All-&attrValueFilter=-All-&plkEngineMakeFilter=-All-&plkEngineModelFilter=-All-&plkEngineDispFilter=-All-&filter=Accelerator%20Pedal%20Sensor%20(APS)&start=225' has dtype incompatible with float64, please explicitly cast to a compatible dtype first.\n",
      "  df_temp.loc[0, 'Url'] = url\n",
      "C:\\Users\\YangTeng\\AppData\\Local\\Temp\\ipykernel_2604\\3929323490.py:58: FutureWarning: Setting an item of incompatible dtype is deprecated and will raise in a future error of pandas. Value 'ok' has dtype incompatible with float64, please explicitly cast to a compatible dtype first.\n",
      "  df_temp.loc[0, 'status'] = 'ok'\n",
      "C:\\Users\\YangTeng\\AppData\\Local\\Temp\\ipykernel_2604\\3929323490.py:59: FutureWarning: Setting an item of incompatible dtype is deprecated and will raise in a future error of pandas. Value 'https://ecatalog.smpcorp.com/V2/STD/api/part/partsearch?filterType=n&searchType=p&imageSize=80&limit=1&sort=3&catFilter=-All-&yearFilter=-All-&makeFilter=-All-&modelFilter=-All-&engineFilter=-All-&attrCodeFilter=-All-&attrValueFilter=-All-&plkEngineMakeFilter=-All-&plkEngineModelFilter=-All-&plkEngineDispFilter=-All-&filter=Accelerator%20Pedal%20Sensor%20(APS)&start=221' has dtype incompatible with float64, please explicitly cast to a compatible dtype first.\n",
      "  df_temp.loc[0, 'Url'] = url\n"
     ]
    },
    {
     "name": "stdout",
     "output_type": "stream",
     "text": [
      "https://ecatalog.smpcorp.com/V2/STD/api/part/partsearch?filterType=n&searchType=p&imageSize=80&limit=1&sort=3&catFilter=-All-&yearFilter=-All-&makeFilter=-All-&modelFilter=-All-&engineFilter=-All-&attrCodeFilter=-All-&attrValueFilter=-All-&plkEngineMakeFilter=-All-&plkEngineModelFilter=-All-&plkEngineDispFilter=-All-&filter=Accelerator%20Pedal%20Sensor%20(APS)&start=225  <->  [ok] - 剩余数量：234\n",
      "https://ecatalog.smpcorp.com/V2/STD/api/part/partsearch?filterType=n&searchType=p&imageSize=80&limit=1&sort=3&catFilter=-All-&yearFilter=-All-&makeFilter=-All-&modelFilter=-All-&engineFilter=-All-&attrCodeFilter=-All-&attrValueFilter=-All-&plkEngineMakeFilter=-All-&plkEngineModelFilter=-All-&plkEngineDispFilter=-All-&filter=Accelerator%20Pedal%20Sensor%20(APS)&start=221  <->  [ok] - 剩余数量：233\n"
     ]
    },
    {
     "name": "stderr",
     "output_type": "stream",
     "text": [
      "C:\\Users\\YangTeng\\AppData\\Local\\Temp\\ipykernel_2604\\3929323490.py:58: FutureWarning: Setting an item of incompatible dtype is deprecated and will raise in a future error of pandas. Value 'ok' has dtype incompatible with float64, please explicitly cast to a compatible dtype first.\n",
      "  df_temp.loc[0, 'status'] = 'ok'\n",
      "C:\\Users\\YangTeng\\AppData\\Local\\Temp\\ipykernel_2604\\3929323490.py:59: FutureWarning: Setting an item of incompatible dtype is deprecated and will raise in a future error of pandas. Value 'https://ecatalog.smpcorp.com/V2/STD/api/part/partsearch?filterType=n&searchType=p&imageSize=80&limit=1&sort=3&catFilter=-All-&yearFilter=-All-&makeFilter=-All-&modelFilter=-All-&engineFilter=-All-&attrCodeFilter=-All-&attrValueFilter=-All-&plkEngineMakeFilter=-All-&plkEngineModelFilter=-All-&plkEngineDispFilter=-All-&filter=Accelerator%20Pedal%20Sensor%20(APS)&start=223' has dtype incompatible with float64, please explicitly cast to a compatible dtype first.\n",
      "  df_temp.loc[0, 'Url'] = url\n"
     ]
    },
    {
     "name": "stdout",
     "output_type": "stream",
     "text": [
      "https://ecatalog.smpcorp.com/V2/STD/api/part/partsearch?filterType=n&searchType=p&imageSize=80&limit=1&sort=3&catFilter=-All-&yearFilter=-All-&makeFilter=-All-&modelFilter=-All-&engineFilter=-All-&attrCodeFilter=-All-&attrValueFilter=-All-&plkEngineMakeFilter=-All-&plkEngineModelFilter=-All-&plkEngineDispFilter=-All-&filter=Accelerator%20Pedal%20Sensor%20(APS)&start=223  <->  [ok] - 剩余数量：232\n"
     ]
    },
    {
     "name": "stderr",
     "output_type": "stream",
     "text": [
      "C:\\Users\\YangTeng\\AppData\\Local\\Temp\\ipykernel_2604\\3929323490.py:58: FutureWarning: Setting an item of incompatible dtype is deprecated and will raise in a future error of pandas. Value 'ok' has dtype incompatible with float64, please explicitly cast to a compatible dtype first.\n",
      "  df_temp.loc[0, 'status'] = 'ok'\n",
      "C:\\Users\\YangTeng\\AppData\\Local\\Temp\\ipykernel_2604\\3929323490.py:59: FutureWarning: Setting an item of incompatible dtype is deprecated and will raise in a future error of pandas. Value 'https://ecatalog.smpcorp.com/V2/STD/api/part/partsearch?filterType=n&searchType=p&imageSize=80&limit=1&sort=3&catFilter=-All-&yearFilter=-All-&makeFilter=-All-&modelFilter=-All-&engineFilter=-All-&attrCodeFilter=-All-&attrValueFilter=-All-&plkEngineMakeFilter=-All-&plkEngineModelFilter=-All-&plkEngineDispFilter=-All-&filter=Accelerator%20Pedal%20Sensor%20(APS)&start=205' has dtype incompatible with float64, please explicitly cast to a compatible dtype first.\n",
      "  df_temp.loc[0, 'Url'] = url\n",
      "C:\\Users\\YangTeng\\AppData\\Local\\Temp\\ipykernel_2604\\3929323490.py:58: FutureWarning: Setting an item of incompatible dtype is deprecated and will raise in a future error of pandas. Value 'ok' has dtype incompatible with float64, please explicitly cast to a compatible dtype first.\n",
      "  df_temp.loc[0, 'status'] = 'ok'\n",
      "C:\\Users\\YangTeng\\AppData\\Local\\Temp\\ipykernel_2604\\3929323490.py:59: FutureWarning: Setting an item of incompatible dtype is deprecated and will raise in a future error of pandas. Value 'https://ecatalog.smpcorp.com/V2/STD/api/part/partsearch?filterType=n&searchType=p&imageSize=80&limit=1&sort=3&catFilter=-All-&yearFilter=-All-&makeFilter=-All-&modelFilter=-All-&engineFilter=-All-&attrCodeFilter=-All-&attrValueFilter=-All-&plkEngineMakeFilter=-All-&plkEngineModelFilter=-All-&plkEngineDispFilter=-All-&filter=Accelerator%20Pedal%20Sensor%20(APS)&start=224' has dtype incompatible with float64, please explicitly cast to a compatible dtype first.\n",
      "  df_temp.loc[0, 'Url'] = url\n",
      "C:\\Users\\YangTeng\\AppData\\Local\\Temp\\ipykernel_2604\\3929323490.py:58: FutureWarning: Setting an item of incompatible dtype is deprecated and will raise in a future error of pandas. Value 'ok' has dtype incompatible with float64, please explicitly cast to a compatible dtype first.\n",
      "  df_temp.loc[0, 'status'] = 'ok'\n",
      "C:\\Users\\YangTeng\\AppData\\Local\\Temp\\ipykernel_2604\\3929323490.py:59: FutureWarning: Setting an item of incompatible dtype is deprecated and will raise in a future error of pandas. Value 'https://ecatalog.smpcorp.com/V2/STD/api/part/partsearch?filterType=n&searchType=p&imageSize=80&limit=1&sort=3&catFilter=-All-&yearFilter=-All-&makeFilter=-All-&modelFilter=-All-&engineFilter=-All-&attrCodeFilter=-All-&attrValueFilter=-All-&plkEngineMakeFilter=-All-&plkEngineModelFilter=-All-&plkEngineDispFilter=-All-&filter=Accelerator%20Pedal%20Sensor%20(APS)&start=222' has dtype incompatible with float64, please explicitly cast to a compatible dtype first.\n",
      "  df_temp.loc[0, 'Url'] = url\n"
     ]
    },
    {
     "name": "stdout",
     "output_type": "stream",
     "text": [
      "https://ecatalog.smpcorp.com/V2/STD/api/part/partsearch?filterType=n&searchType=p&imageSize=80&limit=1&sort=3&catFilter=-All-&yearFilter=-All-&makeFilter=-All-&modelFilter=-All-&engineFilter=-All-&attrCodeFilter=-All-&attrValueFilter=-All-&plkEngineMakeFilter=-All-&plkEngineModelFilter=-All-&plkEngineDispFilter=-All-&filter=Accelerator%20Pedal%20Sensor%20(APS)&start=205  <->  [ok] - 剩余数量：231\n",
      "https://ecatalog.smpcorp.com/V2/STD/api/part/partsearch?filterType=n&searchType=p&imageSize=80&limit=1&sort=3&catFilter=-All-&yearFilter=-All-&makeFilter=-All-&modelFilter=-All-&engineFilter=-All-&attrCodeFilter=-All-&attrValueFilter=-All-&plkEngineMakeFilter=-All-&plkEngineModelFilter=-All-&plkEngineDispFilter=-All-&filter=Accelerator%20Pedal%20Sensor%20(APS)&start=224  <->  [ok] - 剩余数量：230\n",
      "https://ecatalog.smpcorp.com/V2/STD/api/part/partsearch?filterType=n&searchType=p&imageSize=80&limit=1&sort=3&catFilter=-All-&yearFilter=-All-&makeFilter=-All-&modelFilter=-All-&engineFilter=-All-&attrCodeFilter=-All-&attrValueFilter=-All-&plkEngineMakeFilter=-All-&plkEngineModelFilter=-All-&plkEngineDispFilter=-All-&filter=Accelerator%20Pedal%20Sensor%20(APS)&start=222  <->  [ok] - 剩余数量：229\n"
     ]
    },
    {
     "name": "stderr",
     "output_type": "stream",
     "text": [
      "C:\\Users\\YangTeng\\AppData\\Local\\Temp\\ipykernel_2604\\3929323490.py:58: FutureWarning: Setting an item of incompatible dtype is deprecated and will raise in a future error of pandas. Value 'ok' has dtype incompatible with float64, please explicitly cast to a compatible dtype first.\n",
      "  df_temp.loc[0, 'status'] = 'ok'\n",
      "C:\\Users\\YangTeng\\AppData\\Local\\Temp\\ipykernel_2604\\3929323490.py:59: FutureWarning: Setting an item of incompatible dtype is deprecated and will raise in a future error of pandas. Value 'https://ecatalog.smpcorp.com/V2/STD/api/part/partsearch?filterType=n&searchType=p&imageSize=80&limit=1&sort=3&catFilter=-All-&yearFilter=-All-&makeFilter=-All-&modelFilter=-All-&engineFilter=-All-&attrCodeFilter=-All-&attrValueFilter=-All-&plkEngineMakeFilter=-All-&plkEngineModelFilter=-All-&plkEngineDispFilter=-All-&filter=Accelerator%20Pedal%20Sensor%20(APS)&start=231' has dtype incompatible with float64, please explicitly cast to a compatible dtype first.\n",
      "  df_temp.loc[0, 'Url'] = url\n",
      "C:\\Users\\YangTeng\\AppData\\Local\\Temp\\ipykernel_2604\\3929323490.py:58: FutureWarning: Setting an item of incompatible dtype is deprecated and will raise in a future error of pandas. Value 'ok' has dtype incompatible with float64, please explicitly cast to a compatible dtype first.\n",
      "  df_temp.loc[0, 'status'] = 'ok'\n",
      "C:\\Users\\YangTeng\\AppData\\Local\\Temp\\ipykernel_2604\\3929323490.py:59: FutureWarning: Setting an item of incompatible dtype is deprecated and will raise in a future error of pandas. Value 'https://ecatalog.smpcorp.com/V2/STD/api/part/partsearch?filterType=n&searchType=p&imageSize=80&limit=1&sort=3&catFilter=-All-&yearFilter=-All-&makeFilter=-All-&modelFilter=-All-&engineFilter=-All-&attrCodeFilter=-All-&attrValueFilter=-All-&plkEngineMakeFilter=-All-&plkEngineModelFilter=-All-&plkEngineDispFilter=-All-&filter=Accelerator%20Pedal%20Sensor%20(APS)&start=226' has dtype incompatible with float64, please explicitly cast to a compatible dtype first.\n",
      "  df_temp.loc[0, 'Url'] = url\n",
      "C:\\Users\\YangTeng\\AppData\\Local\\Temp\\ipykernel_2604\\3929323490.py:58: FutureWarning: Setting an item of incompatible dtype is deprecated and will raise in a future error of pandas. Value 'ok' has dtype incompatible with float64, please explicitly cast to a compatible dtype first.\n",
      "  df_temp.loc[0, 'status'] = 'ok'\n",
      "C:\\Users\\YangTeng\\AppData\\Local\\Temp\\ipykernel_2604\\3929323490.py:59: FutureWarning: Setting an item of incompatible dtype is deprecated and will raise in a future error of pandas. Value 'https://ecatalog.smpcorp.com/V2/STD/api/part/partsearch?filterType=n&searchType=p&imageSize=80&limit=1&sort=3&catFilter=-All-&yearFilter=-All-&makeFilter=-All-&modelFilter=-All-&engineFilter=-All-&attrCodeFilter=-All-&attrValueFilter=-All-&plkEngineMakeFilter=-All-&plkEngineModelFilter=-All-&plkEngineDispFilter=-All-&filter=Accelerator%20Pedal%20Sensor%20(APS)&start=230' has dtype incompatible with float64, please explicitly cast to a compatible dtype first.\n",
      "  df_temp.loc[0, 'Url'] = url\n",
      "C:\\Users\\YangTeng\\AppData\\Local\\Temp\\ipykernel_2604\\3929323490.py:58: FutureWarning: Setting an item of incompatible dtype is deprecated and will raise in a future error of pandas. Value 'ok' has dtype incompatible with float64, please explicitly cast to a compatible dtype first.\n",
      "  df_temp.loc[0, 'status'] = 'ok'\n",
      "C:\\Users\\YangTeng\\AppData\\Local\\Temp\\ipykernel_2604\\3929323490.py:59: FutureWarning: Setting an item of incompatible dtype is deprecated and will raise in a future error of pandas. Value 'https://ecatalog.smpcorp.com/V2/STD/api/part/partsearch?filterType=n&searchType=p&imageSize=80&limit=1&sort=3&catFilter=-All-&yearFilter=-All-&makeFilter=-All-&modelFilter=-All-&engineFilter=-All-&attrCodeFilter=-All-&attrValueFilter=-All-&plkEngineMakeFilter=-All-&plkEngineModelFilter=-All-&plkEngineDispFilter=-All-&filter=Accelerator%20Pedal%20Sensor%20(APS)&start=227' has dtype incompatible with float64, please explicitly cast to a compatible dtype first.\n",
      "  df_temp.loc[0, 'Url'] = url\n"
     ]
    },
    {
     "name": "stdout",
     "output_type": "stream",
     "text": [
      "https://ecatalog.smpcorp.com/V2/STD/api/part/partsearch?filterType=n&searchType=p&imageSize=80&limit=1&sort=3&catFilter=-All-&yearFilter=-All-&makeFilter=-All-&modelFilter=-All-&engineFilter=-All-&attrCodeFilter=-All-&attrValueFilter=-All-&plkEngineMakeFilter=-All-&plkEngineModelFilter=-All-&plkEngineDispFilter=-All-&filter=Accelerator%20Pedal%20Sensor%20(APS)&start=231  <->  [ok] - 剩余数量：228\n",
      "https://ecatalog.smpcorp.com/V2/STD/api/part/partsearch?filterType=n&searchType=p&imageSize=80&limit=1&sort=3&catFilter=-All-&yearFilter=-All-&makeFilter=-All-&modelFilter=-All-&engineFilter=-All-&attrCodeFilter=-All-&attrValueFilter=-All-&plkEngineMakeFilter=-All-&plkEngineModelFilter=-All-&plkEngineDispFilter=-All-&filter=Accelerator%20Pedal%20Sensor%20(APS)&start=226  <->  [ok] - 剩余数量：227\n",
      "https://ecatalog.smpcorp.com/V2/STD/api/part/partsearch?filterType=n&searchType=p&imageSize=80&limit=1&sort=3&catFilter=-All-&yearFilter=-All-&makeFilter=-All-&modelFilter=-All-&engineFilter=-All-&attrCodeFilter=-All-&attrValueFilter=-All-&plkEngineMakeFilter=-All-&plkEngineModelFilter=-All-&plkEngineDispFilter=-All-&filter=Accelerator%20Pedal%20Sensor%20(APS)&start=230  <->  [ok] - 剩余数量：226\n",
      "https://ecatalog.smpcorp.com/V2/STD/api/part/partsearch?filterType=n&searchType=p&imageSize=80&limit=1&sort=3&catFilter=-All-&yearFilter=-All-&makeFilter=-All-&modelFilter=-All-&engineFilter=-All-&attrCodeFilter=-All-&attrValueFilter=-All-&plkEngineMakeFilter=-All-&plkEngineModelFilter=-All-&plkEngineDispFilter=-All-&filter=Accelerator%20Pedal%20Sensor%20(APS)&start=227  <->  [ok] - 剩余数量：225\n"
     ]
    },
    {
     "name": "stderr",
     "output_type": "stream",
     "text": [
      "C:\\Users\\YangTeng\\AppData\\Local\\Temp\\ipykernel_2604\\3929323490.py:58: FutureWarning: Setting an item of incompatible dtype is deprecated and will raise in a future error of pandas. Value 'ok' has dtype incompatible with float64, please explicitly cast to a compatible dtype first.\n",
      "  df_temp.loc[0, 'status'] = 'ok'\n",
      "C:\\Users\\YangTeng\\AppData\\Local\\Temp\\ipykernel_2604\\3929323490.py:59: FutureWarning: Setting an item of incompatible dtype is deprecated and will raise in a future error of pandas. Value 'https://ecatalog.smpcorp.com/V2/STD/api/part/partsearch?filterType=n&searchType=p&imageSize=80&limit=1&sort=3&catFilter=-All-&yearFilter=-All-&makeFilter=-All-&modelFilter=-All-&engineFilter=-All-&attrCodeFilter=-All-&attrValueFilter=-All-&plkEngineMakeFilter=-All-&plkEngineModelFilter=-All-&plkEngineDispFilter=-All-&filter=Accelerator%20Pedal%20Sensor%20(APS)&start=229' has dtype incompatible with float64, please explicitly cast to a compatible dtype first.\n",
      "  df_temp.loc[0, 'Url'] = url\n",
      "C:\\Users\\YangTeng\\AppData\\Local\\Temp\\ipykernel_2604\\3929323490.py:58: FutureWarning: Setting an item of incompatible dtype is deprecated and will raise in a future error of pandas. Value 'ok' has dtype incompatible with float64, please explicitly cast to a compatible dtype first.\n",
      "  df_temp.loc[0, 'status'] = 'ok'\n",
      "C:\\Users\\YangTeng\\AppData\\Local\\Temp\\ipykernel_2604\\3929323490.py:59: FutureWarning: Setting an item of incompatible dtype is deprecated and will raise in a future error of pandas. Value 'https://ecatalog.smpcorp.com/V2/STD/api/part/partsearch?filterType=n&searchType=p&imageSize=80&limit=1&sort=3&catFilter=-All-&yearFilter=-All-&makeFilter=-All-&modelFilter=-All-&engineFilter=-All-&attrCodeFilter=-All-&attrValueFilter=-All-&plkEngineMakeFilter=-All-&plkEngineModelFilter=-All-&plkEngineDispFilter=-All-&filter=Accelerator%20Pedal%20Sensor%20(APS)&start=228' has dtype incompatible with float64, please explicitly cast to a compatible dtype first.\n",
      "  df_temp.loc[0, 'Url'] = url\n",
      "C:\\Users\\YangTeng\\AppData\\Local\\Temp\\ipykernel_2604\\3929323490.py:58: FutureWarning: Setting an item of incompatible dtype is deprecated and will raise in a future error of pandas. Value 'ok' has dtype incompatible with float64, please explicitly cast to a compatible dtype first.\n",
      "  df_temp.loc[0, 'status'] = 'ok'\n",
      "C:\\Users\\YangTeng\\AppData\\Local\\Temp\\ipykernel_2604\\3929323490.py:59: FutureWarning: Setting an item of incompatible dtype is deprecated and will raise in a future error of pandas. Value 'https://ecatalog.smpcorp.com/V2/STD/api/part/partsearch?filterType=n&searchType=p&imageSize=80&limit=1&sort=3&catFilter=-All-&yearFilter=-All-&makeFilter=-All-&modelFilter=-All-&engineFilter=-All-&attrCodeFilter=-All-&attrValueFilter=-All-&plkEngineMakeFilter=-All-&plkEngineModelFilter=-All-&plkEngineDispFilter=-All-&filter=Accelerator%20Pedal%20Sensor%20(APS)&start=232' has dtype incompatible with float64, please explicitly cast to a compatible dtype first.\n",
      "  df_temp.loc[0, 'Url'] = url\n"
     ]
    },
    {
     "name": "stdout",
     "output_type": "stream",
     "text": [
      "https://ecatalog.smpcorp.com/V2/STD/api/part/partsearch?filterType=n&searchType=p&imageSize=80&limit=1&sort=3&catFilter=-All-&yearFilter=-All-&makeFilter=-All-&modelFilter=-All-&engineFilter=-All-&attrCodeFilter=-All-&attrValueFilter=-All-&plkEngineMakeFilter=-All-&plkEngineModelFilter=-All-&plkEngineDispFilter=-All-&filter=Accelerator%20Pedal%20Sensor%20(APS)&start=229  <->  [ok] - 剩余数量：224\n",
      "https://ecatalog.smpcorp.com/V2/STD/api/part/partsearch?filterType=n&searchType=p&imageSize=80&limit=1&sort=3&catFilter=-All-&yearFilter=-All-&makeFilter=-All-&modelFilter=-All-&engineFilter=-All-&attrCodeFilter=-All-&attrValueFilter=-All-&plkEngineMakeFilter=-All-&plkEngineModelFilter=-All-&plkEngineDispFilter=-All-&filter=Accelerator%20Pedal%20Sensor%20(APS)&start=228  <->  [ok] - 剩余数量：223\n",
      "https://ecatalog.smpcorp.com/V2/STD/api/part/partsearch?filterType=n&searchType=p&imageSize=80&limit=1&sort=3&catFilter=-All-&yearFilter=-All-&makeFilter=-All-&modelFilter=-All-&engineFilter=-All-&attrCodeFilter=-All-&attrValueFilter=-All-&plkEngineMakeFilter=-All-&plkEngineModelFilter=-All-&plkEngineDispFilter=-All-&filter=Accelerator%20Pedal%20Sensor%20(APS)&start=232  <->  [ok] - 剩余数量：222\n"
     ]
    },
    {
     "name": "stderr",
     "output_type": "stream",
     "text": [
      "C:\\Users\\YangTeng\\AppData\\Local\\Temp\\ipykernel_2604\\3929323490.py:58: FutureWarning: Setting an item of incompatible dtype is deprecated and will raise in a future error of pandas. Value 'ok' has dtype incompatible with float64, please explicitly cast to a compatible dtype first.\n",
      "  df_temp.loc[0, 'status'] = 'ok'\n",
      "C:\\Users\\YangTeng\\AppData\\Local\\Temp\\ipykernel_2604\\3929323490.py:59: FutureWarning: Setting an item of incompatible dtype is deprecated and will raise in a future error of pandas. Value 'https://ecatalog.smpcorp.com/V2/STD/api/part/partsearch?filterType=n&searchType=p&imageSize=80&limit=1&sort=3&catFilter=-All-&yearFilter=-All-&makeFilter=-All-&modelFilter=-All-&engineFilter=-All-&attrCodeFilter=-All-&attrValueFilter=-All-&plkEngineMakeFilter=-All-&plkEngineModelFilter=-All-&plkEngineDispFilter=-All-&filter=Accelerator%20Pedal%20Sensor%20(APS)&start=233' has dtype incompatible with float64, please explicitly cast to a compatible dtype first.\n",
      "  df_temp.loc[0, 'Url'] = url\n"
     ]
    },
    {
     "name": "stdout",
     "output_type": "stream",
     "text": [
      "https://ecatalog.smpcorp.com/V2/STD/api/part/partsearch?filterType=n&searchType=p&imageSize=80&limit=1&sort=3&catFilter=-All-&yearFilter=-All-&makeFilter=-All-&modelFilter=-All-&engineFilter=-All-&attrCodeFilter=-All-&attrValueFilter=-All-&plkEngineMakeFilter=-All-&plkEngineModelFilter=-All-&plkEngineDispFilter=-All-&filter=Accelerator%20Pedal%20Sensor%20(APS)&start=233  <->  [ok] - 剩余数量：221\n"
     ]
    },
    {
     "name": "stderr",
     "output_type": "stream",
     "text": [
      "C:\\Users\\YangTeng\\AppData\\Local\\Temp\\ipykernel_2604\\3929323490.py:58: FutureWarning: Setting an item of incompatible dtype is deprecated and will raise in a future error of pandas. Value 'ok' has dtype incompatible with float64, please explicitly cast to a compatible dtype first.\n",
      "  df_temp.loc[0, 'status'] = 'ok'\n",
      "C:\\Users\\YangTeng\\AppData\\Local\\Temp\\ipykernel_2604\\3929323490.py:59: FutureWarning: Setting an item of incompatible dtype is deprecated and will raise in a future error of pandas. Value 'https://ecatalog.smpcorp.com/V2/STD/api/part/partsearch?filterType=n&searchType=p&imageSize=80&limit=1&sort=3&catFilter=-All-&yearFilter=-All-&makeFilter=-All-&modelFilter=-All-&engineFilter=-All-&attrCodeFilter=-All-&attrValueFilter=-All-&plkEngineMakeFilter=-All-&plkEngineModelFilter=-All-&plkEngineDispFilter=-All-&filter=Accelerator%20Pedal%20Sensor%20(APS)&start=238' has dtype incompatible with float64, please explicitly cast to a compatible dtype first.\n",
      "  df_temp.loc[0, 'Url'] = url\n",
      "C:\\Users\\YangTeng\\AppData\\Local\\Temp\\ipykernel_2604\\3929323490.py:58: FutureWarning: Setting an item of incompatible dtype is deprecated and will raise in a future error of pandas. Value 'ok' has dtype incompatible with float64, please explicitly cast to a compatible dtype first.\n",
      "  df_temp.loc[0, 'status'] = 'ok'\n",
      "C:\\Users\\YangTeng\\AppData\\Local\\Temp\\ipykernel_2604\\3929323490.py:59: FutureWarning: Setting an item of incompatible dtype is deprecated and will raise in a future error of pandas. Value 'https://ecatalog.smpcorp.com/V2/STD/api/part/partsearch?filterType=n&searchType=p&imageSize=80&limit=1&sort=3&catFilter=-All-&yearFilter=-All-&makeFilter=-All-&modelFilter=-All-&engineFilter=-All-&attrCodeFilter=-All-&attrValueFilter=-All-&plkEngineMakeFilter=-All-&plkEngineModelFilter=-All-&plkEngineDispFilter=-All-&filter=Accelerator%20Pedal%20Sensor%20(APS)&start=97' has dtype incompatible with float64, please explicitly cast to a compatible dtype first.\n",
      "  df_temp.loc[0, 'Url'] = url\n",
      "C:\\Users\\YangTeng\\AppData\\Local\\Temp\\ipykernel_2604\\3929323490.py:58: FutureWarning: Setting an item of incompatible dtype is deprecated and will raise in a future error of pandas. Value 'ok' has dtype incompatible with float64, please explicitly cast to a compatible dtype first.\n",
      "  df_temp.loc[0, 'status'] = 'ok'\n",
      "C:\\Users\\YangTeng\\AppData\\Local\\Temp\\ipykernel_2604\\3929323490.py:59: FutureWarning: Setting an item of incompatible dtype is deprecated and will raise in a future error of pandas. Value 'https://ecatalog.smpcorp.com/V2/STD/api/part/partsearch?filterType=n&searchType=p&imageSize=80&limit=1&sort=3&catFilter=-All-&yearFilter=-All-&makeFilter=-All-&modelFilter=-All-&engineFilter=-All-&attrCodeFilter=-All-&attrValueFilter=-All-&plkEngineMakeFilter=-All-&plkEngineModelFilter=-All-&plkEngineDispFilter=-All-&filter=Accelerator%20Pedal%20Sensor%20(APS)&start=234' has dtype incompatible with float64, please explicitly cast to a compatible dtype first.\n",
      "  df_temp.loc[0, 'Url'] = url\n",
      "C:\\Users\\YangTeng\\AppData\\Local\\Temp\\ipykernel_2604\\3929323490.py:58: FutureWarning: Setting an item of incompatible dtype is deprecated and will raise in a future error of pandas. Value 'ok' has dtype incompatible with float64, please explicitly cast to a compatible dtype first.\n",
      "  df_temp.loc[0, 'status'] = 'ok'\n",
      "C:\\Users\\YangTeng\\AppData\\Local\\Temp\\ipykernel_2604\\3929323490.py:59: FutureWarning: Setting an item of incompatible dtype is deprecated and will raise in a future error of pandas. Value 'https://ecatalog.smpcorp.com/V2/STD/api/part/partsearch?filterType=n&searchType=p&imageSize=80&limit=1&sort=3&catFilter=-All-&yearFilter=-All-&makeFilter=-All-&modelFilter=-All-&engineFilter=-All-&attrCodeFilter=-All-&attrValueFilter=-All-&plkEngineMakeFilter=-All-&plkEngineModelFilter=-All-&plkEngineDispFilter=-All-&filter=Accelerator%20Pedal%20Sensor%20(APS)&start=235' has dtype incompatible with float64, please explicitly cast to a compatible dtype first.\n",
      "  df_temp.loc[0, 'Url'] = url\n",
      "C:\\Users\\YangTeng\\AppData\\Local\\Temp\\ipykernel_2604\\3929323490.py:58: FutureWarning: Setting an item of incompatible dtype is deprecated and will raise in a future error of pandas. Value 'ok' has dtype incompatible with float64, please explicitly cast to a compatible dtype first.\n",
      "  df_temp.loc[0, 'status'] = 'ok'\n",
      "C:\\Users\\YangTeng\\AppData\\Local\\Temp\\ipykernel_2604\\3929323490.py:59: FutureWarning: Setting an item of incompatible dtype is deprecated and will raise in a future error of pandas. Value 'https://ecatalog.smpcorp.com/V2/STD/api/part/partsearch?filterType=n&searchType=p&imageSize=80&limit=1&sort=3&catFilter=-All-&yearFilter=-All-&makeFilter=-All-&modelFilter=-All-&engineFilter=-All-&attrCodeFilter=-All-&attrValueFilter=-All-&plkEngineMakeFilter=-All-&plkEngineModelFilter=-All-&plkEngineDispFilter=-All-&filter=Accelerator%20Pedal%20Sensor%20(APS)&start=185' has dtype incompatible with float64, please explicitly cast to a compatible dtype first.\n",
      "  df_temp.loc[0, 'Url'] = url\n"
     ]
    },
    {
     "name": "stdout",
     "output_type": "stream",
     "text": [
      "https://ecatalog.smpcorp.com/V2/STD/api/part/partsearch?filterType=n&searchType=p&imageSize=80&limit=1&sort=3&catFilter=-All-&yearFilter=-All-&makeFilter=-All-&modelFilter=-All-&engineFilter=-All-&attrCodeFilter=-All-&attrValueFilter=-All-&plkEngineMakeFilter=-All-&plkEngineModelFilter=-All-&plkEngineDispFilter=-All-&filter=Accelerator%20Pedal%20Sensor%20(APS)&start=238  <->  [ok] - 剩余数量：220\n",
      "https://ecatalog.smpcorp.com/V2/STD/api/part/partsearch?filterType=n&searchType=p&imageSize=80&limit=1&sort=3&catFilter=-All-&yearFilter=-All-&makeFilter=-All-&modelFilter=-All-&engineFilter=-All-&attrCodeFilter=-All-&attrValueFilter=-All-&plkEngineMakeFilter=-All-&plkEngineModelFilter=-All-&plkEngineDispFilter=-All-&filter=Accelerator%20Pedal%20Sensor%20(APS)&start=97  <->  [ok] - 剩余数量：219\n",
      "https://ecatalog.smpcorp.com/V2/STD/api/part/partsearch?filterType=n&searchType=p&imageSize=80&limit=1&sort=3&catFilter=-All-&yearFilter=-All-&makeFilter=-All-&modelFilter=-All-&engineFilter=-All-&attrCodeFilter=-All-&attrValueFilter=-All-&plkEngineMakeFilter=-All-&plkEngineModelFilter=-All-&plkEngineDispFilter=-All-&filter=Accelerator%20Pedal%20Sensor%20(APS)&start=234  <->  [ok] - 剩余数量：218\n",
      "https://ecatalog.smpcorp.com/V2/STD/api/part/partsearch?filterType=n&searchType=p&imageSize=80&limit=1&sort=3&catFilter=-All-&yearFilter=-All-&makeFilter=-All-&modelFilter=-All-&engineFilter=-All-&attrCodeFilter=-All-&attrValueFilter=-All-&plkEngineMakeFilter=-All-&plkEngineModelFilter=-All-&plkEngineDispFilter=-All-&filter=Accelerator%20Pedal%20Sensor%20(APS)&start=235  <->  [ok] - 剩余数量：217\n",
      "https://ecatalog.smpcorp.com/V2/STD/api/part/partsearch?filterType=n&searchType=p&imageSize=80&limit=1&sort=3&catFilter=-All-&yearFilter=-All-&makeFilter=-All-&modelFilter=-All-&engineFilter=-All-&attrCodeFilter=-All-&attrValueFilter=-All-&plkEngineMakeFilter=-All-&plkEngineModelFilter=-All-&plkEngineDispFilter=-All-&filter=Accelerator%20Pedal%20Sensor%20(APS)&start=185  <->  [ok] - 剩余数量：216\n"
     ]
    },
    {
     "name": "stderr",
     "output_type": "stream",
     "text": [
      "C:\\Users\\YangTeng\\AppData\\Local\\Temp\\ipykernel_2604\\3929323490.py:58: FutureWarning: Setting an item of incompatible dtype is deprecated and will raise in a future error of pandas. Value 'ok' has dtype incompatible with float64, please explicitly cast to a compatible dtype first.\n",
      "  df_temp.loc[0, 'status'] = 'ok'\n",
      "C:\\Users\\YangTeng\\AppData\\Local\\Temp\\ipykernel_2604\\3929323490.py:59: FutureWarning: Setting an item of incompatible dtype is deprecated and will raise in a future error of pandas. Value 'https://ecatalog.smpcorp.com/V2/STD/api/part/partsearch?filterType=n&searchType=p&imageSize=80&limit=1&sort=3&catFilter=-All-&yearFilter=-All-&makeFilter=-All-&modelFilter=-All-&engineFilter=-All-&attrCodeFilter=-All-&attrValueFilter=-All-&plkEngineMakeFilter=-All-&plkEngineModelFilter=-All-&plkEngineDispFilter=-All-&filter=Accelerator%20Pedal%20Sensor%20(APS)&start=241' has dtype incompatible with float64, please explicitly cast to a compatible dtype first.\n",
      "  df_temp.loc[0, 'Url'] = url\n",
      "C:\\Users\\YangTeng\\AppData\\Local\\Temp\\ipykernel_2604\\3929323490.py:58: FutureWarning: Setting an item of incompatible dtype is deprecated and will raise in a future error of pandas. Value 'ok' has dtype incompatible with float64, please explicitly cast to a compatible dtype first.\n",
      "  df_temp.loc[0, 'status'] = 'ok'\n",
      "C:\\Users\\YangTeng\\AppData\\Local\\Temp\\ipykernel_2604\\3929323490.py:59: FutureWarning: Setting an item of incompatible dtype is deprecated and will raise in a future error of pandas. Value 'https://ecatalog.smpcorp.com/V2/STD/api/part/partsearch?filterType=n&searchType=p&imageSize=80&limit=1&sort=3&catFilter=-All-&yearFilter=-All-&makeFilter=-All-&modelFilter=-All-&engineFilter=-All-&attrCodeFilter=-All-&attrValueFilter=-All-&plkEngineMakeFilter=-All-&plkEngineModelFilter=-All-&plkEngineDispFilter=-All-&filter=Accelerator%20Pedal%20Sensor%20(APS)&start=242' has dtype incompatible with float64, please explicitly cast to a compatible dtype first.\n",
      "  df_temp.loc[0, 'Url'] = url\n"
     ]
    },
    {
     "name": "stdout",
     "output_type": "stream",
     "text": [
      "https://ecatalog.smpcorp.com/V2/STD/api/part/partsearch?filterType=n&searchType=p&imageSize=80&limit=1&sort=3&catFilter=-All-&yearFilter=-All-&makeFilter=-All-&modelFilter=-All-&engineFilter=-All-&attrCodeFilter=-All-&attrValueFilter=-All-&plkEngineMakeFilter=-All-&plkEngineModelFilter=-All-&plkEngineDispFilter=-All-&filter=Accelerator%20Pedal%20Sensor%20(APS)&start=241  <->  [ok] - 剩余数量：215\n",
      "https://ecatalog.smpcorp.com/V2/STD/api/part/partsearch?filterType=n&searchType=p&imageSize=80&limit=1&sort=3&catFilter=-All-&yearFilter=-All-&makeFilter=-All-&modelFilter=-All-&engineFilter=-All-&attrCodeFilter=-All-&attrValueFilter=-All-&plkEngineMakeFilter=-All-&plkEngineModelFilter=-All-&plkEngineDispFilter=-All-&filter=Accelerator%20Pedal%20Sensor%20(APS)&start=242  <->  [ok] - 剩余数量：214\n"
     ]
    },
    {
     "name": "stderr",
     "output_type": "stream",
     "text": [
      "C:\\Users\\YangTeng\\AppData\\Local\\Temp\\ipykernel_2604\\3929323490.py:58: FutureWarning: Setting an item of incompatible dtype is deprecated and will raise in a future error of pandas. Value 'ok' has dtype incompatible with float64, please explicitly cast to a compatible dtype first.\n",
      "  df_temp.loc[0, 'status'] = 'ok'\n",
      "C:\\Users\\YangTeng\\AppData\\Local\\Temp\\ipykernel_2604\\3929323490.py:59: FutureWarning: Setting an item of incompatible dtype is deprecated and will raise in a future error of pandas. Value 'https://ecatalog.smpcorp.com/V2/STD/api/part/partsearch?filterType=n&searchType=p&imageSize=80&limit=1&sort=3&catFilter=-All-&yearFilter=-All-&makeFilter=-All-&modelFilter=-All-&engineFilter=-All-&attrCodeFilter=-All-&attrValueFilter=-All-&plkEngineMakeFilter=-All-&plkEngineModelFilter=-All-&plkEngineDispFilter=-All-&filter=Accelerator%20Pedal%20Sensor%20(APS)&start=237' has dtype incompatible with float64, please explicitly cast to a compatible dtype first.\n",
      "  df_temp.loc[0, 'Url'] = url\n",
      "C:\\Users\\YangTeng\\AppData\\Local\\Temp\\ipykernel_2604\\3929323490.py:58: FutureWarning: Setting an item of incompatible dtype is deprecated and will raise in a future error of pandas. Value 'ok' has dtype incompatible with float64, please explicitly cast to a compatible dtype first.\n",
      "  df_temp.loc[0, 'status'] = 'ok'\n",
      "C:\\Users\\YangTeng\\AppData\\Local\\Temp\\ipykernel_2604\\3929323490.py:59: FutureWarning: Setting an item of incompatible dtype is deprecated and will raise in a future error of pandas. Value 'https://ecatalog.smpcorp.com/V2/STD/api/part/partsearch?filterType=n&searchType=p&imageSize=80&limit=1&sort=3&catFilter=-All-&yearFilter=-All-&makeFilter=-All-&modelFilter=-All-&engineFilter=-All-&attrCodeFilter=-All-&attrValueFilter=-All-&plkEngineMakeFilter=-All-&plkEngineModelFilter=-All-&plkEngineDispFilter=-All-&filter=Accelerator%20Pedal%20Sensor%20(APS)&start=236' has dtype incompatible with float64, please explicitly cast to a compatible dtype first.\n",
      "  df_temp.loc[0, 'Url'] = url\n",
      "C:\\Users\\YangTeng\\AppData\\Local\\Temp\\ipykernel_2604\\3929323490.py:58: FutureWarning: Setting an item of incompatible dtype is deprecated and will raise in a future error of pandas. Value 'ok' has dtype incompatible with float64, please explicitly cast to a compatible dtype first.\n",
      "  df_temp.loc[0, 'status'] = 'ok'\n",
      "C:\\Users\\YangTeng\\AppData\\Local\\Temp\\ipykernel_2604\\3929323490.py:59: FutureWarning: Setting an item of incompatible dtype is deprecated and will raise in a future error of pandas. Value 'https://ecatalog.smpcorp.com/V2/STD/api/part/partsearch?filterType=n&searchType=p&imageSize=80&limit=1&sort=3&catFilter=-All-&yearFilter=-All-&makeFilter=-All-&modelFilter=-All-&engineFilter=-All-&attrCodeFilter=-All-&attrValueFilter=-All-&plkEngineMakeFilter=-All-&plkEngineModelFilter=-All-&plkEngineDispFilter=-All-&filter=Accelerator%20Pedal%20Sensor%20(APS)&start=240' has dtype incompatible with float64, please explicitly cast to a compatible dtype first.\n",
      "  df_temp.loc[0, 'Url'] = url\n"
     ]
    },
    {
     "name": "stdout",
     "output_type": "stream",
     "text": [
      "https://ecatalog.smpcorp.com/V2/STD/api/part/partsearch?filterType=n&searchType=p&imageSize=80&limit=1&sort=3&catFilter=-All-&yearFilter=-All-&makeFilter=-All-&modelFilter=-All-&engineFilter=-All-&attrCodeFilter=-All-&attrValueFilter=-All-&plkEngineMakeFilter=-All-&plkEngineModelFilter=-All-&plkEngineDispFilter=-All-&filter=Accelerator%20Pedal%20Sensor%20(APS)&start=237  <->  [ok] - 剩余数量：213\n",
      "https://ecatalog.smpcorp.com/V2/STD/api/part/partsearch?filterType=n&searchType=p&imageSize=80&limit=1&sort=3&catFilter=-All-&yearFilter=-All-&makeFilter=-All-&modelFilter=-All-&engineFilter=-All-&attrCodeFilter=-All-&attrValueFilter=-All-&plkEngineMakeFilter=-All-&plkEngineModelFilter=-All-&plkEngineDispFilter=-All-&filter=Accelerator%20Pedal%20Sensor%20(APS)&start=236  <->  [ok] - 剩余数量：212\n",
      "https://ecatalog.smpcorp.com/V2/STD/api/part/partsearch?filterType=n&searchType=p&imageSize=80&limit=1&sort=3&catFilter=-All-&yearFilter=-All-&makeFilter=-All-&modelFilter=-All-&engineFilter=-All-&attrCodeFilter=-All-&attrValueFilter=-All-&plkEngineMakeFilter=-All-&plkEngineModelFilter=-All-&plkEngineDispFilter=-All-&filter=Accelerator%20Pedal%20Sensor%20(APS)&start=240  <->  [ok] - 剩余数量：211\n"
     ]
    },
    {
     "name": "stderr",
     "output_type": "stream",
     "text": [
      "C:\\Users\\YangTeng\\AppData\\Local\\Temp\\ipykernel_2604\\3929323490.py:58: FutureWarning: Setting an item of incompatible dtype is deprecated and will raise in a future error of pandas. Value 'ok' has dtype incompatible with float64, please explicitly cast to a compatible dtype first.\n",
      "  df_temp.loc[0, 'status'] = 'ok'\n",
      "C:\\Users\\YangTeng\\AppData\\Local\\Temp\\ipykernel_2604\\3929323490.py:59: FutureWarning: Setting an item of incompatible dtype is deprecated and will raise in a future error of pandas. Value 'https://ecatalog.smpcorp.com/V2/STD/api/part/partsearch?filterType=n&searchType=p&imageSize=80&limit=1&sort=3&catFilter=-All-&yearFilter=-All-&makeFilter=-All-&modelFilter=-All-&engineFilter=-All-&attrCodeFilter=-All-&attrValueFilter=-All-&plkEngineMakeFilter=-All-&plkEngineModelFilter=-All-&plkEngineDispFilter=-All-&filter=Accelerator%20Pedal%20Sensor%20(APS)&start=243' has dtype incompatible with float64, please explicitly cast to a compatible dtype first.\n",
      "  df_temp.loc[0, 'Url'] = url\n"
     ]
    },
    {
     "name": "stdout",
     "output_type": "stream",
     "text": [
      "https://ecatalog.smpcorp.com/V2/STD/api/part/partsearch?filterType=n&searchType=p&imageSize=80&limit=1&sort=3&catFilter=-All-&yearFilter=-All-&makeFilter=-All-&modelFilter=-All-&engineFilter=-All-&attrCodeFilter=-All-&attrValueFilter=-All-&plkEngineMakeFilter=-All-&plkEngineModelFilter=-All-&plkEngineDispFilter=-All-&filter=Accelerator%20Pedal%20Sensor%20(APS)&start=243  <->  [ok] - 剩余数量：210\n"
     ]
    },
    {
     "name": "stderr",
     "output_type": "stream",
     "text": [
      "C:\\Users\\YangTeng\\AppData\\Local\\Temp\\ipykernel_2604\\3929323490.py:58: FutureWarning: Setting an item of incompatible dtype is deprecated and will raise in a future error of pandas. Value 'ok' has dtype incompatible with float64, please explicitly cast to a compatible dtype first.\n",
      "  df_temp.loc[0, 'status'] = 'ok'\n",
      "C:\\Users\\YangTeng\\AppData\\Local\\Temp\\ipykernel_2604\\3929323490.py:59: FutureWarning: Setting an item of incompatible dtype is deprecated and will raise in a future error of pandas. Value 'https://ecatalog.smpcorp.com/V2/STD/api/part/partsearch?filterType=n&searchType=p&imageSize=80&limit=1&sort=3&catFilter=-All-&yearFilter=-All-&makeFilter=-All-&modelFilter=-All-&engineFilter=-All-&attrCodeFilter=-All-&attrValueFilter=-All-&plkEngineMakeFilter=-All-&plkEngineModelFilter=-All-&plkEngineDispFilter=-All-&filter=Accelerator%20Pedal%20Sensor%20(APS)&start=247' has dtype incompatible with float64, please explicitly cast to a compatible dtype first.\n",
      "  df_temp.loc[0, 'Url'] = url\n",
      "C:\\Users\\YangTeng\\AppData\\Local\\Temp\\ipykernel_2604\\3929323490.py:58: FutureWarning: Setting an item of incompatible dtype is deprecated and will raise in a future error of pandas. Value 'ok' has dtype incompatible with float64, please explicitly cast to a compatible dtype first.\n",
      "  df_temp.loc[0, 'status'] = 'ok'\n",
      "C:\\Users\\YangTeng\\AppData\\Local\\Temp\\ipykernel_2604\\3929323490.py:59: FutureWarning: Setting an item of incompatible dtype is deprecated and will raise in a future error of pandas. Value 'https://ecatalog.smpcorp.com/V2/STD/api/part/partsearch?filterType=n&searchType=p&imageSize=80&limit=1&sort=3&catFilter=-All-&yearFilter=-All-&makeFilter=-All-&modelFilter=-All-&engineFilter=-All-&attrCodeFilter=-All-&attrValueFilter=-All-&plkEngineMakeFilter=-All-&plkEngineModelFilter=-All-&plkEngineDispFilter=-All-&filter=Accelerator%20Pedal%20Sensor%20(APS)&start=248' has dtype incompatible with float64, please explicitly cast to a compatible dtype first.\n",
      "  df_temp.loc[0, 'Url'] = url\n",
      "C:\\Users\\YangTeng\\AppData\\Local\\Temp\\ipykernel_2604\\3929323490.py:58: FutureWarning: Setting an item of incompatible dtype is deprecated and will raise in a future error of pandas. Value 'ok' has dtype incompatible with float64, please explicitly cast to a compatible dtype first.\n",
      "  df_temp.loc[0, 'status'] = 'ok'\n",
      "C:\\Users\\YangTeng\\AppData\\Local\\Temp\\ipykernel_2604\\3929323490.py:59: FutureWarning: Setting an item of incompatible dtype is deprecated and will raise in a future error of pandas. Value 'https://ecatalog.smpcorp.com/V2/STD/api/part/partsearch?filterType=n&searchType=p&imageSize=80&limit=1&sort=3&catFilter=-All-&yearFilter=-All-&makeFilter=-All-&modelFilter=-All-&engineFilter=-All-&attrCodeFilter=-All-&attrValueFilter=-All-&plkEngineMakeFilter=-All-&plkEngineModelFilter=-All-&plkEngineDispFilter=-All-&filter=Accelerator%20Pedal%20Sensor%20(APS)&start=249' has dtype incompatible with float64, please explicitly cast to a compatible dtype first.\n",
      "  df_temp.loc[0, 'Url'] = url\n",
      "C:\\Users\\YangTeng\\AppData\\Local\\Temp\\ipykernel_2604\\3929323490.py:58: FutureWarning: Setting an item of incompatible dtype is deprecated and will raise in a future error of pandas. Value 'ok' has dtype incompatible with float64, please explicitly cast to a compatible dtype first.\n",
      "  df_temp.loc[0, 'status'] = 'ok'\n",
      "C:\\Users\\YangTeng\\AppData\\Local\\Temp\\ipykernel_2604\\3929323490.py:59: FutureWarning: Setting an item of incompatible dtype is deprecated and will raise in a future error of pandas. Value 'https://ecatalog.smpcorp.com/V2/STD/api/part/partsearch?filterType=n&searchType=p&imageSize=80&limit=1&sort=3&catFilter=-All-&yearFilter=-All-&makeFilter=-All-&modelFilter=-All-&engineFilter=-All-&attrCodeFilter=-All-&attrValueFilter=-All-&plkEngineMakeFilter=-All-&plkEngineModelFilter=-All-&plkEngineDispFilter=-All-&filter=Accelerator%20Pedal%20Sensor%20(APS)&start=251' has dtype incompatible with float64, please explicitly cast to a compatible dtype first.\n",
      "  df_temp.loc[0, 'Url'] = url\n",
      "C:\\Users\\YangTeng\\AppData\\Local\\Temp\\ipykernel_2604\\3929323490.py:58: FutureWarning: Setting an item of incompatible dtype is deprecated and will raise in a future error of pandas. Value 'ok' has dtype incompatible with float64, please explicitly cast to a compatible dtype first.\n",
      "  df_temp.loc[0, 'status'] = 'ok'\n",
      "C:\\Users\\YangTeng\\AppData\\Local\\Temp\\ipykernel_2604\\3929323490.py:59: FutureWarning: Setting an item of incompatible dtype is deprecated and will raise in a future error of pandas. Value 'https://ecatalog.smpcorp.com/V2/STD/api/part/partsearch?filterType=n&searchType=p&imageSize=80&limit=1&sort=3&catFilter=-All-&yearFilter=-All-&makeFilter=-All-&modelFilter=-All-&engineFilter=-All-&attrCodeFilter=-All-&attrValueFilter=-All-&plkEngineMakeFilter=-All-&plkEngineModelFilter=-All-&plkEngineDispFilter=-All-&filter=Accelerator%20Pedal%20Sensor%20(APS)&start=246' has dtype incompatible with float64, please explicitly cast to a compatible dtype first.\n",
      "  df_temp.loc[0, 'Url'] = url\n",
      "C:\\Users\\YangTeng\\AppData\\Local\\Temp\\ipykernel_2604\\3929323490.py:58: FutureWarning: Setting an item of incompatible dtype is deprecated and will raise in a future error of pandas. Value 'ok' has dtype incompatible with float64, please explicitly cast to a compatible dtype first.\n",
      "  df_temp.loc[0, 'status'] = 'ok'\n",
      "C:\\Users\\YangTeng\\AppData\\Local\\Temp\\ipykernel_2604\\3929323490.py:59: FutureWarning: Setting an item of incompatible dtype is deprecated and will raise in a future error of pandas. Value 'https://ecatalog.smpcorp.com/V2/STD/api/part/partsearch?filterType=n&searchType=p&imageSize=80&limit=1&sort=3&catFilter=-All-&yearFilter=-All-&makeFilter=-All-&modelFilter=-All-&engineFilter=-All-&attrCodeFilter=-All-&attrValueFilter=-All-&plkEngineMakeFilter=-All-&plkEngineModelFilter=-All-&plkEngineDispFilter=-All-&filter=Accelerator%20Pedal%20Sensor%20(APS)&start=218' has dtype incompatible with float64, please explicitly cast to a compatible dtype first.\n",
      "  df_temp.loc[0, 'Url'] = url\n"
     ]
    },
    {
     "name": "stdout",
     "output_type": "stream",
     "text": [
      "https://ecatalog.smpcorp.com/V2/STD/api/part/partsearch?filterType=n&searchType=p&imageSize=80&limit=1&sort=3&catFilter=-All-&yearFilter=-All-&makeFilter=-All-&modelFilter=-All-&engineFilter=-All-&attrCodeFilter=-All-&attrValueFilter=-All-&plkEngineMakeFilter=-All-&plkEngineModelFilter=-All-&plkEngineDispFilter=-All-&filter=Accelerator%20Pedal%20Sensor%20(APS)&start=247  <->  [ok] - 剩余数量：209\n",
      "https://ecatalog.smpcorp.com/V2/STD/api/part/partsearch?filterType=n&searchType=p&imageSize=80&limit=1&sort=3&catFilter=-All-&yearFilter=-All-&makeFilter=-All-&modelFilter=-All-&engineFilter=-All-&attrCodeFilter=-All-&attrValueFilter=-All-&plkEngineMakeFilter=-All-&plkEngineModelFilter=-All-&plkEngineDispFilter=-All-&filter=Accelerator%20Pedal%20Sensor%20(APS)&start=248  <->  [ok] - 剩余数量：208\n",
      "https://ecatalog.smpcorp.com/V2/STD/api/part/partsearch?filterType=n&searchType=p&imageSize=80&limit=1&sort=3&catFilter=-All-&yearFilter=-All-&makeFilter=-All-&modelFilter=-All-&engineFilter=-All-&attrCodeFilter=-All-&attrValueFilter=-All-&plkEngineMakeFilter=-All-&plkEngineModelFilter=-All-&plkEngineDispFilter=-All-&filter=Accelerator%20Pedal%20Sensor%20(APS)&start=249  <->  [ok] - 剩余数量：207\n",
      "https://ecatalog.smpcorp.com/V2/STD/api/part/partsearch?filterType=n&searchType=p&imageSize=80&limit=1&sort=3&catFilter=-All-&yearFilter=-All-&makeFilter=-All-&modelFilter=-All-&engineFilter=-All-&attrCodeFilter=-All-&attrValueFilter=-All-&plkEngineMakeFilter=-All-&plkEngineModelFilter=-All-&plkEngineDispFilter=-All-&filter=Accelerator%20Pedal%20Sensor%20(APS)&start=251  <->  [ok] - 剩余数量：206\n",
      "https://ecatalog.smpcorp.com/V2/STD/api/part/partsearch?filterType=n&searchType=p&imageSize=80&limit=1&sort=3&catFilter=-All-&yearFilter=-All-&makeFilter=-All-&modelFilter=-All-&engineFilter=-All-&attrCodeFilter=-All-&attrValueFilter=-All-&plkEngineMakeFilter=-All-&plkEngineModelFilter=-All-&plkEngineDispFilter=-All-&filter=Accelerator%20Pedal%20Sensor%20(APS)&start=246  <->  [ok] - 剩余数量：205\n",
      "https://ecatalog.smpcorp.com/V2/STD/api/part/partsearch?filterType=n&searchType=p&imageSize=80&limit=1&sort=3&catFilter=-All-&yearFilter=-All-&makeFilter=-All-&modelFilter=-All-&engineFilter=-All-&attrCodeFilter=-All-&attrValueFilter=-All-&plkEngineMakeFilter=-All-&plkEngineModelFilter=-All-&plkEngineDispFilter=-All-&filter=Accelerator%20Pedal%20Sensor%20(APS)&start=218  <->  [ok] - 剩余数量：204\n"
     ]
    },
    {
     "name": "stderr",
     "output_type": "stream",
     "text": [
      "C:\\Users\\YangTeng\\AppData\\Local\\Temp\\ipykernel_2604\\3929323490.py:58: FutureWarning: Setting an item of incompatible dtype is deprecated and will raise in a future error of pandas. Value 'ok' has dtype incompatible with float64, please explicitly cast to a compatible dtype first.\n",
      "  df_temp.loc[0, 'status'] = 'ok'\n",
      "C:\\Users\\YangTeng\\AppData\\Local\\Temp\\ipykernel_2604\\3929323490.py:59: FutureWarning: Setting an item of incompatible dtype is deprecated and will raise in a future error of pandas. Value 'https://ecatalog.smpcorp.com/V2/STD/api/part/partsearch?filterType=n&searchType=p&imageSize=80&limit=1&sort=3&catFilter=-All-&yearFilter=-All-&makeFilter=-All-&modelFilter=-All-&engineFilter=-All-&attrCodeFilter=-All-&attrValueFilter=-All-&plkEngineMakeFilter=-All-&plkEngineModelFilter=-All-&plkEngineDispFilter=-All-&filter=Accelerator%20Pedal%20Sensor%20(APS)&start=250' has dtype incompatible with float64, please explicitly cast to a compatible dtype first.\n",
      "  df_temp.loc[0, 'Url'] = url\n",
      "C:\\Users\\YangTeng\\AppData\\Local\\Temp\\ipykernel_2604\\3929323490.py:58: FutureWarning: Setting an item of incompatible dtype is deprecated and will raise in a future error of pandas. Value 'ok' has dtype incompatible with float64, please explicitly cast to a compatible dtype first.\n",
      "  df_temp.loc[0, 'status'] = 'ok'\n",
      "C:\\Users\\YangTeng\\AppData\\Local\\Temp\\ipykernel_2604\\3929323490.py:59: FutureWarning: Setting an item of incompatible dtype is deprecated and will raise in a future error of pandas. Value 'https://ecatalog.smpcorp.com/V2/STD/api/part/partsearch?filterType=n&searchType=p&imageSize=80&limit=1&sort=3&catFilter=-All-&yearFilter=-All-&makeFilter=-All-&modelFilter=-All-&engineFilter=-All-&attrCodeFilter=-All-&attrValueFilter=-All-&plkEngineMakeFilter=-All-&plkEngineModelFilter=-All-&plkEngineDispFilter=-All-&filter=Accelerator%20Pedal%20Sensor%20(APS)&start=244' has dtype incompatible with float64, please explicitly cast to a compatible dtype first.\n",
      "  df_temp.loc[0, 'Url'] = url\n",
      "C:\\Users\\YangTeng\\AppData\\Local\\Temp\\ipykernel_2604\\3929323490.py:58: FutureWarning: Setting an item of incompatible dtype is deprecated and will raise in a future error of pandas. Value 'ok' has dtype incompatible with float64, please explicitly cast to a compatible dtype first.\n",
      "  df_temp.loc[0, 'status'] = 'ok'\n",
      "C:\\Users\\YangTeng\\AppData\\Local\\Temp\\ipykernel_2604\\3929323490.py:59: FutureWarning: Setting an item of incompatible dtype is deprecated and will raise in a future error of pandas. Value 'https://ecatalog.smpcorp.com/V2/STD/api/part/partsearch?filterType=n&searchType=p&imageSize=80&limit=1&sort=3&catFilter=-All-&yearFilter=-All-&makeFilter=-All-&modelFilter=-All-&engineFilter=-All-&attrCodeFilter=-All-&attrValueFilter=-All-&plkEngineMakeFilter=-All-&plkEngineModelFilter=-All-&plkEngineDispFilter=-All-&filter=Accelerator%20Pedal%20Sensor%20(APS)&start=239' has dtype incompatible with float64, please explicitly cast to a compatible dtype first.\n",
      "  df_temp.loc[0, 'Url'] = url\n"
     ]
    },
    {
     "name": "stdout",
     "output_type": "stream",
     "text": [
      "https://ecatalog.smpcorp.com/V2/STD/api/part/partsearch?filterType=n&searchType=p&imageSize=80&limit=1&sort=3&catFilter=-All-&yearFilter=-All-&makeFilter=-All-&modelFilter=-All-&engineFilter=-All-&attrCodeFilter=-All-&attrValueFilter=-All-&plkEngineMakeFilter=-All-&plkEngineModelFilter=-All-&plkEngineDispFilter=-All-&filter=Accelerator%20Pedal%20Sensor%20(APS)&start=250  <->  [ok] - 剩余数量：203\n",
      "https://ecatalog.smpcorp.com/V2/STD/api/part/partsearch?filterType=n&searchType=p&imageSize=80&limit=1&sort=3&catFilter=-All-&yearFilter=-All-&makeFilter=-All-&modelFilter=-All-&engineFilter=-All-&attrCodeFilter=-All-&attrValueFilter=-All-&plkEngineMakeFilter=-All-&plkEngineModelFilter=-All-&plkEngineDispFilter=-All-&filter=Accelerator%20Pedal%20Sensor%20(APS)&start=244  <->  [ok] - 剩余数量：202\n",
      "https://ecatalog.smpcorp.com/V2/STD/api/part/partsearch?filterType=n&searchType=p&imageSize=80&limit=1&sort=3&catFilter=-All-&yearFilter=-All-&makeFilter=-All-&modelFilter=-All-&engineFilter=-All-&attrCodeFilter=-All-&attrValueFilter=-All-&plkEngineMakeFilter=-All-&plkEngineModelFilter=-All-&plkEngineDispFilter=-All-&filter=Accelerator%20Pedal%20Sensor%20(APS)&start=239  <->  [ok] - 剩余数量：201\n"
     ]
    },
    {
     "name": "stderr",
     "output_type": "stream",
     "text": [
      "C:\\Users\\YangTeng\\AppData\\Local\\Temp\\ipykernel_2604\\3929323490.py:58: FutureWarning: Setting an item of incompatible dtype is deprecated and will raise in a future error of pandas. Value 'ok' has dtype incompatible with float64, please explicitly cast to a compatible dtype first.\n",
      "  df_temp.loc[0, 'status'] = 'ok'\n",
      "C:\\Users\\YangTeng\\AppData\\Local\\Temp\\ipykernel_2604\\3929323490.py:59: FutureWarning: Setting an item of incompatible dtype is deprecated and will raise in a future error of pandas. Value 'https://ecatalog.smpcorp.com/V2/STD/api/part/partsearch?filterType=n&searchType=p&imageSize=80&limit=1&sort=3&catFilter=-All-&yearFilter=-All-&makeFilter=-All-&modelFilter=-All-&engineFilter=-All-&attrCodeFilter=-All-&attrValueFilter=-All-&plkEngineMakeFilter=-All-&plkEngineModelFilter=-All-&plkEngineDispFilter=-All-&filter=Accelerator%20Pedal%20Sensor%20(APS)&start=245' has dtype incompatible with float64, please explicitly cast to a compatible dtype first.\n",
      "  df_temp.loc[0, 'Url'] = url\n"
     ]
    },
    {
     "name": "stdout",
     "output_type": "stream",
     "text": [
      "https://ecatalog.smpcorp.com/V2/STD/api/part/partsearch?filterType=n&searchType=p&imageSize=80&limit=1&sort=3&catFilter=-All-&yearFilter=-All-&makeFilter=-All-&modelFilter=-All-&engineFilter=-All-&attrCodeFilter=-All-&attrValueFilter=-All-&plkEngineMakeFilter=-All-&plkEngineModelFilter=-All-&plkEngineDispFilter=-All-&filter=Accelerator%20Pedal%20Sensor%20(APS)&start=245  <->  [ok] - 剩余数量：200\n"
     ]
    },
    {
     "name": "stderr",
     "output_type": "stream",
     "text": [
      "C:\\Users\\YangTeng\\AppData\\Local\\Temp\\ipykernel_2604\\3929323490.py:58: FutureWarning: Setting an item of incompatible dtype is deprecated and will raise in a future error of pandas. Value 'ok' has dtype incompatible with float64, please explicitly cast to a compatible dtype first.\n",
      "  df_temp.loc[0, 'status'] = 'ok'\n",
      "C:\\Users\\YangTeng\\AppData\\Local\\Temp\\ipykernel_2604\\3929323490.py:59: FutureWarning: Setting an item of incompatible dtype is deprecated and will raise in a future error of pandas. Value 'https://ecatalog.smpcorp.com/V2/STD/api/part/partsearch?filterType=n&searchType=p&imageSize=80&limit=1&sort=3&catFilter=-All-&yearFilter=-All-&makeFilter=-All-&modelFilter=-All-&engineFilter=-All-&attrCodeFilter=-All-&attrValueFilter=-All-&plkEngineMakeFilter=-All-&plkEngineModelFilter=-All-&plkEngineDispFilter=-All-&filter=Accelerator%20Pedal%20Sensor%20(APS)&start=253' has dtype incompatible with float64, please explicitly cast to a compatible dtype first.\n",
      "  df_temp.loc[0, 'Url'] = url\n",
      "C:\\Users\\YangTeng\\AppData\\Local\\Temp\\ipykernel_2604\\3929323490.py:58: FutureWarning: Setting an item of incompatible dtype is deprecated and will raise in a future error of pandas. Value 'ok' has dtype incompatible with float64, please explicitly cast to a compatible dtype first.\n",
      "  df_temp.loc[0, 'status'] = 'ok'\n",
      "C:\\Users\\YangTeng\\AppData\\Local\\Temp\\ipykernel_2604\\3929323490.py:59: FutureWarning: Setting an item of incompatible dtype is deprecated and will raise in a future error of pandas. Value 'https://ecatalog.smpcorp.com/V2/STD/api/part/partsearch?filterType=n&searchType=p&imageSize=80&limit=1&sort=3&catFilter=-All-&yearFilter=-All-&makeFilter=-All-&modelFilter=-All-&engineFilter=-All-&attrCodeFilter=-All-&attrValueFilter=-All-&plkEngineMakeFilter=-All-&plkEngineModelFilter=-All-&plkEngineDispFilter=-All-&filter=Accelerator%20Pedal%20Sensor%20(APS)&start=257' has dtype incompatible with float64, please explicitly cast to a compatible dtype first.\n",
      "  df_temp.loc[0, 'Url'] = url\n",
      "C:\\Users\\YangTeng\\AppData\\Local\\Temp\\ipykernel_2604\\3929323490.py:58: FutureWarning: Setting an item of incompatible dtype is deprecated and will raise in a future error of pandas. Value 'ok' has dtype incompatible with float64, please explicitly cast to a compatible dtype first.\n",
      "  df_temp.loc[0, 'status'] = 'ok'\n",
      "C:\\Users\\YangTeng\\AppData\\Local\\Temp\\ipykernel_2604\\3929323490.py:59: FutureWarning: Setting an item of incompatible dtype is deprecated and will raise in a future error of pandas. Value 'https://ecatalog.smpcorp.com/V2/STD/api/part/partsearch?filterType=n&searchType=p&imageSize=80&limit=1&sort=3&catFilter=-All-&yearFilter=-All-&makeFilter=-All-&modelFilter=-All-&engineFilter=-All-&attrCodeFilter=-All-&attrValueFilter=-All-&plkEngineMakeFilter=-All-&plkEngineModelFilter=-All-&plkEngineDispFilter=-All-&filter=Accelerator%20Pedal%20Sensor%20(APS)&start=254' has dtype incompatible with float64, please explicitly cast to a compatible dtype first.\n",
      "  df_temp.loc[0, 'Url'] = url\n"
     ]
    },
    {
     "name": "stdout",
     "output_type": "stream",
     "text": [
      "https://ecatalog.smpcorp.com/V2/STD/api/part/partsearch?filterType=n&searchType=p&imageSize=80&limit=1&sort=3&catFilter=-All-&yearFilter=-All-&makeFilter=-All-&modelFilter=-All-&engineFilter=-All-&attrCodeFilter=-All-&attrValueFilter=-All-&plkEngineMakeFilter=-All-&plkEngineModelFilter=-All-&plkEngineDispFilter=-All-&filter=Accelerator%20Pedal%20Sensor%20(APS)&start=253  <->  [ok] - 剩余数量：199\n",
      "https://ecatalog.smpcorp.com/V2/STD/api/part/partsearch?filterType=n&searchType=p&imageSize=80&limit=1&sort=3&catFilter=-All-&yearFilter=-All-&makeFilter=-All-&modelFilter=-All-&engineFilter=-All-&attrCodeFilter=-All-&attrValueFilter=-All-&plkEngineMakeFilter=-All-&plkEngineModelFilter=-All-&plkEngineDispFilter=-All-&filter=Accelerator%20Pedal%20Sensor%20(APS)&start=257  <->  [ok] - 剩余数量：198\n",
      "https://ecatalog.smpcorp.com/V2/STD/api/part/partsearch?filterType=n&searchType=p&imageSize=80&limit=1&sort=3&catFilter=-All-&yearFilter=-All-&makeFilter=-All-&modelFilter=-All-&engineFilter=-All-&attrCodeFilter=-All-&attrValueFilter=-All-&plkEngineMakeFilter=-All-&plkEngineModelFilter=-All-&plkEngineDispFilter=-All-&filter=Accelerator%20Pedal%20Sensor%20(APS)&start=254  <->  [ok] - 剩余数量：197\n"
     ]
    },
    {
     "name": "stderr",
     "output_type": "stream",
     "text": [
      "C:\\Users\\YangTeng\\AppData\\Local\\Temp\\ipykernel_2604\\3929323490.py:58: FutureWarning: Setting an item of incompatible dtype is deprecated and will raise in a future error of pandas. Value 'ok' has dtype incompatible with float64, please explicitly cast to a compatible dtype first.\n",
      "  df_temp.loc[0, 'status'] = 'ok'\n",
      "C:\\Users\\YangTeng\\AppData\\Local\\Temp\\ipykernel_2604\\3929323490.py:59: FutureWarning: Setting an item of incompatible dtype is deprecated and will raise in a future error of pandas. Value 'https://ecatalog.smpcorp.com/V2/STD/api/part/partsearch?filterType=n&searchType=p&imageSize=80&limit=1&sort=3&catFilter=-All-&yearFilter=-All-&makeFilter=-All-&modelFilter=-All-&engineFilter=-All-&attrCodeFilter=-All-&attrValueFilter=-All-&plkEngineMakeFilter=-All-&plkEngineModelFilter=-All-&plkEngineDispFilter=-All-&filter=Accelerator%20Pedal%20Sensor%20(APS)&start=252' has dtype incompatible with float64, please explicitly cast to a compatible dtype first.\n",
      "  df_temp.loc[0, 'Url'] = url\n",
      "C:\\Users\\YangTeng\\AppData\\Local\\Temp\\ipykernel_2604\\3929323490.py:58: FutureWarning: Setting an item of incompatible dtype is deprecated and will raise in a future error of pandas. Value 'ok' has dtype incompatible with float64, please explicitly cast to a compatible dtype first.\n",
      "  df_temp.loc[0, 'status'] = 'ok'\n",
      "C:\\Users\\YangTeng\\AppData\\Local\\Temp\\ipykernel_2604\\3929323490.py:59: FutureWarning: Setting an item of incompatible dtype is deprecated and will raise in a future error of pandas. Value 'https://ecatalog.smpcorp.com/V2/STD/api/part/partsearch?filterType=n&searchType=p&imageSize=80&limit=1&sort=3&catFilter=-All-&yearFilter=-All-&makeFilter=-All-&modelFilter=-All-&engineFilter=-All-&attrCodeFilter=-All-&attrValueFilter=-All-&plkEngineMakeFilter=-All-&plkEngineModelFilter=-All-&plkEngineDispFilter=-All-&filter=Accelerator%20Pedal%20Sensor%20(APS)&start=256' has dtype incompatible with float64, please explicitly cast to a compatible dtype first.\n",
      "  df_temp.loc[0, 'Url'] = url\n",
      "C:\\Users\\YangTeng\\AppData\\Local\\Temp\\ipykernel_2604\\3929323490.py:58: FutureWarning: Setting an item of incompatible dtype is deprecated and will raise in a future error of pandas. Value 'ok' has dtype incompatible with float64, please explicitly cast to a compatible dtype first.\n",
      "  df_temp.loc[0, 'status'] = 'ok'\n",
      "C:\\Users\\YangTeng\\AppData\\Local\\Temp\\ipykernel_2604\\3929323490.py:59: FutureWarning: Setting an item of incompatible dtype is deprecated and will raise in a future error of pandas. Value 'https://ecatalog.smpcorp.com/V2/STD/api/part/partsearch?filterType=n&searchType=p&imageSize=80&limit=1&sort=3&catFilter=-All-&yearFilter=-All-&makeFilter=-All-&modelFilter=-All-&engineFilter=-All-&attrCodeFilter=-All-&attrValueFilter=-All-&plkEngineMakeFilter=-All-&plkEngineModelFilter=-All-&plkEngineDispFilter=-All-&filter=Accelerator%20Pedal%20Sensor%20(APS)&start=261' has dtype incompatible with float64, please explicitly cast to a compatible dtype first.\n",
      "  df_temp.loc[0, 'Url'] = url\n"
     ]
    },
    {
     "name": "stdout",
     "output_type": "stream",
     "text": [
      "https://ecatalog.smpcorp.com/V2/STD/api/part/partsearch?filterType=n&searchType=p&imageSize=80&limit=1&sort=3&catFilter=-All-&yearFilter=-All-&makeFilter=-All-&modelFilter=-All-&engineFilter=-All-&attrCodeFilter=-All-&attrValueFilter=-All-&plkEngineMakeFilter=-All-&plkEngineModelFilter=-All-&plkEngineDispFilter=-All-&filter=Accelerator%20Pedal%20Sensor%20(APS)&start=252  <->  [ok] - 剩余数量：196\n",
      "https://ecatalog.smpcorp.com/V2/STD/api/part/partsearch?filterType=n&searchType=p&imageSize=80&limit=1&sort=3&catFilter=-All-&yearFilter=-All-&makeFilter=-All-&modelFilter=-All-&engineFilter=-All-&attrCodeFilter=-All-&attrValueFilter=-All-&plkEngineMakeFilter=-All-&plkEngineModelFilter=-All-&plkEngineDispFilter=-All-&filter=Accelerator%20Pedal%20Sensor%20(APS)&start=256  <->  [ok] - 剩余数量：195\n",
      "https://ecatalog.smpcorp.com/V2/STD/api/part/partsearch?filterType=n&searchType=p&imageSize=80&limit=1&sort=3&catFilter=-All-&yearFilter=-All-&makeFilter=-All-&modelFilter=-All-&engineFilter=-All-&attrCodeFilter=-All-&attrValueFilter=-All-&plkEngineMakeFilter=-All-&plkEngineModelFilter=-All-&plkEngineDispFilter=-All-&filter=Accelerator%20Pedal%20Sensor%20(APS)&start=261  <->  [ok] - 剩余数量：194\n"
     ]
    },
    {
     "name": "stderr",
     "output_type": "stream",
     "text": [
      "C:\\Users\\YangTeng\\AppData\\Local\\Temp\\ipykernel_2604\\3929323490.py:58: FutureWarning: Setting an item of incompatible dtype is deprecated and will raise in a future error of pandas. Value 'ok' has dtype incompatible with float64, please explicitly cast to a compatible dtype first.\n",
      "  df_temp.loc[0, 'status'] = 'ok'\n",
      "C:\\Users\\YangTeng\\AppData\\Local\\Temp\\ipykernel_2604\\3929323490.py:59: FutureWarning: Setting an item of incompatible dtype is deprecated and will raise in a future error of pandas. Value 'https://ecatalog.smpcorp.com/V2/STD/api/part/partsearch?filterType=n&searchType=p&imageSize=80&limit=1&sort=3&catFilter=-All-&yearFilter=-All-&makeFilter=-All-&modelFilter=-All-&engineFilter=-All-&attrCodeFilter=-All-&attrValueFilter=-All-&plkEngineMakeFilter=-All-&plkEngineModelFilter=-All-&plkEngineDispFilter=-All-&filter=Accelerator%20Pedal%20Sensor%20(APS)&start=255' has dtype incompatible with float64, please explicitly cast to a compatible dtype first.\n",
      "  df_temp.loc[0, 'Url'] = url\n"
     ]
    },
    {
     "name": "stdout",
     "output_type": "stream",
     "text": [
      "https://ecatalog.smpcorp.com/V2/STD/api/part/partsearch?filterType=n&searchType=p&imageSize=80&limit=1&sort=3&catFilter=-All-&yearFilter=-All-&makeFilter=-All-&modelFilter=-All-&engineFilter=-All-&attrCodeFilter=-All-&attrValueFilter=-All-&plkEngineMakeFilter=-All-&plkEngineModelFilter=-All-&plkEngineDispFilter=-All-&filter=Accelerator%20Pedal%20Sensor%20(APS)&start=255  <->  [ok] - 剩余数量：193\n"
     ]
    },
    {
     "name": "stderr",
     "output_type": "stream",
     "text": [
      "C:\\Users\\YangTeng\\AppData\\Local\\Temp\\ipykernel_2604\\3929323490.py:58: FutureWarning: Setting an item of incompatible dtype is deprecated and will raise in a future error of pandas. Value 'ok' has dtype incompatible with float64, please explicitly cast to a compatible dtype first.\n",
      "  df_temp.loc[0, 'status'] = 'ok'\n",
      "C:\\Users\\YangTeng\\AppData\\Local\\Temp\\ipykernel_2604\\3929323490.py:59: FutureWarning: Setting an item of incompatible dtype is deprecated and will raise in a future error of pandas. Value 'https://ecatalog.smpcorp.com/V2/STD/api/part/partsearch?filterType=n&searchType=p&imageSize=80&limit=1&sort=3&catFilter=-All-&yearFilter=-All-&makeFilter=-All-&modelFilter=-All-&engineFilter=-All-&attrCodeFilter=-All-&attrValueFilter=-All-&plkEngineMakeFilter=-All-&plkEngineModelFilter=-All-&plkEngineDispFilter=-All-&filter=Accelerator%20Pedal%20Sensor%20(APS)&start=263' has dtype incompatible with float64, please explicitly cast to a compatible dtype first.\n",
      "  df_temp.loc[0, 'Url'] = url\n"
     ]
    },
    {
     "name": "stdout",
     "output_type": "stream",
     "text": [
      "https://ecatalog.smpcorp.com/V2/STD/api/part/partsearch?filterType=n&searchType=p&imageSize=80&limit=1&sort=3&catFilter=-All-&yearFilter=-All-&makeFilter=-All-&modelFilter=-All-&engineFilter=-All-&attrCodeFilter=-All-&attrValueFilter=-All-&plkEngineMakeFilter=-All-&plkEngineModelFilter=-All-&plkEngineDispFilter=-All-&filter=Accelerator%20Pedal%20Sensor%20(APS)&start=263  <->  [ok] - 剩余数量：192\n"
     ]
    },
    {
     "name": "stderr",
     "output_type": "stream",
     "text": [
      "C:\\Users\\YangTeng\\AppData\\Local\\Temp\\ipykernel_2604\\3929323490.py:58: FutureWarning: Setting an item of incompatible dtype is deprecated and will raise in a future error of pandas. Value 'ok' has dtype incompatible with float64, please explicitly cast to a compatible dtype first.\n",
      "  df_temp.loc[0, 'status'] = 'ok'\n",
      "C:\\Users\\YangTeng\\AppData\\Local\\Temp\\ipykernel_2604\\3929323490.py:59: FutureWarning: Setting an item of incompatible dtype is deprecated and will raise in a future error of pandas. Value 'https://ecatalog.smpcorp.com/V2/STD/api/part/partsearch?filterType=n&searchType=p&imageSize=80&limit=1&sort=3&catFilter=-All-&yearFilter=-All-&makeFilter=-All-&modelFilter=-All-&engineFilter=-All-&attrCodeFilter=-All-&attrValueFilter=-All-&plkEngineMakeFilter=-All-&plkEngineModelFilter=-All-&plkEngineDispFilter=-All-&filter=Accelerator%20Pedal%20Sensor%20(APS)&start=265' has dtype incompatible with float64, please explicitly cast to a compatible dtype first.\n",
      "  df_temp.loc[0, 'Url'] = url\n",
      "C:\\Users\\YangTeng\\AppData\\Local\\Temp\\ipykernel_2604\\3929323490.py:58: FutureWarning: Setting an item of incompatible dtype is deprecated and will raise in a future error of pandas. Value 'ok' has dtype incompatible with float64, please explicitly cast to a compatible dtype first.\n",
      "  df_temp.loc[0, 'status'] = 'ok'\n",
      "C:\\Users\\YangTeng\\AppData\\Local\\Temp\\ipykernel_2604\\3929323490.py:59: FutureWarning: Setting an item of incompatible dtype is deprecated and will raise in a future error of pandas. Value 'https://ecatalog.smpcorp.com/V2/STD/api/part/partsearch?filterType=n&searchType=p&imageSize=80&limit=1&sort=3&catFilter=-All-&yearFilter=-All-&makeFilter=-All-&modelFilter=-All-&engineFilter=-All-&attrCodeFilter=-All-&attrValueFilter=-All-&plkEngineMakeFilter=-All-&plkEngineModelFilter=-All-&plkEngineDispFilter=-All-&filter=Accelerator%20Pedal%20Sensor%20(APS)&start=259' has dtype incompatible with float64, please explicitly cast to a compatible dtype first.\n",
      "  df_temp.loc[0, 'Url'] = url\n",
      "C:\\Users\\YangTeng\\AppData\\Local\\Temp\\ipykernel_2604\\3929323490.py:58: FutureWarning: Setting an item of incompatible dtype is deprecated and will raise in a future error of pandas. Value 'ok' has dtype incompatible with float64, please explicitly cast to a compatible dtype first.\n",
      "  df_temp.loc[0, 'status'] = 'ok'\n",
      "C:\\Users\\YangTeng\\AppData\\Local\\Temp\\ipykernel_2604\\3929323490.py:59: FutureWarning: Setting an item of incompatible dtype is deprecated and will raise in a future error of pandas. Value 'https://ecatalog.smpcorp.com/V2/STD/api/part/partsearch?filterType=n&searchType=p&imageSize=80&limit=1&sort=3&catFilter=-All-&yearFilter=-All-&makeFilter=-All-&modelFilter=-All-&engineFilter=-All-&attrCodeFilter=-All-&attrValueFilter=-All-&plkEngineMakeFilter=-All-&plkEngineModelFilter=-All-&plkEngineDispFilter=-All-&filter=Accelerator%20Pedal%20Sensor%20(APS)&start=258' has dtype incompatible with float64, please explicitly cast to a compatible dtype first.\n",
      "  df_temp.loc[0, 'Url'] = url\n",
      "C:\\Users\\YangTeng\\AppData\\Local\\Temp\\ipykernel_2604\\3929323490.py:58: FutureWarning: Setting an item of incompatible dtype is deprecated and will raise in a future error of pandas. Value 'ok' has dtype incompatible with float64, please explicitly cast to a compatible dtype first.\n",
      "  df_temp.loc[0, 'status'] = 'ok'\n",
      "C:\\Users\\YangTeng\\AppData\\Local\\Temp\\ipykernel_2604\\3929323490.py:59: FutureWarning: Setting an item of incompatible dtype is deprecated and will raise in a future error of pandas. Value 'https://ecatalog.smpcorp.com/V2/STD/api/part/partsearch?filterType=n&searchType=p&imageSize=80&limit=1&sort=3&catFilter=-All-&yearFilter=-All-&makeFilter=-All-&modelFilter=-All-&engineFilter=-All-&attrCodeFilter=-All-&attrValueFilter=-All-&plkEngineMakeFilter=-All-&plkEngineModelFilter=-All-&plkEngineDispFilter=-All-&filter=Accelerator%20Pedal%20Sensor%20(APS)&start=154' has dtype incompatible with float64, please explicitly cast to a compatible dtype first.\n",
      "  df_temp.loc[0, 'Url'] = url\n",
      "C:\\Users\\YangTeng\\AppData\\Local\\Temp\\ipykernel_2604\\3929323490.py:58: FutureWarning: Setting an item of incompatible dtype is deprecated and will raise in a future error of pandas. Value 'ok' has dtype incompatible with float64, please explicitly cast to a compatible dtype first.\n",
      "  df_temp.loc[0, 'status'] = 'ok'\n",
      "C:\\Users\\YangTeng\\AppData\\Local\\Temp\\ipykernel_2604\\3929323490.py:59: FutureWarning: Setting an item of incompatible dtype is deprecated and will raise in a future error of pandas. Value 'https://ecatalog.smpcorp.com/V2/STD/api/part/partsearch?filterType=n&searchType=p&imageSize=80&limit=1&sort=3&catFilter=-All-&yearFilter=-All-&makeFilter=-All-&modelFilter=-All-&engineFilter=-All-&attrCodeFilter=-All-&attrValueFilter=-All-&plkEngineMakeFilter=-All-&plkEngineModelFilter=-All-&plkEngineDispFilter=-All-&filter=Accelerator%20Pedal%20Sensor%20(APS)&start=260' has dtype incompatible with float64, please explicitly cast to a compatible dtype first.\n",
      "  df_temp.loc[0, 'Url'] = url\n"
     ]
    },
    {
     "name": "stdout",
     "output_type": "stream",
     "text": [
      "https://ecatalog.smpcorp.com/V2/STD/api/part/partsearch?filterType=n&searchType=p&imageSize=80&limit=1&sort=3&catFilter=-All-&yearFilter=-All-&makeFilter=-All-&modelFilter=-All-&engineFilter=-All-&attrCodeFilter=-All-&attrValueFilter=-All-&plkEngineMakeFilter=-All-&plkEngineModelFilter=-All-&plkEngineDispFilter=-All-&filter=Accelerator%20Pedal%20Sensor%20(APS)&start=265  <->  [ok] - 剩余数量：191\n",
      "https://ecatalog.smpcorp.com/V2/STD/api/part/partsearch?filterType=n&searchType=p&imageSize=80&limit=1&sort=3&catFilter=-All-&yearFilter=-All-&makeFilter=-All-&modelFilter=-All-&engineFilter=-All-&attrCodeFilter=-All-&attrValueFilter=-All-&plkEngineMakeFilter=-All-&plkEngineModelFilter=-All-&plkEngineDispFilter=-All-&filter=Accelerator%20Pedal%20Sensor%20(APS)&start=259  <->  [ok] - 剩余数量：190\n",
      "https://ecatalog.smpcorp.com/V2/STD/api/part/partsearch?filterType=n&searchType=p&imageSize=80&limit=1&sort=3&catFilter=-All-&yearFilter=-All-&makeFilter=-All-&modelFilter=-All-&engineFilter=-All-&attrCodeFilter=-All-&attrValueFilter=-All-&plkEngineMakeFilter=-All-&plkEngineModelFilter=-All-&plkEngineDispFilter=-All-&filter=Accelerator%20Pedal%20Sensor%20(APS)&start=258  <->  [ok] - 剩余数量：189\n",
      "https://ecatalog.smpcorp.com/V2/STD/api/part/partsearch?filterType=n&searchType=p&imageSize=80&limit=1&sort=3&catFilter=-All-&yearFilter=-All-&makeFilter=-All-&modelFilter=-All-&engineFilter=-All-&attrCodeFilter=-All-&attrValueFilter=-All-&plkEngineMakeFilter=-All-&plkEngineModelFilter=-All-&plkEngineDispFilter=-All-&filter=Accelerator%20Pedal%20Sensor%20(APS)&start=154  <->  [ok] - 剩余数量：188\n",
      "https://ecatalog.smpcorp.com/V2/STD/api/part/partsearch?filterType=n&searchType=p&imageSize=80&limit=1&sort=3&catFilter=-All-&yearFilter=-All-&makeFilter=-All-&modelFilter=-All-&engineFilter=-All-&attrCodeFilter=-All-&attrValueFilter=-All-&plkEngineMakeFilter=-All-&plkEngineModelFilter=-All-&plkEngineDispFilter=-All-&filter=Accelerator%20Pedal%20Sensor%20(APS)&start=260  <->  [ok] - 剩余数量：187\n"
     ]
    },
    {
     "name": "stderr",
     "output_type": "stream",
     "text": [
      "C:\\Users\\YangTeng\\AppData\\Local\\Temp\\ipykernel_2604\\3929323490.py:58: FutureWarning: Setting an item of incompatible dtype is deprecated and will raise in a future error of pandas. Value 'ok' has dtype incompatible with float64, please explicitly cast to a compatible dtype first.\n",
      "  df_temp.loc[0, 'status'] = 'ok'\n",
      "C:\\Users\\YangTeng\\AppData\\Local\\Temp\\ipykernel_2604\\3929323490.py:59: FutureWarning: Setting an item of incompatible dtype is deprecated and will raise in a future error of pandas. Value 'https://ecatalog.smpcorp.com/V2/STD/api/part/partsearch?filterType=n&searchType=p&imageSize=80&limit=1&sort=3&catFilter=-All-&yearFilter=-All-&makeFilter=-All-&modelFilter=-All-&engineFilter=-All-&attrCodeFilter=-All-&attrValueFilter=-All-&plkEngineMakeFilter=-All-&plkEngineModelFilter=-All-&plkEngineDispFilter=-All-&filter=Accelerator%20Pedal%20Sensor%20(APS)&start=271' has dtype incompatible with float64, please explicitly cast to a compatible dtype first.\n",
      "  df_temp.loc[0, 'Url'] = url\n",
      "C:\\Users\\YangTeng\\AppData\\Local\\Temp\\ipykernel_2604\\3929323490.py:58: FutureWarning: Setting an item of incompatible dtype is deprecated and will raise in a future error of pandas. Value 'ok' has dtype incompatible with float64, please explicitly cast to a compatible dtype first.\n",
      "  df_temp.loc[0, 'status'] = 'ok'\n",
      "C:\\Users\\YangTeng\\AppData\\Local\\Temp\\ipykernel_2604\\3929323490.py:59: FutureWarning: Setting an item of incompatible dtype is deprecated and will raise in a future error of pandas. Value 'https://ecatalog.smpcorp.com/V2/STD/api/part/partsearch?filterType=n&searchType=p&imageSize=80&limit=1&sort=3&catFilter=-All-&yearFilter=-All-&makeFilter=-All-&modelFilter=-All-&engineFilter=-All-&attrCodeFilter=-All-&attrValueFilter=-All-&plkEngineMakeFilter=-All-&plkEngineModelFilter=-All-&plkEngineDispFilter=-All-&filter=Accelerator%20Pedal%20Sensor%20(APS)&start=270' has dtype incompatible with float64, please explicitly cast to a compatible dtype first.\n",
      "  df_temp.loc[0, 'Url'] = url\n",
      "C:\\Users\\YangTeng\\AppData\\Local\\Temp\\ipykernel_2604\\3929323490.py:58: FutureWarning: Setting an item of incompatible dtype is deprecated and will raise in a future error of pandas. Value 'ok' has dtype incompatible with float64, please explicitly cast to a compatible dtype first.\n",
      "  df_temp.loc[0, 'status'] = 'ok'\n",
      "C:\\Users\\YangTeng\\AppData\\Local\\Temp\\ipykernel_2604\\3929323490.py:59: FutureWarning: Setting an item of incompatible dtype is deprecated and will raise in a future error of pandas. Value 'https://ecatalog.smpcorp.com/V2/STD/api/part/partsearch?filterType=n&searchType=p&imageSize=80&limit=1&sort=3&catFilter=-All-&yearFilter=-All-&makeFilter=-All-&modelFilter=-All-&engineFilter=-All-&attrCodeFilter=-All-&attrValueFilter=-All-&plkEngineMakeFilter=-All-&plkEngineModelFilter=-All-&plkEngineDispFilter=-All-&filter=Accelerator%20Pedal%20Sensor%20(APS)&start=273' has dtype incompatible with float64, please explicitly cast to a compatible dtype first.\n",
      "  df_temp.loc[0, 'Url'] = url\n"
     ]
    },
    {
     "name": "stdout",
     "output_type": "stream",
     "text": [
      "https://ecatalog.smpcorp.com/V2/STD/api/part/partsearch?filterType=n&searchType=p&imageSize=80&limit=1&sort=3&catFilter=-All-&yearFilter=-All-&makeFilter=-All-&modelFilter=-All-&engineFilter=-All-&attrCodeFilter=-All-&attrValueFilter=-All-&plkEngineMakeFilter=-All-&plkEngineModelFilter=-All-&plkEngineDispFilter=-All-&filter=Accelerator%20Pedal%20Sensor%20(APS)&start=271  <->  [ok] - 剩余数量：186\n",
      "https://ecatalog.smpcorp.com/V2/STD/api/part/partsearch?filterType=n&searchType=p&imageSize=80&limit=1&sort=3&catFilter=-All-&yearFilter=-All-&makeFilter=-All-&modelFilter=-All-&engineFilter=-All-&attrCodeFilter=-All-&attrValueFilter=-All-&plkEngineMakeFilter=-All-&plkEngineModelFilter=-All-&plkEngineDispFilter=-All-&filter=Accelerator%20Pedal%20Sensor%20(APS)&start=270  <->  [ok] - 剩余数量：185\n",
      "https://ecatalog.smpcorp.com/V2/STD/api/part/partsearch?filterType=n&searchType=p&imageSize=80&limit=1&sort=3&catFilter=-All-&yearFilter=-All-&makeFilter=-All-&modelFilter=-All-&engineFilter=-All-&attrCodeFilter=-All-&attrValueFilter=-All-&plkEngineMakeFilter=-All-&plkEngineModelFilter=-All-&plkEngineDispFilter=-All-&filter=Accelerator%20Pedal%20Sensor%20(APS)&start=273  <->  [ok] - 剩余数量：184\n"
     ]
    },
    {
     "name": "stderr",
     "output_type": "stream",
     "text": [
      "C:\\Users\\YangTeng\\AppData\\Local\\Temp\\ipykernel_2604\\3929323490.py:58: FutureWarning: Setting an item of incompatible dtype is deprecated and will raise in a future error of pandas. Value 'ok' has dtype incompatible with float64, please explicitly cast to a compatible dtype first.\n",
      "  df_temp.loc[0, 'status'] = 'ok'\n",
      "C:\\Users\\YangTeng\\AppData\\Local\\Temp\\ipykernel_2604\\3929323490.py:59: FutureWarning: Setting an item of incompatible dtype is deprecated and will raise in a future error of pandas. Value 'https://ecatalog.smpcorp.com/V2/STD/api/part/partsearch?filterType=n&searchType=p&imageSize=80&limit=1&sort=3&catFilter=-All-&yearFilter=-All-&makeFilter=-All-&modelFilter=-All-&engineFilter=-All-&attrCodeFilter=-All-&attrValueFilter=-All-&plkEngineMakeFilter=-All-&plkEngineModelFilter=-All-&plkEngineDispFilter=-All-&filter=Accelerator%20Pedal%20Sensor%20(APS)&start=268' has dtype incompatible with float64, please explicitly cast to a compatible dtype first.\n",
      "  df_temp.loc[0, 'Url'] = url\n",
      "C:\\Users\\YangTeng\\AppData\\Local\\Temp\\ipykernel_2604\\3929323490.py:58: FutureWarning: Setting an item of incompatible dtype is deprecated and will raise in a future error of pandas. Value 'ok' has dtype incompatible with float64, please explicitly cast to a compatible dtype first.\n",
      "  df_temp.loc[0, 'status'] = 'ok'\n",
      "C:\\Users\\YangTeng\\AppData\\Local\\Temp\\ipykernel_2604\\3929323490.py:59: FutureWarning: Setting an item of incompatible dtype is deprecated and will raise in a future error of pandas. Value 'https://ecatalog.smpcorp.com/V2/STD/api/part/partsearch?filterType=n&searchType=p&imageSize=80&limit=1&sort=3&catFilter=-All-&yearFilter=-All-&makeFilter=-All-&modelFilter=-All-&engineFilter=-All-&attrCodeFilter=-All-&attrValueFilter=-All-&plkEngineMakeFilter=-All-&plkEngineModelFilter=-All-&plkEngineDispFilter=-All-&filter=Accelerator%20Pedal%20Sensor%20(APS)&start=269' has dtype incompatible with float64, please explicitly cast to a compatible dtype first.\n",
      "  df_temp.loc[0, 'Url'] = url\n",
      "C:\\Users\\YangTeng\\AppData\\Local\\Temp\\ipykernel_2604\\3929323490.py:58: FutureWarning: Setting an item of incompatible dtype is deprecated and will raise in a future error of pandas. Value 'ok' has dtype incompatible with float64, please explicitly cast to a compatible dtype first.\n",
      "  df_temp.loc[0, 'status'] = 'ok'\n",
      "C:\\Users\\YangTeng\\AppData\\Local\\Temp\\ipykernel_2604\\3929323490.py:59: FutureWarning: Setting an item of incompatible dtype is deprecated and will raise in a future error of pandas. Value 'https://ecatalog.smpcorp.com/V2/STD/api/part/partsearch?filterType=n&searchType=p&imageSize=80&limit=1&sort=3&catFilter=-All-&yearFilter=-All-&makeFilter=-All-&modelFilter=-All-&engineFilter=-All-&attrCodeFilter=-All-&attrValueFilter=-All-&plkEngineMakeFilter=-All-&plkEngineModelFilter=-All-&plkEngineDispFilter=-All-&filter=Accelerator%20Pedal%20Sensor%20(APS)&start=264' has dtype incompatible with float64, please explicitly cast to a compatible dtype first.\n",
      "  df_temp.loc[0, 'Url'] = url\n",
      "C:\\Users\\YangTeng\\AppData\\Local\\Temp\\ipykernel_2604\\3929323490.py:58: FutureWarning: Setting an item of incompatible dtype is deprecated and will raise in a future error of pandas. Value 'ok' has dtype incompatible with float64, please explicitly cast to a compatible dtype first.\n",
      "  df_temp.loc[0, 'status'] = 'ok'\n",
      "C:\\Users\\YangTeng\\AppData\\Local\\Temp\\ipykernel_2604\\3929323490.py:59: FutureWarning: Setting an item of incompatible dtype is deprecated and will raise in a future error of pandas. Value 'https://ecatalog.smpcorp.com/V2/STD/api/part/partsearch?filterType=n&searchType=p&imageSize=80&limit=1&sort=3&catFilter=-All-&yearFilter=-All-&makeFilter=-All-&modelFilter=-All-&engineFilter=-All-&attrCodeFilter=-All-&attrValueFilter=-All-&plkEngineMakeFilter=-All-&plkEngineModelFilter=-All-&plkEngineDispFilter=-All-&filter=Accelerator%20Pedal%20Sensor%20(APS)&start=272' has dtype incompatible with float64, please explicitly cast to a compatible dtype first.\n",
      "  df_temp.loc[0, 'Url'] = url\n",
      "C:\\Users\\YangTeng\\AppData\\Local\\Temp\\ipykernel_2604\\3929323490.py:58: FutureWarning: Setting an item of incompatible dtype is deprecated and will raise in a future error of pandas. Value 'ok' has dtype incompatible with float64, please explicitly cast to a compatible dtype first.\n",
      "  df_temp.loc[0, 'status'] = 'ok'\n",
      "C:\\Users\\YangTeng\\AppData\\Local\\Temp\\ipykernel_2604\\3929323490.py:59: FutureWarning: Setting an item of incompatible dtype is deprecated and will raise in a future error of pandas. Value 'https://ecatalog.smpcorp.com/V2/STD/api/part/partsearch?filterType=n&searchType=p&imageSize=80&limit=1&sort=3&catFilter=-All-&yearFilter=-All-&makeFilter=-All-&modelFilter=-All-&engineFilter=-All-&attrCodeFilter=-All-&attrValueFilter=-All-&plkEngineMakeFilter=-All-&plkEngineModelFilter=-All-&plkEngineDispFilter=-All-&filter=Accelerator%20Pedal%20Sensor%20(APS)&start=267' has dtype incompatible with float64, please explicitly cast to a compatible dtype first.\n",
      "  df_temp.loc[0, 'Url'] = url\n"
     ]
    },
    {
     "name": "stdout",
     "output_type": "stream",
     "text": [
      "https://ecatalog.smpcorp.com/V2/STD/api/part/partsearch?filterType=n&searchType=p&imageSize=80&limit=1&sort=3&catFilter=-All-&yearFilter=-All-&makeFilter=-All-&modelFilter=-All-&engineFilter=-All-&attrCodeFilter=-All-&attrValueFilter=-All-&plkEngineMakeFilter=-All-&plkEngineModelFilter=-All-&plkEngineDispFilter=-All-&filter=Accelerator%20Pedal%20Sensor%20(APS)&start=268  <->  [ok] - 剩余数量：183\n",
      "https://ecatalog.smpcorp.com/V2/STD/api/part/partsearch?filterType=n&searchType=p&imageSize=80&limit=1&sort=3&catFilter=-All-&yearFilter=-All-&makeFilter=-All-&modelFilter=-All-&engineFilter=-All-&attrCodeFilter=-All-&attrValueFilter=-All-&plkEngineMakeFilter=-All-&plkEngineModelFilter=-All-&plkEngineDispFilter=-All-&filter=Accelerator%20Pedal%20Sensor%20(APS)&start=269  <->  [ok] - 剩余数量：182\n",
      "https://ecatalog.smpcorp.com/V2/STD/api/part/partsearch?filterType=n&searchType=p&imageSize=80&limit=1&sort=3&catFilter=-All-&yearFilter=-All-&makeFilter=-All-&modelFilter=-All-&engineFilter=-All-&attrCodeFilter=-All-&attrValueFilter=-All-&plkEngineMakeFilter=-All-&plkEngineModelFilter=-All-&plkEngineDispFilter=-All-&filter=Accelerator%20Pedal%20Sensor%20(APS)&start=264  <->  [ok] - 剩余数量：181\n",
      "https://ecatalog.smpcorp.com/V2/STD/api/part/partsearch?filterType=n&searchType=p&imageSize=80&limit=1&sort=3&catFilter=-All-&yearFilter=-All-&makeFilter=-All-&modelFilter=-All-&engineFilter=-All-&attrCodeFilter=-All-&attrValueFilter=-All-&plkEngineMakeFilter=-All-&plkEngineModelFilter=-All-&plkEngineDispFilter=-All-&filter=Accelerator%20Pedal%20Sensor%20(APS)&start=272  <->  [ok] - 剩余数量：180\n",
      "https://ecatalog.smpcorp.com/V2/STD/api/part/partsearch?filterType=n&searchType=p&imageSize=80&limit=1&sort=3&catFilter=-All-&yearFilter=-All-&makeFilter=-All-&modelFilter=-All-&engineFilter=-All-&attrCodeFilter=-All-&attrValueFilter=-All-&plkEngineMakeFilter=-All-&plkEngineModelFilter=-All-&plkEngineDispFilter=-All-&filter=Accelerator%20Pedal%20Sensor%20(APS)&start=267  <->  [ok] - 剩余数量：179\n"
     ]
    },
    {
     "name": "stderr",
     "output_type": "stream",
     "text": [
      "C:\\Users\\YangTeng\\AppData\\Local\\Temp\\ipykernel_2604\\3929323490.py:58: FutureWarning: Setting an item of incompatible dtype is deprecated and will raise in a future error of pandas. Value 'ok' has dtype incompatible with float64, please explicitly cast to a compatible dtype first.\n",
      "  df_temp.loc[0, 'status'] = 'ok'\n",
      "C:\\Users\\YangTeng\\AppData\\Local\\Temp\\ipykernel_2604\\3929323490.py:59: FutureWarning: Setting an item of incompatible dtype is deprecated and will raise in a future error of pandas. Value 'https://ecatalog.smpcorp.com/V2/STD/api/part/partsearch?filterType=n&searchType=p&imageSize=80&limit=1&sort=3&catFilter=-All-&yearFilter=-All-&makeFilter=-All-&modelFilter=-All-&engineFilter=-All-&attrCodeFilter=-All-&attrValueFilter=-All-&plkEngineMakeFilter=-All-&plkEngineModelFilter=-All-&plkEngineDispFilter=-All-&filter=Accelerator%20Pedal%20Sensor%20(APS)&start=212' has dtype incompatible with float64, please explicitly cast to a compatible dtype first.\n",
      "  df_temp.loc[0, 'Url'] = url\n",
      "C:\\Users\\YangTeng\\AppData\\Local\\Temp\\ipykernel_2604\\3929323490.py:58: FutureWarning: Setting an item of incompatible dtype is deprecated and will raise in a future error of pandas. Value 'ok' has dtype incompatible with float64, please explicitly cast to a compatible dtype first.\n",
      "  df_temp.loc[0, 'status'] = 'ok'\n",
      "C:\\Users\\YangTeng\\AppData\\Local\\Temp\\ipykernel_2604\\3929323490.py:59: FutureWarning: Setting an item of incompatible dtype is deprecated and will raise in a future error of pandas. Value 'https://ecatalog.smpcorp.com/V2/STD/api/part/partsearch?filterType=n&searchType=p&imageSize=80&limit=1&sort=3&catFilter=-All-&yearFilter=-All-&makeFilter=-All-&modelFilter=-All-&engineFilter=-All-&attrCodeFilter=-All-&attrValueFilter=-All-&plkEngineMakeFilter=-All-&plkEngineModelFilter=-All-&plkEngineDispFilter=-All-&filter=Accelerator%20Pedal%20Sensor%20(APS)&start=279' has dtype incompatible with float64, please explicitly cast to a compatible dtype first.\n",
      "  df_temp.loc[0, 'Url'] = url\n",
      "C:\\Users\\YangTeng\\AppData\\Local\\Temp\\ipykernel_2604\\3929323490.py:58: FutureWarning: Setting an item of incompatible dtype is deprecated and will raise in a future error of pandas. Value 'ok' has dtype incompatible with float64, please explicitly cast to a compatible dtype first.\n",
      "  df_temp.loc[0, 'status'] = 'ok'\n",
      "C:\\Users\\YangTeng\\AppData\\Local\\Temp\\ipykernel_2604\\3929323490.py:59: FutureWarning: Setting an item of incompatible dtype is deprecated and will raise in a future error of pandas. Value 'https://ecatalog.smpcorp.com/V2/STD/api/part/partsearch?filterType=n&searchType=p&imageSize=80&limit=1&sort=3&catFilter=-All-&yearFilter=-All-&makeFilter=-All-&modelFilter=-All-&engineFilter=-All-&attrCodeFilter=-All-&attrValueFilter=-All-&plkEngineMakeFilter=-All-&plkEngineModelFilter=-All-&plkEngineDispFilter=-All-&filter=Accelerator%20Pedal%20Sensor%20(APS)&start=280' has dtype incompatible with float64, please explicitly cast to a compatible dtype first.\n",
      "  df_temp.loc[0, 'Url'] = url\n"
     ]
    },
    {
     "name": "stdout",
     "output_type": "stream",
     "text": [
      "https://ecatalog.smpcorp.com/V2/STD/api/part/partsearch?filterType=n&searchType=p&imageSize=80&limit=1&sort=3&catFilter=-All-&yearFilter=-All-&makeFilter=-All-&modelFilter=-All-&engineFilter=-All-&attrCodeFilter=-All-&attrValueFilter=-All-&plkEngineMakeFilter=-All-&plkEngineModelFilter=-All-&plkEngineDispFilter=-All-&filter=Accelerator%20Pedal%20Sensor%20(APS)&start=212  <->  [ok] - 剩余数量：178\n",
      "https://ecatalog.smpcorp.com/V2/STD/api/part/partsearch?filterType=n&searchType=p&imageSize=80&limit=1&sort=3&catFilter=-All-&yearFilter=-All-&makeFilter=-All-&modelFilter=-All-&engineFilter=-All-&attrCodeFilter=-All-&attrValueFilter=-All-&plkEngineMakeFilter=-All-&plkEngineModelFilter=-All-&plkEngineDispFilter=-All-&filter=Accelerator%20Pedal%20Sensor%20(APS)&start=279  <->  [ok] - 剩余数量：177\n",
      "https://ecatalog.smpcorp.com/V2/STD/api/part/partsearch?filterType=n&searchType=p&imageSize=80&limit=1&sort=3&catFilter=-All-&yearFilter=-All-&makeFilter=-All-&modelFilter=-All-&engineFilter=-All-&attrCodeFilter=-All-&attrValueFilter=-All-&plkEngineMakeFilter=-All-&plkEngineModelFilter=-All-&plkEngineDispFilter=-All-&filter=Accelerator%20Pedal%20Sensor%20(APS)&start=280  <->  [ok] - 剩余数量：176\n"
     ]
    },
    {
     "name": "stderr",
     "output_type": "stream",
     "text": [
      "C:\\Users\\YangTeng\\AppData\\Local\\Temp\\ipykernel_2604\\3929323490.py:58: FutureWarning: Setting an item of incompatible dtype is deprecated and will raise in a future error of pandas. Value 'ok' has dtype incompatible with float64, please explicitly cast to a compatible dtype first.\n",
      "  df_temp.loc[0, 'status'] = 'ok'\n",
      "C:\\Users\\YangTeng\\AppData\\Local\\Temp\\ipykernel_2604\\3929323490.py:59: FutureWarning: Setting an item of incompatible dtype is deprecated and will raise in a future error of pandas. Value 'https://ecatalog.smpcorp.com/V2/STD/api/part/partsearch?filterType=n&searchType=p&imageSize=80&limit=1&sort=3&catFilter=-All-&yearFilter=-All-&makeFilter=-All-&modelFilter=-All-&engineFilter=-All-&attrCodeFilter=-All-&attrValueFilter=-All-&plkEngineMakeFilter=-All-&plkEngineModelFilter=-All-&plkEngineDispFilter=-All-&filter=Accelerator%20Pedal%20Sensor%20(APS)&start=276' has dtype incompatible with float64, please explicitly cast to a compatible dtype first.\n",
      "  df_temp.loc[0, 'Url'] = url\n"
     ]
    },
    {
     "name": "stdout",
     "output_type": "stream",
     "text": [
      "https://ecatalog.smpcorp.com/V2/STD/api/part/partsearch?filterType=n&searchType=p&imageSize=80&limit=1&sort=3&catFilter=-All-&yearFilter=-All-&makeFilter=-All-&modelFilter=-All-&engineFilter=-All-&attrCodeFilter=-All-&attrValueFilter=-All-&plkEngineMakeFilter=-All-&plkEngineModelFilter=-All-&plkEngineDispFilter=-All-&filter=Accelerator%20Pedal%20Sensor%20(APS)&start=276  <->  [ok] - 剩余数量：175\n"
     ]
    },
    {
     "name": "stderr",
     "output_type": "stream",
     "text": [
      "C:\\Users\\YangTeng\\AppData\\Local\\Temp\\ipykernel_2604\\3929323490.py:58: FutureWarning: Setting an item of incompatible dtype is deprecated and will raise in a future error of pandas. Value 'ok' has dtype incompatible with float64, please explicitly cast to a compatible dtype first.\n",
      "  df_temp.loc[0, 'status'] = 'ok'\n",
      "C:\\Users\\YangTeng\\AppData\\Local\\Temp\\ipykernel_2604\\3929323490.py:59: FutureWarning: Setting an item of incompatible dtype is deprecated and will raise in a future error of pandas. Value 'https://ecatalog.smpcorp.com/V2/STD/api/part/partsearch?filterType=n&searchType=p&imageSize=80&limit=1&sort=3&catFilter=-All-&yearFilter=-All-&makeFilter=-All-&modelFilter=-All-&engineFilter=-All-&attrCodeFilter=-All-&attrValueFilter=-All-&plkEngineMakeFilter=-All-&plkEngineModelFilter=-All-&plkEngineDispFilter=-All-&filter=Accelerator%20Pedal%20Sensor%20(APS)&start=277' has dtype incompatible with float64, please explicitly cast to a compatible dtype first.\n",
      "  df_temp.loc[0, 'Url'] = url\n"
     ]
    },
    {
     "name": "stdout",
     "output_type": "stream",
     "text": [
      "https://ecatalog.smpcorp.com/V2/STD/api/part/partsearch?filterType=n&searchType=p&imageSize=80&limit=1&sort=3&catFilter=-All-&yearFilter=-All-&makeFilter=-All-&modelFilter=-All-&engineFilter=-All-&attrCodeFilter=-All-&attrValueFilter=-All-&plkEngineMakeFilter=-All-&plkEngineModelFilter=-All-&plkEngineDispFilter=-All-&filter=Accelerator%20Pedal%20Sensor%20(APS)&start=277  <->  [ok] - 剩余数量：174\n"
     ]
    },
    {
     "name": "stderr",
     "output_type": "stream",
     "text": [
      "C:\\Users\\YangTeng\\AppData\\Local\\Temp\\ipykernel_2604\\3929323490.py:58: FutureWarning: Setting an item of incompatible dtype is deprecated and will raise in a future error of pandas. Value 'ok' has dtype incompatible with float64, please explicitly cast to a compatible dtype first.\n",
      "  df_temp.loc[0, 'status'] = 'ok'\n",
      "C:\\Users\\YangTeng\\AppData\\Local\\Temp\\ipykernel_2604\\3929323490.py:59: FutureWarning: Setting an item of incompatible dtype is deprecated and will raise in a future error of pandas. Value 'https://ecatalog.smpcorp.com/V2/STD/api/part/partsearch?filterType=n&searchType=p&imageSize=80&limit=1&sort=3&catFilter=-All-&yearFilter=-All-&makeFilter=-All-&modelFilter=-All-&engineFilter=-All-&attrCodeFilter=-All-&attrValueFilter=-All-&plkEngineMakeFilter=-All-&plkEngineModelFilter=-All-&plkEngineDispFilter=-All-&filter=Accelerator%20Pedal%20Sensor%20(APS)&start=288' has dtype incompatible with float64, please explicitly cast to a compatible dtype first.\n",
      "  df_temp.loc[0, 'Url'] = url\n",
      "C:\\Users\\YangTeng\\AppData\\Local\\Temp\\ipykernel_2604\\3929323490.py:58: FutureWarning: Setting an item of incompatible dtype is deprecated and will raise in a future error of pandas. Value 'ok' has dtype incompatible with float64, please explicitly cast to a compatible dtype first.\n",
      "  df_temp.loc[0, 'status'] = 'ok'\n",
      "C:\\Users\\YangTeng\\AppData\\Local\\Temp\\ipykernel_2604\\3929323490.py:59: FutureWarning: Setting an item of incompatible dtype is deprecated and will raise in a future error of pandas. Value 'https://ecatalog.smpcorp.com/V2/STD/api/part/partsearch?filterType=n&searchType=p&imageSize=80&limit=1&sort=3&catFilter=-All-&yearFilter=-All-&makeFilter=-All-&modelFilter=-All-&engineFilter=-All-&attrCodeFilter=-All-&attrValueFilter=-All-&plkEngineMakeFilter=-All-&plkEngineModelFilter=-All-&plkEngineDispFilter=-All-&filter=Accelerator%20Pedal%20Sensor%20(APS)&start=274' has dtype incompatible with float64, please explicitly cast to a compatible dtype first.\n",
      "  df_temp.loc[0, 'Url'] = url\n"
     ]
    },
    {
     "name": "stdout",
     "output_type": "stream",
     "text": [
      "https://ecatalog.smpcorp.com/V2/STD/api/part/partsearch?filterType=n&searchType=p&imageSize=80&limit=1&sort=3&catFilter=-All-&yearFilter=-All-&makeFilter=-All-&modelFilter=-All-&engineFilter=-All-&attrCodeFilter=-All-&attrValueFilter=-All-&plkEngineMakeFilter=-All-&plkEngineModelFilter=-All-&plkEngineDispFilter=-All-&filter=Accelerator%20Pedal%20Sensor%20(APS)&start=288  <->  [ok] - 剩余数量：173\n",
      "https://ecatalog.smpcorp.com/V2/STD/api/part/partsearch?filterType=n&searchType=p&imageSize=80&limit=1&sort=3&catFilter=-All-&yearFilter=-All-&makeFilter=-All-&modelFilter=-All-&engineFilter=-All-&attrCodeFilter=-All-&attrValueFilter=-All-&plkEngineMakeFilter=-All-&plkEngineModelFilter=-All-&plkEngineDispFilter=-All-&filter=Accelerator%20Pedal%20Sensor%20(APS)&start=274  <->  [ok] - 剩余数量：172\n"
     ]
    },
    {
     "name": "stderr",
     "output_type": "stream",
     "text": [
      "C:\\Users\\YangTeng\\AppData\\Local\\Temp\\ipykernel_2604\\3929323490.py:58: FutureWarning: Setting an item of incompatible dtype is deprecated and will raise in a future error of pandas. Value 'ok' has dtype incompatible with float64, please explicitly cast to a compatible dtype first.\n",
      "  df_temp.loc[0, 'status'] = 'ok'\n",
      "C:\\Users\\YangTeng\\AppData\\Local\\Temp\\ipykernel_2604\\3929323490.py:59: FutureWarning: Setting an item of incompatible dtype is deprecated and will raise in a future error of pandas. Value 'https://ecatalog.smpcorp.com/V2/STD/api/part/partsearch?filterType=n&searchType=p&imageSize=80&limit=1&sort=3&catFilter=-All-&yearFilter=-All-&makeFilter=-All-&modelFilter=-All-&engineFilter=-All-&attrCodeFilter=-All-&attrValueFilter=-All-&plkEngineMakeFilter=-All-&plkEngineModelFilter=-All-&plkEngineDispFilter=-All-&filter=Accelerator%20Pedal%20Sensor%20(APS)&start=287' has dtype incompatible with float64, please explicitly cast to a compatible dtype first.\n",
      "  df_temp.loc[0, 'Url'] = url\n",
      "C:\\Users\\YangTeng\\AppData\\Local\\Temp\\ipykernel_2604\\3929323490.py:58: FutureWarning: Setting an item of incompatible dtype is deprecated and will raise in a future error of pandas. Value 'ok' has dtype incompatible with float64, please explicitly cast to a compatible dtype first.\n",
      "  df_temp.loc[0, 'status'] = 'ok'\n",
      "C:\\Users\\YangTeng\\AppData\\Local\\Temp\\ipykernel_2604\\3929323490.py:59: FutureWarning: Setting an item of incompatible dtype is deprecated and will raise in a future error of pandas. Value 'https://ecatalog.smpcorp.com/V2/STD/api/part/partsearch?filterType=n&searchType=p&imageSize=80&limit=1&sort=3&catFilter=-All-&yearFilter=-All-&makeFilter=-All-&modelFilter=-All-&engineFilter=-All-&attrCodeFilter=-All-&attrValueFilter=-All-&plkEngineMakeFilter=-All-&plkEngineModelFilter=-All-&plkEngineDispFilter=-All-&filter=Accelerator%20Pedal%20Sensor%20(APS)&start=281' has dtype incompatible with float64, please explicitly cast to a compatible dtype first.\n",
      "  df_temp.loc[0, 'Url'] = url\n"
     ]
    },
    {
     "name": "stdout",
     "output_type": "stream",
     "text": [
      "https://ecatalog.smpcorp.com/V2/STD/api/part/partsearch?filterType=n&searchType=p&imageSize=80&limit=1&sort=3&catFilter=-All-&yearFilter=-All-&makeFilter=-All-&modelFilter=-All-&engineFilter=-All-&attrCodeFilter=-All-&attrValueFilter=-All-&plkEngineMakeFilter=-All-&plkEngineModelFilter=-All-&plkEngineDispFilter=-All-&filter=Accelerator%20Pedal%20Sensor%20(APS)&start=287  <->  [ok] - 剩余数量：171\n",
      "https://ecatalog.smpcorp.com/V2/STD/api/part/partsearch?filterType=n&searchType=p&imageSize=80&limit=1&sort=3&catFilter=-All-&yearFilter=-All-&makeFilter=-All-&modelFilter=-All-&engineFilter=-All-&attrCodeFilter=-All-&attrValueFilter=-All-&plkEngineMakeFilter=-All-&plkEngineModelFilter=-All-&plkEngineDispFilter=-All-&filter=Accelerator%20Pedal%20Sensor%20(APS)&start=281  <->  [ok] - 剩余数量：170\n"
     ]
    },
    {
     "name": "stderr",
     "output_type": "stream",
     "text": [
      "C:\\Users\\YangTeng\\AppData\\Local\\Temp\\ipykernel_2604\\3929323490.py:58: FutureWarning: Setting an item of incompatible dtype is deprecated and will raise in a future error of pandas. Value 'ok' has dtype incompatible with float64, please explicitly cast to a compatible dtype first.\n",
      "  df_temp.loc[0, 'status'] = 'ok'\n",
      "C:\\Users\\YangTeng\\AppData\\Local\\Temp\\ipykernel_2604\\3929323490.py:59: FutureWarning: Setting an item of incompatible dtype is deprecated and will raise in a future error of pandas. Value 'https://ecatalog.smpcorp.com/V2/STD/api/part/partsearch?filterType=n&searchType=p&imageSize=80&limit=1&sort=3&catFilter=-All-&yearFilter=-All-&makeFilter=-All-&modelFilter=-All-&engineFilter=-All-&attrCodeFilter=-All-&attrValueFilter=-All-&plkEngineMakeFilter=-All-&plkEngineModelFilter=-All-&plkEngineDispFilter=-All-&filter=Accelerator%20Pedal%20Sensor%20(APS)&start=282' has dtype incompatible with float64, please explicitly cast to a compatible dtype first.\n",
      "  df_temp.loc[0, 'Url'] = url\n",
      "C:\\Users\\YangTeng\\AppData\\Local\\Temp\\ipykernel_2604\\3929323490.py:58: FutureWarning: Setting an item of incompatible dtype is deprecated and will raise in a future error of pandas. Value 'ok' has dtype incompatible with float64, please explicitly cast to a compatible dtype first.\n",
      "  df_temp.loc[0, 'status'] = 'ok'\n",
      "C:\\Users\\YangTeng\\AppData\\Local\\Temp\\ipykernel_2604\\3929323490.py:59: FutureWarning: Setting an item of incompatible dtype is deprecated and will raise in a future error of pandas. Value 'https://ecatalog.smpcorp.com/V2/STD/api/part/partsearch?filterType=n&searchType=p&imageSize=80&limit=1&sort=3&catFilter=-All-&yearFilter=-All-&makeFilter=-All-&modelFilter=-All-&engineFilter=-All-&attrCodeFilter=-All-&attrValueFilter=-All-&plkEngineMakeFilter=-All-&plkEngineModelFilter=-All-&plkEngineDispFilter=-All-&filter=Accelerator%20Pedal%20Sensor%20(APS)&start=286' has dtype incompatible with float64, please explicitly cast to a compatible dtype first.\n",
      "  df_temp.loc[0, 'Url'] = url\n",
      "C:\\Users\\YangTeng\\AppData\\Local\\Temp\\ipykernel_2604\\3929323490.py:58: FutureWarning: Setting an item of incompatible dtype is deprecated and will raise in a future error of pandas. Value 'ok' has dtype incompatible with float64, please explicitly cast to a compatible dtype first.\n",
      "  df_temp.loc[0, 'status'] = 'ok'\n",
      "C:\\Users\\YangTeng\\AppData\\Local\\Temp\\ipykernel_2604\\3929323490.py:59: FutureWarning: Setting an item of incompatible dtype is deprecated and will raise in a future error of pandas. Value 'https://ecatalog.smpcorp.com/V2/STD/api/part/partsearch?filterType=n&searchType=p&imageSize=80&limit=1&sort=3&catFilter=-All-&yearFilter=-All-&makeFilter=-All-&modelFilter=-All-&engineFilter=-All-&attrCodeFilter=-All-&attrValueFilter=-All-&plkEngineMakeFilter=-All-&plkEngineModelFilter=-All-&plkEngineDispFilter=-All-&filter=Accelerator%20Pedal%20Sensor%20(APS)&start=266' has dtype incompatible with float64, please explicitly cast to a compatible dtype first.\n",
      "  df_temp.loc[0, 'Url'] = url\n",
      "C:\\Users\\YangTeng\\AppData\\Local\\Temp\\ipykernel_2604\\3929323490.py:58: FutureWarning: Setting an item of incompatible dtype is deprecated and will raise in a future error of pandas. Value 'ok' has dtype incompatible with float64, please explicitly cast to a compatible dtype first.\n",
      "  df_temp.loc[0, 'status'] = 'ok'\n",
      "C:\\Users\\YangTeng\\AppData\\Local\\Temp\\ipykernel_2604\\3929323490.py:59: FutureWarning: Setting an item of incompatible dtype is deprecated and will raise in a future error of pandas. Value 'https://ecatalog.smpcorp.com/V2/STD/api/part/partsearch?filterType=n&searchType=p&imageSize=80&limit=1&sort=3&catFilter=-All-&yearFilter=-All-&makeFilter=-All-&modelFilter=-All-&engineFilter=-All-&attrCodeFilter=-All-&attrValueFilter=-All-&plkEngineMakeFilter=-All-&plkEngineModelFilter=-All-&plkEngineDispFilter=-All-&filter=Accelerator%20Pedal%20Sensor%20(APS)&start=284' has dtype incompatible with float64, please explicitly cast to a compatible dtype first.\n",
      "  df_temp.loc[0, 'Url'] = url\n",
      "C:\\Users\\YangTeng\\AppData\\Local\\Temp\\ipykernel_2604\\3929323490.py:58: FutureWarning: Setting an item of incompatible dtype is deprecated and will raise in a future error of pandas. Value 'ok' has dtype incompatible with float64, please explicitly cast to a compatible dtype first.\n",
      "  df_temp.loc[0, 'status'] = 'ok'\n",
      "C:\\Users\\YangTeng\\AppData\\Local\\Temp\\ipykernel_2604\\3929323490.py:59: FutureWarning: Setting an item of incompatible dtype is deprecated and will raise in a future error of pandas. Value 'https://ecatalog.smpcorp.com/V2/STD/api/part/partsearch?filterType=n&searchType=p&imageSize=80&limit=1&sort=3&catFilter=-All-&yearFilter=-All-&makeFilter=-All-&modelFilter=-All-&engineFilter=-All-&attrCodeFilter=-All-&attrValueFilter=-All-&plkEngineMakeFilter=-All-&plkEngineModelFilter=-All-&plkEngineDispFilter=-All-&filter=Accelerator%20Pedal%20Sensor%20(APS)&start=283' has dtype incompatible with float64, please explicitly cast to a compatible dtype first.\n",
      "  df_temp.loc[0, 'Url'] = url\n"
     ]
    },
    {
     "name": "stdout",
     "output_type": "stream",
     "text": [
      "https://ecatalog.smpcorp.com/V2/STD/api/part/partsearch?filterType=n&searchType=p&imageSize=80&limit=1&sort=3&catFilter=-All-&yearFilter=-All-&makeFilter=-All-&modelFilter=-All-&engineFilter=-All-&attrCodeFilter=-All-&attrValueFilter=-All-&plkEngineMakeFilter=-All-&plkEngineModelFilter=-All-&plkEngineDispFilter=-All-&filter=Accelerator%20Pedal%20Sensor%20(APS)&start=282  <->  [ok] - 剩余数量：169\n",
      "https://ecatalog.smpcorp.com/V2/STD/api/part/partsearch?filterType=n&searchType=p&imageSize=80&limit=1&sort=3&catFilter=-All-&yearFilter=-All-&makeFilter=-All-&modelFilter=-All-&engineFilter=-All-&attrCodeFilter=-All-&attrValueFilter=-All-&plkEngineMakeFilter=-All-&plkEngineModelFilter=-All-&plkEngineDispFilter=-All-&filter=Accelerator%20Pedal%20Sensor%20(APS)&start=286  <->  [ok] - 剩余数量：168\n",
      "https://ecatalog.smpcorp.com/V2/STD/api/part/partsearch?filterType=n&searchType=p&imageSize=80&limit=1&sort=3&catFilter=-All-&yearFilter=-All-&makeFilter=-All-&modelFilter=-All-&engineFilter=-All-&attrCodeFilter=-All-&attrValueFilter=-All-&plkEngineMakeFilter=-All-&plkEngineModelFilter=-All-&plkEngineDispFilter=-All-&filter=Accelerator%20Pedal%20Sensor%20(APS)&start=266  <->  [ok] - 剩余数量：167\n",
      "https://ecatalog.smpcorp.com/V2/STD/api/part/partsearch?filterType=n&searchType=p&imageSize=80&limit=1&sort=3&catFilter=-All-&yearFilter=-All-&makeFilter=-All-&modelFilter=-All-&engineFilter=-All-&attrCodeFilter=-All-&attrValueFilter=-All-&plkEngineMakeFilter=-All-&plkEngineModelFilter=-All-&plkEngineDispFilter=-All-&filter=Accelerator%20Pedal%20Sensor%20(APS)&start=284  <->  [ok] - 剩余数量：166\n",
      "https://ecatalog.smpcorp.com/V2/STD/api/part/partsearch?filterType=n&searchType=p&imageSize=80&limit=1&sort=3&catFilter=-All-&yearFilter=-All-&makeFilter=-All-&modelFilter=-All-&engineFilter=-All-&attrCodeFilter=-All-&attrValueFilter=-All-&plkEngineMakeFilter=-All-&plkEngineModelFilter=-All-&plkEngineDispFilter=-All-&filter=Accelerator%20Pedal%20Sensor%20(APS)&start=283  <->  [ok] - 剩余数量：165\n"
     ]
    },
    {
     "name": "stderr",
     "output_type": "stream",
     "text": [
      "C:\\Users\\YangTeng\\AppData\\Local\\Temp\\ipykernel_2604\\3929323490.py:58: FutureWarning: Setting an item of incompatible dtype is deprecated and will raise in a future error of pandas. Value 'ok' has dtype incompatible with float64, please explicitly cast to a compatible dtype first.\n",
      "  df_temp.loc[0, 'status'] = 'ok'\n",
      "C:\\Users\\YangTeng\\AppData\\Local\\Temp\\ipykernel_2604\\3929323490.py:59: FutureWarning: Setting an item of incompatible dtype is deprecated and will raise in a future error of pandas. Value 'https://ecatalog.smpcorp.com/V2/STD/api/part/partsearch?filterType=n&searchType=p&imageSize=80&limit=1&sort=3&catFilter=-All-&yearFilter=-All-&makeFilter=-All-&modelFilter=-All-&engineFilter=-All-&attrCodeFilter=-All-&attrValueFilter=-All-&plkEngineMakeFilter=-All-&plkEngineModelFilter=-All-&plkEngineDispFilter=-All-&filter=Accelerator%20Pedal%20Sensor%20(APS)&start=275' has dtype incompatible with float64, please explicitly cast to a compatible dtype first.\n",
      "  df_temp.loc[0, 'Url'] = url\n",
      "C:\\Users\\YangTeng\\AppData\\Local\\Temp\\ipykernel_2604\\3929323490.py:58: FutureWarning: Setting an item of incompatible dtype is deprecated and will raise in a future error of pandas. Value 'ok' has dtype incompatible with float64, please explicitly cast to a compatible dtype first.\n",
      "  df_temp.loc[0, 'status'] = 'ok'\n",
      "C:\\Users\\YangTeng\\AppData\\Local\\Temp\\ipykernel_2604\\3929323490.py:59: FutureWarning: Setting an item of incompatible dtype is deprecated and will raise in a future error of pandas. Value 'https://ecatalog.smpcorp.com/V2/STD/api/part/partsearch?filterType=n&searchType=p&imageSize=80&limit=1&sort=3&catFilter=-All-&yearFilter=-All-&makeFilter=-All-&modelFilter=-All-&engineFilter=-All-&attrCodeFilter=-All-&attrValueFilter=-All-&plkEngineMakeFilter=-All-&plkEngineModelFilter=-All-&plkEngineDispFilter=-All-&filter=Accelerator%20Pedal%20Sensor%20(APS)&start=285' has dtype incompatible with float64, please explicitly cast to a compatible dtype first.\n",
      "  df_temp.loc[0, 'Url'] = url\n",
      "C:\\Users\\YangTeng\\AppData\\Local\\Temp\\ipykernel_2604\\3929323490.py:58: FutureWarning: Setting an item of incompatible dtype is deprecated and will raise in a future error of pandas. Value 'ok' has dtype incompatible with float64, please explicitly cast to a compatible dtype first.\n",
      "  df_temp.loc[0, 'status'] = 'ok'\n",
      "C:\\Users\\YangTeng\\AppData\\Local\\Temp\\ipykernel_2604\\3929323490.py:59: FutureWarning: Setting an item of incompatible dtype is deprecated and will raise in a future error of pandas. Value 'https://ecatalog.smpcorp.com/V2/STD/api/part/partsearch?filterType=n&searchType=p&imageSize=80&limit=1&sort=3&catFilter=-All-&yearFilter=-All-&makeFilter=-All-&modelFilter=-All-&engineFilter=-All-&attrCodeFilter=-All-&attrValueFilter=-All-&plkEngineMakeFilter=-All-&plkEngineModelFilter=-All-&plkEngineDispFilter=-All-&filter=Accelerator%20Pedal%20Sensor%20(APS)&start=262' has dtype incompatible with float64, please explicitly cast to a compatible dtype first.\n",
      "  df_temp.loc[0, 'Url'] = url\n",
      "C:\\Users\\YangTeng\\AppData\\Local\\Temp\\ipykernel_2604\\3929323490.py:58: FutureWarning: Setting an item of incompatible dtype is deprecated and will raise in a future error of pandas. Value 'ok' has dtype incompatible with float64, please explicitly cast to a compatible dtype first.\n",
      "  df_temp.loc[0, 'status'] = 'ok'\n",
      "C:\\Users\\YangTeng\\AppData\\Local\\Temp\\ipykernel_2604\\3929323490.py:59: FutureWarning: Setting an item of incompatible dtype is deprecated and will raise in a future error of pandas. Value 'https://ecatalog.smpcorp.com/V2/STD/api/part/partsearch?filterType=n&searchType=p&imageSize=80&limit=1&sort=3&catFilter=-All-&yearFilter=-All-&makeFilter=-All-&modelFilter=-All-&engineFilter=-All-&attrCodeFilter=-All-&attrValueFilter=-All-&plkEngineMakeFilter=-All-&plkEngineModelFilter=-All-&plkEngineDispFilter=-All-&filter=Accelerator%20Pedal%20Sensor%20(APS)&start=292' has dtype incompatible with float64, please explicitly cast to a compatible dtype first.\n",
      "  df_temp.loc[0, 'Url'] = url\n",
      "C:\\Users\\YangTeng\\AppData\\Local\\Temp\\ipykernel_2604\\3929323490.py:58: FutureWarning: Setting an item of incompatible dtype is deprecated and will raise in a future error of pandas. Value 'ok' has dtype incompatible with float64, please explicitly cast to a compatible dtype first.\n",
      "  df_temp.loc[0, 'status'] = 'ok'\n",
      "C:\\Users\\YangTeng\\AppData\\Local\\Temp\\ipykernel_2604\\3929323490.py:59: FutureWarning: Setting an item of incompatible dtype is deprecated and will raise in a future error of pandas. Value 'https://ecatalog.smpcorp.com/V2/STD/api/part/partsearch?filterType=n&searchType=p&imageSize=80&limit=1&sort=3&catFilter=-All-&yearFilter=-All-&makeFilter=-All-&modelFilter=-All-&engineFilter=-All-&attrCodeFilter=-All-&attrValueFilter=-All-&plkEngineMakeFilter=-All-&plkEngineModelFilter=-All-&plkEngineDispFilter=-All-&filter=Accelerator%20Pedal%20Sensor%20(APS)&start=291' has dtype incompatible with float64, please explicitly cast to a compatible dtype first.\n",
      "  df_temp.loc[0, 'Url'] = url\n"
     ]
    },
    {
     "name": "stdout",
     "output_type": "stream",
     "text": [
      "https://ecatalog.smpcorp.com/V2/STD/api/part/partsearch?filterType=n&searchType=p&imageSize=80&limit=1&sort=3&catFilter=-All-&yearFilter=-All-&makeFilter=-All-&modelFilter=-All-&engineFilter=-All-&attrCodeFilter=-All-&attrValueFilter=-All-&plkEngineMakeFilter=-All-&plkEngineModelFilter=-All-&plkEngineDispFilter=-All-&filter=Accelerator%20Pedal%20Sensor%20(APS)&start=275  <->  [ok] - 剩余数量：164\n",
      "https://ecatalog.smpcorp.com/V2/STD/api/part/partsearch?filterType=n&searchType=p&imageSize=80&limit=1&sort=3&catFilter=-All-&yearFilter=-All-&makeFilter=-All-&modelFilter=-All-&engineFilter=-All-&attrCodeFilter=-All-&attrValueFilter=-All-&plkEngineMakeFilter=-All-&plkEngineModelFilter=-All-&plkEngineDispFilter=-All-&filter=Accelerator%20Pedal%20Sensor%20(APS)&start=285  <->  [ok] - 剩余数量：163\n",
      "https://ecatalog.smpcorp.com/V2/STD/api/part/partsearch?filterType=n&searchType=p&imageSize=80&limit=1&sort=3&catFilter=-All-&yearFilter=-All-&makeFilter=-All-&modelFilter=-All-&engineFilter=-All-&attrCodeFilter=-All-&attrValueFilter=-All-&plkEngineMakeFilter=-All-&plkEngineModelFilter=-All-&plkEngineDispFilter=-All-&filter=Accelerator%20Pedal%20Sensor%20(APS)&start=262  <->  [ok] - 剩余数量：162\n",
      "https://ecatalog.smpcorp.com/V2/STD/api/part/partsearch?filterType=n&searchType=p&imageSize=80&limit=1&sort=3&catFilter=-All-&yearFilter=-All-&makeFilter=-All-&modelFilter=-All-&engineFilter=-All-&attrCodeFilter=-All-&attrValueFilter=-All-&plkEngineMakeFilter=-All-&plkEngineModelFilter=-All-&plkEngineDispFilter=-All-&filter=Accelerator%20Pedal%20Sensor%20(APS)&start=292  <->  [ok] - 剩余数量：161\n",
      "https://ecatalog.smpcorp.com/V2/STD/api/part/partsearch?filterType=n&searchType=p&imageSize=80&limit=1&sort=3&catFilter=-All-&yearFilter=-All-&makeFilter=-All-&modelFilter=-All-&engineFilter=-All-&attrCodeFilter=-All-&attrValueFilter=-All-&plkEngineMakeFilter=-All-&plkEngineModelFilter=-All-&plkEngineDispFilter=-All-&filter=Accelerator%20Pedal%20Sensor%20(APS)&start=291  <->  [ok] - 剩余数量：160\n"
     ]
    },
    {
     "name": "stderr",
     "output_type": "stream",
     "text": [
      "C:\\Users\\YangTeng\\AppData\\Local\\Temp\\ipykernel_2604\\3929323490.py:58: FutureWarning: Setting an item of incompatible dtype is deprecated and will raise in a future error of pandas. Value 'ok' has dtype incompatible with float64, please explicitly cast to a compatible dtype first.\n",
      "  df_temp.loc[0, 'status'] = 'ok'\n",
      "C:\\Users\\YangTeng\\AppData\\Local\\Temp\\ipykernel_2604\\3929323490.py:59: FutureWarning: Setting an item of incompatible dtype is deprecated and will raise in a future error of pandas. Value 'https://ecatalog.smpcorp.com/V2/STD/api/part/partsearch?filterType=n&searchType=p&imageSize=80&limit=1&sort=3&catFilter=-All-&yearFilter=-All-&makeFilter=-All-&modelFilter=-All-&engineFilter=-All-&attrCodeFilter=-All-&attrValueFilter=-All-&plkEngineMakeFilter=-All-&plkEngineModelFilter=-All-&plkEngineDispFilter=-All-&filter=Accelerator%20Pedal%20Sensor%20(APS)&start=293' has dtype incompatible with float64, please explicitly cast to a compatible dtype first.\n",
      "  df_temp.loc[0, 'Url'] = url\n",
      "C:\\Users\\YangTeng\\AppData\\Local\\Temp\\ipykernel_2604\\3929323490.py:58: FutureWarning: Setting an item of incompatible dtype is deprecated and will raise in a future error of pandas. Value 'ok' has dtype incompatible with float64, please explicitly cast to a compatible dtype first.\n",
      "  df_temp.loc[0, 'status'] = 'ok'\n",
      "C:\\Users\\YangTeng\\AppData\\Local\\Temp\\ipykernel_2604\\3929323490.py:59: FutureWarning: Setting an item of incompatible dtype is deprecated and will raise in a future error of pandas. Value 'https://ecatalog.smpcorp.com/V2/STD/api/part/partsearch?filterType=n&searchType=p&imageSize=80&limit=1&sort=3&catFilter=-All-&yearFilter=-All-&makeFilter=-All-&modelFilter=-All-&engineFilter=-All-&attrCodeFilter=-All-&attrValueFilter=-All-&plkEngineMakeFilter=-All-&plkEngineModelFilter=-All-&plkEngineDispFilter=-All-&filter=Accelerator%20Pedal%20Sensor%20(APS)&start=290' has dtype incompatible with float64, please explicitly cast to a compatible dtype first.\n",
      "  df_temp.loc[0, 'Url'] = url\n"
     ]
    },
    {
     "name": "stdout",
     "output_type": "stream",
     "text": [
      "https://ecatalog.smpcorp.com/V2/STD/api/part/partsearch?filterType=n&searchType=p&imageSize=80&limit=1&sort=3&catFilter=-All-&yearFilter=-All-&makeFilter=-All-&modelFilter=-All-&engineFilter=-All-&attrCodeFilter=-All-&attrValueFilter=-All-&plkEngineMakeFilter=-All-&plkEngineModelFilter=-All-&plkEngineDispFilter=-All-&filter=Accelerator%20Pedal%20Sensor%20(APS)&start=293  <->  [ok] - 剩余数量：159\n",
      "https://ecatalog.smpcorp.com/V2/STD/api/part/partsearch?filterType=n&searchType=p&imageSize=80&limit=1&sort=3&catFilter=-All-&yearFilter=-All-&makeFilter=-All-&modelFilter=-All-&engineFilter=-All-&attrCodeFilter=-All-&attrValueFilter=-All-&plkEngineMakeFilter=-All-&plkEngineModelFilter=-All-&plkEngineDispFilter=-All-&filter=Accelerator%20Pedal%20Sensor%20(APS)&start=290  <->  [ok] - 剩余数量：158\n"
     ]
    },
    {
     "name": "stderr",
     "output_type": "stream",
     "text": [
      "C:\\Users\\YangTeng\\AppData\\Local\\Temp\\ipykernel_2604\\3929323490.py:58: FutureWarning: Setting an item of incompatible dtype is deprecated and will raise in a future error of pandas. Value 'ok' has dtype incompatible with float64, please explicitly cast to a compatible dtype first.\n",
      "  df_temp.loc[0, 'status'] = 'ok'\n",
      "C:\\Users\\YangTeng\\AppData\\Local\\Temp\\ipykernel_2604\\3929323490.py:59: FutureWarning: Setting an item of incompatible dtype is deprecated and will raise in a future error of pandas. Value 'https://ecatalog.smpcorp.com/V2/STD/api/part/partsearch?filterType=n&searchType=p&imageSize=80&limit=1&sort=3&catFilter=-All-&yearFilter=-All-&makeFilter=-All-&modelFilter=-All-&engineFilter=-All-&attrCodeFilter=-All-&attrValueFilter=-All-&plkEngineMakeFilter=-All-&plkEngineModelFilter=-All-&plkEngineDispFilter=-All-&filter=Accelerator%20Pedal%20Sensor%20(APS)&start=289' has dtype incompatible with float64, please explicitly cast to a compatible dtype first.\n",
      "  df_temp.loc[0, 'Url'] = url\n"
     ]
    },
    {
     "name": "stdout",
     "output_type": "stream",
     "text": [
      "https://ecatalog.smpcorp.com/V2/STD/api/part/partsearch?filterType=n&searchType=p&imageSize=80&limit=1&sort=3&catFilter=-All-&yearFilter=-All-&makeFilter=-All-&modelFilter=-All-&engineFilter=-All-&attrCodeFilter=-All-&attrValueFilter=-All-&plkEngineMakeFilter=-All-&plkEngineModelFilter=-All-&plkEngineDispFilter=-All-&filter=Accelerator%20Pedal%20Sensor%20(APS)&start=289  <->  [ok] - 剩余数量：157\n"
     ]
    },
    {
     "name": "stderr",
     "output_type": "stream",
     "text": [
      "C:\\Users\\YangTeng\\AppData\\Local\\Temp\\ipykernel_2604\\3929323490.py:58: FutureWarning: Setting an item of incompatible dtype is deprecated and will raise in a future error of pandas. Value 'ok' has dtype incompatible with float64, please explicitly cast to a compatible dtype first.\n",
      "  df_temp.loc[0, 'status'] = 'ok'\n",
      "C:\\Users\\YangTeng\\AppData\\Local\\Temp\\ipykernel_2604\\3929323490.py:59: FutureWarning: Setting an item of incompatible dtype is deprecated and will raise in a future error of pandas. Value 'https://ecatalog.smpcorp.com/V2/STD/api/part/partsearch?filterType=n&searchType=p&imageSize=80&limit=1&sort=3&catFilter=-All-&yearFilter=-All-&makeFilter=-All-&modelFilter=-All-&engineFilter=-All-&attrCodeFilter=-All-&attrValueFilter=-All-&plkEngineMakeFilter=-All-&plkEngineModelFilter=-All-&plkEngineDispFilter=-All-&filter=Accelerator%20Pedal%20Sensor%20(APS)&start=295' has dtype incompatible with float64, please explicitly cast to a compatible dtype first.\n",
      "  df_temp.loc[0, 'Url'] = url\n",
      "C:\\Users\\YangTeng\\AppData\\Local\\Temp\\ipykernel_2604\\3929323490.py:58: FutureWarning: Setting an item of incompatible dtype is deprecated and will raise in a future error of pandas. Value 'ok' has dtype incompatible with float64, please explicitly cast to a compatible dtype first.\n",
      "  df_temp.loc[0, 'status'] = 'ok'\n",
      "C:\\Users\\YangTeng\\AppData\\Local\\Temp\\ipykernel_2604\\3929323490.py:59: FutureWarning: Setting an item of incompatible dtype is deprecated and will raise in a future error of pandas. Value 'https://ecatalog.smpcorp.com/V2/STD/api/part/partsearch?filterType=n&searchType=p&imageSize=80&limit=1&sort=3&catFilter=-All-&yearFilter=-All-&makeFilter=-All-&modelFilter=-All-&engineFilter=-All-&attrCodeFilter=-All-&attrValueFilter=-All-&plkEngineMakeFilter=-All-&plkEngineModelFilter=-All-&plkEngineDispFilter=-All-&filter=Accelerator%20Pedal%20Sensor%20(APS)&start=294' has dtype incompatible with float64, please explicitly cast to a compatible dtype first.\n",
      "  df_temp.loc[0, 'Url'] = url\n",
      "C:\\Users\\YangTeng\\AppData\\Local\\Temp\\ipykernel_2604\\3929323490.py:58: FutureWarning: Setting an item of incompatible dtype is deprecated and will raise in a future error of pandas. Value 'ok' has dtype incompatible with float64, please explicitly cast to a compatible dtype first.\n",
      "  df_temp.loc[0, 'status'] = 'ok'\n",
      "C:\\Users\\YangTeng\\AppData\\Local\\Temp\\ipykernel_2604\\3929323490.py:59: FutureWarning: Setting an item of incompatible dtype is deprecated and will raise in a future error of pandas. Value 'https://ecatalog.smpcorp.com/V2/STD/api/part/partsearch?filterType=n&searchType=p&imageSize=80&limit=1&sort=3&catFilter=-All-&yearFilter=-All-&makeFilter=-All-&modelFilter=-All-&engineFilter=-All-&attrCodeFilter=-All-&attrValueFilter=-All-&plkEngineMakeFilter=-All-&plkEngineModelFilter=-All-&plkEngineDispFilter=-All-&filter=Accelerator%20Pedal%20Sensor%20(APS)&start=209' has dtype incompatible with float64, please explicitly cast to a compatible dtype first.\n",
      "  df_temp.loc[0, 'Url'] = url\n"
     ]
    },
    {
     "name": "stdout",
     "output_type": "stream",
     "text": [
      "https://ecatalog.smpcorp.com/V2/STD/api/part/partsearch?filterType=n&searchType=p&imageSize=80&limit=1&sort=3&catFilter=-All-&yearFilter=-All-&makeFilter=-All-&modelFilter=-All-&engineFilter=-All-&attrCodeFilter=-All-&attrValueFilter=-All-&plkEngineMakeFilter=-All-&plkEngineModelFilter=-All-&plkEngineDispFilter=-All-&filter=Accelerator%20Pedal%20Sensor%20(APS)&start=295  <->  [ok] - 剩余数量：156\n",
      "https://ecatalog.smpcorp.com/V2/STD/api/part/partsearch?filterType=n&searchType=p&imageSize=80&limit=1&sort=3&catFilter=-All-&yearFilter=-All-&makeFilter=-All-&modelFilter=-All-&engineFilter=-All-&attrCodeFilter=-All-&attrValueFilter=-All-&plkEngineMakeFilter=-All-&plkEngineModelFilter=-All-&plkEngineDispFilter=-All-&filter=Accelerator%20Pedal%20Sensor%20(APS)&start=294  <->  [ok] - 剩余数量：155\n",
      "https://ecatalog.smpcorp.com/V2/STD/api/part/partsearch?filterType=n&searchType=p&imageSize=80&limit=1&sort=3&catFilter=-All-&yearFilter=-All-&makeFilter=-All-&modelFilter=-All-&engineFilter=-All-&attrCodeFilter=-All-&attrValueFilter=-All-&plkEngineMakeFilter=-All-&plkEngineModelFilter=-All-&plkEngineDispFilter=-All-&filter=Accelerator%20Pedal%20Sensor%20(APS)&start=209  <->  [ok] - 剩余数量：154\n"
     ]
    },
    {
     "name": "stderr",
     "output_type": "stream",
     "text": [
      "C:\\Users\\YangTeng\\AppData\\Local\\Temp\\ipykernel_2604\\3929323490.py:58: FutureWarning: Setting an item of incompatible dtype is deprecated and will raise in a future error of pandas. Value 'ok' has dtype incompatible with float64, please explicitly cast to a compatible dtype first.\n",
      "  df_temp.loc[0, 'status'] = 'ok'\n",
      "C:\\Users\\YangTeng\\AppData\\Local\\Temp\\ipykernel_2604\\3929323490.py:59: FutureWarning: Setting an item of incompatible dtype is deprecated and will raise in a future error of pandas. Value 'https://ecatalog.smpcorp.com/V2/STD/api/part/partsearch?filterType=n&searchType=p&imageSize=80&limit=1&sort=3&catFilter=-All-&yearFilter=-All-&makeFilter=-All-&modelFilter=-All-&engineFilter=-All-&attrCodeFilter=-All-&attrValueFilter=-All-&plkEngineMakeFilter=-All-&plkEngineModelFilter=-All-&plkEngineDispFilter=-All-&filter=Accelerator%20Pedal%20Sensor%20(APS)&start=296' has dtype incompatible with float64, please explicitly cast to a compatible dtype first.\n",
      "  df_temp.loc[0, 'Url'] = url\n",
      "C:\\Users\\YangTeng\\AppData\\Local\\Temp\\ipykernel_2604\\3929323490.py:58: FutureWarning: Setting an item of incompatible dtype is deprecated and will raise in a future error of pandas. Value 'ok' has dtype incompatible with float64, please explicitly cast to a compatible dtype first.\n",
      "  df_temp.loc[0, 'status'] = 'ok'\n",
      "C:\\Users\\YangTeng\\AppData\\Local\\Temp\\ipykernel_2604\\3929323490.py:59: FutureWarning: Setting an item of incompatible dtype is deprecated and will raise in a future error of pandas. Value 'https://ecatalog.smpcorp.com/V2/STD/api/part/partsearch?filterType=n&searchType=p&imageSize=80&limit=1&sort=3&catFilter=-All-&yearFilter=-All-&makeFilter=-All-&modelFilter=-All-&engineFilter=-All-&attrCodeFilter=-All-&attrValueFilter=-All-&plkEngineMakeFilter=-All-&plkEngineModelFilter=-All-&plkEngineDispFilter=-All-&filter=Accelerator%20Pedal%20Sensor%20(APS)&start=297' has dtype incompatible with float64, please explicitly cast to a compatible dtype first.\n",
      "  df_temp.loc[0, 'Url'] = url\n",
      "C:\\Users\\YangTeng\\AppData\\Local\\Temp\\ipykernel_2604\\3929323490.py:58: FutureWarning: Setting an item of incompatible dtype is deprecated and will raise in a future error of pandas. Value 'ok' has dtype incompatible with float64, please explicitly cast to a compatible dtype first.\n",
      "  df_temp.loc[0, 'status'] = 'ok'\n",
      "C:\\Users\\YangTeng\\AppData\\Local\\Temp\\ipykernel_2604\\3929323490.py:59: FutureWarning: Setting an item of incompatible dtype is deprecated and will raise in a future error of pandas. Value 'https://ecatalog.smpcorp.com/V2/STD/api/part/partsearch?filterType=n&searchType=p&imageSize=80&limit=1&sort=3&catFilter=-All-&yearFilter=-All-&makeFilter=-All-&modelFilter=-All-&engineFilter=-All-&attrCodeFilter=-All-&attrValueFilter=-All-&plkEngineMakeFilter=-All-&plkEngineModelFilter=-All-&plkEngineDispFilter=-All-&filter=Accelerator%20Pedal%20Sensor%20(APS)&start=300' has dtype incompatible with float64, please explicitly cast to a compatible dtype first.\n",
      "  df_temp.loc[0, 'Url'] = url\n",
      "C:\\Users\\YangTeng\\AppData\\Local\\Temp\\ipykernel_2604\\3929323490.py:58: FutureWarning: Setting an item of incompatible dtype is deprecated and will raise in a future error of pandas. Value 'ok' has dtype incompatible with float64, please explicitly cast to a compatible dtype first.\n",
      "  df_temp.loc[0, 'status'] = 'ok'\n",
      "C:\\Users\\YangTeng\\AppData\\Local\\Temp\\ipykernel_2604\\3929323490.py:59: FutureWarning: Setting an item of incompatible dtype is deprecated and will raise in a future error of pandas. Value 'https://ecatalog.smpcorp.com/V2/STD/api/part/partsearch?filterType=n&searchType=p&imageSize=80&limit=1&sort=3&catFilter=-All-&yearFilter=-All-&makeFilter=-All-&modelFilter=-All-&engineFilter=-All-&attrCodeFilter=-All-&attrValueFilter=-All-&plkEngineMakeFilter=-All-&plkEngineModelFilter=-All-&plkEngineDispFilter=-All-&filter=Accelerator%20Pedal%20Sensor%20(APS)&start=309' has dtype incompatible with float64, please explicitly cast to a compatible dtype first.\n",
      "  df_temp.loc[0, 'Url'] = url\n"
     ]
    },
    {
     "name": "stdout",
     "output_type": "stream",
     "text": [
      "https://ecatalog.smpcorp.com/V2/STD/api/part/partsearch?filterType=n&searchType=p&imageSize=80&limit=1&sort=3&catFilter=-All-&yearFilter=-All-&makeFilter=-All-&modelFilter=-All-&engineFilter=-All-&attrCodeFilter=-All-&attrValueFilter=-All-&plkEngineMakeFilter=-All-&plkEngineModelFilter=-All-&plkEngineDispFilter=-All-&filter=Accelerator%20Pedal%20Sensor%20(APS)&start=296  <->  [ok] - 剩余数量：153\n",
      "https://ecatalog.smpcorp.com/V2/STD/api/part/partsearch?filterType=n&searchType=p&imageSize=80&limit=1&sort=3&catFilter=-All-&yearFilter=-All-&makeFilter=-All-&modelFilter=-All-&engineFilter=-All-&attrCodeFilter=-All-&attrValueFilter=-All-&plkEngineMakeFilter=-All-&plkEngineModelFilter=-All-&plkEngineDispFilter=-All-&filter=Accelerator%20Pedal%20Sensor%20(APS)&start=297  <->  [ok] - 剩余数量：152\n",
      "https://ecatalog.smpcorp.com/V2/STD/api/part/partsearch?filterType=n&searchType=p&imageSize=80&limit=1&sort=3&catFilter=-All-&yearFilter=-All-&makeFilter=-All-&modelFilter=-All-&engineFilter=-All-&attrCodeFilter=-All-&attrValueFilter=-All-&plkEngineMakeFilter=-All-&plkEngineModelFilter=-All-&plkEngineDispFilter=-All-&filter=Accelerator%20Pedal%20Sensor%20(APS)&start=300  <->  [ok] - 剩余数量：151\n",
      "https://ecatalog.smpcorp.com/V2/STD/api/part/partsearch?filterType=n&searchType=p&imageSize=80&limit=1&sort=3&catFilter=-All-&yearFilter=-All-&makeFilter=-All-&modelFilter=-All-&engineFilter=-All-&attrCodeFilter=-All-&attrValueFilter=-All-&plkEngineMakeFilter=-All-&plkEngineModelFilter=-All-&plkEngineDispFilter=-All-&filter=Accelerator%20Pedal%20Sensor%20(APS)&start=309  <->  [ok] - 剩余数量：150\n"
     ]
    },
    {
     "name": "stderr",
     "output_type": "stream",
     "text": [
      "C:\\Users\\YangTeng\\AppData\\Local\\Temp\\ipykernel_2604\\3929323490.py:58: FutureWarning: Setting an item of incompatible dtype is deprecated and will raise in a future error of pandas. Value 'ok' has dtype incompatible with float64, please explicitly cast to a compatible dtype first.\n",
      "  df_temp.loc[0, 'status'] = 'ok'\n",
      "C:\\Users\\YangTeng\\AppData\\Local\\Temp\\ipykernel_2604\\3929323490.py:59: FutureWarning: Setting an item of incompatible dtype is deprecated and will raise in a future error of pandas. Value 'https://ecatalog.smpcorp.com/V2/STD/api/part/partsearch?filterType=n&searchType=p&imageSize=80&limit=1&sort=3&catFilter=-All-&yearFilter=-All-&makeFilter=-All-&modelFilter=-All-&engineFilter=-All-&attrCodeFilter=-All-&attrValueFilter=-All-&plkEngineMakeFilter=-All-&plkEngineModelFilter=-All-&plkEngineDispFilter=-All-&filter=Accelerator%20Pedal%20Sensor%20(APS)&start=299' has dtype incompatible with float64, please explicitly cast to a compatible dtype first.\n",
      "  df_temp.loc[0, 'Url'] = url\n",
      "C:\\Users\\YangTeng\\AppData\\Local\\Temp\\ipykernel_2604\\3929323490.py:58: FutureWarning: Setting an item of incompatible dtype is deprecated and will raise in a future error of pandas. Value 'ok' has dtype incompatible with float64, please explicitly cast to a compatible dtype first.\n",
      "  df_temp.loc[0, 'status'] = 'ok'\n",
      "C:\\Users\\YangTeng\\AppData\\Local\\Temp\\ipykernel_2604\\3929323490.py:59: FutureWarning: Setting an item of incompatible dtype is deprecated and will raise in a future error of pandas. Value 'https://ecatalog.smpcorp.com/V2/STD/api/part/partsearch?filterType=n&searchType=p&imageSize=80&limit=1&sort=3&catFilter=-All-&yearFilter=-All-&makeFilter=-All-&modelFilter=-All-&engineFilter=-All-&attrCodeFilter=-All-&attrValueFilter=-All-&plkEngineMakeFilter=-All-&plkEngineModelFilter=-All-&plkEngineDispFilter=-All-&filter=Accelerator%20Pedal%20Sensor%20(APS)&start=298' has dtype incompatible with float64, please explicitly cast to a compatible dtype first.\n",
      "  df_temp.loc[0, 'Url'] = url\n",
      "C:\\Users\\YangTeng\\AppData\\Local\\Temp\\ipykernel_2604\\3929323490.py:58: FutureWarning: Setting an item of incompatible dtype is deprecated and will raise in a future error of pandas. Value 'ok' has dtype incompatible with float64, please explicitly cast to a compatible dtype first.\n",
      "  df_temp.loc[0, 'status'] = 'ok'\n",
      "C:\\Users\\YangTeng\\AppData\\Local\\Temp\\ipykernel_2604\\3929323490.py:59: FutureWarning: Setting an item of incompatible dtype is deprecated and will raise in a future error of pandas. Value 'https://ecatalog.smpcorp.com/V2/STD/api/part/partsearch?filterType=n&searchType=p&imageSize=80&limit=1&sort=3&catFilter=-All-&yearFilter=-All-&makeFilter=-All-&modelFilter=-All-&engineFilter=-All-&attrCodeFilter=-All-&attrValueFilter=-All-&plkEngineMakeFilter=-All-&plkEngineModelFilter=-All-&plkEngineDispFilter=-All-&filter=Accelerator%20Pedal%20Sensor%20(APS)&start=304' has dtype incompatible with float64, please explicitly cast to a compatible dtype first.\n",
      "  df_temp.loc[0, 'Url'] = url\n"
     ]
    },
    {
     "name": "stdout",
     "output_type": "stream",
     "text": [
      "https://ecatalog.smpcorp.com/V2/STD/api/part/partsearch?filterType=n&searchType=p&imageSize=80&limit=1&sort=3&catFilter=-All-&yearFilter=-All-&makeFilter=-All-&modelFilter=-All-&engineFilter=-All-&attrCodeFilter=-All-&attrValueFilter=-All-&plkEngineMakeFilter=-All-&plkEngineModelFilter=-All-&plkEngineDispFilter=-All-&filter=Accelerator%20Pedal%20Sensor%20(APS)&start=299  <->  [ok] - 剩余数量：149\n",
      "https://ecatalog.smpcorp.com/V2/STD/api/part/partsearch?filterType=n&searchType=p&imageSize=80&limit=1&sort=3&catFilter=-All-&yearFilter=-All-&makeFilter=-All-&modelFilter=-All-&engineFilter=-All-&attrCodeFilter=-All-&attrValueFilter=-All-&plkEngineMakeFilter=-All-&plkEngineModelFilter=-All-&plkEngineDispFilter=-All-&filter=Accelerator%20Pedal%20Sensor%20(APS)&start=298  <->  [ok] - 剩余数量：148\n",
      "https://ecatalog.smpcorp.com/V2/STD/api/part/partsearch?filterType=n&searchType=p&imageSize=80&limit=1&sort=3&catFilter=-All-&yearFilter=-All-&makeFilter=-All-&modelFilter=-All-&engineFilter=-All-&attrCodeFilter=-All-&attrValueFilter=-All-&plkEngineMakeFilter=-All-&plkEngineModelFilter=-All-&plkEngineDispFilter=-All-&filter=Accelerator%20Pedal%20Sensor%20(APS)&start=304  <->  [ok] - 剩余数量：147\n"
     ]
    },
    {
     "name": "stderr",
     "output_type": "stream",
     "text": [
      "C:\\Users\\YangTeng\\AppData\\Local\\Temp\\ipykernel_2604\\3929323490.py:58: FutureWarning: Setting an item of incompatible dtype is deprecated and will raise in a future error of pandas. Value 'ok' has dtype incompatible with float64, please explicitly cast to a compatible dtype first.\n",
      "  df_temp.loc[0, 'status'] = 'ok'\n",
      "C:\\Users\\YangTeng\\AppData\\Local\\Temp\\ipykernel_2604\\3929323490.py:59: FutureWarning: Setting an item of incompatible dtype is deprecated and will raise in a future error of pandas. Value 'https://ecatalog.smpcorp.com/V2/STD/api/part/partsearch?filterType=n&searchType=p&imageSize=80&limit=1&sort=3&catFilter=-All-&yearFilter=-All-&makeFilter=-All-&modelFilter=-All-&engineFilter=-All-&attrCodeFilter=-All-&attrValueFilter=-All-&plkEngineMakeFilter=-All-&plkEngineModelFilter=-All-&plkEngineDispFilter=-All-&filter=Accelerator%20Pedal%20Sensor%20(APS)&start=308' has dtype incompatible with float64, please explicitly cast to a compatible dtype first.\n",
      "  df_temp.loc[0, 'Url'] = url\n",
      "C:\\Users\\YangTeng\\AppData\\Local\\Temp\\ipykernel_2604\\3929323490.py:58: FutureWarning: Setting an item of incompatible dtype is deprecated and will raise in a future error of pandas. Value 'ok' has dtype incompatible with float64, please explicitly cast to a compatible dtype first.\n",
      "  df_temp.loc[0, 'status'] = 'ok'\n",
      "C:\\Users\\YangTeng\\AppData\\Local\\Temp\\ipykernel_2604\\3929323490.py:59: FutureWarning: Setting an item of incompatible dtype is deprecated and will raise in a future error of pandas. Value 'https://ecatalog.smpcorp.com/V2/STD/api/part/partsearch?filterType=n&searchType=p&imageSize=80&limit=1&sort=3&catFilter=-All-&yearFilter=-All-&makeFilter=-All-&modelFilter=-All-&engineFilter=-All-&attrCodeFilter=-All-&attrValueFilter=-All-&plkEngineMakeFilter=-All-&plkEngineModelFilter=-All-&plkEngineDispFilter=-All-&filter=Accelerator%20Pedal%20Sensor%20(APS)&start=301' has dtype incompatible with float64, please explicitly cast to a compatible dtype first.\n",
      "  df_temp.loc[0, 'Url'] = url\n"
     ]
    },
    {
     "name": "stdout",
     "output_type": "stream",
     "text": [
      "https://ecatalog.smpcorp.com/V2/STD/api/part/partsearch?filterType=n&searchType=p&imageSize=80&limit=1&sort=3&catFilter=-All-&yearFilter=-All-&makeFilter=-All-&modelFilter=-All-&engineFilter=-All-&attrCodeFilter=-All-&attrValueFilter=-All-&plkEngineMakeFilter=-All-&plkEngineModelFilter=-All-&plkEngineDispFilter=-All-&filter=Accelerator%20Pedal%20Sensor%20(APS)&start=308  <->  [ok] - 剩余数量：146\n",
      "https://ecatalog.smpcorp.com/V2/STD/api/part/partsearch?filterType=n&searchType=p&imageSize=80&limit=1&sort=3&catFilter=-All-&yearFilter=-All-&makeFilter=-All-&modelFilter=-All-&engineFilter=-All-&attrCodeFilter=-All-&attrValueFilter=-All-&plkEngineMakeFilter=-All-&plkEngineModelFilter=-All-&plkEngineDispFilter=-All-&filter=Accelerator%20Pedal%20Sensor%20(APS)&start=301  <->  [ok] - 剩余数量：145\n"
     ]
    },
    {
     "name": "stderr",
     "output_type": "stream",
     "text": [
      "C:\\Users\\YangTeng\\AppData\\Local\\Temp\\ipykernel_2604\\3929323490.py:58: FutureWarning: Setting an item of incompatible dtype is deprecated and will raise in a future error of pandas. Value 'ok' has dtype incompatible with float64, please explicitly cast to a compatible dtype first.\n",
      "  df_temp.loc[0, 'status'] = 'ok'\n",
      "C:\\Users\\YangTeng\\AppData\\Local\\Temp\\ipykernel_2604\\3929323490.py:59: FutureWarning: Setting an item of incompatible dtype is deprecated and will raise in a future error of pandas. Value 'https://ecatalog.smpcorp.com/V2/STD/api/part/partsearch?filterType=n&searchType=p&imageSize=80&limit=1&sort=3&catFilter=-All-&yearFilter=-All-&makeFilter=-All-&modelFilter=-All-&engineFilter=-All-&attrCodeFilter=-All-&attrValueFilter=-All-&plkEngineMakeFilter=-All-&plkEngineModelFilter=-All-&plkEngineDispFilter=-All-&filter=Accelerator%20Pedal%20Sensor%20(APS)&start=303' has dtype incompatible with float64, please explicitly cast to a compatible dtype first.\n",
      "  df_temp.loc[0, 'Url'] = url\n",
      "C:\\Users\\YangTeng\\AppData\\Local\\Temp\\ipykernel_2604\\3929323490.py:58: FutureWarning: Setting an item of incompatible dtype is deprecated and will raise in a future error of pandas. Value 'ok' has dtype incompatible with float64, please explicitly cast to a compatible dtype first.\n",
      "  df_temp.loc[0, 'status'] = 'ok'\n",
      "C:\\Users\\YangTeng\\AppData\\Local\\Temp\\ipykernel_2604\\3929323490.py:59: FutureWarning: Setting an item of incompatible dtype is deprecated and will raise in a future error of pandas. Value 'https://ecatalog.smpcorp.com/V2/STD/api/part/partsearch?filterType=n&searchType=p&imageSize=80&limit=1&sort=3&catFilter=-All-&yearFilter=-All-&makeFilter=-All-&modelFilter=-All-&engineFilter=-All-&attrCodeFilter=-All-&attrValueFilter=-All-&plkEngineMakeFilter=-All-&plkEngineModelFilter=-All-&plkEngineDispFilter=-All-&filter=Accelerator%20Pedal%20Sensor%20(APS)&start=302' has dtype incompatible with float64, please explicitly cast to a compatible dtype first.\n",
      "  df_temp.loc[0, 'Url'] = url\n",
      "C:\\Users\\YangTeng\\AppData\\Local\\Temp\\ipykernel_2604\\3929323490.py:58: FutureWarning: Setting an item of incompatible dtype is deprecated and will raise in a future error of pandas. Value 'ok' has dtype incompatible with float64, please explicitly cast to a compatible dtype first.\n",
      "  df_temp.loc[0, 'status'] = 'ok'\n",
      "C:\\Users\\YangTeng\\AppData\\Local\\Temp\\ipykernel_2604\\3929323490.py:59: FutureWarning: Setting an item of incompatible dtype is deprecated and will raise in a future error of pandas. Value 'https://ecatalog.smpcorp.com/V2/STD/api/part/partsearch?filterType=n&searchType=p&imageSize=80&limit=1&sort=3&catFilter=-All-&yearFilter=-All-&makeFilter=-All-&modelFilter=-All-&engineFilter=-All-&attrCodeFilter=-All-&attrValueFilter=-All-&plkEngineMakeFilter=-All-&plkEngineModelFilter=-All-&plkEngineDispFilter=-All-&filter=Accelerator%20Pedal%20Sensor%20(APS)&start=307' has dtype incompatible with float64, please explicitly cast to a compatible dtype first.\n",
      "  df_temp.loc[0, 'Url'] = url\n",
      "C:\\Users\\YangTeng\\AppData\\Local\\Temp\\ipykernel_2604\\3929323490.py:58: FutureWarning: Setting an item of incompatible dtype is deprecated and will raise in a future error of pandas. Value 'ok' has dtype incompatible with float64, please explicitly cast to a compatible dtype first.\n",
      "  df_temp.loc[0, 'status'] = 'ok'\n",
      "C:\\Users\\YangTeng\\AppData\\Local\\Temp\\ipykernel_2604\\3929323490.py:59: FutureWarning: Setting an item of incompatible dtype is deprecated and will raise in a future error of pandas. Value 'https://ecatalog.smpcorp.com/V2/STD/api/part/partsearch?filterType=n&searchType=p&imageSize=80&limit=1&sort=3&catFilter=-All-&yearFilter=-All-&makeFilter=-All-&modelFilter=-All-&engineFilter=-All-&attrCodeFilter=-All-&attrValueFilter=-All-&plkEngineMakeFilter=-All-&plkEngineModelFilter=-All-&plkEngineDispFilter=-All-&filter=Accelerator%20Pedal%20Sensor%20(APS)&start=306' has dtype incompatible with float64, please explicitly cast to a compatible dtype first.\n",
      "  df_temp.loc[0, 'Url'] = url\n",
      "C:\\Users\\YangTeng\\AppData\\Local\\Temp\\ipykernel_2604\\3929323490.py:58: FutureWarning: Setting an item of incompatible dtype is deprecated and will raise in a future error of pandas. Value 'ok' has dtype incompatible with float64, please explicitly cast to a compatible dtype first.\n",
      "  df_temp.loc[0, 'status'] = 'ok'\n",
      "C:\\Users\\YangTeng\\AppData\\Local\\Temp\\ipykernel_2604\\3929323490.py:59: FutureWarning: Setting an item of incompatible dtype is deprecated and will raise in a future error of pandas. Value 'https://ecatalog.smpcorp.com/V2/STD/api/part/partsearch?filterType=n&searchType=p&imageSize=80&limit=1&sort=3&catFilter=-All-&yearFilter=-All-&makeFilter=-All-&modelFilter=-All-&engineFilter=-All-&attrCodeFilter=-All-&attrValueFilter=-All-&plkEngineMakeFilter=-All-&plkEngineModelFilter=-All-&plkEngineDispFilter=-All-&filter=Accelerator%20Pedal%20Sensor%20(APS)&start=305' has dtype incompatible with float64, please explicitly cast to a compatible dtype first.\n",
      "  df_temp.loc[0, 'Url'] = url\n"
     ]
    },
    {
     "name": "stdout",
     "output_type": "stream",
     "text": [
      "https://ecatalog.smpcorp.com/V2/STD/api/part/partsearch?filterType=n&searchType=p&imageSize=80&limit=1&sort=3&catFilter=-All-&yearFilter=-All-&makeFilter=-All-&modelFilter=-All-&engineFilter=-All-&attrCodeFilter=-All-&attrValueFilter=-All-&plkEngineMakeFilter=-All-&plkEngineModelFilter=-All-&plkEngineDispFilter=-All-&filter=Accelerator%20Pedal%20Sensor%20(APS)&start=303  <->  [ok] - 剩余数量：144\n",
      "https://ecatalog.smpcorp.com/V2/STD/api/part/partsearch?filterType=n&searchType=p&imageSize=80&limit=1&sort=3&catFilter=-All-&yearFilter=-All-&makeFilter=-All-&modelFilter=-All-&engineFilter=-All-&attrCodeFilter=-All-&attrValueFilter=-All-&plkEngineMakeFilter=-All-&plkEngineModelFilter=-All-&plkEngineDispFilter=-All-&filter=Accelerator%20Pedal%20Sensor%20(APS)&start=302  <->  [ok] - 剩余数量：143\n",
      "https://ecatalog.smpcorp.com/V2/STD/api/part/partsearch?filterType=n&searchType=p&imageSize=80&limit=1&sort=3&catFilter=-All-&yearFilter=-All-&makeFilter=-All-&modelFilter=-All-&engineFilter=-All-&attrCodeFilter=-All-&attrValueFilter=-All-&plkEngineMakeFilter=-All-&plkEngineModelFilter=-All-&plkEngineDispFilter=-All-&filter=Accelerator%20Pedal%20Sensor%20(APS)&start=307  <->  [ok] - 剩余数量：142\n",
      "https://ecatalog.smpcorp.com/V2/STD/api/part/partsearch?filterType=n&searchType=p&imageSize=80&limit=1&sort=3&catFilter=-All-&yearFilter=-All-&makeFilter=-All-&modelFilter=-All-&engineFilter=-All-&attrCodeFilter=-All-&attrValueFilter=-All-&plkEngineMakeFilter=-All-&plkEngineModelFilter=-All-&plkEngineDispFilter=-All-&filter=Accelerator%20Pedal%20Sensor%20(APS)&start=306  <->  [ok] - 剩余数量：141\n",
      "https://ecatalog.smpcorp.com/V2/STD/api/part/partsearch?filterType=n&searchType=p&imageSize=80&limit=1&sort=3&catFilter=-All-&yearFilter=-All-&makeFilter=-All-&modelFilter=-All-&engineFilter=-All-&attrCodeFilter=-All-&attrValueFilter=-All-&plkEngineMakeFilter=-All-&plkEngineModelFilter=-All-&plkEngineDispFilter=-All-&filter=Accelerator%20Pedal%20Sensor%20(APS)&start=305  <->  [ok] - 剩余数量：140\n"
     ]
    },
    {
     "name": "stderr",
     "output_type": "stream",
     "text": [
      "C:\\Users\\YangTeng\\AppData\\Local\\Temp\\ipykernel_2604\\3929323490.py:58: FutureWarning: Setting an item of incompatible dtype is deprecated and will raise in a future error of pandas. Value 'ok' has dtype incompatible with float64, please explicitly cast to a compatible dtype first.\n",
      "  df_temp.loc[0, 'status'] = 'ok'\n",
      "C:\\Users\\YangTeng\\AppData\\Local\\Temp\\ipykernel_2604\\3929323490.py:59: FutureWarning: Setting an item of incompatible dtype is deprecated and will raise in a future error of pandas. Value 'https://ecatalog.smpcorp.com/V2/STD/api/part/partsearch?filterType=n&searchType=p&imageSize=80&limit=1&sort=3&catFilter=-All-&yearFilter=-All-&makeFilter=-All-&modelFilter=-All-&engineFilter=-All-&attrCodeFilter=-All-&attrValueFilter=-All-&plkEngineMakeFilter=-All-&plkEngineModelFilter=-All-&plkEngineDispFilter=-All-&filter=Accelerator%20Pedal%20Sensor%20(APS)&start=319' has dtype incompatible with float64, please explicitly cast to a compatible dtype first.\n",
      "  df_temp.loc[0, 'Url'] = url\n",
      "C:\\Users\\YangTeng\\AppData\\Local\\Temp\\ipykernel_2604\\3929323490.py:58: FutureWarning: Setting an item of incompatible dtype is deprecated and will raise in a future error of pandas. Value 'ok' has dtype incompatible with float64, please explicitly cast to a compatible dtype first.\n",
      "  df_temp.loc[0, 'status'] = 'ok'\n",
      "C:\\Users\\YangTeng\\AppData\\Local\\Temp\\ipykernel_2604\\3929323490.py:59: FutureWarning: Setting an item of incompatible dtype is deprecated and will raise in a future error of pandas. Value 'https://ecatalog.smpcorp.com/V2/STD/api/part/partsearch?filterType=n&searchType=p&imageSize=80&limit=1&sort=3&catFilter=-All-&yearFilter=-All-&makeFilter=-All-&modelFilter=-All-&engineFilter=-All-&attrCodeFilter=-All-&attrValueFilter=-All-&plkEngineMakeFilter=-All-&plkEngineModelFilter=-All-&plkEngineDispFilter=-All-&filter=Accelerator%20Pedal%20Sensor%20(APS)&start=314' has dtype incompatible with float64, please explicitly cast to a compatible dtype first.\n",
      "  df_temp.loc[0, 'Url'] = url\n",
      "C:\\Users\\YangTeng\\AppData\\Local\\Temp\\ipykernel_2604\\3929323490.py:58: FutureWarning: Setting an item of incompatible dtype is deprecated and will raise in a future error of pandas. Value 'ok' has dtype incompatible with float64, please explicitly cast to a compatible dtype first.\n",
      "  df_temp.loc[0, 'status'] = 'ok'\n",
      "C:\\Users\\YangTeng\\AppData\\Local\\Temp\\ipykernel_2604\\3929323490.py:59: FutureWarning: Setting an item of incompatible dtype is deprecated and will raise in a future error of pandas. Value 'https://ecatalog.smpcorp.com/V2/STD/api/part/partsearch?filterType=n&searchType=p&imageSize=80&limit=1&sort=3&catFilter=-All-&yearFilter=-All-&makeFilter=-All-&modelFilter=-All-&engineFilter=-All-&attrCodeFilter=-All-&attrValueFilter=-All-&plkEngineMakeFilter=-All-&plkEngineModelFilter=-All-&plkEngineDispFilter=-All-&filter=Accelerator%20Pedal%20Sensor%20(APS)&start=317' has dtype incompatible with float64, please explicitly cast to a compatible dtype first.\n",
      "  df_temp.loc[0, 'Url'] = url\n",
      "C:\\Users\\YangTeng\\AppData\\Local\\Temp\\ipykernel_2604\\3929323490.py:58: FutureWarning: Setting an item of incompatible dtype is deprecated and will raise in a future error of pandas. Value 'ok' has dtype incompatible with float64, please explicitly cast to a compatible dtype first.\n",
      "  df_temp.loc[0, 'status'] = 'ok'\n",
      "C:\\Users\\YangTeng\\AppData\\Local\\Temp\\ipykernel_2604\\3929323490.py:59: FutureWarning: Setting an item of incompatible dtype is deprecated and will raise in a future error of pandas. Value 'https://ecatalog.smpcorp.com/V2/STD/api/part/partsearch?filterType=n&searchType=p&imageSize=80&limit=1&sort=3&catFilter=-All-&yearFilter=-All-&makeFilter=-All-&modelFilter=-All-&engineFilter=-All-&attrCodeFilter=-All-&attrValueFilter=-All-&plkEngineMakeFilter=-All-&plkEngineModelFilter=-All-&plkEngineDispFilter=-All-&filter=Accelerator%20Pedal%20Sensor%20(APS)&start=312' has dtype incompatible with float64, please explicitly cast to a compatible dtype first.\n",
      "  df_temp.loc[0, 'Url'] = url\n",
      "C:\\Users\\YangTeng\\AppData\\Local\\Temp\\ipykernel_2604\\3929323490.py:58: FutureWarning: Setting an item of incompatible dtype is deprecated and will raise in a future error of pandas. Value 'ok' has dtype incompatible with float64, please explicitly cast to a compatible dtype first.\n",
      "  df_temp.loc[0, 'status'] = 'ok'\n",
      "C:\\Users\\YangTeng\\AppData\\Local\\Temp\\ipykernel_2604\\3929323490.py:59: FutureWarning: Setting an item of incompatible dtype is deprecated and will raise in a future error of pandas. Value 'https://ecatalog.smpcorp.com/V2/STD/api/part/partsearch?filterType=n&searchType=p&imageSize=80&limit=1&sort=3&catFilter=-All-&yearFilter=-All-&makeFilter=-All-&modelFilter=-All-&engineFilter=-All-&attrCodeFilter=-All-&attrValueFilter=-All-&plkEngineMakeFilter=-All-&plkEngineModelFilter=-All-&plkEngineDispFilter=-All-&filter=Accelerator%20Pedal%20Sensor%20(APS)&start=318' has dtype incompatible with float64, please explicitly cast to a compatible dtype first.\n",
      "  df_temp.loc[0, 'Url'] = url\n",
      "C:\\Users\\YangTeng\\AppData\\Local\\Temp\\ipykernel_2604\\3929323490.py:58: FutureWarning: Setting an item of incompatible dtype is deprecated and will raise in a future error of pandas. Value 'ok' has dtype incompatible with float64, please explicitly cast to a compatible dtype first.\n",
      "  df_temp.loc[0, 'status'] = 'ok'\n",
      "C:\\Users\\YangTeng\\AppData\\Local\\Temp\\ipykernel_2604\\3929323490.py:59: FutureWarning: Setting an item of incompatible dtype is deprecated and will raise in a future error of pandas. Value 'https://ecatalog.smpcorp.com/V2/STD/api/part/partsearch?filterType=n&searchType=p&imageSize=80&limit=1&sort=3&catFilter=-All-&yearFilter=-All-&makeFilter=-All-&modelFilter=-All-&engineFilter=-All-&attrCodeFilter=-All-&attrValueFilter=-All-&plkEngineMakeFilter=-All-&plkEngineModelFilter=-All-&plkEngineDispFilter=-All-&filter=Accelerator%20Pedal%20Sensor%20(APS)&start=310' has dtype incompatible with float64, please explicitly cast to a compatible dtype first.\n",
      "  df_temp.loc[0, 'Url'] = url\n"
     ]
    },
    {
     "name": "stdout",
     "output_type": "stream",
     "text": [
      "https://ecatalog.smpcorp.com/V2/STD/api/part/partsearch?filterType=n&searchType=p&imageSize=80&limit=1&sort=3&catFilter=-All-&yearFilter=-All-&makeFilter=-All-&modelFilter=-All-&engineFilter=-All-&attrCodeFilter=-All-&attrValueFilter=-All-&plkEngineMakeFilter=-All-&plkEngineModelFilter=-All-&plkEngineDispFilter=-All-&filter=Accelerator%20Pedal%20Sensor%20(APS)&start=319  <->  [ok] - 剩余数量：139\n",
      "https://ecatalog.smpcorp.com/V2/STD/api/part/partsearch?filterType=n&searchType=p&imageSize=80&limit=1&sort=3&catFilter=-All-&yearFilter=-All-&makeFilter=-All-&modelFilter=-All-&engineFilter=-All-&attrCodeFilter=-All-&attrValueFilter=-All-&plkEngineMakeFilter=-All-&plkEngineModelFilter=-All-&plkEngineDispFilter=-All-&filter=Accelerator%20Pedal%20Sensor%20(APS)&start=314  <->  [ok] - 剩余数量：138\n",
      "https://ecatalog.smpcorp.com/V2/STD/api/part/partsearch?filterType=n&searchType=p&imageSize=80&limit=1&sort=3&catFilter=-All-&yearFilter=-All-&makeFilter=-All-&modelFilter=-All-&engineFilter=-All-&attrCodeFilter=-All-&attrValueFilter=-All-&plkEngineMakeFilter=-All-&plkEngineModelFilter=-All-&plkEngineDispFilter=-All-&filter=Accelerator%20Pedal%20Sensor%20(APS)&start=317  <->  [ok] - 剩余数量：137\n",
      "https://ecatalog.smpcorp.com/V2/STD/api/part/partsearch?filterType=n&searchType=p&imageSize=80&limit=1&sort=3&catFilter=-All-&yearFilter=-All-&makeFilter=-All-&modelFilter=-All-&engineFilter=-All-&attrCodeFilter=-All-&attrValueFilter=-All-&plkEngineMakeFilter=-All-&plkEngineModelFilter=-All-&plkEngineDispFilter=-All-&filter=Accelerator%20Pedal%20Sensor%20(APS)&start=312  <->  [ok] - 剩余数量：136\n",
      "https://ecatalog.smpcorp.com/V2/STD/api/part/partsearch?filterType=n&searchType=p&imageSize=80&limit=1&sort=3&catFilter=-All-&yearFilter=-All-&makeFilter=-All-&modelFilter=-All-&engineFilter=-All-&attrCodeFilter=-All-&attrValueFilter=-All-&plkEngineMakeFilter=-All-&plkEngineModelFilter=-All-&plkEngineDispFilter=-All-&filter=Accelerator%20Pedal%20Sensor%20(APS)&start=318  <->  [ok] - 剩余数量：135\n",
      "https://ecatalog.smpcorp.com/V2/STD/api/part/partsearch?filterType=n&searchType=p&imageSize=80&limit=1&sort=3&catFilter=-All-&yearFilter=-All-&makeFilter=-All-&modelFilter=-All-&engineFilter=-All-&attrCodeFilter=-All-&attrValueFilter=-All-&plkEngineMakeFilter=-All-&plkEngineModelFilter=-All-&plkEngineDispFilter=-All-&filter=Accelerator%20Pedal%20Sensor%20(APS)&start=310  <->  [ok] - 剩余数量：134\n"
     ]
    },
    {
     "name": "stderr",
     "output_type": "stream",
     "text": [
      "C:\\Users\\YangTeng\\AppData\\Local\\Temp\\ipykernel_2604\\3929323490.py:58: FutureWarning: Setting an item of incompatible dtype is deprecated and will raise in a future error of pandas. Value 'ok' has dtype incompatible with float64, please explicitly cast to a compatible dtype first.\n",
      "  df_temp.loc[0, 'status'] = 'ok'\n",
      "C:\\Users\\YangTeng\\AppData\\Local\\Temp\\ipykernel_2604\\3929323490.py:59: FutureWarning: Setting an item of incompatible dtype is deprecated and will raise in a future error of pandas. Value 'https://ecatalog.smpcorp.com/V2/STD/api/part/partsearch?filterType=n&searchType=p&imageSize=80&limit=1&sort=3&catFilter=-All-&yearFilter=-All-&makeFilter=-All-&modelFilter=-All-&engineFilter=-All-&attrCodeFilter=-All-&attrValueFilter=-All-&plkEngineMakeFilter=-All-&plkEngineModelFilter=-All-&plkEngineDispFilter=-All-&filter=Accelerator%20Pedal%20Sensor%20(APS)&start=316' has dtype incompatible with float64, please explicitly cast to a compatible dtype first.\n",
      "  df_temp.loc[0, 'Url'] = url\n"
     ]
    },
    {
     "name": "stdout",
     "output_type": "stream",
     "text": [
      "https://ecatalog.smpcorp.com/V2/STD/api/part/partsearch?filterType=n&searchType=p&imageSize=80&limit=1&sort=3&catFilter=-All-&yearFilter=-All-&makeFilter=-All-&modelFilter=-All-&engineFilter=-All-&attrCodeFilter=-All-&attrValueFilter=-All-&plkEngineMakeFilter=-All-&plkEngineModelFilter=-All-&plkEngineDispFilter=-All-&filter=Accelerator%20Pedal%20Sensor%20(APS)&start=316  <->  [ok] - 剩余数量：133\n"
     ]
    },
    {
     "name": "stderr",
     "output_type": "stream",
     "text": [
      "C:\\Users\\YangTeng\\AppData\\Local\\Temp\\ipykernel_2604\\3929323490.py:58: FutureWarning: Setting an item of incompatible dtype is deprecated and will raise in a future error of pandas. Value 'ok' has dtype incompatible with float64, please explicitly cast to a compatible dtype first.\n",
      "  df_temp.loc[0, 'status'] = 'ok'\n",
      "C:\\Users\\YangTeng\\AppData\\Local\\Temp\\ipykernel_2604\\3929323490.py:59: FutureWarning: Setting an item of incompatible dtype is deprecated and will raise in a future error of pandas. Value 'https://ecatalog.smpcorp.com/V2/STD/api/part/partsearch?filterType=n&searchType=p&imageSize=80&limit=1&sort=3&catFilter=-All-&yearFilter=-All-&makeFilter=-All-&modelFilter=-All-&engineFilter=-All-&attrCodeFilter=-All-&attrValueFilter=-All-&plkEngineMakeFilter=-All-&plkEngineModelFilter=-All-&plkEngineDispFilter=-All-&filter=Accelerator%20Pedal%20Sensor%20(APS)&start=311' has dtype incompatible with float64, please explicitly cast to a compatible dtype first.\n",
      "  df_temp.loc[0, 'Url'] = url\n",
      "C:\\Users\\YangTeng\\AppData\\Local\\Temp\\ipykernel_2604\\3929323490.py:58: FutureWarning: Setting an item of incompatible dtype is deprecated and will raise in a future error of pandas. Value 'ok' has dtype incompatible with float64, please explicitly cast to a compatible dtype first.\n",
      "  df_temp.loc[0, 'status'] = 'ok'\n",
      "C:\\Users\\YangTeng\\AppData\\Local\\Temp\\ipykernel_2604\\3929323490.py:59: FutureWarning: Setting an item of incompatible dtype is deprecated and will raise in a future error of pandas. Value 'https://ecatalog.smpcorp.com/V2/STD/api/part/partsearch?filterType=n&searchType=p&imageSize=80&limit=1&sort=3&catFilter=-All-&yearFilter=-All-&makeFilter=-All-&modelFilter=-All-&engineFilter=-All-&attrCodeFilter=-All-&attrValueFilter=-All-&plkEngineMakeFilter=-All-&plkEngineModelFilter=-All-&plkEngineDispFilter=-All-&filter=Accelerator%20Pedal%20Sensor%20(APS)&start=320' has dtype incompatible with float64, please explicitly cast to a compatible dtype first.\n",
      "  df_temp.loc[0, 'Url'] = url\n"
     ]
    },
    {
     "name": "stdout",
     "output_type": "stream",
     "text": [
      "https://ecatalog.smpcorp.com/V2/STD/api/part/partsearch?filterType=n&searchType=p&imageSize=80&limit=1&sort=3&catFilter=-All-&yearFilter=-All-&makeFilter=-All-&modelFilter=-All-&engineFilter=-All-&attrCodeFilter=-All-&attrValueFilter=-All-&plkEngineMakeFilter=-All-&plkEngineModelFilter=-All-&plkEngineDispFilter=-All-&filter=Accelerator%20Pedal%20Sensor%20(APS)&start=311  <->  [ok] - 剩余数量：132\n",
      "https://ecatalog.smpcorp.com/V2/STD/api/part/partsearch?filterType=n&searchType=p&imageSize=80&limit=1&sort=3&catFilter=-All-&yearFilter=-All-&makeFilter=-All-&modelFilter=-All-&engineFilter=-All-&attrCodeFilter=-All-&attrValueFilter=-All-&plkEngineMakeFilter=-All-&plkEngineModelFilter=-All-&plkEngineDispFilter=-All-&filter=Accelerator%20Pedal%20Sensor%20(APS)&start=320  <->  [ok] - 剩余数量：131\n"
     ]
    },
    {
     "name": "stderr",
     "output_type": "stream",
     "text": [
      "C:\\Users\\YangTeng\\AppData\\Local\\Temp\\ipykernel_2604\\3929323490.py:58: FutureWarning: Setting an item of incompatible dtype is deprecated and will raise in a future error of pandas. Value 'ok' has dtype incompatible with float64, please explicitly cast to a compatible dtype first.\n",
      "  df_temp.loc[0, 'status'] = 'ok'\n",
      "C:\\Users\\YangTeng\\AppData\\Local\\Temp\\ipykernel_2604\\3929323490.py:59: FutureWarning: Setting an item of incompatible dtype is deprecated and will raise in a future error of pandas. Value 'https://ecatalog.smpcorp.com/V2/STD/api/part/partsearch?filterType=n&searchType=p&imageSize=80&limit=1&sort=3&catFilter=-All-&yearFilter=-All-&makeFilter=-All-&modelFilter=-All-&engineFilter=-All-&attrCodeFilter=-All-&attrValueFilter=-All-&plkEngineMakeFilter=-All-&plkEngineModelFilter=-All-&plkEngineDispFilter=-All-&filter=Accelerator%20Pedal%20Sensor%20(APS)&start=321' has dtype incompatible with float64, please explicitly cast to a compatible dtype first.\n",
      "  df_temp.loc[0, 'Url'] = url\n"
     ]
    },
    {
     "name": "stdout",
     "output_type": "stream",
     "text": [
      "https://ecatalog.smpcorp.com/V2/STD/api/part/partsearch?filterType=n&searchType=p&imageSize=80&limit=1&sort=3&catFilter=-All-&yearFilter=-All-&makeFilter=-All-&modelFilter=-All-&engineFilter=-All-&attrCodeFilter=-All-&attrValueFilter=-All-&plkEngineMakeFilter=-All-&plkEngineModelFilter=-All-&plkEngineDispFilter=-All-&filter=Accelerator%20Pedal%20Sensor%20(APS)&start=321  <->  [ok] - 剩余数量：130\n"
     ]
    },
    {
     "name": "stderr",
     "output_type": "stream",
     "text": [
      "C:\\Users\\YangTeng\\AppData\\Local\\Temp\\ipykernel_2604\\3929323490.py:58: FutureWarning: Setting an item of incompatible dtype is deprecated and will raise in a future error of pandas. Value 'ok' has dtype incompatible with float64, please explicitly cast to a compatible dtype first.\n",
      "  df_temp.loc[0, 'status'] = 'ok'\n",
      "C:\\Users\\YangTeng\\AppData\\Local\\Temp\\ipykernel_2604\\3929323490.py:59: FutureWarning: Setting an item of incompatible dtype is deprecated and will raise in a future error of pandas. Value 'https://ecatalog.smpcorp.com/V2/STD/api/part/partsearch?filterType=n&searchType=p&imageSize=80&limit=1&sort=3&catFilter=-All-&yearFilter=-All-&makeFilter=-All-&modelFilter=-All-&engineFilter=-All-&attrCodeFilter=-All-&attrValueFilter=-All-&plkEngineMakeFilter=-All-&plkEngineModelFilter=-All-&plkEngineDispFilter=-All-&filter=Accelerator%20Pedal%20Sensor%20(APS)&start=323' has dtype incompatible with float64, please explicitly cast to a compatible dtype first.\n",
      "  df_temp.loc[0, 'Url'] = url\n",
      "C:\\Users\\YangTeng\\AppData\\Local\\Temp\\ipykernel_2604\\3929323490.py:58: FutureWarning: Setting an item of incompatible dtype is deprecated and will raise in a future error of pandas. Value 'ok' has dtype incompatible with float64, please explicitly cast to a compatible dtype first.\n",
      "  df_temp.loc[0, 'status'] = 'ok'\n",
      "C:\\Users\\YangTeng\\AppData\\Local\\Temp\\ipykernel_2604\\3929323490.py:59: FutureWarning: Setting an item of incompatible dtype is deprecated and will raise in a future error of pandas. Value 'https://ecatalog.smpcorp.com/V2/STD/api/part/partsearch?filterType=n&searchType=p&imageSize=80&limit=1&sort=3&catFilter=-All-&yearFilter=-All-&makeFilter=-All-&modelFilter=-All-&engineFilter=-All-&attrCodeFilter=-All-&attrValueFilter=-All-&plkEngineMakeFilter=-All-&plkEngineModelFilter=-All-&plkEngineDispFilter=-All-&filter=Accelerator%20Pedal%20Sensor%20(APS)&start=332' has dtype incompatible with float64, please explicitly cast to a compatible dtype first.\n",
      "  df_temp.loc[0, 'Url'] = url\n",
      "C:\\Users\\YangTeng\\AppData\\Local\\Temp\\ipykernel_2604\\3929323490.py:58: FutureWarning: Setting an item of incompatible dtype is deprecated and will raise in a future error of pandas. Value 'ok' has dtype incompatible with float64, please explicitly cast to a compatible dtype first.\n",
      "  df_temp.loc[0, 'status'] = 'ok'\n",
      "C:\\Users\\YangTeng\\AppData\\Local\\Temp\\ipykernel_2604\\3929323490.py:59: FutureWarning: Setting an item of incompatible dtype is deprecated and will raise in a future error of pandas. Value 'https://ecatalog.smpcorp.com/V2/STD/api/part/partsearch?filterType=n&searchType=p&imageSize=80&limit=1&sort=3&catFilter=-All-&yearFilter=-All-&makeFilter=-All-&modelFilter=-All-&engineFilter=-All-&attrCodeFilter=-All-&attrValueFilter=-All-&plkEngineMakeFilter=-All-&plkEngineModelFilter=-All-&plkEngineDispFilter=-All-&filter=Accelerator%20Pedal%20Sensor%20(APS)&start=324' has dtype incompatible with float64, please explicitly cast to a compatible dtype first.\n",
      "  df_temp.loc[0, 'Url'] = url\n",
      "C:\\Users\\YangTeng\\AppData\\Local\\Temp\\ipykernel_2604\\3929323490.py:58: FutureWarning: Setting an item of incompatible dtype is deprecated and will raise in a future error of pandas. Value 'ok' has dtype incompatible with float64, please explicitly cast to a compatible dtype first.\n",
      "  df_temp.loc[0, 'status'] = 'ok'\n",
      "C:\\Users\\YangTeng\\AppData\\Local\\Temp\\ipykernel_2604\\3929323490.py:59: FutureWarning: Setting an item of incompatible dtype is deprecated and will raise in a future error of pandas. Value 'https://ecatalog.smpcorp.com/V2/STD/api/part/partsearch?filterType=n&searchType=p&imageSize=80&limit=1&sort=3&catFilter=-All-&yearFilter=-All-&makeFilter=-All-&modelFilter=-All-&engineFilter=-All-&attrCodeFilter=-All-&attrValueFilter=-All-&plkEngineMakeFilter=-All-&plkEngineModelFilter=-All-&plkEngineDispFilter=-All-&filter=Accelerator%20Pedal%20Sensor%20(APS)&start=325' has dtype incompatible with float64, please explicitly cast to a compatible dtype first.\n",
      "  df_temp.loc[0, 'Url'] = url\n",
      "C:\\Users\\YangTeng\\AppData\\Local\\Temp\\ipykernel_2604\\3929323490.py:58: FutureWarning: Setting an item of incompatible dtype is deprecated and will raise in a future error of pandas. Value 'ok' has dtype incompatible with float64, please explicitly cast to a compatible dtype first.\n",
      "  df_temp.loc[0, 'status'] = 'ok'\n",
      "C:\\Users\\YangTeng\\AppData\\Local\\Temp\\ipykernel_2604\\3929323490.py:59: FutureWarning: Setting an item of incompatible dtype is deprecated and will raise in a future error of pandas. Value 'https://ecatalog.smpcorp.com/V2/STD/api/part/partsearch?filterType=n&searchType=p&imageSize=80&limit=1&sort=3&catFilter=-All-&yearFilter=-All-&makeFilter=-All-&modelFilter=-All-&engineFilter=-All-&attrCodeFilter=-All-&attrValueFilter=-All-&plkEngineMakeFilter=-All-&plkEngineModelFilter=-All-&plkEngineDispFilter=-All-&filter=Accelerator%20Pedal%20Sensor%20(APS)&start=327' has dtype incompatible with float64, please explicitly cast to a compatible dtype first.\n",
      "  df_temp.loc[0, 'Url'] = url\n",
      "C:\\Users\\YangTeng\\AppData\\Local\\Temp\\ipykernel_2604\\3929323490.py:58: FutureWarning: Setting an item of incompatible dtype is deprecated and will raise in a future error of pandas. Value 'ok' has dtype incompatible with float64, please explicitly cast to a compatible dtype first.\n",
      "  df_temp.loc[0, 'status'] = 'ok'\n",
      "C:\\Users\\YangTeng\\AppData\\Local\\Temp\\ipykernel_2604\\3929323490.py:59: FutureWarning: Setting an item of incompatible dtype is deprecated and will raise in a future error of pandas. Value 'https://ecatalog.smpcorp.com/V2/STD/api/part/partsearch?filterType=n&searchType=p&imageSize=80&limit=1&sort=3&catFilter=-All-&yearFilter=-All-&makeFilter=-All-&modelFilter=-All-&engineFilter=-All-&attrCodeFilter=-All-&attrValueFilter=-All-&plkEngineMakeFilter=-All-&plkEngineModelFilter=-All-&plkEngineDispFilter=-All-&filter=Accelerator%20Pedal%20Sensor%20(APS)&start=326' has dtype incompatible with float64, please explicitly cast to a compatible dtype first.\n",
      "  df_temp.loc[0, 'Url'] = url\n",
      "C:\\Users\\YangTeng\\AppData\\Local\\Temp\\ipykernel_2604\\3929323490.py:58: FutureWarning: Setting an item of incompatible dtype is deprecated and will raise in a future error of pandas. Value 'ok' has dtype incompatible with float64, please explicitly cast to a compatible dtype first.\n",
      "  df_temp.loc[0, 'status'] = 'ok'\n",
      "C:\\Users\\YangTeng\\AppData\\Local\\Temp\\ipykernel_2604\\3929323490.py:59: FutureWarning: Setting an item of incompatible dtype is deprecated and will raise in a future error of pandas. Value 'https://ecatalog.smpcorp.com/V2/STD/api/part/partsearch?filterType=n&searchType=p&imageSize=80&limit=1&sort=3&catFilter=-All-&yearFilter=-All-&makeFilter=-All-&modelFilter=-All-&engineFilter=-All-&attrCodeFilter=-All-&attrValueFilter=-All-&plkEngineMakeFilter=-All-&plkEngineModelFilter=-All-&plkEngineDispFilter=-All-&filter=Accelerator%20Pedal%20Sensor%20(APS)&start=331' has dtype incompatible with float64, please explicitly cast to a compatible dtype first.\n",
      "  df_temp.loc[0, 'Url'] = url\n"
     ]
    },
    {
     "name": "stdout",
     "output_type": "stream",
     "text": [
      "https://ecatalog.smpcorp.com/V2/STD/api/part/partsearch?filterType=n&searchType=p&imageSize=80&limit=1&sort=3&catFilter=-All-&yearFilter=-All-&makeFilter=-All-&modelFilter=-All-&engineFilter=-All-&attrCodeFilter=-All-&attrValueFilter=-All-&plkEngineMakeFilter=-All-&plkEngineModelFilter=-All-&plkEngineDispFilter=-All-&filter=Accelerator%20Pedal%20Sensor%20(APS)&start=323  <->  [ok] - 剩余数量：129\n",
      "https://ecatalog.smpcorp.com/V2/STD/api/part/partsearch?filterType=n&searchType=p&imageSize=80&limit=1&sort=3&catFilter=-All-&yearFilter=-All-&makeFilter=-All-&modelFilter=-All-&engineFilter=-All-&attrCodeFilter=-All-&attrValueFilter=-All-&plkEngineMakeFilter=-All-&plkEngineModelFilter=-All-&plkEngineDispFilter=-All-&filter=Accelerator%20Pedal%20Sensor%20(APS)&start=332  <->  [ok] - 剩余数量：128\n",
      "https://ecatalog.smpcorp.com/V2/STD/api/part/partsearch?filterType=n&searchType=p&imageSize=80&limit=1&sort=3&catFilter=-All-&yearFilter=-All-&makeFilter=-All-&modelFilter=-All-&engineFilter=-All-&attrCodeFilter=-All-&attrValueFilter=-All-&plkEngineMakeFilter=-All-&plkEngineModelFilter=-All-&plkEngineDispFilter=-All-&filter=Accelerator%20Pedal%20Sensor%20(APS)&start=324  <->  [ok] - 剩余数量：127\n",
      "https://ecatalog.smpcorp.com/V2/STD/api/part/partsearch?filterType=n&searchType=p&imageSize=80&limit=1&sort=3&catFilter=-All-&yearFilter=-All-&makeFilter=-All-&modelFilter=-All-&engineFilter=-All-&attrCodeFilter=-All-&attrValueFilter=-All-&plkEngineMakeFilter=-All-&plkEngineModelFilter=-All-&plkEngineDispFilter=-All-&filter=Accelerator%20Pedal%20Sensor%20(APS)&start=325  <->  [ok] - 剩余数量：126\n",
      "https://ecatalog.smpcorp.com/V2/STD/api/part/partsearch?filterType=n&searchType=p&imageSize=80&limit=1&sort=3&catFilter=-All-&yearFilter=-All-&makeFilter=-All-&modelFilter=-All-&engineFilter=-All-&attrCodeFilter=-All-&attrValueFilter=-All-&plkEngineMakeFilter=-All-&plkEngineModelFilter=-All-&plkEngineDispFilter=-All-&filter=Accelerator%20Pedal%20Sensor%20(APS)&start=327  <->  [ok] - 剩余数量：125\n",
      "https://ecatalog.smpcorp.com/V2/STD/api/part/partsearch?filterType=n&searchType=p&imageSize=80&limit=1&sort=3&catFilter=-All-&yearFilter=-All-&makeFilter=-All-&modelFilter=-All-&engineFilter=-All-&attrCodeFilter=-All-&attrValueFilter=-All-&plkEngineMakeFilter=-All-&plkEngineModelFilter=-All-&plkEngineDispFilter=-All-&filter=Accelerator%20Pedal%20Sensor%20(APS)&start=326  <->  [ok] - 剩余数量：124\n",
      "https://ecatalog.smpcorp.com/V2/STD/api/part/partsearch?filterType=n&searchType=p&imageSize=80&limit=1&sort=3&catFilter=-All-&yearFilter=-All-&makeFilter=-All-&modelFilter=-All-&engineFilter=-All-&attrCodeFilter=-All-&attrValueFilter=-All-&plkEngineMakeFilter=-All-&plkEngineModelFilter=-All-&plkEngineDispFilter=-All-&filter=Accelerator%20Pedal%20Sensor%20(APS)&start=331  <->  [ok] - 剩余数量：123\n"
     ]
    },
    {
     "name": "stderr",
     "output_type": "stream",
     "text": [
      "C:\\Users\\YangTeng\\AppData\\Local\\Temp\\ipykernel_2604\\3929323490.py:58: FutureWarning: Setting an item of incompatible dtype is deprecated and will raise in a future error of pandas. Value 'ok' has dtype incompatible with float64, please explicitly cast to a compatible dtype first.\n",
      "  df_temp.loc[0, 'status'] = 'ok'\n",
      "C:\\Users\\YangTeng\\AppData\\Local\\Temp\\ipykernel_2604\\3929323490.py:59: FutureWarning: Setting an item of incompatible dtype is deprecated and will raise in a future error of pandas. Value 'https://ecatalog.smpcorp.com/V2/STD/api/part/partsearch?filterType=n&searchType=p&imageSize=80&limit=1&sort=3&catFilter=-All-&yearFilter=-All-&makeFilter=-All-&modelFilter=-All-&engineFilter=-All-&attrCodeFilter=-All-&attrValueFilter=-All-&plkEngineMakeFilter=-All-&plkEngineModelFilter=-All-&plkEngineDispFilter=-All-&filter=Accelerator%20Pedal%20Sensor%20(APS)&start=322' has dtype incompatible with float64, please explicitly cast to a compatible dtype first.\n",
      "  df_temp.loc[0, 'Url'] = url\n"
     ]
    },
    {
     "name": "stdout",
     "output_type": "stream",
     "text": [
      "https://ecatalog.smpcorp.com/V2/STD/api/part/partsearch?filterType=n&searchType=p&imageSize=80&limit=1&sort=3&catFilter=-All-&yearFilter=-All-&makeFilter=-All-&modelFilter=-All-&engineFilter=-All-&attrCodeFilter=-All-&attrValueFilter=-All-&plkEngineMakeFilter=-All-&plkEngineModelFilter=-All-&plkEngineDispFilter=-All-&filter=Accelerator%20Pedal%20Sensor%20(APS)&start=322  <->  [ok] - 剩余数量：122\n"
     ]
    },
    {
     "name": "stderr",
     "output_type": "stream",
     "text": [
      "C:\\Users\\YangTeng\\AppData\\Local\\Temp\\ipykernel_2604\\3929323490.py:58: FutureWarning: Setting an item of incompatible dtype is deprecated and will raise in a future error of pandas. Value 'ok' has dtype incompatible with float64, please explicitly cast to a compatible dtype first.\n",
      "  df_temp.loc[0, 'status'] = 'ok'\n",
      "C:\\Users\\YangTeng\\AppData\\Local\\Temp\\ipykernel_2604\\3929323490.py:59: FutureWarning: Setting an item of incompatible dtype is deprecated and will raise in a future error of pandas. Value 'https://ecatalog.smpcorp.com/V2/STD/api/part/partsearch?filterType=n&searchType=p&imageSize=80&limit=1&sort=3&catFilter=-All-&yearFilter=-All-&makeFilter=-All-&modelFilter=-All-&engineFilter=-All-&attrCodeFilter=-All-&attrValueFilter=-All-&plkEngineMakeFilter=-All-&plkEngineModelFilter=-All-&plkEngineDispFilter=-All-&filter=Accelerator%20Pedal%20Sensor%20(APS)&start=333' has dtype incompatible with float64, please explicitly cast to a compatible dtype first.\n",
      "  df_temp.loc[0, 'Url'] = url\n"
     ]
    },
    {
     "name": "stdout",
     "output_type": "stream",
     "text": [
      "https://ecatalog.smpcorp.com/V2/STD/api/part/partsearch?filterType=n&searchType=p&imageSize=80&limit=1&sort=3&catFilter=-All-&yearFilter=-All-&makeFilter=-All-&modelFilter=-All-&engineFilter=-All-&attrCodeFilter=-All-&attrValueFilter=-All-&plkEngineMakeFilter=-All-&plkEngineModelFilter=-All-&plkEngineDispFilter=-All-&filter=Accelerator%20Pedal%20Sensor%20(APS)&start=333  <->  [ok] - 剩余数量：121\n"
     ]
    },
    {
     "name": "stderr",
     "output_type": "stream",
     "text": [
      "C:\\Users\\YangTeng\\AppData\\Local\\Temp\\ipykernel_2604\\3929323490.py:58: FutureWarning: Setting an item of incompatible dtype is deprecated and will raise in a future error of pandas. Value 'ok' has dtype incompatible with float64, please explicitly cast to a compatible dtype first.\n",
      "  df_temp.loc[0, 'status'] = 'ok'\n",
      "C:\\Users\\YangTeng\\AppData\\Local\\Temp\\ipykernel_2604\\3929323490.py:59: FutureWarning: Setting an item of incompatible dtype is deprecated and will raise in a future error of pandas. Value 'https://ecatalog.smpcorp.com/V2/STD/api/part/partsearch?filterType=n&searchType=p&imageSize=80&limit=1&sort=3&catFilter=-All-&yearFilter=-All-&makeFilter=-All-&modelFilter=-All-&engineFilter=-All-&attrCodeFilter=-All-&attrValueFilter=-All-&plkEngineMakeFilter=-All-&plkEngineModelFilter=-All-&plkEngineDispFilter=-All-&filter=Accelerator%20Pedal%20Sensor%20(APS)&start=329' has dtype incompatible with float64, please explicitly cast to a compatible dtype first.\n",
      "  df_temp.loc[0, 'Url'] = url\n",
      "C:\\Users\\YangTeng\\AppData\\Local\\Temp\\ipykernel_2604\\3929323490.py:58: FutureWarning: Setting an item of incompatible dtype is deprecated and will raise in a future error of pandas. Value 'ok' has dtype incompatible with float64, please explicitly cast to a compatible dtype first.\n",
      "  df_temp.loc[0, 'status'] = 'ok'\n",
      "C:\\Users\\YangTeng\\AppData\\Local\\Temp\\ipykernel_2604\\3929323490.py:59: FutureWarning: Setting an item of incompatible dtype is deprecated and will raise in a future error of pandas. Value 'https://ecatalog.smpcorp.com/V2/STD/api/part/partsearch?filterType=n&searchType=p&imageSize=80&limit=1&sort=3&catFilter=-All-&yearFilter=-All-&makeFilter=-All-&modelFilter=-All-&engineFilter=-All-&attrCodeFilter=-All-&attrValueFilter=-All-&plkEngineMakeFilter=-All-&plkEngineModelFilter=-All-&plkEngineDispFilter=-All-&filter=Accelerator%20Pedal%20Sensor%20(APS)&start=315' has dtype incompatible with float64, please explicitly cast to a compatible dtype first.\n",
      "  df_temp.loc[0, 'Url'] = url\n",
      "C:\\Users\\YangTeng\\AppData\\Local\\Temp\\ipykernel_2604\\3929323490.py:58: FutureWarning: Setting an item of incompatible dtype is deprecated and will raise in a future error of pandas. Value 'ok' has dtype incompatible with float64, please explicitly cast to a compatible dtype first.\n",
      "  df_temp.loc[0, 'status'] = 'ok'\n",
      "C:\\Users\\YangTeng\\AppData\\Local\\Temp\\ipykernel_2604\\3929323490.py:59: FutureWarning: Setting an item of incompatible dtype is deprecated and will raise in a future error of pandas. Value 'https://ecatalog.smpcorp.com/V2/STD/api/part/partsearch?filterType=n&searchType=p&imageSize=80&limit=1&sort=3&catFilter=-All-&yearFilter=-All-&makeFilter=-All-&modelFilter=-All-&engineFilter=-All-&attrCodeFilter=-All-&attrValueFilter=-All-&plkEngineMakeFilter=-All-&plkEngineModelFilter=-All-&plkEngineDispFilter=-All-&filter=Accelerator%20Pedal%20Sensor%20(APS)&start=313' has dtype incompatible with float64, please explicitly cast to a compatible dtype first.\n",
      "  df_temp.loc[0, 'Url'] = url\n"
     ]
    },
    {
     "name": "stdout",
     "output_type": "stream",
     "text": [
      "https://ecatalog.smpcorp.com/V2/STD/api/part/partsearch?filterType=n&searchType=p&imageSize=80&limit=1&sort=3&catFilter=-All-&yearFilter=-All-&makeFilter=-All-&modelFilter=-All-&engineFilter=-All-&attrCodeFilter=-All-&attrValueFilter=-All-&plkEngineMakeFilter=-All-&plkEngineModelFilter=-All-&plkEngineDispFilter=-All-&filter=Accelerator%20Pedal%20Sensor%20(APS)&start=329  <->  [ok] - 剩余数量：120\n",
      "https://ecatalog.smpcorp.com/V2/STD/api/part/partsearch?filterType=n&searchType=p&imageSize=80&limit=1&sort=3&catFilter=-All-&yearFilter=-All-&makeFilter=-All-&modelFilter=-All-&engineFilter=-All-&attrCodeFilter=-All-&attrValueFilter=-All-&plkEngineMakeFilter=-All-&plkEngineModelFilter=-All-&plkEngineDispFilter=-All-&filter=Accelerator%20Pedal%20Sensor%20(APS)&start=315  <->  [ok] - 剩余数量：119\n",
      "https://ecatalog.smpcorp.com/V2/STD/api/part/partsearch?filterType=n&searchType=p&imageSize=80&limit=1&sort=3&catFilter=-All-&yearFilter=-All-&makeFilter=-All-&modelFilter=-All-&engineFilter=-All-&attrCodeFilter=-All-&attrValueFilter=-All-&plkEngineMakeFilter=-All-&plkEngineModelFilter=-All-&plkEngineDispFilter=-All-&filter=Accelerator%20Pedal%20Sensor%20(APS)&start=313  <->  [ok] - 剩余数量：118\n"
     ]
    },
    {
     "name": "stderr",
     "output_type": "stream",
     "text": [
      "C:\\Users\\YangTeng\\AppData\\Local\\Temp\\ipykernel_2604\\3929323490.py:58: FutureWarning: Setting an item of incompatible dtype is deprecated and will raise in a future error of pandas. Value 'ok' has dtype incompatible with float64, please explicitly cast to a compatible dtype first.\n",
      "  df_temp.loc[0, 'status'] = 'ok'\n",
      "C:\\Users\\YangTeng\\AppData\\Local\\Temp\\ipykernel_2604\\3929323490.py:59: FutureWarning: Setting an item of incompatible dtype is deprecated and will raise in a future error of pandas. Value 'https://ecatalog.smpcorp.com/V2/STD/api/part/partsearch?filterType=n&searchType=p&imageSize=80&limit=1&sort=3&catFilter=-All-&yearFilter=-All-&makeFilter=-All-&modelFilter=-All-&engineFilter=-All-&attrCodeFilter=-All-&attrValueFilter=-All-&plkEngineMakeFilter=-All-&plkEngineModelFilter=-All-&plkEngineDispFilter=-All-&filter=Accelerator%20Pedal%20Sensor%20(APS)&start=330' has dtype incompatible with float64, please explicitly cast to a compatible dtype first.\n",
      "  df_temp.loc[0, 'Url'] = url\n",
      "C:\\Users\\YangTeng\\AppData\\Local\\Temp\\ipykernel_2604\\3929323490.py:58: FutureWarning: Setting an item of incompatible dtype is deprecated and will raise in a future error of pandas. Value 'ok' has dtype incompatible with float64, please explicitly cast to a compatible dtype first.\n",
      "  df_temp.loc[0, 'status'] = 'ok'\n",
      "C:\\Users\\YangTeng\\AppData\\Local\\Temp\\ipykernel_2604\\3929323490.py:59: FutureWarning: Setting an item of incompatible dtype is deprecated and will raise in a future error of pandas. Value 'https://ecatalog.smpcorp.com/V2/STD/api/part/partsearch?filterType=n&searchType=p&imageSize=80&limit=1&sort=3&catFilter=-All-&yearFilter=-All-&makeFilter=-All-&modelFilter=-All-&engineFilter=-All-&attrCodeFilter=-All-&attrValueFilter=-All-&plkEngineMakeFilter=-All-&plkEngineModelFilter=-All-&plkEngineDispFilter=-All-&filter=Accelerator%20Pedal%20Sensor%20(APS)&start=278' has dtype incompatible with float64, please explicitly cast to a compatible dtype first.\n",
      "  df_temp.loc[0, 'Url'] = url\n"
     ]
    },
    {
     "name": "stdout",
     "output_type": "stream",
     "text": [
      "https://ecatalog.smpcorp.com/V2/STD/api/part/partsearch?filterType=n&searchType=p&imageSize=80&limit=1&sort=3&catFilter=-All-&yearFilter=-All-&makeFilter=-All-&modelFilter=-All-&engineFilter=-All-&attrCodeFilter=-All-&attrValueFilter=-All-&plkEngineMakeFilter=-All-&plkEngineModelFilter=-All-&plkEngineDispFilter=-All-&filter=Accelerator%20Pedal%20Sensor%20(APS)&start=330  <->  [ok] - 剩余数量：117\n",
      "https://ecatalog.smpcorp.com/V2/STD/api/part/partsearch?filterType=n&searchType=p&imageSize=80&limit=1&sort=3&catFilter=-All-&yearFilter=-All-&makeFilter=-All-&modelFilter=-All-&engineFilter=-All-&attrCodeFilter=-All-&attrValueFilter=-All-&plkEngineMakeFilter=-All-&plkEngineModelFilter=-All-&plkEngineDispFilter=-All-&filter=Accelerator%20Pedal%20Sensor%20(APS)&start=278  <->  [ok] - 剩余数量：116\n"
     ]
    },
    {
     "name": "stderr",
     "output_type": "stream",
     "text": [
      "C:\\Users\\YangTeng\\AppData\\Local\\Temp\\ipykernel_2604\\3929323490.py:58: FutureWarning: Setting an item of incompatible dtype is deprecated and will raise in a future error of pandas. Value 'ok' has dtype incompatible with float64, please explicitly cast to a compatible dtype first.\n",
      "  df_temp.loc[0, 'status'] = 'ok'\n",
      "C:\\Users\\YangTeng\\AppData\\Local\\Temp\\ipykernel_2604\\3929323490.py:59: FutureWarning: Setting an item of incompatible dtype is deprecated and will raise in a future error of pandas. Value 'https://ecatalog.smpcorp.com/V2/STD/api/part/partsearch?filterType=n&searchType=p&imageSize=80&limit=1&sort=3&catFilter=-All-&yearFilter=-All-&makeFilter=-All-&modelFilter=-All-&engineFilter=-All-&attrCodeFilter=-All-&attrValueFilter=-All-&plkEngineMakeFilter=-All-&plkEngineModelFilter=-All-&plkEngineDispFilter=-All-&filter=Accelerator%20Pedal%20Sensor%20(APS)&start=335' has dtype incompatible with float64, please explicitly cast to a compatible dtype first.\n",
      "  df_temp.loc[0, 'Url'] = url\n",
      "C:\\Users\\YangTeng\\AppData\\Local\\Temp\\ipykernel_2604\\3929323490.py:58: FutureWarning: Setting an item of incompatible dtype is deprecated and will raise in a future error of pandas. Value 'ok' has dtype incompatible with float64, please explicitly cast to a compatible dtype first.\n",
      "  df_temp.loc[0, 'status'] = 'ok'\n",
      "C:\\Users\\YangTeng\\AppData\\Local\\Temp\\ipykernel_2604\\3929323490.py:59: FutureWarning: Setting an item of incompatible dtype is deprecated and will raise in a future error of pandas. Value 'https://ecatalog.smpcorp.com/V2/STD/api/part/partsearch?filterType=n&searchType=p&imageSize=80&limit=1&sort=3&catFilter=-All-&yearFilter=-All-&makeFilter=-All-&modelFilter=-All-&engineFilter=-All-&attrCodeFilter=-All-&attrValueFilter=-All-&plkEngineMakeFilter=-All-&plkEngineModelFilter=-All-&plkEngineDispFilter=-All-&filter=Accelerator%20Pedal%20Sensor%20(APS)&start=340' has dtype incompatible with float64, please explicitly cast to a compatible dtype first.\n",
      "  df_temp.loc[0, 'Url'] = url\n",
      "C:\\Users\\YangTeng\\AppData\\Local\\Temp\\ipykernel_2604\\3929323490.py:58: FutureWarning: Setting an item of incompatible dtype is deprecated and will raise in a future error of pandas. Value 'ok' has dtype incompatible with float64, please explicitly cast to a compatible dtype first.\n",
      "  df_temp.loc[0, 'status'] = 'ok'\n",
      "C:\\Users\\YangTeng\\AppData\\Local\\Temp\\ipykernel_2604\\3929323490.py:59: FutureWarning: Setting an item of incompatible dtype is deprecated and will raise in a future error of pandas. Value 'https://ecatalog.smpcorp.com/V2/STD/api/part/partsearch?filterType=n&searchType=p&imageSize=80&limit=1&sort=3&catFilter=-All-&yearFilter=-All-&makeFilter=-All-&modelFilter=-All-&engineFilter=-All-&attrCodeFilter=-All-&attrValueFilter=-All-&plkEngineMakeFilter=-All-&plkEngineModelFilter=-All-&plkEngineDispFilter=-All-&filter=Accelerator%20Pedal%20Sensor%20(APS)&start=337' has dtype incompatible with float64, please explicitly cast to a compatible dtype first.\n",
      "  df_temp.loc[0, 'Url'] = url\n",
      "C:\\Users\\YangTeng\\AppData\\Local\\Temp\\ipykernel_2604\\3929323490.py:58: FutureWarning: Setting an item of incompatible dtype is deprecated and will raise in a future error of pandas. Value 'ok' has dtype incompatible with float64, please explicitly cast to a compatible dtype first.\n",
      "  df_temp.loc[0, 'status'] = 'ok'\n",
      "C:\\Users\\YangTeng\\AppData\\Local\\Temp\\ipykernel_2604\\3929323490.py:59: FutureWarning: Setting an item of incompatible dtype is deprecated and will raise in a future error of pandas. Value 'https://ecatalog.smpcorp.com/V2/STD/api/part/partsearch?filterType=n&searchType=p&imageSize=80&limit=1&sort=3&catFilter=-All-&yearFilter=-All-&makeFilter=-All-&modelFilter=-All-&engineFilter=-All-&attrCodeFilter=-All-&attrValueFilter=-All-&plkEngineMakeFilter=-All-&plkEngineModelFilter=-All-&plkEngineDispFilter=-All-&filter=Accelerator%20Pedal%20Sensor%20(APS)&start=341' has dtype incompatible with float64, please explicitly cast to a compatible dtype first.\n",
      "  df_temp.loc[0, 'Url'] = url\n",
      "C:\\Users\\YangTeng\\AppData\\Local\\Temp\\ipykernel_2604\\3929323490.py:58: FutureWarning: Setting an item of incompatible dtype is deprecated and will raise in a future error of pandas. Value 'ok' has dtype incompatible with float64, please explicitly cast to a compatible dtype first.\n",
      "  df_temp.loc[0, 'status'] = 'ok'\n",
      "C:\\Users\\YangTeng\\AppData\\Local\\Temp\\ipykernel_2604\\3929323490.py:59: FutureWarning: Setting an item of incompatible dtype is deprecated and will raise in a future error of pandas. Value 'https://ecatalog.smpcorp.com/V2/STD/api/part/partsearch?filterType=n&searchType=p&imageSize=80&limit=1&sort=3&catFilter=-All-&yearFilter=-All-&makeFilter=-All-&modelFilter=-All-&engineFilter=-All-&attrCodeFilter=-All-&attrValueFilter=-All-&plkEngineMakeFilter=-All-&plkEngineModelFilter=-All-&plkEngineDispFilter=-All-&filter=Accelerator%20Pedal%20Sensor%20(APS)&start=336' has dtype incompatible with float64, please explicitly cast to a compatible dtype first.\n",
      "  df_temp.loc[0, 'Url'] = url\n",
      "C:\\Users\\YangTeng\\AppData\\Local\\Temp\\ipykernel_2604\\3929323490.py:58: FutureWarning: Setting an item of incompatible dtype is deprecated and will raise in a future error of pandas. Value 'ok' has dtype incompatible with float64, please explicitly cast to a compatible dtype first.\n",
      "  df_temp.loc[0, 'status'] = 'ok'\n",
      "C:\\Users\\YangTeng\\AppData\\Local\\Temp\\ipykernel_2604\\3929323490.py:59: FutureWarning: Setting an item of incompatible dtype is deprecated and will raise in a future error of pandas. Value 'https://ecatalog.smpcorp.com/V2/STD/api/part/partsearch?filterType=n&searchType=p&imageSize=80&limit=1&sort=3&catFilter=-All-&yearFilter=-All-&makeFilter=-All-&modelFilter=-All-&engineFilter=-All-&attrCodeFilter=-All-&attrValueFilter=-All-&plkEngineMakeFilter=-All-&plkEngineModelFilter=-All-&plkEngineDispFilter=-All-&filter=Accelerator%20Pedal%20Sensor%20(APS)&start=342' has dtype incompatible with float64, please explicitly cast to a compatible dtype first.\n",
      "  df_temp.loc[0, 'Url'] = url\n",
      "C:\\Users\\YangTeng\\AppData\\Local\\Temp\\ipykernel_2604\\3929323490.py:58: FutureWarning: Setting an item of incompatible dtype is deprecated and will raise in a future error of pandas. Value 'ok' has dtype incompatible with float64, please explicitly cast to a compatible dtype first.\n",
      "  df_temp.loc[0, 'status'] = 'ok'\n",
      "C:\\Users\\YangTeng\\AppData\\Local\\Temp\\ipykernel_2604\\3929323490.py:59: FutureWarning: Setting an item of incompatible dtype is deprecated and will raise in a future error of pandas. Value 'https://ecatalog.smpcorp.com/V2/STD/api/part/partsearch?filterType=n&searchType=p&imageSize=80&limit=1&sort=3&catFilter=-All-&yearFilter=-All-&makeFilter=-All-&modelFilter=-All-&engineFilter=-All-&attrCodeFilter=-All-&attrValueFilter=-All-&plkEngineMakeFilter=-All-&plkEngineModelFilter=-All-&plkEngineDispFilter=-All-&filter=Accelerator%20Pedal%20Sensor%20(APS)&start=328' has dtype incompatible with float64, please explicitly cast to a compatible dtype first.\n",
      "  df_temp.loc[0, 'Url'] = url\n"
     ]
    },
    {
     "name": "stdout",
     "output_type": "stream",
     "text": [
      "https://ecatalog.smpcorp.com/V2/STD/api/part/partsearch?filterType=n&searchType=p&imageSize=80&limit=1&sort=3&catFilter=-All-&yearFilter=-All-&makeFilter=-All-&modelFilter=-All-&engineFilter=-All-&attrCodeFilter=-All-&attrValueFilter=-All-&plkEngineMakeFilter=-All-&plkEngineModelFilter=-All-&plkEngineDispFilter=-All-&filter=Accelerator%20Pedal%20Sensor%20(APS)&start=335  <->  [ok] - 剩余数量：115\n",
      "https://ecatalog.smpcorp.com/V2/STD/api/part/partsearch?filterType=n&searchType=p&imageSize=80&limit=1&sort=3&catFilter=-All-&yearFilter=-All-&makeFilter=-All-&modelFilter=-All-&engineFilter=-All-&attrCodeFilter=-All-&attrValueFilter=-All-&plkEngineMakeFilter=-All-&plkEngineModelFilter=-All-&plkEngineDispFilter=-All-&filter=Accelerator%20Pedal%20Sensor%20(APS)&start=340  <->  [ok] - 剩余数量：114\n",
      "https://ecatalog.smpcorp.com/V2/STD/api/part/partsearch?filterType=n&searchType=p&imageSize=80&limit=1&sort=3&catFilter=-All-&yearFilter=-All-&makeFilter=-All-&modelFilter=-All-&engineFilter=-All-&attrCodeFilter=-All-&attrValueFilter=-All-&plkEngineMakeFilter=-All-&plkEngineModelFilter=-All-&plkEngineDispFilter=-All-&filter=Accelerator%20Pedal%20Sensor%20(APS)&start=337  <->  [ok] - 剩余数量：113\n",
      "https://ecatalog.smpcorp.com/V2/STD/api/part/partsearch?filterType=n&searchType=p&imageSize=80&limit=1&sort=3&catFilter=-All-&yearFilter=-All-&makeFilter=-All-&modelFilter=-All-&engineFilter=-All-&attrCodeFilter=-All-&attrValueFilter=-All-&plkEngineMakeFilter=-All-&plkEngineModelFilter=-All-&plkEngineDispFilter=-All-&filter=Accelerator%20Pedal%20Sensor%20(APS)&start=341  <->  [ok] - 剩余数量：112\n",
      "https://ecatalog.smpcorp.com/V2/STD/api/part/partsearch?filterType=n&searchType=p&imageSize=80&limit=1&sort=3&catFilter=-All-&yearFilter=-All-&makeFilter=-All-&modelFilter=-All-&engineFilter=-All-&attrCodeFilter=-All-&attrValueFilter=-All-&plkEngineMakeFilter=-All-&plkEngineModelFilter=-All-&plkEngineDispFilter=-All-&filter=Accelerator%20Pedal%20Sensor%20(APS)&start=336  <->  [ok] - 剩余数量：111\n",
      "https://ecatalog.smpcorp.com/V2/STD/api/part/partsearch?filterType=n&searchType=p&imageSize=80&limit=1&sort=3&catFilter=-All-&yearFilter=-All-&makeFilter=-All-&modelFilter=-All-&engineFilter=-All-&attrCodeFilter=-All-&attrValueFilter=-All-&plkEngineMakeFilter=-All-&plkEngineModelFilter=-All-&plkEngineDispFilter=-All-&filter=Accelerator%20Pedal%20Sensor%20(APS)&start=342  <->  [ok] - 剩余数量：110\n",
      "https://ecatalog.smpcorp.com/V2/STD/api/part/partsearch?filterType=n&searchType=p&imageSize=80&limit=1&sort=3&catFilter=-All-&yearFilter=-All-&makeFilter=-All-&modelFilter=-All-&engineFilter=-All-&attrCodeFilter=-All-&attrValueFilter=-All-&plkEngineMakeFilter=-All-&plkEngineModelFilter=-All-&plkEngineDispFilter=-All-&filter=Accelerator%20Pedal%20Sensor%20(APS)&start=328  <->  [ok] - 剩余数量：109\n"
     ]
    },
    {
     "name": "stderr",
     "output_type": "stream",
     "text": [
      "C:\\Users\\YangTeng\\AppData\\Local\\Temp\\ipykernel_2604\\3929323490.py:58: FutureWarning: Setting an item of incompatible dtype is deprecated and will raise in a future error of pandas. Value 'ok' has dtype incompatible with float64, please explicitly cast to a compatible dtype first.\n",
      "  df_temp.loc[0, 'status'] = 'ok'\n",
      "C:\\Users\\YangTeng\\AppData\\Local\\Temp\\ipykernel_2604\\3929323490.py:59: FutureWarning: Setting an item of incompatible dtype is deprecated and will raise in a future error of pandas. Value 'https://ecatalog.smpcorp.com/V2/STD/api/part/partsearch?filterType=n&searchType=p&imageSize=80&limit=1&sort=3&catFilter=-All-&yearFilter=-All-&makeFilter=-All-&modelFilter=-All-&engineFilter=-All-&attrCodeFilter=-All-&attrValueFilter=-All-&plkEngineMakeFilter=-All-&plkEngineModelFilter=-All-&plkEngineDispFilter=-All-&filter=Accelerator%20Pedal%20Sensor%20(APS)&start=344' has dtype incompatible with float64, please explicitly cast to a compatible dtype first.\n",
      "  df_temp.loc[0, 'Url'] = url\n"
     ]
    },
    {
     "name": "stdout",
     "output_type": "stream",
     "text": [
      "https://ecatalog.smpcorp.com/V2/STD/api/part/partsearch?filterType=n&searchType=p&imageSize=80&limit=1&sort=3&catFilter=-All-&yearFilter=-All-&makeFilter=-All-&modelFilter=-All-&engineFilter=-All-&attrCodeFilter=-All-&attrValueFilter=-All-&plkEngineMakeFilter=-All-&plkEngineModelFilter=-All-&plkEngineDispFilter=-All-&filter=Accelerator%20Pedal%20Sensor%20(APS)&start=344  <->  [ok] - 剩余数量：108\n",
      "https://ecatalog.smpcorp.com/V2/STD/api/part/partsearch?filterType=n&searchType=p&imageSize=80&limit=1&sort=3&catFilter=-All-&yearFilter=-All-&makeFilter=-All-&modelFilter=-All-&engineFilter=-All-&attrCodeFilter=-All-&attrValueFilter=-All-&plkEngineMakeFilter=-All-&plkEngineModelFilter=-All-&plkEngineDispFilter=-All-&filter=Accelerator%20Pedal%20Sensor%20(APS)&start=339  <->  [ok] - 剩余数量：107\n"
     ]
    },
    {
     "name": "stderr",
     "output_type": "stream",
     "text": [
      "C:\\Users\\YangTeng\\AppData\\Local\\Temp\\ipykernel_2604\\3929323490.py:58: FutureWarning: Setting an item of incompatible dtype is deprecated and will raise in a future error of pandas. Value 'ok' has dtype incompatible with float64, please explicitly cast to a compatible dtype first.\n",
      "  df_temp.loc[0, 'status'] = 'ok'\n",
      "C:\\Users\\YangTeng\\AppData\\Local\\Temp\\ipykernel_2604\\3929323490.py:59: FutureWarning: Setting an item of incompatible dtype is deprecated and will raise in a future error of pandas. Value 'https://ecatalog.smpcorp.com/V2/STD/api/part/partsearch?filterType=n&searchType=p&imageSize=80&limit=1&sort=3&catFilter=-All-&yearFilter=-All-&makeFilter=-All-&modelFilter=-All-&engineFilter=-All-&attrCodeFilter=-All-&attrValueFilter=-All-&plkEngineMakeFilter=-All-&plkEngineModelFilter=-All-&plkEngineDispFilter=-All-&filter=Accelerator%20Pedal%20Sensor%20(APS)&start=339' has dtype incompatible with float64, please explicitly cast to a compatible dtype first.\n",
      "  df_temp.loc[0, 'Url'] = url\n",
      "C:\\Users\\YangTeng\\AppData\\Local\\Temp\\ipykernel_2604\\3929323490.py:58: FutureWarning: Setting an item of incompatible dtype is deprecated and will raise in a future error of pandas. Value 'ok' has dtype incompatible with float64, please explicitly cast to a compatible dtype first.\n",
      "  df_temp.loc[0, 'status'] = 'ok'\n",
      "C:\\Users\\YangTeng\\AppData\\Local\\Temp\\ipykernel_2604\\3929323490.py:59: FutureWarning: Setting an item of incompatible dtype is deprecated and will raise in a future error of pandas. Value 'https://ecatalog.smpcorp.com/V2/STD/api/part/partsearch?filterType=n&searchType=p&imageSize=80&limit=1&sort=3&catFilter=-All-&yearFilter=-All-&makeFilter=-All-&modelFilter=-All-&engineFilter=-All-&attrCodeFilter=-All-&attrValueFilter=-All-&plkEngineMakeFilter=-All-&plkEngineModelFilter=-All-&plkEngineDispFilter=-All-&filter=Accelerator%20Pedal%20Sensor%20(APS)&start=343' has dtype incompatible with float64, please explicitly cast to a compatible dtype first.\n",
      "  df_temp.loc[0, 'Url'] = url\n"
     ]
    },
    {
     "name": "stdout",
     "output_type": "stream",
     "text": [
      "https://ecatalog.smpcorp.com/V2/STD/api/part/partsearch?filterType=n&searchType=p&imageSize=80&limit=1&sort=3&catFilter=-All-&yearFilter=-All-&makeFilter=-All-&modelFilter=-All-&engineFilter=-All-&attrCodeFilter=-All-&attrValueFilter=-All-&plkEngineMakeFilter=-All-&plkEngineModelFilter=-All-&plkEngineDispFilter=-All-&filter=Accelerator%20Pedal%20Sensor%20(APS)&start=343  <->  [ok] - 剩余数量：106\n",
      "https://ecatalog.smpcorp.com/V2/STD/api/part/partsearch?filterType=n&searchType=p&imageSize=80&limit=1&sort=3&catFilter=-All-&yearFilter=-All-&makeFilter=-All-&modelFilter=-All-&engineFilter=-All-&attrCodeFilter=-All-&attrValueFilter=-All-&plkEngineMakeFilter=-All-&plkEngineModelFilter=-All-&plkEngineDispFilter=-All-&filter=Accelerator%20Pedal%20Sensor%20(APS)&start=338  <->  [ok] - 剩余数量：105\n"
     ]
    },
    {
     "name": "stderr",
     "output_type": "stream",
     "text": [
      "C:\\Users\\YangTeng\\AppData\\Local\\Temp\\ipykernel_2604\\3929323490.py:58: FutureWarning: Setting an item of incompatible dtype is deprecated and will raise in a future error of pandas. Value 'ok' has dtype incompatible with float64, please explicitly cast to a compatible dtype first.\n",
      "  df_temp.loc[0, 'status'] = 'ok'\n",
      "C:\\Users\\YangTeng\\AppData\\Local\\Temp\\ipykernel_2604\\3929323490.py:59: FutureWarning: Setting an item of incompatible dtype is deprecated and will raise in a future error of pandas. Value 'https://ecatalog.smpcorp.com/V2/STD/api/part/partsearch?filterType=n&searchType=p&imageSize=80&limit=1&sort=3&catFilter=-All-&yearFilter=-All-&makeFilter=-All-&modelFilter=-All-&engineFilter=-All-&attrCodeFilter=-All-&attrValueFilter=-All-&plkEngineMakeFilter=-All-&plkEngineModelFilter=-All-&plkEngineDispFilter=-All-&filter=Accelerator%20Pedal%20Sensor%20(APS)&start=338' has dtype incompatible with float64, please explicitly cast to a compatible dtype first.\n",
      "  df_temp.loc[0, 'Url'] = url\n",
      "C:\\Users\\YangTeng\\AppData\\Local\\Temp\\ipykernel_2604\\3929323490.py:58: FutureWarning: Setting an item of incompatible dtype is deprecated and will raise in a future error of pandas. Value 'ok' has dtype incompatible with float64, please explicitly cast to a compatible dtype first.\n",
      "  df_temp.loc[0, 'status'] = 'ok'\n",
      "C:\\Users\\YangTeng\\AppData\\Local\\Temp\\ipykernel_2604\\3929323490.py:59: FutureWarning: Setting an item of incompatible dtype is deprecated and will raise in a future error of pandas. Value 'https://ecatalog.smpcorp.com/V2/STD/api/part/partsearch?filterType=n&searchType=p&imageSize=80&limit=1&sort=3&catFilter=-All-&yearFilter=-All-&makeFilter=-All-&modelFilter=-All-&engineFilter=-All-&attrCodeFilter=-All-&attrValueFilter=-All-&plkEngineMakeFilter=-All-&plkEngineModelFilter=-All-&plkEngineDispFilter=-All-&filter=Accelerator%20Pedal%20Sensor%20(APS)&start=357' has dtype incompatible with float64, please explicitly cast to a compatible dtype first.\n",
      "  df_temp.loc[0, 'Url'] = url\n",
      "C:\\Users\\YangTeng\\AppData\\Local\\Temp\\ipykernel_2604\\3929323490.py:58: FutureWarning: Setting an item of incompatible dtype is deprecated and will raise in a future error of pandas. Value 'ok' has dtype incompatible with float64, please explicitly cast to a compatible dtype first.\n",
      "  df_temp.loc[0, 'status'] = 'ok'\n",
      "C:\\Users\\YangTeng\\AppData\\Local\\Temp\\ipykernel_2604\\3929323490.py:59: FutureWarning: Setting an item of incompatible dtype is deprecated and will raise in a future error of pandas. Value 'https://ecatalog.smpcorp.com/V2/STD/api/part/partsearch?filterType=n&searchType=p&imageSize=80&limit=1&sort=3&catFilter=-All-&yearFilter=-All-&makeFilter=-All-&modelFilter=-All-&engineFilter=-All-&attrCodeFilter=-All-&attrValueFilter=-All-&plkEngineMakeFilter=-All-&plkEngineModelFilter=-All-&plkEngineDispFilter=-All-&filter=Accelerator%20Pedal%20Sensor%20(APS)&start=345' has dtype incompatible with float64, please explicitly cast to a compatible dtype first.\n",
      "  df_temp.loc[0, 'Url'] = url\n",
      "C:\\Users\\YangTeng\\AppData\\Local\\Temp\\ipykernel_2604\\3929323490.py:58: FutureWarning: Setting an item of incompatible dtype is deprecated and will raise in a future error of pandas. Value 'ok' has dtype incompatible with float64, please explicitly cast to a compatible dtype first.\n",
      "  df_temp.loc[0, 'status'] = 'ok'\n",
      "C:\\Users\\YangTeng\\AppData\\Local\\Temp\\ipykernel_2604\\3929323490.py:59: FutureWarning: Setting an item of incompatible dtype is deprecated and will raise in a future error of pandas. Value 'https://ecatalog.smpcorp.com/V2/STD/api/part/partsearch?filterType=n&searchType=p&imageSize=80&limit=1&sort=3&catFilter=-All-&yearFilter=-All-&makeFilter=-All-&modelFilter=-All-&engineFilter=-All-&attrCodeFilter=-All-&attrValueFilter=-All-&plkEngineMakeFilter=-All-&plkEngineModelFilter=-All-&plkEngineDispFilter=-All-&filter=Accelerator%20Pedal%20Sensor%20(APS)&start=349' has dtype incompatible with float64, please explicitly cast to a compatible dtype first.\n",
      "  df_temp.loc[0, 'Url'] = url\n",
      "C:\\Users\\YangTeng\\AppData\\Local\\Temp\\ipykernel_2604\\3929323490.py:58: FutureWarning: Setting an item of incompatible dtype is deprecated and will raise in a future error of pandas. Value 'ok' has dtype incompatible with float64, please explicitly cast to a compatible dtype first.\n",
      "  df_temp.loc[0, 'status'] = 'ok'\n",
      "C:\\Users\\YangTeng\\AppData\\Local\\Temp\\ipykernel_2604\\3929323490.py:59: FutureWarning: Setting an item of incompatible dtype is deprecated and will raise in a future error of pandas. Value 'https://ecatalog.smpcorp.com/V2/STD/api/part/partsearch?filterType=n&searchType=p&imageSize=80&limit=1&sort=3&catFilter=-All-&yearFilter=-All-&makeFilter=-All-&modelFilter=-All-&engineFilter=-All-&attrCodeFilter=-All-&attrValueFilter=-All-&plkEngineMakeFilter=-All-&plkEngineModelFilter=-All-&plkEngineDispFilter=-All-&filter=Accelerator%20Pedal%20Sensor%20(APS)&start=348' has dtype incompatible with float64, please explicitly cast to a compatible dtype first.\n",
      "  df_temp.loc[0, 'Url'] = url\n",
      "C:\\Users\\YangTeng\\AppData\\Local\\Temp\\ipykernel_2604\\3929323490.py:58: FutureWarning: Setting an item of incompatible dtype is deprecated and will raise in a future error of pandas. Value 'ok' has dtype incompatible with float64, please explicitly cast to a compatible dtype first.\n",
      "  df_temp.loc[0, 'status'] = 'ok'\n",
      "C:\\Users\\YangTeng\\AppData\\Local\\Temp\\ipykernel_2604\\3929323490.py:59: FutureWarning: Setting an item of incompatible dtype is deprecated and will raise in a future error of pandas. Value 'https://ecatalog.smpcorp.com/V2/STD/api/part/partsearch?filterType=n&searchType=p&imageSize=80&limit=1&sort=3&catFilter=-All-&yearFilter=-All-&makeFilter=-All-&modelFilter=-All-&engineFilter=-All-&attrCodeFilter=-All-&attrValueFilter=-All-&plkEngineMakeFilter=-All-&plkEngineModelFilter=-All-&plkEngineDispFilter=-All-&filter=Accelerator%20Pedal%20Sensor%20(APS)&start=352' has dtype incompatible with float64, please explicitly cast to a compatible dtype first.\n",
      "  df_temp.loc[0, 'Url'] = url\n",
      "C:\\Users\\YangTeng\\AppData\\Local\\Temp\\ipykernel_2604\\3929323490.py:58: FutureWarning: Setting an item of incompatible dtype is deprecated and will raise in a future error of pandas. Value 'ok' has dtype incompatible with float64, please explicitly cast to a compatible dtype first.\n",
      "  df_temp.loc[0, 'status'] = 'ok'\n",
      "C:\\Users\\YangTeng\\AppData\\Local\\Temp\\ipykernel_2604\\3929323490.py:59: FutureWarning: Setting an item of incompatible dtype is deprecated and will raise in a future error of pandas. Value 'https://ecatalog.smpcorp.com/V2/STD/api/part/partsearch?filterType=n&searchType=p&imageSize=80&limit=1&sort=3&catFilter=-All-&yearFilter=-All-&makeFilter=-All-&modelFilter=-All-&engineFilter=-All-&attrCodeFilter=-All-&attrValueFilter=-All-&plkEngineMakeFilter=-All-&plkEngineModelFilter=-All-&plkEngineDispFilter=-All-&filter=Accelerator%20Pedal%20Sensor%20(APS)&start=350' has dtype incompatible with float64, please explicitly cast to a compatible dtype first.\n",
      "  df_temp.loc[0, 'Url'] = url\n",
      "C:\\Users\\YangTeng\\AppData\\Local\\Temp\\ipykernel_2604\\3929323490.py:58: FutureWarning: Setting an item of incompatible dtype is deprecated and will raise in a future error of pandas. Value 'ok' has dtype incompatible with float64, please explicitly cast to a compatible dtype first.\n",
      "  df_temp.loc[0, 'status'] = 'ok'\n",
      "C:\\Users\\YangTeng\\AppData\\Local\\Temp\\ipykernel_2604\\3929323490.py:59: FutureWarning: Setting an item of incompatible dtype is deprecated and will raise in a future error of pandas. Value 'https://ecatalog.smpcorp.com/V2/STD/api/part/partsearch?filterType=n&searchType=p&imageSize=80&limit=1&sort=3&catFilter=-All-&yearFilter=-All-&makeFilter=-All-&modelFilter=-All-&engineFilter=-All-&attrCodeFilter=-All-&attrValueFilter=-All-&plkEngineMakeFilter=-All-&plkEngineModelFilter=-All-&plkEngineDispFilter=-All-&filter=Accelerator%20Pedal%20Sensor%20(APS)&start=354' has dtype incompatible with float64, please explicitly cast to a compatible dtype first.\n",
      "  df_temp.loc[0, 'Url'] = url\n",
      "C:\\Users\\YangTeng\\AppData\\Local\\Temp\\ipykernel_2604\\3929323490.py:58: FutureWarning: Setting an item of incompatible dtype is deprecated and will raise in a future error of pandas. Value 'ok' has dtype incompatible with float64, please explicitly cast to a compatible dtype first.\n",
      "  df_temp.loc[0, 'status'] = 'ok'\n",
      "C:\\Users\\YangTeng\\AppData\\Local\\Temp\\ipykernel_2604\\3929323490.py:59: FutureWarning: Setting an item of incompatible dtype is deprecated and will raise in a future error of pandas. Value 'https://ecatalog.smpcorp.com/V2/STD/api/part/partsearch?filterType=n&searchType=p&imageSize=80&limit=1&sort=3&catFilter=-All-&yearFilter=-All-&makeFilter=-All-&modelFilter=-All-&engineFilter=-All-&attrCodeFilter=-All-&attrValueFilter=-All-&plkEngineMakeFilter=-All-&plkEngineModelFilter=-All-&plkEngineDispFilter=-All-&filter=Accelerator%20Pedal%20Sensor%20(APS)&start=347' has dtype incompatible with float64, please explicitly cast to a compatible dtype first.\n",
      "  df_temp.loc[0, 'Url'] = url\n"
     ]
    },
    {
     "name": "stdout",
     "output_type": "stream",
     "text": [
      "https://ecatalog.smpcorp.com/V2/STD/api/part/partsearch?filterType=n&searchType=p&imageSize=80&limit=1&sort=3&catFilter=-All-&yearFilter=-All-&makeFilter=-All-&modelFilter=-All-&engineFilter=-All-&attrCodeFilter=-All-&attrValueFilter=-All-&plkEngineMakeFilter=-All-&plkEngineModelFilter=-All-&plkEngineDispFilter=-All-&filter=Accelerator%20Pedal%20Sensor%20(APS)&start=357  <->  [ok] - 剩余数量：104\n",
      "https://ecatalog.smpcorp.com/V2/STD/api/part/partsearch?filterType=n&searchType=p&imageSize=80&limit=1&sort=3&catFilter=-All-&yearFilter=-All-&makeFilter=-All-&modelFilter=-All-&engineFilter=-All-&attrCodeFilter=-All-&attrValueFilter=-All-&plkEngineMakeFilter=-All-&plkEngineModelFilter=-All-&plkEngineDispFilter=-All-&filter=Accelerator%20Pedal%20Sensor%20(APS)&start=345  <->  [ok] - 剩余数量：103\n",
      "https://ecatalog.smpcorp.com/V2/STD/api/part/partsearch?filterType=n&searchType=p&imageSize=80&limit=1&sort=3&catFilter=-All-&yearFilter=-All-&makeFilter=-All-&modelFilter=-All-&engineFilter=-All-&attrCodeFilter=-All-&attrValueFilter=-All-&plkEngineMakeFilter=-All-&plkEngineModelFilter=-All-&plkEngineDispFilter=-All-&filter=Accelerator%20Pedal%20Sensor%20(APS)&start=349  <->  [ok] - 剩余数量：102\n",
      "https://ecatalog.smpcorp.com/V2/STD/api/part/partsearch?filterType=n&searchType=p&imageSize=80&limit=1&sort=3&catFilter=-All-&yearFilter=-All-&makeFilter=-All-&modelFilter=-All-&engineFilter=-All-&attrCodeFilter=-All-&attrValueFilter=-All-&plkEngineMakeFilter=-All-&plkEngineModelFilter=-All-&plkEngineDispFilter=-All-&filter=Accelerator%20Pedal%20Sensor%20(APS)&start=348  <->  [ok] - 剩余数量：101\n",
      "https://ecatalog.smpcorp.com/V2/STD/api/part/partsearch?filterType=n&searchType=p&imageSize=80&limit=1&sort=3&catFilter=-All-&yearFilter=-All-&makeFilter=-All-&modelFilter=-All-&engineFilter=-All-&attrCodeFilter=-All-&attrValueFilter=-All-&plkEngineMakeFilter=-All-&plkEngineModelFilter=-All-&plkEngineDispFilter=-All-&filter=Accelerator%20Pedal%20Sensor%20(APS)&start=352  <->  [ok] - 剩余数量：100\n",
      "https://ecatalog.smpcorp.com/V2/STD/api/part/partsearch?filterType=n&searchType=p&imageSize=80&limit=1&sort=3&catFilter=-All-&yearFilter=-All-&makeFilter=-All-&modelFilter=-All-&engineFilter=-All-&attrCodeFilter=-All-&attrValueFilter=-All-&plkEngineMakeFilter=-All-&plkEngineModelFilter=-All-&plkEngineDispFilter=-All-&filter=Accelerator%20Pedal%20Sensor%20(APS)&start=350  <->  [ok] - 剩余数量：99\n",
      "https://ecatalog.smpcorp.com/V2/STD/api/part/partsearch?filterType=n&searchType=p&imageSize=80&limit=1&sort=3&catFilter=-All-&yearFilter=-All-&makeFilter=-All-&modelFilter=-All-&engineFilter=-All-&attrCodeFilter=-All-&attrValueFilter=-All-&plkEngineMakeFilter=-All-&plkEngineModelFilter=-All-&plkEngineDispFilter=-All-&filter=Accelerator%20Pedal%20Sensor%20(APS)&start=354  <->  [ok] - 剩余数量：98\n",
      "https://ecatalog.smpcorp.com/V2/STD/api/part/partsearch?filterType=n&searchType=p&imageSize=80&limit=1&sort=3&catFilter=-All-&yearFilter=-All-&makeFilter=-All-&modelFilter=-All-&engineFilter=-All-&attrCodeFilter=-All-&attrValueFilter=-All-&plkEngineMakeFilter=-All-&plkEngineModelFilter=-All-&plkEngineDispFilter=-All-&filter=Accelerator%20Pedal%20Sensor%20(APS)&start=347  <->  [ok] - 剩余数量：97\n"
     ]
    },
    {
     "name": "stderr",
     "output_type": "stream",
     "text": [
      "C:\\Users\\YangTeng\\AppData\\Local\\Temp\\ipykernel_2604\\3929323490.py:58: FutureWarning: Setting an item of incompatible dtype is deprecated and will raise in a future error of pandas. Value 'ok' has dtype incompatible with float64, please explicitly cast to a compatible dtype first.\n",
      "  df_temp.loc[0, 'status'] = 'ok'\n",
      "C:\\Users\\YangTeng\\AppData\\Local\\Temp\\ipykernel_2604\\3929323490.py:59: FutureWarning: Setting an item of incompatible dtype is deprecated and will raise in a future error of pandas. Value 'https://ecatalog.smpcorp.com/V2/STD/api/part/partsearch?filterType=n&searchType=p&imageSize=80&limit=1&sort=3&catFilter=-All-&yearFilter=-All-&makeFilter=-All-&modelFilter=-All-&engineFilter=-All-&attrCodeFilter=-All-&attrValueFilter=-All-&plkEngineMakeFilter=-All-&plkEngineModelFilter=-All-&plkEngineDispFilter=-All-&filter=Accelerator%20Pedal%20Sensor%20(APS)&start=353' has dtype incompatible with float64, please explicitly cast to a compatible dtype first.\n",
      "  df_temp.loc[0, 'Url'] = url\n",
      "C:\\Users\\YangTeng\\AppData\\Local\\Temp\\ipykernel_2604\\3929323490.py:58: FutureWarning: Setting an item of incompatible dtype is deprecated and will raise in a future error of pandas. Value 'ok' has dtype incompatible with float64, please explicitly cast to a compatible dtype first.\n",
      "  df_temp.loc[0, 'status'] = 'ok'\n",
      "C:\\Users\\YangTeng\\AppData\\Local\\Temp\\ipykernel_2604\\3929323490.py:59: FutureWarning: Setting an item of incompatible dtype is deprecated and will raise in a future error of pandas. Value 'https://ecatalog.smpcorp.com/V2/STD/api/part/partsearch?filterType=n&searchType=p&imageSize=80&limit=1&sort=3&catFilter=-All-&yearFilter=-All-&makeFilter=-All-&modelFilter=-All-&engineFilter=-All-&attrCodeFilter=-All-&attrValueFilter=-All-&plkEngineMakeFilter=-All-&plkEngineModelFilter=-All-&plkEngineDispFilter=-All-&filter=Accelerator%20Pedal%20Sensor%20(APS)&start=358' has dtype incompatible with float64, please explicitly cast to a compatible dtype first.\n",
      "  df_temp.loc[0, 'Url'] = url\n",
      "C:\\Users\\YangTeng\\AppData\\Local\\Temp\\ipykernel_2604\\3929323490.py:58: FutureWarning: Setting an item of incompatible dtype is deprecated and will raise in a future error of pandas. Value 'ok' has dtype incompatible with float64, please explicitly cast to a compatible dtype first.\n",
      "  df_temp.loc[0, 'status'] = 'ok'\n",
      "C:\\Users\\YangTeng\\AppData\\Local\\Temp\\ipykernel_2604\\3929323490.py:59: FutureWarning: Setting an item of incompatible dtype is deprecated and will raise in a future error of pandas. Value 'https://ecatalog.smpcorp.com/V2/STD/api/part/partsearch?filterType=n&searchType=p&imageSize=80&limit=1&sort=3&catFilter=-All-&yearFilter=-All-&makeFilter=-All-&modelFilter=-All-&engineFilter=-All-&attrCodeFilter=-All-&attrValueFilter=-All-&plkEngineMakeFilter=-All-&plkEngineModelFilter=-All-&plkEngineDispFilter=-All-&filter=Accelerator%20Pedal%20Sensor%20(APS)&start=351' has dtype incompatible with float64, please explicitly cast to a compatible dtype first.\n",
      "  df_temp.loc[0, 'Url'] = url\n",
      "C:\\Users\\YangTeng\\AppData\\Local\\Temp\\ipykernel_2604\\3929323490.py:58: FutureWarning: Setting an item of incompatible dtype is deprecated and will raise in a future error of pandas. Value 'ok' has dtype incompatible with float64, please explicitly cast to a compatible dtype first.\n",
      "  df_temp.loc[0, 'status'] = 'ok'\n",
      "C:\\Users\\YangTeng\\AppData\\Local\\Temp\\ipykernel_2604\\3929323490.py:59: FutureWarning: Setting an item of incompatible dtype is deprecated and will raise in a future error of pandas. Value 'https://ecatalog.smpcorp.com/V2/STD/api/part/partsearch?filterType=n&searchType=p&imageSize=80&limit=1&sort=3&catFilter=-All-&yearFilter=-All-&makeFilter=-All-&modelFilter=-All-&engineFilter=-All-&attrCodeFilter=-All-&attrValueFilter=-All-&plkEngineMakeFilter=-All-&plkEngineModelFilter=-All-&plkEngineDispFilter=-All-&filter=Accelerator%20Pedal%20Sensor%20(APS)&start=355' has dtype incompatible with float64, please explicitly cast to a compatible dtype first.\n",
      "  df_temp.loc[0, 'Url'] = url\n"
     ]
    },
    {
     "name": "stdout",
     "output_type": "stream",
     "text": [
      "https://ecatalog.smpcorp.com/V2/STD/api/part/partsearch?filterType=n&searchType=p&imageSize=80&limit=1&sort=3&catFilter=-All-&yearFilter=-All-&makeFilter=-All-&modelFilter=-All-&engineFilter=-All-&attrCodeFilter=-All-&attrValueFilter=-All-&plkEngineMakeFilter=-All-&plkEngineModelFilter=-All-&plkEngineDispFilter=-All-&filter=Accelerator%20Pedal%20Sensor%20(APS)&start=353  <->  [ok] - 剩余数量：96\n",
      "https://ecatalog.smpcorp.com/V2/STD/api/part/partsearch?filterType=n&searchType=p&imageSize=80&limit=1&sort=3&catFilter=-All-&yearFilter=-All-&makeFilter=-All-&modelFilter=-All-&engineFilter=-All-&attrCodeFilter=-All-&attrValueFilter=-All-&plkEngineMakeFilter=-All-&plkEngineModelFilter=-All-&plkEngineDispFilter=-All-&filter=Accelerator%20Pedal%20Sensor%20(APS)&start=358  <->  [ok] - 剩余数量：95\n",
      "https://ecatalog.smpcorp.com/V2/STD/api/part/partsearch?filterType=n&searchType=p&imageSize=80&limit=1&sort=3&catFilter=-All-&yearFilter=-All-&makeFilter=-All-&modelFilter=-All-&engineFilter=-All-&attrCodeFilter=-All-&attrValueFilter=-All-&plkEngineMakeFilter=-All-&plkEngineModelFilter=-All-&plkEngineDispFilter=-All-&filter=Accelerator%20Pedal%20Sensor%20(APS)&start=351  <->  [ok] - 剩余数量：94\n",
      "https://ecatalog.smpcorp.com/V2/STD/api/part/partsearch?filterType=n&searchType=p&imageSize=80&limit=1&sort=3&catFilter=-All-&yearFilter=-All-&makeFilter=-All-&modelFilter=-All-&engineFilter=-All-&attrCodeFilter=-All-&attrValueFilter=-All-&plkEngineMakeFilter=-All-&plkEngineModelFilter=-All-&plkEngineDispFilter=-All-&filter=Accelerator%20Pedal%20Sensor%20(APS)&start=355  <->  [ok] - 剩余数量：93\n"
     ]
    },
    {
     "name": "stderr",
     "output_type": "stream",
     "text": [
      "C:\\Users\\YangTeng\\AppData\\Local\\Temp\\ipykernel_2604\\3929323490.py:58: FutureWarning: Setting an item of incompatible dtype is deprecated and will raise in a future error of pandas. Value 'ok' has dtype incompatible with float64, please explicitly cast to a compatible dtype first.\n",
      "  df_temp.loc[0, 'status'] = 'ok'\n",
      "C:\\Users\\YangTeng\\AppData\\Local\\Temp\\ipykernel_2604\\3929323490.py:59: FutureWarning: Setting an item of incompatible dtype is deprecated and will raise in a future error of pandas. Value 'https://ecatalog.smpcorp.com/V2/STD/api/part/partsearch?filterType=n&searchType=p&imageSize=80&limit=1&sort=3&catFilter=-All-&yearFilter=-All-&makeFilter=-All-&modelFilter=-All-&engineFilter=-All-&attrCodeFilter=-All-&attrValueFilter=-All-&plkEngineMakeFilter=-All-&plkEngineModelFilter=-All-&plkEngineDispFilter=-All-&filter=Accelerator%20Pedal%20Sensor%20(APS)&start=346' has dtype incompatible with float64, please explicitly cast to a compatible dtype first.\n",
      "  df_temp.loc[0, 'Url'] = url\n",
      "C:\\Users\\YangTeng\\AppData\\Local\\Temp\\ipykernel_2604\\3929323490.py:58: FutureWarning: Setting an item of incompatible dtype is deprecated and will raise in a future error of pandas. Value 'ok' has dtype incompatible with float64, please explicitly cast to a compatible dtype first.\n",
      "  df_temp.loc[0, 'status'] = 'ok'\n",
      "C:\\Users\\YangTeng\\AppData\\Local\\Temp\\ipykernel_2604\\3929323490.py:59: FutureWarning: Setting an item of incompatible dtype is deprecated and will raise in a future error of pandas. Value 'https://ecatalog.smpcorp.com/V2/STD/api/part/partsearch?filterType=n&searchType=p&imageSize=80&limit=1&sort=3&catFilter=-All-&yearFilter=-All-&makeFilter=-All-&modelFilter=-All-&engineFilter=-All-&attrCodeFilter=-All-&attrValueFilter=-All-&plkEngineMakeFilter=-All-&plkEngineModelFilter=-All-&plkEngineDispFilter=-All-&filter=Accelerator%20Pedal%20Sensor%20(APS)&start=356' has dtype incompatible with float64, please explicitly cast to a compatible dtype first.\n",
      "  df_temp.loc[0, 'Url'] = url\n"
     ]
    },
    {
     "name": "stdout",
     "output_type": "stream",
     "text": [
      "https://ecatalog.smpcorp.com/V2/STD/api/part/partsearch?filterType=n&searchType=p&imageSize=80&limit=1&sort=3&catFilter=-All-&yearFilter=-All-&makeFilter=-All-&modelFilter=-All-&engineFilter=-All-&attrCodeFilter=-All-&attrValueFilter=-All-&plkEngineMakeFilter=-All-&plkEngineModelFilter=-All-&plkEngineDispFilter=-All-&filter=Accelerator%20Pedal%20Sensor%20(APS)&start=346  <->  [ok] - 剩余数量：92\n",
      "https://ecatalog.smpcorp.com/V2/STD/api/part/partsearch?filterType=n&searchType=p&imageSize=80&limit=1&sort=3&catFilter=-All-&yearFilter=-All-&makeFilter=-All-&modelFilter=-All-&engineFilter=-All-&attrCodeFilter=-All-&attrValueFilter=-All-&plkEngineMakeFilter=-All-&plkEngineModelFilter=-All-&plkEngineDispFilter=-All-&filter=Accelerator%20Pedal%20Sensor%20(APS)&start=356  <->  [ok] - 剩余数量：91\n"
     ]
    },
    {
     "name": "stderr",
     "output_type": "stream",
     "text": [
      "C:\\Users\\YangTeng\\AppData\\Local\\Temp\\ipykernel_2604\\3929323490.py:58: FutureWarning: Setting an item of incompatible dtype is deprecated and will raise in a future error of pandas. Value 'ok' has dtype incompatible with float64, please explicitly cast to a compatible dtype first.\n",
      "  df_temp.loc[0, 'status'] = 'ok'\n",
      "C:\\Users\\YangTeng\\AppData\\Local\\Temp\\ipykernel_2604\\3929323490.py:59: FutureWarning: Setting an item of incompatible dtype is deprecated and will raise in a future error of pandas. Value 'https://ecatalog.smpcorp.com/V2/STD/api/part/partsearch?filterType=n&searchType=p&imageSize=80&limit=1&sort=3&catFilter=-All-&yearFilter=-All-&makeFilter=-All-&modelFilter=-All-&engineFilter=-All-&attrCodeFilter=-All-&attrValueFilter=-All-&plkEngineMakeFilter=-All-&plkEngineModelFilter=-All-&plkEngineDispFilter=-All-&filter=Accelerator%20Pedal%20Sensor%20(APS)&start=359' has dtype incompatible with float64, please explicitly cast to a compatible dtype first.\n",
      "  df_temp.loc[0, 'Url'] = url\n"
     ]
    },
    {
     "name": "stdout",
     "output_type": "stream",
     "text": [
      "https://ecatalog.smpcorp.com/V2/STD/api/part/partsearch?filterType=n&searchType=p&imageSize=80&limit=1&sort=3&catFilter=-All-&yearFilter=-All-&makeFilter=-All-&modelFilter=-All-&engineFilter=-All-&attrCodeFilter=-All-&attrValueFilter=-All-&plkEngineMakeFilter=-All-&plkEngineModelFilter=-All-&plkEngineDispFilter=-All-&filter=Accelerator%20Pedal%20Sensor%20(APS)&start=359  <->  [ok] - 剩余数量：90\n"
     ]
    },
    {
     "name": "stderr",
     "output_type": "stream",
     "text": [
      "C:\\Users\\YangTeng\\AppData\\Local\\Temp\\ipykernel_2604\\3929323490.py:58: FutureWarning: Setting an item of incompatible dtype is deprecated and will raise in a future error of pandas. Value 'ok' has dtype incompatible with float64, please explicitly cast to a compatible dtype first.\n",
      "  df_temp.loc[0, 'status'] = 'ok'\n",
      "C:\\Users\\YangTeng\\AppData\\Local\\Temp\\ipykernel_2604\\3929323490.py:59: FutureWarning: Setting an item of incompatible dtype is deprecated and will raise in a future error of pandas. Value 'https://ecatalog.smpcorp.com/V2/STD/api/part/partsearch?filterType=n&searchType=p&imageSize=80&limit=1&sort=3&catFilter=-All-&yearFilter=-All-&makeFilter=-All-&modelFilter=-All-&engineFilter=-All-&attrCodeFilter=-All-&attrValueFilter=-All-&plkEngineMakeFilter=-All-&plkEngineModelFilter=-All-&plkEngineDispFilter=-All-&filter=Accelerator%20Pedal%20Sensor%20(APS)&start=362' has dtype incompatible with float64, please explicitly cast to a compatible dtype first.\n",
      "  df_temp.loc[0, 'Url'] = url\n",
      "C:\\Users\\YangTeng\\AppData\\Local\\Temp\\ipykernel_2604\\3929323490.py:58: FutureWarning: Setting an item of incompatible dtype is deprecated and will raise in a future error of pandas. Value 'ok' has dtype incompatible with float64, please explicitly cast to a compatible dtype first.\n",
      "  df_temp.loc[0, 'status'] = 'ok'\n",
      "C:\\Users\\YangTeng\\AppData\\Local\\Temp\\ipykernel_2604\\3929323490.py:59: FutureWarning: Setting an item of incompatible dtype is deprecated and will raise in a future error of pandas. Value 'https://ecatalog.smpcorp.com/V2/STD/api/part/partsearch?filterType=n&searchType=p&imageSize=80&limit=1&sort=3&catFilter=-All-&yearFilter=-All-&makeFilter=-All-&modelFilter=-All-&engineFilter=-All-&attrCodeFilter=-All-&attrValueFilter=-All-&plkEngineMakeFilter=-All-&plkEngineModelFilter=-All-&plkEngineDispFilter=-All-&filter=Accelerator%20Pedal%20Sensor%20(APS)&start=361' has dtype incompatible with float64, please explicitly cast to a compatible dtype first.\n",
      "  df_temp.loc[0, 'Url'] = url\n",
      "C:\\Users\\YangTeng\\AppData\\Local\\Temp\\ipykernel_2604\\3929323490.py:58: FutureWarning: Setting an item of incompatible dtype is deprecated and will raise in a future error of pandas. Value 'ok' has dtype incompatible with float64, please explicitly cast to a compatible dtype first.\n",
      "  df_temp.loc[0, 'status'] = 'ok'\n",
      "C:\\Users\\YangTeng\\AppData\\Local\\Temp\\ipykernel_2604\\3929323490.py:59: FutureWarning: Setting an item of incompatible dtype is deprecated and will raise in a future error of pandas. Value 'https://ecatalog.smpcorp.com/V2/STD/api/part/partsearch?filterType=n&searchType=p&imageSize=80&limit=1&sort=3&catFilter=-All-&yearFilter=-All-&makeFilter=-All-&modelFilter=-All-&engineFilter=-All-&attrCodeFilter=-All-&attrValueFilter=-All-&plkEngineMakeFilter=-All-&plkEngineModelFilter=-All-&plkEngineDispFilter=-All-&filter=Accelerator%20Pedal%20Sensor%20(APS)&start=360' has dtype incompatible with float64, please explicitly cast to a compatible dtype first.\n",
      "  df_temp.loc[0, 'Url'] = url\n"
     ]
    },
    {
     "name": "stdout",
     "output_type": "stream",
     "text": [
      "https://ecatalog.smpcorp.com/V2/STD/api/part/partsearch?filterType=n&searchType=p&imageSize=80&limit=1&sort=3&catFilter=-All-&yearFilter=-All-&makeFilter=-All-&modelFilter=-All-&engineFilter=-All-&attrCodeFilter=-All-&attrValueFilter=-All-&plkEngineMakeFilter=-All-&plkEngineModelFilter=-All-&plkEngineDispFilter=-All-&filter=Accelerator%20Pedal%20Sensor%20(APS)&start=362  <->  [ok] - 剩余数量：89\n",
      "https://ecatalog.smpcorp.com/V2/STD/api/part/partsearch?filterType=n&searchType=p&imageSize=80&limit=1&sort=3&catFilter=-All-&yearFilter=-All-&makeFilter=-All-&modelFilter=-All-&engineFilter=-All-&attrCodeFilter=-All-&attrValueFilter=-All-&plkEngineMakeFilter=-All-&plkEngineModelFilter=-All-&plkEngineDispFilter=-All-&filter=Accelerator%20Pedal%20Sensor%20(APS)&start=361  <->  [ok] - 剩余数量：88\n",
      "https://ecatalog.smpcorp.com/V2/STD/api/part/partsearch?filterType=n&searchType=p&imageSize=80&limit=1&sort=3&catFilter=-All-&yearFilter=-All-&makeFilter=-All-&modelFilter=-All-&engineFilter=-All-&attrCodeFilter=-All-&attrValueFilter=-All-&plkEngineMakeFilter=-All-&plkEngineModelFilter=-All-&plkEngineDispFilter=-All-&filter=Accelerator%20Pedal%20Sensor%20(APS)&start=360  <->  [ok] - 剩余数量：87\n"
     ]
    },
    {
     "name": "stderr",
     "output_type": "stream",
     "text": [
      "C:\\Users\\YangTeng\\AppData\\Local\\Temp\\ipykernel_2604\\3929323490.py:58: FutureWarning: Setting an item of incompatible dtype is deprecated and will raise in a future error of pandas. Value 'ok' has dtype incompatible with float64, please explicitly cast to a compatible dtype first.\n",
      "  df_temp.loc[0, 'status'] = 'ok'\n",
      "C:\\Users\\YangTeng\\AppData\\Local\\Temp\\ipykernel_2604\\3929323490.py:59: FutureWarning: Setting an item of incompatible dtype is deprecated and will raise in a future error of pandas. Value 'https://ecatalog.smpcorp.com/V2/STD/api/part/partsearch?filterType=n&searchType=p&imageSize=80&limit=1&sort=3&catFilter=-All-&yearFilter=-All-&makeFilter=-All-&modelFilter=-All-&engineFilter=-All-&attrCodeFilter=-All-&attrValueFilter=-All-&plkEngineMakeFilter=-All-&plkEngineModelFilter=-All-&plkEngineDispFilter=-All-&filter=Accelerator%20Pedal%20Sensor%20(APS)&start=369' has dtype incompatible with float64, please explicitly cast to a compatible dtype first.\n",
      "  df_temp.loc[0, 'Url'] = url\n",
      "C:\\Users\\YangTeng\\AppData\\Local\\Temp\\ipykernel_2604\\3929323490.py:58: FutureWarning: Setting an item of incompatible dtype is deprecated and will raise in a future error of pandas. Value 'ok' has dtype incompatible with float64, please explicitly cast to a compatible dtype first.\n",
      "  df_temp.loc[0, 'status'] = 'ok'\n",
      "C:\\Users\\YangTeng\\AppData\\Local\\Temp\\ipykernel_2604\\3929323490.py:59: FutureWarning: Setting an item of incompatible dtype is deprecated and will raise in a future error of pandas. Value 'https://ecatalog.smpcorp.com/V2/STD/api/part/partsearch?filterType=n&searchType=p&imageSize=80&limit=1&sort=3&catFilter=-All-&yearFilter=-All-&makeFilter=-All-&modelFilter=-All-&engineFilter=-All-&attrCodeFilter=-All-&attrValueFilter=-All-&plkEngineMakeFilter=-All-&plkEngineModelFilter=-All-&plkEngineDispFilter=-All-&filter=Accelerator%20Pedal%20Sensor%20(APS)&start=368' has dtype incompatible with float64, please explicitly cast to a compatible dtype first.\n",
      "  df_temp.loc[0, 'Url'] = url\n",
      "C:\\Users\\YangTeng\\AppData\\Local\\Temp\\ipykernel_2604\\3929323490.py:58: FutureWarning: Setting an item of incompatible dtype is deprecated and will raise in a future error of pandas. Value 'ok' has dtype incompatible with float64, please explicitly cast to a compatible dtype first.\n",
      "  df_temp.loc[0, 'status'] = 'ok'\n",
      "C:\\Users\\YangTeng\\AppData\\Local\\Temp\\ipykernel_2604\\3929323490.py:59: FutureWarning: Setting an item of incompatible dtype is deprecated and will raise in a future error of pandas. Value 'https://ecatalog.smpcorp.com/V2/STD/api/part/partsearch?filterType=n&searchType=p&imageSize=80&limit=1&sort=3&catFilter=-All-&yearFilter=-All-&makeFilter=-All-&modelFilter=-All-&engineFilter=-All-&attrCodeFilter=-All-&attrValueFilter=-All-&plkEngineMakeFilter=-All-&plkEngineModelFilter=-All-&plkEngineDispFilter=-All-&filter=Accelerator%20Pedal%20Sensor%20(APS)&start=374' has dtype incompatible with float64, please explicitly cast to a compatible dtype first.\n",
      "  df_temp.loc[0, 'Url'] = url\n",
      "C:\\Users\\YangTeng\\AppData\\Local\\Temp\\ipykernel_2604\\3929323490.py:58: FutureWarning: Setting an item of incompatible dtype is deprecated and will raise in a future error of pandas. Value 'ok' has dtype incompatible with float64, please explicitly cast to a compatible dtype first.\n",
      "  df_temp.loc[0, 'status'] = 'ok'\n",
      "C:\\Users\\YangTeng\\AppData\\Local\\Temp\\ipykernel_2604\\3929323490.py:59: FutureWarning: Setting an item of incompatible dtype is deprecated and will raise in a future error of pandas. Value 'https://ecatalog.smpcorp.com/V2/STD/api/part/partsearch?filterType=n&searchType=p&imageSize=80&limit=1&sort=3&catFilter=-All-&yearFilter=-All-&makeFilter=-All-&modelFilter=-All-&engineFilter=-All-&attrCodeFilter=-All-&attrValueFilter=-All-&plkEngineMakeFilter=-All-&plkEngineModelFilter=-All-&plkEngineDispFilter=-All-&filter=Accelerator%20Pedal%20Sensor%20(APS)&start=365' has dtype incompatible with float64, please explicitly cast to a compatible dtype first.\n",
      "  df_temp.loc[0, 'Url'] = url\n",
      "C:\\Users\\YangTeng\\AppData\\Local\\Temp\\ipykernel_2604\\3929323490.py:58: FutureWarning: Setting an item of incompatible dtype is deprecated and will raise in a future error of pandas. Value 'ok' has dtype incompatible with float64, please explicitly cast to a compatible dtype first.\n",
      "  df_temp.loc[0, 'status'] = 'ok'\n",
      "C:\\Users\\YangTeng\\AppData\\Local\\Temp\\ipykernel_2604\\3929323490.py:59: FutureWarning: Setting an item of incompatible dtype is deprecated and will raise in a future error of pandas. Value 'https://ecatalog.smpcorp.com/V2/STD/api/part/partsearch?filterType=n&searchType=p&imageSize=80&limit=1&sort=3&catFilter=-All-&yearFilter=-All-&makeFilter=-All-&modelFilter=-All-&engineFilter=-All-&attrCodeFilter=-All-&attrValueFilter=-All-&plkEngineMakeFilter=-All-&plkEngineModelFilter=-All-&plkEngineDispFilter=-All-&filter=Accelerator%20Pedal%20Sensor%20(APS)&start=370' has dtype incompatible with float64, please explicitly cast to a compatible dtype first.\n",
      "  df_temp.loc[0, 'Url'] = url\n"
     ]
    },
    {
     "name": "stdout",
     "output_type": "stream",
     "text": [
      "https://ecatalog.smpcorp.com/V2/STD/api/part/partsearch?filterType=n&searchType=p&imageSize=80&limit=1&sort=3&catFilter=-All-&yearFilter=-All-&makeFilter=-All-&modelFilter=-All-&engineFilter=-All-&attrCodeFilter=-All-&attrValueFilter=-All-&plkEngineMakeFilter=-All-&plkEngineModelFilter=-All-&plkEngineDispFilter=-All-&filter=Accelerator%20Pedal%20Sensor%20(APS)&start=369  <->  [ok] - 剩余数量：86\n",
      "https://ecatalog.smpcorp.com/V2/STD/api/part/partsearch?filterType=n&searchType=p&imageSize=80&limit=1&sort=3&catFilter=-All-&yearFilter=-All-&makeFilter=-All-&modelFilter=-All-&engineFilter=-All-&attrCodeFilter=-All-&attrValueFilter=-All-&plkEngineMakeFilter=-All-&plkEngineModelFilter=-All-&plkEngineDispFilter=-All-&filter=Accelerator%20Pedal%20Sensor%20(APS)&start=368  <->  [ok] - 剩余数量：85\n",
      "https://ecatalog.smpcorp.com/V2/STD/api/part/partsearch?filterType=n&searchType=p&imageSize=80&limit=1&sort=3&catFilter=-All-&yearFilter=-All-&makeFilter=-All-&modelFilter=-All-&engineFilter=-All-&attrCodeFilter=-All-&attrValueFilter=-All-&plkEngineMakeFilter=-All-&plkEngineModelFilter=-All-&plkEngineDispFilter=-All-&filter=Accelerator%20Pedal%20Sensor%20(APS)&start=374  <->  [ok] - 剩余数量：84\n",
      "https://ecatalog.smpcorp.com/V2/STD/api/part/partsearch?filterType=n&searchType=p&imageSize=80&limit=1&sort=3&catFilter=-All-&yearFilter=-All-&makeFilter=-All-&modelFilter=-All-&engineFilter=-All-&attrCodeFilter=-All-&attrValueFilter=-All-&plkEngineMakeFilter=-All-&plkEngineModelFilter=-All-&plkEngineDispFilter=-All-&filter=Accelerator%20Pedal%20Sensor%20(APS)&start=365  <->  [ok] - 剩余数量：83\n",
      "https://ecatalog.smpcorp.com/V2/STD/api/part/partsearch?filterType=n&searchType=p&imageSize=80&limit=1&sort=3&catFilter=-All-&yearFilter=-All-&makeFilter=-All-&modelFilter=-All-&engineFilter=-All-&attrCodeFilter=-All-&attrValueFilter=-All-&plkEngineMakeFilter=-All-&plkEngineModelFilter=-All-&plkEngineDispFilter=-All-&filter=Accelerator%20Pedal%20Sensor%20(APS)&start=370  <->  [ok] - 剩余数量：82\n"
     ]
    },
    {
     "name": "stderr",
     "output_type": "stream",
     "text": [
      "C:\\Users\\YangTeng\\AppData\\Local\\Temp\\ipykernel_2604\\3929323490.py:58: FutureWarning: Setting an item of incompatible dtype is deprecated and will raise in a future error of pandas. Value 'ok' has dtype incompatible with float64, please explicitly cast to a compatible dtype first.\n",
      "  df_temp.loc[0, 'status'] = 'ok'\n",
      "C:\\Users\\YangTeng\\AppData\\Local\\Temp\\ipykernel_2604\\3929323490.py:59: FutureWarning: Setting an item of incompatible dtype is deprecated and will raise in a future error of pandas. Value 'https://ecatalog.smpcorp.com/V2/STD/api/part/partsearch?filterType=n&searchType=p&imageSize=80&limit=1&sort=3&catFilter=-All-&yearFilter=-All-&makeFilter=-All-&modelFilter=-All-&engineFilter=-All-&attrCodeFilter=-All-&attrValueFilter=-All-&plkEngineMakeFilter=-All-&plkEngineModelFilter=-All-&plkEngineDispFilter=-All-&filter=Accelerator%20Pedal%20Sensor%20(APS)&start=363' has dtype incompatible with float64, please explicitly cast to a compatible dtype first.\n",
      "  df_temp.loc[0, 'Url'] = url\n",
      "C:\\Users\\YangTeng\\AppData\\Local\\Temp\\ipykernel_2604\\3929323490.py:58: FutureWarning: Setting an item of incompatible dtype is deprecated and will raise in a future error of pandas. Value 'ok' has dtype incompatible with float64, please explicitly cast to a compatible dtype first.\n",
      "  df_temp.loc[0, 'status'] = 'ok'\n",
      "C:\\Users\\YangTeng\\AppData\\Local\\Temp\\ipykernel_2604\\3929323490.py:59: FutureWarning: Setting an item of incompatible dtype is deprecated and will raise in a future error of pandas. Value 'https://ecatalog.smpcorp.com/V2/STD/api/part/partsearch?filterType=n&searchType=p&imageSize=80&limit=1&sort=3&catFilter=-All-&yearFilter=-All-&makeFilter=-All-&modelFilter=-All-&engineFilter=-All-&attrCodeFilter=-All-&attrValueFilter=-All-&plkEngineMakeFilter=-All-&plkEngineModelFilter=-All-&plkEngineDispFilter=-All-&filter=Accelerator%20Pedal%20Sensor%20(APS)&start=364' has dtype incompatible with float64, please explicitly cast to a compatible dtype first.\n",
      "  df_temp.loc[0, 'Url'] = url\n",
      "C:\\Users\\YangTeng\\AppData\\Local\\Temp\\ipykernel_2604\\3929323490.py:58: FutureWarning: Setting an item of incompatible dtype is deprecated and will raise in a future error of pandas. Value 'ok' has dtype incompatible with float64, please explicitly cast to a compatible dtype first.\n",
      "  df_temp.loc[0, 'status'] = 'ok'\n",
      "C:\\Users\\YangTeng\\AppData\\Local\\Temp\\ipykernel_2604\\3929323490.py:59: FutureWarning: Setting an item of incompatible dtype is deprecated and will raise in a future error of pandas. Value 'https://ecatalog.smpcorp.com/V2/STD/api/part/partsearch?filterType=n&searchType=p&imageSize=80&limit=1&sort=3&catFilter=-All-&yearFilter=-All-&makeFilter=-All-&modelFilter=-All-&engineFilter=-All-&attrCodeFilter=-All-&attrValueFilter=-All-&plkEngineMakeFilter=-All-&plkEngineModelFilter=-All-&plkEngineDispFilter=-All-&filter=Accelerator%20Pedal%20Sensor%20(APS)&start=373' has dtype incompatible with float64, please explicitly cast to a compatible dtype first.\n",
      "  df_temp.loc[0, 'Url'] = url\n",
      "C:\\Users\\YangTeng\\AppData\\Local\\Temp\\ipykernel_2604\\3929323490.py:58: FutureWarning: Setting an item of incompatible dtype is deprecated and will raise in a future error of pandas. Value 'ok' has dtype incompatible with float64, please explicitly cast to a compatible dtype first.\n",
      "  df_temp.loc[0, 'status'] = 'ok'\n",
      "C:\\Users\\YangTeng\\AppData\\Local\\Temp\\ipykernel_2604\\3929323490.py:59: FutureWarning: Setting an item of incompatible dtype is deprecated and will raise in a future error of pandas. Value 'https://ecatalog.smpcorp.com/V2/STD/api/part/partsearch?filterType=n&searchType=p&imageSize=80&limit=1&sort=3&catFilter=-All-&yearFilter=-All-&makeFilter=-All-&modelFilter=-All-&engineFilter=-All-&attrCodeFilter=-All-&attrValueFilter=-All-&plkEngineMakeFilter=-All-&plkEngineModelFilter=-All-&plkEngineDispFilter=-All-&filter=Accelerator%20Pedal%20Sensor%20(APS)&start=366' has dtype incompatible with float64, please explicitly cast to a compatible dtype first.\n",
      "  df_temp.loc[0, 'Url'] = url\n",
      "C:\\Users\\YangTeng\\AppData\\Local\\Temp\\ipykernel_2604\\3929323490.py:58: FutureWarning: Setting an item of incompatible dtype is deprecated and will raise in a future error of pandas. Value 'ok' has dtype incompatible with float64, please explicitly cast to a compatible dtype first.\n",
      "  df_temp.loc[0, 'status'] = 'ok'\n",
      "C:\\Users\\YangTeng\\AppData\\Local\\Temp\\ipykernel_2604\\3929323490.py:59: FutureWarning: Setting an item of incompatible dtype is deprecated and will raise in a future error of pandas. Value 'https://ecatalog.smpcorp.com/V2/STD/api/part/partsearch?filterType=n&searchType=p&imageSize=80&limit=1&sort=3&catFilter=-All-&yearFilter=-All-&makeFilter=-All-&modelFilter=-All-&engineFilter=-All-&attrCodeFilter=-All-&attrValueFilter=-All-&plkEngineMakeFilter=-All-&plkEngineModelFilter=-All-&plkEngineDispFilter=-All-&filter=Accelerator%20Pedal%20Sensor%20(APS)&start=367' has dtype incompatible with float64, please explicitly cast to a compatible dtype first.\n",
      "  df_temp.loc[0, 'Url'] = url\n"
     ]
    },
    {
     "name": "stdout",
     "output_type": "stream",
     "text": [
      "https://ecatalog.smpcorp.com/V2/STD/api/part/partsearch?filterType=n&searchType=p&imageSize=80&limit=1&sort=3&catFilter=-All-&yearFilter=-All-&makeFilter=-All-&modelFilter=-All-&engineFilter=-All-&attrCodeFilter=-All-&attrValueFilter=-All-&plkEngineMakeFilter=-All-&plkEngineModelFilter=-All-&plkEngineDispFilter=-All-&filter=Accelerator%20Pedal%20Sensor%20(APS)&start=363  <->  [ok] - 剩余数量：81\n",
      "https://ecatalog.smpcorp.com/V2/STD/api/part/partsearch?filterType=n&searchType=p&imageSize=80&limit=1&sort=3&catFilter=-All-&yearFilter=-All-&makeFilter=-All-&modelFilter=-All-&engineFilter=-All-&attrCodeFilter=-All-&attrValueFilter=-All-&plkEngineMakeFilter=-All-&plkEngineModelFilter=-All-&plkEngineDispFilter=-All-&filter=Accelerator%20Pedal%20Sensor%20(APS)&start=364  <->  [ok] - 剩余数量：80\n",
      "https://ecatalog.smpcorp.com/V2/STD/api/part/partsearch?filterType=n&searchType=p&imageSize=80&limit=1&sort=3&catFilter=-All-&yearFilter=-All-&makeFilter=-All-&modelFilter=-All-&engineFilter=-All-&attrCodeFilter=-All-&attrValueFilter=-All-&plkEngineMakeFilter=-All-&plkEngineModelFilter=-All-&plkEngineDispFilter=-All-&filter=Accelerator%20Pedal%20Sensor%20(APS)&start=373  <->  [ok] - 剩余数量：79\n",
      "https://ecatalog.smpcorp.com/V2/STD/api/part/partsearch?filterType=n&searchType=p&imageSize=80&limit=1&sort=3&catFilter=-All-&yearFilter=-All-&makeFilter=-All-&modelFilter=-All-&engineFilter=-All-&attrCodeFilter=-All-&attrValueFilter=-All-&plkEngineMakeFilter=-All-&plkEngineModelFilter=-All-&plkEngineDispFilter=-All-&filter=Accelerator%20Pedal%20Sensor%20(APS)&start=366  <->  [ok] - 剩余数量：78\n",
      "https://ecatalog.smpcorp.com/V2/STD/api/part/partsearch?filterType=n&searchType=p&imageSize=80&limit=1&sort=3&catFilter=-All-&yearFilter=-All-&makeFilter=-All-&modelFilter=-All-&engineFilter=-All-&attrCodeFilter=-All-&attrValueFilter=-All-&plkEngineMakeFilter=-All-&plkEngineModelFilter=-All-&plkEngineDispFilter=-All-&filter=Accelerator%20Pedal%20Sensor%20(APS)&start=367  <->  [ok] - 剩余数量：77\n"
     ]
    },
    {
     "name": "stderr",
     "output_type": "stream",
     "text": [
      "C:\\Users\\YangTeng\\AppData\\Local\\Temp\\ipykernel_2604\\3929323490.py:58: FutureWarning: Setting an item of incompatible dtype is deprecated and will raise in a future error of pandas. Value 'ok' has dtype incompatible with float64, please explicitly cast to a compatible dtype first.\n",
      "  df_temp.loc[0, 'status'] = 'ok'\n",
      "C:\\Users\\YangTeng\\AppData\\Local\\Temp\\ipykernel_2604\\3929323490.py:59: FutureWarning: Setting an item of incompatible dtype is deprecated and will raise in a future error of pandas. Value 'https://ecatalog.smpcorp.com/V2/STD/api/part/partsearch?filterType=n&searchType=p&imageSize=80&limit=1&sort=3&catFilter=-All-&yearFilter=-All-&makeFilter=-All-&modelFilter=-All-&engineFilter=-All-&attrCodeFilter=-All-&attrValueFilter=-All-&plkEngineMakeFilter=-All-&plkEngineModelFilter=-All-&plkEngineDispFilter=-All-&filter=Accelerator%20Pedal%20Sensor%20(APS)&start=375' has dtype incompatible with float64, please explicitly cast to a compatible dtype first.\n",
      "  df_temp.loc[0, 'Url'] = url\n"
     ]
    },
    {
     "name": "stdout",
     "output_type": "stream",
     "text": [
      "https://ecatalog.smpcorp.com/V2/STD/api/part/partsearch?filterType=n&searchType=p&imageSize=80&limit=1&sort=3&catFilter=-All-&yearFilter=-All-&makeFilter=-All-&modelFilter=-All-&engineFilter=-All-&attrCodeFilter=-All-&attrValueFilter=-All-&plkEngineMakeFilter=-All-&plkEngineModelFilter=-All-&plkEngineDispFilter=-All-&filter=Accelerator%20Pedal%20Sensor%20(APS)&start=375  <->  [ok] - 剩余数量：76\n"
     ]
    },
    {
     "name": "stderr",
     "output_type": "stream",
     "text": [
      "C:\\Users\\YangTeng\\AppData\\Local\\Temp\\ipykernel_2604\\3929323490.py:58: FutureWarning: Setting an item of incompatible dtype is deprecated and will raise in a future error of pandas. Value 'ok' has dtype incompatible with float64, please explicitly cast to a compatible dtype first.\n",
      "  df_temp.loc[0, 'status'] = 'ok'\n",
      "C:\\Users\\YangTeng\\AppData\\Local\\Temp\\ipykernel_2604\\3929323490.py:59: FutureWarning: Setting an item of incompatible dtype is deprecated and will raise in a future error of pandas. Value 'https://ecatalog.smpcorp.com/V2/STD/api/part/partsearch?filterType=n&searchType=p&imageSize=80&limit=1&sort=3&catFilter=-All-&yearFilter=-All-&makeFilter=-All-&modelFilter=-All-&engineFilter=-All-&attrCodeFilter=-All-&attrValueFilter=-All-&plkEngineMakeFilter=-All-&plkEngineModelFilter=-All-&plkEngineDispFilter=-All-&filter=Accelerator%20Pedal%20Sensor%20(APS)&start=378' has dtype incompatible with float64, please explicitly cast to a compatible dtype first.\n",
      "  df_temp.loc[0, 'Url'] = url\n"
     ]
    },
    {
     "name": "stdout",
     "output_type": "stream",
     "text": [
      "https://ecatalog.smpcorp.com/V2/STD/api/part/partsearch?filterType=n&searchType=p&imageSize=80&limit=1&sort=3&catFilter=-All-&yearFilter=-All-&makeFilter=-All-&modelFilter=-All-&engineFilter=-All-&attrCodeFilter=-All-&attrValueFilter=-All-&plkEngineMakeFilter=-All-&plkEngineModelFilter=-All-&plkEngineDispFilter=-All-&filter=Accelerator%20Pedal%20Sensor%20(APS)&start=378  <->  [ok] - 剩余数量：75\n"
     ]
    },
    {
     "name": "stderr",
     "output_type": "stream",
     "text": [
      "C:\\Users\\YangTeng\\AppData\\Local\\Temp\\ipykernel_2604\\3929323490.py:58: FutureWarning: Setting an item of incompatible dtype is deprecated and will raise in a future error of pandas. Value 'ok' has dtype incompatible with float64, please explicitly cast to a compatible dtype first.\n",
      "  df_temp.loc[0, 'status'] = 'ok'\n",
      "C:\\Users\\YangTeng\\AppData\\Local\\Temp\\ipykernel_2604\\3929323490.py:59: FutureWarning: Setting an item of incompatible dtype is deprecated and will raise in a future error of pandas. Value 'https://ecatalog.smpcorp.com/V2/STD/api/part/partsearch?filterType=n&searchType=p&imageSize=80&limit=1&sort=3&catFilter=-All-&yearFilter=-All-&makeFilter=-All-&modelFilter=-All-&engineFilter=-All-&attrCodeFilter=-All-&attrValueFilter=-All-&plkEngineMakeFilter=-All-&plkEngineModelFilter=-All-&plkEngineDispFilter=-All-&filter=Accelerator%20Pedal%20Sensor%20(APS)&start=376' has dtype incompatible with float64, please explicitly cast to a compatible dtype first.\n",
      "  df_temp.loc[0, 'Url'] = url\n",
      "C:\\Users\\YangTeng\\AppData\\Local\\Temp\\ipykernel_2604\\3929323490.py:58: FutureWarning: Setting an item of incompatible dtype is deprecated and will raise in a future error of pandas. Value 'ok' has dtype incompatible with float64, please explicitly cast to a compatible dtype first.\n",
      "  df_temp.loc[0, 'status'] = 'ok'\n",
      "C:\\Users\\YangTeng\\AppData\\Local\\Temp\\ipykernel_2604\\3929323490.py:59: FutureWarning: Setting an item of incompatible dtype is deprecated and will raise in a future error of pandas. Value 'https://ecatalog.smpcorp.com/V2/STD/api/part/partsearch?filterType=n&searchType=p&imageSize=80&limit=1&sort=3&catFilter=-All-&yearFilter=-All-&makeFilter=-All-&modelFilter=-All-&engineFilter=-All-&attrCodeFilter=-All-&attrValueFilter=-All-&plkEngineMakeFilter=-All-&plkEngineModelFilter=-All-&plkEngineDispFilter=-All-&filter=Accelerator%20Pedal%20Sensor%20(APS)&start=377' has dtype incompatible with float64, please explicitly cast to a compatible dtype first.\n",
      "  df_temp.loc[0, 'Url'] = url\n"
     ]
    },
    {
     "name": "stdout",
     "output_type": "stream",
     "text": [
      "https://ecatalog.smpcorp.com/V2/STD/api/part/partsearch?filterType=n&searchType=p&imageSize=80&limit=1&sort=3&catFilter=-All-&yearFilter=-All-&makeFilter=-All-&modelFilter=-All-&engineFilter=-All-&attrCodeFilter=-All-&attrValueFilter=-All-&plkEngineMakeFilter=-All-&plkEngineModelFilter=-All-&plkEngineDispFilter=-All-&filter=Accelerator%20Pedal%20Sensor%20(APS)&start=376  <->  [ok] - 剩余数量：74\n",
      "https://ecatalog.smpcorp.com/V2/STD/api/part/partsearch?filterType=n&searchType=p&imageSize=80&limit=1&sort=3&catFilter=-All-&yearFilter=-All-&makeFilter=-All-&modelFilter=-All-&engineFilter=-All-&attrCodeFilter=-All-&attrValueFilter=-All-&plkEngineMakeFilter=-All-&plkEngineModelFilter=-All-&plkEngineDispFilter=-All-&filter=Accelerator%20Pedal%20Sensor%20(APS)&start=377  <->  [ok] - 剩余数量：73\n"
     ]
    },
    {
     "name": "stderr",
     "output_type": "stream",
     "text": [
      "C:\\Users\\YangTeng\\AppData\\Local\\Temp\\ipykernel_2604\\3929323490.py:58: FutureWarning: Setting an item of incompatible dtype is deprecated and will raise in a future error of pandas. Value 'ok' has dtype incompatible with float64, please explicitly cast to a compatible dtype first.\n",
      "  df_temp.loc[0, 'status'] = 'ok'\n",
      "C:\\Users\\YangTeng\\AppData\\Local\\Temp\\ipykernel_2604\\3929323490.py:59: FutureWarning: Setting an item of incompatible dtype is deprecated and will raise in a future error of pandas. Value 'https://ecatalog.smpcorp.com/V2/STD/api/part/partsearch?filterType=n&searchType=p&imageSize=80&limit=1&sort=3&catFilter=-All-&yearFilter=-All-&makeFilter=-All-&modelFilter=-All-&engineFilter=-All-&attrCodeFilter=-All-&attrValueFilter=-All-&plkEngineMakeFilter=-All-&plkEngineModelFilter=-All-&plkEngineDispFilter=-All-&filter=Accelerator%20Pedal%20Sensor%20(APS)&start=382' has dtype incompatible with float64, please explicitly cast to a compatible dtype first.\n",
      "  df_temp.loc[0, 'Url'] = url\n",
      "C:\\Users\\YangTeng\\AppData\\Local\\Temp\\ipykernel_2604\\3929323490.py:58: FutureWarning: Setting an item of incompatible dtype is deprecated and will raise in a future error of pandas. Value 'ok' has dtype incompatible with float64, please explicitly cast to a compatible dtype first.\n",
      "  df_temp.loc[0, 'status'] = 'ok'\n",
      "C:\\Users\\YangTeng\\AppData\\Local\\Temp\\ipykernel_2604\\3929323490.py:59: FutureWarning: Setting an item of incompatible dtype is deprecated and will raise in a future error of pandas. Value 'https://ecatalog.smpcorp.com/V2/STD/api/part/partsearch?filterType=n&searchType=p&imageSize=80&limit=1&sort=3&catFilter=-All-&yearFilter=-All-&makeFilter=-All-&modelFilter=-All-&engineFilter=-All-&attrCodeFilter=-All-&attrValueFilter=-All-&plkEngineMakeFilter=-All-&plkEngineModelFilter=-All-&plkEngineDispFilter=-All-&filter=Accelerator%20Pedal%20Sensor%20(APS)&start=388' has dtype incompatible with float64, please explicitly cast to a compatible dtype first.\n",
      "  df_temp.loc[0, 'Url'] = url\n",
      "C:\\Users\\YangTeng\\AppData\\Local\\Temp\\ipykernel_2604\\3929323490.py:58: FutureWarning: Setting an item of incompatible dtype is deprecated and will raise in a future error of pandas. Value 'ok' has dtype incompatible with float64, please explicitly cast to a compatible dtype first.\n",
      "  df_temp.loc[0, 'status'] = 'ok'\n",
      "C:\\Users\\YangTeng\\AppData\\Local\\Temp\\ipykernel_2604\\3929323490.py:59: FutureWarning: Setting an item of incompatible dtype is deprecated and will raise in a future error of pandas. Value 'https://ecatalog.smpcorp.com/V2/STD/api/part/partsearch?filterType=n&searchType=p&imageSize=80&limit=1&sort=3&catFilter=-All-&yearFilter=-All-&makeFilter=-All-&modelFilter=-All-&engineFilter=-All-&attrCodeFilter=-All-&attrValueFilter=-All-&plkEngineMakeFilter=-All-&plkEngineModelFilter=-All-&plkEngineDispFilter=-All-&filter=Accelerator%20Pedal%20Sensor%20(APS)&start=387' has dtype incompatible with float64, please explicitly cast to a compatible dtype first.\n",
      "  df_temp.loc[0, 'Url'] = url\n",
      "C:\\Users\\YangTeng\\AppData\\Local\\Temp\\ipykernel_2604\\3929323490.py:58: FutureWarning: Setting an item of incompatible dtype is deprecated and will raise in a future error of pandas. Value 'ok' has dtype incompatible with float64, please explicitly cast to a compatible dtype first.\n",
      "  df_temp.loc[0, 'status'] = 'ok'\n",
      "C:\\Users\\YangTeng\\AppData\\Local\\Temp\\ipykernel_2604\\3929323490.py:59: FutureWarning: Setting an item of incompatible dtype is deprecated and will raise in a future error of pandas. Value 'https://ecatalog.smpcorp.com/V2/STD/api/part/partsearch?filterType=n&searchType=p&imageSize=80&limit=1&sort=3&catFilter=-All-&yearFilter=-All-&makeFilter=-All-&modelFilter=-All-&engineFilter=-All-&attrCodeFilter=-All-&attrValueFilter=-All-&plkEngineMakeFilter=-All-&plkEngineModelFilter=-All-&plkEngineDispFilter=-All-&filter=Accelerator%20Pedal%20Sensor%20(APS)&start=381' has dtype incompatible with float64, please explicitly cast to a compatible dtype first.\n",
      "  df_temp.loc[0, 'Url'] = url\n",
      "C:\\Users\\YangTeng\\AppData\\Local\\Temp\\ipykernel_2604\\3929323490.py:58: FutureWarning: Setting an item of incompatible dtype is deprecated and will raise in a future error of pandas. Value 'ok' has dtype incompatible with float64, please explicitly cast to a compatible dtype first.\n",
      "  df_temp.loc[0, 'status'] = 'ok'\n",
      "C:\\Users\\YangTeng\\AppData\\Local\\Temp\\ipykernel_2604\\3929323490.py:59: FutureWarning: Setting an item of incompatible dtype is deprecated and will raise in a future error of pandas. Value 'https://ecatalog.smpcorp.com/V2/STD/api/part/partsearch?filterType=n&searchType=p&imageSize=80&limit=1&sort=3&catFilter=-All-&yearFilter=-All-&makeFilter=-All-&modelFilter=-All-&engineFilter=-All-&attrCodeFilter=-All-&attrValueFilter=-All-&plkEngineMakeFilter=-All-&plkEngineModelFilter=-All-&plkEngineDispFilter=-All-&filter=Accelerator%20Pedal%20Sensor%20(APS)&start=383' has dtype incompatible with float64, please explicitly cast to a compatible dtype first.\n",
      "  df_temp.loc[0, 'Url'] = url\n",
      "C:\\Users\\YangTeng\\AppData\\Local\\Temp\\ipykernel_2604\\3929323490.py:58: FutureWarning: Setting an item of incompatible dtype is deprecated and will raise in a future error of pandas. Value 'ok' has dtype incompatible with float64, please explicitly cast to a compatible dtype first.\n",
      "  df_temp.loc[0, 'status'] = 'ok'\n",
      "C:\\Users\\YangTeng\\AppData\\Local\\Temp\\ipykernel_2604\\3929323490.py:59: FutureWarning: Setting an item of incompatible dtype is deprecated and will raise in a future error of pandas. Value 'https://ecatalog.smpcorp.com/V2/STD/api/part/partsearch?filterType=n&searchType=p&imageSize=80&limit=1&sort=3&catFilter=-All-&yearFilter=-All-&makeFilter=-All-&modelFilter=-All-&engineFilter=-All-&attrCodeFilter=-All-&attrValueFilter=-All-&plkEngineMakeFilter=-All-&plkEngineModelFilter=-All-&plkEngineDispFilter=-All-&filter=Accelerator%20Pedal%20Sensor%20(APS)&start=386' has dtype incompatible with float64, please explicitly cast to a compatible dtype first.\n",
      "  df_temp.loc[0, 'Url'] = url\n",
      "C:\\Users\\YangTeng\\AppData\\Local\\Temp\\ipykernel_2604\\3929323490.py:58: FutureWarning: Setting an item of incompatible dtype is deprecated and will raise in a future error of pandas. Value 'ok' has dtype incompatible with float64, please explicitly cast to a compatible dtype first.\n",
      "  df_temp.loc[0, 'status'] = 'ok'\n",
      "C:\\Users\\YangTeng\\AppData\\Local\\Temp\\ipykernel_2604\\3929323490.py:59: FutureWarning: Setting an item of incompatible dtype is deprecated and will raise in a future error of pandas. Value 'https://ecatalog.smpcorp.com/V2/STD/api/part/partsearch?filterType=n&searchType=p&imageSize=80&limit=1&sort=3&catFilter=-All-&yearFilter=-All-&makeFilter=-All-&modelFilter=-All-&engineFilter=-All-&attrCodeFilter=-All-&attrValueFilter=-All-&plkEngineMakeFilter=-All-&plkEngineModelFilter=-All-&plkEngineDispFilter=-All-&filter=Accelerator%20Pedal%20Sensor%20(APS)&start=390' has dtype incompatible with float64, please explicitly cast to a compatible dtype first.\n",
      "  df_temp.loc[0, 'Url'] = url\n",
      "C:\\Users\\YangTeng\\AppData\\Local\\Temp\\ipykernel_2604\\3929323490.py:58: FutureWarning: Setting an item of incompatible dtype is deprecated and will raise in a future error of pandas. Value 'ok' has dtype incompatible with float64, please explicitly cast to a compatible dtype first.\n",
      "  df_temp.loc[0, 'status'] = 'ok'\n",
      "C:\\Users\\YangTeng\\AppData\\Local\\Temp\\ipykernel_2604\\3929323490.py:59: FutureWarning: Setting an item of incompatible dtype is deprecated and will raise in a future error of pandas. Value 'https://ecatalog.smpcorp.com/V2/STD/api/part/partsearch?filterType=n&searchType=p&imageSize=80&limit=1&sort=3&catFilter=-All-&yearFilter=-All-&makeFilter=-All-&modelFilter=-All-&engineFilter=-All-&attrCodeFilter=-All-&attrValueFilter=-All-&plkEngineMakeFilter=-All-&plkEngineModelFilter=-All-&plkEngineDispFilter=-All-&filter=Accelerator%20Pedal%20Sensor%20(APS)&start=384' has dtype incompatible with float64, please explicitly cast to a compatible dtype first.\n",
      "  df_temp.loc[0, 'Url'] = url\n"
     ]
    },
    {
     "name": "stdout",
     "output_type": "stream",
     "text": [
      "https://ecatalog.smpcorp.com/V2/STD/api/part/partsearch?filterType=n&searchType=p&imageSize=80&limit=1&sort=3&catFilter=-All-&yearFilter=-All-&makeFilter=-All-&modelFilter=-All-&engineFilter=-All-&attrCodeFilter=-All-&attrValueFilter=-All-&plkEngineMakeFilter=-All-&plkEngineModelFilter=-All-&plkEngineDispFilter=-All-&filter=Accelerator%20Pedal%20Sensor%20(APS)&start=382  <->  [ok] - 剩余数量：72\n",
      "https://ecatalog.smpcorp.com/V2/STD/api/part/partsearch?filterType=n&searchType=p&imageSize=80&limit=1&sort=3&catFilter=-All-&yearFilter=-All-&makeFilter=-All-&modelFilter=-All-&engineFilter=-All-&attrCodeFilter=-All-&attrValueFilter=-All-&plkEngineMakeFilter=-All-&plkEngineModelFilter=-All-&plkEngineDispFilter=-All-&filter=Accelerator%20Pedal%20Sensor%20(APS)&start=388  <->  [ok] - 剩余数量：71\n",
      "https://ecatalog.smpcorp.com/V2/STD/api/part/partsearch?filterType=n&searchType=p&imageSize=80&limit=1&sort=3&catFilter=-All-&yearFilter=-All-&makeFilter=-All-&modelFilter=-All-&engineFilter=-All-&attrCodeFilter=-All-&attrValueFilter=-All-&plkEngineMakeFilter=-All-&plkEngineModelFilter=-All-&plkEngineDispFilter=-All-&filter=Accelerator%20Pedal%20Sensor%20(APS)&start=387  <->  [ok] - 剩余数量：70\n",
      "https://ecatalog.smpcorp.com/V2/STD/api/part/partsearch?filterType=n&searchType=p&imageSize=80&limit=1&sort=3&catFilter=-All-&yearFilter=-All-&makeFilter=-All-&modelFilter=-All-&engineFilter=-All-&attrCodeFilter=-All-&attrValueFilter=-All-&plkEngineMakeFilter=-All-&plkEngineModelFilter=-All-&plkEngineDispFilter=-All-&filter=Accelerator%20Pedal%20Sensor%20(APS)&start=381  <->  [ok] - 剩余数量：69\n",
      "https://ecatalog.smpcorp.com/V2/STD/api/part/partsearch?filterType=n&searchType=p&imageSize=80&limit=1&sort=3&catFilter=-All-&yearFilter=-All-&makeFilter=-All-&modelFilter=-All-&engineFilter=-All-&attrCodeFilter=-All-&attrValueFilter=-All-&plkEngineMakeFilter=-All-&plkEngineModelFilter=-All-&plkEngineDispFilter=-All-&filter=Accelerator%20Pedal%20Sensor%20(APS)&start=383  <->  [ok] - 剩余数量：68\n",
      "https://ecatalog.smpcorp.com/V2/STD/api/part/partsearch?filterType=n&searchType=p&imageSize=80&limit=1&sort=3&catFilter=-All-&yearFilter=-All-&makeFilter=-All-&modelFilter=-All-&engineFilter=-All-&attrCodeFilter=-All-&attrValueFilter=-All-&plkEngineMakeFilter=-All-&plkEngineModelFilter=-All-&plkEngineDispFilter=-All-&filter=Accelerator%20Pedal%20Sensor%20(APS)&start=386  <->  [ok] - 剩余数量：67\n",
      "https://ecatalog.smpcorp.com/V2/STD/api/part/partsearch?filterType=n&searchType=p&imageSize=80&limit=1&sort=3&catFilter=-All-&yearFilter=-All-&makeFilter=-All-&modelFilter=-All-&engineFilter=-All-&attrCodeFilter=-All-&attrValueFilter=-All-&plkEngineMakeFilter=-All-&plkEngineModelFilter=-All-&plkEngineDispFilter=-All-&filter=Accelerator%20Pedal%20Sensor%20(APS)&start=390  <->  [ok] - 剩余数量：66\n",
      "https://ecatalog.smpcorp.com/V2/STD/api/part/partsearch?filterType=n&searchType=p&imageSize=80&limit=1&sort=3&catFilter=-All-&yearFilter=-All-&makeFilter=-All-&modelFilter=-All-&engineFilter=-All-&attrCodeFilter=-All-&attrValueFilter=-All-&plkEngineMakeFilter=-All-&plkEngineModelFilter=-All-&plkEngineDispFilter=-All-&filter=Accelerator%20Pedal%20Sensor%20(APS)&start=384  <->  [ok] - 剩余数量：65\n"
     ]
    },
    {
     "name": "stderr",
     "output_type": "stream",
     "text": [
      "C:\\Users\\YangTeng\\AppData\\Local\\Temp\\ipykernel_2604\\3929323490.py:58: FutureWarning: Setting an item of incompatible dtype is deprecated and will raise in a future error of pandas. Value 'ok' has dtype incompatible with float64, please explicitly cast to a compatible dtype first.\n",
      "  df_temp.loc[0, 'status'] = 'ok'\n",
      "C:\\Users\\YangTeng\\AppData\\Local\\Temp\\ipykernel_2604\\3929323490.py:59: FutureWarning: Setting an item of incompatible dtype is deprecated and will raise in a future error of pandas. Value 'https://ecatalog.smpcorp.com/V2/STD/api/part/partsearch?filterType=n&searchType=p&imageSize=80&limit=1&sort=3&catFilter=-All-&yearFilter=-All-&makeFilter=-All-&modelFilter=-All-&engineFilter=-All-&attrCodeFilter=-All-&attrValueFilter=-All-&plkEngineMakeFilter=-All-&plkEngineModelFilter=-All-&plkEngineDispFilter=-All-&filter=Accelerator%20Pedal%20Sensor%20(APS)&start=371' has dtype incompatible with float64, please explicitly cast to a compatible dtype first.\n",
      "  df_temp.loc[0, 'Url'] = url\n",
      "C:\\Users\\YangTeng\\AppData\\Local\\Temp\\ipykernel_2604\\3929323490.py:58: FutureWarning: Setting an item of incompatible dtype is deprecated and will raise in a future error of pandas. Value 'ok' has dtype incompatible with float64, please explicitly cast to a compatible dtype first.\n",
      "  df_temp.loc[0, 'status'] = 'ok'\n",
      "C:\\Users\\YangTeng\\AppData\\Local\\Temp\\ipykernel_2604\\3929323490.py:59: FutureWarning: Setting an item of incompatible dtype is deprecated and will raise in a future error of pandas. Value 'https://ecatalog.smpcorp.com/V2/STD/api/part/partsearch?filterType=n&searchType=p&imageSize=80&limit=1&sort=3&catFilter=-All-&yearFilter=-All-&makeFilter=-All-&modelFilter=-All-&engineFilter=-All-&attrCodeFilter=-All-&attrValueFilter=-All-&plkEngineMakeFilter=-All-&plkEngineModelFilter=-All-&plkEngineDispFilter=-All-&filter=Accelerator%20Pedal%20Sensor%20(APS)&start=372' has dtype incompatible with float64, please explicitly cast to a compatible dtype first.\n",
      "  df_temp.loc[0, 'Url'] = url\n",
      "C:\\Users\\YangTeng\\AppData\\Local\\Temp\\ipykernel_2604\\3929323490.py:58: FutureWarning: Setting an item of incompatible dtype is deprecated and will raise in a future error of pandas. Value 'ok' has dtype incompatible with float64, please explicitly cast to a compatible dtype first.\n",
      "  df_temp.loc[0, 'status'] = 'ok'\n",
      "C:\\Users\\YangTeng\\AppData\\Local\\Temp\\ipykernel_2604\\3929323490.py:59: FutureWarning: Setting an item of incompatible dtype is deprecated and will raise in a future error of pandas. Value 'https://ecatalog.smpcorp.com/V2/STD/api/part/partsearch?filterType=n&searchType=p&imageSize=80&limit=1&sort=3&catFilter=-All-&yearFilter=-All-&makeFilter=-All-&modelFilter=-All-&engineFilter=-All-&attrCodeFilter=-All-&attrValueFilter=-All-&plkEngineMakeFilter=-All-&plkEngineModelFilter=-All-&plkEngineDispFilter=-All-&filter=Accelerator%20Pedal%20Sensor%20(APS)&start=380' has dtype incompatible with float64, please explicitly cast to a compatible dtype first.\n",
      "  df_temp.loc[0, 'Url'] = url\n"
     ]
    },
    {
     "name": "stdout",
     "output_type": "stream",
     "text": [
      "https://ecatalog.smpcorp.com/V2/STD/api/part/partsearch?filterType=n&searchType=p&imageSize=80&limit=1&sort=3&catFilter=-All-&yearFilter=-All-&makeFilter=-All-&modelFilter=-All-&engineFilter=-All-&attrCodeFilter=-All-&attrValueFilter=-All-&plkEngineMakeFilter=-All-&plkEngineModelFilter=-All-&plkEngineDispFilter=-All-&filter=Accelerator%20Pedal%20Sensor%20(APS)&start=371  <->  [ok] - 剩余数量：64\n",
      "https://ecatalog.smpcorp.com/V2/STD/api/part/partsearch?filterType=n&searchType=p&imageSize=80&limit=1&sort=3&catFilter=-All-&yearFilter=-All-&makeFilter=-All-&modelFilter=-All-&engineFilter=-All-&attrCodeFilter=-All-&attrValueFilter=-All-&plkEngineMakeFilter=-All-&plkEngineModelFilter=-All-&plkEngineDispFilter=-All-&filter=Accelerator%20Pedal%20Sensor%20(APS)&start=372  <->  [ok] - 剩余数量：63\n",
      "https://ecatalog.smpcorp.com/V2/STD/api/part/partsearch?filterType=n&searchType=p&imageSize=80&limit=1&sort=3&catFilter=-All-&yearFilter=-All-&makeFilter=-All-&modelFilter=-All-&engineFilter=-All-&attrCodeFilter=-All-&attrValueFilter=-All-&plkEngineMakeFilter=-All-&plkEngineModelFilter=-All-&plkEngineDispFilter=-All-&filter=Accelerator%20Pedal%20Sensor%20(APS)&start=380  <->  [ok] - 剩余数量：62\n"
     ]
    },
    {
     "name": "stderr",
     "output_type": "stream",
     "text": [
      "C:\\Users\\YangTeng\\AppData\\Local\\Temp\\ipykernel_2604\\3929323490.py:58: FutureWarning: Setting an item of incompatible dtype is deprecated and will raise in a future error of pandas. Value 'ok' has dtype incompatible with float64, please explicitly cast to a compatible dtype first.\n",
      "  df_temp.loc[0, 'status'] = 'ok'\n",
      "C:\\Users\\YangTeng\\AppData\\Local\\Temp\\ipykernel_2604\\3929323490.py:59: FutureWarning: Setting an item of incompatible dtype is deprecated and will raise in a future error of pandas. Value 'https://ecatalog.smpcorp.com/V2/STD/api/part/partsearch?filterType=n&searchType=p&imageSize=80&limit=1&sort=3&catFilter=-All-&yearFilter=-All-&makeFilter=-All-&modelFilter=-All-&engineFilter=-All-&attrCodeFilter=-All-&attrValueFilter=-All-&plkEngineMakeFilter=-All-&plkEngineModelFilter=-All-&plkEngineDispFilter=-All-&filter=Accelerator%20Pedal%20Sensor%20(APS)&start=392' has dtype incompatible with float64, please explicitly cast to a compatible dtype first.\n",
      "  df_temp.loc[0, 'Url'] = url\n"
     ]
    },
    {
     "name": "stdout",
     "output_type": "stream",
     "text": [
      "https://ecatalog.smpcorp.com/V2/STD/api/part/partsearch?filterType=n&searchType=p&imageSize=80&limit=1&sort=3&catFilter=-All-&yearFilter=-All-&makeFilter=-All-&modelFilter=-All-&engineFilter=-All-&attrCodeFilter=-All-&attrValueFilter=-All-&plkEngineMakeFilter=-All-&plkEngineModelFilter=-All-&plkEngineDispFilter=-All-&filter=Accelerator%20Pedal%20Sensor%20(APS)&start=392  <->  [ok] - 剩余数量：61\n"
     ]
    },
    {
     "name": "stderr",
     "output_type": "stream",
     "text": [
      "C:\\Users\\YangTeng\\AppData\\Local\\Temp\\ipykernel_2604\\3929323490.py:58: FutureWarning: Setting an item of incompatible dtype is deprecated and will raise in a future error of pandas. Value 'ok' has dtype incompatible with float64, please explicitly cast to a compatible dtype first.\n",
      "  df_temp.loc[0, 'status'] = 'ok'\n",
      "C:\\Users\\YangTeng\\AppData\\Local\\Temp\\ipykernel_2604\\3929323490.py:59: FutureWarning: Setting an item of incompatible dtype is deprecated and will raise in a future error of pandas. Value 'https://ecatalog.smpcorp.com/V2/STD/api/part/partsearch?filterType=n&searchType=p&imageSize=80&limit=1&sort=3&catFilter=-All-&yearFilter=-All-&makeFilter=-All-&modelFilter=-All-&engineFilter=-All-&attrCodeFilter=-All-&attrValueFilter=-All-&plkEngineMakeFilter=-All-&plkEngineModelFilter=-All-&plkEngineDispFilter=-All-&filter=Accelerator%20Pedal%20Sensor%20(APS)&start=400' has dtype incompatible with float64, please explicitly cast to a compatible dtype first.\n",
      "  df_temp.loc[0, 'Url'] = url\n",
      "C:\\Users\\YangTeng\\AppData\\Local\\Temp\\ipykernel_2604\\3929323490.py:58: FutureWarning: Setting an item of incompatible dtype is deprecated and will raise in a future error of pandas. Value 'ok' has dtype incompatible with float64, please explicitly cast to a compatible dtype first.\n",
      "  df_temp.loc[0, 'status'] = 'ok'\n",
      "C:\\Users\\YangTeng\\AppData\\Local\\Temp\\ipykernel_2604\\3929323490.py:59: FutureWarning: Setting an item of incompatible dtype is deprecated and will raise in a future error of pandas. Value 'https://ecatalog.smpcorp.com/V2/STD/api/part/partsearch?filterType=n&searchType=p&imageSize=80&limit=1&sort=3&catFilter=-All-&yearFilter=-All-&makeFilter=-All-&modelFilter=-All-&engineFilter=-All-&attrCodeFilter=-All-&attrValueFilter=-All-&plkEngineMakeFilter=-All-&plkEngineModelFilter=-All-&plkEngineDispFilter=-All-&filter=Accelerator%20Pedal%20Sensor%20(APS)&start=395' has dtype incompatible with float64, please explicitly cast to a compatible dtype first.\n",
      "  df_temp.loc[0, 'Url'] = url\n",
      "C:\\Users\\YangTeng\\AppData\\Local\\Temp\\ipykernel_2604\\3929323490.py:58: FutureWarning: Setting an item of incompatible dtype is deprecated and will raise in a future error of pandas. Value 'ok' has dtype incompatible with float64, please explicitly cast to a compatible dtype first.\n",
      "  df_temp.loc[0, 'status'] = 'ok'\n",
      "C:\\Users\\YangTeng\\AppData\\Local\\Temp\\ipykernel_2604\\3929323490.py:59: FutureWarning: Setting an item of incompatible dtype is deprecated and will raise in a future error of pandas. Value 'https://ecatalog.smpcorp.com/V2/STD/api/part/partsearch?filterType=n&searchType=p&imageSize=80&limit=1&sort=3&catFilter=-All-&yearFilter=-All-&makeFilter=-All-&modelFilter=-All-&engineFilter=-All-&attrCodeFilter=-All-&attrValueFilter=-All-&plkEngineMakeFilter=-All-&plkEngineModelFilter=-All-&plkEngineDispFilter=-All-&filter=Accelerator%20Pedal%20Sensor%20(APS)&start=405' has dtype incompatible with float64, please explicitly cast to a compatible dtype first.\n",
      "  df_temp.loc[0, 'Url'] = url\n",
      "C:\\Users\\YangTeng\\AppData\\Local\\Temp\\ipykernel_2604\\3929323490.py:58: FutureWarning: Setting an item of incompatible dtype is deprecated and will raise in a future error of pandas. Value 'ok' has dtype incompatible with float64, please explicitly cast to a compatible dtype first.\n",
      "  df_temp.loc[0, 'status'] = 'ok'\n",
      "C:\\Users\\YangTeng\\AppData\\Local\\Temp\\ipykernel_2604\\3929323490.py:59: FutureWarning: Setting an item of incompatible dtype is deprecated and will raise in a future error of pandas. Value 'https://ecatalog.smpcorp.com/V2/STD/api/part/partsearch?filterType=n&searchType=p&imageSize=80&limit=1&sort=3&catFilter=-All-&yearFilter=-All-&makeFilter=-All-&modelFilter=-All-&engineFilter=-All-&attrCodeFilter=-All-&attrValueFilter=-All-&plkEngineMakeFilter=-All-&plkEngineModelFilter=-All-&plkEngineDispFilter=-All-&filter=Accelerator%20Pedal%20Sensor%20(APS)&start=399' has dtype incompatible with float64, please explicitly cast to a compatible dtype first.\n",
      "  df_temp.loc[0, 'Url'] = url\n",
      "C:\\Users\\YangTeng\\AppData\\Local\\Temp\\ipykernel_2604\\3929323490.py:58: FutureWarning: Setting an item of incompatible dtype is deprecated and will raise in a future error of pandas. Value 'ok' has dtype incompatible with float64, please explicitly cast to a compatible dtype first.\n",
      "  df_temp.loc[0, 'status'] = 'ok'\n",
      "C:\\Users\\YangTeng\\AppData\\Local\\Temp\\ipykernel_2604\\3929323490.py:59: FutureWarning: Setting an item of incompatible dtype is deprecated and will raise in a future error of pandas. Value 'https://ecatalog.smpcorp.com/V2/STD/api/part/partsearch?filterType=n&searchType=p&imageSize=80&limit=1&sort=3&catFilter=-All-&yearFilter=-All-&makeFilter=-All-&modelFilter=-All-&engineFilter=-All-&attrCodeFilter=-All-&attrValueFilter=-All-&plkEngineMakeFilter=-All-&plkEngineModelFilter=-All-&plkEngineDispFilter=-All-&filter=Accelerator%20Pedal%20Sensor%20(APS)&start=404' has dtype incompatible with float64, please explicitly cast to a compatible dtype first.\n",
      "  df_temp.loc[0, 'Url'] = url\n",
      "C:\\Users\\YangTeng\\AppData\\Local\\Temp\\ipykernel_2604\\3929323490.py:58: FutureWarning: Setting an item of incompatible dtype is deprecated and will raise in a future error of pandas. Value 'ok' has dtype incompatible with float64, please explicitly cast to a compatible dtype first.\n",
      "  df_temp.loc[0, 'status'] = 'ok'\n",
      "C:\\Users\\YangTeng\\AppData\\Local\\Temp\\ipykernel_2604\\3929323490.py:59: FutureWarning: Setting an item of incompatible dtype is deprecated and will raise in a future error of pandas. Value 'https://ecatalog.smpcorp.com/V2/STD/api/part/partsearch?filterType=n&searchType=p&imageSize=80&limit=1&sort=3&catFilter=-All-&yearFilter=-All-&makeFilter=-All-&modelFilter=-All-&engineFilter=-All-&attrCodeFilter=-All-&attrValueFilter=-All-&plkEngineMakeFilter=-All-&plkEngineModelFilter=-All-&plkEngineDispFilter=-All-&filter=Accelerator%20Pedal%20Sensor%20(APS)&start=391' has dtype incompatible with float64, please explicitly cast to a compatible dtype first.\n",
      "  df_temp.loc[0, 'Url'] = url\n"
     ]
    },
    {
     "name": "stdout",
     "output_type": "stream",
     "text": [
      "https://ecatalog.smpcorp.com/V2/STD/api/part/partsearch?filterType=n&searchType=p&imageSize=80&limit=1&sort=3&catFilter=-All-&yearFilter=-All-&makeFilter=-All-&modelFilter=-All-&engineFilter=-All-&attrCodeFilter=-All-&attrValueFilter=-All-&plkEngineMakeFilter=-All-&plkEngineModelFilter=-All-&plkEngineDispFilter=-All-&filter=Accelerator%20Pedal%20Sensor%20(APS)&start=400  <->  [ok] - 剩余数量：60\n",
      "https://ecatalog.smpcorp.com/V2/STD/api/part/partsearch?filterType=n&searchType=p&imageSize=80&limit=1&sort=3&catFilter=-All-&yearFilter=-All-&makeFilter=-All-&modelFilter=-All-&engineFilter=-All-&attrCodeFilter=-All-&attrValueFilter=-All-&plkEngineMakeFilter=-All-&plkEngineModelFilter=-All-&plkEngineDispFilter=-All-&filter=Accelerator%20Pedal%20Sensor%20(APS)&start=395  <->  [ok] - 剩余数量：59\n",
      "https://ecatalog.smpcorp.com/V2/STD/api/part/partsearch?filterType=n&searchType=p&imageSize=80&limit=1&sort=3&catFilter=-All-&yearFilter=-All-&makeFilter=-All-&modelFilter=-All-&engineFilter=-All-&attrCodeFilter=-All-&attrValueFilter=-All-&plkEngineMakeFilter=-All-&plkEngineModelFilter=-All-&plkEngineDispFilter=-All-&filter=Accelerator%20Pedal%20Sensor%20(APS)&start=405  <->  [ok] - 剩余数量：58\n",
      "https://ecatalog.smpcorp.com/V2/STD/api/part/partsearch?filterType=n&searchType=p&imageSize=80&limit=1&sort=3&catFilter=-All-&yearFilter=-All-&makeFilter=-All-&modelFilter=-All-&engineFilter=-All-&attrCodeFilter=-All-&attrValueFilter=-All-&plkEngineMakeFilter=-All-&plkEngineModelFilter=-All-&plkEngineDispFilter=-All-&filter=Accelerator%20Pedal%20Sensor%20(APS)&start=399  <->  [ok] - 剩余数量：57\n",
      "https://ecatalog.smpcorp.com/V2/STD/api/part/partsearch?filterType=n&searchType=p&imageSize=80&limit=1&sort=3&catFilter=-All-&yearFilter=-All-&makeFilter=-All-&modelFilter=-All-&engineFilter=-All-&attrCodeFilter=-All-&attrValueFilter=-All-&plkEngineMakeFilter=-All-&plkEngineModelFilter=-All-&plkEngineDispFilter=-All-&filter=Accelerator%20Pedal%20Sensor%20(APS)&start=404  <->  [ok] - 剩余数量：56\n",
      "https://ecatalog.smpcorp.com/V2/STD/api/part/partsearch?filterType=n&searchType=p&imageSize=80&limit=1&sort=3&catFilter=-All-&yearFilter=-All-&makeFilter=-All-&modelFilter=-All-&engineFilter=-All-&attrCodeFilter=-All-&attrValueFilter=-All-&plkEngineMakeFilter=-All-&plkEngineModelFilter=-All-&plkEngineDispFilter=-All-&filter=Accelerator%20Pedal%20Sensor%20(APS)&start=391  <->  [ok] - 剩余数量：55\n"
     ]
    },
    {
     "name": "stderr",
     "output_type": "stream",
     "text": [
      "C:\\Users\\YangTeng\\AppData\\Local\\Temp\\ipykernel_2604\\3929323490.py:58: FutureWarning: Setting an item of incompatible dtype is deprecated and will raise in a future error of pandas. Value 'ok' has dtype incompatible with float64, please explicitly cast to a compatible dtype first.\n",
      "  df_temp.loc[0, 'status'] = 'ok'\n",
      "C:\\Users\\YangTeng\\AppData\\Local\\Temp\\ipykernel_2604\\3929323490.py:59: FutureWarning: Setting an item of incompatible dtype is deprecated and will raise in a future error of pandas. Value 'https://ecatalog.smpcorp.com/V2/STD/api/part/partsearch?filterType=n&searchType=p&imageSize=80&limit=1&sort=3&catFilter=-All-&yearFilter=-All-&makeFilter=-All-&modelFilter=-All-&engineFilter=-All-&attrCodeFilter=-All-&attrValueFilter=-All-&plkEngineMakeFilter=-All-&plkEngineModelFilter=-All-&plkEngineDispFilter=-All-&filter=Accelerator%20Pedal%20Sensor%20(APS)&start=402' has dtype incompatible with float64, please explicitly cast to a compatible dtype first.\n",
      "  df_temp.loc[0, 'Url'] = url\n",
      "C:\\Users\\YangTeng\\AppData\\Local\\Temp\\ipykernel_2604\\3929323490.py:58: FutureWarning: Setting an item of incompatible dtype is deprecated and will raise in a future error of pandas. Value 'ok' has dtype incompatible with float64, please explicitly cast to a compatible dtype first.\n",
      "  df_temp.loc[0, 'status'] = 'ok'\n",
      "C:\\Users\\YangTeng\\AppData\\Local\\Temp\\ipykernel_2604\\3929323490.py:59: FutureWarning: Setting an item of incompatible dtype is deprecated and will raise in a future error of pandas. Value 'https://ecatalog.smpcorp.com/V2/STD/api/part/partsearch?filterType=n&searchType=p&imageSize=80&limit=1&sort=3&catFilter=-All-&yearFilter=-All-&makeFilter=-All-&modelFilter=-All-&engineFilter=-All-&attrCodeFilter=-All-&attrValueFilter=-All-&plkEngineMakeFilter=-All-&plkEngineModelFilter=-All-&plkEngineDispFilter=-All-&filter=Accelerator%20Pedal%20Sensor%20(APS)&start=403' has dtype incompatible with float64, please explicitly cast to a compatible dtype first.\n",
      "  df_temp.loc[0, 'Url'] = url\n",
      "C:\\Users\\YangTeng\\AppData\\Local\\Temp\\ipykernel_2604\\3929323490.py:58: FutureWarning: Setting an item of incompatible dtype is deprecated and will raise in a future error of pandas. Value 'ok' has dtype incompatible with float64, please explicitly cast to a compatible dtype first.\n",
      "  df_temp.loc[0, 'status'] = 'ok'\n",
      "C:\\Users\\YangTeng\\AppData\\Local\\Temp\\ipykernel_2604\\3929323490.py:59: FutureWarning: Setting an item of incompatible dtype is deprecated and will raise in a future error of pandas. Value 'https://ecatalog.smpcorp.com/V2/STD/api/part/partsearch?filterType=n&searchType=p&imageSize=80&limit=1&sort=3&catFilter=-All-&yearFilter=-All-&makeFilter=-All-&modelFilter=-All-&engineFilter=-All-&attrCodeFilter=-All-&attrValueFilter=-All-&plkEngineMakeFilter=-All-&plkEngineModelFilter=-All-&plkEngineDispFilter=-All-&filter=Accelerator%20Pedal%20Sensor%20(APS)&start=401' has dtype incompatible with float64, please explicitly cast to a compatible dtype first.\n",
      "  df_temp.loc[0, 'Url'] = url\n",
      "C:\\Users\\YangTeng\\AppData\\Local\\Temp\\ipykernel_2604\\3929323490.py:58: FutureWarning: Setting an item of incompatible dtype is deprecated and will raise in a future error of pandas. Value 'ok' has dtype incompatible with float64, please explicitly cast to a compatible dtype first.\n",
      "  df_temp.loc[0, 'status'] = 'ok'\n",
      "C:\\Users\\YangTeng\\AppData\\Local\\Temp\\ipykernel_2604\\3929323490.py:59: FutureWarning: Setting an item of incompatible dtype is deprecated and will raise in a future error of pandas. Value 'https://ecatalog.smpcorp.com/V2/STD/api/part/partsearch?filterType=n&searchType=p&imageSize=80&limit=1&sort=3&catFilter=-All-&yearFilter=-All-&makeFilter=-All-&modelFilter=-All-&engineFilter=-All-&attrCodeFilter=-All-&attrValueFilter=-All-&plkEngineMakeFilter=-All-&plkEngineModelFilter=-All-&plkEngineDispFilter=-All-&filter=Accelerator%20Pedal%20Sensor%20(APS)&start=394' has dtype incompatible with float64, please explicitly cast to a compatible dtype first.\n",
      "  df_temp.loc[0, 'Url'] = url\n",
      "C:\\Users\\YangTeng\\AppData\\Local\\Temp\\ipykernel_2604\\3929323490.py:58: FutureWarning: Setting an item of incompatible dtype is deprecated and will raise in a future error of pandas. Value 'ok' has dtype incompatible with float64, please explicitly cast to a compatible dtype first.\n",
      "  df_temp.loc[0, 'status'] = 'ok'\n",
      "C:\\Users\\YangTeng\\AppData\\Local\\Temp\\ipykernel_2604\\3929323490.py:59: FutureWarning: Setting an item of incompatible dtype is deprecated and will raise in a future error of pandas. Value 'https://ecatalog.smpcorp.com/V2/STD/api/part/partsearch?filterType=n&searchType=p&imageSize=80&limit=1&sort=3&catFilter=-All-&yearFilter=-All-&makeFilter=-All-&modelFilter=-All-&engineFilter=-All-&attrCodeFilter=-All-&attrValueFilter=-All-&plkEngineMakeFilter=-All-&plkEngineModelFilter=-All-&plkEngineDispFilter=-All-&filter=Accelerator%20Pedal%20Sensor%20(APS)&start=398' has dtype incompatible with float64, please explicitly cast to a compatible dtype first.\n",
      "  df_temp.loc[0, 'Url'] = url\n",
      "C:\\Users\\YangTeng\\AppData\\Local\\Temp\\ipykernel_2604\\3929323490.py:58: FutureWarning: Setting an item of incompatible dtype is deprecated and will raise in a future error of pandas. Value 'ok' has dtype incompatible with float64, please explicitly cast to a compatible dtype first.\n",
      "  df_temp.loc[0, 'status'] = 'ok'\n",
      "C:\\Users\\YangTeng\\AppData\\Local\\Temp\\ipykernel_2604\\3929323490.py:59: FutureWarning: Setting an item of incompatible dtype is deprecated and will raise in a future error of pandas. Value 'https://ecatalog.smpcorp.com/V2/STD/api/part/partsearch?filterType=n&searchType=p&imageSize=80&limit=1&sort=3&catFilter=-All-&yearFilter=-All-&makeFilter=-All-&modelFilter=-All-&engineFilter=-All-&attrCodeFilter=-All-&attrValueFilter=-All-&plkEngineMakeFilter=-All-&plkEngineModelFilter=-All-&plkEngineDispFilter=-All-&filter=Accelerator%20Pedal%20Sensor%20(APS)&start=379' has dtype incompatible with float64, please explicitly cast to a compatible dtype first.\n",
      "  df_temp.loc[0, 'Url'] = url\n",
      "C:\\Users\\YangTeng\\AppData\\Local\\Temp\\ipykernel_2604\\3929323490.py:58: FutureWarning: Setting an item of incompatible dtype is deprecated and will raise in a future error of pandas. Value 'ok' has dtype incompatible with float64, please explicitly cast to a compatible dtype first.\n",
      "  df_temp.loc[0, 'status'] = 'ok'\n",
      "C:\\Users\\YangTeng\\AppData\\Local\\Temp\\ipykernel_2604\\3929323490.py:59: FutureWarning: Setting an item of incompatible dtype is deprecated and will raise in a future error of pandas. Value 'https://ecatalog.smpcorp.com/V2/STD/api/part/partsearch?filterType=n&searchType=p&imageSize=80&limit=1&sort=3&catFilter=-All-&yearFilter=-All-&makeFilter=-All-&modelFilter=-All-&engineFilter=-All-&attrCodeFilter=-All-&attrValueFilter=-All-&plkEngineMakeFilter=-All-&plkEngineModelFilter=-All-&plkEngineDispFilter=-All-&filter=Accelerator%20Pedal%20Sensor%20(APS)&start=389' has dtype incompatible with float64, please explicitly cast to a compatible dtype first.\n",
      "  df_temp.loc[0, 'Url'] = url\n"
     ]
    },
    {
     "name": "stdout",
     "output_type": "stream",
     "text": [
      "https://ecatalog.smpcorp.com/V2/STD/api/part/partsearch?filterType=n&searchType=p&imageSize=80&limit=1&sort=3&catFilter=-All-&yearFilter=-All-&makeFilter=-All-&modelFilter=-All-&engineFilter=-All-&attrCodeFilter=-All-&attrValueFilter=-All-&plkEngineMakeFilter=-All-&plkEngineModelFilter=-All-&plkEngineDispFilter=-All-&filter=Accelerator%20Pedal%20Sensor%20(APS)&start=402  <->  [ok] - 剩余数量：54\n",
      "https://ecatalog.smpcorp.com/V2/STD/api/part/partsearch?filterType=n&searchType=p&imageSize=80&limit=1&sort=3&catFilter=-All-&yearFilter=-All-&makeFilter=-All-&modelFilter=-All-&engineFilter=-All-&attrCodeFilter=-All-&attrValueFilter=-All-&plkEngineMakeFilter=-All-&plkEngineModelFilter=-All-&plkEngineDispFilter=-All-&filter=Accelerator%20Pedal%20Sensor%20(APS)&start=403  <->  [ok] - 剩余数量：53\n",
      "https://ecatalog.smpcorp.com/V2/STD/api/part/partsearch?filterType=n&searchType=p&imageSize=80&limit=1&sort=3&catFilter=-All-&yearFilter=-All-&makeFilter=-All-&modelFilter=-All-&engineFilter=-All-&attrCodeFilter=-All-&attrValueFilter=-All-&plkEngineMakeFilter=-All-&plkEngineModelFilter=-All-&plkEngineDispFilter=-All-&filter=Accelerator%20Pedal%20Sensor%20(APS)&start=401  <->  [ok] - 剩余数量：52\n",
      "https://ecatalog.smpcorp.com/V2/STD/api/part/partsearch?filterType=n&searchType=p&imageSize=80&limit=1&sort=3&catFilter=-All-&yearFilter=-All-&makeFilter=-All-&modelFilter=-All-&engineFilter=-All-&attrCodeFilter=-All-&attrValueFilter=-All-&plkEngineMakeFilter=-All-&plkEngineModelFilter=-All-&plkEngineDispFilter=-All-&filter=Accelerator%20Pedal%20Sensor%20(APS)&start=394  <->  [ok] - 剩余数量：51\n",
      "https://ecatalog.smpcorp.com/V2/STD/api/part/partsearch?filterType=n&searchType=p&imageSize=80&limit=1&sort=3&catFilter=-All-&yearFilter=-All-&makeFilter=-All-&modelFilter=-All-&engineFilter=-All-&attrCodeFilter=-All-&attrValueFilter=-All-&plkEngineMakeFilter=-All-&plkEngineModelFilter=-All-&plkEngineDispFilter=-All-&filter=Accelerator%20Pedal%20Sensor%20(APS)&start=398  <->  [ok] - 剩余数量：50\n",
      "https://ecatalog.smpcorp.com/V2/STD/api/part/partsearch?filterType=n&searchType=p&imageSize=80&limit=1&sort=3&catFilter=-All-&yearFilter=-All-&makeFilter=-All-&modelFilter=-All-&engineFilter=-All-&attrCodeFilter=-All-&attrValueFilter=-All-&plkEngineMakeFilter=-All-&plkEngineModelFilter=-All-&plkEngineDispFilter=-All-&filter=Accelerator%20Pedal%20Sensor%20(APS)&start=379  <->  [ok] - 剩余数量：49\n",
      "https://ecatalog.smpcorp.com/V2/STD/api/part/partsearch?filterType=n&searchType=p&imageSize=80&limit=1&sort=3&catFilter=-All-&yearFilter=-All-&makeFilter=-All-&modelFilter=-All-&engineFilter=-All-&attrCodeFilter=-All-&attrValueFilter=-All-&plkEngineMakeFilter=-All-&plkEngineModelFilter=-All-&plkEngineDispFilter=-All-&filter=Accelerator%20Pedal%20Sensor%20(APS)&start=389  <->  [ok] - 剩余数量：48\n"
     ]
    },
    {
     "name": "stderr",
     "output_type": "stream",
     "text": [
      "C:\\Users\\YangTeng\\AppData\\Local\\Temp\\ipykernel_2604\\3929323490.py:58: FutureWarning: Setting an item of incompatible dtype is deprecated and will raise in a future error of pandas. Value 'ok' has dtype incompatible with float64, please explicitly cast to a compatible dtype first.\n",
      "  df_temp.loc[0, 'status'] = 'ok'\n",
      "C:\\Users\\YangTeng\\AppData\\Local\\Temp\\ipykernel_2604\\3929323490.py:59: FutureWarning: Setting an item of incompatible dtype is deprecated and will raise in a future error of pandas. Value 'https://ecatalog.smpcorp.com/V2/STD/api/part/partsearch?filterType=n&searchType=p&imageSize=80&limit=1&sort=3&catFilter=-All-&yearFilter=-All-&makeFilter=-All-&modelFilter=-All-&engineFilter=-All-&attrCodeFilter=-All-&attrValueFilter=-All-&plkEngineMakeFilter=-All-&plkEngineModelFilter=-All-&plkEngineDispFilter=-All-&filter=Accelerator%20Pedal%20Sensor%20(APS)&start=407' has dtype incompatible with float64, please explicitly cast to a compatible dtype first.\n",
      "  df_temp.loc[0, 'Url'] = url\n"
     ]
    },
    {
     "name": "stdout",
     "output_type": "stream",
     "text": [
      "https://ecatalog.smpcorp.com/V2/STD/api/part/partsearch?filterType=n&searchType=p&imageSize=80&limit=1&sort=3&catFilter=-All-&yearFilter=-All-&makeFilter=-All-&modelFilter=-All-&engineFilter=-All-&attrCodeFilter=-All-&attrValueFilter=-All-&plkEngineMakeFilter=-All-&plkEngineModelFilter=-All-&plkEngineDispFilter=-All-&filter=Accelerator%20Pedal%20Sensor%20(APS)&start=407  <->  [ok] - 剩余数量：47\n"
     ]
    },
    {
     "name": "stderr",
     "output_type": "stream",
     "text": [
      "C:\\Users\\YangTeng\\AppData\\Local\\Temp\\ipykernel_2604\\3929323490.py:58: FutureWarning: Setting an item of incompatible dtype is deprecated and will raise in a future error of pandas. Value 'ok' has dtype incompatible with float64, please explicitly cast to a compatible dtype first.\n",
      "  df_temp.loc[0, 'status'] = 'ok'\n",
      "C:\\Users\\YangTeng\\AppData\\Local\\Temp\\ipykernel_2604\\3929323490.py:59: FutureWarning: Setting an item of incompatible dtype is deprecated and will raise in a future error of pandas. Value 'https://ecatalog.smpcorp.com/V2/STD/api/part/partsearch?filterType=n&searchType=p&imageSize=80&limit=1&sort=3&catFilter=-All-&yearFilter=-All-&makeFilter=-All-&modelFilter=-All-&engineFilter=-All-&attrCodeFilter=-All-&attrValueFilter=-All-&plkEngineMakeFilter=-All-&plkEngineModelFilter=-All-&plkEngineDispFilter=-All-&filter=Accelerator%20Pedal%20Sensor%20(APS)&start=412' has dtype incompatible with float64, please explicitly cast to a compatible dtype first.\n",
      "  df_temp.loc[0, 'Url'] = url\n"
     ]
    },
    {
     "name": "stdout",
     "output_type": "stream",
     "text": [
      "https://ecatalog.smpcorp.com/V2/STD/api/part/partsearch?filterType=n&searchType=p&imageSize=80&limit=1&sort=3&catFilter=-All-&yearFilter=-All-&makeFilter=-All-&modelFilter=-All-&engineFilter=-All-&attrCodeFilter=-All-&attrValueFilter=-All-&plkEngineMakeFilter=-All-&plkEngineModelFilter=-All-&plkEngineDispFilter=-All-&filter=Accelerator%20Pedal%20Sensor%20(APS)&start=412  <->  [ok] - 剩余数量：46\n"
     ]
    },
    {
     "name": "stderr",
     "output_type": "stream",
     "text": [
      "C:\\Users\\YangTeng\\AppData\\Local\\Temp\\ipykernel_2604\\3929323490.py:58: FutureWarning: Setting an item of incompatible dtype is deprecated and will raise in a future error of pandas. Value 'ok' has dtype incompatible with float64, please explicitly cast to a compatible dtype first.\n",
      "  df_temp.loc[0, 'status'] = 'ok'\n",
      "C:\\Users\\YangTeng\\AppData\\Local\\Temp\\ipykernel_2604\\3929323490.py:59: FutureWarning: Setting an item of incompatible dtype is deprecated and will raise in a future error of pandas. Value 'https://ecatalog.smpcorp.com/V2/STD/api/part/partsearch?filterType=n&searchType=p&imageSize=80&limit=1&sort=3&catFilter=-All-&yearFilter=-All-&makeFilter=-All-&modelFilter=-All-&engineFilter=-All-&attrCodeFilter=-All-&attrValueFilter=-All-&plkEngineMakeFilter=-All-&plkEngineModelFilter=-All-&plkEngineDispFilter=-All-&filter=Accelerator%20Pedal%20Sensor%20(APS)&start=410' has dtype incompatible with float64, please explicitly cast to a compatible dtype first.\n",
      "  df_temp.loc[0, 'Url'] = url\n",
      "C:\\Users\\YangTeng\\AppData\\Local\\Temp\\ipykernel_2604\\3929323490.py:58: FutureWarning: Setting an item of incompatible dtype is deprecated and will raise in a future error of pandas. Value 'ok' has dtype incompatible with float64, please explicitly cast to a compatible dtype first.\n",
      "  df_temp.loc[0, 'status'] = 'ok'\n",
      "C:\\Users\\YangTeng\\AppData\\Local\\Temp\\ipykernel_2604\\3929323490.py:59: FutureWarning: Setting an item of incompatible dtype is deprecated and will raise in a future error of pandas. Value 'https://ecatalog.smpcorp.com/V2/STD/api/part/partsearch?filterType=n&searchType=p&imageSize=80&limit=1&sort=3&catFilter=-All-&yearFilter=-All-&makeFilter=-All-&modelFilter=-All-&engineFilter=-All-&attrCodeFilter=-All-&attrValueFilter=-All-&plkEngineMakeFilter=-All-&plkEngineModelFilter=-All-&plkEngineDispFilter=-All-&filter=Accelerator%20Pedal%20Sensor%20(APS)&start=409' has dtype incompatible with float64, please explicitly cast to a compatible dtype first.\n",
      "  df_temp.loc[0, 'Url'] = url\n"
     ]
    },
    {
     "name": "stdout",
     "output_type": "stream",
     "text": [
      "https://ecatalog.smpcorp.com/V2/STD/api/part/partsearch?filterType=n&searchType=p&imageSize=80&limit=1&sort=3&catFilter=-All-&yearFilter=-All-&makeFilter=-All-&modelFilter=-All-&engineFilter=-All-&attrCodeFilter=-All-&attrValueFilter=-All-&plkEngineMakeFilter=-All-&plkEngineModelFilter=-All-&plkEngineDispFilter=-All-&filter=Accelerator%20Pedal%20Sensor%20(APS)&start=410  <->  [ok] - 剩余数量：45\n",
      "https://ecatalog.smpcorp.com/V2/STD/api/part/partsearch?filterType=n&searchType=p&imageSize=80&limit=1&sort=3&catFilter=-All-&yearFilter=-All-&makeFilter=-All-&modelFilter=-All-&engineFilter=-All-&attrCodeFilter=-All-&attrValueFilter=-All-&plkEngineMakeFilter=-All-&plkEngineModelFilter=-All-&plkEngineDispFilter=-All-&filter=Accelerator%20Pedal%20Sensor%20(APS)&start=409  <->  [ok] - 剩余数量：44\n"
     ]
    },
    {
     "name": "stderr",
     "output_type": "stream",
     "text": [
      "C:\\Users\\YangTeng\\AppData\\Local\\Temp\\ipykernel_2604\\3929323490.py:58: FutureWarning: Setting an item of incompatible dtype is deprecated and will raise in a future error of pandas. Value 'ok' has dtype incompatible with float64, please explicitly cast to a compatible dtype first.\n",
      "  df_temp.loc[0, 'status'] = 'ok'\n",
      "C:\\Users\\YangTeng\\AppData\\Local\\Temp\\ipykernel_2604\\3929323490.py:59: FutureWarning: Setting an item of incompatible dtype is deprecated and will raise in a future error of pandas. Value 'https://ecatalog.smpcorp.com/V2/STD/api/part/partsearch?filterType=n&searchType=p&imageSize=80&limit=1&sort=3&catFilter=-All-&yearFilter=-All-&makeFilter=-All-&modelFilter=-All-&engineFilter=-All-&attrCodeFilter=-All-&attrValueFilter=-All-&plkEngineMakeFilter=-All-&plkEngineModelFilter=-All-&plkEngineDispFilter=-All-&filter=Accelerator%20Pedal%20Sensor%20(APS)&start=406' has dtype incompatible with float64, please explicitly cast to a compatible dtype first.\n",
      "  df_temp.loc[0, 'Url'] = url\n",
      "C:\\Users\\YangTeng\\AppData\\Local\\Temp\\ipykernel_2604\\3929323490.py:58: FutureWarning: Setting an item of incompatible dtype is deprecated and will raise in a future error of pandas. Value 'ok' has dtype incompatible with float64, please explicitly cast to a compatible dtype first.\n",
      "  df_temp.loc[0, 'status'] = 'ok'\n",
      "C:\\Users\\YangTeng\\AppData\\Local\\Temp\\ipykernel_2604\\3929323490.py:59: FutureWarning: Setting an item of incompatible dtype is deprecated and will raise in a future error of pandas. Value 'https://ecatalog.smpcorp.com/V2/STD/api/part/partsearch?filterType=n&searchType=p&imageSize=80&limit=1&sort=3&catFilter=-All-&yearFilter=-All-&makeFilter=-All-&modelFilter=-All-&engineFilter=-All-&attrCodeFilter=-All-&attrValueFilter=-All-&plkEngineMakeFilter=-All-&plkEngineModelFilter=-All-&plkEngineDispFilter=-All-&filter=Accelerator%20Pedal%20Sensor%20(APS)&start=396' has dtype incompatible with float64, please explicitly cast to a compatible dtype first.\n",
      "  df_temp.loc[0, 'Url'] = url\n",
      "C:\\Users\\YangTeng\\AppData\\Local\\Temp\\ipykernel_2604\\3929323490.py:58: FutureWarning: Setting an item of incompatible dtype is deprecated and will raise in a future error of pandas. Value 'ok' has dtype incompatible with float64, please explicitly cast to a compatible dtype first.\n",
      "  df_temp.loc[0, 'status'] = 'ok'\n",
      "C:\\Users\\YangTeng\\AppData\\Local\\Temp\\ipykernel_2604\\3929323490.py:59: FutureWarning: Setting an item of incompatible dtype is deprecated and will raise in a future error of pandas. Value 'https://ecatalog.smpcorp.com/V2/STD/api/part/partsearch?filterType=n&searchType=p&imageSize=80&limit=1&sort=3&catFilter=-All-&yearFilter=-All-&makeFilter=-All-&modelFilter=-All-&engineFilter=-All-&attrCodeFilter=-All-&attrValueFilter=-All-&plkEngineMakeFilter=-All-&plkEngineModelFilter=-All-&plkEngineDispFilter=-All-&filter=Accelerator%20Pedal%20Sensor%20(APS)&start=393' has dtype incompatible with float64, please explicitly cast to a compatible dtype first.\n",
      "  df_temp.loc[0, 'Url'] = url\n",
      "C:\\Users\\YangTeng\\AppData\\Local\\Temp\\ipykernel_2604\\3929323490.py:58: FutureWarning: Setting an item of incompatible dtype is deprecated and will raise in a future error of pandas. Value 'ok' has dtype incompatible with float64, please explicitly cast to a compatible dtype first.\n",
      "  df_temp.loc[0, 'status'] = 'ok'\n",
      "C:\\Users\\YangTeng\\AppData\\Local\\Temp\\ipykernel_2604\\3929323490.py:59: FutureWarning: Setting an item of incompatible dtype is deprecated and will raise in a future error of pandas. Value 'https://ecatalog.smpcorp.com/V2/STD/api/part/partsearch?filterType=n&searchType=p&imageSize=80&limit=1&sort=3&catFilter=-All-&yearFilter=-All-&makeFilter=-All-&modelFilter=-All-&engineFilter=-All-&attrCodeFilter=-All-&attrValueFilter=-All-&plkEngineMakeFilter=-All-&plkEngineModelFilter=-All-&plkEngineDispFilter=-All-&filter=Accelerator%20Pedal%20Sensor%20(APS)&start=385' has dtype incompatible with float64, please explicitly cast to a compatible dtype first.\n",
      "  df_temp.loc[0, 'Url'] = url\n",
      "C:\\Users\\YangTeng\\AppData\\Local\\Temp\\ipykernel_2604\\3929323490.py:58: FutureWarning: Setting an item of incompatible dtype is deprecated and will raise in a future error of pandas. Value 'ok' has dtype incompatible with float64, please explicitly cast to a compatible dtype first.\n",
      "  df_temp.loc[0, 'status'] = 'ok'\n",
      "C:\\Users\\YangTeng\\AppData\\Local\\Temp\\ipykernel_2604\\3929323490.py:59: FutureWarning: Setting an item of incompatible dtype is deprecated and will raise in a future error of pandas. Value 'https://ecatalog.smpcorp.com/V2/STD/api/part/partsearch?filterType=n&searchType=p&imageSize=80&limit=1&sort=3&catFilter=-All-&yearFilter=-All-&makeFilter=-All-&modelFilter=-All-&engineFilter=-All-&attrCodeFilter=-All-&attrValueFilter=-All-&plkEngineMakeFilter=-All-&plkEngineModelFilter=-All-&plkEngineDispFilter=-All-&filter=Accelerator%20Pedal%20Sensor%20(APS)&start=408' has dtype incompatible with float64, please explicitly cast to a compatible dtype first.\n",
      "  df_temp.loc[0, 'Url'] = url\n"
     ]
    },
    {
     "name": "stdout",
     "output_type": "stream",
     "text": [
      "https://ecatalog.smpcorp.com/V2/STD/api/part/partsearch?filterType=n&searchType=p&imageSize=80&limit=1&sort=3&catFilter=-All-&yearFilter=-All-&makeFilter=-All-&modelFilter=-All-&engineFilter=-All-&attrCodeFilter=-All-&attrValueFilter=-All-&plkEngineMakeFilter=-All-&plkEngineModelFilter=-All-&plkEngineDispFilter=-All-&filter=Accelerator%20Pedal%20Sensor%20(APS)&start=406  <->  [ok] - 剩余数量：43\n",
      "https://ecatalog.smpcorp.com/V2/STD/api/part/partsearch?filterType=n&searchType=p&imageSize=80&limit=1&sort=3&catFilter=-All-&yearFilter=-All-&makeFilter=-All-&modelFilter=-All-&engineFilter=-All-&attrCodeFilter=-All-&attrValueFilter=-All-&plkEngineMakeFilter=-All-&plkEngineModelFilter=-All-&plkEngineDispFilter=-All-&filter=Accelerator%20Pedal%20Sensor%20(APS)&start=396  <->  [ok] - 剩余数量：42\n",
      "https://ecatalog.smpcorp.com/V2/STD/api/part/partsearch?filterType=n&searchType=p&imageSize=80&limit=1&sort=3&catFilter=-All-&yearFilter=-All-&makeFilter=-All-&modelFilter=-All-&engineFilter=-All-&attrCodeFilter=-All-&attrValueFilter=-All-&plkEngineMakeFilter=-All-&plkEngineModelFilter=-All-&plkEngineDispFilter=-All-&filter=Accelerator%20Pedal%20Sensor%20(APS)&start=393  <->  [ok] - 剩余数量：41\n",
      "https://ecatalog.smpcorp.com/V2/STD/api/part/partsearch?filterType=n&searchType=p&imageSize=80&limit=1&sort=3&catFilter=-All-&yearFilter=-All-&makeFilter=-All-&modelFilter=-All-&engineFilter=-All-&attrCodeFilter=-All-&attrValueFilter=-All-&plkEngineMakeFilter=-All-&plkEngineModelFilter=-All-&plkEngineDispFilter=-All-&filter=Accelerator%20Pedal%20Sensor%20(APS)&start=385  <->  [ok] - 剩余数量：40\n",
      "https://ecatalog.smpcorp.com/V2/STD/api/part/partsearch?filterType=n&searchType=p&imageSize=80&limit=1&sort=3&catFilter=-All-&yearFilter=-All-&makeFilter=-All-&modelFilter=-All-&engineFilter=-All-&attrCodeFilter=-All-&attrValueFilter=-All-&plkEngineMakeFilter=-All-&plkEngineModelFilter=-All-&plkEngineDispFilter=-All-&filter=Accelerator%20Pedal%20Sensor%20(APS)&start=408  <->  [ok] - 剩余数量：39\n",
      "https://ecatalog.smpcorp.com/V2/STD/api/part/partsearch?filterType=n&searchType=p&imageSize=80&limit=1&sort=3&catFilter=-All-&yearFilter=-All-&makeFilter=-All-&modelFilter=-All-&engineFilter=-All-&attrCodeFilter=-All-&attrValueFilter=-All-&plkEngineMakeFilter=-All-&plkEngineModelFilter=-All-&plkEngineDispFilter=-All-&filter=Accelerator%20Pedal%20Sensor%20(APS)&start=419  <->  [ok] - 剩余数量：38\n"
     ]
    },
    {
     "name": "stderr",
     "output_type": "stream",
     "text": [
      "C:\\Users\\YangTeng\\AppData\\Local\\Temp\\ipykernel_2604\\3929323490.py:58: FutureWarning: Setting an item of incompatible dtype is deprecated and will raise in a future error of pandas. Value 'ok' has dtype incompatible with float64, please explicitly cast to a compatible dtype first.\n",
      "  df_temp.loc[0, 'status'] = 'ok'\n",
      "C:\\Users\\YangTeng\\AppData\\Local\\Temp\\ipykernel_2604\\3929323490.py:59: FutureWarning: Setting an item of incompatible dtype is deprecated and will raise in a future error of pandas. Value 'https://ecatalog.smpcorp.com/V2/STD/api/part/partsearch?filterType=n&searchType=p&imageSize=80&limit=1&sort=3&catFilter=-All-&yearFilter=-All-&makeFilter=-All-&modelFilter=-All-&engineFilter=-All-&attrCodeFilter=-All-&attrValueFilter=-All-&plkEngineMakeFilter=-All-&plkEngineModelFilter=-All-&plkEngineDispFilter=-All-&filter=Accelerator%20Pedal%20Sensor%20(APS)&start=419' has dtype incompatible with float64, please explicitly cast to a compatible dtype first.\n",
      "  df_temp.loc[0, 'Url'] = url\n",
      "C:\\Users\\YangTeng\\AppData\\Local\\Temp\\ipykernel_2604\\3929323490.py:58: FutureWarning: Setting an item of incompatible dtype is deprecated and will raise in a future error of pandas. Value 'ok' has dtype incompatible with float64, please explicitly cast to a compatible dtype first.\n",
      "  df_temp.loc[0, 'status'] = 'ok'\n",
      "C:\\Users\\YangTeng\\AppData\\Local\\Temp\\ipykernel_2604\\3929323490.py:59: FutureWarning: Setting an item of incompatible dtype is deprecated and will raise in a future error of pandas. Value 'https://ecatalog.smpcorp.com/V2/STD/api/part/partsearch?filterType=n&searchType=p&imageSize=80&limit=1&sort=3&catFilter=-All-&yearFilter=-All-&makeFilter=-All-&modelFilter=-All-&engineFilter=-All-&attrCodeFilter=-All-&attrValueFilter=-All-&plkEngineMakeFilter=-All-&plkEngineModelFilter=-All-&plkEngineDispFilter=-All-&filter=Accelerator%20Pedal%20Sensor%20(APS)&start=417' has dtype incompatible with float64, please explicitly cast to a compatible dtype first.\n",
      "  df_temp.loc[0, 'Url'] = url\n"
     ]
    },
    {
     "name": "stdout",
     "output_type": "stream",
     "text": [
      "https://ecatalog.smpcorp.com/V2/STD/api/part/partsearch?filterType=n&searchType=p&imageSize=80&limit=1&sort=3&catFilter=-All-&yearFilter=-All-&makeFilter=-All-&modelFilter=-All-&engineFilter=-All-&attrCodeFilter=-All-&attrValueFilter=-All-&plkEngineMakeFilter=-All-&plkEngineModelFilter=-All-&plkEngineDispFilter=-All-&filter=Accelerator%20Pedal%20Sensor%20(APS)&start=417  <->  [ok] - 剩余数量：37\n"
     ]
    },
    {
     "name": "stderr",
     "output_type": "stream",
     "text": [
      "C:\\Users\\YangTeng\\AppData\\Local\\Temp\\ipykernel_2604\\3929323490.py:58: FutureWarning: Setting an item of incompatible dtype is deprecated and will raise in a future error of pandas. Value 'ok' has dtype incompatible with float64, please explicitly cast to a compatible dtype first.\n",
      "  df_temp.loc[0, 'status'] = 'ok'\n",
      "C:\\Users\\YangTeng\\AppData\\Local\\Temp\\ipykernel_2604\\3929323490.py:59: FutureWarning: Setting an item of incompatible dtype is deprecated and will raise in a future error of pandas. Value 'https://ecatalog.smpcorp.com/V2/STD/api/part/partsearch?filterType=n&searchType=p&imageSize=80&limit=1&sort=3&catFilter=-All-&yearFilter=-All-&makeFilter=-All-&modelFilter=-All-&engineFilter=-All-&attrCodeFilter=-All-&attrValueFilter=-All-&plkEngineMakeFilter=-All-&plkEngineModelFilter=-All-&plkEngineDispFilter=-All-&filter=Accelerator%20Pedal%20Sensor%20(APS)&start=414' has dtype incompatible with float64, please explicitly cast to a compatible dtype first.\n",
      "  df_temp.loc[0, 'Url'] = url\n",
      "C:\\Users\\YangTeng\\AppData\\Local\\Temp\\ipykernel_2604\\3929323490.py:58: FutureWarning: Setting an item of incompatible dtype is deprecated and will raise in a future error of pandas. Value 'ok' has dtype incompatible with float64, please explicitly cast to a compatible dtype first.\n",
      "  df_temp.loc[0, 'status'] = 'ok'\n",
      "C:\\Users\\YangTeng\\AppData\\Local\\Temp\\ipykernel_2604\\3929323490.py:59: FutureWarning: Setting an item of incompatible dtype is deprecated and will raise in a future error of pandas. Value 'https://ecatalog.smpcorp.com/V2/STD/api/part/partsearch?filterType=n&searchType=p&imageSize=80&limit=1&sort=3&catFilter=-All-&yearFilter=-All-&makeFilter=-All-&modelFilter=-All-&engineFilter=-All-&attrCodeFilter=-All-&attrValueFilter=-All-&plkEngineMakeFilter=-All-&plkEngineModelFilter=-All-&plkEngineDispFilter=-All-&filter=Accelerator%20Pedal%20Sensor%20(APS)&start=413' has dtype incompatible with float64, please explicitly cast to a compatible dtype first.\n",
      "  df_temp.loc[0, 'Url'] = url\n"
     ]
    },
    {
     "name": "stdout",
     "output_type": "stream",
     "text": [
      "https://ecatalog.smpcorp.com/V2/STD/api/part/partsearch?filterType=n&searchType=p&imageSize=80&limit=1&sort=3&catFilter=-All-&yearFilter=-All-&makeFilter=-All-&modelFilter=-All-&engineFilter=-All-&attrCodeFilter=-All-&attrValueFilter=-All-&plkEngineMakeFilter=-All-&plkEngineModelFilter=-All-&plkEngineDispFilter=-All-&filter=Accelerator%20Pedal%20Sensor%20(APS)&start=414  <->  [ok] - 剩余数量：36\n",
      "https://ecatalog.smpcorp.com/V2/STD/api/part/partsearch?filterType=n&searchType=p&imageSize=80&limit=1&sort=3&catFilter=-All-&yearFilter=-All-&makeFilter=-All-&modelFilter=-All-&engineFilter=-All-&attrCodeFilter=-All-&attrValueFilter=-All-&plkEngineMakeFilter=-All-&plkEngineModelFilter=-All-&plkEngineDispFilter=-All-&filter=Accelerator%20Pedal%20Sensor%20(APS)&start=413  <->  [ok] - 剩余数量：35\n"
     ]
    },
    {
     "name": "stderr",
     "output_type": "stream",
     "text": [
      "C:\\Users\\YangTeng\\AppData\\Local\\Temp\\ipykernel_2604\\3929323490.py:58: FutureWarning: Setting an item of incompatible dtype is deprecated and will raise in a future error of pandas. Value 'ok' has dtype incompatible with float64, please explicitly cast to a compatible dtype first.\n",
      "  df_temp.loc[0, 'status'] = 'ok'\n",
      "C:\\Users\\YangTeng\\AppData\\Local\\Temp\\ipykernel_2604\\3929323490.py:59: FutureWarning: Setting an item of incompatible dtype is deprecated and will raise in a future error of pandas. Value 'https://ecatalog.smpcorp.com/V2/STD/api/part/partsearch?filterType=n&searchType=p&imageSize=80&limit=1&sort=3&catFilter=-All-&yearFilter=-All-&makeFilter=-All-&modelFilter=-All-&engineFilter=-All-&attrCodeFilter=-All-&attrValueFilter=-All-&plkEngineMakeFilter=-All-&plkEngineModelFilter=-All-&plkEngineDispFilter=-All-&filter=Accelerator%20Pedal%20Sensor%20(APS)&start=420' has dtype incompatible with float64, please explicitly cast to a compatible dtype first.\n",
      "  df_temp.loc[0, 'Url'] = url\n"
     ]
    },
    {
     "name": "stdout",
     "output_type": "stream",
     "text": [
      "https://ecatalog.smpcorp.com/V2/STD/api/part/partsearch?filterType=n&searchType=p&imageSize=80&limit=1&sort=3&catFilter=-All-&yearFilter=-All-&makeFilter=-All-&modelFilter=-All-&engineFilter=-All-&attrCodeFilter=-All-&attrValueFilter=-All-&plkEngineMakeFilter=-All-&plkEngineModelFilter=-All-&plkEngineDispFilter=-All-&filter=Accelerator%20Pedal%20Sensor%20(APS)&start=420  <->  [ok] - 剩余数量：34\n"
     ]
    },
    {
     "name": "stderr",
     "output_type": "stream",
     "text": [
      "C:\\Users\\YangTeng\\AppData\\Local\\Temp\\ipykernel_2604\\3929323490.py:58: FutureWarning: Setting an item of incompatible dtype is deprecated and will raise in a future error of pandas. Value 'ok' has dtype incompatible with float64, please explicitly cast to a compatible dtype first.\n",
      "  df_temp.loc[0, 'status'] = 'ok'\n",
      "C:\\Users\\YangTeng\\AppData\\Local\\Temp\\ipykernel_2604\\3929323490.py:59: FutureWarning: Setting an item of incompatible dtype is deprecated and will raise in a future error of pandas. Value 'https://ecatalog.smpcorp.com/V2/STD/api/part/partsearch?filterType=n&searchType=p&imageSize=80&limit=1&sort=3&catFilter=-All-&yearFilter=-All-&makeFilter=-All-&modelFilter=-All-&engineFilter=-All-&attrCodeFilter=-All-&attrValueFilter=-All-&plkEngineMakeFilter=-All-&plkEngineModelFilter=-All-&plkEngineDispFilter=-All-&filter=Accelerator%20Pedal%20Sensor%20(APS)&start=416' has dtype incompatible with float64, please explicitly cast to a compatible dtype first.\n",
      "  df_temp.loc[0, 'Url'] = url\n",
      "C:\\Users\\YangTeng\\AppData\\Local\\Temp\\ipykernel_2604\\3929323490.py:58: FutureWarning: Setting an item of incompatible dtype is deprecated and will raise in a future error of pandas. Value 'ok' has dtype incompatible with float64, please explicitly cast to a compatible dtype first.\n",
      "  df_temp.loc[0, 'status'] = 'ok'\n",
      "C:\\Users\\YangTeng\\AppData\\Local\\Temp\\ipykernel_2604\\3929323490.py:59: FutureWarning: Setting an item of incompatible dtype is deprecated and will raise in a future error of pandas. Value 'https://ecatalog.smpcorp.com/V2/STD/api/part/partsearch?filterType=n&searchType=p&imageSize=80&limit=1&sort=3&catFilter=-All-&yearFilter=-All-&makeFilter=-All-&modelFilter=-All-&engineFilter=-All-&attrCodeFilter=-All-&attrValueFilter=-All-&plkEngineMakeFilter=-All-&plkEngineModelFilter=-All-&plkEngineDispFilter=-All-&filter=Accelerator%20Pedal%20Sensor%20(APS)&start=415' has dtype incompatible with float64, please explicitly cast to a compatible dtype first.\n",
      "  df_temp.loc[0, 'Url'] = url\n",
      "C:\\Users\\YangTeng\\AppData\\Local\\Temp\\ipykernel_2604\\3929323490.py:58: FutureWarning: Setting an item of incompatible dtype is deprecated and will raise in a future error of pandas. Value 'ok' has dtype incompatible with float64, please explicitly cast to a compatible dtype first.\n",
      "  df_temp.loc[0, 'status'] = 'ok'\n",
      "C:\\Users\\YangTeng\\AppData\\Local\\Temp\\ipykernel_2604\\3929323490.py:59: FutureWarning: Setting an item of incompatible dtype is deprecated and will raise in a future error of pandas. Value 'https://ecatalog.smpcorp.com/V2/STD/api/part/partsearch?filterType=n&searchType=p&imageSize=80&limit=1&sort=3&catFilter=-All-&yearFilter=-All-&makeFilter=-All-&modelFilter=-All-&engineFilter=-All-&attrCodeFilter=-All-&attrValueFilter=-All-&plkEngineMakeFilter=-All-&plkEngineModelFilter=-All-&plkEngineDispFilter=-All-&filter=Accelerator%20Pedal%20Sensor%20(APS)&start=424' has dtype incompatible with float64, please explicitly cast to a compatible dtype first.\n",
      "  df_temp.loc[0, 'Url'] = url\n",
      "C:\\Users\\YangTeng\\AppData\\Local\\Temp\\ipykernel_2604\\3929323490.py:58: FutureWarning: Setting an item of incompatible dtype is deprecated and will raise in a future error of pandas. Value 'ok' has dtype incompatible with float64, please explicitly cast to a compatible dtype first.\n",
      "  df_temp.loc[0, 'status'] = 'ok'\n",
      "C:\\Users\\YangTeng\\AppData\\Local\\Temp\\ipykernel_2604\\3929323490.py:59: FutureWarning: Setting an item of incompatible dtype is deprecated and will raise in a future error of pandas. Value 'https://ecatalog.smpcorp.com/V2/STD/api/part/partsearch?filterType=n&searchType=p&imageSize=80&limit=1&sort=3&catFilter=-All-&yearFilter=-All-&makeFilter=-All-&modelFilter=-All-&engineFilter=-All-&attrCodeFilter=-All-&attrValueFilter=-All-&plkEngineMakeFilter=-All-&plkEngineModelFilter=-All-&plkEngineDispFilter=-All-&filter=Accelerator%20Pedal%20Sensor%20(APS)&start=422' has dtype incompatible with float64, please explicitly cast to a compatible dtype first.\n",
      "  df_temp.loc[0, 'Url'] = url\n",
      "C:\\Users\\YangTeng\\AppData\\Local\\Temp\\ipykernel_2604\\3929323490.py:58: FutureWarning: Setting an item of incompatible dtype is deprecated and will raise in a future error of pandas. Value 'ok' has dtype incompatible with float64, please explicitly cast to a compatible dtype first.\n",
      "  df_temp.loc[0, 'status'] = 'ok'\n",
      "C:\\Users\\YangTeng\\AppData\\Local\\Temp\\ipykernel_2604\\3929323490.py:59: FutureWarning: Setting an item of incompatible dtype is deprecated and will raise in a future error of pandas. Value 'https://ecatalog.smpcorp.com/V2/STD/api/part/partsearch?filterType=n&searchType=p&imageSize=80&limit=1&sort=3&catFilter=-All-&yearFilter=-All-&makeFilter=-All-&modelFilter=-All-&engineFilter=-All-&attrCodeFilter=-All-&attrValueFilter=-All-&plkEngineMakeFilter=-All-&plkEngineModelFilter=-All-&plkEngineDispFilter=-All-&filter=Accelerator%20Pedal%20Sensor%20(APS)&start=423' has dtype incompatible with float64, please explicitly cast to a compatible dtype first.\n",
      "  df_temp.loc[0, 'Url'] = url\n"
     ]
    },
    {
     "name": "stdout",
     "output_type": "stream",
     "text": [
      "https://ecatalog.smpcorp.com/V2/STD/api/part/partsearch?filterType=n&searchType=p&imageSize=80&limit=1&sort=3&catFilter=-All-&yearFilter=-All-&makeFilter=-All-&modelFilter=-All-&engineFilter=-All-&attrCodeFilter=-All-&attrValueFilter=-All-&plkEngineMakeFilter=-All-&plkEngineModelFilter=-All-&plkEngineDispFilter=-All-&filter=Accelerator%20Pedal%20Sensor%20(APS)&start=416  <->  [ok] - 剩余数量：33\n",
      "https://ecatalog.smpcorp.com/V2/STD/api/part/partsearch?filterType=n&searchType=p&imageSize=80&limit=1&sort=3&catFilter=-All-&yearFilter=-All-&makeFilter=-All-&modelFilter=-All-&engineFilter=-All-&attrCodeFilter=-All-&attrValueFilter=-All-&plkEngineMakeFilter=-All-&plkEngineModelFilter=-All-&plkEngineDispFilter=-All-&filter=Accelerator%20Pedal%20Sensor%20(APS)&start=415  <->  [ok] - 剩余数量：32\n",
      "https://ecatalog.smpcorp.com/V2/STD/api/part/partsearch?filterType=n&searchType=p&imageSize=80&limit=1&sort=3&catFilter=-All-&yearFilter=-All-&makeFilter=-All-&modelFilter=-All-&engineFilter=-All-&attrCodeFilter=-All-&attrValueFilter=-All-&plkEngineMakeFilter=-All-&plkEngineModelFilter=-All-&plkEngineDispFilter=-All-&filter=Accelerator%20Pedal%20Sensor%20(APS)&start=424  <->  [ok] - 剩余数量：31\n",
      "https://ecatalog.smpcorp.com/V2/STD/api/part/partsearch?filterType=n&searchType=p&imageSize=80&limit=1&sort=3&catFilter=-All-&yearFilter=-All-&makeFilter=-All-&modelFilter=-All-&engineFilter=-All-&attrCodeFilter=-All-&attrValueFilter=-All-&plkEngineMakeFilter=-All-&plkEngineModelFilter=-All-&plkEngineDispFilter=-All-&filter=Accelerator%20Pedal%20Sensor%20(APS)&start=422  <->  [ok] - 剩余数量：30\n",
      "https://ecatalog.smpcorp.com/V2/STD/api/part/partsearch?filterType=n&searchType=p&imageSize=80&limit=1&sort=3&catFilter=-All-&yearFilter=-All-&makeFilter=-All-&modelFilter=-All-&engineFilter=-All-&attrCodeFilter=-All-&attrValueFilter=-All-&plkEngineMakeFilter=-All-&plkEngineModelFilter=-All-&plkEngineDispFilter=-All-&filter=Accelerator%20Pedal%20Sensor%20(APS)&start=423  <->  [ok] - 剩余数量：29\n"
     ]
    },
    {
     "name": "stderr",
     "output_type": "stream",
     "text": [
      "C:\\Users\\YangTeng\\AppData\\Local\\Temp\\ipykernel_2604\\3929323490.py:58: FutureWarning: Setting an item of incompatible dtype is deprecated and will raise in a future error of pandas. Value 'ok' has dtype incompatible with float64, please explicitly cast to a compatible dtype first.\n",
      "  df_temp.loc[0, 'status'] = 'ok'\n",
      "C:\\Users\\YangTeng\\AppData\\Local\\Temp\\ipykernel_2604\\3929323490.py:59: FutureWarning: Setting an item of incompatible dtype is deprecated and will raise in a future error of pandas. Value 'https://ecatalog.smpcorp.com/V2/STD/api/part/partsearch?filterType=n&searchType=p&imageSize=80&limit=1&sort=3&catFilter=-All-&yearFilter=-All-&makeFilter=-All-&modelFilter=-All-&engineFilter=-All-&attrCodeFilter=-All-&attrValueFilter=-All-&plkEngineMakeFilter=-All-&plkEngineModelFilter=-All-&plkEngineDispFilter=-All-&filter=Accelerator%20Pedal%20Sensor%20(APS)&start=418' has dtype incompatible with float64, please explicitly cast to a compatible dtype first.\n",
      "  df_temp.loc[0, 'Url'] = url\n"
     ]
    },
    {
     "name": "stdout",
     "output_type": "stream",
     "text": [
      "https://ecatalog.smpcorp.com/V2/STD/api/part/partsearch?filterType=n&searchType=p&imageSize=80&limit=1&sort=3&catFilter=-All-&yearFilter=-All-&makeFilter=-All-&modelFilter=-All-&engineFilter=-All-&attrCodeFilter=-All-&attrValueFilter=-All-&plkEngineMakeFilter=-All-&plkEngineModelFilter=-All-&plkEngineDispFilter=-All-&filter=Accelerator%20Pedal%20Sensor%20(APS)&start=418  <->  [ok] - 剩余数量：28\n"
     ]
    },
    {
     "name": "stderr",
     "output_type": "stream",
     "text": [
      "C:\\Users\\YangTeng\\AppData\\Local\\Temp\\ipykernel_2604\\3929323490.py:58: FutureWarning: Setting an item of incompatible dtype is deprecated and will raise in a future error of pandas. Value 'ok' has dtype incompatible with float64, please explicitly cast to a compatible dtype first.\n",
      "  df_temp.loc[0, 'status'] = 'ok'\n",
      "C:\\Users\\YangTeng\\AppData\\Local\\Temp\\ipykernel_2604\\3929323490.py:59: FutureWarning: Setting an item of incompatible dtype is deprecated and will raise in a future error of pandas. Value 'https://ecatalog.smpcorp.com/V2/STD/api/part/partsearch?filterType=n&searchType=p&imageSize=80&limit=1&sort=3&catFilter=-All-&yearFilter=-All-&makeFilter=-All-&modelFilter=-All-&engineFilter=-All-&attrCodeFilter=-All-&attrValueFilter=-All-&plkEngineMakeFilter=-All-&plkEngineModelFilter=-All-&plkEngineDispFilter=-All-&filter=Accelerator%20Pedal%20Sensor%20(APS)&start=428' has dtype incompatible with float64, please explicitly cast to a compatible dtype first.\n",
      "  df_temp.loc[0, 'Url'] = url\n",
      "C:\\Users\\YangTeng\\AppData\\Local\\Temp\\ipykernel_2604\\3929323490.py:58: FutureWarning: Setting an item of incompatible dtype is deprecated and will raise in a future error of pandas. Value 'ok' has dtype incompatible with float64, please explicitly cast to a compatible dtype first.\n",
      "  df_temp.loc[0, 'status'] = 'ok'\n",
      "C:\\Users\\YangTeng\\AppData\\Local\\Temp\\ipykernel_2604\\3929323490.py:59: FutureWarning: Setting an item of incompatible dtype is deprecated and will raise in a future error of pandas. Value 'https://ecatalog.smpcorp.com/V2/STD/api/part/partsearch?filterType=n&searchType=p&imageSize=80&limit=1&sort=3&catFilter=-All-&yearFilter=-All-&makeFilter=-All-&modelFilter=-All-&engineFilter=-All-&attrCodeFilter=-All-&attrValueFilter=-All-&plkEngineMakeFilter=-All-&plkEngineModelFilter=-All-&plkEngineDispFilter=-All-&filter=Accelerator%20Pedal%20Sensor%20(APS)&start=421' has dtype incompatible with float64, please explicitly cast to a compatible dtype first.\n",
      "  df_temp.loc[0, 'Url'] = url\n"
     ]
    },
    {
     "name": "stdout",
     "output_type": "stream",
     "text": [
      "https://ecatalog.smpcorp.com/V2/STD/api/part/partsearch?filterType=n&searchType=p&imageSize=80&limit=1&sort=3&catFilter=-All-&yearFilter=-All-&makeFilter=-All-&modelFilter=-All-&engineFilter=-All-&attrCodeFilter=-All-&attrValueFilter=-All-&plkEngineMakeFilter=-All-&plkEngineModelFilter=-All-&plkEngineDispFilter=-All-&filter=Accelerator%20Pedal%20Sensor%20(APS)&start=428  <->  [ok] - 剩余数量：27\n",
      "https://ecatalog.smpcorp.com/V2/STD/api/part/partsearch?filterType=n&searchType=p&imageSize=80&limit=1&sort=3&catFilter=-All-&yearFilter=-All-&makeFilter=-All-&modelFilter=-All-&engineFilter=-All-&attrCodeFilter=-All-&attrValueFilter=-All-&plkEngineMakeFilter=-All-&plkEngineModelFilter=-All-&plkEngineDispFilter=-All-&filter=Accelerator%20Pedal%20Sensor%20(APS)&start=421  <->  [ok] - 剩余数量：26\n"
     ]
    },
    {
     "name": "stderr",
     "output_type": "stream",
     "text": [
      "C:\\Users\\YangTeng\\AppData\\Local\\Temp\\ipykernel_2604\\3929323490.py:58: FutureWarning: Setting an item of incompatible dtype is deprecated and will raise in a future error of pandas. Value 'ok' has dtype incompatible with float64, please explicitly cast to a compatible dtype first.\n",
      "  df_temp.loc[0, 'status'] = 'ok'\n",
      "C:\\Users\\YangTeng\\AppData\\Local\\Temp\\ipykernel_2604\\3929323490.py:59: FutureWarning: Setting an item of incompatible dtype is deprecated and will raise in a future error of pandas. Value 'https://ecatalog.smpcorp.com/V2/STD/api/part/partsearch?filterType=n&searchType=p&imageSize=80&limit=1&sort=3&catFilter=-All-&yearFilter=-All-&makeFilter=-All-&modelFilter=-All-&engineFilter=-All-&attrCodeFilter=-All-&attrValueFilter=-All-&plkEngineMakeFilter=-All-&plkEngineModelFilter=-All-&plkEngineDispFilter=-All-&filter=Accelerator%20Pedal%20Sensor%20(APS)&start=425' has dtype incompatible with float64, please explicitly cast to a compatible dtype first.\n",
      "  df_temp.loc[0, 'Url'] = url\n",
      "C:\\Users\\YangTeng\\AppData\\Local\\Temp\\ipykernel_2604\\3929323490.py:58: FutureWarning: Setting an item of incompatible dtype is deprecated and will raise in a future error of pandas. Value 'ok' has dtype incompatible with float64, please explicitly cast to a compatible dtype first.\n",
      "  df_temp.loc[0, 'status'] = 'ok'\n",
      "C:\\Users\\YangTeng\\AppData\\Local\\Temp\\ipykernel_2604\\3929323490.py:59: FutureWarning: Setting an item of incompatible dtype is deprecated and will raise in a future error of pandas. Value 'https://ecatalog.smpcorp.com/V2/STD/api/part/partsearch?filterType=n&searchType=p&imageSize=80&limit=1&sort=3&catFilter=-All-&yearFilter=-All-&makeFilter=-All-&modelFilter=-All-&engineFilter=-All-&attrCodeFilter=-All-&attrValueFilter=-All-&plkEngineMakeFilter=-All-&plkEngineModelFilter=-All-&plkEngineDispFilter=-All-&filter=Accelerator%20Pedal%20Sensor%20(APS)&start=429' has dtype incompatible with float64, please explicitly cast to a compatible dtype first.\n",
      "  df_temp.loc[0, 'Url'] = url\n",
      "C:\\Users\\YangTeng\\AppData\\Local\\Temp\\ipykernel_2604\\3929323490.py:58: FutureWarning: Setting an item of incompatible dtype is deprecated and will raise in a future error of pandas. Value 'ok' has dtype incompatible with float64, please explicitly cast to a compatible dtype first.\n",
      "  df_temp.loc[0, 'status'] = 'ok'\n",
      "C:\\Users\\YangTeng\\AppData\\Local\\Temp\\ipykernel_2604\\3929323490.py:59: FutureWarning: Setting an item of incompatible dtype is deprecated and will raise in a future error of pandas. Value 'https://ecatalog.smpcorp.com/V2/STD/api/part/partsearch?filterType=n&searchType=p&imageSize=80&limit=1&sort=3&catFilter=-All-&yearFilter=-All-&makeFilter=-All-&modelFilter=-All-&engineFilter=-All-&attrCodeFilter=-All-&attrValueFilter=-All-&plkEngineMakeFilter=-All-&plkEngineModelFilter=-All-&plkEngineDispFilter=-All-&filter=Accelerator%20Pedal%20Sensor%20(APS)&start=426' has dtype incompatible with float64, please explicitly cast to a compatible dtype first.\n",
      "  df_temp.loc[0, 'Url'] = url\n"
     ]
    },
    {
     "name": "stdout",
     "output_type": "stream",
     "text": [
      "https://ecatalog.smpcorp.com/V2/STD/api/part/partsearch?filterType=n&searchType=p&imageSize=80&limit=1&sort=3&catFilter=-All-&yearFilter=-All-&makeFilter=-All-&modelFilter=-All-&engineFilter=-All-&attrCodeFilter=-All-&attrValueFilter=-All-&plkEngineMakeFilter=-All-&plkEngineModelFilter=-All-&plkEngineDispFilter=-All-&filter=Accelerator%20Pedal%20Sensor%20(APS)&start=425  <->  [ok] - 剩余数量：25\n",
      "https://ecatalog.smpcorp.com/V2/STD/api/part/partsearch?filterType=n&searchType=p&imageSize=80&limit=1&sort=3&catFilter=-All-&yearFilter=-All-&makeFilter=-All-&modelFilter=-All-&engineFilter=-All-&attrCodeFilter=-All-&attrValueFilter=-All-&plkEngineMakeFilter=-All-&plkEngineModelFilter=-All-&plkEngineDispFilter=-All-&filter=Accelerator%20Pedal%20Sensor%20(APS)&start=429  <->  [ok] - 剩余数量：24\n",
      "https://ecatalog.smpcorp.com/V2/STD/api/part/partsearch?filterType=n&searchType=p&imageSize=80&limit=1&sort=3&catFilter=-All-&yearFilter=-All-&makeFilter=-All-&modelFilter=-All-&engineFilter=-All-&attrCodeFilter=-All-&attrValueFilter=-All-&plkEngineMakeFilter=-All-&plkEngineModelFilter=-All-&plkEngineDispFilter=-All-&filter=Accelerator%20Pedal%20Sensor%20(APS)&start=426  <->  [ok] - 剩余数量：23\n",
      "https://ecatalog.smpcorp.com/V2/STD/api/part/partsearch?filterType=n&searchType=p&imageSize=80&limit=1&sort=3&catFilter=-All-&yearFilter=-All-&makeFilter=-All-&modelFilter=-All-&engineFilter=-All-&attrCodeFilter=-All-&attrValueFilter=-All-&plkEngineMakeFilter=-All-&plkEngineModelFilter=-All-&plkEngineDispFilter=-All-&filter=Accelerator%20Pedal%20Sensor%20(APS)&start=411  <->  [ok] - 剩余数量：22\n",
      "https://ecatalog.smpcorp.com/V2/STD/api/part/partsearch?filterType=n&searchType=p&imageSize=80&limit=1&sort=3&catFilter=-All-&yearFilter=-All-&makeFilter=-All-&modelFilter=-All-&engineFilter=-All-&attrCodeFilter=-All-&attrValueFilter=-All-&plkEngineMakeFilter=-All-&plkEngineModelFilter=-All-&plkEngineDispFilter=-All-&filter=Accelerator%20Pedal%20Sensor%20(APS)&start=434  <->  [ok] - 剩余数量：21\n",
      "https://ecatalog.smpcorp.com/V2/STD/api/part/partsearch?filterType=n&searchType=p&imageSize=80&limit=1&sort=3&catFilter=-All-&yearFilter=-All-&makeFilter=-All-&modelFilter=-All-&engineFilter=-All-&attrCodeFilter=-All-&attrValueFilter=-All-&plkEngineMakeFilter=-All-&plkEngineModelFilter=-All-&plkEngineDispFilter=-All-&filter=Accelerator%20Pedal%20Sensor%20(APS)&start=431  <->  [ok] - 剩余数量：20\n",
      "https://ecatalog.smpcorp.com/V2/STD/api/part/partsearch?filterType=n&searchType=p&imageSize=80&limit=1&sort=3&catFilter=-All-&yearFilter=-All-&makeFilter=-All-&modelFilter=-All-&engineFilter=-All-&attrCodeFilter=-All-&attrValueFilter=-All-&plkEngineMakeFilter=-All-&plkEngineModelFilter=-All-&plkEngineDispFilter=-All-&filter=Accelerator%20Pedal%20Sensor%20(APS)&start=438  <->  [ok] - 剩余数量：19\n",
      "https://ecatalog.smpcorp.com/V2/STD/api/part/partsearch?filterType=n&searchType=p&imageSize=80&limit=1&sort=3&catFilter=-All-&yearFilter=-All-&makeFilter=-All-&modelFilter=-All-&engineFilter=-All-&attrCodeFilter=-All-&attrValueFilter=-All-&plkEngineMakeFilter=-All-&plkEngineModelFilter=-All-&plkEngineDispFilter=-All-&filter=Accelerator%20Pedal%20Sensor%20(APS)&start=427  <->  [ok] - 剩余数量：18\n"
     ]
    },
    {
     "name": "stderr",
     "output_type": "stream",
     "text": [
      "C:\\Users\\YangTeng\\AppData\\Local\\Temp\\ipykernel_2604\\3929323490.py:58: FutureWarning: Setting an item of incompatible dtype is deprecated and will raise in a future error of pandas. Value 'ok' has dtype incompatible with float64, please explicitly cast to a compatible dtype first.\n",
      "  df_temp.loc[0, 'status'] = 'ok'\n",
      "C:\\Users\\YangTeng\\AppData\\Local\\Temp\\ipykernel_2604\\3929323490.py:59: FutureWarning: Setting an item of incompatible dtype is deprecated and will raise in a future error of pandas. Value 'https://ecatalog.smpcorp.com/V2/STD/api/part/partsearch?filterType=n&searchType=p&imageSize=80&limit=1&sort=3&catFilter=-All-&yearFilter=-All-&makeFilter=-All-&modelFilter=-All-&engineFilter=-All-&attrCodeFilter=-All-&attrValueFilter=-All-&plkEngineMakeFilter=-All-&plkEngineModelFilter=-All-&plkEngineDispFilter=-All-&filter=Accelerator%20Pedal%20Sensor%20(APS)&start=411' has dtype incompatible with float64, please explicitly cast to a compatible dtype first.\n",
      "  df_temp.loc[0, 'Url'] = url\n",
      "C:\\Users\\YangTeng\\AppData\\Local\\Temp\\ipykernel_2604\\3929323490.py:58: FutureWarning: Setting an item of incompatible dtype is deprecated and will raise in a future error of pandas. Value 'ok' has dtype incompatible with float64, please explicitly cast to a compatible dtype first.\n",
      "  df_temp.loc[0, 'status'] = 'ok'\n",
      "C:\\Users\\YangTeng\\AppData\\Local\\Temp\\ipykernel_2604\\3929323490.py:59: FutureWarning: Setting an item of incompatible dtype is deprecated and will raise in a future error of pandas. Value 'https://ecatalog.smpcorp.com/V2/STD/api/part/partsearch?filterType=n&searchType=p&imageSize=80&limit=1&sort=3&catFilter=-All-&yearFilter=-All-&makeFilter=-All-&modelFilter=-All-&engineFilter=-All-&attrCodeFilter=-All-&attrValueFilter=-All-&plkEngineMakeFilter=-All-&plkEngineModelFilter=-All-&plkEngineDispFilter=-All-&filter=Accelerator%20Pedal%20Sensor%20(APS)&start=434' has dtype incompatible with float64, please explicitly cast to a compatible dtype first.\n",
      "  df_temp.loc[0, 'Url'] = url\n",
      "C:\\Users\\YangTeng\\AppData\\Local\\Temp\\ipykernel_2604\\3929323490.py:58: FutureWarning: Setting an item of incompatible dtype is deprecated and will raise in a future error of pandas. Value 'ok' has dtype incompatible with float64, please explicitly cast to a compatible dtype first.\n",
      "  df_temp.loc[0, 'status'] = 'ok'\n",
      "C:\\Users\\YangTeng\\AppData\\Local\\Temp\\ipykernel_2604\\3929323490.py:59: FutureWarning: Setting an item of incompatible dtype is deprecated and will raise in a future error of pandas. Value 'https://ecatalog.smpcorp.com/V2/STD/api/part/partsearch?filterType=n&searchType=p&imageSize=80&limit=1&sort=3&catFilter=-All-&yearFilter=-All-&makeFilter=-All-&modelFilter=-All-&engineFilter=-All-&attrCodeFilter=-All-&attrValueFilter=-All-&plkEngineMakeFilter=-All-&plkEngineModelFilter=-All-&plkEngineDispFilter=-All-&filter=Accelerator%20Pedal%20Sensor%20(APS)&start=431' has dtype incompatible with float64, please explicitly cast to a compatible dtype first.\n",
      "  df_temp.loc[0, 'Url'] = url\n",
      "C:\\Users\\YangTeng\\AppData\\Local\\Temp\\ipykernel_2604\\3929323490.py:58: FutureWarning: Setting an item of incompatible dtype is deprecated and will raise in a future error of pandas. Value 'ok' has dtype incompatible with float64, please explicitly cast to a compatible dtype first.\n",
      "  df_temp.loc[0, 'status'] = 'ok'\n",
      "C:\\Users\\YangTeng\\AppData\\Local\\Temp\\ipykernel_2604\\3929323490.py:59: FutureWarning: Setting an item of incompatible dtype is deprecated and will raise in a future error of pandas. Value 'https://ecatalog.smpcorp.com/V2/STD/api/part/partsearch?filterType=n&searchType=p&imageSize=80&limit=1&sort=3&catFilter=-All-&yearFilter=-All-&makeFilter=-All-&modelFilter=-All-&engineFilter=-All-&attrCodeFilter=-All-&attrValueFilter=-All-&plkEngineMakeFilter=-All-&plkEngineModelFilter=-All-&plkEngineDispFilter=-All-&filter=Accelerator%20Pedal%20Sensor%20(APS)&start=438' has dtype incompatible with float64, please explicitly cast to a compatible dtype first.\n",
      "  df_temp.loc[0, 'Url'] = url\n",
      "C:\\Users\\YangTeng\\AppData\\Local\\Temp\\ipykernel_2604\\3929323490.py:58: FutureWarning: Setting an item of incompatible dtype is deprecated and will raise in a future error of pandas. Value 'ok' has dtype incompatible with float64, please explicitly cast to a compatible dtype first.\n",
      "  df_temp.loc[0, 'status'] = 'ok'\n",
      "C:\\Users\\YangTeng\\AppData\\Local\\Temp\\ipykernel_2604\\3929323490.py:59: FutureWarning: Setting an item of incompatible dtype is deprecated and will raise in a future error of pandas. Value 'https://ecatalog.smpcorp.com/V2/STD/api/part/partsearch?filterType=n&searchType=p&imageSize=80&limit=1&sort=3&catFilter=-All-&yearFilter=-All-&makeFilter=-All-&modelFilter=-All-&engineFilter=-All-&attrCodeFilter=-All-&attrValueFilter=-All-&plkEngineMakeFilter=-All-&plkEngineModelFilter=-All-&plkEngineDispFilter=-All-&filter=Accelerator%20Pedal%20Sensor%20(APS)&start=427' has dtype incompatible with float64, please explicitly cast to a compatible dtype first.\n",
      "  df_temp.loc[0, 'Url'] = url\n",
      "C:\\Users\\YangTeng\\AppData\\Local\\Temp\\ipykernel_2604\\3929323490.py:58: FutureWarning: Setting an item of incompatible dtype is deprecated and will raise in a future error of pandas. Value 'ok' has dtype incompatible with float64, please explicitly cast to a compatible dtype first.\n",
      "  df_temp.loc[0, 'status'] = 'ok'\n",
      "C:\\Users\\YangTeng\\AppData\\Local\\Temp\\ipykernel_2604\\3929323490.py:59: FutureWarning: Setting an item of incompatible dtype is deprecated and will raise in a future error of pandas. Value 'https://ecatalog.smpcorp.com/V2/STD/api/part/partsearch?filterType=n&searchType=p&imageSize=80&limit=1&sort=3&catFilter=-All-&yearFilter=-All-&makeFilter=-All-&modelFilter=-All-&engineFilter=-All-&attrCodeFilter=-All-&attrValueFilter=-All-&plkEngineMakeFilter=-All-&plkEngineModelFilter=-All-&plkEngineDispFilter=-All-&filter=Accelerator%20Pedal%20Sensor%20(APS)&start=435' has dtype incompatible with float64, please explicitly cast to a compatible dtype first.\n",
      "  df_temp.loc[0, 'Url'] = url\n",
      "C:\\Users\\YangTeng\\AppData\\Local\\Temp\\ipykernel_2604\\3929323490.py:58: FutureWarning: Setting an item of incompatible dtype is deprecated and will raise in a future error of pandas. Value 'ok' has dtype incompatible with float64, please explicitly cast to a compatible dtype first.\n",
      "  df_temp.loc[0, 'status'] = 'ok'\n",
      "C:\\Users\\YangTeng\\AppData\\Local\\Temp\\ipykernel_2604\\3929323490.py:59: FutureWarning: Setting an item of incompatible dtype is deprecated and will raise in a future error of pandas. Value 'https://ecatalog.smpcorp.com/V2/STD/api/part/partsearch?filterType=n&searchType=p&imageSize=80&limit=1&sort=3&catFilter=-All-&yearFilter=-All-&makeFilter=-All-&modelFilter=-All-&engineFilter=-All-&attrCodeFilter=-All-&attrValueFilter=-All-&plkEngineMakeFilter=-All-&plkEngineModelFilter=-All-&plkEngineDispFilter=-All-&filter=Accelerator%20Pedal%20Sensor%20(APS)&start=432' has dtype incompatible with float64, please explicitly cast to a compatible dtype first.\n",
      "  df_temp.loc[0, 'Url'] = url\n"
     ]
    },
    {
     "name": "stdout",
     "output_type": "stream",
     "text": [
      "https://ecatalog.smpcorp.com/V2/STD/api/part/partsearch?filterType=n&searchType=p&imageSize=80&limit=1&sort=3&catFilter=-All-&yearFilter=-All-&makeFilter=-All-&modelFilter=-All-&engineFilter=-All-&attrCodeFilter=-All-&attrValueFilter=-All-&plkEngineMakeFilter=-All-&plkEngineModelFilter=-All-&plkEngineDispFilter=-All-&filter=Accelerator%20Pedal%20Sensor%20(APS)&start=435  <->  [ok] - 剩余数量：17\n",
      "https://ecatalog.smpcorp.com/V2/STD/api/part/partsearch?filterType=n&searchType=p&imageSize=80&limit=1&sort=3&catFilter=-All-&yearFilter=-All-&makeFilter=-All-&modelFilter=-All-&engineFilter=-All-&attrCodeFilter=-All-&attrValueFilter=-All-&plkEngineMakeFilter=-All-&plkEngineModelFilter=-All-&plkEngineDispFilter=-All-&filter=Accelerator%20Pedal%20Sensor%20(APS)&start=432  <->  [ok] - 剩余数量：16\n"
     ]
    },
    {
     "name": "stderr",
     "output_type": "stream",
     "text": [
      "C:\\Users\\YangTeng\\AppData\\Local\\Temp\\ipykernel_2604\\3929323490.py:58: FutureWarning: Setting an item of incompatible dtype is deprecated and will raise in a future error of pandas. Value 'ok' has dtype incompatible with float64, please explicitly cast to a compatible dtype first.\n",
      "  df_temp.loc[0, 'status'] = 'ok'\n",
      "C:\\Users\\YangTeng\\AppData\\Local\\Temp\\ipykernel_2604\\3929323490.py:59: FutureWarning: Setting an item of incompatible dtype is deprecated and will raise in a future error of pandas. Value 'https://ecatalog.smpcorp.com/V2/STD/api/part/partsearch?filterType=n&searchType=p&imageSize=80&limit=1&sort=3&catFilter=-All-&yearFilter=-All-&makeFilter=-All-&modelFilter=-All-&engineFilter=-All-&attrCodeFilter=-All-&attrValueFilter=-All-&plkEngineMakeFilter=-All-&plkEngineModelFilter=-All-&plkEngineDispFilter=-All-&filter=Accelerator%20Pedal%20Sensor%20(APS)&start=437' has dtype incompatible with float64, please explicitly cast to a compatible dtype first.\n",
      "  df_temp.loc[0, 'Url'] = url\n",
      "C:\\Users\\YangTeng\\AppData\\Local\\Temp\\ipykernel_2604\\3929323490.py:58: FutureWarning: Setting an item of incompatible dtype is deprecated and will raise in a future error of pandas. Value 'ok' has dtype incompatible with float64, please explicitly cast to a compatible dtype first.\n",
      "  df_temp.loc[0, 'status'] = 'ok'\n",
      "C:\\Users\\YangTeng\\AppData\\Local\\Temp\\ipykernel_2604\\3929323490.py:59: FutureWarning: Setting an item of incompatible dtype is deprecated and will raise in a future error of pandas. Value 'https://ecatalog.smpcorp.com/V2/STD/api/part/partsearch?filterType=n&searchType=p&imageSize=80&limit=1&sort=3&catFilter=-All-&yearFilter=-All-&makeFilter=-All-&modelFilter=-All-&engineFilter=-All-&attrCodeFilter=-All-&attrValueFilter=-All-&plkEngineMakeFilter=-All-&plkEngineModelFilter=-All-&plkEngineDispFilter=-All-&filter=Accelerator%20Pedal%20Sensor%20(APS)&start=439' has dtype incompatible with float64, please explicitly cast to a compatible dtype first.\n",
      "  df_temp.loc[0, 'Url'] = url\n"
     ]
    },
    {
     "name": "stdout",
     "output_type": "stream",
     "text": [
      "https://ecatalog.smpcorp.com/V2/STD/api/part/partsearch?filterType=n&searchType=p&imageSize=80&limit=1&sort=3&catFilter=-All-&yearFilter=-All-&makeFilter=-All-&modelFilter=-All-&engineFilter=-All-&attrCodeFilter=-All-&attrValueFilter=-All-&plkEngineMakeFilter=-All-&plkEngineModelFilter=-All-&plkEngineDispFilter=-All-&filter=Accelerator%20Pedal%20Sensor%20(APS)&start=437  <->  [ok] - 剩余数量：15\n",
      "https://ecatalog.smpcorp.com/V2/STD/api/part/partsearch?filterType=n&searchType=p&imageSize=80&limit=1&sort=3&catFilter=-All-&yearFilter=-All-&makeFilter=-All-&modelFilter=-All-&engineFilter=-All-&attrCodeFilter=-All-&attrValueFilter=-All-&plkEngineMakeFilter=-All-&plkEngineModelFilter=-All-&plkEngineDispFilter=-All-&filter=Accelerator%20Pedal%20Sensor%20(APS)&start=439  <->  [ok] - 剩余数量：14\n"
     ]
    },
    {
     "name": "stderr",
     "output_type": "stream",
     "text": [
      "C:\\Users\\YangTeng\\AppData\\Local\\Temp\\ipykernel_2604\\3929323490.py:58: FutureWarning: Setting an item of incompatible dtype is deprecated and will raise in a future error of pandas. Value 'ok' has dtype incompatible with float64, please explicitly cast to a compatible dtype first.\n",
      "  df_temp.loc[0, 'status'] = 'ok'\n",
      "C:\\Users\\YangTeng\\AppData\\Local\\Temp\\ipykernel_2604\\3929323490.py:59: FutureWarning: Setting an item of incompatible dtype is deprecated and will raise in a future error of pandas. Value 'https://ecatalog.smpcorp.com/V2/STD/api/part/partsearch?filterType=n&searchType=p&imageSize=80&limit=1&sort=3&catFilter=-All-&yearFilter=-All-&makeFilter=-All-&modelFilter=-All-&engineFilter=-All-&attrCodeFilter=-All-&attrValueFilter=-All-&plkEngineMakeFilter=-All-&plkEngineModelFilter=-All-&plkEngineDispFilter=-All-&filter=Accelerator%20Pedal%20Sensor%20(APS)&start=436' has dtype incompatible with float64, please explicitly cast to a compatible dtype first.\n",
      "  df_temp.loc[0, 'Url'] = url\n"
     ]
    },
    {
     "name": "stdout",
     "output_type": "stream",
     "text": [
      "https://ecatalog.smpcorp.com/V2/STD/api/part/partsearch?filterType=n&searchType=p&imageSize=80&limit=1&sort=3&catFilter=-All-&yearFilter=-All-&makeFilter=-All-&modelFilter=-All-&engineFilter=-All-&attrCodeFilter=-All-&attrValueFilter=-All-&plkEngineMakeFilter=-All-&plkEngineModelFilter=-All-&plkEngineDispFilter=-All-&filter=Accelerator%20Pedal%20Sensor%20(APS)&start=436  <->  [ok] - 剩余数量：13\n"
     ]
    },
    {
     "name": "stderr",
     "output_type": "stream",
     "text": [
      "C:\\Users\\YangTeng\\AppData\\Local\\Temp\\ipykernel_2604\\3929323490.py:58: FutureWarning: Setting an item of incompatible dtype is deprecated and will raise in a future error of pandas. Value 'ok' has dtype incompatible with float64, please explicitly cast to a compatible dtype first.\n",
      "  df_temp.loc[0, 'status'] = 'ok'\n",
      "C:\\Users\\YangTeng\\AppData\\Local\\Temp\\ipykernel_2604\\3929323490.py:59: FutureWarning: Setting an item of incompatible dtype is deprecated and will raise in a future error of pandas. Value 'https://ecatalog.smpcorp.com/V2/STD/api/part/partsearch?filterType=n&searchType=p&imageSize=80&limit=1&sort=3&catFilter=-All-&yearFilter=-All-&makeFilter=-All-&modelFilter=-All-&engineFilter=-All-&attrCodeFilter=-All-&attrValueFilter=-All-&plkEngineMakeFilter=-All-&plkEngineModelFilter=-All-&plkEngineDispFilter=-All-&filter=Accelerator%20Pedal%20Sensor%20(APS)&start=430' has dtype incompatible with float64, please explicitly cast to a compatible dtype first.\n",
      "  df_temp.loc[0, 'Url'] = url\n"
     ]
    },
    {
     "name": "stdout",
     "output_type": "stream",
     "text": [
      "https://ecatalog.smpcorp.com/V2/STD/api/part/partsearch?filterType=n&searchType=p&imageSize=80&limit=1&sort=3&catFilter=-All-&yearFilter=-All-&makeFilter=-All-&modelFilter=-All-&engineFilter=-All-&attrCodeFilter=-All-&attrValueFilter=-All-&plkEngineMakeFilter=-All-&plkEngineModelFilter=-All-&plkEngineDispFilter=-All-&filter=Accelerator%20Pedal%20Sensor%20(APS)&start=430  <->  [ok] - 剩余数量：12\n"
     ]
    },
    {
     "name": "stderr",
     "output_type": "stream",
     "text": [
      "C:\\Users\\YangTeng\\AppData\\Local\\Temp\\ipykernel_2604\\3929323490.py:58: FutureWarning: Setting an item of incompatible dtype is deprecated and will raise in a future error of pandas. Value 'ok' has dtype incompatible with float64, please explicitly cast to a compatible dtype first.\n",
      "  df_temp.loc[0, 'status'] = 'ok'\n",
      "C:\\Users\\YangTeng\\AppData\\Local\\Temp\\ipykernel_2604\\3929323490.py:59: FutureWarning: Setting an item of incompatible dtype is deprecated and will raise in a future error of pandas. Value 'https://ecatalog.smpcorp.com/V2/STD/api/part/partsearch?filterType=n&searchType=p&imageSize=80&limit=1&sort=3&catFilter=-All-&yearFilter=-All-&makeFilter=-All-&modelFilter=-All-&engineFilter=-All-&attrCodeFilter=-All-&attrValueFilter=-All-&plkEngineMakeFilter=-All-&plkEngineModelFilter=-All-&plkEngineDispFilter=-All-&filter=Accelerator%20Pedal%20Sensor%20(APS)&start=449' has dtype incompatible with float64, please explicitly cast to a compatible dtype first.\n",
      "  df_temp.loc[0, 'Url'] = url\n",
      "C:\\Users\\YangTeng\\AppData\\Local\\Temp\\ipykernel_2604\\3929323490.py:58: FutureWarning: Setting an item of incompatible dtype is deprecated and will raise in a future error of pandas. Value 'ok' has dtype incompatible with float64, please explicitly cast to a compatible dtype first.\n",
      "  df_temp.loc[0, 'status'] = 'ok'\n",
      "C:\\Users\\YangTeng\\AppData\\Local\\Temp\\ipykernel_2604\\3929323490.py:59: FutureWarning: Setting an item of incompatible dtype is deprecated and will raise in a future error of pandas. Value 'https://ecatalog.smpcorp.com/V2/STD/api/part/partsearch?filterType=n&searchType=p&imageSize=80&limit=1&sort=3&catFilter=-All-&yearFilter=-All-&makeFilter=-All-&modelFilter=-All-&engineFilter=-All-&attrCodeFilter=-All-&attrValueFilter=-All-&plkEngineMakeFilter=-All-&plkEngineModelFilter=-All-&plkEngineDispFilter=-All-&filter=Accelerator%20Pedal%20Sensor%20(APS)&start=443' has dtype incompatible with float64, please explicitly cast to a compatible dtype first.\n",
      "  df_temp.loc[0, 'Url'] = url\n",
      "C:\\Users\\YangTeng\\AppData\\Local\\Temp\\ipykernel_2604\\3929323490.py:58: FutureWarning: Setting an item of incompatible dtype is deprecated and will raise in a future error of pandas. Value 'ok' has dtype incompatible with float64, please explicitly cast to a compatible dtype first.\n",
      "  df_temp.loc[0, 'status'] = 'ok'\n",
      "C:\\Users\\YangTeng\\AppData\\Local\\Temp\\ipykernel_2604\\3929323490.py:59: FutureWarning: Setting an item of incompatible dtype is deprecated and will raise in a future error of pandas. Value 'https://ecatalog.smpcorp.com/V2/STD/api/part/partsearch?filterType=n&searchType=p&imageSize=80&limit=1&sort=3&catFilter=-All-&yearFilter=-All-&makeFilter=-All-&modelFilter=-All-&engineFilter=-All-&attrCodeFilter=-All-&attrValueFilter=-All-&plkEngineMakeFilter=-All-&plkEngineModelFilter=-All-&plkEngineDispFilter=-All-&filter=Accelerator%20Pedal%20Sensor%20(APS)&start=448' has dtype incompatible with float64, please explicitly cast to a compatible dtype first.\n",
      "  df_temp.loc[0, 'Url'] = url\n"
     ]
    },
    {
     "name": "stdout",
     "output_type": "stream",
     "text": [
      "https://ecatalog.smpcorp.com/V2/STD/api/part/partsearch?filterType=n&searchType=p&imageSize=80&limit=1&sort=3&catFilter=-All-&yearFilter=-All-&makeFilter=-All-&modelFilter=-All-&engineFilter=-All-&attrCodeFilter=-All-&attrValueFilter=-All-&plkEngineMakeFilter=-All-&plkEngineModelFilter=-All-&plkEngineDispFilter=-All-&filter=Accelerator%20Pedal%20Sensor%20(APS)&start=449  <->  [ok] - 剩余数量：11\n",
      "https://ecatalog.smpcorp.com/V2/STD/api/part/partsearch?filterType=n&searchType=p&imageSize=80&limit=1&sort=3&catFilter=-All-&yearFilter=-All-&makeFilter=-All-&modelFilter=-All-&engineFilter=-All-&attrCodeFilter=-All-&attrValueFilter=-All-&plkEngineMakeFilter=-All-&plkEngineModelFilter=-All-&plkEngineDispFilter=-All-&filter=Accelerator%20Pedal%20Sensor%20(APS)&start=443  <->  [ok] - 剩余数量：10\n",
      "https://ecatalog.smpcorp.com/V2/STD/api/part/partsearch?filterType=n&searchType=p&imageSize=80&limit=1&sort=3&catFilter=-All-&yearFilter=-All-&makeFilter=-All-&modelFilter=-All-&engineFilter=-All-&attrCodeFilter=-All-&attrValueFilter=-All-&plkEngineMakeFilter=-All-&plkEngineModelFilter=-All-&plkEngineDispFilter=-All-&filter=Accelerator%20Pedal%20Sensor%20(APS)&start=448  <->  [ok] - 剩余数量：9\n"
     ]
    },
    {
     "name": "stderr",
     "output_type": "stream",
     "text": [
      "C:\\Users\\YangTeng\\AppData\\Local\\Temp\\ipykernel_2604\\3929323490.py:58: FutureWarning: Setting an item of incompatible dtype is deprecated and will raise in a future error of pandas. Value 'ok' has dtype incompatible with float64, please explicitly cast to a compatible dtype first.\n",
      "  df_temp.loc[0, 'status'] = 'ok'\n",
      "C:\\Users\\YangTeng\\AppData\\Local\\Temp\\ipykernel_2604\\3929323490.py:59: FutureWarning: Setting an item of incompatible dtype is deprecated and will raise in a future error of pandas. Value 'https://ecatalog.smpcorp.com/V2/STD/api/part/partsearch?filterType=n&searchType=p&imageSize=80&limit=1&sort=3&catFilter=-All-&yearFilter=-All-&makeFilter=-All-&modelFilter=-All-&engineFilter=-All-&attrCodeFilter=-All-&attrValueFilter=-All-&plkEngineMakeFilter=-All-&plkEngineModelFilter=-All-&plkEngineDispFilter=-All-&filter=Accelerator%20Pedal%20Sensor%20(APS)&start=445' has dtype incompatible with float64, please explicitly cast to a compatible dtype first.\n",
      "  df_temp.loc[0, 'Url'] = url\n",
      "C:\\Users\\YangTeng\\AppData\\Local\\Temp\\ipykernel_2604\\3929323490.py:58: FutureWarning: Setting an item of incompatible dtype is deprecated and will raise in a future error of pandas. Value 'ok' has dtype incompatible with float64, please explicitly cast to a compatible dtype first.\n",
      "  df_temp.loc[0, 'status'] = 'ok'\n",
      "C:\\Users\\YangTeng\\AppData\\Local\\Temp\\ipykernel_2604\\3929323490.py:59: FutureWarning: Setting an item of incompatible dtype is deprecated and will raise in a future error of pandas. Value 'https://ecatalog.smpcorp.com/V2/STD/api/part/partsearch?filterType=n&searchType=p&imageSize=80&limit=1&sort=3&catFilter=-All-&yearFilter=-All-&makeFilter=-All-&modelFilter=-All-&engineFilter=-All-&attrCodeFilter=-All-&attrValueFilter=-All-&plkEngineMakeFilter=-All-&plkEngineModelFilter=-All-&plkEngineDispFilter=-All-&filter=Accelerator%20Pedal%20Sensor%20(APS)&start=444' has dtype incompatible with float64, please explicitly cast to a compatible dtype first.\n",
      "  df_temp.loc[0, 'Url'] = url\n",
      "C:\\Users\\YangTeng\\AppData\\Local\\Temp\\ipykernel_2604\\3929323490.py:58: FutureWarning: Setting an item of incompatible dtype is deprecated and will raise in a future error of pandas. Value 'ok' has dtype incompatible with float64, please explicitly cast to a compatible dtype first.\n",
      "  df_temp.loc[0, 'status'] = 'ok'\n",
      "C:\\Users\\YangTeng\\AppData\\Local\\Temp\\ipykernel_2604\\3929323490.py:59: FutureWarning: Setting an item of incompatible dtype is deprecated and will raise in a future error of pandas. Value 'https://ecatalog.smpcorp.com/V2/STD/api/part/partsearch?filterType=n&searchType=p&imageSize=80&limit=1&sort=3&catFilter=-All-&yearFilter=-All-&makeFilter=-All-&modelFilter=-All-&engineFilter=-All-&attrCodeFilter=-All-&attrValueFilter=-All-&plkEngineMakeFilter=-All-&plkEngineModelFilter=-All-&plkEngineDispFilter=-All-&filter=Accelerator%20Pedal%20Sensor%20(APS)&start=442' has dtype incompatible with float64, please explicitly cast to a compatible dtype first.\n",
      "  df_temp.loc[0, 'Url'] = url\n"
     ]
    },
    {
     "name": "stdout",
     "output_type": "stream",
     "text": [
      "https://ecatalog.smpcorp.com/V2/STD/api/part/partsearch?filterType=n&searchType=p&imageSize=80&limit=1&sort=3&catFilter=-All-&yearFilter=-All-&makeFilter=-All-&modelFilter=-All-&engineFilter=-All-&attrCodeFilter=-All-&attrValueFilter=-All-&plkEngineMakeFilter=-All-&plkEngineModelFilter=-All-&plkEngineDispFilter=-All-&filter=Accelerator%20Pedal%20Sensor%20(APS)&start=445  <->  [ok] - 剩余数量：8\n",
      "https://ecatalog.smpcorp.com/V2/STD/api/part/partsearch?filterType=n&searchType=p&imageSize=80&limit=1&sort=3&catFilter=-All-&yearFilter=-All-&makeFilter=-All-&modelFilter=-All-&engineFilter=-All-&attrCodeFilter=-All-&attrValueFilter=-All-&plkEngineMakeFilter=-All-&plkEngineModelFilter=-All-&plkEngineDispFilter=-All-&filter=Accelerator%20Pedal%20Sensor%20(APS)&start=444  <->  [ok] - 剩余数量：7\n",
      "https://ecatalog.smpcorp.com/V2/STD/api/part/partsearch?filterType=n&searchType=p&imageSize=80&limit=1&sort=3&catFilter=-All-&yearFilter=-All-&makeFilter=-All-&modelFilter=-All-&engineFilter=-All-&attrCodeFilter=-All-&attrValueFilter=-All-&plkEngineMakeFilter=-All-&plkEngineModelFilter=-All-&plkEngineDispFilter=-All-&filter=Accelerator%20Pedal%20Sensor%20(APS)&start=442  <->  [ok] - 剩余数量：6\n"
     ]
    },
    {
     "name": "stderr",
     "output_type": "stream",
     "text": [
      "C:\\Users\\YangTeng\\AppData\\Local\\Temp\\ipykernel_2604\\3929323490.py:58: FutureWarning: Setting an item of incompatible dtype is deprecated and will raise in a future error of pandas. Value 'ok' has dtype incompatible with float64, please explicitly cast to a compatible dtype first.\n",
      "  df_temp.loc[0, 'status'] = 'ok'\n",
      "C:\\Users\\YangTeng\\AppData\\Local\\Temp\\ipykernel_2604\\3929323490.py:59: FutureWarning: Setting an item of incompatible dtype is deprecated and will raise in a future error of pandas. Value 'https://ecatalog.smpcorp.com/V2/STD/api/part/partsearch?filterType=n&searchType=p&imageSize=80&limit=1&sort=3&catFilter=-All-&yearFilter=-All-&makeFilter=-All-&modelFilter=-All-&engineFilter=-All-&attrCodeFilter=-All-&attrValueFilter=-All-&plkEngineMakeFilter=-All-&plkEngineModelFilter=-All-&plkEngineDispFilter=-All-&filter=Accelerator%20Pedal%20Sensor%20(APS)&start=446' has dtype incompatible with float64, please explicitly cast to a compatible dtype first.\n",
      "  df_temp.loc[0, 'Url'] = url\n",
      "C:\\Users\\YangTeng\\AppData\\Local\\Temp\\ipykernel_2604\\3929323490.py:58: FutureWarning: Setting an item of incompatible dtype is deprecated and will raise in a future error of pandas. Value 'ok' has dtype incompatible with float64, please explicitly cast to a compatible dtype first.\n",
      "  df_temp.loc[0, 'status'] = 'ok'\n",
      "C:\\Users\\YangTeng\\AppData\\Local\\Temp\\ipykernel_2604\\3929323490.py:59: FutureWarning: Setting an item of incompatible dtype is deprecated and will raise in a future error of pandas. Value 'https://ecatalog.smpcorp.com/V2/STD/api/part/partsearch?filterType=n&searchType=p&imageSize=80&limit=1&sort=3&catFilter=-All-&yearFilter=-All-&makeFilter=-All-&modelFilter=-All-&engineFilter=-All-&attrCodeFilter=-All-&attrValueFilter=-All-&plkEngineMakeFilter=-All-&plkEngineModelFilter=-All-&plkEngineDispFilter=-All-&filter=Accelerator%20Pedal%20Sensor%20(APS)&start=441' has dtype incompatible with float64, please explicitly cast to a compatible dtype first.\n",
      "  df_temp.loc[0, 'Url'] = url\n"
     ]
    },
    {
     "name": "stdout",
     "output_type": "stream",
     "text": [
      "https://ecatalog.smpcorp.com/V2/STD/api/part/partsearch?filterType=n&searchType=p&imageSize=80&limit=1&sort=3&catFilter=-All-&yearFilter=-All-&makeFilter=-All-&modelFilter=-All-&engineFilter=-All-&attrCodeFilter=-All-&attrValueFilter=-All-&plkEngineMakeFilter=-All-&plkEngineModelFilter=-All-&plkEngineDispFilter=-All-&filter=Accelerator%20Pedal%20Sensor%20(APS)&start=446  <->  [ok] - 剩余数量：5\n",
      "https://ecatalog.smpcorp.com/V2/STD/api/part/partsearch?filterType=n&searchType=p&imageSize=80&limit=1&sort=3&catFilter=-All-&yearFilter=-All-&makeFilter=-All-&modelFilter=-All-&engineFilter=-All-&attrCodeFilter=-All-&attrValueFilter=-All-&plkEngineMakeFilter=-All-&plkEngineModelFilter=-All-&plkEngineDispFilter=-All-&filter=Accelerator%20Pedal%20Sensor%20(APS)&start=441  <->  [ok] - 剩余数量：4\n"
     ]
    },
    {
     "name": "stderr",
     "output_type": "stream",
     "text": [
      "C:\\Users\\YangTeng\\AppData\\Local\\Temp\\ipykernel_2604\\3929323490.py:58: FutureWarning: Setting an item of incompatible dtype is deprecated and will raise in a future error of pandas. Value 'ok' has dtype incompatible with float64, please explicitly cast to a compatible dtype first.\n",
      "  df_temp.loc[0, 'status'] = 'ok'\n",
      "C:\\Users\\YangTeng\\AppData\\Local\\Temp\\ipykernel_2604\\3929323490.py:59: FutureWarning: Setting an item of incompatible dtype is deprecated and will raise in a future error of pandas. Value 'https://ecatalog.smpcorp.com/V2/STD/api/part/partsearch?filterType=n&searchType=p&imageSize=80&limit=1&sort=3&catFilter=-All-&yearFilter=-All-&makeFilter=-All-&modelFilter=-All-&engineFilter=-All-&attrCodeFilter=-All-&attrValueFilter=-All-&plkEngineMakeFilter=-All-&plkEngineModelFilter=-All-&plkEngineDispFilter=-All-&filter=Accelerator%20Pedal%20Sensor%20(APS)&start=454' has dtype incompatible with float64, please explicitly cast to a compatible dtype first.\n",
      "  df_temp.loc[0, 'Url'] = url\n",
      "C:\\Users\\YangTeng\\AppData\\Local\\Temp\\ipykernel_2604\\3929323490.py:58: FutureWarning: Setting an item of incompatible dtype is deprecated and will raise in a future error of pandas. Value 'ok' has dtype incompatible with float64, please explicitly cast to a compatible dtype first.\n",
      "  df_temp.loc[0, 'status'] = 'ok'\n",
      "C:\\Users\\YangTeng\\AppData\\Local\\Temp\\ipykernel_2604\\3929323490.py:59: FutureWarning: Setting an item of incompatible dtype is deprecated and will raise in a future error of pandas. Value 'https://ecatalog.smpcorp.com/V2/STD/api/part/partsearch?filterType=n&searchType=p&imageSize=80&limit=1&sort=3&catFilter=-All-&yearFilter=-All-&makeFilter=-All-&modelFilter=-All-&engineFilter=-All-&attrCodeFilter=-All-&attrValueFilter=-All-&plkEngineMakeFilter=-All-&plkEngineModelFilter=-All-&plkEngineDispFilter=-All-&filter=Accelerator%20Pedal%20Sensor%20(APS)&start=452' has dtype incompatible with float64, please explicitly cast to a compatible dtype first.\n",
      "  df_temp.loc[0, 'Url'] = url\n",
      "C:\\Users\\YangTeng\\AppData\\Local\\Temp\\ipykernel_2604\\3929323490.py:58: FutureWarning: Setting an item of incompatible dtype is deprecated and will raise in a future error of pandas. Value 'ok' has dtype incompatible with float64, please explicitly cast to a compatible dtype first.\n",
      "  df_temp.loc[0, 'status'] = 'ok'\n",
      "C:\\Users\\YangTeng\\AppData\\Local\\Temp\\ipykernel_2604\\3929323490.py:59: FutureWarning: Setting an item of incompatible dtype is deprecated and will raise in a future error of pandas. Value 'https://ecatalog.smpcorp.com/V2/STD/api/part/partsearch?filterType=n&searchType=p&imageSize=80&limit=1&sort=3&catFilter=-All-&yearFilter=-All-&makeFilter=-All-&modelFilter=-All-&engineFilter=-All-&attrCodeFilter=-All-&attrValueFilter=-All-&plkEngineMakeFilter=-All-&plkEngineModelFilter=-All-&plkEngineDispFilter=-All-&filter=Accelerator%20Pedal%20Sensor%20(APS)&start=450' has dtype incompatible with float64, please explicitly cast to a compatible dtype first.\n",
      "  df_temp.loc[0, 'Url'] = url\n"
     ]
    },
    {
     "name": "stdout",
     "output_type": "stream",
     "text": [
      "https://ecatalog.smpcorp.com/V2/STD/api/part/partsearch?filterType=n&searchType=p&imageSize=80&limit=1&sort=3&catFilter=-All-&yearFilter=-All-&makeFilter=-All-&modelFilter=-All-&engineFilter=-All-&attrCodeFilter=-All-&attrValueFilter=-All-&plkEngineMakeFilter=-All-&plkEngineModelFilter=-All-&plkEngineDispFilter=-All-&filter=Accelerator%20Pedal%20Sensor%20(APS)&start=454  <->  [ok] - 剩余数量：3\n",
      "https://ecatalog.smpcorp.com/V2/STD/api/part/partsearch?filterType=n&searchType=p&imageSize=80&limit=1&sort=3&catFilter=-All-&yearFilter=-All-&makeFilter=-All-&modelFilter=-All-&engineFilter=-All-&attrCodeFilter=-All-&attrValueFilter=-All-&plkEngineMakeFilter=-All-&plkEngineModelFilter=-All-&plkEngineDispFilter=-All-&filter=Accelerator%20Pedal%20Sensor%20(APS)&start=452  <->  [ok] - 剩余数量：2\n",
      "https://ecatalog.smpcorp.com/V2/STD/api/part/partsearch?filterType=n&searchType=p&imageSize=80&limit=1&sort=3&catFilter=-All-&yearFilter=-All-&makeFilter=-All-&modelFilter=-All-&engineFilter=-All-&attrCodeFilter=-All-&attrValueFilter=-All-&plkEngineMakeFilter=-All-&plkEngineModelFilter=-All-&plkEngineDispFilter=-All-&filter=Accelerator%20Pedal%20Sensor%20(APS)&start=450  <->  [ok] - 剩余数量：1\n"
     ]
    },
    {
     "name": "stderr",
     "output_type": "stream",
     "text": [
      "C:\\Users\\YangTeng\\AppData\\Local\\Temp\\ipykernel_2604\\3929323490.py:58: FutureWarning: Setting an item of incompatible dtype is deprecated and will raise in a future error of pandas. Value 'ok' has dtype incompatible with float64, please explicitly cast to a compatible dtype first.\n",
      "  df_temp.loc[0, 'status'] = 'ok'\n",
      "C:\\Users\\YangTeng\\AppData\\Local\\Temp\\ipykernel_2604\\3929323490.py:59: FutureWarning: Setting an item of incompatible dtype is deprecated and will raise in a future error of pandas. Value 'https://ecatalog.smpcorp.com/V2/STD/api/part/partsearch?filterType=n&searchType=p&imageSize=80&limit=1&sort=3&catFilter=-All-&yearFilter=-All-&makeFilter=-All-&modelFilter=-All-&engineFilter=-All-&attrCodeFilter=-All-&attrValueFilter=-All-&plkEngineMakeFilter=-All-&plkEngineModelFilter=-All-&plkEngineDispFilter=-All-&filter=Accelerator%20Pedal%20Sensor%20(APS)&start=455' has dtype incompatible with float64, please explicitly cast to a compatible dtype first.\n",
      "  df_temp.loc[0, 'Url'] = url\n",
      "C:\\Users\\YangTeng\\AppData\\Local\\Temp\\ipykernel_2604\\3929323490.py:58: FutureWarning: Setting an item of incompatible dtype is deprecated and will raise in a future error of pandas. Value 'ok' has dtype incompatible with float64, please explicitly cast to a compatible dtype first.\n",
      "  df_temp.loc[0, 'status'] = 'ok'\n",
      "C:\\Users\\YangTeng\\AppData\\Local\\Temp\\ipykernel_2604\\3929323490.py:59: FutureWarning: Setting an item of incompatible dtype is deprecated and will raise in a future error of pandas. Value 'https://ecatalog.smpcorp.com/V2/STD/api/part/partsearch?filterType=n&searchType=p&imageSize=80&limit=1&sort=3&catFilter=-All-&yearFilter=-All-&makeFilter=-All-&modelFilter=-All-&engineFilter=-All-&attrCodeFilter=-All-&attrValueFilter=-All-&plkEngineMakeFilter=-All-&plkEngineModelFilter=-All-&plkEngineDispFilter=-All-&filter=Accelerator%20Pedal%20Sensor%20(APS)&start=451' has dtype incompatible with float64, please explicitly cast to a compatible dtype first.\n",
      "  df_temp.loc[0, 'Url'] = url\n",
      "C:\\Users\\YangTeng\\AppData\\Local\\Temp\\ipykernel_2604\\3929323490.py:58: FutureWarning: Setting an item of incompatible dtype is deprecated and will raise in a future error of pandas. Value 'ok' has dtype incompatible with float64, please explicitly cast to a compatible dtype first.\n",
      "  df_temp.loc[0, 'status'] = 'ok'\n",
      "C:\\Users\\YangTeng\\AppData\\Local\\Temp\\ipykernel_2604\\3929323490.py:59: FutureWarning: Setting an item of incompatible dtype is deprecated and will raise in a future error of pandas. Value 'https://ecatalog.smpcorp.com/V2/STD/api/part/partsearch?filterType=n&searchType=p&imageSize=80&limit=1&sort=3&catFilter=-All-&yearFilter=-All-&makeFilter=-All-&modelFilter=-All-&engineFilter=-All-&attrCodeFilter=-All-&attrValueFilter=-All-&plkEngineMakeFilter=-All-&plkEngineModelFilter=-All-&plkEngineDispFilter=-All-&filter=Accelerator%20Pedal%20Sensor%20(APS)&start=447' has dtype incompatible with float64, please explicitly cast to a compatible dtype first.\n",
      "  df_temp.loc[0, 'Url'] = url\n"
     ]
    },
    {
     "name": "stdout",
     "output_type": "stream",
     "text": [
      "https://ecatalog.smpcorp.com/V2/STD/api/part/partsearch?filterType=n&searchType=p&imageSize=80&limit=1&sort=3&catFilter=-All-&yearFilter=-All-&makeFilter=-All-&modelFilter=-All-&engineFilter=-All-&attrCodeFilter=-All-&attrValueFilter=-All-&plkEngineMakeFilter=-All-&plkEngineModelFilter=-All-&plkEngineDispFilter=-All-&filter=Accelerator%20Pedal%20Sensor%20(APS)&start=455  <->  [ok] - 剩余数量：0\n",
      "https://ecatalog.smpcorp.com/V2/STD/api/part/partsearch?filterType=n&searchType=p&imageSize=80&limit=1&sort=3&catFilter=-All-&yearFilter=-All-&makeFilter=-All-&modelFilter=-All-&engineFilter=-All-&attrCodeFilter=-All-&attrValueFilter=-All-&plkEngineMakeFilter=-All-&plkEngineModelFilter=-All-&plkEngineDispFilter=-All-&filter=Accelerator%20Pedal%20Sensor%20(APS)&start=451  <->  [ok] - 剩余数量：0\n",
      "https://ecatalog.smpcorp.com/V2/STD/api/part/partsearch?filterType=n&searchType=p&imageSize=80&limit=1&sort=3&catFilter=-All-&yearFilter=-All-&makeFilter=-All-&modelFilter=-All-&engineFilter=-All-&attrCodeFilter=-All-&attrValueFilter=-All-&plkEngineMakeFilter=-All-&plkEngineModelFilter=-All-&plkEngineDispFilter=-All-&filter=Accelerator%20Pedal%20Sensor%20(APS)&start=447  <->  [ok] - 剩余数量：0\n"
     ]
    },
    {
     "name": "stderr",
     "output_type": "stream",
     "text": [
      "C:\\Users\\YangTeng\\AppData\\Local\\Temp\\ipykernel_2604\\3929323490.py:58: FutureWarning: Setting an item of incompatible dtype is deprecated and will raise in a future error of pandas. Value 'ok' has dtype incompatible with float64, please explicitly cast to a compatible dtype first.\n",
      "  df_temp.loc[0, 'status'] = 'ok'\n",
      "C:\\Users\\YangTeng\\AppData\\Local\\Temp\\ipykernel_2604\\3929323490.py:59: FutureWarning: Setting an item of incompatible dtype is deprecated and will raise in a future error of pandas. Value 'https://ecatalog.smpcorp.com/V2/STD/api/part/partsearch?filterType=n&searchType=p&imageSize=80&limit=1&sort=3&catFilter=-All-&yearFilter=-All-&makeFilter=-All-&modelFilter=-All-&engineFilter=-All-&attrCodeFilter=-All-&attrValueFilter=-All-&plkEngineMakeFilter=-All-&plkEngineModelFilter=-All-&plkEngineDispFilter=-All-&filter=Accelerator%20Pedal%20Sensor%20(APS)&start=397' has dtype incompatible with float64, please explicitly cast to a compatible dtype first.\n",
      "  df_temp.loc[0, 'Url'] = url\n"
     ]
    },
    {
     "name": "stdout",
     "output_type": "stream",
     "text": [
      "https://ecatalog.smpcorp.com/V2/STD/api/part/partsearch?filterType=n&searchType=p&imageSize=80&limit=1&sort=3&catFilter=-All-&yearFilter=-All-&makeFilter=-All-&modelFilter=-All-&engineFilter=-All-&attrCodeFilter=-All-&attrValueFilter=-All-&plkEngineMakeFilter=-All-&plkEngineModelFilter=-All-&plkEngineDispFilter=-All-&filter=Accelerator%20Pedal%20Sensor%20(APS)&start=397  <->  [ok] - 剩余数量：0\n"
     ]
    },
    {
     "name": "stderr",
     "output_type": "stream",
     "text": [
      "C:\\Users\\YangTeng\\AppData\\Local\\Temp\\ipykernel_2604\\3929323490.py:58: FutureWarning: Setting an item of incompatible dtype is deprecated and will raise in a future error of pandas. Value 'ok' has dtype incompatible with float64, please explicitly cast to a compatible dtype first.\n",
      "  df_temp.loc[0, 'status'] = 'ok'\n",
      "C:\\Users\\YangTeng\\AppData\\Local\\Temp\\ipykernel_2604\\3929323490.py:59: FutureWarning: Setting an item of incompatible dtype is deprecated and will raise in a future error of pandas. Value 'https://ecatalog.smpcorp.com/V2/STD/api/part/partsearch?filterType=n&searchType=p&imageSize=80&limit=1&sort=3&catFilter=-All-&yearFilter=-All-&makeFilter=-All-&modelFilter=-All-&engineFilter=-All-&attrCodeFilter=-All-&attrValueFilter=-All-&plkEngineMakeFilter=-All-&plkEngineModelFilter=-All-&plkEngineDispFilter=-All-&filter=Accelerator%20Pedal%20Sensor%20(APS)&start=458' has dtype incompatible with float64, please explicitly cast to a compatible dtype first.\n",
      "  df_temp.loc[0, 'Url'] = url\n",
      "C:\\Users\\YangTeng\\AppData\\Local\\Temp\\ipykernel_2604\\3929323490.py:58: FutureWarning: Setting an item of incompatible dtype is deprecated and will raise in a future error of pandas. Value 'ok' has dtype incompatible with float64, please explicitly cast to a compatible dtype first.\n",
      "  df_temp.loc[0, 'status'] = 'ok'\n",
      "C:\\Users\\YangTeng\\AppData\\Local\\Temp\\ipykernel_2604\\3929323490.py:59: FutureWarning: Setting an item of incompatible dtype is deprecated and will raise in a future error of pandas. Value 'https://ecatalog.smpcorp.com/V2/STD/api/part/partsearch?filterType=n&searchType=p&imageSize=80&limit=1&sort=3&catFilter=-All-&yearFilter=-All-&makeFilter=-All-&modelFilter=-All-&engineFilter=-All-&attrCodeFilter=-All-&attrValueFilter=-All-&plkEngineMakeFilter=-All-&plkEngineModelFilter=-All-&plkEngineDispFilter=-All-&filter=Accelerator%20Pedal%20Sensor%20(APS)&start=456' has dtype incompatible with float64, please explicitly cast to a compatible dtype first.\n",
      "  df_temp.loc[0, 'Url'] = url\n",
      "C:\\Users\\YangTeng\\AppData\\Local\\Temp\\ipykernel_2604\\3929323490.py:58: FutureWarning: Setting an item of incompatible dtype is deprecated and will raise in a future error of pandas. Value 'ok' has dtype incompatible with float64, please explicitly cast to a compatible dtype first.\n",
      "  df_temp.loc[0, 'status'] = 'ok'\n",
      "C:\\Users\\YangTeng\\AppData\\Local\\Temp\\ipykernel_2604\\3929323490.py:59: FutureWarning: Setting an item of incompatible dtype is deprecated and will raise in a future error of pandas. Value 'https://ecatalog.smpcorp.com/V2/STD/api/part/partsearch?filterType=n&searchType=p&imageSize=80&limit=1&sort=3&catFilter=-All-&yearFilter=-All-&makeFilter=-All-&modelFilter=-All-&engineFilter=-All-&attrCodeFilter=-All-&attrValueFilter=-All-&plkEngineMakeFilter=-All-&plkEngineModelFilter=-All-&plkEngineDispFilter=-All-&filter=Accelerator%20Pedal%20Sensor%20(APS)&start=462' has dtype incompatible with float64, please explicitly cast to a compatible dtype first.\n",
      "  df_temp.loc[0, 'Url'] = url\n",
      "C:\\Users\\YangTeng\\AppData\\Local\\Temp\\ipykernel_2604\\3929323490.py:58: FutureWarning: Setting an item of incompatible dtype is deprecated and will raise in a future error of pandas. Value 'ok' has dtype incompatible with float64, please explicitly cast to a compatible dtype first.\n",
      "  df_temp.loc[0, 'status'] = 'ok'\n",
      "C:\\Users\\YangTeng\\AppData\\Local\\Temp\\ipykernel_2604\\3929323490.py:59: FutureWarning: Setting an item of incompatible dtype is deprecated and will raise in a future error of pandas. Value 'https://ecatalog.smpcorp.com/V2/STD/api/part/partsearch?filterType=n&searchType=p&imageSize=80&limit=1&sort=3&catFilter=-All-&yearFilter=-All-&makeFilter=-All-&modelFilter=-All-&engineFilter=-All-&attrCodeFilter=-All-&attrValueFilter=-All-&plkEngineMakeFilter=-All-&plkEngineModelFilter=-All-&plkEngineDispFilter=-All-&filter=Accelerator%20Pedal%20Sensor%20(APS)&start=463' has dtype incompatible with float64, please explicitly cast to a compatible dtype first.\n",
      "  df_temp.loc[0, 'Url'] = url\n"
     ]
    },
    {
     "name": "stdout",
     "output_type": "stream",
     "text": [
      "https://ecatalog.smpcorp.com/V2/STD/api/part/partsearch?filterType=n&searchType=p&imageSize=80&limit=1&sort=3&catFilter=-All-&yearFilter=-All-&makeFilter=-All-&modelFilter=-All-&engineFilter=-All-&attrCodeFilter=-All-&attrValueFilter=-All-&plkEngineMakeFilter=-All-&plkEngineModelFilter=-All-&plkEngineDispFilter=-All-&filter=Accelerator%20Pedal%20Sensor%20(APS)&start=458  <->  [ok] - 剩余数量：0\n",
      "https://ecatalog.smpcorp.com/V2/STD/api/part/partsearch?filterType=n&searchType=p&imageSize=80&limit=1&sort=3&catFilter=-All-&yearFilter=-All-&makeFilter=-All-&modelFilter=-All-&engineFilter=-All-&attrCodeFilter=-All-&attrValueFilter=-All-&plkEngineMakeFilter=-All-&plkEngineModelFilter=-All-&plkEngineDispFilter=-All-&filter=Accelerator%20Pedal%20Sensor%20(APS)&start=456  <->  [ok] - 剩余数量：0\n",
      "https://ecatalog.smpcorp.com/V2/STD/api/part/partsearch?filterType=n&searchType=p&imageSize=80&limit=1&sort=3&catFilter=-All-&yearFilter=-All-&makeFilter=-All-&modelFilter=-All-&engineFilter=-All-&attrCodeFilter=-All-&attrValueFilter=-All-&plkEngineMakeFilter=-All-&plkEngineModelFilter=-All-&plkEngineDispFilter=-All-&filter=Accelerator%20Pedal%20Sensor%20(APS)&start=462  <->  [ok] - 剩余数量：0\n",
      "https://ecatalog.smpcorp.com/V2/STD/api/part/partsearch?filterType=n&searchType=p&imageSize=80&limit=1&sort=3&catFilter=-All-&yearFilter=-All-&makeFilter=-All-&modelFilter=-All-&engineFilter=-All-&attrCodeFilter=-All-&attrValueFilter=-All-&plkEngineMakeFilter=-All-&plkEngineModelFilter=-All-&plkEngineDispFilter=-All-&filter=Accelerator%20Pedal%20Sensor%20(APS)&start=463  <->  [ok] - 剩余数量：0\n"
     ]
    },
    {
     "name": "stderr",
     "output_type": "stream",
     "text": [
      "C:\\Users\\YangTeng\\AppData\\Local\\Temp\\ipykernel_2604\\3929323490.py:58: FutureWarning: Setting an item of incompatible dtype is deprecated and will raise in a future error of pandas. Value 'ok' has dtype incompatible with float64, please explicitly cast to a compatible dtype first.\n",
      "  df_temp.loc[0, 'status'] = 'ok'\n",
      "C:\\Users\\YangTeng\\AppData\\Local\\Temp\\ipykernel_2604\\3929323490.py:59: FutureWarning: Setting an item of incompatible dtype is deprecated and will raise in a future error of pandas. Value 'https://ecatalog.smpcorp.com/V2/STD/api/part/partsearch?filterType=n&searchType=p&imageSize=80&limit=1&sort=3&catFilter=-All-&yearFilter=-All-&makeFilter=-All-&modelFilter=-All-&engineFilter=-All-&attrCodeFilter=-All-&attrValueFilter=-All-&plkEngineMakeFilter=-All-&plkEngineModelFilter=-All-&plkEngineDispFilter=-All-&filter=Accelerator%20Pedal%20Sensor%20(APS)&start=459' has dtype incompatible with float64, please explicitly cast to a compatible dtype first.\n",
      "  df_temp.loc[0, 'Url'] = url\n"
     ]
    },
    {
     "name": "stdout",
     "output_type": "stream",
     "text": [
      "https://ecatalog.smpcorp.com/V2/STD/api/part/partsearch?filterType=n&searchType=p&imageSize=80&limit=1&sort=3&catFilter=-All-&yearFilter=-All-&makeFilter=-All-&modelFilter=-All-&engineFilter=-All-&attrCodeFilter=-All-&attrValueFilter=-All-&plkEngineMakeFilter=-All-&plkEngineModelFilter=-All-&plkEngineDispFilter=-All-&filter=Accelerator%20Pedal%20Sensor%20(APS)&start=459  <->  [ok] - 剩余数量：0\n"
     ]
    },
    {
     "name": "stderr",
     "output_type": "stream",
     "text": [
      "C:\\Users\\YangTeng\\AppData\\Local\\Temp\\ipykernel_2604\\3929323490.py:58: FutureWarning: Setting an item of incompatible dtype is deprecated and will raise in a future error of pandas. Value 'ok' has dtype incompatible with float64, please explicitly cast to a compatible dtype first.\n",
      "  df_temp.loc[0, 'status'] = 'ok'\n",
      "C:\\Users\\YangTeng\\AppData\\Local\\Temp\\ipykernel_2604\\3929323490.py:59: FutureWarning: Setting an item of incompatible dtype is deprecated and will raise in a future error of pandas. Value 'https://ecatalog.smpcorp.com/V2/STD/api/part/partsearch?filterType=n&searchType=p&imageSize=80&limit=1&sort=3&catFilter=-All-&yearFilter=-All-&makeFilter=-All-&modelFilter=-All-&engineFilter=-All-&attrCodeFilter=-All-&attrValueFilter=-All-&plkEngineMakeFilter=-All-&plkEngineModelFilter=-All-&plkEngineDispFilter=-All-&filter=Accelerator%20Pedal%20Sensor%20(APS)&start=453' has dtype incompatible with float64, please explicitly cast to a compatible dtype first.\n",
      "  df_temp.loc[0, 'Url'] = url\n",
      "C:\\Users\\YangTeng\\AppData\\Local\\Temp\\ipykernel_2604\\3929323490.py:58: FutureWarning: Setting an item of incompatible dtype is deprecated and will raise in a future error of pandas. Value 'ok' has dtype incompatible with float64, please explicitly cast to a compatible dtype first.\n",
      "  df_temp.loc[0, 'status'] = 'ok'\n",
      "C:\\Users\\YangTeng\\AppData\\Local\\Temp\\ipykernel_2604\\3929323490.py:59: FutureWarning: Setting an item of incompatible dtype is deprecated and will raise in a future error of pandas. Value 'https://ecatalog.smpcorp.com/V2/STD/api/part/partsearch?filterType=n&searchType=p&imageSize=80&limit=1&sort=3&catFilter=-All-&yearFilter=-All-&makeFilter=-All-&modelFilter=-All-&engineFilter=-All-&attrCodeFilter=-All-&attrValueFilter=-All-&plkEngineMakeFilter=-All-&plkEngineModelFilter=-All-&plkEngineDispFilter=-All-&filter=Accelerator%20Pedal%20Sensor%20(APS)&start=461' has dtype incompatible with float64, please explicitly cast to a compatible dtype first.\n",
      "  df_temp.loc[0, 'Url'] = url\n"
     ]
    },
    {
     "name": "stdout",
     "output_type": "stream",
     "text": [
      "https://ecatalog.smpcorp.com/V2/STD/api/part/partsearch?filterType=n&searchType=p&imageSize=80&limit=1&sort=3&catFilter=-All-&yearFilter=-All-&makeFilter=-All-&modelFilter=-All-&engineFilter=-All-&attrCodeFilter=-All-&attrValueFilter=-All-&plkEngineMakeFilter=-All-&plkEngineModelFilter=-All-&plkEngineDispFilter=-All-&filter=Accelerator%20Pedal%20Sensor%20(APS)&start=453  <->  [ok] - 剩余数量：0\n",
      "https://ecatalog.smpcorp.com/V2/STD/api/part/partsearch?filterType=n&searchType=p&imageSize=80&limit=1&sort=3&catFilter=-All-&yearFilter=-All-&makeFilter=-All-&modelFilter=-All-&engineFilter=-All-&attrCodeFilter=-All-&attrValueFilter=-All-&plkEngineMakeFilter=-All-&plkEngineModelFilter=-All-&plkEngineDispFilter=-All-&filter=Accelerator%20Pedal%20Sensor%20(APS)&start=461  <->  [ok] - 剩余数量：0\n"
     ]
    },
    {
     "name": "stderr",
     "output_type": "stream",
     "text": [
      "C:\\Users\\YangTeng\\AppData\\Local\\Temp\\ipykernel_2604\\3929323490.py:58: FutureWarning: Setting an item of incompatible dtype is deprecated and will raise in a future error of pandas. Value 'ok' has dtype incompatible with float64, please explicitly cast to a compatible dtype first.\n",
      "  df_temp.loc[0, 'status'] = 'ok'\n",
      "C:\\Users\\YangTeng\\AppData\\Local\\Temp\\ipykernel_2604\\3929323490.py:59: FutureWarning: Setting an item of incompatible dtype is deprecated and will raise in a future error of pandas. Value 'https://ecatalog.smpcorp.com/V2/STD/api/part/partsearch?filterType=n&searchType=p&imageSize=80&limit=1&sort=3&catFilter=-All-&yearFilter=-All-&makeFilter=-All-&modelFilter=-All-&engineFilter=-All-&attrCodeFilter=-All-&attrValueFilter=-All-&plkEngineMakeFilter=-All-&plkEngineModelFilter=-All-&plkEngineDispFilter=-All-&filter=Accelerator%20Pedal%20Sensor%20(APS)&start=466' has dtype incompatible with float64, please explicitly cast to a compatible dtype first.\n",
      "  df_temp.loc[0, 'Url'] = url\n",
      "C:\\Users\\YangTeng\\AppData\\Local\\Temp\\ipykernel_2604\\3929323490.py:58: FutureWarning: Setting an item of incompatible dtype is deprecated and will raise in a future error of pandas. Value 'ok' has dtype incompatible with float64, please explicitly cast to a compatible dtype first.\n",
      "  df_temp.loc[0, 'status'] = 'ok'\n",
      "C:\\Users\\YangTeng\\AppData\\Local\\Temp\\ipykernel_2604\\3929323490.py:59: FutureWarning: Setting an item of incompatible dtype is deprecated and will raise in a future error of pandas. Value 'https://ecatalog.smpcorp.com/V2/STD/api/part/partsearch?filterType=n&searchType=p&imageSize=80&limit=1&sort=3&catFilter=-All-&yearFilter=-All-&makeFilter=-All-&modelFilter=-All-&engineFilter=-All-&attrCodeFilter=-All-&attrValueFilter=-All-&plkEngineMakeFilter=-All-&plkEngineModelFilter=-All-&plkEngineDispFilter=-All-&filter=Accelerator%20Pedal%20Sensor%20(APS)&start=465' has dtype incompatible with float64, please explicitly cast to a compatible dtype first.\n",
      "  df_temp.loc[0, 'Url'] = url\n",
      "C:\\Users\\YangTeng\\AppData\\Local\\Temp\\ipykernel_2604\\3929323490.py:58: FutureWarning: Setting an item of incompatible dtype is deprecated and will raise in a future error of pandas. Value 'ok' has dtype incompatible with float64, please explicitly cast to a compatible dtype first.\n",
      "  df_temp.loc[0, 'status'] = 'ok'\n",
      "C:\\Users\\YangTeng\\AppData\\Local\\Temp\\ipykernel_2604\\3929323490.py:59: FutureWarning: Setting an item of incompatible dtype is deprecated and will raise in a future error of pandas. Value 'https://ecatalog.smpcorp.com/V2/STD/api/part/partsearch?filterType=n&searchType=p&imageSize=80&limit=1&sort=3&catFilter=-All-&yearFilter=-All-&makeFilter=-All-&modelFilter=-All-&engineFilter=-All-&attrCodeFilter=-All-&attrValueFilter=-All-&plkEngineMakeFilter=-All-&plkEngineModelFilter=-All-&plkEngineDispFilter=-All-&filter=Accelerator%20Pedal%20Sensor%20(APS)&start=464' has dtype incompatible with float64, please explicitly cast to a compatible dtype first.\n",
      "  df_temp.loc[0, 'Url'] = url\n"
     ]
    },
    {
     "name": "stdout",
     "output_type": "stream",
     "text": [
      "https://ecatalog.smpcorp.com/V2/STD/api/part/partsearch?filterType=n&searchType=p&imageSize=80&limit=1&sort=3&catFilter=-All-&yearFilter=-All-&makeFilter=-All-&modelFilter=-All-&engineFilter=-All-&attrCodeFilter=-All-&attrValueFilter=-All-&plkEngineMakeFilter=-All-&plkEngineModelFilter=-All-&plkEngineDispFilter=-All-&filter=Accelerator%20Pedal%20Sensor%20(APS)&start=466  <->  [ok] - 剩余数量：0\n",
      "https://ecatalog.smpcorp.com/V2/STD/api/part/partsearch?filterType=n&searchType=p&imageSize=80&limit=1&sort=3&catFilter=-All-&yearFilter=-All-&makeFilter=-All-&modelFilter=-All-&engineFilter=-All-&attrCodeFilter=-All-&attrValueFilter=-All-&plkEngineMakeFilter=-All-&plkEngineModelFilter=-All-&plkEngineDispFilter=-All-&filter=Accelerator%20Pedal%20Sensor%20(APS)&start=465  <->  [ok] - 剩余数量：0\n",
      "https://ecatalog.smpcorp.com/V2/STD/api/part/partsearch?filterType=n&searchType=p&imageSize=80&limit=1&sort=3&catFilter=-All-&yearFilter=-All-&makeFilter=-All-&modelFilter=-All-&engineFilter=-All-&attrCodeFilter=-All-&attrValueFilter=-All-&plkEngineMakeFilter=-All-&plkEngineModelFilter=-All-&plkEngineDispFilter=-All-&filter=Accelerator%20Pedal%20Sensor%20(APS)&start=464  <->  [ok] - 剩余数量：0\n"
     ]
    },
    {
     "name": "stderr",
     "output_type": "stream",
     "text": [
      "C:\\Users\\YangTeng\\AppData\\Local\\Temp\\ipykernel_2604\\3929323490.py:58: FutureWarning: Setting an item of incompatible dtype is deprecated and will raise in a future error of pandas. Value 'ok' has dtype incompatible with float64, please explicitly cast to a compatible dtype first.\n",
      "  df_temp.loc[0, 'status'] = 'ok'\n",
      "C:\\Users\\YangTeng\\AppData\\Local\\Temp\\ipykernel_2604\\3929323490.py:59: FutureWarning: Setting an item of incompatible dtype is deprecated and will raise in a future error of pandas. Value 'https://ecatalog.smpcorp.com/V2/STD/api/part/partsearch?filterType=n&searchType=p&imageSize=80&limit=1&sort=3&catFilter=-All-&yearFilter=-All-&makeFilter=-All-&modelFilter=-All-&engineFilter=-All-&attrCodeFilter=-All-&attrValueFilter=-All-&plkEngineMakeFilter=-All-&plkEngineModelFilter=-All-&plkEngineDispFilter=-All-&filter=Accelerator%20Pedal%20Sensor%20(APS)&start=457' has dtype incompatible with float64, please explicitly cast to a compatible dtype first.\n",
      "  df_temp.loc[0, 'Url'] = url\n",
      "C:\\Users\\YangTeng\\AppData\\Local\\Temp\\ipykernel_2604\\3929323490.py:58: FutureWarning: Setting an item of incompatible dtype is deprecated and will raise in a future error of pandas. Value 'ok' has dtype incompatible with float64, please explicitly cast to a compatible dtype first.\n",
      "  df_temp.loc[0, 'status'] = 'ok'\n",
      "C:\\Users\\YangTeng\\AppData\\Local\\Temp\\ipykernel_2604\\3929323490.py:59: FutureWarning: Setting an item of incompatible dtype is deprecated and will raise in a future error of pandas. Value 'https://ecatalog.smpcorp.com/V2/STD/api/part/partsearch?filterType=n&searchType=p&imageSize=80&limit=1&sort=3&catFilter=-All-&yearFilter=-All-&makeFilter=-All-&modelFilter=-All-&engineFilter=-All-&attrCodeFilter=-All-&attrValueFilter=-All-&plkEngineMakeFilter=-All-&plkEngineModelFilter=-All-&plkEngineDispFilter=-All-&filter=Accelerator%20Pedal%20Sensor%20(APS)&start=440' has dtype incompatible with float64, please explicitly cast to a compatible dtype first.\n",
      "  df_temp.loc[0, 'Url'] = url\n"
     ]
    },
    {
     "name": "stdout",
     "output_type": "stream",
     "text": [
      "https://ecatalog.smpcorp.com/V2/STD/api/part/partsearch?filterType=n&searchType=p&imageSize=80&limit=1&sort=3&catFilter=-All-&yearFilter=-All-&makeFilter=-All-&modelFilter=-All-&engineFilter=-All-&attrCodeFilter=-All-&attrValueFilter=-All-&plkEngineMakeFilter=-All-&plkEngineModelFilter=-All-&plkEngineDispFilter=-All-&filter=Accelerator%20Pedal%20Sensor%20(APS)&start=457  <->  [ok] - 剩余数量：0\n",
      "https://ecatalog.smpcorp.com/V2/STD/api/part/partsearch?filterType=n&searchType=p&imageSize=80&limit=1&sort=3&catFilter=-All-&yearFilter=-All-&makeFilter=-All-&modelFilter=-All-&engineFilter=-All-&attrCodeFilter=-All-&attrValueFilter=-All-&plkEngineMakeFilter=-All-&plkEngineModelFilter=-All-&plkEngineDispFilter=-All-&filter=Accelerator%20Pedal%20Sensor%20(APS)&start=440  <->  [ok] - 剩余数量：0\n"
     ]
    },
    {
     "name": "stderr",
     "output_type": "stream",
     "text": [
      "C:\\Users\\YangTeng\\AppData\\Local\\Temp\\ipykernel_2604\\3929323490.py:58: FutureWarning: Setting an item of incompatible dtype is deprecated and will raise in a future error of pandas. Value 'ok' has dtype incompatible with float64, please explicitly cast to a compatible dtype first.\n",
      "  df_temp.loc[0, 'status'] = 'ok'\n",
      "C:\\Users\\YangTeng\\AppData\\Local\\Temp\\ipykernel_2604\\3929323490.py:59: FutureWarning: Setting an item of incompatible dtype is deprecated and will raise in a future error of pandas. Value 'https://ecatalog.smpcorp.com/V2/STD/api/part/partsearch?filterType=n&searchType=p&imageSize=80&limit=1&sort=3&catFilter=-All-&yearFilter=-All-&makeFilter=-All-&modelFilter=-All-&engineFilter=-All-&attrCodeFilter=-All-&attrValueFilter=-All-&plkEngineMakeFilter=-All-&plkEngineModelFilter=-All-&plkEngineDispFilter=-All-&filter=Accelerator%20Pedal%20Sensor%20(APS)&start=433' has dtype incompatible with float64, please explicitly cast to a compatible dtype first.\n",
      "  df_temp.loc[0, 'Url'] = url\n"
     ]
    },
    {
     "name": "stdout",
     "output_type": "stream",
     "text": [
      "https://ecatalog.smpcorp.com/V2/STD/api/part/partsearch?filterType=n&searchType=p&imageSize=80&limit=1&sort=3&catFilter=-All-&yearFilter=-All-&makeFilter=-All-&modelFilter=-All-&engineFilter=-All-&attrCodeFilter=-All-&attrValueFilter=-All-&plkEngineMakeFilter=-All-&plkEngineModelFilter=-All-&plkEngineDispFilter=-All-&filter=Accelerator%20Pedal%20Sensor%20(APS)&start=433  <->  [ok] - 剩余数量：0\n"
     ]
    },
    {
     "name": "stderr",
     "output_type": "stream",
     "text": [
      "C:\\Users\\YangTeng\\AppData\\Local\\Temp\\ipykernel_2604\\3929323490.py:58: FutureWarning: Setting an item of incompatible dtype is deprecated and will raise in a future error of pandas. Value 'ok' has dtype incompatible with float64, please explicitly cast to a compatible dtype first.\n",
      "  df_temp.loc[0, 'status'] = 'ok'\n",
      "C:\\Users\\YangTeng\\AppData\\Local\\Temp\\ipykernel_2604\\3929323490.py:59: FutureWarning: Setting an item of incompatible dtype is deprecated and will raise in a future error of pandas. Value 'https://ecatalog.smpcorp.com/V2/STD/api/part/partsearch?filterType=n&searchType=p&imageSize=80&limit=1&sort=3&catFilter=-All-&yearFilter=-All-&makeFilter=-All-&modelFilter=-All-&engineFilter=-All-&attrCodeFilter=-All-&attrValueFilter=-All-&plkEngineMakeFilter=-All-&plkEngineModelFilter=-All-&plkEngineDispFilter=-All-&filter=Accelerator%20Pedal%20Sensor%20(APS)&start=460' has dtype incompatible with float64, please explicitly cast to a compatible dtype first.\n",
      "  df_temp.loc[0, 'Url'] = url\n"
     ]
    },
    {
     "name": "stdout",
     "output_type": "stream",
     "text": [
      "https://ecatalog.smpcorp.com/V2/STD/api/part/partsearch?filterType=n&searchType=p&imageSize=80&limit=1&sort=3&catFilter=-All-&yearFilter=-All-&makeFilter=-All-&modelFilter=-All-&engineFilter=-All-&attrCodeFilter=-All-&attrValueFilter=-All-&plkEngineMakeFilter=-All-&plkEngineModelFilter=-All-&plkEngineDispFilter=-All-&filter=Accelerator%20Pedal%20Sensor%20(APS)&start=460  <->  [ok] - 剩余数量：0\n"
     ]
    },
    {
     "name": "stderr",
     "output_type": "stream",
     "text": [
      "C:\\Users\\YangTeng\\AppData\\Local\\Temp\\ipykernel_2604\\3929323490.py:58: FutureWarning: Setting an item of incompatible dtype is deprecated and will raise in a future error of pandas. Value 'ok' has dtype incompatible with float64, please explicitly cast to a compatible dtype first.\n",
      "  df_temp.loc[0, 'status'] = 'ok'\n",
      "C:\\Users\\YangTeng\\AppData\\Local\\Temp\\ipykernel_2604\\3929323490.py:59: FutureWarning: Setting an item of incompatible dtype is deprecated and will raise in a future error of pandas. Value 'https://ecatalog.smpcorp.com/V2/STD/api/part/partsearch?filterType=n&searchType=p&imageSize=80&limit=1&sort=3&catFilter=-All-&yearFilter=-All-&makeFilter=-All-&modelFilter=-All-&engineFilter=-All-&attrCodeFilter=-All-&attrValueFilter=-All-&plkEngineMakeFilter=-All-&plkEngineModelFilter=-All-&plkEngineDispFilter=-All-&filter=Accelerator%20Pedal%20Sensor%20(APS)&start=7' has dtype incompatible with float64, please explicitly cast to a compatible dtype first.\n",
      "  df_temp.loc[0, 'Url'] = url\n"
     ]
    },
    {
     "name": "stdout",
     "output_type": "stream",
     "text": [
      "https://ecatalog.smpcorp.com/V2/STD/api/part/partsearch?filterType=n&searchType=p&imageSize=80&limit=1&sort=3&catFilter=-All-&yearFilter=-All-&makeFilter=-All-&modelFilter=-All-&engineFilter=-All-&attrCodeFilter=-All-&attrValueFilter=-All-&plkEngineMakeFilter=-All-&plkEngineModelFilter=-All-&plkEngineDispFilter=-All-&filter=Accelerator%20Pedal%20Sensor%20(APS)&start=7  <->  [ok] - 剩余数量：0\n"
     ]
    },
    {
     "name": "stderr",
     "output_type": "stream",
     "text": [
      "C:\\Users\\YangTeng\\AppData\\Local\\Temp\\ipykernel_2604\\3929323490.py:58: FutureWarning: Setting an item of incompatible dtype is deprecated and will raise in a future error of pandas. Value 'ok' has dtype incompatible with float64, please explicitly cast to a compatible dtype first.\n",
      "  df_temp.loc[0, 'status'] = 'ok'\n",
      "C:\\Users\\YangTeng\\AppData\\Local\\Temp\\ipykernel_2604\\3929323490.py:59: FutureWarning: Setting an item of incompatible dtype is deprecated and will raise in a future error of pandas. Value 'https://ecatalog.smpcorp.com/V2/STD/api/part/partsearch?filterType=n&searchType=p&imageSize=80&limit=1&sort=3&catFilter=-All-&yearFilter=-All-&makeFilter=-All-&modelFilter=-All-&engineFilter=-All-&attrCodeFilter=-All-&attrValueFilter=-All-&plkEngineMakeFilter=-All-&plkEngineModelFilter=-All-&plkEngineDispFilter=-All-&filter=Accelerator%20Pedal%20Sensor%20(APS)&start=334' has dtype incompatible with float64, please explicitly cast to a compatible dtype first.\n",
      "  df_temp.loc[0, 'Url'] = url\n"
     ]
    },
    {
     "name": "stdout",
     "output_type": "stream",
     "text": [
      "https://ecatalog.smpcorp.com/V2/STD/api/part/partsearch?filterType=n&searchType=p&imageSize=80&limit=1&sort=3&catFilter=-All-&yearFilter=-All-&makeFilter=-All-&modelFilter=-All-&engineFilter=-All-&attrCodeFilter=-All-&attrValueFilter=-All-&plkEngineMakeFilter=-All-&plkEngineModelFilter=-All-&plkEngineDispFilter=-All-&filter=Accelerator%20Pedal%20Sensor%20(APS)&start=334  <->  [ok] - 剩余数量：0\n",
      "\n",
      "爬虫输出中\n",
      "\n",
      "爬虫结束\n"
     ]
    },
    {
     "name": "stderr",
     "output_type": "stream",
     "text": [
      "D:\\venv\\Lib\\site-packages\\gevent\\hub.py:161: UserWarning: libuv only supports millisecond timer resolution; all times less will be set to 1 ms\n",
      "  with loop.timer(seconds, ref=ref) as t:\n"
     ]
    }
   ],
   "source": [
    "from gevent import monkey\n",
    "monkey.patch_all(thread=False)\n",
    "from gevent.queue import Queue\n",
    "import gevent\n",
    "\n",
    "import sys\n",
    "sys.path.append('../../00.module')\n",
    "import Proxy\n",
    "\n",
    "# = = = = = = = = = = = = = = =\n",
    "\n",
    "param_filter = 'Accelerator%20Pedal%20Sensor%20(APS)'\n",
    "param_len = 467\n",
    "\n",
    "list_url = ['https://ecatalog.smpcorp.com/V2/STD/api/part/partsearch?filterType=n&searchType=p&imageSize=80&limit=1&sort=3&catFilter=-All-&yearFilter=-All-&makeFilter=-All-&modelFilter=-All-&engineFilter=-All-&attrCodeFilter=-All-&attrValueFilter=-All-&plkEngineMakeFilter=-All-&plkEngineModelFilter=-All-&plkEngineDispFilter=-All-&filter=' + param_filter + '&start=' + str(_) for _ in range(param_len)]\n",
    "\n",
    "print('总数量：' + str(len(list_url)))\n",
    "print()\n",
    "\n",
    "# = = = = = = = = = = = = = = =\n",
    "\n",
    "import pandas as pd\n",
    "\n",
    "df = pd.DataFrame()\n",
    "\n",
    "# = = = = = = = = = = = = = = =\n",
    "\n",
    "import requests\n",
    "import json\n",
    "\n",
    "# = = = = = = = = = = = = = = =\n",
    "\n",
    "import time\n",
    "from datetime import datetime\n",
    "\n",
    "# = = = = = = = = = = = = = = =\n",
    "\n",
    "work = Queue()\n",
    "for url in list_url:\n",
    "    work.put_nowait(url)\n",
    "\n",
    "def crawler():\n",
    "    global df\n",
    "    \n",
    "    while not work.empty():\n",
    "        url = work.get_nowait()\n",
    "        \n",
    "        # = = = = = = = = = = = = = = =\n",
    "        \n",
    "        status = 'error'\n",
    "        for _ in range(11):\n",
    "            try:\n",
    "                resp = requests.get(url, proxies=Proxy.get_Proxy_Requests()).text\n",
    "                \n",
    "                # = = = = = = = = = = = = = = =\n",
    "                \n",
    "                df_temp = pd.DataFrame(json.loads(resp))\n",
    "                df_temp.loc[0, 'status'] = 'ok'\n",
    "                df_temp.loc[0, 'Url'] = url\n",
    "                \n",
    "                status = 'ok'\n",
    "\n",
    "                break\n",
    "                \n",
    "            except:\n",
    "                time.sleep(3)\n",
    "                continue\n",
    "                \n",
    "        # = = = = = = = = = = = = = = =\n",
    "\n",
    "        if status == 'error':\n",
    "            df_temp = pd.DataFrame([{'status': 'error',\n",
    "                                     'Url': url}])\n",
    "\n",
    "        # = = = = = = = = = = = = = = =\n",
    "\n",
    "        df = pd.concat([df, df_temp], ignore_index=True).fillna('')\n",
    "\n",
    "        print(url +  '  <->  [' + status + '] - 剩余数量：' + str(work.qsize()))\n",
    "\n",
    "# = = = = = = = = = = = = = = =\n",
    "\n",
    "list_task = []\n",
    "for _ in range(20):\n",
    "    task = gevent.spawn(crawler)\n",
    "    list_task.append(task)\n",
    "gevent.joinall(list_task)\n",
    "\n",
    "print()\n",
    "print('爬虫输出中')\n",
    "df = df[['status', 'basePart', 'rowId', 'Url']]\n",
    "df.to_excel('./menu_' + datetime.now().strftime('%Y%m%d_%H%M%S') + '.xlsx', index=False)\n",
    "print()\n",
    "print('爬虫结束')"
   ]
  },
  {
   "cell_type": "code",
   "execution_count": null,
   "id": "2fabe02d",
   "metadata": {},
   "outputs": [],
   "source": []
  }
 ],
 "metadata": {
  "kernelspec": {
   "display_name": "Python 3 (ipykernel)",
   "language": "python",
   "name": "python3"
  },
  "language_info": {
   "codemirror_mode": {
    "name": "ipython",
    "version": 3
   },
   "file_extension": ".py",
   "mimetype": "text/x-python",
   "name": "python",
   "nbconvert_exporter": "python",
   "pygments_lexer": "ipython3",
   "version": "3.11.5"
  }
 },
 "nbformat": 4,
 "nbformat_minor": 5
}
