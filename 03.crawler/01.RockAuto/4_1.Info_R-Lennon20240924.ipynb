{
 "cells": [
  {
   "cell_type": "code",
   "execution_count": 1,
   "id": "f473f4d2-c3d0-4171-b04c-a1182c142b1c",
   "metadata": {},
   "outputs": [
    {
     "data": {
      "text/plain": [
       "['crawler_1.xlsx', 'crawler_2.xlsx']"
      ]
     },
     "execution_count": 1,
     "metadata": {},
     "output_type": "execute_result"
    }
   ],
   "source": [
    "import os\n",
    "\n",
    "list_file = sorted(list(os.walk('./file/2.part'))[0][2])\n",
    "while '.DS_Store' in list_file:\n",
    "    list_file.remove('.DS_Store')\n",
    "while '0.null.txt' in list_file:\n",
    "    list_file.remove('0.null.txt')\n",
    "\n",
    "list_file"
   ]
  },
  {
   "cell_type": "code",
   "execution_count": 2,
   "id": "ae1bdbc4-52bd-4405-aa7d-d44124eff671",
   "metadata": {},
   "outputs": [
    {
     "data": {
      "text/plain": [
       "'crawler_1.xlsx'"
      ]
     },
     "execution_count": 2,
     "metadata": {},
     "output_type": "execute_result"
    }
   ],
   "source": [
    "file = list_file[0]\n",
    "\n",
    "file"
   ]
  },
  {
   "cell_type": "code",
   "execution_count": 3,
   "id": "783f89be-0cdc-4912-942e-895cc5f09840",
   "metadata": {},
   "outputs": [],
   "source": [
    "import pandas as pd\n",
    "\n",
    "output_correct, output_error = pd.DataFrame(), pd.DataFrame()"
   ]
  },
  {
   "cell_type": "code",
   "execution_count": 4,
   "id": "ab423025-90eb-4c38-b77e-9e36b1d0326d",
   "metadata": {
    "scrolled": true
   },
   "outputs": [
    {
     "name": "stdout",
     "output_type": "stream",
     "text": [
      "总数量：10\n"
     ]
    },
    {
     "data": {
      "text/plain": [
       "['https://www.rockauto.com/en/moreinfo.php?pk=8304960&cc=0&pt=5756',\n",
       " 'https://www.rockauto.com/en/moreinfo.php?pk=11158045&cc=0&pt=5756',\n",
       " 'https://www.rockauto.com/en/moreinfo.php?pk=8304968&cc=0&pt=5756',\n",
       " 'https://www.rockauto.com/en/moreinfo.php?pk=8304972&cc=0&pt=5756',\n",
       " 'https://www.rockauto.com/en/moreinfo.php?pk=8304976&cc=0&pt=5756',\n",
       " 'https://www.rockauto.com/en/moreinfo.php?pk=9658980&cc=0&pt=5756',\n",
       " 'https://www.rockauto.com/en/moreinfo.php?pk=9658984&cc=0&pt=5756',\n",
       " 'https://www.rockauto.com/en/moreinfo.php?pk=8304980&cc=0&pt=5756',\n",
       " 'https://www.rockauto.com/en/moreinfo.php?pk=10110000&cc=0&pt=5756',\n",
       " 'https://www.rockauto.com/en/moreinfo.php?pk=8304984&cc=0&pt=5756']"
      ]
     },
     "execution_count": 4,
     "metadata": {},
     "output_type": "execute_result"
    }
   ],
   "source": [
    "input_ = pd.read_excel(f'./file/2.part/{file}',\n",
    "                       header=0,\n",
    "                       dtype=str).fillna('')\n",
    "\n",
    "input_['No'] = input_['No'].astype(int)\n",
    "\n",
    "print(f'总数量：{len(input_)}')\n",
    "input_['Info'].tolist()"
   ]
  },
  {
   "cell_type": "code",
   "execution_count": 5,
   "id": "5878a9f0-d639-4123-b6e0-bc564f72c2d6",
   "metadata": {},
   "outputs": [
    {
     "data": {
      "text/plain": [
       "0"
      ]
     },
     "execution_count": 5,
     "metadata": {},
     "output_type": "execute_result"
    }
   ],
   "source": [
    "a = 0\n",
    "\n",
    "a"
   ]
  },
  {
   "cell_type": "code",
   "execution_count": 6,
   "id": "9f61dd65-55da-4d0b-ba30-d0534eff0781",
   "metadata": {},
   "outputs": [
    {
     "data": {
      "text/plain": [
       "'error'"
      ]
     },
     "execution_count": 6,
     "metadata": {},
     "output_type": "execute_result"
    }
   ],
   "source": [
    "crawler_status = 'error'\n",
    "\n",
    "crawler_status"
   ]
  },
  {
   "cell_type": "code",
   "execution_count": 7,
   "id": "4da409e7-3f13-43df-a793-74cdf33ced70",
   "metadata": {
    "scrolled": true
   },
   "outputs": [
    {
     "name": "stdout",
     "output_type": "stream",
     "text": [
      "1\n",
      "2\n",
      "3\n",
      "4\n",
      "5\n"
     ]
    },
    {
     "data": {
      "text/plain": [
       "<Response [200]>"
      ]
     },
     "execution_count": 7,
     "metadata": {},
     "output_type": "execute_result"
    }
   ],
   "source": [
    "import requests\n",
    "\n",
    "import sys\n",
    "sys.path.append('../00.Tools')\n",
    "from crawler_configuration import get_header, get_proxy\n",
    "\n",
    "from bs4 import BeautifulSoup\n",
    "from lxml import etree\n",
    "\n",
    "b = 0\n",
    "while True:\n",
    "    b += 1\n",
    "    print(b)\n",
    "    try:\n",
    "        request_url = input_.loc[a, 'Info']\n",
    "        \n",
    "        resp = requests.get(request_url,\n",
    "                            headers=get_header(),\n",
    "                            proxies=get_proxy(),\n",
    "                            timeout=(10, 10))\n",
    "        \n",
    "        if resp.status_code == 200:\n",
    "            soup = BeautifulSoup(resp.text, 'lxml')\n",
    "            html = etree.HTML(str(soup))\n",
    "\n",
    "            if html.xpath('//span[@class=\"la-btn-v\"]/text()')[0] == 'Continue Shopping':\n",
    "                with open('./info.html', 'w', encoding='UTF-8') as file:\n",
    "                    file.write(str(soup))\n",
    "                break\n",
    "    except KeyboardInterrupt:\n",
    "        break\n",
    "    except:\n",
    "        continue\n",
    "\n",
    "resp"
   ]
  },
  {
   "cell_type": "code",
   "execution_count": 8,
   "id": "b968506a-f085-4811-a9c0-9af51b6f3e80",
   "metadata": {},
   "outputs": [
    {
     "data": {
      "text/plain": [
       "{'0': {'0': 'Camshaft Sprocket Material', '1': 'High Alloy Steel'},\n",
       " '1': {'0': 'Keyway Adjustable', '1': 'No'},\n",
       " '2': {'0': 'Sprockets Included', '1': 'Yes'},\n",
       " '3': {'0': 'Timing Chain Type', '1': 'Silent'}}"
      ]
     },
     "execution_count": 8,
     "metadata": {},
     "output_type": "execute_result"
    }
   ],
   "source": [
    "import re\n",
    "\n",
    "list_tr, dict_count = html.xpath('//table[@class=\"moreinfotable\"]/tr')[1:] if html.xpath('//table[@class=\"moreinfotable\"]/tr') else [], {}\n",
    "for i, tr in enumerate(list_tr):\n",
    "    list_td = [re.sub(r'<.*?>', '', etree.tostring(td).decode('utf-8')) for td in tr.xpath('./td')]\n",
    "    list_td = [re.sub(r' +', ' ', td).strip() for td in list_td]\n",
    "    if list_td[0] in dict_count:\n",
    "        dict_count[list_td[0]] += 1\n",
    "    else:\n",
    "        dict_count[list_td[0]] = 1\n",
    "\n",
    "dict_specification, dict_no = {}, {}\n",
    "for i, tr in enumerate(list_tr):\n",
    "    dict_specification[str(i)] = {}\n",
    "\n",
    "    list_td = [re.sub(r'<.*?>', '', etree.tostring(td).decode('utf-8')) for td in tr.xpath('./td')]\n",
    "    list_td = [re.sub(r' +', ' ', td).strip() for td in list_td]\n",
    "    for j, td in enumerate(list_td):\n",
    "        if j == 0:\n",
    "            if dict_count[td] == 1:\n",
    "                dict_specification[str(i)][str(j)] = td\n",
    "            else:\n",
    "                if td in dict_no:\n",
    "                    dict_no[td] += 1\n",
    "                else:\n",
    "                    dict_no[td] = 1\n",
    "                dict_specification[str(i)][str(j)] = f'''{td}-{dict_no[td]}'''\n",
    "        else:\n",
    "            dict_specification[str(i)][str(j)] = td\n",
    "\n",
    "    if len(list_td) == 1:\n",
    "        dict_specification[str(i)]['1'] = True\n",
    "    elif len(list_td) > 2:\n",
    "        print('fuck')\n",
    "\n",
    "dict_specification"
   ]
  },
  {
   "cell_type": "code",
   "execution_count": 9,
   "id": "2450b6dc-244e-4ccb-b9fc-1f3304d06933",
   "metadata": {
    "scrolled": true
   },
   "outputs": [
    {
     "data": {
      "text/plain": [
       "{'0': {'Kit_Quantity': 1,\n",
       "  'Kit_Type': 'Timing Chain',\n",
       "  'Kit_Type Code': '5724',\n",
       "  'Kit_Part Code': '8306448',\n",
       "  'Kit_Part Number': '715F',\n",
       "  'Kit_Manufacturer': 'MELLING',\n",
       "  'Kit_Url': 'https://www.rockauto.com/en/parts/MELLING,715F,Timing Chain,5724',\n",
       "  'Kit_Info': 'https://www.rockauto.com/en/moreinfo.php?pk=8306448&cc=0&pt=5724',\n",
       "  'Kit_Json_Src': '{\"0\": \"https://www.rockauto.com/info/583/715F-1-ANG.jpg\"}',\n",
       "  'Kit_JOIN_MPNTCPC': 'MELLING;715F;5724;8306448'},\n",
       " '1': {'Kit_Quantity': 1,\n",
       "  'Kit_Type': 'Timing Chain Guide / Damper',\n",
       "  'Kit_Type Code': '5728',\n",
       "  'Kit_Part Code': '8307424',\n",
       "  'Kit_Part Number': 'BG5515',\n",
       "  'Kit_Manufacturer': 'MELLING',\n",
       "  'Kit_Url': 'https://www.rockauto.com/en/parts/MELLING,BG5515,Timing Chain Guide / Damper,5728',\n",
       "  'Kit_Info': 'https://www.rockauto.com/en/moreinfo.php?pk=8307424&cc=0&pt=5728',\n",
       "  'Kit_Json_Src': '{\"0\": \"https://www.rockauto.com/info/583/BG5515-1-SID.jpg\"}',\n",
       "  'Kit_JOIN_MPNTCPC': 'MELLING;BG5515;5728;8307424'},\n",
       " '2': {'Kit_Quantity': 1,\n",
       "  'Kit_Type': 'Timing Chain Tensioner',\n",
       "  'Kit_Type Code': '5736',\n",
       "  'Kit_Part Code': '8308132',\n",
       "  'Kit_Part Number': 'BT5514',\n",
       "  'Kit_Manufacturer': 'MELLING',\n",
       "  'Kit_Url': 'https://www.rockauto.com/en/parts/MELLING,BT5514,Timing Chain Tensioner,5736',\n",
       "  'Kit_Info': 'https://www.rockauto.com/en/moreinfo.php?pk=8308132&cc=0&pt=5736',\n",
       "  'Kit_Json_Src': '{\"0\": \"https://www.rockauto.com/info/583/BT5514-1-ANG.jpg\", \"1\": \"https://www.rockauto.com/info/583/BT5514-2-TOP.jpg\"}',\n",
       "  'Kit_JOIN_MPNTCPC': 'MELLING;BT5514;5736;8308132'},\n",
       " '3': {'Kit_Quantity': 1,\n",
       "  'Kit_Type': 'Timing Chain Guide / Damper',\n",
       "  'Kit_Type Code': '5728',\n",
       "  'Kit_Part Code': '8308292',\n",
       "  'Kit_Part Number': 'BT7015',\n",
       "  'Kit_Manufacturer': 'MELLING',\n",
       "  'Kit_Url': 'https://www.rockauto.com/en/parts/MELLING,BT7015,Timing Chain Guide / Damper,5728',\n",
       "  'Kit_Info': 'https://www.rockauto.com/en/moreinfo.php?pk=8308292&cc=0&pt=5728',\n",
       "  'Kit_Json_Src': '{\"0\": \"https://www.rockauto.com/info/583/BT7015-2-SID.jpg\", \"1\": \"https://www.rockauto.com/info/583/BT7015-1-TOP.jpg\"}',\n",
       "  'Kit_JOIN_MPNTCPC': 'MELLING;BT7015;5728;8308292'},\n",
       " '4': {'Kit_Quantity': 1,\n",
       "  'Kit_Type': 'Oil Pump Chain Tensioner',\n",
       "  'Kit_Type Code': '11860',\n",
       "  'Kit_Part Code': '8308296',\n",
       "  'Kit_Part Number': 'BT7016',\n",
       "  'Kit_Manufacturer': 'MELLING',\n",
       "  'Kit_Url': 'https://www.rockauto.com/en/parts/MELLING,BT7016,Oil Pump Chain Tensioner,11860',\n",
       "  'Kit_Info': 'https://www.rockauto.com/en/moreinfo.php?pk=8308296&cc=0&pt=11860',\n",
       "  'Kit_Json_Src': '{\"0\": \"https://www.rockauto.com/info/583/BT7016-1-TOP.jpg\", \"1\": \"https://www.rockauto.com/info/583/BT7016-2-SID.jpg\"}',\n",
       "  'Kit_JOIN_MPNTCPC': 'MELLING;BT7016;11860;8308296'},\n",
       " '5': {'Kit_Quantity': 1,\n",
       "  'Kit_Type': 'Timing Crank Sprocket',\n",
       "  'Kit_Type Code': '5723',\n",
       "  'Kit_Part Code': '8314844',\n",
       "  'Kit_Part Number': 'S899',\n",
       "  'Kit_Manufacturer': 'MELLING',\n",
       "  'Kit_Url': 'https://www.rockauto.com/en/parts/MELLING,S899,Timing Crank Sprocket,5723',\n",
       "  'Kit_Info': 'https://www.rockauto.com/en/moreinfo.php?pk=8314844&cc=0&pt=5723',\n",
       "  'Kit_Json_Src': '{\"0\": \"https://www.rockauto.com/info/583/S899-1-ANG.jpg\", \"1\": \"https://www.rockauto.com/info/583/S899-2-FRO.jpg\", \"2\": \"https://www.rockauto.com/info/583/S899-3-BAC.jpg\"}',\n",
       "  'Kit_JOIN_MPNTCPC': 'MELLING;S899;5723;8314844'},\n",
       " '6': {'Kit_Quantity': 1,\n",
       "  'Kit_Type': 'Timing Cam Sprocket',\n",
       "  'Kit_Type Code': '5722',\n",
       "  'Kit_Part Code': '8314860',\n",
       "  'Kit_Part Number': 'S906A',\n",
       "  'Kit_Manufacturer': 'MELLING',\n",
       "  'Kit_Url': 'https://www.rockauto.com/en/parts/MELLING,S906A,Timing Cam Sprocket,5722',\n",
       "  'Kit_Info': 'https://www.rockauto.com/en/moreinfo.php?pk=8314860&cc=0&pt=5722',\n",
       "  'Kit_Json_Src': '{\"0\": \"https://www.rockauto.com/info/583/S906A-1-ANG.jpg\", \"1\": \"https://www.rockauto.com/info/583/S906A-2-FRO.jpg\", \"2\": \"https://www.rockauto.com/info/583/S906A-3-BAC.jpg\"}',\n",
       "  'Kit_JOIN_MPNTCPC': 'MELLING;S906A;5722;8314860'},\n",
       " '7': {'Kit_Quantity': 1,\n",
       "  'Kit_Type': 'Oil Pump Chain',\n",
       "  'Kit_Type Code': '5568',\n",
       "  'Kit_Part Code': '8527968',\n",
       "  'Kit_Part Number': '717F',\n",
       "  'Kit_Manufacturer': 'MELLING',\n",
       "  'Kit_Url': 'https://www.rockauto.com/en/parts/MELLING,717F,Oil Pump Chain,5568',\n",
       "  'Kit_Info': 'https://www.rockauto.com/en/moreinfo.php?pk=8527968&cc=0&pt=5568',\n",
       "  'Kit_Json_Src': '{\"0\": \"https://www.rockauto.com/info/583/717F-1-ANG.jpg\"}',\n",
       "  'Kit_JOIN_MPNTCPC': 'MELLING;717F;5568;8527968'},\n",
       " '8': {'Kit_Quantity': 1,\n",
       "  'Kit_Type': 'Oil Pump Chain Guide',\n",
       "  'Kit_Type Code': '11859',\n",
       "  'Kit_Part Code': '8921276',\n",
       "  'Kit_Part Number': 'BG7019',\n",
       "  'Kit_Manufacturer': 'MELLING',\n",
       "  'Kit_Url': 'https://www.rockauto.com/en/parts/MELLING,BG7019,Oil Pump Chain Guide,11859',\n",
       "  'Kit_Info': 'https://www.rockauto.com/en/moreinfo.php?pk=8921276&cc=0&pt=11859',\n",
       "  'Kit_Json_Src': '{\"0\": \"https://www.rockauto.com/info/583/BG7019-2-SID.jpg\", \"1\": \"https://www.rockauto.com/info/583/BG7019-1-TOP.jpg\"}',\n",
       "  'Kit_JOIN_MPNTCPC': 'MELLING;BG7019;11859;8921276'},\n",
       " '9': {'Kit_Quantity': 1,\n",
       "  'Kit_Type': 'Oil Pump Sprocket',\n",
       "  'Kit_Type Code': '5589',\n",
       "  'Kit_Part Code': '8921472',\n",
       "  'Kit_Part Number': 'S905',\n",
       "  'Kit_Manufacturer': 'MELLING',\n",
       "  'Kit_Url': 'https://www.rockauto.com/en/parts/MELLING,S905,Oil Pump Sprocket,5589',\n",
       "  'Kit_Info': 'https://www.rockauto.com/en/moreinfo.php?pk=8921472&cc=0&pt=5589',\n",
       "  'Kit_Json_Src': '{\"0\": \"https://www.rockauto.com/info/583/S905-1-FRO.jpg\", \"1\": \"https://www.rockauto.com/info/583/S905-2-BAC.jpg\"}',\n",
       "  'Kit_JOIN_MPNTCPC': 'MELLING;S905;5589;8921472'}}"
      ]
     },
     "execution_count": 9,
     "metadata": {},
     "output_type": "execute_result"
    }
   ],
   "source": [
    "import json\n",
    "\n",
    "dict_kit, list_tr = {}, html.xpath('//section[contains(@aria-label, \"Components\") and contains(@aria-label, \"kit\")]/table/tbody/tr/td/table/tbody[contains(@class, \"listing-inner\") and (contains(@class, \"altrow-b-0\") or (contains(@class, \"altrow-b-1\")))]/tr')\n",
    "for i, tr in enumerate(list_tr):\n",
    "    dict_kit[str(i)] = {}\n",
    "\n",
    "    list_td = tr.xpath('./td')\n",
    "    dict_kit[str(i)]['Kit_Quantity'] = int(list_td[0].xpath('./text()')[0].strip())\n",
    "\n",
    "    # = = = = = = = = = = = = = = =\n",
    "\n",
    "    dict_kit[str(i)]['Kit_Type'] = list_td[1].xpath('./text()')[0].strip()\n",
    "\n",
    "    # = = = = = = = = = = = = = = =\n",
    "\n",
    "    dict_ = json.loads(list_td[2].xpath('./@value')[0])\n",
    "    dict_kit[str(i)]['Kit_Type Code'] = dict_['parttype']\n",
    "    dict_kit[str(i)]['Kit_Part Code'] = dict_['partkey']\n",
    "\n",
    "    # = = = = = = = = = = = = = = =\n",
    "\n",
    "    dict_2 = json.loads(tr.xpath('./input[contains(@id, \"listing_data_supplemental[\")]/@value')[0])\n",
    "    dict_kit[str(i)]['Kit_Part Number'] = dict_2['partnumber']\n",
    "    dict_kit[str(i)]['Kit_Manufacturer'] = dict_2['catalogname']\n",
    "\n",
    "    # = = = = = = = = = = = = = = =\n",
    "\n",
    "    dict_kit[str(i)]['Kit_Url'] = f'''https://www.rockauto.com/en/parts/{dict_kit[str(i)]['Kit_Manufacturer']},{dict_kit[str(i)]['Kit_Part Number']},{dict_kit[str(i)]['Kit_Type']},{dict_kit[str(i)]['Kit_Type Code']}'''\n",
    "\n",
    "    # = = = = = = = = = = = = = = =\n",
    "\n",
    "    list_info = tr.xpath('./div[@class=\"listing-text-row-moreinfo-truck\"]/a[@class=\"ra-btn ra-btn-moreinfo\"]')\n",
    "    dict_kit[str(i)]['Kit_Info'] = list_info[0].xpath('./@href')[0].strip() if list_info else ''\n",
    "    dict_kit[str(i)]['Kit_Info'] = dict_kit[str(i)]['Kit_Info'] if dict_kit[str(i)]['Kit_Info'].startswith('https://www.rockauto.com/en/moreinfo.php?') else f'''https://www.rockauto.com/en/moreinfo.php?pk={dict_kit[str(i)]['Kit_Part Code']}&cc=0&pt={dict_kit[str(i)]['Kit_Type Code']}&Lennon=1'''\n",
    "\n",
    "    # = = = = = = = = = = = = = = =\n",
    "    \n",
    "    list_src = list_td[3].xpath('./div/input[contains(@id, \"jsninlineimg[\")]')\n",
    "    dict_ = json.loads(list_src[0].xpath('./@value')[0]) if list_src else {}\n",
    "\n",
    "    dict_src = {}\n",
    "    if dict_:\n",
    "        list_src = dict_['Slots']\n",
    "        for j, src in enumerate(list_src):\n",
    "            dict_src[str(j)] = f'''https://www.rockauto.com{src['ImageData']['Full'].strip()}'''\n",
    "\n",
    "    dict_kit[str(i)]['Kit_Json_Src'] = json.dumps(dict_src)\n",
    "\n",
    "    # = = = = = = = = = = = = = = =\n",
    "\n",
    "    dict_kit[str(i)]['Kit_JOIN_MPNTCPC'] = f'''{dict_kit[str(i)]['Kit_Manufacturer']};{dict_kit[str(i)]['Kit_Part Number']};{dict_kit[str(i)]['Kit_Type Code']};{dict_kit[str(i)]['Kit_Part Code']}'''\n",
    "\n",
    "dict_kit"
   ]
  },
  {
   "cell_type": "code",
   "execution_count": 10,
   "id": "85f69e94-2d1b-4b9a-8acb-0536cc28c20f",
   "metadata": {},
   "outputs": [
    {
     "data": {
      "text/html": [
       "<div>\n",
       "<style scoped>\n",
       "    .dataframe tbody tr th:only-of-type {\n",
       "        vertical-align: middle;\n",
       "    }\n",
       "\n",
       "    .dataframe tbody tr th {\n",
       "        vertical-align: top;\n",
       "    }\n",
       "\n",
       "    .dataframe thead th {\n",
       "        text-align: right;\n",
       "    }\n",
       "</style>\n",
       "<table border=\"1\" class=\"dataframe\">\n",
       "  <thead>\n",
       "    <tr style=\"text-align: right;\">\n",
       "      <th></th>\n",
       "      <th>No</th>\n",
       "      <th>Type</th>\n",
       "      <th>Manufacturer</th>\n",
       "      <th>Part Number</th>\n",
       "      <th>Vehicle</th>\n",
       "      <th>OEM</th>\n",
       "      <th>Picture</th>\n",
       "      <th>Url</th>\n",
       "      <th>Json_Src</th>\n",
       "      <th>Info</th>\n",
       "      <th>Choose</th>\n",
       "      <th>Json_Price</th>\n",
       "      <th>Json_Note 1</th>\n",
       "      <th>Json_Note 2</th>\n",
       "      <th>Json_Specification</th>\n",
       "      <th>Json_Kit</th>\n",
       "      <th>Group</th>\n",
       "      <th>Type Code</th>\n",
       "      <th>Part Code</th>\n",
       "      <th>JOIN_MPNTCPC</th>\n",
       "    </tr>\n",
       "  </thead>\n",
       "  <tbody>\n",
       "    <tr>\n",
       "      <th>0</th>\n",
       "      <td>1</td>\n",
       "      <td>Timing Chain &amp; Component Kit</td>\n",
       "      <td>MELLING</td>\n",
       "      <td>30250S</td>\n",
       "      <td></td>\n",
       "      <td></td>\n",
       "      <td></td>\n",
       "      <td>https://www.rockauto.com/en/parts/melling,3025...</td>\n",
       "      <td>{\"0\": \"https://www.rockauto.com/info/583/3-025...</td>\n",
       "      <td>https://www.rockauto.com/en/moreinfo.php?pk=83...</td>\n",
       "      <td></td>\n",
       "      <td>{\"0\": \"$171.79\"}</td>\n",
       "      <td>{}</td>\n",
       "      <td>{\"0\": \"Category: Timing Chain &amp;amp; Component ...</td>\n",
       "      <td>{\"0\": {\"0\": \"Camshaft Sprocket Material\", \"1\":...</td>\n",
       "      <td>{\"0\": {\"Kit_Quantity\": 1, \"Kit_Type\": \"Timing ...</td>\n",
       "      <td>Engine</td>\n",
       "      <td>5756</td>\n",
       "      <td>8304960</td>\n",
       "      <td>MELLING;30250S;5756;8304960</td>\n",
       "    </tr>\n",
       "  </tbody>\n",
       "</table>\n",
       "</div>"
      ],
      "text/plain": [
       "   No                          Type Manufacturer Part Number Vehicle OEM  \\\n",
       "0   1  Timing Chain & Component Kit      MELLING      30250S               \n",
       "\n",
       "  Picture                                                Url  \\\n",
       "0          https://www.rockauto.com/en/parts/melling,3025...   \n",
       "\n",
       "                                            Json_Src  \\\n",
       "0  {\"0\": \"https://www.rockauto.com/info/583/3-025...   \n",
       "\n",
       "                                                Info Choose        Json_Price  \\\n",
       "0  https://www.rockauto.com/en/moreinfo.php?pk=83...         {\"0\": \"$171.79\"}   \n",
       "\n",
       "  Json_Note 1                                        Json_Note 2  \\\n",
       "0          {}  {\"0\": \"Category: Timing Chain &amp; Component ...   \n",
       "\n",
       "                                  Json_Specification  \\\n",
       "0  {\"0\": {\"0\": \"Camshaft Sprocket Material\", \"1\":...   \n",
       "\n",
       "                                            Json_Kit   Group Type Code  \\\n",
       "0  {\"0\": {\"Kit_Quantity\": 1, \"Kit_Type\": \"Timing ...  Engine      5756   \n",
       "\n",
       "  Part Code                 JOIN_MPNTCPC  \n",
       "0   8304960  MELLING;30250S;5756;8304960  "
      ]
     },
     "execution_count": 10,
     "metadata": {},
     "output_type": "execute_result"
    }
   ],
   "source": [
    "df_temp = pd.DataFrame([{'No': input_.loc[a, 'No'],\n",
    "                         'Type': input_.loc[a, 'Type'],\n",
    "                         'Manufacturer': input_.loc[a, 'Manufacturer'],\n",
    "                         'Part Number': input_.loc[a, 'Part Number'],\n",
    "                         'Vehicle': input_.loc[a, 'Vehicle'],\n",
    "                         'OEM': input_.loc[a, 'OEM'],\n",
    "                         'Picture': input_.loc[a, 'Picture'],\n",
    "                         'Url': input_.loc[a, 'Url'],\n",
    "                         'Json_Src': input_.loc[a, 'Json_Src'],\n",
    "                         'Info': input_.loc[a, 'Info'],\n",
    "                         'Choose': input_.loc[a, 'Choose'],\n",
    "                         'Json_Price': input_.loc[a, 'Json_Price'],\n",
    "                         'Json_Note 1': input_.loc[a, 'Json_Note 1'],\n",
    "                         'Json_Note 2': input_.loc[a, 'Json_Note 2'],\n",
    "                         'Json_Specification': json.dumps(dict_specification),\n",
    "                         'Json_Kit': json.dumps(dict_kit),\n",
    "                         'Group': input_.loc[a, 'Group'],\n",
    "                         'Type Code': input_.loc[a, 'Type Code'],\n",
    "                         'Part Code': input_.loc[a, 'Part Code'],\n",
    "                         'JOIN_MPNTCPC': input_.loc[a, 'JOIN_MPNTCPC']}])\n",
    "\n",
    "output_correct = pd.concat([output_correct, df_temp], ignore_index=True).fillna('')\n",
    "\n",
    "output_correct"
   ]
  },
  {
   "cell_type": "code",
   "execution_count": 11,
   "id": "fc4ed7f6-ed4f-431c-b944-b1690309cdae",
   "metadata": {},
   "outputs": [
    {
     "data": {
      "text/plain": [
       "'ok'"
      ]
     },
     "execution_count": 11,
     "metadata": {},
     "output_type": "execute_result"
    }
   ],
   "source": [
    "crawler_status = 'ok'\n",
    "\n",
    "crawler_status"
   ]
  },
  {
   "cell_type": "code",
   "execution_count": 12,
   "id": "65c745d1-446e-46c5-9dec-819c9f7944d3",
   "metadata": {},
   "outputs": [
    {
     "data": {
      "text/html": [
       "<div>\n",
       "<style scoped>\n",
       "    .dataframe tbody tr th:only-of-type {\n",
       "        vertical-align: middle;\n",
       "    }\n",
       "\n",
       "    .dataframe tbody tr th {\n",
       "        vertical-align: top;\n",
       "    }\n",
       "\n",
       "    .dataframe thead th {\n",
       "        text-align: right;\n",
       "    }\n",
       "</style>\n",
       "<table border=\"1\" class=\"dataframe\">\n",
       "  <thead>\n",
       "    <tr style=\"text-align: right;\">\n",
       "      <th></th>\n",
       "    </tr>\n",
       "  </thead>\n",
       "  <tbody>\n",
       "  </tbody>\n",
       "</table>\n",
       "</div>"
      ],
      "text/plain": [
       "Empty DataFrame\n",
       "Columns: []\n",
       "Index: []"
      ]
     },
     "execution_count": 12,
     "metadata": {},
     "output_type": "execute_result"
    }
   ],
   "source": [
    "if crawler_status == 'error':\n",
    "    df_temp = pd.DataFrame([input_.iloc[a]]).reset_index(drop=True)\n",
    "    df_temp.loc[0, 'Request_Url'] = request_url\n",
    "    \n",
    "    output_error = pd.concat([output_error, df_temp], ignore_index=True).fillna('')\n",
    "\n",
    "output_error"
   ]
  },
  {
   "cell_type": "code",
   "execution_count": 13,
   "id": "7fd477de",
   "metadata": {},
   "outputs": [
    {
     "data": {
      "text/html": [
       "<div>\n",
       "<style scoped>\n",
       "    .dataframe tbody tr th:only-of-type {\n",
       "        vertical-align: middle;\n",
       "    }\n",
       "\n",
       "    .dataframe tbody tr th {\n",
       "        vertical-align: top;\n",
       "    }\n",
       "\n",
       "    .dataframe thead th {\n",
       "        text-align: right;\n",
       "    }\n",
       "</style>\n",
       "<table border=\"1\" class=\"dataframe\">\n",
       "  <thead>\n",
       "    <tr style=\"text-align: right;\">\n",
       "      <th></th>\n",
       "      <th>No</th>\n",
       "      <th>Type</th>\n",
       "      <th>Manufacturer</th>\n",
       "      <th>Part Number</th>\n",
       "      <th>Vehicle</th>\n",
       "      <th>OEM</th>\n",
       "      <th>Picture</th>\n",
       "      <th>Url</th>\n",
       "      <th>Json_Src</th>\n",
       "      <th>Info</th>\n",
       "      <th>Choose</th>\n",
       "      <th>Json_Price</th>\n",
       "      <th>Json_Note 1</th>\n",
       "      <th>Json_Note 2</th>\n",
       "      <th>Json_Specification</th>\n",
       "      <th>Json_Kit</th>\n",
       "      <th>Group</th>\n",
       "      <th>Type Code</th>\n",
       "      <th>Part Code</th>\n",
       "      <th>JOIN_MPNTCPC</th>\n",
       "    </tr>\n",
       "  </thead>\n",
       "  <tbody>\n",
       "    <tr>\n",
       "      <th>0</th>\n",
       "      <td>1</td>\n",
       "      <td>Timing Chain &amp; Component Kit</td>\n",
       "      <td>MELLING</td>\n",
       "      <td>30250S</td>\n",
       "      <td></td>\n",
       "      <td></td>\n",
       "      <td></td>\n",
       "      <td>https://www.rockauto.com/en/parts/melling,3025...</td>\n",
       "      <td>{\"0\": \"https://www.rockauto.com/info/583/3-025...</td>\n",
       "      <td>https://www.rockauto.com/en/moreinfo.php?pk=83...</td>\n",
       "      <td></td>\n",
       "      <td>{\"0\": \"$171.79\"}</td>\n",
       "      <td>{}</td>\n",
       "      <td>{\"0\": \"Category: Timing Chain &amp;amp; Component ...</td>\n",
       "      <td>{\"0\": {\"0\": \"Camshaft Sprocket Material\", \"1\":...</td>\n",
       "      <td>{\"0\": {\"Kit_Quantity\": 1, \"Kit_Type\": \"Timing ...</td>\n",
       "      <td>Engine</td>\n",
       "      <td>5756</td>\n",
       "      <td>8304960</td>\n",
       "      <td>MELLING;30250S;5756;8304960</td>\n",
       "    </tr>\n",
       "  </tbody>\n",
       "</table>\n",
       "</div>"
      ],
      "text/plain": [
       "   No                          Type Manufacturer Part Number Vehicle OEM  \\\n",
       "0   1  Timing Chain & Component Kit      MELLING      30250S               \n",
       "\n",
       "  Picture                                                Url  \\\n",
       "0          https://www.rockauto.com/en/parts/melling,3025...   \n",
       "\n",
       "                                            Json_Src  \\\n",
       "0  {\"0\": \"https://www.rockauto.com/info/583/3-025...   \n",
       "\n",
       "                                                Info Choose        Json_Price  \\\n",
       "0  https://www.rockauto.com/en/moreinfo.php?pk=83...         {\"0\": \"$171.79\"}   \n",
       "\n",
       "  Json_Note 1                                        Json_Note 2  \\\n",
       "0          {}  {\"0\": \"Category: Timing Chain &amp; Component ...   \n",
       "\n",
       "                                  Json_Specification  \\\n",
       "0  {\"0\": {\"0\": \"Camshaft Sprocket Material\", \"1\":...   \n",
       "\n",
       "                                            Json_Kit   Group Type Code  \\\n",
       "0  {\"0\": {\"Kit_Quantity\": 1, \"Kit_Type\": \"Timing ...  Engine      5756   \n",
       "\n",
       "  Part Code                 JOIN_MPNTCPC  \n",
       "0   8304960  MELLING;30250S;5756;8304960  "
      ]
     },
     "execution_count": 13,
     "metadata": {},
     "output_type": "execute_result"
    }
   ],
   "source": [
    "if not output_correct.empty:\n",
    "    output_correct = output_correct.sort_values(by=['No'],\n",
    "                                                ascending=[True],\n",
    "                                                ignore_index=True)\n",
    "    output_correct.to_excel('./test_info.xlsx', index=False)\n",
    "\n",
    "output_correct"
   ]
  },
  {
   "cell_type": "code",
   "execution_count": 14,
   "id": "39a5441b-7f69-4812-aad8-7e10a1a24e78",
   "metadata": {},
   "outputs": [
    {
     "data": {
      "text/html": [
       "<div>\n",
       "<style scoped>\n",
       "    .dataframe tbody tr th:only-of-type {\n",
       "        vertical-align: middle;\n",
       "    }\n",
       "\n",
       "    .dataframe tbody tr th {\n",
       "        vertical-align: top;\n",
       "    }\n",
       "\n",
       "    .dataframe thead th {\n",
       "        text-align: right;\n",
       "    }\n",
       "</style>\n",
       "<table border=\"1\" class=\"dataframe\">\n",
       "  <thead>\n",
       "    <tr style=\"text-align: right;\">\n",
       "      <th></th>\n",
       "    </tr>\n",
       "  </thead>\n",
       "  <tbody>\n",
       "  </tbody>\n",
       "</table>\n",
       "</div>"
      ],
      "text/plain": [
       "Empty DataFrame\n",
       "Columns: []\n",
       "Index: []"
      ]
     },
     "execution_count": 14,
     "metadata": {},
     "output_type": "execute_result"
    }
   ],
   "source": [
    "if not output_error.empty:\n",
    "    output_error = output_error.sort_values(by=['No'],\n",
    "                                            ascending=[True],\n",
    "                                            ignore_index=True)\n",
    "    output_error.to_excel('./test_info_error.xlsx', index=False)\n",
    "\n",
    "output_error"
   ]
  },
  {
   "cell_type": "code",
   "execution_count": null,
   "id": "ba5d9f77-7464-4ad5-a42b-1fa0c0505832",
   "metadata": {},
   "outputs": [],
   "source": []
  }
 ],
 "metadata": {
  "kernelspec": {
   "display_name": "Python 3 (ipykernel)",
   "language": "python",
   "name": "python3"
  },
  "language_info": {
   "codemirror_mode": {
    "name": "ipython",
    "version": 3
   },
   "file_extension": ".py",
   "mimetype": "text/x-python",
   "name": "python",
   "nbconvert_exporter": "python",
   "pygments_lexer": "ipython3",
   "version": "3.11.3"
  }
 },
 "nbformat": 4,
 "nbformat_minor": 5
}
