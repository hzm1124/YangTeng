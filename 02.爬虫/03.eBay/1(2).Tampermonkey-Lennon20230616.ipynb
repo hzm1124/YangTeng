{
 "cells": [
  {
   "cell_type": "code",
   "execution_count": 1,
   "id": "14ca4672",
   "metadata": {},
   "outputs": [],
   "source": [
    "import os"
   ]
  },
  {
   "cell_type": "code",
   "execution_count": 2,
   "id": "a3369d1a",
   "metadata": {},
   "outputs": [
    {
     "data": {
      "text/plain": [
       "3"
      ]
     },
     "execution_count": 2,
     "metadata": {},
     "output_type": "execute_result"
    }
   ],
   "source": [
    "list_file = list(os.walk('./menu'))[0][2]\n",
    "if '.DS_Store' in list_file:\n",
    "   list_file.remove('.DS_Store')\n",
    "\n",
    "len(list_file)"
   ]
  },
  {
   "cell_type": "code",
   "execution_count": 3,
   "id": "552c5c8c",
   "metadata": {},
   "outputs": [],
   "source": [
    "import pandas as pd"
   ]
  },
  {
   "cell_type": "code",
   "execution_count": 4,
   "id": "19a50da8",
   "metadata": {},
   "outputs": [
    {
     "data": {
      "text/html": [
       "<div>\n",
       "<style scoped>\n",
       "    .dataframe tbody tr th:only-of-type {\n",
       "        vertical-align: middle;\n",
       "    }\n",
       "\n",
       "    .dataframe tbody tr th {\n",
       "        vertical-align: top;\n",
       "    }\n",
       "\n",
       "    .dataframe thead th {\n",
       "        text-align: right;\n",
       "    }\n",
       "</style>\n",
       "<table border=\"1\" class=\"dataframe\">\n",
       "  <thead>\n",
       "    <tr style=\"text-align: right;\">\n",
       "      <th></th>\n",
       "      <th>Item_Number</th>\n",
       "      <th>Url</th>\n",
       "    </tr>\n",
       "  </thead>\n",
       "  <tbody>\n",
       "  </tbody>\n",
       "</table>\n",
       "</div>"
      ],
      "text/plain": [
       "Empty DataFrame\n",
       "Columns: [Item_Number, Url]\n",
       "Index: []"
      ]
     },
     "execution_count": 4,
     "metadata": {},
     "output_type": "execute_result"
    }
   ],
   "source": [
    "df = pd.DataFrame(columns=['Item_Number', 'Url'])\n",
    "\n",
    "df"
   ]
  },
  {
   "cell_type": "code",
   "execution_count": 5,
   "id": "000d53d7",
   "metadata": {},
   "outputs": [],
   "source": [
    "import json"
   ]
  },
  {
   "cell_type": "code",
   "execution_count": 6,
   "id": "1d3df716",
   "metadata": {},
   "outputs": [
    {
     "name": "stdout",
     "output_type": "stream",
     "text": [
      "www.ebay.com_sch_i.html__dkr=1&iconV2Request=true&_blrs=recall_filtering&_ssn=comfortauto&store_cat=0&store_name=comfortauto&_oac=1&_nkw=a%2Fc+accumulator&_sop=16.txt\n",
      "www.ebay.com_sch_i.html__dkr=1&iconV2Request=true&_blrs=recall_filtering&_ssn=comfortauto&store_cat=0&store_name=comfortauto&_oac=1&_nkw=a%2Fc+accumulator&_sop=16&_pgn=2.txt\n",
      "www.ebay.com_sch_i.html__dkr=1&iconV2Request=true&_blrs=recall_filtering&_ssn=comfortauto&store_cat=0&store_name=comfortauto&_oac=1&_nkw=a%2Fc+accumulator&_sop=16&_pgn=3.txt\n"
     ]
    }
   ],
   "source": [
    "for file in list_file:\n",
    "    print(file)\n",
    "    with open('./menu/' + file) as f:\n",
    "        list_item = f.read()[1:-1].split('},{')\n",
    "        for i in range(len(list_item)):\n",
    "            if i == 0:\n",
    "                item = json.loads(list_item[i] + '}')\n",
    "            elif i == len(list_item) - 1:\n",
    "                item = json.loads('{' + list_item[i])\n",
    "            else:\n",
    "                item = json.loads('{' + list_item[i] + '}')\n",
    "                \n",
    "            df_temp = pd.DataFrame([{'Item_Number': item['Item_Number'],\n",
    "                                     'Url': item['Url']}])\n",
    "            df = pd.concat([df, df_temp], ignore_index=True)"
   ]
  },
  {
   "cell_type": "code",
   "execution_count": 7,
   "id": "e7c8e52b",
   "metadata": {},
   "outputs": [
    {
     "data": {
      "text/html": [
       "<div>\n",
       "<style scoped>\n",
       "    .dataframe tbody tr th:only-of-type {\n",
       "        vertical-align: middle;\n",
       "    }\n",
       "\n",
       "    .dataframe tbody tr th {\n",
       "        vertical-align: top;\n",
       "    }\n",
       "\n",
       "    .dataframe thead th {\n",
       "        text-align: right;\n",
       "    }\n",
       "</style>\n",
       "<table border=\"1\" class=\"dataframe\">\n",
       "  <thead>\n",
       "    <tr style=\"text-align: right;\">\n",
       "      <th></th>\n",
       "      <th>Item_Number</th>\n",
       "      <th>Url</th>\n",
       "    </tr>\n",
       "  </thead>\n",
       "  <tbody>\n",
       "    <tr>\n",
       "      <th>0</th>\n",
       "      <td>263483408510</td>\n",
       "      <td>https://www.ebay.com/itm/263483408510?hash=ite...</td>\n",
       "    </tr>\n",
       "    <tr>\n",
       "      <th>1</th>\n",
       "      <td>332538188340</td>\n",
       "      <td>https://www.ebay.com/itm/332538188340?hash=ite...</td>\n",
       "    </tr>\n",
       "    <tr>\n",
       "      <th>2</th>\n",
       "      <td>261152104675</td>\n",
       "      <td>https://www.ebay.com/itm/261152104675?epid=764...</td>\n",
       "    </tr>\n",
       "    <tr>\n",
       "      <th>3</th>\n",
       "      <td>231005958491</td>\n",
       "      <td>https://www.ebay.com/itm/231005958491?hash=ite...</td>\n",
       "    </tr>\n",
       "    <tr>\n",
       "      <th>4</th>\n",
       "      <td>231805587772</td>\n",
       "      <td>https://www.ebay.com/itm/231805587772?hash=ite...</td>\n",
       "    </tr>\n",
       "    <tr>\n",
       "      <th>...</th>\n",
       "      <td>...</td>\n",
       "      <td>...</td>\n",
       "    </tr>\n",
       "    <tr>\n",
       "      <th>613</th>\n",
       "      <td>261153017848</td>\n",
       "      <td>https://www.ebay.com/itm/261153017848?epid=751...</td>\n",
       "    </tr>\n",
       "    <tr>\n",
       "      <th>614</th>\n",
       "      <td>330853373343</td>\n",
       "      <td>https://www.ebay.com/itm/330853373343?hash=ite...</td>\n",
       "    </tr>\n",
       "    <tr>\n",
       "      <th>615</th>\n",
       "      <td>232327776481</td>\n",
       "      <td>https://www.ebay.com/itm/232327776481?hash=ite...</td>\n",
       "    </tr>\n",
       "    <tr>\n",
       "      <th>616</th>\n",
       "      <td>261151107680</td>\n",
       "      <td>https://www.ebay.com/itm/261151107680?epid=751...</td>\n",
       "    </tr>\n",
       "    <tr>\n",
       "      <th>617</th>\n",
       "      <td>230909610025</td>\n",
       "      <td>https://www.ebay.com/itm/230909610025?epid=789...</td>\n",
       "    </tr>\n",
       "  </tbody>\n",
       "</table>\n",
       "<p>618 rows × 2 columns</p>\n",
       "</div>"
      ],
      "text/plain": [
       "      Item_Number                                                Url\n",
       "0    263483408510  https://www.ebay.com/itm/263483408510?hash=ite...\n",
       "1    332538188340  https://www.ebay.com/itm/332538188340?hash=ite...\n",
       "2    261152104675  https://www.ebay.com/itm/261152104675?epid=764...\n",
       "3    231005958491  https://www.ebay.com/itm/231005958491?hash=ite...\n",
       "4    231805587772  https://www.ebay.com/itm/231805587772?hash=ite...\n",
       "..            ...                                                ...\n",
       "613  261153017848  https://www.ebay.com/itm/261153017848?epid=751...\n",
       "614  330853373343  https://www.ebay.com/itm/330853373343?hash=ite...\n",
       "615  232327776481  https://www.ebay.com/itm/232327776481?hash=ite...\n",
       "616  261151107680  https://www.ebay.com/itm/261151107680?epid=751...\n",
       "617  230909610025  https://www.ebay.com/itm/230909610025?epid=789...\n",
       "\n",
       "[618 rows x 2 columns]"
      ]
     },
     "execution_count": 7,
     "metadata": {},
     "output_type": "execute_result"
    }
   ],
   "source": [
    "df.to_excel('./menu.xlsx', index=False)\n",
    "\n",
    "df"
   ]
  },
  {
   "cell_type": "code",
   "execution_count": null,
   "id": "f1b946e9",
   "metadata": {},
   "outputs": [],
   "source": []
  }
 ],
 "metadata": {
  "kernelspec": {
   "display_name": "Python 3 (ipykernel)",
   "language": "python",
   "name": "python3"
  },
  "language_info": {
   "codemirror_mode": {
    "name": "ipython",
    "version": 3
   },
   "file_extension": ".py",
   "mimetype": "text/x-python",
   "name": "python",
   "nbconvert_exporter": "python",
   "pygments_lexer": "ipython3",
   "version": "3.11.3"
  }
 },
 "nbformat": 4,
 "nbformat_minor": 5
}
