{
 "cells": [
  {
   "cell_type": "code",
   "execution_count": 1,
   "id": "725c1394-16bb-449b-8a5e-2a3f06615d76",
   "metadata": {},
   "outputs": [],
   "source": [
    "import pandas as pd\n",
    "\n",
    "output_error = pd.DataFrame()"
   ]
  },
  {
   "cell_type": "code",
   "execution_count": 2,
   "id": "240b1e15-b3fb-4d5d-97e1-bc4b439d0f39",
   "metadata": {},
   "outputs": [
    {
     "name": "stdout",
     "output_type": "stream",
     "text": [
      "总数量：2\n"
     ]
    },
    {
     "data": {
      "text/plain": [
       "['https://www.amazon.com/gp/bestsellers/automotive/15730511/ref=pd_zg_hrsr_automotive',\n",
       " 'https://www.amazon.com/gp/bestsellers/wireless/7072562011/ref=pd_zg_hrsr_wireless']"
      ]
     },
     "execution_count": 2,
     "metadata": {},
     "output_type": "execute_result"
    }
   ],
   "source": [
    "input_ = pd.read_excel('./file/input.xlsx',\n",
    "                       header=0,\n",
    "                       dtype=str).fillna('')\n",
    "\n",
    "input_['No'] = input_['No'].astype(int)\n",
    "\n",
    "print(f'总数量：{len(input_)}')\n",
    "input_['Url'].tolist()"
   ]
  },
  {
   "cell_type": "code",
   "execution_count": 3,
   "id": "6652bb65-feae-4298-b8b6-a18eaedafc2e",
   "metadata": {},
   "outputs": [
    {
     "name": "stdout",
     "output_type": "stream",
     "text": [
      "1\n"
     ]
    },
    {
     "data": {
      "text/plain": [
       "<selenium.webdriver.chrome.webdriver.WebDriver (session=\"445c684b08c16996724df43a7296bafb\")>"
      ]
     },
     "execution_count": 3,
     "metadata": {},
     "output_type": "execute_result"
    }
   ],
   "source": [
    "from selenium.webdriver import ChromeOptions\n",
    "\n",
    "import sys\n",
    "sys.path.append('../00.Tools')\n",
    "from crawler_configuration import get_header, get_proxy\n",
    "\n",
    "from selenium.webdriver import Chrome\n",
    "from selenium.webdriver.chrome.service import Service\n",
    "\n",
    "option = ChromeOptions()\n",
    "option.add_experimental_option('useAutomationExtension', False)\n",
    "option.add_experimental_option('excludeSwitches', ['enable-automation'])\n",
    "option.add_argument('--disable-blink-features=AutomationControlled')\n",
    "option.add_argument('--disable-dev-shm-usage')\n",
    "option.add_argument('--disable-gpu')\n",
    "option.add_argument('--no-sandbox')\n",
    "# option.add_argument('--headless=new')\n",
    "# option.add_argument('blink-settings=imagesEnabled=false')\n",
    "option.add_argument(get_header(method='selenium'))\n",
    "option.add_argument(get_proxy(method='selenium'))\n",
    "option.page_load_strategy = 'eager'\n",
    "\n",
    "browser = Chrome(service=Service('../chromedriver'), options=option)\n",
    "browser.maximize_window()\n",
    "\n",
    "# = = = = = = = = = = = = = = =\n",
    "\n",
    "b = 0\n",
    "while True:\n",
    "    b += 1\n",
    "    print(b)\n",
    "    try:\n",
    "        browser.get('https://www.amazon.com/?language=en_US')\n",
    "        \n",
    "        break\n",
    "    except KeyboardInterrupt:\n",
    "        browser.quit()\n",
    "        break\n",
    "    except:\n",
    "        browser.quit()\n",
    "        continue\n",
    "\n",
    "browser"
   ]
  },
  {
   "cell_type": "code",
   "execution_count": 4,
   "id": "ce1458de-8c70-4e4b-9e8d-04fb3968e851",
   "metadata": {},
   "outputs": [
    {
     "name": "stdin",
     "output_type": "stream",
     "text": [
      "fuck?:  fuck\n"
     ]
    },
    {
     "data": {
      "text/plain": [
       "'fuck'"
      ]
     },
     "execution_count": 4,
     "metadata": {},
     "output_type": "execute_result"
    }
   ],
   "source": [
    "input(f'''fuck?: ''')"
   ]
  },
  {
   "cell_type": "code",
   "execution_count": 5,
   "id": "844f502a-1497-4729-a404-d95795326460",
   "metadata": {},
   "outputs": [
    {
     "data": {
      "text/plain": [
       "0"
      ]
     },
     "execution_count": 5,
     "metadata": {},
     "output_type": "execute_result"
    }
   ],
   "source": [
    "a = 0\n",
    "\n",
    "a"
   ]
  },
  {
   "cell_type": "code",
   "execution_count": 6,
   "id": "94fcde20-c3fc-45ff-887f-0ad3a867ed3e",
   "metadata": {},
   "outputs": [
    {
     "data": {
      "text/plain": [
       "'error'"
      ]
     },
     "execution_count": 6,
     "metadata": {},
     "output_type": "execute_result"
    }
   ],
   "source": [
    "crawler_status = 'error'\n",
    "\n",
    "crawler_status"
   ]
  },
  {
   "cell_type": "code",
   "execution_count": 7,
   "id": "1a1151bb-2aaa-43ae-ba8c-eda979717447",
   "metadata": {
    "scrolled": true
   },
   "outputs": [
    {
     "name": "stdout",
     "output_type": "stream",
     "text": [
      "1 1\n",
      "1 2\n"
     ]
    },
    {
     "data": {
      "text/plain": [
       "['https://www.amazon.com/dp/B08W98H7H7?language=en_US',\n",
       " 'https://www.amazon.com/dp/B08W9MX59Y?language=en_US',\n",
       " 'https://www.amazon.com/dp/B0CL91HCJF?language=en_US',\n",
       " 'https://www.amazon.com/dp/B0CC8P4YLL?language=en_US',\n",
       " 'https://www.amazon.com/dp/B009B5S5E8?language=en_US',\n",
       " 'https://www.amazon.com/dp/B09F34ZCQJ?language=en_US',\n",
       " 'https://www.amazon.com/dp/B097JWWR4V?language=en_US',\n",
       " 'https://www.amazon.com/dp/B0C61D28WR?language=en_US',\n",
       " 'https://www.amazon.com/dp/B093S8XVSL?language=en_US',\n",
       " 'https://www.amazon.com/dp/B0BY213GX3?language=en_US',\n",
       " 'https://www.amazon.com/dp/B01KHL31PW?language=en_US',\n",
       " 'https://www.amazon.com/dp/B0C7WDPGV7?language=en_US',\n",
       " 'https://www.amazon.com/dp/B0BF9SR4VN?language=en_US',\n",
       " 'https://www.amazon.com/dp/B0CZ33S81S?language=en_US',\n",
       " 'https://www.amazon.com/dp/B0CXPJJMW4?language=en_US',\n",
       " 'https://www.amazon.com/dp/B00809W1M8?language=en_US',\n",
       " 'https://www.amazon.com/dp/B09P54QWQ8?language=en_US',\n",
       " 'https://www.amazon.com/dp/B0CZDZ2N2K?language=en_US',\n",
       " 'https://www.amazon.com/dp/B0C4HTBXDL?language=en_US',\n",
       " 'https://www.amazon.com/dp/B0BPCP4XQN?language=en_US',\n",
       " 'https://www.amazon.com/dp/B006EFV6KS?language=en_US',\n",
       " 'https://www.amazon.com/dp/B08TTC1HQ3?language=en_US',\n",
       " 'https://www.amazon.com/dp/B0C81FVYS9?language=en_US',\n",
       " 'https://www.amazon.com/dp/B009TKMXV6?language=en_US',\n",
       " 'https://www.amazon.com/dp/B0C5Z9TM23?language=en_US',\n",
       " 'https://www.amazon.com/dp/B0DC41824N?language=en_US',\n",
       " 'https://www.amazon.com/dp/B0CYYYL59H?language=en_US',\n",
       " 'https://www.amazon.com/dp/B08HVK777W?language=en_US',\n",
       " 'https://www.amazon.com/dp/B00MJ3VTAG?language=en_US',\n",
       " 'https://www.amazon.com/dp/B004SJN66O?language=en_US',\n",
       " 'https://www.amazon.com/dp/B0CW2SKD6R?language=en_US',\n",
       " 'https://www.amazon.com/dp/B0BWJNZCMZ?language=en_US',\n",
       " 'https://www.amazon.com/dp/B07KFKRM26?language=en_US',\n",
       " 'https://www.amazon.com/dp/B010GO6EAE?language=en_US',\n",
       " 'https://www.amazon.com/dp/B00HQ2CBNE?language=en_US',\n",
       " 'https://www.amazon.com/dp/B0BT22K3G7?language=en_US',\n",
       " 'https://www.amazon.com/dp/B000C5C4GG?language=en_US',\n",
       " 'https://www.amazon.com/dp/B0BN3HY23Y?language=en_US',\n",
       " 'https://www.amazon.com/dp/B008B68P3O?language=en_US',\n",
       " 'https://www.amazon.com/dp/B0CQ1P4B58?language=en_US',\n",
       " 'https://www.amazon.com/dp/B0CN8J4K53?language=en_US',\n",
       " 'https://www.amazon.com/dp/B0BBY8VHG7?language=en_US',\n",
       " 'https://www.amazon.com/dp/B0CRHCPWQ9?language=en_US',\n",
       " 'https://www.amazon.com/dp/B0CHRZFQNV?language=en_US',\n",
       " 'https://www.amazon.com/dp/B0D7927R5J?language=en_US',\n",
       " 'https://www.amazon.com/dp/B09YD2YJ6M?language=en_US',\n",
       " 'https://www.amazon.com/dp/B00M370TI6?language=en_US',\n",
       " 'https://www.amazon.com/dp/B004SIXYXU?language=en_US',\n",
       " 'https://www.amazon.com/dp/B00HQ2CCCE?language=en_US',\n",
       " 'https://www.amazon.com/dp/B0D8NS2SYZ?language=en_US',\n",
       " 'https://www.amazon.com/dp/B0BYXR6L1R?language=en_US',\n",
       " 'https://www.amazon.com/dp/B0D5847ZLT?language=en_US',\n",
       " 'https://www.amazon.com/dp/B0C5XK59JD?language=en_US',\n",
       " 'https://www.amazon.com/dp/B0963B61HD?language=en_US',\n",
       " 'https://www.amazon.com/dp/B092PYD7P7?language=en_US',\n",
       " 'https://www.amazon.com/dp/B076PRPYRS?language=en_US',\n",
       " 'https://www.amazon.com/dp/B09PH13WTM?language=en_US',\n",
       " 'https://www.amazon.com/dp/B0CYLYQ8M4?language=en_US',\n",
       " 'https://www.amazon.com/dp/B089YFSSL1?language=en_US',\n",
       " 'https://www.amazon.com/dp/B0DB5QSJSH?language=en_US',\n",
       " 'https://www.amazon.com/dp/B0C6SWXZVX?language=en_US',\n",
       " 'https://www.amazon.com/dp/B09PH28FG2?language=en_US',\n",
       " 'https://www.amazon.com/dp/B01G48AJ4S?language=en_US',\n",
       " 'https://www.amazon.com/dp/B01E6G46BW?language=en_US',\n",
       " 'https://www.amazon.com/dp/B0CZ6TQ86D?language=en_US',\n",
       " 'https://www.amazon.com/dp/B09N3YPQZ2?language=en_US',\n",
       " 'https://www.amazon.com/dp/B00OU7PZCM?language=en_US',\n",
       " 'https://www.amazon.com/dp/B093Q6SV5Z?language=en_US',\n",
       " 'https://www.amazon.com/dp/B0CG7LMX28?language=en_US',\n",
       " 'https://www.amazon.com/dp/B07FZ7ZHXR?language=en_US',\n",
       " 'https://www.amazon.com/dp/B08NVLBNK8?language=en_US',\n",
       " 'https://www.amazon.com/dp/B0BZPJ6KDK?language=en_US',\n",
       " 'https://www.amazon.com/dp/B0C5ZHH3WQ?language=en_US',\n",
       " 'https://www.amazon.com/dp/B095SB3KWW?language=en_US',\n",
       " 'https://www.amazon.com/dp/B09H5JQKQJ?language=en_US',\n",
       " 'https://www.amazon.com/dp/B09TB2SSNB?language=en_US',\n",
       " 'https://www.amazon.com/dp/B01E6G23MG?language=en_US',\n",
       " 'https://www.amazon.com/dp/B0CL1SVV58?language=en_US',\n",
       " 'https://www.amazon.com/dp/B01DQ1B0ZS?language=en_US',\n",
       " 'https://www.amazon.com/dp/B09KN6WKQ9?language=en_US',\n",
       " 'https://www.amazon.com/dp/B0CDPXRFWQ?language=en_US',\n",
       " 'https://www.amazon.com/dp/B00HQ2C6KM?language=en_US',\n",
       " 'https://www.amazon.com/dp/B0DGGJKSYC?language=en_US',\n",
       " 'https://www.amazon.com/dp/B01K8IX2OO?language=en_US',\n",
       " 'https://www.amazon.com/dp/B0D388ZRTK?language=en_US',\n",
       " 'https://www.amazon.com/dp/B09J7PZLPH?language=en_US',\n",
       " 'https://www.amazon.com/dp/B0D7HQTY74?language=en_US',\n",
       " 'https://www.amazon.com/dp/B0D1435XML?language=en_US',\n",
       " 'https://www.amazon.com/dp/B0CFDSFX21?language=en_US',\n",
       " 'https://www.amazon.com/dp/B0BR4WKW3H?language=en_US',\n",
       " 'https://www.amazon.com/dp/B06XBQG6VY?language=en_US',\n",
       " 'https://www.amazon.com/dp/B0B179GW1C?language=en_US',\n",
       " 'https://www.amazon.com/dp/B09Y61GJD1?language=en_US',\n",
       " 'https://www.amazon.com/dp/B09WJQZDRN?language=en_US',\n",
       " 'https://www.amazon.com/dp/B0BW9G51RR?language=en_US',\n",
       " 'https://www.amazon.com/dp/B0C7Z4SGZW?language=en_US',\n",
       " 'https://www.amazon.com/dp/B095C2ZSK1?language=en_US',\n",
       " 'https://www.amazon.com/dp/B009TKMEQU?language=en_US',\n",
       " 'https://www.amazon.com/dp/B08P8PPP7L?language=en_US',\n",
       " 'https://www.amazon.com/dp/B004SJ02SE?language=en_US']"
      ]
     },
     "execution_count": 7,
     "metadata": {},
     "output_type": "execute_result"
    }
   ],
   "source": [
    "from bs4 import BeautifulSoup\n",
    "from lxml import etree\n",
    "\n",
    "import json\n",
    "\n",
    "url = input_.loc[a, 'Url']\n",
    "\n",
    "dict_param = {}\n",
    "list_param = url.split('?')[1].split('&') if '?' in url else []\n",
    "for param in list_param:\n",
    "    dict_param[param.split('=')[0]] = param.split('=')[1]\n",
    "\n",
    "dict_param.pop('pg', '')\n",
    "dict_param['language'] = 'en_US'\n",
    "\n",
    "url = url.split('?')[0] + '?'\n",
    "for key, value in dict_param.items():\n",
    "    url += f'{key}={value}&'\n",
    "\n",
    "list_url, page = [], 1\n",
    "while True:\n",
    "    b = 0\n",
    "    while True:\n",
    "        b += 1\n",
    "        print(b, page)\n",
    "        try:\n",
    "            request_url = f'{url}pg={page}'\n",
    "            \n",
    "            browser.get(request_url)\n",
    "            \n",
    "            soup = BeautifulSoup(browser.page_source, 'lxml')\n",
    "            html = etree.HTML(str(soup))\n",
    "\n",
    "            list_dict = json.loads(html.xpath('//div[@data-client-recs-list]/@data-client-recs-list')[0])\n",
    "\n",
    "            if list_dict:\n",
    "                break\n",
    "        except KeyboardInterrupt:\n",
    "            break\n",
    "        except:\n",
    "            continue\n",
    "\n",
    "    # = = = = = = = = = = = = = = =\n",
    "\n",
    "    list_url += [f'''https://www.amazon.com/dp/{dict_['id']}?language=en_US''' for dict_ in list_dict]\n",
    "\n",
    "    # = = = = = = = = = = = = = = =\n",
    "\n",
    "    page += 1\n",
    "\n",
    "    # = = = = = = = = = = = = = = =\n",
    "\n",
    "    if html.xpath('//li[@class=\"a-disabled a-last\"]'):\n",
    "        break\n",
    "\n",
    "list_url"
   ]
  },
  {
   "cell_type": "code",
   "execution_count": 8,
   "id": "1dd0f8fe-2c5f-4c28-ab77-f6d688071e61",
   "metadata": {},
   "outputs": [
    {
     "data": {
      "text/plain": [
       "False"
      ]
     },
     "execution_count": 8,
     "metadata": {},
     "output_type": "execute_result"
    }
   ],
   "source": [
    "len(list_url) == 0"
   ]
  },
  {
   "cell_type": "code",
   "execution_count": 9,
   "id": "a3935693-877a-413a-872a-6aaf1ff28e80",
   "metadata": {},
   "outputs": [
    {
     "data": {
      "text/html": [
       "<div>\n",
       "<style scoped>\n",
       "    .dataframe tbody tr th:only-of-type {\n",
       "        vertical-align: middle;\n",
       "    }\n",
       "\n",
       "    .dataframe tbody tr th {\n",
       "        vertical-align: top;\n",
       "    }\n",
       "\n",
       "    .dataframe thead th {\n",
       "        text-align: right;\n",
       "    }\n",
       "</style>\n",
       "<table border=\"1\" class=\"dataframe\">\n",
       "  <thead>\n",
       "    <tr style=\"text-align: right;\">\n",
       "      <th></th>\n",
       "      <th>No</th>\n",
       "      <th>Url</th>\n",
       "    </tr>\n",
       "  </thead>\n",
       "  <tbody>\n",
       "    <tr>\n",
       "      <th>0</th>\n",
       "      <td>1</td>\n",
       "      <td>https://www.amazon.com/dp/B08W98H7H7?language=...</td>\n",
       "    </tr>\n",
       "    <tr>\n",
       "      <th>1</th>\n",
       "      <td>2</td>\n",
       "      <td>https://www.amazon.com/dp/B08W9MX59Y?language=...</td>\n",
       "    </tr>\n",
       "    <tr>\n",
       "      <th>2</th>\n",
       "      <td>3</td>\n",
       "      <td>https://www.amazon.com/dp/B0CL91HCJF?language=...</td>\n",
       "    </tr>\n",
       "    <tr>\n",
       "      <th>3</th>\n",
       "      <td>4</td>\n",
       "      <td>https://www.amazon.com/dp/B0CC8P4YLL?language=...</td>\n",
       "    </tr>\n",
       "    <tr>\n",
       "      <th>4</th>\n",
       "      <td>5</td>\n",
       "      <td>https://www.amazon.com/dp/B009B5S5E8?language=...</td>\n",
       "    </tr>\n",
       "    <tr>\n",
       "      <th>...</th>\n",
       "      <td>...</td>\n",
       "      <td>...</td>\n",
       "    </tr>\n",
       "    <tr>\n",
       "      <th>95</th>\n",
       "      <td>96</td>\n",
       "      <td>https://www.amazon.com/dp/B0C7Z4SGZW?language=...</td>\n",
       "    </tr>\n",
       "    <tr>\n",
       "      <th>96</th>\n",
       "      <td>97</td>\n",
       "      <td>https://www.amazon.com/dp/B095C2ZSK1?language=...</td>\n",
       "    </tr>\n",
       "    <tr>\n",
       "      <th>97</th>\n",
       "      <td>98</td>\n",
       "      <td>https://www.amazon.com/dp/B009TKMEQU?language=...</td>\n",
       "    </tr>\n",
       "    <tr>\n",
       "      <th>98</th>\n",
       "      <td>99</td>\n",
       "      <td>https://www.amazon.com/dp/B08P8PPP7L?language=...</td>\n",
       "    </tr>\n",
       "    <tr>\n",
       "      <th>99</th>\n",
       "      <td>100</td>\n",
       "      <td>https://www.amazon.com/dp/B004SJ02SE?language=...</td>\n",
       "    </tr>\n",
       "  </tbody>\n",
       "</table>\n",
       "<p>100 rows × 2 columns</p>\n",
       "</div>"
      ],
      "text/plain": [
       "     No                                                Url\n",
       "0     1  https://www.amazon.com/dp/B08W98H7H7?language=...\n",
       "1     2  https://www.amazon.com/dp/B08W9MX59Y?language=...\n",
       "2     3  https://www.amazon.com/dp/B0CL91HCJF?language=...\n",
       "3     4  https://www.amazon.com/dp/B0CC8P4YLL?language=...\n",
       "4     5  https://www.amazon.com/dp/B009B5S5E8?language=...\n",
       "..  ...                                                ...\n",
       "95   96  https://www.amazon.com/dp/B0C7Z4SGZW?language=...\n",
       "96   97  https://www.amazon.com/dp/B095C2ZSK1?language=...\n",
       "97   98  https://www.amazon.com/dp/B009TKMEQU?language=...\n",
       "98   99  https://www.amazon.com/dp/B08P8PPP7L?language=...\n",
       "99  100  https://www.amazon.com/dp/B004SJ02SE?language=...\n",
       "\n",
       "[100 rows x 2 columns]"
      ]
     },
     "execution_count": 9,
     "metadata": {},
     "output_type": "execute_result"
    }
   ],
   "source": [
    "output = pd.DataFrame({'No': [i+1 for i in range(len(list_url))],\n",
    "                       'Url': list_url})\n",
    "\n",
    "output = output.sort_values(by=['No'],\n",
    "                            ascending=[True],\n",
    "                            ignore_index=True)\n",
    "\n",
    "output.to_excel('./test_url.xlsx', index=False)\n",
    "\n",
    "output"
   ]
  },
  {
   "cell_type": "code",
   "execution_count": 10,
   "id": "86167c66-3480-487b-ab61-147fd31b76b8",
   "metadata": {},
   "outputs": [
    {
     "data": {
      "text/plain": [
       "'ok'"
      ]
     },
     "execution_count": 10,
     "metadata": {},
     "output_type": "execute_result"
    }
   ],
   "source": [
    "crawler_status = 'ok'\n",
    "\n",
    "crawler_status"
   ]
  },
  {
   "cell_type": "code",
   "execution_count": 11,
   "id": "ecb8e302-0c08-4250-b958-3c6df188d936",
   "metadata": {},
   "outputs": [],
   "source": [
    "browser.quit()"
   ]
  },
  {
   "cell_type": "code",
   "execution_count": 12,
   "id": "649a84bb-064f-4abc-9dfb-9b8fcadd076e",
   "metadata": {},
   "outputs": [
    {
     "data": {
      "text/html": [
       "<div>\n",
       "<style scoped>\n",
       "    .dataframe tbody tr th:only-of-type {\n",
       "        vertical-align: middle;\n",
       "    }\n",
       "\n",
       "    .dataframe tbody tr th {\n",
       "        vertical-align: top;\n",
       "    }\n",
       "\n",
       "    .dataframe thead th {\n",
       "        text-align: right;\n",
       "    }\n",
       "</style>\n",
       "<table border=\"1\" class=\"dataframe\">\n",
       "  <thead>\n",
       "    <tr style=\"text-align: right;\">\n",
       "      <th></th>\n",
       "    </tr>\n",
       "  </thead>\n",
       "  <tbody>\n",
       "  </tbody>\n",
       "</table>\n",
       "</div>"
      ],
      "text/plain": [
       "Empty DataFrame\n",
       "Columns: []\n",
       "Index: []"
      ]
     },
     "execution_count": 12,
     "metadata": {},
     "output_type": "execute_result"
    }
   ],
   "source": [
    "if crawler_status == 'error':\n",
    "    df_temp = pd.DataFrame([input_.iloc[a]]).reset_index(drop=True)\n",
    "    df_temp.loc[0, 'Request_Url'] = request_url\n",
    "\n",
    "    output_error = pd.concat([output_error, df_temp], ignore_index=True).fillna('')\n",
    "\n",
    "output_error"
   ]
  },
  {
   "cell_type": "code",
   "execution_count": 13,
   "id": "35a14ebd-b020-40a4-8c45-f8ed5b08a5f0",
   "metadata": {
    "scrolled": true
   },
   "outputs": [
    {
     "data": {
      "text/html": [
       "<div>\n",
       "<style scoped>\n",
       "    .dataframe tbody tr th:only-of-type {\n",
       "        vertical-align: middle;\n",
       "    }\n",
       "\n",
       "    .dataframe tbody tr th {\n",
       "        vertical-align: top;\n",
       "    }\n",
       "\n",
       "    .dataframe thead th {\n",
       "        text-align: right;\n",
       "    }\n",
       "</style>\n",
       "<table border=\"1\" class=\"dataframe\">\n",
       "  <thead>\n",
       "    <tr style=\"text-align: right;\">\n",
       "      <th></th>\n",
       "    </tr>\n",
       "  </thead>\n",
       "  <tbody>\n",
       "  </tbody>\n",
       "</table>\n",
       "</div>"
      ],
      "text/plain": [
       "Empty DataFrame\n",
       "Columns: []\n",
       "Index: []"
      ]
     },
     "execution_count": 13,
     "metadata": {},
     "output_type": "execute_result"
    }
   ],
   "source": [
    "if not output_error.empty:\n",
    "    output_error = output_error.sort_values(by=['No'],\n",
    "                                            ascending=[False],\n",
    "                                            ignore_index=True)\n",
    "    output_error.to_excel('./test_url_error.xlsx', index=False)\n",
    "\n",
    "output_error"
   ]
  },
  {
   "cell_type": "code",
   "execution_count": null,
   "id": "65a73d55-f26c-466a-89d7-529fb5ec190b",
   "metadata": {},
   "outputs": [],
   "source": []
  }
 ],
 "metadata": {
  "kernelspec": {
   "display_name": "Python 3 (ipykernel)",
   "language": "python",
   "name": "python3"
  },
  "language_info": {
   "codemirror_mode": {
    "name": "ipython",
    "version": 3
   },
   "file_extension": ".py",
   "mimetype": "text/x-python",
   "name": "python",
   "nbconvert_exporter": "python",
   "pygments_lexer": "ipython3",
   "version": "3.11.3"
  }
 },
 "nbformat": 4,
 "nbformat_minor": 5
}
