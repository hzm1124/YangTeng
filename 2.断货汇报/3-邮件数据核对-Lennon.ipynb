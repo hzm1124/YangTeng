{
 "cells": [
  {
   "cell_type": "markdown",
   "id": "a3c15585",
   "metadata": {},
   "source": [
    "- Update: 2023.04.14"
   ]
  },
  {
   "cell_type": "code",
   "execution_count": 1,
   "id": "2b5c3a66",
   "metadata": {},
   "outputs": [],
   "source": [
    "import os\n",
    "import datetime"
   ]
  },
  {
   "cell_type": "code",
   "execution_count": 2,
   "id": "b53d7692",
   "metadata": {},
   "outputs": [
    {
     "ename": "NameError",
     "evalue": "name 'calculate' is not defined",
     "output_type": "error",
     "traceback": [
      "\u001b[1;31m---------------------------------------------------------------------------\u001b[0m",
      "\u001b[1;31mNameError\u001b[0m                                 Traceback (most recent call last)",
      "Cell \u001b[1;32mIn[2], line 6\u001b[0m\n\u001b[0;32m      3\u001b[0m     \u001b[38;5;28;01mif\u001b[39;00m \u001b[38;5;124m'\u001b[39m\u001b[38;5;124m计算表\u001b[39m\u001b[38;5;124m'\u001b[39m \u001b[38;5;129;01min\u001b[39;00m file:\n\u001b[0;32m      4\u001b[0m         calculate \u001b[38;5;241m=\u001b[39m file\n\u001b[1;32m----> 6\u001b[0m \u001b[38;5;28mprint\u001b[39m(\u001b[38;5;124mf\u001b[39m\u001b[38;5;124m'\u001b[39m\u001b[38;5;124mcalculate: \u001b[39m\u001b[38;5;130;01m\\t\u001b[39;00m\u001b[38;5;132;01m{\u001b[39;00m\u001b[43mcalculate\u001b[49m\u001b[38;5;132;01m}\u001b[39;00m\u001b[38;5;124m'\u001b[39m)\n",
      "\u001b[1;31mNameError\u001b[0m: name 'calculate' is not defined"
     ]
    }
   ],
   "source": [
    "list_file = list(os.walk('./'))[0][2]\n",
    "for file in list_file:\n",
    "    if '计算表' in file:\n",
    "        calculate = file\n",
    "\n",
    "print(f'calculate: \\t{calculate}')"
   ]
  },
  {
   "cell_type": "code",
   "execution_count": null,
   "id": "95c6eca1",
   "metadata": {},
   "outputs": [],
   "source": [
    "import pandas as pd"
   ]
  },
  {
   "cell_type": "code",
   "execution_count": null,
   "id": "69134623",
   "metadata": {},
   "outputs": [],
   "source": [
    "table_1 = pd.read_excel(calculate,\n",
    "                        sheet_name='1_断货数据分析',\n",
    "                        header=1,\n",
    "                        usecols=[i for i in range(1, 9)]).loc[:4]\n",
    "\n",
    "table_1"
   ]
  },
  {
   "cell_type": "code",
   "execution_count": null,
   "id": "4382ae36",
   "metadata": {},
   "outputs": [],
   "source": [
    "table_2 = pd.read_excel(calculate,\n",
    "                        sheet_name='1_断货数据分析',\n",
    "                        header=1,\n",
    "                        usecols=[i for i in range(10, 17)]).loc[:4]\n",
    "\n",
    "table_2"
   ]
  },
  {
   "cell_type": "code",
   "execution_count": null,
   "id": "53f2572a",
   "metadata": {},
   "outputs": [],
   "source": [
    "table_3 = pd.read_excel(calculate,\n",
    "                        sheet_name='1_断货数据分析',\n",
    "                        header=1,\n",
    "                        usecols=[i for i in range(18, 27)]).loc[:4]\n",
    "\n",
    "table_3"
   ]
  },
  {
   "cell_type": "code",
   "execution_count": null,
   "id": "ff3f0519",
   "metadata": {},
   "outputs": [],
   "source": [
    "table_4 = pd.read_excel(calculate,\n",
    "                        sheet_name='1_断货数据分析',\n",
    "                        header=1,\n",
    "                        usecols=[i for i in range(28, 33)],\n",
    "                        index_col=0)\n",
    "\n",
    "table_4"
   ]
  },
  {
   "cell_type": "code",
   "execution_count": null,
   "id": "cc50f9fa",
   "metadata": {},
   "outputs": [],
   "source": [
    "sheet_2_left = pd.read_excel(calculate,\n",
    "                             sheet_name='2_断货SKU',\n",
    "                             header=1,\n",
    "                             usecols=[i for i in range(5)],\n",
    "                             index_col=0)\n",
    "\n",
    "sheet_2_left"
   ]
  },
  {
   "cell_type": "code",
   "execution_count": null,
   "id": "c4ed897b",
   "metadata": {
    "scrolled": true
   },
   "outputs": [],
   "source": [
    "sheet_2_right = pd.read_excel(calculate,\n",
    "                              sheet_name='2_断货SKU',\n",
    "                              header=1,\n",
    "                              usecols=[i for i in range(7, 9)],\n",
    "                              index_col=0).dropna().sort_values(by=['断货数'], ascending=False)\n",
    "\n",
    "sheet_2_right"
   ]
  },
  {
   "cell_type": "code",
   "execution_count": null,
   "id": "4dfdfb1e",
   "metadata": {
    "scrolled": true
   },
   "outputs": [],
   "source": [
    "print(int(table_1.loc[4, '在库为0（断货数）']), end='; ')\n",
    "print(str(round(table_1.loc[4, '断货率']*100, 2)) + '%', end='; ')\n",
    "print(table_1.loc[table_1['断货率'].tolist().index(max(table_1['断货率'])), '层级'], end='; ')\n",
    "print(str(round(max(table_1['断货率'])*100, 2)) + '%', end='; ')\n",
    "print(table_1.loc[table_1['干预率'].tolist().index(max(table_1['干预率'])), '层级'], end='; ')\n",
    "print(str(round(max(table_1['干预率'])*100, 2)) + '%')\n",
    "print()\n",
    "print('= = = = = = = = = = = = = = = = = =')\n",
    "print()\n",
    "print(len(sheet_2_left), end='; ')\n",
    "print(sheet_2_right['断货数'].index[0], end='; ')\n",
    "print(sheet_2_right['断货数'].index[1], end='; ')\n",
    "print(sheet_2_right['断货数'].index[2], end='; ')\n",
    "print(int(sheet_2_right.iloc[0, 0]), end='; ')\n",
    "print(int(sheet_2_right.iloc[1, 0]), end='; ')\n",
    "print(int(sheet_2_right.iloc[2, 0]))\n",
    "print()\n",
    "print('= = = = = = = = = = = = = = = = = =')\n",
    "print()\n",
    "print(len(sheet_2_left[sheet_2_left['层级']=='TOP1']))"
   ]
  },
  {
   "cell_type": "code",
   "execution_count": null,
   "id": "7c5f51d6",
   "metadata": {},
   "outputs": [],
   "source": [
    "print(int(table_2.loc[4, '在库为0（断货）']), end='; ')\n",
    "print(int(table_2.loc[4, '断货无在途']), end='; ')\n",
    "print(str(round(table_2.loc[4, '占比']*100, 2)) + '%', end='; ')\n",
    "print(int(table_2.loc[4, '在库1-2（干预）']), end='; ')\n",
    "print(int(table_2.loc[4, '干预无在途']), end='; ')\n",
    "print(str(round(table_2.loc[4, '占比.1']*100, 2)) + '%')\n",
    "print()\n",
    "print('= = = = = = = = = = = = = = = = = =')\n",
    "print()\n",
    "print(int(table_2.loc[0, '在库1-2（干预）']), end='; ')\n",
    "print(int(table_2.loc[0, '干预无在途']))"
   ]
  },
  {
   "cell_type": "code",
   "execution_count": null,
   "id": "8d5233f6",
   "metadata": {},
   "outputs": [],
   "source": [
    "print('TOP1: ' + str(int(table_3.iloc[0, 8] - table_3.iloc[0, 7])))\n",
    "print('TOP10: ' + str(int(table_3.iloc[1, 8] - table_3.iloc[1, 7])))\n",
    "print('TOP20: ' + str(int(table_3.iloc[2, 8] - table_3.iloc[2, 7])))\n",
    "print('普通: ' + str(int(table_3.iloc[3, 8] - table_3.iloc[3, 7])))"
   ]
  },
  {
   "cell_type": "code",
   "execution_count": null,
   "id": "2d57f6d6",
   "metadata": {},
   "outputs": [],
   "source": [
    "print(table_4.loc['TOP1', '品类'], end='; ')\n",
    "print(table_4.loc['TOP1', '断货SKU数量'])\n",
    "print()\n",
    "print('= = = = = = = = = = = = = = = = = =')\n",
    "print()\n",
    "print(table_4.iloc[table_4['断货占比'][:10].tolist().index(max(table_4['断货占比'][:10])), 0], end='; ')\n",
    "print(table_4.iloc[table_4['断货占比'][:10].tolist().index(max(table_4['断货占比'][:10])), 2], end='; ')\n",
    "print(table_4.iloc[table_4['断货占比'][:10].tolist().index(max(table_4['断货占比'][:10])), 0], end='; ')\n",
    "print(table_4.iloc[table_4['断货占比'][:10].tolist().index(max(table_4['断货占比'][:10])), 1], end='; ')\n",
    "print(str(round(max(table_4['断货占比'][:10])*100, 2)) + '%')"
   ]
  },
  {
   "cell_type": "code",
   "execution_count": null,
   "id": "c032d49d",
   "metadata": {},
   "outputs": [],
   "source": []
  }
 ],
 "metadata": {
  "kernelspec": {
   "display_name": "Python 3 (ipykernel)",
   "language": "python",
   "name": "python3"
  },
  "language_info": {
   "codemirror_mode": {
    "name": "ipython",
    "version": 3
   },
   "file_extension": ".py",
   "mimetype": "text/x-python",
   "name": "python",
   "nbconvert_exporter": "python",
   "pygments_lexer": "ipython3",
   "version": "3.9.12"
  }
 },
 "nbformat": 4,
 "nbformat_minor": 5
}
