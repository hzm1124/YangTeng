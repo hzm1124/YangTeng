{
 "cells": [
  {
   "cell_type": "code",
   "execution_count": 18,
   "id": "7ee6a59b",
   "metadata": {},
   "outputs": [],
   "source": [
    "param_dir = 'data_20240206'\n",
    "param_make = 'CROSLEY'"
   ]
  },
  {
   "cell_type": "code",
   "execution_count": 19,
   "id": "03f4a83e",
   "metadata": {},
   "outputs": [],
   "source": [
    "import pandas as pd\n",
    "\n",
    "output_correct = pd.DataFrame()\n",
    "\n",
    "output_error = pd.DataFrame()"
   ]
  },
  {
   "cell_type": "code",
   "execution_count": 20,
   "id": "964f1e38",
   "metadata": {
    "scrolled": true
   },
   "outputs": [
    {
     "name": "stdout",
     "output_type": "stream",
     "text": [
      "总数量：17\n"
     ]
    },
    {
     "data": {
      "text/plain": [
       "['Wiper & Washer',\n",
       " 'Wiper & Washer',\n",
       " 'Wiper & Washer',\n",
       " 'Wiper & Washer',\n",
       " 'Wiper & Washer',\n",
       " 'Wiper & Washer',\n",
       " 'Wiper & Washer',\n",
       " 'Wiper & Washer',\n",
       " 'Wiper & Washer',\n",
       " 'Wiper & Washer',\n",
       " 'Wiper & Washer',\n",
       " 'Drivetrain',\n",
       " 'Wiper & Washer',\n",
       " 'Wiper & Washer',\n",
       " 'Wiper & Washer',\n",
       " 'Wiper & Washer',\n",
       " 'Wiper & Washer']"
      ]
     },
     "execution_count": 20,
     "metadata": {},
     "output_type": "execute_result"
    }
   ],
   "source": [
    "input_ = pd.read_excel('./' + param_dir + '/' + param_make + '/5.category.xlsx',\n",
    "                       header=0,\n",
    "                       dtype=str).fillna('')\n",
    "\n",
    "length = len(input_)\n",
    "\n",
    "print('总数量：' + str(length))\n",
    "input_['Category'].tolist()"
   ]
  },
  {
   "cell_type": "code",
   "execution_count": 21,
   "id": "1df64da2",
   "metadata": {},
   "outputs": [
    {
     "name": "stdout",
     "output_type": "stream",
     "text": [
      "error\n"
     ]
    }
   ],
   "source": [
    "crawler_status = 'error'\n",
    "\n",
    "print(crawler_status)"
   ]
  },
  {
   "cell_type": "code",
   "execution_count": 22,
   "id": "c312537e",
   "metadata": {},
   "outputs": [],
   "source": [
    "import requests\n",
    "import json"
   ]
  },
  {
   "cell_type": "code",
   "execution_count": 23,
   "id": "1f6c50c9",
   "metadata": {},
   "outputs": [
    {
     "data": {
      "text/plain": [
       "{'html_fill_sections': {'navchildren[]': ''},\n",
       " 'jsn': {'tab': 'catalog',\n",
       "  'make': 'CROSLEY',\n",
       "  'year': '1952',\n",
       "  'model': 'PANEL DELIVERY',\n",
       "  'engine': '724cc 44cid L4',\n",
       "  'carcode': '1487439',\n",
       "  'groupname': 'Wiper & Washer',\n",
       "  'nodetype': 'groupname',\n",
       "  'idepth': 0},\n",
       " 'collected_javascript': '/**UQ:012FC849**/\\nwindow.top.parent.window[\"_nck\"] = \"8LVLUxTaILBT+tLxkg8+3Ag7\\\\/0bbOhvn7P3rkFbL80\\\\/oQB6RvzNfa5dcHvATqXAMxw5whzaDEdxk+27zeij67BjKru6WqTdNqG6tiEsD1EZhbTv0XForkbYp+nLaIKxDXfb4DjpqS2ZyAqHw8OmZkA2eIp8YUxluzTN7FEXkPw4=\";\\n'}"
      ]
     },
     "execution_count": 23,
     "metadata": {},
     "output_type": "execute_result"
    }
   ],
   "source": [
    "import sys\n",
    "sys.path.append('../../../00.module')\n",
    "import UA\n",
    "import Proxy\n",
    "\n",
    "i = 0\n",
    "\n",
    "jsn = '{\"jsn\":{\"tab\":\"catalog\",\"make\":\"' + input_.loc[i, 'Make'] + '\",\"year\":\"' + input_.loc[i, 'Year'] + '\",\"model\":\"' + input_.loc[i, 'Model'] + '\",\"engine\":\"' + input_.loc[i, 'Engine'] + '\",\"carcode\":\"' + input_.loc[i, 'Car_Code'] + '\",\"groupname\":\"' + input_.loc[i, 'Category'] + '\",\"nodetype\":\"groupname\"}}'\n",
    "\n",
    "payload = {'func': 'navnode_fetch',\n",
    "           'payload': jsn,\n",
    "           'api_json_request': '1'}\n",
    "\n",
    "resp = requests.post('https://www.rockauto.com/catalog/catalogapi.php',\n",
    "                     data=payload,\n",
    "                                         proxies=Proxy.get_Proxy_Requests()).text\n",
    "\n",
    "resp = json.loads(resp)\n",
    "\n",
    "resp"
   ]
  },
  {
   "cell_type": "code",
   "execution_count": 24,
   "id": "84f8e9ea",
   "metadata": {},
   "outputs": [],
   "source": [
    "from bs4 import BeautifulSoup"
   ]
  },
  {
   "cell_type": "code",
   "execution_count": 25,
   "id": "be9f27ab",
   "metadata": {},
   "outputs": [
    {
     "name": "stdout",
     "output_type": "stream",
     "text": [
      "\n"
     ]
    }
   ],
   "source": [
    "html = resp['html_fill_sections']['navchildren[]']\n",
    "\n",
    "soup = BeautifulSoup(html, 'lxml')\n",
    "\n",
    "with open('./type.html', 'w', encoding='UTF-8') as file:\n",
    "    file.write(str(soup))\n",
    "\n",
    "print(soup.prettify())"
   ]
  },
  {
   "cell_type": "code",
   "execution_count": 26,
   "id": "6d5642d6",
   "metadata": {},
   "outputs": [],
   "source": [
    "from lxml import etree"
   ]
  },
  {
   "cell_type": "code",
   "execution_count": 27,
   "id": "6178eb0b",
   "metadata": {},
   "outputs": [
    {
     "ename": "AttributeError",
     "evalue": "'NoneType' object has no attribute 'xpath'",
     "output_type": "error",
     "traceback": [
      "\u001b[0;31m---------------------------------------------------------------------------\u001b[0m",
      "\u001b[0;31mAttributeError\u001b[0m                            Traceback (most recent call last)",
      "Cell \u001b[0;32mIn[27], line 3\u001b[0m\n\u001b[1;32m      1\u001b[0m html \u001b[38;5;241m=\u001b[39m etree\u001b[38;5;241m.\u001b[39mHTML(\u001b[38;5;28mstr\u001b[39m(soup))\n\u001b[0;32m----> 3\u001b[0m list_type \u001b[38;5;241m=\u001b[39m [type_\u001b[38;5;241m.\u001b[39mstrip() \u001b[38;5;28;01mfor\u001b[39;00m type_ \u001b[38;5;129;01min\u001b[39;00m \u001b[43mhtml\u001b[49m\u001b[38;5;241;43m.\u001b[39;49m\u001b[43mxpath\u001b[49m(\u001b[38;5;124m'\u001b[39m\u001b[38;5;124m//td[@class=\u001b[39m\u001b[38;5;124m\"\u001b[39m\u001b[38;5;124mnlabel\u001b[39m\u001b[38;5;124m\"\u001b[39m\u001b[38;5;124m]/a/text()\u001b[39m\u001b[38;5;124m'\u001b[39m)]\n\u001b[1;32m      5\u001b[0m list_type\n",
      "\u001b[0;31mAttributeError\u001b[0m: 'NoneType' object has no attribute 'xpath'"
     ]
    }
   ],
   "source": [
    "html = etree.HTML(str(soup))\n",
    "\n",
    "list_type = [type_.strip() for type_ in html.xpath('//td[@class=\"nlabel\"]/a/text()')]\n",
    "\n",
    "list_type"
   ]
  },
  {
   "cell_type": "code",
   "execution_count": null,
   "id": "acf9d803",
   "metadata": {},
   "outputs": [],
   "source": [
    "list_url = ['https://www.rockauto.com'+url.strip() for url in html.xpath('//td[@class=\"niconspace ncollapsedicon\"]/a/@href')]\n",
    "\n",
    "list_url"
   ]
  },
  {
   "cell_type": "code",
   "execution_count": null,
   "id": "1f53e536",
   "metadata": {},
   "outputs": [],
   "source": [
    "crawler_status = 'ok'\n",
    "\n",
    "print(crawler_status)"
   ]
  },
  {
   "cell_type": "code",
   "execution_count": null,
   "id": "9b8bdb6c",
   "metadata": {
    "scrolled": true
   },
   "outputs": [],
   "source": [
    "if crawler_status == 'ok':\n",
    "    df_temp = pd.DataFrame({'Tab_Label': input_.loc[i, 'Tab_Label'],\n",
    "                            'No.': int(input_.loc[i, 'No.']),\n",
    "                            'Make': input_.loc[i, 'Make'],\n",
    "                            'Year': input_.loc[i, 'Year'],\n",
    "                            'Model': input_.loc[i, 'Model'],\n",
    "                            'Engine': input_.loc[i, 'Engine'],\n",
    "                            'Car_Code': input_.loc[i, 'Car_Code'],\n",
    "                            'Category': input_.loc[i, 'Category'],\n",
    "                            'Type': list_type,\n",
    "                            'Type_Code': [url.split(',')[-1] for url in list_url],\n",
    "                            'Url': list_url})\n",
    "    \n",
    "    output_correct = pd.concat([output_correct, df_temp], ignore_index=True).fillna('')\n",
    "else:\n",
    "    df_temp = pd.DataFrame([{'Tab_Label': input_.loc[i, 'Tab_Label'],\n",
    "                             'No.': int(input_.loc[i, 'No.']),\n",
    "                             'Make': input_.loc[i, 'Make'],\n",
    "                             'Year': input_.loc[i, 'Year'],\n",
    "                             'Model': input_.loc[i, 'Model'],\n",
    "                             'Engine': input_.loc[i, 'Engine'],\n",
    "                             'Car_Code': input_.loc[i, 'Car_Code'],\n",
    "                             'Category': input_.loc[i, 'Category'],\n",
    "                             'Url': input_.loc[i, 'Url']}])\n",
    "    \n",
    "    output_error = pd.concat([output_error, df_temp], ignore_index=True).fillna('')\n",
    "    \n",
    "print(len(output_correct), len(output_error))\n",
    "output_correct"
   ]
  },
  {
   "cell_type": "code",
   "execution_count": null,
   "id": "df276c63",
   "metadata": {},
   "outputs": [],
   "source": []
  }
 ],
 "metadata": {
  "kernelspec": {
   "display_name": "Python 3 (ipykernel)",
   "language": "python",
   "name": "python3"
  },
  "language_info": {
   "codemirror_mode": {
    "name": "ipython",
    "version": 3
   },
   "file_extension": ".py",
   "mimetype": "text/x-python",
   "name": "python",
   "nbconvert_exporter": "python",
   "pygments_lexer": "ipython3",
   "version": "3.11.3"
  }
 },
 "nbformat": 4,
 "nbformat_minor": 5
}
