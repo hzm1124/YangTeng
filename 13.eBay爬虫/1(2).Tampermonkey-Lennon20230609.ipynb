{
 "cells": [
  {
   "cell_type": "code",
   "execution_count": 1,
   "id": "35d91b0c",
   "metadata": {},
   "outputs": [],
   "source": [
    "import os"
   ]
  },
  {
   "cell_type": "code",
   "execution_count": 2,
   "id": "b45c53fd",
   "metadata": {},
   "outputs": [
    {
     "data": {
      "text/plain": [
       "3"
      ]
     },
     "execution_count": 2,
     "metadata": {},
     "output_type": "execute_result"
    }
   ],
   "source": [
    "list_file = list(os.walk('./file'))[0][2]\n",
    "if '.DS_Store' in list_file:\n",
    "   list_file.remove('.DS_Store')\n",
    "\n",
    "len(list_file)"
   ]
  },
  {
   "cell_type": "code",
   "execution_count": 3,
   "id": "dc3d885f",
   "metadata": {},
   "outputs": [
    {
     "data": {
      "text/html": [
       "<div>\n",
       "<style scoped>\n",
       "    .dataframe tbody tr th:only-of-type {\n",
       "        vertical-align: middle;\n",
       "    }\n",
       "\n",
       "    .dataframe tbody tr th {\n",
       "        vertical-align: top;\n",
       "    }\n",
       "\n",
       "    .dataframe thead th {\n",
       "        text-align: right;\n",
       "    }\n",
       "</style>\n",
       "<table border=\"1\" class=\"dataframe\">\n",
       "  <thead>\n",
       "    <tr style=\"text-align: right;\">\n",
       "      <th></th>\n",
       "      <th>Item</th>\n",
       "      <th>Url</th>\n",
       "    </tr>\n",
       "  </thead>\n",
       "  <tbody>\n",
       "  </tbody>\n",
       "</table>\n",
       "</div>"
      ],
      "text/plain": [
       "Empty DataFrame\n",
       "Columns: [Item, Url]\n",
       "Index: []"
      ]
     },
     "execution_count": 3,
     "metadata": {},
     "output_type": "execute_result"
    }
   ],
   "source": [
    "import pandas as pd\n",
    "\n",
    "df = pd.DataFrame(columns=['Item', 'Url'])\n",
    "\n",
    "df"
   ]
  },
  {
   "cell_type": "code",
   "execution_count": 4,
   "id": "9807c1ad",
   "metadata": {},
   "outputs": [],
   "source": [
    "import json"
   ]
  },
  {
   "cell_type": "code",
   "execution_count": 5,
   "id": "7dfa2a2b",
   "metadata": {
    "scrolled": true
   },
   "outputs": [
    {
     "name": "stdout",
     "output_type": "stream",
     "text": [
      "www.ebay.com_sch_i.html__from=R40&_trksid=p2334524.m570.l1313&_nkw=floor+mat+2022+GMC+sierra&_sacat=0&LH_TitleDesc=0&_osacat=0&_odkw=floor+mat+2022+toyota+camry&LH_PrefLoc=1.txt\n",
      "www.ebay.com_sch_i.html__from=R40&_nkw=floor+mat+2022+GMC+sierra&_sacat=0&LH_TitleDesc=0&LH_PrefLoc=1&_pgn=2.txt\n",
      "www.ebay.com_sch_i.html__from=R40&_nkw=floor+mat+2022+GMC+sierra&_sacat=0&LH_TitleDesc=0&LH_PrefLoc=1&_pgn=3.txt\n"
     ]
    }
   ],
   "source": [
    "for file in list_file:\n",
    "    print(file)\n",
    "    f = open('./file/' + file)\n",
    "    list_row = f.read()[1:-1].split('},{')\n",
    "    for i in range(len(list_row)):\n",
    "        if i == 0:\n",
    "            text = json.loads(list_row[i] + '}')\n",
    "        elif i == len(list_row) - 1:\n",
    "            text = json.loads('{' + list_row[i])\n",
    "        else:\n",
    "            text = json.loads('{' + list_row[i] + '}')\n",
    "        df_temp = pd.DataFrame({'Item': [text['Item_Number']],\n",
    "                                'Url': [text['Url']]})\n",
    "        df = pd.concat([df, df_temp], ignore_index=True).fillna('')\n",
    "    f.close()"
   ]
  },
  {
   "cell_type": "code",
   "execution_count": 6,
   "id": "2506d6f7",
   "metadata": {},
   "outputs": [
    {
     "data": {
      "text/html": [
       "<div>\n",
       "<style scoped>\n",
       "    .dataframe tbody tr th:only-of-type {\n",
       "        vertical-align: middle;\n",
       "    }\n",
       "\n",
       "    .dataframe tbody tr th {\n",
       "        vertical-align: top;\n",
       "    }\n",
       "\n",
       "    .dataframe thead th {\n",
       "        text-align: right;\n",
       "    }\n",
       "</style>\n",
       "<table border=\"1\" class=\"dataframe\">\n",
       "  <thead>\n",
       "    <tr style=\"text-align: right;\">\n",
       "      <th></th>\n",
       "      <th>Item</th>\n",
       "      <th>Url</th>\n",
       "    </tr>\n",
       "  </thead>\n",
       "  <tbody>\n",
       "    <tr>\n",
       "      <th>0</th>\n",
       "      <td>404194778548</td>\n",
       "      <td>https://www.ebay.com/itm/404194778548?fits=Yea...</td>\n",
       "    </tr>\n",
       "    <tr>\n",
       "      <th>1</th>\n",
       "      <td>324283432739</td>\n",
       "      <td>https://www.ebay.com/itm/324283432739?fits=Yea...</td>\n",
       "    </tr>\n",
       "    <tr>\n",
       "      <th>2</th>\n",
       "      <td>264901103093</td>\n",
       "      <td>https://www.ebay.com/itm/264901103093?fits=Yea...</td>\n",
       "    </tr>\n",
       "    <tr>\n",
       "      <th>3</th>\n",
       "      <td>194128904350</td>\n",
       "      <td>https://www.ebay.com/itm/194128904350?fits=Yea...</td>\n",
       "    </tr>\n",
       "    <tr>\n",
       "      <th>4</th>\n",
       "      <td>265786216938</td>\n",
       "      <td>https://www.ebay.com/itm/265786216938?fits=Yea...</td>\n",
       "    </tr>\n",
       "    <tr>\n",
       "      <th>...</th>\n",
       "      <td>...</td>\n",
       "      <td>...</td>\n",
       "    </tr>\n",
       "    <tr>\n",
       "      <th>739</th>\n",
       "      <td>233391107683</td>\n",
       "      <td>https://www.ebay.com/itm/233391107683?_trkparm...</td>\n",
       "    </tr>\n",
       "    <tr>\n",
       "      <th>740</th>\n",
       "      <td>304548838106</td>\n",
       "      <td>https://www.ebay.com/itm/304548838106?_trkparm...</td>\n",
       "    </tr>\n",
       "    <tr>\n",
       "      <th>741</th>\n",
       "      <td>141188032335</td>\n",
       "      <td>https://www.ebay.com/itm/141188032335?_trkparm...</td>\n",
       "    </tr>\n",
       "    <tr>\n",
       "      <th>742</th>\n",
       "      <td>374694183434</td>\n",
       "      <td>https://www.ebay.com/itm/374694183434?_trkparm...</td>\n",
       "    </tr>\n",
       "    <tr>\n",
       "      <th>743</th>\n",
       "      <td>285283202198</td>\n",
       "      <td>https://www.ebay.com/itm/285283202198?_trkparm...</td>\n",
       "    </tr>\n",
       "  </tbody>\n",
       "</table>\n",
       "<p>744 rows × 2 columns</p>\n",
       "</div>"
      ],
      "text/plain": [
       "             Item                                                Url\n",
       "0    404194778548  https://www.ebay.com/itm/404194778548?fits=Yea...\n",
       "1    324283432739  https://www.ebay.com/itm/324283432739?fits=Yea...\n",
       "2    264901103093  https://www.ebay.com/itm/264901103093?fits=Yea...\n",
       "3    194128904350  https://www.ebay.com/itm/194128904350?fits=Yea...\n",
       "4    265786216938  https://www.ebay.com/itm/265786216938?fits=Yea...\n",
       "..            ...                                                ...\n",
       "739  233391107683  https://www.ebay.com/itm/233391107683?_trkparm...\n",
       "740  304548838106  https://www.ebay.com/itm/304548838106?_trkparm...\n",
       "741  141188032335  https://www.ebay.com/itm/141188032335?_trkparm...\n",
       "742  374694183434  https://www.ebay.com/itm/374694183434?_trkparm...\n",
       "743  285283202198  https://www.ebay.com/itm/285283202198?_trkparm...\n",
       "\n",
       "[744 rows x 2 columns]"
      ]
     },
     "execution_count": 6,
     "metadata": {},
     "output_type": "execute_result"
    }
   ],
   "source": [
    "df.to_excel('./item.xlsx', index=False)\n",
    "\n",
    "df"
   ]
  },
  {
   "cell_type": "code",
   "execution_count": null,
   "id": "e8e93640",
   "metadata": {},
   "outputs": [],
   "source": []
  }
 ],
 "metadata": {
  "kernelspec": {
   "display_name": "Python 3 (ipykernel)",
   "language": "python",
   "name": "python3"
  },
  "language_info": {
   "codemirror_mode": {
    "name": "ipython",
    "version": 3
   },
   "file_extension": ".py",
   "mimetype": "text/x-python",
   "name": "python",
   "nbconvert_exporter": "python",
   "pygments_lexer": "ipython3",
   "version": "3.11.3"
  }
 },
 "nbformat": 4,
 "nbformat_minor": 5
}
