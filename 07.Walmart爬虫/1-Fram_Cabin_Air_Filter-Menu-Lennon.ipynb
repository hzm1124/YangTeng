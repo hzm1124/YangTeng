{
 "cells": [
  {
   "cell_type": "markdown",
   "id": "8eeb5bf6",
   "metadata": {},
   "source": [
    "- Update: 2023.03.13\n",
    "\n",
    "# 0. 配置参数\n",
    "\n",
    "- `dict_page`：品类链接的参数\n",
    "- `out`：保存结果的路径"
   ]
  },
  {
   "cell_type": "code",
   "execution_count": 1,
   "id": "ed4cb815",
   "metadata": {},
   "outputs": [],
   "source": [
    "dict_page = {'url': 'https://www.walmart.com/search?q=fram+cabin+air+filter&sort=price_low&page=WHAT_THE_FUCK&affinityOverride=default',\n",
    "             'max_page': 3}\n",
    "# pg.position()\n",
    "position_url = (200, 60)\n",
    "position_html = (280, 195)\n",
    "\n",
    "out = '../../file/walmart-fram_cabin_air_filter-menuWHAT_THE_FUCK.xlsx'"
   ]
  },
  {
   "cell_type": "code",
   "execution_count": 2,
   "id": "6f5f630e",
   "metadata": {},
   "outputs": [],
   "source": [
    "import pyautogui as pg\n",
    "import time\n",
    "import pyperclip as pc\n",
    "from bs4 import BeautifulSoup\n",
    "import pandas as pd"
   ]
  },
  {
   "cell_type": "code",
   "execution_count": null,
   "id": "7cc90063",
   "metadata": {},
   "outputs": [],
   "source": [
    "pg.PAUSE = 0.3\n",
    "pg.FAILSAFE = True"
   ]
  },
  {
   "cell_type": "code",
   "execution_count": 3,
   "id": "307fd587",
   "metadata": {},
   "outputs": [],
   "source": [
    "def get_html(url):\n",
    "    pg.moveTo(position_url)\n",
    "    pg.click()\n",
    "    pg.hotkey('ctrl', 'a')\n",
    "    pg.press('delete')\n",
    "    \n",
    "    pc.copy(url)\n",
    "    pg.hotkey('ctrl', 'v')\n",
    "    pg.press('enter')\n",
    "    time.sleep(10)\n",
    "    \n",
    "    pg.press('f12')\n",
    "    time.sleep(1.5)\n",
    "    \n",
    "    pg.moveTo(position_html)\n",
    "    pg.click()\n",
    "    pg.hotkey('ctrl', 'c')\n",
    "    \n",
    "    pg.press('f12')\n",
    "    \n",
    "    return pc.paste()\n",
    "    \n",
    "def parse_html(html):\n",
    "    page = BeautifulSoup(html)\n",
    "    \n",
    "    list_item = []\n",
    "    list_url = []\n",
    "    list_article = page.find_all('div', attrs={'class': 'mb1 ph1 pa0-xl bb b--near-white w-25'})\n",
    "    list_article += page.find_all('div', attrs={'class': 'mb1 ph1 pa0-xl bb b--near-white w-25 pb1-xl'})\n",
    "    for article in list_article:\n",
    "        list_item.append(article.find('div', attrs={'class', 'sans-serif mid-gray relative flex flex-column w-100 hide-child-opacity'})['data-item-id'])\n",
    "        list_url.append('https://www.walmart.com' + article.find('a', attrs={'class', 'absolute w-100 h-100 z-1 hide-sibling-opacity'})['href'])\n",
    "    \n",
    "    pd.DataFrame({'item': list_item, 'url': list_url}).to_excel(out.replace('WHAT_THE_FUCK', str(i+1)), index=False)"
   ]
  },
  {
   "cell_type": "code",
   "execution_count": 4,
   "id": "03ca2760",
   "metadata": {},
   "outputs": [],
   "source": [
    "for i in range(dict_page['max_page']):\n",
    "    html = get_html(dict_page['url'].replace('WHAT_THE_FUCK', str(i+1)))\n",
    "    time.sleep(2)\n",
    "    parse_html(html)"
   ]
  },
  {
   "cell_type": "code",
   "execution_count": 5,
   "id": "2dabb85a",
   "metadata": {},
   "outputs": [
    {
     "data": {
      "text/html": [
       "<div>\n",
       "<style scoped>\n",
       "    .dataframe tbody tr th:only-of-type {\n",
       "        vertical-align: middle;\n",
       "    }\n",
       "\n",
       "    .dataframe tbody tr th {\n",
       "        vertical-align: top;\n",
       "    }\n",
       "\n",
       "    .dataframe thead th {\n",
       "        text-align: right;\n",
       "    }\n",
       "</style>\n",
       "<table border=\"1\" class=\"dataframe\">\n",
       "  <thead>\n",
       "    <tr style=\"text-align: right;\">\n",
       "      <th></th>\n",
       "      <th>item</th>\n",
       "      <th>url</th>\n",
       "    </tr>\n",
       "  </thead>\n",
       "  <tbody>\n",
       "    <tr>\n",
       "      <th>0</th>\n",
       "      <td>14XP573XLNIX</td>\n",
       "      <td>https://www.walmart.com//ip/FRAM-Ultra-Air-XGA...</td>\n",
       "    </tr>\n",
       "    <tr>\n",
       "      <th>1</th>\n",
       "      <td>0V5DWSTYW8DO</td>\n",
       "      <td>https://www.walmart.com//ip/FRAM-Ultra-Air-XGA...</td>\n",
       "    </tr>\n",
       "    <tr>\n",
       "      <th>2</th>\n",
       "      <td>214UXF52FO7E</td>\n",
       "      <td>https://www.walmart.com//ip/FRAM-Ultra-Air-XGA...</td>\n",
       "    </tr>\n",
       "    <tr>\n",
       "      <th>3</th>\n",
       "      <td>1NKZQSK73CZQ</td>\n",
       "      <td>https://www.walmart.com//ip/FRAM-Ultra-Air-XGA...</td>\n",
       "    </tr>\n",
       "    <tr>\n",
       "      <th>4</th>\n",
       "      <td>4JLVIB2OWF83</td>\n",
       "      <td>https://www.walmart.com//ip/FRAM-Ultra-Air-XGA...</td>\n",
       "    </tr>\n",
       "    <tr>\n",
       "      <th>...</th>\n",
       "      <td>...</td>\n",
       "      <td>...</td>\n",
       "    </tr>\n",
       "    <tr>\n",
       "      <th>995</th>\n",
       "      <td>20ETMOAY1MW5</td>\n",
       "      <td>https://www.walmart.com//ip/VIBRANT-10931-Air-...</td>\n",
       "    </tr>\n",
       "    <tr>\n",
       "      <th>996</th>\n",
       "      <td>26Y4I95V2WB1</td>\n",
       "      <td>https://www.walmart.com//ip/No-Toil-Super-Flo-...</td>\n",
       "    </tr>\n",
       "    <tr>\n",
       "      <th>997</th>\n",
       "      <td>3B3B2T1N0R6Q</td>\n",
       "      <td>https://www.walmart.com//ip/No-Toil-Super-Flo-...</td>\n",
       "    </tr>\n",
       "    <tr>\n",
       "      <th>998</th>\n",
       "      <td>0TMK1PBM95W5</td>\n",
       "      <td>https://www.walmart.com//ip/VIBRANT-10925-Air-...</td>\n",
       "    </tr>\n",
       "    <tr>\n",
       "      <th>999</th>\n",
       "      <td>1G4WN2I8ILW3</td>\n",
       "      <td>https://www.walmart.com//ip/No-Toil-Super-Flo-...</td>\n",
       "    </tr>\n",
       "  </tbody>\n",
       "</table>\n",
       "<p>1000 rows × 2 columns</p>\n",
       "</div>"
      ],
      "text/plain": [
       "             item                                                url\n",
       "0    14XP573XLNIX  https://www.walmart.com//ip/FRAM-Ultra-Air-XGA...\n",
       "1    0V5DWSTYW8DO  https://www.walmart.com//ip/FRAM-Ultra-Air-XGA...\n",
       "2    214UXF52FO7E  https://www.walmart.com//ip/FRAM-Ultra-Air-XGA...\n",
       "3    1NKZQSK73CZQ  https://www.walmart.com//ip/FRAM-Ultra-Air-XGA...\n",
       "4    4JLVIB2OWF83  https://www.walmart.com//ip/FRAM-Ultra-Air-XGA...\n",
       "..            ...                                                ...\n",
       "995  20ETMOAY1MW5  https://www.walmart.com//ip/VIBRANT-10931-Air-...\n",
       "996  26Y4I95V2WB1  https://www.walmart.com//ip/No-Toil-Super-Flo-...\n",
       "997  3B3B2T1N0R6Q  https://www.walmart.com//ip/No-Toil-Super-Flo-...\n",
       "998  0TMK1PBM95W5  https://www.walmart.com//ip/VIBRANT-10925-Air-...\n",
       "999  1G4WN2I8ILW3  https://www.walmart.com//ip/No-Toil-Super-Flo-...\n",
       "\n",
       "[1000 rows x 2 columns]"
      ]
     },
     "execution_count": 5,
     "metadata": {},
     "output_type": "execute_result"
    }
   ],
   "source": [
    "list_df = []\n",
    "for i in range(dict_page['max_page']):\n",
    "    list_df.append(pd.read_excel(out.replace('WHAT_THE_FUCK', str(i+1)), header=0))\n",
    "    \n",
    "df = pd.concat(list_df).reset_index(drop=True)\n",
    "\n",
    "df['图片链接'] = ''\n",
    "df['标题'] = ''\n",
    "df['价格'] = ''\n",
    "df['品牌'] = ''\n",
    "df['型号'] = ''\n",
    "df['工厂'] = ''\n",
    "df['工厂号'] = ''\n",
    "df['原价'] = ''\n",
    "\n",
    "df"
   ]
  },
  {
   "cell_type": "code",
   "execution_count": 6,
   "id": "31e52f4e",
   "metadata": {},
   "outputs": [],
   "source": [
    "df.to_excel(out.replace('menuWHAT_THE_FUCK', 'content0'), index=False)"
   ]
  },
  {
   "cell_type": "code",
   "execution_count": null,
   "id": "11fdf687",
   "metadata": {},
   "outputs": [],
   "source": []
  }
 ],
 "metadata": {
  "kernelspec": {
   "display_name": "Python 3 (ipykernel)",
   "language": "python",
   "name": "python3"
  },
  "language_info": {
   "codemirror_mode": {
    "name": "ipython",
    "version": 3
   },
   "file_extension": ".py",
   "mimetype": "text/x-python",
   "name": "python",
   "nbconvert_exporter": "python",
   "pygments_lexer": "ipython3",
   "version": "3.9.12"
  }
 },
 "nbformat": 4,
 "nbformat_minor": 5
}
