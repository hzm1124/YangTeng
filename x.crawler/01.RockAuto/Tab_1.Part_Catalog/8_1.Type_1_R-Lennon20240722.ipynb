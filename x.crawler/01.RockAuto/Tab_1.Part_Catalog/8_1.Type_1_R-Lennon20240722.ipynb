{
 "cells": [
  {
   "cell_type": "code",
   "execution_count": 1,
   "id": "a3ab352a-d243-44f8-b85e-b4f88454ef50",
   "metadata": {},
   "outputs": [],
   "source": [
    "param_date = '20240715'"
   ]
  },
  {
   "cell_type": "code",
   "execution_count": 2,
   "id": "547e32ac-c43a-4c08-99da-f075e5dba73b",
   "metadata": {
    "scrolled": true
   },
   "outputs": [
    {
     "data": {
      "text/plain": [
       "['make_1.ABARTH.xlsx']"
      ]
     },
     "execution_count": 2,
     "metadata": {},
     "output_type": "execute_result"
    }
   ],
   "source": [
    "import os\n",
    "\n",
    "list_file = sorted(list(os.walk(f'./{param_date}/7.group'))[0][2])\n",
    "while '.DS_Store' in list_file:\n",
    "    list_file.remove('.DS_Store')\n",
    "while '0.null.txt' in list_file:\n",
    "    list_file.remove('0.null.txt')\n",
    "\n",
    "list_file"
   ]
  },
  {
   "cell_type": "code",
   "execution_count": 3,
   "id": "2063f72d-9cc2-4f63-9874-f5978ab0831e",
   "metadata": {},
   "outputs": [
    {
     "data": {
      "text/plain": [
       "'make_1.ABARTH.xlsx'"
      ]
     },
     "execution_count": 3,
     "metadata": {},
     "output_type": "execute_result"
    }
   ],
   "source": [
    "file = list_file[0]\n",
    "\n",
    "file"
   ]
  },
  {
   "cell_type": "code",
   "execution_count": 4,
   "id": "783f89be-0cdc-4912-942e-895cc5f09840",
   "metadata": {},
   "outputs": [],
   "source": [
    "import pandas as pd\n",
    "\n",
    "output_correct, output_error = pd.DataFrame(), pd.DataFrame()"
   ]
  },
  {
   "cell_type": "code",
   "execution_count": 5,
   "id": "1c28f4ff-eee5-4220-a711-cc2f93fe08f0",
   "metadata": {
    "scrolled": true
   },
   "outputs": [
    {
     "name": "stdout",
     "output_type": "stream",
     "text": [
      "总数量：264\n"
     ]
    },
    {
     "data": {
      "text/plain": [
       "['982cc L4',\n",
       " '982cc L4',\n",
       " '982cc L4',\n",
       " '982cc L4',\n",
       " '982cc L4',\n",
       " '982cc L4',\n",
       " '982cc L4',\n",
       " '982cc L4',\n",
       " '982cc L4',\n",
       " '982cc L4',\n",
       " '982cc L4',\n",
       " '982cc L4',\n",
       " '982cc L4',\n",
       " '982cc L4',\n",
       " '982cc L4',\n",
       " '982cc L4',\n",
       " '982cc L4',\n",
       " '982cc L4',\n",
       " '982cc L4',\n",
       " '982cc L4',\n",
       " '982cc L4',\n",
       " '982cc L4',\n",
       " '982cc L4',\n",
       " '982cc L4',\n",
       " '982cc L4',\n",
       " '982cc L4',\n",
       " '982cc L4',\n",
       " '982cc L4',\n",
       " '982cc L4',\n",
       " '982cc L4',\n",
       " '982cc L4',\n",
       " '982cc L4',\n",
       " '982cc L4',\n",
       " '982cc L4',\n",
       " '982cc L4',\n",
       " '982cc L4',\n",
       " '982cc L4',\n",
       " '982cc L4',\n",
       " '982cc L4',\n",
       " '982cc L4',\n",
       " '982cc L4',\n",
       " '982cc L4',\n",
       " '982cc L4',\n",
       " '982cc L4',\n",
       " '982cc L4',\n",
       " '982cc L4',\n",
       " '982cc L4',\n",
       " '1.1L L4',\n",
       " '1.1L L4',\n",
       " '1.1L L4',\n",
       " '1.1L L4',\n",
       " '1.1L L4',\n",
       " '1.3L L4',\n",
       " '1.3L L4',\n",
       " '1.3L L4',\n",
       " '1.3L L4',\n",
       " '1.3L L4',\n",
       " '1.3L L4',\n",
       " '1.3L L4',\n",
       " '1.3L L4',\n",
       " '1.3L L4',\n",
       " '1.3L L4',\n",
       " '1.3L L4',\n",
       " '1.3L L4',\n",
       " '1.6L L4',\n",
       " '1.6L L4',\n",
       " '1.6L L4',\n",
       " '1.6L L4',\n",
       " '1.6L L4',\n",
       " '1.6L L4',\n",
       " '1.6L L4',\n",
       " '1.6L L4',\n",
       " '1.6L L4',\n",
       " '1.6L L4',\n",
       " '1.6L L4',\n",
       " '1.6L L4',\n",
       " '1.6L L4',\n",
       " '1.6L L4',\n",
       " '1.6L L4',\n",
       " '1.6L L4',\n",
       " '1.6L L4',\n",
       " '1.6L L4',\n",
       " '1.6L L4',\n",
       " '1.6L L4',\n",
       " '1.6L L4',\n",
       " '1.6L L4',\n",
       " '1.6L L4',\n",
       " '1.6L L4',\n",
       " '1.6L L4',\n",
       " '1.6L L4',\n",
       " '1.6L L4',\n",
       " '1.6L L4',\n",
       " '1.9L L4',\n",
       " '1.9L L4',\n",
       " '1.9L L4',\n",
       " '1.9L L4',\n",
       " '1.9L L4',\n",
       " '1.9L L4',\n",
       " '1.9L L4',\n",
       " '1.9L L4',\n",
       " '1.9L L4',\n",
       " '1.9L L4',\n",
       " '1.9L L4',\n",
       " '1.9L L4',\n",
       " '1.9L L4',\n",
       " '1.9L L4',\n",
       " '1.1L L4',\n",
       " '1.1L L4',\n",
       " '1.1L L4',\n",
       " '1.1L L4',\n",
       " '1.1L L4',\n",
       " '1.1L L4',\n",
       " '1.1L L4',\n",
       " '1.1L L4',\n",
       " '1.1L L4',\n",
       " '1.1L L4',\n",
       " '1.1L L4',\n",
       " '1.1L L4',\n",
       " '1.1L L4',\n",
       " '1.1L L4',\n",
       " '747cc L4',\n",
       " '747cc L4',\n",
       " '747cc L4',\n",
       " '747cc L4',\n",
       " '747cc L4',\n",
       " '747cc L4',\n",
       " '747cc L4',\n",
       " '747cc L4',\n",
       " '747cc L4',\n",
       " '747cc L4',\n",
       " '747cc L4',\n",
       " '747cc L4',\n",
       " '747cc L4',\n",
       " '747cc L4',\n",
       " '747cc L4',\n",
       " '747cc L4',\n",
       " '747cc L4',\n",
       " '747cc L4',\n",
       " '747cc L4',\n",
       " '747cc L4',\n",
       " '747cc L4',\n",
       " '747cc L4',\n",
       " '833cc L4',\n",
       " '833cc L4',\n",
       " '833cc L4',\n",
       " '833cc L4',\n",
       " '833cc L4',\n",
       " '833cc L4',\n",
       " '833cc L4',\n",
       " '833cc L4',\n",
       " '847cc L4',\n",
       " '847cc L4',\n",
       " '847cc L4',\n",
       " '847cc L4',\n",
       " '847cc L4',\n",
       " '847cc L4',\n",
       " '847cc L4',\n",
       " '847cc L4',\n",
       " '847cc L4',\n",
       " '847cc L4',\n",
       " '847cc L4',\n",
       " '847cc L4',\n",
       " '847cc L4',\n",
       " '847cc L4',\n",
       " '847cc L4',\n",
       " '847cc L4',\n",
       " '847cc L4',\n",
       " '847cc L4',\n",
       " '847cc L4',\n",
       " '847cc L4',\n",
       " '847cc L4',\n",
       " '847cc L4',\n",
       " '847cc L4',\n",
       " '847cc L4',\n",
       " '847cc L4',\n",
       " '847cc L4',\n",
       " '847cc L4',\n",
       " '847cc L4',\n",
       " '847cc L4',\n",
       " '847cc L4',\n",
       " '847cc L4',\n",
       " '847cc L4',\n",
       " '847cc L4',\n",
       " '847cc L4',\n",
       " '1.3L L4',\n",
       " '1.3L L4',\n",
       " '1.3L L4',\n",
       " '1.3L L4',\n",
       " '1.3L L4',\n",
       " '1.3L L4',\n",
       " '1.3L L4',\n",
       " '1.3L L4',\n",
       " '1.3L L4',\n",
       " '1.3L L4',\n",
       " '1.3L L4',\n",
       " '1.3L L4',\n",
       " '1.3L L4',\n",
       " '1.3L L4',\n",
       " '1.3L L4',\n",
       " '1.3L L4',\n",
       " '1.3L L4',\n",
       " '1.3L L4',\n",
       " '1.3L L4',\n",
       " '1.3L L4',\n",
       " '1.3L L4',\n",
       " '1.3L L4',\n",
       " '1.3L L4',\n",
       " '1.3L L4',\n",
       " '1.3L L4',\n",
       " '1.3L L4',\n",
       " '1.3L L4',\n",
       " '1.3L L4',\n",
       " '1.3L L4',\n",
       " '1.3L L4',\n",
       " '1.3L L4',\n",
       " '1.3L L4',\n",
       " '1.3L L4',\n",
       " '1.3L L4',\n",
       " '1.3L L4',\n",
       " '1.3L L4',\n",
       " '1.3L L4',\n",
       " '1.3L L4',\n",
       " '1.3L L4',\n",
       " '1.3L L4',\n",
       " '2.0L L4',\n",
       " '2.0L L4',\n",
       " '2.0L L4',\n",
       " '2.0L L4',\n",
       " '2.0L L4',\n",
       " '2.0L L4',\n",
       " '2.0L L4',\n",
       " '2.0L L4',\n",
       " '2.0L L4',\n",
       " '2.0L L4',\n",
       " '2.0L L4',\n",
       " '2.0L L4',\n",
       " '2.0L L4',\n",
       " '2.0L L4',\n",
       " '2.0L L4',\n",
       " '2.0L L4',\n",
       " '2.0L L4',\n",
       " '2.0L L4',\n",
       " '2.0L L4',\n",
       " '2.0L L4',\n",
       " '2.0L L4',\n",
       " '2.0L L4',\n",
       " '2.0L L4',\n",
       " '2.0L L4',\n",
       " '2.0L L4',\n",
       " '2.0L L4',\n",
       " '2.0L L4',\n",
       " '2.0L L4',\n",
       " '2.0L L4',\n",
       " '2.0L L4',\n",
       " '2.0L L4',\n",
       " '2.0L L4',\n",
       " '2.0L L4',\n",
       " '2.0L L4',\n",
       " '2.0L L4',\n",
       " '2.0L L4',\n",
       " '2.0L L4',\n",
       " '2.0L L4',\n",
       " '2.0L L4',\n",
       " '2.0L L4']"
      ]
     },
     "execution_count": 5,
     "metadata": {},
     "output_type": "execute_result"
    }
   ],
   "source": [
    "input_ = pd.read_excel(f'./{param_date}/7.group/{file}',\n",
    "                       header=0,\n",
    "                       dtype=str).fillna('')\n",
    "\n",
    "input_['Make No'] = input_['Make No'].astype(int)\n",
    "input_['Model No'] = input_['Model No'].astype(int)\n",
    "input_['Engine No'] = input_['Engine No'].astype(int)\n",
    "input_['Year'] = input_['Year'].astype(int)\n",
    "input_['Group No'] = input_['Group No'].astype(int)\n",
    "\n",
    "print(f'总数量：{len(input_)}')\n",
    "input_['Group'].tolist()"
   ]
  },
  {
   "cell_type": "code",
   "execution_count": 6,
   "id": "5878a9f0-d639-4123-b6e0-bc564f72c2d6",
   "metadata": {},
   "outputs": [
    {
     "data": {
      "text/plain": [
       "0"
      ]
     },
     "execution_count": 6,
     "metadata": {},
     "output_type": "execute_result"
    }
   ],
   "source": [
    "a = 0\n",
    "\n",
    "a"
   ]
  },
  {
   "cell_type": "code",
   "execution_count": 7,
   "id": "9f61dd65-55da-4d0b-ba30-d0534eff0781",
   "metadata": {},
   "outputs": [
    {
     "data": {
      "text/plain": [
       "'error'"
      ]
     },
     "execution_count": 7,
     "metadata": {},
     "output_type": "execute_result"
    }
   ],
   "source": [
    "crawler_status = 'error'\n",
    "\n",
    "crawler_status"
   ]
  },
  {
   "cell_type": "code",
   "execution_count": 8,
   "id": "523cc867",
   "metadata": {
    "scrolled": true
   },
   "outputs": [
    {
     "name": "stdout",
     "output_type": "stream",
     "text": [
      "1\n",
      "2\n",
      "3\n",
      "4\n",
      "5\n",
      "6\n",
      "7\n",
      "8\n",
      "9\n",
      "10\n",
      "11\n",
      "12\n",
      "13\n",
      "14\n",
      "15\n",
      "16\n",
      "17\n",
      "18\n",
      "19\n",
      "20\n",
      "21\n",
      "22\n",
      "23\n",
      "24\n",
      "25\n",
      "26\n",
      "27\n",
      "28\n",
      "29\n",
      "30\n",
      "31\n",
      "32\n",
      "33\n",
      "34\n",
      "35\n"
     ]
    },
    {
     "data": {
      "text/plain": [
       "<Response [200]>"
      ]
     },
     "execution_count": 8,
     "metadata": {},
     "output_type": "execute_result"
    }
   ],
   "source": [
    "import requests\n",
    "import json\n",
    "\n",
    "import sys\n",
    "sys.path.append('../../00.Tools')\n",
    "from crawler_configuration import get_header, get_proxy\n",
    "\n",
    "payload = {'jsn': {'tab': 'catalog',\n",
    "                   'make': input_.loc[a, 'Make'],\n",
    "                   'year': int(input_.loc[a, 'Year']),\n",
    "                   'model': input_.loc[a, 'Model'],\n",
    "                   'carcode': input_.loc[a, 'Car Code'],\n",
    "                   'engine': input_.loc[a, 'Engine'],\n",
    "                   'groupname': input_.loc[a, 'Group'],\n",
    "                   'nodetype': 'groupname'}}\n",
    "\n",
    "data = {'func': 'navnode_fetch',\n",
    "        'payload': json.dumps(payload),\n",
    "        'api_json_request': '1'}\n",
    "\n",
    "b = 0\n",
    "while True:\n",
    "\n",
    "    while True:\n",
    "        b += 1\n",
    "        print(b)\n",
    "        try:\n",
    "            resp = requests.post('https://www.rockauto.com/catalog/catalogapi.php',\n",
    "                                 data=data,\n",
    "                                 headers=get_header(),\n",
    "                                 proxies=get_proxy(),\n",
    "                                 timeout=(10, 10))\n",
    "            break\n",
    "        except:\n",
    "            continue\n",
    "\n",
    "    if resp.status_code == 200:\n",
    "        break\n",
    "\n",
    "resp"
   ]
  },
  {
   "cell_type": "code",
   "execution_count": 9,
   "id": "3be6677e-d86b-4f58-a0d7-fb2636a4bf34",
   "metadata": {
    "scrolled": true
   },
   "outputs": [
    {
     "data": {
      "text/plain": [
       "{'html_fill_sections': {'navchildren[]': '<div class=\"ranavnode\" id=\"nav[__GIP__1__]\"><input type=\"hidden\" autocomplete=\"off\" id=\"jsn[__GIP__1__]\" value=\"{&quot;groupindex&quot;:&quot;__GIP__1__&quot;,&quot;tab&quot;:&quot;catalog&quot;,&quot;idepth&quot;:1,&quot;make&quot;:&quot;ABARTH&quot;,&quot;year&quot;:&quot;1969&quot;,&quot;model&quot;:&quot;1000&quot;,&quot;carcode&quot;:&quot;1438885&quot;,&quot;engine&quot;:&quot;982cc L4&quot;,&quot;groupname&quot;:&quot;Brake &amp; Wheel Hub&quot;,&quot;parttype&quot;:&quot;1684&quot;,&quot;nodetype&quot;:&quot;parttype&quot;}\" /><input type=\"hidden\" autocomplete=\"off\" name=\"navnodeunique[catalog-abarth-1969-1000-1438885-brake &amp; wheel hub-1684]\" id=\"navnodeunique[catalog-abarth-1969-1000-1438885-brake &amp; wheel hub-1684]\" value=\"__GIP__1__\" /><div id=\"nav_o[__GIP__1__]\" class=\"ranavouter\"><div class=\"inner\"><table class=\"tbl\"  cellpadding=\"0\" cellspacing=\"0\"><tr><td class=\"niconspace nvlineicon\"></td><td class=\"niconspace ncollapsedicon\" id=\"navicon[__GIP__1__]\"><a href=\"/en/catalog/abarth,1969,1000,982cc+l4,1438885,brake+&amp;+wheel+hub,brake+pad,1684\" onclick=\"cataloglite.LinkIntercept_ToggleNavNode(&quot;__GIP__1__&quot;); return false;\" tabindex=\"-1\"><img src=\"/Images/1pxtransparent.png\" alt=\"Toggle\"></a></td><td class=\"nlabel\"  title=\"Brake pads, consisting of metal backing plates and friction material, are contained in the brake caliper. When the brakes are applied, the caliper presses the brake pads against the rotor to slow or stop the vehicle.\"><a class=\"navlabellink nvoffset nimportant\" href=\"/en/catalog/abarth,1969,1000,982cc+l4,1438885,brake+&amp;+wheel+hub,brake+pad,1684\" onclick=\"cataloglite.LinkIntercept_ToggleNavNode(&quot;__GIP__1__&quot;); return false;\" id=\"navhref[__GIP__1__]\">Brake Pad</a></td></tr></table></div></div><div class=\"nchildren ra-hide\" id=\"navchildren[__GIP__1__]\" ></div></div>'},\n",
       " 'jsn': {'tab': 'catalog',\n",
       "  'make': 'ABARTH',\n",
       "  'year': 1969,\n",
       "  'model': '1000',\n",
       "  'carcode': '1438885',\n",
       "  'engine': '982cc L4',\n",
       "  'groupname': 'Brake & Wheel Hub',\n",
       "  'nodetype': 'groupname',\n",
       "  'idepth': 0},\n",
       " 'collected_javascript': '/**UQ:F24361A8**/\\nwindow.top.parent.window[\"_nck\"] = \"8LVLUxTaILBT+tLxkg8+3Ag7\\\\/0bbOhvn7P3rkFbL809YNOHQDmNBznFtdYfbcEUriQ0mcmy\\\\/TcWfcbfHTjxSwndfe2chgzy88liHO2MoAcp7wW7lek5DxawTLSg\\\\/DpYUwwgKwrMfy30gJkwFadGWV8G0QSHXu8lmQtyLGxaWyOk=\";\\n'}"
      ]
     },
     "execution_count": 9,
     "metadata": {},
     "output_type": "execute_result"
    }
   ],
   "source": [
    "json_ = resp.json()\n",
    "\n",
    "json_"
   ]
  },
  {
   "cell_type": "code",
   "execution_count": null,
   "id": "12460ab9-57d1-45fa-8d0d-b667d9a7e6ea",
   "metadata": {},
   "outputs": [],
   "source": [
    "'redirect_to_url' in json_"
   ]
  },
  {
   "cell_type": "code",
   "execution_count": 10,
   "id": "8ef37c73-2f50-4560-b245-0418e62b494a",
   "metadata": {},
   "outputs": [
    {
     "data": {
      "text/plain": [
       "True"
      ]
     },
     "execution_count": 10,
     "metadata": {},
     "output_type": "execute_result"
    }
   ],
   "source": [
    "json_['jsn']['tab'] == 'catalog' and json_['jsn']['make'] == input_.loc[a, 'Make'] and json_['jsn']['year'] == input_.loc[a, 'Year'] and json_['jsn']['model'] == input_.loc[a, 'Model'] and json_['jsn']['carcode'] == input_.loc[a, 'Car Code'] and json_['jsn']['engine'] == input_.loc[a, 'Engine'] and json_['jsn']['groupname'] == input_.loc[a, 'Group'] and json_['jsn']['nodetype'] == 'groupname' and 'collected_javascript' in json_"
   ]
  },
  {
   "cell_type": "code",
   "execution_count": 11,
   "id": "86ef5f53-4ba1-4024-af2a-5ad7c6898c6a",
   "metadata": {
    "scrolled": true
   },
   "outputs": [
    {
     "name": "stdout",
     "output_type": "stream",
     "text": [
      "<html>\n",
      " <body>\n",
      "  <div class=\"ranavnode\" id=\"nav[__GIP__1__]\">\n",
      "   <input autocomplete=\"off\" id=\"jsn[__GIP__1__]\" type=\"hidden\" value='{\"groupindex\":\"__GIP__1__\",\"tab\":\"catalog\",\"idepth\":1,\"make\":\"ABARTH\",\"year\":\"1969\",\"model\":\"1000\",\"carcode\":\"1438885\",\"engine\":\"982cc L4\",\"groupname\":\"Brake &amp; Wheel Hub\",\"parttype\":\"1684\",\"nodetype\":\"parttype\"}'/>\n",
      "   <input autocomplete=\"off\" id=\"navnodeunique[catalog-abarth-1969-1000-1438885-brake &amp; wheel hub-1684]\" name=\"navnodeunique[catalog-abarth-1969-1000-1438885-brake &amp; wheel hub-1684]\" type=\"hidden\" value=\"__GIP__1__\"/>\n",
      "   <div class=\"ranavouter\" id=\"nav_o[__GIP__1__]\">\n",
      "    <div class=\"inner\">\n",
      "     <table cellpadding=\"0\" cellspacing=\"0\" class=\"tbl\">\n",
      "      <tr>\n",
      "       <td class=\"niconspace nvlineicon\">\n",
      "       </td>\n",
      "       <td class=\"niconspace ncollapsedicon\" id=\"navicon[__GIP__1__]\">\n",
      "        <a href=\"/en/catalog/abarth,1969,1000,982cc+l4,1438885,brake+&amp;+wheel+hub,brake+pad,1684\" onclick='cataloglite.LinkIntercept_ToggleNavNode(\"__GIP__1__\"); return false;' tabindex=\"-1\">\n",
      "         <img alt=\"Toggle\" src=\"/Images/1pxtransparent.png\"/>\n",
      "        </a>\n",
      "       </td>\n",
      "       <td class=\"nlabel\" title=\"Brake pads, consisting of metal backing plates and friction material, are contained in the brake caliper. When the brakes are applied, the caliper presses the brake pads against the rotor to slow or stop the vehicle.\">\n",
      "        <a class=\"navlabellink nvoffset nimportant\" href=\"/en/catalog/abarth,1969,1000,982cc+l4,1438885,brake+&amp;+wheel+hub,brake+pad,1684\" id=\"navhref[__GIP__1__]\" onclick='cataloglite.LinkIntercept_ToggleNavNode(\"__GIP__1__\"); return false;'>\n",
      "         Brake Pad\n",
      "        </a>\n",
      "       </td>\n",
      "      </tr>\n",
      "     </table>\n",
      "    </div>\n",
      "   </div>\n",
      "   <div class=\"nchildren ra-hide\" id=\"navchildren[__GIP__1__]\">\n",
      "   </div>\n",
      "  </div>\n",
      " </body>\n",
      "</html>\n",
      "\n"
     ]
    }
   ],
   "source": [
    "from bs4 import BeautifulSoup\n",
    "from lxml import etree\n",
    "\n",
    "soup = BeautifulSoup(json_['html_fill_sections']['navchildren[]'].strip(), 'lxml')\n",
    "html = etree.HTML(str(soup))\n",
    "\n",
    "with open('./type_1.html', 'w', encoding='UTF-8') as file:\n",
    "    file.write(str(soup))\n",
    "\n",
    "print(soup.prettify())"
   ]
  },
  {
   "cell_type": "code",
   "execution_count": 12,
   "id": "5ead8fcb-2178-428a-9f72-5730837cb4ff",
   "metadata": {
    "scrolled": true
   },
   "outputs": [
    {
     "data": {
      "text/plain": [
       "['{\"groupindex\":\"__GIP__1__\",\"tab\":\"catalog\",\"idepth\":1,\"make\":\"ABARTH\",\"year\":\"1969\",\"model\":\"1000\",\"carcode\":\"1438885\",\"engine\":\"982cc L4\",\"groupname\":\"Brake & Wheel Hub\",\"parttype\":\"1684\",\"nodetype\":\"parttype\"}']"
      ]
     },
     "execution_count": 12,
     "metadata": {},
     "output_type": "execute_result"
    }
   ],
   "source": [
    "list_json = html.xpath('//input[contains(@id, \"jsn[__GIP__\")]/@value')\n",
    "\n",
    "list_json"
   ]
  },
  {
   "cell_type": "code",
   "execution_count": 13,
   "id": "cf26ada9-0fad-4dca-829b-253d66cd0015",
   "metadata": {},
   "outputs": [
    {
     "data": {
      "text/plain": [
       "['1684']"
      ]
     },
     "execution_count": 13,
     "metadata": {},
     "output_type": "execute_result"
    }
   ],
   "source": [
    "list_type_code = [json.loads(json_)['parttype'] for json_ in list_json]\n",
    "\n",
    "list_type_code"
   ]
  },
  {
   "cell_type": "code",
   "execution_count": 14,
   "id": "83e891b8-82d9-450a-a096-57855150922d",
   "metadata": {},
   "outputs": [
    {
     "data": {
      "text/plain": [
       "['Brake Pad']"
      ]
     },
     "execution_count": 14,
     "metadata": {},
     "output_type": "execute_result"
    }
   ],
   "source": [
    "list_type = html.xpath('//td[@class=\"nlabel\"]/a/text()')\n",
    "\n",
    "list_type"
   ]
  },
  {
   "cell_type": "code",
   "execution_count": 15,
   "id": "18c8cc91-bfe0-45d5-9545-b618b11e84d7",
   "metadata": {},
   "outputs": [
    {
     "data": {
      "text/plain": [
       "False"
      ]
     },
     "execution_count": 15,
     "metadata": {},
     "output_type": "execute_result"
    }
   ],
   "source": [
    "len(list_type) == 0"
   ]
  },
  {
   "cell_type": "code",
   "execution_count": 16,
   "id": "96f1239b-50f9-42d4-b879-831dc05deb48",
   "metadata": {
    "scrolled": true
   },
   "outputs": [
    {
     "data": {
      "text/html": [
       "<div>\n",
       "<style scoped>\n",
       "    .dataframe tbody tr th:only-of-type {\n",
       "        vertical-align: middle;\n",
       "    }\n",
       "\n",
       "    .dataframe tbody tr th {\n",
       "        vertical-align: top;\n",
       "    }\n",
       "\n",
       "    .dataframe thead th {\n",
       "        text-align: right;\n",
       "    }\n",
       "</style>\n",
       "<table border=\"1\" class=\"dataframe\">\n",
       "  <thead>\n",
       "    <tr style=\"text-align: right;\">\n",
       "      <th></th>\n",
       "      <th>Make No</th>\n",
       "      <th>Make</th>\n",
       "      <th>Model No</th>\n",
       "      <th>Model</th>\n",
       "      <th>Engine No</th>\n",
       "      <th>Engine</th>\n",
       "      <th>Car Code</th>\n",
       "      <th>Year</th>\n",
       "      <th>Group No</th>\n",
       "      <th>Group</th>\n",
       "      <th>Type No</th>\n",
       "      <th>Type</th>\n",
       "      <th>Type Code</th>\n",
       "      <th>Tab 1 Url</th>\n",
       "    </tr>\n",
       "  </thead>\n",
       "  <tbody>\n",
       "    <tr>\n",
       "      <th>0</th>\n",
       "      <td>1</td>\n",
       "      <td>ABARTH</td>\n",
       "      <td>1</td>\n",
       "      <td>1000</td>\n",
       "      <td>1</td>\n",
       "      <td>982cc L4</td>\n",
       "      <td>1438885</td>\n",
       "      <td>1969</td>\n",
       "      <td>1</td>\n",
       "      <td>Brake &amp; Wheel Hub</td>\n",
       "      <td>1</td>\n",
       "      <td>Brake Pad</td>\n",
       "      <td>1684</td>\n",
       "      <td>https://www.rockauto.com/en/catalog/ABARTH,196...</td>\n",
       "    </tr>\n",
       "  </tbody>\n",
       "</table>\n",
       "</div>"
      ],
      "text/plain": [
       "   Make No    Make  Model No Model  Engine No    Engine Car Code  Year  \\\n",
       "0        1  ABARTH         1  1000          1  982cc L4  1438885  1969   \n",
       "\n",
       "   Group No              Group  Type No       Type Type Code  \\\n",
       "0         1  Brake & Wheel Hub        1  Brake Pad      1684   \n",
       "\n",
       "                                           Tab 1 Url  \n",
       "0  https://www.rockauto.com/en/catalog/ABARTH,196...  "
      ]
     },
     "execution_count": 16,
     "metadata": {},
     "output_type": "execute_result"
    }
   ],
   "source": [
    "df_temp = pd.DataFrame({'Make No': input_.loc[a, 'Make No'],\n",
    "                        'Make': input_.loc[a, 'Make'],\n",
    "                        'Model No': input_.loc[a, 'Model No'],\n",
    "                        'Model': input_.loc[a, 'Model'],\n",
    "                        'Engine No': input_.loc[a, 'Engine No'],\n",
    "                        'Engine': input_.loc[a, 'Engine'],\n",
    "                        'Car Code': input_.loc[a, 'Car Code'],\n",
    "                        'Year': input_.loc[a, 'Year'],\n",
    "                        'Group No': input_.loc[a, 'Group No'],\n",
    "                        'Group': input_.loc[a, 'Group'],\n",
    "                        'Type No': [i+1 for i in range(len(list_type))],\n",
    "                        'Type': list_type,\n",
    "                        'Type Code': list_type_code,\n",
    "                        'Tab 1 Url': [f'''https://www.rockauto.com/en/catalog/{input_.loc[a, 'Make'].replace(',', '%2C')},{input_.loc[a, 'Year']},{input_.loc[a, 'Model'].replace(',', '%2C')},{input_.loc[a, 'Engine'].replace(',', '%2C')},{input_.loc[a, 'Car Code'].replace(',', '%2C')},{input_.loc[a, 'Group'].replace(',', '%2C')},{type_.replace(',', '%2C')},{type_code.replace(',', '%2C')}''' for type_, type_code in zip(list_type, list_type_code)]})\n",
    "\n",
    "output_correct = pd.concat([output_correct, df_temp], ignore_index=True).fillna('')\n",
    "\n",
    "output_correct"
   ]
  },
  {
   "cell_type": "code",
   "execution_count": 17,
   "id": "fc4ed7f6-ed4f-431c-b944-b1690309cdae",
   "metadata": {},
   "outputs": [
    {
     "data": {
      "text/plain": [
       "'ok'"
      ]
     },
     "execution_count": 17,
     "metadata": {},
     "output_type": "execute_result"
    }
   ],
   "source": [
    "crawler_status = 'ok'\n",
    "\n",
    "crawler_status"
   ]
  },
  {
   "cell_type": "code",
   "execution_count": 18,
   "id": "65c745d1-446e-46c5-9dec-819c9f7944d3",
   "metadata": {},
   "outputs": [
    {
     "data": {
      "text/html": [
       "<div>\n",
       "<style scoped>\n",
       "    .dataframe tbody tr th:only-of-type {\n",
       "        vertical-align: middle;\n",
       "    }\n",
       "\n",
       "    .dataframe tbody tr th {\n",
       "        vertical-align: top;\n",
       "    }\n",
       "\n",
       "    .dataframe thead th {\n",
       "        text-align: right;\n",
       "    }\n",
       "</style>\n",
       "<table border=\"1\" class=\"dataframe\">\n",
       "  <thead>\n",
       "    <tr style=\"text-align: right;\">\n",
       "      <th></th>\n",
       "    </tr>\n",
       "  </thead>\n",
       "  <tbody>\n",
       "  </tbody>\n",
       "</table>\n",
       "</div>"
      ],
      "text/plain": [
       "Empty DataFrame\n",
       "Columns: []\n",
       "Index: []"
      ]
     },
     "execution_count": 18,
     "metadata": {},
     "output_type": "execute_result"
    }
   ],
   "source": [
    "if crawler_status == 'error':\n",
    "    df_temp = pd.DataFrame([{'Make No': input_.loc[a, 'Make No'],\n",
    "                             'Make': input_.loc[a, 'Make'],\n",
    "                             'Model No': input_.loc[a, 'Model No'],\n",
    "                             'Model': input_.loc[a, 'Model'],\n",
    "                             'Engine No': input_.loc[a, 'Engine No'],\n",
    "                             'Engine': input_.loc[a, 'Engine'],\n",
    "                             'Car Code': input_.loc[a, 'Car Code'],\n",
    "                             'Year': input_.loc[a, 'Year'],\n",
    "                             'Group No': input_.loc[a, 'Group No'],\n",
    "                             'Group': input_.loc[a, 'Group']}])\n",
    "\n",
    "    output_error = pd.concat([output_error, df_temp], ignore_index=True).fillna('')\n",
    "\n",
    "output_error"
   ]
  },
  {
   "cell_type": "code",
   "execution_count": 19,
   "id": "7fd477de",
   "metadata": {},
   "outputs": [
    {
     "data": {
      "text/html": [
       "<div>\n",
       "<style scoped>\n",
       "    .dataframe tbody tr th:only-of-type {\n",
       "        vertical-align: middle;\n",
       "    }\n",
       "\n",
       "    .dataframe tbody tr th {\n",
       "        vertical-align: top;\n",
       "    }\n",
       "\n",
       "    .dataframe thead th {\n",
       "        text-align: right;\n",
       "    }\n",
       "</style>\n",
       "<table border=\"1\" class=\"dataframe\">\n",
       "  <thead>\n",
       "    <tr style=\"text-align: right;\">\n",
       "      <th></th>\n",
       "      <th>Make No</th>\n",
       "      <th>Make</th>\n",
       "      <th>Model No</th>\n",
       "      <th>Model</th>\n",
       "      <th>Engine No</th>\n",
       "      <th>Engine</th>\n",
       "      <th>Car Code</th>\n",
       "      <th>Year</th>\n",
       "      <th>Group No</th>\n",
       "      <th>Group</th>\n",
       "      <th>Type No</th>\n",
       "      <th>Type</th>\n",
       "      <th>Type Code</th>\n",
       "      <th>Tab 1 Url</th>\n",
       "    </tr>\n",
       "  </thead>\n",
       "  <tbody>\n",
       "    <tr>\n",
       "      <th>0</th>\n",
       "      <td>1</td>\n",
       "      <td>ABARTH</td>\n",
       "      <td>1</td>\n",
       "      <td>1000</td>\n",
       "      <td>1</td>\n",
       "      <td>982cc L4</td>\n",
       "      <td>1438885</td>\n",
       "      <td>1969</td>\n",
       "      <td>1</td>\n",
       "      <td>Brake &amp; Wheel Hub</td>\n",
       "      <td>1</td>\n",
       "      <td>Brake Pad</td>\n",
       "      <td>1684</td>\n",
       "      <td>https://www.rockauto.com/en/catalog/ABARTH,196...</td>\n",
       "    </tr>\n",
       "  </tbody>\n",
       "</table>\n",
       "</div>"
      ],
      "text/plain": [
       "   Make No    Make  Model No Model  Engine No    Engine Car Code  Year  \\\n",
       "0        1  ABARTH         1  1000          1  982cc L4  1438885  1969   \n",
       "\n",
       "   Group No              Group  Type No       Type Type Code  \\\n",
       "0         1  Brake & Wheel Hub        1  Brake Pad      1684   \n",
       "\n",
       "                                           Tab 1 Url  \n",
       "0  https://www.rockauto.com/en/catalog/ABARTH,196...  "
      ]
     },
     "execution_count": 19,
     "metadata": {},
     "output_type": "execute_result"
    }
   ],
   "source": [
    "if not output_correct.empty:\n",
    "    output_correct = output_correct.sort_values(by=['Make No', 'Model No', 'Engine No', 'Year', 'Group No', 'Type No'],\n",
    "                                                ascending=[True, True, True, False, True, True],\n",
    "                                                ignore_index=True)\n",
    "    output_correct.to_excel('./test_type_1.xlsx', index=False)\n",
    "\n",
    "output_correct"
   ]
  },
  {
   "cell_type": "code",
   "execution_count": 20,
   "id": "39a5441b-7f69-4812-aad8-7e10a1a24e78",
   "metadata": {},
   "outputs": [
    {
     "data": {
      "text/html": [
       "<div>\n",
       "<style scoped>\n",
       "    .dataframe tbody tr th:only-of-type {\n",
       "        vertical-align: middle;\n",
       "    }\n",
       "\n",
       "    .dataframe tbody tr th {\n",
       "        vertical-align: top;\n",
       "    }\n",
       "\n",
       "    .dataframe thead th {\n",
       "        text-align: right;\n",
       "    }\n",
       "</style>\n",
       "<table border=\"1\" class=\"dataframe\">\n",
       "  <thead>\n",
       "    <tr style=\"text-align: right;\">\n",
       "      <th></th>\n",
       "    </tr>\n",
       "  </thead>\n",
       "  <tbody>\n",
       "  </tbody>\n",
       "</table>\n",
       "</div>"
      ],
      "text/plain": [
       "Empty DataFrame\n",
       "Columns: []\n",
       "Index: []"
      ]
     },
     "execution_count": 20,
     "metadata": {},
     "output_type": "execute_result"
    }
   ],
   "source": [
    "if not output_error.empty:\n",
    "    output_error = output_error.sort_values(by=['Make No', 'Model No', 'Engine No', 'Year', 'Group No'],\n",
    "                                            ascending=[True, True, True, False, True],\n",
    "                                            ignore_index=True)\n",
    "    output_error.to_excel('./test_type_1_error.xlsx', index=False)\n",
    "\n",
    "output_error"
   ]
  },
  {
   "cell_type": "code",
   "execution_count": null,
   "id": "ba5d9f77-7464-4ad5-a42b-1fa0c0505832",
   "metadata": {},
   "outputs": [],
   "source": []
  }
 ],
 "metadata": {
  "kernelspec": {
   "display_name": "Python 3 (ipykernel)",
   "language": "python",
   "name": "python3"
  },
  "language_info": {
   "codemirror_mode": {
    "name": "ipython",
    "version": 3
   },
   "file_extension": ".py",
   "mimetype": "text/x-python",
   "name": "python",
   "nbconvert_exporter": "python",
   "pygments_lexer": "ipython3",
   "version": "3.11.3"
  }
 },
 "nbformat": 4,
 "nbformat_minor": 5
}
