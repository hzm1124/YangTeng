{
 "cells": [
  {
   "cell_type": "code",
   "execution_count": 1,
   "id": "28567785-1bca-439f-9042-e39b3255a55b",
   "metadata": {},
   "outputs": [],
   "source": [
    "import os\n",
    "\n",
    "# = = =  = = =  = = =\n",
    "\n",
    "import pandas as pd\n",
    "\n",
    "# = = =  = = =  = = =\n",
    "\n",
    "import requests\n",
    "\n",
    "import sys\n",
    "sys.path.append('../00.Tools')\n",
    "from crawler_configuration import get_header, get_proxy\n",
    "\n",
    "# = = =  = = =  = = =\n",
    "\n",
    "import json"
   ]
  },
  {
   "cell_type": "code",
   "execution_count": 2,
   "id": "9b75b948-9701-432e-a5ef-88d0e629bd2c",
   "metadata": {},
   "outputs": [
    {
     "data": {
      "text/plain": [
       "'1.xlsx'"
      ]
     },
     "execution_count": 2,
     "metadata": {},
     "output_type": "execute_result"
    }
   ],
   "source": [
    "directory_in = './file/2.part_number'\n",
    "list_file = [file for file in sorted(list(os.walk(directory_in))[0][2]) if file not in ['.DS_Store'] and os.path.isfile(os.path.join(directory_in, file))]\n",
    "file = list_file[0]\n",
    "\n",
    "file"
   ]
  },
  {
   "cell_type": "code",
   "execution_count": 3,
   "id": "72d1da7d-f371-4e06-8ec0-83c9b2abd2e3",
   "metadata": {},
   "outputs": [
    {
     "name": "stdout",
     "output_type": "stream",
     "text": [
      "Data Loading...\n",
      "Loading Done !\n",
      "\n",
      "总数量：450\n",
      "\n"
     ]
    },
    {
     "data": {
      "text/html": [
       "<div>\n",
       "<style scoped>\n",
       "    .dataframe tbody tr th:only-of-type {\n",
       "        vertical-align: middle;\n",
       "    }\n",
       "\n",
       "    .dataframe tbody tr th {\n",
       "        vertical-align: top;\n",
       "    }\n",
       "\n",
       "    .dataframe thead th {\n",
       "        text-align: right;\n",
       "    }\n",
       "</style>\n",
       "<table border=\"1\" class=\"dataframe\">\n",
       "  <thead>\n",
       "    <tr style=\"text-align: right;\">\n",
       "      <th></th>\n",
       "      <th>No</th>\n",
       "      <th>Part Number</th>\n",
       "      <th>Url</th>\n",
       "    </tr>\n",
       "  </thead>\n",
       "  <tbody>\n",
       "    <tr>\n",
       "      <th>0</th>\n",
       "      <td>1</td>\n",
       "      <td>APK100</td>\n",
       "      <td>https://www.standardbrand.com/en/ecatalog?part...</td>\n",
       "    </tr>\n",
       "    <tr>\n",
       "      <th>1</th>\n",
       "      <td>2</td>\n",
       "      <td>APK101</td>\n",
       "      <td>https://www.standardbrand.com/en/ecatalog?part...</td>\n",
       "    </tr>\n",
       "    <tr>\n",
       "      <th>2</th>\n",
       "      <td>3</td>\n",
       "      <td>APK102</td>\n",
       "      <td>https://www.standardbrand.com/en/ecatalog?part...</td>\n",
       "    </tr>\n",
       "    <tr>\n",
       "      <th>3</th>\n",
       "      <td>4</td>\n",
       "      <td>APK103</td>\n",
       "      <td>https://www.standardbrand.com/en/ecatalog?part...</td>\n",
       "    </tr>\n",
       "    <tr>\n",
       "      <th>4</th>\n",
       "      <td>5</td>\n",
       "      <td>APS101</td>\n",
       "      <td>https://www.standardbrand.com/en/ecatalog?part...</td>\n",
       "    </tr>\n",
       "    <tr>\n",
       "      <th>...</th>\n",
       "      <td>...</td>\n",
       "      <td>...</td>\n",
       "      <td>...</td>\n",
       "    </tr>\n",
       "    <tr>\n",
       "      <th>445</th>\n",
       "      <td>446</td>\n",
       "      <td>APS717</td>\n",
       "      <td>https://www.standardbrand.com/en/ecatalog?part...</td>\n",
       "    </tr>\n",
       "    <tr>\n",
       "      <th>446</th>\n",
       "      <td>447</td>\n",
       "      <td>G92003</td>\n",
       "      <td>https://www.standardbrand.com/en/ecatalog?part...</td>\n",
       "    </tr>\n",
       "    <tr>\n",
       "      <th>447</th>\n",
       "      <td>448</td>\n",
       "      <td>G92004</td>\n",
       "      <td>https://www.standardbrand.com/en/ecatalog?part...</td>\n",
       "    </tr>\n",
       "    <tr>\n",
       "      <th>448</th>\n",
       "      <td>449</td>\n",
       "      <td>G92005</td>\n",
       "      <td>https://www.standardbrand.com/en/ecatalog?part...</td>\n",
       "    </tr>\n",
       "    <tr>\n",
       "      <th>449</th>\n",
       "      <td>450</td>\n",
       "      <td>T92001</td>\n",
       "      <td>https://www.standardbrand.com/en/ecatalog?part...</td>\n",
       "    </tr>\n",
       "  </tbody>\n",
       "</table>\n",
       "<p>450 rows × 3 columns</p>\n",
       "</div>"
      ],
      "text/plain": [
       "      No Part Number                                                Url\n",
       "0      1      APK100  https://www.standardbrand.com/en/ecatalog?part...\n",
       "1      2      APK101  https://www.standardbrand.com/en/ecatalog?part...\n",
       "2      3      APK102  https://www.standardbrand.com/en/ecatalog?part...\n",
       "3      4      APK103  https://www.standardbrand.com/en/ecatalog?part...\n",
       "4      5      APS101  https://www.standardbrand.com/en/ecatalog?part...\n",
       "..   ...         ...                                                ...\n",
       "445  446      APS717  https://www.standardbrand.com/en/ecatalog?part...\n",
       "446  447      G92003  https://www.standardbrand.com/en/ecatalog?part...\n",
       "447  448      G92004  https://www.standardbrand.com/en/ecatalog?part...\n",
       "448  449      G92005  https://www.standardbrand.com/en/ecatalog?part...\n",
       "449  450      T92001  https://www.standardbrand.com/en/ecatalog?part...\n",
       "\n",
       "[450 rows x 3 columns]"
      ]
     },
     "execution_count": 3,
     "metadata": {},
     "output_type": "execute_result"
    }
   ],
   "source": [
    "print('Data Loading...')\n",
    "list_dict_correct, list_series_error, df_input = [], [], pd.read_excel(os.path.join(directory_in, file),\n",
    "                                                                       header=0,\n",
    "                                                                       dtype=str).fillna('')\n",
    "print('Loading Done !')\n",
    "print()\n",
    "\n",
    "df_input['No'] = df_input['No'].astype(int)\n",
    "\n",
    "crawler_remain = len(df_input)\n",
    "\n",
    "print(f'总数量：{crawler_remain}')\n",
    "print()\n",
    "\n",
    "df_input"
   ]
  },
  {
   "cell_type": "code",
   "execution_count": 4,
   "id": "5878a9f0-d639-4123-b6e0-bc564f72c2d6",
   "metadata": {},
   "outputs": [
    {
     "data": {
      "text/plain": [
       "(False,\n",
       " 0,\n",
       " No                                                             1\n",
       " Part Number                                               APK100\n",
       " Url            https://www.standardbrand.com/en/ecatalog?part...\n",
       " Name: 0, dtype: object)"
      ]
     },
     "execution_count": 4,
     "metadata": {},
     "output_type": "execute_result"
    }
   ],
   "source": [
    "crawler_status, (crawler_index, crawler_series) = False, next(df_input.iterrows())\n",
    "\n",
    "crawler_status, crawler_index, crawler_series"
   ]
  },
  {
   "cell_type": "code",
   "execution_count": 5,
   "id": "ad99bc86-6e80-4fcf-8200-736dc5101097",
   "metadata": {
    "scrolled": true
   },
   "outputs": [
    {
     "name": "stdout",
     "output_type": "stream",
     "text": [
      "1\n"
     ]
    },
    {
     "data": {
      "text/plain": [
       "{'pd': {'rowId': 1,\n",
       "  'site': 'STD',\n",
       "  'webBase': 'APK100',\n",
       "  'brand': 'STD',\n",
       "  'basePart': 'APK100',\n",
       "  'partDesc_en': 'Accelerator Pedal Sensor',\n",
       "  'partLongDesc_en': 'Accelerator Pedal Sensor',\n",
       "  'pop': 'D',\n",
       "  'partComment': None,\n",
       "  'qtyEach': 1,\n",
       "  'webColumn_Id': None,\n",
       "  'categoryName_en': None,\n",
       "  'vehicleId': None,\n",
       "  'mfg': None,\n",
       "  'mfG_Part': None,\n",
       "  'maxRows': 1,\n",
       "  'brandLink': None,\n",
       "  'imageUrl': None},\n",
       " 'pp': {'buyersGuides': [{'basePart': 'APK100',\n",
       "    'buyersGuideId': 49562,\n",
       "    'buyersGuideDesc': 'Cadillac Escalade (03)'},\n",
       "   {'basePart': 'APK100',\n",
       "    'buyersGuideId': 49800,\n",
       "    'buyersGuideDesc': 'Chevrolet Avalanche 1500 (03)'},\n",
       "   {'basePart': 'APK100',\n",
       "    'buyersGuideId': 5877,\n",
       "    'buyersGuideDesc': 'Chevrolet Avalanche 2500 (03)'},\n",
       "   {'basePart': 'APK100',\n",
       "    'buyersGuideId': 11188,\n",
       "    'buyersGuideDesc': 'Chevrolet Silverado 1500 (03)'},\n",
       "   {'basePart': 'APK100',\n",
       "    'buyersGuideId': 51639,\n",
       "    'buyersGuideDesc': 'Chevrolet Silverado 1500 HD (03)'},\n",
       "   {'basePart': 'APK100',\n",
       "    'buyersGuideId': 12401,\n",
       "    'buyersGuideDesc': 'Chevrolet Silverado 2500 (03)'},\n",
       "   {'basePart': 'APK100',\n",
       "    'buyersGuideId': 12414,\n",
       "    'buyersGuideDesc': 'Chevrolet Silverado 2500 HD (05-03)'},\n",
       "   {'basePart': 'APK100',\n",
       "    'buyersGuideId': 51673,\n",
       "    'buyersGuideDesc': 'Chevrolet Silverado 3500 (05-03)'},\n",
       "   {'basePart': 'APK100',\n",
       "    'buyersGuideId': 11902,\n",
       "    'buyersGuideDesc': 'Chevrolet Suburban 1500 (03)'},\n",
       "   {'basePart': 'APK100',\n",
       "    'buyersGuideId': 11913,\n",
       "    'buyersGuideDesc': 'Chevrolet Suburban 2500 (03)'},\n",
       "   {'basePart': 'APK100',\n",
       "    'buyersGuideId': 51748,\n",
       "    'buyersGuideDesc': 'Chevrolet Tahoe (03)'},\n",
       "   {'basePart': 'APK100',\n",
       "    'buyersGuideId': 56462,\n",
       "    'buyersGuideDesc': 'GMC Sierra 1500 (03-01)'},\n",
       "   {'basePart': 'APK100',\n",
       "    'buyersGuideId': 26674,\n",
       "    'buyersGuideDesc': 'GMC Sierra 1500 HD (03-01)'},\n",
       "   {'basePart': 'APK100',\n",
       "    'buyersGuideId': 26681,\n",
       "    'buyersGuideDesc': 'GMC Sierra 2500 (03-00)'},\n",
       "   {'basePart': 'APK100',\n",
       "    'buyersGuideId': 26686,\n",
       "    'buyersGuideDesc': 'GMC Sierra 2500 HD (05-01)'},\n",
       "   {'basePart': 'APK100',\n",
       "    'buyersGuideId': 25786,\n",
       "    'buyersGuideDesc': 'GMC Sierra 3500 (05-01)'},\n",
       "   {'basePart': 'APK100',\n",
       "    'buyersGuideId': 56600,\n",
       "    'buyersGuideDesc': 'GMC Yukon (03-00)'},\n",
       "   {'basePart': 'APK100',\n",
       "    'buyersGuideId': 56635,\n",
       "    'buyersGuideDesc': 'GMC Yukon XL 1500 (03-00)'},\n",
       "   {'basePart': 'APK100',\n",
       "    'buyersGuideId': 56653,\n",
       "    'buyersGuideDesc': 'GMC Yukon XL 2500 (03-00)'},\n",
       "   {'basePart': 'APK100',\n",
       "    'buyersGuideId': 26881,\n",
       "    'buyersGuideDesc': 'Hummer H2 (03)'}],\n",
       "  'partSpecs': [{'attributeCode': '110',\n",
       "    'attributeValue': 1905,\n",
       "    'attributeSort': 0,\n",
       "    'attributeName_en': 'Warranty',\n",
       "    'siteValue_en': '3 years/36,000 mile'},\n",
       "   {'attributeCode': '455',\n",
       "    'attributeValue': 6306,\n",
       "    'attributeSort': 0,\n",
       "    'attributeName_en': 'New or Reman',\n",
       "    'siteValue_en': 'New'},\n",
       "   {'attributeCode': '479',\n",
       "    'attributeValue': 6323,\n",
       "    'attributeSort': 0,\n",
       "    'attributeName_en': 'Linkage Attached',\n",
       "    'siteValue_en': 'No'},\n",
       "   {'attributeCode': '480',\n",
       "    'attributeValue': 7905,\n",
       "    'attributeSort': 0,\n",
       "    'attributeName_en': 'Pedal Assembly Included',\n",
       "    'siteValue_en': 'Yes'},\n",
       "   {'attributeCode': '160',\n",
       "    'attributeValue': 249,\n",
       "    'attributeSort': 220,\n",
       "    'attributeName_en': 'Connector Quantity',\n",
       "    'siteValue_en': '1'},\n",
       "   {'attributeCode': '171',\n",
       "    'attributeValue': 6776,\n",
       "    'attributeSort': 230,\n",
       "    'attributeName_en': 'Connector Shape',\n",
       "    'siteValue_en': 'Rectangular'},\n",
       "   {'attributeCode': '9',\n",
       "    'attributeValue': 4752,\n",
       "    'attributeSort': 240,\n",
       "    'attributeName_en': 'Connector Gender',\n",
       "    'siteValue_en': 'Female'},\n",
       "   {'attributeCode': '164',\n",
       "    'attributeValue': 3428,\n",
       "    'attributeSort': 250,\n",
       "    'attributeName_en': 'Terminal Quantity',\n",
       "    'siteValue_en': '9'},\n",
       "   {'attributeCode': '104',\n",
       "    'attributeValue': 5959,\n",
       "    'attributeSort': 260,\n",
       "    'attributeName_en': 'Terminal Gender',\n",
       "    'siteValue_en': 'Male (1)'},\n",
       "   {'attributeCode': '105',\n",
       "    'attributeValue': 6556,\n",
       "    'attributeSort': 280,\n",
       "    'attributeName_en': 'Terminal Type',\n",
       "    'siteValue_en': 'Pin'},\n",
       "   {'attributeCode': '357',\n",
       "    'attributeValue': 4038,\n",
       "    'attributeSort': 340,\n",
       "    'attributeName_en': 'Attachment Method',\n",
       "    'siteValue_en': 'Bolt On'},\n",
       "   {'attributeCode': '159',\n",
       "    'attributeValue': 3974,\n",
       "    'attributeSort': 380,\n",
       "    'attributeName_en': 'Color/Finish',\n",
       "    'siteValue_en': 'Black'},\n",
       "   {'attributeCode': '143',\n",
       "    'attributeValue': 6323,\n",
       "    'attributeSort': 480,\n",
       "    'attributeName_en': 'Hardware included',\n",
       "    'siteValue_en': 'No'},\n",
       "   {'attributeCode': '52',\n",
       "    'attributeValue': 10289,\n",
       "    'attributeSort': 510,\n",
       "    'attributeName_en': 'Material',\n",
       "    'siteValue_en': 'Polyamide 6'},\n",
       "   {'attributeCode': '162',\n",
       "    'attributeValue': 6323,\n",
       "    'attributeSort': 560,\n",
       "    'attributeName_en': 'Mounting Bracket(s) Included',\n",
       "    'siteValue_en': 'No'}],\n",
       "  'imageUrls': [],\n",
       "  'relatedParts': [{'webBase': 'S1197',\n",
       "    'brand': 'STD',\n",
       "    'basePart': 'S-1197',\n",
       "    'partDesc_en': 'Electrical Connector',\n",
       "    'partLongDesc_en': 'Accelerator Pedal Sensor Connector',\n",
       "    'rowId': 1}],\n",
       "  'relatedCategories': None,\n",
       "  'fandB': [{'basePart': 'APK100',\n",
       "    'fbId': '311956',\n",
       "    'fbDesc': 'For over 100 years, professional technicians have trusted Standard to replace the failed OE part. Standard manufacturers the highest-quality, best-performing parts for all import and domestic vehicles; gas, diesel, electric and hybrid. Precision manufacturing, multiple layers of testing, and a detailed validation process ensures Standard parts don’t just fit, they perform and they last.',\n",
       "    'taB_Type': 'F&B Heading',\n",
       "    'assetSort': 1,\n",
       "    'digiSort': 100},\n",
       "   {'basePart': 'APK100',\n",
       "    'fbId': '218904',\n",
       "    'fbDesc': 'Complete repair kit includes everything you need to do the job correctly',\n",
       "    'taB_Type': 'F&B Details',\n",
       "    'assetSort': 8,\n",
       "    'digiSort': 200},\n",
       "   {'basePart': 'APK100',\n",
       "    'fbId': '218866',\n",
       "    'fbDesc': 'Allows you to replace only failed sensor instead of entire pedal assembly ',\n",
       "    'taB_Type': 'F&B Details',\n",
       "    'assetSort': 8,\n",
       "    'digiSort': 210},\n",
       "   {'basePart': 'APK100',\n",
       "    'fbId': '218526',\n",
       "    'fbDesc': 'Designed and extensively tested to ensure proper throttle response ',\n",
       "    'taB_Type': 'F&B Details',\n",
       "    'assetSort': 8,\n",
       "    'digiSort': 220},\n",
       "   {'basePart': 'APK100',\n",
       "    'fbId': '272134',\n",
       "    'fbDesc': \"Our parts meet or exceed OE performance, providing today's technician with the quality parts needed to get the job done right, the first time\",\n",
       "    'taB_Type': 'F&B Details',\n",
       "    'assetSort': 8,\n",
       "    'digiSort': 230}],\n",
       "  'digiAssests': [{'asset_ID': 7,\n",
       "    'assetName': 'Videos',\n",
       "    'basePart': 'APK100',\n",
       "    'fileName': 'SMP Engineering Spotlight: Long Island City',\n",
       "    'fileURL': 'https://youtube.com/embed/I-kWdiTPe08',\n",
       "    'comment_ID': '220958',\n",
       "    'comment': 'SMP Engineering Spotlight: Long Island City',\n",
       "    'assetSort': 7,\n",
       "    'digiSort': 80003,\n",
       "    'videoImage': None},\n",
       "   {'asset_ID': 7,\n",
       "    'assetName': 'Videos',\n",
       "    'basePart': 'APK100',\n",
       "    'fileName': 'SMP Engineering - Long Island City Facility Tour',\n",
       "    'fileURL': 'https://youtube.com/embed/ut5LYbUFCKo',\n",
       "    'comment_ID': '271219',\n",
       "    'comment': 'SMP Engineering - Long Island City Facility Tour',\n",
       "    'assetSort': 7,\n",
       "    'digiSort': 80350,\n",
       "    'videoImage': None},\n",
       "   {'asset_ID': 7,\n",
       "    'assetName': 'Videos',\n",
       "    'basePart': 'APK100',\n",
       "    'fileName': 'Standard Interactive Buyers Guide',\n",
       "    'fileURL': 'https://youtube.com/embed/mRzK11T9pxg',\n",
       "    'comment_ID': '251346',\n",
       "    'comment': 'Standard Interactive Buyers Guide',\n",
       "    'assetSort': 7,\n",
       "    'digiSort': 90030,\n",
       "    'videoImage': None},\n",
       "   {'asset_ID': 7,\n",
       "    'assetName': 'Videos',\n",
       "    'basePart': 'APK100',\n",
       "    'fileName': 'SMP Parts App Update (3.0.9)',\n",
       "    'fileURL': 'https://youtube.com/embed/HvA2lY15M28',\n",
       "    'comment_ID': '270593',\n",
       "    'comment': 'SMP Parts App Update (3.0.9)',\n",
       "    'assetSort': 7,\n",
       "    'digiSort': 90090,\n",
       "    'videoImage': None}],\n",
       "  'categories': [{'basePart': 'APK100',\n",
       "    'webLayout_ID': 220300,\n",
       "    'categoryName_en': 'Sensor - Accelerator Pedal',\n",
       "    'prodCategory_ASort': 25010}],\n",
       "  'crossRef': None,\n",
       "  'completeRepair': {'serviceParts': [{'webBase': 'S1197',\n",
       "     'brand': 'STD',\n",
       "     'basePart': 'S-1197',\n",
       "     'partDesc_en': 'Electrical Connector',\n",
       "     'partLongDesc_en': 'Accelerator Pedal Sensor Connector',\n",
       "     'rowId': 1}],\n",
       "   'serviceSpec': [{'serviceName': 'Fuel Filter Flush (Required)'},\n",
       "    {'serviceName': 'Oil Change (Required)'}]}}}"
      ]
     },
     "execution_count": 5,
     "metadata": {},
     "output_type": "execute_result"
    }
   ],
   "source": [
    "import time\n",
    "\n",
    "crawler_retry = 0\n",
    "while True:\n",
    "    crawler_retry += 1\n",
    "    print(crawler_retry)\n",
    "    try:\n",
    "        url_request, url_check = f'''https://ecatalog.smpcorp.com/V2/STD/api/part/partselect?part={crawler_series['Part Number']}&func=PART&vid=''', crawler_series['Url']\n",
    "\n",
    "        resp = requests.get(url_request,\n",
    "                            headers=get_header(),\n",
    "                            proxies=get_proxy(),\n",
    "                            timeout=(5, 15))\n",
    "\n",
    "        if resp.status_code == 200:\n",
    "            dict_dict = resp.json()\n",
    "\n",
    "            if dict_dict:\n",
    "                break\n",
    "    except KeyboardInterrupt:\n",
    "        break\n",
    "    except:\n",
    "        time.sleep(3)\n",
    "        continue\n",
    "\n",
    "dict_dict"
   ]
  },
  {
   "cell_type": "code",
   "execution_count": 6,
   "id": "f933a1ab-8825-469f-91db-99d00e8d5c6d",
   "metadata": {
    "scrolled": true
   },
   "outputs": [
    {
     "data": {
      "text/plain": [
       "{'Brand': 'STD',\n",
       " 'Partdesc_En': 'Accelerator Pedal Sensor',\n",
       " 'Partlongdesc_En': 'Accelerator Pedal Sensor',\n",
       " 'Pop': 'D',\n",
       " 'Qtyeach': 1}"
      ]
     },
     "execution_count": 6,
     "metadata": {},
     "output_type": "execute_result"
    }
   ],
   "source": [
    "dict_info = {key.strip().title(): value.strip() if type(value) == str else value for key, value in dict_dict['pd'].items() if key not in ['rowId', 'site', 'webBase', 'basePart', 'maxRows'] and value != None}\n",
    "\n",
    "dict_info"
   ]
  },
  {
   "cell_type": "code",
   "execution_count": 7,
   "id": "53952e5d-1002-4d56-863e-0c83e197acc7",
   "metadata": {
    "scrolled": true
   },
   "outputs": [
    {
     "name": "stdout",
     "output_type": "stream",
     "text": [
      "Cadillac Escalade (03)\n",
      "Chevrolet Avalanche 1500 (03)\n",
      "Chevrolet Avalanche 2500 (03)\n",
      "Chevrolet Silverado 1500 (03)\n",
      "Chevrolet Silverado 1500 HD (03)\n",
      "Chevrolet Silverado 2500 (03)\n",
      "Chevrolet Silverado 2500 HD (05-03)\n",
      "Chevrolet Silverado 3500 (05-03)\n",
      "Chevrolet Suburban 1500 (03)\n",
      "Chevrolet Suburban 2500 (03)\n",
      "Chevrolet Tahoe (03)\n",
      "GMC Sierra 1500 (03-01)\n",
      "GMC Sierra 1500 HD (03-01)\n",
      "GMC Sierra 2500 (03-00)\n",
      "GMC Sierra 2500 HD (05-01)\n",
      "GMC Sierra 3500 (05-01)\n",
      "GMC Yukon (03-00)\n",
      "GMC Yukon XL 1500 (03-00)\n",
      "GMC Yukon XL 2500 (03-00)\n",
      "Hummer H2 (03)\n"
     ]
    }
   ],
   "source": [
    "vehicle = '\\n'.join([dict_['buyersGuideDesc'].strip() for dict_ in dict_dict['pp']['buyersGuides']])\n",
    "\n",
    "print(vehicle)"
   ]
  },
  {
   "cell_type": "code",
   "execution_count": 8,
   "id": "41ebbf17-947f-4a7a-9aa0-5b163eb4a1fd",
   "metadata": {},
   "outputs": [
    {
     "data": {
      "text/plain": [
       "{'0': {'Warranty': '3 years/36,000 mile'},\n",
       " '1': {'New or Reman': 'New'},\n",
       " '2': {'Linkage Attached': 'No'},\n",
       " '3': {'Pedal Assembly Included': 'Yes'},\n",
       " '4': {'Connector Quantity': '1'},\n",
       " '5': {'Connector Shape': 'Rectangular'},\n",
       " '6': {'Connector Gender': 'Female'},\n",
       " '7': {'Terminal Quantity': '9'},\n",
       " '8': {'Terminal Gender': 'Male (1)'},\n",
       " '9': {'Terminal Type': 'Pin'},\n",
       " '10': {'Attachment Method': 'Bolt On'},\n",
       " '11': {'Color/Finish': 'Black'},\n",
       " '12': {'Hardware included': 'No'},\n",
       " '13': {'Material': 'Polyamide 6'},\n",
       " '14': {'Mounting Bracket(s) Included': 'No'}}"
      ]
     },
     "execution_count": 8,
     "metadata": {},
     "output_type": "execute_result"
    }
   ],
   "source": [
    "dict_key, list_dict = {}, dict_dict['pp']['partSpecs']\n",
    "for dict_ in list_dict:\n",
    "    key = dict_['attributeName_en'].strip()\n",
    "    if key in dict_key:\n",
    "        dict_key[key] += 1\n",
    "    else:\n",
    "        dict_key[key] = 1\n",
    "\n",
    "dict_specification, dict_count = {}, {}\n",
    "for i, dict_ in enumerate(list_dict):\n",
    "    key = dict_['attributeName_en'].strip()\n",
    "    if dict_key[key] == 1:\n",
    "        dict_specification[str(i)] = {key: dict_['siteValue_en'].strip()}\n",
    "    else:\n",
    "        if key in dict_count:\n",
    "            dict_count[key] += 1\n",
    "        else:\n",
    "            dict_count[key] = 1\n",
    "        dict_specification[str(i)] = {f'{key}-{dict_count[key]}': dict_['siteValue_en'].strip()}\n",
    "\n",
    "dict_specification"
   ]
  },
  {
   "cell_type": "code",
   "execution_count": 9,
   "id": "21a88b05-f004-45e6-8d53-cfd5ef8d148e",
   "metadata": {},
   "outputs": [
    {
     "data": {
      "text/plain": [
       "{'0': 'Sensor - Accelerator Pedal'}"
      ]
     },
     "execution_count": 9,
     "metadata": {},
     "output_type": "execute_result"
    }
   ],
   "source": [
    "dict_type, list_dict = {}, dict_dict['pp']['categories']\n",
    "for i, dict_ in enumerate(list_dict):\n",
    "    dict_type[str(i)] = dict_['categoryName_en'].strip()\n",
    "\n",
    "dict_type"
   ]
  },
  {
   "cell_type": "code",
   "execution_count": 10,
   "id": "99f49dd4-107b-4d6f-9ed6-1db0c1be6093",
   "metadata": {},
   "outputs": [
    {
     "data": {
      "text/plain": [
       "[{'No': 1,\n",
       "  'Part Number': 'APK100',\n",
       "  'Vehicle': 'Cadillac Escalade (03)\\nChevrolet Avalanche 1500 (03)\\nChevrolet Avalanche 2500 (03)\\nChevrolet Silverado 1500 (03)\\nChevrolet Silverado 1500 HD (03)\\nChevrolet Silverado 2500 (03)\\nChevrolet Silverado 2500 HD (05-03)\\nChevrolet Silverado 3500 (05-03)\\nChevrolet Suburban 1500 (03)\\nChevrolet Suburban 2500 (03)\\nChevrolet Tahoe (03)\\nGMC Sierra 1500 (03-01)\\nGMC Sierra 1500 HD (03-01)\\nGMC Sierra 2500 (03-00)\\nGMC Sierra 2500 HD (05-01)\\nGMC Sierra 3500 (05-01)\\nGMC Yukon (03-00)\\nGMC Yukon XL 1500 (03-00)\\nGMC Yukon XL 2500 (03-00)\\nHummer H2 (03)',\n",
       "  'Picture': '',\n",
       "  'Url': 'https://www.standardbrand.com/en/ecatalog?part=APK100&type=p&search=s',\n",
       "  'Json_Type': '{\"0\": \"Sensor - Accelerator Pedal\"}',\n",
       "  'Json_Info': '{\"Brand\": \"STD\", \"Partdesc_En\": \"Accelerator Pedal Sensor\", \"Partlongdesc_En\": \"Accelerator Pedal Sensor\", \"Pop\": \"D\", \"Qtyeach\": 1}',\n",
       "  'Json_Specification': '{\"0\": {\"Warranty\": \"3 years/36,000 mile\"}, \"1\": {\"New or Reman\": \"New\"}, \"2\": {\"Linkage Attached\": \"No\"}, \"3\": {\"Pedal Assembly Included\": \"Yes\"}, \"4\": {\"Connector Quantity\": \"1\"}, \"5\": {\"Connector Shape\": \"Rectangular\"}, \"6\": {\"Connector Gender\": \"Female\"}, \"7\": {\"Terminal Quantity\": \"9\"}, \"8\": {\"Terminal Gender\": \"Male (1)\"}, \"9\": {\"Terminal Type\": \"Pin\"}, \"10\": {\"Attachment Method\": \"Bolt On\"}, \"11\": {\"Color/Finish\": \"Black\"}, \"12\": {\"Hardware included\": \"No\"}, \"13\": {\"Material\": \"Polyamide 6\"}, \"14\": {\"Mounting Bracket(s) Included\": \"No\"}}'}]"
      ]
     },
     "execution_count": 10,
     "metadata": {},
     "output_type": "execute_result"
    }
   ],
   "source": [
    "list_dict_correct.append({'No': crawler_series['No'],\n",
    "                          'Part Number': crawler_series['Part Number'],\n",
    "                          'Vehicle': vehicle,\n",
    "                          'Picture': '',\n",
    "                          'Url': crawler_series['Url'],\n",
    "                          'Json_Type': json.dumps(dict_type),\n",
    "                          'Json_Info': json.dumps(dict_info),\n",
    "                          'Json_Specification': json.dumps(dict_specification)})\n",
    "\n",
    "list_dict_correct"
   ]
  },
  {
   "cell_type": "code",
   "execution_count": 11,
   "id": "fc4ed7f6-ed4f-431c-b944-b1690309cdae",
   "metadata": {},
   "outputs": [
    {
     "data": {
      "text/plain": [
       "True"
      ]
     },
     "execution_count": 11,
     "metadata": {},
     "output_type": "execute_result"
    }
   ],
   "source": [
    "crawler_status = True\n",
    "\n",
    "crawler_status"
   ]
  },
  {
   "cell_type": "code",
   "execution_count": 12,
   "id": "65c745d1-446e-46c5-9dec-819c9f7944d3",
   "metadata": {},
   "outputs": [
    {
     "data": {
      "text/plain": [
       "[No                                                             1\n",
       " Part Number                                               APK100\n",
       " Url            https://www.standardbrand.com/en/ecatalog?part...\n",
       " Request_Url    https://ecatalog.smpcorp.com/V2/STD/api/part/p...\n",
       " Check_Url      https://www.standardbrand.com/en/ecatalog?part...\n",
       " Name: 0, dtype: object]"
      ]
     },
     "execution_count": 12,
     "metadata": {},
     "output_type": "execute_result"
    }
   ],
   "source": [
    "crawler_series['Request_Url'], crawler_series['Check_Url'] = url_request, url_check\n",
    "\n",
    "list_series_error.append(crawler_series)\n",
    "\n",
    "list_series_error"
   ]
  },
  {
   "cell_type": "code",
   "execution_count": 13,
   "id": "17a796b2-35c8-4c10-960e-6111fec4b993",
   "metadata": {},
   "outputs": [
    {
     "name": "stdout",
     "output_type": "stream",
     "text": [
      "Data Outputting...\n"
     ]
    },
    {
     "data": {
      "text/html": [
       "<div>\n",
       "<style scoped>\n",
       "    .dataframe tbody tr th:only-of-type {\n",
       "        vertical-align: middle;\n",
       "    }\n",
       "\n",
       "    .dataframe tbody tr th {\n",
       "        vertical-align: top;\n",
       "    }\n",
       "\n",
       "    .dataframe thead th {\n",
       "        text-align: right;\n",
       "    }\n",
       "</style>\n",
       "<table border=\"1\" class=\"dataframe\">\n",
       "  <thead>\n",
       "    <tr style=\"text-align: right;\">\n",
       "      <th></th>\n",
       "      <th>No</th>\n",
       "      <th>Part Number</th>\n",
       "      <th>Vehicle</th>\n",
       "      <th>Picture</th>\n",
       "      <th>Url</th>\n",
       "      <th>Json_Type</th>\n",
       "      <th>Json_Info</th>\n",
       "      <th>Json_Specification</th>\n",
       "    </tr>\n",
       "  </thead>\n",
       "  <tbody>\n",
       "    <tr>\n",
       "      <th>0</th>\n",
       "      <td>1</td>\n",
       "      <td>APK100</td>\n",
       "      <td>Cadillac Escalade (03)\\nChevrolet Avalanche 15...</td>\n",
       "      <td></td>\n",
       "      <td>https://www.standardbrand.com/en/ecatalog?part...</td>\n",
       "      <td>{\"0\": \"Sensor - Accelerator Pedal\"}</td>\n",
       "      <td>{\"Brand\": \"STD\", \"Partdesc_En\": \"Accelerator P...</td>\n",
       "      <td>{\"0\": {\"Warranty\": \"3 years/36,000 mile\"}, \"1\"...</td>\n",
       "    </tr>\n",
       "  </tbody>\n",
       "</table>\n",
       "</div>"
      ],
      "text/plain": [
       "   No Part Number                                            Vehicle Picture  \\\n",
       "0   1      APK100  Cadillac Escalade (03)\\nChevrolet Avalanche 15...           \n",
       "\n",
       "                                                 Url  \\\n",
       "0  https://www.standardbrand.com/en/ecatalog?part...   \n",
       "\n",
       "                             Json_Type  \\\n",
       "0  {\"0\": \"Sensor - Accelerator Pedal\"}   \n",
       "\n",
       "                                           Json_Info  \\\n",
       "0  {\"Brand\": \"STD\", \"Partdesc_En\": \"Accelerator P...   \n",
       "\n",
       "                                  Json_Specification  \n",
       "0  {\"0\": {\"Warranty\": \"3 years/36,000 mile\"}, \"1\"...  "
      ]
     },
     "execution_count": 13,
     "metadata": {},
     "output_type": "execute_result"
    }
   ],
   "source": [
    "print('Data Outputting...')\n",
    "if list_dict_correct:\n",
    "    df_correct = pd.DataFrame(list_dict_correct).sort_values(by=['No'],\n",
    "                                                             ascending=[True],\n",
    "                                                             ignore_index=True)\n",
    "    df_correct.to_excel('./test_part.xlsx', index=False)\n",
    "\n",
    "df_correct if list_dict_correct else ''"
   ]
  },
  {
   "cell_type": "code",
   "execution_count": 14,
   "id": "9bf713a9-1e05-4cd9-aa90-0340ee852a3e",
   "metadata": {},
   "outputs": [
    {
     "name": "stdout",
     "output_type": "stream",
     "text": [
      "Output Finished !\n",
      "\n"
     ]
    }
   ],
   "source": [
    "print('Output Finished !')\n",
    "print()"
   ]
  },
  {
   "cell_type": "code",
   "execution_count": 15,
   "id": "b21c3fac-203a-4c6e-b7ae-b0ac1a112665",
   "metadata": {},
   "outputs": [
    {
     "name": "stdout",
     "output_type": "stream",
     "text": [
      "- Error Occurred -\n",
      "\n"
     ]
    },
    {
     "data": {
      "text/html": [
       "<div>\n",
       "<style scoped>\n",
       "    .dataframe tbody tr th:only-of-type {\n",
       "        vertical-align: middle;\n",
       "    }\n",
       "\n",
       "    .dataframe tbody tr th {\n",
       "        vertical-align: top;\n",
       "    }\n",
       "\n",
       "    .dataframe thead th {\n",
       "        text-align: right;\n",
       "    }\n",
       "</style>\n",
       "<table border=\"1\" class=\"dataframe\">\n",
       "  <thead>\n",
       "    <tr style=\"text-align: right;\">\n",
       "      <th></th>\n",
       "      <th>No</th>\n",
       "      <th>Part Number</th>\n",
       "      <th>Url</th>\n",
       "      <th>Request_Url</th>\n",
       "      <th>Check_Url</th>\n",
       "    </tr>\n",
       "  </thead>\n",
       "  <tbody>\n",
       "    <tr>\n",
       "      <th>0</th>\n",
       "      <td>1</td>\n",
       "      <td>APK100</td>\n",
       "      <td>https://www.standardbrand.com/en/ecatalog?part...</td>\n",
       "      <td>https://ecatalog.smpcorp.com/V2/STD/api/part/p...</td>\n",
       "      <td>https://www.standardbrand.com/en/ecatalog?part...</td>\n",
       "    </tr>\n",
       "  </tbody>\n",
       "</table>\n",
       "</div>"
      ],
      "text/plain": [
       "   No Part Number                                                Url  \\\n",
       "0   1      APK100  https://www.standardbrand.com/en/ecatalog?part...   \n",
       "\n",
       "                                         Request_Url  \\\n",
       "0  https://ecatalog.smpcorp.com/V2/STD/api/part/p...   \n",
       "\n",
       "                                           Check_Url  \n",
       "0  https://www.standardbrand.com/en/ecatalog?part...  "
      ]
     },
     "execution_count": 15,
     "metadata": {},
     "output_type": "execute_result"
    }
   ],
   "source": [
    "if list_series_error:\n",
    "    df_error = pd.DataFrame(list_series_error).sort_values(by=['No'],\n",
    "                                                           ascending=[True],\n",
    "                                                           ignore_index=True)\n",
    "    df_error.to_excel('./test_part_error.xlsx', index=False)\n",
    "    print('- Error Occurred -')\n",
    "    print()\n",
    "\n",
    "df_error if list_series_error else ''"
   ]
  },
  {
   "cell_type": "code",
   "execution_count": 16,
   "id": "71005f89-2624-4cbf-b626-24658ebeadf6",
   "metadata": {},
   "outputs": [
    {
     "name": "stdout",
     "output_type": "stream",
     "text": [
      "Done ~\n"
     ]
    }
   ],
   "source": [
    "print('Done ~')"
   ]
  },
  {
   "cell_type": "code",
   "execution_count": null,
   "id": "ba5d9f77-7464-4ad5-a42b-1fa0c0505832",
   "metadata": {},
   "outputs": [],
   "source": []
  }
 ],
 "metadata": {
  "kernelspec": {
   "display_name": "Python 3 (ipykernel)",
   "language": "python",
   "name": "python3"
  },
  "language_info": {
   "codemirror_mode": {
    "name": "ipython",
    "version": 3
   },
   "file_extension": ".py",
   "mimetype": "text/x-python",
   "name": "python",
   "nbconvert_exporter": "python",
   "pygments_lexer": "ipython3",
   "version": "3.12.7"
  }
 },
 "nbformat": 4,
 "nbformat_minor": 5
}
