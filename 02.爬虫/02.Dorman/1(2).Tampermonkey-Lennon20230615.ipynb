{
 "cells": [
  {
   "cell_type": "code",
   "execution_count": 1,
   "id": "14ca4672",
   "metadata": {},
   "outputs": [],
   "source": [
    "import os"
   ]
  },
  {
   "cell_type": "code",
   "execution_count": 2,
   "id": "a3369d1a",
   "metadata": {},
   "outputs": [
    {
     "data": {
      "text/plain": [
       "6"
      ]
     },
     "execution_count": 2,
     "metadata": {},
     "output_type": "execute_result"
    }
   ],
   "source": [
    "list_file = list(os.walk('./menu'))[0][2]\n",
    "if '.DS_Store' in list_file:\n",
    "   list_file.remove('.DS_Store')\n",
    "\n",
    "len(list_file)"
   ]
  },
  {
   "cell_type": "code",
   "execution_count": 3,
   "id": "552c5c8c",
   "metadata": {},
   "outputs": [],
   "source": [
    "import pandas as pd"
   ]
  },
  {
   "cell_type": "code",
   "execution_count": 4,
   "id": "19a50da8",
   "metadata": {},
   "outputs": [
    {
     "data": {
      "text/html": [
       "<div>\n",
       "<style scoped>\n",
       "    .dataframe tbody tr th:only-of-type {\n",
       "        vertical-align: middle;\n",
       "    }\n",
       "\n",
       "    .dataframe tbody tr th {\n",
       "        vertical-align: top;\n",
       "    }\n",
       "\n",
       "    .dataframe thead th {\n",
       "        text-align: right;\n",
       "    }\n",
       "</style>\n",
       "<table border=\"1\" class=\"dataframe\">\n",
       "  <thead>\n",
       "    <tr style=\"text-align: right;\">\n",
       "      <th></th>\n",
       "      <th>Part_Number</th>\n",
       "      <th>Part_Type</th>\n",
       "      <th>Application_Summary</th>\n",
       "      <th>Url</th>\n",
       "    </tr>\n",
       "  </thead>\n",
       "  <tbody>\n",
       "  </tbody>\n",
       "</table>\n",
       "</div>"
      ],
      "text/plain": [
       "Empty DataFrame\n",
       "Columns: [Part_Number, Part_Type, Application_Summary, Url]\n",
       "Index: []"
      ]
     },
     "execution_count": 4,
     "metadata": {},
     "output_type": "execute_result"
    }
   ],
   "source": [
    "df = pd.DataFrame(columns=['Part_Number', 'Part_Type', 'Application_Summary', 'Url'])\n",
    "\n",
    "df"
   ]
  },
  {
   "cell_type": "code",
   "execution_count": 5,
   "id": "000d53d7",
   "metadata": {},
   "outputs": [],
   "source": [
    "import json"
   ]
  },
  {
   "cell_type": "code",
   "execution_count": 6,
   "id": "1d3df716",
   "metadata": {},
   "outputs": [
    {
     "name": "stdout",
     "output_type": "stream",
     "text": [
      "www.dormanproducts.com_gsearch.aspx_type=keyword&origin=keyword&q=engine%2520valve%2520cover&start=100&num=100.txt\n",
      "www.dormanproducts.com_gsearch.aspx_type=keyword&origin=keyword&q=engine%2520valve%2520cover&start=500&num=100.txt\n",
      "www.dormanproducts.com_gsearch.aspx_type=keyword&origin=keyword&q=engine%2520valve%2520cover&start=200&num=100.txt\n",
      "www.dormanproducts.com_gsearch.aspx_type=keyword&origin=keyword&q=engine%2520valve%2520cover&start=300&num=100.txt\n",
      "www.dormanproducts.com_gsearch.aspx_type=keyword&origin=keyword&q=engine%2520valve%2520cover&start=400&num=100.txt\n",
      "www.dormanproducts.com_gsearch.aspx_type=keyword&origin=keyword&q=engine%2520valve%2520cover&start=0&num=100.txt\n"
     ]
    }
   ],
   "source": [
    "for file in list_file:\n",
    "    print(file)\n",
    "    with open('./menu/' + file) as f:\n",
    "        list_part = f.read()[1:-1].split('},{')\n",
    "        for i in range(len(list_part)):\n",
    "            if i == 0:\n",
    "                part = json.loads(list_part[i] + '}')\n",
    "            elif i == len(list_part) - 1:\n",
    "                part = json.loads('{' + list_part[i])\n",
    "            else:\n",
    "                part = json.loads('{' + list_part[i] + '}')\n",
    "                \n",
    "            df_temp = pd.DataFrame([{'Part_Number': part['Part_Number'],\n",
    "                                     'Part_Type': part['Part_Type'],\n",
    "                                     'Application_Summary': part['Application_Summary'],\n",
    "                                     'Url': part['Url']}])\n",
    "            df = pd.concat([df, df_temp], ignore_index=True)"
   ]
  },
  {
   "cell_type": "code",
   "execution_count": 7,
   "id": "e7c8e52b",
   "metadata": {},
   "outputs": [
    {
     "data": {
      "text/html": [
       "<div>\n",
       "<style scoped>\n",
       "    .dataframe tbody tr th:only-of-type {\n",
       "        vertical-align: middle;\n",
       "    }\n",
       "\n",
       "    .dataframe tbody tr th {\n",
       "        vertical-align: top;\n",
       "    }\n",
       "\n",
       "    .dataframe thead th {\n",
       "        text-align: right;\n",
       "    }\n",
       "</style>\n",
       "<table border=\"1\" class=\"dataframe\">\n",
       "  <thead>\n",
       "    <tr style=\"text-align: right;\">\n",
       "      <th></th>\n",
       "      <th>Part_Number</th>\n",
       "      <th>Part_Type</th>\n",
       "      <th>Application_Summary</th>\n",
       "      <th>Url</th>\n",
       "    </tr>\n",
       "  </thead>\n",
       "  <tbody>\n",
       "    <tr>\n",
       "      <th>0</th>\n",
       "      <td>264-983</td>\n",
       "      <td>Valve Cover 4.0L</td>\n",
       "      <td>Jeep Cherokee 2001-95, Jeep Grand Cherokee 200...</td>\n",
       "      <td>https://www.dormanproducts.com/p-64949-264-983...</td>\n",
       "    </tr>\n",
       "    <tr>\n",
       "      <th>1</th>\n",
       "      <td>264-5116</td>\n",
       "      <td>Valve Cover - Rh</td>\n",
       "      <td>Ford 2004-96</td>\n",
       "      <td>https://www.dormanproducts.com/p-91540-264-511...</td>\n",
       "    </tr>\n",
       "    <tr>\n",
       "      <th>2</th>\n",
       "      <td>264-966</td>\n",
       "      <td>Valve Cover - Front</td>\n",
       "      <td>Buick 2009-90, Chevrolet 2005-98, Chevrolet 19...</td>\n",
       "      <td>https://www.dormanproducts.com/p-87478-264-966...</td>\n",
       "    </tr>\n",
       "    <tr>\n",
       "      <th>3</th>\n",
       "      <td>264-967</td>\n",
       "      <td>Valve Cover - Rear</td>\n",
       "      <td>Buick 2009-88, Chevrolet 2005-98, Chevrolet 19...</td>\n",
       "      <td>https://www.dormanproducts.com/p-87520-264-967...</td>\n",
       "    </tr>\n",
       "    <tr>\n",
       "      <th>4</th>\n",
       "      <td>264-990</td>\n",
       "      <td>Valve Cover - Plastic</td>\n",
       "      <td>Dodge Attitude 2010-06, Hyundai Accent 2011-06...</td>\n",
       "      <td>https://www.dormanproducts.com/p-64077-264-990...</td>\n",
       "    </tr>\n",
       "    <tr>\n",
       "      <th>...</th>\n",
       "      <td>...</td>\n",
       "      <td>...</td>\n",
       "      <td>...</td>\n",
       "      <td>...</td>\n",
       "    </tr>\n",
       "    <tr>\n",
       "      <th>579</th>\n",
       "      <td>264-518</td>\n",
       "      <td>Valve Cover Kit</td>\n",
       "      <td>Ford 2011-06, Mercury 2010-06</td>\n",
       "      <td>https://www.dormanproducts.com/p-143797-264-51...</td>\n",
       "    </tr>\n",
       "    <tr>\n",
       "      <th>580</th>\n",
       "      <td>264-495</td>\n",
       "      <td>Valve Cover With Gasket</td>\n",
       "      <td>Chrysler 2021-09, Dodge 2021-09, Jeep 2021-09,...</td>\n",
       "      <td>https://www.dormanproducts.com/p-140573-264-49...</td>\n",
       "    </tr>\n",
       "    <tr>\n",
       "      <th>581</th>\n",
       "      <td>264-977</td>\n",
       "      <td>Valve Cover With Gasket</td>\n",
       "      <td>Toyota 4Runner 2002-96, Toyota T100 1998-95, T...</td>\n",
       "      <td>https://www.dormanproducts.com/p-54159-264-977...</td>\n",
       "    </tr>\n",
       "    <tr>\n",
       "      <th>582</th>\n",
       "      <td>264-907</td>\n",
       "      <td>Valve Cover With Gasket</td>\n",
       "      <td>Volkswagen 2019-05</td>\n",
       "      <td>https://www.dormanproducts.com/p-85690-264-907...</td>\n",
       "    </tr>\n",
       "    <tr>\n",
       "      <th>583</th>\n",
       "      <td>264-960</td>\n",
       "      <td>Valve Cover - Includes Seal</td>\n",
       "      <td>Ford 2007-04</td>\n",
       "      <td>https://www.dormanproducts.com/p-64670-264-960...</td>\n",
       "    </tr>\n",
       "  </tbody>\n",
       "</table>\n",
       "<p>584 rows × 4 columns</p>\n",
       "</div>"
      ],
      "text/plain": [
       "    Part_Number                    Part_Type  \\\n",
       "0       264-983             Valve Cover 4.0L   \n",
       "1      264-5116             Valve Cover - Rh   \n",
       "2       264-966          Valve Cover - Front   \n",
       "3       264-967           Valve Cover - Rear   \n",
       "4       264-990        Valve Cover - Plastic   \n",
       "..          ...                          ...   \n",
       "579     264-518              Valve Cover Kit   \n",
       "580     264-495      Valve Cover With Gasket   \n",
       "581     264-977      Valve Cover With Gasket   \n",
       "582     264-907      Valve Cover With Gasket   \n",
       "583     264-960  Valve Cover - Includes Seal   \n",
       "\n",
       "                                   Application_Summary  \\\n",
       "0    Jeep Cherokee 2001-95, Jeep Grand Cherokee 200...   \n",
       "1                                         Ford 2004-96   \n",
       "2    Buick 2009-90, Chevrolet 2005-98, Chevrolet 19...   \n",
       "3    Buick 2009-88, Chevrolet 2005-98, Chevrolet 19...   \n",
       "4    Dodge Attitude 2010-06, Hyundai Accent 2011-06...   \n",
       "..                                                 ...   \n",
       "579                      Ford 2011-06, Mercury 2010-06   \n",
       "580  Chrysler 2021-09, Dodge 2021-09, Jeep 2021-09,...   \n",
       "581  Toyota 4Runner 2002-96, Toyota T100 1998-95, T...   \n",
       "582                                 Volkswagen 2019-05   \n",
       "583                                       Ford 2007-04   \n",
       "\n",
       "                                                   Url  \n",
       "0    https://www.dormanproducts.com/p-64949-264-983...  \n",
       "1    https://www.dormanproducts.com/p-91540-264-511...  \n",
       "2    https://www.dormanproducts.com/p-87478-264-966...  \n",
       "3    https://www.dormanproducts.com/p-87520-264-967...  \n",
       "4    https://www.dormanproducts.com/p-64077-264-990...  \n",
       "..                                                 ...  \n",
       "579  https://www.dormanproducts.com/p-143797-264-51...  \n",
       "580  https://www.dormanproducts.com/p-140573-264-49...  \n",
       "581  https://www.dormanproducts.com/p-54159-264-977...  \n",
       "582  https://www.dormanproducts.com/p-85690-264-907...  \n",
       "583  https://www.dormanproducts.com/p-64670-264-960...  \n",
       "\n",
       "[584 rows x 4 columns]"
      ]
     },
     "execution_count": 7,
     "metadata": {},
     "output_type": "execute_result"
    }
   ],
   "source": [
    "df.to_excel('./menu.xlsx', index=False)\n",
    "\n",
    "df"
   ]
  },
  {
   "cell_type": "code",
   "execution_count": null,
   "id": "f1b946e9",
   "metadata": {},
   "outputs": [],
   "source": []
  }
 ],
 "metadata": {
  "kernelspec": {
   "display_name": "Python 3 (ipykernel)",
   "language": "python",
   "name": "python3"
  },
  "language_info": {
   "codemirror_mode": {
    "name": "ipython",
    "version": 3
   },
   "file_extension": ".py",
   "mimetype": "text/x-python",
   "name": "python",
   "nbconvert_exporter": "python",
   "pygments_lexer": "ipython3",
   "version": "3.11.3"
  }
 },
 "nbformat": 4,
 "nbformat_minor": 5
}
