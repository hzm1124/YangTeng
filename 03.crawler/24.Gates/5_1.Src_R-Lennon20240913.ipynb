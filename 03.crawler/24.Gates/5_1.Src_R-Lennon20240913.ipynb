{
 "cells": [
  {
   "cell_type": "code",
   "execution_count": 1,
   "id": "ba98551f-b0b1-4c50-8c47-3ad3a3730b73",
   "metadata": {},
   "outputs": [
    {
     "data": {
      "text/plain": [
       "['crawler_1.xlsx', 'crawler_2.xlsx']"
      ]
     },
     "execution_count": 1,
     "metadata": {},
     "output_type": "execute_result"
    }
   ],
   "source": [
    "import os\n",
    "\n",
    "list_file = sorted(list(os.walk('./file/4.part'))[0][2])\n",
    "while '.DS_Store' in list_file:\n",
    "    list_file.remove('.DS_Store')\n",
    "while '0.null.txt' in list_file:\n",
    "    list_file.remove('0.null.txt')\n",
    "\n",
    "list_file"
   ]
  },
  {
   "cell_type": "code",
   "execution_count": 2,
   "id": "9b75b948-9701-432e-a5ef-88d0e629bd2c",
   "metadata": {},
   "outputs": [
    {
     "data": {
      "text/plain": [
       "'crawler_1.xlsx'"
      ]
     },
     "execution_count": 2,
     "metadata": {},
     "output_type": "execute_result"
    }
   ],
   "source": [
    "file = list_file[0]\n",
    "\n",
    "file"
   ]
  },
  {
   "cell_type": "code",
   "execution_count": 3,
   "id": "76ea49e2-7cc6-4bc1-af5b-7a6768eb6c08",
   "metadata": {},
   "outputs": [],
   "source": [
    "import pandas as pd\n",
    "\n",
    "output_correct, output_error = pd.DataFrame(), pd.DataFrame()"
   ]
  },
  {
   "cell_type": "code",
   "execution_count": 4,
   "id": "5d22fc26-a390-442a-bfe3-4d409c33f1e7",
   "metadata": {
    "scrolled": true
   },
   "outputs": [
    {
     "name": "stdout",
     "output_type": "stream",
     "text": [
      "总数量：1\n"
     ]
    },
    {
     "data": {
      "text/plain": [
       "['TCK265A']"
      ]
     },
     "execution_count": 4,
     "metadata": {},
     "output_type": "execute_result"
    }
   ],
   "source": [
    "input_ = pd.read_excel(f'./file/4.part/{file}',\n",
    "                       header=0,\n",
    "                       dtype=str).fillna('')\n",
    "\n",
    "input_['Product No'] = input_['Product No'].astype(int)\n",
    "input_['No'] = input_['No'].astype(int)\n",
    "\n",
    "print(f'总数量：{len(input_)}')\n",
    "input_['Part Number'].tolist()"
   ]
  },
  {
   "cell_type": "code",
   "execution_count": 5,
   "id": "5878a9f0-d639-4123-b6e0-bc564f72c2d6",
   "metadata": {},
   "outputs": [
    {
     "data": {
      "text/plain": [
       "0"
      ]
     },
     "execution_count": 5,
     "metadata": {},
     "output_type": "execute_result"
    }
   ],
   "source": [
    "a = 0\n",
    "\n",
    "a"
   ]
  },
  {
   "cell_type": "code",
   "execution_count": 6,
   "id": "9f61dd65-55da-4d0b-ba30-d0534eff0781",
   "metadata": {},
   "outputs": [
    {
     "data": {
      "text/plain": [
       "'error'"
      ]
     },
     "execution_count": 6,
     "metadata": {},
     "output_type": "execute_result"
    }
   ],
   "source": [
    "crawler_status = 'error'\n",
    "\n",
    "crawler_status"
   ]
  },
  {
   "cell_type": "code",
   "execution_count": 7,
   "id": "80b9954a-35ee-495e-b240-e478e320c240",
   "metadata": {
    "scrolled": true
   },
   "outputs": [
    {
     "name": "stdout",
     "output_type": "stream",
     "text": [
      "1\n",
      "2\n",
      "3\n",
      "4\n",
      "5\n",
      "6\n",
      "7\n"
     ]
    },
    {
     "data": {
      "text/plain": [
       "<Response [200]>"
      ]
     },
     "execution_count": 7,
     "metadata": {},
     "output_type": "execute_result"
    }
   ],
   "source": [
    "import requests\n",
    "\n",
    "import json\n",
    "\n",
    "import sys\n",
    "sys.path.append('../00.Tools')\n",
    "from crawler_configuration import get_header, get_proxy\n",
    "\n",
    "b = 0\n",
    "while True:\n",
    "    b += 1\n",
    "    print(b)\n",
    "    try:\n",
    "        resp = requests.get(f'''https://gates.scene7.com/is/image/{input_.loc[a, 'Asset']}?req=set,json,UTF-8&labelkey=label&handler=s7classics7sdkJSONResponse''',\n",
    "                            headers=get_header(),\n",
    "                            proxies=get_proxy(),\n",
    "                            timeout=(10, 10))\n",
    "\n",
    "        if resp.status_code == 200:\n",
    "            if 'Error while processing Fvctx image' in resp.text and 'Error while processing Fvctx image' in resp.text:\n",
    "                break\n",
    "            \n",
    "            json_ = json.loads(resp.text.split('s7classics7sdkJSONResponse(')[1].split(',\"\");')[0])\n",
    "            if json_:\n",
    "                break\n",
    "    except KeyboardInterrupt:\n",
    "        break\n",
    "    except:\n",
    "        continue\n",
    "\n",
    "resp"
   ]
  },
  {
   "cell_type": "code",
   "execution_count": 8,
   "id": "cdc8cc2a-1b19-4098-94fd-146185bd3dd9",
   "metadata": {},
   "outputs": [
    {
     "data": {
      "text/plain": [
       "{'0': 'https://gates.scene7.com/is/image/gates/tck265a-1-kit-a',\n",
       " '1': 'https://gates.scene7.com/is/image/gates/ss-tck265a',\n",
       " '2': 'https://gates.scene7.com/is/image/gates/ss-t43131',\n",
       " '3': 'https://gates.scene7.com/is/image/gates/ss-t42121',\n",
       " '4': 'https://gates.scene7.com/is/image/gates/ss-t265'}"
      ]
     },
     "execution_count": 8,
     "metadata": {},
     "output_type": "execute_result"
    }
   ],
   "source": [
    "if 'Error while processing Fvctx image' in resp.text and 'Error while processing Fvctx image' in resp.text:\n",
    "    dict_src = {}\n",
    "else:\n",
    "    dict_src, list_src = {}, [dict_['s']['n'].strip() if 's' in dict_ else dict_['set']['n'] for dict_ in json_['set']['item']] if type(json_['set']['item']) == list else [json_['set']['item']['s']['n'].strip() if 's' in json_['set']['item'] else json_['set']['item']['i']['n'].strip()]\n",
    "    for i, src in zip(range(len(list_src)), list_src):\n",
    "        dict_src[str(i)] = f'''https://gates.scene7.com/is/image/{src}'''\n",
    "\n",
    "dict_src"
   ]
  },
  {
   "cell_type": "code",
   "execution_count": 9,
   "id": "5f1e1664-358e-493d-a787-42c298a6c650",
   "metadata": {},
   "outputs": [
    {
     "data": {
      "text/plain": [
       "False"
      ]
     },
     "execution_count": 9,
     "metadata": {},
     "output_type": "execute_result"
    }
   ],
   "source": [
    "len(dict_src) == 0"
   ]
  },
  {
   "cell_type": "code",
   "execution_count": 10,
   "id": "877e0c95-20c0-465c-bc84-6b3c7da7860e",
   "metadata": {},
   "outputs": [
    {
     "data": {
      "text/html": [
       "<div>\n",
       "<style scoped>\n",
       "    .dataframe tbody tr th:only-of-type {\n",
       "        vertical-align: middle;\n",
       "    }\n",
       "\n",
       "    .dataframe tbody tr th {\n",
       "        vertical-align: top;\n",
       "    }\n",
       "\n",
       "    .dataframe thead th {\n",
       "        text-align: right;\n",
       "    }\n",
       "</style>\n",
       "<table border=\"1\" class=\"dataframe\">\n",
       "  <thead>\n",
       "    <tr style=\"text-align: right;\">\n",
       "      <th></th>\n",
       "      <th>Product No</th>\n",
       "      <th>Product Name</th>\n",
       "      <th>Product Number</th>\n",
       "      <th>No</th>\n",
       "      <th>Part Number</th>\n",
       "      <th>Type</th>\n",
       "      <th>SKU</th>\n",
       "      <th>UPC</th>\n",
       "      <th>Title</th>\n",
       "      <th>Picture</th>\n",
       "      <th>Url</th>\n",
       "      <th>Json_Src</th>\n",
       "      <th>Json_Information</th>\n",
       "      <th>Part Code</th>\n",
       "      <th>Asset</th>\n",
       "    </tr>\n",
       "  </thead>\n",
       "  <tbody>\n",
       "    <tr>\n",
       "      <th>0</th>\n",
       "      <td>1</td>\n",
       "      <td>PowerGrip™ Timing Kits</td>\n",
       "      <td>7782-000000-000001</td>\n",
       "      <td>107</td>\n",
       "      <td>TCK265A</td>\n",
       "      <td>KitVariantProduct</td>\n",
       "      <td>77820317</td>\n",
       "      <td>770075351726</td>\n",
       "      <td>TCK265A TIMING COMPONENT KIT</td>\n",
       "      <td></td>\n",
       "      <td>https://www.gates.com/us/en/search.p.7782-0000...</td>\n",
       "      <td>{\"0\": \"https://gates.scene7.com/is/image/gates...</td>\n",
       "      <td>{\"0\": {\"Instruction Sheet Number\": \"0098-1572,...</td>\n",
       "      <td>7782-00317</td>\n",
       "      <td>gates/mm-100876-tck265a</td>\n",
       "    </tr>\n",
       "  </tbody>\n",
       "</table>\n",
       "</div>"
      ],
      "text/plain": [
       "   Product No            Product Name      Product Number   No Part Number  \\\n",
       "0           1  PowerGrip™ Timing Kits  7782-000000-000001  107     TCK265A   \n",
       "\n",
       "                Type       SKU           UPC                         Title  \\\n",
       "0  KitVariantProduct  77820317  770075351726  TCK265A TIMING COMPONENT KIT   \n",
       "\n",
       "  Picture                                                Url  \\\n",
       "0          https://www.gates.com/us/en/search.p.7782-0000...   \n",
       "\n",
       "                                            Json_Src  \\\n",
       "0  {\"0\": \"https://gates.scene7.com/is/image/gates...   \n",
       "\n",
       "                                    Json_Information   Part Code  \\\n",
       "0  {\"0\": {\"Instruction Sheet Number\": \"0098-1572,...  7782-00317   \n",
       "\n",
       "                     Asset  \n",
       "0  gates/mm-100876-tck265a  "
      ]
     },
     "execution_count": 10,
     "metadata": {},
     "output_type": "execute_result"
    }
   ],
   "source": [
    "df_temp = pd.DataFrame([{'Product No': input_.loc[a, 'Product No'],\n",
    "                         'Product Name': input_.loc[a, 'Product Name'],\n",
    "                         'Product Number': input_.loc[a, 'Product Number'],\n",
    "                         'No': input_.loc[a, 'No'],\n",
    "                         'Part Number': input_.loc[a, 'Part Number'],\n",
    "                         'Type': input_.loc[a, 'Type'],\n",
    "                         'SKU': input_.loc[a, 'SKU'],\n",
    "                         'UPC': input_.loc[a, 'UPC'],\n",
    "                         'Title': input_.loc[a, 'Title'],\n",
    "                         'Picture': '',\n",
    "                         'Url': input_.loc[a, 'Url'],\n",
    "                         'Json_Src': json.dumps(dict_src),\n",
    "                         'Json_Information': input_.loc[a, 'Json_Information'],\n",
    "                         'Part Code': input_.loc[a, 'Part Code'],\n",
    "                         'Asset': input_.loc[a, 'Asset']}])\n",
    "\n",
    "output_correct = pd.concat([output_correct, df_temp], ignore_index=True).fillna('')\n",
    "\n",
    "output_correct"
   ]
  },
  {
   "cell_type": "code",
   "execution_count": 11,
   "id": "fc4ed7f6-ed4f-431c-b944-b1690309cdae",
   "metadata": {},
   "outputs": [
    {
     "data": {
      "text/plain": [
       "'ok'"
      ]
     },
     "execution_count": 11,
     "metadata": {},
     "output_type": "execute_result"
    }
   ],
   "source": [
    "crawler_status = 'ok'\n",
    "\n",
    "crawler_status"
   ]
  },
  {
   "cell_type": "code",
   "execution_count": 12,
   "id": "65c745d1-446e-46c5-9dec-819c9f7944d3",
   "metadata": {},
   "outputs": [
    {
     "data": {
      "text/html": [
       "<div>\n",
       "<style scoped>\n",
       "    .dataframe tbody tr th:only-of-type {\n",
       "        vertical-align: middle;\n",
       "    }\n",
       "\n",
       "    .dataframe tbody tr th {\n",
       "        vertical-align: top;\n",
       "    }\n",
       "\n",
       "    .dataframe thead th {\n",
       "        text-align: right;\n",
       "    }\n",
       "</style>\n",
       "<table border=\"1\" class=\"dataframe\">\n",
       "  <thead>\n",
       "    <tr style=\"text-align: right;\">\n",
       "      <th></th>\n",
       "    </tr>\n",
       "  </thead>\n",
       "  <tbody>\n",
       "  </tbody>\n",
       "</table>\n",
       "</div>"
      ],
      "text/plain": [
       "Empty DataFrame\n",
       "Columns: []\n",
       "Index: []"
      ]
     },
     "execution_count": 12,
     "metadata": {},
     "output_type": "execute_result"
    }
   ],
   "source": [
    "if crawler_status == 'error':\n",
    "    output_error = pd.concat([output_error, pd.DataFrame([input_.iloc[a]]).reset_index(drop=True)], ignore_index=True).fillna('')\n",
    "\n",
    "output_error"
   ]
  },
  {
   "cell_type": "code",
   "execution_count": 13,
   "id": "7fd477de",
   "metadata": {},
   "outputs": [
    {
     "data": {
      "text/html": [
       "<div>\n",
       "<style scoped>\n",
       "    .dataframe tbody tr th:only-of-type {\n",
       "        vertical-align: middle;\n",
       "    }\n",
       "\n",
       "    .dataframe tbody tr th {\n",
       "        vertical-align: top;\n",
       "    }\n",
       "\n",
       "    .dataframe thead th {\n",
       "        text-align: right;\n",
       "    }\n",
       "</style>\n",
       "<table border=\"1\" class=\"dataframe\">\n",
       "  <thead>\n",
       "    <tr style=\"text-align: right;\">\n",
       "      <th></th>\n",
       "      <th>Product No</th>\n",
       "      <th>Product Name</th>\n",
       "      <th>Product Number</th>\n",
       "      <th>No</th>\n",
       "      <th>Part Number</th>\n",
       "      <th>Type</th>\n",
       "      <th>SKU</th>\n",
       "      <th>UPC</th>\n",
       "      <th>Title</th>\n",
       "      <th>Picture</th>\n",
       "      <th>Url</th>\n",
       "      <th>Json_Src</th>\n",
       "      <th>Json_Information</th>\n",
       "      <th>Part Code</th>\n",
       "      <th>Asset</th>\n",
       "    </tr>\n",
       "  </thead>\n",
       "  <tbody>\n",
       "    <tr>\n",
       "      <th>0</th>\n",
       "      <td>1</td>\n",
       "      <td>PowerGrip™ Timing Kits</td>\n",
       "      <td>7782-000000-000001</td>\n",
       "      <td>107</td>\n",
       "      <td>TCK265A</td>\n",
       "      <td>KitVariantProduct</td>\n",
       "      <td>77820317</td>\n",
       "      <td>770075351726</td>\n",
       "      <td>TCK265A TIMING COMPONENT KIT</td>\n",
       "      <td></td>\n",
       "      <td>https://www.gates.com/us/en/search.p.7782-0000...</td>\n",
       "      <td>{\"0\": \"https://gates.scene7.com/is/image/gates...</td>\n",
       "      <td>{\"0\": {\"Instruction Sheet Number\": \"0098-1572,...</td>\n",
       "      <td>7782-00317</td>\n",
       "      <td>gates/mm-100876-tck265a</td>\n",
       "    </tr>\n",
       "  </tbody>\n",
       "</table>\n",
       "</div>"
      ],
      "text/plain": [
       "   Product No            Product Name      Product Number   No Part Number  \\\n",
       "0           1  PowerGrip™ Timing Kits  7782-000000-000001  107     TCK265A   \n",
       "\n",
       "                Type       SKU           UPC                         Title  \\\n",
       "0  KitVariantProduct  77820317  770075351726  TCK265A TIMING COMPONENT KIT   \n",
       "\n",
       "  Picture                                                Url  \\\n",
       "0          https://www.gates.com/us/en/search.p.7782-0000...   \n",
       "\n",
       "                                            Json_Src  \\\n",
       "0  {\"0\": \"https://gates.scene7.com/is/image/gates...   \n",
       "\n",
       "                                    Json_Information   Part Code  \\\n",
       "0  {\"0\": {\"Instruction Sheet Number\": \"0098-1572,...  7782-00317   \n",
       "\n",
       "                     Asset  \n",
       "0  gates/mm-100876-tck265a  "
      ]
     },
     "execution_count": 13,
     "metadata": {},
     "output_type": "execute_result"
    }
   ],
   "source": [
    "if not output_correct.empty:\n",
    "    output_correct = output_correct.sort_values(by=['Product No', 'No'],\n",
    "                                                ascending=[True, True],\n",
    "                                                ignore_index=True)\n",
    "    output_correct.to_excel('./test_part.xlsx', index=False)\n",
    "\n",
    "output_correct"
   ]
  },
  {
   "cell_type": "code",
   "execution_count": 14,
   "id": "39a5441b-7f69-4812-aad8-7e10a1a24e78",
   "metadata": {},
   "outputs": [
    {
     "data": {
      "text/html": [
       "<div>\n",
       "<style scoped>\n",
       "    .dataframe tbody tr th:only-of-type {\n",
       "        vertical-align: middle;\n",
       "    }\n",
       "\n",
       "    .dataframe tbody tr th {\n",
       "        vertical-align: top;\n",
       "    }\n",
       "\n",
       "    .dataframe thead th {\n",
       "        text-align: right;\n",
       "    }\n",
       "</style>\n",
       "<table border=\"1\" class=\"dataframe\">\n",
       "  <thead>\n",
       "    <tr style=\"text-align: right;\">\n",
       "      <th></th>\n",
       "    </tr>\n",
       "  </thead>\n",
       "  <tbody>\n",
       "  </tbody>\n",
       "</table>\n",
       "</div>"
      ],
      "text/plain": [
       "Empty DataFrame\n",
       "Columns: []\n",
       "Index: []"
      ]
     },
     "execution_count": 14,
     "metadata": {},
     "output_type": "execute_result"
    }
   ],
   "source": [
    "if not output_error.empty:\n",
    "    output_error = output_error.sort_values(by=['Product No', 'No'],\n",
    "                                            ascending=[True],\n",
    "                                            ignore_index=True)\n",
    "    output_error.to_excel('./test_part.xlsx', index=False)\n",
    "\n",
    "output_error"
   ]
  },
  {
   "cell_type": "code",
   "execution_count": null,
   "id": "ba5d9f77-7464-4ad5-a42b-1fa0c0505832",
   "metadata": {},
   "outputs": [],
   "source": []
  }
 ],
 "metadata": {
  "kernelspec": {
   "display_name": "Python 3 (ipykernel)",
   "language": "python",
   "name": "python3"
  },
  "language_info": {
   "codemirror_mode": {
    "name": "ipython",
    "version": 3
   },
   "file_extension": ".py",
   "mimetype": "text/x-python",
   "name": "python",
   "nbconvert_exporter": "python",
   "pygments_lexer": "ipython3",
   "version": "3.11.3"
  }
 },
 "nbformat": 4,
 "nbformat_minor": 5
}
