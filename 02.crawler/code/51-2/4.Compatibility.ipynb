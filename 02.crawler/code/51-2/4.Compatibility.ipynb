{
 "cells": [
  {
   "cell_type": "code",
   "execution_count": 1,
   "id": "3cab2b93-58da-42be-8fe7-63c024b3853c",
   "metadata": {},
   "outputs": [
    {
     "data": {
      "text/plain": [
       "{'no': 1,\n",
       " 'brand': 'KYB',\n",
       " 'part_number': '344115',\n",
       " 'part_no': 1,\n",
       " 'tag': 'KYB Shock absorber (344115)',\n",
       " 'url': 'https://www.onlinecarparts.co.uk/kyb-828666.html',\n",
       " 'article_id': 828666,\n",
       " 'article_no': '344115',\n",
       " 'picture': '',\n",
       " 'json_src': '{\"0\": \"https://media.autoteiledirekt.de/360_photos/828666/preview.jpg\", \"1\": \"https://cdn.autoteiledirekt.de/thumb?id=828666&m=0&n=0&lng=en&rev=94077894\", \"2\": \"https://cdn.autoteiledirekt.de/thumb?id=828666&m=0&n=1&lng=en&rev=94077894\", \"3\": \"https://cdn.autoteiledirekt.de/thumb?id=828666&m=0&n=2&lng=en&rev=94077894\", \"4\": \"https://cdn.autoteiledirekt.de/thumb?id=828666&m=0&n=3&lng=en&rev=94077894\", \"5\": \"https://cdn.autoteiledirekt.de/thumb?id=828666&m=0&n=4&lng=en&rev=94077894\", \"6\": \"https://cdn.autoteiledirekt.de/thumb?id=828666&m=0&n=5&lng=en&rev=94077894\"}',\n",
       " 'type_': 'Shock absorber',\n",
       " 'price': 'GBP 28.48',\n",
       " 'breadcrumbs': '3. Car Shock absorber at a good price (https://www.onlinecarparts.co.uk/spare-parts/shock-absorber.html)\\n2. Car Damping (https://www.onlinecarparts.co.uk/spare-parts/damping-group.html)\\n1. parts catalogue (https://www.onlinecarparts.co.uk/spare-parts.html)',\n",
       " 'title': 'KYB Excel-G 344115 Shock absorber',\n",
       " 'subtitle': 'Rear Axle, Gas Pressure, Twin-Tube, Telescopic Shock Absorber',\n",
       " 'json_info': '{\"Article number\": \"344115\", \"Manufacturer\": \"KYB\"}',\n",
       " 'json_detail': '{\"Product line\": \"nan\", \"Fitting Position\": \"Rear Axle\", \"Shock Absorber System\": \"Twin-Tube\", \"Shock Absorber Type\": \"Gas Pressure\", \"Shock Absorber Design\": \"Telescopic Shock Absorber\", \"Shock Absorber Mounting Type\": \"Top eye, Bottom eye\", \"Condition\": \"New\"}',\n",
       " 'oem': '46402631;46405783;46409717;46414480;46414586;46415599;46416471;46417133;46417134;46421626;46424224;46437778;46439462;46442796;46444663;46455144;46456096;46456415;46459363;46463792;46463793;46463794;46463795;46463796;46468146;46477065;46510793;46518129;46519351;46528791;46539299;46747928;46798864;46803344;46839039;51846396;60500393;60602722;60605178;60607640;60620082;60620083;71712474;71712478;71712481;71712486;71712487;71712488;71712641;71713814;71716544;71716546;71718285;71718287;7610120;7610121;7613698;7619437;7638163;7640930;7640931;7642982;7642983;7648480;7648482;7658106;7658317;7678636;7690033;7720720;7753565;7754144;7777585;7777948;7782234;7783497;7788046;82491295;KK13528700A;KK15328700B',\n",
       " 'json_equivalent': '{\"BILSTEIN\": \"19-019826\", \"BOGE\": \"27-D92-A\", \"MONROE\": \"23430\", \"SACHS\": \"170392\"}',\n",
       " 'make_no': 1,\n",
       " 'make_id': '2',\n",
       " 'make': 'ALFA ROMEO',\n",
       " 'model_url': 'https://www.onlinecarparts.co.uk/ajax/product/related-auto?productId=828666&makerId=2',\n",
       " 'model_no': 1,\n",
       " 'model_id': '278',\n",
       " 'model': 'ALFA ROMEO 145 (930) (Year of Construction 07.1994 - 01.2001)',\n",
       " 'compatibility_url': 'https://www.onlinecarparts.co.uk/ajax/product/related/vehicles?articleId=828666&makerId=2&modelId=278'}"
      ]
     },
     "execution_count": 1,
     "metadata": {},
     "output_type": "execute_result"
    }
   ],
   "source": [
    "item ={'no': 1,\n",
    " 'brand': 'KYB',\n",
    " 'part_number': '344115',\n",
    " 'part_no': 1,\n",
    " 'tag': 'KYB Shock absorber (344115)',\n",
    " 'url': 'https://www.onlinecarparts.co.uk/kyb-828666.html',\n",
    " 'article_id': 828666,\n",
    " 'article_no': '344115',\n",
    " 'picture': '',\n",
    " 'json_src': '{\"0\": \"https://media.autoteiledirekt.de/360_photos/828666/preview.jpg\", \"1\": \"https://cdn.autoteiledirekt.de/thumb?id=828666&m=0&n=0&lng=en&rev=94077894\", \"2\": \"https://cdn.autoteiledirekt.de/thumb?id=828666&m=0&n=1&lng=en&rev=94077894\", \"3\": \"https://cdn.autoteiledirekt.de/thumb?id=828666&m=0&n=2&lng=en&rev=94077894\", \"4\": \"https://cdn.autoteiledirekt.de/thumb?id=828666&m=0&n=3&lng=en&rev=94077894\", \"5\": \"https://cdn.autoteiledirekt.de/thumb?id=828666&m=0&n=4&lng=en&rev=94077894\", \"6\": \"https://cdn.autoteiledirekt.de/thumb?id=828666&m=0&n=5&lng=en&rev=94077894\"}',\n",
    " 'type_': 'Shock absorber',\n",
    " 'price': 'GBP 28.48',\n",
    " 'breadcrumbs': '3. Car Shock absorber at a good price (https://www.onlinecarparts.co.uk/spare-parts/shock-absorber.html)\\n2. Car Damping (https://www.onlinecarparts.co.uk/spare-parts/damping-group.html)\\n1. parts catalogue (https://www.onlinecarparts.co.uk/spare-parts.html)',\n",
    " 'title': 'KYB Excel-G 344115 Shock absorber',\n",
    " 'subtitle': 'Rear Axle, Gas Pressure, Twin-Tube, Telescopic Shock Absorber',\n",
    " 'json_info': '{\"Article number\": \"344115\", \"Manufacturer\": \"KYB\"}',\n",
    " 'json_detail': '{\"Product line\": \"nan\", \"Fitting Position\": \"Rear Axle\", \"Shock Absorber System\": \"Twin-Tube\", \"Shock Absorber Type\": \"Gas Pressure\", \"Shock Absorber Design\": \"Telescopic Shock Absorber\", \"Shock Absorber Mounting Type\": \"Top eye, Bottom eye\", \"Condition\": \"New\"}',\n",
    " 'oem': '46402631;46405783;46409717;46414480;46414586;46415599;46416471;46417133;46417134;46421626;46424224;46437778;46439462;46442796;46444663;46455144;46456096;46456415;46459363;46463792;46463793;46463794;46463795;46463796;46468146;46477065;46510793;46518129;46519351;46528791;46539299;46747928;46798864;46803344;46839039;51846396;60500393;60602722;60605178;60607640;60620082;60620083;71712474;71712478;71712481;71712486;71712487;71712488;71712641;71713814;71716544;71716546;71718285;71718287;7610120;7610121;7613698;7619437;7638163;7640930;7640931;7642982;7642983;7648480;7648482;7658106;7658317;7678636;7690033;7720720;7753565;7754144;7777585;7777948;7782234;7783497;7788046;82491295;KK13528700A;KK15328700B',\n",
    " 'json_equivalent': '{\"BILSTEIN\": \"19-019826\", \"BOGE\": \"27-D92-A\", \"MONROE\": \"23430\", \"SACHS\": \"170392\"}',\n",
    " 'make_no': 1,\n",
    " 'make_id': '2',\n",
    " 'make': 'ALFA ROMEO',\n",
    " 'model_url': 'https://www.onlinecarparts.co.uk/ajax/product/related-auto?productId=828666&makerId=2',\n",
    " 'model_no': 1,\n",
    " 'model_id': '278',\n",
    " 'model': 'ALFA ROMEO 145 (930) (Year of Construction 07.1994 - 01.2001)',\n",
    " 'compatibility_url': 'https://www.onlinecarparts.co.uk/ajax/product/related/vehicles?articleId=828666&makerId=2&modelId=278'}\n",
    "\n",
    "item"
   ]
  },
  {
   "cell_type": "code",
   "execution_count": 2,
   "id": "2e0217bb-e928-42df-8767-f5881c4991ef",
   "metadata": {},
   "outputs": [],
   "source": [
    "import requests\n",
    "\n",
    "import sys\n",
    "sys.path.append('../00.Tools')\n",
    "from configuration import generate_header, generate_proxy"
   ]
  },
  {
   "cell_type": "code",
   "execution_count": 3,
   "id": "afae531a-9216-406e-aa63-4d2d5d5ba58e",
   "metadata": {},
   "outputs": [
    {
     "data": {
      "text/plain": [
       "200"
      ]
     },
     "execution_count": 3,
     "metadata": {},
     "output_type": "execute_result"
    }
   ],
   "source": [
    "response = requests.get(item['compatibility_url'],\n",
    "                        headers=generate_header(**{'Referer': item['url']}),\n",
    "                        # proxies=generate_proxy(),\n",
    "                        timeout=(10, 15),\n",
    "                        allow_redirects=False)\n",
    "\n",
    "response.status_code"
   ]
  },
  {
   "cell_type": "code",
   "execution_count": 4,
   "id": "49650382-7aee-4ce7-a945-a042d16fff33",
   "metadata": {
    "scrolled": true
   },
   "outputs": [
    {
     "data": {
      "text/plain": [
       "{'vehicles': [{'id': 3822,\n",
       "   'modelId': None,\n",
       "   'makerId': None,\n",
       "   'title': '1.4 i.e. (930.A3), Year of Construction 07.1994 - 12.1996, 1351 ccm, 90 hp'},\n",
       "  {'id': 7765,\n",
       "   'modelId': None,\n",
       "   'makerId': None,\n",
       "   'title': '1.4 i.e. 16V T.S. (930.A3A), Year of Construction 12.1996 - 01.2001, 1370 ccm, 103 hp'},\n",
       "  {'id': 54968,\n",
       "   'modelId': None,\n",
       "   'makerId': None,\n",
       "   'title': '1.6 16V T.S. (930.A2C), Year of Construction 09.1997 - 12.2000, 1598 ccm, 112 hp'},\n",
       "  {'id': 3821,\n",
       "   'modelId': None,\n",
       "   'makerId': None,\n",
       "   'title': '1.6 i.e. (930.A2), Year of Construction 10.1994 - 12.1996, 1596 ccm, 103 hp'},\n",
       "  {'id': 7769,\n",
       "   'modelId': None,\n",
       "   'makerId': None,\n",
       "   'title': '1.6 i.e. 16V T.S. (930.A2), Year of Construction 12.1996 - 01.2001, 1598 ccm, 120 hp'},\n",
       "  {'id': 3820,\n",
       "   'modelId': None,\n",
       "   'makerId': None,\n",
       "   'title': '1.7 i.e. 16V (930.A1), Year of Construction 10.1994 - 12.1996, 1712 ccm, 129 hp'},\n",
       "  {'id': 9503,\n",
       "   'modelId': None,\n",
       "   'makerId': None,\n",
       "   'title': '1.8 i.e. 16V (930.A1A), Year of Construction 03.1998 - 01.2001, 1747 ccm, 144 hp'},\n",
       "  {'id': 7770,\n",
       "   'modelId': None,\n",
       "   'makerId': None,\n",
       "   'title': '1.8 i.e. 16V T.S. (930.A1A), Year of Construction 12.1996 - 12.1998, 1747 ccm, 140 hp'},\n",
       "  {'id': 11899,\n",
       "   'modelId': None,\n",
       "   'makerId': None,\n",
       "   'title': '1.9 JTD (930.A4B), Year of Construction 02.1999 - 01.2001, 1910 ccm, 105 hp'},\n",
       "  {'id': 3823,\n",
       "   'modelId': None,\n",
       "   'makerId': None,\n",
       "   'title': '1.9 TD (930.A4), Year of Construction 10.1994 - 02.1999, 1929 ccm, 90 hp'},\n",
       "  {'id': 9505,\n",
       "   'modelId': None,\n",
       "   'makerId': None,\n",
       "   'title': '2.0 16V (930.A5), Year of Construction 03.1998 - 01.2001, 1970 ccm, 155 hp'},\n",
       "  {'id': 5159,\n",
       "   'modelId': None,\n",
       "   'makerId': None,\n",
       "   'title': '2.0 16V T.S. (930.A5), Year of Construction 10.1995 - 01.2001, 1970 ccm, 150 hp'}]}"
      ]
     },
     "execution_count": 4,
     "metadata": {},
     "output_type": "execute_result"
    }
   ],
   "source": [
    "dict_ =response.json()\n",
    "\n",
    "dict_"
   ]
  },
  {
   "cell_type": "code",
   "execution_count": 5,
   "id": "c751dcff-c477-4924-a8bc-e2587c33a3de",
   "metadata": {
    "scrolled": true
   },
   "outputs": [
    {
     "data": {
      "text/plain": [
       "[{'id': 3822,\n",
       "  'modelId': None,\n",
       "  'makerId': None,\n",
       "  'title': '1.4 i.e. (930.A3), Year of Construction 07.1994 - 12.1996, 1351 ccm, 90 hp'},\n",
       " {'id': 7765,\n",
       "  'modelId': None,\n",
       "  'makerId': None,\n",
       "  'title': '1.4 i.e. 16V T.S. (930.A3A), Year of Construction 12.1996 - 01.2001, 1370 ccm, 103 hp'},\n",
       " {'id': 54968,\n",
       "  'modelId': None,\n",
       "  'makerId': None,\n",
       "  'title': '1.6 16V T.S. (930.A2C), Year of Construction 09.1997 - 12.2000, 1598 ccm, 112 hp'},\n",
       " {'id': 3821,\n",
       "  'modelId': None,\n",
       "  'makerId': None,\n",
       "  'title': '1.6 i.e. (930.A2), Year of Construction 10.1994 - 12.1996, 1596 ccm, 103 hp'},\n",
       " {'id': 7769,\n",
       "  'modelId': None,\n",
       "  'makerId': None,\n",
       "  'title': '1.6 i.e. 16V T.S. (930.A2), Year of Construction 12.1996 - 01.2001, 1598 ccm, 120 hp'},\n",
       " {'id': 3820,\n",
       "  'modelId': None,\n",
       "  'makerId': None,\n",
       "  'title': '1.7 i.e. 16V (930.A1), Year of Construction 10.1994 - 12.1996, 1712 ccm, 129 hp'},\n",
       " {'id': 9503,\n",
       "  'modelId': None,\n",
       "  'makerId': None,\n",
       "  'title': '1.8 i.e. 16V (930.A1A), Year of Construction 03.1998 - 01.2001, 1747 ccm, 144 hp'},\n",
       " {'id': 7770,\n",
       "  'modelId': None,\n",
       "  'makerId': None,\n",
       "  'title': '1.8 i.e. 16V T.S. (930.A1A), Year of Construction 12.1996 - 12.1998, 1747 ccm, 140 hp'},\n",
       " {'id': 11899,\n",
       "  'modelId': None,\n",
       "  'makerId': None,\n",
       "  'title': '1.9 JTD (930.A4B), Year of Construction 02.1999 - 01.2001, 1910 ccm, 105 hp'},\n",
       " {'id': 3823,\n",
       "  'modelId': None,\n",
       "  'makerId': None,\n",
       "  'title': '1.9 TD (930.A4), Year of Construction 10.1994 - 02.1999, 1929 ccm, 90 hp'},\n",
       " {'id': 9505,\n",
       "  'modelId': None,\n",
       "  'makerId': None,\n",
       "  'title': '2.0 16V (930.A5), Year of Construction 03.1998 - 01.2001, 1970 ccm, 155 hp'},\n",
       " {'id': 5159,\n",
       "  'modelId': None,\n",
       "  'makerId': None,\n",
       "  'title': '2.0 16V T.S. (930.A5), Year of Construction 10.1995 - 01.2001, 1970 ccm, 150 hp'}]"
      ]
     },
     "execution_count": 5,
     "metadata": {},
     "output_type": "execute_result"
    }
   ],
   "source": [
    "list_compatibility = dict_['vehicles']\n",
    "\n",
    "list_compatibility"
   ]
  },
  {
   "cell_type": "code",
   "execution_count": 6,
   "id": "3f08d7e0-8a4e-47f5-abd2-474ebd86edda",
   "metadata": {},
   "outputs": [
    {
     "data": {
      "text/plain": [
       "{'no': 1,\n",
       " 'brand': 'KYB',\n",
       " 'part_number': '344115',\n",
       " 'part_no': 1,\n",
       " 'tag': 'KYB Shock absorber (344115)',\n",
       " 'url': 'https://www.onlinecarparts.co.uk/kyb-828666.html',\n",
       " 'article_id': 828666,\n",
       " 'article_no': '344115',\n",
       " 'picture': '',\n",
       " 'json_src': '{\"0\": \"https://media.autoteiledirekt.de/360_photos/828666/preview.jpg\", \"1\": \"https://cdn.autoteiledirekt.de/thumb?id=828666&m=0&n=0&lng=en&rev=94077894\", \"2\": \"https://cdn.autoteiledirekt.de/thumb?id=828666&m=0&n=1&lng=en&rev=94077894\", \"3\": \"https://cdn.autoteiledirekt.de/thumb?id=828666&m=0&n=2&lng=en&rev=94077894\", \"4\": \"https://cdn.autoteiledirekt.de/thumb?id=828666&m=0&n=3&lng=en&rev=94077894\", \"5\": \"https://cdn.autoteiledirekt.de/thumb?id=828666&m=0&n=4&lng=en&rev=94077894\", \"6\": \"https://cdn.autoteiledirekt.de/thumb?id=828666&m=0&n=5&lng=en&rev=94077894\"}',\n",
       " 'type_': 'Shock absorber',\n",
       " 'price': 'GBP 28.48',\n",
       " 'breadcrumbs': '3. Car Shock absorber at a good price (https://www.onlinecarparts.co.uk/spare-parts/shock-absorber.html)\\n2. Car Damping (https://www.onlinecarparts.co.uk/spare-parts/damping-group.html)\\n1. parts catalogue (https://www.onlinecarparts.co.uk/spare-parts.html)',\n",
       " 'title': 'KYB Excel-G 344115 Shock absorber',\n",
       " 'subtitle': 'Rear Axle, Gas Pressure, Twin-Tube, Telescopic Shock Absorber',\n",
       " 'json_info': '{\"Article number\": \"344115\", \"Manufacturer\": \"KYB\"}',\n",
       " 'json_detail': '{\"Product line\": \"nan\", \"Fitting Position\": \"Rear Axle\", \"Shock Absorber System\": \"Twin-Tube\", \"Shock Absorber Type\": \"Gas Pressure\", \"Shock Absorber Design\": \"Telescopic Shock Absorber\", \"Shock Absorber Mounting Type\": \"Top eye, Bottom eye\", \"Condition\": \"New\"}',\n",
       " 'oem': '46402631;46405783;46409717;46414480;46414586;46415599;46416471;46417133;46417134;46421626;46424224;46437778;46439462;46442796;46444663;46455144;46456096;46456415;46459363;46463792;46463793;46463794;46463795;46463796;46468146;46477065;46510793;46518129;46519351;46528791;46539299;46747928;46798864;46803344;46839039;51846396;60500393;60602722;60605178;60607640;60620082;60620083;71712474;71712478;71712481;71712486;71712487;71712488;71712641;71713814;71716544;71716546;71718285;71718287;7610120;7610121;7613698;7619437;7638163;7640930;7640931;7642982;7642983;7648480;7648482;7658106;7658317;7678636;7690033;7720720;7753565;7754144;7777585;7777948;7782234;7783497;7788046;82491295;KK13528700A;KK15328700B',\n",
       " 'json_equivalent': '{\"BILSTEIN\": \"19-019826\", \"BOGE\": \"27-D92-A\", \"MONROE\": \"23430\", \"SACHS\": \"170392\"}',\n",
       " 'make_no': 1,\n",
       " 'make_id': '2',\n",
       " 'make': 'ALFA ROMEO',\n",
       " 'model_url': 'https://www.onlinecarparts.co.uk/ajax/product/related-auto?productId=828666&makerId=2',\n",
       " 'model_no': 1,\n",
       " 'model_id': '278',\n",
       " 'model': 'ALFA ROMEO 145 (930) (Year of Construction 07.1994 - 01.2001)',\n",
       " 'compatibility_url': 'https://www.onlinecarparts.co.uk/ajax/product/related/vehicles?articleId=828666&makerId=2&modelId=278',\n",
       " 'compatibility_no': 1,\n",
       " 'compatibility': '1.4 i.e. (930.A3), Year of Construction 07.1994 - 12.1996, 1351 ccm, 90 hp'}"
      ]
     },
     "execution_count": 6,
     "metadata": {},
     "output_type": "execute_result"
    }
   ],
   "source": [
    "{'no': item['no'],\n",
    " 'brand': item['brand'],\n",
    " 'part_number': item['part_number'],\n",
    " 'part_no': item['part_no'],\n",
    " 'tag': item['tag'],\n",
    " 'url': item['url'],\n",
    " 'article_id': item['article_id'],\n",
    " 'article_no': item['article_no'],\n",
    " 'picture': item['picture'],\n",
    " 'json_src': item['json_src'],\n",
    " 'type_': item['type_'],\n",
    " 'price': item['price'],\n",
    " 'breadcrumbs': item['breadcrumbs'],\n",
    " 'title': item['title'],\n",
    " 'subtitle': item['subtitle'],\n",
    " 'json_info': item['json_info'],\n",
    " 'json_detail': item['json_detail'],\n",
    " 'oem': item['oem'],\n",
    " 'json_equivalent': item['json_equivalent'],\n",
    " 'make_no': item['make_no'],\n",
    " 'make_id': item['make_id'],\n",
    " 'make': item['make'],\n",
    " 'model_url': item['model_url'],\n",
    " 'model_no': item['model_no'],\n",
    " 'model_id': item['model_id'],\n",
    " 'model': item['model'],\n",
    " 'compatibility_url': item['compatibility_url'],\n",
    " 'compatibility_no': 1,\n",
    " 'compatibility': list_compatibility[0]['title'].strip()}"
   ]
  },
  {
   "cell_type": "code",
   "execution_count": null,
   "id": "675fd786-d65a-49de-8668-da6b16b8d94b",
   "metadata": {},
   "outputs": [],
   "source": []
  }
 ],
 "metadata": {
  "kernelspec": {
   "display_name": "Python 3 (ipykernel)",
   "language": "python",
   "name": "python3"
  },
  "language_info": {
   "codemirror_mode": {
    "name": "ipython",
    "version": 3
   },
   "file_extension": ".py",
   "mimetype": "text/x-python",
   "name": "python",
   "nbconvert_exporter": "python",
   "pygments_lexer": "ipython3",
   "version": "3.12.7"
  }
 },
 "nbformat": 4,
 "nbformat_minor": 5
}
