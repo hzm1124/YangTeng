{
 "cells": [
  {
   "cell_type": "code",
   "execution_count": null,
   "id": "94ed86e5",
   "metadata": {},
   "outputs": [],
   "source": [
    "param_date = '20240309'"
   ]
  },
  {
   "cell_type": "markdown",
   "id": "cfe7afc2",
   "metadata": {},
   "source": [
    "# 1. Part_Number修正"
   ]
  },
  {
   "cell_type": "code",
   "execution_count": null,
   "id": "c17aa5dd",
   "metadata": {},
   "outputs": [],
   "source": [
    "import os"
   ]
  },
  {
   "cell_type": "code",
   "execution_count": null,
   "id": "06ae4c7e",
   "metadata": {},
   "outputs": [],
   "source": [
    "list_dir = list(os.walk('./' + param_date))[0][1]\n",
    "if '.DS_Store' in list_dir:\n",
    "    list_dir.remove('.DS_Store')\n",
    "if '0.null.txt' in list_dir:\n",
    "    list_dir.remove('0.null.txt')\n",
    "    \n",
    "list_dir.sort()\n",
    "    \n",
    "len(list_dir)"
   ]
  },
  {
   "cell_type": "code",
   "execution_count": null,
   "id": "e43221c1",
   "metadata": {},
   "outputs": [],
   "source": [
    "import re"
   ]
  },
  {
   "cell_type": "code",
   "execution_count": null,
   "id": "f76d5e93",
   "metadata": {},
   "outputs": [],
   "source": [
    "for param_dir in list_dir:\n",
    "    list_file = list(os.walk('./' + param_date + '/' + param_dir))[0][2]\n",
    "    if '.DS_Store' in list_file:\n",
    "        list_file.remove('.DS_Store')\n",
    "    if '0.null.txt' in list_file:\n",
    "        list_file.remove('0.null.txt')\n",
    "        \n",
    "    for file in list_file:\n",
    "        if file.startswith('4.part_number-'):\n",
    "            os.rename('./' + param_date + '/' + param_dir + '/' + file,\n",
    "                      './' + param_date + '/' + param_dir + '/' + re.sub('-[0-9]{8}_[0-9]{6}\\.xlsx$', '.xlsx', file))\n",
    "\n",
    "print('Done ~')"
   ]
  },
  {
   "cell_type": "markdown",
   "id": "53b2d1fa",
   "metadata": {},
   "source": [
    "# 2. 数量统计"
   ]
  },
  {
   "cell_type": "code",
   "execution_count": null,
   "id": "e9cc0717",
   "metadata": {},
   "outputs": [],
   "source": [
    "import pandas as pd\n",
    "\n",
    "df = pd.DataFrame()"
   ]
  },
  {
   "cell_type": "code",
   "execution_count": null,
   "id": "92c9e843",
   "metadata": {},
   "outputs": [],
   "source": [
    "import os"
   ]
  },
  {
   "cell_type": "code",
   "execution_count": null,
   "id": "c205679b",
   "metadata": {},
   "outputs": [],
   "source": [
    "list_dir = list(os.walk('./' + param_date))[0][1]\n",
    "if '.DS_Store' in list_dir:\n",
    "    list_dir.remove('.DS_Store')\n",
    "if '0.null.txt' in list_dir:\n",
    "    list_dir.remove('0.null.txt')\n",
    "    \n",
    "list_dir.sort()\n",
    "    \n",
    "len(list_dir)"
   ]
  },
  {
   "cell_type": "code",
   "execution_count": null,
   "id": "9e88dc74",
   "metadata": {},
   "outputs": [],
   "source": [
    "from tqdm import tqdm"
   ]
  },
  {
   "cell_type": "code",
   "execution_count": null,
   "id": "358cb3aa",
   "metadata": {
    "scrolled": true
   },
   "outputs": [],
   "source": [
    "for param_dir in tqdm(list_dir, desc='Progress', ncols=77):\n",
    "    list_file = list(os.walk('./' + param_date + '/' + param_dir))[0][2]\n",
    "    if '.DS_Store' in list_file:\n",
    "        list_file.remove('.DS_Store')\n",
    "    if '0.null.txt' in list_file:\n",
    "        list_file.remove('0.null.txt')\n",
    "        \n",
    "    for file in list_file:\n",
    "        df_temp = pd.read_excel('./' + param_date + '/' + param_dir + '/' + file,\n",
    "                                header=0,\n",
    "                                dtype=str).fillna('')\n",
    "        \n",
    "        if len(df_temp) == 0:\n",
    "            continue\n",
    "        \n",
    "        df_temp = df_temp.groupby([df_temp['Manufacturer_No.'], df_temp['Type_Code']], as_index=False).count()\n",
    "        df_temp['JOIN_MNTC'] = df_temp.loc[0, 'Manufacturer_No.'] + ';' + df_temp.loc[0, 'Type_Code']\n",
    "        df_temp['Amount'] = df_temp['Part_No.']\n",
    "        df_temp = df_temp[['JOIN_MNTC', 'Amount']]\n",
    "        \n",
    "        df = pd.concat([df, df_temp], ignore_index=True).fillna('')\n",
    "\n",
    "df"
   ]
  },
  {
   "cell_type": "code",
   "execution_count": null,
   "id": "beb1e2c4",
   "metadata": {},
   "outputs": [],
   "source": [
    "df_type = pd.read_excel('./3.type.xlsx',\n",
    "                        header=0,\n",
    "                        dtype=str).fillna('')\n",
    "\n",
    "df_type"
   ]
  },
  {
   "cell_type": "code",
   "execution_count": null,
   "id": "0946cac7",
   "metadata": {},
   "outputs": [],
   "source": [
    "df_type['JOIN_MNTC'] = [manufacturer_no + ';' + type_code for manufacturer_no, type_code in zip(df_type['Manufacturer_No.'].tolist(), df_type['Type_Code'].tolist())]\n",
    "                                                                                                \n",
    "df_type"
   ]
  },
  {
   "cell_type": "code",
   "execution_count": null,
   "id": "7ca6c5a9",
   "metadata": {},
   "outputs": [],
   "source": [
    "df_type = pd.merge(left=df_type,\n",
    "                   right=df,\n",
    "                   how='left',\n",
    "                   left_on='JOIN_MNTC',\n",
    "                   right_on='JOIN_MNTC').fillna('')\n",
    "\n",
    "df_type"
   ]
  },
  {
   "cell_type": "code",
   "execution_count": null,
   "id": "788a83b6",
   "metadata": {},
   "outputs": [],
   "source": [
    "list_column = df_type.columns.tolist()\n",
    "list_column.remove('JOIN_MNTC')\n",
    "df_type = df_type[list_column]\n",
    "\n",
    "df_type.to_excel('./result.xlsx', index=False)\n",
    "\n",
    "df_type"
   ]
  },
  {
   "cell_type": "code",
   "execution_count": null,
   "id": "818b444f",
   "metadata": {},
   "outputs": [],
   "source": []
  }
 ],
 "metadata": {
  "kernelspec": {
   "display_name": "Python 3 (ipykernel)",
   "language": "python",
   "name": "python3"
  },
  "language_info": {
   "codemirror_mode": {
    "name": "ipython",
    "version": 3
   },
   "file_extension": ".py",
   "mimetype": "text/x-python",
   "name": "python",
   "nbconvert_exporter": "python",
   "pygments_lexer": "ipython3",
   "version": "3.11.3"
  }
 },
 "nbformat": 4,
 "nbformat_minor": 5
}
