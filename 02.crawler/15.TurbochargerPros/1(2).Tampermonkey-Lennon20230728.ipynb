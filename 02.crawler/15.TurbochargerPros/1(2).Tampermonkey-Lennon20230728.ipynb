{
 "cells": [
  {
   "cell_type": "code",
   "execution_count": 1,
   "id": "14ca4672",
   "metadata": {},
   "outputs": [],
   "source": [
    "import os"
   ]
  },
  {
   "cell_type": "code",
   "execution_count": 2,
   "id": "a3369d1a",
   "metadata": {},
   "outputs": [],
   "source": [
    "list_file = list(os.walk('./menu'))[0][2]\n",
    "if '.DS_Store' in list_file:\n",
    "   list_file.remove('.DS_Store')\n",
    "\n",
    "len(list_file)"
   ]
  },
  {
   "cell_type": "code",
   "execution_count": 3,
   "id": "552c5c8c",
   "metadata": {},
   "outputs": [],
   "source": [
    "import pandas as pd"
   ]
  },
  {
   "cell_type": "code",
   "execution_count": 4,
   "id": "19a50da8",
   "metadata": {},
   "outputs": [
    {
     "data": {
      "text/html": [
       "<div>\n",
       "<style scoped>\n",
       "    .dataframe tbody tr th:only-of-type {\n",
       "        vertical-align: middle;\n",
       "    }\n",
       "\n",
       "    .dataframe tbody tr th {\n",
       "        vertical-align: top;\n",
       "    }\n",
       "\n",
       "    .dataframe thead th {\n",
       "        text-align: right;\n",
       "    }\n",
       "</style>\n",
       "<table border=\"1\" class=\"dataframe\">\n",
       "  <thead>\n",
       "    <tr style=\"text-align: right;\">\n",
       "      <th></th>\n",
       "      <th>Url</th>\n",
       "    </tr>\n",
       "  </thead>\n",
       "  <tbody>\n",
       "  </tbody>\n",
       "</table>\n",
       "</div>"
      ],
      "text/plain": [
       "Empty DataFrame\n",
       "Columns: [Url]\n",
       "Index: []"
      ]
     },
     "execution_count": 4,
     "metadata": {},
     "output_type": "execute_result"
    }
   ],
   "source": [
    "df = pd.DataFrame(columns=['Url'])\n",
    "\n",
    "df"
   ]
  },
  {
   "cell_type": "code",
   "execution_count": 5,
   "id": "000d53d7",
   "metadata": {},
   "outputs": [],
   "source": [
    "import json"
   ]
  },
  {
   "cell_type": "code",
   "execution_count": 6,
   "id": "1d3df716",
   "metadata": {},
   "outputs": [
    {
     "name": "stdout",
     "output_type": "stream",
     "text": [
      "www.turbochargerpros.com_search_result.asp_w=garrett&page=2#_filter_brand_Garrett.txt\n",
      "www.turbochargerpros.com_search_result.asp_w=garrett&page=10#_filter_brand_Garrett.txt\n",
      "www.turbochargerpros.com_search_result.asp_w=garrett&page=5#_filter_brand_Garrett.txt\n",
      "www.turbochargerpros.com_search_result.asp_w=garrett#_filter_brand_Garrett.txt\n",
      "www.turbochargerpros.com_search_result.asp_w=garrett&page=8#_filter_brand_Garrett.txt\n",
      "www.turbochargerpros.com_search_result.asp_w=garrett&page=7#_filter_brand_Garrett.txt\n",
      "www.turbochargerpros.com_search_result.asp_w=garrett&page=12#_filter_brand_Garrett.txt\n",
      "www.turbochargerpros.com_search_result.asp_w=garrett&page=6#_filter_brand_Garrett.txt\n",
      "www.turbochargerpros.com_search_result.asp_w=garrett&page=9#_filter_brand_Garrett.txt\n",
      "www.turbochargerpros.com_search_result.asp_w=garrett&page=11#_filter_brand_Garrett.txt\n",
      "www.turbochargerpros.com_search_result.asp_w=garrett&page=4#_filter_brand_Garrett.txt\n",
      "www.turbochargerpros.com_search_result.asp_w=garrett&page=3#_filter_brand_Garrett.txt\n"
     ]
    },
    {
     "data": {
      "text/html": [
       "<div>\n",
       "<style scoped>\n",
       "    .dataframe tbody tr th:only-of-type {\n",
       "        vertical-align: middle;\n",
       "    }\n",
       "\n",
       "    .dataframe tbody tr th {\n",
       "        vertical-align: top;\n",
       "    }\n",
       "\n",
       "    .dataframe thead th {\n",
       "        text-align: right;\n",
       "    }\n",
       "</style>\n",
       "<table border=\"1\" class=\"dataframe\">\n",
       "  <thead>\n",
       "    <tr style=\"text-align: right;\">\n",
       "      <th></th>\n",
       "      <th>Url</th>\n",
       "    </tr>\n",
       "  </thead>\n",
       "  <tbody>\n",
       "    <tr>\n",
       "      <th>0</th>\n",
       "      <td>www.turbochargerpros.com/buynow/40-35663_gr</td>\n",
       "    </tr>\n",
       "    <tr>\n",
       "      <th>1</th>\n",
       "      <td>www.turbochargerpros.com/buynow/40-35659_gg</td>\n",
       "    </tr>\n",
       "    <tr>\n",
       "      <th>2</th>\n",
       "      <td>www.turbochargerpros.com/buynow/40-35656_gg</td>\n",
       "    </tr>\n",
       "    <tr>\n",
       "      <th>3</th>\n",
       "      <td>www.turbochargerpros.com/buynow/40-35653_gr</td>\n",
       "    </tr>\n",
       "    <tr>\n",
       "      <th>4</th>\n",
       "      <td>www.turbochargerpros.com/buynow/40-35651_gr</td>\n",
       "    </tr>\n",
       "    <tr>\n",
       "      <th>...</th>\n",
       "      <td>...</td>\n",
       "    </tr>\n",
       "    <tr>\n",
       "      <th>355</th>\n",
       "      <td>www.turbochargerpros.com/buynow/40-30541_gg</td>\n",
       "    </tr>\n",
       "    <tr>\n",
       "      <th>356</th>\n",
       "      <td>www.turbochargerpros.com/buynow/40-30486_gg</td>\n",
       "    </tr>\n",
       "    <tr>\n",
       "      <th>357</th>\n",
       "      <td>www.turbochargerpros.com/buynow/40-30433_gg</td>\n",
       "    </tr>\n",
       "    <tr>\n",
       "      <th>358</th>\n",
       "      <td>www.turbochargerpros.com/buynow/40-30429_gg</td>\n",
       "    </tr>\n",
       "    <tr>\n",
       "      <th>359</th>\n",
       "      <td>www.turbochargerpros.com/buynow/40-30427_gr</td>\n",
       "    </tr>\n",
       "  </tbody>\n",
       "</table>\n",
       "<p>360 rows × 1 columns</p>\n",
       "</div>"
      ],
      "text/plain": [
       "                                             Url\n",
       "0    www.turbochargerpros.com/buynow/40-35663_gr\n",
       "1    www.turbochargerpros.com/buynow/40-35659_gg\n",
       "2    www.turbochargerpros.com/buynow/40-35656_gg\n",
       "3    www.turbochargerpros.com/buynow/40-35653_gr\n",
       "4    www.turbochargerpros.com/buynow/40-35651_gr\n",
       "..                                           ...\n",
       "355  www.turbochargerpros.com/buynow/40-30541_gg\n",
       "356  www.turbochargerpros.com/buynow/40-30486_gg\n",
       "357  www.turbochargerpros.com/buynow/40-30433_gg\n",
       "358  www.turbochargerpros.com/buynow/40-30429_gg\n",
       "359  www.turbochargerpros.com/buynow/40-30427_gr\n",
       "\n",
       "[360 rows x 1 columns]"
      ]
     },
     "execution_count": 6,
     "metadata": {},
     "output_type": "execute_result"
    }
   ],
   "source": [
    "for file in list_file:\n",
    "    print(file)\n",
    "    with open('./menu/' + file) as f:\n",
    "        df = pd.concat([df, pd.DataFrame(json.loads(f.read()))], ignore_index=True)\n",
    "        \n",
    "df.to_excel('./menu.xlsx', index=False)\n",
    "\n",
    "df"
   ]
  },
  {
   "cell_type": "code",
   "execution_count": null,
   "id": "f1b946e9",
   "metadata": {},
   "outputs": [],
   "source": []
  }
 ],
 "metadata": {
  "kernelspec": {
   "display_name": "Python 3 (ipykernel)",
   "language": "python",
   "name": "python3"
  },
  "language_info": {
   "codemirror_mode": {
    "name": "ipython",
    "version": 3
   },
   "file_extension": ".py",
   "mimetype": "text/x-python",
   "name": "python",
   "nbconvert_exporter": "python",
   "pygments_lexer": "ipython3",
   "version": "3.11.3"
  }
 },
 "nbformat": 4,
 "nbformat_minor": 5
}
