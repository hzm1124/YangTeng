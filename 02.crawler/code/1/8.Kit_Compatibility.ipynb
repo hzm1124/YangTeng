{
 "cells": [
  {
   "cell_type": "code",
   "execution_count": 1,
   "id": "5aafd5f7-431c-4722-9f0d-f4878ca7b7d9",
   "metadata": {},
   "outputs": [
    {
     "data": {
      "text/plain": [
       "{'kit_type': 'Timing Chain',\n",
       " 'kit_no': 1,\n",
       " 'kit_type_code': '5724',\n",
       " 'kit_manufacturer': 'MELLING',\n",
       " 'kit_part_number': '715F',\n",
       " 'kit_url': 'https://www.rockauto.com/en/parts/MELLING,715F,Timing Chain,5724&Lennon=1',\n",
       " 'kit_picture': '',\n",
       " 'kit_part_code': '8306448',\n",
       " 'kit_join_mpntcpc': 'MELLING;715F;5724;8306448',\n",
       " 'kit_not_found': 'no',\n",
       " 'kit_choose': '',\n",
       " 'kit_json_sidenote': '{}',\n",
       " 'kit_info_url': 'https://www.rockauto.com/en/moreinfo.php?pk=8306448&cc=0&pt=5724',\n",
       " 'kit_json_footnote': '{\"0\": \"Category: Timing Chain\"}',\n",
       " 'kit_oem': '3L8Z6268AA;L30512201',\n",
       " 'kit_json_src': '{\"0\": \"https://www.rockauto.com/info/583/715F-1-ANG.jpg\"}',\n",
       " 'kit_json_price': '{\"default\": \"Out of Stock\"}'}"
      ]
     },
     "execution_count": 1,
     "metadata": {},
     "output_type": "execute_result"
    }
   ],
   "source": [
    "item = {'kit_type': 'Timing Chain',\n",
    " 'kit_no': 1,\n",
    " 'kit_type_code': '5724',\n",
    " 'kit_manufacturer': 'MELLING',\n",
    " 'kit_part_number': '715F',\n",
    " 'kit_url': 'https://www.rockauto.com/en/parts/MELLING,715F,Timing Chain,5724&Lennon=1',\n",
    " 'kit_picture': '',\n",
    " 'kit_part_code': '8306448',\n",
    " 'kit_join_mpntcpc': 'MELLING;715F;5724;8306448',\n",
    " 'kit_not_found': 'no',\n",
    " 'kit_choose': '',\n",
    " 'kit_json_sidenote': '{}',\n",
    " 'kit_info_url': 'https://www.rockauto.com/en/moreinfo.php?pk=8306448&cc=0&pt=5724',\n",
    " 'kit_json_footnote': '{\"0\": \"Category: Timing Chain\"}',\n",
    " 'kit_oem': '3L8Z6268AA;L30512201',\n",
    " 'kit_json_src': '{\"0\": \"https://www.rockauto.com/info/583/715F-1-ANG.jpg\"}',\n",
    " 'kit_json_price': '{\"default\": \"Out of Stock\"}'}\n",
    "\n",
    "item"
   ]
  },
  {
   "cell_type": "code",
   "execution_count": 2,
   "id": "57477a65-3ee3-43b9-9641-6c1c4f9e3518",
   "metadata": {},
   "outputs": [],
   "source": [
    "import json\n",
    "import requests\n",
    "\n",
    "import sys\n",
    "sys.path.append('../00.Tools')\n",
    "from configuration import generate_header, generate_proxy"
   ]
  },
  {
   "cell_type": "code",
   "execution_count": 3,
   "id": "78c602e8-5e7b-4137-bc64-9fa6805d45b4",
   "metadata": {},
   "outputs": [
    {
     "data": {
      "text/plain": [
       "200"
      ]
     },
     "execution_count": 3,
     "metadata": {},
     "output_type": "execute_result"
    }
   ],
   "source": [
    "data = {'func': 'getbuyersguide',\n",
    "        'payload': json.dumps({'partData': {'listing_data_essential': {'partkey': item['kit_part_code']},\n",
    "                                            'listing_data_supplemental': {'partnumber': item['kit_part_number'],\n",
    "                                                                          'catalogname': item['kit_manufacturer']}}}),\n",
    "        'api_json_request': '1'}\n",
    "response = requests.post('https://www.rockauto.com/catalog/catalogapi.php',\n",
    "                         data=data,\n",
    "                         headers=generate_header(),\n",
    "                         proxies=generate_proxy(),\n",
    "                         timeout=(10, 15),\n",
    "                         allow_redirects=False)\n",
    "\n",
    "response.status_code"
   ]
  },
  {
   "cell_type": "code",
   "execution_count": 4,
   "id": "824db582-4cd3-477d-addf-b31514c08070",
   "metadata": {},
   "outputs": [
    {
     "data": {
      "text/plain": [
       "{'buyersguidepieces': {'body': '<div class=\"buyersguide-nested\"><div style=\"padding: .5em;\"><table class=\"nobmp\" style=\"width: 100%;\"><tr><td class=\"altrow-a-0\">FORD</td><td class=\"altrow-a-0\">ESCAPE</td><td class=\"altrow-a-0\">2005-2008</td></tr><tr><td class=\"altrow-a-1\">FORD</td><td class=\"altrow-a-1\">FOCUS</td><td class=\"altrow-a-1\">2003-2005</td></tr><tr><td class=\"altrow-a-0\">FORD</td><td class=\"altrow-a-0\">FUSION</td><td class=\"altrow-a-0\">2006-2007</td></tr><tr><td class=\"altrow-a-1\">MAZDA</td><td class=\"altrow-a-1\">3</td><td class=\"altrow-a-1\">2004-2007</td></tr><tr><td class=\"altrow-a-0\">MAZDA</td><td class=\"altrow-a-0\">5</td><td class=\"altrow-a-0\">2006-2007</td></tr><tr><td class=\"altrow-a-1\">MAZDA</td><td class=\"altrow-a-1\">6</td><td class=\"altrow-a-1\">2003-2007</td></tr><tr><td class=\"altrow-a-0\">MAZDA</td><td class=\"altrow-a-0\">TRIBUTE</td><td class=\"altrow-a-0\">2005-2006</td></tr><tr><td class=\"altrow-a-1\">MERCURY</td><td class=\"altrow-a-1\">MARINER</td><td class=\"altrow-a-1\">2005-2008</td></tr><tr><td class=\"altrow-a-0\">MERCURY</td><td class=\"altrow-a-0\">MILAN</td><td class=\"altrow-a-0\">2006-2007</td></tr></table><div>Please refer to catalog for application details.</div></div></div>',\n",
       "  'title': \"Buyer's Guide : MELLING 715F \"},\n",
       " 'groupindex': None,\n",
       " 'collected_javascript': '/**UQ:07C9A531**/\\nwindow.top.parent.window[\"_nck\"] = \"8LVLUxTaILBT+tLxkg8+3Ag7\\\\/0bbOhvn7P3rkFbL809YNOHQDmNBznFtdYfbcEUriQ0mcmy\\\\/TcWfcbfHTjxSwndfe2chgzy88liHO2MoAcp7wW7lek5DxawTLSg\\\\/DpYU6glXntEIULq+ml07SJE2KlPMgi2ACBd3h7g\\\\/K1N+WX0=\";\\n'}"
      ]
     },
     "execution_count": 4,
     "metadata": {},
     "output_type": "execute_result"
    }
   ],
   "source": [
    "dict_ = response.json()\n",
    "\n",
    "dict_"
   ]
  },
  {
   "cell_type": "code",
   "execution_count": 5,
   "id": "8991f917-0ab8-4735-9b8a-63331096e59d",
   "metadata": {},
   "outputs": [],
   "source": [
    "import re"
   ]
  },
  {
   "cell_type": "code",
   "execution_count": 6,
   "id": "f53438a3-e23c-40f1-b9b0-c3df51294f25",
   "metadata": {},
   "outputs": [
    {
     "data": {
      "text/plain": [
       "False"
      ]
     },
     "execution_count": 6,
     "metadata": {},
     "output_type": "execute_result"
    }
   ],
   "source": [
    "'redirect_to_url' in dict_ or re.sub(' +', ' ', dict_['buyersguidepieces']['title']).strip() != re.sub(' +', ' ', f'''Buyer's Guide : {item['kit_manufacturer']} {item['kit_part_number']}''').strip()"
   ]
  },
  {
   "cell_type": "code",
   "execution_count": 7,
   "id": "74e74211-6b6b-4556-895b-2a2c5a913c71",
   "metadata": {},
   "outputs": [
    {
     "data": {
      "text/plain": [
       "False"
      ]
     },
     "execution_count": 7,
     "metadata": {},
     "output_type": "execute_result"
    }
   ],
   "source": [
    "dict_['buyersguidepieces']['body'].strip() == 'No applications found.'"
   ]
  },
  {
   "cell_type": "code",
   "execution_count": 8,
   "id": "7a7ba11c-c1ba-4f5a-b3da-354eddb315b1",
   "metadata": {},
   "outputs": [],
   "source": [
    "from bs4 import BeautifulSoup"
   ]
  },
  {
   "cell_type": "code",
   "execution_count": 9,
   "id": "803aab27-f99e-40fe-bb60-a992d9f9fc2c",
   "metadata": {
    "scrolled": true
   },
   "outputs": [
    {
     "name": "stdout",
     "output_type": "stream",
     "text": [
      "<html>\n",
      " <head>\n",
      " </head>\n",
      " <body>\n",
      "  <div class=\"buyersguide-nested\">\n",
      "   <div style=\"padding: .5em;\">\n",
      "    <table class=\"nobmp\" style=\"width: 100%;\">\n",
      "     <tbody>\n",
      "      <tr>\n",
      "       <td class=\"altrow-a-0\">\n",
      "        FORD\n",
      "       </td>\n",
      "       <td class=\"altrow-a-0\">\n",
      "        ESCAPE\n",
      "       </td>\n",
      "       <td class=\"altrow-a-0\">\n",
      "        2005-2008\n",
      "       </td>\n",
      "      </tr>\n",
      "      <tr>\n",
      "       <td class=\"altrow-a-1\">\n",
      "        FORD\n",
      "       </td>\n",
      "       <td class=\"altrow-a-1\">\n",
      "        FOCUS\n",
      "       </td>\n",
      "       <td class=\"altrow-a-1\">\n",
      "        2003-2005\n",
      "       </td>\n",
      "      </tr>\n",
      "      <tr>\n",
      "       <td class=\"altrow-a-0\">\n",
      "        FORD\n",
      "       </td>\n",
      "       <td class=\"altrow-a-0\">\n",
      "        FUSION\n",
      "       </td>\n",
      "       <td class=\"altrow-a-0\">\n",
      "        2006-2007\n",
      "       </td>\n",
      "      </tr>\n",
      "      <tr>\n",
      "       <td class=\"altrow-a-1\">\n",
      "        MAZDA\n",
      "       </td>\n",
      "       <td class=\"altrow-a-1\">\n",
      "        3\n",
      "       </td>\n",
      "       <td class=\"altrow-a-1\">\n",
      "        2004-2007\n",
      "       </td>\n",
      "      </tr>\n",
      "      <tr>\n",
      "       <td class=\"altrow-a-0\">\n",
      "        MAZDA\n",
      "       </td>\n",
      "       <td class=\"altrow-a-0\">\n",
      "        5\n",
      "       </td>\n",
      "       <td class=\"altrow-a-0\">\n",
      "        2006-2007\n",
      "       </td>\n",
      "      </tr>\n",
      "      <tr>\n",
      "       <td class=\"altrow-a-1\">\n",
      "        MAZDA\n",
      "       </td>\n",
      "       <td class=\"altrow-a-1\">\n",
      "        6\n",
      "       </td>\n",
      "       <td class=\"altrow-a-1\">\n",
      "        2003-2007\n",
      "       </td>\n",
      "      </tr>\n",
      "      <tr>\n",
      "       <td class=\"altrow-a-0\">\n",
      "        MAZDA\n",
      "       </td>\n",
      "       <td class=\"altrow-a-0\">\n",
      "        TRIBUTE\n",
      "       </td>\n",
      "       <td class=\"altrow-a-0\">\n",
      "        2005-2006\n",
      "       </td>\n",
      "      </tr>\n",
      "      <tr>\n",
      "       <td class=\"altrow-a-1\">\n",
      "        MERCURY\n",
      "       </td>\n",
      "       <td class=\"altrow-a-1\">\n",
      "        MARINER\n",
      "       </td>\n",
      "       <td class=\"altrow-a-1\">\n",
      "        2005-2008\n",
      "       </td>\n",
      "      </tr>\n",
      "      <tr>\n",
      "       <td class=\"altrow-a-0\">\n",
      "        MERCURY\n",
      "       </td>\n",
      "       <td class=\"altrow-a-0\">\n",
      "        MILAN\n",
      "       </td>\n",
      "       <td class=\"altrow-a-0\">\n",
      "        2006-2007\n",
      "       </td>\n",
      "      </tr>\n",
      "     </tbody>\n",
      "    </table>\n",
      "    <div>\n",
      "     Please refer to catalog for application details.\n",
      "    </div>\n",
      "   </div>\n",
      "  </div>\n",
      " </body>\n",
      "</html>\n",
      "\n"
     ]
    }
   ],
   "source": [
    "soup = BeautifulSoup(dict_['buyersguidepieces']['body'], 'html5lib')\n",
    "\n",
    "with open('./8.kit_compatibility.html', 'w', encoding='utf-8') as file:\n",
    "    file.write(str(soup))\n",
    "\n",
    "print(soup.prettify())"
   ]
  },
  {
   "cell_type": "code",
   "execution_count": 10,
   "id": "be7808c4-72dc-4026-8089-f7475c073aa3",
   "metadata": {},
   "outputs": [],
   "source": [
    "from parsel import Selector"
   ]
  },
  {
   "cell_type": "code",
   "execution_count": 11,
   "id": "98f71f83-c4ec-4c03-9f40-cc663144d15e",
   "metadata": {},
   "outputs": [
    {
     "data": {
      "text/plain": [
       "<Selector query=None data='<html><head></head><body><div class=\"...'>"
      ]
     },
     "execution_count": 11,
     "metadata": {},
     "output_type": "execute_result"
    }
   ],
   "source": [
    "selector = Selector(text=str(soup))\n",
    "\n",
    "selector"
   ]
  },
  {
   "cell_type": "code",
   "execution_count": 12,
   "id": "25c11506-6d48-45f5-ae10-97ddbdc6769d",
   "metadata": {},
   "outputs": [
    {
     "data": {
      "text/plain": [
       "[<Selector query='//tr' data='<tr><td class=\"altrow-a-0\">FORD</td><...'>,\n",
       " <Selector query='//tr' data='<tr><td class=\"altrow-a-1\">FORD</td><...'>,\n",
       " <Selector query='//tr' data='<tr><td class=\"altrow-a-0\">FORD</td><...'>,\n",
       " <Selector query='//tr' data='<tr><td class=\"altrow-a-1\">MAZDA</td>...'>,\n",
       " <Selector query='//tr' data='<tr><td class=\"altrow-a-0\">MAZDA</td>...'>,\n",
       " <Selector query='//tr' data='<tr><td class=\"altrow-a-1\">MAZDA</td>...'>,\n",
       " <Selector query='//tr' data='<tr><td class=\"altrow-a-0\">MAZDA</td>...'>,\n",
       " <Selector query='//tr' data='<tr><td class=\"altrow-a-1\">MERCURY</t...'>,\n",
       " <Selector query='//tr' data='<tr><td class=\"altrow-a-0\">MERCURY</t...'>]"
      ]
     },
     "execution_count": 12,
     "metadata": {},
     "output_type": "execute_result"
    }
   ],
   "source": [
    "list_tr = selector.xpath('//tr')\n",
    "\n",
    "list_tr"
   ]
  },
  {
   "cell_type": "code",
   "execution_count": 13,
   "id": "792e7871-d045-447d-abb3-00a4c8b5b7c0",
   "metadata": {},
   "outputs": [
    {
     "data": {
      "text/plain": [
       "False"
      ]
     },
     "execution_count": 13,
     "metadata": {},
     "output_type": "execute_result"
    }
   ],
   "source": [
    "not list_tr"
   ]
  },
  {
   "cell_type": "code",
   "execution_count": 14,
   "id": "a82b6caa-70a6-461d-98c1-07e9c2330e6b",
   "metadata": {},
   "outputs": [
    {
     "name": "stdout",
     "output_type": "stream",
     "text": [
      "False\n",
      "False\n",
      "False\n",
      "False\n",
      "False\n",
      "False\n",
      "False\n",
      "False\n",
      "False\n"
     ]
    }
   ],
   "source": [
    "for tr in list_tr:\n",
    "    list_text = tr.xpath('./td/text()').getall()\n",
    "    print(len(list_text) not in [2, 3])"
   ]
  },
  {
   "cell_type": "code",
   "execution_count": 15,
   "id": "de3298de-fba9-414e-baf5-f6bd977cc699",
   "metadata": {},
   "outputs": [
    {
     "data": {
      "text/plain": [
       "{'kit_type': 'Timing Chain',\n",
       " 'kit_no': 1,\n",
       " 'kit_type_code': '5724',\n",
       " 'kit_manufacturer': 'MELLING',\n",
       " 'kit_part_number': '715F',\n",
       " 'kit_url': 'https://www.rockauto.com/en/parts/MELLING,715F,Timing Chain,5724&Lennon=1',\n",
       " 'kit_picture': '',\n",
       " 'kit_part_code': '8306448',\n",
       " 'kit_join_mpntcpc': 'MELLING;715F;5724;8306448',\n",
       " 'kit_not_found': 'no',\n",
       " 'kit_choose': '',\n",
       " 'kit_json_sidenote': '{}',\n",
       " 'kit_info_url': 'https://www.rockauto.com/en/moreinfo.php?pk=8306448&cc=0&pt=5724',\n",
       " 'kit_json_footnote': '{\"0\": \"Category: Timing Chain\"}',\n",
       " 'kit_oem': '3L8Z6268AA;L30512201',\n",
       " 'kit_json_src': '{\"0\": \"https://www.rockauto.com/info/583/715F-1-ANG.jpg\"}',\n",
       " 'kit_json_price': '{\"default\": \"Out of Stock\"}',\n",
       " 'kit_compatibility_no': 1,\n",
       " 'kit_make': 'FORD',\n",
       " 'kit_model': 'ESCAPE',\n",
       " 'kit_year': '2005-2008'}"
      ]
     },
     "execution_count": 15,
     "metadata": {},
     "output_type": "execute_result"
    }
   ],
   "source": [
    "list_text = list_tr[0].xpath('./td/text()').getall()\n",
    "{'kit_type': item['kit_type'],\n",
    " 'kit_no': item['kit_no'],\n",
    " 'kit_type_code': item['kit_type_code'],\n",
    " 'kit_manufacturer': item['kit_manufacturer'],\n",
    " 'kit_part_number': item['kit_part_number'],\n",
    " 'kit_url': item['kit_url'],\n",
    " 'kit_picture': item['kit_picture'],\n",
    " 'kit_part_code': item['kit_part_code'],\n",
    " 'kit_join_mpntcpc': item['kit_join_mpntcpc'],\n",
    " 'kit_not_found': item['kit_not_found'],\n",
    " 'kit_choose': item['kit_choose'],\n",
    " 'kit_json_sidenote': item['kit_json_sidenote'],\n",
    " 'kit_info_url': item['kit_info_url'],\n",
    " 'kit_json_footnote': item['kit_json_footnote'],\n",
    " 'kit_oem': item['kit_oem'],\n",
    " 'kit_json_src': item['kit_json_src'],\n",
    " 'kit_json_price': item['kit_json_price'],\n",
    " 'kit_compatibility_no': 1,\n",
    " 'kit_make': list_text[0].strip(),\n",
    " 'kit_model': list_text[1].strip() if len(list_text) == 3 else '',\n",
    " 'kit_year': list_text[-1].strip()}"
   ]
  },
  {
   "cell_type": "code",
   "execution_count": null,
   "id": "2360e321-acc5-4455-a138-6b803641bc0e",
   "metadata": {},
   "outputs": [],
   "source": []
  }
 ],
 "metadata": {
  "kernelspec": {
   "display_name": "Python 3 (ipykernel)",
   "language": "python",
   "name": "python3"
  },
  "language_info": {
   "codemirror_mode": {
    "name": "ipython",
    "version": 3
   },
   "file_extension": ".py",
   "mimetype": "text/x-python",
   "name": "python",
   "nbconvert_exporter": "python",
   "pygments_lexer": "ipython3",
   "version": "3.12.7"
  }
 },
 "nbformat": 4,
 "nbformat_minor": 5
}
