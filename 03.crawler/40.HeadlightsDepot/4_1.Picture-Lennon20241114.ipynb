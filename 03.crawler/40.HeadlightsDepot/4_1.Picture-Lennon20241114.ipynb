{
 "cells": [
  {
   "cell_type": "code",
   "execution_count": 1,
   "id": "4f9b8583-ca2c-4a91-ac45-82c3a384282c",
   "metadata": {},
   "outputs": [],
   "source": [
    "import pandas as pd\n",
    "import json\n",
    "import pyperclip"
   ]
  },
  {
   "cell_type": "code",
   "execution_count": 2,
   "id": "7d273bca-64b5-4e8d-b2f0-d7e31a9d0b52",
   "metadata": {
    "scrolled": true
   },
   "outputs": [
    {
     "data": {
      "text/plain": [
       "'let list_url = [\"https://www.headlightsdepot.com/media/catalog/product/D/S/DS687-B100P_1.jpg\", \"https://www.headlightsdepot.com/media/catalog/product/D/D/DD6672-GBFG_1.jpg\", \"https://www.headlightsdepot.com/media/catalog/product/L/F/LF030_1.jpg\", \"https://www.headlightsdepot.com/media/catalog/product/3/3/330-2052P-AC_1.jpg\", \"https://www.headlightsdepot.com/media/catalog/product/C/S/CS125-B000R_1_3.jpg\", \"https://www.headlightsdepot.com/media/catalog/product/G/M/GM512-B000L_1.jpg\", \"https://www.headlightsdepot.com/media/catalog/product/G/M/GM308-B000R_1.jpg\", \"https://www.headlightsdepot.com/media/catalog/product/G/M/GM308-B000P_1.jpg\", \"https://www.headlightsdepot.com/media/catalog/product/F/R/FR542-B000P_1.jpg\", \"https://www.headlightsdepot.com/media/catalog/product/F/R/FR542-B000R_1.jpg\"];\\n'"
      ]
     },
     "execution_count": 2,
     "metadata": {},
     "output_type": "execute_result"
    }
   ],
   "source": [
    "df_input = pd.read_excel('./file/3.part.xlsx',\n",
    "                         header=0,\n",
    "                         dtype=str).fillna('')\n",
    "\n",
    "df_input['No'] = df_input['No'].astype(int)\n",
    "df_input['Price'] = df_input['Price'].astype(float)\n",
    "\n",
    "for i, json_src in enumerate(df_input['Json_Src'].tolist()):\n",
    "    if i == 0:\n",
    "        data = f'let list_url = [\"{json.loads(json_src)['0']}\", '\n",
    "    else:\n",
    "        data += f'\"{json.loads(json_src)['0']}\", '\n",
    "data = f'{data[:-2]}];\\n'\n",
    "\n",
    "pyperclip.copy(data)\n",
    "\n",
    "data"
   ]
  },
  {
   "cell_type": "code",
   "execution_count": null,
   "id": "1aebc3c8-70e6-4576-ad93-73c08af7277d",
   "metadata": {},
   "outputs": [],
   "source": []
  }
 ],
 "metadata": {
  "kernelspec": {
   "display_name": "Python 3 (ipykernel)",
   "language": "python",
   "name": "python3"
  },
  "language_info": {
   "codemirror_mode": {
    "name": "ipython",
    "version": 3
   },
   "file_extension": ".py",
   "mimetype": "text/x-python",
   "name": "python",
   "nbconvert_exporter": "python",
   "pygments_lexer": "ipython3",
   "version": "3.12.7"
  }
 },
 "nbformat": 4,
 "nbformat_minor": 5
}
