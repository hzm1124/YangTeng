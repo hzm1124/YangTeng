{
 "cells": [
  {
   "cell_type": "code",
   "execution_count": 1,
   "id": "ba98551f-b0b1-4c50-8c47-3ad3a3730b73",
   "metadata": {},
   "outputs": [
    {
     "data": {
      "text/plain": [
       "['crawler_1.xlsx', 'crawler_2.xlsx']"
      ]
     },
     "execution_count": 1,
     "metadata": {},
     "output_type": "execute_result"
    }
   ],
   "source": [
    "import os\n",
    "\n",
    "list_file = sorted(list(os.walk('./file/2.url'))[0][2])\n",
    "while '.DS_Store' in list_file:\n",
    "    list_file.remove('.DS_Store')\n",
    "while '0.null.txt' in list_file:\n",
    "    list_file.remove('0.null.txt')\n",
    "\n",
    "list_file"
   ]
  },
  {
   "cell_type": "code",
   "execution_count": 2,
   "id": "9b75b948-9701-432e-a5ef-88d0e629bd2c",
   "metadata": {},
   "outputs": [
    {
     "data": {
      "text/plain": [
       "'crawler_1.xlsx'"
      ]
     },
     "execution_count": 2,
     "metadata": {},
     "output_type": "execute_result"
    }
   ],
   "source": [
    "file = list_file[0]\n",
    "\n",
    "file"
   ]
  },
  {
   "cell_type": "code",
   "execution_count": 3,
   "id": "76ea49e2-7cc6-4bc1-af5b-7a6768eb6c08",
   "metadata": {},
   "outputs": [],
   "source": [
    "import pandas as pd\n",
    "\n",
    "output_correct, output_error = pd.DataFrame(), pd.DataFrame()"
   ]
  },
  {
   "cell_type": "code",
   "execution_count": 4,
   "id": "5d22fc26-a390-442a-bfe3-4d409c33f1e7",
   "metadata": {
    "scrolled": true
   },
   "outputs": [
    {
     "name": "stdout",
     "output_type": "stream",
     "text": [
      "总数量：10\n"
     ]
    },
    {
     "data": {
      "text/plain": [
       "['https://www.dormanproducts.com/p-9421-w37425.aspx?origin=keyword',\n",
       " 'https://www.dormanproducts.com/p-21537-w72258.aspx?origin=keyword',\n",
       " 'https://www.dormanproducts.com/p-50659-w610165.aspx?origin=keyword',\n",
       " 'https://www.dormanproducts.com/p-47833-w610150.aspx?origin=keyword',\n",
       " 'https://www.dormanproducts.com/p-50424-w610166.aspx?origin=keyword',\n",
       " 'https://www.dormanproducts.com/p-9423-w37635.aspx?origin=keyword',\n",
       " 'https://www.dormanproducts.com/p-25698-w19235.aspx?origin=keyword',\n",
       " 'https://www.dormanproducts.com/p-15216-w37872.aspx?origin=keyword',\n",
       " 'https://www.dormanproducts.com/p-15277-w37984.aspx?origin=keyword',\n",
       " 'https://www.dormanproducts.com/p-12090-w79985.aspx?origin=keyword']"
      ]
     },
     "execution_count": 4,
     "metadata": {},
     "output_type": "execute_result"
    }
   ],
   "source": [
    "input_ = pd.read_excel(f'./file/2.url/{file}',\n",
    "                       header=0,\n",
    "                       dtype=str).fillna('')\n",
    "\n",
    "input_['No'] = input_['No'].astype(int)\n",
    "\n",
    "print(f'总数量：{len(input_)}')\n",
    "input_['Url'].tolist()"
   ]
  },
  {
   "cell_type": "code",
   "execution_count": 5,
   "id": "5878a9f0-d639-4123-b6e0-bc564f72c2d6",
   "metadata": {},
   "outputs": [
    {
     "data": {
      "text/plain": [
       "0"
      ]
     },
     "execution_count": 5,
     "metadata": {},
     "output_type": "execute_result"
    }
   ],
   "source": [
    "a = 0\n",
    "\n",
    "a"
   ]
  },
  {
   "cell_type": "code",
   "execution_count": 6,
   "id": "9f61dd65-55da-4d0b-ba30-d0534eff0781",
   "metadata": {},
   "outputs": [
    {
     "data": {
      "text/plain": [
       "'error'"
      ]
     },
     "execution_count": 6,
     "metadata": {},
     "output_type": "execute_result"
    }
   ],
   "source": [
    "crawler_status = 'error'\n",
    "\n",
    "crawler_status"
   ]
  },
  {
   "cell_type": "code",
   "execution_count": 7,
   "id": "ad99bc86-6e80-4fcf-8200-736dc5101097",
   "metadata": {},
   "outputs": [
    {
     "name": "stdout",
     "output_type": "stream",
     "text": [
      "1\n"
     ]
    },
    {
     "data": {
      "text/plain": [
       "'Wheel Cylinder'"
      ]
     },
     "execution_count": 7,
     "metadata": {},
     "output_type": "execute_result"
    }
   ],
   "source": [
    "import requests\n",
    "\n",
    "import sys\n",
    "sys.path.append('../00.Tools')\n",
    "from crawler_configuration import get_header, get_proxy\n",
    "\n",
    "from bs4 import BeautifulSoup\n",
    "from lxml import etree\n",
    "\n",
    "b = 0\n",
    "while True:\n",
    "    b += 1\n",
    "    print(b)\n",
    "    try:\n",
    "        request_url = input_.loc[a, 'Url']\n",
    "        \n",
    "        resp = requests.get(request_url,\n",
    "                            headers=get_header(),\n",
    "                            proxies=get_proxy(),\n",
    "                            timeout=(10, 10))\n",
    "\n",
    "        if resp.status_code == 200:\n",
    "            soup = BeautifulSoup(resp.text, 'lxml')\n",
    "            html = etree.HTML(str(soup))\n",
    "\n",
    "            type_ = html.xpath('//h1/span[@id=\"lblPartTypeName\"]/text()')[0].strip()\n",
    "            if type_:\n",
    "                with open('./part.html', 'w', encoding='UTF-8') as file:\n",
    "                    file.write(str(soup))\n",
    "                break\n",
    "    except KeyboardInterrupt:\n",
    "        break\n",
    "    except:\n",
    "        continue\n",
    "\n",
    "type_"
   ]
  },
  {
   "cell_type": "code",
   "execution_count": 8,
   "id": "f933a1ab-8825-469f-91db-99d00e8d5c6d",
   "metadata": {
    "scrolled": true
   },
   "outputs": [
    {
     "data": {
      "text/plain": [
       "{'0': 'https://static.dormanproducts.com/images/product/medium/W37425-007.JPG',\n",
       " '1': 'https://static.dormanproducts.com/images/product/medium/W37425-006.JPG',\n",
       " '2': 'https://static.dormanproducts.com/images/product/medium/W37425-004.JPG'}"
      ]
     },
     "execution_count": 8,
     "metadata": {},
     "output_type": "execute_result"
    }
   ],
   "source": [
    "dict_src, i, list_src = {}, 0, list(reversed([href.strip() for href in html.xpath('//a[@data-zoom-id=\"ProductPic\"]/@href')]))\n",
    "for src in list_src:\n",
    "    if src.startswith('http'):\n",
    "        dict_src[str(i)] = src\n",
    "        i += 1\n",
    "\n",
    "dict_src"
   ]
  },
  {
   "cell_type": "code",
   "execution_count": 9,
   "id": "43844a94-a200-41b1-a313-ed0256b88c71",
   "metadata": {},
   "outputs": [
    {
     "data": {
      "text/plain": [
       "'W37425'"
      ]
     },
     "execution_count": 9,
     "metadata": {},
     "output_type": "execute_result"
    }
   ],
   "source": [
    "part_number = html.xpath('//span[@id=\"lblProductName\"]/text()')[0].strip()\n",
    "\n",
    "part_number"
   ]
  },
  {
   "cell_type": "code",
   "execution_count": 10,
   "id": "46eff63e-1cfa-4a23-ba9e-8351742e8400",
   "metadata": {
    "scrolled": true
   },
   "outputs": [
    {
     "data": {
      "text/plain": [
       "'Drum Brake Wheel Cylinder'"
      ]
     },
     "execution_count": 10,
     "metadata": {},
     "output_type": "execute_result"
    }
   ],
   "source": [
    "description = html.xpath('//span[@id=\"lblProductDesc\"]/text()')[0].strip()\n",
    "\n",
    "description"
   ]
  },
  {
   "cell_type": "code",
   "execution_count": 11,
   "id": "5f282eda-54ac-4f8e-a37c-412537540e5f",
   "metadata": {},
   "outputs": [
    {
     "data": {
      "text/plain": [
       "'BMW 2002 1976-69, BMW 2002ti 1971-69, BMW 2002tii 1974-71'"
      ]
     },
     "execution_count": 11,
     "metadata": {},
     "output_type": "execute_result"
    }
   ],
   "source": [
    "list_text = [text.strip() for text in html.xpath('//div[@id=\"divAppSummary\"]/p/text()')]\n",
    "while '' in list_text:\n",
    "    list_text.remove('')\n",
    "\n",
    "application_summary = ';'.join(list_text)\n",
    "\n",
    "application_summary"
   ]
  },
  {
   "cell_type": "code",
   "execution_count": 12,
   "id": "e6506b87-53eb-4664-b3d4-f6ba7a650979",
   "metadata": {},
   "outputs": [
    {
     "data": {
      "text/plain": [
       "'Dorman - First Stop'"
      ]
     },
     "execution_count": 12,
     "metadata": {},
     "output_type": "execute_result"
    }
   ],
   "source": [
    "brand = html.xpath('//span[@id=\"lblBrandName\"]/text()')[0].strip()\n",
    "\n",
    "brand"
   ]
  },
  {
   "cell_type": "code",
   "execution_count": 13,
   "id": "93bb5264-dfb2-41db-9baf-5978154f39a7",
   "metadata": {},
   "outputs": [
    {
     "data": {
      "text/plain": [
       "'https://www.dormanproducts.com/itemdetailapp.aspx?ProductID=9421&PartType=Wheel%20Cylinder'"
      ]
     },
     "execution_count": 13,
     "metadata": {},
     "output_type": "execute_result"
    }
   ],
   "source": [
    "vehicle_url = html.xpath('//input[@id=\"hidfDetailApp\"]/@value')\n",
    "vehicle_url = f'''https://www.dormanproducts.com/{vehicle_url[0].strip()}''' if vehicle_url else ''\n",
    "\n",
    "vehicle_url"
   ]
  },
  {
   "cell_type": "code",
   "execution_count": 14,
   "id": "4fede4d9-4b8d-4484-bccf-920a04c411b9",
   "metadata": {},
   "outputs": [
    {
     "ename": "ValueError",
     "evalue": "too many values to unpack (expected 2)",
     "output_type": "error",
     "traceback": [
      "\u001b[0;31m---------------------------------------------------------------------------\u001b[0m",
      "\u001b[0;31mValueError\u001b[0m                                Traceback (most recent call last)",
      "Cell \u001b[0;32mIn[14], line 1\u001b[0m\n\u001b[0;32m----> 1\u001b[0m list_tr, dict_count \u001b[38;5;241m=\u001b[39m {}, html\u001b[38;5;241m.\u001b[39mxpath(\u001b[38;5;124m'\u001b[39m\u001b[38;5;124m//section[@id=\u001b[39m\u001b[38;5;124m\"\u001b[39m\u001b[38;5;124mproductSpec\u001b[39m\u001b[38;5;124m\"\u001b[39m\u001b[38;5;124m]/div/table/tr\u001b[39m\u001b[38;5;124m'\u001b[39m), {}\n\u001b[1;32m      2\u001b[0m \u001b[38;5;28;01mfor\u001b[39;00m tr \u001b[38;5;129;01min\u001b[39;00m list_tr:\n\u001b[1;32m      3\u001b[0m     key \u001b[38;5;241m=\u001b[39m tr\u001b[38;5;241m.\u001b[39mxpath(\u001b[38;5;124m'\u001b[39m\u001b[38;5;124m./th/text()\u001b[39m\u001b[38;5;124m'\u001b[39m)[\u001b[38;5;241m0\u001b[39m]\u001b[38;5;241m.\u001b[39mstrip()\u001b[38;5;241m.\u001b[39mremovesuffix(\u001b[38;5;124m'\u001b[39m\u001b[38;5;124m:\u001b[39m\u001b[38;5;124m'\u001b[39m)\u001b[38;5;241m.\u001b[39mstrip()\n",
      "\u001b[0;31mValueError\u001b[0m: too many values to unpack (expected 2)"
     ]
    }
   ],
   "source": [
    "list_tr, dict_count = html.xpath('//section[@id=\"productSpec\"]/div/table/tr'), {}\n",
    "for tr in list_tr:\n",
    "    key = tr.xpath('./th/text()')[0].strip().removesuffix(':').strip()\n",
    "    if key in dict_count:\n",
    "        dict_count[key] += 1\n",
    "    else:\n",
    "        dict_count[key] = 1\n",
    "\n",
    "dict_specification, dict_no = {}, {}\n",
    "for i, tr in enumerate(list_tr):\n",
    "    key = tr.xpath('./th/text()')[0].strip().removesuffix(':').strip()\n",
    "    if dict_count[key] == 1:\n",
    "        dict_specification[str(i)] = {key: tr.xpath('./td/text()')[0].strip()}\n",
    "    else:\n",
    "        if key in dict_no:\n",
    "            dict_no[key] += 1\n",
    "        else:\n",
    "            dict_no[key] = 1\n",
    "        dict_specification[str(i)] = {f'''{key}-{dict_no[key]}''': tr.xpath('./td/text()')[0].strip()}\n",
    "\n",
    "dict_specification"
   ]
  },
  {
   "cell_type": "code",
   "execution_count": null,
   "id": "3f5e2322-f0e0-42c7-8f79-2c520f64bb3e",
   "metadata": {},
   "outputs": [],
   "source": [
    "list_text = [text.strip() for text in html.xpath('//section[@id=\"productOE\"]/div/table/tbody/tr/th/text()')]\n",
    "oem = ';'.join(sorted(list(set(list_text)), key=list_text.index))\n",
    "\n",
    "oem"
   ]
  },
  {
   "cell_type": "code",
   "execution_count": null,
   "id": "539386a1-2e9a-4bf4-8061-22e4732d38a5",
   "metadata": {},
   "outputs": [],
   "source": [
    "import json\n",
    "\n",
    "df_temp = pd.DataFrame([{'No': input_.loc[a, 'No'],\n",
    "                         'Type': type_,\n",
    "                         'Part Number': part_number,\n",
    "                         'Brand': brand,\n",
    "                         'Description': description,\n",
    "                         'Application Summary': application_summary,\n",
    "                         'OEM': oem,\n",
    "                         'Picture': '',\n",
    "                         'Url': request_url,\n",
    "                         'Json_Src': json.dumps(dict_src),\n",
    "                         'Vehicle Url': vehicle_url,\n",
    "                         'Json_Specification': json.dumps(dict_specification)}])\n",
    "\n",
    "output_correct = pd.concat([output_correct, df_temp], ignore_index=True).fillna('')\n",
    "\n",
    "output_correct"
   ]
  },
  {
   "cell_type": "code",
   "execution_count": null,
   "id": "fc4ed7f6-ed4f-431c-b944-b1690309cdae",
   "metadata": {},
   "outputs": [],
   "source": [
    "crawler_status = 'ok'\n",
    "\n",
    "crawler_status"
   ]
  },
  {
   "cell_type": "code",
   "execution_count": null,
   "id": "65c745d1-446e-46c5-9dec-819c9f7944d3",
   "metadata": {},
   "outputs": [],
   "source": [
    "if crawler_status == 'error':\n",
    "    df_temp = pd.DataFrame([input_.iloc[a]]).reset_index(drop=True)\n",
    "    df_temp.loc[0, 'Request_Url'] = request_url\n",
    "    \n",
    "    output_error = pd.concat([output_error, df_temp], ignore_index=True).fillna('')\n",
    "\n",
    "output_error"
   ]
  },
  {
   "cell_type": "code",
   "execution_count": null,
   "id": "7fd477de",
   "metadata": {},
   "outputs": [],
   "source": [
    "if not output_correct.empty:\n",
    "    output_correct = output_correct.sort_values(by=['Type', 'Part Number'],\n",
    "                                                ascending=[True, True],\n",
    "                                                ignore_index=True)\n",
    "    output_correct['No'] = [i+1 for i in range(len(output_correct))]\n",
    "\n",
    "    output_correct.to_excel('./test_part.xlsx', index=False)\n",
    "\n",
    "output_correct"
   ]
  },
  {
   "cell_type": "code",
   "execution_count": null,
   "id": "39a5441b-7f69-4812-aad8-7e10a1a24e78",
   "metadata": {},
   "outputs": [],
   "source": [
    "if not output_error.empty:\n",
    "    output_error = output_error.sort_values(by=['No'],\n",
    "                                            ascending=[True],\n",
    "                                            ignore_index=True)\n",
    "    output_error.to_excel('./test_part_error.xlsx', index=False)\n",
    "\n",
    "output_error"
   ]
  },
  {
   "cell_type": "code",
   "execution_count": null,
   "id": "ba5d9f77-7464-4ad5-a42b-1fa0c0505832",
   "metadata": {},
   "outputs": [],
   "source": []
  }
 ],
 "metadata": {
  "kernelspec": {
   "display_name": "Python 3 (ipykernel)",
   "language": "python",
   "name": "python3"
  },
  "language_info": {
   "codemirror_mode": {
    "name": "ipython",
    "version": 3
   },
   "file_extension": ".py",
   "mimetype": "text/x-python",
   "name": "python",
   "nbconvert_exporter": "python",
   "pygments_lexer": "ipython3",
   "version": "3.11.3"
  }
 },
 "nbformat": 4,
 "nbformat_minor": 5
}
