{
 "cells": [
  {
   "cell_type": "code",
   "execution_count": 1,
   "id": "14ca4672",
   "metadata": {},
   "outputs": [],
   "source": [
    "import os"
   ]
  },
  {
   "cell_type": "code",
   "execution_count": 2,
   "id": "a3369d1a",
   "metadata": {},
   "outputs": [
    {
     "data": {
      "text/plain": [
       "32"
      ]
     },
     "execution_count": 2,
     "metadata": {},
     "output_type": "execute_result"
    }
   ],
   "source": [
    "list_file = list(os.walk('./menu'))[0][2]\n",
    "if '.DS_Store' in list_file:\n",
    "   list_file.remove('.DS_Store')\n",
    "\n",
    "len(list_file)"
   ]
  },
  {
   "cell_type": "code",
   "execution_count": 3,
   "id": "552c5c8c",
   "metadata": {},
   "outputs": [],
   "source": [
    "import pandas as pd"
   ]
  },
  {
   "cell_type": "code",
   "execution_count": 4,
   "id": "19a50da8",
   "metadata": {},
   "outputs": [
    {
     "data": {
      "text/html": [
       "<div>\n",
       "<style scoped>\n",
       "    .dataframe tbody tr th:only-of-type {\n",
       "        vertical-align: middle;\n",
       "    }\n",
       "\n",
       "    .dataframe tbody tr th {\n",
       "        vertical-align: top;\n",
       "    }\n",
       "\n",
       "    .dataframe thead th {\n",
       "        text-align: right;\n",
       "    }\n",
       "</style>\n",
       "<table border=\"1\" class=\"dataframe\">\n",
       "  <thead>\n",
       "    <tr style=\"text-align: right;\">\n",
       "      <th></th>\n",
       "      <th>Url</th>\n",
       "    </tr>\n",
       "  </thead>\n",
       "  <tbody>\n",
       "  </tbody>\n",
       "</table>\n",
       "</div>"
      ],
      "text/plain": [
       "Empty DataFrame\n",
       "Columns: [Url]\n",
       "Index: []"
      ]
     },
     "execution_count": 4,
     "metadata": {},
     "output_type": "execute_result"
    }
   ],
   "source": [
    "df = pd.DataFrame(columns=['Url'])\n",
    "\n",
    "df"
   ]
  },
  {
   "cell_type": "code",
   "execution_count": 5,
   "id": "000d53d7",
   "metadata": {},
   "outputs": [],
   "source": [
    "import json"
   ]
  },
  {
   "cell_type": "code",
   "execution_count": 6,
   "id": "1d3df716",
   "metadata": {},
   "outputs": [
    {
     "name": "stdout",
     "output_type": "stream",
     "text": [
      "www.carid.com_vdo_air-conditioning-heating-parts__filter=1&page=7&sorter=price-high-to-low#prod-list.txt\n",
      "www.carid.com_vdo_air-conditioning-heating-parts__filter=1&page=28&sorter=price-high-to-low#prod-list.txt\n",
      "www.carid.com_vdo_air-conditioning-heating-parts__filter=1&page=4&sorter=price-high-to-low#prod-list.txt\n",
      "www.carid.com_vdo_air-conditioning-heating-parts__filter=1&page=2&sorter=price-high-to-low#prod-list.txt\n",
      "www.carid.com_vdo_air-conditioning-heating-parts__filter=1&page=18&sorter=price-high-to-low#prod-list.txt\n",
      "www.carid.com_vdo_air-conditioning-heating-parts__filter=1&sorter=price-high-to-low#prod-list.txt\n",
      "www.carid.com_vdo_air-conditioning-heating-parts__filter=1&page=17&sorter=price-high-to-low#prod-list.txt\n",
      "www.carid.com_vdo_air-conditioning-heating-parts__filter=1&page=31&sorter=price-high-to-low#prod-list.txt\n",
      "www.carid.com_vdo_air-conditioning-heating-parts__filter=1&page=22&sorter=price-high-to-low#prod-list.txt\n",
      "www.carid.com_vdo_air-conditioning-heating-parts__filter=1&page=32&sorter=price-high-to-low#prod-list.txt\n",
      "www.carid.com_vdo_air-conditioning-heating-parts__filter=1&page=21&sorter=price-high-to-low#prod-list.txt\n",
      "www.carid.com_vdo_air-conditioning-heating-parts__filter=1&page=14&sorter=price-high-to-low#prod-list.txt\n",
      "www.carid.com_vdo_air-conditioning-heating-parts__filter=1&page=27&sorter=price-high-to-low#prod-list.txt\n",
      "www.carid.com_vdo_air-conditioning-heating-parts__filter=1&page=12&sorter=price-high-to-low#prod-list.txt\n",
      "www.carid.com_vdo_air-conditioning-heating-parts__filter=1&page=8&sorter=price-high-to-low#prod-list.txt\n",
      "www.carid.com_vdo_air-conditioning-heating-parts__filter=1&page=11&sorter=price-high-to-low#prod-list.txt\n",
      "www.carid.com_vdo_air-conditioning-heating-parts__filter=1&page=24&sorter=price-high-to-low#prod-list.txt\n",
      "www.carid.com_vdo_air-conditioning-heating-parts__filter=1&page=10&sorter=price-high-to-low#prod-list.txt\n",
      "www.carid.com_vdo_air-conditioning-heating-parts__filter=1&page=9&sorter=price-high-to-low#prod-list.txt\n",
      "www.carid.com_vdo_air-conditioning-heating-parts__filter=1&page=25&sorter=price-high-to-low#prod-list.txt\n",
      "www.carid.com_vdo_air-conditioning-heating-parts__filter=1&page=26&sorter=price-high-to-low#prod-list.txt\n",
      "www.carid.com_vdo_air-conditioning-heating-parts__filter=1&page=13&sorter=price-high-to-low#prod-list.txt\n",
      "www.carid.com_vdo_air-conditioning-heating-parts__filter=1&page=20&sorter=price-high-to-low#prod-list.txt\n",
      "www.carid.com_vdo_air-conditioning-heating-parts__filter=1&page=15&sorter=price-high-to-low#prod-list.txt\n",
      "www.carid.com_vdo_air-conditioning-heating-parts__filter=1&page=16&sorter=price-high-to-low#prod-list.txt\n",
      "www.carid.com_vdo_air-conditioning-heating-parts__filter=1&page=23&sorter=price-high-to-low#prod-list.txt\n",
      "www.carid.com_vdo_air-conditioning-heating-parts__filter=1&page=30&sorter=price-high-to-low#prod-list.txt\n",
      "www.carid.com_vdo_air-conditioning-heating-parts__filter=1&page=19&sorter=price-high-to-low#prod-list.txt\n",
      "www.carid.com_vdo_air-conditioning-heating-parts__filter=1&page=3&sorter=price-high-to-low#prod-list.txt\n",
      "www.carid.com_vdo_air-conditioning-heating-parts__filter=1&page=29&sorter=price-high-to-low#prod-list.txt\n",
      "www.carid.com_vdo_air-conditioning-heating-parts__filter=1&page=5&sorter=price-high-to-low#prod-list.txt\n",
      "www.carid.com_vdo_air-conditioning-heating-parts__filter=1&page=6&sorter=price-high-to-low#prod-list.txt\n"
     ]
    }
   ],
   "source": [
    "for file in list_file:\n",
    "    print(file)\n",
    "    with open('./menu/' + file) as f:\n",
    "        list_part = f.read()[1:-1].split('},{')\n",
    "        for i in range(len(list_part)):\n",
    "            if i == 0:\n",
    "                part = json.loads(list_part[i] + '}')\n",
    "            elif i == len(list_part) - 1:\n",
    "                part = json.loads('{' + list_part[i])\n",
    "            else:\n",
    "                part = json.loads('{' + list_part[i] + '}')\n",
    "                \n",
    "            df_temp = pd.DataFrame([{'Url': part['Url']}])\n",
    "            df = pd.concat([df, df_temp], ignore_index=True)"
   ]
  },
  {
   "cell_type": "code",
   "execution_count": 7,
   "id": "e7c8e52b",
   "metadata": {},
   "outputs": [
    {
     "data": {
      "text/html": [
       "<div>\n",
       "<style scoped>\n",
       "    .dataframe tbody tr th:only-of-type {\n",
       "        vertical-align: middle;\n",
       "    }\n",
       "\n",
       "    .dataframe tbody tr th {\n",
       "        vertical-align: top;\n",
       "    }\n",
       "\n",
       "    .dataframe thead th {\n",
       "        text-align: right;\n",
       "    }\n",
       "</style>\n",
       "<table border=\"1\" class=\"dataframe\">\n",
       "  <thead>\n",
       "    <tr style=\"text-align: right;\">\n",
       "      <th></th>\n",
       "      <th>Url</th>\n",
       "    </tr>\n",
       "  </thead>\n",
       "  <tbody>\n",
       "    <tr>\n",
       "      <th>0</th>\n",
       "      <td>https://www.carid.com/vdo/hvac-blower-motor-mp...</td>\n",
       "    </tr>\n",
       "    <tr>\n",
       "      <th>1</th>\n",
       "      <td>https://www.carid.com/vdo/a-c-condenser-fan-as...</td>\n",
       "    </tr>\n",
       "    <tr>\n",
       "      <th>2</th>\n",
       "      <td>https://www.carid.com/vdo/a-c-condenser-fan-as...</td>\n",
       "    </tr>\n",
       "    <tr>\n",
       "      <th>3</th>\n",
       "      <td>https://www.carid.com/vdo/hvac-blower-motor-mp...</td>\n",
       "    </tr>\n",
       "    <tr>\n",
       "      <th>4</th>\n",
       "      <td>https://www.carid.com/vdo/hvac-blower-motor-mp...</td>\n",
       "    </tr>\n",
       "    <tr>\n",
       "      <th>...</th>\n",
       "      <td>...</td>\n",
       "    </tr>\n",
       "    <tr>\n",
       "      <th>1033</th>\n",
       "      <td>https://www.carid.com/ngk/laser-iridium-spark-...</td>\n",
       "    </tr>\n",
       "    <tr>\n",
       "      <th>1034</th>\n",
       "      <td>https://www.carid.com/ngk/laser-iridium-spark-...</td>\n",
       "    </tr>\n",
       "    <tr>\n",
       "      <th>1035</th>\n",
       "      <td>https://www.carid.com/ngk/laser-iridium-spark-...</td>\n",
       "    </tr>\n",
       "    <tr>\n",
       "      <th>1036</th>\n",
       "      <td>https://www.carid.com/ngk/laser-iridium-spark-...</td>\n",
       "    </tr>\n",
       "    <tr>\n",
       "      <th>1037</th>\n",
       "      <td>https://www.carid.com/ngk/laser-iridium-spark-...</td>\n",
       "    </tr>\n",
       "  </tbody>\n",
       "</table>\n",
       "<p>1038 rows × 1 columns</p>\n",
       "</div>"
      ],
      "text/plain": [
       "                                                    Url\n",
       "0     https://www.carid.com/vdo/hvac-blower-motor-mp...\n",
       "1     https://www.carid.com/vdo/a-c-condenser-fan-as...\n",
       "2     https://www.carid.com/vdo/a-c-condenser-fan-as...\n",
       "3     https://www.carid.com/vdo/hvac-blower-motor-mp...\n",
       "4     https://www.carid.com/vdo/hvac-blower-motor-mp...\n",
       "...                                                 ...\n",
       "1033  https://www.carid.com/ngk/laser-iridium-spark-...\n",
       "1034  https://www.carid.com/ngk/laser-iridium-spark-...\n",
       "1035  https://www.carid.com/ngk/laser-iridium-spark-...\n",
       "1036  https://www.carid.com/ngk/laser-iridium-spark-...\n",
       "1037  https://www.carid.com/ngk/laser-iridium-spark-...\n",
       "\n",
       "[1038 rows x 1 columns]"
      ]
     },
     "execution_count": 7,
     "metadata": {},
     "output_type": "execute_result"
    }
   ],
   "source": [
    "df.to_excel('./menu.xlsx', index=False)\n",
    "\n",
    "df"
   ]
  },
  {
   "cell_type": "code",
   "execution_count": null,
   "id": "f1b946e9",
   "metadata": {},
   "outputs": [],
   "source": []
  }
 ],
 "metadata": {
  "kernelspec": {
   "display_name": "Python 3 (ipykernel)",
   "language": "python",
   "name": "python3"
  },
  "language_info": {
   "codemirror_mode": {
    "name": "ipython",
    "version": 3
   },
   "file_extension": ".py",
   "mimetype": "text/x-python",
   "name": "python",
   "nbconvert_exporter": "python",
   "pygments_lexer": "ipython3",
   "version": "3.11.3"
  }
 },
 "nbformat": 4,
 "nbformat_minor": 5
}
