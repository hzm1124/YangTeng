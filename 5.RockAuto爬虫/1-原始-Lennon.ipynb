{
 "cells": [
  {
   "cell_type": "markdown",
   "id": "c0551d44",
   "metadata": {},
   "source": [
    "- Update: 2023.04.11\n",
    "\n",
    "# 0. 配置参数\n",
    "\n",
    "- `rockauto`：ROCKAUTO.COM\n",
    "- `manufacturer`：Manufacturer\n",
    "- `part_type`：Part Type\n",
    "- `serial`：可能是Rockauto的内部编号？"
   ]
  },
  {
   "cell_type": "code",
   "execution_count": 1,
   "id": "4a9abfc9",
   "metadata": {},
   "outputs": [],
   "source": [
    "rockauto = 'https://www.rockauto.com/en/parts/'\n",
    "\n",
    "manufacturer = 'dorman'\n",
    "part_type = 'parking+brake+cable'\n",
    "serial = '1696'\n",
    "\n",
    "chromedriver = '../../chromedriver.exe'"
   ]
  },
  {
   "cell_type": "code",
   "execution_count": 2,
   "id": "f086b1e8",
   "metadata": {},
   "outputs": [],
   "source": [
    "from selenium.webdriver import ChromeOptions, Chrome\n",
    "from selenium.webdriver.chrome.service import Service\n",
    "import time"
   ]
  },
  {
   "cell_type": "code",
   "execution_count": 3,
   "id": "c892ec7d",
   "metadata": {},
   "outputs": [],
   "source": [
    "chrome_options = ChromeOptions()\n",
    "chrome_options.add_experimental_option('excludeSwitches', ['enable-automation']) # Chrome正受到自动测试软件的控制\n",
    "chrome_options.add_argument('--disable-blink-features=AutomationControlled') # window.navigator.webdriver=false\n",
    "# chrome_options.add_argument('--headless')\n",
    "chrome_options.add_argument('--no-sandbox')\n",
    "chrome_options.add_argument('--disable-gpu')\n",
    "chrome_options.add_argument('--disable-dev-shm-usage')\n",
    "chrome_options.add_argument('user-agent=Mozilla/5.0 (Windows NT 10.0; Win64; x64) AppleWebKit/537.36 (KHTML, like Gecko) Chrome/111.0.0.0 Safari/537.36')\n",
    "# chrome_options.add_argument('--proxy-server=http://a002.kdltps.com:15818')\n",
    "# chrome_options.add_argument('blink-settings=imagesEnabled=false')\n",
    "\n",
    "driver = Chrome(service=Service(chromedriver), options=chrome_options)\n",
    "time.sleep(0.3)\n",
    "driver.get(rockauto + manufacturer + ',' + part_type + ',' + serial)"
   ]
  },
  {
   "cell_type": "code",
   "execution_count": 4,
   "id": "1cc6c7c2",
   "metadata": {},
   "outputs": [],
   "source": [
    "from selenium.webdriver.common.by import By\n",
    "import pandas as pd"
   ]
  },
  {
   "cell_type": "code",
   "execution_count": 5,
   "id": "312c9e6a",
   "metadata": {},
   "outputs": [
    {
     "name": "stdout",
     "output_type": "stream",
     "text": [
      "总数量：2178\n",
      "\n"
     ]
    }
   ],
   "source": [
    "list_part_number = [i.text for i in driver.find_elements(By.XPATH, '//*[@class=\"ranavnode\"]')[1:]]\n",
    "pd.DataFrame({'Part Number': list_part_number}).to_excel('./menu-' + manufacturer + '_' + part_type + '_' + serial + '.xlsx', index=False)\n",
    "print('总数量：' + str(len(list_part_number)))\n",
    "print()"
   ]
  },
  {
   "cell_type": "markdown",
   "id": "5c800c43",
   "metadata": {},
   "source": [
    "# 1. 爬取"
   ]
  },
  {
   "cell_type": "code",
   "execution_count": null,
   "id": "2492d14a",
   "metadata": {},
   "outputs": [],
   "source": [
    "list_part_number = pd.read_excel('./menu-' + manufacturer + '_' + part_type + '_' + serial + '.xlsx')['Part Number'].to_list()\n",
    "\n",
    "list_part_number"
   ]
  },
  {
   "cell_type": "code",
   "execution_count": null,
   "id": "ca673bab",
   "metadata": {},
   "outputs": [],
   "source": [
    "df = pd.DataFrame(columns=['Part Number',\n",
    "                           '标题',\n",
    "                           '图片',\n",
    "                           'OEM Number',\n",
    "                           'Alternate Inventory Number',\n",
    "                           '车型',\n",
    "                           '链接',\n",
    "                           '图片链接',\n",
    "                           '配件-序号',\n",
    "                           '配件-标题',\n",
    "                           '配件-图片',\n",
    "                           '配件-链接',\n",
    "                           '配件-品类',\n",
    "                           '配件-数量',\n",
    "                           '配件-OEM Number',\n",
    "                           '配件-Alternate Inventory Number',\n",
    "                           '配件-图片链接'])"
   ]
  },
  {
   "cell_type": "code",
   "execution_count": null,
   "id": "7bb11a17",
   "metadata": {},
   "outputs": [],
   "source": [
    "i = 0\n",
    "url = rockauto + manufacturer + ',' + list_part_number[i] + ',' + part_type + ',' + serial\n",
    "driver.get(url)\n",
    "time.sleep(0.3)"
   ]
  },
  {
   "cell_type": "code",
   "execution_count": null,
   "id": "da7b6108",
   "metadata": {},
   "outputs": [],
   "source": [
    "from selenium.webdriver.support.wait import WebDriverWait\n",
    "from selenium.webdriver.support import expected_conditions as EC"
   ]
  },
  {
   "cell_type": "code",
   "execution_count": null,
   "id": "f49ce22b",
   "metadata": {},
   "outputs": [],
   "source": [
    "WebDriverWait(driver, 60, 0.5, None).until(EC.presence_of_element_located((By.XPATH, '//*[@title=\"Buyer\\'s Guide\"]')))\n",
    "buyers_guide = driver.find_element(By.XPATH, '//*[@title=\"Buyer\\'s Guide\"]')\n",
    "buyers_guide.click()\n",
    "\n",
    "WebDriverWait(driver, 60, 0.5, None).until(EC.presence_of_element_located((By.XPATH, '//*[@class=\"buyersguide-nested\"]')))\n",
    "buyers_guide = driver.find_element(By.XPATH, '//*[@class=\"buyersguide-nested\"]').text.replace('\\nPlease refer to catalog for application details.', '')\n",
    "\n",
    "print(buyers_guide)"
   ]
  },
  {
   "cell_type": "code",
   "execution_count": null,
   "id": "b167eb56",
   "metadata": {},
   "outputs": [],
   "source": [
    "info = driver.find_element(By.XPATH, '//*[@class=\"ra-btn ra-btn-moreinfo\"]').get_attribute('href')\n",
    "driver.get(info)"
   ]
  },
  {
   "cell_type": "code",
   "execution_count": null,
   "id": "0d6cbfca",
   "metadata": {},
   "outputs": [],
   "source": [
    "WebDriverWait(driver, 60, 0.5, None).until(EC.presence_of_element_located((By.XPATH, '//*[@class=\"listing-text-row-moreinfo-truck\"]')))\n",
    "title = driver.find_element(By.XPATH, '//*[@class=\"listing-text-row-moreinfo-truck\"]').text\n",
    "\n",
    "title"
   ]
  },
  {
   "cell_type": "code",
   "execution_count": null,
   "id": "6eac72ed",
   "metadata": {},
   "outputs": [],
   "source": [
    "dict_alternate = {'alternate_inventory_number': '', 'oem_number': ''}\n",
    "WebDriverWait(driver, 60, 0.5, None).until(EC.presence_of_element_located((By.XPATH, '//*[@aria-label=\"Alternate/OEM Part Number(s)\"]')))\n",
    "list_alternate = [j.text for j in driver.find_elements(By.XPATH, '//*[@aria-label=\"Alternate/OEM Part Number(s)\"]')]\n",
    "for j in range(len(list_alternate)):\n",
    "    if '{Alternate Inventory Numbers: ' in list_alternate[j]:\n",
    "        dict_alternate['alternate_inventory_number'] = list_alternate[j].replace('{Alternate Inventory Numbers: ', '').replace('}', '').replace(', ', ';')\n",
    "    elif 'OEM / Interchange Numbers: ' in list_alternate[j]:\n",
    "        dict_alternate['oem_number'] = list_alternate[j].replace('OEM / Interchange Numbers: ', '').replace(', ', ';')\n",
    "\n",
    "dict_alternate"
   ]
  },
  {
   "cell_type": "code",
   "execution_count": null,
   "id": "61bc8c63",
   "metadata": {},
   "outputs": [],
   "source": [
    "WebDriverWait(driver, 60, 0.5, None).until(EC.presence_of_element_located((By.XPATH, '//*[@class=\"listing-inline-image listing-inline-image-moreinfo\"]')))\n",
    "pic = driver.find_element(By.XPATH, '//*[@class=\"listing-inline-image listing-inline-image-moreinfo\"]').get_attribute('src')\n",
    "\n",
    "pic"
   ]
  },
  {
   "cell_type": "code",
   "execution_count": null,
   "id": "1271b71e",
   "metadata": {},
   "outputs": [],
   "source": [
    "df_temp = pd.DataFrame({'Part Number': [list_part_number[i]],\n",
    "                        '标题': [title],\n",
    "                        '图片': [''],\n",
    "                        'OEM Number': [dict_alternate['oem_number']],\n",
    "                        'Alternate Inventory Number': [dict_alternate['alternate_inventory_number']],\n",
    "                        '车型': [buyers_guide],\n",
    "                        '链接': [url],\n",
    "                        '图片链接': [pic],\n",
    "                        '配件-序号': [''],\n",
    "                        '配件-标题': [''],\n",
    "                        '配件-图片': [''],\n",
    "                        '配件-链接': [''],\n",
    "                        '配件-品类': [''],\n",
    "                        '配件-数量': [''],\n",
    "                        '配件-OEM Number': [''],\n",
    "                        '配件-Alternate Inventory Number': [''],\n",
    "                        '配件-图片链接': ['']})\n",
    "\n",
    "df_temp"
   ]
  },
  {
   "cell_type": "code",
   "execution_count": null,
   "id": "c1af8e57",
   "metadata": {},
   "outputs": [],
   "source": [
    "list_component = driver.find_elements(By.XPATH, '//*[@aria-label=\"Components that come in this kit\"]/table/tbody/tr/td/table/tbody')[1:]\n",
    "if len(list_component) > 0:\n",
    "    list_dict_component = []\n",
    "    for j in range(len(list_component)):\n",
    "        list_dict_component.append({'no': str(j+1),\n",
    "                                    'title': list_component[j].find_element(By.XPATH, './tr/td[3]').text.replace(' Info', ''),\n",
    "                                    'url': list_component[j].find_element(By.XPATH, './tr/td[3]/div[1]/a').get_attribute('href'),\n",
    "                                    'category': list_component[j].find_element(By.XPATH, './tr/td[2]').text,\n",
    "                                    'quantity': list_component[j].find_element(By.XPATH, './tr/td[1]').text,\n",
    "                                    'oem_number': '',\n",
    "                                    'alternate_inventory_number': '',\n",
    "                                    'pic': ''})\n",
    "    \n",
    "    # = = = = = = = = = = = = = = = = = =\n",
    "    \n",
    "    for j in range(len(list_dict_component)):\n",
    "        driver.get(list_dict_component[j]['url'])\n",
    "        WebDriverWait(driver, 60, 0.5, None).until(EC.presence_of_element_located((By.XPATH, '//*[@aria-label=\"Alternate/OEM Part Number(s)\"]')))\n",
    "        list_alternate = [k.text for k in driver.find_elements(By.XPATH, '//*[@aria-label=\"Alternate/OEM Part Number(s)\"]')]\n",
    "        for k in range(len(list_alternate)):\n",
    "            if '{Alternate Inventory Numbers: ' in list_alternate[k]:\n",
    "                list_dict_component[j]['alternate_inventory_number'] = list_alternate[k].replace('{Alternate Inventory Numbers: ', '').replace('}', '').replace(', ', ';')\n",
    "            elif 'OEM / Interchange Numbers: ' in list_alternate[k]:\n",
    "                list_dict_component[j]['oem_number'] = list_alternate[k].replace('OEM / Interchange Numbers: ', '').replace(', ', ';')\n",
    "\n",
    "        WebDriverWait(driver, 60, 0.5, None).until(EC.presence_of_element_located((By.XPATH, '//*[@class=\"listing-inline-image listing-inline-image-moreinfo\"]')))\n",
    "        list_dict_component[j]['pic'] = driver.find_element(By.XPATH, '//*[@class=\"listing-inline-image listing-inline-image-moreinfo\"]').get_attribute('src')\n",
    "\n",
    "    # = = = = = = = = = = = = = = = = = =\n",
    "    \n",
    "    for j in range(len(list_dict_component)):\n",
    "        df_temp.loc[j, '配件-序号'] = list_dict_component[j]['no']\n",
    "        df_temp.loc[j, '配件-标题'] = list_dict_component[j]['title']\n",
    "        df_temp.loc[j, '配件-链接'] = list_dict_component[j]['url']\n",
    "        df_temp.loc[j, '配件-品类'] = list_dict_component[j]['category']\n",
    "        df_temp.loc[j, '配件-数量'] = list_dict_component[j]['quantity']\n",
    "        df_temp.loc[j, '配件-OEM Number'] = list_dict_component[j]['oem_number']\n",
    "        df_temp.loc[j, '配件-Alternate Inventory Number'] = list_dict_component[j]['alternate_inventory_number']\n",
    "        df_temp.loc[j, '配件-图片链接'] = list_dict_component[j]['pic']\n",
    "        \n",
    "df_temp"
   ]
  },
  {
   "cell_type": "code",
   "execution_count": null,
   "id": "b3a2290d",
   "metadata": {},
   "outputs": [],
   "source": [
    "df = pd.concat([df, df_temp], ignore_index=True).fillna('')\n",
    "\n",
    "driver.close()\n",
    "\n",
    "df"
   ]
  },
  {
   "cell_type": "code",
   "execution_count": null,
   "id": "52f49bea",
   "metadata": {},
   "outputs": [],
   "source": []
  }
 ],
 "metadata": {
  "kernelspec": {
   "display_name": "Python 3 (ipykernel)",
   "language": "python",
   "name": "python3"
  },
  "language_info": {
   "codemirror_mode": {
    "name": "ipython",
    "version": 3
   },
   "file_extension": ".py",
   "mimetype": "text/x-python",
   "name": "python",
   "nbconvert_exporter": "python",
   "pygments_lexer": "ipython3",
   "version": "3.9.12"
  }
 },
 "nbformat": 4,
 "nbformat_minor": 5
}
