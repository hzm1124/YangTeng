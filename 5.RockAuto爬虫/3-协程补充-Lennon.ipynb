{
 "cells": [
  {
   "cell_type": "code",
   "execution_count": 1,
   "id": "f20cb324",
   "metadata": {},
   "outputs": [],
   "source": [
    "import pandas as pd"
   ]
  },
  {
   "cell_type": "code",
   "execution_count": 2,
   "id": "948f96f6",
   "metadata": {},
   "outputs": [],
   "source": [
    "df_menu = pd.read_excel(menu, header=0)\n",
    "\n",
    "df_menu"
   ]
  },
  {
   "cell_type": "code",
   "execution_count": 3,
   "id": "59f2123e",
   "metadata": {},
   "outputs": [
    {
     "data": {
      "text/plain": [
       "['1-原始-Lennon.ipynb',\n",
       " '2-协程-Lennon.ipynb',\n",
       " '3-协程补充-Lennon.ipynb',\n",
       " 'crawler-0.xlsx',\n",
       " 'crawler-1.xlsx',\n",
       " 'menu-dorman_parking+brake+cable_1696.xlsx']"
      ]
     },
     "execution_count": 3,
     "metadata": {},
     "output_type": "execute_result"
    }
   ],
   "source": [
    "df_crawler = pd.read_excel(crawler, header=0)\n",
    "\n",
    "df_crawler"
   ]
  },
  {
   "cell_type": "code",
   "execution_count": null,
   "id": "96f79ea7",
   "metadata": {},
   "outputs": [],
   "source": [
    "df = pd.merge(left=df_menu, right=df_crawler, how='left', left_on='Product', right_on='链接').fillna('')\n",
    "df.to_excel('./content_temp.xlsx', index=False)\n",
    "df = df.drop_duplicates(ignore_index=True)\n",
    "df.to_excel('./content.xlsx', index=False)\n",
    "\n",
    "df"
   ]
  },
  {
   "cell_type": "code",
   "execution_count": null,
   "id": "bc15c0cf",
   "metadata": {},
   "outputs": [],
   "source": []
  }
 ],
 "metadata": {
  "kernelspec": {
   "display_name": "Python 3 (ipykernel)",
   "language": "python",
   "name": "python3"
  },
  "language_info": {
   "codemirror_mode": {
    "name": "ipython",
    "version": 3
   },
   "file_extension": ".py",
   "mimetype": "text/x-python",
   "name": "python",
   "nbconvert_exporter": "python",
   "pygments_lexer": "ipython3",
   "version": "3.9.12"
  }
 },
 "nbformat": 4,
 "nbformat_minor": 5
}
