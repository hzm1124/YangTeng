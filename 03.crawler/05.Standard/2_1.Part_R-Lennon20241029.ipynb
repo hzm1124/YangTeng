{
 "cells": [
  {
   "cell_type": "code",
   "execution_count": 1,
   "id": "bc43eeb9-298f-4060-a29f-6cfeca9ef980",
   "metadata": {},
   "outputs": [],
   "source": [
    "import os\n",
    "\n",
    "# = = = = = = = = = = = = = = =\n",
    "\n",
    "import pandas as pd\n",
    "\n",
    "# = = = = = = = = = = = = = = =\n",
    "\n",
    "import requests\n",
    "\n",
    "import sys\n",
    "sys.path.append('../00.Tools')\n",
    "from crawler_configuration import get_header, get_proxy\n",
    "\n",
    "# = = = = = = = = = = = = = = =\n",
    "\n",
    "import json"
   ]
  },
  {
   "cell_type": "code",
   "execution_count": 2,
   "id": "1549e972-a339-4b58-be42-48542af8a6b2",
   "metadata": {},
   "outputs": [
    {
     "data": {
      "text/plain": [
       "'crawler_1.xlsx'"
      ]
     },
     "execution_count": 2,
     "metadata": {},
     "output_type": "execute_result"
    }
   ],
   "source": [
    "directory_in = './file/1.part_number'\n",
    "\n",
    "list_file = [file for file in sorted(os.listdir(directory_in)) if file not in ['.DS_Store'] and os.path.isfile(f'{directory_in}/{file}')]\n",
    "file = list_file[0]\n",
    "\n",
    "file"
   ]
  },
  {
   "cell_type": "code",
   "execution_count": 3,
   "id": "e54a1949-c728-4502-91a4-65957f9a0d43",
   "metadata": {},
   "outputs": [
    {
     "name": "stdout",
     "output_type": "stream",
     "text": [
      "总数量：116\n",
      "\n"
     ]
    },
    {
     "data": {
      "text/html": [
       "<div>\n",
       "<style scoped>\n",
       "    .dataframe tbody tr th:only-of-type {\n",
       "        vertical-align: middle;\n",
       "    }\n",
       "\n",
       "    .dataframe tbody tr th {\n",
       "        vertical-align: top;\n",
       "    }\n",
       "\n",
       "    .dataframe thead th {\n",
       "        text-align: right;\n",
       "    }\n",
       "</style>\n",
       "<table border=\"1\" class=\"dataframe\">\n",
       "  <thead>\n",
       "    <tr style=\"text-align: right;\">\n",
       "      <th></th>\n",
       "      <th>No</th>\n",
       "      <th>Part Number</th>\n",
       "      <th>Url</th>\n",
       "    </tr>\n",
       "  </thead>\n",
       "  <tbody>\n",
       "    <tr>\n",
       "      <th>0</th>\n",
       "      <td>1</td>\n",
       "      <td>CCR-3</td>\n",
       "      <td>https://www.standardbrand.com/en/ecatalog?part...</td>\n",
       "    </tr>\n",
       "    <tr>\n",
       "      <th>1</th>\n",
       "      <td>2</td>\n",
       "      <td>CCR-6</td>\n",
       "      <td>https://www.standardbrand.com/en/ecatalog?part...</td>\n",
       "    </tr>\n",
       "    <tr>\n",
       "      <th>2</th>\n",
       "      <td>3</td>\n",
       "      <td>CCR-7</td>\n",
       "      <td>https://www.standardbrand.com/en/ecatalog?part...</td>\n",
       "    </tr>\n",
       "    <tr>\n",
       "      <th>3</th>\n",
       "      <td>4</td>\n",
       "      <td>DS-2282</td>\n",
       "      <td>https://www.standardbrand.com/en/ecatalog?part...</td>\n",
       "    </tr>\n",
       "    <tr>\n",
       "      <th>4</th>\n",
       "      <td>5</td>\n",
       "      <td>LS-312</td>\n",
       "      <td>https://www.standardbrand.com/en/ecatalog?part...</td>\n",
       "    </tr>\n",
       "    <tr>\n",
       "      <th>...</th>\n",
       "      <td>...</td>\n",
       "      <td>...</td>\n",
       "      <td>...</td>\n",
       "    </tr>\n",
       "    <tr>\n",
       "      <th>111</th>\n",
       "      <td>112</td>\n",
       "      <td>SLS-219</td>\n",
       "      <td>https://www.standardbrand.com/en/ecatalog?part...</td>\n",
       "    </tr>\n",
       "    <tr>\n",
       "      <th>112</th>\n",
       "      <td>113</td>\n",
       "      <td>SLS-321</td>\n",
       "      <td>https://www.standardbrand.com/en/ecatalog?part...</td>\n",
       "    </tr>\n",
       "    <tr>\n",
       "      <th>113</th>\n",
       "      <td>114</td>\n",
       "      <td>SLS-349</td>\n",
       "      <td>https://www.standardbrand.com/en/ecatalog?part...</td>\n",
       "    </tr>\n",
       "    <tr>\n",
       "      <th>114</th>\n",
       "      <td>115</td>\n",
       "      <td>SLS-385</td>\n",
       "      <td>https://www.standardbrand.com/en/ecatalog?part...</td>\n",
       "    </tr>\n",
       "    <tr>\n",
       "      <th>115</th>\n",
       "      <td>116</td>\n",
       "      <td>SLS651</td>\n",
       "      <td>https://www.standardbrand.com/en/ecatalog?part...</td>\n",
       "    </tr>\n",
       "  </tbody>\n",
       "</table>\n",
       "<p>116 rows × 3 columns</p>\n",
       "</div>"
      ],
      "text/plain": [
       "      No Part Number                                                Url\n",
       "0      1       CCR-3  https://www.standardbrand.com/en/ecatalog?part...\n",
       "1      2       CCR-6  https://www.standardbrand.com/en/ecatalog?part...\n",
       "2      3       CCR-7  https://www.standardbrand.com/en/ecatalog?part...\n",
       "3      4     DS-2282  https://www.standardbrand.com/en/ecatalog?part...\n",
       "4      5      LS-312  https://www.standardbrand.com/en/ecatalog?part...\n",
       "..   ...         ...                                                ...\n",
       "111  112     SLS-219  https://www.standardbrand.com/en/ecatalog?part...\n",
       "112  113     SLS-321  https://www.standardbrand.com/en/ecatalog?part...\n",
       "113  114     SLS-349  https://www.standardbrand.com/en/ecatalog?part...\n",
       "114  115     SLS-385  https://www.standardbrand.com/en/ecatalog?part...\n",
       "115  116      SLS651  https://www.standardbrand.com/en/ecatalog?part...\n",
       "\n",
       "[116 rows x 3 columns]"
      ]
     },
     "execution_count": 3,
     "metadata": {},
     "output_type": "execute_result"
    }
   ],
   "source": [
    "list_dict_correct, list_series_error, df_input = [], [], pd.read_excel(f'{directory_in}/{file}',\n",
    "                                                                       header=0,\n",
    "                                                                       dtype=str).fillna('')\n",
    "\n",
    "df_input['No'] = df_input['No'].astype(int)\n",
    "\n",
    "count_remain = len(df_input)\n",
    "\n",
    "print(f'总数量：{count_remain}')\n",
    "print()\n",
    "df_input"
   ]
  },
  {
   "cell_type": "code",
   "execution_count": 4,
   "id": "42130183-3b93-4078-ae77-346b4df4e38c",
   "metadata": {},
   "outputs": [
    {
     "data": {
      "text/plain": [
       "(0,\n",
       " No                                                             1\n",
       " Part Number                                                CCR-3\n",
       " Url            https://www.standardbrand.com/en/ecatalog?part...\n",
       " Name: 0, dtype: object)"
      ]
     },
     "execution_count": 4,
     "metadata": {},
     "output_type": "execute_result"
    }
   ],
   "source": [
    "(crawler_index, crawler_series) = next(df_input.iterrows())\n",
    "\n",
    "crawler_index, crawler_series"
   ]
  },
  {
   "cell_type": "code",
   "execution_count": 5,
   "id": "d1573928-cf3f-4364-b75a-2fd32bac0395",
   "metadata": {
    "scrolled": true
   },
   "outputs": [
    {
     "name": "stdout",
     "output_type": "stream",
     "text": [
      "1\n"
     ]
    },
    {
     "data": {
      "text/plain": [
       "{'pd': {'rowId': 1,\n",
       "  'site': 'STD',\n",
       "  'webBase': 'CCR3',\n",
       "  'brand': 'STI',\n",
       "  'basePart': 'CCR-3',\n",
       "  'partDesc_en': 'Clutch Starter Safety / Cruise Release Switch',\n",
       "  'partLongDesc_en': 'Clutch Starter Safety / Cruise Release Switch',\n",
       "  'pop': 'F',\n",
       "  'partComment': None,\n",
       "  'qtyEach': 1,\n",
       "  'webColumn_Id': None,\n",
       "  'categoryName_en': None,\n",
       "  'vehicleId': None,\n",
       "  'mfg': None,\n",
       "  'mfG_Part': None,\n",
       "  'maxRows': 1,\n",
       "  'brandLink': None,\n",
       "  'imageUrl': None},\n",
       " 'pp': {'buyersGuides': [{'basePart': 'CCR-3',\n",
       "    'buyersGuideId': 29304,\n",
       "    'buyersGuideDesc': 'Kia Sephia (01-94)'},\n",
       "   {'basePart': 'CCR-3',\n",
       "    'buyersGuideId': 31841,\n",
       "    'buyersGuideDesc': 'Kia Spectra (04-00)'},\n",
       "   {'basePart': 'CCR-3',\n",
       "    'buyersGuideId': 30432,\n",
       "    'buyersGuideDesc': 'Kia Sportage (00-95)'}],\n",
       "  'partSpecs': [{'attributeCode': '110',\n",
       "    'attributeValue': 1905,\n",
       "    'attributeSort': 0,\n",
       "    'attributeName_en': 'Warranty',\n",
       "    'siteValue_en': '3 years/36,000 mile'},\n",
       "   {'attributeCode': '9',\n",
       "    'attributeValue': 4752,\n",
       "    'attributeSort': 240,\n",
       "    'attributeName_en': 'Connector Gender',\n",
       "    'siteValue_en': 'Female'},\n",
       "   {'attributeCode': '164',\n",
       "    'attributeValue': 1320,\n",
       "    'attributeSort': 250,\n",
       "    'attributeName_en': 'Terminal Quantity',\n",
       "    'siteValue_en': '2'},\n",
       "   {'attributeCode': '104',\n",
       "    'attributeValue': 5956,\n",
       "    'attributeSort': 260,\n",
       "    'attributeName_en': 'Terminal Gender',\n",
       "    'siteValue_en': 'Male'},\n",
       "   {'attributeCode': '105',\n",
       "    'attributeValue': 3983,\n",
       "    'attributeSort': 280,\n",
       "    'attributeName_en': 'Terminal Type',\n",
       "    'siteValue_en': 'Blade'}],\n",
       "  'imageUrls': [],\n",
       "  'relatedParts': [],\n",
       "  'relatedCategories': None,\n",
       "  'fandB': [{'basePart': 'CCR-3',\n",
       "    'fbId': '311956',\n",
       "    'fbDesc': 'For over 100 years, professional technicians have trusted Standard to replace the failed OE part. Standard manufacturers the highest-quality, best-performing parts for all import and domestic vehicles; gas, diesel, electric and hybrid. Precision manufacturing, multiple layers of testing, and a detailed validation process ensures Standard parts don’t just fit, they perform and they last.',\n",
       "    'taB_Type': 'F&B Heading',\n",
       "    'assetSort': 1,\n",
       "    'digiSort': 100},\n",
       "   {'basePart': 'CCR-3',\n",
       "    'fbId': '231472',\n",
       "    'fbDesc': 'Each Clutch Starter Safety / Cruise Release Switch is a direct-fit OE replacement that ensures ease of installation',\n",
       "    'taB_Type': 'F&B Details',\n",
       "    'assetSort': 8,\n",
       "    'digiSort': 200},\n",
       "   {'basePart': 'CCR-3',\n",
       "    'fbId': '231699',\n",
       "    'fbDesc': 'High-quality materials withstand extreme conditions',\n",
       "    'taB_Type': 'F&B Details',\n",
       "    'assetSort': 8,\n",
       "    'digiSort': 210},\n",
       "   {'basePart': 'CCR-3',\n",
       "    'fbId': '231720',\n",
       "    'fbDesc': 'Undergoes extensive testing to ensure reliability',\n",
       "    'taB_Type': 'F&B Details',\n",
       "    'assetSort': 8,\n",
       "    'digiSort': 220},\n",
       "   {'basePart': 'CCR-3',\n",
       "    'fbId': '231399',\n",
       "    'fbDesc': 'As a global manufacturer of automotive aftermarket products, we maintain complete quality control throughout the manufacturing process',\n",
       "    'taB_Type': 'F&B Details',\n",
       "    'assetSort': 8,\n",
       "    'digiSort': 230}],\n",
       "  'digiAssests': [{'asset_ID': 3,\n",
       "    'assetName': 'Bulletins',\n",
       "    'basePart': 'CCR-3',\n",
       "    'fileName': 'IM14137-IntermotorBro.pdf',\n",
       "    'fileURL': 'http://eaccess.smpcorp.com/eCatalogs/Downloads/EMD/IM14137-IntermotorBro.pdf',\n",
       "    'comment_ID': '260618',\n",
       "    'comment': 'Intermotor Brochure',\n",
       "    'assetSort': 3,\n",
       "    'digiSort': 0,\n",
       "    'videoImage': None},\n",
       "   {'asset_ID': 3,\n",
       "    'assetName': 'Bulletins',\n",
       "    'basePart': 'CCR-3',\n",
       "    'fileName': 'ST10235VWL-MAR13_JTF_veh_warn_light.pdf',\n",
       "    'fileURL': 'http://eaccess.smpcorp.com/eCatalogs/Downloads/EMD/ST10235VWL-MAR13_JTF_veh_warn_light.pdf',\n",
       "    'comment_ID': '260657',\n",
       "    'comment': 'Just the Facts: Vehicle Warning Lights',\n",
       "    'assetSort': 3,\n",
       "    'digiSort': 0,\n",
       "    'videoImage': None},\n",
       "   {'asset_ID': 3,\n",
       "    'assetName': 'Bulletins',\n",
       "    'basePart': 'CCR-3',\n",
       "    'fileName': 'ST11237-Standard_Interactive_Buyers_Guide-WEB.pdf',\n",
       "    'fileURL': 'http://eaccess.smpcorp.com/eCatalogs/Downloads/EMD/ST11237-Standard_Interactive_Buyers_Guide-WEB.pdf',\n",
       "    'comment_ID': '260664',\n",
       "    'comment': \"Standard Interactive Buyer's Guide\",\n",
       "    'assetSort': 3,\n",
       "    'digiSort': 0,\n",
       "    'videoImage': None},\n",
       "   {'asset_ID': 7,\n",
       "    'assetName': 'Videos',\n",
       "    'basePart': 'CCR-3',\n",
       "    'fileName': 'SMP Engineering Spotlight: Long Island City',\n",
       "    'fileURL': 'https://youtube.com/embed/vac2vas7vJY',\n",
       "    'comment_ID': '220958',\n",
       "    'comment': 'SMP Engineering Spotlight: Long Island City',\n",
       "    'assetSort': 7,\n",
       "    'digiSort': 80000,\n",
       "    'videoImage': None},\n",
       "   {'asset_ID': 7,\n",
       "    'assetName': 'Videos',\n",
       "    'basePart': 'CCR-3',\n",
       "    'fileName': 'WIYB: Engineering Spotlight: Long Island City',\n",
       "    'fileURL': 'https://youtube.com/embed/I-kWdiTPe08',\n",
       "    'comment_ID': '291618',\n",
       "    'comment': 'WIYB: Engineering Spotlight: Long Island City',\n",
       "    'assetSort': 7,\n",
       "    'digiSort': 80003,\n",
       "    'videoImage': None},\n",
       "   {'asset_ID': 7,\n",
       "    'assetName': 'Videos',\n",
       "    'basePart': 'CCR-3',\n",
       "    'fileName': 'SMP Engineering - Long Island City Facility Tour',\n",
       "    'fileURL': 'https://youtube.com/embed/ut5LYbUFCKo',\n",
       "    'comment_ID': '271219',\n",
       "    'comment': 'SMP Engineering - Long Island City Facility Tour',\n",
       "    'assetSort': 7,\n",
       "    'digiSort': 80350,\n",
       "    'videoImage': None},\n",
       "   {'asset_ID': 7,\n",
       "    'assetName': 'Videos',\n",
       "    'basePart': 'CCR-3',\n",
       "    'fileName': 'Standard Interactive Buyers Guide',\n",
       "    'fileURL': 'https://youtube.com/embed/mRzK11T9pxg',\n",
       "    'comment_ID': '251346',\n",
       "    'comment': 'Standard Interactive Buyers Guide',\n",
       "    'assetSort': 7,\n",
       "    'digiSort': 90030,\n",
       "    'videoImage': None},\n",
       "   {'asset_ID': 7,\n",
       "    'assetName': 'Videos',\n",
       "    'basePart': 'CCR-3',\n",
       "    'fileName': 'SMP Parts App Update (3.0.9)',\n",
       "    'fileURL': 'https://youtube.com/embed/KpEXmjcKbMc',\n",
       "    'comment_ID': '270593',\n",
       "    'comment': 'SMP Parts App Update (3.0.9)',\n",
       "    'assetSort': 7,\n",
       "    'digiSort': 90090,\n",
       "    'videoImage': None}],\n",
       "  'categories': [{'basePart': 'CCR-3',\n",
       "    'webLayout_ID': 39100,\n",
       "    'categoryName_en': 'Switch - Clutch Starter Safety',\n",
       "    'prodCategory_ASort': 26840},\n",
       "   {'basePart': 'CCR-3',\n",
       "    'webLayout_ID': 48150,\n",
       "    'categoryName_en': 'Switch - Cruise Control Release',\n",
       "    'prodCategory_ASort': 26910}],\n",
       "  'crossRef': None,\n",
       "  'completeRepair': {'serviceParts': [],\n",
       "   'serviceSpec': [{'serviceName': 'Fuel Filter Flush (Required)'},\n",
       "    {'serviceName': 'Oil Change (Required)'}]}}}"
      ]
     },
     "execution_count": 5,
     "metadata": {},
     "output_type": "execute_result"
    }
   ],
   "source": [
    "import time\n",
    "\n",
    "count_retry = 0\n",
    "while True:\n",
    "    count_retry += 1\n",
    "    print(count_retry)\n",
    "    try:\n",
    "        url_request, url_check = f'''https://ecatalog.smpcorp.com/V2/STD/api/part/partselect?part={crawler_series['Part Number']}&func=PART&vid=''', crawler_series['Url']\n",
    "\n",
    "        resp = requests.get(url_request,\n",
    "                            headers=get_header(),\n",
    "                            proxies=get_proxy(),\n",
    "                            timeout=(5, 15))\n",
    "\n",
    "        if resp.status_code == 200:\n",
    "            dict_dict = resp.json()\n",
    "\n",
    "            if dict_dict:\n",
    "                break\n",
    "    except KeyboardInterrupt:\n",
    "        break\n",
    "    except:\n",
    "        time.sleep(3)\n",
    "        continue\n",
    "\n",
    "dict_dict"
   ]
  },
  {
   "cell_type": "code",
   "execution_count": 6,
   "id": "3a93a165-4491-4f22-8170-2279aca0b89b",
   "metadata": {},
   "outputs": [
    {
     "data": {
      "text/plain": [
       "{'Brand': 'STI',\n",
       " 'Partdesc_En': 'Clutch Starter Safety / Cruise Release Switch',\n",
       " 'Partlongdesc_En': 'Clutch Starter Safety / Cruise Release Switch',\n",
       " 'Pop': 'F',\n",
       " 'Qtyeach': 1}"
      ]
     },
     "execution_count": 6,
     "metadata": {},
     "output_type": "execute_result"
    }
   ],
   "source": [
    "dict_info = {key.strip().title(): value.strip() if type(value) == str else value for key, value in dict_dict['pd'].items() if key not in ['rowId', 'site', 'webBase', 'basePart', 'maxRows'] and value != None}\n",
    "\n",
    "dict_info"
   ]
  },
  {
   "cell_type": "code",
   "execution_count": 7,
   "id": "fcb77bd0-3b92-4c61-b9e5-5411e14a22c8",
   "metadata": {},
   "outputs": [
    {
     "name": "stdout",
     "output_type": "stream",
     "text": [
      "Kia Sephia (01-94)\n",
      "Kia Spectra (04-00)\n",
      "Kia Sportage (00-95)\n"
     ]
    }
   ],
   "source": [
    "vehicle = '\\n'.join([dict_['buyersGuideDesc'].strip() for dict_ in dict_dict['pp']['buyersGuides']])\n",
    "\n",
    "print(vehicle)"
   ]
  },
  {
   "cell_type": "code",
   "execution_count": 8,
   "id": "448553e6-3807-4f7e-8715-d8235ad3c561",
   "metadata": {},
   "outputs": [
    {
     "data": {
      "text/plain": [
       "{'0': {'Warranty': '3 years/36,000 mile'},\n",
       " '1': {'Connector Gender': 'Female'},\n",
       " '2': {'Terminal Quantity': '2'},\n",
       " '3': {'Terminal Gender': 'Male'},\n",
       " '4': {'Terminal Type': 'Blade'}}"
      ]
     },
     "execution_count": 8,
     "metadata": {},
     "output_type": "execute_result"
    }
   ],
   "source": [
    "list_dict, dict_count = dict_dict['pp']['partSpecs'], {}\n",
    "for dict_ in list_dict:\n",
    "    key = dict_['attributeName_en'].strip()\n",
    "    if key in dict_count:\n",
    "        dict_count[key] += 1\n",
    "    else:\n",
    "        dict_count[key] = 1\n",
    "\n",
    "dict_specification, dict_no = {}, {}\n",
    "for i, dict_ in enumerate(list_dict):\n",
    "    key = dict_['attributeName_en'].strip()\n",
    "    if dict_count[key] == 1:\n",
    "        dict_specification[str(i)] = {key: dict_['siteValue_en'].strip()}\n",
    "    else:\n",
    "        if key in dict_no:\n",
    "            dict_no[key] += 1\n",
    "        else:\n",
    "            dict_no[key] = 1\n",
    "        dict_specification[str(i)] = {f'{key}-{dict_no[key]}': dict_['siteValue_en'].strip()}\n",
    "\n",
    "dict_specification"
   ]
  },
  {
   "cell_type": "code",
   "execution_count": 9,
   "id": "f7430ee4-3974-4ce6-9566-1dff52fee8bb",
   "metadata": {},
   "outputs": [
    {
     "data": {
      "text/plain": [
       "{'0': 'Switch - Clutch Starter Safety', '1': 'Switch - Cruise Control Release'}"
      ]
     },
     "execution_count": 9,
     "metadata": {},
     "output_type": "execute_result"
    }
   ],
   "source": [
    "dict_type, list_dict = {}, dict_dict['pp']['categories']\n",
    "for i, dict_ in enumerate(list_dict):\n",
    "    dict_type[str(i)] = dict_['categoryName_en'].strip()\n",
    "\n",
    "dict_type"
   ]
  },
  {
   "cell_type": "code",
   "execution_count": 10,
   "id": "bdcf91e3-7ec5-438b-8fd6-0c4b243867fa",
   "metadata": {},
   "outputs": [
    {
     "data": {
      "text/plain": [
       "[{'No': 1,\n",
       "  'Part Number': 'CCR-3',\n",
       "  'Vehicle': 'Kia Sephia (01-94)\\nKia Spectra (04-00)\\nKia Sportage (00-95)',\n",
       "  'Url': 'https://www.standardbrand.com/en/ecatalog?part=CCR3&type=p&search=s',\n",
       "  'Json_Type': '{\"0\": \"Switch - Clutch Starter Safety\", \"1\": \"Switch - Cruise Control Release\"}',\n",
       "  'Json_Info': '{\"Brand\": \"STI\", \"Partdesc_En\": \"Clutch Starter Safety / Cruise Release Switch\", \"Partlongdesc_En\": \"Clutch Starter Safety / Cruise Release Switch\", \"Pop\": \"F\", \"Qtyeach\": 1}',\n",
       "  'Json_Specification': '{\"0\": {\"Warranty\": \"3 years/36,000 mile\"}, \"1\": {\"Connector Gender\": \"Female\"}, \"2\": {\"Terminal Quantity\": \"2\"}, \"3\": {\"Terminal Gender\": \"Male\"}, \"4\": {\"Terminal Type\": \"Blade\"}}'}]"
      ]
     },
     "execution_count": 10,
     "metadata": {},
     "output_type": "execute_result"
    }
   ],
   "source": [
    "list_dict_correct.append({'No': crawler_series['No'],\n",
    "                          'Part Number': crawler_series['Part Number'],\n",
    "                          'Vehicle': vehicle,\n",
    "                          'Picture': '',\n",
    "                          'Url': crawler_series['Url'],\n",
    "                          'Json_Type': json.dumps(dict_type),\n",
    "                          'Json_Info': json.dumps(dict_info),\n",
    "                          'Json_Specification': json.dumps(dict_specification)})\n",
    "\n",
    "list_dict_correct"
   ]
  },
  {
   "cell_type": "code",
   "execution_count": 11,
   "id": "fc4ed7f6-ed4f-431c-b944-b1690309cdae",
   "metadata": {},
   "outputs": [
    {
     "data": {
      "text/plain": [
       "True"
      ]
     },
     "execution_count": 11,
     "metadata": {},
     "output_type": "execute_result"
    }
   ],
   "source": [
    "crawler_status = True\n",
    "\n",
    "crawler_status"
   ]
  },
  {
   "cell_type": "code",
   "execution_count": 12,
   "id": "65c745d1-446e-46c5-9dec-819c9f7944d3",
   "metadata": {},
   "outputs": [
    {
     "data": {
      "text/plain": [
       "[No                                                             1\n",
       " Part Number                                                CCR-3\n",
       " Url            https://www.standardbrand.com/en/ecatalog?part...\n",
       " Request_Url    https://ecatalog.smpcorp.com/V2/STD/api/part/p...\n",
       " Check_Url      https://www.standardbrand.com/en/ecatalog?part...\n",
       " Name: 0, dtype: object]"
      ]
     },
     "execution_count": 12,
     "metadata": {},
     "output_type": "execute_result"
    }
   ],
   "source": [
    "crawler_series['Request_Url'], crawler_series['Check_Url'] = url_request, url_check\n",
    "\n",
    "list_series_error.append(crawler_series)\n",
    "\n",
    "list_series_error"
   ]
  },
  {
   "cell_type": "code",
   "execution_count": 13,
   "id": "7fd477de",
   "metadata": {},
   "outputs": [
    {
     "data": {
      "text/html": [
       "<div>\n",
       "<style scoped>\n",
       "    .dataframe tbody tr th:only-of-type {\n",
       "        vertical-align: middle;\n",
       "    }\n",
       "\n",
       "    .dataframe tbody tr th {\n",
       "        vertical-align: top;\n",
       "    }\n",
       "\n",
       "    .dataframe thead th {\n",
       "        text-align: right;\n",
       "    }\n",
       "</style>\n",
       "<table border=\"1\" class=\"dataframe\">\n",
       "  <thead>\n",
       "    <tr style=\"text-align: right;\">\n",
       "      <th></th>\n",
       "      <th>No</th>\n",
       "      <th>Part Number</th>\n",
       "      <th>Vehicle</th>\n",
       "      <th>Url</th>\n",
       "      <th>Json_Type</th>\n",
       "      <th>Json_Info</th>\n",
       "      <th>Json_Specification</th>\n",
       "    </tr>\n",
       "  </thead>\n",
       "  <tbody>\n",
       "    <tr>\n",
       "      <th>0</th>\n",
       "      <td>1</td>\n",
       "      <td>CCR-3</td>\n",
       "      <td>Kia Sephia (01-94)\\nKia Spectra (04-00)\\nKia S...</td>\n",
       "      <td>https://www.standardbrand.com/en/ecatalog?part...</td>\n",
       "      <td>{\"0\": \"Switch - Clutch Starter Safety\", \"1\": \"...</td>\n",
       "      <td>{\"Brand\": \"STI\", \"Partdesc_En\": \"Clutch Starte...</td>\n",
       "      <td>{\"0\": {\"Warranty\": \"3 years/36,000 mile\"}, \"1\"...</td>\n",
       "    </tr>\n",
       "  </tbody>\n",
       "</table>\n",
       "</div>"
      ],
      "text/plain": [
       "   No Part Number                                            Vehicle  \\\n",
       "0   1       CCR-3  Kia Sephia (01-94)\\nKia Spectra (04-00)\\nKia S...   \n",
       "\n",
       "                                                 Url  \\\n",
       "0  https://www.standardbrand.com/en/ecatalog?part...   \n",
       "\n",
       "                                           Json_Type  \\\n",
       "0  {\"0\": \"Switch - Clutch Starter Safety\", \"1\": \"...   \n",
       "\n",
       "                                           Json_Info  \\\n",
       "0  {\"Brand\": \"STI\", \"Partdesc_En\": \"Clutch Starte...   \n",
       "\n",
       "                                  Json_Specification  \n",
       "0  {\"0\": {\"Warranty\": \"3 years/36,000 mile\"}, \"1\"...  "
      ]
     },
     "execution_count": 13,
     "metadata": {},
     "output_type": "execute_result"
    }
   ],
   "source": [
    "if list_dict_correct:\n",
    "    df_correct = pd.DataFrame(list_dict_correct).sort_values(by=['No'],\n",
    "                                                             ascending=[True],\n",
    "                                                             ignore_index=True)\n",
    "    df_correct.to_excel('./test_part.xlsx', index=False)\n",
    "\n",
    "df_correct"
   ]
  },
  {
   "cell_type": "code",
   "execution_count": 14,
   "id": "39a5441b-7f69-4812-aad8-7e10a1a24e78",
   "metadata": {},
   "outputs": [
    {
     "data": {
      "text/html": [
       "<div>\n",
       "<style scoped>\n",
       "    .dataframe tbody tr th:only-of-type {\n",
       "        vertical-align: middle;\n",
       "    }\n",
       "\n",
       "    .dataframe tbody tr th {\n",
       "        vertical-align: top;\n",
       "    }\n",
       "\n",
       "    .dataframe thead th {\n",
       "        text-align: right;\n",
       "    }\n",
       "</style>\n",
       "<table border=\"1\" class=\"dataframe\">\n",
       "  <thead>\n",
       "    <tr style=\"text-align: right;\">\n",
       "      <th></th>\n",
       "      <th>No</th>\n",
       "      <th>Part Number</th>\n",
       "      <th>Url</th>\n",
       "      <th>Request_Url</th>\n",
       "      <th>Check_Url</th>\n",
       "    </tr>\n",
       "  </thead>\n",
       "  <tbody>\n",
       "    <tr>\n",
       "      <th>0</th>\n",
       "      <td>1</td>\n",
       "      <td>CCR-3</td>\n",
       "      <td>https://www.standardbrand.com/en/ecatalog?part...</td>\n",
       "      <td>https://ecatalog.smpcorp.com/V2/STD/api/part/p...</td>\n",
       "      <td>https://www.standardbrand.com/en/ecatalog?part...</td>\n",
       "    </tr>\n",
       "  </tbody>\n",
       "</table>\n",
       "</div>"
      ],
      "text/plain": [
       "   No Part Number                                                Url  \\\n",
       "0   1       CCR-3  https://www.standardbrand.com/en/ecatalog?part...   \n",
       "\n",
       "                                         Request_Url  \\\n",
       "0  https://ecatalog.smpcorp.com/V2/STD/api/part/p...   \n",
       "\n",
       "                                           Check_Url  \n",
       "0  https://www.standardbrand.com/en/ecatalog?part...  "
      ]
     },
     "execution_count": 14,
     "metadata": {},
     "output_type": "execute_result"
    }
   ],
   "source": [
    "if list_series_error:\n",
    "    df_error = pd.DataFrame(list_series_error).sort_values(by=['No'],\n",
    "                                                           ascending=[True],\n",
    "                                                           ignore_index=True)\n",
    "    df_error.to_excel('./test_part_error.xlsx', index=False)\n",
    "\n",
    "df_error"
   ]
  },
  {
   "cell_type": "code",
   "execution_count": null,
   "id": "ba5d9f77-7464-4ad5-a42b-1fa0c0505832",
   "metadata": {},
   "outputs": [],
   "source": []
  }
 ],
 "metadata": {
  "kernelspec": {
   "display_name": "Python 3 (ipykernel)",
   "language": "python",
   "name": "python3"
  },
  "language_info": {
   "codemirror_mode": {
    "name": "ipython",
    "version": 3
   },
   "file_extension": ".py",
   "mimetype": "text/x-python",
   "name": "python",
   "nbconvert_exporter": "python",
   "pygments_lexer": "ipython3",
   "version": "3.12.7"
  }
 },
 "nbformat": 4,
 "nbformat_minor": 5
}
