{
 "cells": [
  {
   "cell_type": "code",
   "execution_count": 1,
   "id": "783f89be-0cdc-4912-942e-895cc5f09840",
   "metadata": {},
   "outputs": [],
   "source": [
    "import pandas as pd\n",
    "\n",
    "output_error = pd.DataFrame()"
   ]
  },
  {
   "cell_type": "code",
   "execution_count": 2,
   "id": "1c28f4ff-eee5-4220-a711-cc2f93fe08f0",
   "metadata": {
    "scrolled": true
   },
   "outputs": [
    {
     "name": "stdout",
     "output_type": "stream",
     "text": [
      "总数量：2\n"
     ]
    },
    {
     "data": {
      "text/plain": [
       "['https://www.auveco.com/api/cacheable/items?commercecategoryurl=/products/assortments/cabinetandcompartmentbinassortments&country=US&currency=USD&fieldset=search&include=facets&language=en&pricelevel=1&sort=commercecategory%3Adesc&use_pcv=T',\n",
       " 'https://www.auveco.com/api/cacheable/items?commercecategoryurl=/products/bodyhardware/boltsbodyhardware/bodybolts&country=US&currency=USD&fieldset=search&include=facets&language=en&pricelevel=1&sort=commercecategory%3Adesc&use_pcv=T']"
      ]
     },
     "execution_count": 2,
     "metadata": {},
     "output_type": "execute_result"
    }
   ],
   "source": [
    "input_ = pd.read_excel(f'./file/1.page.xlsx',\n",
    "                       header=0,\n",
    "                       dtype=str).fillna('')\n",
    "\n",
    "input_['No'] = input_['No'].astype(int)\n",
    "input_['SKU Count'] = input_['SKU Count'].astype(int)\n",
    "input_['Page'] = input_['Page'].astype(int)\n",
    "\n",
    "print(f'总数量：{len(input_)}')\n",
    "input_['Url'].tolist()"
   ]
  },
  {
   "cell_type": "code",
   "execution_count": 3,
   "id": "5878a9f0-d639-4123-b6e0-bc564f72c2d6",
   "metadata": {},
   "outputs": [
    {
     "data": {
      "text/plain": [
       "1"
      ]
     },
     "execution_count": 3,
     "metadata": {},
     "output_type": "execute_result"
    }
   ],
   "source": [
    "a = 1\n",
    "\n",
    "a"
   ]
  },
  {
   "cell_type": "code",
   "execution_count": 4,
   "id": "9f61dd65-55da-4d0b-ba30-d0534eff0781",
   "metadata": {},
   "outputs": [
    {
     "data": {
      "text/plain": [
       "'error'"
      ]
     },
     "execution_count": 4,
     "metadata": {},
     "output_type": "execute_result"
    }
   ],
   "source": [
    "crawler_status = 'error'\n",
    "\n",
    "crawler_status"
   ]
  },
  {
   "cell_type": "code",
   "execution_count": 5,
   "id": "523cc867",
   "metadata": {
    "scrolled": true
   },
   "outputs": [
    {
     "name": "stdout",
     "output_type": "stream",
     "text": [
      "1 0 0\n",
      "2 0 0\n",
      "3 0 0\n",
      "4 0 0\n",
      "5 0 0\n",
      "1 1 100\n",
      "2 1 100\n",
      "3 1 100\n",
      "4 1 100\n",
      "5 1 100\n",
      "6 1 100\n",
      "7 1 100\n",
      "8 1 100\n",
      "9 1 100\n"
     ]
    },
    {
     "data": {
      "text/plain": [
       "['https://www.auveco.com/hood-latch-mounting-torx-round-undercut-wshr-hd-bolt-25468',\n",
       " 'https://www.auveco.com/headlamp-radiator-support-torx-button-hd-scrw-w-sems-wshr-25467',\n",
       " 'https://www.auveco.com/ford-truck-bed-mounting-body-bolt-25044',\n",
       " 'https://www.auveco.com/ford-truck-bed-mounting-body-bolt-25043',\n",
       " 'https://www.auveco.com/ford-truck-bed-mounting-body-bolt-25042',\n",
       " 'https://www.auveco.com/m6-1-0-x-30-torx-wshr-hd-body-bolt-ca-pt-24512',\n",
       " 'https://www.auveco.com/hex-wshr-hd-body-bolt-5-16-18-x-1-1-4-black-24082',\n",
       " 'https://www.auveco.com/hex-head-sems-bolt-m8-1-25-x-45mm-class-8-8-18187',\n",
       " 'https://www.auveco.com/wave-washer-bolt-flat-washer-m8-1-25-x-40mm-16762',\n",
       " 'https://www.auveco.com/m10-1-5-x-45mm-metric-ind-hex-sems-wa-hd-13620',\n",
       " 'https://www.auveco.com/m6-1-0-x-25mm-hex-head-sems-19mm-o-d-phosphate-19455',\n",
       " 'https://www.auveco.com/m6-1-0-x-20-torx-wshr-hd-body-bolt-ca-pt-24515',\n",
       " 'https://www.auveco.com/6-x-25mm-hex-hd-sems-dog-pt-body-bolt-24505',\n",
       " 'https://www.auveco.com/honda-engine-cover-phillips-drive-bolt-25224',\n",
       " 'https://www.auveco.com/ford-truck-bed-mntg-bolt-m14-2-0-x-130mm-25313',\n",
       " 'https://www.auveco.com/ford-truck-bed-mntg-bolt-m14-2-0-x-148mm-25312',\n",
       " 'https://www.auveco.com/m8-1-25-x-35hex-flange-hd-body-bolt-dg-pt-24502',\n",
       " 'https://www.auveco.com/m8-x-23-body-bolt-dg-pt-w-lse-wshr-24500',\n",
       " 'https://www.auveco.com/hex-head-sems-screw-w-dog-point-m8-1-25-x-25mm-black-23817',\n",
       " 'https://www.auveco.com/hex-flange-head-cap-screw-m8-1-25-x-40mm-black-23796',\n",
       " 'https://www.auveco.com/hex-flange-hd-cap-screw-m10-1-5-x-30mm-black-23711',\n",
       " 'https://www.auveco.com/hex-hd-sems-body-bolt-ca-point-m6-3-1-0-x-20mm-black-23661',\n",
       " 'https://www.auveco.com/hex-wshr-hd-body-bolt-ca-point-m6-3-1-0-x-20mm-black-23654',\n",
       " 'https://www.auveco.com/hex-wshr-hd-body-bolt-ca-point-m8-1-25-x-20mm-black-23653',\n",
       " 'https://www.auveco.com/hex-hd-sems-body-bolt-zinc-m8-1-25-x-31mm-22915',\n",
       " 'https://www.auveco.com/hex-hd-sems-body-bolt-zinc-m8-1-25-x-30mm-22908',\n",
       " 'https://www.auveco.com/hex-hd-sems-body-bolt-zinc-m6-1-0-x-40mm-22906',\n",
       " 'https://www.auveco.com/gm-hex-head-sems-body-bolt-m6-1-0-x-30mm-20261',\n",
       " 'https://www.auveco.com/hex-hd-sems-body-bolt-10mm-hex-m6-1-0-x-35mm-18416',\n",
       " 'https://www.auveco.com/hex-head-sems-body-bolt-m8-1-25-x-42mm-phosphate-16931',\n",
       " 'https://www.auveco.com/hex-head-sems-w-dog-point-m6-1-0-x-30mm-phosphate-15818',\n",
       " 'https://www.auveco.com/ind-hd-sems-body-bolt-phosphate-m8-1-25-x-25mm-15790',\n",
       " 'https://www.auveco.com/hex-hd-sems-dog-pt-phosphate-m8-1-25-x-33mm-15780',\n",
       " 'https://www.auveco.com/m8-1-25-x-35mm-hex-head-sems-24mm-dia-phosphate-13705',\n",
       " 'https://www.auveco.com/m10-1-5-x-30mm-metric-ind-hex-sems-wa-hd-13619',\n",
       " 'https://www.auveco.com/m6-1-0-x-30mm-hex-head-sems-24mm-od-phosphate-13618',\n",
       " 'https://www.auveco.com/m8-1-25-x-30mm-hex-hd-sems-24mm-od-phosphate-13614',\n",
       " 'https://www.auveco.com/m8-1-25-x-25mm-hex-hd-sems-24mm-od-phosphate-13613',\n",
       " 'https://www.auveco.com/8-1-25-x-30mm-hex-washer-head-phosphate-12348',\n",
       " 'https://www.auveco.com/8-1-25-x-35mm-hex-washer-head-phosphate-12343',\n",
       " 'https://www.auveco.com/8-1-25-x-25mm-hex-washer-hd-phosphate-12336',\n",
       " 'https://www.auveco.com/10-1-50-x-33mm-ind-hex-wash-hd-w-dog-point-phosphate-12327',\n",
       " 'https://www.auveco.com/m6-3-1-0-x-25mmhex-hd-sems-17mm-od-zinc-11935',\n",
       " 'https://www.auveco.com/10-1-5-x-40mm-hex-hd-sems-29mm-wash-od-phosphate-11641',\n",
       " 'https://www.auveco.com/8-1-25-x-30mm-hex-washer-hd-flange-screw-zinc-org-11640',\n",
       " 'https://www.auveco.com/8-x-1-25-x-25mm-metric-hex-flange-hd-screw-phosphate-11639',\n",
       " 'https://www.auveco.com/8-1-25-x-22mm-spin-lock-bolt-18mm-wash-od-phosphate-11638',\n",
       " 'https://www.auveco.com/6-3-1-0-x-20mm-hex-hd-sems-17mm-wash-od-phosphate-11633',\n",
       " 'https://www.auveco.com/bumper-grille-square-head-stud-w-dog-point-ram-25439',\n",
       " 'https://www.auveco.com/m6-x-20-torx-wshr-hd-body-bolt-ca-pt-24489',\n",
       " 'https://www.auveco.com/ford-m5-0-8-x-25mm-hex-hd-14-5mm-sems-wdp-24479',\n",
       " 'https://www.auveco.com/hex-head-sems-screw-m4-0-70-x-12mm-black-23900',\n",
       " 'https://www.auveco.com/saturn-torx-button-head-body-bolt-23855',\n",
       " 'https://www.auveco.com/hex-head-sems-screw-m6-1-0-x-16mm-23830',\n",
       " 'https://www.auveco.com/hex-head-sems-screw-w-dog-point-m6-1-0-x-20mm-black-23811',\n",
       " 'https://www.auveco.com/hex-head-sems-screw-w-dog-point-m6-1-0-x-28mm-black-23808',\n",
       " 'https://www.auveco.com/hex-head-sems-screw-m5-0-80-x-20mm-black-23801',\n",
       " 'https://www.auveco.com/torx-round-wshr-hd-body-bolt-w-ca-point-m6-1-0-x-20mm-zinc-23789',\n",
       " 'https://www.auveco.com/hex-hd-sems-screw-m6-1-0-x-25mm-black-23689',\n",
       " 'https://www.auveco.com/hex-hd-sems-screw-w-dog-point-m6-1-0-x-18mm-black-23688',\n",
       " 'https://www.auveco.com/gm-sems-body-bolt-22536',\n",
       " 'https://www.auveco.com/ford-torx-pan-head-body-bolt-with-dog-point-22428',\n",
       " 'https://www.auveco.com/mazda-hex-washer-head-sems-body-bolt-22293',\n",
       " 'https://www.auveco.com/subaru-phillips-hex-head-sems-body-bolt-dog-pt-22271',\n",
       " 'https://www.auveco.com/ford-hex-head-sems-body-bolt-w-threaded-patch-22232',\n",
       " 'https://www.auveco.com/gm-hex-head-sems-body-bolt-with-dog-point-22164',\n",
       " 'https://www.auveco.com/lexus-toyota-hex-head-flange-bolt-21840',\n",
       " 'https://www.auveco.com/torx-washer-hd-body-bolt-m6-1-0-x-20mm-18515',\n",
       " 'https://www.auveco.com/hex-head-sems-bolt-w-dog-point-m6-1-0-x-28mm-16893',\n",
       " 'https://www.auveco.com/hex-sems-body-bolt-blk-fluorocarb-m6-1-0-x-16mm-15791',\n",
       " 'https://www.auveco.com/hex-hd-sems-body-bolt-zinc-m6-1-0-x-25mm-15788',\n",
       " 'https://www.auveco.com/hex-hd-sems-body-bolt-black-m6-1-0-x-28mm-15779',\n",
       " 'https://www.auveco.com/hex-hd-sems-body-bolt-zinc-m6-1-0-x-22-5mm-15778',\n",
       " 'https://www.auveco.com/mirror-mounting-screw-m6-x-26mm-14947',\n",
       " 'https://www.auveco.com/m6-1-0-x-20mm-metric-ind-hex-sems-wa-hd-13617',\n",
       " 'https://www.auveco.com/m6-1-0-x-20mm-hex-head-sems-17mm-od-phosphate-12693',\n",
       " 'https://www.auveco.com/m6-1-0-x-28mm-ind-hex-wash-hd-sems-w-dog-zinc-12335',\n",
       " 'https://www.auveco.com/6-1-0-x-20mm-hex-washer-hd-phosphate-12324',\n",
       " 'https://www.auveco.com/6-1-0-x-25mm-hex-head-sems-24mm-od-black-polyseal-12323',\n",
       " 'https://www.auveco.com/6-1-0-x-20mm-ind-hex-w-sems-mach-screw-phosphate-12322',\n",
       " 'https://www.auveco.com/m5-0-8-x-20mm-hex-hd-sems-thrd-cutting-screw-12232',\n",
       " 'https://www.auveco.com/6-1-0-x-22mm-hex-head-sems-19mm-od-phosphate-12160',\n",
       " 'https://www.auveco.com/6-1-0-x-20mm-hex-hd-sems-17mm-od-phosphate-12067',\n",
       " 'https://www.auveco.com/6-1-0-x-25mm-hex-head-sems-24mm-od-phosphate-12066',\n",
       " 'https://www.auveco.com/6-1-0-x-25mm-hex-head-sems-17mm-od-phosphate-12065',\n",
       " 'https://www.auveco.com/6-1-0-x-16mm-hex-head-sems-bolt-yellow-zinc-12064',\n",
       " 'https://www.auveco.com/hex-head-sems-body-bolt-m6-1-0-x-12mm-20434',\n",
       " 'https://www.auveco.com/hex-head-sems-bolt-m6-1-0x-16mm-18177',\n",
       " 'https://www.auveco.com/torx-head-body-bolt-m6-1-0-x-25mm-zinc-15807',\n",
       " 'https://www.auveco.com/1-4-20-x-1-hex-sems-bellville-wa-hd-9757',\n",
       " 'https://www.auveco.com/5-16-18-x-1-hex-sems-bellville-wa-hd-9756',\n",
       " 'https://www.auveco.com/1-4-20-x-1-hex-hd-sems-w-dog-pt-phosphate-9480',\n",
       " 'https://www.auveco.com/5-16-18-x-1-1-4-ind-spec-sems-wa-1-2-hex-8847',\n",
       " 'https://www.auveco.com/hex-head-sems-body-bolt-w-dog-point-1-4-20-x-3-4-black-24177',\n",
       " 'https://www.auveco.com/hex-head-sems-body-bolt-w-dog-point-1-4-20-x-1-3-16-black-24174',\n",
       " 'https://www.auveco.com/hex-head-sems-body-bolt-w-dog-point-1-4-20-x-1-1-8-24168',\n",
       " 'https://www.auveco.com/hex-wshr-hd-body-bolt-ca-point-5-16-18-x-1-black-23692',\n",
       " 'https://www.auveco.com/hex-hd-sems-body-bolt-w-dog-point-5-16-18-x-15-16-zinc-yellow-23666',\n",
       " 'https://www.auveco.com/hex-hd-sems-body-bolt-w-dog-point-5-16-18-x-1-3-16-zinc-yellow-23665',\n",
       " 'https://www.auveco.com/hex-hd-sems-body-bolt-w-dog-point-3-8-16-x-1-3-16-black-23664',\n",
       " 'https://www.auveco.com/hex-hd-sems-body-bolt-w-dog-point-5-16-18-x-1-3-16-black-23663',\n",
       " 'https://www.auveco.com/hex-hd-sems-body-bolt-w-dog-point-5-16-18-x-15-16-black-23662',\n",
       " 'https://www.auveco.com/phil-truss-hd-machine-screw-8-32-x-5-16-chrome-2209',\n",
       " 'https://www.auveco.com/hex-hd-sems-body-bolt-5-16-18-x-1-1-16-17035',\n",
       " 'https://www.auveco.com/hex-head-sems-body-bolt-1-4-20-x-7-8-17034',\n",
       " 'https://www.auveco.com/hex-hd-sems-body-bolt-phosphate-5-16-18-x-7-8-15792',\n",
       " 'https://www.auveco.com/hex-hd-sems-3-4-o-d-phosphate-5-16-18-x-7-8-15783',\n",
       " 'https://www.auveco.com/gm-mirror-mntng-screw-expansion-nut-1-4-20-x-1-1-4-14977',\n",
       " 'https://www.auveco.com/s-s-gm-mirror-mounting-screw-1-4-20-x-1-1-4-14976',\n",
       " 'https://www.auveco.com/mirror-mounting-screw-expansion-nut-13232',\n",
       " 'https://www.auveco.com/mirror-mounting-screw-phosphate-w-nylon-wash-13231',\n",
       " 'https://www.auveco.com/5-16-18-x-1-1-2-ind-hex-wa-hd-1-2-af-t-s-body-bolt-12009',\n",
       " 'https://www.auveco.com/5-16-18-x-1-ind-hex-sems-1-2-af-7-8-wash-o-d-11320',\n",
       " 'https://www.auveco.com/body-bolt-3-8-16-x-1-3-8-hex-head-sems-11110',\n",
       " 'https://www.auveco.com/body-bolt-3-8-16-x-1-hex-head-sems-1-od-phosphate-11109',\n",
       " 'https://www.auveco.com/5-16-18-x-1-1-4-ind-hex-washer-hd-1-2-a-f-11061',\n",
       " 'https://www.auveco.com/hex-hd-sems-w-dog-pt-1-4-20-x-7-8-black-10823',\n",
       " 'https://www.auveco.com/body-bolt-ind-hex-washer-hd-5-16-18-x-13-16-gm-10362',\n",
       " 'https://www.auveco.com/5-16-18-x-3-4-ind-hex-washer-hd-ca-point-gm-10084',\n",
       " 'https://www.auveco.com/5-16-18-x-1-1-4-ind-hex-lrg-flg-wa-hd-5713',\n",
       " 'https://www.auveco.com/5-16-18-x-1ind-hex-lrg-flg-wa-hd-dog-pt-5711',\n",
       " 'https://www.auveco.com/5-16-18-x-3-4-hex-washer-hd-spin-lock-bolts-3615',\n",
       " 'https://www.auveco.com/1-4-20-x-5-8-hex-washer-head-spin-lock-bolt-2753',\n",
       " 'https://www.auveco.com/5-16-24-x-1-ind-hex-washer-head-spin-lock-bolt-2688']"
      ]
     },
     "execution_count": 5,
     "metadata": {},
     "output_type": "execute_result"
    }
   ],
   "source": [
    "import requests\n",
    "\n",
    "import sys\n",
    "sys.path.append('../00.Tools')\n",
    "from crawler_configuration import get_header, get_proxy\n",
    "\n",
    "list_url = []\n",
    "while len(list_url) < input_.loc[a, 'SKU Count']:\n",
    "    for i in range(input_.loc[a, 'Page']):\n",
    "        b = 0\n",
    "        while True:\n",
    "            b += 1\n",
    "            print(b, i, len(list_url))\n",
    "            try:\n",
    "                resp = requests.get(f'''{input_.loc[a, 'Url']}&limit=100&offset={i*100}''',\n",
    "                                headers=get_header(),\n",
    "                                proxies=get_proxy(),\n",
    "                                timeout=(10, 10))\n",
    "    \n",
    "                if resp.status_code == 200:\n",
    "                    json_ = resp.json()\n",
    "\n",
    "                    list_urlcomponent = [dict_['urlcomponent'] for dict_ in json_['items']]\n",
    "                    if json_['code'] == 200 and list_urlcomponent:\n",
    "                        break\n",
    "            except KeyboardInterrupt:\n",
    "                break\n",
    "            except:\n",
    "                continue\n",
    "\n",
    "        # = = = = = = = = = = = = = = =\n",
    "\n",
    "        list_url += [f'''https://www.auveco.com/{urlcomponent.strip()}''' for urlcomponent in list_urlcomponent]\n",
    "        list_url = sorted(list(set(list_url)), key=list_url.index)\n",
    "\n",
    "        # = = = = = = = = = = = = = = =\n",
    "\n",
    "        if len(list_url) == input_.loc[a, 'SKU Count']:\n",
    "            break\n",
    "\n",
    "list_url"
   ]
  },
  {
   "cell_type": "code",
   "execution_count": 6,
   "id": "a9a5ac5f-a9d5-4ab5-9d64-645f23461ab1",
   "metadata": {},
   "outputs": [
    {
     "data": {
      "text/html": [
       "<div>\n",
       "<style scoped>\n",
       "    .dataframe tbody tr th:only-of-type {\n",
       "        vertical-align: middle;\n",
       "    }\n",
       "\n",
       "    .dataframe tbody tr th {\n",
       "        vertical-align: top;\n",
       "    }\n",
       "\n",
       "    .dataframe thead th {\n",
       "        text-align: right;\n",
       "    }\n",
       "</style>\n",
       "<table border=\"1\" class=\"dataframe\">\n",
       "  <thead>\n",
       "    <tr style=\"text-align: right;\">\n",
       "      <th></th>\n",
       "      <th>No</th>\n",
       "      <th>Url</th>\n",
       "    </tr>\n",
       "  </thead>\n",
       "  <tbody>\n",
       "    <tr>\n",
       "      <th>0</th>\n",
       "      <td>1</td>\n",
       "      <td>https://www.auveco.com/hood-latch-mounting-tor...</td>\n",
       "    </tr>\n",
       "    <tr>\n",
       "      <th>1</th>\n",
       "      <td>2</td>\n",
       "      <td>https://www.auveco.com/headlamp-radiator-suppo...</td>\n",
       "    </tr>\n",
       "    <tr>\n",
       "      <th>2</th>\n",
       "      <td>3</td>\n",
       "      <td>https://www.auveco.com/ford-truck-bed-mounting...</td>\n",
       "    </tr>\n",
       "    <tr>\n",
       "      <th>3</th>\n",
       "      <td>4</td>\n",
       "      <td>https://www.auveco.com/ford-truck-bed-mounting...</td>\n",
       "    </tr>\n",
       "    <tr>\n",
       "      <th>4</th>\n",
       "      <td>5</td>\n",
       "      <td>https://www.auveco.com/ford-truck-bed-mounting...</td>\n",
       "    </tr>\n",
       "    <tr>\n",
       "      <th>...</th>\n",
       "      <td>...</td>\n",
       "      <td>...</td>\n",
       "    </tr>\n",
       "    <tr>\n",
       "      <th>119</th>\n",
       "      <td>120</td>\n",
       "      <td>https://www.auveco.com/5-16-18-x-1-1-4-ind-hex...</td>\n",
       "    </tr>\n",
       "    <tr>\n",
       "      <th>120</th>\n",
       "      <td>121</td>\n",
       "      <td>https://www.auveco.com/5-16-18-x-1ind-hex-lrg-...</td>\n",
       "    </tr>\n",
       "    <tr>\n",
       "      <th>121</th>\n",
       "      <td>122</td>\n",
       "      <td>https://www.auveco.com/5-16-18-x-3-4-hex-washe...</td>\n",
       "    </tr>\n",
       "    <tr>\n",
       "      <th>122</th>\n",
       "      <td>123</td>\n",
       "      <td>https://www.auveco.com/1-4-20-x-5-8-hex-washer...</td>\n",
       "    </tr>\n",
       "    <tr>\n",
       "      <th>123</th>\n",
       "      <td>124</td>\n",
       "      <td>https://www.auveco.com/5-16-24-x-1-ind-hex-was...</td>\n",
       "    </tr>\n",
       "  </tbody>\n",
       "</table>\n",
       "<p>124 rows × 2 columns</p>\n",
       "</div>"
      ],
      "text/plain": [
       "      No                                                Url\n",
       "0      1  https://www.auveco.com/hood-latch-mounting-tor...\n",
       "1      2  https://www.auveco.com/headlamp-radiator-suppo...\n",
       "2      3  https://www.auveco.com/ford-truck-bed-mounting...\n",
       "3      4  https://www.auveco.com/ford-truck-bed-mounting...\n",
       "4      5  https://www.auveco.com/ford-truck-bed-mounting...\n",
       "..   ...                                                ...\n",
       "119  120  https://www.auveco.com/5-16-18-x-1-1-4-ind-hex...\n",
       "120  121  https://www.auveco.com/5-16-18-x-1ind-hex-lrg-...\n",
       "121  122  https://www.auveco.com/5-16-18-x-3-4-hex-washe...\n",
       "122  123  https://www.auveco.com/1-4-20-x-5-8-hex-washer...\n",
       "123  124  https://www.auveco.com/5-16-24-x-1-ind-hex-was...\n",
       "\n",
       "[124 rows x 2 columns]"
      ]
     },
     "execution_count": 6,
     "metadata": {},
     "output_type": "execute_result"
    }
   ],
   "source": [
    "output = pd.DataFrame({'No': [i+1 for i in range(len(list_url))],\n",
    "                       'Url': list_url})\n",
    "\n",
    "output.to_excel('./test_url.xlsx', index=False)\n",
    "\n",
    "output"
   ]
  },
  {
   "cell_type": "code",
   "execution_count": 7,
   "id": "8e45dd39-994e-4ba1-828b-5ddbffe89783",
   "metadata": {},
   "outputs": [
    {
     "data": {
      "text/plain": [
       "'ok'"
      ]
     },
     "execution_count": 7,
     "metadata": {},
     "output_type": "execute_result"
    }
   ],
   "source": [
    "crawler_status = 'ok'\n",
    "\n",
    "crawler_status"
   ]
  },
  {
   "cell_type": "code",
   "execution_count": 8,
   "id": "3ba00379-1964-4d83-9a08-4d16f07a5f6b",
   "metadata": {},
   "outputs": [
    {
     "data": {
      "text/html": [
       "<div>\n",
       "<style scoped>\n",
       "    .dataframe tbody tr th:only-of-type {\n",
       "        vertical-align: middle;\n",
       "    }\n",
       "\n",
       "    .dataframe tbody tr th {\n",
       "        vertical-align: top;\n",
       "    }\n",
       "\n",
       "    .dataframe thead th {\n",
       "        text-align: right;\n",
       "    }\n",
       "</style>\n",
       "<table border=\"1\" class=\"dataframe\">\n",
       "  <thead>\n",
       "    <tr style=\"text-align: right;\">\n",
       "      <th></th>\n",
       "    </tr>\n",
       "  </thead>\n",
       "  <tbody>\n",
       "  </tbody>\n",
       "</table>\n",
       "</div>"
      ],
      "text/plain": [
       "Empty DataFrame\n",
       "Columns: []\n",
       "Index: []"
      ]
     },
     "execution_count": 8,
     "metadata": {},
     "output_type": "execute_result"
    }
   ],
   "source": [
    "if crawler_status == 'error':\n",
    "    output_error = pd.concat([output_error, pd.DataFrame([input_.iloc[a]]).reset_index(drop=True)], ignore_index=True).fillna('')\n",
    "\n",
    "output_error"
   ]
  },
  {
   "cell_type": "code",
   "execution_count": 9,
   "id": "bc7359e0-efb9-4fc6-a843-1e8fd9e672d9",
   "metadata": {},
   "outputs": [
    {
     "data": {
      "text/html": [
       "<div>\n",
       "<style scoped>\n",
       "    .dataframe tbody tr th:only-of-type {\n",
       "        vertical-align: middle;\n",
       "    }\n",
       "\n",
       "    .dataframe tbody tr th {\n",
       "        vertical-align: top;\n",
       "    }\n",
       "\n",
       "    .dataframe thead th {\n",
       "        text-align: right;\n",
       "    }\n",
       "</style>\n",
       "<table border=\"1\" class=\"dataframe\">\n",
       "  <thead>\n",
       "    <tr style=\"text-align: right;\">\n",
       "      <th></th>\n",
       "    </tr>\n",
       "  </thead>\n",
       "  <tbody>\n",
       "  </tbody>\n",
       "</table>\n",
       "</div>"
      ],
      "text/plain": [
       "Empty DataFrame\n",
       "Columns: []\n",
       "Index: []"
      ]
     },
     "execution_count": 9,
     "metadata": {},
     "output_type": "execute_result"
    }
   ],
   "source": [
    "if not output_error.empty:\n",
    "    output_error = output_error.sort_values(by=['No'],\n",
    "                                            ascending=[True],\n",
    "                                            ignore_index=True)\n",
    "    output_error.to_excel('./test_url_error.xlsx', index=False)\n",
    "\n",
    "output_error"
   ]
  },
  {
   "cell_type": "code",
   "execution_count": null,
   "id": "a31a202d-21e6-4a6a-8107-95dbbd0cf29b",
   "metadata": {},
   "outputs": [],
   "source": []
  }
 ],
 "metadata": {
  "kernelspec": {
   "display_name": "Python 3 (ipykernel)",
   "language": "python",
   "name": "python3"
  },
  "language_info": {
   "codemirror_mode": {
    "name": "ipython",
    "version": 3
   },
   "file_extension": ".py",
   "mimetype": "text/x-python",
   "name": "python",
   "nbconvert_exporter": "python",
   "pygments_lexer": "ipython3",
   "version": "3.11.3"
  }
 },
 "nbformat": 4,
 "nbformat_minor": 5
}
