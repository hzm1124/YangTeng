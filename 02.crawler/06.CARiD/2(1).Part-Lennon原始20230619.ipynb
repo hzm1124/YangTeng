{
 "cells": [
  {
   "cell_type": "code",
   "execution_count": 1,
   "id": "12b71025",
   "metadata": {},
   "outputs": [],
   "source": [
    "import pandas as pd"
   ]
  },
  {
   "cell_type": "code",
   "execution_count": 2,
   "id": "07ddad26",
   "metadata": {},
   "outputs": [
    {
     "name": "stdout",
     "output_type": "stream",
     "text": [
      "总数量：204\n"
     ]
    },
    {
     "data": {
      "text/plain": [
       "['https://www.carid.com/ngk/laser-iridium-spark-plug-mpn-93560.html?singleid=5087720497',\n",
       " 'https://www.carid.com/ngk/laser-iridium-spark-plug-mpn-94524.html?singleid=5087752490',\n",
       " 'https://www.carid.com/ngk/laser-iridium-spark-plug-mpn-95927.html?singleid=5087752498',\n",
       " 'https://www.carid.com/ngk/laser-iridium-spark-plug-mpn-95927.html?singleid=5087757502',\n",
       " 'https://www.carid.com/ngk/laser-iridium-spark-plug-mpn-6700.html',\n",
       " 'https://www.carid.com/ngk/laser-iridium-spark-plug-mpn-6701.html',\n",
       " 'https://www.carid.com/ngk/laser-iridium-spark-plug.html',\n",
       " 'https://www.carid.com/ngk/laser-platinum-spark-plug.html',\n",
       " 'https://www.carid.com/ngk/laser-iridium-spark-plug-mpn-94731.html',\n",
       " 'https://www.carid.com/ngk/laser-iridium-spark-plug-mpn-92217.html',\n",
       " 'https://www.carid.com/ngk/laser-iridium-spark-plug-mpn-93199.html',\n",
       " 'https://www.carid.com/ngk/laser-iridium-spark-plug-mpn-91874.html',\n",
       " 'https://www.carid.com/ngk/laser-iridium-spark-plug-mpn-96372.html',\n",
       " 'https://www.carid.com/ngk/laser-iridium-spark-plug-mpn-91961.html',\n",
       " 'https://www.carid.com/ngk/laser-iridium-spark-plug-mpn-93560.html',\n",
       " 'https://www.carid.com/ngk/laser-iridium-spark-plug-mpn-1555.html',\n",
       " 'https://www.carid.com/ngk/laser-iridium-spark-plug-mpn-1406.html',\n",
       " 'https://www.carid.com/ngk/laser-iridium-spark-plug-mpn-90074.html',\n",
       " 'https://www.carid.com/ngk/laser-iridium-spark-plug-mpn-9029.html',\n",
       " 'https://www.carid.com/ngk/laser-iridium-spark-plug-mpn-91215.html',\n",
       " 'https://www.carid.com/ngk/laser-iridium-spark-plug-mpn-91448.html',\n",
       " 'https://www.carid.com/ngk/laser-iridium-spark-plug-mpn-92491.html',\n",
       " 'https://www.carid.com/ngk/laser-iridium-spark-plug-mpn-92924.html',\n",
       " 'https://www.carid.com/ngk/laser-iridium-spark-plug-mpn-93026.html',\n",
       " 'https://www.carid.com/ngk/laser-iridium-spark-plug-mpn-93135.html',\n",
       " 'https://www.carid.com/ngk/laser-iridium-spark-plug-mpn-93482.html',\n",
       " 'https://www.carid.com/ngk/laser-iridium-spark-plug-mpn-93759.html',\n",
       " 'https://www.carid.com/ngk/laser-iridium-spark-plug-mpn-94167.html',\n",
       " 'https://www.carid.com/ngk/laser-iridium-spark-plug-mpn-97218.html',\n",
       " 'https://www.carid.com/ngk/laser-iridium-spark-plug-mpn-95710.html',\n",
       " 'https://www.carid.com/ngk/laser-iridium-spark-plug-mpn-98376.html',\n",
       " 'https://www.carid.com/ngk/laser-iridium-spark-plug-mpn-6176.html',\n",
       " 'https://www.carid.com/ngk/laser-iridium-spark-plug-mpn-96957.html',\n",
       " 'https://www.carid.com/ngk/laser-iridium-spark-plug-mpn-127.html',\n",
       " 'https://www.carid.com/ngk/laser-iridium-spark-plug-mpn-373.html',\n",
       " 'https://www.carid.com/ngk/laser-iridium-spark-plug-mpn-7505.html',\n",
       " 'https://www.carid.com/ngk/laser-iridium-spark-plug-mpn-90174.html',\n",
       " 'https://www.carid.com/ngk/laser-iridium-spark-plug-mpn-92605.html',\n",
       " 'https://www.carid.com/ngk/laser-iridium-spark-plug-mpn-90137.html',\n",
       " 'https://www.carid.com/ngk/laser-iridium-spark-plug-mpn-95350.html',\n",
       " 'https://www.carid.com/ngk/laser-iridium-spark-plug-mpn-95264.html',\n",
       " 'https://www.carid.com/ngk/laser-iridium-spark-plug-mpn-1312.html',\n",
       " 'https://www.carid.com/ngk/laser-iridium-spark-plug-mpn-1311.html',\n",
       " 'https://www.carid.com/ngk/laser-iridium-spark-plug-mpn-96964.html',\n",
       " 'https://www.carid.com/ngk/laser-iridium-spark-plug-mpn-90935.html',\n",
       " 'https://www.carid.com/ngk/laser-iridium-spark-plug-mpn-94702.html',\n",
       " 'https://www.carid.com/ngk/laser-iridium-spark-plug-mpn-95248.html',\n",
       " 'https://www.carid.com/ngk/laser-iridium-spark-plug-mpn-93560.html?singleid=5087720497',\n",
       " 'https://www.carid.com/ngk/laser-iridium-spark-plug-mpn-95993.html',\n",
       " 'https://www.carid.com/ngk/laser-iridium-spark-plug-mpn-97968.html',\n",
       " 'https://www.carid.com/ngk/laser-iridium-spark-plug-mpn-91715.html',\n",
       " 'https://www.carid.com/ngk/laser-iridium-spark-plug-mpn-96008.html',\n",
       " 'https://www.carid.com/ngk/laser-iridium-spark-plug-mpn-97293.html',\n",
       " 'https://www.carid.com/ngk/laser-iridium-spark-plug-mpn-96206.html',\n",
       " 'https://www.carid.com/ngk/laser-iridium-spark-plug-mpn-90813.html',\n",
       " 'https://www.carid.com/ngk/laser-iridium-spark-plug-mpn-94124.html',\n",
       " 'https://www.carid.com/ngk/laser-iridium-spark-plug-mpn-90543.html',\n",
       " 'https://www.carid.com/ngk/laser-iridium-spark-plug-mpn-97506.html',\n",
       " 'https://www.carid.com/ngk/laser-iridium-spark-plug-mpn-90137.html',\n",
       " 'https://www.carid.com/ngk/g-power-platinum-spark-plug-with-copper-core-mpn-3403.html',\n",
       " 'https://www.carid.com/ngk/laser-iridium-spark-plug-mpn-92145.html',\n",
       " 'https://www.carid.com/ngk/laser-iridium-spark-plug-mpn-96964.html',\n",
       " 'https://www.carid.com/ngk/laser-iridium-spark-plug-mpn-95112.html',\n",
       " 'https://www.carid.com/ngk/laser-iridium-spark-plug-mpn-95660.html',\n",
       " 'https://www.carid.com/ngk/laser-iridium-spark-plug-mpn-94201.html',\n",
       " 'https://www.carid.com/ngk/laser-iridium-spark-plug-mpn-96008.html',\n",
       " 'https://www.carid.com/ngk/laser-iridium-spark-plug-mpn-93618.html',\n",
       " 'https://www.carid.com/ngk/laser-iridium-spark-plug-mpn-97080.html',\n",
       " 'https://www.carid.com/ngk/laser-iridium-spark-plug-mpn-96206.html?singleid=5087797357',\n",
       " 'https://www.carid.com/ngk/laser-iridium-spark-plug-mpn-90911.html?singleid=5087850343',\n",
       " 'https://www.carid.com/ngk/laser-iridium-spark-plug-mpn-92154.html?singleid=5087784345',\n",
       " 'https://www.carid.com/ngk/laser-platinum-spark-plug.html',\n",
       " 'https://www.carid.com/ngk/laser-iridium-spark-plug.html',\n",
       " 'https://www.carid.com/ngk/iridium-ix-spark-plug.html',\n",
       " 'https://www.carid.com/ngk/laser-iridium-spark-plug-mpn-5258.html',\n",
       " 'https://www.carid.com/ngk/laser-iridium-spark-plug-mpn-94731.html',\n",
       " 'https://www.carid.com/ngk/laser-iridium-spark-plug-mpn-92373.html',\n",
       " 'https://www.carid.com/ngk/laser-iridium-spark-plug-mpn-92217.html',\n",
       " 'https://www.carid.com/ngk/laser-iridium-spark-plug-mpn-93199.html',\n",
       " 'https://www.carid.com/ngk/laser-iridium-spark-plug-mpn-91874.html',\n",
       " 'https://www.carid.com/ngk/laser-iridium-spark-plug-mpn-91121.html',\n",
       " 'https://www.carid.com/ngk/laser-iridium-spark-plug-mpn-96372.html',\n",
       " 'https://www.carid.com/ngk/laser-iridium-spark-plug-mpn-92968.html',\n",
       " 'https://www.carid.com/ngk/spark-plug-mpn-96107.html',\n",
       " 'https://www.carid.com/ngk/laser-iridium-spark-plug-mpn-95993.html',\n",
       " 'https://www.carid.com/ngk/laser-iridium-spark-plug-mpn-97287.html',\n",
       " 'https://www.carid.com/ngk/laser-iridium-spark-plug-mpn-91961.html',\n",
       " 'https://www.carid.com/ngk/laser-iridium-spark-plug-mpn-95927.html',\n",
       " 'https://www.carid.com/ngk/laser-iridium-spark-plug-mpn-90909.html',\n",
       " 'https://www.carid.com/ngk/laser-iridium-spark-plug-mpn-93560.html',\n",
       " 'https://www.carid.com/ngk/laser-iridium-spark-plug-mpn-93163.html',\n",
       " 'https://www.carid.com/ngk/laser-iridium-spark-plug-mpn-94524.html',\n",
       " 'https://www.carid.com/ngk/laser-iridium-spark-plug-mpn-91112.html',\n",
       " 'https://www.carid.com/ngk/laser-iridium-spark-plug-mpn-96210.html',\n",
       " 'https://www.carid.com/ngk/laser-iridium-spark-plug-mpn-91731.html',\n",
       " 'https://www.carid.com/ngk/laser-iridium-spark-plug-mpn-96698.html',\n",
       " 'https://www.carid.com/ngk/laser-iridium-spark-plug-mpn-95770.html',\n",
       " 'https://www.carid.com/ngk/laser-iridium-spark-plug-mpn-1402.html',\n",
       " 'https://www.carid.com/ngk/laser-iridium-spark-plug-mpn-1989.html',\n",
       " 'https://www.carid.com/ngk/laser-iridium-spark-plug-mpn-3657.html',\n",
       " 'https://www.carid.com/ngk/laser-iridium-spark-plug-mpn-7751.html',\n",
       " 'https://www.carid.com/ngk/laser-iridium-spark-plug-mpn-91039.html',\n",
       " 'https://www.carid.com/ngk/laser-iridium-spark-plug-mpn-96870.html',\n",
       " 'https://www.carid.com/ngk/laser-iridium-spark-plug-mpn-1961.html',\n",
       " 'https://www.carid.com/ngk/laser-iridium-spark-plug-mpn-90607.html',\n",
       " 'https://www.carid.com/ngk/laser-iridium-spark-plug-mpn-96588.html',\n",
       " 'https://www.carid.com/ngk/laser-iridium-spark-plug-mpn-96329.html',\n",
       " 'https://www.carid.com/ngk/laser-iridium-spark-plug-mpn-96024.html',\n",
       " 'https://www.carid.com/ngk/laser-iridium-spark-plug-mpn-92085.html',\n",
       " 'https://www.carid.com/ngk/laser-iridium-spark-plug-mpn-95875.html',\n",
       " 'https://www.carid.com/ngk/laser-iridium-spark-plug-mpn-90654.html',\n",
       " 'https://www.carid.com/ngk/laser-iridium-spark-plug-mpn-90083.html',\n",
       " 'https://www.carid.com/ngk/laser-iridium-spark-plug-mpn-97177.html',\n",
       " 'https://www.carid.com/ngk/laser-iridium-spark-plug-mpn-91568.html',\n",
       " 'https://www.carid.com/ngk/laser-iridium-spark-plug-mpn-94940.html',\n",
       " 'https://www.carid.com/ngk/laser-iridium-spark-plug-mpn-92605.html',\n",
       " 'https://www.carid.com/ngk/laser-iridium-spark-plug-mpn-96509.html',\n",
       " 'https://www.carid.com/ngk/laser-iridium-spark-plug-mpn-94769.html',\n",
       " 'https://www.carid.com/ngk/laser-iridium-spark-plug-mpn-90156.html',\n",
       " 'https://www.carid.com/ngk/laser-iridium-spark-plug-mpn-91715.html',\n",
       " 'https://www.carid.com/ngk/laser-iridium-spark-plug-mpn-95609.html',\n",
       " 'https://www.carid.com/ngk/laser-iridium-spark-plug-mpn-94489.html',\n",
       " 'https://www.carid.com/ngk/laser-iridium-spark-plug-mpn-93298.html',\n",
       " 'https://www.carid.com/ngk/laser-iridium-spark-plug-mpn-95350.html',\n",
       " 'https://www.carid.com/ngk/laser-iridium-spark-plug-mpn-95264.html',\n",
       " 'https://www.carid.com/ngk/laser-iridium-spark-plug-mpn-90882.html',\n",
       " 'https://www.carid.com/ngk/laser-iridium-spark-plug-mpn-1312.html',\n",
       " 'https://www.carid.com/ngk/laser-iridium-spark-plug-mpn-93476.html',\n",
       " 'https://www.carid.com/ngk/laser-iridium-spark-plug-mpn-91725.html',\n",
       " 'https://www.carid.com/ngk/laser-iridium-spark-plug-mpn-1311.html',\n",
       " 'https://www.carid.com/ngk/laser-iridium-spark-plug-mpn-94290.html',\n",
       " 'https://www.carid.com/ngk/laser-iridium-spark-plug-mpn-91924.html',\n",
       " 'https://www.carid.com/ngk/laser-iridium-spark-plug-mpn-91467.html',\n",
       " 'https://www.carid.com/ngk/laser-iridium-spark-plug-mpn-90935.html',\n",
       " 'https://www.carid.com/ngk/laser-iridium-spark-plug-mpn-93655.html',\n",
       " 'https://www.carid.com/ngk/laser-iridium-spark-plug-mpn-93593.html',\n",
       " 'https://www.carid.com/ngk/laser-iridium-spark-plug-mpn-91970.html',\n",
       " 'https://www.carid.com/ngk/laser-iridium-spark-plug-mpn-94702.html',\n",
       " 'https://www.carid.com/ngk/laser-iridium-spark-plug-mpn-92315.html',\n",
       " 'https://www.carid.com/ngk/laser-iridium-spark-plug-mpn-93227.html',\n",
       " 'https://www.carid.com/ngk/laser-iridium-spark-plug-mpn-94051.html',\n",
       " 'https://www.carid.com/ngk/laser-iridium-spark-plug-mpn-95822.html',\n",
       " 'https://www.carid.com/ngk/laser-iridium-spark-plug-mpn-95248.html',\n",
       " 'https://www.carid.com/ngk/laser-iridium-spark-plug-mpn-97932.html',\n",
       " 'https://www.carid.com/ngk/laser-iridium-spark-plug-mpn-90219.html',\n",
       " 'https://www.carid.com/ngk/laser-iridium-spark-plug-mpn-92422.html',\n",
       " 'https://www.carid.com/ngk/laser-iridium-spark-plug-mpn-95927.html?singleid=5087812355',\n",
       " 'https://www.carid.com/ngk/laser-iridium-spark-plug-mpn-95927.html?singleid=5087827358',\n",
       " 'https://www.carid.com/ngk/laser-iridium-spark-plug-mpn-96210.html?singleid=5087870347',\n",
       " 'https://www.carid.com/ngk/laser-iridium-spark-plug-mpn-96698.html?singleid=5087889357',\n",
       " 'https://www.carid.com/ngk/laser-iridium-spark-plug-mpn-95927.html?singleid=5087894355',\n",
       " 'https://www.carid.com/ngk/laser-iridium-spark-plug-mpn-91731.html?singleid=5087660506',\n",
       " 'https://www.carid.com/ngk/laser-iridium-spark-plug-mpn-95927.html?singleid=5087685496',\n",
       " 'https://www.carid.com/ngk/laser-iridium-spark-plug-mpn-90909.html?singleid=5087708502',\n",
       " 'https://www.carid.com/ngk/laser-iridium-spark-plug-mpn-2687.html',\n",
       " 'https://www.carid.com/ngk/laser-iridium-spark-plug-mpn-3106.html',\n",
       " 'https://www.carid.com/ngk/laser-iridium-spark-plug-mpn-3656.html',\n",
       " 'https://www.carid.com/ngk/laser-iridium-spark-plug-mpn-6774.html',\n",
       " 'https://www.carid.com/ngk/laser-iridium-spark-plug-mpn-90074.html',\n",
       " 'https://www.carid.com/ngk/laser-iridium-spark-plug-mpn-91215.html',\n",
       " 'https://www.carid.com/ngk/laser-iridium-spark-plug-mpn-92491.html',\n",
       " 'https://www.carid.com/ngk/laser-iridium-spark-plug-mpn-92924.html',\n",
       " 'https://www.carid.com/ngk/laser-iridium-spark-plug-mpn-93053.html',\n",
       " 'https://www.carid.com/ngk/laser-iridium-spark-plug-mpn-93135.html',\n",
       " 'https://www.carid.com/ngk/laser-iridium-spark-plug-mpn-93759.html',\n",
       " 'https://www.carid.com/ngk/laser-iridium-spark-plug-mpn-93815.html',\n",
       " 'https://www.carid.com/ngk/laser-iridium-spark-plug-mpn-94167.html',\n",
       " 'https://www.carid.com/ngk/laser-iridium-spark-plug-mpn-97218.html',\n",
       " 'https://www.carid.com/ngk/laser-iridium-spark-plug-mpn-7563.html',\n",
       " 'https://www.carid.com/ngk/laser-iridium-spark-plug-mpn-7994.html',\n",
       " 'https://www.carid.com/ngk/laser-iridium-spark-plug-mpn-1208.html',\n",
       " 'https://www.carid.com/ngk/laser-iridium-spark-plug-mpn-4294.html',\n",
       " 'https://www.carid.com/ngk/laser-iridium-spark-plug-mpn-4213.html',\n",
       " 'https://www.carid.com/ngk/laser-iridium-spark-plug-mpn-5476.html',\n",
       " 'https://www.carid.com/ngk/laser-iridium-spark-plug-mpn-5599.html',\n",
       " 'https://www.carid.com/ngk/laser-iridium-spark-plug-mpn-90117.html',\n",
       " 'https://www.carid.com/ngk/laser-iridium-spark-plug-mpn-4589.html',\n",
       " 'https://www.carid.com/ngk/laser-iridium-spark-plug-mpn-4996.html',\n",
       " 'https://www.carid.com/ngk/laser-iridium-spark-plug-mpn-5581.html',\n",
       " 'https://www.carid.com/ngk/laser-iridium-spark-plug-mpn-3107.html',\n",
       " 'https://www.carid.com/ngk/laser-iridium-spark-plug-mpn-4458.html',\n",
       " 'https://www.carid.com/ngk/laser-iridium-spark-plug-mpn-4477.html',\n",
       " 'https://www.carid.com/ngk/laser-iridium-spark-plug-mpn-5794.html',\n",
       " 'https://www.carid.com/ngk/laser-iridium-spark-plug-mpn-6215.html',\n",
       " 'https://www.carid.com/ngk/laser-iridium-spark-plug-mpn-7854.html',\n",
       " 'https://www.carid.com/ngk/laser-iridium-spark-plug-mpn-90656.html',\n",
       " 'https://www.carid.com/ngk/laser-iridium-spark-plug-mpn-95705.html',\n",
       " 'https://www.carid.com/ngk/laser-iridium-spark-plug-mpn-98376.html',\n",
       " 'https://www.carid.com/ngk/laser-iridium-spark-plug-mpn-3508.html',\n",
       " 'https://www.carid.com/ngk/laser-iridium-spark-plug-mpn-3588.html',\n",
       " 'https://www.carid.com/ngk/laser-iridium-spark-plug-mpn-4867.html',\n",
       " 'https://www.carid.com/ngk/laser-iridium-spark-plug-mpn-5648.html',\n",
       " 'https://www.carid.com/ngk/laser-iridium-spark-plug-mpn-5887.html',\n",
       " 'https://www.carid.com/ngk/laser-iridium-spark-plug-mpn-6043.html',\n",
       " 'https://www.carid.com/ngk/laser-iridium-spark-plug-mpn-6176.html',\n",
       " 'https://www.carid.com/ngk/laser-iridium-spark-plug-mpn-6507.html',\n",
       " 'https://www.carid.com/ngk/laser-iridium-spark-plug-mpn-7866.html',\n",
       " 'https://www.carid.com/ngk/laser-iridium-spark-plug-mpn-96957.html',\n",
       " 'https://www.carid.com/ngk/laser-iridium-spark-plug-mpn-127.html',\n",
       " 'https://www.carid.com/ngk/laser-iridium-spark-plug-mpn-373.html',\n",
       " 'https://www.carid.com/ngk/laser-iridium-spark-plug-mpn-5468.html',\n",
       " 'https://www.carid.com/ngk/laser-iridium-spark-plug-mpn-7505.html',\n",
       " 'https://www.carid.com/ngk/laser-iridium-spark-plug-mpn-7658.html',\n",
       " 'https://www.carid.com/ngk/laser-iridium-spark-plug-mpn-90174.html']"
      ]
     },
     "execution_count": 2,
     "metadata": {},
     "output_type": "execute_result"
    }
   ],
   "source": [
    "df_menu = pd.read_excel('./menu.xlsx', header=0)\n",
    "list_url = df_menu['Url'].to_list()\n",
    "\n",
    "print('总数量：' + str(len(list_url)))\n",
    "list_url"
   ]
  },
  {
   "cell_type": "code",
   "execution_count": 3,
   "id": "94f77980",
   "metadata": {},
   "outputs": [
    {
     "data": {
      "text/html": [
       "<div>\n",
       "<style scoped>\n",
       "    .dataframe tbody tr th:only-of-type {\n",
       "        vertical-align: middle;\n",
       "    }\n",
       "\n",
       "    .dataframe tbody tr th {\n",
       "        vertical-align: top;\n",
       "    }\n",
       "\n",
       "    .dataframe thead th {\n",
       "        text-align: right;\n",
       "    }\n",
       "</style>\n",
       "<table border=\"1\" class=\"dataframe\">\n",
       "  <thead>\n",
       "    <tr style=\"text-align: right;\">\n",
       "      <th></th>\n",
       "      <th>Url</th>\n",
       "      <th>Title</th>\n",
       "      <th>mpn</th>\n",
       "      <th>Brand</th>\n",
       "      <th>Part_Number</th>\n",
       "      <th>UPC</th>\n",
       "      <th>Vehicle</th>\n",
       "      <th>Src</th>\n",
       "      <th>status</th>\n",
       "    </tr>\n",
       "  </thead>\n",
       "  <tbody>\n",
       "  </tbody>\n",
       "</table>\n",
       "</div>"
      ],
      "text/plain": [
       "Empty DataFrame\n",
       "Columns: [Url, Title, mpn, Brand, Part_Number, UPC, Vehicle, Src, status]\n",
       "Index: []"
      ]
     },
     "execution_count": 3,
     "metadata": {},
     "output_type": "execute_result"
    }
   ],
   "source": [
    "df = pd.DataFrame(columns=['Url',\n",
    "                           'Title',\n",
    "                           'mpn',\n",
    "                           'Brand',\n",
    "                           'Part_Number',\n",
    "                           'UPC',\n",
    "                           'Vehicle',\n",
    "                           'Src',\n",
    "                           'status'])\n",
    "\n",
    "df"
   ]
  },
  {
   "cell_type": "code",
   "execution_count": 4,
   "id": "bda392a3",
   "metadata": {},
   "outputs": [],
   "source": [
    "from selenium.webdriver import ChromeOptions"
   ]
  },
  {
   "cell_type": "code",
   "execution_count": 5,
   "id": "a295b036",
   "metadata": {},
   "outputs": [],
   "source": [
    "option = ChromeOptions()\n",
    "option.add_experimental_option('useAutomationExtension', False)\n",
    "option.add_argument('blink-settings=imagesEnabled=false')\n",
    "option.add_argument('--disable-blink-features=AutomationControlled')\n",
    "option.add_argument('--disable-dev-shm-usage')\n",
    "option.add_argument('--disable-gpu')\n",
    "option.add_experimental_option('excludeSwitches', ['enable-automation'])\n",
    "# option.add_argument('--headless')\n",
    "option.add_argument('--no-sandbox')\n",
    "option.add_argument('--proxy-server=http://u431.kdltps.com:15818')\n",
    "option.add_argument('user-agent=Mozilla/5.0 (Windows NT 10.0; Win64; x64) AppleWebKit/537.36 (KHTML, like Gecko) Chrome/113.0.0.0 Safari/537.36')\n",
    "option.page_load_strategy = 'eager'"
   ]
  },
  {
   "cell_type": "code",
   "execution_count": 6,
   "id": "2c43fb8d",
   "metadata": {},
   "outputs": [],
   "source": [
    "from selenium.webdriver import Chrome\n",
    "from selenium.webdriver.chrome.service import Service"
   ]
  },
  {
   "cell_type": "code",
   "execution_count": 7,
   "id": "77b55bf9",
   "metadata": {},
   "outputs": [],
   "source": [
    "browser = Chrome(service=Service('../../../chromedriver'), options=option)\n",
    "\n",
    "browser.maximize_window()"
   ]
  },
  {
   "cell_type": "code",
   "execution_count": 8,
   "id": "b985f16d",
   "metadata": {},
   "outputs": [],
   "source": [
    "import time"
   ]
  },
  {
   "cell_type": "code",
   "execution_count": 9,
   "id": "d80800d5",
   "metadata": {},
   "outputs": [],
   "source": [
    "i = 4\n",
    "\n",
    "browser.get(list_url[i])\n",
    "\n",
    "time.sleep(5)"
   ]
  },
  {
   "cell_type": "code",
   "execution_count": 10,
   "id": "0b848774",
   "metadata": {},
   "outputs": [],
   "source": [
    "from selenium.webdriver.support import expected_conditions as EC\n",
    "from selenium.webdriver.support.wait import WebDriverWait\n",
    "from selenium.webdriver.common.by import By"
   ]
  },
  {
   "cell_type": "code",
   "execution_count": 11,
   "id": "0d17e422",
   "metadata": {},
   "outputs": [
    {
     "data": {
      "text/plain": [
       "'NGK® 6700 - Laser Iridium™ Spark Plug'"
      ]
     },
     "execution_count": 11,
     "metadata": {},
     "output_type": "execute_result"
    }
   ],
   "source": [
    "wait = WebDriverWait(browser, 60)\n",
    "wait.until(EC.presence_of_element_located((By.XPATH, '//div[@class=\"prod-title js-prod-title\"]/h1[@class=\"name\"]')))\n",
    "title = browser.find_element(by=By.XPATH, value='//div[@class=\"prod-title js-prod-title\"]/h1[@class=\"name\"]').text\n",
    "\n",
    "title"
   ]
  },
  {
   "cell_type": "code",
   "execution_count": 12,
   "id": "339fc10b",
   "metadata": {},
   "outputs": [
    {
     "data": {
      "text/plain": [
       "'1802026'"
      ]
     },
     "execution_count": 12,
     "metadata": {},
     "output_type": "execute_result"
    }
   ],
   "source": [
    "list_row = browser.find_element(by=By.XPATH, value='//div[@class=\"prod-title js-prod-title\"]').text.split('|')\n",
    "mpn = ''\n",
    "for row in list_row:\n",
    "    if row.startswith('Item # mpn'):\n",
    "        mpn = row.split('Item # mpn')[1]\n",
    "\n",
    "mpn"
   ]
  },
  {
   "cell_type": "code",
   "execution_count": 13,
   "id": "811b8bd2",
   "metadata": {},
   "outputs": [
    {
     "data": {
      "text/plain": [
       "[<selenium.webdriver.remote.webelement.WebElement (session=\"78f3360d389b01295dd1af927bfad32a\", element=\"109FB7625805E72CD3BCE0FCE593392F_element_37\")>,\n",
       " <selenium.webdriver.remote.webelement.WebElement (session=\"78f3360d389b01295dd1af927bfad32a\", element=\"109FB7625805E72CD3BCE0FCE593392F_element_38\")>,\n",
       " <selenium.webdriver.remote.webelement.WebElement (session=\"78f3360d389b01295dd1af927bfad32a\", element=\"109FB7625805E72CD3BCE0FCE593392F_element_39\")>,\n",
       " <selenium.webdriver.remote.webelement.WebElement (session=\"78f3360d389b01295dd1af927bfad32a\", element=\"109FB7625805E72CD3BCE0FCE593392F_element_40\")>]"
      ]
     },
     "execution_count": 13,
     "metadata": {},
     "output_type": "execute_result"
    }
   ],
   "source": [
    "wait.until(EC.presence_of_element_located((By.XPATH, '//div[@class=\"prod_offer\"]')))\n",
    "list_offer = browser.find_elements(by=By.XPATH, value='//div[@class=\"prod_offer\"]/div[@class=\"prod-offer-item\"]')\n",
    "\n",
    "list_offer"
   ]
  },
  {
   "cell_type": "code",
   "execution_count": 14,
   "id": "256a4e7f",
   "metadata": {},
   "outputs": [
    {
     "data": {
      "text/plain": [
       "('NGK', '6700', '087295167007')"
      ]
     },
     "execution_count": 14,
     "metadata": {},
     "output_type": "execute_result"
    }
   ],
   "source": [
    "brand = ''\n",
    "part_number = ''\n",
    "upc = ''\n",
    "for offer in list_offer:\n",
    "    if offer.text.startswith('Brand:'):\n",
    "        brand = offer.text.split('Brand:')[1]\n",
    "    elif offer.text.startswith('Part Number:'):\n",
    "        part_number = offer.text.split('Part Number:')[1]\n",
    "    elif offer.text.startswith('UPC:'):\n",
    "        upc = offer.text.split('UPC:')[1]\n",
    "        \n",
    "brand, part_number, upc"
   ]
  },
  {
   "cell_type": "code",
   "execution_count": 15,
   "id": "b7e4e236",
   "metadata": {},
   "outputs": [],
   "source": [
    "js = '''let list_expand = document.querySelectorAll('div[class=\"mmy-row\"]');\n",
    "for(let i=0; i<list_expand.length; i++) {\n",
    "        list_expand[i].getElementsByClassName('mmy-row-expand')[0].click();\n",
    "}'''\n",
    "\n",
    "browser.execute_script(js)"
   ]
  },
  {
   "cell_type": "code",
   "execution_count": 16,
   "id": "d977412a",
   "metadata": {},
   "outputs": [
    {
     "data": {
      "text/plain": [
       "'Mazda RX-8 2004-2011'"
      ]
     },
     "execution_count": 16,
     "metadata": {},
     "output_type": "execute_result"
    }
   ],
   "source": [
    "wait.until(EC.presence_of_element_located((By.XPATH, '//div[@class=\"prod-section-content\"]')))\n",
    "list_row = browser.find_elements(by=By.XPATH, value='//div[@class=\"prod-section-content\"]')\n",
    "\n",
    "list_vehicle = []\n",
    "for row in list_row:\n",
    "    if row.text.startswith('Vehicle Fitment'):\n",
    "        list_make = row.find_elements(by=By.XPATH, value='./descendant::div[@class=\"mmy-row-title pointer js-mmy-row-expand\"]')\n",
    "        for make in list_make:\n",
    "            list_vehicle += [make.text + ' ' + model_year.text for model_year in make.find_elements(by=By.XPATH, value='./following-sibling::div[@class=\"mmy-row-description\"]/descendant::div[@class=\"mmy-subrow-title\"]')]\n",
    "            \n",
    "vehicle = '\\n'.join(list_vehicle)\n",
    "\n",
    "vehicle"
   ]
  },
  {
   "cell_type": "code",
   "execution_count": 17,
   "id": "d3d21d63",
   "metadata": {},
   "outputs": [
    {
     "data": {
      "text/plain": [
       "'https://images.carid.com/ngk/items/6700.jpg'"
      ]
     },
     "execution_count": 17,
     "metadata": {},
     "output_type": "execute_result"
    }
   ],
   "source": [
    "wait.until(EC.presence_of_element_located((By.XPATH, '//a[@class=\"product-image-main\"]')))\n",
    "src = browser.find_element(by=By.XPATH, value='//a[@class=\"product-image-main\"]').get_attribute('href')\n",
    "\n",
    "src"
   ]
  },
  {
   "cell_type": "code",
   "execution_count": 18,
   "id": "523322bb",
   "metadata": {},
   "outputs": [
    {
     "data": {
      "text/html": [
       "<div>\n",
       "<style scoped>\n",
       "    .dataframe tbody tr th:only-of-type {\n",
       "        vertical-align: middle;\n",
       "    }\n",
       "\n",
       "    .dataframe tbody tr th {\n",
       "        vertical-align: top;\n",
       "    }\n",
       "\n",
       "    .dataframe thead th {\n",
       "        text-align: right;\n",
       "    }\n",
       "</style>\n",
       "<table border=\"1\" class=\"dataframe\">\n",
       "  <thead>\n",
       "    <tr style=\"text-align: right;\">\n",
       "      <th></th>\n",
       "      <th>Url</th>\n",
       "      <th>Title</th>\n",
       "      <th>mpn</th>\n",
       "      <th>Brand</th>\n",
       "      <th>Part_Number</th>\n",
       "      <th>UPC</th>\n",
       "      <th>Vehicle</th>\n",
       "      <th>Src</th>\n",
       "      <th>status</th>\n",
       "    </tr>\n",
       "  </thead>\n",
       "  <tbody>\n",
       "    <tr>\n",
       "      <th>0</th>\n",
       "      <td>https://www.carid.com/ngk/laser-iridium-spark-...</td>\n",
       "      <td>NGK® 6700 - Laser Iridium™ Spark Plug</td>\n",
       "      <td>1802026</td>\n",
       "      <td>NGK</td>\n",
       "      <td>6700</td>\n",
       "      <td>087295167007</td>\n",
       "      <td>Mazda RX-8 2004-2011</td>\n",
       "      <td>https://images.carid.com/ngk/items/6700.jpg</td>\n",
       "      <td>ok</td>\n",
       "    </tr>\n",
       "  </tbody>\n",
       "</table>\n",
       "</div>"
      ],
      "text/plain": [
       "                                                 Url  \\\n",
       "0  https://www.carid.com/ngk/laser-iridium-spark-...   \n",
       "\n",
       "                                   Title      mpn Brand Part_Number  \\\n",
       "0  NGK® 6700 - Laser Iridium™ Spark Plug  1802026   NGK        6700   \n",
       "\n",
       "            UPC               Vehicle  \\\n",
       "0  087295167007  Mazda RX-8 2004-2011   \n",
       "\n",
       "                                           Src status  \n",
       "0  https://images.carid.com/ngk/items/6700.jpg     ok  "
      ]
     },
     "execution_count": 18,
     "metadata": {},
     "output_type": "execute_result"
    }
   ],
   "source": [
    "df_temp = pd.DataFrame([{'Url': list_url[i],\n",
    "                         'Title': title,\n",
    "                         'mpn': mpn,\n",
    "                         'Brand': brand,\n",
    "                         'Part_Number': part_number,\n",
    "                         'UPC': upc,\n",
    "                         'Vehicle': vehicle,\n",
    "                         'Src': src,\n",
    "                         'status': 'ok'}])\n",
    "\n",
    "df_temp"
   ]
  },
  {
   "cell_type": "code",
   "execution_count": 20,
   "id": "f131b879",
   "metadata": {},
   "outputs": [
    {
     "data": {
      "text/html": [
       "<div>\n",
       "<style scoped>\n",
       "    .dataframe tbody tr th:only-of-type {\n",
       "        vertical-align: middle;\n",
       "    }\n",
       "\n",
       "    .dataframe tbody tr th {\n",
       "        vertical-align: top;\n",
       "    }\n",
       "\n",
       "    .dataframe thead th {\n",
       "        text-align: right;\n",
       "    }\n",
       "</style>\n",
       "<table border=\"1\" class=\"dataframe\">\n",
       "  <thead>\n",
       "    <tr style=\"text-align: right;\">\n",
       "      <th></th>\n",
       "      <th>Url</th>\n",
       "      <th>Title</th>\n",
       "      <th>mpn</th>\n",
       "      <th>Brand</th>\n",
       "      <th>Part_Number</th>\n",
       "      <th>UPC</th>\n",
       "      <th>Vehicle</th>\n",
       "      <th>Src</th>\n",
       "      <th>status</th>\n",
       "      <th>thread diameter</th>\n",
       "      <th>...</th>\n",
       "      <th>center electrode projection</th>\n",
       "      <th>ground electrode material</th>\n",
       "      <th>ground electrode type</th>\n",
       "      <th>ground electrode quantity</th>\n",
       "      <th>ground electrode resistor</th>\n",
       "      <th>ground electrode resistor value</th>\n",
       "      <th>ground electrode heat range</th>\n",
       "      <th>ground electrode torque specs</th>\n",
       "      <th>ground electrode electrode material</th>\n",
       "      <th>ground electrode nominal gap</th>\n",
       "    </tr>\n",
       "  </thead>\n",
       "  <tbody>\n",
       "    <tr>\n",
       "      <th>0</th>\n",
       "      <td>https://www.carid.com/ngk/laser-iridium-spark-...</td>\n",
       "      <td>NGK® 6700 - Laser Iridium™ Spark Plug</td>\n",
       "      <td>1802026</td>\n",
       "      <td>NGK</td>\n",
       "      <td>6700</td>\n",
       "      <td>087295167007</td>\n",
       "      <td>Mazda RX-8 2004-2011</td>\n",
       "      <td>https://images.carid.com/ngk/items/6700.jpg</td>\n",
       "      <td>ok</td>\n",
       "      <td>14 mm</td>\n",
       "      <td>...</td>\n",
       "      <td>Non-Projected</td>\n",
       "      <td>Platinum</td>\n",
       "      <td>Slant</td>\n",
       "      <td>1</td>\n",
       "      <td>Yes</td>\n",
       "      <td>5k Ohm</td>\n",
       "      <td>7</td>\n",
       "      <td>Cast Iron: 18-25.3 lb. ft. Aluminum: 18-21.6 l...</td>\n",
       "      <td>Iridium</td>\n",
       "      <td>1.1 mm</td>\n",
       "    </tr>\n",
       "  </tbody>\n",
       "</table>\n",
       "<p>1 rows × 30 columns</p>\n",
       "</div>"
      ],
      "text/plain": [
       "                                                 Url  \\\n",
       "0  https://www.carid.com/ngk/laser-iridium-spark-...   \n",
       "\n",
       "                                   Title      mpn Brand Part_Number  \\\n",
       "0  NGK® 6700 - Laser Iridium™ Spark Plug  1802026   NGK        6700   \n",
       "\n",
       "            UPC               Vehicle  \\\n",
       "0  087295167007  Mazda RX-8 2004-2011   \n",
       "\n",
       "                                           Src status thread diameter  ...  \\\n",
       "0  https://images.carid.com/ngk/items/6700.jpg     ok           14 mm  ...   \n",
       "\n",
       "  center electrode projection ground electrode material ground electrode type  \\\n",
       "0               Non-Projected                  Platinum                 Slant   \n",
       "\n",
       "  ground electrode quantity ground electrode resistor  \\\n",
       "0                         1                       Yes   \n",
       "\n",
       "  ground electrode resistor value ground electrode heat range  \\\n",
       "0                          5k Ohm                           7   \n",
       "\n",
       "                       ground electrode torque specs  \\\n",
       "0  Cast Iron: 18-25.3 lb. ft. Aluminum: 18-21.6 l...   \n",
       "\n",
       "  ground electrode electrode material ground electrode nominal gap  \n",
       "0                             Iridium                       1.1 mm  \n",
       "\n",
       "[1 rows x 30 columns]"
      ]
     },
     "execution_count": 20,
     "metadata": {},
     "output_type": "execute_result"
    }
   ],
   "source": [
    "wait.until(EC.presence_of_element_located((By.XPATH, '//table[@class=\"spec-stripped-table\"]')))\n",
    "list_row = [row.text for row in browser.find_elements(by=By.XPATH, value='//table[@class=\"spec-stripped-table\"]/tbody/tr/td')]\n",
    "\n",
    "start = ''\n",
    "for row in list_row:\n",
    "    if ':' in row:\n",
    "        name_value = row.split(': ')\n",
    "        df_temp[(start + ' ' + name_value[0]).strip().lower()] = ': '.join(name_value[1:])\n",
    "    else:\n",
    "        start = row\n",
    "        \n",
    "browser.quit()\n",
    "\n",
    "df = pd.concat([df, df_temp], ignore_index=True).fillna('')\n",
    "\n",
    "df"
   ]
  },
  {
   "cell_type": "code",
   "execution_count": null,
   "id": "7f0748c2",
   "metadata": {},
   "outputs": [],
   "source": []
  }
 ],
 "metadata": {
  "kernelspec": {
   "display_name": "Python 3 (ipykernel)",
   "language": "python",
   "name": "python3"
  },
  "language_info": {
   "codemirror_mode": {
    "name": "ipython",
    "version": 3
   },
   "file_extension": ".py",
   "mimetype": "text/x-python",
   "name": "python",
   "nbconvert_exporter": "python",
   "pygments_lexer": "ipython3",
   "version": "3.11.3"
  }
 },
 "nbformat": 4,
 "nbformat_minor": 5
}
