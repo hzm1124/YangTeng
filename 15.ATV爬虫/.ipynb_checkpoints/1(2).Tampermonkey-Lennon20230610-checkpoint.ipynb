{
 "cells": [
  {
   "cell_type": "code",
   "execution_count": 1,
   "id": "14ca4672",
   "metadata": {},
   "outputs": [],
   "source": [
    "import os"
   ]
  },
  {
   "cell_type": "code",
   "execution_count": 2,
   "id": "a3369d1a",
   "metadata": {},
   "outputs": [
    {
     "data": {
      "text/plain": [
       "8"
      ]
     },
     "execution_count": 2,
     "metadata": {},
     "output_type": "execute_result"
    }
   ],
   "source": [
    "list_file = list(os.walk('./file'))[0][2]\n",
    "if '.DS_Store' in list_file:\n",
    "   list_file.remove('.DS_Store')\n",
    "\n",
    "len(list_file)"
   ]
  },
  {
   "cell_type": "code",
   "execution_count": 3,
   "id": "19a50da8",
   "metadata": {},
   "outputs": [
    {
     "data": {
      "text/html": [
       "<div>\n",
       "<style scoped>\n",
       "    .dataframe tbody tr th:only-of-type {\n",
       "        vertical-align: middle;\n",
       "    }\n",
       "\n",
       "    .dataframe tbody tr th {\n",
       "        vertical-align: top;\n",
       "    }\n",
       "\n",
       "    .dataframe thead th {\n",
       "        text-align: right;\n",
       "    }\n",
       "</style>\n",
       "<table border=\"1\" class=\"dataframe\">\n",
       "  <thead>\n",
       "    <tr style=\"text-align: right;\">\n",
       "      <th></th>\n",
       "      <th>Part Number</th>\n",
       "      <th>Url</th>\n",
       "    </tr>\n",
       "  </thead>\n",
       "  <tbody>\n",
       "  </tbody>\n",
       "</table>\n",
       "</div>"
      ],
      "text/plain": [
       "Empty DataFrame\n",
       "Columns: [Part Number, Url]\n",
       "Index: []"
      ]
     },
     "execution_count": 3,
     "metadata": {},
     "output_type": "execute_result"
    }
   ],
   "source": [
    "import pandas as pd\n",
    "\n",
    "df = pd.DataFrame(columns=['Part Number', 'Url'])\n",
    "\n",
    "df"
   ]
  },
  {
   "cell_type": "code",
   "execution_count": 4,
   "id": "000d53d7",
   "metadata": {},
   "outputs": [],
   "source": [
    "import json"
   ]
  },
  {
   "cell_type": "code",
   "execution_count": 5,
   "id": "fbbac9bf",
   "metadata": {},
   "outputs": [
    {
     "name": "stdout",
     "output_type": "stream",
     "text": [
      "www.denniskirk.com_atv_cv-axle_brandasc.srt_100.ipp_6.pg.txt\n",
      "www.denniskirk.com_atv_cv-axle_brandasc.srt_100.ipp_8.pg.txt\n",
      "www.denniskirk.com_atv_cv-axle_brandasc.srt_100.ipp_4.pg.txt\n",
      "www.denniskirk.com_atv_cv-axle_brandasc.srt_100.ipp_2.pg.txt\n",
      "www.denniskirk.com_atv_cv-axle_brandasc.srt_100.ipp_7.pg.txt\n",
      "www.denniskirk.com_atv_cv-axle_brandasc.srt_100.ipp_5.pg.txt\n",
      "www.denniskirk.com_atv_cv-axle_brandasc.srt_100.ipp.txt\n",
      "www.denniskirk.com_atv_cv-axle_brandasc.srt_100.ipp_3.pg.txt\n"
     ]
    }
   ],
   "source": [
    "for file in list_file:\n",
    "    print(file)\n",
    "    f = open('./file/' + file)\n",
    "    list_row = f.read()[1:-1].split('},{')\n",
    "    for i in range(len(list_row)):\n",
    "        if i == 0:\n",
    "            text = json.loads(list_row[i] + '}')\n",
    "        elif i == len(list_row) - 1:\n",
    "            text = json.loads('{' + list_row[i])\n",
    "        else:\n",
    "            text = json.loads('{' + list_row[i] + '}')\n",
    "        df_temp = pd.DataFrame({'Part Number': [text['Part']],\n",
    "                                'Url': [text['Url']]})\n",
    "        df = pd.concat([df, df_temp], ignore_index=True).fillna('')\n",
    "    f.close()"
   ]
  },
  {
   "cell_type": "code",
   "execution_count": 6,
   "id": "13ae14d0",
   "metadata": {},
   "outputs": [
    {
     "data": {
      "text/html": [
       "<div>\n",
       "<style scoped>\n",
       "    .dataframe tbody tr th:only-of-type {\n",
       "        vertical-align: middle;\n",
       "    }\n",
       "\n",
       "    .dataframe tbody tr th {\n",
       "        vertical-align: top;\n",
       "    }\n",
       "\n",
       "    .dataframe thead th {\n",
       "        text-align: right;\n",
       "    }\n",
       "</style>\n",
       "<table border=\"1\" class=\"dataframe\">\n",
       "  <thead>\n",
       "    <tr style=\"text-align: right;\">\n",
       "      <th></th>\n",
       "      <th>Part Number</th>\n",
       "      <th>Url</th>\n",
       "    </tr>\n",
       "  </thead>\n",
       "  <tbody>\n",
       "    <tr>\n",
       "      <th>0</th>\n",
       "      <td>5503084</td>\n",
       "      <td>https://www.denniskirk.com/moose/oem-front-rig...</td>\n",
       "    </tr>\n",
       "    <tr>\n",
       "      <th>1</th>\n",
       "      <td>5503085</td>\n",
       "      <td>https://www.denniskirk.com/moose/oem-front-lef...</td>\n",
       "    </tr>\n",
       "    <tr>\n",
       "      <th>2</th>\n",
       "      <td>5503086</td>\n",
       "      <td>https://www.denniskirk.com/moose/oem-front-rig...</td>\n",
       "    </tr>\n",
       "    <tr>\n",
       "      <th>3</th>\n",
       "      <td>5503087</td>\n",
       "      <td>https://www.denniskirk.com/moose/oem-front-cv-...</td>\n",
       "    </tr>\n",
       "    <tr>\n",
       "      <th>4</th>\n",
       "      <td>5503088</td>\n",
       "      <td>https://www.denniskirk.com/moose/oem-front-cv-...</td>\n",
       "    </tr>\n",
       "    <tr>\n",
       "      <th>...</th>\n",
       "      <td>...</td>\n",
       "      <td>...</td>\n",
       "    </tr>\n",
       "    <tr>\n",
       "      <th>758</th>\n",
       "      <td>5501567</td>\n",
       "      <td>https://www.denniskirk.com/moose/complete-fron...</td>\n",
       "    </tr>\n",
       "    <tr>\n",
       "      <th>759</th>\n",
       "      <td>5501568</td>\n",
       "      <td>https://www.denniskirk.com/moose/complete-fron...</td>\n",
       "    </tr>\n",
       "    <tr>\n",
       "      <th>760</th>\n",
       "      <td>5501571</td>\n",
       "      <td>https://www.denniskirk.com/moose/complete-fron...</td>\n",
       "    </tr>\n",
       "    <tr>\n",
       "      <th>761</th>\n",
       "      <td>5501572</td>\n",
       "      <td>https://www.denniskirk.com/moose/complete-fron...</td>\n",
       "    </tr>\n",
       "    <tr>\n",
       "      <th>762</th>\n",
       "      <td>5501573</td>\n",
       "      <td>https://www.denniskirk.com/moose/complete-fron...</td>\n",
       "    </tr>\n",
       "  </tbody>\n",
       "</table>\n",
       "<p>763 rows × 2 columns</p>\n",
       "</div>"
      ],
      "text/plain": [
       "    Part Number                                                Url\n",
       "0       5503084  https://www.denniskirk.com/moose/oem-front-rig...\n",
       "1       5503085  https://www.denniskirk.com/moose/oem-front-lef...\n",
       "2       5503086  https://www.denniskirk.com/moose/oem-front-rig...\n",
       "3       5503087  https://www.denniskirk.com/moose/oem-front-cv-...\n",
       "4       5503088  https://www.denniskirk.com/moose/oem-front-cv-...\n",
       "..          ...                                                ...\n",
       "758     5501567  https://www.denniskirk.com/moose/complete-fron...\n",
       "759     5501568  https://www.denniskirk.com/moose/complete-fron...\n",
       "760     5501571  https://www.denniskirk.com/moose/complete-fron...\n",
       "761     5501572  https://www.denniskirk.com/moose/complete-fron...\n",
       "762     5501573  https://www.denniskirk.com/moose/complete-fron...\n",
       "\n",
       "[763 rows x 2 columns]"
      ]
     },
     "execution_count": 6,
     "metadata": {},
     "output_type": "execute_result"
    }
   ],
   "source": [
    "df.to_excel('./menu.xlsx', index=False)\n",
    "\n",
    "df"
   ]
  },
  {
   "cell_type": "code",
   "execution_count": null,
   "id": "e7c8e52b",
   "metadata": {},
   "outputs": [],
   "source": []
  }
 ],
 "metadata": {
  "kernelspec": {
   "display_name": "Python 3 (ipykernel)",
   "language": "python",
   "name": "python3"
  },
  "language_info": {
   "codemirror_mode": {
    "name": "ipython",
    "version": 3
   },
   "file_extension": ".py",
   "mimetype": "text/x-python",
   "name": "python",
   "nbconvert_exporter": "python",
   "pygments_lexer": "ipython3",
   "version": "3.11.3"
  }
 },
 "nbformat": 4,
 "nbformat_minor": 5
}
