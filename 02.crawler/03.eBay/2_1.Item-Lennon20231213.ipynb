{
 "cells": [
  {
   "cell_type": "code",
   "execution_count": 1,
   "id": "03f4a83e",
   "metadata": {},
   "outputs": [],
   "source": [
    "import pandas as pd"
   ]
  },
  {
   "cell_type": "code",
   "execution_count": 2,
   "id": "b4ca5c7e",
   "metadata": {},
   "outputs": [
    {
     "name": "stdout",
     "output_type": "stream",
     "text": [
      "总数量：16\n"
     ]
    },
    {
     "data": {
      "text/plain": [
       "['155762901180',\n",
       " '296100621647',\n",
       " '255994970628',\n",
       " '296047825721',\n",
       " '116006002472',\n",
       " '404514545375',\n",
       " '305292130776',\n",
       " '116004001370',\n",
       " '116006895637',\n",
       " '115980607197',\n",
       " '256256068752',\n",
       " '196011671641',\n",
       " '296078537034',\n",
       " '296050358917',\n",
       " '225789978106',\n",
       " '115977194794']"
      ]
     },
     "execution_count": 2,
     "metadata": {},
     "output_type": "execute_result"
    }
   ],
   "source": [
    "df = pd.read_excel('./menu.xlsx',\n",
    "                   header=0,\n",
    "                   dtype=str).fillna('')\n",
    "\n",
    "list_item_number = df['Item_Number'].tolist()\n",
    "\n",
    "print('总数量：' + str(len(list_item_number)))\n",
    "list_item_number"
   ]
  },
  {
   "cell_type": "code",
   "execution_count": 3,
   "id": "6c83b34a",
   "metadata": {},
   "outputs": [
    {
     "data": {
      "text/html": [
       "<div>\n",
       "<style scoped>\n",
       "    .dataframe tbody tr th:only-of-type {\n",
       "        vertical-align: middle;\n",
       "    }\n",
       "\n",
       "    .dataframe tbody tr th {\n",
       "        vertical-align: top;\n",
       "    }\n",
       "\n",
       "    .dataframe thead th {\n",
       "        text-align: right;\n",
       "    }\n",
       "</style>\n",
       "<table border=\"1\" class=\"dataframe\">\n",
       "  <thead>\n",
       "    <tr style=\"text-align: right;\">\n",
       "      <th></th>\n",
       "    </tr>\n",
       "  </thead>\n",
       "  <tbody>\n",
       "  </tbody>\n",
       "</table>\n",
       "</div>"
      ],
      "text/plain": [
       "Empty DataFrame\n",
       "Columns: []\n",
       "Index: []"
      ]
     },
     "execution_count": 3,
     "metadata": {},
     "output_type": "execute_result"
    }
   ],
   "source": [
    "df = pd.DataFrame()\n",
    "\n",
    "df"
   ]
  },
  {
   "cell_type": "code",
   "execution_count": 4,
   "id": "c312537e",
   "metadata": {},
   "outputs": [],
   "source": [
    "import random\n",
    "import requests\n",
    "import json"
   ]
  },
  {
   "cell_type": "code",
   "execution_count": 10,
   "id": "031e80de",
   "metadata": {},
   "outputs": [
    {
     "data": {
      "text/plain": [
       "'v^1.1#i^1#I^3#p^1#r^0#f^0#t^H4sIAAAAAAAAAOVYa4wTVRRuu9s1yEsXeS1iyiwkCJn2zkyfE1oo++wubBdal2WRkDszd3aHbWcmM1O6DUGWKqBGFE00IfBjQ0g04vuHQcQHRkMEDD4SBf+AQUHQaIQASjB4py1LdyWwoY3ZxP5p5txzzz3fd79z75kB/VVj5m1p3nJlvPUe20A/6LdZrdRYMKbKPn9Cha3GbgFFDtaB/tn9ldmKnxfoMJlQ2eVIVxVZR46+ZELW2ZwxSKQ0mVWgLumsDJNIZw2ejYWXLmFpJ2BVTTEUXkkQjkh9kAjwnBsAvwf4Am6egxBb5Rsx40qQEDge0SIDaTdPMYwI8Liup1BE1g0oG0GCBjRDUjRJMXHgZmnAAtrpD1BdhKMDabqkyNjFCYhQLl02N1cryvX2qUJdR5qBgxChSLgxFg1H6hva4gtcRbFCBR5iBjRS+tCnOkVAjg6YSKHbL6PnvNlYiueRrhOuUH6FoUHZ8I1k7iL9HNV8wOOFFPACJNKCKIplobJR0ZLQuH0epkUSSDHnyiLZkIzMnRjFbHBrEW8UntpwiEi9w/xbloIJSZSQFiQaFodXhtvbiZDEwQzj9UCSCzCIdHuRj/Rzbi/phQzD+Sgv5GhYWCQfqUDxsFXqFFmQTMJ0R5tiLEY4YzScF6qIF+wUlaNaWDTMbIr9vDf48/u6zA3N72DK6JHNPUVJTIIj93hn9gdnG4YmcSkDDUYYPpCjJ0hAVZUEYvhgTocF6fTpQaLHMFTW5Uqn084041S0bhcNAOXqXLokxvegJC7EvK9Z6326dOcJpJSDwiM8U5dYI6PiXPqwTnECcjcRCvh9HqpA+9CsQsOt/zIUQXYNLYZyFQeDNRMAgg/6vW7KG/CUozhCBX26zDwQliiZhFovMtQE5BHJY5mlkkiTBJbxiDTjFxEpeAMi6Q6IIsl5BC9JiQgBhDiOD/j/LzUyUpXHEK8ho2wyL4vEpe6GQLSpk2/taZ2fbgfd9SuaA94V0fZIM5Na7gdNqWWI7+rupCNACY60Em4Jvi4hYWbieP2yEmDWeskkNCu6gYSS4MV4RUXtSkLiM6NrgxlNaIeakYmhRAIbSgIZVtVI+Y7p8uh35EfE3WEu79X0319LtwSlm2odXaDM+ToOAFXJaV48Tl5JuhSIGw7TtMbM2Kx1VBJuCfeqowo1BplHKwn5JtOZg+zU1/FODelKSsP9tTNq9l1xpRfJ+CozNCWRQFpHaQowSzmZTBmQS6DRVtOl61uCo+yapXyAdrsp3EuUhIvPXaJrRtuBVM5DuGCodI+kkXYNfaMPWXI/Kmv9BGStH9qsVrAAzKFqwayqikcqK8bV6JKBnBIUnbrULeMXVQ05e1FGhZJmm2S5sPvF5rqahuhL89bHM1/uPGQZV/RBYWA1mDb4SWFMBTW26PsCePDmiJ2aOHU8zVA0xQA3ZpHuArU3RyupKZUPfBbJboRfV58/3Hnp5MTTj59tWi3+BcYPOlmtdktl1mpRe96acYBeXXWha+Xxp+NBbVzTO9M/6j1xerpP2Lfp5XWfpn1h8UI02XLwyJyz51oV5pWWSULjtO9/rdk8a+vHm2duDD188YPPLztONUxZtKHjqdf3e/gfxk59Y9dv1ZY9c1f98v59Gd+ObNve5979UTtw2P7M1OsrDs7ecB0J3x2bTO+bf+Lvn7bXntzW0rgLskd930wjDw1cDV6ebN20/9qbp38PH6/dtf3RDaGVc67eu/Daq/L5L2wXFx6deWTGeddS+/49F8/sCG17IV29nlt7ZWdrFhiLqJlPnqLBn9V9e+dtvjTdprx9/x+WM489/9BcYfGz8rd1WXu86vqkrbFVa9+b8FrHsXTg3BO7v8rv5T+HAVrL6hEAAA=='"
      ]
     },
     "execution_count": 10,
     "metadata": {},
     "output_type": "execute_result"
    }
   ],
   "source": [
    "import sys\n",
    "sys.path.append('../../00.module')\n",
    "import UA\n",
    "import Proxy\n",
    "\n",
    "i = 0\n",
    "\n",
    "item_number = list_item_number[i]\n",
    "\n",
    "list_appid = ['tfy6d12dc-19a5-4093-9f00-f276d950f77',\n",
    "              'picheng11-5163-4258-be21-a5629527a07',\n",
    "              'Shanghai-b2aa-4eed-82c3-b1e42e2e9179',\n",
    "              'danjidin-f8b1-4e84-adce-026944025ceb',\n",
    "              'ibay365a-b93e-46e7-8b46-6a33b716ab2a',\n",
    "              '-IBAY365-PRD-08e35c535-85b731b3']\n",
    "\n",
    "appid_index = random.randint(0, 5)\n",
    "\n",
    "url_developer = 'http://106.75.138.2/index.php/api/GetAppToken?auth=757F054AA22E1711B598A89EB276EDC193933EC8&appid=' + list_appid[appid_index]\n",
    "resp = requests.get(url_developer,\n",
    "                    proxies=Proxy.get_Proxy_Requests()).text\n",
    "token = json.loads(resp)['getapptokenResponse']['token']\n",
    "\n",
    "token"
   ]
  },
  {
   "cell_type": "code",
   "execution_count": 11,
   "id": "be90600a",
   "metadata": {},
   "outputs": [
    {
     "data": {
      "text/plain": [
       "{'Timestamp': '2023-12-13T05:59:42.845Z',\n",
       " 'Ack': 'Success',\n",
       " 'Build': '1299_CORE_APILW_19146596_R1',\n",
       " 'Version': '1299',\n",
       " 'Item': {'BestOfferEnabled': False,\n",
       "  'ItemID': '155762901180',\n",
       "  'EndTime': '2024-01-09T14:20:28.000Z',\n",
       "  'StartTime': '2023-09-09T13:20:28.000Z',\n",
       "  'ViewItemURLForNaturalSearch': 'https://www.ebay.com/itm/Engine-Water-Pump-GMB-125-1200-/155762901180',\n",
       "  'ListingType': 'FixedPriceItem',\n",
       "  'Location': 'Santa Fe Springs, California',\n",
       "  'PaymentMethods': [],\n",
       "  'PictureURL': ['https://i.ebayimg.com/images/g/ZO0AAOSwWyRi7vch/s-l1200.jpg',\n",
       "   'https://i.ebayimg.com/images/g/uEAAAOSwJ5ti7CQV/s-l1600.jpg',\n",
       "   'https://i.ebayimg.com/images/g/jEUAAOSwvqli7vci/s-l1600.jpg',\n",
       "   'https://i.ebayimg.com/images/g/RgoAAOSwnBNi7s9q/s-l1600.jpg'],\n",
       "  'PostalCode': '906**',\n",
       "  'PrimaryCategoryID': '33604',\n",
       "  'PrimaryCategoryName': 'eBay Motors:Parts & Accessories:Car & Truck Parts & Accessories:Engine Cooling Components:Water Pumps',\n",
       "  'Quantity': 10,\n",
       "  'Seller': {'UserID': 'aladdinautoparts2',\n",
       "   'FeedbackRatingStar': 'Red',\n",
       "   'FeedbackScore': 2504,\n",
       "   'PositiveFeedbackPercent': 98.6,\n",
       "   'TopRatedSeller': True},\n",
       "  'BidCount': 0,\n",
       "  'ConvertedCurrentPrice': {'Value': 85.69, 'CurrencyID': 'USD'},\n",
       "  'CurrentPrice': {'Value': 85.69, 'CurrencyID': 'USD'},\n",
       "  'ListingStatus': 'Active',\n",
       "  'QuantitySold': 0,\n",
       "  'ShipToLocations': ['US'],\n",
       "  'Site': 'eBayMotors',\n",
       "  'TimeLeft': 'P27DT8H20M46S',\n",
       "  'Title': 'Engine Water Pump GMB 125-1200',\n",
       "  'ItemSpecifics': {'NameValueList': [{'Name': 'Manufacturer Warranty',\n",
       "     'Value': ['1 Year']},\n",
       "    {'Name': 'Quantity', 'Value': ['1']},\n",
       "    {'Name': 'SKU', 'Value': ['GMB:125-1200']},\n",
       "    {'Name': 'Manufacturer Part Number', 'Value': ['125-1200']},\n",
       "    {'Name': 'Brand', 'Value': ['GMB']},\n",
       "    {'Name': 'MPN', 'Value': ['1251200']}]},\n",
       "  'Subtitle': 'Water Pump and Related Components',\n",
       "  'PrimaryCategoryIDPath': '6000:6028:6030:33599:33604',\n",
       "  'Storefront': {'StoreURL': 'https://www.ebay.com/str/aladdinautoparts2',\n",
       "   'StoreName': 'aladdinautoparts2'},\n",
       "  'Country': 'US',\n",
       "  'ReturnPolicy': {'ReturnsWithin': '30 Days',\n",
       "   'ReturnsAccepted': 'Returns Accepted',\n",
       "   'ShippingCostPaidBy': 'Buyer'},\n",
       "  'ProductID': {'Value': '174441287', 'Type': 'Reference'},\n",
       "  'AutoPay': True,\n",
       "  'PaymentAllowedSite': [],\n",
       "  'IntegratedMerchantCreditCardEnabled': False,\n",
       "  'HandlingTime': 2,\n",
       "  'ConditionID': 1000,\n",
       "  'ConditionDisplayName': 'New',\n",
       "  'GlobalShipping': False,\n",
       "  'QuantitySoldByPickupInStore': 0,\n",
       "  'SKU': '174441287',\n",
       "  'NewBestOffer': False}}"
      ]
     },
     "execution_count": 11,
     "metadata": {},
     "output_type": "execute_result"
    }
   ],
   "source": [
    "ua = UA.get_User_Agent_Requests()\n",
    "ua['X-EBAY-API-IAF-TOKEN'] = token\n",
    "resp = requests.get('https://open.api.ebay.com/shopping?callname=GetSingleItem&appid=' + list_appid[appid_index] + '&responseencoding=JSON&siteid=0&version=967&IncludeSelector=Details,Compatibility,ItemSpecifics&ItemID=' + item_number,\n",
    "                    headers=ua,\n",
    "                    proxies=Proxy.get_Proxy_Requests()).text\n",
    "\n",
    "info = json.loads(resp)\n",
    "if info['Ack'] != 'Success':\n",
    "    print('fuck')\n",
    "    \n",
    "info"
   ]
  },
  {
   "cell_type": "code",
   "execution_count": 12,
   "id": "cb5ae339",
   "metadata": {},
   "outputs": [
    {
     "data": {
      "text/plain": [
       "'Engine Water Pump GMB 125-1200'"
      ]
     },
     "execution_count": 12,
     "metadata": {},
     "output_type": "execute_result"
    }
   ],
   "source": [
    "title = info['Item']['Title'].strip()\n",
    "\n",
    "title"
   ]
  },
  {
   "cell_type": "code",
   "execution_count": 13,
   "id": "3bcb25a6",
   "metadata": {},
   "outputs": [
    {
     "data": {
      "text/plain": [
       "'USD 85.69'"
      ]
     },
     "execution_count": 13,
     "metadata": {},
     "output_type": "execute_result"
    }
   ],
   "source": [
    "price = info['Item']['CurrentPrice']['CurrencyID'].strip() + ' ' + str(info['Item']['CurrentPrice']['Value'])\n",
    "\n",
    "price"
   ]
  },
  {
   "cell_type": "code",
   "execution_count": 14,
   "id": "a5d7e965",
   "metadata": {},
   "outputs": [
    {
     "data": {
      "text/plain": [
       "0"
      ]
     },
     "execution_count": 14,
     "metadata": {},
     "output_type": "execute_result"
    }
   ],
   "source": [
    "sold = info['Item']['QuantitySold']\n",
    "\n",
    "sold"
   ]
  },
  {
   "cell_type": "code",
   "execution_count": 15,
   "id": "82843eb0",
   "metadata": {},
   "outputs": [
    {
     "data": {
      "text/plain": [
       "''"
      ]
     },
     "execution_count": 15,
     "metadata": {},
     "output_type": "execute_result"
    }
   ],
   "source": [
    "if 'ItemCompatibilityList' in info['Item']:\n",
    "    vehicle = info['Item']['ItemCompatibilityList']['Compatibility']\n",
    "else:\n",
    "    vehicle = ''\n",
    "    \n",
    "vehicle"
   ]
  },
  {
   "cell_type": "code",
   "execution_count": null,
   "id": "b6a8aa44",
   "metadata": {},
   "outputs": [],
   "source": [
    "dict_vehicle = {}\n",
    "for list_name_value in vehicle:\n",
    "    make = ''\n",
    "    model = ''\n",
    "    year = ''\n",
    "    for name_value in list_name_value['NameValueList']:\n",
    "        if 'Name' in name_value and 'Make' in name_value['Name']:\n",
    "            make = name_value['Value'][0].strip()\n",
    "        elif 'Name' in name_value and 'Model' in name_value['Name']:\n",
    "            model = name_value['Value'][0].strip()\n",
    "        elif 'Name' in name_value and 'Year' in name_value['Name']:\n",
    "            year = int(name_value['Value'][0].strip())\n",
    "            \n",
    "    if make not in dict_vehicle:\n",
    "        dict_vehicle[make] = {model: [year]}\n",
    "    else:\n",
    "        if model not in dict_vehicle[make]:\n",
    "            dict_vehicle[make][model] = [year]\n",
    "        else:\n",
    "            dict_vehicle[make][model].append(year)\n",
    "            \n",
    "dict_vehicle\n",
    "\n",
    "# dict_vehicle = {}\n",
    "# for list_name_value in vehicle:\n",
    "#     make = ''\n",
    "#     model = ''\n",
    "#     engine = ''\n",
    "#     year = ''\n",
    "#     for name_value in list_name_value['NameValueList']:\n",
    "#         if 'Name' in name_value and 'Make' in name_value['Name']:\n",
    "#             make = name_value['Value'][0].strip()\n",
    "#         elif 'Name' in name_value and 'Model' in name_value['Name']:\n",
    "#             model = name_value['Value'][0].strip()\n",
    "#         elif 'Name' in name_value and 'Engine' in name_value['Name']:\n",
    "#             engine = name_value['Value'][0].split(' ')[0].strip()\n",
    "#         elif 'Name' in name_value and 'Year' in name_value['Name']:\n",
    "#             year = int(name_value['Value'][0].strip())\n",
    "\n",
    "#     if make not in dict_vehicle:\n",
    "#         dict_vehicle[make] = {model: {engine: [year]}}\n",
    "#     else:\n",
    "#         if model not in dict_vehicle[make]:\n",
    "#             dict_vehicle[make][model] = {engine: [year]}\n",
    "#         else:\n",
    "#             if engine not in dict_vehicle[make][model]:\n",
    "#                 dict_vehicle[make][model][engine] = [year]\n",
    "#             else:\n",
    "#                 dict_vehicle[make][model][engine].append(year)\n",
    "                \n",
    "# dict_vehicle"
   ]
  },
  {
   "cell_type": "code",
   "execution_count": null,
   "id": "4292dd41",
   "metadata": {},
   "outputs": [],
   "source": [
    "list_vehicle = []\n",
    "for make in dict_vehicle:\n",
    "    for model in dict_vehicle[make]:\n",
    "        year_max = max(dict_vehicle[make][model])\n",
    "        year_min = min(dict_vehicle[make][model])\n",
    "        if year_max == year_min:\n",
    "            list_vehicle.append(make + ' ' + model + ' ' + str(year_min))\n",
    "        else:\n",
    "            list_vehicle.append(make + ' ' + model + ' ' + str(year_min) + '-' + str(year_max))\n",
    "            \n",
    "vehicle = '\\n'.join(list_vehicle)\n",
    "\n",
    "print(vehicle)\n",
    "\n",
    "# list_vehicle = []\n",
    "# for make in dict_vehicle:\n",
    "#     for model in dict_vehicle[make]:\n",
    "#         for engine in dict_vehicle[make][model]: \n",
    "#             year_max = max(dict_vehicle[make][model][engine])\n",
    "#             year_min = min(dict_vehicle[make][model][engine])\n",
    "#             if year_max == year_min:\n",
    "#                 list_vehicle.append(make + ' ' + model + ' ' + str(year_min) + ' ' + engine)\n",
    "#             else:\n",
    "#                 list_vehicle.append(make + ' ' + model + ' ' + str(year_min) + '-' + str(year_max) + ' ' + engine)\n",
    "\n",
    "# vehicle = '\\n'.join(list_vehicle)\n",
    "\n",
    "# print(vehicle)"
   ]
  },
  {
   "cell_type": "code",
   "execution_count": null,
   "id": "79c50105",
   "metadata": {},
   "outputs": [],
   "source": [
    "if 'GalleryURL' in info['Item']:\n",
    "    src = info['Item']['GalleryURL']\n",
    "elif 'PictureURL' in info['Item']:\n",
    "    if len(info['Item']['PictureURL']) == 0:\n",
    "        src = ''\n",
    "    else:\n",
    "        src = info['Item']['PictureURL'][0]\n",
    "        \n",
    "src"
   ]
  },
  {
   "cell_type": "code",
   "execution_count": null,
   "id": "be09960c",
   "metadata": {},
   "outputs": [],
   "source": [
    "if 'ItemSpecifics' in info['Item']:\n",
    "    specification = info['Item']['ItemSpecifics']['NameValueList']\n",
    "else:\n",
    "    specification = ''\n",
    "    \n",
    "specification"
   ]
  },
  {
   "cell_type": "code",
   "execution_count": null,
   "id": "14481a32",
   "metadata": {},
   "outputs": [],
   "source": [
    "df_temp = pd.DataFrame([{'status': 'ok',\n",
    "                         '序号': '',\n",
    "                         'Item_Number': item_number,\n",
    "                         'Title': title,\n",
    "                         'Price': price,\n",
    "                         'Sold': sold,\n",
    "                         'Vehicle': vehicle,\n",
    "                         'Pic': '',\n",
    "                         'Url': 'https://www.ebay.com/itm/' + item_number,\n",
    "                         'Src': src}])\n",
    "\n",
    "for name_value in specification:\n",
    "    df_temp[name_value['Name'].strip().lower()] = ';'.join(name_value['Value']).strip()\n",
    "    \n",
    "df = pd.concat([df, df_temp], ignore_index=True).fillna('')\n",
    "\n",
    "df"
   ]
  },
  {
   "cell_type": "code",
   "execution_count": null,
   "id": "908327c2",
   "metadata": {},
   "outputs": [],
   "source": []
  }
 ],
 "metadata": {
  "kernelspec": {
   "display_name": "Python 3 (ipykernel)",
   "language": "python",
   "name": "python3"
  },
  "language_info": {
   "codemirror_mode": {
    "name": "ipython",
    "version": 3
   },
   "file_extension": ".py",
   "mimetype": "text/x-python",
   "name": "python",
   "nbconvert_exporter": "python",
   "pygments_lexer": "ipython3",
   "version": "3.11.3"
  }
 },
 "nbformat": 4,
 "nbformat_minor": 5
}
