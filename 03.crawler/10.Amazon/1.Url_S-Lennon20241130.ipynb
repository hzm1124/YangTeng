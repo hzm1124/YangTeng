{
 "cells": [
  {
   "cell_type": "code",
   "execution_count": 1,
   "id": "04fd32ae-daca-4db8-95c0-1ca07b9a7033",
   "metadata": {},
   "outputs": [],
   "source": [
    "from selenium.webdriver import ChromeOptions\n",
    "\n",
    "import sys\n",
    "sys.path.append('../00.Tools')\n",
    "from crawler_configuration import get_header, get_proxy\n",
    "\n",
    "from selenium.webdriver import Chrome\n",
    "from selenium.webdriver.chrome.service import Service\n",
    "\n",
    "import time\n",
    "\n",
    "# = = =  = = =  = = =\n",
    "\n",
    "from urllib.parse import urlparse, parse_qs, urlencode\n",
    "\n",
    "# = = =  = = =  = = =\n",
    "\n",
    "import pandas as pd"
   ]
  },
  {
   "cell_type": "code",
   "execution_count": 2,
   "id": "683123d4-59ce-4401-a4a0-09ca203ed98b",
   "metadata": {},
   "outputs": [
    {
     "name": "stdout",
     "output_type": "stream",
     "text": [
      "1\n"
     ]
    },
    {
     "data": {
      "text/plain": [
       "<selenium.webdriver.chrome.webdriver.WebDriver (session=\"273babdeae40ab0bf38b8ddec24be2bc\")>"
      ]
     },
     "execution_count": 2,
     "metadata": {},
     "output_type": "execute_result"
    }
   ],
   "source": [
    "option = ChromeOptions()\n",
    "option.add_experimental_option('useAutomationExtension', False)\n",
    "option.add_experimental_option('excludeSwitches', ['enable-automation'])\n",
    "option.add_argument('--disable-blink-features=AutomationControlled')\n",
    "option.add_argument('--disable-dev-shm-usage')\n",
    "option.add_argument('--disable-gpu')\n",
    "option.add_argument('--no-sandbox')\n",
    "# option.add_argument('--headless=new')\n",
    "# option.add_argument('blink-settings=imagesEnabled=false')\n",
    "option.add_argument(get_header(method='selenium'))\n",
    "option.add_argument(get_proxy(method='selenium'))\n",
    "option.page_load_strategy = 'normal'\n",
    "\n",
    "driver = Chrome(service=Service('../chromedriver'), options=option)\n",
    "driver.maximize_window()\n",
    "\n",
    "# = = =  = = =  = = =\n",
    "\n",
    "crawler_retry = 0\n",
    "while True:\n",
    "    crawler_retry += 1\n",
    "    print(crawler_retry)\n",
    "    try:\n",
    "        driver.get('https://www.amazon.com/?language=en_US')\n",
    "        time.sleep(1)\n",
    "        driver.execute_script(\"window.scrollTo(0, 0.2 * document.body.scrollHeight);\")\n",
    "        time.sleep(1.5)\n",
    "        driver.execute_script(\"window.scrollTo(0, 0.45 * document.body.scrollHeight);\")\n",
    "        time.sleep(0.7)\n",
    "        driver.execute_script(\"window.scrollTo(0, 0.7 * document.body.scrollHeight);\")\n",
    "        time.sleep(1.2)\n",
    "        driver.execute_script(\"window.scrollTo(0, 0.95 * document.body.scrollHeight);\")\n",
    "        time.sleep(1)\n",
    "        driver.execute_script(\"window.scrollTo(0, 0);\")\n",
    "\n",
    "        break\n",
    "    except KeyboardInterrupt:\n",
    "        break\n",
    "    except:\n",
    "        time.sleep(3)\n",
    "        continue\n",
    "\n",
    "driver"
   ]
  },
  {
   "cell_type": "code",
   "execution_count": 3,
   "id": "2565c290-4ff7-4f83-ade6-da35107cf326",
   "metadata": {},
   "outputs": [
    {
     "data": {
      "text/plain": [
       "[]"
      ]
     },
     "execution_count": 3,
     "metadata": {},
     "output_type": "execute_result"
    }
   ],
   "source": [
    "list_url = []\n",
    "\n",
    "list_url"
   ]
  },
  {
   "cell_type": "markdown",
   "id": "a033c0fb-7401-4be5-8864-f31444e879d4",
   "metadata": {},
   "source": [
    "# 1. BSR"
   ]
  },
  {
   "cell_type": "code",
   "execution_count": 6,
   "id": "e6f450b2-92c0-47b6-a091-4c456a1c6444",
   "metadata": {},
   "outputs": [
    {
     "data": {
      "text/plain": [
       "(50, 'https://www.amazon.com/dp/B0CNJZ51QG')"
      ]
     },
     "execution_count": 6,
     "metadata": {},
     "output_type": "execute_result"
    }
   ],
   "source": [
    "from bs4 import BeautifulSoup\n",
    "from lxml import etree\n",
    "\n",
    "import json\n",
    "\n",
    "soup = BeautifulSoup(driver.page_source, 'lxml')\n",
    "html = etree.HTML(str(soup))\n",
    "\n",
    "list_dict = json.loads(html.xpath('//div[@data-client-recs-list]/@data-client-recs-list')[0])\n",
    "list_url_temp = [f'''https://www.amazon.com/dp/{dict_['id']}''' for dict_ in list_dict]\n",
    "\n",
    "len(list_url_temp), list_url_temp[-1]"
   ]
  },
  {
   "cell_type": "code",
   "execution_count": 7,
   "id": "aa3a4cc8-e2e9-48ef-8c6b-a113e9481a45",
   "metadata": {},
   "outputs": [
    {
     "data": {
      "text/plain": [
       "100"
      ]
     },
     "execution_count": 7,
     "metadata": {},
     "output_type": "execute_result"
    }
   ],
   "source": [
    "list_url.extend(list_url_temp)\n",
    "\n",
    "len(list_url)"
   ]
  },
  {
   "cell_type": "markdown",
   "id": "8321b2c9-7664-423f-be3d-9f0979ddfa0e",
   "metadata": {},
   "source": [
    "# 2. temp"
   ]
  },
  {
   "cell_type": "code",
   "execution_count": null,
   "id": "2797eda2-eda2-45ec-838b-593943c50e61",
   "metadata": {},
   "outputs": [],
   "source": [
    "from bs4 import BeautifulSoup\n",
    "from lxml import etree\n",
    "\n",
    "import json\n",
    "\n",
    "soup = BeautifulSoup(driver.page_source, 'lxml')\n",
    "html = etree.HTML(str(soup))\n",
    "\n",
    "list_url_temp = [f'https://www.amazon.com{href.strip()}' for href in html.xpath('//li[@data-testid=\"product-grid-item\"]/div/a/@href')]\n",
    "\n",
    "len(list_url_temp), list_url_temp[-1]"
   ]
  },
  {
   "cell_type": "code",
   "execution_count": null,
   "id": "d0d9ff94-ea31-4bda-b1be-8ebbceb39468",
   "metadata": {},
   "outputs": [],
   "source": [
    "list_url.extend(list_url_temp)\n",
    "\n",
    "len(list_url)"
   ]
  },
  {
   "cell_type": "markdown",
   "id": "1c8349d9-e9f4-4a6f-8810-49ed0e5c01a8",
   "metadata": {},
   "source": [
    "# = = =  = = =  = = ="
   ]
  },
  {
   "cell_type": "code",
   "execution_count": 8,
   "id": "b1d2fc38-cc14-40c1-96f7-b92d7faaa3b0",
   "metadata": {
    "scrolled": true
   },
   "outputs": [
    {
     "name": "stdout",
     "output_type": "stream",
     "text": [
      "Data Outputting...\n",
      "Output Finished !\n",
      "\n"
     ]
    },
    {
     "data": {
      "text/html": [
       "<div>\n",
       "<style scoped>\n",
       "    .dataframe tbody tr th:only-of-type {\n",
       "        vertical-align: middle;\n",
       "    }\n",
       "\n",
       "    .dataframe tbody tr th {\n",
       "        vertical-align: top;\n",
       "    }\n",
       "\n",
       "    .dataframe thead th {\n",
       "        text-align: right;\n",
       "    }\n",
       "</style>\n",
       "<table border=\"1\" class=\"dataframe\">\n",
       "  <thead>\n",
       "    <tr style=\"text-align: right;\">\n",
       "      <th></th>\n",
       "      <th>No</th>\n",
       "      <th>Url</th>\n",
       "    </tr>\n",
       "  </thead>\n",
       "  <tbody>\n",
       "    <tr>\n",
       "      <th>0</th>\n",
       "      <td>1</td>\n",
       "      <td>https://www.amazon.com/dp/B08W98H7H7</td>\n",
       "    </tr>\n",
       "    <tr>\n",
       "      <th>1</th>\n",
       "      <td>2</td>\n",
       "      <td>https://www.amazon.com/dp/B093S8XVSL</td>\n",
       "    </tr>\n",
       "    <tr>\n",
       "      <th>2</th>\n",
       "      <td>3</td>\n",
       "      <td>https://www.amazon.com/dp/B08W9MX59Y</td>\n",
       "    </tr>\n",
       "    <tr>\n",
       "      <th>3</th>\n",
       "      <td>4</td>\n",
       "      <td>https://www.amazon.com/dp/B08TTC1HQ3</td>\n",
       "    </tr>\n",
       "    <tr>\n",
       "      <th>4</th>\n",
       "      <td>5</td>\n",
       "      <td>https://www.amazon.com/dp/B0BPCP4XQN</td>\n",
       "    </tr>\n",
       "    <tr>\n",
       "      <th>...</th>\n",
       "      <td>...</td>\n",
       "      <td>...</td>\n",
       "    </tr>\n",
       "    <tr>\n",
       "      <th>95</th>\n",
       "      <td>96</td>\n",
       "      <td>https://www.amazon.com/dp/B0BT22K3G7</td>\n",
       "    </tr>\n",
       "    <tr>\n",
       "      <th>96</th>\n",
       "      <td>97</td>\n",
       "      <td>https://www.amazon.com/dp/B0BH4ZXNKP</td>\n",
       "    </tr>\n",
       "    <tr>\n",
       "      <th>97</th>\n",
       "      <td>98</td>\n",
       "      <td>https://www.amazon.com/dp/B0BY213GX3</td>\n",
       "    </tr>\n",
       "    <tr>\n",
       "      <th>98</th>\n",
       "      <td>99</td>\n",
       "      <td>https://www.amazon.com/dp/B095C2ZSK1</td>\n",
       "    </tr>\n",
       "    <tr>\n",
       "      <th>99</th>\n",
       "      <td>100</td>\n",
       "      <td>https://www.amazon.com/dp/B0CNJZ51QG</td>\n",
       "    </tr>\n",
       "  </tbody>\n",
       "</table>\n",
       "<p>100 rows × 2 columns</p>\n",
       "</div>"
      ],
      "text/plain": [
       "     No                                   Url\n",
       "0     1  https://www.amazon.com/dp/B08W98H7H7\n",
       "1     2  https://www.amazon.com/dp/B093S8XVSL\n",
       "2     3  https://www.amazon.com/dp/B08W9MX59Y\n",
       "3     4  https://www.amazon.com/dp/B08TTC1HQ3\n",
       "4     5  https://www.amazon.com/dp/B0BPCP4XQN\n",
       "..  ...                                   ...\n",
       "95   96  https://www.amazon.com/dp/B0BT22K3G7\n",
       "96   97  https://www.amazon.com/dp/B0BH4ZXNKP\n",
       "97   98  https://www.amazon.com/dp/B0BY213GX3\n",
       "98   99  https://www.amazon.com/dp/B095C2ZSK1\n",
       "99  100  https://www.amazon.com/dp/B0CNJZ51QG\n",
       "\n",
       "[100 rows x 2 columns]"
      ]
     },
     "execution_count": 8,
     "metadata": {},
     "output_type": "execute_result"
    }
   ],
   "source": [
    "driver.quit()\n",
    "\n",
    "print('Data Outputting...')\n",
    "if list_url:\n",
    "    df = pd.DataFrame({'No': range(1, len(list_url) + 1),\n",
    "                       'Url': list_url})\n",
    "    df.to_excel('./file/1.url.xlsx', index=False)\n",
    "print('Output Finished !')\n",
    "print()\n",
    "\n",
    "df"
   ]
  },
  {
   "cell_type": "code",
   "execution_count": null,
   "id": "65a73d55-f26c-466a-89d7-529fb5ec190b",
   "metadata": {},
   "outputs": [],
   "source": []
  }
 ],
 "metadata": {
  "kernelspec": {
   "display_name": "Python 3 (ipykernel)",
   "language": "python",
   "name": "python3"
  },
  "language_info": {
   "codemirror_mode": {
    "name": "ipython",
    "version": 3
   },
   "file_extension": ".py",
   "mimetype": "text/x-python",
   "name": "python",
   "nbconvert_exporter": "python",
   "pygments_lexer": "ipython3",
   "version": "3.12.7"
  }
 },
 "nbformat": 4,
 "nbformat_minor": 5
}
