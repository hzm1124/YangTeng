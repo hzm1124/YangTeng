{
 "cells": [
  {
   "cell_type": "code",
   "execution_count": 1,
   "id": "bc43eeb9-298f-4060-a29f-6cfeca9ef980",
   "metadata": {},
   "outputs": [],
   "source": [
    "import os\n",
    "\n",
    "# = = = = = = = = = = = = = = =\n",
    "\n",
    "import pandas as pd\n",
    "\n",
    "# = = = = = = = = = = = = = = =\n",
    "\n",
    "import requests\n",
    "\n",
    "import sys\n",
    "sys.path.append('../00.Tools')\n",
    "from crawler_configuration import get_header, get_proxy\n",
    "\n",
    "from bs4 import BeautifulSoup\n",
    "from lxml import etree\n",
    "\n",
    "# = = = = = = = = = = = = = = =\n",
    "\n",
    "import json"
   ]
  },
  {
   "cell_type": "code",
   "execution_count": 2,
   "id": "1549e972-a339-4b58-be42-48542af8a6b2",
   "metadata": {},
   "outputs": [
    {
     "data": {
      "text/plain": [
       "'crawler_1.xlsx'"
      ]
     },
     "execution_count": 2,
     "metadata": {},
     "output_type": "execute_result"
    }
   ],
   "source": [
    "directory_in = './file/1.url'\n",
    "\n",
    "list_file = [file for file in sorted(os.listdir(directory_in)) if file not in ['.DS_Store'] and os.path.isfile(f'{directory_in}/{file}')]\n",
    "file = list_file[0]\n",
    "\n",
    "file"
   ]
  },
  {
   "cell_type": "code",
   "execution_count": 3,
   "id": "e54a1949-c728-4502-91a4-65957f9a0d43",
   "metadata": {},
   "outputs": [
    {
     "name": "stdout",
     "output_type": "stream",
     "text": [
      "总数量：10\n",
      "\n"
     ]
    },
    {
     "data": {
      "text/html": [
       "<div>\n",
       "<style scoped>\n",
       "    .dataframe tbody tr th:only-of-type {\n",
       "        vertical-align: middle;\n",
       "    }\n",
       "\n",
       "    .dataframe tbody tr th {\n",
       "        vertical-align: top;\n",
       "    }\n",
       "\n",
       "    .dataframe thead th {\n",
       "        text-align: right;\n",
       "    }\n",
       "</style>\n",
       "<table border=\"1\" class=\"dataframe\">\n",
       "  <thead>\n",
       "    <tr style=\"text-align: right;\">\n",
       "      <th></th>\n",
       "      <th>No</th>\n",
       "      <th>Url</th>\n",
       "    </tr>\n",
       "  </thead>\n",
       "  <tbody>\n",
       "    <tr>\n",
       "      <th>0</th>\n",
       "      <td>1</td>\n",
       "      <td>https://www.cardone.com/product/windshield-wip...</td>\n",
       "    </tr>\n",
       "    <tr>\n",
       "      <th>1</th>\n",
       "      <td>2</td>\n",
       "      <td>https://www.cardone.com/product/windshield-wip...</td>\n",
       "    </tr>\n",
       "    <tr>\n",
       "      <th>2</th>\n",
       "      <td>3</td>\n",
       "      <td>https://www.cardone.com/product/windshield-wip...</td>\n",
       "    </tr>\n",
       "    <tr>\n",
       "      <th>3</th>\n",
       "      <td>4</td>\n",
       "      <td>https://www.cardone.com/product/windshield-wip...</td>\n",
       "    </tr>\n",
       "    <tr>\n",
       "      <th>4</th>\n",
       "      <td>5</td>\n",
       "      <td>https://www.cardone.com/product/windshield-wip...</td>\n",
       "    </tr>\n",
       "    <tr>\n",
       "      <th>5</th>\n",
       "      <td>6</td>\n",
       "      <td>https://www.cardone.com/product/windshield-wip...</td>\n",
       "    </tr>\n",
       "    <tr>\n",
       "      <th>6</th>\n",
       "      <td>7</td>\n",
       "      <td>https://www.cardone.com/product/windshield-wip...</td>\n",
       "    </tr>\n",
       "    <tr>\n",
       "      <th>7</th>\n",
       "      <td>8</td>\n",
       "      <td>https://www.cardone.com/product/windshield-wip...</td>\n",
       "    </tr>\n",
       "    <tr>\n",
       "      <th>8</th>\n",
       "      <td>9</td>\n",
       "      <td>https://www.cardone.com/product/windshield-wip...</td>\n",
       "    </tr>\n",
       "    <tr>\n",
       "      <th>9</th>\n",
       "      <td>10</td>\n",
       "      <td>https://www.cardone.com/product/windshield-wip...</td>\n",
       "    </tr>\n",
       "  </tbody>\n",
       "</table>\n",
       "</div>"
      ],
      "text/plain": [
       "   No                                                Url\n",
       "0   1  https://www.cardone.com/product/windshield-wip...\n",
       "1   2  https://www.cardone.com/product/windshield-wip...\n",
       "2   3  https://www.cardone.com/product/windshield-wip...\n",
       "3   4  https://www.cardone.com/product/windshield-wip...\n",
       "4   5  https://www.cardone.com/product/windshield-wip...\n",
       "5   6  https://www.cardone.com/product/windshield-wip...\n",
       "6   7  https://www.cardone.com/product/windshield-wip...\n",
       "7   8  https://www.cardone.com/product/windshield-wip...\n",
       "8   9  https://www.cardone.com/product/windshield-wip...\n",
       "9  10  https://www.cardone.com/product/windshield-wip..."
      ]
     },
     "execution_count": 3,
     "metadata": {},
     "output_type": "execute_result"
    }
   ],
   "source": [
    "list_dict_correct, list_series_error, df_input = [], [], pd.read_excel(f'{directory_in}/{file}',\n",
    "                                                                       header=0,\n",
    "                                                                       dtype=str).fillna('')\n",
    "\n",
    "df_input['No'] = df_input['No'].astype(int)\n",
    "\n",
    "count_remain = len(df_input)\n",
    "\n",
    "print(f'总数量：{count_remain}')\n",
    "print()\n",
    "df_input"
   ]
  },
  {
   "cell_type": "code",
   "execution_count": 4,
   "id": "42130183-3b93-4078-ae77-346b4df4e38c",
   "metadata": {},
   "outputs": [
    {
     "data": {
      "text/plain": [
       "(0,\n",
       " No                                                     1\n",
       " Url    https://www.cardone.com/product/windshield-wip...\n",
       " Name: 0, dtype: object)"
      ]
     },
     "execution_count": 4,
     "metadata": {},
     "output_type": "execute_result"
    }
   ],
   "source": [
    "(crawler_index, crawler_series) = next(df_input.iterrows())\n",
    "\n",
    "crawler_index, crawler_series"
   ]
  },
  {
   "cell_type": "code",
   "execution_count": 5,
   "id": "d1573928-cf3f-4364-b75a-2fd32bac0395",
   "metadata": {},
   "outputs": [
    {
     "name": "stdout",
     "output_type": "stream",
     "text": [
      "1\n"
     ]
    },
    {
     "data": {
      "text/plain": [
       "'Windshield Wiper Motor - 40-1000'"
      ]
     },
     "execution_count": 5,
     "metadata": {},
     "output_type": "execute_result"
    }
   ],
   "source": [
    "import time\n",
    "\n",
    "count_retry = 0\n",
    "while True:\n",
    "    count_retry += 1\n",
    "    print(count_retry)\n",
    "    try:\n",
    "        url_request = crawler_series['Url']\n",
    "\n",
    "        resp = requests.get(url_request,\n",
    "                            headers=get_header(),\n",
    "                            proxies=get_proxy(),\n",
    "                            timeout=(5, 15))\n",
    "\n",
    "        if resp.status_code == 200:\n",
    "            soup = BeautifulSoup(resp.text, 'lxml')\n",
    "            html = etree.HTML(str(soup))\n",
    "\n",
    "            title = html.xpath('//head/title/text()')[0].strip()\n",
    "            with open('./part.html', 'w', encoding='UTF-8') as file:\n",
    "                file.write(str(soup))\n",
    "            break\n",
    "    except KeyboardInterrupt:\n",
    "        break\n",
    "    except:\n",
    "        time.sleep(3)\n",
    "        continue\n",
    "\n",
    "title"
   ]
  },
  {
   "cell_type": "code",
   "execution_count": 6,
   "id": "d5ae4fd0-f4b2-4fd9-b7b7-1a35b254a406",
   "metadata": {
    "scrolled": true
   },
   "outputs": [
    {
     "data": {
      "text/plain": [
       "'CARDONE Reman'"
      ]
     },
     "execution_count": 6,
     "metadata": {},
     "output_type": "execute_result"
    }
   ],
   "source": [
    "subtitle = html.xpath('//h2[@itemprop=\"brand\"]/a/span[@itemprop=\"name\"]/text()')[0].strip()\n",
    "\n",
    "subtitle"
   ]
  },
  {
   "cell_type": "code",
   "execution_count": 7,
   "id": "11b12cc9-2efe-40da-9722-f6b60f163105",
   "metadata": {
    "scrolled": true
   },
   "outputs": [
    {
     "data": {
      "text/plain": [
       "'40-1000'"
      ]
     },
     "execution_count": 7,
     "metadata": {},
     "output_type": "execute_result"
    }
   ],
   "source": [
    "part_number = html.xpath('//dd[@itemprop=\"sku\"]/text()')[0].strip()\n",
    "\n",
    "part_number"
   ]
  },
  {
   "cell_type": "code",
   "execution_count": 8,
   "id": "70494ede-99c0-448a-ba25-4bc2f23806cf",
   "metadata": {
    "scrolled": true
   },
   "outputs": [
    {
     "data": {
      "text/plain": [
       "{'0': 'https://cdn11.bigcommerce.com/s-z9vhe3o238/images/stencil/1280x1280/products/82816/5488626/482__00992.1687973871.jpg?c=1',\n",
       " '1': 'https://cdn11.bigcommerce.com/s-z9vhe3o238/images/stencil/1280x1280/products/82816/5488628/482__97909.1687973872.jpg?c=1',\n",
       " '2': 'https://cdn11.bigcommerce.com/s-z9vhe3o238/images/stencil/1280x1280/products/82816/5488630/482__09398.1687973874.jpg?c=1',\n",
       " '3': 'https://cdn11.bigcommerce.com/s-z9vhe3o238/images/stencil/1280x1280/products/82816/5488632/482__69563.1687973875.jpg?c=1',\n",
       " '4': 'https://cdn11.bigcommerce.com/s-z9vhe3o238/images/stencil/1280x1280/products/82816/5488635/482__93868.1687973876.jpg?c=1',\n",
       " '5': 'https://cdn11.bigcommerce.com/s-z9vhe3o238/images/stencil/1280x1280/products/82816/5488640/482__32832.1687973878.jpg?c=1',\n",
       " '6': 'https://cdn11.bigcommerce.com/s-z9vhe3o238/images/stencil/1280x1280/products/82816/5488643/482__89435.1687973879.jpg?c=1',\n",
       " '7': 'https://cdn11.bigcommerce.com/s-z9vhe3o238/images/stencil/1280x1280/products/82816/5488646/482__80803.1687973881.jpg?c=1'}"
      ]
     },
     "execution_count": 8,
     "metadata": {},
     "output_type": "execute_result"
    }
   ],
   "source": [
    "dict_src, list_src = {}, html.xpath('//li[contains(@class, \"productView-thumbnail\")]/a[@class=\"productView-thumbnail-link\"]/@href')\n",
    "for i, src in enumerate(list_src):\n",
    "    dict_src[str(i)] = src.strip()\n",
    "\n",
    "dict_src"
   ]
  },
  {
   "cell_type": "code",
   "execution_count": 9,
   "id": "6fc96386-e5b8-40d9-a1d2-973a37a008e4",
   "metadata": {
    "scrolled": true
   },
   "outputs": [
    {
     "data": {
      "text/plain": [
       "('Windshield Wiper Motor',\n",
       " 'Chevrolet Camaro 1998-93; Pontiac Firebird 1998-93',\n",
       " {'0': {'productDeskExternalKey': 'CPCX|40-1000'},\n",
       "  '1': {'Package Contents': 'Wiper Motor; Instruction Sheet'},\n",
       "  '2': {'E-Waste': 'Yes'},\n",
       "  '3': {'Product Condition': 'Remanufactured'},\n",
       "  '4': {'Mounting Hole Quantity': '3'},\n",
       "  '5': {'Terminal Type': 'Blade'},\n",
       "  '6': {'Mounting Type': 'Eyelet; Grommet'},\n",
       "  '7': {'Weight PG': '5.9000'},\n",
       "  '8': {'Washer Pump Included': 'No'},\n",
       "  '9': {'Warranty Info': '1 Year/18,000 Mile'},\n",
       "  '10': {'Sustainable Choice': 'Yes'},\n",
       "  '11': {'Lifecycle Status': 'Available to Order'},\n",
       "  '12': {'ItemLevelGTIN': '00082617338332'},\n",
       "  '13': {'_addonCardone': '40-1000::98271:100085:306'},\n",
       "  '14': {'Eligible for R&R Service': 'Yes'}})"
      ]
     },
     "execution_count": 9,
     "metadata": {},
     "output_type": "execute_result"
    }
   ],
   "source": [
    "type_, application_summary, list_dict, dict_count = '', '', json.loads(html.xpath('//div[@id=\"addon\"]/@data-custom-fields')[0]), {}\n",
    "for dict_ in list_dict:\n",
    "    key = dict_['name'].strip()\n",
    "    if key == 'Part Type':\n",
    "        type_ = dict_['value'].strip()\n",
    "    elif key == 'Application Summary':\n",
    "        application_summary = dict_['value'].strip()\n",
    "    else:\n",
    "        if key in dict_count:\n",
    "            dict_count[key] += 1\n",
    "        else:\n",
    "            dict_count[key] = 1\n",
    "\n",
    "i, dict_info, dict_no = 0, {}, {}\n",
    "for dict_ in list_dict:\n",
    "    key = dict_['name'].strip()\n",
    "    if key not in ['Part Type', 'Application Summary']:\n",
    "        if dict_count[key] == 1:\n",
    "            dict_info[str(i)] = {key: dict_['value'].strip()}\n",
    "        else:\n",
    "            if key in dict_no:\n",
    "                dict_no[key] += 1\n",
    "            else:\n",
    "                dict_no[key] = 1\n",
    "            dict_info[str(i)] = {f'''{key}-{dict_no[key]}''': dict_['value'].strip()}\n",
    "        i += 1\n",
    "\n",
    "type_, application_summary, dict_info"
   ]
  },
  {
   "cell_type": "code",
   "execution_count": 10,
   "id": "bdcf91e3-7ec5-438b-8fd6-0c4b243867fa",
   "metadata": {},
   "outputs": [
    {
     "data": {
      "text/plain": [
       "[{'No': 1,\n",
       "  'Type': 'Windshield Wiper Motor',\n",
       "  'Part Number': '40-1000',\n",
       "  'Title': 'Windshield Wiper Motor - 40-1000',\n",
       "  'Application Summary': 'Chevrolet Camaro 1998-93; Pontiac Firebird 1998-93',\n",
       "  'Picture': '',\n",
       "  'Url': 'https://www.cardone.com/product/windshield-wiper-motor-40-1000',\n",
       "  'Subtitle': 'CARDONE Reman',\n",
       "  'Json_Src': '{\"0\": \"https://cdn11.bigcommerce.com/s-z9vhe3o238/images/stencil/1280x1280/products/82816/5488626/482__00992.1687973871.jpg?c=1\", \"1\": \"https://cdn11.bigcommerce.com/s-z9vhe3o238/images/stencil/1280x1280/products/82816/5488628/482__97909.1687973872.jpg?c=1\", \"2\": \"https://cdn11.bigcommerce.com/s-z9vhe3o238/images/stencil/1280x1280/products/82816/5488630/482__09398.1687973874.jpg?c=1\", \"3\": \"https://cdn11.bigcommerce.com/s-z9vhe3o238/images/stencil/1280x1280/products/82816/5488632/482__69563.1687973875.jpg?c=1\", \"4\": \"https://cdn11.bigcommerce.com/s-z9vhe3o238/images/stencil/1280x1280/products/82816/5488635/482__93868.1687973876.jpg?c=1\", \"5\": \"https://cdn11.bigcommerce.com/s-z9vhe3o238/images/stencil/1280x1280/products/82816/5488640/482__32832.1687973878.jpg?c=1\", \"6\": \"https://cdn11.bigcommerce.com/s-z9vhe3o238/images/stencil/1280x1280/products/82816/5488643/482__89435.1687973879.jpg?c=1\", \"7\": \"https://cdn11.bigcommerce.com/s-z9vhe3o238/images/stencil/1280x1280/products/82816/5488646/482__80803.1687973881.jpg?c=1\"}',\n",
       "  'Json_Info': '{\"0\": {\"productDeskExternalKey\": \"CPCX|40-1000\"}, \"1\": {\"Package Contents\": \"Wiper Motor; Instruction Sheet\"}, \"2\": {\"E-Waste\": \"Yes\"}, \"3\": {\"Product Condition\": \"Remanufactured\"}, \"4\": {\"Mounting Hole Quantity\": \"3\"}, \"5\": {\"Terminal Type\": \"Blade\"}, \"6\": {\"Mounting Type\": \"Eyelet; Grommet\"}, \"7\": {\"Weight PG\": \"5.9000\"}, \"8\": {\"Washer Pump Included\": \"No\"}, \"9\": {\"Warranty Info\": \"1 Year/18,000 Mile\"}, \"10\": {\"Sustainable Choice\": \"Yes\"}, \"11\": {\"Lifecycle Status\": \"Available to Order\"}, \"12\": {\"ItemLevelGTIN\": \"00082617338332\"}, \"13\": {\"_addonCardone\": \"40-1000::98271:100085:306\"}, \"14\": {\"Eligible for R&R Service\": \"Yes\"}}'}]"
      ]
     },
     "execution_count": 10,
     "metadata": {},
     "output_type": "execute_result"
    }
   ],
   "source": [
    "list_dict_correct.append({'No': crawler_series['No'],\n",
    "                          'Type': type_,\n",
    "                          'Part Number': part_number,\n",
    "                          'Title': title,\n",
    "                          'Application Summary': application_summary,\n",
    "                          'Picture': '',\n",
    "                          'Url': crawler_series['Url'],\n",
    "                          'Subtitle': subtitle,\n",
    "                          'Json_Src': json.dumps(dict_src),\n",
    "                          'Json_Info': json.dumps(dict_info)})\n",
    "\n",
    "list_dict_correct"
   ]
  },
  {
   "cell_type": "code",
   "execution_count": 11,
   "id": "fc4ed7f6-ed4f-431c-b944-b1690309cdae",
   "metadata": {},
   "outputs": [
    {
     "data": {
      "text/plain": [
       "True"
      ]
     },
     "execution_count": 11,
     "metadata": {},
     "output_type": "execute_result"
    }
   ],
   "source": [
    "crawler_status = True\n",
    "\n",
    "crawler_status"
   ]
  },
  {
   "cell_type": "code",
   "execution_count": 12,
   "id": "65c745d1-446e-46c5-9dec-819c9f7944d3",
   "metadata": {},
   "outputs": [
    {
     "data": {
      "text/plain": [
       "[No                                                             1\n",
       " Url            https://www.cardone.com/product/windshield-wip...\n",
       " Request_Url    https://www.cardone.com/product/windshield-wip...\n",
       " Name: 0, dtype: object]"
      ]
     },
     "execution_count": 12,
     "metadata": {},
     "output_type": "execute_result"
    }
   ],
   "source": [
    "crawler_series['Request_Url'] = url_request\n",
    "\n",
    "list_series_error.append(crawler_series)\n",
    "\n",
    "list_series_error"
   ]
  },
  {
   "cell_type": "code",
   "execution_count": 13,
   "id": "7fd477de",
   "metadata": {},
   "outputs": [
    {
     "data": {
      "text/html": [
       "<div>\n",
       "<style scoped>\n",
       "    .dataframe tbody tr th:only-of-type {\n",
       "        vertical-align: middle;\n",
       "    }\n",
       "\n",
       "    .dataframe tbody tr th {\n",
       "        vertical-align: top;\n",
       "    }\n",
       "\n",
       "    .dataframe thead th {\n",
       "        text-align: right;\n",
       "    }\n",
       "</style>\n",
       "<table border=\"1\" class=\"dataframe\">\n",
       "  <thead>\n",
       "    <tr style=\"text-align: right;\">\n",
       "      <th></th>\n",
       "      <th>No</th>\n",
       "      <th>Type</th>\n",
       "      <th>Part Number</th>\n",
       "      <th>Title</th>\n",
       "      <th>Application Summary</th>\n",
       "      <th>Picture</th>\n",
       "      <th>Url</th>\n",
       "      <th>Subtitle</th>\n",
       "      <th>Json_Src</th>\n",
       "      <th>Json_Info</th>\n",
       "    </tr>\n",
       "  </thead>\n",
       "  <tbody>\n",
       "    <tr>\n",
       "      <th>0</th>\n",
       "      <td>1</td>\n",
       "      <td>Windshield Wiper Motor</td>\n",
       "      <td>40-1000</td>\n",
       "      <td>Windshield Wiper Motor - 40-1000</td>\n",
       "      <td>Chevrolet Camaro 1998-93; Pontiac Firebird 199...</td>\n",
       "      <td></td>\n",
       "      <td>https://www.cardone.com/product/windshield-wip...</td>\n",
       "      <td>CARDONE Reman</td>\n",
       "      <td>{\"0\": \"https://cdn11.bigcommerce.com/s-z9vhe3o...</td>\n",
       "      <td>{\"0\": {\"productDeskExternalKey\": \"CPCX|40-1000...</td>\n",
       "    </tr>\n",
       "  </tbody>\n",
       "</table>\n",
       "</div>"
      ],
      "text/plain": [
       "   No                    Type Part Number                             Title  \\\n",
       "0   1  Windshield Wiper Motor     40-1000  Windshield Wiper Motor - 40-1000   \n",
       "\n",
       "                                 Application Summary Picture  \\\n",
       "0  Chevrolet Camaro 1998-93; Pontiac Firebird 199...           \n",
       "\n",
       "                                                 Url       Subtitle  \\\n",
       "0  https://www.cardone.com/product/windshield-wip...  CARDONE Reman   \n",
       "\n",
       "                                            Json_Src  \\\n",
       "0  {\"0\": \"https://cdn11.bigcommerce.com/s-z9vhe3o...   \n",
       "\n",
       "                                           Json_Info  \n",
       "0  {\"0\": {\"productDeskExternalKey\": \"CPCX|40-1000...  "
      ]
     },
     "execution_count": 13,
     "metadata": {},
     "output_type": "execute_result"
    }
   ],
   "source": [
    "if list_dict_correct:\n",
    "    df_correct = pd.DataFrame(list_dict_correct).sort_values(by=['No'],\n",
    "                                                             ascending=[True],\n",
    "                                                             ignore_index=True)\n",
    "    df_correct.to_excel('./test_part.xlsx', index=False)\n",
    "\n",
    "df_correct"
   ]
  },
  {
   "cell_type": "code",
   "execution_count": 14,
   "id": "39a5441b-7f69-4812-aad8-7e10a1a24e78",
   "metadata": {},
   "outputs": [
    {
     "data": {
      "text/html": [
       "<div>\n",
       "<style scoped>\n",
       "    .dataframe tbody tr th:only-of-type {\n",
       "        vertical-align: middle;\n",
       "    }\n",
       "\n",
       "    .dataframe tbody tr th {\n",
       "        vertical-align: top;\n",
       "    }\n",
       "\n",
       "    .dataframe thead th {\n",
       "        text-align: right;\n",
       "    }\n",
       "</style>\n",
       "<table border=\"1\" class=\"dataframe\">\n",
       "  <thead>\n",
       "    <tr style=\"text-align: right;\">\n",
       "      <th></th>\n",
       "      <th>No</th>\n",
       "      <th>Url</th>\n",
       "      <th>Request_Url</th>\n",
       "    </tr>\n",
       "  </thead>\n",
       "  <tbody>\n",
       "    <tr>\n",
       "      <th>0</th>\n",
       "      <td>1</td>\n",
       "      <td>https://www.cardone.com/product/windshield-wip...</td>\n",
       "      <td>https://www.cardone.com/product/windshield-wip...</td>\n",
       "    </tr>\n",
       "  </tbody>\n",
       "</table>\n",
       "</div>"
      ],
      "text/plain": [
       "   No                                                Url  \\\n",
       "0   1  https://www.cardone.com/product/windshield-wip...   \n",
       "\n",
       "                                         Request_Url  \n",
       "0  https://www.cardone.com/product/windshield-wip...  "
      ]
     },
     "execution_count": 14,
     "metadata": {},
     "output_type": "execute_result"
    }
   ],
   "source": [
    "if list_series_error:\n",
    "    df_error = pd.DataFrame(list_series_error).sort_values(by=['No'],\n",
    "                                                           ascending=[True],\n",
    "                                                           ignore_index=True)\n",
    "    df_error.to_excel('./test_part_error.xlsx', index=False)\n",
    "\n",
    "df_error"
   ]
  },
  {
   "cell_type": "code",
   "execution_count": null,
   "id": "ba5d9f77-7464-4ad5-a42b-1fa0c0505832",
   "metadata": {},
   "outputs": [],
   "source": []
  }
 ],
 "metadata": {
  "kernelspec": {
   "display_name": "Python 3 (ipykernel)",
   "language": "python",
   "name": "python3"
  },
  "language_info": {
   "codemirror_mode": {
    "name": "ipython",
    "version": 3
   },
   "file_extension": ".py",
   "mimetype": "text/x-python",
   "name": "python",
   "nbconvert_exporter": "python",
   "pygments_lexer": "ipython3",
   "version": "3.12.7"
  }
 },
 "nbformat": 4,
 "nbformat_minor": 5
}
