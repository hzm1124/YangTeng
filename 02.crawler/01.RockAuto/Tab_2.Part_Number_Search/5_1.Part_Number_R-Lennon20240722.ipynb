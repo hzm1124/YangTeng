{
 "cells": [
  {
   "cell_type": "code",
   "execution_count": 1,
   "id": "a3ab352a-d243-44f8-b85e-b4f88454ef50",
   "metadata": {},
   "outputs": [],
   "source": [
    "param_date = '20240726'"
   ]
  },
  {
   "cell_type": "code",
   "execution_count": 2,
   "id": "6ee5825c-a6a1-4100-90fe-0202f7e155d0",
   "metadata": {},
   "outputs": [
    {
     "data": {
      "text/plain": [
       "['group_1.Apparel & Gifts.xlsx',\n",
       " 'group_10.Electrical-Switch & Relay.xlsx',\n",
       " 'group_11.Engine.xlsx',\n",
       " 'group_12.Exhaust & Emission.xlsx',\n",
       " 'group_13.Fuel & Air.xlsx',\n",
       " 'group_14.Garage Equipment.xlsx',\n",
       " 'group_15.Hardware.xlsx',\n",
       " 'group_16.Heat & Air Conditioning.xlsx',\n",
       " 'group_17.Hoses%2FLines & Clamps.xlsx',\n",
       " 'group_18.Ignition.xlsx',\n",
       " 'group_19.Interior.xlsx',\n",
       " 'group_2.Belt Drive.xlsx',\n",
       " 'group_20.Literature.xlsx',\n",
       " 'group_21.Steering.xlsx',\n",
       " 'group_22.Suspension.xlsx',\n",
       " 'group_23.Transmission-Automatic.xlsx',\n",
       " 'group_24.Transmission-Manual.xlsx',\n",
       " 'group_25.Wheel.xlsx',\n",
       " 'group_26.Wiper & Washer.xlsx',\n",
       " 'group_3.Body & Lamp Assembly.xlsx',\n",
       " 'group_4.Brake & Wheel Hub.xlsx',\n",
       " 'group_5.Cooling System.xlsx',\n",
       " 'group_6.Drivetrain.xlsx',\n",
       " 'group_7.Electrical.xlsx',\n",
       " 'group_8.Electrical-Bulb & Socket.xlsx',\n",
       " 'group_9.Electrical-Connector.xlsx']"
      ]
     },
     "execution_count": 2,
     "metadata": {},
     "output_type": "execute_result"
    }
   ],
   "source": [
    "import os\n",
    "\n",
    "list_file = sorted(list(os.walk(f'./{param_date}/4.type_2'))[0][2])\n",
    "while '.DS_Store' in list_file:\n",
    "    list_file.remove('.DS_Store')\n",
    "while '0.null.txt' in list_file:\n",
    "    list_file.remove('0.null.txt')\n",
    "\n",
    "list_file"
   ]
  },
  {
   "cell_type": "code",
   "execution_count": 3,
   "id": "8f1f9c11-52d5-464c-a0c3-b2c7806cf2c1",
   "metadata": {},
   "outputs": [
    {
     "data": {
      "text/plain": [
       "'group_2.Belt Drive.xlsx'"
      ]
     },
     "execution_count": 3,
     "metadata": {},
     "output_type": "execute_result"
    }
   ],
   "source": [
    "file = list_file[0]\n",
    "\n",
    "file"
   ]
  },
  {
   "cell_type": "code",
   "execution_count": 4,
   "id": "783f89be-0cdc-4912-942e-895cc5f09840",
   "metadata": {},
   "outputs": [],
   "source": [
    "import pandas as pd\n",
    "\n",
    "output_correct, output_error = pd.DataFrame(), pd.DataFrame()"
   ]
  },
  {
   "cell_type": "code",
   "execution_count": 5,
   "id": "1c28f4ff-eee5-4220-a711-cc2f93fe08f0",
   "metadata": {
    "scrolled": true
   },
   "outputs": [
    {
     "name": "stdout",
     "output_type": "stream",
     "text": [
      "总数量：1\n"
     ]
    },
    {
     "data": {
      "text/plain": [
       "['GATES']"
      ]
     },
     "execution_count": 5,
     "metadata": {},
     "output_type": "execute_result"
    }
   ],
   "source": [
    "input_ = pd.read_excel(f'./{param_date}/4.type_2/{file}',\n",
    "                       header=0,\n",
    "                       dtype=str).fillna('')\n",
    "\n",
    "input_['Group No'] = input_['Group No'].astype(int)\n",
    "input_['Type No'] = input_['Type No'].astype(int)\n",
    "input_['Manufacturer No'] = input_['Manufacturer No'].astype(int)\n",
    "\n",
    "print(f'总数量：{len(input_)}')\n",
    "input_['Manufacturer'].tolist()"
   ]
  },
  {
   "cell_type": "code",
   "execution_count": 6,
   "id": "5878a9f0-d639-4123-b6e0-bc564f72c2d6",
   "metadata": {},
   "outputs": [
    {
     "data": {
      "text/plain": [
       "0"
      ]
     },
     "execution_count": 6,
     "metadata": {},
     "output_type": "execute_result"
    }
   ],
   "source": [
    "a = 0\n",
    "\n",
    "a"
   ]
  },
  {
   "cell_type": "code",
   "execution_count": 7,
   "id": "9f61dd65-55da-4d0b-ba30-d0534eff0781",
   "metadata": {},
   "outputs": [
    {
     "data": {
      "text/plain": [
       "'error'"
      ]
     },
     "execution_count": 7,
     "metadata": {},
     "output_type": "execute_result"
    }
   ],
   "source": [
    "crawler_status = 'error'\n",
    "\n",
    "crawler_status"
   ]
  },
  {
   "cell_type": "code",
   "execution_count": 8,
   "id": "523cc867",
   "metadata": {
    "scrolled": true
   },
   "outputs": [
    {
     "name": "stdout",
     "output_type": "stream",
     "text": [
      "1\n"
     ]
    },
    {
     "data": {
      "text/plain": [
       "<Response [200]>"
      ]
     },
     "execution_count": 8,
     "metadata": {},
     "output_type": "execute_result"
    }
   ],
   "source": [
    "import requests\n",
    "\n",
    "import sys\n",
    "sys.path.append('../../00.Tools')\n",
    "from crawler_configuration import get_header, get_proxy\n",
    "\n",
    "from bs4 import BeautifulSoup\n",
    "from lxml import etree\n",
    "\n",
    "import re\n",
    "\n",
    "b = 0\n",
    "while True:\n",
    "\n",
    "    while True:\n",
    "        b += 1\n",
    "        print(b)\n",
    "        try:\n",
    "            resp = requests.get(input_.loc[a, 'Tab 2 Url'],\n",
    "                                headers=get_header(),\n",
    "                                proxies=get_proxy(),\n",
    "                                timeout=(10, 10))\n",
    "            break\n",
    "        except:\n",
    "            continue\n",
    "\n",
    "    if resp.status_code == 500:\n",
    "        break\n",
    "    elif resp.status_code == 200:\n",
    "        soup = BeautifulSoup(resp.text, 'lxml')\n",
    "        html = etree.HTML(str(soup))\n",
    "        try:\n",
    "            title = re.sub(r' +', ' ', html.xpath('//div[@id=\"nav_o[1]\"]/div[@class=\"inner\"]/div/div[@style=\"display: inline-block; padding: 0em 5em 0em 5em; \"]/text()')[0]).strip()\n",
    "\n",
    "            if html.xpath('//select[@id=\"manufacturer_partsearch_007\"]/option[@selected]/@value')[0] == input_.loc[a, 'Manufacturer'] and html.xpath('//select[@id=\"partgroup_partsearch_007\"]/option[@selected]/@value')[0] == input_.loc[a, 'Group'] and html.xpath('//select[@id=\"parttype_partsearch_007\"]/option[@selected]/@value')[0] == input_.loc[a, 'Type Code'] and html.xpath('//select[@id=\"parttype_partsearch_007\"]/option[@selected]/text()')[0] == input_.loc[a, 'Type'] or re.sub(r' +', ' ', f'''{input_.loc[a, 'Manufacturer']} {input_.loc[a, 'Type']} Part Numbers''').strip() == title:\n",
    "                with open('./part_number.html', 'w', encoding='UTF-8') as file:\n",
    "                    file.write(str(soup))\n",
    "                break\n",
    "        except:\n",
    "            continue\n",
    "\n",
    "resp"
   ]
  },
  {
   "cell_type": "code",
   "execution_count": 9,
   "id": "30a73ebd-7d72-4eb7-b909-cc9d78f1e177",
   "metadata": {},
   "outputs": [
    {
     "data": {
      "text/plain": [
       "[]"
      ]
     },
     "execution_count": 9,
     "metadata": {},
     "output_type": "execute_result"
    }
   ],
   "source": [
    "list_json = html.xpath('//div[@id=\"navchildren[1]\"]/div[contains(@id, \"nav[\")]/input[contains(@id, \"jsn[\")]/@value')\n",
    "\n",
    "list_json"
   ]
  },
  {
   "cell_type": "code",
   "execution_count": 10,
   "id": "1eda66b5-1d9e-43ef-a5b2-47bf539a39bc",
   "metadata": {},
   "outputs": [
    {
     "data": {
      "text/plain": [
       "[]"
      ]
     },
     "execution_count": 10,
     "metadata": {},
     "output_type": "execute_result"
    }
   ],
   "source": [
    "import json\n",
    "\n",
    "list_part_number = [json.loads(json_)['partnumber'] for json_ in list_json]\n",
    "\n",
    "list_part_number"
   ]
  },
  {
   "cell_type": "code",
   "execution_count": 11,
   "id": "6b7ce998-9ab1-409b-a227-563380a70d26",
   "metadata": {},
   "outputs": [
    {
     "data": {
      "text/plain": [
       "[]"
      ]
     },
     "execution_count": 11,
     "metadata": {},
     "output_type": "execute_result"
    }
   ],
   "source": [
    "list_url = [f'https://www.rockauto.com{href.strip()}' for href in html.xpath('//div[@id=\"navchildren[1]\"]/div[contains(@id, \"nav[\")]/div[contains(@id, \"nav_o[\")]/div/table/tr/td[@class=\"nlabel nlbl-docolumns\"]/a/@href')]\n",
    "\n",
    "list_url"
   ]
  },
  {
   "cell_type": "code",
   "execution_count": 12,
   "id": "02c01b6b-1401-49d2-b1fb-66053e833ebd",
   "metadata": {},
   "outputs": [
    {
     "data": {
      "text/plain": [
       "True"
      ]
     },
     "execution_count": 12,
     "metadata": {},
     "output_type": "execute_result"
    }
   ],
   "source": [
    "len(list_part_number) == 0"
   ]
  },
  {
   "cell_type": "code",
   "execution_count": 13,
   "id": "96f1239b-50f9-42d4-b879-831dc05deb48",
   "metadata": {
    "scrolled": true
   },
   "outputs": [
    {
     "data": {
      "text/html": [
       "<div>\n",
       "<style scoped>\n",
       "    .dataframe tbody tr th:only-of-type {\n",
       "        vertical-align: middle;\n",
       "    }\n",
       "\n",
       "    .dataframe tbody tr th {\n",
       "        vertical-align: top;\n",
       "    }\n",
       "\n",
       "    .dataframe thead th {\n",
       "        text-align: right;\n",
       "    }\n",
       "</style>\n",
       "<table border=\"1\" class=\"dataframe\">\n",
       "  <thead>\n",
       "    <tr style=\"text-align: right;\">\n",
       "      <th></th>\n",
       "      <th>Group No</th>\n",
       "      <th>Group</th>\n",
       "      <th>Type No</th>\n",
       "      <th>Type</th>\n",
       "      <th>Type Code</th>\n",
       "      <th>Manufacturer No</th>\n",
       "      <th>Manufacturer</th>\n",
       "      <th>Tab 2 Url</th>\n",
       "      <th>SKU Count</th>\n",
       "      <th>Part No</th>\n",
       "      <th>Part Number</th>\n",
       "      <th>Url</th>\n",
       "    </tr>\n",
       "  </thead>\n",
       "  <tbody>\n",
       "  </tbody>\n",
       "</table>\n",
       "</div>"
      ],
      "text/plain": [
       "Empty DataFrame\n",
       "Columns: [Group No, Group, Type No, Type, Type Code, Manufacturer No, Manufacturer, Tab 2 Url, SKU Count, Part No, Part Number, Url]\n",
       "Index: []"
      ]
     },
     "execution_count": 13,
     "metadata": {},
     "output_type": "execute_result"
    }
   ],
   "source": [
    "df_temp = pd.DataFrame({'Group No': input_.loc[a, 'Group No'],\n",
    "                        'Group': input_.loc[a, 'Group'],\n",
    "                        'Type No': input_.loc[a, 'Type No'],\n",
    "                        'Type': input_.loc[a, 'Type'],\n",
    "                        'Type Code': input_.loc[a, 'Type Code'],\n",
    "                        'Manufacturer No': input_.loc[a, 'Manufacturer No'],\n",
    "                        'Manufacturer': input_.loc[a, 'Manufacturer'],\n",
    "                        'Tab 2 Url': input_.loc[a, 'Tab 2 Url'],\n",
    "                        'SKU Count': len(list_part_number),\n",
    "                        'Part No': [i+1 for i in range(len(list_part_number))],\n",
    "                        'Part Number': list_part_number,\n",
    "                        'Url': list_url})\n",
    "\n",
    "output_correct = pd.concat([output_correct, df_temp], ignore_index=True).fillna('')\n",
    "\n",
    "output_correct"
   ]
  },
  {
   "cell_type": "code",
   "execution_count": 14,
   "id": "fc4ed7f6-ed4f-431c-b944-b1690309cdae",
   "metadata": {},
   "outputs": [
    {
     "data": {
      "text/plain": [
       "'ok'"
      ]
     },
     "execution_count": 14,
     "metadata": {},
     "output_type": "execute_result"
    }
   ],
   "source": [
    "crawler_status = 'ok'\n",
    "\n",
    "crawler_status"
   ]
  },
  {
   "cell_type": "code",
   "execution_count": 15,
   "id": "65c745d1-446e-46c5-9dec-819c9f7944d3",
   "metadata": {},
   "outputs": [
    {
     "data": {
      "text/html": [
       "<div>\n",
       "<style scoped>\n",
       "    .dataframe tbody tr th:only-of-type {\n",
       "        vertical-align: middle;\n",
       "    }\n",
       "\n",
       "    .dataframe tbody tr th {\n",
       "        vertical-align: top;\n",
       "    }\n",
       "\n",
       "    .dataframe thead th {\n",
       "        text-align: right;\n",
       "    }\n",
       "</style>\n",
       "<table border=\"1\" class=\"dataframe\">\n",
       "  <thead>\n",
       "    <tr style=\"text-align: right;\">\n",
       "      <th></th>\n",
       "    </tr>\n",
       "  </thead>\n",
       "  <tbody>\n",
       "  </tbody>\n",
       "</table>\n",
       "</div>"
      ],
      "text/plain": [
       "Empty DataFrame\n",
       "Columns: []\n",
       "Index: []"
      ]
     },
     "execution_count": 15,
     "metadata": {},
     "output_type": "execute_result"
    }
   ],
   "source": [
    "if crawler_status == 'error':\n",
    "    df_temp = pd.DataFrame([{'Group No': input_.loc[a, 'Group No'],\n",
    "                             'Group': input_.loc[a, 'Group'],\n",
    "                             'Type No': input_.loc[a, 'Type No'],\n",
    "                             'Type': input_.loc[a, 'Type'],\n",
    "                             'Type Code': input_.loc[a, 'Type Code'],\n",
    "                             'Manufacturer No': input_.loc[a, 'Manufacturer No'],\n",
    "                             'Manufacturer': input_.loc[a, 'Manufacturer'],\n",
    "                             'Tab 2 Url': input_.loc[a, 'Tab 2 Url']}])\n",
    "\n",
    "    output_error = pd.concat([output_error, df_temp], ignore_index=True).fillna('')\n",
    "\n",
    "output_error"
   ]
  },
  {
   "cell_type": "code",
   "execution_count": 16,
   "id": "7fd477de",
   "metadata": {},
   "outputs": [
    {
     "data": {
      "text/html": [
       "<div>\n",
       "<style scoped>\n",
       "    .dataframe tbody tr th:only-of-type {\n",
       "        vertical-align: middle;\n",
       "    }\n",
       "\n",
       "    .dataframe tbody tr th {\n",
       "        vertical-align: top;\n",
       "    }\n",
       "\n",
       "    .dataframe thead th {\n",
       "        text-align: right;\n",
       "    }\n",
       "</style>\n",
       "<table border=\"1\" class=\"dataframe\">\n",
       "  <thead>\n",
       "    <tr style=\"text-align: right;\">\n",
       "      <th></th>\n",
       "      <th>Group No</th>\n",
       "      <th>Group</th>\n",
       "      <th>Type No</th>\n",
       "      <th>Type</th>\n",
       "      <th>Type Code</th>\n",
       "      <th>Manufacturer No</th>\n",
       "      <th>Manufacturer</th>\n",
       "      <th>Tab 2 Url</th>\n",
       "      <th>SKU Count</th>\n",
       "      <th>Part No</th>\n",
       "      <th>Part Number</th>\n",
       "      <th>Url</th>\n",
       "    </tr>\n",
       "  </thead>\n",
       "  <tbody>\n",
       "  </tbody>\n",
       "</table>\n",
       "</div>"
      ],
      "text/plain": [
       "Empty DataFrame\n",
       "Columns: [Group No, Group, Type No, Type, Type Code, Manufacturer No, Manufacturer, Tab 2 Url, SKU Count, Part No, Part Number, Url]\n",
       "Index: []"
      ]
     },
     "execution_count": 16,
     "metadata": {},
     "output_type": "execute_result"
    }
   ],
   "source": [
    "if not output_correct.empty:\n",
    "    output_correct = output_correct.sort_values(by=['Group No', 'Type No', 'Manufacturer No', 'Part No'],\n",
    "                                                ascending=[True, True, True, True],\n",
    "                                                ignore_index=True)\n",
    "    output_correct.to_excel('./test_part_number_1.xlsx', index=False)\n",
    "\n",
    "output_correct"
   ]
  },
  {
   "cell_type": "code",
   "execution_count": 17,
   "id": "39a5441b-7f69-4812-aad8-7e10a1a24e78",
   "metadata": {},
   "outputs": [
    {
     "data": {
      "text/html": [
       "<div>\n",
       "<style scoped>\n",
       "    .dataframe tbody tr th:only-of-type {\n",
       "        vertical-align: middle;\n",
       "    }\n",
       "\n",
       "    .dataframe tbody tr th {\n",
       "        vertical-align: top;\n",
       "    }\n",
       "\n",
       "    .dataframe thead th {\n",
       "        text-align: right;\n",
       "    }\n",
       "</style>\n",
       "<table border=\"1\" class=\"dataframe\">\n",
       "  <thead>\n",
       "    <tr style=\"text-align: right;\">\n",
       "      <th></th>\n",
       "    </tr>\n",
       "  </thead>\n",
       "  <tbody>\n",
       "  </tbody>\n",
       "</table>\n",
       "</div>"
      ],
      "text/plain": [
       "Empty DataFrame\n",
       "Columns: []\n",
       "Index: []"
      ]
     },
     "execution_count": 17,
     "metadata": {},
     "output_type": "execute_result"
    }
   ],
   "source": [
    "if not output_error.empty:\n",
    "    output_error = output_error.sort_values(by=['Group No', 'Type No', 'Manufacturer No'],\n",
    "                                            ascending=[True, True, True],\n",
    "                                            ignore_index=True)\n",
    "    output_error.to_excel('./test_part_number_1_error.xlsx', index=False)\n",
    "\n",
    "output_error"
   ]
  },
  {
   "cell_type": "code",
   "execution_count": null,
   "id": "ba5d9f77-7464-4ad5-a42b-1fa0c0505832",
   "metadata": {},
   "outputs": [],
   "source": []
  }
 ],
 "metadata": {
  "kernelspec": {
   "display_name": "Python 3 (ipykernel)",
   "language": "python",
   "name": "python3"
  },
  "language_info": {
   "codemirror_mode": {
    "name": "ipython",
    "version": 3
   },
   "file_extension": ".py",
   "mimetype": "text/x-python",
   "name": "python",
   "nbconvert_exporter": "python",
   "pygments_lexer": "ipython3",
   "version": "3.11.3"
  }
 },
 "nbformat": 4,
 "nbformat_minor": 5
}
