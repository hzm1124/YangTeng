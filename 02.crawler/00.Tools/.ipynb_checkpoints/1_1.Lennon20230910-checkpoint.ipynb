{
 "cells": [
  {
   "cell_type": "code",
   "execution_count": 1,
   "id": "84b2ba97",
   "metadata": {},
   "outputs": [],
   "source": [
    "from openpyxl import load_workbook"
   ]
  },
  {
   "cell_type": "code",
   "execution_count": 2,
   "id": "792c92ea",
   "metadata": {},
   "outputs": [
    {
     "name": "stdout",
     "output_type": "stream",
     "text": [
      "Src索引：2\n",
      "Pic索引：1\n",
      "\n"
     ]
    }
   ],
   "source": [
    "wb = load_workbook('./crawler.xlsx')\n",
    "ws = wb.active\n",
    "\n",
    "for column in range(1, ws.max_column+1):\n",
    "    if ws.cell(1, column).value == 'Src':\n",
    "        src_index = column\n",
    "    elif ws.cell(1, column).value == 'Pic':\n",
    "        pic_index = column\n",
    "        \n",
    "print('Src索引：' + str(src_index))\n",
    "print('Pic索引：' + str(pic_index))\n",
    "print()"
   ]
  },
  {
   "cell_type": "code",
   "execution_count": 3,
   "id": "db76849c",
   "metadata": {},
   "outputs": [],
   "source": [
    "import requests\n",
    "from io import BytesIO\n",
    "from openpyxl.drawing.image import Image"
   ]
  },
  {
   "cell_type": "code",
   "execution_count": 4,
   "id": "3cbdda3e",
   "metadata": {},
   "outputs": [
    {
     "data": {
      "text/plain": [
       "'https://cdn.autoteiledirekt.de/thumb?id=1993052&m=0&n=0&lng=de&rev=94077843'"
      ]
     },
     "execution_count": 4,
     "metadata": {},
     "output_type": "execute_result"
    }
   ],
   "source": [
    "row = 2\n",
    "\n",
    "src = ws.cell(row, index_src).value\n",
    "\n",
    "src"
   ]
  },
  {
   "cell_type": "code",
   "execution_count": 5,
   "id": "01a48db5",
   "metadata": {},
   "outputs": [
    {
     "ename": "UnidentifiedImageError",
     "evalue": "cannot identify image file <_io.BytesIO object at 0x106f42700>",
     "output_type": "error",
     "traceback": [
      "\u001b[0;31m---------------------------------------------------------------------------\u001b[0m",
      "\u001b[0;31mUnidentifiedImageError\u001b[0m                    Traceback (most recent call last)",
      "Cell \u001b[0;32mIn[5], line 1\u001b[0m\n\u001b[0;32m----> 1\u001b[0m pic \u001b[38;5;241m=\u001b[39m \u001b[43mImage\u001b[49m\u001b[43m(\u001b[49m\u001b[43mBytesIO\u001b[49m\u001b[43m(\u001b[49m\u001b[43mrequests\u001b[49m\u001b[38;5;241;43m.\u001b[39;49m\u001b[43mget\u001b[49m\u001b[43m(\u001b[49m\u001b[43msrc\u001b[49m\u001b[43m)\u001b[49m\u001b[38;5;241;43m.\u001b[39;49m\u001b[43mcontent\u001b[49m\u001b[43m)\u001b[49m\u001b[43m)\u001b[49m\n\u001b[1;32m      3\u001b[0m pic\n",
      "File \u001b[0;32m~/Desktop/YangTeng/code/venv/lib/python3.11/site-packages/openpyxl/drawing/image.py:32\u001b[0m, in \u001b[0;36mImage.__init__\u001b[0;34m(self, img)\u001b[0m\n\u001b[1;32m     30\u001b[0m \u001b[38;5;28mself\u001b[39m\u001b[38;5;241m.\u001b[39mref \u001b[38;5;241m=\u001b[39m img\n\u001b[1;32m     31\u001b[0m mark_to_close \u001b[38;5;241m=\u001b[39m \u001b[38;5;28misinstance\u001b[39m(img, \u001b[38;5;28mstr\u001b[39m)\n\u001b[0;32m---> 32\u001b[0m image \u001b[38;5;241m=\u001b[39m \u001b[43m_import_image\u001b[49m\u001b[43m(\u001b[49m\u001b[43mimg\u001b[49m\u001b[43m)\u001b[49m\n\u001b[1;32m     33\u001b[0m \u001b[38;5;28mself\u001b[39m\u001b[38;5;241m.\u001b[39mwidth, \u001b[38;5;28mself\u001b[39m\u001b[38;5;241m.\u001b[39mheight \u001b[38;5;241m=\u001b[39m image\u001b[38;5;241m.\u001b[39msize\n\u001b[1;32m     35\u001b[0m \u001b[38;5;28;01mtry\u001b[39;00m:\n",
      "File \u001b[0;32m~/Desktop/YangTeng/code/venv/lib/python3.11/site-packages/openpyxl/drawing/image.py:16\u001b[0m, in \u001b[0;36m_import_image\u001b[0;34m(img)\u001b[0m\n\u001b[1;32m     13\u001b[0m     \u001b[38;5;28;01mraise\u001b[39;00m \u001b[38;5;167;01mImportError\u001b[39;00m(\u001b[38;5;124m'\u001b[39m\u001b[38;5;124mYou must install Pillow to fetch image objects\u001b[39m\u001b[38;5;124m'\u001b[39m)\n\u001b[1;32m     15\u001b[0m \u001b[38;5;28;01mif\u001b[39;00m \u001b[38;5;129;01mnot\u001b[39;00m \u001b[38;5;28misinstance\u001b[39m(img, PILImage\u001b[38;5;241m.\u001b[39mImage):\n\u001b[0;32m---> 16\u001b[0m     img \u001b[38;5;241m=\u001b[39m \u001b[43mPILImage\u001b[49m\u001b[38;5;241;43m.\u001b[39;49m\u001b[43mopen\u001b[49m\u001b[43m(\u001b[49m\u001b[43mimg\u001b[49m\u001b[43m)\u001b[49m\n\u001b[1;32m     18\u001b[0m \u001b[38;5;28;01mreturn\u001b[39;00m img\n",
      "File \u001b[0;32m~/Desktop/YangTeng/code/venv/lib/python3.11/site-packages/PIL/Image.py:3298\u001b[0m, in \u001b[0;36mopen\u001b[0;34m(fp, mode, formats)\u001b[0m\n\u001b[1;32m   3296\u001b[0m     warnings\u001b[38;5;241m.\u001b[39mwarn(message)\n\u001b[1;32m   3297\u001b[0m msg \u001b[38;5;241m=\u001b[39m \u001b[38;5;124m\"\u001b[39m\u001b[38;5;124mcannot identify image file \u001b[39m\u001b[38;5;132;01m%r\u001b[39;00m\u001b[38;5;124m\"\u001b[39m \u001b[38;5;241m%\u001b[39m (filename \u001b[38;5;28;01mif\u001b[39;00m filename \u001b[38;5;28;01melse\u001b[39;00m fp)\n\u001b[0;32m-> 3298\u001b[0m \u001b[38;5;28;01mraise\u001b[39;00m UnidentifiedImageError(msg)\n",
      "\u001b[0;31mUnidentifiedImageError\u001b[0m: cannot identify image file <_io.BytesIO object at 0x106f42700>"
     ]
    }
   ],
   "source": [
    "pic = Image(BytesIO(requests.get(src).content))\n",
    "\n",
    "pic"
   ]
  },
  {
   "cell_type": "code",
   "execution_count": null,
   "id": "6d625bf6",
   "metadata": {},
   "outputs": [],
   "source": [
    "if pic.width >= pic.height:\n",
    "    pic.height = 50.0 / pic.width * pic.height\n",
    "    pic.width = 50.0\n",
    "else:\n",
    "    pic.width = 50.0 / pic.height * pic.width\n",
    "    pic.height = 50.0\n",
    "    \n",
    "print('Pic宽度：' + str(pic.width))\n",
    "print('Pic高度：' + str(pic.height))"
   ]
  },
  {
   "cell_type": "code",
   "execution_count": null,
   "id": "d1e431bc",
   "metadata": {},
   "outputs": [],
   "source": [
    "from openpyxl.utils import get_column_letter\n",
    "\n",
    "ws.add_image(pic, get_column_letter(index_pic) + str(row))"
   ]
  },
  {
   "cell_type": "code",
   "execution_count": null,
   "id": "d221df1c",
   "metadata": {},
   "outputs": [],
   "source": [
    "wb.save('./crawler-pic.xlsx')"
   ]
  },
  {
   "cell_type": "code",
   "execution_count": null,
   "id": "62ae0ab9",
   "metadata": {},
   "outputs": [],
   "source": []
  }
 ],
 "metadata": {
  "kernelspec": {
   "display_name": "Python 3 (ipykernel)",
   "language": "python",
   "name": "python3"
  },
  "language_info": {
   "codemirror_mode": {
    "name": "ipython",
    "version": 3
   },
   "file_extension": ".py",
   "mimetype": "text/x-python",
   "name": "python",
   "nbconvert_exporter": "python",
   "pygments_lexer": "ipython3",
   "version": "3.11.5"
  }
 },
 "nbformat": 4,
 "nbformat_minor": 5
}
