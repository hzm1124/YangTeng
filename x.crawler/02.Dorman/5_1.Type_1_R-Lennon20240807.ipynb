{
 "cells": [
  {
   "cell_type": "code",
   "execution_count": 1,
   "id": "efa41d9d-c6da-403e-af0f-de0f49ec7719",
   "metadata": {
    "scrolled": true
   },
   "outputs": [
    {
     "data": {
      "text/plain": [
       "['make_102.Land Rover-type_1_error.xlsx']"
      ]
     },
     "execution_count": 1,
     "metadata": {},
     "output_type": "execute_result"
    }
   ],
   "source": [
    "import os\n",
    "\n",
    "list_file = sorted(list(os.walk('./4.model/'))[0][2])\n",
    "while '.DS_Store' in list_file:\n",
    "    list_file.remove('.DS_Store')\n",
    "while '0.null.txt' in list_file:\n",
    "    list_file.remove('0.null.txt')\n",
    "\n",
    "list_file"
   ]
  },
  {
   "cell_type": "code",
   "execution_count": 2,
   "id": "20b0e04e-89ed-4ad2-b36f-0572affb85ef",
   "metadata": {},
   "outputs": [
    {
     "data": {
      "text/plain": [
       "'make_102.Land Rover-type_1_error.xlsx'"
      ]
     },
     "execution_count": 2,
     "metadata": {},
     "output_type": "execute_result"
    }
   ],
   "source": [
    "file = list_file[0]\n",
    "\n",
    "file"
   ]
  },
  {
   "cell_type": "code",
   "execution_count": 3,
   "id": "783f89be-0cdc-4912-942e-895cc5f09840",
   "metadata": {},
   "outputs": [],
   "source": [
    "import pandas as pd\n",
    "\n",
    "output_correct, output_error = pd.DataFrame(), pd.DataFrame()"
   ]
  },
  {
   "cell_type": "code",
   "execution_count": 4,
   "id": "1c28f4ff-eee5-4220-a711-cc2f93fe08f0",
   "metadata": {
    "scrolled": true
   },
   "outputs": [
    {
     "name": "stdout",
     "output_type": "stream",
     "text": [
      "总数量：1\n"
     ]
    },
    {
     "data": {
      "text/plain": [
       "['Range Rover Sport']"
      ]
     },
     "execution_count": 4,
     "metadata": {},
     "output_type": "execute_result"
    }
   ],
   "source": [
    "input_ = pd.read_excel(f'./4.model/{file}',\n",
    "                       header=0,\n",
    "                       dtype=str).fillna('')\n",
    "\n",
    "input_['Make No'] = input_['Make No'].astype(int)\n",
    "input_['Model No'] = input_['Model No'].astype(int)\n",
    "input_['Year'] = input_['Year'].astype(int)\n",
    "\n",
    "print(f'总数量：{len(input_)}')\n",
    "input_['Model'].tolist()"
   ]
  },
  {
   "cell_type": "code",
   "execution_count": 5,
   "id": "5878a9f0-d639-4123-b6e0-bc564f72c2d6",
   "metadata": {},
   "outputs": [
    {
     "data": {
      "text/plain": [
       "0"
      ]
     },
     "execution_count": 5,
     "metadata": {},
     "output_type": "execute_result"
    }
   ],
   "source": [
    "a = 0\n",
    "\n",
    "a"
   ]
  },
  {
   "cell_type": "code",
   "execution_count": 6,
   "id": "9f61dd65-55da-4d0b-ba30-d0534eff0781",
   "metadata": {},
   "outputs": [
    {
     "data": {
      "text/plain": [
       "'error'"
      ]
     },
     "execution_count": 6,
     "metadata": {},
     "output_type": "execute_result"
    }
   ],
   "source": [
    "crawler_status = 'error'\n",
    "\n",
    "crawler_status"
   ]
  },
  {
   "cell_type": "code",
   "execution_count": null,
   "id": "523cc867",
   "metadata": {
    "scrolled": true
   },
   "outputs": [],
   "source": [
    "import requests\n",
    "import json\n",
    "\n",
    "import sys\n",
    "sys.path.append('../00.Tools')\n",
    "from crawler_configuration import get_header, get_proxy\n",
    "\n",
    "data = {'cssClass': 'form-control',\n",
    "        'dropdownType': '3',\n",
    "        'selectedValue': '',\n",
    "        'vehicleAttributes': {'Make': f'''{input_.loc[a, 'Make']}''',\n",
    "                              'MakeID': f'''{input_.loc[a, 'Make Code']}''',\n",
    "                              'ModelID': f'''{input_.loc[a, 'Model Code']}''',\n",
    "                              'SkinID': '1',\n",
    "                              'Year': f'''{input_.loc[a, 'Year']}'''}}\n",
    "\n",
    "b = 0\n",
    "while True:\n",
    "    b += 1\n",
    "    print(b)\n",
    "    try:\n",
    "        resp = requests.post('https://www.dormanproducts.com/ApplicationGuideService.asmx/BuildDropdown',\n",
    "                             data=json.dumps(data),\n",
    "                             headers=get_header(**{'Content-Type': 'application/json; charset=UTF-8'}),\n",
    "                             proxies=get_proxy(),\n",
    "                             timeout=(10, 10))\n",
    "        \n",
    "        if resp.status_code == 200:\n",
    "            break\n",
    "    except:\n",
    "        continue\n",
    "\n",
    "resp"
   ]
  },
  {
   "cell_type": "code",
   "execution_count": null,
   "id": "c2c1e618-4c65-4491-9740-189b35b9f009",
   "metadata": {
    "scrolled": true
   },
   "outputs": [],
   "source": [
    "json_ = resp.json()\n",
    "\n",
    "json_"
   ]
  },
  {
   "cell_type": "code",
   "execution_count": null,
   "id": "86ef5f53-4ba1-4024-af2a-5ad7c6898c6a",
   "metadata": {
    "scrolled": true
   },
   "outputs": [],
   "source": [
    "from bs4 import BeautifulSoup\n",
    "from lxml import etree\n",
    "\n",
    "soup = BeautifulSoup(json_['d'], 'lxml')\n",
    "html = etree.HTML(str(soup))\n",
    "\n",
    "with open('./type_1.html', 'w', encoding='UTF-8') as file:\n",
    "    file.write(str(soup))\n",
    "\n",
    "print(soup.prettify())"
   ]
  },
  {
   "cell_type": "code",
   "execution_count": null,
   "id": "169a92b5-058d-4525-b696-559f9f1d24d3",
   "metadata": {},
   "outputs": [],
   "source": [
    "list_type_code = html.xpath('//select[@id=\"parttypeDropdown\"]/option/@value')[1:]\n",
    "\n",
    "list_type_code"
   ]
  },
  {
   "cell_type": "code",
   "execution_count": null,
   "id": "32b16e21-6952-4dc4-a75a-302aa1f41e73",
   "metadata": {},
   "outputs": [],
   "source": [
    "list_type = html.xpath('//select[@id=\"parttypeDropdown\"]/option/text()')[1:]\n",
    "\n",
    "list_type"
   ]
  },
  {
   "cell_type": "code",
   "execution_count": null,
   "id": "41eabf70-6777-4183-9ee9-f595186c04e9",
   "metadata": {},
   "outputs": [],
   "source": [
    "len(list_type) == 0"
   ]
  },
  {
   "cell_type": "code",
   "execution_count": null,
   "id": "96f1239b-50f9-42d4-b879-831dc05deb48",
   "metadata": {
    "scrolled": true
   },
   "outputs": [],
   "source": [
    "df_temp = pd.DataFrame({'Make No': input_.loc[a, 'Make No'],\n",
    "                        'Make': input_.loc[a, 'Make'],\n",
    "                        'Make Code': input_.loc[a, 'Make Code'],\n",
    "                        'Model No': input_.loc[a, 'Model No'],\n",
    "                        'Model': input_.loc[a, 'Model'],\n",
    "                        'Model Code': input_.loc[a, 'Model Code'],\n",
    "                        'Year': input_.loc[a, 'Year'],\n",
    "                        'Type No': [i+1 for i in range(len(list_type))],\n",
    "                        'Type': list_type,\n",
    "                        'Type Code': list_type_code,\n",
    "                        'Type Url': [f'https://www.dormanproducts.com/gsearch.aspx?type=keyword&q={type_}' for type_ in list_type]})\n",
    "\n",
    "output_correct = pd.concat([output_correct, df_temp], ignore_index=True).fillna('')\n",
    "\n",
    "output_correct"
   ]
  },
  {
   "cell_type": "code",
   "execution_count": null,
   "id": "fc4ed7f6-ed4f-431c-b944-b1690309cdae",
   "metadata": {},
   "outputs": [],
   "source": [
    "crawler_status = 'ok'\n",
    "\n",
    "crawler_status"
   ]
  },
  {
   "cell_type": "code",
   "execution_count": null,
   "id": "65c745d1-446e-46c5-9dec-819c9f7944d3",
   "metadata": {},
   "outputs": [],
   "source": [
    "if crawler_status == 'error':\n",
    "    df_temp = pd.DataFrame([{'Make No': input_.loc[a, 'Make No'],\n",
    "                             'Make': input_.loc[a, 'Make'],\n",
    "                             'Make Code': input_.loc[a, 'Make Code'],\n",
    "                             'Model No': input_.loc[a, 'Model No'],\n",
    "                             'Model': input_.loc[a, 'Model'],\n",
    "                             'Model Code': input_.loc[a, 'Model Code'],\n",
    "                             'Year': input_.loc[a, 'Year']}])\n",
    "\n",
    "    output_error = pd.concat([output_error, df_temp], ignore_index=True).fillna('')\n",
    "\n",
    "output_error"
   ]
  },
  {
   "cell_type": "code",
   "execution_count": null,
   "id": "7fd477de",
   "metadata": {},
   "outputs": [],
   "source": [
    "if not output_correct.empty:\n",
    "    output_correct = output_correct.sort_values(by=['Make No', 'Model No', 'Year', 'Type No'],\n",
    "                                                ascending=[True, True, False, True],\n",
    "                                                ignore_index=True)\n",
    "    output_correct.to_excel('./test_type_1.xlsx', index=False)\n",
    "\n",
    "output_correct"
   ]
  },
  {
   "cell_type": "code",
   "execution_count": null,
   "id": "39a5441b-7f69-4812-aad8-7e10a1a24e78",
   "metadata": {},
   "outputs": [],
   "source": [
    "if not output_error.empty:\n",
    "    output_error = output_error.sort_values(by=['Make No', 'Model No', 'Year'],\n",
    "                                            ascending=[True, True, False],\n",
    "                                            ignore_index=True)\n",
    "    output_error.to_excel('./test_type_1_error.xlsx', index=False)\n",
    "\n",
    "output_error"
   ]
  },
  {
   "cell_type": "code",
   "execution_count": null,
   "id": "ba5d9f77-7464-4ad5-a42b-1fa0c0505832",
   "metadata": {},
   "outputs": [],
   "source": []
  }
 ],
 "metadata": {
  "kernelspec": {
   "display_name": "Python 3 (ipykernel)",
   "language": "python",
   "name": "python3"
  },
  "language_info": {
   "codemirror_mode": {
    "name": "ipython",
    "version": 3
   },
   "file_extension": ".py",
   "mimetype": "text/x-python",
   "name": "python",
   "nbconvert_exporter": "python",
   "pygments_lexer": "ipython3",
   "version": "3.11.3"
  }
 },
 "nbformat": 4,
 "nbformat_minor": 5
}
