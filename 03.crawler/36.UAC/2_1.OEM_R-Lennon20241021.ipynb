{
 "cells": [
  {
   "cell_type": "code",
   "execution_count": 1,
   "id": "28567785-1bca-439f-9042-e39b3255a55b",
   "metadata": {},
   "outputs": [],
   "source": [
    "import os\n",
    "\n",
    "# = = = = = = = = = = = = = = =\n",
    "\n",
    "import pandas as pd\n",
    "\n",
    "# = = = = = = = = = = = = = = =\n",
    "\n",
    "import requests\n",
    "\n",
    "import sys\n",
    "sys.path.append('../00.Tools')\n",
    "from crawler_configuration import get_header, get_proxy\n",
    "\n",
    "from bs4 import BeautifulSoup\n",
    "from lxml import etree"
   ]
  },
  {
   "cell_type": "code",
   "execution_count": 2,
   "id": "9b75b948-9701-432e-a5ef-88d0e629bd2c",
   "metadata": {},
   "outputs": [
    {
     "data": {
      "text/plain": [
       "'crawler_1.xlsx'"
      ]
     },
     "execution_count": 2,
     "metadata": {},
     "output_type": "execute_result"
    }
   ],
   "source": [
    "directory_in = './file/1.part'\n",
    "\n",
    "list_file = [file for file in sorted(os.listdir(directory_in)) if file not in ['.DS_Store'] and os.path.isfile(f'{directory_in}/{file}')]\n",
    "file = list_file[0]\n",
    "\n",
    "file"
   ]
  },
  {
   "cell_type": "code",
   "execution_count": 3,
   "id": "5d22fc26-a390-442a-bfe3-4d409c33f1e7",
   "metadata": {
    "scrolled": true
   },
   "outputs": [
    {
     "name": "stdout",
     "output_type": "stream",
     "text": [
      "总数量：731\n",
      "\n"
     ]
    },
    {
     "data": {
      "text/html": [
       "<div>\n",
       "<style scoped>\n",
       "    .dataframe tbody tr th:only-of-type {\n",
       "        vertical-align: middle;\n",
       "    }\n",
       "\n",
       "    .dataframe tbody tr th {\n",
       "        vertical-align: top;\n",
       "    }\n",
       "\n",
       "    .dataframe thead th {\n",
       "        text-align: right;\n",
       "    }\n",
       "</style>\n",
       "<table border=\"1\" class=\"dataframe\">\n",
       "  <thead>\n",
       "    <tr style=\"text-align: right;\">\n",
       "      <th></th>\n",
       "      <th>Part Number</th>\n",
       "      <th>[UAC] Part Number</th>\n",
       "      <th>[UAC] Picture</th>\n",
       "      <th>[UAC] Url</th>\n",
       "      <th>[UAC] Json_Src</th>\n",
       "      <th>[UAC] Json_Note</th>\n",
       "    </tr>\n",
       "  </thead>\n",
       "  <tbody>\n",
       "    <tr>\n",
       "      <th>0</th>\n",
       "      <td>HA10018C</td>\n",
       "      <td>HA 10018C</td>\n",
       "      <td></td>\n",
       "      <td>https://uacparts.com/Catalog/SearchIndex?searc...</td>\n",
       "      <td>{\"0\": \"https://www.uacparts.com/photo/WEBP/HA/...</td>\n",
       "      <td>{\"0\": \"Accumulator with Hose Assembly\"}</td>\n",
       "    </tr>\n",
       "    <tr>\n",
       "      <th>1</th>\n",
       "      <td>HA10020C</td>\n",
       "      <td>HA 10020C</td>\n",
       "      <td></td>\n",
       "      <td>https://uacparts.com/Catalog/SearchIndex?searc...</td>\n",
       "      <td>{\"0\": \"https://www.uacparts.com/photo/WEBP/HA/...</td>\n",
       "      <td>{\"0\": \"Accumulator with Hose Assembly\"}</td>\n",
       "    </tr>\n",
       "    <tr>\n",
       "      <th>2</th>\n",
       "      <td>HA10021C</td>\n",
       "      <td>HA 10021C</td>\n",
       "      <td></td>\n",
       "      <td>https://uacparts.com/Catalog/SearchIndex?searc...</td>\n",
       "      <td>{\"0\": \"https://www.uacparts.com/photo/WEBP/HA/...</td>\n",
       "      <td>{\"0\": \"Accumulator with Hose Assembly\"}</td>\n",
       "    </tr>\n",
       "    <tr>\n",
       "      <th>3</th>\n",
       "      <td>HA10022C</td>\n",
       "      <td>HA 10022C</td>\n",
       "      <td></td>\n",
       "      <td>https://uacparts.com/Catalog/SearchIndex?searc...</td>\n",
       "      <td>{\"0\": \"https://www.uacparts.com/photo/WEBP/HA/...</td>\n",
       "      <td>{\"0\": \"Accumulator with Hose Assembly\"}</td>\n",
       "    </tr>\n",
       "    <tr>\n",
       "      <th>4</th>\n",
       "      <td>HA10029C</td>\n",
       "      <td>HA 10029C</td>\n",
       "      <td></td>\n",
       "      <td>https://uacparts.com/Catalog/SearchIndex?searc...</td>\n",
       "      <td>{\"0\": \"https://www.uacparts.com/photo/WEBP/HA/...</td>\n",
       "      <td>{\"0\": \"Accumulator with Hose Assembly\"}</td>\n",
       "    </tr>\n",
       "    <tr>\n",
       "      <th>...</th>\n",
       "      <td>...</td>\n",
       "      <td>...</td>\n",
       "      <td>...</td>\n",
       "      <td>...</td>\n",
       "      <td>...</td>\n",
       "      <td>...</td>\n",
       "    </tr>\n",
       "    <tr>\n",
       "      <th>726</th>\n",
       "      <td>RD9993C</td>\n",
       "      <td>RD 9993C</td>\n",
       "      <td></td>\n",
       "      <td>https://uacparts.com/Catalog/SearchIndex?searc...</td>\n",
       "      <td>{\"0\": \"https://www.uacparts.com/photo/WEBP/RD/...</td>\n",
       "      <td>{\"0\": \"Drier Pad Mount\"}</td>\n",
       "    </tr>\n",
       "    <tr>\n",
       "      <th>727</th>\n",
       "      <td>RD9996C</td>\n",
       "      <td>RD 9996C</td>\n",
       "      <td></td>\n",
       "      <td>https://uacparts.com/Catalog/SearchIndex?searc...</td>\n",
       "      <td>{\"0\": \"https://www.uacparts.com/photo/WEBP/RD/...</td>\n",
       "      <td>{\"0\": \"Drier Pad Mount\"}</td>\n",
       "    </tr>\n",
       "    <tr>\n",
       "      <th>728</th>\n",
       "      <td>RD9997C</td>\n",
       "      <td>RD 9997C</td>\n",
       "      <td></td>\n",
       "      <td>https://uacparts.com/Catalog/SearchIndex?searc...</td>\n",
       "      <td>{\"0\": \"https://www.uacparts.com/photo/WEBP/RD/...</td>\n",
       "      <td>{\"0\": \"Drier Pad Mount\"}</td>\n",
       "    </tr>\n",
       "    <tr>\n",
       "      <th>729</th>\n",
       "      <td>RD9998C</td>\n",
       "      <td>RD 9998C</td>\n",
       "      <td></td>\n",
       "      <td>https://uacparts.com/Catalog/SearchIndex?searc...</td>\n",
       "      <td>{\"0\": \"https://www.uacparts.com/photo/WEBP/RD/...</td>\n",
       "      <td>{\"0\": \"Drier\"}</td>\n",
       "    </tr>\n",
       "    <tr>\n",
       "      <th>730</th>\n",
       "      <td>RD9999C</td>\n",
       "      <td>RD 9999C</td>\n",
       "      <td></td>\n",
       "      <td>https://uacparts.com/Catalog/SearchIndex?searc...</td>\n",
       "      <td>{\"0\": \"https://www.uacparts.com/photo/WEBP/RD/...</td>\n",
       "      <td>{\"0\": \"Drier Pad Mount\"}</td>\n",
       "    </tr>\n",
       "  </tbody>\n",
       "</table>\n",
       "<p>731 rows × 6 columns</p>\n",
       "</div>"
      ],
      "text/plain": [
       "    Part Number [UAC] Part Number [UAC] Picture  \\\n",
       "0      HA10018C         HA 10018C                 \n",
       "1      HA10020C         HA 10020C                 \n",
       "2      HA10021C         HA 10021C                 \n",
       "3      HA10022C         HA 10022C                 \n",
       "4      HA10029C         HA 10029C                 \n",
       "..          ...               ...           ...   \n",
       "726     RD9993C          RD 9993C                 \n",
       "727     RD9996C          RD 9996C                 \n",
       "728     RD9997C          RD 9997C                 \n",
       "729     RD9998C          RD 9998C                 \n",
       "730     RD9999C          RD 9999C                 \n",
       "\n",
       "                                             [UAC] Url  \\\n",
       "0    https://uacparts.com/Catalog/SearchIndex?searc...   \n",
       "1    https://uacparts.com/Catalog/SearchIndex?searc...   \n",
       "2    https://uacparts.com/Catalog/SearchIndex?searc...   \n",
       "3    https://uacparts.com/Catalog/SearchIndex?searc...   \n",
       "4    https://uacparts.com/Catalog/SearchIndex?searc...   \n",
       "..                                                 ...   \n",
       "726  https://uacparts.com/Catalog/SearchIndex?searc...   \n",
       "727  https://uacparts.com/Catalog/SearchIndex?searc...   \n",
       "728  https://uacparts.com/Catalog/SearchIndex?searc...   \n",
       "729  https://uacparts.com/Catalog/SearchIndex?searc...   \n",
       "730  https://uacparts.com/Catalog/SearchIndex?searc...   \n",
       "\n",
       "                                        [UAC] Json_Src  \\\n",
       "0    {\"0\": \"https://www.uacparts.com/photo/WEBP/HA/...   \n",
       "1    {\"0\": \"https://www.uacparts.com/photo/WEBP/HA/...   \n",
       "2    {\"0\": \"https://www.uacparts.com/photo/WEBP/HA/...   \n",
       "3    {\"0\": \"https://www.uacparts.com/photo/WEBP/HA/...   \n",
       "4    {\"0\": \"https://www.uacparts.com/photo/WEBP/HA/...   \n",
       "..                                                 ...   \n",
       "726  {\"0\": \"https://www.uacparts.com/photo/WEBP/RD/...   \n",
       "727  {\"0\": \"https://www.uacparts.com/photo/WEBP/RD/...   \n",
       "728  {\"0\": \"https://www.uacparts.com/photo/WEBP/RD/...   \n",
       "729  {\"0\": \"https://www.uacparts.com/photo/WEBP/RD/...   \n",
       "730  {\"0\": \"https://www.uacparts.com/photo/WEBP/RD/...   \n",
       "\n",
       "                             [UAC] Json_Note  \n",
       "0    {\"0\": \"Accumulator with Hose Assembly\"}  \n",
       "1    {\"0\": \"Accumulator with Hose Assembly\"}  \n",
       "2    {\"0\": \"Accumulator with Hose Assembly\"}  \n",
       "3    {\"0\": \"Accumulator with Hose Assembly\"}  \n",
       "4    {\"0\": \"Accumulator with Hose Assembly\"}  \n",
       "..                                       ...  \n",
       "726                 {\"0\": \"Drier Pad Mount\"}  \n",
       "727                 {\"0\": \"Drier Pad Mount\"}  \n",
       "728                 {\"0\": \"Drier Pad Mount\"}  \n",
       "729                           {\"0\": \"Drier\"}  \n",
       "730                 {\"0\": \"Drier Pad Mount\"}  \n",
       "\n",
       "[731 rows x 6 columns]"
      ]
     },
     "execution_count": 3,
     "metadata": {},
     "output_type": "execute_result"
    }
   ],
   "source": [
    "list_dict_correct, list_series_error, df_input = [], [], pd.read_excel(f'{directory_in}/{file}',\n",
    "                                                                       header=0,\n",
    "                                                                       dtype=str).fillna('')\n",
    "\n",
    "count_remain = len(df_input)\n",
    "\n",
    "print(f'总数量：{count_remain}')\n",
    "print()\n",
    "df_input"
   ]
  },
  {
   "cell_type": "code",
   "execution_count": 4,
   "id": "5878a9f0-d639-4123-b6e0-bc564f72c2d6",
   "metadata": {},
   "outputs": [
    {
     "data": {
      "text/plain": [
       "(False,\n",
       " 0,\n",
       " Part Number                                                   HA10018C\n",
       " [UAC] Part Number                                            HA 10018C\n",
       " [UAC] Picture                                                         \n",
       " [UAC] Url            https://uacparts.com/Catalog/SearchIndex?searc...\n",
       " [UAC] Json_Src       {\"0\": \"https://www.uacparts.com/photo/WEBP/HA/...\n",
       " [UAC] Json_Note                {\"0\": \"Accumulator with Hose Assembly\"}\n",
       " Name: 0, dtype: object)"
      ]
     },
     "execution_count": 4,
     "metadata": {},
     "output_type": "execute_result"
    }
   ],
   "source": [
    "crawler_status, (crawler_index, crawler_series) = False, next(df_input.iterrows())\n",
    "\n",
    "crawler_status, crawler_index, crawler_series"
   ]
  },
  {
   "cell_type": "code",
   "execution_count": 5,
   "id": "ad99bc86-6e80-4fcf-8200-736dc5101097",
   "metadata": {
    "scrolled": true
   },
   "outputs": [
    {
     "name": "stdout",
     "output_type": "stream",
     "text": [
      "1\n",
      "<html>\n",
      " <body>\n",
      "  <div>\n",
      "   <br/>\n",
      "  </div>\n",
      "  <div>\n",
      "   <form action=\"/Catalog/CrossReference\" method=\"post\">\n",
      "    <table class=\"awe-grid table\">\n",
      "     <tr class=\"awe-row\" id=\"xref1510750\">\n",
      "      <td class=\"awe-grid td\">\n",
      "       AC Delco\n",
      "      </td>\n",
      "      <td class=\"awe-grid td\">\n",
      "       1510750\n",
      "      </td>\n",
      "     </tr>\n",
      "     <tr class=\"awe-row\" id=\"xref1531327\">\n",
      "      <td class=\"awe-grid td\">\n",
      "       AC Delco\n",
      "      </td>\n",
      "      <td class=\"awe-grid td\">\n",
      "       1531327\n",
      "      </td>\n",
      "     </tr>\n",
      "     <tr class=\"awe-row\" id=\"xref707048\">\n",
      "      <td class=\"awe-grid td\">\n",
      "       Compressor Works\n",
      "      </td>\n",
      "      <td class=\"awe-grid td\">\n",
      "       707048\n",
      "      </td>\n",
      "     </tr>\n",
      "     <tr class=\"awe-row\" id=\"xrefF3ZZ19D734BA\">\n",
      "      <td class=\"awe-grid td\">\n",
      "       Ford\n",
      "      </td>\n",
      "      <td class=\"awe-grid td\">\n",
      "       F3ZZ19D734BA\n",
      "      </td>\n",
      "     </tr>\n",
      "     <tr class=\"awe-row\" id=\"xref55664\">\n",
      "      <td class=\"awe-grid td\">\n",
      "       Four Seasons\n",
      "      </td>\n",
      "      <td class=\"awe-grid td\">\n",
      "       55664\n",
      "      </td>\n",
      "     </tr>\n",
      "     <tr class=\"awe-row\" id=\"xref4811402\">\n",
      "      <td class=\"awe-grid td\">\n",
      "       Global Parts Distributors\n",
      "      </td>\n",
      "      <td class=\"awe-grid td\">\n",
      "       4811402\n",
      "      </td>\n",
      "     </tr>\n",
      "     <tr class=\"awe-row\" id=\"xrefYF1703\">\n",
      "      <td class=\"awe-grid td\">\n",
      "       Motorcraft\n",
      "      </td>\n",
      "      <td class=\"awe-grid td\">\n",
      "       YF1703\n",
      "      </td>\n",
      "     </tr>\n",
      "     <tr class=\"awe-row\" id=\"xref200758\">\n",
      "      <td class=\"awe-grid td\">\n",
      "       NAPA\n",
      "      </td>\n",
      "      <td class=\"awe-grid td\">\n",
      "       200758\n",
      "      </td>\n",
      "     </tr>\n",
      "     <tr class=\"awe-row\" id=\"xrefTEM200758\">\n",
      "      <td class=\"awe-grid td\">\n",
      "       NAPA\n",
      "      </td>\n",
      "      <td class=\"awe-grid td\">\n",
      "       TEM200758\n",
      "      </td>\n",
      "     </tr>\n",
      "     <tr class=\"awe-row\" id=\"xref3656\">\n",
      "      <td class=\"awe-grid td\">\n",
      "       Ready-Aire/Proliance\n",
      "      </td>\n",
      "      <td class=\"awe-grid td\">\n",
      "       3656\n",
      "      </td>\n",
      "     </tr>\n",
      "     <tr class=\"awe-row\" id=\"xrefH6196\">\n",
      "      <td class=\"awe-grid td\">\n",
      "       Trad Automotive\n",
      "      </td>\n",
      "      <td class=\"awe-grid td\">\n",
      "       H6196\n",
      "      </td>\n",
      "     </tr>\n",
      "     <tr class=\"awe-row\" id=\"xrefH6306\">\n",
      "      <td class=\"awe-grid td\">\n",
      "       Trad Automotive\n",
      "      </td>\n",
      "      <td class=\"awe-grid td\">\n",
      "       H6306\n",
      "      </td>\n",
      "     </tr>\n",
      "     <tr class=\"awe-row\" id=\"xref520058\">\n",
      "      <td class=\"awe-grid td\">\n",
      "       Visteon\n",
      "      </td>\n",
      "      <td class=\"awe-grid td\">\n",
      "       520058\n",
      "      </td>\n",
      "     </tr>\n",
      "    </table>\n",
      "   </form>\n",
      "  </div>\n",
      " </body>\n",
      "</html>\n",
      "\n"
     ]
    }
   ],
   "source": [
    "import time\n",
    "\n",
    "count_retry = 0\n",
    "while True:\n",
    "    count_retry += 1\n",
    "    print(count_retry)\n",
    "    try:\n",
    "        url_check = crawler_series['[UAC] Url']\n",
    "\n",
    "        resp = requests.get(f'https://uacparts.com/Catalog/CrossReference?part={crawler_series['[UAC] Part Number']}',\n",
    "                            headers=get_header(),\n",
    "                            proxies=get_proxy(),\n",
    "                            timeout=(5, 15))\n",
    "\n",
    "        if resp.status_code == 200:\n",
    "            soup = BeautifulSoup(resp.text, 'lxml')\n",
    "            html = etree.HTML(str(soup))\n",
    "\n",
    "            if html.xpath('//form[@action=\"/Catalog/CrossReference\"]'):\n",
    "                with open('./oem.html', 'w', encoding='UTF-8') as file:\n",
    "                    file.write(str(soup))\n",
    "                break\n",
    "    except KeyboardInterrupt:\n",
    "        break\n",
    "    except:\n",
    "        time.sleep(3)\n",
    "        continue\n",
    "\n",
    "print(soup.prettify())"
   ]
  },
  {
   "cell_type": "code",
   "execution_count": 6,
   "id": "48619746-c7e0-4621-b205-6d1c1d79d40f",
   "metadata": {},
   "outputs": [
    {
     "data": {
      "text/plain": [
       "[<Element tr at 0x1046e76c0>,\n",
       " <Element tr at 0x11d044cc0>,\n",
       " <Element tr at 0x11d046d40>,\n",
       " <Element tr at 0x11d046b80>,\n",
       " <Element tr at 0x11d044840>,\n",
       " <Element tr at 0x11d046140>,\n",
       " <Element tr at 0x11d047840>,\n",
       " <Element tr at 0x11d046500>,\n",
       " <Element tr at 0x11d047bc0>,\n",
       " <Element tr at 0x11d046f00>,\n",
       " <Element tr at 0x11d047d40>,\n",
       " <Element tr at 0x11d044400>,\n",
       " <Element tr at 0x11d044080>]"
      ]
     },
     "execution_count": 6,
     "metadata": {},
     "output_type": "execute_result"
    }
   ],
   "source": [
    "list_tr = html.xpath('//tr[@class=\"awe-row\"]')\n",
    "\n",
    "list_tr"
   ]
  },
  {
   "cell_type": "code",
   "execution_count": 7,
   "id": "05ac4387-3d9e-4c0d-a8a0-6646655cfc14",
   "metadata": {},
   "outputs": [
    {
     "data": {
      "text/plain": [
       "'1510750;1531327;707048;F3ZZ19D734BA;55664;4811402;YF1703;200758;TEM200758;3656;H6196;H6306;520058'"
      ]
     },
     "execution_count": 7,
     "metadata": {},
     "output_type": "execute_result"
    }
   ],
   "source": [
    "oem = ';'.join(list(dict.fromkeys([tr.xpath('./td[@class=\"awe-grid td\"]/text()')[1] for tr in list_tr])))\n",
    "\n",
    "oem"
   ]
  },
  {
   "cell_type": "code",
   "execution_count": 8,
   "id": "99f49dd4-107b-4d6f-9ed6-1db0c1be6093",
   "metadata": {},
   "outputs": [
    {
     "data": {
      "text/plain": [
       "[{'Part Number': 'HA10018C',\n",
       "  '[UAC] Part Number': 'HA 10018C',\n",
       "  '[UAC] OEM': '1510750;1531327;707048;F3ZZ19D734BA;55664;4811402;YF1703;200758;TEM200758;3656;H6196;H6306;520058',\n",
       "  '[UAC] Picture': '',\n",
       "  '[UAC] Url': 'https://uacparts.com/Catalog/SearchIndex?search=HA10018C',\n",
       "  '[UAC] Json_Src': '{\"0\": \"https://www.uacparts.com/photo/WEBP/HA/HA 10018C_1_562.webp\", \"1\": \"https://www.uacparts.com/photo/WEBP/HA/HA 10018C_4_562.webp\"}',\n",
       "  '[UAC] Json_Note': '{\"0\": \"Accumulator with Hose Assembly\"}'}]"
      ]
     },
     "execution_count": 8,
     "metadata": {},
     "output_type": "execute_result"
    }
   ],
   "source": [
    "list_dict_correct.append({'Part Number': crawler_series['Part Number'],\n",
    "                          '[UAC] Part Number': crawler_series['[UAC] Part Number'],\n",
    "                          '[UAC] OEM': oem,\n",
    "                          '[UAC] Picture': crawler_series['[UAC] Picture'],\n",
    "                          '[UAC] Url': crawler_series['[UAC] Url'],\n",
    "                          '[UAC] Json_Src': crawler_series['[UAC] Json_Src'],\n",
    "                          '[UAC] Json_Note': crawler_series['[UAC] Json_Note']})\n",
    "\n",
    "list_dict_correct"
   ]
  },
  {
   "cell_type": "code",
   "execution_count": 9,
   "id": "fc4ed7f6-ed4f-431c-b944-b1690309cdae",
   "metadata": {},
   "outputs": [
    {
     "data": {
      "text/plain": [
       "True"
      ]
     },
     "execution_count": 9,
     "metadata": {},
     "output_type": "execute_result"
    }
   ],
   "source": [
    "crawler_status = True\n",
    "\n",
    "crawler_status"
   ]
  },
  {
   "cell_type": "code",
   "execution_count": 10,
   "id": "65c745d1-446e-46c5-9dec-819c9f7944d3",
   "metadata": {},
   "outputs": [
    {
     "data": {
      "text/plain": [
       "[Part Number                                                   HA10018C\n",
       " [UAC] Part Number                                            HA 10018C\n",
       " [UAC] Picture                                                         \n",
       " [UAC] Url            https://uacparts.com/Catalog/SearchIndex?searc...\n",
       " [UAC] Json_Src       {\"0\": \"https://www.uacparts.com/photo/WEBP/HA/...\n",
       " [UAC] Json_Note                {\"0\": \"Accumulator with Hose Assembly\"}\n",
       " Check_Url            https://uacparts.com/Catalog/SearchIndex?searc...\n",
       " Name: 0, dtype: object]"
      ]
     },
     "execution_count": 10,
     "metadata": {},
     "output_type": "execute_result"
    }
   ],
   "source": [
    "crawler_series['Check_Url'] = url_check\n",
    "\n",
    "list_series_error.append(crawler_series)\n",
    "\n",
    "list_series_error"
   ]
  },
  {
   "cell_type": "code",
   "execution_count": 11,
   "id": "17a796b2-35c8-4c10-960e-6111fec4b993",
   "metadata": {},
   "outputs": [
    {
     "data": {
      "text/html": [
       "<div>\n",
       "<style scoped>\n",
       "    .dataframe tbody tr th:only-of-type {\n",
       "        vertical-align: middle;\n",
       "    }\n",
       "\n",
       "    .dataframe tbody tr th {\n",
       "        vertical-align: top;\n",
       "    }\n",
       "\n",
       "    .dataframe thead th {\n",
       "        text-align: right;\n",
       "    }\n",
       "</style>\n",
       "<table border=\"1\" class=\"dataframe\">\n",
       "  <thead>\n",
       "    <tr style=\"text-align: right;\">\n",
       "      <th></th>\n",
       "      <th>Part Number</th>\n",
       "      <th>[UAC] Part Number</th>\n",
       "      <th>[UAC] OEM</th>\n",
       "      <th>[UAC] Picture</th>\n",
       "      <th>[UAC] Url</th>\n",
       "      <th>[UAC] Json_Src</th>\n",
       "      <th>[UAC] Json_Note</th>\n",
       "    </tr>\n",
       "  </thead>\n",
       "  <tbody>\n",
       "    <tr>\n",
       "      <th>0</th>\n",
       "      <td>HA10018C</td>\n",
       "      <td>HA 10018C</td>\n",
       "      <td>1510750;1531327;707048;F3ZZ19D734BA;55664;4811...</td>\n",
       "      <td></td>\n",
       "      <td>https://uacparts.com/Catalog/SearchIndex?searc...</td>\n",
       "      <td>{\"0\": \"https://www.uacparts.com/photo/WEBP/HA/...</td>\n",
       "      <td>{\"0\": \"Accumulator with Hose Assembly\"}</td>\n",
       "    </tr>\n",
       "  </tbody>\n",
       "</table>\n",
       "</div>"
      ],
      "text/plain": [
       "  Part Number [UAC] Part Number  \\\n",
       "0    HA10018C         HA 10018C   \n",
       "\n",
       "                                           [UAC] OEM [UAC] Picture  \\\n",
       "0  1510750;1531327;707048;F3ZZ19D734BA;55664;4811...                 \n",
       "\n",
       "                                           [UAC] Url  \\\n",
       "0  https://uacparts.com/Catalog/SearchIndex?searc...   \n",
       "\n",
       "                                      [UAC] Json_Src  \\\n",
       "0  {\"0\": \"https://www.uacparts.com/photo/WEBP/HA/...   \n",
       "\n",
       "                           [UAC] Json_Note  \n",
       "0  {\"0\": \"Accumulator with Hose Assembly\"}  "
      ]
     },
     "execution_count": 11,
     "metadata": {},
     "output_type": "execute_result"
    }
   ],
   "source": [
    "if list_dict_correct:\n",
    "    df_correct = pd.DataFrame(list_dict_correct).sort_values(by=['Part Number'],\n",
    "                                                             ascending=[True],\n",
    "                                                             ignore_index=True)\n",
    "    df_correct.to_excel('./test_oem.xlsx', index=False)\n",
    "\n",
    "df_correct"
   ]
  },
  {
   "cell_type": "code",
   "execution_count": 12,
   "id": "b21c3fac-203a-4c6e-b7ae-b0ac1a112665",
   "metadata": {},
   "outputs": [
    {
     "data": {
      "text/html": [
       "<div>\n",
       "<style scoped>\n",
       "    .dataframe tbody tr th:only-of-type {\n",
       "        vertical-align: middle;\n",
       "    }\n",
       "\n",
       "    .dataframe tbody tr th {\n",
       "        vertical-align: top;\n",
       "    }\n",
       "\n",
       "    .dataframe thead th {\n",
       "        text-align: right;\n",
       "    }\n",
       "</style>\n",
       "<table border=\"1\" class=\"dataframe\">\n",
       "  <thead>\n",
       "    <tr style=\"text-align: right;\">\n",
       "      <th></th>\n",
       "      <th>Part Number</th>\n",
       "      <th>[UAC] Part Number</th>\n",
       "      <th>[UAC] Picture</th>\n",
       "      <th>[UAC] Url</th>\n",
       "      <th>[UAC] Json_Src</th>\n",
       "      <th>[UAC] Json_Note</th>\n",
       "      <th>Check_Url</th>\n",
       "    </tr>\n",
       "  </thead>\n",
       "  <tbody>\n",
       "    <tr>\n",
       "      <th>0</th>\n",
       "      <td>HA10018C</td>\n",
       "      <td>HA 10018C</td>\n",
       "      <td></td>\n",
       "      <td>https://uacparts.com/Catalog/SearchIndex?searc...</td>\n",
       "      <td>{\"0\": \"https://www.uacparts.com/photo/WEBP/HA/...</td>\n",
       "      <td>{\"0\": \"Accumulator with Hose Assembly\"}</td>\n",
       "      <td>https://uacparts.com/Catalog/SearchIndex?searc...</td>\n",
       "    </tr>\n",
       "  </tbody>\n",
       "</table>\n",
       "</div>"
      ],
      "text/plain": [
       "  Part Number [UAC] Part Number [UAC] Picture  \\\n",
       "0    HA10018C         HA 10018C                 \n",
       "\n",
       "                                           [UAC] Url  \\\n",
       "0  https://uacparts.com/Catalog/SearchIndex?searc...   \n",
       "\n",
       "                                      [UAC] Json_Src  \\\n",
       "0  {\"0\": \"https://www.uacparts.com/photo/WEBP/HA/...   \n",
       "\n",
       "                           [UAC] Json_Note  \\\n",
       "0  {\"0\": \"Accumulator with Hose Assembly\"}   \n",
       "\n",
       "                                           Check_Url  \n",
       "0  https://uacparts.com/Catalog/SearchIndex?searc...  "
      ]
     },
     "execution_count": 12,
     "metadata": {},
     "output_type": "execute_result"
    }
   ],
   "source": [
    "if list_series_error:\n",
    "    df_error = pd.DataFrame(list_series_error).sort_values(by=['Part Number'],\n",
    "                                                           ascending=[True],\n",
    "                                                           ignore_index=True)\n",
    "    df_error.to_excel('./test_oem_error.xlsx', index=False)\n",
    "\n",
    "df_error"
   ]
  },
  {
   "cell_type": "code",
   "execution_count": null,
   "id": "ba5d9f77-7464-4ad5-a42b-1fa0c0505832",
   "metadata": {},
   "outputs": [],
   "source": []
  }
 ],
 "metadata": {
  "kernelspec": {
   "display_name": "Python 3 (ipykernel)",
   "language": "python",
   "name": "python3"
  },
  "language_info": {
   "codemirror_mode": {
    "name": "ipython",
    "version": 3
   },
   "file_extension": ".py",
   "mimetype": "text/x-python",
   "name": "python",
   "nbconvert_exporter": "python",
   "pygments_lexer": "ipython3",
   "version": "3.12.7"
  }
 },
 "nbformat": 4,
 "nbformat_minor": 5
}
