{
 "cells": [
  {
   "cell_type": "code",
   "execution_count": 1,
   "id": "658fe0e0",
   "metadata": {},
   "outputs": [],
   "source": [
    "import pandas as pd"
   ]
  },
  {
   "cell_type": "code",
   "execution_count": 2,
   "id": "0800cec7",
   "metadata": {},
   "outputs": [
    {
     "name": "stdout",
     "output_type": "stream",
     "text": [
      "总数量：150\n"
     ]
    },
    {
     "data": {
      "text/plain": [
       "['https://www.dormanproducts.com/p-131697-599-210xd.aspx?origin=keyword',\n",
       " 'https://www.dormanproducts.com/p-131698-599-211xd.aspx?origin=keyword',\n",
       " 'https://www.dormanproducts.com/p-106223-601-036.aspx?origin=keyword',\n",
       " 'https://www.dormanproducts.com/p-128361-599-215.aspx?origin=keyword',\n",
       " 'https://www.dormanproducts.com/p-82894-599-228.aspx?origin=keyword',\n",
       " 'https://www.dormanproducts.com/p-76754-599-226.aspx?origin=keyword',\n",
       " 'https://www.dormanproducts.com/p-72789-599-147.aspx?origin=keyword',\n",
       " 'https://www.dormanproducts.com/p-66592-599-149.aspx?origin=keyword',\n",
       " 'https://www.dormanproducts.com/p-78185-599-206.aspx?origin=keyword',\n",
       " 'https://www.dormanproducts.com/p-76398-599-197.aspx?origin=keyword',\n",
       " 'https://www.dormanproducts.com/p-65302-599-140.aspx?origin=keyword',\n",
       " 'https://www.dormanproducts.com/p-53418-599-128.aspx?origin=keyword',\n",
       " 'https://www.dormanproducts.com/p-76741-599-198.aspx?origin=keyword',\n",
       " 'https://www.dormanproducts.com/p-65300-599-130.aspx?origin=keyword',\n",
       " 'https://www.dormanproducts.com/p-73910-599-190.aspx?origin=keyword',\n",
       " 'https://www.dormanproducts.com/p-74179-599-144.aspx?origin=keyword',\n",
       " 'https://www.dormanproducts.com/p-49327-599-020.aspx?origin=keyword',\n",
       " 'https://www.dormanproducts.com/p-75961-599-145.aspx?origin=keyword',\n",
       " 'https://www.dormanproducts.com/p-131430-599-280.aspx?origin=keyword',\n",
       " 'https://www.dormanproducts.com/p-49317-599-017.aspx?origin=keyword',\n",
       " 'https://www.dormanproducts.com/p-74181-599-146.aspx?origin=keyword',\n",
       " 'https://www.dormanproducts.com/p-47094-599-009.aspx?origin=keyword',\n",
       " 'https://www.dormanproducts.com/p-46838-599-003.aspx?origin=keyword',\n",
       " 'https://www.dormanproducts.com/p-50180-599-015.aspx?origin=keyword',\n",
       " 'https://www.dormanproducts.com/p-49679-599-004.aspx?origin=keyword',\n",
       " 'https://www.dormanproducts.com/p-50290-599-027.aspx?origin=keyword',\n",
       " 'https://www.dormanproducts.com/p-74185-599-138.aspx?origin=keyword',\n",
       " 'https://www.dormanproducts.com/p-73207-599-189.aspx?origin=keyword',\n",
       " 'https://www.dormanproducts.com/p-50856-599-018.aspx?origin=keyword',\n",
       " 'https://www.dormanproducts.com/p-48281-599-019.aspx?origin=keyword',\n",
       " 'https://www.dormanproducts.com/p-52347-599-029.aspx?origin=keyword',\n",
       " 'https://www.dormanproducts.com/p-46714-599-001.aspx?origin=keyword',\n",
       " 'https://www.dormanproducts.com/p-131396-599-282.aspx?origin=keyword',\n",
       " 'https://www.dormanproducts.com/p-53514-599-133.aspx?origin=keyword',\n",
       " 'https://www.dormanproducts.com/p-131094-599-217.aspx?origin=keyword',\n",
       " 'https://www.dormanproducts.com/p-47096-599-013.aspx?origin=keyword',\n",
       " 'https://www.dormanproducts.com/p-73856-599-148.aspx?origin=keyword',\n",
       " 'https://www.dormanproducts.com/p-73855-599-142.aspx?origin=keyword',\n",
       " 'https://www.dormanproducts.com/p-73881-599-143.aspx?origin=keyword',\n",
       " 'https://www.dormanproducts.com/p-49678-599-025.aspx?origin=keyword',\n",
       " 'https://www.dormanproducts.com/p-128360-599-213.aspx?origin=keyword',\n",
       " 'https://www.dormanproducts.com/p-65298-599-132.aspx?origin=keyword',\n",
       " 'https://www.dormanproducts.com/p-67227-599-151.aspx?origin=keyword',\n",
       " 'https://www.dormanproducts.com/p-140459-599-272.aspx?origin=keyword',\n",
       " 'https://www.dormanproducts.com/p-78895-599-150.aspx?origin=keyword',\n",
       " 'https://www.dormanproducts.com/p-83820-599-267.aspx?origin=keyword',\n",
       " 'https://www.dormanproducts.com/p-125939-599-214.aspx?origin=keyword',\n",
       " 'https://www.dormanproducts.com/p-86474-599-203.aspx?origin=keyword',\n",
       " 'https://www.dormanproducts.com/p-83239-599-266.aspx?origin=keyword',\n",
       " 'https://www.dormanproducts.com/p-54599-599-002.aspx?origin=keyword',\n",
       " 'https://www.dormanproducts.com/p-67182-599-173.aspx?origin=keyword',\n",
       " 'https://www.dormanproducts.com/p-53521-599-172.aspx?origin=keyword',\n",
       " 'https://www.dormanproducts.com/p-72809-599-191.aspx?origin=keyword',\n",
       " 'https://www.dormanproducts.com/p-77229-599-260.aspx?origin=keyword',\n",
       " 'https://www.dormanproducts.com/p-77156-599-152.aspx?origin=keyword',\n",
       " 'https://www.dormanproducts.com/p-83923-599-204.aspx?origin=keyword',\n",
       " 'https://www.dormanproducts.com/p-72758-599-196.aspx?origin=keyword',\n",
       " 'https://www.dormanproducts.com/p-103190-599-012.aspx?origin=keyword',\n",
       " 'https://www.dormanproducts.com/p-140733-599-294.aspx?origin=keyword',\n",
       " 'https://www.dormanproducts.com/p-77853-599-225.aspx?origin=keyword',\n",
       " 'https://www.dormanproducts.com/p-130935-599-220.aspx?origin=keyword',\n",
       " 'https://www.dormanproducts.com/p-98037-599-268.aspx?origin=keyword',\n",
       " 'https://www.dormanproducts.com/p-80178-599-153.aspx?origin=keyword',\n",
       " 'https://www.dormanproducts.com/p-125156-599-218.aspx?origin=keyword',\n",
       " 'https://www.dormanproducts.com/p-128707-599-269.aspx?origin=keyword',\n",
       " 'https://www.dormanproducts.com/p-53515-599-129.aspx?origin=keyword',\n",
       " 'https://www.dormanproducts.com/p-53516-599-134.aspx?origin=keyword',\n",
       " 'https://www.dormanproducts.com/p-75833-599-199.aspx?origin=keyword',\n",
       " 'https://www.dormanproducts.com/p-52518-599-141.aspx?origin=keyword',\n",
       " 'https://www.dormanproducts.com/p-53511-599-161.aspx?origin=keyword',\n",
       " 'https://www.dormanproducts.com/p-46717-599-030.aspx?origin=keyword',\n",
       " 'https://www.dormanproducts.com/p-51685-599-011.aspx?origin=keyword',\n",
       " 'https://www.dormanproducts.com/p-128362-599-216.aspx?origin=keyword',\n",
       " 'https://www.dormanproducts.com/p-76094-599-193.aspx?origin=keyword',\n",
       " 'https://www.dormanproducts.com/p-83278-599-261.aspx?origin=keyword',\n",
       " 'https://www.dormanproducts.com/p-95001-599-270.aspx?origin=keyword',\n",
       " 'https://www.dormanproducts.com/p-68058-599-183.aspx?origin=keyword',\n",
       " 'https://www.dormanproducts.com/p-72703-599-127.aspx?origin=keyword',\n",
       " 'https://www.dormanproducts.com/p-85424-599-205.aspx?origin=keyword',\n",
       " 'https://www.dormanproducts.com/p-106089-599-212.aspx?origin=keyword',\n",
       " 'https://www.dormanproducts.com/p-66966-599-135.aspx?origin=keyword',\n",
       " 'https://www.dormanproducts.com/p-68055-599-186.aspx?origin=keyword',\n",
       " 'https://www.dormanproducts.com/p-72100-599-035.aspx?origin=keyword',\n",
       " 'https://www.dormanproducts.com/p-98359-599-271.aspx?origin=keyword',\n",
       " 'https://www.dormanproducts.com/p-86823-599-207.aspx?origin=keyword',\n",
       " 'https://www.dormanproducts.com/p-53554-599-032.aspx?origin=keyword',\n",
       " 'https://www.dormanproducts.com/p-67181-599-171.aspx?origin=keyword',\n",
       " 'https://www.dormanproducts.com/p-86918-599-265.aspx?origin=keyword',\n",
       " 'https://www.dormanproducts.com/p-66384-599-139.aspx?origin=keyword',\n",
       " 'https://www.dormanproducts.com/p-54701-599-033.aspx?origin=keyword',\n",
       " 'https://www.dormanproducts.com/p-142937-599-293.aspx?origin=keyword',\n",
       " 'https://www.dormanproducts.com/p-82619-599-040.aspx?origin=keyword',\n",
       " 'https://www.dormanproducts.com/p-128359-599-008.aspx?origin=keyword',\n",
       " 'https://www.dormanproducts.com/p-128376-599-5511.aspx?origin=keyword',\n",
       " 'https://www.dormanproducts.com/p-97810-599-006.aspx?origin=keyword',\n",
       " 'https://www.dormanproducts.com/p-97811-599-007.aspx?origin=keyword',\n",
       " 'https://www.dormanproducts.com/p-91341-599-050.aspx?origin=keyword',\n",
       " 'https://www.dormanproducts.com/p-138427-601-715.aspx?origin=keyword',\n",
       " 'https://www.dormanproducts.com/p-135588-601-704.aspx?origin=keyword',\n",
       " 'https://www.dormanproducts.com/p-135657-973-196.aspx?origin=keyword',\n",
       " 'https://www.dormanproducts.com/p-135654-973-176.aspx?origin=keyword',\n",
       " 'https://www.dormanproducts.com/p-135665-973-245.aspx?origin=keyword',\n",
       " 'https://www.dormanproducts.com/p-135912-973-420.aspx?origin=keyword',\n",
       " 'https://www.dormanproducts.com/p-134913-973-233.aspx?origin=keyword',\n",
       " 'https://www.dormanproducts.com/p-134900-973-189.aspx?origin=keyword',\n",
       " 'https://www.dormanproducts.com/p-137791-973-030.aspx?origin=keyword',\n",
       " 'https://www.dormanproducts.com/p-134891-973-045.aspx?origin=keyword',\n",
       " 'https://www.dormanproducts.com/p-34410-973-020.aspx?origin=keyword',\n",
       " 'https://www.dormanproducts.com/p-34584-973-008.aspx?origin=keyword',\n",
       " 'https://www.dormanproducts.com/p-134930-984-484.aspx?origin=keyword',\n",
       " 'https://www.dormanproducts.com/p-44119-973-001.aspx?origin=keyword',\n",
       " 'https://www.dormanproducts.com/p-34196-973-022.aspx?origin=keyword',\n",
       " 'https://www.dormanproducts.com/p-34333-973-017.aspx?origin=keyword',\n",
       " 'https://www.dormanproducts.com/p-34610-973-000.aspx?origin=keyword',\n",
       " 'https://www.dormanproducts.com/p-48404-973-047.aspx?origin=keyword',\n",
       " 'https://www.dormanproducts.com/p-35242-973-201.aspx?origin=keyword',\n",
       " 'https://www.dormanproducts.com/p-135661-973-238.aspx?origin=keyword',\n",
       " 'https://www.dormanproducts.com/p-134869-973-073.aspx?origin=keyword',\n",
       " 'https://www.dormanproducts.com/p-135660-973-235.aspx?origin=keyword',\n",
       " 'https://www.dormanproducts.com/p-48767-973-027.aspx?origin=keyword',\n",
       " 'https://www.dormanproducts.com/p-138708-599-961.aspx?origin=keyword',\n",
       " 'https://www.dormanproducts.com/p-34413-973-026.aspx?origin=keyword',\n",
       " 'https://www.dormanproducts.com/p-134874-973-180.aspx?origin=keyword',\n",
       " 'https://www.dormanproducts.com/p-100654-973-103.aspx?origin=keyword',\n",
       " 'https://www.dormanproducts.com/p-134897-973-155.aspx?origin=keyword',\n",
       " 'https://www.dormanproducts.com/p-100655-973-108.aspx?origin=keyword',\n",
       " 'https://www.dormanproducts.com/p-138165-984-251.aspx?origin=keyword',\n",
       " 'https://www.dormanproducts.com/p-135354-984-267.aspx?origin=keyword',\n",
       " 'https://www.dormanproducts.com/p-137483-984-123.aspx?origin=keyword',\n",
       " 'https://www.dormanproducts.com/p-134942-984-664.aspx?origin=keyword',\n",
       " 'https://www.dormanproducts.com/p-134876-973-226.aspx?origin=keyword',\n",
       " 'https://www.dormanproducts.com/p-34612-973-028.aspx?origin=keyword',\n",
       " 'https://www.dormanproducts.com/p-50806-84645.aspx?origin=keyword',\n",
       " 'https://www.dormanproducts.com/p-49122-973-032.aspx?origin=keyword',\n",
       " 'https://www.dormanproducts.com/p-34208-973-003.aspx?origin=keyword',\n",
       " 'https://www.dormanproducts.com/p-135653-973-160.aspx?origin=keyword',\n",
       " 'https://www.dormanproducts.com/p-134929-984-482.aspx?origin=keyword',\n",
       " 'https://www.dormanproducts.com/p-135915-984-401.aspx?origin=keyword',\n",
       " 'https://www.dormanproducts.com/p-135916-984-486.aspx?origin=keyword',\n",
       " 'https://www.dormanproducts.com/p-135651-973-157.aspx?origin=keyword',\n",
       " 'https://www.dormanproducts.com/p-34159-973-016.aspx?origin=keyword',\n",
       " 'https://www.dormanproducts.com/p-135032-984-201.aspx?origin=keyword',\n",
       " 'https://www.dormanproducts.com/p-10376-645-702.aspx?origin=keyword',\n",
       " 'https://www.dormanproducts.com/p-138424-973-271.aspx?origin=keyword',\n",
       " 'https://www.dormanproducts.com/p-140725-984-247.aspx?origin=keyword',\n",
       " 'https://www.dormanproducts.com/p-73244-961-304.aspx?origin=keyword',\n",
       " 'https://www.dormanproducts.com/p-100837-961-304d.aspx?origin=keyword',\n",
       " 'https://www.dormanproducts.com/p-8384-700-520.aspx?origin=keyword',\n",
       " 'https://www.dormanproducts.com/p-21977-45406.aspx?origin=keyword',\n",
       " 'https://www.dormanproducts.com/p-125851-700-520bx.aspx?origin=keyword']"
      ]
     },
     "execution_count": 2,
     "metadata": {},
     "output_type": "execute_result"
    }
   ],
   "source": [
    "df_menu = pd.read_excel('./menu.xlsx',\n",
    "                        header=0,\n",
    "                        dtype=str).fillna('')\n",
    "\n",
    "list_url = df_menu['Url'].tolist()\n",
    "\n",
    "print('总数量：' + str(len(list_url)))\n",
    "list_url"
   ]
  },
  {
   "cell_type": "code",
   "execution_count": 3,
   "id": "678b39c0",
   "metadata": {},
   "outputs": [
    {
     "data": {
      "text/html": [
       "<div>\n",
       "<style scoped>\n",
       "    .dataframe tbody tr th:only-of-type {\n",
       "        vertical-align: middle;\n",
       "    }\n",
       "\n",
       "    .dataframe tbody tr th {\n",
       "        vertical-align: top;\n",
       "    }\n",
       "\n",
       "    .dataframe thead th {\n",
       "        text-align: right;\n",
       "    }\n",
       "</style>\n",
       "<table border=\"1\" class=\"dataframe\">\n",
       "  <thead>\n",
       "    <tr style=\"text-align: right;\">\n",
       "      <th></th>\n",
       "    </tr>\n",
       "  </thead>\n",
       "  <tbody>\n",
       "  </tbody>\n",
       "</table>\n",
       "</div>"
      ],
      "text/plain": [
       "Empty DataFrame\n",
       "Columns: []\n",
       "Index: []"
      ]
     },
     "execution_count": 3,
     "metadata": {},
     "output_type": "execute_result"
    }
   ],
   "source": [
    "df = pd.DataFrame()\n",
    "\n",
    "df"
   ]
  },
  {
   "cell_type": "code",
   "execution_count": 4,
   "id": "b8a18426",
   "metadata": {},
   "outputs": [
    {
     "data": {
      "text/plain": [
       "'https://www.dormanproducts.com/p-50806-84645.aspx?origin=keyword'"
      ]
     },
     "execution_count": 4,
     "metadata": {},
     "output_type": "execute_result"
    }
   ],
   "source": [
    "url = list_url[0]\n",
    "\n",
    "url"
   ]
  },
  {
   "cell_type": "code",
   "execution_count": 5,
   "id": "b7fbd193",
   "metadata": {},
   "outputs": [],
   "source": [
    "import requests\n",
    "from bs4 import BeautifulSoup\n",
    "from lxml import etree"
   ]
  },
  {
   "cell_type": "code",
   "execution_count": 6,
   "id": "fbc8c78b",
   "metadata": {},
   "outputs": [
    {
     "data": {
      "text/plain": [
       "'<head><title>ShieldSquare Captcha</title><script type=\"text/javascript\">\\n\\twindow.SSJSInternal = 34673;\\n\\n    var __uzdbm_1 = \"b86d1ed5-10d7-44c0-b822-68c5dfff4607\";\\n    var __uzdbm_2 = \"ZDRkOGU0MWMtYnUydi00ZDNmLTg2MGEtMTc5ZWY5NDljY2YyJDEyMC4zMi4xMjUuMjQ2\";\\n\\n\\t(function(w, d, e, u, c, g, a, b){\\n\\t\\tw[\"SSJSConnectorObj\"] = w[\"SSJSConnectorObj\"] || {ss_cid : c, domain_info: g};\\n\\t\\ta = d.createElement(e);\\n\\t\\ta.async = true;\\n\\t\\ta.src = u;\\n\\t\\tb = d.getElementsByTagName(e)[0];\\n\\t\\tb.parentNode.insertBefore(a, b);\\n\\t})(window,document,\"script\",\"https://cdn.perfdrive.com/aperture/aperture.js\",\"b8c3\",\"auto\");\\n</script>\\n</head><div>\\n\\n<style>\\n    h1 { font-size: 36px; margin: 10px 0;}\\n    img { vertical-align: middle; }\\n    .container { font-size: 15px; margin: 20px; line-height: 1.5; color: #333; background-color: #fff; font-family: \"open sans\", arial, sans-serif;}\\n    .row { margin: 10px; height: auto; text-align: left; }\\n    .footer { font-size: 14px; background-color: #f5f5f5; color: #808080; width: 100%; text-align: center; overflow: auto; padding: 10px 0;}\\n</style>\\n<div class=\"container\">\\n    <div class=\"row\"><img src=\"https://static.dormanproducts.com/images/website/homepage/dorman_logo.gif\" alt=\"logo\"> </div>\\n    <div class=\"row\">\\n        <div>\\n            <h1>We apologize for the inconvenience...</h1>\\n            <p>...but your activity and behavior on this site made us think that you are a bot.</p>\\n            <p><strong>Note:</strong> A number of things could be going on here.</p>\\n            <li>If you are attempting to access this site using an anonymous Private/Proxy network, please disable that and try accessing site again.</li>\\n            <li>Due to previously detected malicious behavior which originated from the network you\\'re using, please request that we unblock you by reaching out to our Customer Service team at 1-800-523-2492.</li>\\n        </div>\\n        <br>\\n        <div><strong>Case ID: d4d8e41c-bu2v-4d3f-860a-179ef949ccf2</strong></div>\\n    </div>\\n    <br>\\n    <div class=\"row\" style=\"text-align: center;\">\\n        <div><p><strong> Please solve this CAPTCHA to request unblock to the website </strong></p></div>\\n        <br>\\n         <div class=\"captcha-mid\">\\n            <!-- *Required - Uncomment the below commented php code and remove \\'echo 1234\\' before submit -->\\n            <form action=\"\" method=POST style=\"width:300px;margin-left:auto;margin-right:auto;\">\\n            <script type=\"text/javascript\" src=\"https://hcaptcha.com/1/api.js?recaptchacompat=off\"></script>\\n            <div class=\"h-captcha\" data-sitekey=\"ae73173b-7003-44e0-bc87-654d0dab8b75\"></div>\\n            <center><br><input type=\"submit\" class=\"btn btn-success btn-sm\" Value=\"Submit\"><br></center>\\n            </form>\\n                                                     <br></div>\\n    </div>\\n</div>\\n\\n</div>'"
      ]
     },
     "execution_count": 6,
     "metadata": {},
     "output_type": "execute_result"
    }
   ],
   "source": [
    "resp = requests.get(url).text\n",
    "soup = BeautifulSoup(resp, 'lxml')\n",
    "html = etree.HTML(str(soup))\n",
    "\n",
    "resp"
   ]
  },
  {
   "cell_type": "code",
   "execution_count": 7,
   "id": "895d73c5",
   "metadata": {},
   "outputs": [
    {
     "data": {
      "text/plain": [
       "''"
      ]
     },
     "execution_count": 7,
     "metadata": {},
     "output_type": "execute_result"
    }
   ],
   "source": [
    "application_summary = ''.join(html.xpath('//div[@id=\"divAppSummary\"]/p/text()')).strip()\n",
    "\n",
    "application_summary"
   ]
  },
  {
   "cell_type": "code",
   "execution_count": 8,
   "id": "dd727944",
   "metadata": {},
   "outputs": [
    {
     "data": {
      "text/plain": [
       "''"
      ]
     },
     "execution_count": 8,
     "metadata": {},
     "output_type": "execute_result"
    }
   ],
   "source": [
    "if len(html.xpath('//input[@id=\"hidfDetailApp\"]/@value')) == 0:\n",
    "    vehicle_url = ''\n",
    "else:\n",
    "    vehicle_url = 'https://www.dormanproducts.com/' + html.xpath('//input[@id=\"hidfDetailApp\"]/@value')[0]\n",
    "\n",
    "vehicle_url"
   ]
  },
  {
   "cell_type": "code",
   "execution_count": 9,
   "id": "7e5c46f9",
   "metadata": {},
   "outputs": [
    {
     "data": {
      "text/plain": [
       "''"
      ]
     },
     "execution_count": 9,
     "metadata": {},
     "output_type": "execute_result"
    }
   ],
   "source": [
    "oe = ';'.join(html.xpath('//section[@id=\"productOE\"]/descendant::tbody/tr/th[@scope=\"row\"]/text()'))\n",
    "\n",
    "oe"
   ]
  },
  {
   "cell_type": "code",
   "execution_count": 10,
   "id": "42006788",
   "metadata": {},
   "outputs": [
    {
     "data": {
      "text/html": [
       "<div>\n",
       "<style scoped>\n",
       "    .dataframe tbody tr th:only-of-type {\n",
       "        vertical-align: middle;\n",
       "    }\n",
       "\n",
       "    .dataframe tbody tr th {\n",
       "        vertical-align: top;\n",
       "    }\n",
       "\n",
       "    .dataframe thead th {\n",
       "        text-align: right;\n",
       "    }\n",
       "</style>\n",
       "<table border=\"1\" class=\"dataframe\">\n",
       "  <thead>\n",
       "    <tr style=\"text-align: right;\">\n",
       "      <th></th>\n",
       "      <th>status</th>\n",
       "      <th>Application_Summary</th>\n",
       "      <th>OE</th>\n",
       "      <th>Pic</th>\n",
       "      <th>Url</th>\n",
       "      <th>Vehicle_Url</th>\n",
       "    </tr>\n",
       "  </thead>\n",
       "  <tbody>\n",
       "    <tr>\n",
       "      <th>0</th>\n",
       "      <td>ok</td>\n",
       "      <td></td>\n",
       "      <td></td>\n",
       "      <td></td>\n",
       "      <td>https://www.dormanproducts.com/p-50806-84645.a...</td>\n",
       "      <td></td>\n",
       "    </tr>\n",
       "  </tbody>\n",
       "</table>\n",
       "</div>"
      ],
      "text/plain": [
       "  status Application_Summary OE Pic  \\\n",
       "0     ok                              \n",
       "\n",
       "                                                 Url Vehicle_Url  \n",
       "0  https://www.dormanproducts.com/p-50806-84645.a...              "
      ]
     },
     "execution_count": 10,
     "metadata": {},
     "output_type": "execute_result"
    }
   ],
   "source": [
    "df_temp = pd.DataFrame([{'status': 'ok',\n",
    "                         '序号': '',\n",
    "                         'Part_Number': '',\n",
    "                         'Part_Type': '',\n",
    "                         'Application_Summary': application_summary,\n",
    "                         'Vehicle': '',\n",
    "                         'OE': oe,\n",
    "                         'Pic': '',\n",
    "                         'Url': url,\n",
    "                         'Vehicle_Url': vehicle_url,\n",
    "                         'Src': ''}])\n",
    "\n",
    "df_temp"
   ]
  },
  {
   "cell_type": "code",
   "execution_count": 11,
   "id": "2fd11a09",
   "metadata": {},
   "outputs": [
    {
     "data": {
      "text/html": [
       "<div>\n",
       "<style scoped>\n",
       "    .dataframe tbody tr th:only-of-type {\n",
       "        vertical-align: middle;\n",
       "    }\n",
       "\n",
       "    .dataframe tbody tr th {\n",
       "        vertical-align: top;\n",
       "    }\n",
       "\n",
       "    .dataframe thead th {\n",
       "        text-align: right;\n",
       "    }\n",
       "</style>\n",
       "<table border=\"1\" class=\"dataframe\">\n",
       "  <thead>\n",
       "    <tr style=\"text-align: right;\">\n",
       "      <th></th>\n",
       "      <th>status</th>\n",
       "      <th>Application_Summary</th>\n",
       "      <th>OE</th>\n",
       "      <th>Pic</th>\n",
       "      <th>Url</th>\n",
       "      <th>Vehicle_Url</th>\n",
       "    </tr>\n",
       "  </thead>\n",
       "  <tbody>\n",
       "    <tr>\n",
       "      <th>0</th>\n",
       "      <td>ok</td>\n",
       "      <td></td>\n",
       "      <td></td>\n",
       "      <td></td>\n",
       "      <td>https://www.dormanproducts.com/p-50806-84645.a...</td>\n",
       "      <td></td>\n",
       "    </tr>\n",
       "  </tbody>\n",
       "</table>\n",
       "</div>"
      ],
      "text/plain": [
       "  status Application_Summary OE Pic  \\\n",
       "0     ok                              \n",
       "\n",
       "                                                 Url Vehicle_Url  \n",
       "0  https://www.dormanproducts.com/p-50806-84645.a...              "
      ]
     },
     "execution_count": 11,
     "metadata": {},
     "output_type": "execute_result"
    }
   ],
   "source": [
    "list_specification = html.xpath('//section[@id=\"productSpec\"]/descendant::tr')\n",
    "for specification in list_specification:\n",
    "    df_temp[specification.xpath('./th/text()')[0].strip()[:-1].lower()] = specification.xpath('./td/text()')[0]\n",
    "    \n",
    "df = pd.concat([df, df_temp], ignore_index=True).fillna('')\n",
    "\n",
    "df"
   ]
  },
  {
   "cell_type": "code",
   "execution_count": null,
   "id": "7cc968f0",
   "metadata": {},
   "outputs": [],
   "source": []
  }
 ],
 "metadata": {
  "kernelspec": {
   "display_name": "Python 3 (ipykernel)",
   "language": "python",
   "name": "python3"
  },
  "language_info": {
   "codemirror_mode": {
    "name": "ipython",
    "version": 3
   },
   "file_extension": ".py",
   "mimetype": "text/x-python",
   "name": "python",
   "nbconvert_exporter": "python",
   "pygments_lexer": "ipython3",
   "version": "3.11.5"
  }
 },
 "nbformat": 4,
 "nbformat_minor": 5
}
