{
 "cells": [
  {
   "cell_type": "code",
   "execution_count": 1,
   "id": "8b7c7989",
   "metadata": {},
   "outputs": [],
   "source": [
    "auth = '757F054AA22E1711B598A89EB276EDC193933EC8'\n",
    "\n",
    "list_appid = ['tfy6d12dc-19a5-4093-9f00-f276d950f77',\n",
    "              'picheng11-5163-4258-be21-a5629527a07',\n",
    "              'Shanghai-b2aa-4eed-82c3-b1e42e2e9179',\n",
    "              'danjidin-f8b1-4e84-adce-026944025ceb',\n",
    "              'ibay365a-b93e-46e7-8b46-6a33b716ab2a',\n",
    "              '-IBAY365-PRD-08e35c535-85b731b3']"
   ]
  },
  {
   "cell_type": "code",
   "execution_count": 2,
   "id": "8075a3c1",
   "metadata": {},
   "outputs": [],
   "source": [
    "import pandas as pd"
   ]
  },
  {
   "cell_type": "code",
   "execution_count": 3,
   "id": "5114b304",
   "metadata": {},
   "outputs": [
    {
     "ename": "FileNotFoundError",
     "evalue": "[Errno 2] No such file or directory: './menu.xlsx'",
     "output_type": "error",
     "traceback": [
      "\u001b[0;31m---------------------------------------------------------------------------\u001b[0m",
      "\u001b[0;31mFileNotFoundError\u001b[0m                         Traceback (most recent call last)",
      "Cell \u001b[0;32mIn[3], line 1\u001b[0m\n\u001b[0;32m----> 1\u001b[0m df_menu \u001b[38;5;241m=\u001b[39m \u001b[43mpd\u001b[49m\u001b[38;5;241;43m.\u001b[39;49m\u001b[43mread_excel\u001b[49m\u001b[43m(\u001b[49m\u001b[38;5;124;43m'\u001b[39;49m\u001b[38;5;124;43m./menu.xlsx\u001b[39;49m\u001b[38;5;124;43m'\u001b[39;49m\u001b[43m,\u001b[49m\u001b[43m \u001b[49m\u001b[43mheader\u001b[49m\u001b[38;5;241;43m=\u001b[39;49m\u001b[38;5;241;43m0\u001b[39;49m\u001b[43m,\u001b[49m\u001b[43m \u001b[49m\u001b[43mdtype\u001b[49m\u001b[38;5;241;43m=\u001b[39;49m\u001b[43m{\u001b[49m\u001b[38;5;124;43m'\u001b[39;49m\u001b[38;5;124;43mItem_Number\u001b[39;49m\u001b[38;5;124;43m'\u001b[39;49m\u001b[43m:\u001b[49m\u001b[43m \u001b[49m\u001b[38;5;28;43mstr\u001b[39;49m\u001b[43m}\u001b[49m\u001b[43m)\u001b[49m\n\u001b[1;32m      2\u001b[0m list_item \u001b[38;5;241m=\u001b[39m df_menu[\u001b[38;5;124m'\u001b[39m\u001b[38;5;124mItem_Number\u001b[39m\u001b[38;5;124m'\u001b[39m]\u001b[38;5;241m.\u001b[39mto_list()\n\u001b[1;32m      4\u001b[0m \u001b[38;5;28mprint\u001b[39m(\u001b[38;5;124m'\u001b[39m\u001b[38;5;124m总数量：\u001b[39m\u001b[38;5;124m'\u001b[39m \u001b[38;5;241m+\u001b[39m \u001b[38;5;28mstr\u001b[39m(\u001b[38;5;28mlen\u001b[39m(list_item)))\n",
      "File \u001b[0;32m~/Desktop/YangTeng/code/venv/lib/python3.11/site-packages/pandas/io/excel/_base.py:478\u001b[0m, in \u001b[0;36mread_excel\u001b[0;34m(io, sheet_name, header, names, index_col, usecols, dtype, engine, converters, true_values, false_values, skiprows, nrows, na_values, keep_default_na, na_filter, verbose, parse_dates, date_parser, date_format, thousands, decimal, comment, skipfooter, storage_options, dtype_backend)\u001b[0m\n\u001b[1;32m    476\u001b[0m \u001b[38;5;28;01mif\u001b[39;00m \u001b[38;5;129;01mnot\u001b[39;00m \u001b[38;5;28misinstance\u001b[39m(io, ExcelFile):\n\u001b[1;32m    477\u001b[0m     should_close \u001b[38;5;241m=\u001b[39m \u001b[38;5;28;01mTrue\u001b[39;00m\n\u001b[0;32m--> 478\u001b[0m     io \u001b[38;5;241m=\u001b[39m \u001b[43mExcelFile\u001b[49m\u001b[43m(\u001b[49m\u001b[43mio\u001b[49m\u001b[43m,\u001b[49m\u001b[43m \u001b[49m\u001b[43mstorage_options\u001b[49m\u001b[38;5;241;43m=\u001b[39;49m\u001b[43mstorage_options\u001b[49m\u001b[43m,\u001b[49m\u001b[43m \u001b[49m\u001b[43mengine\u001b[49m\u001b[38;5;241;43m=\u001b[39;49m\u001b[43mengine\u001b[49m\u001b[43m)\u001b[49m\n\u001b[1;32m    479\u001b[0m \u001b[38;5;28;01melif\u001b[39;00m engine \u001b[38;5;129;01mand\u001b[39;00m engine \u001b[38;5;241m!=\u001b[39m io\u001b[38;5;241m.\u001b[39mengine:\n\u001b[1;32m    480\u001b[0m     \u001b[38;5;28;01mraise\u001b[39;00m \u001b[38;5;167;01mValueError\u001b[39;00m(\n\u001b[1;32m    481\u001b[0m         \u001b[38;5;124m\"\u001b[39m\u001b[38;5;124mEngine should not be specified when passing \u001b[39m\u001b[38;5;124m\"\u001b[39m\n\u001b[1;32m    482\u001b[0m         \u001b[38;5;124m\"\u001b[39m\u001b[38;5;124man ExcelFile - ExcelFile already has the engine set\u001b[39m\u001b[38;5;124m\"\u001b[39m\n\u001b[1;32m    483\u001b[0m     )\n",
      "File \u001b[0;32m~/Desktop/YangTeng/code/venv/lib/python3.11/site-packages/pandas/io/excel/_base.py:1496\u001b[0m, in \u001b[0;36mExcelFile.__init__\u001b[0;34m(self, path_or_buffer, engine, storage_options)\u001b[0m\n\u001b[1;32m   1494\u001b[0m     ext \u001b[38;5;241m=\u001b[39m \u001b[38;5;124m\"\u001b[39m\u001b[38;5;124mxls\u001b[39m\u001b[38;5;124m\"\u001b[39m\n\u001b[1;32m   1495\u001b[0m \u001b[38;5;28;01melse\u001b[39;00m:\n\u001b[0;32m-> 1496\u001b[0m     ext \u001b[38;5;241m=\u001b[39m \u001b[43minspect_excel_format\u001b[49m\u001b[43m(\u001b[49m\n\u001b[1;32m   1497\u001b[0m \u001b[43m        \u001b[49m\u001b[43mcontent_or_path\u001b[49m\u001b[38;5;241;43m=\u001b[39;49m\u001b[43mpath_or_buffer\u001b[49m\u001b[43m,\u001b[49m\u001b[43m \u001b[49m\u001b[43mstorage_options\u001b[49m\u001b[38;5;241;43m=\u001b[39;49m\u001b[43mstorage_options\u001b[49m\n\u001b[1;32m   1498\u001b[0m \u001b[43m    \u001b[49m\u001b[43m)\u001b[49m\n\u001b[1;32m   1499\u001b[0m     \u001b[38;5;28;01mif\u001b[39;00m ext \u001b[38;5;129;01mis\u001b[39;00m \u001b[38;5;28;01mNone\u001b[39;00m:\n\u001b[1;32m   1500\u001b[0m         \u001b[38;5;28;01mraise\u001b[39;00m \u001b[38;5;167;01mValueError\u001b[39;00m(\n\u001b[1;32m   1501\u001b[0m             \u001b[38;5;124m\"\u001b[39m\u001b[38;5;124mExcel file format cannot be determined, you must specify \u001b[39m\u001b[38;5;124m\"\u001b[39m\n\u001b[1;32m   1502\u001b[0m             \u001b[38;5;124m\"\u001b[39m\u001b[38;5;124man engine manually.\u001b[39m\u001b[38;5;124m\"\u001b[39m\n\u001b[1;32m   1503\u001b[0m         )\n",
      "File \u001b[0;32m~/Desktop/YangTeng/code/venv/lib/python3.11/site-packages/pandas/io/excel/_base.py:1371\u001b[0m, in \u001b[0;36minspect_excel_format\u001b[0;34m(content_or_path, storage_options)\u001b[0m\n\u001b[1;32m   1368\u001b[0m \u001b[38;5;28;01mif\u001b[39;00m \u001b[38;5;28misinstance\u001b[39m(content_or_path, \u001b[38;5;28mbytes\u001b[39m):\n\u001b[1;32m   1369\u001b[0m     content_or_path \u001b[38;5;241m=\u001b[39m BytesIO(content_or_path)\n\u001b[0;32m-> 1371\u001b[0m \u001b[38;5;28;01mwith\u001b[39;00m \u001b[43mget_handle\u001b[49m\u001b[43m(\u001b[49m\n\u001b[1;32m   1372\u001b[0m \u001b[43m    \u001b[49m\u001b[43mcontent_or_path\u001b[49m\u001b[43m,\u001b[49m\u001b[43m \u001b[49m\u001b[38;5;124;43m\"\u001b[39;49m\u001b[38;5;124;43mrb\u001b[39;49m\u001b[38;5;124;43m\"\u001b[39;49m\u001b[43m,\u001b[49m\u001b[43m \u001b[49m\u001b[43mstorage_options\u001b[49m\u001b[38;5;241;43m=\u001b[39;49m\u001b[43mstorage_options\u001b[49m\u001b[43m,\u001b[49m\u001b[43m \u001b[49m\u001b[43mis_text\u001b[49m\u001b[38;5;241;43m=\u001b[39;49m\u001b[38;5;28;43;01mFalse\u001b[39;49;00m\n\u001b[1;32m   1373\u001b[0m \u001b[43m\u001b[49m\u001b[43m)\u001b[49m \u001b[38;5;28;01mas\u001b[39;00m handle:\n\u001b[1;32m   1374\u001b[0m     stream \u001b[38;5;241m=\u001b[39m handle\u001b[38;5;241m.\u001b[39mhandle\n\u001b[1;32m   1375\u001b[0m     stream\u001b[38;5;241m.\u001b[39mseek(\u001b[38;5;241m0\u001b[39m)\n",
      "File \u001b[0;32m~/Desktop/YangTeng/code/venv/lib/python3.11/site-packages/pandas/io/common.py:868\u001b[0m, in \u001b[0;36mget_handle\u001b[0;34m(path_or_buf, mode, encoding, compression, memory_map, is_text, errors, storage_options)\u001b[0m\n\u001b[1;32m    859\u001b[0m         handle \u001b[38;5;241m=\u001b[39m \u001b[38;5;28mopen\u001b[39m(\n\u001b[1;32m    860\u001b[0m             handle,\n\u001b[1;32m    861\u001b[0m             ioargs\u001b[38;5;241m.\u001b[39mmode,\n\u001b[0;32m   (...)\u001b[0m\n\u001b[1;32m    864\u001b[0m             newline\u001b[38;5;241m=\u001b[39m\u001b[38;5;124m\"\u001b[39m\u001b[38;5;124m\"\u001b[39m,\n\u001b[1;32m    865\u001b[0m         )\n\u001b[1;32m    866\u001b[0m     \u001b[38;5;28;01melse\u001b[39;00m:\n\u001b[1;32m    867\u001b[0m         \u001b[38;5;66;03m# Binary mode\u001b[39;00m\n\u001b[0;32m--> 868\u001b[0m         handle \u001b[38;5;241m=\u001b[39m \u001b[38;5;28;43mopen\u001b[39;49m\u001b[43m(\u001b[49m\u001b[43mhandle\u001b[49m\u001b[43m,\u001b[49m\u001b[43m \u001b[49m\u001b[43mioargs\u001b[49m\u001b[38;5;241;43m.\u001b[39;49m\u001b[43mmode\u001b[49m\u001b[43m)\u001b[49m\n\u001b[1;32m    869\u001b[0m     handles\u001b[38;5;241m.\u001b[39mappend(handle)\n\u001b[1;32m    871\u001b[0m \u001b[38;5;66;03m# Convert BytesIO or file objects passed with an encoding\u001b[39;00m\n",
      "\u001b[0;31mFileNotFoundError\u001b[0m: [Errno 2] No such file or directory: './menu.xlsx'"
     ]
    }
   ],
   "source": [
    "df_menu = pd.read_excel('./menu.xlsx', header=0, dtype={'Item_Number': str})\n",
    "list_item = df_menu['Item_Number'].to_list()\n",
    "\n",
    "print('总数量：' + str(len(list_item)))\n",
    "list_item"
   ]
  },
  {
   "cell_type": "code",
   "execution_count": null,
   "id": "a8379388",
   "metadata": {},
   "outputs": [],
   "source": [
    "df = pd.DataFrame(columns=['Item_Number',\n",
    "                           'Title',\n",
    "                           'Price',\n",
    "                           'Sold',\n",
    "                           'Vehicle',\n",
    "                           'Src',\n",
    "                           'status'])\n",
    "\n",
    "df"
   ]
  },
  {
   "cell_type": "code",
   "execution_count": null,
   "id": "87f719a6",
   "metadata": {},
   "outputs": [],
   "source": [
    "import random\n",
    "import requests\n",
    "import json"
   ]
  },
  {
   "cell_type": "code",
   "execution_count": null,
   "id": "186d585b",
   "metadata": {},
   "outputs": [],
   "source": [
    "i = 0\n",
    "\n",
    "index_appid = random.randint(0, 5)\n",
    "\n",
    "developer = 'http://106.75.138.2/index.php/api/GetAppToken?auth=' + auth + '&appid=' + list_appid[index_appid]\n",
    "resp = requests.get(developer).text\n",
    "token = json.loads(resp)['getapptokenResponse']['token']\n",
    "\n",
    "token"
   ]
  },
  {
   "cell_type": "code",
   "execution_count": null,
   "id": "f015e892",
   "metadata": {},
   "outputs": [],
   "source": [
    "headers = {'X-EBAY-API-IAF-TOKEN': token}\n",
    "resp = requests.get('https://open.api.ebay.com/shopping?callname=GetSingleItem&appid=' + list_appid[index_appid] + '&responseencoding=JSON&siteid=0&version=967&IncludeSelector=Details,Compatibility,ItemSpecifics&ItemID=' + list_item[i], headers=headers).text\n",
    "\n",
    "info = json.loads(resp)\n",
    "if info['Ack'] != 'Success':\n",
    "    print('Error')\n",
    "else:\n",
    "    print('Success')\n",
    "    \n",
    "info"
   ]
  },
  {
   "cell_type": "code",
   "execution_count": null,
   "id": "dc30aeed",
   "metadata": {},
   "outputs": [],
   "source": [
    "# Item.Title - None\n",
    "title = info['Item']['Title']\n",
    "\n",
    "title"
   ]
  },
  {
   "cell_type": "code",
   "execution_count": null,
   "id": "05c6f076",
   "metadata": {},
   "outputs": [],
   "source": [
    "# Item.CurrentPrice - None\n",
    "price = info['Item']['CurrentPrice']['CurrencyID'] + ' ' + str(info['Item']['CurrentPrice']['Value'])\n",
    "\n",
    "price"
   ]
  },
  {
   "cell_type": "code",
   "execution_count": null,
   "id": "7efc1fbd",
   "metadata": {},
   "outputs": [],
   "source": [
    "# Item.QuantitySold - Details\n",
    "sold = info['Item']['QuantitySold']\n",
    "\n",
    "sold"
   ]
  },
  {
   "cell_type": "code",
   "execution_count": null,
   "id": "d839baff",
   "metadata": {},
   "outputs": [],
   "source": [
    "# Item.ItemCompatibilityList - Compatibility\n",
    "if 'ItemCompatibilityList' in info['Item']:\n",
    "    vehicle = info['Item']['ItemCompatibilityList']['Compatibility']\n",
    "else:\n",
    "    vehicle = ''\n",
    "    \n",
    "vehicle"
   ]
  },
  {
   "cell_type": "code",
   "execution_count": null,
   "id": "ca03707e",
   "metadata": {},
   "outputs": [],
   "source": [
    "dict_vehicle = {}\n",
    "for list_name_value in vehicle:\n",
    "    make = ''\n",
    "    model = ''\n",
    "    year = ''\n",
    "    for name_value in list_name_value['NameValueList']:\n",
    "        if 'Name' in name_value and 'Make' in name_value['Name']:\n",
    "            make = name_value['Value'][0]\n",
    "        elif 'Name' in name_value and 'Model' in name_value['Name']:\n",
    "            model = name_value['Value'][0]\n",
    "        elif 'Name' in name_value and 'Year' in name_value['Name']:\n",
    "            year = name_value['Value'][0]\n",
    "            \n",
    "    if make not in dict_vehicle:\n",
    "        dict_vehicle[make] = {model: [year]}\n",
    "    else:\n",
    "        if model not in dict_vehicle[make]:\n",
    "            dict_vehicle[make][model] = [year]\n",
    "        else:\n",
    "            dict_vehicle[make][model].append(year)\n",
    "            \n",
    "list_vehicle = []\n",
    "for make in dict_vehicle:\n",
    "    for model in dict_vehicle[make]:\n",
    "        list_vehicle.append(make + ' ' + model + ' ' + min(dict_vehicle[make][model]) + '-' + max(dict_vehicle[make][model]))\n",
    "        \n",
    "vehicle = '\\n'.join(list_vehicle)\n",
    "\n",
    "print(vehicle)"
   ]
  },
  {
   "cell_type": "code",
   "execution_count": null,
   "id": "b3200e23",
   "metadata": {},
   "outputs": [],
   "source": [
    "# dict_vehicle = {}\n",
    "# for name_value in vehicle:\n",
    "#     make = name_value['NameValueList'][2]['Value'][0]\n",
    "#     model = name_value['NameValueList'][3]['Value'][0]\n",
    "#     try:\n",
    "#         engine = re.findall(r'^[.0-9]+L', name_value['NameValueList'][5]['Value'][0])[0]\n",
    "#     except:\n",
    "#         continue\n",
    "#     year = name_value['NameValueList'][1]['Value'][0]\n",
    "\n",
    "#     if make not in dict_vehicle:\n",
    "#         dict_vehicle[make] = {model: {engine: [year]}}\n",
    "#     else:\n",
    "#         if model not in dict_vehicle[make]:\n",
    "#             dict_vehicle[make][model] = {engine: [year]}\n",
    "#         else:\n",
    "#             if engine not in dict_vehicle[make][model]:\n",
    "#                 dict_vehicle[make][model][engine] = [year]\n",
    "#             else:\n",
    "#                 dict_vehicle[make][model][engine].append(year)\n",
    "\n",
    "# list_vehicle = []\n",
    "# for make in dict_vehicle:\n",
    "#     for model in dict_vehicle[make]:\n",
    "#         for engine in dict_vehicle[make][model]:\n",
    "#             list_vehicle.append(make + ' ' + model + ' ' + engine + ' ' + min(dict_vehicle[make][model][engine]) + '-' + max(dict_vehicle[make][model][engine]))\n",
    "\n",
    "# vehicle = '\\n'.join(list_vehicle)\n",
    "\n",
    "# print(vehicle)"
   ]
  },
  {
   "cell_type": "code",
   "execution_count": null,
   "id": "87e0a199",
   "metadata": {},
   "outputs": [],
   "source": [
    "# Item.GalleryURL - None\n",
    "if 'GalleryURL' in info['Item']:\n",
    "    src = info['Item']['GalleryURL']\n",
    "elif 'PictureURL' in info['Item']:\n",
    "    if len(info['Item']['PictureURL']) == 0:\n",
    "        src = ''\n",
    "    else:\n",
    "        src = info['Item']['PictureURL'][0]\n",
    "        \n",
    "src"
   ]
  },
  {
   "cell_type": "code",
   "execution_count": null,
   "id": "14f3083a",
   "metadata": {},
   "outputs": [],
   "source": [
    "# Item.ItemSpecifics - ItemSpecifics\n",
    "if 'ItemSpecifics' in info['Item']:\n",
    "    details = info['Item']['ItemSpecifics']['NameValueList']\n",
    "else:\n",
    "    details = ''\n",
    "    \n",
    "details"
   ]
  },
  {
   "cell_type": "code",
   "execution_count": null,
   "id": "d1f4705f",
   "metadata": {},
   "outputs": [],
   "source": [
    "df_temp = pd.DataFrame([{'Item_Number': list_item[i],\n",
    "                         'Title': title,\n",
    "                         'Price': price,\n",
    "                         'Sold': sold,\n",
    "                         'Vehicle': vehicle,\n",
    "                         'Src': src,\n",
    "                         'status': 'ok'}])\n",
    "\n",
    "df_temp"
   ]
  },
  {
   "cell_type": "code",
   "execution_count": null,
   "id": "a2dbaa9d",
   "metadata": {},
   "outputs": [],
   "source": [
    "for name_value in details:\n",
    "    df_temp[name_value['Name'].lower()] = ';'.join(name_value['Value'])\n",
    "    \n",
    "df = pd.concat([df, df_temp], ignore_index=True).fillna('')\n",
    "\n",
    "df"
   ]
  },
  {
   "cell_type": "code",
   "execution_count": null,
   "id": "62e6d42f",
   "metadata": {},
   "outputs": [],
   "source": []
  }
 ],
 "metadata": {
  "kernelspec": {
   "display_name": "Python 3 (ipykernel)",
   "language": "python",
   "name": "python3"
  },
  "language_info": {
   "codemirror_mode": {
    "name": "ipython",
    "version": 3
   },
   "file_extension": ".py",
   "mimetype": "text/x-python",
   "name": "python",
   "nbconvert_exporter": "python",
   "pygments_lexer": "ipython3",
   "version": "3.11.3"
  }
 },
 "nbformat": 4,
 "nbformat_minor": 5
}
