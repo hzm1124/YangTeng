{
 "cells": [
  {
   "cell_type": "code",
   "execution_count": 1,
   "id": "2c4380e6-1746-4b95-8ed8-76bc30e24589",
   "metadata": {},
   "outputs": [],
   "source": [
    "param_date = '20240621'"
   ]
  },
  {
   "cell_type": "code",
   "execution_count": 2,
   "id": "3c45c159-e605-45eb-a97f-fb114069c2aa",
   "metadata": {},
   "outputs": [],
   "source": [
    "import pandas as pd\n",
    "\n",
    "output_correct, output_error = pd.DataFrame(), pd.DataFrame()"
   ]
  },
  {
   "cell_type": "code",
   "execution_count": 3,
   "id": "e488d52d-010c-48e8-8f8b-ed36be7cb854",
   "metadata": {
    "scrolled": true
   },
   "outputs": [
    {
     "name": "stdout",
     "output_type": "stream",
     "text": [
      "总数量：330\n"
     ]
    },
    {
     "data": {
      "text/plain": [
       "['RockAuto Apparel',\n",
       " 'RockAuto Gift',\n",
       " 'ATV / UTV Belt',\n",
       " 'Automotive V-Belt',\n",
       " 'Fluid / Chemical',\n",
       " 'Heavy Duty / Industrial V-Belt',\n",
       " 'Light Duty FHP / Lawn & Garden V-Belt',\n",
       " 'Pulley & Tensioner',\n",
       " 'Refrigeration V-Belt',\n",
       " 'Snowmobile Belt',\n",
       " 'Tool',\n",
       " 'Accessory Lighting',\n",
       " 'Antenna',\n",
       " 'Back Up / Reverse Lamp',\n",
       " 'Body Panel',\n",
       " 'Bumper / Pad',\n",
       " 'Cargo Management',\n",
       " 'Clearance / Side Marker Lamp',\n",
       " 'Door',\n",
       " 'Fender',\n",
       " 'Fluid / Chemical',\n",
       " 'Fog / Driving Lamp',\n",
       " 'Grille',\n",
       " 'Hardware',\n",
       " 'Headlamp',\n",
       " 'Hood',\n",
       " 'Lamp Bezel',\n",
       " 'License Plate',\n",
       " 'Lift Support',\n",
       " 'Mud Flap',\n",
       " 'Outside Mirror',\n",
       " 'Overspray Protection',\n",
       " 'Painting',\n",
       " 'Parking / Turn Signal Lamp',\n",
       " 'Polishing',\n",
       " 'Recovery Gear',\n",
       " 'Reflector',\n",
       " 'Retainer / Clip',\n",
       " 'Running Board',\n",
       " 'Stop, Turn, & Tail Lamp',\n",
       " 'Tape',\n",
       " 'Tool',\n",
       " 'Towing - Fifth Wheel',\n",
       " 'Towing - Flat / Vehicle',\n",
       " 'Towing - Trailer',\n",
       " 'Towing Enhancement',\n",
       " 'Trim / Molding',\n",
       " 'Weatherstrip',\n",
       " 'Air Brake',\n",
       " 'Axle/Spindle',\n",
       " 'Brake Line',\n",
       " 'Brake Shoe',\n",
       " 'Caliper',\n",
       " 'Drum',\n",
       " 'Fluid / Chemical',\n",
       " 'Master Cylinder',\n",
       " 'Parking Brake',\n",
       " 'Power Brake',\n",
       " 'Tool',\n",
       " 'Wheel Bearing & Hub',\n",
       " 'Wheel Cylinder',\n",
       " 'Cooling',\n",
       " 'Fluid / Chemical',\n",
       " 'Radiator',\n",
       " 'Sender / Sensor',\n",
       " 'Thermostat',\n",
       " 'Tool',\n",
       " 'Water Pump',\n",
       " 'Bumper / Pad',\n",
       " 'CV Axle',\n",
       " 'Fluid / Chemical',\n",
       " 'Tool',\n",
       " 'Alternator / Generator',\n",
       " 'Battery',\n",
       " 'Circuit Breaker',\n",
       " 'Firewall',\n",
       " 'Flasher',\n",
       " 'Fluid / Chemical',\n",
       " 'Fuse',\n",
       " 'Horn / Alarm',\n",
       " 'Key FOB',\n",
       " 'Park Assist',\n",
       " 'Starter',\n",
       " 'Tool',\n",
       " 'Wire',\n",
       " 'Wire Management',\n",
       " 'LED Bulb Adapter',\n",
       " 'Light Bulb',\n",
       " 'Socket',\n",
       " 'Accessory Lighting Plugs',\n",
       " 'Battery Connector',\n",
       " 'Specialty Connector',\n",
       " 'Tool',\n",
       " 'Trailer Wiring',\n",
       " 'Wire Connector',\n",
       " 'Battery',\n",
       " 'Relay',\n",
       " 'Specialty Switch',\n",
       " 'Switch',\n",
       " 'Tool',\n",
       " 'Towing Enhancement',\n",
       " 'Cylinder Head',\n",
       " 'Dipstick',\n",
       " 'Fluid / Chemical',\n",
       " 'Gasket',\n",
       " 'Heat Shield',\n",
       " 'Heater',\n",
       " 'Mount',\n",
       " 'Oil',\n",
       " 'Oil Cooler',\n",
       " 'Oil Drain',\n",
       " 'Oil Filler',\n",
       " 'Oil Filter',\n",
       " 'Rebuilders Valves',\n",
       " 'Timing Belt',\n",
       " 'Timing Chain',\n",
       " 'Tool',\n",
       " 'Valve Cover',\n",
       " 'Catalytic Converter',\n",
       " 'Clamp',\n",
       " 'Exhaust System Kit',\n",
       " 'Fluid / Chemical',\n",
       " 'Hanger / Bracket',\n",
       " 'Hardware',\n",
       " 'Muffler',\n",
       " 'Oxygen Sensor',\n",
       " 'Pipe',\n",
       " 'Pipe Flange',\n",
       " 'Pipe Repair',\n",
       " 'Pipe Spout / Tip',\n",
       " 'Rain Cap',\n",
       " 'Resonator',\n",
       " 'Tool',\n",
       " 'Carburetor',\n",
       " 'Filler Neck',\n",
       " 'Fluid / Chemical',\n",
       " 'Fuel Filter',\n",
       " 'Fuel Injector',\n",
       " 'Fuel Line',\n",
       " 'Fuel Pump',\n",
       " 'Fuel Tank',\n",
       " 'Fuel Tank Sending Unit',\n",
       " 'Tool',\n",
       " 'Air Compressor',\n",
       " 'Applicator Gun',\n",
       " 'Axe / Hammer',\n",
       " 'Blanket / Tarp',\n",
       " 'Bottle / Sprayer',\n",
       " 'Brush / Squeegee',\n",
       " 'Cart / Dolly',\n",
       " 'Caulk Gun',\n",
       " 'Chisel / Scraper',\n",
       " 'Clamp',\n",
       " 'Cleanup',\n",
       " 'Creeper / Seat',\n",
       " 'Cutting / Grinding',\n",
       " 'Dilution',\n",
       " 'Drain Pan',\n",
       " 'Drill',\n",
       " 'Engine Crane / Stand',\n",
       " 'Extension Cord',\n",
       " 'Fan / Heater',\n",
       " 'Fender Cover',\n",
       " 'Floor Mat',\n",
       " 'Fluid / Chemical',\n",
       " 'Funnel',\n",
       " 'Grease Gun',\n",
       " 'Heat Gun',\n",
       " 'Jack',\n",
       " 'Ladder / Step Stool',\n",
       " 'Lighting',\n",
       " 'Magnet / Mirror',\n",
       " 'Marker / Stamp',\n",
       " 'Measurement Tool',\n",
       " 'Nut Driver',\n",
       " 'Pick / Punch',\n",
       " 'Pliers',\n",
       " 'Press',\n",
       " 'Pry Bar',\n",
       " 'Puller / Extractor',\n",
       " 'Ratchet',\n",
       " 'Riveter / Staple Gun',\n",
       " 'Safety',\n",
       " 'Sanding / Filing',\n",
       " 'Sawing',\n",
       " 'Screwdriver',\n",
       " 'Siphon',\n",
       " 'Socket',\n",
       " 'Soldering',\n",
       " 'Stethoscope',\n",
       " 'Tape',\n",
       " 'Thermometer',\n",
       " 'Tool Set / Storage',\n",
       " 'Vehicle Inspection',\n",
       " 'Vise',\n",
       " 'Wire',\n",
       " 'Workbench / Stand',\n",
       " 'Wrench',\n",
       " 'Bolt',\n",
       " 'Clip',\n",
       " 'Grease Fitting',\n",
       " 'Grommet',\n",
       " 'Key',\n",
       " 'Label',\n",
       " 'Nut',\n",
       " 'O-Ring',\n",
       " 'Pin',\n",
       " 'Plug / Button',\n",
       " 'Rivet',\n",
       " 'Rod',\n",
       " 'Screw',\n",
       " 'Spring',\n",
       " 'Stud',\n",
       " 'Washer',\n",
       " 'A/C Compressor',\n",
       " 'A/C Condenser',\n",
       " 'A/C Receiver Drier / Accumulator',\n",
       " 'A/C Refrigerant Line',\n",
       " 'Cabin Air Filter',\n",
       " 'Fluid / Chemical',\n",
       " 'Leak Detection',\n",
       " 'Retro Fitting',\n",
       " 'Seal',\n",
       " 'Tool',\n",
       " 'A/C Hose',\n",
       " 'Air Brake Hose',\n",
       " 'Air Hose',\n",
       " 'Air Vent Hose',\n",
       " 'Clamp',\n",
       " 'Coolant Hose',\n",
       " 'Copper Tubing',\n",
       " 'Defroster Hose',\n",
       " 'Driveway Signal Device Hose',\n",
       " 'Exhaust & Emission Hose',\n",
       " 'Fitting - Connector',\n",
       " 'Fitting - Elbow',\n",
       " 'Fitting - End Cap',\n",
       " 'Fitting - Nut',\n",
       " 'Fitting - Plug',\n",
       " 'Fitting - Reducer',\n",
       " 'Fitting - Sleeve',\n",
       " 'Fitting - Tee',\n",
       " 'Fitting - Union',\n",
       " 'Fuel Line / Hose',\n",
       " 'Heater Hose',\n",
       " 'Hydraulic Line',\n",
       " 'Multi-Use Hose',\n",
       " 'Nylon Tubing Fitting',\n",
       " 'Power Steering Hose',\n",
       " 'Tool',\n",
       " 'Transmission Fluid Cooler Line / Hose',\n",
       " 'Turbocharger / Intercooler Hose',\n",
       " 'Vacuum',\n",
       " 'Valve',\n",
       " 'Water Hose',\n",
       " 'Distributor',\n",
       " 'Electrical',\n",
       " 'Ignition Coil / Wiring',\n",
       " 'Spark Plug / Wiring',\n",
       " 'Starting',\n",
       " 'Tool',\n",
       " 'Bumper / Pad',\n",
       " 'Cable',\n",
       " 'Cargo Management',\n",
       " 'Cell Phone',\n",
       " 'Cigarette Lighter',\n",
       " 'Clock',\n",
       " 'Cup Holder',\n",
       " 'Dash',\n",
       " 'Dome Lamp',\n",
       " 'Door',\n",
       " 'Floor Mat',\n",
       " 'Flooring',\n",
       " 'Fluid / Chemical',\n",
       " 'Gauge',\n",
       " 'Grab Bar',\n",
       " 'Hardware',\n",
       " 'Interior Lighting',\n",
       " 'Mirror',\n",
       " 'Parking Brake Lever',\n",
       " 'Radio / Speaker',\n",
       " 'Retainer / Clip',\n",
       " 'Seat',\n",
       " 'Seat Belt',\n",
       " 'Shifter',\n",
       " 'Steering Wheel',\n",
       " 'Switch',\n",
       " 'Tool',\n",
       " 'Trunk',\n",
       " 'Window',\n",
       " 'Wire',\n",
       " 'Repair Manual',\n",
       " 'Fluid / Chemical',\n",
       " 'Power Steering',\n",
       " 'Steering Column',\n",
       " 'Steering Damper',\n",
       " 'Tie Rod End',\n",
       " 'Tool',\n",
       " 'Caster / Camber',\n",
       " 'Coil Spring',\n",
       " 'Fluid / Chemical',\n",
       " 'Leaf Spring',\n",
       " 'Shock Absorber',\n",
       " 'Tool',\n",
       " 'Dipstick',\n",
       " 'Drain Plug',\n",
       " 'Filter',\n",
       " 'Fluid / Chemical',\n",
       " 'O-Ring',\n",
       " 'Oil Cooler',\n",
       " 'Shift Linkage',\n",
       " 'Tool',\n",
       " 'Torque Converter',\n",
       " 'Fluid / Chemical',\n",
       " 'Flywheel',\n",
       " 'Tool',\n",
       " 'Fluid / Chemical',\n",
       " 'Hardware',\n",
       " 'Tire',\n",
       " 'Tool',\n",
       " 'Wheel',\n",
       " 'Fluid / Chemical',\n",
       " 'Tool',\n",
       " 'Windshield Treatment',\n",
       " 'Windshield Washer',\n",
       " 'Wiper Arm',\n",
       " 'Wiper Blade',\n",
       " 'Wiper Blade Refill',\n",
       " 'Wiper Linkage',\n",
       " 'Wiper Motor']"
      ]
     },
     "execution_count": 3,
     "metadata": {},
     "output_type": "execute_result"
    }
   ],
   "source": [
    "input_ = pd.read_excel(f'./{param_date}/2.subgroupname.xlsx',\n",
    "                       header=0,\n",
    "                       dtype=str).fillna('')\n",
    "\n",
    "input_['Tab_No.'] = input_['Tab_No.'].astype(int)\n",
    "input_['GroupName_No.'] = input_['GroupName_No.'].astype(int)\n",
    "input_['SubGroupName_No.'] = input_['SubGroupName_No.'].astype(int)\n",
    "\n",
    "print(f'总数量：{len(input_)}')\n",
    "input_['SubGroupName'].tolist()"
   ]
  },
  {
   "cell_type": "code",
   "execution_count": 4,
   "id": "2dadebc4-a6f7-4352-9d74-d60736711099",
   "metadata": {},
   "outputs": [
    {
     "data": {
      "text/plain": [
       "'error'"
      ]
     },
     "execution_count": 4,
     "metadata": {},
     "output_type": "execute_result"
    }
   ],
   "source": [
    "crawler_status = 'error'\n",
    "\n",
    "crawler_status"
   ]
  },
  {
   "cell_type": "code",
   "execution_count": 5,
   "id": "3453e381",
   "metadata": {},
   "outputs": [],
   "source": [
    "import requests\n",
    "\n",
    "import sys\n",
    "sys.path.append('../../00.Tools')\n",
    "import UA\n",
    "import Proxy"
   ]
  },
  {
   "cell_type": "code",
   "execution_count": 6,
   "id": "1e59936a-e0f7-4dc4-9402-9a230464ad96",
   "metadata": {
    "scrolled": true
   },
   "outputs": [
    {
     "data": {
      "text/plain": [
       "'{\"html_fill_sections\":{\"navchildren[]\":\"<div class=\\\\\"ranavnode\\\\\" id=\\\\\"nav[__GIP__1__]\\\\\"><input type=\\\\\"hidden\\\\\" autocomplete=\\\\\"off\\\\\" id=\\\\\"jsn[__GIP__1__]\\\\\" value=\\\\\"{&quot;groupindex&quot;:&quot;__GIP__1__&quot;,&quot;tab&quot;:&quot;extras&quot;,&quot;idepth&quot;:1,&quot;groupname&quot;:&quot;Apparel &amp; Gifts&quot;,&quot;subgroupname&quot;:&quot;RockAuto Apparel&quot;,&quot;parttype&quot;:&quot;131&quot;,&quot;nodetype&quot;:&quot;parttype&quot;}\\\\\" \\\\/><input type=\\\\\"hidden\\\\\" autocomplete=\\\\\"off\\\\\" name=\\\\\"navnodeunique[extras-apparel &amp; gifts-rockauto apparel-131]\\\\\" id=\\\\\"navnodeunique[extras-apparel &amp; gifts-rockauto apparel-131]\\\\\" value=\\\\\"__GIP__1__\\\\\" \\\\/><div id=\\\\\"nav_o[__GIP__1__]\\\\\" class=\\\\\"ranavouter\\\\\"><div class=\\\\\"inner\\\\\"><table class=\\\\\"tbl\\\\\"  cellpadding=\\\\\"0\\\\\" cellspacing=\\\\\"0\\\\\"><tr><td class=\\\\\"niconspace nvlineicon\\\\\"><\\\\/td><td class=\\\\\"niconspace ncollapsedicon\\\\\" id=\\\\\"navicon[__GIP__1__]\\\\\"><a href=\\\\\"\\\\/en\\\\/tools\\\\/apparel+&amp;+gifts,rockauto+apparel,hat,131\\\\\" onclick=\\\\\"cataloglite.LinkIntercept_ToggleNavNode(&quot;__GIP__1__&quot;); return false;\\\\\" tabindex=\\\\\"-1\\\\\"><img src=\\\\\"\\\\/Images\\\\/1pxtransparent.png\\\\\" alt=\\\\\"Toggle\\\\\"><\\\\/a><\\\\/td><td class=\\\\\"nlabel\\\\\" ><a class=\\\\\"navlabellink nvoffset nnormal\\\\\" href=\\\\\"\\\\/en\\\\/tools\\\\/apparel+&amp;+gifts,rockauto+apparel,hat,131\\\\\" onclick=\\\\\"cataloglite.LinkIntercept_ToggleNavNode(&quot;__GIP__1__&quot;); return false;\\\\\" id=\\\\\"navhref[__GIP__1__]\\\\\">Hat<\\\\/a><\\\\/td><\\\\/tr><\\\\/table><\\\\/div><\\\\/div><div class=\\\\\"nchildren ra-hide\\\\\" id=\\\\\"navchildren[__GIP__1__]\\\\\" ><\\\\/div><\\\\/div><div class=\\\\\"ranavnode\\\\\" id=\\\\\"nav[__GIP__2__]\\\\\"><input type=\\\\\"hidden\\\\\" autocomplete=\\\\\"off\\\\\" id=\\\\\"jsn[__GIP__2__]\\\\\" value=\\\\\"{&quot;groupindex&quot;:&quot;__GIP__2__&quot;,&quot;tab&quot;:&quot;extras&quot;,&quot;idepth&quot;:1,&quot;groupname&quot;:&quot;Apparel &amp; Gifts&quot;,&quot;subgroupname&quot;:&quot;RockAuto Apparel&quot;,&quot;parttype&quot;:&quot;1002098&quot;,&quot;nodetype&quot;:&quot;parttype&quot;}\\\\\" \\\\/><input type=\\\\\"hidden\\\\\" autocomplete=\\\\\"off\\\\\" name=\\\\\"navnodeunique[extras-apparel &amp; gifts-rockauto apparel-1002098]\\\\\" id=\\\\\"navnodeunique[extras-apparel &amp; gifts-rockauto apparel-1002098]\\\\\" value=\\\\\"__GIP__2__\\\\\" \\\\/><div id=\\\\\"nav_o[__GIP__2__]\\\\\" class=\\\\\"ranavouter\\\\\"><div class=\\\\\"inner\\\\\"><table class=\\\\\"tbl\\\\\"  cellpadding=\\\\\"0\\\\\" cellspacing=\\\\\"0\\\\\"><tr><td class=\\\\\"niconspace nvlineicon\\\\\"><\\\\/td><td class=\\\\\"niconspace ncollapsedicon\\\\\" id=\\\\\"navicon[__GIP__2__]\\\\\"><a href=\\\\\"\\\\/en\\\\/tools\\\\/apparel+&amp;+gifts,rockauto+apparel,hoodie,1002098\\\\\" onclick=\\\\\"cataloglite.LinkIntercept_ToggleNavNode(&quot;__GIP__2__&quot;); return false;\\\\\" tabindex=\\\\\"-1\\\\\"><img src=\\\\\"\\\\/Images\\\\/1pxtransparent.png\\\\\" alt=\\\\\"Toggle\\\\\"><\\\\/a><\\\\/td><td class=\\\\\"nlabel\\\\\" ><a class=\\\\\"navlabellink nvoffset nnormal\\\\\" href=\\\\\"\\\\/en\\\\/tools\\\\/apparel+&amp;+gifts,rockauto+apparel,hoodie,1002098\\\\\" onclick=\\\\\"cataloglite.LinkIntercept_ToggleNavNode(&quot;__GIP__2__&quot;); return false;\\\\\" id=\\\\\"navhref[__GIP__2__]\\\\\">Hoodie<\\\\/a><\\\\/td><\\\\/tr><\\\\/table><\\\\/div><\\\\/div><div class=\\\\\"nchildren ra-hide\\\\\" id=\\\\\"navchildren[__GIP__2__]\\\\\" ><\\\\/div><\\\\/div><div class=\\\\\"ranavnode\\\\\" id=\\\\\"nav[__GIP__3__]\\\\\"><input type=\\\\\"hidden\\\\\" autocomplete=\\\\\"off\\\\\" id=\\\\\"jsn[__GIP__3__]\\\\\" value=\\\\\"{&quot;groupindex&quot;:&quot;__GIP__3__&quot;,&quot;tab&quot;:&quot;extras&quot;,&quot;idepth&quot;:1,&quot;groupname&quot;:&quot;Apparel &amp; Gifts&quot;,&quot;subgroupname&quot;:&quot;RockAuto Apparel&quot;,&quot;parttype&quot;:&quot;256&quot;,&quot;nodetype&quot;:&quot;parttype&quot;}\\\\\" \\\\/><input type=\\\\\"hidden\\\\\" autocomplete=\\\\\"off\\\\\" name=\\\\\"navnodeunique[extras-apparel &amp; gifts-rockauto apparel-256]\\\\\" id=\\\\\"navnodeunique[extras-apparel &amp; gifts-rockauto apparel-256]\\\\\" value=\\\\\"__GIP__3__\\\\\" \\\\/><div id=\\\\\"nav_o[__GIP__3__]\\\\\" class=\\\\\"ranavouter\\\\\"><div class=\\\\\"inner\\\\\"><table class=\\\\\"tbl\\\\\"  cellpadding=\\\\\"0\\\\\" cellspacing=\\\\\"0\\\\\"><tr><td class=\\\\\"niconspace nvlineicon\\\\\"><\\\\/td><td class=\\\\\"niconspace ncollapsedicon\\\\\" id=\\\\\"navicon[__GIP__3__]\\\\\"><a href=\\\\\"\\\\/en\\\\/tools\\\\/apparel+&amp;+gifts,rockauto+apparel,t-shirt,256\\\\\" onclick=\\\\\"cataloglite.LinkIntercept_ToggleNavNode(&quot;__GIP__3__&quot;); return false;\\\\\" tabindex=\\\\\"-1\\\\\"><img src=\\\\\"\\\\/Images\\\\/1pxtransparent.png\\\\\" alt=\\\\\"Toggle\\\\\"><\\\\/a><\\\\/td><td class=\\\\\"nlabel\\\\\" ><a class=\\\\\"navlabellink nvoffset nnormal\\\\\" href=\\\\\"\\\\/en\\\\/tools\\\\/apparel+&amp;+gifts,rockauto+apparel,t-shirt,256\\\\\" onclick=\\\\\"cataloglite.LinkIntercept_ToggleNavNode(&quot;__GIP__3__&quot;); return false;\\\\\" id=\\\\\"navhref[__GIP__3__]\\\\\">T-Shirt<\\\\/a><\\\\/td><\\\\/tr><\\\\/table><\\\\/div><\\\\/div><div class=\\\\\"nchildren ra-hide\\\\\" id=\\\\\"navchildren[__GIP__3__]\\\\\" ><\\\\/div><\\\\/div>\"},\"jsn\":{\"tab\":\"extras\",\"groupname\":\"Apparel & Gifts\",\"subgroupname\":\"RockAuto Apparel\",\"nodetype\":\"subgroupname\",\"idepth\":0},\"collected_javascript\":\"\\\\/**UQ:F2DE6770**\\\\/\\\\nwindow.top.parent.window[\\\\\"_nck\\\\\"] = \\\\\"8LVLUxTaILBT+tLxkg8+3Ag7\\\\\\\\\\\\/0bbOhvn7P3rkFbL80\\\\\\\\\\\\/ismhHyfCiO07pwNUCaIW3afbJMKR0uqi1pNnUlRgBN5CwkZnWFYwm7DtiVw8cl6t1DDIlw0OPK8L1xqUF2GhWh7smW3GvoaO38Y8z+1+SVRdaS8FP7Egg0ysy8FGk2Qw=\\\\\";\\\\n\"}'"
      ]
     },
     "execution_count": 6,
     "metadata": {},
     "output_type": "execute_result"
    }
   ],
   "source": [
    "a = 0\n",
    "\n",
    "data = {'func': 'navnode_fetch',\n",
    "        'payload': f'''{{\"jsn\":{{\"tab\":\"extras\",\"groupname\":\"{input_.loc[a, 'GroupName']}\",\"subgroupname\":\"{input_.loc[a, 'SubGroupName']}\",\"nodetype\":\"subgroupname\"}}}}''',\n",
    "        'api_json_request': '1'}\n",
    "\n",
    "resp = requests.post('https://www.rockauto.com/catalog/catalogapi.php',\n",
    "                     data=data,\n",
    "                     headers=UA.get_User_Agent_Requests(),\n",
    "                     proxies=Proxy.get_Proxy_Requests()).text\n",
    "\n",
    "resp"
   ]
  },
  {
   "cell_type": "code",
   "execution_count": 7,
   "id": "bc303cf2-af9f-486c-8dfb-9c04080516ea",
   "metadata": {},
   "outputs": [],
   "source": [
    "import json"
   ]
  },
  {
   "cell_type": "code",
   "execution_count": 8,
   "id": "4620809f-0759-4226-ae0a-0113a7f6c5f1",
   "metadata": {},
   "outputs": [
    {
     "data": {
      "text/plain": [
       "{'html_fill_sections': {'navchildren[]': '<div class=\"ranavnode\" id=\"nav[__GIP__1__]\"><input type=\"hidden\" autocomplete=\"off\" id=\"jsn[__GIP__1__]\" value=\"{&quot;groupindex&quot;:&quot;__GIP__1__&quot;,&quot;tab&quot;:&quot;extras&quot;,&quot;idepth&quot;:1,&quot;groupname&quot;:&quot;Apparel &amp; Gifts&quot;,&quot;subgroupname&quot;:&quot;RockAuto Apparel&quot;,&quot;parttype&quot;:&quot;131&quot;,&quot;nodetype&quot;:&quot;parttype&quot;}\" /><input type=\"hidden\" autocomplete=\"off\" name=\"navnodeunique[extras-apparel &amp; gifts-rockauto apparel-131]\" id=\"navnodeunique[extras-apparel &amp; gifts-rockauto apparel-131]\" value=\"__GIP__1__\" /><div id=\"nav_o[__GIP__1__]\" class=\"ranavouter\"><div class=\"inner\"><table class=\"tbl\"  cellpadding=\"0\" cellspacing=\"0\"><tr><td class=\"niconspace nvlineicon\"></td><td class=\"niconspace ncollapsedicon\" id=\"navicon[__GIP__1__]\"><a href=\"/en/tools/apparel+&amp;+gifts,rockauto+apparel,hat,131\" onclick=\"cataloglite.LinkIntercept_ToggleNavNode(&quot;__GIP__1__&quot;); return false;\" tabindex=\"-1\"><img src=\"/Images/1pxtransparent.png\" alt=\"Toggle\"></a></td><td class=\"nlabel\" ><a class=\"navlabellink nvoffset nnormal\" href=\"/en/tools/apparel+&amp;+gifts,rockauto+apparel,hat,131\" onclick=\"cataloglite.LinkIntercept_ToggleNavNode(&quot;__GIP__1__&quot;); return false;\" id=\"navhref[__GIP__1__]\">Hat</a></td></tr></table></div></div><div class=\"nchildren ra-hide\" id=\"navchildren[__GIP__1__]\" ></div></div><div class=\"ranavnode\" id=\"nav[__GIP__2__]\"><input type=\"hidden\" autocomplete=\"off\" id=\"jsn[__GIP__2__]\" value=\"{&quot;groupindex&quot;:&quot;__GIP__2__&quot;,&quot;tab&quot;:&quot;extras&quot;,&quot;idepth&quot;:1,&quot;groupname&quot;:&quot;Apparel &amp; Gifts&quot;,&quot;subgroupname&quot;:&quot;RockAuto Apparel&quot;,&quot;parttype&quot;:&quot;1002098&quot;,&quot;nodetype&quot;:&quot;parttype&quot;}\" /><input type=\"hidden\" autocomplete=\"off\" name=\"navnodeunique[extras-apparel &amp; gifts-rockauto apparel-1002098]\" id=\"navnodeunique[extras-apparel &amp; gifts-rockauto apparel-1002098]\" value=\"__GIP__2__\" /><div id=\"nav_o[__GIP__2__]\" class=\"ranavouter\"><div class=\"inner\"><table class=\"tbl\"  cellpadding=\"0\" cellspacing=\"0\"><tr><td class=\"niconspace nvlineicon\"></td><td class=\"niconspace ncollapsedicon\" id=\"navicon[__GIP__2__]\"><a href=\"/en/tools/apparel+&amp;+gifts,rockauto+apparel,hoodie,1002098\" onclick=\"cataloglite.LinkIntercept_ToggleNavNode(&quot;__GIP__2__&quot;); return false;\" tabindex=\"-1\"><img src=\"/Images/1pxtransparent.png\" alt=\"Toggle\"></a></td><td class=\"nlabel\" ><a class=\"navlabellink nvoffset nnormal\" href=\"/en/tools/apparel+&amp;+gifts,rockauto+apparel,hoodie,1002098\" onclick=\"cataloglite.LinkIntercept_ToggleNavNode(&quot;__GIP__2__&quot;); return false;\" id=\"navhref[__GIP__2__]\">Hoodie</a></td></tr></table></div></div><div class=\"nchildren ra-hide\" id=\"navchildren[__GIP__2__]\" ></div></div><div class=\"ranavnode\" id=\"nav[__GIP__3__]\"><input type=\"hidden\" autocomplete=\"off\" id=\"jsn[__GIP__3__]\" value=\"{&quot;groupindex&quot;:&quot;__GIP__3__&quot;,&quot;tab&quot;:&quot;extras&quot;,&quot;idepth&quot;:1,&quot;groupname&quot;:&quot;Apparel &amp; Gifts&quot;,&quot;subgroupname&quot;:&quot;RockAuto Apparel&quot;,&quot;parttype&quot;:&quot;256&quot;,&quot;nodetype&quot;:&quot;parttype&quot;}\" /><input type=\"hidden\" autocomplete=\"off\" name=\"navnodeunique[extras-apparel &amp; gifts-rockauto apparel-256]\" id=\"navnodeunique[extras-apparel &amp; gifts-rockauto apparel-256]\" value=\"__GIP__3__\" /><div id=\"nav_o[__GIP__3__]\" class=\"ranavouter\"><div class=\"inner\"><table class=\"tbl\"  cellpadding=\"0\" cellspacing=\"0\"><tr><td class=\"niconspace nvlineicon\"></td><td class=\"niconspace ncollapsedicon\" id=\"navicon[__GIP__3__]\"><a href=\"/en/tools/apparel+&amp;+gifts,rockauto+apparel,t-shirt,256\" onclick=\"cataloglite.LinkIntercept_ToggleNavNode(&quot;__GIP__3__&quot;); return false;\" tabindex=\"-1\"><img src=\"/Images/1pxtransparent.png\" alt=\"Toggle\"></a></td><td class=\"nlabel\" ><a class=\"navlabellink nvoffset nnormal\" href=\"/en/tools/apparel+&amp;+gifts,rockauto+apparel,t-shirt,256\" onclick=\"cataloglite.LinkIntercept_ToggleNavNode(&quot;__GIP__3__&quot;); return false;\" id=\"navhref[__GIP__3__]\">T-Shirt</a></td></tr></table></div></div><div class=\"nchildren ra-hide\" id=\"navchildren[__GIP__3__]\" ></div></div>'},\n",
       " 'jsn': {'tab': 'extras',\n",
       "  'groupname': 'Apparel & Gifts',\n",
       "  'subgroupname': 'RockAuto Apparel',\n",
       "  'nodetype': 'subgroupname',\n",
       "  'idepth': 0},\n",
       " 'collected_javascript': '/**UQ:F2DE6770**/\\nwindow.top.parent.window[\"_nck\"] = \"8LVLUxTaILBT+tLxkg8+3Ag7\\\\/0bbOhvn7P3rkFbL80\\\\/ismhHyfCiO07pwNUCaIW3afbJMKR0uqi1pNnUlRgBN5CwkZnWFYwm7DtiVw8cl6t1DDIlw0OPK8L1xqUF2GhWh7smW3GvoaO38Y8z+1+SVRdaS8FP7Egg0ysy8FGk2Qw=\";\\n'}"
      ]
     },
     "execution_count": 8,
     "metadata": {},
     "output_type": "execute_result"
    }
   ],
   "source": [
    "json_ = json.loads(resp)\n",
    "\n",
    "json_"
   ]
  },
  {
   "cell_type": "code",
   "execution_count": 9,
   "id": "21ddb10b-7452-421e-857e-5dfb29dc295f",
   "metadata": {},
   "outputs": [],
   "source": [
    "from bs4 import BeautifulSoup\n",
    "from lxml import etree"
   ]
  },
  {
   "cell_type": "code",
   "execution_count": 10,
   "id": "096fe403-0ce5-4d40-a4b9-e823cb60dcbd",
   "metadata": {
    "scrolled": true
   },
   "outputs": [
    {
     "name": "stdout",
     "output_type": "stream",
     "text": [
      "<html>\n",
      " <body>\n",
      "  <div class=\"ranavnode\" id=\"nav[__GIP__1__]\">\n",
      "   <input autocomplete=\"off\" id=\"jsn[__GIP__1__]\" type=\"hidden\" value='{\"groupindex\":\"__GIP__1__\",\"tab\":\"extras\",\"idepth\":1,\"groupname\":\"Apparel &amp; Gifts\",\"subgroupname\":\"RockAuto Apparel\",\"parttype\":\"131\",\"nodetype\":\"parttype\"}'/>\n",
      "   <input autocomplete=\"off\" id=\"navnodeunique[extras-apparel &amp; gifts-rockauto apparel-131]\" name=\"navnodeunique[extras-apparel &amp; gifts-rockauto apparel-131]\" type=\"hidden\" value=\"__GIP__1__\"/>\n",
      "   <div class=\"ranavouter\" id=\"nav_o[__GIP__1__]\">\n",
      "    <div class=\"inner\">\n",
      "     <table cellpadding=\"0\" cellspacing=\"0\" class=\"tbl\">\n",
      "      <tr>\n",
      "       <td class=\"niconspace nvlineicon\">\n",
      "       </td>\n",
      "       <td class=\"niconspace ncollapsedicon\" id=\"navicon[__GIP__1__]\">\n",
      "        <a href=\"/en/tools/apparel+&amp;+gifts,rockauto+apparel,hat,131\" onclick='cataloglite.LinkIntercept_ToggleNavNode(\"__GIP__1__\"); return false;' tabindex=\"-1\">\n",
      "         <img alt=\"Toggle\" src=\"/Images/1pxtransparent.png\"/>\n",
      "        </a>\n",
      "       </td>\n",
      "       <td class=\"nlabel\">\n",
      "        <a class=\"navlabellink nvoffset nnormal\" href=\"/en/tools/apparel+&amp;+gifts,rockauto+apparel,hat,131\" id=\"navhref[__GIP__1__]\" onclick='cataloglite.LinkIntercept_ToggleNavNode(\"__GIP__1__\"); return false;'>\n",
      "         Hat\n",
      "        </a>\n",
      "       </td>\n",
      "      </tr>\n",
      "     </table>\n",
      "    </div>\n",
      "   </div>\n",
      "   <div class=\"nchildren ra-hide\" id=\"navchildren[__GIP__1__]\">\n",
      "   </div>\n",
      "  </div>\n",
      "  <div class=\"ranavnode\" id=\"nav[__GIP__2__]\">\n",
      "   <input autocomplete=\"off\" id=\"jsn[__GIP__2__]\" type=\"hidden\" value='{\"groupindex\":\"__GIP__2__\",\"tab\":\"extras\",\"idepth\":1,\"groupname\":\"Apparel &amp; Gifts\",\"subgroupname\":\"RockAuto Apparel\",\"parttype\":\"1002098\",\"nodetype\":\"parttype\"}'/>\n",
      "   <input autocomplete=\"off\" id=\"navnodeunique[extras-apparel &amp; gifts-rockauto apparel-1002098]\" name=\"navnodeunique[extras-apparel &amp; gifts-rockauto apparel-1002098]\" type=\"hidden\" value=\"__GIP__2__\"/>\n",
      "   <div class=\"ranavouter\" id=\"nav_o[__GIP__2__]\">\n",
      "    <div class=\"inner\">\n",
      "     <table cellpadding=\"0\" cellspacing=\"0\" class=\"tbl\">\n",
      "      <tr>\n",
      "       <td class=\"niconspace nvlineicon\">\n",
      "       </td>\n",
      "       <td class=\"niconspace ncollapsedicon\" id=\"navicon[__GIP__2__]\">\n",
      "        <a href=\"/en/tools/apparel+&amp;+gifts,rockauto+apparel,hoodie,1002098\" onclick='cataloglite.LinkIntercept_ToggleNavNode(\"__GIP__2__\"); return false;' tabindex=\"-1\">\n",
      "         <img alt=\"Toggle\" src=\"/Images/1pxtransparent.png\"/>\n",
      "        </a>\n",
      "       </td>\n",
      "       <td class=\"nlabel\">\n",
      "        <a class=\"navlabellink nvoffset nnormal\" href=\"/en/tools/apparel+&amp;+gifts,rockauto+apparel,hoodie,1002098\" id=\"navhref[__GIP__2__]\" onclick='cataloglite.LinkIntercept_ToggleNavNode(\"__GIP__2__\"); return false;'>\n",
      "         Hoodie\n",
      "        </a>\n",
      "       </td>\n",
      "      </tr>\n",
      "     </table>\n",
      "    </div>\n",
      "   </div>\n",
      "   <div class=\"nchildren ra-hide\" id=\"navchildren[__GIP__2__]\">\n",
      "   </div>\n",
      "  </div>\n",
      "  <div class=\"ranavnode\" id=\"nav[__GIP__3__]\">\n",
      "   <input autocomplete=\"off\" id=\"jsn[__GIP__3__]\" type=\"hidden\" value='{\"groupindex\":\"__GIP__3__\",\"tab\":\"extras\",\"idepth\":1,\"groupname\":\"Apparel &amp; Gifts\",\"subgroupname\":\"RockAuto Apparel\",\"parttype\":\"256\",\"nodetype\":\"parttype\"}'/>\n",
      "   <input autocomplete=\"off\" id=\"navnodeunique[extras-apparel &amp; gifts-rockauto apparel-256]\" name=\"navnodeunique[extras-apparel &amp; gifts-rockauto apparel-256]\" type=\"hidden\" value=\"__GIP__3__\"/>\n",
      "   <div class=\"ranavouter\" id=\"nav_o[__GIP__3__]\">\n",
      "    <div class=\"inner\">\n",
      "     <table cellpadding=\"0\" cellspacing=\"0\" class=\"tbl\">\n",
      "      <tr>\n",
      "       <td class=\"niconspace nvlineicon\">\n",
      "       </td>\n",
      "       <td class=\"niconspace ncollapsedicon\" id=\"navicon[__GIP__3__]\">\n",
      "        <a href=\"/en/tools/apparel+&amp;+gifts,rockauto+apparel,t-shirt,256\" onclick='cataloglite.LinkIntercept_ToggleNavNode(\"__GIP__3__\"); return false;' tabindex=\"-1\">\n",
      "         <img alt=\"Toggle\" src=\"/Images/1pxtransparent.png\"/>\n",
      "        </a>\n",
      "       </td>\n",
      "       <td class=\"nlabel\">\n",
      "        <a class=\"navlabellink nvoffset nnormal\" href=\"/en/tools/apparel+&amp;+gifts,rockauto+apparel,t-shirt,256\" id=\"navhref[__GIP__3__]\" onclick='cataloglite.LinkIntercept_ToggleNavNode(\"__GIP__3__\"); return false;'>\n",
      "         T-Shirt\n",
      "        </a>\n",
      "       </td>\n",
      "      </tr>\n",
      "     </table>\n",
      "    </div>\n",
      "   </div>\n",
      "   <div class=\"nchildren ra-hide\" id=\"navchildren[__GIP__3__]\">\n",
      "   </div>\n",
      "  </div>\n",
      " </body>\n",
      "</html>\n",
      "\n"
     ]
    }
   ],
   "source": [
    "soup = BeautifulSoup(json_['html_fill_sections']['navchildren[]'], 'lxml')\n",
    "html = etree.HTML(str(soup))\n",
    "\n",
    "with open('./parttype.html', 'w', encoding='UTF-8') as file:\n",
    "    file.write(str(soup))\n",
    "\n",
    "print(soup.prettify())"
   ]
  },
  {
   "cell_type": "code",
   "execution_count": 11,
   "id": "1b4adb14",
   "metadata": {
    "scrolled": true
   },
   "outputs": [
    {
     "data": {
      "text/plain": [
       "['{\"groupindex\":\"__GIP__1__\",\"tab\":\"extras\",\"idepth\":1,\"groupname\":\"Apparel & Gifts\",\"subgroupname\":\"RockAuto Apparel\",\"parttype\":\"131\",\"nodetype\":\"parttype\"}',\n",
       " '{\"groupindex\":\"__GIP__2__\",\"tab\":\"extras\",\"idepth\":1,\"groupname\":\"Apparel & Gifts\",\"subgroupname\":\"RockAuto Apparel\",\"parttype\":\"1002098\",\"nodetype\":\"parttype\"}',\n",
       " '{\"groupindex\":\"__GIP__3__\",\"tab\":\"extras\",\"idepth\":1,\"groupname\":\"Apparel & Gifts\",\"subgroupname\":\"RockAuto Apparel\",\"parttype\":\"256\",\"nodetype\":\"parttype\"}']"
      ]
     },
     "execution_count": 11,
     "metadata": {},
     "output_type": "execute_result"
    }
   ],
   "source": [
    "list_json = html.xpath('//input[contains(@id, \"jsn[\")]/@value')\n",
    "\n",
    "list_json"
   ]
  },
  {
   "cell_type": "code",
   "execution_count": 12,
   "id": "a0afdf01",
   "metadata": {},
   "outputs": [
    {
     "data": {
      "text/plain": [
       "['131', '1002098', '256']"
      ]
     },
     "execution_count": 12,
     "metadata": {},
     "output_type": "execute_result"
    }
   ],
   "source": [
    "list_parttype = [json.loads(json_)['parttype'].strip() for json_ in list_json]\n",
    "\n",
    "list_parttype"
   ]
  },
  {
   "cell_type": "code",
   "execution_count": 13,
   "id": "8c628cf0-c6f0-4e35-b80c-f519ea7d7217",
   "metadata": {},
   "outputs": [
    {
     "data": {
      "text/plain": [
       "[<Element a at 0x113e7c740>,\n",
       " <Element a at 0x113e3d740>,\n",
       " <Element a at 0x113e3d5c0>]"
      ]
     },
     "execution_count": 13,
     "metadata": {},
     "output_type": "execute_result"
    }
   ],
   "source": [
    "list_a = html.xpath('//td[@class=\"nlabel\"]/a')\n",
    "\n",
    "list_a"
   ]
  },
  {
   "cell_type": "code",
   "execution_count": 14,
   "id": "526911f8-10db-4b00-b65a-e256612b8731",
   "metadata": {},
   "outputs": [],
   "source": [
    "import re"
   ]
  },
  {
   "cell_type": "code",
   "execution_count": 15,
   "id": "e55b097d-b327-4a8f-995a-c61db7f9e475",
   "metadata": {},
   "outputs": [
    {
     "data": {
      "text/plain": [
       "['Hat', 'Hoodie', 'T-Shirt']"
      ]
     },
     "execution_count": 15,
     "metadata": {},
     "output_type": "execute_result"
    }
   ],
   "source": [
    "list_a = [re.sub(r' +', ' ', a.text.strip()) for a in list_a]\n",
    "\n",
    "list_a"
   ]
  },
  {
   "cell_type": "code",
   "execution_count": 16,
   "id": "63c0436a-38d1-4742-9daa-577131dfaafd",
   "metadata": {},
   "outputs": [
    {
     "data": {
      "text/html": [
       "<div>\n",
       "<style scoped>\n",
       "    .dataframe tbody tr th:only-of-type {\n",
       "        vertical-align: middle;\n",
       "    }\n",
       "\n",
       "    .dataframe tbody tr th {\n",
       "        vertical-align: top;\n",
       "    }\n",
       "\n",
       "    .dataframe thead th {\n",
       "        text-align: right;\n",
       "    }\n",
       "</style>\n",
       "<table border=\"1\" class=\"dataframe\">\n",
       "  <thead>\n",
       "    <tr style=\"text-align: right;\">\n",
       "      <th></th>\n",
       "      <th>Tab_No.</th>\n",
       "      <th>Tab</th>\n",
       "      <th>GroupName_No.</th>\n",
       "      <th>GroupName</th>\n",
       "      <th>SubGroupName_No.</th>\n",
       "      <th>SubGroupName</th>\n",
       "      <th>PartType_No.</th>\n",
       "      <th>PartType_Name</th>\n",
       "      <th>PartType</th>\n",
       "      <th>Tab_Url</th>\n",
       "    </tr>\n",
       "  </thead>\n",
       "  <tbody>\n",
       "    <tr>\n",
       "      <th>0</th>\n",
       "      <td>3</td>\n",
       "      <td>Tools &amp; Universal Parts</td>\n",
       "      <td>1</td>\n",
       "      <td>Apparel &amp; Gifts</td>\n",
       "      <td>1</td>\n",
       "      <td>RockAuto Apparel</td>\n",
       "      <td>1</td>\n",
       "      <td>Hat</td>\n",
       "      <td>131</td>\n",
       "      <td>https://www.rockauto.com/en/tools/Apparel &amp; Gi...</td>\n",
       "    </tr>\n",
       "    <tr>\n",
       "      <th>1</th>\n",
       "      <td>3</td>\n",
       "      <td>Tools &amp; Universal Parts</td>\n",
       "      <td>1</td>\n",
       "      <td>Apparel &amp; Gifts</td>\n",
       "      <td>1</td>\n",
       "      <td>RockAuto Apparel</td>\n",
       "      <td>2</td>\n",
       "      <td>Hoodie</td>\n",
       "      <td>1002098</td>\n",
       "      <td>https://www.rockauto.com/en/tools/Apparel &amp; Gi...</td>\n",
       "    </tr>\n",
       "    <tr>\n",
       "      <th>2</th>\n",
       "      <td>3</td>\n",
       "      <td>Tools &amp; Universal Parts</td>\n",
       "      <td>1</td>\n",
       "      <td>Apparel &amp; Gifts</td>\n",
       "      <td>1</td>\n",
       "      <td>RockAuto Apparel</td>\n",
       "      <td>3</td>\n",
       "      <td>T-Shirt</td>\n",
       "      <td>256</td>\n",
       "      <td>https://www.rockauto.com/en/tools/Apparel &amp; Gi...</td>\n",
       "    </tr>\n",
       "  </tbody>\n",
       "</table>\n",
       "</div>"
      ],
      "text/plain": [
       "   Tab_No.                      Tab  GroupName_No.        GroupName  \\\n",
       "0        3  Tools & Universal Parts              1  Apparel & Gifts   \n",
       "1        3  Tools & Universal Parts              1  Apparel & Gifts   \n",
       "2        3  Tools & Universal Parts              1  Apparel & Gifts   \n",
       "\n",
       "   SubGroupName_No.      SubGroupName  PartType_No. PartType_Name PartType  \\\n",
       "0                 1  RockAuto Apparel             1           Hat      131   \n",
       "1                 1  RockAuto Apparel             2        Hoodie  1002098   \n",
       "2                 1  RockAuto Apparel             3       T-Shirt      256   \n",
       "\n",
       "                                             Tab_Url  \n",
       "0  https://www.rockauto.com/en/tools/Apparel & Gi...  \n",
       "1  https://www.rockauto.com/en/tools/Apparel & Gi...  \n",
       "2  https://www.rockauto.com/en/tools/Apparel & Gi...  "
      ]
     },
     "execution_count": 16,
     "metadata": {},
     "output_type": "execute_result"
    }
   ],
   "source": [
    "df_temp = pd.DataFrame({'Tab_No.': input_.loc[a, 'Tab_No.'],\n",
    "                        'Tab': input_.loc[a, 'Tab'],\n",
    "                        'GroupName_No.': input_.loc[a, 'GroupName_No.'],\n",
    "                        'GroupName': input_.loc[a, 'GroupName'],\n",
    "                        'SubGroupName_No.': input_.loc[a, 'SubGroupName_No.'],\n",
    "                        'SubGroupName': input_.loc[a, 'SubGroupName'],\n",
    "                        'PartType_No.': [i+1 for i in range(len(list_parttype))],\n",
    "                        'PartType_Name': list_a,\n",
    "                        'PartType': list_parttype,\n",
    "                        'Tab_Url': [f'''https://www.rockauto.com/en/tools/{input_.loc[a, 'GroupName']},{input_.loc[a, 'SubGroupName']},{parttype_name},{parttype}''' for parttype_name, parttype in zip(list_a, list_parttype)]})\n",
    "\n",
    "output_correct = pd.concat([output_correct, df_temp], ignore_index=True).fillna('')\n",
    "\n",
    "output_correct"
   ]
  },
  {
   "cell_type": "code",
   "execution_count": 17,
   "id": "44921f2f-2a8d-49a1-a1be-647766c152de",
   "metadata": {},
   "outputs": [
    {
     "data": {
      "text/plain": [
       "'ok'"
      ]
     },
     "execution_count": 17,
     "metadata": {},
     "output_type": "execute_result"
    }
   ],
   "source": [
    "crawler_status = 'ok'\n",
    "\n",
    "crawler_status"
   ]
  },
  {
   "cell_type": "code",
   "execution_count": 18,
   "id": "711c1f41-43b1-4297-a228-18c6c3c261a1",
   "metadata": {},
   "outputs": [
    {
     "data": {
      "text/html": [
       "<div>\n",
       "<style scoped>\n",
       "    .dataframe tbody tr th:only-of-type {\n",
       "        vertical-align: middle;\n",
       "    }\n",
       "\n",
       "    .dataframe tbody tr th {\n",
       "        vertical-align: top;\n",
       "    }\n",
       "\n",
       "    .dataframe thead th {\n",
       "        text-align: right;\n",
       "    }\n",
       "</style>\n",
       "<table border=\"1\" class=\"dataframe\">\n",
       "  <thead>\n",
       "    <tr style=\"text-align: right;\">\n",
       "      <th></th>\n",
       "    </tr>\n",
       "  </thead>\n",
       "  <tbody>\n",
       "  </tbody>\n",
       "</table>\n",
       "</div>"
      ],
      "text/plain": [
       "Empty DataFrame\n",
       "Columns: []\n",
       "Index: []"
      ]
     },
     "execution_count": 18,
     "metadata": {},
     "output_type": "execute_result"
    }
   ],
   "source": [
    "if crawler_status == 'error':\n",
    "    df_temp = pd.DataFrame([{'Tab_No.': input_.loc[a, 'Tab_No.'],\n",
    "                             'Tab': input_.loc[a, 'Tab'],\n",
    "                             'GroupName_No.': input_.loc[a, 'GroupName_No.'],\n",
    "                             'GroupName': input_.loc[a, 'GroupName'],\n",
    "                             'SubGroupName_No.': input_.loc[a, 'SubGroupName_No.'],\n",
    "                             'SubGroupName': input_.loc[a, 'SubGroupName']}])\n",
    "\n",
    "    output_error = pd.concat([output_error, df_temp], ignore_index=True).fillna('')\n",
    "\n",
    "output_error"
   ]
  },
  {
   "cell_type": "code",
   "execution_count": 19,
   "id": "baf5387c-ca8f-4eae-8522-924545a24481",
   "metadata": {},
   "outputs": [
    {
     "data": {
      "text/html": [
       "<div>\n",
       "<style scoped>\n",
       "    .dataframe tbody tr th:only-of-type {\n",
       "        vertical-align: middle;\n",
       "    }\n",
       "\n",
       "    .dataframe tbody tr th {\n",
       "        vertical-align: top;\n",
       "    }\n",
       "\n",
       "    .dataframe thead th {\n",
       "        text-align: right;\n",
       "    }\n",
       "</style>\n",
       "<table border=\"1\" class=\"dataframe\">\n",
       "  <thead>\n",
       "    <tr style=\"text-align: right;\">\n",
       "      <th></th>\n",
       "      <th>Tab_No.</th>\n",
       "      <th>Tab</th>\n",
       "      <th>GroupName_No.</th>\n",
       "      <th>GroupName</th>\n",
       "      <th>SubGroupName_No.</th>\n",
       "      <th>SubGroupName</th>\n",
       "      <th>PartType_No.</th>\n",
       "      <th>PartType_Name</th>\n",
       "      <th>PartType</th>\n",
       "      <th>Tab_Url</th>\n",
       "    </tr>\n",
       "  </thead>\n",
       "  <tbody>\n",
       "    <tr>\n",
       "      <th>0</th>\n",
       "      <td>3</td>\n",
       "      <td>Tools &amp; Universal Parts</td>\n",
       "      <td>1</td>\n",
       "      <td>Apparel &amp; Gifts</td>\n",
       "      <td>1</td>\n",
       "      <td>RockAuto Apparel</td>\n",
       "      <td>1</td>\n",
       "      <td>Hat</td>\n",
       "      <td>131</td>\n",
       "      <td>https://www.rockauto.com/en/tools/Apparel &amp; Gi...</td>\n",
       "    </tr>\n",
       "    <tr>\n",
       "      <th>1</th>\n",
       "      <td>3</td>\n",
       "      <td>Tools &amp; Universal Parts</td>\n",
       "      <td>1</td>\n",
       "      <td>Apparel &amp; Gifts</td>\n",
       "      <td>1</td>\n",
       "      <td>RockAuto Apparel</td>\n",
       "      <td>2</td>\n",
       "      <td>Hoodie</td>\n",
       "      <td>1002098</td>\n",
       "      <td>https://www.rockauto.com/en/tools/Apparel &amp; Gi...</td>\n",
       "    </tr>\n",
       "    <tr>\n",
       "      <th>2</th>\n",
       "      <td>3</td>\n",
       "      <td>Tools &amp; Universal Parts</td>\n",
       "      <td>1</td>\n",
       "      <td>Apparel &amp; Gifts</td>\n",
       "      <td>1</td>\n",
       "      <td>RockAuto Apparel</td>\n",
       "      <td>3</td>\n",
       "      <td>T-Shirt</td>\n",
       "      <td>256</td>\n",
       "      <td>https://www.rockauto.com/en/tools/Apparel &amp; Gi...</td>\n",
       "    </tr>\n",
       "  </tbody>\n",
       "</table>\n",
       "</div>"
      ],
      "text/plain": [
       "   Tab_No.                      Tab  GroupName_No.        GroupName  \\\n",
       "0        3  Tools & Universal Parts              1  Apparel & Gifts   \n",
       "1        3  Tools & Universal Parts              1  Apparel & Gifts   \n",
       "2        3  Tools & Universal Parts              1  Apparel & Gifts   \n",
       "\n",
       "   SubGroupName_No.      SubGroupName  PartType_No. PartType_Name PartType  \\\n",
       "0                 1  RockAuto Apparel             1           Hat      131   \n",
       "1                 1  RockAuto Apparel             2        Hoodie  1002098   \n",
       "2                 1  RockAuto Apparel             3       T-Shirt      256   \n",
       "\n",
       "                                             Tab_Url  \n",
       "0  https://www.rockauto.com/en/tools/Apparel & Gi...  \n",
       "1  https://www.rockauto.com/en/tools/Apparel & Gi...  \n",
       "2  https://www.rockauto.com/en/tools/Apparel & Gi...  "
      ]
     },
     "execution_count": 19,
     "metadata": {},
     "output_type": "execute_result"
    }
   ],
   "source": [
    "if len(output_correct) != 0:\n",
    "    output_correct = output_correct.sort_values(by=['Tab_No.', 'GroupName_No.', 'SubGroupName_No.', 'PartType_No.'], ascending=[True, True, True, True], ignore_index=True)\n",
    "    output_correct.to_excel('./test_parttype.xlsx', index=False)\n",
    "\n",
    "output_correct"
   ]
  },
  {
   "cell_type": "code",
   "execution_count": 20,
   "id": "32727727-8527-4b0c-9a4b-4a00e02fe206",
   "metadata": {
    "scrolled": true
   },
   "outputs": [
    {
     "data": {
      "text/html": [
       "<div>\n",
       "<style scoped>\n",
       "    .dataframe tbody tr th:only-of-type {\n",
       "        vertical-align: middle;\n",
       "    }\n",
       "\n",
       "    .dataframe tbody tr th {\n",
       "        vertical-align: top;\n",
       "    }\n",
       "\n",
       "    .dataframe thead th {\n",
       "        text-align: right;\n",
       "    }\n",
       "</style>\n",
       "<table border=\"1\" class=\"dataframe\">\n",
       "  <thead>\n",
       "    <tr style=\"text-align: right;\">\n",
       "      <th></th>\n",
       "    </tr>\n",
       "  </thead>\n",
       "  <tbody>\n",
       "  </tbody>\n",
       "</table>\n",
       "</div>"
      ],
      "text/plain": [
       "Empty DataFrame\n",
       "Columns: []\n",
       "Index: []"
      ]
     },
     "execution_count": 20,
     "metadata": {},
     "output_type": "execute_result"
    }
   ],
   "source": [
    "if len(output_error) != 0:\n",
    "    output_error = output_error.sort_values(by=['Tab_No.', 'GroupName_No.', 'SubGroupName_No.'], ascending=[True, True, True], ignore_index=True)\n",
    "    output_error.to_excel('./test_parttype_error.xlsx', index=False)\n",
    "\n",
    "output_error"
   ]
  },
  {
   "cell_type": "code",
   "execution_count": null,
   "id": "7d6f861e-d154-431e-8f7b-320a0cb06aa6",
   "metadata": {},
   "outputs": [],
   "source": []
  }
 ],
 "metadata": {
  "kernelspec": {
   "display_name": "Python 3 (ipykernel)",
   "language": "python",
   "name": "python3"
  },
  "language_info": {
   "codemirror_mode": {
    "name": "ipython",
    "version": 3
   },
   "file_extension": ".py",
   "mimetype": "text/x-python",
   "name": "python",
   "nbconvert_exporter": "python",
   "pygments_lexer": "ipython3",
   "version": "3.11.3"
  }
 },
 "nbformat": 4,
 "nbformat_minor": 5
}
