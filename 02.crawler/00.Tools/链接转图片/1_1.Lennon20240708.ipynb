{
 "cells": [
  {
   "cell_type": "code",
   "execution_count": 1,
   "id": "c49209d4-e100-4ceb-917d-49683c661ded",
   "metadata": {},
   "outputs": [
    {
     "name": "stdout",
     "output_type": "stream",
     "text": [
      "总数量：385\n"
     ]
    },
    {
     "data": {
      "text/plain": [
       "(11, 'K', 9, 'I')"
      ]
     },
     "execution_count": 1,
     "metadata": {},
     "output_type": "execute_result"
    }
   ],
   "source": [
    "from openpyxl import load_workbook\n",
    "from openpyxl.utils import get_column_letter\n",
    "\n",
    "wb = load_workbook('./crawler.xlsx')\n",
    "ws = wb.active\n",
    "\n",
    "for column in range(1, ws.max_column + 1):\n",
    "    if ws.cell(1, column).value == 'Json_Src':\n",
    "        column_src = column\n",
    "    elif ws.cell(1, column).value == 'Picture':\n",
    "        column_pic = column\n",
    "\n",
    "print(f'总数量：{ws.max_row - 1}')\n",
    "column_src, get_column_letter(column_src), column_pic, get_column_letter(column_pic)"
   ]
  },
  {
   "cell_type": "code",
   "execution_count": 2,
   "id": "e6cfffd4-a723-4ad7-94db-a1ab56a41c02",
   "metadata": {},
   "outputs": [
    {
     "data": {
      "text/plain": [
       "2"
      ]
     },
     "execution_count": 2,
     "metadata": {},
     "output_type": "execute_result"
    }
   ],
   "source": [
    "a = 2\n",
    "\n",
    "a"
   ]
  },
  {
   "cell_type": "code",
   "execution_count": 3,
   "id": "01ebcebc-536c-4906-9abe-508fdfb2cfbc",
   "metadata": {},
   "outputs": [
    {
     "data": {
      "text/plain": [
       "'error'"
      ]
     },
     "execution_count": 3,
     "metadata": {},
     "output_type": "execute_result"
    }
   ],
   "source": [
    "crawler_status = 'error'\n",
    "\n",
    "crawler_status"
   ]
  },
  {
   "cell_type": "code",
   "execution_count": 4,
   "id": "e6f1fc75-e834-49e8-8f43-927143a5703e",
   "metadata": {},
   "outputs": [
    {
     "data": {
      "text/plain": [
       "'https://cdn.shopifycdn.net/s/files/1/0844/4887/0698/files/UUn_nBlg3285z39R7q0YvQ_1c90879a-4bf8-484d-83f9-07a8c1600c90.jpg?v=1711404926'"
      ]
     },
     "execution_count": 4,
     "metadata": {},
     "output_type": "execute_result"
    }
   ],
   "source": [
    "import json\n",
    "\n",
    "src = json.loads(ws.cell(a, column_src).value).get('0', '')\n",
    "\n",
    "src"
   ]
  },
  {
   "cell_type": "code",
   "execution_count": 5,
   "id": "24645d4a-c8e2-49dd-b093-f5f9c78a8333",
   "metadata": {},
   "outputs": [
    {
     "data": {
      "text/plain": [
       "False"
      ]
     },
     "execution_count": 5,
     "metadata": {},
     "output_type": "execute_result"
    }
   ],
   "source": [
    "src == ''"
   ]
  },
  {
   "cell_type": "code",
   "execution_count": null,
   "id": "05509929-61ef-4ce5-b593-8d6671ab1378",
   "metadata": {},
   "outputs": [],
   "source": [
    "import requests\n",
    "\n",
    "import sys\n",
    "sys.path.append('../../00.Tools')\n",
    "from crawler_configuration import get_header, get_proxy\n",
    "\n",
    "b = 0\n",
    "while True:\n",
    "\n",
    "    while True:\n",
    "        b += 1\n",
    "        print(b)\n",
    "        try:\n",
    "            resp = requests.get(src,\n",
    "                                headers=get_header(),\n",
    "                                proxies=get_proxy(),\n",
    "                                timeout=(10, 10))\n",
    "            break\n",
    "        except:\n",
    "            continue\n",
    "\n",
    "    if resp.status_code == 200:\n",
    "        break\n",
    "\n",
    "resp"
   ]
  },
  {
   "cell_type": "code",
   "execution_count": null,
   "id": "60dc247e-6f16-4315-a17f-9b011ef36adf",
   "metadata": {},
   "outputs": [],
   "source": [
    "from io import BytesIO\n",
    "from openpyxl.drawing.image import Image\n",
    "\n",
    "pic = Image(BytesIO(resp.content))\n",
    "\n",
    "pic"
   ]
  },
  {
   "cell_type": "code",
   "execution_count": 7,
   "id": "f06fb5c5",
   "metadata": {},
   "outputs": [
    {
     "name": "stdout",
     "output_type": "stream",
     "text": [
      "输出ing...\n",
      "\n",
      "Done ~\n"
     ]
    }
   ],
   "source": [
    "ws.add_image(pic, f'{get_column_letter(column_pic)}{a}')\n",
    "\n",
    "print('输出ing...')\n",
    "print()\n",
    "wb.save('./test_pic.xlsx')\n",
    "print('Done ~')"
   ]
  },
  {
   "cell_type": "code",
   "execution_count": null,
   "id": "22d4f3db",
   "metadata": {},
   "outputs": [],
   "source": []
  }
 ],
 "metadata": {
  "kernelspec": {
   "display_name": "Python 3 (ipykernel)",
   "language": "python",
   "name": "python3"
  },
  "language_info": {
   "codemirror_mode": {
    "name": "ipython",
    "version": 3
   },
   "file_extension": ".py",
   "mimetype": "text/x-python",
   "name": "python",
   "nbconvert_exporter": "python",
   "pygments_lexer": "ipython3",
   "version": "3.11.3"
  }
 },
 "nbformat": 4,
 "nbformat_minor": 5
}
