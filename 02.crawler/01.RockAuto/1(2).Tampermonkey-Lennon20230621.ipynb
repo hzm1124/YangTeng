{
 "cells": [
  {
   "cell_type": "code",
   "execution_count": 1,
   "id": "538319b2",
   "metadata": {},
   "outputs": [],
   "source": [
    "import pandas as pd"
   ]
  },
  {
   "cell_type": "code",
   "execution_count": 2,
   "id": "e7078f24",
   "metadata": {},
   "outputs": [
    {
     "data": {
      "text/html": [
       "<div>\n",
       "<style scoped>\n",
       "    .dataframe tbody tr th:only-of-type {\n",
       "        vertical-align: middle;\n",
       "    }\n",
       "\n",
       "    .dataframe tbody tr th {\n",
       "        vertical-align: top;\n",
       "    }\n",
       "\n",
       "    .dataframe thead th {\n",
       "        text-align: right;\n",
       "    }\n",
       "</style>\n",
       "<table border=\"1\" class=\"dataframe\">\n",
       "  <thead>\n",
       "    <tr style=\"text-align: right;\">\n",
       "      <th></th>\n",
       "      <th>Part_Number</th>\n",
       "      <th>Url</th>\n",
       "    </tr>\n",
       "  </thead>\n",
       "  <tbody>\n",
       "  </tbody>\n",
       "</table>\n",
       "</div>"
      ],
      "text/plain": [
       "Empty DataFrame\n",
       "Columns: [Part_Number, Url]\n",
       "Index: []"
      ]
     },
     "execution_count": 2,
     "metadata": {},
     "output_type": "execute_result"
    }
   ],
   "source": [
    "df = pd.DataFrame(columns=['Part_Number', 'Url'])\n",
    "\n",
    "df"
   ]
  },
  {
   "cell_type": "code",
   "execution_count": 3,
   "id": "a593ef33",
   "metadata": {},
   "outputs": [],
   "source": [
    "import json"
   ]
  },
  {
   "cell_type": "code",
   "execution_count": 4,
   "id": "8d3cdb2b",
   "metadata": {},
   "outputs": [
    {
     "data": {
      "text/html": [
       "<div>\n",
       "<style scoped>\n",
       "    .dataframe tbody tr th:only-of-type {\n",
       "        vertical-align: middle;\n",
       "    }\n",
       "\n",
       "    .dataframe tbody tr th {\n",
       "        vertical-align: top;\n",
       "    }\n",
       "\n",
       "    .dataframe thead th {\n",
       "        text-align: right;\n",
       "    }\n",
       "</style>\n",
       "<table border=\"1\" class=\"dataframe\">\n",
       "  <thead>\n",
       "    <tr style=\"text-align: right;\">\n",
       "      <th></th>\n",
       "      <th>Part_Number</th>\n",
       "      <th>Url</th>\n",
       "    </tr>\n",
       "  </thead>\n",
       "  <tbody>\n",
       "    <tr>\n",
       "      <th>0</th>\n",
       "      <td>917800</td>\n",
       "      <td>https://www.rockauto.com/en/parts/dorman,91780...</td>\n",
       "    </tr>\n",
       "    <tr>\n",
       "      <th>1</th>\n",
       "      <td>917802</td>\n",
       "      <td>https://www.rockauto.com/en/parts/dorman,91780...</td>\n",
       "    </tr>\n",
       "    <tr>\n",
       "      <th>2</th>\n",
       "      <td>917803</td>\n",
       "      <td>https://www.rockauto.com/en/parts/dorman,91780...</td>\n",
       "    </tr>\n",
       "    <tr>\n",
       "      <th>3</th>\n",
       "      <td>917804</td>\n",
       "      <td>https://www.rockauto.com/en/parts/dorman,91780...</td>\n",
       "    </tr>\n",
       "    <tr>\n",
       "      <th>4</th>\n",
       "      <td>917805</td>\n",
       "      <td>https://www.rockauto.com/en/parts/dorman,91780...</td>\n",
       "    </tr>\n",
       "    <tr>\n",
       "      <th>...</th>\n",
       "      <td>...</td>\n",
       "      <td>...</td>\n",
       "    </tr>\n",
       "    <tr>\n",
       "      <th>58</th>\n",
       "      <td>917932</td>\n",
       "      <td>https://www.rockauto.com/en/parts/dorman,91793...</td>\n",
       "    </tr>\n",
       "    <tr>\n",
       "      <th>59</th>\n",
       "      <td>917956</td>\n",
       "      <td>https://www.rockauto.com/en/parts/dorman,91795...</td>\n",
       "    </tr>\n",
       "    <tr>\n",
       "      <th>60</th>\n",
       "      <td>917957</td>\n",
       "      <td>https://www.rockauto.com/en/parts/dorman,91795...</td>\n",
       "    </tr>\n",
       "    <tr>\n",
       "      <th>61</th>\n",
       "      <td>917980</td>\n",
       "      <td>https://www.rockauto.com/en/parts/dorman,91798...</td>\n",
       "    </tr>\n",
       "    <tr>\n",
       "      <th>62</th>\n",
       "      <td>917984</td>\n",
       "      <td>https://www.rockauto.com/en/parts/dorman,91798...</td>\n",
       "    </tr>\n",
       "  </tbody>\n",
       "</table>\n",
       "<p>63 rows × 2 columns</p>\n",
       "</div>"
      ],
      "text/plain": [
       "   Part_Number                                                Url\n",
       "0       917800  https://www.rockauto.com/en/parts/dorman,91780...\n",
       "1       917802  https://www.rockauto.com/en/parts/dorman,91780...\n",
       "2       917803  https://www.rockauto.com/en/parts/dorman,91780...\n",
       "3       917804  https://www.rockauto.com/en/parts/dorman,91780...\n",
       "4       917805  https://www.rockauto.com/en/parts/dorman,91780...\n",
       "..         ...                                                ...\n",
       "58      917932  https://www.rockauto.com/en/parts/dorman,91793...\n",
       "59      917956  https://www.rockauto.com/en/parts/dorman,91795...\n",
       "60      917957  https://www.rockauto.com/en/parts/dorman,91795...\n",
       "61      917980  https://www.rockauto.com/en/parts/dorman,91798...\n",
       "62      917984  https://www.rockauto.com/en/parts/dorman,91798...\n",
       "\n",
       "[63 rows x 2 columns]"
      ]
     },
     "execution_count": 4,
     "metadata": {},
     "output_type": "execute_result"
    }
   ],
   "source": [
    "with open('./menu.txt', 'r') as f:\n",
    "    list_part = f.read()[1:-1].split('},{')\n",
    "    for i in range(len(list_part)):\n",
    "        if i == 0:\n",
    "            part = json.loads(list_part[i] + '}')\n",
    "        elif i == len(list_part) - 1:\n",
    "            part = json.loads('{' + list_part[i])\n",
    "        else:\n",
    "            part = json.loads('{' + list_part[i] + '}')\n",
    "        \n",
    "        df_temp = pd.DataFrame([{'Part_Number': part['Part_Number'],\n",
    "                                 'Url': part['Url']}])\n",
    "        df = pd.concat([df, df_temp], ignore_index=True)\n",
    "        \n",
    "df.to_excel('./menu.xlsx', index=False)\n",
    "\n",
    "df"
   ]
  },
  {
   "cell_type": "code",
   "execution_count": null,
   "id": "e8e93640",
   "metadata": {},
   "outputs": [],
   "source": []
  }
 ],
 "metadata": {
  "kernelspec": {
   "display_name": "Python 3 (ipykernel)",
   "language": "python",
   "name": "python3"
  },
  "language_info": {
   "codemirror_mode": {
    "name": "ipython",
    "version": 3
   },
   "file_extension": ".py",
   "mimetype": "text/x-python",
   "name": "python",
   "nbconvert_exporter": "python",
   "pygments_lexer": "ipython3",
   "version": "3.11.3"
  }
 },
 "nbformat": 4,
 "nbformat_minor": 5
}
