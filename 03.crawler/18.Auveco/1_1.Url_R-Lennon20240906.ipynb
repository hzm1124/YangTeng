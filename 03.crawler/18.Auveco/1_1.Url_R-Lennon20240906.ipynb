{
 "cells": [
  {
   "cell_type": "code",
   "execution_count": 1,
   "id": "783f89be-0cdc-4912-942e-895cc5f09840",
   "metadata": {},
   "outputs": [],
   "source": [
    "import pandas as pd\n",
    "\n",
    "output_error = pd.DataFrame()"
   ]
  },
  {
   "cell_type": "code",
   "execution_count": 2,
   "id": "1c28f4ff-eee5-4220-a711-cc2f93fe08f0",
   "metadata": {
    "scrolled": true
   },
   "outputs": [
    {
     "name": "stdout",
     "output_type": "stream",
     "text": [
      "总数量：2\n"
     ]
    },
    {
     "data": {
      "text/plain": [
       "['https://www.auveco.com/products/assortments/cabinetandcompartmentbinassortments',\n",
       " 'https://www.auveco.com/products/bodyhardware/boltsbodyhardware/bodybolts']"
      ]
     },
     "execution_count": 2,
     "metadata": {},
     "output_type": "execute_result"
    }
   ],
   "source": [
    "input_ = pd.read_excel('./file/input.xlsx',\n",
    "                       header=0,\n",
    "                       dtype=str).fillna('')\n",
    "\n",
    "input_['No'] = input_['No'].astype(int)\n",
    "\n",
    "print(f'总数量：{len(input_)}')\n",
    "input_['Url'].tolist()"
   ]
  },
  {
   "cell_type": "code",
   "execution_count": 3,
   "id": "5878a9f0-d639-4123-b6e0-bc564f72c2d6",
   "metadata": {},
   "outputs": [
    {
     "data": {
      "text/plain": [
       "0"
      ]
     },
     "execution_count": 3,
     "metadata": {},
     "output_type": "execute_result"
    }
   ],
   "source": [
    "a = 0\n",
    "\n",
    "a"
   ]
  },
  {
   "cell_type": "code",
   "execution_count": 4,
   "id": "9f61dd65-55da-4d0b-ba30-d0534eff0781",
   "metadata": {},
   "outputs": [
    {
     "data": {
      "text/plain": [
       "'error'"
      ]
     },
     "execution_count": 4,
     "metadata": {},
     "output_type": "execute_result"
    }
   ],
   "source": [
    "crawler_status = 'error'\n",
    "\n",
    "crawler_status"
   ]
  },
  {
   "cell_type": "code",
   "execution_count": 5,
   "id": "523cc867",
   "metadata": {
    "scrolled": true
   },
   "outputs": [
    {
     "name": "stdout",
     "output_type": "stream",
     "text": [
      "1 1\n"
     ]
    },
    {
     "data": {
      "text/plain": [
       "<Response [200]>"
      ]
     },
     "execution_count": 5,
     "metadata": {},
     "output_type": "execute_result"
    }
   ],
   "source": [
    "import requests\n",
    "\n",
    "import sys\n",
    "sys.path.append('../00.Tools')\n",
    "from crawler_configuration import get_header, get_proxy\n",
    "\n",
    "from bs4 import BeautifulSoup\n",
    "from lxml import etree\n",
    "\n",
    "url = input_.loc[a, 'Url']\n",
    "\n",
    "dict_param = {}\n",
    "list_param = url.split('?')[1].split('&') if '?' in url else []\n",
    "for param in list_param:\n",
    "    dict_param[param.split('=')[0]] = param.split('=')[1]\n",
    "\n",
    "dict_param.pop('page', '')\n",
    "dict_param['show'] = 48\n",
    "dict_param['display'] = 'list'\n",
    "\n",
    "url = url.split('?')[0] + '?'\n",
    "for key, value in dict_param.items():\n",
    "    url += f'{key}={value}&'\n",
    "    \n",
    "list_url, i = [], 1\n",
    "while True:\n",
    "    b = 0\n",
    "    while True:\n",
    "        b += 1\n",
    "        print(b, i)\n",
    "        try:\n",
    "            resp = requests.get(f'{url}page={i}',\n",
    "                                headers=get_header(),\n",
    "                                proxies=get_proxy(),\n",
    "                                timeout=(10, 10))\n",
    "        \n",
    "            if resp.status_code == 200:\n",
    "                soup = BeautifulSoup(resp.text, 'lxml')\n",
    "                html = etree.HTML(str(soup))\n",
    "\n",
    "                list_href = html.xpath('//div[@class=\"facets-facet-browse-items\"]/div[@class=\"facets-items-collection-view-row\"]/div[@class=\"facets-items-collection-view-cell-span12\"]/div[@itemprop=\"itemListElement\"]/div[@class=\"facets-item-cell-list-right\"]/meta[@itemprop=\"url\"]/@content')\n",
    "                if list_href:\n",
    "                    break\n",
    "        except KeyboardInterrupt:\n",
    "            break\n",
    "        except:\n",
    "            continue\n",
    "\n",
    "    # = = = = = = = = = = = = = = =\n",
    "\n",
    "    list_url += [f'''https://www.auveco.com{href.strip()}''' for href in list_href]\n",
    "\n",
    "    # = = = = = = = = = = = = = = =\n",
    "    \n",
    "    i += 1\n",
    "\n",
    "    # = = = = = = = = = = = = = = =\n",
    "\n",
    "    if not html.xpath('//li[@class=\"global-views-pagination-next\"]'):\n",
    "        break\n",
    "\n",
    "resp"
   ]
  },
  {
   "cell_type": "code",
   "execution_count": 6,
   "id": "96f1239b-50f9-42d4-b879-831dc05deb48",
   "metadata": {
    "scrolled": true
   },
   "outputs": [
    {
     "data": {
      "text/html": [
       "<div>\n",
       "<style scoped>\n",
       "    .dataframe tbody tr th:only-of-type {\n",
       "        vertical-align: middle;\n",
       "    }\n",
       "\n",
       "    .dataframe tbody tr th {\n",
       "        vertical-align: top;\n",
       "    }\n",
       "\n",
       "    .dataframe thead th {\n",
       "        text-align: right;\n",
       "    }\n",
       "</style>\n",
       "<table border=\"1\" class=\"dataframe\">\n",
       "  <thead>\n",
       "    <tr style=\"text-align: right;\">\n",
       "      <th></th>\n",
       "      <th>No</th>\n",
       "      <th>Url</th>\n",
       "    </tr>\n",
       "  </thead>\n",
       "  <tbody>\n",
       "    <tr>\n",
       "      <th>0</th>\n",
       "      <td>1</td>\n",
       "      <td>https://www.auveco.com/metric-fastener-assortm...</td>\n",
       "    </tr>\n",
       "    <tr>\n",
       "      <th>1</th>\n",
       "      <td>2</td>\n",
       "      <td>https://www.auveco.com/metric-fastener-assortm...</td>\n",
       "    </tr>\n",
       "    <tr>\n",
       "      <th>2</th>\n",
       "      <td>3</td>\n",
       "      <td>https://www.auveco.com/metric-fastener-asst-re...</td>\n",
       "    </tr>\n",
       "    <tr>\n",
       "      <th>3</th>\n",
       "      <td>4</td>\n",
       "      <td>https://www.auveco.com/metric-fast-asst-in-40-...</td>\n",
       "    </tr>\n",
       "    <tr>\n",
       "      <th>4</th>\n",
       "      <td>5</td>\n",
       "      <td>https://www.auveco.com/uss-fastener-asst-wo-bi...</td>\n",
       "    </tr>\n",
       "    <tr>\n",
       "      <th>5</th>\n",
       "      <td>6</td>\n",
       "      <td>https://www.auveco.com/gr-8-fastener-asst-in-4...</td>\n",
       "    </tr>\n",
       "    <tr>\n",
       "      <th>6</th>\n",
       "      <td>7</td>\n",
       "      <td>https://www.auveco.com/gr-5-uss-fast-asst-w-o-...</td>\n",
       "    </tr>\n",
       "    <tr>\n",
       "      <th>7</th>\n",
       "      <td>8</td>\n",
       "      <td>https://www.auveco.com/gr-5-fast-asst-in-40-co...</td>\n",
       "    </tr>\n",
       "    <tr>\n",
       "      <th>8</th>\n",
       "      <td>9</td>\n",
       "      <td>https://www.auveco.com/import-retainer-assortm...</td>\n",
       "    </tr>\n",
       "    <tr>\n",
       "      <th>9</th>\n",
       "      <td>10</td>\n",
       "      <td>https://www.auveco.com/import-retainer-assortm...</td>\n",
       "    </tr>\n",
       "    <tr>\n",
       "      <th>10</th>\n",
       "      <td>11</td>\n",
       "      <td>https://www.auveco.com/domestic-retainer-assor...</td>\n",
       "    </tr>\n",
       "    <tr>\n",
       "      <th>11</th>\n",
       "      <td>12</td>\n",
       "      <td>https://www.auveco.com/domestic-retainer-assor...</td>\n",
       "    </tr>\n",
       "  </tbody>\n",
       "</table>\n",
       "</div>"
      ],
      "text/plain": [
       "    No                                                Url\n",
       "0    1  https://www.auveco.com/metric-fastener-assortm...\n",
       "1    2  https://www.auveco.com/metric-fastener-assortm...\n",
       "2    3  https://www.auveco.com/metric-fastener-asst-re...\n",
       "3    4  https://www.auveco.com/metric-fast-asst-in-40-...\n",
       "4    5  https://www.auveco.com/uss-fastener-asst-wo-bi...\n",
       "5    6  https://www.auveco.com/gr-8-fastener-asst-in-4...\n",
       "6    7  https://www.auveco.com/gr-5-uss-fast-asst-w-o-...\n",
       "7    8  https://www.auveco.com/gr-5-fast-asst-in-40-co...\n",
       "8    9  https://www.auveco.com/import-retainer-assortm...\n",
       "9   10  https://www.auveco.com/import-retainer-assortm...\n",
       "10  11  https://www.auveco.com/domestic-retainer-assor...\n",
       "11  12  https://www.auveco.com/domestic-retainer-assor..."
      ]
     },
     "execution_count": 6,
     "metadata": {},
     "output_type": "execute_result"
    }
   ],
   "source": [
    "output = pd.DataFrame({'No': [i+1 for i in range(len(list_url))],\n",
    "                       'Url': list_url})\n",
    "\n",
    "output = output.sort_values(by=['No'],\n",
    "                            ascending=[True],\n",
    "                            ignore_index=True)\n",
    "\n",
    "output.to_excel('./test_url.xlsx', index=False)\n",
    "\n",
    "output"
   ]
  },
  {
   "cell_type": "code",
   "execution_count": 7,
   "id": "fc4ed7f6-ed4f-431c-b944-b1690309cdae",
   "metadata": {},
   "outputs": [
    {
     "data": {
      "text/plain": [
       "'ok'"
      ]
     },
     "execution_count": 7,
     "metadata": {},
     "output_type": "execute_result"
    }
   ],
   "source": [
    "crawler_status = 'ok'\n",
    "\n",
    "crawler_status"
   ]
  },
  {
   "cell_type": "code",
   "execution_count": 8,
   "id": "65c745d1-446e-46c5-9dec-819c9f7944d3",
   "metadata": {},
   "outputs": [
    {
     "data": {
      "text/html": [
       "<div>\n",
       "<style scoped>\n",
       "    .dataframe tbody tr th:only-of-type {\n",
       "        vertical-align: middle;\n",
       "    }\n",
       "\n",
       "    .dataframe tbody tr th {\n",
       "        vertical-align: top;\n",
       "    }\n",
       "\n",
       "    .dataframe thead th {\n",
       "        text-align: right;\n",
       "    }\n",
       "</style>\n",
       "<table border=\"1\" class=\"dataframe\">\n",
       "  <thead>\n",
       "    <tr style=\"text-align: right;\">\n",
       "      <th></th>\n",
       "    </tr>\n",
       "  </thead>\n",
       "  <tbody>\n",
       "  </tbody>\n",
       "</table>\n",
       "</div>"
      ],
      "text/plain": [
       "Empty DataFrame\n",
       "Columns: []\n",
       "Index: []"
      ]
     },
     "execution_count": 8,
     "metadata": {},
     "output_type": "execute_result"
    }
   ],
   "source": [
    "if crawler_status == 'error':\n",
    "    output_error = pd.concat([output_error, pd.DataFrame([input_.iloc[a]]).reset_index(drop=True)], ignore_index=True).fillna('')\n",
    "\n",
    "output_error"
   ]
  },
  {
   "cell_type": "code",
   "execution_count": 9,
   "id": "39a5441b-7f69-4812-aad8-7e10a1a24e78",
   "metadata": {},
   "outputs": [
    {
     "data": {
      "text/html": [
       "<div>\n",
       "<style scoped>\n",
       "    .dataframe tbody tr th:only-of-type {\n",
       "        vertical-align: middle;\n",
       "    }\n",
       "\n",
       "    .dataframe tbody tr th {\n",
       "        vertical-align: top;\n",
       "    }\n",
       "\n",
       "    .dataframe thead th {\n",
       "        text-align: right;\n",
       "    }\n",
       "</style>\n",
       "<table border=\"1\" class=\"dataframe\">\n",
       "  <thead>\n",
       "    <tr style=\"text-align: right;\">\n",
       "      <th></th>\n",
       "    </tr>\n",
       "  </thead>\n",
       "  <tbody>\n",
       "  </tbody>\n",
       "</table>\n",
       "</div>"
      ],
      "text/plain": [
       "Empty DataFrame\n",
       "Columns: []\n",
       "Index: []"
      ]
     },
     "execution_count": 9,
     "metadata": {},
     "output_type": "execute_result"
    }
   ],
   "source": [
    "if not output_error.empty:\n",
    "    output_error = output_error.sort_values(by=['No'],\n",
    "                                            ascending=[False],\n",
    "                                            ignore_index=True)\n",
    "    output_error.to_excel('./test_url.xlsx', index=False)\n",
    "\n",
    "output_error"
   ]
  },
  {
   "cell_type": "code",
   "execution_count": null,
   "id": "a31a202d-21e6-4a6a-8107-95dbbd0cf29b",
   "metadata": {},
   "outputs": [],
   "source": []
  }
 ],
 "metadata": {
  "kernelspec": {
   "display_name": "Python 3 (ipykernel)",
   "language": "python",
   "name": "python3"
  },
  "language_info": {
   "codemirror_mode": {
    "name": "ipython",
    "version": 3
   },
   "file_extension": ".py",
   "mimetype": "text/x-python",
   "name": "python",
   "nbconvert_exporter": "python",
   "pygments_lexer": "ipython3",
   "version": "3.11.3"
  }
 },
 "nbformat": 4,
 "nbformat_minor": 5
}
