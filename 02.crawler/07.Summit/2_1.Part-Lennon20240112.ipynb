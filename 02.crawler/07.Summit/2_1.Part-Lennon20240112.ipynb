{
 "cells": [
  {
   "cell_type": "code",
   "execution_count": 1,
   "id": "9a48e555",
   "metadata": {},
   "outputs": [],
   "source": [
    "import pandas as pd"
   ]
  },
  {
   "cell_type": "code",
   "execution_count": 2,
   "id": "084bd8ef",
   "metadata": {},
   "outputs": [
    {
     "name": "stdout",
     "output_type": "stream",
     "text": [
      "总数量：234\n"
     ]
    },
    {
     "data": {
      "text/plain": [
       "['https://www.summitracing.com/parts/nal-19435108',\n",
       " 'https://www.summitracing.com/parts/sum-csumcpgmls02',\n",
       " 'https://www.summitracing.com/parts/trd-0183',\n",
       " 'https://www.summitracing.com/parts/trd-0184',\n",
       " 'https://www.summitracing.com/parts/trd-42235',\n",
       " 'https://www.summitracing.com/parts/trd-42252',\n",
       " 'https://www.summitracing.com/parts/trd-46002',\n",
       " 'https://www.summitracing.com/parts/trd-46012',\n",
       " 'https://www.summitracing.com/parts/trd-48061',\n",
       " 'https://www.summitracing.com/parts/tsn-81006',\n",
       " 'https://www.summitracing.com/parts/tsn-81019',\n",
       " 'https://www.summitracing.com/parts/tsn-81071',\n",
       " 'https://www.summitracing.com/parts/tsn-81072',\n",
       " 'https://www.summitracing.com/parts/tsn-81073',\n",
       " 'https://www.summitracing.com/parts/tsn-81073bk',\n",
       " 'https://www.summitracing.com/parts/tsn-81074',\n",
       " 'https://www.summitracing.com/parts/tsn-81074bk',\n",
       " 'https://www.summitracing.com/parts/tsn-81074p',\n",
       " 'https://www.summitracing.com/parts/tsn-81075',\n",
       " 'https://www.summitracing.com/parts/tsn-81075bk',\n",
       " 'https://www.summitracing.com/parts/upi-4008-b',\n",
       " 'https://www.summitracing.com/parts/upi-4008-r',\n",
       " 'https://www.summitracing.com/parts/vre-vctf4wd',\n",
       " 'https://www.summitracing.com/parts/vre-vmt23m',\n",
       " 'https://www.summitracing.com/parts/wnd-5042wnd',\n",
       " 'https://www.summitracing.com/parts/wnd-5044wnd',\n",
       " 'https://www.summitracing.com/parts/wnd-5045wnd',\n",
       " 'https://www.summitracing.com/parts/wnd-5048wnd',\n",
       " 'https://www.summitracing.com/parts/wrl-084080',\n",
       " 'https://www.summitracing.com/parts/wrl-084080-904',\n",
       " 'https://www.summitracing.com/parts/wrl-084081-904',\n",
       " 'https://www.summitracing.com/parts/wrl-084180',\n",
       " 'https://www.summitracing.com/parts/wrl-084180-904',\n",
       " 'https://www.summitracing.com/parts/wrl-084181-904',\n",
       " 'https://www.summitracing.com/parts/irp-egm-330',\n",
       " 'https://www.summitracing.com/parts/irp-egm-331',\n",
       " 'https://www.summitracing.com/parts/irp-egm-332',\n",
       " 'https://www.summitracing.com/parts/irp-egm-342',\n",
       " 'https://www.summitracing.com/parts/irp-egm-730',\n",
       " 'https://www.summitracing.com/parts/irp-egm-730f',\n",
       " 'https://www.summitracing.com/parts/irp-egm-730g',\n",
       " 'https://www.summitracing.com/parts/irp-egm-731',\n",
       " 'https://www.summitracing.com/parts/irp-egm-731f',\n",
       " 'https://www.summitracing.com/parts/irp-egm-731g',\n",
       " 'https://www.summitracing.com/parts/irp-egm-732',\n",
       " 'https://www.summitracing.com/parts/irp-egm-732f',\n",
       " 'https://www.summitracing.com/parts/irp-egm-732g',\n",
       " 'https://www.summitracing.com/parts/irp-egm-740c',\n",
       " 'https://www.summitracing.com/parts/irp-egm-742',\n",
       " 'https://www.summitracing.com/parts/irp-egm-742f',\n",
       " 'https://www.summitracing.com/parts/irp-egm-742g',\n",
       " 'https://www.summitracing.com/parts/irp-hga-1001',\n",
       " 'https://www.summitracing.com/parts/lim-20136',\n",
       " 'https://www.summitracing.com/parts/lim-20138',\n",
       " 'https://www.summitracing.com/parts/lim-20226',\n",
       " 'https://www.summitracing.com/parts/lim-20228',\n",
       " 'https://www.summitracing.com/parts/lim-22152',\n",
       " 'https://www.summitracing.com/parts/lim-2258',\n",
       " 'https://www.summitracing.com/parts/lim-2259',\n",
       " 'https://www.summitracing.com/parts/lss-gmls2001b',\n",
       " 'https://www.summitracing.com/parts/lss-gmls2001m',\n",
       " 'https://www.summitracing.com/parts/lss-gmls2002b',\n",
       " 'https://www.summitracing.com/parts/lss-gmls2002m',\n",
       " 'https://www.summitracing.com/parts/lss-gmls2003b',\n",
       " 'https://www.summitracing.com/parts/lss-gmls2003m',\n",
       " 'https://www.summitracing.com/parts/lss-gmls2004b',\n",
       " 'https://www.summitracing.com/parts/lss-gmls2004m',\n",
       " 'https://www.summitracing.com/parts/lss-gmls2005b',\n",
       " 'https://www.summitracing.com/parts/lss-gmls2005m',\n",
       " 'https://www.summitracing.com/parts/lss-gmls2006b',\n",
       " 'https://www.summitracing.com/parts/lss-gmls2006m',\n",
       " 'https://www.summitracing.com/parts/lss-gmls4002',\n",
       " 'https://www.summitracing.com/parts/lss-gmls4009',\n",
       " 'https://www.summitracing.com/parts/lss-gmls9001',\n",
       " 'https://www.summitracing.com/parts/lss-gmls9003',\n",
       " 'https://www.summitracing.com/parts/lss-gmls9005',\n",
       " 'https://www.summitracing.com/parts/lss-gmls9006',\n",
       " 'https://www.summitracing.com/parts/lss-gmls9009',\n",
       " 'https://www.summitracing.com/parts/lss-gmls9010',\n",
       " 'https://www.summitracing.com/parts/lss-gmls9012',\n",
       " 'https://www.summitracing.com/parts/lss-gmls9013',\n",
       " 'https://www.summitracing.com/parts/lss-gmls9014',\n",
       " 'https://www.summitracing.com/parts/lss-gmls9016',\n",
       " 'https://www.summitracing.com/parts/lss-gmls9017',\n",
       " 'https://www.summitracing.com/parts/lss-gmls9019',\n",
       " 'https://www.summitracing.com/parts/lss-gmls9020',\n",
       " 'https://www.summitracing.com/parts/lss-gmls9022',\n",
       " 'https://www.summitracing.com/parts/mah-95-3687',\n",
       " 'https://www.summitracing.com/parts/mah-95-3688',\n",
       " 'https://www.summitracing.com/parts/mah-95-3689',\n",
       " 'https://www.summitracing.com/parts/mah-95-3690',\n",
       " 'https://www.summitracing.com/parts/mah-cs54559',\n",
       " 'https://www.summitracing.com/parts/mah-cs54595',\n",
       " 'https://www.summitracing.com/parts/mah-cs54595a',\n",
       " 'https://www.summitracing.com/parts/mah-cs5975',\n",
       " 'https://www.summitracing.com/parts/mah-cs5975a',\n",
       " 'https://www.summitracing.com/parts/mah-jv5022',\n",
       " 'https://www.summitracing.com/parts/mah-jv5158',\n",
       " 'https://www.summitracing.com/parts/mah-os32244',\n",
       " 'https://www.summitracing.com/parts/mah-os32287',\n",
       " 'https://www.summitracing.com/parts/mel-10296',\n",
       " 'https://www.summitracing.com/parts/mez-ts119',\n",
       " 'https://www.summitracing.com/parts/mez-ts419',\n",
       " 'https://www.summitracing.com/parts/mez-tss062',\n",
       " 'https://www.summitracing.com/parts/mil-18291',\n",
       " 'https://www.summitracing.com/parts/mil-21575',\n",
       " 'https://www.summitracing.com/parts/mil-21576',\n",
       " 'https://www.summitracing.com/parts/mil-21580',\n",
       " 'https://www.summitracing.com/parts/mil-30914',\n",
       " 'https://www.summitracing.com/parts/mil-30915',\n",
       " 'https://www.summitracing.com/parts/mil-30916',\n",
       " 'https://www.summitracing.com/parts/mil-31063',\n",
       " 'https://www.summitracing.com/parts/mil-31083',\n",
       " 'https://www.summitracing.com/parts/mil-31507',\n",
       " 'https://www.summitracing.com/parts/mil-31527',\n",
       " 'https://www.summitracing.com/parts/mil-41012',\n",
       " 'https://www.summitracing.com/parts/mil-85001',\n",
       " 'https://www.summitracing.com/parts/mil-85002',\n",
       " 'https://www.summitracing.com/parts/mll-psls3760ct',\n",
       " 'https://www.summitracing.com/parts/mll-psls3760ctf',\n",
       " 'https://www.summitracing.com/parts/mll-psls3760ctfk',\n",
       " 'https://www.summitracing.com/parts/mll-psls3760efi',\n",
       " 'https://www.summitracing.com/parts/mll-psls3760sctk',\n",
       " 'https://www.summitracing.com/parts/mll-psls3762ctf',\n",
       " 'https://www.summitracing.com/parts/mll-psls376efi',\n",
       " 'https://www.summitracing.com/parts/mll-psls4270ctc',\n",
       " 'https://www.summitracing.com/parts/mll-psls4270sp',\n",
       " 'https://www.summitracing.com/parts/mll-psls4272ctf',\n",
       " 'https://www.summitracing.com/parts/mll-psls4272ctfk',\n",
       " 'https://www.summitracing.com/parts/mll-psls4272sct',\n",
       " 'https://www.summitracing.com/parts/mll-psls4272sctk',\n",
       " 'https://www.summitracing.com/parts/mll-s0001',\n",
       " 'https://www.summitracing.com/parts/mll-s0002',\n",
       " 'https://www.summitracing.com/parts/mll-s0005',\n",
       " 'https://www.summitracing.com/parts/cmb-08-0172',\n",
       " 'https://www.summitracing.com/parts/cmb-08-0173',\n",
       " 'https://www.summitracing.com/parts/cmb-08-0174',\n",
       " 'https://www.summitracing.com/parts/cmb-08-0175',\n",
       " 'https://www.summitracing.com/parts/cmb-08-0176',\n",
       " 'https://www.summitracing.com/parts/cmb-08-0177',\n",
       " 'https://www.summitracing.com/parts/cmb-08-0178',\n",
       " 'https://www.summitracing.com/parts/cmb-08-0179',\n",
       " 'https://www.summitracing.com/parts/cmb-08-0180',\n",
       " 'https://www.summitracing.com/parts/cmb-08-0181',\n",
       " 'https://www.summitracing.com/parts/cmb-08-0182',\n",
       " 'https://www.summitracing.com/parts/cmb-08-0183',\n",
       " 'https://www.summitracing.com/parts/cmb-08-0184',\n",
       " 'https://www.summitracing.com/parts/cmb-08-0185',\n",
       " 'https://www.summitracing.com/parts/cmb-08-0186',\n",
       " 'https://www.summitracing.com/parts/cmb-08-0187',\n",
       " 'https://www.summitracing.com/parts/cmb-08-0188',\n",
       " 'https://www.summitracing.com/parts/cmb-08-0189',\n",
       " 'https://www.summitracing.com/parts/cmb-08-0190',\n",
       " 'https://www.summitracing.com/parts/cmb-08-0191',\n",
       " 'https://www.summitracing.com/parts/cmb-08-0192',\n",
       " 'https://www.summitracing.com/parts/cmb-08-0193',\n",
       " 'https://www.summitracing.com/parts/cmb-08-0194',\n",
       " 'https://www.summitracing.com/parts/cmb-08-0195',\n",
       " 'https://www.summitracing.com/parts/cmb-08-0196',\n",
       " 'https://www.summitracing.com/parts/cmb-08-0197',\n",
       " 'https://www.summitracing.com/parts/cmb-08-0198',\n",
       " 'https://www.summitracing.com/parts/cmb-08-0199',\n",
       " 'https://www.summitracing.com/parts/cmb-08-0200',\n",
       " 'https://www.summitracing.com/parts/cmb-08-0201',\n",
       " 'https://www.summitracing.com/parts/cmb-08-0202',\n",
       " 'https://www.summitracing.com/parts/cmb-08-0203',\n",
       " 'https://www.summitracing.com/parts/cmb-08-0204',\n",
       " 'https://www.summitracing.com/parts/cmb-08-0205',\n",
       " 'https://www.summitracing.com/parts/cmb-08-0206',\n",
       " 'https://www.summitracing.com/parts/cmb-08-0207',\n",
       " 'https://www.summitracing.com/parts/cmb-08-0208',\n",
       " 'https://www.summitracing.com/parts/cmb-08-0209',\n",
       " 'https://www.summitracing.com/parts/cmb-08-0210',\n",
       " 'https://www.summitracing.com/parts/cmb-08-0211',\n",
       " 'https://www.summitracing.com/parts/cmb-08-0212',\n",
       " 'https://www.summitracing.com/parts/ctr-12-200',\n",
       " 'https://www.summitracing.com/parts/ctr-12-280a',\n",
       " 'https://www.summitracing.com/parts/ctr-13-270',\n",
       " 'https://www.summitracing.com/parts/ctr-13-270blk',\n",
       " 'https://www.summitracing.com/parts/ctr-13-274blk',\n",
       " 'https://www.summitracing.com/parts/ctr-13-280a',\n",
       " 'https://www.summitracing.com/parts/ctr-15-274',\n",
       " 'https://www.summitracing.com/parts/ctr-15-274blk',\n",
       " 'https://www.summitracing.com/parts/ctr-15-275',\n",
       " 'https://www.summitracing.com/parts/ctr-15-276',\n",
       " 'https://www.summitracing.com/parts/ctr-15-276blk',\n",
       " 'https://www.summitracing.com/parts/ctr-15-277',\n",
       " 'https://www.summitracing.com/parts/ctr-15-284a',\n",
       " 'https://www.summitracing.com/parts/ctr-15-285',\n",
       " 'https://www.summitracing.com/parts/ctr-15-286a',\n",
       " 'https://www.summitracing.com/parts/ctr-15-287',\n",
       " 'https://www.summitracing.com/parts/ctr-16-279',\n",
       " 'https://www.summitracing.com/parts/ctr-20-902',\n",
       " 'https://www.summitracing.com/parts/ctr-21-870',\n",
       " 'https://www.summitracing.com/parts/ctr-22-302',\n",
       " 'https://www.summitracing.com/parts/ctr-22-304',\n",
       " 'https://www.summitracing.com/parts/cvs-5414',\n",
       " 'https://www.summitracing.com/parts/cvs-9314',\n",
       " 'https://www.summitracing.com/parts/dou-skop100',\n",
       " 'https://www.summitracing.com/parts/drt-31937111',\n",
       " 'https://www.summitracing.com/parts/drt-31937112',\n",
       " 'https://www.summitracing.com/parts/drt-31937142',\n",
       " 'https://www.summitracing.com/parts/drt-31937211',\n",
       " 'https://www.summitracing.com/parts/drt-31937212',\n",
       " 'https://www.summitracing.com/parts/drt-31937221',\n",
       " 'https://www.summitracing.com/parts/drt-31937222',\n",
       " 'https://www.summitracing.com/parts/drt-31937242',\n",
       " 'https://www.summitracing.com/parts/drt-31947111',\n",
       " 'https://www.summitracing.com/parts/drt-31947112',\n",
       " 'https://www.summitracing.com/parts/drt-31947121',\n",
       " 'https://www.summitracing.com/parts/drt-31947122',\n",
       " 'https://www.summitracing.com/parts/drt-31947142',\n",
       " 'https://www.summitracing.com/parts/drt-31947211',\n",
       " 'https://www.summitracing.com/parts/drt-31947212',\n",
       " 'https://www.summitracing.com/parts/drt-31947221',\n",
       " 'https://www.summitracing.com/parts/drt-31947222',\n",
       " 'https://www.summitracing.com/parts/drt-31947242',\n",
       " 'https://www.summitracing.com/parts/drt-62230001',\n",
       " 'https://www.summitracing.com/parts/ear-1136erl',\n",
       " 'https://www.summitracing.com/parts/ear-1137erl',\n",
       " 'https://www.summitracing.com/parts/ear-ls0020erl',\n",
       " 'https://www.summitracing.com/parts/edl-46720',\n",
       " 'https://www.summitracing.com/parts/edl-46725',\n",
       " 'https://www.summitracing.com/parts/edl-46726',\n",
       " 'https://www.summitracing.com/parts/edl-46727',\n",
       " 'https://www.summitracing.com/parts/edl-46736',\n",
       " 'https://www.summitracing.com/parts/edl-46737',\n",
       " 'https://www.summitracing.com/parts/edl-46750',\n",
       " 'https://www.summitracing.com/parts/edl-46760',\n",
       " 'https://www.summitracing.com/parts/fel-260-1880',\n",
       " 'https://www.summitracing.com/parts/fel-260-1883',\n",
       " 'https://www.summitracing.com/parts/fel-260-1909',\n",
       " 'https://www.summitracing.com/parts/fel-260-1910',\n",
       " 'https://www.summitracing.com/parts/fel-260-1956']"
      ]
     },
     "execution_count": 2,
     "metadata": {},
     "output_type": "execute_result"
    }
   ],
   "source": [
    "df = pd.read_excel('./menu.xlsx',\n",
    "                   header=0,\n",
    "                   dtype=str).fillna('')\n",
    "\n",
    "list_url = df['Url'].tolist()\n",
    "\n",
    "print('总数量：' + str(len(list_url)))\n",
    "list_url"
   ]
  },
  {
   "cell_type": "code",
   "execution_count": 3,
   "id": "cb1681d6",
   "metadata": {},
   "outputs": [
    {
     "data": {
      "text/html": [
       "<div>\n",
       "<style scoped>\n",
       "    .dataframe tbody tr th:only-of-type {\n",
       "        vertical-align: middle;\n",
       "    }\n",
       "\n",
       "    .dataframe tbody tr th {\n",
       "        vertical-align: top;\n",
       "    }\n",
       "\n",
       "    .dataframe thead th {\n",
       "        text-align: right;\n",
       "    }\n",
       "</style>\n",
       "<table border=\"1\" class=\"dataframe\">\n",
       "  <thead>\n",
       "    <tr style=\"text-align: right;\">\n",
       "      <th></th>\n",
       "    </tr>\n",
       "  </thead>\n",
       "  <tbody>\n",
       "  </tbody>\n",
       "</table>\n",
       "</div>"
      ],
      "text/plain": [
       "Empty DataFrame\n",
       "Columns: []\n",
       "Index: []"
      ]
     },
     "execution_count": 3,
     "metadata": {},
     "output_type": "execute_result"
    }
   ],
   "source": [
    "df = pd.DataFrame()\n",
    "\n",
    "df"
   ]
  },
  {
   "cell_type": "code",
   "execution_count": 4,
   "id": "394bb4e7",
   "metadata": {},
   "outputs": [],
   "source": [
    "from selenium.webdriver import ChromeOptions"
   ]
  },
  {
   "cell_type": "code",
   "execution_count": 5,
   "id": "79f1e0d5",
   "metadata": {},
   "outputs": [],
   "source": [
    "option = ChromeOptions()"
   ]
  },
  {
   "cell_type": "code",
   "execution_count": 6,
   "id": "e1ce0308",
   "metadata": {},
   "outputs": [],
   "source": [
    "import sys\n",
    "sys.path.append('../../00.module')\n",
    "import UA\n",
    "import Proxy\n",
    "\n",
    "option.add_extension(Proxy.get_Proxy_Selenium(''))\n",
    "option.add_experimental_option('useAutomationExtension', False)\n",
    "option.add_argument('blink-settings=imagesEnabled=false')\n",
    "option.add_argument('--disable-blink-features=AutomationControlled')\n",
    "option.add_argument('--disable-dev-shm-usage')\n",
    "option.add_argument('--disable-gpu')\n",
    "option.add_experimental_option('excludeSwitches', ['enable-automation'])\n",
    "# option.add_argument('--headless')\n",
    "option.add_argument('--no-sandbox')\n",
    "option.add_argument(UA.get_User_Agent_Selenium())\n",
    "option.page_load_strategy = 'eager'"
   ]
  },
  {
   "cell_type": "code",
   "execution_count": 7,
   "id": "0929c4ba",
   "metadata": {},
   "outputs": [],
   "source": [
    "from selenium.webdriver import Chrome\n",
    "from selenium.webdriver.chrome.service import Service"
   ]
  },
  {
   "cell_type": "code",
   "execution_count": 8,
   "id": "ce78873b",
   "metadata": {},
   "outputs": [],
   "source": [
    "i = 0\n",
    "\n",
    "url = list_url[i]\n",
    "\n",
    "browser = Chrome(service=Service('../../../chromedriver'), options=option)\n",
    "\n",
    "browser.maximize_window()\n",
    "\n",
    "browser.get(url)"
   ]
  },
  {
   "cell_type": "code",
   "execution_count": 9,
   "id": "d4bac1a0",
   "metadata": {},
   "outputs": [],
   "source": [
    "import time"
   ]
  },
  {
   "cell_type": "code",
   "execution_count": 10,
   "id": "65e0ec8b",
   "metadata": {},
   "outputs": [],
   "source": [
    "browser.execute_script('window.scrollTo(0, document.body.scrollHeight);')\n",
    "time.sleep(1)\n",
    "browser.execute_script('window.scrollTo(0, -document.body.scrollHeight);')"
   ]
  },
  {
   "cell_type": "code",
   "execution_count": 11,
   "id": "ef0c1595",
   "metadata": {},
   "outputs": [],
   "source": [
    "from selenium.webdriver.support import expected_conditions as EC\n",
    "from selenium.webdriver.support.wait import WebDriverWait\n",
    "from selenium.webdriver.common.by import By"
   ]
  },
  {
   "cell_type": "code",
   "execution_count": 12,
   "id": "62c20129",
   "metadata": {},
   "outputs": [
    {
     "data": {
      "text/plain": [
       "'Chevrolet Performance 6.2L 376 C.I.D. 495 HP Engine Assemblies 19435108'"
      ]
     },
     "execution_count": 12,
     "metadata": {},
     "output_type": "execute_result"
    }
   ],
   "source": [
    "wait = WebDriverWait(browser, 60)\n",
    "wait.until(EC.presence_of_element_located((By.XPATH, '//h1[@class=\"part-detail-title\"]')))\n",
    "title = browser.find_element(by=By.XPATH, value='//h1[@class=\"part-detail-title\"]').text.strip()\n",
    "\n",
    "title"
   ]
  },
  {
   "cell_type": "code",
   "execution_count": 13,
   "id": "3c778ddc",
   "metadata": {},
   "outputs": [
    {
     "data": {
      "text/plain": [
       "'NAL-19435108'"
      ]
     },
     "execution_count": 13,
     "metadata": {},
     "output_type": "execute_result"
    }
   ],
   "source": [
    "wait.until(EC.presence_of_element_located((By.XPATH, '//p[@class=\"part-detail-title-number\"]')))\n",
    "part_number = browser.find_element(by=By.XPATH, value='//p[@class=\"part-detail-title-number\"]').text.replace('Part Number:', '').strip()\n",
    "\n",
    "part_number"
   ]
  },
  {
   "cell_type": "code",
   "execution_count": 14,
   "id": "d6009cc6",
   "metadata": {},
   "outputs": [],
   "source": [
    "from lxml import etree"
   ]
  },
  {
   "cell_type": "code",
   "execution_count": 15,
   "id": "f75a806f",
   "metadata": {},
   "outputs": [
    {
     "data": {
      "text/plain": [
       "'CRATE ENGINE'"
      ]
     },
     "execution_count": 15,
     "metadata": {},
     "output_type": "execute_result"
    }
   ],
   "source": [
    "wait.until(EC.presence_of_element_located((By.XPATH, '//p[@class=\"item-description\"]')))\n",
    "description = browser.find_element(by=By.XPATH, value='//p[@class=\"item-description\"]').get_attribute('outerHTML')\n",
    "\n",
    "html = etree.HTML(description)\n",
    "description = ' '.join(html.xpath('//p[@class=\"item-description\"]/text()')).strip()\n",
    "\n",
    "description"
   ]
  },
  {
   "cell_type": "code",
   "execution_count": 16,
   "id": "fb637cd9",
   "metadata": {},
   "outputs": [
    {
     "data": {
      "text/plain": [
       "'https://static.summitracing.com/global/images/prod/large/noimage_125.jpg'"
      ]
     },
     "execution_count": 16,
     "metadata": {},
     "output_type": "execute_result"
    }
   ],
   "source": [
    "wait.until(EC.presence_of_element_located((By.XPATH, '//img[@id=\"primaryImage\"]')))\n",
    "src = browser.find_element(by=By.XPATH, value='//img[@id=\"primaryImage\"]').get_attribute('src').strip()\n",
    "\n",
    "src"
   ]
  },
  {
   "cell_type": "code",
   "execution_count": 17,
   "id": "25212205",
   "metadata": {
    "scrolled": true
   },
   "outputs": [
    {
     "data": {
      "text/plain": [
       "[<selenium.webdriver.remote.webelement.WebElement (session=\"9ebc885b525ee5c00ac3bc778fc81c2d\", element=\"EDDF1B6BDE1017F193E116E28D8A74A9_element_120\")>,\n",
       " <selenium.webdriver.remote.webelement.WebElement (session=\"9ebc885b525ee5c00ac3bc778fc81c2d\", element=\"EDDF1B6BDE1017F193E116E28D8A74A9_element_121\")>,\n",
       " <selenium.webdriver.remote.webelement.WebElement (session=\"9ebc885b525ee5c00ac3bc778fc81c2d\", element=\"EDDF1B6BDE1017F193E116E28D8A74A9_element_122\")>,\n",
       " <selenium.webdriver.remote.webelement.WebElement (session=\"9ebc885b525ee5c00ac3bc778fc81c2d\", element=\"EDDF1B6BDE1017F193E116E28D8A74A9_element_123\")>,\n",
       " <selenium.webdriver.remote.webelement.WebElement (session=\"9ebc885b525ee5c00ac3bc778fc81c2d\", element=\"EDDF1B6BDE1017F193E116E28D8A74A9_element_124\")>,\n",
       " <selenium.webdriver.remote.webelement.WebElement (session=\"9ebc885b525ee5c00ac3bc778fc81c2d\", element=\"EDDF1B6BDE1017F193E116E28D8A74A9_element_125\")>,\n",
       " <selenium.webdriver.remote.webelement.WebElement (session=\"9ebc885b525ee5c00ac3bc778fc81c2d\", element=\"EDDF1B6BDE1017F193E116E28D8A74A9_element_126\")>,\n",
       " <selenium.webdriver.remote.webelement.WebElement (session=\"9ebc885b525ee5c00ac3bc778fc81c2d\", element=\"EDDF1B6BDE1017F193E116E28D8A74A9_element_127\")>,\n",
       " <selenium.webdriver.remote.webelement.WebElement (session=\"9ebc885b525ee5c00ac3bc778fc81c2d\", element=\"EDDF1B6BDE1017F193E116E28D8A74A9_element_128\")>,\n",
       " <selenium.webdriver.remote.webelement.WebElement (session=\"9ebc885b525ee5c00ac3bc778fc81c2d\", element=\"EDDF1B6BDE1017F193E116E28D8A74A9_element_129\")>,\n",
       " <selenium.webdriver.remote.webelement.WebElement (session=\"9ebc885b525ee5c00ac3bc778fc81c2d\", element=\"EDDF1B6BDE1017F193E116E28D8A74A9_element_130\")>,\n",
       " <selenium.webdriver.remote.webelement.WebElement (session=\"9ebc885b525ee5c00ac3bc778fc81c2d\", element=\"EDDF1B6BDE1017F193E116E28D8A74A9_element_131\")>,\n",
       " <selenium.webdriver.remote.webelement.WebElement (session=\"9ebc885b525ee5c00ac3bc778fc81c2d\", element=\"EDDF1B6BDE1017F193E116E28D8A74A9_element_132\")>,\n",
       " <selenium.webdriver.remote.webelement.WebElement (session=\"9ebc885b525ee5c00ac3bc778fc81c2d\", element=\"EDDF1B6BDE1017F193E116E28D8A74A9_element_133\")>,\n",
       " <selenium.webdriver.remote.webelement.WebElement (session=\"9ebc885b525ee5c00ac3bc778fc81c2d\", element=\"EDDF1B6BDE1017F193E116E28D8A74A9_element_134\")>,\n",
       " <selenium.webdriver.remote.webelement.WebElement (session=\"9ebc885b525ee5c00ac3bc778fc81c2d\", element=\"EDDF1B6BDE1017F193E116E28D8A74A9_element_135\")>,\n",
       " <selenium.webdriver.remote.webelement.WebElement (session=\"9ebc885b525ee5c00ac3bc778fc81c2d\", element=\"EDDF1B6BDE1017F193E116E28D8A74A9_element_136\")>,\n",
       " <selenium.webdriver.remote.webelement.WebElement (session=\"9ebc885b525ee5c00ac3bc778fc81c2d\", element=\"EDDF1B6BDE1017F193E116E28D8A74A9_element_137\")>,\n",
       " <selenium.webdriver.remote.webelement.WebElement (session=\"9ebc885b525ee5c00ac3bc778fc81c2d\", element=\"EDDF1B6BDE1017F193E116E28D8A74A9_element_138\")>,\n",
       " <selenium.webdriver.remote.webelement.WebElement (session=\"9ebc885b525ee5c00ac3bc778fc81c2d\", element=\"EDDF1B6BDE1017F193E116E28D8A74A9_element_139\")>,\n",
       " <selenium.webdriver.remote.webelement.WebElement (session=\"9ebc885b525ee5c00ac3bc778fc81c2d\", element=\"EDDF1B6BDE1017F193E116E28D8A74A9_element_140\")>,\n",
       " <selenium.webdriver.remote.webelement.WebElement (session=\"9ebc885b525ee5c00ac3bc778fc81c2d\", element=\"EDDF1B6BDE1017F193E116E28D8A74A9_element_141\")>,\n",
       " <selenium.webdriver.remote.webelement.WebElement (session=\"9ebc885b525ee5c00ac3bc778fc81c2d\", element=\"EDDF1B6BDE1017F193E116E28D8A74A9_element_142\")>,\n",
       " <selenium.webdriver.remote.webelement.WebElement (session=\"9ebc885b525ee5c00ac3bc778fc81c2d\", element=\"EDDF1B6BDE1017F193E116E28D8A74A9_element_143\")>,\n",
       " <selenium.webdriver.remote.webelement.WebElement (session=\"9ebc885b525ee5c00ac3bc778fc81c2d\", element=\"EDDF1B6BDE1017F193E116E28D8A74A9_element_144\")>,\n",
       " <selenium.webdriver.remote.webelement.WebElement (session=\"9ebc885b525ee5c00ac3bc778fc81c2d\", element=\"EDDF1B6BDE1017F193E116E28D8A74A9_element_145\")>,\n",
       " <selenium.webdriver.remote.webelement.WebElement (session=\"9ebc885b525ee5c00ac3bc778fc81c2d\", element=\"EDDF1B6BDE1017F193E116E28D8A74A9_element_146\")>,\n",
       " <selenium.webdriver.remote.webelement.WebElement (session=\"9ebc885b525ee5c00ac3bc778fc81c2d\", element=\"EDDF1B6BDE1017F193E116E28D8A74A9_element_147\")>,\n",
       " <selenium.webdriver.remote.webelement.WebElement (session=\"9ebc885b525ee5c00ac3bc778fc81c2d\", element=\"EDDF1B6BDE1017F193E116E28D8A74A9_element_148\")>,\n",
       " <selenium.webdriver.remote.webelement.WebElement (session=\"9ebc885b525ee5c00ac3bc778fc81c2d\", element=\"EDDF1B6BDE1017F193E116E28D8A74A9_element_149\")>,\n",
       " <selenium.webdriver.remote.webelement.WebElement (session=\"9ebc885b525ee5c00ac3bc778fc81c2d\", element=\"EDDF1B6BDE1017F193E116E28D8A74A9_element_150\")>,\n",
       " <selenium.webdriver.remote.webelement.WebElement (session=\"9ebc885b525ee5c00ac3bc778fc81c2d\", element=\"EDDF1B6BDE1017F193E116E28D8A74A9_element_151\")>,\n",
       " <selenium.webdriver.remote.webelement.WebElement (session=\"9ebc885b525ee5c00ac3bc778fc81c2d\", element=\"EDDF1B6BDE1017F193E116E28D8A74A9_element_152\")>]"
      ]
     },
     "execution_count": 17,
     "metadata": {},
     "output_type": "execute_result"
    }
   ],
   "source": [
    "wait.until(EC.presence_of_element_located((By.XPATH, '//div[@class=\"attribute-container flex-container flex-wrap\"]/div[@class=\"small-12 medium-9 large-6\"]')))\n",
    "list_name = browser.find_elements(by=By.XPATH, value='//div[@class=\"attribute-container flex-container flex-wrap\"]/div[@class=\"small-12 medium-9 large-6\"]')\n",
    "\n",
    "wait.until(EC.presence_of_element_located((By.XPATH, '//div[@class=\"attribute-container flex-container flex-wrap\"]/div[@class=\"small-12 medium-15 large-18\"]')))\n",
    "list_value = browser.find_elements(by=By.XPATH, value='//div[@class=\"attribute-container flex-container flex-wrap\"]/div[@class=\"small-12 medium-15 large-18\"]')\n",
    "\n",
    "list_value"
   ]
  },
  {
   "cell_type": "code",
   "execution_count": 18,
   "id": "b5445e2c",
   "metadata": {
    "scrolled": true
   },
   "outputs": [
    {
     "data": {
      "text/html": [
       "<div>\n",
       "<style scoped>\n",
       "    .dataframe tbody tr th:only-of-type {\n",
       "        vertical-align: middle;\n",
       "    }\n",
       "\n",
       "    .dataframe tbody tr th {\n",
       "        vertical-align: top;\n",
       "    }\n",
       "\n",
       "    .dataframe thead th {\n",
       "        text-align: right;\n",
       "    }\n",
       "</style>\n",
       "<table border=\"1\" class=\"dataframe\">\n",
       "  <thead>\n",
       "    <tr style=\"text-align: right;\">\n",
       "      <th></th>\n",
       "      <th>status</th>\n",
       "      <th>序号</th>\n",
       "      <th>Part_Number</th>\n",
       "      <th>Title</th>\n",
       "      <th>Description</th>\n",
       "      <th>Pic</th>\n",
       "      <th>Url</th>\n",
       "      <th>Src</th>\n",
       "      <th>Brand</th>\n",
       "      <th>Manufacturer's Part Number</th>\n",
       "      <th>...</th>\n",
       "      <th>Flexplate Included</th>\n",
       "      <th>Flywheel Included</th>\n",
       "      <th>Air Cleaner Included</th>\n",
       "      <th>Spark Plugs Included</th>\n",
       "      <th>Spark Plug Wires Included</th>\n",
       "      <th>Computer Included</th>\n",
       "      <th>Wiring Harness Included</th>\n",
       "      <th>Supercharger Included</th>\n",
       "      <th>Remanufactured</th>\n",
       "      <th>Quantity</th>\n",
       "    </tr>\n",
       "  </thead>\n",
       "  <tbody>\n",
       "    <tr>\n",
       "      <th>0</th>\n",
       "      <td>ok</td>\n",
       "      <td></td>\n",
       "      <td>NAL-19435108</td>\n",
       "      <td>Chevrolet Performance 6.2L 376 C.I.D. 495 HP E...</td>\n",
       "      <td>CRATE ENGINE</td>\n",
       "      <td></td>\n",
       "      <td>https://www.summitracing.com/parts/nal-19435108</td>\n",
       "      <td>https://static.summitracing.com/global/images/...</td>\n",
       "      <td>Chevrolet Performance</td>\n",
       "      <td>19435108</td>\n",
       "      <td>...</td>\n",
       "      <td>No</td>\n",
       "      <td>No</td>\n",
       "      <td>No</td>\n",
       "      <td>No</td>\n",
       "      <td>No</td>\n",
       "      <td>No</td>\n",
       "      <td>No</td>\n",
       "      <td>No</td>\n",
       "      <td>No</td>\n",
       "      <td>Sold individually.</td>\n",
       "    </tr>\n",
       "  </tbody>\n",
       "</table>\n",
       "<p>1 rows × 41 columns</p>\n",
       "</div>"
      ],
      "text/plain": [
       "  status 序号   Part_Number                                              Title  \\\n",
       "0     ok     NAL-19435108  Chevrolet Performance 6.2L 376 C.I.D. 495 HP E...   \n",
       "\n",
       "    Description Pic                                              Url  \\\n",
       "0  CRATE ENGINE      https://www.summitracing.com/parts/nal-19435108   \n",
       "\n",
       "                                                 Src                  Brand  \\\n",
       "0  https://static.summitracing.com/global/images/...  Chevrolet Performance   \n",
       "\n",
       "  Manufacturer's Part Number  ... Flexplate Included Flywheel Included  \\\n",
       "0                   19435108  ...                 No                No   \n",
       "\n",
       "  Air Cleaner Included Spark Plugs Included Spark Plug Wires Included  \\\n",
       "0                   No                   No                        No   \n",
       "\n",
       "  Computer Included Wiring Harness Included Supercharger Included  \\\n",
       "0                No                      No                    No   \n",
       "\n",
       "  Remanufactured            Quantity  \n",
       "0             No  Sold individually.  \n",
       "\n",
       "[1 rows x 41 columns]"
      ]
     },
     "execution_count": 18,
     "metadata": {},
     "output_type": "execute_result"
    }
   ],
   "source": [
    "df_temp = pd.DataFrame([{'status': 'ok',\n",
    "                         '序号': '',\n",
    "                         'Part_Number': part_number,\n",
    "                         'Title': title,\n",
    "                         'Description': description,\n",
    "                         'Pic': '',\n",
    "                         'Url': url,\n",
    "                         'Src': src}])\n",
    "\n",
    "for name, value in zip(list_name, list_value):\n",
    "    df_temp.loc[0, name.text.strip()[:-1]] = value.text.strip()\n",
    "\n",
    "browser.quit()\n",
    "\n",
    "df = pd.concat([df, df_temp], ignore_index=True).fillna('')\n",
    "\n",
    "df"
   ]
  },
  {
   "cell_type": "code",
   "execution_count": null,
   "id": "244794fe",
   "metadata": {},
   "outputs": [],
   "source": []
  }
 ],
 "metadata": {
  "kernelspec": {
   "display_name": "Python 3 (ipykernel)",
   "language": "python",
   "name": "python3"
  },
  "language_info": {
   "codemirror_mode": {
    "name": "ipython",
    "version": 3
   },
   "file_extension": ".py",
   "mimetype": "text/x-python",
   "name": "python",
   "nbconvert_exporter": "python",
   "pygments_lexer": "ipython3",
   "version": "3.11.3"
  }
 },
 "nbformat": 4,
 "nbformat_minor": 5
}
