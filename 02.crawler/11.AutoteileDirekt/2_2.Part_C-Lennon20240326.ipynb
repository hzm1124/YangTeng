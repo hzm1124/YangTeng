{
 "cells": [
  {
   "cell_type": "code",
   "execution_count": 1,
   "id": "f5cb51f3",
   "metadata": {},
   "outputs": [],
   "source": [
    "import pandas as pd"
   ]
  },
  {
   "cell_type": "code",
   "execution_count": 2,
   "id": "ee0068f6",
   "metadata": {},
   "outputs": [
    {
     "name": "stdout",
     "output_type": "stream",
     "text": [
      "总数量：45\n"
     ]
    },
    {
     "data": {
      "text/plain": [
       "['https://www.autoteiledirekt.de/skf-1363314.html',\n",
       " 'https://www.autoteiledirekt.de/skf-1362409.html',\n",
       " 'https://www.autoteiledirekt.de/skf-1362413.html',\n",
       " 'https://www.autoteiledirekt.de/skf-1362925.html',\n",
       " 'https://www.autoteiledirekt.de/skf-16143.html',\n",
       " 'https://www.autoteiledirekt.de/skf-1362932.html',\n",
       " 'https://www.autoteiledirekt.de/skf-15809.html',\n",
       " 'https://www.autoteiledirekt.de/skf-16144.html',\n",
       " 'https://www.autoteiledirekt.de/skf-15842.html',\n",
       " 'https://www.autoteiledirekt.de/skf-1362479.html',\n",
       " 'https://www.autoteiledirekt.de/skf-1362802.html',\n",
       " 'https://www.autoteiledirekt.de/skf-1362803.html',\n",
       " 'https://www.autoteiledirekt.de/skf-1362842.html',\n",
       " 'https://www.autoteiledirekt.de/skf-1362923.html',\n",
       " 'https://www.autoteiledirekt.de/skf-15777.html',\n",
       " 'https://www.autoteiledirekt.de/skf-15808.html',\n",
       " 'https://www.autoteiledirekt.de/skf-1363252.html',\n",
       " 'https://www.autoteiledirekt.de/skf-15715.html',\n",
       " 'https://www.autoteiledirekt.de/skf-1362635.html',\n",
       " 'https://www.autoteiledirekt.de/skf-1362368.html',\n",
       " 'https://www.autoteiledirekt.de/skf-1362838.html',\n",
       " 'https://www.autoteiledirekt.de/skf-1362913.html',\n",
       " 'https://www.autoteiledirekt.de/skf-16141.html',\n",
       " 'https://www.autoteiledirekt.de/skf-7275104.html',\n",
       " 'https://www.autoteiledirekt.de/skf-16142.html',\n",
       " 'https://www.autoteiledirekt.de/skf-1362666.html',\n",
       " 'https://www.autoteiledirekt.de/skf-15778.html',\n",
       " 'https://www.autoteiledirekt.de/skf-16145.html',\n",
       " 'https://www.autoteiledirekt.de/skf-15811.html',\n",
       " 'https://www.autoteiledirekt.de/skf-1362755.html',\n",
       " 'https://www.autoteiledirekt.de/skf-1362323.html',\n",
       " 'https://www.autoteiledirekt.de/skf-1362644.html',\n",
       " 'https://www.autoteiledirekt.de/skf-15716.html',\n",
       " 'https://www.autoteiledirekt.de/skf-1362433.html',\n",
       " 'https://www.autoteiledirekt.de/skf-15750.html',\n",
       " 'https://www.autoteiledirekt.de/skf-1362921.html',\n",
       " 'https://www.autoteiledirekt.de/skf-1362570.html',\n",
       " 'https://www.autoteiledirekt.de/skf-1362480.html',\n",
       " 'https://www.autoteiledirekt.de/skf-15779.html',\n",
       " 'https://www.autoteiledirekt.de/skf-16160.html',\n",
       " 'https://www.autoteiledirekt.de/skf-1362271.html',\n",
       " 'https://www.autoteiledirekt.de/skf-1362383.html',\n",
       " 'https://www.autoteiledirekt.de/skf-1363312.html',\n",
       " 'https://www.autoteiledirekt.de/skf-1362345.html',\n",
       " 'https://www.autoteiledirekt.de/skf-1362261.html']"
      ]
     },
     "execution_count": 2,
     "metadata": {},
     "output_type": "execute_result"
    }
   ],
   "source": [
    "df = pd.read_excel('./menu.xlsx',\n",
    "                   header=0,\n",
    "                   dtype=str).fillna('')\n",
    "\n",
    "print('总数量：' + str(len(df)))\n",
    "df['Url'].tolist()"
   ]
  },
  {
   "cell_type": "code",
   "execution_count": 3,
   "id": "ccba061d",
   "metadata": {},
   "outputs": [
    {
     "data": {
      "text/plain": [
       "{'1': 'https://www.autoteiledirekt.de/skf-1363314.html',\n",
       " '2': 'https://www.autoteiledirekt.de/skf-1362409.html',\n",
       " '3': 'https://www.autoteiledirekt.de/skf-1362413.html',\n",
       " '4': 'https://www.autoteiledirekt.de/skf-1362925.html',\n",
       " '5': 'https://www.autoteiledirekt.de/skf-16143.html',\n",
       " '6': 'https://www.autoteiledirekt.de/skf-1362932.html',\n",
       " '7': 'https://www.autoteiledirekt.de/skf-15809.html',\n",
       " '8': 'https://www.autoteiledirekt.de/skf-16144.html',\n",
       " '9': 'https://www.autoteiledirekt.de/skf-15842.html',\n",
       " '10': 'https://www.autoteiledirekt.de/skf-1362479.html',\n",
       " '11': 'https://www.autoteiledirekt.de/skf-1362802.html',\n",
       " '12': 'https://www.autoteiledirekt.de/skf-1362803.html',\n",
       " '13': 'https://www.autoteiledirekt.de/skf-1362842.html',\n",
       " '14': 'https://www.autoteiledirekt.de/skf-1362923.html',\n",
       " '15': 'https://www.autoteiledirekt.de/skf-15777.html',\n",
       " '16': 'https://www.autoteiledirekt.de/skf-15808.html',\n",
       " '17': 'https://www.autoteiledirekt.de/skf-1363252.html',\n",
       " '18': 'https://www.autoteiledirekt.de/skf-15715.html',\n",
       " '19': 'https://www.autoteiledirekt.de/skf-1362635.html',\n",
       " '20': 'https://www.autoteiledirekt.de/skf-1362368.html',\n",
       " '21': 'https://www.autoteiledirekt.de/skf-1362838.html',\n",
       " '22': 'https://www.autoteiledirekt.de/skf-1362913.html',\n",
       " '23': 'https://www.autoteiledirekt.de/skf-16141.html',\n",
       " '24': 'https://www.autoteiledirekt.de/skf-7275104.html',\n",
       " '25': 'https://www.autoteiledirekt.de/skf-16142.html',\n",
       " '26': 'https://www.autoteiledirekt.de/skf-1362666.html',\n",
       " '27': 'https://www.autoteiledirekt.de/skf-15778.html',\n",
       " '28': 'https://www.autoteiledirekt.de/skf-16145.html',\n",
       " '29': 'https://www.autoteiledirekt.de/skf-15811.html',\n",
       " '30': 'https://www.autoteiledirekt.de/skf-1362755.html',\n",
       " '31': 'https://www.autoteiledirekt.de/skf-1362323.html',\n",
       " '32': 'https://www.autoteiledirekt.de/skf-1362644.html',\n",
       " '33': 'https://www.autoteiledirekt.de/skf-15716.html',\n",
       " '34': 'https://www.autoteiledirekt.de/skf-1362433.html',\n",
       " '35': 'https://www.autoteiledirekt.de/skf-15750.html',\n",
       " '36': 'https://www.autoteiledirekt.de/skf-1362921.html',\n",
       " '37': 'https://www.autoteiledirekt.de/skf-1362570.html',\n",
       " '38': 'https://www.autoteiledirekt.de/skf-1362480.html',\n",
       " '39': 'https://www.autoteiledirekt.de/skf-15779.html',\n",
       " '40': 'https://www.autoteiledirekt.de/skf-16160.html',\n",
       " '41': 'https://www.autoteiledirekt.de/skf-1362271.html',\n",
       " '42': 'https://www.autoteiledirekt.de/skf-1362383.html',\n",
       " '43': 'https://www.autoteiledirekt.de/skf-1363312.html',\n",
       " '44': 'https://www.autoteiledirekt.de/skf-1362345.html',\n",
       " '45': 'https://www.autoteiledirekt.de/skf-1362261.html'}"
      ]
     },
     "execution_count": 3,
     "metadata": {},
     "output_type": "execute_result"
    }
   ],
   "source": [
    "dict_url = {}\n",
    "for i in range(len(df)):\n",
    "    dict_url[str(i+1)] = df.loc[i, 'Url']\n",
    "    \n",
    "dict_url"
   ]
  },
  {
   "cell_type": "code",
   "execution_count": 4,
   "id": "2c8c4c84",
   "metadata": {},
   "outputs": [],
   "source": [
    "import os"
   ]
  },
  {
   "cell_type": "code",
   "execution_count": 5,
   "id": "56069c5f",
   "metadata": {},
   "outputs": [
    {
     "data": {
      "text/plain": [
       "45"
      ]
     },
     "execution_count": 5,
     "metadata": {},
     "output_type": "execute_result"
    }
   ],
   "source": [
    "list_file = list(os.walk('./part'))[0][2]\n",
    "if '.DS_Store' in list_file:\n",
    "    list_file.remove('.DS_Store')\n",
    "if '0.null.txt' in list_file:\n",
    "    list_file.remove('0.null.txt')\n",
    "    \n",
    "list_file.sort()\n",
    "    \n",
    "len(list_file)"
   ]
  },
  {
   "cell_type": "code",
   "execution_count": 6,
   "id": "b244d524",
   "metadata": {},
   "outputs": [
    {
     "data": {
      "text/plain": [
       "{}"
      ]
     },
     "execution_count": 6,
     "metadata": {},
     "output_type": "execute_result"
    }
   ],
   "source": [
    "dict_url = dict(filter(lambda x: x[0] + '.txt' not in list_file, dict_url.items()))\n",
    "\n",
    "dict_url"
   ]
  },
  {
   "cell_type": "code",
   "execution_count": 7,
   "id": "e51b9069",
   "metadata": {},
   "outputs": [],
   "source": [
    "import pyperclip"
   ]
  },
  {
   "cell_type": "code",
   "execution_count": 8,
   "id": "02c48936",
   "metadata": {},
   "outputs": [
    {
     "ename": "NameError",
     "evalue": "name 'data_1' is not defined",
     "output_type": "error",
     "traceback": [
      "\u001b[0;31m---------------------------------------------------------------------------\u001b[0m",
      "\u001b[0;31mNameError\u001b[0m                                 Traceback (most recent call last)",
      "Cell \u001b[0;32mIn[8], line 9\u001b[0m\n\u001b[1;32m      6\u001b[0m         data_1 \u001b[38;5;241m+\u001b[39m\u001b[38;5;241m=\u001b[39m \u001b[38;5;124m'\u001b[39m\u001b[38;5;124m\"\u001b[39m\u001b[38;5;124m'\u001b[39m \u001b[38;5;241m+\u001b[39m key \u001b[38;5;241m+\u001b[39m \u001b[38;5;124m'\u001b[39m\u001b[38;5;124m\"\u001b[39m\u001b[38;5;124m: \u001b[39m\u001b[38;5;124m\"\u001b[39m\u001b[38;5;124m'\u001b[39m \u001b[38;5;241m+\u001b[39m dict_url[key] \u001b[38;5;241m+\u001b[39m \u001b[38;5;124m'\u001b[39m\u001b[38;5;124m\"\u001b[39m\u001b[38;5;124m, \u001b[39m\u001b[38;5;124m'\u001b[39m\n\u001b[1;32m      7\u001b[0m         data_2 \u001b[38;5;241m+\u001b[39m\u001b[38;5;241m=\u001b[39m \u001b[38;5;124m'\u001b[39m\u001b[38;5;124m\"\u001b[39m\u001b[38;5;124m'\u001b[39m \u001b[38;5;241m+\u001b[39m key \u001b[38;5;241m+\u001b[39m \u001b[38;5;124m'\u001b[39m\u001b[38;5;124m\"\u001b[39m\u001b[38;5;124m, \u001b[39m\u001b[38;5;124m'\u001b[39m\n\u001b[0;32m----> 9\u001b[0m data \u001b[38;5;241m=\u001b[39m \u001b[43mdata_1\u001b[49m[:\u001b[38;5;241m-\u001b[39m\u001b[38;5;241m2\u001b[39m] \u001b[38;5;241m+\u001b[39m \u001b[38;5;124m'\u001b[39m\u001b[38;5;124m};\u001b[39m\u001b[38;5;130;01m\\n\u001b[39;00m\u001b[38;5;124m'\u001b[39m \u001b[38;5;241m+\u001b[39m data_2[:\u001b[38;5;241m-\u001b[39m\u001b[38;5;241m2\u001b[39m] \u001b[38;5;241m+\u001b[39m \u001b[38;5;124m'\u001b[39m\u001b[38;5;124m];\u001b[39m\u001b[38;5;130;01m\\n\u001b[39;00m\u001b[38;5;124m'\u001b[39m\n\u001b[1;32m     11\u001b[0m pyperclip\u001b[38;5;241m.\u001b[39mcopy(data)\n\u001b[1;32m     13\u001b[0m data\n",
      "\u001b[0;31mNameError\u001b[0m: name 'data_1' is not defined"
     ]
    }
   ],
   "source": [
    "for i, key in zip(range(len(dict_url)), dict_url):\n",
    "    if i == 0:\n",
    "        data_1 = 'let dict_url = {\"' + key + '\": \"' + dict_url[key] + '\", '\n",
    "        data_2 = 'let list_key = [\"' + key + '\", '\n",
    "    else:\n",
    "        data_1 += '\"' + key + '\": \"' + dict_url[key] + '\", '\n",
    "        data_2 += '\"' + key + '\", '\n",
    "\n",
    "data = data_1[:-2] + '};\\n' + data_2[:-2] + '];\\n'\n",
    "\n",
    "pyperclip.copy(data)\n",
    "\n",
    "data"
   ]
  },
  {
   "cell_type": "code",
   "execution_count": null,
   "id": "ff4dd310",
   "metadata": {},
   "outputs": [],
   "source": []
  }
 ],
 "metadata": {
  "kernelspec": {
   "display_name": "Python 3 (ipykernel)",
   "language": "python",
   "name": "python3"
  },
  "language_info": {
   "codemirror_mode": {
    "name": "ipython",
    "version": 3
   },
   "file_extension": ".py",
   "mimetype": "text/x-python",
   "name": "python",
   "nbconvert_exporter": "python",
   "pygments_lexer": "ipython3",
   "version": "3.11.3"
  }
 },
 "nbformat": 4,
 "nbformat_minor": 5
}
