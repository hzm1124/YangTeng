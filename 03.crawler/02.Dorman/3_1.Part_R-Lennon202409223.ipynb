{
 "cells": [
  {
   "cell_type": "code",
   "execution_count": 1,
   "id": "ba98551f-b0b1-4c50-8c47-3ad3a3730b73",
   "metadata": {},
   "outputs": [
    {
     "data": {
      "text/plain": [
       "['crawler_1.xlsx']"
      ]
     },
     "execution_count": 1,
     "metadata": {},
     "output_type": "execute_result"
    }
   ],
   "source": [
    "import os\n",
    "\n",
    "list_file = sorted(list(os.walk('./file/2.url'))[0][2])\n",
    "while '.DS_Store' in list_file:\n",
    "    list_file.remove('.DS_Store')\n",
    "while '0.null.txt' in list_file:\n",
    "    list_file.remove('0.null.txt')\n",
    "\n",
    "list_file"
   ]
  },
  {
   "cell_type": "code",
   "execution_count": 2,
   "id": "9b75b948-9701-432e-a5ef-88d0e629bd2c",
   "metadata": {},
   "outputs": [
    {
     "data": {
      "text/plain": [
       "'crawler_1.xlsx'"
      ]
     },
     "execution_count": 2,
     "metadata": {},
     "output_type": "execute_result"
    }
   ],
   "source": [
    "file = list_file[0]\n",
    "\n",
    "file"
   ]
  },
  {
   "cell_type": "code",
   "execution_count": 3,
   "id": "76ea49e2-7cc6-4bc1-af5b-7a6768eb6c08",
   "metadata": {},
   "outputs": [],
   "source": [
    "import pandas as pd\n",
    "\n",
    "output_correct, output_error = pd.DataFrame(), pd.DataFrame()"
   ]
  },
  {
   "cell_type": "code",
   "execution_count": 4,
   "id": "5d22fc26-a390-442a-bfe3-4d409c33f1e7",
   "metadata": {
    "scrolled": true
   },
   "outputs": [
    {
     "name": "stdout",
     "output_type": "stream",
     "text": [
      "总数量：132\n"
     ]
    },
    {
     "data": {
      "text/plain": [
       "['https://www.dormanproducts.com/p-84706-924-351cd.aspx?origin=keyword',\n",
       " 'https://www.dormanproducts.com/p-65564-924-351.aspx?origin=keyword',\n",
       " 'https://www.dormanproducts.com/p-65557-924-352.aspx?origin=keyword',\n",
       " 'https://www.dormanproducts.com/p-129108-940-102kt.aspx?origin=keyword',\n",
       " 'https://www.dormanproducts.com/p-104645-912-605.aspx?origin=keyword',\n",
       " 'https://www.dormanproducts.com/p-105515-912-604.aspx?origin=keyword',\n",
       " 'https://www.dormanproducts.com/p-74519-924-369.aspx?origin=keyword',\n",
       " 'https://www.dormanproducts.com/p-127582-926-111cd.aspx?origin=keyword',\n",
       " 'https://www.dormanproducts.com/p-144840-940-691.aspx?origin=keyword',\n",
       " 'https://www.dormanproducts.com/p-105926-912-700.aspx?origin=keyword',\n",
       " 'https://www.dormanproducts.com/p-144839-940-690.aspx?origin=keyword',\n",
       " 'https://www.dormanproducts.com/p-74542-924-365.aspx?origin=keyword',\n",
       " 'https://www.dormanproducts.com/p-74548-924-364.aspx?origin=keyword',\n",
       " 'https://www.dormanproducts.com/p-128730-912-610.aspx?origin=keyword',\n",
       " 'https://www.dormanproducts.com/p-138695-912-753.aspx?origin=keyword',\n",
       " 'https://www.dormanproducts.com/p-74494-924-382.aspx?origin=keyword',\n",
       " 'https://www.dormanproducts.com/p-73642-924-361.aspx?origin=keyword',\n",
       " 'https://www.dormanproducts.com/p-138618-912-708.aspx?origin=keyword',\n",
       " 'https://www.dormanproducts.com/p-74514-924-381.aspx?origin=keyword',\n",
       " 'https://www.dormanproducts.com/p-131451-940-112.aspx?origin=keyword',\n",
       " 'https://www.dormanproducts.com/p-142395-912-771.aspx?origin=keyword',\n",
       " 'https://www.dormanproducts.com/p-138925-912-741.aspx?origin=keyword',\n",
       " 'https://www.dormanproducts.com/p-86289-924-545.aspx?origin=keyword',\n",
       " 'https://www.dormanproducts.com/p-138694-912-751.aspx?origin=keyword',\n",
       " 'https://www.dormanproducts.com/p-138693-912-744.aspx?origin=keyword',\n",
       " 'https://www.dormanproducts.com/p-99947-926-111.aspx?origin=keyword',\n",
       " 'https://www.dormanproducts.com/p-74554-924-363.aspx?origin=keyword',\n",
       " 'https://www.dormanproducts.com/p-138806-912-742.aspx?origin=keyword',\n",
       " 'https://www.dormanproducts.com/p-138811-912-743.aspx?origin=keyword',\n",
       " 'https://www.dormanproducts.com/p-76060-924-383.aspx?origin=keyword',\n",
       " 'https://www.dormanproducts.com/p-141527-912-770.aspx?origin=keyword',\n",
       " 'https://www.dormanproducts.com/p-82760-924-429.aspx?origin=keyword',\n",
       " 'https://www.dormanproducts.com/p-73650-924-362.aspx?origin=keyword',\n",
       " 'https://www.dormanproducts.com/p-74499-924-367.aspx?origin=keyword',\n",
       " 'https://www.dormanproducts.com/p-64818-924-350.aspx?origin=keyword',\n",
       " 'https://www.dormanproducts.com/p-105626-912-601.aspx?origin=keyword',\n",
       " 'https://www.dormanproducts.com/p-104770-912-603.aspx?origin=keyword',\n",
       " 'https://www.dormanproducts.com/p-153770-770-5409.aspx?origin=keyword',\n",
       " 'https://www.dormanproducts.com/p-153766-770-5430.aspx?origin=keyword',\n",
       " 'https://www.dormanproducts.com/p-105658-912-602.aspx?origin=keyword',\n",
       " 'https://www.dormanproducts.com/p-105769-912-701.aspx?origin=keyword',\n",
       " 'https://www.dormanproducts.com/p-153765-770-5429.aspx?origin=keyword',\n",
       " 'https://www.dormanproducts.com/p-82694-924-426.aspx?origin=keyword',\n",
       " 'https://www.dormanproducts.com/p-139729-912-738.aspx?origin=keyword',\n",
       " 'https://www.dormanproducts.com/p-138367-940-5113.aspx?origin=keyword',\n",
       " 'https://www.dormanproducts.com/p-138368-940-5114.aspx?origin=keyword',\n",
       " 'https://www.dormanproducts.com/p-145726-940-671.aspx?origin=keyword',\n",
       " 'https://www.dormanproducts.com/p-137071-940-020.aspx?origin=keyword',\n",
       " 'https://www.dormanproducts.com/p-136894-940-021.aspx?origin=keyword',\n",
       " 'https://www.dormanproducts.com/p-76051-924-366.aspx?origin=keyword',\n",
       " 'https://www.dormanproducts.com/p-145861-940-140.aspx?origin=keyword',\n",
       " 'https://www.dormanproducts.com/p-145862-940-141.aspx?origin=keyword',\n",
       " 'https://www.dormanproducts.com/p-145727-940-672.aspx?origin=keyword',\n",
       " 'https://www.dormanproducts.com/p-72659-924-353.aspx?origin=keyword',\n",
       " 'https://www.dormanproducts.com/p-18762-924-300.aspx?origin=keyword',\n",
       " 'https://www.dormanproducts.com/p-82673-924-428.aspx?origin=keyword',\n",
       " 'https://www.dormanproducts.com/p-66268-924-370.aspx?origin=keyword',\n",
       " 'https://www.dormanproducts.com/p-129522-912-630.aspx?origin=keyword',\n",
       " 'https://www.dormanproducts.com/p-65540-924-360.aspx?origin=keyword',\n",
       " 'https://www.dormanproducts.com/p-78154-924-481.aspx?origin=keyword',\n",
       " 'https://www.dormanproducts.com/p-82672-924-427.aspx?origin=keyword',\n",
       " 'https://www.dormanproducts.com/p-76066-924-368.aspx?origin=keyword',\n",
       " 'https://www.dormanproducts.com/p-74139-924-5514.aspx?origin=keyword',\n",
       " 'https://www.dormanproducts.com/p-152440-940-673.aspx?origin=keyword',\n",
       " 'https://www.dormanproducts.com/p-130976-912-616.aspx?origin=keyword',\n",
       " 'https://www.dormanproducts.com/p-82710-95314.aspx?origin=keyword',\n",
       " 'https://www.dormanproducts.com/p-130461-912-618.aspx?origin=keyword',\n",
       " 'https://www.dormanproducts.com/p-30344-75475.aspx?origin=keyword',\n",
       " 'https://www.dormanproducts.com/p-82891-937-300.aspx?origin=keyword',\n",
       " 'https://www.dormanproducts.com/p-82903-937-303.aspx?origin=keyword',\n",
       " 'https://www.dormanproducts.com/p-138998-937-294.aspx?origin=keyword',\n",
       " 'https://www.dormanproducts.com/p-138980-937-295.aspx?origin=keyword',\n",
       " 'https://www.dormanproducts.com/p-138750-937-794.aspx?origin=keyword',\n",
       " 'https://www.dormanproducts.com/p-87066-931-456.aspx?origin=keyword',\n",
       " 'https://www.dormanproducts.com/p-87083-931-457.aspx?origin=keyword',\n",
       " 'https://www.dormanproducts.com/p-153932-937-5132.aspx?origin=keyword',\n",
       " 'https://www.dormanproducts.com/p-153933-937-5133.aspx?origin=keyword',\n",
       " 'https://www.dormanproducts.com/p-104687-937-5103.aspx?origin=keyword',\n",
       " 'https://www.dormanproducts.com/p-104713-937-5102.aspx?origin=keyword',\n",
       " 'https://www.dormanproducts.com/p-141529-912-778.aspx?origin=keyword',\n",
       " 'https://www.dormanproducts.com/p-138748-937-791.aspx?origin=keyword',\n",
       " 'https://www.dormanproducts.com/p-140896-820-035.aspx?origin=keyword',\n",
       " 'https://www.dormanproducts.com/p-74703-912-167.aspx?origin=keyword',\n",
       " 'https://www.dormanproducts.com/p-73827-912-159.aspx?origin=keyword',\n",
       " 'https://www.dormanproducts.com/p-73825-912-152.aspx?origin=keyword',\n",
       " 'https://www.dormanproducts.com/p-136877-937-546.aspx?origin=keyword',\n",
       " 'https://www.dormanproducts.com/p-106706-931-740.aspx?origin=keyword',\n",
       " 'https://www.dormanproducts.com/p-82651-937-298.aspx?origin=keyword',\n",
       " 'https://www.dormanproducts.com/p-82635-937-299.aspx?origin=keyword',\n",
       " 'https://www.dormanproducts.com/p-130459-912-609.aspx?origin=keyword',\n",
       " 'https://www.dormanproducts.com/p-144732-760-5119.aspx?origin=keyword',\n",
       " 'https://www.dormanproducts.com/p-144508-760-5118.aspx?origin=keyword',\n",
       " 'https://www.dormanproducts.com/p-137130-912-710.aspx?origin=keyword',\n",
       " 'https://www.dormanproducts.com/p-74646-912-150.aspx?origin=keyword',\n",
       " 'https://www.dormanproducts.com/p-74220-912-166.aspx?origin=keyword',\n",
       " 'https://www.dormanproducts.com/p-74153-912-151.aspx?origin=keyword',\n",
       " 'https://www.dormanproducts.com/p-142733-912-779.aspx?origin=keyword',\n",
       " 'https://www.dormanproducts.com/p-74620-912-168.aspx?origin=keyword',\n",
       " 'https://www.dormanproducts.com/p-74126-912-156.aspx?origin=keyword',\n",
       " 'https://www.dormanproducts.com/p-74217-912-157.aspx?origin=keyword',\n",
       " 'https://www.dormanproducts.com/p-74214-912-171.aspx?origin=keyword',\n",
       " 'https://www.dormanproducts.com/p-74661-912-158.aspx?origin=keyword',\n",
       " 'https://www.dormanproducts.com/p-74224-912-170.aspx?origin=keyword',\n",
       " 'https://www.dormanproducts.com/p-74030-912-160.aspx?origin=keyword',\n",
       " 'https://www.dormanproducts.com/p-74168-912-155.aspx?origin=keyword',\n",
       " 'https://www.dormanproducts.com/p-130466-912-625.aspx?origin=keyword',\n",
       " 'https://www.dormanproducts.com/p-130462-912-619.aspx?origin=keyword',\n",
       " 'https://www.dormanproducts.com/p-130465-912-624.aspx?origin=keyword',\n",
       " 'https://www.dormanproducts.com/p-134427-912-617.aspx?origin=keyword',\n",
       " 'https://www.dormanproducts.com/p-130464-912-623.aspx?origin=keyword',\n",
       " 'https://www.dormanproducts.com/p-130460-912-614.aspx?origin=keyword',\n",
       " 'https://www.dormanproducts.com/p-134426-912-615.aspx?origin=keyword',\n",
       " 'https://www.dormanproducts.com/p-130463-912-620.aspx?origin=keyword',\n",
       " 'https://www.dormanproducts.com/p-10459-700-579.aspx?origin=keyword',\n",
       " 'https://www.dormanproducts.com/p-80390-761-5202.aspx?origin=keyword',\n",
       " 'https://www.dormanproducts.com/p-107020-940-121.aspx?origin=keyword',\n",
       " 'https://www.dormanproducts.com/p-20439-700-368.aspx?origin=keyword',\n",
       " 'https://www.dormanproducts.com/p-100824-961-359d.aspx?origin=keyword',\n",
       " 'https://www.dormanproducts.com/p-73240-961-359.aspx?origin=keyword',\n",
       " 'https://www.dormanproducts.com/p-10953-963-056.aspx?origin=keyword',\n",
       " 'https://www.dormanproducts.com/p-100730-963-056d.aspx?origin=keyword',\n",
       " 'https://www.dormanproducts.com/p-27765-45490.aspx?origin=keyword',\n",
       " 'https://www.dormanproducts.com/p-3804-700-251.aspx?origin=keyword',\n",
       " 'https://www.dormanproducts.com/p-8384-700-520.aspx?origin=keyword',\n",
       " 'https://www.dormanproducts.com/p-72583-963-232.aspx?origin=keyword',\n",
       " 'https://www.dormanproducts.com/p-100954-963-232d.aspx?origin=keyword',\n",
       " 'https://www.dormanproducts.com/p-21977-45406.aspx?origin=keyword',\n",
       " 'https://www.dormanproducts.com/p-125851-700-520bx.aspx?origin=keyword',\n",
       " 'https://www.dormanproducts.com/p-100837-961-304d.aspx?origin=keyword',\n",
       " 'https://www.dormanproducts.com/p-73244-961-304.aspx?origin=keyword',\n",
       " 'https://www.dormanproducts.com/p-54719-963-208.aspx?origin=keyword',\n",
       " 'https://www.dormanproducts.com/p-100761-963-208d.aspx?origin=keyword']"
      ]
     },
     "execution_count": 4,
     "metadata": {},
     "output_type": "execute_result"
    }
   ],
   "source": [
    "input_ = pd.read_excel(f'./file/2.url/{file}',\n",
    "                       header=0,\n",
    "                       dtype=str).fillna('')\n",
    "\n",
    "input_['No'] = input_['No'].astype(int)\n",
    "\n",
    "print(f'总数量：{len(input_)}')\n",
    "input_['Url'].tolist()"
   ]
  },
  {
   "cell_type": "code",
   "execution_count": 5,
   "id": "5878a9f0-d639-4123-b6e0-bc564f72c2d6",
   "metadata": {},
   "outputs": [
    {
     "data": {
      "text/plain": [
       "0"
      ]
     },
     "execution_count": 5,
     "metadata": {},
     "output_type": "execute_result"
    }
   ],
   "source": [
    "a = 0\n",
    "\n",
    "a"
   ]
  },
  {
   "cell_type": "code",
   "execution_count": 6,
   "id": "9f61dd65-55da-4d0b-ba30-d0534eff0781",
   "metadata": {},
   "outputs": [
    {
     "data": {
      "text/plain": [
       "'error'"
      ]
     },
     "execution_count": 6,
     "metadata": {},
     "output_type": "execute_result"
    }
   ],
   "source": [
    "crawler_status = 'error'\n",
    "\n",
    "crawler_status"
   ]
  },
  {
   "cell_type": "code",
   "execution_count": 7,
   "id": "ad99bc86-6e80-4fcf-8200-736dc5101097",
   "metadata": {},
   "outputs": [
    {
     "name": "stdout",
     "output_type": "stream",
     "text": [
      "1\n",
      "2\n",
      "3\n"
     ]
    },
    {
     "data": {
      "text/plain": [
       "'Cable - Door Latch'"
      ]
     },
     "execution_count": 7,
     "metadata": {},
     "output_type": "execute_result"
    }
   ],
   "source": [
    "import requests\n",
    "\n",
    "import sys\n",
    "sys.path.append('../00.Tools')\n",
    "from crawler_configuration import get_header, get_proxy\n",
    "\n",
    "from bs4 import BeautifulSoup\n",
    "from lxml import etree\n",
    "\n",
    "b = 0\n",
    "while True:\n",
    "    b += 1\n",
    "    print(b)\n",
    "    try:\n",
    "        request_url = input_.loc[a, 'Url']\n",
    "        \n",
    "        resp = requests.get(request_url,\n",
    "                            headers=get_header(),\n",
    "                            proxies=get_proxy(),\n",
    "                            timeout=(10, 10))\n",
    "\n",
    "        if resp.status_code == 200:\n",
    "            soup = BeautifulSoup(resp.text, 'lxml')\n",
    "            html = etree.HTML(str(soup))\n",
    "\n",
    "            type_ = html.xpath('//h1/span[@id=\"lblPartTypeName\"]/text()')[0].strip()\n",
    "            if type_:\n",
    "                with open('./part.html', 'w', encoding='UTF-8') as file:\n",
    "                    file.write(str(soup))\n",
    "                break\n",
    "    except KeyboardInterrupt:\n",
    "        break\n",
    "    except:\n",
    "        continue\n",
    "\n",
    "type_"
   ]
  },
  {
   "cell_type": "code",
   "execution_count": 8,
   "id": "f933a1ab-8825-469f-91db-99d00e8d5c6d",
   "metadata": {
    "scrolled": true
   },
   "outputs": [
    {
     "data": {
      "text/plain": [
       "{'0': 'https://static.dormanproducts.com/images/product/medium/924-351-007.JPG',\n",
       " '1': 'https://static.dormanproducts.com/images/product/medium/924-351-006.JPG',\n",
       " '2': 'https://static.dormanproducts.com/images/product/medium/924-351-005.JPG'}"
      ]
     },
     "execution_count": 8,
     "metadata": {},
     "output_type": "execute_result"
    }
   ],
   "source": [
    "dict_src, i, list_src = {}, 0, list(reversed([href.strip() for href in html.xpath('//a[@data-zoom-id=\"ProductPic\"]/@href')]))\n",
    "for src in list_src:\n",
    "    if src.startswith('http'):\n",
    "        dict_src[str(i)] = src\n",
    "        i += 1\n",
    "\n",
    "dict_src"
   ]
  },
  {
   "cell_type": "code",
   "execution_count": 9,
   "id": "43844a94-a200-41b1-a313-ed0256b88c71",
   "metadata": {},
   "outputs": [
    {
     "data": {
      "text/plain": [
       "'924-351CD'"
      ]
     },
     "execution_count": 9,
     "metadata": {},
     "output_type": "execute_result"
    }
   ],
   "source": [
    "part_number = html.xpath('//span[@id=\"lblProductName\"]/text()')[0].strip()\n",
    "\n",
    "part_number"
   ]
  },
  {
   "cell_type": "code",
   "execution_count": 10,
   "id": "46eff63e-1cfa-4a23-ba9e-8351742e8400",
   "metadata": {
    "scrolled": true
   },
   "outputs": [
    {
     "data": {
      "text/plain": [
       "'Door Latch Release Cable'"
      ]
     },
     "execution_count": 10,
     "metadata": {},
     "output_type": "execute_result"
    }
   ],
   "source": [
    "description = html.xpath('//span[@id=\"lblProductDesc\"]/text()')[0].strip()\n",
    "\n",
    "description"
   ]
  },
  {
   "cell_type": "code",
   "execution_count": 11,
   "id": "5f282eda-54ac-4f8e-a37c-412537540e5f",
   "metadata": {},
   "outputs": [
    {
     "data": {
      "text/plain": [
       "'Ford 2024-21, 2019-92'"
      ]
     },
     "execution_count": 11,
     "metadata": {},
     "output_type": "execute_result"
    }
   ],
   "source": [
    "list_text = [text.strip() for text in html.xpath('//div[@id=\"divAppSummary\"]/p/text()')]\n",
    "while '' in list_text:\n",
    "    list_text.remove('')\n",
    "\n",
    "application_summary = ';'.join(list_text)\n",
    "\n",
    "application_summary"
   ]
  },
  {
   "cell_type": "code",
   "execution_count": 12,
   "id": "e6506b87-53eb-4664-b3d4-f6ba7a650979",
   "metadata": {},
   "outputs": [
    {
     "data": {
      "text/plain": [
       "'Dorman - HELP! - Bagged'"
      ]
     },
     "execution_count": 12,
     "metadata": {},
     "output_type": "execute_result"
    }
   ],
   "source": [
    "brand = html.xpath('//span[@id=\"lblBrandName\"]/text()')[0].strip()\n",
    "\n",
    "brand"
   ]
  },
  {
   "cell_type": "code",
   "execution_count": 13,
   "id": "93bb5264-dfb2-41db-9baf-5978154f39a7",
   "metadata": {},
   "outputs": [
    {
     "data": {
      "text/plain": [
       "'https://www.dormanproducts.com/itemdetailapp.aspx?ProductID=84706&PartType=Cable%20-%20Door%20Latch'"
      ]
     },
     "execution_count": 13,
     "metadata": {},
     "output_type": "execute_result"
    }
   ],
   "source": [
    "vehicle_url = html.xpath('//input[@id=\"hidfDetailApp\"]/@value')\n",
    "vehicle_url = f'''https://www.dormanproducts.com/{vehicle_url[0].strip()}''' if vehicle_url else ''\n",
    "\n",
    "vehicle_url"
   ]
  },
  {
   "cell_type": "code",
   "execution_count": 14,
   "id": "66f41a37-1f0c-4970-a421-ef2c56a5b211",
   "metadata": {},
   "outputs": [
    {
     "data": {
      "text/plain": [
       "{'0': {'Cable Housing Material': 'Plastic'},\n",
       " '1': {'Cable Material': 'Steel'},\n",
       " '2': {'Length': 'Long Cable - 17.05 in; Short Cable - 8.66 in'},\n",
       " '3': {'Mounting Bracket Included': 'No'},\n",
       " '4': {'Mounting Hardware Included': 'No'},\n",
       " '5': {'Package Contents': '2 Door Latch Cables'},\n",
       " '6': {'Package Quantity': '1'},\n",
       " '7': {'Packaging Type': 'Bag'},\n",
       " '8': {'Universal Or Specific Fit': 'Specific'}}"
      ]
     },
     "execution_count": 14,
     "metadata": {},
     "output_type": "execute_result"
    }
   ],
   "source": [
    "dict_specification, list_tr = {}, html.xpath('//section[@id=\"productSpec\"]/div/table/tr')\n",
    "for i, tr in enumerate(list_tr):\n",
    "    dict_specification[str(i)] = {tr.xpath('./th/text()')[0].strip().removesuffix(':').strip(): tr.xpath('./td/text()')[0].strip()}\n",
    "\n",
    "dict_specification"
   ]
  },
  {
   "cell_type": "code",
   "execution_count": 15,
   "id": "3f5e2322-f0e0-42c7-8f79-2c520f64bb3e",
   "metadata": {},
   "outputs": [
    {
     "data": {
      "text/plain": [
       "'8C2Z15431A02C'"
      ]
     },
     "execution_count": 15,
     "metadata": {},
     "output_type": "execute_result"
    }
   ],
   "source": [
    "list_text = [text.strip() for text in html.xpath('//section[@id=\"productOE\"]/div/table/tbody/tr/th/text()')]\n",
    "oem = ';'.join(sorted(list(set(list_text)), key=list_text.index))\n",
    "\n",
    "oem"
   ]
  },
  {
   "cell_type": "code",
   "execution_count": 16,
   "id": "539386a1-2e9a-4bf4-8061-22e4732d38a5",
   "metadata": {},
   "outputs": [
    {
     "data": {
      "text/html": [
       "<div>\n",
       "<style scoped>\n",
       "    .dataframe tbody tr th:only-of-type {\n",
       "        vertical-align: middle;\n",
       "    }\n",
       "\n",
       "    .dataframe tbody tr th {\n",
       "        vertical-align: top;\n",
       "    }\n",
       "\n",
       "    .dataframe thead th {\n",
       "        text-align: right;\n",
       "    }\n",
       "</style>\n",
       "<table border=\"1\" class=\"dataframe\">\n",
       "  <thead>\n",
       "    <tr style=\"text-align: right;\">\n",
       "      <th></th>\n",
       "      <th>No</th>\n",
       "      <th>Type</th>\n",
       "      <th>Brand</th>\n",
       "      <th>Part Number</th>\n",
       "      <th>Description</th>\n",
       "      <th>Application Summary</th>\n",
       "      <th>OEM</th>\n",
       "      <th>Picture</th>\n",
       "      <th>Url</th>\n",
       "      <th>Vehicle Url</th>\n",
       "      <th>Json_Src</th>\n",
       "      <th>Json_Specification</th>\n",
       "    </tr>\n",
       "  </thead>\n",
       "  <tbody>\n",
       "    <tr>\n",
       "      <th>0</th>\n",
       "      <td>1</td>\n",
       "      <td>Cable - Door Latch</td>\n",
       "      <td>Dorman - HELP! - Bagged</td>\n",
       "      <td>924-351CD</td>\n",
       "      <td>Door Latch Release Cable</td>\n",
       "      <td>Ford 2024-21, 2019-92</td>\n",
       "      <td>8C2Z15431A02C</td>\n",
       "      <td></td>\n",
       "      <td>https://www.dormanproducts.com/p-84706-924-351...</td>\n",
       "      <td>https://www.dormanproducts.com/itemdetailapp.a...</td>\n",
       "      <td>{\"0\": \"https://static.dormanproducts.com/image...</td>\n",
       "      <td>{\"0\": {\"Cable Housing Material\": \"Plastic\"}, \"...</td>\n",
       "    </tr>\n",
       "  </tbody>\n",
       "</table>\n",
       "</div>"
      ],
      "text/plain": [
       "   No                Type                    Brand Part Number  \\\n",
       "0   1  Cable - Door Latch  Dorman - HELP! - Bagged   924-351CD   \n",
       "\n",
       "                Description    Application Summary            OEM Picture  \\\n",
       "0  Door Latch Release Cable  Ford 2024-21, 2019-92  8C2Z15431A02C           \n",
       "\n",
       "                                                 Url  \\\n",
       "0  https://www.dormanproducts.com/p-84706-924-351...   \n",
       "\n",
       "                                         Vehicle Url  \\\n",
       "0  https://www.dormanproducts.com/itemdetailapp.a...   \n",
       "\n",
       "                                            Json_Src  \\\n",
       "0  {\"0\": \"https://static.dormanproducts.com/image...   \n",
       "\n",
       "                                  Json_Specification  \n",
       "0  {\"0\": {\"Cable Housing Material\": \"Plastic\"}, \"...  "
      ]
     },
     "execution_count": 16,
     "metadata": {},
     "output_type": "execute_result"
    }
   ],
   "source": [
    "import json\n",
    "\n",
    "df_temp = pd.DataFrame([{'No': input_.loc[a, 'No'],\n",
    "                         'Type': type_,\n",
    "                         'Part Number': part_number,\n",
    "                         'Brand': brand,\n",
    "                         'Description': description,\n",
    "                         'Application Summary': application_summary,\n",
    "                         'OEM': oem,\n",
    "                         'Picture': '',\n",
    "                         'Url': request_url,\n",
    "                         'Vehicle Url': vehicle_url,\n",
    "                         'Json_Src': json.dumps(dict_src),\n",
    "                         'Json_Specification': json.dumps(dict_specification)}])\n",
    "\n",
    "output_correct = pd.concat([output_correct, df_temp], ignore_index=True).fillna('')\n",
    "\n",
    "output_correct"
   ]
  },
  {
   "cell_type": "code",
   "execution_count": 17,
   "id": "fc4ed7f6-ed4f-431c-b944-b1690309cdae",
   "metadata": {},
   "outputs": [
    {
     "data": {
      "text/plain": [
       "'ok'"
      ]
     },
     "execution_count": 17,
     "metadata": {},
     "output_type": "execute_result"
    }
   ],
   "source": [
    "crawler_status = 'ok'\n",
    "\n",
    "crawler_status"
   ]
  },
  {
   "cell_type": "code",
   "execution_count": 18,
   "id": "65c745d1-446e-46c5-9dec-819c9f7944d3",
   "metadata": {},
   "outputs": [
    {
     "data": {
      "text/html": [
       "<div>\n",
       "<style scoped>\n",
       "    .dataframe tbody tr th:only-of-type {\n",
       "        vertical-align: middle;\n",
       "    }\n",
       "\n",
       "    .dataframe tbody tr th {\n",
       "        vertical-align: top;\n",
       "    }\n",
       "\n",
       "    .dataframe thead th {\n",
       "        text-align: right;\n",
       "    }\n",
       "</style>\n",
       "<table border=\"1\" class=\"dataframe\">\n",
       "  <thead>\n",
       "    <tr style=\"text-align: right;\">\n",
       "      <th></th>\n",
       "    </tr>\n",
       "  </thead>\n",
       "  <tbody>\n",
       "  </tbody>\n",
       "</table>\n",
       "</div>"
      ],
      "text/plain": [
       "Empty DataFrame\n",
       "Columns: []\n",
       "Index: []"
      ]
     },
     "execution_count": 18,
     "metadata": {},
     "output_type": "execute_result"
    }
   ],
   "source": [
    "if crawler_status == 'error':\n",
    "    df_temp = pd.DataFrame([input_.iloc[a]]).reset_index(drop=True)\n",
    "    df_temp.loc[0, 'Request_Url'] = request_url\n",
    "    \n",
    "    output_error = pd.concat([output_error, df_temp], ignore_index=True).fillna('')\n",
    "\n",
    "output_error"
   ]
  },
  {
   "cell_type": "code",
   "execution_count": 19,
   "id": "7fd477de",
   "metadata": {},
   "outputs": [
    {
     "data": {
      "text/html": [
       "<div>\n",
       "<style scoped>\n",
       "    .dataframe tbody tr th:only-of-type {\n",
       "        vertical-align: middle;\n",
       "    }\n",
       "\n",
       "    .dataframe tbody tr th {\n",
       "        vertical-align: top;\n",
       "    }\n",
       "\n",
       "    .dataframe thead th {\n",
       "        text-align: right;\n",
       "    }\n",
       "</style>\n",
       "<table border=\"1\" class=\"dataframe\">\n",
       "  <thead>\n",
       "    <tr style=\"text-align: right;\">\n",
       "      <th></th>\n",
       "      <th>No</th>\n",
       "      <th>Type</th>\n",
       "      <th>Brand</th>\n",
       "      <th>Part Number</th>\n",
       "      <th>Description</th>\n",
       "      <th>Application Summary</th>\n",
       "      <th>OEM</th>\n",
       "      <th>Picture</th>\n",
       "      <th>Url</th>\n",
       "      <th>Vehicle Url</th>\n",
       "      <th>Json_Src</th>\n",
       "      <th>Json_Specification</th>\n",
       "    </tr>\n",
       "  </thead>\n",
       "  <tbody>\n",
       "    <tr>\n",
       "      <th>0</th>\n",
       "      <td>1</td>\n",
       "      <td>Cable - Door Latch</td>\n",
       "      <td>Dorman - HELP! - Bagged</td>\n",
       "      <td>924-351CD</td>\n",
       "      <td>Door Latch Release Cable</td>\n",
       "      <td>Ford 2024-21, 2019-92</td>\n",
       "      <td>8C2Z15431A02C</td>\n",
       "      <td></td>\n",
       "      <td>https://www.dormanproducts.com/p-84706-924-351...</td>\n",
       "      <td>https://www.dormanproducts.com/itemdetailapp.a...</td>\n",
       "      <td>{\"0\": \"https://static.dormanproducts.com/image...</td>\n",
       "      <td>{\"0\": {\"Cable Housing Material\": \"Plastic\"}, \"...</td>\n",
       "    </tr>\n",
       "  </tbody>\n",
       "</table>\n",
       "</div>"
      ],
      "text/plain": [
       "   No                Type                    Brand Part Number  \\\n",
       "0   1  Cable - Door Latch  Dorman - HELP! - Bagged   924-351CD   \n",
       "\n",
       "                Description    Application Summary            OEM Picture  \\\n",
       "0  Door Latch Release Cable  Ford 2024-21, 2019-92  8C2Z15431A02C           \n",
       "\n",
       "                                                 Url  \\\n",
       "0  https://www.dormanproducts.com/p-84706-924-351...   \n",
       "\n",
       "                                         Vehicle Url  \\\n",
       "0  https://www.dormanproducts.com/itemdetailapp.a...   \n",
       "\n",
       "                                            Json_Src  \\\n",
       "0  {\"0\": \"https://static.dormanproducts.com/image...   \n",
       "\n",
       "                                  Json_Specification  \n",
       "0  {\"0\": {\"Cable Housing Material\": \"Plastic\"}, \"...  "
      ]
     },
     "execution_count": 19,
     "metadata": {},
     "output_type": "execute_result"
    }
   ],
   "source": [
    "if not output_correct.empty:\n",
    "    output_correct = output_correct.sort_values(by=['No'],\n",
    "                                                ascending=[True],\n",
    "                                                ignore_index=True)\n",
    "    output_correct.to_excel('./test_part.xlsx', index=False)\n",
    "\n",
    "output_correct"
   ]
  },
  {
   "cell_type": "code",
   "execution_count": 20,
   "id": "39a5441b-7f69-4812-aad8-7e10a1a24e78",
   "metadata": {},
   "outputs": [
    {
     "data": {
      "text/html": [
       "<div>\n",
       "<style scoped>\n",
       "    .dataframe tbody tr th:only-of-type {\n",
       "        vertical-align: middle;\n",
       "    }\n",
       "\n",
       "    .dataframe tbody tr th {\n",
       "        vertical-align: top;\n",
       "    }\n",
       "\n",
       "    .dataframe thead th {\n",
       "        text-align: right;\n",
       "    }\n",
       "</style>\n",
       "<table border=\"1\" class=\"dataframe\">\n",
       "  <thead>\n",
       "    <tr style=\"text-align: right;\">\n",
       "      <th></th>\n",
       "    </tr>\n",
       "  </thead>\n",
       "  <tbody>\n",
       "  </tbody>\n",
       "</table>\n",
       "</div>"
      ],
      "text/plain": [
       "Empty DataFrame\n",
       "Columns: []\n",
       "Index: []"
      ]
     },
     "execution_count": 20,
     "metadata": {},
     "output_type": "execute_result"
    }
   ],
   "source": [
    "if not output_error.empty:\n",
    "    output_error = output_error.sort_values(by=['No'],\n",
    "                                            ascending=[True],\n",
    "                                            ignore_index=True)\n",
    "    output_error.to_excel('./test_part_error.xlsx', index=False)\n",
    "\n",
    "output_error"
   ]
  },
  {
   "cell_type": "code",
   "execution_count": null,
   "id": "ba5d9f77-7464-4ad5-a42b-1fa0c0505832",
   "metadata": {},
   "outputs": [],
   "source": []
  }
 ],
 "metadata": {
  "kernelspec": {
   "display_name": "Python 3 (ipykernel)",
   "language": "python",
   "name": "python3"
  },
  "language_info": {
   "codemirror_mode": {
    "name": "ipython",
    "version": 3
   },
   "file_extension": ".py",
   "mimetype": "text/x-python",
   "name": "python",
   "nbconvert_exporter": "python",
   "pygments_lexer": "ipython3",
   "version": "3.11.3"
  }
 },
 "nbformat": 4,
 "nbformat_minor": 5
}
