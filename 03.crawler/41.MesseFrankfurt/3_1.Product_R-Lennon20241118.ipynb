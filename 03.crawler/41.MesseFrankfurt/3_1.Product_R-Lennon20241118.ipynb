{
 "cells": [
  {
   "cell_type": "code",
   "execution_count": 1,
   "id": "28567785-1bca-439f-9042-e39b3255a55b",
   "metadata": {},
   "outputs": [],
   "source": [
    "import pandas as pd\n",
    "\n",
    "# = = = = = = = = = = = = = = =\n",
    "\n",
    "import requests\n",
    "\n",
    "import sys\n",
    "sys.path.append('../00.Tools')\n",
    "from crawler_configuration import get_header, get_proxy\n",
    "\n",
    "import time\n",
    "\n",
    "# = = = = = = = = = = = = = = =\n",
    "\n",
    "from bs4 import BeautifulSoup\n",
    "\n",
    "# = = = = = = = = = = = = = = =\n",
    "\n",
    "import re\n",
    "import json"
   ]
  },
  {
   "cell_type": "code",
   "execution_count": 2,
   "id": "1d4a7fcd-5ad2-47fe-bd46-23075ebdd68c",
   "metadata": {},
   "outputs": [
    {
     "data": {
      "text/plain": [
       "'LXnMWcYQhipLAS7rImEzmZ3CkrU033FMha9cwVSngG4vbufTsAOCQQ=='"
      ]
     },
     "execution_count": 2,
     "metadata": {},
     "output_type": "execute_result"
    }
   ],
   "source": [
    "with open('./api.txt', 'r') as api_txt:\n",
    "    api = api_txt.read()\n",
    "\n",
    "api"
   ]
  },
  {
   "cell_type": "code",
   "execution_count": 3,
   "id": "5d22fc26-a390-442a-bfe3-4d409c33f1e7",
   "metadata": {
    "scrolled": true
   },
   "outputs": [
    {
     "name": "stdout",
     "output_type": "stream",
     "text": [
      "总数量：1\n",
      "\n"
     ]
    },
    {
     "data": {
      "text/html": [
       "<div>\n",
       "<style scoped>\n",
       "    .dataframe tbody tr th:only-of-type {\n",
       "        vertical-align: middle;\n",
       "    }\n",
       "\n",
       "    .dataframe tbody tr th {\n",
       "        vertical-align: top;\n",
       "    }\n",
       "\n",
       "    .dataframe thead th {\n",
       "        text-align: right;\n",
       "    }\n",
       "</style>\n",
       "<table border=\"1\" class=\"dataframe\">\n",
       "  <thead>\n",
       "    <tr style=\"text-align: right;\">\n",
       "      <th></th>\n",
       "      <th>Url</th>\n",
       "      <th>[Product] No</th>\n",
       "      <th>[Product] Url</th>\n",
       "      <th>Unnamed: 3</th>\n",
       "    </tr>\n",
       "  </thead>\n",
       "  <tbody>\n",
       "    <tr>\n",
       "      <th>0</th>\n",
       "      <td>https://automechanika-shanghai.hk.messefrankfu...</td>\n",
       "      <td>2</td>\n",
       "      <td>https://automechanika-shanghai.hk.messefrankfu...</td>\n",
       "      <td></td>\n",
       "    </tr>\n",
       "  </tbody>\n",
       "</table>\n",
       "</div>"
      ],
      "text/plain": [
       "                                                 Url  [Product] No  \\\n",
       "0  https://automechanika-shanghai.hk.messefrankfu...             2   \n",
       "\n",
       "                                       [Product] Url Unnamed: 3  \n",
       "0  https://automechanika-shanghai.hk.messefrankfu...             "
      ]
     },
     "execution_count": 3,
     "metadata": {},
     "output_type": "execute_result"
    }
   ],
   "source": [
    "list_dict_correct, list_series_error, df_input = [], [], pd.read_excel('./file/2.product_url.xlsx',\n",
    "                                                                       header=0,\n",
    "                                                                       dtype=str).fillna('')\n",
    "\n",
    "df_input['[Product] No'] = ['' if product_no == '' else int(product_no) for product_no in df_input['[Product] No'].tolist()]\n",
    "\n",
    "count_remain = len(df_input)\n",
    "\n",
    "print(f'总数量：{count_remain}')\n",
    "print()\n",
    "df_input"
   ]
  },
  {
   "cell_type": "code",
   "execution_count": 4,
   "id": "5878a9f0-d639-4123-b6e0-bc564f72c2d6",
   "metadata": {},
   "outputs": [
    {
     "data": {
      "text/plain": [
       "(False,\n",
       " 0,\n",
       " Url              https://automechanika-shanghai.hk.messefrankfu...\n",
       " [Product] No                                                     2\n",
       " [Product] Url    https://automechanika-shanghai.hk.messefrankfu...\n",
       " Unnamed: 3                                                        \n",
       " Name: 0, dtype: object)"
      ]
     },
     "execution_count": 4,
     "metadata": {},
     "output_type": "execute_result"
    }
   ],
   "source": [
    "crawler_status, (crawler_index, crawler_series) = False, next(df_input.iterrows())\n",
    "\n",
    "crawler_status, crawler_index, crawler_series"
   ]
  },
  {
   "cell_type": "code",
   "execution_count": 5,
   "id": "77db815c-731d-4aad-8ff9-b81fc4261a39",
   "metadata": {},
   "outputs": [
    {
     "data": {
      "text/plain": [
       "'https://automechanika-shanghai.hk.messefrankfurt.com/shanghai/zh-cn/exhibitor-search.detail.html/yongkang-mijia-imp--exp-coltd/mf_2_a4wc0a03divo_4061554_10000100202401.html'"
      ]
     },
     "execution_count": 5,
     "metadata": {},
     "output_type": "execute_result"
    }
   ],
   "source": [
    "crawler_series['[Product] Url'] = '' if not crawler_series['[Product] Url'] else crawler_series['[Product] Url']\n",
    "\n",
    "crawler_series['[Product] Url']"
   ]
  },
  {
   "cell_type": "code",
   "execution_count": 6,
   "id": "4cf3d825-4b47-4d74-b888-1537514478ef",
   "metadata": {},
   "outputs": [
    {
     "data": {
      "text/plain": [
       "False"
      ]
     },
     "execution_count": 6,
     "metadata": {},
     "output_type": "execute_result"
    }
   ],
   "source": [
    "crawler_series['[Product] Url'] == ''"
   ]
  },
  {
   "cell_type": "code",
   "execution_count": 7,
   "id": "ad99bc86-6e80-4fcf-8200-736dc5101097",
   "metadata": {
    "scrolled": true
   },
   "outputs": [
    {
     "name": "stdout",
     "output_type": "stream",
     "text": [
      "1\n",
      "2\n",
      "3\n",
      "4\n",
      "5\n",
      "6\n",
      "7\n",
      "8\n",
      "9\n",
      "10\n"
     ]
    },
    {
     "data": {
      "text/plain": [
       "{'success': False,\n",
       " 'fieldErrors': [],\n",
       " 'systemErrors': [{'system': 'FIND',\n",
       "   'statusCode': 400,\n",
       "   'description': 'FIND error: null',\n",
       "   'url': 'https://api.main.messefrankfurt.com/service/find/mpm-api/v3/query/product/zh-CN/yongkang-mijia-imp--exp-coltd/mf_2_a4wc0a03divo_4061554_10000100202401/AUTOMECHANIKASHANGHAI/details'}],\n",
       " 'message': None,\n",
       " 'result': None}"
      ]
     },
     "execution_count": 7,
     "metadata": {},
     "output_type": "execute_result"
    }
   ],
   "source": [
    "count_retry = 0\n",
    "while True:\n",
    "    count_retry += 1\n",
    "    print(count_retry)\n",
    "    try:\n",
    "        url_request, url_check = f'''https://api.messefrankfurt.com/service/esb_api/exhibitor-service/api/2.1/public/product/zh-CN/{crawler_series['[Product] Url'].removeprefix('https://automechanika-shanghai.hk.messefrankfurt.com/shanghai/zh-cn/exhibitor-search.detail.html/').removesuffix('.html')}/AUTOMECHANIKASHANGHAI/details''', crawler_series['[Product] Url']\n",
    "\n",
    "        resp = requests.get(url_request,\n",
    "                            headers=get_header(**{'Apikey': api}),\n",
    "                            proxies=get_proxy(),\n",
    "                            timeout=(5, 15))\n",
    "\n",
    "        if resp.status_code == 401 and dict_['status'] == 401 and dict_['message'].strip() == 'API GW: Unauthorized':\n",
    "            print(f'fuck api {api}')\n",
    "            time.sleep(3)\n",
    "            with open('./api.txt', 'r') as api_txt:\n",
    "                api = api_txt.read()\n",
    "        elif resp.status_code == 200:\n",
    "            dict_ = resp.json()\n",
    "\n",
    "            if dict_['success'] == True:\n",
    "                break\n",
    "    except KeyboardInterrupt:\n",
    "        break\n",
    "    except:\n",
    "        time.sleep(3)\n",
    "        continue\n",
    "\n",
    "dict_"
   ]
  },
  {
   "cell_type": "code",
   "execution_count": 8,
   "id": "27c038a9-a55b-4ad5-8eea-4f66bd12a392",
   "metadata": {},
   "outputs": [
    {
     "name": "stderr",
     "output_type": "stream",
     "text": [
      "Exception ignored in: <bound method IPythonKernel._clean_thread_parent_frames of <ipykernel.ipkernel.IPythonKernel object at 0x1083e3f80>>\n",
      "Traceback (most recent call last):\n",
      "  File \"/Users/hzm/Documents/venv/lib/python3.12/site-packages/ipykernel/ipkernel.py\", line 775, in _clean_thread_parent_frames\n",
      "    def _clean_thread_parent_frames(\n",
      "\n",
      "KeyboardInterrupt: \n"
     ]
    },
    {
     "ename": "TypeError",
     "evalue": "'NoneType' object is not subscriptable",
     "output_type": "error",
     "traceback": [
      "\u001b[0;31m---------------------------------------------------------------------------\u001b[0m",
      "\u001b[0;31mTypeError\u001b[0m                                 Traceback (most recent call last)",
      "Cell \u001b[0;32mIn[8], line 1\u001b[0m\n\u001b[0;32m----> 1\u001b[0m dict_src, list_src \u001b[38;5;241m=\u001b[39m {}, \u001b[43mdict_\u001b[49m\u001b[43m[\u001b[49m\u001b[38;5;124;43m'\u001b[39;49m\u001b[38;5;124;43mresult\u001b[39;49m\u001b[38;5;124;43m'\u001b[39;49m\u001b[43m]\u001b[49m\u001b[43m[\u001b[49m\u001b[38;5;124;43m'\u001b[39;49m\u001b[38;5;124;43mdescription\u001b[39;49m\u001b[38;5;124;43m'\u001b[39;49m\u001b[43m]\u001b[49m[\u001b[38;5;124m'\u001b[39m\u001b[38;5;124mimages\u001b[39m\u001b[38;5;124m'\u001b[39m]\n\u001b[1;32m      2\u001b[0m \u001b[38;5;28;01mfor\u001b[39;00m i, src \u001b[38;5;129;01min\u001b[39;00m \u001b[38;5;28menumerate\u001b[39m(list_src):\n\u001b[1;32m      3\u001b[0m     dict_src[\u001b[38;5;28mstr\u001b[39m(i)] \u001b[38;5;241m=\u001b[39m \u001b[38;5;124mf\u001b[39m\u001b[38;5;124m'''\u001b[39m\u001b[38;5;124mhttps://exhibitorsearch.hk.messefrankfurt.com/images/large/\u001b[39m\u001b[38;5;132;01m{\u001b[39;00msrc\u001b[38;5;241m.\u001b[39mstrip()\u001b[38;5;132;01m}\u001b[39;00m\u001b[38;5;124m'''\u001b[39m\n",
      "\u001b[0;31mTypeError\u001b[0m: 'NoneType' object is not subscriptable"
     ]
    }
   ],
   "source": [
    "dict_src, list_src = {}, dict_['result']['description']['images']\n",
    "for i, src in enumerate(list_src):\n",
    "    dict_src[str(i)] = f'''https://exhibitorsearch.hk.messefrankfurt.com/images/large/{src.strip()}'''\n",
    "\n",
    "dict_src"
   ]
  },
  {
   "cell_type": "code",
   "execution_count": null,
   "id": "1a8233d5-0b28-4812-86e4-7f1fa5d21a50",
   "metadata": {},
   "outputs": [],
   "source": [
    "if dict_['result']['description']['text']:\n",
    "    soup = BeautifulSoup(dict_['result']['description']['text'], 'lxml')\n",
    "    description = re.sub(r'\\t+', '\\n', soup.get_text()).strip()\n",
    "else:\n",
    "    description = ''\n",
    "\n",
    "print(description)"
   ]
  },
  {
   "cell_type": "code",
   "execution_count": null,
   "id": "99f49dd4-107b-4d6f-9ed6-1db0c1be6093",
   "metadata": {},
   "outputs": [],
   "source": [
    "list_dict_correct.append({'Url': crawler_series['Url'],\n",
    "                          '[Product] No': crawler_series['[Product] No'],\n",
    "                          '[Product] Name': dict_['result']['name'].strip(),\n",
    "                          '[Product] Description': description,\n",
    "                          '[Product] Picture': '',\n",
    "                          '[Product] Url': crawler_series['[Product] Url'],\n",
    "                          '[Product] Json_Src': json.dumps(dict_src)})\n",
    "\n",
    "list_dict_correct"
   ]
  },
  {
   "cell_type": "code",
   "execution_count": null,
   "id": "fc4ed7f6-ed4f-431c-b944-b1690309cdae",
   "metadata": {},
   "outputs": [],
   "source": [
    "crawler_status = True\n",
    "\n",
    "crawler_status"
   ]
  },
  {
   "cell_type": "code",
   "execution_count": null,
   "id": "65c745d1-446e-46c5-9dec-819c9f7944d3",
   "metadata": {
    "scrolled": true
   },
   "outputs": [],
   "source": [
    "crawler_series['Request_Url'], crawler_series['Check_Url'] = url_request, url_check\n",
    "\n",
    "list_series_error.append(crawler_series)\n",
    "\n",
    "list_series_error"
   ]
  },
  {
   "cell_type": "code",
   "execution_count": null,
   "id": "17a796b2-35c8-4c10-960e-6111fec4b993",
   "metadata": {},
   "outputs": [],
   "source": [
    "if list_dict_correct:\n",
    "    df_correct = pd.DataFrame(list_dict_correct).sort_values(by=['Url', '[Product] No'],\n",
    "                                                             ascending=[True, True],\n",
    "                                                             ignore_index=True)\n",
    "    df_correct.to_excel('./test_product.xlsx', index=False)\n",
    "\n",
    "df_correct"
   ]
  },
  {
   "cell_type": "code",
   "execution_count": null,
   "id": "b21c3fac-203a-4c6e-b7ae-b0ac1a112665",
   "metadata": {},
   "outputs": [],
   "source": [
    "if list_series_error:\n",
    "    df_error = pd.DataFrame(list_series_error).sort_values(by=['Url', '[Product] No'],\n",
    "                                                           ascending=[True, True],\n",
    "                                                           ignore_index=True)\n",
    "    df_error.to_excel('./test_product_error.xlsx', index=False)\n",
    "\n",
    "df_error"
   ]
  },
  {
   "cell_type": "code",
   "execution_count": null,
   "id": "ba5d9f77-7464-4ad5-a42b-1fa0c0505832",
   "metadata": {},
   "outputs": [],
   "source": []
  }
 ],
 "metadata": {
  "kernelspec": {
   "display_name": "Python 3 (ipykernel)",
   "language": "python",
   "name": "python3"
  },
  "language_info": {
   "codemirror_mode": {
    "name": "ipython",
    "version": 3
   },
   "file_extension": ".py",
   "mimetype": "text/x-python",
   "name": "python",
   "nbconvert_exporter": "python",
   "pygments_lexer": "ipython3",
   "version": "3.12.7"
  }
 },
 "nbformat": 4,
 "nbformat_minor": 5
}
