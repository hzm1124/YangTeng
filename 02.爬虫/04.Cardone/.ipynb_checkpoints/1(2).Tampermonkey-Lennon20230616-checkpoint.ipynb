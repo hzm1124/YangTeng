{
 "cells": [
  {
   "cell_type": "code",
   "execution_count": 1,
   "id": "14ca4672",
   "metadata": {},
   "outputs": [],
   "source": [
    "import os"
   ]
  },
  {
   "cell_type": "code",
   "execution_count": 2,
   "id": "a3369d1a",
   "metadata": {},
   "outputs": [
    {
     "data": {
      "text/plain": [
       "15"
      ]
     },
     "execution_count": 2,
     "metadata": {},
     "output_type": "execute_result"
    }
   ],
   "source": [
    "list_file = list(os.walk('./menu'))[0][2]\n",
    "if '.DS_Store' in list_file:\n",
    "   list_file.remove('.DS_Store')\n",
    "\n",
    "len(list_file)"
   ]
  },
  {
   "cell_type": "code",
   "execution_count": 3,
   "id": "552c5c8c",
   "metadata": {},
   "outputs": [],
   "source": [
    "import pandas as pd"
   ]
  },
  {
   "cell_type": "code",
   "execution_count": 4,
   "id": "19a50da8",
   "metadata": {},
   "outputs": [
    {
     "data": {
      "text/html": [
       "<div>\n",
       "<style scoped>\n",
       "    .dataframe tbody tr th:only-of-type {\n",
       "        vertical-align: middle;\n",
       "    }\n",
       "\n",
       "    .dataframe tbody tr th {\n",
       "        vertical-align: top;\n",
       "    }\n",
       "\n",
       "    .dataframe thead th {\n",
       "        text-align: right;\n",
       "    }\n",
       "</style>\n",
       "<table border=\"1\" class=\"dataframe\">\n",
       "  <thead>\n",
       "    <tr style=\"text-align: right;\">\n",
       "      <th></th>\n",
       "      <th>Title</th>\n",
       "      <th>Url</th>\n",
       "    </tr>\n",
       "  </thead>\n",
       "  <tbody>\n",
       "  </tbody>\n",
       "</table>\n",
       "</div>"
      ],
      "text/plain": [
       "Empty DataFrame\n",
       "Columns: [Title, Url]\n",
       "Index: []"
      ]
     },
     "execution_count": 4,
     "metadata": {},
     "output_type": "execute_result"
    }
   ],
   "source": [
    "df = pd.DataFrame(columns=['Title', 'Url'])\n",
    "\n",
    "df"
   ]
  },
  {
   "cell_type": "code",
   "execution_count": 5,
   "id": "000d53d7",
   "metadata": {},
   "outputs": [],
   "source": [
    "import json"
   ]
  },
  {
   "cell_type": "code",
   "execution_count": 6,
   "id": "1d3df716",
   "metadata": {},
   "outputs": [
    {
     "name": "stdout",
     "output_type": "stream",
     "text": [
      "www.cardone.com_motors_wiper-and-washer_windshield-wiper-motor__limit=96&page=14.txt\n",
      "www.cardone.com_motors_wiper-and-washer_windshield-wiper-motor__limit=96&page=15.txt\n",
      "www.cardone.com_motors_wiper-and-washer_windshield-wiper-motor__limit=96&page=12.txt\n",
      "www.cardone.com_motors_wiper-and-washer_windshield-wiper-motor__limit=96&sort=alphaasc.txt\n",
      "www.cardone.com_motors_wiper-and-washer_windshield-wiper-motor__limit=96&page=13.txt\n",
      "www.cardone.com_motors_wiper-and-washer_windshield-wiper-motor__limit=96&page=11.txt\n",
      "www.cardone.com_motors_wiper-and-washer_windshield-wiper-motor__limit=96&page=10.txt\n",
      "www.cardone.com_motors_wiper-and-washer_windshield-wiper-motor__limit=96&page=8.txt\n",
      "www.cardone.com_motors_wiper-and-washer_windshield-wiper-motor__limit=96&page=9.txt\n",
      "www.cardone.com_motors_wiper-and-washer_windshield-wiper-motor__limit=96&page=2.txt\n",
      "www.cardone.com_motors_wiper-and-washer_windshield-wiper-motor__limit=96&page=3.txt\n",
      "www.cardone.com_motors_wiper-and-washer_windshield-wiper-motor__limit=96&page=7.txt\n",
      "www.cardone.com_motors_wiper-and-washer_windshield-wiper-motor__limit=96&page=6.txt\n",
      "www.cardone.com_motors_wiper-and-washer_windshield-wiper-motor__limit=96&page=4.txt\n",
      "www.cardone.com_motors_wiper-and-washer_windshield-wiper-motor__limit=96&page=5.txt\n"
     ]
    }
   ],
   "source": [
    "for file in list_file:\n",
    "    print(file)\n",
    "    with open('./menu/' + file) as f:\n",
    "        list_part = f.read()[1:-1].split('},{')\n",
    "        for i in range(len(list_part)):\n",
    "            if i == 0:\n",
    "                part = json.loads(list_part[i] + '}')\n",
    "            elif i == len(list_part) - 1:\n",
    "                part = json.loads('{' + list_part[i])\n",
    "            else:\n",
    "                part = json.loads('{' + list_part[i] + '}')\n",
    "                \n",
    "            df_temp = pd.DataFrame([{'Title': part['Title'],\n",
    "                                     'Url': part['Url']}])\n",
    "            df = pd.concat([df, df_temp], ignore_index=True)"
   ]
  },
  {
   "cell_type": "code",
   "execution_count": 7,
   "id": "e7c8e52b",
   "metadata": {},
   "outputs": [
    {
     "data": {
      "text/html": [
       "<div>\n",
       "<style scoped>\n",
       "    .dataframe tbody tr th:only-of-type {\n",
       "        vertical-align: middle;\n",
       "    }\n",
       "\n",
       "    .dataframe tbody tr th {\n",
       "        vertical-align: top;\n",
       "    }\n",
       "\n",
       "    .dataframe thead th {\n",
       "        text-align: right;\n",
       "    }\n",
       "</style>\n",
       "<table border=\"1\" class=\"dataframe\">\n",
       "  <thead>\n",
       "    <tr style=\"text-align: right;\">\n",
       "      <th></th>\n",
       "      <th>Title</th>\n",
       "      <th>Url</th>\n",
       "    </tr>\n",
       "  </thead>\n",
       "  <tbody>\n",
       "    <tr>\n",
       "      <th>0</th>\n",
       "      <td>Windshield Wiper Motor - 85-299</td>\n",
       "      <td>https://www.cardone.com/product/windshield-wip...</td>\n",
       "    </tr>\n",
       "    <tr>\n",
       "      <th>1</th>\n",
       "      <td>Windshield Wiper Motor - 85-3000</td>\n",
       "      <td>https://www.cardone.com/product/windshield-wip...</td>\n",
       "    </tr>\n",
       "    <tr>\n",
       "      <th>2</th>\n",
       "      <td>Windshield Wiper Motor - 85-3001</td>\n",
       "      <td>https://www.cardone.com/product/windshield-wip...</td>\n",
       "    </tr>\n",
       "    <tr>\n",
       "      <th>3</th>\n",
       "      <td>Windshield Wiper Motor - 85-3002</td>\n",
       "      <td>https://www.cardone.com/product/windshield-wip...</td>\n",
       "    </tr>\n",
       "    <tr>\n",
       "      <th>4</th>\n",
       "      <td>Windshield Wiper Motor - 85-3009</td>\n",
       "      <td>https://www.cardone.com/product/windshield-wip...</td>\n",
       "    </tr>\n",
       "    <tr>\n",
       "      <th>...</th>\n",
       "      <td>...</td>\n",
       "      <td>...</td>\n",
       "    </tr>\n",
       "    <tr>\n",
       "      <th>1396</th>\n",
       "      <td>Windshield Wiper Motor - 43-1482</td>\n",
       "      <td>https://www.cardone.com/product/windshield-wip...</td>\n",
       "    </tr>\n",
       "    <tr>\n",
       "      <th>1397</th>\n",
       "      <td>Windshield Wiper Motor - 43-1483</td>\n",
       "      <td>https://www.cardone.com/product/windshield-wip...</td>\n",
       "    </tr>\n",
       "    <tr>\n",
       "      <th>1398</th>\n",
       "      <td>Windshield Wiper Motor - 43-1484</td>\n",
       "      <td>https://www.cardone.com/product/windshield-wip...</td>\n",
       "    </tr>\n",
       "    <tr>\n",
       "      <th>1399</th>\n",
       "      <td>Windshield Wiper Motor - 43-1485</td>\n",
       "      <td>https://www.cardone.com/product/windshield-wip...</td>\n",
       "    </tr>\n",
       "    <tr>\n",
       "      <th>1400</th>\n",
       "      <td>Windshield Wiper Motor - 43-1486</td>\n",
       "      <td>https://www.cardone.com/product/windshield-wip...</td>\n",
       "    </tr>\n",
       "  </tbody>\n",
       "</table>\n",
       "<p>1401 rows × 2 columns</p>\n",
       "</div>"
      ],
      "text/plain": [
       "                                 Title  \\\n",
       "0      Windshield Wiper Motor - 85-299   \n",
       "1     Windshield Wiper Motor - 85-3000   \n",
       "2     Windshield Wiper Motor - 85-3001   \n",
       "3     Windshield Wiper Motor - 85-3002   \n",
       "4     Windshield Wiper Motor - 85-3009   \n",
       "...                                ...   \n",
       "1396  Windshield Wiper Motor - 43-1482   \n",
       "1397  Windshield Wiper Motor - 43-1483   \n",
       "1398  Windshield Wiper Motor - 43-1484   \n",
       "1399  Windshield Wiper Motor - 43-1485   \n",
       "1400  Windshield Wiper Motor - 43-1486   \n",
       "\n",
       "                                                    Url  \n",
       "0     https://www.cardone.com/product/windshield-wip...  \n",
       "1     https://www.cardone.com/product/windshield-wip...  \n",
       "2     https://www.cardone.com/product/windshield-wip...  \n",
       "3     https://www.cardone.com/product/windshield-wip...  \n",
       "4     https://www.cardone.com/product/windshield-wip...  \n",
       "...                                                 ...  \n",
       "1396  https://www.cardone.com/product/windshield-wip...  \n",
       "1397  https://www.cardone.com/product/windshield-wip...  \n",
       "1398  https://www.cardone.com/product/windshield-wip...  \n",
       "1399  https://www.cardone.com/product/windshield-wip...  \n",
       "1400  https://www.cardone.com/product/windshield-wip...  \n",
       "\n",
       "[1401 rows x 2 columns]"
      ]
     },
     "execution_count": 7,
     "metadata": {},
     "output_type": "execute_result"
    }
   ],
   "source": [
    "df.to_excel('./menu.xlsx', index=False)\n",
    "\n",
    "df"
   ]
  },
  {
   "cell_type": "code",
   "execution_count": null,
   "id": "f1b946e9",
   "metadata": {},
   "outputs": [],
   "source": []
  }
 ],
 "metadata": {
  "kernelspec": {
   "display_name": "Python 3 (ipykernel)",
   "language": "python",
   "name": "python3"
  },
  "language_info": {
   "codemirror_mode": {
    "name": "ipython",
    "version": 3
   },
   "file_extension": ".py",
   "mimetype": "text/x-python",
   "name": "python",
   "nbconvert_exporter": "python",
   "pygments_lexer": "ipython3",
   "version": "3.11.3"
  }
 },
 "nbformat": 4,
 "nbformat_minor": 5
}
