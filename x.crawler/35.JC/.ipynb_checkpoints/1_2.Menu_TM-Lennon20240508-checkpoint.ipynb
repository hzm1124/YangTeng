{
 "cells": [
  {
   "cell_type": "code",
   "execution_count": 1,
   "id": "922cf64a",
   "metadata": {},
   "outputs": [],
   "source": [
    "import os"
   ]
  },
  {
   "cell_type": "code",
   "execution_count": 2,
   "id": "8d082990",
   "metadata": {},
   "outputs": [
    {
     "data": {
      "text/plain": [
       "33"
      ]
     },
     "execution_count": 2,
     "metadata": {},
     "output_type": "execute_result"
    }
   ],
   "source": [
    "list_file = list(os.walk('./menu'))[0][2]\n",
    "if '.DS_Store' in list_file:\n",
    "    list_file.remove('.DS_Store')\n",
    "if '0.null.txt' in list_file:\n",
    "    list_file.remove('0.null.txt')\n",
    "    \n",
    "list_file.sort()\n",
    "    \n",
    "len(list_file)"
   ]
  },
  {
   "cell_type": "code",
   "execution_count": 3,
   "id": "314f4cab",
   "metadata": {},
   "outputs": [],
   "source": [
    "import pandas as pd"
   ]
  },
  {
   "cell_type": "code",
   "execution_count": 4,
   "id": "a21ee82d",
   "metadata": {},
   "outputs": [
    {
     "data": {
      "text/html": [
       "<div>\n",
       "<style scoped>\n",
       "    .dataframe tbody tr th:only-of-type {\n",
       "        vertical-align: middle;\n",
       "    }\n",
       "\n",
       "    .dataframe tbody tr th {\n",
       "        vertical-align: top;\n",
       "    }\n",
       "\n",
       "    .dataframe thead th {\n",
       "        text-align: right;\n",
       "    }\n",
       "</style>\n",
       "<table border=\"1\" class=\"dataframe\">\n",
       "  <thead>\n",
       "    <tr style=\"text-align: right;\">\n",
       "      <th></th>\n",
       "    </tr>\n",
       "  </thead>\n",
       "  <tbody>\n",
       "  </tbody>\n",
       "</table>\n",
       "</div>"
      ],
      "text/plain": [
       "Empty DataFrame\n",
       "Columns: []\n",
       "Index: []"
      ]
     },
     "execution_count": 4,
     "metadata": {},
     "output_type": "execute_result"
    }
   ],
   "source": [
    "df = pd.DataFrame()\n",
    "\n",
    "df"
   ]
  },
  {
   "cell_type": "code",
   "execution_count": 5,
   "id": "b43efd69",
   "metadata": {},
   "outputs": [],
   "source": [
    "from tqdm import tqdm\n",
    "import json"
   ]
  },
  {
   "cell_type": "code",
   "execution_count": 6,
   "id": "fb3abd9f",
   "metadata": {},
   "outputs": [
    {
     "name": "stderr",
     "output_type": "stream",
     "text": [
      "Progress: 100%|████████████████████████████| 33/33 [00:00<00:00, 1506.72it/s]\n"
     ]
    },
    {
     "data": {
      "text/html": [
       "<div>\n",
       "<style scoped>\n",
       "    .dataframe tbody tr th:only-of-type {\n",
       "        vertical-align: middle;\n",
       "    }\n",
       "\n",
       "    .dataframe tbody tr th {\n",
       "        vertical-align: top;\n",
       "    }\n",
       "\n",
       "    .dataframe thead th {\n",
       "        text-align: right;\n",
       "    }\n",
       "</style>\n",
       "<table border=\"1\" class=\"dataframe\">\n",
       "  <thead>\n",
       "    <tr style=\"text-align: right;\">\n",
       "      <th></th>\n",
       "      <th>Page</th>\n",
       "      <th>No.</th>\n",
       "      <th>Url</th>\n",
       "    </tr>\n",
       "  </thead>\n",
       "  <tbody>\n",
       "    <tr>\n",
       "      <th>0</th>\n",
       "      <td>1</td>\n",
       "      <td>1</td>\n",
       "      <td>https://www.jcsportlinepro.com/ee-zdh7024-pro-...</td>\n",
       "    </tr>\n",
       "    <tr>\n",
       "      <th>1</th>\n",
       "      <td>1</td>\n",
       "      <td>2</td>\n",
       "      <td>https://www.jcsportlinepro.com/ee-wtm7023-my-d...</td>\n",
       "    </tr>\n",
       "    <tr>\n",
       "      <th>2</th>\n",
       "      <td>1</td>\n",
       "      <td>3</td>\n",
       "      <td>https://www.jcsportlinepro.com/ml-xy022-carbon...</td>\n",
       "    </tr>\n",
       "    <tr>\n",
       "      <th>3</th>\n",
       "      <td>1</td>\n",
       "      <td>4</td>\n",
       "      <td>https://www.jcsportlinepro.com/ml-hax111-pro-t...</td>\n",
       "    </tr>\n",
       "    <tr>\n",
       "      <th>4</th>\n",
       "      <td>1</td>\n",
       "      <td>5</td>\n",
       "      <td>https://www.jcsportlinepro.com/ml-yww169-carbo...</td>\n",
       "    </tr>\n",
       "    <tr>\n",
       "      <th>...</th>\n",
       "      <td>...</td>\n",
       "      <td>...</td>\n",
       "      <td>...</td>\n",
       "    </tr>\n",
       "    <tr>\n",
       "      <th>637</th>\n",
       "      <td>32</td>\n",
       "      <td>638</td>\n",
       "      <td>https://www.jcsportlinepro.com/ml-qmn005-carbo...</td>\n",
       "    </tr>\n",
       "    <tr>\n",
       "      <th>638</th>\n",
       "      <td>32</td>\n",
       "      <td>639</td>\n",
       "      <td>https://www.jcsportlinepro.com/jc-hly349-for-2...</td>\n",
       "    </tr>\n",
       "    <tr>\n",
       "      <th>639</th>\n",
       "      <td>32</td>\n",
       "      <td>640</td>\n",
       "      <td>https://www.jcsportlinepro.com/ml-xm275-16-17-...</td>\n",
       "    </tr>\n",
       "    <tr>\n",
       "      <th>640</th>\n",
       "      <td>33</td>\n",
       "      <td>641</td>\n",
       "      <td>https://www.jcsportlinepro.com/ml-xm122-11-13-...</td>\n",
       "    </tr>\n",
       "    <tr>\n",
       "      <th>641</th>\n",
       "      <td>33</td>\n",
       "      <td>642</td>\n",
       "      <td>https://www.jcsportlinepro.com/ml-xm039-2015up...</td>\n",
       "    </tr>\n",
       "  </tbody>\n",
       "</table>\n",
       "<p>642 rows × 3 columns</p>\n",
       "</div>"
      ],
      "text/plain": [
       "     Page  No.                                                Url\n",
       "0       1    1  https://www.jcsportlinepro.com/ee-zdh7024-pro-...\n",
       "1       1    2  https://www.jcsportlinepro.com/ee-wtm7023-my-d...\n",
       "2       1    3  https://www.jcsportlinepro.com/ml-xy022-carbon...\n",
       "3       1    4  https://www.jcsportlinepro.com/ml-hax111-pro-t...\n",
       "4       1    5  https://www.jcsportlinepro.com/ml-yww169-carbo...\n",
       "..    ...  ...                                                ...\n",
       "637    32  638  https://www.jcsportlinepro.com/ml-qmn005-carbo...\n",
       "638    32  639  https://www.jcsportlinepro.com/jc-hly349-for-2...\n",
       "639    32  640  https://www.jcsportlinepro.com/ml-xm275-16-17-...\n",
       "640    33  641  https://www.jcsportlinepro.com/ml-xm122-11-13-...\n",
       "641    33  642  https://www.jcsportlinepro.com/ml-xm039-2015up...\n",
       "\n",
       "[642 rows x 3 columns]"
      ]
     },
     "execution_count": 6,
     "metadata": {},
     "output_type": "execute_result"
    }
   ],
   "source": [
    "for file in tqdm(list_file, desc='Progress', ncols=77):\n",
    "    with open('./menu/' + file, 'r', encoding='UTF-8') as f:\n",
    "        df = pd.concat([df, pd.DataFrame(json.loads(f.read()))], ignore_index=False).fillna('')\n",
    "        \n",
    "df = df[['Page', 'No.', 'Url']]\n",
    "df = df.drop_duplicates(ignore_index=True)\n",
    "df = df.sort_values(by=['Page', 'No.'], ascending=[True, True]).reset_index(drop=True)\n",
    "df['No.'] = [i+1 for i in range(len(df))]\n",
    "df.to_excel('./menu.xlsx', index=False)\n",
    "\n",
    "df"
   ]
  },
  {
   "cell_type": "code",
   "execution_count": null,
   "id": "6a1ed2b7",
   "metadata": {},
   "outputs": [],
   "source": []
  }
 ],
 "metadata": {
  "kernelspec": {
   "display_name": "Python 3 (ipykernel)",
   "language": "python",
   "name": "python3"
  },
  "language_info": {
   "codemirror_mode": {
    "name": "ipython",
    "version": 3
   },
   "file_extension": ".py",
   "mimetype": "text/x-python",
   "name": "python",
   "nbconvert_exporter": "python",
   "pygments_lexer": "ipython3",
   "version": "3.11.3"
  }
 },
 "nbformat": 4,
 "nbformat_minor": 5
}
