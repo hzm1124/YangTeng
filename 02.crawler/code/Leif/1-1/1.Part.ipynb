{
 "cells": [
  {
   "cell_type": "code",
   "execution_count": 1,
   "id": "210fc7fd-ccc3-4b48-90bb-57bf55f7b240",
   "metadata": {},
   "outputs": [
    {
     "data": {
      "text/plain": [
       "{'no': 1,\n",
       " 'reference': 1,\n",
       " 'manufacturer': 'STANDARD MOTOR PRODUCTS',\n",
       " 'part_number': 'UF575',\n",
       " 'type_code': '7060'}"
      ]
     },
     "execution_count": 1,
     "metadata": {},
     "output_type": "execute_result"
    }
   ],
   "source": [
    "dict_ = {'no': 1,\n",
    "         'reference': 1,\n",
    "         'manufacturer': 'STANDARD MOTOR PRODUCTS',\n",
    "         'part_number':  'UF575',\n",
    "         'type_code': '7060'}\n",
    "\n",
    "dict_"
   ]
  },
  {
   "cell_type": "code",
   "execution_count": 2,
   "id": "08e75ee8-1864-43c2-909a-5b7bdad14d53",
   "metadata": {},
   "outputs": [
    {
     "data": {
      "text/plain": [
       "{'no': 1,\n",
       " 'reference': 1,\n",
       " 'manufacturer': 'STANDARD MOTOR PRODUCTS',\n",
       " 'part_number': 'UF575',\n",
       " 'type_code': '7060',\n",
       " 'url': 'https://www.rockauto.com/en/parts/STANDARD MOTOR PRODUCTS,UF575,Leif,7060'}"
      ]
     },
     "execution_count": 2,
     "metadata": {},
     "output_type": "execute_result"
    }
   ],
   "source": [
    "dict_['manufacturer'] = dict_['manufacturer'].strip()\n",
    "dict_['part_number'] = dict_['part_number'].replace('-', '').replace(' ', '')\n",
    "dict_['type_code'] = dict_['type_code'].strip()\n",
    "dict_['url'] = f'''https://www.rockauto.com/en/parts/{dict_['manufacturer']},{dict_['part_number']},Leif,{dict_['type_code']}'''\n",
    "\n",
    "dict_"
   ]
  },
  {
   "cell_type": "code",
   "execution_count": 3,
   "id": "ab3e7ec8-de2e-4d5b-aa00-33ace824a2a5",
   "metadata": {},
   "outputs": [],
   "source": [
    "import requests\n",
    "\n",
    "import sys\n",
    "sys.path.append('../../00.Tools')\n",
    "from configuration import generate_header, generate_proxy"
   ]
  },
  {
   "cell_type": "code",
   "execution_count": 4,
   "id": "5ff69cee-705b-42c1-b673-8f56fdf6761b",
   "metadata": {},
   "outputs": [
    {
     "data": {
      "text/plain": [
       "200"
      ]
     },
     "execution_count": 4,
     "metadata": {},
     "output_type": "execute_result"
    }
   ],
   "source": [
    "data = {'dopartsearch': '1',\n",
    "        'partsearch[partnum][partsearch_007]': dict_['part_number'],\n",
    "        'partsearch[manufacturer][partsearch_007]': dict_['manufacturer'],\n",
    "        'partsearch[parttype][partsearch_007]': dict_['type_code'],\n",
    "        'partsearch[do][partsearch_007]': '1',\n",
    "        'func': 'sendparttabsearch',\n",
    "        'api_json_request': '1'}\n",
    "response = requests.post('https://www.rockauto.com/catalog/catalogapi.php',\n",
    "                         data=data,\n",
    "                         headers=generate_header(),\n",
    "                         proxies=generate_proxy(),\n",
    "                         timeout=(10, 15),\n",
    "                         allow_redirects=False)\n",
    "\n",
    "response.status_code"
   ]
  },
  {
   "cell_type": "code",
   "execution_count": 5,
   "id": "20b06f7e-a664-4de0-8c3e-9d9f50d7e468",
   "metadata": {
    "scrolled": true
   },
   "outputs": [
    {
     "data": {
      "text/plain": [
       "{'searchnoderesults': '<div class=\"ranavnode\" id=\"nav[__GIP__1__]\"><input type=\"hidden\" autocomplete=\"off\" id=\"jsn[__GIP__1__]\" value=\"{&quot;groupindex&quot;:&quot;__GIP__1__&quot;,&quot;tab&quot;:&quot;partsearch&quot;,&quot;idepth&quot;:0,&quot;parttype&quot;:&quot;7060&quot;,&quot;catalogname&quot;:&quot;STANDARD MOTOR PRODUCTS&quot;,&quot;partnumber&quot;:&quot;UF575&quot;,&quot;nodetype&quot;:&quot;parttabsearch&quot;,&quot;expanded&quot;:true,&quot;loaded&quot;:true}\" /><input type=\"hidden\" autocomplete=\"off\" name=\"navnodeunique[partsearch-7060]\" id=\"navnodeunique[partsearch-7060]\" value=\"__GIP__1__\" /><div id=\"nav_o[__GIP__1__]\" class=\"ranavouter\"><div class=\"inner\"><table class=\"tbl\"  cellpadding=\"0\" cellspacing=\"0\"><tr><td class=\"niconspace nexpandedicon\" id=\"navicon[__GIP__1__]\"><a href=\"/en/parts/standard+motor+products,UF575,ignition+coil,7060\" onclick=\"cataloglite.LinkIntercept_ToggleNavNode(&quot;__GIP__1__&quot;); return false;\" tabindex=\"-1\"><img src=\"/Images/1pxtransparent.png\" alt=\"Toggle\"></a></td><td class=\"nlabel\" ><a class=\"navlabellink nvoffset nnormal\" href=\"/en/parts/standard+motor+products,UF575,ignition+coil,7060\" onclick=\"cataloglite.LinkIntercept_ToggleNavNode(&quot;__GIP__1__&quot;); return false;\" id=\"navhref[__GIP__1__]\">Search for Manufacturer=\\'STANDARD MOTOR PRODUCTS\\' and Part Type=\\'Ignition Coil\\' and Part Number=\\'UF575\\'</a></td></tr></table></div></div><div class=\"nchildren\" id=\"navchildren[__GIP__1__]\" ><div id=\"listings[__GIP__2__]\" class=\"listings-container\"><form method=\"post\" id=\"frmlistings[__GIP__2__]\" class=\"nobmp\" action=\"/en/partsearch/?mfr=STANDARD+MOTOR+PRODUCTS&parttype=7060&partnum=UF575\"><input type=\"hidden\" name=\"_nck\" value=\"8LVLUxTaILBT+tLxkg8+3Ag7/0bbOhvn7P3rkFbL80/ismhHyfCiO07pwNUCaIW3afbJMKR0uqi1pNnUlRgBN5CwkZnWFYwm7DtiVw8cl6t1DDIlw0OPK8L1xqUF2GhW3oASmn+5ViC4ZNjoo/t+J/lJzyaD0nZ2eRhPISnYAgOA/C0Pvx7hiC4/8hjludR4\"><div class=\"listing-container-border\"><input type=\"hidden\" autocomplete=\"off\" id=\"parentnode[__GIP__2__]\" value=\"__GIP__1__\" /><div><div style=\"padding-top: 1px; padding-left: .25em; padding-right: .25em;\"><div class=\"remove-for-print\" style=\"padding-top:5px;\"><div class=\"ib vtop\"><span style=\"padding-left: .5em;\" class=\"show-if-js\"><img onclick=\"cataloglite.NavNode_SimulateClick(&quot;__GIP__1__&quot;);\" style=\"vertical-align: top;\" class=\"mouseover\" src=\"/catalog/images/close.gif\" alt=\"Close\" title=\"Close\" /></span><span style=\"padding-left: .5em;\" class=\"show-if-js\"><a href=\"/en/printlistings.php?ni=__GIP__2__&title=Print Part Listings\" target=\"_blank\" rel=\"opener\" ><img style=\"vertical-align: top; border: none; height: 20px;\" class=\"mouseover\" src=\"/Images/mobile/printer.png\" alt=\"Print Part Listings\" title=\"Print Part Listings\" /></a></span><span style=\"padding-left: .5em;\" class=\"show-if-js\"><a href=\"/en/emailpagetofriend.php?nurl=%2Fen%2Fpartsearch%2F%3Fmfr%3DSTANDARD%2BMOTOR%2BPRODUCTS%26parttype%3D7060%26partnum%3DUF575\" target=\"_blank\" onclick=\"cataloglite.AddFiltersToEmailListingURL(&quot;\\\\/en\\\\/partsearch\\\\/?mfr=STANDARD+MOTOR+PRODUCTS&amp;parttype=7060&amp;partnum=UF575&quot;, &quot;__GIP__2__&quot;); return false;\"><img style=\"vertical-align: top; border: none; height: 14px;\" class=\"mouseover\" src=\"/Images/mobile/envelope.png\" alt=\"Send these listings to a friend\" title=\"Send these listings to a friend\" /></a></span><span style=\"padding-left: .5em;\" class=\"show-if-js\"><a href=\"/help/?page=2\" target=\"_blank\" style=\"text-decoration: none;\" title=\"How do I choose a part?\" alt=\"How do I choose a part?\">\\n                                            <img class=\"help_q_icon_16 vtop\" src=\"/Images/questionMark.png\" alt=\"Help\" />\\n                                            </a></span></div><span style=\"padding-left: .5em;\" class=\"span-filterinput\"><div class=\"ib\"><table class=\"tblz tbl-input-button-attached attached-filter-size\"><tr><td class=\"td-input\"><input type=\"text\" size=\"25\" value=\"\" name=\"filterinput\" class=\"filter-input\" id=\"filterinput[__GIP__2__]\" style=\"\" onclick=\"cataloglite.DisplayFilterBreakDown(&quot;__GIP__2__&quot;);\" onkeypress=\"return RA.InterceptEnter(event, function(){cataloglite.FilterListings(&quot;__GIP__2__&quot;);});\" onblur=\"cataloglite.FilterListings(&quot;__GIP__2__&quot;);\" autocomplete=\"off\" spellcheck=\"false\" autocorrect=\"off\" autocapitalize=\"off\" placeholder=\"Filter By Keyword(s)\" title=\"Filter listings below by entering words that you want to see. Use \\'-\\' before a word to find results that do NOT contain that word. Use OR between words or groups of words to see listings that match either. Use quotes &quot;...&quot; around a set of words you wish to match only when they exist together as a phrase. Multiple filters can be applied by entering new words or phrases after each filter operation.\" /></td><td class=\"td-button\"><img class=\"ib input-size ra-btn ra-btn-size-normal ra-btn-color-darkblue ra-btn-search-icon\" src=\"/Images/1pxtransparent.png\" style=\"color: black;\" onclick=\"RA.ThrottleRepeats(function() { cataloglite.SendPartTabSearch(\\'frm_partsearch\\', &quot;__GIP__2__&quot;); }, \\'part_tab_search_filter\\', 2.5); return false;\" alt=\"Apply Filter\" /></td></tr></table></div><span style=\"position: relative;\"><span id=\"filterbreakdownwrapper___GIP__2__\" class=\"ra-hide\" style=\"position: absolute; z-index: 10;\"><div style=\"background: #FFFFFF; border: 1px solid black; padding: 5px; white-space: nowrap;\"><div style=\"text-align: right;\" class=\"filter-breakdown-row-spacing\"><img onclick=\"cataloglite.DisplayFilterBreakDown(&quot;__GIP__2__&quot;, 1);\" style=\"vertical-align: top;\" class=\"mouseover\" src=\"/catalog/images/close.gif\" alt=\"Hide\" title=\"Hide\"></div><div id=\"filterbreakdownsteps___GIP__2__\"></div><div style=\"text-align: center; padding-top: .25em;\"><input type=\"submit\" name=\"clearfilter\" value=\"Clear Filter\" class=\"ra-btn mo-link\" style=\"color: blue;\" onclick=\"RA.ThrottleRepeats(function() { cataloglite.SendPartTabSearch(\\'frm_partsearch\\', &quot;__GIP__2__&quot;, 1); }, \\'part_tab_search_filter\\', 2.5); return false;\"></div></div></span></span></span></div></div><div style=\"clear: both; padding-top: .25em;\"></div><table class=\"nobmp\" style=\"width: 100%;\" cellpadding=\"0\" cellspacing=\"0\">\\n                    <tbody>\\n                        <tr>\\n                            <td colspan=\"2\">\\n                                \\n                            </td>\\n                            <td colspan=\"4\" class=\" listing-float-box-cell-shared-header\" style=\"height: 1px; text-align: center;\">\\n                                <span style=\"font-weight: bold;\">Price</span>\\n                            </td>\\n                            <td class=\"ra-hide listing-float-box-cell-shared-header\" style=\"height: 1px; text-align: center;\">\\n                                \\n                            </td>\\n                            <td class=\"ra-hide listing-float-box-cell-shared-header\" style=\"height: 1px; text-align: center;\">\\n                                \\n                            </td>\\n                            <td class=\"ra-hide listing-float-box-cell-shared-header\" style=\"height: 1px; text-align: center;\">\\n                                \\n                            </td>\\n                            <td class=\" listing-float-box-cell-shared-header\" style=\"text-align: center;\">\\n                                \\n                            </td>\\n                        </tr>\\n                    </tbody>\\n                    <tr class=\"remove-for-print\"><td colspan=\"6\" id=\"listingnopartscriteria[__GIP__2__]\" style=\"color: red;\" class=\"ra-hide\">No parts for vehicles in selected markets.</td></tr>\\n                    <tbody id=\"listingcontainer[__GIP__3__]\" class=\"listing-inner altrow-a-1  \" style=\"\">\\n                        <tr>\\n                            <td rowspan=\"2\" class=\"listing-border-top-line listing-inner-content\" style=\"\">\\n                                <span style=\"float: right;\"></span>\\n                                <div></div>\\n                                <div class=\"listing-text-row-moreinfo-truck\"><span class=\"listing-final-manufacturer \">STANDARD MOTOR PRODUCTS</span> <span class=\"listing-final-partnumber  as-link-if-js\" id=\"vew_partnumber[__GIP__3__]\" onclick=\"if (cataloglite.IsMobileAndNotExpanded(&quot;__GIP__3__&quot;)) { return; } cataloglite.ShowBuyersGuidePopup(&quot;__GIP__3__&quot;);\" title=\"Buyer\\'s Guide\" alt=\"Buyer\\'s Guide\">UF575</span>  <span class=\"span-link-underline-remover\">Blue Streak</span>   <a href=\"https://www.rockauto.com/en/moreinfo.php?pk=2415560&cc=0&pt=7060\" target=\"_blank\" rel=\"opener\"  class=\"ra-btn ra-btn-moreinfo\" onclick=\"cataloglite.MoreInfoClick(this, &quot;__GIP__3__&quot;); AddSerializedCookieDataToHref(this);\">Info</a>   <span name=\"vew_whtruckicon[__GIP__3__][0-0-18-1]\" class=\"truck ra-hide remove-for-print mouseover\" title=\"Could ship from same location as parts in cart\" onclick=\"FAQpopup(\\'/help/?page=2#MINSHIPCOST\\', &quot;Could ship from same location as parts in cart&quot;, null, this); RA.StopBubble(event); return false;\">&nbsp;</span>  </div>\\n                                <div class=\"listing-text-row\"><span  title=\"Please make sure this note matches your vehicle. A seemingly contradictory note (like &quot;Left; Right;&quot;) means the part fits either (left OR right) -- it does not mean you\\'ll receive two parts. Please do not choose a part if the note does not describe your application (for example, if the note says &quot;Sedan&quot; and you have a station wagon).\"><span class=\"listing-footnote-text\">Category: Ignition Coil</span></span> </div>\\n                                <div></div>\\n                                <div></div>\\n                                <div></div>\\n                                \\n                                <input type=\"hidden\" autocomplete=\"off\" name=\"optionchoice[__GIP__3__]\" id=\"optionchoice[__GIP__3__]\" value=\"0-0-18-1\"><input type=\"hidden\" autocomplete=\"off\" name=\"listing_data_essential[__GIP__3__]\" id=\"listing_data_essential[__GIP__3__]\" value=\"{&quot;groupindex&quot;:&quot;__GIP__3__&quot;,&quot;carcode&quot;:0,&quot;parttype&quot;:&quot;7060&quot;,&quot;partkey&quot;:&quot;2415560&quot;,&quot;opts&quot;:{&quot;0-0-18-1&quot;:{&quot;warehouse&quot;:&quot;44840&quot;,&quot;whpartnum&quot;:&quot;SI UF-575&quot;,&quot;optionlist&quot;:&quot;0&quot;,&quot;paramcode&quot;:&quot;0&quot;,&quot;notekey&quot;:&quot;18&quot;,&quot;multiple&quot;:&quot;1&quot;}}}\" /><input type=\"hidden\" autocomplete=\"off\" id=\"listing_data_supplemental[__GIP__3__]\" value=\"{&quot;partnumber&quot;:&quot;UF575&quot;,&quot;catalogname&quot;:&quot;STANDARD MOTOR PRODUCTS&quot;,&quot;belongstolisting&quot;:&quot;__GIP__2__&quot;,&quot;sortgroup&quot;:0,&quot;sortgrouptext&quot;:&quot;&quot;,&quot;paramdesc&quot;:&quot;&quot;}\" /><input type=\"hidden\" autocomplete=\"off\" id=\"mdl_whtruckicon[__GIP__3__][]\" value=\"false\"><input type=\"hidden\" autocomplete=\"off\" id=\"mdl_chkalternate[__GIP__3__][]\" value=\"false\"><input type=\"hidden\" autocomplete=\"off\" id=\"mdl_btnaddtocart[__GIP__3__][]\" value=\"false\"><input type=\"hidden\" autocomplete=\"off\" id=\"mdl_btnpartincart[__GIP__3__][]\" value=\"false\"><input type=\"hidden\" autocomplete=\"off\" id=\"lst_shipwhlist[__GIP__3__][0-0-18-1]\" value=\"{&quot;52002&quot;:52002,&quot;10462&quot;:10462,&quot;20723&quot;:20723,&quot;33411&quot;:33411,&quot;11570&quot;:11570,&quot;8854&quot;:8854,&quot;92802&quot;:92802,&quot;44056&quot;:44056,&quot;21076&quot;:21076,&quot;11377&quot;:11377,&quot;7031&quot;:7031,&quot;93722&quot;:93722,&quot;44840&quot;:44840,&quot;90660&quot;:90660,&quot;30073&quot;:30073,&quot;95815&quot;:95815,&quot;92407&quot;:92407,&quot;13502&quot;:13502,&quot;13209&quot;:13209,&quot;23842&quot;:23842}\" ><input type=\"hidden\" autocomplete=\"off\" id=\"mdl_whtruckicon[__GIP__3__][0-0-18-1]\" value=\"false\"><input type=\"hidden\" autocomplete=\"off\" id=\"mdl_btnaddtocart[__GIP__3__][0-0-18-1]\" value=\"true\"><input type=\"hidden\" autocomplete=\"off\" id=\"mdl_btnpartincart[__GIP__3__][0-0-18-1]\" value=\"false\"><input type=\"hidden\" autocomplete=\"off\" id=\"mdl_btnnotifyoos[__GIP__3__][0-0-18-1]\" value=\"false\"><input type=\"hidden\" autocomplete=\"off\" id=\"mdl_chkalternate[__GIP__3__][0-0-18-1]\" value=\"true\"><input type=\"hidden\" autocomplete=\"off\" name=\"ssk[__GIP__3__]\" value=\"HPc6NY4sqMvPDBCrBav8qaBBTwlZK0asewnAX6MvoIir5gpawi+0mUL7bIlOCdfayDFAUWdbKTU=\"/>\\n                                <span style=\"display: none;\" title=\"Replaces these Alternate/ OE Part Numbers\">06F905115E, 06F905115F, 06H905115, 06H905115A, 06H905115B, 07K905715, 07K905715A, 07K905715B, 07K905715C, 07K905715D, 07K905715E, 07K905715F, 07K905715G, 12336238, 13674387, 22433AA500, 22433AA580, 32005954, 3287677, 32876773, 33004272, 6H905115A, 6H905115B, 7K905715F, MD363552, T1031135, UF50, UF50T, UF523, UF538, UF539, UF566, UF588, UF623</span>\\n                            </td>\\n                            \\n                            <td rowspan=\"2\" class=\"listing-border-top-line listing-float-box-cell-shared\" style=\"text-align: right; \">\\n                                <div class=\" listing-image-space-occupy\"><table class=\"tblz listing-image-table\" id=\"listing_image_table[__GIP__3__]\" style=\"\"><tr><td class=\"listing-image-table-leftrightcol\"><div id=\"inlineimg_left_small[__GIP__3__]\"><img id=\"inlineimgprevious[__GIP__3__]\" class=\"listing-image-prevnext-image remove-for-print show-if-js\" style=\" margin: .1em;\" src=\"/catalog/images/prevIMGbig.png\" onclick=\"cataloglite.Listing_InlineImageManualScroll(&quot;__GIP__3__&quot;, -1, false, false)\" alt=\"&lt;\" title=\"Previous Image\"></div></td><td class=\"listing-image-table-centercol\"><div id=\"inlineimgpositionancestor[__GIP__3__]\" style=\" position: relative; z-index: 1;\" class=\"ra-hide\"><div id=\"inlineimg_container[__GIP__3__]\" class=\" listing-inlineimg_container listing-inline-image-border\"  style=\"z-index: 1; text-align: center; background: #FFFFFF;\"><div id=\"inlineimg_containertitle[__GIP__3__]\" class=\"listing-inline-image-popup-widget-title ra-hide\" onmousedown=\"cataloglite.ImagePopupTitleMouseDown(&quot;__GIP__3__&quot;)\"><div style=\"text-align: center; \"><span style=\"padding: 0 2em 0 2em;\">STANDARD MOTOR PRODUCTS UF575</span><span style=\"position: absolute; right: 5px;\"><img src = \"/catalog/images/close12_1.gif\" style=\"padding: .2em; cursor: pointer; display: block;\" onclick=\"cataloglite.Listing_InlineImagePopupInPlace(&quot;__GIP__3__&quot;)\" alt=\"close\"/></span></div></div><div id=\"inlineimg_topper[__GIP__3__]\" class=\"img-topper-container\"><table class=\"tblz w100\"><tr><td class=\"pinched\" style=\"vertical-align: top;\"><div style=\"text-align: left; padding-right: .25em;\"><span id=\"inlineimg_left_big[__GIP__3__]\"></span></div><div class=\"listing-image-counter\"><div class=\"inner\" id=\"imagecounterdisplay[__GIP__3__]\"></div></div></td><td style=\"vertical-align: top;\"><div id=\"imgcarouseltitlephrase[__GIP__3__]\" class=\"img-carousel-titlephrase\"></div><div id=\"inlineimg_container360menu[__GIP__3__]\" class=\"ra-hide\" style=\"padding: .25em; margin-bottom: .5em;\"><div class=\"ra-bar-slider-bar-c\"><div  id=\"inlineimg_sliderbar[__GIP__3__]\"  class=\"ra-bar-slider-bar\" onmousedown=\"cataloglite.ImageSliderMouseDown(&quot;__GIP__3__&quot;, event);\" ontouchstart=\"cataloglite.ImageSliderMouseDown(&quot;__GIP__3__&quot;, event);\"><span class=\"ra-bar-slider-slider\" id=\"inlineimg_slider[__GIP__3__]\"></span></div></div></div></td><td class=\"pinched\" style=\"vertical-align: top; text-align: right;\"><div style=\"padding-left: .25em;\"><span id=\"inlineimg_right_big[__GIP__3__]\"></span></div></td></tr></table></div><div id=\"inlineimg_containersizer[__GIP__3__]\" class=\"inlineimg_containersizer ra-hide\" style=\" cursor: pointer;\" onclick=\"cataloglite.Listing_InlineImagePopupInPlace(&quot;__GIP__3__&quot;)\"><img id=\"inlineimg[__GIP__3__]\" class=\" listing-inline-image\"  src=\"/info/154/UF-575_Front__ra_m.jpg\" alt=\"Part image\"/></div></div></div><img id=\"inlineimg_thumb[__GIP__3__]\" class=\"listing-inline-image listing-inline-image-thumb listing-inline-image-border\" style=\"cursor: pointer;\" onclick=\"cataloglite.Listing_InlineImagePopupInPlace(&quot;__GIP__3__&quot;)\" src=\"/info/154/UF-575_Front__ra_m.jpg\" alt=\"Part image\" switch-to-highres=\"1\"/></td><td class=\"listing-image-table-leftrightcol\"><div id=\"inlineimg_right_small[__GIP__3__]\"><img id=\"inlineimgnext[__GIP__3__]\" name=\"inlnimgnextbtn\" class=\"listing-image-prevnext-image show-if-js remove-for-print\" style=\" margin: .1em;\" src=\"/catalog/images/nextIMGbig.png\" onclick=\"cataloglite.Listing_InlineImageManualScroll(&quot;__GIP__3__&quot;, 1, false, false)\" alt=\"&gt;\" title=\"Next Image\"></div></td></tr></table><input type=\"hidden\" autocomplete=\"off\" id=\"jsninlineimg[__GIP__3__]\" value=\"{&quot;Size&quot;:&quot;Thumb&quot;,&quot;SlotIndex&quot;:0,&quot;Slots&quot;:[{&quot;TitlePhrase&quot;:null,&quot;ParamCodes&quot;:[null],&quot;Type&quot;:&quot;Single&quot;,&quot;ImageData&quot;:{&quot;Thumb&quot;:&quot;\\\\/info\\\\/154\\\\/UF-575_Front__ra_m.jpg&quot;,&quot;Popup&quot;:&quot;\\\\/info\\\\/154\\\\/UF-575_Front.jpg&quot;,&quot;Full&quot;:&quot;\\\\/info\\\\/154\\\\/UF-575_Front.jpg&quot;}},{&quot;TitlePhrase&quot;:null,&quot;ParamCodes&quot;:[null],&quot;Type&quot;:&quot;Single&quot;,&quot;ImageData&quot;:{&quot;Thumb&quot;:&quot;\\\\/info\\\\/154\\\\/UF-575_Angle__ra_m.jpg&quot;,&quot;Popup&quot;:&quot;\\\\/info\\\\/154\\\\/UF-575_Angle.jpg&quot;,&quot;Full&quot;:&quot;\\\\/info\\\\/154\\\\/UF-575_Angle.jpg&quot;}},{&quot;TitlePhrase&quot;:null,&quot;ParamCodes&quot;:[null],&quot;Type&quot;:&quot;Single&quot;,&quot;ImageData&quot;:{&quot;Thumb&quot;:&quot;\\\\/info\\\\/154\\\\/UF-575_Bottom__ra_m.jpg&quot;,&quot;Popup&quot;:&quot;\\\\/info\\\\/154\\\\/UF-575_Bottom.jpg&quot;,&quot;Full&quot;:&quot;\\\\/info\\\\/154\\\\/UF-575_Bottom.jpg&quot;}},{&quot;TitlePhrase&quot;:null,&quot;ParamCodes&quot;:[null],&quot;Type&quot;:&quot;Single&quot;,&quot;ImageData&quot;:{&quot;Thumb&quot;:&quot;\\\\/info\\\\/154\\\\/UF-575_Connector__ra_m.jpg&quot;,&quot;Popup&quot;:&quot;\\\\/info\\\\/154\\\\/UF-575_Connector.jpg&quot;,&quot;Full&quot;:&quot;\\\\/info\\\\/154\\\\/UF-575_Connector.jpg&quot;}},{&quot;TitlePhrase&quot;:null,&quot;ParamCodes&quot;:[null],&quot;Type&quot;:&quot;Single&quot;,&quot;ImageData&quot;:{&quot;Thumb&quot;:&quot;\\\\/info\\\\/154\\\\/UF-575_Left__ra_m.jpg&quot;,&quot;Popup&quot;:&quot;\\\\/info\\\\/154\\\\/UF-575_Left.jpg&quot;,&quot;Full&quot;:&quot;\\\\/info\\\\/154\\\\/UF-575_Left.jpg&quot;}},{&quot;TitlePhrase&quot;:null,&quot;ParamCodes&quot;:[null],&quot;Type&quot;:&quot;Single&quot;,&quot;ImageData&quot;:{&quot;Thumb&quot;:&quot;\\\\/info\\\\/154\\\\/UF-575_Right__ra_m.jpg&quot;,&quot;Popup&quot;:&quot;\\\\/info\\\\/154\\\\/UF-575_Right.jpg&quot;,&quot;Full&quot;:&quot;\\\\/info\\\\/154\\\\/UF-575_Right.jpg&quot;}},{&quot;TitlePhrase&quot;:null,&quot;ParamCodes&quot;:[null],&quot;Type&quot;:&quot;Single&quot;,&quot;ImageData&quot;:{&quot;Thumb&quot;:&quot;\\\\/info\\\\/154\\\\/UF-575_Top__ra_m.jpg&quot;,&quot;Popup&quot;:&quot;\\\\/info\\\\/154\\\\/UF-575_Top.jpg&quot;,&quot;Full&quot;:&quot;\\\\/info\\\\/154\\\\/UF-575_Top.jpg&quot;}}]}\"/></div>\\n                            </td>\\n                            \\n                            <td id=\"listingtd[__GIP__3__][price]\" colspan=\"4\" class=\" listing-border-top-line listing-float-box-cell-shared listing-float-box-cell-more-padding\" style=\"height: 1px; text-align: center; \">\\n                                <span id=\"dprice[__GIP__3__][td]\" class=\"\"><span class=\"ra-formatted-amount listing-price listing-amount-bold\"><span id=\"dprice[__GIP__3__][v]\"><span class=\"map-price-text\">Add to Cart to See Price</span></span></span></span>\\n                            </td>\\n                            <td id=\"listingtd[__GIP__3__][core]\" class=\"ra-hide listing-border-top-line listing-float-box-cell-shared listing-float-box-cell-more-padding\" style=\"height: 1px; text-align: center; \">\\n                                <span id=\"dcore[__GIP__3__][td]\" class=\"\"><span class=\"ra-formatted-amount listing-core\"><span id=\"dcore[__GIP__3__][v]\"></span></span></span>\\n                            </td>\\n                            <td id=\"listingtd[__GIP__3__][pack]\" class=\"ra-hide listing-border-top-line listing-float-box-cell-shared listing-float-box-cell-more-padding\" style=\"height: 1px; text-align: center; \">\\n                                <span id=\"dpack[__GIP__3__][v]\"></span>\\n                            </td>\\n                            <td id=\"listingtd[__GIP__3__][total]\" class=\"ra-hide listing-border-top-line listing-float-box-cell-shared listing-float-box-cell-more-padding\" style=\"height: 1px; text-align: center; \">\\n                                <span id=\"dtotal[__GIP__3__][td]\" class=\"listing-amount-bold\"><span class=\"ra-formatted-amount listing-total\"><span id=\"dtotal[__GIP__3__][v]\"></span></span></span>\\n                            </td>\\n                            <td rowspan=\"2\" class=\" listing-border-top-line listing-float-box-cell-shared\" style=\"text-align: center; \">\\n                                \\n                            </td>\\n                        </tr>\\n                        <tr>\\n                            <td colspan=\"4\" class=\" listing-float-box-cell-shared\" style=\"text-align: right;\">\\n                                <div style=\"padding-top: .25em; padding-bottom: .1em;\">\\n                                    <div class=\"listing-quantity-adjustment ib remove-for-print show-if-js\"><input type=\"hidden\" autocomplete=\"off\" id=\"listingoptkeytomultiple[__GIP__3__]\" value=\"{&quot;0-0-18-1&quot;:&quot;1&quot;}\" ><input type=\"hidden\" autocomplete=\"off\" id=\"listingoptkeytolinenumber[__GIP__3__]\" value=\"{&quot;0-0-18-1&quot;:null}\" ><input type=\"hidden\" autocomplete=\"off\" id=\"listingoptkeytoqtyincart[__GIP__3__]\" value=\"{&quot;0-0-18-1&quot;:null}\" ><input type=\"hidden\" autocomplete=\"off\" id=\"listingoptkeytoalternateid[__GIP__3__]\" value=\"{&quot;0-0-18-1&quot;:null}\" ><table class=\"tblz di tbl-input-button-attached\" id=\"listingquantitytable[__GIP__3__]\"><tr><td class=\"td-button-left\" style=\"text-align: right;\"><div class=\"qty-adjust-button\" onclick=\"cataloglite.ListingQuantityUpdate(&quot;__GIP__3__&quot;, -1);\" style=\"border-top-left-radius: 4px; border-bottom-left-radius: 4px;\"><img class=\"nobmp vmiddle\" src=\"/Images/mobile/qty_down_white.png\" alt=\"\" /></div></td><td class=\"td-input\"><label for=\"raquantity[__GIP__3__]\" style=\"display:none;\">Quantity</label><input type=\"text\" aria-label=\"Quantity\" class=\"input-quantity  ib\" style=\"text-align: center; width: 2em; padding-left: 0;\" maxlength=\"5\" name=\"raquantity[__GIP__3__]\" id=\"raquantity[__GIP__3__]\" value=\"1\" autocomplete=\"off\" spellcheck=\"false\" autocorrect=\"off\" autocapitalize=\"off\" data-autofill=\"block\" onkeypress=\"return RA.InterceptEnter(event, function(){RA.ByName(&quot;raquantity[__GIP__3__]&quot;)[0].blur()});\" onchange=\"cataloglite.ListingQuantityUpdate(&quot;__GIP__3__&quot;);\" /></td><td class=\"td-button-right\"><div class=\"qty-adjust-button\" onclick=\"cataloglite.ListingQuantityUpdate(&quot;__GIP__3__&quot;, 1);\"style=\"border-top-right-radius: 4px; border-bottom-right-radius: 4px;\"><img class=\"nobmp vmiddle\" src=\"/Images/mobile/qty_up_white.png\" alt=\"\" /></div></td></tr></table></div>\\n                                    <div class=\"catalog-listing-buttons-wrapper ib\" style=\"min-width:105px;\"><div class=\"vew_btnaddtocart remove-for-print  \" id=\"vew_btnaddtocart[__GIP__3__]\"><input type=\"submit\" name=\"addpart[__GIP__3__]\" id=\"addpart[__GIP__3__]\" value=\"Add to Cart &gt;\" class=\"hide-if-js ra-btn ra-btn-size-normal ra-btn-color-hotgreen\" onclick=\"cataloglite.ShowLoadingOverlay(null, \\'PK_ADDINGPARTTOCART\\'); return cataloglite.Cart.AddPartWhenReady(&quot;__GIP__3__&quot;);\"><a style=\"display: inline-block;\" class=\"show-if-js ra-btn ra-btn-color-hotgreen ra-btn-size-normal ra-btn-add-part\" onclick=\"RA.Click(\\'addpart[__GIP__3__]\\'); return false;\" href=\"#\"><span class=\"la-btn-v\">Add to Cart</span><img class=\"la-btn-v\" style=\"height: 1em; margin-left: .25em;\" src=\"/Images/mobile/right_arrow_white.png\" alt=\"\" /></a></div><div class=\"vew_btnpartincart remove-for-print ra-hide \" id=\"vew_btnpartincart[__GIP__3__]\"><input type=\"submit\" name=\"addpart[__GIP__3__]\" value=\"Part In Cart\" class=\"ra-btn ra-btn-size-normal ra-btn-part-in-cart\" onclick=\"cataloglite.Cart.ShowPartAlreadyInCart(__GIP__3__); return false;\"></div><div class=\"vew_btnnotifyoos remove-for-print ra-hide show-if-js\" id=\"vew_btnnotifyoos[__GIP__3__]\"><input type=\"button\" value=\"Notify Me When Available\" class=\"ra-btn ra-btn-size-normal ra-btn-color-darkblue\" onclick=\"cataloglite.GetAvailabilityAlertForOOSPart(&quot;__GIP__3__&quot;);\"></div></div>\\n                                </div>\\n                            </td>\\n                        </tr>\\n                    </tbody>\\n                    </table><div id=\"listingfiltermessage[__GIP__2__]\" class=\"listing-filter-bottom-message ra-hide\"></div><input type=\"hidden\" autocomplete=\"off\" id=\"part_groupindexes_in_this_listing[__GIP__2__]\" value=\"[&quot;__GIP__3__&quot;]\"/></div></div></form></div></div></div>',\n",
       " 'collected_javascript': '/**UQ:8A27BD86**/\\nvar PK_OK =\"OK\";\\nvar PK_XLISTINGSREMOVE=\"KEY__NUM listings removed\";\\nvar PK_XLISTINGREMOVE=\"KEY__NUM listing removed\";\\nwindow.top.parent.window[\"_nck\"] = \"8LVLUxTaILBT+tLxkg8+3Ag7\\\\/0bbOhvn7P3rkFbL80\\\\/ismhHyfCiO07pwNUCaIW3afbJMKR0uqi1pNnUlRgBN5CwkZnWFYwm7DtiVw8cl6t1DDIlw0OPK8L1xqUF2GhW3oASmn+5ViC4ZNjoo\\\\/t+J\\\\/lJzyaD0nZ2eRhPISnYAgOA\\\\/C0Pvx7hiC4\\\\/8hjludR4\";\\n'}"
      ]
     },
     "execution_count": 5,
     "metadata": {},
     "output_type": "execute_result"
    }
   ],
   "source": [
    "dict_2 = response.json()\n",
    "\n",
    "dict_2"
   ]
  },
  {
   "cell_type": "code",
   "execution_count": 6,
   "id": "03745ac3-1391-412e-8937-d941c858f3ee",
   "metadata": {},
   "outputs": [
    {
     "data": {
      "text/plain": [
       "False"
      ]
     },
     "execution_count": 6,
     "metadata": {},
     "output_type": "execute_result"
    }
   ],
   "source": [
    "'redirect_to_url' in dict_2"
   ]
  },
  {
   "cell_type": "code",
   "execution_count": 7,
   "id": "b6fbd00b-dc83-4d70-9b0b-9a2611fe18ac",
   "metadata": {},
   "outputs": [],
   "source": [
    "from bs4 import BeautifulSoup"
   ]
  },
  {
   "cell_type": "code",
   "execution_count": 8,
   "id": "035533a1-d0cb-4125-af98-a6026386064e",
   "metadata": {
    "scrolled": true
   },
   "outputs": [
    {
     "name": "stdout",
     "output_type": "stream",
     "text": [
      "<html>\n",
      " <head>\n",
      " </head>\n",
      " <body>\n",
      "  <div class=\"ranavnode\" id=\"nav[__GIP__1__]\">\n",
      "   <input autocomplete=\"off\" id=\"jsn[__GIP__1__]\" type=\"hidden\" value='{\"groupindex\":\"__GIP__1__\",\"tab\":\"partsearch\",\"idepth\":0,\"parttype\":\"7060\",\"catalogname\":\"STANDARD MOTOR PRODUCTS\",\"partnumber\":\"UF575\",\"nodetype\":\"parttabsearch\",\"expanded\":true,\"loaded\":true}'/>\n",
      "   <input autocomplete=\"off\" id=\"navnodeunique[partsearch-7060]\" name=\"navnodeunique[partsearch-7060]\" type=\"hidden\" value=\"__GIP__1__\"/>\n",
      "   <div class=\"ranavouter\" id=\"nav_o[__GIP__1__]\">\n",
      "    <div class=\"inner\">\n",
      "     <table cellpadding=\"0\" cellspacing=\"0\" class=\"tbl\">\n",
      "      <tbody>\n",
      "       <tr>\n",
      "        <td class=\"niconspace nexpandedicon\" id=\"navicon[__GIP__1__]\">\n",
      "         <a href=\"/en/parts/standard+motor+products,UF575,ignition+coil,7060\" onclick='cataloglite.LinkIntercept_ToggleNavNode(\"__GIP__1__\"); return false;' tabindex=\"-1\">\n",
      "          <img alt=\"Toggle\" src=\"/Images/1pxtransparent.png\"/>\n",
      "         </a>\n",
      "        </td>\n",
      "        <td class=\"nlabel\">\n",
      "         <a class=\"navlabellink nvoffset nnormal\" href=\"/en/parts/standard+motor+products,UF575,ignition+coil,7060\" id=\"navhref[__GIP__1__]\" onclick='cataloglite.LinkIntercept_ToggleNavNode(\"__GIP__1__\"); return false;'>\n",
      "          Search for Manufacturer='STANDARD MOTOR PRODUCTS' and Part Type='Ignition Coil' and Part Number='UF575'\n",
      "         </a>\n",
      "        </td>\n",
      "       </tr>\n",
      "      </tbody>\n",
      "     </table>\n",
      "    </div>\n",
      "   </div>\n",
      "   <div class=\"nchildren\" id=\"navchildren[__GIP__1__]\">\n",
      "    <div class=\"listings-container\" id=\"listings[__GIP__2__]\">\n",
      "     <form action=\"/en/partsearch/?mfr=STANDARD+MOTOR+PRODUCTS&amp;parttype=7060&amp;partnum=UF575\" class=\"nobmp\" id=\"frmlistings[__GIP__2__]\" method=\"post\">\n",
      "      <input name=\"_nck\" type=\"hidden\" value=\"8LVLUxTaILBT+tLxkg8+3Ag7/0bbOhvn7P3rkFbL80/ismhHyfCiO07pwNUCaIW3afbJMKR0uqi1pNnUlRgBN5CwkZnWFYwm7DtiVw8cl6t1DDIlw0OPK8L1xqUF2GhW3oASmn+5ViC4ZNjoo/t+J/lJzyaD0nZ2eRhPISnYAgOA/C0Pvx7hiC4/8hjludR4\"/>\n",
      "      <div class=\"listing-container-border\">\n",
      "       <input autocomplete=\"off\" id=\"parentnode[__GIP__2__]\" type=\"hidden\" value=\"__GIP__1__\"/>\n",
      "       <div>\n",
      "        <div style=\"padding-top: 1px; padding-left: .25em; padding-right: .25em;\">\n",
      "         <div class=\"remove-for-print\" style=\"padding-top:5px;\">\n",
      "          <div class=\"ib vtop\">\n",
      "           <span class=\"show-if-js\" style=\"padding-left: .5em;\">\n",
      "            <img alt=\"Close\" class=\"mouseover\" onclick='cataloglite.NavNode_SimulateClick(\"__GIP__1__\");' src=\"/catalog/images/close.gif\" style=\"vertical-align: top;\" title=\"Close\"/>\n",
      "           </span>\n",
      "           <span class=\"show-if-js\" style=\"padding-left: .5em;\">\n",
      "            <a href=\"/en/printlistings.php?ni=__GIP__2__&amp;title=Print Part Listings\" rel=\"opener\" target=\"_blank\">\n",
      "             <img alt=\"Print Part Listings\" class=\"mouseover\" src=\"/Images/mobile/printer.png\" style=\"vertical-align: top; border: none; height: 20px;\" title=\"Print Part Listings\"/>\n",
      "            </a>\n",
      "           </span>\n",
      "           <span class=\"show-if-js\" style=\"padding-left: .5em;\">\n",
      "            <a href=\"/en/emailpagetofriend.php?nurl=%2Fen%2Fpartsearch%2F%3Fmfr%3DSTANDARD%2BMOTOR%2BPRODUCTS%26parttype%3D7060%26partnum%3DUF575\" onclick='cataloglite.AddFiltersToEmailListingURL(\"\\/en\\/partsearch\\/?mfr=STANDARD+MOTOR+PRODUCTS&amp;parttype=7060&amp;partnum=UF575\", \"__GIP__2__\"); return false;' target=\"_blank\">\n",
      "             <img alt=\"Send these listings to a friend\" class=\"mouseover\" src=\"/Images/mobile/envelope.png\" style=\"vertical-align: top; border: none; height: 14px;\" title=\"Send these listings to a friend\"/>\n",
      "            </a>\n",
      "           </span>\n",
      "           <span class=\"show-if-js\" style=\"padding-left: .5em;\">\n",
      "            <a alt=\"How do I choose a part?\" href=\"/help/?page=2\" style=\"text-decoration: none;\" target=\"_blank\" title=\"How do I choose a part?\">\n",
      "             <img alt=\"Help\" class=\"help_q_icon_16 vtop\" src=\"/Images/questionMark.png\"/>\n",
      "            </a>\n",
      "           </span>\n",
      "          </div>\n",
      "          <span class=\"span-filterinput\" style=\"padding-left: .5em;\">\n",
      "           <div class=\"ib\">\n",
      "            <table class=\"tblz tbl-input-button-attached attached-filter-size\">\n",
      "             <tbody>\n",
      "              <tr>\n",
      "               <td class=\"td-input\">\n",
      "                <input autocapitalize=\"off\" autocomplete=\"off\" autocorrect=\"off\" class=\"filter-input\" id=\"filterinput[__GIP__2__]\" name=\"filterinput\" onblur='cataloglite.FilterListings(\"__GIP__2__\");' onclick='cataloglite.DisplayFilterBreakDown(\"__GIP__2__\");' onkeypress='return RA.InterceptEnter(event, function(){cataloglite.FilterListings(\"__GIP__2__\");});' placeholder=\"Filter By Keyword(s)\" size=\"25\" spellcheck=\"false\" style=\"\" title=\"Filter listings below by entering words that you want to see. Use '-' before a word to find results that do NOT contain that word. Use OR between words or groups of words to see listings that match either. Use quotes &quot;...&quot; around a set of words you wish to match only when they exist together as a phrase. Multiple filters can be applied by entering new words or phrases after each filter operation.\" type=\"text\" value=\"\"/>\n",
      "               </td>\n",
      "               <td class=\"td-button\">\n",
      "                <img alt=\"Apply Filter\" class=\"ib input-size ra-btn ra-btn-size-normal ra-btn-color-darkblue ra-btn-search-icon\" onclick=\"RA.ThrottleRepeats(function() { cataloglite.SendPartTabSearch('frm_partsearch', &quot;__GIP__2__&quot;); }, 'part_tab_search_filter', 2.5); return false;\" src=\"/Images/1pxtransparent.png\" style=\"color: black;\"/>\n",
      "               </td>\n",
      "              </tr>\n",
      "             </tbody>\n",
      "            </table>\n",
      "           </div>\n",
      "           <span style=\"position: relative;\">\n",
      "            <span class=\"ra-hide\" id=\"filterbreakdownwrapper___GIP__2__\" style=\"position: absolute; z-index: 10;\">\n",
      "             <div style=\"background: #FFFFFF; border: 1px solid black; padding: 5px; white-space: nowrap;\">\n",
      "              <div class=\"filter-breakdown-row-spacing\" style=\"text-align: right;\">\n",
      "               <img alt=\"Hide\" class=\"mouseover\" onclick='cataloglite.DisplayFilterBreakDown(\"__GIP__2__\", 1);' src=\"/catalog/images/close.gif\" style=\"vertical-align: top;\" title=\"Hide\"/>\n",
      "              </div>\n",
      "              <div id=\"filterbreakdownsteps___GIP__2__\">\n",
      "              </div>\n",
      "              <div style=\"text-align: center; padding-top: .25em;\">\n",
      "               <input class=\"ra-btn mo-link\" name=\"clearfilter\" onclick=\"RA.ThrottleRepeats(function() { cataloglite.SendPartTabSearch('frm_partsearch', &quot;__GIP__2__&quot;, 1); }, 'part_tab_search_filter', 2.5); return false;\" style=\"color: blue;\" type=\"submit\" value=\"Clear Filter\"/>\n",
      "              </div>\n",
      "             </div>\n",
      "            </span>\n",
      "           </span>\n",
      "          </span>\n",
      "         </div>\n",
      "        </div>\n",
      "        <div style=\"clear: both; padding-top: .25em;\">\n",
      "        </div>\n",
      "        <table cellpadding=\"0\" cellspacing=\"0\" class=\"nobmp\" style=\"width: 100%;\">\n",
      "         <tbody>\n",
      "          <tr>\n",
      "           <td colspan=\"2\">\n",
      "           </td>\n",
      "           <td class=\"listing-float-box-cell-shared-header\" colspan=\"4\" style=\"height: 1px; text-align: center;\">\n",
      "            <span style=\"font-weight: bold;\">\n",
      "             Price\n",
      "            </span>\n",
      "           </td>\n",
      "           <td class=\"ra-hide listing-float-box-cell-shared-header\" style=\"height: 1px; text-align: center;\">\n",
      "           </td>\n",
      "           <td class=\"ra-hide listing-float-box-cell-shared-header\" style=\"height: 1px; text-align: center;\">\n",
      "           </td>\n",
      "           <td class=\"ra-hide listing-float-box-cell-shared-header\" style=\"height: 1px; text-align: center;\">\n",
      "           </td>\n",
      "           <td class=\"listing-float-box-cell-shared-header\" style=\"text-align: center;\">\n",
      "           </td>\n",
      "          </tr>\n",
      "         </tbody>\n",
      "         <tbody>\n",
      "          <tr class=\"remove-for-print\">\n",
      "           <td class=\"ra-hide\" colspan=\"6\" id=\"listingnopartscriteria[__GIP__2__]\" style=\"color: red;\">\n",
      "            No parts for vehicles in selected markets.\n",
      "           </td>\n",
      "          </tr>\n",
      "         </tbody>\n",
      "         <tbody class=\"listing-inner altrow-a-1\" id=\"listingcontainer[__GIP__3__]\" style=\"\">\n",
      "          <tr>\n",
      "           <td class=\"listing-border-top-line listing-inner-content\" rowspan=\"2\" style=\"\">\n",
      "            <span style=\"float: right;\">\n",
      "            </span>\n",
      "            <div>\n",
      "            </div>\n",
      "            <div class=\"listing-text-row-moreinfo-truck\">\n",
      "             <span class=\"listing-final-manufacturer\">\n",
      "              STANDARD MOTOR PRODUCTS\n",
      "             </span>\n",
      "             <span alt=\"Buyer's Guide\" class=\"listing-final-partnumber as-link-if-js\" id=\"vew_partnumber[__GIP__3__]\" onclick='if (cataloglite.IsMobileAndNotExpanded(\"__GIP__3__\")) { return; } cataloglite.ShowBuyersGuidePopup(\"__GIP__3__\");' title=\"Buyer's Guide\">\n",
      "              UF575\n",
      "             </span>\n",
      "             <span class=\"span-link-underline-remover\">\n",
      "              Blue Streak\n",
      "             </span>\n",
      "             <a class=\"ra-btn ra-btn-moreinfo\" href=\"https://www.rockauto.com/en/moreinfo.php?pk=2415560&amp;cc=0&amp;pt=7060\" onclick='cataloglite.MoreInfoClick(this, \"__GIP__3__\"); AddSerializedCookieDataToHref(this);' rel=\"opener\" target=\"_blank\">\n",
      "              Info\n",
      "             </a>\n",
      "             <span class=\"truck ra-hide remove-for-print mouseover\" name=\"vew_whtruckicon[__GIP__3__][0-0-18-1]\" onclick=\"FAQpopup('/help/?page=2#MINSHIPCOST', &quot;Could ship from same location as parts in cart&quot;, null, this); RA.StopBubble(event); return false;\" title=\"Could ship from same location as parts in cart\">\n",
      "             </span>\n",
      "            </div>\n",
      "            <div class=\"listing-text-row\">\n",
      "             <span title=\"Please make sure this note matches your vehicle. A seemingly contradictory note (like &quot;Left; Right;&quot;) means the part fits either (left OR right) -- it does not mean you'll receive two parts. Please do not choose a part if the note does not describe your application (for example, if the note says &quot;Sedan&quot; and you have a station wagon).\">\n",
      "              <span class=\"listing-footnote-text\">\n",
      "               Category: Ignition Coil\n",
      "              </span>\n",
      "             </span>\n",
      "            </div>\n",
      "            <div>\n",
      "            </div>\n",
      "            <div>\n",
      "            </div>\n",
      "            <div>\n",
      "            </div>\n",
      "            <input autocomplete=\"off\" id=\"optionchoice[__GIP__3__]\" name=\"optionchoice[__GIP__3__]\" type=\"hidden\" value=\"0-0-18-1\"/>\n",
      "            <input autocomplete=\"off\" id=\"listing_data_essential[__GIP__3__]\" name=\"listing_data_essential[__GIP__3__]\" type=\"hidden\" value='{\"groupindex\":\"__GIP__3__\",\"carcode\":0,\"parttype\":\"7060\",\"partkey\":\"2415560\",\"opts\":{\"0-0-18-1\":{\"warehouse\":\"44840\",\"whpartnum\":\"SI UF-575\",\"optionlist\":\"0\",\"paramcode\":\"0\",\"notekey\":\"18\",\"multiple\":\"1\"}}}'/>\n",
      "            <input autocomplete=\"off\" id=\"listing_data_supplemental[__GIP__3__]\" type=\"hidden\" value='{\"partnumber\":\"UF575\",\"catalogname\":\"STANDARD MOTOR PRODUCTS\",\"belongstolisting\":\"__GIP__2__\",\"sortgroup\":0,\"sortgrouptext\":\"\",\"paramdesc\":\"\"}'/>\n",
      "            <input autocomplete=\"off\" id=\"mdl_whtruckicon[__GIP__3__][]\" type=\"hidden\" value=\"false\"/>\n",
      "            <input autocomplete=\"off\" id=\"mdl_chkalternate[__GIP__3__][]\" type=\"hidden\" value=\"false\"/>\n",
      "            <input autocomplete=\"off\" id=\"mdl_btnaddtocart[__GIP__3__][]\" type=\"hidden\" value=\"false\"/>\n",
      "            <input autocomplete=\"off\" id=\"mdl_btnpartincart[__GIP__3__][]\" type=\"hidden\" value=\"false\"/>\n",
      "            <input autocomplete=\"off\" id=\"lst_shipwhlist[__GIP__3__][0-0-18-1]\" type=\"hidden\" value='{\"52002\":52002,\"10462\":10462,\"20723\":20723,\"33411\":33411,\"11570\":11570,\"8854\":8854,\"92802\":92802,\"44056\":44056,\"21076\":21076,\"11377\":11377,\"7031\":7031,\"93722\":93722,\"44840\":44840,\"90660\":90660,\"30073\":30073,\"95815\":95815,\"92407\":92407,\"13502\":13502,\"13209\":13209,\"23842\":23842}'/>\n",
      "            <input autocomplete=\"off\" id=\"mdl_whtruckicon[__GIP__3__][0-0-18-1]\" type=\"hidden\" value=\"false\"/>\n",
      "            <input autocomplete=\"off\" id=\"mdl_btnaddtocart[__GIP__3__][0-0-18-1]\" type=\"hidden\" value=\"true\"/>\n",
      "            <input autocomplete=\"off\" id=\"mdl_btnpartincart[__GIP__3__][0-0-18-1]\" type=\"hidden\" value=\"false\"/>\n",
      "            <input autocomplete=\"off\" id=\"mdl_btnnotifyoos[__GIP__3__][0-0-18-1]\" type=\"hidden\" value=\"false\"/>\n",
      "            <input autocomplete=\"off\" id=\"mdl_chkalternate[__GIP__3__][0-0-18-1]\" type=\"hidden\" value=\"true\"/>\n",
      "            <input autocomplete=\"off\" name=\"ssk[__GIP__3__]\" type=\"hidden\" value=\"HPc6NY4sqMvPDBCrBav8qaBBTwlZK0asewnAX6MvoIir5gpawi+0mUL7bIlOCdfayDFAUWdbKTU=\"/>\n",
      "            <span style=\"display: none;\" title=\"Replaces these Alternate/ OE Part Numbers\">\n",
      "             06F905115E, 06F905115F, 06H905115, 06H905115A, 06H905115B, 07K905715, 07K905715A, 07K905715B, 07K905715C, 07K905715D, 07K905715E, 07K905715F, 07K905715G, 12336238, 13674387, 22433AA500, 22433AA580, 32005954, 3287677, 32876773, 33004272, 6H905115A, 6H905115B, 7K905715F, MD363552, T1031135, UF50, UF50T, UF523, UF538, UF539, UF566, UF588, UF623\n",
      "            </span>\n",
      "           </td>\n",
      "           <td class=\"listing-border-top-line listing-float-box-cell-shared\" rowspan=\"2\" style=\"text-align: right; \">\n",
      "            <div class=\"listing-image-space-occupy\">\n",
      "             <table class=\"tblz listing-image-table\" id=\"listing_image_table[__GIP__3__]\" style=\"\">\n",
      "              <tbody>\n",
      "               <tr>\n",
      "                <td class=\"listing-image-table-leftrightcol\">\n",
      "                 <div id=\"inlineimg_left_small[__GIP__3__]\">\n",
      "                  <img alt=\"&lt;\" class=\"listing-image-prevnext-image remove-for-print show-if-js\" id=\"inlineimgprevious[__GIP__3__]\" onclick='cataloglite.Listing_InlineImageManualScroll(\"__GIP__3__\", -1, false, false)' src=\"/catalog/images/prevIMGbig.png\" style=\" margin: .1em;\" title=\"Previous Image\"/>\n",
      "                 </div>\n",
      "                </td>\n",
      "                <td class=\"listing-image-table-centercol\">\n",
      "                 <div class=\"ra-hide\" id=\"inlineimgpositionancestor[__GIP__3__]\" style=\" position: relative; z-index: 1;\">\n",
      "                  <div class=\"listing-inlineimg_container listing-inline-image-border\" id=\"inlineimg_container[__GIP__3__]\" style=\"z-index: 1; text-align: center; background: #FFFFFF;\">\n",
      "                   <div class=\"listing-inline-image-popup-widget-title ra-hide\" id=\"inlineimg_containertitle[__GIP__3__]\" onmousedown='cataloglite.ImagePopupTitleMouseDown(\"__GIP__3__\")'>\n",
      "                    <div style=\"text-align: center; \">\n",
      "                     <span style=\"padding: 0 2em 0 2em;\">\n",
      "                      STANDARD MOTOR PRODUCTS UF575\n",
      "                     </span>\n",
      "                     <span style=\"position: absolute; right: 5px;\">\n",
      "                      <img alt=\"close\" onclick='cataloglite.Listing_InlineImagePopupInPlace(\"__GIP__3__\")' src=\"/catalog/images/close12_1.gif\" style=\"padding: .2em; cursor: pointer; display: block;\"/>\n",
      "                     </span>\n",
      "                    </div>\n",
      "                   </div>\n",
      "                   <div class=\"img-topper-container\" id=\"inlineimg_topper[__GIP__3__]\">\n",
      "                    <table class=\"tblz w100\">\n",
      "                     <tbody>\n",
      "                      <tr>\n",
      "                       <td class=\"pinched\" style=\"vertical-align: top;\">\n",
      "                        <div style=\"text-align: left; padding-right: .25em;\">\n",
      "                         <span id=\"inlineimg_left_big[__GIP__3__]\">\n",
      "                         </span>\n",
      "                        </div>\n",
      "                        <div class=\"listing-image-counter\">\n",
      "                         <div class=\"inner\" id=\"imagecounterdisplay[__GIP__3__]\">\n",
      "                         </div>\n",
      "                        </div>\n",
      "                       </td>\n",
      "                       <td style=\"vertical-align: top;\">\n",
      "                        <div class=\"img-carousel-titlephrase\" id=\"imgcarouseltitlephrase[__GIP__3__]\">\n",
      "                        </div>\n",
      "                        <div class=\"ra-hide\" id=\"inlineimg_container360menu[__GIP__3__]\" style=\"padding: .25em; margin-bottom: .5em;\">\n",
      "                         <div class=\"ra-bar-slider-bar-c\">\n",
      "                          <div class=\"ra-bar-slider-bar\" id=\"inlineimg_sliderbar[__GIP__3__]\" onmousedown='cataloglite.ImageSliderMouseDown(\"__GIP__3__\", event);' ontouchstart='cataloglite.ImageSliderMouseDown(\"__GIP__3__\", event);'>\n",
      "                           <span class=\"ra-bar-slider-slider\" id=\"inlineimg_slider[__GIP__3__]\">\n",
      "                           </span>\n",
      "                          </div>\n",
      "                         </div>\n",
      "                        </div>\n",
      "                       </td>\n",
      "                       <td class=\"pinched\" style=\"vertical-align: top; text-align: right;\">\n",
      "                        <div style=\"padding-left: .25em;\">\n",
      "                         <span id=\"inlineimg_right_big[__GIP__3__]\">\n",
      "                         </span>\n",
      "                        </div>\n",
      "                       </td>\n",
      "                      </tr>\n",
      "                     </tbody>\n",
      "                    </table>\n",
      "                   </div>\n",
      "                   <div class=\"inlineimg_containersizer ra-hide\" id=\"inlineimg_containersizer[__GIP__3__]\" onclick='cataloglite.Listing_InlineImagePopupInPlace(\"__GIP__3__\")' style=\" cursor: pointer;\">\n",
      "                    <img alt=\"Part image\" class=\"listing-inline-image\" id=\"inlineimg[__GIP__3__]\" src=\"/info/154/UF-575_Front__ra_m.jpg\"/>\n",
      "                   </div>\n",
      "                  </div>\n",
      "                 </div>\n",
      "                 <img alt=\"Part image\" class=\"listing-inline-image listing-inline-image-thumb listing-inline-image-border\" id=\"inlineimg_thumb[__GIP__3__]\" onclick='cataloglite.Listing_InlineImagePopupInPlace(\"__GIP__3__\")' src=\"/info/154/UF-575_Front__ra_m.jpg\" style=\"cursor: pointer;\" switch-to-highres=\"1\"/>\n",
      "                </td>\n",
      "                <td class=\"listing-image-table-leftrightcol\">\n",
      "                 <div id=\"inlineimg_right_small[__GIP__3__]\">\n",
      "                  <img alt=\"&gt;\" class=\"listing-image-prevnext-image show-if-js remove-for-print\" id=\"inlineimgnext[__GIP__3__]\" name=\"inlnimgnextbtn\" onclick='cataloglite.Listing_InlineImageManualScroll(\"__GIP__3__\", 1, false, false)' src=\"/catalog/images/nextIMGbig.png\" style=\" margin: .1em;\" title=\"Next Image\"/>\n",
      "                 </div>\n",
      "                </td>\n",
      "               </tr>\n",
      "              </tbody>\n",
      "             </table>\n",
      "             <input autocomplete=\"off\" id=\"jsninlineimg[__GIP__3__]\" type=\"hidden\" value='{\"Size\":\"Thumb\",\"SlotIndex\":0,\"Slots\":[{\"TitlePhrase\":null,\"ParamCodes\":[null],\"Type\":\"Single\",\"ImageData\":{\"Thumb\":\"\\/info\\/154\\/UF-575_Front__ra_m.jpg\",\"Popup\":\"\\/info\\/154\\/UF-575_Front.jpg\",\"Full\":\"\\/info\\/154\\/UF-575_Front.jpg\"}},{\"TitlePhrase\":null,\"ParamCodes\":[null],\"Type\":\"Single\",\"ImageData\":{\"Thumb\":\"\\/info\\/154\\/UF-575_Angle__ra_m.jpg\",\"Popup\":\"\\/info\\/154\\/UF-575_Angle.jpg\",\"Full\":\"\\/info\\/154\\/UF-575_Angle.jpg\"}},{\"TitlePhrase\":null,\"ParamCodes\":[null],\"Type\":\"Single\",\"ImageData\":{\"Thumb\":\"\\/info\\/154\\/UF-575_Bottom__ra_m.jpg\",\"Popup\":\"\\/info\\/154\\/UF-575_Bottom.jpg\",\"Full\":\"\\/info\\/154\\/UF-575_Bottom.jpg\"}},{\"TitlePhrase\":null,\"ParamCodes\":[null],\"Type\":\"Single\",\"ImageData\":{\"Thumb\":\"\\/info\\/154\\/UF-575_Connector__ra_m.jpg\",\"Popup\":\"\\/info\\/154\\/UF-575_Connector.jpg\",\"Full\":\"\\/info\\/154\\/UF-575_Connector.jpg\"}},{\"TitlePhrase\":null,\"ParamCodes\":[null],\"Type\":\"Single\",\"ImageData\":{\"Thumb\":\"\\/info\\/154\\/UF-575_Left__ra_m.jpg\",\"Popup\":\"\\/info\\/154\\/UF-575_Left.jpg\",\"Full\":\"\\/info\\/154\\/UF-575_Left.jpg\"}},{\"TitlePhrase\":null,\"ParamCodes\":[null],\"Type\":\"Single\",\"ImageData\":{\"Thumb\":\"\\/info\\/154\\/UF-575_Right__ra_m.jpg\",\"Popup\":\"\\/info\\/154\\/UF-575_Right.jpg\",\"Full\":\"\\/info\\/154\\/UF-575_Right.jpg\"}},{\"TitlePhrase\":null,\"ParamCodes\":[null],\"Type\":\"Single\",\"ImageData\":{\"Thumb\":\"\\/info\\/154\\/UF-575_Top__ra_m.jpg\",\"Popup\":\"\\/info\\/154\\/UF-575_Top.jpg\",\"Full\":\"\\/info\\/154\\/UF-575_Top.jpg\"}}]}'/>\n",
      "            </div>\n",
      "           </td>\n",
      "           <td class=\"listing-border-top-line listing-float-box-cell-shared listing-float-box-cell-more-padding\" colspan=\"4\" id=\"listingtd[__GIP__3__][price]\" style=\"height: 1px; text-align: center; \">\n",
      "            <span class=\"\" id=\"dprice[__GIP__3__][td]\">\n",
      "             <span class=\"ra-formatted-amount listing-price listing-amount-bold\">\n",
      "              <span id=\"dprice[__GIP__3__][v]\">\n",
      "               <span class=\"map-price-text\">\n",
      "                Add to Cart to See Price\n",
      "               </span>\n",
      "              </span>\n",
      "             </span>\n",
      "            </span>\n",
      "           </td>\n",
      "           <td class=\"ra-hide listing-border-top-line listing-float-box-cell-shared listing-float-box-cell-more-padding\" id=\"listingtd[__GIP__3__][core]\" style=\"height: 1px; text-align: center; \">\n",
      "            <span class=\"\" id=\"dcore[__GIP__3__][td]\">\n",
      "             <span class=\"ra-formatted-amount listing-core\">\n",
      "              <span id=\"dcore[__GIP__3__][v]\">\n",
      "              </span>\n",
      "             </span>\n",
      "            </span>\n",
      "           </td>\n",
      "           <td class=\"ra-hide listing-border-top-line listing-float-box-cell-shared listing-float-box-cell-more-padding\" id=\"listingtd[__GIP__3__][pack]\" style=\"height: 1px; text-align: center; \">\n",
      "            <span id=\"dpack[__GIP__3__][v]\">\n",
      "            </span>\n",
      "           </td>\n",
      "           <td class=\"ra-hide listing-border-top-line listing-float-box-cell-shared listing-float-box-cell-more-padding\" id=\"listingtd[__GIP__3__][total]\" style=\"height: 1px; text-align: center; \">\n",
      "            <span class=\"listing-amount-bold\" id=\"dtotal[__GIP__3__][td]\">\n",
      "             <span class=\"ra-formatted-amount listing-total\">\n",
      "              <span id=\"dtotal[__GIP__3__][v]\">\n",
      "              </span>\n",
      "             </span>\n",
      "            </span>\n",
      "           </td>\n",
      "           <td class=\"listing-border-top-line listing-float-box-cell-shared\" rowspan=\"2\" style=\"text-align: center; \">\n",
      "           </td>\n",
      "          </tr>\n",
      "          <tr>\n",
      "           <td class=\"listing-float-box-cell-shared\" colspan=\"4\" style=\"text-align: right;\">\n",
      "            <div style=\"padding-top: .25em; padding-bottom: .1em;\">\n",
      "             <div class=\"listing-quantity-adjustment ib remove-for-print show-if-js\">\n",
      "              <input autocomplete=\"off\" id=\"listingoptkeytomultiple[__GIP__3__]\" type=\"hidden\" value='{\"0-0-18-1\":\"1\"}'/>\n",
      "              <input autocomplete=\"off\" id=\"listingoptkeytolinenumber[__GIP__3__]\" type=\"hidden\" value='{\"0-0-18-1\":null}'/>\n",
      "              <input autocomplete=\"off\" id=\"listingoptkeytoqtyincart[__GIP__3__]\" type=\"hidden\" value='{\"0-0-18-1\":null}'/>\n",
      "              <input autocomplete=\"off\" id=\"listingoptkeytoalternateid[__GIP__3__]\" type=\"hidden\" value='{\"0-0-18-1\":null}'/>\n",
      "              <table class=\"tblz di tbl-input-button-attached\" id=\"listingquantitytable[__GIP__3__]\">\n",
      "               <tbody>\n",
      "                <tr>\n",
      "                 <td class=\"td-button-left\" style=\"text-align: right;\">\n",
      "                  <div class=\"qty-adjust-button\" onclick='cataloglite.ListingQuantityUpdate(\"__GIP__3__\", -1);' style=\"border-top-left-radius: 4px; border-bottom-left-radius: 4px;\">\n",
      "                   <img alt=\"\" class=\"nobmp vmiddle\" src=\"/Images/mobile/qty_down_white.png\"/>\n",
      "                  </div>\n",
      "                 </td>\n",
      "                 <td class=\"td-input\">\n",
      "                  <label for=\"raquantity[__GIP__3__]\" style=\"display:none;\">\n",
      "                   Quantity\n",
      "                  </label>\n",
      "                  <input aria-label=\"Quantity\" autocapitalize=\"off\" autocomplete=\"off\" autocorrect=\"off\" class=\"input-quantity ib\" data-autofill=\"block\" id=\"raquantity[__GIP__3__]\" maxlength=\"5\" name=\"raquantity[__GIP__3__]\" onchange='cataloglite.ListingQuantityUpdate(\"__GIP__3__\");' onkeypress='return RA.InterceptEnter(event, function(){RA.ByName(\"raquantity[__GIP__3__]\")[0].blur()});' spellcheck=\"false\" style=\"text-align: center; width: 2em; padding-left: 0;\" type=\"text\" value=\"1\"/>\n",
      "                 </td>\n",
      "                 <td class=\"td-button-right\">\n",
      "                  <div class=\"qty-adjust-button\" onclick='cataloglite.ListingQuantityUpdate(\"__GIP__3__\", 1);' style=\"border-top-right-radius: 4px; border-bottom-right-radius: 4px;\">\n",
      "                   <img alt=\"\" class=\"nobmp vmiddle\" src=\"/Images/mobile/qty_up_white.png\"/>\n",
      "                  </div>\n",
      "                 </td>\n",
      "                </tr>\n",
      "               </tbody>\n",
      "              </table>\n",
      "             </div>\n",
      "             <div class=\"catalog-listing-buttons-wrapper ib\" style=\"min-width:105px;\">\n",
      "              <div class=\"vew_btnaddtocart remove-for-print\" id=\"vew_btnaddtocart[__GIP__3__]\">\n",
      "               <input class=\"hide-if-js ra-btn ra-btn-size-normal ra-btn-color-hotgreen\" id=\"addpart[__GIP__3__]\" name=\"addpart[__GIP__3__]\" onclick=\"cataloglite.ShowLoadingOverlay(null, 'PK_ADDINGPARTTOCART'); return cataloglite.Cart.AddPartWhenReady(&quot;__GIP__3__&quot;);\" type=\"submit\" value=\"Add to Cart &gt;\"/>\n",
      "               <a class=\"show-if-js ra-btn ra-btn-color-hotgreen ra-btn-size-normal ra-btn-add-part\" href=\"#\" onclick=\"RA.Click('addpart[__GIP__3__]'); return false;\" style=\"display: inline-block;\">\n",
      "                <span class=\"la-btn-v\">\n",
      "                 Add to Cart\n",
      "                </span>\n",
      "                <img alt=\"\" class=\"la-btn-v\" src=\"/Images/mobile/right_arrow_white.png\" style=\"height: 1em; margin-left: .25em;\"/>\n",
      "               </a>\n",
      "              </div>\n",
      "              <div class=\"vew_btnpartincart remove-for-print ra-hide\" id=\"vew_btnpartincart[__GIP__3__]\">\n",
      "               <input class=\"ra-btn ra-btn-size-normal ra-btn-part-in-cart\" name=\"addpart[__GIP__3__]\" onclick=\"cataloglite.Cart.ShowPartAlreadyInCart(__GIP__3__); return false;\" type=\"submit\" value=\"Part In Cart\"/>\n",
      "              </div>\n",
      "              <div class=\"vew_btnnotifyoos remove-for-print ra-hide show-if-js\" id=\"vew_btnnotifyoos[__GIP__3__]\">\n",
      "               <input class=\"ra-btn ra-btn-size-normal ra-btn-color-darkblue\" onclick='cataloglite.GetAvailabilityAlertForOOSPart(\"__GIP__3__\");' type=\"button\" value=\"Notify Me When Available\"/>\n",
      "              </div>\n",
      "             </div>\n",
      "            </div>\n",
      "           </td>\n",
      "          </tr>\n",
      "         </tbody>\n",
      "        </table>\n",
      "        <div class=\"listing-filter-bottom-message ra-hide\" id=\"listingfiltermessage[__GIP__2__]\">\n",
      "        </div>\n",
      "        <input autocomplete=\"off\" id=\"part_groupindexes_in_this_listing[__GIP__2__]\" type=\"hidden\" value='[\"__GIP__3__\"]'/>\n",
      "       </div>\n",
      "      </div>\n",
      "     </form>\n",
      "    </div>\n",
      "   </div>\n",
      "  </div>\n",
      " </body>\n",
      "</html>\n",
      "\n"
     ]
    }
   ],
   "source": [
    "soup = BeautifulSoup(dict_2['searchnoderesults'], 'html5lib')\n",
    "\n",
    "with open('./1.part.html', 'w', encoding='utf-8') as file:\n",
    "    file.write(str(soup))\n",
    "\n",
    "print(soup.prettify())"
   ]
  },
  {
   "cell_type": "code",
   "execution_count": 9,
   "id": "6743cbe3-e424-4e2b-8b05-d2e08b55a382",
   "metadata": {},
   "outputs": [],
   "source": [
    "from parsel import Selector"
   ]
  },
  {
   "cell_type": "code",
   "execution_count": 10,
   "id": "1f667f65-e3ba-4820-bd62-fa0ad1379f37",
   "metadata": {},
   "outputs": [
    {
     "data": {
      "text/plain": [
       "<Selector query=None data='<html><head></head><body><div class=\"...'>"
      ]
     },
     "execution_count": 10,
     "metadata": {},
     "output_type": "execute_result"
    }
   ],
   "source": [
    "selector = Selector(text=str(soup))\n",
    "\n",
    "selector"
   ]
  },
  {
   "cell_type": "code",
   "execution_count": 11,
   "id": "f26d0753-73c3-4dd5-b1d1-dd6eb1ecf293",
   "metadata": {},
   "outputs": [
    {
     "data": {
      "text/plain": [
       "[<Selector query='//tbody[contains(@id, \"listingcontainer[__GIP__\")]' data='<tbody class=\"listing-inner altrow-a-...'>]"
      ]
     },
     "execution_count": 11,
     "metadata": {},
     "output_type": "execute_result"
    }
   ],
   "source": [
    "list_tbody = selector.xpath('//tbody[contains(@id, \"listingcontainer[__GIP__\")]')\n",
    "\n",
    "list_tbody"
   ]
  },
  {
   "cell_type": "code",
   "execution_count": 12,
   "id": "76cb0781-d376-470c-b54a-831832bc9847",
   "metadata": {},
   "outputs": [],
   "source": [
    "import json"
   ]
  },
  {
   "cell_type": "code",
   "execution_count": 13,
   "id": "cf5d2370-9739-429b-a4dc-7a749ad08988",
   "metadata": {},
   "outputs": [
    {
     "data": {
      "text/plain": [
       "[{'groupindex': '__GIP__3__',\n",
       "  'carcode': 0,\n",
       "  'parttype': '7060',\n",
       "  'partkey': '2415560',\n",
       "  'opts': {'0-0-18-1': {'warehouse': '44840',\n",
       "    'whpartnum': 'SI UF-575',\n",
       "    'optionlist': '0',\n",
       "    'paramcode': '0',\n",
       "    'notekey': '18',\n",
       "    'multiple': '1'}}}]"
      ]
     },
     "execution_count": 13,
     "metadata": {},
     "output_type": "execute_result"
    }
   ],
   "source": [
    "list_dict_2 = [json.loads(tbody.xpath('./tr[1]/td[contains(@class, \"listing-inner-content\")]/input[contains(@id, \"listing_data_essential[__GIP__\")]/@value').get()) for tbody in list_tbody]\n",
    "\n",
    "list_dict_2"
   ]
  },
  {
   "cell_type": "code",
   "execution_count": 14,
   "id": "02152fee-1d6a-4b2f-9d22-1f3fc8247c88",
   "metadata": {},
   "outputs": [
    {
     "data": {
      "text/plain": [
       "(['7060'], ['2415560'])"
      ]
     },
     "execution_count": 14,
     "metadata": {},
     "output_type": "execute_result"
    }
   ],
   "source": [
    "list_type_code, list_part_code = [dict_2['parttype'] for dict_2 in list_dict_2], [dict_2['partkey'] for dict_2 in list_dict_2]\n",
    "\n",
    "list_type_code, list_part_code"
   ]
  },
  {
   "cell_type": "code",
   "execution_count": 15,
   "id": "455798f2-fc7d-4452-892c-6e6d368bedd9",
   "metadata": {},
   "outputs": [],
   "source": [
    "import numpy as np"
   ]
  },
  {
   "cell_type": "code",
   "execution_count": 16,
   "id": "e21beb3e-41ea-4ca2-9830-6833766213d4",
   "metadata": {},
   "outputs": [
    {
     "data": {
      "text/plain": [
       "array([0])"
      ]
     },
     "execution_count": 16,
     "metadata": {},
     "output_type": "execute_result"
    }
   ],
   "source": [
    "array_index_type_code = np.where(np.array(list_type_code) == dict_['type_code'])[0]\n",
    "\n",
    "array_index_type_code"
   ]
  },
  {
   "cell_type": "code",
   "execution_count": 17,
   "id": "7addc6a2-d794-4a7a-9c04-95c989191c25",
   "metadata": {},
   "outputs": [
    {
     "data": {
      "text/plain": [
       "[{'partnumber': 'UF575',\n",
       "  'catalogname': 'STANDARD MOTOR PRODUCTS',\n",
       "  'belongstolisting': '__GIP__2__',\n",
       "  'sortgroup': 0,\n",
       "  'sortgrouptext': '',\n",
       "  'paramdesc': ''}]"
      ]
     },
     "execution_count": 17,
     "metadata": {},
     "output_type": "execute_result"
    }
   ],
   "source": [
    "list_dict_3 = [json.loads(tbody.xpath('./tr[1]/td[contains(@class, \"listing-inner-content\")]/input[contains(@id, \"listing_data_supplemental[__GIP__\")]/@value').get()) for tbody in list_tbody]\n",
    "\n",
    "list_dict_3"
   ]
  },
  {
   "cell_type": "code",
   "execution_count": 18,
   "id": "ffdf1d13-8d74-4d79-bc15-0301062ca7c3",
   "metadata": {},
   "outputs": [
    {
     "data": {
      "text/plain": [
       "(['UF575'], ['STANDARD MOTOR PRODUCTS'], [''])"
      ]
     },
     "execution_count": 18,
     "metadata": {},
     "output_type": "execute_result"
    }
   ],
   "source": [
    "list_part_number, list_manufacturer, list_choose = [dict_3['partnumber'] for dict_3 in list_dict_3], [dict_3['catalogname'] for dict_3 in list_dict_3], [dict_3['paramdesc'] for dict_3 in list_dict_3]\n",
    "\n",
    "list_part_number, list_manufacturer, list_choose"
   ]
  },
  {
   "cell_type": "code",
   "execution_count": 19,
   "id": "18379526-257a-4bb8-806b-104620678008",
   "metadata": {},
   "outputs": [
    {
     "data": {
      "text/plain": [
       "(array([0]), array([0]))"
      ]
     },
     "execution_count": 19,
     "metadata": {},
     "output_type": "execute_result"
    }
   ],
   "source": [
    "array_index_part_number, array_index_manufacturer = np.where(np.array(list_part_number) == dict_['part_number'])[0], np.where(np.array(list_manufacturer) == dict_['manufacturer'])[0]\n",
    "\n",
    "array_index_part_number, array_index_manufacturer"
   ]
  },
  {
   "cell_type": "code",
   "execution_count": 20,
   "id": "08a832cc-65e2-4ae1-9243-357082bba31b",
   "metadata": {},
   "outputs": [
    {
     "data": {
      "text/plain": [
       "array([0])"
      ]
     },
     "execution_count": 20,
     "metadata": {},
     "output_type": "execute_result"
    }
   ],
   "source": [
    "array_index_part = np.intersect1d(np.intersect1d(array_index_type_code, array_index_part_number), array_index_manufacturer)\n",
    "\n",
    "array_index_part"
   ]
  },
  {
   "cell_type": "code",
   "execution_count": 21,
   "id": "307efbdd-5a78-4cf6-8ee7-ff7570c4a9bb",
   "metadata": {},
   "outputs": [
    {
     "data": {
      "text/plain": [
       "np.int64(0)"
      ]
     },
     "execution_count": 21,
     "metadata": {},
     "output_type": "execute_result"
    }
   ],
   "source": [
    "if array_index_part.size == 1:\n",
    "    index_part = array_index_part[0]\n",
    "\n",
    "index_part"
   ]
  },
  {
   "cell_type": "code",
   "execution_count": 22,
   "id": "f6aa055c-e3d4-4242-942e-bdeea5918831",
   "metadata": {},
   "outputs": [],
   "source": [
    "from lxml import etree\n",
    "import re\n",
    "import html"
   ]
  },
  {
   "cell_type": "code",
   "execution_count": 23,
   "id": "6277ffb9-c5b9-45eb-af52-c35792d27506",
   "metadata": {},
   "outputs": [
    {
     "data": {
      "text/plain": [
       "{'0': 'Blue Streak'}"
      ]
     },
     "execution_count": 23,
     "metadata": {},
     "output_type": "execute_result"
    }
   ],
   "source": [
    "dict_sidenote, i, list_span = {}, 0, list_tbody[index_part].xpath('./tr[1]/td[contains(@class, \"listing-inner-content\")]/div[@class=\"listing-text-row-moreinfo-truck\"]/span[@class=\"span-link-underline-remover\"]')\n",
    "for span in list_span:\n",
    "    sidenote = etree.tostring(span.root).decode('utf-8')\n",
    "    sidenote = re.sub(r'<.*?>', '', sidenote)\n",
    "    sidenote = re.sub(r' +', ' ', sidenote)\n",
    "    sidenote = html.unescape(sidenote).strip()\n",
    "    if sidenote != '':\n",
    "        dict_sidenote[str(i)] = sidenote\n",
    "        i += 1\n",
    "\n",
    "dict_sidenote"
   ]
  },
  {
   "cell_type": "code",
   "execution_count": 24,
   "id": "b4ccafd5-6a07-437e-8630-123c82c159e0",
   "metadata": {},
   "outputs": [
    {
     "data": {
      "text/plain": [
       "'https://www.rockauto.com/en/moreinfo.php?pk=2415560&cc=0&pt=7060'"
      ]
     },
     "execution_count": 24,
     "metadata": {},
     "output_type": "execute_result"
    }
   ],
   "source": [
    "list_a = list_tbody[index_part].xpath('./tr[1]/td[contains(@class, \"listing-inner-content\")]/div[@class=\"listing-text-row-moreinfo-truck\"]/a[@class=\"ra-btn ra-btn-moreinfo\"]')\n",
    "info_url = list_a[0].xpath('./@href').get() if list_a else ''\n",
    "info_url = info_url if info_url.startswith('https://www.rockauto.com/en/moreinfo.php?') else f'https://www.rockauto.com/en/moreinfo.php?pk={list_part_code[index_part]}&pt={list_type_code[index_part]}&Leif=1'\n",
    "\n",
    "info_url"
   ]
  },
  {
   "cell_type": "code",
   "execution_count": 25,
   "id": "bc9dcb7a-56ac-4304-b033-6a5826997b9a",
   "metadata": {},
   "outputs": [
    {
     "data": {
      "text/plain": [
       "{'0': 'Category: Ignition Coil'}"
      ]
     },
     "execution_count": 25,
     "metadata": {},
     "output_type": "execute_result"
    }
   ],
   "source": [
    "dict_footnote, i, list_span = {}, 0, list_tbody[index_part].xpath('./tr[1]/td[contains(@class, \"listing-inner-content\")]/div[@class=\"listing-text-row\"]/span[contains(@title, \"Please make sure\")]/span[@class=\"listing-footnote-text\"]')\n",
    "for span in list_span:\n",
    "    footnote = etree.tostring(span.root).decode('utf-8')\n",
    "    footnote = re.sub(r'<.*?>', '', footnote)\n",
    "    footnote = re.sub(r' +', ' ', footnote)\n",
    "    footnote = html.unescape(footnote).strip()\n",
    "    if footnote != '':\n",
    "        dict_footnote[str(i)] = footnote\n",
    "        i += 1\n",
    "\n",
    "dict_footnote"
   ]
  },
  {
   "cell_type": "code",
   "execution_count": 26,
   "id": "3dac395e-ac4d-431f-95fa-d9baedc46ad4",
   "metadata": {
    "scrolled": true
   },
   "outputs": [
    {
     "data": {
      "text/plain": [
       "['06F905115E',\n",
       " '06F905115F',\n",
       " '06H905115',\n",
       " '06H905115A',\n",
       " '06H905115B',\n",
       " '07K905715',\n",
       " '07K905715A',\n",
       " '07K905715B',\n",
       " '07K905715C',\n",
       " '07K905715D',\n",
       " '07K905715E',\n",
       " '07K905715F',\n",
       " '07K905715G',\n",
       " '12336238',\n",
       " '13674387',\n",
       " '22433AA500',\n",
       " '22433AA580',\n",
       " '32005954',\n",
       " '3287677',\n",
       " '32876773',\n",
       " '33004272',\n",
       " '6H905115A',\n",
       " '6H905115B',\n",
       " '7K905715F',\n",
       " 'MD363552',\n",
       " 'T1031135',\n",
       " 'UF50',\n",
       " 'UF50T',\n",
       " 'UF523',\n",
       " 'UF538',\n",
       " 'UF539',\n",
       " 'UF566',\n",
       " 'UF588',\n",
       " 'UF623']"
      ]
     },
     "execution_count": 26,
     "metadata": {},
     "output_type": "execute_result"
    }
   ],
   "source": [
    "list_oem, list_str_oem = [], list_tbody[index_part].xpath('./tr[1]/td[contains(@class, \"listing-inner-content\")]/span[contains(@title, \"Replaces these Alternate\")]/text()').getall()\n",
    "for str_oem in list_str_oem:\n",
    "    list_oem_temp = [oem.strip() for oem in str_oem.split(',')]\n",
    "    for oem in list_oem_temp:\n",
    "        if oem != '' and oem not in list_oem:\n",
    "            list_oem.append(oem)\n",
    "\n",
    "list_oem"
   ]
  },
  {
   "cell_type": "code",
   "execution_count": 27,
   "id": "c65c6378-65e2-411b-b81a-2c5265e94d85",
   "metadata": {},
   "outputs": [],
   "source": [
    "from urllib.parse import urljoin"
   ]
  },
  {
   "cell_type": "code",
   "execution_count": 28,
   "id": "e3c06745-fbc5-4c3e-84c2-fb42984496aa",
   "metadata": {},
   "outputs": [
    {
     "data": {
      "text/plain": [
       "{'0': 'https://www.rockauto.com/info/154/UF-575_Front.jpg',\n",
       " '1': 'https://www.rockauto.com/info/154/UF-575_Angle.jpg',\n",
       " '2': 'https://www.rockauto.com/info/154/UF-575_Bottom.jpg',\n",
       " '3': 'https://www.rockauto.com/info/154/UF-575_Connector.jpg',\n",
       " '4': 'https://www.rockauto.com/info/154/UF-575_Left.jpg',\n",
       " '5': 'https://www.rockauto.com/info/154/UF-575_Right.jpg',\n",
       " '6': 'https://www.rockauto.com/info/154/UF-575_Top.jpg'}"
      ]
     },
     "execution_count": 28,
     "metadata": {},
     "output_type": "execute_result"
    }
   ],
   "source": [
    "dict_src, i, list_value = {}, 0, list_tbody[index_part].xpath('./tr[1]/td/div[contains(@class, \"listing-image-space-occupy\")]/input[contains(@id, \"jsninlineimg[__GIP__\")]/@value').getall()\n",
    "for value in list_value:\n",
    "    list_src = json.loads(value).get('Slots', None)\n",
    "    for src in list_src:\n",
    "        dict_src[str(i)] = urljoin(dict_['url'], src['ImageData']['Full'].strip())\n",
    "        i += 1\n",
    "\n",
    "dict_src"
   ]
  },
  {
   "cell_type": "code",
   "execution_count": 29,
   "id": "8a9bbd39-1514-4f8a-9e65-f76ea66ddec1",
   "metadata": {},
   "outputs": [
    {
     "data": {
      "text/plain": [
       "{'default': 'Add to Cart to See Price'}"
      ]
     },
     "execution_count": 29,
     "metadata": {},
     "output_type": "execute_result"
    }
   ],
   "source": [
    "span = list_tbody[index_part].xpath('./tr[1]/td[contains(@id, \"listingtd[__GIP__\") and contains(@id, \"__][price]\")]/span[contains(@id, \"dprice[__GIP__\") and contains(@id, \"__][td]\")]/span/span[contains(@id, \"dprice[__GIP__\") and contains(@id, \"__][v]\")]')[0]\n",
    "price = etree.tostring(span.root).decode('utf-8')\n",
    "price = re.sub(r'<.*?>', '', price)\n",
    "price = re.sub(r' +', ' ', price)\n",
    "price = html.unescape(price).strip()\n",
    "dict_price = {'default': price}\n",
    "\n",
    "i, list_td = 0, list_tbody[index_part].xpath('./tr[1]/td[contains(@class, \"listing-inner-content\")]/div/div[contains(@class, \"listing-optionchoice-multiple-container\")]/span[contains(@id, \"ddrepl[optionchoice[__GIP__\") and contains(@id, \"__]][container]\")]/span[@class=\"hide-if-js\"]/select[contains(@id, \"optionchoice[__GIP__\")]/option[@value!=\"\"]')\n",
    "for td in list_td:\n",
    "    price = etree.tostring(td.root).decode('utf-8')\n",
    "    price = re.sub(r'<.*?>', '', price)\n",
    "    price = re.sub(r' +', ' ', price)\n",
    "    price = html.unescape(price).strip()\n",
    "    if price != '':\n",
    "        if i == 0:\n",
    "            dict_price['choose'] = {}\n",
    "        dict_price['choose'][str(i)] = price\n",
    "        i += 1\n",
    "\n",
    "dict_price"
   ]
  },
  {
   "cell_type": "code",
   "execution_count": 30,
   "id": "766b14e6-fd86-4861-9f34-dad5b81e3a93",
   "metadata": {},
   "outputs": [
    {
     "data": {
      "text/plain": [
       "{'no': 1,\n",
       " 'reference': 1,\n",
       " 'manufacturer': 'STANDARD MOTOR PRODUCTS',\n",
       " 'part_number': 'UF575',\n",
       " 'type_code': '7060',\n",
       " 'picture': '',\n",
       " 'url': 'https://www.rockauto.com/en/parts/STANDARD MOTOR PRODUCTS,UF575,Leif,7060',\n",
       " 'part_code': '2415560',\n",
       " 'join_mpntcpc': 'STANDARD MOTOR PRODUCTS;UF575;7060;2415560',\n",
       " 'choose': '',\n",
       " 'json_sidenote': '{\"0\": \"Blue Streak\"}',\n",
       " 'info_url': 'https://www.rockauto.com/en/moreinfo.php?pk=2415560&cc=0&pt=7060',\n",
       " 'json_footnote': '{\"0\": \"Category: Ignition Coil\"}',\n",
       " 'oem': '06F905115E;06F905115F;06H905115;06H905115A;06H905115B;07K905715;07K905715A;07K905715B;07K905715C;07K905715D;07K905715E;07K905715F;07K905715G;12336238;13674387;22433AA500;22433AA580;32005954;3287677;32876773;33004272;6H905115A;6H905115B;7K905715F;MD363552;T1031135;UF50;UF50T;UF523;UF538;UF539;UF566;UF588;UF623',\n",
       " 'json_src': '{\"0\": \"https://www.rockauto.com/info/154/UF-575_Front.jpg\", \"1\": \"https://www.rockauto.com/info/154/UF-575_Angle.jpg\", \"2\": \"https://www.rockauto.com/info/154/UF-575_Bottom.jpg\", \"3\": \"https://www.rockauto.com/info/154/UF-575_Connector.jpg\", \"4\": \"https://www.rockauto.com/info/154/UF-575_Left.jpg\", \"5\": \"https://www.rockauto.com/info/154/UF-575_Right.jpg\", \"6\": \"https://www.rockauto.com/info/154/UF-575_Top.jpg\"}',\n",
       " 'json_price': '{\"default\": \"Add to Cart to See Price\"}'}"
      ]
     },
     "execution_count": 30,
     "metadata": {},
     "output_type": "execute_result"
    }
   ],
   "source": [
    "{'no': dict_['no'],\n",
    " 'reference': dict_['reference'],\n",
    " 'manufacturer': dict_['manufacturer'],\n",
    " 'part_number': dict_['part_number'],\n",
    " 'type_code': dict_['type_code'],\n",
    " 'picture': '',\n",
    " 'url': f'''https://www.rockauto.com/en/parts/{dict_['manufacturer']},{dict_['part_number']},Leif,{dict_['type_code']}''',\n",
    " 'part_code': list_part_code[index_part],\n",
    " 'join_mpntcpc': f'''{dict_['manufacturer']};{dict_['part_number']};{dict_['type_code']};{list_part_code[index_part]}''',\n",
    " 'choose': list_choose[index_part],\n",
    " 'json_sidenote': json.dumps(dict_sidenote),\n",
    " 'info_url': info_url,\n",
    " 'json_footnote': json.dumps(dict_footnote),\n",
    " 'oem': ';'.join(list_oem),\n",
    " 'json_src': json.dumps(dict_src),\n",
    " 'json_price': json.dumps(dict_price)}"
   ]
  },
  {
   "cell_type": "code",
   "execution_count": null,
   "id": "e8a4b373-f00a-47e2-ad6b-a82573b82f4d",
   "metadata": {},
   "outputs": [],
   "source": []
  }
 ],
 "metadata": {
  "kernelspec": {
   "display_name": "Python 3 (ipykernel)",
   "language": "python",
   "name": "python3"
  },
  "language_info": {
   "codemirror_mode": {
    "name": "ipython",
    "version": 3
   },
   "file_extension": ".py",
   "mimetype": "text/x-python",
   "name": "python",
   "nbconvert_exporter": "python",
   "pygments_lexer": "ipython3",
   "version": "3.12.7"
  }
 },
 "nbformat": 4,
 "nbformat_minor": 5
}
