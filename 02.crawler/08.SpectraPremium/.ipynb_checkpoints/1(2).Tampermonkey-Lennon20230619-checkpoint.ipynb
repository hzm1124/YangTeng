{
 "cells": [
  {
   "cell_type": "code",
   "execution_count": 1,
   "id": "14ca4672",
   "metadata": {},
   "outputs": [],
   "source": [
    "import os"
   ]
  },
  {
   "cell_type": "code",
   "execution_count": 2,
   "id": "a3369d1a",
   "metadata": {},
   "outputs": [
    {
     "data": {
      "text/plain": [
       "12"
      ]
     },
     "execution_count": 2,
     "metadata": {},
     "output_type": "execute_result"
    }
   ],
   "source": [
    "list_file = list(os.walk('./menu'))[0][2]\n",
    "if '.DS_Store' in list_file:\n",
    "   list_file.remove('.DS_Store')\n",
    "\n",
    "len(list_file)"
   ]
  },
  {
   "cell_type": "code",
   "execution_count": 3,
   "id": "552c5c8c",
   "metadata": {},
   "outputs": [],
   "source": [
    "import pandas as pd"
   ]
  },
  {
   "cell_type": "code",
   "execution_count": 4,
   "id": "19a50da8",
   "metadata": {},
   "outputs": [
    {
     "data": {
      "text/html": [
       "<div>\n",
       "<style scoped>\n",
       "    .dataframe tbody tr th:only-of-type {\n",
       "        vertical-align: middle;\n",
       "    }\n",
       "\n",
       "    .dataframe tbody tr th {\n",
       "        vertical-align: top;\n",
       "    }\n",
       "\n",
       "    .dataframe thead th {\n",
       "        text-align: right;\n",
       "    }\n",
       "</style>\n",
       "<table border=\"1\" class=\"dataframe\">\n",
       "  <thead>\n",
       "    <tr style=\"text-align: right;\">\n",
       "      <th></th>\n",
       "      <th>Part_Number</th>\n",
       "      <th>Url</th>\n",
       "    </tr>\n",
       "  </thead>\n",
       "  <tbody>\n",
       "  </tbody>\n",
       "</table>\n",
       "</div>"
      ],
      "text/plain": [
       "Empty DataFrame\n",
       "Columns: [Part_Number, Url]\n",
       "Index: []"
      ]
     },
     "execution_count": 4,
     "metadata": {},
     "output_type": "execute_result"
    }
   ],
   "source": [
    "df = pd.DataFrame(columns=['Part_Number', 'Url'])\n",
    "\n",
    "df"
   ]
  },
  {
   "cell_type": "code",
   "execution_count": 5,
   "id": "000d53d7",
   "metadata": {},
   "outputs": [],
   "source": [
    "import json"
   ]
  },
  {
   "cell_type": "code",
   "execution_count": 6,
   "id": "1d3df716",
   "metadata": {},
   "outputs": [
    {
     "name": "stdout",
     "output_type": "stream",
     "text": [
      "ecat.spectrapremium.com_en_parts_line=oil_pans&universal=0&hide-exclusives-canadian-market=0&page=3&sort=part-number&limit=50.txt\n",
      "ecat.spectrapremium.com_en_parts_line=oil_pans&year=&make=&model=&submodel=&universal=0&hide-exclusives-canadian-market=0&sort=part-number&limit=50.txt\n",
      "ecat.spectrapremium.com_en_parts_line=oil_pans&universal=0&hide-exclusives-canadian-market=0&page=11&sort=part-number&limit=50.txt\n",
      "ecat.spectrapremium.com_en_parts_line=oil_pans&universal=0&hide-exclusives-canadian-market=0&page=4&sort=part-number&limit=50.txt\n",
      "ecat.spectrapremium.com_en_parts_line=oil_pans&universal=0&hide-exclusives-canadian-market=0&page=10&sort=part-number&limit=50.txt\n",
      "ecat.spectrapremium.com_en_parts_line=oil_pans&universal=0&hide-exclusives-canadian-market=0&page=2&sort=part-number&limit=50.txt\n",
      "ecat.spectrapremium.com_en_parts_line=oil_pans&universal=0&hide-exclusives-canadian-market=0&page=5&sort=part-number&limit=50.txt\n",
      "ecat.spectrapremium.com_en_parts_line=oil_pans&universal=0&hide-exclusives-canadian-market=0&page=6&sort=part-number&limit=50.txt\n",
      "ecat.spectrapremium.com_en_parts_line=oil_pans&universal=0&hide-exclusives-canadian-market=0&page=9&sort=part-number&limit=50.txt\n",
      "ecat.spectrapremium.com_en_parts_line=oil_pans&universal=0&hide-exclusives-canadian-market=0&page=8&sort=part-number&limit=50.txt\n",
      "ecat.spectrapremium.com_en_parts_line=oil_pans&universal=0&hide-exclusives-canadian-market=0&page=7&sort=part-number&limit=50.txt\n",
      "ecat.spectrapremium.com_en_parts_line=oil_pans&universal=0&hide-exclusives-canadian-market=0&page=12&sort=part-number&limit=50.txt\n"
     ]
    }
   ],
   "source": [
    "for file in list_file:\n",
    "    print(file)\n",
    "    with open('./menu/' + file) as f:\n",
    "        list_part = f.read()[1:-1].split('},{')\n",
    "        for i in range(len(list_part)):\n",
    "            if i == 0:\n",
    "                part = json.loads(list_part[i] + '}')\n",
    "            elif i == len(list_part) - 1:\n",
    "                part = json.loads('{' + list_part[i])\n",
    "            else:\n",
    "                part = json.loads('{' + list_part[i] + '}')\n",
    "                \n",
    "            df_temp = pd.DataFrame([{'Part_Number': part['Part_Number'],\n",
    "                                     'Url': part['Url']}])\n",
    "            df = pd.concat([df, df_temp], ignore_index=True)"
   ]
  },
  {
   "cell_type": "code",
   "execution_count": 7,
   "id": "e7c8e52b",
   "metadata": {},
   "outputs": [
    {
     "data": {
      "text/html": [
       "<div>\n",
       "<style scoped>\n",
       "    .dataframe tbody tr th:only-of-type {\n",
       "        vertical-align: middle;\n",
       "    }\n",
       "\n",
       "    .dataframe tbody tr th {\n",
       "        vertical-align: top;\n",
       "    }\n",
       "\n",
       "    .dataframe thead th {\n",
       "        text-align: right;\n",
       "    }\n",
       "</style>\n",
       "<table border=\"1\" class=\"dataframe\">\n",
       "  <thead>\n",
       "    <tr style=\"text-align: right;\">\n",
       "      <th></th>\n",
       "      <th>Part_Number</th>\n",
       "      <th>Url</th>\n",
       "    </tr>\n",
       "  </thead>\n",
       "  <tbody>\n",
       "    <tr>\n",
       "      <th>0</th>\n",
       "      <td>CRP70A</td>\n",
       "      <td>https://ecat.spectrapremium.com/en/parts/CRP70A</td>\n",
       "    </tr>\n",
       "    <tr>\n",
       "      <th>1</th>\n",
       "      <td>CRP72A</td>\n",
       "      <td>https://ecat.spectrapremium.com/en/parts/CRP72A</td>\n",
       "    </tr>\n",
       "    <tr>\n",
       "      <th>2</th>\n",
       "      <td>CRP73A</td>\n",
       "      <td>https://ecat.spectrapremium.com/en/parts/CRP73A</td>\n",
       "    </tr>\n",
       "    <tr>\n",
       "      <th>3</th>\n",
       "      <td>CRP74A</td>\n",
       "      <td>https://ecat.spectrapremium.com/en/parts/CRP74A</td>\n",
       "    </tr>\n",
       "    <tr>\n",
       "      <th>4</th>\n",
       "      <td>CRP75A</td>\n",
       "      <td>https://ecat.spectrapremium.com/en/parts/CRP75A</td>\n",
       "    </tr>\n",
       "    <tr>\n",
       "      <th>...</th>\n",
       "      <td>...</td>\n",
       "      <td>...</td>\n",
       "    </tr>\n",
       "    <tr>\n",
       "      <th>567</th>\n",
       "      <td>VWP57A</td>\n",
       "      <td>https://ecat.spectrapremium.com/en/parts/VWP57A</td>\n",
       "    </tr>\n",
       "    <tr>\n",
       "      <th>568</th>\n",
       "      <td>VWP58A</td>\n",
       "      <td>https://ecat.spectrapremium.com/en/parts/VWP58A</td>\n",
       "    </tr>\n",
       "    <tr>\n",
       "      <th>569</th>\n",
       "      <td>VWP59A</td>\n",
       "      <td>https://ecat.spectrapremium.com/en/parts/VWP59A</td>\n",
       "    </tr>\n",
       "    <tr>\n",
       "      <th>570</th>\n",
       "      <td>VWP60A</td>\n",
       "      <td>https://ecat.spectrapremium.com/en/parts/VWP60A</td>\n",
       "    </tr>\n",
       "    <tr>\n",
       "      <th>571</th>\n",
       "      <td>VWP61A</td>\n",
       "      <td>https://ecat.spectrapremium.com/en/parts/VWP61A</td>\n",
       "    </tr>\n",
       "  </tbody>\n",
       "</table>\n",
       "<p>572 rows × 2 columns</p>\n",
       "</div>"
      ],
      "text/plain": [
       "    Part_Number                                              Url\n",
       "0        CRP70A  https://ecat.spectrapremium.com/en/parts/CRP70A\n",
       "1        CRP72A  https://ecat.spectrapremium.com/en/parts/CRP72A\n",
       "2        CRP73A  https://ecat.spectrapremium.com/en/parts/CRP73A\n",
       "3        CRP74A  https://ecat.spectrapremium.com/en/parts/CRP74A\n",
       "4        CRP75A  https://ecat.spectrapremium.com/en/parts/CRP75A\n",
       "..          ...                                              ...\n",
       "567      VWP57A  https://ecat.spectrapremium.com/en/parts/VWP57A\n",
       "568      VWP58A  https://ecat.spectrapremium.com/en/parts/VWP58A\n",
       "569      VWP59A  https://ecat.spectrapremium.com/en/parts/VWP59A\n",
       "570      VWP60A  https://ecat.spectrapremium.com/en/parts/VWP60A\n",
       "571      VWP61A  https://ecat.spectrapremium.com/en/parts/VWP61A\n",
       "\n",
       "[572 rows x 2 columns]"
      ]
     },
     "execution_count": 7,
     "metadata": {},
     "output_type": "execute_result"
    }
   ],
   "source": [
    "df.to_excel('./menu.xlsx', index=False)\n",
    "\n",
    "df"
   ]
  },
  {
   "cell_type": "code",
   "execution_count": null,
   "id": "f1b946e9",
   "metadata": {},
   "outputs": [],
   "source": []
  }
 ],
 "metadata": {
  "kernelspec": {
   "display_name": "Python 3 (ipykernel)",
   "language": "python",
   "name": "python3"
  },
  "language_info": {
   "codemirror_mode": {
    "name": "ipython",
    "version": 3
   },
   "file_extension": ".py",
   "mimetype": "text/x-python",
   "name": "python",
   "nbconvert_exporter": "python",
   "pygments_lexer": "ipython3",
   "version": "3.11.3"
  }
 },
 "nbformat": 4,
 "nbformat_minor": 5
}
