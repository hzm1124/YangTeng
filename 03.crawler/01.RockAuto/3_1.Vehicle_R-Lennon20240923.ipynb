{
 "cells": [
  {
   "cell_type": "code",
   "execution_count": 1,
   "id": "ba98551f-b0b1-4c50-8c47-3ad3a3730b73",
   "metadata": {},
   "outputs": [
    {
     "data": {
      "text/plain": [
       "['crawler_1.xlsx', 'crawler_2.xlsx']"
      ]
     },
     "execution_count": 1,
     "metadata": {},
     "output_type": "execute_result"
    }
   ],
   "source": [
    "import os\n",
    "\n",
    "list_file = sorted(list(os.walk('./file/2.part'))[0][2])\n",
    "while '.DS_Store' in list_file:\n",
    "    list_file.remove('.DS_Store')\n",
    "while '0.null.txt' in list_file:\n",
    "    list_file.remove('0.null.txt')\n",
    "\n",
    "list_file"
   ]
  },
  {
   "cell_type": "code",
   "execution_count": 2,
   "id": "9b75b948-9701-432e-a5ef-88d0e629bd2c",
   "metadata": {},
   "outputs": [
    {
     "data": {
      "text/plain": [
       "'crawler_1.xlsx'"
      ]
     },
     "execution_count": 2,
     "metadata": {},
     "output_type": "execute_result"
    }
   ],
   "source": [
    "file = list_file[0]\n",
    "\n",
    "file"
   ]
  },
  {
   "cell_type": "code",
   "execution_count": 3,
   "id": "76ea49e2-7cc6-4bc1-af5b-7a6768eb6c08",
   "metadata": {},
   "outputs": [],
   "source": [
    "import pandas as pd\n",
    "\n",
    "output_correct, output_error = pd.DataFrame(), pd.DataFrame()"
   ]
  },
  {
   "cell_type": "code",
   "execution_count": 4,
   "id": "5d22fc26-a390-442a-bfe3-4d409c33f1e7",
   "metadata": {
    "scrolled": true
   },
   "outputs": [
    {
     "name": "stdout",
     "output_type": "stream",
     "text": [
      "总数量：10\n"
     ]
    },
    {
     "data": {
      "text/plain": [
       "['MELLING;30250S;5756;8304960',\n",
       " 'MELLING;30250SX;5756;11158045',\n",
       " 'MELLING;30420S;5756;8304968',\n",
       " 'MELLING;30430S;5756;8304972',\n",
       " 'MELLING;30460S;5756;8304976',\n",
       " 'MELLING;30460SA;5756;9658980',\n",
       " 'MELLING;30460SB;5756;9658984',\n",
       " 'MELLING;30470S;5756;8304980',\n",
       " 'MELLING;30470SX;5756;10110000',\n",
       " 'MELLING;30490S;5756;8304984']"
      ]
     },
     "execution_count": 4,
     "metadata": {},
     "output_type": "execute_result"
    }
   ],
   "source": [
    "input_ = pd.read_excel(f'./file/2.part/{file}',\n",
    "                       header=0,\n",
    "                       dtype=str).fillna('')\n",
    "\n",
    "input_['No'] = input_['No'].astype(int)\n",
    "\n",
    "print(f'总数量：{len(input_)}')\n",
    "input_['JOIN_MPNTCPC'].tolist()"
   ]
  },
  {
   "cell_type": "code",
   "execution_count": 5,
   "id": "5878a9f0-d639-4123-b6e0-bc564f72c2d6",
   "metadata": {},
   "outputs": [
    {
     "data": {
      "text/plain": [
       "0"
      ]
     },
     "execution_count": 5,
     "metadata": {},
     "output_type": "execute_result"
    }
   ],
   "source": [
    "a = 0\n",
    "\n",
    "a"
   ]
  },
  {
   "cell_type": "code",
   "execution_count": 6,
   "id": "9f61dd65-55da-4d0b-ba30-d0534eff0781",
   "metadata": {},
   "outputs": [
    {
     "data": {
      "text/plain": [
       "'error'"
      ]
     },
     "execution_count": 6,
     "metadata": {},
     "output_type": "execute_result"
    }
   ],
   "source": [
    "crawler_status = 'error'\n",
    "\n",
    "crawler_status"
   ]
  },
  {
   "cell_type": "code",
   "execution_count": 7,
   "id": "ad99bc86-6e80-4fcf-8200-736dc5101097",
   "metadata": {},
   "outputs": [
    {
     "name": "stdout",
     "output_type": "stream",
     "text": [
      "1\n"
     ]
    },
    {
     "data": {
      "text/plain": [
       "<Response [200]>"
      ]
     },
     "execution_count": 7,
     "metadata": {},
     "output_type": "execute_result"
    }
   ],
   "source": [
    "import requests\n",
    "import json\n",
    "\n",
    "import sys\n",
    "sys.path.append('../00.Tools')\n",
    "from crawler_configuration import get_header, get_proxy\n",
    "\n",
    "payload = {'partData': {'listing_data_essential': {'parttype': input_.loc[a, 'Type Code'],\n",
    "                                                   'partkey': input_.loc[a, 'Part Code']},\n",
    "                        'listing_data_supplemental': {'partnumber': input_.loc[a, 'Part Number'],\n",
    "                                                      'catalogname': input_.loc[a, 'Manufacturer']}}}\n",
    "\n",
    "data = {'func': 'getbuyersguide',\n",
    "        'payload': json.dumps(payload),\n",
    "        'api_json_request': '1'}\n",
    "\n",
    "b = 0\n",
    "while True:\n",
    "    b += 1\n",
    "    print(b)\n",
    "    try:\n",
    "        check_url = input_.loc[a, 'Url']\n",
    "        \n",
    "        resp = requests.post('https://www.rockauto.com/catalog/catalogapi.php',\n",
    "                             data=data,\n",
    "                             headers=get_header(),\n",
    "                             proxies=get_proxy(),\n",
    "                             timeout=(10, 10))\n",
    "\n",
    "        if resp.status_code == 200:\n",
    "            dict_ = resp.json()\n",
    "    \n",
    "            if 'redirect_to_url' not in dict_ and dict_['buyersguidepieces']['title'].startswith('Buyer\\'s Guide :') and 'collected_javascript' in dict_:\n",
    "                break\n",
    "    except KeyboardInterrupt:\n",
    "        break\n",
    "    except:\n",
    "        continue\n",
    "\n",
    "resp"
   ]
  },
  {
   "cell_type": "code",
   "execution_count": 8,
   "id": "86ef5f53-4ba1-4024-af2a-5ad7c6898c6a",
   "metadata": {
    "scrolled": true
   },
   "outputs": [
    {
     "name": "stdout",
     "output_type": "stream",
     "text": [
      "<html>\n",
      " <body>\n",
      "  <div class=\"buyersguide-nested\">\n",
      "   <div style=\"padding: .5em;\">\n",
      "    <table class=\"nobmp\" style=\"width: 100%;\">\n",
      "     <tr>\n",
      "      <td class=\"altrow-a-0\">\n",
      "       MAZDA\n",
      "      </td>\n",
      "      <td class=\"altrow-a-0\">\n",
      "       3\n",
      "      </td>\n",
      "      <td class=\"altrow-a-0\">\n",
      "       2004-2007\n",
      "      </td>\n",
      "     </tr>\n",
      "     <tr>\n",
      "      <td class=\"altrow-a-1\">\n",
      "       MAZDA\n",
      "      </td>\n",
      "      <td class=\"altrow-a-1\">\n",
      "       5\n",
      "      </td>\n",
      "      <td class=\"altrow-a-1\">\n",
      "       2006-2007\n",
      "      </td>\n",
      "     </tr>\n",
      "     <tr>\n",
      "      <td class=\"altrow-a-0\">\n",
      "       MAZDA\n",
      "      </td>\n",
      "      <td class=\"altrow-a-0\">\n",
      "       6\n",
      "      </td>\n",
      "      <td class=\"altrow-a-0\">\n",
      "       2003-2007\n",
      "      </td>\n",
      "     </tr>\n",
      "    </table>\n",
      "    <div>\n",
      "     Please refer to catalog for application details.\n",
      "    </div>\n",
      "   </div>\n",
      "  </div>\n",
      " </body>\n",
      "</html>\n",
      "\n"
     ]
    }
   ],
   "source": [
    "from bs4 import BeautifulSoup\n",
    "from lxml import etree\n",
    "\n",
    "soup = BeautifulSoup(dict_['buyersguidepieces']['body'], 'lxml')\n",
    "html = etree.HTML(str(soup))\n",
    "\n",
    "with open('./vehicle.html', 'w', encoding='UTF-8') as file:\n",
    "    file.write(str(soup))\n",
    "\n",
    "print(soup.prettify())"
   ]
  },
  {
   "cell_type": "code",
   "execution_count": 9,
   "id": "1ae8c56f-a9e7-48bb-b0ea-2ee5ba195fe1",
   "metadata": {},
   "outputs": [
    {
     "data": {
      "text/plain": [
       "False"
      ]
     },
     "execution_count": 9,
     "metadata": {},
     "output_type": "execute_result"
    }
   ],
   "source": [
    "len(html.xpath('//p/text()')) != 0 and html.xpath('//p/text()')[0] == 'No applications found.'"
   ]
  },
  {
   "cell_type": "code",
   "execution_count": 10,
   "id": "f933a1ab-8825-469f-91db-99d00e8d5c6d",
   "metadata": {
    "scrolled": true
   },
   "outputs": [
    {
     "data": {
      "text/plain": [
       "[<Element tr at 0x11f6b7b80>,\n",
       " <Element tr at 0x11f6b6940>,\n",
       " <Element tr at 0x11f6b6680>]"
      ]
     },
     "execution_count": 10,
     "metadata": {},
     "output_type": "execute_result"
    }
   ],
   "source": [
    "list_tr = html.xpath('//tr')\n",
    "\n",
    "list_tr"
   ]
  },
  {
   "cell_type": "code",
   "execution_count": 11,
   "id": "43844a94-a200-41b1-a313-ed0256b88c71",
   "metadata": {},
   "outputs": [
    {
     "data": {
      "text/plain": [
       "False"
      ]
     },
     "execution_count": 11,
     "metadata": {},
     "output_type": "execute_result"
    }
   ],
   "source": [
    "len(list_tr) == 0"
   ]
  },
  {
   "cell_type": "code",
   "execution_count": 12,
   "id": "1001431c-7857-4d3c-b02d-13f7c3f87e6d",
   "metadata": {},
   "outputs": [
    {
     "data": {
      "text/html": [
       "<div>\n",
       "<style scoped>\n",
       "    .dataframe tbody tr th:only-of-type {\n",
       "        vertical-align: middle;\n",
       "    }\n",
       "\n",
       "    .dataframe tbody tr th {\n",
       "        vertical-align: top;\n",
       "    }\n",
       "\n",
       "    .dataframe thead th {\n",
       "        text-align: right;\n",
       "    }\n",
       "</style>\n",
       "<table border=\"1\" class=\"dataframe\">\n",
       "  <thead>\n",
       "    <tr style=\"text-align: right;\">\n",
       "      <th></th>\n",
       "      <th>No</th>\n",
       "      <th>Part Number</th>\n",
       "      <th>JOIN_MPNTCPC</th>\n",
       "      <th>Vehicle No</th>\n",
       "      <th>Make</th>\n",
       "      <th>Model</th>\n",
       "      <th>Year</th>\n",
       "    </tr>\n",
       "  </thead>\n",
       "  <tbody>\n",
       "    <tr>\n",
       "      <th>0</th>\n",
       "      <td>1</td>\n",
       "      <td>30250S</td>\n",
       "      <td>MELLING;30250S;5756;8304960</td>\n",
       "      <td>1</td>\n",
       "      <td>MAZDA</td>\n",
       "      <td>3</td>\n",
       "      <td>2004</td>\n",
       "    </tr>\n",
       "    <tr>\n",
       "      <th>1</th>\n",
       "      <td>1</td>\n",
       "      <td>30250S</td>\n",
       "      <td>MELLING;30250S;5756;8304960</td>\n",
       "      <td>1</td>\n",
       "      <td>MAZDA</td>\n",
       "      <td>3</td>\n",
       "      <td>2005</td>\n",
       "    </tr>\n",
       "    <tr>\n",
       "      <th>2</th>\n",
       "      <td>1</td>\n",
       "      <td>30250S</td>\n",
       "      <td>MELLING;30250S;5756;8304960</td>\n",
       "      <td>1</td>\n",
       "      <td>MAZDA</td>\n",
       "      <td>3</td>\n",
       "      <td>2006</td>\n",
       "    </tr>\n",
       "    <tr>\n",
       "      <th>3</th>\n",
       "      <td>1</td>\n",
       "      <td>30250S</td>\n",
       "      <td>MELLING;30250S;5756;8304960</td>\n",
       "      <td>1</td>\n",
       "      <td>MAZDA</td>\n",
       "      <td>3</td>\n",
       "      <td>2007</td>\n",
       "    </tr>\n",
       "    <tr>\n",
       "      <th>4</th>\n",
       "      <td>1</td>\n",
       "      <td>30250S</td>\n",
       "      <td>MELLING;30250S;5756;8304960</td>\n",
       "      <td>2</td>\n",
       "      <td>MAZDA</td>\n",
       "      <td>5</td>\n",
       "      <td>2006</td>\n",
       "    </tr>\n",
       "    <tr>\n",
       "      <th>5</th>\n",
       "      <td>1</td>\n",
       "      <td>30250S</td>\n",
       "      <td>MELLING;30250S;5756;8304960</td>\n",
       "      <td>2</td>\n",
       "      <td>MAZDA</td>\n",
       "      <td>5</td>\n",
       "      <td>2007</td>\n",
       "    </tr>\n",
       "    <tr>\n",
       "      <th>6</th>\n",
       "      <td>1</td>\n",
       "      <td>30250S</td>\n",
       "      <td>MELLING;30250S;5756;8304960</td>\n",
       "      <td>3</td>\n",
       "      <td>MAZDA</td>\n",
       "      <td>6</td>\n",
       "      <td>2003</td>\n",
       "    </tr>\n",
       "    <tr>\n",
       "      <th>7</th>\n",
       "      <td>1</td>\n",
       "      <td>30250S</td>\n",
       "      <td>MELLING;30250S;5756;8304960</td>\n",
       "      <td>3</td>\n",
       "      <td>MAZDA</td>\n",
       "      <td>6</td>\n",
       "      <td>2004</td>\n",
       "    </tr>\n",
       "    <tr>\n",
       "      <th>8</th>\n",
       "      <td>1</td>\n",
       "      <td>30250S</td>\n",
       "      <td>MELLING;30250S;5756;8304960</td>\n",
       "      <td>3</td>\n",
       "      <td>MAZDA</td>\n",
       "      <td>6</td>\n",
       "      <td>2005</td>\n",
       "    </tr>\n",
       "    <tr>\n",
       "      <th>9</th>\n",
       "      <td>1</td>\n",
       "      <td>30250S</td>\n",
       "      <td>MELLING;30250S;5756;8304960</td>\n",
       "      <td>3</td>\n",
       "      <td>MAZDA</td>\n",
       "      <td>6</td>\n",
       "      <td>2006</td>\n",
       "    </tr>\n",
       "    <tr>\n",
       "      <th>10</th>\n",
       "      <td>1</td>\n",
       "      <td>30250S</td>\n",
       "      <td>MELLING;30250S;5756;8304960</td>\n",
       "      <td>3</td>\n",
       "      <td>MAZDA</td>\n",
       "      <td>6</td>\n",
       "      <td>2007</td>\n",
       "    </tr>\n",
       "  </tbody>\n",
       "</table>\n",
       "</div>"
      ],
      "text/plain": [
       "    No Part Number                 JOIN_MPNTCPC  Vehicle No   Make Model  Year\n",
       "0    1      30250S  MELLING;30250S;5756;8304960           1  MAZDA     3  2004\n",
       "1    1      30250S  MELLING;30250S;5756;8304960           1  MAZDA     3  2005\n",
       "2    1      30250S  MELLING;30250S;5756;8304960           1  MAZDA     3  2006\n",
       "3    1      30250S  MELLING;30250S;5756;8304960           1  MAZDA     3  2007\n",
       "4    1      30250S  MELLING;30250S;5756;8304960           2  MAZDA     5  2006\n",
       "5    1      30250S  MELLING;30250S;5756;8304960           2  MAZDA     5  2007\n",
       "6    1      30250S  MELLING;30250S;5756;8304960           3  MAZDA     6  2003\n",
       "7    1      30250S  MELLING;30250S;5756;8304960           3  MAZDA     6  2004\n",
       "8    1      30250S  MELLING;30250S;5756;8304960           3  MAZDA     6  2005\n",
       "9    1      30250S  MELLING;30250S;5756;8304960           3  MAZDA     6  2006\n",
       "10   1      30250S  MELLING;30250S;5756;8304960           3  MAZDA     6  2007"
      ]
     },
     "execution_count": 12,
     "metadata": {},
     "output_type": "execute_result"
    }
   ],
   "source": [
    "df_temp = pd.DataFrame()\n",
    "for i, tr in enumerate(list_tr):\n",
    "    list_text = [text.strip() for text in tr.xpath('./td/text()')]\n",
    "\n",
    "    if len(list_text) == 3:\n",
    "        if '-' in list_text[2]:\n",
    "            [year_begin, year_end] = list_text[2].split('-')\n",
    "            for year in range(int(year_begin), int(year_end) + 1):\n",
    "                df_temp_temp = pd.DataFrame([{'No': input_.loc[a, 'No'],\n",
    "                                              'Part Number': input_.loc[a, 'Part Number'],\n",
    "                                              'JOIN_MPNTCPC': input_.loc[a, 'JOIN_MPNTCPC'],\n",
    "                                              'Vehicle No': i + 1,\n",
    "                                              'Make': list_text[0],\n",
    "                                              'Model': list_text[1],\n",
    "                                              'Year': year}])\n",
    "                df_temp = pd.concat([df_temp, df_temp_temp], ignore_index=True).fillna('')\n",
    "        else:\n",
    "            df_temp_temp = pd.DataFrame([{'No': input_.loc[a, 'No'],\n",
    "                                          'Part Number': input_.loc[a, 'Part Number'],\n",
    "                                          'JOIN_MPNTCPC': input_.loc[a, 'JOIN_MPNTCPC'],\n",
    "                                          'Vehicle No': i + 1,\n",
    "                                          'Make': list_text[0],\n",
    "                                          'Model': list_text[1],\n",
    "                                          'Year': int(list_text[2])}])\n",
    "            df_temp = pd.concat([df_temp, df_temp_temp], ignore_index=True).fillna('')\n",
    "    elif len(list_text) == 2:\n",
    "        if '-' in list_text[1]:\n",
    "            [year_begin, year_end] = list_text[1].split('-')\n",
    "            for year in range(int(year_begin), int(year_end) + 1):\n",
    "                df_temp_temp = pd.DataFrame([{'No': input_.loc[a, 'No'],\n",
    "                                              'Part Number': input_.loc[a, 'Part Number'],\n",
    "                                              'JOIN_MPNTCPC': input_.loc[a, 'JOIN_MPNTCPC'],\n",
    "                                              'Vehicle No': i + 1,\n",
    "                                              'Make': list_text[0],\n",
    "                                              'Model': '',\n",
    "                                              'Year': year}])\n",
    "                df_temp = pd.concat([df_temp, df_temp_temp], ignore_index=True).fillna('')\n",
    "        else:\n",
    "            df_temp_temp = pd.DataFrame([{'No': input_.loc[a, 'No'],\n",
    "                                          'Part Number': input_.loc[a, 'Part Number'],\n",
    "                                          'JOIN_MPNTCPC': input_.loc[a, 'JOIN_MPNTCPC'],\n",
    "                                          'Vehicle No': i + 1,\n",
    "                                          'Make': list_text[0],\n",
    "                                          'Model': '',\n",
    "                                          'Year': int(list_text[1])}])\n",
    "            df_temp = pd.concat([df_temp, df_temp_temp], ignore_index=True).fillna('')\n",
    "    else:\n",
    "        print('fuck')\n",
    "\n",
    "output_correct = pd.concat([output_correct, df_temp], ignore_index=True).fillna('')\n",
    "\n",
    "output_correct"
   ]
  },
  {
   "cell_type": "code",
   "execution_count": 13,
   "id": "fc4ed7f6-ed4f-431c-b944-b1690309cdae",
   "metadata": {},
   "outputs": [
    {
     "data": {
      "text/plain": [
       "'ok'"
      ]
     },
     "execution_count": 13,
     "metadata": {},
     "output_type": "execute_result"
    }
   ],
   "source": [
    "crawler_status = 'ok'\n",
    "\n",
    "crawler_status"
   ]
  },
  {
   "cell_type": "code",
   "execution_count": 14,
   "id": "65c745d1-446e-46c5-9dec-819c9f7944d3",
   "metadata": {},
   "outputs": [
    {
     "data": {
      "text/html": [
       "<div>\n",
       "<style scoped>\n",
       "    .dataframe tbody tr th:only-of-type {\n",
       "        vertical-align: middle;\n",
       "    }\n",
       "\n",
       "    .dataframe tbody tr th {\n",
       "        vertical-align: top;\n",
       "    }\n",
       "\n",
       "    .dataframe thead th {\n",
       "        text-align: right;\n",
       "    }\n",
       "</style>\n",
       "<table border=\"1\" class=\"dataframe\">\n",
       "  <thead>\n",
       "    <tr style=\"text-align: right;\">\n",
       "      <th></th>\n",
       "    </tr>\n",
       "  </thead>\n",
       "  <tbody>\n",
       "  </tbody>\n",
       "</table>\n",
       "</div>"
      ],
      "text/plain": [
       "Empty DataFrame\n",
       "Columns: []\n",
       "Index: []"
      ]
     },
     "execution_count": 14,
     "metadata": {},
     "output_type": "execute_result"
    }
   ],
   "source": [
    "if crawler_status == 'error':\n",
    "    df_temp = pd.DataFrame([input_.iloc[a]]).reset_index(drop=True)\n",
    "    df_temp.loc[0, 'Check_Url'] = check_url\n",
    "    \n",
    "    output_error = pd.concat([output_error, df_temp], ignore_index=True).fillna('')\n",
    "\n",
    "output_error"
   ]
  },
  {
   "cell_type": "code",
   "execution_count": 15,
   "id": "7fd477de",
   "metadata": {},
   "outputs": [
    {
     "data": {
      "text/html": [
       "<div>\n",
       "<style scoped>\n",
       "    .dataframe tbody tr th:only-of-type {\n",
       "        vertical-align: middle;\n",
       "    }\n",
       "\n",
       "    .dataframe tbody tr th {\n",
       "        vertical-align: top;\n",
       "    }\n",
       "\n",
       "    .dataframe thead th {\n",
       "        text-align: right;\n",
       "    }\n",
       "</style>\n",
       "<table border=\"1\" class=\"dataframe\">\n",
       "  <thead>\n",
       "    <tr style=\"text-align: right;\">\n",
       "      <th></th>\n",
       "      <th>No</th>\n",
       "      <th>Part Number</th>\n",
       "      <th>JOIN_MPNTCPC</th>\n",
       "      <th>Vehicle No</th>\n",
       "      <th>Make</th>\n",
       "      <th>Model</th>\n",
       "      <th>Year</th>\n",
       "    </tr>\n",
       "  </thead>\n",
       "  <tbody>\n",
       "    <tr>\n",
       "      <th>0</th>\n",
       "      <td>1</td>\n",
       "      <td>30250S</td>\n",
       "      <td>MELLING;30250S;5756;8304960</td>\n",
       "      <td>1</td>\n",
       "      <td>MAZDA</td>\n",
       "      <td>3</td>\n",
       "      <td>2007</td>\n",
       "    </tr>\n",
       "    <tr>\n",
       "      <th>1</th>\n",
       "      <td>1</td>\n",
       "      <td>30250S</td>\n",
       "      <td>MELLING;30250S;5756;8304960</td>\n",
       "      <td>1</td>\n",
       "      <td>MAZDA</td>\n",
       "      <td>3</td>\n",
       "      <td>2006</td>\n",
       "    </tr>\n",
       "    <tr>\n",
       "      <th>2</th>\n",
       "      <td>1</td>\n",
       "      <td>30250S</td>\n",
       "      <td>MELLING;30250S;5756;8304960</td>\n",
       "      <td>1</td>\n",
       "      <td>MAZDA</td>\n",
       "      <td>3</td>\n",
       "      <td>2005</td>\n",
       "    </tr>\n",
       "    <tr>\n",
       "      <th>3</th>\n",
       "      <td>1</td>\n",
       "      <td>30250S</td>\n",
       "      <td>MELLING;30250S;5756;8304960</td>\n",
       "      <td>1</td>\n",
       "      <td>MAZDA</td>\n",
       "      <td>3</td>\n",
       "      <td>2004</td>\n",
       "    </tr>\n",
       "    <tr>\n",
       "      <th>4</th>\n",
       "      <td>1</td>\n",
       "      <td>30250S</td>\n",
       "      <td>MELLING;30250S;5756;8304960</td>\n",
       "      <td>2</td>\n",
       "      <td>MAZDA</td>\n",
       "      <td>5</td>\n",
       "      <td>2007</td>\n",
       "    </tr>\n",
       "    <tr>\n",
       "      <th>5</th>\n",
       "      <td>1</td>\n",
       "      <td>30250S</td>\n",
       "      <td>MELLING;30250S;5756;8304960</td>\n",
       "      <td>2</td>\n",
       "      <td>MAZDA</td>\n",
       "      <td>5</td>\n",
       "      <td>2006</td>\n",
       "    </tr>\n",
       "    <tr>\n",
       "      <th>6</th>\n",
       "      <td>1</td>\n",
       "      <td>30250S</td>\n",
       "      <td>MELLING;30250S;5756;8304960</td>\n",
       "      <td>3</td>\n",
       "      <td>MAZDA</td>\n",
       "      <td>6</td>\n",
       "      <td>2007</td>\n",
       "    </tr>\n",
       "    <tr>\n",
       "      <th>7</th>\n",
       "      <td>1</td>\n",
       "      <td>30250S</td>\n",
       "      <td>MELLING;30250S;5756;8304960</td>\n",
       "      <td>3</td>\n",
       "      <td>MAZDA</td>\n",
       "      <td>6</td>\n",
       "      <td>2006</td>\n",
       "    </tr>\n",
       "    <tr>\n",
       "      <th>8</th>\n",
       "      <td>1</td>\n",
       "      <td>30250S</td>\n",
       "      <td>MELLING;30250S;5756;8304960</td>\n",
       "      <td>3</td>\n",
       "      <td>MAZDA</td>\n",
       "      <td>6</td>\n",
       "      <td>2005</td>\n",
       "    </tr>\n",
       "    <tr>\n",
       "      <th>9</th>\n",
       "      <td>1</td>\n",
       "      <td>30250S</td>\n",
       "      <td>MELLING;30250S;5756;8304960</td>\n",
       "      <td>3</td>\n",
       "      <td>MAZDA</td>\n",
       "      <td>6</td>\n",
       "      <td>2004</td>\n",
       "    </tr>\n",
       "    <tr>\n",
       "      <th>10</th>\n",
       "      <td>1</td>\n",
       "      <td>30250S</td>\n",
       "      <td>MELLING;30250S;5756;8304960</td>\n",
       "      <td>3</td>\n",
       "      <td>MAZDA</td>\n",
       "      <td>6</td>\n",
       "      <td>2003</td>\n",
       "    </tr>\n",
       "  </tbody>\n",
       "</table>\n",
       "</div>"
      ],
      "text/plain": [
       "    No Part Number                 JOIN_MPNTCPC  Vehicle No   Make Model  Year\n",
       "0    1      30250S  MELLING;30250S;5756;8304960           1  MAZDA     3  2007\n",
       "1    1      30250S  MELLING;30250S;5756;8304960           1  MAZDA     3  2006\n",
       "2    1      30250S  MELLING;30250S;5756;8304960           1  MAZDA     3  2005\n",
       "3    1      30250S  MELLING;30250S;5756;8304960           1  MAZDA     3  2004\n",
       "4    1      30250S  MELLING;30250S;5756;8304960           2  MAZDA     5  2007\n",
       "5    1      30250S  MELLING;30250S;5756;8304960           2  MAZDA     5  2006\n",
       "6    1      30250S  MELLING;30250S;5756;8304960           3  MAZDA     6  2007\n",
       "7    1      30250S  MELLING;30250S;5756;8304960           3  MAZDA     6  2006\n",
       "8    1      30250S  MELLING;30250S;5756;8304960           3  MAZDA     6  2005\n",
       "9    1      30250S  MELLING;30250S;5756;8304960           3  MAZDA     6  2004\n",
       "10   1      30250S  MELLING;30250S;5756;8304960           3  MAZDA     6  2003"
      ]
     },
     "execution_count": 15,
     "metadata": {},
     "output_type": "execute_result"
    }
   ],
   "source": [
    "if not output_correct.empty:\n",
    "    output_correct = output_correct.sort_values(by=['No', 'Vehicle No', 'Year'],\n",
    "                                                ascending=[True, True, False],\n",
    "                                                ignore_index=True)\n",
    "    output_correct.to_excel('./test_vehicle.xlsx', index=False)\n",
    "\n",
    "output_correct"
   ]
  },
  {
   "cell_type": "code",
   "execution_count": 16,
   "id": "39a5441b-7f69-4812-aad8-7e10a1a24e78",
   "metadata": {},
   "outputs": [
    {
     "data": {
      "text/html": [
       "<div>\n",
       "<style scoped>\n",
       "    .dataframe tbody tr th:only-of-type {\n",
       "        vertical-align: middle;\n",
       "    }\n",
       "\n",
       "    .dataframe tbody tr th {\n",
       "        vertical-align: top;\n",
       "    }\n",
       "\n",
       "    .dataframe thead th {\n",
       "        text-align: right;\n",
       "    }\n",
       "</style>\n",
       "<table border=\"1\" class=\"dataframe\">\n",
       "  <thead>\n",
       "    <tr style=\"text-align: right;\">\n",
       "      <th></th>\n",
       "    </tr>\n",
       "  </thead>\n",
       "  <tbody>\n",
       "  </tbody>\n",
       "</table>\n",
       "</div>"
      ],
      "text/plain": [
       "Empty DataFrame\n",
       "Columns: []\n",
       "Index: []"
      ]
     },
     "execution_count": 16,
     "metadata": {},
     "output_type": "execute_result"
    }
   ],
   "source": [
    "if not output_error.empty:\n",
    "    output_error = output_error.sort_values(by=['No'],\n",
    "                                            ascending=[True],\n",
    "                                            ignore_index=True)\n",
    "    output_error.to_excel('./test_vehicle_error.xlsx', index=False)\n",
    "\n",
    "output_error"
   ]
  },
  {
   "cell_type": "code",
   "execution_count": null,
   "id": "ba5d9f77-7464-4ad5-a42b-1fa0c0505832",
   "metadata": {},
   "outputs": [],
   "source": []
  }
 ],
 "metadata": {
  "kernelspec": {
   "display_name": "Python 3 (ipykernel)",
   "language": "python",
   "name": "python3"
  },
  "language_info": {
   "codemirror_mode": {
    "name": "ipython",
    "version": 3
   },
   "file_extension": ".py",
   "mimetype": "text/x-python",
   "name": "python",
   "nbconvert_exporter": "python",
   "pygments_lexer": "ipython3",
   "version": "3.11.3"
  }
 },
 "nbformat": 4,
 "nbformat_minor": 5
}
