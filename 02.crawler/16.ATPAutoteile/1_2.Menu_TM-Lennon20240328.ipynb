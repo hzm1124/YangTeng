{
 "cells": [
  {
   "cell_type": "code",
   "execution_count": 1,
   "id": "922cf64a",
   "metadata": {},
   "outputs": [],
   "source": [
    "import os"
   ]
  },
  {
   "cell_type": "code",
   "execution_count": 2,
   "id": "8d082990",
   "metadata": {},
   "outputs": [],
   "source": [
    "list_file = list(os.walk('./menu'))[0][2]\n",
    "if '.DS_Store' in list_file:\n",
    "    list_file.remove('.DS_Store')\n",
    "if '0.null.txt' in list_file:\n",
    "    list_file.remove('0.null.txt')\n",
    "    \n",
    "list_file.sort()\n",
    "    \n",
    "len(list_file)"
   ]
  },
  {
   "cell_type": "code",
   "execution_count": 3,
   "id": "314f4cab",
   "metadata": {},
   "outputs": [],
   "source": [
    "import pandas as pd"
   ]
  },
  {
   "cell_type": "code",
   "execution_count": 4,
   "id": "a21ee82d",
   "metadata": {},
   "outputs": [
    {
     "data": {
      "text/html": [
       "<div>\n",
       "<style scoped>\n",
       "    .dataframe tbody tr th:only-of-type {\n",
       "        vertical-align: middle;\n",
       "    }\n",
       "\n",
       "    .dataframe tbody tr th {\n",
       "        vertical-align: top;\n",
       "    }\n",
       "\n",
       "    .dataframe thead th {\n",
       "        text-align: right;\n",
       "    }\n",
       "</style>\n",
       "<table border=\"1\" class=\"dataframe\">\n",
       "  <thead>\n",
       "    <tr style=\"text-align: right;\">\n",
       "      <th></th>\n",
       "    </tr>\n",
       "  </thead>\n",
       "  <tbody>\n",
       "  </tbody>\n",
       "</table>\n",
       "</div>"
      ],
      "text/plain": [
       "Empty DataFrame\n",
       "Columns: []\n",
       "Index: []"
      ]
     },
     "execution_count": 4,
     "metadata": {},
     "output_type": "execute_result"
    }
   ],
   "source": [
    "df = pd.DataFrame()\n",
    "\n",
    "df"
   ]
  },
  {
   "cell_type": "code",
   "execution_count": 5,
   "id": "b43efd69",
   "metadata": {},
   "outputs": [],
   "source": [
    "from tqdm import tqdm\n",
    "import json"
   ]
  },
  {
   "cell_type": "code",
   "execution_count": 6,
   "id": "fb3abd9f",
   "metadata": {},
   "outputs": [
    {
     "name": "stderr",
     "output_type": "stream",
     "text": [
      "Progress: 100%|███████████████████████████████| 6/6 [00:00<00:00, 895.29it/s]\n"
     ]
    },
    {
     "data": {
      "text/html": [
       "<div>\n",
       "<style scoped>\n",
       "    .dataframe tbody tr th:only-of-type {\n",
       "        vertical-align: middle;\n",
       "    }\n",
       "\n",
       "    .dataframe tbody tr th {\n",
       "        vertical-align: top;\n",
       "    }\n",
       "\n",
       "    .dataframe thead th {\n",
       "        text-align: right;\n",
       "    }\n",
       "</style>\n",
       "<table border=\"1\" class=\"dataframe\">\n",
       "  <thead>\n",
       "    <tr style=\"text-align: right;\">\n",
       "      <th></th>\n",
       "      <th>Page</th>\n",
       "      <th>No.</th>\n",
       "      <th>Url</th>\n",
       "      <th>Kit</th>\n",
       "    </tr>\n",
       "  </thead>\n",
       "  <tbody>\n",
       "    <tr>\n",
       "      <th>0</th>\n",
       "      <td>1</td>\n",
       "      <td>1</td>\n",
       "      <td>https://www.atp-autoteile.de/de/product/988398...</td>\n",
       "      <td>{name: Bremssattel vorne links belüftete Brems...</td>\n",
       "    </tr>\n",
       "    <tr>\n",
       "      <th>1</th>\n",
       "      <td>1</td>\n",
       "      <td>2</td>\n",
       "      <td>https://www.atp-autoteile.de/de/product/431665...</td>\n",
       "      <td>{name: Bremsbeläge vorne (Satz); amount: 1x; B...</td>\n",
       "    </tr>\n",
       "    <tr>\n",
       "      <th>2</th>\n",
       "      <td>1</td>\n",
       "      <td>3</td>\n",
       "      <td>https://www.atp-autoteile.de/de/product/109350...</td>\n",
       "      <td>{name: Verschleisswarnkontakt Hinterachse; amo...</td>\n",
       "    </tr>\n",
       "    <tr>\n",
       "      <th>3</th>\n",
       "      <td>1</td>\n",
       "      <td>4</td>\n",
       "      <td>https://www.atp-autoteile.de/de/product/409833...</td>\n",
       "      <td>{name: Bremsbeläge vorne (Satz); amount: 1x; B...</td>\n",
       "    </tr>\n",
       "    <tr>\n",
       "      <th>4</th>\n",
       "      <td>1</td>\n",
       "      <td>5</td>\n",
       "      <td>https://www.atp-autoteile.de/de/product/457044...</td>\n",
       "      <td>{für Hersteller: TRW; Länge: 106,1 mm; Höhe: 4...</td>\n",
       "    </tr>\n",
       "    <tr>\n",
       "      <th>...</th>\n",
       "      <td>...</td>\n",
       "      <td>...</td>\n",
       "      <td>...</td>\n",
       "      <td>...</td>\n",
       "    </tr>\n",
       "    <tr>\n",
       "      <th>145</th>\n",
       "      <td>6</td>\n",
       "      <td>146</td>\n",
       "      <td>https://www.atp-autoteile.de/de/product/437286...</td>\n",
       "      <td>{name: Bremsbeläge hinten (Satz); amount: 1x; ...</td>\n",
       "    </tr>\n",
       "    <tr>\n",
       "      <th>146</th>\n",
       "      <td>6</td>\n",
       "      <td>147</td>\n",
       "      <td>https://www.atp-autoteile.de/de/product/409241...</td>\n",
       "      <td>{Breite: 136,8 mm; Höhe 1: 60,8 mm; Höhe 2: 58...</td>\n",
       "    </tr>\n",
       "    <tr>\n",
       "      <th>147</th>\n",
       "      <td>6</td>\n",
       "      <td>148</td>\n",
       "      <td>https://www.atp-autoteile.de/de/product/409240...</td>\n",
       "      <td>{Breite: 171,8 mm; Höhe: 66,3 mm; Dicke/Stärke...</td>\n",
       "    </tr>\n",
       "    <tr>\n",
       "      <th>148</th>\n",
       "      <td>6</td>\n",
       "      <td>149</td>\n",
       "      <td>https://www.atp-autoteile.de/de/product/363263...</td>\n",
       "      <td>{Breite: 123 mm; Bremssystem: ATE; Dicke/Stärk...</td>\n",
       "    </tr>\n",
       "    <tr>\n",
       "      <th>149</th>\n",
       "      <td>6</td>\n",
       "      <td>150</td>\n",
       "      <td>https://www.atp-autoteile.de/de/product/430525...</td>\n",
       "      <td>{name: Bremsbeläge hinten (Satz); amount: 1x; ...</td>\n",
       "    </tr>\n",
       "  </tbody>\n",
       "</table>\n",
       "<p>150 rows × 4 columns</p>\n",
       "</div>"
      ],
      "text/plain": [
       "     Page  No.                                                Url  \\\n",
       "0       1    1  https://www.atp-autoteile.de/de/product/988398...   \n",
       "1       1    2  https://www.atp-autoteile.de/de/product/431665...   \n",
       "2       1    3  https://www.atp-autoteile.de/de/product/109350...   \n",
       "3       1    4  https://www.atp-autoteile.de/de/product/409833...   \n",
       "4       1    5  https://www.atp-autoteile.de/de/product/457044...   \n",
       "..    ...  ...                                                ...   \n",
       "145     6  146  https://www.atp-autoteile.de/de/product/437286...   \n",
       "146     6  147  https://www.atp-autoteile.de/de/product/409241...   \n",
       "147     6  148  https://www.atp-autoteile.de/de/product/409240...   \n",
       "148     6  149  https://www.atp-autoteile.de/de/product/363263...   \n",
       "149     6  150  https://www.atp-autoteile.de/de/product/430525...   \n",
       "\n",
       "                                                   Kit  \n",
       "0    {name: Bremssattel vorne links belüftete Brems...  \n",
       "1    {name: Bremsbeläge vorne (Satz); amount: 1x; B...  \n",
       "2    {name: Verschleisswarnkontakt Hinterachse; amo...  \n",
       "3    {name: Bremsbeläge vorne (Satz); amount: 1x; B...  \n",
       "4    {für Hersteller: TRW; Länge: 106,1 mm; Höhe: 4...  \n",
       "..                                                 ...  \n",
       "145  {name: Bremsbeläge hinten (Satz); amount: 1x; ...  \n",
       "146  {Breite: 136,8 mm; Höhe 1: 60,8 mm; Höhe 2: 58...  \n",
       "147  {Breite: 171,8 mm; Höhe: 66,3 mm; Dicke/Stärke...  \n",
       "148  {Breite: 123 mm; Bremssystem: ATE; Dicke/Stärk...  \n",
       "149  {name: Bremsbeläge hinten (Satz); amount: 1x; ...  \n",
       "\n",
       "[150 rows x 4 columns]"
      ]
     },
     "execution_count": 6,
     "metadata": {},
     "output_type": "execute_result"
    }
   ],
   "source": [
    "for file in tqdm(list_file, desc='Progress', ncols=77):\n",
    "    with open('./menu/' + file, 'r', encoding='UTF-8') as f:\n",
    "        df = pd.concat([df, pd.DataFrame(json.loads(f.read()))], ignore_index=False).fillna('')\n",
    "        \n",
    "df = df[['Page', 'No.', 'Url', 'Kit']]\n",
    "df = df.drop_duplicates(ignore_index=True)\n",
    "df = df.sort_values(by=['Page', 'No.'], ascending=[True, True]).reset_index(drop=True)\n",
    "df['No.'] = [i+1 for i in range(len(df))]\n",
    "df.to_excel('./menu.xlsx', index=False)\n",
    "\n",
    "df"
   ]
  },
  {
   "cell_type": "code",
   "execution_count": null,
   "id": "6a1ed2b7",
   "metadata": {},
   "outputs": [],
   "source": []
  }
 ],
 "metadata": {
  "kernelspec": {
   "display_name": "Python 3 (ipykernel)",
   "language": "python",
   "name": "python3"
  },
  "language_info": {
   "codemirror_mode": {
    "name": "ipython",
    "version": 3
   },
   "file_extension": ".py",
   "mimetype": "text/x-python",
   "name": "python",
   "nbconvert_exporter": "python",
   "pygments_lexer": "ipython3",
   "version": "3.11.3"
  }
 },
 "nbformat": 4,
 "nbformat_minor": 5
}
