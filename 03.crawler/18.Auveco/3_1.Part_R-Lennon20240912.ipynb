{
 "cells": [
  {
   "cell_type": "code",
   "execution_count": 1,
   "id": "ba98551f-b0b1-4c50-8c47-3ad3a3730b73",
   "metadata": {},
   "outputs": [
    {
     "data": {
      "text/plain": [
       "['crawler_1.xlsx', 'crawler_2.xlsx']"
      ]
     },
     "execution_count": 1,
     "metadata": {},
     "output_type": "execute_result"
    }
   ],
   "source": [
    "import os\n",
    "\n",
    "list_file = sorted(list(os.walk('./file/2.url'))[0][2])\n",
    "while '.DS_Store' in list_file:\n",
    "    list_file.remove('.DS_Store')\n",
    "while '0.null.txt' in list_file:\n",
    "    list_file.remove('0.null.txt')\n",
    "\n",
    "list_file"
   ]
  },
  {
   "cell_type": "code",
   "execution_count": 2,
   "id": "9b75b948-9701-432e-a5ef-88d0e629bd2c",
   "metadata": {},
   "outputs": [
    {
     "data": {
      "text/plain": [
       "'crawler_1.xlsx'"
      ]
     },
     "execution_count": 2,
     "metadata": {},
     "output_type": "execute_result"
    }
   ],
   "source": [
    "file = list_file[0]\n",
    "\n",
    "file"
   ]
  },
  {
   "cell_type": "code",
   "execution_count": 3,
   "id": "76ea49e2-7cc6-4bc1-af5b-7a6768eb6c08",
   "metadata": {},
   "outputs": [],
   "source": [
    "import pandas as pd\n",
    "\n",
    "output_correct, output_error = pd.DataFrame(), pd.DataFrame()"
   ]
  },
  {
   "cell_type": "code",
   "execution_count": 4,
   "id": "5d22fc26-a390-442a-bfe3-4d409c33f1e7",
   "metadata": {
    "scrolled": true
   },
   "outputs": [
    {
     "name": "stdout",
     "output_type": "stream",
     "text": [
      "总数量：12\n"
     ]
    },
    {
     "data": {
      "text/plain": [
       "['https://www.auveco.com/metric-fastener-assortment-w-o-bin-1043',\n",
       " 'https://www.auveco.com/metric-fastener-assortment-in-two-40-compartment-bins-1042',\n",
       " 'https://www.auveco.com/metric-fastener-asst-reg-pitch-w-o-bin-1041',\n",
       " 'https://www.auveco.com/metric-fast-asst-in-40-comp-bin-1040',\n",
       " 'https://www.auveco.com/uss-fastener-asst-wo-bin-1031',\n",
       " 'https://www.auveco.com/gr-8-fastener-asst-in-40-compartment-bin-1030',\n",
       " 'https://www.auveco.com/gr-5-uss-fast-asst-w-o-bin-1021',\n",
       " 'https://www.auveco.com/gr-5-fast-asst-in-40-comp-bin-1020',\n",
       " 'https://www.auveco.com/import-retainer-assortment-w-o-bin-1055',\n",
       " 'https://www.auveco.com/import-retainer-assortment-in-36-comp-bin-1054',\n",
       " 'https://www.auveco.com/domestic-retainer-assortment-w-o-bin-1053',\n",
       " 'https://www.auveco.com/domestic-retainer-assortment-in-36-compartment-bin-1052']"
      ]
     },
     "execution_count": 4,
     "metadata": {},
     "output_type": "execute_result"
    }
   ],
   "source": [
    "input_ = pd.read_excel(f'./file/2.url/{file}',\n",
    "                       header=0,\n",
    "                       dtype=str).fillna('')\n",
    "\n",
    "input_['No'] = input_['No'].astype(int)\n",
    "\n",
    "print(f'总数量：{len(input_)}')\n",
    "input_['Url'].tolist()"
   ]
  },
  {
   "cell_type": "code",
   "execution_count": 5,
   "id": "5878a9f0-d639-4123-b6e0-bc564f72c2d6",
   "metadata": {},
   "outputs": [
    {
     "data": {
      "text/plain": [
       "0"
      ]
     },
     "execution_count": 5,
     "metadata": {},
     "output_type": "execute_result"
    }
   ],
   "source": [
    "a = 0\n",
    "\n",
    "a"
   ]
  },
  {
   "cell_type": "code",
   "execution_count": 6,
   "id": "9f61dd65-55da-4d0b-ba30-d0534eff0781",
   "metadata": {},
   "outputs": [
    {
     "data": {
      "text/plain": [
       "'error'"
      ]
     },
     "execution_count": 6,
     "metadata": {},
     "output_type": "execute_result"
    }
   ],
   "source": [
    "crawler_status = 'error'\n",
    "\n",
    "crawler_status"
   ]
  },
  {
   "cell_type": "code",
   "execution_count": 7,
   "id": "ad99bc86-6e80-4fcf-8200-736dc5101097",
   "metadata": {
    "scrolled": true
   },
   "outputs": [
    {
     "name": "stdout",
     "output_type": "stream",
     "text": [
      "1\n",
      "2\n",
      "3\n",
      "4\n",
      "5\n",
      "6\n",
      "7\n",
      "8\n",
      "9\n",
      "10\n",
      "11\n",
      "12\n",
      "13\n"
     ]
    },
    {
     "data": {
      "text/plain": [
       "<Response [200]>"
      ]
     },
     "execution_count": 7,
     "metadata": {},
     "output_type": "execute_result"
    }
   ],
   "source": [
    "import requests\n",
    "\n",
    "import sys\n",
    "sys.path.append('../00.Tools')\n",
    "from crawler_configuration import get_header, get_proxy\n",
    "\n",
    "from bs4 import BeautifulSoup\n",
    "from lxml import etree\n",
    "\n",
    "b = 0\n",
    "while True:\n",
    "    b += 1\n",
    "    print(b)\n",
    "    try:\n",
    "        resp = requests.get(input_.loc[a, 'Url'],\n",
    "                            headers=get_header(),\n",
    "                            proxies=get_proxy(),\n",
    "                            timeout=(10, 10))\n",
    "\n",
    "        if resp.status_code == 200:\n",
    "            soup = BeautifulSoup(resp.text, 'lxml')\n",
    "            html = etree.HTML(str(soup))\n",
    "\n",
    "            with open('./part.html', 'w', encoding='UTF-8') as file:\n",
    "                file.write(str(soup))\n",
    "\n",
    "            if html.xpath('//h3/text()')[0].strip() == 'Can\\'t find the item you are looking for on this list? Download this':\n",
    "                break\n",
    "\n",
    "            title = html.xpath('//h1[@itemprop=\"name\"]/text()')[0].strip()\n",
    "            if html.xpath('//li[@class=\"global-views-breadcrumb-item\"]/a[@data-touchpoint=\"home\"]/text()')[0].strip() == 'Home' and html.xpath('//li[@class=\"global-views-breadcrumb-item-active\"]/text()')[0].strip() == title:\n",
    "                break\n",
    "    except KeyboardInterrupt:\n",
    "        break\n",
    "    except:\n",
    "        continue\n",
    "\n",
    "resp"
   ]
  },
  {
   "cell_type": "code",
   "execution_count": null,
   "id": "3b650f52-72c9-44a9-8a2c-7839a7723fd8",
   "metadata": {},
   "outputs": [],
   "source": [
    "html.xpath('//h3/text()')[0].strip() == 'Can\\'t find the item you are looking for on this list? Download this'"
   ]
  },
  {
   "cell_type": "code",
   "execution_count": 8,
   "id": "82cce88e-5745-408a-b1f5-8da3cf4d0d2b",
   "metadata": {},
   "outputs": [
    {
     "data": {
      "text/plain": [
       "['https://www.auveco.com/site/item-images/1043_image-1.jpg?resizeid=3&resizeh=600&resizew=600',\n",
       " 'https://www.auveco.com/site/item-images/1043_image-2.jpg?resizeid=3&resizeh=600&resizew=600']"
      ]
     },
     "execution_count": 8,
     "metadata": {},
     "output_type": "execute_result"
    }
   ],
   "source": [
    "list_src = html.xpath('//ul[@class=\"bxslider\"]/li[@class=\"product-details-image-gallery-container\"]/noscript/img[@itemprop=\"image\"]/@src') + html.xpath('//div[@class=\"product-details-image-gallery\"]/div[@class=\"product-details-image-gallery-detailed-image\"]/noscript/img[@class=\"center-block\"]/@src')\n",
    "list_src = sorted(list(set(list_src)), key=list_src.index)\n",
    "\n",
    "list_src"
   ]
  },
  {
   "cell_type": "code",
   "execution_count": 9,
   "id": "08979eb0-a78c-48f9-90c6-0602642909fc",
   "metadata": {},
   "outputs": [
    {
     "data": {
      "text/plain": [
       "{'0': 'https://www.auveco.com/site/item-images/1043_image-1.jpg?resizeid=3&resizeh=600&resizew=600',\n",
       " '1': 'https://www.auveco.com/site/item-images/1043_image-2.jpg?resizeid=3&resizeh=600&resizew=600'}"
      ]
     },
     "execution_count": 9,
     "metadata": {},
     "output_type": "execute_result"
    }
   ],
   "source": [
    "dict_src = {}\n",
    "for i, src in zip(range(len(list_src)), list_src):\n",
    "    dict_src[str(i)] = src.strip()\n",
    "\n",
    "dict_src"
   ]
  },
  {
   "cell_type": "code",
   "execution_count": 10,
   "id": "217d11d6-ca76-468e-8731-34ffe6e80ef5",
   "metadata": {},
   "outputs": [
    {
     "data": {
      "text/plain": [
       "'1043'"
      ]
     },
     "execution_count": 10,
     "metadata": {},
     "output_type": "execute_result"
    }
   ],
   "source": [
    "sku = html.xpath('//span[@itemprop=\"sku\"]/text()')[0].strip()\n",
    "\n",
    "sku"
   ]
  },
  {
   "cell_type": "code",
   "execution_count": 11,
   "id": "286d188f-f4da-41cc-ba0b-e206b5721693",
   "metadata": {},
   "outputs": [
    {
     "data": {
      "text/plain": [
       "{'0': {'Pcs/Unit': '1'},\n",
       " '1': {'Includes': '1995 Pieces, Planogram And Reorder Labels, Without The 72B-9 Bin'},\n",
       " '2': {'Country': 'Mexico'}}"
      ]
     },
     "execution_count": 11,
     "metadata": {},
     "output_type": "execute_result"
    }
   ],
   "source": [
    "dict_description, list_tr = {}, html.xpath('//form[@id=\"product-details-full-form\"]/table[@class=\"specs-table table table-striped\"]/tbody/tr')\n",
    "for i, tr in zip(range(len(list_tr)), list_tr):\n",
    "    dict_description[str(i)] = {tr.xpath('./td[1]/text()')[0].strip(): tr.xpath('./td[2]/text()')[0].strip()}\n",
    "\n",
    "dict_description"
   ]
  },
  {
   "cell_type": "code",
   "execution_count": 12,
   "id": "5b117084-166b-4f0d-a836-6d8f4c980bc2",
   "metadata": {},
   "outputs": [
    {
     "data": {
      "text/plain": [
       "''"
      ]
     },
     "execution_count": 12,
     "metadata": {},
     "output_type": "execute_result"
    }
   ],
   "source": [
    "list_oem = [text.strip() for text in html.xpath('//form[@id=\"product-details-full-form\"]/div[@data-view=\"Additional.Detail.Fields\"]/div/table[@class=\"specs-table table table-striped\"]/tbody/tr/td[1]/text()')]\n",
    "list_oem = sorted(list(set(list_oem)), key=list_oem.index)\n",
    "\n",
    "oem = ';'.join(list_oem)\n",
    "\n",
    "oem"
   ]
  },
  {
   "cell_type": "code",
   "execution_count": 13,
   "id": "0ebb0da6-9494-41fc-9823-6866ea382cff",
   "metadata": {},
   "outputs": [
    {
     "data": {
      "text/html": [
       "<div>\n",
       "<style scoped>\n",
       "    .dataframe tbody tr th:only-of-type {\n",
       "        vertical-align: middle;\n",
       "    }\n",
       "\n",
       "    .dataframe tbody tr th {\n",
       "        vertical-align: top;\n",
       "    }\n",
       "\n",
       "    .dataframe thead th {\n",
       "        text-align: right;\n",
       "    }\n",
       "</style>\n",
       "<table border=\"1\" class=\"dataframe\">\n",
       "  <thead>\n",
       "    <tr style=\"text-align: right;\">\n",
       "      <th></th>\n",
       "      <th>No</th>\n",
       "      <th>SKU</th>\n",
       "      <th>Title</th>\n",
       "      <th>OEM</th>\n",
       "      <th>Picture</th>\n",
       "      <th>Url</th>\n",
       "      <th>Json_Src</th>\n",
       "      <th>Json_Description</th>\n",
       "    </tr>\n",
       "  </thead>\n",
       "  <tbody>\n",
       "    <tr>\n",
       "      <th>0</th>\n",
       "      <td>1</td>\n",
       "      <td>1043</td>\n",
       "      <td>Metric Fastener Assortment withoutut Compartme...</td>\n",
       "      <td></td>\n",
       "      <td></td>\n",
       "      <td>https://www.auveco.com/metric-fastener-assortm...</td>\n",
       "      <td>{\"0\": \"https://www.auveco.com/site/item-images...</td>\n",
       "      <td>{\"0\": {\"Pcs/Unit\": \"1\"}, \"1\": {\"Includes\": \"19...</td>\n",
       "    </tr>\n",
       "  </tbody>\n",
       "</table>\n",
       "</div>"
      ],
      "text/plain": [
       "   No   SKU                                              Title OEM Picture  \\\n",
       "0   1  1043  Metric Fastener Assortment withoutut Compartme...               \n",
       "\n",
       "                                                 Url  \\\n",
       "0  https://www.auveco.com/metric-fastener-assortm...   \n",
       "\n",
       "                                            Json_Src  \\\n",
       "0  {\"0\": \"https://www.auveco.com/site/item-images...   \n",
       "\n",
       "                                    Json_Description  \n",
       "0  {\"0\": {\"Pcs/Unit\": \"1\"}, \"1\": {\"Includes\": \"19...  "
      ]
     },
     "execution_count": 13,
     "metadata": {},
     "output_type": "execute_result"
    }
   ],
   "source": [
    "import json\n",
    "\n",
    "df_temp = pd.DataFrame([{'No': input_.loc[a, 'No'],\n",
    "                         'SKU': sku,\n",
    "                         'Title': title,\n",
    "                         'OEM': oem,\n",
    "                         'Picture': '',\n",
    "                         'Url': input_.loc[a, 'Url'],\n",
    "                         'Json_Src': json.dumps(dict_src),\n",
    "                         'Json_Description': json.dumps(dict_description)}])\n",
    "\n",
    "output_correct = pd.concat([output_correct, df_temp], ignore_index=True).fillna('')\n",
    "\n",
    "output_correct"
   ]
  },
  {
   "cell_type": "code",
   "execution_count": 14,
   "id": "fc4ed7f6-ed4f-431c-b944-b1690309cdae",
   "metadata": {},
   "outputs": [
    {
     "data": {
      "text/plain": [
       "'ok'"
      ]
     },
     "execution_count": 14,
     "metadata": {},
     "output_type": "execute_result"
    }
   ],
   "source": [
    "crawler_status = 'ok'\n",
    "\n",
    "crawler_status"
   ]
  },
  {
   "cell_type": "code",
   "execution_count": 15,
   "id": "65c745d1-446e-46c5-9dec-819c9f7944d3",
   "metadata": {},
   "outputs": [
    {
     "data": {
      "text/html": [
       "<div>\n",
       "<style scoped>\n",
       "    .dataframe tbody tr th:only-of-type {\n",
       "        vertical-align: middle;\n",
       "    }\n",
       "\n",
       "    .dataframe tbody tr th {\n",
       "        vertical-align: top;\n",
       "    }\n",
       "\n",
       "    .dataframe thead th {\n",
       "        text-align: right;\n",
       "    }\n",
       "</style>\n",
       "<table border=\"1\" class=\"dataframe\">\n",
       "  <thead>\n",
       "    <tr style=\"text-align: right;\">\n",
       "      <th></th>\n",
       "    </tr>\n",
       "  </thead>\n",
       "  <tbody>\n",
       "  </tbody>\n",
       "</table>\n",
       "</div>"
      ],
      "text/plain": [
       "Empty DataFrame\n",
       "Columns: []\n",
       "Index: []"
      ]
     },
     "execution_count": 15,
     "metadata": {},
     "output_type": "execute_result"
    }
   ],
   "source": [
    "if crawler_status == 'error':\n",
    "    output_error = pd.concat([output_error, pd.DataFrame([input_.iloc[a]]).reset_index(drop=True)], ignore_index=True).fillna('')\n",
    "\n",
    "output_error"
   ]
  },
  {
   "cell_type": "code",
   "execution_count": 16,
   "id": "7fd477de",
   "metadata": {},
   "outputs": [
    {
     "data": {
      "text/html": [
       "<div>\n",
       "<style scoped>\n",
       "    .dataframe tbody tr th:only-of-type {\n",
       "        vertical-align: middle;\n",
       "    }\n",
       "\n",
       "    .dataframe tbody tr th {\n",
       "        vertical-align: top;\n",
       "    }\n",
       "\n",
       "    .dataframe thead th {\n",
       "        text-align: right;\n",
       "    }\n",
       "</style>\n",
       "<table border=\"1\" class=\"dataframe\">\n",
       "  <thead>\n",
       "    <tr style=\"text-align: right;\">\n",
       "      <th></th>\n",
       "      <th>No</th>\n",
       "      <th>SKU</th>\n",
       "      <th>Title</th>\n",
       "      <th>OEM</th>\n",
       "      <th>Picture</th>\n",
       "      <th>Url</th>\n",
       "      <th>Json_Src</th>\n",
       "      <th>Json_Description</th>\n",
       "    </tr>\n",
       "  </thead>\n",
       "  <tbody>\n",
       "    <tr>\n",
       "      <th>0</th>\n",
       "      <td>1</td>\n",
       "      <td>1043</td>\n",
       "      <td>Metric Fastener Assortment withoutut Compartme...</td>\n",
       "      <td></td>\n",
       "      <td></td>\n",
       "      <td>https://www.auveco.com/metric-fastener-assortm...</td>\n",
       "      <td>{\"0\": \"https://www.auveco.com/site/item-images...</td>\n",
       "      <td>{\"0\": {\"Pcs/Unit\": \"1\"}, \"1\": {\"Includes\": \"19...</td>\n",
       "    </tr>\n",
       "  </tbody>\n",
       "</table>\n",
       "</div>"
      ],
      "text/plain": [
       "   No   SKU                                              Title OEM Picture  \\\n",
       "0   1  1043  Metric Fastener Assortment withoutut Compartme...               \n",
       "\n",
       "                                                 Url  \\\n",
       "0  https://www.auveco.com/metric-fastener-assortm...   \n",
       "\n",
       "                                            Json_Src  \\\n",
       "0  {\"0\": \"https://www.auveco.com/site/item-images...   \n",
       "\n",
       "                                    Json_Description  \n",
       "0  {\"0\": {\"Pcs/Unit\": \"1\"}, \"1\": {\"Includes\": \"19...  "
      ]
     },
     "execution_count": 16,
     "metadata": {},
     "output_type": "execute_result"
    }
   ],
   "source": [
    "if not output_correct.empty:\n",
    "    output_correct = output_correct.sort_values(by=['No'],\n",
    "                                                ascending=[True],\n",
    "                                                ignore_index=True)\n",
    "    output_correct.to_excel('./test_part.xlsx', index=False)\n",
    "\n",
    "output_correct"
   ]
  },
  {
   "cell_type": "code",
   "execution_count": 17,
   "id": "39a5441b-7f69-4812-aad8-7e10a1a24e78",
   "metadata": {},
   "outputs": [
    {
     "data": {
      "text/html": [
       "<div>\n",
       "<style scoped>\n",
       "    .dataframe tbody tr th:only-of-type {\n",
       "        vertical-align: middle;\n",
       "    }\n",
       "\n",
       "    .dataframe tbody tr th {\n",
       "        vertical-align: top;\n",
       "    }\n",
       "\n",
       "    .dataframe thead th {\n",
       "        text-align: right;\n",
       "    }\n",
       "</style>\n",
       "<table border=\"1\" class=\"dataframe\">\n",
       "  <thead>\n",
       "    <tr style=\"text-align: right;\">\n",
       "      <th></th>\n",
       "    </tr>\n",
       "  </thead>\n",
       "  <tbody>\n",
       "  </tbody>\n",
       "</table>\n",
       "</div>"
      ],
      "text/plain": [
       "Empty DataFrame\n",
       "Columns: []\n",
       "Index: []"
      ]
     },
     "execution_count": 17,
     "metadata": {},
     "output_type": "execute_result"
    }
   ],
   "source": [
    "if not output_error.empty:\n",
    "    output_error = output_error.sort_values(by=['No'],\n",
    "                                            ascending=[True],\n",
    "                                            ignore_index=True)\n",
    "    output_error.to_excel('./test_part_error.xlsx', index=False)\n",
    "\n",
    "output_error"
   ]
  },
  {
   "cell_type": "code",
   "execution_count": null,
   "id": "ba5d9f77-7464-4ad5-a42b-1fa0c0505832",
   "metadata": {},
   "outputs": [],
   "source": []
  }
 ],
 "metadata": {
  "kernelspec": {
   "display_name": "Python 3 (ipykernel)",
   "language": "python",
   "name": "python3"
  },
  "language_info": {
   "codemirror_mode": {
    "name": "ipython",
    "version": 3
   },
   "file_extension": ".py",
   "mimetype": "text/x-python",
   "name": "python",
   "nbconvert_exporter": "python",
   "pygments_lexer": "ipython3",
   "version": "3.11.3"
  }
 },
 "nbformat": 4,
 "nbformat_minor": 5
}
