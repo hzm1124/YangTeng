{
 "cells": [
  {
   "cell_type": "code",
   "execution_count": 1,
   "id": "b224b092-7515-4c67-9924-ecc774b65d25",
   "metadata": {},
   "outputs": [],
   "source": [
    "param_date = '20240706'"
   ]
  },
  {
   "cell_type": "code",
   "execution_count": 2,
   "id": "927387f9-6848-4aa6-b1a6-e1f85176687c",
   "metadata": {
    "scrolled": true
   },
   "outputs": [
    {
     "data": {
      "text/plain": [
       "['part_1-fragment_1.xlsx',\n",
       " 'part_10-fragment_10.xlsx',\n",
       " 'part_11-fragment_11.xlsx',\n",
       " 'part_12-fragment_12.xlsx',\n",
       " 'part_13-fragment_13.xlsx',\n",
       " 'part_14-fragment_14.xlsx',\n",
       " 'part_15-fragment_15.xlsx',\n",
       " 'part_16-fragment_16.xlsx',\n",
       " 'part_17-fragment_17.xlsx',\n",
       " 'part_18-fragment_18.xlsx',\n",
       " 'part_19-fragment_19.xlsx',\n",
       " 'part_2-fragment_2.xlsx',\n",
       " 'part_20-fragment_20.xlsx',\n",
       " 'part_21-fragment_21.xlsx',\n",
       " 'part_22-fragment_22.xlsx',\n",
       " 'part_23-fragment_23.xlsx',\n",
       " 'part_24-fragment_24.xlsx',\n",
       " 'part_25-fragment_25.xlsx',\n",
       " 'part_26-fragment_26.xlsx',\n",
       " 'part_27-fragment_27.xlsx',\n",
       " 'part_28-fragment_28.xlsx',\n",
       " 'part_29-fragment_29.xlsx',\n",
       " 'part_3-fragment_3.xlsx',\n",
       " 'part_30-fragment_30.xlsx',\n",
       " 'part_31-fragment_31.xlsx',\n",
       " 'part_32-fragment_32.xlsx',\n",
       " 'part_33-fragment_33.xlsx',\n",
       " 'part_4-fragment_4.xlsx',\n",
       " 'part_5-fragment_5.xlsx',\n",
       " 'part_6-fragment_6.xlsx',\n",
       " 'part_7-fragment_7.xlsx',\n",
       " 'part_8-fragment_8.xlsx',\n",
       " 'part_9-fragment_9.xlsx']"
      ]
     },
     "execution_count": 2,
     "metadata": {},
     "output_type": "execute_result"
    }
   ],
   "source": [
    "import os\n",
    "\n",
    "list_file = sorted(list(os.walk(f'./{param_date}/12.vehicle_1'))[0][2])\n",
    "while '.DS_Store' in list_file:\n",
    "    list_file.remove('.DS_Store')\n",
    "while '0.null.txt' in list_file:\n",
    "    list_file.remove('0.null.txt')\n",
    "\n",
    "list_file"
   ]
  },
  {
   "cell_type": "code",
   "execution_count": 3,
   "id": "11d86da9-35a4-4be4-9feb-3807bf608b6b",
   "metadata": {},
   "outputs": [
    {
     "name": "stderr",
     "output_type": "stream",
     "text": [
      "Progress: 100%|█████████████████████████████| 33/33 [00:00<00:00, 905.43it/s]"
     ]
    },
    {
     "name": "stdout",
     "output_type": "stream",
     "text": [
      "Done ~\n"
     ]
    },
    {
     "name": "stderr",
     "output_type": "stream",
     "text": [
      "\n"
     ]
    }
   ],
   "source": [
    "from tqdm import tqdm\n",
    "import re\n",
    "\n",
    "for file in tqdm(list_file, desc='Progress', ncols=77):\n",
    "    os.rename(f'./{param_date}/12.vehicle_1/{file}',\n",
    "              f'''./{param_date}/12.vehicle_1/{re.sub(r'-[0-9]{8}_[0-9]{6}.xlsx$', '.xlsx', file)}''')\n",
    "\n",
    "print('Done ~')"
   ]
  },
  {
   "cell_type": "code",
   "execution_count": 4,
   "id": "cdcadb0d-2c30-401e-8b37-8d1c9b55f3e3",
   "metadata": {
    "scrolled": true
   },
   "outputs": [
    {
     "data": {
      "text/plain": [
       "['part_1-fragment_1.xlsx',\n",
       " 'part_10-fragment_10.xlsx',\n",
       " 'part_11-fragment_11.xlsx',\n",
       " 'part_12-fragment_12.xlsx',\n",
       " 'part_13-fragment_13.xlsx',\n",
       " 'part_14-fragment_14.xlsx',\n",
       " 'part_15-fragment_15.xlsx',\n",
       " 'part_16-fragment_16.xlsx',\n",
       " 'part_17-fragment_17.xlsx',\n",
       " 'part_18-fragment_18.xlsx',\n",
       " 'part_19-fragment_19.xlsx',\n",
       " 'part_2-fragment_2.xlsx',\n",
       " 'part_20-fragment_20.xlsx',\n",
       " 'part_21-fragment_21.xlsx',\n",
       " 'part_22-fragment_22.xlsx',\n",
       " 'part_23-fragment_23.xlsx',\n",
       " 'part_24-fragment_24.xlsx',\n",
       " 'part_25-fragment_25.xlsx',\n",
       " 'part_26-fragment_26.xlsx',\n",
       " 'part_27-fragment_27.xlsx',\n",
       " 'part_28-fragment_28.xlsx',\n",
       " 'part_29-fragment_29.xlsx',\n",
       " 'part_3-fragment_3.xlsx',\n",
       " 'part_30-fragment_30.xlsx',\n",
       " 'part_31-fragment_31.xlsx',\n",
       " 'part_32-fragment_32.xlsx',\n",
       " 'part_33-fragment_33.xlsx',\n",
       " 'part_4-fragment_4.xlsx',\n",
       " 'part_5-fragment_5.xlsx',\n",
       " 'part_6-fragment_6.xlsx',\n",
       " 'part_7-fragment_7.xlsx',\n",
       " 'part_8-fragment_8.xlsx',\n",
       " 'part_9-fragment_9.xlsx']"
      ]
     },
     "execution_count": 4,
     "metadata": {},
     "output_type": "execute_result"
    }
   ],
   "source": [
    "import os\n",
    "\n",
    "list_file = sorted(list(os.walk(f'./{param_date}/12.vehicle_1'))[0][2])\n",
    "while '.DS_Store' in list_file:\n",
    "    list_file.remove('.DS_Store')\n",
    "while '0.null.txt' in list_file:\n",
    "    list_file.remove('0.null.txt')\n",
    "\n",
    "list_file"
   ]
  },
  {
   "cell_type": "code",
   "execution_count": 5,
   "id": "5804f524-99df-475f-8c6d-08a9ee5c223a",
   "metadata": {
    "scrolled": true
   },
   "outputs": [
    {
     "name": "stdout",
     "output_type": "stream",
     "text": [
      "part_1-fragment_1.xlsx\n"
     ]
    },
    {
     "name": "stderr",
     "output_type": "stream",
     "text": [
      "Progress: 100%|█████████████████████████| 2470/2470 [00:23<00:00, 107.06it/s]\n"
     ]
    },
    {
     "name": "stdout",
     "output_type": "stream",
     "text": [
      "part_10-fragment_10.xlsx\n"
     ]
    },
    {
     "name": "stderr",
     "output_type": "stream",
     "text": [
      "Progress: 100%|█████████████████████████| 2908/2908 [00:26<00:00, 110.75it/s]\n"
     ]
    },
    {
     "name": "stdout",
     "output_type": "stream",
     "text": [
      "part_11-fragment_11.xlsx\n"
     ]
    },
    {
     "name": "stderr",
     "output_type": "stream",
     "text": [
      "Progress: 100%|█████████████████████████| 2966/2966 [00:19<00:00, 153.48it/s]\n"
     ]
    },
    {
     "name": "stdout",
     "output_type": "stream",
     "text": [
      "part_12-fragment_12.xlsx\n"
     ]
    },
    {
     "name": "stderr",
     "output_type": "stream",
     "text": [
      "Progress: 100%|█████████████████████████| 2914/2914 [00:20<00:00, 145.46it/s]\n"
     ]
    },
    {
     "name": "stdout",
     "output_type": "stream",
     "text": [
      "part_13-fragment_13.xlsx\n"
     ]
    },
    {
     "name": "stderr",
     "output_type": "stream",
     "text": [
      "Progress: 100%|█████████████████████████| 2613/2613 [00:16<00:00, 161.16it/s]\n"
     ]
    },
    {
     "name": "stdout",
     "output_type": "stream",
     "text": [
      "part_14-fragment_14.xlsx\n"
     ]
    },
    {
     "name": "stderr",
     "output_type": "stream",
     "text": [
      "Progress: 100%|█████████████████████████| 2910/2910 [00:17<00:00, 166.48it/s]\n"
     ]
    },
    {
     "name": "stdout",
     "output_type": "stream",
     "text": [
      "part_15-fragment_15.xlsx\n"
     ]
    },
    {
     "name": "stderr",
     "output_type": "stream",
     "text": [
      "Progress: 100%|█████████████████████████| 2750/2750 [00:25<00:00, 108.26it/s]\n"
     ]
    },
    {
     "name": "stdout",
     "output_type": "stream",
     "text": [
      "part_16-fragment_16.xlsx\n"
     ]
    },
    {
     "name": "stderr",
     "output_type": "stream",
     "text": [
      "Progress: 100%|█████████████████████████| 2992/2992 [00:23<00:00, 125.28it/s]\n"
     ]
    },
    {
     "name": "stdout",
     "output_type": "stream",
     "text": [
      "part_17-fragment_17.xlsx\n"
     ]
    },
    {
     "name": "stderr",
     "output_type": "stream",
     "text": [
      "Progress: 100%|█████████████████████████| 2909/2909 [00:20<00:00, 143.76it/s]\n"
     ]
    },
    {
     "name": "stdout",
     "output_type": "stream",
     "text": [
      "part_18-fragment_18.xlsx\n"
     ]
    },
    {
     "name": "stderr",
     "output_type": "stream",
     "text": [
      "Progress: 100%|██████████████████████████| 2684/2684 [00:35<00:00, 75.63it/s]\n"
     ]
    },
    {
     "name": "stdout",
     "output_type": "stream",
     "text": [
      "part_19-fragment_19.xlsx\n"
     ]
    },
    {
     "name": "stderr",
     "output_type": "stream",
     "text": [
      "Progress: 100%|██████████████████████████| 2660/2660 [00:37<00:00, 71.58it/s]\n"
     ]
    },
    {
     "name": "stdout",
     "output_type": "stream",
     "text": [
      "part_2-fragment_2.xlsx\n"
     ]
    },
    {
     "name": "stderr",
     "output_type": "stream",
     "text": [
      "Progress: 100%|█████████████████████████| 2907/2907 [00:22<00:00, 131.29it/s]\n"
     ]
    },
    {
     "name": "stdout",
     "output_type": "stream",
     "text": [
      "part_20-fragment_20.xlsx\n"
     ]
    },
    {
     "name": "stderr",
     "output_type": "stream",
     "text": [
      "Progress: 100%|██████████████████████████| 2580/2580 [00:41<00:00, 62.63it/s]\n"
     ]
    },
    {
     "name": "stdout",
     "output_type": "stream",
     "text": [
      "part_21-fragment_21.xlsx\n"
     ]
    },
    {
     "name": "stderr",
     "output_type": "stream",
     "text": [
      "Progress: 100%|██████████████████████████| 2751/2751 [00:30<00:00, 90.50it/s]\n"
     ]
    },
    {
     "name": "stdout",
     "output_type": "stream",
     "text": [
      "part_22-fragment_22.xlsx\n"
     ]
    },
    {
     "name": "stderr",
     "output_type": "stream",
     "text": [
      "Progress: 100%|█████████████████████████| 2869/2869 [00:21<00:00, 131.40it/s]\n"
     ]
    },
    {
     "name": "stdout",
     "output_type": "stream",
     "text": [
      "part_23-fragment_23.xlsx\n"
     ]
    },
    {
     "name": "stderr",
     "output_type": "stream",
     "text": [
      "Progress: 100%|█████████████████████████| 2933/2933 [00:15<00:00, 188.79it/s]\n"
     ]
    },
    {
     "name": "stdout",
     "output_type": "stream",
     "text": [
      "part_24-fragment_24.xlsx\n"
     ]
    },
    {
     "name": "stderr",
     "output_type": "stream",
     "text": [
      "Progress: 100%|█████████████████████████| 2927/2927 [00:18<00:00, 154.95it/s]\n"
     ]
    },
    {
     "name": "stdout",
     "output_type": "stream",
     "text": [
      "part_25-fragment_25.xlsx\n"
     ]
    },
    {
     "name": "stderr",
     "output_type": "stream",
     "text": [
      "Progress: 100%|█████████████████████████| 2830/2830 [00:22<00:00, 124.14it/s]\n"
     ]
    },
    {
     "name": "stdout",
     "output_type": "stream",
     "text": [
      "part_26-fragment_26.xlsx\n"
     ]
    },
    {
     "name": "stderr",
     "output_type": "stream",
     "text": [
      "Progress: 100%|█████████████████████████| 2887/2887 [00:28<00:00, 102.37it/s]\n"
     ]
    },
    {
     "name": "stdout",
     "output_type": "stream",
     "text": [
      "part_27-fragment_27.xlsx\n"
     ]
    },
    {
     "name": "stderr",
     "output_type": "stream",
     "text": [
      "Progress: 100%|█████████████████████████| 2921/2921 [00:17<00:00, 164.49it/s]\n"
     ]
    },
    {
     "name": "stdout",
     "output_type": "stream",
     "text": [
      "part_28-fragment_28.xlsx\n"
     ]
    },
    {
     "name": "stderr",
     "output_type": "stream",
     "text": [
      "Progress: 100%|█████████████████████████| 2898/2898 [00:28<00:00, 100.71it/s]\n"
     ]
    },
    {
     "name": "stdout",
     "output_type": "stream",
     "text": [
      "part_29-fragment_29.xlsx\n"
     ]
    },
    {
     "name": "stderr",
     "output_type": "stream",
     "text": [
      "Progress: 100%|█████████████████████████| 2854/2854 [00:27<00:00, 105.28it/s]\n"
     ]
    },
    {
     "name": "stdout",
     "output_type": "stream",
     "text": [
      "part_3-fragment_3.xlsx\n"
     ]
    },
    {
     "name": "stderr",
     "output_type": "stream",
     "text": [
      "Progress: 100%|██████████████████████████| 2868/2868 [00:35<00:00, 79.79it/s]\n"
     ]
    },
    {
     "name": "stdout",
     "output_type": "stream",
     "text": [
      "part_30-fragment_30.xlsx\n"
     ]
    },
    {
     "name": "stderr",
     "output_type": "stream",
     "text": [
      "Progress: 100%|█████████████████████████| 2883/2883 [00:25<00:00, 113.61it/s]\n"
     ]
    },
    {
     "name": "stdout",
     "output_type": "stream",
     "text": [
      "part_31-fragment_31.xlsx\n"
     ]
    },
    {
     "name": "stderr",
     "output_type": "stream",
     "text": [
      "Progress: 100%|█████████████████████████| 2943/2943 [00:21<00:00, 138.08it/s]\n"
     ]
    },
    {
     "name": "stdout",
     "output_type": "stream",
     "text": [
      "part_32-fragment_32.xlsx\n"
     ]
    },
    {
     "name": "stderr",
     "output_type": "stream",
     "text": [
      "Progress: 100%|█████████████████████████| 2935/2935 [00:18<00:00, 155.69it/s]\n"
     ]
    },
    {
     "name": "stdout",
     "output_type": "stream",
     "text": [
      "part_33-fragment_33.xlsx\n"
     ]
    },
    {
     "name": "stderr",
     "output_type": "stream",
     "text": [
      "Progress: 100%|█████████████████████████| 1210/1210 [00:07<00:00, 171.38it/s]\n"
     ]
    },
    {
     "name": "stdout",
     "output_type": "stream",
     "text": [
      "part_4-fragment_4.xlsx\n"
     ]
    },
    {
     "name": "stderr",
     "output_type": "stream",
     "text": [
      "Progress: 100%|█████████████████████████| 2988/2988 [00:20<00:00, 149.37it/s]\n"
     ]
    },
    {
     "name": "stdout",
     "output_type": "stream",
     "text": [
      "part_5-fragment_5.xlsx\n"
     ]
    },
    {
     "name": "stderr",
     "output_type": "stream",
     "text": [
      "Progress: 100%|█████████████████████████| 2979/2979 [00:15<00:00, 198.36it/s]\n"
     ]
    },
    {
     "name": "stdout",
     "output_type": "stream",
     "text": [
      "part_6-fragment_6.xlsx\n"
     ]
    },
    {
     "name": "stderr",
     "output_type": "stream",
     "text": [
      "Progress: 100%|█████████████████████████| 2983/2983 [00:25<00:00, 119.02it/s]\n"
     ]
    },
    {
     "name": "stdout",
     "output_type": "stream",
     "text": [
      "part_7-fragment_7.xlsx\n"
     ]
    },
    {
     "name": "stderr",
     "output_type": "stream",
     "text": [
      "Progress: 100%|█████████████████████████| 2983/2983 [00:24<00:00, 121.87it/s]\n"
     ]
    },
    {
     "name": "stdout",
     "output_type": "stream",
     "text": [
      "part_8-fragment_8.xlsx\n"
     ]
    },
    {
     "name": "stderr",
     "output_type": "stream",
     "text": [
      "Progress: 100%|█████████████████████████| 2940/2940 [00:18<00:00, 160.84it/s]\n"
     ]
    },
    {
     "name": "stdout",
     "output_type": "stream",
     "text": [
      "part_9-fragment_9.xlsx\n"
     ]
    },
    {
     "name": "stderr",
     "output_type": "stream",
     "text": [
      "Progress: 100%|█████████████████████████| 2124/2124 [00:18<00:00, 117.79it/s]\n"
     ]
    },
    {
     "name": "stdout",
     "output_type": "stream",
     "text": [
      "Done ~\n"
     ]
    }
   ],
   "source": [
    "import pandas as pd\n",
    "\n",
    "output = pd.DataFrame()\n",
    "for file in list_file:\n",
    "    print(file)\n",
    "    input_ = pd.read_excel(f'./{param_date}/12.vehicle_1/{file}',\n",
    "                           header=0,\n",
    "                           dtype=str).fillna('')\n",
    "\n",
    "    # = = = = = = = = = = = = = = =\n",
    "\n",
    "    input_2 = input_[['Part Number']].drop_duplicates(keep='first', ignore_index=True)\n",
    "    input_2 = input_2.sort_values(by=['Part Number'],\n",
    "                                  ascending=[True],\n",
    "                                  ignore_index=True)\n",
    "\n",
    "    # = = = = = = = = = = = = = = =\n",
    "\n",
    "    for i in tqdm(range(len(input_2)), desc='Progress', ncols=77):\n",
    "        df_temp = input_[input_['Part Number'] == input_2.loc[i, 'Part Number']].copy().reset_index(drop=True)\n",
    "\n",
    "        # = = = = = = = = = = = = = = =\n",
    "\n",
    "        dict_vehicle = {}\n",
    "        for j in range(len(df_temp)):\n",
    "            if df_temp.loc[j, 'Make'] not in dict_vehicle.keys():\n",
    "                dict_vehicle[df_temp.loc[j, 'Make']] = {df_temp.loc[j, 'Model']: {df_temp.loc[j, 'Configuration']: [int(df_temp.loc[j, 'Year'])]}}\n",
    "            elif df_temp.loc[j, 'Model'] not in dict_vehicle[df_temp.loc[j, 'Make']].keys():\n",
    "                dict_vehicle[df_temp.loc[j, 'Make']][df_temp.loc[j, 'Model']] = {df_temp.loc[j, 'Configuration']: [int(df_temp.loc[j, 'Year'])]}\n",
    "            elif df_temp.loc[j, 'Configuration'] not in dict_vehicle[df_temp.loc[j, 'Make']][df_temp.loc[j, 'Model']].keys():\n",
    "                dict_vehicle[df_temp.loc[j, 'Make']][df_temp.loc[j, 'Model']][df_temp.loc[j, 'Configuration']] = [int(df_temp.loc[j, 'Year'])]\n",
    "            elif int(df_temp.loc[j, 'Year']) not in dict_vehicle[df_temp.loc[j, 'Make']][df_temp.loc[j, 'Model']][df_temp.loc[j, 'Configuration']]:\n",
    "                dict_vehicle[df_temp.loc[j, 'Make']][df_temp.loc[j, 'Model']][df_temp.loc[j, 'Configuration']].append(int(df_temp.loc[j, 'Year']))\n",
    "\n",
    "        # = = = = = = = = = = = = = = =\n",
    "\n",
    "        list_vehicle = []\n",
    "        for make in dict_vehicle.keys():\n",
    "            for model in dict_vehicle[make].keys():\n",
    "                list_year = []\n",
    "                for engine in dict_vehicle[make][model].keys():\n",
    "                    list_year = list(set(list_year + dict_vehicle[make][model][engine]))\n",
    "                year_begin = min(list_year)\n",
    "                year_end = max(list_year)\n",
    "                list_vehicle.append(f'{make} {model} {year_begin}' if year_begin == year_end else f'{make} {model} {year_begin}-{year_end}')\n",
    "\n",
    "        input_2.loc[i, 'Vehicle W/o Engine'] = '\\n'.join(list_vehicle)\n",
    "\n",
    "        # = = = = = = = = = = = = = = =\n",
    "\n",
    "        list_vehicle = []\n",
    "        for make in dict_vehicle.keys():\n",
    "            for model in dict_vehicle[make].keys():\n",
    "                for engine in dict_vehicle[make][model].keys():\n",
    "                    year_begin = min(dict_vehicle[make][model][engine])\n",
    "                    year_end = max(dict_vehicle[make][model][engine])\n",
    "                    list_vehicle.append(f'{make} {model} {year_begin} {engine}'.strip() if year_begin == year_end else f'{make} {model} {year_begin}-{year_end} {engine}'.strip())\n",
    "\n",
    "        input_2.loc[i, 'Vehicle W/ Engine'] = '\\n'.join(list_vehicle)\n",
    "\n",
    "    # = = = = = = = = = = = = = = =\n",
    "\n",
    "    output = pd.concat([output, input_2], ignore_index=True).fillna('')\n",
    "\n",
    "# = = = = = = = = = = = = = = =\n",
    "\n",
    "output.to_excel(f'./{param_date}/13.vehicle.xlsx', index=False)\n",
    "\n",
    "print('Done ~')"
   ]
  },
  {
   "cell_type": "code",
   "execution_count": null,
   "id": "9ac37980-faaa-4da0-8f3a-ad9eeaa49eba",
   "metadata": {},
   "outputs": [],
   "source": []
  }
 ],
 "metadata": {
  "kernelspec": {
   "display_name": "Python 3 (ipykernel)",
   "language": "python",
   "name": "python3"
  },
  "language_info": {
   "codemirror_mode": {
    "name": "ipython",
    "version": 3
   },
   "file_extension": ".py",
   "mimetype": "text/x-python",
   "name": "python",
   "nbconvert_exporter": "python",
   "pygments_lexer": "ipython3",
   "version": "3.11.3"
  }
 },
 "nbformat": 4,
 "nbformat_minor": 5
}
