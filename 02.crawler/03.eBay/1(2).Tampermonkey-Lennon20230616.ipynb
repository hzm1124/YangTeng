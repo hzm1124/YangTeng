{
 "cells": [
  {
   "cell_type": "code",
   "execution_count": 1,
   "id": "14ca4672",
   "metadata": {},
   "outputs": [],
   "source": [
    "import os"
   ]
  },
  {
   "cell_type": "code",
   "execution_count": 2,
   "id": "a3369d1a",
   "metadata": {},
   "outputs": [
    {
     "data": {
      "text/plain": [
       "37"
      ]
     },
     "execution_count": 2,
     "metadata": {},
     "output_type": "execute_result"
    }
   ],
   "source": [
    "list_file = list(os.walk('./menu'))[0][2]\n",
    "if '.DS_Store' in list_file:\n",
    "   list_file.remove('.DS_Store')\n",
    "\n",
    "len(list_file)"
   ]
  },
  {
   "cell_type": "code",
   "execution_count": 3,
   "id": "552c5c8c",
   "metadata": {},
   "outputs": [],
   "source": [
    "import pandas as pd"
   ]
  },
  {
   "cell_type": "code",
   "execution_count": 4,
   "id": "19a50da8",
   "metadata": {},
   "outputs": [
    {
     "data": {
      "text/html": [
       "<div>\n",
       "<style scoped>\n",
       "    .dataframe tbody tr th:only-of-type {\n",
       "        vertical-align: middle;\n",
       "    }\n",
       "\n",
       "    .dataframe tbody tr th {\n",
       "        vertical-align: top;\n",
       "    }\n",
       "\n",
       "    .dataframe thead th {\n",
       "        text-align: right;\n",
       "    }\n",
       "</style>\n",
       "<table border=\"1\" class=\"dataframe\">\n",
       "  <thead>\n",
       "    <tr style=\"text-align: right;\">\n",
       "      <th></th>\n",
       "      <th>Item_Number</th>\n",
       "      <th>Url</th>\n",
       "    </tr>\n",
       "  </thead>\n",
       "  <tbody>\n",
       "  </tbody>\n",
       "</table>\n",
       "</div>"
      ],
      "text/plain": [
       "Empty DataFrame\n",
       "Columns: [Item_Number, Url]\n",
       "Index: []"
      ]
     },
     "execution_count": 4,
     "metadata": {},
     "output_type": "execute_result"
    }
   ],
   "source": [
    "df = pd.DataFrame(columns=['Item_Number', 'Url'])\n",
    "\n",
    "df"
   ]
  },
  {
   "cell_type": "code",
   "execution_count": 5,
   "id": "000d53d7",
   "metadata": {},
   "outputs": [],
   "source": [
    "import json"
   ]
  },
  {
   "cell_type": "code",
   "execution_count": 6,
   "id": "1d3df716",
   "metadata": {},
   "outputs": [
    {
     "name": "stdout",
     "output_type": "stream",
     "text": [
      "www.ebay.com_sch_i.html__ssn=remotez4less&store_name=remotez4less&_oac=1&_sop=16&_pgn=13.txt\n",
      "www.ebay.com_sch_i.html__ssn=remotez4less&store_name=remotez4less&_oac=1&_sop=16&_pgn=12.txt\n",
      "www.ebay.com_sch_i.html__ssn=remotez4less&store_name=remotez4less&_oac=1&_sop=16&_pgn=10.txt\n",
      "www.ebay.com_sch_i.html__ssn=remotez4less&store_name=remotez4less&_oac=1&_sop=16&_pgn=11.txt\n",
      "www.ebay.com_sch_i.html__ssn=remotez4less&store_name=remotez4less&_oac=1&_sop=16&_pgn=15.txt\n",
      "www.ebay.com_sch_i.html__ssn=remotez4less&store_name=remotez4less&_oac=1&_sop=16&_pgn=29.txt\n",
      "www.ebay.com_sch_i.html__ssn=remotez4less&store_name=remotez4less&_oac=1&_sop=16&_pgn=28.txt\n",
      "www.ebay.com_sch_i.html__ssn=remotez4less&store_name=remotez4less&_oac=1&_sop=16&_pgn=14.txt\n",
      "www.ebay.com_sch_i.html__ssn=remotez4less&store_name=remotez4less&_oac=1&_sop=16&_pgn=16.txt\n",
      "www.ebay.com_sch_i.html__ssn=remotez4less&store_name=remotez4less&_oac=1&_sop=16&_pgn=17.txt\n",
      "www.ebay.com_sch_i.html__ssn=remotez4less&store_name=remotez4less&_oac=1&_sop=16&_pgn=6.txt\n",
      "www.ebay.com_sch_i.html__ssn=remotez4less&store_name=remotez4less&_oac=1&_sop=16&_pgn=7.txt\n",
      "www.ebay.com_sch_i.html__ssn=remotez4less&store_name=remotez4less&_oac=1&_sop=16&_pgn=5.txt\n",
      "www.ebay.com_sch_i.html__ssn=remotez4less&store_name=remotez4less&_oac=1&_sop=16&_pgn=4.txt\n",
      "www.ebay.com_sch_i.html__ssn=remotez4less&store_name=remotez4less&_oac=1&_sop=16.txt\n",
      "www.ebay.com_sch_i.html__ssn=remotez4less&store_name=remotez4less&_oac=1&_sop=16&_pgn=3.txt\n",
      "www.ebay.com_sch_i.html__ssn=remotez4less&store_name=remotez4less&_oac=1&_sop=16&_pgn=2.txt\n",
      "www.ebay.com_sch_i.html__ssn=remotez4less&store_name=remotez4less&_oac=1&_sop=16&_pgn=9.txt\n",
      "www.ebay.com_sch_i.html__ssn=remotez4less&store_name=remotez4less&_oac=1&_sop=16&_pgn=8.txt\n",
      "www.ebay.com_sch_i.html__ssn=remotez4less&store_name=remotez4less&_oac=1&_sop=16&_pgn=32.txt\n",
      "www.ebay.com_sch_i.html__ssn=remotez4less&store_name=remotez4less&_oac=1&_sop=16&_pgn=26.txt\n",
      "www.ebay.com_sch_i.html__ssn=remotez4less&store_name=remotez4less&_oac=1&_sop=16&_pgn=27.txt\n",
      "www.ebay.com_sch_i.html__ssn=remotez4less&store_name=remotez4less&_oac=1&_sop=16&_pgn=33.txt\n",
      "www.ebay.com_sch_i.html__ssn=remotez4less&store_name=remotez4less&_oac=1&_sop=16&_pgn=19.txt\n",
      "www.ebay.com_sch_i.html__ssn=remotez4less&store_name=remotez4less&_oac=1&_sop=16&_pgn=25.txt\n",
      "www.ebay.com_sch_i.html__ssn=remotez4less&store_name=remotez4less&_oac=1&_sop=16&_pgn=31.txt\n",
      "www.ebay.com_sch_i.html__ssn=remotez4less&store_name=remotez4less&_oac=1&_sop=16&_pgn=30.txt\n",
      "www.ebay.com_sch_i.html__ssn=remotez4less&store_name=remotez4less&_oac=1&_sop=16&_pgn=24.txt\n",
      "www.ebay.com_sch_i.html__ssn=remotez4less&store_name=remotez4less&_oac=1&_sop=16&_pgn=18.txt\n",
      "www.ebay.com_sch_i.html__ssn=remotez4less&store_name=remotez4less&_oac=1&_sop=16&_pgn=20.txt\n",
      "www.ebay.com_sch_i.html__ssn=remotez4less&store_name=remotez4less&_oac=1&_sop=16&_pgn=34.txt\n",
      "www.ebay.com_sch_i.html__ssn=remotez4less&store_name=remotez4less&_oac=1&_sop=16&_pgn=35.txt\n",
      "www.ebay.com_sch_i.html__ssn=remotez4less&store_name=remotez4less&_oac=1&_sop=16&_pgn=21.txt\n",
      "www.ebay.com_sch_i.html__ssn=remotez4less&store_name=remotez4less&_oac=1&_sop=16&_pgn=37.txt\n",
      "www.ebay.com_sch_i.html__ssn=remotez4less&store_name=remotez4less&_oac=1&_sop=16&_pgn=23.txt\n",
      "www.ebay.com_sch_i.html__ssn=remotez4less&store_name=remotez4less&_oac=1&_sop=16&_pgn=22.txt\n",
      "www.ebay.com_sch_i.html__ssn=remotez4less&store_name=remotez4less&_oac=1&_sop=16&_pgn=36.txt\n"
     ]
    }
   ],
   "source": [
    "for file in list_file:\n",
    "    print(file)\n",
    "    with open('./menu/' + file) as f:\n",
    "        list_item = f.read()[1:-1].split('},{')\n",
    "        for i in range(len(list_item)):\n",
    "            if i == 0:\n",
    "                item = json.loads(list_item[i] + '}')\n",
    "            elif i == len(list_item) - 1:\n",
    "                item = json.loads('{' + list_item[i])\n",
    "            else:\n",
    "                item = json.loads('{' + list_item[i] + '}')\n",
    "                \n",
    "            df_temp = pd.DataFrame([{'Item_Number': item['Item_Number'],\n",
    "                                     'Url': item['Url']}])\n",
    "            df = pd.concat([df, df_temp], ignore_index=True)"
   ]
  },
  {
   "cell_type": "code",
   "execution_count": 7,
   "id": "e7c8e52b",
   "metadata": {},
   "outputs": [
    {
     "data": {
      "text/html": [
       "<div>\n",
       "<style scoped>\n",
       "    .dataframe tbody tr th:only-of-type {\n",
       "        vertical-align: middle;\n",
       "    }\n",
       "\n",
       "    .dataframe tbody tr th {\n",
       "        vertical-align: top;\n",
       "    }\n",
       "\n",
       "    .dataframe thead th {\n",
       "        text-align: right;\n",
       "    }\n",
       "</style>\n",
       "<table border=\"1\" class=\"dataframe\">\n",
       "  <thead>\n",
       "    <tr style=\"text-align: right;\">\n",
       "      <th></th>\n",
       "      <th>Item_Number</th>\n",
       "      <th>Url</th>\n",
       "    </tr>\n",
       "  </thead>\n",
       "  <tbody>\n",
       "    <tr>\n",
       "      <th>0</th>\n",
       "      <td>352163631299</td>\n",
       "      <td>https://www.ebay.com/itm/352163631299?hash=ite...</td>\n",
       "    </tr>\n",
       "    <tr>\n",
       "      <th>1</th>\n",
       "      <td>382224790114</td>\n",
       "      <td>https://www.ebay.com/itm/382224790114?hash=ite...</td>\n",
       "    </tr>\n",
       "    <tr>\n",
       "      <th>2</th>\n",
       "      <td>382224790115</td>\n",
       "      <td>https://www.ebay.com/itm/382224790115?hash=ite...</td>\n",
       "    </tr>\n",
       "    <tr>\n",
       "      <th>3</th>\n",
       "      <td>382224790119</td>\n",
       "      <td>https://www.ebay.com/itm/382224790119?hash=ite...</td>\n",
       "    </tr>\n",
       "    <tr>\n",
       "      <th>4</th>\n",
       "      <td>391885850161</td>\n",
       "      <td>https://www.ebay.com/itm/391885850161?hash=ite...</td>\n",
       "    </tr>\n",
       "    <tr>\n",
       "      <th>...</th>\n",
       "      <td>...</td>\n",
       "      <td>...</td>\n",
       "    </tr>\n",
       "    <tr>\n",
       "      <th>8828</th>\n",
       "      <td>352542824694</td>\n",
       "      <td>https://www.ebay.com/itm/352542824694?hash=ite...</td>\n",
       "    </tr>\n",
       "    <tr>\n",
       "      <th>8829</th>\n",
       "      <td>392192152954</td>\n",
       "      <td>https://www.ebay.com/itm/392192152954?hash=ite...</td>\n",
       "    </tr>\n",
       "    <tr>\n",
       "      <th>8830</th>\n",
       "      <td>392192152956</td>\n",
       "      <td>https://www.ebay.com/itm/392192152956?hash=ite...</td>\n",
       "    </tr>\n",
       "    <tr>\n",
       "      <th>8831</th>\n",
       "      <td>392192152984</td>\n",
       "      <td>https://www.ebay.com/itm/392192152984?hash=ite...</td>\n",
       "    </tr>\n",
       "    <tr>\n",
       "      <th>8832</th>\n",
       "      <td>352542825751</td>\n",
       "      <td>https://www.ebay.com/itm/352542825751?hash=ite...</td>\n",
       "    </tr>\n",
       "  </tbody>\n",
       "</table>\n",
       "<p>8833 rows × 2 columns</p>\n",
       "</div>"
      ],
      "text/plain": [
       "       Item_Number                                                Url\n",
       "0     352163631299  https://www.ebay.com/itm/352163631299?hash=ite...\n",
       "1     382224790114  https://www.ebay.com/itm/382224790114?hash=ite...\n",
       "2     382224790115  https://www.ebay.com/itm/382224790115?hash=ite...\n",
       "3     382224790119  https://www.ebay.com/itm/382224790119?hash=ite...\n",
       "4     391885850161  https://www.ebay.com/itm/391885850161?hash=ite...\n",
       "...            ...                                                ...\n",
       "8828  352542824694  https://www.ebay.com/itm/352542824694?hash=ite...\n",
       "8829  392192152954  https://www.ebay.com/itm/392192152954?hash=ite...\n",
       "8830  392192152956  https://www.ebay.com/itm/392192152956?hash=ite...\n",
       "8831  392192152984  https://www.ebay.com/itm/392192152984?hash=ite...\n",
       "8832  352542825751  https://www.ebay.com/itm/352542825751?hash=ite...\n",
       "\n",
       "[8833 rows x 2 columns]"
      ]
     },
     "execution_count": 7,
     "metadata": {},
     "output_type": "execute_result"
    }
   ],
   "source": [
    "df.to_excel('./menu.xlsx', index=False)\n",
    "\n",
    "df"
   ]
  },
  {
   "cell_type": "code",
   "execution_count": null,
   "id": "f1b946e9",
   "metadata": {},
   "outputs": [],
   "source": []
  }
 ],
 "metadata": {
  "kernelspec": {
   "display_name": "Python 3 (ipykernel)",
   "language": "python",
   "name": "python3"
  },
  "language_info": {
   "codemirror_mode": {
    "name": "ipython",
    "version": 3
   },
   "file_extension": ".py",
   "mimetype": "text/x-python",
   "name": "python",
   "nbconvert_exporter": "python",
   "pygments_lexer": "ipython3",
   "version": "3.11.3"
  }
 },
 "nbformat": 4,
 "nbformat_minor": 5
}
