{
 "cells": [
  {
   "cell_type": "code",
   "execution_count": 1,
   "id": "6dc2d4dd",
   "metadata": {},
   "outputs": [],
   "source": [
    "import requests"
   ]
  },
  {
   "cell_type": "code",
   "execution_count": 6,
   "id": "91acb5f3",
   "metadata": {},
   "outputs": [],
   "source": [
    "resp = requests.get('https://www.summitracing.com/parts/nal-19212593')"
   ]
  },
  {
   "cell_type": "code",
   "execution_count": 7,
   "id": "1aad0793",
   "metadata": {},
   "outputs": [
    {
     "data": {
      "text/plain": [
       "<Response [200]>"
      ]
     },
     "execution_count": 7,
     "metadata": {},
     "output_type": "execute_result"
    }
   ],
   "source": [
    "resp"
   ]
  },
  {
   "cell_type": "code",
   "execution_count": null,
   "id": "687fe029",
   "metadata": {},
   "outputs": [],
   "source": []
  },
  {
   "cell_type": "code",
   "execution_count": 5,
   "id": "57060a9a",
   "metadata": {},
   "outputs": [
    {
     "data": {
      "text/plain": [
       "{'pd': {'rowId': 1,\n",
       "  'site': 'STD',\n",
       "  'webBase': 'ALS417',\n",
       "  'brand': 'STI',\n",
       "  'basePart': 'ALS417',\n",
       "  'partDesc_en': 'ABS Sensor',\n",
       "  'partLongDesc_en': 'ABS Speed Sensor',\n",
       "  'pop': 'F',\n",
       "  'partComment': None,\n",
       "  'qtyEach': 1,\n",
       "  'webColumn_Id': None,\n",
       "  'categoryName_en': None,\n",
       "  'vehicleId': None,\n",
       "  'mfg': None,\n",
       "  'mfG_Part': None,\n",
       "  'maxRows': 1,\n",
       "  'brandLink': None,\n",
       "  'imageUrl': None},\n",
       " 'pp': {'buyersGuides': [{'basePart': 'ALS417',\n",
       "    'buyersGuideId': 48155,\n",
       "    'buyersGuideDesc': 'Audi A6 (99)'},\n",
       "   {'basePart': 'ALS417',\n",
       "    'buyersGuideId': 995,\n",
       "    'buyersGuideDesc': 'Audi A6 Quattro (99)'}],\n",
       "  'partSpecs': [{'attributeCode': '110',\n",
       "    'attributeValue': 1905,\n",
       "    'attributeSort': 0,\n",
       "    'attributeName_en': 'Warranty',\n",
       "    'siteValue_en': '3 years/36,000 mile'},\n",
       "   {'attributeCode': '388',\n",
       "    'attributeValue': 214,\n",
       "    'attributeSort': 0,\n",
       "    'attributeName_en': 'Number of Bolt Holes',\n",
       "    'siteValue_en': '0'},\n",
       "   {'attributeCode': '9',\n",
       "    'attributeValue': 4754,\n",
       "    'attributeSort': 10310,\n",
       "    'attributeName_en': 'Connector Gender',\n",
       "    'siteValue_en': 'Female (1), Male (1)'},\n",
       "   {'attributeCode': '160',\n",
       "    'attributeValue': 1843,\n",
       "    'attributeSort': 10340,\n",
       "    'attributeName_en': 'Connector Quantity',\n",
       "    'siteValue_en': '3'},\n",
       "   {'attributeCode': '171',\n",
       "    'attributeValue': 6776,\n",
       "    'attributeSort': 10350,\n",
       "    'attributeName_en': 'Connector Shape',\n",
       "    'siteValue_en': 'Rectangular'},\n",
       "   {'attributeCode': '37',\n",
       "    'attributeValue': 2499,\n",
       "    'attributeSort': 10850,\n",
       "    'attributeName_en': 'Harness Length - Inches',\n",
       "    'siteValue_en': '44'},\n",
       "   {'attributeCode': '38',\n",
       "    'attributeValue': 723,\n",
       "    'attributeSort': 10860,\n",
       "    'attributeName_en': 'Harness Length - mm',\n",
       "    'siteValue_en': '1120'},\n",
       "   {'attributeCode': '54',\n",
       "    'attributeValue': 7842,\n",
       "    'attributeSort': 11370,\n",
       "    'attributeName_en': 'Mounting Location',\n",
       "    'siteValue_en': 'Wheel'},\n",
       "   {'attributeCode': '104',\n",
       "    'attributeValue': 4761,\n",
       "    'attributeSort': 12380,\n",
       "    'attributeName_en': 'Terminal Gender',\n",
       "    'siteValue_en': 'Female (2), Male (1)'},\n",
       "   {'attributeCode': '164',\n",
       "    'attributeValue': 2825,\n",
       "    'attributeSort': 12390,\n",
       "    'attributeName_en': 'Terminal Quantity',\n",
       "    'siteValue_en': '6'},\n",
       "   {'attributeCode': '105',\n",
       "    'attributeValue': 3983,\n",
       "    'attributeSort': 12400,\n",
       "    'attributeName_en': 'Terminal Type',\n",
       "    'siteValue_en': 'Blade'}],\n",
       "  'imageUrls': [],\n",
       "  'relatedParts': [],\n",
       "  'relatedCategories': None,\n",
       "  'fandB': [{'basePart': 'ALS417',\n",
       "    'fbId': '301746',\n",
       "    'fbDesc': 'For over 100 years, professional technicians have trusted Standard® to replace the failed OE part. Standard® manufacturers the highest-quality, best-performing parts for all import and domestic vehicles; gas, diesel, electric and hybrid. Precision manufacturing, multiple layers of testing, and a detailed validation process ensures Standard® parts don’t just fit, they perform and they last.',\n",
       "    'taB_Type': 'F&B Heading',\n",
       "    'assetSort': 1,\n",
       "    'digiSort': 100},\n",
       "   {'basePart': 'ALS417',\n",
       "    'fbId': '53',\n",
       "    'fbDesc': 'As a global manufacturer, we have complete control of the manufacturing process from componentry to finished product',\n",
       "    'taB_Type': 'F&B Details',\n",
       "    'assetSort': 8,\n",
       "    'digiSort': 200},\n",
       "   {'basePart': 'ALS417',\n",
       "    'fbId': '167',\n",
       "    'fbDesc': 'Our ABS sensor line has complete coverage for domestic and import applications',\n",
       "    'taB_Type': 'F&B Details',\n",
       "    'assetSort': 8,\n",
       "    'digiSort': 210},\n",
       "   {'basePart': 'ALS417',\n",
       "    'fbId': '223',\n",
       "    'fbDesc': 'Over 1500 ABS numbers cataloged – and growing',\n",
       "    'taB_Type': 'F&B Details',\n",
       "    'assetSort': 8,\n",
       "    'digiSort': 220},\n",
       "   {'basePart': 'ALS417',\n",
       "    'fbId': '168',\n",
       "    'fbDesc': 'Our ABS sensors are engineered for precision performance, durability and a long service life',\n",
       "    'taB_Type': 'F&B Details',\n",
       "    'assetSort': 8,\n",
       "    'digiSort': 230},\n",
       "   {'basePart': 'ALS417',\n",
       "    'fbId': '107',\n",
       "    'fbDesc': 'Featuring the broadest sensor coverage in the market, we meet the service professionals needs with the highest quality product every time he opens the box',\n",
       "    'taB_Type': 'F&B Details',\n",
       "    'assetSort': 8,\n",
       "    'digiSort': 240},\n",
       "   {'basePart': 'ALS417',\n",
       "    'fbId': '51',\n",
       "    'fbDesc': 'As a global manufacturer of emission components, complete quality control is maintained through the manufacturing process from componentry to finished product',\n",
       "    'taB_Type': 'F&B Details',\n",
       "    'assetSort': 8,\n",
       "    'digiSort': 250}],\n",
       "  'digiAssests': [{'asset_ID': 3,\n",
       "    'assetName': 'Bulletins',\n",
       "    'basePart': 'ALS417',\n",
       "    'fileName': 'ST10235ALS-FEB14_JTF_ABS.pdf',\n",
       "    'fileURL': 'http://eaccess.smpcorp.com/eCatalogs/Downloads/EMD/ST10235ALS-FEB14_JTF_ABS.pdf',\n",
       "    'comment_ID': '212312',\n",
       "    'comment': 'Just The Facts: Anti-Lock Brake (ABS) Sensors',\n",
       "    'assetSort': 3,\n",
       "    'digiSort': 0,\n",
       "    'videoImage': None},\n",
       "   {'asset_ID': 3,\n",
       "    'assetName': 'Bulletins',\n",
       "    'basePart': 'ALS417',\n",
       "    'fileName': 'IM14137-IntermotorBro.pdf',\n",
       "    'fileURL': 'http://eaccess.smpcorp.com/eCatalogs/Downloads/EMD/IM14137-IntermotorBro.pdf',\n",
       "    'comment_ID': '260618',\n",
       "    'comment': 'Intermotor Brochure',\n",
       "    'assetSort': 3,\n",
       "    'digiSort': 0,\n",
       "    'videoImage': None},\n",
       "   {'asset_ID': 3,\n",
       "    'assetName': 'Bulletins',\n",
       "    'basePart': 'ALS417',\n",
       "    'fileName': 'ST10235ABT-FEB14_JTF_ABS-Test.pdf',\n",
       "    'fileURL': 'http://eaccess.smpcorp.com/eCatalogs/Downloads/EMD/ST10235ABT-FEB14_JTF_ABS-Test.pdf',\n",
       "    'comment_ID': '260623',\n",
       "    'comment': 'Just the Facts: Anti-lock Brake (ABS) Sensors Testing',\n",
       "    'assetSort': 3,\n",
       "    'digiSort': 0,\n",
       "    'videoImage': None},\n",
       "   {'asset_ID': 3,\n",
       "    'assetName': 'Bulletins',\n",
       "    'basePart': 'ALS417',\n",
       "    'fileName': 'ST10235VWL-MAR13_JTF_veh_warn_light.pdf',\n",
       "    'fileURL': 'http://eaccess.smpcorp.com/eCatalogs/Downloads/EMD/ST10235VWL-MAR13_JTF_veh_warn_light.pdf',\n",
       "    'comment_ID': '260657',\n",
       "    'comment': 'Just the Facts: Vehicle Warning Lights',\n",
       "    'assetSort': 3,\n",
       "    'digiSort': 0,\n",
       "    'videoImage': None},\n",
       "   {'asset_ID': 3,\n",
       "    'assetName': 'Bulletins',\n",
       "    'basePart': 'ALS417',\n",
       "    'fileName': 'ST11237-Standard_Interactive_Buyers_Guide-WEB.pdf',\n",
       "    'fileURL': 'http://eaccess.smpcorp.com/eCatalogs/Downloads/EMD/ST11237-Standard_Interactive_Buyers_Guide-WEB.pdf',\n",
       "    'comment_ID': '260664',\n",
       "    'comment': \"Standard Interactive Buyer's Guide\",\n",
       "    'assetSort': 3,\n",
       "    'digiSort': 0,\n",
       "    'videoImage': None},\n",
       "   {'asset_ID': 7,\n",
       "    'assetName': 'Videos',\n",
       "    'basePart': 'ALS417',\n",
       "    'fileName': 'ABS Speed Sensor Replacement - Typical',\n",
       "    'fileURL': 'https://youtube.com/embed/NGQK384mmTg',\n",
       "    'comment_ID': '212334',\n",
       "    'comment': 'ABS Speed Sensor Replacement - Typical',\n",
       "    'assetSort': 7,\n",
       "    'digiSort': 10330,\n",
       "    'videoImage': None},\n",
       "   {'asset_ID': 7,\n",
       "    'assetName': 'Videos',\n",
       "    'basePart': 'ALS417',\n",
       "    'fileName': 'SMP Engineering Spotlight: Long Island City',\n",
       "    'fileURL': 'https://youtube.com/embed/vac2vas7vJY',\n",
       "    'comment_ID': '220958',\n",
       "    'comment': 'SMP Engineering Spotlight: Long Island City',\n",
       "    'assetSort': 7,\n",
       "    'digiSort': 80000,\n",
       "    'videoImage': None},\n",
       "   {'asset_ID': 7,\n",
       "    'assetName': 'Videos',\n",
       "    'basePart': 'ALS417',\n",
       "    'fileName': 'WIYB: Engineering Spotlight: Long Island City',\n",
       "    'fileURL': 'https://youtube.com/embed/I-kWdiTPe08',\n",
       "    'comment_ID': '291618',\n",
       "    'comment': 'WIYB: Engineering Spotlight: Long Island City',\n",
       "    'assetSort': 7,\n",
       "    'digiSort': 80003,\n",
       "    'videoImage': None},\n",
       "   {'asset_ID': 7,\n",
       "    'assetName': 'Videos',\n",
       "    'basePart': 'ALS417',\n",
       "    'fileName': 'SMP Engineering - Long Island City Facility Tour',\n",
       "    'fileURL': 'https://youtube.com/embed/ut5LYbUFCKo',\n",
       "    'comment_ID': '271219',\n",
       "    'comment': 'SMP Engineering - Long Island City Facility Tour',\n",
       "    'assetSort': 7,\n",
       "    'digiSort': 80350,\n",
       "    'videoImage': None},\n",
       "   {'asset_ID': 7,\n",
       "    'assetName': 'Videos',\n",
       "    'basePart': 'ALS417',\n",
       "    'fileName': 'Standard Interactive Buyers Guide',\n",
       "    'fileURL': 'https://youtube.com/embed/mRzK11T9pxg',\n",
       "    'comment_ID': '251346',\n",
       "    'comment': 'Standard Interactive Buyers Guide',\n",
       "    'assetSort': 7,\n",
       "    'digiSort': 90030,\n",
       "    'videoImage': None},\n",
       "   {'asset_ID': 7,\n",
       "    'assetName': 'Videos',\n",
       "    'basePart': 'ALS417',\n",
       "    'fileName': 'SMP Parts App Update (3.0.9)',\n",
       "    'fileURL': 'https://youtube.com/embed/KpEXmjcKbMc',\n",
       "    'comment_ID': '270593',\n",
       "    'comment': 'SMP Parts App Update (3.0.9)',\n",
       "    'assetSort': 7,\n",
       "    'digiSort': 90090,\n",
       "    'videoImage': None}],\n",
       "  'categories': [{'basePart': 'ALS417',\n",
       "    'webLayout_ID': 250,\n",
       "    'categoryName_en': 'Sensor - ABS Speed',\n",
       "    'prodCategory_ASort': 24710}],\n",
       "  'crossRef': None,\n",
       "  'completeRepair': {'serviceParts': [],\n",
       "   'serviceSpec': [{'serviceName': 'Fuel Filter Flush (Required)'},\n",
       "    {'serviceName': 'Oil Change (Required)'}]}}}"
      ]
     },
     "execution_count": 5,
     "metadata": {},
     "output_type": "execute_result"
    }
   ],
   "source": [
    "i = 0\n",
    "\n",
    "resp = requests.get('https://ecatalog.smpcorp.com/V2/STD/api/part/partselect?part=' + list_part_number[i] + '&func=PART').text\n",
    "info = json.loads(resp)\n",
    "\n",
    "info"
   ]
  },
  {
   "cell_type": "code",
   "execution_count": 6,
   "id": "2b6f398d",
   "metadata": {},
   "outputs": [
    {
     "data": {
      "text/plain": [
       "'Sensor - ABS Speed'"
      ]
     },
     "execution_count": 6,
     "metadata": {},
     "output_type": "execute_result"
    }
   ],
   "source": [
    "part_type = info['pp']['categories'][0]['categoryName_en']\n",
    "\n",
    "part_type"
   ]
  },
  {
   "cell_type": "code",
   "execution_count": 7,
   "id": "49ce4ab1",
   "metadata": {},
   "outputs": [
    {
     "data": {
      "text/plain": [
       "'F'"
      ]
     },
     "execution_count": 7,
     "metadata": {},
     "output_type": "execute_result"
    }
   ],
   "source": [
    "pop = info['pd']['pop']\n",
    "\n",
    "pop"
   ]
  },
  {
   "cell_type": "code",
   "execution_count": 8,
   "id": "70903b20",
   "metadata": {},
   "outputs": [
    {
     "data": {
      "text/plain": [
       "1"
      ]
     },
     "execution_count": 8,
     "metadata": {},
     "output_type": "execute_result"
    }
   ],
   "source": [
    "per_car = info['pd']['qtyEach']\n",
    "\n",
    "per_car"
   ]
  },
  {
   "cell_type": "code",
   "execution_count": 9,
   "id": "f56c350e",
   "metadata": {},
   "outputs": [
    {
     "data": {
      "text/plain": [
       "'Audi A6 (99)\\nAudi A6 Quattro (99)'"
      ]
     },
     "execution_count": 9,
     "metadata": {},
     "output_type": "execute_result"
    }
   ],
   "source": [
    "list_vehicle = [vehicle['buyersGuideDesc'] for vehicle in info['pp']['buyersGuides']]\n",
    "vehicle = '\\n'.join(list_vehicle)\n",
    "\n",
    "vehicle"
   ]
  },
  {
   "cell_type": "code",
   "execution_count": 10,
   "id": "ae20f4e8",
   "metadata": {},
   "outputs": [
    {
     "data": {
      "text/plain": [
       "[{'attributeCode': '110',\n",
       "  'attributeValue': 1905,\n",
       "  'attributeSort': 0,\n",
       "  'attributeName_en': 'Warranty',\n",
       "  'siteValue_en': '3 years/36,000 mile'},\n",
       " {'attributeCode': '388',\n",
       "  'attributeValue': 214,\n",
       "  'attributeSort': 0,\n",
       "  'attributeName_en': 'Number of Bolt Holes',\n",
       "  'siteValue_en': '0'},\n",
       " {'attributeCode': '9',\n",
       "  'attributeValue': 4754,\n",
       "  'attributeSort': 10310,\n",
       "  'attributeName_en': 'Connector Gender',\n",
       "  'siteValue_en': 'Female (1), Male (1)'},\n",
       " {'attributeCode': '160',\n",
       "  'attributeValue': 1843,\n",
       "  'attributeSort': 10340,\n",
       "  'attributeName_en': 'Connector Quantity',\n",
       "  'siteValue_en': '3'},\n",
       " {'attributeCode': '171',\n",
       "  'attributeValue': 6776,\n",
       "  'attributeSort': 10350,\n",
       "  'attributeName_en': 'Connector Shape',\n",
       "  'siteValue_en': 'Rectangular'},\n",
       " {'attributeCode': '37',\n",
       "  'attributeValue': 2499,\n",
       "  'attributeSort': 10850,\n",
       "  'attributeName_en': 'Harness Length - Inches',\n",
       "  'siteValue_en': '44'},\n",
       " {'attributeCode': '38',\n",
       "  'attributeValue': 723,\n",
       "  'attributeSort': 10860,\n",
       "  'attributeName_en': 'Harness Length - mm',\n",
       "  'siteValue_en': '1120'},\n",
       " {'attributeCode': '54',\n",
       "  'attributeValue': 7842,\n",
       "  'attributeSort': 11370,\n",
       "  'attributeName_en': 'Mounting Location',\n",
       "  'siteValue_en': 'Wheel'},\n",
       " {'attributeCode': '104',\n",
       "  'attributeValue': 4761,\n",
       "  'attributeSort': 12380,\n",
       "  'attributeName_en': 'Terminal Gender',\n",
       "  'siteValue_en': 'Female (2), Male (1)'},\n",
       " {'attributeCode': '164',\n",
       "  'attributeValue': 2825,\n",
       "  'attributeSort': 12390,\n",
       "  'attributeName_en': 'Terminal Quantity',\n",
       "  'siteValue_en': '6'},\n",
       " {'attributeCode': '105',\n",
       "  'attributeValue': 3983,\n",
       "  'attributeSort': 12400,\n",
       "  'attributeName_en': 'Terminal Type',\n",
       "  'siteValue_en': 'Blade'}]"
      ]
     },
     "execution_count": 10,
     "metadata": {},
     "output_type": "execute_result"
    }
   ],
   "source": [
    "details = info['pp']['partSpecs']\n",
    "\n",
    "details"
   ]
  },
  {
   "cell_type": "code",
   "execution_count": 11,
   "id": "8855996e",
   "metadata": {},
   "outputs": [
    {
     "data": {
      "text/plain": [
       "'STI'"
      ]
     },
     "execution_count": 11,
     "metadata": {},
     "output_type": "execute_result"
    }
   ],
   "source": [
    "brand = info['pd']['brand']\n",
    "\n",
    "brand"
   ]
  },
  {
   "cell_type": "code",
   "execution_count": 12,
   "id": "7d4d6d66",
   "metadata": {},
   "outputs": [
    {
     "data": {
      "text/plain": [
       "[{'image_Name': 'QHJ0hgHLfwdgihcun0uRaw%3D%3D',\n",
       "  'image_SM_Url': 'https://extapi.smpcorp.com/ihgs/imagehandlergs.ashx?p1=+POEp/4gcJ/CxftUqaFU+POA3FM8wSUCfEFLjhl+yY51Wji2BTIoaDbMhB5FWxn1NPHRuPZK4Ib55URlMOW+XVqOzvag35n6IYODDVJXQ/5aAUVD7HPvINfMHmFkfTlA8D+msAMmvX2CZuqvooaa7DCB6ftZHycUS1qHVwGWXkIr+m7fx4OW9Oe+1FHFJFtcRcWZ5MxaSfLB0K93UF8SX+xDDtSObvr3',\n",
       "  'image_MD_Url': 'https://extapi.smpcorp.com/ihgs/imagehandlergs.ashx?p1=+POEp/4gcJ/CxftUqaFU+POA3FM8wSUCqYrcgaXQHScWSaSu79Q7PcmaZppCs8vxYvfY+sUXOOXlUiMf62iPubgwXLHE9txgJv0YyvK/rWecX6DmzjK5LAPGgnfAzoJeeiNuk1H1nIsgiEVPfC+WFBiIabLNN0Hoqeu5hZlCRfM7DcAIwETg0wgYmX5XbJY32bOK6026Q9Jahu8D0CvsLg==',\n",
       "  'image_BG_Url': 'https://extapi.smpcorp.com/ihgs/imagehandlergs.ashx?p1=+POEp/4gcJ/CxftUqaFU+POA3FM8wSUCTuE74rL23eRCoYEvJVC8pEsKfjiFO+Z/nRaSzC3dZmboEyZGCTZQXGS/yUkBUvThK0HZgA1C4AGxzJCtT0EC3h5PFeAkVcMYsJ9MXbl4u4qQsP+xaLsnCfi8uaNCstSIH/vcGamvfKocvI9qOYjX9h53BUfKgTERmhXFm+xKTvWYkCUjotx4/w=='},\n",
       " {'image_Name': 'QHJ0hgHLfwc2fQ4CP1OtOg%3D%3D',\n",
       "  'image_SM_Url': 'https://extapi.smpcorp.com/ihgs/imagehandlergs.ashx?p1=+POEp/4gcJ/CxftUqaFU+POA3FM8wSUCfEFLjhl+yY51Wji2BTIoaDbMhB5FWxn1dt8M0GJJxrv55URlMOW+XVqOzvag35n6IYODDVJXQ/5aAUVD7HPvINfMHmFkfTlA8D+msAMmvX2CZuqvooaa7DCB6ftZHycUS1qHVwGWXkIr+m7fx4OW9Oe+1FHFJFtcRcWZ5MxaSfLB0K93UF8SX+xDDtSObvr3',\n",
       "  'image_MD_Url': 'https://extapi.smpcorp.com/ihgs/imagehandlergs.ashx?p1=+POEp/4gcJ/CxftUqaFU+POA3FM8wSUCqYrcgaXQHScWSaSu79Q7PcmaZppCs8vxOS82EhlPm9jlUiMf62iPubgwXLHE9txgJv0YyvK/rWecX6DmzjK5LAPGgnfAzoJeeiNuk1H1nIsgiEVPfC+WFBiIabLNN0Hoqeu5hZlCRfM7DcAIwETg0wgYmX5XbJY32bOK6026Q9Jahu8D0CvsLg==',\n",
       "  'image_BG_Url': 'https://extapi.smpcorp.com/ihgs/imagehandlergs.ashx?p1=+POEp/4gcJ/CxftUqaFU+POA3FM8wSUCTuE74rL23eRCoYEvJVC8pBJ6+RqU2J/8nRaSzC3dZmboEyZGCTZQXGS/yUkBUvThK0HZgA1C4AGxzJCtT0EC3h5PFeAkVcMYsJ9MXbl4u4qQsP+xaLsnCfi8uaNCstSIH/vcGamvfKocvI9qOYjX9h53BUfKgTERmhXFm+xKTvWYkCUjotx4/w=='},\n",
       " {'image_Name': 'QHJ0hgHLfwcaaER4RxS2nQ%3D%3D',\n",
       "  'image_SM_Url': 'https://extapi.smpcorp.com/ihgs/imagehandlergs.ashx?p1=+POEp/4gcJ/CxftUqaFU+POA3FM8wSUCfEFLjhl+yY51Wji2BTIoaDbMhB5FWxn1djouxBVVqO/55URlMOW+XVqOzvag35n6IYODDVJXQ/5aAUVD7HPvINfMHmFkfTlA8D+msAMmvX2CZuqvooaa7DCB6ftZHycUS1qHVwGWXkIr+m7fx4OW9Oe+1FHFJFtcRcWZ5MxaSfLB0K93UF8SX+xDDtSObvr3',\n",
       "  'image_MD_Url': 'https://extapi.smpcorp.com/ihgs/imagehandlergs.ashx?p1=+POEp/4gcJ/CxftUqaFU+POA3FM8wSUCqYrcgaXQHScWSaSu79Q7PcmaZppCs8vxjsQEhs3D4i/lUiMf62iPubgwXLHE9txgJv0YyvK/rWecX6DmzjK5LAPGgnfAzoJeeiNuk1H1nIsgiEVPfC+WFBiIabLNN0Hoqeu5hZlCRfM7DcAIwETg0wgYmX5XbJY32bOK6026Q9Jahu8D0CvsLg==',\n",
       "  'image_BG_Url': 'https://extapi.smpcorp.com/ihgs/imagehandlergs.ashx?p1=+POEp/4gcJ/CxftUqaFU+POA3FM8wSUCTuE74rL23eRCoYEvJVC8pHKYO38zZmt0nRaSzC3dZmboEyZGCTZQXGS/yUkBUvThK0HZgA1C4AGxzJCtT0EC3h5PFeAkVcMYsJ9MXbl4u4qQsP+xaLsnCfi8uaNCstSIH/vcGamvfKocvI9qOYjX9h53BUfKgTERmhXFm+xKTvWYkCUjotx4/w=='}]"
      ]
     },
     "execution_count": 12,
     "metadata": {},
     "output_type": "execute_result"
    }
   ],
   "source": [
    "resp = requests.get('https://ecatalog.smpcorp.com/V2/STD/api/image/getallimages?partNum=' + list_part_number[i] + '&brand=' + brand + '&zoomFactor_sm=75&zoomFactor_md=360&zoomFactor_bg=960').text\n",
    "info = json.loads(resp)\n",
    "\n",
    "info"
   ]
  },
  {
   "cell_type": "code",
   "execution_count": 13,
   "id": "05770e72",
   "metadata": {},
   "outputs": [
    {
     "data": {
      "text/plain": [
       "'https://extapi.smpcorp.com/ihgs/imagehandlergs.ashx?p1=+POEp/4gcJ/CxftUqaFU+POA3FM8wSUCTuE74rL23eRCoYEvJVC8pEsKfjiFO+Z/nRaSzC3dZmboEyZGCTZQXGS/yUkBUvThK0HZgA1C4AGxzJCtT0EC3h5PFeAkVcMYsJ9MXbl4u4qQsP+xaLsnCfi8uaNCstSIH/vcGamvfKocvI9qOYjX9h53BUfKgTERmhXFm+xKTvWYkCUjotx4/w=='"
      ]
     },
     "execution_count": 13,
     "metadata": {},
     "output_type": "execute_result"
    }
   ],
   "source": [
    "src = info[0]['image_BG_Url']\n",
    "\n",
    "src"
   ]
  },
  {
   "cell_type": "code",
   "execution_count": 14,
   "id": "0f2fa476",
   "metadata": {},
   "outputs": [
    {
     "data": {
      "text/html": [
       "<div>\n",
       "<style scoped>\n",
       "    .dataframe tbody tr th:only-of-type {\n",
       "        vertical-align: middle;\n",
       "    }\n",
       "\n",
       "    .dataframe tbody tr th {\n",
       "        vertical-align: top;\n",
       "    }\n",
       "\n",
       "    .dataframe thead th {\n",
       "        text-align: right;\n",
       "    }\n",
       "</style>\n",
       "<table border=\"1\" class=\"dataframe\">\n",
       "  <thead>\n",
       "    <tr style=\"text-align: right;\">\n",
       "      <th></th>\n",
       "      <th>Part_Number</th>\n",
       "      <th>Part_Type</th>\n",
       "      <th>POP</th>\n",
       "      <th>Per_Car</th>\n",
       "      <th>Vehicle</th>\n",
       "      <th>Src</th>\n",
       "      <th>status</th>\n",
       "    </tr>\n",
       "  </thead>\n",
       "  <tbody>\n",
       "    <tr>\n",
       "      <th>0</th>\n",
       "      <td>ALS417</td>\n",
       "      <td>Sensor - ABS Speed</td>\n",
       "      <td>F</td>\n",
       "      <td>1</td>\n",
       "      <td>Audi A6 (99)\\nAudi A6 Quattro (99)</td>\n",
       "      <td>https://extapi.smpcorp.com/ihgs/imagehandlergs...</td>\n",
       "      <td>ok</td>\n",
       "    </tr>\n",
       "  </tbody>\n",
       "</table>\n",
       "</div>"
      ],
      "text/plain": [
       "  Part_Number           Part_Type POP  Per_Car  \\\n",
       "0      ALS417  Sensor - ABS Speed   F        1   \n",
       "\n",
       "                              Vehicle  \\\n",
       "0  Audi A6 (99)\\nAudi A6 Quattro (99)   \n",
       "\n",
       "                                                 Src status  \n",
       "0  https://extapi.smpcorp.com/ihgs/imagehandlergs...     ok  "
      ]
     },
     "execution_count": 14,
     "metadata": {},
     "output_type": "execute_result"
    }
   ],
   "source": [
    "df_temp = pd.DataFrame([{'Part_Number': list_part_number[i],\n",
    "                         'Part_Type': part_type,\n",
    "                         'POP': pop,\n",
    "                         'Per_Car': per_car,\n",
    "                         'Vehicle': vehicle,\n",
    "                         'Src': src,\n",
    "                         'status': 'ok'}])\n",
    "\n",
    "df_temp"
   ]
  },
  {
   "cell_type": "code",
   "execution_count": 15,
   "id": "4c7b2fb6",
   "metadata": {},
   "outputs": [
    {
     "data": {
      "text/html": [
       "<div>\n",
       "<style scoped>\n",
       "    .dataframe tbody tr th:only-of-type {\n",
       "        vertical-align: middle;\n",
       "    }\n",
       "\n",
       "    .dataframe tbody tr th {\n",
       "        vertical-align: top;\n",
       "    }\n",
       "\n",
       "    .dataframe thead th {\n",
       "        text-align: right;\n",
       "    }\n",
       "</style>\n",
       "<table border=\"1\" class=\"dataframe\">\n",
       "  <thead>\n",
       "    <tr style=\"text-align: right;\">\n",
       "      <th></th>\n",
       "      <th>Part_Number</th>\n",
       "      <th>Part_Type</th>\n",
       "      <th>POP</th>\n",
       "      <th>Per_Car</th>\n",
       "      <th>Vehicle</th>\n",
       "      <th>Src</th>\n",
       "      <th>status</th>\n",
       "      <th>warranty</th>\n",
       "      <th>number of bolt holes</th>\n",
       "      <th>connector gender</th>\n",
       "      <th>connector quantity</th>\n",
       "      <th>connector shape</th>\n",
       "      <th>harness length - inches</th>\n",
       "      <th>harness length - mm</th>\n",
       "      <th>mounting location</th>\n",
       "      <th>terminal gender</th>\n",
       "      <th>terminal quantity</th>\n",
       "      <th>terminal type</th>\n",
       "    </tr>\n",
       "  </thead>\n",
       "  <tbody>\n",
       "    <tr>\n",
       "      <th>0</th>\n",
       "      <td>ALS417</td>\n",
       "      <td>Sensor - ABS Speed</td>\n",
       "      <td>F</td>\n",
       "      <td>1</td>\n",
       "      <td>Audi A6 (99)\\nAudi A6 Quattro (99)</td>\n",
       "      <td>https://extapi.smpcorp.com/ihgs/imagehandlergs...</td>\n",
       "      <td>ok</td>\n",
       "      <td>3 years/36,000 mile</td>\n",
       "      <td>0</td>\n",
       "      <td>Female (1), Male (1)</td>\n",
       "      <td>3</td>\n",
       "      <td>Rectangular</td>\n",
       "      <td>44</td>\n",
       "      <td>1120</td>\n",
       "      <td>Wheel</td>\n",
       "      <td>Female (2), Male (1)</td>\n",
       "      <td>6</td>\n",
       "      <td>Blade</td>\n",
       "    </tr>\n",
       "  </tbody>\n",
       "</table>\n",
       "</div>"
      ],
      "text/plain": [
       "  Part_Number           Part_Type POP  Per_Car  \\\n",
       "0      ALS417  Sensor - ABS Speed   F        1   \n",
       "\n",
       "                              Vehicle  \\\n",
       "0  Audi A6 (99)\\nAudi A6 Quattro (99)   \n",
       "\n",
       "                                                 Src status  \\\n",
       "0  https://extapi.smpcorp.com/ihgs/imagehandlergs...     ok   \n",
       "\n",
       "              warranty number of bolt holes      connector gender  \\\n",
       "0  3 years/36,000 mile                    0  Female (1), Male (1)   \n",
       "\n",
       "  connector quantity connector shape harness length - inches  \\\n",
       "0                  3     Rectangular                      44   \n",
       "\n",
       "  harness length - mm mounting location       terminal gender  \\\n",
       "0                1120             Wheel  Female (2), Male (1)   \n",
       "\n",
       "  terminal quantity terminal type  \n",
       "0                 6         Blade  "
      ]
     },
     "execution_count": 15,
     "metadata": {},
     "output_type": "execute_result"
    }
   ],
   "source": [
    "for name_value in details:\n",
    "    df_temp[name_value['attributeName_en'].lower()] = name_value['siteValue_en']\n",
    "    \n",
    "df = pd.concat([df, df_temp], ignore_index=True).fillna('')\n",
    "\n",
    "df"
   ]
  },
  {
   "cell_type": "code",
   "execution_count": null,
   "id": "79d2da03",
   "metadata": {},
   "outputs": [],
   "source": []
  }
 ],
 "metadata": {
  "kernelspec": {
   "display_name": "Python 3 (ipykernel)",
   "language": "python",
   "name": "python3"
  },
  "language_info": {
   "codemirror_mode": {
    "name": "ipython",
    "version": 3
   },
   "file_extension": ".py",
   "mimetype": "text/x-python",
   "name": "python",
   "nbconvert_exporter": "python",
   "pygments_lexer": "ipython3",
   "version": "3.11.3"
  }
 },
 "nbformat": 4,
 "nbformat_minor": 5
}
