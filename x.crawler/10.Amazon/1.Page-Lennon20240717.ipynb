{
 "cells": [
  {
   "cell_type": "code",
   "execution_count": 1,
   "id": "a06a178d-3f62-4b5e-b3c2-fb2881157f03",
   "metadata": {},
   "outputs": [],
   "source": [
    "param_url = 'https://www.amazon.com/gp/bestsellers/automotive/15730511/ref=pd_zg_hrsr_automotive'"
   ]
  },
  {
   "cell_type": "code",
   "execution_count": 2,
   "id": "10646f32-ccb5-4865-82e8-a4cba7729aab",
   "metadata": {},
   "outputs": [
    {
     "data": {
      "text/plain": [
       "'US'"
      ]
     },
     "execution_count": 2,
     "metadata": {},
     "output_type": "execute_result"
    }
   ],
   "source": [
    "if param_url.startswith('https://www.amazon.com/'):\n",
    "    market = 'US'\n",
    "\n",
    "market"
   ]
  },
  {
   "cell_type": "code",
   "execution_count": 3,
   "id": "24ea34e9-011f-4359-9335-43b048976032",
   "metadata": {},
   "outputs": [
    {
     "data": {
      "text/plain": [
       "{}"
      ]
     },
     "execution_count": 3,
     "metadata": {},
     "output_type": "execute_result"
    }
   ],
   "source": [
    "dict_param = {}\n",
    "list_param = param_url.split('?')[1].split('&') if '?' in param_url else []\n",
    "for param in list_param:\n",
    "    dict_param[param.split('=')[0]] = param.split('=')[1]\n",
    "\n",
    "dict_param"
   ]
  },
  {
   "cell_type": "code",
   "execution_count": 4,
   "id": "ee8deb0c-3440-4047-b3c4-d9cd3e34596f",
   "metadata": {},
   "outputs": [
    {
     "data": {
      "text/plain": [
       "{'language': 'en_US'}"
      ]
     },
     "execution_count": 4,
     "metadata": {},
     "output_type": "execute_result"
    }
   ],
   "source": [
    "dict_param.pop('pg', '')\n",
    "\n",
    "if market == 'US':\n",
    "    dict_param['language'] = 'en_US'\n",
    "\n",
    "dict_param"
   ]
  },
  {
   "cell_type": "code",
   "execution_count": 5,
   "id": "b0620e76-b73e-4a48-b023-de23c0bcca99",
   "metadata": {},
   "outputs": [
    {
     "data": {
      "text/plain": [
       "'https://www.amazon.com/gp/bestsellers/automotive/15730511/ref=pd_zg_hrsr_automotive?language=en_US&'"
      ]
     },
     "execution_count": 5,
     "metadata": {},
     "output_type": "execute_result"
    }
   ],
   "source": [
    "param_url = param_url.split('?')[0] + '?'\n",
    "for key, value in dict_param.items():\n",
    "    param_url += f'{key}={value}&'\n",
    "\n",
    "param_url"
   ]
  },
  {
   "cell_type": "code",
   "execution_count": 6,
   "id": "129faa56-befc-48e6-90b2-4c6016d36ea6",
   "metadata": {
    "scrolled": true
   },
   "outputs": [
    {
     "data": {
      "text/html": [
       "<div>\n",
       "<style scoped>\n",
       "    .dataframe tbody tr th:only-of-type {\n",
       "        vertical-align: middle;\n",
       "    }\n",
       "\n",
       "    .dataframe tbody tr th {\n",
       "        vertical-align: top;\n",
       "    }\n",
       "\n",
       "    .dataframe thead th {\n",
       "        text-align: right;\n",
       "    }\n",
       "</style>\n",
       "<table border=\"1\" class=\"dataframe\">\n",
       "  <thead>\n",
       "    <tr style=\"text-align: right;\">\n",
       "      <th></th>\n",
       "      <th>Market</th>\n",
       "      <th>Page</th>\n",
       "      <th>Page Url</th>\n",
       "    </tr>\n",
       "  </thead>\n",
       "  <tbody>\n",
       "    <tr>\n",
       "      <th>0</th>\n",
       "      <td>US</td>\n",
       "      <td>1</td>\n",
       "      <td>https://www.amazon.com/gp/bestsellers/automoti...</td>\n",
       "    </tr>\n",
       "    <tr>\n",
       "      <th>1</th>\n",
       "      <td>US</td>\n",
       "      <td>2</td>\n",
       "      <td>https://www.amazon.com/gp/bestsellers/automoti...</td>\n",
       "    </tr>\n",
       "  </tbody>\n",
       "</table>\n",
       "</div>"
      ],
      "text/plain": [
       "  Market  Page                                           Page Url\n",
       "0     US     1  https://www.amazon.com/gp/bestsellers/automoti...\n",
       "1     US     2  https://www.amazon.com/gp/bestsellers/automoti..."
      ]
     },
     "execution_count": 6,
     "metadata": {},
     "output_type": "execute_result"
    }
   ],
   "source": [
    "import pandas as pd\n",
    "\n",
    "output = pd.DataFrame({'Market': market,\n",
    "                       'Page': [_+1 for _ in range(2)],\n",
    "                       'Page Url': [f'{param_url}pg={_+1}' for _ in range(2)]})\n",
    "\n",
    "output.to_excel('./1.page.xlsx', index=False)\n",
    "\n",
    "output"
   ]
  },
  {
   "cell_type": "code",
   "execution_count": null,
   "id": "6e14442a-8451-4bd5-8631-e0ff9eba4e07",
   "metadata": {},
   "outputs": [],
   "source": []
  }
 ],
 "metadata": {
  "kernelspec": {
   "display_name": "Python 3 (ipykernel)",
   "language": "python",
   "name": "python3"
  },
  "language_info": {
   "codemirror_mode": {
    "name": "ipython",
    "version": 3
   },
   "file_extension": ".py",
   "mimetype": "text/x-python",
   "name": "python",
   "nbconvert_exporter": "python",
   "pygments_lexer": "ipython3",
   "version": "3.11.3"
  }
 },
 "nbformat": 4,
 "nbformat_minor": 5
}
