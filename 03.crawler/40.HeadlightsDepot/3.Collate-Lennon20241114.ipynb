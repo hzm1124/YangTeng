{
 "cells": [
  {
   "cell_type": "code",
   "execution_count": 1,
   "id": "5a52743a-d139-4667-b3b4-363cb166476b",
   "metadata": {},
   "outputs": [],
   "source": [
    "import pandas as pd\n",
    "\n",
    "from tqdm import tqdm\n",
    "import json"
   ]
  },
  {
   "cell_type": "markdown",
   "id": "2e688525-cdaa-470c-a533-fb612881a181",
   "metadata": {},
   "source": [
    "# 1. Part"
   ]
  },
  {
   "cell_type": "code",
   "execution_count": 2,
   "id": "ac7fb788-2e77-4500-b015-18b365a24a8b",
   "metadata": {},
   "outputs": [
    {
     "name": "stderr",
     "output_type": "stream",
     "text": [
      "Progress: 100%|█████████████████████████████| 10/10 [00:00<00:00, 210.13it/s]"
     ]
    },
    {
     "name": "stdout",
     "output_type": "stream",
     "text": [
      "\n",
      "Done ~\n"
     ]
    },
    {
     "name": "stderr",
     "output_type": "stream",
     "text": [
      "\n"
     ]
    }
   ],
   "source": [
    "df_input = pd.read_excel('./file/2.part.xlsx',\n",
    "                         header=0,\n",
    "                         dtype=str).fillna('')\n",
    "\n",
    "df_input['No'] = df_input['No'].astype(int)\n",
    "df_input['Price'] = df_input['Price'].astype(float)\n",
    "\n",
    "# = = = = = = = = = = = = = = =\n",
    "\n",
    "list_series, list_column, list_column_description = [], df_input.columns.tolist(), []\n",
    "for _, series in tqdm(df_input.iterrows(), total=len(df_input), desc='Progress', ncols=77):\n",
    "    dict_dict = json.loads(series['Json_Description'])\n",
    "    dict_ = {k: v for dict_ in dict_dict.values() for k, v in dict_.items()}\n",
    "\n",
    "    for key, value in dict_.items():\n",
    "        if key in list_column:\n",
    "            key = f'{key} (Description)'\n",
    "\n",
    "        if key not in list_column_description:\n",
    "            list_column_description.append(key)\n",
    "\n",
    "        series[key] = value\n",
    "\n",
    "    list_series.append(series)\n",
    "\n",
    "# = = = = = = = = = = = = = = =\n",
    "\n",
    "df_output = pd.DataFrame(list_series).sort_values(by=['No'],\n",
    "                                                  ascending=[True],\n",
    "                                                  ignore_index=True)\n",
    "df_output[list_column[:12] + sorted(list_column_description) + list_column[12:]].to_excel('./file/3.part.xlsx', index=False)\n",
    "\n",
    "print()\n",
    "print('Done ~')"
   ]
  },
  {
   "cell_type": "markdown",
   "id": "638c7049-7ebe-4c62-874c-d1c440e5f1a8",
   "metadata": {},
   "source": [
    "# 2. Vehicle"
   ]
  },
  {
   "cell_type": "code",
   "execution_count": 3,
   "id": "8ba81059-56d8-4ffb-8fa6-67b5d34894e0",
   "metadata": {},
   "outputs": [
    {
     "name": "stderr",
     "output_type": "stream",
     "text": [
      "Progress: 100%|████████████████████████████| 10/10 [00:00<00:00, 1259.93it/s]"
     ]
    },
    {
     "name": "stdout",
     "output_type": "stream",
     "text": [
      "\n",
      "Done ~\n"
     ]
    },
    {
     "name": "stderr",
     "output_type": "stream",
     "text": [
      "\n"
     ]
    }
   ],
   "source": [
    "df_input = pd.read_excel('./file/2.compatibility.xlsx',\n",
    "                         header=0,\n",
    "                         dtype=str).fillna('')\n",
    "\n",
    "df_input['Year'] = df_input['Year'].astype(int)\n",
    "\n",
    "# = = = = = = = = = = = = = = =\n",
    "\n",
    "list_dict, grouped = [], df_input.groupby('SKU')\n",
    "for sku, group in tqdm(grouped, desc='Progress', ncols=77):\n",
    "    df_temp = group.reset_index(drop=True)\n",
    "\n",
    "    dict_vehicle = {}\n",
    "    for i in range(len(df_temp)):\n",
    "        make, model, year = df_temp.loc[i, 'Make'], df_temp.loc[i, 'Model'], df_temp.loc[i, 'Year']\n",
    "\n",
    "        if make not in dict_vehicle:\n",
    "            dict_vehicle[make] = {model: [year]}\n",
    "        elif model not in dict_vehicle[make]:\n",
    "            dict_vehicle[make][model] = [year]\n",
    "        elif year not in dict_vehicle[make][model]:\n",
    "            dict_vehicle[make][model].append(year)\n",
    "\n",
    "    # = = = = = = = = = = = = = = =\n",
    "\n",
    "    list_vehicle = []\n",
    "    for make, dict_model in dict_vehicle.items():\n",
    "        for model, list_year in dict_model.items():\n",
    "            year_begin, year_end = min(list_year), max(list_year)\n",
    "            list_vehicle.append(f'{make} {model} {year_begin}' if year_begin == year_end else f'{make} {model} {year_begin}-{year_end}')\n",
    "\n",
    "    # = = = = = = = = = = = = = = =\n",
    "\n",
    "    list_dict.append({'SKU': sku,\n",
    "                      'Vehicle': '\\n'.join(sorted(list_vehicle))})\n",
    "\n",
    "# = = = = = = = = = = = = = = =\n",
    "\n",
    "df_output = pd.DataFrame(list_dict).sort_values(by=['SKU'],\n",
    "                                                ascending=[True],\n",
    "                                                ignore_index=True)\n",
    "df_output.to_excel('./file/3.vehicle.xlsx', index=False)\n",
    "\n",
    "print()\n",
    "print('Done ~')"
   ]
  },
  {
   "cell_type": "code",
   "execution_count": null,
   "id": "27293b52-66ed-450d-b1e2-4ca40157e0e7",
   "metadata": {},
   "outputs": [],
   "source": []
  }
 ],
 "metadata": {
  "kernelspec": {
   "display_name": "Python 3 (ipykernel)",
   "language": "python",
   "name": "python3"
  },
  "language_info": {
   "codemirror_mode": {
    "name": "ipython",
    "version": 3
   },
   "file_extension": ".py",
   "mimetype": "text/x-python",
   "name": "python",
   "nbconvert_exporter": "python",
   "pygments_lexer": "ipython3",
   "version": "3.12.7"
  }
 },
 "nbformat": 4,
 "nbformat_minor": 5
}
