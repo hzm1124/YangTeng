{
 "cells": [
  {
   "cell_type": "code",
   "execution_count": 1,
   "id": "03f4a83e",
   "metadata": {},
   "outputs": [],
   "source": [
    "import pandas as pd\n",
    "\n",
    "output_correct = pd.DataFrame()\n",
    "\n",
    "output_error = pd.DataFrame()"
   ]
  },
  {
   "cell_type": "code",
   "execution_count": 2,
   "id": "964f1e38",
   "metadata": {},
   "outputs": [
    {
     "name": "stdout",
     "output_type": "stream",
     "text": [
      "总数量：26\n"
     ]
    },
    {
     "data": {
      "text/plain": [
       "['Apparel & Gifts',\n",
       " 'Belt Drive',\n",
       " 'Body & Lamp Assembly',\n",
       " 'Brake & Wheel Hub',\n",
       " 'Cooling System',\n",
       " 'Drivetrain',\n",
       " 'Electrical',\n",
       " 'Electrical-Bulb & Socket',\n",
       " 'Electrical-Connector',\n",
       " 'Electrical-Switch & Relay',\n",
       " 'Engine',\n",
       " 'Exhaust & Emission',\n",
       " 'Fuel & Air',\n",
       " 'Garage Equipment',\n",
       " 'Hardware',\n",
       " 'Heat & Air Conditioning',\n",
       " 'Hoses/Lines & Clamps',\n",
       " 'Ignition',\n",
       " 'Interior',\n",
       " 'Literature',\n",
       " 'Steering',\n",
       " 'Suspension',\n",
       " 'Transmission-Automatic',\n",
       " 'Transmission-Manual',\n",
       " 'Wheel',\n",
       " 'Wiper & Washer']"
      ]
     },
     "execution_count": 2,
     "metadata": {},
     "output_type": "execute_result"
    }
   ],
   "source": [
    "input_ = pd.read_excel('./1.category.xlsx',\n",
    "                       header=0,\n",
    "                       dtype=str).fillna('')\n",
    "\n",
    "length = len(input_)\n",
    "\n",
    "print('总数量：' + str(length))\n",
    "input_['Category'].tolist()"
   ]
  },
  {
   "cell_type": "code",
   "execution_count": 3,
   "id": "1df64da2",
   "metadata": {},
   "outputs": [
    {
     "name": "stdout",
     "output_type": "stream",
     "text": [
      "error\n"
     ]
    }
   ],
   "source": [
    "crawler_status = 'error'\n",
    "\n",
    "print(crawler_status)"
   ]
  },
  {
   "cell_type": "code",
   "execution_count": 4,
   "id": "c312537e",
   "metadata": {},
   "outputs": [],
   "source": [
    "from urllib.parse import quote\n",
    "import requests\n",
    "import json"
   ]
  },
  {
   "cell_type": "code",
   "execution_count": 5,
   "id": "1f6c50c9",
   "metadata": {},
   "outputs": [
    {
     "data": {
      "text/plain": [
       "{'html_fill_sections': {'navchildren[]': '<div class=\"ranavnode\" id=\"nav[__GIP__1__]\"><input type=\"hidden\" autocomplete=\"off\" id=\"jsn[__GIP__1__]\" value=\"{&quot;groupindex&quot;:&quot;__GIP__1__&quot;,&quot;tab&quot;:&quot;extras&quot;,&quot;idepth&quot;:1,&quot;groupname&quot;:&quot;Apparel &amp; Gifts&quot;,&quot;subgroupname&quot;:&quot;RockAuto Apparel&quot;,&quot;nodetype&quot;:&quot;subgroupname&quot;}\" /><input type=\"hidden\" autocomplete=\"off\" name=\"navnodeunique[extras-apparel &amp; gifts-rockauto apparel]\" id=\"navnodeunique[extras-apparel &amp; gifts-rockauto apparel]\" value=\"__GIP__1__\" /><div id=\"nav_o[__GIP__1__]\" class=\"ranavouter\"><div class=\"inner\"><table class=\"tbl\"  cellpadding=\"0\" cellspacing=\"0\"><tr><td class=\"niconspace nvlineicon\"></td><td class=\"niconspace ncollapsedicon\" id=\"navicon[__GIP__1__]\"><a href=\"/en/tools/apparel+&amp;+gifts,rockauto+apparel\" onclick=\"cataloglite.LinkIntercept_ToggleNavNode(&quot;__GIP__1__&quot;); return false;\" tabindex=\"-1\"><img src=\"/Images/1pxtransparent.png\" alt=\"Toggle\"></a></td><td class=\"nlabel\"  onmouseover=\"timer_collage = setTimeout(function(){ cataloglite.CreateCollagePopup(&quot;__GIP__1__&quot;); }, 333);\" onmouseout=\"clearTimeout(timer_collage); cataloglite.HideCollagePopup();\" onmousedown=\"clearTimeout(timer_collage); cataloglite.HideCollagePopup();\"><a class=\"navlabellink nvoffset nnormal\" href=\"/en/tools/apparel+&amp;+gifts,rockauto+apparel\" onclick=\"cataloglite.LinkIntercept_ToggleNavNode(&quot;__GIP__1__&quot;); return false;\" id=\"navhref[__GIP__1__]\">RockAuto Apparel</a></td></tr></table></div></div><div class=\"nchildren ra-hide\" id=\"navchildren[__GIP__1__]\" ></div></div><div class=\"ranavnode\" id=\"nav[__GIP__2__]\"><input type=\"hidden\" autocomplete=\"off\" id=\"jsn[__GIP__2__]\" value=\"{&quot;groupindex&quot;:&quot;__GIP__2__&quot;,&quot;tab&quot;:&quot;extras&quot;,&quot;idepth&quot;:1,&quot;groupname&quot;:&quot;Apparel &amp; Gifts&quot;,&quot;subgroupname&quot;:&quot;RockAuto Gift&quot;,&quot;nodetype&quot;:&quot;subgroupname&quot;}\" /><input type=\"hidden\" autocomplete=\"off\" name=\"navnodeunique[extras-apparel &amp; gifts-rockauto gift]\" id=\"navnodeunique[extras-apparel &amp; gifts-rockauto gift]\" value=\"__GIP__2__\" /><div id=\"nav_o[__GIP__2__]\" class=\"ranavouter\"><div class=\"inner\"><table class=\"tbl\"  cellpadding=\"0\" cellspacing=\"0\"><tr><td class=\"niconspace nvlineicon\"></td><td class=\"niconspace ncollapsedicon\" id=\"navicon[__GIP__2__]\"><a href=\"/en/tools/apparel+&amp;+gifts,rockauto+gift\" onclick=\"cataloglite.LinkIntercept_ToggleNavNode(&quot;__GIP__2__&quot;); return false;\" tabindex=\"-1\"><img src=\"/Images/1pxtransparent.png\" alt=\"Toggle\"></a></td><td class=\"nlabel\"  onmouseover=\"timer_collage = setTimeout(function(){ cataloglite.CreateCollagePopup(&quot;__GIP__2__&quot;); }, 333);\" onmouseout=\"clearTimeout(timer_collage); cataloglite.HideCollagePopup();\" onmousedown=\"clearTimeout(timer_collage); cataloglite.HideCollagePopup();\"><a class=\"navlabellink nvoffset nnormal\" href=\"/en/tools/apparel+&amp;+gifts,rockauto+gift\" onclick=\"cataloglite.LinkIntercept_ToggleNavNode(&quot;__GIP__2__&quot;); return false;\" id=\"navhref[__GIP__2__]\">RockAuto Gift</a></td></tr></table></div></div><div class=\"nchildren ra-hide\" id=\"navchildren[__GIP__2__]\" ></div></div>'},\n",
       " 'jsn': {'tab': 'extras',\n",
       "  'groupname': 'Apparel & Gifts',\n",
       "  'nodetype': 'groupname',\n",
       "  'idepth': 0},\n",
       " 'collected_javascript': '/**UQ:BB378F7D**/\\nwindow.top.parent.window[\"_nck\"] = \"8LVLUxTaILBT+tLxkg8+3Ag7\\\\/0bbOhvn7P3rkFbL809YNOHQDmNBznFtdYfbcEUriQ0mcmy\\\\/TcWfcbfHTjxSwndfe2chgzy88liHO2MoAcp7wW7lek5DxawTLSg\\\\/DpYUwwgKwrMfy32EP9y\\\\/bwJPcjox\\\\/s3nZ\\\\/+HjYvwjrkBcio=\";\\n'}"
      ]
     },
     "execution_count": 5,
     "metadata": {},
     "output_type": "execute_result"
    }
   ],
   "source": [
    "i = 0\n",
    "\n",
    "jsn = '{\"jsn\":{\"tab\":\"extras\",\"groupname\":\"' + input_.loc[i, 'Category'] + '\",\"nodetype\":\"groupname\"}}'\n",
    "\n",
    "payload = {'func': 'navnode_fetch',\n",
    "           'payload': jsn,\n",
    "           'api_json_request': '1'}\n",
    "\n",
    "resp = requests.post('https://www.rockauto.com/catalog/catalogapi.php',\n",
    "                     data=payload).text\n",
    "\n",
    "resp = json.loads(resp)\n",
    "\n",
    "resp"
   ]
  },
  {
   "cell_type": "code",
   "execution_count": 6,
   "id": "84f8e9ea",
   "metadata": {},
   "outputs": [],
   "source": [
    "from bs4 import BeautifulSoup"
   ]
  },
  {
   "cell_type": "code",
   "execution_count": 7,
   "id": "be9f27ab",
   "metadata": {},
   "outputs": [
    {
     "name": "stdout",
     "output_type": "stream",
     "text": [
      "<html>\n",
      " <body>\n",
      "  <div class=\"ranavnode\" id=\"nav[__GIP__1__]\">\n",
      "   <input autocomplete=\"off\" id=\"jsn[__GIP__1__]\" type=\"hidden\" value='{\"groupindex\":\"__GIP__1__\",\"tab\":\"extras\",\"idepth\":1,\"groupname\":\"Apparel &amp; Gifts\",\"subgroupname\":\"RockAuto Apparel\",\"nodetype\":\"subgroupname\"}'/>\n",
      "   <input autocomplete=\"off\" id=\"navnodeunique[extras-apparel &amp; gifts-rockauto apparel]\" name=\"navnodeunique[extras-apparel &amp; gifts-rockauto apparel]\" type=\"hidden\" value=\"__GIP__1__\"/>\n",
      "   <div class=\"ranavouter\" id=\"nav_o[__GIP__1__]\">\n",
      "    <div class=\"inner\">\n",
      "     <table cellpadding=\"0\" cellspacing=\"0\" class=\"tbl\">\n",
      "      <tr>\n",
      "       <td class=\"niconspace nvlineicon\">\n",
      "       </td>\n",
      "       <td class=\"niconspace ncollapsedicon\" id=\"navicon[__GIP__1__]\">\n",
      "        <a href=\"/en/tools/apparel+&amp;+gifts,rockauto+apparel\" onclick='cataloglite.LinkIntercept_ToggleNavNode(\"__GIP__1__\"); return false;' tabindex=\"-1\">\n",
      "         <img alt=\"Toggle\" src=\"/Images/1pxtransparent.png\"/>\n",
      "        </a>\n",
      "       </td>\n",
      "       <td class=\"nlabel\" onmousedown=\"clearTimeout(timer_collage); cataloglite.HideCollagePopup();\" onmouseout=\"clearTimeout(timer_collage); cataloglite.HideCollagePopup();\" onmouseover='timer_collage = setTimeout(function(){ cataloglite.CreateCollagePopup(\"__GIP__1__\"); }, 333);'>\n",
      "        <a class=\"navlabellink nvoffset nnormal\" href=\"/en/tools/apparel+&amp;+gifts,rockauto+apparel\" id=\"navhref[__GIP__1__]\" onclick='cataloglite.LinkIntercept_ToggleNavNode(\"__GIP__1__\"); return false;'>\n",
      "         RockAuto Apparel\n",
      "        </a>\n",
      "       </td>\n",
      "      </tr>\n",
      "     </table>\n",
      "    </div>\n",
      "   </div>\n",
      "   <div class=\"nchildren ra-hide\" id=\"navchildren[__GIP__1__]\">\n",
      "   </div>\n",
      "  </div>\n",
      "  <div class=\"ranavnode\" id=\"nav[__GIP__2__]\">\n",
      "   <input autocomplete=\"off\" id=\"jsn[__GIP__2__]\" type=\"hidden\" value='{\"groupindex\":\"__GIP__2__\",\"tab\":\"extras\",\"idepth\":1,\"groupname\":\"Apparel &amp; Gifts\",\"subgroupname\":\"RockAuto Gift\",\"nodetype\":\"subgroupname\"}'/>\n",
      "   <input autocomplete=\"off\" id=\"navnodeunique[extras-apparel &amp; gifts-rockauto gift]\" name=\"navnodeunique[extras-apparel &amp; gifts-rockauto gift]\" type=\"hidden\" value=\"__GIP__2__\"/>\n",
      "   <div class=\"ranavouter\" id=\"nav_o[__GIP__2__]\">\n",
      "    <div class=\"inner\">\n",
      "     <table cellpadding=\"0\" cellspacing=\"0\" class=\"tbl\">\n",
      "      <tr>\n",
      "       <td class=\"niconspace nvlineicon\">\n",
      "       </td>\n",
      "       <td class=\"niconspace ncollapsedicon\" id=\"navicon[__GIP__2__]\">\n",
      "        <a href=\"/en/tools/apparel+&amp;+gifts,rockauto+gift\" onclick='cataloglite.LinkIntercept_ToggleNavNode(\"__GIP__2__\"); return false;' tabindex=\"-1\">\n",
      "         <img alt=\"Toggle\" src=\"/Images/1pxtransparent.png\"/>\n",
      "        </a>\n",
      "       </td>\n",
      "       <td class=\"nlabel\" onmousedown=\"clearTimeout(timer_collage); cataloglite.HideCollagePopup();\" onmouseout=\"clearTimeout(timer_collage); cataloglite.HideCollagePopup();\" onmouseover='timer_collage = setTimeout(function(){ cataloglite.CreateCollagePopup(\"__GIP__2__\"); }, 333);'>\n",
      "        <a class=\"navlabellink nvoffset nnormal\" href=\"/en/tools/apparel+&amp;+gifts,rockauto+gift\" id=\"navhref[__GIP__2__]\" onclick='cataloglite.LinkIntercept_ToggleNavNode(\"__GIP__2__\"); return false;'>\n",
      "         RockAuto Gift\n",
      "        </a>\n",
      "       </td>\n",
      "      </tr>\n",
      "     </table>\n",
      "    </div>\n",
      "   </div>\n",
      "   <div class=\"nchildren ra-hide\" id=\"navchildren[__GIP__2__]\">\n",
      "   </div>\n",
      "  </div>\n",
      " </body>\n",
      "</html>\n",
      "\n"
     ]
    }
   ],
   "source": [
    "html = resp['html_fill_sections']['navchildren[]']\n",
    "\n",
    "soup = BeautifulSoup(html, 'lxml')\n",
    "\n",
    "with open('./subcategory.html', 'w', encoding='UTF-8') as file:\n",
    "    file.write(str(soup))\n",
    "\n",
    "print(soup.prettify())"
   ]
  },
  {
   "cell_type": "code",
   "execution_count": 8,
   "id": "6d5642d6",
   "metadata": {},
   "outputs": [],
   "source": [
    "from lxml import etree"
   ]
  },
  {
   "cell_type": "code",
   "execution_count": 9,
   "id": "6178eb0b",
   "metadata": {},
   "outputs": [
    {
     "data": {
      "text/plain": [
       "['RockAuto Apparel', 'RockAuto Gift']"
      ]
     },
     "execution_count": 9,
     "metadata": {},
     "output_type": "execute_result"
    }
   ],
   "source": [
    "html = etree.HTML(str(soup))\n",
    "\n",
    "list_subcategory = [subcategory.strip() for subcategory in html.xpath('//td[@class=\"nlabel\"]/a/text()')]\n",
    "\n",
    "list_subcategory"
   ]
  },
  {
   "cell_type": "code",
   "execution_count": 10,
   "id": "c56713f6",
   "metadata": {},
   "outputs": [
    {
     "data": {
      "text/plain": [
       "['https://www.rockauto.com/en/tools/apparel+&+gifts,rockauto+apparel',\n",
       " 'https://www.rockauto.com/en/tools/apparel+&+gifts,rockauto+gift']"
      ]
     },
     "execution_count": 10,
     "metadata": {},
     "output_type": "execute_result"
    }
   ],
   "source": [
    "list_url = ['https://www.rockauto.com'+url.strip() for url in html.xpath('//td[@class=\"niconspace ncollapsedicon\"]/a/@href')]\n",
    "\n",
    "list_url"
   ]
  },
  {
   "cell_type": "code",
   "execution_count": 11,
   "id": "1f53e536",
   "metadata": {},
   "outputs": [
    {
     "name": "stdout",
     "output_type": "stream",
     "text": [
      "correct\n"
     ]
    }
   ],
   "source": [
    "crawler_status = 'ok'\n",
    "\n",
    "print(crawler_status)"
   ]
  },
  {
   "cell_type": "code",
   "execution_count": 12,
   "id": "9b8bdb6c",
   "metadata": {
    "scrolled": true
   },
   "outputs": [
    {
     "name": "stdout",
     "output_type": "stream",
     "text": [
      "2 0\n"
     ]
    }
   ],
   "source": [
    "if crawler_status == 'ok':\n",
    "    df_temp = pd.DataFrame({'Tab_Label': input_.loc[i, 'Tab_Label'],\n",
    "                            'No.': int(input_.loc[i, 'No.']),\n",
    "                            'Category': input_.loc[i, 'Category'],\n",
    "                            'Subcategory': list_subcategory,\n",
    "                            'Url': list_url})\n",
    "    \n",
    "    output_correct = pd.concat([output_correct, df_temp], ignore_index=True).fillna('')\n",
    "else:\n",
    "    df_temp = pd.DataFrame([{'Tab_Label': input_.loc[i, 'Tab_Label'],\n",
    "                             'No.': int(input_.loc[i, 'No.']),\n",
    "                             'Category': input_.loc[i, 'Category'],\n",
    "                             'Url': input_.loc[i, 'Url']}])\n",
    "    \n",
    "    output_error = pd.concat([output_error, df_temp], ignore_index=True).fillna('')\n",
    "    \n",
    "print(len(output_correct), len(output_error))"
   ]
  },
  {
   "cell_type": "code",
   "execution_count": null,
   "id": "22d4f3db",
   "metadata": {},
   "outputs": [],
   "source": []
  }
 ],
 "metadata": {
  "kernelspec": {
   "display_name": "Python 3 (ipykernel)",
   "language": "python",
   "name": "python3"
  },
  "language_info": {
   "codemirror_mode": {
    "name": "ipython",
    "version": 3
   },
   "file_extension": ".py",
   "mimetype": "text/x-python",
   "name": "python",
   "nbconvert_exporter": "python",
   "pygments_lexer": "ipython3",
   "version": "3.11.3"
  }
 },
 "nbformat": 4,
 "nbformat_minor": 5
}
