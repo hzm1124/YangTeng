{
 "cells": [
  {
   "cell_type": "code",
   "execution_count": 1,
   "id": "b39afb2a-56a5-4e97-beef-5f3edd0b1a45",
   "metadata": {
    "scrolled": true
   },
   "outputs": [
    {
     "data": {
      "text/plain": [
       "{'sku_count': 750,\n",
       " 'page_count': 8,\n",
       " 'page': 1,\n",
       " 'page_url': 'https://www.dormanproducts.com/gsearch.aspx?type=keyword&origin=keyword&parttype=Radiator%2520Fan%2520Assembly&start=0&num=100',\n",
       " 'no': 1,\n",
       " 'url': 'https://www.dormanproducts.com/p-106000-621-965.aspx?parttype=Radiator%2520Fan%2520Assembly&origin=keyword',\n",
       " 'picture': '',\n",
       " 'type_': 'Radiator Fan Assembly',\n",
       " 'json_src': '{\"0\": \"https://static.dormanproducts.com/images/product/medium/621-965-007.JPG\", \"1\": \"https://static.dormanproducts.com/images/product/medium/621-965-009.JPG\", \"2\": \"https://static.dormanproducts.com/images/product/medium/621-965-003.JPG\", \"3\": \"https://static.dormanproducts.com/images/product/medium/621-965-002.JPG\"}',\n",
       " 'brand': 'Dorman - OE Solutions',\n",
       " 'part_number': '621-965',\n",
       " 'description': 'Radiator Fan Assembly Without Controller',\n",
       " 'application_summary': 'Nissan Sentra 2000-96, Nissan Tsuru 2017-10, 2006-96',\n",
       " 'warning': '',\n",
       " 'compatibility_home': 'https://www.dormanproducts.com/itemdetailapp.aspx?ProductID=106000&PartType=Radiator+Fan+Assembly&start=0&num=50',\n",
       " 'json_specification': '{\"Blade Material\": \"Plastic\", \"Blade Type\": \"Forward Align Fin\", \"Connector Gender\": \"Female\", \"Connector Quantity\": \"1\", \"Diameter\": \"300 mm\", \"Electrical Or Mechanical\": \"Electrical\", \"Fan 1 Blade Quantity\": \"1\", \"Fan 1 Diameter\": \"300 mm\", \"Fan 2 Blade Quantity\": \"0\", \"Fan Quantity\": \"1\", \"Fan Rotation\": \"Clockwise (Right)\", \"Flat Side On Shaft\": \"No\", \"Grade Type\": \"Regular\", \"Motor Type\": \"Brushed\", \"Package Contents\": \"1 Radiator Fan Assembly\", \"Package Quantity\": \"1\", \"Packaging Type\": \"Box\", \"Shaft Diameter\": \"5 mm\", \"Shroud Color\": \"Black\", \"Shroud Included\": \"Yes\", \"Shroud Material\": \"Plastic\", \"Terminal Gender\": \"Female\", \"Terminal Quantity\": \"2\", \"Voltage\": \"13.6 VDC\"}',\n",
       " 'oem': '21481F430A',\n",
       " 'compatibility_page': 1,\n",
       " 'compatibility_url': 'https://www.dormanproducts.com/itemdetailapp.aspx?ProductID=106000&PartType=Radiator+Fan+Assembly&start=0&num=50'}"
      ]
     },
     "execution_count": 1,
     "metadata": {},
     "output_type": "execute_result"
    }
   ],
   "source": [
    "dict_ = {'sku_count': 750,\n",
    " 'page_count': 8,\n",
    " 'page': 1,\n",
    " 'page_url': 'https://www.dormanproducts.com/gsearch.aspx?type=keyword&origin=keyword&parttype=Radiator%2520Fan%2520Assembly&start=0&num=100',\n",
    " 'no': 1,\n",
    " 'url': 'https://www.dormanproducts.com/p-106000-621-965.aspx?parttype=Radiator%2520Fan%2520Assembly&origin=keyword',\n",
    " 'picture': '',\n",
    " 'type_': 'Radiator Fan Assembly',\n",
    " 'json_src': '{\"0\": \"https://static.dormanproducts.com/images/product/medium/621-965-007.JPG\", \"1\": \"https://static.dormanproducts.com/images/product/medium/621-965-009.JPG\", \"2\": \"https://static.dormanproducts.com/images/product/medium/621-965-003.JPG\", \"3\": \"https://static.dormanproducts.com/images/product/medium/621-965-002.JPG\"}',\n",
    " 'brand': 'Dorman - OE Solutions',\n",
    " 'part_number': '621-965',\n",
    " 'description': 'Radiator Fan Assembly Without Controller',\n",
    " 'application_summary': 'Nissan Sentra 2000-96, Nissan Tsuru 2017-10, 2006-96',\n",
    " 'warning': '',\n",
    " 'compatibility_home': 'https://www.dormanproducts.com/itemdetailapp.aspx?ProductID=106000&PartType=Radiator+Fan+Assembly&start=0&num=50',\n",
    " 'json_specification': '{\"Blade Material\": \"Plastic\", \"Blade Type\": \"Forward Align Fin\", \"Connector Gender\": \"Female\", \"Connector Quantity\": \"1\", \"Diameter\": \"300 mm\", \"Electrical Or Mechanical\": \"Electrical\", \"Fan 1 Blade Quantity\": \"1\", \"Fan 1 Diameter\": \"300 mm\", \"Fan 2 Blade Quantity\": \"0\", \"Fan Quantity\": \"1\", \"Fan Rotation\": \"Clockwise (Right)\", \"Flat Side On Shaft\": \"No\", \"Grade Type\": \"Regular\", \"Motor Type\": \"Brushed\", \"Package Contents\": \"1 Radiator Fan Assembly\", \"Package Quantity\": \"1\", \"Packaging Type\": \"Box\", \"Shaft Diameter\": \"5 mm\", \"Shroud Color\": \"Black\", \"Shroud Included\": \"Yes\", \"Shroud Material\": \"Plastic\", \"Terminal Gender\": \"Female\", \"Terminal Quantity\": \"2\", \"Voltage\": \"13.6 VDC\"}',\n",
    " 'oem': '21481F430A',\n",
    " 'compatibility_page': 1,\n",
    " 'compatibility_url': 'https://www.dormanproducts.com/itemdetailapp.aspx?ProductID=106000&PartType=Radiator+Fan+Assembly&start=0&num=50'}\n",
    "\n",
    "dict_"
   ]
  },
  {
   "cell_type": "code",
   "execution_count": 2,
   "id": "e0c2c2a3-9f16-4752-958e-60277496d5f2",
   "metadata": {},
   "outputs": [],
   "source": [
    "import requests\n",
    "\n",
    "import sys\n",
    "sys.path.append('../00.Tools')\n",
    "from configuration import generate_header, generate_proxy"
   ]
  },
  {
   "cell_type": "code",
   "execution_count": 3,
   "id": "a3834d47-66c7-4fe3-98ae-8ac12c5c1ee4",
   "metadata": {},
   "outputs": [
    {
     "data": {
      "text/plain": [
       "200"
      ]
     },
     "execution_count": 3,
     "metadata": {},
     "output_type": "execute_result"
    }
   ],
   "source": [
    "response = requests.get(dict_['compatibility_url'],\n",
    "                        headers=generate_header(**{'Accept': 'text/html',\n",
    "                                                   'Accept-Language': 'en',\n",
    "                                                   'Cache-Control': 'no-cache',\n",
    "                                                   'Pragma': 'no-cache',\n",
    "                                                   'Sec-Fetch-Dest': 'document',\n",
    "                                                   'Sec-Fetch-Mode': 'navigate',\n",
    "                                                   'Sec-Fetch-Site': 'same-origin',\n",
    "                                                   'Sec-Fetch-User': '?1',\n",
    "                                                   'Upgrade-Insecure-Requests': '1'}),\n",
    "                        proxies=generate_proxy(),\n",
    "                        timeout=(10, 15),\n",
    "                        allow_redirects=False)\n",
    "\n",
    "response.status_code"
   ]
  },
  {
   "cell_type": "code",
   "execution_count": 4,
   "id": "abc1ffc4-576f-4ed3-b39f-2deb56fc8dd8",
   "metadata": {},
   "outputs": [],
   "source": [
    "from bs4 import BeautifulSoup"
   ]
  },
  {
   "cell_type": "code",
   "execution_count": 5,
   "id": "1d78229b-169c-422c-b27d-95a857d5323e",
   "metadata": {
    "scrolled": true
   },
   "outputs": [
    {
     "name": "stdout",
     "output_type": "stream",
     "text": [
      "<html>\n",
      " <head>\n",
      "  <title>\n",
      "   Detailed Applications\n",
      "  </title>\n",
      "  <link href=\"/content/bootstrap.min.css?d=20160316\" rel=\"stylesheet\" type=\"text/css\"/>\n",
      "  <link href=\"/content/style.min.css?d=20220208\" id=\"linkrbcss\" rel=\"stylesheet\" type=\"text/css\"/>\n",
      "  <script>\n",
      "   var __uzdbm_1 = \"219c767e-a321-457c-82d3-78150f257d0a\";var __uzdbm_2 = \"NzIwNWNhNjQtYnUydi00OWU3LWI5NDgtNWMwZjYzYmRhMmI4JDE3MS4zNC4yMzIuMTMz\";var __uzdbm_3 = \"7f6000172bcb67-4239-4506-a5b9-bdb2a2d71df117495186897550-26a475f78e2c832110\";var __uzdbm_4 = \"false\";var __uzdbm_5 = \"uzmx\";var __uzdbm_6 = \"7f9000aa809dab-8cd4-4d3b-b718-86fd480663591-17495186897550-9108e095060f829c10\";var __uzdbm_7 = \"dormanproducts.com\";\n",
      "  </script>\n",
      "  <script>\n",
      "   (function (w, d, e, u, c, g, a, b) {     w[\"SSJSConnectorObj\"] = w[\"SSJSConnectorObj\"] || {       ss_cid: c,       domain_info: \"auto\",     };     w[g] = function (i, j) {       w[\"SSJSConnectorObj\"][i] = j;     };     a = d.createElement(e);     a.async = true;     if (       navigator.userAgent.indexOf('MSIE') !== -1 ||       navigator.appVersion.indexOf('Trident/') > -1     ) {       u = u.replace(\"/advanced/\", \"/advanced/ie/\");     }     a.src = u;     b = d.getElementsByTagName(e)[0];     b.parentNode.insertBefore(a, b);   })(     window, document, \"script\", \"https://www.dormanproducts.com/18f5227b-e27b-445a-a53f-f845fbe69b40/stormcaster.js\", \"bu2x\", \"ssConf\"   );   ssConf(\"c1\", \"https://www.dormanproducts.com\");   ssConf(\"c3\", \"c99a4269-161c-4242-a3f0-28d44fa6ce24\");   ssConf(\"au\", \"dormanproducts.com\");   ssConf(\"cu\", \"validate.perfdrive.com, ssc\");\n",
      "  </script>\n",
      " </head>\n",
      " <body>\n",
      "  <form action=\"./itemdetailapp.aspx?ProductID=106000&amp;PartType=Radiator+Fan+Assembly&amp;start=0&amp;num=50\" id=\"form1\" method=\"post\" name=\"form1\">\n",
      "   <div>\n",
      "    <input id=\"__VIEWSTATE\" name=\"__VIEWSTATE\" type=\"hidden\" value=\"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\"/>\n",
      "   </div>\n",
      "   <div>\n",
      "    <input id=\"__VIEWSTATEGENERATOR\" name=\"__VIEWSTATEGENERATOR\" type=\"hidden\" value=\"9ADCAD4B\"/>\n",
      "   </div>\n",
      "   <div>\n",
      "    <table border=\"0\" cellspacing=\"0\" class=\"table table-hover table-dorman table-striped detail-app-table\" id=\"gvDetailApps\" style=\"border-collapse:collapse;\">\n",
      "     <thead>\n",
      "      <tr>\n",
      "       <th scope=\"col\">\n",
      "        Year\n",
      "       </th>\n",
      "       <th scope=\"col\">\n",
      "        Make\n",
      "       </th>\n",
      "       <th scope=\"col\">\n",
      "        Model\n",
      "       </th>\n",
      "       <th scope=\"col\">\n",
      "        Configuration\n",
      "       </th>\n",
      "       <th scope=\"col\">\n",
      "        Positions\n",
      "       </th>\n",
      "       <th scope=\"col\">\n",
      "        Application Notes\n",
      "       </th>\n",
      "      </tr>\n",
      "     </thead>\n",
      "     <tbody>\n",
      "      <tr class=\"detail-app-row\">\n",
      "       <td style=\"width:5%;\">\n",
      "        2017\n",
      "       </td>\n",
      "       <td style=\"width:13%;\">\n",
      "        Nissan\n",
      "       </td>\n",
      "       <td style=\"width:17%;\">\n",
      "        Tsuru (Mexico)\n",
      "       </td>\n",
      "       <td style=\"width:21%;\">\n",
      "        L4 97 1.6L (1597cc); Mexico Region; Manual Trans.\n",
      "       </td>\n",
      "       <td style=\"width:17%;\">\n",
      "       </td>\n",
      "       <td style=\"width:27%;\">\n",
      "       </td>\n",
      "      </tr>\n",
      "      <tr class=\"detail-app-row\">\n",
      "       <td style=\"width:5%;\">\n",
      "        2016\n",
      "       </td>\n",
      "       <td style=\"width:13%;\">\n",
      "        Nissan\n",
      "       </td>\n",
      "       <td style=\"width:17%;\">\n",
      "        Tsuru (Mexico)\n",
      "       </td>\n",
      "       <td style=\"width:21%;\">\n",
      "        L4 97 1.6L (1597cc); Mexico Region; Manual Trans.\n",
      "       </td>\n",
      "       <td style=\"width:17%;\">\n",
      "       </td>\n",
      "       <td style=\"width:27%;\">\n",
      "       </td>\n",
      "      </tr>\n",
      "      <tr class=\"detail-app-row\">\n",
      "       <td style=\"width:5%;\">\n",
      "        2015\n",
      "       </td>\n",
      "       <td style=\"width:13%;\">\n",
      "        Nissan\n",
      "       </td>\n",
      "       <td style=\"width:17%;\">\n",
      "        Tsuru (Mexico)\n",
      "       </td>\n",
      "       <td style=\"width:21%;\">\n",
      "        L4 97 1.6L (1597cc); Mexico Region; Manual Trans.\n",
      "       </td>\n",
      "       <td style=\"width:17%;\">\n",
      "       </td>\n",
      "       <td style=\"width:27%;\">\n",
      "       </td>\n",
      "      </tr>\n",
      "      <tr class=\"detail-app-row\">\n",
      "       <td style=\"width:5%;\">\n",
      "        2014\n",
      "       </td>\n",
      "       <td style=\"width:13%;\">\n",
      "        Nissan\n",
      "       </td>\n",
      "       <td style=\"width:17%;\">\n",
      "        Tsuru (Mexico)\n",
      "       </td>\n",
      "       <td style=\"width:21%;\">\n",
      "        L4 97 1.6L (1597cc); Mexico Region; Manual Trans.\n",
      "       </td>\n",
      "       <td style=\"width:17%;\">\n",
      "       </td>\n",
      "       <td style=\"width:27%;\">\n",
      "       </td>\n",
      "      </tr>\n",
      "      <tr class=\"detail-app-row\">\n",
      "       <td style=\"width:5%;\">\n",
      "        2013\n",
      "       </td>\n",
      "       <td style=\"width:13%;\">\n",
      "        Nissan\n",
      "       </td>\n",
      "       <td style=\"width:17%;\">\n",
      "        Tsuru (Mexico)\n",
      "       </td>\n",
      "       <td style=\"width:21%;\">\n",
      "        L4 97 1.6L (1597cc); Mexico Region; Manual Trans.\n",
      "       </td>\n",
      "       <td style=\"width:17%;\">\n",
      "       </td>\n",
      "       <td style=\"width:27%;\">\n",
      "       </td>\n",
      "      </tr>\n",
      "      <tr class=\"detail-app-row\">\n",
      "       <td style=\"width:5%;\">\n",
      "        2012\n",
      "       </td>\n",
      "       <td style=\"width:13%;\">\n",
      "        Nissan\n",
      "       </td>\n",
      "       <td style=\"width:17%;\">\n",
      "        Tsuru (Mexico)\n",
      "       </td>\n",
      "       <td style=\"width:21%;\">\n",
      "        L4 97 1.6L (1597cc); Mexico Region; Manual Trans.\n",
      "       </td>\n",
      "       <td style=\"width:17%;\">\n",
      "       </td>\n",
      "       <td style=\"width:27%;\">\n",
      "       </td>\n",
      "      </tr>\n",
      "      <tr class=\"detail-app-row\">\n",
      "       <td style=\"width:5%;\">\n",
      "        2011\n",
      "       </td>\n",
      "       <td style=\"width:13%;\">\n",
      "        Nissan\n",
      "       </td>\n",
      "       <td style=\"width:17%;\">\n",
      "        Tsuru (Mexico)\n",
      "       </td>\n",
      "       <td style=\"width:21%;\">\n",
      "        L4 97 1.6L (1597cc); Mexico Region; Manual Trans.\n",
      "       </td>\n",
      "       <td style=\"width:17%;\">\n",
      "       </td>\n",
      "       <td style=\"width:27%;\">\n",
      "       </td>\n",
      "      </tr>\n",
      "      <tr class=\"detail-app-row\">\n",
      "       <td style=\"width:5%;\">\n",
      "        2010\n",
      "       </td>\n",
      "       <td style=\"width:13%;\">\n",
      "        Nissan\n",
      "       </td>\n",
      "       <td style=\"width:17%;\">\n",
      "        Tsuru (Mexico)\n",
      "       </td>\n",
      "       <td style=\"width:21%;\">\n",
      "        L4 97 1.6L (1597cc); Mexico Region; Manual Trans.\n",
      "       </td>\n",
      "       <td style=\"width:17%;\">\n",
      "       </td>\n",
      "       <td style=\"width:27%;\">\n",
      "       </td>\n",
      "      </tr>\n",
      "      <tr class=\"detail-app-row\">\n",
      "       <td style=\"width:5%;\">\n",
      "        2006\n",
      "       </td>\n",
      "       <td style=\"width:13%;\">\n",
      "        Nissan\n",
      "       </td>\n",
      "       <td style=\"width:17%;\">\n",
      "        Tsuru (Mexico)\n",
      "       </td>\n",
      "       <td style=\"width:21%;\">\n",
      "        L4 97 1.6L (1597cc); Engine Desg. GA16DE; Manual Trans.\n",
      "       </td>\n",
      "       <td style=\"width:17%;\">\n",
      "       </td>\n",
      "       <td style=\"width:27%;\">\n",
      "       </td>\n",
      "      </tr>\n",
      "      <tr class=\"detail-app-row\">\n",
      "       <td style=\"width:5%;\">\n",
      "        2005\n",
      "       </td>\n",
      "       <td style=\"width:13%;\">\n",
      "        Nissan\n",
      "       </td>\n",
      "       <td style=\"width:17%;\">\n",
      "        Tsuru (Mexico)\n",
      "       </td>\n",
      "       <td style=\"width:21%;\">\n",
      "        L4 97 1.6L (1597cc); Engine Desg. GA16DE; Manual Trans.\n",
      "       </td>\n",
      "       <td style=\"width:17%;\">\n",
      "       </td>\n",
      "       <td style=\"width:27%;\">\n",
      "       </td>\n",
      "      </tr>\n",
      "      <tr class=\"detail-app-row\">\n",
      "       <td style=\"width:5%;\">\n",
      "        2004\n",
      "       </td>\n",
      "       <td style=\"width:13%;\">\n",
      "        Nissan\n",
      "       </td>\n",
      "       <td style=\"width:17%;\">\n",
      "        Tsuru (Mexico)\n",
      "       </td>\n",
      "       <td style=\"width:21%;\">\n",
      "        L4 97 1.6L (1597cc); Engine Desg. GA16DE; Manual Trans.\n",
      "       </td>\n",
      "       <td style=\"width:17%;\">\n",
      "       </td>\n",
      "       <td style=\"width:27%;\">\n",
      "       </td>\n",
      "      </tr>\n",
      "      <tr class=\"detail-app-row\">\n",
      "       <td style=\"width:5%;\">\n",
      "        2003\n",
      "       </td>\n",
      "       <td style=\"width:13%;\">\n",
      "        Nissan\n",
      "       </td>\n",
      "       <td style=\"width:17%;\">\n",
      "        Tsuru (Mexico)\n",
      "       </td>\n",
      "       <td style=\"width:21%;\">\n",
      "        L4 97 1.6L (1597cc); Engine Desg. GA16DE; Manual Trans.\n",
      "       </td>\n",
      "       <td style=\"width:17%;\">\n",
      "       </td>\n",
      "       <td style=\"width:27%;\">\n",
      "       </td>\n",
      "      </tr>\n",
      "      <tr class=\"detail-app-row\">\n",
      "       <td style=\"width:5%;\">\n",
      "        2002\n",
      "       </td>\n",
      "       <td style=\"width:13%;\">\n",
      "        Nissan\n",
      "       </td>\n",
      "       <td style=\"width:17%;\">\n",
      "        Tsuru (Mexico)\n",
      "       </td>\n",
      "       <td style=\"width:21%;\">\n",
      "        L4 97 1.6L (1597cc); Engine Desg. GA16DE; Manual Trans.\n",
      "       </td>\n",
      "       <td style=\"width:17%;\">\n",
      "       </td>\n",
      "       <td style=\"width:27%;\">\n",
      "       </td>\n",
      "      </tr>\n",
      "      <tr class=\"detail-app-row\">\n",
      "       <td style=\"width:5%;\">\n",
      "        2001\n",
      "       </td>\n",
      "       <td style=\"width:13%;\">\n",
      "        Nissan\n",
      "       </td>\n",
      "       <td style=\"width:17%;\">\n",
      "        Tsuru (Mexico)\n",
      "       </td>\n",
      "       <td style=\"width:21%;\">\n",
      "        L4 97 1.6L (1597cc); Engine Desg. GA16DE; Manual Trans.\n",
      "       </td>\n",
      "       <td style=\"width:17%;\">\n",
      "       </td>\n",
      "       <td style=\"width:27%;\">\n",
      "       </td>\n",
      "      </tr>\n",
      "      <tr class=\"detail-app-row\">\n",
      "       <td style=\"width:5%;\">\n",
      "        2000\n",
      "       </td>\n",
      "       <td style=\"width:13%;\">\n",
      "        Nissan\n",
      "       </td>\n",
      "       <td style=\"width:17%;\">\n",
      "        Sentra\n",
      "       </td>\n",
      "       <td style=\"width:21%;\">\n",
      "        L4 97 1.6L (1597cc); Mexico Region; Manual Trans.\n",
      "       </td>\n",
      "       <td style=\"width:17%;\">\n",
      "       </td>\n",
      "       <td style=\"width:27%;\">\n",
      "        w/Air Conditioning\n",
      "       </td>\n",
      "      </tr>\n",
      "      <tr class=\"detail-app-row\">\n",
      "       <td style=\"width:5%;\">\n",
      "        2000\n",
      "       </td>\n",
      "       <td style=\"width:13%;\">\n",
      "        Nissan\n",
      "       </td>\n",
      "       <td style=\"width:17%;\">\n",
      "        Tsuru (Mexico)\n",
      "       </td>\n",
      "       <td style=\"width:21%;\">\n",
      "        L4 97 1.6L (1597cc); Engine Desg. GA16DE; Manual Trans.\n",
      "       </td>\n",
      "       <td style=\"width:17%;\">\n",
      "       </td>\n",
      "       <td style=\"width:27%;\">\n",
      "       </td>\n",
      "      </tr>\n",
      "      <tr class=\"detail-app-row\">\n",
      "       <td style=\"width:5%;\">\n",
      "        1999\n",
      "       </td>\n",
      "       <td style=\"width:13%;\">\n",
      "        Nissan\n",
      "       </td>\n",
      "       <td style=\"width:17%;\">\n",
      "        Sentra\n",
      "       </td>\n",
      "       <td style=\"width:21%;\">\n",
      "        L4 97 1.6L (1597cc); Mexico Region; Manual Trans.\n",
      "       </td>\n",
      "       <td style=\"width:17%;\">\n",
      "       </td>\n",
      "       <td style=\"width:27%;\">\n",
      "        w/Air Conditioning\n",
      "       </td>\n",
      "      </tr>\n",
      "      <tr class=\"detail-app-row\">\n",
      "       <td style=\"width:5%;\">\n",
      "        1999\n",
      "       </td>\n",
      "       <td style=\"width:13%;\">\n",
      "        Nissan\n",
      "       </td>\n",
      "       <td style=\"width:17%;\">\n",
      "        Tsuru (Mexico)\n",
      "       </td>\n",
      "       <td style=\"width:21%;\">\n",
      "        L4 97 1.6L (1597cc); Engine Desg. GA16DE; Manual Trans.\n",
      "       </td>\n",
      "       <td style=\"width:17%;\">\n",
      "       </td>\n",
      "       <td style=\"width:27%;\">\n",
      "       </td>\n",
      "      </tr>\n",
      "      <tr class=\"detail-app-row\">\n",
      "       <td style=\"width:5%;\">\n",
      "        1998\n",
      "       </td>\n",
      "       <td style=\"width:13%;\">\n",
      "        Nissan\n",
      "       </td>\n",
      "       <td style=\"width:17%;\">\n",
      "        Sentra\n",
      "       </td>\n",
      "       <td style=\"width:21%;\">\n",
      "        L4 97 1.6L (1597cc); Mexico Region; Manual Trans.\n",
      "       </td>\n",
      "       <td style=\"width:17%;\">\n",
      "       </td>\n",
      "       <td style=\"width:27%;\">\n",
      "        w/Air Conditioning\n",
      "       </td>\n",
      "      </tr>\n",
      "      <tr class=\"detail-app-row\">\n",
      "       <td style=\"width:5%;\">\n",
      "        1998\n",
      "       </td>\n",
      "       <td style=\"width:13%;\">\n",
      "        Nissan\n",
      "       </td>\n",
      "       <td style=\"width:17%;\">\n",
      "        Tsuru (Mexico)\n",
      "       </td>\n",
      "       <td style=\"width:21%;\">\n",
      "        L4 97 1.6L (1597cc); Engine Desg. GA16DE; Manual Trans.\n",
      "       </td>\n",
      "       <td style=\"width:17%;\">\n",
      "       </td>\n",
      "       <td style=\"width:27%;\">\n",
      "       </td>\n",
      "      </tr>\n",
      "      <tr class=\"detail-app-row\">\n",
      "       <td style=\"width:5%;\">\n",
      "        1997\n",
      "       </td>\n",
      "       <td style=\"width:13%;\">\n",
      "        Nissan\n",
      "       </td>\n",
      "       <td style=\"width:17%;\">\n",
      "        Sentra\n",
      "       </td>\n",
      "       <td style=\"width:21%;\">\n",
      "        L4 97 1.6L (1597cc); Mexico Region; Manual Trans.\n",
      "       </td>\n",
      "       <td style=\"width:17%;\">\n",
      "       </td>\n",
      "       <td style=\"width:27%;\">\n",
      "       </td>\n",
      "      </tr>\n",
      "      <tr class=\"detail-app-row\">\n",
      "       <td style=\"width:5%;\">\n",
      "        1997\n",
      "       </td>\n",
      "       <td style=\"width:13%;\">\n",
      "        Nissan\n",
      "       </td>\n",
      "       <td style=\"width:17%;\">\n",
      "        Tsuru (Mexico)\n",
      "       </td>\n",
      "       <td style=\"width:21%;\">\n",
      "        L4 97 1.6L (1597cc); Engine Desg. E16E; Automatic Trans.\n",
      "       </td>\n",
      "       <td style=\"width:17%;\">\n",
      "       </td>\n",
      "       <td style=\"width:27%;\">\n",
      "       </td>\n",
      "      </tr>\n",
      "      <tr class=\"detail-app-row\">\n",
      "       <td style=\"width:5%;\">\n",
      "        1997\n",
      "       </td>\n",
      "       <td style=\"width:13%;\">\n",
      "        Nissan\n",
      "       </td>\n",
      "       <td style=\"width:17%;\">\n",
      "        Tsuru (Mexico)\n",
      "       </td>\n",
      "       <td style=\"width:21%;\">\n",
      "        L4 97 1.6L (1597cc); Engine Desg. E16S; Automatic Trans.\n",
      "       </td>\n",
      "       <td style=\"width:17%;\">\n",
      "       </td>\n",
      "       <td style=\"width:27%;\">\n",
      "       </td>\n",
      "      </tr>\n",
      "      <tr class=\"detail-app-row\">\n",
      "       <td style=\"width:5%;\">\n",
      "        1997\n",
      "       </td>\n",
      "       <td style=\"width:13%;\">\n",
      "        Nissan\n",
      "       </td>\n",
      "       <td style=\"width:17%;\">\n",
      "        Tsuru (Mexico)\n",
      "       </td>\n",
      "       <td style=\"width:21%;\">\n",
      "        L4 97 1.6L (1597cc); Engine Desg. GA16DE\n",
      "       </td>\n",
      "       <td style=\"width:17%;\">\n",
      "       </td>\n",
      "       <td style=\"width:27%;\">\n",
      "       </td>\n",
      "      </tr>\n",
      "      <tr class=\"detail-app-row\">\n",
      "       <td style=\"width:5%;\">\n",
      "        1997\n",
      "       </td>\n",
      "       <td style=\"width:13%;\">\n",
      "        Nissan\n",
      "       </td>\n",
      "       <td style=\"width:17%;\">\n",
      "        Tsuru (Mexico)\n",
      "       </td>\n",
      "       <td style=\"width:21%;\">\n",
      "        L4 97 1.6L (1597cc); Engine Desg. GA16DNE\n",
      "       </td>\n",
      "       <td style=\"width:17%;\">\n",
      "       </td>\n",
      "       <td style=\"width:27%;\">\n",
      "       </td>\n",
      "      </tr>\n",
      "      <tr class=\"detail-app-row\">\n",
      "       <td style=\"width:5%;\">\n",
      "        1996\n",
      "       </td>\n",
      "       <td style=\"width:13%;\">\n",
      "        Nissan\n",
      "       </td>\n",
      "       <td style=\"width:17%;\">\n",
      "        Sentra\n",
      "       </td>\n",
      "       <td style=\"width:21%;\">\n",
      "        L4 97 1.6L (1597cc); Mexico Region; Manual Trans.\n",
      "       </td>\n",
      "       <td style=\"width:17%;\">\n",
      "       </td>\n",
      "       <td style=\"width:27%;\">\n",
      "       </td>\n",
      "      </tr>\n",
      "      <tr class=\"detail-app-row\">\n",
      "       <td style=\"width:5%;\">\n",
      "        1996\n",
      "       </td>\n",
      "       <td style=\"width:13%;\">\n",
      "        Nissan\n",
      "       </td>\n",
      "       <td style=\"width:17%;\">\n",
      "        Tsuru (Mexico)\n",
      "       </td>\n",
      "       <td style=\"width:21%;\">\n",
      "        L4 97 1.6L (1597cc); Engine Desg. GA16DNE\n",
      "       </td>\n",
      "       <td style=\"width:17%;\">\n",
      "       </td>\n",
      "       <td style=\"width:27%;\">\n",
      "       </td>\n",
      "      </tr>\n",
      "     </tbody>\n",
      "    </table>\n",
      "   </div>\n",
      "   <div class=\"detail-app-pager\">\n",
      "   </div>\n",
      "   <div class=\"detail-app-bottomspacing\">\n",
      "    <br/>\n",
      "   </div>\n",
      "   <div id=\"iframe_bottom\">\n",
      "   </div>\n",
      "   <script src=\"/scripts/jquery.min.js?d=20190905\" type=\"text/javascript\">\n",
      "   </script>\n",
      "   <script src=\"/scripts/jquery.floatThead.min.js?d=20190905\" type=\"text/javascript\">\n",
      "   </script>\n",
      "   <script type=\"text/javascript\">\n",
      "    $('#gvDetailApps').floatThead({\n",
      "                position: 'fixed'\n",
      "            });\n",
      "   </script>\n",
      "  </form>\n",
      " </body>\n",
      "</html>\n",
      "\n"
     ]
    }
   ],
   "source": [
    "soup = BeautifulSoup(response.text, 'html5lib')\n",
    "\n",
    "with open('./4.compatibility.html', 'w', encoding='utf-8') as file:\n",
    "    file.write(str(soup))\n",
    "\n",
    "print(soup.prettify())"
   ]
  },
  {
   "cell_type": "code",
   "execution_count": 6,
   "id": "f4503248-397c-4381-89a9-cf06ac381a2d",
   "metadata": {},
   "outputs": [],
   "source": [
    "from parsel import Selector"
   ]
  },
  {
   "cell_type": "code",
   "execution_count": 7,
   "id": "ac696630-6717-4ece-a8a1-2b05464398b6",
   "metadata": {},
   "outputs": [
    {
     "data": {
      "text/plain": [
       "<Selector query=None data='<html><head><title>\\n\\tDetailed Applica...'>"
      ]
     },
     "execution_count": 7,
     "metadata": {},
     "output_type": "execute_result"
    }
   ],
   "source": [
    "selector = Selector(text=str(soup))\n",
    "\n",
    "selector"
   ]
  },
  {
   "cell_type": "code",
   "execution_count": 8,
   "id": "a23e11f4-332e-4e3a-b7ef-e3b10e887e6a",
   "metadata": {},
   "outputs": [
    {
     "data": {
      "text/plain": [
       "[<Selector query='//div[@class=\"detail-app-pager\"]' data='<div class=\"detail-app-pager\">\\n      ...'>]"
      ]
     },
     "execution_count": 8,
     "metadata": {},
     "output_type": "execute_result"
    }
   ],
   "source": [
    "list_pager = selector.xpath('//div[@class=\"detail-app-pager\"]')\n",
    "\n",
    "list_pager"
   ]
  },
  {
   "cell_type": "code",
   "execution_count": 9,
   "id": "c37bdc32-a8fe-44c5-8d88-7016016d3c06",
   "metadata": {},
   "outputs": [
    {
     "data": {
      "text/plain": [
       "False"
      ]
     },
     "execution_count": 9,
     "metadata": {},
     "output_type": "execute_result"
    }
   ],
   "source": [
    "not list_pager"
   ]
  },
  {
   "cell_type": "code",
   "execution_count": 10,
   "id": "3a70a67c-faa4-43b6-961f-ad61513de79a",
   "metadata": {},
   "outputs": [
    {
     "data": {
      "text/plain": [
       "[]"
      ]
     },
     "execution_count": 10,
     "metadata": {},
     "output_type": "execute_result"
    }
   ],
   "source": [
    "next_ = selector.xpath('//a[@id=\"pagingBottom_nextButton\"]')\n",
    "\n",
    "next_"
   ]
  },
  {
   "cell_type": "code",
   "execution_count": 11,
   "id": "54853111-1958-409a-ab03-0f777ebe4c95",
   "metadata": {},
   "outputs": [
    {
     "data": {
      "text/plain": [
       "[]"
      ]
     },
     "execution_count": 11,
     "metadata": {},
     "output_type": "execute_result"
    }
   ],
   "source": [
    "dict_['compatibility_page'] == 1 and next_ and next_[0].xpath('./@href').get().strip() == 'Search/#'"
   ]
  },
  {
   "cell_type": "code",
   "execution_count": 12,
   "id": "c7da9a24-efb7-43ca-ac1e-04263222c863",
   "metadata": {
    "scrolled": true
   },
   "outputs": [
    {
     "data": {
      "text/plain": [
       "(['Year', 'Make', 'Model', 'Configuration', 'Positions', 'Application Notes'],\n",
       " [<Selector query='//tr[@class=\"detail-app-row\"]' data='<tr class=\"detail-app-row\">\\n\\t\\t\\t\\t<td s...'>,\n",
       "  <Selector query='//tr[@class=\"detail-app-row\"]' data='<tr class=\"detail-app-row\">\\n\\t\\t\\t\\t<td s...'>,\n",
       "  <Selector query='//tr[@class=\"detail-app-row\"]' data='<tr class=\"detail-app-row\">\\n\\t\\t\\t\\t<td s...'>,\n",
       "  <Selector query='//tr[@class=\"detail-app-row\"]' data='<tr class=\"detail-app-row\">\\n\\t\\t\\t\\t<td s...'>,\n",
       "  <Selector query='//tr[@class=\"detail-app-row\"]' data='<tr class=\"detail-app-row\">\\n\\t\\t\\t\\t<td s...'>,\n",
       "  <Selector query='//tr[@class=\"detail-app-row\"]' data='<tr class=\"detail-app-row\">\\n\\t\\t\\t\\t<td s...'>,\n",
       "  <Selector query='//tr[@class=\"detail-app-row\"]' data='<tr class=\"detail-app-row\">\\n\\t\\t\\t\\t<td s...'>,\n",
       "  <Selector query='//tr[@class=\"detail-app-row\"]' data='<tr class=\"detail-app-row\">\\n\\t\\t\\t\\t<td s...'>,\n",
       "  <Selector query='//tr[@class=\"detail-app-row\"]' data='<tr class=\"detail-app-row\">\\n\\t\\t\\t\\t<td s...'>,\n",
       "  <Selector query='//tr[@class=\"detail-app-row\"]' data='<tr class=\"detail-app-row\">\\n\\t\\t\\t\\t<td s...'>,\n",
       "  <Selector query='//tr[@class=\"detail-app-row\"]' data='<tr class=\"detail-app-row\">\\n\\t\\t\\t\\t<td s...'>,\n",
       "  <Selector query='//tr[@class=\"detail-app-row\"]' data='<tr class=\"detail-app-row\">\\n\\t\\t\\t\\t<td s...'>,\n",
       "  <Selector query='//tr[@class=\"detail-app-row\"]' data='<tr class=\"detail-app-row\">\\n\\t\\t\\t\\t<td s...'>,\n",
       "  <Selector query='//tr[@class=\"detail-app-row\"]' data='<tr class=\"detail-app-row\">\\n\\t\\t\\t\\t<td s...'>,\n",
       "  <Selector query='//tr[@class=\"detail-app-row\"]' data='<tr class=\"detail-app-row\">\\n\\t\\t\\t\\t<td s...'>,\n",
       "  <Selector query='//tr[@class=\"detail-app-row\"]' data='<tr class=\"detail-app-row\">\\n\\t\\t\\t\\t<td s...'>,\n",
       "  <Selector query='//tr[@class=\"detail-app-row\"]' data='<tr class=\"detail-app-row\">\\n\\t\\t\\t\\t<td s...'>,\n",
       "  <Selector query='//tr[@class=\"detail-app-row\"]' data='<tr class=\"detail-app-row\">\\n\\t\\t\\t\\t<td s...'>,\n",
       "  <Selector query='//tr[@class=\"detail-app-row\"]' data='<tr class=\"detail-app-row\">\\n\\t\\t\\t\\t<td s...'>,\n",
       "  <Selector query='//tr[@class=\"detail-app-row\"]' data='<tr class=\"detail-app-row\">\\n\\t\\t\\t\\t<td s...'>,\n",
       "  <Selector query='//tr[@class=\"detail-app-row\"]' data='<tr class=\"detail-app-row\">\\n\\t\\t\\t\\t<td s...'>,\n",
       "  <Selector query='//tr[@class=\"detail-app-row\"]' data='<tr class=\"detail-app-row\">\\n\\t\\t\\t\\t<td s...'>,\n",
       "  <Selector query='//tr[@class=\"detail-app-row\"]' data='<tr class=\"detail-app-row\">\\n\\t\\t\\t\\t<td s...'>,\n",
       "  <Selector query='//tr[@class=\"detail-app-row\"]' data='<tr class=\"detail-app-row\">\\n\\t\\t\\t\\t<td s...'>,\n",
       "  <Selector query='//tr[@class=\"detail-app-row\"]' data='<tr class=\"detail-app-row\">\\n\\t\\t\\t\\t<td s...'>,\n",
       "  <Selector query='//tr[@class=\"detail-app-row\"]' data='<tr class=\"detail-app-row\">\\n\\t\\t\\t\\t<td s...'>,\n",
       "  <Selector query='//tr[@class=\"detail-app-row\"]' data='<tr class=\"detail-app-row\">\\n\\t\\t\\t\\t<td s...'>])"
      ]
     },
     "execution_count": 12,
     "metadata": {},
     "output_type": "execute_result"
    }
   ],
   "source": [
    "list_head, list_row = [text.strip() for text in selector.xpath('//th[@scope=\"col\"]/text()').getall()], selector.xpath('//tr[@class=\"detail-app-row\"]')\n",
    "\n",
    "list_head, list_row"
   ]
  },
  {
   "cell_type": "code",
   "execution_count": 13,
   "id": "dc6b9491-7691-4d39-b67f-7de4d08c10b0",
   "metadata": {},
   "outputs": [
    {
     "data": {
      "text/plain": [
       "{'compatibility_no': 1,\n",
       " 'Year': '2017',\n",
       " 'Make': 'Nissan',\n",
       " 'Model': 'Tsuru (Mexico)',\n",
       " 'Configuration': 'L4 97 1.6L (1597cc); Mexico Region; Manual Trans.',\n",
       " 'Positions': '',\n",
       " 'Application Notes': ''}"
      ]
     },
     "execution_count": 13,
     "metadata": {},
     "output_type": "execute_result"
    }
   ],
   "source": [
    "dict_compatibility = {'compatibility_no': 1}\n",
    "for j, head in enumerate(list_head):\n",
    "    dict_compatibility[head] = list_row[0].xpath(f'./td[{j + 1}]/text()').get().strip()\n",
    "\n",
    "dict_compatibility"
   ]
  },
  {
   "cell_type": "code",
   "execution_count": 14,
   "id": "dbe43340-496b-4be2-b00e-62e5f7cb2c13",
   "metadata": {
    "scrolled": true
   },
   "outputs": [
    {
     "data": {
      "text/plain": [
       "{'sku_count': 750,\n",
       " 'page_count': 8,\n",
       " 'page': 1,\n",
       " 'page_url': 'https://www.dormanproducts.com/gsearch.aspx?type=keyword&origin=keyword&parttype=Radiator%2520Fan%2520Assembly&start=0&num=100',\n",
       " 'no': 1,\n",
       " 'url': 'https://www.dormanproducts.com/p-106000-621-965.aspx?parttype=Radiator%2520Fan%2520Assembly&origin=keyword',\n",
       " 'picture': '',\n",
       " 'type_': 'Radiator Fan Assembly',\n",
       " 'json_src': '{\"0\": \"https://static.dormanproducts.com/images/product/medium/621-965-007.JPG\", \"1\": \"https://static.dormanproducts.com/images/product/medium/621-965-009.JPG\", \"2\": \"https://static.dormanproducts.com/images/product/medium/621-965-003.JPG\", \"3\": \"https://static.dormanproducts.com/images/product/medium/621-965-002.JPG\"}',\n",
       " 'brand': 'Dorman - OE Solutions',\n",
       " 'part_number': '621-965',\n",
       " 'description': 'Radiator Fan Assembly Without Controller',\n",
       " 'application_summary': 'Nissan Sentra 2000-96, Nissan Tsuru 2017-10, 2006-96',\n",
       " 'warning': '',\n",
       " 'compatibility_home': 'https://www.dormanproducts.com/itemdetailapp.aspx?ProductID=106000&PartType=Radiator+Fan+Assembly&start=0&num=50',\n",
       " 'json_specification': '{\"Blade Material\": \"Plastic\", \"Blade Type\": \"Forward Align Fin\", \"Connector Gender\": \"Female\", \"Connector Quantity\": \"1\", \"Diameter\": \"300 mm\", \"Electrical Or Mechanical\": \"Electrical\", \"Fan 1 Blade Quantity\": \"1\", \"Fan 1 Diameter\": \"300 mm\", \"Fan 2 Blade Quantity\": \"0\", \"Fan Quantity\": \"1\", \"Fan Rotation\": \"Clockwise (Right)\", \"Flat Side On Shaft\": \"No\", \"Grade Type\": \"Regular\", \"Motor Type\": \"Brushed\", \"Package Contents\": \"1 Radiator Fan Assembly\", \"Package Quantity\": \"1\", \"Packaging Type\": \"Box\", \"Shaft Diameter\": \"5 mm\", \"Shroud Color\": \"Black\", \"Shroud Included\": \"Yes\", \"Shroud Material\": \"Plastic\", \"Terminal Gender\": \"Female\", \"Terminal Quantity\": \"2\", \"Voltage\": \"13.6 VDC\"}',\n",
       " 'oem': '21481F430A',\n",
       " 'compatibility_page': 1,\n",
       " 'compatibility_url': 'https://www.dormanproducts.com/itemdetailapp.aspx?ProductID=106000&PartType=Radiator+Fan+Assembly&start=0&num=50',\n",
       " 'compatibility_no': 1,\n",
       " 'Year': '2017',\n",
       " 'Make': 'Nissan',\n",
       " 'Model': 'Tsuru (Mexico)',\n",
       " 'Configuration': 'L4 97 1.6L (1597cc); Mexico Region; Manual Trans.',\n",
       " 'Positions': '',\n",
       " 'Application Notes': ''}"
      ]
     },
     "execution_count": 14,
     "metadata": {},
     "output_type": "execute_result"
    }
   ],
   "source": [
    "{**dict_, **dict_compatibility}"
   ]
  },
  {
   "cell_type": "code",
   "execution_count": 15,
   "id": "56dc1de1-3cdc-430d-b093-c951c7311820",
   "metadata": {},
   "outputs": [
    {
     "data": {
      "text/plain": [
       "[]"
      ]
     },
     "execution_count": 15,
     "metadata": {},
     "output_type": "execute_result"
    }
   ],
   "source": [
    "next_"
   ]
  },
  {
   "cell_type": "code",
   "execution_count": 16,
   "id": "c934c9ec-f28a-4dca-bf97-1e705927f2ca",
   "metadata": {},
   "outputs": [],
   "source": [
    "from urllib.parse import urlsplit"
   ]
  },
  {
   "cell_type": "code",
   "execution_count": 17,
   "id": "77c4e58c-b459-4b79-b764-3f67b4a5e069",
   "metadata": {},
   "outputs": [
    {
     "data": {
      "text/plain": [
       "SplitResult(scheme='https', netloc='www.dormanproducts.com', path='/itemdetailapp.aspx', query='ProductID=106000&PartType=Radiator+Fan+Assembly&start=0&num=50', fragment='')"
      ]
     },
     "execution_count": 17,
     "metadata": {},
     "output_type": "execute_result"
    }
   ],
   "source": [
    "tuple_ = urlsplit(dict_['compatibility_url'])\n",
    "\n",
    "tuple_"
   ]
  },
  {
   "cell_type": "code",
   "execution_count": 18,
   "id": "9351a940-c086-4cc9-8a30-fd44de63e6f5",
   "metadata": {},
   "outputs": [],
   "source": [
    "from urllib.parse import parse_qs"
   ]
  },
  {
   "cell_type": "code",
   "execution_count": 19,
   "id": "9686b6db-8292-4e8a-8081-999cb6a23d86",
   "metadata": {},
   "outputs": [
    {
     "data": {
      "text/plain": [
       "{'ProductID': '106000',\n",
       " 'PartType': 'Radiator Fan Assembly',\n",
       " 'start': '0',\n",
       " 'num': '50'}"
      ]
     },
     "execution_count": 19,
     "metadata": {},
     "output_type": "execute_result"
    }
   ],
   "source": [
    "dict_query = {key: value[0] for key, value in parse_qs(tuple_.query).items()}\n",
    "\n",
    "dict_query"
   ]
  },
  {
   "cell_type": "code",
   "execution_count": 20,
   "id": "e55ac91e-57e2-472f-a126-8fd3fe686610",
   "metadata": {},
   "outputs": [
    {
     "data": {
      "text/plain": [
       "{'ProductID': '106000',\n",
       " 'PartType': 'Radiator Fan Assembly',\n",
       " 'start': 50,\n",
       " 'num': '50'}"
      ]
     },
     "execution_count": 20,
     "metadata": {},
     "output_type": "execute_result"
    }
   ],
   "source": [
    "dict_query['start'] = dict_['compatibility_page'] * 50\n",
    "\n",
    "dict_query"
   ]
  },
  {
   "cell_type": "code",
   "execution_count": 21,
   "id": "a03e5dbe-aa4a-4a94-9673-0ee3709c4033",
   "metadata": {},
   "outputs": [],
   "source": [
    "from urllib.parse import urlunsplit\n",
    "from urllib.parse import urlencode"
   ]
  },
  {
   "cell_type": "code",
   "execution_count": 22,
   "id": "0b62a007-5455-40ca-abeb-92346c5c231e",
   "metadata": {},
   "outputs": [
    {
     "data": {
      "text/plain": [
       "'https://www.dormanproducts.com/itemdetailapp.aspx?ProductID=106000&PartType=Radiator+Fan+Assembly&start=50&num=50'"
      ]
     },
     "execution_count": 22,
     "metadata": {},
     "output_type": "execute_result"
    }
   ],
   "source": [
    "compatibility_url = urlunsplit((tuple_.scheme, tuple_.netloc, tuple_.path, urlencode(dict_query), tuple_.fragment))\n",
    "\n",
    "compatibility_url"
   ]
  },
  {
   "cell_type": "code",
   "execution_count": 23,
   "id": "929d080a-46e1-4651-827d-3589f89ee9b4",
   "metadata": {},
   "outputs": [
    {
     "data": {
      "text/plain": [
       "{'sku_count': 750,\n",
       " 'page_count': 8,\n",
       " 'page': 1,\n",
       " 'page_url': 'https://www.dormanproducts.com/gsearch.aspx?type=keyword&origin=keyword&parttype=Radiator%2520Fan%2520Assembly&start=0&num=100',\n",
       " 'no': 1,\n",
       " 'url': 'https://www.dormanproducts.com/p-106000-621-965.aspx?parttype=Radiator%2520Fan%2520Assembly&origin=keyword',\n",
       " 'picture': '',\n",
       " 'type_': 'Radiator Fan Assembly',\n",
       " 'json_src': '{\"0\": \"https://static.dormanproducts.com/images/product/medium/621-965-007.JPG\", \"1\": \"https://static.dormanproducts.com/images/product/medium/621-965-009.JPG\", \"2\": \"https://static.dormanproducts.com/images/product/medium/621-965-003.JPG\", \"3\": \"https://static.dormanproducts.com/images/product/medium/621-965-002.JPG\"}',\n",
       " 'brand': 'Dorman - OE Solutions',\n",
       " 'part_number': '621-965',\n",
       " 'description': 'Radiator Fan Assembly Without Controller',\n",
       " 'application_summary': 'Nissan Sentra 2000-96, Nissan Tsuru 2017-10, 2006-96',\n",
       " 'warning': '',\n",
       " 'compatibility_home': 'https://www.dormanproducts.com/itemdetailapp.aspx?ProductID=106000&PartType=Radiator+Fan+Assembly&start=0&num=50',\n",
       " 'json_specification': '{\"Blade Material\": \"Plastic\", \"Blade Type\": \"Forward Align Fin\", \"Connector Gender\": \"Female\", \"Connector Quantity\": \"1\", \"Diameter\": \"300 mm\", \"Electrical Or Mechanical\": \"Electrical\", \"Fan 1 Blade Quantity\": \"1\", \"Fan 1 Diameter\": \"300 mm\", \"Fan 2 Blade Quantity\": \"0\", \"Fan Quantity\": \"1\", \"Fan Rotation\": \"Clockwise (Right)\", \"Flat Side On Shaft\": \"No\", \"Grade Type\": \"Regular\", \"Motor Type\": \"Brushed\", \"Package Contents\": \"1 Radiator Fan Assembly\", \"Package Quantity\": \"1\", \"Packaging Type\": \"Box\", \"Shaft Diameter\": \"5 mm\", \"Shroud Color\": \"Black\", \"Shroud Included\": \"Yes\", \"Shroud Material\": \"Plastic\", \"Terminal Gender\": \"Female\", \"Terminal Quantity\": \"2\", \"Voltage\": \"13.6 VDC\"}',\n",
       " 'oem': '21481F430A',\n",
       " 'compatibility_page': 2,\n",
       " 'compatibility_url': 'https://www.dormanproducts.com/itemdetailapp.aspx?ProductID=106000&PartType=Radiator+Fan+Assembly&start=50&num=50'}"
      ]
     },
     "execution_count": 23,
     "metadata": {},
     "output_type": "execute_result"
    }
   ],
   "source": [
    "{**dict_, 'compatibility_page': dict_['compatibility_page'] + 1, 'compatibility_url': compatibility_url}"
   ]
  },
  {
   "cell_type": "code",
   "execution_count": null,
   "id": "4ba3bb62-d8fb-4a68-ae11-48567f4fe3e9",
   "metadata": {},
   "outputs": [],
   "source": []
  }
 ],
 "metadata": {
  "kernelspec": {
   "display_name": "Python 3 (ipykernel)",
   "language": "python",
   "name": "python3"
  },
  "language_info": {
   "codemirror_mode": {
    "name": "ipython",
    "version": 3
   },
   "file_extension": ".py",
   "mimetype": "text/x-python",
   "name": "python",
   "nbconvert_exporter": "python",
   "pygments_lexer": "ipython3",
   "version": "3.12.7"
  }
 },
 "nbformat": 4,
 "nbformat_minor": 5
}
