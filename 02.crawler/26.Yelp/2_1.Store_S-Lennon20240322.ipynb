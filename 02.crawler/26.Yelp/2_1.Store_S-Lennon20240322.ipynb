{
 "cells": [
  {
   "cell_type": "code",
   "execution_count": 1,
   "id": "9563ca27",
   "metadata": {},
   "outputs": [],
   "source": [
    "import os"
   ]
  },
  {
   "cell_type": "code",
   "execution_count": 2,
   "id": "05c8ef49",
   "metadata": {},
   "outputs": [
    {
     "data": {
      "text/plain": [
       "103"
      ]
     },
     "execution_count": 2,
     "metadata": {},
     "output_type": "execute_result"
    }
   ],
   "source": [
    "list_menu = list(os.walk('./menu'))[0][2]\n",
    "if '.DS_Store' in list_menu:\n",
    "    list_menu.remove('.DS_Store')\n",
    "if '0.null.txt' in list_menu:\n",
    "    list_menu.remove('0.null.txt')\n",
    "    \n",
    "list_menu.sort()\n",
    "    \n",
    "len(list_menu)"
   ]
  },
  {
   "cell_type": "code",
   "execution_count": 3,
   "id": "2b40811f",
   "metadata": {},
   "outputs": [
    {
     "data": {
      "text/plain": [
       "'menu_8.xlsx'"
      ]
     },
     "execution_count": 3,
     "metadata": {},
     "output_type": "execute_result"
    }
   ],
   "source": [
    "param_menu = 'menu_8.xlsx'\n",
    "\n",
    "param_menu"
   ]
  },
  {
   "cell_type": "code",
   "execution_count": 4,
   "id": "ee6ccb17",
   "metadata": {},
   "outputs": [],
   "source": [
    "import pandas as pd\n",
    "\n",
    "output_correct = pd.DataFrame()\n",
    "output_error = pd.DataFrame()"
   ]
  },
  {
   "cell_type": "code",
   "execution_count": 5,
   "id": "c261b4c1",
   "metadata": {},
   "outputs": [
    {
     "name": "stdout",
     "output_type": "stream",
     "text": [
      "总数量：2\n"
     ]
    },
    {
     "data": {
      "text/plain": [
       "['https://www.yelp.com/biz/mira-mesa-auto-techs-san-diego?osq=Auto+Services&override_cta=Get+pricing',\n",
       " 'https://www.yelp.com/biz/total-care-transmissions-and-classic-restoration-national-city?osq=Auto+Services&override_cta=Get+pricing']"
      ]
     },
     "execution_count": 5,
     "metadata": {},
     "output_type": "execute_result"
    }
   ],
   "source": [
    "input_ = pd.read_excel('./menu/' + param_menu,\n",
    "                       header=0,\n",
    "                       dtype=str).fillna('')\n",
    "\n",
    "print('总数量：' + str(len(input_)))\n",
    "input_['Url'].tolist()"
   ]
  },
  {
   "cell_type": "code",
   "execution_count": 6,
   "id": "6a51f614",
   "metadata": {},
   "outputs": [
    {
     "data": {
      "text/plain": [
       "'error'"
      ]
     },
     "execution_count": 6,
     "metadata": {},
     "output_type": "execute_result"
    }
   ],
   "source": [
    "crawler_status = 'error'\n",
    "\n",
    "crawler_status"
   ]
  },
  {
   "cell_type": "code",
   "execution_count": 7,
   "id": "46a917ed",
   "metadata": {},
   "outputs": [],
   "source": [
    "from selenium.webdriver import Chrome\n",
    "from selenium.webdriver.chrome.service import Service\n",
    "\n",
    "# = = = = = = = = = = = = = = =\n",
    "\n",
    "from selenium.webdriver import ChromeOptions\n",
    "\n",
    "option = ChromeOptions()\n",
    "\n",
    "# = = = = = = = = = = = = = = =\n",
    "\n",
    "import sys\n",
    "sys.path.append('../00.Tools')\n",
    "import UA\n",
    "import Proxy\n",
    "\n",
    "option.add_experimental_option('useAutomationExtension', False)\n",
    "option.add_experimental_option('excludeSwitches', ['enable-automation'])\n",
    "option.add_argument('--disable-blink-features=AutomationControlled')\n",
    "option.add_argument('--disable-dev-shm-usage')\n",
    "option.add_argument('--disable-gpu')\n",
    "option.add_argument('--no-sandbox')\n",
    "option.add_argument(UA.get_User_Agent_Selenium())\n",
    "# option.add_argument('blink-settings=imagesEnabled=false')\n",
    "# option.add_argument('--headless')\n",
    "# option.add_extension(Proxy.get_Proxy_Selenium(''))\n",
    "\n",
    "option.page_load_strategy = 'normal'\n",
    "\n",
    "# = = = = = = = = = = = = = = =\n",
    "\n",
    "import time"
   ]
  },
  {
   "cell_type": "code",
   "execution_count": 8,
   "id": "3f335ae2",
   "metadata": {},
   "outputs": [],
   "source": [
    "a = 1\n",
    "\n",
    "browser = Chrome(service=Service('../../../chromedriver'), options=option)\n",
    "browser.maximize_window()\n",
    "browser.get(input_.loc[a, 'Url'])\n",
    "\n",
    "time.sleep(1)\n",
    "browser.execute_script('window.scrollTo(0, document.body.scrollHeight);')\n",
    "time.sleep(1)\n",
    "browser.execute_script('window.scrollTo(0, -document.body.scrollHeight);')\n",
    "time.sleep(0.2)\n",
    "browser.execute_script('window.scrollTo(0, document.body.scrollHeight * 0.1);')\n",
    "time.sleep(0.2)\n",
    "browser.execute_script('window.scrollTo(0, document.body.scrollHeight * 0.2);')\n",
    "time.sleep(0.2)\n",
    "browser.execute_script('window.scrollTo(0, document.body.scrollHeight * 0.3);')\n",
    "time.sleep(0.2)\n",
    "browser.execute_script('window.scrollTo(0, document.body.scrollHeight * 0.4);')\n",
    "time.sleep(0.2)\n",
    "browser.execute_script('window.scrollTo(0, document.body.scrollHeight * 0.5);')\n",
    "time.sleep(0.2)\n",
    "browser.execute_script('window.scrollTo(0, document.body.scrollHeight * 0.6);')\n",
    "time.sleep(0.2)\n",
    "browser.execute_script('window.scrollTo(0, document.body.scrollHeight * 0.7);')\n",
    "time.sleep(0.2)\n",
    "browser.execute_script('window.scrollTo(0, document.body.scrollHeight * 0.8);')\n",
    "time.sleep(0.2)\n",
    "browser.execute_script('window.scrollTo(0, document.body.scrollHeight * 0.9);')\n",
    "time.sleep(0.2)\n",
    "browser.execute_script('window.scrollTo(0, document.body.scrollHeight);')\n",
    "time.sleep(1)"
   ]
  },
  {
   "cell_type": "code",
   "execution_count": 9,
   "id": "be22be8a",
   "metadata": {},
   "outputs": [],
   "source": [
    "from selenium.webdriver.support.wait import WebDriverWait\n",
    "from selenium.webdriver.support import expected_conditions as EC\n",
    "from selenium.webdriver.common.by import By"
   ]
  },
  {
   "cell_type": "code",
   "execution_count": 10,
   "id": "55445193",
   "metadata": {
    "scrolled": true
   },
   "outputs": [
    {
     "data": {
      "text/plain": [
       "'Total Care Transmissions & Classic Restoration'"
      ]
     },
     "execution_count": 10,
     "metadata": {},
     "output_type": "execute_result"
    }
   ],
   "source": [
    "wait = WebDriverWait(browser, 60)\n",
    "wait.until(EC.presence_of_element_located((By.XPATH, '//h1[@class=\"css-hnttcw\"]')))\n",
    "name = browser.find_element(by=By.XPATH, value='//h1[@class=\"css-hnttcw\"]').text.strip()\n",
    "\n",
    "name"
   ]
  },
  {
   "cell_type": "code",
   "execution_count": 11,
   "id": "a9ff4823",
   "metadata": {},
   "outputs": [
    {
     "data": {
      "text/plain": [
       "('totalcaretransmissions.com',\n",
       " '(619) 944-1112',\n",
       " '1112 Coolidge Ave National City, CA 91950')"
      ]
     },
     "execution_count": 11,
     "metadata": {},
     "output_type": "execute_result"
    }
   ],
   "source": [
    "website = ''\n",
    "phone = ''\n",
    "location = ''\n",
    "wait.until(EC.presence_of_element_located((By.XPATH, '//section[@class=\"css-2entjo\"]/div[@class=\"css-s81j3n\"]/div[@class=\"css-djo2w\"]')))\n",
    "list_info = [div.get_attribute('textContent').strip() for div in browser.find_elements(by=By.XPATH, value='//section[@class=\"css-2entjo\"]/div[@class=\"css-s81j3n\"]/div[@class=\"css-djo2w\"]')]\n",
    "for info in list_info:\n",
    "    if info.startswith('Business website'):\n",
    "        website = info.replace('Business website', '')\n",
    "    elif info.startswith('Phone number'):\n",
    "        phone = info.replace('Phone number', '')\n",
    "    elif info.startswith('Get Directions'):\n",
    "        location = info.replace('Get Directions', '')\n",
    "\n",
    "website, phone, location"
   ]
  },
  {
   "cell_type": "code",
   "execution_count": 12,
   "id": "6e082ffd",
   "metadata": {},
   "outputs": [
    {
     "data": {
      "text/plain": [
       "('4.9', '(44 reviews)')"
      ]
     },
     "execution_count": 12,
     "metadata": {},
     "output_type": "execute_result"
    }
   ],
   "source": [
    "score = ''\n",
    "review = ''\n",
    "list_evaluation = browser.find_elements(by=By.XPATH, value='//div[@class=\"arrange__09f24__LDfbs gutter-1-5__09f24__vMtpw vertical-align-middle__09f24__zU9sE css-9ul5p9\"]/div[@class=\"arrange-unit__09f24__rqHTg arrange-unit-fill__09f24__CUubG css-v3nuob\"]')\n",
    "if len(list_evaluation) != 0:\n",
    "    if len(list_evaluation[0].find_elements(by=By.XPATH, value='./span[@class=\" css-1p9ibgf\"]')) != 0 and len(list_evaluation[0].find_elements(by=By.XPATH, value='./span[@class=\" css-1evauet\"]')) != 0:\n",
    "        score = list_evaluation[0].find_element(by=By.XPATH, value='./span[@class=\" css-1p9ibgf\"]').text.strip()\n",
    "        review = list_evaluation[0].find_element(by=By.XPATH, value='./span[@class=\" css-1evauet\"]').text.strip()\n",
    "    elif len(list_evaluation[0].find_elements(by=By.XPATH, value='./span[@class=\" css-1fdy0l5\"]')) != 0 and len(list_evaluation[0].find_elements(by=By.XPATH, value='./span[@class=\" css-1x9ee72\"]')) != 0:\n",
    "        score = list_evaluation[0].find_element(by=By.XPATH, value='./span[@class=\" css-1fdy0l5\"]').text.strip()\n",
    "        review = list_evaluation[0].find_element(by=By.XPATH, value='./span[@class=\" css-1x9ee72\"]').text.strip()\n",
    "    \n",
    "score, review"
   ]
  },
  {
   "cell_type": "code",
   "execution_count": 13,
   "id": "2e73147b",
   "metadata": {},
   "outputs": [
    {
     "name": "stdout",
     "output_type": "stream",
     "text": [
      "1. Auto Repair\n",
      "2. Transmission Repair\n"
     ]
    }
   ],
   "source": [
    "claimed = ''\n",
    "list_claimed = browser.find_elements(by=By.XPATH, value='//span[@class=\" css-1xfc281\"]/span[@data-font-weight=\"semibold\"]/a')\n",
    "claimed = '\\n'.join([str(i+1) + '. ' + claimed.text.strip() for i, claimed in zip(range(len(list_claimed)), list_claimed)])\n",
    "\n",
    "print(claimed)"
   ]
  },
  {
   "cell_type": "code",
   "execution_count": 14,
   "id": "764f6ec4",
   "metadata": {},
   "outputs": [
    {
     "name": "stdout",
     "output_type": "stream",
     "text": [
      "\n",
      "\n",
      "\n"
     ]
    }
   ],
   "source": [
    "verified = ''\n",
    "highlight = ''\n",
    "list_h4 = browser.find_elements(by=By.XPATH, value='//h4[@class=\"css-1p1tqzd\"]')\n",
    "for h4 in list_h4:\n",
    "    if h4.text.strip() == 'Verified License':\n",
    "        wait.until(EC.presence_of_element_located((By.XPATH, '//h4[@class=\"css-1p1tqzd\"]/ancestor::section[@class=\" css-ufd2i\"]/descendant::button[@class=\" css-1lxsk7j\"]')))\n",
    "        h4.find_element(by=By.XPATH, value='./ancestor::section[@class=\" css-ufd2i\"]/descendant::button[@class=\" css-1lxsk7j\"]').click()\n",
    "        wait.until(EC.presence_of_element_located((By.XPATH, '//table[@class=\"verified-license-table__09f24__zdm7b css-d4ecqf\"]/tbody/tr')))\n",
    "        list_tr = browser.find_elements(by=By.XPATH, value='//table[@class=\"verified-license-table__09f24__zdm7b css-d4ecqf\"]/tbody/tr')\n",
    "        for tr in list_tr:\n",
    "            wait.until(EC.presence_of_element_located((By.XPATH, '//table[@class=\"verified-license-table__09f24__zdm7b css-d4ecqf\"]/tbody/tr/td')))\n",
    "            verified += tr.find_element(by=By.XPATH, value='./td[1]').text.strip() + ': ' + tr.find_element(by=By.XPATH, value='./td[2]').text.strip() + '\\n'\n",
    "        wait.until(EC.presence_of_element_located((By.XPATH, '//button[@aria-label=\"Close\"]')))\n",
    "        browser.find_elements(by=By.XPATH, value='//button[@aria-label=\"Close\"]')[-1].click()\n",
    "    \n",
    "    elif h4.text.strip() == 'Highlights from the Business':\n",
    "        wait.until(EC.presence_of_element_located((By.XPATH, '//h4[@class=\"css-1p1tqzd\"]/ancestor::section[@class=\" css-ufd2i\"]/div[2]/div')))\n",
    "        list_div = h4.find_elements(by=By.XPATH, value='./ancestor::section[@class=\" css-ufd2i\"]/div[2]/div')\n",
    "        highlight = '\\n'.join([str(i+1) + '. ' + div.text.strip() for i, div in zip(range(len(list_div)), list_div)])\n",
    "        \n",
    "        \n",
    "print(verified.strip())\n",
    "print()\n",
    "print(highlight)"
   ]
  },
  {
   "cell_type": "code",
   "execution_count": 15,
   "id": "3292763d",
   "metadata": {
    "scrolled": true
   },
   "outputs": [
    {
     "name": "stdout",
     "output_type": "stream",
     "text": [
      "1. Transmission Repair\n",
      "2. Oil Change\n",
      "3. Brake Services\n",
      "4. Engine Repair\n",
      "5. Classic Cars\n"
     ]
    }
   ],
   "source": [
    "service = ''\n",
    "list_button = browser.find_elements(by=By.XPATH, value='//section[@aria-label=\"Services Offered\"]/button[@class=\" css-r3lhny\"]')\n",
    "while len(list_button) != 0:\n",
    "    list_button[0].click()\n",
    "    time.sleep(3)\n",
    "    list_button = browser.find_elements(by=By.XPATH, value='//section[@aria-label=\"Services Offered\"]/button[@class=\" css-r3lhny\"]')\n",
    "\n",
    "list_div = browser.find_elements(by=By.XPATH, value='//section[@aria-label=\"Services Offered\"]/div[2]/div/div')\n",
    "\n",
    "service = '\\n'.join([str(i+1) + '. ' + div.text.strip() for i, div in zip(range(len(list_div)), list_div)])\n",
    "    \n",
    "print(service)"
   ]
  },
  {
   "cell_type": "code",
   "execution_count": 16,
   "id": "cdb19b8a",
   "metadata": {},
   "outputs": [
    {
     "name": "stdout",
     "output_type": "stream",
     "text": [
      "Mon 6:00 AM - 3:00 PM\n",
      "Tue 6:00 AM - 3:00 PM\n",
      "Wed 6:00 AM - 3:00 PM\n",
      "Thu 6:00 AM - 3:00 PM\n",
      "Fri Closed\n",
      "Sat Closed\n",
      "Sun Closed\n"
     ]
    }
   ],
   "source": [
    "hour = ''\n",
    "list_tr = browser.find_elements(by=By.XPATH, value='//div[@id=\"location-and-hours\"]/section/div[2]/div[2]/descendant::tr[@class=\" css-29kerx\"]')\n",
    "for tr in list_tr:\n",
    "    if tr.text.startswith('Mon\\n') or tr.text.startswith('Tue\\n') or tr.text.startswith('Wed\\n') or tr.text.startswith('Thu\\n') or tr.text.startswith('Fri\\n') or tr.text.startswith('Sat\\n') or tr.text.startswith('Sun\\n'):\n",
    "        hour += tr.find_element(by=By.XPATH, value='./th').text.strip() + ' ' + tr.find_element(by=By.XPATH, value='./td[1]').text.strip() + '\\n'\n",
    "\n",
    "print(hour.strip())"
   ]
  },
  {
   "cell_type": "code",
   "execution_count": 17,
   "id": "c739e7db",
   "metadata": {},
   "outputs": [
    {
     "name": "stdout",
     "output_type": "stream",
     "text": [
      "1. Accepts Credit Cards\n",
      "2. Free Wi-Fi\n"
     ]
    }
   ],
   "source": [
    "amenities= ''\n",
    "list_button = browser.find_elements(by=By.XPATH, value='//section[@aria-label=\"Amenities and More\"]/div[2]/button')\n",
    "if len(list_button) != 0 and list_button[0].get_attribute('data-button') != None and list_button[0].get_attribute('data-button').strip() == 'true':\n",
    "    list_button[0].click()\n",
    "    time.sleep(3)\n",
    "    \n",
    "list_div = browser.find_elements(by=By.XPATH, value='//section[@aria-label=\"Amenities and More\"]/div[2]/div[1]/div/div/div/div')\n",
    "\n",
    "amenities = '\\n'.join([str(i+1) + '. ' + div.text.strip() for i, div in zip(range(len(list_div)), list_div)])\n",
    "\n",
    "print(amenities)"
   ]
  },
  {
   "cell_type": "code",
   "execution_count": 18,
   "id": "3d78cc95",
   "metadata": {},
   "outputs": [
    {
     "data": {
      "text/plain": [
       "'https://www.yelp.com/biz/total-care-transmissions-and-classic-restoration-national-city?osq=Auto+Services&override_cta=Get+pricing'"
      ]
     },
     "execution_count": 18,
     "metadata": {},
     "output_type": "execute_result"
    }
   ],
   "source": [
    "wait.until(EC.presence_of_element_located((By.XPATH, '//meta[@property=\"og:url\"]')))\n",
    "url = browser.find_element(by=By.XPATH, value='//meta[@property=\"og:url\"]').get_attribute('content').strip()\n",
    "\n",
    "url"
   ]
  },
  {
   "cell_type": "code",
   "execution_count": 19,
   "id": "7b5e7631",
   "metadata": {},
   "outputs": [
    {
     "data": {
      "text/plain": [
       "1"
      ]
     },
     "execution_count": 19,
     "metadata": {},
     "output_type": "execute_result"
    }
   ],
   "source": [
    "df_temp = pd.DataFrame([{'序号': int(input_.loc[a, '序号']),\n",
    "                         'City_No.': int(input_.loc[a, 'City_No.']),\n",
    "                         'City': input_.loc[a, 'City'],\n",
    "                         'Page': int(input_.loc[a, 'Page']),\n",
    "                         'No.': int(input_.loc[a, 'No.']),\n",
    "                         'Tab': input_.loc[a, 'Tab'],\n",
    "                         'Name': name,\n",
    "                         'Website': website,\n",
    "                         'Phone': phone,\n",
    "                         'Location': location,\n",
    "                         'Score': score,\n",
    "                         'Review': review,\n",
    "                         'Claimed': claimed,\n",
    "                         'Verified': verified.strip(),\n",
    "                         'Highlight': highlight,\n",
    "                         'Service': service,\n",
    "                         'Hour': hour.strip(),\n",
    "                         'Amenities': amenities,\n",
    "                         'Url': url}])\n",
    "\n",
    "browser.quit()\n",
    "\n",
    "output_correct = pd.concat([output_correct, df_temp], ignore_index=True).fillna('')\n",
    "\n",
    "len(output_correct)"
   ]
  },
  {
   "cell_type": "code",
   "execution_count": 20,
   "id": "ac1ec314",
   "metadata": {},
   "outputs": [
    {
     "data": {
      "text/plain": [
       "'ok'"
      ]
     },
     "execution_count": 20,
     "metadata": {},
     "output_type": "execute_result"
    }
   ],
   "source": [
    "crawler_status = 'ok'\n",
    "\n",
    "crawler_status"
   ]
  },
  {
   "cell_type": "code",
   "execution_count": 21,
   "id": "812ecd9c",
   "metadata": {},
   "outputs": [
    {
     "data": {
      "text/plain": [
       "0"
      ]
     },
     "execution_count": 21,
     "metadata": {},
     "output_type": "execute_result"
    }
   ],
   "source": [
    "if crawler_status == 'error':\n",
    "    df_temp = pd.DataFrame([{'序号': int(input_.loc[a, '序号']),\n",
    "                             'City_No.': int(input_.loc[a, 'City_No.']),\n",
    "                             'City': input_.loc[a, 'City'],\n",
    "                             'Page': int(input_.loc[a, 'Page']),\n",
    "                             'No.': int(input_.loc[a, 'No.']),\n",
    "                             'Tab': input_.loc[a, 'Tab'],\n",
    "                             'Url': input_.loc[a, 'Url']}])\n",
    "    \n",
    "    output_error = pd.concat([output_error, df_temp], ignore_index=True).fillna('')\n",
    "\n",
    "len(output_error)"
   ]
  },
  {
   "cell_type": "code",
   "execution_count": 22,
   "id": "85d5df5a",
   "metadata": {},
   "outputs": [
    {
     "data": {
      "text/html": [
       "<div>\n",
       "<style scoped>\n",
       "    .dataframe tbody tr th:only-of-type {\n",
       "        vertical-align: middle;\n",
       "    }\n",
       "\n",
       "    .dataframe tbody tr th {\n",
       "        vertical-align: top;\n",
       "    }\n",
       "\n",
       "    .dataframe thead th {\n",
       "        text-align: right;\n",
       "    }\n",
       "</style>\n",
       "<table border=\"1\" class=\"dataframe\">\n",
       "  <thead>\n",
       "    <tr style=\"text-align: right;\">\n",
       "      <th></th>\n",
       "      <th>序号</th>\n",
       "      <th>City_No.</th>\n",
       "      <th>City</th>\n",
       "      <th>Page</th>\n",
       "      <th>No.</th>\n",
       "      <th>Tab</th>\n",
       "      <th>Name</th>\n",
       "      <th>Website</th>\n",
       "      <th>Phone</th>\n",
       "      <th>Location</th>\n",
       "      <th>Score</th>\n",
       "      <th>Review</th>\n",
       "      <th>Claimed</th>\n",
       "      <th>Verified</th>\n",
       "      <th>Highlight</th>\n",
       "      <th>Service</th>\n",
       "      <th>Hour</th>\n",
       "      <th>Amenities</th>\n",
       "      <th>Url</th>\n",
       "    </tr>\n",
       "  </thead>\n",
       "  <tbody>\n",
       "    <tr>\n",
       "      <th>0</th>\n",
       "      <td>142</td>\n",
       "      <td>8</td>\n",
       "      <td>San Diego, California</td>\n",
       "      <td>7</td>\n",
       "      <td>16</td>\n",
       "      <td>result</td>\n",
       "      <td>Total Care Transmissions &amp; Classic Restoration</td>\n",
       "      <td>totalcaretransmissions.com</td>\n",
       "      <td>(619) 944-1112</td>\n",
       "      <td>1112 Coolidge Ave National City, CA 91950</td>\n",
       "      <td>4.9</td>\n",
       "      <td>(44 reviews)</td>\n",
       "      <td>1. Auto Repair\\n2. Transmission Repair</td>\n",
       "      <td></td>\n",
       "      <td></td>\n",
       "      <td>1. Transmission Repair\\n2. Oil Change\\n3. Brak...</td>\n",
       "      <td>Mon 6:00 AM - 3:00 PM\\nTue 6:00 AM - 3:00 PM\\n...</td>\n",
       "      <td>1. Accepts Credit Cards\\n2. Free Wi-Fi</td>\n",
       "      <td>https://www.yelp.com/biz/total-care-transmissi...</td>\n",
       "    </tr>\n",
       "  </tbody>\n",
       "</table>\n",
       "</div>"
      ],
      "text/plain": [
       "    序号  City_No.                   City  Page  No.     Tab  \\\n",
       "0  142         8  San Diego, California     7   16  result   \n",
       "\n",
       "                                             Name                     Website  \\\n",
       "0  Total Care Transmissions & Classic Restoration  totalcaretransmissions.com   \n",
       "\n",
       "            Phone                                   Location Score  \\\n",
       "0  (619) 944-1112  1112 Coolidge Ave National City, CA 91950   4.9   \n",
       "\n",
       "         Review                                 Claimed Verified Highlight  \\\n",
       "0  (44 reviews)  1. Auto Repair\\n2. Transmission Repair                      \n",
       "\n",
       "                                             Service  \\\n",
       "0  1. Transmission Repair\\n2. Oil Change\\n3. Brak...   \n",
       "\n",
       "                                                Hour  \\\n",
       "0  Mon 6:00 AM - 3:00 PM\\nTue 6:00 AM - 3:00 PM\\n...   \n",
       "\n",
       "                                Amenities  \\\n",
       "0  1. Accepts Credit Cards\\n2. Free Wi-Fi   \n",
       "\n",
       "                                                 Url  \n",
       "0  https://www.yelp.com/biz/total-care-transmissi...  "
      ]
     },
     "execution_count": 22,
     "metadata": {},
     "output_type": "execute_result"
    }
   ],
   "source": [
    "output_correct = output_correct.drop_duplicates(ignore_index=True)\n",
    "output_correct = output_correct.sort_values(by=['序号'], ascending=[True]).reset_index(drop=True)\n",
    "output_correct.to_excel('./test_part.xlsx', index=False)\n",
    "\n",
    "output_correct"
   ]
  },
  {
   "cell_type": "code",
   "execution_count": 23,
   "id": "ad242aa9",
   "metadata": {},
   "outputs": [
    {
     "data": {
      "text/html": [
       "<div>\n",
       "<style scoped>\n",
       "    .dataframe tbody tr th:only-of-type {\n",
       "        vertical-align: middle;\n",
       "    }\n",
       "\n",
       "    .dataframe tbody tr th {\n",
       "        vertical-align: top;\n",
       "    }\n",
       "\n",
       "    .dataframe thead th {\n",
       "        text-align: right;\n",
       "    }\n",
       "</style>\n",
       "<table border=\"1\" class=\"dataframe\">\n",
       "  <thead>\n",
       "    <tr style=\"text-align: right;\">\n",
       "      <th></th>\n",
       "    </tr>\n",
       "  </thead>\n",
       "  <tbody>\n",
       "  </tbody>\n",
       "</table>\n",
       "</div>"
      ],
      "text/plain": [
       "Empty DataFrame\n",
       "Columns: []\n",
       "Index: []"
      ]
     },
     "execution_count": 23,
     "metadata": {},
     "output_type": "execute_result"
    }
   ],
   "source": [
    "if len(output_error) != 0:\n",
    "    output_error = output_error.drop_duplicates(ignore_index=True)\n",
    "    output_error = output_error.sort_values(by=['序号'], ascending=[True]).reset_index(drop=True)\n",
    "    output_error.to_excel('./test_part_error.xlsx', index=False)\n",
    "\n",
    "output_error"
   ]
  },
  {
   "cell_type": "code",
   "execution_count": null,
   "id": "1f77ed87",
   "metadata": {},
   "outputs": [],
   "source": []
  }
 ],
 "metadata": {
  "kernelspec": {
   "display_name": "Python 3 (ipykernel)",
   "language": "python",
   "name": "python3"
  },
  "language_info": {
   "codemirror_mode": {
    "name": "ipython",
    "version": 3
   },
   "file_extension": ".py",
   "mimetype": "text/x-python",
   "name": "python",
   "nbconvert_exporter": "python",
   "pygments_lexer": "ipython3",
   "version": "3.11.3"
  }
 },
 "nbformat": 4,
 "nbformat_minor": 5
}
