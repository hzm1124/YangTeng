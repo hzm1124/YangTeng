{
 "cells": [
  {
   "cell_type": "code",
   "execution_count": 1,
   "id": "28567785-1bca-439f-9042-e39b3255a55b",
   "metadata": {},
   "outputs": [],
   "source": [
    "import os\n",
    "\n",
    "# = = = = = = = = = = = = = = =\n",
    "\n",
    "import pandas as pd\n",
    "\n",
    "# = = = = = = = = = = = = = = =\n",
    "\n",
    "import requests\n",
    "\n",
    "import sys\n",
    "sys.path.append('../00.Tools')\n",
    "from crawler_configuration import get_header, get_proxy\n",
    "\n",
    "# = = = = = = = = = = = = = = =\n",
    "\n",
    "from bs4 import BeautifulSoup\n",
    "from lxml import etree\n",
    "\n",
    "# = = = = = = = = = = = = = = =\n",
    "\n",
    "import numpy as np\n",
    "\n",
    "# = = = = = = = = = = = = = = =\n",
    "\n",
    "import json"
   ]
  },
  {
   "cell_type": "code",
   "execution_count": 2,
   "id": "9b75b948-9701-432e-a5ef-88d0e629bd2c",
   "metadata": {},
   "outputs": [
    {
     "data": {
      "text/plain": [
       "'fuck_new.xlsx'"
      ]
     },
     "execution_count": 2,
     "metadata": {},
     "output_type": "execute_result"
    }
   ],
   "source": [
    "directory_in = './file/input'\n",
    "\n",
    "list_file = [file for file in sorted(os.listdir(directory_in)) if file not in ['.DS_Store'] and os.path.isfile(f'{directory_in}/{file}')]\n",
    "file = list_file[0]\n",
    "\n",
    "file"
   ]
  },
  {
   "cell_type": "code",
   "execution_count": 3,
   "id": "5d22fc26-a390-442a-bfe3-4d409c33f1e7",
   "metadata": {
    "scrolled": true
   },
   "outputs": [
    {
     "name": "stdout",
     "output_type": "stream",
     "text": [
      "总数量：753\n",
      "\n"
     ]
    },
    {
     "data": {
      "text/html": [
       "<div>\n",
       "<style scoped>\n",
       "    .dataframe tbody tr th:only-of-type {\n",
       "        vertical-align: middle;\n",
       "    }\n",
       "\n",
       "    .dataframe tbody tr th {\n",
       "        vertical-align: top;\n",
       "    }\n",
       "\n",
       "    .dataframe thead th {\n",
       "        text-align: right;\n",
       "    }\n",
       "</style>\n",
       "<table border=\"1\" class=\"dataframe\">\n",
       "  <thead>\n",
       "    <tr style=\"text-align: right;\">\n",
       "      <th></th>\n",
       "      <th>No</th>\n",
       "      <th>Part Number</th>\n",
       "    </tr>\n",
       "  </thead>\n",
       "  <tbody>\n",
       "    <tr>\n",
       "      <th>0</th>\n",
       "      <td>1</td>\n",
       "      <td>RD 10160C</td>\n",
       "    </tr>\n",
       "    <tr>\n",
       "      <th>1</th>\n",
       "      <td>3</td>\n",
       "      <td>RD 1789SC</td>\n",
       "    </tr>\n",
       "    <tr>\n",
       "      <th>2</th>\n",
       "      <td>4</td>\n",
       "      <td>HA 10954C</td>\n",
       "    </tr>\n",
       "    <tr>\n",
       "      <th>3</th>\n",
       "      <td>5</td>\n",
       "      <td>RD 2203SC</td>\n",
       "    </tr>\n",
       "    <tr>\n",
       "      <th>4</th>\n",
       "      <td>6</td>\n",
       "      <td>RD 2151C</td>\n",
       "    </tr>\n",
       "    <tr>\n",
       "      <th>...</th>\n",
       "      <td>...</td>\n",
       "      <td>...</td>\n",
       "    </tr>\n",
       "    <tr>\n",
       "      <th>748</th>\n",
       "      <td>1737</td>\n",
       "      <td>EX 10747</td>\n",
       "    </tr>\n",
       "    <tr>\n",
       "      <th>749</th>\n",
       "      <td>1738</td>\n",
       "      <td>EX 10561C</td>\n",
       "    </tr>\n",
       "    <tr>\n",
       "      <th>750</th>\n",
       "      <td>1739</td>\n",
       "      <td>EX 529442C</td>\n",
       "    </tr>\n",
       "    <tr>\n",
       "      <th>751</th>\n",
       "      <td>1742</td>\n",
       "      <td>SW 2155C</td>\n",
       "    </tr>\n",
       "    <tr>\n",
       "      <th>752</th>\n",
       "      <td>1743</td>\n",
       "      <td>GA 1524-10C</td>\n",
       "    </tr>\n",
       "  </tbody>\n",
       "</table>\n",
       "<p>753 rows × 2 columns</p>\n",
       "</div>"
      ],
      "text/plain": [
       "       No  Part Number\n",
       "0       1    RD 10160C\n",
       "1       3    RD 1789SC\n",
       "2       4    HA 10954C\n",
       "3       5    RD 2203SC\n",
       "4       6     RD 2151C\n",
       "..    ...          ...\n",
       "748  1737     EX 10747\n",
       "749  1738    EX 10561C\n",
       "750  1739   EX 529442C\n",
       "751  1742     SW 2155C\n",
       "752  1743  GA 1524-10C\n",
       "\n",
       "[753 rows x 2 columns]"
      ]
     },
     "execution_count": 3,
     "metadata": {},
     "output_type": "execute_result"
    }
   ],
   "source": [
    "list_dict_correct, list_series_error, df_input = [], [], pd.read_excel(f'{directory_in}/{file}',\n",
    "                                                                       header=0,\n",
    "                                                                       dtype=str).fillna('')\n",
    "\n",
    "df_input['No'] = df_input['No'].astype(int)\n",
    "\n",
    "count_remain = len(df_input)\n",
    "\n",
    "print(f'总数量：{count_remain}')\n",
    "print()\n",
    "df_input"
   ]
  },
  {
   "cell_type": "code",
   "execution_count": 4,
   "id": "5878a9f0-d639-4123-b6e0-bc564f72c2d6",
   "metadata": {},
   "outputs": [
    {
     "data": {
      "text/plain": [
       "(False,\n",
       " 0,\n",
       " No                     1\n",
       " Part Number    RD 10160C\n",
       " Name: 0, dtype: object)"
      ]
     },
     "execution_count": 4,
     "metadata": {},
     "output_type": "execute_result"
    }
   ],
   "source": [
    "crawler_status, (crawler_index, crawler_series) = False, next(df_input.iterrows())\n",
    "\n",
    "crawler_status, crawler_index, crawler_series"
   ]
  },
  {
   "cell_type": "code",
   "execution_count": 5,
   "id": "ad99bc86-6e80-4fcf-8200-736dc5101097",
   "metadata": {
    "scrolled": true
   },
   "outputs": [
    {
     "name": "stdout",
     "output_type": "stream",
     "text": [
      "1\n"
     ]
    },
    {
     "data": {
      "text/plain": [
       "{'d': {'it': None,\n",
       "  'm': False,\n",
       "  'c': '\\r<li id=\\'part32400\\' class=\"awe-li part awe-il\" data-val=\"32400\"><div class=\"label-bar\">\\r<h2 class=\"part-label\">RD 10160</h2></div><div>\\r<div class=\"part-image\">\\r<button class=\"btnleft\" style=\"padding: 2px 40px;position:relative;top:50%;left:0%;color:white;background:#003366;\" onclick=\"slide(-1,32400)\">&#10094;</button>\\r<button class=\"btnright\" style=\"padding: 2px 40px;position:relative;top:50%;right:0%;color:white;background:#003366;\" onclick=\"slide(+1,32400)\">&#10095;</button>\\r<img src=\\'https://www.uacparts.com/photo/WEBP/RD/RD 10160_1_730.webp\\' style=\"display:block;\" onclick=\"LoadImage(32400)\" class=\"thumb thumb-part mySlides_32400\" onerror=\"this.onerror=null;this.src=\\'/images/nophoto.jpg\\'\" alt=\\'picture\\' />\\r<img src=\\'https://www.uacparts.com/photo/WEBP/RD/RD 10160_3_730.webp\\' style=\"display:none;\" onclick=\"LoadImage(32400)\" class=\"thumb thumb-part mySlides_32400\" onerror=\"this.onerror=null;this.src=\\'/images/nophoto.jpg\\'\" alt=\\'picture\\' />\\r</div>\\r<button style=\"display:none\" id=\"IPOP6button32400\" onclick=\"awe.open(&#39;IPOP632400&#39;, {params:{&quot;part&quot;:&quot;RD 10160&quot;}}, event)\" type=\"button\" class=\"awe-btn hidden\" ></button>\\r<div id=\"IPOP632400-awein\" style=\"display:none;\"><script type=\"text/javascript\">jQuery(function(){awe.ip({u:\\'/Catalog/NewZoomPic\\',b:[],c:\\'\\',data:{\"keys\":[],\"vals\":[],\"l\":[]},pars:{ keys:[], vals:[]},tags:\\'\\',type:\\'pf\\',ot:\\'OK\\',ct:\\'Cancel\\',cs:1,udb:1,p:{i:\\'IPOP632400\\',g:\\'\\',t:\\'RD 10160\\',w:800,wws:1,mw:0,h:900,hws:1,m:1,pc:\\'\\'},i:\\'IPOP632400\\'});});</script></div>\\r<div class=\"part-info\">\\r<div class=\"comments\">Accumulator</div>\\r<div class=\"comments\"></div>\\r<div class=\"comments\"></div>\\r<div class=\"comments\"></div>\\r</div></div><br class=\"cbt\" /><br class=\"cbt\" /><div class=\"fl\">\\r<button onclick=\"awe.open(&#39;CRP6&#39;, {params:{&quot;part&quot;:&quot;RD 10160&quot;}}, event)\" type=\"button\" class=\"awe-btn part-btn awe-btn\" ><i class=\\'fa fa-exchange\\'></i>XREF</button>\\r<div id=\"CRP6-awein\" style=\"display:none;\"><script type=\"text/javascript\">jQuery(function(){awe.ip({u:\\'/Catalog/CrossReference\\',b:[],c:\\'\\',data:{\"keys\":[],\"vals\":[],\"l\":[]},pars:{ keys:[], vals:[]},tags:\\'\\',type:\\'pf\\',ot:\\'OK\\',ct:\\'Cancel\\',cs:1,udb:1,p:{i:\\'CRP6\\',g:\\'\\',t:\\'Cross References of this part\\',w:700,mw:0,h:330,m:1,pc:\\'\\'},i:\\'CRP6\\'});});</script></div></div><div class=\"fl\">\\r<button onclick=\"awe.open(&#39;SP6&#39;, {params:{&quot;part&quot;:&quot;RD 10160&quot;}}, event)\" type=\"button\" class=\"awe-btn part-btn awe-btn\" ><i class=\\'fa fa-files-o\\'></i>SPEC</button>\\r<div id=\"SP6-awein\" style=\"display:none;\"><script type=\"text/javascript\">jQuery(function(){awe.ip({u:\\'/Catalog/Specs\\',b:[],c:\\'\\',data:{\"keys\":[],\"vals\":[],\"l\":[]},pars:{ keys:[], vals:[]},tags:\\'\\',type:\\'pf\\',ot:\\'OK\\',ct:\\'Cancel\\',cs:1,udb:1,p:{i:\\'SP6\\',g:\\'\\',t:\\'Specs for this part\\',w:700,mw:0,h:330,m:1,pc:\\'\\'},i:\\'SP6\\'});});</script></div></div><div class=\"fl\">\\r<button onclick=\"awe.open(&#39;BG6&#39;, {params:{&quot;part&quot;:&quot;RD 10160&quot;}}, event)\" type=\"button\" class=\"awe-btn part-btn awe-btn\" ><i class=\\'fa fa-files-o\\'></i>Buyers Guide</button>\\r<div id=\"BG6-awein\" style=\"display:none;\"><script type=\"text/javascript\">jQuery(function(){awe.ip({u:\\'/Catalog/Buyers\\',b:[],c:\\'\\',data:{\"keys\":[],\"vals\":[],\"l\":[]},pars:{ keys:[], vals:[]},tags:\\'\\',type:\\'pf\\',ot:\\'OK\\',ct:\\'Cancel\\',cs:1,udb:1,p:{i:\\'BG6\\',g:\\'\\',t:\\'Buyers Guide for this part\\',w:700,mw:0,h:330,m:1,pc:\\'\\'},i:\\'BG6\\'});});</script></div></div><div class=\"fl\">\\r<button onclick=\"awe.open(&#39;fcompare6&#39;, {params:{&quot;partId&quot;:32400,&quot;part&quot;:&quot;RD 10160&quot;}}, event)\" type=\"button\" class=\"awe-btn awe-btn\" >Compare</button>\\r<div id=\"fcompare6-awein\" style=\"display:none;\"><script type=\"text/javascript\">jQuery(function(){awe.ip({u:\\'/Catalog/Compare\\',b:[],c:\\'\\',data:{\"keys\":[],\"vals\":[],\"l\":[]},pars:{ keys:[], vals:[]},tags:\\'\\',type:\\'pf\\',ot:\\'OK\\',ct:\\'Cancel\\',sf:PaintCompare,cs:1,udb:1,p:{i:\\'fcompare6\\',g:\\'\\',t:\\'Add part to compare\\',w:400,wws:1,mw:0,h:150,hws:1,m:1,pc:\\'\\'},i:\\'fcompare6\\'});});</script></div></div></li><li id=\\'part16460\\' class=\"awe-li part awe-il\" data-val=\"16460\"><div class=\"label-bar\">\\r<h2 class=\"part-label\">RD 10160C</h2></div><div>\\r<div class=\"part-image\">\\r<button class=\"btnleft\" style=\"padding: 2px 40px;position:relative;top:50%;left:0%;color:white;background:#003366;\" onclick=\"slide(-1,16460)\">&#10094;</button>\\r<button class=\"btnright\" style=\"padding: 2px 40px;position:relative;top:50%;right:0%;color:white;background:#003366;\" onclick=\"slide(+1,16460)\">&#10095;</button>\\r<img src=\\'https://www.uacparts.com/photo/WEBP/RD/RD 10160C_1_743.webp\\' style=\"display:block;\" onclick=\"LoadImage(16460)\" class=\"thumb thumb-part mySlides_16460\" onerror=\"this.onerror=null;this.src=\\'/images/nophoto.jpg\\'\" alt=\\'picture\\' />\\r<img src=\\'https://www.uacparts.com/photo/WEBP/RD/RD 10160C_2_743.webp\\' style=\"display:none;\" onclick=\"LoadImage(16460)\" class=\"thumb thumb-part mySlides_16460\" onerror=\"this.onerror=null;this.src=\\'/images/nophoto.jpg\\'\" alt=\\'picture\\' />\\r</div>\\r<button style=\"display:none\" id=\"IPOP6button16460\" onclick=\"awe.open(&#39;IPOP616460&#39;, {params:{&quot;part&quot;:&quot;RD 10160C&quot;}}, event)\" type=\"button\" class=\"awe-btn hidden\" ></button>\\r<div id=\"IPOP616460-awein\" style=\"display:none;\"><script type=\"text/javascript\">jQuery(function(){awe.ip({u:\\'/Catalog/NewZoomPic\\',b:[],c:\\'\\',data:{\"keys\":[],\"vals\":[],\"l\":[]},pars:{ keys:[], vals:[]},tags:\\'\\',type:\\'pf\\',ot:\\'OK\\',ct:\\'Cancel\\',cs:1,udb:1,p:{i:\\'IPOP616460\\',g:\\'\\',t:\\'RD 10160C\\',w:800,wws:1,mw:0,h:900,hws:1,m:1,pc:\\'\\'},i:\\'IPOP616460\\'});});</script></div>\\r<div class=\"part-info\">\\r<div class=\"comments\">Accumulator</div>\\r<div class=\"comments\"></div>\\r<div class=\"comments\"></div>\\r<div class=\"comments\"></div>\\r</div></div><br class=\"cbt\" /><br class=\"cbt\" /><div class=\"fl\">\\r<button onclick=\"awe.open(&#39;CRP6&#39;, {params:{&quot;part&quot;:&quot;RD 10160C&quot;}}, event)\" type=\"button\" class=\"awe-btn part-btn awe-btn\" ><i class=\\'fa fa-exchange\\'></i>XREF</button>\\r<div id=\"CRP6-awein\" style=\"display:none;\"><script type=\"text/javascript\">jQuery(function(){awe.ip({u:\\'/Catalog/CrossReference\\',b:[],c:\\'\\',data:{\"keys\":[],\"vals\":[],\"l\":[]},pars:{ keys:[], vals:[]},tags:\\'\\',type:\\'pf\\',ot:\\'OK\\',ct:\\'Cancel\\',cs:1,udb:1,p:{i:\\'CRP6\\',g:\\'\\',t:\\'Cross References of this part\\',w:700,mw:0,h:330,m:1,pc:\\'\\'},i:\\'CRP6\\'});});</script></div></div><div class=\"fl\">\\r<button onclick=\"awe.open(&#39;SP6&#39;, {params:{&quot;part&quot;:&quot;RD 10160C&quot;}}, event)\" type=\"button\" class=\"awe-btn part-btn awe-btn\" ><i class=\\'fa fa-files-o\\'></i>SPEC</button>\\r<div id=\"SP6-awein\" style=\"display:none;\"><script type=\"text/javascript\">jQuery(function(){awe.ip({u:\\'/Catalog/Specs\\',b:[],c:\\'\\',data:{\"keys\":[],\"vals\":[],\"l\":[]},pars:{ keys:[], vals:[]},tags:\\'\\',type:\\'pf\\',ot:\\'OK\\',ct:\\'Cancel\\',cs:1,udb:1,p:{i:\\'SP6\\',g:\\'\\',t:\\'Specs for this part\\',w:700,mw:0,h:330,m:1,pc:\\'\\'},i:\\'SP6\\'});});</script></div></div><div class=\"fl\">\\r<button onclick=\"awe.open(&#39;BG6&#39;, {params:{&quot;part&quot;:&quot;RD 10160C&quot;}}, event)\" type=\"button\" class=\"awe-btn part-btn awe-btn\" ><i class=\\'fa fa-files-o\\'></i>Buyers Guide</button>\\r<div id=\"BG6-awein\" style=\"display:none;\"><script type=\"text/javascript\">jQuery(function(){awe.ip({u:\\'/Catalog/Buyers\\',b:[],c:\\'\\',data:{\"keys\":[],\"vals\":[],\"l\":[]},pars:{ keys:[], vals:[]},tags:\\'\\',type:\\'pf\\',ot:\\'OK\\',ct:\\'Cancel\\',cs:1,udb:1,p:{i:\\'BG6\\',g:\\'\\',t:\\'Buyers Guide for this part\\',w:700,mw:0,h:330,m:1,pc:\\'\\'},i:\\'BG6\\'});});</script></div></div><div class=\"fl\">\\r<button onclick=\"awe.open(&#39;fcompare6&#39;, {params:{&quot;partId&quot;:16460,&quot;part&quot;:&quot;RD 10160C&quot;}}, event)\" type=\"button\" class=\"awe-btn awe-btn\" >Compare</button>\\r<div id=\"fcompare6-awein\" style=\"display:none;\"><script type=\"text/javascript\">jQuery(function(){awe.ip({u:\\'/Catalog/Compare\\',b:[],c:\\'\\',data:{\"keys\":[],\"vals\":[],\"l\":[]},pars:{ keys:[], vals:[]},tags:\\'\\',type:\\'pf\\',ot:\\'OK\\',ct:\\'Cancel\\',sf:PaintCompare,cs:1,udb:1,p:{i:\\'fcompare6\\',g:\\'\\',t:\\'Add part to compare\\',w:400,wws:1,mw:0,h:150,hws:1,m:1,pc:\\'\\'},i:\\'fcompare6\\'});});</script></div></div></li><script type=\"text/javascript\">\\rfunction LoadImage(partId) {\\r$(\"#IPOP6button\" + partId).click();\\r}\\r</script><script>\\rfunction slide(n, photo_group_index) {\\rvar slideIndex = 1;\\rvar classname = \"mySlides_\" + photo_group_index;\\rvar x = document.getElementsByClassName(classname);\\rfor (var i = 0; i < x.length; i++) {\\rif (x[i].style.display == \"block\") {\\rslideIndex = i;\\rx[i].style.display = \"none\";\\rbreak;\\r}\\r}\\rif (slideIndex + n > x.length - 1) { slideIndex = 0; }\\relse if (slideIndex + n < 0) { slideIndex = x.length - 1; }\\relse { slideIndex += n; }\\rx[slideIndex].style.display = \"block\";\\r}\\r</script>',\n",
       "  'th': None,\n",
       "  'p': None}}"
      ]
     },
     "execution_count": 5,
     "metadata": {},
     "output_type": "execute_result"
    }
   ],
   "source": [
    "import time\n",
    "\n",
    "data = {'search': crawler_series['Part Number'],\n",
    "        'page': '1'}\n",
    "\n",
    "count_retry = 0\n",
    "while True:\n",
    "    count_retry += 1\n",
    "    print(count_retry)\n",
    "    try:\n",
    "        url_check = f'''https://uacparts.com/Catalog/SearchIndex?search={crawler_series['Part Number']}'''\n",
    "\n",
    "        resp = requests.post('https://uacparts.com/SearchAjaxList/Search',\n",
    "                             data=data,\n",
    "                             headers=get_header(),\n",
    "                             proxies=get_proxy(),\n",
    "                             timeout=(5, 15))\n",
    "\n",
    "        if resp.status_code == 200:\n",
    "            dict_ = resp.json()\n",
    "\n",
    "            if dict_['d']['it'] == None and (dict_['d']['m'] == False or dict_['d']['m'] == True) and dict_['d']['th'] == None and dict_['d']['p'] == None:\n",
    "                break\n",
    "    except KeyboardInterrupt:\n",
    "        break\n",
    "    except:\n",
    "        time.sleep(3)\n",
    "        continue\n",
    "\n",
    "dict_"
   ]
  },
  {
   "cell_type": "code",
   "execution_count": 6,
   "id": "f933a1ab-8825-469f-91db-99d00e8d5c6d",
   "metadata": {
    "scrolled": true
   },
   "outputs": [
    {
     "name": "stdout",
     "output_type": "stream",
     "text": [
      "<html>\n",
      " <body>\n",
      "  <li class=\"awe-li part awe-il\" data-val=\"32400\" id=\"part32400\">\n",
      "   <div class=\"label-bar\">\n",
      "    <h2 class=\"part-label\">\n",
      "     RD 10160\n",
      "    </h2>\n",
      "   </div>\n",
      "   <div>\n",
      "    <div class=\"part-image\">\n",
      "     <button class=\"btnleft\" onclick=\"slide(-1,32400)\" style=\"padding: 2px 40px;position:relative;top:50%;left:0%;color:white;background:#003366;\">\n",
      "      ❮\n",
      "     </button>\n",
      "     <button class=\"btnright\" onclick=\"slide(+1,32400)\" style=\"padding: 2px 40px;position:relative;top:50%;right:0%;color:white;background:#003366;\">\n",
      "      ❯\n",
      "     </button>\n",
      "     <img alt=\"picture\" class=\"thumb thumb-part mySlides_32400\" onclick=\"LoadImage(32400)\" onerror=\"this.onerror=null;this.src='/images/nophoto.jpg'\" src=\"https://www.uacparts.com/photo/WEBP/RD/RD 10160_1_730.webp\" style=\"display:block;\"/>\n",
      "     <img alt=\"picture\" class=\"thumb thumb-part mySlides_32400\" onclick=\"LoadImage(32400)\" onerror=\"this.onerror=null;this.src='/images/nophoto.jpg'\" src=\"https://www.uacparts.com/photo/WEBP/RD/RD 10160_3_730.webp\" style=\"display:none;\"/>\n",
      "    </div>\n",
      "    <button class=\"awe-btn hidden\" id=\"IPOP6button32400\" onclick=\"awe.open('IPOP632400', {params:{&quot;part&quot;:&quot;RD 10160&quot;}}, event)\" style=\"display:none\" type=\"button\">\n",
      "    </button>\n",
      "    <div id=\"IPOP632400-awein\" style=\"display:none;\">\n",
      "     <script type=\"text/javascript\">\n",
      "      jQuery(function(){awe.ip({u:'/Catalog/NewZoomPic',b:[],c:'',data:{\"keys\":[],\"vals\":[],\"l\":[]},pars:{ keys:[], vals:[]},tags:'',type:'pf',ot:'OK',ct:'Cancel',cs:1,udb:1,p:{i:'IPOP632400',g:'',t:'RD 10160',w:800,wws:1,mw:0,h:900,hws:1,m:1,pc:''},i:'IPOP632400'});});\n",
      "     </script>\n",
      "    </div>\n",
      "    <div class=\"part-info\">\n",
      "     <div class=\"comments\">\n",
      "      Accumulator\n",
      "     </div>\n",
      "     <div class=\"comments\">\n",
      "     </div>\n",
      "     <div class=\"comments\">\n",
      "     </div>\n",
      "     <div class=\"comments\">\n",
      "     </div>\n",
      "    </div>\n",
      "   </div>\n",
      "   <br class=\"cbt\"/>\n",
      "   <br class=\"cbt\"/>\n",
      "   <div class=\"fl\">\n",
      "    <button class=\"awe-btn part-btn awe-btn\" onclick=\"awe.open('CRP6', {params:{&quot;part&quot;:&quot;RD 10160&quot;}}, event)\" type=\"button\">\n",
      "     <i class=\"fa fa-exchange\">\n",
      "     </i>\n",
      "     XREF\n",
      "    </button>\n",
      "    <div id=\"CRP6-awein\" style=\"display:none;\">\n",
      "     <script type=\"text/javascript\">\n",
      "      jQuery(function(){awe.ip({u:'/Catalog/CrossReference',b:[],c:'',data:{\"keys\":[],\"vals\":[],\"l\":[]},pars:{ keys:[], vals:[]},tags:'',type:'pf',ot:'OK',ct:'Cancel',cs:1,udb:1,p:{i:'CRP6',g:'',t:'Cross References of this part',w:700,mw:0,h:330,m:1,pc:''},i:'CRP6'});});\n",
      "     </script>\n",
      "    </div>\n",
      "   </div>\n",
      "   <div class=\"fl\">\n",
      "    <button class=\"awe-btn part-btn awe-btn\" onclick=\"awe.open('SP6', {params:{&quot;part&quot;:&quot;RD 10160&quot;}}, event)\" type=\"button\">\n",
      "     <i class=\"fa fa-files-o\">\n",
      "     </i>\n",
      "     SPEC\n",
      "    </button>\n",
      "    <div id=\"SP6-awein\" style=\"display:none;\">\n",
      "     <script type=\"text/javascript\">\n",
      "      jQuery(function(){awe.ip({u:'/Catalog/Specs',b:[],c:'',data:{\"keys\":[],\"vals\":[],\"l\":[]},pars:{ keys:[], vals:[]},tags:'',type:'pf',ot:'OK',ct:'Cancel',cs:1,udb:1,p:{i:'SP6',g:'',t:'Specs for this part',w:700,mw:0,h:330,m:1,pc:''},i:'SP6'});});\n",
      "     </script>\n",
      "    </div>\n",
      "   </div>\n",
      "   <div class=\"fl\">\n",
      "    <button class=\"awe-btn part-btn awe-btn\" onclick=\"awe.open('BG6', {params:{&quot;part&quot;:&quot;RD 10160&quot;}}, event)\" type=\"button\">\n",
      "     <i class=\"fa fa-files-o\">\n",
      "     </i>\n",
      "     Buyers Guide\n",
      "    </button>\n",
      "    <div id=\"BG6-awein\" style=\"display:none;\">\n",
      "     <script type=\"text/javascript\">\n",
      "      jQuery(function(){awe.ip({u:'/Catalog/Buyers',b:[],c:'',data:{\"keys\":[],\"vals\":[],\"l\":[]},pars:{ keys:[], vals:[]},tags:'',type:'pf',ot:'OK',ct:'Cancel',cs:1,udb:1,p:{i:'BG6',g:'',t:'Buyers Guide for this part',w:700,mw:0,h:330,m:1,pc:''},i:'BG6'});});\n",
      "     </script>\n",
      "    </div>\n",
      "   </div>\n",
      "   <div class=\"fl\">\n",
      "    <button class=\"awe-btn awe-btn\" onclick=\"awe.open('fcompare6', {params:{&quot;partId&quot;:32400,&quot;part&quot;:&quot;RD 10160&quot;}}, event)\" type=\"button\">\n",
      "     Compare\n",
      "    </button>\n",
      "    <div id=\"fcompare6-awein\" style=\"display:none;\">\n",
      "     <script type=\"text/javascript\">\n",
      "      jQuery(function(){awe.ip({u:'/Catalog/Compare',b:[],c:'',data:{\"keys\":[],\"vals\":[],\"l\":[]},pars:{ keys:[], vals:[]},tags:'',type:'pf',ot:'OK',ct:'Cancel',sf:PaintCompare,cs:1,udb:1,p:{i:'fcompare6',g:'',t:'Add part to compare',w:400,wws:1,mw:0,h:150,hws:1,m:1,pc:''},i:'fcompare6'});});\n",
      "     </script>\n",
      "    </div>\n",
      "   </div>\n",
      "  </li>\n",
      "  <li class=\"awe-li part awe-il\" data-val=\"16460\" id=\"part16460\">\n",
      "   <div class=\"label-bar\">\n",
      "    <h2 class=\"part-label\">\n",
      "     RD 10160C\n",
      "    </h2>\n",
      "   </div>\n",
      "   <div>\n",
      "    <div class=\"part-image\">\n",
      "     <button class=\"btnleft\" onclick=\"slide(-1,16460)\" style=\"padding: 2px 40px;position:relative;top:50%;left:0%;color:white;background:#003366;\">\n",
      "      ❮\n",
      "     </button>\n",
      "     <button class=\"btnright\" onclick=\"slide(+1,16460)\" style=\"padding: 2px 40px;position:relative;top:50%;right:0%;color:white;background:#003366;\">\n",
      "      ❯\n",
      "     </button>\n",
      "     <img alt=\"picture\" class=\"thumb thumb-part mySlides_16460\" onclick=\"LoadImage(16460)\" onerror=\"this.onerror=null;this.src='/images/nophoto.jpg'\" src=\"https://www.uacparts.com/photo/WEBP/RD/RD 10160C_1_743.webp\" style=\"display:block;\"/>\n",
      "     <img alt=\"picture\" class=\"thumb thumb-part mySlides_16460\" onclick=\"LoadImage(16460)\" onerror=\"this.onerror=null;this.src='/images/nophoto.jpg'\" src=\"https://www.uacparts.com/photo/WEBP/RD/RD 10160C_2_743.webp\" style=\"display:none;\"/>\n",
      "    </div>\n",
      "    <button class=\"awe-btn hidden\" id=\"IPOP6button16460\" onclick=\"awe.open('IPOP616460', {params:{&quot;part&quot;:&quot;RD 10160C&quot;}}, event)\" style=\"display:none\" type=\"button\">\n",
      "    </button>\n",
      "    <div id=\"IPOP616460-awein\" style=\"display:none;\">\n",
      "     <script type=\"text/javascript\">\n",
      "      jQuery(function(){awe.ip({u:'/Catalog/NewZoomPic',b:[],c:'',data:{\"keys\":[],\"vals\":[],\"l\":[]},pars:{ keys:[], vals:[]},tags:'',type:'pf',ot:'OK',ct:'Cancel',cs:1,udb:1,p:{i:'IPOP616460',g:'',t:'RD 10160C',w:800,wws:1,mw:0,h:900,hws:1,m:1,pc:''},i:'IPOP616460'});});\n",
      "     </script>\n",
      "    </div>\n",
      "    <div class=\"part-info\">\n",
      "     <div class=\"comments\">\n",
      "      Accumulator\n",
      "     </div>\n",
      "     <div class=\"comments\">\n",
      "     </div>\n",
      "     <div class=\"comments\">\n",
      "     </div>\n",
      "     <div class=\"comments\">\n",
      "     </div>\n",
      "    </div>\n",
      "   </div>\n",
      "   <br class=\"cbt\"/>\n",
      "   <br class=\"cbt\"/>\n",
      "   <div class=\"fl\">\n",
      "    <button class=\"awe-btn part-btn awe-btn\" onclick=\"awe.open('CRP6', {params:{&quot;part&quot;:&quot;RD 10160C&quot;}}, event)\" type=\"button\">\n",
      "     <i class=\"fa fa-exchange\">\n",
      "     </i>\n",
      "     XREF\n",
      "    </button>\n",
      "    <div id=\"CRP6-awein\" style=\"display:none;\">\n",
      "     <script type=\"text/javascript\">\n",
      "      jQuery(function(){awe.ip({u:'/Catalog/CrossReference',b:[],c:'',data:{\"keys\":[],\"vals\":[],\"l\":[]},pars:{ keys:[], vals:[]},tags:'',type:'pf',ot:'OK',ct:'Cancel',cs:1,udb:1,p:{i:'CRP6',g:'',t:'Cross References of this part',w:700,mw:0,h:330,m:1,pc:''},i:'CRP6'});});\n",
      "     </script>\n",
      "    </div>\n",
      "   </div>\n",
      "   <div class=\"fl\">\n",
      "    <button class=\"awe-btn part-btn awe-btn\" onclick=\"awe.open('SP6', {params:{&quot;part&quot;:&quot;RD 10160C&quot;}}, event)\" type=\"button\">\n",
      "     <i class=\"fa fa-files-o\">\n",
      "     </i>\n",
      "     SPEC\n",
      "    </button>\n",
      "    <div id=\"SP6-awein\" style=\"display:none;\">\n",
      "     <script type=\"text/javascript\">\n",
      "      jQuery(function(){awe.ip({u:'/Catalog/Specs',b:[],c:'',data:{\"keys\":[],\"vals\":[],\"l\":[]},pars:{ keys:[], vals:[]},tags:'',type:'pf',ot:'OK',ct:'Cancel',cs:1,udb:1,p:{i:'SP6',g:'',t:'Specs for this part',w:700,mw:0,h:330,m:1,pc:''},i:'SP6'});});\n",
      "     </script>\n",
      "    </div>\n",
      "   </div>\n",
      "   <div class=\"fl\">\n",
      "    <button class=\"awe-btn part-btn awe-btn\" onclick=\"awe.open('BG6', {params:{&quot;part&quot;:&quot;RD 10160C&quot;}}, event)\" type=\"button\">\n",
      "     <i class=\"fa fa-files-o\">\n",
      "     </i>\n",
      "     Buyers Guide\n",
      "    </button>\n",
      "    <div id=\"BG6-awein\" style=\"display:none;\">\n",
      "     <script type=\"text/javascript\">\n",
      "      jQuery(function(){awe.ip({u:'/Catalog/Buyers',b:[],c:'',data:{\"keys\":[],\"vals\":[],\"l\":[]},pars:{ keys:[], vals:[]},tags:'',type:'pf',ot:'OK',ct:'Cancel',cs:1,udb:1,p:{i:'BG6',g:'',t:'Buyers Guide for this part',w:700,mw:0,h:330,m:1,pc:''},i:'BG6'});});\n",
      "     </script>\n",
      "    </div>\n",
      "   </div>\n",
      "   <div class=\"fl\">\n",
      "    <button class=\"awe-btn awe-btn\" onclick=\"awe.open('fcompare6', {params:{&quot;partId&quot;:16460,&quot;part&quot;:&quot;RD 10160C&quot;}}, event)\" type=\"button\">\n",
      "     Compare\n",
      "    </button>\n",
      "    <div id=\"fcompare6-awein\" style=\"display:none;\">\n",
      "     <script type=\"text/javascript\">\n",
      "      jQuery(function(){awe.ip({u:'/Catalog/Compare',b:[],c:'',data:{\"keys\":[],\"vals\":[],\"l\":[]},pars:{ keys:[], vals:[]},tags:'',type:'pf',ot:'OK',ct:'Cancel',sf:PaintCompare,cs:1,udb:1,p:{i:'fcompare6',g:'',t:'Add part to compare',w:400,wws:1,mw:0,h:150,hws:1,m:1,pc:''},i:'fcompare6'});});\n",
      "     </script>\n",
      "    </div>\n",
      "   </div>\n",
      "  </li>\n",
      "  <script type=\"text/javascript\">\n",
      "}(\"#IPOP6button\" + partId).click();\n",
      "  </script>\n",
      "  <script>\n",
      "}[slideIndex].style.display = \"block\";dex = x.length - 1; }\n",
      "  </script>\n",
      " </body>\n",
      "</html>\n",
      "\n"
     ]
    }
   ],
   "source": [
    "soup = BeautifulSoup(dict_['d']['c'], 'lxml')\n",
    "html = etree.HTML(str(soup))\n",
    "\n",
    "with open('./part.html', 'w', encoding='UTF-8') as file:\n",
    "    file.write(str(soup))\n",
    "\n",
    "print(soup.prettify())"
   ]
  },
  {
   "cell_type": "code",
   "execution_count": 7,
   "id": "d48f0342-dd9e-4d09-bb78-2d28204baa81",
   "metadata": {},
   "outputs": [
    {
     "data": {
      "text/plain": [
       "[<Element li at 0x11d8385c0>, <Element li at 0x11d7ed580>]"
      ]
     },
     "execution_count": 7,
     "metadata": {},
     "output_type": "execute_result"
    }
   ],
   "source": [
    "list_li = html.xpath('//li[@class=\"awe-li part awe-il\"]')\n",
    "\n",
    "list_li"
   ]
  },
  {
   "cell_type": "code",
   "execution_count": 8,
   "id": "83319619-78ce-49ca-837d-f6680b62c059",
   "metadata": {},
   "outputs": [
    {
     "data": {
      "text/plain": [
       "['RD 10160', 'RD 10160C']"
      ]
     },
     "execution_count": 8,
     "metadata": {},
     "output_type": "execute_result"
    }
   ],
   "source": [
    "list_part_number = [li.xpath('./div[@class=\"label-bar\"]/h2[@class=\"part-label\"]/text()')[0] for li in list_li]\n",
    "\n",
    "list_part_number"
   ]
  },
  {
   "cell_type": "code",
   "execution_count": 9,
   "id": "51da188a-1bfd-4e43-9a71-d77e86e47dda",
   "metadata": {},
   "outputs": [
    {
     "data": {
      "text/plain": [
       "array([1])"
      ]
     },
     "execution_count": 9,
     "metadata": {},
     "output_type": "execute_result"
    }
   ],
   "source": [
    "array_index_part = np.where(np.array([part_number.replace(' ', '') for part_number in list_part_number]) == crawler_series['Part Number'].replace(' ', ''))[0]\n",
    "\n",
    "array_index_part"
   ]
  },
  {
   "cell_type": "code",
   "execution_count": 10,
   "id": "fe743017-f145-4d42-9490-0e1d3222ba27",
   "metadata": {},
   "outputs": [
    {
     "data": {
      "text/plain": [
       "np.int64(1)"
      ]
     },
     "execution_count": 10,
     "metadata": {},
     "output_type": "execute_result"
    }
   ],
   "source": [
    "if array_index_part.size == 1:\n",
    "    index_part = array_index_part[0]\n",
    "\n",
    "index_part"
   ]
  },
  {
   "cell_type": "code",
   "execution_count": 11,
   "id": "7c2a67af-c87f-4445-986c-c9a5144c8377",
   "metadata": {},
   "outputs": [
    {
     "data": {
      "text/plain": [
       "{'0': 'https://www.uacparts.com/photo/WEBP/RD/RD 10160C_1_743.webp',\n",
       " '1': 'https://www.uacparts.com/photo/WEBP/RD/RD 10160C_2_743.webp'}"
      ]
     },
     "execution_count": 11,
     "metadata": {},
     "output_type": "execute_result"
    }
   ],
   "source": [
    "dict_src, list_src = {}, [href.strip() for href in list_li[index_part].xpath('./div/div[@class=\"part-image\"]/img[@alt=\"picture\"]/@src')]\n",
    "for i, src in enumerate(list_src):\n",
    "    dict_src[str(i)] = src\n",
    "\n",
    "dict_src"
   ]
  },
  {
   "cell_type": "code",
   "execution_count": 12,
   "id": "ac9f5a60-380b-4e2b-9e26-adab731144f6",
   "metadata": {},
   "outputs": [
    {
     "data": {
      "text/plain": [
       "{'0': 'Accumulator'}"
      ]
     },
     "execution_count": 12,
     "metadata": {},
     "output_type": "execute_result"
    }
   ],
   "source": [
    "dict_note, list_text = {}, list_li[index_part].xpath('./div/div[@class=\"part-info\"]/div[@class=\"comments\"]/text()')\n",
    "for i, text in enumerate(list_text):\n",
    "    dict_note[str(i)] = text\n",
    "\n",
    "dict_note"
   ]
  },
  {
   "cell_type": "code",
   "execution_count": 13,
   "id": "99f49dd4-107b-4d6f-9ed6-1db0c1be6093",
   "metadata": {},
   "outputs": [
    {
     "data": {
      "text/plain": [
       "[{'Part Number': 'RD 10160C',\n",
       "  '[UAC] Part Number': 'RD 10160C',\n",
       "  '[UAC] Picture': '',\n",
       "  '[UAC] Url': 'https://uacparts.com/Catalog/SearchIndex?search=RD 10160C',\n",
       "  '[UAC] Json_Src': '{\"0\": \"https://www.uacparts.com/photo/WEBP/RD/RD 10160C_1_743.webp\", \"1\": \"https://www.uacparts.com/photo/WEBP/RD/RD 10160C_2_743.webp\"}',\n",
       "  '[UAC] Json_Note': '{\"0\": \"Accumulator\"}'}]"
      ]
     },
     "execution_count": 13,
     "metadata": {},
     "output_type": "execute_result"
    }
   ],
   "source": [
    "list_dict_correct.append({'Part Number': crawler_series['Part Number'],\n",
    "                          '[UAC] Part Number': list_part_number[index_part],\n",
    "                          '[UAC] Picture': '',\n",
    "                          '[UAC] Url': url_check,\n",
    "                          '[UAC] Json_Src': json.dumps(dict_src),\n",
    "                          '[UAC] Json_Note': json.dumps(dict_note)})\n",
    "\n",
    "list_dict_correct"
   ]
  },
  {
   "cell_type": "code",
   "execution_count": 14,
   "id": "fc4ed7f6-ed4f-431c-b944-b1690309cdae",
   "metadata": {},
   "outputs": [
    {
     "data": {
      "text/plain": [
       "True"
      ]
     },
     "execution_count": 14,
     "metadata": {},
     "output_type": "execute_result"
    }
   ],
   "source": [
    "crawler_status = True\n",
    "\n",
    "crawler_status"
   ]
  },
  {
   "cell_type": "code",
   "execution_count": 15,
   "id": "65c745d1-446e-46c5-9dec-819c9f7944d3",
   "metadata": {},
   "outputs": [
    {
     "data": {
      "text/plain": [
       "[No                                                             1\n",
       " Part Number                                            RD 10160C\n",
       " Check_Url      https://uacparts.com/Catalog/SearchIndex?searc...\n",
       " Name: 0, dtype: object]"
      ]
     },
     "execution_count": 15,
     "metadata": {},
     "output_type": "execute_result"
    }
   ],
   "source": [
    "crawler_series['Check_Url'] = url_check\n",
    "\n",
    "list_series_error.append(crawler_series)\n",
    "\n",
    "list_series_error"
   ]
  },
  {
   "cell_type": "code",
   "execution_count": 16,
   "id": "17a796b2-35c8-4c10-960e-6111fec4b993",
   "metadata": {},
   "outputs": [
    {
     "data": {
      "text/html": [
       "<div>\n",
       "<style scoped>\n",
       "    .dataframe tbody tr th:only-of-type {\n",
       "        vertical-align: middle;\n",
       "    }\n",
       "\n",
       "    .dataframe tbody tr th {\n",
       "        vertical-align: top;\n",
       "    }\n",
       "\n",
       "    .dataframe thead th {\n",
       "        text-align: right;\n",
       "    }\n",
       "</style>\n",
       "<table border=\"1\" class=\"dataframe\">\n",
       "  <thead>\n",
       "    <tr style=\"text-align: right;\">\n",
       "      <th></th>\n",
       "      <th>Part Number</th>\n",
       "      <th>[UAC] Part Number</th>\n",
       "      <th>[UAC] Picture</th>\n",
       "      <th>[UAC] Url</th>\n",
       "      <th>[UAC] Json_Src</th>\n",
       "      <th>[UAC] Json_Note</th>\n",
       "    </tr>\n",
       "  </thead>\n",
       "  <tbody>\n",
       "    <tr>\n",
       "      <th>0</th>\n",
       "      <td>RD 10160C</td>\n",
       "      <td>RD 10160C</td>\n",
       "      <td></td>\n",
       "      <td>https://uacparts.com/Catalog/SearchIndex?searc...</td>\n",
       "      <td>{\"0\": \"https://www.uacparts.com/photo/WEBP/RD/...</td>\n",
       "      <td>{\"0\": \"Accumulator\"}</td>\n",
       "    </tr>\n",
       "  </tbody>\n",
       "</table>\n",
       "</div>"
      ],
      "text/plain": [
       "  Part Number [UAC] Part Number [UAC] Picture  \\\n",
       "0   RD 10160C         RD 10160C                 \n",
       "\n",
       "                                           [UAC] Url  \\\n",
       "0  https://uacparts.com/Catalog/SearchIndex?searc...   \n",
       "\n",
       "                                      [UAC] Json_Src       [UAC] Json_Note  \n",
       "0  {\"0\": \"https://www.uacparts.com/photo/WEBP/RD/...  {\"0\": \"Accumulator\"}  "
      ]
     },
     "execution_count": 16,
     "metadata": {},
     "output_type": "execute_result"
    }
   ],
   "source": [
    "if list_dict_correct:\n",
    "    df_correct = pd.DataFrame(list_dict_correct).sort_values(by=['Part Number'],\n",
    "                                                             ascending=[True],\n",
    "                                                             ignore_index=True)\n",
    "    df_correct.to_excel('./test_part.xlsx', index=False)\n",
    "\n",
    "df_correct"
   ]
  },
  {
   "cell_type": "code",
   "execution_count": 17,
   "id": "b21c3fac-203a-4c6e-b7ae-b0ac1a112665",
   "metadata": {},
   "outputs": [
    {
     "data": {
      "text/html": [
       "<div>\n",
       "<style scoped>\n",
       "    .dataframe tbody tr th:only-of-type {\n",
       "        vertical-align: middle;\n",
       "    }\n",
       "\n",
       "    .dataframe tbody tr th {\n",
       "        vertical-align: top;\n",
       "    }\n",
       "\n",
       "    .dataframe thead th {\n",
       "        text-align: right;\n",
       "    }\n",
       "</style>\n",
       "<table border=\"1\" class=\"dataframe\">\n",
       "  <thead>\n",
       "    <tr style=\"text-align: right;\">\n",
       "      <th></th>\n",
       "      <th>No</th>\n",
       "      <th>Part Number</th>\n",
       "      <th>Check_Url</th>\n",
       "    </tr>\n",
       "  </thead>\n",
       "  <tbody>\n",
       "    <tr>\n",
       "      <th>0</th>\n",
       "      <td>1</td>\n",
       "      <td>RD 10160C</td>\n",
       "      <td>https://uacparts.com/Catalog/SearchIndex?searc...</td>\n",
       "    </tr>\n",
       "  </tbody>\n",
       "</table>\n",
       "</div>"
      ],
      "text/plain": [
       "   No Part Number                                          Check_Url\n",
       "0   1   RD 10160C  https://uacparts.com/Catalog/SearchIndex?searc..."
      ]
     },
     "execution_count": 17,
     "metadata": {},
     "output_type": "execute_result"
    }
   ],
   "source": [
    "if list_series_error:\n",
    "    df_error = pd.DataFrame(list_series_error).sort_values(by=['Part Number'],\n",
    "                                                           ascending=[True],\n",
    "                                                           ignore_index=True)\n",
    "    df_error.to_excel('./test_part_error.xlsx', index=False)\n",
    "\n",
    "df_error"
   ]
  },
  {
   "cell_type": "code",
   "execution_count": null,
   "id": "ba5d9f77-7464-4ad5-a42b-1fa0c0505832",
   "metadata": {},
   "outputs": [],
   "source": []
  }
 ],
 "metadata": {
  "kernelspec": {
   "display_name": "Python 3 (ipykernel)",
   "language": "python",
   "name": "python3"
  },
  "language_info": {
   "codemirror_mode": {
    "name": "ipython",
    "version": 3
   },
   "file_extension": ".py",
   "mimetype": "text/x-python",
   "name": "python",
   "nbconvert_exporter": "python",
   "pygments_lexer": "ipython3",
   "version": "3.12.7"
  }
 },
 "nbformat": 4,
 "nbformat_minor": 5
}
