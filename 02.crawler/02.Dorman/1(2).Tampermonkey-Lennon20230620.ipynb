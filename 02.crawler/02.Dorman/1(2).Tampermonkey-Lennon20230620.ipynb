{
 "cells": [
  {
   "cell_type": "code",
   "execution_count": 1,
   "id": "14ca4672",
   "metadata": {},
   "outputs": [],
   "source": [
    "import os"
   ]
  },
  {
   "cell_type": "code",
   "execution_count": 2,
   "id": "a3369d1a",
   "metadata": {},
   "outputs": [],
   "source": [
    "list_file = list(os.walk('./menu'))[0][2]\n",
    "if '.DS_Store' in list_file:\n",
    "   list_file.remove('.DS_Store')\n",
    "\n",
    "len(list_file)"
   ]
  },
  {
   "cell_type": "code",
   "execution_count": 3,
   "id": "552c5c8c",
   "metadata": {},
   "outputs": [],
   "source": [
    "import pandas as pd"
   ]
  },
  {
   "cell_type": "code",
   "execution_count": 4,
   "id": "19a50da8",
   "metadata": {},
   "outputs": [
    {
     "data": {
      "text/html": [
       "<div>\n",
       "<style scoped>\n",
       "    .dataframe tbody tr th:only-of-type {\n",
       "        vertical-align: middle;\n",
       "    }\n",
       "\n",
       "    .dataframe tbody tr th {\n",
       "        vertical-align: top;\n",
       "    }\n",
       "\n",
       "    .dataframe thead th {\n",
       "        text-align: right;\n",
       "    }\n",
       "</style>\n",
       "<table border=\"1\" class=\"dataframe\">\n",
       "  <thead>\n",
       "    <tr style=\"text-align: right;\">\n",
       "      <th></th>\n",
       "      <th>Part_Number</th>\n",
       "      <th>Part_Type</th>\n",
       "      <th>Application_Summary</th>\n",
       "      <th>Url</th>\n",
       "    </tr>\n",
       "  </thead>\n",
       "  <tbody>\n",
       "  </tbody>\n",
       "</table>\n",
       "</div>"
      ],
      "text/plain": [
       "Empty DataFrame\n",
       "Columns: [Part_Number, Part_Type, Application_Summary, Url]\n",
       "Index: []"
      ]
     },
     "execution_count": 4,
     "metadata": {},
     "output_type": "execute_result"
    }
   ],
   "source": [
    "df = pd.DataFrame(columns=['Part_Number', 'Part_Type', 'Application_Summary', 'Url'])\n",
    "\n",
    "df"
   ]
  },
  {
   "cell_type": "code",
   "execution_count": 5,
   "id": "000d53d7",
   "metadata": {},
   "outputs": [],
   "source": [
    "import json"
   ]
  },
  {
   "cell_type": "code",
   "execution_count": 6,
   "id": "1d3df716",
   "metadata": {},
   "outputs": [
    {
     "name": "stdout",
     "output_type": "stream",
     "text": [
      "www.dormanproducts.com_gsearch.aspx_type=keyword&origin=keyword&q=Park%2520Assist%2520Camera&start=100&num=100.txt\n",
      "www.dormanproducts.com_gsearch.aspx_type=keyword&origin=keyword&q=Park%2520Assist%2520Camera&start=200&num=100.txt\n",
      "www.dormanproducts.com_gsearch.aspx_type=keyword&origin=keyword&q=Park%2520Assist%2520Camera&start=0&num=100.txt\n"
     ]
    }
   ],
   "source": [
    "for file in list_file:\n",
    "    print(file)\n",
    "    with open('./menu/' + file) as f:\n",
    "        list_part = f.read()[1:-1].split('},{')\n",
    "        for i in range(len(list_part)):\n",
    "            if i == 0:\n",
    "                part = json.loads(list_part[i] + '}')\n",
    "            elif i == len(list_part) - 1:\n",
    "                part = json.loads('{' + list_part[i])\n",
    "            else:\n",
    "                part = json.loads('{' + list_part[i] + '}')\n",
    "                \n",
    "            df_temp = pd.DataFrame([{'Part_Number': part['Part_Number'],\n",
    "                                     'Part_Type': part['Part_Type'],\n",
    "                                     'Application_Summary': part['Application_Summary'],\n",
    "                                     'Url': part['Url']}])\n",
    "            df = pd.concat([df, df_temp], ignore_index=True)"
   ]
  },
  {
   "cell_type": "code",
   "execution_count": 7,
   "id": "e7c8e52b",
   "metadata": {},
   "outputs": [
    {
     "data": {
      "text/html": [
       "<div>\n",
       "<style scoped>\n",
       "    .dataframe tbody tr th:only-of-type {\n",
       "        vertical-align: middle;\n",
       "    }\n",
       "\n",
       "    .dataframe tbody tr th {\n",
       "        vertical-align: top;\n",
       "    }\n",
       "\n",
       "    .dataframe thead th {\n",
       "        text-align: right;\n",
       "    }\n",
       "</style>\n",
       "<table border=\"1\" class=\"dataframe\">\n",
       "  <thead>\n",
       "    <tr style=\"text-align: right;\">\n",
       "      <th></th>\n",
       "      <th>Part_Number</th>\n",
       "      <th>Part_Type</th>\n",
       "      <th>Application_Summary</th>\n",
       "      <th>Url</th>\n",
       "    </tr>\n",
       "  </thead>\n",
       "  <tbody>\n",
       "    <tr>\n",
       "      <th>0</th>\n",
       "      <td>590-092</td>\n",
       "      <td>Park Assist Camera</td>\n",
       "      <td>Chevrolet Malibu 2015-13, Chevrolet Malibu Lim...</td>\n",
       "      <td>https://www.dormanproducts.com/p-90138-590-092...</td>\n",
       "    </tr>\n",
       "    <tr>\n",
       "      <th>1</th>\n",
       "      <td>590-070</td>\n",
       "      <td>Park Assist Camera</td>\n",
       "      <td>Chrysler Town &amp; Country 2016-13, Dodge Grand C...</td>\n",
       "      <td>https://www.dormanproducts.com/p-104774-590-07...</td>\n",
       "    </tr>\n",
       "    <tr>\n",
       "      <th>2</th>\n",
       "      <td>590-928</td>\n",
       "      <td>Park Assist Camera</td>\n",
       "      <td>Subaru Legacy 2014-12</td>\n",
       "      <td>https://www.dormanproducts.com/p-101704-590-92...</td>\n",
       "    </tr>\n",
       "    <tr>\n",
       "      <th>3</th>\n",
       "      <td>590-650</td>\n",
       "      <td>Park Assist Camera</td>\n",
       "      <td>Lexus LS460 2009-07, Lexus LS600h 2009-08</td>\n",
       "      <td>https://www.dormanproducts.com/p-103005-590-65...</td>\n",
       "    </tr>\n",
       "    <tr>\n",
       "      <th>4</th>\n",
       "      <td>590-135</td>\n",
       "      <td>Park Assist Camera</td>\n",
       "      <td>Toyota RAV4 2012-09</td>\n",
       "      <td>https://www.dormanproducts.com/p-101713-590-13...</td>\n",
       "    </tr>\n",
       "    <tr>\n",
       "      <th>...</th>\n",
       "      <td>...</td>\n",
       "      <td>...</td>\n",
       "      <td>...</td>\n",
       "      <td>...</td>\n",
       "    </tr>\n",
       "    <tr>\n",
       "      <th>218</th>\n",
       "      <td>590-123</td>\n",
       "      <td>Park Assist Camera</td>\n",
       "      <td>Toyota Camry 2011-09</td>\n",
       "      <td>https://www.dormanproducts.com/p-103723-590-12...</td>\n",
       "    </tr>\n",
       "    <tr>\n",
       "      <th>219</th>\n",
       "      <td>590-415</td>\n",
       "      <td>Park Assist Camera</td>\n",
       "      <td>Ford Edge 2015-13</td>\n",
       "      <td>https://www.dormanproducts.com/p-106589-590-41...</td>\n",
       "    </tr>\n",
       "    <tr>\n",
       "      <th>220</th>\n",
       "      <td>590-451</td>\n",
       "      <td>Park Assist Camera</td>\n",
       "      <td>Honda Element 2010-09</td>\n",
       "      <td>https://www.dormanproducts.com/p-105111-590-45...</td>\n",
       "    </tr>\n",
       "    <tr>\n",
       "      <th>221</th>\n",
       "      <td>590-129</td>\n",
       "      <td>Park Assist Camera</td>\n",
       "      <td>Toyota Highlander 2013-10</td>\n",
       "      <td>https://www.dormanproducts.com/p-96372-590-129...</td>\n",
       "    </tr>\n",
       "    <tr>\n",
       "      <th>222</th>\n",
       "      <td>590-645</td>\n",
       "      <td>Park Assist Camera</td>\n",
       "      <td>Lexus IS F 2014-08, Lexus IS250 2013-06, Lexus...</td>\n",
       "      <td>https://www.dormanproducts.com/p-102540-590-64...</td>\n",
       "    </tr>\n",
       "  </tbody>\n",
       "</table>\n",
       "<p>223 rows × 4 columns</p>\n",
       "</div>"
      ],
      "text/plain": [
       "    Part_Number           Part_Type  \\\n",
       "0       590-092  Park Assist Camera   \n",
       "1       590-070  Park Assist Camera   \n",
       "2       590-928  Park Assist Camera   \n",
       "3       590-650  Park Assist Camera   \n",
       "4       590-135  Park Assist Camera   \n",
       "..          ...                 ...   \n",
       "218     590-123  Park Assist Camera   \n",
       "219     590-415  Park Assist Camera   \n",
       "220     590-451  Park Assist Camera   \n",
       "221     590-129  Park Assist Camera   \n",
       "222     590-645  Park Assist Camera   \n",
       "\n",
       "                                   Application_Summary  \\\n",
       "0    Chevrolet Malibu 2015-13, Chevrolet Malibu Lim...   \n",
       "1    Chrysler Town & Country 2016-13, Dodge Grand C...   \n",
       "2                                Subaru Legacy 2014-12   \n",
       "3            Lexus LS460 2009-07, Lexus LS600h 2009-08   \n",
       "4                                  Toyota RAV4 2012-09   \n",
       "..                                                 ...   \n",
       "218                               Toyota Camry 2011-09   \n",
       "219                                  Ford Edge 2015-13   \n",
       "220                              Honda Element 2010-09   \n",
       "221                          Toyota Highlander 2013-10   \n",
       "222  Lexus IS F 2014-08, Lexus IS250 2013-06, Lexus...   \n",
       "\n",
       "                                                   Url  \n",
       "0    https://www.dormanproducts.com/p-90138-590-092...  \n",
       "1    https://www.dormanproducts.com/p-104774-590-07...  \n",
       "2    https://www.dormanproducts.com/p-101704-590-92...  \n",
       "3    https://www.dormanproducts.com/p-103005-590-65...  \n",
       "4    https://www.dormanproducts.com/p-101713-590-13...  \n",
       "..                                                 ...  \n",
       "218  https://www.dormanproducts.com/p-103723-590-12...  \n",
       "219  https://www.dormanproducts.com/p-106589-590-41...  \n",
       "220  https://www.dormanproducts.com/p-105111-590-45...  \n",
       "221  https://www.dormanproducts.com/p-96372-590-129...  \n",
       "222  https://www.dormanproducts.com/p-102540-590-64...  \n",
       "\n",
       "[223 rows x 4 columns]"
      ]
     },
     "execution_count": 7,
     "metadata": {},
     "output_type": "execute_result"
    }
   ],
   "source": [
    "df.to_excel('./menu.xlsx', index=False)\n",
    "\n",
    "df"
   ]
  },
  {
   "cell_type": "code",
   "execution_count": null,
   "id": "f1b946e9",
   "metadata": {},
   "outputs": [],
   "source": []
  }
 ],
 "metadata": {
  "kernelspec": {
   "display_name": "Python 3 (ipykernel)",
   "language": "python",
   "name": "python3"
  },
  "language_info": {
   "codemirror_mode": {
    "name": "ipython",
    "version": 3
   },
   "file_extension": ".py",
   "mimetype": "text/x-python",
   "name": "python",
   "nbconvert_exporter": "python",
   "pygments_lexer": "ipython3",
   "version": "3.11.3"
  }
 },
 "nbformat": 4,
 "nbformat_minor": 5
}
