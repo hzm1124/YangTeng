{
 "cells": [
  {
   "cell_type": "code",
   "execution_count": 1,
   "id": "443b16ef",
   "metadata": {},
   "outputs": [],
   "source": [
    "import os"
   ]
  },
  {
   "cell_type": "code",
   "execution_count": 2,
   "id": "e1ee23bd",
   "metadata": {},
   "outputs": [
    {
     "data": {
      "text/plain": [
       "1"
      ]
     },
     "execution_count": 2,
     "metadata": {},
     "output_type": "execute_result"
    }
   ],
   "source": [
    "list_file = list(os.walk('./part'))[0][2]\n",
    "if '.DS_Store' in list_file:\n",
    "    list_file.remove('.DS_Store')\n",
    "if '0.null.txt' in list_file:\n",
    "    list_file.remove('0.null.txt')\n",
    "    \n",
    "len(list_file)"
   ]
  },
  {
   "cell_type": "code",
   "execution_count": 3,
   "id": "cacdee29",
   "metadata": {},
   "outputs": [],
   "source": [
    "import pandas as pd"
   ]
  },
  {
   "cell_type": "code",
   "execution_count": 4,
   "id": "ffbee2c2",
   "metadata": {},
   "outputs": [
    {
     "data": {
      "text/html": [
       "<div>\n",
       "<style scoped>\n",
       "    .dataframe tbody tr th:only-of-type {\n",
       "        vertical-align: middle;\n",
       "    }\n",
       "\n",
       "    .dataframe tbody tr th {\n",
       "        vertical-align: top;\n",
       "    }\n",
       "\n",
       "    .dataframe thead th {\n",
       "        text-align: right;\n",
       "    }\n",
       "</style>\n",
       "<table border=\"1\" class=\"dataframe\">\n",
       "  <thead>\n",
       "    <tr style=\"text-align: right;\">\n",
       "      <th></th>\n",
       "    </tr>\n",
       "  </thead>\n",
       "  <tbody>\n",
       "  </tbody>\n",
       "</table>\n",
       "</div>"
      ],
      "text/plain": [
       "Empty DataFrame\n",
       "Columns: []\n",
       "Index: []"
      ]
     },
     "execution_count": 4,
     "metadata": {},
     "output_type": "execute_result"
    }
   ],
   "source": [
    "df = pd.DataFrame()\n",
    "\n",
    "df"
   ]
  },
  {
   "cell_type": "code",
   "execution_count": 5,
   "id": "e4ebde72",
   "metadata": {},
   "outputs": [],
   "source": [
    "from tqdm import tqdm\n",
    "import json"
   ]
  },
  {
   "cell_type": "code",
   "execution_count": 6,
   "id": "bb001936",
   "metadata": {},
   "outputs": [
    {
     "name": "stderr",
     "output_type": "stream",
     "text": [
      "Progress: 100%|███████████████████████████████| 1/1 [00:00<00:00, 492.87it/s]\n"
     ]
    },
    {
     "data": {
      "text/html": [
       "<div>\n",
       "<style scoped>\n",
       "    .dataframe tbody tr th:only-of-type {\n",
       "        vertical-align: middle;\n",
       "    }\n",
       "\n",
       "    .dataframe tbody tr th {\n",
       "        vertical-align: top;\n",
       "    }\n",
       "\n",
       "    .dataframe thead th {\n",
       "        text-align: right;\n",
       "    }\n",
       "</style>\n",
       "<table border=\"1\" class=\"dataframe\">\n",
       "  <thead>\n",
       "    <tr style=\"text-align: right;\">\n",
       "      <th></th>\n",
       "      <th>序号</th>\n",
       "      <th>Part_Type</th>\n",
       "      <th>Part_Number</th>\n",
       "      <th>Title</th>\n",
       "      <th>Application_Summary</th>\n",
       "      <th>Vehicle</th>\n",
       "      <th>OE</th>\n",
       "      <th>Pic</th>\n",
       "      <th>Url</th>\n",
       "      <th>Src</th>\n",
       "      <th>...</th>\n",
       "      <th>package contents</th>\n",
       "      <th>packaged weight</th>\n",
       "      <th>upc</th>\n",
       "      <th>e-waste</th>\n",
       "      <th>warranty</th>\n",
       "      <th>warranty disclaimer</th>\n",
       "      <th>MOUNTING HOLE QUANTITY</th>\n",
       "      <th>MOUNTING TYPE</th>\n",
       "      <th>TERMINAL TYPE</th>\n",
       "      <th>WASHER PUMP INCLUDED</th>\n",
       "    </tr>\n",
       "  </thead>\n",
       "  <tbody>\n",
       "    <tr>\n",
       "      <th>0</th>\n",
       "      <td></td>\n",
       "      <td>Windshield Wiper Motor</td>\n",
       "      <td>40-1095</td>\n",
       "      <td>Windshield Wiper Motor - 40-1095</td>\n",
       "      <td></td>\n",
       "      <td>Saturn Outlook 2007-2010\\nGMC Acadia 2007-2016...</td>\n",
       "      <td>25864152</td>\n",
       "      <td></td>\n",
       "      <td>https://www.cardone.com/product/windshield-wip...</td>\n",
       "      <td>https://cdn11.bigcommerce.com/s-z9vhe3o238/ima...</td>\n",
       "      <td>...</td>\n",
       "      <td>Wiper Motor; Instruction Sheet</td>\n",
       "      <td>2.8000 lb</td>\n",
       "      <td>00082617813082</td>\n",
       "      <td>Yes</td>\n",
       "      <td>1 Year/18,000 Mile</td>\n",
       "      <td>A warranty must be returned to the parts suppl...</td>\n",
       "      <td>2</td>\n",
       "      <td>Grommet</td>\n",
       "      <td>Blade</td>\n",
       "      <td>No</td>\n",
       "    </tr>\n",
       "  </tbody>\n",
       "</table>\n",
       "<p>1 rows × 23 columns</p>\n",
       "</div>"
      ],
      "text/plain": [
       "  序号               Part_Type Part_Number                             Title  \\\n",
       "0     Windshield Wiper Motor     40-1095  Windshield Wiper Motor - 40-1095   \n",
       "\n",
       "  Application_Summary                                            Vehicle  \\\n",
       "0                      Saturn Outlook 2007-2010\\nGMC Acadia 2007-2016...   \n",
       "\n",
       "         OE Pic                                                Url  \\\n",
       "0  25864152      https://www.cardone.com/product/windshield-wip...   \n",
       "\n",
       "                                                 Src  ...  \\\n",
       "0  https://cdn11.bigcommerce.com/s-z9vhe3o238/ima...  ...   \n",
       "\n",
       "                 package contents packaged weight             upc e-waste  \\\n",
       "0  Wiper Motor; Instruction Sheet       2.8000 lb  00082617813082     Yes   \n",
       "\n",
       "             warranty                                warranty disclaimer  \\\n",
       "0  1 Year/18,000 Mile  A warranty must be returned to the parts suppl...   \n",
       "\n",
       "  MOUNTING HOLE QUANTITY MOUNTING TYPE TERMINAL TYPE WASHER PUMP INCLUDED  \n",
       "0                      2       Grommet         Blade                   No  \n",
       "\n",
       "[1 rows x 23 columns]"
      ]
     },
     "execution_count": 6,
     "metadata": {},
     "output_type": "execute_result"
    }
   ],
   "source": [
    "for file in tqdm(list_file, desc='Progress', ncols=77):\n",
    "    with open('./part/' + file, 'r', encoding='UTF-8') as f:\n",
    "        df = pd.concat([df, pd.DataFrame(json.loads(f.read()))], ignore_index=False)\n",
    "\n",
    "df.to_excel('./part.xlsx', index=False)\n",
    "\n",
    "df"
   ]
  },
  {
   "cell_type": "code",
   "execution_count": null,
   "id": "9e180f9f",
   "metadata": {},
   "outputs": [],
   "source": []
  }
 ],
 "metadata": {
  "kernelspec": {
   "display_name": "Python 3 (ipykernel)",
   "language": "python",
   "name": "python3"
  },
  "language_info": {
   "codemirror_mode": {
    "name": "ipython",
    "version": 3
   },
   "file_extension": ".py",
   "mimetype": "text/x-python",
   "name": "python",
   "nbconvert_exporter": "python",
   "pygments_lexer": "ipython3",
   "version": "3.11.3"
  }
 },
 "nbformat": 4,
 "nbformat_minor": 5
}
