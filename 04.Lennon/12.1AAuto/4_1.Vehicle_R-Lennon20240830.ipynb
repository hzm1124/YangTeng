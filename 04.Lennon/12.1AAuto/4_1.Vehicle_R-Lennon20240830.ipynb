{
 "cells": [
  {
   "cell_type": "code",
   "execution_count": 1,
   "id": "ba98551f-b0b1-4c50-8c47-3ad3a3730b73",
   "metadata": {},
   "outputs": [
    {
     "data": {
      "text/plain": [
       "['crawler_1.xlsx',\n",
       " 'crawler_10.xlsx',\n",
       " 'crawler_100.xlsx',\n",
       " 'crawler_101.xlsx',\n",
       " 'crawler_102.xlsx',\n",
       " 'crawler_103.xlsx',\n",
       " 'crawler_104.xlsx',\n",
       " 'crawler_105.xlsx',\n",
       " 'crawler_106.xlsx',\n",
       " 'crawler_107.xlsx',\n",
       " 'crawler_11.xlsx',\n",
       " 'crawler_12.xlsx',\n",
       " 'crawler_13.xlsx',\n",
       " 'crawler_14.xlsx',\n",
       " 'crawler_15.xlsx',\n",
       " 'crawler_16.xlsx',\n",
       " 'crawler_17.xlsx',\n",
       " 'crawler_18.xlsx',\n",
       " 'crawler_19.xlsx',\n",
       " 'crawler_2.xlsx',\n",
       " 'crawler_20.xlsx',\n",
       " 'crawler_21.xlsx',\n",
       " 'crawler_22.xlsx',\n",
       " 'crawler_23.xlsx',\n",
       " 'crawler_24.xlsx',\n",
       " 'crawler_25.xlsx',\n",
       " 'crawler_26.xlsx',\n",
       " 'crawler_27.xlsx',\n",
       " 'crawler_28.xlsx',\n",
       " 'crawler_29.xlsx',\n",
       " 'crawler_3.xlsx',\n",
       " 'crawler_30.xlsx',\n",
       " 'crawler_31.xlsx',\n",
       " 'crawler_32.xlsx',\n",
       " 'crawler_33.xlsx',\n",
       " 'crawler_34.xlsx',\n",
       " 'crawler_35.xlsx',\n",
       " 'crawler_36.xlsx',\n",
       " 'crawler_37.xlsx',\n",
       " 'crawler_38.xlsx',\n",
       " 'crawler_39.xlsx',\n",
       " 'crawler_4.xlsx',\n",
       " 'crawler_40.xlsx',\n",
       " 'crawler_41.xlsx',\n",
       " 'crawler_42.xlsx',\n",
       " 'crawler_43.xlsx',\n",
       " 'crawler_44.xlsx',\n",
       " 'crawler_45.xlsx',\n",
       " 'crawler_46.xlsx',\n",
       " 'crawler_47.xlsx',\n",
       " 'crawler_48.xlsx',\n",
       " 'crawler_49.xlsx',\n",
       " 'crawler_5.xlsx',\n",
       " 'crawler_50.xlsx',\n",
       " 'crawler_51.xlsx',\n",
       " 'crawler_52.xlsx',\n",
       " 'crawler_53.xlsx',\n",
       " 'crawler_54.xlsx',\n",
       " 'crawler_55.xlsx',\n",
       " 'crawler_56.xlsx',\n",
       " 'crawler_57.xlsx',\n",
       " 'crawler_58.xlsx',\n",
       " 'crawler_59.xlsx',\n",
       " 'crawler_6.xlsx',\n",
       " 'crawler_60.xlsx',\n",
       " 'crawler_61.xlsx',\n",
       " 'crawler_62.xlsx',\n",
       " 'crawler_63.xlsx',\n",
       " 'crawler_64.xlsx',\n",
       " 'crawler_65.xlsx',\n",
       " 'crawler_66.xlsx',\n",
       " 'crawler_67.xlsx',\n",
       " 'crawler_68.xlsx',\n",
       " 'crawler_69.xlsx',\n",
       " 'crawler_7.xlsx',\n",
       " 'crawler_70.xlsx',\n",
       " 'crawler_71.xlsx',\n",
       " 'crawler_72.xlsx',\n",
       " 'crawler_73.xlsx',\n",
       " 'crawler_74.xlsx',\n",
       " 'crawler_75.xlsx',\n",
       " 'crawler_76.xlsx',\n",
       " 'crawler_77.xlsx',\n",
       " 'crawler_78.xlsx',\n",
       " 'crawler_79.xlsx',\n",
       " 'crawler_8.xlsx',\n",
       " 'crawler_80.xlsx',\n",
       " 'crawler_81.xlsx',\n",
       " 'crawler_82.xlsx',\n",
       " 'crawler_83.xlsx',\n",
       " 'crawler_84.xlsx',\n",
       " 'crawler_85.xlsx',\n",
       " 'crawler_86.xlsx',\n",
       " 'crawler_87.xlsx',\n",
       " 'crawler_88.xlsx',\n",
       " 'crawler_89.xlsx',\n",
       " 'crawler_9.xlsx',\n",
       " 'crawler_90.xlsx',\n",
       " 'crawler_91.xlsx',\n",
       " 'crawler_92.xlsx',\n",
       " 'crawler_93.xlsx',\n",
       " 'crawler_94.xlsx',\n",
       " 'crawler_95.xlsx',\n",
       " 'crawler_96.xlsx',\n",
       " 'crawler_97.xlsx',\n",
       " 'crawler_98.xlsx',\n",
       " 'crawler_99.xlsx']"
      ]
     },
     "execution_count": 1,
     "metadata": {},
     "output_type": "execute_result"
    }
   ],
   "source": [
    "import os\n",
    "\n",
    "list_file = sorted(list(os.walk('./file/3.part'))[0][2])\n",
    "while '.DS_Store' in list_file:\n",
    "    list_file.remove('.DS_Store')\n",
    "while '0.null.txt' in list_file:\n",
    "    list_file.remove('0.null.txt')\n",
    "\n",
    "list_file"
   ]
  },
  {
   "cell_type": "code",
   "execution_count": 2,
   "id": "9b75b948-9701-432e-a5ef-88d0e629bd2c",
   "metadata": {},
   "outputs": [
    {
     "data": {
      "text/plain": [
       "'crawler_1.xlsx'"
      ]
     },
     "execution_count": 2,
     "metadata": {},
     "output_type": "execute_result"
    }
   ],
   "source": [
    "file = list_file[0]\n",
    "\n",
    "file"
   ]
  },
  {
   "cell_type": "code",
   "execution_count": 3,
   "id": "76ea49e2-7cc6-4bc1-af5b-7a6768eb6c08",
   "metadata": {},
   "outputs": [],
   "source": [
    "import pandas as pd\n",
    "\n",
    "output_correct, output_error = pd.DataFrame(), pd.DataFrame()"
   ]
  },
  {
   "cell_type": "code",
   "execution_count": 4,
   "id": "5d22fc26-a390-442a-bfe3-4d409c33f1e7",
   "metadata": {
    "scrolled": true
   },
   "outputs": [
    {
     "name": "stdout",
     "output_type": "stream",
     "text": [
      "总数量：6\n"
     ]
    },
    {
     "data": {
      "text/plain": [
       "['1ATSH00013',\n",
       " '1ATSH00014',\n",
       " '1ATSH00012',\n",
       " '1ATSH00015',\n",
       " '1ATSH00018',\n",
       " '1ATSH00019']"
      ]
     },
     "execution_count": 4,
     "metadata": {},
     "output_type": "execute_result"
    }
   ],
   "source": [
    "input_ = pd.read_excel(f'./file/3.part/{file}',\n",
    "                       header=0,\n",
    "                       dtype=str).fillna('')\n",
    "\n",
    "input_['No'] = input_['No'].astype(int)\n",
    "\n",
    "print(f'总数量：{len(input_)}')\n",
    "input_['Part Number'].tolist()"
   ]
  },
  {
   "cell_type": "code",
   "execution_count": 5,
   "id": "5878a9f0-d639-4123-b6e0-bc564f72c2d6",
   "metadata": {},
   "outputs": [
    {
     "data": {
      "text/plain": [
       "0"
      ]
     },
     "execution_count": 5,
     "metadata": {},
     "output_type": "execute_result"
    }
   ],
   "source": [
    "a = 0\n",
    "\n",
    "a"
   ]
  },
  {
   "cell_type": "code",
   "execution_count": 6,
   "id": "9f61dd65-55da-4d0b-ba30-d0534eff0781",
   "metadata": {},
   "outputs": [
    {
     "data": {
      "text/plain": [
       "'error'"
      ]
     },
     "execution_count": 6,
     "metadata": {},
     "output_type": "execute_result"
    }
   ],
   "source": [
    "crawler_status = 'error'\n",
    "\n",
    "crawler_status"
   ]
  },
  {
   "cell_type": "code",
   "execution_count": 7,
   "id": "ad99bc86-6e80-4fcf-8200-736dc5101097",
   "metadata": {
    "scrolled": true
   },
   "outputs": [
    {
     "name": "stdout",
     "output_type": "stream",
     "text": [
      "1\n"
     ]
    },
    {
     "data": {
      "text/plain": [
       "<Response [200]>"
      ]
     },
     "execution_count": 7,
     "metadata": {},
     "output_type": "execute_result"
    }
   ],
   "source": [
    "import requests\n",
    "\n",
    "import sys\n",
    "sys.path.append('../00.Tools')\n",
    "from crawler_configuration import get_header, get_proxy\n",
    "\n",
    "b = 0\n",
    "while True:\n",
    "    b += 1\n",
    "    print(b)\n",
    "    try:\n",
    "        resp = requests.get(f'''https://www.1aauto.com/catalog/product/fit?skuId={input_.loc[a, 'Part Code']}&pathName={input_.loc[a, 'Url'].removeprefix('https://www.1aauto.com').replace('/', '%2F')}''',\n",
    "                            headers=get_header(),\n",
    "                            proxies=get_proxy(),\n",
    "                            timeout=(10, 10))\n",
    "\n",
    "        if resp.status_code == 200:\n",
    "            break\n",
    "    except KeyboardInterrupt:\n",
    "        break\n",
    "    except:\n",
    "        continue\n",
    "\n",
    "resp"
   ]
  },
  {
   "cell_type": "code",
   "execution_count": 8,
   "id": "c12dd4a6-adff-40a6-89b0-030c9499fde8",
   "metadata": {
    "scrolled": true
   },
   "outputs": [
    {
     "name": "stdout",
     "output_type": "stream",
     "text": [
      "<html>\n",
      " <body>\n",
      "  <div id=\"product-fit-tab\">\n",
      "   <hr class=\"hr\"/>\n",
      "   <div class=\"available-makes fitDropdown\" id=\"available-makes\">\n",
      "    <h2>\n",
      "     Fits these Makes\n",
      "    </h2>\n",
      "    <div class=\"available-makes-list expanderContainer fitContainer\" id=\"available-makes-list\">\n",
      "     <div class=\"fit-makes-filter filter\" data-filter-target=\".fitTable\" id=\"fit-makes-filter\">\n",
      "      <div class=\"floating-label-input-container\">\n",
      "       <div class=\"oneaDropdown\" id=\"make-list\">\n",
      "        <span class=\"floating-label d-none\">\n",
      "         Select vehicle\n",
      "        </span>\n",
      "        <button class=\"dropdown-toggle\">\n",
      "        </button>\n",
      "        <svg class=\"bi bi-triangle-fill svg-triangle\" fill=\"none\" height=\"5\" viewbox=\"0 0 10 5\" width=\"10\" xmlns=\"http://www.w3.org/2000/svg\">\n",
      "         <path d=\"M5 4.5L0.5 0H9.5L5 4.5Z\" fill=\"#333333\">\n",
      "         </path>\n",
      "        </svg>\n",
      "        <ul class=\"oneaDropdownMenu\">\n",
      "        </ul>\n",
      "       </div>\n",
      "      </div>\n",
      "     </div>\n",
      "     <div class=\"expander-container-button\">\n",
      "      <button class=\"expanderSwitch closed expander-switch btn btn-link d-none\" data-expander-container=\"#fit-makes-filter\">\n",
      "       view more\n",
      "      </button>\n",
      "     </div>\n",
      "    </div>\n",
      "   </div>\n",
      "   <div class=\"vehicle-fit cf\">\n",
      "    <div class=\"fitTable-area\">\n",
      "     <input class=\"isTableSorted\" type=\"hidden\" value=\"false\"/>\n",
      "    </div>\n",
      "   </div>\n",
      "  </div>\n",
      " </body>\n",
      "</html>\n",
      "\n"
     ]
    }
   ],
   "source": [
    "from bs4 import BeautifulSoup\n",
    "from lxml import etree\n",
    "\n",
    "soup = BeautifulSoup(resp.text, 'lxml')\n",
    "html = etree.HTML(str(soup))\n",
    "\n",
    "with open('./vehicle.html', 'w', encoding='UTF-8') as file:\n",
    "    file.write(str(soup))\n",
    "\n",
    "print(soup.prettify())"
   ]
  },
  {
   "cell_type": "code",
   "execution_count": 9,
   "id": "a87e802f-7278-44ff-9ee5-37338a1c82d8",
   "metadata": {},
   "outputs": [
    {
     "data": {
      "text/plain": [
       "[]"
      ]
     },
     "execution_count": 9,
     "metadata": {},
     "output_type": "execute_result"
    }
   ],
   "source": [
    "list_th = [text.strip() for text in html.xpath('//table[@class=\"fitTable sortableTable onea-table\"]/thead/tr/th/text()')]\n",
    "\n",
    "list_th"
   ]
  },
  {
   "cell_type": "code",
   "execution_count": 10,
   "id": "5a0565c9-ea57-4e82-a4f6-6a463424e84f",
   "metadata": {
    "scrolled": true
   },
   "outputs": [
    {
     "data": {
      "text/plain": [
       "[]"
      ]
     },
     "execution_count": 10,
     "metadata": {},
     "output_type": "execute_result"
    }
   ],
   "source": [
    "list_td = [[text.strip() for text in tr.xpath('./td/text()')] for tr in html.xpath('//table[@class=\"fitTable sortableTable onea-table\"]/tbody/tr')]\n",
    "\n",
    "list_td"
   ]
  },
  {
   "cell_type": "code",
   "execution_count": 11,
   "id": "2671fc3b-8b89-4d5c-ac60-25edef893180",
   "metadata": {},
   "outputs": [
    {
     "data": {
      "text/plain": [
       "''"
      ]
     },
     "execution_count": 11,
     "metadata": {},
     "output_type": "execute_result"
    }
   ],
   "source": [
    "list_oem = [text.strip() for text in html.xpath('//table[@id=\"interchange-codes-table\"]/tbody/tr/td[2]/text()')]\n",
    "oem = ';'.join(sorted(list(set(list_oem)), key=list_oem.index))\n",
    "\n",
    "oem"
   ]
  },
  {
   "cell_type": "code",
   "execution_count": 12,
   "id": "b051ec06-e8f7-47f0-bb3f-7c2a7650f532",
   "metadata": {
    "scrolled": true
   },
   "outputs": [
    {
     "data": {
      "text/html": [
       "<div>\n",
       "<style scoped>\n",
       "    .dataframe tbody tr th:only-of-type {\n",
       "        vertical-align: middle;\n",
       "    }\n",
       "\n",
       "    .dataframe tbody tr th {\n",
       "        vertical-align: top;\n",
       "    }\n",
       "\n",
       "    .dataframe thead th {\n",
       "        text-align: right;\n",
       "    }\n",
       "</style>\n",
       "<table border=\"1\" class=\"dataframe\">\n",
       "  <thead>\n",
       "    <tr style=\"text-align: right;\">\n",
       "      <th></th>\n",
       "      <th>OEM</th>\n",
       "      <th>No</th>\n",
       "      <th>Url</th>\n",
       "    </tr>\n",
       "  </thead>\n",
       "  <tbody>\n",
       "  </tbody>\n",
       "</table>\n",
       "</div>"
      ],
      "text/plain": [
       "Empty DataFrame\n",
       "Columns: [OEM, No, Url]\n",
       "Index: []"
      ]
     },
     "execution_count": 12,
     "metadata": {},
     "output_type": "execute_result"
    }
   ],
   "source": [
    "df_temp = pd.DataFrame(list_td, columns=list_th)\n",
    "df_temp['OEM'] = oem\n",
    "df_temp['No'] = input_.loc[a, 'No']\n",
    "df_temp['Url'] = input_.loc[a, 'Url']\n",
    "\n",
    "output_correct = pd.concat([output_correct, df_temp], ignore_index=True).fillna('')\n",
    "\n",
    "output_correct"
   ]
  },
  {
   "cell_type": "code",
   "execution_count": 13,
   "id": "fc4ed7f6-ed4f-431c-b944-b1690309cdae",
   "metadata": {},
   "outputs": [
    {
     "data": {
      "text/plain": [
       "'ok'"
      ]
     },
     "execution_count": 13,
     "metadata": {},
     "output_type": "execute_result"
    }
   ],
   "source": [
    "crawler_status = 'ok'\n",
    "\n",
    "crawler_status"
   ]
  },
  {
   "cell_type": "code",
   "execution_count": 14,
   "id": "65c745d1-446e-46c5-9dec-819c9f7944d3",
   "metadata": {},
   "outputs": [
    {
     "data": {
      "text/html": [
       "<div>\n",
       "<style scoped>\n",
       "    .dataframe tbody tr th:only-of-type {\n",
       "        vertical-align: middle;\n",
       "    }\n",
       "\n",
       "    .dataframe tbody tr th {\n",
       "        vertical-align: top;\n",
       "    }\n",
       "\n",
       "    .dataframe thead th {\n",
       "        text-align: right;\n",
       "    }\n",
       "</style>\n",
       "<table border=\"1\" class=\"dataframe\">\n",
       "  <thead>\n",
       "    <tr style=\"text-align: right;\">\n",
       "      <th></th>\n",
       "    </tr>\n",
       "  </thead>\n",
       "  <tbody>\n",
       "  </tbody>\n",
       "</table>\n",
       "</div>"
      ],
      "text/plain": [
       "Empty DataFrame\n",
       "Columns: []\n",
       "Index: []"
      ]
     },
     "execution_count": 14,
     "metadata": {},
     "output_type": "execute_result"
    }
   ],
   "source": [
    "if crawler_status == 'error':\n",
    "    output_error = pd.concat([output_error, pd.DataFrame([input_.iloc[a]]).reset_index(drop=True)], ignore_index=True).fillna('')\n",
    "\n",
    "output_error"
   ]
  },
  {
   "cell_type": "code",
   "execution_count": 15,
   "id": "7fd477de",
   "metadata": {
    "scrolled": true
   },
   "outputs": [
    {
     "data": {
      "text/html": [
       "<div>\n",
       "<style scoped>\n",
       "    .dataframe tbody tr th:only-of-type {\n",
       "        vertical-align: middle;\n",
       "    }\n",
       "\n",
       "    .dataframe tbody tr th {\n",
       "        vertical-align: top;\n",
       "    }\n",
       "\n",
       "    .dataframe thead th {\n",
       "        text-align: right;\n",
       "    }\n",
       "</style>\n",
       "<table border=\"1\" class=\"dataframe\">\n",
       "  <thead>\n",
       "    <tr style=\"text-align: right;\">\n",
       "      <th></th>\n",
       "      <th>OEM</th>\n",
       "      <th>No</th>\n",
       "      <th>Url</th>\n",
       "    </tr>\n",
       "  </thead>\n",
       "  <tbody>\n",
       "  </tbody>\n",
       "</table>\n",
       "</div>"
      ],
      "text/plain": [
       "Empty DataFrame\n",
       "Columns: [OEM, No, Url]\n",
       "Index: []"
      ]
     },
     "execution_count": 15,
     "metadata": {},
     "output_type": "execute_result"
    }
   ],
   "source": [
    "if not output_correct.empty:\n",
    "    output_correct = output_correct.sort_values(by=['No', 'Make', 'Model', 'Year'],\n",
    "                                                ascending=[True, True, True, True],\n",
    "                                                ignore_index=True)\n",
    "    output_correct.to_excel('./test_vehicle.xlsx', index=False)\n",
    "\n",
    "output_correct"
   ]
  },
  {
   "cell_type": "code",
   "execution_count": 16,
   "id": "39a5441b-7f69-4812-aad8-7e10a1a24e78",
   "metadata": {},
   "outputs": [
    {
     "data": {
      "text/html": [
       "<div>\n",
       "<style scoped>\n",
       "    .dataframe tbody tr th:only-of-type {\n",
       "        vertical-align: middle;\n",
       "    }\n",
       "\n",
       "    .dataframe tbody tr th {\n",
       "        vertical-align: top;\n",
       "    }\n",
       "\n",
       "    .dataframe thead th {\n",
       "        text-align: right;\n",
       "    }\n",
       "</style>\n",
       "<table border=\"1\" class=\"dataframe\">\n",
       "  <thead>\n",
       "    <tr style=\"text-align: right;\">\n",
       "      <th></th>\n",
       "    </tr>\n",
       "  </thead>\n",
       "  <tbody>\n",
       "  </tbody>\n",
       "</table>\n",
       "</div>"
      ],
      "text/plain": [
       "Empty DataFrame\n",
       "Columns: []\n",
       "Index: []"
      ]
     },
     "execution_count": 16,
     "metadata": {},
     "output_type": "execute_result"
    }
   ],
   "source": [
    "if not output_error.empty:\n",
    "    output_error = output_error.sort_values(by=['No'],\n",
    "                                            ascending=[True],\n",
    "                                            ignore_index=True)\n",
    "    output_error.to_excel('./test_vehicle_error.xlsx', index=False)\n",
    "\n",
    "output_error"
   ]
  },
  {
   "cell_type": "code",
   "execution_count": null,
   "id": "ba5d9f77-7464-4ad5-a42b-1fa0c0505832",
   "metadata": {},
   "outputs": [],
   "source": []
  }
 ],
 "metadata": {
  "kernelspec": {
   "display_name": "Python 3 (ipykernel)",
   "language": "python",
   "name": "python3"
  },
  "language_info": {
   "codemirror_mode": {
    "name": "ipython",
    "version": 3
   },
   "file_extension": ".py",
   "mimetype": "text/x-python",
   "name": "python",
   "nbconvert_exporter": "python",
   "pygments_lexer": "ipython3",
   "version": "3.11.3"
  }
 },
 "nbformat": 4,
 "nbformat_minor": 5
}
