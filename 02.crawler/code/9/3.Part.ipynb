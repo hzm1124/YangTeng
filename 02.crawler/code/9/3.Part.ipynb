{
 "cells": [
  {
   "cell_type": "code",
   "execution_count": 1,
   "id": "98633792-9e28-4634-b526-b6a0c954c668",
   "metadata": {},
   "outputs": [
    {
     "data": {
      "text/plain": [
       "{'home': 'https://www.4s.com/en/ecatalog?part=HVAC+door+actuator&type=p&search=s',\n",
       " 'sku_count': 622,\n",
       " 'page_count': 7,\n",
       " 'page': 1,\n",
       " 'page_url': 'https://ecatalog.smpcorp.com/v2/fs/api/part/partsearch?filter=HVAC+door+actuator&filterType=s&searchType=p&start=0&limit=96&sort=3&catFilter=-All-&attrValueFilter=-All-',\n",
       " 'no': 1,\n",
       " 'url': 'https://www.4s.com/en/ecatalog?part=37530&type=p&search=s',\n",
       " 'brand': 'FS',\n",
       " 'part_number': '37530',\n",
       " 'part_url': 'https://ecatalog.smpcorp.com/v2/fs/api/part/partselect?part=37530&func=PART',\n",
       " 'src_url': 'https://ecatalog.smpcorp.com/v2/fs/api/image/getallimages?partNum=37530&brand=FS&zoomFactor_sm=75&zoomFactor_md=360&zoomFactor_bg=960',\n",
       " 'description_1': 'HVAC Air Door Actuator',\n",
       " 'description_2': 'HVAC Air Door Actuator',\n",
       " 'pop': 'AA',\n",
       " 'per_car': 1}"
      ]
     },
     "execution_count": 1,
     "metadata": {},
     "output_type": "execute_result"
    }
   ],
   "source": [
    "item = {'home': 'https://www.4s.com/en/ecatalog?part=HVAC+door+actuator&type=p&search=s',\n",
    " 'sku_count': 622,\n",
    " 'page_count': 7,\n",
    " 'page': 1,\n",
    " 'page_url': 'https://ecatalog.smpcorp.com/v2/fs/api/part/partsearch?filter=HVAC+door+actuator&filterType=s&searchType=p&start=0&limit=96&sort=3&catFilter=-All-&attrValueFilter=-All-',\n",
    " 'no': 1,\n",
    " 'url': 'https://www.4s.com/en/ecatalog?part=37530&type=p&search=s',\n",
    " 'brand': 'FS',\n",
    " 'part_number': '37530',\n",
    " 'part_url': 'https://ecatalog.smpcorp.com/v2/fs/api/part/partselect?part=37530&func=PART',\n",
    " 'src_url': 'https://ecatalog.smpcorp.com/v2/fs/api/image/getallimages?partNum=37530&brand=FS&zoomFactor_sm=75&zoomFactor_md=360&zoomFactor_bg=960',\n",
    " 'description_1': 'HVAC Air Door Actuator',\n",
    " 'description_2': 'HVAC Air Door Actuator',\n",
    " 'pop': 'AA',\n",
    " 'per_car': 1}\n",
    "\n",
    "item"
   ]
  },
  {
   "cell_type": "code",
   "execution_count": 2,
   "id": "1bc8d2f8-3da4-4739-aa3f-5d17d2f20302",
   "metadata": {},
   "outputs": [],
   "source": [
    "import requests\n",
    "\n",
    "import sys\n",
    "sys.path.append('../00.Tools')\n",
    "from configuration import generate_header, generate_proxy"
   ]
  },
  {
   "cell_type": "code",
   "execution_count": 3,
   "id": "e3eb5951-a6ea-4787-8235-16ab39cfce58",
   "metadata": {},
   "outputs": [
    {
     "data": {
      "text/plain": [
       "200"
      ]
     },
     "execution_count": 3,
     "metadata": {},
     "output_type": "execute_result"
    }
   ],
   "source": [
    "response = requests.get(item['part_url'],\n",
    "                        headers=generate_header(),\n",
    "                        proxies=generate_proxy(),\n",
    "                        timeout=(10, 15),\n",
    "                        allow_redirects=False)\n",
    "\n",
    "response.status_code"
   ]
  },
  {
   "cell_type": "code",
   "execution_count": 4,
   "id": "de46f86f-66c4-42cf-9717-e78a1d0acfbc",
   "metadata": {
    "scrolled": true
   },
   "outputs": [
    {
     "data": {
      "text/plain": [
       "{'pd': {'rowId': 1,\n",
       "  'site': 'FS',\n",
       "  'webBase': '37530',\n",
       "  'brand': 'FS',\n",
       "  'basePart': '37530',\n",
       "  'partDesc_en': 'HVAC Air Door Actuator',\n",
       "  'partLongDesc_en': 'HVAC Air Door Actuator',\n",
       "  'pop': 'AA',\n",
       "  'partComment': None,\n",
       "  'qtyEach': 1,\n",
       "  'webColumn_Id': None,\n",
       "  'categoryName_en': None,\n",
       "  'vehicleId': None,\n",
       "  'mfg': None,\n",
       "  'mfG_Part': None,\n",
       "  'maxRows': 1,\n",
       "  'brandLink': None,\n",
       "  'imageUrl': None},\n",
       " 'pp': {'buyersGuides': [{'basePart': '37530',\n",
       "    'buyersGuideId': 16542,\n",
       "    'buyersGuideDesc': 'Buick Allure (10-05)'},\n",
       "   {'basePart': '37530',\n",
       "    'buyersGuideId': 11322,\n",
       "    'buyersGuideDesc': 'Buick LaCrosse (09-05)'},\n",
       "   {'basePart': '37530',\n",
       "    'buyersGuideId': 48542,\n",
       "    'buyersGuideDesc': 'Cadillac XLR (09-04)'},\n",
       "   {'basePart': '37530',\n",
       "    'buyersGuideId': 3534,\n",
       "    'buyersGuideDesc': 'Chevrolet Corvette (13-05)'},\n",
       "   {'basePart': '37530',\n",
       "    'buyersGuideId': 21963,\n",
       "    'buyersGuideDesc': 'Chevrolet Impala (13-04)'},\n",
       "   {'basePart': '37530',\n",
       "    'buyersGuideId': 44609,\n",
       "    'buyersGuideDesc': 'Chevrolet Impala Limited (16-14)'},\n",
       "   {'basePart': '37530',\n",
       "    'buyersGuideId': 27434,\n",
       "    'buyersGuideDesc': 'Chevrolet Malibu (08-04)'},\n",
       "   {'basePart': '37530',\n",
       "    'buyersGuideId': 35691,\n",
       "    'buyersGuideDesc': 'Chevrolet Monte Carlo (07-04)'},\n",
       "   {'basePart': '37530',\n",
       "    'buyersGuideId': 21462,\n",
       "    'buyersGuideDesc': 'Chevrolet Vectra (08-04)'},\n",
       "   {'basePart': '37530',\n",
       "    'buyersGuideId': 27048,\n",
       "    'buyersGuideDesc': 'Pontiac Grand Prix (08-04)'}],\n",
       "  'partSpecs': [{'attributeCode': '1113',\n",
       "    'attributeValue': 3325,\n",
       "    'attributeSort': 0,\n",
       "    'attributeName_en': 'Door Linkage',\n",
       "    'siteValue_en': 'Female'},\n",
       "   {'attributeCode': '1118',\n",
       "    'attributeValue': 460,\n",
       "    'attributeSort': 0,\n",
       "    'attributeName_en': 'Mounting Ear Qty.',\n",
       "    'siteValue_en': '3'},\n",
       "   {'attributeCode': '1120',\n",
       "    'attributeValue': 2028,\n",
       "    'attributeSort': 0,\n",
       "    'attributeName_en': 'Terminal Pin Qty.',\n",
       "    'siteValue_en': '2'},\n",
       "   {'attributeCode': '116',\n",
       "    'attributeValue': 23606,\n",
       "    'attributeSort': 0,\n",
       "    'attributeName_en': 'Description',\n",
       "    'siteValue_en': 'HVAC Air Door Actuator'},\n",
       "   {'attributeCode': '1452',\n",
       "    'attributeValue': 26845,\n",
       "    'attributeSort': 0,\n",
       "    'attributeName_en': 'Warranty',\n",
       "    'siteValue_en': '120 days'},\n",
       "   {'attributeCode': '1518',\n",
       "    'attributeValue': 9518,\n",
       "    'attributeSort': 0,\n",
       "    'attributeName_en': 'Depth IN',\n",
       "    'siteValue_en': '1.25'},\n",
       "   {'attributeCode': '1538',\n",
       "    'attributeValue': 9605,\n",
       "    'attributeSort': 0,\n",
       "    'attributeName_en': 'Width IN',\n",
       "    'siteValue_en': '2.75'},\n",
       "   {'attributeCode': '1563',\n",
       "    'attributeValue': 26140,\n",
       "    'attributeSort': 0,\n",
       "    'attributeName_en': 'Height MM',\n",
       "    'siteValue_en': '83'},\n",
       "   {'attributeCode': '1605',\n",
       "    'attributeValue': 22207,\n",
       "    'attributeSort': 0,\n",
       "    'attributeName_en': 'Width MM',\n",
       "    'siteValue_en': '70'},\n",
       "   {'attributeCode': '1707',\n",
       "    'attributeValue': 9326,\n",
       "    'attributeSort': 0,\n",
       "    'attributeName_en': 'Height IN',\n",
       "    'siteValue_en': '3.25'},\n",
       "   {'attributeCode': '1738',\n",
       "    'attributeValue': 3545,\n",
       "    'attributeSort': 0,\n",
       "    'attributeName_en': 'Depth MM',\n",
       "    'siteValue_en': '32'},\n",
       "   {'attributeCode': '512',\n",
       "    'attributeValue': 23606,\n",
       "    'attributeSort': 0,\n",
       "    'attributeName_en': 'Style',\n",
       "    'siteValue_en': 'HVAC Air Door Actuator'},\n",
       "   {'attributeCode': '546',\n",
       "    'attributeValue': 8960,\n",
       "    'attributeSort': 0,\n",
       "    'attributeName_en': 'Terminal Gender',\n",
       "    'siteValue_en': 'Male'},\n",
       "   {'attributeCode': '571',\n",
       "    'attributeValue': 23606,\n",
       "    'attributeSort': 0,\n",
       "    'attributeName_en': 'Type',\n",
       "    'siteValue_en': 'HVAC Air Door Actuator'},\n",
       "   {'attributeCode': '577',\n",
       "    'attributeValue': 651,\n",
       "    'attributeSort': 0,\n",
       "    'attributeName_en': 'Voltage',\n",
       "    'siteValue_en': '12'},\n",
       "   {'attributeCode': '595',\n",
       "    'attributeValue': 10082,\n",
       "    'attributeSort': 0,\n",
       "    'attributeName_en': 'Wire Quantity',\n",
       "    'siteValue_en': 'N/A'},\n",
       "   {'attributeCode': '95',\n",
       "    'attributeValue': 3325,\n",
       "    'attributeSort': 0,\n",
       "    'attributeName_en': 'Connector Gender',\n",
       "    'siteValue_en': 'Female'},\n",
       "   {'attributeCode': '98',\n",
       "    'attributeValue': 27732,\n",
       "    'attributeSort': 0,\n",
       "    'attributeName_en': 'Connector Shape',\n",
       "    'siteValue_en': 'Rectangular'}],\n",
       "  'imageUrls': [],\n",
       "  'relatedParts': [],\n",
       "  'relatedCategories': None,\n",
       "  'fandB': [{'basePart': '37530',\n",
       "    'fbId': '8177',\n",
       "    'fbDesc': 'Our products are engineered and tested to provide years of trouble free operation.  Backed by over 50 years of mobile a/c experience, fix it once and fix it right with Four Seasons.',\n",
       "    'taB_Type': 'F&B Heading',\n",
       "    'assetSort': 1,\n",
       "    'digiSort': 0},\n",
       "   {'basePart': '37530',\n",
       "    'fbId': '195871',\n",
       "    'fbDesc': 'Meets or exceeds OE specifications for fit and function',\n",
       "    'taB_Type': 'F&B Details',\n",
       "    'assetSort': 8,\n",
       "    'digiSort': 1},\n",
       "   {'basePart': '37530',\n",
       "    'fbId': '291894',\n",
       "    'fbDesc': 'Includes: lever arm, gear, cam gear hardware and linkage as applicable',\n",
       "    'taB_Type': 'F&B Details',\n",
       "    'assetSort': 8,\n",
       "    'digiSort': 2},\n",
       "   {'basePart': '37530',\n",
       "    'fbId': '195872',\n",
       "    'fbDesc': 'Quality internal motor, drive gears, electronics and connections',\n",
       "    'taB_Type': 'F&B Details',\n",
       "    'assetSort': 8,\n",
       "    'digiSort': 3},\n",
       "   {'basePart': '37530',\n",
       "    'fbId': '195873',\n",
       "    'fbDesc': 'Tested for function, durability and longevity',\n",
       "    'taB_Type': 'F&B Details',\n",
       "    'assetSort': 8,\n",
       "    'digiSort': 4}],\n",
       "  'digiAssests': [{'asset_ID': 3,\n",
       "    'assetName': 'Bulletins',\n",
       "    'basePart': '37530',\n",
       "    'fileName': '2022_Air Door Actuator Kits_Flyer.pdf',\n",
       "    'fileURL': 'http://eaccess.smpcorp.com/eCatalogs/Downloads/FS/2022_Air Door Actuator Kits_Flyer.pdf',\n",
       "    'comment_ID': '195667',\n",
       "    'comment': 'HVAC Air Door Actuators',\n",
       "    'assetSort': 3,\n",
       "    'digiSort': 0,\n",
       "    'videoImage': None},\n",
       "   {'asset_ID': 7,\n",
       "    'assetName': 'Videos',\n",
       "    'basePart': '37530',\n",
       "    'fileName': 'Impact of Airflow on HVAC Performance',\n",
       "    'fileURL': 'https://youtube.com/embed/l-dfJQONdy8',\n",
       "    'comment_ID': '138880',\n",
       "    'comment': 'Impact of Airflow on HVAC Performance',\n",
       "    'assetSort': 7,\n",
       "    'digiSort': 0,\n",
       "    'videoImage': None},\n",
       "   {'asset_ID': 7,\n",
       "    'assetName': 'Videos',\n",
       "    'basePart': '37530',\n",
       "    'fileName': 'SMP Engineering',\n",
       "    'fileURL': 'http://youtube.com/embed/z33qr7b3MWU',\n",
       "    'comment_ID': '138882',\n",
       "    'comment': 'SMP Engineering',\n",
       "    'assetSort': 7,\n",
       "    'digiSort': 0,\n",
       "    'videoImage': None},\n",
       "   {'asset_ID': 7,\n",
       "    'assetName': 'Videos',\n",
       "    'basePart': '37530',\n",
       "    'fileName': 'SMP Facilities',\n",
       "    'fileURL': 'https://youtube.com/embed/LMncDliQK_4',\n",
       "    'comment_ID': '138883',\n",
       "    'comment': 'SMP Facilities',\n",
       "    'assetSort': 7,\n",
       "    'digiSort': 0,\n",
       "    'videoImage': None},\n",
       "   {'asset_ID': 7,\n",
       "    'assetName': 'Videos',\n",
       "    'basePart': '37530',\n",
       "    'fileName': 'SMP Facilities (Quick Tour)',\n",
       "    'fileURL': 'https://youtube.com/embed/mGxHhNBSvjA',\n",
       "    'comment_ID': '138884',\n",
       "    'comment': 'SMP Facilities (Quick Tour)',\n",
       "    'assetSort': 7,\n",
       "    'digiSort': 0,\n",
       "    'videoImage': None},\n",
       "   {'asset_ID': 7,\n",
       "    'assetName': 'Videos',\n",
       "    'basePart': '37530',\n",
       "    'fileName': 'Temp Testing TXV System ',\n",
       "    'fileURL': 'https://youtube.com/embed/wF37ihNBXq8',\n",
       "    'comment_ID': '138887',\n",
       "    'comment': 'Temp Testing TXV System ',\n",
       "    'assetSort': 7,\n",
       "    'digiSort': 0,\n",
       "    'videoImage': None},\n",
       "   {'asset_ID': 7,\n",
       "    'assetName': 'Videos',\n",
       "    'basePart': '37530',\n",
       "    'fileName': 'SMP Mobile Parts App 3.0',\n",
       "    'fileURL': 'https://www.youtube.com/watch?v=HvA2lY15M28',\n",
       "    'comment_ID': '304016',\n",
       "    'comment': 'SMP Mobile Parts App 3.0',\n",
       "    'assetSort': 7,\n",
       "    'digiSort': 0,\n",
       "    'videoImage': None}],\n",
       "  'categories': [{'basePart': '37530',\n",
       "    'webLayout_ID': 4100,\n",
       "    'categoryName_en': 'HVAC Door Actuator',\n",
       "    'prodCategory_ASort': 21200}],\n",
       "  'crossRef': None,\n",
       "  'completeRepair': {'serviceParts': [],\n",
       "   'serviceSpec': [{'serviceName': 'Fuel Filter Flush (Required)'},\n",
       "    {'serviceName': 'Oil Change (Required)'}]}}}"
      ]
     },
     "execution_count": 4,
     "metadata": {},
     "output_type": "execute_result"
    }
   ],
   "source": [
    "dict_ = response.json()\n",
    "\n",
    "dict_"
   ]
  },
  {
   "cell_type": "code",
   "execution_count": 5,
   "id": "e1b0ac82-463b-4e1b-8edf-ecce87704b24",
   "metadata": {},
   "outputs": [
    {
     "data": {
      "text/plain": [
       "False"
      ]
     },
     "execution_count": 5,
     "metadata": {},
     "output_type": "execute_result"
    }
   ],
   "source": [
    "not dict_"
   ]
  },
  {
   "cell_type": "code",
   "execution_count": 6,
   "id": "e5026a7a-886f-4e10-984a-b66876accecf",
   "metadata": {},
   "outputs": [
    {
     "name": "stdout",
     "output_type": "stream",
     "text": [
      "Buick Allure (10-05)\n",
      "Buick LaCrosse (09-05)\n",
      "Cadillac XLR (09-04)\n",
      "Chevrolet Corvette (13-05)\n",
      "Chevrolet Impala (13-04)\n",
      "Chevrolet Impala Limited (16-14)\n",
      "Chevrolet Malibu (08-04)\n",
      "Chevrolet Monte Carlo (07-04)\n",
      "Chevrolet Vectra (08-04)\n",
      "Pontiac Grand Prix (08-04)\n"
     ]
    }
   ],
   "source": [
    "list_vehicle = [dict_vehicle['buyersGuideDesc'].strip() for dict_vehicle in dict_['pp']['buyersGuides']]\n",
    "\n",
    "print('\\n'.join(list_vehicle))"
   ]
  },
  {
   "cell_type": "code",
   "execution_count": 7,
   "id": "e4705e11-d4d2-4ee1-ad91-92fff0ae489a",
   "metadata": {},
   "outputs": [
    {
     "data": {
      "text/plain": [
       "{'Door Linkage': 'Female',\n",
       " 'Mounting Ear Qty.': '3',\n",
       " 'Terminal Pin Qty.': '2',\n",
       " 'Description': 'HVAC Air Door Actuator',\n",
       " 'Warranty': '120 days',\n",
       " 'Depth IN': '1.25',\n",
       " 'Width IN': '2.75',\n",
       " 'Height MM': '83',\n",
       " 'Width MM': '70',\n",
       " 'Height IN': '3.25',\n",
       " 'Depth MM': '32',\n",
       " 'Style': 'HVAC Air Door Actuator',\n",
       " 'Terminal Gender': 'Male',\n",
       " 'Type': 'HVAC Air Door Actuator',\n",
       " 'Voltage': '12',\n",
       " 'Wire Quantity': 'N/A',\n",
       " 'Connector Gender': 'Female',\n",
       " 'Connector Shape': 'Rectangular'}"
      ]
     },
     "execution_count": 7,
     "metadata": {},
     "output_type": "execute_result"
    }
   ],
   "source": [
    "dict_key, list_specification = {}, dict_['pp']['partSpecs']\n",
    "for specification in list_specification:\n",
    "    key = specification['attributeName_en'].strip()\n",
    "\n",
    "    if key in dict_key:\n",
    "        dict_key[key] += 1\n",
    "    else:\n",
    "        dict_key[key] = 1\n",
    "\n",
    "dict_specification, dict_count = {}, {}\n",
    "for specification in list_specification:\n",
    "    key, value = specification['attributeName_en'].strip(), specification['siteValue_en'].strip()\n",
    "\n",
    "    if dict_key[key] == 1:\n",
    "        dict_specification[key] = 'nan' if value == '' else value\n",
    "    else:\n",
    "        if key in dict_count:\n",
    "            dict_count[key] += 1\n",
    "        else:\n",
    "            dict_count[key] = 1\n",
    "        dict_specification[f'{key}_{dict_count[key]}'] = 'nan' if value == '' else value\n",
    "\n",
    "dict_specification"
   ]
  },
  {
   "cell_type": "code",
   "execution_count": 8,
   "id": "a9216656-57a2-4285-9ffd-c1a0777ad7dc",
   "metadata": {},
   "outputs": [
    {
     "data": {
      "text/plain": [
       "{'0': 'HVAC Door Actuator'}"
      ]
     },
     "execution_count": 8,
     "metadata": {},
     "output_type": "execute_result"
    }
   ],
   "source": [
    "dict_type, list_type = {}, dict_['pp']['categories']\n",
    "for i, type_ in enumerate(list_type):\n",
    "    dict_type[str(i)] = type_['categoryName_en'].strip()\n",
    "\n",
    "dict_type"
   ]
  },
  {
   "cell_type": "code",
   "execution_count": 9,
   "id": "e63d9a1d-17ff-4084-a2d6-e6ecaa091ffd",
   "metadata": {},
   "outputs": [],
   "source": [
    "import json"
   ]
  },
  {
   "cell_type": "code",
   "execution_count": 10,
   "id": "23f8eec2-e547-4ae4-ab9b-87156406c43f",
   "metadata": {},
   "outputs": [
    {
     "data": {
      "text/plain": [
       "{'home': 'https://www.4s.com/en/ecatalog?part=HVAC+door+actuator&type=p&search=s',\n",
       " 'sku_count': 622,\n",
       " 'page_count': 7,\n",
       " 'page': 1,\n",
       " 'page_url': 'https://ecatalog.smpcorp.com/v2/fs/api/part/partsearch?filter=HVAC+door+actuator&filterType=s&searchType=p&start=0&limit=96&sort=3&catFilter=-All-&attrValueFilter=-All-',\n",
       " 'no': 1,\n",
       " 'url': 'https://www.4s.com/en/ecatalog?part=37530&type=p&search=s',\n",
       " 'brand': 'FS',\n",
       " 'part_number': '37530',\n",
       " 'part_url': 'https://ecatalog.smpcorp.com/v2/fs/api/part/partselect?part=37530&func=PART',\n",
       " 'src_url': 'https://ecatalog.smpcorp.com/v2/fs/api/image/getallimages?partNum=37530&brand=FS&zoomFactor_sm=75&zoomFactor_md=360&zoomFactor_bg=960',\n",
       " 'description_1': 'HVAC Air Door Actuator',\n",
       " 'description_2': 'HVAC Air Door Actuator',\n",
       " 'pop': 'AA',\n",
       " 'per_car': 1,\n",
       " 'vehicle': 'Buick Allure (10-05)\\nBuick LaCrosse (09-05)\\nCadillac XLR (09-04)\\nChevrolet Corvette (13-05)\\nChevrolet Impala (13-04)\\nChevrolet Impala Limited (16-14)\\nChevrolet Malibu (08-04)\\nChevrolet Monte Carlo (07-04)\\nChevrolet Vectra (08-04)\\nPontiac Grand Prix (08-04)',\n",
       " 'json_specification': '{\"Door Linkage\": \"Female\", \"Mounting Ear Qty.\": \"3\", \"Terminal Pin Qty.\": \"2\", \"Description\": \"HVAC Air Door Actuator\", \"Warranty\": \"120 days\", \"Depth IN\": \"1.25\", \"Width IN\": \"2.75\", \"Height MM\": \"83\", \"Width MM\": \"70\", \"Height IN\": \"3.25\", \"Depth MM\": \"32\", \"Style\": \"HVAC Air Door Actuator\", \"Terminal Gender\": \"Male\", \"Type\": \"HVAC Air Door Actuator\", \"Voltage\": \"12\", \"Wire Quantity\": \"N/A\", \"Connector Gender\": \"Female\", \"Connector Shape\": \"Rectangular\"}',\n",
       " 'json_type': '{\"0\": \"HVAC Door Actuator\"}'}"
      ]
     },
     "execution_count": 10,
     "metadata": {},
     "output_type": "execute_result"
    }
   ],
   "source": [
    "{'home': item['home'],\n",
    " 'sku_count': item['sku_count'],\n",
    " 'page_count': item['page_count'],\n",
    " 'page': item['page'],\n",
    " 'page_url': item['page_url'],\n",
    " 'no': item['no'],\n",
    " 'url': item['url'],\n",
    " 'brand': item['brand'],\n",
    " 'part_number': item['part_number'],\n",
    " 'part_url': item['part_url'],\n",
    " 'src_url': item['src_url'],\n",
    " 'description_1': item['description_1'],\n",
    " 'description_2': item['description_2'],\n",
    " 'pop': item['pop'],\n",
    " 'per_car': item['per_car'],\n",
    " 'vehicle': '\\n'.join(list_vehicle),\n",
    " 'json_specification': json.dumps(dict_specification),\n",
    " 'json_type': json.dumps(dict_type)}"
   ]
  },
  {
   "cell_type": "code",
   "execution_count": null,
   "id": "5086e901-a2fb-4e9b-894f-69e2370f66f6",
   "metadata": {},
   "outputs": [],
   "source": []
  }
 ],
 "metadata": {
  "kernelspec": {
   "display_name": "Python 3 (ipykernel)",
   "language": "python",
   "name": "python3"
  },
  "language_info": {
   "codemirror_mode": {
    "name": "ipython",
    "version": 3
   },
   "file_extension": ".py",
   "mimetype": "text/x-python",
   "name": "python",
   "nbconvert_exporter": "python",
   "pygments_lexer": "ipython3",
   "version": "3.12.7"
  }
 },
 "nbformat": 4,
 "nbformat_minor": 5
}
