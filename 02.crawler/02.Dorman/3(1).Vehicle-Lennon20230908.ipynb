{
 "cells": [
  {
   "cell_type": "code",
   "execution_count": 1,
   "id": "1099b543",
   "metadata": {},
   "outputs": [],
   "source": [
    "import pandas as pd"
   ]
  },
  {
   "cell_type": "code",
   "execution_count": 2,
   "id": "01920c19",
   "metadata": {},
   "outputs": [
    {
     "name": "stdout",
     "output_type": "stream",
     "text": [
      "总数量：150\n"
     ]
    },
    {
     "data": {
      "text/plain": [
       "['https://www.dormanproducts.com/itemdetailapp.aspx?ProductID=76398&PartType=HVAC%20Control%20Module',\n",
       " 'https://www.dormanproducts.com/itemdetailapp.aspx?ProductID=76754&PartType=HVAC%20Control%20Module',\n",
       " 'https://www.dormanproducts.com/itemdetailapp.aspx?ProductID=66592&PartType=HVAC%20Control%20Module',\n",
       " 'https://www.dormanproducts.com/itemdetailapp.aspx?ProductID=72789&PartType=HVAC%20Control%20Module',\n",
       " 'https://www.dormanproducts.com/itemdetailapp.aspx?ProductID=106223&PartType=HVAC%20Control%20Module',\n",
       " 'https://www.dormanproducts.com/itemdetailapp.aspx?ProductID=131698&PartType=HVAC%20Control%20Module',\n",
       " 'https://www.dormanproducts.com/itemdetailapp.aspx?ProductID=53418&PartType=HVAC%20Control%20Module',\n",
       " 'https://www.dormanproducts.com/itemdetailapp.aspx?ProductID=65302&PartType=HVAC%20Control%20Module',\n",
       " 'https://www.dormanproducts.com/itemdetailapp.aspx?ProductID=82894&PartType=HVAC%20Control%20Module',\n",
       " 'https://www.dormanproducts.com/itemdetailapp.aspx?ProductID=128361&PartType=HVAC%20Control%20Module',\n",
       " 'https://www.dormanproducts.com/itemdetailapp.aspx?ProductID=76741&PartType=HVAC%20Control%20Module',\n",
       " 'https://www.dormanproducts.com/itemdetailapp.aspx?ProductID=78185&PartType=HVAC%20Control%20Module',\n",
       " 'https://www.dormanproducts.com/itemdetailapp.aspx?ProductID=131697&PartType=HVAC%20Control%20Module',\n",
       " 'https://www.dormanproducts.com/itemdetailapp.aspx?ProductID=49327&PartType=HVAC%20Control%20Module',\n",
       " 'https://www.dormanproducts.com/itemdetailapp.aspx?ProductID=74179&PartType=HVAC%20Control%20Module',\n",
       " 'https://www.dormanproducts.com/itemdetailapp.aspx?ProductID=73910&PartType=HVAC%20Control%20Module',\n",
       " 'https://www.dormanproducts.com/itemdetailapp.aspx?ProductID=75961&PartType=HVAC%20Control%20Module',\n",
       " 'https://www.dormanproducts.com/itemdetailapp.aspx?ProductID=131430&PartType=HVAC%20Control%20Module',\n",
       " 'https://www.dormanproducts.com/itemdetailapp.aspx?ProductID=49317&PartType=HVAC%20Control%20Module',\n",
       " 'https://www.dormanproducts.com/itemdetailapp.aspx?ProductID=50180&PartType=HVAC%20Control%20Module',\n",
       " 'https://www.dormanproducts.com/itemdetailapp.aspx?ProductID=49679&PartType=HVAC%20Control%20Module',\n",
       " 'https://www.dormanproducts.com/itemdetailapp.aspx?ProductID=46838&PartType=HVAC%20Control%20Module',\n",
       " 'https://www.dormanproducts.com/itemdetailapp.aspx?ProductID=74181&PartType=HVAC%20Control%20Module',\n",
       " 'https://www.dormanproducts.com/itemdetailapp.aspx?ProductID=131396&PartType=HVAC%20Control%20Module',\n",
       " 'https://www.dormanproducts.com/itemdetailapp.aspx?ProductID=46714&PartType=HVAC%20Control%20Module',\n",
       " 'https://www.dormanproducts.com/itemdetailapp.aspx?ProductID=50290&PartType=HVAC%20Control%20Module',\n",
       " 'https://www.dormanproducts.com/itemdetailapp.aspx?ProductID=53514&PartType=HVAC%20Control%20Module',\n",
       " 'https://www.dormanproducts.com/itemdetailapp.aspx?ProductID=52347&PartType=HVAC%20Control%20Module',\n",
       " 'https://www.dormanproducts.com/itemdetailapp.aspx?ProductID=50856&PartType=HVAC%20Control%20Module',\n",
       " 'https://www.dormanproducts.com/itemdetailapp.aspx?ProductID=131094&PartType=HVAC%20Control%20Module',\n",
       " 'https://www.dormanproducts.com/itemdetailapp.aspx?ProductID=73207&PartType=HVAC%20Control%20Module',\n",
       " 'https://www.dormanproducts.com/itemdetailapp.aspx?ProductID=47096&PartType=HVAC%20Control%20Module',\n",
       " 'https://www.dormanproducts.com/itemdetailapp.aspx?ProductID=73856&PartType=HVAC%20Control%20Module',\n",
       " 'https://www.dormanproducts.com/itemdetailapp.aspx?ProductID=47094&PartType=HVAC%20Control%20Module',\n",
       " 'https://www.dormanproducts.com/itemdetailapp.aspx?ProductID=65300&PartType=HVAC%20Control%20Module',\n",
       " 'https://www.dormanproducts.com/itemdetailapp.aspx?ProductID=73855&PartType=HVAC%20Control%20Module',\n",
       " 'https://www.dormanproducts.com/itemdetailapp.aspx?ProductID=67227&PartType=HVAC%20Control%20Module',\n",
       " 'https://www.dormanproducts.com/itemdetailapp.aspx?ProductID=65298&PartType=HVAC%20Control%20Module',\n",
       " 'https://www.dormanproducts.com/itemdetailapp.aspx?ProductID=140459&PartType=HVAC%20Control%20Module',\n",
       " 'https://www.dormanproducts.com/itemdetailapp.aspx?ProductID=78895&PartType=HVAC%20Control%20Module',\n",
       " 'https://www.dormanproducts.com/itemdetailapp.aspx?ProductID=86474&PartType=HVAC%20Control%20Module',\n",
       " 'https://www.dormanproducts.com/itemdetailapp.aspx?ProductID=125939&PartType=HVAC%20Control%20Module',\n",
       " 'https://www.dormanproducts.com/itemdetailapp.aspx?ProductID=74185&PartType=HVAC%20Control%20Module',\n",
       " 'https://www.dormanproducts.com/itemdetailapp.aspx?ProductID=83239&PartType=HVAC%20Control%20Module',\n",
       " 'https://www.dormanproducts.com/itemdetailapp.aspx?ProductID=53521&PartType=HVAC%20Control%20Module',\n",
       " 'https://www.dormanproducts.com/itemdetailapp.aspx?ProductID=48281&PartType=HVAC%20Control%20Module',\n",
       " 'https://www.dormanproducts.com/itemdetailapp.aspx?ProductID=67182&PartType=HVAC%20Control%20Module',\n",
       " 'https://www.dormanproducts.com/itemdetailapp.aspx?ProductID=54599&PartType=HVAC%20Control%20Module',\n",
       " 'https://www.dormanproducts.com/itemdetailapp.aspx?ProductID=83820&PartType=HVAC%20Control%20Module',\n",
       " 'https://www.dormanproducts.com/itemdetailapp.aspx?ProductID=77156&PartType=HVAC%20Control%20Module',\n",
       " 'https://www.dormanproducts.com/itemdetailapp.aspx?ProductID=83923&PartType=HVAC%20Control%20Module',\n",
       " 'https://www.dormanproducts.com/itemdetailapp.aspx?ProductID=72758&PartType=HVAC%20Control%20Module',\n",
       " 'https://www.dormanproducts.com/itemdetailapp.aspx?ProductID=72809&PartType=HVAC%20Control%20Module',\n",
       " 'https://www.dormanproducts.com/itemdetailapp.aspx?ProductID=140733&PartType=HVAC%20Control%20Module',\n",
       " 'https://www.dormanproducts.com/itemdetailapp.aspx?ProductID=77229&PartType=HVAC%20Control%20Module',\n",
       " 'https://www.dormanproducts.com/itemdetailapp.aspx?ProductID=103190&PartType=HVAC%20Control%20Module',\n",
       " 'https://www.dormanproducts.com/itemdetailapp.aspx?ProductID=125156&PartType=HVAC%20Control%20Module',\n",
       " 'https://www.dormanproducts.com/itemdetailapp.aspx?ProductID=77853&PartType=HVAC%20Control%20Module',\n",
       " 'https://www.dormanproducts.com/itemdetailapp.aspx?ProductID=49678&PartType=HVAC%20Control%20Module',\n",
       " 'https://www.dormanproducts.com/itemdetailapp.aspx?ProductID=128707&PartType=HVAC%20Control%20Module',\n",
       " 'https://www.dormanproducts.com/itemdetailapp.aspx?ProductID=75833&PartType=HVAC%20Control%20Module',\n",
       " 'https://www.dormanproducts.com/itemdetailapp.aspx?ProductID=98037&PartType=HVAC%20Control%20Module',\n",
       " 'https://www.dormanproducts.com/itemdetailapp.aspx?ProductID=80178&PartType=HVAC%20Control%20Module',\n",
       " 'https://www.dormanproducts.com/itemdetailapp.aspx?ProductID=53515&PartType=HVAC%20Control%20Module',\n",
       " 'https://www.dormanproducts.com/itemdetailapp.aspx?ProductID=128360&PartType=HVAC%20Control%20Module',\n",
       " 'https://www.dormanproducts.com/itemdetailapp.aspx?ProductID=53516&PartType=HVAC%20Control%20Module',\n",
       " 'https://www.dormanproducts.com/itemdetailapp.aspx?ProductID=128362&PartType=HVAC%20Control%20Module',\n",
       " 'https://www.dormanproducts.com/itemdetailapp.aspx?ProductID=52518&PartType=HVAC%20Control%20Module',\n",
       " 'https://www.dormanproducts.com/itemdetailapp.aspx?ProductID=53511&PartType=HVAC%20Control%20Module',\n",
       " 'https://www.dormanproducts.com/itemdetailapp.aspx?ProductID=83278&PartType=HVAC%20Control%20Module',\n",
       " 'https://www.dormanproducts.com/itemdetailapp.aspx?ProductID=76094&PartType=HVAC%20Control%20Module',\n",
       " 'https://www.dormanproducts.com/itemdetailapp.aspx?ProductID=73881&PartType=HVAC%20Control%20Module',\n",
       " 'https://www.dormanproducts.com/itemdetailapp.aspx?ProductID=72703&PartType=HVAC%20Control%20Module',\n",
       " 'https://www.dormanproducts.com/itemdetailapp.aspx?ProductID=95001&PartType=HVAC%20Control%20Module',\n",
       " 'https://www.dormanproducts.com/itemdetailapp.aspx?ProductID=85424&PartType=HVAC%20Control%20Module',\n",
       " 'https://www.dormanproducts.com/itemdetailapp.aspx?ProductID=46717&PartType=HVAC%20Control%20Module',\n",
       " 'https://www.dormanproducts.com/itemdetailapp.aspx?ProductID=66966&PartType=HVAC%20Control%20Module',\n",
       " 'https://www.dormanproducts.com/itemdetailapp.aspx?ProductID=72100&PartType=HVAC%20Control%20Module',\n",
       " 'https://www.dormanproducts.com/itemdetailapp.aspx?ProductID=68055&PartType=HVAC%20Control%20Module',\n",
       " 'https://www.dormanproducts.com/itemdetailapp.aspx?ProductID=106089&PartType=HVAC%20Control%20Module',\n",
       " 'https://www.dormanproducts.com/itemdetailapp.aspx?ProductID=53554&PartType=HVAC%20Control%20Module',\n",
       " 'https://www.dormanproducts.com/itemdetailapp.aspx?ProductID=68058&PartType=HVAC%20Control%20Module',\n",
       " 'https://www.dormanproducts.com/itemdetailapp.aspx?ProductID=86918&PartType=HVAC%20Control%20Module',\n",
       " 'https://www.dormanproducts.com/itemdetailapp.aspx?ProductID=86823&PartType=HVAC%20Control%20Module',\n",
       " 'https://www.dormanproducts.com/itemdetailapp.aspx?ProductID=66384&PartType=HVAC%20Control%20Module',\n",
       " 'https://www.dormanproducts.com/itemdetailapp.aspx?ProductID=98359&PartType=HVAC%20Control%20Module',\n",
       " 'https://www.dormanproducts.com/itemdetailapp.aspx?ProductID=67181&PartType=HVAC%20Control%20Module',\n",
       " 'https://www.dormanproducts.com/itemdetailapp.aspx?ProductID=142937&PartType=HVAC%20Control%20Module',\n",
       " 'https://www.dormanproducts.com/itemdetailapp.aspx?ProductID=54701&PartType=HVAC%20Control%20Module',\n",
       " 'https://www.dormanproducts.com/itemdetailapp.aspx?ProductID=82619&PartType=HVAC%20Control%20Module',\n",
       " 'https://www.dormanproducts.com/itemdetailapp.aspx?ProductID=91341&PartType=HVAC%20Control%20Module%20Repair%20Kit',\n",
       " 'https://www.dormanproducts.com/itemdetailapp.aspx?ProductID=97810&PartType=HVAC%20Control%20Module',\n",
       " 'https://www.dormanproducts.com/itemdetailapp.aspx?ProductID=138427&PartType=Seat%20Heater%20Control%20Module',\n",
       " 'https://www.dormanproducts.com/itemdetailapp.aspx?ProductID=97811&PartType=HVAC%20Control%20Module',\n",
       " 'https://www.dormanproducts.com/itemdetailapp.aspx?ProductID=135657&PartType=Blower%20Motor%20Resistor',\n",
       " 'https://www.dormanproducts.com/itemdetailapp.aspx?ProductID=128359&PartType=HVAC%20Control%20Module',\n",
       " 'https://www.dormanproducts.com/itemdetailapp.aspx?ProductID=135654&PartType=Blower%20Motor%20Resistor',\n",
       " 'https://www.dormanproducts.com/itemdetailapp.aspx?ProductID=135665&PartType=Blower%20Motor%20Resistor',\n",
       " 'https://www.dormanproducts.com/itemdetailapp.aspx?ProductID=134913&PartType=Blower%20Motor%20Resistor',\n",
       " 'https://www.dormanproducts.com/itemdetailapp.aspx?ProductID=135912&PartType=Blower%20Motor%20Resistor',\n",
       " 'https://www.dormanproducts.com/itemdetailapp.aspx?ProductID=135588&PartType=Seat%20Heater%20Control%20Module',\n",
       " 'https://www.dormanproducts.com/itemdetailapp.aspx?ProductID=34410&PartType=Blower%20Motor%20Resistor',\n",
       " 'https://www.dormanproducts.com/itemdetailapp.aspx?ProductID=51685&PartType=HVAC%20Control%20Module',\n",
       " 'https://www.dormanproducts.com/itemdetailapp.aspx?ProductID=34584&PartType=Blower%20Motor%20Resistor',\n",
       " 'https://www.dormanproducts.com/itemdetailapp.aspx?ProductID=137791&PartType=Blower%20Motor%20Resistor',\n",
       " 'https://www.dormanproducts.com/itemdetailapp.aspx?ProductID=34196&PartType=Blower%20Motor%20Resistor',\n",
       " 'https://www.dormanproducts.com/itemdetailapp.aspx?ProductID=44119&PartType=Blower%20Motor%20Resistor',\n",
       " 'https://www.dormanproducts.com/itemdetailapp.aspx?ProductID=130935&PartType=HVAC%20Control%20Module',\n",
       " 'https://www.dormanproducts.com/itemdetailapp.aspx?ProductID=134900&PartType=Blower%20Motor%20Resistor',\n",
       " 'https://www.dormanproducts.com/itemdetailapp.aspx?ProductID=35242&PartType=Blower%20Motor%20Resistor',\n",
       " 'https://www.dormanproducts.com/itemdetailapp.aspx?ProductID=135661&PartType=Blower%20Motor%20Resistor',\n",
       " 'https://www.dormanproducts.com/itemdetailapp.aspx?ProductID=48404&PartType=Blower%20Motor%20Resistor',\n",
       " 'https://www.dormanproducts.com/itemdetailapp.aspx?ProductID=34333&PartType=Blower%20Motor%20Resistor',\n",
       " 'https://www.dormanproducts.com/itemdetailapp.aspx?ProductID=134869&PartType=Blower%20Motor%20Resistor',\n",
       " 'https://www.dormanproducts.com/itemdetailapp.aspx?ProductID=34610&PartType=Blower%20Motor%20Resistor',\n",
       " 'https://www.dormanproducts.com/itemdetailapp.aspx?ProductID=48767&PartType=Blower%20Motor%20Resistor',\n",
       " 'https://www.dormanproducts.com/itemdetailapp.aspx?ProductID=34413&PartType=Blower%20Motor%20Resistor',\n",
       " 'https://www.dormanproducts.com/itemdetailapp.aspx?ProductID=134874&PartType=Blower%20Motor%20Resistor',\n",
       " 'https://www.dormanproducts.com/itemdetailapp.aspx?ProductID=100654&PartType=Blower%20Motor%20Resistor',\n",
       " 'https://www.dormanproducts.com/itemdetailapp.aspx?ProductID=138708&PartType=Engine%20Water%20Pump',\n",
       " 'https://www.dormanproducts.com/itemdetailapp.aspx?ProductID=134897&PartType=Blower%20Motor%20Resistor',\n",
       " 'https://www.dormanproducts.com/itemdetailapp.aspx?ProductID=134930&PartType=Blower%20Motor%20Resistor',\n",
       " 'https://www.dormanproducts.com/itemdetailapp.aspx?ProductID=134891&PartType=Blower%20Motor%20Resistor',\n",
       " 'https://www.dormanproducts.com/itemdetailapp.aspx?ProductID=138165&PartType=Blower%20Motor%20Resistor',\n",
       " 'https://www.dormanproducts.com/itemdetailapp.aspx?ProductID=134876&PartType=Blower%20Motor%20Resistor',\n",
       " 'https://www.dormanproducts.com/itemdetailapp.aspx?ProductID=128376&PartType=HVAC%20Control%20Module',\n",
       " 'https://www.dormanproducts.com/itemdetailapp.aspx?ProductID=49122&PartType=Blower%20Motor%20Resistor',\n",
       " nan,\n",
       " 'https://www.dormanproducts.com/itemdetailapp.aspx?ProductID=34612&PartType=Blower%20Motor%20Resistor',\n",
       " 'https://www.dormanproducts.com/itemdetailapp.aspx?ProductID=137483&PartType=Blower%20Motor%20Resistor',\n",
       " 'https://www.dormanproducts.com/itemdetailapp.aspx?ProductID=135915&PartType=Blower%20Motor%20Resistor',\n",
       " 'https://www.dormanproducts.com/itemdetailapp.aspx?ProductID=134929&PartType=Blower%20Motor%20Resistor',\n",
       " 'https://www.dormanproducts.com/itemdetailapp.aspx?ProductID=135660&PartType=Blower%20Motor%20Resistor',\n",
       " 'https://www.dormanproducts.com/itemdetailapp.aspx?ProductID=135354&PartType=Blower%20Motor%20Resistor',\n",
       " 'https://www.dormanproducts.com/itemdetailapp.aspx?ProductID=135651&PartType=Blower%20Motor%20Resistor',\n",
       " 'https://www.dormanproducts.com/itemdetailapp.aspx?ProductID=135916&PartType=Blower%20Motor%20Resistor',\n",
       " 'https://www.dormanproducts.com/itemdetailapp.aspx?ProductID=135032&PartType=Blower%20Motor%20Resistor',\n",
       " 'https://www.dormanproducts.com/itemdetailapp.aspx?ProductID=140725&PartType=Blower%20Motor%20Resistor',\n",
       " 'https://www.dormanproducts.com/itemdetailapp.aspx?ProductID=138424&PartType=Blower%20Motor%20Resistor',\n",
       " nan,\n",
       " 'https://www.dormanproducts.com/itemdetailapp.aspx?ProductID=100655&PartType=Blower%20Motor%20Resistor',\n",
       " 'https://www.dormanproducts.com/itemdetailapp.aspx?ProductID=135653&PartType=Blower%20Motor%20Resistor',\n",
       " nan,\n",
       " nan,\n",
       " nan,\n",
       " 'https://www.dormanproducts.com/itemdetailapp.aspx?ProductID=34159&PartType=Blower%20Motor%20Resistor',\n",
       " 'https://www.dormanproducts.com/itemdetailapp.aspx?ProductID=134942&PartType=Blower%20Motor%20Resistor',\n",
       " nan,\n",
       " nan,\n",
       " 'https://www.dormanproducts.com/itemdetailapp.aspx?ProductID=34208&PartType=Blower%20Motor%20Resistor']"
      ]
     },
     "execution_count": 2,
     "metadata": {},
     "output_type": "execute_result"
    }
   ],
   "source": [
    "df_menu = pd.read_excel('./detail.xlsx', header=0).fillna('')\n",
    "list_vehicle_url = df_menu['vehicle_url'].to_list()\n",
    "\n",
    "print('总数量：' + str(len(list_vehicle_url)))\n",
    "list_vehicle_url"
   ]
  },
  {
   "cell_type": "code",
   "execution_count": 3,
   "id": "380e6d34",
   "metadata": {},
   "outputs": [
    {
     "data": {
      "text/html": [
       "<div>\n",
       "<style scoped>\n",
       "    .dataframe tbody tr th:only-of-type {\n",
       "        vertical-align: middle;\n",
       "    }\n",
       "\n",
       "    .dataframe tbody tr th {\n",
       "        vertical-align: top;\n",
       "    }\n",
       "\n",
       "    .dataframe thead th {\n",
       "        text-align: right;\n",
       "    }\n",
       "</style>\n",
       "<table border=\"1\" class=\"dataframe\">\n",
       "  <thead>\n",
       "    <tr style=\"text-align: right;\">\n",
       "      <th></th>\n",
       "    </tr>\n",
       "  </thead>\n",
       "  <tbody>\n",
       "  </tbody>\n",
       "</table>\n",
       "</div>"
      ],
      "text/plain": [
       "Empty DataFrame\n",
       "Columns: []\n",
       "Index: []"
      ]
     },
     "execution_count": 3,
     "metadata": {},
     "output_type": "execute_result"
    }
   ],
   "source": [
    "df = pd.DataFrame()\n",
    "\n",
    "df"
   ]
  },
  {
   "cell_type": "code",
   "execution_count": 4,
   "id": "1dc3aeae",
   "metadata": {},
   "outputs": [],
   "source": [
    "from selenium.webdriver import ChromeOptions"
   ]
  },
  {
   "cell_type": "code",
   "execution_count": 5,
   "id": "a16aba51",
   "metadata": {},
   "outputs": [],
   "source": [
    "option = ChromeOptions()\n",
    "option.add_experimental_option('useAutomationExtension', False)\n",
    "# option.add_argument('blink-settings=imagesEnabled=false')\n",
    "option.add_argument('--disable-blink-features=AutomationControlled')\n",
    "option.add_argument('--disable-dev-shm-usage')\n",
    "option.add_argument('--disable-gpu')\n",
    "option.add_experimental_option('excludeSwitches', ['enable-automation'])\n",
    "# option.add_argument('--headless')\n",
    "option.add_argument('--no-sandbox')\n",
    "# option.add_argument('--proxy-server=')\n",
    "# option.add_argument('user-agent=')\n",
    "option.page_load_strategy = 'eager'"
   ]
  },
  {
   "cell_type": "code",
   "execution_count": 6,
   "id": "2612b3a4",
   "metadata": {},
   "outputs": [],
   "source": [
    "from selenium.webdriver import Chrome\n",
    "from selenium.webdriver.chrome.service import Service"
   ]
  },
  {
   "cell_type": "code",
   "execution_count": 7,
   "id": "bf851080",
   "metadata": {},
   "outputs": [],
   "source": [
    "browser = Chrome(service=Service('../../../chromedriver'), options=option)\n",
    "\n",
    "browser.maximize_window()"
   ]
  },
  {
   "cell_type": "code",
   "execution_count": 8,
   "id": "0e29d82b",
   "metadata": {},
   "outputs": [],
   "source": [
    "import time\n",
    "\n",
    "i = 0\n",
    "\n",
    "browser.get(list_vehicle_url[i])\n",
    "\n",
    "time.sleep(3)"
   ]
  },
  {
   "cell_type": "code",
   "execution_count": 9,
   "id": "1126edd7",
   "metadata": {},
   "outputs": [],
   "source": [
    "from selenium.webdriver.support import expected_conditions as EC\n",
    "from selenium.webdriver.support.wait import WebDriverWait\n",
    "from selenium.webdriver.common.by import By"
   ]
  },
  {
   "cell_type": "code",
   "execution_count": 10,
   "id": "8c9244e9",
   "metadata": {},
   "outputs": [
    {
     "name": "stdout",
     "output_type": "stream",
     "text": [
      "0\n",
      "\n",
      "Chrysler 300 2005-2007\n",
      "Dodge Charger 2006-2007\n",
      "Dodge Magnum 2005-2007\n"
     ]
    }
   ],
   "source": [
    "page = 0\n",
    "\n",
    "dict_vehicle = {}\n",
    "while True:\n",
    "    print(page)\n",
    "    wait = WebDriverWait(browser, 60)\n",
    "    wait.until(EC.presence_of_element_located((By.XPATH, '//tr[@class=\"detail-app-row\"]')))\n",
    "    list_row = browser.find_elements(by=By.XPATH, value='//tr[@class=\"detail-app-row\"]')\n",
    "    \n",
    "    for row in list_row:\n",
    "        make = row.find_element(by=By.XPATH, value='./td[2]').text.strip()\n",
    "        model = row.find_element(by=By.XPATH, value='./td[3]').text.strip()\n",
    "        year = row.find_element(by=By.XPATH, value='./td[1]').text.strip()\n",
    "\n",
    "        if make not in dict_vehicle:\n",
    "            dict_vehicle[make] = {model: [year]}\n",
    "        else:\n",
    "            if model not in dict_vehicle[make]:\n",
    "                dict_vehicle[make][model] = [year]\n",
    "            else:\n",
    "                dict_vehicle[make][model].append(year)\n",
    "                \n",
    "    list_next = browser.find_elements(by=By.XPATH, value='//a[@id=\"pagingBottom_nextButton\"]')\n",
    "    if len(list_next) == 0:\n",
    "        break\n",
    "    else:\n",
    "        list_next[0].click()\n",
    "        \n",
    "    page += 1\n",
    "    \n",
    "list_vehicle = []\n",
    "for make in dict_vehicle:\n",
    "    for model in dict_vehicle[make]:\n",
    "        list_year = list(set(dict_vehicle[make][model]))\n",
    "        if len(list_year) == 1:\n",
    "            list_vehicle.append(make + ' ' + model + ' ' + list_year[0])\n",
    "        else:\n",
    "            list_vehicle.append(make + ' ' + model + ' ' + min(list_year) + '-' + max(list_year))\n",
    "\n",
    "vehicle = '\\n'.join(list_vehicle)\n",
    "\n",
    "print()\n",
    "print(vehicle)"
   ]
  },
  {
   "cell_type": "code",
   "execution_count": 11,
   "id": "abe2947c",
   "metadata": {},
   "outputs": [
    {
     "data": {
      "text/html": [
       "<div>\n",
       "<style scoped>\n",
       "    .dataframe tbody tr th:only-of-type {\n",
       "        vertical-align: middle;\n",
       "    }\n",
       "\n",
       "    .dataframe tbody tr th {\n",
       "        vertical-align: top;\n",
       "    }\n",
       "\n",
       "    .dataframe thead th {\n",
       "        text-align: right;\n",
       "    }\n",
       "</style>\n",
       "<table border=\"1\" class=\"dataframe\">\n",
       "  <thead>\n",
       "    <tr style=\"text-align: right;\">\n",
       "      <th></th>\n",
       "      <th>status</th>\n",
       "      <th>vehicle_url</th>\n",
       "      <th>Vehicle</th>\n",
       "    </tr>\n",
       "  </thead>\n",
       "  <tbody>\n",
       "    <tr>\n",
       "      <th>0</th>\n",
       "      <td>ok</td>\n",
       "      <td>https://www.dormanproducts.com/itemdetailapp.a...</td>\n",
       "      <td>Chrysler 300 2005-2007\\nDodge Charger 2006-200...</td>\n",
       "    </tr>\n",
       "  </tbody>\n",
       "</table>\n",
       "</div>"
      ],
      "text/plain": [
       "  status                                        vehicle_url  \\\n",
       "0     ok  https://www.dormanproducts.com/itemdetailapp.a...   \n",
       "\n",
       "                                             Vehicle  \n",
       "0  Chrysler 300 2005-2007\\nDodge Charger 2006-200...  "
      ]
     },
     "execution_count": 11,
     "metadata": {},
     "output_type": "execute_result"
    }
   ],
   "source": [
    "df_temp = pd.DataFrame([{'status': 'ok',\n",
    "                         'vehicle_url': list_vehicle_url[i],\n",
    "                         'Vehicle': vehicle}])\n",
    "\n",
    "browser.quit()\n",
    "\n",
    "df = pd.concat([df, df_temp], ignore_index=True).fillna('')\n",
    "\n",
    "df"
   ]
  },
  {
   "cell_type": "code",
   "execution_count": null,
   "id": "89a0a419",
   "metadata": {},
   "outputs": [],
   "source": []
  }
 ],
 "metadata": {
  "kernelspec": {
   "display_name": "Python 3 (ipykernel)",
   "language": "python",
   "name": "python3"
  },
  "language_info": {
   "codemirror_mode": {
    "name": "ipython",
    "version": 3
   },
   "file_extension": ".py",
   "mimetype": "text/x-python",
   "name": "python",
   "nbconvert_exporter": "python",
   "pygments_lexer": "ipython3",
   "version": "3.11.3"
  }
 },
 "nbformat": 4,
 "nbformat_minor": 5
}
