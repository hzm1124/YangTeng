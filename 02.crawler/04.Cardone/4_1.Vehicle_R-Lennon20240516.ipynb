{
 "cells": [
  {
   "cell_type": "code",
   "execution_count": 1,
   "id": "aac44a48",
   "metadata": {},
   "outputs": [],
   "source": [
    "import pandas as pd\n",
    "\n",
    "output_correct = pd.DataFrame()\n",
    "output_error = pd.DataFrame()"
   ]
  },
  {
   "cell_type": "code",
   "execution_count": 2,
   "id": "625180e9",
   "metadata": {},
   "outputs": [
    {
     "name": "stdout",
     "output_type": "stream",
     "text": [
      "总数量：166\n"
     ]
    },
    {
     "data": {
      "text/plain": [
       "['mXWIhUuYvk3hklMcdwLi4lwVd3s6VASw',\n",
       " 'mXWIhUuYvk3hklMcdwLi4lwVd3s6VASw',\n",
       " 'mXWIhUuYvk3hklMcdwLi4lwVd3s6VASw',\n",
       " 'mXWIhUuYvk3hklMcdwLi4lwVd3s6VASw',\n",
       " 'mXWIhUuYvk3hklMcdwLi4lwVd3s6VASw',\n",
       " 'mXWIhUuYvk3hklMcdwLi4lwVd3s6VASw',\n",
       " 'mXWIhUuYvk3hklMcdwLi4lwVd3s6VASw',\n",
       " 'mXWIhUuYvk3hklMcdwLi4lwVd3s6VASw',\n",
       " 'mXWIhUuYvk3hklMcdwLi4lwVd3s6VASw',\n",
       " 'mXWIhUuYvk3hklMcdwLi4lwVd3s6VASw',\n",
       " 'mXWIhUuYvk3hklMcdwLi4lwVd3s6VASw',\n",
       " 'mXWIhUuYvk3hklMcdwLi4lwVd3s6VASw',\n",
       " 'mXWIhUuYvk3hklMcdwLi4lwVd3s6VASw',\n",
       " 'mXWIhUuYvk3hklMcdwLi4lwVd3s6VASw',\n",
       " 'mXWIhUuYvk3hklMcdwLi4lwVd3s6VASw',\n",
       " 'mXWIhUuYvk3hklMcdwLi4lwVd3s6VASw',\n",
       " 'mXWIhUuYvk3hklMcdwLi4lwVd3s6VASw',\n",
       " 'mXWIhUuYvk3hklMcdwLi4lwVd3s6VASw',\n",
       " 'mXWIhUuYvk3hklMcdwLi4lwVd3s6VASw',\n",
       " 'mXWIhUuYvk3hklMcdwLi4lwVd3s6VASw',\n",
       " 'mXWIhUuYvk3hklMcdwLi4lwVd3s6VASw',\n",
       " 'mXWIhUuYvk3hklMcdwLi4lwVd3s6VASw',\n",
       " 'mXWIhUuYvk3hklMcdwLi4lwVd3s6VASw',\n",
       " 'mXWIhUuYvk3hklMcdwLi4lwVd3s6VASw',\n",
       " 'mXWIhUuYvk3hklMcdwLi4lwVd3s6VASw',\n",
       " 'mXWIhUuYvk3hklMcdwLi4lwVd3s6VASw',\n",
       " 'mXWIhUuYvk3hklMcdwLi4lwVd3s6VASw',\n",
       " 'mXWIhUuYvk3hklMcdwLi4lwVd3s6VASw',\n",
       " 'mXWIhUuYvk3hklMcdwLi4lwVd3s6VASw',\n",
       " 'mXWIhUuYvk3hklMcdwLi4lwVd3s6VASw',\n",
       " 'mXWIhUuYvk3hklMcdwLi4lwVd3s6VASw',\n",
       " 'mXWIhUuYvk3hklMcdwLi4lwVd3s6VASw',\n",
       " 'mXWIhUuYvk3hklMcdwLi4lwVd3s6VASw',\n",
       " 'mXWIhUuYvk3hklMcdwLi4lwVd3s6VASw',\n",
       " 'mXWIhUuYvk3hklMcdwLi4lwVd3s6VASw',\n",
       " 'mXWIhUuYvk3hklMcdwLi4lwVd3s6VASw',\n",
       " 'mXWIhUuYvk3hklMcdwLi4lwVd3s6VASw',\n",
       " 'mXWIhUuYvk3hklMcdwLi4lwVd3s6VASw',\n",
       " 'mXWIhUuYvk3hklMcdwLi4lwVd3s6VASw',\n",
       " 'mXWIhUuYvk3hklMcdwLi4lwVd3s6VASw',\n",
       " 'mXWIhUuYvk3hklMcdwLi4lwVd3s6VASw',\n",
       " 'mXWIhUuYvk3hklMcdwLi4lwVd3s6VASw',\n",
       " 'mXWIhUuYvk3hklMcdwLi4lwVd3s6VASw',\n",
       " 'mXWIhUuYvk3hklMcdwLi4lwVd3s6VASw',\n",
       " 'mXWIhUuYvk3hklMcdwLi4lwVd3s6VASw',\n",
       " 'mXWIhUuYvk3hklMcdwLi4lwVd3s6VASw',\n",
       " 'mXWIhUuYvk3hklMcdwLi4lwVd3s6VASw',\n",
       " 'mXWIhUuYvk3hklMcdwLi4lwVd3s6VASw',\n",
       " 'mXWIhUuYvk3hklMcdwLi4lwVd3s6VASw',\n",
       " 'mXWIhUuYvk3hklMcdwLi4lwVd3s6VASw',\n",
       " 'mXWIhUuYvk3hklMcdwLi4lwVd3s6VASw',\n",
       " 'mXWIhUuYvk3hklMcdwLi4lwVd3s6VASw',\n",
       " 'mXWIhUuYvk3hklMcdwLi4lwVd3s6VASw',\n",
       " 'mXWIhUuYvk3hklMcdwLi4lwVd3s6VASw',\n",
       " 'mXWIhUuYvk3hklMcdwLi4lwVd3s6VASw',\n",
       " 'mXWIhUuYvk3hklMcdwLi4lwVd3s6VASw',\n",
       " 'mXWIhUuYvk3hklMcdwLi4lwVd3s6VASw',\n",
       " 'mXWIhUuYvk3hklMcdwLi4lwVd3s6VASw',\n",
       " 'mXWIhUuYvk3hklMcdwLi4lwVd3s6VASw',\n",
       " 'mXWIhUuYvk3hklMcdwLi4lwVd3s6VASw',\n",
       " 'mXWIhUuYvk3hklMcdwLi4lwVd3s6VASw',\n",
       " 'mXWIhUuYvk3hklMcdwLi4lwVd3s6VASw',\n",
       " 'mXWIhUuYvk3hklMcdwLi4lwVd3s6VASw',\n",
       " 'mXWIhUuYvk3hklMcdwLi4lwVd3s6VASw',\n",
       " 'mXWIhUuYvk3hklMcdwLi4lwVd3s6VASw',\n",
       " 'mXWIhUuYvk3hklMcdwLi4lwVd3s6VASw',\n",
       " 'mXWIhUuYvk3hklMcdwLi4lwVd3s6VASw',\n",
       " 'mXWIhUuYvk3hklMcdwLi4lwVd3s6VASw',\n",
       " 'mXWIhUuYvk3hklMcdwLi4lwVd3s6VASw',\n",
       " 'mXWIhUuYvk3hklMcdwLi4lwVd3s6VASw',\n",
       " 'mXWIhUuYvk3hklMcdwLi4lwVd3s6VASw',\n",
       " 'mXWIhUuYvk3hklMcdwLi4lwVd3s6VASw',\n",
       " 'mXWIhUuYvk3hklMcdwLi4lwVd3s6VASw',\n",
       " 'mXWIhUuYvk3hklMcdwLi4lwVd3s6VASw',\n",
       " 'mXWIhUuYvk3hklMcdwLi4lwVd3s6VASw',\n",
       " 'mXWIhUuYvk3hklMcdwLi4lwVd3s6VASw',\n",
       " 'mXWIhUuYvk3hklMcdwLi4lwVd3s6VASw',\n",
       " 'mXWIhUuYvk3hklMcdwLi4lwVd3s6VASw',\n",
       " 'mXWIhUuYvk3hklMcdwLi4lwVd3s6VASw',\n",
       " 'mXWIhUuYvk3hklMcdwLi4lwVd3s6VASw',\n",
       " 'mXWIhUuYvk3hklMcdwLi4lwVd3s6VASw',\n",
       " 'mXWIhUuYvk3hklMcdwLi4lwVd3s6VASw',\n",
       " 'mXWIhUuYvk3hklMcdwLi4lwVd3s6VASw',\n",
       " 'mXWIhUuYvk3hklMcdwLi4lwVd3s6VASw',\n",
       " 'mXWIhUuYvk3hklMcdwLi4lwVd3s6VASw',\n",
       " 'mXWIhUuYvk3hklMcdwLi4lwVd3s6VASw',\n",
       " 'mXWIhUuYvk3hklMcdwLi4lwVd3s6VASw',\n",
       " 'mXWIhUuYvk3hklMcdwLi4lwVd3s6VASw',\n",
       " 'mXWIhUuYvk3hklMcdwLi4lwVd3s6VASw',\n",
       " 'mXWIhUuYvk3hklMcdwLi4lwVd3s6VASw',\n",
       " 'mXWIhUuYvk3hklMcdwLi4lwVd3s6VASw',\n",
       " 'mXWIhUuYvk3hklMcdwLi4lwVd3s6VASw',\n",
       " 'mXWIhUuYvk3hklMcdwLi4lwVd3s6VASw',\n",
       " 'mXWIhUuYvk3hklMcdwLi4lwVd3s6VASw',\n",
       " 'mXWIhUuYvk3hklMcdwLi4lwVd3s6VASw',\n",
       " 'mXWIhUuYvk3hklMcdwLi4lwVd3s6VASw',\n",
       " 'mXWIhUuYvk3hklMcdwLi4lwVd3s6VASw',\n",
       " 'mXWIhUuYvk3hklMcdwLi4lwVd3s6VASw',\n",
       " 'mXWIhUuYvk3hklMcdwLi4lwVd3s6VASw',\n",
       " 'mXWIhUuYvk3hklMcdwLi4lwVd3s6VASw',\n",
       " 'mXWIhUuYvk3hklMcdwLi4lwVd3s6VASw',\n",
       " 'mXWIhUuYvk3hklMcdwLi4lwVd3s6VASw',\n",
       " 'mXWIhUuYvk3hklMcdwLi4lwVd3s6VASw',\n",
       " 'mXWIhUuYvk3hklMcdwLi4lwVd3s6VASw',\n",
       " 'mXWIhUuYvk3hklMcdwLi4lwVd3s6VASw',\n",
       " 'mXWIhUuYvk3hklMcdwLi4lwVd3s6VASw',\n",
       " 'mXWIhUuYvk3hklMcdwLi4lwVd3s6VASw',\n",
       " 'mXWIhUuYvk3hklMcdwLi4lwVd3s6VASw',\n",
       " 'mXWIhUuYvk3hklMcdwLi4lwVd3s6VASw',\n",
       " 'mXWIhUuYvk3hklMcdwLi4lwVd3s6VASw',\n",
       " 'mXWIhUuYvk3hklMcdwLi4lwVd3s6VASw',\n",
       " 'mXWIhUuYvk3hklMcdwLi4lwVd3s6VASw',\n",
       " 'mXWIhUuYvk3hklMcdwLi4lwVd3s6VASw',\n",
       " 'mXWIhUuYvk3hklMcdwLi4lwVd3s6VASw',\n",
       " 'mXWIhUuYvk3hklMcdwLi4lwVd3s6VASw',\n",
       " 'mXWIhUuYvk3hklMcdwLi4lwVd3s6VASw',\n",
       " 'mXWIhUuYvk3hklMcdwLi4lwVd3s6VASw',\n",
       " 'mXWIhUuYvk3hklMcdwLi4lwVd3s6VASw',\n",
       " 'mXWIhUuYvk3hklMcdwLi4lwVd3s6VASw',\n",
       " 'mXWIhUuYvk3hklMcdwLi4lwVd3s6VASw',\n",
       " 'mXWIhUuYvk3hklMcdwLi4lwVd3s6VASw',\n",
       " 'mXWIhUuYvk3hklMcdwLi4lwVd3s6VASw',\n",
       " 'mXWIhUuYvk3hklMcdwLi4lwVd3s6VASw',\n",
       " 'mXWIhUuYvk3hklMcdwLi4lwVd3s6VASw',\n",
       " 'mXWIhUuYvk3hklMcdwLi4lwVd3s6VASw',\n",
       " 'mXWIhUuYvk3hklMcdwLi4lwVd3s6VASw',\n",
       " 'mXWIhUuYvk3hklMcdwLi4lwVd3s6VASw',\n",
       " 'mXWIhUuYvk3hklMcdwLi4lwVd3s6VASw',\n",
       " 'mXWIhUuYvk3hklMcdwLi4lwVd3s6VASw',\n",
       " 'mXWIhUuYvk3hklMcdwLi4lwVd3s6VASw',\n",
       " 'mXWIhUuYvk3hklMcdwLi4lwVd3s6VASw',\n",
       " 'mXWIhUuYvk3hklMcdwLi4lwVd3s6VASw',\n",
       " 'mXWIhUuYvk3hklMcdwLi4lwVd3s6VASw',\n",
       " 'mXWIhUuYvk3hklMcdwLi4lwVd3s6VASw',\n",
       " 'mXWIhUuYvk3hklMcdwLi4lwVd3s6VASw',\n",
       " 'mXWIhUuYvk3hklMcdwLi4lwVd3s6VASw',\n",
       " 'mXWIhUuYvk3hklMcdwLi4lwVd3s6VASw',\n",
       " 'mXWIhUuYvk3hklMcdwLi4lwVd3s6VASw',\n",
       " 'mXWIhUuYvk3hklMcdwLi4lwVd3s6VASw',\n",
       " 'mXWIhUuYvk3hklMcdwLi4lwVd3s6VASw',\n",
       " 'mXWIhUuYvk3hklMcdwLi4lwVd3s6VASw',\n",
       " 'mXWIhUuYvk3hklMcdwLi4lwVd3s6VASw',\n",
       " 'mXWIhUuYvk3hklMcdwLi4lwVd3s6VASw',\n",
       " 'mXWIhUuYvk3hklMcdwLi4lwVd3s6VASw',\n",
       " 'mXWIhUuYvk3hklMcdwLi4lwVd3s6VASw',\n",
       " 'mXWIhUuYvk3hklMcdwLi4lwVd3s6VASw',\n",
       " 'mXWIhUuYvk3hklMcdwLi4lwVd3s6VASw',\n",
       " 'mXWIhUuYvk3hklMcdwLi4lwVd3s6VASw',\n",
       " 'mXWIhUuYvk3hklMcdwLi4lwVd3s6VASw',\n",
       " 'mXWIhUuYvk3hklMcdwLi4lwVd3s6VASw',\n",
       " 'mXWIhUuYvk3hklMcdwLi4lwVd3s6VASw',\n",
       " 'mXWIhUuYvk3hklMcdwLi4lwVd3s6VASw',\n",
       " 'mXWIhUuYvk3hklMcdwLi4lwVd3s6VASw',\n",
       " 'mXWIhUuYvk3hklMcdwLi4lwVd3s6VASw',\n",
       " 'mXWIhUuYvk3hklMcdwLi4lwVd3s6VASw',\n",
       " 'mXWIhUuYvk3hklMcdwLi4lwVd3s6VASw',\n",
       " 'mXWIhUuYvk3hklMcdwLi4lwVd3s6VASw',\n",
       " 'mXWIhUuYvk3hklMcdwLi4lwVd3s6VASw',\n",
       " 'mXWIhUuYvk3hklMcdwLi4lwVd3s6VASw',\n",
       " 'mXWIhUuYvk3hklMcdwLi4lwVd3s6VASw',\n",
       " 'mXWIhUuYvk3hklMcdwLi4lwVd3s6VASw',\n",
       " 'mXWIhUuYvk3hklMcdwLi4lwVd3s6VASw',\n",
       " 'mXWIhUuYvk3hklMcdwLi4lwVd3s6VASw',\n",
       " 'mXWIhUuYvk3hklMcdwLi4lwVd3s6VASw',\n",
       " 'mXWIhUuYvk3hklMcdwLi4lwVd3s6VASw',\n",
       " 'mXWIhUuYvk3hklMcdwLi4lwVd3s6VASw']"
      ]
     },
     "execution_count": 2,
     "metadata": {},
     "output_type": "execute_result"
    }
   ],
   "source": [
    "input_ = pd.read_excel('./auth.xlsx',\n",
    "                       header=0,\n",
    "                       dtype=str).fillna('')\n",
    "\n",
    "print('总数量：' + str(len(input_)))\n",
    "input_['Auth'].tolist()"
   ]
  },
  {
   "cell_type": "code",
   "execution_count": 3,
   "id": "287cb149",
   "metadata": {},
   "outputs": [
    {
     "name": "stdout",
     "output_type": "stream",
     "text": [
      "error\n"
     ]
    }
   ],
   "source": [
    "crawler_status = 'error'\n",
    "\n",
    "print(crawler_status)"
   ]
  },
  {
   "cell_type": "code",
   "execution_count": 4,
   "id": "4c4efd91",
   "metadata": {},
   "outputs": [],
   "source": [
    "import requests\n",
    "\n",
    "import sys\n",
    "sys.path.append('../00.Tools')\n",
    "import UA\n",
    "import Proxy"
   ]
  },
  {
   "cell_type": "code",
   "execution_count": 5,
   "id": "f4d0ee82",
   "metadata": {
    "scrolled": true
   },
   "outputs": [
    {
     "data": {
      "text/plain": [
       "'[]'"
      ]
     },
     "execution_count": 5,
     "metadata": {},
     "output_type": "execute_result"
    }
   ],
   "source": [
    "a = 0\n",
    "\n",
    "resp = requests.get('https://productdesk-api.cellacore.net/legacy/cardone/Vehicle/Recommendation/?q=(productSKU.keyword:' + input_.loc[a, 'Part_Number'] + ')&size=5000&useCache=true&auth=' + input_.loc[a, 'Auth'],\n",
    "                    headers=UA.get_User_Agent_Requests(),\n",
    "                    proxies=Proxy.get_Proxy_Requests()).text\n",
    "\n",
    "resp"
   ]
  },
  {
   "cell_type": "code",
   "execution_count": 6,
   "id": "42a29249",
   "metadata": {},
   "outputs": [],
   "source": [
    "import json"
   ]
  },
  {
   "cell_type": "code",
   "execution_count": 7,
   "id": "63601dff",
   "metadata": {},
   "outputs": [
    {
     "data": {
      "text/plain": [
       "[]"
      ]
     },
     "execution_count": 7,
     "metadata": {},
     "output_type": "execute_result"
    }
   ],
   "source": [
    "json_data = json.loads(resp)\n",
    "\n",
    "json_data"
   ]
  },
  {
   "cell_type": "code",
   "execution_count": 8,
   "id": "1d1bdfbe",
   "metadata": {},
   "outputs": [
    {
     "data": {
      "text/plain": [
       "{}"
      ]
     },
     "execution_count": 8,
     "metadata": {},
     "output_type": "execute_result"
    }
   ],
   "source": [
    "dict_vehicle = {}\n",
    "for data in json_data:\n",
    "    make = data['fitment']['Vcdb']['MakeName'].strip()\n",
    "    model = data['fitment']['Vcdb']['ModelName'].strip()\n",
    "    if len(data['fitment']['Vcdb']['Engines']) == 0:\n",
    "        engine = ''\n",
    "    else:\n",
    "        engine = '' if data['fitment']['Vcdb']['Engines'][0]['Liter'] == 0 else str(data['fitment']['Vcdb']['Engines'][0]['Liter']) + 'L'\n",
    "        engine += '' if data['fitment']['Vcdb']['Engines'][0]['BlockType'].strip() == '-' else ' ' + data['fitment']['Vcdb']['Engines'][0]['BlockType'].strip() + str(data['fitment']['Vcdb']['Engines'][0]['Cylinders'])\n",
    "    year = int(data['fitment']['Vcdb']['Year'])\n",
    "    \n",
    "    if make not in dict_vehicle:\n",
    "        dict_vehicle[make] = {model: {engine: [year]}}\n",
    "    else:\n",
    "        if model not in dict_vehicle[make]:\n",
    "            dict_vehicle[make][model] = {engine: [year]}\n",
    "        else:\n",
    "            if engine not in dict_vehicle[make][model]:\n",
    "                dict_vehicle[make][model][engine] = [year]\n",
    "            else:\n",
    "                dict_vehicle[make][model][engine] += [year]\n",
    "                \n",
    "    dict_vehicle[make][model][engine] = sorted(list(set(dict_vehicle[make][model][engine])))\n",
    "    \n",
    "dict_vehicle"
   ]
  },
  {
   "cell_type": "code",
   "execution_count": 9,
   "id": "b5bcbb88",
   "metadata": {},
   "outputs": [
    {
     "name": "stdout",
     "output_type": "stream",
     "text": [
      "\n"
     ]
    }
   ],
   "source": [
    "list_vehicle = []\n",
    "for make in dict_vehicle:\n",
    "    for model in dict_vehicle[make]:\n",
    "        list_year = []\n",
    "        for engine in dict_vehicle[make][model]:\n",
    "            list_year += dict_vehicle[make][model][engine]\n",
    "        list_year = sorted(list(set(list_year)))\n",
    "        \n",
    "        year_min = min(list_year)\n",
    "        year_max = max(list_year)\n",
    "        if year_min == year_max:\n",
    "            list_vehicle.append(make + ' ' + model + ' ' + str(year_min))\n",
    "        else:\n",
    "            list_vehicle.append(make + ' ' + model + ' ' + str(year_min) + '-' + str(year_max))\n",
    "\n",
    "vehicle_1 = '\\n'.join(sorted(list_vehicle))\n",
    "\n",
    "print(vehicle_1)"
   ]
  },
  {
   "cell_type": "code",
   "execution_count": 10,
   "id": "9100eecd",
   "metadata": {},
   "outputs": [
    {
     "name": "stdout",
     "output_type": "stream",
     "text": [
      "\n"
     ]
    }
   ],
   "source": [
    "list_vehicle = []\n",
    "for make in dict_vehicle:\n",
    "    for model in dict_vehicle[make]:\n",
    "        for engine in dict_vehicle[make][model]:\n",
    "            year_min = min(dict_vehicle[make][model][engine])\n",
    "            year_max = max(dict_vehicle[make][model][engine])\n",
    "            if year_min == year_max:\n",
    "                if engine == '':\n",
    "                    list_vehicle.append(make + ' ' + model + ' ' + str(year_min))\n",
    "                else:\n",
    "                    list_vehicle.append(make + ' ' + model + ' ' + str(year_min) + ' ' + engine)\n",
    "            else:\n",
    "                if engine == '':\n",
    "                    list_vehicle.append(make + ' ' + model + ' ' + str(year_min) + '-' + str(year_max))\n",
    "                else:\n",
    "                    list_vehicle.append(make + ' ' + model + ' ' + str(year_min) + '-' + str(year_max) + ' ' + engine)\n",
    "\n",
    "vehicle_2 = '\\n'.join(sorted(list_vehicle))\n",
    "\n",
    "print(vehicle_2)"
   ]
  },
  {
   "cell_type": "code",
   "execution_count": 11,
   "id": "c254e2f2",
   "metadata": {},
   "outputs": [
    {
     "data": {
      "text/plain": [
       "1"
      ]
     },
     "execution_count": 11,
     "metadata": {},
     "output_type": "execute_result"
    }
   ],
   "source": [
    "df_temp = pd.DataFrame([{'Part_Number': input_.loc[a, 'Part_Number'],\n",
    "                         'Vehicle_1': vehicle_1,\n",
    "                         'Vehicle_2': vehicle_2}])\n",
    "\n",
    "output_correct = pd.concat([output_correct, df_temp], ignore_index=True).fillna('')\n",
    "\n",
    "len(output_correct)"
   ]
  },
  {
   "cell_type": "code",
   "execution_count": 12,
   "id": "76065500",
   "metadata": {},
   "outputs": [
    {
     "name": "stdout",
     "output_type": "stream",
     "text": [
      "ok\n"
     ]
    }
   ],
   "source": [
    "crawler_status = 'ok'\n",
    "\n",
    "print(crawler_status)"
   ]
  },
  {
   "cell_type": "code",
   "execution_count": 13,
   "id": "22d4f3db",
   "metadata": {},
   "outputs": [
    {
     "data": {
      "text/plain": [
       "0"
      ]
     },
     "execution_count": 13,
     "metadata": {},
     "output_type": "execute_result"
    }
   ],
   "source": [
    "if crawler_status == 'error':\n",
    "    df_temp = pd.DataFrame([{'Part_Number': input_.loc[a, 'Part_Number'],\n",
    "                             'Auth': input_.loc[a, 'Auth']}])\n",
    "    \n",
    "    output_error = pd.concat([output_error, df_temp], ignore_index=True).fillna('')\n",
    "\n",
    "len(output_error)"
   ]
  },
  {
   "cell_type": "code",
   "execution_count": 14,
   "id": "412408b6",
   "metadata": {},
   "outputs": [
    {
     "data": {
      "text/html": [
       "<div>\n",
       "<style scoped>\n",
       "    .dataframe tbody tr th:only-of-type {\n",
       "        vertical-align: middle;\n",
       "    }\n",
       "\n",
       "    .dataframe tbody tr th {\n",
       "        vertical-align: top;\n",
       "    }\n",
       "\n",
       "    .dataframe thead th {\n",
       "        text-align: right;\n",
       "    }\n",
       "</style>\n",
       "<table border=\"1\" class=\"dataframe\">\n",
       "  <thead>\n",
       "    <tr style=\"text-align: right;\">\n",
       "      <th></th>\n",
       "      <th>Part_Number</th>\n",
       "      <th>Vehicle_1</th>\n",
       "      <th>Vehicle_2</th>\n",
       "    </tr>\n",
       "  </thead>\n",
       "  <tbody>\n",
       "    <tr>\n",
       "      <th>0</th>\n",
       "      <td>43-1429</td>\n",
       "      <td></td>\n",
       "      <td></td>\n",
       "    </tr>\n",
       "  </tbody>\n",
       "</table>\n",
       "</div>"
      ],
      "text/plain": [
       "  Part_Number Vehicle_1 Vehicle_2\n",
       "0     43-1429                    "
      ]
     },
     "execution_count": 14,
     "metadata": {},
     "output_type": "execute_result"
    }
   ],
   "source": [
    "output_correct = output_correct.drop_duplicates(ignore_index=True)\n",
    "output_correct = output_correct.sort_values(by=['Part_Number'], ascending=[True]).reset_index(drop=True)\n",
    "output_correct.to_excel('./test_vehicle.xlsx', index=False)\n",
    "\n",
    "output_correct"
   ]
  },
  {
   "cell_type": "code",
   "execution_count": 15,
   "id": "17399c37",
   "metadata": {},
   "outputs": [
    {
     "data": {
      "text/html": [
       "<div>\n",
       "<style scoped>\n",
       "    .dataframe tbody tr th:only-of-type {\n",
       "        vertical-align: middle;\n",
       "    }\n",
       "\n",
       "    .dataframe tbody tr th {\n",
       "        vertical-align: top;\n",
       "    }\n",
       "\n",
       "    .dataframe thead th {\n",
       "        text-align: right;\n",
       "    }\n",
       "</style>\n",
       "<table border=\"1\" class=\"dataframe\">\n",
       "  <thead>\n",
       "    <tr style=\"text-align: right;\">\n",
       "      <th></th>\n",
       "    </tr>\n",
       "  </thead>\n",
       "  <tbody>\n",
       "  </tbody>\n",
       "</table>\n",
       "</div>"
      ],
      "text/plain": [
       "Empty DataFrame\n",
       "Columns: []\n",
       "Index: []"
      ]
     },
     "execution_count": 15,
     "metadata": {},
     "output_type": "execute_result"
    }
   ],
   "source": [
    "if len(output_error) != 0:\n",
    "    output_error = output_error.drop_duplicates(ignore_index=True)\n",
    "    output_error = output_error.sort_values(by=['Part_Number'], ascending=[True]).reset_index(drop=True)\n",
    "    output_error.to_excel('./test_vehicle_error.xlsx', index=False)\n",
    "\n",
    "output_error"
   ]
  },
  {
   "cell_type": "code",
   "execution_count": null,
   "id": "2be3dddb",
   "metadata": {},
   "outputs": [],
   "source": []
  }
 ],
 "metadata": {
  "kernelspec": {
   "display_name": "Python 3 (ipykernel)",
   "language": "python",
   "name": "python3"
  },
  "language_info": {
   "codemirror_mode": {
    "name": "ipython",
    "version": 3
   },
   "file_extension": ".py",
   "mimetype": "text/x-python",
   "name": "python",
   "nbconvert_exporter": "python",
   "pygments_lexer": "ipython3",
   "version": "3.11.3"
  }
 },
 "nbformat": 4,
 "nbformat_minor": 5
}
