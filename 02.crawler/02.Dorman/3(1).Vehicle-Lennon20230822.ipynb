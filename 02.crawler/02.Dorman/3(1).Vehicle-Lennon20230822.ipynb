{
 "cells": [
  {
   "cell_type": "code",
   "execution_count": 1,
   "id": "1099b543",
   "metadata": {},
   "outputs": [],
   "source": [
    "import pandas as pd"
   ]
  },
  {
   "cell_type": "code",
   "execution_count": 2,
   "id": "01920c19",
   "metadata": {},
   "outputs": [
    {
     "name": "stdout",
     "output_type": "stream",
     "text": [
      "总数量：25\n"
     ]
    },
    {
     "data": {
      "text/plain": [
       "['https://www.dormanproducts.com/itemdetailapp.aspx?ProductID=131697&PartType=HVAC%20Control%20Module',\n",
       " 'https://www.dormanproducts.com/itemdetailapp.aspx?ProductID=76754&PartType=HVAC%20Control%20Module',\n",
       " 'https://www.dormanproducts.com/itemdetailapp.aspx?ProductID=131698&PartType=HVAC%20Control%20Module',\n",
       " 'https://www.dormanproducts.com/itemdetailapp.aspx?ProductID=66592&PartType=HVAC%20Control%20Module',\n",
       " 'https://www.dormanproducts.com/itemdetailapp.aspx?ProductID=82894&PartType=HVAC%20Control%20Module',\n",
       " 'https://www.dormanproducts.com/itemdetailapp.aspx?ProductID=72789&PartType=HVAC%20Control%20Module',\n",
       " 'https://www.dormanproducts.com/itemdetailapp.aspx?ProductID=128361&PartType=HVAC%20Control%20Module',\n",
       " 'https://www.dormanproducts.com/itemdetailapp.aspx?ProductID=76741&PartType=HVAC%20Control%20Module',\n",
       " 'https://www.dormanproducts.com/itemdetailapp.aspx?ProductID=76398&PartType=HVAC%20Control%20Module',\n",
       " 'https://www.dormanproducts.com/itemdetailapp.aspx?ProductID=53418&PartType=HVAC%20Control%20Module',\n",
       " 'https://www.dormanproducts.com/itemdetailapp.aspx?ProductID=65302&PartType=HVAC%20Control%20Module',\n",
       " 'https://www.dormanproducts.com/itemdetailapp.aspx?ProductID=49327&PartType=HVAC%20Control%20Module',\n",
       " 'https://www.dormanproducts.com/itemdetailapp.aspx?ProductID=106223&PartType=HVAC%20Control%20Module',\n",
       " 'https://www.dormanproducts.com/itemdetailapp.aspx?ProductID=73910&PartType=HVAC%20Control%20Module',\n",
       " 'https://www.dormanproducts.com/itemdetailapp.aspx?ProductID=74179&PartType=HVAC%20Control%20Module',\n",
       " 'https://www.dormanproducts.com/itemdetailapp.aspx?ProductID=74181&PartType=HVAC%20Control%20Module',\n",
       " 'https://www.dormanproducts.com/itemdetailapp.aspx?ProductID=46838&PartType=HVAC%20Control%20Module',\n",
       " 'https://www.dormanproducts.com/itemdetailapp.aspx?ProductID=47094&PartType=HVAC%20Control%20Module',\n",
       " 'https://www.dormanproducts.com/itemdetailapp.aspx?ProductID=49317&PartType=HVAC%20Control%20Module',\n",
       " 'https://www.dormanproducts.com/itemdetailapp.aspx?ProductID=50180&PartType=HVAC%20Control%20Module',\n",
       " 'https://www.dormanproducts.com/itemdetailapp.aspx?ProductID=131430&PartType=HVAC%20Control%20Module',\n",
       " 'https://www.dormanproducts.com/itemdetailapp.aspx?ProductID=50290&PartType=HVAC%20Control%20Module',\n",
       " 'https://www.dormanproducts.com/itemdetailapp.aspx?ProductID=49679&PartType=HVAC%20Control%20Module',\n",
       " 'https://www.dormanproducts.com/itemdetailapp.aspx?ProductID=48281&PartType=HVAC%20Control%20Module',\n",
       " 'https://www.dormanproducts.com/itemdetailapp.aspx?ProductID=78185&PartType=HVAC%20Control%20Module']"
      ]
     },
     "execution_count": 2,
     "metadata": {},
     "output_type": "execute_result"
    }
   ],
   "source": [
    "df_menu = pd.read_excel('./detail.xlsx', header=0)\n",
    "list_vehicle_url = df_menu['vehicle_url'].to_list()\n",
    "\n",
    "print('总数量：' + str(len(list_vehicle_url)))\n",
    "list_vehicle_url"
   ]
  },
  {
   "cell_type": "code",
   "execution_count": 3,
   "id": "380e6d34",
   "metadata": {},
   "outputs": [
    {
     "data": {
      "text/html": [
       "<div>\n",
       "<style scoped>\n",
       "    .dataframe tbody tr th:only-of-type {\n",
       "        vertical-align: middle;\n",
       "    }\n",
       "\n",
       "    .dataframe tbody tr th {\n",
       "        vertical-align: top;\n",
       "    }\n",
       "\n",
       "    .dataframe thead th {\n",
       "        text-align: right;\n",
       "    }\n",
       "</style>\n",
       "<table border=\"1\" class=\"dataframe\">\n",
       "  <thead>\n",
       "    <tr style=\"text-align: right;\">\n",
       "      <th></th>\n",
       "    </tr>\n",
       "  </thead>\n",
       "  <tbody>\n",
       "  </tbody>\n",
       "</table>\n",
       "</div>"
      ],
      "text/plain": [
       "Empty DataFrame\n",
       "Columns: []\n",
       "Index: []"
      ]
     },
     "execution_count": 3,
     "metadata": {},
     "output_type": "execute_result"
    }
   ],
   "source": [
    "df = pd.DataFrame()\n",
    "\n",
    "df"
   ]
  },
  {
   "cell_type": "code",
   "execution_count": 4,
   "id": "1dc3aeae",
   "metadata": {},
   "outputs": [],
   "source": [
    "from selenium.webdriver import ChromeOptions"
   ]
  },
  {
   "cell_type": "code",
   "execution_count": 5,
   "id": "a16aba51",
   "metadata": {},
   "outputs": [],
   "source": [
    "option = ChromeOptions()\n",
    "option.add_experimental_option('useAutomationExtension', False)\n",
    "# option.add_argument('blink-settings=imagesEnabled=false')\n",
    "option.add_argument('--disable-blink-features=AutomationControlled')\n",
    "option.add_argument('--disable-dev-shm-usage')\n",
    "option.add_argument('--disable-gpu')\n",
    "option.add_experimental_option('excludeSwitches', ['enable-automation'])\n",
    "# option.add_argument('--headless')\n",
    "option.add_argument('--no-sandbox')\n",
    "# option.add_argument('--proxy-server=')\n",
    "# option.add_argument('user-agent=')\n",
    "option.page_load_strategy = 'eager'"
   ]
  },
  {
   "cell_type": "code",
   "execution_count": 6,
   "id": "2612b3a4",
   "metadata": {},
   "outputs": [],
   "source": [
    "from selenium.webdriver import Chrome\n",
    "from selenium.webdriver.chrome.service import Service"
   ]
  },
  {
   "cell_type": "code",
   "execution_count": 7,
   "id": "bf851080",
   "metadata": {},
   "outputs": [],
   "source": [
    "browser = Chrome(service=Service('../../../chromedriver'), options=option)\n",
    "\n",
    "browser.maximize_window()"
   ]
  },
  {
   "cell_type": "code",
   "execution_count": 8,
   "id": "0e29d82b",
   "metadata": {},
   "outputs": [],
   "source": [
    "import time\n",
    "\n",
    "i = 0\n",
    "\n",
    "browser.get(list_vehicle_url[i])\n",
    "\n",
    "time.sleep(5)"
   ]
  },
  {
   "cell_type": "code",
   "execution_count": 9,
   "id": "1126edd7",
   "metadata": {},
   "outputs": [],
   "source": [
    "from selenium.webdriver.support import expected_conditions as EC\n",
    "from selenium.webdriver.support.wait import WebDriverWait\n",
    "from selenium.webdriver.common.by import By"
   ]
  },
  {
   "cell_type": "code",
   "execution_count": 10,
   "id": "8c9244e9",
   "metadata": {},
   "outputs": [
    {
     "name": "stdout",
     "output_type": "stream",
     "text": [
      "0\n",
      "1\n",
      "2\n",
      "\n",
      "Chevrolet Trailblazer 2002-2009\n",
      "Chevrolet Silverado 1500 Classic 2007\n",
      "Chevrolet Silverado 1500 HD Classic 2007\n",
      "Chevrolet Silverado 2500 HD Classic 2007\n",
      "Chevrolet Silverado 3500 Classic 2007\n",
      "Chevrolet Avalanche 1500 2003-2006\n",
      "Chevrolet Avalanche 2500 2003-2006\n",
      "Chevrolet Silverado 1500 2003-2006\n",
      "Chevrolet Silverado 1500 HD 2003-2006\n",
      "Chevrolet Silverado 2500 (Mexico) 2005-2006\n",
      "Chevrolet Silverado 2500 HD 2003-2006\n",
      "Chevrolet Silverado 3500 2003-2006\n",
      "Chevrolet Suburban 1500 2003-2006\n",
      "Chevrolet Suburban 2500 2003-2006\n",
      "Chevrolet Tahoe 2003-2006\n",
      "Chevrolet Trailblazer EXT 2002-2006\n",
      "Chevrolet Silverado 2500 2003-2004\n",
      "GMC Envoy 2002-2009\n",
      "GMC Sierra 1500 Classic 2007\n",
      "GMC Sierra 1500 HD Classic 2007\n",
      "GMC Sierra 2500 HD Classic 2007\n",
      "GMC Sierra 3500 Classic 2007\n",
      "GMC Envoy XL 2002-2006\n",
      "GMC Sierra 1500 2003-2006\n",
      "GMC Sierra 1500 HD 2003-2006\n",
      "GMC Sierra 2500 HD 2003-2006\n",
      "GMC Sierra 3500 2003-2006\n",
      "GMC Yukon 2003-2006\n",
      "GMC Yukon XL 1500 2003-2006\n",
      "GMC Yukon XL 2500 2003-2006\n",
      "GMC Envoy XUV 2004-2005\n",
      "GMC Sierra 2500 2003-2004\n",
      "Saab 9-7x 2005-2009\n",
      "Isuzu Ascender 2003-2008\n",
      "Buick Rainier 2004-2007\n",
      "Cadillac Escalade 2003-2006\n",
      "Cadillac Escalade ESV 2003-2006\n",
      "Cadillac Escalade EXT 2003-2006\n",
      "Oldsmobile Bravada 2002-2004\n"
     ]
    }
   ],
   "source": [
    "page = 0\n",
    "\n",
    "dict_vehicle = {}\n",
    "while True:\n",
    "    print(page)\n",
    "    wait = WebDriverWait(browser, 60)\n",
    "    wait.until(EC.presence_of_element_located((By.XPATH, '//tr[@class=\"detail-app-row\"]')))\n",
    "    list_row = browser.find_elements(by=By.XPATH, value='//tr[@class=\"detail-app-row\"]')\n",
    "    \n",
    "    for row in list_row:\n",
    "        make = row.find_element(by=By.XPATH, value='./td[2]').text.strip()\n",
    "        model = row.find_element(by=By.XPATH, value='./td[3]').text.strip()\n",
    "        year = row.find_element(by=By.XPATH, value='./td[1]').text.strip()\n",
    "\n",
    "        if make not in dict_vehicle:\n",
    "            dict_vehicle[make] = {model: [year]}\n",
    "        else:\n",
    "            if model not in dict_vehicle[make]:\n",
    "                dict_vehicle[make][model] = [year]\n",
    "            else:\n",
    "                dict_vehicle[make][model].append(year)\n",
    "                \n",
    "    list_next = browser.find_elements(by=By.XPATH, value='//a[@id=\"pagingBottom_nextButton\"]')\n",
    "    if len(list_next) == 0:\n",
    "        break\n",
    "    else:\n",
    "        list_next[0].click()\n",
    "        \n",
    "    page += 1\n",
    "    \n",
    "list_vehicle = []\n",
    "for make in dict_vehicle:\n",
    "    for model in dict_vehicle[make]:\n",
    "        list_year = list(set(dict_vehicle[make][model]))\n",
    "        if len(list_year) == 1:\n",
    "            list_vehicle.append(make + ' ' + model + ' ' + list_year[0])\n",
    "        else:\n",
    "            list_vehicle.append(make + ' ' + model + ' ' + min(list_year) + '-' + max(list_year))\n",
    "\n",
    "vehicle = '\\n'.join(list_vehicle)\n",
    "\n",
    "print()\n",
    "print(vehicle)"
   ]
  },
  {
   "cell_type": "code",
   "execution_count": 11,
   "id": "abe2947c",
   "metadata": {},
   "outputs": [
    {
     "data": {
      "text/html": [
       "<div>\n",
       "<style scoped>\n",
       "    .dataframe tbody tr th:only-of-type {\n",
       "        vertical-align: middle;\n",
       "    }\n",
       "\n",
       "    .dataframe tbody tr th {\n",
       "        vertical-align: top;\n",
       "    }\n",
       "\n",
       "    .dataframe thead th {\n",
       "        text-align: right;\n",
       "    }\n",
       "</style>\n",
       "<table border=\"1\" class=\"dataframe\">\n",
       "  <thead>\n",
       "    <tr style=\"text-align: right;\">\n",
       "      <th></th>\n",
       "      <th>status</th>\n",
       "      <th>vehicle_url</th>\n",
       "      <th>Vehicle</th>\n",
       "    </tr>\n",
       "  </thead>\n",
       "  <tbody>\n",
       "    <tr>\n",
       "      <th>0</th>\n",
       "      <td>ok</td>\n",
       "      <td>https://www.dormanproducts.com/itemdetailapp.a...</td>\n",
       "      <td>Chevrolet Trailblazer 2002-2009\\nChevrolet Sil...</td>\n",
       "    </tr>\n",
       "  </tbody>\n",
       "</table>\n",
       "</div>"
      ],
      "text/plain": [
       "  status                                        vehicle_url  \\\n",
       "0     ok  https://www.dormanproducts.com/itemdetailapp.a...   \n",
       "\n",
       "                                             Vehicle  \n",
       "0  Chevrolet Trailblazer 2002-2009\\nChevrolet Sil...  "
      ]
     },
     "execution_count": 11,
     "metadata": {},
     "output_type": "execute_result"
    }
   ],
   "source": [
    "df_temp = pd.DataFrame([{'status': 'ok',\n",
    "                         'vehicle_url': list_vehicle_url[i],\n",
    "                         'Vehicle': vehicle}])\n",
    "\n",
    "browser.quit()\n",
    "\n",
    "df = pd.concat([df, df_temp], ignore_index=True).fillna('')\n",
    "\n",
    "df"
   ]
  },
  {
   "cell_type": "code",
   "execution_count": null,
   "id": "89a0a419",
   "metadata": {},
   "outputs": [],
   "source": []
  }
 ],
 "metadata": {
  "kernelspec": {
   "display_name": "Python 3 (ipykernel)",
   "language": "python",
   "name": "python3"
  },
  "language_info": {
   "codemirror_mode": {
    "name": "ipython",
    "version": 3
   },
   "file_extension": ".py",
   "mimetype": "text/x-python",
   "name": "python",
   "nbconvert_exporter": "python",
   "pygments_lexer": "ipython3",
   "version": "3.11.3"
  }
 },
 "nbformat": 4,
 "nbformat_minor": 5
}
