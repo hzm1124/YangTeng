{
 "cells": [
  {
   "cell_type": "code",
   "execution_count": 1,
   "id": "440a5ef3",
   "metadata": {},
   "outputs": [],
   "source": [
    "import pandas as pd"
   ]
  },
  {
   "cell_type": "code",
   "execution_count": 2,
   "id": "160b7036",
   "metadata": {},
   "outputs": [
    {
     "data": {
      "text/html": [
       "<div>\n",
       "<style scoped>\n",
       "    .dataframe tbody tr th:only-of-type {\n",
       "        vertical-align: middle;\n",
       "    }\n",
       "\n",
       "    .dataframe tbody tr th {\n",
       "        vertical-align: top;\n",
       "    }\n",
       "\n",
       "    .dataframe thead th {\n",
       "        text-align: right;\n",
       "    }\n",
       "</style>\n",
       "<table border=\"1\" class=\"dataframe\">\n",
       "  <thead>\n",
       "    <tr style=\"text-align: right;\">\n",
       "      <th></th>\n",
       "      <th>序号</th>\n",
       "      <th>Title</th>\n",
       "      <th>Subtitle</th>\n",
       "      <th>Price</th>\n",
       "      <th>Kit</th>\n",
       "      <th>Vehicle</th>\n",
       "      <th>OE</th>\n",
       "      <th>Pic</th>\n",
       "      <th>Url</th>\n",
       "      <th>Src</th>\n",
       "      <th>...</th>\n",
       "      <th>moog</th>\n",
       "      <th>motaquip</th>\n",
       "      <th>optimal</th>\n",
       "      <th>quinton hazell</th>\n",
       "      <th>ruville</th>\n",
       "      <th>snr</th>\n",
       "      <th>spidan</th>\n",
       "      <th>supra bearings</th>\n",
       "      <th>unipart</th>\n",
       "      <th>werthenbach</th>\n",
       "    </tr>\n",
       "  </thead>\n",
       "  <tbody>\n",
       "    <tr>\n",
       "      <th>0</th>\n",
       "      <td></td>\n",
       "      <td>SKF VKBA 928 Radlagersatz</td>\n",
       "      <td>mit Wellendichtring, 43 mm</td>\n",
       "      <td>49,24 €</td>\n",
       "      <td>1 x Mutter (Art. Nr: SKF01891)\\n1 x Mutter (Ar...</td>\n",
       "      <td>FIAT 126 (126) (Baujahr 09.1972 - 09.2000)\\nFI...</td>\n",
       "      <td>336501;985778</td>\n",
       "      <td></td>\n",
       "      <td>https://www.autoteiledirekt.de/skf-1363308.htm...</td>\n",
       "      <td>https://cdn.autoteiledirekt.de/thumb?id=136330...</td>\n",
       "      <td>...</td>\n",
       "      <td>FI-WB-11569</td>\n",
       "      <td>VBK 141</td>\n",
       "      <td>801922</td>\n",
       "      <td>QWB240</td>\n",
       "      <td>5803</td>\n",
       "      <td>R158.03</td>\n",
       "      <td>26504</td>\n",
       "      <td>MTK 087</td>\n",
       "      <td>GHK 1068</td>\n",
       "      <td>407</td>\n",
       "    </tr>\n",
       "  </tbody>\n",
       "</table>\n",
       "<p>1 rows × 36 columns</p>\n",
       "</div>"
      ],
      "text/plain": [
       "  序号                      Title                    Subtitle    Price  \\\n",
       "0     SKF VKBA 928 Radlagersatz  mit Wellendichtring, 43 mm  49,24 €   \n",
       "\n",
       "                                                 Kit  \\\n",
       "0  1 x Mutter (Art. Nr: SKF01891)\\n1 x Mutter (Ar...   \n",
       "\n",
       "                                             Vehicle             OE Pic  \\\n",
       "0  FIAT 126 (126) (Baujahr 09.1972 - 09.2000)\\nFI...  336501;985778       \n",
       "\n",
       "                                                 Url  \\\n",
       "0  https://www.autoteiledirekt.de/skf-1363308.htm...   \n",
       "\n",
       "                                                 Src  ...         moog  \\\n",
       "0  https://cdn.autoteiledirekt.de/thumb?id=136330...  ...  FI-WB-11569   \n",
       "\n",
       "  motaquip optimal quinton hazell ruville      snr spidan supra bearings  \\\n",
       "0  VBK 141  801922         QWB240    5803  R158.03  26504        MTK 087   \n",
       "\n",
       "    unipart werthenbach  \n",
       "0  GHK 1068         407  \n",
       "\n",
       "[1 rows x 36 columns]"
      ]
     },
     "execution_count": 2,
     "metadata": {},
     "output_type": "execute_result"
    }
   ],
   "source": [
    "df = pd.read_excel('./part.xlsx',\n",
    "                   header=0,\n",
    "                   dtype=str).fillna('')\n",
    "\n",
    "df"
   ]
  },
  {
   "cell_type": "code",
   "execution_count": 3,
   "id": "b9538500",
   "metadata": {},
   "outputs": [],
   "source": [
    "from tqdm import tqdm\n",
    "import pyperclip"
   ]
  },
  {
   "cell_type": "code",
   "execution_count": 4,
   "id": "b2f928b6",
   "metadata": {},
   "outputs": [
    {
     "name": "stderr",
     "output_type": "stream",
     "text": [
      "Progress: 100%|██████████████████████████████| 1/1 [00:00<00:00, 1174.88it/s]\n"
     ]
    },
    {
     "data": {
      "text/plain": [
       "'[{\"Url\":\"https://cdn.autoteiledirekt.de/thumb?id=1363308&m=1&n=0&lng=de&rev=94077849\"}'"
      ]
     },
     "execution_count": 4,
     "metadata": {},
     "output_type": "execute_result"
    }
   ],
   "source": [
    "for i in tqdm(range(len(df)), desc='Progress', ncols=77):\n",
    "    if i == 0:\n",
    "        data = '[{\"Url\":\"' + df.loc[0, 'Src'] + '\"}'\n",
    "    elif i == len(df)-1:\n",
    "        data += ',{\"Url\":\"' + df.loc[i, 'Src'] + '\"}]'\n",
    "    else:\n",
    "        data += ',{\"Url\":\"' + df.loc[i, 'Src'] + '\"}'\n",
    "        \n",
    "pyperclip.copy(data)\n",
    "\n",
    "data"
   ]
  },
  {
   "cell_type": "code",
   "execution_count": null,
   "id": "5a9f9850",
   "metadata": {},
   "outputs": [],
   "source": []
  }
 ],
 "metadata": {
  "kernelspec": {
   "display_name": "Python 3 (ipykernel)",
   "language": "python",
   "name": "python3"
  },
  "language_info": {
   "codemirror_mode": {
    "name": "ipython",
    "version": 3
   },
   "file_extension": ".py",
   "mimetype": "text/x-python",
   "name": "python",
   "nbconvert_exporter": "python",
   "pygments_lexer": "ipython3",
   "version": "3.11.3"
  }
 },
 "nbformat": 4,
 "nbformat_minor": 5
}
