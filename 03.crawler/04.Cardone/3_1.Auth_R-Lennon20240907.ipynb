{
 "cells": [
  {
   "cell_type": "code",
   "execution_count": 1,
   "id": "ba98551f-b0b1-4c50-8c47-3ad3a3730b73",
   "metadata": {},
   "outputs": [
    {
     "data": {
      "text/plain": [
       "['crawler_1.xlsx']"
      ]
     },
     "execution_count": 1,
     "metadata": {},
     "output_type": "execute_result"
    }
   ],
   "source": [
    "import os\n",
    "\n",
    "list_file = sorted(list(os.walk('./file/2.part'))[0][2])\n",
    "while '.DS_Store' in list_file:\n",
    "    list_file.remove('.DS_Store')\n",
    "while '0.null.txt' in list_file:\n",
    "    list_file.remove('0.null.txt')\n",
    "\n",
    "list_file"
   ]
  },
  {
   "cell_type": "code",
   "execution_count": 2,
   "id": "9b75b948-9701-432e-a5ef-88d0e629bd2c",
   "metadata": {},
   "outputs": [
    {
     "data": {
      "text/plain": [
       "'crawler_1.xlsx'"
      ]
     },
     "execution_count": 2,
     "metadata": {},
     "output_type": "execute_result"
    }
   ],
   "source": [
    "file = list_file[0]\n",
    "\n",
    "file"
   ]
  },
  {
   "cell_type": "code",
   "execution_count": 3,
   "id": "76ea49e2-7cc6-4bc1-af5b-7a6768eb6c08",
   "metadata": {},
   "outputs": [],
   "source": [
    "import pandas as pd\n",
    "\n",
    "output_correct, output_error = pd.DataFrame(), pd.DataFrame()"
   ]
  },
  {
   "cell_type": "code",
   "execution_count": 4,
   "id": "5d22fc26-a390-442a-bfe3-4d409c33f1e7",
   "metadata": {
    "scrolled": true
   },
   "outputs": [
    {
     "name": "stdout",
     "output_type": "stream",
     "text": [
      "总数量：132\n"
     ]
    },
    {
     "data": {
      "text/plain": [
       "['3R-001',\n",
       " '3R-002',\n",
       " '3R-004',\n",
       " '3R-005',\n",
       " '3R-006',\n",
       " '3R-007',\n",
       " '3R-008',\n",
       " '3R-009',\n",
       " '3R-102',\n",
       " '3R-108',\n",
       " '3R-109',\n",
       " '3R-110',\n",
       " '3R-111',\n",
       " '3R-112',\n",
       " '3R-113',\n",
       " '3R-114',\n",
       " '3R-115',\n",
       " '3R-116',\n",
       " '3R-117',\n",
       " '3R-120',\n",
       " '3R-121',\n",
       " '3R-122',\n",
       " '3R-123',\n",
       " '3R-124',\n",
       " '3R-129',\n",
       " '3R-132',\n",
       " '3R-134',\n",
       " '3R-201',\n",
       " '3R-202',\n",
       " '3R-203',\n",
       " '3R-204',\n",
       " '3R-205',\n",
       " '3R-206',\n",
       " '3R-207',\n",
       " '3R-208',\n",
       " '3R-209',\n",
       " '3R-210',\n",
       " '3R-211',\n",
       " '3R-212',\n",
       " '3R-213',\n",
       " '3R-214',\n",
       " '3R-215',\n",
       " '3R-216',\n",
       " '3R-219',\n",
       " '3R-220',\n",
       " '3R-224',\n",
       " '3R-231',\n",
       " '3R-301',\n",
       " '3R-302',\n",
       " '3R-303',\n",
       " '3R-304',\n",
       " '3R-305',\n",
       " '3R-306',\n",
       " '3R-307',\n",
       " '3R-308',\n",
       " '3R-309',\n",
       " '3R-310',\n",
       " '3R-311',\n",
       " '3R-312',\n",
       " '3R-313',\n",
       " '3R-314',\n",
       " '3R-315',\n",
       " '3R-316',\n",
       " '3R-320',\n",
       " '3R-321',\n",
       " '3R-322',\n",
       " '3R-323',\n",
       " '3R-324',\n",
       " '3R-325',\n",
       " '3R-326',\n",
       " '3R-327',\n",
       " '3R-328',\n",
       " '3R-329',\n",
       " '3R-331',\n",
       " '3R-332',\n",
       " '3R-335',\n",
       " '3R-336',\n",
       " '3R-337',\n",
       " '3R-338',\n",
       " '3R-340',\n",
       " '3R-348',\n",
       " '3R-351',\n",
       " '3R-352',\n",
       " '3R-354',\n",
       " '3R-355',\n",
       " '3R-356',\n",
       " '3R-357',\n",
       " '3R-359',\n",
       " '3R-360',\n",
       " '3R-363',\n",
       " '3R-401',\n",
       " '3R-402',\n",
       " '3R-403',\n",
       " '3R-404',\n",
       " '3R-405',\n",
       " '3R-408',\n",
       " '3R-409',\n",
       " '3R-412',\n",
       " '3R-418',\n",
       " '3R-422',\n",
       " '3R-423',\n",
       " '3R-446',\n",
       " '3R-501',\n",
       " '3R-502',\n",
       " '3R-503',\n",
       " '3R-504',\n",
       " '3R-601',\n",
       " '3R-602',\n",
       " '3R-701',\n",
       " '3R-704',\n",
       " '3R-705',\n",
       " '3R-706',\n",
       " '3R-707',\n",
       " '3R-708',\n",
       " '3R-709',\n",
       " '3R-711',\n",
       " '3R-712',\n",
       " '3R-719',\n",
       " '3R-721',\n",
       " '3R-801',\n",
       " '3R-901',\n",
       " '3R-903',\n",
       " '3R-905',\n",
       " '3R-906',\n",
       " '3R-907',\n",
       " '3R-909',\n",
       " '3R-910',\n",
       " '3R-911',\n",
       " '3R-912',\n",
       " '3R-913',\n",
       " '3R-914',\n",
       " '3R-916']"
      ]
     },
     "execution_count": 4,
     "metadata": {},
     "output_type": "execute_result"
    }
   ],
   "source": [
    "input_ = pd.read_excel(f'./file/2.part/{file}',\n",
    "                       header=0,\n",
    "                       dtype=str).fillna('')\n",
    "\n",
    "input_['No'] = input_['No'].astype(int)\n",
    "\n",
    "print(f'总数量：{len(input_)}')\n",
    "input_['Part Number'].tolist()"
   ]
  },
  {
   "cell_type": "code",
   "execution_count": 5,
   "id": "5878a9f0-d639-4123-b6e0-bc564f72c2d6",
   "metadata": {},
   "outputs": [
    {
     "data": {
      "text/plain": [
       "0"
      ]
     },
     "execution_count": 5,
     "metadata": {},
     "output_type": "execute_result"
    }
   ],
   "source": [
    "a = 0\n",
    "\n",
    "a"
   ]
  },
  {
   "cell_type": "code",
   "execution_count": 6,
   "id": "9f61dd65-55da-4d0b-ba30-d0534eff0781",
   "metadata": {},
   "outputs": [
    {
     "data": {
      "text/plain": [
       "'error'"
      ]
     },
     "execution_count": 6,
     "metadata": {},
     "output_type": "execute_result"
    }
   ],
   "source": [
    "crawler_status = 'error'\n",
    "\n",
    "crawler_status"
   ]
  },
  {
   "cell_type": "code",
   "execution_count": 7,
   "id": "ad99bc86-6e80-4fcf-8200-736dc5101097",
   "metadata": {},
   "outputs": [
    {
     "name": "stdout",
     "output_type": "stream",
     "text": [
      "1\n",
      "2\n",
      "3\n",
      "4\n",
      "5\n",
      "6\n",
      "7\n",
      "8\n"
     ]
    },
    {
     "data": {
      "text/plain": [
       "<Response [200]>"
      ]
     },
     "execution_count": 7,
     "metadata": {},
     "output_type": "execute_result"
    }
   ],
   "source": [
    "import requests\n",
    "\n",
    "import sys\n",
    "sys.path.append('../00.Tools')\n",
    "from crawler_configuration import get_header, get_proxy\n",
    "\n",
    "b = 0\n",
    "while True:\n",
    "    b += 1\n",
    "    print(b)\n",
    "    try:\n",
    "        resp = requests.get(f'''{input_.loc[a, 'Bundle']}theme-bundle.main.js''',\n",
    "                            headers=get_header(),\n",
    "                            proxies=get_proxy(),\n",
    "                            timeout=(10, 10))\n",
    "\n",
    "        if resp.status_code == 200:\n",
    "            break\n",
    "    except KeyboardInterrupt:\n",
    "        break\n",
    "    except:\n",
    "        continue\n",
    "\n",
    "resp"
   ]
  },
  {
   "cell_type": "code",
   "execution_count": 8,
   "id": "32194560-e33f-49c9-922c-1618cf58e2f4",
   "metadata": {},
   "outputs": [
    {
     "data": {
      "text/plain": [
       "'mXWIhUuYvk3hklMcdwLi4lwVd3s6VASw'"
      ]
     },
     "execution_count": 8,
     "metadata": {},
     "output_type": "execute_result"
    }
   ],
   "source": [
    "auth = resp.text.split('https://productdesk-api.cellacore.net/legacy/cardone/FinishedGood/?q=productDeskItemNumber.keyword:\"')[1].split('auth=')[1].split('\"')[0]\n",
    "\n",
    "auth"
   ]
  },
  {
   "cell_type": "code",
   "execution_count": 9,
   "id": "0ebb0da6-9494-41fc-9823-6866ea382cff",
   "metadata": {},
   "outputs": [
    {
     "data": {
      "text/html": [
       "<div>\n",
       "<style scoped>\n",
       "    .dataframe tbody tr th:only-of-type {\n",
       "        vertical-align: middle;\n",
       "    }\n",
       "\n",
       "    .dataframe tbody tr th {\n",
       "        vertical-align: top;\n",
       "    }\n",
       "\n",
       "    .dataframe thead th {\n",
       "        text-align: right;\n",
       "    }\n",
       "</style>\n",
       "<table border=\"1\" class=\"dataframe\">\n",
       "  <thead>\n",
       "    <tr style=\"text-align: right;\">\n",
       "      <th></th>\n",
       "      <th>No</th>\n",
       "      <th>Type</th>\n",
       "      <th>Part Number</th>\n",
       "      <th>Title</th>\n",
       "      <th>Subtitle</th>\n",
       "      <th>Application Summary</th>\n",
       "      <th>Picture</th>\n",
       "      <th>Url</th>\n",
       "      <th>Json_Src</th>\n",
       "      <th>Json_Info</th>\n",
       "      <th>Bundle</th>\n",
       "      <th>Auth</th>\n",
       "    </tr>\n",
       "  </thead>\n",
       "  <tbody>\n",
       "    <tr>\n",
       "      <th>0</th>\n",
       "      <td>1</td>\n",
       "      <td>Power Steering Reservoir</td>\n",
       "      <td>3R-001</td>\n",
       "      <td>Power Steering Reservoir - 3R-001</td>\n",
       "      <td>CARDONE New</td>\n",
       "      <td>CARDONE New,Power Steering Reservoir,INFINITI ...</td>\n",
       "      <td></td>\n",
       "      <td>https://www.cardone.com/product/power-steering...</td>\n",
       "      <td>{\"0\": \"https://cdn11.bigcommerce.com/s-z9vhe3o...</td>\n",
       "      <td>{\"0\": {\"productDeskExternalKey\": \"CNRD|3R-001\"...</td>\n",
       "      <td>https://cdn11.bigcommerce.com/s-z9vhe3o238/ste...</td>\n",
       "      <td>mXWIhUuYvk3hklMcdwLi4lwVd3s6VASw</td>\n",
       "    </tr>\n",
       "  </tbody>\n",
       "</table>\n",
       "</div>"
      ],
      "text/plain": [
       "   No                      Type Part Number  \\\n",
       "0   1  Power Steering Reservoir      3R-001   \n",
       "\n",
       "                               Title     Subtitle  \\\n",
       "0  Power Steering Reservoir - 3R-001  CARDONE New   \n",
       "\n",
       "                                 Application Summary Picture  \\\n",
       "0  CARDONE New,Power Steering Reservoir,INFINITI ...           \n",
       "\n",
       "                                                 Url  \\\n",
       "0  https://www.cardone.com/product/power-steering...   \n",
       "\n",
       "                                            Json_Src  \\\n",
       "0  {\"0\": \"https://cdn11.bigcommerce.com/s-z9vhe3o...   \n",
       "\n",
       "                                           Json_Info  \\\n",
       "0  {\"0\": {\"productDeskExternalKey\": \"CNRD|3R-001\"...   \n",
       "\n",
       "                                              Bundle  \\\n",
       "0  https://cdn11.bigcommerce.com/s-z9vhe3o238/ste...   \n",
       "\n",
       "                               Auth  \n",
       "0  mXWIhUuYvk3hklMcdwLi4lwVd3s6VASw  "
      ]
     },
     "execution_count": 9,
     "metadata": {},
     "output_type": "execute_result"
    }
   ],
   "source": [
    "df_temp = pd.DataFrame([{'No': input_.loc[a, 'No'],\n",
    "                         'Type': input_.loc[a, 'Type'],\n",
    "                         'Part Number': input_.loc[a, 'Part Number'],\n",
    "                         'Title': input_.loc[a, 'Title'],\n",
    "                         'Subtitle': input_.loc[a, 'Subtitle'],\n",
    "                         'Application Summary': input_.loc[a, 'Application Summary'],\n",
    "                         'Picture': input_.loc[a, 'Picture'],\n",
    "                         'Url': input_.loc[a, 'Url'],\n",
    "                         'Json_Src': input_.loc[a, 'Json_Src'],\n",
    "                         'Json_Info': input_.loc[a, 'Json_Info'],\n",
    "                         'Bundle': input_.loc[a, 'Bundle'],\n",
    "                         'Auth': auth}])\n",
    "\n",
    "output_correct = pd.concat([output_correct, df_temp], ignore_index=True).fillna('')\n",
    "\n",
    "output_correct"
   ]
  },
  {
   "cell_type": "code",
   "execution_count": 10,
   "id": "fc4ed7f6-ed4f-431c-b944-b1690309cdae",
   "metadata": {},
   "outputs": [
    {
     "data": {
      "text/plain": [
       "'ok'"
      ]
     },
     "execution_count": 10,
     "metadata": {},
     "output_type": "execute_result"
    }
   ],
   "source": [
    "crawler_status = 'ok'\n",
    "\n",
    "crawler_status"
   ]
  },
  {
   "cell_type": "code",
   "execution_count": 11,
   "id": "65c745d1-446e-46c5-9dec-819c9f7944d3",
   "metadata": {},
   "outputs": [
    {
     "data": {
      "text/html": [
       "<div>\n",
       "<style scoped>\n",
       "    .dataframe tbody tr th:only-of-type {\n",
       "        vertical-align: middle;\n",
       "    }\n",
       "\n",
       "    .dataframe tbody tr th {\n",
       "        vertical-align: top;\n",
       "    }\n",
       "\n",
       "    .dataframe thead th {\n",
       "        text-align: right;\n",
       "    }\n",
       "</style>\n",
       "<table border=\"1\" class=\"dataframe\">\n",
       "  <thead>\n",
       "    <tr style=\"text-align: right;\">\n",
       "      <th></th>\n",
       "    </tr>\n",
       "  </thead>\n",
       "  <tbody>\n",
       "  </tbody>\n",
       "</table>\n",
       "</div>"
      ],
      "text/plain": [
       "Empty DataFrame\n",
       "Columns: []\n",
       "Index: []"
      ]
     },
     "execution_count": 11,
     "metadata": {},
     "output_type": "execute_result"
    }
   ],
   "source": [
    "if crawler_status == 'error':\n",
    "    output_error = pd.concat([output_error, pd.DataFrame([input_.iloc[a]]).reset_index(drop=True)], ignore_index=True).fillna('')\n",
    "\n",
    "output_error"
   ]
  },
  {
   "cell_type": "code",
   "execution_count": 12,
   "id": "7fd477de",
   "metadata": {},
   "outputs": [
    {
     "data": {
      "text/html": [
       "<div>\n",
       "<style scoped>\n",
       "    .dataframe tbody tr th:only-of-type {\n",
       "        vertical-align: middle;\n",
       "    }\n",
       "\n",
       "    .dataframe tbody tr th {\n",
       "        vertical-align: top;\n",
       "    }\n",
       "\n",
       "    .dataframe thead th {\n",
       "        text-align: right;\n",
       "    }\n",
       "</style>\n",
       "<table border=\"1\" class=\"dataframe\">\n",
       "  <thead>\n",
       "    <tr style=\"text-align: right;\">\n",
       "      <th></th>\n",
       "      <th>No</th>\n",
       "      <th>Type</th>\n",
       "      <th>Part Number</th>\n",
       "      <th>Title</th>\n",
       "      <th>Subtitle</th>\n",
       "      <th>Application Summary</th>\n",
       "      <th>Picture</th>\n",
       "      <th>Url</th>\n",
       "      <th>Json_Src</th>\n",
       "      <th>Json_Info</th>\n",
       "      <th>Bundle</th>\n",
       "      <th>Auth</th>\n",
       "    </tr>\n",
       "  </thead>\n",
       "  <tbody>\n",
       "    <tr>\n",
       "      <th>0</th>\n",
       "      <td>1</td>\n",
       "      <td>Power Steering Reservoir</td>\n",
       "      <td>3R-001</td>\n",
       "      <td>Power Steering Reservoir - 3R-001</td>\n",
       "      <td>CARDONE New</td>\n",
       "      <td>CARDONE New,Power Steering Reservoir,INFINITI ...</td>\n",
       "      <td></td>\n",
       "      <td>https://www.cardone.com/product/power-steering...</td>\n",
       "      <td>{\"0\": \"https://cdn11.bigcommerce.com/s-z9vhe3o...</td>\n",
       "      <td>{\"0\": {\"productDeskExternalKey\": \"CNRD|3R-001\"...</td>\n",
       "      <td>https://cdn11.bigcommerce.com/s-z9vhe3o238/ste...</td>\n",
       "      <td>mXWIhUuYvk3hklMcdwLi4lwVd3s6VASw</td>\n",
       "    </tr>\n",
       "  </tbody>\n",
       "</table>\n",
       "</div>"
      ],
      "text/plain": [
       "   No                      Type Part Number  \\\n",
       "0   1  Power Steering Reservoir      3R-001   \n",
       "\n",
       "                               Title     Subtitle  \\\n",
       "0  Power Steering Reservoir - 3R-001  CARDONE New   \n",
       "\n",
       "                                 Application Summary Picture  \\\n",
       "0  CARDONE New,Power Steering Reservoir,INFINITI ...           \n",
       "\n",
       "                                                 Url  \\\n",
       "0  https://www.cardone.com/product/power-steering...   \n",
       "\n",
       "                                            Json_Src  \\\n",
       "0  {\"0\": \"https://cdn11.bigcommerce.com/s-z9vhe3o...   \n",
       "\n",
       "                                           Json_Info  \\\n",
       "0  {\"0\": {\"productDeskExternalKey\": \"CNRD|3R-001\"...   \n",
       "\n",
       "                                              Bundle  \\\n",
       "0  https://cdn11.bigcommerce.com/s-z9vhe3o238/ste...   \n",
       "\n",
       "                               Auth  \n",
       "0  mXWIhUuYvk3hklMcdwLi4lwVd3s6VASw  "
      ]
     },
     "execution_count": 12,
     "metadata": {},
     "output_type": "execute_result"
    }
   ],
   "source": [
    "if not output_correct.empty:\n",
    "    output_correct = output_correct.sort_values(by=['No'],\n",
    "                                                ascending=[True],\n",
    "                                                ignore_index=True)\n",
    "    output_correct.to_excel('./test_auth.xlsx', index=False)\n",
    "\n",
    "output_correct"
   ]
  },
  {
   "cell_type": "code",
   "execution_count": 13,
   "id": "39a5441b-7f69-4812-aad8-7e10a1a24e78",
   "metadata": {},
   "outputs": [
    {
     "data": {
      "text/html": [
       "<div>\n",
       "<style scoped>\n",
       "    .dataframe tbody tr th:only-of-type {\n",
       "        vertical-align: middle;\n",
       "    }\n",
       "\n",
       "    .dataframe tbody tr th {\n",
       "        vertical-align: top;\n",
       "    }\n",
       "\n",
       "    .dataframe thead th {\n",
       "        text-align: right;\n",
       "    }\n",
       "</style>\n",
       "<table border=\"1\" class=\"dataframe\">\n",
       "  <thead>\n",
       "    <tr style=\"text-align: right;\">\n",
       "      <th></th>\n",
       "    </tr>\n",
       "  </thead>\n",
       "  <tbody>\n",
       "  </tbody>\n",
       "</table>\n",
       "</div>"
      ],
      "text/plain": [
       "Empty DataFrame\n",
       "Columns: []\n",
       "Index: []"
      ]
     },
     "execution_count": 13,
     "metadata": {},
     "output_type": "execute_result"
    }
   ],
   "source": [
    "if not output_error.empty:\n",
    "    output_error = output_error.sort_values(by=['No'],\n",
    "                                            ascending=[True],\n",
    "                                            ignore_index=True)\n",
    "    output_error.to_excel('./test_auth_error.xlsx', index=False)\n",
    "\n",
    "output_error"
   ]
  },
  {
   "cell_type": "code",
   "execution_count": null,
   "id": "ba5d9f77-7464-4ad5-a42b-1fa0c0505832",
   "metadata": {},
   "outputs": [],
   "source": []
  }
 ],
 "metadata": {
  "kernelspec": {
   "display_name": "Python 3 (ipykernel)",
   "language": "python",
   "name": "python3"
  },
  "language_info": {
   "codemirror_mode": {
    "name": "ipython",
    "version": 3
   },
   "file_extension": ".py",
   "mimetype": "text/x-python",
   "name": "python",
   "nbconvert_exporter": "python",
   "pygments_lexer": "ipython3",
   "version": "3.11.3"
  }
 },
 "nbformat": 4,
 "nbformat_minor": 5
}
