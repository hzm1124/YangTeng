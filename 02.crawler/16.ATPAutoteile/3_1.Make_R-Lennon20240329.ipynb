{
 "cells": [
  {
   "cell_type": "code",
   "execution_count": 1,
   "id": "aac44a48",
   "metadata": {},
   "outputs": [],
   "source": [
    "import pandas as pd\n",
    "\n",
    "output_correct = pd.DataFrame()\n",
    "output_error = pd.DataFrame()"
   ]
  },
  {
   "cell_type": "code",
   "execution_count": 2,
   "id": "625180e9",
   "metadata": {},
   "outputs": [
    {
     "name": "stdout",
     "output_type": "stream",
     "text": [
      "总数量：150\n"
     ]
    },
    {
     "data": {
      "text/plain": [
       "['988398',\n",
       " '4316658',\n",
       " '1093509',\n",
       " '4098330',\n",
       " '4570446',\n",
       " '1144742',\n",
       " '1127436',\n",
       " '4234518',\n",
       " '4234508',\n",
       " '3648954',\n",
       " '1075829',\n",
       " '4316295',\n",
       " '4234520',\n",
       " '3642704',\n",
       " '4091955',\n",
       " '4118028',\n",
       " '4158821',\n",
       " '56878',\n",
       " '1051673',\n",
       " '3648983',\n",
       " '1051674',\n",
       " '987848',\n",
       " '4406144',\n",
       " '4304217',\n",
       " '4091935',\n",
       " '4091728',\n",
       " '1127672',\n",
       " '4310099',\n",
       " '4203438',\n",
       " '937462',\n",
       " '4407489',\n",
       " '3644678',\n",
       " '56657',\n",
       " '4578759',\n",
       " '4401497',\n",
       " '4309124',\n",
       " '4307410',\n",
       " '4118006',\n",
       " '4094530',\n",
       " '45119',\n",
       " '4091719',\n",
       " '988750',\n",
       " '4329104',\n",
       " '989081',\n",
       " '989080',\n",
       " '46157',\n",
       " '44595',\n",
       " '4570440',\n",
       " '4570327',\n",
       " '4118022',\n",
       " '3642758',\n",
       " '3652444',\n",
       " '4091934',\n",
       " '4312336',\n",
       " '1020670',\n",
       " '988801',\n",
       " '1051804',\n",
       " '4407357',\n",
       " '4091723',\n",
       " '1000392',\n",
       " '55421',\n",
       " '43454',\n",
       " '3644426',\n",
       " '1070086',\n",
       " '4307176',\n",
       " '4303644',\n",
       " '4092407',\n",
       " '4311398',\n",
       " '1070229',\n",
       " '46155',\n",
       " '4118044',\n",
       " '1040042',\n",
       " '46156',\n",
       " '4203450',\n",
       " '56656',\n",
       " '4309328',\n",
       " '4405831',\n",
       " '4305427',\n",
       " '4303349',\n",
       " '988694',\n",
       " '55369',\n",
       " '4304190',\n",
       " '986633',\n",
       " '56659',\n",
       " '3644700',\n",
       " '4407355',\n",
       " '1070228',\n",
       " '4329100',\n",
       " '4307160',\n",
       " '4118034',\n",
       " '4092330',\n",
       " '4312373',\n",
       " '988458',\n",
       " '45856',\n",
       " '4312390',\n",
       " '4091725',\n",
       " '44596',\n",
       " '4234521',\n",
       " '4158823',\n",
       " '1069996',\n",
       " '103013',\n",
       " '4304207',\n",
       " '1075791',\n",
       " '3632013',\n",
       " '44576',\n",
       " '43878',\n",
       " '4570348',\n",
       " '4310153',\n",
       " '4309342',\n",
       " '4301529',\n",
       " '4118030',\n",
       " '4304182',\n",
       " '45169',\n",
       " '57498',\n",
       " '4304377',\n",
       " '4098449',\n",
       " '988695',\n",
       " '4234514',\n",
       " '4091721',\n",
       " '3646078',\n",
       " '3632127',\n",
       " '3632893',\n",
       " '3632699',\n",
       " '57417',\n",
       " '4091720',\n",
       " '3632849',\n",
       " '3631993',\n",
       " '56880',\n",
       " '4309333',\n",
       " '1070087',\n",
       " '4303345',\n",
       " '4234515',\n",
       " '4091514',\n",
       " '3632863',\n",
       " '4307431',\n",
       " '3649538',\n",
       " '48864',\n",
       " '55546',\n",
       " '46179',\n",
       " '44073',\n",
       " '3644680',\n",
       " '3644574',\n",
       " '3631952',\n",
       " '45837',\n",
       " '44414',\n",
       " '4372861',\n",
       " '4092410',\n",
       " '4092408',\n",
       " '3632634',\n",
       " '4305257']"
      ]
     },
     "execution_count": 2,
     "metadata": {},
     "output_type": "execute_result"
    }
   ],
   "source": [
    "input_ = pd.read_excel('./part.xlsx',\n",
    "                       header=0,\n",
    "                       dtype=str).fillna('')\n",
    "\n",
    "print('总数量：' + str(len(input_)))\n",
    "input_['Product_Id'].tolist()"
   ]
  },
  {
   "cell_type": "code",
   "execution_count": 3,
   "id": "287cb149",
   "metadata": {},
   "outputs": [
    {
     "data": {
      "text/plain": [
       "'error'"
      ]
     },
     "execution_count": 3,
     "metadata": {},
     "output_type": "execute_result"
    }
   ],
   "source": [
    "crawler_status = 'error'\n",
    "\n",
    "crawler_status"
   ]
  },
  {
   "cell_type": "code",
   "execution_count": 4,
   "id": "4c4efd91",
   "metadata": {},
   "outputs": [],
   "source": [
    "import requests\n",
    "\n",
    "import sys\n",
    "sys.path.append('../00.Tools')\n",
    "import UA\n",
    "import Proxy"
   ]
  },
  {
   "cell_type": "code",
   "execution_count": 5,
   "id": "f4d0ee82",
   "metadata": {
    "scrolled": true
   },
   "outputs": [
    {
     "data": {
      "text/plain": [
       "'<section class=\"matching-vehicles   row\">\\r\\n    <div class=\"col-md-6 col-xs-12\">\\r\\n            <div class=\"accordion-vehicles \" data-tab=\"9953\" data-manufacturer-selector> BMW</div>\\r\\n            <div class=\"tab-content hidden\" id=\"9953\" data-product-matching-vehicles-9953>\\r\\n               \\r\\n            </div>\\r\\n            <hr/>\\r\\n            </div>\\r\\n\\r\\n</section>'"
      ]
     },
     "execution_count": 5,
     "metadata": {},
     "output_type": "execute_result"
    }
   ],
   "source": [
    "a = 0\n",
    "\n",
    "resp = requests.get('https://www.atp-autoteile.de/de/product/vehicles/' + input_.loc[a, 'Product_Id'],\n",
    "                    headers=UA.get_User_Agent_Requests(),\n",
    "                    proxies=Proxy.get_Proxy_Requests()).text\n",
    "\n",
    "resp"
   ]
  },
  {
   "cell_type": "code",
   "execution_count": 6,
   "id": "239d816a",
   "metadata": {},
   "outputs": [],
   "source": [
    "from bs4 import BeautifulSoup\n",
    "from lxml import etree"
   ]
  },
  {
   "cell_type": "code",
   "execution_count": 7,
   "id": "921d9b49",
   "metadata": {},
   "outputs": [
    {
     "name": "stdout",
     "output_type": "stream",
     "text": [
      "<html>\n",
      " <body>\n",
      "  <section class=\"matching-vehicles row\">\n",
      "   <div class=\"col-md-6 col-xs-12\">\n",
      "    <div class=\"accordion-vehicles\" data-manufacturer-selector=\"\" data-tab=\"9953\">\n",
      "     BMW\n",
      "    </div>\n",
      "    <div class=\"tab-content hidden\" data-product-matching-vehicles-9953=\"\" id=\"9953\">\n",
      "    </div>\n",
      "    <hr/>\n",
      "   </div>\n",
      "  </section>\n",
      " </body>\n",
      "</html>\n",
      "\n"
     ]
    }
   ],
   "source": [
    "soup = BeautifulSoup(resp, 'lxml')\n",
    "html = etree.HTML(str(soup))\n",
    "\n",
    "with open('./make.html', 'w', encoding='UTF-8') as file:\n",
    "    file.write(str(soup))\n",
    "\n",
    "print(soup.prettify())"
   ]
  },
  {
   "cell_type": "code",
   "execution_count": 8,
   "id": "10741df0",
   "metadata": {},
   "outputs": [
    {
     "data": {
      "text/plain": [
       "['BMW']"
      ]
     },
     "execution_count": 8,
     "metadata": {},
     "output_type": "execute_result"
    }
   ],
   "source": [
    "list_make = [make.strip() for make in html.xpath('//div[@data-manufacturer-selector]/text()')]\n",
    "        \n",
    "list_make"
   ]
  },
  {
   "cell_type": "code",
   "execution_count": 9,
   "id": "eca17bc1",
   "metadata": {},
   "outputs": [
    {
     "data": {
      "text/plain": [
       "['9953']"
      ]
     },
     "execution_count": 9,
     "metadata": {},
     "output_type": "execute_result"
    }
   ],
   "source": [
    "list_make_code = [code.strip() for code in html.xpath('//div[@data-manufacturer-selector]/@data-tab')]\n",
    "        \n",
    "list_make_code"
   ]
  },
  {
   "cell_type": "code",
   "execution_count": 10,
   "id": "f0b86735",
   "metadata": {},
   "outputs": [
    {
     "data": {
      "text/plain": [
       "1"
      ]
     },
     "execution_count": 10,
     "metadata": {},
     "output_type": "execute_result"
    }
   ],
   "source": [
    "df_temp = pd.DataFrame({'No.': int(input_.loc[a, '序号']),\n",
    "                        'Product_Id': input_.loc[a, 'Product_Id'],\n",
    "                        'Make': list_make,\n",
    "                        'Make_Code': list_make_code})\n",
    "\n",
    "output_correct = pd.concat([output_correct, df_temp], ignore_index=True).fillna('')\n",
    "\n",
    "len(output_correct)"
   ]
  },
  {
   "cell_type": "code",
   "execution_count": 11,
   "id": "ea9079d6",
   "metadata": {},
   "outputs": [
    {
     "data": {
      "text/plain": [
       "'ok'"
      ]
     },
     "execution_count": 11,
     "metadata": {},
     "output_type": "execute_result"
    }
   ],
   "source": [
    "crawler_status = 'ok'\n",
    "\n",
    "crawler_status"
   ]
  },
  {
   "cell_type": "code",
   "execution_count": 12,
   "id": "22d4f3db",
   "metadata": {},
   "outputs": [
    {
     "data": {
      "text/plain": [
       "0"
      ]
     },
     "execution_count": 12,
     "metadata": {},
     "output_type": "execute_result"
    }
   ],
   "source": [
    "if crawler_status == 'error':\n",
    "    df_temp = pd.DataFrame([{'序号': int(input_.loc[a, '序号']),\n",
    "                             'Product_Id': input_.loc[a, 'Product_Id']}])\n",
    "    \n",
    "    output_error = pd.concat([output_error, df_temp], ignore_index=True).fillna('')\n",
    "\n",
    "len(output_error)"
   ]
  },
  {
   "cell_type": "code",
   "execution_count": 13,
   "id": "412408b6",
   "metadata": {},
   "outputs": [
    {
     "data": {
      "text/html": [
       "<div>\n",
       "<style scoped>\n",
       "    .dataframe tbody tr th:only-of-type {\n",
       "        vertical-align: middle;\n",
       "    }\n",
       "\n",
       "    .dataframe tbody tr th {\n",
       "        vertical-align: top;\n",
       "    }\n",
       "\n",
       "    .dataframe thead th {\n",
       "        text-align: right;\n",
       "    }\n",
       "</style>\n",
       "<table border=\"1\" class=\"dataframe\">\n",
       "  <thead>\n",
       "    <tr style=\"text-align: right;\">\n",
       "      <th></th>\n",
       "      <th>No.</th>\n",
       "      <th>Product_Id</th>\n",
       "      <th>Make</th>\n",
       "      <th>Make_Code</th>\n",
       "    </tr>\n",
       "  </thead>\n",
       "  <tbody>\n",
       "    <tr>\n",
       "      <th>0</th>\n",
       "      <td>1</td>\n",
       "      <td>988398</td>\n",
       "      <td>BMW</td>\n",
       "      <td>9953</td>\n",
       "    </tr>\n",
       "  </tbody>\n",
       "</table>\n",
       "</div>"
      ],
      "text/plain": [
       "   No. Product_Id Make Make_Code\n",
       "0    1     988398  BMW      9953"
      ]
     },
     "execution_count": 13,
     "metadata": {},
     "output_type": "execute_result"
    }
   ],
   "source": [
    "output_correct = output_correct.drop_duplicates(ignore_index=True)\n",
    "output_correct = output_correct.sort_values(by=['No.', 'Make_Code'], ascending=[True, True]).reset_index(drop=True)\n",
    "output_correct.to_excel('./test_make.xlsx', index=False)\n",
    "\n",
    "output_correct"
   ]
  },
  {
   "cell_type": "code",
   "execution_count": 14,
   "id": "17399c37",
   "metadata": {},
   "outputs": [
    {
     "data": {
      "text/html": [
       "<div>\n",
       "<style scoped>\n",
       "    .dataframe tbody tr th:only-of-type {\n",
       "        vertical-align: middle;\n",
       "    }\n",
       "\n",
       "    .dataframe tbody tr th {\n",
       "        vertical-align: top;\n",
       "    }\n",
       "\n",
       "    .dataframe thead th {\n",
       "        text-align: right;\n",
       "    }\n",
       "</style>\n",
       "<table border=\"1\" class=\"dataframe\">\n",
       "  <thead>\n",
       "    <tr style=\"text-align: right;\">\n",
       "      <th></th>\n",
       "    </tr>\n",
       "  </thead>\n",
       "  <tbody>\n",
       "  </tbody>\n",
       "</table>\n",
       "</div>"
      ],
      "text/plain": [
       "Empty DataFrame\n",
       "Columns: []\n",
       "Index: []"
      ]
     },
     "execution_count": 14,
     "metadata": {},
     "output_type": "execute_result"
    }
   ],
   "source": [
    "if len(output_error) != 0:\n",
    "    output_error = output_error.drop_duplicates(ignore_index=True)\n",
    "    output_error = output_error.sort_values(by=['No.'], ascending=[True]).reset_index(drop=True)\n",
    "    output_error.to_excel('./test_make_error.xlsx', index=False)\n",
    "\n",
    "output_error"
   ]
  },
  {
   "cell_type": "code",
   "execution_count": null,
   "id": "3b67a89a",
   "metadata": {},
   "outputs": [],
   "source": []
  }
 ],
 "metadata": {
  "kernelspec": {
   "display_name": "Python 3 (ipykernel)",
   "language": "python",
   "name": "python3"
  },
  "language_info": {
   "codemirror_mode": {
    "name": "ipython",
    "version": 3
   },
   "file_extension": ".py",
   "mimetype": "text/x-python",
   "name": "python",
   "nbconvert_exporter": "python",
   "pygments_lexer": "ipython3",
   "version": "3.11.3"
  }
 },
 "nbformat": 4,
 "nbformat_minor": 5
}
