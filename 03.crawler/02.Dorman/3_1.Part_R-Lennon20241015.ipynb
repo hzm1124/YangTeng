{
 "cells": [
  {
   "cell_type": "code",
   "execution_count": 1,
   "id": "28567785-1bca-439f-9042-e39b3255a55b",
   "metadata": {},
   "outputs": [],
   "source": [
    "import os\n",
    "\n",
    "# = = = = = = = = = = = = = = =\n",
    "\n",
    "import pandas as pd\n",
    "\n",
    "# = = = = = = = = = = = = = = =\n",
    "\n",
    "import requests\n",
    "\n",
    "import sys\n",
    "sys.path.append('../00.Tools')\n",
    "from crawler_configuration import get_header, get_proxy\n",
    "\n",
    "from bs4 import BeautifulSoup\n",
    "from lxml import etree\n",
    "\n",
    "# = = = = = = = = = = = = = = =\n",
    "\n",
    "import json"
   ]
  },
  {
   "cell_type": "code",
   "execution_count": 2,
   "id": "9b75b948-9701-432e-a5ef-88d0e629bd2c",
   "metadata": {},
   "outputs": [
    {
     "data": {
      "text/plain": [
       "'crawler_1.xlsx'"
      ]
     },
     "execution_count": 2,
     "metadata": {},
     "output_type": "execute_result"
    }
   ],
   "source": [
    "directory_in = './file/2.url'\n",
    "\n",
    "list_file = [file for file in sorted(os.listdir(directory_in)) if file not in ['.DS_Store'] and os.path.isfile(f'{directory_in}/{file}')]\n",
    "file = list_file[0]\n",
    "\n",
    "file"
   ]
  },
  {
   "cell_type": "code",
   "execution_count": 3,
   "id": "5d22fc26-a390-442a-bfe3-4d409c33f1e7",
   "metadata": {
    "scrolled": true
   },
   "outputs": [
    {
     "name": "stdout",
     "output_type": "stream",
     "text": [
      "总数量：1220\n",
      "\n"
     ]
    },
    {
     "data": {
      "text/html": [
       "<div>\n",
       "<style scoped>\n",
       "    .dataframe tbody tr th:only-of-type {\n",
       "        vertical-align: middle;\n",
       "    }\n",
       "\n",
       "    .dataframe tbody tr th {\n",
       "        vertical-align: top;\n",
       "    }\n",
       "\n",
       "    .dataframe thead th {\n",
       "        text-align: right;\n",
       "    }\n",
       "</style>\n",
       "<table border=\"1\" class=\"dataframe\">\n",
       "  <thead>\n",
       "    <tr style=\"text-align: right;\">\n",
       "      <th></th>\n",
       "      <th>No</th>\n",
       "      <th>Url</th>\n",
       "    </tr>\n",
       "  </thead>\n",
       "  <tbody>\n",
       "    <tr>\n",
       "      <th>0</th>\n",
       "      <td>1</td>\n",
       "      <td>https://www.dormanproducts.com/p-9421-w37425.a...</td>\n",
       "    </tr>\n",
       "    <tr>\n",
       "      <th>1</th>\n",
       "      <td>2</td>\n",
       "      <td>https://www.dormanproducts.com/p-21537-w72258....</td>\n",
       "    </tr>\n",
       "    <tr>\n",
       "      <th>2</th>\n",
       "      <td>3</td>\n",
       "      <td>https://www.dormanproducts.com/p-50659-w610165...</td>\n",
       "    </tr>\n",
       "    <tr>\n",
       "      <th>3</th>\n",
       "      <td>4</td>\n",
       "      <td>https://www.dormanproducts.com/p-47833-w610150...</td>\n",
       "    </tr>\n",
       "    <tr>\n",
       "      <th>4</th>\n",
       "      <td>5</td>\n",
       "      <td>https://www.dormanproducts.com/p-50424-w610166...</td>\n",
       "    </tr>\n",
       "    <tr>\n",
       "      <th>...</th>\n",
       "      <td>...</td>\n",
       "      <td>...</td>\n",
       "    </tr>\n",
       "    <tr>\n",
       "      <th>1215</th>\n",
       "      <td>1216</td>\n",
       "      <td>https://www.dormanproducts.com/p-6828-w37969.a...</td>\n",
       "    </tr>\n",
       "    <tr>\n",
       "      <th>1216</th>\n",
       "      <td>1217</td>\n",
       "      <td>https://www.dormanproducts.com/p-34024-w73620....</td>\n",
       "    </tr>\n",
       "    <tr>\n",
       "      <th>1217</th>\n",
       "      <td>1218</td>\n",
       "      <td>https://www.dormanproducts.com/p-15139-m39944....</td>\n",
       "    </tr>\n",
       "    <tr>\n",
       "      <th>1218</th>\n",
       "      <td>1219</td>\n",
       "      <td>https://www.dormanproducts.com/p-46918-m630147...</td>\n",
       "    </tr>\n",
       "    <tr>\n",
       "      <th>1219</th>\n",
       "      <td>1220</td>\n",
       "      <td>https://www.dormanproducts.com/p-17372-w37584....</td>\n",
       "    </tr>\n",
       "  </tbody>\n",
       "</table>\n",
       "<p>1220 rows × 2 columns</p>\n",
       "</div>"
      ],
      "text/plain": [
       "        No                                                Url\n",
       "0        1  https://www.dormanproducts.com/p-9421-w37425.a...\n",
       "1        2  https://www.dormanproducts.com/p-21537-w72258....\n",
       "2        3  https://www.dormanproducts.com/p-50659-w610165...\n",
       "3        4  https://www.dormanproducts.com/p-47833-w610150...\n",
       "4        5  https://www.dormanproducts.com/p-50424-w610166...\n",
       "...    ...                                                ...\n",
       "1215  1216  https://www.dormanproducts.com/p-6828-w37969.a...\n",
       "1216  1217  https://www.dormanproducts.com/p-34024-w73620....\n",
       "1217  1218  https://www.dormanproducts.com/p-15139-m39944....\n",
       "1218  1219  https://www.dormanproducts.com/p-46918-m630147...\n",
       "1219  1220  https://www.dormanproducts.com/p-17372-w37584....\n",
       "\n",
       "[1220 rows x 2 columns]"
      ]
     },
     "execution_count": 3,
     "metadata": {},
     "output_type": "execute_result"
    }
   ],
   "source": [
    "list_dict_correct, list_series_error, df_input = [], [], pd.read_excel(f'{directory_in}/{file}',\n",
    "                                                                       header=0,\n",
    "                                                                       dtype=str).fillna('')\n",
    "\n",
    "df_input['No'] = df_input['No'].astype(int)\n",
    "\n",
    "count_remain = len(df_input)\n",
    "\n",
    "print(f'总数量：{count_remain}')\n",
    "print()\n",
    "df_input"
   ]
  },
  {
   "cell_type": "code",
   "execution_count": 4,
   "id": "5878a9f0-d639-4123-b6e0-bc564f72c2d6",
   "metadata": {},
   "outputs": [
    {
     "data": {
      "text/plain": [
       "(False,\n",
       " 0,\n",
       " No                                                     1\n",
       " Url    https://www.dormanproducts.com/p-9421-w37425.a...\n",
       " Name: 0, dtype: object)"
      ]
     },
     "execution_count": 4,
     "metadata": {},
     "output_type": "execute_result"
    }
   ],
   "source": [
    "crawler_status, (crawler_index, crawler_series) = False, next(df_input.iterrows())\n",
    "\n",
    "crawler_status, crawler_index, crawler_series"
   ]
  },
  {
   "cell_type": "code",
   "execution_count": 5,
   "id": "ad99bc86-6e80-4fcf-8200-736dc5101097",
   "metadata": {},
   "outputs": [
    {
     "name": "stdout",
     "output_type": "stream",
     "text": [
      "1\n",
      "2\n",
      "3\n",
      "4\n"
     ]
    },
    {
     "data": {
      "text/plain": [
       "'Wheel Cylinder'"
      ]
     },
     "execution_count": 5,
     "metadata": {},
     "output_type": "execute_result"
    }
   ],
   "source": [
    "count_retry = 0\n",
    "while True:\n",
    "    count_retry += 1\n",
    "    print(count_retry)\n",
    "    try:\n",
    "        url_request = crawler_series['Url']\n",
    "\n",
    "        resp = requests.get(url_request,\n",
    "                            headers=get_header(),\n",
    "                            proxies=get_proxy(),\n",
    "                            timeout=(5, 15))\n",
    "\n",
    "        if resp.status_code == 200:\n",
    "            soup = BeautifulSoup(resp.text, 'lxml')\n",
    "            html = etree.HTML(str(soup))\n",
    "\n",
    "            type_ = html.xpath('//h1/span[@id=\"lblPartTypeName\"]/text()')[0].strip()\n",
    "            if type_:\n",
    "                with open('./part.html', 'w', encoding='UTF-8') as file:\n",
    "                    file.write(str(soup))\n",
    "                break\n",
    "    except KeyboardInterrupt:\n",
    "        break\n",
    "    except:\n",
    "        continue\n",
    "\n",
    "type_"
   ]
  },
  {
   "cell_type": "code",
   "execution_count": 6,
   "id": "f933a1ab-8825-469f-91db-99d00e8d5c6d",
   "metadata": {
    "scrolled": true
   },
   "outputs": [
    {
     "data": {
      "text/plain": [
       "{'0': 'https://static.dormanproducts.com/images/product/medium/W37425-007.JPG',\n",
       " '1': 'https://static.dormanproducts.com/images/product/medium/W37425-006.JPG',\n",
       " '2': 'https://static.dormanproducts.com/images/product/medium/W37425-004.JPG'}"
      ]
     },
     "execution_count": 6,
     "metadata": {},
     "output_type": "execute_result"
    }
   ],
   "source": [
    "dict_src, i, list_href = {}, 0, list(reversed([href.strip() for href in html.xpath('//a[@data-zoom-id=\"ProductPic\"]/@href')]))\n",
    "for href in list_href:\n",
    "    if href.startswith('http'):\n",
    "        dict_src[str(i)] = href\n",
    "        i += 1\n",
    "\n",
    "if not list_href:\n",
    "    list_href = [href.strip() for href in html.xpath('//a[@id=\"ProductPic\"]/@href')]\n",
    "    if list_href:\n",
    "        dict_src = {'0': list_href[0]}\n",
    "\n",
    "dict_src"
   ]
  },
  {
   "cell_type": "code",
   "execution_count": 7,
   "id": "43844a94-a200-41b1-a313-ed0256b88c71",
   "metadata": {},
   "outputs": [
    {
     "data": {
      "text/plain": [
       "'W37425'"
      ]
     },
     "execution_count": 7,
     "metadata": {},
     "output_type": "execute_result"
    }
   ],
   "source": [
    "part_number = html.xpath('//span[@id=\"lblProductName\"]/text()')[0].strip()\n",
    "\n",
    "part_number"
   ]
  },
  {
   "cell_type": "code",
   "execution_count": 8,
   "id": "46eff63e-1cfa-4a23-ba9e-8351742e8400",
   "metadata": {
    "scrolled": true
   },
   "outputs": [
    {
     "data": {
      "text/plain": [
       "'Drum Brake Wheel Cylinder'"
      ]
     },
     "execution_count": 8,
     "metadata": {},
     "output_type": "execute_result"
    }
   ],
   "source": [
    "description = html.xpath('//span[@id=\"lblProductDesc\"]/text()')[0].strip()\n",
    "\n",
    "description"
   ]
  },
  {
   "cell_type": "code",
   "execution_count": 9,
   "id": "5f282eda-54ac-4f8e-a37c-412537540e5f",
   "metadata": {},
   "outputs": [
    {
     "data": {
      "text/plain": [
       "'BMW 2002 1976-69, BMW 2002ti 1971-69, BMW 2002tii 1974-71'"
      ]
     },
     "execution_count": 9,
     "metadata": {},
     "output_type": "execute_result"
    }
   ],
   "source": [
    "list_text = [text.strip() for text in html.xpath('//div[@id=\"divAppSummary\"]/p/text()')]\n",
    "while '' in list_text:\n",
    "    list_text.remove('')\n",
    "\n",
    "application_summary = ';'.join(list_text)\n",
    "\n",
    "application_summary"
   ]
  },
  {
   "cell_type": "code",
   "execution_count": 10,
   "id": "e6506b87-53eb-4664-b3d4-f6ba7a650979",
   "metadata": {},
   "outputs": [
    {
     "data": {
      "text/plain": [
       "'Dorman - First Stop'"
      ]
     },
     "execution_count": 10,
     "metadata": {},
     "output_type": "execute_result"
    }
   ],
   "source": [
    "brand = html.xpath('//span[@id=\"lblBrandName\"]/text()')[0].strip()\n",
    "\n",
    "brand"
   ]
  },
  {
   "cell_type": "code",
   "execution_count": 11,
   "id": "93bb5264-dfb2-41db-9baf-5978154f39a7",
   "metadata": {},
   "outputs": [
    {
     "data": {
      "text/plain": [
       "'https://www.dormanproducts.com/itemdetailapp.aspx?ProductID=9421&PartType=Wheel%20Cylinder'"
      ]
     },
     "execution_count": 11,
     "metadata": {},
     "output_type": "execute_result"
    }
   ],
   "source": [
    "value = html.xpath('//input[@id=\"hidfDetailApp\"]/@value')\n",
    "vehicle_url = f'https://www.dormanproducts.com/{value[0].strip()}' if value else ''\n",
    "\n",
    "vehicle_url"
   ]
  },
  {
   "cell_type": "code",
   "execution_count": 12,
   "id": "4fede4d9-4b8d-4484-bccf-920a04c411b9",
   "metadata": {},
   "outputs": [
    {
     "data": {
      "text/plain": [
       "{'0': {'Bleeder Screw Cap Included': 'No'},\n",
       " '1': {'Bleeder Screw Included': 'Yes'},\n",
       " '2': {'Brake Component Inlet Thread Size': 'M10 X 1.0'},\n",
       " '3': {'Inside Diameter': '0.625 in'},\n",
       " '4': {'Material': 'Cast Iron'},\n",
       " '5': {'Package Contents': '1 Drum Brake Wheel Cylinder'},\n",
       " '6': {'Package Quantity': '1'},\n",
       " '7': {'Packaging Type': 'Box'},\n",
       " '8': {'Thread Diameter': '10 mm'},\n",
       " '9': {'Thread Pitch': '1.0'}}"
      ]
     },
     "execution_count": 12,
     "metadata": {},
     "output_type": "execute_result"
    }
   ],
   "source": [
    "list_tr, dict_count = html.xpath('//section[@id=\"productSpec\"]/div/table/tr'), {}\n",
    "for tr in list_tr:\n",
    "    key = tr.xpath('./th/text()')[0].strip().removesuffix(':').strip()\n",
    "    if key in dict_count:\n",
    "        dict_count[key] += 1\n",
    "    else:\n",
    "        dict_count[key] = 1\n",
    "\n",
    "dict_specification, dict_no = {}, {}\n",
    "for i, tr in enumerate(list_tr):\n",
    "    key = tr.xpath('./th/text()')[0].strip().removesuffix(':').strip()\n",
    "    if dict_count[key] == 1:\n",
    "        dict_specification[str(i)] = {key: tr.xpath('./td/text()')[0].strip()}\n",
    "    else:\n",
    "        if key in dict_no:\n",
    "            dict_no[key] += 1\n",
    "        else:\n",
    "            dict_no[key] = 1\n",
    "        dict_specification[str(i)] = {f'{key}-{dict_no[key]}': tr.xpath('./td/text()')[0].strip()}\n",
    "\n",
    "dict_specification"
   ]
  },
  {
   "cell_type": "code",
   "execution_count": 13,
   "id": "3f5e2322-f0e0-42c7-8f79-2c520f64bb3e",
   "metadata": {},
   "outputs": [
    {
     "data": {
      "text/plain": [
       "'34 21 1 101 760'"
      ]
     },
     "execution_count": 13,
     "metadata": {},
     "output_type": "execute_result"
    }
   ],
   "source": [
    "list_text = [text.strip() for text in html.xpath('//section[@id=\"productOE\"]/div/table/tbody/tr/th/text()')]\n",
    "oem = ';'.join(sorted(list(set(list_text)), key=list_text.index))\n",
    "\n",
    "oem"
   ]
  },
  {
   "cell_type": "code",
   "execution_count": 14,
   "id": "99f49dd4-107b-4d6f-9ed6-1db0c1be6093",
   "metadata": {},
   "outputs": [
    {
     "data": {
      "text/plain": [
       "[{'No': 1,\n",
       "  'Type': 'Wheel Cylinder',\n",
       "  'Part Number': 'W37425',\n",
       "  'Brand': 'Dorman - First Stop',\n",
       "  'Description': 'Drum Brake Wheel Cylinder',\n",
       "  'Application Summary': 'BMW 2002 1976-69, BMW 2002ti 1971-69, BMW 2002tii 1974-71',\n",
       "  'OEM': '34 21 1 101 760',\n",
       "  'Picture': '',\n",
       "  'Url': 'https://www.dormanproducts.com/p-9421-w37425.aspx?origin=keyword',\n",
       "  'Json_Src': '{\"0\": \"https://static.dormanproducts.com/images/product/medium/W37425-007.JPG\", \"1\": \"https://static.dormanproducts.com/images/product/medium/W37425-006.JPG\", \"2\": \"https://static.dormanproducts.com/images/product/medium/W37425-004.JPG\"}',\n",
       "  'Vehicle Url': 'https://www.dormanproducts.com/itemdetailapp.aspx?ProductID=9421&PartType=Wheel%20Cylinder',\n",
       "  'Json_Specification': '{\"0\": {\"Bleeder Screw Cap Included\": \"No\"}, \"1\": {\"Bleeder Screw Included\": \"Yes\"}, \"2\": {\"Brake Component Inlet Thread Size\": \"M10 X 1.0\"}, \"3\": {\"Inside Diameter\": \"0.625 in\"}, \"4\": {\"Material\": \"Cast Iron\"}, \"5\": {\"Package Contents\": \"1 Drum Brake Wheel Cylinder\"}, \"6\": {\"Package Quantity\": \"1\"}, \"7\": {\"Packaging Type\": \"Box\"}, \"8\": {\"Thread Diameter\": \"10 mm\"}, \"9\": {\"Thread Pitch\": \"1.0\"}}'}]"
      ]
     },
     "execution_count": 14,
     "metadata": {},
     "output_type": "execute_result"
    }
   ],
   "source": [
    "list_dict_correct.append({'No': crawler_series['No'],\n",
    "                          'Type': type_,\n",
    "                          'Part Number': part_number,\n",
    "                          'Brand': brand,\n",
    "                          'Description': description,\n",
    "                          'Application Summary': application_summary,\n",
    "                          'OEM': oem,\n",
    "                          'Picture': '',\n",
    "                          'Url': url_request,\n",
    "                          'Json_Src': json.dumps(dict_src),\n",
    "                          'Vehicle Url': vehicle_url,\n",
    "                          'Json_Specification': json.dumps(dict_specification)})\n",
    "\n",
    "list_dict_correct"
   ]
  },
  {
   "cell_type": "code",
   "execution_count": 15,
   "id": "fc4ed7f6-ed4f-431c-b944-b1690309cdae",
   "metadata": {},
   "outputs": [
    {
     "data": {
      "text/plain": [
       "True"
      ]
     },
     "execution_count": 15,
     "metadata": {},
     "output_type": "execute_result"
    }
   ],
   "source": [
    "crawler_status = True\n",
    "\n",
    "crawler_status"
   ]
  },
  {
   "cell_type": "code",
   "execution_count": 16,
   "id": "65c745d1-446e-46c5-9dec-819c9f7944d3",
   "metadata": {},
   "outputs": [
    {
     "data": {
      "text/plain": [
       "[No                                                             1\n",
       " Url            https://www.dormanproducts.com/p-9421-w37425.a...\n",
       " Request_Url    https://www.dormanproducts.com/p-9421-w37425.a...\n",
       " Name: 0, dtype: object]"
      ]
     },
     "execution_count": 16,
     "metadata": {},
     "output_type": "execute_result"
    }
   ],
   "source": [
    "crawler_series['Request_Url'] = url_request\n",
    "\n",
    "list_series_error.append(crawler_series)\n",
    "\n",
    "list_series_error"
   ]
  },
  {
   "cell_type": "code",
   "execution_count": 17,
   "id": "17a796b2-35c8-4c10-960e-6111fec4b993",
   "metadata": {},
   "outputs": [
    {
     "data": {
      "text/html": [
       "<div>\n",
       "<style scoped>\n",
       "    .dataframe tbody tr th:only-of-type {\n",
       "        vertical-align: middle;\n",
       "    }\n",
       "\n",
       "    .dataframe tbody tr th {\n",
       "        vertical-align: top;\n",
       "    }\n",
       "\n",
       "    .dataframe thead th {\n",
       "        text-align: right;\n",
       "    }\n",
       "</style>\n",
       "<table border=\"1\" class=\"dataframe\">\n",
       "  <thead>\n",
       "    <tr style=\"text-align: right;\">\n",
       "      <th></th>\n",
       "      <th>No</th>\n",
       "      <th>Type</th>\n",
       "      <th>Part Number</th>\n",
       "      <th>Brand</th>\n",
       "      <th>Description</th>\n",
       "      <th>Application Summary</th>\n",
       "      <th>OEM</th>\n",
       "      <th>Picture</th>\n",
       "      <th>Url</th>\n",
       "      <th>Json_Src</th>\n",
       "      <th>Vehicle Url</th>\n",
       "      <th>Json_Specification</th>\n",
       "    </tr>\n",
       "  </thead>\n",
       "  <tbody>\n",
       "    <tr>\n",
       "      <th>0</th>\n",
       "      <td>1</td>\n",
       "      <td>Wheel Cylinder</td>\n",
       "      <td>W37425</td>\n",
       "      <td>Dorman - First Stop</td>\n",
       "      <td>Drum Brake Wheel Cylinder</td>\n",
       "      <td>BMW 2002 1976-69, BMW 2002ti 1971-69, BMW 2002...</td>\n",
       "      <td>34 21 1 101 760</td>\n",
       "      <td></td>\n",
       "      <td>https://www.dormanproducts.com/p-9421-w37425.a...</td>\n",
       "      <td>{\"0\": \"https://static.dormanproducts.com/image...</td>\n",
       "      <td>https://www.dormanproducts.com/itemdetailapp.a...</td>\n",
       "      <td>{\"0\": {\"Bleeder Screw Cap Included\": \"No\"}, \"1...</td>\n",
       "    </tr>\n",
       "  </tbody>\n",
       "</table>\n",
       "</div>"
      ],
      "text/plain": [
       "   No            Type Part Number                Brand  \\\n",
       "0   1  Wheel Cylinder      W37425  Dorman - First Stop   \n",
       "\n",
       "                 Description  \\\n",
       "0  Drum Brake Wheel Cylinder   \n",
       "\n",
       "                                 Application Summary              OEM Picture  \\\n",
       "0  BMW 2002 1976-69, BMW 2002ti 1971-69, BMW 2002...  34 21 1 101 760           \n",
       "\n",
       "                                                 Url  \\\n",
       "0  https://www.dormanproducts.com/p-9421-w37425.a...   \n",
       "\n",
       "                                            Json_Src  \\\n",
       "0  {\"0\": \"https://static.dormanproducts.com/image...   \n",
       "\n",
       "                                         Vehicle Url  \\\n",
       "0  https://www.dormanproducts.com/itemdetailapp.a...   \n",
       "\n",
       "                                  Json_Specification  \n",
       "0  {\"0\": {\"Bleeder Screw Cap Included\": \"No\"}, \"1...  "
      ]
     },
     "execution_count": 17,
     "metadata": {},
     "output_type": "execute_result"
    }
   ],
   "source": [
    "if list_dict_correct:\n",
    "    df_correct = pd.DataFrame(list_dict_correct).sort_values(by=['Type', 'Part Number'],\n",
    "                                                             ascending=[True, True],\n",
    "                                                             ignore_index=True)\n",
    "    df_correct['No'] = range(1, len(df_correct) + 1)\n",
    "    df_correct.to_excel('./test_part.xlsx', index=False)\n",
    "\n",
    "df_correct"
   ]
  },
  {
   "cell_type": "code",
   "execution_count": 18,
   "id": "b21c3fac-203a-4c6e-b7ae-b0ac1a112665",
   "metadata": {},
   "outputs": [
    {
     "data": {
      "text/html": [
       "<div>\n",
       "<style scoped>\n",
       "    .dataframe tbody tr th:only-of-type {\n",
       "        vertical-align: middle;\n",
       "    }\n",
       "\n",
       "    .dataframe tbody tr th {\n",
       "        vertical-align: top;\n",
       "    }\n",
       "\n",
       "    .dataframe thead th {\n",
       "        text-align: right;\n",
       "    }\n",
       "</style>\n",
       "<table border=\"1\" class=\"dataframe\">\n",
       "  <thead>\n",
       "    <tr style=\"text-align: right;\">\n",
       "      <th></th>\n",
       "      <th>No</th>\n",
       "      <th>Url</th>\n",
       "      <th>Request_Url</th>\n",
       "    </tr>\n",
       "  </thead>\n",
       "  <tbody>\n",
       "    <tr>\n",
       "      <th>0</th>\n",
       "      <td>1</td>\n",
       "      <td>https://www.dormanproducts.com/p-9421-w37425.a...</td>\n",
       "      <td>https://www.dormanproducts.com/p-9421-w37425.a...</td>\n",
       "    </tr>\n",
       "  </tbody>\n",
       "</table>\n",
       "</div>"
      ],
      "text/plain": [
       "   No                                                Url  \\\n",
       "0   1  https://www.dormanproducts.com/p-9421-w37425.a...   \n",
       "\n",
       "                                         Request_Url  \n",
       "0  https://www.dormanproducts.com/p-9421-w37425.a...  "
      ]
     },
     "execution_count": 18,
     "metadata": {},
     "output_type": "execute_result"
    }
   ],
   "source": [
    "if list_series_error:\n",
    "    df_error = pd.DataFrame(list_series_error).sort_values(by=['No'],\n",
    "                                                           ascending=[True],\n",
    "                                                           ignore_index=True)\n",
    "    df_error.to_excel('./test_part_error.xlsx', index=False)\n",
    "\n",
    "df_error"
   ]
  },
  {
   "cell_type": "code",
   "execution_count": null,
   "id": "ba5d9f77-7464-4ad5-a42b-1fa0c0505832",
   "metadata": {},
   "outputs": [],
   "source": []
  }
 ],
 "metadata": {
  "kernelspec": {
   "display_name": "Python 3 (ipykernel)",
   "language": "python",
   "name": "python3"
  },
  "language_info": {
   "codemirror_mode": {
    "name": "ipython",
    "version": 3
   },
   "file_extension": ".py",
   "mimetype": "text/x-python",
   "name": "python",
   "nbconvert_exporter": "python",
   "pygments_lexer": "ipython3",
   "version": "3.12.7"
  }
 },
 "nbformat": 4,
 "nbformat_minor": 5
}
