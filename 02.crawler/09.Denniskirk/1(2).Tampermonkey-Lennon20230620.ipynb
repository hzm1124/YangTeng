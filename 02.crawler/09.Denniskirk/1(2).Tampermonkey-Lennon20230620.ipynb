{
 "cells": [
  {
   "cell_type": "code",
   "execution_count": 1,
   "id": "14ca4672",
   "metadata": {},
   "outputs": [],
   "source": [
    "import os"
   ]
  },
  {
   "cell_type": "code",
   "execution_count": 2,
   "id": "a3369d1a",
   "metadata": {},
   "outputs": [
    {
     "data": {
      "text/plain": [
       "8"
      ]
     },
     "execution_count": 2,
     "metadata": {},
     "output_type": "execute_result"
    }
   ],
   "source": [
    "list_file = list(os.walk('./menu'))[0][2]\n",
    "if '.DS_Store' in list_file:\n",
    "   list_file.remove('.DS_Store')\n",
    "\n",
    "len(list_file)"
   ]
  },
  {
   "cell_type": "code",
   "execution_count": 3,
   "id": "552c5c8c",
   "metadata": {},
   "outputs": [],
   "source": [
    "import pandas as pd"
   ]
  },
  {
   "cell_type": "code",
   "execution_count": 4,
   "id": "19a50da8",
   "metadata": {},
   "outputs": [
    {
     "data": {
      "text/html": [
       "<div>\n",
       "<style scoped>\n",
       "    .dataframe tbody tr th:only-of-type {\n",
       "        vertical-align: middle;\n",
       "    }\n",
       "\n",
       "    .dataframe tbody tr th {\n",
       "        vertical-align: top;\n",
       "    }\n",
       "\n",
       "    .dataframe thead th {\n",
       "        text-align: right;\n",
       "    }\n",
       "</style>\n",
       "<table border=\"1\" class=\"dataframe\">\n",
       "  <thead>\n",
       "    <tr style=\"text-align: right;\">\n",
       "      <th></th>\n",
       "      <th>Title</th>\n",
       "      <th>Brand</th>\n",
       "      <th>Price</th>\n",
       "      <th>Url</th>\n",
       "    </tr>\n",
       "  </thead>\n",
       "  <tbody>\n",
       "  </tbody>\n",
       "</table>\n",
       "</div>"
      ],
      "text/plain": [
       "Empty DataFrame\n",
       "Columns: [Title, Brand, Price, Url]\n",
       "Index: []"
      ]
     },
     "execution_count": 4,
     "metadata": {},
     "output_type": "execute_result"
    }
   ],
   "source": [
    "df = pd.DataFrame(columns=['Title', 'Brand', 'Price', 'Url'])\n",
    "\n",
    "df"
   ]
  },
  {
   "cell_type": "code",
   "execution_count": 5,
   "id": "000d53d7",
   "metadata": {},
   "outputs": [],
   "source": [
    "import json"
   ]
  },
  {
   "cell_type": "code",
   "execution_count": 6,
   "id": "1d3df716",
   "metadata": {},
   "outputs": [
    {
     "name": "stdout",
     "output_type": "stream",
     "text": [
      "www.denniskirk.com_atv_cv-axle_brandasc.srt_100.ipp_6.pg.txt\n",
      "www.denniskirk.com_atv_cv-axle_brandasc.srt_100.ipp_8.pg.txt\n",
      "www.denniskirk.com_atv_cv-axle_brandasc.srt_100.ipp_4.pg.txt\n",
      "www.denniskirk.com_atv_cv-axle_brandasc.srt_100.ipp_2.pg.txt\n",
      "www.denniskirk.com_atv_cv-axle_brandasc.srt_100.ipp_7.pg.txt\n",
      "www.denniskirk.com_atv_cv-axle_brandasc.srt_100.ipp_5.pg.txt\n",
      "www.denniskirk.com_atv_cv-axle_brandasc.srt_100.ipp.txt\n",
      "www.denniskirk.com_atv_cv-axle_brandasc.srt_100.ipp_3.pg.txt\n"
     ]
    }
   ],
   "source": [
    "for file in list_file:\n",
    "    print(file)\n",
    "    with open('./menu/' + file) as f:\n",
    "        list_part = f.read()[1:-1].split('},{')\n",
    "        for i in range(len(list_part)):\n",
    "            if i == 0:\n",
    "                part = json.loads(list_part[i] + '}')\n",
    "            elif i == len(list_part) - 1:\n",
    "                part = json.loads('{' + list_part[i])\n",
    "            else:\n",
    "                part = json.loads('{' + list_part[i] + '}')\n",
    "                \n",
    "            df_temp = pd.DataFrame([{'Title': part['Title'],\n",
    "                                     'Brand': part['Brand'],\n",
    "                                     'Price': part['Price'],\n",
    "                                     'Url': part['Url']}])\n",
    "            df = pd.concat([df, df_temp], ignore_index=True)"
   ]
  },
  {
   "cell_type": "code",
   "execution_count": 7,
   "id": "e7c8e52b",
   "metadata": {},
   "outputs": [
    {
     "data": {
      "text/html": [
       "<div>\n",
       "<style scoped>\n",
       "    .dataframe tbody tr th:only-of-type {\n",
       "        vertical-align: middle;\n",
       "    }\n",
       "\n",
       "    .dataframe tbody tr th {\n",
       "        vertical-align: top;\n",
       "    }\n",
       "\n",
       "    .dataframe thead th {\n",
       "        text-align: right;\n",
       "    }\n",
       "</style>\n",
       "<table border=\"1\" class=\"dataframe\">\n",
       "  <thead>\n",
       "    <tr style=\"text-align: right;\">\n",
       "      <th></th>\n",
       "      <th>Title</th>\n",
       "      <th>Brand</th>\n",
       "      <th>Price</th>\n",
       "      <th>Url</th>\n",
       "    </tr>\n",
       "  </thead>\n",
       "  <tbody>\n",
       "    <tr>\n",
       "      <th>0</th>\n",
       "      <td>Complete Rear Left/Right Axle Kit - 0214-1058</td>\n",
       "      <td>Moose</td>\n",
       "      <td>$185.95</td>\n",
       "      <td>https://www.denniskirk.com/moose/complete-rear...</td>\n",
       "    </tr>\n",
       "    <tr>\n",
       "      <th>1</th>\n",
       "      <td>Complete Rear Left Axle Kit - 0214-1060</td>\n",
       "      <td>Moose</td>\n",
       "      <td>$185.95</td>\n",
       "      <td>https://www.denniskirk.com/moose/complete-rear...</td>\n",
       "    </tr>\n",
       "    <tr>\n",
       "      <th>2</th>\n",
       "      <td>Complete Rear Right Axle Kit - 0214-1061</td>\n",
       "      <td>Moose</td>\n",
       "      <td>$185.95</td>\n",
       "      <td>https://www.denniskirk.com/moose/complete-rear...</td>\n",
       "    </tr>\n",
       "    <tr>\n",
       "      <th>3</th>\n",
       "      <td>Complete Rear Left/Right Axle Kit - 0214-1062</td>\n",
       "      <td>Moose</td>\n",
       "      <td>$185.95</td>\n",
       "      <td>https://www.denniskirk.com/moose/complete-rear...</td>\n",
       "    </tr>\n",
       "    <tr>\n",
       "      <th>4</th>\n",
       "      <td>Complete Rear Left/Right Axle Kit - 0214-1063</td>\n",
       "      <td>Moose</td>\n",
       "      <td>$185.95</td>\n",
       "      <td>https://www.denniskirk.com/moose/complete-rear...</td>\n",
       "    </tr>\n",
       "    <tr>\n",
       "      <th>...</th>\n",
       "      <td>...</td>\n",
       "      <td>...</td>\n",
       "      <td>...</td>\n",
       "      <td>...</td>\n",
       "    </tr>\n",
       "    <tr>\n",
       "      <th>774</th>\n",
       "      <td>OEM Front Right CV Axle Kit - 0214-1706</td>\n",
       "      <td>Moose</td>\n",
       "      <td>$132.95</td>\n",
       "      <td>https://www.denniskirk.com/moose/oem-front-rig...</td>\n",
       "    </tr>\n",
       "    <tr>\n",
       "      <th>775</th>\n",
       "      <td>OEM Front CV Axle Kit - 0214-1707</td>\n",
       "      <td>Moose</td>\n",
       "      <td>$132.95</td>\n",
       "      <td>https://www.denniskirk.com/moose/oem-front-cv-...</td>\n",
       "    </tr>\n",
       "    <tr>\n",
       "      <th>776</th>\n",
       "      <td>OEM Rear Left CV Axle Kit - 0214-1708</td>\n",
       "      <td>Moose</td>\n",
       "      <td>$132.95</td>\n",
       "      <td>https://www.denniskirk.com/moose/oem-rear-left...</td>\n",
       "    </tr>\n",
       "    <tr>\n",
       "      <th>777</th>\n",
       "      <td>OEM Rear Right CV Axle Kit - 0214-1709</td>\n",
       "      <td>Moose</td>\n",
       "      <td>$132.95</td>\n",
       "      <td>https://www.denniskirk.com/moose/oem-rear-righ...</td>\n",
       "    </tr>\n",
       "    <tr>\n",
       "      <th>778</th>\n",
       "      <td>OEM Rear Right CV Axle Kit - 0214-1710</td>\n",
       "      <td>Moose</td>\n",
       "      <td>$132.95</td>\n",
       "      <td>https://www.denniskirk.com/moose/oem-rear-righ...</td>\n",
       "    </tr>\n",
       "  </tbody>\n",
       "</table>\n",
       "<p>779 rows × 4 columns</p>\n",
       "</div>"
      ],
      "text/plain": [
       "                                             Title  Brand    Price  \\\n",
       "0    Complete Rear Left/Right Axle Kit - 0214-1058  Moose  $185.95   \n",
       "1          Complete Rear Left Axle Kit - 0214-1060  Moose  $185.95   \n",
       "2         Complete Rear Right Axle Kit - 0214-1061  Moose  $185.95   \n",
       "3    Complete Rear Left/Right Axle Kit - 0214-1062  Moose  $185.95   \n",
       "4    Complete Rear Left/Right Axle Kit - 0214-1063  Moose  $185.95   \n",
       "..                                             ...    ...      ...   \n",
       "774        OEM Front Right CV Axle Kit - 0214-1706  Moose  $132.95   \n",
       "775              OEM Front CV Axle Kit - 0214-1707  Moose  $132.95   \n",
       "776          OEM Rear Left CV Axle Kit - 0214-1708  Moose  $132.95   \n",
       "777         OEM Rear Right CV Axle Kit - 0214-1709  Moose  $132.95   \n",
       "778         OEM Rear Right CV Axle Kit - 0214-1710  Moose  $132.95   \n",
       "\n",
       "                                                   Url  \n",
       "0    https://www.denniskirk.com/moose/complete-rear...  \n",
       "1    https://www.denniskirk.com/moose/complete-rear...  \n",
       "2    https://www.denniskirk.com/moose/complete-rear...  \n",
       "3    https://www.denniskirk.com/moose/complete-rear...  \n",
       "4    https://www.denniskirk.com/moose/complete-rear...  \n",
       "..                                                 ...  \n",
       "774  https://www.denniskirk.com/moose/oem-front-rig...  \n",
       "775  https://www.denniskirk.com/moose/oem-front-cv-...  \n",
       "776  https://www.denniskirk.com/moose/oem-rear-left...  \n",
       "777  https://www.denniskirk.com/moose/oem-rear-righ...  \n",
       "778  https://www.denniskirk.com/moose/oem-rear-righ...  \n",
       "\n",
       "[779 rows x 4 columns]"
      ]
     },
     "execution_count": 7,
     "metadata": {},
     "output_type": "execute_result"
    }
   ],
   "source": [
    "df.to_excel('./menu.xlsx', index=False)\n",
    "\n",
    "df"
   ]
  },
  {
   "cell_type": "code",
   "execution_count": null,
   "id": "f1b946e9",
   "metadata": {},
   "outputs": [],
   "source": []
  }
 ],
 "metadata": {
  "kernelspec": {
   "display_name": "Python 3 (ipykernel)",
   "language": "python",
   "name": "python3"
  },
  "language_info": {
   "codemirror_mode": {
    "name": "ipython",
    "version": 3
   },
   "file_extension": ".py",
   "mimetype": "text/x-python",
   "name": "python",
   "nbconvert_exporter": "python",
   "pygments_lexer": "ipython3",
   "version": "3.11.3"
  }
 },
 "nbformat": 4,
 "nbformat_minor": 5
}
