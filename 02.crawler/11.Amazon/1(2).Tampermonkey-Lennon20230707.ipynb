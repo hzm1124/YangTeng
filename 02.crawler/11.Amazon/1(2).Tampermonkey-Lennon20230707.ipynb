{
 "cells": [
  {
   "cell_type": "code",
   "execution_count": 1,
   "id": "fd5d3255",
   "metadata": {},
   "outputs": [],
   "source": [
    "import os"
   ]
  },
  {
   "cell_type": "code",
   "execution_count": 2,
   "id": "1cc452d4",
   "metadata": {},
   "outputs": [
    {
     "data": {
      "text/plain": [
       "13"
      ]
     },
     "execution_count": 2,
     "metadata": {},
     "output_type": "execute_result"
    }
   ],
   "source": [
    "list_file = list(os.walk('./menu'))[0][2]\n",
    "if '.DS_Store' in list_file:\n",
    "   list_file.remove('.DS_Store')\n",
    "\n",
    "len(list_file)"
   ]
  },
  {
   "cell_type": "code",
   "execution_count": 3,
   "id": "14d342fe",
   "metadata": {},
   "outputs": [],
   "source": [
    "import pandas as pd"
   ]
  },
  {
   "cell_type": "code",
   "execution_count": 4,
   "id": "a21ee82d",
   "metadata": {},
   "outputs": [
    {
     "data": {
      "text/html": [
       "<div>\n",
       "<style scoped>\n",
       "    .dataframe tbody tr th:only-of-type {\n",
       "        vertical-align: middle;\n",
       "    }\n",
       "\n",
       "    .dataframe tbody tr th {\n",
       "        vertical-align: top;\n",
       "    }\n",
       "\n",
       "    .dataframe thead th {\n",
       "        text-align: right;\n",
       "    }\n",
       "</style>\n",
       "<table border=\"1\" class=\"dataframe\">\n",
       "  <thead>\n",
       "    <tr style=\"text-align: right;\">\n",
       "      <th></th>\n",
       "    </tr>\n",
       "  </thead>\n",
       "  <tbody>\n",
       "  </tbody>\n",
       "</table>\n",
       "</div>"
      ],
      "text/plain": [
       "Empty DataFrame\n",
       "Columns: []\n",
       "Index: []"
      ]
     },
     "execution_count": 4,
     "metadata": {},
     "output_type": "execute_result"
    }
   ],
   "source": [
    "df = pd.DataFrame()\n",
    "\n",
    "df"
   ]
  },
  {
   "cell_type": "code",
   "execution_count": 5,
   "id": "f35193a2",
   "metadata": {},
   "outputs": [],
   "source": [
    "import json"
   ]
  },
  {
   "cell_type": "code",
   "execution_count": 6,
   "id": "b08620ce",
   "metadata": {},
   "outputs": [
    {
     "name": "stdout",
     "output_type": "stream",
     "text": [
      "www.amazon.com_s_i=merchant-items&me=A38SYBCXMXFCZS&page=11&marketplaceID=ATVPDKIKX0DER&qid=1692087586&refresh=1&ref=sr_pg_10.txt\n",
      "www.amazon.com_s_marketplaceID=ATVPDKIKX0DER&me=A38SYBCXMXFCZS&ref=glow_cls&refresh=1.txt\n",
      "www.amazon.com_s_i=merchant-items&me=A38SYBCXMXFCZS&page=3&marketplaceID=ATVPDKIKX0DER&qid=1692087559&refresh=1&ref=sr_pg_2.txt\n",
      "www.amazon.com_s_i=merchant-items&me=A38SYBCXMXFCZS&page=5&marketplaceID=ATVPDKIKX0DER&qid=1692087573&refresh=1&ref=sr_pg_4.txt\n",
      "www.amazon.com_s_i=merchant-items&me=A38SYBCXMXFCZS&page=8&marketplaceID=ATVPDKIKX0DER&qid=1692087580&refresh=1&ref=sr_pg_7.txt\n",
      "www.amazon.com_s_i=merchant-items&me=A38SYBCXMXFCZS&page=7&marketplaceID=ATVPDKIKX0DER&qid=1692087578&refresh=1&ref=sr_pg_6.txt\n",
      "www.amazon.com_s_i=merchant-items&me=A38SYBCXMXFCZS&page=6&marketplaceID=ATVPDKIKX0DER&qid=1692087575&refresh=1&ref=sr_pg_5.txt\n",
      "www.amazon.com_s_i=merchant-items&me=A38SYBCXMXFCZS&page=9&marketplaceID=ATVPDKIKX0DER&qid=1692087582&refresh=1&ref=sr_pg_8.txt\n",
      "www.amazon.com_s_i=merchant-items&me=A38SYBCXMXFCZS&page=13&marketplaceID=ATVPDKIKX0DER&qid=1692087589&refresh=1&ref=sr_pg_12.txt\n",
      "www.amazon.com_s_i=merchant-items&me=A38SYBCXMXFCZS&page=10&marketplaceID=ATVPDKIKX0DER&qid=1692087584&refresh=1&ref=sr_pg_9.txt\n",
      "www.amazon.com_s_i=merchant-items&me=A38SYBCXMXFCZS&page=4&marketplaceID=ATVPDKIKX0DER&qid=1692087567&refresh=1&ref=sr_pg_3.txt\n",
      "www.amazon.com_s_i=merchant-items&me=A38SYBCXMXFCZS&page=2&marketplaceID=ATVPDKIKX0DER&qid=1692086523&refresh=1&ref=sr_pg_1.txt\n",
      "www.amazon.com_s_i=merchant-items&me=A38SYBCXMXFCZS&page=12&marketplaceID=ATVPDKIKX0DER&qid=1692087587&refresh=1&ref=sr_pg_11.txt\n"
     ]
    },
    {
     "data": {
      "text/html": [
       "<div>\n",
       "<style scoped>\n",
       "    .dataframe tbody tr th:only-of-type {\n",
       "        vertical-align: middle;\n",
       "    }\n",
       "\n",
       "    .dataframe tbody tr th {\n",
       "        vertical-align: top;\n",
       "    }\n",
       "\n",
       "    .dataframe thead th {\n",
       "        text-align: right;\n",
       "    }\n",
       "</style>\n",
       "<table border=\"1\" class=\"dataframe\">\n",
       "  <thead>\n",
       "    <tr style=\"text-align: right;\">\n",
       "      <th></th>\n",
       "      <th>Url</th>\n",
       "      <th>Src</th>\n",
       "    </tr>\n",
       "  </thead>\n",
       "  <tbody>\n",
       "    <tr>\n",
       "      <th>0</th>\n",
       "      <td>https://www.amazon.com/MITZONE-Aluminium-Compa...</td>\n",
       "      <td>https://m.media-amazon.com/images/I/611cl-41J7...</td>\n",
       "    </tr>\n",
       "    <tr>\n",
       "      <th>1</th>\n",
       "      <td>https://www.amazon.com/MITZONE-compatible-Linc...</td>\n",
       "      <td>https://m.media-amazon.com/images/I/61rimhV+wF...</td>\n",
       "    </tr>\n",
       "    <tr>\n",
       "      <th>2</th>\n",
       "      <td>https://www.amazon.com/MITZONE-Tailgate-Power-...</td>\n",
       "      <td>https://m.media-amazon.com/images/I/610m1R4KVz...</td>\n",
       "    </tr>\n",
       "    <tr>\n",
       "      <th>3</th>\n",
       "      <td>https://www.amazon.com/MITZONE-Compatible-Repl...</td>\n",
       "      <td>https://m.media-amazon.com/images/I/71dTOZKCT2...</td>\n",
       "    </tr>\n",
       "    <tr>\n",
       "      <th>4</th>\n",
       "      <td>https://www.amazon.com/MITZONE-Control-compati...</td>\n",
       "      <td>https://m.media-amazon.com/images/I/51nRiZ9GRb...</td>\n",
       "    </tr>\n",
       "    <tr>\n",
       "      <th>...</th>\n",
       "      <td>...</td>\n",
       "      <td>...</td>\n",
       "    </tr>\n",
       "    <tr>\n",
       "      <th>197</th>\n",
       "      <td>https://www.amazon.com/MITZONE-Thermostat-Comp...</td>\n",
       "      <td>https://m.media-amazon.com/images/I/51HuhV+u2V...</td>\n",
       "    </tr>\n",
       "    <tr>\n",
       "      <th>198</th>\n",
       "      <td>https://www.amazon.com/MITZONE-Ignition-Compat...</td>\n",
       "      <td>https://m.media-amazon.com/images/I/7165X8iaH1...</td>\n",
       "    </tr>\n",
       "    <tr>\n",
       "      <th>199</th>\n",
       "      <td>https://www.amazon.com/MITZONE-Center-compatib...</td>\n",
       "      <td>https://m.media-amazon.com/images/I/51ApNuzsSw...</td>\n",
       "    </tr>\n",
       "    <tr>\n",
       "      <th>200</th>\n",
       "      <td>https://www.amazon.com/MITZONE-Compatible-2007...</td>\n",
       "      <td>https://m.media-amazon.com/images/I/61awDYq5rb...</td>\n",
       "    </tr>\n",
       "    <tr>\n",
       "      <th>201</th>\n",
       "      <td>https://www.amazon.com/MITZONE-Transmission-Sh...</td>\n",
       "      <td>https://m.media-amazon.com/images/I/61SZmMcCK7...</td>\n",
       "    </tr>\n",
       "  </tbody>\n",
       "</table>\n",
       "<p>202 rows × 2 columns</p>\n",
       "</div>"
      ],
      "text/plain": [
       "                                                   Url  \\\n",
       "0    https://www.amazon.com/MITZONE-Aluminium-Compa...   \n",
       "1    https://www.amazon.com/MITZONE-compatible-Linc...   \n",
       "2    https://www.amazon.com/MITZONE-Tailgate-Power-...   \n",
       "3    https://www.amazon.com/MITZONE-Compatible-Repl...   \n",
       "4    https://www.amazon.com/MITZONE-Control-compati...   \n",
       "..                                                 ...   \n",
       "197  https://www.amazon.com/MITZONE-Thermostat-Comp...   \n",
       "198  https://www.amazon.com/MITZONE-Ignition-Compat...   \n",
       "199  https://www.amazon.com/MITZONE-Center-compatib...   \n",
       "200  https://www.amazon.com/MITZONE-Compatible-2007...   \n",
       "201  https://www.amazon.com/MITZONE-Transmission-Sh...   \n",
       "\n",
       "                                                   Src  \n",
       "0    https://m.media-amazon.com/images/I/611cl-41J7...  \n",
       "1    https://m.media-amazon.com/images/I/61rimhV+wF...  \n",
       "2    https://m.media-amazon.com/images/I/610m1R4KVz...  \n",
       "3    https://m.media-amazon.com/images/I/71dTOZKCT2...  \n",
       "4    https://m.media-amazon.com/images/I/51nRiZ9GRb...  \n",
       "..                                                 ...  \n",
       "197  https://m.media-amazon.com/images/I/51HuhV+u2V...  \n",
       "198  https://m.media-amazon.com/images/I/7165X8iaH1...  \n",
       "199  https://m.media-amazon.com/images/I/51ApNuzsSw...  \n",
       "200  https://m.media-amazon.com/images/I/61awDYq5rb...  \n",
       "201  https://m.media-amazon.com/images/I/61SZmMcCK7...  \n",
       "\n",
       "[202 rows x 2 columns]"
      ]
     },
     "execution_count": 6,
     "metadata": {},
     "output_type": "execute_result"
    }
   ],
   "source": [
    "for file in list_file:\n",
    "    print(file)\n",
    "    with open('./menu/' + file, 'r') as f:\n",
    "        df = pd.concat([df, pd.DataFrame(json.loads(f.read()))], ignore_index=True)\n",
    "\n",
    "df.to_excel('./menu.xlsx', index=False)\n",
    "\n",
    "df"
   ]
  },
  {
   "cell_type": "code",
   "execution_count": null,
   "id": "d24df490",
   "metadata": {},
   "outputs": [],
   "source": []
  }
 ],
 "metadata": {
  "kernelspec": {
   "display_name": "Python 3 (ipykernel)",
   "language": "python",
   "name": "python3"
  },
  "language_info": {
   "codemirror_mode": {
    "name": "ipython",
    "version": 3
   },
   "file_extension": ".py",
   "mimetype": "text/x-python",
   "name": "python",
   "nbconvert_exporter": "python",
   "pygments_lexer": "ipython3",
   "version": "3.11.3"
  }
 },
 "nbformat": 4,
 "nbformat_minor": 5
}
