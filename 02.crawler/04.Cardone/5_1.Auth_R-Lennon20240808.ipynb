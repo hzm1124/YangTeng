{
 "cells": [
  {
   "cell_type": "code",
   "execution_count": 1,
   "id": "783f89be-0cdc-4912-942e-895cc5f09840",
   "metadata": {},
   "outputs": [],
   "source": [
    "import pandas as pd\n",
    "\n",
    "output_correct, output_error = pd.DataFrame(), pd.DataFrame()"
   ]
  },
  {
   "cell_type": "code",
   "execution_count": 2,
   "id": "1c28f4ff-eee5-4220-a711-cc2f93fe08f0",
   "metadata": {
    "scrolled": true
   },
   "outputs": [
    {
     "name": "stdout",
     "output_type": "stream",
     "text": [
      "总数量：1\n"
     ]
    },
    {
     "data": {
      "text/plain": [
       "['https://cdn11.bigcommerce.com/s-z9vhe3o238/stencil/033eb870-fd2a-013b-d35b-0e32ab8fdfb1/e/f1f3ec70-a1ca-013c-1d69-569dcc364c94/dist/']"
      ]
     },
     "execution_count": 2,
     "metadata": {},
     "output_type": "execute_result"
    }
   ],
   "source": [
    "input_ = pd.read_excel('./4.part.xlsx',\n",
    "                       header=0,\n",
    "                       dtype=str).fillna('')\n",
    "\n",
    "input_['No'] = input_['No'].astype(int)\n",
    "\n",
    "print(f'总数量：{len(input_)}')\n",
    "input_['Bundle'].tolist()"
   ]
  },
  {
   "cell_type": "code",
   "execution_count": 3,
   "id": "5878a9f0-d639-4123-b6e0-bc564f72c2d6",
   "metadata": {},
   "outputs": [
    {
     "data": {
      "text/plain": [
       "0"
      ]
     },
     "execution_count": 3,
     "metadata": {},
     "output_type": "execute_result"
    }
   ],
   "source": [
    "a = 0\n",
    "\n",
    "a"
   ]
  },
  {
   "cell_type": "code",
   "execution_count": 4,
   "id": "9f61dd65-55da-4d0b-ba30-d0534eff0781",
   "metadata": {},
   "outputs": [
    {
     "data": {
      "text/plain": [
       "'error'"
      ]
     },
     "execution_count": 4,
     "metadata": {},
     "output_type": "execute_result"
    }
   ],
   "source": [
    "crawler_status = 'error'\n",
    "\n",
    "crawler_status"
   ]
  },
  {
   "cell_type": "code",
   "execution_count": 5,
   "id": "6895e74e-f739-4f18-8ce4-8fda55c4dc5e",
   "metadata": {
    "scrolled": true
   },
   "outputs": [
    {
     "name": "stdout",
     "output_type": "stream",
     "text": [
      "1\n",
      "2\n",
      "3\n",
      "4\n",
      "5\n",
      "6\n",
      "7\n",
      "8\n",
      "9\n",
      "10\n"
     ]
    },
    {
     "data": {
      "text/plain": [
       "<Response [200]>"
      ]
     },
     "execution_count": 5,
     "metadata": {},
     "output_type": "execute_result"
    }
   ],
   "source": [
    "import requests\n",
    "\n",
    "import sys\n",
    "sys.path.append('../00.Tools')\n",
    "from crawler_configuration import get_header, get_proxy\n",
    "\n",
    "b = 0\n",
    "while True:\n",
    "    b += 1\n",
    "    print(b)\n",
    "    try:\n",
    "        resp = requests.get(f'''{input_.loc[a, 'Bundle']}theme-bundle.main.js''',\n",
    "                            headers=get_header(),\n",
    "                            proxies=get_proxy(),\n",
    "                            timeout=(10, 10))\n",
    "\n",
    "        if resp.status_code == 200:\n",
    "            break\n",
    "    except:\n",
    "        continue\n",
    "\n",
    "resp"
   ]
  },
  {
   "cell_type": "code",
   "execution_count": 6,
   "id": "f5b2c22a-4b35-44c7-a48f-1ce28d9cf32a",
   "metadata": {},
   "outputs": [
    {
     "data": {
      "text/plain": [
       "'mXWIhUuYvk3hklMcdwLi4lwVd3s6VASw'"
      ]
     },
     "execution_count": 6,
     "metadata": {},
     "output_type": "execute_result"
    }
   ],
   "source": [
    "auth = resp.text.split('h.getFitmentData')[1].split('auth=')[1].split('\"')[0]\n",
    "\n",
    "auth"
   ]
  },
  {
   "cell_type": "code",
   "execution_count": 7,
   "id": "46149d9c-de70-48cf-9d12-a5f6c8478c27",
   "metadata": {},
   "outputs": [
    {
     "data": {
      "text/html": [
       "<div>\n",
       "<style scoped>\n",
       "    .dataframe tbody tr th:only-of-type {\n",
       "        vertical-align: middle;\n",
       "    }\n",
       "\n",
       "    .dataframe tbody tr th {\n",
       "        vertical-align: top;\n",
       "    }\n",
       "\n",
       "    .dataframe thead th {\n",
       "        text-align: right;\n",
       "    }\n",
       "</style>\n",
       "<table border=\"1\" class=\"dataframe\">\n",
       "  <thead>\n",
       "    <tr style=\"text-align: right;\">\n",
       "      <th></th>\n",
       "      <th>No</th>\n",
       "      <th>Part Number</th>\n",
       "      <th>Type</th>\n",
       "      <th>Title</th>\n",
       "      <th>Subtitle</th>\n",
       "      <th>Application Summary</th>\n",
       "      <th>Url</th>\n",
       "      <th>Bundle</th>\n",
       "      <th>Auth</th>\n",
       "      <th>Json_Src</th>\n",
       "      <th>Json_Info</th>\n",
       "    </tr>\n",
       "  </thead>\n",
       "  <tbody>\n",
       "    <tr>\n",
       "      <th>0</th>\n",
       "      <td>1</td>\n",
       "      <td>12-1000</td>\n",
       "      <td>ABS Control Module</td>\n",
       "      <td>ABS Control Module - 12-1000</td>\n",
       "      <td>CARDONE Reman</td>\n",
       "      <td>Chevrolet Astro 1992-90, Blazer 1991-90, C1500...</td>\n",
       "      <td>https://www.cardone.com/product/abs-control-mo...</td>\n",
       "      <td>https://cdn11.bigcommerce.com/s-z9vhe3o238/ste...</td>\n",
       "      <td>mXWIhUuYvk3hklMcdwLi4lwVd3s6VASw</td>\n",
       "      <td>{\"0\": \"https://cdn11.bigcommerce.com/s-z9vhe3o...</td>\n",
       "      <td>{\"0\": {\"productDeskExternalKey\": \"CPCX|12-1000...</td>\n",
       "    </tr>\n",
       "  </tbody>\n",
       "</table>\n",
       "</div>"
      ],
      "text/plain": [
       "   No Part Number                Type                         Title  \\\n",
       "0   1     12-1000  ABS Control Module  ABS Control Module - 12-1000   \n",
       "\n",
       "        Subtitle                                Application Summary  \\\n",
       "0  CARDONE Reman  Chevrolet Astro 1992-90, Blazer 1991-90, C1500...   \n",
       "\n",
       "                                                 Url  \\\n",
       "0  https://www.cardone.com/product/abs-control-mo...   \n",
       "\n",
       "                                              Bundle  \\\n",
       "0  https://cdn11.bigcommerce.com/s-z9vhe3o238/ste...   \n",
       "\n",
       "                               Auth  \\\n",
       "0  mXWIhUuYvk3hklMcdwLi4lwVd3s6VASw   \n",
       "\n",
       "                                            Json_Src  \\\n",
       "0  {\"0\": \"https://cdn11.bigcommerce.com/s-z9vhe3o...   \n",
       "\n",
       "                                           Json_Info  \n",
       "0  {\"0\": {\"productDeskExternalKey\": \"CPCX|12-1000...  "
      ]
     },
     "execution_count": 7,
     "metadata": {},
     "output_type": "execute_result"
    }
   ],
   "source": [
    "df_temp = pd.DataFrame([{'No': input_.loc[a, 'No'],\n",
    "                         'Part Number': input_.loc[a, 'Part Number'],\n",
    "                         'Type': input_.loc[a, 'Type'],\n",
    "                         'Title': input_.loc[a, 'Title'],\n",
    "                         'Subtitle': input_.loc[a, 'Subtitle'],\n",
    "                         'Application Summary': input_.loc[a, 'Application Summary'],\n",
    "                         'Url': input_.loc[a, 'Url'],\n",
    "                         'Bundle': input_.loc[a, 'Bundle'],\n",
    "                         'Auth': auth,\n",
    "                         'Json_Src': input_.loc[a, 'Json_Src'],\n",
    "                         'Json_Info': input_.loc[a, 'Json_Info']}])\n",
    "\n",
    "output_correct = pd.concat([output_correct, df_temp], ignore_index=True).fillna('')\n",
    "\n",
    "output_correct"
   ]
  },
  {
   "cell_type": "code",
   "execution_count": 8,
   "id": "fc4ed7f6-ed4f-431c-b944-b1690309cdae",
   "metadata": {},
   "outputs": [
    {
     "data": {
      "text/plain": [
       "'ok'"
      ]
     },
     "execution_count": 8,
     "metadata": {},
     "output_type": "execute_result"
    }
   ],
   "source": [
    "crawler_status = 'ok'\n",
    "\n",
    "crawler_status"
   ]
  },
  {
   "cell_type": "code",
   "execution_count": 9,
   "id": "65c745d1-446e-46c5-9dec-819c9f7944d3",
   "metadata": {},
   "outputs": [
    {
     "data": {
      "text/html": [
       "<div>\n",
       "<style scoped>\n",
       "    .dataframe tbody tr th:only-of-type {\n",
       "        vertical-align: middle;\n",
       "    }\n",
       "\n",
       "    .dataframe tbody tr th {\n",
       "        vertical-align: top;\n",
       "    }\n",
       "\n",
       "    .dataframe thead th {\n",
       "        text-align: right;\n",
       "    }\n",
       "</style>\n",
       "<table border=\"1\" class=\"dataframe\">\n",
       "  <thead>\n",
       "    <tr style=\"text-align: right;\">\n",
       "      <th></th>\n",
       "    </tr>\n",
       "  </thead>\n",
       "  <tbody>\n",
       "  </tbody>\n",
       "</table>\n",
       "</div>"
      ],
      "text/plain": [
       "Empty DataFrame\n",
       "Columns: []\n",
       "Index: []"
      ]
     },
     "execution_count": 9,
     "metadata": {},
     "output_type": "execute_result"
    }
   ],
   "source": [
    "if crawler_status == 'error':\n",
    "    df_temp = pd.DataFrame([{'No': input_.loc[a, 'No'],\n",
    "                             'Part Number': input_.loc[a, 'Part Number'],\n",
    "                             'Type': input_.loc[a, 'Type'],\n",
    "                             'Title': input_.loc[a, 'Title'],\n",
    "                             'Subtitle': input_.loc[a, 'Subtitle'],\n",
    "                             'Application Summary': input_.loc[a, 'Application Summary'],\n",
    "                             'Url': input_.loc[a, 'Url'],\n",
    "                             'Bundle': input_.loc[a, 'Bundle'],\n",
    "                             'Json_Src': input_.loc[a, 'Json_Src'],\n",
    "                             'Json_Info': input_.loc[a, 'Json_Info']}])\n",
    "\n",
    "    output_error = pd.concat([output_error, df_temp], ignore_index=True).fillna('')\n",
    "\n",
    "output_error"
   ]
  },
  {
   "cell_type": "code",
   "execution_count": 10,
   "id": "7fd477de",
   "metadata": {},
   "outputs": [
    {
     "data": {
      "text/html": [
       "<div>\n",
       "<style scoped>\n",
       "    .dataframe tbody tr th:only-of-type {\n",
       "        vertical-align: middle;\n",
       "    }\n",
       "\n",
       "    .dataframe tbody tr th {\n",
       "        vertical-align: top;\n",
       "    }\n",
       "\n",
       "    .dataframe thead th {\n",
       "        text-align: right;\n",
       "    }\n",
       "</style>\n",
       "<table border=\"1\" class=\"dataframe\">\n",
       "  <thead>\n",
       "    <tr style=\"text-align: right;\">\n",
       "      <th></th>\n",
       "      <th>No</th>\n",
       "      <th>Part Number</th>\n",
       "      <th>Type</th>\n",
       "      <th>Title</th>\n",
       "      <th>Subtitle</th>\n",
       "      <th>Application Summary</th>\n",
       "      <th>Url</th>\n",
       "      <th>Bundle</th>\n",
       "      <th>Auth</th>\n",
       "      <th>Json_Src</th>\n",
       "      <th>Json_Info</th>\n",
       "    </tr>\n",
       "  </thead>\n",
       "  <tbody>\n",
       "    <tr>\n",
       "      <th>0</th>\n",
       "      <td>1</td>\n",
       "      <td>12-1000</td>\n",
       "      <td>ABS Control Module</td>\n",
       "      <td>ABS Control Module - 12-1000</td>\n",
       "      <td>CARDONE Reman</td>\n",
       "      <td>Chevrolet Astro 1992-90, Blazer 1991-90, C1500...</td>\n",
       "      <td>https://www.cardone.com/product/abs-control-mo...</td>\n",
       "      <td>https://cdn11.bigcommerce.com/s-z9vhe3o238/ste...</td>\n",
       "      <td>mXWIhUuYvk3hklMcdwLi4lwVd3s6VASw</td>\n",
       "      <td>{\"0\": \"https://cdn11.bigcommerce.com/s-z9vhe3o...</td>\n",
       "      <td>{\"0\": {\"productDeskExternalKey\": \"CPCX|12-1000...</td>\n",
       "    </tr>\n",
       "  </tbody>\n",
       "</table>\n",
       "</div>"
      ],
      "text/plain": [
       "   No Part Number                Type                         Title  \\\n",
       "0   1     12-1000  ABS Control Module  ABS Control Module - 12-1000   \n",
       "\n",
       "        Subtitle                                Application Summary  \\\n",
       "0  CARDONE Reman  Chevrolet Astro 1992-90, Blazer 1991-90, C1500...   \n",
       "\n",
       "                                                 Url  \\\n",
       "0  https://www.cardone.com/product/abs-control-mo...   \n",
       "\n",
       "                                              Bundle  \\\n",
       "0  https://cdn11.bigcommerce.com/s-z9vhe3o238/ste...   \n",
       "\n",
       "                               Auth  \\\n",
       "0  mXWIhUuYvk3hklMcdwLi4lwVd3s6VASw   \n",
       "\n",
       "                                            Json_Src  \\\n",
       "0  {\"0\": \"https://cdn11.bigcommerce.com/s-z9vhe3o...   \n",
       "\n",
       "                                           Json_Info  \n",
       "0  {\"0\": {\"productDeskExternalKey\": \"CPCX|12-1000...  "
      ]
     },
     "execution_count": 10,
     "metadata": {},
     "output_type": "execute_result"
    }
   ],
   "source": [
    "if not output_correct.empty:\n",
    "    output_correct = output_correct.sort_values(by=['No'],\n",
    "                                                ascending=[True],\n",
    "                                                ignore_index=True)\n",
    "    output_correct.to_excel('./test_auth.xlsx', index=False)\n",
    "\n",
    "output_correct"
   ]
  },
  {
   "cell_type": "code",
   "execution_count": 11,
   "id": "39a5441b-7f69-4812-aad8-7e10a1a24e78",
   "metadata": {},
   "outputs": [
    {
     "data": {
      "text/html": [
       "<div>\n",
       "<style scoped>\n",
       "    .dataframe tbody tr th:only-of-type {\n",
       "        vertical-align: middle;\n",
       "    }\n",
       "\n",
       "    .dataframe tbody tr th {\n",
       "        vertical-align: top;\n",
       "    }\n",
       "\n",
       "    .dataframe thead th {\n",
       "        text-align: right;\n",
       "    }\n",
       "</style>\n",
       "<table border=\"1\" class=\"dataframe\">\n",
       "  <thead>\n",
       "    <tr style=\"text-align: right;\">\n",
       "      <th></th>\n",
       "    </tr>\n",
       "  </thead>\n",
       "  <tbody>\n",
       "  </tbody>\n",
       "</table>\n",
       "</div>"
      ],
      "text/plain": [
       "Empty DataFrame\n",
       "Columns: []\n",
       "Index: []"
      ]
     },
     "execution_count": 11,
     "metadata": {},
     "output_type": "execute_result"
    }
   ],
   "source": [
    "if not output_error.empty:\n",
    "    output_error = output_error.sort_values(by=['No'],\n",
    "                                            ascending=[True],\n",
    "                                            ignore_index=True)\n",
    "    output_error.to_excel('./test_auth_error.xlsx', index=False)\n",
    "\n",
    "output_error"
   ]
  },
  {
   "cell_type": "code",
   "execution_count": null,
   "id": "ba5d9f77-7464-4ad5-a42b-1fa0c0505832",
   "metadata": {},
   "outputs": [],
   "source": []
  }
 ],
 "metadata": {
  "kernelspec": {
   "display_name": "Python 3 (ipykernel)",
   "language": "python",
   "name": "python3"
  },
  "language_info": {
   "codemirror_mode": {
    "name": "ipython",
    "version": 3
   },
   "file_extension": ".py",
   "mimetype": "text/x-python",
   "name": "python",
   "nbconvert_exporter": "python",
   "pygments_lexer": "ipython3",
   "version": "3.11.3"
  }
 },
 "nbformat": 4,
 "nbformat_minor": 5
}
