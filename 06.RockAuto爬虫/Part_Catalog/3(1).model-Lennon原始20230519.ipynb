{
 "cells": [
  {
   "cell_type": "code",
   "execution_count": 1,
   "id": "5f2b783e",
   "metadata": {},
   "outputs": [],
   "source": [
    "import pandas as pd\n",
    "\n",
    "df_menu = pd.read_excel('./model_in.xlsx', header=0)\n",
    "list_make = df_menu['Make'].to_list()\n",
    "\n",
    "list_make"
   ]
  },
  {
   "cell_type": "code",
   "execution_count": 3,
   "id": "79a7e83b",
   "metadata": {
    "scrolled": true
   },
   "outputs": [
    {
     "data": {
      "text/plain": [
       "['ACURA',\n",
       " 'ACURA',\n",
       " 'ACURA',\n",
       " 'ACURA',\n",
       " 'ACURA',\n",
       " 'ACURA',\n",
       " 'ACURA',\n",
       " 'ACURA',\n",
       " 'ACURA',\n",
       " 'ACURA',\n",
       " 'ACURA',\n",
       " 'ACURA',\n",
       " 'ACURA',\n",
       " 'ACURA',\n",
       " 'ACURA',\n",
       " 'ACURA',\n",
       " 'ACURA',\n",
       " 'ACURA',\n",
       " 'ACURA',\n",
       " 'ACURA',\n",
       " 'ACURA',\n",
       " 'ACURA',\n",
       " 'ACURA',\n",
       " 'ACURA',\n",
       " 'ACURA',\n",
       " 'ACURA',\n",
       " 'ACURA',\n",
       " 'ACURA',\n",
       " 'ACURA',\n",
       " 'ACURA',\n",
       " 'ACURA',\n",
       " 'ACURA',\n",
       " 'ACURA',\n",
       " 'ACURA']"
      ]
     },
     "execution_count": 3,
     "metadata": {},
     "output_type": "execute_result"
    }
   ],
   "source": [
    "list_year = df_menu['Year'].to_list()\n",
    "\n",
    "print(len(list_year))\n",
    "list_year"
   ]
  },
  {
   "cell_type": "code",
   "execution_count": null,
   "id": "eba7f156",
   "metadata": {},
   "outputs": [],
   "source": [
    "df = pd.DataFrame(columns=['Make',\n",
    "                           'Year',\n",
    "                           'Model',\n",
    "                           'Url',\n",
    "                           'status'])"
   ]
  },
  {
   "cell_type": "code",
   "execution_count": 5,
   "id": "0696ef0d",
   "metadata": {},
   "outputs": [],
   "source": [
    "from urllib.parse import quote"
   ]
  },
  {
   "cell_type": "code",
   "execution_count": 21,
   "id": "f7243de3",
   "metadata": {},
   "outputs": [
    {
     "data": {
      "text/plain": [
       "'func=navnode_fetch&payload=%7B%22jsn%22%3A%7B%22tab%22%3A%22catalog%22%2C%22make%22%3A%22ACURA%22%2C%22year%22%3A%222023%22%7D%7D&api_json_request=1'"
      ]
     },
     "execution_count": 21,
     "metadata": {},
     "output_type": "execute_result"
    }
   ],
   "source": [
    "i = 0\n",
    "\n",
    "headers = {'Content-Type': 'application/x-www-form-urlencoded; charset=UTF-8'}\n",
    "\n",
    "func = r'navnode_fetch'\n",
    "payload = r'{\"jsn\":{\"tab\":\"catalog\",\"make\":\"' + list_make[i] + '\",\"year\":\"' + str(list_year[i]) +'\"}}'\n",
    "api_json_request = r'1'\n",
    "\n",
    "data = 'func=' + func + '&payload=' + quote(payload, safe=' ').replace(' ', '+') + '&api_json_request=' + api_json_request\n",
    "\n",
    "data"
   ]
  },
  {
   "cell_type": "code",
   "execution_count": 7,
   "id": "680513fd",
   "metadata": {},
   "outputs": [],
   "source": [
    "import requests"
   ]
  },
  {
   "cell_type": "code",
   "execution_count": 22,
   "id": "f45224ed",
   "metadata": {
    "scrolled": true
   },
   "outputs": [
    {
     "data": {
      "text/plain": [
       "'{\"html_fill_sections\":{\"navchildren[]\":\"<div class=\\\\\"ranavnode\\\\\" id=\\\\\"nav[__GIP__1__]\\\\\"><input type=\\\\\"hidden\\\\\" autocomplete=\\\\\"off\\\\\" id=\\\\\"jsn[__GIP__1__]\\\\\" value=\\\\\"{&quot;groupindex&quot;:&quot;__GIP__1__&quot;,&quot;nodetype&quot;:&quot;model&quot;,&quot;tab&quot;:&quot;catalog&quot;,&quot;idepth&quot;:1,&quot;make&quot;:&quot;ACURA&quot;,&quot;year&quot;:&quot;2023&quot;,&quot;model&quot;:&quot;INTEGRA&quot;,&quot;jsdata&quot;:{&quot;markets&quot;:[{&quot;c&quot;:&quot;US&quot;},{&quot;c&quot;:&quot;CA&quot;},{&quot;c&quot;:&quot;MX&quot;}],&quot;mktlist&quot;:&quot;US,CA,MX&quot;,&quot;Show&quot;:1}}\\\\\" \\\\/><input type=\\\\\"hidden\\\\\" autocomplete=\\\\\"off\\\\\" name=\\\\\"navnodeunique[catalog-acura-2023-integra]\\\\\" id=\\\\\"navnodeunique[catalog-acura-2023-integra]\\\\\" value=\\\\\"__GIP__1__\\\\\" \\\\/><div id=\\\\\"nav_o[__GIP__1__]\\\\\" class=\\\\\"ranavouter\\\\\"><div class=\\\\\"inner\\\\\"><table class=\\\\\"tbl\\\\\"  cellpadding=\\\\\"0\\\\\" cellspacing=\\\\\"0\\\\\"><tr><td class=\\\\\"niconspace nvlineicon\\\\\"><\\\\/td><td class=\\\\\"niconspace ncollapsedicon\\\\\" id=\\\\\"navicon[__GIP__1__]\\\\\"><a href=\\\\\"\\\\/en\\\\/catalog\\\\/acura,2023,integra\\\\\" onclick=\\\\\"cataloglite.LinkIntercept_ToggleNavNode(&quot;__GIP__1__&quot;); return false;\\\\\" tabindex=\\\\\"-1\\\\\"><img src=\\\\\"\\\\/Images\\\\/1pxtransparent.png\\\\\" alt=\\\\\"Toggle\\\\\"><\\\\/a><\\\\/td><td class=\\\\\"nlabel\\\\\" ><a class=\\\\\"navlabellink nvoffset nnormal\\\\\" href=\\\\\"\\\\/en\\\\/catalog\\\\/acura,2023,integra\\\\\" onclick=\\\\\"cataloglite.LinkIntercept_ToggleNavNode(&quot;__GIP__1__&quot;); return false;\\\\\" id=\\\\\"navhref[__GIP__1__]\\\\\">INTEGRA<\\\\/a><\\\\/td><td class=\\\\\"rc nflags\\\\\"><a class=\\\\\"sprite desktopflags us\\\\\" style=\\\\\"margin-left: 3px;\\\\\" href=\\\\\"\\\\/help\\\\/?page=1#WHATDOTHE\\\\\" id=\\\\\"flags[__GIP__1__][US]\\\\\" onclick=\\\\\"RA.StopBubble(event); return FAQpopup(this)\\\\\" aria-label=\\\\\"the USA flag\\\\\"><\\\\/a><a class=\\\\\"sprite desktopflags ca\\\\\" style=\\\\\"margin-left: 3px;\\\\\" href=\\\\\"\\\\/help\\\\/?page=1#WHATDOTHE\\\\\" id=\\\\\"flags[__GIP__1__][CA]\\\\\" onclick=\\\\\"RA.StopBubble(event); return FAQpopup(this)\\\\\" aria-label=\\\\\"Canada flag\\\\\"><\\\\/a><a class=\\\\\"sprite desktopflags mx\\\\\" style=\\\\\"margin-left: 3px;\\\\\" href=\\\\\"\\\\/help\\\\/?page=1#WHATDOTHE\\\\\" id=\\\\\"flags[__GIP__1__][MX]\\\\\" onclick=\\\\\"RA.StopBubble(event); return FAQpopup(this)\\\\\" aria-label=\\\\\"Mexico flag\\\\\"><\\\\/a><\\\\/td><\\\\/tr><\\\\/table><\\\\/div><\\\\/div><div class=\\\\\"nchildren ra-hide\\\\\" id=\\\\\"navchildren[__GIP__1__]\\\\\" ><\\\\/div><\\\\/div><div class=\\\\\"ranavnode\\\\\" id=\\\\\"nav[__GIP__2__]\\\\\"><input type=\\\\\"hidden\\\\\" autocomplete=\\\\\"off\\\\\" id=\\\\\"jsn[__GIP__2__]\\\\\" value=\\\\\"{&quot;groupindex&quot;:&quot;__GIP__2__&quot;,&quot;nodetype&quot;:&quot;model&quot;,&quot;tab&quot;:&quot;catalog&quot;,&quot;idepth&quot;:1,&quot;make&quot;:&quot;ACURA&quot;,&quot;year&quot;:&quot;2023&quot;,&quot;model&quot;:&quot;MDX&quot;,&quot;jsdata&quot;:{&quot;markets&quot;:[{&quot;c&quot;:&quot;US&quot;},{&quot;c&quot;:&quot;CA&quot;},{&quot;c&quot;:&quot;MX&quot;}],&quot;mktlist&quot;:&quot;US,CA,MX&quot;,&quot;Show&quot;:1}}\\\\\" \\\\/><input type=\\\\\"hidden\\\\\" autocomplete=\\\\\"off\\\\\" name=\\\\\"navnodeunique[catalog-acura-2023-mdx]\\\\\" id=\\\\\"navnodeunique[catalog-acura-2023-mdx]\\\\\" value=\\\\\"__GIP__2__\\\\\" \\\\/><div id=\\\\\"nav_o[__GIP__2__]\\\\\" class=\\\\\"ranavouter\\\\\"><div class=\\\\\"inner\\\\\"><table class=\\\\\"tbl\\\\\"  cellpadding=\\\\\"0\\\\\" cellspacing=\\\\\"0\\\\\"><tr><td class=\\\\\"niconspace nvlineicon\\\\\"><\\\\/td><td class=\\\\\"niconspace ncollapsedicon\\\\\" id=\\\\\"navicon[__GIP__2__]\\\\\"><a href=\\\\\"\\\\/en\\\\/catalog\\\\/acura,2023,mdx\\\\\" onclick=\\\\\"cataloglite.LinkIntercept_ToggleNavNode(&quot;__GIP__2__&quot;); return false;\\\\\" tabindex=\\\\\"-1\\\\\"><img src=\\\\\"\\\\/Images\\\\/1pxtransparent.png\\\\\" alt=\\\\\"Toggle\\\\\"><\\\\/a><\\\\/td><td class=\\\\\"nlabel\\\\\" ><a class=\\\\\"navlabellink nvoffset nnormal\\\\\" href=\\\\\"\\\\/en\\\\/catalog\\\\/acura,2023,mdx\\\\\" onclick=\\\\\"cataloglite.LinkIntercept_ToggleNavNode(&quot;__GIP__2__&quot;); return false;\\\\\" id=\\\\\"navhref[__GIP__2__]\\\\\">MDX<\\\\/a><\\\\/td><td class=\\\\\"rc nflags\\\\\"><a class=\\\\\"sprite desktopflags us\\\\\" style=\\\\\"margin-left: 3px;\\\\\" href=\\\\\"\\\\/help\\\\/?page=1#WHATDOTHE\\\\\" id=\\\\\"flags[__GIP__2__][US]\\\\\" onclick=\\\\\"RA.StopBubble(event); return FAQpopup(this)\\\\\" aria-label=\\\\\"the USA flag\\\\\"><\\\\/a><a class=\\\\\"sprite desktopflags ca\\\\\" style=\\\\\"margin-left: 3px;\\\\\" href=\\\\\"\\\\/help\\\\/?page=1#WHATDOTHE\\\\\" id=\\\\\"flags[__GIP__2__][CA]\\\\\" onclick=\\\\\"RA.StopBubble(event); return FAQpopup(this)\\\\\" aria-label=\\\\\"Canada flag\\\\\"><\\\\/a><a class=\\\\\"sprite desktopflags mx\\\\\" style=\\\\\"margin-left: 3px;\\\\\" href=\\\\\"\\\\/help\\\\/?page=1#WHATDOTHE\\\\\" id=\\\\\"flags[__GIP__2__][MX]\\\\\" onclick=\\\\\"RA.StopBubble(event); return FAQpopup(this)\\\\\" aria-label=\\\\\"Mexico flag\\\\\"><\\\\/a><\\\\/td><\\\\/tr><\\\\/table><\\\\/div><\\\\/div><div class=\\\\\"nchildren ra-hide\\\\\" id=\\\\\"navchildren[__GIP__2__]\\\\\" ><\\\\/div><\\\\/div><div class=\\\\\"ranavnode\\\\\" id=\\\\\"nav[__GIP__3__]\\\\\"><input type=\\\\\"hidden\\\\\" autocomplete=\\\\\"off\\\\\" id=\\\\\"jsn[__GIP__3__]\\\\\" value=\\\\\"{&quot;groupindex&quot;:&quot;__GIP__3__&quot;,&quot;nodetype&quot;:&quot;model&quot;,&quot;tab&quot;:&quot;catalog&quot;,&quot;idepth&quot;:1,&quot;make&quot;:&quot;ACURA&quot;,&quot;year&quot;:&quot;2023&quot;,&quot;model&quot;:&quot;RDX&quot;,&quot;jsdata&quot;:{&quot;markets&quot;:[{&quot;c&quot;:&quot;US&quot;},{&quot;c&quot;:&quot;MX&quot;}],&quot;mktlist&quot;:&quot;US,MX&quot;,&quot;Show&quot;:1}}\\\\\" \\\\/><input type=\\\\\"hidden\\\\\" autocomplete=\\\\\"off\\\\\" name=\\\\\"navnodeunique[catalog-acura-2023-rdx]\\\\\" id=\\\\\"navnodeunique[catalog-acura-2023-rdx]\\\\\" value=\\\\\"__GIP__3__\\\\\" \\\\/><div id=\\\\\"nav_o[__GIP__3__]\\\\\" class=\\\\\"ranavouter\\\\\"><div class=\\\\\"inner\\\\\"><table class=\\\\\"tbl\\\\\"  cellpadding=\\\\\"0\\\\\" cellspacing=\\\\\"0\\\\\"><tr><td class=\\\\\"niconspace nvlineicon\\\\\"><\\\\/td><td class=\\\\\"niconspace ncollapsedicon\\\\\" id=\\\\\"navicon[__GIP__3__]\\\\\"><a href=\\\\\"\\\\/en\\\\/catalog\\\\/acura,2023,rdx\\\\\" onclick=\\\\\"cataloglite.LinkIntercept_ToggleNavNode(&quot;__GIP__3__&quot;); return false;\\\\\" tabindex=\\\\\"-1\\\\\"><img src=\\\\\"\\\\/Images\\\\/1pxtransparent.png\\\\\" alt=\\\\\"Toggle\\\\\"><\\\\/a><\\\\/td><td class=\\\\\"nlabel\\\\\" ><a class=\\\\\"navlabellink nvoffset nnormal\\\\\" href=\\\\\"\\\\/en\\\\/catalog\\\\/acura,2023,rdx\\\\\" onclick=\\\\\"cataloglite.LinkIntercept_ToggleNavNode(&quot;__GIP__3__&quot;); return false;\\\\\" id=\\\\\"navhref[__GIP__3__]\\\\\">RDX<\\\\/a><\\\\/td><td class=\\\\\"rc nflags\\\\\"><a class=\\\\\"sprite desktopflags us\\\\\" style=\\\\\"margin-left: 3px;\\\\\" href=\\\\\"\\\\/help\\\\/?page=1#WHATDOTHE\\\\\" id=\\\\\"flags[__GIP__3__][US]\\\\\" onclick=\\\\\"RA.StopBubble(event); return FAQpopup(this)\\\\\" aria-label=\\\\\"the USA flag\\\\\"><\\\\/a><a class=\\\\\"sprite desktopflags mx\\\\\" style=\\\\\"margin-left: 3px;\\\\\" href=\\\\\"\\\\/help\\\\/?page=1#WHATDOTHE\\\\\" id=\\\\\"flags[__GIP__3__][MX]\\\\\" onclick=\\\\\"RA.StopBubble(event); return FAQpopup(this)\\\\\" aria-label=\\\\\"Mexico flag\\\\\"><\\\\/a><\\\\/td><\\\\/tr><\\\\/table><\\\\/div><\\\\/div><div class=\\\\\"nchildren ra-hide\\\\\" id=\\\\\"navchildren[__GIP__3__]\\\\\" ><\\\\/div><\\\\/div><div class=\\\\\"ranavnode\\\\\" id=\\\\\"nav[__GIP__4__]\\\\\"><input type=\\\\\"hidden\\\\\" autocomplete=\\\\\"off\\\\\" id=\\\\\"jsn[__GIP__4__]\\\\\" value=\\\\\"{&quot;groupindex&quot;:&quot;__GIP__4__&quot;,&quot;nodetype&quot;:&quot;model&quot;,&quot;tab&quot;:&quot;catalog&quot;,&quot;idepth&quot;:1,&quot;make&quot;:&quot;ACURA&quot;,&quot;year&quot;:&quot;2023&quot;,&quot;model&quot;:&quot;TLX&quot;,&quot;jsdata&quot;:{&quot;markets&quot;:[{&quot;c&quot;:&quot;US&quot;},{&quot;c&quot;:&quot;CA&quot;},{&quot;c&quot;:&quot;MX&quot;}],&quot;mktlist&quot;:&quot;US,CA,MX&quot;,&quot;Show&quot;:1}}\\\\\" \\\\/><input type=\\\\\"hidden\\\\\" autocomplete=\\\\\"off\\\\\" name=\\\\\"navnodeunique[catalog-acura-2023-tlx]\\\\\" id=\\\\\"navnodeunique[catalog-acura-2023-tlx]\\\\\" value=\\\\\"__GIP__4__\\\\\" \\\\/><div id=\\\\\"nav_o[__GIP__4__]\\\\\" class=\\\\\"ranavouter\\\\\"><div class=\\\\\"inner\\\\\"><table class=\\\\\"tbl\\\\\"  cellpadding=\\\\\"0\\\\\" cellspacing=\\\\\"0\\\\\"><tr><td class=\\\\\"niconspace nvlineicon\\\\\"><\\\\/td><td class=\\\\\"niconspace ncollapsedicon\\\\\" id=\\\\\"navicon[__GIP__4__]\\\\\"><a href=\\\\\"\\\\/en\\\\/catalog\\\\/acura,2023,tlx\\\\\" onclick=\\\\\"cataloglite.LinkIntercept_ToggleNavNode(&quot;__GIP__4__&quot;); return false;\\\\\" tabindex=\\\\\"-1\\\\\"><img src=\\\\\"\\\\/Images\\\\/1pxtransparent.png\\\\\" alt=\\\\\"Toggle\\\\\"><\\\\/a><\\\\/td><td class=\\\\\"nlabel\\\\\" ><a class=\\\\\"navlabellink nvoffset nnormal\\\\\" href=\\\\\"\\\\/en\\\\/catalog\\\\/acura,2023,tlx\\\\\" onclick=\\\\\"cataloglite.LinkIntercept_ToggleNavNode(&quot;__GIP__4__&quot;); return false;\\\\\" id=\\\\\"navhref[__GIP__4__]\\\\\">TLX<\\\\/a><\\\\/td><td class=\\\\\"rc nflags\\\\\"><a class=\\\\\"sprite desktopflags us\\\\\" style=\\\\\"margin-left: 3px;\\\\\" href=\\\\\"\\\\/help\\\\/?page=1#WHATDOTHE\\\\\" id=\\\\\"flags[__GIP__4__][US]\\\\\" onclick=\\\\\"RA.StopBubble(event); return FAQpopup(this)\\\\\" aria-label=\\\\\"the USA flag\\\\\"><\\\\/a><a class=\\\\\"sprite desktopflags ca\\\\\" style=\\\\\"margin-left: 3px;\\\\\" href=\\\\\"\\\\/help\\\\/?page=1#WHATDOTHE\\\\\" id=\\\\\"flags[__GIP__4__][CA]\\\\\" onclick=\\\\\"RA.StopBubble(event); return FAQpopup(this)\\\\\" aria-label=\\\\\"Canada flag\\\\\"><\\\\/a><a class=\\\\\"sprite desktopflags mx\\\\\" style=\\\\\"margin-left: 3px;\\\\\" href=\\\\\"\\\\/help\\\\/?page=1#WHATDOTHE\\\\\" id=\\\\\"flags[__GIP__4__][MX]\\\\\" onclick=\\\\\"RA.StopBubble(event); return FAQpopup(this)\\\\\" aria-label=\\\\\"Mexico flag\\\\\"><\\\\/a><\\\\/td><\\\\/tr><\\\\/table><\\\\/div><\\\\/div><div class=\\\\\"nchildren ra-hide\\\\\" id=\\\\\"navchildren[__GIP__4__]\\\\\" ><\\\\/div><\\\\/div>\"},\"jsn\":{\"tab\":\"catalog\",\"make\":\"ACURA\",\"year\":\"2023\"},\"collected_javascript\":\"\\\\/**UQ:B6FBFFEF**\\\\/\\\\nwindow.top.parent.window[\\\\\"_nck\\\\\"] = \\\\\"8LVLUxTaILBT+tLxkg8+3Ag7\\\\\\\\\\\\/0bbOhvn7P3rkFbL80\\\\\\\\\\\\/ismhHyfCiO07pwNUCaIW3afbJMKR0uqi1pNnUlRgBN5CwkZnWFYwm7DtiVw8cl6t1DDIlw0OPK8L1xqUF2GhW0CK6SI58cuLINMt+JM0CxsjhclA2+gMTKt9zSLNDoic=\\\\\";\\\\n\"}'"
      ]
     },
     "execution_count": 22,
     "metadata": {},
     "output_type": "execute_result"
    }
   ],
   "source": [
    "resp = requests.post('https://www.rockauto.com/catalog/catalogapi.php', headers=headers, data=data).text\n",
    "\n",
    "resp"
   ]
  },
  {
   "cell_type": "code",
   "execution_count": 24,
   "id": "00856a1b",
   "metadata": {},
   "outputs": [],
   "source": [
    "import json"
   ]
  },
  {
   "cell_type": "code",
   "execution_count": 25,
   "id": "d908d8fa",
   "metadata": {
    "scrolled": true
   },
   "outputs": [
    {
     "data": {
      "text/plain": [
       "'<div class=\"ranavnode\" id=\"nav[__GIP__1__]\"><input type=\"hidden\" autocomplete=\"off\" id=\"jsn[__GIP__1__]\" value=\"{&quot;groupindex&quot;:&quot;__GIP__1__&quot;,&quot;nodetype&quot;:&quot;model&quot;,&quot;tab&quot;:&quot;catalog&quot;,&quot;idepth&quot;:1,&quot;make&quot;:&quot;ACURA&quot;,&quot;year&quot;:&quot;2023&quot;,&quot;model&quot;:&quot;INTEGRA&quot;,&quot;jsdata&quot;:{&quot;markets&quot;:[{&quot;c&quot;:&quot;US&quot;},{&quot;c&quot;:&quot;CA&quot;},{&quot;c&quot;:&quot;MX&quot;}],&quot;mktlist&quot;:&quot;US,CA,MX&quot;,&quot;Show&quot;:1}}\" /><input type=\"hidden\" autocomplete=\"off\" name=\"navnodeunique[catalog-acura-2023-integra]\" id=\"navnodeunique[catalog-acura-2023-integra]\" value=\"__GIP__1__\" /><div id=\"nav_o[__GIP__1__]\" class=\"ranavouter\"><div class=\"inner\"><table class=\"tbl\"  cellpadding=\"0\" cellspacing=\"0\"><tr><td class=\"niconspace nvlineicon\"></td><td class=\"niconspace ncollapsedicon\" id=\"navicon[__GIP__1__]\"><a href=\"/en/catalog/acura,2023,integra\" onclick=\"cataloglite.LinkIntercept_ToggleNavNode(&quot;__GIP__1__&quot;); return false;\" tabindex=\"-1\"><img src=\"/Images/1pxtransparent.png\" alt=\"Toggle\"></a></td><td class=\"nlabel\" ><a class=\"navlabellink nvoffset nnormal\" href=\"/en/catalog/acura,2023,integra\" onclick=\"cataloglite.LinkIntercept_ToggleNavNode(&quot;__GIP__1__&quot;); return false;\" id=\"navhref[__GIP__1__]\">INTEGRA</a></td><td class=\"rc nflags\"><a class=\"sprite desktopflags us\" style=\"margin-left: 3px;\" href=\"/help/?page=1#WHATDOTHE\" id=\"flags[__GIP__1__][US]\" onclick=\"RA.StopBubble(event); return FAQpopup(this)\" aria-label=\"the USA flag\"></a><a class=\"sprite desktopflags ca\" style=\"margin-left: 3px;\" href=\"/help/?page=1#WHATDOTHE\" id=\"flags[__GIP__1__][CA]\" onclick=\"RA.StopBubble(event); return FAQpopup(this)\" aria-label=\"Canada flag\"></a><a class=\"sprite desktopflags mx\" style=\"margin-left: 3px;\" href=\"/help/?page=1#WHATDOTHE\" id=\"flags[__GIP__1__][MX]\" onclick=\"RA.StopBubble(event); return FAQpopup(this)\" aria-label=\"Mexico flag\"></a></td></tr></table></div></div><div class=\"nchildren ra-hide\" id=\"navchildren[__GIP__1__]\" ></div></div><div class=\"ranavnode\" id=\"nav[__GIP__2__]\"><input type=\"hidden\" autocomplete=\"off\" id=\"jsn[__GIP__2__]\" value=\"{&quot;groupindex&quot;:&quot;__GIP__2__&quot;,&quot;nodetype&quot;:&quot;model&quot;,&quot;tab&quot;:&quot;catalog&quot;,&quot;idepth&quot;:1,&quot;make&quot;:&quot;ACURA&quot;,&quot;year&quot;:&quot;2023&quot;,&quot;model&quot;:&quot;MDX&quot;,&quot;jsdata&quot;:{&quot;markets&quot;:[{&quot;c&quot;:&quot;US&quot;},{&quot;c&quot;:&quot;CA&quot;},{&quot;c&quot;:&quot;MX&quot;}],&quot;mktlist&quot;:&quot;US,CA,MX&quot;,&quot;Show&quot;:1}}\" /><input type=\"hidden\" autocomplete=\"off\" name=\"navnodeunique[catalog-acura-2023-mdx]\" id=\"navnodeunique[catalog-acura-2023-mdx]\" value=\"__GIP__2__\" /><div id=\"nav_o[__GIP__2__]\" class=\"ranavouter\"><div class=\"inner\"><table class=\"tbl\"  cellpadding=\"0\" cellspacing=\"0\"><tr><td class=\"niconspace nvlineicon\"></td><td class=\"niconspace ncollapsedicon\" id=\"navicon[__GIP__2__]\"><a href=\"/en/catalog/acura,2023,mdx\" onclick=\"cataloglite.LinkIntercept_ToggleNavNode(&quot;__GIP__2__&quot;); return false;\" tabindex=\"-1\"><img src=\"/Images/1pxtransparent.png\" alt=\"Toggle\"></a></td><td class=\"nlabel\" ><a class=\"navlabellink nvoffset nnormal\" href=\"/en/catalog/acura,2023,mdx\" onclick=\"cataloglite.LinkIntercept_ToggleNavNode(&quot;__GIP__2__&quot;); return false;\" id=\"navhref[__GIP__2__]\">MDX</a></td><td class=\"rc nflags\"><a class=\"sprite desktopflags us\" style=\"margin-left: 3px;\" href=\"/help/?page=1#WHATDOTHE\" id=\"flags[__GIP__2__][US]\" onclick=\"RA.StopBubble(event); return FAQpopup(this)\" aria-label=\"the USA flag\"></a><a class=\"sprite desktopflags ca\" style=\"margin-left: 3px;\" href=\"/help/?page=1#WHATDOTHE\" id=\"flags[__GIP__2__][CA]\" onclick=\"RA.StopBubble(event); return FAQpopup(this)\" aria-label=\"Canada flag\"></a><a class=\"sprite desktopflags mx\" style=\"margin-left: 3px;\" href=\"/help/?page=1#WHATDOTHE\" id=\"flags[__GIP__2__][MX]\" onclick=\"RA.StopBubble(event); return FAQpopup(this)\" aria-label=\"Mexico flag\"></a></td></tr></table></div></div><div class=\"nchildren ra-hide\" id=\"navchildren[__GIP__2__]\" ></div></div><div class=\"ranavnode\" id=\"nav[__GIP__3__]\"><input type=\"hidden\" autocomplete=\"off\" id=\"jsn[__GIP__3__]\" value=\"{&quot;groupindex&quot;:&quot;__GIP__3__&quot;,&quot;nodetype&quot;:&quot;model&quot;,&quot;tab&quot;:&quot;catalog&quot;,&quot;idepth&quot;:1,&quot;make&quot;:&quot;ACURA&quot;,&quot;year&quot;:&quot;2023&quot;,&quot;model&quot;:&quot;RDX&quot;,&quot;jsdata&quot;:{&quot;markets&quot;:[{&quot;c&quot;:&quot;US&quot;},{&quot;c&quot;:&quot;MX&quot;}],&quot;mktlist&quot;:&quot;US,MX&quot;,&quot;Show&quot;:1}}\" /><input type=\"hidden\" autocomplete=\"off\" name=\"navnodeunique[catalog-acura-2023-rdx]\" id=\"navnodeunique[catalog-acura-2023-rdx]\" value=\"__GIP__3__\" /><div id=\"nav_o[__GIP__3__]\" class=\"ranavouter\"><div class=\"inner\"><table class=\"tbl\"  cellpadding=\"0\" cellspacing=\"0\"><tr><td class=\"niconspace nvlineicon\"></td><td class=\"niconspace ncollapsedicon\" id=\"navicon[__GIP__3__]\"><a href=\"/en/catalog/acura,2023,rdx\" onclick=\"cataloglite.LinkIntercept_ToggleNavNode(&quot;__GIP__3__&quot;); return false;\" tabindex=\"-1\"><img src=\"/Images/1pxtransparent.png\" alt=\"Toggle\"></a></td><td class=\"nlabel\" ><a class=\"navlabellink nvoffset nnormal\" href=\"/en/catalog/acura,2023,rdx\" onclick=\"cataloglite.LinkIntercept_ToggleNavNode(&quot;__GIP__3__&quot;); return false;\" id=\"navhref[__GIP__3__]\">RDX</a></td><td class=\"rc nflags\"><a class=\"sprite desktopflags us\" style=\"margin-left: 3px;\" href=\"/help/?page=1#WHATDOTHE\" id=\"flags[__GIP__3__][US]\" onclick=\"RA.StopBubble(event); return FAQpopup(this)\" aria-label=\"the USA flag\"></a><a class=\"sprite desktopflags mx\" style=\"margin-left: 3px;\" href=\"/help/?page=1#WHATDOTHE\" id=\"flags[__GIP__3__][MX]\" onclick=\"RA.StopBubble(event); return FAQpopup(this)\" aria-label=\"Mexico flag\"></a></td></tr></table></div></div><div class=\"nchildren ra-hide\" id=\"navchildren[__GIP__3__]\" ></div></div><div class=\"ranavnode\" id=\"nav[__GIP__4__]\"><input type=\"hidden\" autocomplete=\"off\" id=\"jsn[__GIP__4__]\" value=\"{&quot;groupindex&quot;:&quot;__GIP__4__&quot;,&quot;nodetype&quot;:&quot;model&quot;,&quot;tab&quot;:&quot;catalog&quot;,&quot;idepth&quot;:1,&quot;make&quot;:&quot;ACURA&quot;,&quot;year&quot;:&quot;2023&quot;,&quot;model&quot;:&quot;TLX&quot;,&quot;jsdata&quot;:{&quot;markets&quot;:[{&quot;c&quot;:&quot;US&quot;},{&quot;c&quot;:&quot;CA&quot;},{&quot;c&quot;:&quot;MX&quot;}],&quot;mktlist&quot;:&quot;US,CA,MX&quot;,&quot;Show&quot;:1}}\" /><input type=\"hidden\" autocomplete=\"off\" name=\"navnodeunique[catalog-acura-2023-tlx]\" id=\"navnodeunique[catalog-acura-2023-tlx]\" value=\"__GIP__4__\" /><div id=\"nav_o[__GIP__4__]\" class=\"ranavouter\"><div class=\"inner\"><table class=\"tbl\"  cellpadding=\"0\" cellspacing=\"0\"><tr><td class=\"niconspace nvlineicon\"></td><td class=\"niconspace ncollapsedicon\" id=\"navicon[__GIP__4__]\"><a href=\"/en/catalog/acura,2023,tlx\" onclick=\"cataloglite.LinkIntercept_ToggleNavNode(&quot;__GIP__4__&quot;); return false;\" tabindex=\"-1\"><img src=\"/Images/1pxtransparent.png\" alt=\"Toggle\"></a></td><td class=\"nlabel\" ><a class=\"navlabellink nvoffset nnormal\" href=\"/en/catalog/acura,2023,tlx\" onclick=\"cataloglite.LinkIntercept_ToggleNavNode(&quot;__GIP__4__&quot;); return false;\" id=\"navhref[__GIP__4__]\">TLX</a></td><td class=\"rc nflags\"><a class=\"sprite desktopflags us\" style=\"margin-left: 3px;\" href=\"/help/?page=1#WHATDOTHE\" id=\"flags[__GIP__4__][US]\" onclick=\"RA.StopBubble(event); return FAQpopup(this)\" aria-label=\"the USA flag\"></a><a class=\"sprite desktopflags ca\" style=\"margin-left: 3px;\" href=\"/help/?page=1#WHATDOTHE\" id=\"flags[__GIP__4__][CA]\" onclick=\"RA.StopBubble(event); return FAQpopup(this)\" aria-label=\"Canada flag\"></a><a class=\"sprite desktopflags mx\" style=\"margin-left: 3px;\" href=\"/help/?page=1#WHATDOTHE\" id=\"flags[__GIP__4__][MX]\" onclick=\"RA.StopBubble(event); return FAQpopup(this)\" aria-label=\"Mexico flag\"></a></td></tr></table></div></div><div class=\"nchildren ra-hide\" id=\"navchildren[__GIP__4__]\" ></div></div>'"
      ]
     },
     "execution_count": 25,
     "metadata": {},
     "output_type": "execute_result"
    }
   ],
   "source": [
    "html = json.loads(resp)['html_fill_sections']['navchildren[]']\n",
    "\n",
    "html"
   ]
  },
  {
   "cell_type": "code",
   "execution_count": 26,
   "id": "8d084b12",
   "metadata": {},
   "outputs": [],
   "source": [
    "from bs4 import BeautifulSoup"
   ]
  },
  {
   "cell_type": "code",
   "execution_count": 27,
   "id": "cc295fe8",
   "metadata": {},
   "outputs": [
    {
     "name": "stdout",
     "output_type": "stream",
     "text": [
      "<html>\n",
      " <body>\n",
      "  <div class=\"ranavnode\" id=\"nav[__GIP__1__]\">\n",
      "   <input autocomplete=\"off\" id=\"jsn[__GIP__1__]\" type=\"hidden\" value='{\"groupindex\":\"__GIP__1__\",\"nodetype\":\"model\",\"tab\":\"catalog\",\"idepth\":1,\"make\":\"ACURA\",\"year\":\"2023\",\"model\":\"INTEGRA\",\"jsdata\":{\"markets\":[{\"c\":\"US\"},{\"c\":\"CA\"},{\"c\":\"MX\"}],\"mktlist\":\"US,CA,MX\",\"Show\":1}}'/>\n",
      "   <input autocomplete=\"off\" id=\"navnodeunique[catalog-acura-2023-integra]\" name=\"navnodeunique[catalog-acura-2023-integra]\" type=\"hidden\" value=\"__GIP__1__\"/>\n",
      "   <div class=\"ranavouter\" id=\"nav_o[__GIP__1__]\">\n",
      "    <div class=\"inner\">\n",
      "     <table cellpadding=\"0\" cellspacing=\"0\" class=\"tbl\">\n",
      "      <tr>\n",
      "       <td class=\"niconspace nvlineicon\">\n",
      "       </td>\n",
      "       <td class=\"niconspace ncollapsedicon\" id=\"navicon[__GIP__1__]\">\n",
      "        <a href=\"/en/catalog/acura,2023,integra\" onclick='cataloglite.LinkIntercept_ToggleNavNode(\"__GIP__1__\"); return false;' tabindex=\"-1\">\n",
      "         <img alt=\"Toggle\" src=\"/Images/1pxtransparent.png\"/>\n",
      "        </a>\n",
      "       </td>\n",
      "       <td class=\"nlabel\">\n",
      "        <a class=\"navlabellink nvoffset nnormal\" href=\"/en/catalog/acura,2023,integra\" id=\"navhref[__GIP__1__]\" onclick='cataloglite.LinkIntercept_ToggleNavNode(\"__GIP__1__\"); return false;'>\n",
      "         INTEGRA\n",
      "        </a>\n",
      "       </td>\n",
      "       <td class=\"rc nflags\">\n",
      "        <a aria-label=\"the USA flag\" class=\"sprite desktopflags us\" href=\"/help/?page=1#WHATDOTHE\" id=\"flags[__GIP__1__][US]\" onclick=\"RA.StopBubble(event); return FAQpopup(this)\" style=\"margin-left: 3px;\">\n",
      "        </a>\n",
      "        <a aria-label=\"Canada flag\" class=\"sprite desktopflags ca\" href=\"/help/?page=1#WHATDOTHE\" id=\"flags[__GIP__1__][CA]\" onclick=\"RA.StopBubble(event); return FAQpopup(this)\" style=\"margin-left: 3px;\">\n",
      "        </a>\n",
      "        <a aria-label=\"Mexico flag\" class=\"sprite desktopflags mx\" href=\"/help/?page=1#WHATDOTHE\" id=\"flags[__GIP__1__][MX]\" onclick=\"RA.StopBubble(event); return FAQpopup(this)\" style=\"margin-left: 3px;\">\n",
      "        </a>\n",
      "       </td>\n",
      "      </tr>\n",
      "     </table>\n",
      "    </div>\n",
      "   </div>\n",
      "   <div class=\"nchildren ra-hide\" id=\"navchildren[__GIP__1__]\">\n",
      "   </div>\n",
      "  </div>\n",
      "  <div class=\"ranavnode\" id=\"nav[__GIP__2__]\">\n",
      "   <input autocomplete=\"off\" id=\"jsn[__GIP__2__]\" type=\"hidden\" value='{\"groupindex\":\"__GIP__2__\",\"nodetype\":\"model\",\"tab\":\"catalog\",\"idepth\":1,\"make\":\"ACURA\",\"year\":\"2023\",\"model\":\"MDX\",\"jsdata\":{\"markets\":[{\"c\":\"US\"},{\"c\":\"CA\"},{\"c\":\"MX\"}],\"mktlist\":\"US,CA,MX\",\"Show\":1}}'/>\n",
      "   <input autocomplete=\"off\" id=\"navnodeunique[catalog-acura-2023-mdx]\" name=\"navnodeunique[catalog-acura-2023-mdx]\" type=\"hidden\" value=\"__GIP__2__\"/>\n",
      "   <div class=\"ranavouter\" id=\"nav_o[__GIP__2__]\">\n",
      "    <div class=\"inner\">\n",
      "     <table cellpadding=\"0\" cellspacing=\"0\" class=\"tbl\">\n",
      "      <tr>\n",
      "       <td class=\"niconspace nvlineicon\">\n",
      "       </td>\n",
      "       <td class=\"niconspace ncollapsedicon\" id=\"navicon[__GIP__2__]\">\n",
      "        <a href=\"/en/catalog/acura,2023,mdx\" onclick='cataloglite.LinkIntercept_ToggleNavNode(\"__GIP__2__\"); return false;' tabindex=\"-1\">\n",
      "         <img alt=\"Toggle\" src=\"/Images/1pxtransparent.png\"/>\n",
      "        </a>\n",
      "       </td>\n",
      "       <td class=\"nlabel\">\n",
      "        <a class=\"navlabellink nvoffset nnormal\" href=\"/en/catalog/acura,2023,mdx\" id=\"navhref[__GIP__2__]\" onclick='cataloglite.LinkIntercept_ToggleNavNode(\"__GIP__2__\"); return false;'>\n",
      "         MDX\n",
      "        </a>\n",
      "       </td>\n",
      "       <td class=\"rc nflags\">\n",
      "        <a aria-label=\"the USA flag\" class=\"sprite desktopflags us\" href=\"/help/?page=1#WHATDOTHE\" id=\"flags[__GIP__2__][US]\" onclick=\"RA.StopBubble(event); return FAQpopup(this)\" style=\"margin-left: 3px;\">\n",
      "        </a>\n",
      "        <a aria-label=\"Canada flag\" class=\"sprite desktopflags ca\" href=\"/help/?page=1#WHATDOTHE\" id=\"flags[__GIP__2__][CA]\" onclick=\"RA.StopBubble(event); return FAQpopup(this)\" style=\"margin-left: 3px;\">\n",
      "        </a>\n",
      "        <a aria-label=\"Mexico flag\" class=\"sprite desktopflags mx\" href=\"/help/?page=1#WHATDOTHE\" id=\"flags[__GIP__2__][MX]\" onclick=\"RA.StopBubble(event); return FAQpopup(this)\" style=\"margin-left: 3px;\">\n",
      "        </a>\n",
      "       </td>\n",
      "      </tr>\n",
      "     </table>\n",
      "    </div>\n",
      "   </div>\n",
      "   <div class=\"nchildren ra-hide\" id=\"navchildren[__GIP__2__]\">\n",
      "   </div>\n",
      "  </div>\n",
      "  <div class=\"ranavnode\" id=\"nav[__GIP__3__]\">\n",
      "   <input autocomplete=\"off\" id=\"jsn[__GIP__3__]\" type=\"hidden\" value='{\"groupindex\":\"__GIP__3__\",\"nodetype\":\"model\",\"tab\":\"catalog\",\"idepth\":1,\"make\":\"ACURA\",\"year\":\"2023\",\"model\":\"RDX\",\"jsdata\":{\"markets\":[{\"c\":\"US\"},{\"c\":\"MX\"}],\"mktlist\":\"US,MX\",\"Show\":1}}'/>\n",
      "   <input autocomplete=\"off\" id=\"navnodeunique[catalog-acura-2023-rdx]\" name=\"navnodeunique[catalog-acura-2023-rdx]\" type=\"hidden\" value=\"__GIP__3__\"/>\n",
      "   <div class=\"ranavouter\" id=\"nav_o[__GIP__3__]\">\n",
      "    <div class=\"inner\">\n",
      "     <table cellpadding=\"0\" cellspacing=\"0\" class=\"tbl\">\n",
      "      <tr>\n",
      "       <td class=\"niconspace nvlineicon\">\n",
      "       </td>\n",
      "       <td class=\"niconspace ncollapsedicon\" id=\"navicon[__GIP__3__]\">\n",
      "        <a href=\"/en/catalog/acura,2023,rdx\" onclick='cataloglite.LinkIntercept_ToggleNavNode(\"__GIP__3__\"); return false;' tabindex=\"-1\">\n",
      "         <img alt=\"Toggle\" src=\"/Images/1pxtransparent.png\"/>\n",
      "        </a>\n",
      "       </td>\n",
      "       <td class=\"nlabel\">\n",
      "        <a class=\"navlabellink nvoffset nnormal\" href=\"/en/catalog/acura,2023,rdx\" id=\"navhref[__GIP__3__]\" onclick='cataloglite.LinkIntercept_ToggleNavNode(\"__GIP__3__\"); return false;'>\n",
      "         RDX\n",
      "        </a>\n",
      "       </td>\n",
      "       <td class=\"rc nflags\">\n",
      "        <a aria-label=\"the USA flag\" class=\"sprite desktopflags us\" href=\"/help/?page=1#WHATDOTHE\" id=\"flags[__GIP__3__][US]\" onclick=\"RA.StopBubble(event); return FAQpopup(this)\" style=\"margin-left: 3px;\">\n",
      "        </a>\n",
      "        <a aria-label=\"Mexico flag\" class=\"sprite desktopflags mx\" href=\"/help/?page=1#WHATDOTHE\" id=\"flags[__GIP__3__][MX]\" onclick=\"RA.StopBubble(event); return FAQpopup(this)\" style=\"margin-left: 3px;\">\n",
      "        </a>\n",
      "       </td>\n",
      "      </tr>\n",
      "     </table>\n",
      "    </div>\n",
      "   </div>\n",
      "   <div class=\"nchildren ra-hide\" id=\"navchildren[__GIP__3__]\">\n",
      "   </div>\n",
      "  </div>\n",
      "  <div class=\"ranavnode\" id=\"nav[__GIP__4__]\">\n",
      "   <input autocomplete=\"off\" id=\"jsn[__GIP__4__]\" type=\"hidden\" value='{\"groupindex\":\"__GIP__4__\",\"nodetype\":\"model\",\"tab\":\"catalog\",\"idepth\":1,\"make\":\"ACURA\",\"year\":\"2023\",\"model\":\"TLX\",\"jsdata\":{\"markets\":[{\"c\":\"US\"},{\"c\":\"CA\"},{\"c\":\"MX\"}],\"mktlist\":\"US,CA,MX\",\"Show\":1}}'/>\n",
      "   <input autocomplete=\"off\" id=\"navnodeunique[catalog-acura-2023-tlx]\" name=\"navnodeunique[catalog-acura-2023-tlx]\" type=\"hidden\" value=\"__GIP__4__\"/>\n",
      "   <div class=\"ranavouter\" id=\"nav_o[__GIP__4__]\">\n",
      "    <div class=\"inner\">\n",
      "     <table cellpadding=\"0\" cellspacing=\"0\" class=\"tbl\">\n",
      "      <tr>\n",
      "       <td class=\"niconspace nvlineicon\">\n",
      "       </td>\n",
      "       <td class=\"niconspace ncollapsedicon\" id=\"navicon[__GIP__4__]\">\n",
      "        <a href=\"/en/catalog/acura,2023,tlx\" onclick='cataloglite.LinkIntercept_ToggleNavNode(\"__GIP__4__\"); return false;' tabindex=\"-1\">\n",
      "         <img alt=\"Toggle\" src=\"/Images/1pxtransparent.png\"/>\n",
      "        </a>\n",
      "       </td>\n",
      "       <td class=\"nlabel\">\n",
      "        <a class=\"navlabellink nvoffset nnormal\" href=\"/en/catalog/acura,2023,tlx\" id=\"navhref[__GIP__4__]\" onclick='cataloglite.LinkIntercept_ToggleNavNode(\"__GIP__4__\"); return false;'>\n",
      "         TLX\n",
      "        </a>\n",
      "       </td>\n",
      "       <td class=\"rc nflags\">\n",
      "        <a aria-label=\"the USA flag\" class=\"sprite desktopflags us\" href=\"/help/?page=1#WHATDOTHE\" id=\"flags[__GIP__4__][US]\" onclick=\"RA.StopBubble(event); return FAQpopup(this)\" style=\"margin-left: 3px;\">\n",
      "        </a>\n",
      "        <a aria-label=\"Canada flag\" class=\"sprite desktopflags ca\" href=\"/help/?page=1#WHATDOTHE\" id=\"flags[__GIP__4__][CA]\" onclick=\"RA.StopBubble(event); return FAQpopup(this)\" style=\"margin-left: 3px;\">\n",
      "        </a>\n",
      "        <a aria-label=\"Mexico flag\" class=\"sprite desktopflags mx\" href=\"/help/?page=1#WHATDOTHE\" id=\"flags[__GIP__4__][MX]\" onclick=\"RA.StopBubble(event); return FAQpopup(this)\" style=\"margin-left: 3px;\">\n",
      "        </a>\n",
      "       </td>\n",
      "      </tr>\n",
      "     </table>\n",
      "    </div>\n",
      "   </div>\n",
      "   <div class=\"nchildren ra-hide\" id=\"navchildren[__GIP__4__]\">\n",
      "   </div>\n",
      "  </div>\n",
      " </body>\n",
      "</html>\n",
      "\n"
     ]
    }
   ],
   "source": [
    "soup = BeautifulSoup(html, 'lxml')\n",
    "\n",
    "print(soup.prettify())"
   ]
  },
  {
   "cell_type": "code",
   "execution_count": 28,
   "id": "45bb3bc6",
   "metadata": {},
   "outputs": [],
   "source": [
    "with open('./model.html', 'w', encoding='utf-8') as file:\n",
    "    file.write(str(soup))"
   ]
  },
  {
   "cell_type": "code",
   "execution_count": 29,
   "id": "ce60db64",
   "metadata": {},
   "outputs": [],
   "source": [
    "from lxml import etree"
   ]
  },
  {
   "cell_type": "code",
   "execution_count": 30,
   "id": "46b5906c",
   "metadata": {
    "scrolled": true
   },
   "outputs": [
    {
     "data": {
      "text/plain": [
       "['INTEGRA', 'MDX', 'RDX', 'TLX']"
      ]
     },
     "execution_count": 30,
     "metadata": {},
     "output_type": "execute_result"
    }
   ],
   "source": [
    "html = etree.HTML(str(soup))\n",
    "\n",
    "list_model = html.xpath('//td[@class=\"nlabel\"]/a/text()')\n",
    "\n",
    "list_model"
   ]
  },
  {
   "cell_type": "code",
   "execution_count": 31,
   "id": "69201345",
   "metadata": {
    "scrolled": true
   },
   "outputs": [
    {
     "data": {
      "text/plain": [
       "['https://www.rockauto.com/en/catalog/acura,2023,integra',\n",
       " 'https://www.rockauto.com/en/catalog/acura,2023,mdx',\n",
       " 'https://www.rockauto.com/en/catalog/acura,2023,rdx',\n",
       " 'https://www.rockauto.com/en/catalog/acura,2023,tlx']"
      ]
     },
     "execution_count": 31,
     "metadata": {},
     "output_type": "execute_result"
    }
   ],
   "source": [
    "list_url = ['https://www.rockauto.com' + i for i in html.xpath('//td[@class=\"niconspace ncollapsedicon\"]/a/@href')]\n",
    "\n",
    "list_url"
   ]
  },
  {
   "cell_type": "code",
   "execution_count": 33,
   "id": "5291e605",
   "metadata": {},
   "outputs": [
    {
     "data": {
      "text/html": [
       "<div>\n",
       "<style scoped>\n",
       "    .dataframe tbody tr th:only-of-type {\n",
       "        vertical-align: middle;\n",
       "    }\n",
       "\n",
       "    .dataframe tbody tr th {\n",
       "        vertical-align: top;\n",
       "    }\n",
       "\n",
       "    .dataframe thead th {\n",
       "        text-align: right;\n",
       "    }\n",
       "</style>\n",
       "<table border=\"1\" class=\"dataframe\">\n",
       "  <thead>\n",
       "    <tr style=\"text-align: right;\">\n",
       "      <th></th>\n",
       "      <th>make</th>\n",
       "      <th>year</th>\n",
       "      <th>model</th>\n",
       "      <th>url</th>\n",
       "      <th>status</th>\n",
       "    </tr>\n",
       "  </thead>\n",
       "  <tbody>\n",
       "    <tr>\n",
       "      <th>0</th>\n",
       "      <td>ACURA</td>\n",
       "      <td>2023</td>\n",
       "      <td>INTEGRA</td>\n",
       "      <td>https://www.rockauto.com/en/catalog/acura,2023...</td>\n",
       "      <td>ok</td>\n",
       "    </tr>\n",
       "    <tr>\n",
       "      <th>1</th>\n",
       "      <td>ACURA</td>\n",
       "      <td>2023</td>\n",
       "      <td>MDX</td>\n",
       "      <td>https://www.rockauto.com/en/catalog/acura,2023...</td>\n",
       "      <td>ok</td>\n",
       "    </tr>\n",
       "    <tr>\n",
       "      <th>2</th>\n",
       "      <td>ACURA</td>\n",
       "      <td>2023</td>\n",
       "      <td>RDX</td>\n",
       "      <td>https://www.rockauto.com/en/catalog/acura,2023...</td>\n",
       "      <td>ok</td>\n",
       "    </tr>\n",
       "    <tr>\n",
       "      <th>3</th>\n",
       "      <td>ACURA</td>\n",
       "      <td>2023</td>\n",
       "      <td>TLX</td>\n",
       "      <td>https://www.rockauto.com/en/catalog/acura,2023...</td>\n",
       "      <td>ok</td>\n",
       "    </tr>\n",
       "  </tbody>\n",
       "</table>\n",
       "</div>"
      ],
      "text/plain": [
       "    make  year    model                                                url   \n",
       "0  ACURA  2023  INTEGRA  https://www.rockauto.com/en/catalog/acura,2023...  \\\n",
       "1  ACURA  2023      MDX  https://www.rockauto.com/en/catalog/acura,2023...   \n",
       "2  ACURA  2023      RDX  https://www.rockauto.com/en/catalog/acura,2023...   \n",
       "3  ACURA  2023      TLX  https://www.rockauto.com/en/catalog/acura,2023...   \n",
       "\n",
       "  status  \n",
       "0     ok  \n",
       "1     ok  \n",
       "2     ok  \n",
       "3     ok  "
      ]
     },
     "execution_count": 33,
     "metadata": {},
     "output_type": "execute_result"
    }
   ],
   "source": [
    "df_temp = pd.DataFrame({'Make': list_make[i],\n",
    "                        'Year': int(list_year[i]),\n",
    "                        'Model': list_model,\n",
    "                        'Url': list_url,\n",
    "                        'status': 'ok'})\n",
    "\n",
    "df = pd.concat([df, df_temp], ignore_index=True).fillna('')\n",
    "\n",
    "df"
   ]
  },
  {
   "cell_type": "code",
   "execution_count": null,
   "id": "0de90f54",
   "metadata": {},
   "outputs": [],
   "source": []
  }
 ],
 "metadata": {
  "kernelspec": {
   "display_name": "Python 3 (ipykernel)",
   "language": "python",
   "name": "python3"
  },
  "language_info": {
   "codemirror_mode": {
    "name": "ipython",
    "version": 3
   },
   "file_extension": ".py",
   "mimetype": "text/x-python",
   "name": "python",
   "nbconvert_exporter": "python",
   "pygments_lexer": "ipython3",
   "version": "3.11.3"
  }
 },
 "nbformat": 4,
 "nbformat_minor": 5
}
