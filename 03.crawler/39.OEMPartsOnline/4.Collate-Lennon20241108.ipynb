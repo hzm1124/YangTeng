{
 "cells": [
  {
   "cell_type": "code",
   "execution_count": 1,
   "id": "5a52743a-d139-4667-b3b4-363cb166476b",
   "metadata": {},
   "outputs": [],
   "source": [
    "import os\n",
    "import shutil\n",
    "\n",
    "directory_out = './file/4.collate'\n",
    "\n",
    "if os.path.exists(directory_out):\n",
    "    shutil.rmtree(directory_out)\n",
    "os.makedirs(directory_out)\n",
    "\n",
    "# = = = = = = = = = = = = = = =\n",
    "\n",
    "import pandas as pd\n",
    "\n",
    "from tqdm import tqdm\n",
    "import json"
   ]
  },
  {
   "cell_type": "markdown",
   "id": "2e688525-cdaa-470c-a533-fb612881a181",
   "metadata": {},
   "source": [
    "# 1. Part"
   ]
  },
  {
   "cell_type": "code",
   "execution_count": 2,
   "id": "7ba765ab-c861-4fda-9617-d8c2edb2d0da",
   "metadata": {
    "scrolled": true
   },
   "outputs": [
    {
     "name": "stdout",
     "output_type": "stream",
     "text": [
      "crawler_1.xlsx\n",
      "crawler_10.xlsx\n",
      "crawler_11.xlsx\n",
      "crawler_12.xlsx\n",
      "crawler_13.xlsx\n",
      "crawler_14.xlsx\n",
      "crawler_15.xlsx\n",
      "crawler_16.xlsx\n",
      "crawler_17.xlsx\n",
      "crawler_18.xlsx\n",
      "crawler_19.xlsx\n",
      "crawler_2.xlsx\n",
      "crawler_20.xlsx\n",
      "crawler_21.xlsx\n",
      "crawler_3.xlsx\n",
      "crawler_4.xlsx\n",
      "crawler_5.xlsx\n",
      "crawler_6.xlsx\n",
      "crawler_7.xlsx\n",
      "crawler_8.xlsx\n",
      "crawler_9.xlsx\n"
     ]
    },
    {
     "name": "stderr",
     "output_type": "stream",
     "text": [
      "Progress: 100%|█████████████████████████| 9734/9734 [00:14<00:00, 694.17it/s]\n"
     ]
    },
    {
     "name": "stdout",
     "output_type": "stream",
     "text": [
      "\n",
      "Done ~\n"
     ]
    }
   ],
   "source": [
    "directory_in = './file/3.part'\n",
    "\n",
    "list_df, list_file = [], [file for file in sorted(os.listdir(directory_in)) if file not in ['.DS_Store'] and os.path.isfile(f'{directory_in}/{file}')]\n",
    "for file in list_file:\n",
    "    print(file)\n",
    "\n",
    "    # = = = = = = = = = = = = = = =\n",
    "\n",
    "    df_input = pd.read_excel(f'{directory_in}/{file}',\n",
    "                             header=0,\n",
    "                             dtype=str).fillna('')\n",
    "\n",
    "    df_input['No'] = df_input['No'].astype(int)\n",
    "\n",
    "    # = = = = = = = = = = = = = = =\n",
    "\n",
    "    list_df.append(df_input)\n",
    "\n",
    "# = = = = = = = = = = = = = = =\n",
    "\n",
    "df_input = pd.concat(list_df, ignore_index=True)\n",
    "\n",
    "# = = = = = = = = = = = = = = =\n",
    "\n",
    "list_series, list_column, list_column_detail = [], df_input.columns.tolist(), []\n",
    "for _, series in tqdm(df_input.iterrows(), total=len(df_input), desc='Progress', ncols=77):\n",
    "    dict_dict = json.loads(series['Json_Detail'])\n",
    "    dict_ = {k: v for dict_ in dict_dict.values() for k, v in dict_.items()}\n",
    "\n",
    "    for key, value in dict_.items():\n",
    "        if key in list_column:\n",
    "            key = f'{key} (Detail)'\n",
    "\n",
    "        if key not in list_column_detail:\n",
    "            list_column_detail.append(key)\n",
    "\n",
    "        series[key] = value\n",
    "\n",
    "    list_series.append(series)\n",
    "\n",
    "# = = = = = = = = = = = = = = =\n",
    "\n",
    "df_output = pd.DataFrame(list_series).sort_values(by=['Catalog', 'No'],\n",
    "                                                  ascending=[True, True],\n",
    "                                                  ignore_index=True)\n",
    "df_output[list_column[:8] + sorted(list_column_detail) + list_column[8:]].to_excel(f'{directory_out}/crawler.xlsx', index=False)\n",
    "\n",
    "print()\n",
    "print('Done ~')"
   ]
  },
  {
   "cell_type": "markdown",
   "id": "638c7049-7ebe-4c62-874c-d1c440e5f1a8",
   "metadata": {},
   "source": [
    "# 2. Vehicle"
   ]
  },
  {
   "cell_type": "code",
   "execution_count": 3,
   "id": "d5afb573-f762-4e25-b932-50723b2dc75c",
   "metadata": {
    "scrolled": true
   },
   "outputs": [
    {
     "name": "stdout",
     "output_type": "stream",
     "text": [
      "crawler_1-vehicle.xlsx\n",
      "crawler_10-vehicle.xlsx\n",
      "crawler_11-vehicle.xlsx\n",
      "crawler_12-vehicle.xlsx\n",
      "crawler_13-vehicle.xlsx\n",
      "crawler_14-vehicle.xlsx\n",
      "crawler_15-vehicle.xlsx\n",
      "crawler_16-vehicle.xlsx\n",
      "crawler_17-vehicle.xlsx\n",
      "crawler_18-vehicle.xlsx\n",
      "crawler_19-vehicle.xlsx\n",
      "crawler_2-vehicle.xlsx\n",
      "crawler_20-vehicle.xlsx\n",
      "crawler_21-vehicle.xlsx\n",
      "crawler_3-vehicle.xlsx\n",
      "crawler_4-vehicle.xlsx\n",
      "crawler_5-vehicle.xlsx\n",
      "crawler_6-vehicle.xlsx\n",
      "crawler_7-vehicle.xlsx\n",
      "crawler_8-vehicle.xlsx\n",
      "crawler_9-vehicle.xlsx\n"
     ]
    },
    {
     "name": "stderr",
     "output_type": "stream",
     "text": [
      "Progress: 100%|█████████████████████████| 9381/9381 [00:13<00:00, 671.67it/s]\n"
     ]
    },
    {
     "name": "stdout",
     "output_type": "stream",
     "text": [
      "\n",
      "Done ~\n"
     ]
    }
   ],
   "source": [
    "directory_in = './file/3.vehicle'\n",
    "\n",
    "list_df, list_file = [], [file for file in sorted(os.listdir(directory_in)) if file not in ['.DS_Store'] and os.path.isfile(f'{directory_in}/{file}')]\n",
    "for file in list_file:\n",
    "    print(file)\n",
    "\n",
    "    # = = = = = = = = = = = = = = =\n",
    "\n",
    "    df_input = pd.read_excel(f'{directory_in}/{file}',\n",
    "                             header=0,\n",
    "                             dtype=str).fillna('')\n",
    "\n",
    "    df_input['year'] = df_input['year'].astype(int)\n",
    "\n",
    "    # = = = = = = = = = = = = = = =\n",
    "\n",
    "    list_df.append(df_input)\n",
    "\n",
    "# = = = = = = = = = = = = = = =\n",
    "\n",
    "df_input = pd.concat(list_df, ignore_index=True).sort_values(by=['JOIN_CPN', 'make', 'model', 'year'],\n",
    "                                                             ascending=[True, True, True, False],\n",
    "                                                             ignore_index=True)\n",
    "df_input.to_excel(f'{directory_out}/crawler-compatibility.xlsx', index=False)\n",
    "\n",
    "# = = = = = = = = = = = = = = =\n",
    "\n",
    "list_dict, grouped = [], df_input.groupby('JOIN_CPN')\n",
    "for cpn, group in tqdm(grouped, desc='Progress', ncols=77):\n",
    "    df_temp = group.reset_index(drop=True)\n",
    "\n",
    "    dict_vehicle = {}\n",
    "    for i in range(len(df_temp)):\n",
    "        make, model, engine, year = df_temp.loc[i, 'make'], df_temp.loc[i, 'model'], df_temp.loc[i, 'engines'], df_temp.loc[i, 'year']\n",
    "\n",
    "        if make not in dict_vehicle:\n",
    "            dict_vehicle[make] = {model: {engine: [year]}}\n",
    "        elif model not in dict_vehicle[make]:\n",
    "            dict_vehicle[make][model] = {engine: [year]}\n",
    "        elif engine not in dict_vehicle[make][model]:\n",
    "            dict_vehicle[make][model][engine] = [year]\n",
    "        elif year not in dict_vehicle[make][model][engine]:\n",
    "            dict_vehicle[make][model][engine].append(year)\n",
    "\n",
    "    # = = = = = = = = = = = = = = =\n",
    "\n",
    "    list_vehicle, list_vehicle_2 = [], []\n",
    "    for make, dict_model in dict_vehicle.items():\n",
    "        for model, dict_engine in dict_model.items():\n",
    "            list_year = [year for list_year in dict_engine.values() for year in list_year]\n",
    "            year_begin, year_end = min(list_year), max(list_year)\n",
    "            list_vehicle.append(f'{make} {model} {year_begin}' if year_begin == year_end else f'{make} {model} {year_begin}-{year_end}')\n",
    "\n",
    "            for engine, list_year in dict_engine.items():\n",
    "                year_begin, year_end = min(list_year), max(list_year)\n",
    "                list_vehicle_2.append(f'{make} {model} {year_begin} {engine}'.strip() if year_begin == year_end else f'{make} {model} {year_begin}-{year_end} {engine}'.strip())\n",
    "\n",
    "    # = = = = = = = = = = = = = = =\n",
    "\n",
    "    list_dict.append({'JOIN_CPN': cpn,\n",
    "                      'Vehicle W/o Engine': '\\n'.join(sorted(list_vehicle)),\n",
    "                      'Vehicle W/ Engine': '\\n'.join(sorted(list_vehicle_2))})\n",
    "\n",
    "# = = = = = = = = = = = = = = =\n",
    "\n",
    "df_output = pd.DataFrame(list_dict).sort_values(by=['JOIN_CPN'],\n",
    "                                                ascending=[True],\n",
    "                                                ignore_index=True)\n",
    "df_output.to_excel(f'{directory_out}/crawler-vehicle.xlsx', index=False)\n",
    "\n",
    "print()\n",
    "print('Done ~')"
   ]
  },
  {
   "cell_type": "code",
   "execution_count": null,
   "id": "27293b52-66ed-450d-b1e2-4ca40157e0e7",
   "metadata": {},
   "outputs": [],
   "source": []
  }
 ],
 "metadata": {
  "kernelspec": {
   "display_name": "Python 3 (ipykernel)",
   "language": "python",
   "name": "python3"
  },
  "language_info": {
   "codemirror_mode": {
    "name": "ipython",
    "version": 3
   },
   "file_extension": ".py",
   "mimetype": "text/x-python",
   "name": "python",
   "nbconvert_exporter": "python",
   "pygments_lexer": "ipython3",
   "version": "3.12.7"
  }
 },
 "nbformat": 4,
 "nbformat_minor": 5
}
