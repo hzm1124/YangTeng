{
 "cells": [
  {
   "cell_type": "code",
   "execution_count": 1,
   "id": "efc92de1-2ce2-4077-9ac3-167382d829e1",
   "metadata": {},
   "outputs": [
    {
     "data": {
      "text/plain": [
       "{'home': 'https://www.standardbrand.com/en/ecatalog?part=Clutch+Starter+Safety+Switch&type=p',\n",
       " 'sku_count': 113,\n",
       " 'page_count': 2,\n",
       " 'page': 1,\n",
       " 'page_url': 'https://ecatalog.smpcorp.com/V2/STD/api/part/partsearch?filter=Clutch+Starter+Safety+Switch&filterType=n&searchType=p&start=0&limit=96&sort=3&catFilter=-All-&attrValueFilter=-All-'}"
      ]
     },
     "execution_count": 1,
     "metadata": {},
     "output_type": "execute_result"
    }
   ],
   "source": [
    "item = {'home': 'https://www.standardbrand.com/en/ecatalog?part=Clutch+Starter+Safety+Switch&type=p',\n",
    " 'sku_count': 113,\n",
    " 'page_count': 2,\n",
    " 'page': 1,\n",
    " 'page_url': 'https://ecatalog.smpcorp.com/V2/STD/api/part/partsearch?filter=Clutch+Starter+Safety+Switch&filterType=n&searchType=p&start=0&limit=96&sort=3&catFilter=-All-&attrValueFilter=-All-'}\n",
    "\n",
    "item"
   ]
  },
  {
   "cell_type": "code",
   "execution_count": 2,
   "id": "9e8e2983-174d-4888-a47f-59602ef6c529",
   "metadata": {},
   "outputs": [],
   "source": [
    "import requests\n",
    "\n",
    "import sys\n",
    "sys.path.append('../00.Tools')\n",
    "from configuration import generate_header, generate_proxy"
   ]
  },
  {
   "cell_type": "code",
   "execution_count": null,
   "id": "93bb200a-2bae-40b2-a9f2-f6c550e24832",
   "metadata": {},
   "outputs": [],
   "source": [
    "response = requests.get(item['page_url'],\n",
    "                        headers=generate_header(),\n",
    "                        proxies=generate_proxy(),\n",
    "                        timeout=(10, 15),\n",
    "                        allow_redirects=False)\n",
    "\n",
    "response.status_code"
   ]
  },
  {
   "cell_type": "code",
   "execution_count": null,
   "id": "01647c96-61e1-40be-bf09-bddfba01e22c",
   "metadata": {},
   "outputs": [],
   "source": [
    "list_dict = response.json()\n",
    "\n",
    "list_dict"
   ]
  },
  {
   "cell_type": "code",
   "execution_count": null,
   "id": "e3a1ce5c-d602-4b62-96e2-5eac39893e7a",
   "metadata": {},
   "outputs": [],
   "source": [
    "not list_dict"
   ]
  },
  {
   "cell_type": "code",
   "execution_count": null,
   "id": "b2a31f4c-b7e3-41b6-a1e9-55e343eb9c2e",
   "metadata": {},
   "outputs": [],
   "source": [
    "{'home': item['home'],\n",
    " 'sku_count': item['home'],\n",
    " 'page_count': item['home'],\n",
    " 'page': item['home'],\n",
    " 'page_url': item['home'],\n",
    " 'no': list_dict[0]['rowId'],\n",
    " 'url': f'''https://www.standardbrand.com/en/ecatalog?part={list_dict[0]['webBase'].strip()}&type=p&search=s''',\n",
    " 'brand': list_dict[0]['brand'].strip(),\n",
    " 'part_number': list_dict[0]['basePart'].strip(),\n",
    " 'part_url': f'''https://ecatalog.smpcorp.com/V2/STD/api/part/partselect?part={list_dict[0]['basePart']}&func=PART''',\n",
    " 'src_url': f'''https://ecatalog.smpcorp.com/V2/STD/api/image/getallimages?partNum={list_dict[0]['basePart']}&brand={list_dict[0]['brand']}&zoomFactor_sm=75&zoomFactor_md=360&zoomFactor_bg=960''',\n",
    " 'description_1': list_dict[0]['partDesc_en'],\n",
    " 'description_2': list_dict[0]['partLongDesc_en'],\n",
    " 'pop': list_dict[0]['pop'],\n",
    " 'per_car': list_dict[0]['qtyEach']}"
   ]
  },
  {
   "cell_type": "code",
   "execution_count": null,
   "id": "5dfdc0db-5628-4f74-9114-a6843209ae00",
   "metadata": {},
   "outputs": [],
   "source": []
  }
 ],
 "metadata": {
  "kernelspec": {
   "display_name": "Python 3 (ipykernel)",
   "language": "python",
   "name": "python3"
  },
  "language_info": {
   "codemirror_mode": {
    "name": "ipython",
    "version": 3
   },
   "file_extension": ".py",
   "mimetype": "text/x-python",
   "name": "python",
   "nbconvert_exporter": "python",
   "pygments_lexer": "ipython3",
   "version": "3.12.7"
  }
 },
 "nbformat": 4,
 "nbformat_minor": 5
}
