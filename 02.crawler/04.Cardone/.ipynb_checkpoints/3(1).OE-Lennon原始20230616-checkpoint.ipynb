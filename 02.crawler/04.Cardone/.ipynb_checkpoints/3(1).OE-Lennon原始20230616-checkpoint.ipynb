{
 "cells": [
  {
   "cell_type": "code",
   "execution_count": 1,
   "id": "c009aa0b",
   "metadata": {},
   "outputs": [],
   "source": [
    "import pandas as pd"
   ]
  },
  {
   "cell_type": "code",
   "execution_count": 2,
   "id": "e443c1e0",
   "metadata": {},
   "outputs": [
    {
     "name": "stdout",
     "output_type": "stream",
     "text": [
      "总数量：5\n"
     ]
    },
    {
     "data": {
      "text/plain": [
       "['85-299', '85-3009', '85-3002', '85-3000', '85-3018']"
      ]
     },
     "execution_count": 2,
     "metadata": {},
     "output_type": "execute_result"
    }
   ],
   "source": [
    "df_menu = pd.read_excel('./detail.xlsx', header=0, dtype={'Part_Number': str})\n",
    "list_part_number = df_menu['Part_Number'].to_list()\n",
    "\n",
    "print('总数量：' + str(len(list_part_number)))\n",
    "list_part_number"
   ]
  },
  {
   "cell_type": "code",
   "execution_count": 3,
   "id": "e10bfe82",
   "metadata": {},
   "outputs": [
    {
     "data": {
      "text/html": [
       "<div>\n",
       "<style scoped>\n",
       "    .dataframe tbody tr th:only-of-type {\n",
       "        vertical-align: middle;\n",
       "    }\n",
       "\n",
       "    .dataframe tbody tr th {\n",
       "        vertical-align: top;\n",
       "    }\n",
       "\n",
       "    .dataframe thead th {\n",
       "        text-align: right;\n",
       "    }\n",
       "</style>\n",
       "<table border=\"1\" class=\"dataframe\">\n",
       "  <thead>\n",
       "    <tr style=\"text-align: right;\">\n",
       "      <th></th>\n",
       "      <th>Part_Number</th>\n",
       "      <th>OE_Numbers</th>\n",
       "      <th>status</th>\n",
       "    </tr>\n",
       "  </thead>\n",
       "  <tbody>\n",
       "  </tbody>\n",
       "</table>\n",
       "</div>"
      ],
      "text/plain": [
       "Empty DataFrame\n",
       "Columns: [Part_Number, OE_Numbers, status]\n",
       "Index: []"
      ]
     },
     "execution_count": 3,
     "metadata": {},
     "output_type": "execute_result"
    }
   ],
   "source": [
    "df = pd.DataFrame(columns=['Part_Number',\n",
    "                           'OE_Numbers',\n",
    "                           'status'])\n",
    "\n",
    "df"
   ]
  },
  {
   "cell_type": "code",
   "execution_count": 4,
   "id": "1c8438db",
   "metadata": {},
   "outputs": [],
   "source": [
    "from selenium.webdriver import ChromeOptions"
   ]
  },
  {
   "cell_type": "code",
   "execution_count": 9,
   "id": "8e1c7a14",
   "metadata": {},
   "outputs": [],
   "source": [
    "option = ChromeOptions()\n",
    "option.add_experimental_option('useAutomationExtension', False)\n",
    "option.add_argument('blink-settings=imagesEnabled=false')\n",
    "option.add_argument('--disable-blink-features=AutomationControlled')\n",
    "option.add_argument('--disable-dev-shm-usage')\n",
    "option.add_argument('--disable-gpu')\n",
    "option.add_experimental_option('excludeSwitches', ['enable-automation'])\n",
    "# option.add_argument('--headless')\n",
    "option.add_argument('--no-sandbox')\n",
    "# option.add_argument('--proxy-server=http://u431.kdltps.com:15818')\n",
    "option.add_argument('user-agent=Mozilla/5.0 (Windows NT 10.0; Win64; x64) AppleWebKit/537.36 (KHTML, like Gecko) Chrome/113.0.0.0 Safari/537.36')\n",
    "option.page_load_strategy = 'eager'"
   ]
  },
  {
   "cell_type": "code",
   "execution_count": 10,
   "id": "02a24593",
   "metadata": {},
   "outputs": [],
   "source": [
    "from selenium.webdriver import Chrome\n",
    "from selenium.webdriver.chrome.service import Service"
   ]
  },
  {
   "cell_type": "code",
   "execution_count": 11,
   "id": "aed4c151",
   "metadata": {},
   "outputs": [
    {
     "ename": "WebDriverException",
     "evalue": "Message: unknown error: net::ERR_CONNECTION_RESET\n  (Session info: chrome=114.0.5735.133)\nStacktrace:\n0   chromedriver                        0x0000000100c0d6b8 chromedriver + 4937400\n1   chromedriver                        0x0000000100c04b73 chromedriver + 4901747\n2   chromedriver                        0x00000001007c2616 chromedriver + 435734\n3   chromedriver                        0x00000001007ba0e1 chromedriver + 401633\n4   chromedriver                        0x00000001007aa73c chromedriver + 337724\n5   chromedriver                        0x00000001007ac241 chromedriver + 344641\n6   chromedriver                        0x00000001007aab18 chromedriver + 338712\n7   chromedriver                        0x00000001007a98c9 chromedriver + 334025\n8   chromedriver                        0x00000001007a973c chromedriver + 333628\n9   chromedriver                        0x00000001007a7faa chromedriver + 327594\n10  chromedriver                        0x00000001007a838d chromedriver + 328589\n11  chromedriver                        0x00000001007c49c6 chromedriver + 444870\n12  chromedriver                        0x0000000100845531 chromedriver + 972081\n13  chromedriver                        0x000000010082a012 chromedriver + 860178\n14  chromedriver                        0x0000000100844e76 chromedriver + 970358\n15  chromedriver                        0x0000000100829de3 chromedriver + 859619\n16  chromedriver                        0x00000001007f7d7f chromedriver + 654719\n17  chromedriver                        0x00000001007f90de chromedriver + 659678\n18  chromedriver                        0x0000000100bc92ad chromedriver + 4657837\n19  chromedriver                        0x0000000100bce130 chromedriver + 4677936\n20  chromedriver                        0x0000000100bd4def chromedriver + 4705775\n21  chromedriver                        0x0000000100bcf05a chromedriver + 4681818\n22  chromedriver                        0x0000000100ba192c chromedriver + 4495660\n23  chromedriver                        0x0000000100bec838 chromedriver + 4802616\n24  chromedriver                        0x0000000100bec9b7 chromedriver + 4802999\n25  chromedriver                        0x0000000100bfd99f chromedriver + 4872607\n26  libsystem_pthread.dylib             0x00007ff815b161d3 _pthread_start + 125\n27  libsystem_pthread.dylib             0x00007ff815b11bd3 thread_start + 15\n",
     "output_type": "error",
     "traceback": [
      "\u001b[0;31m---------------------------------------------------------------------------\u001b[0m",
      "\u001b[0;31mWebDriverException\u001b[0m                        Traceback (most recent call last)",
      "Cell \u001b[0;32mIn[11], line 4\u001b[0m\n\u001b[1;32m      1\u001b[0m browser \u001b[38;5;241m=\u001b[39m Chrome(service\u001b[38;5;241m=\u001b[39mService(\u001b[38;5;124m'\u001b[39m\u001b[38;5;124m../../chromedriver\u001b[39m\u001b[38;5;124m'\u001b[39m), options\u001b[38;5;241m=\u001b[39moption)\n\u001b[1;32m      2\u001b[0m browser\u001b[38;5;241m.\u001b[39mmaximize_window()\n\u001b[0;32m----> 4\u001b[0m \u001b[43mbrowser\u001b[49m\u001b[38;5;241;43m.\u001b[39;49m\u001b[43mget\u001b[49m\u001b[43m(\u001b[49m\u001b[38;5;124;43m'\u001b[39;49m\u001b[38;5;124;43mhttps://productdesk-api.cellacore.net/legacy/cardone/FinishedGood/?q=productDeskItemNumber.keyword:85-299\u001b[39;49m\u001b[38;5;124;43m'\u001b[39;49m\u001b[43m)\u001b[49m\n",
      "File \u001b[0;32m~/Desktop/YangTeng/code/venv/lib/python3.11/site-packages/selenium/webdriver/remote/webdriver.py:449\u001b[0m, in \u001b[0;36mWebDriver.get\u001b[0;34m(self, url)\u001b[0m\n\u001b[1;32m    447\u001b[0m \u001b[38;5;28;01mdef\u001b[39;00m \u001b[38;5;21mget\u001b[39m(\u001b[38;5;28mself\u001b[39m, url: \u001b[38;5;28mstr\u001b[39m) \u001b[38;5;241m-\u001b[39m\u001b[38;5;241m>\u001b[39m \u001b[38;5;28;01mNone\u001b[39;00m:\n\u001b[1;32m    448\u001b[0m \u001b[38;5;250m    \u001b[39m\u001b[38;5;124;03m\"\"\"Loads a web page in the current browser session.\"\"\"\u001b[39;00m\n\u001b[0;32m--> 449\u001b[0m     \u001b[38;5;28;43mself\u001b[39;49m\u001b[38;5;241;43m.\u001b[39;49m\u001b[43mexecute\u001b[49m\u001b[43m(\u001b[49m\u001b[43mCommand\u001b[49m\u001b[38;5;241;43m.\u001b[39;49m\u001b[43mGET\u001b[49m\u001b[43m,\u001b[49m\u001b[43m \u001b[49m\u001b[43m{\u001b[49m\u001b[38;5;124;43m\"\u001b[39;49m\u001b[38;5;124;43murl\u001b[39;49m\u001b[38;5;124;43m\"\u001b[39;49m\u001b[43m:\u001b[49m\u001b[43m \u001b[49m\u001b[43murl\u001b[49m\u001b[43m}\u001b[49m\u001b[43m)\u001b[49m\n",
      "File \u001b[0;32m~/Desktop/YangTeng/code/venv/lib/python3.11/site-packages/selenium/webdriver/remote/webdriver.py:440\u001b[0m, in \u001b[0;36mWebDriver.execute\u001b[0;34m(self, driver_command, params)\u001b[0m\n\u001b[1;32m    438\u001b[0m response \u001b[38;5;241m=\u001b[39m \u001b[38;5;28mself\u001b[39m\u001b[38;5;241m.\u001b[39mcommand_executor\u001b[38;5;241m.\u001b[39mexecute(driver_command, params)\n\u001b[1;32m    439\u001b[0m \u001b[38;5;28;01mif\u001b[39;00m response:\n\u001b[0;32m--> 440\u001b[0m     \u001b[38;5;28;43mself\u001b[39;49m\u001b[38;5;241;43m.\u001b[39;49m\u001b[43merror_handler\u001b[49m\u001b[38;5;241;43m.\u001b[39;49m\u001b[43mcheck_response\u001b[49m\u001b[43m(\u001b[49m\u001b[43mresponse\u001b[49m\u001b[43m)\u001b[49m\n\u001b[1;32m    441\u001b[0m     response[\u001b[38;5;124m\"\u001b[39m\u001b[38;5;124mvalue\u001b[39m\u001b[38;5;124m\"\u001b[39m] \u001b[38;5;241m=\u001b[39m \u001b[38;5;28mself\u001b[39m\u001b[38;5;241m.\u001b[39m_unwrap_value(response\u001b[38;5;241m.\u001b[39mget(\u001b[38;5;124m\"\u001b[39m\u001b[38;5;124mvalue\u001b[39m\u001b[38;5;124m\"\u001b[39m, \u001b[38;5;28;01mNone\u001b[39;00m))\n\u001b[1;32m    442\u001b[0m     \u001b[38;5;28;01mreturn\u001b[39;00m response\n",
      "File \u001b[0;32m~/Desktop/YangTeng/code/venv/lib/python3.11/site-packages/selenium/webdriver/remote/errorhandler.py:245\u001b[0m, in \u001b[0;36mErrorHandler.check_response\u001b[0;34m(self, response)\u001b[0m\n\u001b[1;32m    243\u001b[0m         alert_text \u001b[38;5;241m=\u001b[39m value[\u001b[38;5;124m\"\u001b[39m\u001b[38;5;124malert\u001b[39m\u001b[38;5;124m\"\u001b[39m]\u001b[38;5;241m.\u001b[39mget(\u001b[38;5;124m\"\u001b[39m\u001b[38;5;124mtext\u001b[39m\u001b[38;5;124m\"\u001b[39m)\n\u001b[1;32m    244\u001b[0m     \u001b[38;5;28;01mraise\u001b[39;00m exception_class(message, screen, stacktrace, alert_text)  \u001b[38;5;66;03m# type: ignore[call-arg]  # mypy is not smart enough here\u001b[39;00m\n\u001b[0;32m--> 245\u001b[0m \u001b[38;5;28;01mraise\u001b[39;00m exception_class(message, screen, stacktrace)\n",
      "\u001b[0;31mWebDriverException\u001b[0m: Message: unknown error: net::ERR_CONNECTION_RESET\n  (Session info: chrome=114.0.5735.133)\nStacktrace:\n0   chromedriver                        0x0000000100c0d6b8 chromedriver + 4937400\n1   chromedriver                        0x0000000100c04b73 chromedriver + 4901747\n2   chromedriver                        0x00000001007c2616 chromedriver + 435734\n3   chromedriver                        0x00000001007ba0e1 chromedriver + 401633\n4   chromedriver                        0x00000001007aa73c chromedriver + 337724\n5   chromedriver                        0x00000001007ac241 chromedriver + 344641\n6   chromedriver                        0x00000001007aab18 chromedriver + 338712\n7   chromedriver                        0x00000001007a98c9 chromedriver + 334025\n8   chromedriver                        0x00000001007a973c chromedriver + 333628\n9   chromedriver                        0x00000001007a7faa chromedriver + 327594\n10  chromedriver                        0x00000001007a838d chromedriver + 328589\n11  chromedriver                        0x00000001007c49c6 chromedriver + 444870\n12  chromedriver                        0x0000000100845531 chromedriver + 972081\n13  chromedriver                        0x000000010082a012 chromedriver + 860178\n14  chromedriver                        0x0000000100844e76 chromedriver + 970358\n15  chromedriver                        0x0000000100829de3 chromedriver + 859619\n16  chromedriver                        0x00000001007f7d7f chromedriver + 654719\n17  chromedriver                        0x00000001007f90de chromedriver + 659678\n18  chromedriver                        0x0000000100bc92ad chromedriver + 4657837\n19  chromedriver                        0x0000000100bce130 chromedriver + 4677936\n20  chromedriver                        0x0000000100bd4def chromedriver + 4705775\n21  chromedriver                        0x0000000100bcf05a chromedriver + 4681818\n22  chromedriver                        0x0000000100ba192c chromedriver + 4495660\n23  chromedriver                        0x0000000100bec838 chromedriver + 4802616\n24  chromedriver                        0x0000000100bec9b7 chromedriver + 4802999\n25  chromedriver                        0x0000000100bfd99f chromedriver + 4872607\n26  libsystem_pthread.dylib             0x00007ff815b161d3 _pthread_start + 125\n27  libsystem_pthread.dylib             0x00007ff815b11bd3 thread_start + 15\n"
     ]
    }
   ],
   "source": [
    "browser = Chrome(service=Service('../../chromedriver'), options=option)\n",
    "browser.maximize_window()"
   ]
  },
  {
   "cell_type": "code",
   "execution_count": null,
   "id": "d75dc94c",
   "metadata": {},
   "outputs": [],
   "source": [
    "browser.get('browser.get('https://productdesk-api.cellacore.net/legacy/cardone/FinishedGood/?q=productDeskItemNumber.keyword:85-299')')"
   ]
  },
  {
   "cell_type": "code",
   "execution_count": null,
   "id": "64f5eb54",
   "metadata": {},
   "outputs": [],
   "source": [
    "from selenium.webdriver.support import expected_conditions as EC\n",
    "from selenium.webdriver.support.wait import WebDriverWait"
   ]
  },
  {
   "cell_type": "code",
   "execution_count": null,
   "id": "02bc5900",
   "metadata": {},
   "outputs": [],
   "source": [
    "wait = WebDriverWait(browser, 60)\n",
    "wait.until(EC.presence_of_element_located((By.ID, '')))"
   ]
  },
  {
   "cell_type": "code",
   "execution_count": null,
   "id": "e77086ff",
   "metadata": {},
   "outputs": [],
   "source": []
  },
  {
   "cell_type": "code",
   "execution_count": null,
   "id": "3ff170e2",
   "metadata": {},
   "outputs": [],
   "source": []
  },
  {
   "cell_type": "code",
   "execution_count": null,
   "id": "a652d104",
   "metadata": {},
   "outputs": [],
   "source": []
  },
  {
   "cell_type": "code",
   "execution_count": null,
   "id": "17ca4b35",
   "metadata": {},
   "outputs": [],
   "source": []
  },
  {
   "cell_type": "code",
   "execution_count": null,
   "id": "73b3698a",
   "metadata": {},
   "outputs": [],
   "source": [
    "i = 0\n",
    "\n",
    "resp = requests.get('https://productdesk-api.cellacore.net/legacy/cardone/FinishedGood/?q=productDeskItemNumber.keyword:' + list_part_number[i]).text\n",
    "\n",
    "resp"
   ]
  },
  {
   "cell_type": "code",
   "execution_count": null,
   "id": "46bfcdb5",
   "metadata": {},
   "outputs": [],
   "source": []
  },
  {
   "cell_type": "code",
   "execution_count": null,
   "id": "f1d1a844",
   "metadata": {},
   "outputs": [],
   "source": [
    "import requests"
   ]
  },
  {
   "cell_type": "code",
   "execution_count": null,
   "id": "e7b6001b",
   "metadata": {},
   "outputs": [],
   "source": [
    "i = 0\n",
    "\n",
    "resp = requests.get('https://productdesk-api.cellacore.net/legacy/cardone/FinishedGood/?q=productDeskItemNumber.keyword:' + str(list_part_number[i])).text\n",
    "\n",
    "resp"
   ]
  },
  {
   "cell_type": "code",
   "execution_count": null,
   "id": "9da22135",
   "metadata": {},
   "outputs": [],
   "source": [
    "import json"
   ]
  },
  {
   "cell_type": "code",
   "execution_count": null,
   "id": "999e5d1a",
   "metadata": {
    "scrolled": true
   },
   "outputs": [],
   "source": [
    "list_oe = []\n",
    "list_row = json.loads(resp)[0]['CrossReferences']\n",
    "for row in list_row:\n",
    "    if row['referenceType'] == 'OE Part':\n",
    "        list_oe.append(row['reference'])\n",
    "\n",
    "list_oe = list(set(list_oe))\n",
    "list_oe.sort()\n",
    "\n",
    "oe = ';'.join(list_oe)\n",
    "\n",
    "oe"
   ]
  },
  {
   "cell_type": "code",
   "execution_count": null,
   "id": "07f731cd",
   "metadata": {},
   "outputs": [],
   "source": [
    "df_temp = pd.DataFrame({'Part Number': list_part_number[i],\n",
    "                        'OE': oe,\n",
    "                        'status': ['ok']})\n",
    "\n",
    "df_temp"
   ]
  },
  {
   "cell_type": "code",
   "execution_count": null,
   "id": "5b76d5c0",
   "metadata": {},
   "outputs": [],
   "source": [
    "df = pd.concat([df, df_temp], ignore_index=True).fillna('')\n",
    "\n",
    "df"
   ]
  },
  {
   "cell_type": "code",
   "execution_count": null,
   "id": "415c43f5",
   "metadata": {},
   "outputs": [],
   "source": []
  }
 ],
 "metadata": {
  "kernelspec": {
   "display_name": "Python 3 (ipykernel)",
   "language": "python",
   "name": "python3"
  },
  "language_info": {
   "codemirror_mode": {
    "name": "ipython",
    "version": 3
   },
   "file_extension": ".py",
   "mimetype": "text/x-python",
   "name": "python",
   "nbconvert_exporter": "python",
   "pygments_lexer": "ipython3",
   "version": "3.11.3"
  }
 },
 "nbformat": 4,
 "nbformat_minor": 5
}
