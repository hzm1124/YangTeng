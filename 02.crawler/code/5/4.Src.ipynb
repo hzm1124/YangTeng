{
 "cells": [
  {
   "cell_type": "code",
   "execution_count": 1,
   "id": "54a3d02f-970c-41be-8e9e-a1cf0d2b68ad",
   "metadata": {},
   "outputs": [
    {
     "data": {
      "text/plain": [
       "{'home': 'https://www.standardbrand.com/en/ecatalog?part=Clutch+Starter+Safety+Switch&type=p',\n",
       " 'sku_count': 'https://www.standardbrand.com/en/ecatalog?part=Clutch+Starter+Safety+Switch&type=p',\n",
       " 'page_count': 'https://www.standardbrand.com/en/ecatalog?part=Clutch+Starter+Safety+Switch&type=p',\n",
       " 'page': 'https://www.standardbrand.com/en/ecatalog?part=Clutch+Starter+Safety+Switch&type=p',\n",
       " 'page_url': 'https://www.standardbrand.com/en/ecatalog?part=Clutch+Starter+Safety+Switch&type=p',\n",
       " 'no': 1,\n",
       " 'url': 'https://www.standardbrand.com/en/ecatalog?part=CCR3&type=p&search=s',\n",
       " 'brand': 'STI',\n",
       " 'part_number': 'CCR-3',\n",
       " 'part_url': 'https://ecatalog.smpcorp.com/V2/STD/api/part/partselect?part=CCR-3&func=PART',\n",
       " 'src_url': 'https://ecatalog.smpcorp.com/V2/STD/api/image/getallimages?partNum=CCR-3&brand=STI&zoomFactor_sm=75&zoomFactor_md=360&zoomFactor_bg=960',\n",
       " 'description_1': 'Clutch Starter Safety / Cruise Release Switch',\n",
       " 'description_2': 'Clutch Starter Safety / Cruise Release Switch',\n",
       " 'pop': 'F',\n",
       " 'per_car': 1,\n",
       " 'vehicle': 'Kia Sephia (01-94)\\nKia Spectra (04-00)\\nKia Sportage (00-95)',\n",
       " 'json_specification': '{\"Connector Gender\": \"Female\", \"Terminal Quantity\": \"2\", \"Terminal Gender\": \"Male\", \"Terminal Type\": \"Blade\", \"Warranty\": \"3 years/36,000 mile\"}',\n",
       " 'json_type': '{\"0\": \"Switch - Clutch Starter Safety\", \"1\": \"Switch - Cruise Control Release\"}'}"
      ]
     },
     "execution_count": 1,
     "metadata": {},
     "output_type": "execute_result"
    }
   ],
   "source": [
    "item = {'home': 'https://www.standardbrand.com/en/ecatalog?part=Clutch+Starter+Safety+Switch&type=p',\n",
    " 'sku_count': 'https://www.standardbrand.com/en/ecatalog?part=Clutch+Starter+Safety+Switch&type=p',\n",
    " 'page_count': 'https://www.standardbrand.com/en/ecatalog?part=Clutch+Starter+Safety+Switch&type=p',\n",
    " 'page': 'https://www.standardbrand.com/en/ecatalog?part=Clutch+Starter+Safety+Switch&type=p',\n",
    " 'page_url': 'https://www.standardbrand.com/en/ecatalog?part=Clutch+Starter+Safety+Switch&type=p',\n",
    " 'no': 1,\n",
    " 'url': 'https://www.standardbrand.com/en/ecatalog?part=CCR3&type=p&search=s',\n",
    " 'brand': 'STI',\n",
    " 'part_number': 'CCR-3',\n",
    " 'part_url': 'https://ecatalog.smpcorp.com/V2/STD/api/part/partselect?part=CCR-3&func=PART',\n",
    " 'src_url': 'https://ecatalog.smpcorp.com/V2/STD/api/image/getallimages?partNum=CCR-3&brand=STI&zoomFactor_sm=75&zoomFactor_md=360&zoomFactor_bg=960',\n",
    " 'description_1': 'Clutch Starter Safety / Cruise Release Switch',\n",
    " 'description_2': 'Clutch Starter Safety / Cruise Release Switch',\n",
    " 'pop': 'F',\n",
    " 'per_car': 1,\n",
    " 'vehicle': 'Kia Sephia (01-94)\\nKia Spectra (04-00)\\nKia Sportage (00-95)',\n",
    " 'json_specification': '{\"Connector Gender\": \"Female\", \"Terminal Quantity\": \"2\", \"Terminal Gender\": \"Male\", \"Terminal Type\": \"Blade\", \"Warranty\": \"3 years/36,000 mile\"}',\n",
    " 'json_type': '{\"0\": \"Switch - Clutch Starter Safety\", \"1\": \"Switch - Cruise Control Release\"}'}\n",
    "\n",
    "item"
   ]
  },
  {
   "cell_type": "code",
   "execution_count": 2,
   "id": "a6d5dd5a-12a8-4dfd-ad74-b5355bdcd556",
   "metadata": {},
   "outputs": [],
   "source": [
    "import requests\n",
    "\n",
    "import sys\n",
    "sys.path.append('../00.Tools')\n",
    "from configuration import generate_header, generate_proxy"
   ]
  },
  {
   "cell_type": "code",
   "execution_count": null,
   "id": "6f4ee20d-b99d-462c-b58e-e2bc39434390",
   "metadata": {},
   "outputs": [],
   "source": [
    "response = requests.get(item['src_url'],\n",
    "                        headers=generate_header(),\n",
    "                        proxies=generate_proxy(),\n",
    "                        timeout=(10, 15),\n",
    "                        allow_redirects=False)\n",
    "\n",
    "response.status_code"
   ]
  },
  {
   "cell_type": "code",
   "execution_count": null,
   "id": "0d11f187-3c86-4a7b-a8e8-78645448ddb3",
   "metadata": {
    "scrolled": true
   },
   "outputs": [],
   "source": [
    "dict_ = response.json()\n",
    "\n",
    "dict_"
   ]
  },
  {
   "cell_type": "code",
   "execution_count": null,
   "id": "60430c3d-6177-4962-b956-c3a33615990e",
   "metadata": {},
   "outputs": [],
   "source": [
    "not dict_"
   ]
  },
  {
   "cell_type": "code",
   "execution_count": null,
   "id": "cf5953ce-0e7e-4fbb-95bc-1ade50cd2f58",
   "metadata": {},
   "outputs": [],
   "source": [
    "dict_src, list_src = {}, [dict_2['image_BG_Url'] for dict_2 in dict_]\n",
    "for i, src in enumerate(list_src):\n",
    "    dict_src[str(i)] = src.strip()\n",
    "\n",
    "dict_src"
   ]
  },
  {
   "cell_type": "code",
   "execution_count": null,
   "id": "d1a98dba-4133-468c-a485-2aba77c5ff5f",
   "metadata": {},
   "outputs": [],
   "source": [
    "import json"
   ]
  },
  {
   "cell_type": "code",
   "execution_count": null,
   "id": "7ddfa9ca-29b7-4c52-9150-d0c78ca63676",
   "metadata": {},
   "outputs": [],
   "source": [
    "{'home': item['home'],\n",
    " 'sku_count': item['sku_count'],\n",
    " 'page_count': item['page_count'],\n",
    " 'page': item['page'],\n",
    " 'page_url': item['page_url'],\n",
    " 'no': item['no'],\n",
    " 'url': item['url'],\n",
    " 'brand': item['brand'],\n",
    " 'part_number': item['part_number'],\n",
    " 'part_url': item['part_url'],\n",
    " 'src_url': item['src_url'],\n",
    " 'description_1': item['description_1'],\n",
    " 'description_2': item['description_2'],\n",
    " 'pop': item['pop'],\n",
    " 'per_car': item['per_car'],\n",
    " 'vehicle': item['vehicle'],\n",
    " 'json_specification': item['json_specification'],\n",
    " 'json_type': item['json_type'],\n",
    " 'picture': '',\n",
    " 'json_src': json.dumps(dict_src)}"
   ]
  },
  {
   "cell_type": "code",
   "execution_count": null,
   "id": "ac61a048-3eae-4d21-8871-bd80cc21ae84",
   "metadata": {},
   "outputs": [],
   "source": []
  }
 ],
 "metadata": {
  "kernelspec": {
   "display_name": "Python 3 (ipykernel)",
   "language": "python",
   "name": "python3"
  },
  "language_info": {
   "codemirror_mode": {
    "name": "ipython",
    "version": 3
   },
   "file_extension": ".py",
   "mimetype": "text/x-python",
   "name": "python",
   "nbconvert_exporter": "python",
   "pygments_lexer": "ipython3",
   "version": "3.12.7"
  }
 },
 "nbformat": 4,
 "nbformat_minor": 5
}
