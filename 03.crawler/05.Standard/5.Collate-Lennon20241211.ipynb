{
 "cells": [
  {
   "cell_type": "code",
   "execution_count": 1,
   "id": "380102c8-ef2b-43e7-a07d-74113a8738e2",
   "metadata": {},
   "outputs": [
    {
     "data": {
      "text/plain": [
       "'./file/5.collate'"
      ]
     },
     "execution_count": 1,
     "metadata": {},
     "output_type": "execute_result"
    }
   ],
   "source": [
    "import os\n",
    "import shutil\n",
    "directory_out = './file/5.collate'\n",
    "if os.path.exists(directory_out):\n",
    "    shutil.rmtree(directory_out)\n",
    "os.makedirs(directory_out)\n",
    "\n",
    "directory_out"
   ]
  },
  {
   "cell_type": "code",
   "execution_count": 2,
   "id": "5a52743a-d139-4667-b3b4-363cb166476b",
   "metadata": {},
   "outputs": [],
   "source": [
    "import pandas as pd\n",
    "\n",
    "from tqdm import tqdm\n",
    "import json"
   ]
  },
  {
   "cell_type": "code",
   "execution_count": 3,
   "id": "ac7fb788-2e77-4500-b015-18b365a24a8b",
   "metadata": {},
   "outputs": [
    {
     "name": "stdout",
     "output_type": "stream",
     "text": [
      "1.xlsx\n",
      "Data Loading...\n",
      "Loading Done !\n",
      "\n"
     ]
    },
    {
     "name": "stderr",
     "output_type": "stream",
     "text": [
      "Progress: 100%|███████████████████████████| 450/450 [00:02<00:00, 160.45it/s]\n"
     ]
    },
    {
     "name": "stdout",
     "output_type": "stream",
     "text": [
      "\n",
      "Done ~\n"
     ]
    }
   ],
   "source": [
    "directory_in = './file/4.src'\n",
    "list_file = [file for file in sorted(os.listdir(directory_in)) if file not in ['.DS_Store'] and os.path.isfile(os.path.join(directory_in, file))]\n",
    "for file in list_file:\n",
    "\n",
    "    print(file)\n",
    "\n",
    "    # = = =  = = =  = = =\n",
    "\n",
    "    print('Data Loading...')\n",
    "    df_input = pd.read_excel(os.path.join(directory_in, file),\n",
    "                             header=0,\n",
    "                             dtype=str).fillna('')\n",
    "\n",
    "    df_input['No'] = df_input['No'].astype(int)\n",
    "    print('Loading Done !')\n",
    "    print()\n",
    "\n",
    "    # = = =  = = =  = = =\n",
    "\n",
    "    list_series, list_column, list_column_type, list_column_info, list_column_specification = [], df_input.columns.tolist(), [], [], []\n",
    "    for _, series in tqdm(df_input.iterrows(), total=len(df_input), desc='Progress', ncols=77):\n",
    "        dict_type, dict_info, dict_dict = json.loads(series['Json_Type']), json.loads(series['Json_Info']), json.loads(series['Json_Specification'])\n",
    "        dict_ = {k: v for dict_ in dict_dict.values() for k, v in dict_.items()}\n",
    "\n",
    "        for key, value in dict_type.items():\n",
    "            if key == '0':\n",
    "                key = 'Type'\n",
    "            else:\n",
    "                key = f'Type_{int(key) + 1}'\n",
    "\n",
    "            if key not in list_column_type:\n",
    "                list_column_type.append(key)\n",
    "\n",
    "            series[key] = value\n",
    "\n",
    "        # = = =  = = =  = = =\n",
    "\n",
    "        for key, value in dict_info.items():\n",
    "            key = f'[Info] {key}'\n",
    "\n",
    "            if key not in list_column_type:\n",
    "                list_column_type.append(key)\n",
    "\n",
    "            series[key] = value\n",
    "\n",
    "        # = = =  = = =  = = =\n",
    "\n",
    "        for key, value in dict_.items():\n",
    "            if key in list_column:\n",
    "                key = f'{key} (Specification)'\n",
    "\n",
    "            if key not in list_column_specification:\n",
    "                list_column_specification.append(key)\n",
    "\n",
    "            series[key] = value\n",
    "\n",
    "        list_series.append(series)\n",
    "\n",
    "    # = = =  = = =  = = =\n",
    "\n",
    "    df_output = pd.DataFrame(list_series).sort_values(by=['No'],\n",
    "                                                      ascending=[True],\n",
    "                                                      ignore_index=True)\n",
    "    df_output[list_column[:2] + sorted(list_column_type) + sorted(list_column_info) + list_column[2:5] + sorted(list_column_specification) + list_column[5:]].to_excel(os.path.join(directory_out, file), index=False)\n",
    "\n",
    "print()\n",
    "print('Done ~')"
   ]
  },
  {
   "cell_type": "code",
   "execution_count": null,
   "id": "27293b52-66ed-450d-b1e2-4ca40157e0e7",
   "metadata": {},
   "outputs": [],
   "source": []
  }
 ],
 "metadata": {
  "kernelspec": {
   "display_name": "Python 3 (ipykernel)",
   "language": "python",
   "name": "python3"
  },
  "language_info": {
   "codemirror_mode": {
    "name": "ipython",
    "version": 3
   },
   "file_extension": ".py",
   "mimetype": "text/x-python",
   "name": "python",
   "nbconvert_exporter": "python",
   "pygments_lexer": "ipython3",
   "version": "3.12.7"
  }
 },
 "nbformat": 4,
 "nbformat_minor": 5
}
