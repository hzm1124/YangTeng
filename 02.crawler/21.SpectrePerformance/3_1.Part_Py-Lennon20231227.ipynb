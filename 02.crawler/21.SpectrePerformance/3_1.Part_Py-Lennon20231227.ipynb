{
 "cells": [
  {
   "cell_type": "code",
   "execution_count": 1,
   "id": "440a5ef3",
   "metadata": {},
   "outputs": [],
   "source": [
    "import pandas as pd"
   ]
  },
  {
   "cell_type": "code",
   "execution_count": 2,
   "id": "160b7036",
   "metadata": {},
   "outputs": [
    {
     "data": {
      "text/html": [
       "<div>\n",
       "<style scoped>\n",
       "    .dataframe tbody tr th:only-of-type {\n",
       "        vertical-align: middle;\n",
       "    }\n",
       "\n",
       "    .dataframe tbody tr th {\n",
       "        vertical-align: top;\n",
       "    }\n",
       "\n",
       "    .dataframe thead th {\n",
       "        text-align: right;\n",
       "    }\n",
       "</style>\n",
       "<table border=\"1\" class=\"dataframe\">\n",
       "  <thead>\n",
       "    <tr style=\"text-align: right;\">\n",
       "      <th></th>\n",
       "      <th>Url_1</th>\n",
       "      <th>Url_2</th>\n",
       "      <th>No.</th>\n",
       "    </tr>\n",
       "  </thead>\n",
       "  <tbody>\n",
       "    <tr>\n",
       "      <th>0</th>\n",
       "      <td>https://www.spectreperformance.com/cross-refer...</td>\n",
       "      <td>https://www.spectreperformance.com/catalog/pro...</td>\n",
       "      <td>1</td>\n",
       "    </tr>\n",
       "    <tr>\n",
       "      <th>1</th>\n",
       "      <td>https://www.spectreperformance.com/cross-refer...</td>\n",
       "      <td>https://www.spectreperformance.com/catalog/pro...</td>\n",
       "      <td>2</td>\n",
       "    </tr>\n",
       "    <tr>\n",
       "      <th>2</th>\n",
       "      <td>https://www.spectreperformance.com/cross-refer...</td>\n",
       "      <td>https://www.spectreperformance.com/catalog/pro...</td>\n",
       "      <td>3</td>\n",
       "    </tr>\n",
       "    <tr>\n",
       "      <th>3</th>\n",
       "      <td>https://www.spectreperformance.com/cross-refer...</td>\n",
       "      <td>https://www.spectreperformance.com/catalog/pro...</td>\n",
       "      <td>4</td>\n",
       "    </tr>\n",
       "    <tr>\n",
       "      <th>4</th>\n",
       "      <td>https://www.spectreperformance.com/cross-refer...</td>\n",
       "      <td>https://www.spectreperformance.com/catalog/pro...</td>\n",
       "      <td>5</td>\n",
       "    </tr>\n",
       "    <tr>\n",
       "      <th>...</th>\n",
       "      <td>...</td>\n",
       "      <td>...</td>\n",
       "      <td>...</td>\n",
       "    </tr>\n",
       "    <tr>\n",
       "      <th>123</th>\n",
       "      <td>https://www.spectreperformance.com/cross-refer...</td>\n",
       "      <td>https://www.spectreperformance.com/catalog/pro...</td>\n",
       "      <td>124</td>\n",
       "    </tr>\n",
       "    <tr>\n",
       "      <th>124</th>\n",
       "      <td>https://www.spectreperformance.com/cross-refer...</td>\n",
       "      <td>https://www.spectreperformance.com/catalog/pro...</td>\n",
       "      <td>125</td>\n",
       "    </tr>\n",
       "    <tr>\n",
       "      <th>125</th>\n",
       "      <td>https://www.spectreperformance.com/cross-refer...</td>\n",
       "      <td>https://www.spectreperformance.com/catalog/pro...</td>\n",
       "      <td>126</td>\n",
       "    </tr>\n",
       "    <tr>\n",
       "      <th>126</th>\n",
       "      <td>https://www.spectreperformance.com/cross-refer...</td>\n",
       "      <td>https://www.spectreperformance.com/catalog/pro...</td>\n",
       "      <td>127</td>\n",
       "    </tr>\n",
       "    <tr>\n",
       "      <th>127</th>\n",
       "      <td>https://www.spectreperformance.com/cross-refer...</td>\n",
       "      <td>https://www.spectreperformance.com/catalog/pro...</td>\n",
       "      <td>128</td>\n",
       "    </tr>\n",
       "  </tbody>\n",
       "</table>\n",
       "<p>128 rows × 3 columns</p>\n",
       "</div>"
      ],
      "text/plain": [
       "                                                 Url_1  \\\n",
       "0    https://www.spectreperformance.com/cross-refer...   \n",
       "1    https://www.spectreperformance.com/cross-refer...   \n",
       "2    https://www.spectreperformance.com/cross-refer...   \n",
       "3    https://www.spectreperformance.com/cross-refer...   \n",
       "4    https://www.spectreperformance.com/cross-refer...   \n",
       "..                                                 ...   \n",
       "123  https://www.spectreperformance.com/cross-refer...   \n",
       "124  https://www.spectreperformance.com/cross-refer...   \n",
       "125  https://www.spectreperformance.com/cross-refer...   \n",
       "126  https://www.spectreperformance.com/cross-refer...   \n",
       "127  https://www.spectreperformance.com/cross-refer...   \n",
       "\n",
       "                                                 Url_2  No.  \n",
       "0    https://www.spectreperformance.com/catalog/pro...    1  \n",
       "1    https://www.spectreperformance.com/catalog/pro...    2  \n",
       "2    https://www.spectreperformance.com/catalog/pro...    3  \n",
       "3    https://www.spectreperformance.com/catalog/pro...    4  \n",
       "4    https://www.spectreperformance.com/catalog/pro...    5  \n",
       "..                                                 ...  ...  \n",
       "123  https://www.spectreperformance.com/catalog/pro...  124  \n",
       "124  https://www.spectreperformance.com/catalog/pro...  125  \n",
       "125  https://www.spectreperformance.com/catalog/pro...  126  \n",
       "126  https://www.spectreperformance.com/catalog/pro...  127  \n",
       "127  https://www.spectreperformance.com/catalog/pro...  128  \n",
       "\n",
       "[128 rows x 3 columns]"
      ]
     },
     "execution_count": 2,
     "metadata": {},
     "output_type": "execute_result"
    }
   ],
   "source": [
    "df = pd.read_excel('./menu_2.xlsx',\n",
    "                   header=0,\n",
    "                   dtype=str).fillna('')\n",
    "\n",
    "df"
   ]
  },
  {
   "cell_type": "code",
   "execution_count": 3,
   "id": "b9538500",
   "metadata": {},
   "outputs": [],
   "source": [
    "from tqdm import tqdm\n",
    "import pyperclip"
   ]
  },
  {
   "cell_type": "code",
   "execution_count": 4,
   "id": "b2f928b6",
   "metadata": {},
   "outputs": [
    {
     "name": "stderr",
     "output_type": "stream",
     "text": [
      "Progress: 100%|█████████████████████████| 128/128 [00:00<00:00, 79595.39it/s]\n"
     ]
    },
    {
     "data": {
      "text/plain": [
       "'[{\"Url\":\"https://www.spectreperformance.com/catalog/product/view/id/30578/s/spa-2395-essential-filter/\"},{\"Url\":\"https://www.spectreperformance.com/catalog/product/view/id/30589/s/spa-2498-essential-filter/\"},{\"Url\":\"https://www.spectreperformance.com/catalog/product/view/id/30597/s/spc-2002-essential-filter/\"},{\"Url\":\"https://www.spectreperformance.com/catalog/product/view/id/30592/s/spc-1010-essential-filter/\"},{\"Url\":\"https://www.spectreperformance.com/catalog/product/view/id/30602/s/spc-2022-essential-filter/\"},{\"Url\":\"https://www.spectreperformance.com/catalog/product/view/id/30598/s/spc-2003-essential-filter/\"},{\"Url\":\"https://www.spectreperformance.com/catalog/product/view/id/30599/s/spc-2005-essential-filter/\"},{\"Url\":\"https://www.spectreperformance.com/catalog/product/view/id/30596/s/spc-2001-essential-filter/\"},{\"Url\":\"https://www.spectreperformance.com/catalog/product/view/id/30613/s/spc-3013-essential-filter/\"},{\"Url\":\"https://www.spectreperformance.com/catalog/product/view/id/30591/s/spc-1001-essential-filter/\"},{\"Url\":\"https://www.spectreperformance.com/catalog/product/view/id/30591/s/spc-1001-essential-filter/\"},{\"Url\":\"https://www.spectreperformance.com/catalog/product/view/id/30595/s/spc-2000-essential-filter/\"},{\"Url\":\"https://www.spectreperformance.com/catalog/product/view/id/30600/s/spc-2007-essential-filter/\"},{\"Url\":\"https://www.spectreperformance.com/catalog/product/view/id/30601/s/spc-2013-essential-filter/\"},{\"Url\":\"https://www.spectreperformance.com/catalog/product/view/id/30604/s/spc-2038-essential-filter/\"},{\"Url\":\"https://www.spectreperformance.com/catalog/product/view/id/30609/s/spc-2055-essential-filter/\"},{\"Url\":\"https://www.spectreperformance.com/catalog/product/view/id/30605/s/spc-2040-essential-filter/\"},{\"Url\":\"https://www.spectreperformance.com/catalog/product/view/id/30603/s/spc-2033-essential-filter/\"},{\"Url\":\"https://www.spectreperformance.com/catalog/product/view/id/30593/s/spc-1011-essential-filter/\"},{\"Url\":\"https://www.spectreperformance.com/catalog/product/view/id/30612/s/spc-3012-essential-filter/\"},{\"Url\":\"https://www.spectreperformance.com/catalog/product/view/id/30594/s/spc-1012-essential-filter/\"},{\"Url\":\"https://www.spectreperformance.com/catalog/product/view/id/30608/s/spc-2050-essential-filter/\"},{\"Url\":\"https://www.spectreperformance.com/catalog/product/view/id/30592/s/spc-1010-essential-filter/\"},{\"Url\":\"https://www.spectreperformance.com/catalog/product/view/id/30606/s/spc-2044-essential-filter/\"},{\"Url\":\"https://www.spectreperformance.com/catalog/product/view/id/30610/s/spc-2058-essential-filter/\"},{\"Url\":\"https://www.spectreperformance.com/catalog/product/view/id/30611/s/spc-2059-essential-filter/\"},{\"Url\":\"https://www.spectreperformance.com/catalog/product/view/id/30607/s/spc-2049-essential-filter/\"},{\"Url\":\"https://www.spectreperformance.com/catalog/product/view/id/30567/s/spa-2309-essential-filter/\"},{\"Url\":\"https://www.spectreperformance.com/catalog/product/view/id/30569/s/spa-2334-essential-filter/\"},{\"Url\":\"https://www.spectreperformance.com/catalog/product/view/id/30577/s/spa-2394-essential-filter/\"},{\"Url\":\"https://www.spectreperformance.com/catalog/product/view/id/30570/s/spa-2342-essential-filter/\"},{\"Url\":\"https://www.spectreperformance.com/catalog/product/view/id/30568/s/spa-2326-essential-filter/\"},{\"Url\":\"https://www.spectreperformance.com/catalog/product/view/id/30573/s/spa-2370-essential-filter/\"},{\"Url\":\"https://www.spectreperformance.com/catalog/product/view/id/30571/s/spa-2360-essential-filter/\"},{\"Url\":\"https://www.spectreperformance.com/catalog/product/view/id/30538/s/spa-0784-essential-filter/\"},{\"Url\":\"https://www.spectreperformance.com/catalog/product/view/id/30576/s/spa-2385-essential-filter/\"},{\"Url\":\"https://www.spectreperformance.com/catalog/product/view/id/30572/s/spa-2364-essential-filter/\"},{\"Url\":\"https://www.spectreperformance.com/catalog/product/view/id/30574/s/spa-2374-essential-filter/\"},{\"Url\":\"https://www.spectreperformance.com/catalog/product/view/id/30581/s/spa-2439-essential-filter/\"},{\"Url\":\"https://www.spectreperformance.com/catalog/product/view/id/30579/s/spa-2402-essential-filter/\"},{\"Url\":\"https://www.spectreperformance.com/catalog/product/view/id/30575/s/spa-2381-essential-filter/\"},{\"Url\":\"https://www.spectreperformance.com/catalog/product/view/id/30582/s/spa-2448-essential-filter/\"},{\"Url\":\"https://www.spectreperformance.com/catalog/product/view/id/30583/s/spa-2457-essential-filter/\"},{\"Url\":\"https://www.spectreperformance.com/catalog/product/view/id/30590/s/spa-2966-essential-filter/\"},{\"Url\":\"https://www.spectreperformance.com/catalog/product/view/id/30586/s/spa-2468-essential-filter/\"},{\"Url\":\"https://www.spectreperformance.com/catalog/product/view/id/30587/s/spa-2472-essential-filter/\"},{\"Url\":\"https://www.spectreperformance.com/catalog/product/view/id/30584/s/spa-2460-essential-filter/\"},{\"Url\":\"https://www.spectreperformance.com/catalog/product/view/id/30588/s/spa-2478-essential-filter/\"},{\"Url\":\"https://www.spectreperformance.com/catalog/product/view/id/30545/s/spa-2084-essential-filter/\"},{\"Url\":\"https://www.spectreperformance.com/catalog/product/view/id/30542/s/spa-2031-essential-filter/\"},{\"Url\":\"https://www.spectreperformance.com/catalog/product/view/id/30541/s/spa-2012-essential-filter/\"},{\"Url\":\"https://www.spectreperformance.com/catalog/product/view/id/30585/s/spa-2462-essential-filter/\"},{\"Url\":\"https://www.spectreperformance.com/catalog/product/view/id/30549/s/spa-2141-essential-filter/\"},{\"Url\":\"https://www.spectreperformance.com/catalog/product/view/id/30580/s/spa-2409-essential-filter/\"},{\"Url\":\"https://www.spectreperformance.com/catalog/product/view/id/30551/s/spa-2145-essential-filter/\"},{\"Url\":\"https://www.spectreperformance.com/catalog/product/view/id/30543/s/spa-2042-essential-filter/\"},{\"Url\":\"https://www.spectreperformance.com/catalog/product/view/id/30563/s/spa-2286-essential-filter/\"},{\"Url\":\"https://www.spectreperformance.com/catalog/product/view/id/30544/s/spa-2063-essential-filter/\"},{\"Url\":\"https://www.spectreperformance.com/catalog/product/view/id/30552/s/spa-2181-essential-filter/\"},{\"Url\":\"https://www.spectreperformance.com/catalog/product/view/id/30539/s/spa-0945-essential-filter/\"},{\"Url\":\"https://www.spectreperformance.com/catalog/product/view/id/30547/s/spa-2121-essential-filter/\"},{\"Url\":\"https://www.spectreperformance.com/catalog/product/view/id/30546/s/spa-2106-essential-filter/\"},{\"Url\":\"https://www.spectreperformance.com/catalog/product/view/id/30550/s/spa-2144-essential-filter/\"},{\"Url\":\"https://www.spectreperformance.com/catalog/product/view/id/30548/s/spa-2129-essential-filter/\"},{\"Url\":\"https://www.spectreperformance.com/catalog/product/view/id/30554/s/spa-2192-essential-filter/\"},{\"Url\":\"https://www.spectreperformance.com/catalog/product/view/id/30555/s/spa-2206-essential-filter/\"},{\"Url\":\"https://www.spectreperformance.com/catalog/product/view/id/30553/s/spa-2187-essential-filter/\"},{\"Url\":\"https://www.spectreperformance.com/catalog/product/view/id/30556/s/spa-2207-essential-filter/\"},{\"Url\":\"https://www.spectreperformance.com/catalog/product/view/id/30540/s/spa-1009-essential-filter/\"},{\"Url\":\"https://www.spectreperformance.com/catalog/product/view/id/30560/s/spa-2260-essential-filter/\"},{\"Url\":\"https://www.spectreperformance.com/catalog/product/view/id/30557/s/spa-2247-essential-filter/\"},{\"Url\":\"https://www.spectreperformance.com/catalog/product/view/id/30559/s/spa-2252-essential-filter/\"},{\"Url\":\"https://www.spectreperformance.com/catalog/product/view/id/30558/s/spa-2249-essential-filter/\"},{\"Url\":\"https://www.spectreperformance.com/catalog/product/view/id/30561/s/spa-2276-essential-filter/\"},{\"Url\":\"https://www.spectreperformance.com/catalog/product/view/id/30562/s/spa-2281-essential-filter/\"},{\"Url\":\"https://www.spectreperformance.com/catalog/product/view/id/30564/s/spa-2287-essential-filter/\"},{\"Url\":\"https://www.spectreperformance.com/catalog/product/view/id/30565/s/spa-2295-essential-filter/\"},{\"Url\":\"https://www.spectreperformance.com/catalog/product/view/id/30566/s/spa-2304-essential-filter/\"},{\"Url\":\"https://www.spectreperformance.com/catalog/product/view/id/30567/s/spa-2309-essential-filter/\"},{\"Url\":\"https://www.spectreperformance.com/catalog/product/view/id/30569/s/spa-2334-essential-filter/\"},{\"Url\":\"https://www.spectreperformance.com/catalog/product/view/id/30577/s/spa-2394-essential-filter/\"},{\"Url\":\"https://www.spectreperformance.com/catalog/product/view/id/30570/s/spa-2342-essential-filter/\"},{\"Url\":\"https://www.spectreperformance.com/catalog/product/view/id/30568/s/spa-2326-essential-filter/\"},{\"Url\":\"https://www.spectreperformance.com/catalog/product/view/id/30573/s/spa-2370-essential-filter/\"},{\"Url\":\"https://www.spectreperformance.com/catalog/product/view/id/30571/s/spa-2360-essential-filter/\"},{\"Url\":\"https://www.spectreperformance.com/catalog/product/view/id/30538/s/spa-0784-essential-filter/\"},{\"Url\":\"https://www.spectreperformance.com/catalog/product/view/id/30576/s/spa-2385-essential-filter/\"},{\"Url\":\"https://www.spectreperformance.com/catalog/product/view/id/30572/s/spa-2364-essential-filter/\"},{\"Url\":\"https://www.spectreperformance.com/catalog/product/view/id/30574/s/spa-2374-essential-filter/\"},{\"Url\":\"https://www.spectreperformance.com/catalog/product/view/id/30581/s/spa-2439-essential-filter/\"},{\"Url\":\"https://www.spectreperformance.com/catalog/product/view/id/30579/s/spa-2402-essential-filter/\"},{\"Url\":\"https://www.spectreperformance.com/catalog/product/view/id/30575/s/spa-2381-essential-filter/\"},{\"Url\":\"https://www.spectreperformance.com/catalog/product/view/id/30582/s/spa-2448-essential-filter/\"},{\"Url\":\"https://www.spectreperformance.com/catalog/product/view/id/30583/s/spa-2457-essential-filter/\"},{\"Url\":\"https://www.spectreperformance.com/catalog/product/view/id/30590/s/spa-2966-essential-filter/\"},{\"Url\":\"https://www.spectreperformance.com/catalog/product/view/id/30586/s/spa-2468-essential-filter/\"},{\"Url\":\"https://www.spectreperformance.com/catalog/product/view/id/30587/s/spa-2472-essential-filter/\"},{\"Url\":\"https://www.spectreperformance.com/catalog/product/view/id/30584/s/spa-2460-essential-filter/\"},{\"Url\":\"https://www.spectreperformance.com/catalog/product/view/id/30588/s/spa-2478-essential-filter/\"},{\"Url\":\"https://www.spectreperformance.com/catalog/product/view/id/30545/s/spa-2084-essential-filter/\"},{\"Url\":\"https://www.spectreperformance.com/catalog/product/view/id/30542/s/spa-2031-essential-filter/\"},{\"Url\":\"https://www.spectreperformance.com/catalog/product/view/id/30541/s/spa-2012-essential-filter/\"},{\"Url\":\"https://www.spectreperformance.com/catalog/product/view/id/30585/s/spa-2462-essential-filter/\"},{\"Url\":\"https://www.spectreperformance.com/catalog/product/view/id/30549/s/spa-2141-essential-filter/\"},{\"Url\":\"https://www.spectreperformance.com/catalog/product/view/id/30580/s/spa-2409-essential-filter/\"},{\"Url\":\"https://www.spectreperformance.com/catalog/product/view/id/30551/s/spa-2145-essential-filter/\"},{\"Url\":\"https://www.spectreperformance.com/catalog/product/view/id/30543/s/spa-2042-essential-filter/\"},{\"Url\":\"https://www.spectreperformance.com/catalog/product/view/id/30563/s/spa-2286-essential-filter/\"},{\"Url\":\"https://www.spectreperformance.com/catalog/product/view/id/30544/s/spa-2063-essential-filter/\"},{\"Url\":\"https://www.spectreperformance.com/catalog/product/view/id/30552/s/spa-2181-essential-filter/\"},{\"Url\":\"https://www.spectreperformance.com/catalog/product/view/id/30539/s/spa-0945-essential-filter/\"},{\"Url\":\"https://www.spectreperformance.com/catalog/product/view/id/30547/s/spa-2121-essential-filter/\"},{\"Url\":\"https://www.spectreperformance.com/catalog/product/view/id/30550/s/spa-2144-essential-filter/\"},{\"Url\":\"https://www.spectreperformance.com/catalog/product/view/id/30548/s/spa-2129-essential-filter/\"},{\"Url\":\"https://www.spectreperformance.com/catalog/product/view/id/30554/s/spa-2192-essential-filter/\"},{\"Url\":\"https://www.spectreperformance.com/catalog/product/view/id/30555/s/spa-2206-essential-filter/\"},{\"Url\":\"https://www.spectreperformance.com/catalog/product/view/id/30553/s/spa-2187-essential-filter/\"},{\"Url\":\"https://www.spectreperformance.com/catalog/product/view/id/30556/s/spa-2207-essential-filter/\"},{\"Url\":\"https://www.spectreperformance.com/catalog/product/view/id/30540/s/spa-1009-essential-filter/\"},{\"Url\":\"https://www.spectreperformance.com/catalog/product/view/id/30560/s/spa-2260-essential-filter/\"},{\"Url\":\"https://www.spectreperformance.com/catalog/product/view/id/30557/s/spa-2247-essential-filter/\"},{\"Url\":\"https://www.spectreperformance.com/catalog/product/view/id/30559/s/spa-2252-essential-filter/\"},{\"Url\":\"https://www.spectreperformance.com/catalog/product/view/id/30558/s/spa-2249-essential-filter/\"},{\"Url\":\"https://www.spectreperformance.com/catalog/product/view/id/30561/s/spa-2276-essential-filter/\"},{\"Url\":\"https://www.spectreperformance.com/catalog/product/view/id/30562/s/spa-2281-essential-filter/\"},{\"Url\":\"https://www.spectreperformance.com/catalog/product/view/id/30564/s/spa-2287-essential-filter/\"},{\"Url\":\"https://www.spectreperformance.com/catalog/product/view/id/30565/s/spa-2295-essential-filter/\"},{\"Url\":\"https://www.spectreperformance.com/catalog/product/view/id/30566/s/spa-2304-essential-filter/\"}]'"
      ]
     },
     "execution_count": 4,
     "metadata": {},
     "output_type": "execute_result"
    }
   ],
   "source": [
    "for i in tqdm(range(len(df)), desc='Progress', ncols=77):\n",
    "    if i == 0:\n",
    "        data = '[{\"Url\":\"' + df.loc[0, 'Url'] + '\"}'\n",
    "    elif i == len(df)-1:\n",
    "        data += ',{\"Url\":\"' + df.loc[i, 'Url'] + '\"}]'\n",
    "    else:\n",
    "        data += ',{\"Url\":\"' + df.loc[i, 'Url'] + '\"}'\n",
    "        \n",
    "pyperclip.copy(data)\n",
    "\n",
    "data"
   ]
  },
  {
   "cell_type": "code",
   "execution_count": null,
   "id": "0254124b",
   "metadata": {},
   "outputs": [],
   "source": []
  }
 ],
 "metadata": {
  "kernelspec": {
   "display_name": "Python 3 (ipykernel)",
   "language": "python",
   "name": "python3"
  },
  "language_info": {
   "codemirror_mode": {
    "name": "ipython",
    "version": 3
   },
   "file_extension": ".py",
   "mimetype": "text/x-python",
   "name": "python",
   "nbconvert_exporter": "python",
   "pygments_lexer": "ipython3",
   "version": "3.11.3"
  }
 },
 "nbformat": 4,
 "nbformat_minor": 5
}
