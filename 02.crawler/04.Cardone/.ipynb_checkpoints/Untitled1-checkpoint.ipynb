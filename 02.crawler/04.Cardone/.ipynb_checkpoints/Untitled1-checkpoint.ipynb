{
 "cells": [
  {
   "cell_type": "code",
   "execution_count": 1,
   "id": "591c71f2",
   "metadata": {},
   "outputs": [
    {
     "name": "stdout",
     "output_type": "stream",
     "text": [
      "开始爬取\n"
     ]
    },
    {
     "name": "stderr",
     "output_type": "stream",
     "text": [
      "D:\\Lennon\\python\\venv\\lib\\site-packages\\gevent\\hub.py:161: UserWarning: libuv only supports millisecond timer resolution; all times less will be set to 1 ms\n",
      "  with loop.timer(seconds, ref=ref) as t:\n"
     ]
    }
   ],
   "source": [
    "from gevent import monkey\n",
    "monkey.patch_all()\n",
    "import gevent,time,random\n",
    "from gevent.queue import Queue\n",
    "import pandas as pd\n",
    "from selenium import webdriver\n",
    "from selenium.webdriver.chrome.options import Options\n",
    "from selenium.webdriver.common.by import By\n",
    "from selenium.common.exceptions import TimeoutException\n",
    "from selenium.common.exceptions import WebDriverException\n",
    "from selenium.common.exceptions import NoSuchElementException\n",
    "user_ag='Mozilla/5.0 (Windows NT 10.0; Win64; x64) AppleWebKit/537.36 (KHTML, like Gecko) Chrome/109.0.0.0 Safari/537.36'\n",
    "# driver.implicitly_wait(20)\n",
    "chrome_options=webdriver.ChromeOptions()\n",
    "chrome_options.add_argument('user-agent=%s'%user_ag)\n",
    "chrome_options.add_argument('--proxy-server=http://a002.kdltps.com:15818') #ip代理池\n",
    "# chrome_options.add_argument('blink-settings=imagesEnabled=false')\n",
    "# chrome_options.add_argument('--headless')\n",
    "print('开始爬取')\n",
    "df_cat=pd.read_excel(r'../../file/爬取目录.xlsx')\n",
    "uo=0\n",
    "ssr=0\n",
    "file=1"
   ]
  },
  {
   "cell_type": "code",
   "execution_count": 2,
   "id": "463b12bd",
   "metadata": {},
   "outputs": [
    {
     "name": "stdout",
     "output_type": "stream",
     "text": [
      "爬取第0类，WALKER PRODUCTS  Exhausted & Emission  Exhaust Gas Temperature (EGT) Sensor  17051中\n"
     ]
    }
   ],
   "source": [
    "mau=df_cat.loc[ssr,'品牌']\n",
    "pag=df_cat.loc[ssr,'Part Group']\n",
    "pat=df_cat.loc[ssr,'Part Type']\n",
    "pat_new=pat.replace(\", \",\" \")\n",
    "url_num=df_cat.loc[ssr,'number']\n",
    "print('爬取第{}类，{}  {}  {}  {}中'.format(ssr,mau,pag,pat,url_num))\n",
    "ssr+=1\n",
    "mr=0"
   ]
  },
  {
   "cell_type": "code",
   "execution_count": 67,
   "id": "03fad687",
   "metadata": {},
   "outputs": [
    {
     "data": {
      "text/plain": [
       "'https://www.rockauto.com/en/parts/WALKER PRODUCTS,Exhaust Gas Temperature (EGT) Sensor,17051'"
      ]
     },
     "execution_count": 67,
     "metadata": {},
     "output_type": "execute_result"
    }
   ],
   "source": [
    "'https://www.rockauto.com/en/parts/{},{},{}'.format(mau,pat_new,url_num)"
   ]
  },
  {
   "cell_type": "code",
   "execution_count": 3,
   "id": "6ed7e2c1",
   "metadata": {},
   "outputs": [
    {
     "name": "stderr",
     "output_type": "stream",
     "text": [
      "D:\\Lennon\\python\\venv\\lib\\site-packages\\gevent\\hub.py:161: UserWarning: libuv only supports millisecond timer resolution; all times less will be set to 1 ms\n",
      "  with loop.timer(seconds, ref=ref) as t:\n"
     ]
    }
   ],
   "source": [
    "time.sleep(random.uniform(3,5))\n",
    "driver=webdriver.Chrome(options=chrome_options)\n",
    "driver.get('https://www.rockauto.com/en/parts/{},{},{}'.format(mau,pat_new,url_num))\n",
    "df=pd.DataFrame(columns=['OE'])\n",
    "number=driver.find_elements(By.XPATH,'''//*[@class=\"ranavnode\"]''')"
   ]
  },
  {
   "cell_type": "code",
   "execution_count": 7,
   "id": "d4e3ef00",
   "metadata": {},
   "outputs": [
    {
     "data": {
      "text/html": [
       "<div>\n",
       "<style scoped>\n",
       "    .dataframe tbody tr th:only-of-type {\n",
       "        vertical-align: middle;\n",
       "    }\n",
       "\n",
       "    .dataframe tbody tr th {\n",
       "        vertical-align: top;\n",
       "    }\n",
       "\n",
       "    .dataframe thead th {\n",
       "        text-align: right;\n",
       "    }\n",
       "</style>\n",
       "<table border=\"1\" class=\"dataframe\">\n",
       "  <thead>\n",
       "    <tr style=\"text-align: right;\">\n",
       "      <th></th>\n",
       "      <th>OE</th>\n",
       "    </tr>\n",
       "  </thead>\n",
       "  <tbody>\n",
       "    <tr>\n",
       "      <th>0</th>\n",
       "      <td>10031001</td>\n",
       "    </tr>\n",
       "    <tr>\n",
       "      <th>1</th>\n",
       "      <td>10031002</td>\n",
       "    </tr>\n",
       "    <tr>\n",
       "      <th>2</th>\n",
       "      <td>10031003</td>\n",
       "    </tr>\n",
       "    <tr>\n",
       "      <th>3</th>\n",
       "      <td>10031004</td>\n",
       "    </tr>\n",
       "    <tr>\n",
       "      <th>4</th>\n",
       "      <td>10031005</td>\n",
       "    </tr>\n",
       "    <tr>\n",
       "      <th>...</th>\n",
       "      <td>...</td>\n",
       "    </tr>\n",
       "    <tr>\n",
       "      <th>166</th>\n",
       "      <td>27310417</td>\n",
       "    </tr>\n",
       "    <tr>\n",
       "      <th>167</th>\n",
       "      <td>27310419</td>\n",
       "    </tr>\n",
       "    <tr>\n",
       "      <th>168</th>\n",
       "      <td>27310420</td>\n",
       "    </tr>\n",
       "    <tr>\n",
       "      <th>169</th>\n",
       "      <td>27310425</td>\n",
       "    </tr>\n",
       "    <tr>\n",
       "      <th>170</th>\n",
       "      <td>27310442</td>\n",
       "    </tr>\n",
       "  </tbody>\n",
       "</table>\n",
       "<p>171 rows × 1 columns</p>\n",
       "</div>"
      ],
      "text/plain": [
       "           OE\n",
       "0    10031001\n",
       "1    10031002\n",
       "2    10031003\n",
       "3    10031004\n",
       "4    10031005\n",
       "..        ...\n",
       "166  27310417\n",
       "167  27310419\n",
       "168  27310420\n",
       "169  27310425\n",
       "170  27310442\n",
       "\n",
       "[171 rows x 1 columns]"
      ]
     },
     "execution_count": 7,
     "metadata": {},
     "output_type": "execute_result"
    },
    {
     "name": "stderr",
     "output_type": "stream",
     "text": [
      "D:\\Lennon\\python\\venv\\lib\\site-packages\\gevent\\hub.py:161: UserWarning: libuv only supports millisecond timer resolution; all times less will be set to 1 ms\n",
      "  with loop.timer(seconds, ref=ref) as t:\n"
     ]
    }
   ],
   "source": [
    "h = 0\n",
    "for mmt in number[1:]:\n",
    "    df.loc[h,'OE']=mmt.text\n",
    "    h+=1\n",
    "\n",
    "df"
   ]
  },
  {
   "cell_type": "code",
   "execution_count": null,
   "id": "d55e0028",
   "metadata": {},
   "outputs": [],
   "source": [
    "df_new=pd.DataFrame(columns=['Item', '链接', '标题',\n",
    "           'OEM Part Number','AIN','车型','主图'\n",
    "                                 ,'配件NO','配件数量','配件类别','配件名称','配件图片','配件OE','配件AIN'\n",
    "                                 , '是否更改','更新时间'])"
   ]
  },
  {
   "cell_type": "code",
   "execution_count": 21,
   "id": "7ea5d66c",
   "metadata": {},
   "outputs": [],
   "source": [
    "work=Queue()"
   ]
  },
  {
   "cell_type": "code",
   "execution_count": 22,
   "id": "eaf2870e",
   "metadata": {},
   "outputs": [],
   "source": [
    "for url5 in df['OE']:\n",
    "    work.put_nowait(url5)"
   ]
  },
  {
   "cell_type": "code",
   "execution_count": null,
   "id": "f53f62e6",
   "metadata": {},
   "outputs": [],
   "source": []
  },
  {
   "cell_type": "code",
   "execution_count": null,
   "id": "e2894261",
   "metadata": {},
   "outputs": [],
   "source": [
    "def crawler():\n",
    "    df_craw=pd.DataFrame(columns=['Item', '链接', '标题',\n",
    "           'OEM Part Number','AIN','车型','主图'\n",
    "                                 ,'配件NO','配件数量','配件类别','配件名称','配件图片','配件OE','配件AIN'\n",
    "                                 , '是否更改','更新时间'])\n",
    "    driver=webdriver.Chrome(options=chrome_options)\n",
    "    # driver.set_page_load_timeout(60)\n",
    "    while not work.empty():\n",
    "        url_oe=work.get_nowait()"
   ]
  },
  {
   "cell_type": "code",
   "execution_count": 57,
   "id": "9f63331a",
   "metadata": {},
   "outputs": [
    {
     "name": "stderr",
     "output_type": "stream",
     "text": [
      "D:\\Lennon\\python\\venv\\lib\\site-packages\\gevent\\hub.py:161: UserWarning: libuv only supports millisecond timer resolution; all times less will be set to 1 ms\n",
      "  with loop.timer(seconds, ref=ref) as t:\n"
     ]
    }
   ],
   "source": [
    "driver=webdriver.Chrome(options=chrome_options)\n",
    "driver.get('https://www.rockauto.com/en/parts/{},{},{},{}'.format(mau,df['OE'][150],pat_new,url_num))\n",
    "title=driver.find_element(By.CLASS_NAME,'listing-text-row-moreinfo-truck').text.replace(\"Info\",\"\")\n",
    "pic=driver.find_element(By.CLASS_NAME,'listing-inline-image.listing-inline-image-thumb.listing-inline-image-border').get_attribute(\"src\").replace(\"t.jpg\",\"p.jpg\")"
   ]
  },
  {
   "cell_type": "code",
   "execution_count": 58,
   "id": "c74bf9ea",
   "metadata": {},
   "outputs": [
    {
     "data": {
      "text/plain": [
       "'https://www.rockauto.com/info/724/273-10401_1__ra_m.jpg'"
      ]
     },
     "execution_count": 58,
     "metadata": {},
     "output_type": "execute_result"
    }
   ],
   "source": [
    "pic=driver.find_element(By.CLASS_NAME,'listing-inline-image.listing-inline-image-thumb.listing-inline-image-border').get_attribute(\"src\").replace(\"t.jpg\",\"p.jpg\")\n",
    "\n",
    "pic"
   ]
  },
  {
   "cell_type": "code",
   "execution_count": 59,
   "id": "972f5623",
   "metadata": {},
   "outputs": [],
   "source": [
    "button01=driver.find_element(By.XPATH,'''//*[@title=\"Buyer's Guide\"]''')\n",
    "button01.click()"
   ]
  },
  {
   "cell_type": "code",
   "execution_count": 61,
   "id": "60ebdcef",
   "metadata": {},
   "outputs": [
    {
     "data": {
      "text/plain": [
       "'FREIGHTLINER SPRINTER 2500 2014-2017\\nFREIGHTLINER SPRINTER 3500 2014-2017\\nMERCEDES-BENZ SPRINTER 2500 2013-2020\\nMERCEDES-BENZ SPRINTER 3500 2013-2020\\n'"
      ]
     },
     "execution_count": 61,
     "metadata": {},
     "output_type": "execute_result"
    }
   ],
   "source": [
    "car=driver.find_element(By.CLASS_NAME,'buyersguide-nested').text.replace(\"Please refer to catalog for application details.\",\"\")\n",
    "\n",
    "car"
   ]
  },
  {
   "cell_type": "code",
   "execution_count": 62,
   "id": "f5860127",
   "metadata": {},
   "outputs": [
    {
     "data": {
      "text/plain": [
       "'https://www.rockauto.com/en/moreinfo.php?pk=9854684'"
      ]
     },
     "execution_count": 62,
     "metadata": {},
     "output_type": "execute_result"
    }
   ],
   "source": [
    "info=driver.find_element(By.CLASS_NAME,'ra-btn.ra-btn-moreinfo').get_attribute(\"href\")\n",
    "info"
   ]
  },
  {
   "cell_type": "code",
   "execution_count": 63,
   "id": "bba9fec5",
   "metadata": {},
   "outputs": [
    {
     "name": "stderr",
     "output_type": "stream",
     "text": [
      "Exception ignored in: 'gevent._gevent_c_abstract_linkable.AbstractLinkable._quiet_unlink_all'\n",
      "Traceback (most recent call last):\n",
      "  File \"src\\\\gevent\\\\_abstract_linkable.py\", line 150, in gevent._gevent_c_abstract_linkable.AbstractLinkable.unlink\n",
      "  File \"src\\\\gevent\\\\_abstract_linkable.py\", line 150, in gevent._gevent_c_abstract_linkable.AbstractLinkable.unlink\n",
      "  File \"src\\\\gevent\\\\_abstract_linkable.py\", line 157, in gevent._gevent_c_abstract_linkable.AbstractLinkable.unlink\n",
      "AttributeError: 'int' object has no attribute 'pending'\n"
     ]
    }
   ],
   "source": [
    "driver.get(info)"
   ]
  },
  {
   "cell_type": "code",
   "execution_count": 64,
   "id": "96a25997",
   "metadata": {},
   "outputs": [],
   "source": [
    "OEs=driver.find_elements(By.XPATH,'''//*[@aria-label=\"Alternate/OEM Part Number(s)\"]''')\n",
    "for oe in OEs:\n",
    "    if 'OEM / Interchange Numbers:' in oe.text:\n",
    "        OE=oe.text.replace(\"OEM / Interchange Numbers: \",\"\")\n",
    "    elif 'Alternate Inventory Numbers:' in oe.text:\n",
    "        AIN=oe.text.replace(\"{Alternate Inventory Numbers: \",\"\").replace(\"}\",\"\")"
   ]
  },
  {
   "cell_type": "code",
   "execution_count": 65,
   "id": "abbc495d",
   "metadata": {},
   "outputs": [],
   "source": [
    "button02=driver.find_elements(By.XPATH,'''//*[@class=\"listing-inner altrow-b-0\"]''')"
   ]
  },
  {
   "cell_type": "code",
   "execution_count": null,
   "id": "0a16b6ab",
   "metadata": {},
   "outputs": [],
   "source": []
  },
  {
   "cell_type": "code",
   "execution_count": null,
   "id": "400c274e",
   "metadata": {},
   "outputs": [],
   "source": []
  }
 ],
 "metadata": {
  "kernelspec": {
   "display_name": "Python 3 (ipykernel)",
   "language": "python",
   "name": "python3"
  },
  "language_info": {
   "codemirror_mode": {
    "name": "ipython",
    "version": 3
   },
   "file_extension": ".py",
   "mimetype": "text/x-python",
   "name": "python",
   "nbconvert_exporter": "python",
   "pygments_lexer": "ipython3",
   "version": "3.9.12"
  }
 },
 "nbformat": 4,
 "nbformat_minor": 5
}
