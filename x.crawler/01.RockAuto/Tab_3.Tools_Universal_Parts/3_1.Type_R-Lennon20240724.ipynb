{
 "cells": [
  {
   "cell_type": "code",
   "execution_count": 1,
   "id": "a3ab352a-d243-44f8-b85e-b4f88454ef50",
   "metadata": {},
   "outputs": [],
   "source": [
    "param_date = '20240724'"
   ]
  },
  {
   "cell_type": "code",
   "execution_count": 2,
   "id": "783f89be-0cdc-4912-942e-895cc5f09840",
   "metadata": {},
   "outputs": [],
   "source": [
    "import pandas as pd\n",
    "\n",
    "output_correct, output_error = pd.DataFrame(), pd.DataFrame()"
   ]
  },
  {
   "cell_type": "code",
   "execution_count": 3,
   "id": "1c28f4ff-eee5-4220-a711-cc2f93fe08f0",
   "metadata": {
    "scrolled": true
   },
   "outputs": [
    {
     "name": "stdout",
     "output_type": "stream",
     "text": [
      "总数量：330\n"
     ]
    },
    {
     "data": {
      "text/plain": [
       "['RockAuto Apparel',\n",
       " 'RockAuto Gift',\n",
       " 'ATV / UTV Belt',\n",
       " 'Automotive V-Belt',\n",
       " 'Fluid / Chemical',\n",
       " 'Heavy Duty / Industrial V-Belt',\n",
       " 'Light Duty FHP / Lawn & Garden V-Belt',\n",
       " 'Pulley & Tensioner',\n",
       " 'Refrigeration V-Belt',\n",
       " 'Snowmobile Belt',\n",
       " 'Tool',\n",
       " 'Accessory Lighting',\n",
       " 'Antenna',\n",
       " 'Back Up / Reverse Lamp',\n",
       " 'Body Panel',\n",
       " 'Bumper / Pad',\n",
       " 'Cargo Management',\n",
       " 'Clearance / Side Marker Lamp',\n",
       " 'Door',\n",
       " 'Fender',\n",
       " 'Fluid / Chemical',\n",
       " 'Fog / Driving Lamp',\n",
       " 'Grille',\n",
       " 'Hardware',\n",
       " 'Headlamp',\n",
       " 'Hood',\n",
       " 'Lamp Bezel',\n",
       " 'License Plate',\n",
       " 'Lift Support',\n",
       " 'Mud Flap',\n",
       " 'Outside Mirror',\n",
       " 'Overspray Protection',\n",
       " 'Painting',\n",
       " 'Parking / Turn Signal Lamp',\n",
       " 'Polishing',\n",
       " 'Recovery Gear',\n",
       " 'Reflector',\n",
       " 'Retainer / Clip',\n",
       " 'Running Board',\n",
       " 'Stop, Turn, & Tail Lamp',\n",
       " 'Tape',\n",
       " 'Tool',\n",
       " 'Towing - Fifth Wheel',\n",
       " 'Towing - Flat / Vehicle',\n",
       " 'Towing - Trailer',\n",
       " 'Towing Enhancement',\n",
       " 'Trim / Molding',\n",
       " 'Weatherstrip',\n",
       " 'Air Brake',\n",
       " 'Axle/Spindle',\n",
       " 'Brake Line',\n",
       " 'Brake Shoe',\n",
       " 'Caliper',\n",
       " 'Drum',\n",
       " 'Fluid / Chemical',\n",
       " 'Master Cylinder',\n",
       " 'Parking Brake',\n",
       " 'Power Brake',\n",
       " 'Tool',\n",
       " 'Wheel Bearing & Hub',\n",
       " 'Wheel Cylinder',\n",
       " 'Cooling',\n",
       " 'Fluid / Chemical',\n",
       " 'Radiator',\n",
       " 'Sender / Sensor',\n",
       " 'Thermostat',\n",
       " 'Tool',\n",
       " 'Water Pump',\n",
       " 'Bumper / Pad',\n",
       " 'CV Axle',\n",
       " 'Fluid / Chemical',\n",
       " 'Tool',\n",
       " 'Alternator / Generator',\n",
       " 'Battery',\n",
       " 'Circuit Breaker',\n",
       " 'Firewall',\n",
       " 'Flasher',\n",
       " 'Fluid / Chemical',\n",
       " 'Fuse',\n",
       " 'Horn / Alarm',\n",
       " 'Key FOB',\n",
       " 'Park Assist',\n",
       " 'Starter',\n",
       " 'Tool',\n",
       " 'Wire',\n",
       " 'Wire Management',\n",
       " 'LED Bulb Adapter',\n",
       " 'Light Bulb',\n",
       " 'Socket',\n",
       " 'Accessory Lighting Plugs',\n",
       " 'Battery Connector',\n",
       " 'Specialty Connector',\n",
       " 'Tool',\n",
       " 'Trailer Wiring',\n",
       " 'Wire Connector',\n",
       " 'Battery',\n",
       " 'Relay',\n",
       " 'Specialty Switch',\n",
       " 'Switch',\n",
       " 'Tool',\n",
       " 'Towing Enhancement',\n",
       " 'Cylinder Head',\n",
       " 'Dipstick',\n",
       " 'Fluid / Chemical',\n",
       " 'Gasket',\n",
       " 'Heat Shield',\n",
       " 'Heater',\n",
       " 'Mount',\n",
       " 'Oil',\n",
       " 'Oil Cooler',\n",
       " 'Oil Drain',\n",
       " 'Oil Filler',\n",
       " 'Oil Filter',\n",
       " 'Rebuilders Valves',\n",
       " 'Timing Belt',\n",
       " 'Timing Chain',\n",
       " 'Tool',\n",
       " 'Valve Cover',\n",
       " 'Catalytic Converter',\n",
       " 'Clamp',\n",
       " 'Exhaust System Kit',\n",
       " 'Fluid / Chemical',\n",
       " 'Hanger / Bracket',\n",
       " 'Hardware',\n",
       " 'Muffler',\n",
       " 'Oxygen Sensor',\n",
       " 'Pipe',\n",
       " 'Pipe Flange',\n",
       " 'Pipe Repair',\n",
       " 'Pipe Spout / Tip',\n",
       " 'Rain Cap',\n",
       " 'Resonator',\n",
       " 'Tool',\n",
       " 'Carburetor',\n",
       " 'Filler Neck',\n",
       " 'Fluid / Chemical',\n",
       " 'Fuel Filter',\n",
       " 'Fuel Injector',\n",
       " 'Fuel Line',\n",
       " 'Fuel Pump',\n",
       " 'Fuel Tank',\n",
       " 'Fuel Tank Sending Unit',\n",
       " 'Tool',\n",
       " 'Air Compressor',\n",
       " 'Applicator Gun',\n",
       " 'Axe / Hammer',\n",
       " 'Blanket / Tarp',\n",
       " 'Bottle / Sprayer',\n",
       " 'Brush / Squeegee',\n",
       " 'Cart / Dolly',\n",
       " 'Caulk Gun',\n",
       " 'Chisel / Scraper',\n",
       " 'Clamp',\n",
       " 'Cleanup',\n",
       " 'Creeper / Seat',\n",
       " 'Cutting / Grinding',\n",
       " 'Dilution',\n",
       " 'Drain Pan',\n",
       " 'Drill',\n",
       " 'Engine Crane / Stand',\n",
       " 'Extension Cord',\n",
       " 'Fan / Heater',\n",
       " 'Fender Cover',\n",
       " 'Floor Mat',\n",
       " 'Fluid / Chemical',\n",
       " 'Funnel',\n",
       " 'Grease Gun',\n",
       " 'Heat Gun',\n",
       " 'Jack',\n",
       " 'Ladder / Step Stool',\n",
       " 'Lighting',\n",
       " 'Magnet / Mirror',\n",
       " 'Marker / Stamp',\n",
       " 'Measurement Tool',\n",
       " 'Nut Driver',\n",
       " 'Pick / Punch',\n",
       " 'Pliers',\n",
       " 'Press',\n",
       " 'Pry Bar',\n",
       " 'Puller / Extractor',\n",
       " 'Ratchet',\n",
       " 'Riveter / Staple Gun',\n",
       " 'Safety',\n",
       " 'Sanding / Filing',\n",
       " 'Sawing',\n",
       " 'Screwdriver',\n",
       " 'Siphon',\n",
       " 'Socket',\n",
       " 'Soldering',\n",
       " 'Stethoscope',\n",
       " 'Tape',\n",
       " 'Thermometer',\n",
       " 'Tool Set / Storage',\n",
       " 'Vehicle Inspection',\n",
       " 'Vise',\n",
       " 'Wire',\n",
       " 'Workbench / Stand',\n",
       " 'Wrench',\n",
       " 'Bolt',\n",
       " 'Clip',\n",
       " 'Grease Fitting',\n",
       " 'Grommet',\n",
       " 'Key',\n",
       " 'Label',\n",
       " 'Nut',\n",
       " 'O-Ring',\n",
       " 'Pin',\n",
       " 'Plug / Button',\n",
       " 'Rivet',\n",
       " 'Rod',\n",
       " 'Screw',\n",
       " 'Spring',\n",
       " 'Stud',\n",
       " 'Washer',\n",
       " 'A/C Compressor',\n",
       " 'A/C Condenser',\n",
       " 'A/C Receiver Drier / Accumulator',\n",
       " 'A/C Refrigerant Line',\n",
       " 'Cabin Air Filter',\n",
       " 'Fluid / Chemical',\n",
       " 'Leak Detection',\n",
       " 'Retro Fitting',\n",
       " 'Seal',\n",
       " 'Tool',\n",
       " 'A/C Hose',\n",
       " 'Air Brake Hose',\n",
       " 'Air Hose',\n",
       " 'Air Vent Hose',\n",
       " 'Clamp',\n",
       " 'Coolant Hose',\n",
       " 'Copper Tubing',\n",
       " 'Defroster Hose',\n",
       " 'Driveway Signal Device Hose',\n",
       " 'Exhaust & Emission Hose',\n",
       " 'Fitting - Connector',\n",
       " 'Fitting - Elbow',\n",
       " 'Fitting - End Cap',\n",
       " 'Fitting - Nut',\n",
       " 'Fitting - Plug',\n",
       " 'Fitting - Reducer',\n",
       " 'Fitting - Sleeve',\n",
       " 'Fitting - Tee',\n",
       " 'Fitting - Union',\n",
       " 'Fuel Line / Hose',\n",
       " 'Heater Hose',\n",
       " 'Hydraulic Line',\n",
       " 'Multi-Use Hose',\n",
       " 'Nylon Tubing Fitting',\n",
       " 'Power Steering Hose',\n",
       " 'Tool',\n",
       " 'Transmission Fluid Cooler Line / Hose',\n",
       " 'Turbocharger / Intercooler Hose',\n",
       " 'Vacuum',\n",
       " 'Valve',\n",
       " 'Water Hose',\n",
       " 'Distributor',\n",
       " 'Electrical',\n",
       " 'Ignition Coil / Wiring',\n",
       " 'Spark Plug / Wiring',\n",
       " 'Starting',\n",
       " 'Tool',\n",
       " 'Bumper / Pad',\n",
       " 'Cable',\n",
       " 'Cargo Management',\n",
       " 'Cell Phone',\n",
       " 'Cigarette Lighter',\n",
       " 'Clock',\n",
       " 'Cup Holder',\n",
       " 'Dash',\n",
       " 'Dome Lamp',\n",
       " 'Door',\n",
       " 'Floor Mat',\n",
       " 'Flooring',\n",
       " 'Fluid / Chemical',\n",
       " 'Gauge',\n",
       " 'Grab Bar',\n",
       " 'Hardware',\n",
       " 'Interior Lighting',\n",
       " 'Mirror',\n",
       " 'Parking Brake Lever',\n",
       " 'Radio / Speaker',\n",
       " 'Retainer / Clip',\n",
       " 'Seat',\n",
       " 'Seat Belt',\n",
       " 'Shifter',\n",
       " 'Steering Wheel',\n",
       " 'Switch',\n",
       " 'Tool',\n",
       " 'Trunk',\n",
       " 'Window',\n",
       " 'Wire',\n",
       " 'Repair Manual',\n",
       " 'Fluid / Chemical',\n",
       " 'Power Steering',\n",
       " 'Steering Column',\n",
       " 'Steering Damper',\n",
       " 'Tie Rod End',\n",
       " 'Tool',\n",
       " 'Caster / Camber',\n",
       " 'Coil Spring',\n",
       " 'Fluid / Chemical',\n",
       " 'Leaf Spring',\n",
       " 'Shock Absorber',\n",
       " 'Tool',\n",
       " 'Dipstick',\n",
       " 'Drain Plug',\n",
       " 'Filter',\n",
       " 'Fluid / Chemical',\n",
       " 'O-Ring',\n",
       " 'Oil Cooler',\n",
       " 'Shift Linkage',\n",
       " 'Tool',\n",
       " 'Torque Converter',\n",
       " 'Fluid / Chemical',\n",
       " 'Flywheel',\n",
       " 'Tool',\n",
       " 'Fluid / Chemical',\n",
       " 'Hardware',\n",
       " 'Tire',\n",
       " 'Tool',\n",
       " 'Wheel',\n",
       " 'Fluid / Chemical',\n",
       " 'Tool',\n",
       " 'Windshield Treatment',\n",
       " 'Windshield Washer',\n",
       " 'Wiper Arm',\n",
       " 'Wiper Blade',\n",
       " 'Wiper Blade Refill',\n",
       " 'Wiper Linkage',\n",
       " 'Wiper Motor']"
      ]
     },
     "execution_count": 3,
     "metadata": {},
     "output_type": "execute_result"
    }
   ],
   "source": [
    "input_ = pd.read_excel(f'./{param_date}/2.subgroup.xlsx',\n",
    "                       header=0,\n",
    "                       dtype=str).fillna('')\n",
    "\n",
    "input_['Group No'] = input_['Group No'].astype(int)\n",
    "input_['Subgroup No'] = input_['Subgroup No'].astype(int)\n",
    "\n",
    "print(f'总数量：{len(input_)}')\n",
    "input_['Subgroup'].tolist()"
   ]
  },
  {
   "cell_type": "code",
   "execution_count": 4,
   "id": "5878a9f0-d639-4123-b6e0-bc564f72c2d6",
   "metadata": {},
   "outputs": [
    {
     "data": {
      "text/plain": [
       "0"
      ]
     },
     "execution_count": 4,
     "metadata": {},
     "output_type": "execute_result"
    }
   ],
   "source": [
    "a = 0\n",
    "\n",
    "a"
   ]
  },
  {
   "cell_type": "code",
   "execution_count": 5,
   "id": "9f61dd65-55da-4d0b-ba30-d0534eff0781",
   "metadata": {},
   "outputs": [
    {
     "data": {
      "text/plain": [
       "'error'"
      ]
     },
     "execution_count": 5,
     "metadata": {},
     "output_type": "execute_result"
    }
   ],
   "source": [
    "crawler_status = 'error'\n",
    "\n",
    "crawler_status"
   ]
  },
  {
   "cell_type": "code",
   "execution_count": 6,
   "id": "523cc867",
   "metadata": {
    "scrolled": true
   },
   "outputs": [
    {
     "name": "stdout",
     "output_type": "stream",
     "text": [
      "1\n"
     ]
    },
    {
     "data": {
      "text/plain": [
       "<Response [200]>"
      ]
     },
     "execution_count": 6,
     "metadata": {},
     "output_type": "execute_result"
    }
   ],
   "source": [
    "import requests\n",
    "import json\n",
    "\n",
    "import sys\n",
    "sys.path.append('../../00.Tools')\n",
    "from crawler_configuration import get_header, get_proxy\n",
    "\n",
    "payload = {'jsn': {'tab': 'extras',\n",
    "                   'groupname': input_.loc[a, 'Group'],\n",
    "                   'subgroupname': input_.loc[a, 'Subgroup'],\n",
    "                   'nodetype': 'subgroupname'}}\n",
    "\n",
    "data = {'func': 'navnode_fetch',\n",
    "        'payload': json.dumps(payload),\n",
    "        'api_json_request': '1'}\n",
    "\n",
    "b = 0\n",
    "while True:\n",
    "\n",
    "    while True:\n",
    "        b += 1\n",
    "        print(b)\n",
    "        try:\n",
    "            resp = requests.post('https://www.rockauto.com/catalog/catalogapi.php',\n",
    "                                 data=data,\n",
    "                                 headers=get_header(),\n",
    "                                 proxies=get_proxy(),\n",
    "                                 timeout=(10, 10))\n",
    "            break\n",
    "        except:\n",
    "            continue\n",
    "\n",
    "    if resp.status_code == 200:\n",
    "        break\n",
    "\n",
    "resp"
   ]
  },
  {
   "cell_type": "code",
   "execution_count": 7,
   "id": "3be6677e-d86b-4f58-a0d7-fb2636a4bf34",
   "metadata": {
    "scrolled": true
   },
   "outputs": [
    {
     "data": {
      "text/plain": [
       "{'html_fill_sections': {'navchildren[]': '<div class=\"ranavnode\" id=\"nav[__GIP__1__]\"><input type=\"hidden\" autocomplete=\"off\" id=\"jsn[__GIP__1__]\" value=\"{&quot;groupindex&quot;:&quot;__GIP__1__&quot;,&quot;tab&quot;:&quot;extras&quot;,&quot;idepth&quot;:1,&quot;groupname&quot;:&quot;Apparel &amp; Gifts&quot;,&quot;subgroupname&quot;:&quot;RockAuto Apparel&quot;,&quot;parttype&quot;:&quot;131&quot;,&quot;nodetype&quot;:&quot;parttype&quot;}\" /><input type=\"hidden\" autocomplete=\"off\" name=\"navnodeunique[extras-apparel &amp; gifts-rockauto apparel-131]\" id=\"navnodeunique[extras-apparel &amp; gifts-rockauto apparel-131]\" value=\"__GIP__1__\" /><div id=\"nav_o[__GIP__1__]\" class=\"ranavouter\"><div class=\"inner\"><table class=\"tbl\"  cellpadding=\"0\" cellspacing=\"0\"><tr><td class=\"niconspace nvlineicon\"></td><td class=\"niconspace ncollapsedicon\" id=\"navicon[__GIP__1__]\"><a href=\"/en/tools/apparel+&amp;+gifts,rockauto+apparel,hat,131\" onclick=\"cataloglite.LinkIntercept_ToggleNavNode(&quot;__GIP__1__&quot;); return false;\" tabindex=\"-1\"><img src=\"/Images/1pxtransparent.png\" alt=\"Toggle\"></a></td><td class=\"nlabel\" ><a class=\"navlabellink nvoffset nnormal\" href=\"/en/tools/apparel+&amp;+gifts,rockauto+apparel,hat,131\" onclick=\"cataloglite.LinkIntercept_ToggleNavNode(&quot;__GIP__1__&quot;); return false;\" id=\"navhref[__GIP__1__]\">Hat</a></td></tr></table></div></div><div class=\"nchildren ra-hide\" id=\"navchildren[__GIP__1__]\" ></div></div><div class=\"ranavnode\" id=\"nav[__GIP__2__]\"><input type=\"hidden\" autocomplete=\"off\" id=\"jsn[__GIP__2__]\" value=\"{&quot;groupindex&quot;:&quot;__GIP__2__&quot;,&quot;tab&quot;:&quot;extras&quot;,&quot;idepth&quot;:1,&quot;groupname&quot;:&quot;Apparel &amp; Gifts&quot;,&quot;subgroupname&quot;:&quot;RockAuto Apparel&quot;,&quot;parttype&quot;:&quot;1002098&quot;,&quot;nodetype&quot;:&quot;parttype&quot;}\" /><input type=\"hidden\" autocomplete=\"off\" name=\"navnodeunique[extras-apparel &amp; gifts-rockauto apparel-1002098]\" id=\"navnodeunique[extras-apparel &amp; gifts-rockauto apparel-1002098]\" value=\"__GIP__2__\" /><div id=\"nav_o[__GIP__2__]\" class=\"ranavouter\"><div class=\"inner\"><table class=\"tbl\"  cellpadding=\"0\" cellspacing=\"0\"><tr><td class=\"niconspace nvlineicon\"></td><td class=\"niconspace ncollapsedicon\" id=\"navicon[__GIP__2__]\"><a href=\"/en/tools/apparel+&amp;+gifts,rockauto+apparel,hoodie,1002098\" onclick=\"cataloglite.LinkIntercept_ToggleNavNode(&quot;__GIP__2__&quot;); return false;\" tabindex=\"-1\"><img src=\"/Images/1pxtransparent.png\" alt=\"Toggle\"></a></td><td class=\"nlabel\" ><a class=\"navlabellink nvoffset nnormal\" href=\"/en/tools/apparel+&amp;+gifts,rockauto+apparel,hoodie,1002098\" onclick=\"cataloglite.LinkIntercept_ToggleNavNode(&quot;__GIP__2__&quot;); return false;\" id=\"navhref[__GIP__2__]\">Hoodie</a></td></tr></table></div></div><div class=\"nchildren ra-hide\" id=\"navchildren[__GIP__2__]\" ></div></div><div class=\"ranavnode\" id=\"nav[__GIP__3__]\"><input type=\"hidden\" autocomplete=\"off\" id=\"jsn[__GIP__3__]\" value=\"{&quot;groupindex&quot;:&quot;__GIP__3__&quot;,&quot;tab&quot;:&quot;extras&quot;,&quot;idepth&quot;:1,&quot;groupname&quot;:&quot;Apparel &amp; Gifts&quot;,&quot;subgroupname&quot;:&quot;RockAuto Apparel&quot;,&quot;parttype&quot;:&quot;256&quot;,&quot;nodetype&quot;:&quot;parttype&quot;}\" /><input type=\"hidden\" autocomplete=\"off\" name=\"navnodeunique[extras-apparel &amp; gifts-rockauto apparel-256]\" id=\"navnodeunique[extras-apparel &amp; gifts-rockauto apparel-256]\" value=\"__GIP__3__\" /><div id=\"nav_o[__GIP__3__]\" class=\"ranavouter\"><div class=\"inner\"><table class=\"tbl\"  cellpadding=\"0\" cellspacing=\"0\"><tr><td class=\"niconspace nvlineicon\"></td><td class=\"niconspace ncollapsedicon\" id=\"navicon[__GIP__3__]\"><a href=\"/en/tools/apparel+&amp;+gifts,rockauto+apparel,t-shirt,256\" onclick=\"cataloglite.LinkIntercept_ToggleNavNode(&quot;__GIP__3__&quot;); return false;\" tabindex=\"-1\"><img src=\"/Images/1pxtransparent.png\" alt=\"Toggle\"></a></td><td class=\"nlabel\" ><a class=\"navlabellink nvoffset nnormal\" href=\"/en/tools/apparel+&amp;+gifts,rockauto+apparel,t-shirt,256\" onclick=\"cataloglite.LinkIntercept_ToggleNavNode(&quot;__GIP__3__&quot;); return false;\" id=\"navhref[__GIP__3__]\">T-Shirt</a></td></tr></table></div></div><div class=\"nchildren ra-hide\" id=\"navchildren[__GIP__3__]\" ></div></div>'},\n",
       " 'jsn': {'tab': 'extras',\n",
       "  'groupname': 'Apparel & Gifts',\n",
       "  'subgroupname': 'RockAuto Apparel',\n",
       "  'nodetype': 'subgroupname',\n",
       "  'idepth': 0},\n",
       " 'collected_javascript': '/**UQ:B2F0DA0B**/\\nwindow.top.parent.window[\"_nck\"] = \"8LVLUxTaILBT+tLxkg8+3Ag7\\\\/0bbOhvn7P3rkFbL809YNOHQDmNBznFtdYfbcEUriQ0mcmy\\\\/TcWfcbfHTjxSwndfe2chgzy88liHO2MoAcp7wW7lek5DxawTLSg\\\\/DpYUwwgKwrMfy33KXt0mHe+QhssrEXZMtePPyo2vwfcw2II=\";\\n'}"
      ]
     },
     "execution_count": 7,
     "metadata": {},
     "output_type": "execute_result"
    }
   ],
   "source": [
    "json_ = resp.json()\n",
    "\n",
    "json_"
   ]
  },
  {
   "cell_type": "code",
   "execution_count": 8,
   "id": "a1df70d5-3b56-4a43-b940-9ff2bbfa99b7",
   "metadata": {},
   "outputs": [
    {
     "data": {
      "text/plain": [
       "False"
      ]
     },
     "execution_count": 8,
     "metadata": {},
     "output_type": "execute_result"
    }
   ],
   "source": [
    "'redirect_to_url' in json_"
   ]
  },
  {
   "cell_type": "code",
   "execution_count": 9,
   "id": "0537d1b4-b547-4b92-b1d5-a7ef7f208acf",
   "metadata": {},
   "outputs": [
    {
     "data": {
      "text/plain": [
       "True"
      ]
     },
     "execution_count": 9,
     "metadata": {},
     "output_type": "execute_result"
    }
   ],
   "source": [
    "json_['jsn']['tab'] == 'extras' and json_['jsn']['groupname'] == input_.loc[a, 'Group'] and json_['jsn']['subgroupname'] == input_.loc[a, 'Subgroup'] and json_['jsn']['nodetype'] == 'subgroupname' and 'collected_javascript' in json_"
   ]
  },
  {
   "cell_type": "code",
   "execution_count": 10,
   "id": "86ef5f53-4ba1-4024-af2a-5ad7c6898c6a",
   "metadata": {
    "scrolled": true
   },
   "outputs": [
    {
     "name": "stdout",
     "output_type": "stream",
     "text": [
      "<html>\n",
      " <body>\n",
      "  <div class=\"ranavnode\" id=\"nav[__GIP__1__]\">\n",
      "   <input autocomplete=\"off\" id=\"jsn[__GIP__1__]\" type=\"hidden\" value='{\"groupindex\":\"__GIP__1__\",\"tab\":\"extras\",\"idepth\":1,\"groupname\":\"Apparel &amp; Gifts\",\"subgroupname\":\"RockAuto Apparel\",\"parttype\":\"131\",\"nodetype\":\"parttype\"}'/>\n",
      "   <input autocomplete=\"off\" id=\"navnodeunique[extras-apparel &amp; gifts-rockauto apparel-131]\" name=\"navnodeunique[extras-apparel &amp; gifts-rockauto apparel-131]\" type=\"hidden\" value=\"__GIP__1__\"/>\n",
      "   <div class=\"ranavouter\" id=\"nav_o[__GIP__1__]\">\n",
      "    <div class=\"inner\">\n",
      "     <table cellpadding=\"0\" cellspacing=\"0\" class=\"tbl\">\n",
      "      <tr>\n",
      "       <td class=\"niconspace nvlineicon\">\n",
      "       </td>\n",
      "       <td class=\"niconspace ncollapsedicon\" id=\"navicon[__GIP__1__]\">\n",
      "        <a href=\"/en/tools/apparel+&amp;+gifts,rockauto+apparel,hat,131\" onclick='cataloglite.LinkIntercept_ToggleNavNode(\"__GIP__1__\"); return false;' tabindex=\"-1\">\n",
      "         <img alt=\"Toggle\" src=\"/Images/1pxtransparent.png\"/>\n",
      "        </a>\n",
      "       </td>\n",
      "       <td class=\"nlabel\">\n",
      "        <a class=\"navlabellink nvoffset nnormal\" href=\"/en/tools/apparel+&amp;+gifts,rockauto+apparel,hat,131\" id=\"navhref[__GIP__1__]\" onclick='cataloglite.LinkIntercept_ToggleNavNode(\"__GIP__1__\"); return false;'>\n",
      "         Hat\n",
      "        </a>\n",
      "       </td>\n",
      "      </tr>\n",
      "     </table>\n",
      "    </div>\n",
      "   </div>\n",
      "   <div class=\"nchildren ra-hide\" id=\"navchildren[__GIP__1__]\">\n",
      "   </div>\n",
      "  </div>\n",
      "  <div class=\"ranavnode\" id=\"nav[__GIP__2__]\">\n",
      "   <input autocomplete=\"off\" id=\"jsn[__GIP__2__]\" type=\"hidden\" value='{\"groupindex\":\"__GIP__2__\",\"tab\":\"extras\",\"idepth\":1,\"groupname\":\"Apparel &amp; Gifts\",\"subgroupname\":\"RockAuto Apparel\",\"parttype\":\"1002098\",\"nodetype\":\"parttype\"}'/>\n",
      "   <input autocomplete=\"off\" id=\"navnodeunique[extras-apparel &amp; gifts-rockauto apparel-1002098]\" name=\"navnodeunique[extras-apparel &amp; gifts-rockauto apparel-1002098]\" type=\"hidden\" value=\"__GIP__2__\"/>\n",
      "   <div class=\"ranavouter\" id=\"nav_o[__GIP__2__]\">\n",
      "    <div class=\"inner\">\n",
      "     <table cellpadding=\"0\" cellspacing=\"0\" class=\"tbl\">\n",
      "      <tr>\n",
      "       <td class=\"niconspace nvlineicon\">\n",
      "       </td>\n",
      "       <td class=\"niconspace ncollapsedicon\" id=\"navicon[__GIP__2__]\">\n",
      "        <a href=\"/en/tools/apparel+&amp;+gifts,rockauto+apparel,hoodie,1002098\" onclick='cataloglite.LinkIntercept_ToggleNavNode(\"__GIP__2__\"); return false;' tabindex=\"-1\">\n",
      "         <img alt=\"Toggle\" src=\"/Images/1pxtransparent.png\"/>\n",
      "        </a>\n",
      "       </td>\n",
      "       <td class=\"nlabel\">\n",
      "        <a class=\"navlabellink nvoffset nnormal\" href=\"/en/tools/apparel+&amp;+gifts,rockauto+apparel,hoodie,1002098\" id=\"navhref[__GIP__2__]\" onclick='cataloglite.LinkIntercept_ToggleNavNode(\"__GIP__2__\"); return false;'>\n",
      "         Hoodie\n",
      "        </a>\n",
      "       </td>\n",
      "      </tr>\n",
      "     </table>\n",
      "    </div>\n",
      "   </div>\n",
      "   <div class=\"nchildren ra-hide\" id=\"navchildren[__GIP__2__]\">\n",
      "   </div>\n",
      "  </div>\n",
      "  <div class=\"ranavnode\" id=\"nav[__GIP__3__]\">\n",
      "   <input autocomplete=\"off\" id=\"jsn[__GIP__3__]\" type=\"hidden\" value='{\"groupindex\":\"__GIP__3__\",\"tab\":\"extras\",\"idepth\":1,\"groupname\":\"Apparel &amp; Gifts\",\"subgroupname\":\"RockAuto Apparel\",\"parttype\":\"256\",\"nodetype\":\"parttype\"}'/>\n",
      "   <input autocomplete=\"off\" id=\"navnodeunique[extras-apparel &amp; gifts-rockauto apparel-256]\" name=\"navnodeunique[extras-apparel &amp; gifts-rockauto apparel-256]\" type=\"hidden\" value=\"__GIP__3__\"/>\n",
      "   <div class=\"ranavouter\" id=\"nav_o[__GIP__3__]\">\n",
      "    <div class=\"inner\">\n",
      "     <table cellpadding=\"0\" cellspacing=\"0\" class=\"tbl\">\n",
      "      <tr>\n",
      "       <td class=\"niconspace nvlineicon\">\n",
      "       </td>\n",
      "       <td class=\"niconspace ncollapsedicon\" id=\"navicon[__GIP__3__]\">\n",
      "        <a href=\"/en/tools/apparel+&amp;+gifts,rockauto+apparel,t-shirt,256\" onclick='cataloglite.LinkIntercept_ToggleNavNode(\"__GIP__3__\"); return false;' tabindex=\"-1\">\n",
      "         <img alt=\"Toggle\" src=\"/Images/1pxtransparent.png\"/>\n",
      "        </a>\n",
      "       </td>\n",
      "       <td class=\"nlabel\">\n",
      "        <a class=\"navlabellink nvoffset nnormal\" href=\"/en/tools/apparel+&amp;+gifts,rockauto+apparel,t-shirt,256\" id=\"navhref[__GIP__3__]\" onclick='cataloglite.LinkIntercept_ToggleNavNode(\"__GIP__3__\"); return false;'>\n",
      "         T-Shirt\n",
      "        </a>\n",
      "       </td>\n",
      "      </tr>\n",
      "     </table>\n",
      "    </div>\n",
      "   </div>\n",
      "   <div class=\"nchildren ra-hide\" id=\"navchildren[__GIP__3__]\">\n",
      "   </div>\n",
      "  </div>\n",
      " </body>\n",
      "</html>\n",
      "\n"
     ]
    }
   ],
   "source": [
    "from bs4 import BeautifulSoup\n",
    "from lxml import etree\n",
    "\n",
    "soup = BeautifulSoup(json_['html_fill_sections']['navchildren[]'], 'lxml')\n",
    "html = etree.HTML(str(soup))\n",
    "\n",
    "with open('./type.html', 'w', encoding='UTF-8') as file:\n",
    "    file.write(str(soup))\n",
    "\n",
    "print(soup.prettify())"
   ]
  },
  {
   "cell_type": "code",
   "execution_count": 11,
   "id": "5ead8fcb-2178-428a-9f72-5730837cb4ff",
   "metadata": {
    "scrolled": true
   },
   "outputs": [
    {
     "data": {
      "text/plain": [
       "['{\"groupindex\":\"__GIP__1__\",\"tab\":\"extras\",\"idepth\":1,\"groupname\":\"Apparel & Gifts\",\"subgroupname\":\"RockAuto Apparel\",\"parttype\":\"131\",\"nodetype\":\"parttype\"}',\n",
       " '{\"groupindex\":\"__GIP__2__\",\"tab\":\"extras\",\"idepth\":1,\"groupname\":\"Apparel & Gifts\",\"subgroupname\":\"RockAuto Apparel\",\"parttype\":\"1002098\",\"nodetype\":\"parttype\"}',\n",
       " '{\"groupindex\":\"__GIP__3__\",\"tab\":\"extras\",\"idepth\":1,\"groupname\":\"Apparel & Gifts\",\"subgroupname\":\"RockAuto Apparel\",\"parttype\":\"256\",\"nodetype\":\"parttype\"}']"
      ]
     },
     "execution_count": 11,
     "metadata": {},
     "output_type": "execute_result"
    }
   ],
   "source": [
    "list_json = html.xpath('//input[contains(@id, \"jsn[__GIP__\")]/@value')\n",
    "\n",
    "list_json"
   ]
  },
  {
   "cell_type": "code",
   "execution_count": 12,
   "id": "5ad25377-f548-4339-8c91-b3b60a0ce9d3",
   "metadata": {},
   "outputs": [
    {
     "data": {
      "text/plain": [
       "['131', '1002098', '256']"
      ]
     },
     "execution_count": 12,
     "metadata": {},
     "output_type": "execute_result"
    }
   ],
   "source": [
    "list_type_code = [json.loads(json_)['parttype'] for json_ in list_json]\n",
    "\n",
    "list_type_code"
   ]
  },
  {
   "cell_type": "code",
   "execution_count": 13,
   "id": "4deb0b43-a22d-4143-b8cd-c8d7061d26f3",
   "metadata": {},
   "outputs": [
    {
     "data": {
      "text/plain": [
       "['Hat', 'Hoodie', 'T-Shirt']"
      ]
     },
     "execution_count": 13,
     "metadata": {},
     "output_type": "execute_result"
    }
   ],
   "source": [
    "list_type = html.xpath('//td[@class=\"nlabel\"]/a/text()')\n",
    "\n",
    "list_type"
   ]
  },
  {
   "cell_type": "code",
   "execution_count": 14,
   "id": "db2cfe53-a29f-41fe-a124-68e667a775a4",
   "metadata": {},
   "outputs": [
    {
     "data": {
      "text/plain": [
       "False"
      ]
     },
     "execution_count": 14,
     "metadata": {},
     "output_type": "execute_result"
    }
   ],
   "source": [
    "len(list_type) == 0"
   ]
  },
  {
   "cell_type": "code",
   "execution_count": 15,
   "id": "96f1239b-50f9-42d4-b879-831dc05deb48",
   "metadata": {
    "scrolled": true
   },
   "outputs": [
    {
     "data": {
      "text/html": [
       "<div>\n",
       "<style scoped>\n",
       "    .dataframe tbody tr th:only-of-type {\n",
       "        vertical-align: middle;\n",
       "    }\n",
       "\n",
       "    .dataframe tbody tr th {\n",
       "        vertical-align: top;\n",
       "    }\n",
       "\n",
       "    .dataframe thead th {\n",
       "        text-align: right;\n",
       "    }\n",
       "</style>\n",
       "<table border=\"1\" class=\"dataframe\">\n",
       "  <thead>\n",
       "    <tr style=\"text-align: right;\">\n",
       "      <th></th>\n",
       "      <th>Group No</th>\n",
       "      <th>Group</th>\n",
       "      <th>Subgroup No</th>\n",
       "      <th>Subgroup</th>\n",
       "      <th>Type No</th>\n",
       "      <th>Type</th>\n",
       "      <th>Type Code</th>\n",
       "      <th>Tab 3 Url</th>\n",
       "    </tr>\n",
       "  </thead>\n",
       "  <tbody>\n",
       "    <tr>\n",
       "      <th>0</th>\n",
       "      <td>1</td>\n",
       "      <td>Apparel &amp; Gifts</td>\n",
       "      <td>1</td>\n",
       "      <td>RockAuto Apparel</td>\n",
       "      <td>1</td>\n",
       "      <td>Hat</td>\n",
       "      <td>131</td>\n",
       "      <td>https://www.rockauto.com/en/tools/Apparel &amp; Gi...</td>\n",
       "    </tr>\n",
       "    <tr>\n",
       "      <th>1</th>\n",
       "      <td>1</td>\n",
       "      <td>Apparel &amp; Gifts</td>\n",
       "      <td>1</td>\n",
       "      <td>RockAuto Apparel</td>\n",
       "      <td>2</td>\n",
       "      <td>Hoodie</td>\n",
       "      <td>1002098</td>\n",
       "      <td>https://www.rockauto.com/en/tools/Apparel &amp; Gi...</td>\n",
       "    </tr>\n",
       "    <tr>\n",
       "      <th>2</th>\n",
       "      <td>1</td>\n",
       "      <td>Apparel &amp; Gifts</td>\n",
       "      <td>1</td>\n",
       "      <td>RockAuto Apparel</td>\n",
       "      <td>3</td>\n",
       "      <td>T-Shirt</td>\n",
       "      <td>256</td>\n",
       "      <td>https://www.rockauto.com/en/tools/Apparel &amp; Gi...</td>\n",
       "    </tr>\n",
       "  </tbody>\n",
       "</table>\n",
       "</div>"
      ],
      "text/plain": [
       "   Group No            Group  Subgroup No          Subgroup  Type No     Type  \\\n",
       "0         1  Apparel & Gifts            1  RockAuto Apparel        1      Hat   \n",
       "1         1  Apparel & Gifts            1  RockAuto Apparel        2   Hoodie   \n",
       "2         1  Apparel & Gifts            1  RockAuto Apparel        3  T-Shirt   \n",
       "\n",
       "  Type Code                                          Tab 3 Url  \n",
       "0       131  https://www.rockauto.com/en/tools/Apparel & Gi...  \n",
       "1   1002098  https://www.rockauto.com/en/tools/Apparel & Gi...  \n",
       "2       256  https://www.rockauto.com/en/tools/Apparel & Gi...  "
      ]
     },
     "execution_count": 15,
     "metadata": {},
     "output_type": "execute_result"
    }
   ],
   "source": [
    "df_temp = pd.DataFrame({'Group No': input_.loc[a, 'Group No'],\n",
    "                        'Group': input_.loc[a, 'Group'],\n",
    "                        'Subgroup No': input_.loc[a, 'Subgroup No'],\n",
    "                        'Subgroup': input_.loc[a, 'Subgroup'],\n",
    "                        'Type No': [i+1 for i in range(len(list_type))],\n",
    "                        'Type': list_type,\n",
    "                        'Type Code': list_type_code,\n",
    "                        'Tab 3 Url': [f'''https://www.rockauto.com/en/tools/{input_.loc[a, 'Group'].replace(',', '%2C')},{input_.loc[a, 'Subgroup'].replace(',', '%2C')},{type_.replace(',', '%2C')},{type_code.replace(',', '%2C')}''' for type_, type_code in zip(list_type, list_type_code)]})\n",
    "\n",
    "output_correct = pd.concat([output_correct, df_temp], ignore_index=True).fillna('')\n",
    "\n",
    "output_correct"
   ]
  },
  {
   "cell_type": "code",
   "execution_count": 16,
   "id": "fc4ed7f6-ed4f-431c-b944-b1690309cdae",
   "metadata": {},
   "outputs": [
    {
     "data": {
      "text/plain": [
       "'ok'"
      ]
     },
     "execution_count": 16,
     "metadata": {},
     "output_type": "execute_result"
    }
   ],
   "source": [
    "crawler_status = 'ok'\n",
    "\n",
    "crawler_status"
   ]
  },
  {
   "cell_type": "code",
   "execution_count": 17,
   "id": "65c745d1-446e-46c5-9dec-819c9f7944d3",
   "metadata": {},
   "outputs": [
    {
     "data": {
      "text/html": [
       "<div>\n",
       "<style scoped>\n",
       "    .dataframe tbody tr th:only-of-type {\n",
       "        vertical-align: middle;\n",
       "    }\n",
       "\n",
       "    .dataframe tbody tr th {\n",
       "        vertical-align: top;\n",
       "    }\n",
       "\n",
       "    .dataframe thead th {\n",
       "        text-align: right;\n",
       "    }\n",
       "</style>\n",
       "<table border=\"1\" class=\"dataframe\">\n",
       "  <thead>\n",
       "    <tr style=\"text-align: right;\">\n",
       "      <th></th>\n",
       "    </tr>\n",
       "  </thead>\n",
       "  <tbody>\n",
       "  </tbody>\n",
       "</table>\n",
       "</div>"
      ],
      "text/plain": [
       "Empty DataFrame\n",
       "Columns: []\n",
       "Index: []"
      ]
     },
     "execution_count": 17,
     "metadata": {},
     "output_type": "execute_result"
    }
   ],
   "source": [
    "if crawler_status == 'error':\n",
    "    df_temp = pd.DataFrame([{'Group No': input_.loc[a, 'Group No'],\n",
    "                             'Group': input_.loc[a, 'Group'],\n",
    "                             'Subgroup No': input_.loc[a, 'Subgroup No'],\n",
    "                             'Subgroup': input_.loc[a, 'Subgroup']}])\n",
    "\n",
    "    output_error = pd.concat([output_error, df_temp], ignore_index=True).fillna('')\n",
    "\n",
    "output_error"
   ]
  },
  {
   "cell_type": "code",
   "execution_count": 18,
   "id": "7fd477de",
   "metadata": {},
   "outputs": [
    {
     "data": {
      "text/html": [
       "<div>\n",
       "<style scoped>\n",
       "    .dataframe tbody tr th:only-of-type {\n",
       "        vertical-align: middle;\n",
       "    }\n",
       "\n",
       "    .dataframe tbody tr th {\n",
       "        vertical-align: top;\n",
       "    }\n",
       "\n",
       "    .dataframe thead th {\n",
       "        text-align: right;\n",
       "    }\n",
       "</style>\n",
       "<table border=\"1\" class=\"dataframe\">\n",
       "  <thead>\n",
       "    <tr style=\"text-align: right;\">\n",
       "      <th></th>\n",
       "      <th>Group No</th>\n",
       "      <th>Group</th>\n",
       "      <th>Subgroup No</th>\n",
       "      <th>Subgroup</th>\n",
       "      <th>Type No</th>\n",
       "      <th>Type</th>\n",
       "      <th>Type Code</th>\n",
       "      <th>Tab 3 Url</th>\n",
       "    </tr>\n",
       "  </thead>\n",
       "  <tbody>\n",
       "    <tr>\n",
       "      <th>0</th>\n",
       "      <td>1</td>\n",
       "      <td>Apparel &amp; Gifts</td>\n",
       "      <td>1</td>\n",
       "      <td>RockAuto Apparel</td>\n",
       "      <td>1</td>\n",
       "      <td>Hat</td>\n",
       "      <td>131</td>\n",
       "      <td>https://www.rockauto.com/en/tools/Apparel &amp; Gi...</td>\n",
       "    </tr>\n",
       "    <tr>\n",
       "      <th>1</th>\n",
       "      <td>1</td>\n",
       "      <td>Apparel &amp; Gifts</td>\n",
       "      <td>1</td>\n",
       "      <td>RockAuto Apparel</td>\n",
       "      <td>2</td>\n",
       "      <td>Hoodie</td>\n",
       "      <td>1002098</td>\n",
       "      <td>https://www.rockauto.com/en/tools/Apparel &amp; Gi...</td>\n",
       "    </tr>\n",
       "    <tr>\n",
       "      <th>2</th>\n",
       "      <td>1</td>\n",
       "      <td>Apparel &amp; Gifts</td>\n",
       "      <td>1</td>\n",
       "      <td>RockAuto Apparel</td>\n",
       "      <td>3</td>\n",
       "      <td>T-Shirt</td>\n",
       "      <td>256</td>\n",
       "      <td>https://www.rockauto.com/en/tools/Apparel &amp; Gi...</td>\n",
       "    </tr>\n",
       "  </tbody>\n",
       "</table>\n",
       "</div>"
      ],
      "text/plain": [
       "   Group No            Group  Subgroup No          Subgroup  Type No     Type  \\\n",
       "0         1  Apparel & Gifts            1  RockAuto Apparel        1      Hat   \n",
       "1         1  Apparel & Gifts            1  RockAuto Apparel        2   Hoodie   \n",
       "2         1  Apparel & Gifts            1  RockAuto Apparel        3  T-Shirt   \n",
       "\n",
       "  Type Code                                          Tab 3 Url  \n",
       "0       131  https://www.rockauto.com/en/tools/Apparel & Gi...  \n",
       "1   1002098  https://www.rockauto.com/en/tools/Apparel & Gi...  \n",
       "2       256  https://www.rockauto.com/en/tools/Apparel & Gi...  "
      ]
     },
     "execution_count": 18,
     "metadata": {},
     "output_type": "execute_result"
    }
   ],
   "source": [
    "if not output_correct.empty:\n",
    "    output_correct = output_correct.sort_values(by=['Group No', 'Subgroup No', 'Type No'],\n",
    "                                                ascending=[True, True, True],\n",
    "                                                ignore_index=True)\n",
    "    output_correct.to_excel('./test_type.xlsx', index=False)\n",
    "\n",
    "output_correct"
   ]
  },
  {
   "cell_type": "code",
   "execution_count": 19,
   "id": "39a5441b-7f69-4812-aad8-7e10a1a24e78",
   "metadata": {},
   "outputs": [
    {
     "data": {
      "text/html": [
       "<div>\n",
       "<style scoped>\n",
       "    .dataframe tbody tr th:only-of-type {\n",
       "        vertical-align: middle;\n",
       "    }\n",
       "\n",
       "    .dataframe tbody tr th {\n",
       "        vertical-align: top;\n",
       "    }\n",
       "\n",
       "    .dataframe thead th {\n",
       "        text-align: right;\n",
       "    }\n",
       "</style>\n",
       "<table border=\"1\" class=\"dataframe\">\n",
       "  <thead>\n",
       "    <tr style=\"text-align: right;\">\n",
       "      <th></th>\n",
       "    </tr>\n",
       "  </thead>\n",
       "  <tbody>\n",
       "  </tbody>\n",
       "</table>\n",
       "</div>"
      ],
      "text/plain": [
       "Empty DataFrame\n",
       "Columns: []\n",
       "Index: []"
      ]
     },
     "execution_count": 19,
     "metadata": {},
     "output_type": "execute_result"
    }
   ],
   "source": [
    "if not output_error.empty:\n",
    "    output_error = output_error.sort_values(by=['Make No', 'Year'],\n",
    "                                            ascending=[True, False],\n",
    "                                            ignore_index=True)\n",
    "    output_error.to_excel('./test_type_error.xlsx', index=False)\n",
    "\n",
    "output_error"
   ]
  },
  {
   "cell_type": "code",
   "execution_count": null,
   "id": "ba5d9f77-7464-4ad5-a42b-1fa0c0505832",
   "metadata": {},
   "outputs": [],
   "source": []
  }
 ],
 "metadata": {
  "kernelspec": {
   "display_name": "Python 3 (ipykernel)",
   "language": "python",
   "name": "python3"
  },
  "language_info": {
   "codemirror_mode": {
    "name": "ipython",
    "version": 3
   },
   "file_extension": ".py",
   "mimetype": "text/x-python",
   "name": "python",
   "nbconvert_exporter": "python",
   "pygments_lexer": "ipython3",
   "version": "3.11.3"
  }
 },
 "nbformat": 4,
 "nbformat_minor": 5
}
