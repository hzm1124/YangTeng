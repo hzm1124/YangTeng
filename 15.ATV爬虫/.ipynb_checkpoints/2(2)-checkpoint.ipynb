{
 "cells": [
  {
   "cell_type": "code",
   "execution_count": 1,
   "id": "7ef742d1",
   "metadata": {},
   "outputs": [],
   "source": [
    "import pandas as pd"
   ]
  },
  {
   "cell_type": "code",
   "execution_count": 2,
   "id": "57f2d787",
   "metadata": {},
   "outputs": [
    {
     "data": {
      "text/html": [
       "<div>\n",
       "<style scoped>\n",
       "    .dataframe tbody tr th:only-of-type {\n",
       "        vertical-align: middle;\n",
       "    }\n",
       "\n",
       "    .dataframe tbody tr th {\n",
       "        vertical-align: top;\n",
       "    }\n",
       "\n",
       "    .dataframe thead th {\n",
       "        text-align: right;\n",
       "    }\n",
       "</style>\n",
       "<table border=\"1\" class=\"dataframe\">\n",
       "  <thead>\n",
       "    <tr style=\"text-align: right;\">\n",
       "      <th></th>\n",
       "      <th>Part Number</th>\n",
       "      <th>Url</th>\n",
       "    </tr>\n",
       "  </thead>\n",
       "  <tbody>\n",
       "    <tr>\n",
       "      <th>0</th>\n",
       "      <td>5503084</td>\n",
       "      <td>https://www.denniskirk.com/moose/oem-front-rig...</td>\n",
       "    </tr>\n",
       "    <tr>\n",
       "      <th>1</th>\n",
       "      <td>5503085</td>\n",
       "      <td>https://www.denniskirk.com/moose/oem-front-lef...</td>\n",
       "    </tr>\n",
       "    <tr>\n",
       "      <th>2</th>\n",
       "      <td>5503086</td>\n",
       "      <td>https://www.denniskirk.com/moose/oem-front-rig...</td>\n",
       "    </tr>\n",
       "    <tr>\n",
       "      <th>3</th>\n",
       "      <td>5503087</td>\n",
       "      <td>https://www.denniskirk.com/moose/oem-front-cv-...</td>\n",
       "    </tr>\n",
       "    <tr>\n",
       "      <th>4</th>\n",
       "      <td>5503088</td>\n",
       "      <td>https://www.denniskirk.com/moose/oem-front-cv-...</td>\n",
       "    </tr>\n",
       "    <tr>\n",
       "      <th>...</th>\n",
       "      <td>...</td>\n",
       "      <td>...</td>\n",
       "    </tr>\n",
       "    <tr>\n",
       "      <th>758</th>\n",
       "      <td>5501567</td>\n",
       "      <td>https://www.denniskirk.com/moose/complete-fron...</td>\n",
       "    </tr>\n",
       "    <tr>\n",
       "      <th>759</th>\n",
       "      <td>5501568</td>\n",
       "      <td>https://www.denniskirk.com/moose/complete-fron...</td>\n",
       "    </tr>\n",
       "    <tr>\n",
       "      <th>760</th>\n",
       "      <td>5501571</td>\n",
       "      <td>https://www.denniskirk.com/moose/complete-fron...</td>\n",
       "    </tr>\n",
       "    <tr>\n",
       "      <th>761</th>\n",
       "      <td>5501572</td>\n",
       "      <td>https://www.denniskirk.com/moose/complete-fron...</td>\n",
       "    </tr>\n",
       "    <tr>\n",
       "      <th>762</th>\n",
       "      <td>5501573</td>\n",
       "      <td>https://www.denniskirk.com/moose/complete-fron...</td>\n",
       "    </tr>\n",
       "  </tbody>\n",
       "</table>\n",
       "<p>763 rows × 2 columns</p>\n",
       "</div>"
      ],
      "text/plain": [
       "     Part Number                                                Url\n",
       "0        5503084  https://www.denniskirk.com/moose/oem-front-rig...\n",
       "1        5503085  https://www.denniskirk.com/moose/oem-front-lef...\n",
       "2        5503086  https://www.denniskirk.com/moose/oem-front-rig...\n",
       "3        5503087  https://www.denniskirk.com/moose/oem-front-cv-...\n",
       "4        5503088  https://www.denniskirk.com/moose/oem-front-cv-...\n",
       "..           ...                                                ...\n",
       "758      5501567  https://www.denniskirk.com/moose/complete-fron...\n",
       "759      5501568  https://www.denniskirk.com/moose/complete-fron...\n",
       "760      5501571  https://www.denniskirk.com/moose/complete-fron...\n",
       "761      5501572  https://www.denniskirk.com/moose/complete-fron...\n",
       "762      5501573  https://www.denniskirk.com/moose/complete-fron...\n",
       "\n",
       "[763 rows x 2 columns]"
      ]
     },
     "execution_count": 2,
     "metadata": {},
     "output_type": "execute_result"
    }
   ],
   "source": [
    "df_menu = pd.read_excel('./menu.xlsx', header=0).fillna('')\n",
    "\n",
    "df_menu"
   ]
  },
  {
   "cell_type": "code",
   "execution_count": 3,
   "id": "03d42c2d",
   "metadata": {},
   "outputs": [],
   "source": [
    "import pyautogui as pg\n",
    "import pyperclip as pc\n",
    "\n",
    "pg.PAUSE = 0.3\n",
    "pg.FAILSAFE = True\n",
    "\n",
    "# pg.position()\n",
    "pos_url = (1560, 84)"
   ]
  },
  {
   "cell_type": "code",
   "execution_count": 4,
   "id": "e0bb01a1",
   "metadata": {},
   "outputs": [],
   "source": [
    "import time"
   ]
  },
  {
   "cell_type": "code",
   "execution_count": 5,
   "id": "9bf6f614",
   "metadata": {},
   "outputs": [
    {
     "name": "stdout",
     "output_type": "stream",
     "text": [
      "0 https://www.denniskirk.com/moose/oem-front-right-cv-axle-kit-0214-1622.p5503084.prd/5503084.sku\n",
      "1 https://www.denniskirk.com/moose/oem-front-left-cv-axle-kit-0214-1623.p5503085.prd/5503085.sku\n",
      "2 https://www.denniskirk.com/moose/oem-front-right-cv-axle-kit-0214-1624.p5503086.prd/5503086.sku\n",
      "3 https://www.denniskirk.com/moose/oem-front-cv-axle-kit-0214-1625.p5503087.prd/5503087.sku\n"
     ]
    },
    {
     "ename": "FailSafeException",
     "evalue": "PyAutoGUI fail-safe triggered from mouse moving to a corner of the screen. To disable this fail-safe, set pyautogui.FAILSAFE to False. DISABLING FAIL-SAFE IS NOT RECOMMENDED.",
     "output_type": "error",
     "traceback": [
      "\u001b[0;31m---------------------------------------------------------------------------\u001b[0m",
      "\u001b[0;31mFailSafeException\u001b[0m                         Traceback (most recent call last)",
      "Cell \u001b[0;32mIn[5], line 3\u001b[0m\n\u001b[1;32m      1\u001b[0m \u001b[38;5;28;01mfor\u001b[39;00m i \u001b[38;5;129;01min\u001b[39;00m \u001b[38;5;28mrange\u001b[39m(\u001b[38;5;241m0\u001b[39m, \u001b[38;5;28mlen\u001b[39m(df_menu)):\n\u001b[1;32m      2\u001b[0m     \u001b[38;5;28mprint\u001b[39m(i, df_menu\u001b[38;5;241m.\u001b[39mloc[i, \u001b[38;5;124m'\u001b[39m\u001b[38;5;124mUrl\u001b[39m\u001b[38;5;124m'\u001b[39m])\n\u001b[0;32m----> 3\u001b[0m     \u001b[43mpg\u001b[49m\u001b[38;5;241;43m.\u001b[39;49m\u001b[43mmoveTo\u001b[49m\u001b[43m(\u001b[49m\u001b[43mpos_url\u001b[49m\u001b[43m)\u001b[49m\n\u001b[1;32m      4\u001b[0m     pg\u001b[38;5;241m.\u001b[39mclick()\n\u001b[1;32m      5\u001b[0m     pg\u001b[38;5;241m.\u001b[39mpress(\u001b[38;5;124m'\u001b[39m\u001b[38;5;124mdelete\u001b[39m\u001b[38;5;124m'\u001b[39m)\n",
      "File \u001b[0;32m~/Desktop/YangTeng/code/venv/lib/python3.11/site-packages/pyautogui/__init__.py:593\u001b[0m, in \u001b[0;36m_genericPyAutoGUIChecks.<locals>.wrapper\u001b[0;34m(*args, **kwargs)\u001b[0m\n\u001b[1;32m    591\u001b[0m \u001b[38;5;129m@functools\u001b[39m\u001b[38;5;241m.\u001b[39mwraps(wrappedFunction)\n\u001b[1;32m    592\u001b[0m \u001b[38;5;28;01mdef\u001b[39;00m \u001b[38;5;21mwrapper\u001b[39m(\u001b[38;5;241m*\u001b[39margs, \u001b[38;5;241m*\u001b[39m\u001b[38;5;241m*\u001b[39mkwargs):\n\u001b[0;32m--> 593\u001b[0m     \u001b[43mfailSafeCheck\u001b[49m\u001b[43m(\u001b[49m\u001b[43m)\u001b[49m\n\u001b[1;32m    594\u001b[0m     returnVal \u001b[38;5;241m=\u001b[39m wrappedFunction(\u001b[38;5;241m*\u001b[39margs, \u001b[38;5;241m*\u001b[39m\u001b[38;5;241m*\u001b[39mkwargs)\n\u001b[1;32m    595\u001b[0m     _handlePause(kwargs\u001b[38;5;241m.\u001b[39mget(\u001b[38;5;124m\"\u001b[39m\u001b[38;5;124m_pause\u001b[39m\u001b[38;5;124m\"\u001b[39m, \u001b[38;5;28;01mTrue\u001b[39;00m))\n",
      "File \u001b[0;32m~/Desktop/YangTeng/code/venv/lib/python3.11/site-packages/pyautogui/__init__.py:1734\u001b[0m, in \u001b[0;36mfailSafeCheck\u001b[0;34m()\u001b[0m\n\u001b[1;32m   1732\u001b[0m \u001b[38;5;28;01mdef\u001b[39;00m \u001b[38;5;21mfailSafeCheck\u001b[39m():\n\u001b[1;32m   1733\u001b[0m     \u001b[38;5;28;01mif\u001b[39;00m FAILSAFE \u001b[38;5;129;01mand\u001b[39;00m \u001b[38;5;28mtuple\u001b[39m(position()) \u001b[38;5;129;01min\u001b[39;00m FAILSAFE_POINTS:\n\u001b[0;32m-> 1734\u001b[0m         \u001b[38;5;28;01mraise\u001b[39;00m FailSafeException(\n\u001b[1;32m   1735\u001b[0m             \u001b[38;5;124m\"\u001b[39m\u001b[38;5;124mPyAutoGUI fail-safe triggered from mouse moving to a corner of the screen. To disable this fail-safe, set pyautogui.FAILSAFE to False. DISABLING FAIL-SAFE IS NOT RECOMMENDED.\u001b[39m\u001b[38;5;124m\"\u001b[39m\n\u001b[1;32m   1736\u001b[0m         )\n",
      "\u001b[0;31mFailSafeException\u001b[0m: PyAutoGUI fail-safe triggered from mouse moving to a corner of the screen. To disable this fail-safe, set pyautogui.FAILSAFE to False. DISABLING FAIL-SAFE IS NOT RECOMMENDED."
     ]
    }
   ],
   "source": [
    "for i in range(0, len(df_menu)):\n",
    "    print(i, df_menu.loc[i, 'Url'])\n",
    "    pg.moveTo(pos_url)\n",
    "    pg.click()\n",
    "    pg.press('delete')\n",
    "    pc.copy(df_menu.loc[i, 'Url'])\n",
    "    pg.hotkey('command', 'a')\n",
    "    pg.press('delete')\n",
    "    pg.hotkey('command', 'v')\n",
    "    pg.press('enter')\n",
    "    \n",
    "    time.sleep(10)\n",
    "    pg.moveTo(pos_url)\n",
    "    pg.click()\n",
    "    time.sleep(0.5)"
   ]
  },
  {
   "cell_type": "code",
   "execution_count": null,
   "id": "c7d1d8e4",
   "metadata": {},
   "outputs": [],
   "source": []
  }
 ],
 "metadata": {
  "kernelspec": {
   "display_name": "Python 3 (ipykernel)",
   "language": "python",
   "name": "python3"
  },
  "language_info": {
   "codemirror_mode": {
    "name": "ipython",
    "version": 3
   },
   "file_extension": ".py",
   "mimetype": "text/x-python",
   "name": "python",
   "nbconvert_exporter": "python",
   "pygments_lexer": "ipython3",
   "version": "3.11.3"
  }
 },
 "nbformat": 4,
 "nbformat_minor": 5
}
