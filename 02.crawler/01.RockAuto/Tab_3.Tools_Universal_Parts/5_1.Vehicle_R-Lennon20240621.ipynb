{
 "cells": [
  {
   "cell_type": "code",
   "execution_count": 1,
   "id": "2c4380e6-1746-4b95-8ed8-76bc30e24589",
   "metadata": {},
   "outputs": [],
   "source": [
    "param_date = '20240621'"
   ]
  },
  {
   "cell_type": "code",
   "execution_count": 2,
   "id": "3c45c159-e605-45eb-a97f-fb114069c2aa",
   "metadata": {},
   "outputs": [],
   "source": [
    "import pandas as pd\n",
    "\n",
    "output_correct, output_error = pd.DataFrame(), pd.DataFrame()"
   ]
  },
  {
   "cell_type": "code",
   "execution_count": 3,
   "id": "e488d52d-010c-48e8-8f8b-ed36be7cb854",
   "metadata": {
    "scrolled": true
   },
   "outputs": [
    {
     "name": "stdout",
     "output_type": "stream",
     "text": [
      "总数量：1\n"
     ]
    },
    {
     "data": {
      "text/plain": [
       "['']"
      ]
     },
     "execution_count": 3,
     "metadata": {},
     "output_type": "execute_result"
    }
   ],
   "source": [
    "input_ = pd.read_excel(f'./{param_date}/part.xlsx',\n",
    "                       header=0,\n",
    "                       dtype=str).fillna('')\n",
    "\n",
    "input_ = input_.drop_duplicates(['JOIN_PTPKPNCN'], keep='first', ignore_index=True)\n",
    "\n",
    "print(f'总数量：{len(input_)}')\n",
    "input_['JOIN_PTPKPNCN'].tolist()"
   ]
  },
  {
   "cell_type": "code",
   "execution_count": 4,
   "id": "2dadebc4-a6f7-4352-9d74-d60736711099",
   "metadata": {},
   "outputs": [
    {
     "data": {
      "text/plain": [
       "'error'"
      ]
     },
     "execution_count": 4,
     "metadata": {},
     "output_type": "execute_result"
    }
   ],
   "source": [
    "crawler_status = 'error'\n",
    "\n",
    "crawler_status"
   ]
  },
  {
   "cell_type": "code",
   "execution_count": 5,
   "id": "3453e381",
   "metadata": {},
   "outputs": [],
   "source": [
    "import requests\n",
    "\n",
    "import sys\n",
    "sys.path.append('../../00.Tools')\n",
    "import UA\n",
    "import Proxy"
   ]
  },
  {
   "cell_type": "code",
   "execution_count": 6,
   "id": "8e220500-d465-4297-9773-9db677da92a5",
   "metadata": {
    "scrolled": true
   },
   "outputs": [
    {
     "data": {
      "text/plain": [
       "'{\"buyersguidepieces\":{\"body\":\"<div class=\\\\\"buyersguide-nested\\\\\"><div style=\\\\\"padding: .5em;\\\\\"><table class=\\\\\"nobmp\\\\\" style=\\\\\"width: 100%;\\\\\"><tr><td class=\\\\\"altrow-a-0\\\\\">DODGE<\\\\/td><td class=\\\\\"altrow-a-0\\\\\">CALIBER<\\\\/td><td class=\\\\\"altrow-a-0\\\\\">2012<\\\\/td><\\\\/tr><tr><td class=\\\\\"altrow-a-1\\\\\">DODGE<\\\\/td><td class=\\\\\"altrow-a-1\\\\\">DAKOTA<\\\\/td><td class=\\\\\"altrow-a-1\\\\\">2008-2010<\\\\/td><\\\\/tr><tr><td class=\\\\\"altrow-a-0\\\\\">DODGE<\\\\/td><td class=\\\\\"altrow-a-0\\\\\">DURANGO<\\\\/td><td class=\\\\\"altrow-a-0\\\\\">2009<\\\\/td><\\\\/tr><tr><td class=\\\\\"altrow-a-1\\\\\">DODGE<\\\\/td><td class=\\\\\"altrow-a-1\\\\\">NITRO<\\\\/td><td class=\\\\\"altrow-a-1\\\\\">2009-2012<\\\\/td><\\\\/tr><tr><td class=\\\\\"altrow-a-0\\\\\">DODGE<\\\\/td><td class=\\\\\"altrow-a-0\\\\\">RAM 1500 PICKUP<\\\\/td><td class=\\\\\"altrow-a-0\\\\\">2009-2010<\\\\/td><\\\\/tr><tr><td class=\\\\\"altrow-a-1\\\\\">JEEP<\\\\/td><td class=\\\\\"altrow-a-1\\\\\">COMMANDER<\\\\/td><td class=\\\\\"altrow-a-1\\\\\">2009-2010<\\\\/td><\\\\/tr><tr><td class=\\\\\"altrow-a-0\\\\\">JEEP<\\\\/td><td class=\\\\\"altrow-a-0\\\\\">GRAND CHEROKEE<\\\\/td><td class=\\\\\"altrow-a-0\\\\\">2009-2010<\\\\/td><\\\\/tr><tr><td class=\\\\\"altrow-a-1\\\\\">JEEP<\\\\/td><td class=\\\\\"altrow-a-1\\\\\">GRAND WAGONEER<\\\\/td><td class=\\\\\"altrow-a-1\\\\\">2023<\\\\/td><\\\\/tr><tr><td class=\\\\\"altrow-a-0\\\\\">JEEP<\\\\/td><td class=\\\\\"altrow-a-0\\\\\">LIBERTY<\\\\/td><td class=\\\\\"altrow-a-0\\\\\">2009-2012<\\\\/td><\\\\/tr><tr><td class=\\\\\"altrow-a-1\\\\\">JEEP<\\\\/td><td class=\\\\\"altrow-a-1\\\\\">WAGONEER<\\\\/td><td class=\\\\\"altrow-a-1\\\\\">2023<\\\\/td><\\\\/tr><tr><td class=\\\\\"altrow-a-0\\\\\">JEEP<\\\\/td><td class=\\\\\"altrow-a-0\\\\\">WAGONEER L<\\\\/td><td class=\\\\\"altrow-a-0\\\\\">2023<\\\\/td><\\\\/tr><tr><td class=\\\\\"altrow-a-1\\\\\">MITSUBISHI<\\\\/td><td class=\\\\\"altrow-a-1\\\\\">RAIDER<\\\\/td><td class=\\\\\"altrow-a-1\\\\\">2009<\\\\/td><\\\\/tr><tr><td class=\\\\\"altrow-a-0\\\\\">RAM<\\\\/td><td class=\\\\\"altrow-a-0\\\\\">1500<\\\\/td><td class=\\\\\"altrow-a-0\\\\\">2011-2012<\\\\/td><\\\\/tr><tr><td class=\\\\\"altrow-a-1\\\\\">RAM<\\\\/td><td class=\\\\\"altrow-a-1\\\\\">DAKOTA<\\\\/td><td class=\\\\\"altrow-a-1\\\\\">2011<\\\\/td><\\\\/tr><\\\\/table><div>Please refer to catalog for application details.<\\\\/div><\\\\/div><\\\\/div>\",\"title\":\"Buyer\\'s Guide : PRO-TEC PXL57045 Oil Filter\"},\"groupindex\":null,\"collected_javascript\":\"\\\\/**UQ:766EC7B2**\\\\/\\\\nwindow.top.parent.window[\\\\\"_nck\\\\\"] = \\\\\"8LVLUxTaILBT+tLxkg8+3Ag7\\\\\\\\\\\\/0bbOhvn7P3rkFbL809YNOHQDmNBznFtdYfbcEUriQ0mcmy\\\\\\\\\\\\/TcWfcbfHTjxSwndfe2chgzy88liHO2MoAcp7wW7lek5DxawTLSg\\\\\\\\\\\\/DpYUwwgKwrMfy33EX9GUO2GXnxXCdc+Gsmw904TTn1VMnco=\\\\\";\\\\n\"}'"
      ]
     },
     "execution_count": 6,
     "metadata": {},
     "output_type": "execute_result"
    }
   ],
   "source": [
    "a = 0\n",
    "\n",
    "data = {'func': 'getbuyersguide',\n",
    "        'payload': f'''{{\"partData\":{{\"listing_data_essential\":{{\"parttype\":\"{input_.loc[a, 'Part_PartType']}\",\"partkey\":\"{input_.loc[a, 'PartKey']}\"}},\"listing_data_supplemental\":{{\"partnumber\":\"{input_.loc[a, 'PartNumber']}\",\"catalogname\":\"{input_.loc[a, 'CatalogName']}\"}}}}}}''',\n",
    "        'partsearch[manufacturer][partsearch_007]': input_.loc[a, 'CatalogName'],\n",
    "        'api_json_request': '1'}\n",
    "\n",
    "resp = requests.post('https://www.rockauto.com/catalog/catalogapi.php',\n",
    "                     data=data,\n",
    "                     headers=UA.get_User_Agent_Requests(),\n",
    "                     proxies=Proxy.get_Proxy_Requests()).text\n",
    "\n",
    "resp"
   ]
  },
  {
   "cell_type": "code",
   "execution_count": 7,
   "id": "c46ba80b-9e26-43b1-bee3-3a301c66403d",
   "metadata": {},
   "outputs": [],
   "source": [
    "import json"
   ]
  },
  {
   "cell_type": "code",
   "execution_count": 8,
   "id": "c6e28e5b-fa5b-4930-8db6-000c0a959991",
   "metadata": {
    "scrolled": true
   },
   "outputs": [
    {
     "data": {
      "text/plain": [
       "{'buyersguidepieces': {'body': '<div class=\"buyersguide-nested\"><div style=\"padding: .5em;\"><table class=\"nobmp\" style=\"width: 100%;\"><tr><td class=\"altrow-a-0\">DODGE</td><td class=\"altrow-a-0\">CALIBER</td><td class=\"altrow-a-0\">2012</td></tr><tr><td class=\"altrow-a-1\">DODGE</td><td class=\"altrow-a-1\">DAKOTA</td><td class=\"altrow-a-1\">2008-2010</td></tr><tr><td class=\"altrow-a-0\">DODGE</td><td class=\"altrow-a-0\">DURANGO</td><td class=\"altrow-a-0\">2009</td></tr><tr><td class=\"altrow-a-1\">DODGE</td><td class=\"altrow-a-1\">NITRO</td><td class=\"altrow-a-1\">2009-2012</td></tr><tr><td class=\"altrow-a-0\">DODGE</td><td class=\"altrow-a-0\">RAM 1500 PICKUP</td><td class=\"altrow-a-0\">2009-2010</td></tr><tr><td class=\"altrow-a-1\">JEEP</td><td class=\"altrow-a-1\">COMMANDER</td><td class=\"altrow-a-1\">2009-2010</td></tr><tr><td class=\"altrow-a-0\">JEEP</td><td class=\"altrow-a-0\">GRAND CHEROKEE</td><td class=\"altrow-a-0\">2009-2010</td></tr><tr><td class=\"altrow-a-1\">JEEP</td><td class=\"altrow-a-1\">GRAND WAGONEER</td><td class=\"altrow-a-1\">2023</td></tr><tr><td class=\"altrow-a-0\">JEEP</td><td class=\"altrow-a-0\">LIBERTY</td><td class=\"altrow-a-0\">2009-2012</td></tr><tr><td class=\"altrow-a-1\">JEEP</td><td class=\"altrow-a-1\">WAGONEER</td><td class=\"altrow-a-1\">2023</td></tr><tr><td class=\"altrow-a-0\">JEEP</td><td class=\"altrow-a-0\">WAGONEER L</td><td class=\"altrow-a-0\">2023</td></tr><tr><td class=\"altrow-a-1\">MITSUBISHI</td><td class=\"altrow-a-1\">RAIDER</td><td class=\"altrow-a-1\">2009</td></tr><tr><td class=\"altrow-a-0\">RAM</td><td class=\"altrow-a-0\">1500</td><td class=\"altrow-a-0\">2011-2012</td></tr><tr><td class=\"altrow-a-1\">RAM</td><td class=\"altrow-a-1\">DAKOTA</td><td class=\"altrow-a-1\">2011</td></tr></table><div>Please refer to catalog for application details.</div></div></div>',\n",
       "  'title': \"Buyer's Guide : PRO-TEC PXL57045 Oil Filter\"},\n",
       " 'groupindex': None,\n",
       " 'collected_javascript': '/**UQ:766EC7B2**/\\nwindow.top.parent.window[\"_nck\"] = \"8LVLUxTaILBT+tLxkg8+3Ag7\\\\/0bbOhvn7P3rkFbL809YNOHQDmNBznFtdYfbcEUriQ0mcmy\\\\/TcWfcbfHTjxSwndfe2chgzy88liHO2MoAcp7wW7lek5DxawTLSg\\\\/DpYUwwgKwrMfy33EX9GUO2GXnxXCdc+Gsmw904TTn1VMnco=\";\\n'}"
      ]
     },
     "execution_count": 8,
     "metadata": {},
     "output_type": "execute_result"
    }
   ],
   "source": [
    "json_ = json.loads(resp)\n",
    "\n",
    "json_"
   ]
  },
  {
   "cell_type": "code",
   "execution_count": 9,
   "id": "20211ab1-f1a7-4513-9005-709c54e616a8",
   "metadata": {},
   "outputs": [],
   "source": [
    "from bs4 import BeautifulSoup\n",
    "from lxml import etree"
   ]
  },
  {
   "cell_type": "code",
   "execution_count": 10,
   "id": "bbf86af8-7aa2-41a3-8e61-583df2a57f16",
   "metadata": {
    "scrolled": true
   },
   "outputs": [
    {
     "name": "stdout",
     "output_type": "stream",
     "text": [
      "<html>\n",
      " <body>\n",
      "  <div class=\"buyersguide-nested\">\n",
      "   <div style=\"padding: .5em;\">\n",
      "    <table class=\"nobmp\" style=\"width: 100%;\">\n",
      "     <tr>\n",
      "      <td class=\"altrow-a-0\">\n",
      "       DODGE\n",
      "      </td>\n",
      "      <td class=\"altrow-a-0\">\n",
      "       CALIBER\n",
      "      </td>\n",
      "      <td class=\"altrow-a-0\">\n",
      "       2012\n",
      "      </td>\n",
      "     </tr>\n",
      "     <tr>\n",
      "      <td class=\"altrow-a-1\">\n",
      "       DODGE\n",
      "      </td>\n",
      "      <td class=\"altrow-a-1\">\n",
      "       DAKOTA\n",
      "      </td>\n",
      "      <td class=\"altrow-a-1\">\n",
      "       2008-2010\n",
      "      </td>\n",
      "     </tr>\n",
      "     <tr>\n",
      "      <td class=\"altrow-a-0\">\n",
      "       DODGE\n",
      "      </td>\n",
      "      <td class=\"altrow-a-0\">\n",
      "       DURANGO\n",
      "      </td>\n",
      "      <td class=\"altrow-a-0\">\n",
      "       2009\n",
      "      </td>\n",
      "     </tr>\n",
      "     <tr>\n",
      "      <td class=\"altrow-a-1\">\n",
      "       DODGE\n",
      "      </td>\n",
      "      <td class=\"altrow-a-1\">\n",
      "       NITRO\n",
      "      </td>\n",
      "      <td class=\"altrow-a-1\">\n",
      "       2009-2012\n",
      "      </td>\n",
      "     </tr>\n",
      "     <tr>\n",
      "      <td class=\"altrow-a-0\">\n",
      "       DODGE\n",
      "      </td>\n",
      "      <td class=\"altrow-a-0\">\n",
      "       RAM 1500 PICKUP\n",
      "      </td>\n",
      "      <td class=\"altrow-a-0\">\n",
      "       2009-2010\n",
      "      </td>\n",
      "     </tr>\n",
      "     <tr>\n",
      "      <td class=\"altrow-a-1\">\n",
      "       JEEP\n",
      "      </td>\n",
      "      <td class=\"altrow-a-1\">\n",
      "       COMMANDER\n",
      "      </td>\n",
      "      <td class=\"altrow-a-1\">\n",
      "       2009-2010\n",
      "      </td>\n",
      "     </tr>\n",
      "     <tr>\n",
      "      <td class=\"altrow-a-0\">\n",
      "       JEEP\n",
      "      </td>\n",
      "      <td class=\"altrow-a-0\">\n",
      "       GRAND CHEROKEE\n",
      "      </td>\n",
      "      <td class=\"altrow-a-0\">\n",
      "       2009-2010\n",
      "      </td>\n",
      "     </tr>\n",
      "     <tr>\n",
      "      <td class=\"altrow-a-1\">\n",
      "       JEEP\n",
      "      </td>\n",
      "      <td class=\"altrow-a-1\">\n",
      "       GRAND WAGONEER\n",
      "      </td>\n",
      "      <td class=\"altrow-a-1\">\n",
      "       2023\n",
      "      </td>\n",
      "     </tr>\n",
      "     <tr>\n",
      "      <td class=\"altrow-a-0\">\n",
      "       JEEP\n",
      "      </td>\n",
      "      <td class=\"altrow-a-0\">\n",
      "       LIBERTY\n",
      "      </td>\n",
      "      <td class=\"altrow-a-0\">\n",
      "       2009-2012\n",
      "      </td>\n",
      "     </tr>\n",
      "     <tr>\n",
      "      <td class=\"altrow-a-1\">\n",
      "       JEEP\n",
      "      </td>\n",
      "      <td class=\"altrow-a-1\">\n",
      "       WAGONEER\n",
      "      </td>\n",
      "      <td class=\"altrow-a-1\">\n",
      "       2023\n",
      "      </td>\n",
      "     </tr>\n",
      "     <tr>\n",
      "      <td class=\"altrow-a-0\">\n",
      "       JEEP\n",
      "      </td>\n",
      "      <td class=\"altrow-a-0\">\n",
      "       WAGONEER L\n",
      "      </td>\n",
      "      <td class=\"altrow-a-0\">\n",
      "       2023\n",
      "      </td>\n",
      "     </tr>\n",
      "     <tr>\n",
      "      <td class=\"altrow-a-1\">\n",
      "       MITSUBISHI\n",
      "      </td>\n",
      "      <td class=\"altrow-a-1\">\n",
      "       RAIDER\n",
      "      </td>\n",
      "      <td class=\"altrow-a-1\">\n",
      "       2009\n",
      "      </td>\n",
      "     </tr>\n",
      "     <tr>\n",
      "      <td class=\"altrow-a-0\">\n",
      "       RAM\n",
      "      </td>\n",
      "      <td class=\"altrow-a-0\">\n",
      "       1500\n",
      "      </td>\n",
      "      <td class=\"altrow-a-0\">\n",
      "       2011-2012\n",
      "      </td>\n",
      "     </tr>\n",
      "     <tr>\n",
      "      <td class=\"altrow-a-1\">\n",
      "       RAM\n",
      "      </td>\n",
      "      <td class=\"altrow-a-1\">\n",
      "       DAKOTA\n",
      "      </td>\n",
      "      <td class=\"altrow-a-1\">\n",
      "       2011\n",
      "      </td>\n",
      "     </tr>\n",
      "    </table>\n",
      "    <div>\n",
      "     Please refer to catalog for application details.\n",
      "    </div>\n",
      "   </div>\n",
      "  </div>\n",
      " </body>\n",
      "</html>\n",
      "\n"
     ]
    }
   ],
   "source": [
    "soup = BeautifulSoup(json_['buyersguidepieces']['body'], 'lxml')\n",
    "html = etree.HTML(str(soup))\n",
    "\n",
    "with open('./vehicle.html', 'w', encoding='UTF-8') as file:\n",
    "    file.write(str(soup))\n",
    "\n",
    "print(soup.prettify())"
   ]
  },
  {
   "cell_type": "code",
   "execution_count": 11,
   "id": "3f455371-81f5-4a9b-8626-ac0170219d72",
   "metadata": {
    "scrolled": true
   },
   "outputs": [
    {
     "data": {
      "text/plain": [
       "[<Element tr at 0x10eef39c0>,\n",
       " <Element tr at 0x10e3615c0>,\n",
       " <Element tr at 0x10b1f8e80>,\n",
       " <Element tr at 0x10cf01ec0>,\n",
       " <Element tr at 0x10cf03740>,\n",
       " <Element tr at 0x10cf02d40>,\n",
       " <Element tr at 0x10cf01cc0>,\n",
       " <Element tr at 0x10cf01c40>,\n",
       " <Element tr at 0x10cf03900>,\n",
       " <Element tr at 0x10cf00e80>,\n",
       " <Element tr at 0x10cf01880>,\n",
       " <Element tr at 0x10cf00640>,\n",
       " <Element tr at 0x10ceef8c0>,\n",
       " <Element tr at 0x10ceefd40>]"
      ]
     },
     "execution_count": 11,
     "metadata": {},
     "output_type": "execute_result"
    }
   ],
   "source": [
    "list_tr = html.xpath('//tr')\n",
    "\n",
    "list_tr"
   ]
  },
  {
   "cell_type": "code",
   "execution_count": 12,
   "id": "2424c944-184f-4068-aaa1-023af60e9db2",
   "metadata": {},
   "outputs": [
    {
     "data": {
      "text/plain": [
       "'{\"0\": {\"0\": \"DODGE\", \"1\": \"CALIBER\", \"2\": \"2012\"}, \"1\": {\"0\": \"DODGE\", \"1\": \"DAKOTA\", \"2\": \"2008-2010\"}, \"2\": {\"0\": \"DODGE\", \"1\": \"DURANGO\", \"2\": \"2009\"}, \"3\": {\"0\": \"DODGE\", \"1\": \"NITRO\", \"2\": \"2009-2012\"}, \"4\": {\"0\": \"DODGE\", \"1\": \"RAM 1500 PICKUP\", \"2\": \"2009-2010\"}, \"5\": {\"0\": \"JEEP\", \"1\": \"COMMANDER\", \"2\": \"2009-2010\"}, \"6\": {\"0\": \"JEEP\", \"1\": \"GRAND CHEROKEE\", \"2\": \"2009-2010\"}, \"7\": {\"0\": \"JEEP\", \"1\": \"GRAND WAGONEER\", \"2\": \"2023\"}, \"8\": {\"0\": \"JEEP\", \"1\": \"LIBERTY\", \"2\": \"2009-2012\"}, \"9\": {\"0\": \"JEEP\", \"1\": \"WAGONEER\", \"2\": \"2023\"}, \"10\": {\"0\": \"JEEP\", \"1\": \"WAGONEER L\", \"2\": \"2023\"}, \"11\": {\"0\": \"MITSUBISHI\", \"1\": \"RAIDER\", \"2\": \"2009\"}, \"12\": {\"0\": \"RAM\", \"1\": \"1500\", \"2\": \"2011-2012\"}, \"13\": {\"0\": \"RAM\", \"1\": \"DAKOTA\", \"2\": \"2011\"}}'"
      ]
     },
     "execution_count": 12,
     "metadata": {},
     "output_type": "execute_result"
    }
   ],
   "source": [
    "dict_vehicle = {}\n",
    "for i in range(len(list_tr)):\n",
    "    dict_vehicle[str(i)] = {}\n",
    "    list_td = [td.strip() for td in list_tr[i].xpath('./td/text()')]\n",
    "    for j in range(len(list_td)):\n",
    "        dict_vehicle[str(i)][str(j)] = list_td[j]\n",
    "\n",
    "json_vehicle = json.dumps(dict_vehicle)\n",
    "\n",
    "json_vehicle"
   ]
  },
  {
   "cell_type": "code",
   "execution_count": 13,
   "id": "0c540ceb-af48-4c8e-8ae0-2b0dec0e6ed5",
   "metadata": {},
   "outputs": [
    {
     "name": "stdout",
     "output_type": "stream",
     "text": [
      "DODGE CALIBER 2012\n",
      "DODGE DAKOTA 2008-2010\n",
      "DODGE DURANGO 2009\n",
      "DODGE NITRO 2009-2012\n",
      "DODGE RAM 1500 PICKUP 2009-2010\n",
      "JEEP COMMANDER 2009-2010\n",
      "JEEP GRAND CHEROKEE 2009-2010\n",
      "JEEP GRAND WAGONEER 2023\n",
      "JEEP LIBERTY 2009-2012\n",
      "JEEP WAGONEER 2023\n",
      "JEEP WAGONEER L 2023\n",
      "MITSUBISHI RAIDER 2009\n",
      "RAM 1500 2011-2012\n",
      "RAM DAKOTA 2011\n"
     ]
    }
   ],
   "source": [
    "vehicle = ''\n",
    "for i in dict_vehicle:\n",
    "    for j in dict_vehicle[i]:\n",
    "        vehicle += dict_vehicle[i][j] + ' '\n",
    "    vehicle = vehicle.strip() + '\\n'\n",
    "\n",
    "vehicle = vehicle.strip()\n",
    "\n",
    "print(vehicle)"
   ]
  },
  {
   "cell_type": "code",
   "execution_count": 14,
   "id": "63c0436a-38d1-4742-9daa-577131dfaafd",
   "metadata": {},
   "outputs": [
    {
     "data": {
      "text/html": [
       "<div>\n",
       "<style scoped>\n",
       "    .dataframe tbody tr th:only-of-type {\n",
       "        vertical-align: middle;\n",
       "    }\n",
       "\n",
       "    .dataframe tbody tr th {\n",
       "        vertical-align: top;\n",
       "    }\n",
       "\n",
       "    .dataframe thead th {\n",
       "        text-align: right;\n",
       "    }\n",
       "</style>\n",
       "<table border=\"1\" class=\"dataframe\">\n",
       "  <thead>\n",
       "    <tr style=\"text-align: right;\">\n",
       "      <th></th>\n",
       "      <th>JOIN_PTPKPNCN</th>\n",
       "      <th>Json_Vehicle</th>\n",
       "      <th>Vehicle</th>\n",
       "    </tr>\n",
       "  </thead>\n",
       "  <tbody>\n",
       "    <tr>\n",
       "      <th>0</th>\n",
       "      <td></td>\n",
       "      <td>{\"0\": {\"0\": \"DODGE\", \"1\": \"CALIBER\", \"2\": \"201...</td>\n",
       "      <td>DODGE CALIBER 2012\\nDODGE DAKOTA 2008-2010\\nDO...</td>\n",
       "    </tr>\n",
       "  </tbody>\n",
       "</table>\n",
       "</div>"
      ],
      "text/plain": [
       "  JOIN_PTPKPNCN                                       Json_Vehicle  \\\n",
       "0                {\"0\": {\"0\": \"DODGE\", \"1\": \"CALIBER\", \"2\": \"201...   \n",
       "\n",
       "                                             Vehicle  \n",
       "0  DODGE CALIBER 2012\\nDODGE DAKOTA 2008-2010\\nDO...  "
      ]
     },
     "execution_count": 14,
     "metadata": {},
     "output_type": "execute_result"
    }
   ],
   "source": [
    "df_temp = pd.DataFrame([{'JOIN_PTPKPNCN': input_.loc[a, 'JOIN_PTPKPNCN'],\n",
    "                         'Json_Vehicle': json_vehicle,\n",
    "                         'Vehicle': vehicle}])\n",
    "\n",
    "output_correct = pd.concat([output_correct, df_temp], ignore_index=True).fillna('')\n",
    "\n",
    "output_correct"
   ]
  },
  {
   "cell_type": "code",
   "execution_count": 15,
   "id": "44921f2f-2a8d-49a1-a1be-647766c152de",
   "metadata": {},
   "outputs": [
    {
     "data": {
      "text/plain": [
       "'ok'"
      ]
     },
     "execution_count": 15,
     "metadata": {},
     "output_type": "execute_result"
    }
   ],
   "source": [
    "crawler_status = 'ok'\n",
    "\n",
    "crawler_status"
   ]
  },
  {
   "cell_type": "code",
   "execution_count": 16,
   "id": "711c1f41-43b1-4297-a228-18c6c3c261a1",
   "metadata": {},
   "outputs": [
    {
     "data": {
      "text/html": [
       "<div>\n",
       "<style scoped>\n",
       "    .dataframe tbody tr th:only-of-type {\n",
       "        vertical-align: middle;\n",
       "    }\n",
       "\n",
       "    .dataframe tbody tr th {\n",
       "        vertical-align: top;\n",
       "    }\n",
       "\n",
       "    .dataframe thead th {\n",
       "        text-align: right;\n",
       "    }\n",
       "</style>\n",
       "<table border=\"1\" class=\"dataframe\">\n",
       "  <thead>\n",
       "    <tr style=\"text-align: right;\">\n",
       "      <th></th>\n",
       "    </tr>\n",
       "  </thead>\n",
       "  <tbody>\n",
       "  </tbody>\n",
       "</table>\n",
       "</div>"
      ],
      "text/plain": [
       "Empty DataFrame\n",
       "Columns: []\n",
       "Index: []"
      ]
     },
     "execution_count": 16,
     "metadata": {},
     "output_type": "execute_result"
    }
   ],
   "source": [
    "if crawler_status == 'error':\n",
    "    df_temp = pd.DataFrame([{'JOIN_PTPKPNCN': input_.loc[a, 'JOIN_PTPKPNCN'],\n",
    "                             'Part_PartType': input_.loc[a, 'Part_PartType'],\n",
    "                             'PartKey': input_.loc[a, 'PartKey'],\n",
    "                             'PartNumber': input_.loc[a, 'PartNumber'],\n",
    "                             'CatalogName': input_.loc[a, 'CatalogName'],\n",
    "                             'PartType': input_.loc[a, 'PartType'],\n",
    "                             'PartKey': input_.loc[a, 'PartKey'],\n",
    "                             'Tab_Url': input_.loc[a, 'Tab_Url'],\n",
    "                             'Url': input_.loc[a, 'Url']}])\n",
    "\n",
    "    output_error = pd.concat([output_error, df_temp], ignore_index=True).fillna('')\n",
    "\n",
    "output_error"
   ]
  },
  {
   "cell_type": "code",
   "execution_count": 17,
   "id": "baf5387c-ca8f-4eae-8522-924545a24481",
   "metadata": {},
   "outputs": [
    {
     "data": {
      "text/html": [
       "<div>\n",
       "<style scoped>\n",
       "    .dataframe tbody tr th:only-of-type {\n",
       "        vertical-align: middle;\n",
       "    }\n",
       "\n",
       "    .dataframe tbody tr th {\n",
       "        vertical-align: top;\n",
       "    }\n",
       "\n",
       "    .dataframe thead th {\n",
       "        text-align: right;\n",
       "    }\n",
       "</style>\n",
       "<table border=\"1\" class=\"dataframe\">\n",
       "  <thead>\n",
       "    <tr style=\"text-align: right;\">\n",
       "      <th></th>\n",
       "      <th>JOIN_PTPKPNCN</th>\n",
       "      <th>Json_Vehicle</th>\n",
       "      <th>Vehicle</th>\n",
       "    </tr>\n",
       "  </thead>\n",
       "  <tbody>\n",
       "    <tr>\n",
       "      <th>0</th>\n",
       "      <td></td>\n",
       "      <td>{\"0\": {\"0\": \"DODGE\", \"1\": \"CALIBER\", \"2\": \"201...</td>\n",
       "      <td>DODGE CALIBER 2012\\nDODGE DAKOTA 2008-2010\\nDO...</td>\n",
       "    </tr>\n",
       "  </tbody>\n",
       "</table>\n",
       "</div>"
      ],
      "text/plain": [
       "  JOIN_PTPKPNCN                                       Json_Vehicle  \\\n",
       "0                {\"0\": {\"0\": \"DODGE\", \"1\": \"CALIBER\", \"2\": \"201...   \n",
       "\n",
       "                                             Vehicle  \n",
       "0  DODGE CALIBER 2012\\nDODGE DAKOTA 2008-2010\\nDO...  "
      ]
     },
     "execution_count": 17,
     "metadata": {},
     "output_type": "execute_result"
    }
   ],
   "source": [
    "if len(output_correct) != 0:\n",
    "    output_correct = output_correct.sort_values(by=['JOIN_PTPKPNCN'], ascending=[True], ignore_index=True)\n",
    "    output_correct.to_excel('./test_vehicle.xlsx', index=False)\n",
    "\n",
    "output_correct"
   ]
  },
  {
   "cell_type": "code",
   "execution_count": 18,
   "id": "32727727-8527-4b0c-9a4b-4a00e02fe206",
   "metadata": {
    "scrolled": true
   },
   "outputs": [
    {
     "data": {
      "text/html": [
       "<div>\n",
       "<style scoped>\n",
       "    .dataframe tbody tr th:only-of-type {\n",
       "        vertical-align: middle;\n",
       "    }\n",
       "\n",
       "    .dataframe tbody tr th {\n",
       "        vertical-align: top;\n",
       "    }\n",
       "\n",
       "    .dataframe thead th {\n",
       "        text-align: right;\n",
       "    }\n",
       "</style>\n",
       "<table border=\"1\" class=\"dataframe\">\n",
       "  <thead>\n",
       "    <tr style=\"text-align: right;\">\n",
       "      <th></th>\n",
       "    </tr>\n",
       "  </thead>\n",
       "  <tbody>\n",
       "  </tbody>\n",
       "</table>\n",
       "</div>"
      ],
      "text/plain": [
       "Empty DataFrame\n",
       "Columns: []\n",
       "Index: []"
      ]
     },
     "execution_count": 18,
     "metadata": {},
     "output_type": "execute_result"
    }
   ],
   "source": [
    "if len(output_error) != 0:\n",
    "    output_error = output_error.sort_values(by=['JOIN_PTPKPNCN'], ascending=[True], ignore_index=True)\n",
    "    output_error.to_excel('./test_vehicle_error.xlsx', index=False)\n",
    "\n",
    "output_error"
   ]
  },
  {
   "cell_type": "code",
   "execution_count": null,
   "id": "9f0d3aa4-22a6-4a12-bd89-d0d58d9abe99",
   "metadata": {},
   "outputs": [],
   "source": []
  }
 ],
 "metadata": {
  "kernelspec": {
   "display_name": "Python 3 (ipykernel)",
   "language": "python",
   "name": "python3"
  },
  "language_info": {
   "codemirror_mode": {
    "name": "ipython",
    "version": 3
   },
   "file_extension": ".py",
   "mimetype": "text/x-python",
   "name": "python",
   "nbconvert_exporter": "python",
   "pygments_lexer": "ipython3",
   "version": "3.11.3"
  }
 },
 "nbformat": 4,
 "nbformat_minor": 5
}
