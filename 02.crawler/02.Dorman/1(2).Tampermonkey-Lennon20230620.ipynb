{
 "cells": [
  {
   "cell_type": "code",
   "execution_count": 1,
   "id": "14ca4672",
   "metadata": {},
   "outputs": [],
   "source": [
    "import os"
   ]
  },
  {
   "cell_type": "code",
   "execution_count": 2,
   "id": "a3369d1a",
   "metadata": {},
   "outputs": [
    {
     "data": {
      "text/plain": [
       "2"
      ]
     },
     "execution_count": 2,
     "metadata": {},
     "output_type": "execute_result"
    }
   ],
   "source": [
    "list_file = list(os.walk('./menu'))[0][2]\n",
    "if '.DS_Store' in list_file:\n",
    "   list_file.remove('.DS_Store')\n",
    "\n",
    "len(list_file)"
   ]
  },
  {
   "cell_type": "code",
   "execution_count": 3,
   "id": "552c5c8c",
   "metadata": {},
   "outputs": [],
   "source": [
    "import pandas as pd"
   ]
  },
  {
   "cell_type": "code",
   "execution_count": 4,
   "id": "19a50da8",
   "metadata": {},
   "outputs": [
    {
     "data": {
      "text/html": [
       "<div>\n",
       "<style scoped>\n",
       "    .dataframe tbody tr th:only-of-type {\n",
       "        vertical-align: middle;\n",
       "    }\n",
       "\n",
       "    .dataframe tbody tr th {\n",
       "        vertical-align: top;\n",
       "    }\n",
       "\n",
       "    .dataframe thead th {\n",
       "        text-align: right;\n",
       "    }\n",
       "</style>\n",
       "<table border=\"1\" class=\"dataframe\">\n",
       "  <thead>\n",
       "    <tr style=\"text-align: right;\">\n",
       "      <th></th>\n",
       "      <th>Part_Number</th>\n",
       "      <th>Part_Type</th>\n",
       "      <th>Application_Summary</th>\n",
       "      <th>Url</th>\n",
       "    </tr>\n",
       "  </thead>\n",
       "  <tbody>\n",
       "  </tbody>\n",
       "</table>\n",
       "</div>"
      ],
      "text/plain": [
       "Empty DataFrame\n",
       "Columns: [Part_Number, Part_Type, Application_Summary, Url]\n",
       "Index: []"
      ]
     },
     "execution_count": 4,
     "metadata": {},
     "output_type": "execute_result"
    }
   ],
   "source": [
    "df = pd.DataFrame(columns=['Part_Number', 'Part_Type', 'Application_Summary', 'Url'])\n",
    "\n",
    "df"
   ]
  },
  {
   "cell_type": "code",
   "execution_count": 5,
   "id": "000d53d7",
   "metadata": {},
   "outputs": [],
   "source": [
    "import json"
   ]
  },
  {
   "cell_type": "code",
   "execution_count": 6,
   "id": "1d3df716",
   "metadata": {},
   "outputs": [
    {
     "name": "stdout",
     "output_type": "stream",
     "text": [
      "www.dormanproducts.com_gsearch.aspx_type=keyword&origin=keyword&parttype=Engine%2520Valve%2520Cover&start=100&num=100.txt\n",
      "www.dormanproducts.com_gsearch.aspx_type=keyword&origin=keyword&parttype=Engine%2520Valve%2520Cover&start=0&num=100.txt\n"
     ]
    }
   ],
   "source": [
    "for file in list_file:\n",
    "    print(file)\n",
    "    with open('./menu/' + file) as f:\n",
    "        list_part = f.read()[1:-1].split('},{')\n",
    "        for i in range(len(list_part)):\n",
    "            if i == 0:\n",
    "                part = json.loads(list_part[i] + '}')\n",
    "            elif i == len(list_part) - 1:\n",
    "                part = json.loads('{' + list_part[i])\n",
    "            else:\n",
    "                part = json.loads('{' + list_part[i] + '}')\n",
    "                \n",
    "            df_temp = pd.DataFrame([{'Part_Number': part['Part_Number'],\n",
    "                                     'Part_Type': part['Part_Type'],\n",
    "                                     'Application_Summary': part['Application_Summary'],\n",
    "                                     'Url': part['Url']}])\n",
    "            df = pd.concat([df, df_temp], ignore_index=True)"
   ]
  },
  {
   "cell_type": "code",
   "execution_count": 7,
   "id": "e7c8e52b",
   "metadata": {},
   "outputs": [
    {
     "data": {
      "text/html": [
       "<div>\n",
       "<style scoped>\n",
       "    .dataframe tbody tr th:only-of-type {\n",
       "        vertical-align: middle;\n",
       "    }\n",
       "\n",
       "    .dataframe tbody tr th {\n",
       "        vertical-align: top;\n",
       "    }\n",
       "\n",
       "    .dataframe thead th {\n",
       "        text-align: right;\n",
       "    }\n",
       "</style>\n",
       "<table border=\"1\" class=\"dataframe\">\n",
       "  <thead>\n",
       "    <tr style=\"text-align: right;\">\n",
       "      <th></th>\n",
       "      <th>Part_Number</th>\n",
       "      <th>Part_Type</th>\n",
       "      <th>Application_Summary</th>\n",
       "      <th>Url</th>\n",
       "    </tr>\n",
       "  </thead>\n",
       "  <tbody>\n",
       "    <tr>\n",
       "      <th>0</th>\n",
       "      <td>264-988</td>\n",
       "      <td>Valve Cover</td>\n",
       "      <td>Ford 2011-04, Mercury 2010-04</td>\n",
       "      <td>https://www.dormanproducts.com/p-79126-264-988...</td>\n",
       "    </tr>\n",
       "    <tr>\n",
       "      <th>1</th>\n",
       "      <td>263-158</td>\n",
       "      <td>Engine Valve Cover</td>\n",
       "      <td>Land Rover Discovery Sport 2017-15, Land Rover...</td>\n",
       "      <td>https://www.dormanproducts.com/p-139437-263-15...</td>\n",
       "    </tr>\n",
       "    <tr>\n",
       "      <th>2</th>\n",
       "      <td>264-986</td>\n",
       "      <td>Valve Cover Kit-Includes Liquid Gasket and Bolts</td>\n",
       "      <td>Chevrolet 2002-85, GMC 2002-82, Hummer 2004-02...</td>\n",
       "      <td>https://www.dormanproducts.com/p-54800-264-986...</td>\n",
       "    </tr>\n",
       "    <tr>\n",
       "      <th>3</th>\n",
       "      <td>264-935</td>\n",
       "      <td>Valve Cover With Gasket</td>\n",
       "      <td>BMW 2013-07</td>\n",
       "      <td>https://www.dormanproducts.com/p-105636-264-93...</td>\n",
       "    </tr>\n",
       "    <tr>\n",
       "      <th>4</th>\n",
       "      <td>264-993</td>\n",
       "      <td>Valve Cover - Plastic</td>\n",
       "      <td>Hyundai Elantra 2000-95, Hyundai Tiburon 2001-97</td>\n",
       "      <td>https://www.dormanproducts.com/p-72174-264-993...</td>\n",
       "    </tr>\n",
       "    <tr>\n",
       "      <th>...</th>\n",
       "      <td>...</td>\n",
       "      <td>...</td>\n",
       "      <td>...</td>\n",
       "      <td>...</td>\n",
       "    </tr>\n",
       "    <tr>\n",
       "      <th>97</th>\n",
       "      <td>264-994</td>\n",
       "      <td>Valve Cover - Right Side</td>\n",
       "      <td>Cadillac 2014-09, Chevrolet 2020-09, GMC 2020-...</td>\n",
       "      <td>https://www.dormanproducts.com/p-131112-264-99...</td>\n",
       "    </tr>\n",
       "    <tr>\n",
       "      <th>98</th>\n",
       "      <td>264-988</td>\n",
       "      <td>Valve Cover</td>\n",
       "      <td>Ford 2011-04, Mercury 2010-04</td>\n",
       "      <td>https://www.dormanproducts.com/p-79126-264-988...</td>\n",
       "    </tr>\n",
       "    <tr>\n",
       "      <th>99</th>\n",
       "      <td>264-930</td>\n",
       "      <td>Valve Cover - Right Side</td>\n",
       "      <td>General Motors 2021-04, Saab 2011</td>\n",
       "      <td>https://www.dormanproducts.com/p-128700-264-93...</td>\n",
       "    </tr>\n",
       "    <tr>\n",
       "      <th>100</th>\n",
       "      <td>264-976</td>\n",
       "      <td>Valve Cover Kit With Gaskets and Bolts</td>\n",
       "      <td>Lexus 2001-94, Toyota 2003-94</td>\n",
       "      <td>https://www.dormanproducts.com/p-54161-264-976...</td>\n",
       "    </tr>\n",
       "    <tr>\n",
       "      <th>101</th>\n",
       "      <td>264-918</td>\n",
       "      <td>Valve Cover</td>\n",
       "      <td>Hyundai 2012-06, Kia 2011-06</td>\n",
       "      <td>https://www.dormanproducts.com/p-79230-264-918...</td>\n",
       "    </tr>\n",
       "  </tbody>\n",
       "</table>\n",
       "<p>102 rows × 4 columns</p>\n",
       "</div>"
      ],
      "text/plain": [
       "    Part_Number                                         Part_Type  \\\n",
       "0       264-988                                       Valve Cover   \n",
       "1       263-158                                Engine Valve Cover   \n",
       "2       264-986  Valve Cover Kit-Includes Liquid Gasket and Bolts   \n",
       "3       264-935                           Valve Cover With Gasket   \n",
       "4       264-993                             Valve Cover - Plastic   \n",
       "..          ...                                               ...   \n",
       "97      264-994                          Valve Cover - Right Side   \n",
       "98      264-988                                       Valve Cover   \n",
       "99      264-930                          Valve Cover - Right Side   \n",
       "100     264-976            Valve Cover Kit With Gaskets and Bolts   \n",
       "101     264-918                                       Valve Cover   \n",
       "\n",
       "                                   Application_Summary  \\\n",
       "0                        Ford 2011-04, Mercury 2010-04   \n",
       "1    Land Rover Discovery Sport 2017-15, Land Rover...   \n",
       "2    Chevrolet 2002-85, GMC 2002-82, Hummer 2004-02...   \n",
       "3                                          BMW 2013-07   \n",
       "4     Hyundai Elantra 2000-95, Hyundai Tiburon 2001-97   \n",
       "..                                                 ...   \n",
       "97   Cadillac 2014-09, Chevrolet 2020-09, GMC 2020-...   \n",
       "98                       Ford 2011-04, Mercury 2010-04   \n",
       "99                   General Motors 2021-04, Saab 2011   \n",
       "100                      Lexus 2001-94, Toyota 2003-94   \n",
       "101                       Hyundai 2012-06, Kia 2011-06   \n",
       "\n",
       "                                                   Url  \n",
       "0    https://www.dormanproducts.com/p-79126-264-988...  \n",
       "1    https://www.dormanproducts.com/p-139437-263-15...  \n",
       "2    https://www.dormanproducts.com/p-54800-264-986...  \n",
       "3    https://www.dormanproducts.com/p-105636-264-93...  \n",
       "4    https://www.dormanproducts.com/p-72174-264-993...  \n",
       "..                                                 ...  \n",
       "97   https://www.dormanproducts.com/p-131112-264-99...  \n",
       "98   https://www.dormanproducts.com/p-79126-264-988...  \n",
       "99   https://www.dormanproducts.com/p-128700-264-93...  \n",
       "100  https://www.dormanproducts.com/p-54161-264-976...  \n",
       "101  https://www.dormanproducts.com/p-79230-264-918...  \n",
       "\n",
       "[102 rows x 4 columns]"
      ]
     },
     "execution_count": 7,
     "metadata": {},
     "output_type": "execute_result"
    }
   ],
   "source": [
    "df.to_excel('./menu.xlsx', index=False)\n",
    "\n",
    "df"
   ]
  },
  {
   "cell_type": "code",
   "execution_count": null,
   "id": "f1b946e9",
   "metadata": {},
   "outputs": [],
   "source": []
  }
 ],
 "metadata": {
  "kernelspec": {
   "display_name": "Python 3 (ipykernel)",
   "language": "python",
   "name": "python3"
  },
  "language_info": {
   "codemirror_mode": {
    "name": "ipython",
    "version": 3
   },
   "file_extension": ".py",
   "mimetype": "text/x-python",
   "name": "python",
   "nbconvert_exporter": "python",
   "pygments_lexer": "ipython3",
   "version": "3.11.3"
  }
 },
 "nbformat": 4,
 "nbformat_minor": 5
}
