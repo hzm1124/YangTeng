{
 "cells": [
  {
   "cell_type": "code",
   "execution_count": null,
   "id": "03f4a83e",
   "metadata": {},
   "outputs": [],
   "source": [
    "import pandas as pd\n",
    "\n",
    "output_correct = pd.DataFrame()\n",
    "\n",
    "output_error = pd.DataFrame()"
   ]
  },
  {
   "cell_type": "code",
   "execution_count": null,
   "id": "964f1e38",
   "metadata": {},
   "outputs": [],
   "source": [
    "input_ = pd.read_excel('./3.model.xlsx',\n",
    "                       header=0,\n",
    "                       dtype=str).fillna('')\n",
    "\n",
    "length = len(input_)\n",
    "\n",
    "print('总数量：' + str(length))\n",
    "input_['model'].tolist()"
   ]
  },
  {
   "cell_type": "code",
   "execution_count": null,
   "id": "1df64da2",
   "metadata": {},
   "outputs": [],
   "source": [
    "crawler_status = 'error'\n",
    "\n",
    "print(crawler_status)"
   ]
  },
  {
   "cell_type": "code",
   "execution_count": null,
   "id": "c312537e",
   "metadata": {},
   "outputs": [],
   "source": [
    "import requests\n",
    "import json"
   ]
  },
  {
   "cell_type": "code",
   "execution_count": null,
   "id": "1f6c50c9",
   "metadata": {},
   "outputs": [],
   "source": [
    "i = 0\n",
    "\n",
    "jsn = '{\"jsn\":{\"tab\":\"catalog\",\"make\":\"' + input_.loc[i, 'Make'] + '\",\"year\":\"' + input_.loc[i, 'Year'] + '\",\"model\":\"' + input_.loc[i, 'Model'] + '\",\"nodetype\":\"model\"}}'\n",
    "\n",
    "payload = {'func': 'navnode_fetch',\n",
    "           'payload': jsn,\n",
    "           'api_json_request': '1'}\n",
    "\n",
    "resp = requests.post('https://www.rockauto.com/catalog/catalogapi.php',\n",
    "                     data=payload).text\n",
    "\n",
    "resp = json.loads(resp)\n",
    "\n",
    "resp"
   ]
  },
  {
   "cell_type": "code",
   "execution_count": null,
   "id": "84f8e9ea",
   "metadata": {},
   "outputs": [],
   "source": [
    "from bs4 import BeautifulSoup"
   ]
  },
  {
   "cell_type": "code",
   "execution_count": null,
   "id": "be9f27ab",
   "metadata": {},
   "outputs": [],
   "source": [
    "html = resp['html_fill_sections']['navchildren[]']\n",
    "\n",
    "soup = BeautifulSoup(html, 'lxml')\n",
    "\n",
    "with open('./engine.html', 'w', encoding='UTF-8') as file:\n",
    "    file.write(str(soup))\n",
    "\n",
    "print(soup.prettify())"
   ]
  },
  {
   "cell_type": "code",
   "execution_count": null,
   "id": "6d5642d6",
   "metadata": {},
   "outputs": [],
   "source": [
    "from lxml import etree"
   ]
  },
  {
   "cell_type": "code",
   "execution_count": null,
   "id": "6178eb0b",
   "metadata": {},
   "outputs": [],
   "source": [
    "html = etree.HTML(str(soup))\n",
    "\n",
    "list_engine = [engine.strip() for engine in html.xpath('//td[@class=\"nlabel\"]/a/text()')]\n",
    "\n",
    "list_engine"
   ]
  },
  {
   "cell_type": "code",
   "execution_count": null,
   "id": "acf9d803",
   "metadata": {},
   "outputs": [],
   "source": [
    "list_url = ['https://www.rockauto.com'+url.strip() for url in html.xpath('//td[@class=\"niconspace ncollapsedicon\"]/a/@href')]\n",
    "\n",
    "list_url"
   ]
  },
  {
   "cell_type": "code",
   "execution_count": null,
   "id": "1f53e536",
   "metadata": {},
   "outputs": [],
   "source": [
    "crawler_status = 'ok'\n",
    "\n",
    "print(crawler_status)"
   ]
  },
  {
   "cell_type": "code",
   "execution_count": null,
   "id": "9b8bdb6c",
   "metadata": {
    "scrolled": true
   },
   "outputs": [],
   "source": [
    "if crawler_status == 'ok':\n",
    "    df_temp = pd.DataFrame({'Tab_Label': input_.loc[i, 'Tab_Label'],\n",
    "                            'No.': int(input_.loc[i, 'No.']),\n",
    "                            'Make': input_.loc[i, 'Make'],\n",
    "                            'Year': input_.loc[i, 'Year'],\n",
    "                            'Model': input_.loc[i, 'Model'],\n",
    "                            'Engine': list_engine,\n",
    "                            'Car_Code': [url.split(',')[-1] for url in list_url],\n",
    "                            'Url': list_url})\n",
    "    \n",
    "    output_correct = pd.concat([output_correct, df_temp], ignore_index=True).fillna('')\n",
    "else:\n",
    "    df_temp = pd.DataFrame([{'Tab_Label': input_.loc[i, 'Tab_Label'],\n",
    "                             'No.': int(input_.loc[i, 'No.']),\n",
    "                             'Make': input_.loc[i, 'Make'],\n",
    "                             'Year': input_.loc[i, 'Year'],\n",
    "                             'Model': input_.loc[i, 'Model'],\n",
    "                             'Url': input_.loc[i, 'Url']}])\n",
    "    \n",
    "    output_error = pd.concat([output_error, df_temp], ignore_index=True).fillna('')\n",
    "    \n",
    "print(len(output_correct), len(output_error))\n",
    "output_correct"
   ]
  },
  {
   "cell_type": "code",
   "execution_count": null,
   "id": "22d4f3db",
   "metadata": {},
   "outputs": [],
   "source": []
  }
 ],
 "metadata": {
  "kernelspec": {
   "display_name": "Python 3 (ipykernel)",
   "language": "python",
   "name": "python3"
  },
  "language_info": {
   "codemirror_mode": {
    "name": "ipython",
    "version": 3
   },
   "file_extension": ".py",
   "mimetype": "text/x-python",
   "name": "python",
   "nbconvert_exporter": "python",
   "pygments_lexer": "ipython3",
   "version": "3.11.3"
  }
 },
 "nbformat": 4,
 "nbformat_minor": 5
}
