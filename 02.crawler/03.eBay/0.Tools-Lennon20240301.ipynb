{
 "cells": [
  {
   "cell_type": "markdown",
   "id": "4c4e15aa",
   "metadata": {},
   "source": [
    "# 1. Menu"
   ]
  },
  {
   "cell_type": "code",
   "execution_count": 1,
   "id": "d0a33197",
   "metadata": {},
   "outputs": [],
   "source": [
    "param_market = 'US'\n",
    "param__pgn = 24"
   ]
  },
  {
   "cell_type": "code",
   "execution_count": 2,
   "id": "1eec4a08",
   "metadata": {
    "scrolled": true
   },
   "outputs": [
    {
     "data": {
      "text/plain": [
       "['https://www.ebay.com/sch/i.html?_dkr=1&iconV2Request=true&_blrs=recall_filtering&_ssn=zamo-zuan&store_cat=0&store_name=zamozuan&_oac=1&_nkw=motor+mount&_ul=US&_stpos=91710&_sop=16&_ipg=240&orig_cvip=true&_pgn=1',\n",
       " 'https://www.ebay.com/sch/i.html?_dkr=1&iconV2Request=true&_blrs=recall_filtering&_ssn=zamo-zuan&store_cat=0&store_name=zamozuan&_oac=1&_nkw=motor+mount&_ul=US&_stpos=91710&_sop=16&_ipg=240&orig_cvip=true&_pgn=2',\n",
       " 'https://www.ebay.com/sch/i.html?_dkr=1&iconV2Request=true&_blrs=recall_filtering&_ssn=zamo-zuan&store_cat=0&store_name=zamozuan&_oac=1&_nkw=motor+mount&_ul=US&_stpos=91710&_sop=16&_ipg=240&orig_cvip=true&_pgn=3',\n",
       " 'https://www.ebay.com/sch/i.html?_dkr=1&iconV2Request=true&_blrs=recall_filtering&_ssn=zamo-zuan&store_cat=0&store_name=zamozuan&_oac=1&_nkw=motor+mount&_ul=US&_stpos=91710&_sop=16&_ipg=240&orig_cvip=true&_pgn=4',\n",
       " 'https://www.ebay.com/sch/i.html?_dkr=1&iconV2Request=true&_blrs=recall_filtering&_ssn=zamo-zuan&store_cat=0&store_name=zamozuan&_oac=1&_nkw=motor+mount&_ul=US&_stpos=91710&_sop=16&_ipg=240&orig_cvip=true&_pgn=5',\n",
       " 'https://www.ebay.com/sch/i.html?_dkr=1&iconV2Request=true&_blrs=recall_filtering&_ssn=zamo-zuan&store_cat=0&store_name=zamozuan&_oac=1&_nkw=motor+mount&_ul=US&_stpos=91710&_sop=16&_ipg=240&orig_cvip=true&_pgn=6',\n",
       " 'https://www.ebay.com/sch/i.html?_dkr=1&iconV2Request=true&_blrs=recall_filtering&_ssn=zamo-zuan&store_cat=0&store_name=zamozuan&_oac=1&_nkw=motor+mount&_ul=US&_stpos=91710&_sop=16&_ipg=240&orig_cvip=true&_pgn=7',\n",
       " 'https://www.ebay.com/sch/i.html?_dkr=1&iconV2Request=true&_blrs=recall_filtering&_ssn=zamo-zuan&store_cat=0&store_name=zamozuan&_oac=1&_nkw=motor+mount&_ul=US&_stpos=91710&_sop=16&_ipg=240&orig_cvip=true&_pgn=8',\n",
       " 'https://www.ebay.com/sch/i.html?_dkr=1&iconV2Request=true&_blrs=recall_filtering&_ssn=zamo-zuan&store_cat=0&store_name=zamozuan&_oac=1&_nkw=motor+mount&_ul=US&_stpos=91710&_sop=16&_ipg=240&orig_cvip=true&_pgn=9',\n",
       " 'https://www.ebay.com/sch/i.html?_dkr=1&iconV2Request=true&_blrs=recall_filtering&_ssn=zamo-zuan&store_cat=0&store_name=zamozuan&_oac=1&_nkw=motor+mount&_ul=US&_stpos=91710&_sop=16&_ipg=240&orig_cvip=true&_pgn=10',\n",
       " 'https://www.ebay.com/sch/i.html?_dkr=1&iconV2Request=true&_blrs=recall_filtering&_ssn=zamo-zuan&store_cat=0&store_name=zamozuan&_oac=1&_nkw=motor+mount&_ul=US&_stpos=91710&_sop=16&_ipg=240&orig_cvip=true&_pgn=11',\n",
       " 'https://www.ebay.com/sch/i.html?_dkr=1&iconV2Request=true&_blrs=recall_filtering&_ssn=zamo-zuan&store_cat=0&store_name=zamozuan&_oac=1&_nkw=motor+mount&_ul=US&_stpos=91710&_sop=16&_ipg=240&orig_cvip=true&_pgn=12',\n",
       " 'https://www.ebay.com/sch/i.html?_dkr=1&iconV2Request=true&_blrs=recall_filtering&_ssn=zamo-zuan&store_cat=0&store_name=zamozuan&_oac=1&_nkw=motor+mount&_ul=US&_stpos=91710&_sop=16&_ipg=240&orig_cvip=true&_pgn=13',\n",
       " 'https://www.ebay.com/sch/i.html?_dkr=1&iconV2Request=true&_blrs=recall_filtering&_ssn=zamo-zuan&store_cat=0&store_name=zamozuan&_oac=1&_nkw=motor+mount&_ul=US&_stpos=91710&_sop=16&_ipg=240&orig_cvip=true&_pgn=14',\n",
       " 'https://www.ebay.com/sch/i.html?_dkr=1&iconV2Request=true&_blrs=recall_filtering&_ssn=zamo-zuan&store_cat=0&store_name=zamozuan&_oac=1&_nkw=motor+mount&_ul=US&_stpos=91710&_sop=16&_ipg=240&orig_cvip=true&_pgn=15',\n",
       " 'https://www.ebay.com/sch/i.html?_dkr=1&iconV2Request=true&_blrs=recall_filtering&_ssn=zamo-zuan&store_cat=0&store_name=zamozuan&_oac=1&_nkw=motor+mount&_ul=US&_stpos=91710&_sop=16&_ipg=240&orig_cvip=true&_pgn=16',\n",
       " 'https://www.ebay.com/sch/i.html?_dkr=1&iconV2Request=true&_blrs=recall_filtering&_ssn=zamo-zuan&store_cat=0&store_name=zamozuan&_oac=1&_nkw=motor+mount&_ul=US&_stpos=91710&_sop=16&_ipg=240&orig_cvip=true&_pgn=17',\n",
       " 'https://www.ebay.com/sch/i.html?_dkr=1&iconV2Request=true&_blrs=recall_filtering&_ssn=zamo-zuan&store_cat=0&store_name=zamozuan&_oac=1&_nkw=motor+mount&_ul=US&_stpos=91710&_sop=16&_ipg=240&orig_cvip=true&_pgn=18',\n",
       " 'https://www.ebay.com/sch/i.html?_dkr=1&iconV2Request=true&_blrs=recall_filtering&_ssn=zamo-zuan&store_cat=0&store_name=zamozuan&_oac=1&_nkw=motor+mount&_ul=US&_stpos=91710&_sop=16&_ipg=240&orig_cvip=true&_pgn=19',\n",
       " 'https://www.ebay.com/sch/i.html?_dkr=1&iconV2Request=true&_blrs=recall_filtering&_ssn=zamo-zuan&store_cat=0&store_name=zamozuan&_oac=1&_nkw=motor+mount&_ul=US&_stpos=91710&_sop=16&_ipg=240&orig_cvip=true&_pgn=20',\n",
       " 'https://www.ebay.com/sch/i.html?_dkr=1&iconV2Request=true&_blrs=recall_filtering&_ssn=zamo-zuan&store_cat=0&store_name=zamozuan&_oac=1&_nkw=motor+mount&_ul=US&_stpos=91710&_sop=16&_ipg=240&orig_cvip=true&_pgn=21',\n",
       " 'https://www.ebay.com/sch/i.html?_dkr=1&iconV2Request=true&_blrs=recall_filtering&_ssn=zamo-zuan&store_cat=0&store_name=zamozuan&_oac=1&_nkw=motor+mount&_ul=US&_stpos=91710&_sop=16&_ipg=240&orig_cvip=true&_pgn=22',\n",
       " 'https://www.ebay.com/sch/i.html?_dkr=1&iconV2Request=true&_blrs=recall_filtering&_ssn=zamo-zuan&store_cat=0&store_name=zamozuan&_oac=1&_nkw=motor+mount&_ul=US&_stpos=91710&_sop=16&_ipg=240&orig_cvip=true&_pgn=23',\n",
       " 'https://www.ebay.com/sch/i.html?_dkr=1&iconV2Request=true&_blrs=recall_filtering&_ssn=zamo-zuan&store_cat=0&store_name=zamozuan&_oac=1&_nkw=motor+mount&_ul=US&_stpos=91710&_sop=16&_ipg=240&orig_cvip=true&_pgn=24']"
      ]
     },
     "execution_count": 2,
     "metadata": {},
     "output_type": "execute_result"
    }
   ],
   "source": [
    "if param_market == 'US':\n",
    "    list_url = ['https://www.ebay.com/sch/i.html?_dkr=1&iconV2Request=true&_blrs=recall_filtering&_ssn=zamo-zuan&store_cat=0&store_name=zamozuan&_oac=1&_nkw=motor+mount' + '&_ul=US&_stpos=91710&_sop=16&_ipg=240&orig_cvip=true&_pgn=' + str(_+1) for _ in range(param__pgn)]\n",
    "elif param_market == 'DE':\n",
    "    list_url = ['https://www.ebay.com/sch/i.html?_dkr=1&iconV2Request=true&_blrs=recall_filtering&_ssn=zamo-zuan&store_cat=0&store_name=zamozuan&_oac=1&_nkw=motor+mount' + '&_ul=DE&_stpos=10115&_sop=16&_ipg=240&orig_cvip=true&_pgn=' + str(_+1) for _ in range(param__pgn)]\n",
    "list_no = [str(i+1) for i in range(len(list_url))]\n",
    "\n",
    "list_url"
   ]
  },
  {
   "cell_type": "code",
   "execution_count": 3,
   "id": "52cfd6b5",
   "metadata": {},
   "outputs": [],
   "source": [
    "import os"
   ]
  },
  {
   "cell_type": "code",
   "execution_count": 5,
   "id": "8f472f66",
   "metadata": {},
   "outputs": [
    {
     "name": "stdout",
     "output_type": "stream",
     "text": [
      "Done ~\n"
     ]
    }
   ],
   "source": [
    "list_file = list(os.walk('./menu'))[0][2]\n",
    "if '.DS_Store' in list_file:\n",
    "    list_file.remove('.DS_Store')\n",
    "if '0.null.txt' in list_file:\n",
    "    list_file.remove('0.null.txt')\n",
    "    \n",
    "new_list_no = []\n",
    "new_list_url = []\n",
    "for no, url in zip(list_no, list_url):\n",
    "    if no + '.txt' not in list_file:\n",
    "        new_list_no.append(no)\n",
    "        new_list_url.append(url)\n",
    "        \n",
    "if len(new_list_no) == 0:\n",
    "    print('None !')\n",
    "else:\n",
    "    with open('./menu.txt', 'w', encoding='UTF-8') as f:\n",
    "        f.write('let list_no = [\"' + '\",\"'.join(new_list_no) + '\"];\\nlet list_url = [\"' + '\",\"'.join(new_list_url) + '\"];\\n')\n",
    "\n",
    "    print('Done ~')"
   ]
  },
  {
   "cell_type": "code",
   "execution_count": null,
   "id": "4809a442",
   "metadata": {},
   "outputs": [],
   "source": []
  }
 ],
 "metadata": {
  "kernelspec": {
   "display_name": "Python 3 (ipykernel)",
   "language": "python",
   "name": "python3"
  },
  "language_info": {
   "codemirror_mode": {
    "name": "ipython",
    "version": 3
   },
   "file_extension": ".py",
   "mimetype": "text/x-python",
   "name": "python",
   "nbconvert_exporter": "python",
   "pygments_lexer": "ipython3",
   "version": "3.11.3"
  }
 },
 "nbformat": 4,
 "nbformat_minor": 5
}
