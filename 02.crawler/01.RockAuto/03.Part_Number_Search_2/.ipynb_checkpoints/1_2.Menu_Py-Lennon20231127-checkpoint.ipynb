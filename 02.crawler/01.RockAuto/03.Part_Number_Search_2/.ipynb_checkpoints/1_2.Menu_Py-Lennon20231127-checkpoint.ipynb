{
 "cells": [
  {
   "cell_type": "code",
   "execution_count": 1,
   "id": "e8e93640",
   "metadata": {},
   "outputs": [],
   "source": [
    "import pandas as pd"
   ]
  },
  {
   "cell_type": "code",
   "execution_count": 2,
   "id": "58d28d81",
   "metadata": {},
   "outputs": [
    {
     "data": {
      "text/html": [
       "<div>\n",
       "<style scoped>\n",
       "    .dataframe tbody tr th:only-of-type {\n",
       "        vertical-align: middle;\n",
       "    }\n",
       "\n",
       "    .dataframe tbody tr th {\n",
       "        vertical-align: top;\n",
       "    }\n",
       "\n",
       "    .dataframe thead th {\n",
       "        text-align: right;\n",
       "    }\n",
       "</style>\n",
       "<table border=\"1\" class=\"dataframe\">\n",
       "  <thead>\n",
       "    <tr style=\"text-align: right;\">\n",
       "      <th></th>\n",
       "    </tr>\n",
       "  </thead>\n",
       "  <tbody>\n",
       "  </tbody>\n",
       "</table>\n",
       "</div>"
      ],
      "text/plain": [
       "Empty DataFrame\n",
       "Columns: []\n",
       "Index: []"
      ]
     },
     "execution_count": 2,
     "metadata": {},
     "output_type": "execute_result"
    }
   ],
   "source": [
    "df = pd.DataFrame()\n",
    "\n",
    "df"
   ]
  },
  {
   "cell_type": "code",
   "execution_count": 3,
   "id": "ff878a19",
   "metadata": {},
   "outputs": [],
   "source": [
    "import json"
   ]
  },
  {
   "cell_type": "code",
   "execution_count": 4,
   "id": "f2941ebf",
   "metadata": {},
   "outputs": [
    {
     "data": {
      "text/html": [
       "<div>\n",
       "<style scoped>\n",
       "    .dataframe tbody tr th:only-of-type {\n",
       "        vertical-align: middle;\n",
       "    }\n",
       "\n",
       "    .dataframe tbody tr th {\n",
       "        vertical-align: top;\n",
       "    }\n",
       "\n",
       "    .dataframe thead th {\n",
       "        text-align: right;\n",
       "    }\n",
       "</style>\n",
       "<table border=\"1\" class=\"dataframe\">\n",
       "  <thead>\n",
       "    <tr style=\"text-align: right;\">\n",
       "      <th></th>\n",
       "      <th>Url</th>\n",
       "      <th>No.</th>\n",
       "      <th>Part_Number</th>\n",
       "    </tr>\n",
       "  </thead>\n",
       "  <tbody>\n",
       "    <tr>\n",
       "      <th>0</th>\n",
       "      <td>https://www.rockauto.com/en/parts/standard+mot...</td>\n",
       "      <td>1</td>\n",
       "      <td>QS101M</td>\n",
       "    </tr>\n",
       "    <tr>\n",
       "      <th>1</th>\n",
       "      <td>https://www.rockauto.com/en/parts/standard+mot...</td>\n",
       "      <td>2</td>\n",
       "      <td>QS101R</td>\n",
       "    </tr>\n",
       "    <tr>\n",
       "      <th>2</th>\n",
       "      <td>https://www.rockauto.com/en/parts/standard+mot...</td>\n",
       "      <td>3</td>\n",
       "      <td>QS102M</td>\n",
       "    </tr>\n",
       "    <tr>\n",
       "      <th>3</th>\n",
       "      <td>https://www.rockauto.com/en/parts/standard+mot...</td>\n",
       "      <td>4</td>\n",
       "      <td>QS102R</td>\n",
       "    </tr>\n",
       "    <tr>\n",
       "      <th>4</th>\n",
       "      <td>https://www.rockauto.com/en/parts/standard+mot...</td>\n",
       "      <td>5</td>\n",
       "      <td>QS103M</td>\n",
       "    </tr>\n",
       "    <tr>\n",
       "      <th>...</th>\n",
       "      <td>...</td>\n",
       "      <td>...</td>\n",
       "      <td>...</td>\n",
       "    </tr>\n",
       "    <tr>\n",
       "      <th>251</th>\n",
       "      <td>https://www.rockauto.com/en/parts/standard+mot...</td>\n",
       "      <td>252</td>\n",
       "      <td>TPM93RA</td>\n",
       "    </tr>\n",
       "    <tr>\n",
       "      <th>252</th>\n",
       "      <td>https://www.rockauto.com/en/parts/standard+mot...</td>\n",
       "      <td>253</td>\n",
       "      <td>TPM95A</td>\n",
       "    </tr>\n",
       "    <tr>\n",
       "      <th>253</th>\n",
       "      <td>https://www.rockauto.com/en/parts/standard+mot...</td>\n",
       "      <td>254</td>\n",
       "      <td>TPM97A</td>\n",
       "    </tr>\n",
       "    <tr>\n",
       "      <th>254</th>\n",
       "      <td>https://www.rockauto.com/en/parts/standard+mot...</td>\n",
       "      <td>255</td>\n",
       "      <td>TPM97RA</td>\n",
       "    </tr>\n",
       "    <tr>\n",
       "      <th>255</th>\n",
       "      <td>https://www.rockauto.com/en/parts/standard+mot...</td>\n",
       "      <td>256</td>\n",
       "      <td>TPM98A</td>\n",
       "    </tr>\n",
       "  </tbody>\n",
       "</table>\n",
       "<p>256 rows × 3 columns</p>\n",
       "</div>"
      ],
      "text/plain": [
       "                                                   Url  No. Part_Number\n",
       "0    https://www.rockauto.com/en/parts/standard+mot...    1      QS101M\n",
       "1    https://www.rockauto.com/en/parts/standard+mot...    2      QS101R\n",
       "2    https://www.rockauto.com/en/parts/standard+mot...    3      QS102M\n",
       "3    https://www.rockauto.com/en/parts/standard+mot...    4      QS102R\n",
       "4    https://www.rockauto.com/en/parts/standard+mot...    5      QS103M\n",
       "..                                                 ...  ...         ...\n",
       "251  https://www.rockauto.com/en/parts/standard+mot...  252     TPM93RA\n",
       "252  https://www.rockauto.com/en/parts/standard+mot...  253      TPM95A\n",
       "253  https://www.rockauto.com/en/parts/standard+mot...  254      TPM97A\n",
       "254  https://www.rockauto.com/en/parts/standard+mot...  255     TPM97RA\n",
       "255  https://www.rockauto.com/en/parts/standard+mot...  256      TPM98A\n",
       "\n",
       "[256 rows x 3 columns]"
      ]
     },
     "execution_count": 4,
     "metadata": {},
     "output_type": "execute_result"
    }
   ],
   "source": [
    "with open('./menu.txt', 'r', encoding='UTF-8') as f:\n",
    "    df = pd.DataFrame(json.loads(f.read()))\n",
    " \n",
    "df = df[['Url', 'No.', 'Part_Number']]\n",
    "    \n",
    "df.to_excel('./menu.xlsx', index=False)\n",
    "\n",
    "df"
   ]
  },
  {
   "cell_type": "code",
   "execution_count": null,
   "id": "6a1ed2b7",
   "metadata": {},
   "outputs": [],
   "source": []
  }
 ],
 "metadata": {
  "kernelspec": {
   "display_name": "Python 3 (ipykernel)",
   "language": "python",
   "name": "python3"
  },
  "language_info": {
   "codemirror_mode": {
    "name": "ipython",
    "version": 3
   },
   "file_extension": ".py",
   "mimetype": "text/x-python",
   "name": "python",
   "nbconvert_exporter": "python",
   "pygments_lexer": "ipython3",
   "version": "3.11.3"
  }
 },
 "nbformat": 4,
 "nbformat_minor": 5
}
