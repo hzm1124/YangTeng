{
 "cells": [
  {
   "cell_type": "code",
   "execution_count": 1,
   "id": "5331b67b",
   "metadata": {},
   "outputs": [],
   "source": [
    "from openpyxl import load_workbook\n",
    "from openpyxl.utils import get_column_letter"
   ]
  },
  {
   "cell_type": "code",
   "execution_count": 2,
   "id": "aedfb792",
   "metadata": {},
   "outputs": [
    {
     "name": "stdout",
     "output_type": "stream",
     "text": [
      "总数量：100\n"
     ]
    },
    {
     "data": {
      "text/plain": [
       "(8, 'H', 6, 'F')"
      ]
     },
     "execution_count": 2,
     "metadata": {},
     "output_type": "execute_result"
    }
   ],
   "source": [
    "wb = load_workbook('./part.xlsx')\n",
    "ws = wb.active\n",
    "\n",
    "for column in range(1, ws.max_column+1):\n",
    "    if ws.cell(1, column).value == 'Src':\n",
    "        column_src = column\n",
    "    elif ws.cell(1, column).value == 'Pic':\n",
    "        column_pic = column\n",
    "        \n",
    "print('总数量：' + str(ws.max_row-1))\n",
    "column_src, get_column_letter(column_src), column_pic, get_column_letter(column_pic)"
   ]
  },
  {
   "cell_type": "code",
   "execution_count": 3,
   "id": "7d5f85d4",
   "metadata": {},
   "outputs": [],
   "source": [
    "from openpyxl.drawing.image import Image\n",
    "from datetime import datetime"
   ]
  },
  {
   "cell_type": "code",
   "execution_count": 4,
   "id": "03cdce4a",
   "metadata": {},
   "outputs": [
    {
     "name": "stdout",
     "output_type": "stream",
     "text": [
      "输出ing...\n",
      "\n",
      "Done ~\n"
     ]
    }
   ],
   "source": [
    "for a in range(1, ws.max_row):\n",
    "    if ws.cell(a+1, column_src).value == None:\n",
    "        continue\n",
    "    \n",
    "    pic = Image('./pic/' + str(a) + '.png')\n",
    "    \n",
    "    # = = = = = = = = = = = = = = =\n",
    "    \n",
    "    if pic.width > pic.height:\n",
    "        pic.height = 50.0 / pic.width * pic.height\n",
    "        pic.width = 50.0\n",
    "    else:\n",
    "        pic.width = 50.0 / pic.height * pic.width\n",
    "        pic.height = 50.0\n",
    "    \n",
    "    # = = = = = = = = = = = = = = =\n",
    "    \n",
    "    ws.add_image(pic, get_column_letter(column_pic) + str(a+1))\n",
    "    \n",
    "# = = = = = = = = = = = = = = =    \n",
    "    \n",
    "print('输出ing...')\n",
    "print()\n",
    "wb.save('./crawler-' + datetime.now().strftime('%Y%m%d_%H%M%S') + '.xlsx')\n",
    "print('Done ~')"
   ]
  },
  {
   "cell_type": "code",
   "execution_count": null,
   "id": "22d4f3db",
   "metadata": {},
   "outputs": [],
   "source": []
  }
 ],
 "metadata": {
  "kernelspec": {
   "display_name": "Python 3 (ipykernel)",
   "language": "python",
   "name": "python3"
  },
  "language_info": {
   "codemirror_mode": {
    "name": "ipython",
    "version": 3
   },
   "file_extension": ".py",
   "mimetype": "text/x-python",
   "name": "python",
   "nbconvert_exporter": "python",
   "pygments_lexer": "ipython3",
   "version": "3.11.3"
  }
 },
 "nbformat": 4,
 "nbformat_minor": 5
}
