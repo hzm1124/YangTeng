{
 "cells": [
  {
   "cell_type": "code",
   "execution_count": 1,
   "id": "75615279",
   "metadata": {},
   "outputs": [],
   "source": [
    "import pandas as pd"
   ]
  },
  {
   "cell_type": "code",
   "execution_count": 2,
   "id": "95822d56",
   "metadata": {
    "scrolled": true
   },
   "outputs": [
    {
     "name": "stdout",
     "output_type": "stream",
     "text": [
      "总数量：442\n"
     ]
    },
    {
     "data": {
      "text/plain": [
       "['https://www.rockauto.com/en/parts/melling,30250S,timing+chain+&+component+kit,5756',\n",
       " 'https://www.rockauto.com/en/parts/melling,30250SX,timing+chain+&+component+kit,5756',\n",
       " 'https://www.rockauto.com/en/parts/melling,30420S,timing+chain+&+component+kit,5756',\n",
       " 'https://www.rockauto.com/en/parts/melling,30430S,timing+chain+&+component+kit,5756',\n",
       " 'https://www.rockauto.com/en/parts/melling,30460S,timing+chain+&+component+kit,5756',\n",
       " 'https://www.rockauto.com/en/parts/melling,30460SA,timing+chain+&+component+kit,5756',\n",
       " 'https://www.rockauto.com/en/parts/melling,30460SB,timing+chain+&+component+kit,5756',\n",
       " 'https://www.rockauto.com/en/parts/melling,30470S,timing+chain+&+component+kit,5756',\n",
       " 'https://www.rockauto.com/en/parts/melling,30470SX,timing+chain+&+component+kit,5756',\n",
       " 'https://www.rockauto.com/en/parts/melling,30490S,timing+chain+&+component+kit,5756',\n",
       " 'https://www.rockauto.com/en/parts/melling,30490SX,timing+chain+&+component+kit,5756',\n",
       " 'https://www.rockauto.com/en/parts/melling,30719S,timing+chain+&+component+kit,5756',\n",
       " 'https://www.rockauto.com/en/parts/melling,30719SHWP,timing+chain+&+component+kit,5756',\n",
       " 'https://www.rockauto.com/en/parts/melling,31007S,timing+chain+&+component+kit,5756',\n",
       " 'https://www.rockauto.com/en/parts/melling,31035S,timing+chain+&+component+kit,5756',\n",
       " 'https://www.rockauto.com/en/parts/melling,31035SX,timing+chain+&+component+kit,5756',\n",
       " 'https://www.rockauto.com/en/parts/melling,31036S,timing+chain+&+component+kit,5756',\n",
       " 'https://www.rockauto.com/en/parts/melling,31036SA,timing+chain+&+component+kit,5756',\n",
       " 'https://www.rockauto.com/en/parts/melling,31038S,timing+chain+&+component+kit,5756',\n",
       " 'https://www.rockauto.com/en/parts/melling,31038SX,timing+chain+&+component+kit,5756',\n",
       " 'https://www.rockauto.com/en/parts/melling,31041S,timing+chain+&+component+kit,5756',\n",
       " 'https://www.rockauto.com/en/parts/melling,31045S,timing+chain+&+component+kit,5756',\n",
       " 'https://www.rockauto.com/en/parts/melling,31045SA,timing+chain+&+component+kit,5756',\n",
       " 'https://www.rockauto.com/en/parts/melling,31047S,timing+chain+&+component+kit,5756',\n",
       " 'https://www.rockauto.com/en/parts/melling,31047SH,timing+chain+&+component+kit,5756',\n",
       " 'https://www.rockauto.com/en/parts/melling,31047SHWP,timing+chain+&+component+kit,5756',\n",
       " 'https://www.rockauto.com/en/parts/melling,31047SX,timing+chain+&+component+kit,5756',\n",
       " 'https://www.rockauto.com/en/parts/melling,31047SXH,timing+chain+&+component+kit,5756',\n",
       " 'https://www.rockauto.com/en/parts/melling,31047SXHWP,timing+chain+&+component+kit,5756',\n",
       " 'https://www.rockauto.com/en/parts/melling,31049S,timing+chain+&+component+kit,5756',\n",
       " 'https://www.rockauto.com/en/parts/melling,31049SA,timing+chain+&+component+kit,5756',\n",
       " 'https://www.rockauto.com/en/parts/melling,31049SAH,timing+chain+&+component+kit,5756',\n",
       " 'https://www.rockauto.com/en/parts/melling,31049SB,timing+chain+&+component+kit,5756',\n",
       " 'https://www.rockauto.com/en/parts/melling,31049SBH,timing+chain+&+component+kit,5756',\n",
       " 'https://www.rockauto.com/en/parts/melling,31049SBX,timing+chain+&+component+kit,5756',\n",
       " 'https://www.rockauto.com/en/parts/melling,31049SBXH,timing+chain+&+component+kit,5756',\n",
       " 'https://www.rockauto.com/en/parts/melling,31049SC,timing+chain+&+component+kit,5756',\n",
       " 'https://www.rockauto.com/en/parts/melling,31049SCH,timing+chain+&+component+kit,5756',\n",
       " 'https://www.rockauto.com/en/parts/melling,31049SCX,timing+chain+&+component+kit,5756',\n",
       " 'https://www.rockauto.com/en/parts/melling,31049SCXH,timing+chain+&+component+kit,5756',\n",
       " 'https://www.rockauto.com/en/parts/melling,31049SD,timing+chain+&+component+kit,5756',\n",
       " 'https://www.rockauto.com/en/parts/melling,31049SDH,timing+chain+&+component+kit,5756',\n",
       " 'https://www.rockauto.com/en/parts/melling,31049SDX,timing+chain+&+component+kit,5756',\n",
       " 'https://www.rockauto.com/en/parts/melling,31049SDXH,timing+chain+&+component+kit,5756',\n",
       " 'https://www.rockauto.com/en/parts/melling,31049SE,timing+chain+&+component+kit,5756',\n",
       " 'https://www.rockauto.com/en/parts/melling,31049SEH,timing+chain+&+component+kit,5756',\n",
       " 'https://www.rockauto.com/en/parts/melling,31049SF,timing+chain+&+component+kit,5756',\n",
       " 'https://www.rockauto.com/en/parts/melling,31049SFH,timing+chain+&+component+kit,5756',\n",
       " 'https://www.rockauto.com/en/parts/melling,31049SG,timing+chain+&+component+kit,5756',\n",
       " 'https://www.rockauto.com/en/parts/melling,31049SGX,timing+chain+&+component+kit,5756',\n",
       " 'https://www.rockauto.com/en/parts/melling,31049SH,timing+chain+&+component+kit,5756',\n",
       " 'https://www.rockauto.com/en/parts/melling,31049SJ,timing+chain+&+component+kit,5756',\n",
       " 'https://www.rockauto.com/en/parts/melling,31049SK,timing+chain+&+component+kit,5756',\n",
       " 'https://www.rockauto.com/en/parts/melling,31049SL,timing+chain+&+component+kit,5756',\n",
       " 'https://www.rockauto.com/en/parts/melling,31049SM,timing+chain+&+component+kit,5756',\n",
       " 'https://www.rockauto.com/en/parts/melling,31049SN,timing+chain+&+component+kit,5756',\n",
       " 'https://www.rockauto.com/en/parts/melling,31051S,timing+chain+&+component+kit,5756',\n",
       " 'https://www.rockauto.com/en/parts/melling,31051SA,timing+chain+&+component+kit,5756',\n",
       " 'https://www.rockauto.com/en/parts/melling,31051SAX,timing+chain+&+component+kit,5756',\n",
       " 'https://www.rockauto.com/en/parts/melling,31051SX,timing+chain+&+component+kit,5756',\n",
       " 'https://www.rockauto.com/en/parts/melling,31054S,timing+chain+&+component+kit,5756',\n",
       " 'https://www.rockauto.com/en/parts/melling,31055S,timing+chain+&+component+kit,5756',\n",
       " 'https://www.rockauto.com/en/parts/melling,31055SX,timing+chain+&+component+kit,5756',\n",
       " 'https://www.rockauto.com/en/parts/melling,31056S,timing+chain+&+component+kit,5756',\n",
       " 'https://www.rockauto.com/en/parts/melling,31056SX,timing+chain+&+component+kit,5756',\n",
       " 'https://www.rockauto.com/en/parts/melling,31058S,timing+chain+&+component+kit,5756',\n",
       " 'https://www.rockauto.com/en/parts/melling,31058SX,timing+chain+&+component+kit,5756',\n",
       " 'https://www.rockauto.com/en/parts/melling,31060S,timing+chain+&+component+kit,5756',\n",
       " 'https://www.rockauto.com/en/parts/melling,31060SX,timing+chain+&+component+kit,5756',\n",
       " 'https://www.rockauto.com/en/parts/melling,31062S,timing+chain+&+component+kit,5756',\n",
       " 'https://www.rockauto.com/en/parts/melling,31062SX,timing+chain+&+component+kit,5756',\n",
       " 'https://www.rockauto.com/en/parts/melling,31064S,timing+chain+&+component+kit,5756',\n",
       " 'https://www.rockauto.com/en/parts/melling,31065S,timing+chain+&+component+kit,5756',\n",
       " 'https://www.rockauto.com/en/parts/melling,31065SX,timing+chain+&+component+kit,5756',\n",
       " 'https://www.rockauto.com/en/parts/melling,31067S,timing+chain+&+component+kit,5756',\n",
       " 'https://www.rockauto.com/en/parts/melling,31067SX,timing+chain+&+component+kit,5756',\n",
       " 'https://www.rockauto.com/en/parts/melling,31069SAX,timing+chain+&+component+kit,5756',\n",
       " 'https://www.rockauto.com/en/parts/melling,31069SX,timing+chain+&+component+kit,5756',\n",
       " 'https://www.rockauto.com/en/parts/melling,31073S,timing+chain+&+component+kit,5756',\n",
       " 'https://www.rockauto.com/en/parts/melling,31073SX,timing+chain+&+component+kit,5756',\n",
       " 'https://www.rockauto.com/en/parts/melling,31075SX,timing+chain+&+component+kit,5756',\n",
       " 'https://www.rockauto.com/en/parts/melling,31076S,timing+chain+&+component+kit,5756',\n",
       " 'https://www.rockauto.com/en/parts/melling,31076SA,timing+chain+&+component+kit,5756',\n",
       " 'https://www.rockauto.com/en/parts/melling,31076SAX,timing+chain+&+component+kit,5756',\n",
       " 'https://www.rockauto.com/en/parts/melling,31076SX,timing+chain+&+component+kit,5756',\n",
       " 'https://www.rockauto.com/en/parts/melling,31078S,timing+chain+&+component+kit,5756',\n",
       " 'https://www.rockauto.com/en/parts/melling,31090S,timing+chain+&+component+kit,5756',\n",
       " 'https://www.rockauto.com/en/parts/melling,31090SX,timing+chain+&+component+kit,5756',\n",
       " 'https://www.rockauto.com/en/parts/melling,31093S,timing+chain+&+component+kit,5756',\n",
       " 'https://www.rockauto.com/en/parts/melling,3160S,timing+chain+&+component+kit,5756',\n",
       " 'https://www.rockauto.com/en/parts/melling,3163S,timing+chain+&+component+kit,5756',\n",
       " 'https://www.rockauto.com/en/parts/melling,3163SA,timing+chain+&+component+kit,5756',\n",
       " 'https://www.rockauto.com/en/parts/melling,3163SB,timing+chain+&+component+kit,5756',\n",
       " 'https://www.rockauto.com/en/parts/melling,3168S,timing+chain+&+component+kit,5756',\n",
       " 'https://www.rockauto.com/en/parts/melling,3168SA,timing+chain+&+component+kit,5756',\n",
       " 'https://www.rockauto.com/en/parts/melling,3168SC,timing+chain+&+component+kit,5756',\n",
       " 'https://www.rockauto.com/en/parts/melling,3168SD,timing+chain+&+component+kit,5756',\n",
       " 'https://www.rockauto.com/en/parts/melling,3168SE,timing+chain+&+component+kit,5756',\n",
       " 'https://www.rockauto.com/en/parts/melling,3169S,timing+chain+&+component+kit,5756',\n",
       " 'https://www.rockauto.com/en/parts/melling,3169SA,timing+chain+&+component+kit,5756',\n",
       " 'https://www.rockauto.com/en/parts/melling,3171S,timing+chain+&+component+kit,5756',\n",
       " 'https://www.rockauto.com/en/parts/melling,3181S,timing+chain+&+component+kit,5756',\n",
       " 'https://www.rockauto.com/en/parts/melling,3181SA,timing+chain+&+component+kit,5756',\n",
       " 'https://www.rockauto.com/en/parts/melling,3182S,timing+chain+&+component+kit,5756',\n",
       " 'https://www.rockauto.com/en/parts/melling,3191S,timing+chain+&+component+kit,5756',\n",
       " 'https://www.rockauto.com/en/parts/melling,3192SA,timing+chain+&+component+kit,5756',\n",
       " 'https://www.rockauto.com/en/parts/melling,3195S,timing+chain+&+component+kit,5756',\n",
       " 'https://www.rockauto.com/en/parts/melling,3195SA,timing+chain+&+component+kit,5756',\n",
       " 'https://www.rockauto.com/en/parts/melling,3195SB,timing+chain+&+component+kit,5756',\n",
       " 'https://www.rockauto.com/en/parts/melling,3195SBX,timing+chain+&+component+kit,5756',\n",
       " 'https://www.rockauto.com/en/parts/melling,3195SC,timing+chain+&+component+kit,5756',\n",
       " 'https://www.rockauto.com/en/parts/melling,3195SX,timing+chain+&+component+kit,5756',\n",
       " 'https://www.rockauto.com/en/parts/melling,3202S,timing+chain+&+component+kit,5756',\n",
       " 'https://www.rockauto.com/en/parts/melling,3202SA,timing+chain+&+component+kit,5756',\n",
       " 'https://www.rockauto.com/en/parts/melling,33235S,timing+chain+&+component+kit,5756',\n",
       " 'https://www.rockauto.com/en/parts/melling,3344S,timing+chain+&+component+kit,5756',\n",
       " 'https://www.rockauto.com/en/parts/melling,3349S,timing+chain+&+component+kit,5756',\n",
       " 'https://www.rockauto.com/en/parts/melling,3350S,timing+chain+&+component+kit,5756',\n",
       " 'https://www.rockauto.com/en/parts/melling,3351S,timing+chain+&+component+kit,5756',\n",
       " 'https://www.rockauto.com/en/parts/melling,3356S,timing+chain+&+component+kit,5756',\n",
       " 'https://www.rockauto.com/en/parts/melling,3358S,timing+chain+&+component+kit,5756',\n",
       " 'https://www.rockauto.com/en/parts/melling,3358SA,timing+chain+&+component+kit,5756',\n",
       " 'https://www.rockauto.com/en/parts/melling,3359S,timing+chain+&+component+kit,5756',\n",
       " 'https://www.rockauto.com/en/parts/melling,3359SB,timing+chain+&+component+kit,5756',\n",
       " 'https://www.rockauto.com/en/parts/melling,3359SC,timing+chain+&+component+kit,5756',\n",
       " 'https://www.rockauto.com/en/parts/melling,3361S,timing+chain+&+component+kit,5756',\n",
       " 'https://www.rockauto.com/en/parts/melling,3365SA,timing+chain+&+component+kit,5756',\n",
       " 'https://www.rockauto.com/en/parts/melling,3370S,timing+chain+&+component+kit,5756',\n",
       " 'https://www.rockauto.com/en/parts/melling,3370SA,timing+chain+&+component+kit,5756',\n",
       " 'https://www.rockauto.com/en/parts/melling,3372S,timing+chain+&+component+kit,5756',\n",
       " 'https://www.rockauto.com/en/parts/melling,3374S,timing+chain+&+component+kit,5756',\n",
       " 'https://www.rockauto.com/en/parts/melling,3374SA,timing+chain+&+component+kit,5756',\n",
       " 'https://www.rockauto.com/en/parts/melling,3376S,timing+chain+&+component+kit,5756',\n",
       " 'https://www.rockauto.com/en/parts/melling,3376SA,timing+chain+&+component+kit,5756',\n",
       " 'https://www.rockauto.com/en/parts/melling,3376SB,timing+chain+&+component+kit,5756',\n",
       " 'https://www.rockauto.com/en/parts/melling,3378S,timing+chain+&+component+kit,5756',\n",
       " 'https://www.rockauto.com/en/parts/melling,3380S,timing+chain+&+component+kit,5756',\n",
       " 'https://www.rockauto.com/en/parts/melling,3380SA,timing+chain+&+component+kit,5756',\n",
       " 'https://www.rockauto.com/en/parts/melling,3381A,timing+chain+&+component+kit,5756',\n",
       " 'https://www.rockauto.com/en/parts/melling,3381AS,timing+chain+&+component+kit,5756',\n",
       " 'https://www.rockauto.com/en/parts/melling,3383SB,timing+chain+&+component+kit,5756',\n",
       " 'https://www.rockauto.com/en/parts/melling,3384S,timing+chain+&+component+kit,5756',\n",
       " 'https://www.rockauto.com/en/parts/melling,3385S,timing+chain+&+component+kit,5756',\n",
       " 'https://www.rockauto.com/en/parts/melling,3385SA,timing+chain+&+component+kit,5756',\n",
       " 'https://www.rockauto.com/en/parts/melling,3385SB,timing+chain+&+component+kit,5756',\n",
       " 'https://www.rockauto.com/en/parts/melling,3385SC,timing+chain+&+component+kit,5756',\n",
       " 'https://www.rockauto.com/en/parts/melling,3387SA,timing+chain+&+component+kit,5756',\n",
       " 'https://www.rockauto.com/en/parts/melling,3387SAX,timing+chain+&+component+kit,5756',\n",
       " 'https://www.rockauto.com/en/parts/melling,3387SAXH,timing+chain+&+component+kit,5756',\n",
       " 'https://www.rockauto.com/en/parts/melling,3387SC,timing+chain+&+component+kit,5756',\n",
       " 'https://www.rockauto.com/en/parts/melling,3387SG,timing+chain+&+component+kit,5756',\n",
       " 'https://www.rockauto.com/en/parts/melling,3387SGF,timing+chain+&+component+kit,5756',\n",
       " 'https://www.rockauto.com/en/parts/melling,3387SGWP,timing+chain+&+component+kit,5756',\n",
       " 'https://www.rockauto.com/en/parts/melling,3387SGX,timing+chain+&+component+kit,5756',\n",
       " 'https://www.rockauto.com/en/parts/melling,3387SHF,timing+chain+&+component+kit,5756',\n",
       " 'https://www.rockauto.com/en/parts/melling,3387SIF,timing+chain+&+component+kit,5756',\n",
       " 'https://www.rockauto.com/en/parts/melling,3387SIFWP,timing+chain+&+component+kit,5756',\n",
       " 'https://www.rockauto.com/en/parts/melling,3387SJF,timing+chain+&+component+kit,5756',\n",
       " 'https://www.rockauto.com/en/parts/melling,3387SKF,timing+chain+&+component+kit,5756',\n",
       " 'https://www.rockauto.com/en/parts/melling,3387SKFC,timing+chain+&+component+kit,5756',\n",
       " 'https://www.rockauto.com/en/parts/melling,3387SKFCH,timing+chain+&+component+kit,5756',\n",
       " 'https://www.rockauto.com/en/parts/melling,3387SKFH,timing+chain+&+component+kit,5756',\n",
       " 'https://www.rockauto.com/en/parts/melling,3387SLF,timing+chain+&+component+kit,5756',\n",
       " 'https://www.rockauto.com/en/parts/melling,3387SM,timing+chain+&+component+kit,5756',\n",
       " 'https://www.rockauto.com/en/parts/melling,3387SMH,timing+chain+&+component+kit,5756',\n",
       " 'https://www.rockauto.com/en/parts/melling,3387SMK3,timing+chain+&+component+kit,5756',\n",
       " 'https://www.rockauto.com/en/parts/melling,3387SMVVT,timing+chain+&+component+kit,5756',\n",
       " 'https://www.rockauto.com/en/parts/melling,3387SMVVT1,timing+chain+&+component+kit,5756',\n",
       " 'https://www.rockauto.com/en/parts/melling,3387SMVVTH,timing+chain+&+component+kit,5756',\n",
       " 'https://www.rockauto.com/en/parts/melling,3388S,timing+chain+&+component+kit,5756',\n",
       " 'https://www.rockauto.com/en/parts/melling,3388SA,timing+chain+&+component+kit,5756',\n",
       " 'https://www.rockauto.com/en/parts/melling,3390S,timing+chain+&+component+kit,5756',\n",
       " 'https://www.rockauto.com/en/parts/melling,3390SA,timing+chain+&+component+kit,5756',\n",
       " 'https://www.rockauto.com/en/parts/melling,3391S,timing+chain+&+component+kit,5756',\n",
       " 'https://www.rockauto.com/en/parts/melling,3391SA,timing+chain+&+component+kit,5756',\n",
       " 'https://www.rockauto.com/en/parts/melling,3391SB,timing+chain+&+component+kit,5756',\n",
       " 'https://www.rockauto.com/en/parts/melling,3391SC,timing+chain+&+component+kit,5756',\n",
       " 'https://www.rockauto.com/en/parts/melling,3391SCC,timing+chain+&+component+kit,5756',\n",
       " 'https://www.rockauto.com/en/parts/melling,3391SCCH,timing+chain+&+component+kit,5756',\n",
       " 'https://www.rockauto.com/en/parts/melling,3391SCCK3,timing+chain+&+component+kit,5756',\n",
       " 'https://www.rockauto.com/en/parts/melling,3391SCCK3A,timing+chain+&+component+kit,5756',\n",
       " 'https://www.rockauto.com/en/parts/melling,3391SCCVVT,timing+chain+&+component+kit,5756',\n",
       " 'https://www.rockauto.com/en/parts/melling,3391SCCVVT1,timing+chain+&+component+kit,5756',\n",
       " 'https://www.rockauto.com/en/parts/melling,3391SCCVVTH,timing+chain+&+component+kit,5756',\n",
       " 'https://www.rockauto.com/en/parts/melling,3391SCCWP,timing+chain+&+component+kit,5756',\n",
       " 'https://www.rockauto.com/en/parts/melling,3391SCCWP1,timing+chain+&+component+kit,5756',\n",
       " 'https://www.rockauto.com/en/parts/melling,3391SCH,timing+chain+&+component+kit,5756',\n",
       " 'https://www.rockauto.com/en/parts/melling,3391SCK3,timing+chain+&+component+kit,5756',\n",
       " 'https://www.rockauto.com/en/parts/melling,3391SCK3A,timing+chain+&+component+kit,5756',\n",
       " 'https://www.rockauto.com/en/parts/melling,3391SCVVT,timing+chain+&+component+kit,5756',\n",
       " 'https://www.rockauto.com/en/parts/melling,3391SCVVT1,timing+chain+&+component+kit,5756',\n",
       " 'https://www.rockauto.com/en/parts/melling,3391SCVVTH,timing+chain+&+component+kit,5756',\n",
       " 'https://www.rockauto.com/en/parts/melling,3391SD,timing+chain+&+component+kit,5756',\n",
       " 'https://www.rockauto.com/en/parts/melling,3391SE,timing+chain+&+component+kit,5756',\n",
       " 'https://www.rockauto.com/en/parts/melling,3391SF,timing+chain+&+component+kit,5756',\n",
       " 'https://www.rockauto.com/en/parts/melling,3391SG,timing+chain+&+component+kit,5756',\n",
       " 'https://www.rockauto.com/en/parts/melling,3391SX,timing+chain+&+component+kit,5756',\n",
       " 'https://www.rockauto.com/en/parts/melling,3391SXH,timing+chain+&+component+kit,5756',\n",
       " 'https://www.rockauto.com/en/parts/melling,3392S,timing+chain+&+component+kit,5756',\n",
       " 'https://www.rockauto.com/en/parts/melling,3393SA,timing+chain+&+component+kit,5756',\n",
       " 'https://www.rockauto.com/en/parts/melling,3393SAH,timing+chain+&+component+kit,5756',\n",
       " 'https://www.rockauto.com/en/parts/melling,3393SBH,timing+chain+&+component+kit,5756',\n",
       " 'https://www.rockauto.com/en/parts/melling,3393SCH,timing+chain+&+component+kit,5756',\n",
       " 'https://www.rockauto.com/en/parts/melling,3393SF,timing+chain+&+component+kit,5756',\n",
       " 'https://www.rockauto.com/en/parts/melling,3393SFH,timing+chain+&+component+kit,5756',\n",
       " 'https://www.rockauto.com/en/parts/melling,3393SFX,timing+chain+&+component+kit,5756',\n",
       " 'https://www.rockauto.com/en/parts/melling,3393SFXH,timing+chain+&+component+kit,5756',\n",
       " 'https://www.rockauto.com/en/parts/melling,3393SX,timing+chain+&+component+kit,5756',\n",
       " 'https://www.rockauto.com/en/parts/melling,3393SXH,timing+chain+&+component+kit,5756',\n",
       " 'https://www.rockauto.com/en/parts/melling,3395S,timing+chain+&+component+kit,5756',\n",
       " 'https://www.rockauto.com/en/parts/melling,3395SA,timing+chain+&+component+kit,5756',\n",
       " 'https://www.rockauto.com/en/parts/melling,3396S,timing+chain+&+component+kit,5756',\n",
       " 'https://www.rockauto.com/en/parts/melling,3397S,timing+chain+&+component+kit,5756',\n",
       " 'https://www.rockauto.com/en/parts/melling,3397SA,timing+chain+&+component+kit,5756',\n",
       " 'https://www.rockauto.com/en/parts/melling,3397SB,timing+chain+&+component+kit,5756',\n",
       " 'https://www.rockauto.com/en/parts/melling,3397SBX,timing+chain+&+component+kit,5756',\n",
       " 'https://www.rockauto.com/en/parts/melling,3397SX,timing+chain+&+component+kit,5756',\n",
       " 'https://www.rockauto.com/en/parts/melling,3398LHA,timing+chain+&+component+kit,5756',\n",
       " 'https://www.rockauto.com/en/parts/melling,3398RHA,timing+chain+&+component+kit,5756',\n",
       " 'https://www.rockauto.com/en/parts/melling,3398S,timing+chain+&+component+kit,5756',\n",
       " 'https://www.rockauto.com/en/parts/melling,3398SA,timing+chain+&+component+kit,5756',\n",
       " 'https://www.rockauto.com/en/parts/melling,33DR130,timing+chain+&+component+kit,5756',\n",
       " 'https://www.rockauto.com/en/parts/melling,33SR60,timing+chain+&+component+kit,5756',\n",
       " 'https://www.rockauto.com/en/parts/melling,33SR60AS,timing+chain+&+component+kit,5756',\n",
       " 'https://www.rockauto.com/en/parts/melling,33SR64,timing+chain+&+component+kit,5756',\n",
       " 'https://www.rockauto.com/en/parts/melling,33SR64S,timing+chain+&+component+kit,5756',\n",
       " 'https://www.rockauto.com/en/parts/melling,33SR92,timing+chain+&+component+kit,5756',\n",
       " 'https://www.rockauto.com/en/parts/melling,33SRH106,timing+chain+&+component+kit,5756',\n",
       " 'https://www.rockauto.com/en/parts/melling,33SRH60HVVT1,timing+chain+&+component+kit,5756',\n",
       " 'https://www.rockauto.com/en/parts/melling,33SRH60S,timing+chain+&+component+kit,5756',\n",
       " 'https://www.rockauto.com/en/parts/melling,33SRH60SA,timing+chain+&+component+kit,5756',\n",
       " 'https://www.rockauto.com/en/parts/melling,33SRH60SB,timing+chain+&+component+kit,5756',\n",
       " 'https://www.rockauto.com/en/parts/melling,33SRH60SC,timing+chain+&+component+kit,5756',\n",
       " 'https://www.rockauto.com/en/parts/melling,33SRH60SD,timing+chain+&+component+kit,5756',\n",
       " 'https://www.rockauto.com/en/parts/melling,33SRH60SDHVVT,timing+chain+&+component+kit,5756',\n",
       " 'https://www.rockauto.com/en/parts/melling,33SRH60SE,timing+chain+&+component+kit,5756',\n",
       " 'https://www.rockauto.com/en/parts/melling,33SRH60SF,timing+chain+&+component+kit,5756',\n",
       " 'https://www.rockauto.com/en/parts/melling,33SRH60SG,timing+chain+&+component+kit,5756',\n",
       " 'https://www.rockauto.com/en/parts/melling,33SRH64,timing+chain+&+component+kit,5756',\n",
       " 'https://www.rockauto.com/en/parts/melling,33SRH64A,timing+chain+&+component+kit,5756',\n",
       " 'https://www.rockauto.com/en/parts/melling,33SRH64AS,timing+chain+&+component+kit,5756',\n",
       " 'https://www.rockauto.com/en/parts/melling,33SRH64S,timing+chain+&+component+kit,5756',\n",
       " 'https://www.rockauto.com/en/parts/melling,34167S,timing+chain+&+component+kit,5756',\n",
       " 'https://www.rockauto.com/en/parts/melling,34198S,timing+chain+&+component+kit,5756',\n",
       " 'https://www.rockauto.com/en/parts/melling,34198SX,timing+chain+&+component+kit,5756',\n",
       " 'https://www.rockauto.com/en/parts/melling,34200SA,timing+chain+&+component+kit,5756',\n",
       " 'https://www.rockauto.com/en/parts/melling,34201S,timing+chain+&+component+kit,5756',\n",
       " 'https://www.rockauto.com/en/parts/melling,34201SA,timing+chain+&+component+kit,5756',\n",
       " 'https://www.rockauto.com/en/parts/melling,34201SAHWP,timing+chain+&+component+kit,5756',\n",
       " 'https://www.rockauto.com/en/parts/melling,34201SB,timing+chain+&+component+kit,5756',\n",
       " 'https://www.rockauto.com/en/parts/melling,34201SBX,timing+chain+&+component+kit,5756',\n",
       " 'https://www.rockauto.com/en/parts/melling,34201SHWP,timing+chain+&+component+kit,5756',\n",
       " 'https://www.rockauto.com/en/parts/melling,34201SX,timing+chain+&+component+kit,5756',\n",
       " 'https://www.rockauto.com/en/parts/melling,34202SAX,timing+chain+&+component+kit,5756',\n",
       " 'https://www.rockauto.com/en/parts/melling,34202SB,timing+chain+&+component+kit,5756',\n",
       " 'https://www.rockauto.com/en/parts/melling,34202SC,timing+chain+&+component+kit,5756',\n",
       " 'https://www.rockauto.com/en/parts/melling,34207S,timing+chain+&+component+kit,5756',\n",
       " 'https://www.rockauto.com/en/parts/melling,34207SA,timing+chain+&+component+kit,5756',\n",
       " 'https://www.rockauto.com/en/parts/melling,34207SAX,timing+chain+&+component+kit,5756',\n",
       " 'https://www.rockauto.com/en/parts/melling,34207SX,timing+chain+&+component+kit,5756',\n",
       " 'https://www.rockauto.com/en/parts/melling,34210SA,timing+chain+&+component+kit,5756',\n",
       " 'https://www.rockauto.com/en/parts/melling,34212S,timing+chain+&+component+kit,5756',\n",
       " 'https://www.rockauto.com/en/parts/melling,34212SA,timing+chain+&+component+kit,5756',\n",
       " 'https://www.rockauto.com/en/parts/melling,34212SB,timing+chain+&+component+kit,5756',\n",
       " 'https://www.rockauto.com/en/parts/melling,34212SC,timing+chain+&+component+kit,5756',\n",
       " 'https://www.rockauto.com/en/parts/melling,34212SCX,timing+chain+&+component+kit,5756',\n",
       " 'https://www.rockauto.com/en/parts/melling,34214SA,timing+chain+&+component+kit,5756',\n",
       " 'https://www.rockauto.com/en/parts/melling,34221S,timing+chain+&+component+kit,5756',\n",
       " 'https://www.rockauto.com/en/parts/melling,34221SX,timing+chain+&+component+kit,5756',\n",
       " 'https://www.rockauto.com/en/parts/melling,3489S,timing+chain+&+component+kit,5756',\n",
       " 'https://www.rockauto.com/en/parts/melling,3491S,timing+chain+&+component+kit,5756',\n",
       " 'https://www.rockauto.com/en/parts/melling,3491SA,timing+chain+&+component+kit,5756',\n",
       " 'https://www.rockauto.com/en/parts/melling,3494S,timing+chain+&+component+kit,5756',\n",
       " 'https://www.rockauto.com/en/parts/melling,3494SA,timing+chain+&+component+kit,5756',\n",
       " 'https://www.rockauto.com/en/parts/melling,3494SB,timing+chain+&+component+kit,5756',\n",
       " 'https://www.rockauto.com/en/parts/melling,3494SC,timing+chain+&+component+kit,5756',\n",
       " 'https://www.rockauto.com/en/parts/melling,3494SD,timing+chain+&+component+kit,5756',\n",
       " 'https://www.rockauto.com/en/parts/melling,3495S,timing+chain+&+component+kit,5756',\n",
       " 'https://www.rockauto.com/en/parts/melling,3498S,timing+chain+&+component+kit,5756',\n",
       " 'https://www.rockauto.com/en/parts/melling,3498SA,timing+chain+&+component+kit,5756',\n",
       " 'https://www.rockauto.com/en/parts/melling,3498SB,timing+chain+&+component+kit,5756',\n",
       " 'https://www.rockauto.com/en/parts/melling,3498SC,timing+chain+&+component+kit,5756',\n",
       " 'https://www.rockauto.com/en/parts/melling,3499S,timing+chain+&+component+kit,5756',\n",
       " 'https://www.rockauto.com/en/parts/melling,3499SA,timing+chain+&+component+kit,5756',\n",
       " 'https://www.rockauto.com/en/parts/melling,34SR48,timing+chain+&+component+kit,5756',\n",
       " 'https://www.rockauto.com/en/parts/melling,34SR50,timing+chain+&+component+kit,5756',\n",
       " 'https://www.rockauto.com/en/parts/melling,34SR50SA,timing+chain+&+component+kit,5756',\n",
       " 'https://www.rockauto.com/en/parts/melling,34SR50SB,timing+chain+&+component+kit,5756',\n",
       " 'https://www.rockauto.com/en/parts/melling,34SR50SC,timing+chain+&+component+kit,5756',\n",
       " 'https://www.rockauto.com/en/parts/melling,34SR50SD,timing+chain+&+component+kit,5756',\n",
       " 'https://www.rockauto.com/en/parts/melling,34SR50SE,timing+chain+&+component+kit,5756',\n",
       " 'https://www.rockauto.com/en/parts/melling,3501S,timing+chain+&+component+kit,5756',\n",
       " 'https://www.rockauto.com/en/parts/melling,3501SA,timing+chain+&+component+kit,5756',\n",
       " 'https://www.rockauto.com/en/parts/melling,3503S,timing+chain+&+component+kit,5756',\n",
       " 'https://www.rockauto.com/en/parts/melling,3505S,timing+chain+&+component+kit,5756',\n",
       " 'https://www.rockauto.com/en/parts/melling,3505SA,timing+chain+&+component+kit,5756',\n",
       " 'https://www.rockauto.com/en/parts/melling,3506S,timing+chain+&+component+kit,5756',\n",
       " 'https://www.rockauto.com/en/parts/melling,3506SB,timing+chain+&+component+kit,5756',\n",
       " 'https://www.rockauto.com/en/parts/melling,3506SC,timing+chain+&+component+kit,5756',\n",
       " 'https://www.rockauto.com/en/parts/melling,3507S,timing+chain+&+component+kit,5756',\n",
       " 'https://www.rockauto.com/en/parts/melling,3509S,timing+chain+&+component+kit,5756',\n",
       " 'https://www.rockauto.com/en/parts/melling,3509SA,timing+chain+&+component+kit,5756',\n",
       " 'https://www.rockauto.com/en/parts/melling,3509SB,timing+chain+&+component+kit,5756',\n",
       " 'https://www.rockauto.com/en/parts/melling,3700S,timing+chain+&+component+kit,5756',\n",
       " 'https://www.rockauto.com/en/parts/melling,3700SA,timing+chain+&+component+kit,5756',\n",
       " 'https://www.rockauto.com/en/parts/melling,3700SB,timing+chain+&+component+kit,5756',\n",
       " 'https://www.rockauto.com/en/parts/melling,3700SC,timing+chain+&+component+kit,5756',\n",
       " 'https://www.rockauto.com/en/parts/melling,3700SD,timing+chain+&+component+kit,5756',\n",
       " 'https://www.rockauto.com/en/parts/melling,3700SE,timing+chain+&+component+kit,5756',\n",
       " 'https://www.rockauto.com/en/parts/melling,3704S,timing+chain+&+component+kit,5756',\n",
       " 'https://www.rockauto.com/en/parts/melling,3704SA,timing+chain+&+component+kit,5756',\n",
       " 'https://www.rockauto.com/en/parts/melling,3705S,timing+chain+&+component+kit,5756',\n",
       " 'https://www.rockauto.com/en/parts/melling,3705SA,timing+chain+&+component+kit,5756',\n",
       " 'https://www.rockauto.com/en/parts/melling,3705SAX,timing+chain+&+component+kit,5756',\n",
       " 'https://www.rockauto.com/en/parts/melling,3705SB,timing+chain+&+component+kit,5756',\n",
       " 'https://www.rockauto.com/en/parts/melling,3705SBX,timing+chain+&+component+kit,5756',\n",
       " 'https://www.rockauto.com/en/parts/melling,3705SCX,timing+chain+&+component+kit,5756',\n",
       " 'https://www.rockauto.com/en/parts/melling,3705SDX,timing+chain+&+component+kit,5756',\n",
       " 'https://www.rockauto.com/en/parts/melling,3705SFX,timing+chain+&+component+kit,5756',\n",
       " 'https://www.rockauto.com/en/parts/melling,3705SX,timing+chain+&+component+kit,5756',\n",
       " 'https://www.rockauto.com/en/parts/melling,3707SAX,timing+chain+&+component+kit,5756',\n",
       " 'https://www.rockauto.com/en/parts/melling,3707SX,timing+chain+&+component+kit,5756',\n",
       " 'https://www.rockauto.com/en/parts/melling,3708S,timing+chain+&+component+kit,5756',\n",
       " 'https://www.rockauto.com/en/parts/melling,3708SA,timing+chain+&+component+kit,5756',\n",
       " 'https://www.rockauto.com/en/parts/melling,3711S,timing+chain+&+component+kit,5756',\n",
       " 'https://www.rockauto.com/en/parts/melling,3711SA,timing+chain+&+component+kit,5756',\n",
       " 'https://www.rockauto.com/en/parts/melling,3711SB,timing+chain+&+component+kit,5756',\n",
       " 'https://www.rockauto.com/en/parts/melling,3711SBX,timing+chain+&+component+kit,5756',\n",
       " 'https://www.rockauto.com/en/parts/melling,3711SX,timing+chain+&+component+kit,5756',\n",
       " 'https://www.rockauto.com/en/parts/melling,3715S,timing+chain+&+component+kit,5756',\n",
       " 'https://www.rockauto.com/en/parts/melling,3715SA,timing+chain+&+component+kit,5756',\n",
       " 'https://www.rockauto.com/en/parts/melling,3715SAX,timing+chain+&+component+kit,5756',\n",
       " 'https://www.rockauto.com/en/parts/melling,3715SBX,timing+chain+&+component+kit,5756',\n",
       " 'https://www.rockauto.com/en/parts/melling,3715SX,timing+chain+&+component+kit,5756',\n",
       " 'https://www.rockauto.com/en/parts/melling,3720S,timing+chain+&+component+kit,5756',\n",
       " 'https://www.rockauto.com/en/parts/melling,3720SA,timing+chain+&+component+kit,5756',\n",
       " 'https://www.rockauto.com/en/parts/melling,3720SAHWP,timing+chain+&+component+kit,5756',\n",
       " 'https://www.rockauto.com/en/parts/melling,3720SAX,timing+chain+&+component+kit,5756',\n",
       " 'https://www.rockauto.com/en/parts/melling,3720SAXHWP,timing+chain+&+component+kit,5756',\n",
       " 'https://www.rockauto.com/en/parts/melling,3724S,timing+chain+&+component+kit,5756',\n",
       " 'https://www.rockauto.com/en/parts/melling,3727S,timing+chain+&+component+kit,5756',\n",
       " 'https://www.rockauto.com/en/parts/melling,3727SA,timing+chain+&+component+kit,5756',\n",
       " 'https://www.rockauto.com/en/parts/melling,3727SAX,timing+chain+&+component+kit,5756',\n",
       " 'https://www.rockauto.com/en/parts/melling,3727SB,timing+chain+&+component+kit,5756',\n",
       " 'https://www.rockauto.com/en/parts/melling,3727SBX,timing+chain+&+component+kit,5756',\n",
       " 'https://www.rockauto.com/en/parts/melling,3727SX,timing+chain+&+component+kit,5756',\n",
       " 'https://www.rockauto.com/en/parts/melling,3730S,timing+chain+&+component+kit,5756',\n",
       " 'https://www.rockauto.com/en/parts/melling,3730SA,timing+chain+&+component+kit,5756',\n",
       " 'https://www.rockauto.com/en/parts/melling,3730SA1HWP,timing+chain+&+component+kit,5756',\n",
       " 'https://www.rockauto.com/en/parts/melling,3730SAHWP,timing+chain+&+component+kit,5756',\n",
       " 'https://www.rockauto.com/en/parts/melling,3730SAX,timing+chain+&+component+kit,5756',\n",
       " 'https://www.rockauto.com/en/parts/melling,3730SAX1HWP,timing+chain+&+component+kit,5756',\n",
       " 'https://www.rockauto.com/en/parts/melling,3730SAXHWP,timing+chain+&+component+kit,5756',\n",
       " 'https://www.rockauto.com/en/parts/melling,3730SHWP,timing+chain+&+component+kit,5756',\n",
       " 'https://www.rockauto.com/en/parts/melling,3730SX,timing+chain+&+component+kit,5756',\n",
       " 'https://www.rockauto.com/en/parts/melling,3730SXHWP,timing+chain+&+component+kit,5756',\n",
       " 'https://www.rockauto.com/en/parts/melling,3750S,timing+chain+&+component+kit,5756',\n",
       " 'https://www.rockauto.com/en/parts/melling,3750SHVVT,timing+chain+&+component+kit,5756',\n",
       " 'https://www.rockauto.com/en/parts/melling,3750SX,timing+chain+&+component+kit,5756',\n",
       " 'https://www.rockauto.com/en/parts/melling,3752S,timing+chain+&+component+kit,5756',\n",
       " 'https://www.rockauto.com/en/parts/melling,3752SX,timing+chain+&+component+kit,5756',\n",
       " 'https://www.rockauto.com/en/parts/melling,3753S,timing+chain+&+component+kit,5756',\n",
       " 'https://www.rockauto.com/en/parts/melling,3753SX,timing+chain+&+component+kit,5756',\n",
       " 'https://www.rockauto.com/en/parts/melling,38MMSR130SX,timing+chain+&+component+kit,5756',\n",
       " 'https://www.rockauto.com/en/parts/melling,38MMSRH62S,timing+chain+&+component+kit,5756',\n",
       " 'https://www.rockauto.com/en/parts/melling,38MMSRH62SA,timing+chain+&+component+kit,5756',\n",
       " 'https://www.rockauto.com/en/parts/melling,38MMSRH72S,timing+chain+&+component+kit,5756',\n",
       " 'https://www.rockauto.com/en/parts/melling,38MMSRH72SA,timing+chain+&+component+kit,5756',\n",
       " 'https://www.rockauto.com/en/parts/melling,38MMSRH72SB,timing+chain+&+component+kit,5756',\n",
       " 'https://www.rockauto.com/en/parts/melling,3900CS,timing+chain+&+component+kit,5756',\n",
       " 'https://www.rockauto.com/en/parts/melling,3900CSA,timing+chain+&+component+kit,5756',\n",
       " 'https://www.rockauto.com/en/parts/melling,3900CSB,timing+chain+&+component+kit,5756',\n",
       " 'https://www.rockauto.com/en/parts/melling,3900CSX,timing+chain+&+component+kit,5756',\n",
       " 'https://www.rockauto.com/en/parts/melling,3916S,timing+chain+&+component+kit,5756',\n",
       " 'https://www.rockauto.com/en/parts/melling,3916SA,timing+chain+&+component+kit,5756',\n",
       " 'https://www.rockauto.com/en/parts/melling,3916SX,timing+chain+&+component+kit,5756',\n",
       " 'https://www.rockauto.com/en/parts/melling,3DR1022,timing+chain+&+component+kit,5756',\n",
       " 'https://www.rockauto.com/en/parts/melling,3DR106D1,timing+chain+&+component+kit,5756',\n",
       " 'https://www.rockauto.com/en/parts/melling,3DR1101,timing+chain+&+component+kit,5756',\n",
       " 'https://www.rockauto.com/en/parts/melling,3DR601,timing+chain+&+component+kit,5756',\n",
       " 'https://www.rockauto.com/en/parts/melling,3DR961,timing+chain+&+component+kit,5756',\n",
       " 'https://www.rockauto.com/en/parts/melling,3SR1021,timing+chain+&+component+kit,5756',\n",
       " 'https://www.rockauto.com/en/parts/melling,3SR921,timing+chain+&+component+kit,5756',\n",
       " 'https://www.rockauto.com/en/parts/melling,3SR961,timing+chain+&+component+kit,5756',\n",
       " 'https://www.rockauto.com/en/parts/melling,3SR961HD,timing+chain+&+component+kit,5756',\n",
       " 'https://www.rockauto.com/en/parts/melling,3SR981,timing+chain+&+component+kit,5756',\n",
       " 'https://www.rockauto.com/en/parts/melling,40201,timing+chain+&+component+kit,5756',\n",
       " 'https://www.rockauto.com/en/parts/melling,40202,timing+chain+&+component+kit,5756',\n",
       " 'https://www.rockauto.com/en/parts/melling,40203,timing+chain+&+component+kit,5756',\n",
       " 'https://www.rockauto.com/en/parts/melling,40204,timing+chain+&+component+kit,5756',\n",
       " 'https://www.rockauto.com/en/parts/melling,40205,timing+chain+&+component+kit,5756',\n",
       " 'https://www.rockauto.com/en/parts/melling,40206,timing+chain+&+component+kit,5756',\n",
       " 'https://www.rockauto.com/en/parts/melling,40217,timing+chain+&+component+kit,5756',\n",
       " 'https://www.rockauto.com/en/parts/melling,40400,timing+chain+&+component+kit,5756',\n",
       " 'https://www.rockauto.com/en/parts/melling,40401,timing+chain+&+component+kit,5756',\n",
       " 'https://www.rockauto.com/en/parts/melling,40402,timing+chain+&+component+kit,5756',\n",
       " 'https://www.rockauto.com/en/parts/melling,40403,timing+chain+&+component+kit,5756',\n",
       " 'https://www.rockauto.com/en/parts/melling,40404,timing+chain+&+component+kit,5756',\n",
       " 'https://www.rockauto.com/en/parts/melling,40405,timing+chain+&+component+kit,5756',\n",
       " 'https://www.rockauto.com/en/parts/melling,40406,timing+chain+&+component+kit,5756',\n",
       " 'https://www.rockauto.com/en/parts/melling,40407,timing+chain+&+component+kit,5756',\n",
       " 'https://www.rockauto.com/en/parts/melling,40408,timing+chain+&+component+kit,5756',\n",
       " 'https://www.rockauto.com/en/parts/melling,40409,timing+chain+&+component+kit,5756',\n",
       " 'https://www.rockauto.com/en/parts/melling,40410,timing+chain+&+component+kit,5756',\n",
       " 'https://www.rockauto.com/en/parts/melling,40500,timing+chain+&+component+kit,5756',\n",
       " 'https://www.rockauto.com/en/parts/melling,40510,timing+chain+&+component+kit,5756',\n",
       " 'https://www.rockauto.com/en/parts/melling,40520,timing+chain+&+component+kit,5756',\n",
       " 'https://www.rockauto.com/en/parts/melling,40540,timing+chain+&+component+kit,5756',\n",
       " 'https://www.rockauto.com/en/parts/melling,48500T9,timing+chain+&+component+kit,5756',\n",
       " 'https://www.rockauto.com/en/parts/melling,48510T9,timing+chain+&+component+kit,5756',\n",
       " 'https://www.rockauto.com/en/parts/melling,48520T9,timing+chain+&+component+kit,5756',\n",
       " 'https://www.rockauto.com/en/parts/melling,48530T9,timing+chain+&+component+kit,5756',\n",
       " 'https://www.rockauto.com/en/parts/melling,48551T9,timing+chain+&+component+kit,5756',\n",
       " 'https://www.rockauto.com/en/parts/melling,48560T9,timing+chain+&+component+kit,5756',\n",
       " 'https://www.rockauto.com/en/parts/melling,48561T9,timing+chain+&+component+kit,5756',\n",
       " 'https://www.rockauto.com/en/parts/melling,485626,timing+chain+&+component+kit,5756',\n",
       " 'https://www.rockauto.com/en/parts/melling,48562T9,timing+chain+&+component+kit,5756',\n",
       " 'https://www.rockauto.com/en/parts/melling,485636,timing+chain+&+component+kit,5756',\n",
       " 'https://www.rockauto.com/en/parts/melling,48563T9,timing+chain+&+component+kit,5756',\n",
       " 'https://www.rockauto.com/en/parts/melling,48564T9,timing+chain+&+component+kit,5756',\n",
       " 'https://www.rockauto.com/en/parts/melling,48565T9,timing+chain+&+component+kit,5756',\n",
       " 'https://www.rockauto.com/en/parts/melling,48566T9,timing+chain+&+component+kit,5756',\n",
       " 'https://www.rockauto.com/en/parts/melling,48567T9,timing+chain+&+component+kit,5756',\n",
       " 'https://www.rockauto.com/en/parts/melling,485683,timing+chain+&+component+kit,5756',\n",
       " 'https://www.rockauto.com/en/parts/melling,485699,timing+chain+&+component+kit,5756',\n",
       " 'https://www.rockauto.com/en/parts/melling,48570T9,timing+chain+&+component+kit,5756',\n",
       " 'https://www.rockauto.com/en/parts/melling,48571T9,timing+chain+&+component+kit,5756',\n",
       " 'https://www.rockauto.com/en/parts/melling,TOPK1000,timing+chain+&+component+kit,5756',\n",
       " 'https://www.rockauto.com/en/parts/melling,TOPK1000HV,timing+chain+&+component+kit,5756',\n",
       " 'https://www.rockauto.com/en/parts/melling,TOPK1001,timing+chain+&+component+kit,5756',\n",
       " 'https://www.rockauto.com/en/parts/melling,TOPK1001HV,timing+chain+&+component+kit,5756',\n",
       " 'https://www.rockauto.com/en/parts/melling,TOPK1002,timing+chain+&+component+kit,5756',\n",
       " 'https://www.rockauto.com/en/parts/melling,TOPK1002HV,timing+chain+&+component+kit,5756',\n",
       " 'https://www.rockauto.com/en/parts/melling,TOPK1003,timing+chain+&+component+kit,5756',\n",
       " 'https://www.rockauto.com/en/parts/melling,TOPK1003HV,timing+chain+&+component+kit,5756',\n",
       " 'https://www.rockauto.com/en/parts/melling,TOPK1004,timing+chain+&+component+kit,5756',\n",
       " 'https://www.rockauto.com/en/parts/melling,TOPK1004HV,timing+chain+&+component+kit,5756',\n",
       " 'https://www.rockauto.com/en/parts/melling,TOPK1005,timing+chain+&+component+kit,5756',\n",
       " 'https://www.rockauto.com/en/parts/melling,TOPK1006,timing+chain+&+component+kit,5756',\n",
       " 'https://www.rockauto.com/en/parts/melling,TOPK1006HV,timing+chain+&+component+kit,5756',\n",
       " 'https://www.rockauto.com/en/parts/melling,TOPK1007,timing+chain+&+component+kit,5756',\n",
       " 'https://www.rockauto.com/en/parts/melling,TOPK1008,timing+chain+&+component+kit,5756']"
      ]
     },
     "execution_count": 2,
     "metadata": {},
     "output_type": "execute_result"
    }
   ],
   "source": [
    "df_menu = pd.read_excel('./menu.xlsx', header=0)\n",
    "list_url = df_menu['Url'].to_list()\n",
    "\n",
    "print('总数量：' + str(len(list_url)))\n",
    "list_url"
   ]
  },
  {
   "cell_type": "code",
   "execution_count": 3,
   "id": "ccc172ba",
   "metadata": {},
   "outputs": [
    {
     "data": {
      "text/html": [
       "<div>\n",
       "<style scoped>\n",
       "    .dataframe tbody tr th:only-of-type {\n",
       "        vertical-align: middle;\n",
       "    }\n",
       "\n",
       "    .dataframe tbody tr th {\n",
       "        vertical-align: top;\n",
       "    }\n",
       "\n",
       "    .dataframe thead th {\n",
       "        text-align: right;\n",
       "    }\n",
       "</style>\n",
       "<table border=\"1\" class=\"dataframe\">\n",
       "  <thead>\n",
       "    <tr style=\"text-align: right;\">\n",
       "      <th></th>\n",
       "    </tr>\n",
       "  </thead>\n",
       "  <tbody>\n",
       "  </tbody>\n",
       "</table>\n",
       "</div>"
      ],
      "text/plain": [
       "Empty DataFrame\n",
       "Columns: []\n",
       "Index: []"
      ]
     },
     "execution_count": 3,
     "metadata": {},
     "output_type": "execute_result"
    }
   ],
   "source": [
    "df = pd.DataFrame()\n",
    "\n",
    "df"
   ]
  },
  {
   "cell_type": "code",
   "execution_count": 4,
   "id": "8d1ca69c",
   "metadata": {},
   "outputs": [],
   "source": [
    "from selenium.webdriver import ChromeOptions"
   ]
  },
  {
   "cell_type": "code",
   "execution_count": 5,
   "id": "fe4e6120",
   "metadata": {},
   "outputs": [],
   "source": [
    "option = ChromeOptions()\n",
    "option.add_experimental_option('useAutomationExtension', False)\n",
    "# option.add_argument('blink-settings=imagesEnabled=false')\n",
    "option.add_argument('--disable-blink-features=AutomationControlled')\n",
    "option.add_argument('--disable-dev-shm-usage')\n",
    "option.add_argument('--disable-gpu')\n",
    "option.add_experimental_option('excludeSwitches', ['enable-automation'])\n",
    "# option.add_argument('--headless')\n",
    "option.add_argument('--no-sandbox')\n",
    "# option.add_argument('--proxy-server=')\n",
    "# option.add_argument('user-agent=')\n",
    "option.page_load_strategy = 'eager'"
   ]
  },
  {
   "cell_type": "code",
   "execution_count": 6,
   "id": "615beeeb",
   "metadata": {},
   "outputs": [],
   "source": [
    "from selenium.webdriver import Chrome\n",
    "from selenium.webdriver.chrome.service import Service"
   ]
  },
  {
   "cell_type": "code",
   "execution_count": 7,
   "id": "018d81c1",
   "metadata": {},
   "outputs": [],
   "source": [
    "browser = Chrome(service=Service('../../../chromedriver'), options=option)\n",
    "\n",
    "browser.maximize_window()"
   ]
  },
  {
   "cell_type": "code",
   "execution_count": 8,
   "id": "9e02fbb5",
   "metadata": {
    "scrolled": true
   },
   "outputs": [],
   "source": [
    "import time\n",
    "\n",
    "i = 10\n",
    "\n",
    "browser.get(list_url[i])\n",
    "\n",
    "time.sleep(3)"
   ]
  },
  {
   "cell_type": "code",
   "execution_count": 9,
   "id": "7cabed18",
   "metadata": {},
   "outputs": [],
   "source": [
    "from selenium.webdriver.support import expected_conditions as EC\n",
    "from selenium.webdriver.support.wait import WebDriverWait\n",
    "from selenium.webdriver.common.by import By"
   ]
  },
  {
   "cell_type": "code",
   "execution_count": 10,
   "id": "87e7672c",
   "metadata": {},
   "outputs": [],
   "source": [
    "if len(browser.find_elements(by=By.XPATH, value='//span[contains(@class, \"navlabellink\") and contains(@class, \"nvoffset\") and contains(@class, \"nnormal\")]')) != 0:\n",
    "    print('No Parts Found')"
   ]
  },
  {
   "cell_type": "code",
   "execution_count": 11,
   "id": "cd14a208",
   "metadata": {},
   "outputs": [
    {
     "data": {
      "text/plain": [
       "[<selenium.webdriver.remote.webelement.WebElement (session=\"e60cde17e004b1531dcb98f1d5beea0c\", element=\"132BC056FF5F9C76F05EC6C0E919787B_element_32\")>]"
      ]
     },
     "execution_count": 11,
     "metadata": {},
     "output_type": "execute_result"
    }
   ],
   "source": [
    "wait = WebDriverWait(browser, 60)\n",
    "wait.until(EC.presence_of_element_located((By.XPATH, '//tbody[contains(@class, \"listing-inner\") and contains(@class, \"altrow-a-1\")]')))\n",
    "list_part = browser.find_elements(by=By.XPATH, value='//tbody[contains(@class, \"listing-inner\") and (contains(@class, \"altrow-a-1\") or contains(@class, \"altrow-a-0\"))]')\n",
    "\n",
    "list_part"
   ]
  },
  {
   "cell_type": "code",
   "execution_count": 12,
   "id": "235d790d",
   "metadata": {},
   "outputs": [
    {
     "data": {
      "text/plain": [
       "[<selenium.webdriver.remote.webelement.WebElement (session=\"e60cde17e004b1531dcb98f1d5beea0c\", element=\"132BC056FF5F9C76F05EC6C0E919787B_element_33\")>]"
      ]
     },
     "execution_count": 12,
     "metadata": {},
     "output_type": "execute_result"
    }
   ],
   "source": [
    "list_part_number = [part.find_element(by=By.XPATH, value='./descendant::div[contains(@class, \"listing-text-row-moreinfo-truck\")]/span[contains(@title, \"Buyer\\'s Guide\")]') for part in list_part]\n",
    "\n",
    "list_part_number"
   ]
  },
  {
   "cell_type": "code",
   "execution_count": 13,
   "id": "1b109931",
   "metadata": {},
   "outputs": [
    {
     "data": {
      "text/plain": [
       "0"
      ]
     },
     "execution_count": 13,
     "metadata": {},
     "output_type": "execute_result"
    }
   ],
   "source": [
    "part_index = [part_number.text for part_number in list_part_number].index(list_url[i].split(',')[-3])\n",
    "\n",
    "part_index"
   ]
  },
  {
   "cell_type": "code",
   "execution_count": 14,
   "id": "5465a987",
   "metadata": {},
   "outputs": [
    {
     "data": {
      "text/plain": [
       "'MELLING'"
      ]
     },
     "execution_count": 14,
     "metadata": {},
     "output_type": "execute_result"
    }
   ],
   "source": [
    "manufacturer = list_part[part_index].find_element(by=By.XPATH, value='./descendant::div[contains(@class, \"listing-text-row-moreinfo-truck\")]/span[contains(@class, \"listing-final-manufacturer\")]').text\n",
    "\n",
    "manufacturer"
   ]
  },
  {
   "cell_type": "code",
   "execution_count": 15,
   "id": "514d6e06",
   "metadata": {},
   "outputs": [
    {
     "name": "stdout",
     "output_type": "stream",
     "text": [
      "LEXUS ES350 2007-2015\n",
      "LEXUS GS300 2006\n",
      "LEXUS IS250 2006-2015\n",
      "LEXUS RX350 2007-2015\n",
      "LEXUS RX450H 2010-2015\n",
      "TOYOTA AVALON 2005-2016\n",
      "TOYOTA CAMRY 2007-2016\n",
      "TOYOTA HIGHLANDER 2008-2016\n",
      "TOYOTA RAV4 2006-2012\n",
      "TOYOTA SIENNA 2007-2016\n",
      "TOYOTA VENZA 2009-2016\n"
     ]
    }
   ],
   "source": [
    "list_part_number[part_index].click()\n",
    "time.sleep(7)\n",
    "list_vehicle = browser.find_element(by=By.XPATH, value='//div[contains(@id, \"buyersguidepopup-outer_c\")]').find_elements(by=By.XPATH, value='./descendant::table[contains(@class, \"nobmp\")]')\n",
    "if len(list_vehicle) == 0:\n",
    "    vehicle = ''\n",
    "else:\n",
    "    vehicle = list_vehicle[0].text\n",
    "\n",
    "print(vehicle)"
   ]
  },
  {
   "cell_type": "code",
   "execution_count": 16,
   "id": "0e21cbad",
   "metadata": {},
   "outputs": [
    {
     "data": {
      "text/plain": [
       "'Does Not Include Sprockets'"
      ]
     },
     "execution_count": 16,
     "metadata": {},
     "output_type": "execute_result"
    }
   ],
   "source": [
    "note_1 = ';'.join(row.text for row in list_part[part_index].find_elements(by=By.XPATH, value='./descendant::div[contains(@class, \"listing-text-row-moreinfo-truck\")]/span[contains(@class, \"span-link-underline-remover\")]'))\n",
    "\n",
    "note_1"
   ]
  },
  {
   "cell_type": "code",
   "execution_count": 17,
   "id": "d2bd254c",
   "metadata": {},
   "outputs": [
    {
     "data": {
      "text/plain": [
       "'https://www.rockauto.com/en/moreinfo.php?pk=9722076&cc=0&pt=5756'"
      ]
     },
     "execution_count": 17,
     "metadata": {},
     "output_type": "execute_result"
    }
   ],
   "source": [
    "info = ';'.join(row.get_attribute('href') for row in list_part[part_index].find_elements(by=By.XPATH, value='./descendant::div[contains(@class, \"listing-text-row-moreinfo-truck\")]/a[contains(@class, \"ra-btn\") and contains(@class, \"ra-btn-moreinfo\")]'))\n",
    "\n",
    "info"
   ]
  },
  {
   "cell_type": "code",
   "execution_count": 18,
   "id": "82228fd5",
   "metadata": {},
   "outputs": [
    {
     "data": {
      "text/plain": [
       "'Category: Timing Chain & Component Kit'"
      ]
     },
     "execution_count": 18,
     "metadata": {},
     "output_type": "execute_result"
    }
   ],
   "source": [
    "note_2 = ';'.join(row.text for row in list_part[part_index].find_elements(by=By.XPATH, value='./descendant::div[contains(@class, \"listing-text-row\") and not(contains(@class, \"moreinfo-truck\"))]'))\n",
    "\n",
    "note_2"
   ]
  },
  {
   "cell_type": "code",
   "execution_count": 19,
   "id": "a4e918ae",
   "metadata": {},
   "outputs": [
    {
     "data": {
      "text/plain": [
       "''"
      ]
     },
     "execution_count": 19,
     "metadata": {},
     "output_type": "execute_result"
    }
   ],
   "source": [
    "oe = ';'.join(row.get_attribute('textContent') for row in list_part[part_index].find_elements(by=By.XPATH, value='./descendant::span[contains(@title, \"Replaces these Alternate/ OE Part Numbers\")]'))\n",
    "oe = ';'.join(oe.split(', '))\n",
    "\n",
    "oe"
   ]
  },
  {
   "cell_type": "code",
   "execution_count": 20,
   "id": "1a81bf14",
   "metadata": {},
   "outputs": [
    {
     "data": {
      "text/plain": [
       "'https://www.rockauto.com/info/583/3-0490SX-1-KIT__ra_m.jpg'"
      ]
     },
     "execution_count": 20,
     "metadata": {},
     "output_type": "execute_result"
    }
   ],
   "source": [
    "src = ';'.join(row.get_attribute('src') for row in list_part[part_index].find_elements(by=By.XPATH, value='./descendant::img[contains(@id, \"inlineimg_thumb\")]'))\n",
    "\n",
    "src"
   ]
  },
  {
   "cell_type": "code",
   "execution_count": 21,
   "id": "07befa50",
   "metadata": {},
   "outputs": [
    {
     "data": {
      "text/html": [
       "<div>\n",
       "<style scoped>\n",
       "    .dataframe tbody tr th:only-of-type {\n",
       "        vertical-align: middle;\n",
       "    }\n",
       "\n",
       "    .dataframe tbody tr th {\n",
       "        vertical-align: top;\n",
       "    }\n",
       "\n",
       "    .dataframe thead th {\n",
       "        text-align: right;\n",
       "    }\n",
       "</style>\n",
       "<table border=\"1\" class=\"dataframe\">\n",
       "  <thead>\n",
       "    <tr style=\"text-align: right;\">\n",
       "      <th></th>\n",
       "      <th>status</th>\n",
       "      <th>Manufacturer</th>\n",
       "      <th>Vehicle</th>\n",
       "      <th>Alternate_OE_Part_Numbers</th>\n",
       "      <th>Note_1</th>\n",
       "      <th>Note_2</th>\n",
       "      <th>Pic</th>\n",
       "      <th>Url</th>\n",
       "      <th>Info</th>\n",
       "      <th>Src</th>\n",
       "    </tr>\n",
       "  </thead>\n",
       "  <tbody>\n",
       "    <tr>\n",
       "      <th>0</th>\n",
       "      <td>ok</td>\n",
       "      <td>MELLING</td>\n",
       "      <td>LEXUS ES350 2007-2015\\nLEXUS GS300 2006\\nLEXUS...</td>\n",
       "      <td></td>\n",
       "      <td>Does Not Include Sprockets</td>\n",
       "      <td>Category: Timing Chain &amp; Component Kit</td>\n",
       "      <td></td>\n",
       "      <td>https://www.rockauto.com/en/parts/melling,3049...</td>\n",
       "      <td>https://www.rockauto.com/en/moreinfo.php?pk=97...</td>\n",
       "      <td>https://www.rockauto.com/info/583/3-0490SX-1-K...</td>\n",
       "    </tr>\n",
       "  </tbody>\n",
       "</table>\n",
       "</div>"
      ],
      "text/plain": [
       "  status Manufacturer                                            Vehicle  \\\n",
       "0     ok      MELLING  LEXUS ES350 2007-2015\\nLEXUS GS300 2006\\nLEXUS...   \n",
       "\n",
       "  Alternate_OE_Part_Numbers                      Note_1  \\\n",
       "0                            Does Not Include Sprockets   \n",
       "\n",
       "                                   Note_2 Pic  \\\n",
       "0  Category: Timing Chain & Component Kit       \n",
       "\n",
       "                                                 Url  \\\n",
       "0  https://www.rockauto.com/en/parts/melling,3049...   \n",
       "\n",
       "                                                Info  \\\n",
       "0  https://www.rockauto.com/en/moreinfo.php?pk=97...   \n",
       "\n",
       "                                                 Src  \n",
       "0  https://www.rockauto.com/info/583/3-0490SX-1-K...  "
      ]
     },
     "execution_count": 21,
     "metadata": {},
     "output_type": "execute_result"
    }
   ],
   "source": [
    "df_temp = pd.DataFrame([{'status': 'ok',\n",
    "                         'Manufacturer': manufacturer,\n",
    "                         'Vehicle': vehicle,\n",
    "                         'Alternate_OE_Part_Numbers': oe,\n",
    "                         'Note_1': note_1,\n",
    "                         'Note_2': note_2,\n",
    "                         'Pic': '',\n",
    "                         'Url': list_url[i],\n",
    "                         'Info': info,\n",
    "                         'Src': src}])\n",
    "\n",
    "browser.quit()\n",
    "\n",
    "df = pd.concat([df, df_temp], ignore_index=True).fillna('')\n",
    "\n",
    "df"
   ]
  },
  {
   "cell_type": "code",
   "execution_count": null,
   "id": "0c886d37",
   "metadata": {},
   "outputs": [],
   "source": []
  }
 ],
 "metadata": {
  "kernelspec": {
   "display_name": "Python 3 (ipykernel)",
   "language": "python",
   "name": "python3"
  },
  "language_info": {
   "codemirror_mode": {
    "name": "ipython",
    "version": 3
   },
   "file_extension": ".py",
   "mimetype": "text/x-python",
   "name": "python",
   "nbconvert_exporter": "python",
   "pygments_lexer": "ipython3",
   "version": "3.11.3"
  }
 },
 "nbformat": 4,
 "nbformat_minor": 5
}
