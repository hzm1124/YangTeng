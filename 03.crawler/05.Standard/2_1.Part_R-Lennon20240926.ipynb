{
 "cells": [
  {
   "cell_type": "code",
   "execution_count": 1,
   "id": "ba98551f-b0b1-4c50-8c47-3ad3a3730b73",
   "metadata": {},
   "outputs": [
    {
     "data": {
      "text/plain": [
       "['crawler_1.xlsx', 'crawler_2.xlsx']"
      ]
     },
     "execution_count": 1,
     "metadata": {},
     "output_type": "execute_result"
    }
   ],
   "source": [
    "import os\n",
    "\n",
    "list_file = sorted(list(os.walk('./file/1.part_number'))[0][2])\n",
    "while '.DS_Store' in list_file:\n",
    "    list_file.remove('.DS_Store')\n",
    "while '0.null.txt' in list_file:\n",
    "    list_file.remove('0.null.txt')\n",
    "\n",
    "list_file"
   ]
  },
  {
   "cell_type": "code",
   "execution_count": 2,
   "id": "9b75b948-9701-432e-a5ef-88d0e629bd2c",
   "metadata": {},
   "outputs": [
    {
     "data": {
      "text/plain": [
       "'crawler_1.xlsx'"
      ]
     },
     "execution_count": 2,
     "metadata": {},
     "output_type": "execute_result"
    }
   ],
   "source": [
    "file = list_file[0]\n",
    "\n",
    "file"
   ]
  },
  {
   "cell_type": "code",
   "execution_count": 3,
   "id": "76ea49e2-7cc6-4bc1-af5b-7a6768eb6c08",
   "metadata": {},
   "outputs": [],
   "source": [
    "import pandas as pd\n",
    "\n",
    "output_correct, output_error = pd.DataFrame(), pd.DataFrame()"
   ]
  },
  {
   "cell_type": "code",
   "execution_count": 4,
   "id": "5d22fc26-a390-442a-bfe3-4d409c33f1e7",
   "metadata": {
    "scrolled": true
   },
   "outputs": [
    {
     "name": "stdout",
     "output_type": "stream",
     "text": [
      "总数量：10\n"
     ]
    },
    {
     "data": {
      "text/plain": [
       "['CCR-3',\n",
       " 'CCR-6',\n",
       " 'CCR-7',\n",
       " 'DS-2282',\n",
       " 'LS-312',\n",
       " 'NS-35',\n",
       " 'NS-56',\n",
       " 'NS-63',\n",
       " 'NS-68',\n",
       " 'NS-69']"
      ]
     },
     "execution_count": 4,
     "metadata": {},
     "output_type": "execute_result"
    }
   ],
   "source": [
    "input_ = pd.read_excel(f'./file/1.part_number/{file}',\n",
    "                       header=0,\n",
    "                       dtype=str).fillna('')\n",
    "\n",
    "input_['No'] = input_['No'].astype(int)\n",
    "\n",
    "print(f'总数量：{len(input_)}')\n",
    "input_['Part Number'].tolist()"
   ]
  },
  {
   "cell_type": "code",
   "execution_count": 5,
   "id": "5878a9f0-d639-4123-b6e0-bc564f72c2d6",
   "metadata": {},
   "outputs": [
    {
     "data": {
      "text/plain": [
       "0"
      ]
     },
     "execution_count": 5,
     "metadata": {},
     "output_type": "execute_result"
    }
   ],
   "source": [
    "a = 0\n",
    "\n",
    "a"
   ]
  },
  {
   "cell_type": "code",
   "execution_count": 6,
   "id": "9f61dd65-55da-4d0b-ba30-d0534eff0781",
   "metadata": {},
   "outputs": [
    {
     "data": {
      "text/plain": [
       "'error'"
      ]
     },
     "execution_count": 6,
     "metadata": {},
     "output_type": "execute_result"
    }
   ],
   "source": [
    "crawler_status = 'error'\n",
    "\n",
    "crawler_status"
   ]
  },
  {
   "cell_type": "code",
   "execution_count": 7,
   "id": "ad99bc86-6e80-4fcf-8200-736dc5101097",
   "metadata": {},
   "outputs": [
    {
     "name": "stdout",
     "output_type": "stream",
     "text": [
      "1\n"
     ]
    },
    {
     "data": {
      "text/plain": [
       "<Response [200]>"
      ]
     },
     "execution_count": 7,
     "metadata": {},
     "output_type": "execute_result"
    }
   ],
   "source": [
    "import requests\n",
    "\n",
    "import sys\n",
    "sys.path.append('../00.Tools')\n",
    "from crawler_configuration import get_header, get_proxy\n",
    "\n",
    "b = 0\n",
    "while True:\n",
    "    b += 1\n",
    "    print(b)\n",
    "    try:\n",
    "        request_url = f'''https://ecatalog.smpcorp.com/V2/STD/api/part/partselect?part={input_.loc[a, 'Part Number']}&func=PART&vid='''\n",
    "        check_url = input_.loc[a, 'Url']\n",
    "        \n",
    "        resp = requests.get(request_url,\n",
    "                            headers=get_header(),\n",
    "                            proxies=get_proxy(),\n",
    "                            timeout=(10, 10))\n",
    "\n",
    "        if resp.status_code == 200:\n",
    "            dict_dict = resp.json()\n",
    "            if dict_dict:\n",
    "                break\n",
    "    except KeyboardInterrupt:\n",
    "        break\n",
    "    except:\n",
    "        continue\n",
    "\n",
    "resp"
   ]
  },
  {
   "cell_type": "code",
   "execution_count": 8,
   "id": "510c8c7a-0f75-4d95-b573-a6c7c263e99b",
   "metadata": {},
   "outputs": [
    {
     "data": {
      "text/plain": [
       "{'Site': 'STD',\n",
       " 'Webbase': 'CCR3',\n",
       " 'Brand': 'STI',\n",
       " 'Partdesc_En': 'Clutch Starter Safety / Cruise Release Switch',\n",
       " 'Partlongdesc_En': 'Clutch Starter Safety / Cruise Release Switch',\n",
       " 'Pop': 'F',\n",
       " 'Qtyeach': 1}"
      ]
     },
     "execution_count": 8,
     "metadata": {},
     "output_type": "execute_result"
    }
   ],
   "source": [
    "dict_attr, dict_ = {}, dict_dict['pd']\n",
    "for key, value in dict_.items():\n",
    "    if key not in ['rowId', 'basePart', 'maxRows'] and value != None:\n",
    "        if type(value) in [int, float]:\n",
    "            dict_attr[key.strip().title()] = value\n",
    "        elif type(value) == str:\n",
    "            dict_attr[key.strip().title()] = value.strip()\n",
    "        else:\n",
    "            print('fuck')\n",
    "\n",
    "dict_attr"
   ]
  },
  {
   "cell_type": "code",
   "execution_count": 9,
   "id": "34c769d1-d783-463d-80c8-5b7dc9e6fd67",
   "metadata": {},
   "outputs": [
    {
     "name": "stdout",
     "output_type": "stream",
     "text": [
      "Kia Sephia (01-94)\n",
      "Kia Spectra (04-00)\n",
      "Kia Sportage (00-95)\n"
     ]
    }
   ],
   "source": [
    "vehicle = '\\n'.join([dict_vehicle['buyersGuideDesc'].strip() for dict_vehicle in dict_dict['pp']['buyersGuides']])\n",
    "\n",
    "print(vehicle)"
   ]
  },
  {
   "cell_type": "code",
   "execution_count": 10,
   "id": "651c71af-a76d-40ef-b869-7516b012fada",
   "metadata": {},
   "outputs": [
    {
     "data": {
      "text/plain": [
       "{'0': {'Warranty': '3 years/36,000 mile'},\n",
       " '1': {'Connector Gender': 'Female'},\n",
       " '2': {'Terminal Quantity': '2'},\n",
       " '3': {'Terminal Gender': 'Male'},\n",
       " '4': {'Terminal Type': 'Blade'}}"
      ]
     },
     "execution_count": 10,
     "metadata": {},
     "output_type": "execute_result"
    }
   ],
   "source": [
    "list_spec, dict_count = dict_dict['pp']['partSpecs'], {}\n",
    "for i, spec in enumerate(list_spec):\n",
    "    key = spec['attributeName_en'].strip()\n",
    "    if key in dict_count:\n",
    "        dict_count[key] += 1\n",
    "    else:\n",
    "        dict_count[key] = 1\n",
    "\n",
    "dict_spec, dict_no = {}, {}\n",
    "for i, spec in enumerate(list_spec):\n",
    "    key = spec['attributeName_en'].strip()\n",
    "    if dict_count[key] == 1:\n",
    "        dict_spec[str(i)] = {key: spec['siteValue_en'].strip()}\n",
    "    else:\n",
    "        if key in dict_no:\n",
    "            dict_no[key] += 1\n",
    "        else:\n",
    "            dict_no[key] = 1\n",
    "        dict_spec[str(i)] = {f'''{key}-{dict_no[key]}''': spec['siteValue_en'].strip()}\n",
    "\n",
    "dict_spec"
   ]
  },
  {
   "cell_type": "code",
   "execution_count": 11,
   "id": "a0f6d1ed-4598-446a-9db2-fb3ecb3b4dc8",
   "metadata": {},
   "outputs": [
    {
     "name": "stdout",
     "output_type": "stream",
     "text": [
      "1. Fuel Filter Flush (Required)\n",
      "2. Oil Change (Required)\n"
     ]
    }
   ],
   "source": [
    "service = '\\n'.join([f'''{i+1}. {service['serviceName'].strip()}''' for i, service in enumerate(dict_dict['pp']['completeRepair']['serviceSpec'])])\n",
    "\n",
    "print(service)"
   ]
  },
  {
   "cell_type": "code",
   "execution_count": 12,
   "id": "dc5cda82-8ca6-4d98-9506-12c538ff9c1c",
   "metadata": {},
   "outputs": [
    {
     "data": {
      "text/html": [
       "<div>\n",
       "<style scoped>\n",
       "    .dataframe tbody tr th:only-of-type {\n",
       "        vertical-align: middle;\n",
       "    }\n",
       "\n",
       "    .dataframe tbody tr th {\n",
       "        vertical-align: top;\n",
       "    }\n",
       "\n",
       "    .dataframe thead th {\n",
       "        text-align: right;\n",
       "    }\n",
       "</style>\n",
       "<table border=\"1\" class=\"dataframe\">\n",
       "  <thead>\n",
       "    <tr style=\"text-align: right;\">\n",
       "      <th></th>\n",
       "      <th>No</th>\n",
       "      <th>Part Number</th>\n",
       "      <th>Url</th>\n",
       "      <th>Vehicle</th>\n",
       "      <th>Service</th>\n",
       "      <th>Site</th>\n",
       "      <th>Webbase</th>\n",
       "      <th>Brand</th>\n",
       "      <th>Partdesc_En</th>\n",
       "      <th>Partlongdesc_En</th>\n",
       "      <th>Pop</th>\n",
       "      <th>Qtyeach</th>\n",
       "      <th>Json_Spec</th>\n",
       "    </tr>\n",
       "  </thead>\n",
       "  <tbody>\n",
       "    <tr>\n",
       "      <th>0</th>\n",
       "      <td>1</td>\n",
       "      <td>CCR-3</td>\n",
       "      <td>https://www.standardbrand.com/en/ecatalog?part...</td>\n",
       "      <td>Kia Sephia (01-94)\\nKia Spectra (04-00)\\nKia S...</td>\n",
       "      <td>1. Fuel Filter Flush (Required)\\n2. Oil Change...</td>\n",
       "      <td>STD</td>\n",
       "      <td>CCR3</td>\n",
       "      <td>STI</td>\n",
       "      <td>Clutch Starter Safety / Cruise Release Switch</td>\n",
       "      <td>Clutch Starter Safety / Cruise Release Switch</td>\n",
       "      <td>F</td>\n",
       "      <td>1</td>\n",
       "      <td>{\"0\": {\"Warranty\": \"3 years/36,000 mile\"}, \"1\"...</td>\n",
       "    </tr>\n",
       "  </tbody>\n",
       "</table>\n",
       "</div>"
      ],
      "text/plain": [
       "   No Part Number                                                Url  \\\n",
       "0   1       CCR-3  https://www.standardbrand.com/en/ecatalog?part...   \n",
       "\n",
       "                                             Vehicle  \\\n",
       "0  Kia Sephia (01-94)\\nKia Spectra (04-00)\\nKia S...   \n",
       "\n",
       "                                             Service Site Webbase Brand  \\\n",
       "0  1. Fuel Filter Flush (Required)\\n2. Oil Change...  STD    CCR3   STI   \n",
       "\n",
       "                                     Partdesc_En  \\\n",
       "0  Clutch Starter Safety / Cruise Release Switch   \n",
       "\n",
       "                                 Partlongdesc_En Pop  Qtyeach  \\\n",
       "0  Clutch Starter Safety / Cruise Release Switch   F        1   \n",
       "\n",
       "                                           Json_Spec  \n",
       "0  {\"0\": {\"Warranty\": \"3 years/36,000 mile\"}, \"1\"...  "
      ]
     },
     "execution_count": 12,
     "metadata": {},
     "output_type": "execute_result"
    }
   ],
   "source": [
    "import json\n",
    "\n",
    "df_temp = pd.DataFrame([input_.iloc[a]]).reset_index(drop=True)\n",
    "df_temp.loc[0, 'Vehicle'] = vehicle\n",
    "df_temp.loc[0, 'Service'] = service\n",
    "df_temp = pd.concat([df_temp, pd.DataFrame([dict_attr])], axis=1).fillna('')\n",
    "df_temp.loc[0, 'Json_Spec'] = json.dumps(dict_spec)\n",
    "\n",
    "output_correct = pd.concat([output_correct, df_temp], ignore_index=True).fillna('')\n",
    "\n",
    "output_correct"
   ]
  },
  {
   "cell_type": "code",
   "execution_count": 13,
   "id": "fc4ed7f6-ed4f-431c-b944-b1690309cdae",
   "metadata": {},
   "outputs": [
    {
     "data": {
      "text/plain": [
       "'ok'"
      ]
     },
     "execution_count": 13,
     "metadata": {},
     "output_type": "execute_result"
    }
   ],
   "source": [
    "crawler_status = 'ok'\n",
    "\n",
    "crawler_status"
   ]
  },
  {
   "cell_type": "code",
   "execution_count": 14,
   "id": "65c745d1-446e-46c5-9dec-819c9f7944d3",
   "metadata": {},
   "outputs": [
    {
     "data": {
      "text/html": [
       "<div>\n",
       "<style scoped>\n",
       "    .dataframe tbody tr th:only-of-type {\n",
       "        vertical-align: middle;\n",
       "    }\n",
       "\n",
       "    .dataframe tbody tr th {\n",
       "        vertical-align: top;\n",
       "    }\n",
       "\n",
       "    .dataframe thead th {\n",
       "        text-align: right;\n",
       "    }\n",
       "</style>\n",
       "<table border=\"1\" class=\"dataframe\">\n",
       "  <thead>\n",
       "    <tr style=\"text-align: right;\">\n",
       "      <th></th>\n",
       "    </tr>\n",
       "  </thead>\n",
       "  <tbody>\n",
       "  </tbody>\n",
       "</table>\n",
       "</div>"
      ],
      "text/plain": [
       "Empty DataFrame\n",
       "Columns: []\n",
       "Index: []"
      ]
     },
     "execution_count": 14,
     "metadata": {},
     "output_type": "execute_result"
    }
   ],
   "source": [
    "if crawler_status == 'error':\n",
    "    df_temp = pd.DataFrame([input_.iloc[a]]).reset_index(drop=True)\n",
    "    df_temp.loc[0, 'Request_Url'] = request_url\n",
    "    df_temp.loc[0, 'Check_Url'] = check_url\n",
    "    \n",
    "    output_error = pd.concat([output_error, df_temp], ignore_index=True).fillna('')\n",
    "\n",
    "output_error"
   ]
  },
  {
   "cell_type": "code",
   "execution_count": 15,
   "id": "7fd477de",
   "metadata": {},
   "outputs": [
    {
     "data": {
      "text/html": [
       "<div>\n",
       "<style scoped>\n",
       "    .dataframe tbody tr th:only-of-type {\n",
       "        vertical-align: middle;\n",
       "    }\n",
       "\n",
       "    .dataframe tbody tr th {\n",
       "        vertical-align: top;\n",
       "    }\n",
       "\n",
       "    .dataframe thead th {\n",
       "        text-align: right;\n",
       "    }\n",
       "</style>\n",
       "<table border=\"1\" class=\"dataframe\">\n",
       "  <thead>\n",
       "    <tr style=\"text-align: right;\">\n",
       "      <th></th>\n",
       "      <th>No</th>\n",
       "      <th>Part Number</th>\n",
       "      <th>Url</th>\n",
       "      <th>Vehicle</th>\n",
       "      <th>Service</th>\n",
       "      <th>Site</th>\n",
       "      <th>Webbase</th>\n",
       "      <th>Brand</th>\n",
       "      <th>Partdesc_En</th>\n",
       "      <th>Partlongdesc_En</th>\n",
       "      <th>Pop</th>\n",
       "      <th>Qtyeach</th>\n",
       "      <th>Json_Spec</th>\n",
       "    </tr>\n",
       "  </thead>\n",
       "  <tbody>\n",
       "    <tr>\n",
       "      <th>0</th>\n",
       "      <td>1</td>\n",
       "      <td>CCR-3</td>\n",
       "      <td>https://www.standardbrand.com/en/ecatalog?part...</td>\n",
       "      <td>Kia Sephia (01-94)\\nKia Spectra (04-00)\\nKia S...</td>\n",
       "      <td>1. Fuel Filter Flush (Required)\\n2. Oil Change...</td>\n",
       "      <td>STD</td>\n",
       "      <td>CCR3</td>\n",
       "      <td>STI</td>\n",
       "      <td>Clutch Starter Safety / Cruise Release Switch</td>\n",
       "      <td>Clutch Starter Safety / Cruise Release Switch</td>\n",
       "      <td>F</td>\n",
       "      <td>1</td>\n",
       "      <td>{\"0\": {\"Warranty\": \"3 years/36,000 mile\"}, \"1\"...</td>\n",
       "    </tr>\n",
       "  </tbody>\n",
       "</table>\n",
       "</div>"
      ],
      "text/plain": [
       "   No Part Number                                                Url  \\\n",
       "0   1       CCR-3  https://www.standardbrand.com/en/ecatalog?part...   \n",
       "\n",
       "                                             Vehicle  \\\n",
       "0  Kia Sephia (01-94)\\nKia Spectra (04-00)\\nKia S...   \n",
       "\n",
       "                                             Service Site Webbase Brand  \\\n",
       "0  1. Fuel Filter Flush (Required)\\n2. Oil Change...  STD    CCR3   STI   \n",
       "\n",
       "                                     Partdesc_En  \\\n",
       "0  Clutch Starter Safety / Cruise Release Switch   \n",
       "\n",
       "                                 Partlongdesc_En Pop  Qtyeach  \\\n",
       "0  Clutch Starter Safety / Cruise Release Switch   F        1   \n",
       "\n",
       "                                           Json_Spec  \n",
       "0  {\"0\": {\"Warranty\": \"3 years/36,000 mile\"}, \"1\"...  "
      ]
     },
     "execution_count": 15,
     "metadata": {},
     "output_type": "execute_result"
    }
   ],
   "source": [
    "if not output_correct.empty:\n",
    "    output_correct = output_correct.sort_values(by=['No'],\n",
    "                                                ascending=[True],\n",
    "                                                ignore_index=True)\n",
    "    output_correct.to_excel('./test_part.xlsx', index=False)\n",
    "\n",
    "output_correct"
   ]
  },
  {
   "cell_type": "code",
   "execution_count": 16,
   "id": "39a5441b-7f69-4812-aad8-7e10a1a24e78",
   "metadata": {},
   "outputs": [
    {
     "data": {
      "text/html": [
       "<div>\n",
       "<style scoped>\n",
       "    .dataframe tbody tr th:only-of-type {\n",
       "        vertical-align: middle;\n",
       "    }\n",
       "\n",
       "    .dataframe tbody tr th {\n",
       "        vertical-align: top;\n",
       "    }\n",
       "\n",
       "    .dataframe thead th {\n",
       "        text-align: right;\n",
       "    }\n",
       "</style>\n",
       "<table border=\"1\" class=\"dataframe\">\n",
       "  <thead>\n",
       "    <tr style=\"text-align: right;\">\n",
       "      <th></th>\n",
       "    </tr>\n",
       "  </thead>\n",
       "  <tbody>\n",
       "  </tbody>\n",
       "</table>\n",
       "</div>"
      ],
      "text/plain": [
       "Empty DataFrame\n",
       "Columns: []\n",
       "Index: []"
      ]
     },
     "execution_count": 16,
     "metadata": {},
     "output_type": "execute_result"
    }
   ],
   "source": [
    "if not output_error.empty:\n",
    "    output_error = output_error.sort_values(by=['No'],\n",
    "                                            ascending=[True],\n",
    "                                            ignore_index=True)\n",
    "    output_error.to_excel('./test_part_error.xlsx', index=False)\n",
    "\n",
    "output_error"
   ]
  },
  {
   "cell_type": "code",
   "execution_count": null,
   "id": "ba5d9f77-7464-4ad5-a42b-1fa0c0505832",
   "metadata": {},
   "outputs": [],
   "source": []
  }
 ],
 "metadata": {
  "kernelspec": {
   "display_name": "Python 3 (ipykernel)",
   "language": "python",
   "name": "python3"
  },
  "language_info": {
   "codemirror_mode": {
    "name": "ipython",
    "version": 3
   },
   "file_extension": ".py",
   "mimetype": "text/x-python",
   "name": "python",
   "nbconvert_exporter": "python",
   "pygments_lexer": "ipython3",
   "version": "3.11.3"
  }
 },
 "nbformat": 4,
 "nbformat_minor": 5
}
