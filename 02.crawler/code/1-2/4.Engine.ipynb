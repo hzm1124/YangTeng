{
 "cells": [
  {
   "cell_type": "code",
   "execution_count": 1,
   "id": "d6ddb021-793a-4b91-97d2-95c3652fe23b",
   "metadata": {},
   "outputs": [
    {
     "data": {
      "text/plain": [
       "{'make_url': 'https://www.rockauto.com/en/catalog/',\n",
       " 'make_no': 178,\n",
       " 'make': 'MAZDA',\n",
       " 'make_market': 'US,CA,MX',\n",
       " 'year_url': 'https://www.rockauto.com/en/catalog/MAZDA',\n",
       " 'year': 2007,\n",
       " 'year_market': 'US,CA,MX',\n",
       " 'model_url': 'https://www.rockauto.com/en/catalog/MAZDA,2007',\n",
       " 'model_no': 1,\n",
       " 'model': '3',\n",
       " 'model_market': 'US,CA,MX',\n",
       " 'engine_url': 'https://www.rockauto.com/en/catalog/MAZDA,2007,3'}"
      ]
     },
     "execution_count": 1,
     "metadata": {},
     "output_type": "execute_result"
    }
   ],
   "source": [
    "item = {'make_url': 'https://www.rockauto.com/en/catalog/',\n",
    " 'make_no': 178,\n",
    " 'make': 'MAZDA',\n",
    " 'make_market': 'US,CA,MX',\n",
    " 'year_url': 'https://www.rockauto.com/en/catalog/MAZDA',\n",
    " 'year': 2007,\n",
    " 'year_market': 'US,CA,MX',\n",
    " 'model_url': 'https://www.rockauto.com/en/catalog/MAZDA,2007',\n",
    " 'model_no': 1,\n",
    " 'model': '3',\n",
    " 'model_market': 'US,CA,MX',\n",
    " 'engine_url': 'https://www.rockauto.com/en/catalog/MAZDA,2007,3'}\n",
    "\n",
    "item"
   ]
  },
  {
   "cell_type": "code",
   "execution_count": 2,
   "id": "a78c3b05-6528-437a-9350-722c01c2ed96",
   "metadata": {},
   "outputs": [],
   "source": [
    "import json\n",
    "import requests\n",
    "\n",
    "import sys\n",
    "sys.path.append('../00.Tools')\n",
    "from configuration import generate_header, generate_proxy"
   ]
  },
  {
   "cell_type": "code",
   "execution_count": 3,
   "id": "acca8ea0-a9f6-4fc5-8d33-6f873faa1fcc",
   "metadata": {},
   "outputs": [
    {
     "data": {
      "text/plain": [
       "200"
      ]
     },
     "execution_count": 3,
     "metadata": {},
     "output_type": "execute_result"
    }
   ],
   "source": [
    "data = {'func': 'navnode_fetch',\n",
    "        'payload': json.dumps({'jsn': {'tab': 'catalog',\n",
    "                                       'make': item['make'],\n",
    "                                       'year': item['year'],\n",
    "                                       'model': item['model'],\n",
    "                                       'nodetype': 'model'}}),\n",
    "        'api_json_request': '1'}\n",
    "response = requests.post('https://www.rockauto.com/catalog/catalogapi.php',\n",
    "                         data=data,\n",
    "                         headers=generate_header(),\n",
    "                         proxies=generate_proxy(),\n",
    "                         timeout=(10, 15),\n",
    "                         allow_redirects=False)\n",
    "\n",
    "response.status_code"
   ]
  },
  {
   "cell_type": "code",
   "execution_count": 4,
   "id": "b6b64838-6e26-460f-9bda-96cad47d3528",
   "metadata": {},
   "outputs": [
    {
     "data": {
      "text/plain": [
       "{'html_fill_sections': {'navchildren[]': '<div class=\"ranavnode\" id=\"nav[__GIP__1__]\"><input type=\"hidden\" autocomplete=\"off\" id=\"jsn[__GIP__1__]\" value=\"{&quot;groupindex&quot;:&quot;__GIP__1__&quot;,&quot;tab&quot;:&quot;catalog&quot;,&quot;idepth&quot;:1,&quot;make&quot;:&quot;MAZDA&quot;,&quot;year&quot;:2007,&quot;model&quot;:&quot;3&quot;,&quot;carcode&quot;:&quot;1434563&quot;,&quot;engine&quot;:&quot;2.0L L4&quot;,&quot;nodetype&quot;:&quot;carcode&quot;,&quot;jsdata&quot;:{&quot;markets&quot;:[{&quot;c&quot;:&quot;US&quot;},{&quot;c&quot;:&quot;CA&quot;},{&quot;c&quot;:&quot;MX&quot;}],&quot;mktlist&quot;:&quot;US,CA,MX&quot;,&quot;Show&quot;:1}}\" /><input type=\"hidden\" autocomplete=\"off\" name=\"navnodeunique[catalog-mazda-2007-3-1434563]\" id=\"navnodeunique[catalog-mazda-2007-3-1434563]\" value=\"__GIP__1__\" /><div id=\"nav_o[__GIP__1__]\" class=\"ranavouter\"><div class=\"inner\"><table class=\"tbl\"  cellpadding=\"0\" cellspacing=\"0\"><tr><td class=\"niconspace nvlineicon\"></td><td class=\"niconspace ncollapsedicon\" id=\"navicon[__GIP__1__]\"><a href=\"/en/catalog/mazda,2007,3,2.0l+l4,1434563\" onclick=\"cataloglite.LinkIntercept_ToggleNavNode(&quot;__GIP__1__&quot;); return false;\" tabindex=\"-1\"><img src=\"/Images/1pxtransparent.png\" alt=\"Toggle\"></a></td><td class=\"nlabel\" ><a class=\"navlabellink nvoffset nnormal\" href=\"/en/catalog/mazda,2007,3,2.0l+l4,1434563\" onclick=\"cataloglite.LinkIntercept_ToggleNavNode(&quot;__GIP__1__&quot;); return false;\" id=\"navhref[__GIP__1__]\">2.0L L4</a></td><td class=\"rc nflags\"><a href=\"/help/?page=1#WHATDOTHE\" class=\"nodeflag-a\" id=\"flags[__GIP__1__][US]\" onclick=\"RA.StopBubble(event); return FAQpopup(this)\"><img class=\"flag-new nodeflag\" src=\"/catalog/images/flag_us.png\" alt=\"the USA flag\"/></a><a href=\"/help/?page=1#WHATDOTHE\" class=\"nodeflag-a\" id=\"flags[__GIP__1__][CA]\" onclick=\"RA.StopBubble(event); return FAQpopup(this)\"><img class=\"flag-new nodeflag\" src=\"/catalog/images/flag_ca.png\" alt=\"Canada flag\"/></a><a href=\"/help/?page=1#WHATDOTHE\" class=\"nodeflag-a\" id=\"flags[__GIP__1__][MX]\" onclick=\"RA.StopBubble(event); return FAQpopup(this)\"><img class=\"flag-new nodeflag\" src=\"/catalog/images/flag_mx.png\" alt=\"Mexico flag\"/></a></td><td class=\"rc show-if-js ra-hide\"><span name=\"icon_add_car_to_account\"><img class=\"mouseover\" onclick=\"cataloglite.AddRemoveSavedVehicle(\\'add\\', &quot;1434563&quot;, &quot;__GIP__1__&quot;);(&quot;1434563&quot;); AccountWidgets.SavedVehiclesWidget.Refresh(); $(this).addClass(\\'ra-hide\\');\" style=\"vertical-align: top; height: 18px;\" src=\"/catalog/images/accounts/vehicles.png\" alt=\"Add Car to My List\" title=\"Add Car to My List\" /></span></td><td class=\"rc show-if-js\"><div id=\"navcarcodesearchwrapper[__GIP__1__]\" class=\"ccsi-wrapper vtop ra-hide\"><table class=\"tblz tbl-input-button-attached attached-ccparttype-size\" style=\"\"><tr><td class=\"td-input\" style=\"width: 99%;\"><input type=\"text\" name=\"navcarcodesearchinput[__GIP__1__]\" id=\"navcarcodesearchinput[__GIP__1__]\" placeholder=\"part name or part type\" class=\"input-carcodesearch\" autocomplete=\"off\" spellcheck=\"false\" autocorrect=\"off\" autocapitalize=\"off\" title=\"Enter Part Name to Search Categories Under this Vehicle \\n(e.g. \\'Hydraulic Hose\\', \\'Control Arm Bushing\\', \\'Tail Lamp Bulb\\', etc.)\" onfocus=\"acmp_partcategory = \\'1\\'; currentSTCID = &quot;__GIP__1__&quot;;\" onclick=\"setTimeout(function() {acmp_request();}, 50);\" onkeyup=\"acmp_partcategory = \\'1\\'; currentSTCID = &quot;__GIP__1__&quot;; acmp_keyup(event, true);\" onkeydown=\"acmp_partcategory = \\'1\\'; currentSTCID = &quot;__GIP__1__&quot;;akhandler(event);\" /><div style=\"margin-top:-1px;\"><div style=\"position: relative;\"><table id=\"suggesttypescar[__GIP__1__]\" style=\"display:none; position: absolute; z-index: 2; border: solid 1px #7777FF; opacity: 1; background-color: #FFFFFF; width: 400px;\" class=\"autosuggest-box\" cellpadding=\"0\" cellspacing=\"0\"></table></div></div></td><td class=\"td-button\"><div class=\"hide-if-js\"><input type=\"submit\" name=\"btntabsearch\" id=\"btncarcodesearch[__GIP__1__]\" value=\"Search\" class=\"ra-btn ra-btn-size-normal ra-btn-color-darkblue ra-btn-search-icon\" alt=\"Search\" title=\"Search\" onclick=\"go_search(true);\"/></div><div class=\"show-if-js\"><img class=\"ib input-size ra-btn ra-btn-size-normal ra-btn-color-darkblue ra-btn-search-icon\" src=\"/Images/1pxtransparent.png\" style=\"color: black;\" onclick=\"RA.Click(\\'btncarcodesearch[__GIP__1__]\\')\" alt=\"Search\" title=\"Search\"/></div></td><td style=\"padding-left: .5em; vertical-align: middle;\"><img class=\"help_q_icon_16 vmiddle\" src=\"/Images/questionMark.png\" onclick=\"helpPopup(&quot;Enter Part Name to Search Categories Under this Vehicle&lt;br\\\\/&gt;(e.g. \\'Hydraulic Hose\\', \\'Control Arm Bushing\\', \\'Tail Lamp Bulb\\', etc.)&quot;, this);\" alt=\"How to Search\" title=\"How to Search\" /></td></tr></table><span id=\"navcarcodesearchmsg[__GIP__1__]\" class=\"searchresultmsg\"></span></div></td></tr></table></div></div><div class=\"nchildren ra-hide\" id=\"navchildren[__GIP__1__]\" ></div></div><div class=\"ranavnode\" id=\"nav[__GIP__2__]\"><input type=\"hidden\" autocomplete=\"off\" id=\"jsn[__GIP__2__]\" value=\"{&quot;groupindex&quot;:&quot;__GIP__2__&quot;,&quot;tab&quot;:&quot;catalog&quot;,&quot;idepth&quot;:1,&quot;make&quot;:&quot;MAZDA&quot;,&quot;year&quot;:2007,&quot;model&quot;:&quot;3&quot;,&quot;carcode&quot;:&quot;1434568&quot;,&quot;engine&quot;:&quot;2.3L L4&quot;,&quot;nodetype&quot;:&quot;carcode&quot;,&quot;jsdata&quot;:{&quot;markets&quot;:[{&quot;c&quot;:&quot;US&quot;},{&quot;c&quot;:&quot;CA&quot;},{&quot;c&quot;:&quot;MX&quot;}],&quot;mktlist&quot;:&quot;US,CA,MX&quot;,&quot;Show&quot;:1}}\" /><input type=\"hidden\" autocomplete=\"off\" name=\"navnodeunique[catalog-mazda-2007-3-1434568]\" id=\"navnodeunique[catalog-mazda-2007-3-1434568]\" value=\"__GIP__2__\" /><div id=\"nav_o[__GIP__2__]\" class=\"ranavouter\"><div class=\"inner\"><table class=\"tbl\"  cellpadding=\"0\" cellspacing=\"0\"><tr><td class=\"niconspace nvlineicon\"></td><td class=\"niconspace ncollapsedicon\" id=\"navicon[__GIP__2__]\"><a href=\"/en/catalog/mazda,2007,3,2.3l+l4,1434568\" onclick=\"cataloglite.LinkIntercept_ToggleNavNode(&quot;__GIP__2__&quot;); return false;\" tabindex=\"-1\"><img src=\"/Images/1pxtransparent.png\" alt=\"Toggle\"></a></td><td class=\"nlabel\" ><a class=\"navlabellink nvoffset nnormal\" href=\"/en/catalog/mazda,2007,3,2.3l+l4,1434568\" onclick=\"cataloglite.LinkIntercept_ToggleNavNode(&quot;__GIP__2__&quot;); return false;\" id=\"navhref[__GIP__2__]\">2.3L L4</a></td><td class=\"rc nflags\"><a href=\"/help/?page=1#WHATDOTHE\" class=\"nodeflag-a\" id=\"flags[__GIP__2__][US]\" onclick=\"RA.StopBubble(event); return FAQpopup(this)\"><img class=\"flag-new nodeflag\" src=\"/catalog/images/flag_us.png\" alt=\"the USA flag\"/></a><a href=\"/help/?page=1#WHATDOTHE\" class=\"nodeflag-a\" id=\"flags[__GIP__2__][CA]\" onclick=\"RA.StopBubble(event); return FAQpopup(this)\"><img class=\"flag-new nodeflag\" src=\"/catalog/images/flag_ca.png\" alt=\"Canada flag\"/></a><a href=\"/help/?page=1#WHATDOTHE\" class=\"nodeflag-a\" id=\"flags[__GIP__2__][MX]\" onclick=\"RA.StopBubble(event); return FAQpopup(this)\"><img class=\"flag-new nodeflag\" src=\"/catalog/images/flag_mx.png\" alt=\"Mexico flag\"/></a></td><td class=\"rc show-if-js ra-hide\"><span name=\"icon_add_car_to_account\"><img class=\"mouseover\" onclick=\"cataloglite.AddRemoveSavedVehicle(\\'add\\', &quot;1434568&quot;, &quot;__GIP__2__&quot;);(&quot;1434568&quot;); AccountWidgets.SavedVehiclesWidget.Refresh(); $(this).addClass(\\'ra-hide\\');\" style=\"vertical-align: top; height: 18px;\" src=\"/catalog/images/accounts/vehicles.png\" alt=\"Add Car to My List\" title=\"Add Car to My List\" /></span></td><td class=\"rc show-if-js\"><div id=\"navcarcodesearchwrapper[__GIP__2__]\" class=\"ccsi-wrapper vtop ra-hide\"><table class=\"tblz tbl-input-button-attached attached-ccparttype-size\" style=\"\"><tr><td class=\"td-input\" style=\"width: 99%;\"><input type=\"text\" name=\"navcarcodesearchinput[__GIP__2__]\" id=\"navcarcodesearchinput[__GIP__2__]\" placeholder=\"part name or part type\" class=\"input-carcodesearch\" autocomplete=\"off\" spellcheck=\"false\" autocorrect=\"off\" autocapitalize=\"off\" title=\"Enter Part Name to Search Categories Under this Vehicle \\n(e.g. \\'Hydraulic Hose\\', \\'Control Arm Bushing\\', \\'Tail Lamp Bulb\\', etc.)\" onfocus=\"acmp_partcategory = \\'1\\'; currentSTCID = &quot;__GIP__2__&quot;;\" onclick=\"setTimeout(function() {acmp_request();}, 50);\" onkeyup=\"acmp_partcategory = \\'1\\'; currentSTCID = &quot;__GIP__2__&quot;; acmp_keyup(event, true);\" onkeydown=\"acmp_partcategory = \\'1\\'; currentSTCID = &quot;__GIP__2__&quot;;akhandler(event);\" /><div style=\"margin-top:-1px;\"><div style=\"position: relative;\"><table id=\"suggesttypescar[__GIP__2__]\" style=\"display:none; position: absolute; z-index: 2; border: solid 1px #7777FF; opacity: 1; background-color: #FFFFFF; width: 400px;\" class=\"autosuggest-box\" cellpadding=\"0\" cellspacing=\"0\"></table></div></div></td><td class=\"td-button\"><div class=\"hide-if-js\"><input type=\"submit\" name=\"btntabsearch\" id=\"btncarcodesearch[__GIP__2__]\" value=\"Search\" class=\"ra-btn ra-btn-size-normal ra-btn-color-darkblue ra-btn-search-icon\" alt=\"Search\" title=\"Search\" onclick=\"go_search(true);\"/></div><div class=\"show-if-js\"><img class=\"ib input-size ra-btn ra-btn-size-normal ra-btn-color-darkblue ra-btn-search-icon\" src=\"/Images/1pxtransparent.png\" style=\"color: black;\" onclick=\"RA.Click(\\'btncarcodesearch[__GIP__2__]\\')\" alt=\"Search\" title=\"Search\"/></div></td><td style=\"padding-left: .5em; vertical-align: middle;\"><img class=\"help_q_icon_16 vmiddle\" src=\"/Images/questionMark.png\" onclick=\"helpPopup(&quot;Enter Part Name to Search Categories Under this Vehicle&lt;br\\\\/&gt;(e.g. \\'Hydraulic Hose\\', \\'Control Arm Bushing\\', \\'Tail Lamp Bulb\\', etc.)&quot;, this);\" alt=\"How to Search\" title=\"How to Search\" /></td></tr></table><span id=\"navcarcodesearchmsg[__GIP__2__]\" class=\"searchresultmsg\"></span></div></td></tr></table></div></div><div class=\"nchildren ra-hide\" id=\"navchildren[__GIP__2__]\" ></div></div><div class=\"ranavnode\" id=\"nav[__GIP__3__]\"><input type=\"hidden\" autocomplete=\"off\" id=\"jsn[__GIP__3__]\" value=\"{&quot;groupindex&quot;:&quot;__GIP__3__&quot;,&quot;tab&quot;:&quot;catalog&quot;,&quot;idepth&quot;:1,&quot;make&quot;:&quot;MAZDA&quot;,&quot;year&quot;:2007,&quot;model&quot;:&quot;3&quot;,&quot;carcode&quot;:&quot;1434570&quot;,&quot;engine&quot;:&quot;2.3L L4 Turbocharged&quot;,&quot;nodetype&quot;:&quot;carcode&quot;,&quot;jsdata&quot;:{&quot;markets&quot;:[{&quot;c&quot;:&quot;US&quot;},{&quot;c&quot;:&quot;CA&quot;},{&quot;c&quot;:&quot;MX&quot;}],&quot;mktlist&quot;:&quot;US,CA,MX&quot;,&quot;Show&quot;:1}}\" /><input type=\"hidden\" autocomplete=\"off\" name=\"navnodeunique[catalog-mazda-2007-3-1434570]\" id=\"navnodeunique[catalog-mazda-2007-3-1434570]\" value=\"__GIP__3__\" /><div id=\"nav_o[__GIP__3__]\" class=\"ranavouter\"><div class=\"inner\"><table class=\"tbl\"  cellpadding=\"0\" cellspacing=\"0\"><tr><td class=\"niconspace nvlineicon\"></td><td class=\"niconspace ncollapsedicon\" id=\"navicon[__GIP__3__]\"><a href=\"/en/catalog/mazda,2007,3,2.3l+l4+turbocharged,1434570\" onclick=\"cataloglite.LinkIntercept_ToggleNavNode(&quot;__GIP__3__&quot;); return false;\" tabindex=\"-1\"><img src=\"/Images/1pxtransparent.png\" alt=\"Toggle\"></a></td><td class=\"nlabel\" ><a class=\"navlabellink nvoffset nnormal\" href=\"/en/catalog/mazda,2007,3,2.3l+l4+turbocharged,1434570\" onclick=\"cataloglite.LinkIntercept_ToggleNavNode(&quot;__GIP__3__&quot;); return false;\" id=\"navhref[__GIP__3__]\">2.3L L4 Turbocharged</a></td><td class=\"rc nflags\"><a href=\"/help/?page=1#WHATDOTHE\" class=\"nodeflag-a\" id=\"flags[__GIP__3__][US]\" onclick=\"RA.StopBubble(event); return FAQpopup(this)\"><img class=\"flag-new nodeflag\" src=\"/catalog/images/flag_us.png\" alt=\"the USA flag\"/></a><a href=\"/help/?page=1#WHATDOTHE\" class=\"nodeflag-a\" id=\"flags[__GIP__3__][CA]\" onclick=\"RA.StopBubble(event); return FAQpopup(this)\"><img class=\"flag-new nodeflag\" src=\"/catalog/images/flag_ca.png\" alt=\"Canada flag\"/></a><a href=\"/help/?page=1#WHATDOTHE\" class=\"nodeflag-a\" id=\"flags[__GIP__3__][MX]\" onclick=\"RA.StopBubble(event); return FAQpopup(this)\"><img class=\"flag-new nodeflag\" src=\"/catalog/images/flag_mx.png\" alt=\"Mexico flag\"/></a></td><td class=\"rc show-if-js ra-hide\"><span name=\"icon_add_car_to_account\"><img class=\"mouseover\" onclick=\"cataloglite.AddRemoveSavedVehicle(\\'add\\', &quot;1434570&quot;, &quot;__GIP__3__&quot;);(&quot;1434570&quot;); AccountWidgets.SavedVehiclesWidget.Refresh(); $(this).addClass(\\'ra-hide\\');\" style=\"vertical-align: top; height: 18px;\" src=\"/catalog/images/accounts/vehicles.png\" alt=\"Add Car to My List\" title=\"Add Car to My List\" /></span></td><td class=\"rc show-if-js\"><div id=\"navcarcodesearchwrapper[__GIP__3__]\" class=\"ccsi-wrapper vtop ra-hide\"><table class=\"tblz tbl-input-button-attached attached-ccparttype-size\" style=\"\"><tr><td class=\"td-input\" style=\"width: 99%;\"><input type=\"text\" name=\"navcarcodesearchinput[__GIP__3__]\" id=\"navcarcodesearchinput[__GIP__3__]\" placeholder=\"part name or part type\" class=\"input-carcodesearch\" autocomplete=\"off\" spellcheck=\"false\" autocorrect=\"off\" autocapitalize=\"off\" title=\"Enter Part Name to Search Categories Under this Vehicle \\n(e.g. \\'Hydraulic Hose\\', \\'Control Arm Bushing\\', \\'Tail Lamp Bulb\\', etc.)\" onfocus=\"acmp_partcategory = \\'1\\'; currentSTCID = &quot;__GIP__3__&quot;;\" onclick=\"setTimeout(function() {acmp_request();}, 50);\" onkeyup=\"acmp_partcategory = \\'1\\'; currentSTCID = &quot;__GIP__3__&quot;; acmp_keyup(event, true);\" onkeydown=\"acmp_partcategory = \\'1\\'; currentSTCID = &quot;__GIP__3__&quot;;akhandler(event);\" /><div style=\"margin-top:-1px;\"><div style=\"position: relative;\"><table id=\"suggesttypescar[__GIP__3__]\" style=\"display:none; position: absolute; z-index: 2; border: solid 1px #7777FF; opacity: 1; background-color: #FFFFFF; width: 400px;\" class=\"autosuggest-box\" cellpadding=\"0\" cellspacing=\"0\"></table></div></div></td><td class=\"td-button\"><div class=\"hide-if-js\"><input type=\"submit\" name=\"btntabsearch\" id=\"btncarcodesearch[__GIP__3__]\" value=\"Search\" class=\"ra-btn ra-btn-size-normal ra-btn-color-darkblue ra-btn-search-icon\" alt=\"Search\" title=\"Search\" onclick=\"go_search(true);\"/></div><div class=\"show-if-js\"><img class=\"ib input-size ra-btn ra-btn-size-normal ra-btn-color-darkblue ra-btn-search-icon\" src=\"/Images/1pxtransparent.png\" style=\"color: black;\" onclick=\"RA.Click(\\'btncarcodesearch[__GIP__3__]\\')\" alt=\"Search\" title=\"Search\"/></div></td><td style=\"padding-left: .5em; vertical-align: middle;\"><img class=\"help_q_icon_16 vmiddle\" src=\"/Images/questionMark.png\" onclick=\"helpPopup(&quot;Enter Part Name to Search Categories Under this Vehicle&lt;br\\\\/&gt;(e.g. \\'Hydraulic Hose\\', \\'Control Arm Bushing\\', \\'Tail Lamp Bulb\\', etc.)&quot;, this);\" alt=\"How to Search\" title=\"How to Search\" /></td></tr></table><span id=\"navcarcodesearchmsg[__GIP__3__]\" class=\"searchresultmsg\"></span></div></td></tr></table></div></div><div class=\"nchildren ra-hide\" id=\"navchildren[__GIP__3__]\" ></div></div>'},\n",
       " 'jsn': {'tab': 'catalog',\n",
       "  'make': 'MAZDA',\n",
       "  'year': 2007,\n",
       "  'model': '3',\n",
       "  'nodetype': 'model',\n",
       "  'idepth': 0},\n",
       " 'collected_javascript': '/**UQ:FC7AF11B**/\\nRABoot.WaitFor(\"jQuery\", function() {$(document).ready(function(){cataloglite.AddClearXToInput(\"navcarcodesearchinput[__GIP__1__]\");});});\\nRABoot.WaitFor(\"jQuery\", function() {$(document).ready(function(){cataloglite.AddClearXToInput(\"navcarcodesearchinput[__GIP__2__]\");});});\\nRABoot.WaitFor(\"jQuery\", function() {$(document).ready(function(){cataloglite.AddClearXToInput(\"navcarcodesearchinput[__GIP__3__]\");});});\\nwindow.top.parent.window[\"_nck\"] = \"8LVLUxTaILBT+tLxkg8+3Ag7\\\\/0bbOhvn7P3rkFbL80\\\\/4ONrpMMyyMoTAzqUtg75DXjLFbtL0RWwG2TIS5g0HjN+BEpbJggwRicfW87qYxCroJDOCFdvb3koFH0TxTw3xVpCZZysmtwD7uBglIcpoF10RDpa+mqfiixvUvIx3B8M=\";\\n'}"
      ]
     },
     "execution_count": 4,
     "metadata": {},
     "output_type": "execute_result"
    }
   ],
   "source": [
    "dict_ = response.json()\n",
    "\n",
    "dict_"
   ]
  },
  {
   "cell_type": "code",
   "execution_count": 5,
   "id": "d3b29f9e-8760-4da1-8d81-c2f8ef3b8b75",
   "metadata": {},
   "outputs": [
    {
     "data": {
      "text/plain": [
       "False"
      ]
     },
     "execution_count": 5,
     "metadata": {},
     "output_type": "execute_result"
    }
   ],
   "source": [
    "'redirect_to_url' in dict_ or dict_['jsn']['tab'].strip() != 'catalog' or dict_['jsn']['make'].strip() != item['make'].strip() or dict_['jsn']['year'] != item['year'] or dict_['jsn']['model'].strip() != item['model'].strip() or dict_['jsn']['nodetype'].strip() != 'model' or dict_['jsn']['idepth'] != 0"
   ]
  },
  {
   "cell_type": "code",
   "execution_count": 6,
   "id": "a03602a7-94b3-4d85-8e55-d44738e3f7b5",
   "metadata": {},
   "outputs": [],
   "source": [
    "from bs4 import BeautifulSoup"
   ]
  },
  {
   "cell_type": "code",
   "execution_count": 7,
   "id": "6e728db0-e7c6-4ced-b07f-b241b0fcac29",
   "metadata": {},
   "outputs": [
    {
     "name": "stdout",
     "output_type": "stream",
     "text": [
      "<html>\n",
      " <head>\n",
      " </head>\n",
      " <body>\n",
      "  <div class=\"ranavnode\" id=\"nav[__GIP__1__]\">\n",
      "   <input autocomplete=\"off\" id=\"jsn[__GIP__1__]\" type=\"hidden\" value='{\"groupindex\":\"__GIP__1__\",\"tab\":\"catalog\",\"idepth\":1,\"make\":\"MAZDA\",\"year\":2007,\"model\":\"3\",\"carcode\":\"1434563\",\"engine\":\"2.0L L4\",\"nodetype\":\"carcode\",\"jsdata\":{\"markets\":[{\"c\":\"US\"},{\"c\":\"CA\"},{\"c\":\"MX\"}],\"mktlist\":\"US,CA,MX\",\"Show\":1}}'/>\n",
      "   <input autocomplete=\"off\" id=\"navnodeunique[catalog-mazda-2007-3-1434563]\" name=\"navnodeunique[catalog-mazda-2007-3-1434563]\" type=\"hidden\" value=\"__GIP__1__\"/>\n",
      "   <div class=\"ranavouter\" id=\"nav_o[__GIP__1__]\">\n",
      "    <div class=\"inner\">\n",
      "     <table cellpadding=\"0\" cellspacing=\"0\" class=\"tbl\">\n",
      "      <tbody>\n",
      "       <tr>\n",
      "        <td class=\"niconspace nvlineicon\">\n",
      "        </td>\n",
      "        <td class=\"niconspace ncollapsedicon\" id=\"navicon[__GIP__1__]\">\n",
      "         <a href=\"/en/catalog/mazda,2007,3,2.0l+l4,1434563\" onclick='cataloglite.LinkIntercept_ToggleNavNode(\"__GIP__1__\"); return false;' tabindex=\"-1\">\n",
      "          <img alt=\"Toggle\" src=\"/Images/1pxtransparent.png\"/>\n",
      "         </a>\n",
      "        </td>\n",
      "        <td class=\"nlabel\">\n",
      "         <a class=\"navlabellink nvoffset nnormal\" href=\"/en/catalog/mazda,2007,3,2.0l+l4,1434563\" id=\"navhref[__GIP__1__]\" onclick='cataloglite.LinkIntercept_ToggleNavNode(\"__GIP__1__\"); return false;'>\n",
      "          2.0L L4\n",
      "         </a>\n",
      "        </td>\n",
      "        <td class=\"rc nflags\">\n",
      "         <a class=\"nodeflag-a\" href=\"/help/?page=1#WHATDOTHE\" id=\"flags[__GIP__1__][US]\" onclick=\"RA.StopBubble(event); return FAQpopup(this)\">\n",
      "          <img alt=\"the USA flag\" class=\"flag-new nodeflag\" src=\"/catalog/images/flag_us.png\"/>\n",
      "         </a>\n",
      "         <a class=\"nodeflag-a\" href=\"/help/?page=1#WHATDOTHE\" id=\"flags[__GIP__1__][CA]\" onclick=\"RA.StopBubble(event); return FAQpopup(this)\">\n",
      "          <img alt=\"Canada flag\" class=\"flag-new nodeflag\" src=\"/catalog/images/flag_ca.png\"/>\n",
      "         </a>\n",
      "         <a class=\"nodeflag-a\" href=\"/help/?page=1#WHATDOTHE\" id=\"flags[__GIP__1__][MX]\" onclick=\"RA.StopBubble(event); return FAQpopup(this)\">\n",
      "          <img alt=\"Mexico flag\" class=\"flag-new nodeflag\" src=\"/catalog/images/flag_mx.png\"/>\n",
      "         </a>\n",
      "        </td>\n",
      "        <td class=\"rc show-if-js ra-hide\">\n",
      "         <span name=\"icon_add_car_to_account\">\n",
      "          <img alt=\"Add Car to My List\" class=\"mouseover\" onclick=\"cataloglite.AddRemoveSavedVehicle('add', &quot;1434563&quot;, &quot;__GIP__1__&quot;);(&quot;1434563&quot;); AccountWidgets.SavedVehiclesWidget.Refresh(); $(this).addClass('ra-hide');\" src=\"/catalog/images/accounts/vehicles.png\" style=\"vertical-align: top; height: 18px;\" title=\"Add Car to My List\"/>\n",
      "         </span>\n",
      "        </td>\n",
      "        <td class=\"rc show-if-js\">\n",
      "         <div class=\"ccsi-wrapper vtop ra-hide\" id=\"navcarcodesearchwrapper[__GIP__1__]\">\n",
      "          <table class=\"tblz tbl-input-button-attached attached-ccparttype-size\" style=\"\">\n",
      "           <tbody>\n",
      "            <tr>\n",
      "             <td class=\"td-input\" style=\"width: 99%;\">\n",
      "              <input autocapitalize=\"off\" autocomplete=\"off\" autocorrect=\"off\" class=\"input-carcodesearch\" id=\"navcarcodesearchinput[__GIP__1__]\" name=\"navcarcodesearchinput[__GIP__1__]\" onclick=\"setTimeout(function() {acmp_request();}, 50);\" onfocus=\"acmp_partcategory = '1'; currentSTCID = &quot;__GIP__1__&quot;;\" onkeydown=\"acmp_partcategory = '1'; currentSTCID = &quot;__GIP__1__&quot;;akhandler(event);\" onkeyup=\"acmp_partcategory = '1'; currentSTCID = &quot;__GIP__1__&quot;; acmp_keyup(event, true);\" placeholder=\"part name or part type\" spellcheck=\"false\" title=\"Enter Part Name to Search Categories Under this Vehicle \n",
      "(e.g. 'Hydraulic Hose', 'Control Arm Bushing', 'Tail Lamp Bulb', etc.)\" type=\"text\"/>\n",
      "              <div style=\"margin-top:-1px;\">\n",
      "               <div style=\"position: relative;\">\n",
      "                <table cellpadding=\"0\" cellspacing=\"0\" class=\"autosuggest-box\" id=\"suggesttypescar[__GIP__1__]\" style=\"display:none; position: absolute; z-index: 2; border: solid 1px #7777FF; opacity: 1; background-color: #FFFFFF; width: 400px;\">\n",
      "                </table>\n",
      "               </div>\n",
      "              </div>\n",
      "             </td>\n",
      "             <td class=\"td-button\">\n",
      "              <div class=\"hide-if-js\">\n",
      "               <input alt=\"Search\" class=\"ra-btn ra-btn-size-normal ra-btn-color-darkblue ra-btn-search-icon\" id=\"btncarcodesearch[__GIP__1__]\" name=\"btntabsearch\" onclick=\"go_search(true);\" title=\"Search\" type=\"submit\" value=\"Search\"/>\n",
      "              </div>\n",
      "              <div class=\"show-if-js\">\n",
      "               <img alt=\"Search\" class=\"ib input-size ra-btn ra-btn-size-normal ra-btn-color-darkblue ra-btn-search-icon\" onclick=\"RA.Click('btncarcodesearch[__GIP__1__]')\" src=\"/Images/1pxtransparent.png\" style=\"color: black;\" title=\"Search\"/>\n",
      "              </div>\n",
      "             </td>\n",
      "             <td style=\"padding-left: .5em; vertical-align: middle;\">\n",
      "              <img alt=\"How to Search\" class=\"help_q_icon_16 vmiddle\" onclick=\"helpPopup(&quot;Enter Part Name to Search Categories Under this Vehicle&lt;br\\/&gt;(e.g. 'Hydraulic Hose', 'Control Arm Bushing', 'Tail Lamp Bulb', etc.)&quot;, this);\" src=\"/Images/questionMark.png\" title=\"How to Search\"/>\n",
      "             </td>\n",
      "            </tr>\n",
      "           </tbody>\n",
      "          </table>\n",
      "          <span class=\"searchresultmsg\" id=\"navcarcodesearchmsg[__GIP__1__]\">\n",
      "          </span>\n",
      "         </div>\n",
      "        </td>\n",
      "       </tr>\n",
      "      </tbody>\n",
      "     </table>\n",
      "    </div>\n",
      "   </div>\n",
      "   <div class=\"nchildren ra-hide\" id=\"navchildren[__GIP__1__]\">\n",
      "   </div>\n",
      "  </div>\n",
      "  <div class=\"ranavnode\" id=\"nav[__GIP__2__]\">\n",
      "   <input autocomplete=\"off\" id=\"jsn[__GIP__2__]\" type=\"hidden\" value='{\"groupindex\":\"__GIP__2__\",\"tab\":\"catalog\",\"idepth\":1,\"make\":\"MAZDA\",\"year\":2007,\"model\":\"3\",\"carcode\":\"1434568\",\"engine\":\"2.3L L4\",\"nodetype\":\"carcode\",\"jsdata\":{\"markets\":[{\"c\":\"US\"},{\"c\":\"CA\"},{\"c\":\"MX\"}],\"mktlist\":\"US,CA,MX\",\"Show\":1}}'/>\n",
      "   <input autocomplete=\"off\" id=\"navnodeunique[catalog-mazda-2007-3-1434568]\" name=\"navnodeunique[catalog-mazda-2007-3-1434568]\" type=\"hidden\" value=\"__GIP__2__\"/>\n",
      "   <div class=\"ranavouter\" id=\"nav_o[__GIP__2__]\">\n",
      "    <div class=\"inner\">\n",
      "     <table cellpadding=\"0\" cellspacing=\"0\" class=\"tbl\">\n",
      "      <tbody>\n",
      "       <tr>\n",
      "        <td class=\"niconspace nvlineicon\">\n",
      "        </td>\n",
      "        <td class=\"niconspace ncollapsedicon\" id=\"navicon[__GIP__2__]\">\n",
      "         <a href=\"/en/catalog/mazda,2007,3,2.3l+l4,1434568\" onclick='cataloglite.LinkIntercept_ToggleNavNode(\"__GIP__2__\"); return false;' tabindex=\"-1\">\n",
      "          <img alt=\"Toggle\" src=\"/Images/1pxtransparent.png\"/>\n",
      "         </a>\n",
      "        </td>\n",
      "        <td class=\"nlabel\">\n",
      "         <a class=\"navlabellink nvoffset nnormal\" href=\"/en/catalog/mazda,2007,3,2.3l+l4,1434568\" id=\"navhref[__GIP__2__]\" onclick='cataloglite.LinkIntercept_ToggleNavNode(\"__GIP__2__\"); return false;'>\n",
      "          2.3L L4\n",
      "         </a>\n",
      "        </td>\n",
      "        <td class=\"rc nflags\">\n",
      "         <a class=\"nodeflag-a\" href=\"/help/?page=1#WHATDOTHE\" id=\"flags[__GIP__2__][US]\" onclick=\"RA.StopBubble(event); return FAQpopup(this)\">\n",
      "          <img alt=\"the USA flag\" class=\"flag-new nodeflag\" src=\"/catalog/images/flag_us.png\"/>\n",
      "         </a>\n",
      "         <a class=\"nodeflag-a\" href=\"/help/?page=1#WHATDOTHE\" id=\"flags[__GIP__2__][CA]\" onclick=\"RA.StopBubble(event); return FAQpopup(this)\">\n",
      "          <img alt=\"Canada flag\" class=\"flag-new nodeflag\" src=\"/catalog/images/flag_ca.png\"/>\n",
      "         </a>\n",
      "         <a class=\"nodeflag-a\" href=\"/help/?page=1#WHATDOTHE\" id=\"flags[__GIP__2__][MX]\" onclick=\"RA.StopBubble(event); return FAQpopup(this)\">\n",
      "          <img alt=\"Mexico flag\" class=\"flag-new nodeflag\" src=\"/catalog/images/flag_mx.png\"/>\n",
      "         </a>\n",
      "        </td>\n",
      "        <td class=\"rc show-if-js ra-hide\">\n",
      "         <span name=\"icon_add_car_to_account\">\n",
      "          <img alt=\"Add Car to My List\" class=\"mouseover\" onclick=\"cataloglite.AddRemoveSavedVehicle('add', &quot;1434568&quot;, &quot;__GIP__2__&quot;);(&quot;1434568&quot;); AccountWidgets.SavedVehiclesWidget.Refresh(); $(this).addClass('ra-hide');\" src=\"/catalog/images/accounts/vehicles.png\" style=\"vertical-align: top; height: 18px;\" title=\"Add Car to My List\"/>\n",
      "         </span>\n",
      "        </td>\n",
      "        <td class=\"rc show-if-js\">\n",
      "         <div class=\"ccsi-wrapper vtop ra-hide\" id=\"navcarcodesearchwrapper[__GIP__2__]\">\n",
      "          <table class=\"tblz tbl-input-button-attached attached-ccparttype-size\" style=\"\">\n",
      "           <tbody>\n",
      "            <tr>\n",
      "             <td class=\"td-input\" style=\"width: 99%;\">\n",
      "              <input autocapitalize=\"off\" autocomplete=\"off\" autocorrect=\"off\" class=\"input-carcodesearch\" id=\"navcarcodesearchinput[__GIP__2__]\" name=\"navcarcodesearchinput[__GIP__2__]\" onclick=\"setTimeout(function() {acmp_request();}, 50);\" onfocus=\"acmp_partcategory = '1'; currentSTCID = &quot;__GIP__2__&quot;;\" onkeydown=\"acmp_partcategory = '1'; currentSTCID = &quot;__GIP__2__&quot;;akhandler(event);\" onkeyup=\"acmp_partcategory = '1'; currentSTCID = &quot;__GIP__2__&quot;; acmp_keyup(event, true);\" placeholder=\"part name or part type\" spellcheck=\"false\" title=\"Enter Part Name to Search Categories Under this Vehicle \n",
      "(e.g. 'Hydraulic Hose', 'Control Arm Bushing', 'Tail Lamp Bulb', etc.)\" type=\"text\"/>\n",
      "              <div style=\"margin-top:-1px;\">\n",
      "               <div style=\"position: relative;\">\n",
      "                <table cellpadding=\"0\" cellspacing=\"0\" class=\"autosuggest-box\" id=\"suggesttypescar[__GIP__2__]\" style=\"display:none; position: absolute; z-index: 2; border: solid 1px #7777FF; opacity: 1; background-color: #FFFFFF; width: 400px;\">\n",
      "                </table>\n",
      "               </div>\n",
      "              </div>\n",
      "             </td>\n",
      "             <td class=\"td-button\">\n",
      "              <div class=\"hide-if-js\">\n",
      "               <input alt=\"Search\" class=\"ra-btn ra-btn-size-normal ra-btn-color-darkblue ra-btn-search-icon\" id=\"btncarcodesearch[__GIP__2__]\" name=\"btntabsearch\" onclick=\"go_search(true);\" title=\"Search\" type=\"submit\" value=\"Search\"/>\n",
      "              </div>\n",
      "              <div class=\"show-if-js\">\n",
      "               <img alt=\"Search\" class=\"ib input-size ra-btn ra-btn-size-normal ra-btn-color-darkblue ra-btn-search-icon\" onclick=\"RA.Click('btncarcodesearch[__GIP__2__]')\" src=\"/Images/1pxtransparent.png\" style=\"color: black;\" title=\"Search\"/>\n",
      "              </div>\n",
      "             </td>\n",
      "             <td style=\"padding-left: .5em; vertical-align: middle;\">\n",
      "              <img alt=\"How to Search\" class=\"help_q_icon_16 vmiddle\" onclick=\"helpPopup(&quot;Enter Part Name to Search Categories Under this Vehicle&lt;br\\/&gt;(e.g. 'Hydraulic Hose', 'Control Arm Bushing', 'Tail Lamp Bulb', etc.)&quot;, this);\" src=\"/Images/questionMark.png\" title=\"How to Search\"/>\n",
      "             </td>\n",
      "            </tr>\n",
      "           </tbody>\n",
      "          </table>\n",
      "          <span class=\"searchresultmsg\" id=\"navcarcodesearchmsg[__GIP__2__]\">\n",
      "          </span>\n",
      "         </div>\n",
      "        </td>\n",
      "       </tr>\n",
      "      </tbody>\n",
      "     </table>\n",
      "    </div>\n",
      "   </div>\n",
      "   <div class=\"nchildren ra-hide\" id=\"navchildren[__GIP__2__]\">\n",
      "   </div>\n",
      "  </div>\n",
      "  <div class=\"ranavnode\" id=\"nav[__GIP__3__]\">\n",
      "   <input autocomplete=\"off\" id=\"jsn[__GIP__3__]\" type=\"hidden\" value='{\"groupindex\":\"__GIP__3__\",\"tab\":\"catalog\",\"idepth\":1,\"make\":\"MAZDA\",\"year\":2007,\"model\":\"3\",\"carcode\":\"1434570\",\"engine\":\"2.3L L4 Turbocharged\",\"nodetype\":\"carcode\",\"jsdata\":{\"markets\":[{\"c\":\"US\"},{\"c\":\"CA\"},{\"c\":\"MX\"}],\"mktlist\":\"US,CA,MX\",\"Show\":1}}'/>\n",
      "   <input autocomplete=\"off\" id=\"navnodeunique[catalog-mazda-2007-3-1434570]\" name=\"navnodeunique[catalog-mazda-2007-3-1434570]\" type=\"hidden\" value=\"__GIP__3__\"/>\n",
      "   <div class=\"ranavouter\" id=\"nav_o[__GIP__3__]\">\n",
      "    <div class=\"inner\">\n",
      "     <table cellpadding=\"0\" cellspacing=\"0\" class=\"tbl\">\n",
      "      <tbody>\n",
      "       <tr>\n",
      "        <td class=\"niconspace nvlineicon\">\n",
      "        </td>\n",
      "        <td class=\"niconspace ncollapsedicon\" id=\"navicon[__GIP__3__]\">\n",
      "         <a href=\"/en/catalog/mazda,2007,3,2.3l+l4+turbocharged,1434570\" onclick='cataloglite.LinkIntercept_ToggleNavNode(\"__GIP__3__\"); return false;' tabindex=\"-1\">\n",
      "          <img alt=\"Toggle\" src=\"/Images/1pxtransparent.png\"/>\n",
      "         </a>\n",
      "        </td>\n",
      "        <td class=\"nlabel\">\n",
      "         <a class=\"navlabellink nvoffset nnormal\" href=\"/en/catalog/mazda,2007,3,2.3l+l4+turbocharged,1434570\" id=\"navhref[__GIP__3__]\" onclick='cataloglite.LinkIntercept_ToggleNavNode(\"__GIP__3__\"); return false;'>\n",
      "          2.3L L4 Turbocharged\n",
      "         </a>\n",
      "        </td>\n",
      "        <td class=\"rc nflags\">\n",
      "         <a class=\"nodeflag-a\" href=\"/help/?page=1#WHATDOTHE\" id=\"flags[__GIP__3__][US]\" onclick=\"RA.StopBubble(event); return FAQpopup(this)\">\n",
      "          <img alt=\"the USA flag\" class=\"flag-new nodeflag\" src=\"/catalog/images/flag_us.png\"/>\n",
      "         </a>\n",
      "         <a class=\"nodeflag-a\" href=\"/help/?page=1#WHATDOTHE\" id=\"flags[__GIP__3__][CA]\" onclick=\"RA.StopBubble(event); return FAQpopup(this)\">\n",
      "          <img alt=\"Canada flag\" class=\"flag-new nodeflag\" src=\"/catalog/images/flag_ca.png\"/>\n",
      "         </a>\n",
      "         <a class=\"nodeflag-a\" href=\"/help/?page=1#WHATDOTHE\" id=\"flags[__GIP__3__][MX]\" onclick=\"RA.StopBubble(event); return FAQpopup(this)\">\n",
      "          <img alt=\"Mexico flag\" class=\"flag-new nodeflag\" src=\"/catalog/images/flag_mx.png\"/>\n",
      "         </a>\n",
      "        </td>\n",
      "        <td class=\"rc show-if-js ra-hide\">\n",
      "         <span name=\"icon_add_car_to_account\">\n",
      "          <img alt=\"Add Car to My List\" class=\"mouseover\" onclick=\"cataloglite.AddRemoveSavedVehicle('add', &quot;1434570&quot;, &quot;__GIP__3__&quot;);(&quot;1434570&quot;); AccountWidgets.SavedVehiclesWidget.Refresh(); $(this).addClass('ra-hide');\" src=\"/catalog/images/accounts/vehicles.png\" style=\"vertical-align: top; height: 18px;\" title=\"Add Car to My List\"/>\n",
      "         </span>\n",
      "        </td>\n",
      "        <td class=\"rc show-if-js\">\n",
      "         <div class=\"ccsi-wrapper vtop ra-hide\" id=\"navcarcodesearchwrapper[__GIP__3__]\">\n",
      "          <table class=\"tblz tbl-input-button-attached attached-ccparttype-size\" style=\"\">\n",
      "           <tbody>\n",
      "            <tr>\n",
      "             <td class=\"td-input\" style=\"width: 99%;\">\n",
      "              <input autocapitalize=\"off\" autocomplete=\"off\" autocorrect=\"off\" class=\"input-carcodesearch\" id=\"navcarcodesearchinput[__GIP__3__]\" name=\"navcarcodesearchinput[__GIP__3__]\" onclick=\"setTimeout(function() {acmp_request();}, 50);\" onfocus=\"acmp_partcategory = '1'; currentSTCID = &quot;__GIP__3__&quot;;\" onkeydown=\"acmp_partcategory = '1'; currentSTCID = &quot;__GIP__3__&quot;;akhandler(event);\" onkeyup=\"acmp_partcategory = '1'; currentSTCID = &quot;__GIP__3__&quot;; acmp_keyup(event, true);\" placeholder=\"part name or part type\" spellcheck=\"false\" title=\"Enter Part Name to Search Categories Under this Vehicle \n",
      "(e.g. 'Hydraulic Hose', 'Control Arm Bushing', 'Tail Lamp Bulb', etc.)\" type=\"text\"/>\n",
      "              <div style=\"margin-top:-1px;\">\n",
      "               <div style=\"position: relative;\">\n",
      "                <table cellpadding=\"0\" cellspacing=\"0\" class=\"autosuggest-box\" id=\"suggesttypescar[__GIP__3__]\" style=\"display:none; position: absolute; z-index: 2; border: solid 1px #7777FF; opacity: 1; background-color: #FFFFFF; width: 400px;\">\n",
      "                </table>\n",
      "               </div>\n",
      "              </div>\n",
      "             </td>\n",
      "             <td class=\"td-button\">\n",
      "              <div class=\"hide-if-js\">\n",
      "               <input alt=\"Search\" class=\"ra-btn ra-btn-size-normal ra-btn-color-darkblue ra-btn-search-icon\" id=\"btncarcodesearch[__GIP__3__]\" name=\"btntabsearch\" onclick=\"go_search(true);\" title=\"Search\" type=\"submit\" value=\"Search\"/>\n",
      "              </div>\n",
      "              <div class=\"show-if-js\">\n",
      "               <img alt=\"Search\" class=\"ib input-size ra-btn ra-btn-size-normal ra-btn-color-darkblue ra-btn-search-icon\" onclick=\"RA.Click('btncarcodesearch[__GIP__3__]')\" src=\"/Images/1pxtransparent.png\" style=\"color: black;\" title=\"Search\"/>\n",
      "              </div>\n",
      "             </td>\n",
      "             <td style=\"padding-left: .5em; vertical-align: middle;\">\n",
      "              <img alt=\"How to Search\" class=\"help_q_icon_16 vmiddle\" onclick=\"helpPopup(&quot;Enter Part Name to Search Categories Under this Vehicle&lt;br\\/&gt;(e.g. 'Hydraulic Hose', 'Control Arm Bushing', 'Tail Lamp Bulb', etc.)&quot;, this);\" src=\"/Images/questionMark.png\" title=\"How to Search\"/>\n",
      "             </td>\n",
      "            </tr>\n",
      "           </tbody>\n",
      "          </table>\n",
      "          <span class=\"searchresultmsg\" id=\"navcarcodesearchmsg[__GIP__3__]\">\n",
      "          </span>\n",
      "         </div>\n",
      "        </td>\n",
      "       </tr>\n",
      "      </tbody>\n",
      "     </table>\n",
      "    </div>\n",
      "   </div>\n",
      "   <div class=\"nchildren ra-hide\" id=\"navchildren[__GIP__3__]\">\n",
      "   </div>\n",
      "  </div>\n",
      " </body>\n",
      "</html>\n",
      "\n"
     ]
    }
   ],
   "source": [
    "soup = BeautifulSoup(dict_['html_fill_sections']['navchildren[]'], 'html5lib')\n",
    "\n",
    "with open('./4.engine.html', 'w', encoding='utf-8') as file:\n",
    "    file.write(str(soup))\n",
    "\n",
    "print(soup.prettify())"
   ]
  },
  {
   "cell_type": "code",
   "execution_count": 8,
   "id": "0d0c07db-9a8e-44c9-af43-2db91af6a5e3",
   "metadata": {},
   "outputs": [],
   "source": [
    "from parsel import Selector"
   ]
  },
  {
   "cell_type": "code",
   "execution_count": 9,
   "id": "f2b06e71-33df-404c-b9d5-cbb16a6ae597",
   "metadata": {},
   "outputs": [
    {
     "data": {
      "text/plain": [
       "<Selector query=None data='<html><head></head><body><div class=\"...'>"
      ]
     },
     "execution_count": 9,
     "metadata": {},
     "output_type": "execute_result"
    }
   ],
   "source": [
    "selector = Selector(text=str(soup))\n",
    "\n",
    "selector"
   ]
  },
  {
   "cell_type": "code",
   "execution_count": 10,
   "id": "7e12a8be-dc3b-42ea-bef9-11dc58f5bce1",
   "metadata": {},
   "outputs": [
    {
     "data": {
      "text/plain": [
       "[{'groupindex': '__GIP__1__',\n",
       "  'tab': 'catalog',\n",
       "  'idepth': 1,\n",
       "  'make': 'MAZDA',\n",
       "  'year': 2007,\n",
       "  'model': '3',\n",
       "  'carcode': '1434563',\n",
       "  'engine': '2.0L L4',\n",
       "  'nodetype': 'carcode',\n",
       "  'jsdata': {'markets': [{'c': 'US'}, {'c': 'CA'}, {'c': 'MX'}],\n",
       "   'mktlist': 'US,CA,MX',\n",
       "   'Show': 1}},\n",
       " {'groupindex': '__GIP__2__',\n",
       "  'tab': 'catalog',\n",
       "  'idepth': 1,\n",
       "  'make': 'MAZDA',\n",
       "  'year': 2007,\n",
       "  'model': '3',\n",
       "  'carcode': '1434568',\n",
       "  'engine': '2.3L L4',\n",
       "  'nodetype': 'carcode',\n",
       "  'jsdata': {'markets': [{'c': 'US'}, {'c': 'CA'}, {'c': 'MX'}],\n",
       "   'mktlist': 'US,CA,MX',\n",
       "   'Show': 1}},\n",
       " {'groupindex': '__GIP__3__',\n",
       "  'tab': 'catalog',\n",
       "  'idepth': 1,\n",
       "  'make': 'MAZDA',\n",
       "  'year': 2007,\n",
       "  'model': '3',\n",
       "  'carcode': '1434570',\n",
       "  'engine': '2.3L L4 Turbocharged',\n",
       "  'nodetype': 'carcode',\n",
       "  'jsdata': {'markets': [{'c': 'US'}, {'c': 'CA'}, {'c': 'MX'}],\n",
       "   'mktlist': 'US,CA,MX',\n",
       "   'Show': 1}}]"
      ]
     },
     "execution_count": 10,
     "metadata": {},
     "output_type": "execute_result"
    }
   ],
   "source": [
    "list_dict = [json.loads(value) for value in selector.xpath('//input[contains(@id, \"jsn[__GIP__\")]/@value').getall()]\n",
    "\n",
    "list_dict"
   ]
  },
  {
   "cell_type": "code",
   "execution_count": 11,
   "id": "56be1b91-e78a-4550-9924-854e2d145dfa",
   "metadata": {},
   "outputs": [
    {
     "data": {
      "text/plain": [
       "False"
      ]
     },
     "execution_count": 11,
     "metadata": {},
     "output_type": "execute_result"
    }
   ],
   "source": [
    "not list_dict"
   ]
  },
  {
   "cell_type": "code",
   "execution_count": 12,
   "id": "9b25aa2e-c57c-42e4-872f-e5691794768a",
   "metadata": {
    "scrolled": true
   },
   "outputs": [
    {
     "data": {
      "text/plain": [
       "(['1434563', '1434568', '1434570'],\n",
       " ['2.0L L4', '2.3L L4', '2.3L L4 Turbocharged'],\n",
       " ['US,CA,MX', 'US,CA,MX', 'US,CA,MX'])"
      ]
     },
     "execution_count": 12,
     "metadata": {},
     "output_type": "execute_result"
    }
   ],
   "source": [
    "list_car_code, list_engine, list_engine_market = [dict_['carcode'] for dict_ in list_dict], [dict_['engine'] for dict_ in list_dict], [dict_['jsdata']['mktlist'].strip() for dict_ in list_dict]\n",
    "\n",
    "list_car_code, list_engine, list_engine_market"
   ]
  },
  {
   "cell_type": "code",
   "execution_count": 13,
   "id": "308bf0d3-e639-4f91-8b61-6c88c956047c",
   "metadata": {},
   "outputs": [
    {
     "data": {
      "text/plain": [
       "{'make_url': 'https://www.rockauto.com/en/catalog/',\n",
       " 'make_no': 178,\n",
       " 'make': 'MAZDA',\n",
       " 'make_market': 'US,CA,MX',\n",
       " 'year_url': 'https://www.rockauto.com/en/catalog/MAZDA',\n",
       " 'year': 2007,\n",
       " 'year_market': 'US,CA,MX',\n",
       " 'model_url': 'https://www.rockauto.com/en/catalog/MAZDA,2007',\n",
       " 'model_no': 1,\n",
       " 'model': '3',\n",
       " 'model_market': 'US,CA,MX',\n",
       " 'engine_url': 'https://www.rockauto.com/en/catalog/MAZDA,2007,3',\n",
       " 'engine_no': 2,\n",
       " 'car_code': '1434568',\n",
       " 'engine': '2.3L L4',\n",
       " 'engine_market': 'US,CA,MX',\n",
       " 'group_url': 'https://www.rockauto.com/en/catalog/MAZDA,2007,3,2.3L L4,1434568'}"
      ]
     },
     "execution_count": 13,
     "metadata": {},
     "output_type": "execute_result"
    }
   ],
   "source": [
    "{'make_url': item['make_url'],\n",
    " 'make_no': item['make_no'],\n",
    " 'make': item['make'],\n",
    " 'make_market': item['make_market'],\n",
    " 'year_url': item['year_url'],\n",
    " 'year': item['year'],\n",
    " 'year_market': item['year_market'],\n",
    " 'model_url': item['model_url'],\n",
    " 'model_no': item['model_no'],\n",
    " 'model': item['model'],\n",
    " 'model_market': item['model_market'],\n",
    " 'engine_url': item['engine_url'],\n",
    " 'engine_no': 2,\n",
    " 'car_code': list_car_code[1],\n",
    " 'engine': list_engine[1],\n",
    " 'engine_market': list_engine_market[1],\n",
    " 'group_url': f'''{item['engine_url']},{list_engine[1]},{list_car_code[1]}'''}"
   ]
  },
  {
   "cell_type": "code",
   "execution_count": null,
   "id": "62ace31f-2583-49b4-9ac7-81e2ce7d646d",
   "metadata": {},
   "outputs": [],
   "source": []
  }
 ],
 "metadata": {
  "kernelspec": {
   "display_name": "Python 3 (ipykernel)",
   "language": "python",
   "name": "python3"
  },
  "language_info": {
   "codemirror_mode": {
    "name": "ipython",
    "version": 3
   },
   "file_extension": ".py",
   "mimetype": "text/x-python",
   "name": "python",
   "nbconvert_exporter": "python",
   "pygments_lexer": "ipython3",
   "version": "3.12.7"
  }
 },
 "nbformat": 4,
 "nbformat_minor": 5
}
