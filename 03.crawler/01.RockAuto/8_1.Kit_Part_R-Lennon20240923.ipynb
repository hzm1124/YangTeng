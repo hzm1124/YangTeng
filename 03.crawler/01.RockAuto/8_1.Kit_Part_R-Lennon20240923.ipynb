{
 "cells": [
  {
   "cell_type": "code",
   "execution_count": 1,
   "id": "32a12924-e1d6-4d3e-a9ef-8073d0aeb574",
   "metadata": {
    "scrolled": true
   },
   "outputs": [
    {
     "data": {
      "text/plain": [
       "['crawler_1.xlsx']"
      ]
     },
     "execution_count": 1,
     "metadata": {},
     "output_type": "execute_result"
    }
   ],
   "source": [
    "import os\n",
    "\n",
    "list_file = sorted(list(os.walk('./file/7.kit_part_number'))[0][2])\n",
    "while '.DS_Store' in list_file:\n",
    "    list_file.remove('.DS_Store')\n",
    "while '0.null.txt' in list_file:\n",
    "    list_file.remove('0.null.txt')\n",
    "\n",
    "list_file"
   ]
  },
  {
   "cell_type": "code",
   "execution_count": 2,
   "id": "c9de1936-ff24-4793-98f4-5ef072598a26",
   "metadata": {},
   "outputs": [
    {
     "data": {
      "text/plain": [
       "'crawler_1.xlsx'"
      ]
     },
     "execution_count": 2,
     "metadata": {},
     "output_type": "execute_result"
    }
   ],
   "source": [
    "file = list_file[0]\n",
    "\n",
    "file"
   ]
  },
  {
   "cell_type": "code",
   "execution_count": 3,
   "id": "783f89be-0cdc-4912-942e-895cc5f09840",
   "metadata": {},
   "outputs": [],
   "source": [
    "import pandas as pd\n",
    "\n",
    "output_correct, output_error = pd.DataFrame(), pd.DataFrame()"
   ]
  },
  {
   "cell_type": "code",
   "execution_count": 4,
   "id": "1c28f4ff-eee5-4220-a711-cc2f93fe08f0",
   "metadata": {
    "scrolled": true
   },
   "outputs": [
    {
     "name": "stdout",
     "output_type": "stream",
     "text": [
      "总数量：41\n"
     ]
    },
    {
     "data": {
      "text/plain": [
       "['715F',\n",
       " 'S905',\n",
       " '717F',\n",
       " 'S906A',\n",
       " 'S899',\n",
       " 'BG7019',\n",
       " 'BT7015',\n",
       " 'BT5514',\n",
       " 'BG5515',\n",
       " 'BT7016',\n",
       " '1025',\n",
       " 'S1290',\n",
       " 'S1261',\n",
       " 'BT5078',\n",
       " 'BT5077',\n",
       " 'BT5079',\n",
       " '1026',\n",
       " 'BG5062',\n",
       " 'BG5063',\n",
       " '722F',\n",
       " 'BG5053',\n",
       " 'BG5054',\n",
       " 'BT5066',\n",
       " 'BT5068',\n",
       " 'BT5069',\n",
       " 'BT5070',\n",
       " 'S1276',\n",
       " 'S1251',\n",
       " 'S1274',\n",
       " 'S1278',\n",
       " 'S960',\n",
       " 'S961',\n",
       " 'BT5620',\n",
       " 'BT5619',\n",
       " 'BT5618',\n",
       " 'BG5623',\n",
       " 'BG5622',\n",
       " '471',\n",
       " '470',\n",
       " 'BT5621',\n",
       " 'S959']"
      ]
     },
     "execution_count": 4,
     "metadata": {},
     "output_type": "execute_result"
    }
   ],
   "source": [
    "input_ = pd.read_excel(f'./file/7.kit_part_number/{file}',\n",
    "                       header=0,\n",
    "                       dtype=str).fillna('')\n",
    "\n",
    "input_ = input_[input_['Kit_JOIN_MPNTCPC'] != '']\n",
    "\n",
    "input_ = input_.drop_duplicates(['Kit_JOIN_MPNTCPC'],\n",
    "                                keep='first',\n",
    "                                ignore_index=True)\n",
    "input_ = input_.sort_values(by=['No'],\n",
    "                            ascending=[True],\n",
    "                            ignore_index=True)\n",
    "\n",
    "input_['No'] = input_['No'].astype(int)\n",
    "input_['Kit_No'] = ['' if no == '' else int(no) for no in input_['Kit_No'].tolist()]\n",
    "input_['Kit_Quantity'] = ['' if quantity == '' else int(quantity) for quantity in input_['Kit_Quantity'].tolist()]\n",
    "\n",
    "print(f'总数量：{len(input_)}')\n",
    "input_['Kit_Part Number'].tolist()"
   ]
  },
  {
   "cell_type": "code",
   "execution_count": 5,
   "id": "5878a9f0-d639-4123-b6e0-bc564f72c2d6",
   "metadata": {},
   "outputs": [
    {
     "data": {
      "text/plain": [
       "0"
      ]
     },
     "execution_count": 5,
     "metadata": {},
     "output_type": "execute_result"
    }
   ],
   "source": [
    "a = 0\n",
    "\n",
    "a"
   ]
  },
  {
   "cell_type": "code",
   "execution_count": 6,
   "id": "9f61dd65-55da-4d0b-ba30-d0534eff0781",
   "metadata": {},
   "outputs": [
    {
     "data": {
      "text/plain": [
       "'error'"
      ]
     },
     "execution_count": 6,
     "metadata": {},
     "output_type": "execute_result"
    }
   ],
   "source": [
    "crawler_status = 'error'\n",
    "\n",
    "crawler_status"
   ]
  },
  {
   "cell_type": "code",
   "execution_count": 7,
   "id": "523cc867",
   "metadata": {
    "scrolled": true
   },
   "outputs": [
    {
     "name": "stdout",
     "output_type": "stream",
     "text": [
      "1\n",
      "2\n"
     ]
    },
    {
     "data": {
      "text/plain": [
       "{'giveback': [],\n",
       " 'searchnoderesults': '<div class=\"ranavnode\" id=\"nav[__GIP__1__]\"><input type=\"hidden\" autocomplete=\"off\" id=\"jsn[__GIP__1__]\" value=\"{&quot;groupindex&quot;:&quot;__GIP__1__&quot;,&quot;tab&quot;:&quot;partsearch&quot;,&quot;idepth&quot;:0,&quot;parttype&quot;:&quot;5724&quot;,&quot;catalogname&quot;:&quot;MELLING&quot;,&quot;partnumber&quot;:&quot;715F&quot;,&quot;nodetype&quot;:&quot;parttabsearch&quot;,&quot;expanded&quot;:true,&quot;loaded&quot;:true}\" /><input type=\"hidden\" autocomplete=\"off\" name=\"navnodeunique[partsearch-5724]\" id=\"navnodeunique[partsearch-5724]\" value=\"__GIP__1__\" /><div id=\"nav_o[__GIP__1__]\" class=\"ranavouter\"><div class=\"inner\"><table class=\"tbl\"  cellpadding=\"0\" cellspacing=\"0\"><tr><td class=\"niconspace nexpandedicon\" id=\"navicon[__GIP__1__]\"><a href=\"/en/parts/melling,715F,timing+chain,5724\" onclick=\"cataloglite.LinkIntercept_ToggleNavNode(&quot;__GIP__1__&quot;); return false;\" tabindex=\"-1\"><img src=\"/Images/1pxtransparent.png\" alt=\"Toggle\"></a></td><td class=\"nlabel\" ><a class=\"navlabellink nvoffset nnormal\" href=\"/en/parts/melling,715F,timing+chain,5724\" onclick=\"cataloglite.LinkIntercept_ToggleNavNode(&quot;__GIP__1__&quot;); return false;\" id=\"navhref[__GIP__1__]\">Search for Manufacturer=\\'MELLING\\' and Part Type=\\'Timing Chain\\' and Part Number=\\'715F\\'</a></td></tr></table></div></div><div class=\"nchildren\" id=\"navchildren[__GIP__1__]\" ><div id=\"listings[__GIP__2__]\" class=\"listings-container\"><form method=\"post\" id=\"frmlistings[__GIP__2__]\" class=\"nobmp\" action=\"/en/partsearch/?mfr=MELLING&parttype=5724&partnum=715F\"><input type=\"hidden\" name=\"_nck\" value=\"8LVLUxTaILBT+tLxkg8+3Ag7/0bbOhvn7P3rkFbL809YNOHQDmNBznFtdYfbcEUriQ0mcmy/TcWfcbfHTjxSwndfe2chgzy88liHO2MoAcp7wW7lek5DxawTLSg/DpYUwwgKwrMfy30W0d204uGUChQFRcQUH5g7nAUTyNc2xAJ78HD4yna8nF2LH81jgdlX\"><div class=\"listing-container-border\"><input type=\"hidden\" autocomplete=\"off\" id=\"parentnode[__GIP__2__]\" value=\"__GIP__1__\" /><div><div style=\"padding-top: 1px; padding-left: .25em; padding-right: .25em;\"><div class=\"remove-for-print\" style=\"padding-top:5px;\"><div class=\"ib vtop\"><span style=\"padding-left: .5em;\" class=\"show-if-js\"><img onclick=\"cataloglite.NavNode_SimulateClick(&quot;__GIP__1__&quot;);\" style=\"vertical-align: top;\" class=\"mouseover\" src=\"/catalog/images/close.gif\" alt=\"Close\" title=\"Close\" /></span><span style=\"padding-left: .5em;\" class=\"show-if-js\"><a href=\"/en/printlistings.php?ni=__GIP__2__&title=Print Part Listings\" target=\"_blank\" rel=\"opener\" ><img style=\"vertical-align: top; border: none; height: 20px;\" class=\"mouseover\" src=\"/Images/mobile/printer.png\" alt=\"Print Part Listings\" title=\"Print Part Listings\" /></a></span><span style=\"padding-left: .5em;\" class=\"show-if-js\"><a href=\"/en/emailpagetofriend.php?nurl=%2Fen%2Fpartsearch%2F%3Fmfr%3DMELLING%26parttype%3D5724%26partnum%3D715F\" target=\"_blank\" onclick=\"cataloglite.AddFiltersToEmailListingURL(&quot;\\\\/en\\\\/partsearch\\\\/?mfr=MELLING&amp;parttype=5724&amp;partnum=715F&quot;, &quot;__GIP__2__&quot;); return false;\"><img style=\"vertical-align: top; border: none; height: 14px;\" class=\"mouseover\" src=\"/Images/mobile/envelope.png\" alt=\"Send these listings to a friend\" title=\"Send these listings to a friend\" /></a></span><span style=\"padding-left: .5em;\" class=\"show-if-js\"><a href=\"/help/?page=2\" target=\"_blank\" style=\"text-decoration: none;\" title=\"How do I choose a part?\" alt=\"How do I choose a part?\">\\n                                            <img class=\"help_q_icon_16 vtop\" src=\"/Images/questionMark.png\" alt=\"Help\" />\\n                                            </a></span></div><span style=\"padding-left: .5em;\" class=\"span-filterinput\"><div class=\"ib\"><table class=\"tblz tbl-input-button-attached attached-filter-size\"><tr><td class=\"td-input\"><input type=\"text\" size=\"25\" value=\"\" name=\"filterinput\" class=\"filter-input\" id=\"filterinput[__GIP__2__]\" style=\"\" onclick=\"cataloglite.DisplayFilterBreakDown(&quot;__GIP__2__&quot;);\" onkeypress=\"return RA.InterceptEnter(event, function(){cataloglite.FilterListings(&quot;__GIP__2__&quot;);});\" onblur=\"cataloglite.FilterListings(&quot;__GIP__2__&quot;);\" autocomplete=\"off\" spellcheck=\"false\" autocorrect=\"off\" autocapitalize=\"off\" placeholder=\"Filter By Keyword(s)\" title=\"Filter listings below by entering words that you want to see. Use \\'-\\' before a word to find results that do NOT contain that word. Use OR between words or groups of words to see listings that match either. Use quotes &quot;...&quot; around a set of words you wish to match only when they exist together as a phrase. Multiple filters can be applied by entering new words or phrases after each filter operation.\" /></td><td class=\"td-button\"><img class=\"ib input-size ra-btn ra-btn-size-normal ra-btn-color-darkblue ra-btn-search-icon\" src=\"/Images/1pxtransparent.png\" style=\"color: black;\" onclick=\"RA.ThrottleRepeats(function() { cataloglite.SendPartTabSearch(\\'frm_partsearch\\', &quot;__GIP__2__&quot;); }, \\'part_tab_search_filter\\', 2.5); return false;\" alt=\"Apply Filter\" /></td></tr></table></div><span style=\"position: relative;\"><span id=\"filterbreakdownwrapper___GIP__2__\" class=\"ra-hide\" style=\"position: absolute; z-index: 10;\"><div style=\"background: #FFFFFF; border: 1px solid black; padding: 5px; white-space: nowrap;\"><div style=\"text-align: right;\" class=\"filter-breakdown-row-spacing\"><img onclick=\"cataloglite.DisplayFilterBreakDown(&quot;__GIP__2__&quot;, 1);\" style=\"vertical-align: top;\" class=\"mouseover\" src=\"/catalog/images/close.gif\" alt=\"Hide\" title=\"Hide\"></div><div id=\"filterbreakdownsteps___GIP__2__\"></div><div style=\"text-align: center; padding-top: .25em;\"><input type=\"submit\" name=\"clearfilter\" value=\"Clear Filter\" class=\"ra-btn mo-link\" style=\"color: blue;\" onclick=\"RA.ThrottleRepeats(function() { cataloglite.SendPartTabSearch(\\'frm_partsearch\\', &quot;__GIP__2__&quot;, 1); }, \\'part_tab_search_filter\\', 2.5); return false;\"></div></div></span></span></span></div></div><div style=\"clear: both; padding-top: .25em;\"></div><table class=\"nobmp\" style=\"width: 100%;\" cellpadding=\"0\" cellspacing=\"0\">\\n                    <tbody>\\n                        <tr>\\n                            <td colspan=\"2\">\\n                                \\n                            </td>\\n                            <td colspan=\"4\" class=\" listing-float-box-cell-shared-header\" style=\"height: 1px; text-align: center;\">\\n                                <span style=\"font-weight: bold;\">Price</span>\\n                            </td>\\n                            <td class=\"ra-hide listing-float-box-cell-shared-header\" style=\"height: 1px; text-align: center;\">\\n                                \\n                            </td>\\n                            <td class=\"ra-hide listing-float-box-cell-shared-header\" style=\"height: 1px; text-align: center;\">\\n                                \\n                            </td>\\n                            <td class=\"ra-hide listing-float-box-cell-shared-header\" style=\"height: 1px; text-align: center;\">\\n                                \\n                            </td>\\n                            <td class=\" listing-float-box-cell-shared-header\" style=\"text-align: center;\">\\n                                \\n                            </td>\\n                        </tr>\\n                    </tbody>\\n                    <tr class=\"remove-for-print\"><td colspan=\"6\" id=\"listingnopartscriteria[__GIP__2__]\" style=\"color: red;\" class=\"ra-hide\">No parts for vehicles in selected markets.</td></tr>\\n                    <tbody id=\"listingcontainer[__GIP__3__]\" class=\"listing-inner altrow-a-1  \" style=\"\">\\n                        <tr>\\n                            <td rowspan=\"2\" class=\"listing-border-top-line listing-inner-content\" style=\"\">\\n                                <span style=\"float: right;\"></span>\\n                                <div></div>\\n                                <div class=\"listing-text-row-moreinfo-truck\"><span class=\"listing-final-manufacturer \">MELLING</span> <span class=\"listing-final-partnumber  as-link-if-js\" id=\"vew_partnumber[__GIP__3__]\" onclick=\"if (cataloglite.IsMobileAndNotExpanded(&quot;__GIP__3__&quot;)) { return; } cataloglite.ShowBuyersGuidePopup(&quot;__GIP__3__&quot;);\" title=\"Buyer\\'s Guide\" alt=\"Buyer\\'s Guide\">715F</span>     <a href=\"https://www.rockauto.com/en/moreinfo.php?pk=8306448&cc=0&pt=5724\" target=\"_blank\" rel=\"opener\"  class=\"ra-btn ra-btn-moreinfo\" onclick=\"cataloglite.MoreInfoClick(this, &quot;__GIP__3__&quot;); AddSerializedCookieDataToHref(this);\">Info</a>   <span name=\"vew_whtruckicon[__GIP__3__][0-0-0-1]\" class=\"truck ra-hide remove-for-print mouseover\" title=\"Could ship from same location as parts in cart\" onclick=\"FAQpopup(\\'/help/?page=2#MINSHIPCOST\\', &quot;Could ship from same location as parts in cart&quot;, null, this); RA.StopBubble(event); return false;\">&nbsp;</span>  </div>\\n                                <div class=\"listing-text-row\"><span  title=\"Please make sure this note matches your vehicle. A seemingly contradictory note (like &quot;Left; Right;&quot;) means the part fits either (left OR right) -- it does not mean you\\'ll receive two parts. Please do not choose a part if the note does not describe your application (for example, if the note says &quot;Sedan&quot; and you have a station wagon).\"><span class=\"listing-footnote-text\">Category: Timing Chain</span></span>  <span class=\"mtf-h-t\">(Only 1 Remaining)</span></div>\\n                                <div></div>\\n                                <div></div>\\n                                <div></div>\\n                                \\n                                <input type=\"hidden\" autocomplete=\"off\" name=\"optionchoice[__GIP__3__]\" id=\"optionchoice[__GIP__3__]\" value=\"0-0-0-1\"><input type=\"hidden\" autocomplete=\"off\" name=\"listing_data_essential[__GIP__3__]\" id=\"listing_data_essential[__GIP__3__]\" value=\"{&quot;groupindex&quot;:&quot;__GIP__3__&quot;,&quot;carcode&quot;:0,&quot;parttype&quot;:&quot;5724&quot;,&quot;partkey&quot;:&quot;8306448&quot;,&quot;opts&quot;:{&quot;0-0-0-1&quot;:{&quot;warehouse&quot;:&quot;33013&quot;,&quot;whpartnum&quot;:&quot;MEL 715F&quot;,&quot;optionlist&quot;:&quot;0&quot;,&quot;paramcode&quot;:&quot;0&quot;,&quot;notekey&quot;:&quot;0&quot;,&quot;multiple&quot;:&quot;1&quot;}}}\" /><input type=\"hidden\" autocomplete=\"off\" id=\"listing_data_supplemental[__GIP__3__]\" value=\"{&quot;partnumber&quot;:&quot;715F&quot;,&quot;catalogname&quot;:&quot;MELLING&quot;,&quot;belongstolisting&quot;:&quot;__GIP__2__&quot;,&quot;sortgroup&quot;:0,&quot;sortgrouptext&quot;:&quot;&quot;,&quot;paramdesc&quot;:&quot;&quot;}\" /><input type=\"hidden\" autocomplete=\"off\" id=\"mdl_whtruckicon[__GIP__3__][]\" value=\"false\"><input type=\"hidden\" autocomplete=\"off\" id=\"mdl_chkalternate[__GIP__3__][]\" value=\"false\"><input type=\"hidden\" autocomplete=\"off\" id=\"mdl_btnaddtocart[__GIP__3__][]\" value=\"false\"><input type=\"hidden\" autocomplete=\"off\" id=\"mdl_btnpartincart[__GIP__3__][]\" value=\"false\"><input type=\"hidden\" autocomplete=\"off\" id=\"lst_shipwhlist[__GIP__3__][0-0-0-1]\" value=\"{&quot;33013&quot;:33013}\" ><input type=\"hidden\" autocomplete=\"off\" id=\"mdl_whtruckicon[__GIP__3__][0-0-0-1]\" value=\"false\"><input type=\"hidden\" autocomplete=\"off\" id=\"mdl_btnaddtocart[__GIP__3__][0-0-0-1]\" value=\"true\"><input type=\"hidden\" autocomplete=\"off\" id=\"mdl_btnpartincart[__GIP__3__][0-0-0-1]\" value=\"false\"><input type=\"hidden\" autocomplete=\"off\" id=\"mdl_btnnotifyoos[__GIP__3__][0-0-0-1]\" value=\"false\"><input type=\"hidden\" autocomplete=\"off\" id=\"mdl_chkalternate[__GIP__3__][0-0-0-1]\" value=\"true\"><input type=\"hidden\" autocomplete=\"off\" name=\"ssk[__GIP__3__]\" value=\"HPc6NY4sqMvPDBCrBav8qagjtSixI7I+9xSut7YjyX0bBM97KJr1G2rdQeOBie8N3uEYLvdPQDU=\"/>\\n                                <span style=\"display: none;\" title=\"Replaces these Alternate/ OE Part Numbers\">3L8Z6268AA, L30512201</span>\\n                            </td>\\n                            \\n                            <td rowspan=\"2\" class=\"listing-border-top-line listing-float-box-cell-shared\" style=\"text-align: right; \">\\n                                <div class=\" listing-image-space-occupy\"><table class=\"tblz listing-image-table\" id=\"listing_image_table[__GIP__3__]\" style=\"\"><tr><td class=\"listing-image-table-leftrightcol\"></td><td class=\"listing-image-table-centercol\"><div id=\"inlineimgpositionancestor[__GIP__3__]\" style=\" position: relative; z-index: 1;\" class=\"ra-hide\"><div id=\"inlineimg_container[__GIP__3__]\" class=\" listing-inlineimg_container listing-inline-image-border\"  style=\"z-index: 1; text-align: center; background: #FFFFFF;\"><div id=\"inlineimg_containertitle[__GIP__3__]\" class=\"listing-inline-image-popup-widget-title ra-hide\" onmousedown=\"cataloglite.ImagePopupTitleMouseDown(&quot;__GIP__3__&quot;)\"><div style=\"text-align: center; \"><span style=\"padding: 0 2em 0 2em;\">MELLING 715F</span><span style=\"position: absolute; right: 5px;\"><img src = \"/catalog/images/close12_1.gif\" style=\"padding: .2em; cursor: pointer; display: block;\" onclick=\"cataloglite.Listing_InlineImagePopupInPlace(&quot;__GIP__3__&quot;)\" alt=\"close\"/></span></div></div><div id=\"inlineimg_topper[__GIP__3__]\" class=\"img-topper-container\"><table class=\"tblz w100\"><tr><td class=\"pinched\" style=\"vertical-align: top;\"><div style=\"text-align: left; padding-right: .25em;\"><span id=\"inlineimg_left_big[__GIP__3__]\"></span></div><div class=\"listing-image-counter\"><div class=\"inner\" id=\"imagecounterdisplay[__GIP__3__]\"></div></div></td><td style=\"vertical-align: top;\"><div id=\"imgcarouseltitlephrase[__GIP__3__]\" class=\"img-carousel-titlephrase\"></div><div id=\"inlineimg_container360menu[__GIP__3__]\" class=\"ra-hide\" style=\"padding: .25em; margin-bottom: .5em;\"><div class=\"ra-bar-slider-bar-c\"><div  id=\"inlineimg_sliderbar[__GIP__3__]\"  class=\"ra-bar-slider-bar\" onmousedown=\"cataloglite.ImageSliderMouseDown(&quot;__GIP__3__&quot;, event);\" ontouchstart=\"cataloglite.ImageSliderMouseDown(&quot;__GIP__3__&quot;, event);\"><span class=\"ra-bar-slider-slider\" id=\"inlineimg_slider[__GIP__3__]\"></span></div></div></div></td><td class=\"pinched\" style=\"vertical-align: top; text-align: right;\"><div style=\"padding-left: .25em;\"><span id=\"inlineimg_right_big[__GIP__3__]\"></span></div></td></tr></table></div><div id=\"inlineimg_containersizer[__GIP__3__]\" class=\"inlineimg_containersizer ra-hide\" style=\" cursor: pointer;\" onclick=\"cataloglite.Listing_InlineImagePopupInPlace(&quot;__GIP__3__&quot;)\"><img id=\"inlineimg[__GIP__3__]\" class=\" listing-inline-image\"  src=\"/info/583/715F-1-ANG__ra_m.jpg\" alt=\"Part image\"/></div></div></div><img id=\"inlineimg_thumb[__GIP__3__]\" class=\"listing-inline-image listing-inline-image-thumb listing-inline-image-border\" style=\"cursor: pointer;\" onclick=\"cataloglite.Listing_InlineImagePopupInPlace(&quot;__GIP__3__&quot;)\" src=\"/info/583/715F-1-ANG__ra_m.jpg\" alt=\"Part image\" switch-to-highres=\"1\"/></td><td class=\"listing-image-table-leftrightcol\"></td></tr></table><input type=\"hidden\" autocomplete=\"off\" id=\"jsninlineimg[__GIP__3__]\" value=\"{&quot;Size&quot;:&quot;Thumb&quot;,&quot;SlotIndex&quot;:0,&quot;Slots&quot;:[{&quot;TitlePhrase&quot;:null,&quot;ParamCodes&quot;:[null],&quot;Type&quot;:&quot;Single&quot;,&quot;ImageData&quot;:{&quot;Thumb&quot;:&quot;\\\\/info\\\\/583\\\\/715F-1-ANG__ra_m.jpg&quot;,&quot;Popup&quot;:&quot;\\\\/info\\\\/583\\\\/715F-1-ANG.jpg&quot;,&quot;Full&quot;:&quot;\\\\/info\\\\/583\\\\/715F-1-ANG.jpg&quot;}}]}\"/></div>\\n                            </td>\\n                            \\n                            <td id=\"listingtd[__GIP__3__][price]\" colspan=\"4\" class=\" listing-border-top-line listing-float-box-cell-shared listing-float-box-cell-more-padding\" style=\"height: 1px; text-align: center; \">\\n                                <span id=\"dprice[__GIP__3__][td]\" class=\"\"><span class=\"ra-formatted-amount listing-price listing-amount-bold\"><span id=\"dprice[__GIP__3__][v]\">$49.79</span></span></span>\\n                            </td>\\n                            <td id=\"listingtd[__GIP__3__][core]\" class=\"ra-hide listing-border-top-line listing-float-box-cell-shared listing-float-box-cell-more-padding\" style=\"height: 1px; text-align: center; \">\\n                                <span id=\"dcore[__GIP__3__][td]\" class=\"\"><span class=\"ra-formatted-amount listing-core\"><a id=\"dcore[__GIP__3__][color]\" href=\"/help/?page=2#CORE\" target=\"_blank\" onclick=\"return FAQpopup(this);\" style=\"text-decoration: none;\" class=\"\"><span id=\"dcore[__GIP__3__][v]\">$0.00</span></a></span></span>\\n                            </td>\\n                            <td id=\"listingtd[__GIP__3__][pack]\" class=\"ra-hide listing-border-top-line listing-float-box-cell-shared listing-float-box-cell-more-padding\" style=\"height: 1px; text-align: center; \">\\n                                <span id=\"dpack[__GIP__3__][v]\"><span class=\"hide-if-js\">+ Sold in packs of 1</span><span class=\"show-if-js\"><span class=\"pack_size_box no-text-select\" onclick=\"showContextPopup(\\'&nbsp;\\', &quot;Sold in packs of 1&quot;, this); RA.StopBubble(event); return false;\" title=\"Sold in packs of 1\"><span class=\"right\"><span class=\"left\"><span class=\"text\"><span class=\"text-x-small\">x</span>1</span></span></span></span></span></span>\\n                            </td>\\n                            <td id=\"listingtd[__GIP__3__][total]\" class=\"ra-hide listing-border-top-line listing-float-box-cell-shared listing-float-box-cell-more-padding\" style=\"height: 1px; text-align: center; \">\\n                                <span id=\"dtotal[__GIP__3__][td]\" class=\"listing-amount-bold\"><span class=\"ra-formatted-amount listing-total\"><span id=\"dtotal[__GIP__3__][v]\">$49.79</span></span></span>\\n                            </td>\\n                            <td rowspan=\"2\" class=\" listing-border-top-line listing-float-box-cell-shared\" style=\"text-align: center; \">\\n                                \\n                            </td>\\n                        </tr>\\n                        <tr>\\n                            <td colspan=\"4\" class=\" listing-float-box-cell-shared\" style=\"text-align: right;\">\\n                                <div style=\"padding-top: .25em; padding-bottom: .1em;\">\\n                                    <div class=\"listing-quantity-adjustment ib remove-for-print show-if-js\"><input type=\"hidden\" autocomplete=\"off\" id=\"listingoptkeytomultiple[__GIP__3__]\" value=\"{&quot;0-0-0-1&quot;:&quot;1&quot;}\" ><input type=\"hidden\" autocomplete=\"off\" id=\"listingoptkeytolinenumber[__GIP__3__]\" value=\"{&quot;0-0-0-1&quot;:null}\" ><input type=\"hidden\" autocomplete=\"off\" id=\"listingoptkeytoqtyincart[__GIP__3__]\" value=\"{&quot;0-0-0-1&quot;:null}\" ><input type=\"hidden\" autocomplete=\"off\" id=\"listingoptkeytoalternateid[__GIP__3__]\" value=\"{&quot;0-0-0-1&quot;:null}\" ><table class=\"tblz di tbl-input-button-attached\" id=\"listingquantitytable[__GIP__3__]\"><tr><td class=\"td-button-left\" style=\"text-align: right;\"><div class=\"qty-adjust-button\" onclick=\"cataloglite.ListingQuantityUpdate(&quot;__GIP__3__&quot;, -1);\" style=\"border-top-left-radius: 4px; border-bottom-left-radius: 4px;\"><img class=\"nobmp vmiddle\" src=\"/Images/mobile/qty_down_white.png\" alt=\"\" /></div></td><td class=\"td-input\"><label for=\"raquantity[__GIP__3__]\" style=\"display:none;\">Quantity</label><input type=\"text\" aria-label=\"Quantity\" class=\"input-quantity  ib\" style=\"text-align: center; width: 2em; padding-left: 0;\" maxlength=\"5\" name=\"raquantity[__GIP__3__]\" id=\"raquantity[__GIP__3__]\" value=\"1\" autocomplete=\"off\" spellcheck=\"false\" autocorrect=\"off\" autocapitalize=\"off\" data-autofill=\"block\" onkeypress=\"return RA.InterceptEnter(event, function(){RA.ByName(&quot;raquantity[__GIP__3__]&quot;)[0].blur()});\" onchange=\"cataloglite.ListingQuantityUpdate(&quot;__GIP__3__&quot;);\" /></td><td class=\"td-button-right\"><div class=\"qty-adjust-button\" onclick=\"cataloglite.ListingQuantityUpdate(&quot;__GIP__3__&quot;, 1);\"style=\"border-top-right-radius: 4px; border-bottom-right-radius: 4px;\"><img class=\"nobmp vmiddle\" src=\"/Images/mobile/qty_up_white.png\" alt=\"\" /></div></td></tr></table></div>\\n                                    <div class=\"catalog-listing-buttons-wrapper ib\" style=\"min-width:105px;\"><div class=\"vew_btnaddtocart remove-for-print  \" id=\"vew_btnaddtocart[__GIP__3__]\"><input type=\"submit\" name=\"addpart[__GIP__3__]\" id=\"addpart[__GIP__3__]\" value=\"Add to Cart &gt;\" class=\"hide-if-js ra-btn ra-btn-size-normal ra-btn-color-hotgreen\" onclick=\"cataloglite.ShowLoadingOverlay(null, \\'PK_ADDINGPARTTOCART\\'); return cataloglite.Cart.AddPartWhenReady(&quot;__GIP__3__&quot;);\"><a style=\"display: inline-block;\" class=\"show-if-js ra-btn ra-btn-color-hotgreen ra-btn-size-normal ra-btn-add-part\" onclick=\"RA.Click(\\'addpart[__GIP__3__]\\'); return false;\" href=\"#\"><span class=\"la-btn-v\">Add to Cart</span><img class=\"la-btn-v\" style=\"height: 1em; margin-left: .25em;\" src=\"/Images/mobile/right_arrow_white.png\" alt=\"\" /></a></div><div class=\"vew_btnpartincart remove-for-print ra-hide \" id=\"vew_btnpartincart[__GIP__3__]\"><input type=\"submit\" name=\"addpart[__GIP__3__]\" value=\"Part In Cart\" class=\"ra-btn ra-btn-size-normal ra-btn-part-in-cart\" onclick=\"cataloglite.Cart.ShowPartAlreadyInCart(__GIP__3__); return false;\"></div><div class=\"vew_btnnotifyoos remove-for-print ra-hide show-if-js\" id=\"vew_btnnotifyoos[__GIP__3__]\"><input type=\"button\" value=\"Notify Me When Available\" class=\"ra-btn ra-btn-size-normal ra-btn-color-darkblue\" onclick=\"cataloglite.GetAvailabilityAlertForOOSPart(&quot;__GIP__3__&quot;);\"></div></div>\\n                                </div>\\n                            </td>\\n                        </tr>\\n                    </tbody>\\n                    </table><div id=\"listingfiltermessage[__GIP__2__]\" class=\"listing-filter-bottom-message ra-hide\"></div><input type=\"hidden\" autocomplete=\"off\" id=\"part_groupindexes_in_this_listing[__GIP__2__]\" value=\"[&quot;__GIP__3__&quot;]\"/></div></div></form></div></div></div>',\n",
       " 'collected_javascript': '/**UQ:DCF5F12D**/\\nvar PK_OK =\"OK\";\\nvar PK_XLISTINGSREMOVE=\"KEY__NUM listings removed\";\\nvar PK_XLISTINGREMOVE=\"KEY__NUM listing removed\";\\nwindow.top.parent.window[\"_nck\"] = \"8LVLUxTaILBT+tLxkg8+3Ag7\\\\/0bbOhvn7P3rkFbL809YNOHQDmNBznFtdYfbcEUriQ0mcmy\\\\/TcWfcbfHTjxSwndfe2chgzy88liHO2MoAcp7wW7lek5DxawTLSg\\\\/DpYUwwgKwrMfy30W0d204uGUChQFRcQUH5g7nAUTyNc2xAJ78HD4yna8nF2LH81jgdlX\";\\n'}"
      ]
     },
     "execution_count": 7,
     "metadata": {},
     "output_type": "execute_result"
    }
   ],
   "source": [
    "import requests\n",
    "import json\n",
    "\n",
    "import sys\n",
    "sys.path.append('../00.Tools')\n",
    "from crawler_configuration import get_header, get_proxy\n",
    "\n",
    "data = {'dopartsearch': '1',\n",
    "        'partsearch[partnum][partsearch_007]': input_.loc[a, 'Kit_Part Number'],\n",
    "        'partsearch[manufacturer][partsearch_007]': input_.loc[a, 'Kit_Manufacturer'],\n",
    "        'partsearch[parttype][partsearch_007]': input_.loc[a, 'Kit_Type Code'],\n",
    "        'partsearch[do][partsearch_007]': '1',\n",
    "        'func': 'sendparttabsearch',\n",
    "        'giveback': json.dumps({}),\n",
    "        'api_json_request': '1'}\n",
    "\n",
    "b = 0\n",
    "while True:\n",
    "    b += 1\n",
    "    print(b)\n",
    "    try:\n",
    "        check_url = input_.loc[a, 'Kit_Url']\n",
    "        \n",
    "        resp = requests.post('https://www.rockauto.com/catalog/catalogapi.php',\n",
    "                             data=data,\n",
    "                             headers=get_header(),\n",
    "                             proxies=get_proxy(),\n",
    "                             timeout=(10, 10))\n",
    "        \n",
    "        if resp.status_code == 200:\n",
    "            dict_ = resp.json()\n",
    "            \n",
    "            if 'redirect_to_url' not in dict_ and not dict_['giveback'] and 'collected_javascript' in dict_:\n",
    "                break\n",
    "    except KeyboardInterrupt:\n",
    "        break\n",
    "    except:\n",
    "        continue\n",
    "\n",
    "dict_"
   ]
  },
  {
   "cell_type": "code",
   "execution_count": 8,
   "id": "86ef5f53-4ba1-4024-af2a-5ad7c6898c6a",
   "metadata": {
    "scrolled": true
   },
   "outputs": [
    {
     "name": "stdout",
     "output_type": "stream",
     "text": [
      "<html>\n",
      " <body>\n",
      "  <div class=\"ranavnode\" id=\"nav[__GIP__1__]\">\n",
      "   <input autocomplete=\"off\" id=\"jsn[__GIP__1__]\" type=\"hidden\" value='{\"groupindex\":\"__GIP__1__\",\"tab\":\"partsearch\",\"idepth\":0,\"parttype\":\"5724\",\"catalogname\":\"MELLING\",\"partnumber\":\"715F\",\"nodetype\":\"parttabsearch\",\"expanded\":true,\"loaded\":true}'/>\n",
      "   <input autocomplete=\"off\" id=\"navnodeunique[partsearch-5724]\" name=\"navnodeunique[partsearch-5724]\" type=\"hidden\" value=\"__GIP__1__\"/>\n",
      "   <div class=\"ranavouter\" id=\"nav_o[__GIP__1__]\">\n",
      "    <div class=\"inner\">\n",
      "     <table cellpadding=\"0\" cellspacing=\"0\" class=\"tbl\">\n",
      "      <tr>\n",
      "       <td class=\"niconspace nexpandedicon\" id=\"navicon[__GIP__1__]\">\n",
      "        <a href=\"/en/parts/melling,715F,timing+chain,5724\" onclick='cataloglite.LinkIntercept_ToggleNavNode(\"__GIP__1__\"); return false;' tabindex=\"-1\">\n",
      "         <img alt=\"Toggle\" src=\"/Images/1pxtransparent.png\"/>\n",
      "        </a>\n",
      "       </td>\n",
      "       <td class=\"nlabel\">\n",
      "        <a class=\"navlabellink nvoffset nnormal\" href=\"/en/parts/melling,715F,timing+chain,5724\" id=\"navhref[__GIP__1__]\" onclick='cataloglite.LinkIntercept_ToggleNavNode(\"__GIP__1__\"); return false;'>\n",
      "         Search for Manufacturer='MELLING' and Part Type='Timing Chain' and Part Number='715F'\n",
      "        </a>\n",
      "       </td>\n",
      "      </tr>\n",
      "     </table>\n",
      "    </div>\n",
      "   </div>\n",
      "   <div class=\"nchildren\" id=\"navchildren[__GIP__1__]\">\n",
      "    <div class=\"listings-container\" id=\"listings[__GIP__2__]\">\n",
      "     <form action=\"/en/partsearch/?mfr=MELLING&amp;parttype=5724&amp;partnum=715F\" class=\"nobmp\" id=\"frmlistings[__GIP__2__]\" method=\"post\">\n",
      "      <input name=\"_nck\" type=\"hidden\" value=\"8LVLUxTaILBT+tLxkg8+3Ag7/0bbOhvn7P3rkFbL809YNOHQDmNBznFtdYfbcEUriQ0mcmy/TcWfcbfHTjxSwndfe2chgzy88liHO2MoAcp7wW7lek5DxawTLSg/DpYUwwgKwrMfy30W0d204uGUChQFRcQUH5g7nAUTyNc2xAJ78HD4yna8nF2LH81jgdlX\"/>\n",
      "      <div class=\"listing-container-border\">\n",
      "       <input autocomplete=\"off\" id=\"parentnode[__GIP__2__]\" type=\"hidden\" value=\"__GIP__1__\"/>\n",
      "       <div>\n",
      "        <div style=\"padding-top: 1px; padding-left: .25em; padding-right: .25em;\">\n",
      "         <div class=\"remove-for-print\" style=\"padding-top:5px;\">\n",
      "          <div class=\"ib vtop\">\n",
      "           <span class=\"show-if-js\" style=\"padding-left: .5em;\">\n",
      "            <img alt=\"Close\" class=\"mouseover\" onclick='cataloglite.NavNode_SimulateClick(\"__GIP__1__\");' src=\"/catalog/images/close.gif\" style=\"vertical-align: top;\" title=\"Close\"/>\n",
      "           </span>\n",
      "           <span class=\"show-if-js\" style=\"padding-left: .5em;\">\n",
      "            <a href=\"/en/printlistings.php?ni=__GIP__2__&amp;title=Print Part Listings\" rel=\"opener\" target=\"_blank\">\n",
      "             <img alt=\"Print Part Listings\" class=\"mouseover\" src=\"/Images/mobile/printer.png\" style=\"vertical-align: top; border: none; height: 20px;\" title=\"Print Part Listings\"/>\n",
      "            </a>\n",
      "           </span>\n",
      "           <span class=\"show-if-js\" style=\"padding-left: .5em;\">\n",
      "            <a href=\"/en/emailpagetofriend.php?nurl=%2Fen%2Fpartsearch%2F%3Fmfr%3DMELLING%26parttype%3D5724%26partnum%3D715F\" onclick='cataloglite.AddFiltersToEmailListingURL(\"\\/en\\/partsearch\\/?mfr=MELLING&amp;parttype=5724&amp;partnum=715F\", \"__GIP__2__\"); return false;' target=\"_blank\">\n",
      "             <img alt=\"Send these listings to a friend\" class=\"mouseover\" src=\"/Images/mobile/envelope.png\" style=\"vertical-align: top; border: none; height: 14px;\" title=\"Send these listings to a friend\"/>\n",
      "            </a>\n",
      "           </span>\n",
      "           <span class=\"show-if-js\" style=\"padding-left: .5em;\">\n",
      "            <a alt=\"How do I choose a part?\" href=\"/help/?page=2\" style=\"text-decoration: none;\" target=\"_blank\" title=\"How do I choose a part?\">\n",
      "             <img alt=\"Help\" class=\"help_q_icon_16 vtop\" src=\"/Images/questionMark.png\"/>\n",
      "            </a>\n",
      "           </span>\n",
      "          </div>\n",
      "          <span class=\"span-filterinput\" style=\"padding-left: .5em;\">\n",
      "           <div class=\"ib\">\n",
      "            <table class=\"tblz tbl-input-button-attached attached-filter-size\">\n",
      "             <tr>\n",
      "              <td class=\"td-input\">\n",
      "               <input autocapitalize=\"off\" autocomplete=\"off\" autocorrect=\"off\" class=\"filter-input\" id=\"filterinput[__GIP__2__]\" name=\"filterinput\" onblur='cataloglite.FilterListings(\"__GIP__2__\");' onclick='cataloglite.DisplayFilterBreakDown(\"__GIP__2__\");' onkeypress='return RA.InterceptEnter(event, function(){cataloglite.FilterListings(\"__GIP__2__\");});' placeholder=\"Filter By Keyword(s)\" size=\"25\" spellcheck=\"false\" style=\"\" title=\"Filter listings below by entering words that you want to see. Use '-' before a word to find results that do NOT contain that word. Use OR between words or groups of words to see listings that match either. Use quotes &quot;...&quot; around a set of words you wish to match only when they exist together as a phrase. Multiple filters can be applied by entering new words or phrases after each filter operation.\" type=\"text\" value=\"\"/>\n",
      "              </td>\n",
      "              <td class=\"td-button\">\n",
      "               <img alt=\"Apply Filter\" class=\"ib input-size ra-btn ra-btn-size-normal ra-btn-color-darkblue ra-btn-search-icon\" onclick=\"RA.ThrottleRepeats(function() { cataloglite.SendPartTabSearch('frm_partsearch', &quot;__GIP__2__&quot;); }, 'part_tab_search_filter', 2.5); return false;\" src=\"/Images/1pxtransparent.png\" style=\"color: black;\"/>\n",
      "              </td>\n",
      "             </tr>\n",
      "            </table>\n",
      "           </div>\n",
      "           <span style=\"position: relative;\">\n",
      "            <span class=\"ra-hide\" id=\"filterbreakdownwrapper___GIP__2__\" style=\"position: absolute; z-index: 10;\">\n",
      "             <div style=\"background: #FFFFFF; border: 1px solid black; padding: 5px; white-space: nowrap;\">\n",
      "              <div class=\"filter-breakdown-row-spacing\" style=\"text-align: right;\">\n",
      "               <img alt=\"Hide\" class=\"mouseover\" onclick='cataloglite.DisplayFilterBreakDown(\"__GIP__2__\", 1);' src=\"/catalog/images/close.gif\" style=\"vertical-align: top;\" title=\"Hide\"/>\n",
      "              </div>\n",
      "              <div id=\"filterbreakdownsteps___GIP__2__\">\n",
      "              </div>\n",
      "              <div style=\"text-align: center; padding-top: .25em;\">\n",
      "               <input class=\"ra-btn mo-link\" name=\"clearfilter\" onclick=\"RA.ThrottleRepeats(function() { cataloglite.SendPartTabSearch('frm_partsearch', &quot;__GIP__2__&quot;, 1); }, 'part_tab_search_filter', 2.5); return false;\" style=\"color: blue;\" type=\"submit\" value=\"Clear Filter\"/>\n",
      "              </div>\n",
      "             </div>\n",
      "            </span>\n",
      "           </span>\n",
      "          </span>\n",
      "         </div>\n",
      "        </div>\n",
      "        <div style=\"clear: both; padding-top: .25em;\">\n",
      "        </div>\n",
      "        <table cellpadding=\"0\" cellspacing=\"0\" class=\"nobmp\" style=\"width: 100%;\">\n",
      "         <tbody>\n",
      "          <tr>\n",
      "           <td colspan=\"2\">\n",
      "           </td>\n",
      "           <td class=\"listing-float-box-cell-shared-header\" colspan=\"4\" style=\"height: 1px; text-align: center;\">\n",
      "            <span style=\"font-weight: bold;\">\n",
      "             Price\n",
      "            </span>\n",
      "           </td>\n",
      "           <td class=\"ra-hide listing-float-box-cell-shared-header\" style=\"height: 1px; text-align: center;\">\n",
      "           </td>\n",
      "           <td class=\"ra-hide listing-float-box-cell-shared-header\" style=\"height: 1px; text-align: center;\">\n",
      "           </td>\n",
      "           <td class=\"ra-hide listing-float-box-cell-shared-header\" style=\"height: 1px; text-align: center;\">\n",
      "           </td>\n",
      "           <td class=\"listing-float-box-cell-shared-header\" style=\"text-align: center;\">\n",
      "           </td>\n",
      "          </tr>\n",
      "         </tbody>\n",
      "         <tr class=\"remove-for-print\">\n",
      "          <td class=\"ra-hide\" colspan=\"6\" id=\"listingnopartscriteria[__GIP__2__]\" style=\"color: red;\">\n",
      "           No parts for vehicles in selected markets.\n",
      "          </td>\n",
      "         </tr>\n",
      "         <tbody class=\"listing-inner altrow-a-1\" id=\"listingcontainer[__GIP__3__]\" style=\"\">\n",
      "          <tr>\n",
      "           <td class=\"listing-border-top-line listing-inner-content\" rowspan=\"2\" style=\"\">\n",
      "            <span style=\"float: right;\">\n",
      "            </span>\n",
      "            <div>\n",
      "            </div>\n",
      "            <div class=\"listing-text-row-moreinfo-truck\">\n",
      "             <span class=\"listing-final-manufacturer\">\n",
      "              MELLING\n",
      "             </span>\n",
      "             <span alt=\"Buyer's Guide\" class=\"listing-final-partnumber as-link-if-js\" id=\"vew_partnumber[__GIP__3__]\" onclick='if (cataloglite.IsMobileAndNotExpanded(\"__GIP__3__\")) { return; } cataloglite.ShowBuyersGuidePopup(\"__GIP__3__\");' title=\"Buyer's Guide\">\n",
      "              715F\n",
      "             </span>\n",
      "             <a class=\"ra-btn ra-btn-moreinfo\" href=\"https://www.rockauto.com/en/moreinfo.php?pk=8306448&amp;cc=0&amp;pt=5724\" onclick='cataloglite.MoreInfoClick(this, \"__GIP__3__\"); AddSerializedCookieDataToHref(this);' rel=\"opener\" target=\"_blank\">\n",
      "              Info\n",
      "             </a>\n",
      "             <span class=\"truck ra-hide remove-for-print mouseover\" name=\"vew_whtruckicon[__GIP__3__][0-0-0-1]\" onclick=\"FAQpopup('/help/?page=2#MINSHIPCOST', &quot;Could ship from same location as parts in cart&quot;, null, this); RA.StopBubble(event); return false;\" title=\"Could ship from same location as parts in cart\">\n",
      "             </span>\n",
      "            </div>\n",
      "            <div class=\"listing-text-row\">\n",
      "             <span title=\"Please make sure this note matches your vehicle. A seemingly contradictory note (like &quot;Left; Right;&quot;) means the part fits either (left OR right) -- it does not mean you'll receive two parts. Please do not choose a part if the note does not describe your application (for example, if the note says &quot;Sedan&quot; and you have a station wagon).\">\n",
      "              <span class=\"listing-footnote-text\">\n",
      "               Category: Timing Chain\n",
      "              </span>\n",
      "             </span>\n",
      "             <span class=\"mtf-h-t\">\n",
      "              (Only 1 Remaining)\n",
      "             </span>\n",
      "            </div>\n",
      "            <div>\n",
      "            </div>\n",
      "            <div>\n",
      "            </div>\n",
      "            <div>\n",
      "            </div>\n",
      "            <input autocomplete=\"off\" id=\"optionchoice[__GIP__3__]\" name=\"optionchoice[__GIP__3__]\" type=\"hidden\" value=\"0-0-0-1\"/>\n",
      "            <input autocomplete=\"off\" id=\"listing_data_essential[__GIP__3__]\" name=\"listing_data_essential[__GIP__3__]\" type=\"hidden\" value='{\"groupindex\":\"__GIP__3__\",\"carcode\":0,\"parttype\":\"5724\",\"partkey\":\"8306448\",\"opts\":{\"0-0-0-1\":{\"warehouse\":\"33013\",\"whpartnum\":\"MEL 715F\",\"optionlist\":\"0\",\"paramcode\":\"0\",\"notekey\":\"0\",\"multiple\":\"1\"}}}'/>\n",
      "            <input autocomplete=\"off\" id=\"listing_data_supplemental[__GIP__3__]\" type=\"hidden\" value='{\"partnumber\":\"715F\",\"catalogname\":\"MELLING\",\"belongstolisting\":\"__GIP__2__\",\"sortgroup\":0,\"sortgrouptext\":\"\",\"paramdesc\":\"\"}'/>\n",
      "            <input autocomplete=\"off\" id=\"mdl_whtruckicon[__GIP__3__][]\" type=\"hidden\" value=\"false\"/>\n",
      "            <input autocomplete=\"off\" id=\"mdl_chkalternate[__GIP__3__][]\" type=\"hidden\" value=\"false\"/>\n",
      "            <input autocomplete=\"off\" id=\"mdl_btnaddtocart[__GIP__3__][]\" type=\"hidden\" value=\"false\"/>\n",
      "            <input autocomplete=\"off\" id=\"mdl_btnpartincart[__GIP__3__][]\" type=\"hidden\" value=\"false\"/>\n",
      "            <input autocomplete=\"off\" id=\"lst_shipwhlist[__GIP__3__][0-0-0-1]\" type=\"hidden\" value='{\"33013\":33013}'/>\n",
      "            <input autocomplete=\"off\" id=\"mdl_whtruckicon[__GIP__3__][0-0-0-1]\" type=\"hidden\" value=\"false\"/>\n",
      "            <input autocomplete=\"off\" id=\"mdl_btnaddtocart[__GIP__3__][0-0-0-1]\" type=\"hidden\" value=\"true\"/>\n",
      "            <input autocomplete=\"off\" id=\"mdl_btnpartincart[__GIP__3__][0-0-0-1]\" type=\"hidden\" value=\"false\"/>\n",
      "            <input autocomplete=\"off\" id=\"mdl_btnnotifyoos[__GIP__3__][0-0-0-1]\" type=\"hidden\" value=\"false\"/>\n",
      "            <input autocomplete=\"off\" id=\"mdl_chkalternate[__GIP__3__][0-0-0-1]\" type=\"hidden\" value=\"true\"/>\n",
      "            <input autocomplete=\"off\" name=\"ssk[__GIP__3__]\" type=\"hidden\" value=\"HPc6NY4sqMvPDBCrBav8qagjtSixI7I+9xSut7YjyX0bBM97KJr1G2rdQeOBie8N3uEYLvdPQDU=\"/>\n",
      "            <span style=\"display: none;\" title=\"Replaces these Alternate/ OE Part Numbers\">\n",
      "             3L8Z6268AA, L30512201\n",
      "            </span>\n",
      "           </td>\n",
      "           <td class=\"listing-border-top-line listing-float-box-cell-shared\" rowspan=\"2\" style=\"text-align: right; \">\n",
      "            <div class=\"listing-image-space-occupy\">\n",
      "             <table class=\"tblz listing-image-table\" id=\"listing_image_table[__GIP__3__]\" style=\"\">\n",
      "              <tr>\n",
      "               <td class=\"listing-image-table-leftrightcol\">\n",
      "               </td>\n",
      "               <td class=\"listing-image-table-centercol\">\n",
      "                <div class=\"ra-hide\" id=\"inlineimgpositionancestor[__GIP__3__]\" style=\" position: relative; z-index: 1;\">\n",
      "                 <div class=\"listing-inlineimg_container listing-inline-image-border\" id=\"inlineimg_container[__GIP__3__]\" style=\"z-index: 1; text-align: center; background: #FFFFFF;\">\n",
      "                  <div class=\"listing-inline-image-popup-widget-title ra-hide\" id=\"inlineimg_containertitle[__GIP__3__]\" onmousedown='cataloglite.ImagePopupTitleMouseDown(\"__GIP__3__\")'>\n",
      "                   <div style=\"text-align: center; \">\n",
      "                    <span style=\"padding: 0 2em 0 2em;\">\n",
      "                     MELLING 715F\n",
      "                    </span>\n",
      "                    <span style=\"position: absolute; right: 5px;\">\n",
      "                     <img alt=\"close\" onclick='cataloglite.Listing_InlineImagePopupInPlace(\"__GIP__3__\")' src=\"/catalog/images/close12_1.gif\" style=\"padding: .2em; cursor: pointer; display: block;\"/>\n",
      "                    </span>\n",
      "                   </div>\n",
      "                  </div>\n",
      "                  <div class=\"img-topper-container\" id=\"inlineimg_topper[__GIP__3__]\">\n",
      "                   <table class=\"tblz w100\">\n",
      "                    <tr>\n",
      "                     <td class=\"pinched\" style=\"vertical-align: top;\">\n",
      "                      <div style=\"text-align: left; padding-right: .25em;\">\n",
      "                       <span id=\"inlineimg_left_big[__GIP__3__]\">\n",
      "                       </span>\n",
      "                      </div>\n",
      "                      <div class=\"listing-image-counter\">\n",
      "                       <div class=\"inner\" id=\"imagecounterdisplay[__GIP__3__]\">\n",
      "                       </div>\n",
      "                      </div>\n",
      "                     </td>\n",
      "                     <td style=\"vertical-align: top;\">\n",
      "                      <div class=\"img-carousel-titlephrase\" id=\"imgcarouseltitlephrase[__GIP__3__]\">\n",
      "                      </div>\n",
      "                      <div class=\"ra-hide\" id=\"inlineimg_container360menu[__GIP__3__]\" style=\"padding: .25em; margin-bottom: .5em;\">\n",
      "                       <div class=\"ra-bar-slider-bar-c\">\n",
      "                        <div class=\"ra-bar-slider-bar\" id=\"inlineimg_sliderbar[__GIP__3__]\" onmousedown='cataloglite.ImageSliderMouseDown(\"__GIP__3__\", event);' ontouchstart='cataloglite.ImageSliderMouseDown(\"__GIP__3__\", event);'>\n",
      "                         <span class=\"ra-bar-slider-slider\" id=\"inlineimg_slider[__GIP__3__]\">\n",
      "                         </span>\n",
      "                        </div>\n",
      "                       </div>\n",
      "                      </div>\n",
      "                     </td>\n",
      "                     <td class=\"pinched\" style=\"vertical-align: top; text-align: right;\">\n",
      "                      <div style=\"padding-left: .25em;\">\n",
      "                       <span id=\"inlineimg_right_big[__GIP__3__]\">\n",
      "                       </span>\n",
      "                      </div>\n",
      "                     </td>\n",
      "                    </tr>\n",
      "                   </table>\n",
      "                  </div>\n",
      "                  <div class=\"inlineimg_containersizer ra-hide\" id=\"inlineimg_containersizer[__GIP__3__]\" onclick='cataloglite.Listing_InlineImagePopupInPlace(\"__GIP__3__\")' style=\" cursor: pointer;\">\n",
      "                   <img alt=\"Part image\" class=\"listing-inline-image\" id=\"inlineimg[__GIP__3__]\" src=\"/info/583/715F-1-ANG__ra_m.jpg\"/>\n",
      "                  </div>\n",
      "                 </div>\n",
      "                </div>\n",
      "                <img alt=\"Part image\" class=\"listing-inline-image listing-inline-image-thumb listing-inline-image-border\" id=\"inlineimg_thumb[__GIP__3__]\" onclick='cataloglite.Listing_InlineImagePopupInPlace(\"__GIP__3__\")' src=\"/info/583/715F-1-ANG__ra_m.jpg\" style=\"cursor: pointer;\" switch-to-highres=\"1\"/>\n",
      "               </td>\n",
      "               <td class=\"listing-image-table-leftrightcol\">\n",
      "               </td>\n",
      "              </tr>\n",
      "             </table>\n",
      "             <input autocomplete=\"off\" id=\"jsninlineimg[__GIP__3__]\" type=\"hidden\" value='{\"Size\":\"Thumb\",\"SlotIndex\":0,\"Slots\":[{\"TitlePhrase\":null,\"ParamCodes\":[null],\"Type\":\"Single\",\"ImageData\":{\"Thumb\":\"\\/info\\/583\\/715F-1-ANG__ra_m.jpg\",\"Popup\":\"\\/info\\/583\\/715F-1-ANG.jpg\",\"Full\":\"\\/info\\/583\\/715F-1-ANG.jpg\"}}]}'/>\n",
      "            </div>\n",
      "           </td>\n",
      "           <td class=\"listing-border-top-line listing-float-box-cell-shared listing-float-box-cell-more-padding\" colspan=\"4\" id=\"listingtd[__GIP__3__][price]\" style=\"height: 1px; text-align: center; \">\n",
      "            <span class=\"\" id=\"dprice[__GIP__3__][td]\">\n",
      "             <span class=\"ra-formatted-amount listing-price listing-amount-bold\">\n",
      "              <span id=\"dprice[__GIP__3__][v]\">\n",
      "               $49.79\n",
      "              </span>\n",
      "             </span>\n",
      "            </span>\n",
      "           </td>\n",
      "           <td class=\"ra-hide listing-border-top-line listing-float-box-cell-shared listing-float-box-cell-more-padding\" id=\"listingtd[__GIP__3__][core]\" style=\"height: 1px; text-align: center; \">\n",
      "            <span class=\"\" id=\"dcore[__GIP__3__][td]\">\n",
      "             <span class=\"ra-formatted-amount listing-core\">\n",
      "              <a class=\"\" href=\"/help/?page=2#CORE\" id=\"dcore[__GIP__3__][color]\" onclick=\"return FAQpopup(this);\" style=\"text-decoration: none;\" target=\"_blank\">\n",
      "               <span id=\"dcore[__GIP__3__][v]\">\n",
      "                $0.00\n",
      "               </span>\n",
      "              </a>\n",
      "             </span>\n",
      "            </span>\n",
      "           </td>\n",
      "           <td class=\"ra-hide listing-border-top-line listing-float-box-cell-shared listing-float-box-cell-more-padding\" id=\"listingtd[__GIP__3__][pack]\" style=\"height: 1px; text-align: center; \">\n",
      "            <span id=\"dpack[__GIP__3__][v]\">\n",
      "             <span class=\"hide-if-js\">\n",
      "              + Sold in packs of 1\n",
      "             </span>\n",
      "             <span class=\"show-if-js\">\n",
      "              <span class=\"pack_size_box no-text-select\" onclick=\"showContextPopup(' ', &quot;Sold in packs of 1&quot;, this); RA.StopBubble(event); return false;\" title=\"Sold in packs of 1\">\n",
      "               <span class=\"right\">\n",
      "                <span class=\"left\">\n",
      "                 <span class=\"text\">\n",
      "                  <span class=\"text-x-small\">\n",
      "                   x\n",
      "                  </span>\n",
      "                  1\n",
      "                 </span>\n",
      "                </span>\n",
      "               </span>\n",
      "              </span>\n",
      "             </span>\n",
      "            </span>\n",
      "           </td>\n",
      "           <td class=\"ra-hide listing-border-top-line listing-float-box-cell-shared listing-float-box-cell-more-padding\" id=\"listingtd[__GIP__3__][total]\" style=\"height: 1px; text-align: center; \">\n",
      "            <span class=\"listing-amount-bold\" id=\"dtotal[__GIP__3__][td]\">\n",
      "             <span class=\"ra-formatted-amount listing-total\">\n",
      "              <span id=\"dtotal[__GIP__3__][v]\">\n",
      "               $49.79\n",
      "              </span>\n",
      "             </span>\n",
      "            </span>\n",
      "           </td>\n",
      "           <td class=\"listing-border-top-line listing-float-box-cell-shared\" rowspan=\"2\" style=\"text-align: center; \">\n",
      "           </td>\n",
      "          </tr>\n",
      "          <tr>\n",
      "           <td class=\"listing-float-box-cell-shared\" colspan=\"4\" style=\"text-align: right;\">\n",
      "            <div style=\"padding-top: .25em; padding-bottom: .1em;\">\n",
      "             <div class=\"listing-quantity-adjustment ib remove-for-print show-if-js\">\n",
      "              <input autocomplete=\"off\" id=\"listingoptkeytomultiple[__GIP__3__]\" type=\"hidden\" value='{\"0-0-0-1\":\"1\"}'/>\n",
      "              <input autocomplete=\"off\" id=\"listingoptkeytolinenumber[__GIP__3__]\" type=\"hidden\" value='{\"0-0-0-1\":null}'/>\n",
      "              <input autocomplete=\"off\" id=\"listingoptkeytoqtyincart[__GIP__3__]\" type=\"hidden\" value='{\"0-0-0-1\":null}'/>\n",
      "              <input autocomplete=\"off\" id=\"listingoptkeytoalternateid[__GIP__3__]\" type=\"hidden\" value='{\"0-0-0-1\":null}'/>\n",
      "              <table class=\"tblz di tbl-input-button-attached\" id=\"listingquantitytable[__GIP__3__]\">\n",
      "               <tr>\n",
      "                <td class=\"td-button-left\" style=\"text-align: right;\">\n",
      "                 <div class=\"qty-adjust-button\" onclick='cataloglite.ListingQuantityUpdate(\"__GIP__3__\", -1);' style=\"border-top-left-radius: 4px; border-bottom-left-radius: 4px;\">\n",
      "                  <img alt=\"\" class=\"nobmp vmiddle\" src=\"/Images/mobile/qty_down_white.png\"/>\n",
      "                 </div>\n",
      "                </td>\n",
      "                <td class=\"td-input\">\n",
      "                 <label for=\"raquantity[__GIP__3__]\" style=\"display:none;\">\n",
      "                  Quantity\n",
      "                 </label>\n",
      "                 <input aria-label=\"Quantity\" autocapitalize=\"off\" autocomplete=\"off\" autocorrect=\"off\" class=\"input-quantity ib\" data-autofill=\"block\" id=\"raquantity[__GIP__3__]\" maxlength=\"5\" name=\"raquantity[__GIP__3__]\" onchange='cataloglite.ListingQuantityUpdate(\"__GIP__3__\");' onkeypress='return RA.InterceptEnter(event, function(){RA.ByName(\"raquantity[__GIP__3__]\")[0].blur()});' spellcheck=\"false\" style=\"text-align: center; width: 2em; padding-left: 0;\" type=\"text\" value=\"1\"/>\n",
      "                </td>\n",
      "                <td class=\"td-button-right\">\n",
      "                 <div class=\"qty-adjust-button\" onclick='cataloglite.ListingQuantityUpdate(\"__GIP__3__\", 1);' style=\"border-top-right-radius: 4px; border-bottom-right-radius: 4px;\">\n",
      "                  <img alt=\"\" class=\"nobmp vmiddle\" src=\"/Images/mobile/qty_up_white.png\"/>\n",
      "                 </div>\n",
      "                </td>\n",
      "               </tr>\n",
      "              </table>\n",
      "             </div>\n",
      "             <div class=\"catalog-listing-buttons-wrapper ib\" style=\"min-width:105px;\">\n",
      "              <div class=\"vew_btnaddtocart remove-for-print\" id=\"vew_btnaddtocart[__GIP__3__]\">\n",
      "               <input class=\"hide-if-js ra-btn ra-btn-size-normal ra-btn-color-hotgreen\" id=\"addpart[__GIP__3__]\" name=\"addpart[__GIP__3__]\" onclick=\"cataloglite.ShowLoadingOverlay(null, 'PK_ADDINGPARTTOCART'); return cataloglite.Cart.AddPartWhenReady(&quot;__GIP__3__&quot;);\" type=\"submit\" value=\"Add to Cart &gt;\"/>\n",
      "               <a class=\"show-if-js ra-btn ra-btn-color-hotgreen ra-btn-size-normal ra-btn-add-part\" href=\"#\" onclick=\"RA.Click('addpart[__GIP__3__]'); return false;\" style=\"display: inline-block;\">\n",
      "                <span class=\"la-btn-v\">\n",
      "                 Add to Cart\n",
      "                </span>\n",
      "                <img alt=\"\" class=\"la-btn-v\" src=\"/Images/mobile/right_arrow_white.png\" style=\"height: 1em; margin-left: .25em;\"/>\n",
      "               </a>\n",
      "              </div>\n",
      "              <div class=\"vew_btnpartincart remove-for-print ra-hide\" id=\"vew_btnpartincart[__GIP__3__]\">\n",
      "               <input class=\"ra-btn ra-btn-size-normal ra-btn-part-in-cart\" name=\"addpart[__GIP__3__]\" onclick=\"cataloglite.Cart.ShowPartAlreadyInCart(__GIP__3__); return false;\" type=\"submit\" value=\"Part In Cart\"/>\n",
      "              </div>\n",
      "              <div class=\"vew_btnnotifyoos remove-for-print ra-hide show-if-js\" id=\"vew_btnnotifyoos[__GIP__3__]\">\n",
      "               <input class=\"ra-btn ra-btn-size-normal ra-btn-color-darkblue\" onclick='cataloglite.GetAvailabilityAlertForOOSPart(\"__GIP__3__\");' type=\"button\" value=\"Notify Me When Available\"/>\n",
      "              </div>\n",
      "             </div>\n",
      "            </div>\n",
      "           </td>\n",
      "          </tr>\n",
      "         </tbody>\n",
      "        </table>\n",
      "        <div class=\"listing-filter-bottom-message ra-hide\" id=\"listingfiltermessage[__GIP__2__]\">\n",
      "        </div>\n",
      "        <input autocomplete=\"off\" id=\"part_groupindexes_in_this_listing[__GIP__2__]\" type=\"hidden\" value='[\"__GIP__3__\"]'/>\n",
      "       </div>\n",
      "      </div>\n",
      "     </form>\n",
      "    </div>\n",
      "   </div>\n",
      "  </div>\n",
      " </body>\n",
      "</html>\n",
      "\n"
     ]
    }
   ],
   "source": [
    "from bs4 import BeautifulSoup\n",
    "from lxml import etree\n",
    "\n",
    "soup = BeautifulSoup(dict_['searchnoderesults'], 'lxml')\n",
    "html = etree.HTML(str(soup))\n",
    "\n",
    "with open('./kit_part.html', 'w', encoding='UTF-8') as file:\n",
    "    file.write(str(soup))\n",
    "\n",
    "print(soup.prettify())"
   ]
  },
  {
   "cell_type": "code",
   "execution_count": 9,
   "id": "1b555c4a-9bf1-4f5b-8bf2-3f5750cddad6",
   "metadata": {},
   "outputs": [
    {
     "data": {
      "text/plain": [
       "[<Element tbody at 0x12521b000>]"
      ]
     },
     "execution_count": 9,
     "metadata": {},
     "output_type": "execute_result"
    }
   ],
   "source": [
    "list_tbody = html.xpath('//tbody[contains(@id, \"listingcontainer[__GIP__\")]')\n",
    "\n",
    "list_tbody"
   ]
  },
  {
   "cell_type": "code",
   "execution_count": 10,
   "id": "67a1f752-c88a-471e-95e9-6f03e2bc62cf",
   "metadata": {},
   "outputs": [
    {
     "data": {
      "text/plain": [
       "[[]]"
      ]
     },
     "execution_count": 10,
     "metadata": {},
     "output_type": "execute_result"
    }
   ],
   "source": [
    "import re\n",
    "\n",
    "list_list_note = [tbody.xpath('./tr[1]/td[contains(@class, \"listing-inner-content\")]/div[@class=\"listing-text-row-moreinfo-truck\"]/span[@class=\"span-link-underline-remover\"]') for tbody in list_tbody]\n",
    "list_list_note = [[etree.tostring(note).decode('utf-8') for note in list_note] if list_note else [] for list_note in list_list_note]\n",
    "list_list_note = [[re.sub(r'<.*?>', '', note) for note in list_note] for list_note in list_list_note]\n",
    "list_list_note = [[re.sub(r' +', ' ', note).strip() for note in list_note] for list_note in list_list_note]\n",
    "\n",
    "list_list_note"
   ]
  },
  {
   "cell_type": "code",
   "execution_count": 11,
   "id": "8e46a8fb-0ccc-4e82-9806-be466dd77cd7",
   "metadata": {},
   "outputs": [
    {
     "data": {
      "text/plain": [
       "[{}]"
      ]
     },
     "execution_count": 11,
     "metadata": {},
     "output_type": "execute_result"
    }
   ],
   "source": [
    "list_dict_note = []\n",
    "for list_note in list_list_note:\n",
    "    dict_note = {}\n",
    "    for i, note in enumerate(list_note):\n",
    "        dict_note[str(i)] = note\n",
    "\n",
    "    list_dict_note.append(dict_note)\n",
    "\n",
    "list_dict_note"
   ]
  },
  {
   "cell_type": "code",
   "execution_count": 12,
   "id": "7639c361-4765-401a-bc4c-f30e42849382",
   "metadata": {},
   "outputs": [
    {
     "data": {
      "text/plain": [
       "[['Category: Timing Chain']]"
      ]
     },
     "execution_count": 12,
     "metadata": {},
     "output_type": "execute_result"
    }
   ],
   "source": [
    "list_list_note = [tbody.xpath('./tr[1]/td[contains(@class, \"listing-inner-content\")]/div[@class=\"listing-text-row\"]/span[contains(@title, \"Please make sure\")]') for tbody in list_tbody]\n",
    "list_list_note = [[etree.tostring(text).decode('utf-8') for note in list_note for text in note.xpath('./span[@class=\"listing-footnote-text\"]')] if list_note else [] for list_note in list_list_note]\n",
    "list_list_note = [[re.sub(r'<.*?>', '', note) for note in list_note] for list_note in list_list_note]\n",
    "list_list_note = [[re.sub(r' +', ' ', note).strip() for note in list_note] for list_note in list_list_note]\n",
    "\n",
    "list_list_note"
   ]
  },
  {
   "cell_type": "code",
   "execution_count": 13,
   "id": "0be569f0-69a7-43e2-81f8-5bfc0ddd2ee6",
   "metadata": {},
   "outputs": [
    {
     "data": {
      "text/plain": [
       "[{'0': 'Category: Timing Chain'}]"
      ]
     },
     "execution_count": 13,
     "metadata": {},
     "output_type": "execute_result"
    }
   ],
   "source": [
    "list_dict_note_2 = []\n",
    "for list_note in list_list_note:\n",
    "    dict_note = {}\n",
    "    for i, note in enumerate(list_note):\n",
    "        dict_note[str(i)] = note\n",
    "\n",
    "    list_dict_note_2.append(dict_note)\n",
    "\n",
    "list_dict_note_2"
   ]
  },
  {
   "cell_type": "code",
   "execution_count": 14,
   "id": "013e9757-8348-4428-90b1-ab7ff51ce5a1",
   "metadata": {},
   "outputs": [
    {
     "data": {
      "text/plain": [
       "[{'groupindex': '__GIP__3__',\n",
       "  'carcode': 0,\n",
       "  'parttype': '5724',\n",
       "  'partkey': '8306448',\n",
       "  'opts': {'0-0-0-1': {'warehouse': '33013',\n",
       "    'whpartnum': 'MEL 715F',\n",
       "    'optionlist': '0',\n",
       "    'paramcode': '0',\n",
       "    'notekey': '0',\n",
       "    'multiple': '1'}}}]"
      ]
     },
     "execution_count": 14,
     "metadata": {},
     "output_type": "execute_result"
    }
   ],
   "source": [
    "list_dict = [json.loads(tbody.xpath('./tr[1]/td[contains(@class, \"listing-inner-content\")]/input[contains(@id, \"listing_data_essential[__GIP__\")]/@value')[0]) for tbody in list_tbody]\n",
    "\n",
    "list_dict"
   ]
  },
  {
   "cell_type": "code",
   "execution_count": 15,
   "id": "da67c79f-4ccf-4bb1-be9a-06175d5d0588",
   "metadata": {},
   "outputs": [
    {
     "data": {
      "text/plain": [
       "['5724']"
      ]
     },
     "execution_count": 15,
     "metadata": {},
     "output_type": "execute_result"
    }
   ],
   "source": [
    "list_type_code = [dict_['parttype'] for dict_ in list_dict]\n",
    "\n",
    "list_type_code"
   ]
  },
  {
   "cell_type": "code",
   "execution_count": 16,
   "id": "26d4d0ad-5e31-4a69-a2a9-eacf1c2ef80d",
   "metadata": {},
   "outputs": [
    {
     "data": {
      "text/plain": [
       "(array([0]),)"
      ]
     },
     "execution_count": 16,
     "metadata": {},
     "output_type": "execute_result"
    }
   ],
   "source": [
    "import numpy as np\n",
    "\n",
    "array_index_type_code = np.where(np.array(list_type_code) == input_.loc[a, 'Kit_Type Code'])\n",
    "\n",
    "array_index_type_code"
   ]
  },
  {
   "cell_type": "code",
   "execution_count": 17,
   "id": "a889e0e6-c6e2-41c3-86bb-1269a71e6f1d",
   "metadata": {},
   "outputs": [
    {
     "data": {
      "text/plain": [
       "['8306448']"
      ]
     },
     "execution_count": 17,
     "metadata": {},
     "output_type": "execute_result"
    }
   ],
   "source": [
    "list_part_code = [dict_['partkey'] for dict_ in list_dict]\n",
    "\n",
    "list_part_code"
   ]
  },
  {
   "cell_type": "code",
   "execution_count": 18,
   "id": "e22f41b8-e62f-4766-a6bb-2165d97afaf7",
   "metadata": {},
   "outputs": [
    {
     "data": {
      "text/plain": [
       "['https://www.rockauto.com/en/moreinfo.php?pk=8306448&cc=0&pt=5724']"
      ]
     },
     "execution_count": 18,
     "metadata": {},
     "output_type": "execute_result"
    }
   ],
   "source": [
    "list_list_info = [tbody.xpath('./tr[1]/td[contains(@class, \"listing-inner-content\")]/div[@class=\"listing-text-row-moreinfo-truck\"]/a[@class=\"ra-btn ra-btn-moreinfo\"]') for tbody in list_tbody]\n",
    "list_info = [list_info[0].xpath('./@href')[0].strip() if list_info else '' for list_info in list_list_info]\n",
    "list_info = [info if info.startswith('https://www.rockauto.com/en/moreinfo.php?') else f'''https://www.rockauto.com/en/moreinfo.php?pk={part_code}&cc=0&pt={type_code}&Lennon=1''' for info, part_code, type_code in zip(list_info, list_part_code, list_type_code)]\n",
    "\n",
    "list_info"
   ]
  },
  {
   "cell_type": "code",
   "execution_count": 19,
   "id": "94b6650a-657c-43ba-bfb3-80d3533e51c6",
   "metadata": {},
   "outputs": [
    {
     "data": {
      "text/plain": [
       "[{'partnumber': '715F',\n",
       "  'catalogname': 'MELLING',\n",
       "  'belongstolisting': '__GIP__2__',\n",
       "  'sortgroup': 0,\n",
       "  'sortgrouptext': '',\n",
       "  'paramdesc': ''}]"
      ]
     },
     "execution_count": 19,
     "metadata": {},
     "output_type": "execute_result"
    }
   ],
   "source": [
    "list_dict = [json.loads(tbody.xpath('./tr[1]/td/input[contains(@id, \"listing_data_supplemental[__GIP__\")]/@value')[0]) for tbody in list_tbody]\n",
    "\n",
    "list_dict"
   ]
  },
  {
   "cell_type": "code",
   "execution_count": 20,
   "id": "1b5dfcb9-4037-4fe0-b74f-d6fe4f9fc3fd",
   "metadata": {},
   "outputs": [
    {
     "data": {
      "text/plain": [
       "(array([0]),)"
      ]
     },
     "execution_count": 20,
     "metadata": {},
     "output_type": "execute_result"
    }
   ],
   "source": [
    "array_index_part_number = np.where(np.array([dict_['partnumber'] for dict_ in list_dict]) == input_.loc[a, 'Kit_Part Number'])\n",
    "\n",
    "array_index_part_number"
   ]
  },
  {
   "cell_type": "code",
   "execution_count": 21,
   "id": "b97569ac-c1b1-4be0-a284-5df159906aac",
   "metadata": {},
   "outputs": [
    {
     "data": {
      "text/plain": [
       "(array([0]),)"
      ]
     },
     "execution_count": 21,
     "metadata": {},
     "output_type": "execute_result"
    }
   ],
   "source": [
    "array_index_manufacturer = np.where(np.array([dict_['catalogname'] for dict_ in list_dict]) == input_.loc[a, 'Kit_Manufacturer'])\n",
    "\n",
    "array_index_manufacturer"
   ]
  },
  {
   "cell_type": "code",
   "execution_count": 22,
   "id": "fd0351e0-dfc5-4f69-884a-90ae9c0d3190",
   "metadata": {},
   "outputs": [
    {
     "data": {
      "text/plain": [
       "array([0])"
      ]
     },
     "execution_count": 22,
     "metadata": {},
     "output_type": "execute_result"
    }
   ],
   "source": [
    "array_index_part = np.intersect1d(np.intersect1d(array_index_type_code, array_index_part_number), array_index_manufacturer)\n",
    "\n",
    "array_index_part"
   ]
  },
  {
   "cell_type": "code",
   "execution_count": 23,
   "id": "a1a98ea9-459c-45e5-8ba9-800c4cbca3a2",
   "metadata": {},
   "outputs": [
    {
     "data": {
      "text/plain": [
       "0"
      ]
     },
     "execution_count": 23,
     "metadata": {},
     "output_type": "execute_result"
    }
   ],
   "source": [
    "if len(array_index_part) == 1:\n",
    "    index_part = array_index_part[0]\n",
    "\n",
    "index_part"
   ]
  },
  {
   "cell_type": "code",
   "execution_count": 24,
   "id": "c166959a-a5a0-4bf8-aa2a-8fff5cf69c83",
   "metadata": {},
   "outputs": [
    {
     "data": {
      "text/plain": [
       "''"
      ]
     },
     "execution_count": 24,
     "metadata": {},
     "output_type": "execute_result"
    }
   ],
   "source": [
    "choose = list_dict[index_part]['paramdesc'].strip()\n",
    "\n",
    "choose"
   ]
  },
  {
   "cell_type": "code",
   "execution_count": 25,
   "id": "4d37a05e-c138-47a3-a352-538e48fa438a",
   "metadata": {},
   "outputs": [
    {
     "data": {
      "text/plain": [
       "[['3L8Z6268AA, L30512201']]"
      ]
     },
     "execution_count": 25,
     "metadata": {},
     "output_type": "execute_result"
    }
   ],
   "source": [
    "list_list_text = [td.xpath('./span[contains(@title, \"Replaces these Alternate\")]/text()') for td in list_tbody[index_part].xpath('./tr[1]/td[contains(@class, \"listing-inner-content\")]')]\n",
    "\n",
    "list_list_text"
   ]
  },
  {
   "cell_type": "code",
   "execution_count": 26,
   "id": "dfcd4d2e-86ef-4c1d-ac30-e8660abf506b",
   "metadata": {},
   "outputs": [
    {
     "data": {
      "text/plain": [
       "'3L8Z6268AA;L30512201'"
      ]
     },
     "execution_count": 26,
     "metadata": {},
     "output_type": "execute_result"
    }
   ],
   "source": [
    "list_oem = []\n",
    "for list_text in list_list_text:\n",
    "    if list_text:\n",
    "        for text in list_text:\n",
    "            list_oem += text.split(',')\n",
    "        \n",
    "list_oem = [oem.strip() for oem in list_oem]\n",
    "    \n",
    "while '' in list_oem:\n",
    "    list_oem.remove('')\n",
    "\n",
    "oem = ';'.join(sorted(list(set(list_oem))))\n",
    "\n",
    "oem"
   ]
  },
  {
   "cell_type": "code",
   "execution_count": 27,
   "id": "2c519968-46eb-4a31-8e95-7a247524cb04",
   "metadata": {
    "scrolled": true
   },
   "outputs": [
    {
     "data": {
      "text/plain": [
       "{'Size': 'Thumb',\n",
       " 'SlotIndex': 0,\n",
       " 'Slots': [{'TitlePhrase': None,\n",
       "   'ParamCodes': [None],\n",
       "   'Type': 'Single',\n",
       "   'ImageData': {'Thumb': '/info/583/715F-1-ANG__ra_m.jpg',\n",
       "    'Popup': '/info/583/715F-1-ANG.jpg',\n",
       "    'Full': '/info/583/715F-1-ANG.jpg'}}]}"
      ]
     },
     "execution_count": 27,
     "metadata": {},
     "output_type": "execute_result"
    }
   ],
   "source": [
    "list_src = list_tbody[index_part].xpath('./tr[1]/td/div[contains(@class, \"listing-image-space-occupy\")]/input[contains(@id, \"jsninlineimg[__GIP__\")]')\n",
    "dict_ = json.loads(list_src[0].xpath('./@value')[0]) if list_src else {}\n",
    "\n",
    "dict_"
   ]
  },
  {
   "cell_type": "code",
   "execution_count": 28,
   "id": "56a1d744-de44-4689-9f1c-2385b454462b",
   "metadata": {},
   "outputs": [
    {
     "data": {
      "text/plain": [
       "{'0': 'https://www.rockauto.com/info/583/715F-1-ANG.jpg'}"
      ]
     },
     "execution_count": 28,
     "metadata": {},
     "output_type": "execute_result"
    }
   ],
   "source": [
    "dict_src = {}\n",
    "if dict_:\n",
    "    list_src = dict_['Slots']\n",
    "    for i, src in enumerate(list_src):\n",
    "        dict_src[str(i)] = f'''https://www.rockauto.com{src['ImageData']['Full'].strip()}'''\n",
    "\n",
    "dict_src"
   ]
  },
  {
   "cell_type": "code",
   "execution_count": 29,
   "id": "9ca98574-7554-4387-b03b-b73f64fe68ad",
   "metadata": {},
   "outputs": [
    {
     "data": {
      "text/plain": [
       "{'0': '$49.79'}"
      ]
     },
     "execution_count": 29,
     "metadata": {},
     "output_type": "execute_result"
    }
   ],
   "source": [
    "price = list_tbody[index_part].xpath('./tr[1]/td[contains(@id, \"listingtd[__GIP__\") and contains(@id, \"__][price]\")]/span[contains(@id, \"dprice[__GIP__\") and contains(@id, \"__][td]\")]/span/span[contains(@id, \"dprice[__GIP__\") and contains(@id, \"__][v]\")]')\n",
    "price = etree.tostring(price[0]).decode('utf-8') if price else ''\n",
    "price = re.sub(r'<.*?>', '', price)\n",
    "price = re.sub(r' +', ' ', price).strip()\n",
    "dict_price = {'0': price}\n",
    "\n",
    "dict_price"
   ]
  },
  {
   "cell_type": "code",
   "execution_count": 30,
   "id": "0c406ee5-113c-4334-a004-dc10537e5e6b",
   "metadata": {},
   "outputs": [
    {
     "data": {
      "text/plain": [
       "{'0': '$49.79'}"
      ]
     },
     "execution_count": 30,
     "metadata": {},
     "output_type": "execute_result"
    }
   ],
   "source": [
    "td = list_tbody[index_part].xpath('./tr[1]/td[contains(@class, \"listing-inner-content\")]')[0]\n",
    "list_option = [etree.tostring(option).decode('utf-8') for option in td.xpath('./div/div[contains(@class, \"listing-optionchoice-multiple-container\")]/span[contains(@id, \"ddrepl[optionchoice[__GIP__\") and contains(@id, \"__]][container]\")]/span[@class=\"hide-if-js\"]/select[contains(@id, \"optionchoice[__GIP__\") and contains(@id, \"__]\")]/option[@value!=\"\"]')]\n",
    "list_option = [re.sub(r'<.*?>', '', option) for option in list_option]\n",
    "list_option = [re.sub(r' +', ' ', option).strip() for option in list_option]\n",
    "if list_option:\n",
    "    dict_price['1'] = {}\n",
    "    for i, option in enumerate(list_option):\n",
    "        dict_price['1'][str(i)] = option\n",
    "\n",
    "dict_price"
   ]
  },
  {
   "cell_type": "code",
   "execution_count": 31,
   "id": "96f1239b-50f9-42d4-b879-831dc05deb48",
   "metadata": {
    "scrolled": true
   },
   "outputs": [
    {
     "data": {
      "text/html": [
       "<div>\n",
       "<style scoped>\n",
       "    .dataframe tbody tr th:only-of-type {\n",
       "        vertical-align: middle;\n",
       "    }\n",
       "\n",
       "    .dataframe tbody tr th {\n",
       "        vertical-align: top;\n",
       "    }\n",
       "\n",
       "    .dataframe thead th {\n",
       "        text-align: right;\n",
       "    }\n",
       "</style>\n",
       "<table border=\"1\" class=\"dataframe\">\n",
       "  <thead>\n",
       "    <tr style=\"text-align: right;\">\n",
       "      <th></th>\n",
       "      <th>Kit_JOIN_MPNTCPC</th>\n",
       "      <th>Kit_Type</th>\n",
       "      <th>Kit_Manufacturer</th>\n",
       "      <th>Kit_Part Number</th>\n",
       "      <th>Kit_Vehicle</th>\n",
       "      <th>Kit_OEM</th>\n",
       "      <th>Kit_Picture</th>\n",
       "      <th>Kit_Url</th>\n",
       "      <th>Kit_Json_Src</th>\n",
       "      <th>Kit_Info</th>\n",
       "      <th>Kit_Choose</th>\n",
       "      <th>Kit_Json_Price</th>\n",
       "      <th>Kit_Json_Note 1</th>\n",
       "      <th>Kit_Json_Note 2</th>\n",
       "      <th>Kit_Type Code</th>\n",
       "      <th>Kit_Part Code</th>\n",
       "    </tr>\n",
       "  </thead>\n",
       "  <tbody>\n",
       "    <tr>\n",
       "      <th>0</th>\n",
       "      <td>MELLING;715F;5724;8306448</td>\n",
       "      <td>Timing Chain</td>\n",
       "      <td>MELLING</td>\n",
       "      <td>715F</td>\n",
       "      <td></td>\n",
       "      <td>3L8Z6268AA;L30512201</td>\n",
       "      <td></td>\n",
       "      <td>https://www.rockauto.com/en/parts/MELLING,715F...</td>\n",
       "      <td>{\"0\": \"https://www.rockauto.com/info/583/715F-...</td>\n",
       "      <td>https://www.rockauto.com/en/moreinfo.php?pk=83...</td>\n",
       "      <td></td>\n",
       "      <td>{\"0\": \"$49.79\"}</td>\n",
       "      <td>{}</td>\n",
       "      <td>{\"0\": \"Category: Timing Chain\"}</td>\n",
       "      <td>5724</td>\n",
       "      <td>8306448</td>\n",
       "    </tr>\n",
       "  </tbody>\n",
       "</table>\n",
       "</div>"
      ],
      "text/plain": [
       "            Kit_JOIN_MPNTCPC      Kit_Type Kit_Manufacturer Kit_Part Number  \\\n",
       "0  MELLING;715F;5724;8306448  Timing Chain          MELLING            715F   \n",
       "\n",
       "  Kit_Vehicle               Kit_OEM Kit_Picture  \\\n",
       "0              3L8Z6268AA;L30512201               \n",
       "\n",
       "                                             Kit_Url  \\\n",
       "0  https://www.rockauto.com/en/parts/MELLING,715F...   \n",
       "\n",
       "                                        Kit_Json_Src  \\\n",
       "0  {\"0\": \"https://www.rockauto.com/info/583/715F-...   \n",
       "\n",
       "                                            Kit_Info Kit_Choose  \\\n",
       "0  https://www.rockauto.com/en/moreinfo.php?pk=83...              \n",
       "\n",
       "    Kit_Json_Price Kit_Json_Note 1                  Kit_Json_Note 2  \\\n",
       "0  {\"0\": \"$49.79\"}              {}  {\"0\": \"Category: Timing Chain\"}   \n",
       "\n",
       "  Kit_Type Code Kit_Part Code  \n",
       "0          5724       8306448  "
      ]
     },
     "execution_count": 31,
     "metadata": {},
     "output_type": "execute_result"
    }
   ],
   "source": [
    "df_temp = pd.DataFrame([{'Kit_JOIN_MPNTCPC': input_.loc[a, 'Kit_JOIN_MPNTCPC'],\n",
    "                         'Kit_Type': input_.loc[a, 'Kit_Type'],\n",
    "                         'Kit_Manufacturer': input_.loc[a, 'Kit_Manufacturer'],\n",
    "                         'Kit_Part Number': input_.loc[a, 'Kit_Part Number'],\n",
    "                         'Kit_Vehicle': '',\n",
    "                         'Kit_OEM': oem,\n",
    "                         'Kit_Picture': '',\n",
    "                         'Kit_Url': input_.loc[a, 'Kit_Url'],\n",
    "                         'Kit_Json_Src': json.dumps(dict_src),\n",
    "                         'Kit_Info': list_info[index_part],\n",
    "                         'Kit_Choose': choose,\n",
    "                         'Kit_Json_Price': json.dumps(dict_price),\n",
    "                         'Kit_Json_Note 1': json.dumps(list_dict_note[index_part]),\n",
    "                         'Kit_Json_Note 2': json.dumps(list_dict_note_2[index_part]),\n",
    "                         'Kit_Type Code': input_.loc[a, 'Kit_Type Code'],\n",
    "                         'Kit_Part Code': list_part_code[index_part]}])\n",
    "\n",
    "output_correct = pd.concat([output_correct, df_temp], ignore_index=True).fillna('')\n",
    "\n",
    "output_correct"
   ]
  },
  {
   "cell_type": "code",
   "execution_count": 32,
   "id": "fc4ed7f6-ed4f-431c-b944-b1690309cdae",
   "metadata": {},
   "outputs": [
    {
     "data": {
      "text/plain": [
       "'ok'"
      ]
     },
     "execution_count": 32,
     "metadata": {},
     "output_type": "execute_result"
    }
   ],
   "source": [
    "crawler_status = 'ok'\n",
    "\n",
    "crawler_status"
   ]
  },
  {
   "cell_type": "code",
   "execution_count": 33,
   "id": "65c745d1-446e-46c5-9dec-819c9f7944d3",
   "metadata": {},
   "outputs": [
    {
     "data": {
      "text/html": [
       "<div>\n",
       "<style scoped>\n",
       "    .dataframe tbody tr th:only-of-type {\n",
       "        vertical-align: middle;\n",
       "    }\n",
       "\n",
       "    .dataframe tbody tr th {\n",
       "        vertical-align: top;\n",
       "    }\n",
       "\n",
       "    .dataframe thead th {\n",
       "        text-align: right;\n",
       "    }\n",
       "</style>\n",
       "<table border=\"1\" class=\"dataframe\">\n",
       "  <thead>\n",
       "    <tr style=\"text-align: right;\">\n",
       "      <th></th>\n",
       "    </tr>\n",
       "  </thead>\n",
       "  <tbody>\n",
       "  </tbody>\n",
       "</table>\n",
       "</div>"
      ],
      "text/plain": [
       "Empty DataFrame\n",
       "Columns: []\n",
       "Index: []"
      ]
     },
     "execution_count": 33,
     "metadata": {},
     "output_type": "execute_result"
    }
   ],
   "source": [
    "if crawler_status == 'error':\n",
    "    df_temp = pd.DataFrame([input_.iloc[a]]).reset_index(drop=True)\n",
    "    df_temp.loc[0, 'Check_Url'] = check_url\n",
    "    \n",
    "    output_error = pd.concat([output_error, df_temp], ignore_index=True).fillna('')\n",
    "\n",
    "output_error"
   ]
  },
  {
   "cell_type": "code",
   "execution_count": 34,
   "id": "7fd477de",
   "metadata": {},
   "outputs": [
    {
     "data": {
      "text/html": [
       "<div>\n",
       "<style scoped>\n",
       "    .dataframe tbody tr th:only-of-type {\n",
       "        vertical-align: middle;\n",
       "    }\n",
       "\n",
       "    .dataframe tbody tr th {\n",
       "        vertical-align: top;\n",
       "    }\n",
       "\n",
       "    .dataframe thead th {\n",
       "        text-align: right;\n",
       "    }\n",
       "</style>\n",
       "<table border=\"1\" class=\"dataframe\">\n",
       "  <thead>\n",
       "    <tr style=\"text-align: right;\">\n",
       "      <th></th>\n",
       "      <th>Kit_JOIN_MPNTCPC</th>\n",
       "      <th>Kit_Type</th>\n",
       "      <th>Kit_Manufacturer</th>\n",
       "      <th>Kit_Part Number</th>\n",
       "      <th>Kit_Vehicle</th>\n",
       "      <th>Kit_OEM</th>\n",
       "      <th>Kit_Picture</th>\n",
       "      <th>Kit_Url</th>\n",
       "      <th>Kit_Json_Src</th>\n",
       "      <th>Kit_Info</th>\n",
       "      <th>Kit_Choose</th>\n",
       "      <th>Kit_Json_Price</th>\n",
       "      <th>Kit_Json_Note 1</th>\n",
       "      <th>Kit_Json_Note 2</th>\n",
       "      <th>Kit_Type Code</th>\n",
       "      <th>Kit_Part Code</th>\n",
       "    </tr>\n",
       "  </thead>\n",
       "  <tbody>\n",
       "    <tr>\n",
       "      <th>0</th>\n",
       "      <td>MELLING;715F;5724;8306448</td>\n",
       "      <td>Timing Chain</td>\n",
       "      <td>MELLING</td>\n",
       "      <td>715F</td>\n",
       "      <td></td>\n",
       "      <td>3L8Z6268AA;L30512201</td>\n",
       "      <td></td>\n",
       "      <td>https://www.rockauto.com/en/parts/MELLING,715F...</td>\n",
       "      <td>{\"0\": \"https://www.rockauto.com/info/583/715F-...</td>\n",
       "      <td>https://www.rockauto.com/en/moreinfo.php?pk=83...</td>\n",
       "      <td></td>\n",
       "      <td>{\"0\": \"$49.79\"}</td>\n",
       "      <td>{}</td>\n",
       "      <td>{\"0\": \"Category: Timing Chain\"}</td>\n",
       "      <td>5724</td>\n",
       "      <td>8306448</td>\n",
       "    </tr>\n",
       "  </tbody>\n",
       "</table>\n",
       "</div>"
      ],
      "text/plain": [
       "            Kit_JOIN_MPNTCPC      Kit_Type Kit_Manufacturer Kit_Part Number  \\\n",
       "0  MELLING;715F;5724;8306448  Timing Chain          MELLING            715F   \n",
       "\n",
       "  Kit_Vehicle               Kit_OEM Kit_Picture  \\\n",
       "0              3L8Z6268AA;L30512201               \n",
       "\n",
       "                                             Kit_Url  \\\n",
       "0  https://www.rockauto.com/en/parts/MELLING,715F...   \n",
       "\n",
       "                                        Kit_Json_Src  \\\n",
       "0  {\"0\": \"https://www.rockauto.com/info/583/715F-...   \n",
       "\n",
       "                                            Kit_Info Kit_Choose  \\\n",
       "0  https://www.rockauto.com/en/moreinfo.php?pk=83...              \n",
       "\n",
       "    Kit_Json_Price Kit_Json_Note 1                  Kit_Json_Note 2  \\\n",
       "0  {\"0\": \"$49.79\"}              {}  {\"0\": \"Category: Timing Chain\"}   \n",
       "\n",
       "  Kit_Type Code Kit_Part Code  \n",
       "0          5724       8306448  "
      ]
     },
     "execution_count": 34,
     "metadata": {},
     "output_type": "execute_result"
    }
   ],
   "source": [
    "if not output_correct.empty:\n",
    "    output_correct = output_correct.sort_values(by=['Kit_JOIN_MPNTCPC'],\n",
    "                                                ascending=[True],\n",
    "                                                ignore_index=True)\n",
    "    output_correct.to_excel('./test_kit_part.xlsx', index=False)\n",
    "\n",
    "output_correct"
   ]
  },
  {
   "cell_type": "code",
   "execution_count": 35,
   "id": "39a5441b-7f69-4812-aad8-7e10a1a24e78",
   "metadata": {},
   "outputs": [
    {
     "data": {
      "text/html": [
       "<div>\n",
       "<style scoped>\n",
       "    .dataframe tbody tr th:only-of-type {\n",
       "        vertical-align: middle;\n",
       "    }\n",
       "\n",
       "    .dataframe tbody tr th {\n",
       "        vertical-align: top;\n",
       "    }\n",
       "\n",
       "    .dataframe thead th {\n",
       "        text-align: right;\n",
       "    }\n",
       "</style>\n",
       "<table border=\"1\" class=\"dataframe\">\n",
       "  <thead>\n",
       "    <tr style=\"text-align: right;\">\n",
       "      <th></th>\n",
       "    </tr>\n",
       "  </thead>\n",
       "  <tbody>\n",
       "  </tbody>\n",
       "</table>\n",
       "</div>"
      ],
      "text/plain": [
       "Empty DataFrame\n",
       "Columns: []\n",
       "Index: []"
      ]
     },
     "execution_count": 35,
     "metadata": {},
     "output_type": "execute_result"
    }
   ],
   "source": [
    "if not output_error.empty:\n",
    "    output_error = output_error.sort_values(by=['No'],\n",
    "                                            ascending=[True],\n",
    "                                            ignore_index=True)\n",
    "    output_error.to_excel('./test_kit_part_error.xlsx', index=False)\n",
    "\n",
    "output_error"
   ]
  },
  {
   "cell_type": "code",
   "execution_count": null,
   "id": "ba5d9f77-7464-4ad5-a42b-1fa0c0505832",
   "metadata": {},
   "outputs": [],
   "source": []
  }
 ],
 "metadata": {
  "kernelspec": {
   "display_name": "Python 3 (ipykernel)",
   "language": "python",
   "name": "python3"
  },
  "language_info": {
   "codemirror_mode": {
    "name": "ipython",
    "version": 3
   },
   "file_extension": ".py",
   "mimetype": "text/x-python",
   "name": "python",
   "nbconvert_exporter": "python",
   "pygments_lexer": "ipython3",
   "version": "3.11.3"
  }
 },
 "nbformat": 4,
 "nbformat_minor": 5
}
