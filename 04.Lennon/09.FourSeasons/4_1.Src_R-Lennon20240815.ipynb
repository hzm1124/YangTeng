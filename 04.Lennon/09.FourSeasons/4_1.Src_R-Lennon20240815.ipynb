{
 "cells": [
  {
   "cell_type": "code",
   "execution_count": 1,
   "id": "ba98551f-b0b1-4c50-8c47-3ad3a3730b73",
   "metadata": {},
   "outputs": [
    {
     "data": {
      "text/plain": [
       "['crawler_1-20240815_150139.xlsx',\n",
       " 'crawler_10-20240815_150146.xlsx',\n",
       " 'crawler_11-20240815_150201.xlsx',\n",
       " 'crawler_12-20240815_150212.xlsx',\n",
       " 'crawler_13-20240815_150247.xlsx',\n",
       " 'crawler_14-20240815_150249.xlsx',\n",
       " 'crawler_15-20240815_150302.xlsx',\n",
       " 'crawler_16-20240815_150316.xlsx',\n",
       " 'crawler_17-20240815_150318.xlsx']"
      ]
     },
     "execution_count": 1,
     "metadata": {},
     "output_type": "execute_result"
    }
   ],
   "source": [
    "import os\n",
    "\n",
    "list_file = sorted(list(os.walk('./file/3.part'))[0][2])\n",
    "while '.DS_Store' in list_file:\n",
    "    list_file.remove('.DS_Store')\n",
    "while '0.null.txt' in list_file:\n",
    "    list_file.remove('0.null.txt')\n",
    "\n",
    "list_file"
   ]
  },
  {
   "cell_type": "code",
   "execution_count": 2,
   "id": "9b75b948-9701-432e-a5ef-88d0e629bd2c",
   "metadata": {},
   "outputs": [
    {
     "data": {
      "text/plain": [
       "'crawler_10-20240815_150146.xlsx'"
      ]
     },
     "execution_count": 2,
     "metadata": {},
     "output_type": "execute_result"
    }
   ],
   "source": [
    "file = list_file[1]\n",
    "\n",
    "file"
   ]
  },
  {
   "cell_type": "code",
   "execution_count": 3,
   "id": "76ea49e2-7cc6-4bc1-af5b-7a6768eb6c08",
   "metadata": {},
   "outputs": [],
   "source": [
    "import pandas as pd\n",
    "\n",
    "output_correct, output_error = pd.DataFrame(), pd.DataFrame()"
   ]
  },
  {
   "cell_type": "code",
   "execution_count": 4,
   "id": "5d22fc26-a390-442a-bfe3-4d409c33f1e7",
   "metadata": {
    "scrolled": true
   },
   "outputs": [
    {
     "name": "stdout",
     "output_type": "stream",
     "text": [
      "总数量：12\n"
     ]
    },
    {
     "data": {
      "text/plain": [
       "['53021',\n",
       " '55030',\n",
       " '55032',\n",
       " '55046',\n",
       " '55052',\n",
       " '56266',\n",
       " '56268',\n",
       " '56270',\n",
       " '56980',\n",
       " '56986',\n",
       " '56988',\n",
       " '56992']"
      ]
     },
     "execution_count": 4,
     "metadata": {},
     "output_type": "execute_result"
    }
   ],
   "source": [
    "input_ = pd.read_excel(f'./file/3.part/{file}',\n",
    "                       header=0,\n",
    "                       dtype=str).fillna('')\n",
    "\n",
    "input_['No'] = input_['No'].astype(int)\n",
    "input_['rowId'] = input_['rowId'].astype(int)\n",
    "input_['qtyEach'] = input_['qtyEach'].astype(int)\n",
    "input_['maxRows'] = input_['maxRows'].astype(int)\n",
    "\n",
    "print(f'总数量：{len(input_)}')\n",
    "input_['Part Number'].tolist()"
   ]
  },
  {
   "cell_type": "code",
   "execution_count": 5,
   "id": "5878a9f0-d639-4123-b6e0-bc564f72c2d6",
   "metadata": {},
   "outputs": [
    {
     "data": {
      "text/plain": [
       "0"
      ]
     },
     "execution_count": 5,
     "metadata": {},
     "output_type": "execute_result"
    }
   ],
   "source": [
    "a = 0\n",
    "\n",
    "a"
   ]
  },
  {
   "cell_type": "code",
   "execution_count": 6,
   "id": "9f61dd65-55da-4d0b-ba30-d0534eff0781",
   "metadata": {},
   "outputs": [
    {
     "data": {
      "text/plain": [
       "'error'"
      ]
     },
     "execution_count": 6,
     "metadata": {},
     "output_type": "execute_result"
    }
   ],
   "source": [
    "crawler_status = 'error'\n",
    "\n",
    "crawler_status"
   ]
  },
  {
   "cell_type": "code",
   "execution_count": 7,
   "id": "ad99bc86-6e80-4fcf-8200-736dc5101097",
   "metadata": {},
   "outputs": [
    {
     "name": "stdout",
     "output_type": "stream",
     "text": [
      "1\n",
      "2\n",
      "3\n",
      "4\n",
      "5\n",
      "6\n",
      "7\n",
      "8\n",
      "9\n",
      "10\n",
      "11\n",
      "12\n",
      "13\n",
      "14\n",
      "15\n",
      "16\n",
      "17\n",
      "18\n",
      "19\n",
      "20\n",
      "21\n",
      "22\n",
      "23\n",
      "24\n",
      "25\n",
      "26\n",
      "27\n",
      "28\n",
      "29\n",
      "30\n",
      "31\n",
      "32\n"
     ]
    },
    {
     "data": {
      "text/plain": [
       "<Response [200]>"
      ]
     },
     "execution_count": 7,
     "metadata": {},
     "output_type": "execute_result"
    }
   ],
   "source": [
    "import requests\n",
    "\n",
    "import sys\n",
    "sys.path.append('../00.Tools')\n",
    "from crawler_configuration import get_header, get_proxy\n",
    "\n",
    "b = 0\n",
    "while True:\n",
    "    b += 1\n",
    "    print(b)\n",
    "    try:\n",
    "        resp = requests.get(f'''https://ecatalog.smpcorp.com/v2/fs/api/image/getallimages?partNum={input_.loc[a, 'Part Number']}&brand={input_.loc[a, 'brand']}&zoomFactor_sm=75&zoomFactor_md=360&zoomFactor_bg=960''',\n",
    "                            headers=get_header(),\n",
    "                            proxies=get_proxy(),\n",
    "                            timeout=(10, 10))\n",
    "\n",
    "        if resp.status_code == 200:\n",
    "            break\n",
    "    except KeyboardInterrupt:\n",
    "        break\n",
    "    except:\n",
    "        continue\n",
    "\n",
    "resp"
   ]
  },
  {
   "cell_type": "code",
   "execution_count": 8,
   "id": "067c3f3d-d710-43cf-9f6d-c9f45e42ff82",
   "metadata": {
    "scrolled": true
   },
   "outputs": [
    {
     "data": {
      "text/plain": [
       "['https://ecatalog.smpcorp.com/ihgs/imagehandlergs.ashx?p1=/GiWvhhYsuWkKHfMNsqxKSYF4nkLByFFki+PA/U85oaueUPW6nd8Su72HZkm08flMYvVb8ruU/a2jlDyZ/9SFhHKSDnV/vfUm++2cf2MyJSTHiO+uZMQDMRJmK/E5kGqgMS+q/NNn547DcAIwETg0+MA4lw7L3WsmesJ/OQLlNQ42zcy8WmfSA==']"
      ]
     },
     "execution_count": 8,
     "metadata": {},
     "output_type": "execute_result"
    }
   ],
   "source": [
    "list_src = resp.json()\n",
    "list_src = [src['image_BG_Url'].strip() for src in list_src]\n",
    "\n",
    "list_src"
   ]
  },
  {
   "cell_type": "code",
   "execution_count": 9,
   "id": "86ef5f53-4ba1-4024-af2a-5ad7c6898c6a",
   "metadata": {
    "scrolled": true
   },
   "outputs": [
    {
     "data": {
      "text/plain": [
       "{'0': 'https://ecatalog.smpcorp.com/ihgs/imagehandlergs.ashx?p1=/GiWvhhYsuWkKHfMNsqxKSYF4nkLByFFki+PA/U85oaueUPW6nd8Su72HZkm08flMYvVb8ruU/a2jlDyZ/9SFhHKSDnV/vfUm++2cf2MyJSTHiO+uZMQDMRJmK/E5kGqgMS+q/NNn547DcAIwETg0+MA4lw7L3WsmesJ/OQLlNQ42zcy8WmfSA=='}"
      ]
     },
     "execution_count": 9,
     "metadata": {},
     "output_type": "execute_result"
    }
   ],
   "source": [
    "dict_src = {}\n",
    "for i, src in zip(range(len(list_src)), list_src):\n",
    "    dict_src[str(i)] = src\n",
    "\n",
    "dict_src"
   ]
  },
  {
   "cell_type": "code",
   "execution_count": 10,
   "id": "7eb2595b-6357-4a9c-a53e-025d6677f9c6",
   "metadata": {},
   "outputs": [
    {
     "data": {
      "text/html": [
       "<div>\n",
       "<style scoped>\n",
       "    .dataframe tbody tr th:only-of-type {\n",
       "        vertical-align: middle;\n",
       "    }\n",
       "\n",
       "    .dataframe tbody tr th {\n",
       "        vertical-align: top;\n",
       "    }\n",
       "\n",
       "    .dataframe thead th {\n",
       "        text-align: right;\n",
       "    }\n",
       "</style>\n",
       "<table border=\"1\" class=\"dataframe\">\n",
       "  <thead>\n",
       "    <tr style=\"text-align: right;\">\n",
       "      <th></th>\n",
       "      <th>No</th>\n",
       "      <th>Part Number</th>\n",
       "      <th>rowId</th>\n",
       "      <th>site</th>\n",
       "      <th>webBase</th>\n",
       "      <th>brand</th>\n",
       "      <th>basePart</th>\n",
       "      <th>partDesc_en</th>\n",
       "      <th>partLongDesc_en</th>\n",
       "      <th>pop</th>\n",
       "      <th>...</th>\n",
       "      <th>mfG_Part</th>\n",
       "      <th>maxRows</th>\n",
       "      <th>brandLink</th>\n",
       "      <th>imageUrl</th>\n",
       "      <th>Picture</th>\n",
       "      <th>Url</th>\n",
       "      <th>Json_Vehicle</th>\n",
       "      <th>Json_Service</th>\n",
       "      <th>Json_Spec</th>\n",
       "      <th>Json_Src</th>\n",
       "    </tr>\n",
       "  </thead>\n",
       "  <tbody>\n",
       "    <tr>\n",
       "      <th>0</th>\n",
       "      <td>1</td>\n",
       "      <td>53021</td>\n",
       "      <td>1</td>\n",
       "      <td>FS</td>\n",
       "      <td>53021</td>\n",
       "      <td>FS</td>\n",
       "      <td>53021</td>\n",
       "      <td>Cooler Replacement Hose</td>\n",
       "      <td>Cooler Replacement Hose</td>\n",
       "      <td>F</td>\n",
       "      <td>...</td>\n",
       "      <td></td>\n",
       "      <td>1</td>\n",
       "      <td></td>\n",
       "      <td></td>\n",
       "      <td></td>\n",
       "      <td>https://www.4s.com/en/ecatalog?part=53021&amp;type...</td>\n",
       "      <td>{}</td>\n",
       "      <td>{\"0\": \"Fuel Filter Flush (Required)\", \"1\": \"Oi...</td>\n",
       "      <td>{\"0\": {\"Clamps Required?\": \"No\"}, \"1\": {\"Descr...</td>\n",
       "      <td>{\"0\": \"https://ecatalog.smpcorp.com/ihgs/image...</td>\n",
       "    </tr>\n",
       "  </tbody>\n",
       "</table>\n",
       "<p>1 rows × 26 columns</p>\n",
       "</div>"
      ],
      "text/plain": [
       "   No Part Number  rowId site webBase brand basePart              partDesc_en  \\\n",
       "0   1       53021      1   FS   53021    FS    53021  Cooler Replacement Hose   \n",
       "\n",
       "           partLongDesc_en pop  ... mfG_Part  maxRows brandLink imageUrl  \\\n",
       "0  Cooler Replacement Hose   F  ...                 1                      \n",
       "\n",
       "  Picture                                                Url Json_Vehicle  \\\n",
       "0          https://www.4s.com/en/ecatalog?part=53021&type...           {}   \n",
       "\n",
       "                                        Json_Service  \\\n",
       "0  {\"0\": \"Fuel Filter Flush (Required)\", \"1\": \"Oi...   \n",
       "\n",
       "                                           Json_Spec  \\\n",
       "0  {\"0\": {\"Clamps Required?\": \"No\"}, \"1\": {\"Descr...   \n",
       "\n",
       "                                            Json_Src  \n",
       "0  {\"0\": \"https://ecatalog.smpcorp.com/ihgs/image...  \n",
       "\n",
       "[1 rows x 26 columns]"
      ]
     },
     "execution_count": 10,
     "metadata": {},
     "output_type": "execute_result"
    }
   ],
   "source": [
    "import json\n",
    "\n",
    "df_temp = pd.DataFrame([input_.iloc[a]]).reset_index(drop=True)\n",
    "\n",
    "df_temp['Json_Src'] = json.dumps(dict_src)\n",
    "\n",
    "output_correct = pd.concat([output_correct, df_temp], ignore_index=True).fillna('')\n",
    "\n",
    "output_correct"
   ]
  },
  {
   "cell_type": "code",
   "execution_count": 11,
   "id": "fc4ed7f6-ed4f-431c-b944-b1690309cdae",
   "metadata": {},
   "outputs": [
    {
     "data": {
      "text/plain": [
       "'ok'"
      ]
     },
     "execution_count": 11,
     "metadata": {},
     "output_type": "execute_result"
    }
   ],
   "source": [
    "crawler_status = 'ok'\n",
    "\n",
    "crawler_status"
   ]
  },
  {
   "cell_type": "code",
   "execution_count": 12,
   "id": "65c745d1-446e-46c5-9dec-819c9f7944d3",
   "metadata": {},
   "outputs": [
    {
     "data": {
      "text/html": [
       "<div>\n",
       "<style scoped>\n",
       "    .dataframe tbody tr th:only-of-type {\n",
       "        vertical-align: middle;\n",
       "    }\n",
       "\n",
       "    .dataframe tbody tr th {\n",
       "        vertical-align: top;\n",
       "    }\n",
       "\n",
       "    .dataframe thead th {\n",
       "        text-align: right;\n",
       "    }\n",
       "</style>\n",
       "<table border=\"1\" class=\"dataframe\">\n",
       "  <thead>\n",
       "    <tr style=\"text-align: right;\">\n",
       "      <th></th>\n",
       "    </tr>\n",
       "  </thead>\n",
       "  <tbody>\n",
       "  </tbody>\n",
       "</table>\n",
       "</div>"
      ],
      "text/plain": [
       "Empty DataFrame\n",
       "Columns: []\n",
       "Index: []"
      ]
     },
     "execution_count": 12,
     "metadata": {},
     "output_type": "execute_result"
    }
   ],
   "source": [
    "if crawler_status == 'error':\n",
    "    output_error = pd.concat([output_error, pd.DataFrame([input_.iloc[a]]).reset_index(drop=True)], ignore_index=True).fillna('')\n",
    "\n",
    "output_error"
   ]
  },
  {
   "cell_type": "code",
   "execution_count": 13,
   "id": "7fd477de",
   "metadata": {},
   "outputs": [
    {
     "data": {
      "text/html": [
       "<div>\n",
       "<style scoped>\n",
       "    .dataframe tbody tr th:only-of-type {\n",
       "        vertical-align: middle;\n",
       "    }\n",
       "\n",
       "    .dataframe tbody tr th {\n",
       "        vertical-align: top;\n",
       "    }\n",
       "\n",
       "    .dataframe thead th {\n",
       "        text-align: right;\n",
       "    }\n",
       "</style>\n",
       "<table border=\"1\" class=\"dataframe\">\n",
       "  <thead>\n",
       "    <tr style=\"text-align: right;\">\n",
       "      <th></th>\n",
       "      <th>No</th>\n",
       "      <th>Part Number</th>\n",
       "      <th>rowId</th>\n",
       "      <th>site</th>\n",
       "      <th>webBase</th>\n",
       "      <th>brand</th>\n",
       "      <th>basePart</th>\n",
       "      <th>partDesc_en</th>\n",
       "      <th>partLongDesc_en</th>\n",
       "      <th>pop</th>\n",
       "      <th>...</th>\n",
       "      <th>mfG_Part</th>\n",
       "      <th>maxRows</th>\n",
       "      <th>brandLink</th>\n",
       "      <th>imageUrl</th>\n",
       "      <th>Picture</th>\n",
       "      <th>Url</th>\n",
       "      <th>Json_Vehicle</th>\n",
       "      <th>Json_Service</th>\n",
       "      <th>Json_Spec</th>\n",
       "      <th>Json_Src</th>\n",
       "    </tr>\n",
       "  </thead>\n",
       "  <tbody>\n",
       "    <tr>\n",
       "      <th>0</th>\n",
       "      <td>1</td>\n",
       "      <td>53021</td>\n",
       "      <td>1</td>\n",
       "      <td>FS</td>\n",
       "      <td>53021</td>\n",
       "      <td>FS</td>\n",
       "      <td>53021</td>\n",
       "      <td>Cooler Replacement Hose</td>\n",
       "      <td>Cooler Replacement Hose</td>\n",
       "      <td>F</td>\n",
       "      <td>...</td>\n",
       "      <td></td>\n",
       "      <td>1</td>\n",
       "      <td></td>\n",
       "      <td></td>\n",
       "      <td></td>\n",
       "      <td>https://www.4s.com/en/ecatalog?part=53021&amp;type...</td>\n",
       "      <td>{}</td>\n",
       "      <td>{\"0\": \"Fuel Filter Flush (Required)\", \"1\": \"Oi...</td>\n",
       "      <td>{\"0\": {\"Clamps Required?\": \"No\"}, \"1\": {\"Descr...</td>\n",
       "      <td>{\"0\": \"https://ecatalog.smpcorp.com/ihgs/image...</td>\n",
       "    </tr>\n",
       "  </tbody>\n",
       "</table>\n",
       "<p>1 rows × 26 columns</p>\n",
       "</div>"
      ],
      "text/plain": [
       "   No Part Number  rowId site webBase brand basePart              partDesc_en  \\\n",
       "0   1       53021      1   FS   53021    FS    53021  Cooler Replacement Hose   \n",
       "\n",
       "           partLongDesc_en pop  ... mfG_Part  maxRows brandLink imageUrl  \\\n",
       "0  Cooler Replacement Hose   F  ...                 1                      \n",
       "\n",
       "  Picture                                                Url Json_Vehicle  \\\n",
       "0          https://www.4s.com/en/ecatalog?part=53021&type...           {}   \n",
       "\n",
       "                                        Json_Service  \\\n",
       "0  {\"0\": \"Fuel Filter Flush (Required)\", \"1\": \"Oi...   \n",
       "\n",
       "                                           Json_Spec  \\\n",
       "0  {\"0\": {\"Clamps Required?\": \"No\"}, \"1\": {\"Descr...   \n",
       "\n",
       "                                            Json_Src  \n",
       "0  {\"0\": \"https://ecatalog.smpcorp.com/ihgs/image...  \n",
       "\n",
       "[1 rows x 26 columns]"
      ]
     },
     "execution_count": 13,
     "metadata": {},
     "output_type": "execute_result"
    }
   ],
   "source": [
    "if not output_correct.empty:\n",
    "    output_correct = output_correct.sort_values(by=['No'],\n",
    "                                                ascending=[True],\n",
    "                                                ignore_index=True)\n",
    "    output_correct.to_excel('./test_src.xlsx', index=False)\n",
    "\n",
    "output_correct"
   ]
  },
  {
   "cell_type": "code",
   "execution_count": 14,
   "id": "39a5441b-7f69-4812-aad8-7e10a1a24e78",
   "metadata": {},
   "outputs": [
    {
     "data": {
      "text/html": [
       "<div>\n",
       "<style scoped>\n",
       "    .dataframe tbody tr th:only-of-type {\n",
       "        vertical-align: middle;\n",
       "    }\n",
       "\n",
       "    .dataframe tbody tr th {\n",
       "        vertical-align: top;\n",
       "    }\n",
       "\n",
       "    .dataframe thead th {\n",
       "        text-align: right;\n",
       "    }\n",
       "</style>\n",
       "<table border=\"1\" class=\"dataframe\">\n",
       "  <thead>\n",
       "    <tr style=\"text-align: right;\">\n",
       "      <th></th>\n",
       "    </tr>\n",
       "  </thead>\n",
       "  <tbody>\n",
       "  </tbody>\n",
       "</table>\n",
       "</div>"
      ],
      "text/plain": [
       "Empty DataFrame\n",
       "Columns: []\n",
       "Index: []"
      ]
     },
     "execution_count": 14,
     "metadata": {},
     "output_type": "execute_result"
    }
   ],
   "source": [
    "if not output_error.empty:\n",
    "    output_error = output_error.sort_values(by=['No'],\n",
    "                                            ascending=[True],\n",
    "                                            ignore_index=True)\n",
    "    output_error.to_excel('./test_src_error.xlsx', index=False)\n",
    "\n",
    "output_error"
   ]
  },
  {
   "cell_type": "code",
   "execution_count": null,
   "id": "ba5d9f77-7464-4ad5-a42b-1fa0c0505832",
   "metadata": {},
   "outputs": [],
   "source": []
  }
 ],
 "metadata": {
  "kernelspec": {
   "display_name": "Python 3 (ipykernel)",
   "language": "python",
   "name": "python3"
  },
  "language_info": {
   "codemirror_mode": {
    "name": "ipython",
    "version": 3
   },
   "file_extension": ".py",
   "mimetype": "text/x-python",
   "name": "python",
   "nbconvert_exporter": "python",
   "pygments_lexer": "ipython3",
   "version": "3.11.3"
  }
 },
 "nbformat": 4,
 "nbformat_minor": 5
}
