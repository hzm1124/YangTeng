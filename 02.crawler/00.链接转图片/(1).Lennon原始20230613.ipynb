{
 "cells": [
  {
   "cell_type": "code",
   "execution_count": 1,
   "id": "84b2ba97",
   "metadata": {},
   "outputs": [],
   "source": [
    "from openpyxl import load_workbook"
   ]
  },
  {
   "cell_type": "code",
   "execution_count": 2,
   "id": "792c92ea",
   "metadata": {},
   "outputs": [
    {
     "name": "stdout",
     "output_type": "stream",
     "text": [
      "Src索引：13\n",
      "Pic索引：14\n"
     ]
    }
   ],
   "source": [
    "wb = load_workbook('./crawler.xlsx')\n",
    "ws = wb.active\n",
    "\n",
    "for column in range(1, ws.max_column+1):\n",
    "    if ws.cell(1, column).value == 'Src':\n",
    "        index_src = column\n",
    "    elif ws.cell(1, column).value == 'Pic':\n",
    "        index_pic = column\n",
    "        \n",
    "print('Src索引：' + str(index_src))\n",
    "print('Pic索引：' + str(index_pic))"
   ]
  },
  {
   "cell_type": "code",
   "execution_count": 3,
   "id": "db76849c",
   "metadata": {},
   "outputs": [],
   "source": [
    "import requests\n",
    "from io import BytesIO\n",
    "from openpyxl.drawing.image import Image"
   ]
  },
  {
   "cell_type": "code",
   "execution_count": 4,
   "id": "3cbdda3e",
   "metadata": {},
   "outputs": [
    {
     "data": {
      "text/plain": [
       "'https://cdn11.bigcommerce.com/s-z9vhe3o238/images/stencil/1280x1280/products/77089/5394664/482__84871.1687920912.jpg?c=1'"
      ]
     },
     "execution_count": 4,
     "metadata": {},
     "output_type": "execute_result"
    }
   ],
   "source": [
    "row = 2\n",
    "\n",
    "src = ws.cell(row, index_src).value\n",
    "\n",
    "src"
   ]
  },
  {
   "cell_type": "code",
   "execution_count": 5,
   "id": "d1a9fb79",
   "metadata": {},
   "outputs": [
    {
     "data": {
      "text/plain": [
       "<openpyxl.drawing.image.Image at 0x11d47b290>"
      ]
     },
     "execution_count": 5,
     "metadata": {},
     "output_type": "execute_result"
    }
   ],
   "source": [
    "pic = Image(BytesIO(requests.get(src).content))\n",
    "\n",
    "pic"
   ]
  },
  {
   "cell_type": "code",
   "execution_count": 6,
   "id": "6d625bf6",
   "metadata": {},
   "outputs": [
    {
     "name": "stdout",
     "output_type": "stream",
     "text": [
      "Pic宽度：50.0\n",
      "Pic高度：50.0\n"
     ]
    }
   ],
   "source": [
    "if pic.width >= pic.height:\n",
    "    pic.height = 50.0 / pic.width * pic.height\n",
    "    pic.width = 50.0\n",
    "else:\n",
    "    pic.width = 50.0 / pic.height * pic.width\n",
    "    pic.height = 50.0\n",
    "    \n",
    "print('Pic宽度：' + str(pic.width))\n",
    "print('Pic高度：' + str(pic.height))"
   ]
  },
  {
   "cell_type": "code",
   "execution_count": 7,
   "id": "d1e431bc",
   "metadata": {},
   "outputs": [],
   "source": [
    "from openpyxl.utils import get_column_letter\n",
    "\n",
    "ws.add_image(pic, get_column_letter(index_pic) + str(row))"
   ]
  },
  {
   "cell_type": "code",
   "execution_count": 8,
   "id": "d221df1c",
   "metadata": {},
   "outputs": [],
   "source": [
    "wb.save('./crawler-pic.xlsx')"
   ]
  },
  {
   "cell_type": "code",
   "execution_count": null,
   "id": "62ae0ab9",
   "metadata": {},
   "outputs": [],
   "source": []
  }
 ],
 "metadata": {
  "kernelspec": {
   "display_name": "Python 3 (ipykernel)",
   "language": "python",
   "name": "python3"
  },
  "language_info": {
   "codemirror_mode": {
    "name": "ipython",
    "version": 3
   },
   "file_extension": ".py",
   "mimetype": "text/x-python",
   "name": "python",
   "nbconvert_exporter": "python",
   "pygments_lexer": "ipython3",
   "version": "3.11.3"
  }
 },
 "nbformat": 4,
 "nbformat_minor": 5
}
