{
 "cells": [
  {
   "cell_type": "code",
   "execution_count": 1,
   "id": "71614073",
   "metadata": {},
   "outputs": [],
   "source": [
    "import os"
   ]
  },
  {
   "cell_type": "code",
   "execution_count": 2,
   "id": "d7e2ceae",
   "metadata": {},
   "outputs": [
    {
     "name": "stdout",
     "output_type": "stream",
     "text": [
      "\talternate: \t./替代料总表08-14.xlsx\n"
     ]
    }
   ],
   "source": [
    "list_file = list(os.walk('./'))[0][2]\n",
    "for file in list_file:\n",
    "    if '替代料总表' in file:\n",
    "        alternate = './' + file\n",
    "\n",
    "print(f'\\talternate: \\t{alternate}')"
   ]
  },
  {
   "cell_type": "code",
   "execution_count": 3,
   "id": "ea4185ce",
   "metadata": {},
   "outputs": [],
   "source": [
    "import pandas as pd"
   ]
  },
  {
   "cell_type": "code",
   "execution_count": 4,
   "id": "2ec8e403",
   "metadata": {},
   "outputs": [
    {
     "data": {
      "text/html": [
       "<div>\n",
       "<style scoped>\n",
       "    .dataframe tbody tr th:only-of-type {\n",
       "        vertical-align: middle;\n",
       "    }\n",
       "\n",
       "    .dataframe tbody tr th {\n",
       "        vertical-align: top;\n",
       "    }\n",
       "\n",
       "    .dataframe thead th {\n",
       "        text-align: right;\n",
       "    }\n",
       "</style>\n",
       "<table border=\"1\" class=\"dataframe\">\n",
       "  <thead>\n",
       "    <tr style=\"text-align: right;\">\n",
       "      <th></th>\n",
       "      <th>主料SKU</th>\n",
       "      <th>替换料1</th>\n",
       "      <th>替换料2</th>\n",
       "      <th>替换料3</th>\n",
       "      <th>替换料4</th>\n",
       "      <th>替换料5</th>\n",
       "      <th>替换料6</th>\n",
       "    </tr>\n",
       "  </thead>\n",
       "  <tbody>\n",
       "    <tr>\n",
       "      <th>0</th>\n",
       "      <td>USCA171876D-3</td>\n",
       "      <td>USCA171876D</td>\n",
       "      <td>USCA171876-3</td>\n",
       "      <td>USCA171876</td>\n",
       "      <td></td>\n",
       "      <td></td>\n",
       "      <td></td>\n",
       "    </tr>\n",
       "    <tr>\n",
       "      <th>1</th>\n",
       "      <td>USWM42150B</td>\n",
       "      <td>USWM42150</td>\n",
       "      <td></td>\n",
       "      <td></td>\n",
       "      <td></td>\n",
       "      <td></td>\n",
       "      <td></td>\n",
       "    </tr>\n",
       "    <tr>\n",
       "      <th>2</th>\n",
       "      <td>USGS37022T</td>\n",
       "      <td>USGS37022G</td>\n",
       "      <td>USGS37022</td>\n",
       "      <td>USGS37022J</td>\n",
       "      <td></td>\n",
       "      <td></td>\n",
       "      <td></td>\n",
       "    </tr>\n",
       "    <tr>\n",
       "      <th>3</th>\n",
       "      <td>USGS36761TB</td>\n",
       "      <td>USGS36761</td>\n",
       "      <td>USGS36761T</td>\n",
       "      <td></td>\n",
       "      <td></td>\n",
       "      <td></td>\n",
       "      <td></td>\n",
       "    </tr>\n",
       "    <tr>\n",
       "      <th>4</th>\n",
       "      <td>USGS41570B</td>\n",
       "      <td>USGS41570</td>\n",
       "      <td></td>\n",
       "      <td></td>\n",
       "      <td></td>\n",
       "      <td></td>\n",
       "      <td></td>\n",
       "    </tr>\n",
       "    <tr>\n",
       "      <th>...</th>\n",
       "      <td>...</td>\n",
       "      <td>...</td>\n",
       "      <td>...</td>\n",
       "      <td>...</td>\n",
       "      <td>...</td>\n",
       "      <td>...</td>\n",
       "      <td>...</td>\n",
       "    </tr>\n",
       "    <tr>\n",
       "      <th>34452</th>\n",
       "      <td>USHHS41307-C</td>\n",
       "      <td>USHHS41307</td>\n",
       "      <td></td>\n",
       "      <td></td>\n",
       "      <td></td>\n",
       "      <td></td>\n",
       "      <td></td>\n",
       "    </tr>\n",
       "    <tr>\n",
       "      <th>34453</th>\n",
       "      <td>USHHS41308-C</td>\n",
       "      <td>USHHS41308</td>\n",
       "      <td></td>\n",
       "      <td></td>\n",
       "      <td></td>\n",
       "      <td></td>\n",
       "      <td></td>\n",
       "    </tr>\n",
       "    <tr>\n",
       "      <th>34454</th>\n",
       "      <td>USHHS94130-C</td>\n",
       "      <td>USHHS94130</td>\n",
       "      <td></td>\n",
       "      <td></td>\n",
       "      <td></td>\n",
       "      <td></td>\n",
       "      <td></td>\n",
       "    </tr>\n",
       "    <tr>\n",
       "      <th>34455</th>\n",
       "      <td>USHHS94131-C</td>\n",
       "      <td>USHHS94131</td>\n",
       "      <td></td>\n",
       "      <td></td>\n",
       "      <td></td>\n",
       "      <td></td>\n",
       "      <td></td>\n",
       "    </tr>\n",
       "    <tr>\n",
       "      <th>34456</th>\n",
       "      <td>USEVC70292MU-C</td>\n",
       "      <td>USEVC70292M-C</td>\n",
       "      <td>USEVC70292M</td>\n",
       "      <td>USEVC70292</td>\n",
       "      <td>USEVC70292Y</td>\n",
       "      <td></td>\n",
       "      <td></td>\n",
       "    </tr>\n",
       "  </tbody>\n",
       "</table>\n",
       "<p>34457 rows × 7 columns</p>\n",
       "</div>"
      ],
      "text/plain": [
       "                主料SKU           替换料1          替换料2        替换料3         替换料4  \\\n",
       "0       USCA171876D-3    USCA171876D  USCA171876-3  USCA171876                \n",
       "1          USWM42150B      USWM42150                                          \n",
       "2          USGS37022T     USGS37022G     USGS37022  USGS37022J                \n",
       "3         USGS36761TB      USGS36761    USGS36761T                            \n",
       "4          USGS41570B      USGS41570                                          \n",
       "...               ...            ...           ...         ...          ...   \n",
       "34452    USHHS41307-C     USHHS41307                                          \n",
       "34453    USHHS41308-C     USHHS41308                                          \n",
       "34454    USHHS94130-C     USHHS94130                                          \n",
       "34455    USHHS94131-C     USHHS94131                                          \n",
       "34456  USEVC70292MU-C  USEVC70292M-C   USEVC70292M  USEVC70292  USEVC70292Y   \n",
       "\n",
       "      替换料5 替换料6  \n",
       "0                \n",
       "1                \n",
       "2                \n",
       "3                \n",
       "4                \n",
       "...    ...  ...  \n",
       "34452            \n",
       "34453            \n",
       "34454            \n",
       "34455            \n",
       "34456            \n",
       "\n",
       "[34457 rows x 7 columns]"
      ]
     },
     "execution_count": 4,
     "metadata": {},
     "output_type": "execute_result"
    }
   ],
   "source": [
    "df_alternate = pd.read_excel(alternate,\n",
    "                             header=1)[['主料SKU', '替换料1', '替换料2', '替换料3', '替换料4', '替换料5', '替换料6']].fillna('')\n",
    "\n",
    "df_alternate = df_alternate[df_alternate['替换料1'] != ''].reset_index(drop=True)\n",
    "\n",
    "df_alternate"
   ]
  },
  {
   "cell_type": "code",
   "execution_count": 5,
   "id": "275ff1f0",
   "metadata": {},
   "outputs": [],
   "source": [
    "from tqdm import tqdm"
   ]
  },
  {
   "cell_type": "code",
   "execution_count": 6,
   "id": "2b0b8a49",
   "metadata": {},
   "outputs": [
    {
     "name": "stdout",
     "output_type": "stream",
     "text": [
      "# = = = = = = = 0 = = = = = = = = = =\n"
     ]
    },
    {
     "name": "stderr",
     "output_type": "stream",
     "text": [
      "运行中: 100%|█████████████████████████| 34457/34457 [02:09<00:00, 267.10it/s]\n"
     ]
    },
    {
     "name": "stdout",
     "output_type": "stream",
     "text": [
      "\n",
      "# = = = = = = = 1 = = = = = = = = = =\n"
     ]
    },
    {
     "name": "stderr",
     "output_type": "stream",
     "text": [
      "运行中: 100%|█████████████████████████| 34445/34445 [02:09<00:00, 265.10it/s]\n"
     ]
    }
   ],
   "source": [
    "count = 0\n",
    "while True:\n",
    "    print('# = = = = = = = ' + str(count) + ' = = = = = = = = = =')\n",
    "    list_row = []\n",
    "    for i in tqdm(range(len(df_alternate)), desc='运行中', ncols=77):\n",
    "        list_sku = list(set(df_alternate.loc[i].tolist()))\n",
    "        if '' in list_sku:\n",
    "            list_sku.remove('')\n",
    "\n",
    "        find = False\n",
    "        for sku in list_sku:\n",
    "            for j in range(len(list_row)):\n",
    "                if sku in list_row[j]:\n",
    "                    list_row[j] = list(set(list_row[j] + list_sku))\n",
    "                    find = True\n",
    "                    break\n",
    "            if find == True:\n",
    "                break\n",
    "\n",
    "        if find == False:\n",
    "            list_row.append(list_sku)  \n",
    "        \n",
    "    if len(list_row) == len(df_alternate):\n",
    "        break\n",
    "    else:\n",
    "        df_alternate = pd.DataFrame(list_row).fillna('')\n",
    "        df_alternate.columns = ['主料SKU'] + ['替换料'+str(i) for i in range(1, len(df_alternate.columns))]\n",
    "        count += 1\n",
    "        print()"
   ]
  },
  {
   "cell_type": "code",
   "execution_count": 7,
   "id": "9ca62830",
   "metadata": {},
   "outputs": [],
   "source": [
    "import datetime"
   ]
  },
  {
   "cell_type": "code",
   "execution_count": 8,
   "id": "34a9a930",
   "metadata": {},
   "outputs": [],
   "source": [
    "writer = pd.ExcelWriter('Lennon_整理好的替代料总表_' + datetime.datetime.now().strftime(\"%Y%m%d_%H%M%S\") + '.xlsx')\n",
    "df_alternate.to_excel(writer, index=False)\n",
    "writer.close()"
   ]
  },
  {
   "cell_type": "code",
   "execution_count": null,
   "id": "5fb2c440",
   "metadata": {},
   "outputs": [],
   "source": []
  }
 ],
 "metadata": {
  "kernelspec": {
   "display_name": "Python 3 (ipykernel)",
   "language": "python",
   "name": "python3"
  },
  "language_info": {
   "codemirror_mode": {
    "name": "ipython",
    "version": 3
   },
   "file_extension": ".py",
   "mimetype": "text/x-python",
   "name": "python",
   "nbconvert_exporter": "python",
   "pygments_lexer": "ipython3",
   "version": "3.11.3"
  }
 },
 "nbformat": 4,
 "nbformat_minor": 5
}
