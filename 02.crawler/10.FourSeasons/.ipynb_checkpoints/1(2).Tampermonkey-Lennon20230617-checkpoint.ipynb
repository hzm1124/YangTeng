{
 "cells": [
  {
   "cell_type": "code",
   "execution_count": 1,
   "id": "14ca4672",
   "metadata": {},
   "outputs": [],
   "source": [
    "import os"
   ]
  },
  {
   "cell_type": "code",
   "execution_count": 2,
   "id": "a3369d1a",
   "metadata": {},
   "outputs": [
    {
     "data": {
      "text/plain": [
       "15"
      ]
     },
     "execution_count": 2,
     "metadata": {},
     "output_type": "execute_result"
    }
   ],
   "source": [
    "list_file = list(os.walk('./menu'))[0][2]\n",
    "if '.DS_Store' in list_file:\n",
    "   list_file.remove('.DS_Store')\n",
    "\n",
    "len(list_file)"
   ]
  },
  {
   "cell_type": "code",
   "execution_count": 3,
   "id": "552c5c8c",
   "metadata": {},
   "outputs": [],
   "source": [
    "import pandas as pd"
   ]
  },
  {
   "cell_type": "code",
   "execution_count": 4,
   "id": "19a50da8",
   "metadata": {},
   "outputs": [
    {
     "data": {
      "text/html": [
       "<div>\n",
       "<style scoped>\n",
       "    .dataframe tbody tr th:only-of-type {\n",
       "        vertical-align: middle;\n",
       "    }\n",
       "\n",
       "    .dataframe tbody tr th {\n",
       "        vertical-align: top;\n",
       "    }\n",
       "\n",
       "    .dataframe thead th {\n",
       "        text-align: right;\n",
       "    }\n",
       "</style>\n",
       "<table border=\"1\" class=\"dataframe\">\n",
       "  <thead>\n",
       "    <tr style=\"text-align: right;\">\n",
       "      <th></th>\n",
       "      <th>Part_Number</th>\n",
       "      <th>Url</th>\n",
       "    </tr>\n",
       "  </thead>\n",
       "  <tbody>\n",
       "  </tbody>\n",
       "</table>\n",
       "</div>"
      ],
      "text/plain": [
       "Empty DataFrame\n",
       "Columns: [Part_Number, Url]\n",
       "Index: []"
      ]
     },
     "execution_count": 4,
     "metadata": {},
     "output_type": "execute_result"
    }
   ],
   "source": [
    "df = pd.DataFrame(columns=['Part_Number', 'Url'])\n",
    "\n",
    "df"
   ]
  },
  {
   "cell_type": "code",
   "execution_count": 5,
   "id": "000d53d7",
   "metadata": {},
   "outputs": [],
   "source": [
    "import json"
   ]
  },
  {
   "cell_type": "code",
   "execution_count": 6,
   "id": "1d3df716",
   "metadata": {},
   "outputs": [
    {
     "name": "stdout",
     "output_type": "stream",
     "text": [
      "1688548348180.txt\n",
      "1688548357854.txt\n",
      "1688548402414.txt\n",
      "1688548351761.txt\n",
      "1688548344257.txt\n",
      "1688548380367.txt\n",
      "1688548394677.txt\n",
      "1688548372118.txt\n",
      "1688548320702.txt\n",
      "1688548340158.txt\n",
      "1688548385612.txt\n",
      "1688548390817.txt\n",
      "1688548361337.txt\n",
      "1688548376266.txt\n",
      "1688548366716.txt\n"
     ]
    }
   ],
   "source": [
    "for file in list_file:\n",
    "    print(file)\n",
    "    with open('./menu/' + file) as f:\n",
    "        list_part = f.read()[1:-1].split('},{')\n",
    "        for i in range(len(list_part)):\n",
    "            if i == 0:\n",
    "                part = json.loads(list_part[i] + '}')\n",
    "            elif i == len(list_part) - 1:\n",
    "                part = json.loads('{' + list_part[i])\n",
    "            else:\n",
    "                part = json.loads('{' + list_part[i] + '}')\n",
    "                \n",
    "            df_temp = pd.DataFrame([{'Part_Number': part['Part_Number'],\n",
    "                                     'Url': part['Url']}])\n",
    "            df = pd.concat([df, df_temp], ignore_index=True)"
   ]
  },
  {
   "cell_type": "code",
   "execution_count": 7,
   "id": "e7c8e52b",
   "metadata": {},
   "outputs": [
    {
     "data": {
      "text/html": [
       "<div>\n",
       "<style scoped>\n",
       "    .dataframe tbody tr th:only-of-type {\n",
       "        vertical-align: middle;\n",
       "    }\n",
       "\n",
       "    .dataframe tbody tr th {\n",
       "        vertical-align: top;\n",
       "    }\n",
       "\n",
       "    .dataframe thead th {\n",
       "        text-align: right;\n",
       "    }\n",
       "</style>\n",
       "<table border=\"1\" class=\"dataframe\">\n",
       "  <thead>\n",
       "    <tr style=\"text-align: right;\">\n",
       "      <th></th>\n",
       "      <th>Part_Number</th>\n",
       "      <th>Url</th>\n",
       "    </tr>\n",
       "  </thead>\n",
       "  <tbody>\n",
       "    <tr>\n",
       "      <th>0</th>\n",
       "      <td>20412</td>\n",
       "      <td>https://ecatalog.smpcorp.com/v2/fs/#/partdetai...</td>\n",
       "    </tr>\n",
       "    <tr>\n",
       "      <th>1</th>\n",
       "      <td>20413</td>\n",
       "      <td>https://ecatalog.smpcorp.com/v2/fs/#/partdetai...</td>\n",
       "    </tr>\n",
       "    <tr>\n",
       "      <th>2</th>\n",
       "      <td>20414</td>\n",
       "      <td>https://ecatalog.smpcorp.com/v2/fs/#/partdetai...</td>\n",
       "    </tr>\n",
       "    <tr>\n",
       "      <th>3</th>\n",
       "      <td>20415</td>\n",
       "      <td>https://ecatalog.smpcorp.com/v2/fs/#/partdetai...</td>\n",
       "    </tr>\n",
       "    <tr>\n",
       "      <th>4</th>\n",
       "      <td>20416</td>\n",
       "      <td>https://ecatalog.smpcorp.com/v2/fs/#/partdetai...</td>\n",
       "    </tr>\n",
       "    <tr>\n",
       "      <th>...</th>\n",
       "      <td>...</td>\n",
       "      <td>...</td>\n",
       "    </tr>\n",
       "    <tr>\n",
       "      <th>1426</th>\n",
       "      <td>35570</td>\n",
       "      <td>https://ecatalog.smpcorp.com/v2/fs/#/partdetai...</td>\n",
       "    </tr>\n",
       "    <tr>\n",
       "      <th>1427</th>\n",
       "      <td>35571</td>\n",
       "      <td>https://ecatalog.smpcorp.com/v2/fs/#/partdetai...</td>\n",
       "    </tr>\n",
       "    <tr>\n",
       "      <th>1428</th>\n",
       "      <td>35572</td>\n",
       "      <td>https://ecatalog.smpcorp.com/v2/fs/#/partdetai...</td>\n",
       "    </tr>\n",
       "    <tr>\n",
       "      <th>1429</th>\n",
       "      <td>35576</td>\n",
       "      <td>https://ecatalog.smpcorp.com/v2/fs/#/partdetai...</td>\n",
       "    </tr>\n",
       "    <tr>\n",
       "      <th>1430</th>\n",
       "      <td>35577</td>\n",
       "      <td>https://ecatalog.smpcorp.com/v2/fs/#/partdetai...</td>\n",
       "    </tr>\n",
       "  </tbody>\n",
       "</table>\n",
       "<p>1431 rows × 2 columns</p>\n",
       "</div>"
      ],
      "text/plain": [
       "     Part_Number                                                Url\n",
       "0          20412  https://ecatalog.smpcorp.com/v2/fs/#/partdetai...\n",
       "1          20413  https://ecatalog.smpcorp.com/v2/fs/#/partdetai...\n",
       "2          20414  https://ecatalog.smpcorp.com/v2/fs/#/partdetai...\n",
       "3          20415  https://ecatalog.smpcorp.com/v2/fs/#/partdetai...\n",
       "4          20416  https://ecatalog.smpcorp.com/v2/fs/#/partdetai...\n",
       "...          ...                                                ...\n",
       "1426       35570  https://ecatalog.smpcorp.com/v2/fs/#/partdetai...\n",
       "1427       35571  https://ecatalog.smpcorp.com/v2/fs/#/partdetai...\n",
       "1428       35572  https://ecatalog.smpcorp.com/v2/fs/#/partdetai...\n",
       "1429       35576  https://ecatalog.smpcorp.com/v2/fs/#/partdetai...\n",
       "1430       35577  https://ecatalog.smpcorp.com/v2/fs/#/partdetai...\n",
       "\n",
       "[1431 rows x 2 columns]"
      ]
     },
     "execution_count": 7,
     "metadata": {},
     "output_type": "execute_result"
    }
   ],
   "source": [
    "df.to_excel('./menu.xlsx', index=False)\n",
    "\n",
    "df"
   ]
  },
  {
   "cell_type": "code",
   "execution_count": null,
   "id": "f1b946e9",
   "metadata": {},
   "outputs": [],
   "source": []
  }
 ],
 "metadata": {
  "kernelspec": {
   "display_name": "Python 3 (ipykernel)",
   "language": "python",
   "name": "python3"
  },
  "language_info": {
   "codemirror_mode": {
    "name": "ipython",
    "version": 3
   },
   "file_extension": ".py",
   "mimetype": "text/x-python",
   "name": "python",
   "nbconvert_exporter": "python",
   "pygments_lexer": "ipython3",
   "version": "3.11.3"
  }
 },
 "nbformat": 4,
 "nbformat_minor": 5
}
