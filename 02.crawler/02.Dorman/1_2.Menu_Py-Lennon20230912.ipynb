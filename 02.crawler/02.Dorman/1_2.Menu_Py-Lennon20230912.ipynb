{
 "cells": [
  {
   "cell_type": "code",
   "execution_count": 1,
   "id": "443b16ef",
   "metadata": {},
   "outputs": [],
   "source": [
    "import os"
   ]
  },
  {
   "cell_type": "code",
   "execution_count": 2,
   "id": "e1ee23bd",
   "metadata": {},
   "outputs": [
    {
     "data": {
      "text/plain": [
       "4"
      ]
     },
     "execution_count": 2,
     "metadata": {},
     "output_type": "execute_result"
    }
   ],
   "source": [
    "list_file = list(os.walk('./menu'))[0][2]\n",
    "if '.DS_Store' in list_file:\n",
    "    list_file.remove('.DS_Store')\n",
    "if '0.null.txt' in list_file:\n",
    "    list_file.remove('0.null.txt')\n",
    "    \n",
    "len(list_file)"
   ]
  },
  {
   "cell_type": "code",
   "execution_count": 3,
   "id": "cacdee29",
   "metadata": {},
   "outputs": [],
   "source": [
    "import pandas as pd"
   ]
  },
  {
   "cell_type": "code",
   "execution_count": 4,
   "id": "ffbee2c2",
   "metadata": {},
   "outputs": [
    {
     "data": {
      "text/html": [
       "<div>\n",
       "<style scoped>\n",
       "    .dataframe tbody tr th:only-of-type {\n",
       "        vertical-align: middle;\n",
       "    }\n",
       "\n",
       "    .dataframe tbody tr th {\n",
       "        vertical-align: top;\n",
       "    }\n",
       "\n",
       "    .dataframe thead th {\n",
       "        text-align: right;\n",
       "    }\n",
       "</style>\n",
       "<table border=\"1\" class=\"dataframe\">\n",
       "  <thead>\n",
       "    <tr style=\"text-align: right;\">\n",
       "      <th></th>\n",
       "    </tr>\n",
       "  </thead>\n",
       "  <tbody>\n",
       "  </tbody>\n",
       "</table>\n",
       "</div>"
      ],
      "text/plain": [
       "Empty DataFrame\n",
       "Columns: []\n",
       "Index: []"
      ]
     },
     "execution_count": 4,
     "metadata": {},
     "output_type": "execute_result"
    }
   ],
   "source": [
    "df = pd.DataFrame()\n",
    "\n",
    "df"
   ]
  },
  {
   "cell_type": "code",
   "execution_count": 5,
   "id": "e4ebde72",
   "metadata": {},
   "outputs": [],
   "source": [
    "from tqdm import tqdm\n",
    "import json"
   ]
  },
  {
   "cell_type": "code",
   "execution_count": 6,
   "id": "bb001936",
   "metadata": {},
   "outputs": [
    {
     "name": "stderr",
     "output_type": "stream",
     "text": [
      "进度: 100%|███████████████████████████████████| 4/4 [00:00<00:00, 732.18it/s]\n"
     ]
    },
    {
     "data": {
      "text/html": [
       "<div>\n",
       "<style scoped>\n",
       "    .dataframe tbody tr th:only-of-type {\n",
       "        vertical-align: middle;\n",
       "    }\n",
       "\n",
       "    .dataframe tbody tr th {\n",
       "        vertical-align: top;\n",
       "    }\n",
       "\n",
       "    .dataframe thead th {\n",
       "        text-align: right;\n",
       "    }\n",
       "</style>\n",
       "<table border=\"1\" class=\"dataframe\">\n",
       "  <thead>\n",
       "    <tr style=\"text-align: right;\">\n",
       "      <th></th>\n",
       "      <th>Url</th>\n",
       "      <th>No.</th>\n",
       "      <th>Part_Number</th>\n",
       "      <th>Part_Type</th>\n",
       "      <th>Src</th>\n",
       "    </tr>\n",
       "  </thead>\n",
       "  <tbody>\n",
       "    <tr>\n",
       "      <th>0</th>\n",
       "      <td>https://www.dormanproducts.com/p-132253-574-01...</td>\n",
       "      <td>1</td>\n",
       "      <td>574-014</td>\n",
       "      <td>Fuel Filler Neck Assembly</td>\n",
       "      <td>https://static.dormanproducts.com/images/produ...</td>\n",
       "    </tr>\n",
       "    <tr>\n",
       "      <th>1</th>\n",
       "      <td>https://www.dormanproducts.com/p-132359-574-01...</td>\n",
       "      <td>2</td>\n",
       "      <td>574-015</td>\n",
       "      <td>Fuel Filler Neck Assembly</td>\n",
       "      <td>https://static.dormanproducts.com/images/produ...</td>\n",
       "    </tr>\n",
       "    <tr>\n",
       "      <th>2</th>\n",
       "      <td>https://www.dormanproducts.com/p-132361-574-02...</td>\n",
       "      <td>3</td>\n",
       "      <td>574-021</td>\n",
       "      <td>Fuel Filler Neck Assembly</td>\n",
       "      <td>https://static.dormanproducts.com/images/produ...</td>\n",
       "    </tr>\n",
       "    <tr>\n",
       "      <th>3</th>\n",
       "      <td>https://www.dormanproducts.com/p-141534-574-07...</td>\n",
       "      <td>4</td>\n",
       "      <td>574-073</td>\n",
       "      <td>Fuel Filler Neck</td>\n",
       "      <td>https://static.dormanproducts.com/images/produ...</td>\n",
       "    </tr>\n",
       "    <tr>\n",
       "      <th>4</th>\n",
       "      <td>https://www.dormanproducts.com/p-134355-574-12...</td>\n",
       "      <td>5</td>\n",
       "      <td>574-120</td>\n",
       "      <td>Fuel Filler Neck</td>\n",
       "      <td>https://static.dormanproducts.com/images/produ...</td>\n",
       "    </tr>\n",
       "    <tr>\n",
       "      <th>...</th>\n",
       "      <td>...</td>\n",
       "      <td>...</td>\n",
       "      <td>...</td>\n",
       "      <td>...</td>\n",
       "      <td>...</td>\n",
       "    </tr>\n",
       "    <tr>\n",
       "      <th>87</th>\n",
       "      <td>https://www.dormanproducts.com/p-75339-577-270...</td>\n",
       "      <td>88</td>\n",
       "      <td>577-270</td>\n",
       "      <td>Fuel Tank Filler Neck</td>\n",
       "      <td>https://static.dormanproducts.com/images/produ...</td>\n",
       "    </tr>\n",
       "    <tr>\n",
       "      <th>88</th>\n",
       "      <td>https://www.dormanproducts.com/p-125970-577-10...</td>\n",
       "      <td>89</td>\n",
       "      <td>577-100</td>\n",
       "      <td>Fuel Tank Filler Neck</td>\n",
       "      <td>https://static.dormanproducts.com/images/produ...</td>\n",
       "    </tr>\n",
       "    <tr>\n",
       "      <th>89</th>\n",
       "      <td>https://www.dormanproducts.com/p-50259-577-099...</td>\n",
       "      <td>90</td>\n",
       "      <td>577-099</td>\n",
       "      <td>Fuel Tank Filler Neck</td>\n",
       "      <td>https://static.dormanproducts.com/images/produ...</td>\n",
       "    </tr>\n",
       "    <tr>\n",
       "      <th>90</th>\n",
       "      <td>https://www.dormanproducts.com/p-85652-577-365...</td>\n",
       "      <td>91</td>\n",
       "      <td>577-365</td>\n",
       "      <td>Fuel Filler Neck Tube</td>\n",
       "      <td>https://static.dormanproducts.com/images/produ...</td>\n",
       "    </tr>\n",
       "    <tr>\n",
       "      <th>91</th>\n",
       "      <td>https://www.dormanproducts.com/p-84180-577-352...</td>\n",
       "      <td>92</td>\n",
       "      <td>577-352</td>\n",
       "      <td>Fuel Filler Neck Tube</td>\n",
       "      <td>https://static.dormanproducts.com/images/produ...</td>\n",
       "    </tr>\n",
       "  </tbody>\n",
       "</table>\n",
       "<p>392 rows × 5 columns</p>\n",
       "</div>"
      ],
      "text/plain": [
       "                                                  Url  No. Part_Number  \\\n",
       "0   https://www.dormanproducts.com/p-132253-574-01...    1     574-014   \n",
       "1   https://www.dormanproducts.com/p-132359-574-01...    2     574-015   \n",
       "2   https://www.dormanproducts.com/p-132361-574-02...    3     574-021   \n",
       "3   https://www.dormanproducts.com/p-141534-574-07...    4     574-073   \n",
       "4   https://www.dormanproducts.com/p-134355-574-12...    5     574-120   \n",
       "..                                                ...  ...         ...   \n",
       "87  https://www.dormanproducts.com/p-75339-577-270...   88     577-270   \n",
       "88  https://www.dormanproducts.com/p-125970-577-10...   89     577-100   \n",
       "89  https://www.dormanproducts.com/p-50259-577-099...   90     577-099   \n",
       "90  https://www.dormanproducts.com/p-85652-577-365...   91     577-365   \n",
       "91  https://www.dormanproducts.com/p-84180-577-352...   92     577-352   \n",
       "\n",
       "                    Part_Type  \\\n",
       "0   Fuel Filler Neck Assembly   \n",
       "1   Fuel Filler Neck Assembly   \n",
       "2   Fuel Filler Neck Assembly   \n",
       "3            Fuel Filler Neck   \n",
       "4            Fuel Filler Neck   \n",
       "..                        ...   \n",
       "87      Fuel Tank Filler Neck   \n",
       "88      Fuel Tank Filler Neck   \n",
       "89      Fuel Tank Filler Neck   \n",
       "90      Fuel Filler Neck Tube   \n",
       "91      Fuel Filler Neck Tube   \n",
       "\n",
       "                                                  Src  \n",
       "0   https://static.dormanproducts.com/images/produ...  \n",
       "1   https://static.dormanproducts.com/images/produ...  \n",
       "2   https://static.dormanproducts.com/images/produ...  \n",
       "3   https://static.dormanproducts.com/images/produ...  \n",
       "4   https://static.dormanproducts.com/images/produ...  \n",
       "..                                                ...  \n",
       "87  https://static.dormanproducts.com/images/produ...  \n",
       "88  https://static.dormanproducts.com/images/produ...  \n",
       "89  https://static.dormanproducts.com/images/produ...  \n",
       "90  https://static.dormanproducts.com/images/produ...  \n",
       "91  https://static.dormanproducts.com/images/produ...  \n",
       "\n",
       "[392 rows x 5 columns]"
      ]
     },
     "execution_count": 6,
     "metadata": {},
     "output_type": "execute_result"
    }
   ],
   "source": [
    "for file in tqdm(list_file, desc='进度', ncols=77):\n",
    "    with open('./menu/' + file, 'r', encoding='UTF-8') as f:\n",
    "        df = pd.concat([df, pd.DataFrame(json.loads(f.read()))], ignore_index=False)\n",
    "        \n",
    "df = df[['Url', 'No.', 'Part_Number', 'Part_Type', 'Src']]\n",
    "\n",
    "df.to_excel('./menu.xlsx', index=False)\n",
    "\n",
    "df"
   ]
  },
  {
   "cell_type": "code",
   "execution_count": null,
   "id": "9e180f9f",
   "metadata": {},
   "outputs": [],
   "source": []
  }
 ],
 "metadata": {
  "kernelspec": {
   "display_name": "Python 3 (ipykernel)",
   "language": "python",
   "name": "python3"
  },
  "language_info": {
   "codemirror_mode": {
    "name": "ipython",
    "version": 3
   },
   "file_extension": ".py",
   "mimetype": "text/x-python",
   "name": "python",
   "nbconvert_exporter": "python",
   "pygments_lexer": "ipython3",
   "version": "3.11.5"
  }
 },
 "nbformat": 4,
 "nbformat_minor": 5
}
