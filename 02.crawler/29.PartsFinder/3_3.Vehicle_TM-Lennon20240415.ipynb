{
 "cells": [
  {
   "cell_type": "code",
   "execution_count": 1,
   "id": "922cf64a",
   "metadata": {},
   "outputs": [],
   "source": [
    "import os"
   ]
  },
  {
   "cell_type": "code",
   "execution_count": 2,
   "id": "8d082990",
   "metadata": {},
   "outputs": [
    {
     "data": {
      "text/plain": [
       "6"
      ]
     },
     "execution_count": 2,
     "metadata": {},
     "output_type": "execute_result"
    }
   ],
   "source": [
    "list_file = list(os.walk('./vehicle'))[0][2]\n",
    "if '.DS_Store' in list_file:\n",
    "    list_file.remove('.DS_Store')\n",
    "if '0.null.txt' in list_file:\n",
    "    list_file.remove('0.null.txt')\n",
    "    \n",
    "list_file.sort()\n",
    "    \n",
    "len(list_file)"
   ]
  },
  {
   "cell_type": "code",
   "execution_count": 3,
   "id": "314f4cab",
   "metadata": {},
   "outputs": [],
   "source": [
    "import pandas as pd"
   ]
  },
  {
   "cell_type": "code",
   "execution_count": 4,
   "id": "a21ee82d",
   "metadata": {},
   "outputs": [
    {
     "data": {
      "text/html": [
       "<div>\n",
       "<style scoped>\n",
       "    .dataframe tbody tr th:only-of-type {\n",
       "        vertical-align: middle;\n",
       "    }\n",
       "\n",
       "    .dataframe tbody tr th {\n",
       "        vertical-align: top;\n",
       "    }\n",
       "\n",
       "    .dataframe thead th {\n",
       "        text-align: right;\n",
       "    }\n",
       "</style>\n",
       "<table border=\"1\" class=\"dataframe\">\n",
       "  <thead>\n",
       "    <tr style=\"text-align: right;\">\n",
       "      <th></th>\n",
       "    </tr>\n",
       "  </thead>\n",
       "  <tbody>\n",
       "  </tbody>\n",
       "</table>\n",
       "</div>"
      ],
      "text/plain": [
       "Empty DataFrame\n",
       "Columns: []\n",
       "Index: []"
      ]
     },
     "execution_count": 4,
     "metadata": {},
     "output_type": "execute_result"
    }
   ],
   "source": [
    "df = pd.DataFrame()\n",
    "\n",
    "df"
   ]
  },
  {
   "cell_type": "code",
   "execution_count": 5,
   "id": "b43efd69",
   "metadata": {},
   "outputs": [],
   "source": [
    "from tqdm import tqdm\n",
    "import json"
   ]
  },
  {
   "cell_type": "code",
   "execution_count": 6,
   "id": "fb3abd9f",
   "metadata": {},
   "outputs": [
    {
     "name": "stderr",
     "output_type": "stream",
     "text": [
      "Progress: 100%|██████████████████████████████| 6/6 [00:00<00:00, 1011.98it/s]\n"
     ]
    },
    {
     "data": {
      "text/html": [
       "<div>\n",
       "<style scoped>\n",
       "    .dataframe tbody tr th:only-of-type {\n",
       "        vertical-align: middle;\n",
       "    }\n",
       "\n",
       "    .dataframe tbody tr th {\n",
       "        vertical-align: top;\n",
       "    }\n",
       "\n",
       "    .dataframe thead th {\n",
       "        text-align: right;\n",
       "    }\n",
       "</style>\n",
       "<table border=\"1\" class=\"dataframe\">\n",
       "  <thead>\n",
       "    <tr style=\"text-align: right;\">\n",
       "      <th></th>\n",
       "      <th>Url</th>\n",
       "      <th>Vehicle_1</th>\n",
       "      <th>Vehicle_2</th>\n",
       "    </tr>\n",
       "  </thead>\n",
       "  <tbody>\n",
       "    <tr>\n",
       "      <th>0</th>\n",
       "      <td>https://partsfinder.bilsteingroup.com/en/artic...</td>\n",
       "      <td>Audi 80 (81) 1978-1987\\nAudi 80 (82) 1972-1978...</td>\n",
       "      <td>Audi 80 (81) 1978-1987 1.3 - 40 kW / 54 hp\\nAu...</td>\n",
       "    </tr>\n",
       "    <tr>\n",
       "      <th>1</th>\n",
       "      <td>https://partsfinder.bilsteingroup.com/en/artic...</td>\n",
       "      <td>Volkswagen+%28VW%29 Passat 1 (32) 1973-1980\\nV...</td>\n",
       "      <td>Volkswagen+%28VW%29 Passat 1 (32) 1973-1980 1....</td>\n",
       "    </tr>\n",
       "    <tr>\n",
       "      <th>2</th>\n",
       "      <td>https://partsfinder.bilsteingroup.com/en/artic...</td>\n",
       "      <td>Audi 80 (81) 1978-1987\\nAudi 80 (81) quattro 1...</td>\n",
       "      <td>Audi 80 (81) 1978-1987 1.3 - 40 kW / 54 hp\\nAu...</td>\n",
       "    </tr>\n",
       "    <tr>\n",
       "      <th>3</th>\n",
       "      <td>https://partsfinder.bilsteingroup.com/en/artic...</td>\n",
       "      <td>Volkswagen+%28VW%29 Passat 1 (32) 1973-1980\\nV...</td>\n",
       "      <td>Volkswagen+%28VW%29 Passat 1 (32) 1973-1980 1....</td>\n",
       "    </tr>\n",
       "    <tr>\n",
       "      <th>4</th>\n",
       "      <td>https://partsfinder.bilsteingroup.com/en/artic...</td>\n",
       "      <td>Audi 80 (81) 1978-1987\\nAudi 80 (8C) 1991-1995...</td>\n",
       "      <td>Audi 80 (81) 1978-1987 1.9 - 85 kW / 116 hp\\nA...</td>\n",
       "    </tr>\n",
       "    <tr>\n",
       "      <th>5</th>\n",
       "      <td>https://partsfinder.bilsteingroup.com/en/artic...</td>\n",
       "      <td>Audi 80 (8C) 1991-1995\\nAudi 80 (8C) Avant 199...</td>\n",
       "      <td>Audi 80 (8C) 1991-1995 1.9 TD - 55 kW / 75 hp\\...</td>\n",
       "    </tr>\n",
       "  </tbody>\n",
       "</table>\n",
       "</div>"
      ],
      "text/plain": [
       "                                                 Url  \\\n",
       "0  https://partsfinder.bilsteingroup.com/en/artic...   \n",
       "1  https://partsfinder.bilsteingroup.com/en/artic...   \n",
       "2  https://partsfinder.bilsteingroup.com/en/artic...   \n",
       "3  https://partsfinder.bilsteingroup.com/en/artic...   \n",
       "4  https://partsfinder.bilsteingroup.com/en/artic...   \n",
       "5  https://partsfinder.bilsteingroup.com/en/artic...   \n",
       "\n",
       "                                           Vehicle_1  \\\n",
       "0  Audi 80 (81) 1978-1987\\nAudi 80 (82) 1972-1978...   \n",
       "1  Volkswagen+%28VW%29 Passat 1 (32) 1973-1980\\nV...   \n",
       "2  Audi 80 (81) 1978-1987\\nAudi 80 (81) quattro 1...   \n",
       "3  Volkswagen+%28VW%29 Passat 1 (32) 1973-1980\\nV...   \n",
       "4  Audi 80 (81) 1978-1987\\nAudi 80 (8C) 1991-1995...   \n",
       "5  Audi 80 (8C) 1991-1995\\nAudi 80 (8C) Avant 199...   \n",
       "\n",
       "                                           Vehicle_2  \n",
       "0  Audi 80 (81) 1978-1987 1.3 - 40 kW / 54 hp\\nAu...  \n",
       "1  Volkswagen+%28VW%29 Passat 1 (32) 1973-1980 1....  \n",
       "2  Audi 80 (81) 1978-1987 1.3 - 40 kW / 54 hp\\nAu...  \n",
       "3  Volkswagen+%28VW%29 Passat 1 (32) 1973-1980 1....  \n",
       "4  Audi 80 (81) 1978-1987 1.9 - 85 kW / 116 hp\\nA...  \n",
       "5  Audi 80 (8C) 1991-1995 1.9 TD - 55 kW / 75 hp\\...  "
      ]
     },
     "execution_count": 6,
     "metadata": {},
     "output_type": "execute_result"
    }
   ],
   "source": [
    "for file in tqdm(list_file, desc='Progress', ncols=77):\n",
    "    with open('./vehicle/' + file, 'r', encoding='UTF-8') as f:\n",
    "        df = pd.concat([df, pd.DataFrame(json.loads(f.read()))], ignore_index=False).fillna('')\n",
    "        \n",
    "df = df.drop_duplicates(ignore_index=True)\n",
    "df = df.sort_values(by=['Url'], ascending=[True]).reset_index(drop=True)\n",
    "df.to_excel('./vehicle.xlsx', index=False)\n",
    "\n",
    "df"
   ]
  },
  {
   "cell_type": "code",
   "execution_count": null,
   "id": "6a1ed2b7",
   "metadata": {},
   "outputs": [],
   "source": []
  }
 ],
 "metadata": {
  "kernelspec": {
   "display_name": "Python 3 (ipykernel)",
   "language": "python",
   "name": "python3"
  },
  "language_info": {
   "codemirror_mode": {
    "name": "ipython",
    "version": 3
   },
   "file_extension": ".py",
   "mimetype": "text/x-python",
   "name": "python",
   "nbconvert_exporter": "python",
   "pygments_lexer": "ipython3",
   "version": "3.11.3"
  }
 },
 "nbformat": 4,
 "nbformat_minor": 5
}
