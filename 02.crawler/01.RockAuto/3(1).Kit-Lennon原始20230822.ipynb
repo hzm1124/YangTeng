{
 "cells": [
  {
   "cell_type": "code",
   "execution_count": 1,
   "id": "75615279",
   "metadata": {},
   "outputs": [],
   "source": [
    "import pandas as pd"
   ]
  },
  {
   "cell_type": "code",
   "execution_count": 2,
   "id": "95822d56",
   "metadata": {
    "scrolled": true
   },
   "outputs": [
    {
     "name": "stdout",
     "output_type": "stream",
     "text": [
      "总数量：19\n"
     ]
    },
    {
     "data": {
      "text/plain": [
       "[nan,\n",
       " 'https://www.rockauto.com/en/moreinfo.php?pk=40835',\n",
       " 'https://www.rockauto.com/en/moreinfo.php?pk=40838',\n",
       " 'https://www.rockauto.com/en/moreinfo.php?pk=40826',\n",
       " 'https://www.rockauto.com/en/moreinfo.php?pk=40817',\n",
       " 'https://www.rockauto.com/en/moreinfo.php?pk=40816',\n",
       " 'https://www.rockauto.com/en/moreinfo.php?pk=1005840',\n",
       " 'https://www.rockauto.com/en/moreinfo.php?pk=40820',\n",
       " 'https://www.rockauto.com/en/moreinfo.php?pk=40829',\n",
       " 'https://www.rockauto.com/en/moreinfo.php?pk=40840',\n",
       " 'https://www.rockauto.com/en/moreinfo.php?pk=40825',\n",
       " 'https://www.rockauto.com/en/moreinfo.php?pk=881733',\n",
       " 'https://www.rockauto.com/en/moreinfo.php?pk=40828',\n",
       " 'https://www.rockauto.com/en/moreinfo.php?pk=3771312',\n",
       " 'https://www.rockauto.com/en/moreinfo.php?pk=40843',\n",
       " 'https://www.rockauto.com/en/moreinfo.php?pk=1001943',\n",
       " 'https://www.rockauto.com/en/moreinfo.php?pk=950845',\n",
       " 'https://www.rockauto.com/en/moreinfo.php?pk=40823',\n",
       " 'https://www.rockauto.com/en/moreinfo.php?pk=40819']"
      ]
     },
     "execution_count": 2,
     "metadata": {},
     "output_type": "execute_result"
    }
   ],
   "source": [
    "df_menu = pd.read_excel('./part.xlsx', header=0)\n",
    "list_info = df_menu['Info'].to_list()\n",
    "\n",
    "print('总数量：' + str(len(list_info)))\n",
    "list_info"
   ]
  },
  {
   "cell_type": "code",
   "execution_count": 3,
   "id": "ccc172ba",
   "metadata": {},
   "outputs": [
    {
     "data": {
      "text/html": [
       "<div>\n",
       "<style scoped>\n",
       "    .dataframe tbody tr th:only-of-type {\n",
       "        vertical-align: middle;\n",
       "    }\n",
       "\n",
       "    .dataframe tbody tr th {\n",
       "        vertical-align: top;\n",
       "    }\n",
       "\n",
       "    .dataframe thead th {\n",
       "        text-align: right;\n",
       "    }\n",
       "</style>\n",
       "<table border=\"1\" class=\"dataframe\">\n",
       "  <thead>\n",
       "    <tr style=\"text-align: right;\">\n",
       "      <th></th>\n",
       "    </tr>\n",
       "  </thead>\n",
       "  <tbody>\n",
       "  </tbody>\n",
       "</table>\n",
       "</div>"
      ],
      "text/plain": [
       "Empty DataFrame\n",
       "Columns: []\n",
       "Index: []"
      ]
     },
     "execution_count": 3,
     "metadata": {},
     "output_type": "execute_result"
    }
   ],
   "source": [
    "df = pd.DataFrame()\n",
    "\n",
    "df"
   ]
  },
  {
   "cell_type": "code",
   "execution_count": 4,
   "id": "8d1ca69c",
   "metadata": {},
   "outputs": [],
   "source": [
    "from selenium.webdriver import ChromeOptions"
   ]
  },
  {
   "cell_type": "code",
   "execution_count": 5,
   "id": "fe4e6120",
   "metadata": {},
   "outputs": [],
   "source": [
    "option = ChromeOptions()\n",
    "option.add_experimental_option('useAutomationExtension', False)\n",
    "# option.add_argument('blink-settings=imagesEnabled=false')\n",
    "option.add_argument('--disable-blink-features=AutomationControlled')\n",
    "option.add_argument('--disable-dev-shm-usage')\n",
    "option.add_argument('--disable-gpu')\n",
    "option.add_experimental_option('excludeSwitches', ['enable-automation'])\n",
    "# option.add_argument('--headless')\n",
    "option.add_argument('--no-sandbox')\n",
    "# option.add_argument('--proxy-server=')\n",
    "# option.add_argument('user-agent=')\n",
    "option.page_load_strategy = 'normal'"
   ]
  },
  {
   "cell_type": "code",
   "execution_count": 6,
   "id": "615beeeb",
   "metadata": {},
   "outputs": [],
   "source": [
    "from selenium.webdriver import Chrome\n",
    "from selenium.webdriver.chrome.service import Service"
   ]
  },
  {
   "cell_type": "code",
   "execution_count": 7,
   "id": "018d81c1",
   "metadata": {},
   "outputs": [],
   "source": [
    "browser = Chrome(service=Service('../../../chromedriver'), options=option)\n",
    "\n",
    "browser.maximize_window()"
   ]
  },
  {
   "cell_type": "code",
   "execution_count": 8,
   "id": "fec71893",
   "metadata": {},
   "outputs": [],
   "source": [
    "import time"
   ]
  },
  {
   "cell_type": "code",
   "execution_count": 9,
   "id": "9e02fbb5",
   "metadata": {
    "scrolled": true
   },
   "outputs": [],
   "source": [
    "i = 3\n",
    "\n",
    "browser.get(list_info[i])\n",
    "\n",
    "time.sleep(3)"
   ]
  },
  {
   "cell_type": "code",
   "execution_count": 10,
   "id": "7cabed18",
   "metadata": {},
   "outputs": [],
   "source": [
    "from selenium.webdriver.support import expected_conditions as EC\n",
    "from selenium.webdriver.support.wait import WebDriverWait\n",
    "from selenium.webdriver.common.by import By"
   ]
  },
  {
   "cell_type": "code",
   "execution_count": 11,
   "id": "dc6f147d",
   "metadata": {},
   "outputs": [
    {
     "data": {
      "text/plain": [
       "[]"
      ]
     },
     "execution_count": 11,
     "metadata": {},
     "output_type": "execute_result"
    }
   ],
   "source": [
    "wait = WebDriverWait(browser, 60)\n",
    "wait.until(EC.presence_of_element_located((By.XPATH, '//section[contains(@aria-label, \"Warranty Information\")]')))\n",
    "list_row = browser.find_elements(by=By.XPATH, value='//tbody[contains(@class, \"listing-inner\") and (contains(@class, \"altrow-b-1\") or contains(@class, \"altrow-b-0\"))]')\n",
    "\n",
    "list_row"
   ]
  },
  {
   "cell_type": "code",
   "execution_count": 12,
   "id": "ca35edbc",
   "metadata": {},
   "outputs": [],
   "source": [
    "list_kit_no = [i+1 for i in range(len(list_row))]\n",
    "list_kit_quantity = []\n",
    "list_kit_note = []\n",
    "list_kit_manufacturer = []\n",
    "list_kit_part_number = []\n",
    "list_kit_info = []\n",
    "\n",
    "for row in list_row:\n",
    "    list_td = row.find_elements(by=By.XPATH, value='./tr/td')\n",
    "    list_kit_quantity.append(list_td[0].text)\n",
    "    list_kit_note.append(list_td[1].text)\n",
    "    list_kit_manufacturer.append(list_td[2].find_element(by=By.XPATH, value='./descendant::span[contains(@class, \"listing-final-manufacturer\")]').text)\n",
    "    list_kit_part_number.append(list_td[2].find_element(by=By.XPATH, value='./descendant::span[contains(@class, \"listing-final-partnumber\")]').text)\n",
    "    list_kit_info.append(list_td[2].find_element(by=By.XPATH, value='./descendant::a[contains(@class, \"ra-btn\") and contains(@class, \"ra-btn-moreinfo\")]').get_attribute('href'))"
   ]
  },
  {
   "cell_type": "code",
   "execution_count": 13,
   "id": "8509286b",
   "metadata": {
    "scrolled": true
   },
   "outputs": [
    {
     "data": {
      "text/html": [
       "<div>\n",
       "<style scoped>\n",
       "    .dataframe tbody tr th:only-of-type {\n",
       "        vertical-align: middle;\n",
       "    }\n",
       "\n",
       "    .dataframe tbody tr th {\n",
       "        vertical-align: top;\n",
       "    }\n",
       "\n",
       "    .dataframe thead th {\n",
       "        text-align: right;\n",
       "    }\n",
       "</style>\n",
       "<table border=\"1\" class=\"dataframe\">\n",
       "  <thead>\n",
       "    <tr style=\"text-align: right;\">\n",
       "      <th></th>\n",
       "      <th>status</th>\n",
       "      <th>Info</th>\n",
       "      <th>Kit_No.</th>\n",
       "      <th>Kit_Quantity</th>\n",
       "      <th>Kit_Note</th>\n",
       "      <th>Kit_Manufacturer</th>\n",
       "      <th>Kit_Part_Number</th>\n",
       "      <th>Kit_Info</th>\n",
       "    </tr>\n",
       "  </thead>\n",
       "  <tbody>\n",
       "  </tbody>\n",
       "</table>\n",
       "</div>"
      ],
      "text/plain": [
       "Empty DataFrame\n",
       "Columns: [status, Info, Kit_No., Kit_Quantity, Kit_Note, Kit_Manufacturer, Kit_Part_Number, Kit_Info]\n",
       "Index: []"
      ]
     },
     "execution_count": 13,
     "metadata": {},
     "output_type": "execute_result"
    }
   ],
   "source": [
    "df_temp = pd.DataFrame({'status': 'ok',\n",
    "                        'Info': list_info[i],\n",
    "                        'Kit_No.': list_kit_no,\n",
    "                        'Kit_Quantity': list_kit_quantity,\n",
    "                        'Kit_Note': list_kit_note,\n",
    "                        'Kit_Manufacturer': list_kit_manufacturer,\n",
    "                        'Kit_Part_Number': list_kit_part_number,\n",
    "                        'Kit_Info': list_kit_info})\n",
    "\n",
    "browser.quit()\n",
    "\n",
    "df = pd.concat([df, df_temp], ignore_index=True).fillna('')\n",
    "\n",
    "df"
   ]
  },
  {
   "cell_type": "code",
   "execution_count": null,
   "id": "c1683b17",
   "metadata": {},
   "outputs": [],
   "source": []
  }
 ],
 "metadata": {
  "kernelspec": {
   "display_name": "Python 3 (ipykernel)",
   "language": "python",
   "name": "python3"
  },
  "language_info": {
   "codemirror_mode": {
    "name": "ipython",
    "version": 3
   },
   "file_extension": ".py",
   "mimetype": "text/x-python",
   "name": "python",
   "nbconvert_exporter": "python",
   "pygments_lexer": "ipython3",
   "version": "3.11.3"
  }
 },
 "nbformat": 4,
 "nbformat_minor": 5
}
