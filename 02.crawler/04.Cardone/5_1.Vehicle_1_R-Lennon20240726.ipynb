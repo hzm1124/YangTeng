{
 "cells": [
  {
   "cell_type": "code",
   "execution_count": 1,
   "id": "783f89be-0cdc-4912-942e-895cc5f09840",
   "metadata": {},
   "outputs": [],
   "source": [
    "import pandas as pd\n",
    "\n",
    "output_correct, output_error = pd.DataFrame(), pd.DataFrame()"
   ]
  },
  {
   "cell_type": "code",
   "execution_count": 2,
   "id": "1c28f4ff-eee5-4220-a711-cc2f93fe08f0",
   "metadata": {
    "scrolled": true
   },
   "outputs": [
    {
     "name": "stdout",
     "output_type": "stream",
     "text": [
      "总数量：1\n"
     ]
    },
    {
     "data": {
      "text/plain": [
       "['40-10000']"
      ]
     },
     "execution_count": 2,
     "metadata": {},
     "output_type": "execute_result"
    }
   ],
   "source": [
    "input_ = pd.read_excel('./4.auth.xlsx',\n",
    "                       header=0,\n",
    "                       dtype=str).fillna('')\n",
    "\n",
    "input_['No'] = input_['No'].astype(int)\n",
    "\n",
    "print(f'总数量：{len(input_)}')\n",
    "input_['Part Number'].tolist()"
   ]
  },
  {
   "cell_type": "code",
   "execution_count": 3,
   "id": "5878a9f0-d639-4123-b6e0-bc564f72c2d6",
   "metadata": {},
   "outputs": [
    {
     "data": {
      "text/plain": [
       "0"
      ]
     },
     "execution_count": 3,
     "metadata": {},
     "output_type": "execute_result"
    }
   ],
   "source": [
    "a = 0\n",
    "\n",
    "a"
   ]
  },
  {
   "cell_type": "code",
   "execution_count": 4,
   "id": "9f61dd65-55da-4d0b-ba30-d0534eff0781",
   "metadata": {},
   "outputs": [
    {
     "data": {
      "text/plain": [
       "'error'"
      ]
     },
     "execution_count": 4,
     "metadata": {},
     "output_type": "execute_result"
    }
   ],
   "source": [
    "crawler_status = 'error'\n",
    "\n",
    "crawler_status"
   ]
  },
  {
   "cell_type": "code",
   "execution_count": 5,
   "id": "90deee26-228c-43e6-9c4a-49921b303a36",
   "metadata": {
    "scrolled": true
   },
   "outputs": [
    {
     "name": "stdout",
     "output_type": "stream",
     "text": [
      "1\n"
     ]
    },
    {
     "data": {
      "text/plain": [
       "<Response [200]>"
      ]
     },
     "execution_count": 5,
     "metadata": {},
     "output_type": "execute_result"
    }
   ],
   "source": [
    "import requests\n",
    "\n",
    "import sys\n",
    "sys.path.append('../00.Tools')\n",
    "from crawler_configuration import get_header, get_proxy\n",
    "\n",
    "b = 0\n",
    "while True:\n",
    "\n",
    "    while True:\n",
    "        b += 1\n",
    "        print(b)\n",
    "        try:\n",
    "            resp = requests.get(f'''https://productdesk-api.cellacore.net/legacy/cardone/Vehicle/Recommendation/?q=(productSKU.keyword:{input_.loc[a, 'Part Number']})&size=5000&useCache=true&auth={input_.loc[a, 'Auth']}''',\n",
    "                                headers=get_header(),\n",
    "                                proxies=get_proxy(),\n",
    "                                timeout=(10, 10))\n",
    "            break\n",
    "        except:\n",
    "            continue\n",
    "\n",
    "    if resp.status_code == 200:\n",
    "        break\n",
    "\n",
    "resp"
   ]
  },
  {
   "cell_type": "code",
   "execution_count": 6,
   "id": "de28fbfa-b458-490b-99a8-473584ee1b6a",
   "metadata": {
    "scrolled": true
   },
   "outputs": [
    {
     "data": {
      "text/plain": [
       "[]"
      ]
     },
     "execution_count": 6,
     "metadata": {},
     "output_type": "execute_result"
    }
   ],
   "source": [
    "import json\n",
    "\n",
    "list_json = resp.json()\n",
    "\n",
    "list_json"
   ]
  },
  {
   "cell_type": "code",
   "execution_count": 7,
   "id": "b283c3eb-95e8-4ccb-afcc-9376aa60cc55",
   "metadata": {
    "scrolled": true
   },
   "outputs": [
    {
     "data": {
      "text/plain": [
       "[]"
      ]
     },
     "execution_count": 7,
     "metadata": {},
     "output_type": "execute_result"
    }
   ],
   "source": [
    "list_make = [json_['fitment']['Vcdb']['MakeName'].strip() for json_ in list_json]\n",
    "\n",
    "list_make"
   ]
  },
  {
   "cell_type": "code",
   "execution_count": 8,
   "id": "38f20cab-2770-4241-8502-8ccd19b9155e",
   "metadata": {
    "scrolled": true
   },
   "outputs": [
    {
     "data": {
      "text/plain": [
       "[]"
      ]
     },
     "execution_count": 8,
     "metadata": {},
     "output_type": "execute_result"
    }
   ],
   "source": [
    "list_model = [json_['fitment']['Vcdb']['ModelName'].strip() for json_ in list_json]\n",
    "\n",
    "list_model"
   ]
  },
  {
   "cell_type": "code",
   "execution_count": 9,
   "id": "791bca94-afa6-43f5-bcb2-bb817236e99a",
   "metadata": {
    "scrolled": true
   },
   "outputs": [
    {
     "data": {
      "text/plain": [
       "[]"
      ]
     },
     "execution_count": 9,
     "metadata": {},
     "output_type": "execute_result"
    }
   ],
   "source": [
    "list_region = [json_['fitment']['Vcdb']['RegionName'].strip() for json_ in list_json]\n",
    "\n",
    "list_region"
   ]
  },
  {
   "cell_type": "code",
   "execution_count": 10,
   "id": "0731930e-5fdb-4609-a56b-d2108600b995",
   "metadata": {
    "scrolled": true
   },
   "outputs": [
    {
     "data": {
      "text/plain": [
       "[]"
      ]
     },
     "execution_count": 10,
     "metadata": {},
     "output_type": "execute_result"
    }
   ],
   "source": [
    "list_submodel = [json_['fitment']['Vcdb']['SubModelName'].strip() for json_ in list_json]\n",
    "\n",
    "list_submodel"
   ]
  },
  {
   "cell_type": "code",
   "execution_count": 11,
   "id": "7ba47ec7-f4fe-4f5a-be83-cb844a24ab5b",
   "metadata": {
    "scrolled": true
   },
   "outputs": [
    {
     "data": {
      "text/plain": [
       "[]"
      ]
     },
     "execution_count": 11,
     "metadata": {},
     "output_type": "execute_result"
    }
   ],
   "source": [
    "list_year = [int(json_['fitment']['Vcdb']['Year'].strip()) for json_ in list_json]\n",
    "\n",
    "list_year"
   ]
  },
  {
   "cell_type": "code",
   "execution_count": 12,
   "id": "171b356d-d1f5-4624-81fe-6c446ceb6377",
   "metadata": {
    "scrolled": true
   },
   "outputs": [
    {
     "data": {
      "text/plain": [
       "([], [], [], [], [])"
      ]
     },
     "execution_count": 12,
     "metadata": {},
     "output_type": "execute_result"
    }
   ],
   "source": [
    "list_list_aspiration, list_list_cylinder, list_list_displacement, list_list_fuel, list_list_liter = [], [], [], [], []\n",
    "list_list_engine = [json_['fitment']['Vcdb']['Engines'] for json_ in list_json]\n",
    "for list_engine in list_list_engine:\n",
    "    if list_engine:\n",
    "        list_aspiration, list_cylinder, list_displacement, list_fuel, list_liter = [], [], [], [], []\n",
    "        for engine in list_engine:\n",
    "            list_aspiration.append(engine['AspirationName'].strip() if 'AspirationName' in engine and engine['AspirationName'].strip() != '-' else '')\n",
    "\n",
    "            # = = = = = = = = = = = = = = =\n",
    "\n",
    "            cylinder = ''\n",
    "            if 'BlockType' in engine and engine['BlockType'].strip() != '-':\n",
    "                cylinder += engine['BlockType'].strip()\n",
    "            if 'Cylinders' in engine and engine['Cylinders'] != 0:\n",
    "                cylinder += str(engine['Cylinders'])\n",
    "            list_cylinder.append(cylinder)\n",
    "\n",
    "            # = = = = = = = = = = = = = = =\n",
    "\n",
    "            displacement = ''\n",
    "            if engine['CID'].strip() != '-':\n",
    "                displacement += f'''{engine['CID'].strip()}cid'''\n",
    "            elif engine['CC'].strip() != '-':\n",
    "                displacement += f'''/{engine['CC'].strip()}cc'''\n",
    "            list_displacement.append(displacement.removeprefix('/'))\n",
    "\n",
    "            # = = = = = = = = = = = = = = =\n",
    "\n",
    "            list_fuel.append(engine['FuelTypeName'].strip() if 'FuelTypeName' in engine else '')\n",
    "\n",
    "            # = = = = = = = = = = = = = = =\n",
    "\n",
    "            list_liter.append(f'''{engine['Liter']}L''' if 'Liter' in engine and engine['Liter'] != 0 else '')\n",
    "\n",
    "        # = = = = = = = = = = = = = = =\n",
    "\n",
    "        list_list_aspiration.append(list_aspiration)\n",
    "        list_list_cylinder.append(list_cylinder)\n",
    "        list_list_displacement.append(list_displacement)\n",
    "        list_list_fuel.append(list_fuel)\n",
    "        list_list_liter.append(list_liter)\n",
    "    else:\n",
    "        list_list_aspiration.append([''])\n",
    "        list_list_cylinder.append([''])\n",
    "        list_list_displacement.append([''])\n",
    "        list_list_fuel.append([''])\n",
    "        list_list_liter.append([''])\n",
    "\n",
    "list_list_aspiration, list_list_cylinder, list_list_displacement, list_list_fuel, list_list_liter"
   ]
  },
  {
   "cell_type": "code",
   "execution_count": 13,
   "id": "c1ff5a31-5e85-408d-981e-c329c1cd80a2",
   "metadata": {
    "scrolled": true
   },
   "outputs": [
    {
     "data": {
      "text/plain": [
       "[]"
      ]
     },
     "execution_count": 13,
     "metadata": {},
     "output_type": "execute_result"
    }
   ],
   "source": [
    "list_list_drive = []\n",
    "list_list_drive_type = [json_['fitment']['Vcdb']['DriveTypes'] for json_ in list_json]\n",
    "for list_drive_type in list_list_drive_type:\n",
    "    if list_drive_type:\n",
    "        list_drive = []\n",
    "        for drive_type in list_drive_type:\n",
    "            list_drive.append(drive_type['DriveTypeName'].strip())\n",
    "\n",
    "        # = = = = = = = = = = = = = = =\n",
    "\n",
    "        list_list_drive.append(list_drive)\n",
    "    else:\n",
    "        list_list_drive.append([''])\n",
    "\n",
    "list_list_drive"
   ]
  },
  {
   "cell_type": "code",
   "execution_count": 14,
   "id": "7d289807-8f04-430d-a34a-1c7fb2c0247a",
   "metadata": {
    "scrolled": true
   },
   "outputs": [
    {
     "data": {
      "text/plain": [
       "[]"
      ]
     },
     "execution_count": 14,
     "metadata": {},
     "output_type": "execute_result"
    }
   ],
   "source": [
    "list_position = [json_['fitment']['acesCriteria']['PositionName'].strip() for json_ in list_json]\n",
    "\n",
    "list_position"
   ]
  },
  {
   "cell_type": "code",
   "execution_count": 15,
   "id": "b37d6f00-e9c3-4fad-9f76-a08149fb306f",
   "metadata": {
    "scrolled": true
   },
   "outputs": [
    {
     "data": {
      "text/html": [
       "<div>\n",
       "<style scoped>\n",
       "    .dataframe tbody tr th:only-of-type {\n",
       "        vertical-align: middle;\n",
       "    }\n",
       "\n",
       "    .dataframe tbody tr th {\n",
       "        vertical-align: top;\n",
       "    }\n",
       "\n",
       "    .dataframe thead th {\n",
       "        text-align: right;\n",
       "    }\n",
       "</style>\n",
       "<table border=\"1\" class=\"dataframe\">\n",
       "  <thead>\n",
       "    <tr style=\"text-align: right;\">\n",
       "      <th></th>\n",
       "    </tr>\n",
       "  </thead>\n",
       "  <tbody>\n",
       "  </tbody>\n",
       "</table>\n",
       "</div>"
      ],
      "text/plain": [
       "Empty DataFrame\n",
       "Columns: []\n",
       "Index: []"
      ]
     },
     "execution_count": 15,
     "metadata": {},
     "output_type": "execute_result"
    }
   ],
   "source": [
    "df_temp = pd.DataFrame()\n",
    "for i in range(len(list_json)):\n",
    "    df_temp_temp = pd.DataFrame({'No': input_.loc[a, 'No'],\n",
    "                                 'Part Number': input_.loc[a, 'Part Number'],\n",
    "                                 'Make': list_make[i],\n",
    "                                 'Model': list_model[i],\n",
    "                                 'Region': list_region[i],\n",
    "                                 'Submodel': list_submodel[i],\n",
    "                                 'Year': list_year[i],\n",
    "                                 'Aspiration': list_list_aspiration[i],\n",
    "                                 'Cylinder': list_list_cylinder[i],\n",
    "                                 'Displacement': list_list_displacement[i],\n",
    "                                 'Fuel': list_list_fuel[i],\n",
    "                                 'Liter': list_list_liter[i]})\n",
    "    for j in range(len(list_list_drive_type[i])):\n",
    "        df_temp_temp_temp = df_temp_temp.copy()\n",
    "        df_temp_temp_temp['Drive Type'] = list_list_drive[i][j]\n",
    "        df_temp = pd.concat([df_temp, df_temp_temp_temp], ignore_index=True).fillna('')\n",
    "    df_temp['Position'] = list_position[i]\n",
    "\n",
    "if not df_temp.empty:\n",
    "    df_temp['Row'] = [i+1 for i in range(len(df_temp))]\n",
    "    df_temp = df_temp.drop_duplicates(['No', 'Part Number', 'Make', 'Model', 'Region', 'Submodel', 'Year', 'Aspiration', 'Cylinder', 'Displacement', 'Fuel', 'Liter', 'Drive Type', 'Position'],\n",
    "                                      keep='first',\n",
    "                                      ignore_index=True)\n",
    "    df_temp = df_temp.sort_values(by=['No', 'Row'],\n",
    "                                  ascending=[True, True],\n",
    "                                  ignore_index=True)\n",
    "    df_temp['Row'] = [i+1 for i in range(len(df_temp))]\n",
    "    output_correct = pd.concat([output_correct, df_temp], ignore_index=True).fillna('')\n",
    "\n",
    "output_correct"
   ]
  },
  {
   "cell_type": "code",
   "execution_count": 16,
   "id": "fc4ed7f6-ed4f-431c-b944-b1690309cdae",
   "metadata": {},
   "outputs": [
    {
     "data": {
      "text/plain": [
       "'ok'"
      ]
     },
     "execution_count": 16,
     "metadata": {},
     "output_type": "execute_result"
    }
   ],
   "source": [
    "crawler_status = 'ok'\n",
    "\n",
    "crawler_status"
   ]
  },
  {
   "cell_type": "code",
   "execution_count": 17,
   "id": "65c745d1-446e-46c5-9dec-819c9f7944d3",
   "metadata": {},
   "outputs": [
    {
     "data": {
      "text/html": [
       "<div>\n",
       "<style scoped>\n",
       "    .dataframe tbody tr th:only-of-type {\n",
       "        vertical-align: middle;\n",
       "    }\n",
       "\n",
       "    .dataframe tbody tr th {\n",
       "        vertical-align: top;\n",
       "    }\n",
       "\n",
       "    .dataframe thead th {\n",
       "        text-align: right;\n",
       "    }\n",
       "</style>\n",
       "<table border=\"1\" class=\"dataframe\">\n",
       "  <thead>\n",
       "    <tr style=\"text-align: right;\">\n",
       "      <th></th>\n",
       "    </tr>\n",
       "  </thead>\n",
       "  <tbody>\n",
       "  </tbody>\n",
       "</table>\n",
       "</div>"
      ],
      "text/plain": [
       "Empty DataFrame\n",
       "Columns: []\n",
       "Index: []"
      ]
     },
     "execution_count": 17,
     "metadata": {},
     "output_type": "execute_result"
    }
   ],
   "source": [
    "if crawler_status == 'error':\n",
    "    df_temp = pd.DataFrame([{'No': input_.loc[a, 'No'],\n",
    "                             'Part Number': input_.loc[a, 'Part Number'],\n",
    "                             'Url': input_.loc[a, 'Url'],\n",
    "                             'Auth': input_.loc[a, 'Auth']}])\n",
    "\n",
    "    output_error = pd.concat([output_error, df_temp], ignore_index=True).fillna('')\n",
    "\n",
    "output_error"
   ]
  },
  {
   "cell_type": "code",
   "execution_count": 18,
   "id": "7fd477de",
   "metadata": {},
   "outputs": [
    {
     "data": {
      "text/html": [
       "<div>\n",
       "<style scoped>\n",
       "    .dataframe tbody tr th:only-of-type {\n",
       "        vertical-align: middle;\n",
       "    }\n",
       "\n",
       "    .dataframe tbody tr th {\n",
       "        vertical-align: top;\n",
       "    }\n",
       "\n",
       "    .dataframe thead th {\n",
       "        text-align: right;\n",
       "    }\n",
       "</style>\n",
       "<table border=\"1\" class=\"dataframe\">\n",
       "  <thead>\n",
       "    <tr style=\"text-align: right;\">\n",
       "      <th></th>\n",
       "    </tr>\n",
       "  </thead>\n",
       "  <tbody>\n",
       "  </tbody>\n",
       "</table>\n",
       "</div>"
      ],
      "text/plain": [
       "Empty DataFrame\n",
       "Columns: []\n",
       "Index: []"
      ]
     },
     "execution_count": 18,
     "metadata": {},
     "output_type": "execute_result"
    }
   ],
   "source": [
    "if not output_correct.empty:\n",
    "    output_correct = output_correct.sort_values(by=['No', 'Row'],\n",
    "                                                ascending=[True, True],\n",
    "                                                ignore_index=True)\n",
    "    output_correct.to_excel('./test_vehicle_1.xlsx', index=False)\n",
    "\n",
    "output_correct"
   ]
  },
  {
   "cell_type": "code",
   "execution_count": 19,
   "id": "39a5441b-7f69-4812-aad8-7e10a1a24e78",
   "metadata": {},
   "outputs": [
    {
     "data": {
      "text/html": [
       "<div>\n",
       "<style scoped>\n",
       "    .dataframe tbody tr th:only-of-type {\n",
       "        vertical-align: middle;\n",
       "    }\n",
       "\n",
       "    .dataframe tbody tr th {\n",
       "        vertical-align: top;\n",
       "    }\n",
       "\n",
       "    .dataframe thead th {\n",
       "        text-align: right;\n",
       "    }\n",
       "</style>\n",
       "<table border=\"1\" class=\"dataframe\">\n",
       "  <thead>\n",
       "    <tr style=\"text-align: right;\">\n",
       "      <th></th>\n",
       "    </tr>\n",
       "  </thead>\n",
       "  <tbody>\n",
       "  </tbody>\n",
       "</table>\n",
       "</div>"
      ],
      "text/plain": [
       "Empty DataFrame\n",
       "Columns: []\n",
       "Index: []"
      ]
     },
     "execution_count": 19,
     "metadata": {},
     "output_type": "execute_result"
    }
   ],
   "source": [
    "if not output_error.empty:\n",
    "    output_error = output_error.sort_values(by=['No'],\n",
    "                                            ascending=[True],\n",
    "                                            ignore_index=True)\n",
    "    output_error.to_excel('./test_vehicle_1_error.xlsx', index=False)\n",
    "\n",
    "output_error"
   ]
  },
  {
   "cell_type": "code",
   "execution_count": null,
   "id": "ba5d9f77-7464-4ad5-a42b-1fa0c0505832",
   "metadata": {},
   "outputs": [],
   "source": []
  }
 ],
 "metadata": {
  "kernelspec": {
   "display_name": "Python 3 (ipykernel)",
   "language": "python",
   "name": "python3"
  },
  "language_info": {
   "codemirror_mode": {
    "name": "ipython",
    "version": 3
   },
   "file_extension": ".py",
   "mimetype": "text/x-python",
   "name": "python",
   "nbconvert_exporter": "python",
   "pygments_lexer": "ipython3",
   "version": "3.11.3"
  }
 },
 "nbformat": 4,
 "nbformat_minor": 5
}
