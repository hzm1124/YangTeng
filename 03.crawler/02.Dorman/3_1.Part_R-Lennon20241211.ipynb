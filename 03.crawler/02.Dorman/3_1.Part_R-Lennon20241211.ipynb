{
 "cells": [
  {
   "cell_type": "code",
   "execution_count": 1,
   "id": "28567785-1bca-439f-9042-e39b3255a55b",
   "metadata": {},
   "outputs": [],
   "source": [
    "import os\n",
    "\n",
    "# = = =  = = =  = = =\n",
    "\n",
    "import pandas as pd\n",
    "\n",
    "# = = =  = = =  = = =\n",
    "\n",
    "import requests\n",
    "\n",
    "import sys\n",
    "sys.path.append('../00.Tools')\n",
    "from crawler_configuration import get_header, get_proxy\n",
    "\n",
    "from bs4 import BeautifulSoup\n",
    "from lxml import etree\n",
    "\n",
    "# = = =  = = =  = = =\n",
    "\n",
    "import re\n",
    "import html as html_lib\n",
    "\n",
    "# = = =  = = =  = = =\n",
    "\n",
    "import json"
   ]
  },
  {
   "cell_type": "code",
   "execution_count": 2,
   "id": "9b75b948-9701-432e-a5ef-88d0e629bd2c",
   "metadata": {},
   "outputs": [
    {
     "data": {
      "text/plain": [
       "'1.xlsx'"
      ]
     },
     "execution_count": 2,
     "metadata": {},
     "output_type": "execute_result"
    }
   ],
   "source": [
    "directory_in = './file/2.url'\n",
    "list_file = [file for file in sorted(list(os.walk(directory_in))[0][2]) if file not in ['.DS_Store'] and os.path.isfile(os.path.join(directory_in, file))]\n",
    "file = list_file[0]\n",
    "\n",
    "file"
   ]
  },
  {
   "cell_type": "code",
   "execution_count": 3,
   "id": "72d1da7d-f371-4e06-8ec0-83c9b2abd2e3",
   "metadata": {},
   "outputs": [
    {
     "name": "stdout",
     "output_type": "stream",
     "text": [
      "Data Loading...\n",
      "Loading Done !\n",
      "\n",
      "总数量：165\n",
      "\n"
     ]
    },
    {
     "data": {
      "text/html": [
       "<div>\n",
       "<style scoped>\n",
       "    .dataframe tbody tr th:only-of-type {\n",
       "        vertical-align: middle;\n",
       "    }\n",
       "\n",
       "    .dataframe tbody tr th {\n",
       "        vertical-align: top;\n",
       "    }\n",
       "\n",
       "    .dataframe thead th {\n",
       "        text-align: right;\n",
       "    }\n",
       "</style>\n",
       "<table border=\"1\" class=\"dataframe\">\n",
       "  <thead>\n",
       "    <tr style=\"text-align: right;\">\n",
       "      <th></th>\n",
       "      <th>No</th>\n",
       "      <th>Url</th>\n",
       "    </tr>\n",
       "  </thead>\n",
       "  <tbody>\n",
       "    <tr>\n",
       "      <th>0</th>\n",
       "      <td>1</td>\n",
       "      <td>https://www.dormanproducts.com/p-8023-635-505....</td>\n",
       "    </tr>\n",
       "    <tr>\n",
       "      <th>1</th>\n",
       "      <td>2</td>\n",
       "      <td>https://www.dormanproducts.com/p-72452-635-513...</td>\n",
       "    </tr>\n",
       "    <tr>\n",
       "      <th>2</th>\n",
       "      <td>3</td>\n",
       "      <td>https://www.dormanproducts.com/p-129330-635-50...</td>\n",
       "    </tr>\n",
       "    <tr>\n",
       "      <th>3</th>\n",
       "      <td>4</td>\n",
       "      <td>https://www.dormanproducts.com/p-89644-635-500...</td>\n",
       "    </tr>\n",
       "    <tr>\n",
       "      <th>4</th>\n",
       "      <td>5</td>\n",
       "      <td>https://www.dormanproducts.com/p-146177-635-15...</td>\n",
       "    </tr>\n",
       "    <tr>\n",
       "      <th>...</th>\n",
       "      <td>...</td>\n",
       "      <td>...</td>\n",
       "    </tr>\n",
       "    <tr>\n",
       "      <th>160</th>\n",
       "      <td>161</td>\n",
       "      <td>https://www.dormanproducts.com/p-67614-904-128...</td>\n",
       "    </tr>\n",
       "    <tr>\n",
       "      <th>161</th>\n",
       "      <td>162</td>\n",
       "      <td>https://www.dormanproducts.com/p-67620-904-129...</td>\n",
       "    </tr>\n",
       "    <tr>\n",
       "      <th>162</th>\n",
       "      <td>163</td>\n",
       "      <td>https://www.dormanproducts.com/p-101363-932-98...</td>\n",
       "    </tr>\n",
       "    <tr>\n",
       "      <th>163</th>\n",
       "      <td>164</td>\n",
       "      <td>https://www.dormanproducts.com/p-5563-635-506....</td>\n",
       "    </tr>\n",
       "    <tr>\n",
       "      <th>164</th>\n",
       "      <td>165</td>\n",
       "      <td>https://www.dormanproducts.com/p-12111-635-106...</td>\n",
       "    </tr>\n",
       "  </tbody>\n",
       "</table>\n",
       "<p>165 rows × 2 columns</p>\n",
       "</div>"
      ],
      "text/plain": [
       "      No                                                Url\n",
       "0      1  https://www.dormanproducts.com/p-8023-635-505....\n",
       "1      2  https://www.dormanproducts.com/p-72452-635-513...\n",
       "2      3  https://www.dormanproducts.com/p-129330-635-50...\n",
       "3      4  https://www.dormanproducts.com/p-89644-635-500...\n",
       "4      5  https://www.dormanproducts.com/p-146177-635-15...\n",
       "..   ...                                                ...\n",
       "160  161  https://www.dormanproducts.com/p-67614-904-128...\n",
       "161  162  https://www.dormanproducts.com/p-67620-904-129...\n",
       "162  163  https://www.dormanproducts.com/p-101363-932-98...\n",
       "163  164  https://www.dormanproducts.com/p-5563-635-506....\n",
       "164  165  https://www.dormanproducts.com/p-12111-635-106...\n",
       "\n",
       "[165 rows x 2 columns]"
      ]
     },
     "execution_count": 3,
     "metadata": {},
     "output_type": "execute_result"
    }
   ],
   "source": [
    "print('Data Loading...')\n",
    "list_dict_correct, list_series_error, df_input = [], [], pd.read_excel(os.path.join(directory_in, file),\n",
    "                                                                       header=0,\n",
    "                                                                       dtype=str).fillna('')\n",
    "print('Loading Done !')\n",
    "print()\n",
    "\n",
    "df_input['No'] = df_input['No'].astype(int)\n",
    "\n",
    "crawler_remain = len(df_input)\n",
    "\n",
    "print(f'总数量：{crawler_remain}')\n",
    "print()\n",
    "\n",
    "df_input"
   ]
  },
  {
   "cell_type": "code",
   "execution_count": 4,
   "id": "5878a9f0-d639-4123-b6e0-bc564f72c2d6",
   "metadata": {},
   "outputs": [
    {
     "data": {
      "text/plain": [
       "(False,\n",
       " 0,\n",
       " No                                                     1\n",
       " Url    https://www.dormanproducts.com/p-8023-635-505....\n",
       " Name: 0, dtype: object)"
      ]
     },
     "execution_count": 4,
     "metadata": {},
     "output_type": "execute_result"
    }
   ],
   "source": [
    "crawler_status, (crawler_index, crawler_series) = False, next(df_input.iterrows())\n",
    "\n",
    "crawler_status, crawler_index, crawler_series"
   ]
  },
  {
   "cell_type": "code",
   "execution_count": 5,
   "id": "ad99bc86-6e80-4fcf-8200-736dc5101097",
   "metadata": {},
   "outputs": [
    {
     "name": "stdout",
     "output_type": "stream",
     "text": [
      "1\n",
      "2\n",
      "3\n",
      "4\n"
     ]
    },
    {
     "data": {
      "text/plain": [
       "'Timing Cover'"
      ]
     },
     "execution_count": 5,
     "metadata": {},
     "output_type": "execute_result"
    }
   ],
   "source": [
    "import time\n",
    "\n",
    "crawler_retry = 0\n",
    "while True:\n",
    "    crawler_retry += 1\n",
    "    print(crawler_retry)\n",
    "    try:\n",
    "        url_request = crawler_series['Url']\n",
    "\n",
    "        resp = requests.get(url_request,\n",
    "                            headers=get_header(),\n",
    "                            proxies=get_proxy(),\n",
    "                            timeout=(5, 15))\n",
    "\n",
    "        if resp.status_code == 200:\n",
    "            soup = BeautifulSoup(resp.text, 'lxml')\n",
    "            html = etree.HTML(str(soup))\n",
    "\n",
    "            type_ = html.xpath('//h1/span[@id=\"lblPartTypeName\"]/text()')[0].strip()\n",
    "            if type_:\n",
    "                with open('./part.html', 'w', encoding='UTF-8') as file:\n",
    "                    file.write(str(soup))\n",
    "                break\n",
    "    except KeyboardInterrupt:\n",
    "        break\n",
    "    except:\n",
    "        time.sleep(3)\n",
    "        continue\n",
    "\n",
    "type_"
   ]
  },
  {
   "cell_type": "code",
   "execution_count": 6,
   "id": "f933a1ab-8825-469f-91db-99d00e8d5c6d",
   "metadata": {
    "scrolled": true
   },
   "outputs": [
    {
     "data": {
      "text/plain": [
       "{'0': 'https://static.dormanproducts.com/images/product/medium/635-505-001.JPG',\n",
       " '1': 'https://static.dormanproducts.com/images/product/medium/635-505-006.JPG',\n",
       " '2': 'https://static.dormanproducts.com/images/product/medium/635-505-005.JPG',\n",
       " '3': 'https://static.dormanproducts.com/images/product/medium/635-505-003.JPG'}"
      ]
     },
     "execution_count": 6,
     "metadata": {},
     "output_type": "execute_result"
    }
   ],
   "source": [
    "dict_src, i, list_href = {}, 0, list(reversed([href.strip() for href in html.xpath('//a[@data-zoom-id=\"ProductPic\"]/@href')]))\n",
    "if list_href:\n",
    "    for href in list_href:\n",
    "        if href.startswith('http'):\n",
    "            dict_src[str(i)] = href\n",
    "            i += 1\n",
    "else:\n",
    "    list_href = [href.strip() for href in html.xpath('//a[@id=\"ProductPic\"]/@href')]\n",
    "    dict_src = {'0': list_href[0]} if list_href else {}\n",
    "\n",
    "dict_src"
   ]
  },
  {
   "cell_type": "code",
   "execution_count": 7,
   "id": "43844a94-a200-41b1-a313-ed0256b88c71",
   "metadata": {},
   "outputs": [
    {
     "data": {
      "text/plain": [
       "'635-505'"
      ]
     },
     "execution_count": 7,
     "metadata": {},
     "output_type": "execute_result"
    }
   ],
   "source": [
    "part_number = html.xpath('//span[@id=\"lblProductName\"]/text()')[0].strip()\n",
    "\n",
    "part_number"
   ]
  },
  {
   "cell_type": "code",
   "execution_count": 8,
   "id": "46eff63e-1cfa-4a23-ba9e-8351742e8400",
   "metadata": {
    "scrolled": true
   },
   "outputs": [
    {
     "data": {
      "text/plain": [
       "'Timing Cover With Gasket And Seal'"
      ]
     },
     "execution_count": 8,
     "metadata": {},
     "output_type": "execute_result"
    }
   ],
   "source": [
    "description = html.xpath('//span[@id=\"lblProductDesc\"]/text()')[0].strip()\n",
    "\n",
    "description"
   ]
  },
  {
   "cell_type": "code",
   "execution_count": 9,
   "id": "5f282eda-54ac-4f8e-a37c-412537540e5f",
   "metadata": {},
   "outputs": [
    {
     "data": {
      "text/plain": [
       "'GENERAL MOTORS 2005-87, ISUZU 2003-93'"
      ]
     },
     "execution_count": 9,
     "metadata": {},
     "output_type": "execute_result"
    }
   ],
   "source": [
    "list_text = [text.strip() for text in html.xpath('//div[@id=\"divAppSummary\"]/p/text()')]\n",
    "while '' in list_text:\n",
    "    list_text.remove('')\n",
    "\n",
    "application_summary = ';'.join(list_text)\n",
    "\n",
    "application_summary"
   ]
  },
  {
   "cell_type": "code",
   "execution_count": 10,
   "id": "fbb8116d-dbd9-4a81-9c60-322aea18fa16",
   "metadata": {},
   "outputs": [
    {
     "data": {
      "text/plain": [
       "''"
      ]
     },
     "execution_count": 10,
     "metadata": {},
     "output_type": "execute_result"
    }
   ],
   "source": [
    "list_div = html.xpath('//div[@class=\"alert alert-warning\"]')\n",
    "list_text = [etree.tostring(div).decode('utf-8') for div in list_div]\n",
    "list_text = [re.sub(r'<.*?>', '', text) for text in list_text]\n",
    "list_text = [re.sub(r' +', ' ', text.strip()) for text in list_text]\n",
    "list_text = [html_lib.unescape(text) for text in list_text]\n",
    "\n",
    "if len(list_text) == 1:\n",
    "    warning = list_text[0]\n",
    "else:\n",
    "    warning = ''\n",
    "    for i, text in enumerate(list_text):\n",
    "        warning += f'{i + 1}. {text}\\n'\n",
    "\n",
    "warning.strip()"
   ]
  },
  {
   "cell_type": "code",
   "execution_count": 11,
   "id": "e6506b87-53eb-4664-b3d4-f6ba7a650979",
   "metadata": {},
   "outputs": [
    {
     "data": {
      "text/plain": [
       "'Dorman - OE Solutions'"
      ]
     },
     "execution_count": 11,
     "metadata": {},
     "output_type": "execute_result"
    }
   ],
   "source": [
    "brand = html.xpath('//span[@id=\"lblBrandName\"]/text()')[0].strip()\n",
    "\n",
    "brand"
   ]
  },
  {
   "cell_type": "code",
   "execution_count": 12,
   "id": "93bb5264-dfb2-41db-9baf-5978154f39a7",
   "metadata": {},
   "outputs": [
    {
     "data": {
      "text/plain": [
       "'https://www.dormanproducts.com/itemdetailapp.aspx?ProductID=8023&PartType=Timing%20Cover'"
      ]
     },
     "execution_count": 12,
     "metadata": {},
     "output_type": "execute_result"
    }
   ],
   "source": [
    "value = html.xpath('//input[@id=\"hidfDetailApp\"]/@value')\n",
    "vehicle_url = f'https://www.dormanproducts.com/{value[0].strip()}' if value else ''\n",
    "\n",
    "vehicle_url"
   ]
  },
  {
   "cell_type": "code",
   "execution_count": 13,
   "id": "41ebbf17-947f-4a7a-9aa0-5b163eb4a1fd",
   "metadata": {},
   "outputs": [
    {
     "data": {
      "text/plain": [
       "{'0': {'Color': 'Black'},\n",
       " '1': {'Grade Type': 'Regular'},\n",
       " '2': {'Length': '11 in'},\n",
       " '3': {'Material': 'Plastic'},\n",
       " '4': {'Mounting Hardware Included': 'Yes'},\n",
       " '5': {'Package Contents': 'Timing Cover; Gasket; Seal'},\n",
       " '6': {'Package Quantity': '1'},\n",
       " '7': {'Packaging Type': 'Box'},\n",
       " '8': {'Width (in)': '8 in'}}"
      ]
     },
     "execution_count": 13,
     "metadata": {},
     "output_type": "execute_result"
    }
   ],
   "source": [
    "dict_key, list_tr = {}, html.xpath('//section[@id=\"productSpec\"]/div/table/tr')\n",
    "for tr in list_tr:\n",
    "    key = tr.xpath('./th/text()')[0].strip().removesuffix(':').strip()\n",
    "    if key in dict_key:\n",
    "        dict_key[key] += 1\n",
    "    else:\n",
    "        dict_key[key] = 1\n",
    "\n",
    "dict_specification, dict_count = {}, {}\n",
    "for i, tr in enumerate(list_tr):\n",
    "    key = tr.xpath('./th/text()')[0].strip().removesuffix(':').strip()\n",
    "    if dict_key[key] == 1:\n",
    "        dict_specification[str(i)] = {key: tr.xpath('./td/text()')[0].strip()}\n",
    "    else:\n",
    "        if key in dict_count:\n",
    "            dict_count[key] += 1\n",
    "        else:\n",
    "            dict_count[key] = 1\n",
    "        dict_specification[str(i)] = {f'{key}-{dict_count[key]}': tr.xpath('./td/text()')[0].strip()}\n",
    "\n",
    "dict_specification"
   ]
  },
  {
   "cell_type": "code",
   "execution_count": 14,
   "id": "3f5e2322-f0e0-42c7-8f79-2c520f64bb3e",
   "metadata": {},
   "outputs": [
    {
     "data": {
      "text/plain": [
       "'12523972;12523973;12552427;12558343;12562818;8-10089-671-0;8-12523-973-0;8-12558-343-0;93800970'"
      ]
     },
     "execution_count": 14,
     "metadata": {},
     "output_type": "execute_result"
    }
   ],
   "source": [
    "list_text = [text.strip() for text in html.xpath('//section[@id=\"productOE\"]/div/table/tbody/tr/th/text()')]\n",
    "oem = ';'.join(list(dict.fromkeys(list_text)))\n",
    "\n",
    "oem"
   ]
  },
  {
   "cell_type": "code",
   "execution_count": 15,
   "id": "99f49dd4-107b-4d6f-9ed6-1db0c1be6093",
   "metadata": {},
   "outputs": [
    {
     "data": {
      "text/plain": [
       "[{'No': 1,\n",
       "  'Type': 'Timing Cover',\n",
       "  'Part Number': '635-505',\n",
       "  'Brand': 'Dorman - OE Solutions',\n",
       "  'Description': 'Timing Cover With Gasket And Seal',\n",
       "  'Application Summary': 'GENERAL MOTORS 2005-87, ISUZU 2003-93',\n",
       "  'Warning': '',\n",
       "  'OEM': '12523972;12523973;12552427;12558343;12562818;8-10089-671-0;8-12523-973-0;8-12558-343-0;93800970',\n",
       "  'Picture': '',\n",
       "  'Url': 'https://www.dormanproducts.com/p-8023-635-505.aspx?origin=keyword',\n",
       "  'Json_Src': '{\"0\": \"https://static.dormanproducts.com/images/product/medium/635-505-001.JPG\", \"1\": \"https://static.dormanproducts.com/images/product/medium/635-505-006.JPG\", \"2\": \"https://static.dormanproducts.com/images/product/medium/635-505-005.JPG\", \"3\": \"https://static.dormanproducts.com/images/product/medium/635-505-003.JPG\"}',\n",
       "  'Vehicle Url': 'https://www.dormanproducts.com/itemdetailapp.aspx?ProductID=8023&PartType=Timing%20Cover',\n",
       "  'Json_Specification': '{\"0\": {\"Color\": \"Black\"}, \"1\": {\"Grade Type\": \"Regular\"}, \"2\": {\"Length\": \"11 in\"}, \"3\": {\"Material\": \"Plastic\"}, \"4\": {\"Mounting Hardware Included\": \"Yes\"}, \"5\": {\"Package Contents\": \"Timing Cover; Gasket; Seal\"}, \"6\": {\"Package Quantity\": \"1\"}, \"7\": {\"Packaging Type\": \"Box\"}, \"8\": {\"Width (in)\": \"8 in\"}}'}]"
      ]
     },
     "execution_count": 15,
     "metadata": {},
     "output_type": "execute_result"
    }
   ],
   "source": [
    "list_dict_correct.append({'No': crawler_series['No'],\n",
    "                          'Type': type_,\n",
    "                          'Part Number': part_number,\n",
    "                          'Brand': brand,\n",
    "                          'Description': description,\n",
    "                          'Warning': warning.strip(),\n",
    "                          'Application Summary': application_summary,\n",
    "                          'OEM': oem,\n",
    "                          'Picture': '',\n",
    "                          'Url': crawler_series['Url'],\n",
    "                          'Json_Src': json.dumps(dict_src),\n",
    "                          'Vehicle Url': vehicle_url,\n",
    "                          'Json_Specification': json.dumps(dict_specification)})\n",
    "\n",
    "list_dict_correct"
   ]
  },
  {
   "cell_type": "code",
   "execution_count": 16,
   "id": "fc4ed7f6-ed4f-431c-b944-b1690309cdae",
   "metadata": {},
   "outputs": [
    {
     "data": {
      "text/plain": [
       "True"
      ]
     },
     "execution_count": 16,
     "metadata": {},
     "output_type": "execute_result"
    }
   ],
   "source": [
    "crawler_status = True\n",
    "\n",
    "crawler_status"
   ]
  },
  {
   "cell_type": "code",
   "execution_count": 17,
   "id": "65c745d1-446e-46c5-9dec-819c9f7944d3",
   "metadata": {},
   "outputs": [
    {
     "data": {
      "text/plain": [
       "[No                                                             1\n",
       " Url            https://www.dormanproducts.com/p-8023-635-505....\n",
       " Request_Url    https://www.dormanproducts.com/p-8023-635-505....\n",
       " Name: 0, dtype: object]"
      ]
     },
     "execution_count": 17,
     "metadata": {},
     "output_type": "execute_result"
    }
   ],
   "source": [
    "crawler_series['Request_Url'] = url_request\n",
    "\n",
    "list_series_error.append(crawler_series)\n",
    "\n",
    "list_series_error"
   ]
  },
  {
   "cell_type": "code",
   "execution_count": 18,
   "id": "17a796b2-35c8-4c10-960e-6111fec4b993",
   "metadata": {},
   "outputs": [
    {
     "name": "stdout",
     "output_type": "stream",
     "text": [
      "Data Outputting...\n"
     ]
    },
    {
     "data": {
      "text/html": [
       "<div>\n",
       "<style scoped>\n",
       "    .dataframe tbody tr th:only-of-type {\n",
       "        vertical-align: middle;\n",
       "    }\n",
       "\n",
       "    .dataframe tbody tr th {\n",
       "        vertical-align: top;\n",
       "    }\n",
       "\n",
       "    .dataframe thead th {\n",
       "        text-align: right;\n",
       "    }\n",
       "</style>\n",
       "<table border=\"1\" class=\"dataframe\">\n",
       "  <thead>\n",
       "    <tr style=\"text-align: right;\">\n",
       "      <th></th>\n",
       "      <th>No</th>\n",
       "      <th>Type</th>\n",
       "      <th>Part Number</th>\n",
       "      <th>Brand</th>\n",
       "      <th>Description</th>\n",
       "      <th>Application Summary</th>\n",
       "      <th>Warning</th>\n",
       "      <th>OEM</th>\n",
       "      <th>Picture</th>\n",
       "      <th>Url</th>\n",
       "      <th>Json_Src</th>\n",
       "      <th>Vehicle Url</th>\n",
       "      <th>Json_Specification</th>\n",
       "    </tr>\n",
       "  </thead>\n",
       "  <tbody>\n",
       "    <tr>\n",
       "      <th>0</th>\n",
       "      <td>1</td>\n",
       "      <td>Timing Cover</td>\n",
       "      <td>635-505</td>\n",
       "      <td>Dorman - OE Solutions</td>\n",
       "      <td>Timing Cover With Gasket And Seal</td>\n",
       "      <td>GENERAL MOTORS 2005-87, ISUZU 2003-93</td>\n",
       "      <td></td>\n",
       "      <td>12523972;12523973;12552427;12558343;12562818;8...</td>\n",
       "      <td></td>\n",
       "      <td>https://www.dormanproducts.com/p-8023-635-505....</td>\n",
       "      <td>{\"0\": \"https://static.dormanproducts.com/image...</td>\n",
       "      <td>https://www.dormanproducts.com/itemdetailapp.a...</td>\n",
       "      <td>{\"0\": {\"Color\": \"Black\"}, \"1\": {\"Grade Type\": ...</td>\n",
       "    </tr>\n",
       "  </tbody>\n",
       "</table>\n",
       "</div>"
      ],
      "text/plain": [
       "   No          Type Part Number                  Brand  \\\n",
       "0   1  Timing Cover     635-505  Dorman - OE Solutions   \n",
       "\n",
       "                         Description                    Application Summary  \\\n",
       "0  Timing Cover With Gasket And Seal  GENERAL MOTORS 2005-87, ISUZU 2003-93   \n",
       "\n",
       "  Warning                                                OEM Picture  \\\n",
       "0          12523972;12523973;12552427;12558343;12562818;8...           \n",
       "\n",
       "                                                 Url  \\\n",
       "0  https://www.dormanproducts.com/p-8023-635-505....   \n",
       "\n",
       "                                            Json_Src  \\\n",
       "0  {\"0\": \"https://static.dormanproducts.com/image...   \n",
       "\n",
       "                                         Vehicle Url  \\\n",
       "0  https://www.dormanproducts.com/itemdetailapp.a...   \n",
       "\n",
       "                                  Json_Specification  \n",
       "0  {\"0\": {\"Color\": \"Black\"}, \"1\": {\"Grade Type\": ...  "
      ]
     },
     "execution_count": 18,
     "metadata": {},
     "output_type": "execute_result"
    }
   ],
   "source": [
    "print('Data Outputting...')\n",
    "if list_dict_correct:\n",
    "    df_correct = pd.DataFrame(list_dict_correct).sort_values(by=['Type', 'Part Number'],\n",
    "                                                             ascending=[True, True],\n",
    "                                                             ignore_index=True)\n",
    "    df_correct['No'] = range(1, len(df_correct) + 1)\n",
    "    df_correct.to_excel('./test_part.xlsx', index=False)\n",
    "\n",
    "df_correct if list_dict_correct else ''"
   ]
  },
  {
   "cell_type": "code",
   "execution_count": 19,
   "id": "9bf713a9-1e05-4cd9-aa90-0340ee852a3e",
   "metadata": {},
   "outputs": [
    {
     "name": "stdout",
     "output_type": "stream",
     "text": [
      "Output Finished !\n",
      "\n"
     ]
    }
   ],
   "source": [
    "print('Output Finished !')\n",
    "print()"
   ]
  },
  {
   "cell_type": "code",
   "execution_count": 20,
   "id": "b21c3fac-203a-4c6e-b7ae-b0ac1a112665",
   "metadata": {},
   "outputs": [
    {
     "name": "stdout",
     "output_type": "stream",
     "text": [
      "- Error Occurred -\n",
      "\n"
     ]
    },
    {
     "data": {
      "text/html": [
       "<div>\n",
       "<style scoped>\n",
       "    .dataframe tbody tr th:only-of-type {\n",
       "        vertical-align: middle;\n",
       "    }\n",
       "\n",
       "    .dataframe tbody tr th {\n",
       "        vertical-align: top;\n",
       "    }\n",
       "\n",
       "    .dataframe thead th {\n",
       "        text-align: right;\n",
       "    }\n",
       "</style>\n",
       "<table border=\"1\" class=\"dataframe\">\n",
       "  <thead>\n",
       "    <tr style=\"text-align: right;\">\n",
       "      <th></th>\n",
       "      <th>No</th>\n",
       "      <th>Url</th>\n",
       "      <th>Request_Url</th>\n",
       "    </tr>\n",
       "  </thead>\n",
       "  <tbody>\n",
       "    <tr>\n",
       "      <th>0</th>\n",
       "      <td>1</td>\n",
       "      <td>https://www.dormanproducts.com/p-8023-635-505....</td>\n",
       "      <td>https://www.dormanproducts.com/p-8023-635-505....</td>\n",
       "    </tr>\n",
       "  </tbody>\n",
       "</table>\n",
       "</div>"
      ],
      "text/plain": [
       "   No                                                Url  \\\n",
       "0   1  https://www.dormanproducts.com/p-8023-635-505....   \n",
       "\n",
       "                                         Request_Url  \n",
       "0  https://www.dormanproducts.com/p-8023-635-505....  "
      ]
     },
     "execution_count": 20,
     "metadata": {},
     "output_type": "execute_result"
    }
   ],
   "source": [
    "if list_series_error:\n",
    "    df_error = pd.DataFrame(list_series_error).sort_values(by=['No'],\n",
    "                                                           ascending=[True],\n",
    "                                                           ignore_index=True)\n",
    "    df_error.to_excel('./test_part_error.xlsx', index=False)\n",
    "    print('- Error Occurred -')\n",
    "    print()\n",
    "\n",
    "df_error if list_series_error else ''"
   ]
  },
  {
   "cell_type": "code",
   "execution_count": 21,
   "id": "71005f89-2624-4cbf-b626-24658ebeadf6",
   "metadata": {},
   "outputs": [
    {
     "name": "stdout",
     "output_type": "stream",
     "text": [
      "Done ~\n"
     ]
    }
   ],
   "source": [
    "print('Done ~')"
   ]
  },
  {
   "cell_type": "code",
   "execution_count": null,
   "id": "ba5d9f77-7464-4ad5-a42b-1fa0c0505832",
   "metadata": {},
   "outputs": [],
   "source": []
  }
 ],
 "metadata": {
  "kernelspec": {
   "display_name": "Python 3 (ipykernel)",
   "language": "python",
   "name": "python3"
  },
  "language_info": {
   "codemirror_mode": {
    "name": "ipython",
    "version": 3
   },
   "file_extension": ".py",
   "mimetype": "text/x-python",
   "name": "python",
   "nbconvert_exporter": "python",
   "pygments_lexer": "ipython3",
   "version": "3.12.7"
  }
 },
 "nbformat": 4,
 "nbformat_minor": 5
}
