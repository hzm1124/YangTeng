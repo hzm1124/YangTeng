{
 "cells": [
  {
   "cell_type": "code",
   "execution_count": 1,
   "id": "bc43eeb9-298f-4060-a29f-6cfeca9ef980",
   "metadata": {},
   "outputs": [],
   "source": [
    "import os\n",
    "\n",
    "# = = = = = = = = = = = = = = =\n",
    "\n",
    "import pandas as pd\n",
    "\n",
    "# = = = = = = = = = = = = = = =\n",
    "\n",
    "import requests\n",
    "\n",
    "import sys\n",
    "sys.path.append('../00.Tools')\n",
    "from crawler_configuration import get_header, get_proxy\n",
    "\n",
    "import json"
   ]
  },
  {
   "cell_type": "code",
   "execution_count": 2,
   "id": "1549e972-a339-4b58-be42-48542af8a6b2",
   "metadata": {},
   "outputs": [
    {
     "data": {
      "text/plain": [
       "'crawler_1.xlsx'"
      ]
     },
     "execution_count": 2,
     "metadata": {},
     "output_type": "execute_result"
    }
   ],
   "source": [
    "directory_in = './file/2.part'\n",
    "\n",
    "list_file = [file for file in sorted(os.listdir(directory_in)) if file not in ['.DS_Store'] and os.path.isfile(f'{directory_in}/{file}')]\n",
    "file = list_file[0]\n",
    "\n",
    "file"
   ]
  },
  {
   "cell_type": "code",
   "execution_count": 3,
   "id": "e54a1949-c728-4502-91a4-65957f9a0d43",
   "metadata": {},
   "outputs": [
    {
     "name": "stdout",
     "output_type": "stream",
     "text": [
      "总数量：10\n",
      "\n"
     ]
    },
    {
     "data": {
      "text/html": [
       "<div>\n",
       "<style scoped>\n",
       "    .dataframe tbody tr th:only-of-type {\n",
       "        vertical-align: middle;\n",
       "    }\n",
       "\n",
       "    .dataframe tbody tr th {\n",
       "        vertical-align: top;\n",
       "    }\n",
       "\n",
       "    .dataframe thead th {\n",
       "        text-align: right;\n",
       "    }\n",
       "</style>\n",
       "<table border=\"1\" class=\"dataframe\">\n",
       "  <thead>\n",
       "    <tr style=\"text-align: right;\">\n",
       "      <th></th>\n",
       "      <th>No</th>\n",
       "      <th>Part Number</th>\n",
       "      <th>Vehicle</th>\n",
       "      <th>Picture</th>\n",
       "      <th>Url</th>\n",
       "      <th>Json_Type</th>\n",
       "      <th>Json_Info</th>\n",
       "      <th>Json_Specification</th>\n",
       "    </tr>\n",
       "  </thead>\n",
       "  <tbody>\n",
       "    <tr>\n",
       "      <th>0</th>\n",
       "      <td>1</td>\n",
       "      <td>16149</td>\n",
       "      <td>Buick Century (94-76)\\nBuick Commercial Chassi...</td>\n",
       "      <td></td>\n",
       "      <td>https://www.4s.com/en/ecatalog?part=16149&amp;type...</td>\n",
       "      <td>{\"0\": \"Evaporator Cores\"}</td>\n",
       "      <td>{\"Brand\": \"FS\", \"Partdesc_En\": \"Evaporator Cor...</td>\n",
       "      <td>{\"0\": {\"Description\": \"Evaporator Cores\"}, \"1\"...</td>\n",
       "    </tr>\n",
       "    <tr>\n",
       "      <th>1</th>\n",
       "      <td>2</td>\n",
       "      <td>16152</td>\n",
       "      <td>Buick Century (94-76)\\nBuick Commercial Chassi...</td>\n",
       "      <td></td>\n",
       "      <td>https://www.4s.com/en/ecatalog?part=16152&amp;type...</td>\n",
       "      <td>{\"0\": \"Evaporator Cores\"}</td>\n",
       "      <td>{\"Brand\": \"FS\", \"Partdesc_En\": \"Evaporator Cor...</td>\n",
       "      <td>{\"0\": {\"Description\": \"Evaporator Cores\"}, \"1\"...</td>\n",
       "    </tr>\n",
       "    <tr>\n",
       "      <th>2</th>\n",
       "      <td>3</td>\n",
       "      <td>16155</td>\n",
       "      <td>Ford Aerostar (94-86)\\nFord Aspire (94)\\nFord ...</td>\n",
       "      <td></td>\n",
       "      <td>https://www.4s.com/en/ecatalog?part=16155&amp;type...</td>\n",
       "      <td>{\"0\": \"Evaporator Cores\"}</td>\n",
       "      <td>{\"Brand\": \"FS\", \"Partdesc_En\": \"Evaporator Cor...</td>\n",
       "      <td>{\"0\": {\"Description\": \"Evaporator Cores\"}, \"1\"...</td>\n",
       "    </tr>\n",
       "    <tr>\n",
       "      <th>3</th>\n",
       "      <td>4</td>\n",
       "      <td>44001</td>\n",
       "      <td>Audi A3 (13-06)\\nAudi A3 Quattro (13-06)\\nAudi...</td>\n",
       "      <td></td>\n",
       "      <td>https://www.4s.com/en/ecatalog?part=44001&amp;type...</td>\n",
       "      <td>{\"0\": \"Evaporator Cores\"}</td>\n",
       "      <td>{\"Brand\": \"FS\", \"Partdesc_En\": \"Evaporator Cor...</td>\n",
       "      <td>{\"0\": {\"Inlet Size\": \"No. 8\"}, \"1\": {\"Inlet St...</td>\n",
       "    </tr>\n",
       "    <tr>\n",
       "      <th>4</th>\n",
       "      <td>5</td>\n",
       "      <td>44002</td>\n",
       "      <td>Toyota Highlander (07-06)</td>\n",
       "      <td></td>\n",
       "      <td>https://www.4s.com/en/ecatalog?part=44002&amp;type...</td>\n",
       "      <td>{\"0\": \"Evaporator Cores\"}</td>\n",
       "      <td>{\"Brand\": \"FS\", \"Partdesc_En\": \"Evaporator Cor...</td>\n",
       "      <td>{\"0\": {\"Inlet Size\": \"No. 6\"}, \"1\": {\"Inlet St...</td>\n",
       "    </tr>\n",
       "    <tr>\n",
       "      <th>5</th>\n",
       "      <td>6</td>\n",
       "      <td>44003</td>\n",
       "      <td>Subaru Impreza (07-02)</td>\n",
       "      <td></td>\n",
       "      <td>https://www.4s.com/en/ecatalog?part=44003&amp;type...</td>\n",
       "      <td>{\"0\": \"Evaporator Cores\"}</td>\n",
       "      <td>{\"Brand\": \"FS\", \"Partdesc_En\": \"Evaporator Cor...</td>\n",
       "      <td>{\"0\": {\"Inlet Size\": \"No. 8\"}, \"1\": {\"Outlet G...</td>\n",
       "    </tr>\n",
       "    <tr>\n",
       "      <th>6</th>\n",
       "      <td>7</td>\n",
       "      <td>44014</td>\n",
       "      <td>Suzuki Aerio (07-02)</td>\n",
       "      <td></td>\n",
       "      <td>https://www.4s.com/en/ecatalog?part=44014&amp;type...</td>\n",
       "      <td>{\"0\": \"Evaporator Cores\"}</td>\n",
       "      <td>{\"Brand\": \"FS\", \"Partdesc_En\": \"Evaporator Cor...</td>\n",
       "      <td>{\"0\": {\"Inlet Size\": \"No. 8\"}, \"1\": {\"Inlet St...</td>\n",
       "    </tr>\n",
       "    <tr>\n",
       "      <th>7</th>\n",
       "      <td>8</td>\n",
       "      <td>44015</td>\n",
       "      <td>Chevrolet Optra (07-04)\\nSuzuki Forenza (08-04...</td>\n",
       "      <td></td>\n",
       "      <td>https://www.4s.com/en/ecatalog?part=44015&amp;type...</td>\n",
       "      <td>{\"0\": \"Evaporator Cores\"}</td>\n",
       "      <td>{\"Brand\": \"FS\", \"Partdesc_En\": \"Evaporator Cor...</td>\n",
       "      <td>{\"0\": {\"Inlet Size\": \"No. 8\"}, \"1\": {\"Inlet St...</td>\n",
       "    </tr>\n",
       "    <tr>\n",
       "      <th>8</th>\n",
       "      <td>9</td>\n",
       "      <td>44017</td>\n",
       "      <td>Suzuki Grand Vitara (05-03)\\nSuzuki XL-7 (06-03)</td>\n",
       "      <td></td>\n",
       "      <td>https://www.4s.com/en/ecatalog?part=44017&amp;type...</td>\n",
       "      <td>{\"0\": \"Evaporator Cores\"}</td>\n",
       "      <td>{\"Brand\": \"FS\", \"Partdesc_En\": \"Evaporator Cor...</td>\n",
       "      <td>{\"0\": {\"Inlet Size\": \"No. 10\"}, \"1\": {\"Inlet S...</td>\n",
       "    </tr>\n",
       "    <tr>\n",
       "      <th>9</th>\n",
       "      <td>10</td>\n",
       "      <td>44021</td>\n",
       "      <td>Saab 9-5 (09-99)</td>\n",
       "      <td></td>\n",
       "      <td>https://www.4s.com/en/ecatalog?part=44021&amp;type...</td>\n",
       "      <td>{\"0\": \"Evaporator Cores\"}</td>\n",
       "      <td>{\"Brand\": \"FS\", \"Partdesc_En\": \"Evaporator Cor...</td>\n",
       "      <td>{\"0\": {\"Inlet Size\": \"No. 6\"}, \"1\": {\"Inlet St...</td>\n",
       "    </tr>\n",
       "  </tbody>\n",
       "</table>\n",
       "</div>"
      ],
      "text/plain": [
       "   No Part Number                                            Vehicle Picture  \\\n",
       "0   1       16149  Buick Century (94-76)\\nBuick Commercial Chassi...           \n",
       "1   2       16152  Buick Century (94-76)\\nBuick Commercial Chassi...           \n",
       "2   3       16155  Ford Aerostar (94-86)\\nFord Aspire (94)\\nFord ...           \n",
       "3   4       44001  Audi A3 (13-06)\\nAudi A3 Quattro (13-06)\\nAudi...           \n",
       "4   5       44002                          Toyota Highlander (07-06)           \n",
       "5   6       44003                             Subaru Impreza (07-02)           \n",
       "6   7       44014                               Suzuki Aerio (07-02)           \n",
       "7   8       44015  Chevrolet Optra (07-04)\\nSuzuki Forenza (08-04...           \n",
       "8   9       44017   Suzuki Grand Vitara (05-03)\\nSuzuki XL-7 (06-03)           \n",
       "9  10       44021                                   Saab 9-5 (09-99)           \n",
       "\n",
       "                                                 Url  \\\n",
       "0  https://www.4s.com/en/ecatalog?part=16149&type...   \n",
       "1  https://www.4s.com/en/ecatalog?part=16152&type...   \n",
       "2  https://www.4s.com/en/ecatalog?part=16155&type...   \n",
       "3  https://www.4s.com/en/ecatalog?part=44001&type...   \n",
       "4  https://www.4s.com/en/ecatalog?part=44002&type...   \n",
       "5  https://www.4s.com/en/ecatalog?part=44003&type...   \n",
       "6  https://www.4s.com/en/ecatalog?part=44014&type...   \n",
       "7  https://www.4s.com/en/ecatalog?part=44015&type...   \n",
       "8  https://www.4s.com/en/ecatalog?part=44017&type...   \n",
       "9  https://www.4s.com/en/ecatalog?part=44021&type...   \n",
       "\n",
       "                   Json_Type  \\\n",
       "0  {\"0\": \"Evaporator Cores\"}   \n",
       "1  {\"0\": \"Evaporator Cores\"}   \n",
       "2  {\"0\": \"Evaporator Cores\"}   \n",
       "3  {\"0\": \"Evaporator Cores\"}   \n",
       "4  {\"0\": \"Evaporator Cores\"}   \n",
       "5  {\"0\": \"Evaporator Cores\"}   \n",
       "6  {\"0\": \"Evaporator Cores\"}   \n",
       "7  {\"0\": \"Evaporator Cores\"}   \n",
       "8  {\"0\": \"Evaporator Cores\"}   \n",
       "9  {\"0\": \"Evaporator Cores\"}   \n",
       "\n",
       "                                           Json_Info  \\\n",
       "0  {\"Brand\": \"FS\", \"Partdesc_En\": \"Evaporator Cor...   \n",
       "1  {\"Brand\": \"FS\", \"Partdesc_En\": \"Evaporator Cor...   \n",
       "2  {\"Brand\": \"FS\", \"Partdesc_En\": \"Evaporator Cor...   \n",
       "3  {\"Brand\": \"FS\", \"Partdesc_En\": \"Evaporator Cor...   \n",
       "4  {\"Brand\": \"FS\", \"Partdesc_En\": \"Evaporator Cor...   \n",
       "5  {\"Brand\": \"FS\", \"Partdesc_En\": \"Evaporator Cor...   \n",
       "6  {\"Brand\": \"FS\", \"Partdesc_En\": \"Evaporator Cor...   \n",
       "7  {\"Brand\": \"FS\", \"Partdesc_En\": \"Evaporator Cor...   \n",
       "8  {\"Brand\": \"FS\", \"Partdesc_En\": \"Evaporator Cor...   \n",
       "9  {\"Brand\": \"FS\", \"Partdesc_En\": \"Evaporator Cor...   \n",
       "\n",
       "                                  Json_Specification  \n",
       "0  {\"0\": {\"Description\": \"Evaporator Cores\"}, \"1\"...  \n",
       "1  {\"0\": {\"Description\": \"Evaporator Cores\"}, \"1\"...  \n",
       "2  {\"0\": {\"Description\": \"Evaporator Cores\"}, \"1\"...  \n",
       "3  {\"0\": {\"Inlet Size\": \"No. 8\"}, \"1\": {\"Inlet St...  \n",
       "4  {\"0\": {\"Inlet Size\": \"No. 6\"}, \"1\": {\"Inlet St...  \n",
       "5  {\"0\": {\"Inlet Size\": \"No. 8\"}, \"1\": {\"Outlet G...  \n",
       "6  {\"0\": {\"Inlet Size\": \"No. 8\"}, \"1\": {\"Inlet St...  \n",
       "7  {\"0\": {\"Inlet Size\": \"No. 8\"}, \"1\": {\"Inlet St...  \n",
       "8  {\"0\": {\"Inlet Size\": \"No. 10\"}, \"1\": {\"Inlet S...  \n",
       "9  {\"0\": {\"Inlet Size\": \"No. 6\"}, \"1\": {\"Inlet St...  "
      ]
     },
     "execution_count": 3,
     "metadata": {},
     "output_type": "execute_result"
    }
   ],
   "source": [
    "list_dict_correct, list_series_error, df_input = [], [], pd.read_excel(f'{directory_in}/{file}',\n",
    "                                                                       header=0,\n",
    "                                                                       dtype=str).fillna('')\n",
    "\n",
    "df_input['No'] = df_input['No'].astype(int)\n",
    "\n",
    "count_remain = len(df_input)\n",
    "\n",
    "print(f'总数量：{count_remain}')\n",
    "print()\n",
    "df_input"
   ]
  },
  {
   "cell_type": "code",
   "execution_count": 4,
   "id": "42130183-3b93-4078-ae77-346b4df4e38c",
   "metadata": {},
   "outputs": [
    {
     "data": {
      "text/plain": [
       "(0,\n",
       " No                                                                    1\n",
       " Part Number                                                       16149\n",
       " Vehicle               Buick Century (94-76)\\nBuick Commercial Chassi...\n",
       " Picture                                                                \n",
       " Url                   https://www.4s.com/en/ecatalog?part=16149&type...\n",
       " Json_Type                                     {\"0\": \"Evaporator Cores\"}\n",
       " Json_Info             {\"Brand\": \"FS\", \"Partdesc_En\": \"Evaporator Cor...\n",
       " Json_Specification    {\"0\": {\"Description\": \"Evaporator Cores\"}, \"1\"...\n",
       " Name: 0, dtype: object)"
      ]
     },
     "execution_count": 4,
     "metadata": {},
     "output_type": "execute_result"
    }
   ],
   "source": [
    "(crawler_index, crawler_series) = next(df_input.iterrows())\n",
    "\n",
    "crawler_index, crawler_series"
   ]
  },
  {
   "cell_type": "code",
   "execution_count": 5,
   "id": "d1573928-cf3f-4364-b75a-2fd32bac0395",
   "metadata": {
    "scrolled": true
   },
   "outputs": [
    {
     "name": "stdout",
     "output_type": "stream",
     "text": [
      "1\n",
      "2\n",
      "3\n"
     ]
    },
    {
     "data": {
      "text/plain": [
       "[{'image_Name': 'an5RNhBbTaW8ESH39gxauA%3D%3D',\n",
       "  'image_SM_Url': 'https://ecatalog.smpcorp.com/ihgs/imagehandlergs.ashx?p1=Lf3LOZlbvP7Jft10deMxoz9FNpDfGKFIWs34AmcG1EkFoZj0BakHNJNQ1b29Bl9rrm+ZHodTWPuhIKBw3J5SZ5iH9+8ykTJFSKEulrQ0hiWTskhDbDVIOt4K7Mm/YEv3m/CH1/uYPCgXGfdCmo4YlLSCFlglY/QZQv5WmfeOJu+OwchnA7eUeoCVr2tY/p7ZDAHjgKRqmAc=',\n",
       "  'image_MD_Url': 'https://ecatalog.smpcorp.com/ihgs/imagehandlergs.ashx?p1=Lf3LOZlbvP7Jft10deMxoz9FNpDfGKFIBku710yGpH9FcDDlxAl21JjdM1MBF2DYbEHUQlckYE7y916PDj4mUplpjLqJxiUyNc0Dfr4BAXPekNlQ51Q7yIznwcghdmhavbavYiSVAdwf+9wZqa98qtm7sKfwrflTMy6SeCRll1de6HvIQhl+jzjDhxvwYePi',\n",
       "  'image_BG_Url': 'https://ecatalog.smpcorp.com/ihgs/imagehandlergs.ashx?p1=Lf3LOZlbvP7Jft10deMxoyYF4nkLByFFki+PA/U85oZ69vnlsYVtke72HZkm08flMYvVb8ruU/a2jlDyZ/9SFhHKSDnV/vfUm++2cf2MyJSTHiO+uZMQDMRJmK/E5kGqgMS+q/NNn547DcAIwETg0y25P99XRlgKx3ZqETXguu0EByohZC+QPIhJb67kWwLn'},\n",
       " {'image_Name': 'iGIGosKAhGjaaKLdkKYVKA%3D%3D',\n",
       "  'image_SM_Url': 'https://ecatalog.smpcorp.com/ihgs/imagehandlergs.ashx?p1=Lf3LOZlbvP7Jft10deMxoz9FNpDfGKFIWs34AmcG1EkFoZj0BakHNCzZfpad1BudB6ex4HxPMh4yg377e+JsoUZUL7xVryMtojyBCpFeGSxWqD5Bp0XNnoB+eczC8Ba/Gz8cEDbdQ9gwmLV0CmEEhyv6bt/Hg5b091iKHUH1BXV8Sg9WfQj3qgnr8cw6ZyyJbaeRDCHXYaw=',\n",
       "  'image_MD_Url': 'https://ecatalog.smpcorp.com/ihgs/imagehandlergs.ashx?p1=Lf3LOZlbvP7Jft10deMxoz9FNpDfGKFIBku710yGpH9FcDDlxAl21ICBnSk76nkP7vYdmSbTx+Uxi9Vvyu5T9raOUPJn/1IWEcpIOdX+99Sb77Zx/YzIlJMeI765kxAMxEmYr8TmQaqAxL6r802fnjsNwAjARODTLbk/31dGWArHdmoRNeC67QQHKiFkL5A8iElvruRbAuc=',\n",
       "  'image_BG_Url': 'https://ecatalog.smpcorp.com/ihgs/imagehandlergs.ashx?p1=Lf3LOZlbvP7Jft10deMxoyYF4nkLByFFki+PA/U85oYUMjZMJgXsjvFN3woIsCq7bEHUQlckYE7y916PDj4mUplpjLqJxiUyNc0Dfr4BAXPekNlQ51Q7yIznwcghdmhavbavYiSVAdwf+9wZqa98qtm7sKfwrflTMy6SeCRll1de6HvIQhl+jzjDhxvwYePi'}]"
      ]
     },
     "execution_count": 5,
     "metadata": {},
     "output_type": "execute_result"
    }
   ],
   "source": [
    "import time\n",
    "\n",
    "count_retry = 0\n",
    "while True:\n",
    "    count_retry += 1\n",
    "    print(count_retry)\n",
    "    try:\n",
    "        url_request, url_check = f'''https://ecatalog.smpcorp.com/v2/fs/api/image/getallimages?partNum={crawler_series['Part Number']}&brand={json.loads(crawler_series['Json_Info'])['Brand']}&zoomFactor_sm=75&zoomFactor_md=360&zoomFactor_bg=960''', crawler_series['Url']\n",
    "\n",
    "        resp = requests.get(url_request,\n",
    "                            headers=get_header(),\n",
    "                            proxies=get_proxy(),\n",
    "                            timeout=(5, 15))\n",
    "\n",
    "        if resp.status_code == 200:\n",
    "            break\n",
    "    except KeyboardInterrupt:\n",
    "        break\n",
    "    except:\n",
    "        time.sleep(3)\n",
    "        continue\n",
    "\n",
    "resp.json()"
   ]
  },
  {
   "cell_type": "code",
   "execution_count": 6,
   "id": "99c448e5-f241-47f6-bdd9-41d9d62ed617",
   "metadata": {},
   "outputs": [
    {
     "data": {
      "text/plain": [
       "{'0': 'https://ecatalog.smpcorp.com/ihgs/imagehandlergs.ashx?p1=Lf3LOZlbvP7Jft10deMxoyYF4nkLByFFki+PA/U85oZ69vnlsYVtke72HZkm08flMYvVb8ruU/a2jlDyZ/9SFhHKSDnV/vfUm++2cf2MyJSTHiO+uZMQDMRJmK/E5kGqgMS+q/NNn547DcAIwETg0y25P99XRlgKx3ZqETXguu0EByohZC+QPIhJb67kWwLn',\n",
       " '1': 'https://ecatalog.smpcorp.com/ihgs/imagehandlergs.ashx?p1=Lf3LOZlbvP7Jft10deMxoyYF4nkLByFFki+PA/U85oYUMjZMJgXsjvFN3woIsCq7bEHUQlckYE7y916PDj4mUplpjLqJxiUyNc0Dfr4BAXPekNlQ51Q7yIznwcghdmhavbavYiSVAdwf+9wZqa98qtm7sKfwrflTMy6SeCRll1de6HvIQhl+jzjDhxvwYePi'}"
      ]
     },
     "execution_count": 6,
     "metadata": {},
     "output_type": "execute_result"
    }
   ],
   "source": [
    "dict_src = {}\n",
    "for i, dict_ in enumerate(resp.json()):\n",
    "    dict_src[str(i)] = dict_['image_BG_Url'].strip()\n",
    "\n",
    "dict_src"
   ]
  },
  {
   "cell_type": "code",
   "execution_count": 7,
   "id": "680faf74-7295-4e89-9b19-a2879c8bd7e0",
   "metadata": {
    "scrolled": true
   },
   "outputs": [
    {
     "data": {
      "text/plain": [
       "[{'No': 1,\n",
       "  'Part Number': '16149',\n",
       "  'Vehicle': 'Buick Century (94-76)\\nBuick Commercial Chassis (94-91)\\nBuick Electra (90-76)\\nBuick Estate Wagon (83-76)\\nBuick LeSabre (94-76)\\nBuick Opel (79-76)\\nBuick Park Avenue (94-91)\\nBuick Reatta (91-88)\\nBuick Regal (94-76)\\nBuick Riviera (93-76)\\nBuick Roadmaster (94-91)\\nBuick Skyhawk (89-82), (80-76)\\nBuick Skylark (94-76)\\nBuick Somerset (87-86)\\nBuick Somerset Regal (85)\\nCadillac 60 Special (93)\\nCadillac Allante (93-87)\\nCadillac Brougham (92-87)\\nCadillac Calais (76)\\nCadillac Cimarron (88-82)\\nCadillac Commercial Chassis (94-76)\\nCadillac DeVille (94-76)\\nCadillac Eldorado (94-76)\\nCadillac Fleetwood (94-76)\\nCadillac Seville (94-76)\\nChevrolet Astro (94-85)\\nChevrolet Bel Air (81)\\nChevrolet Beretta (94-87)\\nChevrolet Blazer (94-87)\\nChevrolet C10 (86-76)\\nChevrolet C10 Suburban (86-76)\\nChevrolet C15 (88-82)\\nChevrolet C1500 (94-88)\\nChevrolet C1500 Suburban (94-92)\\nChevrolet C20 (87-76)\\nChevrolet C20 Suburban (86-76)\\nChevrolet C2500 (94-88)\\nChevrolet C2500 Suburban (94-92)\\nChevrolet C30 (86-76)\\nChevrolet C35 (94-83)\\nChevrolet C3500 (94-88)\\nChevrolet Camaro (94-76)\\nChevrolet Caprice (94-76)\\nChevrolet Cavalier (94-82)\\nChevrolet Celebrity (90-82)\\nChevrolet Chevette (87-76)\\nChevrolet Chevy (94)\\nChevrolet Citation (86-80)\\nChevrolet Citation II (85-84)\\nChevrolet Commercial Chassis (94-91)\\nChevrolet Corsica (94-87)\\nChevrolet Corvette (94-84), (82-76)\\nChevrolet El Camino (87-76)\\nChevrolet G10 (94-76)\\nChevrolet G20 (94-76)\\nChevrolet G30 (94-76)\\nChevrolet Impala (94), (85-76)\\nChevrolet K10 (86-76)\\nChevrolet K10 Suburban (86-76)\\nChevrolet K1500 (94-88)\\nChevrolet K1500 Suburban (94-92)\\nChevrolet K20 (86-76)\\nChevrolet K20 Suburban (86-76)\\nChevrolet K2500 (94-88)\\nChevrolet K2500 Suburban (94-92)\\nChevrolet K30 (86-77)\\nChevrolet K3500 (94-88)\\nChevrolet K5 Blazer (86-76)\\nChevrolet Laguna (76)\\nChevrolet LLV (94-87)\\nChevrolet Lumina (94-90)\\nChevrolet Lumina APV (94-90)\\nChevrolet LUV (82-76)\\nChevrolet Malibu (83-76)\\nChevrolet Metro (92)\\nChevrolet Monte Carlo (88-76)\\nChevrolet Monza (80-76)\\nChevrolet Nova (88-85), (79-76)\\nChevrolet P10 (80-76)\\nChevrolet P20 (89-76)\\nChevrolet P30 (94-76)\\nChevrolet R10 (87)\\nChevrolet R10 Suburban (88-87)\\nChevrolet R1500 Suburban (91-89)\\nChevrolet R20 (88-87)\\nChevrolet R20 Suburban (88-87)\\nChevrolet R2500 (89)\\nChevrolet R2500 Suburban (91-89)\\nChevrolet R30 (88-87)\\nChevrolet R3500 (91-89)\\nChevrolet S10 (94-82)\\nChevrolet S10 Blazer (94-83)\\nChevrolet Spectrum (88-85)\\nChevrolet Sprint (92-85)\\nChevrolet Suburban (94-87)\\nChevrolet Tracker (91-89)\\nChevrolet V10 (87)\\nChevrolet V10 Suburban (88-87)\\nChevrolet V1500 Suburban (91-89)\\nChevrolet V20 (87)\\nChevrolet V20 Suburban (88-87)\\nChevrolet V2500 Suburban (91-89)\\nChevrolet V30 (88-87)\\nChevrolet V3500 (91-89)\\nChevrolet Vega (77-76)\\nFord Aerostar (94-86)\\nFord Aspire (94)\\nFord B-100 (80)\\nFord B-150 (85-81)\\nFord B-200 (91-85)\\nFord B-200 Panel (86)\\nFord B-600 (94-88)\\nFord B-700 (94-88)\\nFord Bronco (94-80)\\nFord Bronco II (90-84)\\nFord C800 (89-88)\\nFord C8000 (90-88)\\nFord CF6000 (90-88)\\nFord CF7000 (94-88)\\nFord CF8000 (94-88)\\nFord CFT8000 (94-92), (90-88)\\nFord CL9000 (91-88)\\nFord CLT9000 (91-88)\\nFord Cougar (94-90), (88-85)\\nFord Country Squire (91-87)\\nFord Courier (82-80)\\nFord Crown Victoria (94-92)\\nFord CT8000 (90-88)\\nFord E-100 Econoline (83-80)\\nFord E-100 Econoline Club Wagon (83-80)\\nFord E-150 Econoline (94-80)\\nFord E-150 Econoline Club Wagon (94-80)\\nFord E-250 Econoline (94-80)\\nFord E-250 Econoline Club Wagon (91-80)\\nFord E-350 Econoline (94-80)\\nFord E-350 Econoline Club Wagon (94-80)\\nFord Escort (94-81)\\nFord EXP (88-82)\\nFord Explorer (94-91)\\nFord F-100 (83-80)\\nFord F-150 (94-80)\\nFord F-200 (91-86)\\nFord F-250 (94-80)\\nFord F-350 (94-80)\\nFord F-53 Motorhome Chassis (94-88)\\nFord F-59 Commercial Stripped Chassis (94-88)\\nFord F-600 (94-88)\\nFord F-600 LPO (94-90)\\nFord F-700 (94-88)\\nFord F-700 LPO (94-90)\\nFord F-800 (94-88)\\nFord Fairmont (83-80)\\nFord Festiva (93-88)\\nFord Fiesta (80)\\nFord F-Super Duty (94-88)\\nFord FT800 (90-88)\\nFord FT900 (94-88)\\nFord Ghia (94-91)\\nFord Granada (82-80)\\nFord Grand Marquis (94-91)\\nFord L8000 (88)\\nFord L8000F (94-88)\\nFord L9000 (94-88)\\nFord LA8000F (94-91)\\nFord LA9000 (94-88)\\nFord LL9000 (94), (92-88)\\nFord LLA9000 (94-92)\\nFord LLS9000 (94)\\nFord LN7000 (94-88)\\nFord LN8000 (94-88)\\nFord LN9000 (94-88)\\nFord LNT8000 (89-88)\\nFord LNT8000F (94-88)\\nFord LNT9000 (94-88)\\nFord LS8000 (89-88)\\nFord LS8000F (94-88)\\nFord LS9000 (94-88)\\nFord LT8000 (88)\\nFord LT8000F (94-88)\\nFord LT9000 (94-88)\\nFord LTA9000 (94-88)\\nFord LTD (86-80)\\nFord LTD Crown Victoria (91-87)\\nFord LTL9000 (94-88)\\nFord LTLA9000 (94-92)\\nFord LTLS9000 (94-92)\\nFord LTS8000 (89-88)\\nFord LTS8000F (94-88)\\nFord LTS9000 (94-88)\\nFord Mustang (94-80)\\nFord P-350 (94-86)\\nFord P-600 (94-93)\\nFord Pinto (80)\\nFord Probe (94-89)\\nFord Ranger (94-83)\\nFord Sable (94)\\nFord Taurus (94-86)\\nFord Tempo (94-84)\\nFord Thunderbird (94-80)\\nFord Topaz (94-84)\\nGeo Tracker (94-89)\\nGMC Astro (88-81)\\nGMC B6000 (91-80)\\nGMC B7 (94-93)\\nGMC Brigadier (88-81)\\nGMC C15 (78-76)\\nGMC C15 Suburban (78-76)\\nGMC C1500 (94-88), (86-79)\\nGMC C1500 Suburban (94-92), (86-79)\\nGMC C25 (78-76)\\nGMC C25 Suburban (78-76)\\nGMC C2500 (94-88), (86-79)\\nGMC C2500 Suburban (94-92), (86-79)\\nGMC C35 (78-76)\\nGMC C3500 (94-88), (86-79)\\nGMC C3500HD (94-91)\\nGMC C5000 (90-79)\\nGMC C5000 Topkick (91-90)\\nGMC C6000 (90-79)\\nGMC C6000 Topkick (94-90)\\nGMC C7000 (90-79)\\nGMC C7000 Topkick (94-90)\\nGMC Caballero (87-78)\\nGMC G15 (78-76)\\nGMC G1500 (94-79)\\nGMC G25 (78-76)\\nGMC G2500 (94-79)\\nGMC G35 (78-76)\\nGMC G3500 (94-79)\\nGMC General (88-81)\\nGMC Jimmy (94-76)\\nGMC K15 (78-76)\\nGMC K15 Suburban (78-76)\\nGMC K1500 (94-88), (86-79)\\nGMC K1500 Suburban (94-92), (86-79)\\nGMC K25 (78-76)\\nGMC K25 Suburban (78-76)\\nGMC K2500 (94-88), (86-79)\\nGMC K2500 Suburban (94-92), (86-79)\\nGMC K35 (78-77)\\nGMC K3500 (94-88), (86-79)\\nGMC P15 (78-76)\\nGMC P1500 (80-79)\\nGMC P25 (78-76)\\nGMC P2500 (89-79)\\nGMC P35 (78-76)\\nGMC P3500 (94-79)\\nGMC P4500 (90-79)\\nGMC P60 (90-83)\\nGMC P6000 (94-92), (90-83)\\nGMC P6500 (94-92)\\nGMC R1500 (87)\\nGMC R1500 Suburban (91-87)\\nGMC R2500 (89-87)\\nGMC R2500 Suburban (91-87)\\nGMC R3500 (91-87)\\nGMC S15 (90-82)\\nGMC S15 Jimmy (91-83)\\nGMC Safari (94-85)\\nGMC Sonoma (94-91)\\nGMC Sprint (77-76)\\nGMC Syclone (91)\\nGMC Tracker (91-89)\\nGMC Transit Bus (87-81)\\nGMC Typhoon (93-92)\\nGMC V1500 (87)\\nGMC V1500 Suburban (91-87)\\nGMC V2500 (87)\\nGMC V2500 Suburban (91-87)\\nGMC V3500 (91-87)\\nGMC W4500 Forward (94-92)\\nGMC W5500 Forward (94-88)\\nGMC W6500 Forward (94-87)\\nGMC W7500 Forward (94-84)\\nGMC Yukon (94-92)\\nLincoln Continental (94-82), (80)\\nLincoln Mark VI (83-80)\\nLincoln Mark VII (92-84)\\nLincoln Mark VIII (94-93)\\nLincoln Town Car (94-81)\\nLincoln Versailles (80)\\nMercury Bobcat (80)\\nMercury Capri (94-91), (86-80)\\nMercury Colony Park (91-87)\\nMercury Cougar (94-80)\\nMercury Grand Marquis (94-80)\\nMercury LN7 (83-82)\\nMercury Lynx (87-81)\\nMercury Marquis (86-80)\\nMercury Monarch (80)\\nMercury Sable (94-86)\\nMercury Topaz (94-84)\\nMercury Tracer (94-87)\\nMercury Villager (94-93)\\nMercury Zephyr (83-80)\\nOldsmobile 88 (94-93)\\nOldsmobile 98 (94-76)\\nOldsmobile Achieva (94-92)\\nOldsmobile Bravada (94-91)\\nOldsmobile Calais (87-85)\\nOldsmobile Custom Cruiser (92-76)\\nOldsmobile Cutlass (94-85), (81-76)\\nOldsmobile Cutlass Calais (91-88), (84-78)\\nOldsmobile Cutlass Ciera (94-82)\\nOldsmobile Cutlass Cruiser (94-87), (83-80)\\nOldsmobile Cutlass Salon (87-85), (80-76)\\nOldsmobile Cutlass Supreme (94-76)\\nOldsmobile Cutlass Tiara (76)\\nOldsmobile Delta 88 (91-76)\\nOldsmobile Firenza (88-82)\\nOldsmobile Omega (84-76)\\nOldsmobile Silhouette (94-90)\\nOldsmobile Starfire (80-76)\\nOldsmobile Toronado (92-76)\\nPontiac 6000 (91-82)\\nPontiac Acadian (87-76)\\nPontiac Astre (77-76)\\nPontiac Bonneville (94-76)\\nPontiac Catalina (81-76)\\nPontiac Fiero (88-84)\\nPontiac Firebird (94-76)\\nPontiac Firefly (94), (91-85)\\nPontiac Grand Am (94-85), (80-78)\\nPontiac Grand LeMans (83-76)\\nPontiac Grand Prix (94-76)\\nPontiac Grand Safari (78-76)\\nPontiac J2000 (83-82)\\nPontiac J2000 Sunbird (85-84)\\nPontiac Laurentian (81-76)\\nPontiac LeMans (93-88), (81-76)\\nPontiac Optima (91-88)\\nPontiac Parisienne (86-76)\\nPontiac Phoenix (84-77)\\nPontiac Safari (89-87)\\nPontiac Sunbird (94-86), (80-76)\\nPontiac Sunburst (88-85)\\nPontiac Sunrunner (94)\\nPontiac T1000 (87-81)\\nPontiac Tempest (91-87)\\nPontiac Trans Sport (94-90)\\nPontiac Ventura (77-76)',\n",
       "  'Picture': '',\n",
       "  'Url': 'https://www.4s.com/en/ecatalog?part=16149&type=p&search=s',\n",
       "  'Json_Src': '{\"0\": \"https://ecatalog.smpcorp.com/ihgs/imagehandlergs.ashx?p1=Lf3LOZlbvP7Jft10deMxoyYF4nkLByFFki+PA/U85oZ69vnlsYVtke72HZkm08flMYvVb8ruU/a2jlDyZ/9SFhHKSDnV/vfUm++2cf2MyJSTHiO+uZMQDMRJmK/E5kGqgMS+q/NNn547DcAIwETg0y25P99XRlgKx3ZqETXguu0EByohZC+QPIhJb67kWwLn\", \"1\": \"https://ecatalog.smpcorp.com/ihgs/imagehandlergs.ashx?p1=Lf3LOZlbvP7Jft10deMxoyYF4nkLByFFki+PA/U85oYUMjZMJgXsjvFN3woIsCq7bEHUQlckYE7y916PDj4mUplpjLqJxiUyNc0Dfr4BAXPekNlQ51Q7yIznwcghdmhavbavYiSVAdwf+9wZqa98qtm7sKfwrflTMy6SeCRll1de6HvIQhl+jzjDhxvwYePi\"}',\n",
       "  'Json_Type': '{\"0\": \"Evaporator Cores\"}',\n",
       "  'Json_Info': '{\"Brand\": \"FS\", \"Partdesc_En\": \"Evaporator Core /Repair Kit\", \"Partlongdesc_En\": \"Evaporator Core Repair Kit w/o Orifice Tube\", \"Pop\": \"AA\", \"Qtyeach\": 1}',\n",
       "  'Json_Specification': '{\"0\": {\"Description\": \"Evaporator Cores\"}, \"1\": {\"Warranty\": \"120 days\"}, \"2\": {\"Core Depth Fraction\": \"0\"}, \"3\": {\"Core Height Fraction\": \"0\"}, \"4\": {\"Run  Length IN\": \"1.75\"}, \"5\": {\"Overall Height Fraction\": \"1\"}, \"6\": {\"Core Width Fraction\": \"0\"}, \"7\": {\"Overall Depth Fraction\": \"4-1/2\"}, \"8\": {\"Overall Width Fraction\": \"1\"}, \"9\": {\"Material\": \"Aluminum\"}, \"10\": {\"Style\": \"Evaporator Core Repair Kit w/o Orifice Tube\"}, \"11\": {\"Type\": \"Repair Kit\"}, \"12\": {\"Orifice Tube?\": \"w/o Orifice Tube\"}}'}]"
      ]
     },
     "execution_count": 7,
     "metadata": {},
     "output_type": "execute_result"
    }
   ],
   "source": [
    "list_dict_correct.append({'No': crawler_series['No'],\n",
    "                          'Part Number': crawler_series['Part Number'],\n",
    "                          'Vehicle': crawler_series['Vehicle'],\n",
    "                          'Picture': crawler_series['Picture'],\n",
    "                          'Url': crawler_series['Url'],\n",
    "                          'Json_Src': json.dumps(dict_src),\n",
    "                          'Json_Type': crawler_series['Json_Type'],\n",
    "                          'Json_Info': crawler_series['Json_Info'],\n",
    "                          'Json_Specification': crawler_series['Json_Specification']})\n",
    "\n",
    "list_dict_correct"
   ]
  },
  {
   "cell_type": "code",
   "execution_count": 8,
   "id": "fc4ed7f6-ed4f-431c-b944-b1690309cdae",
   "metadata": {},
   "outputs": [
    {
     "data": {
      "text/plain": [
       "True"
      ]
     },
     "execution_count": 8,
     "metadata": {},
     "output_type": "execute_result"
    }
   ],
   "source": [
    "crawler_status = True\n",
    "\n",
    "crawler_status"
   ]
  },
  {
   "cell_type": "code",
   "execution_count": 9,
   "id": "65c745d1-446e-46c5-9dec-819c9f7944d3",
   "metadata": {},
   "outputs": [
    {
     "data": {
      "text/plain": [
       "[No                                                                    1\n",
       " Part Number                                                       16149\n",
       " Vehicle               Buick Century (94-76)\\nBuick Commercial Chassi...\n",
       " Picture                                                                \n",
       " Url                   https://www.4s.com/en/ecatalog?part=16149&type...\n",
       " Json_Type                                     {\"0\": \"Evaporator Cores\"}\n",
       " Json_Info             {\"Brand\": \"FS\", \"Partdesc_En\": \"Evaporator Cor...\n",
       " Json_Specification    {\"0\": {\"Description\": \"Evaporator Cores\"}, \"1\"...\n",
       " Request_Url           https://ecatalog.smpcorp.com/v2/fs/api/image/g...\n",
       " Check_Url             https://www.4s.com/en/ecatalog?part=16149&type...\n",
       " Name: 0, dtype: object]"
      ]
     },
     "execution_count": 9,
     "metadata": {},
     "output_type": "execute_result"
    }
   ],
   "source": [
    "crawler_series['Request_Url'], crawler_series['Check_Url'] = url_request, url_check\n",
    "\n",
    "list_series_error.append(crawler_series)\n",
    "\n",
    "list_series_error"
   ]
  },
  {
   "cell_type": "code",
   "execution_count": 10,
   "id": "7fd477de",
   "metadata": {},
   "outputs": [
    {
     "data": {
      "text/html": [
       "<div>\n",
       "<style scoped>\n",
       "    .dataframe tbody tr th:only-of-type {\n",
       "        vertical-align: middle;\n",
       "    }\n",
       "\n",
       "    .dataframe tbody tr th {\n",
       "        vertical-align: top;\n",
       "    }\n",
       "\n",
       "    .dataframe thead th {\n",
       "        text-align: right;\n",
       "    }\n",
       "</style>\n",
       "<table border=\"1\" class=\"dataframe\">\n",
       "  <thead>\n",
       "    <tr style=\"text-align: right;\">\n",
       "      <th></th>\n",
       "      <th>No</th>\n",
       "      <th>Part Number</th>\n",
       "      <th>Vehicle</th>\n",
       "      <th>Picture</th>\n",
       "      <th>Url</th>\n",
       "      <th>Json_Src</th>\n",
       "      <th>Json_Type</th>\n",
       "      <th>Json_Info</th>\n",
       "      <th>Json_Specification</th>\n",
       "    </tr>\n",
       "  </thead>\n",
       "  <tbody>\n",
       "    <tr>\n",
       "      <th>0</th>\n",
       "      <td>1</td>\n",
       "      <td>16149</td>\n",
       "      <td>Buick Century (94-76)\\nBuick Commercial Chassi...</td>\n",
       "      <td></td>\n",
       "      <td>https://www.4s.com/en/ecatalog?part=16149&amp;type...</td>\n",
       "      <td>{\"0\": \"https://ecatalog.smpcorp.com/ihgs/image...</td>\n",
       "      <td>{\"0\": \"Evaporator Cores\"}</td>\n",
       "      <td>{\"Brand\": \"FS\", \"Partdesc_En\": \"Evaporator Cor...</td>\n",
       "      <td>{\"0\": {\"Description\": \"Evaporator Cores\"}, \"1\"...</td>\n",
       "    </tr>\n",
       "  </tbody>\n",
       "</table>\n",
       "</div>"
      ],
      "text/plain": [
       "   No Part Number                                            Vehicle Picture  \\\n",
       "0   1       16149  Buick Century (94-76)\\nBuick Commercial Chassi...           \n",
       "\n",
       "                                                 Url  \\\n",
       "0  https://www.4s.com/en/ecatalog?part=16149&type...   \n",
       "\n",
       "                                            Json_Src  \\\n",
       "0  {\"0\": \"https://ecatalog.smpcorp.com/ihgs/image...   \n",
       "\n",
       "                   Json_Type  \\\n",
       "0  {\"0\": \"Evaporator Cores\"}   \n",
       "\n",
       "                                           Json_Info  \\\n",
       "0  {\"Brand\": \"FS\", \"Partdesc_En\": \"Evaporator Cor...   \n",
       "\n",
       "                                  Json_Specification  \n",
       "0  {\"0\": {\"Description\": \"Evaporator Cores\"}, \"1\"...  "
      ]
     },
     "execution_count": 10,
     "metadata": {},
     "output_type": "execute_result"
    }
   ],
   "source": [
    "if list_dict_correct:\n",
    "    df_correct = pd.DataFrame(list_dict_correct).sort_values(by=['No'],\n",
    "                                                             ascending=[True],\n",
    "                                                             ignore_index=True)\n",
    "    df_correct.to_excel('./test_src.xlsx', index=False)\n",
    "\n",
    "df_correct"
   ]
  },
  {
   "cell_type": "code",
   "execution_count": 11,
   "id": "39a5441b-7f69-4812-aad8-7e10a1a24e78",
   "metadata": {},
   "outputs": [
    {
     "data": {
      "text/html": [
       "<div>\n",
       "<style scoped>\n",
       "    .dataframe tbody tr th:only-of-type {\n",
       "        vertical-align: middle;\n",
       "    }\n",
       "\n",
       "    .dataframe tbody tr th {\n",
       "        vertical-align: top;\n",
       "    }\n",
       "\n",
       "    .dataframe thead th {\n",
       "        text-align: right;\n",
       "    }\n",
       "</style>\n",
       "<table border=\"1\" class=\"dataframe\">\n",
       "  <thead>\n",
       "    <tr style=\"text-align: right;\">\n",
       "      <th></th>\n",
       "      <th>No</th>\n",
       "      <th>Part Number</th>\n",
       "      <th>Vehicle</th>\n",
       "      <th>Picture</th>\n",
       "      <th>Url</th>\n",
       "      <th>Json_Type</th>\n",
       "      <th>Json_Info</th>\n",
       "      <th>Json_Specification</th>\n",
       "      <th>Request_Url</th>\n",
       "      <th>Check_Url</th>\n",
       "    </tr>\n",
       "  </thead>\n",
       "  <tbody>\n",
       "    <tr>\n",
       "      <th>0</th>\n",
       "      <td>1</td>\n",
       "      <td>16149</td>\n",
       "      <td>Buick Century (94-76)\\nBuick Commercial Chassi...</td>\n",
       "      <td></td>\n",
       "      <td>https://www.4s.com/en/ecatalog?part=16149&amp;type...</td>\n",
       "      <td>{\"0\": \"Evaporator Cores\"}</td>\n",
       "      <td>{\"Brand\": \"FS\", \"Partdesc_En\": \"Evaporator Cor...</td>\n",
       "      <td>{\"0\": {\"Description\": \"Evaporator Cores\"}, \"1\"...</td>\n",
       "      <td>https://ecatalog.smpcorp.com/v2/fs/api/image/g...</td>\n",
       "      <td>https://www.4s.com/en/ecatalog?part=16149&amp;type...</td>\n",
       "    </tr>\n",
       "  </tbody>\n",
       "</table>\n",
       "</div>"
      ],
      "text/plain": [
       "   No Part Number                                            Vehicle Picture  \\\n",
       "0   1       16149  Buick Century (94-76)\\nBuick Commercial Chassi...           \n",
       "\n",
       "                                                 Url  \\\n",
       "0  https://www.4s.com/en/ecatalog?part=16149&type...   \n",
       "\n",
       "                   Json_Type  \\\n",
       "0  {\"0\": \"Evaporator Cores\"}   \n",
       "\n",
       "                                           Json_Info  \\\n",
       "0  {\"Brand\": \"FS\", \"Partdesc_En\": \"Evaporator Cor...   \n",
       "\n",
       "                                  Json_Specification  \\\n",
       "0  {\"0\": {\"Description\": \"Evaporator Cores\"}, \"1\"...   \n",
       "\n",
       "                                         Request_Url  \\\n",
       "0  https://ecatalog.smpcorp.com/v2/fs/api/image/g...   \n",
       "\n",
       "                                           Check_Url  \n",
       "0  https://www.4s.com/en/ecatalog?part=16149&type...  "
      ]
     },
     "execution_count": 11,
     "metadata": {},
     "output_type": "execute_result"
    }
   ],
   "source": [
    "if list_series_error:\n",
    "    df_error = pd.DataFrame(list_series_error).sort_values(by=['No'],\n",
    "                                                           ascending=[True],\n",
    "                                                           ignore_index=True)\n",
    "    df_error.to_excel('./test_src_error.xlsx', index=False)\n",
    "\n",
    "df_error"
   ]
  },
  {
   "cell_type": "code",
   "execution_count": null,
   "id": "ba5d9f77-7464-4ad5-a42b-1fa0c0505832",
   "metadata": {},
   "outputs": [],
   "source": []
  }
 ],
 "metadata": {
  "kernelspec": {
   "display_name": "Python 3 (ipykernel)",
   "language": "python",
   "name": "python3"
  },
  "language_info": {
   "codemirror_mode": {
    "name": "ipython",
    "version": 3
   },
   "file_extension": ".py",
   "mimetype": "text/x-python",
   "name": "python",
   "nbconvert_exporter": "python",
   "pygments_lexer": "ipython3",
   "version": "3.12.7"
  }
 },
 "nbformat": 4,
 "nbformat_minor": 5
}
