{
 "cells": [
  {
   "cell_type": "code",
   "execution_count": 1,
   "id": "e12502af-267b-4bf5-81e5-c3d207f1d0ea",
   "metadata": {
    "scrolled": true
   },
   "outputs": [
    {
     "data": {
      "text/plain": [
       "{'kit_type': 'Timing Chain',\n",
       " 'kit_no': 1,\n",
       " 'kit_type_code': '5724',\n",
       " 'kit_manufacturer': 'MELLING',\n",
       " 'kit_part_number': '715F',\n",
       " 'kit_url': 'https://www.rockauto.com/en/parts/MELLING,715F,Timing Chain,5724&Lennon=1',\n",
       " 'kit_part_code': '8306448',\n",
       " 'kit_join_mpntcpc': 'MELLING;715F;5724;8306448',\n",
       " 'kit_info_url': 'https://www.rockauto.com/en/moreinfo.php?pk=8306448&cc=0&pt=5724',\n",
       " 'kit_json_src': '{\"0\": \"https://www.rockauto.com/info/583/715F-1-ANG.jpg\"}'}"
      ]
     },
     "execution_count": 1,
     "metadata": {},
     "output_type": "execute_result"
    }
   ],
   "source": [
    "dict_ = {'kit_type': 'Timing Chain',\n",
    "         'kit_no': 1,\n",
    "         'kit_type_code': '5724',\n",
    "         'kit_manufacturer': 'MELLING',\n",
    "         'kit_part_number': '715F',\n",
    "         'kit_url': 'https://www.rockauto.com/en/parts/MELLING,715F,Timing Chain,5724&Lennon=1',\n",
    "         'kit_part_code': '8306448',\n",
    "         'kit_join_mpntcpc': 'MELLING;715F;5724;8306448',\n",
    "         'kit_info_url': 'https://www.rockauto.com/en/moreinfo.php?pk=8306448&cc=0&pt=5724',\n",
    "         'kit_json_src': '{\"0\": \"https://www.rockauto.com/info/583/715F-1-ANG.jpg\"}'}\n",
    "\n",
    "dict_"
   ]
  },
  {
   "cell_type": "code",
   "execution_count": 2,
   "id": "405db8ac-3f16-47e2-bd3d-e828bd7b4d3a",
   "metadata": {},
   "outputs": [],
   "source": [
    "import requests\n",
    "\n",
    "import sys\n",
    "sys.path.append('../00.Tools')\n",
    "from configuration import generate_header, generate_proxy"
   ]
  },
  {
   "cell_type": "code",
   "execution_count": 3,
   "id": "9658da6f-198e-4a87-a66c-058e1b21adf7",
   "metadata": {},
   "outputs": [
    {
     "data": {
      "text/plain": [
       "200"
      ]
     },
     "execution_count": 3,
     "metadata": {},
     "output_type": "execute_result"
    }
   ],
   "source": [
    "data = {'dopartsearch': '1',\n",
    "        'partsearch[partnum][partsearch_007]': dict_['kit_part_number'],\n",
    "        'partsearch[manufacturer][partsearch_007]': dict_['kit_manufacturer'],\n",
    "        'partsearch[parttype][partsearch_007]': dict_['kit_type_code'],\n",
    "        'partsearch[do][partsearch_007]': '1',\n",
    "        'func': 'sendparttabsearch',\n",
    "        'api_json_request': '1'}\n",
    "response = requests.post('https://www.rockauto.com/catalog/catalogapi.php',\n",
    "                         data=data,\n",
    "                         headers=generate_header(),\n",
    "                         proxies=generate_proxy(),\n",
    "                         timeout=(10, 15),\n",
    "                         allow_redirects=False)\n",
    "\n",
    "response.status_code"
   ]
  },
  {
   "cell_type": "code",
   "execution_count": 4,
   "id": "9908c59a-d71e-4be5-8d29-5ddc793d68fc",
   "metadata": {
    "scrolled": true
   },
   "outputs": [
    {
     "data": {
      "text/plain": [
       "{'searchnoderesults': '<div class=\"ranavnode\" id=\"nav[__GIP__1__]\"><input type=\"hidden\" autocomplete=\"off\" id=\"jsn[__GIP__1__]\" value=\"{&quot;groupindex&quot;:&quot;__GIP__1__&quot;,&quot;tab&quot;:&quot;partsearch&quot;,&quot;idepth&quot;:0,&quot;parttype&quot;:&quot;5724&quot;,&quot;catalogname&quot;:&quot;MELLING&quot;,&quot;partnumber&quot;:&quot;715F&quot;,&quot;nodetype&quot;:&quot;parttabsearch&quot;,&quot;expanded&quot;:true,&quot;loaded&quot;:true}\" /><input type=\"hidden\" autocomplete=\"off\" name=\"navnodeunique[partsearch-5724]\" id=\"navnodeunique[partsearch-5724]\" value=\"__GIP__1__\" /><div id=\"nav_o[__GIP__1__]\" class=\"ranavouter\"><div class=\"inner\"><table class=\"tbl\"  cellpadding=\"0\" cellspacing=\"0\"><tr><td class=\"niconspace nexpandedicon\" id=\"navicon[__GIP__1__]\"><a href=\"/en/parts/melling,715F,timing+chain,5724\" onclick=\"cataloglite.LinkIntercept_ToggleNavNode(&quot;__GIP__1__&quot;); return false;\" tabindex=\"-1\"><img src=\"/Images/1pxtransparent.png\" alt=\"Toggle\"></a></td><td class=\"nlabel\" ><a class=\"navlabellink nvoffset nnormal\" href=\"/en/parts/melling,715F,timing+chain,5724\" onclick=\"cataloglite.LinkIntercept_ToggleNavNode(&quot;__GIP__1__&quot;); return false;\" id=\"navhref[__GIP__1__]\">Search for Manufacturer=\\'MELLING\\' and Part Type=\\'Timing Chain\\' and Part Number=\\'715F\\'</a></td></tr></table></div></div><div class=\"nchildren\" id=\"navchildren[__GIP__1__]\" ><div id=\"listings[__GIP__2__]\" class=\"listings-container\"><form method=\"post\" id=\"frmlistings[__GIP__2__]\" class=\"nobmp\" action=\"/en/partsearch/?mfr=MELLING&parttype=5724&partnum=715F\"><input type=\"hidden\" name=\"_nck\" value=\"8LVLUxTaILBT+tLxkg8+3Ag7/0bbOhvn7P3rkFbL80/ismhHyfCiO07pwNUCaIW3afbJMKR0uqi1pNnUlRgBN5CwkZnWFYwm7DtiVw8cl6t1DDIlw0OPK8L1xqUF2GhW3oASmn+5ViCsgMvsMaXQPvIC48pczIG//wjsrztqjR9raiKaQmBzAUTqRQOBaJkf\"><div class=\"listing-container-border\"><input type=\"hidden\" autocomplete=\"off\" id=\"parentnode[__GIP__2__]\" value=\"__GIP__1__\" /><div><div style=\"padding-top: 1px; padding-left: .25em; padding-right: .25em;\"><div class=\"remove-for-print\" style=\"padding-top:5px;\"><div class=\"ib vtop\"><span style=\"padding-left: .5em;\" class=\"show-if-js\"><img onclick=\"cataloglite.NavNode_SimulateClick(&quot;__GIP__1__&quot;);\" style=\"vertical-align: top;\" class=\"mouseover\" src=\"/catalog/images/close.gif\" alt=\"Close\" title=\"Close\" /></span><span style=\"padding-left: .5em;\" class=\"show-if-js\"><a href=\"/en/printlistings.php?ni=__GIP__2__&title=Print Part Listings\" target=\"_blank\" rel=\"opener\" ><img style=\"vertical-align: top; border: none; height: 20px;\" class=\"mouseover\" src=\"/Images/mobile/printer.png\" alt=\"Print Part Listings\" title=\"Print Part Listings\" /></a></span><span style=\"padding-left: .5em;\" class=\"show-if-js\"><a href=\"/en/emailpagetofriend.php?nurl=%2Fen%2Fpartsearch%2F%3Fmfr%3DMELLING%26parttype%3D5724%26partnum%3D715F\" target=\"_blank\" onclick=\"cataloglite.AddFiltersToEmailListingURL(&quot;\\\\/en\\\\/partsearch\\\\/?mfr=MELLING&amp;parttype=5724&amp;partnum=715F&quot;, &quot;__GIP__2__&quot;); return false;\"><img style=\"vertical-align: top; border: none; height: 14px;\" class=\"mouseover\" src=\"/Images/mobile/envelope.png\" alt=\"Send these listings to a friend\" title=\"Send these listings to a friend\" /></a></span><span style=\"padding-left: .5em;\" class=\"show-if-js\"><a href=\"/help/?page=2\" target=\"_blank\" style=\"text-decoration: none;\" title=\"How do I choose a part?\" alt=\"How do I choose a part?\">\\n                                            <img class=\"help_q_icon_16 vtop\" src=\"/Images/questionMark.png\" alt=\"Help\" />\\n                                            </a></span></div><span style=\"padding-left: .5em;\" class=\"span-filterinput\"><div class=\"ib\"><table class=\"tblz tbl-input-button-attached attached-filter-size\"><tr><td class=\"td-input\"><input type=\"text\" size=\"25\" value=\"\" name=\"filterinput\" class=\"filter-input\" id=\"filterinput[__GIP__2__]\" style=\"\" onclick=\"cataloglite.DisplayFilterBreakDown(&quot;__GIP__2__&quot;);\" onkeypress=\"return RA.InterceptEnter(event, function(){cataloglite.FilterListings(&quot;__GIP__2__&quot;);});\" onblur=\"cataloglite.FilterListings(&quot;__GIP__2__&quot;);\" autocomplete=\"off\" spellcheck=\"false\" autocorrect=\"off\" autocapitalize=\"off\" placeholder=\"Filter By Keyword(s)\" title=\"Filter listings below by entering words that you want to see. Use \\'-\\' before a word to find results that do NOT contain that word. Use OR between words or groups of words to see listings that match either. Use quotes &quot;...&quot; around a set of words you wish to match only when they exist together as a phrase. Multiple filters can be applied by entering new words or phrases after each filter operation.\" /></td><td class=\"td-button\"><img class=\"ib input-size ra-btn ra-btn-size-normal ra-btn-color-darkblue ra-btn-search-icon\" src=\"/Images/1pxtransparent.png\" style=\"color: black;\" onclick=\"RA.ThrottleRepeats(function() { cataloglite.SendPartTabSearch(\\'frm_partsearch\\', &quot;__GIP__2__&quot;); }, \\'part_tab_search_filter\\', 2.5); return false;\" alt=\"Apply Filter\" /></td></tr></table></div><span style=\"position: relative;\"><span id=\"filterbreakdownwrapper___GIP__2__\" class=\"ra-hide\" style=\"position: absolute; z-index: 10;\"><div style=\"background: #FFFFFF; border: 1px solid black; padding: 5px; white-space: nowrap;\"><div style=\"text-align: right;\" class=\"filter-breakdown-row-spacing\"><img onclick=\"cataloglite.DisplayFilterBreakDown(&quot;__GIP__2__&quot;, 1);\" style=\"vertical-align: top;\" class=\"mouseover\" src=\"/catalog/images/close.gif\" alt=\"Hide\" title=\"Hide\"></div><div id=\"filterbreakdownsteps___GIP__2__\"></div><div style=\"text-align: center; padding-top: .25em;\"><input type=\"submit\" name=\"clearfilter\" value=\"Clear Filter\" class=\"ra-btn mo-link\" style=\"color: blue;\" onclick=\"RA.ThrottleRepeats(function() { cataloglite.SendPartTabSearch(\\'frm_partsearch\\', &quot;__GIP__2__&quot;, 1); }, \\'part_tab_search_filter\\', 2.5); return false;\"></div></div></span></span></span></div></div><div style=\"clear: both; padding-top: .25em;\"></div><table class=\"nobmp\" style=\"width: 100%;\" cellpadding=\"0\" cellspacing=\"0\">\\n                    <tbody>\\n                        <tr>\\n                            <td colspan=\"2\">\\n                                \\n                            </td>\\n                            <td colspan=\"4\" class=\" listing-float-box-cell-shared-header\" style=\"height: 1px; text-align: center;\">\\n                                <span style=\"font-weight: bold;\">Price</span>\\n                            </td>\\n                            <td class=\"ra-hide listing-float-box-cell-shared-header\" style=\"height: 1px; text-align: center;\">\\n                                \\n                            </td>\\n                            <td class=\"ra-hide listing-float-box-cell-shared-header\" style=\"height: 1px; text-align: center;\">\\n                                \\n                            </td>\\n                            <td class=\"ra-hide listing-float-box-cell-shared-header\" style=\"height: 1px; text-align: center;\">\\n                                \\n                            </td>\\n                            <td class=\" listing-float-box-cell-shared-header\" style=\"text-align: center;\">\\n                                \\n                            </td>\\n                        </tr>\\n                    </tbody>\\n                    <tr class=\"remove-for-print\"><td colspan=\"6\" id=\"listingnopartscriteria[__GIP__2__]\" style=\"color: red;\" class=\"ra-hide\">No parts for vehicles in selected markets.</td></tr>\\n                    <tbody id=\"listingcontainer[__GIP__3__]\" class=\"listing-inner altrow-a-1  \" style=\"\">\\n                        <tr>\\n                            <td rowspan=\"2\" class=\"listing-border-top-line listing-inner-content\" style=\"\">\\n                                <span style=\"float: right;\"></span>\\n                                <div></div>\\n                                <div class=\"listing-text-row-moreinfo-truck\"><span class=\"listing-final-manufacturer \">MELLING</span> <span class=\"listing-final-partnumber  as-link-if-js\" id=\"vew_partnumber[__GIP__3__]\" onclick=\"if (cataloglite.IsMobileAndNotExpanded(&quot;__GIP__3__&quot;)) { return; } cataloglite.ShowBuyersGuidePopup(&quot;__GIP__3__&quot;);\" title=\"Buyer\\'s Guide\" alt=\"Buyer\\'s Guide\">715F</span>     <a href=\"https://www.rockauto.com/en/moreinfo.php?pk=8306448&cc=0&pt=5724\" target=\"_blank\" rel=\"opener\"  class=\"ra-btn ra-btn-moreinfo\" onclick=\"cataloglite.MoreInfoClick(this, &quot;__GIP__3__&quot;); AddSerializedCookieDataToHref(this);\">Info</a>   <span name=\"vew_whtruckicon[__GIP__3__][0-0-0-1]\" class=\"truck ra-hide remove-for-print mouseover\" title=\"Could ship from same location as parts in cart\" onclick=\"FAQpopup(\\'/help/?page=2#MINSHIPCOST\\', &quot;Could ship from same location as parts in cart&quot;, null, this); RA.StopBubble(event); return false;\">&nbsp;</span>  </div>\\n                                <div class=\"listing-text-row\"><span  title=\"Please make sure this note matches your vehicle. A seemingly contradictory note (like &quot;Left; Right;&quot;) means the part fits either (left OR right) -- it does not mean you\\'ll receive two parts. Please do not choose a part if the note does not describe your application (for example, if the note says &quot;Sedan&quot; and you have a station wagon).\"><span class=\"listing-footnote-text\">Category: Timing Chain</span></span> </div>\\n                                <div></div>\\n                                <div></div>\\n                                <div></div>\\n                                \\n                                <input type=\"hidden\" autocomplete=\"off\" name=\"optionchoice[__GIP__3__]\" id=\"optionchoice[__GIP__3__]\" value=\"0-0-0-1\"><input type=\"hidden\" autocomplete=\"off\" name=\"listing_data_essential[__GIP__3__]\" id=\"listing_data_essential[__GIP__3__]\" value=\"{&quot;groupindex&quot;:&quot;__GIP__3__&quot;,&quot;carcode&quot;:0,&quot;parttype&quot;:&quot;5724&quot;,&quot;partkey&quot;:&quot;8306448&quot;,&quot;opts&quot;:{&quot;0-0-0-1&quot;:{&quot;warehouse&quot;:0,&quot;whpartnum&quot;:&quot;&quot;,&quot;optionlist&quot;:&quot;0&quot;,&quot;paramcode&quot;:&quot;0&quot;,&quot;notekey&quot;:&quot;0&quot;,&quot;multiple&quot;:1}}}\" /><input type=\"hidden\" autocomplete=\"off\" id=\"listing_data_supplemental[__GIP__3__]\" value=\"{&quot;partnumber&quot;:&quot;715F&quot;,&quot;catalogname&quot;:&quot;MELLING&quot;,&quot;belongstolisting&quot;:&quot;__GIP__2__&quot;,&quot;sortgroup&quot;:0,&quot;sortgrouptext&quot;:&quot;&quot;,&quot;paramdesc&quot;:&quot;&quot;}\" /><input type=\"hidden\" autocomplete=\"off\" id=\"mdl_whtruckicon[__GIP__3__][]\" value=\"false\"><input type=\"hidden\" autocomplete=\"off\" id=\"mdl_chkalternate[__GIP__3__][]\" value=\"false\"><input type=\"hidden\" autocomplete=\"off\" id=\"mdl_btnaddtocart[__GIP__3__][]\" value=\"false\"><input type=\"hidden\" autocomplete=\"off\" id=\"mdl_btnpartincart[__GIP__3__][]\" value=\"false\"><input type=\"hidden\" autocomplete=\"off\" id=\"lst_shipwhlist[__GIP__3__][0-0-0-1]\" value=\"[]\" ><input type=\"hidden\" autocomplete=\"off\" id=\"mdl_whtruckicon[__GIP__3__][0-0-0-1]\" value=\"false\"><input type=\"hidden\" autocomplete=\"off\" id=\"mdl_btnaddtocart[__GIP__3__][0-0-0-1]\" value=\"false\"><input type=\"hidden\" autocomplete=\"off\" id=\"mdl_btnpartincart[__GIP__3__][0-0-0-1]\" value=\"false\"><input type=\"hidden\" autocomplete=\"off\" id=\"mdl_btnnotifyoos[__GIP__3__][0-0-0-1]\" value=\"true\"><input type=\"hidden\" autocomplete=\"off\" id=\"mdl_chkalternate[__GIP__3__][0-0-0-1]\" value=\"false\"><input type=\"hidden\" autocomplete=\"off\" name=\"ssk[__GIP__3__]\" value=\"HPc6NY4sqMvPDBCrBav8qbnNWnbqqr2anHhnny3SmPlpfyIh2AoIzQJQQXXDTikXRzvovcin6zc=\"/>\\n                                <span style=\"display: none;\" title=\"Replaces these Alternate/ OE Part Numbers\">3L8Z6268AA, L30512201</span>\\n                            </td>\\n                            \\n                            <td rowspan=\"2\" class=\"listing-border-top-line listing-float-box-cell-shared\" style=\"text-align: right; \">\\n                                <div class=\" listing-image-space-occupy\"><table class=\"tblz listing-image-table\" id=\"listing_image_table[__GIP__3__]\" style=\"\"><tr><td class=\"listing-image-table-leftrightcol\"></td><td class=\"listing-image-table-centercol\"><div id=\"inlineimgpositionancestor[__GIP__3__]\" style=\" position: relative; z-index: 1;\" class=\"ra-hide\"><div id=\"inlineimg_container[__GIP__3__]\" class=\" listing-inlineimg_container listing-inline-image-border\"  style=\"z-index: 1; text-align: center; background: #FFFFFF;\"><div id=\"inlineimg_containertitle[__GIP__3__]\" class=\"listing-inline-image-popup-widget-title ra-hide\" onmousedown=\"cataloglite.ImagePopupTitleMouseDown(&quot;__GIP__3__&quot;)\"><div style=\"text-align: center; \"><span style=\"padding: 0 2em 0 2em;\">MELLING 715F</span><span style=\"position: absolute; right: 5px;\"><img src = \"/catalog/images/close12_1.gif\" style=\"padding: .2em; cursor: pointer; display: block;\" onclick=\"cataloglite.Listing_InlineImagePopupInPlace(&quot;__GIP__3__&quot;)\" alt=\"close\"/></span></div></div><div id=\"inlineimg_topper[__GIP__3__]\" class=\"img-topper-container\"><table class=\"tblz w100\"><tr><td class=\"pinched\" style=\"vertical-align: top;\"><div style=\"text-align: left; padding-right: .25em;\"><span id=\"inlineimg_left_big[__GIP__3__]\"></span></div><div class=\"listing-image-counter\"><div class=\"inner\" id=\"imagecounterdisplay[__GIP__3__]\"></div></div></td><td style=\"vertical-align: top;\"><div id=\"imgcarouseltitlephrase[__GIP__3__]\" class=\"img-carousel-titlephrase\"></div><div id=\"inlineimg_container360menu[__GIP__3__]\" class=\"ra-hide\" style=\"padding: .25em; margin-bottom: .5em;\"><div class=\"ra-bar-slider-bar-c\"><div  id=\"inlineimg_sliderbar[__GIP__3__]\"  class=\"ra-bar-slider-bar\" onmousedown=\"cataloglite.ImageSliderMouseDown(&quot;__GIP__3__&quot;, event);\" ontouchstart=\"cataloglite.ImageSliderMouseDown(&quot;__GIP__3__&quot;, event);\"><span class=\"ra-bar-slider-slider\" id=\"inlineimg_slider[__GIP__3__]\"></span></div></div></div></td><td class=\"pinched\" style=\"vertical-align: top; text-align: right;\"><div style=\"padding-left: .25em;\"><span id=\"inlineimg_right_big[__GIP__3__]\"></span></div></td></tr></table></div><div id=\"inlineimg_containersizer[__GIP__3__]\" class=\"inlineimg_containersizer ra-hide\" style=\" cursor: pointer;\" onclick=\"cataloglite.Listing_InlineImagePopupInPlace(&quot;__GIP__3__&quot;)\"><img id=\"inlineimg[__GIP__3__]\" class=\" listing-inline-image\"  src=\"/info/583/715F-1-ANG__ra_m.jpg\" alt=\"Part image\"/></div></div></div><img id=\"inlineimg_thumb[__GIP__3__]\" class=\"listing-inline-image listing-inline-image-thumb listing-inline-image-border\" style=\"cursor: pointer;\" onclick=\"cataloglite.Listing_InlineImagePopupInPlace(&quot;__GIP__3__&quot;)\" src=\"/info/583/715F-1-ANG__ra_m.jpg\" alt=\"Part image\" switch-to-highres=\"1\"/></td><td class=\"listing-image-table-leftrightcol\"></td></tr></table><input type=\"hidden\" autocomplete=\"off\" id=\"jsninlineimg[__GIP__3__]\" value=\"{&quot;Size&quot;:&quot;Thumb&quot;,&quot;SlotIndex&quot;:0,&quot;Slots&quot;:[{&quot;TitlePhrase&quot;:null,&quot;ParamCodes&quot;:[null],&quot;Type&quot;:&quot;Single&quot;,&quot;ImageData&quot;:{&quot;Thumb&quot;:&quot;\\\\/info\\\\/583\\\\/715F-1-ANG__ra_m.jpg&quot;,&quot;Popup&quot;:&quot;\\\\/info\\\\/583\\\\/715F-1-ANG.jpg&quot;,&quot;Full&quot;:&quot;\\\\/info\\\\/583\\\\/715F-1-ANG.jpg&quot;}}]}\"/></div>\\n                            </td>\\n                            \\n                            <td id=\"listingtd[__GIP__3__][price]\" colspan=\"4\" class=\" listing-border-top-line listing-float-box-cell-shared listing-float-box-cell-more-padding\" style=\"height: 1px; text-align: center; \">\\n                                <span id=\"dprice[__GIP__3__][td]\" class=\"\"><span class=\"ra-formatted-amount listing-price listing-amount-bold\"><span id=\"dprice[__GIP__3__][v]\"><span class=\"oos-price-text\">Out of Stock</span></span></span></span>\\n                            </td>\\n                            <td id=\"listingtd[__GIP__3__][core]\" class=\"ra-hide listing-border-top-line listing-float-box-cell-shared listing-float-box-cell-more-padding\" style=\"height: 1px; text-align: center; \">\\n                                <span id=\"dcore[__GIP__3__][td]\" class=\"\"><span class=\"ra-formatted-amount listing-core\"><span id=\"dcore[__GIP__3__][v]\"></span></span></span>\\n                            </td>\\n                            <td id=\"listingtd[__GIP__3__][pack]\" class=\"ra-hide listing-border-top-line listing-float-box-cell-shared listing-float-box-cell-more-padding\" style=\"height: 1px; text-align: center; \">\\n                                <span id=\"dpack[__GIP__3__][v]\"></span>\\n                            </td>\\n                            <td id=\"listingtd[__GIP__3__][total]\" class=\"ra-hide listing-border-top-line listing-float-box-cell-shared listing-float-box-cell-more-padding\" style=\"height: 1px; text-align: center; \">\\n                                <span id=\"dtotal[__GIP__3__][td]\" class=\"listing-amount-bold\"><span class=\"ra-formatted-amount listing-total\"><span id=\"dtotal[__GIP__3__][v]\"></span></span></span>\\n                            </td>\\n                            <td rowspan=\"2\" class=\" listing-border-top-line listing-float-box-cell-shared\" style=\"text-align: center; \">\\n                                \\n                            </td>\\n                        </tr>\\n                        <tr>\\n                            <td colspan=\"4\" class=\" listing-float-box-cell-shared\" style=\"text-align: right;\">\\n                                <div style=\"padding-top: .25em; padding-bottom: .1em;\">\\n                                    <div class=\"listing-quantity-adjustment ib remove-for-print show-if-js\"></div>\\n                                    <div class=\"catalog-listing-buttons-wrapper ib\" style=\"min-width:105px;\"><div class=\"vew_btnaddtocart remove-for-print ra-hide \" id=\"vew_btnaddtocart[__GIP__3__]\"><input type=\"submit\" name=\"addpart[__GIP__3__]\" id=\"addpart[__GIP__3__]\" value=\"Add to Cart &gt;\" class=\"hide-if-js ra-btn ra-btn-size-normal ra-btn-color-hotgreen\" onclick=\"cataloglite.ShowLoadingOverlay(null, \\'PK_ADDINGPARTTOCART\\'); return cataloglite.Cart.AddPartWhenReady(&quot;__GIP__3__&quot;);\"><a style=\"display: inline-block;\" class=\"show-if-js ra-btn ra-btn-color-hotgreen ra-btn-size-normal ra-btn-add-part\" onclick=\"RA.Click(\\'addpart[__GIP__3__]\\'); return false;\" href=\"#\"><span class=\"la-btn-v\">Add to Cart</span><img class=\"la-btn-v\" style=\"height: 1em; margin-left: .25em;\" src=\"/Images/mobile/right_arrow_white.png\" alt=\"\" /></a></div><div class=\"vew_btnpartincart remove-for-print ra-hide \" id=\"vew_btnpartincart[__GIP__3__]\"><input type=\"submit\" name=\"addpart[__GIP__3__]\" value=\"Part In Cart\" class=\"ra-btn ra-btn-size-normal ra-btn-part-in-cart\" onclick=\"cataloglite.Cart.ShowPartAlreadyInCart(__GIP__3__); return false;\"></div><div class=\"vew_btnnotifyoos remove-for-print  show-if-js\" id=\"vew_btnnotifyoos[__GIP__3__]\"><input type=\"button\" value=\"Notify Me When Available\" class=\"ra-btn ra-btn-size-normal ra-btn-color-darkblue\" onclick=\"cataloglite.GetAvailabilityAlertForOOSPart(&quot;__GIP__3__&quot;);\"></div></div>\\n                                </div>\\n                            </td>\\n                        </tr>\\n                    </tbody>\\n                    </table><div id=\"listingfiltermessage[__GIP__2__]\" class=\"listing-filter-bottom-message ra-hide\"></div><input type=\"hidden\" autocomplete=\"off\" id=\"part_groupindexes_in_this_listing[__GIP__2__]\" value=\"[&quot;__GIP__3__&quot;]\"/></div></div></form></div></div></div>',\n",
       " 'collected_javascript': '/**UQ:B09B133F**/\\nvar PK_OK =\"OK\";\\nvar PK_XLISTINGSREMOVE=\"KEY__NUM listings removed\";\\nvar PK_XLISTINGREMOVE=\"KEY__NUM listing removed\";\\nwindow.top.parent.window[\"_nck\"] = \"8LVLUxTaILBT+tLxkg8+3Ag7\\\\/0bbOhvn7P3rkFbL80\\\\/ismhHyfCiO07pwNUCaIW3afbJMKR0uqi1pNnUlRgBN5CwkZnWFYwm7DtiVw8cl6t1DDIlw0OPK8L1xqUF2GhW3oASmn+5ViCsgMvsMaXQPvIC48pczIG\\\\/\\\\/wjsrztqjR9raiKaQmBzAUTqRQOBaJkf\";\\n'}"
      ]
     },
     "execution_count": 4,
     "metadata": {},
     "output_type": "execute_result"
    }
   ],
   "source": [
    "dict_2 = response.json()\n",
    "\n",
    "dict_2"
   ]
  },
  {
   "cell_type": "code",
   "execution_count": 5,
   "id": "293903d3-c846-4118-bd32-96904f6d9fe8",
   "metadata": {},
   "outputs": [
    {
     "data": {
      "text/plain": [
       "False"
      ]
     },
     "execution_count": 5,
     "metadata": {},
     "output_type": "execute_result"
    }
   ],
   "source": [
    "'redirect_to_url' in dict_2"
   ]
  },
  {
   "cell_type": "code",
   "execution_count": 6,
   "id": "9e0a2735-664d-46ae-88c5-f59ff40e9b23",
   "metadata": {},
   "outputs": [],
   "source": [
    "from bs4 import BeautifulSoup"
   ]
  },
  {
   "cell_type": "code",
   "execution_count": 7,
   "id": "1b46dcd6-aab7-4bcc-a24e-517b076b578b",
   "metadata": {
    "scrolled": true
   },
   "outputs": [
    {
     "name": "stdout",
     "output_type": "stream",
     "text": [
      "<html>\n",
      " <head>\n",
      " </head>\n",
      " <body>\n",
      "  <div class=\"ranavnode\" id=\"nav[__GIP__1__]\">\n",
      "   <input autocomplete=\"off\" id=\"jsn[__GIP__1__]\" type=\"hidden\" value='{\"groupindex\":\"__GIP__1__\",\"tab\":\"partsearch\",\"idepth\":0,\"parttype\":\"5724\",\"catalogname\":\"MELLING\",\"partnumber\":\"715F\",\"nodetype\":\"parttabsearch\",\"expanded\":true,\"loaded\":true}'/>\n",
      "   <input autocomplete=\"off\" id=\"navnodeunique[partsearch-5724]\" name=\"navnodeunique[partsearch-5724]\" type=\"hidden\" value=\"__GIP__1__\"/>\n",
      "   <div class=\"ranavouter\" id=\"nav_o[__GIP__1__]\">\n",
      "    <div class=\"inner\">\n",
      "     <table cellpadding=\"0\" cellspacing=\"0\" class=\"tbl\">\n",
      "      <tbody>\n",
      "       <tr>\n",
      "        <td class=\"niconspace nexpandedicon\" id=\"navicon[__GIP__1__]\">\n",
      "         <a href=\"/en/parts/melling,715F,timing+chain,5724\" onclick='cataloglite.LinkIntercept_ToggleNavNode(\"__GIP__1__\"); return false;' tabindex=\"-1\">\n",
      "          <img alt=\"Toggle\" src=\"/Images/1pxtransparent.png\"/>\n",
      "         </a>\n",
      "        </td>\n",
      "        <td class=\"nlabel\">\n",
      "         <a class=\"navlabellink nvoffset nnormal\" href=\"/en/parts/melling,715F,timing+chain,5724\" id=\"navhref[__GIP__1__]\" onclick='cataloglite.LinkIntercept_ToggleNavNode(\"__GIP__1__\"); return false;'>\n",
      "          Search for Manufacturer='MELLING' and Part Type='Timing Chain' and Part Number='715F'\n",
      "         </a>\n",
      "        </td>\n",
      "       </tr>\n",
      "      </tbody>\n",
      "     </table>\n",
      "    </div>\n",
      "   </div>\n",
      "   <div class=\"nchildren\" id=\"navchildren[__GIP__1__]\">\n",
      "    <div class=\"listings-container\" id=\"listings[__GIP__2__]\">\n",
      "     <form action=\"/en/partsearch/?mfr=MELLING&amp;parttype=5724&amp;partnum=715F\" class=\"nobmp\" id=\"frmlistings[__GIP__2__]\" method=\"post\">\n",
      "      <input name=\"_nck\" type=\"hidden\" value=\"8LVLUxTaILBT+tLxkg8+3Ag7/0bbOhvn7P3rkFbL80/ismhHyfCiO07pwNUCaIW3afbJMKR0uqi1pNnUlRgBN5CwkZnWFYwm7DtiVw8cl6t1DDIlw0OPK8L1xqUF2GhW3oASmn+5ViCsgMvsMaXQPvIC48pczIG//wjsrztqjR9raiKaQmBzAUTqRQOBaJkf\"/>\n",
      "      <div class=\"listing-container-border\">\n",
      "       <input autocomplete=\"off\" id=\"parentnode[__GIP__2__]\" type=\"hidden\" value=\"__GIP__1__\"/>\n",
      "       <div>\n",
      "        <div style=\"padding-top: 1px; padding-left: .25em; padding-right: .25em;\">\n",
      "         <div class=\"remove-for-print\" style=\"padding-top:5px;\">\n",
      "          <div class=\"ib vtop\">\n",
      "           <span class=\"show-if-js\" style=\"padding-left: .5em;\">\n",
      "            <img alt=\"Close\" class=\"mouseover\" onclick='cataloglite.NavNode_SimulateClick(\"__GIP__1__\");' src=\"/catalog/images/close.gif\" style=\"vertical-align: top;\" title=\"Close\"/>\n",
      "           </span>\n",
      "           <span class=\"show-if-js\" style=\"padding-left: .5em;\">\n",
      "            <a href=\"/en/printlistings.php?ni=__GIP__2__&amp;title=Print Part Listings\" rel=\"opener\" target=\"_blank\">\n",
      "             <img alt=\"Print Part Listings\" class=\"mouseover\" src=\"/Images/mobile/printer.png\" style=\"vertical-align: top; border: none; height: 20px;\" title=\"Print Part Listings\"/>\n",
      "            </a>\n",
      "           </span>\n",
      "           <span class=\"show-if-js\" style=\"padding-left: .5em;\">\n",
      "            <a href=\"/en/emailpagetofriend.php?nurl=%2Fen%2Fpartsearch%2F%3Fmfr%3DMELLING%26parttype%3D5724%26partnum%3D715F\" onclick='cataloglite.AddFiltersToEmailListingURL(\"\\/en\\/partsearch\\/?mfr=MELLING&amp;parttype=5724&amp;partnum=715F\", \"__GIP__2__\"); return false;' target=\"_blank\">\n",
      "             <img alt=\"Send these listings to a friend\" class=\"mouseover\" src=\"/Images/mobile/envelope.png\" style=\"vertical-align: top; border: none; height: 14px;\" title=\"Send these listings to a friend\"/>\n",
      "            </a>\n",
      "           </span>\n",
      "           <span class=\"show-if-js\" style=\"padding-left: .5em;\">\n",
      "            <a alt=\"How do I choose a part?\" href=\"/help/?page=2\" style=\"text-decoration: none;\" target=\"_blank\" title=\"How do I choose a part?\">\n",
      "             <img alt=\"Help\" class=\"help_q_icon_16 vtop\" src=\"/Images/questionMark.png\"/>\n",
      "            </a>\n",
      "           </span>\n",
      "          </div>\n",
      "          <span class=\"span-filterinput\" style=\"padding-left: .5em;\">\n",
      "           <div class=\"ib\">\n",
      "            <table class=\"tblz tbl-input-button-attached attached-filter-size\">\n",
      "             <tbody>\n",
      "              <tr>\n",
      "               <td class=\"td-input\">\n",
      "                <input autocapitalize=\"off\" autocomplete=\"off\" autocorrect=\"off\" class=\"filter-input\" id=\"filterinput[__GIP__2__]\" name=\"filterinput\" onblur='cataloglite.FilterListings(\"__GIP__2__\");' onclick='cataloglite.DisplayFilterBreakDown(\"__GIP__2__\");' onkeypress='return RA.InterceptEnter(event, function(){cataloglite.FilterListings(\"__GIP__2__\");});' placeholder=\"Filter By Keyword(s)\" size=\"25\" spellcheck=\"false\" style=\"\" title=\"Filter listings below by entering words that you want to see. Use '-' before a word to find results that do NOT contain that word. Use OR between words or groups of words to see listings that match either. Use quotes &quot;...&quot; around a set of words you wish to match only when they exist together as a phrase. Multiple filters can be applied by entering new words or phrases after each filter operation.\" type=\"text\" value=\"\"/>\n",
      "               </td>\n",
      "               <td class=\"td-button\">\n",
      "                <img alt=\"Apply Filter\" class=\"ib input-size ra-btn ra-btn-size-normal ra-btn-color-darkblue ra-btn-search-icon\" onclick=\"RA.ThrottleRepeats(function() { cataloglite.SendPartTabSearch('frm_partsearch', &quot;__GIP__2__&quot;); }, 'part_tab_search_filter', 2.5); return false;\" src=\"/Images/1pxtransparent.png\" style=\"color: black;\"/>\n",
      "               </td>\n",
      "              </tr>\n",
      "             </tbody>\n",
      "            </table>\n",
      "           </div>\n",
      "           <span style=\"position: relative;\">\n",
      "            <span class=\"ra-hide\" id=\"filterbreakdownwrapper___GIP__2__\" style=\"position: absolute; z-index: 10;\">\n",
      "             <div style=\"background: #FFFFFF; border: 1px solid black; padding: 5px; white-space: nowrap;\">\n",
      "              <div class=\"filter-breakdown-row-spacing\" style=\"text-align: right;\">\n",
      "               <img alt=\"Hide\" class=\"mouseover\" onclick='cataloglite.DisplayFilterBreakDown(\"__GIP__2__\", 1);' src=\"/catalog/images/close.gif\" style=\"vertical-align: top;\" title=\"Hide\"/>\n",
      "              </div>\n",
      "              <div id=\"filterbreakdownsteps___GIP__2__\">\n",
      "              </div>\n",
      "              <div style=\"text-align: center; padding-top: .25em;\">\n",
      "               <input class=\"ra-btn mo-link\" name=\"clearfilter\" onclick=\"RA.ThrottleRepeats(function() { cataloglite.SendPartTabSearch('frm_partsearch', &quot;__GIP__2__&quot;, 1); }, 'part_tab_search_filter', 2.5); return false;\" style=\"color: blue;\" type=\"submit\" value=\"Clear Filter\"/>\n",
      "              </div>\n",
      "             </div>\n",
      "            </span>\n",
      "           </span>\n",
      "          </span>\n",
      "         </div>\n",
      "        </div>\n",
      "        <div style=\"clear: both; padding-top: .25em;\">\n",
      "        </div>\n",
      "        <table cellpadding=\"0\" cellspacing=\"0\" class=\"nobmp\" style=\"width: 100%;\">\n",
      "         <tbody>\n",
      "          <tr>\n",
      "           <td colspan=\"2\">\n",
      "           </td>\n",
      "           <td class=\"listing-float-box-cell-shared-header\" colspan=\"4\" style=\"height: 1px; text-align: center;\">\n",
      "            <span style=\"font-weight: bold;\">\n",
      "             Price\n",
      "            </span>\n",
      "           </td>\n",
      "           <td class=\"ra-hide listing-float-box-cell-shared-header\" style=\"height: 1px; text-align: center;\">\n",
      "           </td>\n",
      "           <td class=\"ra-hide listing-float-box-cell-shared-header\" style=\"height: 1px; text-align: center;\">\n",
      "           </td>\n",
      "           <td class=\"ra-hide listing-float-box-cell-shared-header\" style=\"height: 1px; text-align: center;\">\n",
      "           </td>\n",
      "           <td class=\"listing-float-box-cell-shared-header\" style=\"text-align: center;\">\n",
      "           </td>\n",
      "          </tr>\n",
      "         </tbody>\n",
      "         <tbody>\n",
      "          <tr class=\"remove-for-print\">\n",
      "           <td class=\"ra-hide\" colspan=\"6\" id=\"listingnopartscriteria[__GIP__2__]\" style=\"color: red;\">\n",
      "            No parts for vehicles in selected markets.\n",
      "           </td>\n",
      "          </tr>\n",
      "         </tbody>\n",
      "         <tbody class=\"listing-inner altrow-a-1\" id=\"listingcontainer[__GIP__3__]\" style=\"\">\n",
      "          <tr>\n",
      "           <td class=\"listing-border-top-line listing-inner-content\" rowspan=\"2\" style=\"\">\n",
      "            <span style=\"float: right;\">\n",
      "            </span>\n",
      "            <div>\n",
      "            </div>\n",
      "            <div class=\"listing-text-row-moreinfo-truck\">\n",
      "             <span class=\"listing-final-manufacturer\">\n",
      "              MELLING\n",
      "             </span>\n",
      "             <span alt=\"Buyer's Guide\" class=\"listing-final-partnumber as-link-if-js\" id=\"vew_partnumber[__GIP__3__]\" onclick='if (cataloglite.IsMobileAndNotExpanded(\"__GIP__3__\")) { return; } cataloglite.ShowBuyersGuidePopup(\"__GIP__3__\");' title=\"Buyer's Guide\">\n",
      "              715F\n",
      "             </span>\n",
      "             <a class=\"ra-btn ra-btn-moreinfo\" href=\"https://www.rockauto.com/en/moreinfo.php?pk=8306448&amp;cc=0&amp;pt=5724\" onclick='cataloglite.MoreInfoClick(this, \"__GIP__3__\"); AddSerializedCookieDataToHref(this);' rel=\"opener\" target=\"_blank\">\n",
      "              Info\n",
      "             </a>\n",
      "             <span class=\"truck ra-hide remove-for-print mouseover\" name=\"vew_whtruckicon[__GIP__3__][0-0-0-1]\" onclick=\"FAQpopup('/help/?page=2#MINSHIPCOST', &quot;Could ship from same location as parts in cart&quot;, null, this); RA.StopBubble(event); return false;\" title=\"Could ship from same location as parts in cart\">\n",
      "             </span>\n",
      "            </div>\n",
      "            <div class=\"listing-text-row\">\n",
      "             <span title=\"Please make sure this note matches your vehicle. A seemingly contradictory note (like &quot;Left; Right;&quot;) means the part fits either (left OR right) -- it does not mean you'll receive two parts. Please do not choose a part if the note does not describe your application (for example, if the note says &quot;Sedan&quot; and you have a station wagon).\">\n",
      "              <span class=\"listing-footnote-text\">\n",
      "               Category: Timing Chain\n",
      "              </span>\n",
      "             </span>\n",
      "            </div>\n",
      "            <div>\n",
      "            </div>\n",
      "            <div>\n",
      "            </div>\n",
      "            <div>\n",
      "            </div>\n",
      "            <input autocomplete=\"off\" id=\"optionchoice[__GIP__3__]\" name=\"optionchoice[__GIP__3__]\" type=\"hidden\" value=\"0-0-0-1\"/>\n",
      "            <input autocomplete=\"off\" id=\"listing_data_essential[__GIP__3__]\" name=\"listing_data_essential[__GIP__3__]\" type=\"hidden\" value='{\"groupindex\":\"__GIP__3__\",\"carcode\":0,\"parttype\":\"5724\",\"partkey\":\"8306448\",\"opts\":{\"0-0-0-1\":{\"warehouse\":0,\"whpartnum\":\"\",\"optionlist\":\"0\",\"paramcode\":\"0\",\"notekey\":\"0\",\"multiple\":1}}}'/>\n",
      "            <input autocomplete=\"off\" id=\"listing_data_supplemental[__GIP__3__]\" type=\"hidden\" value='{\"partnumber\":\"715F\",\"catalogname\":\"MELLING\",\"belongstolisting\":\"__GIP__2__\",\"sortgroup\":0,\"sortgrouptext\":\"\",\"paramdesc\":\"\"}'/>\n",
      "            <input autocomplete=\"off\" id=\"mdl_whtruckicon[__GIP__3__][]\" type=\"hidden\" value=\"false\"/>\n",
      "            <input autocomplete=\"off\" id=\"mdl_chkalternate[__GIP__3__][]\" type=\"hidden\" value=\"false\"/>\n",
      "            <input autocomplete=\"off\" id=\"mdl_btnaddtocart[__GIP__3__][]\" type=\"hidden\" value=\"false\"/>\n",
      "            <input autocomplete=\"off\" id=\"mdl_btnpartincart[__GIP__3__][]\" type=\"hidden\" value=\"false\"/>\n",
      "            <input autocomplete=\"off\" id=\"lst_shipwhlist[__GIP__3__][0-0-0-1]\" type=\"hidden\" value=\"[]\"/>\n",
      "            <input autocomplete=\"off\" id=\"mdl_whtruckicon[__GIP__3__][0-0-0-1]\" type=\"hidden\" value=\"false\"/>\n",
      "            <input autocomplete=\"off\" id=\"mdl_btnaddtocart[__GIP__3__][0-0-0-1]\" type=\"hidden\" value=\"false\"/>\n",
      "            <input autocomplete=\"off\" id=\"mdl_btnpartincart[__GIP__3__][0-0-0-1]\" type=\"hidden\" value=\"false\"/>\n",
      "            <input autocomplete=\"off\" id=\"mdl_btnnotifyoos[__GIP__3__][0-0-0-1]\" type=\"hidden\" value=\"true\"/>\n",
      "            <input autocomplete=\"off\" id=\"mdl_chkalternate[__GIP__3__][0-0-0-1]\" type=\"hidden\" value=\"false\"/>\n",
      "            <input autocomplete=\"off\" name=\"ssk[__GIP__3__]\" type=\"hidden\" value=\"HPc6NY4sqMvPDBCrBav8qbnNWnbqqr2anHhnny3SmPlpfyIh2AoIzQJQQXXDTikXRzvovcin6zc=\"/>\n",
      "            <span style=\"display: none;\" title=\"Replaces these Alternate/ OE Part Numbers\">\n",
      "             3L8Z6268AA, L30512201\n",
      "            </span>\n",
      "           </td>\n",
      "           <td class=\"listing-border-top-line listing-float-box-cell-shared\" rowspan=\"2\" style=\"text-align: right; \">\n",
      "            <div class=\"listing-image-space-occupy\">\n",
      "             <table class=\"tblz listing-image-table\" id=\"listing_image_table[__GIP__3__]\" style=\"\">\n",
      "              <tbody>\n",
      "               <tr>\n",
      "                <td class=\"listing-image-table-leftrightcol\">\n",
      "                </td>\n",
      "                <td class=\"listing-image-table-centercol\">\n",
      "                 <div class=\"ra-hide\" id=\"inlineimgpositionancestor[__GIP__3__]\" style=\" position: relative; z-index: 1;\">\n",
      "                  <div class=\"listing-inlineimg_container listing-inline-image-border\" id=\"inlineimg_container[__GIP__3__]\" style=\"z-index: 1; text-align: center; background: #FFFFFF;\">\n",
      "                   <div class=\"listing-inline-image-popup-widget-title ra-hide\" id=\"inlineimg_containertitle[__GIP__3__]\" onmousedown='cataloglite.ImagePopupTitleMouseDown(\"__GIP__3__\")'>\n",
      "                    <div style=\"text-align: center; \">\n",
      "                     <span style=\"padding: 0 2em 0 2em;\">\n",
      "                      MELLING 715F\n",
      "                     </span>\n",
      "                     <span style=\"position: absolute; right: 5px;\">\n",
      "                      <img alt=\"close\" onclick='cataloglite.Listing_InlineImagePopupInPlace(\"__GIP__3__\")' src=\"/catalog/images/close12_1.gif\" style=\"padding: .2em; cursor: pointer; display: block;\"/>\n",
      "                     </span>\n",
      "                    </div>\n",
      "                   </div>\n",
      "                   <div class=\"img-topper-container\" id=\"inlineimg_topper[__GIP__3__]\">\n",
      "                    <table class=\"tblz w100\">\n",
      "                     <tbody>\n",
      "                      <tr>\n",
      "                       <td class=\"pinched\" style=\"vertical-align: top;\">\n",
      "                        <div style=\"text-align: left; padding-right: .25em;\">\n",
      "                         <span id=\"inlineimg_left_big[__GIP__3__]\">\n",
      "                         </span>\n",
      "                        </div>\n",
      "                        <div class=\"listing-image-counter\">\n",
      "                         <div class=\"inner\" id=\"imagecounterdisplay[__GIP__3__]\">\n",
      "                         </div>\n",
      "                        </div>\n",
      "                       </td>\n",
      "                       <td style=\"vertical-align: top;\">\n",
      "                        <div class=\"img-carousel-titlephrase\" id=\"imgcarouseltitlephrase[__GIP__3__]\">\n",
      "                        </div>\n",
      "                        <div class=\"ra-hide\" id=\"inlineimg_container360menu[__GIP__3__]\" style=\"padding: .25em; margin-bottom: .5em;\">\n",
      "                         <div class=\"ra-bar-slider-bar-c\">\n",
      "                          <div class=\"ra-bar-slider-bar\" id=\"inlineimg_sliderbar[__GIP__3__]\" onmousedown='cataloglite.ImageSliderMouseDown(\"__GIP__3__\", event);' ontouchstart='cataloglite.ImageSliderMouseDown(\"__GIP__3__\", event);'>\n",
      "                           <span class=\"ra-bar-slider-slider\" id=\"inlineimg_slider[__GIP__3__]\">\n",
      "                           </span>\n",
      "                          </div>\n",
      "                         </div>\n",
      "                        </div>\n",
      "                       </td>\n",
      "                       <td class=\"pinched\" style=\"vertical-align: top; text-align: right;\">\n",
      "                        <div style=\"padding-left: .25em;\">\n",
      "                         <span id=\"inlineimg_right_big[__GIP__3__]\">\n",
      "                         </span>\n",
      "                        </div>\n",
      "                       </td>\n",
      "                      </tr>\n",
      "                     </tbody>\n",
      "                    </table>\n",
      "                   </div>\n",
      "                   <div class=\"inlineimg_containersizer ra-hide\" id=\"inlineimg_containersizer[__GIP__3__]\" onclick='cataloglite.Listing_InlineImagePopupInPlace(\"__GIP__3__\")' style=\" cursor: pointer;\">\n",
      "                    <img alt=\"Part image\" class=\"listing-inline-image\" id=\"inlineimg[__GIP__3__]\" src=\"/info/583/715F-1-ANG__ra_m.jpg\"/>\n",
      "                   </div>\n",
      "                  </div>\n",
      "                 </div>\n",
      "                 <img alt=\"Part image\" class=\"listing-inline-image listing-inline-image-thumb listing-inline-image-border\" id=\"inlineimg_thumb[__GIP__3__]\" onclick='cataloglite.Listing_InlineImagePopupInPlace(\"__GIP__3__\")' src=\"/info/583/715F-1-ANG__ra_m.jpg\" style=\"cursor: pointer;\" switch-to-highres=\"1\"/>\n",
      "                </td>\n",
      "                <td class=\"listing-image-table-leftrightcol\">\n",
      "                </td>\n",
      "               </tr>\n",
      "              </tbody>\n",
      "             </table>\n",
      "             <input autocomplete=\"off\" id=\"jsninlineimg[__GIP__3__]\" type=\"hidden\" value='{\"Size\":\"Thumb\",\"SlotIndex\":0,\"Slots\":[{\"TitlePhrase\":null,\"ParamCodes\":[null],\"Type\":\"Single\",\"ImageData\":{\"Thumb\":\"\\/info\\/583\\/715F-1-ANG__ra_m.jpg\",\"Popup\":\"\\/info\\/583\\/715F-1-ANG.jpg\",\"Full\":\"\\/info\\/583\\/715F-1-ANG.jpg\"}}]}'/>\n",
      "            </div>\n",
      "           </td>\n",
      "           <td class=\"listing-border-top-line listing-float-box-cell-shared listing-float-box-cell-more-padding\" colspan=\"4\" id=\"listingtd[__GIP__3__][price]\" style=\"height: 1px; text-align: center; \">\n",
      "            <span class=\"\" id=\"dprice[__GIP__3__][td]\">\n",
      "             <span class=\"ra-formatted-amount listing-price listing-amount-bold\">\n",
      "              <span id=\"dprice[__GIP__3__][v]\">\n",
      "               <span class=\"oos-price-text\">\n",
      "                Out of Stock\n",
      "               </span>\n",
      "              </span>\n",
      "             </span>\n",
      "            </span>\n",
      "           </td>\n",
      "           <td class=\"ra-hide listing-border-top-line listing-float-box-cell-shared listing-float-box-cell-more-padding\" id=\"listingtd[__GIP__3__][core]\" style=\"height: 1px; text-align: center; \">\n",
      "            <span class=\"\" id=\"dcore[__GIP__3__][td]\">\n",
      "             <span class=\"ra-formatted-amount listing-core\">\n",
      "              <span id=\"dcore[__GIP__3__][v]\">\n",
      "              </span>\n",
      "             </span>\n",
      "            </span>\n",
      "           </td>\n",
      "           <td class=\"ra-hide listing-border-top-line listing-float-box-cell-shared listing-float-box-cell-more-padding\" id=\"listingtd[__GIP__3__][pack]\" style=\"height: 1px; text-align: center; \">\n",
      "            <span id=\"dpack[__GIP__3__][v]\">\n",
      "            </span>\n",
      "           </td>\n",
      "           <td class=\"ra-hide listing-border-top-line listing-float-box-cell-shared listing-float-box-cell-more-padding\" id=\"listingtd[__GIP__3__][total]\" style=\"height: 1px; text-align: center; \">\n",
      "            <span class=\"listing-amount-bold\" id=\"dtotal[__GIP__3__][td]\">\n",
      "             <span class=\"ra-formatted-amount listing-total\">\n",
      "              <span id=\"dtotal[__GIP__3__][v]\">\n",
      "              </span>\n",
      "             </span>\n",
      "            </span>\n",
      "           </td>\n",
      "           <td class=\"listing-border-top-line listing-float-box-cell-shared\" rowspan=\"2\" style=\"text-align: center; \">\n",
      "           </td>\n",
      "          </tr>\n",
      "          <tr>\n",
      "           <td class=\"listing-float-box-cell-shared\" colspan=\"4\" style=\"text-align: right;\">\n",
      "            <div style=\"padding-top: .25em; padding-bottom: .1em;\">\n",
      "             <div class=\"listing-quantity-adjustment ib remove-for-print show-if-js\">\n",
      "             </div>\n",
      "             <div class=\"catalog-listing-buttons-wrapper ib\" style=\"min-width:105px;\">\n",
      "              <div class=\"vew_btnaddtocart remove-for-print ra-hide\" id=\"vew_btnaddtocart[__GIP__3__]\">\n",
      "               <input class=\"hide-if-js ra-btn ra-btn-size-normal ra-btn-color-hotgreen\" id=\"addpart[__GIP__3__]\" name=\"addpart[__GIP__3__]\" onclick=\"cataloglite.ShowLoadingOverlay(null, 'PK_ADDINGPARTTOCART'); return cataloglite.Cart.AddPartWhenReady(&quot;__GIP__3__&quot;);\" type=\"submit\" value=\"Add to Cart &gt;\"/>\n",
      "               <a class=\"show-if-js ra-btn ra-btn-color-hotgreen ra-btn-size-normal ra-btn-add-part\" href=\"#\" onclick=\"RA.Click('addpart[__GIP__3__]'); return false;\" style=\"display: inline-block;\">\n",
      "                <span class=\"la-btn-v\">\n",
      "                 Add to Cart\n",
      "                </span>\n",
      "                <img alt=\"\" class=\"la-btn-v\" src=\"/Images/mobile/right_arrow_white.png\" style=\"height: 1em; margin-left: .25em;\"/>\n",
      "               </a>\n",
      "              </div>\n",
      "              <div class=\"vew_btnpartincart remove-for-print ra-hide\" id=\"vew_btnpartincart[__GIP__3__]\">\n",
      "               <input class=\"ra-btn ra-btn-size-normal ra-btn-part-in-cart\" name=\"addpart[__GIP__3__]\" onclick=\"cataloglite.Cart.ShowPartAlreadyInCart(__GIP__3__); return false;\" type=\"submit\" value=\"Part In Cart\"/>\n",
      "              </div>\n",
      "              <div class=\"vew_btnnotifyoos remove-for-print show-if-js\" id=\"vew_btnnotifyoos[__GIP__3__]\">\n",
      "               <input class=\"ra-btn ra-btn-size-normal ra-btn-color-darkblue\" onclick='cataloglite.GetAvailabilityAlertForOOSPart(\"__GIP__3__\");' type=\"button\" value=\"Notify Me When Available\"/>\n",
      "              </div>\n",
      "             </div>\n",
      "            </div>\n",
      "           </td>\n",
      "          </tr>\n",
      "         </tbody>\n",
      "        </table>\n",
      "        <div class=\"listing-filter-bottom-message ra-hide\" id=\"listingfiltermessage[__GIP__2__]\">\n",
      "        </div>\n",
      "        <input autocomplete=\"off\" id=\"part_groupindexes_in_this_listing[__GIP__2__]\" type=\"hidden\" value='[\"__GIP__3__\"]'/>\n",
      "       </div>\n",
      "      </div>\n",
      "     </form>\n",
      "    </div>\n",
      "   </div>\n",
      "  </div>\n",
      " </body>\n",
      "</html>\n",
      "\n"
     ]
    }
   ],
   "source": [
    "soup = BeautifulSoup(dict_2['searchnoderesults'], 'html5lib')\n",
    "\n",
    "with open('./7.kit_part.html', 'w', encoding='utf-8') as file:\n",
    "    file.write(str(soup))\n",
    "\n",
    "print(soup.prettify())"
   ]
  },
  {
   "cell_type": "code",
   "execution_count": 8,
   "id": "37f1cb41-46e9-4c01-8ba5-b96ce438d9f9",
   "metadata": {},
   "outputs": [],
   "source": [
    "from parsel import Selector"
   ]
  },
  {
   "cell_type": "code",
   "execution_count": 9,
   "id": "3881f7f9-dea3-442a-a977-33e08579b2bc",
   "metadata": {},
   "outputs": [
    {
     "data": {
      "text/plain": [
       "<Selector query=None data='<html><head></head><body><div class=\"...'>"
      ]
     },
     "execution_count": 9,
     "metadata": {},
     "output_type": "execute_result"
    }
   ],
   "source": [
    "selector = Selector(text=str(soup))\n",
    "\n",
    "selector"
   ]
  },
  {
   "cell_type": "code",
   "execution_count": 10,
   "id": "260b4592-2c15-46bd-ad23-887e2f92a00c",
   "metadata": {},
   "outputs": [
    {
     "data": {
      "text/plain": [
       "[<Selector query='//tbody[contains(@id, \"listingcontainer[__GIP__\")]' data='<tbody class=\"listing-inner altrow-a-...'>]"
      ]
     },
     "execution_count": 10,
     "metadata": {},
     "output_type": "execute_result"
    }
   ],
   "source": [
    "list_tbody = selector.xpath('//tbody[contains(@id, \"listingcontainer[__GIP__\")]')\n",
    "\n",
    "list_tbody"
   ]
  },
  {
   "cell_type": "code",
   "execution_count": 11,
   "id": "bd7f4e37-c911-44fd-8f8f-f71eeafee3cd",
   "metadata": {},
   "outputs": [],
   "source": [
    "import json"
   ]
  },
  {
   "cell_type": "code",
   "execution_count": 12,
   "id": "98cdfbb6-3fa1-448d-88dc-1e07fe5d6037",
   "metadata": {},
   "outputs": [
    {
     "data": {
      "text/plain": [
       "[{'groupindex': '__GIP__3__',\n",
       "  'carcode': 0,\n",
       "  'parttype': '5724',\n",
       "  'partkey': '8306448',\n",
       "  'opts': {'0-0-0-1': {'warehouse': 0,\n",
       "    'whpartnum': '',\n",
       "    'optionlist': '0',\n",
       "    'paramcode': '0',\n",
       "    'notekey': '0',\n",
       "    'multiple': 1}}}]"
      ]
     },
     "execution_count": 12,
     "metadata": {},
     "output_type": "execute_result"
    }
   ],
   "source": [
    "list_dict_2 = [json.loads(tbody.xpath('./tr[1]/td[contains(@class, \"listing-inner-content\")]/input[contains(@id, \"listing_data_essential[__GIP__\")]/@value').get()) for tbody in list_tbody]\n",
    "\n",
    "list_dict_2"
   ]
  },
  {
   "cell_type": "code",
   "execution_count": 13,
   "id": "a6cffe9a-2cce-413c-b119-7654b9c53678",
   "metadata": {},
   "outputs": [
    {
     "data": {
      "text/plain": [
       "(['5724'], ['8306448'])"
      ]
     },
     "execution_count": 13,
     "metadata": {},
     "output_type": "execute_result"
    }
   ],
   "source": [
    "list_type_code, list_part_code = [dict_2['parttype'] for dict_2 in list_dict_2], [dict_2['partkey'] for dict_2 in list_dict_2]\n",
    "\n",
    "list_type_code, list_part_code"
   ]
  },
  {
   "cell_type": "code",
   "execution_count": 14,
   "id": "55e07435-d9f0-4367-bb6a-03b5352e7fff",
   "metadata": {},
   "outputs": [],
   "source": [
    "import numpy as np"
   ]
  },
  {
   "cell_type": "code",
   "execution_count": 15,
   "id": "bcfd079d-c62e-48bd-b8e9-7eccca1b2394",
   "metadata": {},
   "outputs": [
    {
     "data": {
      "text/plain": [
       "(array([0]), array([0]))"
      ]
     },
     "execution_count": 15,
     "metadata": {},
     "output_type": "execute_result"
    }
   ],
   "source": [
    "array_index_type_code, array_index_part_code = np.where(np.array(list_type_code) == dict_['kit_type_code'])[0], np.where(np.array(list_part_code) == dict_['kit_part_code'])[0]\n",
    "\n",
    "array_index_type_code, array_index_part_code"
   ]
  },
  {
   "cell_type": "code",
   "execution_count": 16,
   "id": "26575ac5-2019-4f91-9224-b2bfacc0211e",
   "metadata": {},
   "outputs": [
    {
     "data": {
      "text/plain": [
       "[{'partnumber': '715F',\n",
       "  'catalogname': 'MELLING',\n",
       "  'belongstolisting': '__GIP__2__',\n",
       "  'sortgroup': 0,\n",
       "  'sortgrouptext': '',\n",
       "  'paramdesc': ''}]"
      ]
     },
     "execution_count": 16,
     "metadata": {},
     "output_type": "execute_result"
    }
   ],
   "source": [
    "list_dict_3 = [json.loads(tbody.xpath('./tr[1]/td[contains(@class, \"listing-inner-content\")]/input[contains(@id, \"listing_data_supplemental[__GIP__\")]/@value').get()) for tbody in list_tbody]\n",
    "\n",
    "list_dict_3"
   ]
  },
  {
   "cell_type": "code",
   "execution_count": 17,
   "id": "da5d14af-72f0-4e0b-8c92-96db9a6a10e8",
   "metadata": {},
   "outputs": [
    {
     "data": {
      "text/plain": [
       "(['715F'], ['MELLING'], [''])"
      ]
     },
     "execution_count": 17,
     "metadata": {},
     "output_type": "execute_result"
    }
   ],
   "source": [
    "list_part_number, list_manufacturer, list_choose = [dict_3['partnumber'] for dict_3 in list_dict_3], [dict_3['catalogname'] for dict_3 in list_dict_3], [dict_3['paramdesc'] for dict_3 in list_dict_3]\n",
    "\n",
    "list_part_number, list_manufacturer, list_choose"
   ]
  },
  {
   "cell_type": "code",
   "execution_count": 18,
   "id": "19a70736-99cd-405f-87ba-e178b77b9595",
   "metadata": {},
   "outputs": [
    {
     "data": {
      "text/plain": [
       "(array([0]), array([0]))"
      ]
     },
     "execution_count": 18,
     "metadata": {},
     "output_type": "execute_result"
    }
   ],
   "source": [
    "array_index_part_number, array_index_manufacturer = np.where(np.array(list_part_number) == dict_['kit_part_number'])[0], np.where(np.array(list_manufacturer) == dict_['kit_manufacturer'])[0]\n",
    "\n",
    "array_index_part_number, array_index_manufacturer"
   ]
  },
  {
   "cell_type": "code",
   "execution_count": 19,
   "id": "81618b65-a4a2-4f9d-8ba4-9dd4eb77a42b",
   "metadata": {},
   "outputs": [
    {
     "data": {
      "text/plain": [
       "array([0])"
      ]
     },
     "execution_count": 19,
     "metadata": {},
     "output_type": "execute_result"
    }
   ],
   "source": [
    "array_index_part = np.intersect1d(np.intersect1d(np.intersect1d(array_index_type_code, array_index_part_code), array_index_part_number), array_index_manufacturer)\n",
    "\n",
    "array_index_part"
   ]
  },
  {
   "cell_type": "code",
   "execution_count": 20,
   "id": "c0520cfb-2566-4100-846d-aaf3acbb7219",
   "metadata": {},
   "outputs": [
    {
     "data": {
      "text/plain": [
       "np.int64(0)"
      ]
     },
     "execution_count": 20,
     "metadata": {},
     "output_type": "execute_result"
    }
   ],
   "source": [
    "if array_index_part.size == 1:\n",
    "    index_part = array_index_part[0]\n",
    "\n",
    "index_part"
   ]
  },
  {
   "cell_type": "code",
   "execution_count": 21,
   "id": "fde26234-f5a9-4d62-8bf9-adafd6a58ac8",
   "metadata": {},
   "outputs": [],
   "source": [
    "from lxml import etree\n",
    "import re\n",
    "import html"
   ]
  },
  {
   "cell_type": "code",
   "execution_count": 22,
   "id": "c5f6eb7b-bea4-4590-b02f-ed8d88304ee1",
   "metadata": {},
   "outputs": [
    {
     "data": {
      "text/plain": [
       "{}"
      ]
     },
     "execution_count": 22,
     "metadata": {},
     "output_type": "execute_result"
    }
   ],
   "source": [
    "dict_sidenote, i, list_span = {}, 0, list_tbody[index_part].xpath('./tr[1]/td[contains(@class, \"listing-inner-content\")]/div[@class=\"listing-text-row-moreinfo-truck\"]/span[@class=\"span-link-underline-remover\"]')\n",
    "for span in list_span:\n",
    "    sidenote = etree.tostring(span.root).decode('utf-8')\n",
    "    sidenote = re.sub(r'<.*?>', '', sidenote)\n",
    "    sidenote = re.sub(r' +', ' ', sidenote)\n",
    "    sidenote = html.unescape(sidenote).strip()\n",
    "    if sidenote != '':\n",
    "        dict_sidenote[str(i)] = sidenote\n",
    "        i += 1\n",
    "\n",
    "dict_sidenote"
   ]
  },
  {
   "cell_type": "code",
   "execution_count": 23,
   "id": "0b8825a2-30f8-442c-b00d-4487fa78a294",
   "metadata": {},
   "outputs": [
    {
     "data": {
      "text/plain": [
       "'https://www.rockauto.com/en/moreinfo.php?pk=8306448&cc=0&pt=5724'"
      ]
     },
     "execution_count": 23,
     "metadata": {},
     "output_type": "execute_result"
    }
   ],
   "source": [
    "list_a = list_tbody[index_part].xpath('./tr[1]/td[contains(@class, \"listing-inner-content\")]/div[@class=\"listing-text-row-moreinfo-truck\"]/a[@class=\"ra-btn ra-btn-moreinfo\"]')\n",
    "info_url = list_a[0].xpath('./@href').get() if list_a else ''\n",
    "info_url = info_url if info_url.startswith('https://www.rockauto.com/en/moreinfo.php?') else dict_['kit_info_url']\n",
    "\n",
    "info_url"
   ]
  },
  {
   "cell_type": "code",
   "execution_count": 24,
   "id": "2ef187e0-dab5-4d99-8e81-edaa03a171ce",
   "metadata": {},
   "outputs": [
    {
     "data": {
      "text/plain": [
       "{'0': 'Category: Timing Chain'}"
      ]
     },
     "execution_count": 24,
     "metadata": {},
     "output_type": "execute_result"
    }
   ],
   "source": [
    "dict_footnote, i, list_span = {}, 0, list_tbody[index_part].xpath('./tr[1]/td[contains(@class, \"listing-inner-content\")]/div[@class=\"listing-text-row\"]/span[contains(@title, \"Please make sure\")]/span[@class=\"listing-footnote-text\"]')\n",
    "for span in list_span:\n",
    "    footnote = etree.tostring(span.root).decode('utf-8')\n",
    "    footnote = re.sub(r'<.*?>', '', footnote)\n",
    "    footnote = re.sub(r' +', ' ', footnote)\n",
    "    footnote = html.unescape(footnote).strip()\n",
    "    if footnote != '':\n",
    "        dict_footnote[str(i)] = footnote\n",
    "        i += 1\n",
    "\n",
    "dict_footnote"
   ]
  },
  {
   "cell_type": "code",
   "execution_count": 25,
   "id": "7091446e-e3da-477d-8e59-2716b1aa2ea7",
   "metadata": {},
   "outputs": [
    {
     "data": {
      "text/plain": [
       "['3L8Z6268AA', 'L30512201']"
      ]
     },
     "execution_count": 25,
     "metadata": {},
     "output_type": "execute_result"
    }
   ],
   "source": [
    "list_oem, list_str_oem = [], list_tbody[index_part].xpath('./tr[1]/td[contains(@class, \"listing-inner-content\")]/span[contains(@title, \"Replaces these Alternate\")]/text()').getall()\n",
    "for str_oem in list_str_oem:\n",
    "    list_oem_temp = [oem.strip() for oem in str_oem.split(',')]\n",
    "    for oem in list_oem_temp:\n",
    "        if oem != '' and oem not in list_oem:\n",
    "            list_oem.append(oem)\n",
    "\n",
    "list_oem"
   ]
  },
  {
   "cell_type": "code",
   "execution_count": 26,
   "id": "7a8c892c-9e70-4f24-948e-5da7c4cbd13a",
   "metadata": {},
   "outputs": [],
   "source": [
    "from urllib.parse import urljoin"
   ]
  },
  {
   "cell_type": "code",
   "execution_count": 27,
   "id": "627593bc-15b4-417d-b1ac-ddfc006704c6",
   "metadata": {},
   "outputs": [
    {
     "data": {
      "text/plain": [
       "{'0': 'https://www.rockauto.com/info/583/715F-1-ANG.jpg'}"
      ]
     },
     "execution_count": 27,
     "metadata": {},
     "output_type": "execute_result"
    }
   ],
   "source": [
    "dict_src, i, list_value = {}, 0, list_tbody[index_part].xpath('./tr[1]/td/div[contains(@class, \"listing-image-space-occupy\")]/input[contains(@id, \"jsninlineimg[__GIP__\")]/@value').getall()\n",
    "for value in list_value:\n",
    "    list_src = json.loads(value).get('Slots', None)\n",
    "    for src in list_src:\n",
    "        dict_src[str(i)] = urljoin('https://www.rockauto.com', src['ImageData']['Full'].strip())\n",
    "        i += 1\n",
    "\n",
    "dict_src = dict_src if dict_src else json.loads(dict_['kit_json_src'])\n",
    "\n",
    "dict_src"
   ]
  },
  {
   "cell_type": "code",
   "execution_count": 28,
   "id": "1449579e-865e-4b34-b91e-c104909562e5",
   "metadata": {},
   "outputs": [
    {
     "data": {
      "text/plain": [
       "{'default': 'Out of Stock'}"
      ]
     },
     "execution_count": 28,
     "metadata": {},
     "output_type": "execute_result"
    }
   ],
   "source": [
    "span = list_tbody[index_part].xpath('./tr[1]/td[contains(@id, \"listingtd[__GIP__\") and contains(@id, \"__][price]\")]/span[contains(@id, \"dprice[__GIP__\") and contains(@id, \"__][td]\")]/span/span[contains(@id, \"dprice[__GIP__\") and contains(@id, \"__][v]\")]')[0]\n",
    "price = etree.tostring(span.root).decode('utf-8')\n",
    "price = re.sub(r'<.*?>', '', price)\n",
    "price = re.sub(r' +', ' ', price)\n",
    "price = html.unescape(price).strip()\n",
    "dict_price = {'default': price}\n",
    "\n",
    "i, list_td = 0, list_tbody[index_part].xpath('./tr[1]/td[contains(@class, \"listing-inner-content\")]/div/div[contains(@class, \"listing-optionchoice-multiple-container\")]/span[contains(@id, \"ddrepl[optionchoice[__GIP__\") and contains(@id, \"__]][container]\")]/span[@class=\"hide-if-js\"]/select[contains(@id, \"optionchoice[__GIP__\")]/option[@value!=\"\"]')\n",
    "for td in list_td:\n",
    "    price = etree.tostring(td.root).decode('utf-8')\n",
    "    price = re.sub(r'<.*?>', '', price)\n",
    "    price = re.sub(r' +', ' ', price)\n",
    "    price = html.unescape(price).strip()\n",
    "    if price != '':\n",
    "        if i == 0:\n",
    "            dict_price['choose'] = {}\n",
    "        dict_price['choose'][str(i)] = price\n",
    "        i += 1\n",
    "\n",
    "dict_price"
   ]
  },
  {
   "cell_type": "code",
   "execution_count": 29,
   "id": "d6f61c44-795f-4b5d-b8a8-6c1c1371d5b3",
   "metadata": {},
   "outputs": [
    {
     "data": {
      "text/plain": [
       "{'kit_type': 'Timing Chain',\n",
       " 'kit_no': 1,\n",
       " 'kit_type_code': '5724',\n",
       " 'kit_manufacturer': 'MELLING',\n",
       " 'kit_part_number': '715F',\n",
       " 'kit_url': 'https://www.rockauto.com/en/parts/MELLING,715F,Timing Chain,5724&Lennon=1',\n",
       " 'kit_picture': '',\n",
       " 'kit_part_code': '8306448',\n",
       " 'kit_join_mpntcpc': 'MELLING;715F;5724;8306448',\n",
       " 'kit_not_found': 'no',\n",
       " 'kit_choose': '',\n",
       " 'kit_json_sidenote': '{}',\n",
       " 'kit_info_url': 'https://www.rockauto.com/en/moreinfo.php?pk=8306448&cc=0&pt=5724',\n",
       " 'kit_json_footnote': '{\"0\": \"Category: Timing Chain\"}',\n",
       " 'kit_oem': '3L8Z6268AA;L30512201',\n",
       " 'kit_json_src': '{\"0\": \"https://www.rockauto.com/info/583/715F-1-ANG.jpg\"}',\n",
       " 'kit_json_price': '{\"default\": \"Out of Stock\"}'}"
      ]
     },
     "execution_count": 29,
     "metadata": {},
     "output_type": "execute_result"
    }
   ],
   "source": [
    "{'kit_type': dict_['kit_type'],\n",
    " 'kit_no': dict_['kit_no'],\n",
    " 'kit_type_code': dict_['kit_type_code'],\n",
    " 'kit_manufacturer': dict_['kit_manufacturer'],\n",
    " 'kit_part_number': dict_['kit_part_number'],\n",
    " 'kit_url': dict_['kit_url'],\n",
    " 'kit_picture': '',\n",
    " 'kit_part_code': dict_['kit_part_code'],\n",
    " 'kit_join_mpntcpc': dict_['kit_join_mpntcpc'],\n",
    " 'kit_not_found': 'no',\n",
    " 'kit_choose': list_choose[index_part],\n",
    " 'kit_json_sidenote': json.dumps(dict_sidenote),\n",
    " 'kit_info_url': info_url,\n",
    " 'kit_json_footnote': json.dumps(dict_footnote),\n",
    " 'kit_oem': ';'.join(list_oem),\n",
    " 'kit_json_src': json.dumps(dict_src),\n",
    " 'kit_json_price': json.dumps(dict_price)}"
   ]
  },
  {
   "cell_type": "code",
   "execution_count": null,
   "id": "82993db0-1bd4-4cb8-9a49-f4c9a59ad792",
   "metadata": {},
   "outputs": [],
   "source": []
  }
 ],
 "metadata": {
  "kernelspec": {
   "display_name": "Python 3 (ipykernel)",
   "language": "python",
   "name": "python3"
  },
  "language_info": {
   "codemirror_mode": {
    "name": "ipython",
    "version": 3
   },
   "file_extension": ".py",
   "mimetype": "text/x-python",
   "name": "python",
   "nbconvert_exporter": "python",
   "pygments_lexer": "ipython3",
   "version": "3.12.7"
  }
 },
 "nbformat": 4,
 "nbformat_minor": 5
}
