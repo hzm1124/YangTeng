{
 "cells": [
  {
   "cell_type": "code",
   "execution_count": 1,
   "id": "6f77e0f4",
   "metadata": {},
   "outputs": [],
   "source": [
    "param_total = 103617"
   ]
  },
  {
   "cell_type": "code",
   "execution_count": 2,
   "id": "7457fa97",
   "metadata": {},
   "outputs": [],
   "source": [
    "import math\n",
    "import pandas as pd"
   ]
  },
  {
   "cell_type": "code",
   "execution_count": 3,
   "id": "43e75cab",
   "metadata": {},
   "outputs": [
    {
     "data": {
      "text/html": [
       "<div>\n",
       "<style scoped>\n",
       "    .dataframe tbody tr th:only-of-type {\n",
       "        vertical-align: middle;\n",
       "    }\n",
       "\n",
       "    .dataframe tbody tr th {\n",
       "        vertical-align: top;\n",
       "    }\n",
       "\n",
       "    .dataframe thead th {\n",
       "        text-align: right;\n",
       "    }\n",
       "</style>\n",
       "<table border=\"1\" class=\"dataframe\">\n",
       "  <thead>\n",
       "    <tr style=\"text-align: right;\">\n",
       "      <th></th>\n",
       "      <th>Page</th>\n",
       "      <th>Url_1</th>\n",
       "    </tr>\n",
       "  </thead>\n",
       "  <tbody>\n",
       "    <tr>\n",
       "      <th>0</th>\n",
       "      <td>1</td>\n",
       "      <td>https://www.centricparts.com/partFinder/page/i...</td>\n",
       "    </tr>\n",
       "    <tr>\n",
       "      <th>1</th>\n",
       "      <td>2</td>\n",
       "      <td>https://www.centricparts.com/partFinder/page/i...</td>\n",
       "    </tr>\n",
       "    <tr>\n",
       "      <th>2</th>\n",
       "      <td>3</td>\n",
       "      <td>https://www.centricparts.com/partFinder/page/i...</td>\n",
       "    </tr>\n",
       "    <tr>\n",
       "      <th>3</th>\n",
       "      <td>4</td>\n",
       "      <td>https://www.centricparts.com/partFinder/page/i...</td>\n",
       "    </tr>\n",
       "    <tr>\n",
       "      <th>4</th>\n",
       "      <td>5</td>\n",
       "      <td>https://www.centricparts.com/partFinder/page/i...</td>\n",
       "    </tr>\n",
       "    <tr>\n",
       "      <th>...</th>\n",
       "      <td>...</td>\n",
       "      <td>...</td>\n",
       "    </tr>\n",
       "    <tr>\n",
       "      <th>4140</th>\n",
       "      <td>4141</td>\n",
       "      <td>https://www.centricparts.com/partFinder/page/i...</td>\n",
       "    </tr>\n",
       "    <tr>\n",
       "      <th>4141</th>\n",
       "      <td>4142</td>\n",
       "      <td>https://www.centricparts.com/partFinder/page/i...</td>\n",
       "    </tr>\n",
       "    <tr>\n",
       "      <th>4142</th>\n",
       "      <td>4143</td>\n",
       "      <td>https://www.centricparts.com/partFinder/page/i...</td>\n",
       "    </tr>\n",
       "    <tr>\n",
       "      <th>4143</th>\n",
       "      <td>4144</td>\n",
       "      <td>https://www.centricparts.com/partFinder/page/i...</td>\n",
       "    </tr>\n",
       "    <tr>\n",
       "      <th>4144</th>\n",
       "      <td>4145</td>\n",
       "      <td>https://www.centricparts.com/partFinder/page/i...</td>\n",
       "    </tr>\n",
       "  </tbody>\n",
       "</table>\n",
       "<p>4145 rows × 2 columns</p>\n",
       "</div>"
      ],
      "text/plain": [
       "      Page                                              Url_1\n",
       "0        1  https://www.centricparts.com/partFinder/page/i...\n",
       "1        2  https://www.centricparts.com/partFinder/page/i...\n",
       "2        3  https://www.centricparts.com/partFinder/page/i...\n",
       "3        4  https://www.centricparts.com/partFinder/page/i...\n",
       "4        5  https://www.centricparts.com/partFinder/page/i...\n",
       "...    ...                                                ...\n",
       "4140  4141  https://www.centricparts.com/partFinder/page/i...\n",
       "4141  4142  https://www.centricparts.com/partFinder/page/i...\n",
       "4142  4143  https://www.centricparts.com/partFinder/page/i...\n",
       "4143  4144  https://www.centricparts.com/partFinder/page/i...\n",
       "4144  4145  https://www.centricparts.com/partFinder/page/i...\n",
       "\n",
       "[4145 rows x 2 columns]"
      ]
     },
     "execution_count": 3,
     "metadata": {},
     "output_type": "execute_result"
    }
   ],
   "source": [
    "df = pd.DataFrame({'Page': [i+1 for i in range(math.ceil(param_total / 25))],\n",
    "                   'Url_1': ['https://www.centricparts.com/partFinder/page/index/?p=' + str(_+1) + '&product_list_limit=25&product_list_order=part_number' for _ in range(math.ceil(param_total / 25))]})\n",
    "\n",
    "df.to_excel('./menu_1.xlsx', index=False)\n",
    "\n",
    "df"
   ]
  },
  {
   "cell_type": "code",
   "execution_count": null,
   "id": "60094d07",
   "metadata": {},
   "outputs": [],
   "source": []
  }
 ],
 "metadata": {
  "kernelspec": {
   "display_name": "Python 3 (ipykernel)",
   "language": "python",
   "name": "python3"
  },
  "language_info": {
   "codemirror_mode": {
    "name": "ipython",
    "version": 3
   },
   "file_extension": ".py",
   "mimetype": "text/x-python",
   "name": "python",
   "nbconvert_exporter": "python",
   "pygments_lexer": "ipython3",
   "version": "3.11.3"
  }
 },
 "nbformat": 4,
 "nbformat_minor": 5
}
