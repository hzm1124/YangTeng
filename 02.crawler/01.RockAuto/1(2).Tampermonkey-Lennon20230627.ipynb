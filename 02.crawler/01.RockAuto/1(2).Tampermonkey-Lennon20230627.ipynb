{
 "cells": [
  {
   "cell_type": "code",
   "execution_count": 1,
   "id": "14d342fe",
   "metadata": {},
   "outputs": [],
   "source": [
    "import pandas as pd"
   ]
  },
  {
   "cell_type": "code",
   "execution_count": 2,
   "id": "a21ee82d",
   "metadata": {},
   "outputs": [
    {
     "data": {
      "text/html": [
       "<div>\n",
       "<style scoped>\n",
       "    .dataframe tbody tr th:only-of-type {\n",
       "        vertical-align: middle;\n",
       "    }\n",
       "\n",
       "    .dataframe tbody tr th {\n",
       "        vertical-align: top;\n",
       "    }\n",
       "\n",
       "    .dataframe thead th {\n",
       "        text-align: right;\n",
       "    }\n",
       "</style>\n",
       "<table border=\"1\" class=\"dataframe\">\n",
       "  <thead>\n",
       "    <tr style=\"text-align: right;\">\n",
       "      <th></th>\n",
       "      <th>Part_Number</th>\n",
       "      <th>Url</th>\n",
       "    </tr>\n",
       "  </thead>\n",
       "  <tbody>\n",
       "  </tbody>\n",
       "</table>\n",
       "</div>"
      ],
      "text/plain": [
       "Empty DataFrame\n",
       "Columns: [Part_Number, Url]\n",
       "Index: []"
      ]
     },
     "execution_count": 2,
     "metadata": {},
     "output_type": "execute_result"
    }
   ],
   "source": [
    "df = pd.DataFrame(columns=['Part_Number', 'Url'])\n",
    "\n",
    "df"
   ]
  },
  {
   "cell_type": "code",
   "execution_count": 3,
   "id": "f35193a2",
   "metadata": {},
   "outputs": [],
   "source": [
    "import json"
   ]
  },
  {
   "cell_type": "code",
   "execution_count": 4,
   "id": "b08620ce",
   "metadata": {},
   "outputs": [
    {
     "data": {
      "text/html": [
       "<div>\n",
       "<style scoped>\n",
       "    .dataframe tbody tr th:only-of-type {\n",
       "        vertical-align: middle;\n",
       "    }\n",
       "\n",
       "    .dataframe tbody tr th {\n",
       "        vertical-align: top;\n",
       "    }\n",
       "\n",
       "    .dataframe thead th {\n",
       "        text-align: right;\n",
       "    }\n",
       "</style>\n",
       "<table border=\"1\" class=\"dataframe\">\n",
       "  <thead>\n",
       "    <tr style=\"text-align: right;\">\n",
       "      <th></th>\n",
       "      <th>Part_Number</th>\n",
       "      <th>Url</th>\n",
       "    </tr>\n",
       "  </thead>\n",
       "  <tbody>\n",
       "    <tr>\n",
       "      <th>0</th>\n",
       "      <td>01434X2</td>\n",
       "      <td>https://www.rockauto.com/en/parts/fairchild,01...</td>\n",
       "    </tr>\n",
       "    <tr>\n",
       "      <th>1</th>\n",
       "      <td>01484X2</td>\n",
       "      <td>https://www.rockauto.com/en/parts/fairchild,01...</td>\n",
       "    </tr>\n",
       "    <tr>\n",
       "      <th>2</th>\n",
       "      <td>01944X2</td>\n",
       "      <td>https://www.rockauto.com/en/parts/fairchild,01...</td>\n",
       "    </tr>\n",
       "    <tr>\n",
       "      <th>3</th>\n",
       "      <td>01994X2</td>\n",
       "      <td>https://www.rockauto.com/en/parts/fairchild,01...</td>\n",
       "    </tr>\n",
       "    <tr>\n",
       "      <th>4</th>\n",
       "      <td>11814X2</td>\n",
       "      <td>https://www.rockauto.com/en/parts/fairchild,11...</td>\n",
       "    </tr>\n",
       "    <tr>\n",
       "      <th>...</th>\n",
       "      <td>...</td>\n",
       "      <td>...</td>\n",
       "    </tr>\n",
       "    <tr>\n",
       "      <th>460</th>\n",
       "      <td>KT2025</td>\n",
       "      <td>https://www.rockauto.com/en/parts/fairchild,KT...</td>\n",
       "    </tr>\n",
       "    <tr>\n",
       "      <th>461</th>\n",
       "      <td>KT2026</td>\n",
       "      <td>https://www.rockauto.com/en/parts/fairchild,KT...</td>\n",
       "    </tr>\n",
       "    <tr>\n",
       "      <th>462</th>\n",
       "      <td>KT2028</td>\n",
       "      <td>https://www.rockauto.com/en/parts/fairchild,KT...</td>\n",
       "    </tr>\n",
       "    <tr>\n",
       "      <th>463</th>\n",
       "      <td>KT2036</td>\n",
       "      <td>https://www.rockauto.com/en/parts/fairchild,KT...</td>\n",
       "    </tr>\n",
       "    <tr>\n",
       "      <th>464</th>\n",
       "      <td>T2036</td>\n",
       "      <td>https://www.rockauto.com/en/parts/fairchild,T2...</td>\n",
       "    </tr>\n",
       "  </tbody>\n",
       "</table>\n",
       "<p>465 rows × 2 columns</p>\n",
       "</div>"
      ],
      "text/plain": [
       "    Part_Number                                                Url\n",
       "0       01434X2  https://www.rockauto.com/en/parts/fairchild,01...\n",
       "1       01484X2  https://www.rockauto.com/en/parts/fairchild,01...\n",
       "2       01944X2  https://www.rockauto.com/en/parts/fairchild,01...\n",
       "3       01994X2  https://www.rockauto.com/en/parts/fairchild,01...\n",
       "4       11814X2  https://www.rockauto.com/en/parts/fairchild,11...\n",
       "..          ...                                                ...\n",
       "460      KT2025  https://www.rockauto.com/en/parts/fairchild,KT...\n",
       "461      KT2026  https://www.rockauto.com/en/parts/fairchild,KT...\n",
       "462      KT2028  https://www.rockauto.com/en/parts/fairchild,KT...\n",
       "463      KT2036  https://www.rockauto.com/en/parts/fairchild,KT...\n",
       "464       T2036  https://www.rockauto.com/en/parts/fairchild,T2...\n",
       "\n",
       "[465 rows x 2 columns]"
      ]
     },
     "execution_count": 4,
     "metadata": {},
     "output_type": "execute_result"
    }
   ],
   "source": [
    "with open('./menu.txt', 'r') as f:\n",
    "    df = pd.concat([df, pd.DataFrame(json.loads(f.read()))], ignore_index=True)\n",
    "    \n",
    "df.to_excel('./menu.xlsx', index=False)\n",
    "\n",
    "df"
   ]
  },
  {
   "cell_type": "code",
   "execution_count": null,
   "id": "e8e93640",
   "metadata": {},
   "outputs": [],
   "source": []
  }
 ],
 "metadata": {
  "kernelspec": {
   "display_name": "Python 3 (ipykernel)",
   "language": "python",
   "name": "python3"
  },
  "language_info": {
   "codemirror_mode": {
    "name": "ipython",
    "version": 3
   },
   "file_extension": ".py",
   "mimetype": "text/x-python",
   "name": "python",
   "nbconvert_exporter": "python",
   "pygments_lexer": "ipython3",
   "version": "3.11.3"
  }
 },
 "nbformat": 4,
 "nbformat_minor": 5
}
