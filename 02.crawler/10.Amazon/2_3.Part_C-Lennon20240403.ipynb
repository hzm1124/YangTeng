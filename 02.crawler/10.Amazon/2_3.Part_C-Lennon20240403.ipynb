{
 "cells": [
  {
   "cell_type": "code",
   "execution_count": 1,
   "id": "438ad4f6",
   "metadata": {},
   "outputs": [],
   "source": [
    "import pandas as pd\n",
    "\n",
    "df = pd.DataFrame()"
   ]
  },
  {
   "cell_type": "code",
   "execution_count": 2,
   "id": "5869723b",
   "metadata": {},
   "outputs": [],
   "source": [
    "import os"
   ]
  },
  {
   "cell_type": "code",
   "execution_count": 3,
   "id": "e752dc55",
   "metadata": {},
   "outputs": [
    {
     "data": {
      "text/plain": [
       "420"
      ]
     },
     "execution_count": 3,
     "metadata": {},
     "output_type": "execute_result"
    }
   ],
   "source": [
    "list_file = list(os.walk('./part'))[0][2]\n",
    "if '.DS_Store' in list_file:\n",
    "    list_file.remove('.DS_Store')\n",
    "if '0.null.txt' in list_file:\n",
    "    list_file.remove('0.null.txt')\n",
    "    \n",
    "list_file.sort()\n",
    "    \n",
    "len(list_file)"
   ]
  },
  {
   "cell_type": "code",
   "execution_count": 4,
   "id": "8531cb55",
   "metadata": {},
   "outputs": [],
   "source": [
    "from bs4 import BeautifulSoup\n",
    "from lxml import etree"
   ]
  },
  {
   "cell_type": "code",
   "execution_count": null,
   "id": "de5304a7",
   "metadata": {},
   "outputs": [],
   "source": [
    "a = 7\n",
    "\n",
    "with open('./part/' + list_file[a], 'r', encoding='UTF-8') as file:\n",
    "    resp = file.read()\n",
    "    \n",
    "soup = BeautifulSoup(resp, 'lxml')\n",
    "html = etree.HTML(str(soup).encode('ascii', 'xmlcharrefreplace').decode('utf-8'))\n",
    "\n",
    "with open('./part.html', 'w', encoding='UTF-8') as file:\n",
    "    file.write(str(soup))\n",
    "\n",
    "print(soup.prettify())"
   ]
  },
  {
   "cell_type": "code",
   "execution_count": null,
   "id": "0cde1abd",
   "metadata": {},
   "outputs": [
    {
     "data": {
      "text/plain": [
       "'Detroit Axle - 5 Lugs Front Wheel Bearing Hub for Chevy Cobalt HHR, Hub Bearing Pontiac Pursuit G5 Saturn Ion Red Line, Replacement Wheel Bearing and Hub Assembly [4 Wheel ABS]'"
      ]
     },
     "execution_count": 6,
     "metadata": {},
     "output_type": "execute_result"
    }
   ],
   "source": [
    "title = html.xpath('//h1[@id=\"title\"]/span/text()')[0].strip()\n",
    "\n",
    "title"
   ]
  },
  {
   "cell_type": "code",
   "execution_count": null,
   "id": "f5d1de63",
   "metadata": {},
   "outputs": [
    {
     "data": {
      "text/plain": [
       "'$49.79'"
      ]
     },
     "execution_count": 7,
     "metadata": {},
     "output_type": "execute_result"
    }
   ],
   "source": [
    "price = html.xpath('//span[@class=\"a-offscreen\"]/text()')[1].strip()\n",
    "\n",
    "price"
   ]
  },
  {
   "cell_type": "code",
   "execution_count": 8,
   "id": "a83254c2",
   "metadata": {},
   "outputs": [
    {
     "name": "stdout",
     "output_type": "stream",
     "text": [
      "1. Wheel Bearing Hub Replacement for 2005-2006 Pontiac Pursuit (4 Wheel ABS; 5 LUG) - [2007-2010 Pontiac G5 (4 Wheel ABS; 5 LUG)] - 2005-2010 Chevrolet Cobalt (4 Wheel ABS; 5 LUG (2008-2010: Excluding SS Models))\n",
      "2. Wheel Bearing Hub Replacement for 2006-2011 Chevrolet Hhr (4 Wheel ABS; 5 LUG (2008-2011 For Models w/ ABS & Rear Drum Brakes)) - [2004-2007 Saturn Ion Red Line (4 Wheel ABS; 5 LUG)]\n",
      "3. Wheel Bearing Hub Kit Includes: 1x Front Driver or Passenger Side Wheel Bearing Hub\n",
      "4. Hub Specifications: Position: Front Left or Right | Lugs: 5 Bolts | ABS Type: Sensor Wire | Flange Type: 3-Bolt Triangular\n",
      "5. 10-YEAR WARRANTY! - Undergo impact, wear, and fatigue testing to help ensure quality and durability\n",
      "\n"
     ]
    }
   ],
   "source": [
    "about = ''\n",
    "list_about = html.xpath('//ul[@class=\"a-unordered-list a-vertical a-spacing-mini\"]/li/span/text()')\n",
    "for i in range(len(list_about)):\n",
    "    about += str(i+1) + '. ' + list_about[i].strip() + '\\n'\n",
    "\n",
    "print(about)"
   ]
  },
  {
   "cell_type": "code",
   "execution_count": 9,
   "id": "9bb006e1",
   "metadata": {},
   "outputs": [
    {
     "data": {
      "text/plain": [
       "'https://m.media-amazon.com/images/I/71TZkbWtJpS.__AC_SX300_SY300_QL70_ML2_.jpg'"
      ]
     },
     "execution_count": 9,
     "metadata": {},
     "output_type": "execute_result"
    }
   ],
   "source": [
    "src = html.xpath('//div[@id=\"imgTagWrapperId\"]/img/@src')[0].strip()\n",
    "\n",
    "src"
   ]
  },
  {
   "cell_type": "code",
   "execution_count": 10,
   "id": "9dba17e0",
   "metadata": {},
   "outputs": [
    {
     "data": {
      "text/plain": [
       "[]"
      ]
     },
     "execution_count": 10,
     "metadata": {},
     "output_type": "execute_result"
    }
   ],
   "source": [
    "list_tr = html.xpath('//table[@class=\"a-normal a-spacing-micro\"]/tr')\n",
    "\n",
    "list_tr"
   ]
  },
  {
   "cell_type": "code",
   "execution_count": 11,
   "id": "6aa7aff8",
   "metadata": {},
   "outputs": [
    {
     "data": {
      "text/plain": [
       "[<Element tr at 0x11dbd6200>,\n",
       " <Element tr at 0x11dd9fac0>,\n",
       " <Element tr at 0x120785780>,\n",
       " <Element tr at 0x120785dc0>,\n",
       " <Element tr at 0x12079c680>,\n",
       " <Element tr at 0x12079cb40>]"
      ]
     },
     "execution_count": 11,
     "metadata": {},
     "output_type": "execute_result"
    }
   ],
   "source": [
    "list_tr_2 = html.xpath('//table[@id=\"productDetails_techSpec_section_1\"]/tr')\n",
    "\n",
    "list_tr_2"
   ]
  },
  {
   "cell_type": "code",
   "execution_count": 12,
   "id": "794b74a8",
   "metadata": {},
   "outputs": [
    {
     "data": {
      "text/plain": [
       "[<Element tr at 0x1066f2c80>,\n",
       " <Element tr at 0x12079d300>,\n",
       " <Element tr at 0x12079c880>,\n",
       " <Element tr at 0x12079d480>]"
      ]
     },
     "execution_count": 12,
     "metadata": {},
     "output_type": "execute_result"
    }
   ],
   "source": [
    "list_tr_3= html.xpath('//table[@id=\"productDetails_detailBullets_sections1\"]/tr')\n",
    "\n",
    "list_tr_3"
   ]
  },
  {
   "cell_type": "code",
   "execution_count": 13,
   "id": "ee6c62db",
   "metadata": {},
   "outputs": [
    {
     "data": {
      "text/plain": [
       "1"
      ]
     },
     "execution_count": 13,
     "metadata": {},
     "output_type": "execute_result"
    }
   ],
   "source": [
    "df_temp = pd.DataFrame([{'序号': int(list_file[a].replace('.txt', '')),\n",
    "                         'ASIN': '',\n",
    "                         'Title': title,\n",
    "                         'Price': price,\n",
    "                         'About': about.strip(),\n",
    "                         'Pic': '',\n",
    "                         'Url': '',\n",
    "                         'Src': src}])\n",
    "\n",
    "for tr in list_tr:\n",
    "    df_temp.loc[0, tr.xpath('./td/span/text()')[0].strip().upper()] = tr.xpath('./td/span/text()')[1].strip()\n",
    "    \n",
    "for tr in list_tr_2:\n",
    "    df_temp.loc[0, tr.xpath('./th/text()')[0].strip().lower()] = tr.xpath('./td/text()')[0].strip()\n",
    "\n",
    "for tr in list_tr_3:\n",
    "    if tr.xpath('./th/text()')[0].strip() == 'Best Sellers Rank':\n",
    "        df_temp.loc[0, tr.xpath('./th/text()')[0].strip().upper()] = ' '.join(tr.xpath('./td/descendant::*/text()')).strip()\n",
    "    else:\n",
    "        df_temp.loc[0, tr.xpath('./th/text()')[0].strip().upper()] = ' '.join(tr.xpath('./td/text()')).strip()\n",
    "    \n",
    "df = pd.concat([df, df_temp], ignore_index=True).fillna('')\n",
    "    \n",
    "len(df)"
   ]
  },
  {
   "cell_type": "code",
   "execution_count": 14,
   "id": "efcc191b",
   "metadata": {},
   "outputs": [
    {
     "data": {
      "text/html": [
       "<div>\n",
       "<style scoped>\n",
       "    .dataframe tbody tr th:only-of-type {\n",
       "        vertical-align: middle;\n",
       "    }\n",
       "\n",
       "    .dataframe tbody tr th {\n",
       "        vertical-align: top;\n",
       "    }\n",
       "\n",
       "    .dataframe thead th {\n",
       "        text-align: right;\n",
       "    }\n",
       "</style>\n",
       "<table border=\"1\" class=\"dataframe\">\n",
       "  <thead>\n",
       "    <tr style=\"text-align: right;\">\n",
       "      <th></th>\n",
       "      <th>序号</th>\n",
       "      <th>ASIN</th>\n",
       "      <th>Title</th>\n",
       "      <th>Price</th>\n",
       "      <th>About</th>\n",
       "      <th>Pic</th>\n",
       "      <th>Url</th>\n",
       "      <th>Src</th>\n",
       "      <th>manufacturer</th>\n",
       "      <th>brand</th>\n",
       "      <th>item weight</th>\n",
       "      <th>product dimensions</th>\n",
       "      <th>is discontinued by manufacturer</th>\n",
       "      <th>manufacturer part number</th>\n",
       "      <th>CUSTOMER REVIEWS</th>\n",
       "      <th>BEST SELLERS RANK</th>\n",
       "      <th>DATE FIRST AVAILABLE</th>\n",
       "    </tr>\n",
       "  </thead>\n",
       "  <tbody>\n",
       "    <tr>\n",
       "      <th>0</th>\n",
       "      <td>105</td>\n",
       "      <td>B01DPWCKSE</td>\n",
       "      <td>Detroit Axle - 5 Lugs Front Wheel Bearing Hub ...</td>\n",
       "      <td>$49.79</td>\n",
       "      <td>1. Wheel Bearing Hub Replacement for 2005-2006...</td>\n",
       "      <td></td>\n",
       "      <td></td>\n",
       "      <td>https://m.media-amazon.com/images/I/71TZkbWtJp...</td>\n",
       "      <td>‎Detroit Axle</td>\n",
       "      <td>‎Detroit Axle</td>\n",
       "      <td>‎7.51 pounds</td>\n",
       "      <td>‎7 x 7 x 7 inches</td>\n",
       "      <td>‎No</td>\n",
       "      <td>‎513206-DA</td>\n",
       "      <td>4.4 out of 5 stars</td>\n",
       "      <td>#389,600 in Automotive ( See Top 100 in Automo...</td>\n",
       "      <td>April 1, 2016</td>\n",
       "    </tr>\n",
       "  </tbody>\n",
       "</table>\n",
       "</div>"
      ],
      "text/plain": [
       "    序号        ASIN                                              Title   Price  \\\n",
       "0  105  B01DPWCKSE  Detroit Axle - 5 Lugs Front Wheel Bearing Hub ...  $49.79   \n",
       "\n",
       "                                               About Pic Url  \\\n",
       "0  1. Wheel Bearing Hub Replacement for 2005-2006...           \n",
       "\n",
       "                                                 Src   manufacturer  \\\n",
       "0  https://m.media-amazon.com/images/I/71TZkbWtJp...  ‎Detroit Axle   \n",
       "\n",
       "           brand   item weight product dimensions  \\\n",
       "0  ‎Detroit Axle  ‎7.51 pounds  ‎7 x 7 x 7 inches   \n",
       "\n",
       "  is discontinued by manufacturer manufacturer part number  \\\n",
       "0                             ‎No               ‎513206-DA   \n",
       "\n",
       "     CUSTOMER REVIEWS                                  BEST SELLERS RANK  \\\n",
       "0  4.4 out of 5 stars  #389,600 in Automotive ( See Top 100 in Automo...   \n",
       "\n",
       "  DATE FIRST AVAILABLE  \n",
       "0        April 1, 2016  "
      ]
     },
     "execution_count": 14,
     "metadata": {},
     "output_type": "execute_result"
    }
   ],
   "source": [
    "df = df.drop_duplicates(ignore_index=True)\n",
    "df = df.sort_values(by=['序号'], ascending=[True]).reset_index(drop=True)\n",
    "df.to_excel('./part.xlsx', index=False)\n",
    "\n",
    "df"
   ]
  },
  {
   "cell_type": "code",
   "execution_count": null,
   "id": "036a324a",
   "metadata": {},
   "outputs": [],
   "source": []
  }
 ],
 "metadata": {
  "kernelspec": {
   "display_name": "Python 3 (ipykernel)",
   "language": "python",
   "name": "python3"
  },
  "language_info": {
   "codemirror_mode": {
    "name": "ipython",
    "version": 3
   },
   "file_extension": ".py",
   "mimetype": "text/x-python",
   "name": "python",
   "nbconvert_exporter": "python",
   "pygments_lexer": "ipython3",
   "version": "3.11.3"
  }
 },
 "nbformat": 4,
 "nbformat_minor": 5
}
