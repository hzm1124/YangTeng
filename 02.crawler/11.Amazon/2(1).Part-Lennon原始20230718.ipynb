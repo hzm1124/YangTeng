{
 "cells": [
  {
   "cell_type": "code",
   "execution_count": 1,
   "id": "071334d2",
   "metadata": {},
   "outputs": [],
   "source": [
    "list_user_agent = ['Mozilla/5.0 (Macintosh; Intel Mac OS X 10_15_7) AppleWebKit/537.36 (KHTML, like Gecko) Chrome/114.0.5735.90 Safari/537.36',\n",
    "                   'Mozilla/5.0 (Macintosh; Intel Mac OS X 10_15_7) AppleWebKit/537.36 (KHTML, like Gecko) Chrome/114.0.5735.16 Safari/537.36',\n",
    "                   'Mozilla/5.0 (Macintosh; Intel Mac OS X 10_15_7) AppleWebKit/537.36 (KHTML, like Gecko) Chrome/113.0.5672.63 Safari/537.36',\n",
    "                   'Mozilla/5.0 (Macintosh; Intel Mac OS X 10_15_7) AppleWebKit/537.36 (KHTML, like Gecko) Chrome/113.0.5672.24 Safari/537.36',\n",
    "                   'Mozilla/5.0 (Macintosh; Intel Mac OS X 10_15_7) AppleWebKit/537.36 (KHTML, like Gecko) Chrome/112.0.5615.49 Safari/537.36',\n",
    "                   'Mozilla/5.0 (Macintosh; Intel Mac OS X 10_15_7) AppleWebKit/537.36 (KHTML, like Gecko) Chrome/112.0.5615.28 Safari/537.36',\n",
    "                   'Mozilla/5.0 (Macintosh; Intel Mac OS X 10_15_7) AppleWebKit/537.36 (KHTML, like Gecko) Chrome/111.0.5563.64 Safari/537.36',\n",
    "                   'Mozilla/5.0 (Macintosh; Intel Mac OS X 10_15_7) AppleWebKit/537.36 (KHTML, like Gecko) Chrome/111.0.5563.41 Safari/537.36',\n",
    "                   'Mozilla/5.0 (Macintosh; Intel Mac OS X 10_15_7) AppleWebKit/537.36 (KHTML, like Gecko) Chrome/111.0.5563.19 Safari/537.36',\n",
    "                   'Mozilla/5.0 (Macintosh; Intel Mac OS X 10_15_7) AppleWebKit/537.36 (KHTML, like Gecko) Chrome/110.0.5481.77 Safari/537.36',\n",
    "                   'Mozilla/5.0 (Macintosh; Intel Mac OS X 10_15_7) AppleWebKit/537.36 (KHTML, like Gecko) Chrome/110.0.5481.30 Safari/537.36',\n",
    "                   'Mozilla/5.0 (Macintosh; Intel Mac OS X 10_15_7) AppleWebKit/537.36 (KHTML, like Gecko) Chrome/109.0.5414.74 Safari/537.36',\n",
    "                   'Mozilla/5.0 (Macintosh; Intel Mac OS X 10_15_7) AppleWebKit/537.36 (KHTML, like Gecko) Chrome/109.0.5414.25 Safari/537.36',\n",
    "                   'Mozilla/5.0 (Macintosh; Intel Mac OS X 10_15_7) AppleWebKit/537.36 (KHTML, like Gecko) Chrome/108.0.5359.71 Safari/537.36',\n",
    "                   'Mozilla/5.0 (Macintosh; Intel Mac OS X 10_15_7) AppleWebKit/537.36 (KHTML, like Gecko) Chrome/108.0.5359.22 Safari/537.36',\n",
    "                   'Mozilla/5.0 (Macintosh; Intel Mac OS X 10_15_7) AppleWebKit/537.36 (KHTML, like Gecko) Chrome/107.0.5304.62 Safari/537.36',\n",
    "                   'Mozilla/5.0 (Macintosh; Intel Mac OS X 10_15_7) AppleWebKit/537.36 (KHTML, like Gecko) Chrome/107.0.5304.18 Safari/537.36',\n",
    "                   'Mozilla/5.0 (Macintosh; Intel Mac OS X 10_15_7) AppleWebKit/537.36 (KHTML, like Gecko) Chrome/106.0.5249.61 Safari/537.36',\n",
    "                   'Mozilla/5.0 (Macintosh; Intel Mac OS X 10_15_7) AppleWebKit/537.36 (KHTML, like Gecko) Chrome/106.0.5249.21 Safari/537.36',\n",
    "                   'Mozilla/5.0 (Macintosh; Intel Mac OS X 10_15_7) AppleWebKit/537.36 (KHTML, like Gecko) Chrome/105.0.5195.52 Safari/537.36',\n",
    "                   'Mozilla/5.0 (Macintosh; Intel Mac OS X 10_15_7) AppleWebKit/537.36 (KHTML, like Gecko) Chrome/105.0.5195.19 Safari/537.36',\n",
    "                   'Mozilla/5.0 (Macintosh; Intel Mac OS X 10_15_7) AppleWebKit/537.36 (KHTML, like Gecko) Chrome/104.0.5112.79 Safari/537.36',\n",
    "                   'Mozilla/5.0 (Macintosh; Intel Mac OS X 10_15_7) AppleWebKit/537.36 (KHTML, like Gecko) Chrome/104.0.5112.29 Safari/537.36',\n",
    "                   'Mozilla/5.0 (Macintosh; Intel Mac OS X 10_15_7) AppleWebKit/537.36 (KHTML, like Gecko) Chrome/104.0.5112.20 Safari/537.36',\n",
    "                   'Mozilla/5.0 (Macintosh; Intel Mac OS X 10_15_7) AppleWebKit/537.36 (KHTML, like Gecko) Chrome/103.0.5060.53 Safari/537.36',\n",
    "                   'Mozilla/5.0 (Macintosh; Intel Mac OS X 10_15_7) AppleWebKit/537.36 (KHTML, like Gecko) Chrome/103.0.5060.24 Safari/537.36',\n",
    "                   'Mozilla/5.0 (Macintosh; Intel Mac OS X 10_15_7) AppleWebKit/537.36 (KHTML, like Gecko) Chrome/103.0.5060.134 Safari/537.36',\n",
    "                   'Mozilla/5.0 (Macintosh; Intel Mac OS X 10_15_7) AppleWebKit/537.36 (KHTML, like Gecko) Chrome/102.0.5005.61 Safari/537.36',\n",
    "                   'Mozilla/5.0 (Macintosh; Intel Mac OS X 10_15_7) AppleWebKit/537.36 (KHTML, like Gecko) Chrome/102.0.5005.27 Safari/537.36',\n",
    "                   'Mozilla/5.0 (Macintosh; Intel Mac OS X 10_15_7) AppleWebKit/537.36 (KHTML, like Gecko) Chrome/101.0.4951.41 Safari/537.36',\n",
    "                   'Mozilla/5.0 (Macintosh; Intel Mac OS X 10_15_7) AppleWebKit/537.36 (KHTML, like Gecko) Chrome/101.0.4951.15 Safari/537.36',\n",
    "                   'Mozilla/5.0 (Macintosh; Intel Mac OS X 10_15_7) AppleWebKit/537.36 (KHTML, like Gecko) Chrome/100.0.4896.60 Safari/537.36',\n",
    "                   'Mozilla/5.0 (Macintosh; Intel Mac OS X 10_15_7) AppleWebKit/537.36 (KHTML, like Gecko) Chrome/100.0.4896.20 Safari/537.36']"
   ]
  },
  {
   "cell_type": "code",
   "execution_count": 2,
   "id": "cdf44e73",
   "metadata": {},
   "outputs": [],
   "source": [
    "import pandas as pd"
   ]
  },
  {
   "cell_type": "code",
   "execution_count": 3,
   "id": "97785482",
   "metadata": {
    "scrolled": true
   },
   "outputs": [
    {
     "name": "stdout",
     "output_type": "stream",
     "text": [
      "总数量：3\n"
     ]
    },
    {
     "data": {
      "text/plain": [
       "['https://www.amazon.com/25790869-Electric-Radiator-Trailblazer-Oldsmobile/dp/B0BKLSCX9F',\n",
       " 'https://www.amazon.com/25790869-Electric-Radiator-Trailblazer-Oldsmobile/dp/B07JGYP6NN',\n",
       " 'https://www.amazon.com/25790869-Electric-Radiator-Trailblazer-Oldsmobile/dp/B08CVJWHG6']"
      ]
     },
     "execution_count": 3,
     "metadata": {},
     "output_type": "execute_result"
    }
   ],
   "source": [
    "df_menu = pd.read_excel('./menu.xlsx', header=0)\n",
    "list_url = df_menu['Url'].to_list()\n",
    "\n",
    "print('总数量：' + str(len(list_url)))\n",
    "list_url"
   ]
  },
  {
   "cell_type": "code",
   "execution_count": 4,
   "id": "82aa60c7",
   "metadata": {},
   "outputs": [
    {
     "data": {
      "text/html": [
       "<div>\n",
       "<style scoped>\n",
       "    .dataframe tbody tr th:only-of-type {\n",
       "        vertical-align: middle;\n",
       "    }\n",
       "\n",
       "    .dataframe tbody tr th {\n",
       "        vertical-align: top;\n",
       "    }\n",
       "\n",
       "    .dataframe thead th {\n",
       "        text-align: right;\n",
       "    }\n",
       "</style>\n",
       "<table border=\"1\" class=\"dataframe\">\n",
       "  <thead>\n",
       "    <tr style=\"text-align: right;\">\n",
       "      <th></th>\n",
       "      <th>Url</th>\n",
       "      <th>status</th>\n",
       "    </tr>\n",
       "  </thead>\n",
       "  <tbody>\n",
       "  </tbody>\n",
       "</table>\n",
       "</div>"
      ],
      "text/plain": [
       "Empty DataFrame\n",
       "Columns: [Url, status]\n",
       "Index: []"
      ]
     },
     "execution_count": 4,
     "metadata": {},
     "output_type": "execute_result"
    }
   ],
   "source": [
    "df = pd.DataFrame(columns=['Url',\n",
    "                           'status'])\n",
    "\n",
    "df"
   ]
  },
  {
   "cell_type": "code",
   "execution_count": 5,
   "id": "fed130da",
   "metadata": {},
   "outputs": [],
   "source": [
    "from selenium.webdriver import ChromeOptions\n",
    "import random"
   ]
  },
  {
   "cell_type": "code",
   "execution_count": 6,
   "id": "aedb01fc",
   "metadata": {},
   "outputs": [],
   "source": [
    "option = ChromeOptions()\n",
    "option.add_experimental_option('useAutomationExtension', False)\n",
    "# option.add_argument('blink-settings=imagesEnabled=false')\n",
    "option.add_argument('--disable-blink-features=AutomationControlled')\n",
    "option.add_argument('--disable-dev-shm-usage')\n",
    "option.add_argument('--disable-gpu')\n",
    "option.add_experimental_option('excludeSwitches', ['enable-automation'])\n",
    "# option.add_argument('--headless')\n",
    "option.add_argument('--no-sandbox')\n",
    "# option.add_argument('--proxy-server=http://u431.kdltps.com:15818')\n",
    "option.add_argument('user-agent=' + random.choice(list_user_agent))\n",
    "option.page_load_strategy = 'eager'"
   ]
  },
  {
   "cell_type": "code",
   "execution_count": 7,
   "id": "da33bd2e",
   "metadata": {},
   "outputs": [],
   "source": [
    "from chaojiying import Chaojiying_Client\n",
    "import requests"
   ]
  },
  {
   "cell_type": "code",
   "execution_count": 8,
   "id": "4ac5eb48",
   "metadata": {},
   "outputs": [],
   "source": [
    "chaojiying = Chaojiying_Client('1210882202', 'iPadmini6!', '945934')"
   ]
  },
  {
   "cell_type": "code",
   "execution_count": 9,
   "id": "4951c85b",
   "metadata": {},
   "outputs": [],
   "source": [
    "from selenium.webdriver import Chrome\n",
    "from selenium.webdriver.chrome.service import Service"
   ]
  },
  {
   "cell_type": "code",
   "execution_count": 10,
   "id": "9946e842",
   "metadata": {},
   "outputs": [],
   "source": [
    "browser = Chrome(service=Service('../../../chromedriver'), options=option)\n",
    "\n",
    "browser.maximize_window()"
   ]
  },
  {
   "cell_type": "code",
   "execution_count": 11,
   "id": "7c7ceb25",
   "metadata": {},
   "outputs": [],
   "source": [
    "import time"
   ]
  },
  {
   "cell_type": "code",
   "execution_count": 12,
   "id": "e093a036",
   "metadata": {},
   "outputs": [],
   "source": [
    "i = 0\n",
    "\n",
    "if '?' in list_url[i]:\n",
    "    browser.get(list_url[i] + '&language=en_US')\n",
    "else:\n",
    "    browser.get(list_url[i] + '?language=en_US')\n",
    "    \n",
    "time.sleep(5)"
   ]
  },
  {
   "cell_type": "code",
   "execution_count": 13,
   "id": "8a46a463",
   "metadata": {},
   "outputs": [],
   "source": [
    "from selenium.webdriver.support import expected_conditions as EC\n",
    "from selenium.webdriver.support.wait import WebDriverWait\n",
    "from selenium.webdriver.common.by import By"
   ]
  },
  {
   "cell_type": "code",
   "execution_count": 14,
   "id": "19a714d2",
   "metadata": {},
   "outputs": [],
   "source": [
    "wait = WebDriverWait(browser, 60)\n",
    "while len(browser.find_elements(by=By.XPATH, value='//form[@action=\"/errors/validateCaptcha\"]')) != 0:\n",
    "    wait.until(EC.presence_of_element_located((By.XPATH, '//div[@class=\"a-row a-text-center\"]/img')))\n",
    "    img = requests.get(browser.find_element(by=By.XPATH, value='//div[@class=\"a-row a-text-center\"]/img').get_attribute('src')).content\n",
    "    pic_str = chaojiying.PostPic(img, 3006)['pic_str']\n",
    "    wait.until(EC.presence_of_element_located((By.XPATH, '//input[@id=\"captchacharacters\"]')))\n",
    "    browser.find_element(by=By.XPATH, value='//input[@id=\"captchacharacters\"]').clear()\n",
    "    time.sleep(3)\n",
    "    browser.find_element(by=By.XPATH, value='//input[@id=\"captchacharacters\"]').send_keys(pic_str)\n",
    "    time.sleep(5)\n",
    "    browser.find_element(by=By.XPATH, value='//button[@type=\"submit\"]').click()\n",
    "    time.sleep(15)"
   ]
  },
  {
   "cell_type": "code",
   "execution_count": 15,
   "id": "57b19e6a",
   "metadata": {},
   "outputs": [],
   "source": [
    "if browser.find_element(by=By.XPATH, value='//html').get_attribute('lang') == 'en-us':\n",
    "    time.sleep(3)\n",
    "else:\n",
    "    print(browser.find_element(by=By.XPATH, value='//html').get_attribute('lang'))"
   ]
  },
  {
   "cell_type": "code",
   "execution_count": 16,
   "id": "5d8f0ab7",
   "metadata": {},
   "outputs": [
    {
     "data": {
      "text/html": [
       "<div>\n",
       "<style scoped>\n",
       "    .dataframe tbody tr th:only-of-type {\n",
       "        vertical-align: middle;\n",
       "    }\n",
       "\n",
       "    .dataframe tbody tr th {\n",
       "        vertical-align: top;\n",
       "    }\n",
       "\n",
       "    .dataframe thead th {\n",
       "        text-align: right;\n",
       "    }\n",
       "</style>\n",
       "<table border=\"1\" class=\"dataframe\">\n",
       "  <thead>\n",
       "    <tr style=\"text-align: right;\">\n",
       "      <th></th>\n",
       "      <th>Url</th>\n",
       "      <th>status</th>\n",
       "    </tr>\n",
       "  </thead>\n",
       "  <tbody>\n",
       "    <tr>\n",
       "      <th>0</th>\n",
       "      <td>https://www.amazon.com/25790869-Electric-Radia...</td>\n",
       "      <td>ok</td>\n",
       "    </tr>\n",
       "  </tbody>\n",
       "</table>\n",
       "</div>"
      ],
      "text/plain": [
       "                                                 Url status\n",
       "0  https://www.amazon.com/25790869-Electric-Radia...     ok"
      ]
     },
     "execution_count": 16,
     "metadata": {},
     "output_type": "execute_result"
    }
   ],
   "source": [
    "df_temp = pd.DataFrame([{'Url': list_url[i],\n",
    "                         'status': 'ok'}])\n",
    "\n",
    "df_temp"
   ]
  },
  {
   "cell_type": "code",
   "execution_count": 17,
   "id": "cf65b1b6",
   "metadata": {},
   "outputs": [
    {
     "data": {
      "text/html": [
       "<div>\n",
       "<style scoped>\n",
       "    .dataframe tbody tr th:only-of-type {\n",
       "        vertical-align: middle;\n",
       "    }\n",
       "\n",
       "    .dataframe tbody tr th {\n",
       "        vertical-align: top;\n",
       "    }\n",
       "\n",
       "    .dataframe thead th {\n",
       "        text-align: right;\n",
       "    }\n",
       "</style>\n",
       "<table border=\"1\" class=\"dataframe\">\n",
       "  <thead>\n",
       "    <tr style=\"text-align: right;\">\n",
       "      <th></th>\n",
       "      <th>Url</th>\n",
       "      <th>status</th>\n",
       "      <th>info</th>\n",
       "    </tr>\n",
       "  </thead>\n",
       "  <tbody>\n",
       "    <tr>\n",
       "      <th>0</th>\n",
       "      <td>https://www.amazon.com/25790869-Electric-Radia...</td>\n",
       "      <td>ok</td>\n",
       "      <td>Fitment: All Year X3's\\nCFM: 225\\nCooler belt ...</td>\n",
       "    </tr>\n",
       "  </tbody>\n",
       "</table>\n",
       "</div>"
      ],
      "text/plain": [
       "                                                 Url status  \\\n",
       "0  https://www.amazon.com/25790869-Electric-Radia...     ok   \n",
       "\n",
       "                                                info  \n",
       "0  Fitment: All Year X3's\\nCFM: 225\\nCooler belt ...  "
      ]
     },
     "execution_count": 17,
     "metadata": {},
     "output_type": "execute_result"
    }
   ],
   "source": [
    "wait.until(EC.presence_of_element_located((By.XPATH, '//ul[@class=\"a-unordered-list a-vertical a-spacing-mini\"]')))\n",
    "df_temp['info'] = browser.find_element(by=By.XPATH, value='//ul[@class=\"a-unordered-list a-vertical a-spacing-mini\"]').text\n",
    "\n",
    "df_temp"
   ]
  },
  {
   "cell_type": "code",
   "execution_count": 18,
   "id": "aee44949",
   "metadata": {},
   "outputs": [
    {
     "data": {
      "text/html": [
       "<div>\n",
       "<style scoped>\n",
       "    .dataframe tbody tr th:only-of-type {\n",
       "        vertical-align: middle;\n",
       "    }\n",
       "\n",
       "    .dataframe tbody tr th {\n",
       "        vertical-align: top;\n",
       "    }\n",
       "\n",
       "    .dataframe thead th {\n",
       "        text-align: right;\n",
       "    }\n",
       "</style>\n",
       "<table border=\"1\" class=\"dataframe\">\n",
       "  <thead>\n",
       "    <tr style=\"text-align: right;\">\n",
       "      <th></th>\n",
       "      <th>Url</th>\n",
       "      <th>status</th>\n",
       "      <th>info</th>\n",
       "      <th>src</th>\n",
       "    </tr>\n",
       "  </thead>\n",
       "  <tbody>\n",
       "    <tr>\n",
       "      <th>0</th>\n",
       "      <td>https://www.amazon.com/25790869-Electric-Radia...</td>\n",
       "      <td>ok</td>\n",
       "      <td>Fitment: All Year X3's\\nCFM: 225\\nCooler belt ...</td>\n",
       "      <td>https://m.media-amazon.com/images/I/81xgTMZMUz...</td>\n",
       "    </tr>\n",
       "  </tbody>\n",
       "</table>\n",
       "</div>"
      ],
      "text/plain": [
       "                                                 Url status  \\\n",
       "0  https://www.amazon.com/25790869-Electric-Radia...     ok   \n",
       "\n",
       "                                                info  \\\n",
       "0  Fitment: All Year X3's\\nCFM: 225\\nCooler belt ...   \n",
       "\n",
       "                                                 src  \n",
       "0  https://m.media-amazon.com/images/I/81xgTMZMUz...  "
      ]
     },
     "execution_count": 18,
     "metadata": {},
     "output_type": "execute_result"
    }
   ],
   "source": [
    "wait.until(EC.presence_of_element_located((By.XPATH, '//div[@id=\"imgTagWrapperId\"]/img')))\n",
    "df_temp['src'] = browser.find_element(by=By.XPATH, value='//div[@id=\"imgTagWrapperId\"]/img').get_attribute('src')\n",
    "\n",
    "df_temp"
   ]
  },
  {
   "cell_type": "code",
   "execution_count": 19,
   "id": "536b30ad",
   "metadata": {},
   "outputs": [
    {
     "ename": "TimeoutException",
     "evalue": "Message: \nStacktrace:\n0   chromedriver                        0x000000010f4e1598 chromedriver + 4973976\n1   chromedriver                        0x000000010f4d8913 chromedriver + 4938003\n2   chromedriver                        0x000000010f095cd6 chromedriver + 470230\n3   chromedriver                        0x000000010f0d92ff chromedriver + 746239\n4   chromedriver                        0x000000010f0d9591 chromedriver + 746897\n5   chromedriver                        0x000000010f11b384 chromedriver + 1016708\n6   chromedriver                        0x000000010f0fd9ed chromedriver + 895469\n7   chromedriver                        0x000000010f118856 chromedriver + 1005654\n8   chromedriver                        0x000000010f0fd793 chromedriver + 894867\n9   chromedriver                        0x000000010f0cb21f chromedriver + 688671\n10  chromedriver                        0x000000010f0cc56e chromedriver + 693614\n11  chromedriver                        0x000000010f49bbb7 chromedriver + 4688823\n12  chromedriver                        0x000000010f4a0a51 chromedriver + 4708945\n13  chromedriver                        0x000000010f4a740f chromedriver + 4736015\n14  chromedriver                        0x000000010f4a191a chromedriver + 4712730\n15  chromedriver                        0x000000010f47487c chromedriver + 4528252\n16  chromedriver                        0x000000010f4c0f28 chromedriver + 4841256\n17  chromedriver                        0x000000010f4c10a7 chromedriver + 4841639\n18  chromedriver                        0x000000010f4d228f chromedriver + 4911759\n19  libsystem_pthread.dylib             0x00007ff8121f61d3 _pthread_start + 125\n20  libsystem_pthread.dylib             0x00007ff8121f1bd3 thread_start + 15\n",
     "output_type": "error",
     "traceback": [
      "\u001b[0;31m---------------------------------------------------------------------------\u001b[0m",
      "\u001b[0;31mTimeoutException\u001b[0m                          Traceback (most recent call last)",
      "Cell \u001b[0;32mIn[19], line 1\u001b[0m\n\u001b[0;32m----> 1\u001b[0m \u001b[43mwait\u001b[49m\u001b[38;5;241;43m.\u001b[39;49m\u001b[43muntil\u001b[49m\u001b[43m(\u001b[49m\u001b[43mEC\u001b[49m\u001b[38;5;241;43m.\u001b[39;49m\u001b[43mpresence_of_element_located\u001b[49m\u001b[43m(\u001b[49m\u001b[43m(\u001b[49m\u001b[43mBy\u001b[49m\u001b[38;5;241;43m.\u001b[39;49m\u001b[43mXPATH\u001b[49m\u001b[43m,\u001b[49m\u001b[43m \u001b[49m\u001b[38;5;124;43m'\u001b[39;49m\u001b[38;5;124;43m//table[@id=\u001b[39;49m\u001b[38;5;124;43m\"\u001b[39;49m\u001b[38;5;124;43mproductDetails_techSpec_section_1\u001b[39;49m\u001b[38;5;124;43m\"\u001b[39;49m\u001b[38;5;124;43m]/descendant::th\u001b[39;49m\u001b[38;5;124;43m'\u001b[39;49m\u001b[43m)\u001b[49m\u001b[43m)\u001b[49m\u001b[43m)\u001b[49m\n\u001b[1;32m      2\u001b[0m list_name \u001b[38;5;241m=\u001b[39m [name\u001b[38;5;241m.\u001b[39mtext \u001b[38;5;28;01mfor\u001b[39;00m name \u001b[38;5;129;01min\u001b[39;00m browser\u001b[38;5;241m.\u001b[39mfind_elements(by\u001b[38;5;241m=\u001b[39mBy\u001b[38;5;241m.\u001b[39mXPATH, value\u001b[38;5;241m=\u001b[39m\u001b[38;5;124m'\u001b[39m\u001b[38;5;124m//table[@id=\u001b[39m\u001b[38;5;124m\"\u001b[39m\u001b[38;5;124mproductDetails_techSpec_section_1\u001b[39m\u001b[38;5;124m\"\u001b[39m\u001b[38;5;124m]/descendant::th\u001b[39m\u001b[38;5;124m'\u001b[39m)]\n\u001b[1;32m      3\u001b[0m list_value \u001b[38;5;241m=\u001b[39m [value\u001b[38;5;241m.\u001b[39mtext \u001b[38;5;28;01mfor\u001b[39;00m value \u001b[38;5;129;01min\u001b[39;00m browser\u001b[38;5;241m.\u001b[39mfind_elements(by\u001b[38;5;241m=\u001b[39mBy\u001b[38;5;241m.\u001b[39mXPATH, value\u001b[38;5;241m=\u001b[39m\u001b[38;5;124m'\u001b[39m\u001b[38;5;124m//table[@id=\u001b[39m\u001b[38;5;124m\"\u001b[39m\u001b[38;5;124mproductDetails_techSpec_section_1\u001b[39m\u001b[38;5;124m\"\u001b[39m\u001b[38;5;124m]/descendant::td\u001b[39m\u001b[38;5;124m'\u001b[39m)]\n",
      "File \u001b[0;32m~/Desktop/YangTeng/code/venv/lib/python3.11/site-packages/selenium/webdriver/support/wait.py:95\u001b[0m, in \u001b[0;36mWebDriverWait.until\u001b[0;34m(self, method, message)\u001b[0m\n\u001b[1;32m     93\u001b[0m     \u001b[38;5;28;01mif\u001b[39;00m time\u001b[38;5;241m.\u001b[39mmonotonic() \u001b[38;5;241m>\u001b[39m end_time:\n\u001b[1;32m     94\u001b[0m         \u001b[38;5;28;01mbreak\u001b[39;00m\n\u001b[0;32m---> 95\u001b[0m \u001b[38;5;28;01mraise\u001b[39;00m TimeoutException(message, screen, stacktrace)\n",
      "\u001b[0;31mTimeoutException\u001b[0m: Message: \nStacktrace:\n0   chromedriver                        0x000000010f4e1598 chromedriver + 4973976\n1   chromedriver                        0x000000010f4d8913 chromedriver + 4938003\n2   chromedriver                        0x000000010f095cd6 chromedriver + 470230\n3   chromedriver                        0x000000010f0d92ff chromedriver + 746239\n4   chromedriver                        0x000000010f0d9591 chromedriver + 746897\n5   chromedriver                        0x000000010f11b384 chromedriver + 1016708\n6   chromedriver                        0x000000010f0fd9ed chromedriver + 895469\n7   chromedriver                        0x000000010f118856 chromedriver + 1005654\n8   chromedriver                        0x000000010f0fd793 chromedriver + 894867\n9   chromedriver                        0x000000010f0cb21f chromedriver + 688671\n10  chromedriver                        0x000000010f0cc56e chromedriver + 693614\n11  chromedriver                        0x000000010f49bbb7 chromedriver + 4688823\n12  chromedriver                        0x000000010f4a0a51 chromedriver + 4708945\n13  chromedriver                        0x000000010f4a740f chromedriver + 4736015\n14  chromedriver                        0x000000010f4a191a chromedriver + 4712730\n15  chromedriver                        0x000000010f47487c chromedriver + 4528252\n16  chromedriver                        0x000000010f4c0f28 chromedriver + 4841256\n17  chromedriver                        0x000000010f4c10a7 chromedriver + 4841639\n18  chromedriver                        0x000000010f4d228f chromedriver + 4911759\n19  libsystem_pthread.dylib             0x00007ff8121f61d3 _pthread_start + 125\n20  libsystem_pthread.dylib             0x00007ff8121f1bd3 thread_start + 15\n"
     ]
    }
   ],
   "source": [
    "wait.until(EC.presence_of_element_located((By.XPATH, '//table[@id=\"productDetails_techSpec_section_1\"]/descendant::th')))\n",
    "list_name = [name.text for name in browser.find_elements(by=By.XPATH, value='//table[@id=\"productDetails_techSpec_section_1\"]/descendant::th')]\n",
    "list_value = [value.text for value in browser.find_elements(by=By.XPATH, value='//table[@id=\"productDetails_techSpec_section_1\"]/descendant::td')]\n",
    "\n",
    "for name, value in zip(list_name, list_value):\n",
    "    df_temp[name.lower()] = value\n",
    "    \n",
    "df_temp"
   ]
  },
  {
   "cell_type": "code",
   "execution_count": null,
   "id": "7467b952",
   "metadata": {},
   "outputs": [],
   "source": [
    "list_name = [name.text for name in browser.find_elements(by=By.XPATH, value='//table[@id=\"productDetails_detailBullets_sections1\"]/descendant::th')]\n",
    "list_value = [value.text for value in browser.find_elements(by=By.XPATH, value='//table[@id=\"productDetails_detailBullets_sections1\"]/descendant::td')]\n",
    "\n",
    "for name, value in zip(list_name, list_value):\n",
    "    df_temp[name.lower()] = value.replace('\\n', '')\n",
    "    \n",
    "df = pd.concat([df, df_temp], ignore_index=True).fillna('')\n",
    "\n",
    "df"
   ]
  },
  {
   "cell_type": "code",
   "execution_count": null,
   "id": "9b5ad82b",
   "metadata": {},
   "outputs": [],
   "source": []
  }
 ],
 "metadata": {
  "kernelspec": {
   "display_name": "Python 3 (ipykernel)",
   "language": "python",
   "name": "python3"
  },
  "language_info": {
   "codemirror_mode": {
    "name": "ipython",
    "version": 3
   },
   "file_extension": ".py",
   "mimetype": "text/x-python",
   "name": "python",
   "nbconvert_exporter": "python",
   "pygments_lexer": "ipython3",
   "version": "3.11.3"
  }
 },
 "nbformat": 4,
 "nbformat_minor": 5
}
