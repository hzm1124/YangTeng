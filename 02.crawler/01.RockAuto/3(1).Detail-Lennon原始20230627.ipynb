{
 "cells": [
  {
   "cell_type": "code",
   "execution_count": null,
   "id": "d567dc77",
   "metadata": {},
   "outputs": [],
   "source": [
    "list_user_agent = ['Mozilla/5.0 (Macintosh; Intel Mac OS X 10_15_7) AppleWebKit/537.36 (KHTML, like Gecko) Chrome/114.0.5735.90 Safari/537.36',\n",
    "                   'Mozilla/5.0 (Macintosh; Intel Mac OS X 10_15_7) AppleWebKit/537.36 (KHTML, like Gecko) Chrome/114.0.5735.16 Safari/537.36',\n",
    "                   'Mozilla/5.0 (Macintosh; Intel Mac OS X 10_15_7) AppleWebKit/537.36 (KHTML, like Gecko) Chrome/113.0.5672.63 Safari/537.36',\n",
    "                   'Mozilla/5.0 (Macintosh; Intel Mac OS X 10_15_7) AppleWebKit/537.36 (KHTML, like Gecko) Chrome/113.0.5672.24 Safari/537.36',\n",
    "                   'Mozilla/5.0 (Macintosh; Intel Mac OS X 10_15_7) AppleWebKit/537.36 (KHTML, like Gecko) Chrome/112.0.5615.49 Safari/537.36',\n",
    "                   'Mozilla/5.0 (Macintosh; Intel Mac OS X 10_15_7) AppleWebKit/537.36 (KHTML, like Gecko) Chrome/112.0.5615.28 Safari/537.36',\n",
    "                   'Mozilla/5.0 (Macintosh; Intel Mac OS X 10_15_7) AppleWebKit/537.36 (KHTML, like Gecko) Chrome/111.0.5563.64 Safari/537.36',\n",
    "                   'Mozilla/5.0 (Macintosh; Intel Mac OS X 10_15_7) AppleWebKit/537.36 (KHTML, like Gecko) Chrome/111.0.5563.41 Safari/537.36',\n",
    "                   'Mozilla/5.0 (Macintosh; Intel Mac OS X 10_15_7) AppleWebKit/537.36 (KHTML, like Gecko) Chrome/111.0.5563.19 Safari/537.36',\n",
    "                   'Mozilla/5.0 (Macintosh; Intel Mac OS X 10_15_7) AppleWebKit/537.36 (KHTML, like Gecko) Chrome/110.0.5481.77 Safari/537.36',\n",
    "                   'Mozilla/5.0 (Macintosh; Intel Mac OS X 10_15_7) AppleWebKit/537.36 (KHTML, like Gecko) Chrome/110.0.5481.30 Safari/537.36',\n",
    "                   'Mozilla/5.0 (Macintosh; Intel Mac OS X 10_15_7) AppleWebKit/537.36 (KHTML, like Gecko) Chrome/109.0.5414.74 Safari/537.36',\n",
    "                   'Mozilla/5.0 (Macintosh; Intel Mac OS X 10_15_7) AppleWebKit/537.36 (KHTML, like Gecko) Chrome/109.0.5414.25 Safari/537.36',\n",
    "                   'Mozilla/5.0 (Macintosh; Intel Mac OS X 10_15_7) AppleWebKit/537.36 (KHTML, like Gecko) Chrome/108.0.5359.71 Safari/537.36',\n",
    "                   'Mozilla/5.0 (Macintosh; Intel Mac OS X 10_15_7) AppleWebKit/537.36 (KHTML, like Gecko) Chrome/108.0.5359.22 Safari/537.36',\n",
    "                   'Mozilla/5.0 (Macintosh; Intel Mac OS X 10_15_7) AppleWebKit/537.36 (KHTML, like Gecko) Chrome/107.0.5304.62 Safari/537.36',\n",
    "                   'Mozilla/5.0 (Macintosh; Intel Mac OS X 10_15_7) AppleWebKit/537.36 (KHTML, like Gecko) Chrome/107.0.5304.18 Safari/537.36',\n",
    "                   'Mozilla/5.0 (Macintosh; Intel Mac OS X 10_15_7) AppleWebKit/537.36 (KHTML, like Gecko) Chrome/106.0.5249.61 Safari/537.36',\n",
    "                   'Mozilla/5.0 (Macintosh; Intel Mac OS X 10_15_7) AppleWebKit/537.36 (KHTML, like Gecko) Chrome/106.0.5249.21 Safari/537.36',\n",
    "                   'Mozilla/5.0 (Macintosh; Intel Mac OS X 10_15_7) AppleWebKit/537.36 (KHTML, like Gecko) Chrome/105.0.5195.52 Safari/537.36',\n",
    "                   'Mozilla/5.0 (Macintosh; Intel Mac OS X 10_15_7) AppleWebKit/537.36 (KHTML, like Gecko) Chrome/105.0.5195.19 Safari/537.36',\n",
    "                   'Mozilla/5.0 (Macintosh; Intel Mac OS X 10_15_7) AppleWebKit/537.36 (KHTML, like Gecko) Chrome/104.0.5112.79 Safari/537.36',\n",
    "                   'Mozilla/5.0 (Macintosh; Intel Mac OS X 10_15_7) AppleWebKit/537.36 (KHTML, like Gecko) Chrome/104.0.5112.29 Safari/537.36',\n",
    "                   'Mozilla/5.0 (Macintosh; Intel Mac OS X 10_15_7) AppleWebKit/537.36 (KHTML, like Gecko) Chrome/104.0.5112.20 Safari/537.36',\n",
    "                   'Mozilla/5.0 (Macintosh; Intel Mac OS X 10_15_7) AppleWebKit/537.36 (KHTML, like Gecko) Chrome/103.0.5060.53 Safari/537.36',\n",
    "                   'Mozilla/5.0 (Macintosh; Intel Mac OS X 10_15_7) AppleWebKit/537.36 (KHTML, like Gecko) Chrome/103.0.5060.24 Safari/537.36',\n",
    "                   'Mozilla/5.0 (Macintosh; Intel Mac OS X 10_15_7) AppleWebKit/537.36 (KHTML, like Gecko) Chrome/103.0.5060.134 Safari/537.36',\n",
    "                   'Mozilla/5.0 (Macintosh; Intel Mac OS X 10_15_7) AppleWebKit/537.36 (KHTML, like Gecko) Chrome/102.0.5005.61 Safari/537.36',\n",
    "                   'Mozilla/5.0 (Macintosh; Intel Mac OS X 10_15_7) AppleWebKit/537.36 (KHTML, like Gecko) Chrome/102.0.5005.27 Safari/537.36',\n",
    "                   'Mozilla/5.0 (Macintosh; Intel Mac OS X 10_15_7) AppleWebKit/537.36 (KHTML, like Gecko) Chrome/101.0.4951.41 Safari/537.36',\n",
    "                   'Mozilla/5.0 (Macintosh; Intel Mac OS X 10_15_7) AppleWebKit/537.36 (KHTML, like Gecko) Chrome/101.0.4951.15 Safari/537.36',\n",
    "                   'Mozilla/5.0 (Macintosh; Intel Mac OS X 10_15_7) AppleWebKit/537.36 (KHTML, like Gecko) Chrome/100.0.4896.60 Safari/537.36',\n",
    "                   'Mozilla/5.0 (Macintosh; Intel Mac OS X 10_15_7) AppleWebKit/537.36 (KHTML, like Gecko) Chrome/100.0.4896.20 Safari/537.36']"
   ]
  },
  {
   "cell_type": "code",
   "execution_count": 1,
   "id": "75615279",
   "metadata": {},
   "outputs": [],
   "source": [
    "import pandas as pd"
   ]
  },
  {
   "cell_type": "code",
   "execution_count": 2,
   "id": "95822d56",
   "metadata": {
    "scrolled": true
   },
   "outputs": [
    {
     "name": "stdout",
     "output_type": "stream",
     "text": [
      "总数量：100\n"
     ]
    },
    {
     "data": {
      "text/plain": [
       "['https://www.rockauto.com/en/moreinfo.php?pk=284149',\n",
       " 'https://www.rockauto.com/en/moreinfo.php?pk=570067',\n",
       " 'https://www.rockauto.com/en/moreinfo.php?pk=284096',\n",
       " 'https://www.rockauto.com/en/moreinfo.php?pk=284132',\n",
       " 'https://www.rockauto.com/en/moreinfo.php?pk=284130',\n",
       " 'https://www.rockauto.com/en/moreinfo.php?pk=284150',\n",
       " 'https://www.rockauto.com/en/moreinfo.php?pk=570063',\n",
       " 'https://www.rockauto.com/en/moreinfo.php?pk=284123',\n",
       " 'https://www.rockauto.com/en/moreinfo.php?pk=284139',\n",
       " 'https://www.rockauto.com/en/moreinfo.php?pk=4212522',\n",
       " 'https://www.rockauto.com/en/moreinfo.php?pk=4212564',\n",
       " 'https://www.rockauto.com/en/moreinfo.php?pk=284143',\n",
       " 'https://www.rockauto.com/en/moreinfo.php?pk=4212375',\n",
       " 'https://www.rockauto.com/en/moreinfo.php?pk=500560',\n",
       " 'https://www.rockauto.com/en/moreinfo.php?pk=284142',\n",
       " 'https://www.rockauto.com/en/moreinfo.php?pk=4212606',\n",
       " 'https://www.rockauto.com/en/moreinfo.php?pk=500264',\n",
       " 'https://www.rockauto.com/en/moreinfo.php?pk=4212495',\n",
       " 'https://www.rockauto.com/en/moreinfo.php?pk=4212423',\n",
       " 'https://www.rockauto.com/en/moreinfo.php?pk=4212582',\n",
       " 'https://www.rockauto.com/en/moreinfo.php?pk=4212573',\n",
       " 'https://www.rockauto.com/en/moreinfo.php?pk=500447',\n",
       " 'https://www.rockauto.com/en/moreinfo.php?pk=4212432',\n",
       " 'https://www.rockauto.com/en/moreinfo.php?pk=500462',\n",
       " 'https://www.rockauto.com/en/moreinfo.php?pk=4212381',\n",
       " 'https://www.rockauto.com/en/moreinfo.php?pk=500473',\n",
       " 'https://www.rockauto.com/en/moreinfo.php?pk=4212378',\n",
       " 'https://www.rockauto.com/en/moreinfo.php?pk=500458',\n",
       " 'https://www.rockauto.com/en/moreinfo.php?pk=976480',\n",
       " 'https://www.rockauto.com/en/moreinfo.php?pk=4212570',\n",
       " 'https://www.rockauto.com/en/moreinfo.php?pk=4212642',\n",
       " 'https://www.rockauto.com/en/moreinfo.php?pk=284135',\n",
       " 'https://www.rockauto.com/en/moreinfo.php?pk=4212537',\n",
       " 'https://www.rockauto.com/en/moreinfo.php?pk=4212546',\n",
       " 'https://www.rockauto.com/en/moreinfo.php?pk=4925412',\n",
       " 'https://www.rockauto.com/en/moreinfo.php?pk=4212516',\n",
       " 'https://www.rockauto.com/en/moreinfo.php?pk=284124',\n",
       " 'https://www.rockauto.com/en/moreinfo.php?pk=4212417',\n",
       " 'https://www.rockauto.com/en/moreinfo.php?pk=4212612',\n",
       " 'https://www.rockauto.com/en/moreinfo.php?pk=4212468',\n",
       " 'https://www.rockauto.com/en/moreinfo.php?pk=4212471',\n",
       " 'https://www.rockauto.com/en/moreinfo.php?pk=4212552',\n",
       " 'https://www.rockauto.com/en/moreinfo.php?pk=4212600',\n",
       " 'https://www.rockauto.com/en/moreinfo.php?pk=4212513',\n",
       " 'https://www.rockauto.com/en/moreinfo.php?pk=4212399',\n",
       " 'https://www.rockauto.com/en/moreinfo.php?pk=500617',\n",
       " 'https://www.rockauto.com/en/moreinfo.php?pk=4212474',\n",
       " 'https://www.rockauto.com/en/moreinfo.php?pk=4212657',\n",
       " 'https://www.rockauto.com/en/moreinfo.php?pk=6127686',\n",
       " 'https://www.rockauto.com/en/moreinfo.php?pk=4212531',\n",
       " 'https://www.rockauto.com/en/moreinfo.php?pk=5402820',\n",
       " 'https://www.rockauto.com/en/moreinfo.php?pk=4212435',\n",
       " 'https://www.rockauto.com/en/moreinfo.php?pk=5402817',\n",
       " 'https://www.rockauto.com/en/moreinfo.php?pk=5402823',\n",
       " 'https://www.rockauto.com/en/moreinfo.php?pk=4212480',\n",
       " 'https://www.rockauto.com/en/moreinfo.php?pk=5402838',\n",
       " 'https://www.rockauto.com/en/moreinfo.php?pk=4212588',\n",
       " 'https://www.rockauto.com/en/moreinfo.php?pk=5402829',\n",
       " 'https://www.rockauto.com/en/moreinfo.php?pk=4212561',\n",
       " 'https://www.rockauto.com/en/moreinfo.php?pk=4212507',\n",
       " 'https://www.rockauto.com/en/moreinfo.php?pk=10706516',\n",
       " 'https://www.rockauto.com/en/moreinfo.php?pk=8355408',\n",
       " nan,\n",
       " 'https://www.rockauto.com/en/moreinfo.php?pk=11179697',\n",
       " 'https://www.rockauto.com/en/moreinfo.php?pk=14802609',\n",
       " 'https://www.rockauto.com/en/moreinfo.php?pk=5402841',\n",
       " 'https://www.rockauto.com/en/moreinfo.php?pk=10706512',\n",
       " 'https://www.rockauto.com/en/moreinfo.php?pk=5402835',\n",
       " 'https://www.rockauto.com/en/moreinfo.php?pk=12266365',\n",
       " 'https://www.rockauto.com/en/moreinfo.php?pk=11179701',\n",
       " 'https://www.rockauto.com/en/moreinfo.php?pk=4212372',\n",
       " 'https://www.rockauto.com/en/moreinfo.php?pk=9895748',\n",
       " 'https://www.rockauto.com/en/moreinfo.php?pk=7334472',\n",
       " 'https://www.rockauto.com/en/moreinfo.php?pk=4212618',\n",
       " 'https://www.rockauto.com/en/moreinfo.php?pk=4212519',\n",
       " 'https://www.rockauto.com/en/moreinfo.php?pk=4212597',\n",
       " 'https://www.rockauto.com/en/moreinfo.php?pk=14802605',\n",
       " 'https://www.rockauto.com/en/moreinfo.php?pk=4212591',\n",
       " 'https://www.rockauto.com/en/moreinfo.php?pk=4212444',\n",
       " 'https://www.rockauto.com/en/moreinfo.php?pk=11179709',\n",
       " 'https://www.rockauto.com/en/moreinfo.php?pk=4212492',\n",
       " 'https://www.rockauto.com/en/moreinfo.php?pk=4212420',\n",
       " 'https://www.rockauto.com/en/moreinfo.php?pk=528453',\n",
       " 'https://www.rockauto.com/en/moreinfo.php?pk=4212483',\n",
       " 'https://www.rockauto.com/en/moreinfo.php?pk=4212411',\n",
       " 'https://www.rockauto.com/en/moreinfo.php?pk=4212594',\n",
       " 'https://www.rockauto.com/en/moreinfo.php?pk=9895744',\n",
       " 'https://www.rockauto.com/en/moreinfo.php?pk=4212579',\n",
       " 'https://www.rockauto.com/en/moreinfo.php?pk=4212384',\n",
       " 'https://www.rockauto.com/en/moreinfo.php?pk=976379',\n",
       " 'https://www.rockauto.com/en/moreinfo.php?pk=8355452',\n",
       " 'https://www.rockauto.com/en/moreinfo.php?pk=976478',\n",
       " 'https://www.rockauto.com/en/moreinfo.php?pk=5402826',\n",
       " 'https://www.rockauto.com/en/moreinfo.php?pk=4212498',\n",
       " 'https://www.rockauto.com/en/moreinfo.php?pk=4212585',\n",
       " 'https://www.rockauto.com/en/moreinfo.php?pk=976416',\n",
       " 'https://www.rockauto.com/en/moreinfo.php?pk=11179749',\n",
       " 'https://www.rockauto.com/en/moreinfo.php?pk=1130056',\n",
       " 'https://www.rockauto.com/en/moreinfo.php?pk=284249',\n",
       " 'https://www.rockauto.com/en/moreinfo.php?pk=976405']"
      ]
     },
     "execution_count": 2,
     "metadata": {},
     "output_type": "execute_result"
    }
   ],
   "source": [
    "df_menu = pd.read_excel('./part.xlsx', header=0)\n",
    "list_info = df_menu['Info'].to_list()\n",
    "\n",
    "print('总数量：' + str(len(list_info)))\n",
    "list_info"
   ]
  },
  {
   "cell_type": "code",
   "execution_count": 3,
   "id": "ccc172ba",
   "metadata": {},
   "outputs": [
    {
     "data": {
      "text/html": [
       "<div>\n",
       "<style scoped>\n",
       "    .dataframe tbody tr th:only-of-type {\n",
       "        vertical-align: middle;\n",
       "    }\n",
       "\n",
       "    .dataframe tbody tr th {\n",
       "        vertical-align: top;\n",
       "    }\n",
       "\n",
       "    .dataframe thead th {\n",
       "        text-align: right;\n",
       "    }\n",
       "</style>\n",
       "<table border=\"1\" class=\"dataframe\">\n",
       "  <thead>\n",
       "    <tr style=\"text-align: right;\">\n",
       "      <th></th>\n",
       "      <th>Info</th>\n",
       "      <th>status</th>\n",
       "    </tr>\n",
       "  </thead>\n",
       "  <tbody>\n",
       "  </tbody>\n",
       "</table>\n",
       "</div>"
      ],
      "text/plain": [
       "Empty DataFrame\n",
       "Columns: [Info, status]\n",
       "Index: []"
      ]
     },
     "execution_count": 3,
     "metadata": {},
     "output_type": "execute_result"
    }
   ],
   "source": [
    "df = pd.DataFrame(columns=['Info',\n",
    "                           'status'])\n",
    "\n",
    "df"
   ]
  },
  {
   "cell_type": "code",
   "execution_count": 4,
   "id": "8d1ca69c",
   "metadata": {},
   "outputs": [],
   "source": [
    "from selenium.webdriver import ChromeOptions\n",
    "import random"
   ]
  },
  {
   "cell_type": "code",
   "execution_count": 5,
   "id": "fe4e6120",
   "metadata": {},
   "outputs": [],
   "source": [
    "option = ChromeOptions()\n",
    "option.add_experimental_option('useAutomationExtension', False)\n",
    "option.add_argument('blink-settings=imagesEnabled=false')\n",
    "option.add_argument('--disable-blink-features=AutomationControlled')\n",
    "option.add_argument('--disable-dev-shm-usage')\n",
    "option.add_argument('--disable-gpu')\n",
    "option.add_experimental_option('excludeSwitches', ['enable-automation'])\n",
    "# option.add_argument('--headless')\n",
    "option.add_argument('--no-sandbox')\n",
    "option.add_argument('--proxy-server=http://u431.kdltps.com:15818')\n",
    "option.add_argument('user-agent=' + random.choice(list_user_agent))\n",
    "option.page_load_strategy = 'eager'"
   ]
  },
  {
   "cell_type": "code",
   "execution_count": 6,
   "id": "615beeeb",
   "metadata": {},
   "outputs": [],
   "source": [
    "from selenium.webdriver import Chrome\n",
    "from selenium.webdriver.chrome.service import Service"
   ]
  },
  {
   "cell_type": "code",
   "execution_count": 7,
   "id": "018d81c1",
   "metadata": {},
   "outputs": [],
   "source": [
    "browser = Chrome(service=Service('../../../chromedriver'), options=option)\n",
    "\n",
    "browser.maximize_window()"
   ]
  },
  {
   "cell_type": "code",
   "execution_count": 8,
   "id": "fec71893",
   "metadata": {},
   "outputs": [],
   "source": [
    "import time"
   ]
  },
  {
   "cell_type": "code",
   "execution_count": 9,
   "id": "9e02fbb5",
   "metadata": {
    "scrolled": true
   },
   "outputs": [],
   "source": [
    "i = 0\n",
    "\n",
    "browser.get(list_info[i])\n",
    "\n",
    "time.sleep(5)"
   ]
  },
  {
   "cell_type": "code",
   "execution_count": 10,
   "id": "7cabed18",
   "metadata": {},
   "outputs": [],
   "source": [
    "from selenium.webdriver.common.by import By"
   ]
  },
  {
   "cell_type": "code",
   "execution_count": 11,
   "id": "7a66a149",
   "metadata": {},
   "outputs": [
    {
     "data": {
      "text/html": [
       "<div>\n",
       "<style scoped>\n",
       "    .dataframe tbody tr th:only-of-type {\n",
       "        vertical-align: middle;\n",
       "    }\n",
       "\n",
       "    .dataframe tbody tr th {\n",
       "        vertical-align: top;\n",
       "    }\n",
       "\n",
       "    .dataframe thead th {\n",
       "        text-align: right;\n",
       "    }\n",
       "</style>\n",
       "<table border=\"1\" class=\"dataframe\">\n",
       "  <thead>\n",
       "    <tr style=\"text-align: right;\">\n",
       "      <th></th>\n",
       "      <th>Info</th>\n",
       "      <th>status</th>\n",
       "      <th>color</th>\n",
       "      <th>housing material</th>\n",
       "      <th>package contents</th>\n",
       "      <th>package quantity</th>\n",
       "    </tr>\n",
       "  </thead>\n",
       "  <tbody>\n",
       "    <tr>\n",
       "      <th>0</th>\n",
       "      <td>https://www.rockauto.com/en/moreinfo.php?pk=28...</td>\n",
       "      <td>ok</td>\n",
       "      <td>Black</td>\n",
       "      <td>Plastic</td>\n",
       "      <td>Mass Air Flow Sensor</td>\n",
       "      <td>1</td>\n",
       "    </tr>\n",
       "  </tbody>\n",
       "</table>\n",
       "</div>"
      ],
      "text/plain": [
       "                                                Info status  color  \\\n",
       "0  https://www.rockauto.com/en/moreinfo.php?pk=28...     ok  Black   \n",
       "\n",
       "  housing material      package contents package quantity  \n",
       "0          Plastic  Mass Air Flow Sensor                1  "
      ]
     },
     "execution_count": 11,
     "metadata": {},
     "output_type": "execute_result"
    }
   ],
   "source": [
    "list_row = browser.find_elements(by=By.XPATH, value='//table[@class=\"moreinfotable\"]/descendant::tr')[1:]\n",
    "\n",
    "status = 'ok'\n",
    "df_temp = pd.DataFrame([{'Info': list_info[i],\n",
    "                         'status': 'ok'}])\n",
    "for row in list_row:\n",
    "    df_temp[row.find_elements(by=By.XPATH, value='./td')[0].text.lower()] = row.find_elements(by=By.XPATH, value='./td')[1].text\n",
    "\n",
    "browser.quit()\n",
    "    \n",
    "df = pd.concat([df, df_temp], ignore_index=True).fillna('')\n",
    "\n",
    "df"
   ]
  },
  {
   "cell_type": "code",
   "execution_count": null,
   "id": "ccf11974",
   "metadata": {},
   "outputs": [],
   "source": []
  }
 ],
 "metadata": {
  "kernelspec": {
   "display_name": "Python 3 (ipykernel)",
   "language": "python",
   "name": "python3"
  },
  "language_info": {
   "codemirror_mode": {
    "name": "ipython",
    "version": 3
   },
   "file_extension": ".py",
   "mimetype": "text/x-python",
   "name": "python",
   "nbconvert_exporter": "python",
   "pygments_lexer": "ipython3",
   "version": "3.11.3"
  }
 },
 "nbformat": 4,
 "nbformat_minor": 5
}
