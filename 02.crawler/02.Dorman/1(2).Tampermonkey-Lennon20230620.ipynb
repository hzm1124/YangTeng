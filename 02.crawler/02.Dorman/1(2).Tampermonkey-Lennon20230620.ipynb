{
 "cells": [
  {
   "cell_type": "code",
   "execution_count": 1,
   "id": "14ca4672",
   "metadata": {},
   "outputs": [],
   "source": [
    "import os"
   ]
  },
  {
   "cell_type": "code",
   "execution_count": 2,
   "id": "a3369d1a",
   "metadata": {},
   "outputs": [
    {
     "data": {
      "text/plain": [
       "5"
      ]
     },
     "execution_count": 2,
     "metadata": {},
     "output_type": "execute_result"
    }
   ],
   "source": [
    "list_file = list(os.walk('./menu'))[0][2]\n",
    "if '.DS_Store' in list_file:\n",
    "   list_file.remove('.DS_Store')\n",
    "\n",
    "len(list_file)"
   ]
  },
  {
   "cell_type": "code",
   "execution_count": 3,
   "id": "552c5c8c",
   "metadata": {},
   "outputs": [],
   "source": [
    "import pandas as pd"
   ]
  },
  {
   "cell_type": "code",
   "execution_count": 4,
   "id": "19a50da8",
   "metadata": {},
   "outputs": [
    {
     "data": {
      "text/html": [
       "<div>\n",
       "<style scoped>\n",
       "    .dataframe tbody tr th:only-of-type {\n",
       "        vertical-align: middle;\n",
       "    }\n",
       "\n",
       "    .dataframe tbody tr th {\n",
       "        vertical-align: top;\n",
       "    }\n",
       "\n",
       "    .dataframe thead th {\n",
       "        text-align: right;\n",
       "    }\n",
       "</style>\n",
       "<table border=\"1\" class=\"dataframe\">\n",
       "  <thead>\n",
       "    <tr style=\"text-align: right;\">\n",
       "      <th></th>\n",
       "      <th>Part_Number</th>\n",
       "      <th>Part_Type</th>\n",
       "      <th>Application_Summary</th>\n",
       "      <th>Url</th>\n",
       "    </tr>\n",
       "  </thead>\n",
       "  <tbody>\n",
       "  </tbody>\n",
       "</table>\n",
       "</div>"
      ],
      "text/plain": [
       "Empty DataFrame\n",
       "Columns: [Part_Number, Part_Type, Application_Summary, Url]\n",
       "Index: []"
      ]
     },
     "execution_count": 4,
     "metadata": {},
     "output_type": "execute_result"
    }
   ],
   "source": [
    "df = pd.DataFrame(columns=['Part_Number', 'Part_Type', 'Application_Summary', 'Url'])\n",
    "\n",
    "df"
   ]
  },
  {
   "cell_type": "code",
   "execution_count": 5,
   "id": "000d53d7",
   "metadata": {},
   "outputs": [],
   "source": [
    "import json"
   ]
  },
  {
   "cell_type": "code",
   "execution_count": 6,
   "id": "1d3df716",
   "metadata": {},
   "outputs": [
    {
     "name": "stdout",
     "output_type": "stream",
     "text": [
      "www.dormanproducts.com_gsearch.aspx_type=keyword&origin=keyword&q=Blend%2520Door%2520Actuator&start=400&num=100.txt\n",
      "www.dormanproducts.com_gsearch.aspx_type=keyword&origin=keyword&q=Blend%2520Door%2520Actuator&start=300&num=100.txt\n",
      "www.dormanproducts.com_gsearch.aspx_type=keyword&origin=keyword&q=Blend%2520Door%2520Actuator&start=0&num=100.txt\n",
      "www.dormanproducts.com_gsearch.aspx_type=keyword&origin=keyword&q=Blend%2520Door%2520Actuator&start=200&num=100.txt\n",
      "www.dormanproducts.com_gsearch.aspx_type=keyword&origin=keyword&q=Blend%2520Door%2520Actuator&start=100&num=100.txt\n"
     ]
    }
   ],
   "source": [
    "for file in list_file:\n",
    "    print(file)\n",
    "    with open('./menu/' + file) as f:\n",
    "        list_part = f.read()[1:-1].split('},{')\n",
    "        for i in range(len(list_part)):\n",
    "            if i == 0:\n",
    "                part = json.loads(list_part[i] + '}')\n",
    "            elif i == len(list_part) - 1:\n",
    "                part = json.loads('{' + list_part[i])\n",
    "            else:\n",
    "                part = json.loads('{' + list_part[i] + '}')\n",
    "                \n",
    "            df_temp = pd.DataFrame([{'Part_Number': part['Part_Number'],\n",
    "                                     'Part_Type': part['Part_Type'],\n",
    "                                     'Application_Summary': part['Application_Summary'],\n",
    "                                     'Url': part['Url']}])\n",
    "            df = pd.concat([df, df_temp], ignore_index=True)"
   ]
  },
  {
   "cell_type": "code",
   "execution_count": 7,
   "id": "e7c8e52b",
   "metadata": {},
   "outputs": [
    {
     "data": {
      "text/html": [
       "<div>\n",
       "<style scoped>\n",
       "    .dataframe tbody tr th:only-of-type {\n",
       "        vertical-align: middle;\n",
       "    }\n",
       "\n",
       "    .dataframe tbody tr th {\n",
       "        vertical-align: top;\n",
       "    }\n",
       "\n",
       "    .dataframe thead th {\n",
       "        text-align: right;\n",
       "    }\n",
       "</style>\n",
       "<table border=\"1\" class=\"dataframe\">\n",
       "  <thead>\n",
       "    <tr style=\"text-align: right;\">\n",
       "      <th></th>\n",
       "      <th>Part_Number</th>\n",
       "      <th>Part_Type</th>\n",
       "      <th>Application_Summary</th>\n",
       "      <th>Url</th>\n",
       "    </tr>\n",
       "  </thead>\n",
       "  <tbody>\n",
       "    <tr>\n",
       "      <th>0</th>\n",
       "      <td>604-234</td>\n",
       "      <td>Air Door Actuator - Temperature</td>\n",
       "      <td>Ford 2019-11, Lincoln 2019-11</td>\n",
       "      <td>https://www.dormanproducts.com/p-66349-604-234...</td>\n",
       "    </tr>\n",
       "    <tr>\n",
       "      <th>1</th>\n",
       "      <td>604-153</td>\n",
       "      <td>Air Door Actuator - Mode</td>\n",
       "      <td>Buick Terraza 2007-05, Chevrolet Uplander 2008...</td>\n",
       "      <td>https://www.dormanproducts.com/p-66122-604-153...</td>\n",
       "    </tr>\n",
       "    <tr>\n",
       "      <th>2</th>\n",
       "      <td>604-123</td>\n",
       "      <td>HVAC Air Door Actuator</td>\n",
       "      <td>Buick 1999-92, Cadillac 1993-92, Oldsmobile 19...</td>\n",
       "      <td>https://www.dormanproducts.com/p-47044-604-123...</td>\n",
       "    </tr>\n",
       "    <tr>\n",
       "      <th>3</th>\n",
       "      <td>604-116</td>\n",
       "      <td>HVAC Air Door Actuator</td>\n",
       "      <td>Cadillac 2000-99, Chevrolet 2002-95, GMC 2002-...</td>\n",
       "      <td>https://www.dormanproducts.com/p-43955-604-116...</td>\n",
       "    </tr>\n",
       "    <tr>\n",
       "      <th>4</th>\n",
       "      <td>604-164</td>\n",
       "      <td>Air Door Actuator - Temperature</td>\n",
       "      <td>Cadillac CTS 2007-05, Cadillac SRX 2009-05</td>\n",
       "      <td>https://www.dormanproducts.com/p-65278-604-164...</td>\n",
       "    </tr>\n",
       "    <tr>\n",
       "      <th>...</th>\n",
       "      <td>...</td>\n",
       "      <td>...</td>\n",
       "      <td>...</td>\n",
       "      <td>...</td>\n",
       "    </tr>\n",
       "    <tr>\n",
       "      <th>485</th>\n",
       "      <td>604-126</td>\n",
       "      <td>HVAC Air Door Actuator</td>\n",
       "      <td>Buick 2007-04, Chevrolet 2014-03, GMC 2014-03,...</td>\n",
       "      <td>https://www.dormanproducts.com/p-46575-604-126...</td>\n",
       "    </tr>\n",
       "    <tr>\n",
       "      <th>486</th>\n",
       "      <td>604-029</td>\n",
       "      <td>Air Door Actuator - Mode</td>\n",
       "      <td>Chrysler 2014-07, Dodge 2020-08, Jeep 2018-10,...</td>\n",
       "      <td>https://www.dormanproducts.com/p-66365-604-029...</td>\n",
       "    </tr>\n",
       "    <tr>\n",
       "      <th>487</th>\n",
       "      <td>604-112</td>\n",
       "      <td>HVAC Air Door Actuator</td>\n",
       "      <td>Cadillac 2014-03, Chevrolet 2014-03, GMC 2014-...</td>\n",
       "      <td>https://www.dormanproducts.com/p-35291-604-112...</td>\n",
       "    </tr>\n",
       "    <tr>\n",
       "      <th>488</th>\n",
       "      <td>604-058</td>\n",
       "      <td>Air Door Actuator - Mode</td>\n",
       "      <td>Dodge Durango 2017-14, Jeep Grand Cherokee 2018</td>\n",
       "      <td>https://www.dormanproducts.com/p-91959-604-058...</td>\n",
       "    </tr>\n",
       "    <tr>\n",
       "      <th>489</th>\n",
       "      <td>604-059</td>\n",
       "      <td>Air Door Actuator - Defroster</td>\n",
       "      <td>Dodge Durango 2018-14, Jeep Grand Cherokee 201...</td>\n",
       "      <td>https://www.dormanproducts.com/p-91947-604-059...</td>\n",
       "    </tr>\n",
       "  </tbody>\n",
       "</table>\n",
       "<p>490 rows × 4 columns</p>\n",
       "</div>"
      ],
      "text/plain": [
       "    Part_Number                        Part_Type  \\\n",
       "0       604-234  Air Door Actuator - Temperature   \n",
       "1       604-153         Air Door Actuator - Mode   \n",
       "2       604-123           HVAC Air Door Actuator   \n",
       "3       604-116           HVAC Air Door Actuator   \n",
       "4       604-164  Air Door Actuator - Temperature   \n",
       "..          ...                              ...   \n",
       "485     604-126           HVAC Air Door Actuator   \n",
       "486     604-029         Air Door Actuator - Mode   \n",
       "487     604-112           HVAC Air Door Actuator   \n",
       "488     604-058         Air Door Actuator - Mode   \n",
       "489     604-059    Air Door Actuator - Defroster   \n",
       "\n",
       "                                   Application_Summary  \\\n",
       "0                        Ford 2019-11, Lincoln 2019-11   \n",
       "1    Buick Terraza 2007-05, Chevrolet Uplander 2008...   \n",
       "2    Buick 1999-92, Cadillac 1993-92, Oldsmobile 19...   \n",
       "3    Cadillac 2000-99, Chevrolet 2002-95, GMC 2002-...   \n",
       "4           Cadillac CTS 2007-05, Cadillac SRX 2009-05   \n",
       "..                                                 ...   \n",
       "485  Buick 2007-04, Chevrolet 2014-03, GMC 2014-03,...   \n",
       "486  Chrysler 2014-07, Dodge 2020-08, Jeep 2018-10,...   \n",
       "487  Cadillac 2014-03, Chevrolet 2014-03, GMC 2014-...   \n",
       "488    Dodge Durango 2017-14, Jeep Grand Cherokee 2018   \n",
       "489  Dodge Durango 2018-14, Jeep Grand Cherokee 201...   \n",
       "\n",
       "                                                   Url  \n",
       "0    https://www.dormanproducts.com/p-66349-604-234...  \n",
       "1    https://www.dormanproducts.com/p-66122-604-153...  \n",
       "2    https://www.dormanproducts.com/p-47044-604-123...  \n",
       "3    https://www.dormanproducts.com/p-43955-604-116...  \n",
       "4    https://www.dormanproducts.com/p-65278-604-164...  \n",
       "..                                                 ...  \n",
       "485  https://www.dormanproducts.com/p-46575-604-126...  \n",
       "486  https://www.dormanproducts.com/p-66365-604-029...  \n",
       "487  https://www.dormanproducts.com/p-35291-604-112...  \n",
       "488  https://www.dormanproducts.com/p-91959-604-058...  \n",
       "489  https://www.dormanproducts.com/p-91947-604-059...  \n",
       "\n",
       "[490 rows x 4 columns]"
      ]
     },
     "execution_count": 7,
     "metadata": {},
     "output_type": "execute_result"
    }
   ],
   "source": [
    "df.to_excel('./menu.xlsx', index=False)\n",
    "\n",
    "df"
   ]
  },
  {
   "cell_type": "code",
   "execution_count": null,
   "id": "f1b946e9",
   "metadata": {},
   "outputs": [],
   "source": []
  }
 ],
 "metadata": {
  "kernelspec": {
   "display_name": "Python 3 (ipykernel)",
   "language": "python",
   "name": "python3"
  },
  "language_info": {
   "codemirror_mode": {
    "name": "ipython",
    "version": 3
   },
   "file_extension": ".py",
   "mimetype": "text/x-python",
   "name": "python",
   "nbconvert_exporter": "python",
   "pygments_lexer": "ipython3",
   "version": "3.11.3"
  }
 },
 "nbformat": 4,
 "nbformat_minor": 5
}
