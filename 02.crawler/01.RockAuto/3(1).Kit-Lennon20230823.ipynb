{
 "cells": [
  {
   "cell_type": "code",
   "execution_count": 1,
   "id": "75615279",
   "metadata": {},
   "outputs": [],
   "source": [
    "import pandas as pd"
   ]
  },
  {
   "cell_type": "code",
   "execution_count": 2,
   "id": "95822d56",
   "metadata": {
    "scrolled": true
   },
   "outputs": [
    {
     "name": "stdout",
     "output_type": "stream",
     "text": [
      "总数量：50\n"
     ]
    },
    {
     "data": {
      "text/plain": [
       "['https://www.rockauto.com/en/moreinfo.php?pk=8305012',\n",
       " 'https://www.rockauto.com/en/moreinfo.php?pk=8921204',\n",
       " 'https://www.rockauto.com/en/moreinfo.php?pk=9658988',\n",
       " 'https://www.rockauto.com/en/moreinfo.php?pk=8304960',\n",
       " 'https://www.rockauto.com/en/moreinfo.php?pk=8305000',\n",
       " 'https://www.rockauto.com/en/moreinfo.php?pk=8305016',\n",
       " 'https://www.rockauto.com/en/moreinfo.php?pk=8304992',\n",
       " 'https://www.rockauto.com/en/moreinfo.php?pk=8304980',\n",
       " 'https://www.rockauto.com/en/moreinfo.php?pk=9722076',\n",
       " 'https://www.rockauto.com/en/moreinfo.php?pk=9658980',\n",
       " 'https://www.rockauto.com/en/moreinfo.php?pk=10110000',\n",
       " 'https://www.rockauto.com/en/moreinfo.php?pk=10454500',\n",
       " 'https://www.rockauto.com/en/moreinfo.php?pk=8921208',\n",
       " 'https://www.rockauto.com/en/moreinfo.php?pk=9658984',\n",
       " 'https://www.rockauto.com/en/moreinfo.php?pk=8305008',\n",
       " 'https://www.rockauto.com/en/moreinfo.php?pk=10454504',\n",
       " 'https://www.rockauto.com/en/moreinfo.php?pk=8304976',\n",
       " 'https://www.rockauto.com/en/moreinfo.php?pk=8304972',\n",
       " 'https://www.rockauto.com/en/moreinfo.php?pk=8921200',\n",
       " 'https://www.rockauto.com/en/moreinfo.php?pk=8304968',\n",
       " 'https://www.rockauto.com/en/moreinfo.php?pk=13570029',\n",
       " 'https://www.rockauto.com/en/moreinfo.php?pk=11158049',\n",
       " 'https://www.rockauto.com/en/moreinfo.php?pk=11158045',\n",
       " 'https://www.rockauto.com/en/moreinfo.php?pk=13570025',\n",
       " 'https://www.rockauto.com/en/moreinfo.php?pk=8921212',\n",
       " 'https://www.rockauto.com/en/moreinfo.php?pk=11492461',\n",
       " 'https://www.rockauto.com/en/moreinfo.php?pk=13570037',\n",
       " 'https://www.rockauto.com/en/moreinfo.php?pk=13570033',\n",
       " 'https://www.rockauto.com/en/moreinfo.php?pk=10981368',\n",
       " 'https://www.rockauto.com/en/moreinfo.php?pk=8305040',\n",
       " 'https://www.rockauto.com/en/moreinfo.php?pk=8305028',\n",
       " 'https://www.rockauto.com/en/moreinfo.php?pk=11158057',\n",
       " 'https://www.rockauto.com/en/moreinfo.php?pk=11158061',\n",
       " 'https://www.rockauto.com/en/moreinfo.php?pk=10890260',\n",
       " 'https://www.rockauto.com/en/moreinfo.php?pk=11158053',\n",
       " 'https://www.rockauto.com/en/moreinfo.php?pk=11158073',\n",
       " 'https://www.rockauto.com/en/moreinfo.php?pk=8305036',\n",
       " 'https://www.rockauto.com/en/moreinfo.php?pk=11158069',\n",
       " 'https://www.rockauto.com/en/moreinfo.php?pk=10981372',\n",
       " 'https://www.rockauto.com/en/moreinfo.php?pk=11158085',\n",
       " 'https://www.rockauto.com/en/moreinfo.php?pk=10981380',\n",
       " 'https://www.rockauto.com/en/moreinfo.php?pk=11158065',\n",
       " 'https://www.rockauto.com/en/moreinfo.php?pk=11158077',\n",
       " 'https://www.rockauto.com/en/moreinfo.php?pk=10981376',\n",
       " 'https://www.rockauto.com/en/moreinfo.php?pk=12803989',\n",
       " 'https://www.rockauto.com/en/moreinfo.php?pk=11158081',\n",
       " 'https://www.rockauto.com/en/moreinfo.php?pk=11158093',\n",
       " 'https://www.rockauto.com/en/moreinfo.php?pk=11158089',\n",
       " 'https://www.rockauto.com/en/moreinfo.php?pk=8305032',\n",
       " 'https://www.rockauto.com/en/moreinfo.php?pk=10454508']"
      ]
     },
     "execution_count": 2,
     "metadata": {},
     "output_type": "execute_result"
    }
   ],
   "source": [
    "df_menu = pd.read_excel('./part.xlsx', header=0)\n",
    "list_info = df_menu['Info'].to_list()\n",
    "\n",
    "print('总数量：' + str(len(list_info)))\n",
    "list_info"
   ]
  },
  {
   "cell_type": "code",
   "execution_count": 3,
   "id": "ccc172ba",
   "metadata": {},
   "outputs": [
    {
     "data": {
      "text/html": [
       "<div>\n",
       "<style scoped>\n",
       "    .dataframe tbody tr th:only-of-type {\n",
       "        vertical-align: middle;\n",
       "    }\n",
       "\n",
       "    .dataframe tbody tr th {\n",
       "        vertical-align: top;\n",
       "    }\n",
       "\n",
       "    .dataframe thead th {\n",
       "        text-align: right;\n",
       "    }\n",
       "</style>\n",
       "<table border=\"1\" class=\"dataframe\">\n",
       "  <thead>\n",
       "    <tr style=\"text-align: right;\">\n",
       "      <th></th>\n",
       "    </tr>\n",
       "  </thead>\n",
       "  <tbody>\n",
       "  </tbody>\n",
       "</table>\n",
       "</div>"
      ],
      "text/plain": [
       "Empty DataFrame\n",
       "Columns: []\n",
       "Index: []"
      ]
     },
     "execution_count": 3,
     "metadata": {},
     "output_type": "execute_result"
    }
   ],
   "source": [
    "df = pd.DataFrame()\n",
    "\n",
    "df"
   ]
  },
  {
   "cell_type": "code",
   "execution_count": 4,
   "id": "8d1ca69c",
   "metadata": {},
   "outputs": [],
   "source": [
    "from selenium.webdriver import ChromeOptions"
   ]
  },
  {
   "cell_type": "code",
   "execution_count": 5,
   "id": "fe4e6120",
   "metadata": {},
   "outputs": [],
   "source": [
    "option = ChromeOptions()\n",
    "option.add_experimental_option('useAutomationExtension', False)\n",
    "# option.add_argument('blink-settings=imagesEnabled=false')\n",
    "option.add_argument('--disable-blink-features=AutomationControlled')\n",
    "option.add_argument('--disable-dev-shm-usage')\n",
    "option.add_argument('--disable-gpu')\n",
    "option.add_experimental_option('excludeSwitches', ['enable-automation'])\n",
    "# option.add_argument('--headless')\n",
    "option.add_argument('--no-sandbox')\n",
    "# option.add_argument('--proxy-server=')\n",
    "# option.add_argument('user-agent=')\n",
    "option.page_load_strategy = 'normal'"
   ]
  },
  {
   "cell_type": "code",
   "execution_count": 6,
   "id": "615beeeb",
   "metadata": {},
   "outputs": [],
   "source": [
    "from selenium.webdriver import Chrome\n",
    "from selenium.webdriver.chrome.service import Service"
   ]
  },
  {
   "cell_type": "code",
   "execution_count": 7,
   "id": "018d81c1",
   "metadata": {},
   "outputs": [],
   "source": [
    "browser = Chrome(service=Service('../../../chromedriver'), options=option)\n",
    "\n",
    "browser.maximize_window()"
   ]
  },
  {
   "cell_type": "code",
   "execution_count": 8,
   "id": "fec71893",
   "metadata": {},
   "outputs": [],
   "source": [
    "import time"
   ]
  },
  {
   "cell_type": "code",
   "execution_count": 9,
   "id": "9e02fbb5",
   "metadata": {
    "scrolled": true
   },
   "outputs": [],
   "source": [
    "i = 3\n",
    "\n",
    "browser.get(list_info[i])\n",
    "\n",
    "time.sleep(3)"
   ]
  },
  {
   "cell_type": "code",
   "execution_count": 10,
   "id": "7cabed18",
   "metadata": {},
   "outputs": [],
   "source": [
    "from selenium.webdriver.support import expected_conditions as EC\n",
    "from selenium.webdriver.support.wait import WebDriverWait\n",
    "from selenium.webdriver.common.by import By"
   ]
  },
  {
   "cell_type": "code",
   "execution_count": 11,
   "id": "dc6f147d",
   "metadata": {},
   "outputs": [
    {
     "data": {
      "text/plain": [
       "[<selenium.webdriver.remote.webelement.WebElement (session=\"d03f54b82681caaaf66107fa25fb1424\", element=\"525E67E6D8545C241D87DBCA7D833F7D_element_54\")>,\n",
       " <selenium.webdriver.remote.webelement.WebElement (session=\"d03f54b82681caaaf66107fa25fb1424\", element=\"525E67E6D8545C241D87DBCA7D833F7D_element_42\")>,\n",
       " <selenium.webdriver.remote.webelement.WebElement (session=\"d03f54b82681caaaf66107fa25fb1424\", element=\"525E67E6D8545C241D87DBCA7D833F7D_element_43\")>,\n",
       " <selenium.webdriver.remote.webelement.WebElement (session=\"d03f54b82681caaaf66107fa25fb1424\", element=\"525E67E6D8545C241D87DBCA7D833F7D_element_39\")>,\n",
       " <selenium.webdriver.remote.webelement.WebElement (session=\"d03f54b82681caaaf66107fa25fb1424\", element=\"525E67E6D8545C241D87DBCA7D833F7D_element_33\")>,\n",
       " <selenium.webdriver.remote.webelement.WebElement (session=\"d03f54b82681caaaf66107fa25fb1424\", element=\"525E67E6D8545C241D87DBCA7D833F7D_element_35\")>,\n",
       " <selenium.webdriver.remote.webelement.WebElement (session=\"d03f54b82681caaaf66107fa25fb1424\", element=\"525E67E6D8545C241D87DBCA7D833F7D_element_37\")>,\n",
       " <selenium.webdriver.remote.webelement.WebElement (session=\"d03f54b82681caaaf66107fa25fb1424\", element=\"525E67E6D8545C241D87DBCA7D833F7D_element_25\")>,\n",
       " <selenium.webdriver.remote.webelement.WebElement (session=\"d03f54b82681caaaf66107fa25fb1424\", element=\"525E67E6D8545C241D87DBCA7D833F7D_element_55\")>,\n",
       " <selenium.webdriver.remote.webelement.WebElement (session=\"d03f54b82681caaaf66107fa25fb1424\", element=\"525E67E6D8545C241D87DBCA7D833F7D_element_56\")>]"
      ]
     },
     "execution_count": 11,
     "metadata": {},
     "output_type": "execute_result"
    }
   ],
   "source": [
    "wait = WebDriverWait(browser, 60)\n",
    "wait.until(EC.presence_of_element_located((By.XPATH, '//section[contains(@aria-label, \"Warranty Information\")]')))\n",
    "list_row = browser.find_elements(by=By.XPATH, value='//tbody[contains(@class, \"listing-inner\") and (contains(@class, \"altrow-b-1\") or contains(@class, \"altrow-b-0\"))]')\n",
    "\n",
    "list_row"
   ]
  },
  {
   "cell_type": "code",
   "execution_count": 12,
   "id": "ca35edbc",
   "metadata": {},
   "outputs": [],
   "source": [
    "list_kit_no = [i+1 for i in range(len(list_row))]\n",
    "list_kit_quantity = []\n",
    "list_kit_note = []\n",
    "list_kit_manufacturer = []\n",
    "list_kit_part_number = []\n",
    "list_kit_info = []\n",
    "\n",
    "for row in list_row:\n",
    "    list_td = row.find_elements(by=By.XPATH, value='./tr/td')\n",
    "    list_kit_quantity.append(list_td[0].text)\n",
    "    list_kit_note.append(list_td[1].text)\n",
    "    list_kit_manufacturer.append(list_td[2].find_element(by=By.XPATH, value='./descendant::span[contains(@class, \"listing-final-manufacturer\")]').text)\n",
    "    list_kit_part_number.append(list_td[2].find_element(by=By.XPATH, value='./descendant::span[contains(@class, \"listing-final-partnumber\")]').text)\n",
    "    list_kit_info.append(list_td[2].find_element(by=By.XPATH, value='./descendant::a[contains(@class, \"ra-btn\") and contains(@class, \"ra-btn-moreinfo\")]').get_attribute('href'))"
   ]
  },
  {
   "cell_type": "code",
   "execution_count": 13,
   "id": "8509286b",
   "metadata": {
    "scrolled": true
   },
   "outputs": [
    {
     "data": {
      "text/html": [
       "<div>\n",
       "<style scoped>\n",
       "    .dataframe tbody tr th:only-of-type {\n",
       "        vertical-align: middle;\n",
       "    }\n",
       "\n",
       "    .dataframe tbody tr th {\n",
       "        vertical-align: top;\n",
       "    }\n",
       "\n",
       "    .dataframe thead th {\n",
       "        text-align: right;\n",
       "    }\n",
       "</style>\n",
       "<table border=\"1\" class=\"dataframe\">\n",
       "  <thead>\n",
       "    <tr style=\"text-align: right;\">\n",
       "      <th></th>\n",
       "      <th>status</th>\n",
       "      <th>Info</th>\n",
       "      <th>Kit_No.</th>\n",
       "      <th>Kit_Quantity</th>\n",
       "      <th>Kit_Note</th>\n",
       "      <th>Kit_Manufacturer</th>\n",
       "      <th>Kit_Part_Number</th>\n",
       "      <th>Kit_Info</th>\n",
       "    </tr>\n",
       "  </thead>\n",
       "  <tbody>\n",
       "    <tr>\n",
       "      <th>0</th>\n",
       "      <td>ok</td>\n",
       "      <td>https://www.rockauto.com/en/moreinfo.php?pk=83...</td>\n",
       "      <td>1</td>\n",
       "      <td>1</td>\n",
       "      <td>Timing Chain</td>\n",
       "      <td>MELLING</td>\n",
       "      <td>715F</td>\n",
       "      <td>https://www.rockauto.com/en/moreinfo.php?pk=83...</td>\n",
       "    </tr>\n",
       "    <tr>\n",
       "      <th>1</th>\n",
       "      <td>ok</td>\n",
       "      <td>https://www.rockauto.com/en/moreinfo.php?pk=83...</td>\n",
       "      <td>2</td>\n",
       "      <td>1</td>\n",
       "      <td>Timing Chain Guide / Damper</td>\n",
       "      <td>MELLING</td>\n",
       "      <td>BG5515</td>\n",
       "      <td>https://www.rockauto.com/en/moreinfo.php?pk=83...</td>\n",
       "    </tr>\n",
       "    <tr>\n",
       "      <th>2</th>\n",
       "      <td>ok</td>\n",
       "      <td>https://www.rockauto.com/en/moreinfo.php?pk=83...</td>\n",
       "      <td>3</td>\n",
       "      <td>1</td>\n",
       "      <td>Timing Chain Tensioner</td>\n",
       "      <td>MELLING</td>\n",
       "      <td>BT5514</td>\n",
       "      <td>https://www.rockauto.com/en/moreinfo.php?pk=83...</td>\n",
       "    </tr>\n",
       "    <tr>\n",
       "      <th>3</th>\n",
       "      <td>ok</td>\n",
       "      <td>https://www.rockauto.com/en/moreinfo.php?pk=83...</td>\n",
       "      <td>4</td>\n",
       "      <td>1</td>\n",
       "      <td>Timing Chain Guide / Damper</td>\n",
       "      <td>MELLING</td>\n",
       "      <td>BT7015</td>\n",
       "      <td>https://www.rockauto.com/en/moreinfo.php?pk=83...</td>\n",
       "    </tr>\n",
       "    <tr>\n",
       "      <th>4</th>\n",
       "      <td>ok</td>\n",
       "      <td>https://www.rockauto.com/en/moreinfo.php?pk=83...</td>\n",
       "      <td>5</td>\n",
       "      <td>1</td>\n",
       "      <td>Oil Pump Chain Tensioner</td>\n",
       "      <td>MELLING</td>\n",
       "      <td>BT7016</td>\n",
       "      <td>https://www.rockauto.com/en/moreinfo.php?pk=83...</td>\n",
       "    </tr>\n",
       "    <tr>\n",
       "      <th>5</th>\n",
       "      <td>ok</td>\n",
       "      <td>https://www.rockauto.com/en/moreinfo.php?pk=83...</td>\n",
       "      <td>6</td>\n",
       "      <td>1</td>\n",
       "      <td>Timing Crank Sprocket</td>\n",
       "      <td>MELLING</td>\n",
       "      <td>S899</td>\n",
       "      <td>https://www.rockauto.com/en/moreinfo.php?pk=83...</td>\n",
       "    </tr>\n",
       "    <tr>\n",
       "      <th>6</th>\n",
       "      <td>ok</td>\n",
       "      <td>https://www.rockauto.com/en/moreinfo.php?pk=83...</td>\n",
       "      <td>7</td>\n",
       "      <td>1</td>\n",
       "      <td>Timing Cam Sprocket</td>\n",
       "      <td>MELLING</td>\n",
       "      <td>S906A</td>\n",
       "      <td>https://www.rockauto.com/en/moreinfo.php?pk=83...</td>\n",
       "    </tr>\n",
       "    <tr>\n",
       "      <th>7</th>\n",
       "      <td>ok</td>\n",
       "      <td>https://www.rockauto.com/en/moreinfo.php?pk=83...</td>\n",
       "      <td>8</td>\n",
       "      <td>1</td>\n",
       "      <td>Oil Pump Chain</td>\n",
       "      <td>MELLING</td>\n",
       "      <td>717F</td>\n",
       "      <td>https://www.rockauto.com/en/moreinfo.php?pk=85...</td>\n",
       "    </tr>\n",
       "    <tr>\n",
       "      <th>8</th>\n",
       "      <td>ok</td>\n",
       "      <td>https://www.rockauto.com/en/moreinfo.php?pk=83...</td>\n",
       "      <td>9</td>\n",
       "      <td>1</td>\n",
       "      <td>Oil Pump Chain Guide</td>\n",
       "      <td>MELLING</td>\n",
       "      <td>BG7019</td>\n",
       "      <td>https://www.rockauto.com/en/moreinfo.php?pk=89...</td>\n",
       "    </tr>\n",
       "    <tr>\n",
       "      <th>9</th>\n",
       "      <td>ok</td>\n",
       "      <td>https://www.rockauto.com/en/moreinfo.php?pk=83...</td>\n",
       "      <td>10</td>\n",
       "      <td>1</td>\n",
       "      <td>Oil Pump Sprocket</td>\n",
       "      <td>MELLING</td>\n",
       "      <td>S905</td>\n",
       "      <td>https://www.rockauto.com/en/moreinfo.php?pk=89...</td>\n",
       "    </tr>\n",
       "  </tbody>\n",
       "</table>\n",
       "</div>"
      ],
      "text/plain": [
       "  status                                               Info  Kit_No.  \\\n",
       "0     ok  https://www.rockauto.com/en/moreinfo.php?pk=83...        1   \n",
       "1     ok  https://www.rockauto.com/en/moreinfo.php?pk=83...        2   \n",
       "2     ok  https://www.rockauto.com/en/moreinfo.php?pk=83...        3   \n",
       "3     ok  https://www.rockauto.com/en/moreinfo.php?pk=83...        4   \n",
       "4     ok  https://www.rockauto.com/en/moreinfo.php?pk=83...        5   \n",
       "5     ok  https://www.rockauto.com/en/moreinfo.php?pk=83...        6   \n",
       "6     ok  https://www.rockauto.com/en/moreinfo.php?pk=83...        7   \n",
       "7     ok  https://www.rockauto.com/en/moreinfo.php?pk=83...        8   \n",
       "8     ok  https://www.rockauto.com/en/moreinfo.php?pk=83...        9   \n",
       "9     ok  https://www.rockauto.com/en/moreinfo.php?pk=83...       10   \n",
       "\n",
       "  Kit_Quantity                     Kit_Note Kit_Manufacturer Kit_Part_Number  \\\n",
       "0            1                 Timing Chain          MELLING            715F   \n",
       "1            1  Timing Chain Guide / Damper          MELLING          BG5515   \n",
       "2            1       Timing Chain Tensioner          MELLING          BT5514   \n",
       "3            1  Timing Chain Guide / Damper          MELLING          BT7015   \n",
       "4            1     Oil Pump Chain Tensioner          MELLING          BT7016   \n",
       "5            1        Timing Crank Sprocket          MELLING            S899   \n",
       "6            1          Timing Cam Sprocket          MELLING           S906A   \n",
       "7            1               Oil Pump Chain          MELLING            717F   \n",
       "8            1         Oil Pump Chain Guide          MELLING          BG7019   \n",
       "9            1            Oil Pump Sprocket          MELLING            S905   \n",
       "\n",
       "                                            Kit_Info  \n",
       "0  https://www.rockauto.com/en/moreinfo.php?pk=83...  \n",
       "1  https://www.rockauto.com/en/moreinfo.php?pk=83...  \n",
       "2  https://www.rockauto.com/en/moreinfo.php?pk=83...  \n",
       "3  https://www.rockauto.com/en/moreinfo.php?pk=83...  \n",
       "4  https://www.rockauto.com/en/moreinfo.php?pk=83...  \n",
       "5  https://www.rockauto.com/en/moreinfo.php?pk=83...  \n",
       "6  https://www.rockauto.com/en/moreinfo.php?pk=83...  \n",
       "7  https://www.rockauto.com/en/moreinfo.php?pk=85...  \n",
       "8  https://www.rockauto.com/en/moreinfo.php?pk=89...  \n",
       "9  https://www.rockauto.com/en/moreinfo.php?pk=89...  "
      ]
     },
     "execution_count": 13,
     "metadata": {},
     "output_type": "execute_result"
    }
   ],
   "source": [
    "df_temp = pd.DataFrame({'status': 'ok',\n",
    "                        'Info': list_info[i],\n",
    "                        'Kit_No.': list_kit_no,\n",
    "                        'Kit_Quantity': list_kit_quantity,\n",
    "                        'Kit_Note': list_kit_note,\n",
    "                        'Kit_Manufacturer': list_kit_manufacturer,\n",
    "                        'Kit_Part_Number': list_kit_part_number,\n",
    "                        'Kit_Info': list_kit_info})\n",
    "\n",
    "browser.quit()\n",
    "\n",
    "df = pd.concat([df, df_temp], ignore_index=True).fillna('')\n",
    "\n",
    "df"
   ]
  },
  {
   "cell_type": "code",
   "execution_count": null,
   "id": "c1683b17",
   "metadata": {},
   "outputs": [],
   "source": []
  }
 ],
 "metadata": {
  "kernelspec": {
   "display_name": "Python 3 (ipykernel)",
   "language": "python",
   "name": "python3"
  },
  "language_info": {
   "codemirror_mode": {
    "name": "ipython",
    "version": 3
   },
   "file_extension": ".py",
   "mimetype": "text/x-python",
   "name": "python",
   "nbconvert_exporter": "python",
   "pygments_lexer": "ipython3",
   "version": "3.11.3"
  }
 },
 "nbformat": 4,
 "nbformat_minor": 5
}
