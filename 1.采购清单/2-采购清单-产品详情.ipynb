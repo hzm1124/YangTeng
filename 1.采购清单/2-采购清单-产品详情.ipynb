{
 "cells": [
  {
   "cell_type": "markdown",
   "id": "e3bf44f4",
   "metadata": {},
   "source": [
    "- Update: 2023.01.09\n",
    "\n",
    "# 0. 配置参数\n",
    "\n",
    "- `url`：what the fuck"
   ]
  },
  {
   "cell_type": "code",
   "execution_count": 1,
   "id": "88a012de",
   "metadata": {},
   "outputs": [],
   "source": [
    "import pyperclip\n",
    "\n",
    "url = 'https://www.ebay.com/itm/282691630242'\n",
    "# ytbuyer@hotmail.com\n",
    "# yangteng20220811!\n",
    "\n",
    "xpath_table = '/html/body/div[5]/div[5]/div[1]/div[5]/div[3]/div[1]/div/div/div[3]/div/div[7]/table/tbody'\n",
    "head_include = True\n",
    "class_next = 'pg-ur'\n",
    "sleep_time = 3\n",
    "\n",
    "pyperclip.copy(url)"
   ]
  },
  {
   "cell_type": "code",
   "execution_count": 2,
   "id": "c2d726c5",
   "metadata": {},
   "outputs": [],
   "source": [
    "from selenium.webdriver import Chrome\n",
    "from selenium.webdriver.common.by import By\n",
    "import time\n",
    "\n",
    "browser = Chrome()"
   ]
  },
  {
   "cell_type": "code",
   "execution_count": 3,
   "id": "54f0d864",
   "metadata": {},
   "outputs": [],
   "source": [
    "browser.get(url)\n",
    "\n",
    "list_vehicle = []"
   ]
  },
  {
   "cell_type": "code",
   "execution_count": 4,
   "id": "b3b8fb7f",
   "metadata": {},
   "outputs": [
    {
     "name": "stdout",
     "output_type": "stream",
     "text": [
      "https://i.ebayimg.com/images/g/ugQAAOSwylhb7WbZ/s-l300.jpg\n"
     ]
    }
   ],
   "source": [
    "pic = browser.find_elements(by=By.CLASS_NAME, value='ux-image-carousel-item')[0].find_element(by=By.TAG_NAME, value='img').get_attribute('src')\n",
    "pyperclip.copy(pic)\n",
    "print(pic)"
   ]
  },
  {
   "cell_type": "code",
   "execution_count": 5,
   "id": "d66da65e",
   "metadata": {},
   "outputs": [
    {
     "name": "stdout",
     "output_type": "stream",
     "text": [
      "1. 2. 3. 4. 5. 6. 7. 8. NoSuchElementException()\n"
     ]
    }
   ],
   "source": [
    "for i in range(1, 100):\n",
    "    print(i, end='. ')\n",
    "    table = browser.find_element(by=By.XPATH, value=xpath_table)\n",
    "    list_tr = table.find_elements(by=By.TAG_NAME, value='tr')\n",
    "    if head_include:\n",
    "        list_tr.pop(0)\n",
    "    \n",
    "    for tr in list_tr:\n",
    "        list_td = tr.find_elements(by=By.TAG_NAME, value='td')\n",
    "        list_vehicle.append(list_td[2].text + ','+ list_td[3].text + ',' + list_td[1].text)\n",
    "    \n",
    "    try:\n",
    "        browser.find_element(by=By.CLASS_NAME, value=class_next).click()\n",
    "        time.sleep(sleep_time)\n",
    "    except Exception as e:\n",
    "        print(repr(e))\n",
    "        break"
   ]
  },
  {
   "cell_type": "code",
   "execution_count": 6,
   "id": "af6c16db",
   "metadata": {},
   "outputs": [
    {
     "data": {
      "text/plain": [
       "['Chevrolet,Colorado,2015',\n",
       " 'Ford,Crown Victoria,1996',\n",
       " 'Ford,Crown Victoria,1997',\n",
       " 'Ford,Crown Victoria,1998',\n",
       " 'Ford,E-150 Econoline Club Wagon,1997',\n",
       " 'Ford,E-150 Econoline Club Wagon,1998',\n",
       " 'Ford,E-150 Econoline Club Wagon,1999',\n",
       " 'Ford,E-150 Econoline,1997',\n",
       " 'Ford,E-150 Econoline,1998',\n",
       " 'Ford,E-150 Econoline,1999',\n",
       " 'Ford,Expedition,1997',\n",
       " 'Ford,Expedition,1998',\n",
       " 'Ford,Expedition,1999',\n",
       " 'Ford,Expedition,2000',\n",
       " 'Ford,F-150,1997',\n",
       " 'Ford,F-150,1998',\n",
       " 'Ford,F-150,1999',\n",
       " 'Ford,F-150,2000',\n",
       " 'Ford,F-250,1997',\n",
       " 'Ford,F-250,1998',\n",
       " 'Ford,F-250,1999',\n",
       " 'Ford,Lobo,1997',\n",
       " 'Ford,Lobo,1998',\n",
       " 'Lincoln,Town Car,1996',\n",
       " 'Lincoln,Town Car,1997',\n",
       " 'Lincoln,Town Car,1998',\n",
       " 'Lincoln,Town Car,1999',\n",
       " 'Mercury,Grand Marquis,1996',\n",
       " 'Mercury,Grand Marquis,1997',\n",
       " 'Mercury,Grand Marquis,1998',\n",
       " 'Mercury,Grand Marquis,1999']"
      ]
     },
     "execution_count": 6,
     "metadata": {},
     "output_type": "execute_result"
    }
   ],
   "source": [
    "list_vehicle = list(set(list_vehicle))\n",
    "list_vehicle.sort()\n",
    "\n",
    "list_vehicle"
   ]
  },
  {
   "cell_type": "code",
   "execution_count": 7,
   "id": "cadb5063",
   "metadata": {},
   "outputs": [
    {
     "data": {
      "text/plain": [
       "{'Chevrolet': {'Colorado': ['2015']},\n",
       " 'Ford': {'Crown Victoria': ['1996', '1997', '1998'],\n",
       "  'E-150 Econoline Club Wagon': ['1997', '1998', '1999'],\n",
       "  'E-150 Econoline': ['1997', '1998', '1999'],\n",
       "  'Expedition': ['1997', '1998', '1999', '2000'],\n",
       "  'F-150': ['1997', '1998', '1999', '2000'],\n",
       "  'F-250': ['1997', '1998', '1999'],\n",
       "  'Lobo': ['1997', '1998']},\n",
       " 'Lincoln': {'Town Car': ['1996', '1997', '1998', '1999']},\n",
       " 'Mercury': {'Grand Marquis': ['1996', '1997', '1998', '1999']}}"
      ]
     },
     "execution_count": 7,
     "metadata": {},
     "output_type": "execute_result"
    }
   ],
   "source": [
    "dict_vehicle = {}\n",
    "for vehicle in list_vehicle:\n",
    "    list_str = vehicle.split(',')\n",
    "    if list_str[0] not in dict_vehicle:\n",
    "        dict_vehicle[list_str[0]] = {}\n",
    "    if list_str[1] not in dict_vehicle[list_str[0]]:\n",
    "        dict_vehicle[list_str[0]][list_str[1]] = []\n",
    "    dict_vehicle[list_str[0]][list_str[1]].append(list_str[2])\n",
    "\n",
    "dict_vehicle"
   ]
  },
  {
   "cell_type": "code",
   "execution_count": 8,
   "id": "e5158918",
   "metadata": {},
   "outputs": [
    {
     "name": "stdout",
     "output_type": "stream",
     "text": [
      "Chevrolet\n",
      "2015 Colorado\n",
      "Ford\n",
      "1996,1997,1998 Crown Victoria\n",
      "1997,1998,1999 E-150 Econoline Club Wagon\n",
      "1997,1998,1999 E-150 Econoline\n",
      "1997,1998,1999,2000 Expedition\n",
      "1997,1998,1999,2000 F-150\n",
      "1997,1998,1999 F-250\n",
      "1997,1998 Lobo\n",
      "Lincoln\n",
      "1996,1997,1998,1999 Town Car\n",
      "Mercury\n",
      "1996,1997,1998,1999 Grand Marquis\n"
     ]
    }
   ],
   "source": [
    "for make in dict_vehicle:\n",
    "    print(make)\n",
    "    for model in dict_vehicle[make]:\n",
    "        print(','.join(dict_vehicle[make][model]) + ' ' + model)"
   ]
  },
  {
   "cell_type": "code",
   "execution_count": null,
   "id": "bb3b8ad7",
   "metadata": {},
   "outputs": [],
   "source": []
  },
  {
   "cell_type": "code",
   "execution_count": null,
   "id": "a58e7d11",
   "metadata": {},
   "outputs": [],
   "source": []
  },
  {
   "cell_type": "code",
   "execution_count": null,
   "id": "fbac54d8",
   "metadata": {},
   "outputs": [],
   "source": []
  },
  {
   "cell_type": "code",
   "execution_count": 9,
   "id": "252bc505",
   "metadata": {},
   "outputs": [],
   "source": [
    "browser.close()"
   ]
  },
  {
   "cell_type": "code",
   "execution_count": null,
   "id": "b3d0a117",
   "metadata": {},
   "outputs": [],
   "source": []
  }
 ],
 "metadata": {
  "kernelspec": {
   "display_name": "Python 3 (ipykernel)",
   "language": "python",
   "name": "python3"
  },
  "language_info": {
   "codemirror_mode": {
    "name": "ipython",
    "version": 3
   },
   "file_extension": ".py",
   "mimetype": "text/x-python",
   "name": "python",
   "nbconvert_exporter": "python",
   "pygments_lexer": "ipython3",
   "version": "3.9.12"
  }
 },
 "nbformat": 4,
 "nbformat_minor": 5
}
