{
 "cells": [
  {
   "cell_type": "code",
   "execution_count": 1,
   "id": "8d3ab43e",
   "metadata": {},
   "outputs": [],
   "source": [
    "import pandas as pd"
   ]
  },
  {
   "cell_type": "code",
   "execution_count": 3,
   "id": "37703a71",
   "metadata": {},
   "outputs": [
    {
     "data": {
      "text/html": [
       "<div>\n",
       "<style scoped>\n",
       "    .dataframe tbody tr th:only-of-type {\n",
       "        vertical-align: middle;\n",
       "    }\n",
       "\n",
       "    .dataframe tbody tr th {\n",
       "        vertical-align: top;\n",
       "    }\n",
       "\n",
       "    .dataframe thead th {\n",
       "        text-align: right;\n",
       "    }\n",
       "</style>\n",
       "<table border=\"1\" class=\"dataframe\">\n",
       "  <thead>\n",
       "    <tr style=\"text-align: right;\">\n",
       "      <th></th>\n",
       "      <th>Url</th>\n",
       "      <th>Part_Number</th>\n",
       "      <th>status</th>\n",
       "      <th>part type:</th>\n",
       "      <th>product condition:</th>\n",
       "      <th>lifecycle status:</th>\n",
       "      <th>package contents:</th>\n",
       "      <th>packaged weight:</th>\n",
       "      <th>upc:</th>\n",
       "      <th>e-waste:</th>\n",
       "      <th>warranty:</th>\n",
       "    </tr>\n",
       "  </thead>\n",
       "  <tbody>\n",
       "    <tr>\n",
       "      <th>0</th>\n",
       "      <td>https://www.cardone.com/product/windshield-wip...</td>\n",
       "      <td>85-299</td>\n",
       "      <td>ok</td>\n",
       "      <td>Windshield Wiper Motor</td>\n",
       "      <td>New</td>\n",
       "      <td>Available to Order</td>\n",
       "      <td>Wiper Motor; Instruction Manual</td>\n",
       "      <td>3.44 lb</td>\n",
       "      <td>82617703734</td>\n",
       "      <td>Yes</td>\n",
       "      <td>Limited Lifetime</td>\n",
       "    </tr>\n",
       "    <tr>\n",
       "      <th>1</th>\n",
       "      <td>https://www.cardone.com/product/windshield-wip...</td>\n",
       "      <td>85-3009</td>\n",
       "      <td>ok</td>\n",
       "      <td>Windshield Wiper Motor</td>\n",
       "      <td>New</td>\n",
       "      <td>Available to Order</td>\n",
       "      <td>Wiper Motor; Instruction Manual</td>\n",
       "      <td>2.6 lb</td>\n",
       "      <td>884548068919</td>\n",
       "      <td>Yes</td>\n",
       "      <td>Limited Lifetime</td>\n",
       "    </tr>\n",
       "    <tr>\n",
       "      <th>2</th>\n",
       "      <td>https://www.cardone.com/product/windshield-wip...</td>\n",
       "      <td>85-3002</td>\n",
       "      <td>ok</td>\n",
       "      <td>Windshield Wiper Motor</td>\n",
       "      <td>New</td>\n",
       "      <td>Available to Order</td>\n",
       "      <td>Wiper Motor; Instruction Manual</td>\n",
       "      <td>3.7 lb</td>\n",
       "      <td>82617672382</td>\n",
       "      <td>Yes</td>\n",
       "      <td>Limited Lifetime</td>\n",
       "    </tr>\n",
       "    <tr>\n",
       "      <th>3</th>\n",
       "      <td>https://www.cardone.com/product/windshield-wip...</td>\n",
       "      <td>85-3000</td>\n",
       "      <td>ok</td>\n",
       "      <td>Windshield Wiper Motor</td>\n",
       "      <td>New</td>\n",
       "      <td>Available to Order</td>\n",
       "      <td>Wiper Motor; Instruction Manual</td>\n",
       "      <td>2.6 lb</td>\n",
       "      <td>82617670159</td>\n",
       "      <td>Yes</td>\n",
       "      <td>Limited Lifetime</td>\n",
       "    </tr>\n",
       "    <tr>\n",
       "      <th>4</th>\n",
       "      <td>https://www.cardone.com/product/windshield-wip...</td>\n",
       "      <td>85-3018</td>\n",
       "      <td>ok</td>\n",
       "      <td>Windshield Wiper Motor</td>\n",
       "      <td>New</td>\n",
       "      <td>Available to Order</td>\n",
       "      <td>Wiper Motor; Instruction Manual</td>\n",
       "      <td>3.4 lb</td>\n",
       "      <td>884548016996</td>\n",
       "      <td>Yes</td>\n",
       "      <td>Limited Lifetime</td>\n",
       "    </tr>\n",
       "  </tbody>\n",
       "</table>\n",
       "</div>"
      ],
      "text/plain": [
       "                                                 Url Part_Number status  \\\n",
       "0  https://www.cardone.com/product/windshield-wip...      85-299     ok   \n",
       "1  https://www.cardone.com/product/windshield-wip...     85-3009     ok   \n",
       "2  https://www.cardone.com/product/windshield-wip...     85-3002     ok   \n",
       "3  https://www.cardone.com/product/windshield-wip...     85-3000     ok   \n",
       "4  https://www.cardone.com/product/windshield-wip...     85-3018     ok   \n",
       "\n",
       "               part type: product condition:   lifecycle status:  \\\n",
       "0  Windshield Wiper Motor                New  Available to Order   \n",
       "1  Windshield Wiper Motor                New  Available to Order   \n",
       "2  Windshield Wiper Motor                New  Available to Order   \n",
       "3  Windshield Wiper Motor                New  Available to Order   \n",
       "4  Windshield Wiper Motor                New  Available to Order   \n",
       "\n",
       "                 package contents: packaged weight:          upc: e-waste:  \\\n",
       "0  Wiper Motor; Instruction Manual          3.44 lb   82617703734      Yes   \n",
       "1  Wiper Motor; Instruction Manual           2.6 lb  884548068919      Yes   \n",
       "2  Wiper Motor; Instruction Manual           3.7 lb   82617672382      Yes   \n",
       "3  Wiper Motor; Instruction Manual           2.6 lb   82617670159      Yes   \n",
       "4  Wiper Motor; Instruction Manual           3.4 lb  884548016996      Yes   \n",
       "\n",
       "          warranty:  \n",
       "0  Limited Lifetime  \n",
       "1  Limited Lifetime  \n",
       "2  Limited Lifetime  \n",
       "3  Limited Lifetime  \n",
       "4  Limited Lifetime  "
      ]
     },
     "execution_count": 3,
     "metadata": {},
     "output_type": "execute_result"
    }
   ],
   "source": [
    "df = pd.read_excel('./detail.xlsx', header=0, dtype={'Part_number': str})\n",
    "\n",
    "df"
   ]
  },
  {
   "cell_type": "code",
   "execution_count": 16,
   "id": "2c1f6210",
   "metadata": {},
   "outputs": [
    {
     "data": {
      "text/plain": [
       "'[{\"Part_Number\":\"85-299\",\"OE_url\":\"https://productdesk-api.cellacore.net/legacy/cardone/FinishedGood/?q=productDeskItemNumber.keyword:85-299\"},{\"Part_Number\":\"85-3009\",\"OE_url\":\"https://productdesk-api.cellacore.net/legacy/cardone/FinishedGood/?q=productDeskItemNumber.keyword:85-3009\"},{\"Part_Number\":\"85-3002\",\"OE_url\":\"https://productdesk-api.cellacore.net/legacy/cardone/FinishedGood/?q=productDeskItemNumber.keyword:85-3002\"},{\"Part_Number\":\"85-3000\",\"OE_url\":\"https://productdesk-api.cellacore.net/legacy/cardone/FinishedGood/?q=productDeskItemNumber.keyword:85-3000\"},{\"Part_Number\":\"85-3018\",\"OE_url\":\"https://productdesk-api.cellacore.net/legacy/cardone/FinishedGood/?q=productDeskItemNumber.keyword:85-3018\"}]'"
      ]
     },
     "execution_count": 16,
     "metadata": {},
     "output_type": "execute_result"
    }
   ],
   "source": [
    "content = '['\n",
    "for i in range(len(df)):\n",
    "    if i == 0:\n",
    "        content += '{\"Part_Number\":\"' + df.loc[i, 'Part_Number'] + '\",\"OE_url\":\"' + 'https://productdesk-api.cellacore.net/legacy/cardone/FinishedGood/?q=productDeskItemNumber.keyword:' + df.loc[i, 'Part_Number'] + '\"}'\n",
    "    else:\n",
    "        content += ',{\"Part_Number\":\"' + df.loc[i, 'Part_Number'] + '\",\"OE_url\":\"' + 'https://productdesk-api.cellacore.net/legacy/cardone/FinishedGood/?q=productDeskItemNumber.keyword:' + df.loc[i, 'Part_Number'] + '\"}'\n",
    "content += ']'\n",
    "\n",
    "content"
   ]
  },
  {
   "cell_type": "code",
   "execution_count": 17,
   "id": "cbb4504e",
   "metadata": {},
   "outputs": [],
   "source": [
    "import pyperclip"
   ]
  },
  {
   "cell_type": "code",
   "execution_count": null,
   "id": "d0ce143a",
   "metadata": {},
   "outputs": [],
   "source": [
    "pyperclip.copy(content)"
   ]
  },
  {
   "cell_type": "code",
   "execution_count": null,
   "id": "591cc0ea",
   "metadata": {},
   "outputs": [],
   "source": []
  }
 ],
 "metadata": {
  "kernelspec": {
   "display_name": "Python 3 (ipykernel)",
   "language": "python",
   "name": "python3"
  },
  "language_info": {
   "codemirror_mode": {
    "name": "ipython",
    "version": 3
   },
   "file_extension": ".py",
   "mimetype": "text/x-python",
   "name": "python",
   "nbconvert_exporter": "python",
   "pygments_lexer": "ipython3",
   "version": "3.11.3"
  }
 },
 "nbformat": 4,
 "nbformat_minor": 5
}
