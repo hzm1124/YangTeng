{
 "cells": [
  {
   "cell_type": "code",
   "execution_count": 1,
   "id": "07794996",
   "metadata": {},
   "outputs": [],
   "source": [
    "from openpyxl import load_workbook\n",
    "from openpyxl.utils import get_column_letter"
   ]
  },
  {
   "cell_type": "code",
   "execution_count": 2,
   "id": "1a47606a",
   "metadata": {},
   "outputs": [
    {
     "name": "stdout",
     "output_type": "stream",
     "text": [
      "总数量：171\n"
     ]
    },
    {
     "data": {
      "text/plain": [
       "(13, 'M', 10, 'J')"
      ]
     },
     "execution_count": 2,
     "metadata": {},
     "output_type": "execute_result"
    }
   ],
   "source": [
    "wb = load_workbook('./item/1.A_C Condenser-20240522_234656.xlsx')\n",
    "ws = wb.active\n",
    "\n",
    "for column in range(1, ws.max_column+1):\n",
    "    if ws.cell(1, column).value == 'Src':\n",
    "        column_src = column\n",
    "    elif ws.cell(1, column).value == 'Pic':\n",
    "        column_pic = column\n",
    "        \n",
    "print('总数量：' + str(ws.max_row-1))\n",
    "column_src, get_column_letter(column_src), column_pic, get_column_letter(column_pic)"
   ]
  },
  {
   "cell_type": "code",
   "execution_count": 3,
   "id": "d4f84e41",
   "metadata": {},
   "outputs": [],
   "source": [
    "import requests\n",
    "\n",
    "import sys\n",
    "sys.path.append('../../00.Tools')\n",
    "import UA\n",
    "import Proxy\n",
    "\n",
    "from io import BytesIO\n",
    "from openpyxl.drawing.image import Image"
   ]
  },
  {
   "cell_type": "code",
   "execution_count": 4,
   "id": "530f732d",
   "metadata": {},
   "outputs": [
    {
     "data": {
      "text/plain": [
       "<openpyxl.drawing.image.Image at 0x116185c10>"
      ]
     },
     "execution_count": 4,
     "metadata": {},
     "output_type": "execute_result"
    }
   ],
   "source": [
    "a = 1\n",
    "\n",
    "src = ws.cell(a+1, column_src).value\n",
    "\n",
    "pic = Image(BytesIO(requests.get(src,\n",
    "                                 headers=UA.get_User_Agent_Requests(),\n",
    "                                 proxies=Proxy.get_Proxy_Requests()).content))\n",
    "\n",
    "pic"
   ]
  },
  {
   "cell_type": "code",
   "execution_count": 5,
   "id": "3324e9aa",
   "metadata": {},
   "outputs": [
    {
     "data": {
      "text/plain": [
       "(50.0, 50.0)"
      ]
     },
     "execution_count": 5,
     "metadata": {},
     "output_type": "execute_result"
    }
   ],
   "source": [
    "if pic.width > pic.height:\n",
    "    pic.height = 50.0 / pic.width * pic.height\n",
    "    pic.width = 50.0\n",
    "else:\n",
    "    pic.width = 50.0 / pic.height * pic.width\n",
    "    pic.height = 50.0\n",
    "    \n",
    "pic.width, pic.height"
   ]
  },
  {
   "cell_type": "code",
   "execution_count": null,
   "id": "f06fb5c5",
   "metadata": {},
   "outputs": [],
   "source": [
    "ws.add_image(pic, get_column_letter(column_pic) + str(a+1))\n",
    "\n",
    "print('输出ing...')\n",
    "print()\n",
    "wb.save('./test_crawler.xlsx')\n",
    "print('Done ~')"
   ]
  },
  {
   "cell_type": "code",
   "execution_count": null,
   "id": "22d4f3db",
   "metadata": {},
   "outputs": [],
   "source": []
  }
 ],
 "metadata": {
  "kernelspec": {
   "display_name": "Python 3 (ipykernel)",
   "language": "python",
   "name": "python3"
  },
  "language_info": {
   "codemirror_mode": {
    "name": "ipython",
    "version": 3
   },
   "file_extension": ".py",
   "mimetype": "text/x-python",
   "name": "python",
   "nbconvert_exporter": "python",
   "pygments_lexer": "ipython3",
   "version": "3.11.3"
  }
 },
 "nbformat": 4,
 "nbformat_minor": 5
}
