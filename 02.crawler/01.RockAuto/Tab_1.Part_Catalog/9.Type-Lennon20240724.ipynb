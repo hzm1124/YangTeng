{
 "cells": [
  {
   "cell_type": "code",
   "execution_count": 1,
   "id": "bff3c897-274a-47ee-95aa-2d01ccdc0477",
   "metadata": {},
   "outputs": [],
   "source": [
    "param_date = '20240715'"
   ]
  },
  {
   "cell_type": "code",
   "execution_count": 2,
   "id": "c4d2a012-19cf-4373-aadb-f213243b4472",
   "metadata": {},
   "outputs": [],
   "source": [
    "import os\n",
    "\n",
    "os.makedirs(f'./{param_date}/9.type')\n",
    "os.makedirs(f'./{param_date}/10.part_1')\n",
    "os.makedirs(f'./{param_date}/10.part_1/0.error')"
   ]
  },
  {
   "cell_type": "code",
   "execution_count": 3,
   "id": "cac1dec3-1b19-4eab-89ff-fe129fcde046",
   "metadata": {
    "scrolled": true
   },
   "outputs": [
    {
     "data": {
      "text/plain": [
       "['make_1.ABARTH.xlsx',\n",
       " 'make_10.AMERICAN AUSTIN.xlsx',\n",
       " 'make_100.GOLIATH.xlsx',\n",
       " 'make_101.GORDON-KEEBLE.xlsx',\n",
       " 'make_102.GRAHAM.xlsx',\n",
       " 'make_103.GRAHAM-PAIGE.xlsx',\n",
       " 'make_104.GRIFFITH.xlsx',\n",
       " 'make_105.HEALEY.xlsx',\n",
       " 'make_106.HENRY J.xlsx',\n",
       " 'make_107.HILLMAN.xlsx',\n",
       " 'make_108.HINO.xlsx',\n",
       " 'make_109.HISPANO-SUIZA.xlsx',\n",
       " 'make_11.AMERICAN BANTAM.xlsx',\n",
       " 'make_110.HONDA-serial_1.xlsx',\n",
       " 'make_110.HONDA-serial_2.xlsx',\n",
       " 'make_111.HOTCHKISS.xlsx',\n",
       " 'make_112.HRG.xlsx',\n",
       " 'make_113.HUDSON.xlsx',\n",
       " 'make_114.HUMBER.xlsx',\n",
       " 'make_115.HUMMER.xlsx',\n",
       " 'make_116.HUPMOBILE.xlsx',\n",
       " 'make_117.HYUNDAI-serial_1.xlsx',\n",
       " 'make_117.HYUNDAI-serial_2.xlsx',\n",
       " 'make_118.INFINITI.xlsx',\n",
       " 'make_119.INTERNATIONAL-serial_1.xlsx',\n",
       " 'make_119.INTERNATIONAL-serial_2.xlsx',\n",
       " 'make_119.INTERNATIONAL-serial_3.xlsx',\n",
       " 'make_119.INTERNATIONAL-serial_4.xlsx',\n",
       " 'make_12.AMERICAN MOTORS.xlsx',\n",
       " 'make_120.ISO.xlsx',\n",
       " 'make_121.ISUZU.xlsx',\n",
       " 'make_122.IVECO.xlsx',\n",
       " 'make_123.JAC.xlsx',\n",
       " 'make_124.JAGUAR.xlsx',\n",
       " 'make_125.JEEP-serial_1.xlsx',\n",
       " 'make_125.JEEP-serial_2.xlsx',\n",
       " 'make_125.JEEP-serial_3.xlsx',\n",
       " 'make_126.JENSEN.xlsx',\n",
       " 'make_127.JEWETT.xlsx',\n",
       " 'make_128.JMC.xlsx',\n",
       " 'make_129.JORDAN.xlsx',\n",
       " 'make_13.AMPHICAR.xlsx',\n",
       " 'make_130.JOWETT.xlsx',\n",
       " 'make_131.KAISER-FRAZER.xlsx',\n",
       " 'make_132.KARMA.xlsx',\n",
       " 'make_133.KENWORTH.xlsx',\n",
       " 'make_134.KIA.xlsx',\n",
       " 'make_135.KISSEL.xlsx',\n",
       " 'make_136.KURTIS.xlsx',\n",
       " 'make_137.LADA.xlsx',\n",
       " 'make_138.LAFORZA.xlsx',\n",
       " 'make_139.LAGONDA.xlsx',\n",
       " 'make_14.APOLLO.xlsx',\n",
       " 'make_140.LAMBORGHINI.xlsx',\n",
       " 'make_141.LANCHESTER.xlsx',\n",
       " 'make_142.LANCIA.xlsx',\n",
       " 'make_143.LAND ROVER.xlsx',\n",
       " 'make_144.LASALLE.xlsx',\n",
       " 'make_145.LEA-FRANCIS.xlsx',\n",
       " 'make_146.LEXINGTON.xlsx',\n",
       " 'make_147.LEXUS.xlsx',\n",
       " 'make_148.LINCOLN.xlsx',\n",
       " 'make_149.LORDSTOWN MOTORS.xlsx',\n",
       " 'make_15.ARMSTRONG-SIDDELEY.xlsx',\n",
       " 'make_150.LOTUS.xlsx',\n",
       " 'make_151.LUCID.xlsx',\n",
       " 'make_152.MACK.xlsx',\n",
       " 'make_153.MAICO.xlsx',\n",
       " 'make_154.MARATHON.xlsx',\n",
       " 'make_155.MARAUDER.xlsx',\n",
       " 'make_156.MARCOS.xlsx',\n",
       " 'make_157.MARMON.xlsx',\n",
       " 'make_158.MASERATI.xlsx',\n",
       " 'make_159.MASTRETTA.xlsx',\n",
       " 'make_16.ARNOLT-BRISTOL.xlsx',\n",
       " 'make_160.MATRA.xlsx',\n",
       " 'make_161.MAXWELL.xlsx',\n",
       " 'make_162.MAYBACH.xlsx',\n",
       " 'make_163.MAZDA-serial_1.xlsx',\n",
       " 'make_163.MAZDA-serial_2.xlsx',\n",
       " 'make_164.MCLAREN.xlsx',\n",
       " 'make_165.MERCEDES-BENZ-serial_1.xlsx',\n",
       " 'make_165.MERCEDES-BENZ-serial_2.xlsx',\n",
       " 'make_165.MERCEDES-BENZ-serial_3.xlsx',\n",
       " 'make_165.MERCEDES-BENZ-serial_4.xlsx',\n",
       " 'make_166.MERCURY-serial_1.xlsx',\n",
       " 'make_166.MERCURY-serial_2.xlsx',\n",
       " 'make_166.MERCURY-serial_3.xlsx',\n",
       " 'make_167.MERKUR.xlsx',\n",
       " 'make_168.MESSERSCHMITT.xlsx',\n",
       " 'make_169.MG.xlsx',\n",
       " 'make_17.ARNOLT-MG.xlsx',\n",
       " 'make_170.MINI.xlsx',\n",
       " 'make_171.MITSUBISHI-serial_1.xlsx',\n",
       " 'make_171.MITSUBISHI-serial_2.xlsx',\n",
       " 'make_172.MITSUBISHI FUSO.xlsx',\n",
       " 'make_173.MOBILITY VENTURES.xlsx',\n",
       " 'make_174.MONTEVERDI.xlsx',\n",
       " 'make_175.MOON.xlsx',\n",
       " 'make_176.MORETTI.xlsx',\n",
       " 'make_177.MORGAN.xlsx',\n",
       " 'make_178.MORRIS.xlsx',\n",
       " 'make_179.MOSKVICH.xlsx',\n",
       " 'make_18.ASTON MARTIN.xlsx',\n",
       " 'make_180.NARDI.xlsx',\n",
       " 'make_181.NASH.xlsx',\n",
       " 'make_182.NISSAN-serial_1.xlsx',\n",
       " 'make_182.NISSAN-serial_2.xlsx',\n",
       " 'make_182.NISSAN-serial_3.xlsx',\n",
       " 'make_183.NSU.xlsx',\n",
       " 'make_184.OAKLAND.xlsx',\n",
       " 'make_185.OLDSMOBILE-serial_1.xlsx',\n",
       " 'make_185.OLDSMOBILE-serial_2.xlsx',\n",
       " 'make_186.OMEGA.xlsx',\n",
       " 'make_187.OPEL.xlsx',\n",
       " 'make_188.OSCA.xlsx',\n",
       " 'make_189.PACKARD.xlsx',\n",
       " 'make_19.ASUNA.xlsx',\n",
       " 'make_190.PAIGE.xlsx',\n",
       " 'make_191.PANHARD.xlsx',\n",
       " 'make_192.PANOZ.xlsx',\n",
       " 'make_193.PANTHER.xlsx',\n",
       " 'make_194.PASSPORT.xlsx',\n",
       " 'make_195.PEERLESS.xlsx',\n",
       " 'make_196.PEGASO.xlsx',\n",
       " 'make_197.PETERBILT.xlsx',\n",
       " 'make_198.PEUGEOT.xlsx',\n",
       " 'make_199.PIERCE-ARROW.xlsx',\n",
       " 'make_2.AC.xlsx',\n",
       " 'make_20.AUBURN.xlsx',\n",
       " 'make_200.PLYMOUTH-serial_1.xlsx',\n",
       " 'make_200.PLYMOUTH-serial_2.xlsx',\n",
       " 'make_200.PLYMOUTH-serial_3.xlsx',\n",
       " 'make_201.POLESTAR.xlsx',\n",
       " 'make_202.PONTIAC-serial_1.xlsx',\n",
       " 'make_202.PONTIAC-serial_2.xlsx',\n",
       " 'make_202.PONTIAC-serial_3.xlsx',\n",
       " 'make_203.PORSCHE-serial_1.xlsx',\n",
       " 'make_203.PORSCHE-serial_2.xlsx',\n",
       " 'make_204.QVALE.xlsx',\n",
       " 'make_205.RAM.xlsx',\n",
       " 'make_206.RELIANT.xlsx',\n",
       " 'make_207.RENAULT.xlsx',\n",
       " 'make_208.REO.xlsx',\n",
       " 'make_209.RICKENBACKER.xlsx',\n",
       " 'make_21.AUDI-serial_1.xlsx',\n",
       " 'make_21.AUDI-serial_2.xlsx',\n",
       " 'make_210.RILEY.xlsx',\n",
       " 'make_211.RIVIAN.xlsx',\n",
       " 'make_212.ROAMER.xlsx',\n",
       " 'make_213.ROCKNE.xlsx',\n",
       " 'make_214.ROLLS-ROYCE.xlsx',\n",
       " 'make_215.ROVER.xlsx',\n",
       " 'make_216.SAAB.xlsx',\n",
       " 'make_217.SABRA.xlsx',\n",
       " 'make_218.SALEEN.xlsx',\n",
       " 'make_219.SALMSON.xlsx',\n",
       " 'make_22.AUSTIN.xlsx',\n",
       " 'make_220.SATURN.xlsx',\n",
       " 'make_221.SCION.xlsx',\n",
       " 'make_222.SEAT.xlsx',\n",
       " 'make_223.SHELBY.xlsx',\n",
       " 'make_224.SIATA.xlsx',\n",
       " 'make_225.SIMCA.xlsx',\n",
       " 'make_226.SINGER.xlsx',\n",
       " 'make_227.SKODA.xlsx',\n",
       " 'make_228.SMART.xlsx',\n",
       " 'make_229.SPYKER.xlsx',\n",
       " 'make_23.AUSTIN-HEALEY.xlsx',\n",
       " 'make_230.SRT.xlsx',\n",
       " 'make_231.SSANGYONG.xlsx',\n",
       " 'make_232.STANDARD.xlsx',\n",
       " 'make_233.STAR.xlsx',\n",
       " 'make_234.STEARNS KNIGHT.xlsx',\n",
       " 'make_235.STERLING.xlsx',\n",
       " 'make_236.STEVENS-DURYEA.xlsx',\n",
       " 'make_237.STUDEBAKER.xlsx',\n",
       " 'make_238.STUTZ.xlsx',\n",
       " 'make_239.SUBARU.xlsx',\n",
       " 'make_24.AVANTI.xlsx',\n",
       " 'make_240.SUNBEAM.xlsx',\n",
       " 'make_241.SUZUKI.xlsx',\n",
       " 'make_242.SWALLOW.xlsx',\n",
       " 'make_243.TALBOT-LAGO.xlsx',\n",
       " 'make_244.TATRA.xlsx',\n",
       " 'make_245.TESLA.xlsx',\n",
       " 'make_246.THINK.xlsx',\n",
       " 'make_247.TOYOTA-serial_1.xlsx',\n",
       " 'make_247.TOYOTA-serial_2.xlsx',\n",
       " 'make_247.TOYOTA-serial_3.xlsx',\n",
       " 'make_248.TRIUMPH.xlsx',\n",
       " 'make_249.TURNER.xlsx',\n",
       " 'make_25.BAIC.xlsx',\n",
       " 'make_250.TVR.xlsx',\n",
       " 'make_251.UAZ.xlsx',\n",
       " 'make_252.UD.xlsx',\n",
       " 'make_253.UTILIMASTER.xlsx',\n",
       " 'make_254.VAM.xlsx',\n",
       " 'make_255.VAUXHALL.xlsx',\n",
       " 'make_256.VESPA.xlsx',\n",
       " 'make_257.VINFAST.xlsx',\n",
       " 'make_258.VOLKSWAGEN-serial_1.xlsx',\n",
       " 'make_258.VOLKSWAGEN-serial_2.xlsx',\n",
       " 'make_258.VOLKSWAGEN-serial_3.xlsx',\n",
       " 'make_259.VOLVO-serial_1.xlsx',\n",
       " 'make_259.VOLVO-serial_2.xlsx',\n",
       " 'make_26.BENTLEY.xlsx',\n",
       " 'make_260.VPG.xlsx',\n",
       " 'make_261.WARTBURG.xlsx',\n",
       " 'make_262.WESTCOTT.xlsx',\n",
       " 'make_263.WHIPPET.xlsx',\n",
       " 'make_264.WILLYS.xlsx',\n",
       " 'make_265.WINDSOR.xlsx',\n",
       " 'make_266.WOLSELEY.xlsx',\n",
       " 'make_267.WORKHORSE.xlsx',\n",
       " 'make_268.YELLOW CAB.xlsx',\n",
       " 'make_269.YUGO.xlsx',\n",
       " 'make_27.BERKELEY.xlsx',\n",
       " 'make_270.ZACUA.xlsx',\n",
       " 'make_271.ZUNDAPP.xlsx',\n",
       " 'make_28.BIZZARRINI.xlsx',\n",
       " 'make_29.BMW-serial_1.xlsx',\n",
       " 'make_29.BMW-serial_2.xlsx',\n",
       " 'make_29.BMW-serial_3.xlsx',\n",
       " 'make_3.ACURA.xlsx',\n",
       " 'make_30.BOND.xlsx',\n",
       " 'make_31.BORGWARD.xlsx',\n",
       " 'make_32.BRICKLIN.xlsx',\n",
       " 'make_33.BRIGHTDROP.xlsx',\n",
       " 'make_34.BRISTOL.xlsx',\n",
       " 'make_35.BUGATTI.xlsx',\n",
       " 'make_36.BUICK-serial_1.xlsx',\n",
       " 'make_36.BUICK-serial_2.xlsx',\n",
       " 'make_37.CADILLAC-serial_1.xlsx',\n",
       " 'make_37.CADILLAC-serial_2.xlsx',\n",
       " 'make_38.CASE.xlsx',\n",
       " 'make_39.CHANGAN.xlsx',\n",
       " 'make_4.ALFA ROMEO.xlsx',\n",
       " 'make_40.CHECKER.xlsx',\n",
       " 'make_41.CHEVROLET-serial_1.xlsx',\n",
       " 'make_41.CHEVROLET-serial_10.xlsx',\n",
       " 'make_41.CHEVROLET-serial_11.xlsx',\n",
       " 'make_41.CHEVROLET-serial_12.xlsx',\n",
       " 'make_41.CHEVROLET-serial_2.xlsx',\n",
       " 'make_41.CHEVROLET-serial_3-20240725_102550.xlsx',\n",
       " 'make_41.CHEVROLET-serial_4-20240725_111203.xlsx',\n",
       " 'make_41.CHEVROLET-serial_5-20240725_115637.xlsx',\n",
       " 'make_41.CHEVROLET-serial_6-20240725_124804.xlsx',\n",
       " 'make_41.CHEVROLET-serial_7-20240725_133228.xlsx',\n",
       " 'make_41.CHEVROLET-serial_8-20240725_142852.xlsx',\n",
       " 'make_41.CHEVROLET-serial_9-20240725_150707.xlsx',\n",
       " 'make_42.CHIREY-20240725_150741.xlsx',\n",
       " 'make_43.CHRYSLER-serial_1-20240725_154633.xlsx',\n",
       " 'make_43.CHRYSLER-serial_2-20240725_162028.xlsx',\n",
       " 'make_44.CISITALIA-20240725_162102.xlsx',\n",
       " 'make_45.CITROEN-20240725_162312.xlsx',\n",
       " 'make_46.COLE-20240725_162333.xlsx',\n",
       " 'make_47.CONTINENTAL-20240725_162342.xlsx',\n",
       " 'make_48.CORD-20240725_162403.xlsx',\n",
       " 'make_49.CROSLEY-20240725_162453.xlsx',\n",
       " 'make_5.ALLARD-20240725_162626.xlsx',\n",
       " 'make_50.CUNNINGHAM-20240725_162645.xlsx',\n",
       " 'make_51.CUPRA-20240725_162711.xlsx',\n",
       " 'make_52.DAEWOO-20240725_162830.xlsx',\n",
       " 'make_53.DAF-20240725_162918.xlsx',\n",
       " 'make_54.DAIHATSU-20240725_163018.xlsx',\n",
       " 'make_55.DAIMLER-20240725_163124.xlsx',\n",
       " 'make_56.DATSUN-20240725_163220.xlsx',\n",
       " 'make_57.DELAGE-20240725_163234.xlsx',\n",
       " 'make_58.DELAHAYE-20240725_163255.xlsx',\n",
       " 'make_59.DELLOW-20240725_163319.xlsx',\n",
       " 'make_6.ALLSTATE-20240725_163349.xlsx',\n",
       " 'make_60.DELOREAN-20240725_163414.xlsx',\n",
       " 'make_61.DENZEL-20240725_163440.xlsx',\n",
       " 'make_62.DESOTO-20240725_163731.xlsx',\n",
       " 'make_63.DETOMASO-20240725_163817.xlsx',\n",
       " 'make_64.DEUTSCH-BONNET-20240725_163829.xlsx',\n",
       " 'make_65.DIANA-20240725_163843.xlsx',\n",
       " 'make_66.DKW-20240725_163911.xlsx',\n",
       " 'make_67.DODGE-serial_1-20240725_172226.xlsx',\n",
       " 'make_67.DODGE-serial_2-20240725_180235.xlsx',\n",
       " 'make_67.DODGE-serial_3-20240725_184706.xlsx',\n",
       " 'make_67.DODGE-serial_4-20240725_192653.xlsx',\n",
       " 'make_67.DODGE-serial_5-20240725_200540.xlsx',\n",
       " 'make_67.DODGE-serial_6-20240725_204737.xlsx',\n",
       " 'make_67.DODGE-serial_7-20240725_211136.xlsx',\n",
       " 'make_68.DORETTI-20240725_211210.xlsx',\n",
       " 'make_69.DU PONT-20240725_211223.xlsx',\n",
       " 'make_7.ALPINE-20240725_211250.xlsx',\n",
       " 'make_70.DUAL-GHIA-20240725_211315.xlsx',\n",
       " 'make_71.DUESENBERG-20240725_211335.xlsx',\n",
       " 'make_72.DURANT-20240725_211358.xlsx',\n",
       " 'make_73.EAGLE-20240725_211921.xlsx',\n",
       " 'make_74.EDSEL-20240725_212123.xlsx',\n",
       " 'make_75.ELCAR-20240725_212138.xlsx',\n",
       " 'make_76.ELVA-20240725_212205.xlsx',\n",
       " 'make_77.ERSKINE-20240725_212215.xlsx',\n",
       " 'make_78.ESSEX-20240725_212236.xlsx',\n",
       " 'make_79.EXCALIBUR-20240725_212345.xlsx',\n",
       " 'make_8.ALVIS-20240725_212420.xlsx',\n",
       " 'make_80.FACEL VEGA-20240725_212508.xlsx',\n",
       " 'make_81.FAIRTHORPE-20240725_212541.xlsx',\n",
       " 'make_82.FALCON KNIGHT-20240725_212552.xlsx',\n",
       " 'make_83.FARGO-20240725_214328.xlsx',\n",
       " 'make_84.FAW-20240725_214349.xlsx',\n",
       " 'make_85.FERRARI-20240725_215700.xlsx',\n",
       " 'make_86.FIAT-20240725_221158.xlsx',\n",
       " 'make_87.FISKER-20240725_221237.xlsx',\n",
       " 'make_88.FLINT-20240725_221252.xlsx',\n",
       " 'make_89.FORD-serial_1-20240725_224932.xlsx',\n",
       " 'make_89.FORD-serial_10-20240725_233620.xlsx',\n",
       " 'make_89.FORD-serial_11-20240726_001257.xlsx',\n",
       " 'make_89.FORD-serial_12-20240726_002210.xlsx',\n",
       " 'make_89.FORD-serial_2-20240726_005841.xlsx',\n",
       " 'make_89.FORD-serial_3-20240726_014311.xlsx',\n",
       " 'make_89.FORD-serial_4-20240726_022512.xlsx',\n",
       " 'make_89.FORD-serial_5-20240726_031711.xlsx',\n",
       " 'make_89.FORD-serial_6-20240726_040123.xlsx',\n",
       " 'make_89.FORD-serial_7-20240726_044121.xlsx',\n",
       " 'make_89.FORD-serial_8-20240726_053348.xlsx',\n",
       " 'make_89.FORD-serial_9-20240726_061551.xlsx',\n",
       " 'make_9.AM GENERAL-20240726_061659.xlsx',\n",
       " 'make_90.FOTON-20240726_061711.xlsx',\n",
       " 'make_91.FRANKLIN-20240726_061742.xlsx',\n",
       " 'make_92.FRAZER NASH-20240726_061821.xlsx',\n",
       " 'make_93.FREIGHTLINER-20240726_063915.xlsx',\n",
       " 'make_94.GARDNER-20240726_063935.xlsx',\n",
       " 'make_95.GENESIS-20240726_064256.xlsx',\n",
       " 'make_96.GEO-20240726_064642.xlsx',\n",
       " 'make_97.GIANT MOTORS-20240726_064700.xlsx',\n",
       " 'make_98.GLAS-20240726_064723.xlsx',\n",
       " 'make_99.GMC-serial_1-20240726_072940.xlsx',\n",
       " 'make_99.GMC-serial_2-20240726_081340.xlsx',\n",
       " 'make_99.GMC-serial_3-20240726_085950.xlsx',\n",
       " 'make_99.GMC-serial_4-20240726_094513.xlsx',\n",
       " 'make_99.GMC-serial_5-20240726_102520.xlsx',\n",
       " 'make_99.GMC-serial_6-20240726_111944.xlsx',\n",
       " 'make_99.GMC-serial_7-20240726_120719.xlsx',\n",
       " 'make_99.GMC-serial_8-20240726_121225.xlsx']"
      ]
     },
     "execution_count": 3,
     "metadata": {},
     "output_type": "execute_result"
    }
   ],
   "source": [
    "list_file = sorted(list(os.walk(f'./{param_date}/8.type_1'))[0][2])\n",
    "while '.DS_Store' in list_file:\n",
    "    list_file.remove('.DS_Store')\n",
    "while '0.null.txt' in list_file:\n",
    "    list_file.remove('0.null.txt')\n",
    "\n",
    "list_file"
   ]
  },
  {
   "cell_type": "code",
   "execution_count": 4,
   "id": "ce264dd1-e040-4d26-9aef-227b4533cca5",
   "metadata": {},
   "outputs": [
    {
     "name": "stderr",
     "output_type": "stream",
     "text": [
      "Progress: 100%|█████████████████████████| 339/339 [00:00<00:00, 10216.93it/s]"
     ]
    },
    {
     "name": "stdout",
     "output_type": "stream",
     "text": [
      "Done ~\n"
     ]
    },
    {
     "name": "stderr",
     "output_type": "stream",
     "text": [
      "\n"
     ]
    }
   ],
   "source": [
    "from tqdm import tqdm\n",
    "import re\n",
    "\n",
    "for file in tqdm(list_file, desc='Progress', ncols=77):\n",
    "    os.rename(f'./{param_date}/8.type_1/{file}',\n",
    "              f'''./{param_date}/8.type_1/{re.sub(r'-[0-9]{8}_[0-9]{6}.xlsx$', '.xlsx', file)}''')\n",
    "\n",
    "print('Done ~')"
   ]
  },
  {
   "cell_type": "code",
   "execution_count": 5,
   "id": "b5faeccf-4276-4a39-853f-dbcd34f2251e",
   "metadata": {
    "scrolled": true
   },
   "outputs": [
    {
     "data": {
      "text/plain": [
       "['make_1.ABARTH.xlsx',\n",
       " 'make_10.AMERICAN AUSTIN.xlsx',\n",
       " 'make_100.GOLIATH.xlsx',\n",
       " 'make_101.GORDON-KEEBLE.xlsx',\n",
       " 'make_102.GRAHAM.xlsx',\n",
       " 'make_103.GRAHAM-PAIGE.xlsx',\n",
       " 'make_104.GRIFFITH.xlsx',\n",
       " 'make_105.HEALEY.xlsx',\n",
       " 'make_106.HENRY J.xlsx',\n",
       " 'make_107.HILLMAN.xlsx',\n",
       " 'make_108.HINO.xlsx',\n",
       " 'make_109.HISPANO-SUIZA.xlsx',\n",
       " 'make_11.AMERICAN BANTAM.xlsx',\n",
       " 'make_110.HONDA-serial_1.xlsx',\n",
       " 'make_110.HONDA-serial_2.xlsx',\n",
       " 'make_111.HOTCHKISS.xlsx',\n",
       " 'make_112.HRG.xlsx',\n",
       " 'make_113.HUDSON.xlsx',\n",
       " 'make_114.HUMBER.xlsx',\n",
       " 'make_115.HUMMER.xlsx',\n",
       " 'make_116.HUPMOBILE.xlsx',\n",
       " 'make_117.HYUNDAI-serial_1.xlsx',\n",
       " 'make_117.HYUNDAI-serial_2.xlsx',\n",
       " 'make_118.INFINITI.xlsx',\n",
       " 'make_119.INTERNATIONAL-serial_1.xlsx',\n",
       " 'make_119.INTERNATIONAL-serial_2.xlsx',\n",
       " 'make_119.INTERNATIONAL-serial_3.xlsx',\n",
       " 'make_119.INTERNATIONAL-serial_4.xlsx',\n",
       " 'make_12.AMERICAN MOTORS.xlsx',\n",
       " 'make_120.ISO.xlsx',\n",
       " 'make_121.ISUZU.xlsx',\n",
       " 'make_122.IVECO.xlsx',\n",
       " 'make_123.JAC.xlsx',\n",
       " 'make_124.JAGUAR.xlsx',\n",
       " 'make_125.JEEP-serial_1.xlsx',\n",
       " 'make_125.JEEP-serial_2.xlsx',\n",
       " 'make_125.JEEP-serial_3.xlsx',\n",
       " 'make_126.JENSEN.xlsx',\n",
       " 'make_127.JEWETT.xlsx',\n",
       " 'make_128.JMC.xlsx',\n",
       " 'make_129.JORDAN.xlsx',\n",
       " 'make_13.AMPHICAR.xlsx',\n",
       " 'make_130.JOWETT.xlsx',\n",
       " 'make_131.KAISER-FRAZER.xlsx',\n",
       " 'make_132.KARMA.xlsx',\n",
       " 'make_133.KENWORTH.xlsx',\n",
       " 'make_134.KIA.xlsx',\n",
       " 'make_135.KISSEL.xlsx',\n",
       " 'make_136.KURTIS.xlsx',\n",
       " 'make_137.LADA.xlsx',\n",
       " 'make_138.LAFORZA.xlsx',\n",
       " 'make_139.LAGONDA.xlsx',\n",
       " 'make_14.APOLLO.xlsx',\n",
       " 'make_140.LAMBORGHINI.xlsx',\n",
       " 'make_141.LANCHESTER.xlsx',\n",
       " 'make_142.LANCIA.xlsx',\n",
       " 'make_143.LAND ROVER.xlsx',\n",
       " 'make_144.LASALLE.xlsx',\n",
       " 'make_145.LEA-FRANCIS.xlsx',\n",
       " 'make_146.LEXINGTON.xlsx',\n",
       " 'make_147.LEXUS.xlsx',\n",
       " 'make_148.LINCOLN.xlsx',\n",
       " 'make_149.LORDSTOWN MOTORS.xlsx',\n",
       " 'make_15.ARMSTRONG-SIDDELEY.xlsx',\n",
       " 'make_150.LOTUS.xlsx',\n",
       " 'make_151.LUCID.xlsx',\n",
       " 'make_152.MACK.xlsx',\n",
       " 'make_153.MAICO.xlsx',\n",
       " 'make_154.MARATHON.xlsx',\n",
       " 'make_155.MARAUDER.xlsx',\n",
       " 'make_156.MARCOS.xlsx',\n",
       " 'make_157.MARMON.xlsx',\n",
       " 'make_158.MASERATI.xlsx',\n",
       " 'make_159.MASTRETTA.xlsx',\n",
       " 'make_16.ARNOLT-BRISTOL.xlsx',\n",
       " 'make_160.MATRA.xlsx',\n",
       " 'make_161.MAXWELL.xlsx',\n",
       " 'make_162.MAYBACH.xlsx',\n",
       " 'make_163.MAZDA-serial_1.xlsx',\n",
       " 'make_163.MAZDA-serial_2.xlsx',\n",
       " 'make_164.MCLAREN.xlsx',\n",
       " 'make_165.MERCEDES-BENZ-serial_1.xlsx',\n",
       " 'make_165.MERCEDES-BENZ-serial_2.xlsx',\n",
       " 'make_165.MERCEDES-BENZ-serial_3.xlsx',\n",
       " 'make_165.MERCEDES-BENZ-serial_4.xlsx',\n",
       " 'make_166.MERCURY-serial_1.xlsx',\n",
       " 'make_166.MERCURY-serial_2.xlsx',\n",
       " 'make_166.MERCURY-serial_3.xlsx',\n",
       " 'make_167.MERKUR.xlsx',\n",
       " 'make_168.MESSERSCHMITT.xlsx',\n",
       " 'make_169.MG.xlsx',\n",
       " 'make_17.ARNOLT-MG.xlsx',\n",
       " 'make_170.MINI.xlsx',\n",
       " 'make_171.MITSUBISHI-serial_1.xlsx',\n",
       " 'make_171.MITSUBISHI-serial_2.xlsx',\n",
       " 'make_172.MITSUBISHI FUSO.xlsx',\n",
       " 'make_173.MOBILITY VENTURES.xlsx',\n",
       " 'make_174.MONTEVERDI.xlsx',\n",
       " 'make_175.MOON.xlsx',\n",
       " 'make_176.MORETTI.xlsx',\n",
       " 'make_177.MORGAN.xlsx',\n",
       " 'make_178.MORRIS.xlsx',\n",
       " 'make_179.MOSKVICH.xlsx',\n",
       " 'make_18.ASTON MARTIN.xlsx',\n",
       " 'make_180.NARDI.xlsx',\n",
       " 'make_181.NASH.xlsx',\n",
       " 'make_182.NISSAN-serial_1.xlsx',\n",
       " 'make_182.NISSAN-serial_2.xlsx',\n",
       " 'make_182.NISSAN-serial_3.xlsx',\n",
       " 'make_183.NSU.xlsx',\n",
       " 'make_184.OAKLAND.xlsx',\n",
       " 'make_185.OLDSMOBILE-serial_1.xlsx',\n",
       " 'make_185.OLDSMOBILE-serial_2.xlsx',\n",
       " 'make_186.OMEGA.xlsx',\n",
       " 'make_187.OPEL.xlsx',\n",
       " 'make_188.OSCA.xlsx',\n",
       " 'make_189.PACKARD.xlsx',\n",
       " 'make_19.ASUNA.xlsx',\n",
       " 'make_190.PAIGE.xlsx',\n",
       " 'make_191.PANHARD.xlsx',\n",
       " 'make_192.PANOZ.xlsx',\n",
       " 'make_193.PANTHER.xlsx',\n",
       " 'make_194.PASSPORT.xlsx',\n",
       " 'make_195.PEERLESS.xlsx',\n",
       " 'make_196.PEGASO.xlsx',\n",
       " 'make_197.PETERBILT.xlsx',\n",
       " 'make_198.PEUGEOT.xlsx',\n",
       " 'make_199.PIERCE-ARROW.xlsx',\n",
       " 'make_2.AC.xlsx',\n",
       " 'make_20.AUBURN.xlsx',\n",
       " 'make_200.PLYMOUTH-serial_1.xlsx',\n",
       " 'make_200.PLYMOUTH-serial_2.xlsx',\n",
       " 'make_200.PLYMOUTH-serial_3.xlsx',\n",
       " 'make_201.POLESTAR.xlsx',\n",
       " 'make_202.PONTIAC-serial_1.xlsx',\n",
       " 'make_202.PONTIAC-serial_2.xlsx',\n",
       " 'make_202.PONTIAC-serial_3.xlsx',\n",
       " 'make_203.PORSCHE-serial_1.xlsx',\n",
       " 'make_203.PORSCHE-serial_2.xlsx',\n",
       " 'make_204.QVALE.xlsx',\n",
       " 'make_205.RAM.xlsx',\n",
       " 'make_206.RELIANT.xlsx',\n",
       " 'make_207.RENAULT.xlsx',\n",
       " 'make_208.REO.xlsx',\n",
       " 'make_209.RICKENBACKER.xlsx',\n",
       " 'make_21.AUDI-serial_1.xlsx',\n",
       " 'make_21.AUDI-serial_2.xlsx',\n",
       " 'make_210.RILEY.xlsx',\n",
       " 'make_211.RIVIAN.xlsx',\n",
       " 'make_212.ROAMER.xlsx',\n",
       " 'make_213.ROCKNE.xlsx',\n",
       " 'make_214.ROLLS-ROYCE.xlsx',\n",
       " 'make_215.ROVER.xlsx',\n",
       " 'make_216.SAAB.xlsx',\n",
       " 'make_217.SABRA.xlsx',\n",
       " 'make_218.SALEEN.xlsx',\n",
       " 'make_219.SALMSON.xlsx',\n",
       " 'make_22.AUSTIN.xlsx',\n",
       " 'make_220.SATURN.xlsx',\n",
       " 'make_221.SCION.xlsx',\n",
       " 'make_222.SEAT.xlsx',\n",
       " 'make_223.SHELBY.xlsx',\n",
       " 'make_224.SIATA.xlsx',\n",
       " 'make_225.SIMCA.xlsx',\n",
       " 'make_226.SINGER.xlsx',\n",
       " 'make_227.SKODA.xlsx',\n",
       " 'make_228.SMART.xlsx',\n",
       " 'make_229.SPYKER.xlsx',\n",
       " 'make_23.AUSTIN-HEALEY.xlsx',\n",
       " 'make_230.SRT.xlsx',\n",
       " 'make_231.SSANGYONG.xlsx',\n",
       " 'make_232.STANDARD.xlsx',\n",
       " 'make_233.STAR.xlsx',\n",
       " 'make_234.STEARNS KNIGHT.xlsx',\n",
       " 'make_235.STERLING.xlsx',\n",
       " 'make_236.STEVENS-DURYEA.xlsx',\n",
       " 'make_237.STUDEBAKER.xlsx',\n",
       " 'make_238.STUTZ.xlsx',\n",
       " 'make_239.SUBARU.xlsx',\n",
       " 'make_24.AVANTI.xlsx',\n",
       " 'make_240.SUNBEAM.xlsx',\n",
       " 'make_241.SUZUKI.xlsx',\n",
       " 'make_242.SWALLOW.xlsx',\n",
       " 'make_243.TALBOT-LAGO.xlsx',\n",
       " 'make_244.TATRA.xlsx',\n",
       " 'make_245.TESLA.xlsx',\n",
       " 'make_246.THINK.xlsx',\n",
       " 'make_247.TOYOTA-serial_1.xlsx',\n",
       " 'make_247.TOYOTA-serial_2.xlsx',\n",
       " 'make_247.TOYOTA-serial_3.xlsx',\n",
       " 'make_248.TRIUMPH.xlsx',\n",
       " 'make_249.TURNER.xlsx',\n",
       " 'make_25.BAIC.xlsx',\n",
       " 'make_250.TVR.xlsx',\n",
       " 'make_251.UAZ.xlsx',\n",
       " 'make_252.UD.xlsx',\n",
       " 'make_253.UTILIMASTER.xlsx',\n",
       " 'make_254.VAM.xlsx',\n",
       " 'make_255.VAUXHALL.xlsx',\n",
       " 'make_256.VESPA.xlsx',\n",
       " 'make_257.VINFAST.xlsx',\n",
       " 'make_258.VOLKSWAGEN-serial_1.xlsx',\n",
       " 'make_258.VOLKSWAGEN-serial_2.xlsx',\n",
       " 'make_258.VOLKSWAGEN-serial_3.xlsx',\n",
       " 'make_259.VOLVO-serial_1.xlsx',\n",
       " 'make_259.VOLVO-serial_2.xlsx',\n",
       " 'make_26.BENTLEY.xlsx',\n",
       " 'make_260.VPG.xlsx',\n",
       " 'make_261.WARTBURG.xlsx',\n",
       " 'make_262.WESTCOTT.xlsx',\n",
       " 'make_263.WHIPPET.xlsx',\n",
       " 'make_264.WILLYS.xlsx',\n",
       " 'make_265.WINDSOR.xlsx',\n",
       " 'make_266.WOLSELEY.xlsx',\n",
       " 'make_267.WORKHORSE.xlsx',\n",
       " 'make_268.YELLOW CAB.xlsx',\n",
       " 'make_269.YUGO.xlsx',\n",
       " 'make_27.BERKELEY.xlsx',\n",
       " 'make_270.ZACUA.xlsx',\n",
       " 'make_271.ZUNDAPP.xlsx',\n",
       " 'make_28.BIZZARRINI.xlsx',\n",
       " 'make_29.BMW-serial_1.xlsx',\n",
       " 'make_29.BMW-serial_2.xlsx',\n",
       " 'make_29.BMW-serial_3.xlsx',\n",
       " 'make_3.ACURA.xlsx',\n",
       " 'make_30.BOND.xlsx',\n",
       " 'make_31.BORGWARD.xlsx',\n",
       " 'make_32.BRICKLIN.xlsx',\n",
       " 'make_33.BRIGHTDROP.xlsx',\n",
       " 'make_34.BRISTOL.xlsx',\n",
       " 'make_35.BUGATTI.xlsx',\n",
       " 'make_36.BUICK-serial_1.xlsx',\n",
       " 'make_36.BUICK-serial_2.xlsx',\n",
       " 'make_37.CADILLAC-serial_1.xlsx',\n",
       " 'make_37.CADILLAC-serial_2.xlsx',\n",
       " 'make_38.CASE.xlsx',\n",
       " 'make_39.CHANGAN.xlsx',\n",
       " 'make_4.ALFA ROMEO.xlsx',\n",
       " 'make_40.CHECKER.xlsx',\n",
       " 'make_41.CHEVROLET-serial_1.xlsx',\n",
       " 'make_41.CHEVROLET-serial_10.xlsx',\n",
       " 'make_41.CHEVROLET-serial_11.xlsx',\n",
       " 'make_41.CHEVROLET-serial_12.xlsx',\n",
       " 'make_41.CHEVROLET-serial_2.xlsx',\n",
       " 'make_41.CHEVROLET-serial_3.xlsx',\n",
       " 'make_41.CHEVROLET-serial_4.xlsx',\n",
       " 'make_41.CHEVROLET-serial_5.xlsx',\n",
       " 'make_41.CHEVROLET-serial_6.xlsx',\n",
       " 'make_41.CHEVROLET-serial_7.xlsx',\n",
       " 'make_41.CHEVROLET-serial_8.xlsx',\n",
       " 'make_41.CHEVROLET-serial_9.xlsx',\n",
       " 'make_42.CHIREY.xlsx',\n",
       " 'make_43.CHRYSLER-serial_1.xlsx',\n",
       " 'make_43.CHRYSLER-serial_2.xlsx',\n",
       " 'make_44.CISITALIA.xlsx',\n",
       " 'make_45.CITROEN.xlsx',\n",
       " 'make_46.COLE.xlsx',\n",
       " 'make_47.CONTINENTAL.xlsx',\n",
       " 'make_48.CORD.xlsx',\n",
       " 'make_49.CROSLEY.xlsx',\n",
       " 'make_5.ALLARD.xlsx',\n",
       " 'make_50.CUNNINGHAM.xlsx',\n",
       " 'make_51.CUPRA.xlsx',\n",
       " 'make_52.DAEWOO.xlsx',\n",
       " 'make_53.DAF.xlsx',\n",
       " 'make_54.DAIHATSU.xlsx',\n",
       " 'make_55.DAIMLER.xlsx',\n",
       " 'make_56.DATSUN.xlsx',\n",
       " 'make_57.DELAGE.xlsx',\n",
       " 'make_58.DELAHAYE.xlsx',\n",
       " 'make_59.DELLOW.xlsx',\n",
       " 'make_6.ALLSTATE.xlsx',\n",
       " 'make_60.DELOREAN.xlsx',\n",
       " 'make_61.DENZEL.xlsx',\n",
       " 'make_62.DESOTO.xlsx',\n",
       " 'make_63.DETOMASO.xlsx',\n",
       " 'make_64.DEUTSCH-BONNET.xlsx',\n",
       " 'make_65.DIANA.xlsx',\n",
       " 'make_66.DKW.xlsx',\n",
       " 'make_67.DODGE-serial_1.xlsx',\n",
       " 'make_67.DODGE-serial_2.xlsx',\n",
       " 'make_67.DODGE-serial_3.xlsx',\n",
       " 'make_67.DODGE-serial_4.xlsx',\n",
       " 'make_67.DODGE-serial_5.xlsx',\n",
       " 'make_67.DODGE-serial_6.xlsx',\n",
       " 'make_67.DODGE-serial_7.xlsx',\n",
       " 'make_68.DORETTI.xlsx',\n",
       " 'make_69.DU PONT.xlsx',\n",
       " 'make_7.ALPINE.xlsx',\n",
       " 'make_70.DUAL-GHIA.xlsx',\n",
       " 'make_71.DUESENBERG.xlsx',\n",
       " 'make_72.DURANT.xlsx',\n",
       " 'make_73.EAGLE.xlsx',\n",
       " 'make_74.EDSEL.xlsx',\n",
       " 'make_75.ELCAR.xlsx',\n",
       " 'make_76.ELVA.xlsx',\n",
       " 'make_77.ERSKINE.xlsx',\n",
       " 'make_78.ESSEX.xlsx',\n",
       " 'make_79.EXCALIBUR.xlsx',\n",
       " 'make_8.ALVIS.xlsx',\n",
       " 'make_80.FACEL VEGA.xlsx',\n",
       " 'make_81.FAIRTHORPE.xlsx',\n",
       " 'make_82.FALCON KNIGHT.xlsx',\n",
       " 'make_83.FARGO.xlsx',\n",
       " 'make_84.FAW.xlsx',\n",
       " 'make_85.FERRARI.xlsx',\n",
       " 'make_86.FIAT.xlsx',\n",
       " 'make_87.FISKER.xlsx',\n",
       " 'make_88.FLINT.xlsx',\n",
       " 'make_89.FORD-serial_1.xlsx',\n",
       " 'make_89.FORD-serial_10.xlsx',\n",
       " 'make_89.FORD-serial_11.xlsx',\n",
       " 'make_89.FORD-serial_12.xlsx',\n",
       " 'make_89.FORD-serial_2.xlsx',\n",
       " 'make_89.FORD-serial_3.xlsx',\n",
       " 'make_89.FORD-serial_4.xlsx',\n",
       " 'make_89.FORD-serial_5.xlsx',\n",
       " 'make_89.FORD-serial_6.xlsx',\n",
       " 'make_89.FORD-serial_7.xlsx',\n",
       " 'make_89.FORD-serial_8.xlsx',\n",
       " 'make_89.FORD-serial_9.xlsx',\n",
       " 'make_9.AM GENERAL.xlsx',\n",
       " 'make_90.FOTON.xlsx',\n",
       " 'make_91.FRANKLIN.xlsx',\n",
       " 'make_92.FRAZER NASH.xlsx',\n",
       " 'make_93.FREIGHTLINER.xlsx',\n",
       " 'make_94.GARDNER.xlsx',\n",
       " 'make_95.GENESIS.xlsx',\n",
       " 'make_96.GEO.xlsx',\n",
       " 'make_97.GIANT MOTORS.xlsx',\n",
       " 'make_98.GLAS.xlsx',\n",
       " 'make_99.GMC-serial_1.xlsx',\n",
       " 'make_99.GMC-serial_2.xlsx',\n",
       " 'make_99.GMC-serial_3.xlsx',\n",
       " 'make_99.GMC-serial_4.xlsx',\n",
       " 'make_99.GMC-serial_5.xlsx',\n",
       " 'make_99.GMC-serial_6.xlsx',\n",
       " 'make_99.GMC-serial_7.xlsx',\n",
       " 'make_99.GMC-serial_8.xlsx']"
      ]
     },
     "execution_count": 5,
     "metadata": {},
     "output_type": "execute_result"
    }
   ],
   "source": [
    "list_file = sorted(list(os.walk(f'./{param_date}/8.type_1'))[0][2])\n",
    "while '.DS_Store' in list_file:\n",
    "    list_file.remove('.DS_Store')\n",
    "while '0.null.txt' in list_file:\n",
    "    list_file.remove('0.null.txt')\n",
    "\n",
    "list_file"
   ]
  },
  {
   "cell_type": "code",
   "execution_count": 6,
   "id": "d44d6a51-96a5-48b5-aee5-e394d2cbd76b",
   "metadata": {
    "scrolled": true
   },
   "outputs": [
    {
     "data": {
      "text/plain": [
       "['make_1.ABARTH',\n",
       " 'make_10.AMERICAN AUSTIN',\n",
       " 'make_100.GOLIATH',\n",
       " 'make_101.GORDON-KEEBLE',\n",
       " 'make_102.GRAHAM',\n",
       " 'make_103.GRAHAM-PAIGE',\n",
       " 'make_104.GRIFFITH',\n",
       " 'make_105.HEALEY',\n",
       " 'make_106.HENRY J',\n",
       " 'make_107.HILLMAN',\n",
       " 'make_108.HINO',\n",
       " 'make_109.HISPANO-SUIZA',\n",
       " 'make_11.AMERICAN BANTAM',\n",
       " 'make_110.HONDA',\n",
       " 'make_111.HOTCHKISS',\n",
       " 'make_112.HRG',\n",
       " 'make_113.HUDSON',\n",
       " 'make_114.HUMBER',\n",
       " 'make_115.HUMMER',\n",
       " 'make_116.HUPMOBILE',\n",
       " 'make_117.HYUNDAI',\n",
       " 'make_118.INFINITI',\n",
       " 'make_119.INTERNATIONAL',\n",
       " 'make_12.AMERICAN MOTORS',\n",
       " 'make_120.ISO',\n",
       " 'make_121.ISUZU',\n",
       " 'make_122.IVECO',\n",
       " 'make_123.JAC',\n",
       " 'make_124.JAGUAR',\n",
       " 'make_125.JEEP',\n",
       " 'make_126.JENSEN',\n",
       " 'make_127.JEWETT',\n",
       " 'make_128.JMC',\n",
       " 'make_129.JORDAN',\n",
       " 'make_13.AMPHICAR',\n",
       " 'make_130.JOWETT',\n",
       " 'make_131.KAISER-FRAZER',\n",
       " 'make_132.KARMA',\n",
       " 'make_133.KENWORTH',\n",
       " 'make_134.KIA',\n",
       " 'make_135.KISSEL',\n",
       " 'make_136.KURTIS',\n",
       " 'make_137.LADA',\n",
       " 'make_138.LAFORZA',\n",
       " 'make_139.LAGONDA',\n",
       " 'make_14.APOLLO',\n",
       " 'make_140.LAMBORGHINI',\n",
       " 'make_141.LANCHESTER',\n",
       " 'make_142.LANCIA',\n",
       " 'make_143.LAND ROVER',\n",
       " 'make_144.LASALLE',\n",
       " 'make_145.LEA-FRANCIS',\n",
       " 'make_146.LEXINGTON',\n",
       " 'make_147.LEXUS',\n",
       " 'make_148.LINCOLN',\n",
       " 'make_149.LORDSTOWN MOTORS',\n",
       " 'make_15.ARMSTRONG-SIDDELEY',\n",
       " 'make_150.LOTUS',\n",
       " 'make_151.LUCID',\n",
       " 'make_152.MACK',\n",
       " 'make_153.MAICO',\n",
       " 'make_154.MARATHON',\n",
       " 'make_155.MARAUDER',\n",
       " 'make_156.MARCOS',\n",
       " 'make_157.MARMON',\n",
       " 'make_158.MASERATI',\n",
       " 'make_159.MASTRETTA',\n",
       " 'make_16.ARNOLT-BRISTOL',\n",
       " 'make_160.MATRA',\n",
       " 'make_161.MAXWELL',\n",
       " 'make_162.MAYBACH',\n",
       " 'make_163.MAZDA',\n",
       " 'make_164.MCLAREN',\n",
       " 'make_165.MERCEDES-BENZ',\n",
       " 'make_166.MERCURY',\n",
       " 'make_167.MERKUR',\n",
       " 'make_168.MESSERSCHMITT',\n",
       " 'make_169.MG',\n",
       " 'make_17.ARNOLT-MG',\n",
       " 'make_170.MINI',\n",
       " 'make_171.MITSUBISHI',\n",
       " 'make_172.MITSUBISHI FUSO',\n",
       " 'make_173.MOBILITY VENTURES',\n",
       " 'make_174.MONTEVERDI',\n",
       " 'make_175.MOON',\n",
       " 'make_176.MORETTI',\n",
       " 'make_177.MORGAN',\n",
       " 'make_178.MORRIS',\n",
       " 'make_179.MOSKVICH',\n",
       " 'make_18.ASTON MARTIN',\n",
       " 'make_180.NARDI',\n",
       " 'make_181.NASH',\n",
       " 'make_182.NISSAN',\n",
       " 'make_183.NSU',\n",
       " 'make_184.OAKLAND',\n",
       " 'make_185.OLDSMOBILE',\n",
       " 'make_186.OMEGA',\n",
       " 'make_187.OPEL',\n",
       " 'make_188.OSCA',\n",
       " 'make_189.PACKARD',\n",
       " 'make_19.ASUNA',\n",
       " 'make_190.PAIGE',\n",
       " 'make_191.PANHARD',\n",
       " 'make_192.PANOZ',\n",
       " 'make_193.PANTHER',\n",
       " 'make_194.PASSPORT',\n",
       " 'make_195.PEERLESS',\n",
       " 'make_196.PEGASO',\n",
       " 'make_197.PETERBILT',\n",
       " 'make_198.PEUGEOT',\n",
       " 'make_199.PIERCE-ARROW',\n",
       " 'make_2.AC',\n",
       " 'make_20.AUBURN',\n",
       " 'make_200.PLYMOUTH',\n",
       " 'make_201.POLESTAR',\n",
       " 'make_202.PONTIAC',\n",
       " 'make_203.PORSCHE',\n",
       " 'make_204.QVALE',\n",
       " 'make_205.RAM',\n",
       " 'make_206.RELIANT',\n",
       " 'make_207.RENAULT',\n",
       " 'make_208.REO',\n",
       " 'make_209.RICKENBACKER',\n",
       " 'make_21.AUDI',\n",
       " 'make_210.RILEY',\n",
       " 'make_211.RIVIAN',\n",
       " 'make_212.ROAMER',\n",
       " 'make_213.ROCKNE',\n",
       " 'make_214.ROLLS-ROYCE',\n",
       " 'make_215.ROVER',\n",
       " 'make_216.SAAB',\n",
       " 'make_217.SABRA',\n",
       " 'make_218.SALEEN',\n",
       " 'make_219.SALMSON',\n",
       " 'make_22.AUSTIN',\n",
       " 'make_220.SATURN',\n",
       " 'make_221.SCION',\n",
       " 'make_222.SEAT',\n",
       " 'make_223.SHELBY',\n",
       " 'make_224.SIATA',\n",
       " 'make_225.SIMCA',\n",
       " 'make_226.SINGER',\n",
       " 'make_227.SKODA',\n",
       " 'make_228.SMART',\n",
       " 'make_229.SPYKER',\n",
       " 'make_23.AUSTIN-HEALEY',\n",
       " 'make_230.SRT',\n",
       " 'make_231.SSANGYONG',\n",
       " 'make_232.STANDARD',\n",
       " 'make_233.STAR',\n",
       " 'make_234.STEARNS KNIGHT',\n",
       " 'make_235.STERLING',\n",
       " 'make_236.STEVENS-DURYEA',\n",
       " 'make_237.STUDEBAKER',\n",
       " 'make_238.STUTZ',\n",
       " 'make_239.SUBARU',\n",
       " 'make_24.AVANTI',\n",
       " 'make_240.SUNBEAM',\n",
       " 'make_241.SUZUKI',\n",
       " 'make_242.SWALLOW',\n",
       " 'make_243.TALBOT-LAGO',\n",
       " 'make_244.TATRA',\n",
       " 'make_245.TESLA',\n",
       " 'make_246.THINK',\n",
       " 'make_247.TOYOTA',\n",
       " 'make_248.TRIUMPH',\n",
       " 'make_249.TURNER',\n",
       " 'make_25.BAIC',\n",
       " 'make_250.TVR',\n",
       " 'make_251.UAZ',\n",
       " 'make_252.UD',\n",
       " 'make_253.UTILIMASTER',\n",
       " 'make_254.VAM',\n",
       " 'make_255.VAUXHALL',\n",
       " 'make_256.VESPA',\n",
       " 'make_257.VINFAST',\n",
       " 'make_258.VOLKSWAGEN',\n",
       " 'make_259.VOLVO',\n",
       " 'make_26.BENTLEY',\n",
       " 'make_260.VPG',\n",
       " 'make_261.WARTBURG',\n",
       " 'make_262.WESTCOTT',\n",
       " 'make_263.WHIPPET',\n",
       " 'make_264.WILLYS',\n",
       " 'make_265.WINDSOR',\n",
       " 'make_266.WOLSELEY',\n",
       " 'make_267.WORKHORSE',\n",
       " 'make_268.YELLOW CAB',\n",
       " 'make_269.YUGO',\n",
       " 'make_27.BERKELEY',\n",
       " 'make_270.ZACUA',\n",
       " 'make_271.ZUNDAPP',\n",
       " 'make_28.BIZZARRINI',\n",
       " 'make_29.BMW',\n",
       " 'make_3.ACURA',\n",
       " 'make_30.BOND',\n",
       " 'make_31.BORGWARD',\n",
       " 'make_32.BRICKLIN',\n",
       " 'make_33.BRIGHTDROP',\n",
       " 'make_34.BRISTOL',\n",
       " 'make_35.BUGATTI',\n",
       " 'make_36.BUICK',\n",
       " 'make_37.CADILLAC',\n",
       " 'make_38.CASE',\n",
       " 'make_39.CHANGAN',\n",
       " 'make_4.ALFA ROMEO',\n",
       " 'make_40.CHECKER',\n",
       " 'make_41.CHEVROLET',\n",
       " 'make_42.CHIREY',\n",
       " 'make_43.CHRYSLER',\n",
       " 'make_44.CISITALIA',\n",
       " 'make_45.CITROEN',\n",
       " 'make_46.COLE',\n",
       " 'make_47.CONTINENTAL',\n",
       " 'make_48.CORD',\n",
       " 'make_49.CROSLEY',\n",
       " 'make_5.ALLARD',\n",
       " 'make_50.CUNNINGHAM',\n",
       " 'make_51.CUPRA',\n",
       " 'make_52.DAEWOO',\n",
       " 'make_53.DAF',\n",
       " 'make_54.DAIHATSU',\n",
       " 'make_55.DAIMLER',\n",
       " 'make_56.DATSUN',\n",
       " 'make_57.DELAGE',\n",
       " 'make_58.DELAHAYE',\n",
       " 'make_59.DELLOW',\n",
       " 'make_6.ALLSTATE',\n",
       " 'make_60.DELOREAN',\n",
       " 'make_61.DENZEL',\n",
       " 'make_62.DESOTO',\n",
       " 'make_63.DETOMASO',\n",
       " 'make_64.DEUTSCH-BONNET',\n",
       " 'make_65.DIANA',\n",
       " 'make_66.DKW',\n",
       " 'make_67.DODGE',\n",
       " 'make_68.DORETTI',\n",
       " 'make_69.DU PONT',\n",
       " 'make_7.ALPINE',\n",
       " 'make_70.DUAL-GHIA',\n",
       " 'make_71.DUESENBERG',\n",
       " 'make_72.DURANT',\n",
       " 'make_73.EAGLE',\n",
       " 'make_74.EDSEL',\n",
       " 'make_75.ELCAR',\n",
       " 'make_76.ELVA',\n",
       " 'make_77.ERSKINE',\n",
       " 'make_78.ESSEX',\n",
       " 'make_79.EXCALIBUR',\n",
       " 'make_8.ALVIS',\n",
       " 'make_80.FACEL VEGA',\n",
       " 'make_81.FAIRTHORPE',\n",
       " 'make_82.FALCON KNIGHT',\n",
       " 'make_83.FARGO',\n",
       " 'make_84.FAW',\n",
       " 'make_85.FERRARI',\n",
       " 'make_86.FIAT',\n",
       " 'make_87.FISKER',\n",
       " 'make_88.FLINT',\n",
       " 'make_89.FORD',\n",
       " 'make_9.AM GENERAL',\n",
       " 'make_90.FOTON',\n",
       " 'make_91.FRANKLIN',\n",
       " 'make_92.FRAZER NASH',\n",
       " 'make_93.FREIGHTLINER',\n",
       " 'make_94.GARDNER',\n",
       " 'make_95.GENESIS',\n",
       " 'make_96.GEO',\n",
       " 'make_97.GIANT MOTORS',\n",
       " 'make_98.GLAS',\n",
       " 'make_99.GMC']"
      ]
     },
     "execution_count": 6,
     "metadata": {},
     "output_type": "execute_result"
    }
   ],
   "source": [
    "list_prefix = sorted(list(set([file.split('-serial_')[0].removesuffix('.xlsx') for file in list_file])))\n",
    "\n",
    "list_prefix"
   ]
  },
  {
   "cell_type": "code",
   "execution_count": 7,
   "id": "a7717955-0306-499d-9c5c-529bb0f8122b",
   "metadata": {},
   "outputs": [
    {
     "name": "stdout",
     "output_type": "stream",
     "text": [
      "make_1.ABARTH\n"
     ]
    },
    {
     "name": "stderr",
     "output_type": "stream",
     "text": [
      "Progress: 100%|██████████████████████████| 339/339 [00:00<00:00, 1415.31it/s]\n"
     ]
    },
    {
     "name": "stdout",
     "output_type": "stream",
     "text": [
      "make_10.AMERICAN AUSTIN\n"
     ]
    },
    {
     "name": "stderr",
     "output_type": "stream",
     "text": [
      "Progress: 100%|█████████████████████████| 339/339 [00:00<00:00, 26768.63it/s]\n"
     ]
    },
    {
     "name": "stdout",
     "output_type": "stream",
     "text": [
      "make_100.GOLIATH\n"
     ]
    },
    {
     "name": "stderr",
     "output_type": "stream",
     "text": [
      "Progress: 100%|█████████████████████████| 339/339 [00:00<00:00, 30915.57it/s]\n"
     ]
    },
    {
     "name": "stdout",
     "output_type": "stream",
     "text": [
      "make_101.GORDON-KEEBLE\n"
     ]
    },
    {
     "name": "stderr",
     "output_type": "stream",
     "text": [
      "Progress: 100%|██████████████████████████| 339/339 [00:00<00:00, 4761.43it/s]\n"
     ]
    },
    {
     "name": "stdout",
     "output_type": "stream",
     "text": [
      "make_102.GRAHAM\n"
     ]
    },
    {
     "name": "stderr",
     "output_type": "stream",
     "text": [
      "Progress: 100%|██████████████████████████| 339/339 [00:00<00:00, 3204.91it/s]\n"
     ]
    },
    {
     "name": "stdout",
     "output_type": "stream",
     "text": [
      "make_103.GRAHAM-PAIGE\n"
     ]
    },
    {
     "name": "stderr",
     "output_type": "stream",
     "text": [
      "Progress: 100%|█████████████████████████| 339/339 [00:00<00:00, 13346.62it/s]\n"
     ]
    },
    {
     "name": "stdout",
     "output_type": "stream",
     "text": [
      "make_104.GRIFFITH\n"
     ]
    },
    {
     "name": "stderr",
     "output_type": "stream",
     "text": [
      "Progress: 100%|█████████████████████████| 339/339 [00:00<00:00, 12190.24it/s]\n"
     ]
    },
    {
     "name": "stdout",
     "output_type": "stream",
     "text": [
      "make_105.HEALEY\n"
     ]
    },
    {
     "name": "stderr",
     "output_type": "stream",
     "text": [
      "Progress: 100%|█████████████████████████| 339/339 [00:00<00:00, 18310.55it/s]\n"
     ]
    },
    {
     "name": "stdout",
     "output_type": "stream",
     "text": [
      "make_106.HENRY J\n"
     ]
    },
    {
     "name": "stderr",
     "output_type": "stream",
     "text": [
      "Progress: 100%|██████████████████████████| 339/339 [00:00<00:00, 3051.44it/s]\n"
     ]
    },
    {
     "name": "stdout",
     "output_type": "stream",
     "text": [
      "make_107.HILLMAN\n"
     ]
    },
    {
     "name": "stderr",
     "output_type": "stream",
     "text": [
      "Progress: 100%|██████████████████████████| 339/339 [00:00<00:00, 1516.65it/s]\n"
     ]
    },
    {
     "name": "stdout",
     "output_type": "stream",
     "text": [
      "make_108.HINO\n"
     ]
    },
    {
     "name": "stderr",
     "output_type": "stream",
     "text": [
      "Progress: 100%|███████████████████████████| 339/339 [00:00<00:00, 621.66it/s]\n"
     ]
    },
    {
     "name": "stdout",
     "output_type": "stream",
     "text": [
      "make_109.HISPANO-SUIZA\n"
     ]
    },
    {
     "name": "stderr",
     "output_type": "stream",
     "text": [
      "Progress: 100%|█████████████████████████| 339/339 [00:00<00:00, 44037.07it/s]\n"
     ]
    },
    {
     "name": "stdout",
     "output_type": "stream",
     "text": [
      "make_11.AMERICAN BANTAM\n"
     ]
    },
    {
     "name": "stderr",
     "output_type": "stream",
     "text": [
      "Progress: 100%|█████████████████████████| 339/339 [00:00<00:00, 23876.49it/s]\n"
     ]
    },
    {
     "name": "stdout",
     "output_type": "stream",
     "text": [
      "make_110.HONDA\n"
     ]
    },
    {
     "name": "stderr",
     "output_type": "stream",
     "text": [
      "Progress: 100%|████████████████████████████| 339/339 [00:29<00:00, 11.35it/s]\n"
     ]
    },
    {
     "name": "stdout",
     "output_type": "stream",
     "text": [
      "make_111.HOTCHKISS\n"
     ]
    },
    {
     "name": "stderr",
     "output_type": "stream",
     "text": [
      "Progress: 100%|█████████████████████████| 339/339 [00:00<00:00, 33229.00it/s]\n"
     ]
    },
    {
     "name": "stdout",
     "output_type": "stream",
     "text": [
      "make_112.HRG\n"
     ]
    },
    {
     "name": "stderr",
     "output_type": "stream",
     "text": [
      "Progress: 100%|█████████████████████████| 339/339 [00:00<00:00, 18744.81it/s]\n"
     ]
    },
    {
     "name": "stdout",
     "output_type": "stream",
     "text": [
      "make_113.HUDSON\n"
     ]
    },
    {
     "name": "stderr",
     "output_type": "stream",
     "text": [
      "Progress: 100%|███████████████████████████| 339/339 [00:00<00:00, 435.70it/s]\n"
     ]
    },
    {
     "name": "stdout",
     "output_type": "stream",
     "text": [
      "make_114.HUMBER\n"
     ]
    },
    {
     "name": "stderr",
     "output_type": "stream",
     "text": [
      "Progress: 100%|██████████████████████████| 339/339 [00:00<00:00, 2066.80it/s]\n"
     ]
    },
    {
     "name": "stdout",
     "output_type": "stream",
     "text": [
      "make_115.HUMMER\n"
     ]
    },
    {
     "name": "stderr",
     "output_type": "stream",
     "text": [
      "Progress: 100%|███████████████████████████| 339/339 [00:03<00:00, 107.05it/s]\n"
     ]
    },
    {
     "name": "stdout",
     "output_type": "stream",
     "text": [
      "make_116.HUPMOBILE\n"
     ]
    },
    {
     "name": "stderr",
     "output_type": "stream",
     "text": [
      "Progress: 100%|██████████████████████████| 339/339 [00:00<00:00, 5087.50it/s]\n"
     ]
    },
    {
     "name": "stdout",
     "output_type": "stream",
     "text": [
      "make_117.HYUNDAI\n"
     ]
    },
    {
     "name": "stderr",
     "output_type": "stream",
     "text": [
      "Progress: 100%|████████████████████████████| 339/339 [00:24<00:00, 14.12it/s]\n"
     ]
    },
    {
     "name": "stdout",
     "output_type": "stream",
     "text": [
      "make_118.INFINITI\n"
     ]
    },
    {
     "name": "stderr",
     "output_type": "stream",
     "text": [
      "Progress: 100%|████████████████████████████| 339/339 [00:11<00:00, 30.08it/s]\n"
     ]
    },
    {
     "name": "stdout",
     "output_type": "stream",
     "text": [
      "make_119.INTERNATIONAL\n"
     ]
    },
    {
     "name": "stderr",
     "output_type": "stream",
     "text": [
      "Progress: 100%|████████████████████████████| 339/339 [00:33<00:00, 10.20it/s]\n"
     ]
    },
    {
     "name": "stdout",
     "output_type": "stream",
     "text": [
      "make_12.AMERICAN MOTORS\n"
     ]
    },
    {
     "name": "stderr",
     "output_type": "stream",
     "text": [
      "Progress: 100%|████████████████████████████| 339/339 [00:17<00:00, 19.25it/s]\n"
     ]
    },
    {
     "name": "stdout",
     "output_type": "stream",
     "text": [
      "make_120.ISO\n"
     ]
    },
    {
     "name": "stderr",
     "output_type": "stream",
     "text": [
      "Progress: 100%|███████████████████████████| 339/339 [00:00<00:00, 826.37it/s]\n"
     ]
    },
    {
     "name": "stdout",
     "output_type": "stream",
     "text": [
      "make_121.ISUZU\n"
     ]
    },
    {
     "name": "stderr",
     "output_type": "stream",
     "text": [
      "Progress: 100%|████████████████████████████| 339/339 [00:14<00:00, 23.52it/s]\n"
     ]
    },
    {
     "name": "stdout",
     "output_type": "stream",
     "text": [
      "make_122.IVECO\n"
     ]
    },
    {
     "name": "stderr",
     "output_type": "stream",
     "text": [
      "Progress: 100%|██████████████████████████| 339/339 [00:00<00:00, 6156.82it/s]\n"
     ]
    },
    {
     "name": "stdout",
     "output_type": "stream",
     "text": [
      "make_123.JAC\n"
     ]
    },
    {
     "name": "stderr",
     "output_type": "stream",
     "text": [
      "Progress: 100%|█████████████████████████| 339/339 [00:00<00:00, 14383.82it/s]\n"
     ]
    },
    {
     "name": "stdout",
     "output_type": "stream",
     "text": [
      "make_124.JAGUAR\n"
     ]
    },
    {
     "name": "stderr",
     "output_type": "stream",
     "text": [
      "Progress: 100%|████████████████████████████| 339/339 [00:11<00:00, 28.70it/s]\n"
     ]
    },
    {
     "name": "stdout",
     "output_type": "stream",
     "text": [
      "make_125.JEEP\n"
     ]
    },
    {
     "name": "stderr",
     "output_type": "stream",
     "text": [
      "Progress: 100%|████████████████████████████| 339/339 [01:17<00:00,  4.38it/s]\n"
     ]
    },
    {
     "name": "stdout",
     "output_type": "stream",
     "text": [
      "make_126.JENSEN\n"
     ]
    },
    {
     "name": "stderr",
     "output_type": "stream",
     "text": [
      "Progress: 100%|██████████████████████████| 339/339 [00:00<00:00, 1595.47it/s]\n"
     ]
    },
    {
     "name": "stdout",
     "output_type": "stream",
     "text": [
      "make_127.JEWETT\n"
     ]
    },
    {
     "name": "stderr",
     "output_type": "stream",
     "text": [
      "Progress: 100%|█████████████████████████| 339/339 [00:00<00:00, 49095.99it/s]\n"
     ]
    },
    {
     "name": "stdout",
     "output_type": "stream",
     "text": [
      "make_128.JMC\n"
     ]
    },
    {
     "name": "stderr",
     "output_type": "stream",
     "text": [
      "Progress: 100%|█████████████████████████| 339/339 [00:00<00:00, 44571.30it/s]\n"
     ]
    },
    {
     "name": "stdout",
     "output_type": "stream",
     "text": [
      "make_129.JORDAN\n"
     ]
    },
    {
     "name": "stderr",
     "output_type": "stream",
     "text": [
      "Progress: 100%|█████████████████████████| 339/339 [00:00<00:00, 22107.89it/s]\n"
     ]
    },
    {
     "name": "stdout",
     "output_type": "stream",
     "text": [
      "make_13.AMPHICAR\n"
     ]
    },
    {
     "name": "stderr",
     "output_type": "stream",
     "text": [
      "Progress: 100%|█████████████████████████| 339/339 [00:00<00:00, 15788.02it/s]\n"
     ]
    },
    {
     "name": "stdout",
     "output_type": "stream",
     "text": [
      "make_130.JOWETT\n"
     ]
    },
    {
     "name": "stderr",
     "output_type": "stream",
     "text": [
      "Progress: 100%|█████████████████████████| 339/339 [00:00<00:00, 19867.11it/s]\n"
     ]
    },
    {
     "name": "stdout",
     "output_type": "stream",
     "text": [
      "make_131.KAISER-FRAZER\n"
     ]
    },
    {
     "name": "stderr",
     "output_type": "stream",
     "text": [
      "Progress: 100%|███████████████████████████| 339/339 [00:00<00:00, 798.25it/s]\n"
     ]
    },
    {
     "name": "stdout",
     "output_type": "stream",
     "text": [
      "make_132.KARMA\n"
     ]
    },
    {
     "name": "stderr",
     "output_type": "stream",
     "text": [
      "Progress: 100%|█████████████████████████| 339/339 [00:00<00:00, 20709.75it/s]\n"
     ]
    },
    {
     "name": "stdout",
     "output_type": "stream",
     "text": [
      "make_133.KENWORTH\n"
     ]
    },
    {
     "name": "stderr",
     "output_type": "stream",
     "text": [
      "Progress: 100%|██████████████████████████| 339/339 [00:00<00:00, 1465.36it/s]\n"
     ]
    },
    {
     "name": "stdout",
     "output_type": "stream",
     "text": [
      "make_134.KIA\n"
     ]
    },
    {
     "name": "stderr",
     "output_type": "stream",
     "text": [
      "Progress: 100%|████████████████████████████| 339/339 [00:19<00:00, 17.21it/s]\n"
     ]
    },
    {
     "name": "stdout",
     "output_type": "stream",
     "text": [
      "make_135.KISSEL\n"
     ]
    },
    {
     "name": "stderr",
     "output_type": "stream",
     "text": [
      "Progress: 100%|█████████████████████████| 339/339 [00:00<00:00, 16102.16it/s]\n"
     ]
    },
    {
     "name": "stdout",
     "output_type": "stream",
     "text": [
      "make_136.KURTIS\n"
     ]
    },
    {
     "name": "stderr",
     "output_type": "stream",
     "text": [
      "Progress: 100%|█████████████████████████| 339/339 [00:00<00:00, 24375.87it/s]\n"
     ]
    },
    {
     "name": "stdout",
     "output_type": "stream",
     "text": [
      "make_137.LADA\n"
     ]
    },
    {
     "name": "stderr",
     "output_type": "stream",
     "text": [
      "Progress: 100%|██████████████████████████| 339/339 [00:00<00:00, 1219.96it/s]\n"
     ]
    },
    {
     "name": "stdout",
     "output_type": "stream",
     "text": [
      "make_138.LAFORZA\n"
     ]
    },
    {
     "name": "stderr",
     "output_type": "stream",
     "text": [
      "Progress: 100%|██████████████████████████| 339/339 [00:00<00:00, 1826.00it/s]\n"
     ]
    },
    {
     "name": "stdout",
     "output_type": "stream",
     "text": [
      "make_139.LAGONDA\n"
     ]
    },
    {
     "name": "stderr",
     "output_type": "stream",
     "text": [
      "Progress: 100%|█████████████████████████| 339/339 [00:00<00:00, 39186.14it/s]\n"
     ]
    },
    {
     "name": "stdout",
     "output_type": "stream",
     "text": [
      "make_14.APOLLO\n"
     ]
    },
    {
     "name": "stderr",
     "output_type": "stream",
     "text": [
      "Progress: 100%|█████████████████████████| 339/339 [00:00<00:00, 10076.67it/s]\n"
     ]
    },
    {
     "name": "stdout",
     "output_type": "stream",
     "text": [
      "make_140.LAMBORGHINI\n"
     ]
    },
    {
     "name": "stderr",
     "output_type": "stream",
     "text": [
      "Progress: 100%|███████████████████████████| 339/339 [00:00<00:00, 947.46it/s]\n"
     ]
    },
    {
     "name": "stdout",
     "output_type": "stream",
     "text": [
      "make_141.LANCHESTER\n"
     ]
    },
    {
     "name": "stderr",
     "output_type": "stream",
     "text": [
      "Progress: 100%|█████████████████████████| 339/339 [00:00<00:00, 39264.05it/s]\n"
     ]
    },
    {
     "name": "stdout",
     "output_type": "stream",
     "text": [
      "make_142.LANCIA\n"
     ]
    },
    {
     "name": "stderr",
     "output_type": "stream",
     "text": [
      "Progress: 100%|██████████████████████████| 339/339 [00:00<00:00, 1299.33it/s]\n"
     ]
    },
    {
     "name": "stdout",
     "output_type": "stream",
     "text": [
      "make_143.LAND ROVER\n"
     ]
    },
    {
     "name": "stderr",
     "output_type": "stream",
     "text": [
      "Progress: 100%|████████████████████████████| 339/339 [00:08<00:00, 41.97it/s]\n"
     ]
    },
    {
     "name": "stdout",
     "output_type": "stream",
     "text": [
      "make_144.LASALLE\n"
     ]
    },
    {
     "name": "stderr",
     "output_type": "stream",
     "text": [
      "Progress: 100%|██████████████████████████| 339/339 [00:00<00:00, 7302.23it/s]\n"
     ]
    },
    {
     "name": "stdout",
     "output_type": "stream",
     "text": [
      "make_145.LEA-FRANCIS\n"
     ]
    },
    {
     "name": "stderr",
     "output_type": "stream",
     "text": [
      "Progress: 100%|█████████████████████████| 339/339 [00:00<00:00, 32206.14it/s]\n"
     ]
    },
    {
     "name": "stdout",
     "output_type": "stream",
     "text": [
      "make_146.LEXINGTON\n"
     ]
    },
    {
     "name": "stderr",
     "output_type": "stream",
     "text": [
      "Progress: 100%|█████████████████████████| 339/339 [00:00<00:00, 44894.98it/s]\n"
     ]
    },
    {
     "name": "stdout",
     "output_type": "stream",
     "text": [
      "make_147.LEXUS\n"
     ]
    },
    {
     "name": "stderr",
     "output_type": "stream",
     "text": [
      "Progress: 100%|████████████████████████████| 339/339 [00:19<00:00, 17.36it/s]\n"
     ]
    },
    {
     "name": "stdout",
     "output_type": "stream",
     "text": [
      "make_148.LINCOLN\n"
     ]
    },
    {
     "name": "stderr",
     "output_type": "stream",
     "text": [
      "Progress: 100%|████████████████████████████| 339/339 [00:25<00:00, 13.29it/s]\n"
     ]
    },
    {
     "name": "stdout",
     "output_type": "stream",
     "text": [
      "make_149.LORDSTOWN MOTORS\n"
     ]
    },
    {
     "name": "stderr",
     "output_type": "stream",
     "text": [
      "Progress: 100%|█████████████████████████| 339/339 [00:00<00:00, 13158.87it/s]\n"
     ]
    },
    {
     "name": "stdout",
     "output_type": "stream",
     "text": [
      "make_15.ARMSTRONG-SIDDELEY\n"
     ]
    },
    {
     "name": "stderr",
     "output_type": "stream",
     "text": [
      "Progress: 100%|██████████████████████████| 339/339 [00:00<00:00, 6888.23it/s]\n"
     ]
    },
    {
     "name": "stdout",
     "output_type": "stream",
     "text": [
      "make_150.LOTUS\n"
     ]
    },
    {
     "name": "stderr",
     "output_type": "stream",
     "text": [
      "Progress: 100%|███████████████████████████| 339/339 [00:00<00:00, 368.54it/s]\n"
     ]
    },
    {
     "name": "stdout",
     "output_type": "stream",
     "text": [
      "make_151.LUCID\n"
     ]
    },
    {
     "name": "stderr",
     "output_type": "stream",
     "text": [
      "Progress: 100%|█████████████████████████| 339/339 [00:00<00:00, 38405.02it/s]\n"
     ]
    },
    {
     "name": "stdout",
     "output_type": "stream",
     "text": [
      "make_152.MACK\n"
     ]
    },
    {
     "name": "stderr",
     "output_type": "stream",
     "text": [
      "Progress: 100%|███████████████████████████| 339/339 [00:00<00:00, 950.35it/s]\n"
     ]
    },
    {
     "name": "stdout",
     "output_type": "stream",
     "text": [
      "make_153.MAICO\n"
     ]
    },
    {
     "name": "stderr",
     "output_type": "stream",
     "text": [
      "Progress: 100%|█████████████████████████| 339/339 [00:00<00:00, 36798.81it/s]\n"
     ]
    },
    {
     "name": "stdout",
     "output_type": "stream",
     "text": [
      "make_154.MARATHON\n"
     ]
    },
    {
     "name": "stderr",
     "output_type": "stream",
     "text": [
      "Progress: 100%|█████████████████████████| 339/339 [00:00<00:00, 29630.30it/s]\n"
     ]
    },
    {
     "name": "stdout",
     "output_type": "stream",
     "text": [
      "make_155.MARAUDER\n"
     ]
    },
    {
     "name": "stderr",
     "output_type": "stream",
     "text": [
      "Progress: 100%|█████████████████████████| 339/339 [00:00<00:00, 40024.46it/s]\n"
     ]
    },
    {
     "name": "stdout",
     "output_type": "stream",
     "text": [
      "make_156.MARCOS\n"
     ]
    },
    {
     "name": "stderr",
     "output_type": "stream",
     "text": [
      "Progress: 100%|█████████████████████████| 339/339 [00:00<00:00, 28348.93it/s]\n"
     ]
    },
    {
     "name": "stdout",
     "output_type": "stream",
     "text": [
      "make_157.MARMON\n"
     ]
    },
    {
     "name": "stderr",
     "output_type": "stream",
     "text": [
      "Progress: 100%|█████████████████████████| 339/339 [00:00<00:00, 12901.10it/s]\n"
     ]
    },
    {
     "name": "stdout",
     "output_type": "stream",
     "text": [
      "make_158.MASERATI\n"
     ]
    },
    {
     "name": "stderr",
     "output_type": "stream",
     "text": [
      "Progress: 100%|███████████████████████████| 339/339 [00:00<00:00, 373.74it/s]\n"
     ]
    },
    {
     "name": "stdout",
     "output_type": "stream",
     "text": [
      "make_159.MASTRETTA\n"
     ]
    },
    {
     "name": "stderr",
     "output_type": "stream",
     "text": [
      "Progress: 100%|█████████████████████████| 339/339 [00:00<00:00, 44463.98it/s]\n"
     ]
    },
    {
     "name": "stdout",
     "output_type": "stream",
     "text": [
      "make_16.ARNOLT-BRISTOL\n"
     ]
    },
    {
     "name": "stderr",
     "output_type": "stream",
     "text": [
      "Progress: 100%|█████████████████████████| 339/339 [00:00<00:00, 28011.60it/s]\n"
     ]
    },
    {
     "name": "stdout",
     "output_type": "stream",
     "text": [
      "make_160.MATRA\n"
     ]
    },
    {
     "name": "stderr",
     "output_type": "stream",
     "text": [
      "Progress: 100%|█████████████████████████| 339/339 [00:00<00:00, 25607.73it/s]\n"
     ]
    },
    {
     "name": "stdout",
     "output_type": "stream",
     "text": [
      "make_161.MAXWELL\n"
     ]
    },
    {
     "name": "stderr",
     "output_type": "stream",
     "text": [
      "Progress: 100%|█████████████████████████| 339/339 [00:00<00:00, 34644.24it/s]\n"
     ]
    },
    {
     "name": "stdout",
     "output_type": "stream",
     "text": [
      "make_162.MAYBACH\n"
     ]
    },
    {
     "name": "stderr",
     "output_type": "stream",
     "text": [
      "Progress: 100%|███████████████████████████| 339/339 [00:00<00:00, 699.08it/s]\n"
     ]
    },
    {
     "name": "stdout",
     "output_type": "stream",
     "text": [
      "make_163.MAZDA\n"
     ]
    },
    {
     "name": "stderr",
     "output_type": "stream",
     "text": [
      "Progress: 100%|████████████████████████████| 339/339 [00:29<00:00, 11.40it/s]\n"
     ]
    },
    {
     "name": "stdout",
     "output_type": "stream",
     "text": [
      "make_164.MCLAREN\n"
     ]
    },
    {
     "name": "stderr",
     "output_type": "stream",
     "text": [
      "Progress: 100%|██████████████████████████| 339/339 [00:00<00:00, 8276.59it/s]\n"
     ]
    },
    {
     "name": "stdout",
     "output_type": "stream",
     "text": [
      "make_165.MERCEDES-BENZ\n"
     ]
    },
    {
     "name": "stderr",
     "output_type": "stream",
     "text": [
      "Progress: 100%|████████████████████████████| 339/339 [01:06<00:00,  5.09it/s]\n"
     ]
    },
    {
     "name": "stdout",
     "output_type": "stream",
     "text": [
      "make_166.MERCURY\n"
     ]
    },
    {
     "name": "stderr",
     "output_type": "stream",
     "text": [
      "Progress: 100%|████████████████████████████| 339/339 [01:07<00:00,  5.06it/s]\n"
     ]
    },
    {
     "name": "stdout",
     "output_type": "stream",
     "text": [
      "make_167.MERKUR\n"
     ]
    },
    {
     "name": "stderr",
     "output_type": "stream",
     "text": [
      "Progress: 100%|██████████████████████████| 339/339 [00:00<00:00, 1052.29it/s]\n"
     ]
    },
    {
     "name": "stdout",
     "output_type": "stream",
     "text": [
      "make_168.MESSERSCHMITT\n"
     ]
    },
    {
     "name": "stderr",
     "output_type": "stream",
     "text": [
      "Progress: 100%|█████████████████████████| 339/339 [00:00<00:00, 30725.18it/s]\n"
     ]
    },
    {
     "name": "stdout",
     "output_type": "stream",
     "text": [
      "make_169.MG\n"
     ]
    },
    {
     "name": "stderr",
     "output_type": "stream",
     "text": [
      "Progress: 100%|███████████████████████████| 339/339 [00:01<00:00, 254.91it/s]\n"
     ]
    },
    {
     "name": "stdout",
     "output_type": "stream",
     "text": [
      "make_17.ARNOLT-MG\n"
     ]
    },
    {
     "name": "stderr",
     "output_type": "stream",
     "text": [
      "Progress: 100%|█████████████████████████| 339/339 [00:00<00:00, 40804.37it/s]\n"
     ]
    },
    {
     "name": "stdout",
     "output_type": "stream",
     "text": [
      "make_170.MINI\n"
     ]
    },
    {
     "name": "stderr",
     "output_type": "stream",
     "text": [
      "Progress: 100%|████████████████████████████| 339/339 [00:05<00:00, 65.17it/s]\n"
     ]
    },
    {
     "name": "stdout",
     "output_type": "stream",
     "text": [
      "make_171.MITSUBISHI\n"
     ]
    },
    {
     "name": "stderr",
     "output_type": "stream",
     "text": [
      "Progress: 100%|████████████████████████████| 339/339 [00:24<00:00, 13.80it/s]\n"
     ]
    },
    {
     "name": "stdout",
     "output_type": "stream",
     "text": [
      "make_172.MITSUBISHI FUSO\n"
     ]
    },
    {
     "name": "stderr",
     "output_type": "stream",
     "text": [
      "Progress: 100%|██████████████████████████| 339/339 [00:00<00:00, 1090.60it/s]\n"
     ]
    },
    {
     "name": "stdout",
     "output_type": "stream",
     "text": [
      "make_173.MOBILITY VENTURES\n"
     ]
    },
    {
     "name": "stderr",
     "output_type": "stream",
     "text": [
      "Progress: 100%|██████████████████████████| 339/339 [00:00<00:00, 5569.32it/s]\n"
     ]
    },
    {
     "name": "stdout",
     "output_type": "stream",
     "text": [
      "make_174.MONTEVERDI\n"
     ]
    },
    {
     "name": "stderr",
     "output_type": "stream",
     "text": [
      "Progress: 100%|██████████████████████████| 339/339 [00:00<00:00, 3286.32it/s]\n"
     ]
    },
    {
     "name": "stdout",
     "output_type": "stream",
     "text": [
      "make_175.MOON\n"
     ]
    },
    {
     "name": "stderr",
     "output_type": "stream",
     "text": [
      "Progress: 100%|█████████████████████████| 339/339 [00:00<00:00, 29537.35it/s]\n"
     ]
    },
    {
     "name": "stdout",
     "output_type": "stream",
     "text": [
      "make_176.MORETTI\n"
     ]
    },
    {
     "name": "stderr",
     "output_type": "stream",
     "text": [
      "Progress: 100%|█████████████████████████| 339/339 [00:00<00:00, 26139.22it/s]\n"
     ]
    },
    {
     "name": "stdout",
     "output_type": "stream",
     "text": [
      "make_177.MORGAN\n"
     ]
    },
    {
     "name": "stderr",
     "output_type": "stream",
     "text": [
      "Progress: 100%|███████████████████████████| 339/339 [00:00<00:00, 696.52it/s]\n"
     ]
    },
    {
     "name": "stdout",
     "output_type": "stream",
     "text": [
      "make_178.MORRIS\n"
     ]
    },
    {
     "name": "stderr",
     "output_type": "stream",
     "text": [
      "Progress: 100%|███████████████████████████| 339/339 [00:00<00:00, 797.23it/s]\n"
     ]
    },
    {
     "name": "stdout",
     "output_type": "stream",
     "text": [
      "make_179.MOSKVICH\n"
     ]
    },
    {
     "name": "stderr",
     "output_type": "stream",
     "text": [
      "Progress: 100%|█████████████████████████| 339/339 [00:00<00:00, 20009.42it/s]\n"
     ]
    },
    {
     "name": "stdout",
     "output_type": "stream",
     "text": [
      "make_18.ASTON MARTIN\n"
     ]
    },
    {
     "name": "stderr",
     "output_type": "stream",
     "text": [
      "Progress: 100%|███████████████████████████| 339/339 [00:01<00:00, 320.71it/s]\n"
     ]
    },
    {
     "name": "stdout",
     "output_type": "stream",
     "text": [
      "make_180.NARDI\n"
     ]
    },
    {
     "name": "stderr",
     "output_type": "stream",
     "text": [
      "Progress: 100%|█████████████████████████| 339/339 [00:00<00:00, 31924.14it/s]\n"
     ]
    },
    {
     "name": "stdout",
     "output_type": "stream",
     "text": [
      "make_181.NASH\n"
     ]
    },
    {
     "name": "stderr",
     "output_type": "stream",
     "text": [
      "Progress: 100%|███████████████████████████| 339/339 [00:00<00:00, 438.42it/s]\n"
     ]
    },
    {
     "name": "stdout",
     "output_type": "stream",
     "text": [
      "make_182.NISSAN\n"
     ]
    },
    {
     "name": "stderr",
     "output_type": "stream",
     "text": [
      "Progress: 100%|████████████████████████████| 339/339 [00:52<00:00,  6.43it/s]\n"
     ]
    },
    {
     "name": "stdout",
     "output_type": "stream",
     "text": [
      "make_183.NSU\n"
     ]
    },
    {
     "name": "stderr",
     "output_type": "stream",
     "text": [
      "Progress: 100%|██████████████████████████| 339/339 [00:00<00:00, 1471.44it/s]\n"
     ]
    },
    {
     "name": "stdout",
     "output_type": "stream",
     "text": [
      "make_184.OAKLAND\n"
     ]
    },
    {
     "name": "stderr",
     "output_type": "stream",
     "text": [
      "Progress: 100%|█████████████████████████| 339/339 [00:00<00:00, 18998.02it/s]\n"
     ]
    },
    {
     "name": "stdout",
     "output_type": "stream",
     "text": [
      "make_185.OLDSMOBILE\n"
     ]
    },
    {
     "name": "stderr",
     "output_type": "stream",
     "text": [
      "Progress: 100%|████████████████████████████| 339/339 [01:06<00:00,  5.12it/s]\n"
     ]
    },
    {
     "name": "stdout",
     "output_type": "stream",
     "text": [
      "make_186.OMEGA\n"
     ]
    },
    {
     "name": "stderr",
     "output_type": "stream",
     "text": [
      "Progress: 100%|██████████████████████████| 339/339 [00:00<00:00, 7945.44it/s]\n"
     ]
    },
    {
     "name": "stdout",
     "output_type": "stream",
     "text": [
      "make_187.OPEL\n"
     ]
    },
    {
     "name": "stderr",
     "output_type": "stream",
     "text": [
      "Progress: 100%|███████████████████████████| 339/339 [00:00<00:00, 405.61it/s]\n"
     ]
    },
    {
     "name": "stdout",
     "output_type": "stream",
     "text": [
      "make_188.OSCA\n"
     ]
    },
    {
     "name": "stderr",
     "output_type": "stream",
     "text": [
      "Progress: 100%|█████████████████████████| 339/339 [00:00<00:00, 35008.47it/s]\n"
     ]
    },
    {
     "name": "stdout",
     "output_type": "stream",
     "text": [
      "make_189.PACKARD\n"
     ]
    },
    {
     "name": "stderr",
     "output_type": "stream",
     "text": [
      "Progress: 100%|███████████████████████████| 339/339 [00:00<00:00, 588.01it/s]\n"
     ]
    },
    {
     "name": "stdout",
     "output_type": "stream",
     "text": [
      "make_19.ASUNA\n"
     ]
    },
    {
     "name": "stderr",
     "output_type": "stream",
     "text": [
      "Progress: 100%|██████████████████████████| 339/339 [00:00<00:00, 2430.53it/s]\n"
     ]
    },
    {
     "name": "stdout",
     "output_type": "stream",
     "text": [
      "make_190.PAIGE\n"
     ]
    },
    {
     "name": "stderr",
     "output_type": "stream",
     "text": [
      "Progress: 100%|█████████████████████████| 339/339 [00:00<00:00, 14192.58it/s]\n"
     ]
    },
    {
     "name": "stdout",
     "output_type": "stream",
     "text": [
      "make_191.PANHARD\n"
     ]
    },
    {
     "name": "stderr",
     "output_type": "stream",
     "text": [
      "Progress: 100%|█████████████████████████| 339/339 [00:00<00:00, 19400.06it/s]\n"
     ]
    },
    {
     "name": "stdout",
     "output_type": "stream",
     "text": [
      "make_192.PANOZ\n"
     ]
    },
    {
     "name": "stderr",
     "output_type": "stream",
     "text": [
      "Progress: 100%|██████████████████████████| 339/339 [00:00<00:00, 2395.61it/s]\n"
     ]
    },
    {
     "name": "stdout",
     "output_type": "stream",
     "text": [
      "make_193.PANTHER\n"
     ]
    },
    {
     "name": "stderr",
     "output_type": "stream",
     "text": [
      "Progress: 100%|█████████████████████████| 339/339 [00:00<00:00, 29881.24it/s]\n"
     ]
    },
    {
     "name": "stdout",
     "output_type": "stream",
     "text": [
      "make_194.PASSPORT\n"
     ]
    },
    {
     "name": "stderr",
     "output_type": "stream",
     "text": [
      "Progress: 100%|██████████████████████████| 339/339 [00:00<00:00, 1663.84it/s]\n"
     ]
    },
    {
     "name": "stdout",
     "output_type": "stream",
     "text": [
      "make_195.PEERLESS\n"
     ]
    },
    {
     "name": "stderr",
     "output_type": "stream",
     "text": [
      "Progress: 100%|█████████████████████████| 339/339 [00:00<00:00, 37437.31it/s]\n"
     ]
    },
    {
     "name": "stdout",
     "output_type": "stream",
     "text": [
      "make_196.PEGASO\n"
     ]
    },
    {
     "name": "stderr",
     "output_type": "stream",
     "text": [
      "Progress: 100%|█████████████████████████| 339/339 [00:00<00:00, 30130.73it/s]\n"
     ]
    },
    {
     "name": "stdout",
     "output_type": "stream",
     "text": [
      "make_197.PETERBILT\n"
     ]
    },
    {
     "name": "stderr",
     "output_type": "stream",
     "text": [
      "Progress: 100%|██████████████████████████| 339/339 [00:00<00:00, 1120.91it/s]\n"
     ]
    },
    {
     "name": "stdout",
     "output_type": "stream",
     "text": [
      "make_198.PEUGEOT\n"
     ]
    },
    {
     "name": "stderr",
     "output_type": "stream",
     "text": [
      "Progress: 100%|████████████████████████████| 339/339 [00:03<00:00, 88.78it/s]\n"
     ]
    },
    {
     "name": "stdout",
     "output_type": "stream",
     "text": [
      "make_199.PIERCE-ARROW\n"
     ]
    },
    {
     "name": "stderr",
     "output_type": "stream",
     "text": [
      "Progress: 100%|██████████████████████████| 339/339 [00:00<00:00, 6664.55it/s]\n"
     ]
    },
    {
     "name": "stdout",
     "output_type": "stream",
     "text": [
      "make_2.AC\n"
     ]
    },
    {
     "name": "stderr",
     "output_type": "stream",
     "text": [
      "Progress: 100%|██████████████████████████| 339/339 [00:00<00:00, 2495.10it/s]\n"
     ]
    },
    {
     "name": "stdout",
     "output_type": "stream",
     "text": [
      "make_20.AUBURN\n"
     ]
    },
    {
     "name": "stderr",
     "output_type": "stream",
     "text": [
      "Progress: 100%|██████████████████████████| 339/339 [00:00<00:00, 3653.29it/s]\n"
     ]
    },
    {
     "name": "stdout",
     "output_type": "stream",
     "text": [
      "make_200.PLYMOUTH\n"
     ]
    },
    {
     "name": "stderr",
     "output_type": "stream",
     "text": [
      "Progress: 100%|████████████████████████████| 339/339 [01:12<00:00,  4.65it/s]\n"
     ]
    },
    {
     "name": "stdout",
     "output_type": "stream",
     "text": [
      "make_201.POLESTAR\n"
     ]
    },
    {
     "name": "stderr",
     "output_type": "stream",
     "text": [
      "Progress: 100%|█████████████████████████| 339/339 [00:00<00:00, 12850.15it/s]\n"
     ]
    },
    {
     "name": "stdout",
     "output_type": "stream",
     "text": [
      "make_202.PONTIAC\n"
     ]
    },
    {
     "name": "stderr",
     "output_type": "stream",
     "text": [
      "Progress: 100%|████████████████████████████| 339/339 [01:44<00:00,  3.26it/s]\n"
     ]
    },
    {
     "name": "stdout",
     "output_type": "stream",
     "text": [
      "make_203.PORSCHE\n"
     ]
    },
    {
     "name": "stderr",
     "output_type": "stream",
     "text": [
      "Progress: 100%|████████████████████████████| 339/339 [00:15<00:00, 21.89it/s]\n"
     ]
    },
    {
     "name": "stdout",
     "output_type": "stream",
     "text": [
      "make_204.QVALE\n"
     ]
    },
    {
     "name": "stderr",
     "output_type": "stream",
     "text": [
      "Progress: 100%|█████████████████████████| 339/339 [00:00<00:00, 12875.63it/s]\n"
     ]
    },
    {
     "name": "stdout",
     "output_type": "stream",
     "text": [
      "make_205.RAM\n"
     ]
    },
    {
     "name": "stderr",
     "output_type": "stream",
     "text": [
      "Progress: 100%|████████████████████████████| 339/339 [00:21<00:00, 15.71it/s]\n"
     ]
    },
    {
     "name": "stdout",
     "output_type": "stream",
     "text": [
      "make_206.RELIANT\n"
     ]
    },
    {
     "name": "stderr",
     "output_type": "stream",
     "text": [
      "Progress: 100%|██████████████████████████| 339/339 [00:00<00:00, 5427.64it/s]\n"
     ]
    },
    {
     "name": "stdout",
     "output_type": "stream",
     "text": [
      "make_207.RENAULT\n"
     ]
    },
    {
     "name": "stderr",
     "output_type": "stream",
     "text": [
      "Progress: 100%|████████████████████████████| 339/339 [00:03<00:00, 89.89it/s]\n"
     ]
    },
    {
     "name": "stdout",
     "output_type": "stream",
     "text": [
      "make_208.REO\n"
     ]
    },
    {
     "name": "stderr",
     "output_type": "stream",
     "text": [
      "Progress: 100%|██████████████████████████| 339/339 [00:00<00:00, 2573.09it/s]\n"
     ]
    },
    {
     "name": "stdout",
     "output_type": "stream",
     "text": [
      "make_209.RICKENBACKER\n"
     ]
    },
    {
     "name": "stderr",
     "output_type": "stream",
     "text": [
      "Progress: 100%|█████████████████████████| 339/339 [00:00<00:00, 32436.84it/s]\n"
     ]
    },
    {
     "name": "stdout",
     "output_type": "stream",
     "text": [
      "make_21.AUDI\n"
     ]
    },
    {
     "name": "stderr",
     "output_type": "stream",
     "text": [
      "Progress: 100%|████████████████████████████| 339/339 [00:37<00:00,  9.05it/s]\n"
     ]
    },
    {
     "name": "stdout",
     "output_type": "stream",
     "text": [
      "make_210.RILEY\n"
     ]
    },
    {
     "name": "stderr",
     "output_type": "stream",
     "text": [
      "Progress: 100%|██████████████████████████| 339/339 [00:00<00:00, 3368.81it/s]\n"
     ]
    },
    {
     "name": "stdout",
     "output_type": "stream",
     "text": [
      "make_211.RIVIAN\n"
     ]
    },
    {
     "name": "stderr",
     "output_type": "stream",
     "text": [
      "Progress: 100%|█████████████████████████| 339/339 [00:00<00:00, 23971.09it/s]\n"
     ]
    },
    {
     "name": "stdout",
     "output_type": "stream",
     "text": [
      "make_212.ROAMER\n"
     ]
    },
    {
     "name": "stderr",
     "output_type": "stream",
     "text": [
      "Progress: 100%|█████████████████████████| 339/339 [00:00<00:00, 27878.69it/s]\n"
     ]
    },
    {
     "name": "stdout",
     "output_type": "stream",
     "text": [
      "make_213.ROCKNE\n"
     ]
    },
    {
     "name": "stderr",
     "output_type": "stream",
     "text": [
      "Progress: 100%|█████████████████████████| 339/339 [00:00<00:00, 49038.42it/s]\n"
     ]
    },
    {
     "name": "stdout",
     "output_type": "stream",
     "text": [
      "make_214.ROLLS-ROYCE\n"
     ]
    },
    {
     "name": "stderr",
     "output_type": "stream",
     "text": [
      "Progress: 100%|███████████████████████████| 339/339 [00:01<00:00, 185.26it/s]\n"
     ]
    },
    {
     "name": "stdout",
     "output_type": "stream",
     "text": [
      "make_215.ROVER\n"
     ]
    },
    {
     "name": "stderr",
     "output_type": "stream",
     "text": [
      "Progress: 100%|██████████████████████████| 339/339 [00:00<00:00, 1216.33it/s]\n"
     ]
    },
    {
     "name": "stdout",
     "output_type": "stream",
     "text": [
      "make_216.SAAB\n"
     ]
    },
    {
     "name": "stderr",
     "output_type": "stream",
     "text": [
      "Progress: 100%|████████████████████████████| 339/339 [00:08<00:00, 40.41it/s]\n"
     ]
    },
    {
     "name": "stdout",
     "output_type": "stream",
     "text": [
      "make_217.SABRA\n"
     ]
    },
    {
     "name": "stderr",
     "output_type": "stream",
     "text": [
      "Progress: 100%|█████████████████████████| 339/339 [00:00<00:00, 20542.79it/s]\n"
     ]
    },
    {
     "name": "stdout",
     "output_type": "stream",
     "text": [
      "make_218.SALEEN\n"
     ]
    },
    {
     "name": "stderr",
     "output_type": "stream",
     "text": [
      "Progress: 100%|█████████████████████████| 339/339 [00:00<00:00, 24453.85it/s]\n"
     ]
    },
    {
     "name": "stdout",
     "output_type": "stream",
     "text": [
      "make_219.SALMSON\n"
     ]
    },
    {
     "name": "stderr",
     "output_type": "stream",
     "text": [
      "Progress: 100%|█████████████████████████| 339/339 [00:00<00:00, 35534.29it/s]\n"
     ]
    },
    {
     "name": "stdout",
     "output_type": "stream",
     "text": [
      "make_22.AUSTIN\n"
     ]
    },
    {
     "name": "stderr",
     "output_type": "stream",
     "text": [
      "Progress: 100%|███████████████████████████| 339/339 [00:00<00:00, 579.54it/s]\n"
     ]
    },
    {
     "name": "stdout",
     "output_type": "stream",
     "text": [
      "make_220.SATURN\n"
     ]
    },
    {
     "name": "stderr",
     "output_type": "stream",
     "text": [
      "Progress: 100%|████████████████████████████| 339/339 [00:11<00:00, 30.09it/s]\n"
     ]
    },
    {
     "name": "stdout",
     "output_type": "stream",
     "text": [
      "make_221.SCION\n"
     ]
    },
    {
     "name": "stderr",
     "output_type": "stream",
     "text": [
      "Progress: 100%|███████████████████████████| 339/339 [00:02<00:00, 136.33it/s]\n"
     ]
    },
    {
     "name": "stdout",
     "output_type": "stream",
     "text": [
      "make_222.SEAT\n"
     ]
    },
    {
     "name": "stderr",
     "output_type": "stream",
     "text": [
      "Progress: 100%|███████████████████████████| 339/339 [00:03<00:00, 105.73it/s]\n"
     ]
    },
    {
     "name": "stdout",
     "output_type": "stream",
     "text": [
      "make_223.SHELBY\n"
     ]
    },
    {
     "name": "stderr",
     "output_type": "stream",
     "text": [
      "Progress: 100%|███████████████████████████| 339/339 [00:00<00:00, 937.15it/s]\n"
     ]
    },
    {
     "name": "stdout",
     "output_type": "stream",
     "text": [
      "make_224.SIATA\n"
     ]
    },
    {
     "name": "stderr",
     "output_type": "stream",
     "text": [
      "Progress: 100%|██████████████████████████| 339/339 [00:00<00:00, 7476.32it/s]\n"
     ]
    },
    {
     "name": "stdout",
     "output_type": "stream",
     "text": [
      "make_225.SIMCA\n"
     ]
    },
    {
     "name": "stderr",
     "output_type": "stream",
     "text": [
      "Progress: 100%|██████████████████████████| 339/339 [00:00<00:00, 1857.82it/s]\n"
     ]
    },
    {
     "name": "stdout",
     "output_type": "stream",
     "text": [
      "make_226.SINGER\n"
     ]
    },
    {
     "name": "stderr",
     "output_type": "stream",
     "text": [
      "Progress: 100%|██████████████████████████| 339/339 [00:00<00:00, 5801.98it/s]\n"
     ]
    },
    {
     "name": "stdout",
     "output_type": "stream",
     "text": [
      "make_227.SKODA\n"
     ]
    },
    {
     "name": "stderr",
     "output_type": "stream",
     "text": [
      "Progress: 100%|██████████████████████████| 339/339 [00:00<00:00, 4449.35it/s]\n"
     ]
    },
    {
     "name": "stdout",
     "output_type": "stream",
     "text": [
      "make_228.SMART\n"
     ]
    },
    {
     "name": "stderr",
     "output_type": "stream",
     "text": [
      "Progress: 100%|███████████████████████████| 339/339 [00:00<00:00, 440.08it/s]\n"
     ]
    },
    {
     "name": "stdout",
     "output_type": "stream",
     "text": [
      "make_229.SPYKER\n"
     ]
    },
    {
     "name": "stderr",
     "output_type": "stream",
     "text": [
      "Progress: 100%|█████████████████████████| 339/339 [00:00<00:00, 17259.25it/s]\n"
     ]
    },
    {
     "name": "stdout",
     "output_type": "stream",
     "text": [
      "make_23.AUSTIN-HEALEY\n"
     ]
    },
    {
     "name": "stderr",
     "output_type": "stream",
     "text": [
      "Progress: 100%|██████████████████████████| 339/339 [00:00<00:00, 1078.86it/s]\n"
     ]
    },
    {
     "name": "stdout",
     "output_type": "stream",
     "text": [
      "make_230.SRT\n"
     ]
    },
    {
     "name": "stderr",
     "output_type": "stream",
     "text": [
      "Progress: 100%|██████████████████████████| 339/339 [00:00<00:00, 6258.42it/s]\n"
     ]
    },
    {
     "name": "stdout",
     "output_type": "stream",
     "text": [
      "make_231.SSANGYONG\n"
     ]
    },
    {
     "name": "stderr",
     "output_type": "stream",
     "text": [
      "Progress: 100%|█████████████████████████| 339/339 [00:00<00:00, 33117.55it/s]\n"
     ]
    },
    {
     "name": "stdout",
     "output_type": "stream",
     "text": [
      "make_232.STANDARD\n"
     ]
    },
    {
     "name": "stderr",
     "output_type": "stream",
     "text": [
      "Progress: 100%|██████████████████████████| 339/339 [00:00<00:00, 9222.74it/s]\n"
     ]
    },
    {
     "name": "stdout",
     "output_type": "stream",
     "text": [
      "make_233.STAR\n"
     ]
    },
    {
     "name": "stderr",
     "output_type": "stream",
     "text": [
      "Progress: 100%|█████████████████████████| 339/339 [00:00<00:00, 41446.66it/s]\n"
     ]
    },
    {
     "name": "stdout",
     "output_type": "stream",
     "text": [
      "make_234.STEARNS KNIGHT\n"
     ]
    },
    {
     "name": "stderr",
     "output_type": "stream",
     "text": [
      "Progress: 100%|█████████████████████████| 339/339 [00:00<00:00, 31866.18it/s]\n"
     ]
    },
    {
     "name": "stdout",
     "output_type": "stream",
     "text": [
      "make_235.STERLING\n"
     ]
    },
    {
     "name": "stderr",
     "output_type": "stream",
     "text": [
      "Progress: 100%|██████████████████████████| 339/339 [00:00<00:00, 1128.47it/s]\n"
     ]
    },
    {
     "name": "stdout",
     "output_type": "stream",
     "text": [
      "make_236.STEVENS-DURYEA\n"
     ]
    },
    {
     "name": "stderr",
     "output_type": "stream",
     "text": [
      "Progress: 100%|█████████████████████████| 339/339 [00:00<00:00, 36117.38it/s]\n"
     ]
    },
    {
     "name": "stdout",
     "output_type": "stream",
     "text": [
      "make_237.STUDEBAKER\n"
     ]
    },
    {
     "name": "stderr",
     "output_type": "stream",
     "text": [
      "Progress: 100%|████████████████████████████| 339/339 [00:05<00:00, 61.69it/s]\n"
     ]
    },
    {
     "name": "stdout",
     "output_type": "stream",
     "text": [
      "make_238.STUTZ\n"
     ]
    },
    {
     "name": "stderr",
     "output_type": "stream",
     "text": [
      "Progress: 100%|██████████████████████████| 339/339 [00:00<00:00, 5628.16it/s]\n"
     ]
    },
    {
     "name": "stdout",
     "output_type": "stream",
     "text": [
      "make_239.SUBARU\n"
     ]
    },
    {
     "name": "stderr",
     "output_type": "stream",
     "text": [
      "Progress: 100%|████████████████████████████| 339/339 [00:21<00:00, 15.61it/s]\n"
     ]
    },
    {
     "name": "stdout",
     "output_type": "stream",
     "text": [
      "make_24.AVANTI\n"
     ]
    },
    {
     "name": "stderr",
     "output_type": "stream",
     "text": [
      "Progress: 100%|███████████████████████████| 339/339 [00:00<00:00, 562.74it/s]\n"
     ]
    },
    {
     "name": "stdout",
     "output_type": "stream",
     "text": [
      "make_240.SUNBEAM\n"
     ]
    },
    {
     "name": "stderr",
     "output_type": "stream",
     "text": [
      "Progress: 100%|██████████████████████████| 339/339 [00:00<00:00, 1005.35it/s]\n"
     ]
    },
    {
     "name": "stdout",
     "output_type": "stream",
     "text": [
      "make_241.SUZUKI\n"
     ]
    },
    {
     "name": "stderr",
     "output_type": "stream",
     "text": [
      "Progress: 100%|████████████████████████████| 339/339 [00:07<00:00, 43.18it/s]\n"
     ]
    },
    {
     "name": "stdout",
     "output_type": "stream",
     "text": [
      "make_242.SWALLOW\n"
     ]
    },
    {
     "name": "stderr",
     "output_type": "stream",
     "text": [
      "Progress: 100%|█████████████████████████| 339/339 [00:00<00:00, 15868.54it/s]\n"
     ]
    },
    {
     "name": "stdout",
     "output_type": "stream",
     "text": [
      "make_243.TALBOT-LAGO\n"
     ]
    },
    {
     "name": "stderr",
     "output_type": "stream",
     "text": [
      "Progress: 100%|█████████████████████████| 339/339 [00:00<00:00, 38952.12it/s]\n"
     ]
    },
    {
     "name": "stdout",
     "output_type": "stream",
     "text": [
      "make_244.TATRA\n"
     ]
    },
    {
     "name": "stderr",
     "output_type": "stream",
     "text": [
      "Progress: 100%|█████████████████████████| 339/339 [00:00<00:00, 24324.16it/s]\n"
     ]
    },
    {
     "name": "stdout",
     "output_type": "stream",
     "text": [
      "make_245.TESLA\n"
     ]
    },
    {
     "name": "stderr",
     "output_type": "stream",
     "text": [
      "Progress: 100%|███████████████████████████| 339/339 [00:00<00:00, 987.11it/s]\n"
     ]
    },
    {
     "name": "stdout",
     "output_type": "stream",
     "text": [
      "make_246.THINK\n"
     ]
    },
    {
     "name": "stderr",
     "output_type": "stream",
     "text": [
      "Progress: 100%|█████████████████████████| 339/339 [00:00<00:00, 38044.34it/s]\n"
     ]
    },
    {
     "name": "stdout",
     "output_type": "stream",
     "text": [
      "make_247.TOYOTA\n"
     ]
    },
    {
     "name": "stderr",
     "output_type": "stream",
     "text": [
      "Progress: 100%|████████████████████████████| 339/339 [01:11<00:00,  4.73it/s]\n"
     ]
    },
    {
     "name": "stdout",
     "output_type": "stream",
     "text": [
      "make_248.TRIUMPH\n"
     ]
    },
    {
     "name": "stderr",
     "output_type": "stream",
     "text": [
      "Progress: 100%|███████████████████████████| 339/339 [00:01<00:00, 310.70it/s]\n"
     ]
    },
    {
     "name": "stdout",
     "output_type": "stream",
     "text": [
      "make_249.TURNER\n"
     ]
    },
    {
     "name": "stderr",
     "output_type": "stream",
     "text": [
      "Progress: 100%|██████████████████████████| 339/339 [00:00<00:00, 6969.02it/s]\n"
     ]
    },
    {
     "name": "stdout",
     "output_type": "stream",
     "text": [
      "make_25.BAIC\n"
     ]
    },
    {
     "name": "stderr",
     "output_type": "stream",
     "text": [
      "Progress: 100%|██████████████████████████| 339/339 [00:00<00:00, 8718.04it/s]\n"
     ]
    },
    {
     "name": "stdout",
     "output_type": "stream",
     "text": [
      "make_250.TVR\n"
     ]
    },
    {
     "name": "stderr",
     "output_type": "stream",
     "text": [
      "Progress: 100%|██████████████████████████| 339/339 [00:00<00:00, 1901.85it/s]\n"
     ]
    },
    {
     "name": "stdout",
     "output_type": "stream",
     "text": [
      "make_251.UAZ\n"
     ]
    },
    {
     "name": "stderr",
     "output_type": "stream",
     "text": [
      "Progress: 100%|█████████████████████████| 339/339 [00:00<00:00, 21109.76it/s]\n"
     ]
    },
    {
     "name": "stdout",
     "output_type": "stream",
     "text": [
      "make_252.UD\n"
     ]
    },
    {
     "name": "stderr",
     "output_type": "stream",
     "text": [
      "Progress: 100%|██████████████████████████| 339/339 [00:00<00:00, 1091.93it/s]\n"
     ]
    },
    {
     "name": "stdout",
     "output_type": "stream",
     "text": [
      "make_253.UTILIMASTER\n"
     ]
    },
    {
     "name": "stderr",
     "output_type": "stream",
     "text": [
      "Progress: 100%|██████████████████████████| 339/339 [00:00<00:00, 8613.84it/s]\n"
     ]
    },
    {
     "name": "stdout",
     "output_type": "stream",
     "text": [
      "make_254.VAM\n"
     ]
    },
    {
     "name": "stderr",
     "output_type": "stream",
     "text": [
      "Progress: 100%|███████████████████████████| 339/339 [00:00<00:00, 832.71it/s]\n"
     ]
    },
    {
     "name": "stdout",
     "output_type": "stream",
     "text": [
      "make_255.VAUXHALL\n"
     ]
    },
    {
     "name": "stderr",
     "output_type": "stream",
     "text": [
      "Progress: 100%|█████████████████████████| 339/339 [00:00<00:00, 10660.05it/s]\n"
     ]
    },
    {
     "name": "stdout",
     "output_type": "stream",
     "text": [
      "make_256.VESPA\n"
     ]
    },
    {
     "name": "stderr",
     "output_type": "stream",
     "text": [
      "Progress: 100%|█████████████████████████| 339/339 [00:00<00:00, 32662.62it/s]\n"
     ]
    },
    {
     "name": "stdout",
     "output_type": "stream",
     "text": [
      "make_257.VINFAST\n"
     ]
    },
    {
     "name": "stderr",
     "output_type": "stream",
     "text": [
      "Progress: 100%|█████████████████████████| 339/339 [00:00<00:00, 50612.93it/s]\n"
     ]
    },
    {
     "name": "stdout",
     "output_type": "stream",
     "text": [
      "make_258.VOLKSWAGEN\n"
     ]
    },
    {
     "name": "stderr",
     "output_type": "stream",
     "text": [
      "Progress: 100%|████████████████████████████| 339/339 [00:57<00:00,  5.87it/s]\n"
     ]
    },
    {
     "name": "stdout",
     "output_type": "stream",
     "text": [
      "make_259.VOLVO\n"
     ]
    },
    {
     "name": "stderr",
     "output_type": "stream",
     "text": [
      "Progress: 100%|████████████████████████████| 339/339 [00:29<00:00, 11.37it/s]\n"
     ]
    },
    {
     "name": "stdout",
     "output_type": "stream",
     "text": [
      "make_26.BENTLEY\n"
     ]
    },
    {
     "name": "stderr",
     "output_type": "stream",
     "text": [
      "Progress: 100%|███████████████████████████| 339/339 [00:01<00:00, 221.87it/s]\n"
     ]
    },
    {
     "name": "stdout",
     "output_type": "stream",
     "text": [
      "make_260.VPG\n"
     ]
    },
    {
     "name": "stderr",
     "output_type": "stream",
     "text": [
      "Progress: 100%|██████████████████████████| 339/339 [00:00<00:00, 9188.64it/s]\n"
     ]
    },
    {
     "name": "stdout",
     "output_type": "stream",
     "text": [
      "make_261.WARTBURG\n"
     ]
    },
    {
     "name": "stderr",
     "output_type": "stream",
     "text": [
      "Progress: 100%|█████████████████████████| 339/339 [00:00<00:00, 21390.82it/s]\n"
     ]
    },
    {
     "name": "stdout",
     "output_type": "stream",
     "text": [
      "make_262.WESTCOTT\n"
     ]
    },
    {
     "name": "stderr",
     "output_type": "stream",
     "text": [
      "Progress: 100%|█████████████████████████| 339/339 [00:00<00:00, 35598.34it/s]\n"
     ]
    },
    {
     "name": "stdout",
     "output_type": "stream",
     "text": [
      "make_263.WHIPPET\n"
     ]
    },
    {
     "name": "stderr",
     "output_type": "stream",
     "text": [
      "Progress: 100%|█████████████████████████| 339/339 [00:00<00:00, 32830.04it/s]\n"
     ]
    },
    {
     "name": "stdout",
     "output_type": "stream",
     "text": [
      "make_264.WILLYS\n"
     ]
    },
    {
     "name": "stderr",
     "output_type": "stream",
     "text": [
      "Progress: 100%|██████████████████████████| 339/339 [00:00<00:00, 1161.42it/s]\n"
     ]
    },
    {
     "name": "stdout",
     "output_type": "stream",
     "text": [
      "make_265.WINDSOR\n"
     ]
    },
    {
     "name": "stderr",
     "output_type": "stream",
     "text": [
      "Progress: 100%|█████████████████████████| 339/339 [00:00<00:00, 37936.74it/s]\n"
     ]
    },
    {
     "name": "stdout",
     "output_type": "stream",
     "text": [
      "make_266.WOLSELEY\n"
     ]
    },
    {
     "name": "stderr",
     "output_type": "stream",
     "text": [
      "Progress: 100%|██████████████████████████| 339/339 [00:00<00:00, 4738.41it/s]\n"
     ]
    },
    {
     "name": "stdout",
     "output_type": "stream",
     "text": [
      "make_267.WORKHORSE\n"
     ]
    },
    {
     "name": "stderr",
     "output_type": "stream",
     "text": [
      "Progress: 100%|███████████████████████████| 339/339 [00:01<00:00, 257.49it/s]\n"
     ]
    },
    {
     "name": "stdout",
     "output_type": "stream",
     "text": [
      "make_268.YELLOW CAB\n"
     ]
    },
    {
     "name": "stderr",
     "output_type": "stream",
     "text": [
      "Progress: 100%|█████████████████████████| 339/339 [00:00<00:00, 26143.55it/s]\n"
     ]
    },
    {
     "name": "stdout",
     "output_type": "stream",
     "text": [
      "make_269.YUGO\n"
     ]
    },
    {
     "name": "stderr",
     "output_type": "stream",
     "text": [
      "Progress: 100%|██████████████████████████| 339/339 [00:00<00:00, 1060.79it/s]\n"
     ]
    },
    {
     "name": "stdout",
     "output_type": "stream",
     "text": [
      "make_27.BERKELEY\n"
     ]
    },
    {
     "name": "stderr",
     "output_type": "stream",
     "text": [
      "Progress: 100%|█████████████████████████| 339/339 [00:00<00:00, 21656.02it/s]\n"
     ]
    },
    {
     "name": "stdout",
     "output_type": "stream",
     "text": [
      "make_270.ZACUA\n"
     ]
    },
    {
     "name": "stderr",
     "output_type": "stream",
     "text": [
      "Progress: 100%|█████████████████████████| 339/339 [00:00<00:00, 29396.90it/s]\n"
     ]
    },
    {
     "name": "stdout",
     "output_type": "stream",
     "text": [
      "make_271.ZUNDAPP\n"
     ]
    },
    {
     "name": "stderr",
     "output_type": "stream",
     "text": [
      "Progress: 100%|█████████████████████████| 339/339 [00:00<00:00, 40573.82it/s]\n"
     ]
    },
    {
     "name": "stdout",
     "output_type": "stream",
     "text": [
      "make_28.BIZZARRINI\n"
     ]
    },
    {
     "name": "stderr",
     "output_type": "stream",
     "text": [
      "Progress: 100%|██████████████████████████| 339/339 [00:00<00:00, 3187.77it/s]\n"
     ]
    },
    {
     "name": "stdout",
     "output_type": "stream",
     "text": [
      "make_29.BMW\n"
     ]
    },
    {
     "name": "stderr",
     "output_type": "stream",
     "text": [
      "Progress: 100%|████████████████████████████| 339/339 [01:00<00:00,  5.60it/s]\n"
     ]
    },
    {
     "name": "stdout",
     "output_type": "stream",
     "text": [
      "make_3.ACURA\n"
     ]
    },
    {
     "name": "stderr",
     "output_type": "stream",
     "text": [
      "Progress: 100%|████████████████████████████| 339/339 [00:13<00:00, 25.83it/s]\n"
     ]
    },
    {
     "name": "stdout",
     "output_type": "stream",
     "text": [
      "make_30.BOND\n"
     ]
    },
    {
     "name": "stderr",
     "output_type": "stream",
     "text": [
      "Progress: 100%|█████████████████████████| 339/339 [00:00<00:00, 19810.64it/s]\n"
     ]
    },
    {
     "name": "stdout",
     "output_type": "stream",
     "text": [
      "make_31.BORGWARD\n"
     ]
    },
    {
     "name": "stderr",
     "output_type": "stream",
     "text": [
      "Progress: 100%|██████████████████████████| 339/339 [00:00<00:00, 3748.92it/s]\n"
     ]
    },
    {
     "name": "stdout",
     "output_type": "stream",
     "text": [
      "make_32.BRICKLIN\n"
     ]
    },
    {
     "name": "stderr",
     "output_type": "stream",
     "text": [
      "Progress: 100%|██████████████████████████| 339/339 [00:00<00:00, 7378.97it/s]\n"
     ]
    },
    {
     "name": "stdout",
     "output_type": "stream",
     "text": [
      "make_33.BRIGHTDROP\n"
     ]
    },
    {
     "name": "stderr",
     "output_type": "stream",
     "text": [
      "Progress: 100%|█████████████████████████| 339/339 [00:00<00:00, 50132.89it/s]\n"
     ]
    },
    {
     "name": "stdout",
     "output_type": "stream",
     "text": [
      "make_34.BRISTOL\n"
     ]
    },
    {
     "name": "stderr",
     "output_type": "stream",
     "text": [
      "Progress: 100%|██████████████████████████| 339/339 [00:00<00:00, 3001.78it/s]\n"
     ]
    },
    {
     "name": "stdout",
     "output_type": "stream",
     "text": [
      "make_35.BUGATTI\n"
     ]
    },
    {
     "name": "stderr",
     "output_type": "stream",
     "text": [
      "Progress: 100%|█████████████████████████| 339/339 [00:00<00:00, 11298.48it/s]\n"
     ]
    },
    {
     "name": "stdout",
     "output_type": "stream",
     "text": [
      "make_36.BUICK\n"
     ]
    },
    {
     "name": "stderr",
     "output_type": "stream",
     "text": [
      "Progress: 100%|████████████████████████████| 339/339 [01:14<00:00,  4.53it/s]\n"
     ]
    },
    {
     "name": "stdout",
     "output_type": "stream",
     "text": [
      "make_37.CADILLAC\n"
     ]
    },
    {
     "name": "stderr",
     "output_type": "stream",
     "text": [
      "Progress: 100%|████████████████████████████| 339/339 [00:50<00:00,  6.76it/s]\n"
     ]
    },
    {
     "name": "stdout",
     "output_type": "stream",
     "text": [
      "make_38.CASE\n"
     ]
    },
    {
     "name": "stderr",
     "output_type": "stream",
     "text": [
      "Progress: 100%|█████████████████████████| 339/339 [00:00<00:00, 16140.73it/s]\n"
     ]
    },
    {
     "name": "stdout",
     "output_type": "stream",
     "text": [
      "make_39.CHANGAN\n"
     ]
    },
    {
     "name": "stderr",
     "output_type": "stream",
     "text": [
      "Progress: 100%|█████████████████████████| 339/339 [00:00<00:00, 32517.70it/s]\n"
     ]
    },
    {
     "name": "stdout",
     "output_type": "stream",
     "text": [
      "make_4.ALFA ROMEO\n"
     ]
    },
    {
     "name": "stderr",
     "output_type": "stream",
     "text": [
      "Progress: 100%|███████████████████████████| 339/339 [00:02<00:00, 151.39it/s]\n"
     ]
    },
    {
     "name": "stdout",
     "output_type": "stream",
     "text": [
      "make_40.CHECKER\n"
     ]
    },
    {
     "name": "stderr",
     "output_type": "stream",
     "text": [
      "Progress: 100%|███████████████████████████| 339/339 [00:02<00:00, 119.21it/s]\n"
     ]
    },
    {
     "name": "stdout",
     "output_type": "stream",
     "text": [
      "make_41.CHEVROLET\n"
     ]
    },
    {
     "name": "stderr",
     "output_type": "stream",
     "text": [
      "Progress: 100%|████████████████████████████| 339/339 [09:38<00:00,  1.71s/it]\n"
     ]
    },
    {
     "name": "stdout",
     "output_type": "stream",
     "text": [
      "make_42.CHIREY\n"
     ]
    },
    {
     "name": "stderr",
     "output_type": "stream",
     "text": [
      "Progress: 100%|█████████████████████████| 339/339 [00:00<00:00, 10001.26it/s]\n"
     ]
    },
    {
     "name": "stdout",
     "output_type": "stream",
     "text": [
      "make_43.CHRYSLER\n"
     ]
    },
    {
     "name": "stderr",
     "output_type": "stream",
     "text": [
      "Progress: 100%|████████████████████████████| 339/339 [00:59<00:00,  5.68it/s]\n"
     ]
    },
    {
     "name": "stdout",
     "output_type": "stream",
     "text": [
      "make_44.CISITALIA\n"
     ]
    },
    {
     "name": "stderr",
     "output_type": "stream",
     "text": [
      "Progress: 100%|█████████████████████████| 339/339 [00:00<00:00, 11709.08it/s]\n"
     ]
    },
    {
     "name": "stdout",
     "output_type": "stream",
     "text": [
      "make_45.CITROEN\n"
     ]
    },
    {
     "name": "stderr",
     "output_type": "stream",
     "text": [
      "Progress: 100%|██████████████████████████| 339/339 [00:00<00:00, 1205.06it/s]\n"
     ]
    },
    {
     "name": "stdout",
     "output_type": "stream",
     "text": [
      "make_46.COLE\n"
     ]
    },
    {
     "name": "stderr",
     "output_type": "stream",
     "text": [
      "Progress: 100%|█████████████████████████| 339/339 [00:00<00:00, 31092.70it/s]\n"
     ]
    },
    {
     "name": "stdout",
     "output_type": "stream",
     "text": [
      "make_47.CONTINENTAL\n"
     ]
    },
    {
     "name": "stderr",
     "output_type": "stream",
     "text": [
      "Progress: 100%|█████████████████████████| 339/339 [00:00<00:00, 26327.98it/s]\n"
     ]
    },
    {
     "name": "stdout",
     "output_type": "stream",
     "text": [
      "make_48.CORD\n"
     ]
    },
    {
     "name": "stderr",
     "output_type": "stream",
     "text": [
      "Progress: 100%|█████████████████████████| 339/339 [00:00<00:00, 14099.69it/s]\n"
     ]
    },
    {
     "name": "stdout",
     "output_type": "stream",
     "text": [
      "make_49.CROSLEY\n"
     ]
    },
    {
     "name": "stderr",
     "output_type": "stream",
     "text": [
      "Progress: 100%|██████████████████████████| 339/339 [00:00<00:00, 3108.58it/s]\n"
     ]
    },
    {
     "name": "stdout",
     "output_type": "stream",
     "text": [
      "make_5.ALLARD\n"
     ]
    },
    {
     "name": "stderr",
     "output_type": "stream",
     "text": [
      "Progress: 100%|███████████████████████████| 339/339 [00:00<00:00, 974.91it/s]\n"
     ]
    },
    {
     "name": "stdout",
     "output_type": "stream",
     "text": [
      "make_50.CUNNINGHAM\n"
     ]
    },
    {
     "name": "stderr",
     "output_type": "stream",
     "text": [
      "Progress: 100%|█████████████████████████| 339/339 [00:00<00:00, 26363.13it/s]\n"
     ]
    },
    {
     "name": "stdout",
     "output_type": "stream",
     "text": [
      "make_51.CUPRA\n"
     ]
    },
    {
     "name": "stderr",
     "output_type": "stream",
     "text": [
      "Progress: 100%|██████████████████████████| 339/339 [00:00<00:00, 5154.87it/s]\n"
     ]
    },
    {
     "name": "stdout",
     "output_type": "stream",
     "text": [
      "make_52.DAEWOO\n"
     ]
    },
    {
     "name": "stderr",
     "output_type": "stream",
     "text": [
      "Progress: 100%|███████████████████████████| 339/339 [00:00<00:00, 469.05it/s]\n"
     ]
    },
    {
     "name": "stdout",
     "output_type": "stream",
     "text": [
      "make_53.DAF\n"
     ]
    },
    {
     "name": "stderr",
     "output_type": "stream",
     "text": [
      "Progress: 100%|██████████████████████████| 339/339 [00:00<00:00, 6632.75it/s]\n"
     ]
    },
    {
     "name": "stdout",
     "output_type": "stream",
     "text": [
      "make_54.DAIHATSU\n"
     ]
    },
    {
     "name": "stderr",
     "output_type": "stream",
     "text": [
      "Progress: 100%|██████████████████████████| 339/339 [00:00<00:00, 1118.27it/s]\n"
     ]
    },
    {
     "name": "stdout",
     "output_type": "stream",
     "text": [
      "make_55.DAIMLER\n"
     ]
    },
    {
     "name": "stderr",
     "output_type": "stream",
     "text": [
      "Progress: 100%|██████████████████████████| 339/339 [00:00<00:00, 3670.54it/s]\n"
     ]
    },
    {
     "name": "stdout",
     "output_type": "stream",
     "text": [
      "make_56.DATSUN\n"
     ]
    },
    {
     "name": "stderr",
     "output_type": "stream",
     "text": [
      "Progress: 100%|██████████████████████████| 339/339 [00:00<00:00, 3330.07it/s]\n"
     ]
    },
    {
     "name": "stdout",
     "output_type": "stream",
     "text": [
      "make_57.DELAGE\n"
     ]
    },
    {
     "name": "stderr",
     "output_type": "stream",
     "text": [
      "Progress: 100%|█████████████████████████| 339/339 [00:00<00:00, 31342.86it/s]\n"
     ]
    },
    {
     "name": "stdout",
     "output_type": "stream",
     "text": [
      "make_58.DELAHAYE\n"
     ]
    },
    {
     "name": "stderr",
     "output_type": "stream",
     "text": [
      "Progress: 100%|█████████████████████████| 339/339 [00:00<00:00, 19667.05it/s]\n"
     ]
    },
    {
     "name": "stdout",
     "output_type": "stream",
     "text": [
      "make_59.DELLOW\n"
     ]
    },
    {
     "name": "stderr",
     "output_type": "stream",
     "text": [
      "Progress: 100%|█████████████████████████| 339/339 [00:00<00:00, 16414.07it/s]\n"
     ]
    },
    {
     "name": "stdout",
     "output_type": "stream",
     "text": [
      "make_6.ALLSTATE\n"
     ]
    },
    {
     "name": "stderr",
     "output_type": "stream",
     "text": [
      "Progress: 100%|██████████████████████████| 339/339 [00:00<00:00, 8821.84it/s]\n"
     ]
    },
    {
     "name": "stdout",
     "output_type": "stream",
     "text": [
      "make_60.DELOREAN\n"
     ]
    },
    {
     "name": "stderr",
     "output_type": "stream",
     "text": [
      "Progress: 100%|██████████████████████████| 339/339 [00:00<00:00, 8218.99it/s]\n"
     ]
    },
    {
     "name": "stdout",
     "output_type": "stream",
     "text": [
      "make_61.DENZEL\n"
     ]
    },
    {
     "name": "stderr",
     "output_type": "stream",
     "text": [
      "Progress: 100%|█████████████████████████| 339/339 [00:00<00:00, 40047.01it/s]\n"
     ]
    },
    {
     "name": "stdout",
     "output_type": "stream",
     "text": [
      "make_62.DESOTO\n"
     ]
    },
    {
     "name": "stderr",
     "output_type": "stream",
     "text": [
      "Progress: 100%|███████████████████████████| 339/339 [00:00<00:00, 474.25it/s]\n"
     ]
    },
    {
     "name": "stdout",
     "output_type": "stream",
     "text": [
      "make_63.DETOMASO\n"
     ]
    },
    {
     "name": "stderr",
     "output_type": "stream",
     "text": [
      "Progress: 100%|██████████████████████████| 339/339 [00:00<00:00, 2006.29it/s]\n"
     ]
    },
    {
     "name": "stdout",
     "output_type": "stream",
     "text": [
      "make_64.DEUTSCH-BONNET\n"
     ]
    },
    {
     "name": "stderr",
     "output_type": "stream",
     "text": [
      "Progress: 100%|█████████████████████████| 339/339 [00:00<00:00, 20494.82it/s]\n"
     ]
    },
    {
     "name": "stdout",
     "output_type": "stream",
     "text": [
      "make_65.DIANA\n"
     ]
    },
    {
     "name": "stderr",
     "output_type": "stream",
     "text": [
      "Progress: 100%|██████████████████████████| 339/339 [00:00<00:00, 9432.09it/s]\n"
     ]
    },
    {
     "name": "stdout",
     "output_type": "stream",
     "text": [
      "make_66.DKW\n"
     ]
    },
    {
     "name": "stderr",
     "output_type": "stream",
     "text": [
      "Progress: 100%|█████████████████████████| 339/339 [00:00<00:00, 10964.44it/s]\n"
     ]
    },
    {
     "name": "stdout",
     "output_type": "stream",
     "text": [
      "make_67.DODGE\n"
     ]
    },
    {
     "name": "stderr",
     "output_type": "stream",
     "text": [
      "Progress: 100%|████████████████████████████| 339/339 [04:06<00:00,  1.37it/s]\n"
     ]
    },
    {
     "name": "stdout",
     "output_type": "stream",
     "text": [
      "make_68.DORETTI\n"
     ]
    },
    {
     "name": "stderr",
     "output_type": "stream",
     "text": [
      "Progress: 100%|█████████████████████████| 339/339 [00:00<00:00, 14884.01it/s]\n"
     ]
    },
    {
     "name": "stdout",
     "output_type": "stream",
     "text": [
      "make_69.DU PONT\n"
     ]
    },
    {
     "name": "stderr",
     "output_type": "stream",
     "text": [
      "Progress: 100%|█████████████████████████| 339/339 [00:00<00:00, 24092.13it/s]\n"
     ]
    },
    {
     "name": "stdout",
     "output_type": "stream",
     "text": [
      "make_7.ALPINE\n"
     ]
    },
    {
     "name": "stderr",
     "output_type": "stream",
     "text": [
      "Progress: 100%|█████████████████████████| 339/339 [00:00<00:00, 11818.08it/s]\n"
     ]
    },
    {
     "name": "stdout",
     "output_type": "stream",
     "text": [
      "make_70.DUAL-GHIA\n"
     ]
    },
    {
     "name": "stderr",
     "output_type": "stream",
     "text": [
      "Progress: 100%|██████████████████████████| 339/339 [00:00<00:00, 7614.04it/s]\n"
     ]
    },
    {
     "name": "stdout",
     "output_type": "stream",
     "text": [
      "make_71.DUESENBERG\n"
     ]
    },
    {
     "name": "stderr",
     "output_type": "stream",
     "text": [
      "Progress: 100%|█████████████████████████| 339/339 [00:00<00:00, 16148.24it/s]\n"
     ]
    },
    {
     "name": "stdout",
     "output_type": "stream",
     "text": [
      "make_72.DURANT\n"
     ]
    },
    {
     "name": "stderr",
     "output_type": "stream",
     "text": [
      "Progress: 100%|█████████████████████████| 339/339 [00:00<00:00, 15423.25it/s]\n"
     ]
    },
    {
     "name": "stdout",
     "output_type": "stream",
     "text": [
      "make_73.EAGLE\n"
     ]
    },
    {
     "name": "stderr",
     "output_type": "stream",
     "text": [
      "Progress: 100%|████████████████████████████| 339/339 [00:04<00:00, 83.64it/s]\n"
     ]
    },
    {
     "name": "stdout",
     "output_type": "stream",
     "text": [
      "make_74.EDSEL\n"
     ]
    },
    {
     "name": "stderr",
     "output_type": "stream",
     "text": [
      "Progress: 100%|███████████████████████████| 339/339 [00:00<00:00, 437.17it/s]\n"
     ]
    },
    {
     "name": "stdout",
     "output_type": "stream",
     "text": [
      "make_75.ELCAR\n"
     ]
    },
    {
     "name": "stderr",
     "output_type": "stream",
     "text": [
      "Progress: 100%|█████████████████████████| 339/339 [00:00<00:00, 15789.42it/s]\n"
     ]
    },
    {
     "name": "stdout",
     "output_type": "stream",
     "text": [
      "make_76.ELVA\n"
     ]
    },
    {
     "name": "stderr",
     "output_type": "stream",
     "text": [
      "Progress: 100%|██████████████████████████| 339/339 [00:00<00:00, 9498.19it/s]\n"
     ]
    },
    {
     "name": "stdout",
     "output_type": "stream",
     "text": [
      "make_77.ERSKINE\n"
     ]
    },
    {
     "name": "stderr",
     "output_type": "stream",
     "text": [
      "Progress: 100%|█████████████████████████| 339/339 [00:00<00:00, 34847.17it/s]\n"
     ]
    },
    {
     "name": "stdout",
     "output_type": "stream",
     "text": [
      "make_78.ESSEX\n"
     ]
    },
    {
     "name": "stderr",
     "output_type": "stream",
     "text": [
      "Progress: 100%|█████████████████████████| 339/339 [00:00<00:00, 19676.31it/s]\n"
     ]
    },
    {
     "name": "stdout",
     "output_type": "stream",
     "text": [
      "make_79.EXCALIBUR\n"
     ]
    },
    {
     "name": "stderr",
     "output_type": "stream",
     "text": [
      "Progress: 100%|███████████████████████████| 339/339 [00:00<00:00, 608.40it/s]\n"
     ]
    },
    {
     "name": "stdout",
     "output_type": "stream",
     "text": [
      "make_8.ALVIS\n"
     ]
    },
    {
     "name": "stderr",
     "output_type": "stream",
     "text": [
      "Progress: 100%|██████████████████████████| 339/339 [00:00<00:00, 9728.23it/s]\n"
     ]
    },
    {
     "name": "stdout",
     "output_type": "stream",
     "text": [
      "make_80.FACEL VEGA\n"
     ]
    },
    {
     "name": "stderr",
     "output_type": "stream",
     "text": [
      "Progress: 100%|██████████████████████████| 339/339 [00:00<00:00, 1553.36it/s]\n"
     ]
    },
    {
     "name": "stdout",
     "output_type": "stream",
     "text": [
      "make_81.FAIRTHORPE\n"
     ]
    },
    {
     "name": "stderr",
     "output_type": "stream",
     "text": [
      "Progress: 100%|██████████████████████████| 339/339 [00:00<00:00, 9014.58it/s]\n"
     ]
    },
    {
     "name": "stdout",
     "output_type": "stream",
     "text": [
      "make_82.FALCON KNIGHT\n"
     ]
    },
    {
     "name": "stderr",
     "output_type": "stream",
     "text": [
      "Progress: 100%|█████████████████████████| 339/339 [00:00<00:00, 38241.82it/s]\n"
     ]
    },
    {
     "name": "stdout",
     "output_type": "stream",
     "text": [
      "make_83.FARGO\n"
     ]
    },
    {
     "name": "stderr",
     "output_type": "stream",
     "text": [
      "Progress: 100%|████████████████████████████| 339/339 [00:06<00:00, 52.47it/s]\n"
     ]
    },
    {
     "name": "stdout",
     "output_type": "stream",
     "text": [
      "make_84.FAW\n"
     ]
    },
    {
     "name": "stderr",
     "output_type": "stream",
     "text": [
      "Progress: 100%|█████████████████████████| 339/339 [00:00<00:00, 12562.46it/s]\n"
     ]
    },
    {
     "name": "stdout",
     "output_type": "stream",
     "text": [
      "make_85.FERRARI\n"
     ]
    },
    {
     "name": "stderr",
     "output_type": "stream",
     "text": [
      "Progress: 100%|███████████████████████████| 339/339 [00:01<00:00, 288.36it/s]\n"
     ]
    },
    {
     "name": "stdout",
     "output_type": "stream",
     "text": [
      "make_86.FIAT\n"
     ]
    },
    {
     "name": "stderr",
     "output_type": "stream",
     "text": [
      "Progress: 100%|████████████████████████████| 339/339 [00:05<00:00, 66.88it/s]\n"
     ]
    },
    {
     "name": "stdout",
     "output_type": "stream",
     "text": [
      "make_87.FISKER\n"
     ]
    },
    {
     "name": "stderr",
     "output_type": "stream",
     "text": [
      "Progress: 100%|█████████████████████████| 339/339 [00:00<00:00, 25148.46it/s]\n"
     ]
    },
    {
     "name": "stdout",
     "output_type": "stream",
     "text": [
      "make_88.FLINT\n"
     ]
    },
    {
     "name": "stderr",
     "output_type": "stream",
     "text": [
      "Progress: 100%|█████████████████████████| 339/339 [00:00<00:00, 25889.82it/s]\n"
     ]
    },
    {
     "name": "stdout",
     "output_type": "stream",
     "text": [
      "make_89.FORD\n"
     ]
    },
    {
     "name": "stderr",
     "output_type": "stream",
     "text": [
      "Progress: 100%|████████████████████████████| 339/339 [06:53<00:00,  1.22s/it]\n"
     ]
    },
    {
     "name": "stdout",
     "output_type": "stream",
     "text": [
      "make_9.AM GENERAL\n"
     ]
    },
    {
     "name": "stderr",
     "output_type": "stream",
     "text": [
      "Progress: 100%|██████████████████████████| 339/339 [00:00<00:00, 2060.41it/s]\n"
     ]
    },
    {
     "name": "stdout",
     "output_type": "stream",
     "text": [
      "make_90.FOTON\n"
     ]
    },
    {
     "name": "stderr",
     "output_type": "stream",
     "text": [
      "Progress: 100%|██████████████████████████| 339/339 [00:00<00:00, 6548.35it/s]\n"
     ]
    },
    {
     "name": "stdout",
     "output_type": "stream",
     "text": [
      "make_91.FRANKLIN\n"
     ]
    },
    {
     "name": "stderr",
     "output_type": "stream",
     "text": [
      "Progress: 100%|██████████████████████████| 339/339 [00:00<00:00, 6772.29it/s]\n"
     ]
    },
    {
     "name": "stdout",
     "output_type": "stream",
     "text": [
      "make_92.FRAZER NASH\n"
     ]
    },
    {
     "name": "stderr",
     "output_type": "stream",
     "text": [
      "Progress: 100%|██████████████████████████| 339/339 [00:00<00:00, 6276.04it/s]\n"
     ]
    },
    {
     "name": "stdout",
     "output_type": "stream",
     "text": [
      "make_93.FREIGHTLINER\n"
     ]
    },
    {
     "name": "stderr",
     "output_type": "stream",
     "text": [
      "Progress: 100%|████████████████████████████| 339/339 [00:04<00:00, 84.42it/s]\n"
     ]
    },
    {
     "name": "stdout",
     "output_type": "stream",
     "text": [
      "make_94.GARDNER\n"
     ]
    },
    {
     "name": "stderr",
     "output_type": "stream",
     "text": [
      "Progress: 100%|█████████████████████████| 339/339 [00:00<00:00, 14913.67it/s]\n"
     ]
    },
    {
     "name": "stdout",
     "output_type": "stream",
     "text": [
      "make_95.GENESIS\n"
     ]
    },
    {
     "name": "stderr",
     "output_type": "stream",
     "text": [
      "Progress: 100%|███████████████████████████| 339/339 [00:00<00:00, 402.37it/s]\n"
     ]
    },
    {
     "name": "stdout",
     "output_type": "stream",
     "text": [
      "make_96.GEO\n"
     ]
    },
    {
     "name": "stderr",
     "output_type": "stream",
     "text": [
      "Progress: 100%|███████████████████████████| 339/339 [00:02<00:00, 118.43it/s]\n"
     ]
    },
    {
     "name": "stdout",
     "output_type": "stream",
     "text": [
      "make_97.GIANT MOTORS\n"
     ]
    },
    {
     "name": "stderr",
     "output_type": "stream",
     "text": [
      "Progress: 100%|█████████████████████████| 339/339 [00:00<00:00, 25619.72it/s]\n"
     ]
    },
    {
     "name": "stdout",
     "output_type": "stream",
     "text": [
      "make_98.GLAS\n"
     ]
    },
    {
     "name": "stderr",
     "output_type": "stream",
     "text": [
      "Progress: 100%|█████████████████████████| 339/339 [00:00<00:00, 10393.40it/s]\n"
     ]
    },
    {
     "name": "stdout",
     "output_type": "stream",
     "text": [
      "make_99.GMC\n"
     ]
    },
    {
     "name": "stderr",
     "output_type": "stream",
     "text": [
      "Progress: 100%|████████████████████████████| 339/339 [06:22<00:00,  1.13s/it]\n"
     ]
    },
    {
     "name": "stdout",
     "output_type": "stream",
     "text": [
      "Done ~\n"
     ]
    }
   ],
   "source": [
    "import pandas as pd\n",
    "\n",
    "for prefix in list_prefix:\n",
    "    print(prefix)\n",
    "    input_ = pd.DataFrame()\n",
    "\n",
    "    # = = = = = = = = = = = = = = =\n",
    "\n",
    "    for file in tqdm(list_file, desc='Progress', ncols=77):\n",
    "        if file.startswith(prefix):\n",
    "            df_temp = pd.read_excel(f'./{param_date}/8.type_1/{file}',\n",
    "                                    header=0,\n",
    "                                    dtype=str).fillna('')\n",
    "            input_ = pd.concat([input_, df_temp], ignore_index=True).fillna('')\n",
    "\n",
    "    input_['Make No'] = input_['Make No'].astype(int)\n",
    "    input_['Model No'] = input_['Model No'].astype(int)\n",
    "    input_['Engine No'] = input_['Engine No'].astype(int)\n",
    "    input_['Year'] = input_['Year'].astype(int)\n",
    "    input_['Group No'] = input_['Group No'].astype(int)\n",
    "    input_['Type No'] = input_['Type No'].astype(int)\n",
    "\n",
    "    input_ = input_.sort_values(by=['Make No', 'Model No', 'Engine No', 'Year', 'Group No', 'Type No'],\n",
    "                                    ascending=[True, True, True, False, True, True],\n",
    "                                    ignore_index=True)\n",
    "\n",
    "    # = = = = = = = = = = = = = = =\n",
    "\n",
    "    list_output, index_start, index_end = [], 0, 10_000\n",
    "    while True:\n",
    "        if index_end < len(input_):\n",
    "            while input_.loc[index_end, 'Model No'] == input_.loc[index_end-1, 'Model No']:\n",
    "                index_end += 1\n",
    "                if index_end == len(input_):\n",
    "                    break\n",
    "            if index_end != len(input_):\n",
    "                list_output.append(input_[index_start:index_end].reset_index(drop=True))\n",
    "                index_start, index_end = index_end, index_end + 10_000\n",
    "        else:\n",
    "            list_output.append(input_[index_start:].reset_index(drop=True))\n",
    "            break\n",
    "\n",
    "    if len(list_output) == 1:\n",
    "        input_.to_excel(f'''./{param_date}/9.type/{prefix}.xlsx''', index=False)\n",
    "    else:\n",
    "        for i, output in zip(range(len(list_output)), list_output):\n",
    "            output.to_excel(f'''./{param_date}/9.type/{prefix}-serial_{i+1}.xlsx''', index=False)\n",
    "\n",
    "print('Done ~')"
   ]
  },
  {
   "cell_type": "code",
   "execution_count": null,
   "id": "a3a07098-b415-4b8f-8a3f-c3cc4d28f897",
   "metadata": {},
   "outputs": [],
   "source": []
  }
 ],
 "metadata": {
  "kernelspec": {
   "display_name": "Python 3 (ipykernel)",
   "language": "python",
   "name": "python3"
  },
  "language_info": {
   "codemirror_mode": {
    "name": "ipython",
    "version": 3
   },
   "file_extension": ".py",
   "mimetype": "text/x-python",
   "name": "python",
   "nbconvert_exporter": "python",
   "pygments_lexer": "ipython3",
   "version": "3.11.3"
  }
 },
 "nbformat": 4,
 "nbformat_minor": 5
}
