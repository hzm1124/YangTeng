{
 "cells": [
  {
   "cell_type": "code",
   "execution_count": 1,
   "id": "14ca4672",
   "metadata": {},
   "outputs": [],
   "source": [
    "import os"
   ]
  },
  {
   "cell_type": "code",
   "execution_count": 2,
   "id": "a3369d1a",
   "metadata": {},
   "outputs": [
    {
     "data": {
      "text/plain": [
       "28"
      ]
     },
     "execution_count": 2,
     "metadata": {},
     "output_type": "execute_result"
    }
   ],
   "source": [
    "list_file = list(os.walk('./menu'))[0][2]\n",
    "if '.DS_Store' in list_file:\n",
    "   list_file.remove('.DS_Store')\n",
    "\n",
    "len(list_file)"
   ]
  },
  {
   "cell_type": "code",
   "execution_count": 3,
   "id": "552c5c8c",
   "metadata": {},
   "outputs": [],
   "source": [
    "import pandas as pd"
   ]
  },
  {
   "cell_type": "code",
   "execution_count": 4,
   "id": "19a50da8",
   "metadata": {},
   "outputs": [
    {
     "data": {
      "text/html": [
       "<div>\n",
       "<style scoped>\n",
       "    .dataframe tbody tr th:only-of-type {\n",
       "        vertical-align: middle;\n",
       "    }\n",
       "\n",
       "    .dataframe tbody tr th {\n",
       "        vertical-align: top;\n",
       "    }\n",
       "\n",
       "    .dataframe thead th {\n",
       "        text-align: right;\n",
       "    }\n",
       "</style>\n",
       "<table border=\"1\" class=\"dataframe\">\n",
       "  <thead>\n",
       "    <tr style=\"text-align: right;\">\n",
       "      <th></th>\n",
       "      <th>Part_Number</th>\n",
       "      <th>Url</th>\n",
       "    </tr>\n",
       "  </thead>\n",
       "  <tbody>\n",
       "  </tbody>\n",
       "</table>\n",
       "</div>"
      ],
      "text/plain": [
       "Empty DataFrame\n",
       "Columns: [Part_Number, Url]\n",
       "Index: []"
      ]
     },
     "execution_count": 4,
     "metadata": {},
     "output_type": "execute_result"
    }
   ],
   "source": [
    "df = pd.DataFrame(columns=['Part_Number', 'Url'])\n",
    "\n",
    "df"
   ]
  },
  {
   "cell_type": "code",
   "execution_count": 5,
   "id": "000d53d7",
   "metadata": {},
   "outputs": [],
   "source": [
    "import json"
   ]
  },
  {
   "cell_type": "code",
   "execution_count": 6,
   "id": "1d3df716",
   "metadata": {},
   "outputs": [
    {
     "name": "stdout",
     "output_type": "stream",
     "text": [
      "ecatalog.smpcorp.com_V2_STD_api_part_partsearch_filter=ABS%20Speed%20Sensor&filterType=n&searchType=p&imageSize=80&start=288&limit=96&sort=3&catFilter=-All-&yearFilter=-All-&makeFilter=-All-&modelFilter=-All-&engineFilter=-All-&attrCodeFilt.txt\n",
      "ecatalog.smpcorp.com_V2_STD_api_part_partsearch_filter=ABS%20Speed%20Sensor&filterType=n&searchType=p&imageSize=80&start=1344&limit=96&sort=3&catFilter=-All-&yearFilter=-All-&makeFilter=-All-&modelFilter=-All-&engineFilter=-All-&attrCodeFil.txt\n",
      "ecatalog.smpcorp.com_V2_STD_api_part_partsearch_filter=ABS%20Speed%20Sensor&filterType=n&searchType=p&imageSize=80&start=2304&limit=96&sort=3&catFilter=-All-&yearFilter=-All-&makeFilter=-All-&modelFilter=-All-&engineFilter=-All-&attrCodeFil.txt\n",
      "ecatalog.smpcorp.com_V2_STD_api_part_partsearch_filter=ABS%20Speed%20Sensor&filterType=n&searchType=p&imageSize=80&start=1824&limit=96&sort=3&catFilter=-All-&yearFilter=-All-&makeFilter=-All-&modelFilter=-All-&engineFilter=-All-&attrCodeFil.txt\n",
      "ecatalog.smpcorp.com_V2_STD_api_part_partsearch_filter=ABS%20Speed%20Sensor&filterType=n&searchType=p&imageSize=80&start=1920&limit=96&sort=3&catFilter=-All-&yearFilter=-All-&makeFilter=-All-&modelFilter=-All-&engineFilter=-All-&attrCodeFil.txt\n",
      "ecatalog.smpcorp.com_V2_STD_api_part_partsearch_filter=ABS%20Speed%20Sensor&filterType=n&searchType=p&imageSize=80&start=0&limit=96&sort=3&catFilter=-All-&yearFilter=-All-&makeFilter=-All-&modelFilter=-All-&engineFilter=-All-&attrCodeFilter.txt\n",
      "ecatalog.smpcorp.com_V2_STD_api_part_partsearch_filter=ABS%20Speed%20Sensor&filterType=n&searchType=p&imageSize=80&start=192&limit=96&sort=3&catFilter=-All-&yearFilter=-All-&makeFilter=-All-&modelFilter=-All-&engineFilter=-All-&attrCodeFilt.txt\n",
      "ecatalog.smpcorp.com_V2_STD_api_part_partsearch_filter=ABS%20Speed%20Sensor&filterType=n&searchType=p&imageSize=80&start=480&limit=96&sort=3&catFilter=-All-&yearFilter=-All-&makeFilter=-All-&modelFilter=-All-&engineFilter=-All-&attrCodeFilt.txt\n",
      "ecatalog.smpcorp.com_V2_STD_api_part_partsearch_filter=ABS%20Speed%20Sensor&filterType=n&searchType=p&imageSize=80&start=384&limit=96&sort=3&catFilter=-All-&yearFilter=-All-&makeFilter=-All-&modelFilter=-All-&engineFilter=-All-&attrCodeFilt.txt\n",
      "ecatalog.smpcorp.com_V2_STD_api_part_partsearch_filter=ABS%20Speed%20Sensor&filterType=n&searchType=p&imageSize=80&start=96&limit=96&sort=3&catFilter=-All-&yearFilter=-All-&makeFilter=-All-&modelFilter=-All-&engineFilter=-All-&attrCodeFilte.txt\n",
      "ecatalog.smpcorp.com_V2_STD_api_part_partsearch_filter=ABS%20Speed%20Sensor&filterType=n&searchType=p&imageSize=80&start=576&limit=96&sort=3&catFilter=-All-&yearFilter=-All-&makeFilter=-All-&modelFilter=-All-&engineFilter=-All-&attrCodeFilt.txt\n",
      "ecatalog.smpcorp.com_V2_STD_api_part_partsearch_filter=ABS%20Speed%20Sensor&filterType=n&searchType=p&imageSize=80&start=1632&limit=96&sort=3&catFilter=-All-&yearFilter=-All-&makeFilter=-All-&modelFilter=-All-&engineFilter=-All-&attrCodeFil.txt\n",
      "ecatalog.smpcorp.com_V2_STD_api_part_partsearch_filter=ABS%20Speed%20Sensor&filterType=n&searchType=p&imageSize=80&start=1536&limit=96&sort=3&catFilter=-All-&yearFilter=-All-&makeFilter=-All-&modelFilter=-All-&engineFilter=-All-&attrCodeFil.txt\n",
      "ecatalog.smpcorp.com_V2_STD_api_part_partsearch_filter=ABS%20Speed%20Sensor&filterType=n&searchType=p&imageSize=80&start=2112&limit=96&sort=3&catFilter=-All-&yearFilter=-All-&makeFilter=-All-&modelFilter=-All-&engineFilter=-All-&attrCodeFil.txt\n",
      "ecatalog.smpcorp.com_V2_STD_api_part_partsearch_filter=ABS%20Speed%20Sensor&filterType=n&searchType=p&imageSize=80&start=768&limit=96&sort=3&catFilter=-All-&yearFilter=-All-&makeFilter=-All-&modelFilter=-All-&engineFilter=-All-&attrCodeFilt.txt\n",
      "ecatalog.smpcorp.com_V2_STD_api_part_partsearch_filter=ABS%20Speed%20Sensor&filterType=n&searchType=p&imageSize=80&start=2592&limit=96&sort=3&catFilter=-All-&yearFilter=-All-&makeFilter=-All-&modelFilter=-All-&engineFilter=-All-&attrCodeFil.txt\n",
      "ecatalog.smpcorp.com_V2_STD_api_part_partsearch_filter=ABS%20Speed%20Sensor&filterType=n&searchType=p&imageSize=80&start=864&limit=96&sort=3&catFilter=-All-&yearFilter=-All-&makeFilter=-All-&modelFilter=-All-&engineFilter=-All-&attrCodeFilt.txt\n",
      "ecatalog.smpcorp.com_V2_STD_api_part_partsearch_filter=ABS%20Speed%20Sensor&filterType=n&searchType=p&imageSize=80&start=1152&limit=96&sort=3&catFilter=-All-&yearFilter=-All-&makeFilter=-All-&modelFilter=-All-&engineFilter=-All-&attrCodeFil.txt\n",
      "ecatalog.smpcorp.com_V2_STD_api_part_partsearch_filter=ABS%20Speed%20Sensor&filterType=n&searchType=p&imageSize=80&start=1728&limit=96&sort=3&catFilter=-All-&yearFilter=-All-&makeFilter=-All-&modelFilter=-All-&engineFilter=-All-&attrCodeFil.txt\n",
      "ecatalog.smpcorp.com_V2_STD_api_part_partsearch_filter=ABS%20Speed%20Sensor&filterType=n&searchType=p&imageSize=80&start=672&limit=96&sort=3&catFilter=-All-&yearFilter=-All-&makeFilter=-All-&modelFilter=-All-&engineFilter=-All-&attrCodeFilt.txt\n",
      "ecatalog.smpcorp.com_V2_STD_api_part_partsearch_filter=ABS%20Speed%20Sensor&filterType=n&searchType=p&imageSize=80&start=2208&limit=96&sort=3&catFilter=-All-&yearFilter=-All-&makeFilter=-All-&modelFilter=-All-&engineFilter=-All-&attrCodeFil.txt\n",
      "ecatalog.smpcorp.com_V2_STD_api_part_partsearch_filter=ABS%20Speed%20Sensor&filterType=n&searchType=p&imageSize=80&start=2400&limit=96&sort=3&catFilter=-All-&yearFilter=-All-&makeFilter=-All-&modelFilter=-All-&engineFilter=-All-&attrCodeFil.txt\n",
      "ecatalog.smpcorp.com_V2_STD_api_part_partsearch_filter=ABS%20Speed%20Sensor&filterType=n&searchType=p&imageSize=80&start=1056&limit=96&sort=3&catFilter=-All-&yearFilter=-All-&makeFilter=-All-&modelFilter=-All-&engineFilter=-All-&attrCodeFil.txt\n",
      "ecatalog.smpcorp.com_V2_STD_api_part_partsearch_filter=ABS%20Speed%20Sensor&filterType=n&searchType=p&imageSize=80&start=2496&limit=96&sort=3&catFilter=-All-&yearFilter=-All-&makeFilter=-All-&modelFilter=-All-&engineFilter=-All-&attrCodeFil.txt\n",
      "ecatalog.smpcorp.com_V2_STD_api_part_partsearch_filter=ABS%20Speed%20Sensor&filterType=n&searchType=p&imageSize=80&start=1440&limit=96&sort=3&catFilter=-All-&yearFilter=-All-&makeFilter=-All-&modelFilter=-All-&engineFilter=-All-&attrCodeFil.txt\n",
      "ecatalog.smpcorp.com_V2_STD_api_part_partsearch_filter=ABS%20Speed%20Sensor&filterType=n&searchType=p&imageSize=80&start=1248&limit=96&sort=3&catFilter=-All-&yearFilter=-All-&makeFilter=-All-&modelFilter=-All-&engineFilter=-All-&attrCodeFil.txt\n",
      "ecatalog.smpcorp.com_V2_STD_api_part_partsearch_filter=ABS%20Speed%20Sensor&filterType=n&searchType=p&imageSize=80&start=2016&limit=96&sort=3&catFilter=-All-&yearFilter=-All-&makeFilter=-All-&modelFilter=-All-&engineFilter=-All-&attrCodeFil.txt\n",
      "ecatalog.smpcorp.com_V2_STD_api_part_partsearch_filter=ABS%20Speed%20Sensor&filterType=n&searchType=p&imageSize=80&start=960&limit=96&sort=3&catFilter=-All-&yearFilter=-All-&makeFilter=-All-&modelFilter=-All-&engineFilter=-All-&attrCodeFilt.txt\n"
     ]
    }
   ],
   "source": [
    "for file in list_file:\n",
    "    print(file)\n",
    "    with open('./menu/' + file) as f:\n",
    "        list_part = f.read()[1:-1].split('},{')\n",
    "        for i in range(len(list_part)):\n",
    "            if i == 0:\n",
    "                part = json.loads(list_part[i] + '}')\n",
    "            elif i == len(list_part) - 1:\n",
    "                part = json.loads('{' + list_part[i])\n",
    "            else:\n",
    "                part = json.loads('{' + list_part[i] + '}')\n",
    "                \n",
    "            df_temp = pd.DataFrame([{'Part_Number': part['Part_Number'],\n",
    "                                     'Url': part['Url']}])\n",
    "            df = pd.concat([df, df_temp], ignore_index=True)"
   ]
  },
  {
   "cell_type": "code",
   "execution_count": 7,
   "id": "e7c8e52b",
   "metadata": {},
   "outputs": [
    {
     "data": {
      "text/html": [
       "<div>\n",
       "<style scoped>\n",
       "    .dataframe tbody tr th:only-of-type {\n",
       "        vertical-align: middle;\n",
       "    }\n",
       "\n",
       "    .dataframe tbody tr th {\n",
       "        vertical-align: top;\n",
       "    }\n",
       "\n",
       "    .dataframe thead th {\n",
       "        text-align: right;\n",
       "    }\n",
       "</style>\n",
       "<table border=\"1\" class=\"dataframe\">\n",
       "  <thead>\n",
       "    <tr style=\"text-align: right;\">\n",
       "      <th></th>\n",
       "      <th>Part_Number</th>\n",
       "      <th>Url</th>\n",
       "    </tr>\n",
       "  </thead>\n",
       "  <tbody>\n",
       "    <tr>\n",
       "      <th>0</th>\n",
       "      <td>ALS417</td>\n",
       "      <td>https://www.standardbrand.com/en/ecatalog?part...</td>\n",
       "    </tr>\n",
       "    <tr>\n",
       "      <th>1</th>\n",
       "      <td>ALS418</td>\n",
       "      <td>https://www.standardbrand.com/en/ecatalog?part...</td>\n",
       "    </tr>\n",
       "    <tr>\n",
       "      <th>2</th>\n",
       "      <td>ALS419</td>\n",
       "      <td>https://www.standardbrand.com/en/ecatalog?part...</td>\n",
       "    </tr>\n",
       "    <tr>\n",
       "      <th>3</th>\n",
       "      <td>ALS420</td>\n",
       "      <td>https://www.standardbrand.com/en/ecatalog?part...</td>\n",
       "    </tr>\n",
       "    <tr>\n",
       "      <th>4</th>\n",
       "      <td>ALS421</td>\n",
       "      <td>https://www.standardbrand.com/en/ecatalog?part...</td>\n",
       "    </tr>\n",
       "    <tr>\n",
       "      <th>...</th>\n",
       "      <td>...</td>\n",
       "      <td>...</td>\n",
       "    </tr>\n",
       "    <tr>\n",
       "      <th>2677</th>\n",
       "      <td>ALS1326</td>\n",
       "      <td>https://www.standardbrand.com/en/ecatalog?part...</td>\n",
       "    </tr>\n",
       "    <tr>\n",
       "      <th>2678</th>\n",
       "      <td>ALS1328</td>\n",
       "      <td>https://www.standardbrand.com/en/ecatalog?part...</td>\n",
       "    </tr>\n",
       "    <tr>\n",
       "      <th>2679</th>\n",
       "      <td>ALS1329</td>\n",
       "      <td>https://www.standardbrand.com/en/ecatalog?part...</td>\n",
       "    </tr>\n",
       "    <tr>\n",
       "      <th>2680</th>\n",
       "      <td>ALS1330</td>\n",
       "      <td>https://www.standardbrand.com/en/ecatalog?part...</td>\n",
       "    </tr>\n",
       "    <tr>\n",
       "      <th>2681</th>\n",
       "      <td>ALS1331</td>\n",
       "      <td>https://www.standardbrand.com/en/ecatalog?part...</td>\n",
       "    </tr>\n",
       "  </tbody>\n",
       "</table>\n",
       "<p>2682 rows × 2 columns</p>\n",
       "</div>"
      ],
      "text/plain": [
       "     Part_Number                                                Url\n",
       "0         ALS417  https://www.standardbrand.com/en/ecatalog?part...\n",
       "1         ALS418  https://www.standardbrand.com/en/ecatalog?part...\n",
       "2         ALS419  https://www.standardbrand.com/en/ecatalog?part...\n",
       "3         ALS420  https://www.standardbrand.com/en/ecatalog?part...\n",
       "4         ALS421  https://www.standardbrand.com/en/ecatalog?part...\n",
       "...          ...                                                ...\n",
       "2677     ALS1326  https://www.standardbrand.com/en/ecatalog?part...\n",
       "2678     ALS1328  https://www.standardbrand.com/en/ecatalog?part...\n",
       "2679     ALS1329  https://www.standardbrand.com/en/ecatalog?part...\n",
       "2680     ALS1330  https://www.standardbrand.com/en/ecatalog?part...\n",
       "2681     ALS1331  https://www.standardbrand.com/en/ecatalog?part...\n",
       "\n",
       "[2682 rows x 2 columns]"
      ]
     },
     "execution_count": 7,
     "metadata": {},
     "output_type": "execute_result"
    }
   ],
   "source": [
    "df.to_excel('./menu.xlsx', index=False)\n",
    "\n",
    "df"
   ]
  },
  {
   "cell_type": "code",
   "execution_count": null,
   "id": "f1b946e9",
   "metadata": {},
   "outputs": [],
   "source": []
  }
 ],
 "metadata": {
  "kernelspec": {
   "display_name": "Python 3 (ipykernel)",
   "language": "python",
   "name": "python3"
  },
  "language_info": {
   "codemirror_mode": {
    "name": "ipython",
    "version": 3
   },
   "file_extension": ".py",
   "mimetype": "text/x-python",
   "name": "python",
   "nbconvert_exporter": "python",
   "pygments_lexer": "ipython3",
   "version": "3.11.3"
  }
 },
 "nbformat": 4,
 "nbformat_minor": 5
}
