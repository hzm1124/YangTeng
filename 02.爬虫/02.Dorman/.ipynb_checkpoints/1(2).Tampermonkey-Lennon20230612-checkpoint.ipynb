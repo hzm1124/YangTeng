{
 "cells": [
  {
   "cell_type": "code",
   "execution_count": 1,
   "id": "14ca4672",
   "metadata": {},
   "outputs": [],
   "source": [
    "import os"
   ]
  },
  {
   "cell_type": "code",
   "execution_count": 2,
   "id": "a3369d1a",
   "metadata": {},
   "outputs": [
    {
     "data": {
      "text/plain": [
       "6"
      ]
     },
     "execution_count": 2,
     "metadata": {},
     "output_type": "execute_result"
    }
   ],
   "source": [
    "list_file = list(os.walk('./file'))[0][2]\n",
    "if '.DS_Store' in list_file:\n",
    "   list_file.remove('.DS_Store')\n",
    "\n",
    "len(list_file)"
   ]
  },
  {
   "cell_type": "code",
   "execution_count": 3,
   "id": "19a50da8",
   "metadata": {},
   "outputs": [
    {
     "data": {
      "text/html": [
       "<div>\n",
       "<style scoped>\n",
       "    .dataframe tbody tr th:only-of-type {\n",
       "        vertical-align: middle;\n",
       "    }\n",
       "\n",
       "    .dataframe tbody tr th {\n",
       "        vertical-align: top;\n",
       "    }\n",
       "\n",
       "    .dataframe thead th {\n",
       "        text-align: right;\n",
       "    }\n",
       "</style>\n",
       "<table border=\"1\" class=\"dataframe\">\n",
       "  <thead>\n",
       "    <tr style=\"text-align: right;\">\n",
       "      <th></th>\n",
       "      <th>Part Number</th>\n",
       "      <th>Application Summary</th>\n",
       "      <th>Url</th>\n",
       "    </tr>\n",
       "  </thead>\n",
       "  <tbody>\n",
       "  </tbody>\n",
       "</table>\n",
       "</div>"
      ],
      "text/plain": [
       "Empty DataFrame\n",
       "Columns: [Part Number, Application Summary, Url]\n",
       "Index: []"
      ]
     },
     "execution_count": 3,
     "metadata": {},
     "output_type": "execute_result"
    }
   ],
   "source": [
    "import pandas as pd\n",
    "\n",
    "df = pd.DataFrame(columns=['Part Number', 'Application Summary', 'Url'])\n",
    "\n",
    "df"
   ]
  },
  {
   "cell_type": "code",
   "execution_count": 4,
   "id": "000d53d7",
   "metadata": {},
   "outputs": [],
   "source": [
    "import json"
   ]
  },
  {
   "cell_type": "code",
   "execution_count": 5,
   "id": "fbbac9bf",
   "metadata": {},
   "outputs": [
    {
     "name": "stdout",
     "output_type": "stream",
     "text": [
      "www.dormanproducts.com_gsearch.aspx_type=keyword&origin=keyword&q=engine%2520valve%2520cover&start=100&num=100.txt\n",
      "www.dormanproducts.com_gsearch.aspx_type=keyword&origin=keyword&q=engine%2520valve%2520cover&start=500&num=100.txt\n",
      "www.dormanproducts.com_gsearch.aspx_type=keyword&origin=keyword&q=engine%2520valve%2520cover&start=200&num=100.txt\n",
      "www.dormanproducts.com_gsearch.aspx_type=keyword&origin=keyword&q=engine%2520valve%2520cover&start=300&num=100.txt\n",
      "www.dormanproducts.com_gsearch.aspx_type=keyword&origin=keyword&q=engine%2520valve%2520cover&start=400&num=100.txt\n",
      "www.dormanproducts.com_gsearch.aspx_type=keyword&origin=keyword&q=engine%2520valve%2520cover&start=0&num=100.txt\n"
     ]
    }
   ],
   "source": [
    "for file in list_file:\n",
    "    print(file)\n",
    "    f = open('./file/' + file)\n",
    "    list_row = f.read()[1:-1].split('},{')\n",
    "    for i in range(len(list_row)):\n",
    "        if i == 0:\n",
    "            text = json.loads(list_row[i] + '}')\n",
    "        elif i == len(list_row) - 1:\n",
    "            text = json.loads('{' + list_row[i])\n",
    "        else:\n",
    "            text = json.loads('{' + list_row[i] + '}')\n",
    "        df_temp = pd.DataFrame({'Part Number': [text['Part']],\n",
    "                                'Application Summary': [text['Summary']],\n",
    "                                'Url': [text['Url']]})\n",
    "        df = pd.concat([df, df_temp], ignore_index=True).fillna('')\n",
    "    f.close()"
   ]
  },
  {
   "cell_type": "code",
   "execution_count": 6,
   "id": "13ae14d0",
   "metadata": {},
   "outputs": [
    {
     "data": {
      "text/html": [
       "<div>\n",
       "<style scoped>\n",
       "    .dataframe tbody tr th:only-of-type {\n",
       "        vertical-align: middle;\n",
       "    }\n",
       "\n",
       "    .dataframe tbody tr th {\n",
       "        vertical-align: top;\n",
       "    }\n",
       "\n",
       "    .dataframe thead th {\n",
       "        text-align: right;\n",
       "    }\n",
       "</style>\n",
       "<table border=\"1\" class=\"dataframe\">\n",
       "  <thead>\n",
       "    <tr style=\"text-align: right;\">\n",
       "      <th></th>\n",
       "      <th>Part Number</th>\n",
       "      <th>Application Summary</th>\n",
       "      <th>Url</th>\n",
       "    </tr>\n",
       "  </thead>\n",
       "  <tbody>\n",
       "    <tr>\n",
       "      <th>0</th>\n",
       "      <td>264-983</td>\n",
       "      <td>Jeep Cherokee 2001-95, Jeep Grand Cherokee 200...</td>\n",
       "      <td>https://www.dormanproducts.com/p-64949-264-983...</td>\n",
       "    </tr>\n",
       "    <tr>\n",
       "      <th>1</th>\n",
       "      <td>264-5116</td>\n",
       "      <td>Ford 2004-96</td>\n",
       "      <td>https://www.dormanproducts.com/p-91540-264-511...</td>\n",
       "    </tr>\n",
       "    <tr>\n",
       "      <th>2</th>\n",
       "      <td>264-973</td>\n",
       "      <td>American Motors 1984, Jeep 1990-83</td>\n",
       "      <td>https://www.dormanproducts.com/p-47236-264-973...</td>\n",
       "    </tr>\n",
       "    <tr>\n",
       "      <th>3</th>\n",
       "      <td>264-950</td>\n",
       "      <td>Ford Escape 2004-01, Ford Sable 2002-01, Ford ...</td>\n",
       "      <td>https://www.dormanproducts.com/p-54144-264-950...</td>\n",
       "    </tr>\n",
       "    <tr>\n",
       "      <th>4</th>\n",
       "      <td>264-966</td>\n",
       "      <td>Buick 2009-90, Chevrolet 2005-98, Chevrolet 19...</td>\n",
       "      <td>https://www.dormanproducts.com/p-87478-264-966...</td>\n",
       "    </tr>\n",
       "    <tr>\n",
       "      <th>...</th>\n",
       "      <td>...</td>\n",
       "      <td>...</td>\n",
       "      <td>...</td>\n",
       "    </tr>\n",
       "    <tr>\n",
       "      <th>579</th>\n",
       "      <td>264-495</td>\n",
       "      <td>Chrysler 2021-09, Dodge 2021-09, Jeep 2021-09,...</td>\n",
       "      <td>https://www.dormanproducts.com/p-140573-264-49...</td>\n",
       "    </tr>\n",
       "    <tr>\n",
       "      <th>580</th>\n",
       "      <td>264-518</td>\n",
       "      <td>Ford 2011-06, Mercury 2010-06</td>\n",
       "      <td>https://www.dormanproducts.com/p-143797-264-51...</td>\n",
       "    </tr>\n",
       "    <tr>\n",
       "      <th>581</th>\n",
       "      <td>264-907</td>\n",
       "      <td>Volkswagen 2019-05</td>\n",
       "      <td>https://www.dormanproducts.com/p-85690-264-907...</td>\n",
       "    </tr>\n",
       "    <tr>\n",
       "      <th>582</th>\n",
       "      <td>264-983</td>\n",
       "      <td>Jeep Cherokee 2001-95, Jeep Grand Cherokee 200...</td>\n",
       "      <td>https://www.dormanproducts.com/p-64949-264-983...</td>\n",
       "    </tr>\n",
       "    <tr>\n",
       "      <th>583</th>\n",
       "      <td>264-960</td>\n",
       "      <td>Ford 2007-04</td>\n",
       "      <td>https://www.dormanproducts.com/p-64670-264-960...</td>\n",
       "    </tr>\n",
       "  </tbody>\n",
       "</table>\n",
       "<p>584 rows × 3 columns</p>\n",
       "</div>"
      ],
      "text/plain": [
       "    Part Number                                Application Summary  \\\n",
       "0       264-983  Jeep Cherokee 2001-95, Jeep Grand Cherokee 200...   \n",
       "1      264-5116                                       Ford 2004-96   \n",
       "2       264-973                 American Motors 1984, Jeep 1990-83   \n",
       "3       264-950  Ford Escape 2004-01, Ford Sable 2002-01, Ford ...   \n",
       "4       264-966  Buick 2009-90, Chevrolet 2005-98, Chevrolet 19...   \n",
       "..          ...                                                ...   \n",
       "579     264-495  Chrysler 2021-09, Dodge 2021-09, Jeep 2021-09,...   \n",
       "580     264-518                      Ford 2011-06, Mercury 2010-06   \n",
       "581     264-907                                 Volkswagen 2019-05   \n",
       "582     264-983  Jeep Cherokee 2001-95, Jeep Grand Cherokee 200...   \n",
       "583     264-960                                       Ford 2007-04   \n",
       "\n",
       "                                                   Url  \n",
       "0    https://www.dormanproducts.com/p-64949-264-983...  \n",
       "1    https://www.dormanproducts.com/p-91540-264-511...  \n",
       "2    https://www.dormanproducts.com/p-47236-264-973...  \n",
       "3    https://www.dormanproducts.com/p-54144-264-950...  \n",
       "4    https://www.dormanproducts.com/p-87478-264-966...  \n",
       "..                                                 ...  \n",
       "579  https://www.dormanproducts.com/p-140573-264-49...  \n",
       "580  https://www.dormanproducts.com/p-143797-264-51...  \n",
       "581  https://www.dormanproducts.com/p-85690-264-907...  \n",
       "582  https://www.dormanproducts.com/p-64949-264-983...  \n",
       "583  https://www.dormanproducts.com/p-64670-264-960...  \n",
       "\n",
       "[584 rows x 3 columns]"
      ]
     },
     "execution_count": 6,
     "metadata": {},
     "output_type": "execute_result"
    }
   ],
   "source": [
    "df.to_excel('./menu.xlsx', index=False)\n",
    "\n",
    "df"
   ]
  },
  {
   "cell_type": "code",
   "execution_count": null,
   "id": "e7c8e52b",
   "metadata": {},
   "outputs": [],
   "source": []
  }
 ],
 "metadata": {
  "kernelspec": {
   "display_name": "Python 3 (ipykernel)",
   "language": "python",
   "name": "python3"
  },
  "language_info": {
   "codemirror_mode": {
    "name": "ipython",
    "version": 3
   },
   "file_extension": ".py",
   "mimetype": "text/x-python",
   "name": "python",
   "nbconvert_exporter": "python",
   "pygments_lexer": "ipython3",
   "version": "3.11.3"
  }
 },
 "nbformat": 4,
 "nbformat_minor": 5
}
