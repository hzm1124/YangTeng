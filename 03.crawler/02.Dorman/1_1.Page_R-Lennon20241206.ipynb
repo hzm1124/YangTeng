{
 "cells": [
  {
   "cell_type": "code",
   "execution_count": 1,
   "id": "618250fb-8441-43dd-97d7-6047141c836b",
   "metadata": {},
   "outputs": [],
   "source": [
    "import pandas as pd\n",
    "\n",
    "# = = =  = = =  = = =\n",
    "\n",
    "from urllib.parse import urlparse, parse_qs, urlencode\n",
    "\n",
    "import requests\n",
    "\n",
    "import sys\n",
    "sys.path.append('../00.Tools')\n",
    "from crawler_configuration import get_header, get_proxy\n",
    "\n",
    "from bs4 import BeautifulSoup\n",
    "from lxml import etree\n",
    "\n",
    "import math"
   ]
  },
  {
   "cell_type": "code",
   "execution_count": 2,
   "id": "1950494d-37ff-48c1-816e-f5c8fb5a0958",
   "metadata": {},
   "outputs": [
    {
     "name": "stdout",
     "output_type": "stream",
     "text": [
      "Data Loading...\n",
      "Loading Done !\n",
      "\n",
      "总数量：1\n",
      "\n"
     ]
    },
    {
     "data": {
      "text/html": [
       "<div>\n",
       "<style scoped>\n",
       "    .dataframe tbody tr th:only-of-type {\n",
       "        vertical-align: middle;\n",
       "    }\n",
       "\n",
       "    .dataframe tbody tr th {\n",
       "        vertical-align: top;\n",
       "    }\n",
       "\n",
       "    .dataframe thead th {\n",
       "        text-align: right;\n",
       "    }\n",
       "</style>\n",
       "<table border=\"1\" class=\"dataframe\">\n",
       "  <thead>\n",
       "    <tr style=\"text-align: right;\">\n",
       "      <th></th>\n",
       "      <th>No</th>\n",
       "      <th>Url</th>\n",
       "    </tr>\n",
       "  </thead>\n",
       "  <tbody>\n",
       "    <tr>\n",
       "      <th>0</th>\n",
       "      <td>1</td>\n",
       "      <td>https://www.dormanproducts.com/gsearch.aspx?ty...</td>\n",
       "    </tr>\n",
       "  </tbody>\n",
       "</table>\n",
       "</div>"
      ],
      "text/plain": [
       "   No                                                Url\n",
       "0   1  https://www.dormanproducts.com/gsearch.aspx?ty..."
      ]
     },
     "execution_count": 2,
     "metadata": {},
     "output_type": "execute_result"
    }
   ],
   "source": [
    "print('Data Loading...')\n",
    "list_dict_correct, list_series_error, df_input = [], [], pd.read_excel('./file/input.xlsx',\n",
    "                                                                       header=0,\n",
    "                                                                       dtype=str).fillna('')\n",
    "print('Loading Done !')\n",
    "print()\n",
    "\n",
    "df_input['No'] = df_input['No'].astype(int)\n",
    "\n",
    "crawler_remain = len(df_input)\n",
    "\n",
    "print(f'总数量：{crawler_remain}')\n",
    "print()\n",
    "\n",
    "df_input"
   ]
  },
  {
   "cell_type": "code",
   "execution_count": 3,
   "id": "d132d424-f5bb-4c91-8ef9-5eb2c4de2d44",
   "metadata": {},
   "outputs": [
    {
     "data": {
      "text/plain": [
       "(False,\n",
       " 0,\n",
       " No                                                     1\n",
       " Url    https://www.dormanproducts.com/gsearch.aspx?ty...\n",
       " Name: 0, dtype: object)"
      ]
     },
     "execution_count": 3,
     "metadata": {},
     "output_type": "execute_result"
    }
   ],
   "source": [
    "crawler_status, (crawler_index, crawler_series) = False, next(df_input.iterrows())\n",
    "\n",
    "crawler_status, crawler_index, crawler_series"
   ]
  },
  {
   "cell_type": "code",
   "execution_count": 4,
   "id": "523cc867",
   "metadata": {
    "scrolled": true
   },
   "outputs": [
    {
     "name": "stdout",
     "output_type": "stream",
     "text": [
      "1\n",
      "2\n",
      "3\n",
      "4\n",
      "5\n"
     ]
    },
    {
     "data": {
      "text/plain": [
       "165"
      ]
     },
     "execution_count": 4,
     "metadata": {},
     "output_type": "execute_result"
    }
   ],
   "source": [
    "import time\n",
    "\n",
    "url_parse = urlparse(crawler_series['Url'])\n",
    "\n",
    "dict_param = parse_qs(url_parse.query)\n",
    "dict_param.pop('start', None)\n",
    "dict_param.pop('num', None)\n",
    "\n",
    "url_request = f'{url_parse.scheme}://{url_parse.netloc}{url_parse.path}?{urlencode(dict_param, doseq=True)}'\n",
    "\n",
    "crawler_retry = 0\n",
    "while True:\n",
    "    crawler_retry += 1\n",
    "    print(crawler_retry)\n",
    "    try:\n",
    "        resp = requests.get(url_request,\n",
    "                            headers=get_header(),\n",
    "                            proxies=get_proxy(),\n",
    "                            timeout=(5, 15))\n",
    "\n",
    "        if resp.status_code == 200:\n",
    "            soup = BeautifulSoup(resp.text, 'lxml')\n",
    "            html = etree.HTML(str(soup))\n",
    "\n",
    "            count = int(html.xpath('//span[@id=\"lblResultCount\"]/text()')[0].strip())\n",
    "            if count > 0:\n",
    "                with open('./page.html', 'w', encoding='UTF-8') as file:\n",
    "                    file.write(str(soup))\n",
    "                break\n",
    "    except KeyboardInterrupt:\n",
    "        break\n",
    "    except:\n",
    "        time.sleep(3)\n",
    "        continue\n",
    "\n",
    "count"
   ]
  },
  {
   "cell_type": "code",
   "execution_count": 5,
   "id": "4a7ff806-2a2c-4958-95a6-88064231eb08",
   "metadata": {},
   "outputs": [
    {
     "data": {
      "text/plain": [
       "[{'No': 1,\n",
       "  'Url': 'https://www.dormanproducts.com/gsearch.aspx?type=keyword&origin=keyword&q=engine+timing+cover',\n",
       "  'SKU Count': 165,\n",
       "  'Page': 2}]"
      ]
     },
     "execution_count": 5,
     "metadata": {},
     "output_type": "execute_result"
    }
   ],
   "source": [
    "list_dict_correct.append({'No': crawler_series['No'],\n",
    "                          'Url': url_request,\n",
    "                          'SKU Count': count,\n",
    "                          'Page': math.ceil(count / 100)})\n",
    "\n",
    "list_dict_correct"
   ]
  },
  {
   "cell_type": "code",
   "execution_count": 6,
   "id": "fc4ed7f6-ed4f-431c-b944-b1690309cdae",
   "metadata": {},
   "outputs": [
    {
     "data": {
      "text/plain": [
       "True"
      ]
     },
     "execution_count": 6,
     "metadata": {},
     "output_type": "execute_result"
    }
   ],
   "source": [
    "crawler_status = True\n",
    "\n",
    "crawler_status"
   ]
  },
  {
   "cell_type": "code",
   "execution_count": 7,
   "id": "65c745d1-446e-46c5-9dec-819c9f7944d3",
   "metadata": {},
   "outputs": [
    {
     "data": {
      "text/plain": [
       "[No                                                             1\n",
       " Url            https://www.dormanproducts.com/gsearch.aspx?ty...\n",
       " Request_Url    https://www.dormanproducts.com/gsearch.aspx?ty...\n",
       " Name: 0, dtype: object]"
      ]
     },
     "execution_count": 7,
     "metadata": {},
     "output_type": "execute_result"
    }
   ],
   "source": [
    "crawler_series['Request_Url'] = url_request\n",
    "\n",
    "list_series_error.append(crawler_series)\n",
    "\n",
    "list_series_error"
   ]
  },
  {
   "cell_type": "code",
   "execution_count": 8,
   "id": "b6c3eefd-9d51-4639-b913-91a415433414",
   "metadata": {},
   "outputs": [
    {
     "name": "stdout",
     "output_type": "stream",
     "text": [
      "Data Outputting...\n"
     ]
    },
    {
     "data": {
      "text/html": [
       "<div>\n",
       "<style scoped>\n",
       "    .dataframe tbody tr th:only-of-type {\n",
       "        vertical-align: middle;\n",
       "    }\n",
       "\n",
       "    .dataframe tbody tr th {\n",
       "        vertical-align: top;\n",
       "    }\n",
       "\n",
       "    .dataframe thead th {\n",
       "        text-align: right;\n",
       "    }\n",
       "</style>\n",
       "<table border=\"1\" class=\"dataframe\">\n",
       "  <thead>\n",
       "    <tr style=\"text-align: right;\">\n",
       "      <th></th>\n",
       "      <th>No</th>\n",
       "      <th>Url</th>\n",
       "      <th>SKU Count</th>\n",
       "      <th>Page</th>\n",
       "    </tr>\n",
       "  </thead>\n",
       "  <tbody>\n",
       "    <tr>\n",
       "      <th>0</th>\n",
       "      <td>1</td>\n",
       "      <td>https://www.dormanproducts.com/gsearch.aspx?ty...</td>\n",
       "      <td>165</td>\n",
       "      <td>2</td>\n",
       "    </tr>\n",
       "  </tbody>\n",
       "</table>\n",
       "</div>"
      ],
      "text/plain": [
       "   No                                                Url  SKU Count  Page\n",
       "0   1  https://www.dormanproducts.com/gsearch.aspx?ty...        165     2"
      ]
     },
     "execution_count": 8,
     "metadata": {},
     "output_type": "execute_result"
    }
   ],
   "source": [
    "print('Data Outputting...')\n",
    "if list_dict_correct:\n",
    "    df_correct = pd.DataFrame(list_dict_correct).sort_values(by=['No'],\n",
    "                                                             ascending=[True],\n",
    "                                                             ignore_index=True)\n",
    "    df_correct.to_excel('./test_page.xlsx', index=False)\n",
    "\n",
    "df_correct if list_dict_correct else ''"
   ]
  },
  {
   "cell_type": "code",
   "execution_count": 9,
   "id": "50174717-96cf-4384-bacd-8a341cf2f2e5",
   "metadata": {},
   "outputs": [
    {
     "name": "stdout",
     "output_type": "stream",
     "text": [
      "Output Finished !\n",
      "\n"
     ]
    }
   ],
   "source": [
    "print('Output Finished !')\n",
    "print()"
   ]
  },
  {
   "cell_type": "code",
   "execution_count": 10,
   "id": "39a5441b-7f69-4812-aad8-7e10a1a24e78",
   "metadata": {},
   "outputs": [
    {
     "name": "stdout",
     "output_type": "stream",
     "text": [
      "- Error Occurred -\n",
      "\n"
     ]
    },
    {
     "data": {
      "text/html": [
       "<div>\n",
       "<style scoped>\n",
       "    .dataframe tbody tr th:only-of-type {\n",
       "        vertical-align: middle;\n",
       "    }\n",
       "\n",
       "    .dataframe tbody tr th {\n",
       "        vertical-align: top;\n",
       "    }\n",
       "\n",
       "    .dataframe thead th {\n",
       "        text-align: right;\n",
       "    }\n",
       "</style>\n",
       "<table border=\"1\" class=\"dataframe\">\n",
       "  <thead>\n",
       "    <tr style=\"text-align: right;\">\n",
       "      <th></th>\n",
       "      <th>No</th>\n",
       "      <th>Url</th>\n",
       "      <th>Request_Url</th>\n",
       "    </tr>\n",
       "  </thead>\n",
       "  <tbody>\n",
       "    <tr>\n",
       "      <th>0</th>\n",
       "      <td>1</td>\n",
       "      <td>https://www.dormanproducts.com/gsearch.aspx?ty...</td>\n",
       "      <td>https://www.dormanproducts.com/gsearch.aspx?ty...</td>\n",
       "    </tr>\n",
       "  </tbody>\n",
       "</table>\n",
       "</div>"
      ],
      "text/plain": [
       "   No                                                Url  \\\n",
       "0   1  https://www.dormanproducts.com/gsearch.aspx?ty...   \n",
       "\n",
       "                                         Request_Url  \n",
       "0  https://www.dormanproducts.com/gsearch.aspx?ty...  "
      ]
     },
     "execution_count": 10,
     "metadata": {},
     "output_type": "execute_result"
    }
   ],
   "source": [
    "if list_series_error:\n",
    "    df_error = pd.DataFrame(list_series_error).sort_values(by=['No'],\n",
    "                                                           ascending=[True],\n",
    "                                                           ignore_index=True)\n",
    "    df_error.to_excel('./test_page_error.xlsx', index=False)\n",
    "    print('- Error Occurred -')\n",
    "    print()\n",
    "\n",
    "df_error if list_series_error else ''"
   ]
  },
  {
   "cell_type": "code",
   "execution_count": 11,
   "id": "a31a202d-21e6-4a6a-8107-95dbbd0cf29b",
   "metadata": {},
   "outputs": [
    {
     "name": "stdout",
     "output_type": "stream",
     "text": [
      "Done ~\n"
     ]
    }
   ],
   "source": [
    "print('Done ~')"
   ]
  },
  {
   "cell_type": "code",
   "execution_count": null,
   "id": "69367a0c-4cc9-42ca-a928-8af7faa210f6",
   "metadata": {},
   "outputs": [],
   "source": []
  }
 ],
 "metadata": {
  "kernelspec": {
   "display_name": "Python 3 (ipykernel)",
   "language": "python",
   "name": "python3"
  },
  "language_info": {
   "codemirror_mode": {
    "name": "ipython",
    "version": 3
   },
   "file_extension": ".py",
   "mimetype": "text/x-python",
   "name": "python",
   "nbconvert_exporter": "python",
   "pygments_lexer": "ipython3",
   "version": "3.12.7"
  }
 },
 "nbformat": 4,
 "nbformat_minor": 5
}
