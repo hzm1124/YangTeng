{
 "cells": [
  {
   "cell_type": "code",
   "execution_count": 1,
   "id": "9f1e2813",
   "metadata": {},
   "outputs": [],
   "source": [
    "param_make = 'WORKHORSE'"
   ]
  },
  {
   "cell_type": "code",
   "execution_count": 2,
   "id": "03f4a83e",
   "metadata": {},
   "outputs": [],
   "source": [
    "import pandas as pd"
   ]
  },
  {
   "cell_type": "code",
   "execution_count": 3,
   "id": "b4ca5c7e",
   "metadata": {},
   "outputs": [
    {
     "name": "stdout",
     "output_type": "stream",
     "text": [
      "总数量：1\n"
     ]
    },
    {
     "data": {
      "text/plain": [
       "['Engine']"
      ]
     },
     "execution_count": 3,
     "metadata": {},
     "output_type": "execute_result"
    }
   ],
   "source": [
    "df = pd.read_excel('./' + param_make + '/5.category.xlsx',\n",
    "                   header=0,\n",
    "                   dtype=str).fillna('')\n",
    "\n",
    "list_make = df['Make'].tolist()\n",
    "list_year = df['Year'].tolist()\n",
    "list_model = df['Model'].tolist()\n",
    "list_engine = df['Engine'].tolist()\n",
    "list_car_code = df['Car_Code'].tolist()\n",
    "list_category = df['Category'].tolist()\n",
    "list_category_code = df['Category_Code'].tolist()\n",
    "\n",
    "print('总数量：' + str(len(list_category)))\n",
    "list_category"
   ]
  },
  {
   "cell_type": "code",
   "execution_count": 4,
   "id": "6c83b34a",
   "metadata": {},
   "outputs": [
    {
     "data": {
      "text/html": [
       "<div>\n",
       "<style scoped>\n",
       "    .dataframe tbody tr th:only-of-type {\n",
       "        vertical-align: middle;\n",
       "    }\n",
       "\n",
       "    .dataframe tbody tr th {\n",
       "        vertical-align: top;\n",
       "    }\n",
       "\n",
       "    .dataframe thead th {\n",
       "        text-align: right;\n",
       "    }\n",
       "</style>\n",
       "<table border=\"1\" class=\"dataframe\">\n",
       "  <thead>\n",
       "    <tr style=\"text-align: right;\">\n",
       "      <th></th>\n",
       "    </tr>\n",
       "  </thead>\n",
       "  <tbody>\n",
       "  </tbody>\n",
       "</table>\n",
       "</div>"
      ],
      "text/plain": [
       "Empty DataFrame\n",
       "Columns: []\n",
       "Index: []"
      ]
     },
     "execution_count": 4,
     "metadata": {},
     "output_type": "execute_result"
    }
   ],
   "source": [
    "df = pd.DataFrame()\n",
    "\n",
    "df"
   ]
  },
  {
   "cell_type": "code",
   "execution_count": 5,
   "id": "c312537e",
   "metadata": {},
   "outputs": [],
   "source": [
    "from urllib.parse import quote\n",
    "import requests\n",
    "import json"
   ]
  },
  {
   "cell_type": "code",
   "execution_count": 6,
   "id": "171d3566",
   "metadata": {},
   "outputs": [
    {
     "data": {
      "text/plain": [
       "{'html_fill_sections': {'navchildren[]': '<div class=\"ranavnode\" id=\"nav[__GIP__1__]\"><input type=\"hidden\" autocomplete=\"off\" id=\"jsn[__GIP__1__]\" value=\"{&quot;groupindex&quot;:&quot;__GIP__1__&quot;,&quot;tab&quot;:&quot;catalog&quot;,&quot;idepth&quot;:1,&quot;make&quot;:&quot;WORKHORSE&quot;,&quot;year&quot;:&quot;2009&quot;,&quot;model&quot;:&quot;W21&quot;,&quot;carcode&quot;:&quot;3297125&quot;,&quot;engine&quot;:&quot;8.1L V8&quot;,&quot;groupname&quot;:&quot;Engine&quot;,&quot;parttype&quot;:&quot;5340&quot;,&quot;nodetype&quot;:&quot;parttype&quot;}\" /><input type=\"hidden\" autocomplete=\"off\" name=\"navnodeunique[catalog-workhorse-2009-w21-3297125-engine-5340]\" id=\"navnodeunique[catalog-workhorse-2009-w21-3297125-engine-5340]\" value=\"__GIP__1__\" /><div id=\"nav_o[__GIP__1__]\" class=\"ranavouter\"><div class=\"inner\"><table class=\"tbl\"  cellpadding=\"0\" cellspacing=\"0\"><tr><td class=\"niconspace nvlineicon\"></td><td class=\"niconspace ncollapsedicon\" id=\"navicon[__GIP__1__]\"><a href=\"/en/catalog/workhorse,2009,w21,8.1l+v8,3297125,engine,oil+filter,5340\" onclick=\"cataloglite.LinkIntercept_ToggleNavNode(&quot;__GIP__1__&quot;); return false;\" tabindex=\"-1\"><img src=\"/Images/1pxtransparent.png\" alt=\"Toggle\"></a></td><td class=\"nlabel\"  title=\"Removes harmful debris from the engine oil before re-circulating it back through the engine.\"><a class=\"navlabellink nvoffset nimportant\" href=\"/en/catalog/workhorse,2009,w21,8.1l+v8,3297125,engine,oil+filter,5340\" onclick=\"cataloglite.LinkIntercept_ToggleNavNode(&quot;__GIP__1__&quot;); return false;\" id=\"navhref[__GIP__1__]\">Oil Filter</a></td></tr></table></div></div><div class=\"nchildren ra-hide\" id=\"navchildren[__GIP__1__]\" ></div></div>'},\n",
       " 'jsn': {'tab': 'catalog',\n",
       "  'make': 'WORKHORSE',\n",
       "  'year': '2009',\n",
       "  'model': 'W21',\n",
       "  'engine': '8.1L V8',\n",
       "  'carcode': '3297125',\n",
       "  'groupname': 'Engine',\n",
       "  'nodetype': 'groupname',\n",
       "  'idepth': 0},\n",
       " 'collected_javascript': '/**UQ:5312BD76**/\\nwindow.top.parent.window[\"_nck\"] = \"8LVLUxTaILBT+tLxkg8+3Ag7\\\\/0bbOhvn7P3rkFbL80\\\\/ismhHyfCiO07pwNUCaIW3afbJMKR0uqi1pNnUlRgBN5CwkZnWFYwm7DtiVw8cl6t1DDIlw0OPK8L1xqUF2GhW0CK6SI58cuI6jY0W+NcC2GEQgzOK0Rxa6fGmQTY+xMw=\";\\n'}"
      ]
     },
     "execution_count": 6,
     "metadata": {},
     "output_type": "execute_result"
    }
   ],
   "source": [
    "i = 0\n",
    "\n",
    "make = list_make[0]\n",
    "year = list_year[0]\n",
    "model = list_model[0]\n",
    "engine = list_engine[0]\n",
    "car_code = list_car_code[0]\n",
    "category = list_category[0]\n",
    "category_code = list_category_code[0]\n",
    "\n",
    "data = 'func=navnode_fetch&payload=' + quote('{\"jsn\":{\"tab\":\"catalog\",\"make\":\"') + make.replace(' ', '+') + quote('\",\"year\":\"') + year + quote('\",\"model\":\"') + model.replace('+', '%2B').replace(' ', '+').replace('&', '%26').replace('/', '%2F') + quote('\",\"engine\":\"') + engine.replace(' ', '+').replace('/', '%2F') + quote('\",\"carcode\":\"') + car_code + quote('\",\"groupname\":\"') + category.replace(' ', '+').replace('&', '%26').replace('/', '%2F') + quote('\",\"nodetype\":\"groupname\"}}') + '&api_json_request=1&sctchecked=1&scbeenloaded=true&curCartGroupID='\n",
    "\n",
    "resp = requests.post('https://www.rockauto.com/catalog/catalogapi.php',\n",
    "                     data=data,\n",
    "                     headers={'Content-Type': 'application/x-www-form-urlencoded; charset=UTF-8'}).text\n",
    "\n",
    "resp = json.loads(resp)\n",
    "\n",
    "resp"
   ]
  },
  {
   "cell_type": "code",
   "execution_count": 7,
   "id": "84f8e9ea",
   "metadata": {},
   "outputs": [],
   "source": [
    "from bs4 import BeautifulSoup"
   ]
  },
  {
   "cell_type": "code",
   "execution_count": 8,
   "id": "be9f27ab",
   "metadata": {},
   "outputs": [
    {
     "name": "stdout",
     "output_type": "stream",
     "text": [
      "<html>\n",
      " <body>\n",
      "  <div class=\"ranavnode\" id=\"nav[__GIP__1__]\">\n",
      "   <input autocomplete=\"off\" id=\"jsn[__GIP__1__]\" type=\"hidden\" value='{\"groupindex\":\"__GIP__1__\",\"tab\":\"catalog\",\"idepth\":1,\"make\":\"WORKHORSE\",\"year\":\"2009\",\"model\":\"W21\",\"carcode\":\"3297125\",\"engine\":\"8.1L V8\",\"groupname\":\"Engine\",\"parttype\":\"5340\",\"nodetype\":\"parttype\"}'/>\n",
      "   <input autocomplete=\"off\" id=\"navnodeunique[catalog-workhorse-2009-w21-3297125-engine-5340]\" name=\"navnodeunique[catalog-workhorse-2009-w21-3297125-engine-5340]\" type=\"hidden\" value=\"__GIP__1__\"/>\n",
      "   <div class=\"ranavouter\" id=\"nav_o[__GIP__1__]\">\n",
      "    <div class=\"inner\">\n",
      "     <table cellpadding=\"0\" cellspacing=\"0\" class=\"tbl\">\n",
      "      <tr>\n",
      "       <td class=\"niconspace nvlineicon\">\n",
      "       </td>\n",
      "       <td class=\"niconspace ncollapsedicon\" id=\"navicon[__GIP__1__]\">\n",
      "        <a href=\"/en/catalog/workhorse,2009,w21,8.1l+v8,3297125,engine,oil+filter,5340\" onclick='cataloglite.LinkIntercept_ToggleNavNode(\"__GIP__1__\"); return false;' tabindex=\"-1\">\n",
      "         <img alt=\"Toggle\" src=\"/Images/1pxtransparent.png\"/>\n",
      "        </a>\n",
      "       </td>\n",
      "       <td class=\"nlabel\" title=\"Removes harmful debris from the engine oil before re-circulating it back through the engine.\">\n",
      "        <a class=\"navlabellink nvoffset nimportant\" href=\"/en/catalog/workhorse,2009,w21,8.1l+v8,3297125,engine,oil+filter,5340\" id=\"navhref[__GIP__1__]\" onclick='cataloglite.LinkIntercept_ToggleNavNode(\"__GIP__1__\"); return false;'>\n",
      "         Oil Filter\n",
      "        </a>\n",
      "       </td>\n",
      "      </tr>\n",
      "     </table>\n",
      "    </div>\n",
      "   </div>\n",
      "   <div class=\"nchildren ra-hide\" id=\"navchildren[__GIP__1__]\">\n",
      "   </div>\n",
      "  </div>\n",
      " </body>\n",
      "</html>\n",
      "\n"
     ]
    }
   ],
   "source": [
    "html = resp['html_fill_sections']['navchildren[]']\n",
    "\n",
    "if html == '':\n",
    "    print('fuck')\n",
    "\n",
    "soup = BeautifulSoup(html, 'lxml')\n",
    "\n",
    "with open('./type.html', 'w', encoding='UTF-8') as file:\n",
    "    file.write(str(soup))\n",
    "\n",
    "print(soup.prettify())"
   ]
  },
  {
   "cell_type": "code",
   "execution_count": 9,
   "id": "6d5642d6",
   "metadata": {},
   "outputs": [],
   "source": [
    "from lxml import etree"
   ]
  },
  {
   "cell_type": "code",
   "execution_count": 10,
   "id": "6178eb0b",
   "metadata": {},
   "outputs": [
    {
     "ename": "AttributeError",
     "evalue": "'NoneType' object has no attribute 'xpath'",
     "output_type": "error",
     "traceback": [
      "\u001b[0;31m---------------------------------------------------------------------------\u001b[0m",
      "\u001b[0;31mAttributeError\u001b[0m                            Traceback (most recent call last)",
      "Cell \u001b[0;32mIn[10], line 3\u001b[0m\n\u001b[1;32m      1\u001b[0m html \u001b[38;5;241m=\u001b[39m etree\u001b[38;5;241m.\u001b[39mHTML(\u001b[38;5;28mstr\u001b[39m(soup))\n\u001b[0;32m----> 3\u001b[0m list_type \u001b[38;5;241m=\u001b[39m \u001b[43mhtml\u001b[49m\u001b[38;5;241;43m.\u001b[39;49m\u001b[43mxpath\u001b[49m(\u001b[38;5;124m'\u001b[39m\u001b[38;5;124m//td[@class=\u001b[39m\u001b[38;5;124m\"\u001b[39m\u001b[38;5;124mnlabel\u001b[39m\u001b[38;5;124m\"\u001b[39m\u001b[38;5;124m]/a/text()\u001b[39m\u001b[38;5;124m'\u001b[39m)\n\u001b[1;32m      5\u001b[0m list_type\n",
      "\u001b[0;31mAttributeError\u001b[0m: 'NoneType' object has no attribute 'xpath'"
     ]
    }
   ],
   "source": [
    "html = etree.HTML(str(soup))\n",
    "\n",
    "list_type = html.xpath('//td[@class=\"nlabel\"]/a/text()')\n",
    "\n",
    "list_type"
   ]
  },
  {
   "cell_type": "code",
   "execution_count": null,
   "id": "e825c58f",
   "metadata": {
    "scrolled": true
   },
   "outputs": [],
   "source": [
    "list_url = html.xpath('//td[@class=\"niconspace ncollapsedicon\"]/a/@href')\n",
    "\n",
    "list_type_code = [_.split(',')[-1] for _ in list_url]\n",
    "\n",
    "list_type_code"
   ]
  },
  {
   "cell_type": "code",
   "execution_count": null,
   "id": "c56713f6",
   "metadata": {},
   "outputs": [],
   "source": [
    "list_url = ['https://www.rockauto.com'+_ for _ in list_url]\n",
    "\n",
    "list_url"
   ]
  },
  {
   "cell_type": "code",
   "execution_count": null,
   "id": "2b468e42",
   "metadata": {},
   "outputs": [],
   "source": [
    "df_temp = pd.DataFrame({'status': 'ok',\n",
    "                        'Make': make,\n",
    "                        'Year': year,\n",
    "                        'Model': model,\n",
    "                        'Engine': engine,\n",
    "                        'Car_Code': car_code,\n",
    "                        'Category': category,\n",
    "                        'Category_Code': category_code,\n",
    "                        'Type': list_type,\n",
    "                        'Type_Code': list_type_code,\n",
    "                        'Url': list_url})\n",
    "\n",
    "df = pd.concat([df, df_temp], ignore_index=True).fillna('')\n",
    "\n",
    "df"
   ]
  },
  {
   "cell_type": "code",
   "execution_count": null,
   "id": "22d4f3db",
   "metadata": {},
   "outputs": [],
   "source": []
  }
 ],
 "metadata": {
  "kernelspec": {
   "display_name": "Python 3 (ipykernel)",
   "language": "python",
   "name": "python3"
  },
  "language_info": {
   "codemirror_mode": {
    "name": "ipython",
    "version": 3
   },
   "file_extension": ".py",
   "mimetype": "text/x-python",
   "name": "python",
   "nbconvert_exporter": "python",
   "pygments_lexer": "ipython3",
   "version": "3.11.3"
  }
 },
 "nbformat": 4,
 "nbformat_minor": 5
}
