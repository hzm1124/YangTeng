{
 "cells": [
  {
   "cell_type": "code",
   "execution_count": 1,
   "id": "c50268ec-a5e6-45d3-80ea-48ea59fae0e5",
   "metadata": {},
   "outputs": [],
   "source": [
    "import os\n",
    "\n",
    "# = = = = = = = = = = = = = = =\n",
    "\n",
    "import pandas as pd\n",
    "\n",
    "# = = = = = = = = = = = = = = =\n",
    "\n",
    "import requests\n",
    "import json\n",
    "\n",
    "import sys\n",
    "sys.path.append('../00.Tools')\n",
    "from crawler_configuration import get_header, get_proxy\n",
    "\n",
    "import time"
   ]
  },
  {
   "cell_type": "code",
   "execution_count": 2,
   "id": "106a29e5-dee1-4da9-b21e-d927cc052e3e",
   "metadata": {},
   "outputs": [
    {
     "data": {
      "text/plain": [
       "'2BeBXg6KgXfwZr8i2P2L7H5W6ujr4XXcy3hTGWmJADw69bQB1Z2J'"
      ]
     },
     "execution_count": 2,
     "metadata": {},
     "output_type": "execute_result"
    }
   ],
   "source": [
    "with open('./api.txt', 'r') as api_txt:\n",
    "    api = api_txt.read()\n",
    "\n",
    "api"
   ]
  },
  {
   "cell_type": "code",
   "execution_count": 3,
   "id": "966f8745-c430-472b-b0bc-5689f2505a19",
   "metadata": {},
   "outputs": [
    {
     "data": {
      "text/plain": [
       "'crawler_1.xlsx'"
      ]
     },
     "execution_count": 3,
     "metadata": {},
     "output_type": "execute_result"
    }
   ],
   "source": [
    "directory_in = './file/3.make'\n",
    "\n",
    "list_file = [file for file in sorted(os.listdir(directory_in)) if file not in ['.DS_Store'] and os.path.isfile(f'{directory_in}/{file}')]\n",
    "file = list_file[0]\n",
    "\n",
    "file"
   ]
  },
  {
   "cell_type": "code",
   "execution_count": 4,
   "id": "9efc10eb-f9b1-4c5d-906a-fecd87b61c42",
   "metadata": {
    "scrolled": true
   },
   "outputs": [
    {
     "name": "stdout",
     "output_type": "stream",
     "text": [
      "总数量：5315\n",
      "\n"
     ]
    },
    {
     "data": {
      "text/html": [
       "<div>\n",
       "<style scoped>\n",
       "    .dataframe tbody tr th:only-of-type {\n",
       "        vertical-align: middle;\n",
       "    }\n",
       "\n",
       "    .dataframe tbody tr th {\n",
       "        vertical-align: top;\n",
       "    }\n",
       "\n",
       "    .dataframe thead th {\n",
       "        text-align: right;\n",
       "    }\n",
       "</style>\n",
       "<table border=\"1\" class=\"dataframe\">\n",
       "  <thead>\n",
       "    <tr style=\"text-align: right;\">\n",
       "      <th></th>\n",
       "      <th>Part Code</th>\n",
       "      <th>Make</th>\n",
       "      <th>Make Code</th>\n",
       "      <th>JOIN_PCMC</th>\n",
       "      <th>Url</th>\n",
       "    </tr>\n",
       "  </thead>\n",
       "  <tbody>\n",
       "    <tr>\n",
       "      <th>0</th>\n",
       "      <td>13362498</td>\n",
       "      <td>LEXUS</td>\n",
       "      <td>842</td>\n",
       "      <td>13362498;842</td>\n",
       "      <td>https://web.tecalliance.net/tecdoc/qa/parts/21...</td>\n",
       "    </tr>\n",
       "    <tr>\n",
       "      <th>1</th>\n",
       "      <td>13362498</td>\n",
       "      <td>TOYOTA</td>\n",
       "      <td>111</td>\n",
       "      <td>13362498;111</td>\n",
       "      <td>https://web.tecalliance.net/tecdoc/qa/parts/21...</td>\n",
       "    </tr>\n",
       "    <tr>\n",
       "      <th>2</th>\n",
       "      <td>13362499</td>\n",
       "      <td>DACIA</td>\n",
       "      <td>139</td>\n",
       "      <td>13362499;139</td>\n",
       "      <td>https://web.tecalliance.net/tecdoc/qa/parts/21...</td>\n",
       "    </tr>\n",
       "    <tr>\n",
       "      <th>3</th>\n",
       "      <td>13362499</td>\n",
       "      <td>MITSUBISHI</td>\n",
       "      <td>77</td>\n",
       "      <td>13362499;77</td>\n",
       "      <td>https://web.tecalliance.net/tecdoc/qa/parts/21...</td>\n",
       "    </tr>\n",
       "    <tr>\n",
       "      <th>4</th>\n",
       "      <td>13362499</td>\n",
       "      <td>RENAULT</td>\n",
       "      <td>93</td>\n",
       "      <td>13362499;93</td>\n",
       "      <td>https://web.tecalliance.net/tecdoc/qa/parts/21...</td>\n",
       "    </tr>\n",
       "    <tr>\n",
       "      <th>...</th>\n",
       "      <td>...</td>\n",
       "      <td>...</td>\n",
       "      <td>...</td>\n",
       "      <td>...</td>\n",
       "      <td>...</td>\n",
       "    </tr>\n",
       "    <tr>\n",
       "      <th>5310</th>\n",
       "      <td>1396752197</td>\n",
       "      <td>MERCEDES-BENZ</td>\n",
       "      <td>74</td>\n",
       "      <td>1396752197;74</td>\n",
       "      <td>https://web.tecalliance.net/tecdoc/qa/parts/21...</td>\n",
       "    </tr>\n",
       "    <tr>\n",
       "      <th>5311</th>\n",
       "      <td>1396752267</td>\n",
       "      <td>MERCEDES-BENZ</td>\n",
       "      <td>74</td>\n",
       "      <td>1396752267;74</td>\n",
       "      <td>https://web.tecalliance.net/tecdoc/qa/parts/21...</td>\n",
       "    </tr>\n",
       "    <tr>\n",
       "      <th>5312</th>\n",
       "      <td>1396752376</td>\n",
       "      <td>MERCEDES-BENZ</td>\n",
       "      <td>74</td>\n",
       "      <td>1396752376;74</td>\n",
       "      <td>https://web.tecalliance.net/tecdoc/qa/parts/21...</td>\n",
       "    </tr>\n",
       "    <tr>\n",
       "      <th>5313</th>\n",
       "      <td>1396752464</td>\n",
       "      <td>MERCEDES-BENZ</td>\n",
       "      <td>74</td>\n",
       "      <td>1396752464;74</td>\n",
       "      <td>https://web.tecalliance.net/tecdoc/qa/parts/21...</td>\n",
       "    </tr>\n",
       "    <tr>\n",
       "      <th>5314</th>\n",
       "      <td>1396752492</td>\n",
       "      <td>MERCEDES-BENZ</td>\n",
       "      <td>74</td>\n",
       "      <td>1396752492;74</td>\n",
       "      <td>https://web.tecalliance.net/tecdoc/qa/parts/21...</td>\n",
       "    </tr>\n",
       "  </tbody>\n",
       "</table>\n",
       "<p>5315 rows × 5 columns</p>\n",
       "</div>"
      ],
      "text/plain": [
       "       Part Code           Make  Make Code      JOIN_PCMC  \\\n",
       "0       13362498          LEXUS        842   13362498;842   \n",
       "1       13362498         TOYOTA        111   13362498;111   \n",
       "2       13362499          DACIA        139   13362499;139   \n",
       "3       13362499     MITSUBISHI         77    13362499;77   \n",
       "4       13362499        RENAULT         93    13362499;93   \n",
       "...          ...            ...        ...            ...   \n",
       "5310  1396752197  MERCEDES-BENZ         74  1396752197;74   \n",
       "5311  1396752267  MERCEDES-BENZ         74  1396752267;74   \n",
       "5312  1396752376  MERCEDES-BENZ         74  1396752376;74   \n",
       "5313  1396752464  MERCEDES-BENZ         74  1396752464;74   \n",
       "5314  1396752492  MERCEDES-BENZ         74  1396752492;74   \n",
       "\n",
       "                                                    Url  \n",
       "0     https://web.tecalliance.net/tecdoc/qa/parts/21...  \n",
       "1     https://web.tecalliance.net/tecdoc/qa/parts/21...  \n",
       "2     https://web.tecalliance.net/tecdoc/qa/parts/21...  \n",
       "3     https://web.tecalliance.net/tecdoc/qa/parts/21...  \n",
       "4     https://web.tecalliance.net/tecdoc/qa/parts/21...  \n",
       "...                                                 ...  \n",
       "5310  https://web.tecalliance.net/tecdoc/qa/parts/21...  \n",
       "5311  https://web.tecalliance.net/tecdoc/qa/parts/21...  \n",
       "5312  https://web.tecalliance.net/tecdoc/qa/parts/21...  \n",
       "5313  https://web.tecalliance.net/tecdoc/qa/parts/21...  \n",
       "5314  https://web.tecalliance.net/tecdoc/qa/parts/21...  \n",
       "\n",
       "[5315 rows x 5 columns]"
      ]
     },
     "execution_count": 4,
     "metadata": {},
     "output_type": "execute_result"
    }
   ],
   "source": [
    "list_dict_correct, list_series_error, df_input = [], [], pd.read_excel(f'{directory_in}/{file}',\n",
    "                                                                       header=0,\n",
    "                                                                       dtype=str).fillna('')\n",
    "\n",
    "df_input['Part Code'] = df_input['Part Code'].astype(int)\n",
    "df_input['Make Code'] = df_input['Make Code'].astype(int)\n",
    "\n",
    "count_remain = len(df_input)\n",
    "\n",
    "print(f'总数量：{count_remain}')\n",
    "print()\n",
    "df_input"
   ]
  },
  {
   "cell_type": "code",
   "execution_count": 5,
   "id": "f684bcff-7302-4ea3-8a92-3cb6b5bb097c",
   "metadata": {},
   "outputs": [
    {
     "data": {
      "text/plain": [
       "(False,\n",
       " 0,\n",
       " Part Code                                             13362498\n",
       " Make                                                     LEXUS\n",
       " Make Code                                                  842\n",
       " JOIN_PCMC                                         13362498;842\n",
       " Url          https://web.tecalliance.net/tecdoc/qa/parts/21...\n",
       " Name: 0, dtype: object)"
      ]
     },
     "execution_count": 5,
     "metadata": {},
     "output_type": "execute_result"
    }
   ],
   "source": [
    "crawler_status, (crawler_index, crawler_series) = False, next(df_input.iterrows())\n",
    "\n",
    "crawler_status, crawler_index, crawler_series"
   ]
  },
  {
   "cell_type": "code",
   "execution_count": 6,
   "id": "66d5b684-5e94-4e95-9207-b75da57cfca0",
   "metadata": {
    "scrolled": true
   },
   "outputs": [
    {
     "name": "stdout",
     "output_type": "stream",
     "text": [
      "1\n"
     ]
    },
    {
     "data": {
      "text/plain": [
       "<Response [200]>"
      ]
     },
     "execution_count": 6,
     "metadata": {},
     "output_type": "execute_result"
    }
   ],
   "source": [
    "import time\n",
    "\n",
    "data = {'getArticleLinkedAllLinkingTarget4': {'articleCountry': 'DE',\n",
    "                                              'articleId': crawler_series['Part Code'],\n",
    "                                              'country': 'DE',\n",
    "                                              'countryGroupFlag': False,\n",
    "                                              'lang': 'qa',\n",
    "                                              'linkingTargetManuId': crawler_series['Make Code'],\n",
    "                                              'linkingTargetType': 'VOLB',\n",
    "                                              'provider': 23365,\n",
    "                                              'withMainArticles': False}}\n",
    "\n",
    "count_retry = 0\n",
    "while True:\n",
    "    count_retry += 1\n",
    "    print(count_retry)\n",
    "    try:\n",
    "        url_check = crawler_series['Url']\n",
    "\n",
    "        resp = requests.post('https://webservice.tecalliance.services/pegasus-3-0/services/TecdocToCatDLB.jsonEndpoint',\n",
    "                             data=json.dumps(data),\n",
    "                             headers=get_header(**{'x-api-key': api}),\n",
    "                             timeout=(5, 15))\n",
    "\n",
    "        if resp.status_code == 200:\n",
    "            dict_ = resp.json()\n",
    "\n",
    "            if dict_['status'] == 401 and dict_['statusText'].strip() == 'Access not allowed':\n",
    "                print(f'fuck api {api}')\n",
    "                time.sleep(3)\n",
    "                with open('./api.txt', 'r') as api_txt:\n",
    "                    api = api_txt.read()\n",
    "            elif dict_['status'] == 200:\n",
    "                break\n",
    "    except KeyboardInterrupt:\n",
    "        break\n",
    "    except:\n",
    "        time.sleep(3)\n",
    "        continue\n",
    "\n",
    "resp"
   ]
  },
  {
   "cell_type": "code",
   "execution_count": 7,
   "id": "283a1337-7ec2-48a1-b3e6-f7ab737c27f7",
   "metadata": {},
   "outputs": [
    {
     "data": {
      "text/plain": [
       "{'data': {'array': [{'articleLinkages': {'array': [{'articleLinkId': 994698707,\n",
       "       'linked': True,\n",
       "       'linkingTargetId': 53026,\n",
       "       'linkingTargetType': 'P'}]}}]},\n",
       " 'status': 200}"
      ]
     },
     "execution_count": 7,
     "metadata": {},
     "output_type": "execute_result"
    }
   ],
   "source": [
    "dict_ = resp.json()\n",
    "\n",
    "dict_"
   ]
  },
  {
   "cell_type": "code",
   "execution_count": 8,
   "id": "756e0e80-32cf-430c-991a-cac901947e9c",
   "metadata": {},
   "outputs": [
    {
     "data": {
      "text/plain": [
       "False"
      ]
     },
     "execution_count": 8,
     "metadata": {},
     "output_type": "execute_result"
    }
   ],
   "source": [
    "dict_['status'] == 401 and dict_['statusText'].strip() == 'Access not allowed'"
   ]
  },
  {
   "cell_type": "code",
   "execution_count": 9,
   "id": "d952af58-7a95-4e82-bd22-9fed31c468c2",
   "metadata": {},
   "outputs": [
    {
     "data": {
      "text/plain": [
       "[{'articleLinkId': 994698707,\n",
       "  'linked': True,\n",
       "  'linkingTargetId': 53026,\n",
       "  'linkingTargetType': 'P'}]"
      ]
     },
     "execution_count": 9,
     "metadata": {},
     "output_type": "execute_result"
    }
   ],
   "source": [
    "list_link = dict_['data']['array'][0]['articleLinkages']['array']\n",
    "\n",
    "list_link"
   ]
  },
  {
   "cell_type": "code",
   "execution_count": 10,
   "id": "b47cf208-aaed-491b-adc0-0e80b360b518",
   "metadata": {},
   "outputs": [
    {
     "data": {
      "text/plain": [
       "[{'articleLinkId': 994698707,\n",
       "  'linked': True,\n",
       "  'linkingTargetId': 53026,\n",
       "  'linkingTargetType': 'P'}]"
      ]
     },
     "execution_count": 10,
     "metadata": {},
     "output_type": "execute_result"
    }
   ],
   "source": [
    "list_link"
   ]
  },
  {
   "cell_type": "code",
   "execution_count": 11,
   "id": "f2af2855-90d8-4e4a-8751-c9c936fe2b1b",
   "metadata": {},
   "outputs": [
    {
     "data": {
      "text/plain": [
       "[{'array': [{'articleLinkId': 994698707, 'linkingTargetId': 53026}]}]"
      ]
     },
     "execution_count": 11,
     "metadata": {},
     "output_type": "execute_result"
    }
   ],
   "source": [
    "list_dict_link, index_begin, index_end = [], 0, 25\n",
    "while True:\n",
    "    dict_link = {'array': []}\n",
    "    if index_end < len(list_link):\n",
    "        for link in list_link[index_begin:index_end]:\n",
    "            dict_link['array'].append({'articleLinkId': link['articleLinkId'], 'linkingTargetId': link['linkingTargetId']})\n",
    "        list_dict_link.append(dict_link)\n",
    "        index_begin, index_end = index_end, index_end + 25\n",
    "    else:\n",
    "        for link in list_link[index_begin:]:\n",
    "            dict_link['array'].append({'articleLinkId': link['articleLinkId'], 'linkingTargetId': link['linkingTargetId']})\n",
    "        list_dict_link.append(dict_link)\n",
    "        break\n",
    "\n",
    "list_dict_link"
   ]
  },
  {
   "cell_type": "code",
   "execution_count": 12,
   "id": "5adb5e58-d434-43e4-ae3a-39afd7034ab1",
   "metadata": {
    "scrolled": true
   },
   "outputs": [
    {
     "data": {
      "text/plain": [
       "[{'Part Code': 13362498,\n",
       "  'Make': 'LEXUS',\n",
       "  'Make Code': 842,\n",
       "  'Url': 'https://web.tecalliance.net/tecdoc/qa/parts/21/574085/detail?groups=298',\n",
       "  'JOIN_PCMC': '13362498;842',\n",
       "  'Link No': 1,\n",
       "  'Json_Link': '{\"array\": [{\"articleLinkId\": 994698707, \"linkingTargetId\": 53026}]}',\n",
       "  'JOIN_JOIN_PCMCLN': '13362498;842;1'}]"
      ]
     },
     "execution_count": 12,
     "metadata": {},
     "output_type": "execute_result"
    }
   ],
   "source": [
    "list_dict_correct.extend([{'Part Code': crawler_series['Part Code'],\n",
    "                           'Make': crawler_series['Make'],\n",
    "                           'Make Code': crawler_series['Make Code'],\n",
    "                           'JOIN_PCMC': crawler_series['JOIN_PCMC'],\n",
    "                           'Url': crawler_series['Url'],\n",
    "                           'Link No': i + 1,\n",
    "                           'Json_Link': json.dumps(dict_link),\n",
    "                           'JOIN_PCMCLN': f'''{crawler_series['JOIN_PCMC']};{i + 1}'''} for i, dict_link in enumerate(list_dict_link)])\n",
    "\n",
    "list_dict_correct"
   ]
  },
  {
   "cell_type": "code",
   "execution_count": 13,
   "id": "e9e00791-247f-46b0-b478-feb894d5b3e4",
   "metadata": {},
   "outputs": [
    {
     "data": {
      "text/plain": [
       "True"
      ]
     },
     "execution_count": 13,
     "metadata": {},
     "output_type": "execute_result"
    }
   ],
   "source": [
    "crawler_status = True\n",
    "\n",
    "crawler_status"
   ]
  },
  {
   "cell_type": "code",
   "execution_count": 14,
   "id": "18a55150-946e-412b-b51a-f8bd10cc3037",
   "metadata": {},
   "outputs": [
    {
     "data": {
      "text/plain": [
       "[Part Code                                             13362498\n",
       " Make                                                     LEXUS\n",
       " Make Code                                                  842\n",
       " JOIN_PCMC                                         13362498;842\n",
       " Url          https://web.tecalliance.net/tecdoc/qa/parts/21...\n",
       " Check_Url    https://web.tecalliance.net/tecdoc/qa/parts/21...\n",
       " Name: 0, dtype: object]"
      ]
     },
     "execution_count": 14,
     "metadata": {},
     "output_type": "execute_result"
    }
   ],
   "source": [
    "crawler_series['Check_Url'] = url_check\n",
    "\n",
    "list_series_error.append(crawler_series)\n",
    "\n",
    "list_series_error"
   ]
  },
  {
   "cell_type": "code",
   "execution_count": 15,
   "id": "b594fb8e-1d00-45ae-be0e-5c0225f80499",
   "metadata": {},
   "outputs": [
    {
     "data": {
      "text/html": [
       "<div>\n",
       "<style scoped>\n",
       "    .dataframe tbody tr th:only-of-type {\n",
       "        vertical-align: middle;\n",
       "    }\n",
       "\n",
       "    .dataframe tbody tr th {\n",
       "        vertical-align: top;\n",
       "    }\n",
       "\n",
       "    .dataframe thead th {\n",
       "        text-align: right;\n",
       "    }\n",
       "</style>\n",
       "<table border=\"1\" class=\"dataframe\">\n",
       "  <thead>\n",
       "    <tr style=\"text-align: right;\">\n",
       "      <th></th>\n",
       "      <th>Part Code</th>\n",
       "      <th>Make</th>\n",
       "      <th>Make Code</th>\n",
       "      <th>Url</th>\n",
       "      <th>JOIN_PCMC</th>\n",
       "      <th>Link No</th>\n",
       "      <th>Json_Link</th>\n",
       "      <th>JOIN_JOIN_PCMCLN</th>\n",
       "    </tr>\n",
       "  </thead>\n",
       "  <tbody>\n",
       "    <tr>\n",
       "      <th>0</th>\n",
       "      <td>13362498</td>\n",
       "      <td>LEXUS</td>\n",
       "      <td>842</td>\n",
       "      <td>https://web.tecalliance.net/tecdoc/qa/parts/21...</td>\n",
       "      <td>13362498;842</td>\n",
       "      <td>1</td>\n",
       "      <td>{\"array\": [{\"articleLinkId\": 994698707, \"linki...</td>\n",
       "      <td>13362498;842;1</td>\n",
       "    </tr>\n",
       "  </tbody>\n",
       "</table>\n",
       "</div>"
      ],
      "text/plain": [
       "   Part Code   Make  Make Code  \\\n",
       "0   13362498  LEXUS        842   \n",
       "\n",
       "                                                 Url     JOIN_PCMC  Link No  \\\n",
       "0  https://web.tecalliance.net/tecdoc/qa/parts/21...  13362498;842        1   \n",
       "\n",
       "                                           Json_Link JOIN_JOIN_PCMCLN  \n",
       "0  {\"array\": [{\"articleLinkId\": 994698707, \"linki...   13362498;842;1  "
      ]
     },
     "execution_count": 15,
     "metadata": {},
     "output_type": "execute_result"
    }
   ],
   "source": [
    "if list_dict_correct:\n",
    "    df_correct = pd.DataFrame(list_dict_correct).sort_values(by=['Part Code', 'Make', 'Link No'],\n",
    "                                                             ascending=[True, True, True],\n",
    "                                                             ignore_index=True)\n",
    "    df_correct.to_excel('./test_link.xlsx', index=False)\n",
    "\n",
    "df_correct"
   ]
  },
  {
   "cell_type": "code",
   "execution_count": 16,
   "id": "39a5441b-7f69-4812-aad8-7e10a1a24e78",
   "metadata": {},
   "outputs": [
    {
     "data": {
      "text/html": [
       "<div>\n",
       "<style scoped>\n",
       "    .dataframe tbody tr th:only-of-type {\n",
       "        vertical-align: middle;\n",
       "    }\n",
       "\n",
       "    .dataframe tbody tr th {\n",
       "        vertical-align: top;\n",
       "    }\n",
       "\n",
       "    .dataframe thead th {\n",
       "        text-align: right;\n",
       "    }\n",
       "</style>\n",
       "<table border=\"1\" class=\"dataframe\">\n",
       "  <thead>\n",
       "    <tr style=\"text-align: right;\">\n",
       "      <th></th>\n",
       "      <th>Part Code</th>\n",
       "      <th>Make</th>\n",
       "      <th>Make Code</th>\n",
       "      <th>JOIN_PCMC</th>\n",
       "      <th>Url</th>\n",
       "      <th>Check_Url</th>\n",
       "    </tr>\n",
       "  </thead>\n",
       "  <tbody>\n",
       "    <tr>\n",
       "      <th>0</th>\n",
       "      <td>13362498</td>\n",
       "      <td>LEXUS</td>\n",
       "      <td>842</td>\n",
       "      <td>13362498;842</td>\n",
       "      <td>https://web.tecalliance.net/tecdoc/qa/parts/21...</td>\n",
       "      <td>https://web.tecalliance.net/tecdoc/qa/parts/21...</td>\n",
       "    </tr>\n",
       "  </tbody>\n",
       "</table>\n",
       "</div>"
      ],
      "text/plain": [
       "   Part Code   Make  Make Code     JOIN_PCMC  \\\n",
       "0   13362498  LEXUS        842  13362498;842   \n",
       "\n",
       "                                                 Url  \\\n",
       "0  https://web.tecalliance.net/tecdoc/qa/parts/21...   \n",
       "\n",
       "                                           Check_Url  \n",
       "0  https://web.tecalliance.net/tecdoc/qa/parts/21...  "
      ]
     },
     "execution_count": 16,
     "metadata": {},
     "output_type": "execute_result"
    }
   ],
   "source": [
    "if list_series_error:\n",
    "    df_error = pd.DataFrame(list_series_error).sort_values(by=['Part Code', 'Make'],\n",
    "                                                           ascending=[True, True],\n",
    "                                                           ignore_index=True)\n",
    "    df_error.to_excel('./test_link_error.xlsx', index=False)\n",
    "\n",
    "df_error"
   ]
  },
  {
   "cell_type": "code",
   "execution_count": null,
   "id": "a31a202d-21e6-4a6a-8107-95dbbd0cf29b",
   "metadata": {},
   "outputs": [],
   "source": []
  }
 ],
 "metadata": {
  "kernelspec": {
   "display_name": "Python 3 (ipykernel)",
   "language": "python",
   "name": "python3"
  },
  "language_info": {
   "codemirror_mode": {
    "name": "ipython",
    "version": 3
   },
   "file_extension": ".py",
   "mimetype": "text/x-python",
   "name": "python",
   "nbconvert_exporter": "python",
   "pygments_lexer": "ipython3",
   "version": "3.12.7"
  }
 },
 "nbformat": 4,
 "nbformat_minor": 5
}
