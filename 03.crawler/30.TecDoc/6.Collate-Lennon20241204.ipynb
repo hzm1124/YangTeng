{
 "cells": [
  {
   "cell_type": "code",
   "execution_count": 1,
   "id": "60f967b1-8c54-4fc2-8c17-62ac0632f0ce",
   "metadata": {},
   "outputs": [
    {
     "data": {
      "text/plain": [
       "'.'"
      ]
     },
     "execution_count": 1,
     "metadata": {},
     "output_type": "execute_result"
    }
   ],
   "source": [
    "import platform\n",
    "import os\n",
    "\n",
    "system = platform.system().lower().strip()\n",
    "if system in ['darwin', 'windows']:\n",
    "    path_root = '.'\n",
    "elif system == 'linux':\n",
    "    from google.colab import drive\n",
    "    drive.mount('/content/drive')\n",
    "\n",
    "    path_root = './drive/MyDrive/code/03.crawler/30.TecDoc'\n",
    "else:\n",
    "    print('fuck')\n",
    "\n",
    "path_root"
   ]
  },
  {
   "cell_type": "code",
   "execution_count": 2,
   "id": "bb44f362-4343-4c0e-aa15-74e52a2752a6",
   "metadata": {},
   "outputs": [
    {
     "data": {
      "text/plain": [
       "'././file/6.collate'"
      ]
     },
     "execution_count": 2,
     "metadata": {},
     "output_type": "execute_result"
    }
   ],
   "source": [
    "import shutil\n",
    "directory_out = os.path.join(path_root, './file/6.collate')\n",
    "if os.path.exists(directory_out):\n",
    "    shutil.rmtree(directory_out)\n",
    "os.makedirs(directory_out)\n",
    "\n",
    "directory_out"
   ]
  },
  {
   "cell_type": "code",
   "execution_count": 3,
   "id": "80318d1c-33ff-49f0-b360-b48df0e346b9",
   "metadata": {},
   "outputs": [],
   "source": [
    "import pandas as pd\n",
    "\n",
    "from tqdm import tqdm\n",
    "import json"
   ]
  },
  {
   "cell_type": "markdown",
   "id": "2e688525-cdaa-470c-a533-fb612881a181",
   "metadata": {},
   "source": [
    "# 1. Part"
   ]
  },
  {
   "cell_type": "code",
   "execution_count": 4,
   "id": "0dd90933-80d4-4aac-a299-f88a365f2179",
   "metadata": {},
   "outputs": [
    {
     "name": "stdout",
     "output_type": "stream",
     "text": [
      "Data Loading...\n",
      "Loading Done !\n",
      "\n"
     ]
    },
    {
     "name": "stderr",
     "output_type": "stream",
     "text": [
      "Progress: 100%|███████████████████████████| 666/666 [00:01<00:00, 420.31it/s]\n"
     ]
    },
    {
     "name": "stdout",
     "output_type": "stream",
     "text": [
      "Data Outputting...\n",
      "Output Finished !\n",
      "\n",
      "Data Loading...\n",
      "Loading Done !\n",
      "\n"
     ]
    },
    {
     "name": "stderr",
     "output_type": "stream",
     "text": [
      "Progress: 100%|████████████████████████| 1381/1381 [00:00<00:00, 1425.27it/s]\n"
     ]
    },
    {
     "name": "stdout",
     "output_type": "stream",
     "text": [
      "Data Outputting...\n",
      "Output Finished !\n",
      "\n",
      "Done ~\n"
     ]
    }
   ],
   "source": [
    "directory_in = os.path.join(path_root, './file/2.part')\n",
    "list_file = [file for file in sorted(list(os.walk(directory_in))[0][2]) if file not in ['.DS_Store'] and os.path.isfile(os.path.join(directory_in, file))]\n",
    "for file in list_file:\n",
    "\n",
    "    # = = =  = = =  = = =\n",
    "\n",
    "    print('Data Loading...')\n",
    "    df_input = pd.read_excel(os.path.join(directory_in, file),\n",
    "                             header=0,\n",
    "                             dtype=str).fillna('')\n",
    "\n",
    "    df_input['No'] = df_input['No'].astype(int)\n",
    "    df_input['Packing Unit'] = ['' if packing_unit == '' else int(packing_unit) for packing_unit in df_input['Packing Unit'].tolist()]\n",
    "    df_input['Quantity Per Packaging Unit'] = ['' if quantity_per_packing_unit == '' else int(quantity_per_packing_unit) for quantity_per_packing_unit in df_input['Quantity Per Packaging Unit'].tolist()]\n",
    "    df_input['Part Code'] = df_input['Part Code'].astype(int)\n",
    "    print('Loading Done !')\n",
    "    print()\n",
    "\n",
    "    # = = =  = = =  = = =\n",
    "\n",
    "    list_series, list_column, list_column_information, list_column_criteria = [], df_input.columns.tolist(), [], []\n",
    "    for _, series in tqdm(df_input.iterrows(), total=len(df_input), desc='Progress', ncols=77):\n",
    "        dict_dict, dict_dict_2 = json.loads(series['Json_Information']), json.loads(series['Json_Criteria'])\n",
    "        dict_, dict_2 = {k: v for dict_ in dict_dict.values() for k, v in dict_.items()}, {k: v for dict_ in dict_dict_2.values() for k, v in dict_.items()}\n",
    "\n",
    "        for key, value in dict_.items():\n",
    "            if key in list_column:\n",
    "                key = f'{key} (Information)'\n",
    "\n",
    "            if key not in list_column_information:\n",
    "                list_column_information.append(key)\n",
    "\n",
    "            series[key] = value\n",
    "\n",
    "        # = = =  = = =  = = =\n",
    "\n",
    "        for key, value in dict_2.items():\n",
    "            if key in list_column:\n",
    "                key = f'{key} (Criteria)'\n",
    "\n",
    "            if key not in list_column_criteria:\n",
    "                list_column_criteria.append(key)\n",
    "\n",
    "            series[key] = value\n",
    "\n",
    "        list_series.append(series)\n",
    "\n",
    "    # = = =  = = =  = = =\n",
    "\n",
    "    print('Data Outputting...')\n",
    "    df_input = pd.DataFrame(list_series).sort_values(by=['No'],\n",
    "                                                     ascending=[True],\n",
    "                                                     ignore_index=True)\n",
    "    df_input[list_column[:15] + sorted(list_column_information) + sorted(list_column_criteria) + list_column[15:]].to_excel(os.path.join(directory_out, file), index=False)\n",
    "    print('Output Finished !')\n",
    "    print()\n",
    "\n",
    "# = = =  = = =  = = =\n",
    "\n",
    "print('Done ~')"
   ]
  },
  {
   "cell_type": "markdown",
   "id": "638c7049-7ebe-4c62-874c-d1c440e5f1a8",
   "metadata": {},
   "source": [
    "# 2. Vehicle"
   ]
  },
  {
   "cell_type": "code",
   "execution_count": 5,
   "id": "2c3e32ef-a593-4609-a624-e3766c947e8d",
   "metadata": {},
   "outputs": [
    {
     "name": "stdout",
     "output_type": "stream",
     "text": [
      "Data Loading...\n",
      "Loading Done !\n",
      "\n"
     ]
    },
    {
     "name": "stderr",
     "output_type": "stream",
     "text": [
      "Progress: 100%|████████████████████████████| 615/615 [00:11<00:00, 52.47it/s]\n"
     ]
    },
    {
     "name": "stdout",
     "output_type": "stream",
     "text": [
      "Data Outputting...\n",
      "Output Finished !\n",
      "\n",
      "Data Loading...\n",
      "Loading Done !\n",
      "\n"
     ]
    },
    {
     "name": "stderr",
     "output_type": "stream",
     "text": [
      "Progress: 100%|███████████████████████████| 643/643 [00:05<00:00, 117.65it/s]\n"
     ]
    },
    {
     "name": "stdout",
     "output_type": "stream",
     "text": [
      "Data Outputting...\n",
      "Output Finished !\n",
      "\n",
      "Done ~\n"
     ]
    }
   ],
   "source": [
    "directory_in = os.path.join(path_root, './file/5.vehicle')\n",
    "list_file = [file for file in sorted(list(os.walk(directory_in))[0][2]) if file not in ['.DS_Store'] and os.path.isfile(os.path.join(directory_in, file))]\n",
    "for file in list_file:\n",
    "\n",
    "    # = = =  = = =  = = =\n",
    "\n",
    "    print('Data Loading...')\n",
    "    df_input = pd.read_excel(os.path.join(directory_in, file),\n",
    "                             header=0,\n",
    "                             dtype=str).fillna('')\n",
    "\n",
    "    df_input['Part Code'] = df_input['Part Code'].astype(int)\n",
    "    df_input['Make No'] = df_input['Make No'].astype(int)\n",
    "    df_input['Make Code'] = df_input['Make Code'].astype(int)\n",
    "    df_input['Link No'] = df_input['Link No'].astype(int)\n",
    "    print('Loading Done !')\n",
    "    print()\n",
    "\n",
    "    # = = =  = = =  = = =\n",
    "\n",
    "    list_dict, grouped = [], df_input.groupby('Part Code')\n",
    "    for part_code, df in tqdm(grouped, desc='Progress', ncols=77):\n",
    "        df = df.reset_index(drop=True)\n",
    "\n",
    "        # = = =  = = =  = = =\n",
    "\n",
    "        dict_vehicle = {}\n",
    "        for i in range(len(df)):\n",
    "            make, model, engine, year, year_2 = df.loc[i, 'Make'], df.loc[i, 'Model'], '' if df.loc[i, 'cc'] == '' else f'''{df.loc[i, 'cc']}cc''', int(df.loc[i, 'Year'].split('-')[0][:-2]), 2024 if df.loc[i, 'Year'].split('-')[-1] == '' else int(df.loc[i, 'Year'].split('-')[-1][:-2])\n",
    "\n",
    "            if make not in dict_vehicle:\n",
    "                dict_vehicle[make] = {model: {engine: [year] if year == year_2 else [year, year_2]}}\n",
    "            elif model not in dict_vehicle[make]:\n",
    "                dict_vehicle[make][model] = {engine: [year] if year == year_2 else [year, year_2]}\n",
    "            elif engine not in dict_vehicle[make][model]:\n",
    "                dict_vehicle[make][model][engine] = [year] if year == year_2 else [year, year_2]\n",
    "            else:\n",
    "                if year not in dict_vehicle[make][model][engine]:\n",
    "                    dict_vehicle[make][model][engine].append(year)\n",
    "                if year_2 not in dict_vehicle[make][model][engine]:\n",
    "                    dict_vehicle[make][model][engine].append(year_2)\n",
    "\n",
    "        # = = =  = = =  = = =\n",
    "\n",
    "        list_vehicle, list_vehicle_2 = [], []\n",
    "        for make, dict_model in dict_vehicle.items():\n",
    "            for model, dict_engine in dict_model.items():\n",
    "                list_year = [year for list_year in dict_engine.values() for year in list_year]\n",
    "                year_begin, year_end = min(list_year), max(list_year)\n",
    "                list_vehicle.append(f'{make} {model} {year_begin}' if year_begin == year_end else f'{make} {model} {year_begin}-{year_end}')\n",
    "\n",
    "                for engine, list_year in dict_engine.items():\n",
    "                    year_begin, year_end = min(list_year), max(list_year)\n",
    "                    list_vehicle_2.append(f'{make} {model} {year_begin} {engine}'.strip() if year_begin == year_end else f'{make} {model} {year_begin}-{year_end} {engine}'.strip())\n",
    "\n",
    "        # = = =  = = =  = = =\n",
    "\n",
    "        list_dict.append({'Part Code': part_code,\n",
    "                          'Vehicle W/o Engine': '\\n'.join(sorted(list_vehicle)),\n",
    "                          'Vehicle W/ Engine': '\\n'.join(sorted(list_vehicle_2))})\n",
    "\n",
    "    # = = =  = = =  = = =\n",
    "\n",
    "    print('Data Outputting...')\n",
    "    df_output = pd.DataFrame(list_dict).sort_values(by=['Part Code'],\n",
    "                                                    ascending=[True],\n",
    "                                                    ignore_index=True)\n",
    "    df_output.to_excel(os.path.join(directory_out, file), index=False)\n",
    "    print('Output Finished !')\n",
    "    print()\n",
    "\n",
    "# = = =  = = =  = = =\n",
    "\n",
    "print('Done ~')"
   ]
  },
  {
   "cell_type": "code",
   "execution_count": null,
   "id": "5b117b2e-d9a5-4516-a000-50c16a6f377d",
   "metadata": {},
   "outputs": [],
   "source": []
  }
 ],
 "metadata": {
  "kernelspec": {
   "display_name": "Python 3 (ipykernel)",
   "language": "python",
   "name": "python3"
  },
  "language_info": {
   "codemirror_mode": {
    "name": "ipython",
    "version": 3
   },
   "file_extension": ".py",
   "mimetype": "text/x-python",
   "name": "python",
   "nbconvert_exporter": "python",
   "pygments_lexer": "ipython3",
   "version": "3.12.7"
  }
 },
 "nbformat": 4,
 "nbformat_minor": 5
}
