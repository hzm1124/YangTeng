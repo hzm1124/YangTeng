{
 "cells": [
  {
   "cell_type": "code",
   "execution_count": 1,
   "id": "aac44a48",
   "metadata": {},
   "outputs": [],
   "source": [
    "import pandas as pd\n",
    "\n",
    "output_correct = pd.DataFrame()\n",
    "output_error = pd.DataFrame()"
   ]
  },
  {
   "cell_type": "code",
   "execution_count": 2,
   "id": "625180e9",
   "metadata": {
    "scrolled": true
   },
   "outputs": [
    {
     "name": "stdout",
     "output_type": "stream",
     "text": [
      "总数量：26\n"
     ]
    },
    {
     "data": {
      "text/plain": [
       "['Apparel & Gifts',\n",
       " 'Belt Drive',\n",
       " 'Body & Lamp Assembly',\n",
       " 'Brake & Wheel Hub',\n",
       " 'Cooling System',\n",
       " 'Drivetrain',\n",
       " 'Electrical',\n",
       " 'Electrical-Bulb & Socket',\n",
       " 'Electrical-Connector',\n",
       " 'Electrical-Switch & Relay',\n",
       " 'Engine',\n",
       " 'Exhaust & Emission',\n",
       " 'Fuel & Air',\n",
       " 'Garage Equipment',\n",
       " 'Hardware',\n",
       " 'Heat & Air Conditioning',\n",
       " 'Hoses/Lines & Clamps',\n",
       " 'Ignition',\n",
       " 'Interior',\n",
       " 'Literature',\n",
       " 'Steering',\n",
       " 'Suspension',\n",
       " 'Transmission-Automatic',\n",
       " 'Transmission-Manual',\n",
       " 'Wheel',\n",
       " 'Wiper & Washer']"
      ]
     },
     "execution_count": 2,
     "metadata": {},
     "output_type": "execute_result"
    }
   ],
   "source": [
    "input_ = pd.read_excel('./1.category.xlsx',\n",
    "                       header=0,\n",
    "                       dtype=str).fillna('')\n",
    "\n",
    "print('总数量：' + str(len(input_)))\n",
    "input_['Category'].tolist()"
   ]
  },
  {
   "cell_type": "code",
   "execution_count": 3,
   "id": "287cb149",
   "metadata": {},
   "outputs": [
    {
     "data": {
      "text/plain": [
       "'error'"
      ]
     },
     "execution_count": 3,
     "metadata": {},
     "output_type": "execute_result"
    }
   ],
   "source": [
    "crawler_status = 'error'\n",
    "\n",
    "crawler_status"
   ]
  },
  {
   "cell_type": "code",
   "execution_count": 4,
   "id": "4c4efd91",
   "metadata": {},
   "outputs": [],
   "source": [
    "import requests\n",
    "\n",
    "import sys\n",
    "sys.path.append('../../00.Tools')\n",
    "import UA\n",
    "import Proxy"
   ]
  },
  {
   "cell_type": "code",
   "execution_count": 5,
   "id": "f4d0ee82",
   "metadata": {
    "scrolled": true
   },
   "outputs": [
    {
     "data": {
      "text/plain": [
       "'{\"html_fill_sections\":{\"navchildren[]\":\"<div class=\\\\\"ranavnode\\\\\" id=\\\\\"nav[__GIP__1__]\\\\\"><input type=\\\\\"hidden\\\\\" autocomplete=\\\\\"off\\\\\" id=\\\\\"jsn[__GIP__1__]\\\\\" value=\\\\\"{&quot;groupindex&quot;:&quot;__GIP__1__&quot;,&quot;tab&quot;:&quot;extras&quot;,&quot;idepth&quot;:1,&quot;groupname&quot;:&quot;Apparel &amp; Gifts&quot;,&quot;subgroupname&quot;:&quot;RockAuto Apparel&quot;,&quot;nodetype&quot;:&quot;subgroupname&quot;}\\\\\" \\\\/><input type=\\\\\"hidden\\\\\" autocomplete=\\\\\"off\\\\\" name=\\\\\"navnodeunique[extras-apparel &amp; gifts-rockauto apparel]\\\\\" id=\\\\\"navnodeunique[extras-apparel &amp; gifts-rockauto apparel]\\\\\" value=\\\\\"__GIP__1__\\\\\" \\\\/><div id=\\\\\"nav_o[__GIP__1__]\\\\\" class=\\\\\"ranavouter\\\\\"><div class=\\\\\"inner\\\\\"><table class=\\\\\"tbl\\\\\"  cellpadding=\\\\\"0\\\\\" cellspacing=\\\\\"0\\\\\"><tr><td class=\\\\\"niconspace nvlineicon\\\\\"><\\\\/td><td class=\\\\\"niconspace ncollapsedicon\\\\\" id=\\\\\"navicon[__GIP__1__]\\\\\"><a href=\\\\\"\\\\/en\\\\/tools\\\\/apparel+&amp;+gifts,rockauto+apparel\\\\\" onclick=\\\\\"cataloglite.LinkIntercept_ToggleNavNode(&quot;__GIP__1__&quot;); return false;\\\\\" tabindex=\\\\\"-1\\\\\"><img src=\\\\\"\\\\/Images\\\\/1pxtransparent.png\\\\\" alt=\\\\\"Toggle\\\\\"><\\\\/a><\\\\/td><td class=\\\\\"nlabel\\\\\"  onmouseover=\\\\\"timer_collage = setTimeout(function(){ cataloglite.CreateCollagePopup(&quot;__GIP__1__&quot;); }, 333);\\\\\" onmouseout=\\\\\"clearTimeout(timer_collage); cataloglite.HideCollagePopup();\\\\\" onmousedown=\\\\\"clearTimeout(timer_collage); cataloglite.HideCollagePopup();\\\\\"><a class=\\\\\"navlabellink nvoffset nnormal\\\\\" href=\\\\\"\\\\/en\\\\/tools\\\\/apparel+&amp;+gifts,rockauto+apparel\\\\\" onclick=\\\\\"cataloglite.LinkIntercept_ToggleNavNode(&quot;__GIP__1__&quot;); return false;\\\\\" id=\\\\\"navhref[__GIP__1__]\\\\\">RockAuto Apparel<\\\\/a><\\\\/td><\\\\/tr><\\\\/table><\\\\/div><\\\\/div><div class=\\\\\"nchildren ra-hide\\\\\" id=\\\\\"navchildren[__GIP__1__]\\\\\" ><\\\\/div><\\\\/div><div class=\\\\\"ranavnode\\\\\" id=\\\\\"nav[__GIP__2__]\\\\\"><input type=\\\\\"hidden\\\\\" autocomplete=\\\\\"off\\\\\" id=\\\\\"jsn[__GIP__2__]\\\\\" value=\\\\\"{&quot;groupindex&quot;:&quot;__GIP__2__&quot;,&quot;tab&quot;:&quot;extras&quot;,&quot;idepth&quot;:1,&quot;groupname&quot;:&quot;Apparel &amp; Gifts&quot;,&quot;subgroupname&quot;:&quot;RockAuto Gift&quot;,&quot;nodetype&quot;:&quot;subgroupname&quot;}\\\\\" \\\\/><input type=\\\\\"hidden\\\\\" autocomplete=\\\\\"off\\\\\" name=\\\\\"navnodeunique[extras-apparel &amp; gifts-rockauto gift]\\\\\" id=\\\\\"navnodeunique[extras-apparel &amp; gifts-rockauto gift]\\\\\" value=\\\\\"__GIP__2__\\\\\" \\\\/><div id=\\\\\"nav_o[__GIP__2__]\\\\\" class=\\\\\"ranavouter\\\\\"><div class=\\\\\"inner\\\\\"><table class=\\\\\"tbl\\\\\"  cellpadding=\\\\\"0\\\\\" cellspacing=\\\\\"0\\\\\"><tr><td class=\\\\\"niconspace nvlineicon\\\\\"><\\\\/td><td class=\\\\\"niconspace ncollapsedicon\\\\\" id=\\\\\"navicon[__GIP__2__]\\\\\"><a href=\\\\\"\\\\/en\\\\/tools\\\\/apparel+&amp;+gifts,rockauto+gift\\\\\" onclick=\\\\\"cataloglite.LinkIntercept_ToggleNavNode(&quot;__GIP__2__&quot;); return false;\\\\\" tabindex=\\\\\"-1\\\\\"><img src=\\\\\"\\\\/Images\\\\/1pxtransparent.png\\\\\" alt=\\\\\"Toggle\\\\\"><\\\\/a><\\\\/td><td class=\\\\\"nlabel\\\\\"  onmouseover=\\\\\"timer_collage = setTimeout(function(){ cataloglite.CreateCollagePopup(&quot;__GIP__2__&quot;); }, 333);\\\\\" onmouseout=\\\\\"clearTimeout(timer_collage); cataloglite.HideCollagePopup();\\\\\" onmousedown=\\\\\"clearTimeout(timer_collage); cataloglite.HideCollagePopup();\\\\\"><a class=\\\\\"navlabellink nvoffset nnormal\\\\\" href=\\\\\"\\\\/en\\\\/tools\\\\/apparel+&amp;+gifts,rockauto+gift\\\\\" onclick=\\\\\"cataloglite.LinkIntercept_ToggleNavNode(&quot;__GIP__2__&quot;); return false;\\\\\" id=\\\\\"navhref[__GIP__2__]\\\\\">RockAuto Gift<\\\\/a><\\\\/td><\\\\/tr><\\\\/table><\\\\/div><\\\\/div><div class=\\\\\"nchildren ra-hide\\\\\" id=\\\\\"navchildren[__GIP__2__]\\\\\" ><\\\\/div><\\\\/div>\"},\"jsn\":{\"tab\":\"extras\",\"groupname\":\"Apparel & Gifts\",\"nodetype\":\"groupname\",\"idepth\":0},\"collected_javascript\":\"\\\\/**UQ:E89411D6**\\\\/\\\\nwindow.top.parent.window[\\\\\"_nck\\\\\"] = \\\\\"8LVLUxTaILBT+tLxkg8+3Ag7\\\\\\\\\\\\/0bbOhvn7P3rkFbL80\\\\\\\\\\\\/oQB6RvzNfa5dcHvATqXAMxw5whzaDEdxk+27zeij67BjKru6WqTdNqG6tiEsD1EZhbTv0XForkbYp+nLaIKxDXfb4DjpqS2ZFbzKKm02sKsBx9pJtqml5BiDXh3UWTIY=\\\\\";\\\\n\"}'"
      ]
     },
     "execution_count": 5,
     "metadata": {},
     "output_type": "execute_result"
    }
   ],
   "source": [
    "a = 0\n",
    "\n",
    "data = {'func': 'navnode_fetch',\n",
    "        'payload': '{\"jsn\":{\"tab\":\"extras\",\"groupname\":\"' + input_.loc[a, 'Category'] + '\",\"nodetype\":\"groupname\"}}',\n",
    "        'api_json_request': '1'}\n",
    "\n",
    "resp = requests.post('https://www.rockauto.com/catalog/catalogapi.php',\n",
    "                     data=data,\n",
    "                     headers=UA.get_User_Agent_Requests(),\n",
    "                     proxies=Proxy.get_Proxy_Requests()).text\n",
    "\n",
    "resp"
   ]
  },
  {
   "cell_type": "code",
   "execution_count": 6,
   "id": "28878eaf",
   "metadata": {},
   "outputs": [],
   "source": [
    "import json"
   ]
  },
  {
   "cell_type": "code",
   "execution_count": 7,
   "id": "5dc7afed",
   "metadata": {},
   "outputs": [
    {
     "data": {
      "text/plain": [
       "{'html_fill_sections': {'navchildren[]': '<div class=\"ranavnode\" id=\"nav[__GIP__1__]\"><input type=\"hidden\" autocomplete=\"off\" id=\"jsn[__GIP__1__]\" value=\"{&quot;groupindex&quot;:&quot;__GIP__1__&quot;,&quot;tab&quot;:&quot;extras&quot;,&quot;idepth&quot;:1,&quot;groupname&quot;:&quot;Apparel &amp; Gifts&quot;,&quot;subgroupname&quot;:&quot;RockAuto Apparel&quot;,&quot;nodetype&quot;:&quot;subgroupname&quot;}\" /><input type=\"hidden\" autocomplete=\"off\" name=\"navnodeunique[extras-apparel &amp; gifts-rockauto apparel]\" id=\"navnodeunique[extras-apparel &amp; gifts-rockauto apparel]\" value=\"__GIP__1__\" /><div id=\"nav_o[__GIP__1__]\" class=\"ranavouter\"><div class=\"inner\"><table class=\"tbl\"  cellpadding=\"0\" cellspacing=\"0\"><tr><td class=\"niconspace nvlineicon\"></td><td class=\"niconspace ncollapsedicon\" id=\"navicon[__GIP__1__]\"><a href=\"/en/tools/apparel+&amp;+gifts,rockauto+apparel\" onclick=\"cataloglite.LinkIntercept_ToggleNavNode(&quot;__GIP__1__&quot;); return false;\" tabindex=\"-1\"><img src=\"/Images/1pxtransparent.png\" alt=\"Toggle\"></a></td><td class=\"nlabel\"  onmouseover=\"timer_collage = setTimeout(function(){ cataloglite.CreateCollagePopup(&quot;__GIP__1__&quot;); }, 333);\" onmouseout=\"clearTimeout(timer_collage); cataloglite.HideCollagePopup();\" onmousedown=\"clearTimeout(timer_collage); cataloglite.HideCollagePopup();\"><a class=\"navlabellink nvoffset nnormal\" href=\"/en/tools/apparel+&amp;+gifts,rockauto+apparel\" onclick=\"cataloglite.LinkIntercept_ToggleNavNode(&quot;__GIP__1__&quot;); return false;\" id=\"navhref[__GIP__1__]\">RockAuto Apparel</a></td></tr></table></div></div><div class=\"nchildren ra-hide\" id=\"navchildren[__GIP__1__]\" ></div></div><div class=\"ranavnode\" id=\"nav[__GIP__2__]\"><input type=\"hidden\" autocomplete=\"off\" id=\"jsn[__GIP__2__]\" value=\"{&quot;groupindex&quot;:&quot;__GIP__2__&quot;,&quot;tab&quot;:&quot;extras&quot;,&quot;idepth&quot;:1,&quot;groupname&quot;:&quot;Apparel &amp; Gifts&quot;,&quot;subgroupname&quot;:&quot;RockAuto Gift&quot;,&quot;nodetype&quot;:&quot;subgroupname&quot;}\" /><input type=\"hidden\" autocomplete=\"off\" name=\"navnodeunique[extras-apparel &amp; gifts-rockauto gift]\" id=\"navnodeunique[extras-apparel &amp; gifts-rockauto gift]\" value=\"__GIP__2__\" /><div id=\"nav_o[__GIP__2__]\" class=\"ranavouter\"><div class=\"inner\"><table class=\"tbl\"  cellpadding=\"0\" cellspacing=\"0\"><tr><td class=\"niconspace nvlineicon\"></td><td class=\"niconspace ncollapsedicon\" id=\"navicon[__GIP__2__]\"><a href=\"/en/tools/apparel+&amp;+gifts,rockauto+gift\" onclick=\"cataloglite.LinkIntercept_ToggleNavNode(&quot;__GIP__2__&quot;); return false;\" tabindex=\"-1\"><img src=\"/Images/1pxtransparent.png\" alt=\"Toggle\"></a></td><td class=\"nlabel\"  onmouseover=\"timer_collage = setTimeout(function(){ cataloglite.CreateCollagePopup(&quot;__GIP__2__&quot;); }, 333);\" onmouseout=\"clearTimeout(timer_collage); cataloglite.HideCollagePopup();\" onmousedown=\"clearTimeout(timer_collage); cataloglite.HideCollagePopup();\"><a class=\"navlabellink nvoffset nnormal\" href=\"/en/tools/apparel+&amp;+gifts,rockauto+gift\" onclick=\"cataloglite.LinkIntercept_ToggleNavNode(&quot;__GIP__2__&quot;); return false;\" id=\"navhref[__GIP__2__]\">RockAuto Gift</a></td></tr></table></div></div><div class=\"nchildren ra-hide\" id=\"navchildren[__GIP__2__]\" ></div></div>'},\n",
       " 'jsn': {'tab': 'extras',\n",
       "  'groupname': 'Apparel & Gifts',\n",
       "  'nodetype': 'groupname',\n",
       "  'idepth': 0},\n",
       " 'collected_javascript': '/**UQ:E89411D6**/\\nwindow.top.parent.window[\"_nck\"] = \"8LVLUxTaILBT+tLxkg8+3Ag7\\\\/0bbOhvn7P3rkFbL80\\\\/oQB6RvzNfa5dcHvATqXAMxw5whzaDEdxk+27zeij67BjKru6WqTdNqG6tiEsD1EZhbTv0XForkbYp+nLaIKxDXfb4DjpqS2ZFbzKKm02sKsBx9pJtqml5BiDXh3UWTIY=\";\\n'}"
      ]
     },
     "execution_count": 7,
     "metadata": {},
     "output_type": "execute_result"
    }
   ],
   "source": [
    "json_data = json.loads(resp)\n",
    "\n",
    "json_data"
   ]
  },
  {
   "cell_type": "code",
   "execution_count": 8,
   "id": "239d816a",
   "metadata": {},
   "outputs": [],
   "source": [
    "from bs4 import BeautifulSoup\n",
    "from lxml import etree"
   ]
  },
  {
   "cell_type": "code",
   "execution_count": 9,
   "id": "921d9b49",
   "metadata": {},
   "outputs": [
    {
     "name": "stdout",
     "output_type": "stream",
     "text": [
      "<html>\n",
      " <body>\n",
      "  <div class=\"ranavnode\" id=\"nav[__GIP__1__]\">\n",
      "   <input autocomplete=\"off\" id=\"jsn[__GIP__1__]\" type=\"hidden\" value='{\"groupindex\":\"__GIP__1__\",\"tab\":\"extras\",\"idepth\":1,\"groupname\":\"Apparel &amp; Gifts\",\"subgroupname\":\"RockAuto Apparel\",\"nodetype\":\"subgroupname\"}'/>\n",
      "   <input autocomplete=\"off\" id=\"navnodeunique[extras-apparel &amp; gifts-rockauto apparel]\" name=\"navnodeunique[extras-apparel &amp; gifts-rockauto apparel]\" type=\"hidden\" value=\"__GIP__1__\"/>\n",
      "   <div class=\"ranavouter\" id=\"nav_o[__GIP__1__]\">\n",
      "    <div class=\"inner\">\n",
      "     <table cellpadding=\"0\" cellspacing=\"0\" class=\"tbl\">\n",
      "      <tr>\n",
      "       <td class=\"niconspace nvlineicon\">\n",
      "       </td>\n",
      "       <td class=\"niconspace ncollapsedicon\" id=\"navicon[__GIP__1__]\">\n",
      "        <a href=\"/en/tools/apparel+&amp;+gifts,rockauto+apparel\" onclick='cataloglite.LinkIntercept_ToggleNavNode(\"__GIP__1__\"); return false;' tabindex=\"-1\">\n",
      "         <img alt=\"Toggle\" src=\"/Images/1pxtransparent.png\"/>\n",
      "        </a>\n",
      "       </td>\n",
      "       <td class=\"nlabel\" onmousedown=\"clearTimeout(timer_collage); cataloglite.HideCollagePopup();\" onmouseout=\"clearTimeout(timer_collage); cataloglite.HideCollagePopup();\" onmouseover='timer_collage = setTimeout(function(){ cataloglite.CreateCollagePopup(\"__GIP__1__\"); }, 333);'>\n",
      "        <a class=\"navlabellink nvoffset nnormal\" href=\"/en/tools/apparel+&amp;+gifts,rockauto+apparel\" id=\"navhref[__GIP__1__]\" onclick='cataloglite.LinkIntercept_ToggleNavNode(\"__GIP__1__\"); return false;'>\n",
      "         RockAuto Apparel\n",
      "        </a>\n",
      "       </td>\n",
      "      </tr>\n",
      "     </table>\n",
      "    </div>\n",
      "   </div>\n",
      "   <div class=\"nchildren ra-hide\" id=\"navchildren[__GIP__1__]\">\n",
      "   </div>\n",
      "  </div>\n",
      "  <div class=\"ranavnode\" id=\"nav[__GIP__2__]\">\n",
      "   <input autocomplete=\"off\" id=\"jsn[__GIP__2__]\" type=\"hidden\" value='{\"groupindex\":\"__GIP__2__\",\"tab\":\"extras\",\"idepth\":1,\"groupname\":\"Apparel &amp; Gifts\",\"subgroupname\":\"RockAuto Gift\",\"nodetype\":\"subgroupname\"}'/>\n",
      "   <input autocomplete=\"off\" id=\"navnodeunique[extras-apparel &amp; gifts-rockauto gift]\" name=\"navnodeunique[extras-apparel &amp; gifts-rockauto gift]\" type=\"hidden\" value=\"__GIP__2__\"/>\n",
      "   <div class=\"ranavouter\" id=\"nav_o[__GIP__2__]\">\n",
      "    <div class=\"inner\">\n",
      "     <table cellpadding=\"0\" cellspacing=\"0\" class=\"tbl\">\n",
      "      <tr>\n",
      "       <td class=\"niconspace nvlineicon\">\n",
      "       </td>\n",
      "       <td class=\"niconspace ncollapsedicon\" id=\"navicon[__GIP__2__]\">\n",
      "        <a href=\"/en/tools/apparel+&amp;+gifts,rockauto+gift\" onclick='cataloglite.LinkIntercept_ToggleNavNode(\"__GIP__2__\"); return false;' tabindex=\"-1\">\n",
      "         <img alt=\"Toggle\" src=\"/Images/1pxtransparent.png\"/>\n",
      "        </a>\n",
      "       </td>\n",
      "       <td class=\"nlabel\" onmousedown=\"clearTimeout(timer_collage); cataloglite.HideCollagePopup();\" onmouseout=\"clearTimeout(timer_collage); cataloglite.HideCollagePopup();\" onmouseover='timer_collage = setTimeout(function(){ cataloglite.CreateCollagePopup(\"__GIP__2__\"); }, 333);'>\n",
      "        <a class=\"navlabellink nvoffset nnormal\" href=\"/en/tools/apparel+&amp;+gifts,rockauto+gift\" id=\"navhref[__GIP__2__]\" onclick='cataloglite.LinkIntercept_ToggleNavNode(\"__GIP__2__\"); return false;'>\n",
      "         RockAuto Gift\n",
      "        </a>\n",
      "       </td>\n",
      "      </tr>\n",
      "     </table>\n",
      "    </div>\n",
      "   </div>\n",
      "   <div class=\"nchildren ra-hide\" id=\"navchildren[__GIP__2__]\">\n",
      "   </div>\n",
      "  </div>\n",
      " </body>\n",
      "</html>\n",
      "\n"
     ]
    }
   ],
   "source": [
    "soup = BeautifulSoup(json_data['html_fill_sections']['navchildren[]'], 'lxml')\n",
    "html = etree.HTML(str(soup))\n",
    "\n",
    "with open('./subcategory.html', 'w', encoding='UTF-8') as file:\n",
    "    file.write(str(soup))\n",
    "\n",
    "print(soup.prettify())"
   ]
  },
  {
   "cell_type": "code",
   "execution_count": 10,
   "id": "c8594d0e",
   "metadata": {},
   "outputs": [
    {
     "data": {
      "text/plain": [
       "['{\"groupindex\":\"__GIP__1__\",\"tab\":\"extras\",\"idepth\":1,\"groupname\":\"Apparel & Gifts\",\"subgroupname\":\"RockAuto Apparel\",\"nodetype\":\"subgroupname\"}',\n",
       " '{\"groupindex\":\"__GIP__2__\",\"tab\":\"extras\",\"idepth\":1,\"groupname\":\"Apparel & Gifts\",\"subgroupname\":\"RockAuto Gift\",\"nodetype\":\"subgroupname\"}']"
      ]
     },
     "execution_count": 10,
     "metadata": {},
     "output_type": "execute_result"
    }
   ],
   "source": [
    "list_part = html.xpath('//input[contains(@id, \"jsn\")]/@value')\n",
    "\n",
    "list_part"
   ]
  },
  {
   "cell_type": "code",
   "execution_count": 11,
   "id": "c54eb8aa",
   "metadata": {},
   "outputs": [
    {
     "data": {
      "text/plain": [
       "['RockAuto Apparel', 'RockAuto Gift']"
      ]
     },
     "execution_count": 11,
     "metadata": {},
     "output_type": "execute_result"
    }
   ],
   "source": [
    "list_subcategory = [json.loads(part)['subgroupname'].strip() for part in list_part]\n",
    "\n",
    "list_subcategory"
   ]
  },
  {
   "cell_type": "code",
   "execution_count": 12,
   "id": "f0b86735",
   "metadata": {},
   "outputs": [
    {
     "data": {
      "text/plain": [
       "2"
      ]
     },
     "execution_count": 12,
     "metadata": {},
     "output_type": "execute_result"
    }
   ],
   "source": [
    "df_temp = pd.DataFrame({'Category_No.': int(input_.loc[a, 'Category_No.']),\n",
    "                        'Category': input_.loc[a, 'Category'],\n",
    "                        'Subcategory_No.': [i+1 for i in range(len(list_part))],\n",
    "                        'Subcategory': list_subcategory})\n",
    "\n",
    "output_correct = pd.concat([output_correct, df_temp], ignore_index=True).fillna('')\n",
    "\n",
    "len(output_correct)"
   ]
  },
  {
   "cell_type": "code",
   "execution_count": 13,
   "id": "ea9079d6",
   "metadata": {},
   "outputs": [
    {
     "data": {
      "text/plain": [
       "'ok'"
      ]
     },
     "execution_count": 13,
     "metadata": {},
     "output_type": "execute_result"
    }
   ],
   "source": [
    "crawler_status = 'ok'\n",
    "\n",
    "crawler_status"
   ]
  },
  {
   "cell_type": "code",
   "execution_count": 14,
   "id": "22d4f3db",
   "metadata": {},
   "outputs": [
    {
     "data": {
      "text/plain": [
       "0"
      ]
     },
     "execution_count": 14,
     "metadata": {},
     "output_type": "execute_result"
    }
   ],
   "source": [
    "if crawler_status == 'error':\n",
    "    df_temp = pd.DataFrame([{'Category_No.': int(input_.loc[a, 'Category_No.']),\n",
    "                             'Category': input_.loc[a, 'Category']}])\n",
    "    \n",
    "    output_error = pd.concat([output_error, df_temp], ignore_index=True).fillna('')\n",
    "\n",
    "len(output_error)"
   ]
  },
  {
   "cell_type": "code",
   "execution_count": 15,
   "id": "412408b6",
   "metadata": {},
   "outputs": [
    {
     "data": {
      "text/html": [
       "<div>\n",
       "<style scoped>\n",
       "    .dataframe tbody tr th:only-of-type {\n",
       "        vertical-align: middle;\n",
       "    }\n",
       "\n",
       "    .dataframe tbody tr th {\n",
       "        vertical-align: top;\n",
       "    }\n",
       "\n",
       "    .dataframe thead th {\n",
       "        text-align: right;\n",
       "    }\n",
       "</style>\n",
       "<table border=\"1\" class=\"dataframe\">\n",
       "  <thead>\n",
       "    <tr style=\"text-align: right;\">\n",
       "      <th></th>\n",
       "      <th>Category_No.</th>\n",
       "      <th>Category</th>\n",
       "      <th>Subcategory_No.</th>\n",
       "      <th>Subcategory</th>\n",
       "    </tr>\n",
       "  </thead>\n",
       "  <tbody>\n",
       "    <tr>\n",
       "      <th>0</th>\n",
       "      <td>1</td>\n",
       "      <td>Apparel &amp; Gifts</td>\n",
       "      <td>1</td>\n",
       "      <td>RockAuto Apparel</td>\n",
       "    </tr>\n",
       "    <tr>\n",
       "      <th>1</th>\n",
       "      <td>1</td>\n",
       "      <td>Apparel &amp; Gifts</td>\n",
       "      <td>2</td>\n",
       "      <td>RockAuto Gift</td>\n",
       "    </tr>\n",
       "  </tbody>\n",
       "</table>\n",
       "</div>"
      ],
      "text/plain": [
       "   Category_No.         Category  Subcategory_No.       Subcategory\n",
       "0             1  Apparel & Gifts                1  RockAuto Apparel\n",
       "1             1  Apparel & Gifts                2     RockAuto Gift"
      ]
     },
     "execution_count": 15,
     "metadata": {},
     "output_type": "execute_result"
    }
   ],
   "source": [
    "output_correct = output_correct.drop_duplicates(ignore_index=True)\n",
    "output_correct = output_correct.sort_values(by=['Category_No.', 'Subcategory_No.'], ascending=[True, True]).reset_index(drop=True)\n",
    "output_correct.to_excel('./test_subcategory.xlsx', index=False)\n",
    "\n",
    "output_correct"
   ]
  },
  {
   "cell_type": "code",
   "execution_count": 16,
   "id": "17399c37",
   "metadata": {},
   "outputs": [
    {
     "data": {
      "text/html": [
       "<div>\n",
       "<style scoped>\n",
       "    .dataframe tbody tr th:only-of-type {\n",
       "        vertical-align: middle;\n",
       "    }\n",
       "\n",
       "    .dataframe tbody tr th {\n",
       "        vertical-align: top;\n",
       "    }\n",
       "\n",
       "    .dataframe thead th {\n",
       "        text-align: right;\n",
       "    }\n",
       "</style>\n",
       "<table border=\"1\" class=\"dataframe\">\n",
       "  <thead>\n",
       "    <tr style=\"text-align: right;\">\n",
       "      <th></th>\n",
       "    </tr>\n",
       "  </thead>\n",
       "  <tbody>\n",
       "  </tbody>\n",
       "</table>\n",
       "</div>"
      ],
      "text/plain": [
       "Empty DataFrame\n",
       "Columns: []\n",
       "Index: []"
      ]
     },
     "execution_count": 16,
     "metadata": {},
     "output_type": "execute_result"
    }
   ],
   "source": [
    "if len(output_error) != 0:\n",
    "    output_error = output_error.drop_duplicates(ignore_index=True)\n",
    "    output_error = output_error.sort_values(by=['Category_No.'], ascending=[True]).reset_index(drop=True)\n",
    "    output_error.to_excel('./test_subcategory_error.xlsx', index=False)\n",
    "\n",
    "output_error"
   ]
  },
  {
   "cell_type": "code",
   "execution_count": null,
   "id": "3b67a89a",
   "metadata": {},
   "outputs": [],
   "source": []
  }
 ],
 "metadata": {
  "kernelspec": {
   "display_name": "Python 3 (ipykernel)",
   "language": "python",
   "name": "python3"
  },
  "language_info": {
   "codemirror_mode": {
    "name": "ipython",
    "version": 3
   },
   "file_extension": ".py",
   "mimetype": "text/x-python",
   "name": "python",
   "nbconvert_exporter": "python",
   "pygments_lexer": "ipython3",
   "version": "3.11.3"
  }
 },
 "nbformat": 4,
 "nbformat_minor": 5
}
