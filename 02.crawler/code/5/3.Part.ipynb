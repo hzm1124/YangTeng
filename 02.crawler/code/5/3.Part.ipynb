{
 "cells": [
  {
   "cell_type": "code",
   "execution_count": 1,
   "id": "98633792-9e28-4634-b526-b6a0c954c668",
   "metadata": {},
   "outputs": [
    {
     "data": {
      "text/plain": [
       "{'home': 'https://www.standardbrand.com/en/ecatalog?part=Clutch+Starter+Safety+Switch&type=p',\n",
       " 'sku_count': 'https://www.standardbrand.com/en/ecatalog?part=Clutch+Starter+Safety+Switch&type=p',\n",
       " 'page_count': 'https://www.standardbrand.com/en/ecatalog?part=Clutch+Starter+Safety+Switch&type=p',\n",
       " 'page': 'https://www.standardbrand.com/en/ecatalog?part=Clutch+Starter+Safety+Switch&type=p',\n",
       " 'page_url': 'https://www.standardbrand.com/en/ecatalog?part=Clutch+Starter+Safety+Switch&type=p',\n",
       " 'no': 1,\n",
       " 'url': 'https://www.standardbrand.com/en/ecatalog?part=CCR3&type=p&search=s',\n",
       " 'brand': 'STI',\n",
       " 'part_number': 'CCR-3',\n",
       " 'part_url': 'https://ecatalog.smpcorp.com/V2/STD/api/part/partselect?part=CCR-3&func=PART',\n",
       " 'src_url': 'https://ecatalog.smpcorp.com/V2/STD/api/image/getallimages?partNum=CCR-3&brand=STI&zoomFactor_sm=75&zoomFactor_md=360&zoomFactor_bg=960',\n",
       " 'description_1': 'Clutch Starter Safety / Cruise Release Switch',\n",
       " 'description_2': 'Clutch Starter Safety / Cruise Release Switch',\n",
       " 'pop': 'F',\n",
       " 'per_car': 1}"
      ]
     },
     "execution_count": 1,
     "metadata": {},
     "output_type": "execute_result"
    }
   ],
   "source": [
    "item = {'home': 'https://www.standardbrand.com/en/ecatalog?part=Clutch+Starter+Safety+Switch&type=p',\n",
    " 'sku_count': 'https://www.standardbrand.com/en/ecatalog?part=Clutch+Starter+Safety+Switch&type=p',\n",
    " 'page_count': 'https://www.standardbrand.com/en/ecatalog?part=Clutch+Starter+Safety+Switch&type=p',\n",
    " 'page': 'https://www.standardbrand.com/en/ecatalog?part=Clutch+Starter+Safety+Switch&type=p',\n",
    " 'page_url': 'https://www.standardbrand.com/en/ecatalog?part=Clutch+Starter+Safety+Switch&type=p',\n",
    " 'no': 1,\n",
    " 'url': 'https://www.standardbrand.com/en/ecatalog?part=CCR3&type=p&search=s',\n",
    " 'brand': 'STI',\n",
    " 'part_number': 'CCR-3',\n",
    " 'part_url': 'https://ecatalog.smpcorp.com/V2/STD/api/part/partselect?part=CCR-3&func=PART',\n",
    " 'src_url': 'https://ecatalog.smpcorp.com/V2/STD/api/image/getallimages?partNum=CCR-3&brand=STI&zoomFactor_sm=75&zoomFactor_md=360&zoomFactor_bg=960',\n",
    " 'description_1': 'Clutch Starter Safety / Cruise Release Switch',\n",
    " 'description_2': 'Clutch Starter Safety / Cruise Release Switch',\n",
    " 'pop': 'F',\n",
    " 'per_car': 1}\n",
    "\n",
    "item"
   ]
  },
  {
   "cell_type": "code",
   "execution_count": 2,
   "id": "1bc8d2f8-3da4-4739-aa3f-5d17d2f20302",
   "metadata": {},
   "outputs": [],
   "source": [
    "import requests\n",
    "\n",
    "import sys\n",
    "sys.path.append('../00.Tools')\n",
    "from configuration import generate_header, generate_proxy"
   ]
  },
  {
   "cell_type": "code",
   "execution_count": 3,
   "id": "e3eb5951-a6ea-4787-8235-16ab39cfce58",
   "metadata": {},
   "outputs": [
    {
     "data": {
      "text/plain": [
       "200"
      ]
     },
     "execution_count": 3,
     "metadata": {},
     "output_type": "execute_result"
    }
   ],
   "source": [
    "response = requests.get(item['part_url'],\n",
    "                        headers=generate_header(),\n",
    "                        proxies=generate_proxy(),\n",
    "                        timeout=(10, 15),\n",
    "                        allow_redirects=False)\n",
    "\n",
    "response.status_code"
   ]
  },
  {
   "cell_type": "code",
   "execution_count": 4,
   "id": "de46f86f-66c4-42cf-9717-e78a1d0acfbc",
   "metadata": {
    "scrolled": true
   },
   "outputs": [
    {
     "data": {
      "text/plain": [
       "{'pd': {'rowId': 1,\n",
       "  'site': 'STD',\n",
       "  'webBase': 'CCR3',\n",
       "  'brand': 'STI',\n",
       "  'basePart': 'CCR-3',\n",
       "  'partDesc_en': 'Clutch Starter Safety / Cruise Release Switch',\n",
       "  'partLongDesc_en': 'Clutch Starter Safety / Cruise Release Switch',\n",
       "  'pop': 'F',\n",
       "  'partComment': None,\n",
       "  'qtyEach': 1,\n",
       "  'webColumn_Id': None,\n",
       "  'categoryName_en': None,\n",
       "  'vehicleId': None,\n",
       "  'mfg': None,\n",
       "  'mfG_Part': None,\n",
       "  'maxRows': 1,\n",
       "  'brandLink': None,\n",
       "  'imageUrl': None},\n",
       " 'pp': {'buyersGuides': [{'basePart': 'CCR-3',\n",
       "    'buyersGuideId': 29304,\n",
       "    'buyersGuideDesc': 'Kia Sephia (01-94)'},\n",
       "   {'basePart': 'CCR-3',\n",
       "    'buyersGuideId': 31841,\n",
       "    'buyersGuideDesc': 'Kia Spectra (04-00)'},\n",
       "   {'basePart': 'CCR-3',\n",
       "    'buyersGuideId': 30432,\n",
       "    'buyersGuideDesc': 'Kia Sportage (00-95)'}],\n",
       "  'partSpecs': [{'attributeCode': '9',\n",
       "    'attributeValue': 4752,\n",
       "    'attributeSort': 240,\n",
       "    'attributeName_en': 'Connector Gender',\n",
       "    'siteValue_en': 'Female'},\n",
       "   {'attributeCode': '164',\n",
       "    'attributeValue': 1320,\n",
       "    'attributeSort': 250,\n",
       "    'attributeName_en': 'Terminal Quantity',\n",
       "    'siteValue_en': '2'},\n",
       "   {'attributeCode': '104',\n",
       "    'attributeValue': 5956,\n",
       "    'attributeSort': 260,\n",
       "    'attributeName_en': 'Terminal Gender',\n",
       "    'siteValue_en': 'Male'},\n",
       "   {'attributeCode': '105',\n",
       "    'attributeValue': 3983,\n",
       "    'attributeSort': 280,\n",
       "    'attributeName_en': 'Terminal Type',\n",
       "    'siteValue_en': 'Blade'},\n",
       "   {'attributeCode': '110',\n",
       "    'attributeValue': 1905,\n",
       "    'attributeSort': 2817,\n",
       "    'attributeName_en': 'Warranty',\n",
       "    'siteValue_en': '3 years/36,000 mile'}],\n",
       "  'imageUrls': [],\n",
       "  'relatedParts': [],\n",
       "  'relatedCategories': None,\n",
       "  'fandB': [{'basePart': 'CCR-3',\n",
       "    'fbId': '311956',\n",
       "    'fbDesc': 'For over 100 years, professional technicians have trusted Standard to replace the failed OE part. Standard manufacturers the highest-quality, best-performing parts for all import and domestic vehicles; gas, diesel, electric and hybrid. Precision manufacturing, multiple layers of testing, and a detailed validation process ensures Standard parts don’t just fit, they perform and they last.',\n",
       "    'taB_Type': 'F&B Heading',\n",
       "    'assetSort': 1,\n",
       "    'digiSort': 100},\n",
       "   {'basePart': 'CCR-3',\n",
       "    'fbId': '231472',\n",
       "    'fbDesc': 'Each Clutch Starter Safety / Cruise Release Switch is a direct-fit OE replacement that ensures ease of installation',\n",
       "    'taB_Type': 'F&B Details',\n",
       "    'assetSort': 8,\n",
       "    'digiSort': 200},\n",
       "   {'basePart': 'CCR-3',\n",
       "    'fbId': '231699',\n",
       "    'fbDesc': 'High-quality materials withstand extreme conditions',\n",
       "    'taB_Type': 'F&B Details',\n",
       "    'assetSort': 8,\n",
       "    'digiSort': 210},\n",
       "   {'basePart': 'CCR-3',\n",
       "    'fbId': '231720',\n",
       "    'fbDesc': 'Undergoes extensive testing to ensure reliability',\n",
       "    'taB_Type': 'F&B Details',\n",
       "    'assetSort': 8,\n",
       "    'digiSort': 220},\n",
       "   {'basePart': 'CCR-3',\n",
       "    'fbId': '231399',\n",
       "    'fbDesc': 'As a global manufacturer of automotive aftermarket products, we maintain complete quality control throughout the manufacturing process',\n",
       "    'taB_Type': 'F&B Details',\n",
       "    'assetSort': 8,\n",
       "    'digiSort': 230}],\n",
       "  'digiAssests': [{'asset_ID': 3,\n",
       "    'assetName': 'Bulletins',\n",
       "    'basePart': 'CCR-3',\n",
       "    'fileName': 'IM14137-IntermotorBro.pdf',\n",
       "    'fileURL': 'http://eaccess.smpcorp.com/eCatalogs/Downloads/EMD/IM14137-IntermotorBro.pdf',\n",
       "    'comment_ID': '260618',\n",
       "    'comment': 'Intermotor Brochure',\n",
       "    'assetSort': 3,\n",
       "    'digiSort': 0,\n",
       "    'videoImage': None},\n",
       "   {'asset_ID': 3,\n",
       "    'assetName': 'Bulletins',\n",
       "    'basePart': 'CCR-3',\n",
       "    'fileName': 'ST10235VWL-MAR13_JTF_veh_warn_light.pdf',\n",
       "    'fileURL': 'http://eaccess.smpcorp.com/eCatalogs/Downloads/EMD/ST10235VWL-MAR13_JTF_veh_warn_light.pdf',\n",
       "    'comment_ID': '260657',\n",
       "    'comment': 'Just the Facts: Vehicle Warning Lights',\n",
       "    'assetSort': 3,\n",
       "    'digiSort': 0,\n",
       "    'videoImage': None},\n",
       "   {'asset_ID': 3,\n",
       "    'assetName': 'Bulletins',\n",
       "    'basePart': 'CCR-3',\n",
       "    'fileName': 'ST11237-Standard_Interactive_Buyers_Guide-WEB.pdf',\n",
       "    'fileURL': 'http://eaccess.smpcorp.com/eCatalogs/Downloads/EMD/ST11237-Standard_Interactive_Buyers_Guide-WEB.pdf',\n",
       "    'comment_ID': '260664',\n",
       "    'comment': \"Standard Interactive Buyer's Guide\",\n",
       "    'assetSort': 3,\n",
       "    'digiSort': 0,\n",
       "    'videoImage': None},\n",
       "   {'asset_ID': 7,\n",
       "    'assetName': 'Videos',\n",
       "    'basePart': 'CCR-3',\n",
       "    'fileName': 'SMP Engineering Spotlight: Long Island City',\n",
       "    'fileURL': 'https://youtube.com/embed/vac2vas7vJY',\n",
       "    'comment_ID': '220958',\n",
       "    'comment': 'SMP Engineering Spotlight: Long Island City',\n",
       "    'assetSort': 7,\n",
       "    'digiSort': 80000,\n",
       "    'videoImage': None},\n",
       "   {'asset_ID': 7,\n",
       "    'assetName': 'Videos',\n",
       "    'basePart': 'CCR-3',\n",
       "    'fileName': 'SMP Engineering - Long Island City Facility Tour',\n",
       "    'fileURL': 'https://youtube.com/embed/ut5LYbUFCKo',\n",
       "    'comment_ID': '271219',\n",
       "    'comment': 'SMP Engineering - Long Island City Facility Tour',\n",
       "    'assetSort': 7,\n",
       "    'digiSort': 80350,\n",
       "    'videoImage': None},\n",
       "   {'asset_ID': 7,\n",
       "    'assetName': 'Videos',\n",
       "    'basePart': 'CCR-3',\n",
       "    'fileName': 'Standard Interactive Buyers Guide',\n",
       "    'fileURL': 'https://youtube.com/embed/mRzK11T9pxg',\n",
       "    'comment_ID': '251346',\n",
       "    'comment': 'Standard Interactive Buyers Guide',\n",
       "    'assetSort': 7,\n",
       "    'digiSort': 90030,\n",
       "    'videoImage': None},\n",
       "   {'asset_ID': 7,\n",
       "    'assetName': 'Videos',\n",
       "    'basePart': 'CCR-3',\n",
       "    'fileName': 'SMP Parts App Update (3.0.9)',\n",
       "    'fileURL': 'https://youtube.com/embed/KpEXmjcKbMc',\n",
       "    'comment_ID': '270593',\n",
       "    'comment': 'SMP Parts App Update (3.0.9)',\n",
       "    'assetSort': 7,\n",
       "    'digiSort': 90090,\n",
       "    'videoImage': None}],\n",
       "  'categories': [{'basePart': 'CCR-3',\n",
       "    'webLayout_ID': 39100,\n",
       "    'categoryName_en': 'Switch - Clutch Starter Safety',\n",
       "    'prodCategory_ASort': 26980},\n",
       "   {'basePart': 'CCR-3',\n",
       "    'webLayout_ID': 48150,\n",
       "    'categoryName_en': 'Switch - Cruise Control Release',\n",
       "    'prodCategory_ASort': 27050}],\n",
       "  'crossRef': None,\n",
       "  'completeRepair': {'serviceParts': [],\n",
       "   'serviceSpec': [{'serviceName': 'Fuel Filter Flush (Required)'},\n",
       "    {'serviceName': 'Oil Change (Required)'}]}}}"
      ]
     },
     "execution_count": 4,
     "metadata": {},
     "output_type": "execute_result"
    }
   ],
   "source": [
    "dict_ = response.json()\n",
    "\n",
    "dict_"
   ]
  },
  {
   "cell_type": "code",
   "execution_count": 5,
   "id": "e1b0ac82-463b-4e1b-8edf-ecce87704b24",
   "metadata": {},
   "outputs": [
    {
     "data": {
      "text/plain": [
       "False"
      ]
     },
     "execution_count": 5,
     "metadata": {},
     "output_type": "execute_result"
    }
   ],
   "source": [
    "not dict_"
   ]
  },
  {
   "cell_type": "code",
   "execution_count": 6,
   "id": "e5026a7a-886f-4e10-984a-b66876accecf",
   "metadata": {},
   "outputs": [
    {
     "name": "stdout",
     "output_type": "stream",
     "text": [
      "Kia Sephia (01-94)\n",
      "Kia Spectra (04-00)\n",
      "Kia Sportage (00-95)\n"
     ]
    }
   ],
   "source": [
    "list_vehicle = [dict_vehicle['buyersGuideDesc'].strip() for dict_vehicle in dict_['pp']['buyersGuides']]\n",
    "\n",
    "print('\\n'.join(list_vehicle))"
   ]
  },
  {
   "cell_type": "code",
   "execution_count": 7,
   "id": "e4705e11-d4d2-4ee1-ad91-92fff0ae489a",
   "metadata": {},
   "outputs": [
    {
     "data": {
      "text/plain": [
       "{'Connector Gender': 'Female',\n",
       " 'Terminal Quantity': '2',\n",
       " 'Terminal Gender': 'Male',\n",
       " 'Terminal Type': 'Blade',\n",
       " 'Warranty': '3 years/36,000 mile'}"
      ]
     },
     "execution_count": 7,
     "metadata": {},
     "output_type": "execute_result"
    }
   ],
   "source": [
    "dict_key, list_specification = {}, dict_['pp']['partSpecs']\n",
    "for specification in list_specification:\n",
    "    key = specification['attributeName_en'].strip()\n",
    "\n",
    "    if key in dict_key:\n",
    "        dict_key[key] += 1\n",
    "    else:\n",
    "        dict_key[key] = 1\n",
    "\n",
    "dict_specification, dict_count = {}, {}\n",
    "for specification in list_specification:\n",
    "    key, value = specification['attributeName_en'].strip(), specification['siteValue_en'].strip()\n",
    "\n",
    "    if dict_key[key] == 1:\n",
    "        dict_specification[key] = 'nan' if value == '' else value\n",
    "    else:\n",
    "        if key in dict_count:\n",
    "            dict_count[key] += 1\n",
    "        else:\n",
    "            dict_count[key] = 1\n",
    "        dict_specification[f'{key}_{dict_count[key]}'] = 'nan' if value == '' else value\n",
    "\n",
    "dict_specification"
   ]
  },
  {
   "cell_type": "code",
   "execution_count": 8,
   "id": "a9216656-57a2-4285-9ffd-c1a0777ad7dc",
   "metadata": {},
   "outputs": [
    {
     "data": {
      "text/plain": [
       "{'0': 'Switch - Clutch Starter Safety', '1': 'Switch - Cruise Control Release'}"
      ]
     },
     "execution_count": 8,
     "metadata": {},
     "output_type": "execute_result"
    }
   ],
   "source": [
    "dict_type, list_type = {}, dict_['pp']['categories']\n",
    "for i, type_ in enumerate(list_type):\n",
    "    dict_type[str(i)] = type_['categoryName_en'].strip()\n",
    "\n",
    "dict_type"
   ]
  },
  {
   "cell_type": "code",
   "execution_count": 9,
   "id": "e63d9a1d-17ff-4084-a2d6-e6ecaa091ffd",
   "metadata": {},
   "outputs": [],
   "source": [
    "import json"
   ]
  },
  {
   "cell_type": "code",
   "execution_count": 10,
   "id": "23f8eec2-e547-4ae4-ab9b-87156406c43f",
   "metadata": {},
   "outputs": [
    {
     "data": {
      "text/plain": [
       "{'home': 'https://www.standardbrand.com/en/ecatalog?part=Clutch+Starter+Safety+Switch&type=p',\n",
       " 'sku_count': 'https://www.standardbrand.com/en/ecatalog?part=Clutch+Starter+Safety+Switch&type=p',\n",
       " 'page_count': 'https://www.standardbrand.com/en/ecatalog?part=Clutch+Starter+Safety+Switch&type=p',\n",
       " 'page': 'https://www.standardbrand.com/en/ecatalog?part=Clutch+Starter+Safety+Switch&type=p',\n",
       " 'page_url': 'https://www.standardbrand.com/en/ecatalog?part=Clutch+Starter+Safety+Switch&type=p',\n",
       " 'no': 1,\n",
       " 'url': 'https://www.standardbrand.com/en/ecatalog?part=CCR3&type=p&search=s',\n",
       " 'brand': 'STI',\n",
       " 'part_number': 'CCR-3',\n",
       " 'part_url': 'https://ecatalog.smpcorp.com/V2/STD/api/part/partselect?part=CCR-3&func=PART',\n",
       " 'src_url': 'https://ecatalog.smpcorp.com/V2/STD/api/image/getallimages?partNum=CCR-3&brand=STI&zoomFactor_sm=75&zoomFactor_md=360&zoomFactor_bg=960',\n",
       " 'description_1': 'Clutch Starter Safety / Cruise Release Switch',\n",
       " 'description_2': 'Clutch Starter Safety / Cruise Release Switch',\n",
       " 'pop': 'F',\n",
       " 'per_car': 1,\n",
       " 'vehicle': 'Kia Sephia (01-94)\\nKia Spectra (04-00)\\nKia Sportage (00-95)',\n",
       " 'json_specification': '{\"Connector Gender\": \"Female\", \"Terminal Quantity\": \"2\", \"Terminal Gender\": \"Male\", \"Terminal Type\": \"Blade\", \"Warranty\": \"3 years/36,000 mile\"}',\n",
       " 'json_type': '{\"0\": \"Switch - Clutch Starter Safety\", \"1\": \"Switch - Cruise Control Release\"}'}"
      ]
     },
     "execution_count": 10,
     "metadata": {},
     "output_type": "execute_result"
    }
   ],
   "source": [
    "{'home': item['home'],\n",
    " 'sku_count': item['sku_count'],\n",
    " 'page_count': item['page_count'],\n",
    " 'page': item['page'],\n",
    " 'page_url': item['page_url'],\n",
    " 'no': item['no'],\n",
    " 'url': item['url'],\n",
    " 'brand': item['brand'],\n",
    " 'part_number': item['part_number'],\n",
    " 'part_url': item['part_url'],\n",
    " 'src_url': item['src_url'],\n",
    " 'description_1': item['description_1'],\n",
    " 'description_2': item['description_2'],\n",
    " 'pop': item['pop'],\n",
    " 'per_car': item['per_car'],\n",
    " 'vehicle': '\\n'.join(list_vehicle),\n",
    " 'json_specification': json.dumps(dict_specification),\n",
    " 'json_type': json.dumps(dict_type)}"
   ]
  },
  {
   "cell_type": "code",
   "execution_count": null,
   "id": "5086e901-a2fb-4e9b-894f-69e2370f66f6",
   "metadata": {},
   "outputs": [],
   "source": []
  }
 ],
 "metadata": {
  "kernelspec": {
   "display_name": "Python 3 (ipykernel)",
   "language": "python",
   "name": "python3"
  },
  "language_info": {
   "codemirror_mode": {
    "name": "ipython",
    "version": 3
   },
   "file_extension": ".py",
   "mimetype": "text/x-python",
   "name": "python",
   "nbconvert_exporter": "python",
   "pygments_lexer": "ipython3",
   "version": "3.12.7"
  }
 },
 "nbformat": 4,
 "nbformat_minor": 5
}
