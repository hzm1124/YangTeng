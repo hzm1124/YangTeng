{
 "cells": [
  {
   "cell_type": "code",
   "execution_count": 1,
   "id": "b39afb2a-56a5-4e97-beef-5f3edd0b1a45",
   "metadata": {
    "scrolled": true
   },
   "outputs": [
    {
     "data": {
      "text/plain": [
       "{'sku_count': 750,\n",
       " 'page_count': 8,\n",
       " 'page': 1,\n",
       " 'page_url': 'https://www.dormanproducts.com/gsearch.aspx?type=keyword&origin=keyword&parttype=Radiator%2520Fan%2520Assembly&start=0&num=100',\n",
       " 'no': 1,\n",
       " 'url': 'https://www.dormanproducts.com/p-76729-621-916.aspx?parttype=Radiator%2520Fan%2520Assembly&origin=keyword',\n",
       " 'picture': '',\n",
       " 'type_': 'Radiator Fan Assembly',\n",
       " 'json_src': '{\"0\": \"https://static.dormanproducts.com/images/product/medium/621-916-001.JPG\", \"1\": \"https://static.dormanproducts.com/images/product/medium/621-916-009.JPG\"}',\n",
       " 'brand': 'Dorman - OE Solutions',\n",
       " 'part_number': '621-916',\n",
       " 'description': 'Radiator Fan Assembly Without Controller',\n",
       " 'application_summary': 'Chevrolet Chevy 2012-96, Chevrolet Chevy Pickup 2003-99',\n",
       " 'warning': '',\n",
       " 'compatibility_home': 'https://www.dormanproducts.com/itemdetailapp.aspx?ProductID=76729&PartType=Radiator+Fan+Assembly&start=0&num=50',\n",
       " 'json_specification': '{\"Blade Material\": \"Plastic\", \"Connector Gender\": \"Male\", \"Connector Quantity\": \"1\", \"Fan Quantity\": \"1\", \"Motor Type\": \"Brushed\", \"Package Contents\": \"1 Radiator Fan Assembly\", \"Package Quantity\": \"1\", \"Packaging Type\": \"Box\", \"Shroud Color\": \"Black\", \"Shroud Included\": \"Yes\", \"Shroud Material\": \"Plastic\", \"Terminal Quantity\": \"2\"}',\n",
       " 'oem': '93803566;90410053;93230490',\n",
       " 'compatibility_page': 1,\n",
       " 'compatibility_url': 'https://www.dormanproducts.com/itemdetailapp.aspx?ProductID=76729&PartType=Radiator+Fan+Assembly&start=0&num=50'}"
      ]
     },
     "execution_count": 1,
     "metadata": {},
     "output_type": "execute_result"
    }
   ],
   "source": [
    "dict_ = {'sku_count': 750,\n",
    " 'page_count': 8,\n",
    " 'page': 1,\n",
    " 'page_url': 'https://www.dormanproducts.com/gsearch.aspx?type=keyword&origin=keyword&parttype=Radiator%2520Fan%2520Assembly&start=0&num=100',\n",
    " 'no': 1,\n",
    " 'url': 'https://www.dormanproducts.com/p-76729-621-916.aspx?parttype=Radiator%2520Fan%2520Assembly&origin=keyword',\n",
    " 'picture': '',\n",
    " 'type_': 'Radiator Fan Assembly',\n",
    " 'json_src': '{\"0\": \"https://static.dormanproducts.com/images/product/medium/621-916-001.JPG\", \"1\": \"https://static.dormanproducts.com/images/product/medium/621-916-009.JPG\"}',\n",
    " 'brand': 'Dorman - OE Solutions',\n",
    " 'part_number': '621-916',\n",
    " 'description': 'Radiator Fan Assembly Without Controller',\n",
    " 'application_summary': 'Chevrolet Chevy 2012-96, Chevrolet Chevy Pickup 2003-99',\n",
    " 'warning': '',\n",
    " 'compatibility_home': 'https://www.dormanproducts.com/itemdetailapp.aspx?ProductID=76729&PartType=Radiator+Fan+Assembly&start=0&num=50',\n",
    " 'json_specification': '{\"Blade Material\": \"Plastic\", \"Connector Gender\": \"Male\", \"Connector Quantity\": \"1\", \"Fan Quantity\": \"1\", \"Motor Type\": \"Brushed\", \"Package Contents\": \"1 Radiator Fan Assembly\", \"Package Quantity\": \"1\", \"Packaging Type\": \"Box\", \"Shroud Color\": \"Black\", \"Shroud Included\": \"Yes\", \"Shroud Material\": \"Plastic\", \"Terminal Quantity\": \"2\"}',\n",
    " 'oem': '93803566;90410053;93230490',\n",
    " 'compatibility_page': 1,\n",
    " 'compatibility_url': 'https://www.dormanproducts.com/itemdetailapp.aspx?ProductID=76729&PartType=Radiator+Fan+Assembly&start=0&num=50'}\n",
    "\n",
    "dict_"
   ]
  },
  {
   "cell_type": "code",
   "execution_count": 2,
   "id": "e0c2c2a3-9f16-4752-958e-60277496d5f2",
   "metadata": {},
   "outputs": [],
   "source": [
    "import requests\n",
    "\n",
    "import sys\n",
    "sys.path.append('../00.Tools')\n",
    "from configuration import generate_header, generate_proxy"
   ]
  },
  {
   "cell_type": "code",
   "execution_count": 3,
   "id": "a3834d47-66c7-4fe3-98ae-8ac12c5c1ee4",
   "metadata": {},
   "outputs": [
    {
     "data": {
      "text/plain": [
       "302"
      ]
     },
     "execution_count": 3,
     "metadata": {},
     "output_type": "execute_result"
    }
   ],
   "source": [
    "response = requests.get(dict_['compatibility_url'],\n",
    "                        headers=generate_header(**{'Accept': 'text/html',\n",
    "                                                   'Accept-Language': 'en',\n",
    "                                                   'Cache-Control': 'no-cache',\n",
    "                                                   'Pragma': 'no-cache',\n",
    "                                                   'Sec-Fetch-Dest': 'document',\n",
    "                                                   'Sec-Fetch-Mode': 'navigate',\n",
    "                                                   'Sec-Fetch-Site': 'same-origin',\n",
    "                                                   'Sec-Fetch-User': '?1',\n",
    "                                                   'Upgrade-Insecure-Requests': '1'}),\n",
    "                        proxies=generate_proxy(),\n",
    "                        timeout=(10, 15),\n",
    "                        allow_redirects=False)\n",
    "\n",
    "response.status_code"
   ]
  },
  {
   "cell_type": "code",
   "execution_count": 4,
   "id": "abc1ffc4-576f-4ed3-b39f-2deb56fc8dd8",
   "metadata": {},
   "outputs": [],
   "source": [
    "from bs4 import BeautifulSoup"
   ]
  },
  {
   "cell_type": "code",
   "execution_count": 5,
   "id": "1d78229b-169c-422c-b27d-95a857d5323e",
   "metadata": {
    "scrolled": true
   },
   "outputs": [
    {
     "name": "stdout",
     "output_type": "stream",
     "text": [
      "<html>\n",
      " <head>\n",
      "  <title>\n",
      "   302 Found\n",
      "  </title>\n",
      "  <script>\n",
      "   var __uzdbm_1 = \"4f6455a3-d1a5-4373-b15f-7556dd15eafe\";var __uzdbm_2 = \"OWM5MjZlNWEtYnUydi00NWJmLTgxMWItYzBkMmUyODU5OTY5JDExMC44Ny4yNTAuMzE=\";var __uzdbm_3 = \"7f6000bd012a65-9d00-46ab-a9e6-a08f18a0c37917495245940270-551f32a22092b19f10\";var __uzdbm_4 = \"false\";var __uzdbm_5 = \"uzmx\";var __uzdbm_6 = \"7f900012d7f503-2684-4241-a4bb-b3314313ec101-17495245940270-18d9db68dca3553010\";var __uzdbm_7 = \"dormanproducts.com\";\n",
      "  </script>\n",
      "  <script>\n",
      "   (function (w, d, e, u, c, g, a, b) {     w[\"SSJSConnectorObj\"] = w[\"SSJSConnectorObj\"] || {       ss_cid: c,       domain_info: \"auto\",     };     w[g] = function (i, j) {       w[\"SSJSConnectorObj\"][i] = j;     };     a = d.createElement(e);     a.async = true;     if (       navigator.userAgent.indexOf('MSIE') !== -1 ||       navigator.appVersion.indexOf('Trident/') > -1     ) {       u = u.replace(\"/advanced/\", \"/advanced/ie/\");     }     a.src = u;     b = d.getElementsByTagName(e)[0];     b.parentNode.insertBefore(a, b);   })(     window, document, \"script\", \"https://www.dormanproducts.com/18f5227b-e27b-445a-a53f-f845fbe69b40/stormcaster.js\", \"bu2x\", \"ssConf\"   );   ssConf(\"c1\", \"https://www.dormanproducts.com\");   ssConf(\"c3\", \"c99a4269-161c-4242-a3f0-28d44fa6ce24\");   ssConf(\"au\", \"dormanproducts.com\");   ssConf(\"cu\", \"validate.perfdrive.com, ssc\");\n",
      "  </script>\n",
      " </head>\n",
      " <body>\n",
      "  <center>\n",
      "   <h1>\n",
      "    302 Found\n",
      "   </h1>\n",
      "  </center>\n",
      "  <hr/>\n",
      "  <center>\n",
      "   rdwr\n",
      "  </center>\n",
      " </body>\n",
      "</html>\n",
      "\n"
     ]
    }
   ],
   "source": [
    "soup = BeautifulSoup(response.text, 'html5lib')\n",
    "\n",
    "with open('./4.compatibility.html', 'w', encoding='utf-8') as file:\n",
    "    file.write(str(soup))\n",
    "\n",
    "print(soup.prettify())"
   ]
  },
  {
   "cell_type": "code",
   "execution_count": 6,
   "id": "f4503248-397c-4381-89a9-cf06ac381a2d",
   "metadata": {},
   "outputs": [],
   "source": [
    "from parsel import Selector"
   ]
  },
  {
   "cell_type": "code",
   "execution_count": 7,
   "id": "ac696630-6717-4ece-a8a1-2b05464398b6",
   "metadata": {},
   "outputs": [
    {
     "data": {
      "text/plain": [
       "<Selector query=None data='<html><head><title>302 Found</title><...'>"
      ]
     },
     "execution_count": 7,
     "metadata": {},
     "output_type": "execute_result"
    }
   ],
   "source": [
    "selector = Selector(text=str(soup))\n",
    "\n",
    "selector"
   ]
  },
  {
   "cell_type": "code",
   "execution_count": 8,
   "id": "a23e11f4-332e-4e3a-b7ef-e3b10e887e6a",
   "metadata": {},
   "outputs": [
    {
     "data": {
      "text/plain": [
       "[]"
      ]
     },
     "execution_count": 8,
     "metadata": {},
     "output_type": "execute_result"
    }
   ],
   "source": [
    "list_pager = selector.xpath('//div[@class=\"detail-app-pager\"]')\n",
    "\n",
    "list_pager"
   ]
  },
  {
   "cell_type": "code",
   "execution_count": 9,
   "id": "c37bdc32-a8fe-44c5-8d88-7016016d3c06",
   "metadata": {},
   "outputs": [
    {
     "data": {
      "text/plain": [
       "True"
      ]
     },
     "execution_count": 9,
     "metadata": {},
     "output_type": "execute_result"
    }
   ],
   "source": [
    "not list_pager"
   ]
  },
  {
   "cell_type": "code",
   "execution_count": 10,
   "id": "3a70a67c-faa4-43b6-961f-ad61513de79a",
   "metadata": {},
   "outputs": [
    {
     "data": {
      "text/plain": [
       "[]"
      ]
     },
     "execution_count": 10,
     "metadata": {},
     "output_type": "execute_result"
    }
   ],
   "source": [
    "next_ = selector.xpath('//a[@id=\"pagingBottom_nextButton\"]')\n",
    "\n",
    "next_"
   ]
  },
  {
   "cell_type": "code",
   "execution_count": 11,
   "id": "54853111-1958-409a-ab03-0f777ebe4c95",
   "metadata": {},
   "outputs": [
    {
     "data": {
      "text/plain": [
       "[]"
      ]
     },
     "execution_count": 11,
     "metadata": {},
     "output_type": "execute_result"
    }
   ],
   "source": [
    "dict_['compatibility_page'] == 1 and next_ and next_[0].xpath('./@href').get().strip() == 'Search/#'"
   ]
  },
  {
   "cell_type": "code",
   "execution_count": 12,
   "id": "c7da9a24-efb7-43ca-ac1e-04263222c863",
   "metadata": {
    "scrolled": true
   },
   "outputs": [
    {
     "data": {
      "text/plain": [
       "([], [])"
      ]
     },
     "execution_count": 12,
     "metadata": {},
     "output_type": "execute_result"
    }
   ],
   "source": [
    "list_head, list_row = [text.strip() for text in selector.xpath('//th[@scope=\"col\"]/text()').getall()], selector.xpath('//tr[@class=\"detail-app-row\"]')\n",
    "\n",
    "list_head, list_row"
   ]
  },
  {
   "cell_type": "code",
   "execution_count": 13,
   "id": "121afa7f-b13d-4874-afc0-69ee9e1dbf23",
   "metadata": {},
   "outputs": [
    {
     "data": {
      "text/plain": [
       "True"
      ]
     },
     "execution_count": 13,
     "metadata": {},
     "output_type": "execute_result"
    }
   ],
   "source": [
    "not list_head or not list_row"
   ]
  },
  {
   "cell_type": "code",
   "execution_count": 14,
   "id": "dc6b9491-7691-4d39-b67f-7de4d08c10b0",
   "metadata": {},
   "outputs": [
    {
     "data": {
      "text/plain": [
       "{'compatibility_no': 1}"
      ]
     },
     "execution_count": 14,
     "metadata": {},
     "output_type": "execute_result"
    }
   ],
   "source": [
    "dict_compatibility = {'compatibility_no': 1}\n",
    "for j, head in enumerate(list_head):\n",
    "    dict_compatibility[head] = list_row[0].xpath(f'./td[{j + 1}]/text()').get().strip()\n",
    "\n",
    "dict_compatibility"
   ]
  },
  {
   "cell_type": "code",
   "execution_count": 15,
   "id": "dbe43340-496b-4be2-b00e-62e5f7cb2c13",
   "metadata": {
    "scrolled": true
   },
   "outputs": [
    {
     "data": {
      "text/plain": [
       "{'sku_count': 750,\n",
       " 'page_count': 8,\n",
       " 'page': 1,\n",
       " 'page_url': 'https://www.dormanproducts.com/gsearch.aspx?type=keyword&origin=keyword&parttype=Radiator%2520Fan%2520Assembly&start=0&num=100',\n",
       " 'no': 1,\n",
       " 'url': 'https://www.dormanproducts.com/p-76729-621-916.aspx?parttype=Radiator%2520Fan%2520Assembly&origin=keyword',\n",
       " 'picture': '',\n",
       " 'type_': 'Radiator Fan Assembly',\n",
       " 'json_src': '{\"0\": \"https://static.dormanproducts.com/images/product/medium/621-916-001.JPG\", \"1\": \"https://static.dormanproducts.com/images/product/medium/621-916-009.JPG\"}',\n",
       " 'brand': 'Dorman - OE Solutions',\n",
       " 'part_number': '621-916',\n",
       " 'description': 'Radiator Fan Assembly Without Controller',\n",
       " 'application_summary': 'Chevrolet Chevy 2012-96, Chevrolet Chevy Pickup 2003-99',\n",
       " 'warning': '',\n",
       " 'compatibility_home': 'https://www.dormanproducts.com/itemdetailapp.aspx?ProductID=76729&PartType=Radiator+Fan+Assembly&start=0&num=50',\n",
       " 'json_specification': '{\"Blade Material\": \"Plastic\", \"Connector Gender\": \"Male\", \"Connector Quantity\": \"1\", \"Fan Quantity\": \"1\", \"Motor Type\": \"Brushed\", \"Package Contents\": \"1 Radiator Fan Assembly\", \"Package Quantity\": \"1\", \"Packaging Type\": \"Box\", \"Shroud Color\": \"Black\", \"Shroud Included\": \"Yes\", \"Shroud Material\": \"Plastic\", \"Terminal Quantity\": \"2\"}',\n",
       " 'oem': '93803566;90410053;93230490',\n",
       " 'compatibility_page': 1,\n",
       " 'compatibility_url': 'https://www.dormanproducts.com/itemdetailapp.aspx?ProductID=76729&PartType=Radiator+Fan+Assembly&start=0&num=50',\n",
       " 'compatibility_no': 1}"
      ]
     },
     "execution_count": 15,
     "metadata": {},
     "output_type": "execute_result"
    }
   ],
   "source": [
    "{**dict_, **dict_compatibility}"
   ]
  },
  {
   "cell_type": "code",
   "execution_count": 16,
   "id": "56dc1de1-3cdc-430d-b093-c951c7311820",
   "metadata": {},
   "outputs": [
    {
     "data": {
      "text/plain": [
       "[]"
      ]
     },
     "execution_count": 16,
     "metadata": {},
     "output_type": "execute_result"
    }
   ],
   "source": [
    "next_"
   ]
  },
  {
   "cell_type": "code",
   "execution_count": 17,
   "id": "c934c9ec-f28a-4dca-bf97-1e705927f2ca",
   "metadata": {},
   "outputs": [],
   "source": [
    "from urllib.parse import urlsplit"
   ]
  },
  {
   "cell_type": "code",
   "execution_count": 18,
   "id": "77c4e58c-b459-4b79-b764-3f67b4a5e069",
   "metadata": {},
   "outputs": [
    {
     "data": {
      "text/plain": [
       "SplitResult(scheme='https', netloc='www.dormanproducts.com', path='/itemdetailapp.aspx', query='ProductID=76729&PartType=Radiator+Fan+Assembly&start=0&num=50', fragment='')"
      ]
     },
     "execution_count": 18,
     "metadata": {},
     "output_type": "execute_result"
    }
   ],
   "source": [
    "tuple_ = urlsplit(dict_['compatibility_url'])\n",
    "\n",
    "tuple_"
   ]
  },
  {
   "cell_type": "code",
   "execution_count": 19,
   "id": "9351a940-c086-4cc9-8a30-fd44de63e6f5",
   "metadata": {},
   "outputs": [],
   "source": [
    "from urllib.parse import parse_qs"
   ]
  },
  {
   "cell_type": "code",
   "execution_count": 20,
   "id": "9686b6db-8292-4e8a-8081-999cb6a23d86",
   "metadata": {},
   "outputs": [
    {
     "data": {
      "text/plain": [
       "{'ProductID': '76729',\n",
       " 'PartType': 'Radiator Fan Assembly',\n",
       " 'start': '0',\n",
       " 'num': '50'}"
      ]
     },
     "execution_count": 20,
     "metadata": {},
     "output_type": "execute_result"
    }
   ],
   "source": [
    "dict_query = {key: value[0] for key, value in parse_qs(tuple_.query).items()}\n",
    "\n",
    "dict_query"
   ]
  },
  {
   "cell_type": "code",
   "execution_count": 21,
   "id": "e55ac91e-57e2-472f-a126-8fd3fe686610",
   "metadata": {},
   "outputs": [
    {
     "data": {
      "text/plain": [
       "{'ProductID': '76729',\n",
       " 'PartType': 'Radiator Fan Assembly',\n",
       " 'start': 50,\n",
       " 'num': '50'}"
      ]
     },
     "execution_count": 21,
     "metadata": {},
     "output_type": "execute_result"
    }
   ],
   "source": [
    "dict_query['start'] = dict_['compatibility_page'] * 50\n",
    "\n",
    "dict_query"
   ]
  },
  {
   "cell_type": "code",
   "execution_count": 22,
   "id": "a03e5dbe-aa4a-4a94-9673-0ee3709c4033",
   "metadata": {},
   "outputs": [],
   "source": [
    "from urllib.parse import urlunsplit\n",
    "from urllib.parse import urlencode"
   ]
  },
  {
   "cell_type": "code",
   "execution_count": 23,
   "id": "0b62a007-5455-40ca-abeb-92346c5c231e",
   "metadata": {},
   "outputs": [
    {
     "data": {
      "text/plain": [
       "'https://www.dormanproducts.com/itemdetailapp.aspx?ProductID=76729&PartType=Radiator+Fan+Assembly&start=50&num=50'"
      ]
     },
     "execution_count": 23,
     "metadata": {},
     "output_type": "execute_result"
    }
   ],
   "source": [
    "compatibility_url = urlunsplit((tuple_.scheme, tuple_.netloc, tuple_.path, urlencode(dict_query), tuple_.fragment))\n",
    "\n",
    "compatibility_url"
   ]
  },
  {
   "cell_type": "code",
   "execution_count": 24,
   "id": "929d080a-46e1-4651-827d-3589f89ee9b4",
   "metadata": {},
   "outputs": [
    {
     "data": {
      "text/plain": [
       "{'sku_count': 750,\n",
       " 'page_count': 8,\n",
       " 'page': 1,\n",
       " 'page_url': 'https://www.dormanproducts.com/gsearch.aspx?type=keyword&origin=keyword&parttype=Radiator%2520Fan%2520Assembly&start=0&num=100',\n",
       " 'no': 1,\n",
       " 'url': 'https://www.dormanproducts.com/p-76729-621-916.aspx?parttype=Radiator%2520Fan%2520Assembly&origin=keyword',\n",
       " 'picture': '',\n",
       " 'type_': 'Radiator Fan Assembly',\n",
       " 'json_src': '{\"0\": \"https://static.dormanproducts.com/images/product/medium/621-916-001.JPG\", \"1\": \"https://static.dormanproducts.com/images/product/medium/621-916-009.JPG\"}',\n",
       " 'brand': 'Dorman - OE Solutions',\n",
       " 'part_number': '621-916',\n",
       " 'description': 'Radiator Fan Assembly Without Controller',\n",
       " 'application_summary': 'Chevrolet Chevy 2012-96, Chevrolet Chevy Pickup 2003-99',\n",
       " 'warning': '',\n",
       " 'compatibility_home': 'https://www.dormanproducts.com/itemdetailapp.aspx?ProductID=76729&PartType=Radiator+Fan+Assembly&start=0&num=50',\n",
       " 'json_specification': '{\"Blade Material\": \"Plastic\", \"Connector Gender\": \"Male\", \"Connector Quantity\": \"1\", \"Fan Quantity\": \"1\", \"Motor Type\": \"Brushed\", \"Package Contents\": \"1 Radiator Fan Assembly\", \"Package Quantity\": \"1\", \"Packaging Type\": \"Box\", \"Shroud Color\": \"Black\", \"Shroud Included\": \"Yes\", \"Shroud Material\": \"Plastic\", \"Terminal Quantity\": \"2\"}',\n",
       " 'oem': '93803566;90410053;93230490',\n",
       " 'compatibility_page': 2,\n",
       " 'compatibility_url': 'https://www.dormanproducts.com/itemdetailapp.aspx?ProductID=76729&PartType=Radiator+Fan+Assembly&start=50&num=50'}"
      ]
     },
     "execution_count": 24,
     "metadata": {},
     "output_type": "execute_result"
    }
   ],
   "source": [
    "{**dict_, 'compatibility_page': dict_['compatibility_page'] + 1, 'compatibility_url': compatibility_url}"
   ]
  },
  {
   "cell_type": "code",
   "execution_count": null,
   "id": "4ba3bb62-d8fb-4a68-ae11-48567f4fe3e9",
   "metadata": {},
   "outputs": [],
   "source": []
  }
 ],
 "metadata": {
  "kernelspec": {
   "display_name": "Python 3 (ipykernel)",
   "language": "python",
   "name": "python3"
  },
  "language_info": {
   "codemirror_mode": {
    "name": "ipython",
    "version": 3
   },
   "file_extension": ".py",
   "mimetype": "text/x-python",
   "name": "python",
   "nbconvert_exporter": "python",
   "pygments_lexer": "ipython3",
   "version": "3.12.7"
  }
 },
 "nbformat": 4,
 "nbformat_minor": 5
}
