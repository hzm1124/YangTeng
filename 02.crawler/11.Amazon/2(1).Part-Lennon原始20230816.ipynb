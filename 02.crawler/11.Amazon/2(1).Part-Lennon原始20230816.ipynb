{
 "cells": [
  {
   "cell_type": "code",
   "execution_count": 1,
   "id": "071334d2",
   "metadata": {},
   "outputs": [],
   "source": [
    "list_user_agent = ['Mozilla/5.0 (Macintosh; Intel Mac OS X 10_15_7) AppleWebKit/537.36 (KHTML, like Gecko) Chrome/114.0.5735.90 Safari/537.36',\n",
    "                   'Mozilla/5.0 (Macintosh; Intel Mac OS X 10_15_7) AppleWebKit/537.36 (KHTML, like Gecko) Chrome/114.0.5735.16 Safari/537.36',\n",
    "                   'Mozilla/5.0 (Macintosh; Intel Mac OS X 10_15_7) AppleWebKit/537.36 (KHTML, like Gecko) Chrome/113.0.5672.63 Safari/537.36',\n",
    "                   'Mozilla/5.0 (Macintosh; Intel Mac OS X 10_15_7) AppleWebKit/537.36 (KHTML, like Gecko) Chrome/113.0.5672.24 Safari/537.36',\n",
    "                   'Mozilla/5.0 (Macintosh; Intel Mac OS X 10_15_7) AppleWebKit/537.36 (KHTML, like Gecko) Chrome/112.0.5615.49 Safari/537.36',\n",
    "                   'Mozilla/5.0 (Macintosh; Intel Mac OS X 10_15_7) AppleWebKit/537.36 (KHTML, like Gecko) Chrome/112.0.5615.28 Safari/537.36',\n",
    "                   'Mozilla/5.0 (Macintosh; Intel Mac OS X 10_15_7) AppleWebKit/537.36 (KHTML, like Gecko) Chrome/111.0.5563.64 Safari/537.36',\n",
    "                   'Mozilla/5.0 (Macintosh; Intel Mac OS X 10_15_7) AppleWebKit/537.36 (KHTML, like Gecko) Chrome/111.0.5563.41 Safari/537.36',\n",
    "                   'Mozilla/5.0 (Macintosh; Intel Mac OS X 10_15_7) AppleWebKit/537.36 (KHTML, like Gecko) Chrome/111.0.5563.19 Safari/537.36',\n",
    "                   'Mozilla/5.0 (Macintosh; Intel Mac OS X 10_15_7) AppleWebKit/537.36 (KHTML, like Gecko) Chrome/110.0.5481.77 Safari/537.36',\n",
    "                   'Mozilla/5.0 (Macintosh; Intel Mac OS X 10_15_7) AppleWebKit/537.36 (KHTML, like Gecko) Chrome/110.0.5481.30 Safari/537.36',\n",
    "                   'Mozilla/5.0 (Macintosh; Intel Mac OS X 10_15_7) AppleWebKit/537.36 (KHTML, like Gecko) Chrome/109.0.5414.74 Safari/537.36',\n",
    "                   'Mozilla/5.0 (Macintosh; Intel Mac OS X 10_15_7) AppleWebKit/537.36 (KHTML, like Gecko) Chrome/109.0.5414.25 Safari/537.36',\n",
    "                   'Mozilla/5.0 (Macintosh; Intel Mac OS X 10_15_7) AppleWebKit/537.36 (KHTML, like Gecko) Chrome/108.0.5359.71 Safari/537.36',\n",
    "                   'Mozilla/5.0 (Macintosh; Intel Mac OS X 10_15_7) AppleWebKit/537.36 (KHTML, like Gecko) Chrome/108.0.5359.22 Safari/537.36',\n",
    "                   'Mozilla/5.0 (Macintosh; Intel Mac OS X 10_15_7) AppleWebKit/537.36 (KHTML, like Gecko) Chrome/107.0.5304.62 Safari/537.36',\n",
    "                   'Mozilla/5.0 (Macintosh; Intel Mac OS X 10_15_7) AppleWebKit/537.36 (KHTML, like Gecko) Chrome/107.0.5304.18 Safari/537.36',\n",
    "                   'Mozilla/5.0 (Macintosh; Intel Mac OS X 10_15_7) AppleWebKit/537.36 (KHTML, like Gecko) Chrome/106.0.5249.61 Safari/537.36',\n",
    "                   'Mozilla/5.0 (Macintosh; Intel Mac OS X 10_15_7) AppleWebKit/537.36 (KHTML, like Gecko) Chrome/106.0.5249.21 Safari/537.36',\n",
    "                   'Mozilla/5.0 (Macintosh; Intel Mac OS X 10_15_7) AppleWebKit/537.36 (KHTML, like Gecko) Chrome/105.0.5195.52 Safari/537.36',\n",
    "                   'Mozilla/5.0 (Macintosh; Intel Mac OS X 10_15_7) AppleWebKit/537.36 (KHTML, like Gecko) Chrome/105.0.5195.19 Safari/537.36',\n",
    "                   'Mozilla/5.0 (Macintosh; Intel Mac OS X 10_15_7) AppleWebKit/537.36 (KHTML, like Gecko) Chrome/104.0.5112.79 Safari/537.36',\n",
    "                   'Mozilla/5.0 (Macintosh; Intel Mac OS X 10_15_7) AppleWebKit/537.36 (KHTML, like Gecko) Chrome/104.0.5112.29 Safari/537.36',\n",
    "                   'Mozilla/5.0 (Macintosh; Intel Mac OS X 10_15_7) AppleWebKit/537.36 (KHTML, like Gecko) Chrome/104.0.5112.20 Safari/537.36',\n",
    "                   'Mozilla/5.0 (Macintosh; Intel Mac OS X 10_15_7) AppleWebKit/537.36 (KHTML, like Gecko) Chrome/103.0.5060.53 Safari/537.36',\n",
    "                   'Mozilla/5.0 (Macintosh; Intel Mac OS X 10_15_7) AppleWebKit/537.36 (KHTML, like Gecko) Chrome/103.0.5060.24 Safari/537.36',\n",
    "                   'Mozilla/5.0 (Macintosh; Intel Mac OS X 10_15_7) AppleWebKit/537.36 (KHTML, like Gecko) Chrome/103.0.5060.134 Safari/537.36',\n",
    "                   'Mozilla/5.0 (Macintosh; Intel Mac OS X 10_15_7) AppleWebKit/537.36 (KHTML, like Gecko) Chrome/102.0.5005.61 Safari/537.36',\n",
    "                   'Mozilla/5.0 (Macintosh; Intel Mac OS X 10_15_7) AppleWebKit/537.36 (KHTML, like Gecko) Chrome/102.0.5005.27 Safari/537.36',\n",
    "                   'Mozilla/5.0 (Macintosh; Intel Mac OS X 10_15_7) AppleWebKit/537.36 (KHTML, like Gecko) Chrome/101.0.4951.41 Safari/537.36',\n",
    "                   'Mozilla/5.0 (Macintosh; Intel Mac OS X 10_15_7) AppleWebKit/537.36 (KHTML, like Gecko) Chrome/101.0.4951.15 Safari/537.36',\n",
    "                   'Mozilla/5.0 (Macintosh; Intel Mac OS X 10_15_7) AppleWebKit/537.36 (KHTML, like Gecko) Chrome/100.0.4896.60 Safari/537.36',\n",
    "                   'Mozilla/5.0 (Macintosh; Intel Mac OS X 10_15_7) AppleWebKit/537.36 (KHTML, like Gecko) Chrome/100.0.4896.20 Safari/537.36']"
   ]
  },
  {
   "cell_type": "code",
   "execution_count": 2,
   "id": "cdf44e73",
   "metadata": {},
   "outputs": [],
   "source": [
    "import pandas as pd"
   ]
  },
  {
   "cell_type": "code",
   "execution_count": 3,
   "id": "97785482",
   "metadata": {
    "scrolled": true
   },
   "outputs": [
    {
     "name": "stdout",
     "output_type": "stream",
     "text": [
      "总数量：5\n"
     ]
    },
    {
     "data": {
      "text/plain": [
       "['https://www.amazon.com/MITZONE-Gear-Box-Curved-Linkage/dp/B0B6YW4LBY/ref=sr_1_187?m=A38SYBCXMXFCZS&marketplaceID=ATVPDKIKX0DER&qid=1692087589&refresh=1&s=merchant-items&sr=1-187',\n",
       " 'https://www.amazon.com/MITZONE-Ignition-Compatible-2002-2007-Infiniti/dp/B09TNPG55B/ref=sr_1_189?m=A38SYBCXMXFCZS&marketplaceID=ATVPDKIKX0DER&qid=1692087589&refresh=1&s=merchant-items&sr=1-189',\n",
       " 'https://www.amazon.com/MITZONE-Center-compatible-2007-2013-Corolla/dp/B0B8CNH12V/ref=sr_1_190?m=A38SYBCXMXFCZS&marketplaceID=ATVPDKIKX0DER&qid=1692087589&refresh=1&s=merchant-items&sr=1-190',\n",
       " 'https://www.amazon.com/MITZONE-Compatible-2007-2010-Journey-Chrysler/dp/B09SG7W2V8/ref=sr_1_191?m=A38SYBCXMXFCZS&marketplaceID=ATVPDKIKX0DER&qid=1692087589&refresh=1&s=merchant-items&sr=1-191',\n",
       " 'https://www.amazon.com/MITZONE-Transmission-Shifter-Compatible-Wrangler/dp/B0C73XC1TL/ref=sr_1_192?m=A38SYBCXMXFCZS&marketplaceID=ATVPDKIKX0DER&qid=1692087589&refresh=1&s=merchant-items&sr=1-192']"
      ]
     },
     "execution_count": 3,
     "metadata": {},
     "output_type": "execute_result"
    }
   ],
   "source": [
    "df_menu = pd.read_excel('./menu.xlsx', header=0)\n",
    "list_url = df_menu['Url'].to_list()\n",
    "\n",
    "print('总数量：' + str(len(list_url)))\n",
    "list_url"
   ]
  },
  {
   "cell_type": "code",
   "execution_count": 4,
   "id": "82aa60c7",
   "metadata": {},
   "outputs": [
    {
     "data": {
      "text/html": [
       "<div>\n",
       "<style scoped>\n",
       "    .dataframe tbody tr th:only-of-type {\n",
       "        vertical-align: middle;\n",
       "    }\n",
       "\n",
       "    .dataframe tbody tr th {\n",
       "        vertical-align: top;\n",
       "    }\n",
       "\n",
       "    .dataframe thead th {\n",
       "        text-align: right;\n",
       "    }\n",
       "</style>\n",
       "<table border=\"1\" class=\"dataframe\">\n",
       "  <thead>\n",
       "    <tr style=\"text-align: right;\">\n",
       "      <th></th>\n",
       "      <th>Url</th>\n",
       "      <th>status</th>\n",
       "    </tr>\n",
       "  </thead>\n",
       "  <tbody>\n",
       "  </tbody>\n",
       "</table>\n",
       "</div>"
      ],
      "text/plain": [
       "Empty DataFrame\n",
       "Columns: [Url, status]\n",
       "Index: []"
      ]
     },
     "execution_count": 4,
     "metadata": {},
     "output_type": "execute_result"
    }
   ],
   "source": [
    "df = pd.DataFrame(columns=['Url',\n",
    "                           'status'])\n",
    "\n",
    "df"
   ]
  },
  {
   "cell_type": "code",
   "execution_count": 5,
   "id": "fed130da",
   "metadata": {},
   "outputs": [],
   "source": [
    "from selenium.webdriver import ChromeOptions\n",
    "import random"
   ]
  },
  {
   "cell_type": "code",
   "execution_count": 6,
   "id": "aedb01fc",
   "metadata": {},
   "outputs": [],
   "source": [
    "option = ChromeOptions()\n",
    "option.add_experimental_option('useAutomationExtension', False)\n",
    "# option.add_argument('blink-settings=imagesEnabled=false')\n",
    "option.add_argument('--disable-blink-features=AutomationControlled')\n",
    "option.add_argument('--disable-dev-shm-usage')\n",
    "option.add_argument('--disable-gpu')\n",
    "option.add_experimental_option('excludeSwitches', ['enable-automation'])\n",
    "# option.add_argument('--headless')\n",
    "option.add_argument('--no-sandbox')\n",
    "# option.add_argument('--proxy-server=http://u431.kdltps.com:15818')\n",
    "option.add_argument('user-agent=' + random.choice(list_user_agent))\n",
    "option.page_load_strategy = 'normal'"
   ]
  },
  {
   "cell_type": "code",
   "execution_count": 7,
   "id": "da33bd2e",
   "metadata": {},
   "outputs": [],
   "source": [
    "from chaojiying import Chaojiying_Client\n",
    "import requests"
   ]
  },
  {
   "cell_type": "code",
   "execution_count": 8,
   "id": "4ac5eb48",
   "metadata": {},
   "outputs": [],
   "source": [
    "chaojiying = Chaojiying_Client('1210882202', 'iPadmini6!', '945934')"
   ]
  },
  {
   "cell_type": "code",
   "execution_count": 9,
   "id": "4951c85b",
   "metadata": {},
   "outputs": [],
   "source": [
    "from selenium.webdriver import Chrome\n",
    "from selenium.webdriver.chrome.service import Service"
   ]
  },
  {
   "cell_type": "code",
   "execution_count": 10,
   "id": "9946e842",
   "metadata": {},
   "outputs": [],
   "source": [
    "browser = Chrome(service=Service('../../../chromedriver'), options=option)\n",
    "\n",
    "browser.maximize_window()"
   ]
  },
  {
   "cell_type": "code",
   "execution_count": 11,
   "id": "7c7ceb25",
   "metadata": {},
   "outputs": [],
   "source": [
    "import time"
   ]
  },
  {
   "cell_type": "code",
   "execution_count": 12,
   "id": "e093a036",
   "metadata": {},
   "outputs": [],
   "source": [
    "i = 0\n",
    "\n",
    "if '?' in list_url[i]:\n",
    "    browser.get(list_url[i] + '&language=en_US')\n",
    "else:\n",
    "    browser.get(list_url[i] + '?language=en_US')\n",
    "    \n",
    "time.sleep(5)"
   ]
  },
  {
   "cell_type": "code",
   "execution_count": 13,
   "id": "8a46a463",
   "metadata": {},
   "outputs": [],
   "source": [
    "from selenium.webdriver.support import expected_conditions as EC\n",
    "from selenium.webdriver.support.wait import WebDriverWait\n",
    "from selenium.webdriver.common.by import By"
   ]
  },
  {
   "cell_type": "code",
   "execution_count": 14,
   "id": "19a714d2",
   "metadata": {},
   "outputs": [],
   "source": [
    "wait = WebDriverWait(browser, 60)\n",
    "while len(browser.find_elements(by=By.XPATH, value='//form[@action=\"/errors/validateCaptcha\"]')) != 0:\n",
    "    wait.until(EC.presence_of_element_located((By.XPATH, '//div[@class=\"a-row a-text-center\"]/img')))\n",
    "    img = requests.get(browser.find_element(by=By.XPATH, value='//div[@class=\"a-row a-text-center\"]/img').get_attribute('src')).content\n",
    "    pic_str = chaojiying.PostPic(img, 3006)['pic_str']\n",
    "    wait.until(EC.presence_of_element_located((By.XPATH, '//input[@id=\"captchacharacters\"]')))\n",
    "    browser.find_element(by=By.XPATH, value='//input[@id=\"captchacharacters\"]').clear()\n",
    "    time.sleep(3)\n",
    "    browser.find_element(by=By.XPATH, value='//input[@id=\"captchacharacters\"]').send_keys(pic_str)\n",
    "    time.sleep(5)\n",
    "    browser.find_element(by=By.XPATH, value='//button[@type=\"submit\"]').click()\n",
    "    time.sleep(15)"
   ]
  },
  {
   "cell_type": "code",
   "execution_count": 15,
   "id": "57b19e6a",
   "metadata": {},
   "outputs": [],
   "source": [
    "if browser.find_element(by=By.XPATH, value='//html').get_attribute('lang') == 'en-us':\n",
    "    time.sleep(3)\n",
    "else:\n",
    "    print(browser.find_element(by=By.XPATH, value='//html').get_attribute('lang'))"
   ]
  },
  {
   "cell_type": "code",
   "execution_count": 16,
   "id": "5d8f0ab7",
   "metadata": {},
   "outputs": [
    {
     "data": {
      "text/html": [
       "<div>\n",
       "<style scoped>\n",
       "    .dataframe tbody tr th:only-of-type {\n",
       "        vertical-align: middle;\n",
       "    }\n",
       "\n",
       "    .dataframe tbody tr th {\n",
       "        vertical-align: top;\n",
       "    }\n",
       "\n",
       "    .dataframe thead th {\n",
       "        text-align: right;\n",
       "    }\n",
       "</style>\n",
       "<table border=\"1\" class=\"dataframe\">\n",
       "  <thead>\n",
       "    <tr style=\"text-align: right;\">\n",
       "      <th></th>\n",
       "      <th>Url</th>\n",
       "      <th>status</th>\n",
       "    </tr>\n",
       "  </thead>\n",
       "  <tbody>\n",
       "    <tr>\n",
       "      <th>0</th>\n",
       "      <td>https://www.amazon.com/MITZONE-Gear-Box-Curved...</td>\n",
       "      <td>ok</td>\n",
       "    </tr>\n",
       "  </tbody>\n",
       "</table>\n",
       "</div>"
      ],
      "text/plain": [
       "                                                 Url status\n",
       "0  https://www.amazon.com/MITZONE-Gear-Box-Curved...     ok"
      ]
     },
     "execution_count": 16,
     "metadata": {},
     "output_type": "execute_result"
    }
   ],
   "source": [
    "df_temp = pd.DataFrame([{'Url': list_url[i],\n",
    "                         'status': 'ok'}])\n",
    "\n",
    "df_temp"
   ]
  },
  {
   "cell_type": "code",
   "execution_count": 17,
   "id": "c5b20c6c",
   "metadata": {},
   "outputs": [
    {
     "data": {
      "text/html": [
       "<div>\n",
       "<style scoped>\n",
       "    .dataframe tbody tr th:only-of-type {\n",
       "        vertical-align: middle;\n",
       "    }\n",
       "\n",
       "    .dataframe tbody tr th {\n",
       "        vertical-align: top;\n",
       "    }\n",
       "\n",
       "    .dataframe thead th {\n",
       "        text-align: right;\n",
       "    }\n",
       "</style>\n",
       "<table border=\"1\" class=\"dataframe\">\n",
       "  <thead>\n",
       "    <tr style=\"text-align: right;\">\n",
       "      <th></th>\n",
       "      <th>Url</th>\n",
       "      <th>status</th>\n",
       "      <th>Title</th>\n",
       "    </tr>\n",
       "  </thead>\n",
       "  <tbody>\n",
       "    <tr>\n",
       "      <th>0</th>\n",
       "      <td>https://www.amazon.com/MITZONE-Gear-Box-Curved...</td>\n",
       "      <td>ok</td>\n",
       "      <td>MITZONE Gear Box with Curved Linkage with A - ...</td>\n",
       "    </tr>\n",
       "  </tbody>\n",
       "</table>\n",
       "</div>"
      ],
      "text/plain": [
       "                                                 Url status  \\\n",
       "0  https://www.amazon.com/MITZONE-Gear-Box-Curved...     ok   \n",
       "\n",
       "                                               Title  \n",
       "0  MITZONE Gear Box with Curved Linkage with A - ...  "
      ]
     },
     "execution_count": 17,
     "metadata": {},
     "output_type": "execute_result"
    }
   ],
   "source": [
    "wait.until(EC.presence_of_element_located((By.XPATH, '//span[@id=\"productTitle\"]')))\n",
    "df_temp['Title'] = browser.find_element(by=By.XPATH, value='//span[@id=\"productTitle\"]').text\n",
    "\n",
    "df_temp"
   ]
  },
  {
   "cell_type": "code",
   "execution_count": 18,
   "id": "cf65b1b6",
   "metadata": {},
   "outputs": [
    {
     "data": {
      "text/html": [
       "<div>\n",
       "<style scoped>\n",
       "    .dataframe tbody tr th:only-of-type {\n",
       "        vertical-align: middle;\n",
       "    }\n",
       "\n",
       "    .dataframe tbody tr th {\n",
       "        vertical-align: top;\n",
       "    }\n",
       "\n",
       "    .dataframe thead th {\n",
       "        text-align: right;\n",
       "    }\n",
       "</style>\n",
       "<table border=\"1\" class=\"dataframe\">\n",
       "  <thead>\n",
       "    <tr style=\"text-align: right;\">\n",
       "      <th></th>\n",
       "      <th>Url</th>\n",
       "      <th>status</th>\n",
       "      <th>Title</th>\n",
       "      <th>Info</th>\n",
       "    </tr>\n",
       "  </thead>\n",
       "  <tbody>\n",
       "    <tr>\n",
       "      <th>0</th>\n",
       "      <td>https://www.amazon.com/MITZONE-Gear-Box-Curved...</td>\n",
       "      <td>ok</td>\n",
       "      <td>MITZONE Gear Box with Curved Linkage with A - ...</td>\n",
       "      <td>Electric Step Gear and Linkage Designed for St...</td>\n",
       "    </tr>\n",
       "  </tbody>\n",
       "</table>\n",
       "</div>"
      ],
      "text/plain": [
       "                                                 Url status  \\\n",
       "0  https://www.amazon.com/MITZONE-Gear-Box-Curved...     ok   \n",
       "\n",
       "                                               Title  \\\n",
       "0  MITZONE Gear Box with Curved Linkage with A - ...   \n",
       "\n",
       "                                                Info  \n",
       "0  Electric Step Gear and Linkage Designed for St...  "
      ]
     },
     "execution_count": 18,
     "metadata": {},
     "output_type": "execute_result"
    }
   ],
   "source": [
    "wait.until(EC.presence_of_element_located((By.XPATH, '//ul[@class=\"a-unordered-list a-vertical a-spacing-mini\"]')))\n",
    "df_temp['Info'] = browser.find_element(by=By.XPATH, value='//ul[@class=\"a-unordered-list a-vertical a-spacing-mini\"]').text\n",
    "\n",
    "df_temp"
   ]
  },
  {
   "cell_type": "code",
   "execution_count": 19,
   "id": "aee44949",
   "metadata": {},
   "outputs": [
    {
     "data": {
      "text/html": [
       "<div>\n",
       "<style scoped>\n",
       "    .dataframe tbody tr th:only-of-type {\n",
       "        vertical-align: middle;\n",
       "    }\n",
       "\n",
       "    .dataframe tbody tr th {\n",
       "        vertical-align: top;\n",
       "    }\n",
       "\n",
       "    .dataframe thead th {\n",
       "        text-align: right;\n",
       "    }\n",
       "</style>\n",
       "<table border=\"1\" class=\"dataframe\">\n",
       "  <thead>\n",
       "    <tr style=\"text-align: right;\">\n",
       "      <th></th>\n",
       "      <th>Url</th>\n",
       "      <th>status</th>\n",
       "      <th>Title</th>\n",
       "      <th>Info</th>\n",
       "      <th>Src</th>\n",
       "    </tr>\n",
       "  </thead>\n",
       "  <tbody>\n",
       "    <tr>\n",
       "      <th>0</th>\n",
       "      <td>https://www.amazon.com/MITZONE-Gear-Box-Curved...</td>\n",
       "      <td>ok</td>\n",
       "      <td>MITZONE Gear Box with Curved Linkage with A - ...</td>\n",
       "      <td>Electric Step Gear and Linkage Designed for St...</td>\n",
       "      <td>https://m.media-amazon.com/images/I/61m8zW4KsE...</td>\n",
       "    </tr>\n",
       "  </tbody>\n",
       "</table>\n",
       "</div>"
      ],
      "text/plain": [
       "                                                 Url status  \\\n",
       "0  https://www.amazon.com/MITZONE-Gear-Box-Curved...     ok   \n",
       "\n",
       "                                               Title  \\\n",
       "0  MITZONE Gear Box with Curved Linkage with A - ...   \n",
       "\n",
       "                                                Info  \\\n",
       "0  Electric Step Gear and Linkage Designed for St...   \n",
       "\n",
       "                                                 Src  \n",
       "0  https://m.media-amazon.com/images/I/61m8zW4KsE...  "
      ]
     },
     "execution_count": 19,
     "metadata": {},
     "output_type": "execute_result"
    }
   ],
   "source": [
    "wait.until(EC.presence_of_element_located((By.XPATH, '//div[@id=\"imgTagWrapperId\"]/img')))\n",
    "df_temp['Src'] = browser.find_element(by=By.XPATH, value='//div[@id=\"imgTagWrapperId\"]/img').get_attribute('src')\n",
    "\n",
    "df_temp"
   ]
  },
  {
   "cell_type": "code",
   "execution_count": 22,
   "id": "536b30ad",
   "metadata": {},
   "outputs": [
    {
     "data": {
      "text/html": [
       "<div>\n",
       "<style scoped>\n",
       "    .dataframe tbody tr th:only-of-type {\n",
       "        vertical-align: middle;\n",
       "    }\n",
       "\n",
       "    .dataframe tbody tr th {\n",
       "        vertical-align: top;\n",
       "    }\n",
       "\n",
       "    .dataframe thead th {\n",
       "        text-align: right;\n",
       "    }\n",
       "</style>\n",
       "<table border=\"1\" class=\"dataframe\">\n",
       "  <thead>\n",
       "    <tr style=\"text-align: right;\">\n",
       "      <th></th>\n",
       "      <th>Url</th>\n",
       "      <th>status</th>\n",
       "      <th>Title</th>\n",
       "      <th>Info</th>\n",
       "      <th>Src</th>\n",
       "    </tr>\n",
       "  </thead>\n",
       "  <tbody>\n",
       "    <tr>\n",
       "      <th>0</th>\n",
       "      <td>https://www.amazon.com/MITZONE-Gear-Box-Curved...</td>\n",
       "      <td>ok</td>\n",
       "      <td>MITZONE Gear Box with Curved Linkage with A - ...</td>\n",
       "      <td>Electric Step Gear and Linkage Designed for St...</td>\n",
       "      <td>https://m.media-amazon.com/images/I/61m8zW4KsE...</td>\n",
       "    </tr>\n",
       "  </tbody>\n",
       "</table>\n",
       "</div>"
      ],
      "text/plain": [
       "                                                 Url status  \\\n",
       "0  https://www.amazon.com/MITZONE-Gear-Box-Curved...     ok   \n",
       "\n",
       "                                               Title  \\\n",
       "0  MITZONE Gear Box with Curved Linkage with A - ...   \n",
       "\n",
       "                                                Info  \\\n",
       "0  Electric Step Gear and Linkage Designed for St...   \n",
       "\n",
       "                                                 Src  \n",
       "0  https://m.media-amazon.com/images/I/61m8zW4KsE...  "
      ]
     },
     "execution_count": 22,
     "metadata": {},
     "output_type": "execute_result"
    }
   ],
   "source": [
    "list_name = [name.text for name in browser.find_elements(by=By.XPATH, value='//table[@id=\"productDetails_techSpec_section_1\"]/descendant::th')]\n",
    "if len(list_name) != 0:\n",
    "    list_value = [value.text for value in browser.find_elements(by=By.XPATH, value='//table[@id=\"productDetails_techSpec_section_1\"]/descendant::td')]\n",
    "\n",
    "    for name, value in zip(list_name, list_value):\n",
    "        df_temp[name.lower()] = value\n",
    "    \n",
    "df_temp"
   ]
  },
  {
   "cell_type": "code",
   "execution_count": 25,
   "id": "7467b952",
   "metadata": {},
   "outputs": [
    {
     "data": {
      "text/html": [
       "<div>\n",
       "<style scoped>\n",
       "    .dataframe tbody tr th:only-of-type {\n",
       "        vertical-align: middle;\n",
       "    }\n",
       "\n",
       "    .dataframe tbody tr th {\n",
       "        vertical-align: top;\n",
       "    }\n",
       "\n",
       "    .dataframe thead th {\n",
       "        text-align: right;\n",
       "    }\n",
       "</style>\n",
       "<table border=\"1\" class=\"dataframe\">\n",
       "  <thead>\n",
       "    <tr style=\"text-align: right;\">\n",
       "      <th></th>\n",
       "      <th>Url</th>\n",
       "      <th>status</th>\n",
       "      <th>Title</th>\n",
       "      <th>Info</th>\n",
       "      <th>Src</th>\n",
       "    </tr>\n",
       "  </thead>\n",
       "  <tbody>\n",
       "    <tr>\n",
       "      <th>0</th>\n",
       "      <td>https://www.amazon.com/MITZONE-Gear-Box-Curved...</td>\n",
       "      <td>ok</td>\n",
       "      <td>MITZONE Gear Box with Curved Linkage with A - ...</td>\n",
       "      <td>Electric Step Gear and Linkage Designed for St...</td>\n",
       "      <td>https://m.media-amazon.com/images/I/61m8zW4KsE...</td>\n",
       "    </tr>\n",
       "    <tr>\n",
       "      <th>1</th>\n",
       "      <td>https://www.amazon.com/MITZONE-Gear-Box-Curved...</td>\n",
       "      <td>ok</td>\n",
       "      <td>MITZONE Gear Box with Curved Linkage with A - ...</td>\n",
       "      <td>Electric Step Gear and Linkage Designed for St...</td>\n",
       "      <td>https://m.media-amazon.com/images/I/61m8zW4KsE...</td>\n",
       "    </tr>\n",
       "  </tbody>\n",
       "</table>\n",
       "</div>"
      ],
      "text/plain": [
       "                                                 Url status  \\\n",
       "0  https://www.amazon.com/MITZONE-Gear-Box-Curved...     ok   \n",
       "1  https://www.amazon.com/MITZONE-Gear-Box-Curved...     ok   \n",
       "\n",
       "                                               Title  \\\n",
       "0  MITZONE Gear Box with Curved Linkage with A - ...   \n",
       "1  MITZONE Gear Box with Curved Linkage with A - ...   \n",
       "\n",
       "                                                Info  \\\n",
       "0  Electric Step Gear and Linkage Designed for St...   \n",
       "1  Electric Step Gear and Linkage Designed for St...   \n",
       "\n",
       "                                                 Src  \n",
       "0  https://m.media-amazon.com/images/I/61m8zW4KsE...  \n",
       "1  https://m.media-amazon.com/images/I/61m8zW4KsE...  "
      ]
     },
     "execution_count": 25,
     "metadata": {},
     "output_type": "execute_result"
    }
   ],
   "source": [
    "list_name = [name.text for name in browser.find_elements(by=By.XPATH, value='//table[@id=\"productDetails_detailBullets_sections1\"]/descendant::th')]\n",
    "if len(list_name) != 0:\n",
    "    list_value = [value.text for value in browser.find_elements(by=By.XPATH, value='//table[@id=\"productDetails_detailBullets_sections1\"]/descendant::td')]\n",
    "\n",
    "    for name, value in zip(list_name, list_value):\n",
    "        df_temp[name.lower()] = value.replace('\\n', '')\n",
    "    \n",
    "df = pd.concat([df, df_temp], ignore_index=True).fillna('')\n",
    "\n",
    "df"
   ]
  },
  {
   "cell_type": "code",
   "execution_count": null,
   "id": "4c7a51b7",
   "metadata": {},
   "outputs": [],
   "source": []
  }
 ],
 "metadata": {
  "kernelspec": {
   "display_name": "Python 3 (ipykernel)",
   "language": "python",
   "name": "python3"
  },
  "language_info": {
   "codemirror_mode": {
    "name": "ipython",
    "version": 3
   },
   "file_extension": ".py",
   "mimetype": "text/x-python",
   "name": "python",
   "nbconvert_exporter": "python",
   "pygments_lexer": "ipython3",
   "version": "3.11.3"
  }
 },
 "nbformat": 4,
 "nbformat_minor": 5
}
