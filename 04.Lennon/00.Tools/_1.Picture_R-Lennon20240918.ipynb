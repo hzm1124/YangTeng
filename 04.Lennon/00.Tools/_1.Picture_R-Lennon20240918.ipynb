{
 "cells": [
  {
   "cell_type": "code",
   "execution_count": null,
   "id": "5906c554-1a48-41b8-abea-11ee69149a44",
   "metadata": {},
   "outputs": [],
   "source": [
    "compress = '100%'"
   ]
  },
  {
   "cell_type": "code",
   "execution_count": null,
   "id": "c49209d4-e100-4ceb-917d-49683c661ded",
   "metadata": {},
   "outputs": [],
   "source": [
    "from openpyxl import load_workbook\n",
    "from openpyxl.utils import get_column_letter\n",
    "\n",
    "wb = load_workbook('./crawler.xlsx')\n",
    "ws = wb.active\n",
    "\n",
    "for column in range(1, ws.max_column + 1):\n",
    "    if ws.cell(1, column).value == 'Json_Src':\n",
    "        column_src = column\n",
    "    elif ws.cell(1, column).value == 'Picture':\n",
    "        column_pic = column\n",
    "\n",
    "print(f'总数量：{ws.max_row - 1}')\n",
    "column_src, get_column_letter(column_src), column_pic, get_column_letter(column_pic)"
   ]
  },
  {
   "cell_type": "code",
   "execution_count": null,
   "id": "e6cfffd4-a723-4ad7-94db-a1ab56a41c02",
   "metadata": {},
   "outputs": [],
   "source": [
    "a = 10\n",
    "\n",
    "a"
   ]
  },
  {
   "cell_type": "code",
   "execution_count": null,
   "id": "01ebcebc-536c-4906-9abe-508fdfb2cfbc",
   "metadata": {},
   "outputs": [],
   "source": [
    "crawler_status = 'error'\n",
    "\n",
    "crawler_status"
   ]
  },
  {
   "cell_type": "code",
   "execution_count": null,
   "id": "e6f1fc75-e834-49e8-8f43-927143a5703e",
   "metadata": {},
   "outputs": [],
   "source": [
    "import json\n",
    "\n",
    "src = json.loads(ws.cell(a, column_src).value).get('0', '')\n",
    "\n",
    "src"
   ]
  },
  {
   "cell_type": "code",
   "execution_count": null,
   "id": "24645d4a-c8e2-49dd-b093-f5f9c78a8333",
   "metadata": {},
   "outputs": [],
   "source": [
    "src == ''"
   ]
  },
  {
   "cell_type": "code",
   "execution_count": null,
   "id": "05509929-61ef-4ce5-b593-8d6671ab1378",
   "metadata": {},
   "outputs": [],
   "source": [
    "import requests\n",
    "\n",
    "from crawler_configuration import get_header, get_proxy\n",
    "\n",
    "b = 0\n",
    "while True:\n",
    "    b += 1\n",
    "    print(b)\n",
    "    try:\n",
    "        resp = requests.get(src,\n",
    "                            headers=get_header(),\n",
    "                            proxies=get_proxy(),\n",
    "                            timeout=(10, 10))\n",
    "\n",
    "        if resp.status_code == 200:\n",
    "            break\n",
    "    except:\n",
    "        continue\n",
    "        \n",
    "resp"
   ]
  },
  {
   "cell_type": "code",
   "execution_count": null,
   "id": "7f60f05a-fec8-431c-b06b-ed132d724f69",
   "metadata": {},
   "outputs": [],
   "source": [
    "import PIL\n",
    "from io import BytesIO\n",
    "\n",
    "image = PIL.Image.open(BytesIO(resp.content)).convert('RGB')\n",
    "\n",
    "image"
   ]
  },
  {
   "cell_type": "code",
   "execution_count": null,
   "id": "8703ebc9-f8b8-4d09-8f09-92e4a28a338e",
   "metadata": {},
   "outputs": [],
   "source": [
    "if image.width >= image.height and image.width > 500:\n",
    "    image = image.resize((500, int(image.height / (image.width / 500))), PIL.Image.Resampling.LANCZOS)\n",
    "elif image.width < image.height and image.height > 500:\n",
    "    image = image.resize((int(image.width / (image.height / 500)), 500), PIL.Image.Resampling.LANCZOS)\n",
    "\n",
    "image"
   ]
  },
  {
   "cell_type": "code",
   "execution_count": null,
   "id": "0792c844-cd21-45ca-abf7-26186975277e",
   "metadata": {},
   "outputs": [],
   "source": [
    "from openpyxl.drawing.image import Image\n",
    "\n",
    "buffer = BytesIO()\n",
    "if compress == '100%':\n",
    "    image.save(buffer, format=\"PNG\")\n",
    "else:\n",
    "    image.save(buffer, format=\"JPEG\", quality=int(compress.removesuffix('%')))\n",
    "buffer.seek(0)\n",
    "\n",
    "pic = Image(buffer)\n",
    "\n",
    "pic"
   ]
  },
  {
   "cell_type": "code",
   "execution_count": null,
   "id": "f06fb5c5",
   "metadata": {},
   "outputs": [],
   "source": [
    "ws.add_image(pic, f'{get_column_letter(column_pic)}{a}')\n",
    "\n",
    "print('输出ing...')\n",
    "print()\n",
    "wb.save('./test_pic.xlsx')\n",
    "print('Done ~')"
   ]
  },
  {
   "cell_type": "code",
   "execution_count": null,
   "id": "22d4f3db",
   "metadata": {},
   "outputs": [],
   "source": []
  }
 ],
 "metadata": {
  "kernelspec": {
   "display_name": "Python 3 (ipykernel)",
   "language": "python",
   "name": "python3"
  },
  "language_info": {
   "codemirror_mode": {
    "name": "ipython",
    "version": 3
   },
   "file_extension": ".py",
   "mimetype": "text/x-python",
   "name": "python",
   "nbconvert_exporter": "python",
   "pygments_lexer": "ipython3",
   "version": "3.11.3"
  }
 },
 "nbformat": 4,
 "nbformat_minor": 5
}
