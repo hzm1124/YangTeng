{
 "cells": [
  {
   "cell_type": "code",
   "execution_count": 1,
   "id": "ba98551f-b0b1-4c50-8c47-3ad3a3730b73",
   "metadata": {},
   "outputs": [
    {
     "data": {
      "text/plain": [
       "['crawler_1.xlsx', 'crawler_2.xlsx']"
      ]
     },
     "execution_count": 1,
     "metadata": {},
     "output_type": "execute_result"
    }
   ],
   "source": [
    "import os\n",
    "\n",
    "list_file = sorted(list(os.walk('./file/1.url'))[0][2])\n",
    "while '.DS_Store' in list_file:\n",
    "    list_file.remove('.DS_Store')\n",
    "while '0.null.txt' in list_file:\n",
    "    list_file.remove('0.null.txt')\n",
    "\n",
    "list_file"
   ]
  },
  {
   "cell_type": "code",
   "execution_count": 2,
   "id": "9b75b948-9701-432e-a5ef-88d0e629bd2c",
   "metadata": {},
   "outputs": [
    {
     "data": {
      "text/plain": [
       "'crawler_1.xlsx'"
      ]
     },
     "execution_count": 2,
     "metadata": {},
     "output_type": "execute_result"
    }
   ],
   "source": [
    "file = list_file[0]\n",
    "\n",
    "file"
   ]
  },
  {
   "cell_type": "code",
   "execution_count": 3,
   "id": "76ea49e2-7cc6-4bc1-af5b-7a6768eb6c08",
   "metadata": {},
   "outputs": [],
   "source": [
    "import pandas as pd\n",
    "\n",
    "output_correct, output_error = pd.DataFrame(), pd.DataFrame()"
   ]
  },
  {
   "cell_type": "code",
   "execution_count": 4,
   "id": "5d22fc26-a390-442a-bfe3-4d409c33f1e7",
   "metadata": {
    "scrolled": true
   },
   "outputs": [
    {
     "name": "stdout",
     "output_type": "stream",
     "text": [
      "总数量：10\n"
     ]
    },
    {
     "data": {
      "text/plain": [
       "['https://www.cardone.com/product/windshield-wiper-motor-40-1000',\n",
       " 'https://www.cardone.com/product/windshield-wiper-motor-40-10000',\n",
       " 'https://www.cardone.com/product/windshield-wiper-motor-40-10005',\n",
       " 'https://www.cardone.com/product/windshield-wiper-motor-40-10006',\n",
       " 'https://www.cardone.com/product/windshield-wiper-motor-40-10007',\n",
       " 'https://www.cardone.com/product/windshield-wiper-motor-40-10009',\n",
       " 'https://www.cardone.com/product/windshield-wiper-motor-40-1001',\n",
       " 'https://www.cardone.com/product/windshield-wiper-motor-40-10013',\n",
       " 'https://www.cardone.com/product/windshield-wiper-motor-40-10014',\n",
       " 'https://www.cardone.com/product/windshield-wiper-motor-40-10015']"
      ]
     },
     "execution_count": 4,
     "metadata": {},
     "output_type": "execute_result"
    }
   ],
   "source": [
    "input_ = pd.read_excel(f'./file/1.url/{file}',\n",
    "                       header=0,\n",
    "                       dtype=str).fillna('')\n",
    "\n",
    "input_['No'] = input_['No'].astype(int)\n",
    "\n",
    "print(f'总数量：{len(input_)}')\n",
    "input_['Url'].tolist()"
   ]
  },
  {
   "cell_type": "code",
   "execution_count": 5,
   "id": "5878a9f0-d639-4123-b6e0-bc564f72c2d6",
   "metadata": {},
   "outputs": [
    {
     "data": {
      "text/plain": [
       "2"
      ]
     },
     "execution_count": 5,
     "metadata": {},
     "output_type": "execute_result"
    }
   ],
   "source": [
    "a = 2\n",
    "\n",
    "a"
   ]
  },
  {
   "cell_type": "code",
   "execution_count": 6,
   "id": "9f61dd65-55da-4d0b-ba30-d0534eff0781",
   "metadata": {},
   "outputs": [
    {
     "data": {
      "text/plain": [
       "'error'"
      ]
     },
     "execution_count": 6,
     "metadata": {},
     "output_type": "execute_result"
    }
   ],
   "source": [
    "crawler_status = 'error'\n",
    "\n",
    "crawler_status"
   ]
  },
  {
   "cell_type": "code",
   "execution_count": 7,
   "id": "ad99bc86-6e80-4fcf-8200-736dc5101097",
   "metadata": {},
   "outputs": [
    {
     "name": "stdout",
     "output_type": "stream",
     "text": [
      "1\n"
     ]
    },
    {
     "data": {
      "text/plain": [
       "'Windshield Wiper Motor - 40-10005'"
      ]
     },
     "execution_count": 7,
     "metadata": {},
     "output_type": "execute_result"
    }
   ],
   "source": [
    "import requests\n",
    "\n",
    "import sys\n",
    "sys.path.append('../00.Tools')\n",
    "from crawler_configuration import get_header, get_proxy\n",
    "\n",
    "from bs4 import BeautifulSoup\n",
    "from lxml import etree\n",
    "\n",
    "b = 0\n",
    "while True:\n",
    "    b += 1\n",
    "    print(b)\n",
    "    try:\n",
    "        request_url = input_.loc[a, 'Url']\n",
    "        \n",
    "        resp = requests.get(request_url,\n",
    "                            headers=get_header(),\n",
    "                            proxies=get_proxy(),\n",
    "                            timeout=(10, 10))\n",
    "\n",
    "        if resp.status_code == 200:\n",
    "            soup = BeautifulSoup(resp.text, 'lxml')\n",
    "            html = etree.HTML(str(soup))\n",
    "\n",
    "            title = html.xpath('//head/title/text()')[0].strip()\n",
    "            with open('./part.html', 'w', encoding='UTF-8') as file:\n",
    "                file.write(str(soup))\n",
    "            break\n",
    "    except KeyboardInterrupt:\n",
    "        break\n",
    "    except:\n",
    "        continue\n",
    "\n",
    "title"
   ]
  },
  {
   "cell_type": "code",
   "execution_count": 8,
   "id": "f933a1ab-8825-469f-91db-99d00e8d5c6d",
   "metadata": {
    "scrolled": true
   },
   "outputs": [
    {
     "data": {
      "text/plain": [
       "'CARDONE Reman'"
      ]
     },
     "execution_count": 8,
     "metadata": {},
     "output_type": "execute_result"
    }
   ],
   "source": [
    "subtitle = html.xpath('//h2[@itemprop=\"brand\"]/a/span[@itemprop=\"name\"]/text()')[0].strip()\n",
    "\n",
    "subtitle"
   ]
  },
  {
   "cell_type": "code",
   "execution_count": 9,
   "id": "43844a94-a200-41b1-a313-ed0256b88c71",
   "metadata": {},
   "outputs": [
    {
     "data": {
      "text/plain": [
       "'40-10005'"
      ]
     },
     "execution_count": 9,
     "metadata": {},
     "output_type": "execute_result"
    }
   ],
   "source": [
    "part_number = html.xpath('//dd[@itemprop=\"sku\"]/text()')[0].strip()\n",
    "\n",
    "part_number"
   ]
  },
  {
   "cell_type": "code",
   "execution_count": 10,
   "id": "46eff63e-1cfa-4a23-ba9e-8351742e8400",
   "metadata": {
    "scrolled": true
   },
   "outputs": [
    {
     "data": {
      "text/plain": [
       "'Windshield Wiper Motor'"
      ]
     },
     "execution_count": 10,
     "metadata": {},
     "output_type": "execute_result"
    }
   ],
   "source": [
    "type_ = html.xpath('//dd[@data-product-parttype]/text()')[0].strip()\n",
    "\n",
    "type_"
   ]
  },
  {
   "cell_type": "code",
   "execution_count": 11,
   "id": "3fd0bb6e-372b-44d3-8612-d2535c23028f",
   "metadata": {},
   "outputs": [
    {
     "data": {
      "text/plain": [
       "'Cadillac CTS 2015-08, Escalade 2022-15, Escalade ESV 2022-15; Chevrolet Silverado 1500 2010-07, Silverado 2500 HD 2010-07, Silverado 3500 HD 2010-07, Suburban 2022-15, Suburban 3500 HD 2018-16, Tahoe 2022-15; GMC Sierra 1500 2010-08, Sierra 2500 HD 2010-08, Sierra 3500 HD 2010-08, Yukon 2022-15, Yukon XL 2022-15'"
      ]
     },
     "execution_count": 11,
     "metadata": {},
     "output_type": "execute_result"
    }
   ],
   "source": [
    "application_summary = html.xpath('//meta[@name=\"description\"]/@content')[0].strip().removeprefix(f'{subtitle},{type_},').removeprefix(f'{subtitle.title()},{type_},') if html.xpath('//meta[@name=\"description\"]/@content') else ''\n",
    "\n",
    "application_summary"
   ]
  },
  {
   "cell_type": "code",
   "execution_count": 12,
   "id": "c31a1d69-1318-4679-ad0d-2499075aae09",
   "metadata": {},
   "outputs": [
    {
     "data": {
      "text/plain": [
       "{'0': 'https://cdn11.bigcommerce.com/s-z9vhe3o238/images/stencil/1280x1280/products/90033/5377350/482__02603.1687910967.jpg?c=1',\n",
       " '1': 'https://cdn11.bigcommerce.com/s-z9vhe3o238/images/stencil/1280x1280/products/90033/5377352/482__13827.1687910968.jpg?c=1',\n",
       " '2': 'https://cdn11.bigcommerce.com/s-z9vhe3o238/images/stencil/1280x1280/products/90033/5377353/482__71972.1687910969.jpg?c=1',\n",
       " '3': 'https://cdn11.bigcommerce.com/s-z9vhe3o238/images/stencil/1280x1280/products/90033/5377354/482__04140.1687910969.jpg?c=1',\n",
       " '4': 'https://cdn11.bigcommerce.com/s-z9vhe3o238/images/stencil/1280x1280/products/90033/5377358/482__17022.1687910971.jpg?c=1',\n",
       " '5': 'https://cdn11.bigcommerce.com/s-z9vhe3o238/images/stencil/1280x1280/products/90033/5377362/482__09698.1687910971.jpg?c=1',\n",
       " '6': 'https://cdn11.bigcommerce.com/s-z9vhe3o238/images/stencil/1280x1280/products/90033/5377365/482__12748.1687910972.jpg?c=1',\n",
       " '7': 'https://cdn11.bigcommerce.com/s-z9vhe3o238/images/stencil/1280x1280/products/90033/5377369/482__00613.1687910973.jpg?c=1'}"
      ]
     },
     "execution_count": 12,
     "metadata": {},
     "output_type": "execute_result"
    }
   ],
   "source": [
    "dict_src, list_src = {}, html.xpath('//li[contains(@class, \"productView-thumbnail\")]/a[@class=\"productView-thumbnail-link\"]/@href')\n",
    "for i, src in enumerate(list_src):\n",
    "    dict_src[str(i)] = src.strip()\n",
    "\n",
    "dict_src"
   ]
  },
  {
   "cell_type": "code",
   "execution_count": 13,
   "id": "0cbfc985-38ff-42e0-8207-1ae4a82663fb",
   "metadata": {},
   "outputs": [
    {
     "data": {
      "text/plain": [
       "{'0': {'productDeskExternalKey': 'CPCX|40-10005'},\n",
       " '1': {'Package Contents': 'Wiper Motor; Instruction Sheet'},\n",
       " '2': {'E-Waste': 'Yes'},\n",
       " '3': {'Product Condition': 'Remanufactured'},\n",
       " '4': {'Mounting Hole Quantity': '3'},\n",
       " '5': {'Terminal Type': 'Blade'},\n",
       " '6': {'Mounting Type': 'Direct Bolt'},\n",
       " '7': {'Weight PG': '2.4500'},\n",
       " '8': {'Washer Pump Included': 'No'},\n",
       " '9': {'Part Type': 'Windshield Wiper Motor'},\n",
       " '10': {'Warranty Info': '1 Year/18,000 Mile'},\n",
       " '11': {'Sustainable Choice': 'Yes'},\n",
       " '12': {'Lifecycle Status': 'Available to Order'},\n",
       " '13': {'ItemLevelGTIN': '00082617836975'},\n",
       " '14': {'_addonCardone': '40-10005::98271:100141:306'},\n",
       " '15': {'Eligible for R&R Service': 'Yes'}}"
      ]
     },
     "execution_count": 13,
     "metadata": {},
     "output_type": "execute_result"
    }
   ],
   "source": [
    "import json\n",
    "\n",
    "list_dict, dict_count = json.loads(html.xpath('//div[@id=\"addon\"]/@data-custom-fields')[0]), {}\n",
    "for dict_ in list_dict:\n",
    "    key = dict_['name'].strip()\n",
    "    if key in dict_count:\n",
    "        dict_count[key] += 1\n",
    "    else:\n",
    "        dict_count[key] = 1\n",
    "\n",
    "dict_info, dict_no = {}, {}\n",
    "for i, dict_ in enumerate(list_dict):\n",
    "    key = dict_['name'].strip()\n",
    "    if dict_count[key] == 1:\n",
    "        dict_info[str(i)] = {key: dict_['value'].strip()}\n",
    "    else:\n",
    "        if key in dict_no:\n",
    "            dict_no[key] += 1\n",
    "        else:\n",
    "            dict_no[key] = 1\n",
    "        dict_info[str(i)] = {f'''{key}-{dict_no[key]}''': dict_['value'].strip()}\n",
    "\n",
    "dict_info"
   ]
  },
  {
   "cell_type": "code",
   "execution_count": 14,
   "id": "a2bf4400-8b93-4023-8530-1470398c4c05",
   "metadata": {},
   "outputs": [
    {
     "data": {
      "text/plain": [
       "'https://cdn11.bigcommerce.com/s-z9vhe3o238/stencil/8e248850-42e4-013d-3750-4aa5abd8f847/e/f1f3ec70-a1ca-013c-1d69-569dcc364c94/dist/theme-bundle.main.js'"
      ]
     },
     "execution_count": 14,
     "metadata": {},
     "output_type": "execute_result"
    }
   ],
   "source": [
    "bundle = f'''{resp.text.split('window.__webpack_public_path__ = \"')[1].split('\";</script>')[0]}theme-bundle.main.js'''\n",
    "\n",
    "bundle"
   ]
  },
  {
   "cell_type": "code",
   "execution_count": 15,
   "id": "0ebb0da6-9494-41fc-9823-6866ea382cff",
   "metadata": {},
   "outputs": [
    {
     "data": {
      "text/html": [
       "<div>\n",
       "<style scoped>\n",
       "    .dataframe tbody tr th:only-of-type {\n",
       "        vertical-align: middle;\n",
       "    }\n",
       "\n",
       "    .dataframe tbody tr th {\n",
       "        vertical-align: top;\n",
       "    }\n",
       "\n",
       "    .dataframe thead th {\n",
       "        text-align: right;\n",
       "    }\n",
       "</style>\n",
       "<table border=\"1\" class=\"dataframe\">\n",
       "  <thead>\n",
       "    <tr style=\"text-align: right;\">\n",
       "      <th></th>\n",
       "      <th>No</th>\n",
       "      <th>Type</th>\n",
       "      <th>Part Number</th>\n",
       "      <th>Title</th>\n",
       "      <th>Subtitle</th>\n",
       "      <th>Application Summary</th>\n",
       "      <th>Picture</th>\n",
       "      <th>Url</th>\n",
       "      <th>Json_Src</th>\n",
       "      <th>Json_Info</th>\n",
       "      <th>Bundle</th>\n",
       "      <th>Auth</th>\n",
       "    </tr>\n",
       "  </thead>\n",
       "  <tbody>\n",
       "    <tr>\n",
       "      <th>0</th>\n",
       "      <td>3</td>\n",
       "      <td>Windshield Wiper Motor</td>\n",
       "      <td>40-10005</td>\n",
       "      <td>Windshield Wiper Motor - 40-10005</td>\n",
       "      <td>CARDONE Reman</td>\n",
       "      <td>Cadillac CTS 2015-08, Escalade 2022-15, Escala...</td>\n",
       "      <td></td>\n",
       "      <td>https://www.cardone.com/product/windshield-wip...</td>\n",
       "      <td>{\"0\": \"https://cdn11.bigcommerce.com/s-z9vhe3o...</td>\n",
       "      <td>{\"0\": {\"productDeskExternalKey\": \"CPCX|40-1000...</td>\n",
       "      <td>https://cdn11.bigcommerce.com/s-z9vhe3o238/ste...</td>\n",
       "      <td></td>\n",
       "    </tr>\n",
       "  </tbody>\n",
       "</table>\n",
       "</div>"
      ],
      "text/plain": [
       "   No                    Type Part Number                              Title  \\\n",
       "0   3  Windshield Wiper Motor    40-10005  Windshield Wiper Motor - 40-10005   \n",
       "\n",
       "        Subtitle                                Application Summary Picture  \\\n",
       "0  CARDONE Reman  Cadillac CTS 2015-08, Escalade 2022-15, Escala...           \n",
       "\n",
       "                                                 Url  \\\n",
       "0  https://www.cardone.com/product/windshield-wip...   \n",
       "\n",
       "                                            Json_Src  \\\n",
       "0  {\"0\": \"https://cdn11.bigcommerce.com/s-z9vhe3o...   \n",
       "\n",
       "                                           Json_Info  \\\n",
       "0  {\"0\": {\"productDeskExternalKey\": \"CPCX|40-1000...   \n",
       "\n",
       "                                              Bundle Auth  \n",
       "0  https://cdn11.bigcommerce.com/s-z9vhe3o238/ste...       "
      ]
     },
     "execution_count": 15,
     "metadata": {},
     "output_type": "execute_result"
    }
   ],
   "source": [
    "df_temp = pd.DataFrame([{'No': input_.loc[a, 'No'],\n",
    "                         'Type': type_,\n",
    "                         'Part Number': part_number,\n",
    "                         'Title': title,\n",
    "                         'Subtitle': subtitle,\n",
    "                         'Application Summary': application_summary,\n",
    "                         'Picture': '',\n",
    "                         'Url': input_.loc[a, 'Url'],\n",
    "                         'Json_Src': json.dumps(dict_src),\n",
    "                         'Json_Info': json.dumps(dict_info),\n",
    "                         'Bundle': bundle,\n",
    "                         'Auth': ''}])\n",
    "\n",
    "output_correct = pd.concat([output_correct, df_temp], ignore_index=True).fillna('')\n",
    "\n",
    "output_correct"
   ]
  },
  {
   "cell_type": "code",
   "execution_count": 16,
   "id": "fc4ed7f6-ed4f-431c-b944-b1690309cdae",
   "metadata": {},
   "outputs": [
    {
     "data": {
      "text/plain": [
       "'ok'"
      ]
     },
     "execution_count": 16,
     "metadata": {},
     "output_type": "execute_result"
    }
   ],
   "source": [
    "crawler_status = 'ok'\n",
    "\n",
    "crawler_status"
   ]
  },
  {
   "cell_type": "code",
   "execution_count": 17,
   "id": "65c745d1-446e-46c5-9dec-819c9f7944d3",
   "metadata": {},
   "outputs": [
    {
     "data": {
      "text/html": [
       "<div>\n",
       "<style scoped>\n",
       "    .dataframe tbody tr th:only-of-type {\n",
       "        vertical-align: middle;\n",
       "    }\n",
       "\n",
       "    .dataframe tbody tr th {\n",
       "        vertical-align: top;\n",
       "    }\n",
       "\n",
       "    .dataframe thead th {\n",
       "        text-align: right;\n",
       "    }\n",
       "</style>\n",
       "<table border=\"1\" class=\"dataframe\">\n",
       "  <thead>\n",
       "    <tr style=\"text-align: right;\">\n",
       "      <th></th>\n",
       "    </tr>\n",
       "  </thead>\n",
       "  <tbody>\n",
       "  </tbody>\n",
       "</table>\n",
       "</div>"
      ],
      "text/plain": [
       "Empty DataFrame\n",
       "Columns: []\n",
       "Index: []"
      ]
     },
     "execution_count": 17,
     "metadata": {},
     "output_type": "execute_result"
    }
   ],
   "source": [
    "if crawler_status == 'error':\n",
    "    df_temp = pd.DataFrame([input_.iloc[a]]).reset_index(drop=True)\n",
    "    df_temp.loc[0, 'Request_Url'] = request_url\n",
    "    \n",
    "    output_error = pd.concat([output_error, df_temp], ignore_index=True).fillna('')\n",
    "\n",
    "output_error"
   ]
  },
  {
   "cell_type": "code",
   "execution_count": 18,
   "id": "7fd477de",
   "metadata": {},
   "outputs": [
    {
     "data": {
      "text/html": [
       "<div>\n",
       "<style scoped>\n",
       "    .dataframe tbody tr th:only-of-type {\n",
       "        vertical-align: middle;\n",
       "    }\n",
       "\n",
       "    .dataframe tbody tr th {\n",
       "        vertical-align: top;\n",
       "    }\n",
       "\n",
       "    .dataframe thead th {\n",
       "        text-align: right;\n",
       "    }\n",
       "</style>\n",
       "<table border=\"1\" class=\"dataframe\">\n",
       "  <thead>\n",
       "    <tr style=\"text-align: right;\">\n",
       "      <th></th>\n",
       "      <th>No</th>\n",
       "      <th>Type</th>\n",
       "      <th>Part Number</th>\n",
       "      <th>Title</th>\n",
       "      <th>Subtitle</th>\n",
       "      <th>Application Summary</th>\n",
       "      <th>Picture</th>\n",
       "      <th>Url</th>\n",
       "      <th>Json_Src</th>\n",
       "      <th>Json_Info</th>\n",
       "      <th>Bundle</th>\n",
       "      <th>Auth</th>\n",
       "    </tr>\n",
       "  </thead>\n",
       "  <tbody>\n",
       "    <tr>\n",
       "      <th>0</th>\n",
       "      <td>3</td>\n",
       "      <td>Windshield Wiper Motor</td>\n",
       "      <td>40-10005</td>\n",
       "      <td>Windshield Wiper Motor - 40-10005</td>\n",
       "      <td>CARDONE Reman</td>\n",
       "      <td>Cadillac CTS 2015-08, Escalade 2022-15, Escala...</td>\n",
       "      <td></td>\n",
       "      <td>https://www.cardone.com/product/windshield-wip...</td>\n",
       "      <td>{\"0\": \"https://cdn11.bigcommerce.com/s-z9vhe3o...</td>\n",
       "      <td>{\"0\": {\"productDeskExternalKey\": \"CPCX|40-1000...</td>\n",
       "      <td>https://cdn11.bigcommerce.com/s-z9vhe3o238/ste...</td>\n",
       "      <td></td>\n",
       "    </tr>\n",
       "  </tbody>\n",
       "</table>\n",
       "</div>"
      ],
      "text/plain": [
       "   No                    Type Part Number                              Title  \\\n",
       "0   3  Windshield Wiper Motor    40-10005  Windshield Wiper Motor - 40-10005   \n",
       "\n",
       "        Subtitle                                Application Summary Picture  \\\n",
       "0  CARDONE Reman  Cadillac CTS 2015-08, Escalade 2022-15, Escala...           \n",
       "\n",
       "                                                 Url  \\\n",
       "0  https://www.cardone.com/product/windshield-wip...   \n",
       "\n",
       "                                            Json_Src  \\\n",
       "0  {\"0\": \"https://cdn11.bigcommerce.com/s-z9vhe3o...   \n",
       "\n",
       "                                           Json_Info  \\\n",
       "0  {\"0\": {\"productDeskExternalKey\": \"CPCX|40-1000...   \n",
       "\n",
       "                                              Bundle Auth  \n",
       "0  https://cdn11.bigcommerce.com/s-z9vhe3o238/ste...       "
      ]
     },
     "execution_count": 18,
     "metadata": {},
     "output_type": "execute_result"
    }
   ],
   "source": [
    "if not output_correct.empty:\n",
    "    output_correct = output_correct.sort_values(by=['No'],\n",
    "                                                ascending=[True],\n",
    "                                                ignore_index=True)\n",
    "    output_correct.to_excel('./test_part.xlsx', index=False)\n",
    "\n",
    "output_correct"
   ]
  },
  {
   "cell_type": "code",
   "execution_count": 19,
   "id": "39a5441b-7f69-4812-aad8-7e10a1a24e78",
   "metadata": {},
   "outputs": [
    {
     "data": {
      "text/html": [
       "<div>\n",
       "<style scoped>\n",
       "    .dataframe tbody tr th:only-of-type {\n",
       "        vertical-align: middle;\n",
       "    }\n",
       "\n",
       "    .dataframe tbody tr th {\n",
       "        vertical-align: top;\n",
       "    }\n",
       "\n",
       "    .dataframe thead th {\n",
       "        text-align: right;\n",
       "    }\n",
       "</style>\n",
       "<table border=\"1\" class=\"dataframe\">\n",
       "  <thead>\n",
       "    <tr style=\"text-align: right;\">\n",
       "      <th></th>\n",
       "    </tr>\n",
       "  </thead>\n",
       "  <tbody>\n",
       "  </tbody>\n",
       "</table>\n",
       "</div>"
      ],
      "text/plain": [
       "Empty DataFrame\n",
       "Columns: []\n",
       "Index: []"
      ]
     },
     "execution_count": 19,
     "metadata": {},
     "output_type": "execute_result"
    }
   ],
   "source": [
    "if not output_error.empty:\n",
    "    output_error = output_error.sort_values(by=['No'],\n",
    "                                            ascending=[True],\n",
    "                                            ignore_index=True)\n",
    "    output_error.to_excel('./test_part_error.xlsx', index=False)\n",
    "\n",
    "output_error"
   ]
  },
  {
   "cell_type": "code",
   "execution_count": null,
   "id": "ba5d9f77-7464-4ad5-a42b-1fa0c0505832",
   "metadata": {},
   "outputs": [],
   "source": []
  }
 ],
 "metadata": {
  "kernelspec": {
   "display_name": "Python 3 (ipykernel)",
   "language": "python",
   "name": "python3"
  },
  "language_info": {
   "codemirror_mode": {
    "name": "ipython",
    "version": 3
   },
   "file_extension": ".py",
   "mimetype": "text/x-python",
   "name": "python",
   "nbconvert_exporter": "python",
   "pygments_lexer": "ipython3",
   "version": "3.11.3"
  }
 },
 "nbformat": 4,
 "nbformat_minor": 5
}
