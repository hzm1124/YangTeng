{
 "cells": [
  {
   "cell_type": "markdown",
   "id": "57ed760d",
   "metadata": {},
   "source": [
    "- Update: 2023.04.11\n",
    "\n",
    "# 0. 配置参数\n",
    "\n",
    "- `url`：Aamazon.COM"
   ]
  },
  {
   "cell_type": "code",
   "execution_count": 1,
   "id": "2fd77bbe",
   "metadata": {},
   "outputs": [],
   "source": [
    "url = 'https://www.amazon.com/stores/page/E28BDCDE-D661-43BC-AB00-DB89F391DACE/search?ingress=0&visitId=5b7c1f38-0f83-49d0-8855-ede08262893c&terms=Towing%20Mirrors'\n",
    "\n",
    "chromedriver = '../../chromedriver.exe'"
   ]
  },
  {
   "cell_type": "code",
   "execution_count": 2,
   "id": "153045e0",
   "metadata": {},
   "outputs": [],
   "source": [
    "from selenium.webdriver import ChromeOptions, Chrome\n",
    "from selenium.webdriver.chrome.service import Service\n",
    "import time"
   ]
  },
  {
   "cell_type": "code",
   "execution_count": 3,
   "id": "ed634254",
   "metadata": {},
   "outputs": [],
   "source": [
    "chrome_options = ChromeOptions()\n",
    "chrome_options.add_experimental_option('excludeSwitches', ['enable-automation']) # Chrome正受到自动测试软件的控制\n",
    "chrome_options.add_argument('--disable-blink-features=AutomationControlled') # window.navigator.webdriver=false\n",
    "# chrome_options.add_argument('--headless')\n",
    "chrome_options.add_argument('--no-sandbox')\n",
    "chrome_options.add_argument('--disable-gpu')\n",
    "chrome_options.add_argument('--disable-dev-shm-usage')\n",
    "chrome_options.add_argument('user-agent=Mozilla/5.0 (Windows NT 10.0; Win64; x64) AppleWebKit/537.36 (KHTML, like Gecko) Chrome/111.0.0.0 Safari/537.36')\n",
    "# chrome_options.add_argument('--proxy-server=http://j933.kdltps.com:15818')\n",
    "# chrome_options.add_argument('blink-settings=imagesEnabled=false')\n",
    "# chrome_options.page_load_strategy = 'eager'\n",
    "\n",
    "driver = Chrome(service=Service(chromedriver), options=chrome_options)\n",
    "driver.maximize_window()\n",
    "driver.get(url)\n",
    "time.sleep(0.3)"
   ]
  },
  {
   "cell_type": "code",
   "execution_count": 4,
   "id": "e2e0a582",
   "metadata": {},
   "outputs": [],
   "source": [
    "from selenium.webdriver.common.by import By\n",
    "import pandas as pd"
   ]
  },
  {
   "cell_type": "code",
   "execution_count": 5,
   "id": "cfc512fe",
   "metadata": {},
   "outputs": [],
   "source": [
    "# 91710\n",
    "# 翻页"
   ]
  },
  {
   "cell_type": "code",
   "execution_count": 6,
   "id": "ae9c5210",
   "metadata": {},
   "outputs": [],
   "source": [
    "list_item = driver.find_elements(By.XPATH, '//*[@class=\"Title__title__z5HRm Title__fixed__bJ2c2\"]')\n",
    "list_item = [i.get_attribute('href') for i in list_item]\n",
    "list_title = []\n",
    "list_star = []\n",
    "list_amount = []\n",
    "for i in range(len(list_item)):\n",
    "    print(i)\n",
    "    driver.get(list_item[i])\n",
    "    list_title.append(driver.find_element(By.XPATH, '//*[@class=\"a-size-large product-title-word-break\"]').text)\n",
    "    try:\n",
    "        list_star.append(driver.find_element(By.XPATH, '//*[@class=\"reviewCountTextLinkedHistogram noUnderline\"]').get_attribute('title').replace(' out of 5 stars', ''))\n",
    "    except:\n",
    "        list_star.append('')\n",
    "    try:\n",
    "        list_amount.append(driver.find_element(By.XPATH, '//*[@id=\"acrCustomerReviewText\"]').text.replace(' ratings', '').replace(',', ''))\n",
    "    except:\n",
    "        list_amount.append('')\n",
    "    time.sleep(3)\n",
    "        \n",
    "pd.DataFrame({'标题': list_title,\n",
    "              '评分': list_star,\n",
    "              '评论数量': list_amount}).to_excel('./crawler.xlsx', index=False)"
   ]
  },
  {
   "cell_type": "code",
   "execution_count": 7,
   "id": "1538d071",
   "metadata": {},
   "outputs": [],
   "source": [
    "driver.close()"
   ]
  },
  {
   "cell_type": "code",
   "execution_count": null,
   "id": "a8f87738",
   "metadata": {},
   "outputs": [],
   "source": []
  }
 ],
 "metadata": {
  "kernelspec": {
   "display_name": "Python 3 (ipykernel)",
   "language": "python",
   "name": "python3"
  },
  "language_info": {
   "codemirror_mode": {
    "name": "ipython",
    "version": 3
   },
   "file_extension": ".py",
   "mimetype": "text/x-python",
   "name": "python",
   "nbconvert_exporter": "python",
   "pygments_lexer": "ipython3",
   "version": "3.9.12"
  }
 },
 "nbformat": 4,
 "nbformat_minor": 5
}
