{
 "cells": [
  {
   "cell_type": "code",
   "execution_count": 1,
   "id": "f75464f5-d7b2-421d-90dc-5eb424d2f599",
   "metadata": {},
   "outputs": [
    {
     "data": {
      "text/plain": [
       "{'join_mpntcpc': 'MELLING;30250S;5756;8304960',\n",
       " 'no': 1,\n",
       " 'type_code': '5756',\n",
       " 'type_': 'Timing Chain & Component Kit',\n",
       " 'part_code': '8304960',\n",
       " 'part_number': '30250S',\n",
       " 'manufacturer': 'MELLING',\n",
       " 'url': 'https://www.rockauto.com/en/parts/MELLING,30250S,Lennon,5756',\n",
       " 'json_tag': '{\"0\": \"Standard Replacement\"}',\n",
       " 'json_integrate_sidenote': '{}',\n",
       " 'json_integrate_footnote': '{\"US\": {\"0\": \"174 Link Timing Chain; Except Mazdaspeed Model; To 09/01/2006\", \"1\": \"Automatic trans.; 174 Link Camshaft Chain; To 09/04/2006\", \"2\": \"Engines w/ 174 Link Primary Chains\", \"3\": \"Manual trans.; 174 Link Camshaft Chain; To 09/01/2006\"}, \"CA\": {\"0\": \"174 Link Timing Chain; Except Mazdaspeed Model; To 09/01/2006\", \"1\": \"Automatic trans.; 174 Link Camshaft Chain; To 09/04/2006\", \"2\": \"Engines w/ 174 Link Primary Chains\", \"3\": \"Manual trans.; 174 Link Camshaft Chain; To 09/01/2006\"}, \"MX\": {\"0\": \"174 Link Timing Chain; Except Mazdaspeed Model; To 09/01/2006\", \"1\": \"Automatic trans.; 174 Link Camshaft Chain; To 09/04/2006\", \"2\": \"Engines w/ 174 Link Primary Chains\", \"3\": \"Manual trans.; 174 Link Camshaft Chain; To 09/01/2006\"}}',\n",
       " 'vehicle_wo_engine': 'MAZDA 3 2004-2007\\nMAZDA 5 2006-2007\\nMAZDA 6 2003-2007',\n",
       " 'vehicle_w_engine': 'MAZDA 3 2004-2007 2.3L L4\\nMAZDA 5 2006-2007 2.3L L4\\nMAZDA 6 2003-2007 2.3L L4',\n",
       " 'engine': '2.3L L4',\n",
       " 'vehicle_wo_engine_exact': 'MAZDA 3 2004-2007\\nMAZDA 5 2006-2007\\nMAZDA 6 2003-2007',\n",
       " 'vehicle_w_engine_exact': 'MAZDA 3 2004-2007 2.3L L4\\nMAZDA 5 2006-2007 2.3L L4\\nMAZDA 6 2003-2007 2.3L L4',\n",
       " 'picture': '',\n",
       " 'part_not_found': 'no',\n",
       " 'choose': '',\n",
       " 'json_sidenote': '{}',\n",
       " 'info_url': 'https://www.rockauto.com/en/moreinfo.php?pk=8304960&cc=0&pt=5756',\n",
       " 'json_footnote': '{\"0\": \"Category: Timing Chain & Component Kit\"}',\n",
       " 'oem': '',\n",
       " 'json_src': '{\"0\": \"https://www.rockauto.com/info/583/3-0250S-1-KIT.jpg\", \"1\": \"https://www.rockauto.com/info/583/BT7015-2-SID.jpg\", \"2\": \"https://www.rockauto.com/info/583/BG5515-3-FRO.jpg\", \"3\": \"https://www.rockauto.com/info/583/715F-1-ANG.jpg\", \"4\": \"https://www.rockauto.com/info/583/BT5514-1-ANG.jpg\", \"5\": \"https://www.rockauto.com/info/583/S906A-1-FRO.jpg\", \"6\": \"https://www.rockauto.com/info/583/717F-1-ANG.jpg\", \"7\": \"https://www.rockauto.com/info/583/BT7016-1-TOP.jpg\", \"8\": \"https://www.rockauto.com/info/583/S899-1-FRO.jpg\", \"9\": \"https://www.rockauto.com/info/583/S905-1-FRO.jpg\", \"10\": \"https://www.rockauto.com/info/583/BG7019-2-SID.jpg\"}',\n",
       " 'json_price': '{\"default\": \"$171.99\"}'}"
      ]
     },
     "execution_count": 1,
     "metadata": {},
     "output_type": "execute_result"
    }
   ],
   "source": [
    "item = {'join_mpntcpc': 'MELLING;30250S;5756;8304960',\n",
    " 'no': 1,\n",
    " 'type_code': '5756',\n",
    " 'type_': 'Timing Chain & Component Kit',\n",
    " 'part_code': '8304960',\n",
    " 'part_number': '30250S',\n",
    " 'manufacturer': 'MELLING',\n",
    " 'url': 'https://www.rockauto.com/en/parts/MELLING,30250S,Lennon,5756',\n",
    " 'json_tag': '{\"0\": \"Standard Replacement\"}',\n",
    " 'json_integrate_sidenote': '{}',\n",
    " 'json_integrate_footnote': '{\"US\": {\"0\": \"174 Link Timing Chain; Except Mazdaspeed Model; To 09/01/2006\", \"1\": \"Automatic trans.; 174 Link Camshaft Chain; To 09/04/2006\", \"2\": \"Engines w/ 174 Link Primary Chains\", \"3\": \"Manual trans.; 174 Link Camshaft Chain; To 09/01/2006\"}, \"CA\": {\"0\": \"174 Link Timing Chain; Except Mazdaspeed Model; To 09/01/2006\", \"1\": \"Automatic trans.; 174 Link Camshaft Chain; To 09/04/2006\", \"2\": \"Engines w/ 174 Link Primary Chains\", \"3\": \"Manual trans.; 174 Link Camshaft Chain; To 09/01/2006\"}, \"MX\": {\"0\": \"174 Link Timing Chain; Except Mazdaspeed Model; To 09/01/2006\", \"1\": \"Automatic trans.; 174 Link Camshaft Chain; To 09/04/2006\", \"2\": \"Engines w/ 174 Link Primary Chains\", \"3\": \"Manual trans.; 174 Link Camshaft Chain; To 09/01/2006\"}}',\n",
    " 'vehicle_wo_engine': 'MAZDA 3 2004-2007\\nMAZDA 5 2006-2007\\nMAZDA 6 2003-2007',\n",
    " 'vehicle_w_engine': 'MAZDA 3 2004-2007 2.3L L4\\nMAZDA 5 2006-2007 2.3L L4\\nMAZDA 6 2003-2007 2.3L L4',\n",
    " 'engine': '2.3L L4',\n",
    " 'vehicle_wo_engine_exact': 'MAZDA 3 2004-2007\\nMAZDA 5 2006-2007\\nMAZDA 6 2003-2007',\n",
    " 'vehicle_w_engine_exact': 'MAZDA 3 2004-2007 2.3L L4\\nMAZDA 5 2006-2007 2.3L L4\\nMAZDA 6 2003-2007 2.3L L4',\n",
    " 'picture': '',\n",
    " 'part_not_found': 'no',\n",
    " 'choose': '',\n",
    " 'json_sidenote': '{}',\n",
    " 'info_url': 'https://www.rockauto.com/en/moreinfo.php?pk=8304960&cc=0&pt=5756',\n",
    " 'json_footnote': '{\"0\": \"Category: Timing Chain & Component Kit\"}',\n",
    " 'oem': '',\n",
    " 'json_src': '{\"0\": \"https://www.rockauto.com/info/583/3-0250S-1-KIT.jpg\", \"1\": \"https://www.rockauto.com/info/583/BT7015-2-SID.jpg\", \"2\": \"https://www.rockauto.com/info/583/BG5515-3-FRO.jpg\", \"3\": \"https://www.rockauto.com/info/583/715F-1-ANG.jpg\", \"4\": \"https://www.rockauto.com/info/583/BT5514-1-ANG.jpg\", \"5\": \"https://www.rockauto.com/info/583/S906A-1-FRO.jpg\", \"6\": \"https://www.rockauto.com/info/583/717F-1-ANG.jpg\", \"7\": \"https://www.rockauto.com/info/583/BT7016-1-TOP.jpg\", \"8\": \"https://www.rockauto.com/info/583/S899-1-FRO.jpg\", \"9\": \"https://www.rockauto.com/info/583/S905-1-FRO.jpg\", \"10\": \"https://www.rockauto.com/info/583/BG7019-2-SID.jpg\"}',\n",
    " 'json_price': '{\"default\": \"$171.99\"}'}\n",
    "\n",
    "item"
   ]
  },
  {
   "cell_type": "code",
   "execution_count": 2,
   "id": "a5edbf61-a3c0-49ab-837d-5bbec9ecdc38",
   "metadata": {},
   "outputs": [],
   "source": [
    "import json\n",
    "import requests\n",
    "\n",
    "import sys\n",
    "sys.path.append('../00.Tools')\n",
    "from configuration import generate_header, generate_proxy"
   ]
  },
  {
   "cell_type": "code",
   "execution_count": 3,
   "id": "b0edc620-4299-4ece-9cd4-52ed969355ac",
   "metadata": {},
   "outputs": [
    {
     "data": {
      "text/plain": [
       "200"
      ]
     },
     "execution_count": 3,
     "metadata": {},
     "output_type": "execute_result"
    }
   ],
   "source": [
    "data = {'func': 'getbuyersguide',\n",
    "        'payload': json.dumps({'partData': {'listing_data_essential': {'partkey': item['part_code']},\n",
    "                                            'listing_data_supplemental': {'partnumber': item['part_number'],\n",
    "                                                                          'catalogname': item['manufacturer']}}}),\n",
    "        'api_json_request': '1'}\n",
    "response = requests.post('https://www.rockauto.com/catalog/catalogapi.php',\n",
    "                         data=data,\n",
    "                         headers=generate_header(),\n",
    "                         proxies=generate_proxy(),\n",
    "                         timeout=(10, 15),\n",
    "                         allow_redirects=False)\n",
    "\n",
    "response.status_code"
   ]
  },
  {
   "cell_type": "code",
   "execution_count": 4,
   "id": "b73d1b92-399d-41a2-a282-3ce2dda451f7",
   "metadata": {
    "scrolled": true
   },
   "outputs": [
    {
     "data": {
      "text/plain": [
       "{'buyersguidepieces': {'body': '<div class=\"buyersguide-nested\"><div style=\"padding: .5em;\"><table class=\"nobmp\" style=\"width: 100%;\"><tr><td class=\"altrow-a-0\">MAZDA</td><td class=\"altrow-a-0\">3</td><td class=\"altrow-a-0\">2004-2007</td></tr><tr><td class=\"altrow-a-1\">MAZDA</td><td class=\"altrow-a-1\">5</td><td class=\"altrow-a-1\">2006-2007</td></tr><tr><td class=\"altrow-a-0\">MAZDA</td><td class=\"altrow-a-0\">6</td><td class=\"altrow-a-0\">2003-2007</td></tr></table><div>Please refer to catalog for application details.</div></div></div>',\n",
       "  'title': \"Buyer's Guide : MELLING 30250S \"},\n",
       " 'groupindex': None,\n",
       " 'collected_javascript': '/**UQ:5B426FC2**/\\nwindow.top.parent.window[\"_nck\"] = \"8LVLUxTaILBT+tLxkg8+3Ag7\\\\/0bbOhvn7P3rkFbL80\\\\/4ONrpMMyyMoTAzqUtg75DXjLFbtL0RWwG2TIS5g0HjN+BEpbJggwRicfW87qYxCroJDOCFdvb3koFH0TxTw3xVpCZZysmtwD7uBglIcpoF8qklmQj9c9qGC2lZ6myOuI=\";\\n'}"
      ]
     },
     "execution_count": 4,
     "metadata": {},
     "output_type": "execute_result"
    }
   ],
   "source": [
    "dict_ = response.json()\n",
    "\n",
    "dict_"
   ]
  },
  {
   "cell_type": "code",
   "execution_count": 5,
   "id": "2e1df0fc-96ab-438d-aa8b-162e56e6298b",
   "metadata": {},
   "outputs": [],
   "source": [
    "import re"
   ]
  },
  {
   "cell_type": "code",
   "execution_count": 6,
   "id": "8dd62629-a7b6-4fa4-a714-0840b0e82666",
   "metadata": {},
   "outputs": [
    {
     "data": {
      "text/plain": [
       "False"
      ]
     },
     "execution_count": 6,
     "metadata": {},
     "output_type": "execute_result"
    }
   ],
   "source": [
    "'redirect_to_url' in dict_ or re.sub(' +', ' ', dict_['buyersguidepieces']['title']).strip() != re.sub(' +', ' ', f'''Buyer's Guide : {item['manufacturer']} {item['part_number']}''').strip()"
   ]
  },
  {
   "cell_type": "code",
   "execution_count": 7,
   "id": "c31a861c-f5e1-4ea4-8102-a78887687884",
   "metadata": {},
   "outputs": [
    {
     "data": {
      "text/plain": [
       "False"
      ]
     },
     "execution_count": 7,
     "metadata": {},
     "output_type": "execute_result"
    }
   ],
   "source": [
    "dict_['buyersguidepieces']['body'].strip() == 'No applications found.'"
   ]
  },
  {
   "cell_type": "code",
   "execution_count": 8,
   "id": "d7c507e0-4818-4df0-99bb-8db22f174974",
   "metadata": {},
   "outputs": [],
   "source": [
    "from bs4 import BeautifulSoup"
   ]
  },
  {
   "cell_type": "code",
   "execution_count": 9,
   "id": "66a1741d-cbf1-424d-a8d5-c9fb75d186d2",
   "metadata": {},
   "outputs": [
    {
     "name": "stdout",
     "output_type": "stream",
     "text": [
      "<html>\n",
      " <head>\n",
      " </head>\n",
      " <body>\n",
      "  <div class=\"buyersguide-nested\">\n",
      "   <div style=\"padding: .5em;\">\n",
      "    <table class=\"nobmp\" style=\"width: 100%;\">\n",
      "     <tbody>\n",
      "      <tr>\n",
      "       <td class=\"altrow-a-0\">\n",
      "        MAZDA\n",
      "       </td>\n",
      "       <td class=\"altrow-a-0\">\n",
      "        3\n",
      "       </td>\n",
      "       <td class=\"altrow-a-0\">\n",
      "        2004-2007\n",
      "       </td>\n",
      "      </tr>\n",
      "      <tr>\n",
      "       <td class=\"altrow-a-1\">\n",
      "        MAZDA\n",
      "       </td>\n",
      "       <td class=\"altrow-a-1\">\n",
      "        5\n",
      "       </td>\n",
      "       <td class=\"altrow-a-1\">\n",
      "        2006-2007\n",
      "       </td>\n",
      "      </tr>\n",
      "      <tr>\n",
      "       <td class=\"altrow-a-0\">\n",
      "        MAZDA\n",
      "       </td>\n",
      "       <td class=\"altrow-a-0\">\n",
      "        6\n",
      "       </td>\n",
      "       <td class=\"altrow-a-0\">\n",
      "        2003-2007\n",
      "       </td>\n",
      "      </tr>\n",
      "     </tbody>\n",
      "    </table>\n",
      "    <div>\n",
      "     Please refer to catalog for application details.\n",
      "    </div>\n",
      "   </div>\n",
      "  </div>\n",
      " </body>\n",
      "</html>\n",
      "\n"
     ]
    }
   ],
   "source": [
    "soup = BeautifulSoup(dict_['buyersguidepieces']['body'], 'html5lib')\n",
    "\n",
    "with open('./8.compatibility.html', 'w', encoding='utf-8') as file:\n",
    "    file.write(str(soup))\n",
    "\n",
    "print(soup.prettify())"
   ]
  },
  {
   "cell_type": "code",
   "execution_count": 10,
   "id": "7a262bc8-7aa1-478f-aea1-093e557690cc",
   "metadata": {},
   "outputs": [],
   "source": [
    "from parsel import Selector"
   ]
  },
  {
   "cell_type": "code",
   "execution_count": 11,
   "id": "ec8e4179-8896-4031-acea-d7d0b0e8e459",
   "metadata": {},
   "outputs": [
    {
     "data": {
      "text/plain": [
       "<Selector query=None data='<html><head></head><body><div class=\"...'>"
      ]
     },
     "execution_count": 11,
     "metadata": {},
     "output_type": "execute_result"
    }
   ],
   "source": [
    "selector = Selector(text=str(soup))\n",
    "\n",
    "selector"
   ]
  },
  {
   "cell_type": "code",
   "execution_count": 12,
   "id": "63e234d8-f057-43ca-b349-90414aa9fa07",
   "metadata": {},
   "outputs": [
    {
     "data": {
      "text/plain": [
       "[<Selector query='//tr' data='<tr><td class=\"altrow-a-0\">MAZDA</td>...'>,\n",
       " <Selector query='//tr' data='<tr><td class=\"altrow-a-1\">MAZDA</td>...'>,\n",
       " <Selector query='//tr' data='<tr><td class=\"altrow-a-0\">MAZDA</td>...'>]"
      ]
     },
     "execution_count": 12,
     "metadata": {},
     "output_type": "execute_result"
    }
   ],
   "source": [
    "list_tr = selector.xpath('//tr')\n",
    "\n",
    "list_tr"
   ]
  },
  {
   "cell_type": "code",
   "execution_count": 13,
   "id": "10f39f6c-5492-4f96-8f8a-388ebb92b8d7",
   "metadata": {},
   "outputs": [
    {
     "data": {
      "text/plain": [
       "False"
      ]
     },
     "execution_count": 13,
     "metadata": {},
     "output_type": "execute_result"
    }
   ],
   "source": [
    "not list_tr"
   ]
  },
  {
   "cell_type": "code",
   "execution_count": 14,
   "id": "7dd70442-fc3c-4f75-89ee-edeb2a8c92c9",
   "metadata": {},
   "outputs": [
    {
     "name": "stdout",
     "output_type": "stream",
     "text": [
      "False\n",
      "False\n",
      "False\n"
     ]
    }
   ],
   "source": [
    "for tr in list_tr:\n",
    "    list_text = tr.xpath('./td/text()').getall()\n",
    "    print(len(list_text) not in [2, 3])"
   ]
  },
  {
   "cell_type": "code",
   "execution_count": 15,
   "id": "772bfb6a-9e9e-4b1e-a259-1c1d20117fde",
   "metadata": {},
   "outputs": [
    {
     "data": {
      "text/plain": [
       "{'join_mpntcpc': 'MELLING;30250S;5756;8304960',\n",
       " 'no': 1,\n",
       " 'type_code': '5756',\n",
       " 'type_': 'Timing Chain & Component Kit',\n",
       " 'part_code': '8304960',\n",
       " 'part_number': '30250S',\n",
       " 'manufacturer': 'MELLING',\n",
       " 'url': 'https://www.rockauto.com/en/parts/MELLING,30250S,Lennon,5756',\n",
       " 'json_tag': '{\"0\": \"Standard Replacement\"}',\n",
       " 'json_integrate_sidenote': '{}',\n",
       " 'json_integrate_footnote': '{\"US\": {\"0\": \"174 Link Timing Chain; Except Mazdaspeed Model; To 09/01/2006\", \"1\": \"Automatic trans.; 174 Link Camshaft Chain; To 09/04/2006\", \"2\": \"Engines w/ 174 Link Primary Chains\", \"3\": \"Manual trans.; 174 Link Camshaft Chain; To 09/01/2006\"}, \"CA\": {\"0\": \"174 Link Timing Chain; Except Mazdaspeed Model; To 09/01/2006\", \"1\": \"Automatic trans.; 174 Link Camshaft Chain; To 09/04/2006\", \"2\": \"Engines w/ 174 Link Primary Chains\", \"3\": \"Manual trans.; 174 Link Camshaft Chain; To 09/01/2006\"}, \"MX\": {\"0\": \"174 Link Timing Chain; Except Mazdaspeed Model; To 09/01/2006\", \"1\": \"Automatic trans.; 174 Link Camshaft Chain; To 09/04/2006\", \"2\": \"Engines w/ 174 Link Primary Chains\", \"3\": \"Manual trans.; 174 Link Camshaft Chain; To 09/01/2006\"}}',\n",
       " 'vehicle_wo_engine': 'MAZDA 3 2004-2007\\nMAZDA 5 2006-2007\\nMAZDA 6 2003-2007',\n",
       " 'vehicle_w_engine': 'MAZDA 3 2004-2007 2.3L L4\\nMAZDA 5 2006-2007 2.3L L4\\nMAZDA 6 2003-2007 2.3L L4',\n",
       " 'engine': '2.3L L4',\n",
       " 'vehicle_wo_engine_exact': 'MAZDA 3 2004-2007\\nMAZDA 5 2006-2007\\nMAZDA 6 2003-2007',\n",
       " 'vehicle_w_engine_exact': 'MAZDA 3 2004-2007 2.3L L4\\nMAZDA 5 2006-2007 2.3L L4\\nMAZDA 6 2003-2007 2.3L L4',\n",
       " 'picture': '',\n",
       " 'part_not_found': 'no',\n",
       " 'choose': '',\n",
       " 'json_sidenote': '{}',\n",
       " 'info_url': 'https://www.rockauto.com/en/moreinfo.php?pk=8304960&cc=0&pt=5756',\n",
       " 'json_footnote': '{\"0\": \"Category: Timing Chain & Component Kit\"}',\n",
       " 'oem': '',\n",
       " 'json_src': '{\"0\": \"https://www.rockauto.com/info/583/3-0250S-1-KIT.jpg\", \"1\": \"https://www.rockauto.com/info/583/BT7015-2-SID.jpg\", \"2\": \"https://www.rockauto.com/info/583/BG5515-3-FRO.jpg\", \"3\": \"https://www.rockauto.com/info/583/715F-1-ANG.jpg\", \"4\": \"https://www.rockauto.com/info/583/BT5514-1-ANG.jpg\", \"5\": \"https://www.rockauto.com/info/583/S906A-1-FRO.jpg\", \"6\": \"https://www.rockauto.com/info/583/717F-1-ANG.jpg\", \"7\": \"https://www.rockauto.com/info/583/BT7016-1-TOP.jpg\", \"8\": \"https://www.rockauto.com/info/583/S899-1-FRO.jpg\", \"9\": \"https://www.rockauto.com/info/583/S905-1-FRO.jpg\", \"10\": \"https://www.rockauto.com/info/583/BG7019-2-SID.jpg\"}',\n",
       " 'json_price': '{\"default\": \"$171.99\"}',\n",
       " 'compatibility_no': 1,\n",
       " 'make': 'MAZDA',\n",
       " 'model': '3',\n",
       " 'year': '2004-2007'}"
      ]
     },
     "execution_count": 15,
     "metadata": {},
     "output_type": "execute_result"
    }
   ],
   "source": [
    "list_text = list_tr[0].xpath('./td/text()').getall()\n",
    "{'join_mpntcpc': item['join_mpntcpc'],\n",
    " 'no': item['no'],\n",
    " 'type_code': item['type_code'],\n",
    " 'type_': item['type_'],\n",
    " 'part_code': item['part_code'],\n",
    " 'part_number': item['part_number'],\n",
    " 'manufacturer': item['manufacturer'],\n",
    " 'url': item['url'],\n",
    " 'json_tag': item['json_tag'],\n",
    " 'json_integrate_sidenote': item['json_integrate_sidenote'],\n",
    " 'json_integrate_footnote': item['json_integrate_footnote'],\n",
    " 'vehicle_wo_engine': item['vehicle_wo_engine'],\n",
    " 'vehicle_w_engine': item['vehicle_w_engine'],\n",
    " 'engine': item['engine'],\n",
    " 'vehicle_wo_engine_exact': item['vehicle_wo_engine_exact'],\n",
    " 'vehicle_w_engine_exact': item['vehicle_w_engine_exact'],\n",
    " 'picture': item['picture'],\n",
    " 'part_not_found': item['part_not_found'],\n",
    " 'choose': item['choose'],\n",
    " 'json_sidenote': item['json_sidenote'],\n",
    " 'info_url': item['info_url'],\n",
    " 'json_footnote': item['json_footnote'],\n",
    " 'oem': item['oem'],\n",
    " 'json_src': item['json_src'],\n",
    " 'json_price': item['json_price'],\n",
    " 'compatibility_no': 1,\n",
    " 'make': list_text[0].strip(),\n",
    " 'model': list_text[1].strip() if len(list_text) == 3 else '',\n",
    " 'year': list_text[-1].strip()}"
   ]
  },
  {
   "cell_type": "code",
   "execution_count": null,
   "id": "4fb9db88-17eb-403a-bd03-cb8a697a608b",
   "metadata": {},
   "outputs": [],
   "source": []
  }
 ],
 "metadata": {
  "kernelspec": {
   "display_name": "Python 3 (ipykernel)",
   "language": "python",
   "name": "python3"
  },
  "language_info": {
   "codemirror_mode": {
    "name": "ipython",
    "version": 3
   },
   "file_extension": ".py",
   "mimetype": "text/x-python",
   "name": "python",
   "nbconvert_exporter": "python",
   "pygments_lexer": "ipython3",
   "version": "3.12.7"
  }
 },
 "nbformat": 4,
 "nbformat_minor": 5
}
