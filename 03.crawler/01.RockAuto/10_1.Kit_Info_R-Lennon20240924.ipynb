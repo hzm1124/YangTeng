{
 "cells": [
  {
   "cell_type": "code",
   "execution_count": 1,
   "id": "f473f4d2-c3d0-4171-b04c-a1182c142b1c",
   "metadata": {},
   "outputs": [
    {
     "data": {
      "text/plain": [
       "['crawler_1.xlsx']"
      ]
     },
     "execution_count": 1,
     "metadata": {},
     "output_type": "execute_result"
    }
   ],
   "source": [
    "import os\n",
    "\n",
    "list_file = sorted(list(os.walk('./file/8.kit_part'))[0][2])\n",
    "while '.DS_Store' in list_file:\n",
    "    list_file.remove('.DS_Store')\n",
    "while '0.null.txt' in list_file:\n",
    "    list_file.remove('0.null.txt')\n",
    "\n",
    "list_file"
   ]
  },
  {
   "cell_type": "code",
   "execution_count": 2,
   "id": "ae1bdbc4-52bd-4405-aa7d-d44124eff671",
   "metadata": {},
   "outputs": [
    {
     "data": {
      "text/plain": [
       "'crawler_1.xlsx'"
      ]
     },
     "execution_count": 2,
     "metadata": {},
     "output_type": "execute_result"
    }
   ],
   "source": [
    "file = list_file[0]\n",
    "\n",
    "file"
   ]
  },
  {
   "cell_type": "code",
   "execution_count": 3,
   "id": "783f89be-0cdc-4912-942e-895cc5f09840",
   "metadata": {},
   "outputs": [],
   "source": [
    "import pandas as pd\n",
    "\n",
    "output_correct, output_error = pd.DataFrame(), pd.DataFrame()"
   ]
  },
  {
   "cell_type": "code",
   "execution_count": 4,
   "id": "ab423025-90eb-4c38-b77e-9e36b1d0326d",
   "metadata": {
    "scrolled": true
   },
   "outputs": [
    {
     "name": "stdout",
     "output_type": "stream",
     "text": [
      "总数量：41\n"
     ]
    },
    {
     "data": {
      "text/plain": [
       "['https://www.rockauto.com/en/moreinfo.php?pk=8921164&cc=0&pt=5724',\n",
       " 'https://www.rockauto.com/en/moreinfo.php?pk=8921168&cc=0&pt=5724',\n",
       " 'https://www.rockauto.com/en/moreinfo.php?pk=10110008&cc=0&pt=5724',\n",
       " 'https://www.rockauto.com/en/moreinfo.php?pk=10110012&cc=0&pt=5724',\n",
       " 'https://www.rockauto.com/en/moreinfo.php?pk=8306448&cc=0&pt=5724',\n",
       " 'https://www.rockauto.com/en/moreinfo.php?pk=8527968&cc=0&pt=5568',\n",
       " 'https://www.rockauto.com/en/moreinfo.php?pk=9659040&cc=0&pt=5724',\n",
       " 'https://www.rockauto.com/en/moreinfo.php?pk=9659056&cc=0&pt=5728',\n",
       " 'https://www.rockauto.com/en/moreinfo.php?pk=9659060&cc=0&pt=5728',\n",
       " 'https://www.rockauto.com/en/moreinfo.php?pk=9722104&cc=0&pt=5728',\n",
       " 'https://www.rockauto.com/en/moreinfo.php?pk=9722108&cc=0&pt=5728',\n",
       " 'https://www.rockauto.com/en/moreinfo.php?pk=8307424&cc=0&pt=5728',\n",
       " 'https://www.rockauto.com/en/moreinfo.php?pk=10110016&cc=0&pt=5728',\n",
       " 'https://www.rockauto.com/en/moreinfo.php?pk=10110020&cc=0&pt=5728',\n",
       " 'https://www.rockauto.com/en/moreinfo.php?pk=8921276&cc=0&pt=11859',\n",
       " 'https://www.rockauto.com/en/moreinfo.php?pk=9659088&cc=0&pt=5736',\n",
       " 'https://www.rockauto.com/en/moreinfo.php?pk=9659092&cc=0&pt=5736',\n",
       " 'https://www.rockauto.com/en/moreinfo.php?pk=9659096&cc=0&pt=5728',\n",
       " 'https://www.rockauto.com/en/moreinfo.php?pk=9659100&cc=0&pt=5728',\n",
       " 'https://www.rockauto.com/en/moreinfo.php?pk=9659104&cc=0&pt=5736',\n",
       " 'https://www.rockauto.com/en/moreinfo.php?pk=9659108&cc=0&pt=5736',\n",
       " 'https://www.rockauto.com/en/moreinfo.php?pk=8921288&cc=0&pt=5736',\n",
       " 'https://www.rockauto.com/en/moreinfo.php?pk=8308132&cc=0&pt=5736',\n",
       " 'https://www.rockauto.com/en/moreinfo.php?pk=10110028&cc=0&pt=5736',\n",
       " 'https://www.rockauto.com/en/moreinfo.php?pk=10110032&cc=0&pt=5736',\n",
       " 'https://www.rockauto.com/en/moreinfo.php?pk=10110036&cc=0&pt=5736',\n",
       " 'https://www.rockauto.com/en/moreinfo.php?pk=10110040&cc=0&pt=5728',\n",
       " 'https://www.rockauto.com/en/moreinfo.php?pk=8308292&cc=0&pt=5728',\n",
       " 'https://www.rockauto.com/en/moreinfo.php?pk=8308296&cc=0&pt=11860',\n",
       " 'https://www.rockauto.com/en/moreinfo.php?pk=9659204&cc=0&pt=5723',\n",
       " 'https://www.rockauto.com/en/moreinfo.php?pk=9659208&cc=0&pt=5723',\n",
       " 'https://www.rockauto.com/en/moreinfo.php?pk=9659212&cc=0&pt=5722',\n",
       " 'https://www.rockauto.com/en/moreinfo.php?pk=9659216&cc=0&pt=5722',\n",
       " 'https://www.rockauto.com/en/moreinfo.php?pk=9659220&cc=0&pt=5722',\n",
       " 'https://www.rockauto.com/en/moreinfo.php?pk=9659228&cc=0&pt=10465',\n",
       " 'https://www.rockauto.com/en/moreinfo.php?pk=8314844&cc=0&pt=5723',\n",
       " 'https://www.rockauto.com/en/moreinfo.php?pk=8921472&cc=0&pt=5589',\n",
       " 'https://www.rockauto.com/en/moreinfo.php?pk=8314860&cc=0&pt=5722',\n",
       " 'https://www.rockauto.com/en/moreinfo.php?pk=10454636&cc=0&pt=5723',\n",
       " 'https://www.rockauto.com/en/moreinfo.php?pk=10454640&cc=0&pt=5722',\n",
       " 'https://www.rockauto.com/en/moreinfo.php?pk=10454644&cc=0&pt=10465']"
      ]
     },
     "execution_count": 4,
     "metadata": {},
     "output_type": "execute_result"
    }
   ],
   "source": [
    "input_ = pd.read_excel(f'./file/8.kit_part/{file}',\n",
    "                       header=0,\n",
    "                       dtype=str).fillna('')\n",
    "\n",
    "print(f'总数量：{len(input_)}')\n",
    "input_['Kit_Info'].tolist()"
   ]
  },
  {
   "cell_type": "code",
   "execution_count": 5,
   "id": "5878a9f0-d639-4123-b6e0-bc564f72c2d6",
   "metadata": {},
   "outputs": [
    {
     "data": {
      "text/plain": [
       "0"
      ]
     },
     "execution_count": 5,
     "metadata": {},
     "output_type": "execute_result"
    }
   ],
   "source": [
    "a = 0\n",
    "\n",
    "a"
   ]
  },
  {
   "cell_type": "code",
   "execution_count": 6,
   "id": "9f61dd65-55da-4d0b-ba30-d0534eff0781",
   "metadata": {},
   "outputs": [
    {
     "data": {
      "text/plain": [
       "'error'"
      ]
     },
     "execution_count": 6,
     "metadata": {},
     "output_type": "execute_result"
    }
   ],
   "source": [
    "crawler_status = 'error'\n",
    "\n",
    "crawler_status"
   ]
  },
  {
   "cell_type": "code",
   "execution_count": 7,
   "id": "4da409e7-3f13-43df-a793-74cdf33ced70",
   "metadata": {
    "scrolled": true
   },
   "outputs": [
    {
     "name": "stdout",
     "output_type": "stream",
     "text": [
      "1\n",
      "2\n"
     ]
    },
    {
     "data": {
      "text/plain": [
       "<Response [200]>"
      ]
     },
     "execution_count": 7,
     "metadata": {},
     "output_type": "execute_result"
    }
   ],
   "source": [
    "import requests\n",
    "\n",
    "import sys\n",
    "sys.path.append('../00.Tools')\n",
    "from crawler_configuration import get_header, get_proxy\n",
    "\n",
    "from bs4 import BeautifulSoup\n",
    "from lxml import etree\n",
    "\n",
    "b = 0\n",
    "while True:\n",
    "    b += 1\n",
    "    print(b)\n",
    "    try:\n",
    "        request_url = input_.loc[a, 'Kit_Info']\n",
    "        \n",
    "        resp = requests.get(request_url,\n",
    "                            headers=get_header(),\n",
    "                            proxies=get_proxy(),\n",
    "                            timeout=(10, 10))\n",
    "        \n",
    "        if resp.status_code == 200:\n",
    "            soup = BeautifulSoup(resp.text, 'lxml')\n",
    "            html = etree.HTML(str(soup))\n",
    "\n",
    "            if html.xpath('//span[@class=\"la-btn-v\"]/text()')[0] == 'Continue Shopping':\n",
    "                with open('./kit_info.html', 'w', encoding='UTF-8') as file:\n",
    "                    file.write(str(soup))\n",
    "                break\n",
    "    except KeyboardInterrupt:\n",
    "        break\n",
    "    except:\n",
    "        continue\n",
    "\n",
    "resp"
   ]
  },
  {
   "cell_type": "code",
   "execution_count": 8,
   "id": "b968506a-f085-4811-a9c0-9af51b6f3e80",
   "metadata": {},
   "outputs": [
    {
     "data": {
      "text/plain": [
       "{'0': {'0': 'Chain Length-1', '1': '31.750\"'},\n",
       " '1': {'0': 'Chain Length-2', '1': '806.45 MM'},\n",
       " '2': {'0': 'Chain Material', '1': 'Hardened Steel'},\n",
       " '3': {'0': 'Chain Pitch-1', '1': '0.375\"'},\n",
       " '4': {'0': 'Chain Pitch-2', '1': '9.52 mm'},\n",
       " '5': {'0': 'Chain Type', '1': 'Roller'},\n",
       " '6': {'0': 'Chain Width-1', '1': '0.540\"'},\n",
       " '7': {'0': 'Chain Width-2', '1': '13.71 mm'},\n",
       " '8': {'0': 'Link Quantity', '1': '170'},\n",
       " '9': {'0': 'Roller Quantity', '1': '1'},\n",
       " '10': {'0': 'Row Quantity', '1': '1'},\n",
       " '11': {'0': 'Timing Mark Quantity', '1': '3'},\n",
       " '12': {'0': 'Timing Marks', '1': 'Yes'}}"
      ]
     },
     "execution_count": 8,
     "metadata": {},
     "output_type": "execute_result"
    }
   ],
   "source": [
    "import re\n",
    "\n",
    "dict_specification, list_tr, dict_count = {}, html.xpath('//table[@class=\"moreinfotable\"]/tr')[1:] if html.xpath('//table[@class=\"moreinfotable\"]/tr') else [], {}\n",
    "for i, tr in enumerate(list_tr):\n",
    "    list_td = [re.sub(r'<.*?>', '', etree.tostring(td).decode('utf-8')) for td in tr.xpath('./td')]\n",
    "    list_td = [re.sub(r' +', ' ', td).strip() for td in list_td]\n",
    "    if list_td[0] in dict_count:\n",
    "        dict_count[list_td[0]] += 1\n",
    "    else:\n",
    "        dict_count[list_td[0]] = 1\n",
    "\n",
    "dict_no = {}\n",
    "for i, tr in enumerate(list_tr):\n",
    "    dict_specification[str(i)] = {}\n",
    "\n",
    "    list_td = [re.sub(r'<.*?>', '', etree.tostring(td).decode('utf-8')) for td in tr.xpath('./td')]\n",
    "    list_td = [re.sub(r' +', ' ', td).strip() for td in list_td]\n",
    "    for j, td in enumerate(list_td):\n",
    "        if j == 0:\n",
    "            if dict_count[td] == 1:\n",
    "                dict_specification[str(i)][str(j)] = td\n",
    "            else:\n",
    "                if td in dict_no:\n",
    "                    dict_no[td] += 1\n",
    "                else:\n",
    "                    dict_no[td] = 1\n",
    "                dict_specification[str(i)][str(j)] = f'''{td}-{dict_no[td]}'''\n",
    "        else:\n",
    "            dict_specification[str(i)][str(j)] = td\n",
    "\n",
    "    if len(list_td) == 1:\n",
    "        dict_specification[str(i)]['1'] = True\n",
    "    elif len(list_td) > 2:\n",
    "        print('fuck')\n",
    "\n",
    "dict_specification"
   ]
  },
  {
   "cell_type": "code",
   "execution_count": 9,
   "id": "2450b6dc-244e-4ccb-b9fc-1f3304d06933",
   "metadata": {
    "scrolled": true
   },
   "outputs": [
    {
     "data": {
      "text/plain": [
       "{}"
      ]
     },
     "execution_count": 9,
     "metadata": {},
     "output_type": "execute_result"
    }
   ],
   "source": [
    "import json\n",
    "\n",
    "dict_kit, list_tr = {}, html.xpath('//section[contains(@aria-label, \"Components\") and contains(@aria-label, \"kit\")]/table/tbody/tr/td/table/tbody[contains(@class, \"listing-inner\") and (contains(@class, \"altrow-b-0\") or (contains(@class, \"altrow-b-1\")))]/tr')\n",
    "for i, tr in enumerate(list_tr):\n",
    "    dict_kit[str(i)] = {}\n",
    "\n",
    "    list_td = tr.xpath('./td')\n",
    "    dict_kit[str(i)]['Kit_Quantity'] = int(list_td[0].xpath('./text()')[0].strip())\n",
    "\n",
    "    # = = = = = = = = = = = = = = =\n",
    "\n",
    "    dict_kit[str(i)]['Kit_Type'] = list_td[1].xpath('./text()')[0].strip()\n",
    "\n",
    "    # = = = = = = = = = = = = = = =\n",
    "\n",
    "    dict_ = json.loads(list_td[2].xpath('./@value')[0])\n",
    "    dict_kit[str(i)]['Kit_Type Code'] = dict_['parttype']\n",
    "    dict_kit[str(i)]['Kit_Part Code'] = dict_['partkey']\n",
    "\n",
    "    # = = = = = = = = = = = = = = =\n",
    "\n",
    "    dict_2 = json.loads(tr.xpath('./input[contains(@id, \"listing_data_supplemental[\")]/@value')[0])\n",
    "    dict_kit[str(i)]['Kit_Part Number'] = dict_2['partnumber']\n",
    "    dict_kit[str(i)]['Kit_Manufacturer'] = dict_2['catalogname']\n",
    "\n",
    "    # = = = = = = = = = = = = = = =\n",
    "\n",
    "    dict_kit[str(i)]['Kit_Url'] = f'''https://www.rockauto.com/en/parts/{dict_kit[str(i)]['Kit_Manufacturer']},{dict_kit[str(i)]['Kit_Part Number']},{dict_kit[str(i)]['Kit_Type']},{dict_kit[str(i)]['Kit_Type Code']}'''\n",
    "\n",
    "    # = = = = = = = = = = = = = = =\n",
    "\n",
    "    list_info = tr.xpath('./div[@class=\"listing-text-row-moreinfo-truck\"]/a[@class=\"ra-btn ra-btn-moreinfo\"]')\n",
    "    dict_kit[str(i)]['Kit_Info'] = list_info[0].xpath('./@href')[0].strip() if list_info else ''\n",
    "    dict_kit[str(i)]['Kit_Info'] = dict_kit[str(i)]['Kit_Info'] if dict_kit[str(i)]['Kit_Info'].startswith('https://www.rockauto.com/en/moreinfo.php?') else f'''https://www.rockauto.com/en/moreinfo.php?pk={dict_kit[str(i)]['Kit_Part Code']}&cc=0&pt={dict_kit[str(i)]['Kit_Type Code']}&Lennon=1'''\n",
    "\n",
    "    # = = = = = = = = = = = = = = =\n",
    "    \n",
    "    list_src = list_td[3].xpath('./div/input[contains(@id, \"jsninlineimg[\")]')\n",
    "    dict_ = json.loads(list_src[0].xpath('./@value')[0]) if list_src else {}\n",
    "\n",
    "    dict_src = {}\n",
    "    if dict_:\n",
    "        list_src = dict_['Slots']\n",
    "        for j, src in enumerate(list_src):\n",
    "            dict_src[str(j)] = f'''https://www.rockauto.com{src['ImageData']['Full'].strip()}'''\n",
    "\n",
    "    dict_kit[str(i)]['Kit_Json_Src'] = json.dumps(dict_src)\n",
    "\n",
    "    # = = = = = = = = = = = = = = =\n",
    "\n",
    "    dict_kit[str(i)]['Kit_JOIN_MPNTCPC'] = f'''{dict_kit[str(i)]['Kit_Manufacturer']};{dict_kit[str(i)]['Kit_Part Number']};{dict_kit[str(i)]['Kit_Type Code']};{dict_kit[str(i)]['Kit_Part Code']}'''\n",
    "\n",
    "dict_kit"
   ]
  },
  {
   "cell_type": "code",
   "execution_count": 10,
   "id": "85f69e94-2d1b-4b9a-8acb-0536cc28c20f",
   "metadata": {},
   "outputs": [
    {
     "data": {
      "text/html": [
       "<div>\n",
       "<style scoped>\n",
       "    .dataframe tbody tr th:only-of-type {\n",
       "        vertical-align: middle;\n",
       "    }\n",
       "\n",
       "    .dataframe tbody tr th {\n",
       "        vertical-align: top;\n",
       "    }\n",
       "\n",
       "    .dataframe thead th {\n",
       "        text-align: right;\n",
       "    }\n",
       "</style>\n",
       "<table border=\"1\" class=\"dataframe\">\n",
       "  <thead>\n",
       "    <tr style=\"text-align: right;\">\n",
       "      <th></th>\n",
       "      <th>Kit_JOIN_MPNTCPC</th>\n",
       "      <th>Kit_Type</th>\n",
       "      <th>Kit_Manufacturer</th>\n",
       "      <th>Kit_Part Number</th>\n",
       "      <th>Kit_Vehicle</th>\n",
       "      <th>Kit_OEM</th>\n",
       "      <th>Kit_Picture</th>\n",
       "      <th>Kit_Url</th>\n",
       "      <th>Kit_Json_Src</th>\n",
       "      <th>Kit_Info</th>\n",
       "      <th>Kit_Choose</th>\n",
       "      <th>Kit_Json_Price</th>\n",
       "      <th>Kit_Json_Note 1</th>\n",
       "      <th>Kit_Json_Note 2</th>\n",
       "      <th>Kit_Json_Specification</th>\n",
       "      <th>Kit_Json_Kit</th>\n",
       "      <th>Kit_Type Code</th>\n",
       "      <th>Kit_Part Code</th>\n",
       "    </tr>\n",
       "  </thead>\n",
       "  <tbody>\n",
       "    <tr>\n",
       "      <th>0</th>\n",
       "      <td>MELLING;1025;5724;8921164</td>\n",
       "      <td>Timing Chain</td>\n",
       "      <td>MELLING</td>\n",
       "      <td>1025</td>\n",
       "      <td></td>\n",
       "      <td>135060P010;135060P011;1350631020;1350631030;13...</td>\n",
       "      <td></td>\n",
       "      <td>https://www.rockauto.com/en/parts/MELLING,1025...</td>\n",
       "      <td>{\"0\": \"https://www.rockauto.com/info/583/1025-...</td>\n",
       "      <td>https://www.rockauto.com/en/moreinfo.php?pk=89...</td>\n",
       "      <td></td>\n",
       "      <td>{\"0\": \"$58.79\"}</td>\n",
       "      <td>{}</td>\n",
       "      <td>{\"0\": \"Category: Timing Chain\"}</td>\n",
       "      <td>{\"0\": {\"0\": \"Chain Length-1\", \"1\": \"31.750\\\"\"}...</td>\n",
       "      <td>{}</td>\n",
       "      <td>5724</td>\n",
       "      <td>8921164</td>\n",
       "    </tr>\n",
       "  </tbody>\n",
       "</table>\n",
       "</div>"
      ],
      "text/plain": [
       "            Kit_JOIN_MPNTCPC      Kit_Type Kit_Manufacturer Kit_Part Number  \\\n",
       "0  MELLING;1025;5724;8921164  Timing Chain          MELLING            1025   \n",
       "\n",
       "  Kit_Vehicle                                            Kit_OEM Kit_Picture  \\\n",
       "0              135060P010;135060P011;1350631020;1350631030;13...               \n",
       "\n",
       "                                             Kit_Url  \\\n",
       "0  https://www.rockauto.com/en/parts/MELLING,1025...   \n",
       "\n",
       "                                        Kit_Json_Src  \\\n",
       "0  {\"0\": \"https://www.rockauto.com/info/583/1025-...   \n",
       "\n",
       "                                            Kit_Info Kit_Choose  \\\n",
       "0  https://www.rockauto.com/en/moreinfo.php?pk=89...              \n",
       "\n",
       "    Kit_Json_Price Kit_Json_Note 1                  Kit_Json_Note 2  \\\n",
       "0  {\"0\": \"$58.79\"}              {}  {\"0\": \"Category: Timing Chain\"}   \n",
       "\n",
       "                              Kit_Json_Specification Kit_Json_Kit  \\\n",
       "0  {\"0\": {\"0\": \"Chain Length-1\", \"1\": \"31.750\\\"\"}...           {}   \n",
       "\n",
       "  Kit_Type Code Kit_Part Code  \n",
       "0          5724       8921164  "
      ]
     },
     "execution_count": 10,
     "metadata": {},
     "output_type": "execute_result"
    }
   ],
   "source": [
    "df_temp = pd.DataFrame([{'Kit_JOIN_MPNTCPC': input_.loc[a, 'Kit_JOIN_MPNTCPC'],\n",
    "                         'Kit_Type': input_.loc[a, 'Kit_Type'],\n",
    "                         'Kit_Manufacturer': input_.loc[a, 'Kit_Manufacturer'],\n",
    "                         'Kit_Part Number': input_.loc[a, 'Kit_Part Number'],\n",
    "                         'Kit_Vehicle': input_.loc[a, 'Kit_Vehicle'],\n",
    "                         'Kit_OEM': input_.loc[a, 'Kit_OEM'],\n",
    "                         'Kit_Picture': input_.loc[a, 'Kit_Picture'],\n",
    "                         'Kit_Url': input_.loc[a, 'Kit_Url'],\n",
    "                         'Kit_Json_Src': input_.loc[a, 'Kit_Json_Src'],\n",
    "                         'Kit_Info': input_.loc[a, 'Kit_Info'],\n",
    "                         'Kit_Choose': input_.loc[a, 'Kit_Choose'],\n",
    "                         'Kit_Json_Price': input_.loc[a, 'Kit_Json_Price'],\n",
    "                         'Kit_Json_Note 1': input_.loc[a, 'Kit_Json_Note 1'],\n",
    "                         'Kit_Json_Note 2': input_.loc[a, 'Kit_Json_Note 2'],\n",
    "                         'Kit_Json_Specification': json.dumps(dict_specification),\n",
    "                         'Kit_Json_Kit': json.dumps(dict_kit),\n",
    "                         'Kit_Type Code': input_.loc[a, 'Kit_Type Code'],\n",
    "                         'Kit_Part Code': input_.loc[a, 'Kit_Part Code']}])\n",
    "\n",
    "output_correct = pd.concat([output_correct, df_temp], ignore_index=True).fillna('')\n",
    "\n",
    "output_correct"
   ]
  },
  {
   "cell_type": "code",
   "execution_count": 11,
   "id": "fc4ed7f6-ed4f-431c-b944-b1690309cdae",
   "metadata": {},
   "outputs": [
    {
     "data": {
      "text/plain": [
       "'ok'"
      ]
     },
     "execution_count": 11,
     "metadata": {},
     "output_type": "execute_result"
    }
   ],
   "source": [
    "crawler_status = 'ok'\n",
    "\n",
    "crawler_status"
   ]
  },
  {
   "cell_type": "code",
   "execution_count": 12,
   "id": "65c745d1-446e-46c5-9dec-819c9f7944d3",
   "metadata": {},
   "outputs": [
    {
     "data": {
      "text/html": [
       "<div>\n",
       "<style scoped>\n",
       "    .dataframe tbody tr th:only-of-type {\n",
       "        vertical-align: middle;\n",
       "    }\n",
       "\n",
       "    .dataframe tbody tr th {\n",
       "        vertical-align: top;\n",
       "    }\n",
       "\n",
       "    .dataframe thead th {\n",
       "        text-align: right;\n",
       "    }\n",
       "</style>\n",
       "<table border=\"1\" class=\"dataframe\">\n",
       "  <thead>\n",
       "    <tr style=\"text-align: right;\">\n",
       "      <th></th>\n",
       "    </tr>\n",
       "  </thead>\n",
       "  <tbody>\n",
       "  </tbody>\n",
       "</table>\n",
       "</div>"
      ],
      "text/plain": [
       "Empty DataFrame\n",
       "Columns: []\n",
       "Index: []"
      ]
     },
     "execution_count": 12,
     "metadata": {},
     "output_type": "execute_result"
    }
   ],
   "source": [
    "if crawler_status == 'error':\n",
    "    df_temp = pd.DataFrame([input_.iloc[a]]).reset_index(drop=True)\n",
    "    df_temp.loc[0, 'Request_Url'] = request_url\n",
    "    \n",
    "    output_error = pd.concat([output_error, df_temp], ignore_index=True).fillna('')\n",
    "\n",
    "output_error"
   ]
  },
  {
   "cell_type": "code",
   "execution_count": 13,
   "id": "7fd477de",
   "metadata": {},
   "outputs": [
    {
     "data": {
      "text/html": [
       "<div>\n",
       "<style scoped>\n",
       "    .dataframe tbody tr th:only-of-type {\n",
       "        vertical-align: middle;\n",
       "    }\n",
       "\n",
       "    .dataframe tbody tr th {\n",
       "        vertical-align: top;\n",
       "    }\n",
       "\n",
       "    .dataframe thead th {\n",
       "        text-align: right;\n",
       "    }\n",
       "</style>\n",
       "<table border=\"1\" class=\"dataframe\">\n",
       "  <thead>\n",
       "    <tr style=\"text-align: right;\">\n",
       "      <th></th>\n",
       "      <th>Kit_JOIN_MPNTCPC</th>\n",
       "      <th>Kit_Type</th>\n",
       "      <th>Kit_Manufacturer</th>\n",
       "      <th>Kit_Part Number</th>\n",
       "      <th>Kit_Vehicle</th>\n",
       "      <th>Kit_OEM</th>\n",
       "      <th>Kit_Picture</th>\n",
       "      <th>Kit_Url</th>\n",
       "      <th>Kit_Json_Src</th>\n",
       "      <th>Kit_Info</th>\n",
       "      <th>Kit_Choose</th>\n",
       "      <th>Kit_Json_Price</th>\n",
       "      <th>Kit_Json_Note 1</th>\n",
       "      <th>Kit_Json_Note 2</th>\n",
       "      <th>Kit_Json_Specification</th>\n",
       "      <th>Kit_Json_Kit</th>\n",
       "      <th>Kit_Type Code</th>\n",
       "      <th>Kit_Part Code</th>\n",
       "    </tr>\n",
       "  </thead>\n",
       "  <tbody>\n",
       "    <tr>\n",
       "      <th>0</th>\n",
       "      <td>MELLING;1025;5724;8921164</td>\n",
       "      <td>Timing Chain</td>\n",
       "      <td>MELLING</td>\n",
       "      <td>1025</td>\n",
       "      <td></td>\n",
       "      <td>135060P010;135060P011;1350631020;1350631030;13...</td>\n",
       "      <td></td>\n",
       "      <td>https://www.rockauto.com/en/parts/MELLING,1025...</td>\n",
       "      <td>{\"0\": \"https://www.rockauto.com/info/583/1025-...</td>\n",
       "      <td>https://www.rockauto.com/en/moreinfo.php?pk=89...</td>\n",
       "      <td></td>\n",
       "      <td>{\"0\": \"$58.79\"}</td>\n",
       "      <td>{}</td>\n",
       "      <td>{\"0\": \"Category: Timing Chain\"}</td>\n",
       "      <td>{\"0\": {\"0\": \"Chain Length-1\", \"1\": \"31.750\\\"\"}...</td>\n",
       "      <td>{}</td>\n",
       "      <td>5724</td>\n",
       "      <td>8921164</td>\n",
       "    </tr>\n",
       "  </tbody>\n",
       "</table>\n",
       "</div>"
      ],
      "text/plain": [
       "            Kit_JOIN_MPNTCPC      Kit_Type Kit_Manufacturer Kit_Part Number  \\\n",
       "0  MELLING;1025;5724;8921164  Timing Chain          MELLING            1025   \n",
       "\n",
       "  Kit_Vehicle                                            Kit_OEM Kit_Picture  \\\n",
       "0              135060P010;135060P011;1350631020;1350631030;13...               \n",
       "\n",
       "                                             Kit_Url  \\\n",
       "0  https://www.rockauto.com/en/parts/MELLING,1025...   \n",
       "\n",
       "                                        Kit_Json_Src  \\\n",
       "0  {\"0\": \"https://www.rockauto.com/info/583/1025-...   \n",
       "\n",
       "                                            Kit_Info Kit_Choose  \\\n",
       "0  https://www.rockauto.com/en/moreinfo.php?pk=89...              \n",
       "\n",
       "    Kit_Json_Price Kit_Json_Note 1                  Kit_Json_Note 2  \\\n",
       "0  {\"0\": \"$58.79\"}              {}  {\"0\": \"Category: Timing Chain\"}   \n",
       "\n",
       "                              Kit_Json_Specification Kit_Json_Kit  \\\n",
       "0  {\"0\": {\"0\": \"Chain Length-1\", \"1\": \"31.750\\\"\"}...           {}   \n",
       "\n",
       "  Kit_Type Code Kit_Part Code  \n",
       "0          5724       8921164  "
      ]
     },
     "execution_count": 13,
     "metadata": {},
     "output_type": "execute_result"
    }
   ],
   "source": [
    "if not output_correct.empty:\n",
    "    output_correct = output_correct.sort_values(by=['Kit_JOIN_MPNTCPC'],\n",
    "                                                ascending=[True],\n",
    "                                                ignore_index=True)\n",
    "    output_correct.to_excel('./test_kit_info.xlsx', index=False)\n",
    "\n",
    "output_correct"
   ]
  },
  {
   "cell_type": "code",
   "execution_count": 14,
   "id": "39a5441b-7f69-4812-aad8-7e10a1a24e78",
   "metadata": {},
   "outputs": [
    {
     "data": {
      "text/html": [
       "<div>\n",
       "<style scoped>\n",
       "    .dataframe tbody tr th:only-of-type {\n",
       "        vertical-align: middle;\n",
       "    }\n",
       "\n",
       "    .dataframe tbody tr th {\n",
       "        vertical-align: top;\n",
       "    }\n",
       "\n",
       "    .dataframe thead th {\n",
       "        text-align: right;\n",
       "    }\n",
       "</style>\n",
       "<table border=\"1\" class=\"dataframe\">\n",
       "  <thead>\n",
       "    <tr style=\"text-align: right;\">\n",
       "      <th></th>\n",
       "    </tr>\n",
       "  </thead>\n",
       "  <tbody>\n",
       "  </tbody>\n",
       "</table>\n",
       "</div>"
      ],
      "text/plain": [
       "Empty DataFrame\n",
       "Columns: []\n",
       "Index: []"
      ]
     },
     "execution_count": 14,
     "metadata": {},
     "output_type": "execute_result"
    }
   ],
   "source": [
    "if not output_error.empty:\n",
    "    output_error = output_error.sort_values(by=['Kit_JOIN_MPNTCPC'],\n",
    "                                            ascending=[True],\n",
    "                                            ignore_index=True)\n",
    "    output_error.to_excel('./test_kit_info_error.xlsx', index=False)\n",
    "\n",
    "output_error"
   ]
  },
  {
   "cell_type": "code",
   "execution_count": null,
   "id": "ba5d9f77-7464-4ad5-a42b-1fa0c0505832",
   "metadata": {},
   "outputs": [],
   "source": []
  }
 ],
 "metadata": {
  "kernelspec": {
   "display_name": "Python 3 (ipykernel)",
   "language": "python",
   "name": "python3"
  },
  "language_info": {
   "codemirror_mode": {
    "name": "ipython",
    "version": 3
   },
   "file_extension": ".py",
   "mimetype": "text/x-python",
   "name": "python",
   "nbconvert_exporter": "python",
   "pygments_lexer": "ipython3",
   "version": "3.11.3"
  }
 },
 "nbformat": 4,
 "nbformat_minor": 5
}
