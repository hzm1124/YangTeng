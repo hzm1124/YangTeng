{
 "cells": [
  {
   "cell_type": "code",
   "execution_count": 1,
   "id": "03f4a83e",
   "metadata": {},
   "outputs": [],
   "source": [
    "from openpyxl import load_workbook"
   ]
  },
  {
   "cell_type": "code",
   "execution_count": 7,
   "id": "e1bc3458",
   "metadata": {},
   "outputs": [
    {
     "name": "stdout",
     "output_type": "stream",
     "text": [
      "Src索引：11\n",
      "Pic索引：8\n",
      "\n",
      "总数量：353\n"
     ]
    }
   ],
   "source": [
    "wb = load_workbook('./crawler.xlsx')\n",
    "ws = wb.active\n",
    "\n",
    "for column in range(1, ws.max_column+1):\n",
    "    if ws.cell(1, column).value == 'Src':\n",
    "        src_index = column\n",
    "    elif ws.cell(1, column).value == 'Pic':\n",
    "        pic_index = column\n",
    "        \n",
    "print('Src索引：' + str(src_index))\n",
    "print('Pic索引：' + str(pic_index))\n",
    "print()     \n",
    "print('总数量：' + str(ws.max_row+1))"
   ]
  },
  {
   "cell_type": "code",
   "execution_count": 8,
   "id": "60e4ddd1",
   "metadata": {},
   "outputs": [],
   "source": [
    "import requests\n",
    "from io import BytesIO\n",
    "from openpyxl.drawing.image import Image"
   ]
  },
  {
   "cell_type": "code",
   "execution_count": 9,
   "id": "055dc9fa",
   "metadata": {},
   "outputs": [
    {
     "data": {
      "text/plain": [
       "<openpyxl.drawing.image.Image at 0x11f222e90>"
      ]
     },
     "execution_count": 9,
     "metadata": {},
     "output_type": "execute_result"
    }
   ],
   "source": [
    "i = 2\n",
    "\n",
    "src = ws.cell(i, src_index).value\n",
    "\n",
    "pic = Image(BytesIO(requests.get(src).content))\n",
    "\n",
    "pic"
   ]
  },
  {
   "cell_type": "code",
   "execution_count": 11,
   "id": "c318c45d",
   "metadata": {},
   "outputs": [
    {
     "name": "stdout",
     "output_type": "stream",
     "text": [
      "宽度：50.0\n",
      "高度：50.0\n"
     ]
    }
   ],
   "source": [
    "if pic.width >= pic.height:\n",
    "    pic.height = 50.0 / pic.width * pic.height\n",
    "    pic.width = 50.0\n",
    "else:\n",
    "    pic.width = 50.0 / pic.height * pic.width\n",
    "    pic.height = 50.0\n",
    "    \n",
    "print('宽度：' + str(pic.width))\n",
    "print('高度：' + str(pic.height))"
   ]
  },
  {
   "cell_type": "code",
   "execution_count": 12,
   "id": "d16f3e3f",
   "metadata": {},
   "outputs": [],
   "source": [
    "from openpyxl.utils import get_column_letter"
   ]
  },
  {
   "cell_type": "code",
   "execution_count": 13,
   "id": "d7b30348",
   "metadata": {},
   "outputs": [],
   "source": [
    "ws.add_image(pic, get_column_letter(pic_index) + str(i))\n",
    "\n",
    "wb.save('./crawler-pic.xlsx')"
   ]
  },
  {
   "cell_type": "code",
   "execution_count": null,
   "id": "22d4f3db",
   "metadata": {},
   "outputs": [],
   "source": []
  }
 ],
 "metadata": {
  "kernelspec": {
   "display_name": "Python 3 (ipykernel)",
   "language": "python",
   "name": "python3"
  },
  "language_info": {
   "codemirror_mode": {
    "name": "ipython",
    "version": 3
   },
   "file_extension": ".py",
   "mimetype": "text/x-python",
   "name": "python",
   "nbconvert_exporter": "python",
   "pygments_lexer": "ipython3",
   "version": "3.11.3"
  }
 },
 "nbformat": 4,
 "nbformat_minor": 5
}
