{
 "cells": [
  {
   "cell_type": "code",
   "execution_count": null,
   "id": "7a563377",
   "metadata": {},
   "outputs": [],
   "source": [
    "import pandas as pd\n",
    "\n",
    "df_menu = pd.read_excel('./item.xlsx', header=0)\n",
    "list_item = df_menu['Item'].to_list()\n",
    "\n",
    "print(len(list_item))\n",
    "list_item"
   ]
  },
  {
   "cell_type": "code",
   "execution_count": null,
   "id": "0c4fbe46",
   "metadata": {},
   "outputs": [],
   "source": [
    "df = pd.DataFrame(columns=['Item',\n",
    "                           'Vehicle',\n",
    "                           'status'])"
   ]
  },
  {
   "cell_type": "code",
   "execution_count": 4,
   "id": "8e30175f",
   "metadata": {},
   "outputs": [],
   "source": [
    "import requests\n",
    "from bs4 import BeautifulSoup\n",
    "from lxml import etree"
   ]
  },
  {
   "cell_type": "code",
   "execution_count": 5,
   "id": "bed209e2",
   "metadata": {
    "scrolled": true
   },
   "outputs": [
    {
     "name": "stdout",
     "output_type": "stream",
     "text": [
      "0\n",
      "1\n",
      "2\n",
      "3\n",
      "4\n",
      "5\n",
      "6\n",
      "7\n",
      "8\n",
      "9\n",
      "10\n",
      "11\n",
      "Ford Expedition Eddie Bauer V8 4.6L\n",
      "Ford Expedition Eddie Bauer V8 5.4L\n",
      "Ford Expedition XLT V8 4.6L\n",
      "Ford Expedition XLT V8 5.4L\n",
      "Ford Expedition XLT V8 4.6L\n",
      "Ford Expedition XLT V8 5.4L\n",
      "Ford Expedition XLT Plus V8 4.6L\n",
      "Ford Expedition XLT Plus V8 5.4L\n",
      "Ford F-150 Austera V6 4.2L\n",
      "Ford F-150 Base V6 4.2L\n",
      "Ford F-150 Base V8 4.6L\n",
      "Ford F-150 Base V8 5.4L\n",
      "Ford F-150 Base V8 4.6L\n",
      "Ford F-150 Base V8 5.4L\n",
      "Ford F-150 Base V6 4.2L\n",
      "Ford F-150 Harley-Davidson Edition V8 5.4L\n",
      "Ford F-150 King Ranch V8 4.6L\n",
      "Ford F-150 King Ranch V8 5.4L\n",
      "Ford F-150 King Ranch V8 5.4L\n",
      "Ford F-150 Lariat V8 4.6L\n",
      "Ford F-150 Lariat V8 5.4L\n",
      "Ford F-150 Lariat V8 5.4L\n",
      "Ford F-150 Lariat V8 4.6L\n",
      "Ford F-150 Lightning V8 5.4L\n",
      "Ford F-150 XL V6 4.2L\n",
      "Ford F-150 XL V8 4.6L\n",
      "Ford F-150 XL V8 5.4L\n",
      "Ford F-150 XL V8 5.4L\n",
      "Ford F-150 XL V6 4.2L\n",
      "Ford F-150 XL V8 4.6L\n",
      "Ford F-150 XL L6 4.9L\n",
      "Ford F-150 XLT V6 4.2L\n",
      "Ford F-150 XLT V8 4.6L\n",
      "Ford F-150 XLT V8 5.4L\n",
      "Ford F-150 XLT V6 4.2L\n",
      "Ford F-150 XLT V8 5.4L\n",
      "Ford F-150 XLT V6 4.2L\n",
      "Ford F-150 XLT V8 4.6L\n",
      "Ford F-150 XLT L6 4.9L\n",
      "Ford F-250 Base V8 4.6L\n",
      "Ford F-250 Base V8 5.4L\n",
      "Ford F-250 Lariat V8 4.6L\n",
      "Ford F-250 Lariat V8 5.4L\n",
      "Ford F-250 Lariat V8 5.4L\n",
      "Ford F-250 Lariat V8 4.6L\n",
      "Ford F-250 XL V8 4.6L\n",
      "Ford F-250 XL V8 5.4L\n",
      "Ford F-250 XLT V8 4.6L\n",
      "Ford F-250 XLT V8 5.4L\n",
      "Ford F-250 XLT V8 4.6L\n",
      "Ford F-250 XLT V8 5.4L\n",
      "Ford F-250 XLT VIP V8 4.6L\n",
      "Ford Lobo (Mexico) Base V8 5.4L\n",
      "Ford Lobo (Mexico) Harley-Davidson Edition V8 5.4L\n",
      "Ford Lobo (Mexico) King Ranch V8 5.4L\n",
      "Ford Lobo (Mexico) Lariat V8 5.4L\n",
      "Ford Lobo (Mexico) Sport V8 5.4L\n",
      "Ford Lobo (Mexico) Sport FX4 V8 4.6L\n",
      "Ford Lobo (Mexico) Sport FX4 V8 5.4L\n",
      "Ford Lobo (Mexico) XLT V8 4.6L\n",
      "Ford Lobo (Mexico) XLT V8 5.4L\n",
      "Lincoln Blackwood Base V8 5.4L\n",
      "Lincoln Navigator Base V8 5.4L\n"
     ]
    }
   ],
   "source": [
    "i = 1\n",
    "\n",
    "vehicle = ''\n",
    "page = 0\n",
    "while True:\n",
    "    print(page)\n",
    "    url = 'https://ecat.spectrapremium.com/en/parts/' + str(list_item[i]) + '?page=' + str(page+1)\n",
    "    resp = requests.get(url).text\n",
    "    soup = BeautifulSoup(resp, 'lxml')\n",
    "    html = etree.HTML(str(soup))\n",
    "    \n",
    "    list_h1 = html.xpath('//h1[@class=\"titre titre--1\"]')\n",
    "    if len(list_h1) != 0 and list_h1[0].text == 'Not Found':\n",
    "        break\n",
    "\n",
    "    list_row = html.xpath('//h3[@class=\"part__titre-groupe-vehicules\"]')\n",
    "    for row in list_row:\n",
    "        vehicle += row.text + '\\n'\n",
    "    \n",
    "    page += 1\n",
    "\n",
    "print()\n",
    "print(vehicle.strip())"
   ]
  },
  {
   "cell_type": "code",
   "execution_count": 6,
   "id": "113e913f",
   "metadata": {},
   "outputs": [],
   "source": [
    "df_temp = pd.DataFrame({'Item': str(list_item[i]),\n",
    "                        'Vehicle': vehicle.strip(),\n",
    "                        'status': ['ok']})"
   ]
  },
  {
   "cell_type": "code",
   "execution_count": 7,
   "id": "477a9b1f",
   "metadata": {},
   "outputs": [
    {
     "data": {
      "text/html": [
       "<div>\n",
       "<style scoped>\n",
       "    .dataframe tbody tr th:only-of-type {\n",
       "        vertical-align: middle;\n",
       "    }\n",
       "\n",
       "    .dataframe tbody tr th {\n",
       "        vertical-align: top;\n",
       "    }\n",
       "\n",
       "    .dataframe thead th {\n",
       "        text-align: right;\n",
       "    }\n",
       "</style>\n",
       "<table border=\"1\" class=\"dataframe\">\n",
       "  <thead>\n",
       "    <tr style=\"text-align: right;\">\n",
       "      <th></th>\n",
       "      <th>Item</th>\n",
       "      <th>车型</th>\n",
       "      <th>status</th>\n",
       "    </tr>\n",
       "  </thead>\n",
       "  <tbody>\n",
       "    <tr>\n",
       "      <th>0</th>\n",
       "      <td>93001</td>\n",
       "      <td>Ford Expedition Eddie Bauer V8 4.6L\\nFord Expe...</td>\n",
       "      <td>ok</td>\n",
       "    </tr>\n",
       "  </tbody>\n",
       "</table>\n",
       "</div>"
      ],
      "text/plain": [
       "    Item                                                 车型 status\n",
       "0  93001  Ford Expedition Eddie Bauer V8 4.6L\\nFord Expe...     ok"
      ]
     },
     "execution_count": 7,
     "metadata": {},
     "output_type": "execute_result"
    }
   ],
   "source": [
    "df = pd.concat([df, df_temp], ignore_index=True).fillna('')\n",
    "\n",
    "df"
   ]
  },
  {
   "cell_type": "code",
   "execution_count": null,
   "id": "52f49bea",
   "metadata": {},
   "outputs": [],
   "source": []
  }
 ],
 "metadata": {
  "kernelspec": {
   "display_name": "Python 3 (ipykernel)",
   "language": "python",
   "name": "python3"
  },
  "language_info": {
   "codemirror_mode": {
    "name": "ipython",
    "version": 3
   },
   "file_extension": ".py",
   "mimetype": "text/x-python",
   "name": "python",
   "nbconvert_exporter": "python",
   "pygments_lexer": "ipython3",
   "version": "3.11.3"
  }
 },
 "nbformat": 4,
 "nbformat_minor": 5
}
