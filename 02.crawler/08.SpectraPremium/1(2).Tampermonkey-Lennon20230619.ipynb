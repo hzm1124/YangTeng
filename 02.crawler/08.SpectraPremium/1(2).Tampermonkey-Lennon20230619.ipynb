{
 "cells": [
  {
   "cell_type": "code",
   "execution_count": 1,
   "id": "14ca4672",
   "metadata": {},
   "outputs": [],
   "source": [
    "import os"
   ]
  },
  {
   "cell_type": "code",
   "execution_count": 2,
   "id": "a3369d1a",
   "metadata": {},
   "outputs": [
    {
     "data": {
      "text/plain": [
       "5"
      ]
     },
     "execution_count": 2,
     "metadata": {},
     "output_type": "execute_result"
    }
   ],
   "source": [
    "list_file = list(os.walk('./menu'))[0][2]\n",
    "if '.DS_Store' in list_file:\n",
    "   list_file.remove('.DS_Store')\n",
    "\n",
    "len(list_file)"
   ]
  },
  {
   "cell_type": "code",
   "execution_count": 3,
   "id": "552c5c8c",
   "metadata": {},
   "outputs": [],
   "source": [
    "import pandas as pd"
   ]
  },
  {
   "cell_type": "code",
   "execution_count": 4,
   "id": "19a50da8",
   "metadata": {},
   "outputs": [
    {
     "data": {
      "text/html": [
       "<div>\n",
       "<style scoped>\n",
       "    .dataframe tbody tr th:only-of-type {\n",
       "        vertical-align: middle;\n",
       "    }\n",
       "\n",
       "    .dataframe tbody tr th {\n",
       "        vertical-align: top;\n",
       "    }\n",
       "\n",
       "    .dataframe thead th {\n",
       "        text-align: right;\n",
       "    }\n",
       "</style>\n",
       "<table border=\"1\" class=\"dataframe\">\n",
       "  <thead>\n",
       "    <tr style=\"text-align: right;\">\n",
       "      <th></th>\n",
       "      <th>Part_Number</th>\n",
       "      <th>Url</th>\n",
       "    </tr>\n",
       "  </thead>\n",
       "  <tbody>\n",
       "  </tbody>\n",
       "</table>\n",
       "</div>"
      ],
      "text/plain": [
       "Empty DataFrame\n",
       "Columns: [Part_Number, Url]\n",
       "Index: []"
      ]
     },
     "execution_count": 4,
     "metadata": {},
     "output_type": "execute_result"
    }
   ],
   "source": [
    "df = pd.DataFrame(columns=['Part_Number', 'Url'])\n",
    "\n",
    "df"
   ]
  },
  {
   "cell_type": "code",
   "execution_count": 5,
   "id": "000d53d7",
   "metadata": {},
   "outputs": [],
   "source": [
    "import json"
   ]
  },
  {
   "cell_type": "code",
   "execution_count": 6,
   "id": "1d3df716",
   "metadata": {},
   "outputs": [
    {
     "name": "stdout",
     "output_type": "stream",
     "text": [
      "ecat.spectrapremium.com_en_parts_line=electronic_throttle_bodies&universal=0&hide-exclusives-canadian-market=0&page=5&sort=part-number&limit=50.txt\n",
      "ecat.spectrapremium.com_en_parts_line=electronic_throttle_bodies&universal=0&hide-exclusives-canadian-market=0&page=2&sort=part-number&limit=50.txt\n",
      "ecat.spectrapremium.com_en_parts_line=electronic_throttle_bodies&universal=0&hide-exclusives-canadian-market=0&page=4&sort=part-number&limit=50.txt\n",
      "ecat.spectrapremium.com_en_parts_line=electronic_throttle_bodies&universal=0&hide-exclusives-canadian-market=0&sort=part-number&limit=50.txt\n",
      "ecat.spectrapremium.com_en_parts_line=electronic_throttle_bodies&universal=0&hide-exclusives-canadian-market=0&page=3&sort=part-number&limit=50.txt\n"
     ]
    }
   ],
   "source": [
    "for file in list_file:\n",
    "    print(file)\n",
    "    with open('./menu/' + file) as f:\n",
    "        list_part = f.read()[1:-1].split('},{')\n",
    "        for i in range(len(list_part)):\n",
    "            if i == 0:\n",
    "                part = json.loads(list_part[i] + '}')\n",
    "            elif i == len(list_part) - 1:\n",
    "                part = json.loads('{' + list_part[i])\n",
    "            else:\n",
    "                part = json.loads('{' + list_part[i] + '}')\n",
    "                \n",
    "            df_temp = pd.DataFrame([{'Part_Number': part['Part_Number'],\n",
    "                                     'Url': part['Url']}])\n",
    "            df = pd.concat([df, df_temp], ignore_index=True)"
   ]
  },
  {
   "cell_type": "code",
   "execution_count": 7,
   "id": "e7c8e52b",
   "metadata": {},
   "outputs": [
    {
     "data": {
      "text/html": [
       "<div>\n",
       "<style scoped>\n",
       "    .dataframe tbody tr th:only-of-type {\n",
       "        vertical-align: middle;\n",
       "    }\n",
       "\n",
       "    .dataframe tbody tr th {\n",
       "        vertical-align: top;\n",
       "    }\n",
       "\n",
       "    .dataframe thead th {\n",
       "        text-align: right;\n",
       "    }\n",
       "</style>\n",
       "<table border=\"1\" class=\"dataframe\">\n",
       "  <thead>\n",
       "    <tr style=\"text-align: right;\">\n",
       "      <th></th>\n",
       "      <th>Part_Number</th>\n",
       "      <th>Url</th>\n",
       "    </tr>\n",
       "  </thead>\n",
       "  <tbody>\n",
       "    <tr>\n",
       "      <th>0</th>\n",
       "      <td>TB1274</td>\n",
       "      <td>https://ecat.spectrapremium.com/en/parts/TB1274</td>\n",
       "    </tr>\n",
       "    <tr>\n",
       "      <th>1</th>\n",
       "      <td>TB1276</td>\n",
       "      <td>https://ecat.spectrapremium.com/en/parts/TB1276</td>\n",
       "    </tr>\n",
       "    <tr>\n",
       "      <th>2</th>\n",
       "      <td>TB1277</td>\n",
       "      <td>https://ecat.spectrapremium.com/en/parts/TB1277</td>\n",
       "    </tr>\n",
       "    <tr>\n",
       "      <th>3</th>\n",
       "      <td>TB1279</td>\n",
       "      <td>https://ecat.spectrapremium.com/en/parts/TB1279</td>\n",
       "    </tr>\n",
       "    <tr>\n",
       "      <th>4</th>\n",
       "      <td>TB1283</td>\n",
       "      <td>https://ecat.spectrapremium.com/en/parts/TB1283</td>\n",
       "    </tr>\n",
       "    <tr>\n",
       "      <th>...</th>\n",
       "      <td>...</td>\n",
       "      <td>...</td>\n",
       "    </tr>\n",
       "    <tr>\n",
       "      <th>216</th>\n",
       "      <td>TB1175</td>\n",
       "      <td>https://ecat.spectrapremium.com/en/parts/TB1175</td>\n",
       "    </tr>\n",
       "    <tr>\n",
       "      <th>217</th>\n",
       "      <td>TB1176</td>\n",
       "      <td>https://ecat.spectrapremium.com/en/parts/TB1176</td>\n",
       "    </tr>\n",
       "    <tr>\n",
       "      <th>218</th>\n",
       "      <td>TB1177</td>\n",
       "      <td>https://ecat.spectrapremium.com/en/parts/TB1177</td>\n",
       "    </tr>\n",
       "    <tr>\n",
       "      <th>219</th>\n",
       "      <td>TB1178</td>\n",
       "      <td>https://ecat.spectrapremium.com/en/parts/TB1178</td>\n",
       "    </tr>\n",
       "    <tr>\n",
       "      <th>220</th>\n",
       "      <td>TB1179</td>\n",
       "      <td>https://ecat.spectrapremium.com/en/parts/TB1179</td>\n",
       "    </tr>\n",
       "  </tbody>\n",
       "</table>\n",
       "<p>221 rows × 2 columns</p>\n",
       "</div>"
      ],
      "text/plain": [
       "    Part_Number                                              Url\n",
       "0        TB1274  https://ecat.spectrapremium.com/en/parts/TB1274\n",
       "1        TB1276  https://ecat.spectrapremium.com/en/parts/TB1276\n",
       "2        TB1277  https://ecat.spectrapremium.com/en/parts/TB1277\n",
       "3        TB1279  https://ecat.spectrapremium.com/en/parts/TB1279\n",
       "4        TB1283  https://ecat.spectrapremium.com/en/parts/TB1283\n",
       "..          ...                                              ...\n",
       "216      TB1175  https://ecat.spectrapremium.com/en/parts/TB1175\n",
       "217      TB1176  https://ecat.spectrapremium.com/en/parts/TB1176\n",
       "218      TB1177  https://ecat.spectrapremium.com/en/parts/TB1177\n",
       "219      TB1178  https://ecat.spectrapremium.com/en/parts/TB1178\n",
       "220      TB1179  https://ecat.spectrapremium.com/en/parts/TB1179\n",
       "\n",
       "[221 rows x 2 columns]"
      ]
     },
     "execution_count": 7,
     "metadata": {},
     "output_type": "execute_result"
    }
   ],
   "source": [
    "df.to_excel('./menu.xlsx', index=False)\n",
    "\n",
    "df"
   ]
  },
  {
   "cell_type": "code",
   "execution_count": null,
   "id": "f1b946e9",
   "metadata": {},
   "outputs": [],
   "source": []
  }
 ],
 "metadata": {
  "kernelspec": {
   "display_name": "Python 3 (ipykernel)",
   "language": "python",
   "name": "python3"
  },
  "language_info": {
   "codemirror_mode": {
    "name": "ipython",
    "version": 3
   },
   "file_extension": ".py",
   "mimetype": "text/x-python",
   "name": "python",
   "nbconvert_exporter": "python",
   "pygments_lexer": "ipython3",
   "version": "3.11.3"
  }
 },
 "nbformat": 4,
 "nbformat_minor": 5
}
