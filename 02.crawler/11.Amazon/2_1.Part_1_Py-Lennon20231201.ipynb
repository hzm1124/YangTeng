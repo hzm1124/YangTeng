{
 "cells": [
  {
   "cell_type": "code",
   "execution_count": 1,
   "id": "440a5ef3",
   "metadata": {},
   "outputs": [],
   "source": [
    "import pandas as pd"
   ]
  },
  {
   "cell_type": "code",
   "execution_count": 2,
   "id": "160b7036",
   "metadata": {},
   "outputs": [
    {
     "data": {
      "text/html": [
       "<div>\n",
       "<style scoped>\n",
       "    .dataframe tbody tr th:only-of-type {\n",
       "        vertical-align: middle;\n",
       "    }\n",
       "\n",
       "    .dataframe tbody tr th {\n",
       "        vertical-align: top;\n",
       "    }\n",
       "\n",
       "    .dataframe thead th {\n",
       "        text-align: right;\n",
       "    }\n",
       "</style>\n",
       "<table border=\"1\" class=\"dataframe\">\n",
       "  <thead>\n",
       "    <tr style=\"text-align: right;\">\n",
       "      <th></th>\n",
       "      <th>Url</th>\n",
       "      <th>No.</th>\n",
       "    </tr>\n",
       "  </thead>\n",
       "  <tbody>\n",
       "    <tr>\n",
       "      <th>0</th>\n",
       "      <td>https://www.amazon.com/ROADFAR-Pressure-Monito...</td>\n",
       "      <td>1</td>\n",
       "    </tr>\n",
       "    <tr>\n",
       "      <th>1</th>\n",
       "      <td>https://www.amazon.com/JDIAG-Programming-Train...</td>\n",
       "      <td>2</td>\n",
       "    </tr>\n",
       "    <tr>\n",
       "      <th>2</th>\n",
       "      <td>https://www.amazon.com/ACLONG-Highlander-Monit...</td>\n",
       "      <td>3</td>\n",
       "    </tr>\n",
       "    <tr>\n",
       "      <th>3</th>\n",
       "      <td>https://www.amazon.com/KINGBOLEN-EL-50448-Auto...</td>\n",
       "      <td>4</td>\n",
       "    </tr>\n",
       "    <tr>\n",
       "      <th>4</th>\n",
       "      <td>https://www.amazon.com/VXDAS-Relearn-GL50448-P...</td>\n",
       "      <td>5</td>\n",
       "    </tr>\n",
       "    <tr>\n",
       "      <th>...</th>\n",
       "      <td>...</td>\n",
       "      <td>...</td>\n",
       "    </tr>\n",
       "    <tr>\n",
       "      <th>95</th>\n",
       "      <td>https://www.amazon.com/EZ-Sensor-Programmable-...</td>\n",
       "      <td>46</td>\n",
       "    </tr>\n",
       "    <tr>\n",
       "      <th>96</th>\n",
       "      <td>https://www.amazon.com/EL-50448-Pressure-Activ...</td>\n",
       "      <td>47</td>\n",
       "    </tr>\n",
       "    <tr>\n",
       "      <th>97</th>\n",
       "      <td>https://www.amazon.com/Arozk-Pressure-Programm...</td>\n",
       "      <td>48</td>\n",
       "    </tr>\n",
       "    <tr>\n",
       "      <th>98</th>\n",
       "      <td>https://www.amazon.com/Jsueng-Pressure-DE8T-1A...</td>\n",
       "      <td>49</td>\n",
       "    </tr>\n",
       "    <tr>\n",
       "      <th>99</th>\n",
       "      <td>https://www.amazon.com/Replacement-56029398AB-...</td>\n",
       "      <td>50</td>\n",
       "    </tr>\n",
       "  </tbody>\n",
       "</table>\n",
       "<p>100 rows × 2 columns</p>\n",
       "</div>"
      ],
      "text/plain": [
       "                                                  Url No.\n",
       "0   https://www.amazon.com/ROADFAR-Pressure-Monito...   1\n",
       "1   https://www.amazon.com/JDIAG-Programming-Train...   2\n",
       "2   https://www.amazon.com/ACLONG-Highlander-Monit...   3\n",
       "3   https://www.amazon.com/KINGBOLEN-EL-50448-Auto...   4\n",
       "4   https://www.amazon.com/VXDAS-Relearn-GL50448-P...   5\n",
       "..                                                ...  ..\n",
       "95  https://www.amazon.com/EZ-Sensor-Programmable-...  46\n",
       "96  https://www.amazon.com/EL-50448-Pressure-Activ...  47\n",
       "97  https://www.amazon.com/Arozk-Pressure-Programm...  48\n",
       "98  https://www.amazon.com/Jsueng-Pressure-DE8T-1A...  49\n",
       "99  https://www.amazon.com/Replacement-56029398AB-...  50\n",
       "\n",
       "[100 rows x 2 columns]"
      ]
     },
     "execution_count": 2,
     "metadata": {},
     "output_type": "execute_result"
    }
   ],
   "source": [
    "df = pd.read_excel('./menu.xlsx',\n",
    "                   header=0,\n",
    "                   dtype=str).fillna('')\n",
    "\n",
    "df"
   ]
  },
  {
   "cell_type": "code",
   "execution_count": 3,
   "id": "b9538500",
   "metadata": {},
   "outputs": [],
   "source": [
    "from tqdm import tqdm\n",
    "import pyperclip"
   ]
  },
  {
   "cell_type": "code",
   "execution_count": 4,
   "id": "b2f928b6",
   "metadata": {},
   "outputs": [
    {
     "name": "stderr",
     "output_type": "stream",
     "text": [
      "Process: 100%|██████████████████████████| 100/100 [00:00<00:00, 56527.01it/s]\n"
     ]
    },
    {
     "data": {
      "text/plain": [
       "'[{\"Url\":\"https://www.amazon.com/ROADFAR-Pressure-Monitoring-Cadillac-Chevrolet/dp/B07JPLBCJP/ref=zg_bs_g_2201764011_sccl_1/132-1177089-5493921?psc=1\"},{\"Url\":\"https://www.amazon.com/JDIAG-Programming-Training-Pressure-8C2Z-1A203/dp/B07ZKJ4TS1/ref=zg_bs_g_2201764011_sccl_2/132-1177089-5493921?psc=1\"},{\"Url\":\"https://www.amazon.com/ACLONG-Highlander-Monitoring-Replacement-4260706020/dp/B0BNVLLNVX/ref=zg_bs_g_2201764011_sccl_3/132-1177089-5493921?psc=1\"},{\"Url\":\"https://www.amazon.com/KINGBOLEN-EL-50448-Automotive-Pressure-Activation/dp/B09Z2P1P75/ref=zg_bs_g_2201764011_sccl_4/132-1177089-5493921?psc=1\"},{\"Url\":\"https://www.amazon.com/VXDAS-Relearn-GL50448-Pressure-Monitor/dp/B083XJSK8K/ref=zg_bs_g_2201764011_sccl_5/132-1177089-5493921?psc=1\"},{\"Url\":\"https://www.amazon.com/CDWTPS-Pressure-56029398AB-Chrysler-Volkswagen/dp/B07R4TQX7K/ref=zg_bs_g_2201764011_sccl_6/132-1177089-5493921?psc=1\"},{\"Url\":\"https://www.amazon.com/CDWTPS-68193586AC-68252493AB-Pressure-Monitoring/dp/B07RBNCRJ2/ref=zg_bs_g_2201764011_sccl_7/132-1177089-5493921?psc=1\"},{\"Url\":\"https://www.amazon.com/Truck-Systems-Technology-Pressure-Monitor/dp/B07FKTH136/ref=zg_bs_g_2201764011_sccl_8/132-1177089-5493921?psc=1\"},{\"Url\":\"https://www.amazon.com/U508-Universal-Chrysler-Vehicles-Activation/dp/B075L4C1GL/ref=zg_bs_g_2201764011_sccl_9/132-1177089-5493921?psc=1\"},{\"Url\":\"https://www.amazon.com/ACLONG-2017-2022-2020-2022-2017-2021-FR3Z1A189A/dp/B0C5R9PG1N/ref=zg_bs_g_2201764011_sccl_10/132-1177089-5493921?psc=1\"},{\"Url\":\"https://www.amazon.com/ACLONG-Compatible-Replacement-56029398AB-56029398AA/dp/B0B4KCWKR7/ref=zg_bs_g_2201764011_sccl_11/132-1177089-5493921?psc=1\"},{\"Url\":\"https://www.amazon.com/FORSCAN-Universal-Chrysler-Pressure-Activation/dp/B0915P2XHN/ref=zg_bs_g_2201764011_sccl_12/132-1177089-5493921?psc=1\"},{\"Url\":\"https://www.amazon.com/KINGBOLEN-EL-50448-Automotive-Pressure-Activation/dp/B075ZQCTL2/ref=zg_bs_g_2201764011_sccl_13/132-1177089-5493921?psc=1\"},{\"Url\":\"https://www.amazon.com/Motorcraft-TPMS19-Transmitter/dp/B001FKSNUI/ref=zg_bs_g_2201764011_sccl_14/132-1177089-5493921?psc=1\"},{\"Url\":\"https://www.amazon.com/Tesla-Bluetooth-Tpms-Sensor-Pressure/dp/B0BKJRJWY8/ref=zg_bs_g_2201764011_sccl_15/132-1177089-5493921?psc=1\"},{\"Url\":\"https://www.amazon.com/Schrader-EZ-Sensor-Programmable-Sensor-Rubber/dp/B08VM3TPSX/ref=zg_bs_g_2201764011_sccl_16/132-1177089-5493921?psc=1\"},{\"Url\":\"https://www.amazon.com/AICEL-Tire-Sensor-Pressure-Monitor/dp/B0CJNML81L/ref=zg_bs_g_2201764011_sccl_17/132-1177089-5493921?psc=1\"},{\"Url\":\"https://www.amazon.com/LEEPEE-Monitoring-Temperature-1-5-92-6Psi-0-1-6-4Bar/dp/B08PD7ZQVN/ref=zg_bs_g_2201764011_sccl_18/132-1177089-5493921?psc=1\"},{\"Url\":\"https://www.amazon.com/FINDAUTO-Replacement-Equipment-Monitoring-Chevrolet/dp/B0928XFYBS/ref=zg_bs_g_2201764011_sccl_19/132-1177089-5493921?psc=1\"},{\"Url\":\"https://www.amazon.com/VXDAS-Relearn-Pressure-Cadillac-Activation/dp/B09QCW1XP5/ref=zg_bs_g_2201764011_sccl_20/132-1177089-5493921?psc=1\"},{\"Url\":\"https://www.amazon.com/OBDResource-Relearn-Vehicle-Universal-Pressure/dp/B09M8DSQNW/ref=zg_bs_g_2201764011_sccl_21/132-1177089-5493921?psc=1\"},{\"Url\":\"https://www.amazon.com/SSHENG-Pressure-Monitoring-DE8T-1A180-AA-Navigator/dp/B07MN5J3Y9/ref=zg_bs_g_2201764011_sccl_22/132-1177089-5493921?psc=1\"},{\"Url\":\"https://www.amazon.com/FOBO-Pressure-Monitoring-Systems-Black/dp/B07Q21RNNB/ref=zg_bs_g_2201764011_sccl_23/132-1177089-5493921?psc=1\"},{\"Url\":\"https://www.amazon.com/Yikesai-13586335-Pressure-Sensor-Monitoring/dp/B07Y2177SP/ref=zg_bs_g_2201764011_sccl_24/132-1177089-5493921?psc=1\"},{\"Url\":\"https://www.amazon.com/Autel-Programmable-Universal-Specially-Replacement/dp/B07D736H6N/ref=zg_bs_g_2201764011_sccl_25/132-1177089-5493921?psc=1\"},{\"Url\":\"https://www.amazon.com/Pressure-Monitor-Replaces-4260706020-PMV-C010/dp/B08FJ2XSX8/ref=zg_bs_g_2201764011_sccl_26/132-1177089-5493921?psc=1\"},{\"Url\":\"https://www.amazon.com/TST-Pressure-Monitoring-Technologies-Trailers/dp/B075NV78FH/ref=zg_bs_g_2201764011_sccl_27/132-1177089-5493921?psc=1\"},{\"Url\":\"https://www.amazon.com/8C2Z-1A203-Programming-Training-Expedition-Navigator/dp/B07YQNTK2G/ref=zg_bs_g_2201764011_sccl_28/132-1177089-5493921?psc=1\"},{\"Url\":\"https://www.amazon.com/AULINK-2005-2011-Expedition-6F2Z1A189A-7L1Z1A189A/dp/B0BXHKD4WP/ref=zg_bs_g_2201764011_sccl_29/132-1177089-5493921?psc=1\"},{\"Url\":\"https://www.amazon.com/Osilly-TPMS-Relearn-Tool-Programming/dp/B0CJXB1TTM/ref=zg_bs_g_2201764011_sccl_30/132-1177089-5493921?psc=1\"},{\"Url\":\"https://www.amazon.com/Jsueng-13598771-Pressure-Monitoring-System/dp/B07F3QP6GZ/ref=zg_bs_g_2201764011_sccl_81/132-1177089-5493921?psc=1\"},{\"Url\":\"https://www.amazon.com/Pressure-Monitoring-Chrysler-Replace-56029398AB/dp/B07QWW4KHQ/ref=zg_bs_g_2201764011_sccl_82/132-1177089-5493921?psc=1\"},{\"Url\":\"https://www.amazon.com/YZHIDIANF-Upgraded-TPMS-Monitoring-Pre-Programed/dp/B0CJHY5LP5/ref=zg_bs_g_2201764011_sccl_83/132-1177089-5493921?psc=1\"},{\"Url\":\"https://www.amazon.com/Compatible-Monitoring-42607-33011-42607-33021-Marsflex/dp/B09LSHNS9G/ref=zg_bs_g_2201764011_sccl_84/132-1177089-5493921?psc=1\"},{\"Url\":\"https://www.amazon.com/Monitoring-Installed-Windowshield-Real-time-Temperature/dp/B0C9R29W4V/ref=zg_bs_g_2201764011_sccl_85/132-1177089-5493921?psc=1\"},{\"Url\":\"https://www.amazon.com/BDFHYK-Pre-Programmed-Monitoring-Compatible-Mitsubishi/dp/B09C5CTBK7/ref=zg_bs_g_2201764011_sccl_86/132-1177089-5493921?psc=1\"},{\"Url\":\"https://www.amazon.com/Marsflex-9L3Z-1A-189-9L3Z-1A189-DE8T-1A-180-DE8T-1A180-AA/dp/B092HXNKMM/ref=zg_bs_g_2201764011_sccl_87/132-1177089-5493921?psc=1\"},{\"Url\":\"https://www.amazon.com/Autel-TS501-Activation-Diagnostic-Professional/dp/B01LRJ7UD2/ref=zg_bs_g_2201764011_sccl_88/132-1177089-5493921?psc=1\"},{\"Url\":\"https://www.amazon.com/Pressure-Monitoring-Wireless-Adjustable-Waterproof/dp/B0CH4Y68Y2/ref=zg_bs_g_2201764011_sccl_89/132-1177089-5493921?psc=1\"},{\"Url\":\"https://www.amazon.com/Pressure-2014-2021-Cherokee-Replaces-68249197AA/dp/B07QR8B6B5/ref=zg_bs_g_2201764011_sccl_90/132-1177089-5493921?psc=1\"},{\"Url\":\"https://www.amazon.com/YZHIDIANF-Pre-Programed-TPMS-Sensor-Monitoring/dp/B09KCKSMZV/ref=zg_bs_g_2201764011_sccl_91/132-1177089-5493921?psc=1\"},{\"Url\":\"https://www.amazon.com/Pressure-40700-3JA0A-40700-3JA0B-Infiniti-Pathfinder/dp/B0859CQ956/ref=zg_bs_g_2201764011_sccl_92/132-1177089-5493921?psc=1\"},{\"Url\":\"https://www.amazon.com/Monitoring-Replacement-DE8T-1A180-AA-9L3Z-1A189-CM5T-1A180-AA/dp/B09J89THSD/ref=zg_bs_g_2201764011_sccl_93/132-1177089-5493921?psc=1\"},{\"Url\":\"https://www.amazon.com/Schrader-33500-Sensor-Programmable-314-9/dp/B00TPVZNUW/ref=zg_bs_g_2201764011_sccl_94/132-1177089-5493921?psc=1\"},{\"Url\":\"https://www.amazon.com/CARORAV-Monitoring-Replacement-40700-JA01B-407001AA0B/dp/B0BR8YFTH7/ref=zg_bs_g_2201764011_sccl_95/132-1177089-5493921?psc=1\"},{\"Url\":\"https://www.amazon.com/Marsflex-Cadillac-Pressure-Monitoring-Replacement/dp/B0BLZBLL3B/ref=zg_bs_g_2201764011_sccl_96/132-1177089-5493921?psc=1\"},{\"Url\":\"https://www.amazon.com/RENECTIV-Replacement-28103AJ00A-28103SG000-2810-AG01C/dp/B09NVGL8L5/ref=zg_bs_g_2201764011_sccl_97/132-1177089-5493921?psc=1\"},{\"Url\":\"https://www.amazon.com/Standard-Motor-Products-TPM4012SK-Monitoring/dp/B00LLS9DXK/ref=zg_bs_g_2201764011_sccl_98/132-1177089-5493921?psc=1\"},{\"Url\":\"https://www.amazon.com/Motorcraft-TPMS35-Tpms-Sensor-Pack/dp/B01KHL1L72/ref=zg_bs_g_2201764011_sccl_99/132-1177089-5493921?psc=1\"},{\"Url\":\"https://www.amazon.com/2-Pack-Brass-Transmitters-TireMinder-TMG400C/dp/B00HAMP79K/ref=zg_bs_g_2201764011_sccl_100/132-1177089-5493921?psc=1\"},{\"Url\":\"https://www.amazon.com/Monitoring-Installed-Windowshield-Real-time-Temperature/dp/B08LK3MDC3/ref=zg_bs_g_2201764011_sccl_1/132-1177089-5493921?psc=1\"},{\"Url\":\"https://www.amazon.com/HLC-13586335-Pressure-Monitoring-Chevrolet/dp/B07FMWYZLM/ref=zg_bs_g_2201764011_sccl_2/132-1177089-5493921?psc=1\"},{\"Url\":\"https://www.amazon.com/JDIAG-EL-50448-Pressure-Activation-Cadillac/dp/B0B9267ZF3/ref=zg_bs_g_2201764011_sccl_3/132-1177089-5493921?psc=1\"},{\"Url\":\"https://www.amazon.com/Pressure-Activation-Automotive-Programming-2006-2021/dp/B092SDNZGN/ref=zg_bs_g_2201764011_sccl_4/132-1177089-5493921?psc=1\"},{\"Url\":\"https://www.amazon.com/JDiag-Relearn-EL50448-Pressure-Sensor/dp/B076KL82JP/ref=zg_bs_g_2201764011_sccl_5/132-1177089-5493921?psc=1\"},{\"Url\":\"https://www.amazon.com/Yikesai-13598771-Pressure-Sensor-Monitoring/dp/B07KP6H2RJ/ref=zg_bs_g_2201764011_sccl_6/132-1177089-5493921?psc=1\"},{\"Url\":\"https://www.amazon.com/VXDAS-GL-50448-Pressure-Activation-Vehicles/dp/B07Z968ZD1/ref=zg_bs_g_2201764011_sccl_7/132-1177089-5493921?psc=1\"},{\"Url\":\"https://www.amazon.com/VXDAS-EL-50448-Pressure-Monitor-Activation/dp/B072BK693N/ref=zg_bs_g_2201764011_sccl_8/132-1177089-5493921?psc=1\"},{\"Url\":\"https://www.amazon.com/Marsflex-42607-33011-42607-33021-42607-06011-42607-0E011/dp/B092HXSBGZ/ref=zg_bs_g_2201764011_sccl_9/132-1177089-5493921?psc=1\"},{\"Url\":\"https://www.amazon.com/Jsueng-13581558-Pressure-Monitoring-System/dp/B082ZXFR59/ref=zg_bs_g_2201764011_sccl_10/132-1177089-5493921?psc=1\"},{\"Url\":\"https://www.amazon.com/AICEL-Tire-Sensor-Pressure-Monitor/dp/B0C85GPNQC/ref=zg_bs_g_2201764011_sccl_11/132-1177089-5493921?psc=1\"},{\"Url\":\"https://www.amazon.com/Marsflex-Compatible-Cadillac-Pressure-Monitoring/dp/B092HK5NJB/ref=zg_bs_g_2201764011_sccl_12/132-1177089-5493921?psc=1\"},{\"Url\":\"https://www.amazon.com/Arozk-EL50448-Pressure-Monitor-Activation/dp/B07RQKFF8P/ref=zg_bs_g_2201764011_sccl_13/132-1177089-5493921?psc=1\"},{\"Url\":\"https://www.amazon.com/Pressure-Activation-EL-50448-Cadillac-Vehicles/dp/B0BZJPLY8B/ref=zg_bs_g_2201764011_sccl_14/132-1177089-5493921?psc=1\"},{\"Url\":\"https://www.amazon.com/Arozk-Programming-Activation-Motorcraft-Transmitter/dp/B0816DTM8M/ref=zg_bs_g_2201764011_sccl_15/132-1177089-5493921?psc=1\"},{\"Url\":\"https://www.amazon.com/Monitoring-%E3%80%90Detached-Installed-Windowshield-Real-Time/dp/B0BJZWR41D/ref=zg_bs_g_2201764011_sccl_16/132-1177089-5493921?psc=1\"},{\"Url\":\"https://www.amazon.com/ACDelco-13598772-Original-Equipment-Monitoring/dp/B014VZFQAS/ref=zg_bs_g_2201764011_sccl_17/132-1177089-5493921?psc=1\"},{\"Url\":\"https://www.amazon.com/Jsueng-Pressure-Monitoring-42607-33021-Compatible/dp/B0873WXTPV/ref=zg_bs_g_2201764011_sccl_18/132-1177089-5493921?psc=1\"},{\"Url\":\"https://www.amazon.com/VXDAS-Pressure-Monitor-Relearn-GL50448/dp/B07Z96WWM9/ref=zg_bs_g_2201764011_sccl_19/132-1177089-5493921?psc=1\"},{\"Url\":\"https://www.amazon.com/CDWTPS-Compatible-Silverado-Cadillac-Pressure/dp/B07FMJFL2M/ref=zg_bs_g_2201764011_sccl_20/132-1177089-5493921?psc=1\"},{\"Url\":\"https://www.amazon.com/EL-50448-Programming-Compatible-2006-2023-Essentials/dp/B0C9X17NS3/ref=zg_bs_g_2201764011_sccl_21/132-1177089-5493921?psc=1\"},{\"Url\":\"https://www.amazon.com/ACLONG-Pressure-Navigator-F2GT1A180AB-F2GT1A150AB/dp/B0BV2CSP2H/ref=zg_bs_g_2201764011_sccl_22/132-1177089-5493921?psc=1\"},{\"Url\":\"https://www.amazon.com/ACDelco-13598771-Original-Equipment-Monitoring/dp/B01E6EQV1W/ref=zg_bs_g_2201764011_sccl_23/132-1177089-5493921?psc=1\"},{\"Url\":\"https://www.amazon.com/Zlirfy-Universal-Programming-Activation-Automotive/dp/B0C9H88YXW/ref=zg_bs_g_2201764011_sccl_24/132-1177089-5493921?psc=1\"},{\"Url\":\"https://www.amazon.com/BDFHYK-Chevrolet-13586335-Monitoring-Compatible/dp/B08V8BK6NM/ref=zg_bs_g_2201764011_sccl_25/132-1177089-5493921?psc=1\"},{\"Url\":\"https://www.amazon.com/VXDAS-Super-Pressure-Activation-Chevrolet/dp/B0C23WDB2D/ref=zg_bs_g_2201764011_sccl_26/132-1177089-5493921?psc=1\"},{\"Url\":\"https://www.amazon.com/Hieha-Monitoring-Motorhome-Real-time-Temperature/dp/B0B1QJCC9V/ref=zg_bs_g_2201764011_sccl_27/132-1177089-5493921?psc=1\"},{\"Url\":\"https://www.amazon.com/Jsueng-13586335-Pressure-Monitoring-System/dp/B07F3ZGC4L/ref=zg_bs_g_2201764011_sccl_28/132-1177089-5493921?psc=1\"},{\"Url\":\"https://www.amazon.com/VXDAS-Programming-Training-Transmitter-8C2Z-1A203/dp/B07WDFJKMB/ref=zg_bs_g_2201764011_sccl_29/132-1177089-5493921?psc=1\"},{\"Url\":\"https://www.amazon.com/HQPASFY-Pressure-Replacement-Cadillac-Replaces/dp/B08JHV7CJG/ref=zg_bs_g_2201764011_sccl_30/132-1177089-5493921?psc=1\"},{\"Url\":\"https://www.amazon.com/Autel-2in1-4PCS-315MHz-433MHz-Programmable/dp/B07FTLX2L4/ref=zg_bs_g_2201764011_sccl_31/132-1177089-5493921?psc=1\"},{\"Url\":\"https://www.amazon.com/17-20008-Pressure-Compatible-Chevrolet-Cadillac/dp/B0921QCHYB/ref=zg_bs_g_2201764011_sccl_32/132-1177089-5493921?psc=1\"},{\"Url\":\"https://www.amazon.com/Autel-MX-Sensor-Pressure-Monitor-Replaced/dp/B07MTFVXPK/ref=zg_bs_g_2201764011_sccl_33/132-1177089-5493921?psc=1\"},{\"Url\":\"https://www.amazon.com/SSHENG-Pressure-Monitoring-56029398AB-Chrysler/dp/B07VL1ZCMC/ref=zg_bs_g_2201764011_sccl_34/132-1177089-5493921?psc=1\"},{\"Url\":\"https://www.amazon.com/SMART-SENSOR-17-43041-17-43011-Frequency/dp/B07MGR64FH/ref=zg_bs_g_2201764011_sccl_35/132-1177089-5493921?psc=1\"},{\"Url\":\"https://www.amazon.com/Denso-550-0103-TPMS-Sensor/dp/B00NQ05U24/ref=zg_bs_g_2201764011_sccl_36/132-1177089-5493921?psc=1\"},{\"Url\":\"https://www.amazon.com/ACLONG-Sequoia-Pre-Programmed-Pressure-426070C070/dp/B0BKKMQQNX/ref=zg_bs_g_2201764011_sccl_37/132-1177089-5493921?psc=1\"},{\"Url\":\"https://www.amazon.com/AULINK-F2GT1A180AB-Pressure-Monitoring-2015-2020/dp/B0BXHJ31CB/ref=zg_bs_g_2201764011_sccl_38/132-1177089-5493921?psc=1\"},{\"Url\":\"https://www.amazon.com/CDWTPS-Pressure-Monitor-Replaces-9L3Z1A189A-DE8T1A180AA/dp/B07K9MBB3T/ref=zg_bs_g_2201764011_sccl_39/132-1177089-5493921?psc=1\"},{\"Url\":\"https://www.amazon.com/Autel-MaxiTPMS-TS501-Automotive-Diagnostics/dp/B00BHCFNTS/ref=zg_bs_g_2201764011_sccl_40/132-1177089-5493921?psc=1\"},{\"Url\":\"https://www.amazon.com/Autel-6937357203263-Frequency-315mhz-Quantity/dp/B074Q5488L/ref=zg_bs_g_2201764011_sccl_41/132-1177089-5493921?psc=1\"},{\"Url\":\"https://www.amazon.com/AULINK-13586335-Pressure-Monitoring-Silverado/dp/B0BXHJLGR7/ref=zg_bs_g_2201764011_sccl_42/132-1177089-5493921?psc=1\"},{\"Url\":\"https://www.amazon.com/Pressure-Compatible-Silverado-Challenger-Cadillac/dp/B08NG92THQ/ref=zg_bs_g_2201764011_sccl_43/132-1177089-5493921?psc=1\"},{\"Url\":\"https://www.amazon.com/VXSCAN-El-50448-Pressure-Monitor-2010-2013/dp/B06XVR85N7/ref=zg_bs_g_2201764011_sccl_44/132-1177089-5493921?psc=1\"},{\"Url\":\"https://www.amazon.com/YZHIDAINF-Pre-Programed-Tire-Pressure-Sensor/dp/B098DVYRHY/ref=zg_bs_g_2201764011_sccl_45/132-1177089-5493921?psc=1\"},{\"Url\":\"https://www.amazon.com/EZ-Sensor-Programmable-Monitoring-Programming-Installation/dp/B09ZG9ZJ89/ref=zg_bs_g_2201764011_sccl_46/132-1177089-5493921?psc=1\"},{\"Url\":\"https://www.amazon.com/EL-50448-Pressure-Activation-Vehicles-2006-2022/dp/B09L17DB1Y/ref=zg_bs_g_2201764011_sccl_47/132-1177089-5493921?psc=1\"},{\"Url\":\"https://www.amazon.com/Arozk-Pressure-Programming-Activation-2006-2020/dp/B0816G5S35/ref=zg_bs_g_2201764011_sccl_48/132-1177089-5493921?psc=1\"},{\"Url\":\"https://www.amazon.com/Jsueng-Pressure-DE8T-1A180-AA-9L3Z-1A189-F150-F250-F350-Explorer-Focus-Fusion/dp/B082ZXL4FB/ref=zg_bs_g_2201764011_sccl_49/132-1177089-5493921?psc=1\"},{\"Url\":\"https://www.amazon.com/Replacement-56029398AB-68142397AA-68241067AA-68241067AB/dp/B085RRPM62/ref=zg_bs_g_2201764011_sccl_50/132-1177089-5493921?psc=1\"}]'"
      ]
     },
     "execution_count": 4,
     "metadata": {},
     "output_type": "execute_result"
    }
   ],
   "source": [
    "for i in tqdm(range(len(df)), desc='Progress', ncols=77):\n",
    "    if i == 0:\n",
    "        data = '[{\"Url\":\"' + df.loc[0, 'Url'] + '\"}'\n",
    "    elif i == len(df)-1:\n",
    "        data += ',{\"Url\":\"' + df.loc[i, 'Url'] + '\"}]'\n",
    "    else:\n",
    "        data += ',{\"Url\":\"' + df.loc[i, 'Url'] + '\"}'\n",
    "        \n",
    "pyperclip.copy(data)\n",
    "\n",
    "data"
   ]
  },
  {
   "cell_type": "code",
   "execution_count": null,
   "id": "5a9f9850",
   "metadata": {},
   "outputs": [],
   "source": []
  }
 ],
 "metadata": {
  "kernelspec": {
   "display_name": "Python 3 (ipykernel)",
   "language": "python",
   "name": "python3"
  },
  "language_info": {
   "codemirror_mode": {
    "name": "ipython",
    "version": 3
   },
   "file_extension": ".py",
   "mimetype": "text/x-python",
   "name": "python",
   "nbconvert_exporter": "python",
   "pygments_lexer": "ipython3",
   "version": "3.11.3"
  }
 },
 "nbformat": 4,
 "nbformat_minor": 5
}
