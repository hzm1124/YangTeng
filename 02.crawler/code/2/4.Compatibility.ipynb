{
 "cells": [
  {
   "cell_type": "code",
   "execution_count": 1,
   "id": "b39afb2a-56a5-4e97-beef-5f3edd0b1a45",
   "metadata": {
    "scrolled": true
   },
   "outputs": [
    {
     "data": {
      "text/plain": [
       "{'sku_count': 750,\n",
       " 'page_count': 8,\n",
       " 'page': 1,\n",
       " 'page_url': 'https://www.dormanproducts.com/gsearch.aspx?type=keyword&origin=keyword&parttype=Radiator%2520Fan%2520Assembly&start=0&num=100',\n",
       " 'no': 1,\n",
       " 'url': 'https://www.dormanproducts.com/p-76729-621-916.aspx?parttype=Radiator%2520Fan%2520Assembly&origin=keyword',\n",
       " 'picture': '',\n",
       " 'type_': 'Radiator Fan Assembly',\n",
       " 'json_src': '{\"0\": \"https://static.dormanproducts.com/images/product/medium/621-916-001.JPG\", \"1\": \"https://static.dormanproducts.com/images/product/medium/621-916-009.JPG\"}',\n",
       " 'brand': 'Dorman - OE Solutions',\n",
       " 'part_number': '621-916',\n",
       " 'description': 'Radiator Fan Assembly Without Controller',\n",
       " 'application_summary': 'Chevrolet Chevy 2012-96, Chevrolet Chevy Pickup 2003-99',\n",
       " 'warning': '',\n",
       " 'compatibility_home': 'https://www.dormanproducts.com/itemdetailapp.aspx?ProductID=76729&PartType=Radiator+Fan+Assembly&start=0&num=50',\n",
       " 'json_specification': '{\"Blade Material\": \"Plastic\", \"Connector Gender\": \"Male\", \"Connector Quantity\": \"1\", \"Fan Quantity\": \"1\", \"Motor Type\": \"Brushed\", \"Package Contents\": \"1 Radiator Fan Assembly\", \"Package Quantity\": \"1\", \"Packaging Type\": \"Box\", \"Shroud Color\": \"Black\", \"Shroud Included\": \"Yes\", \"Shroud Material\": \"Plastic\", \"Terminal Quantity\": \"2\"}',\n",
       " 'oem': '93803566;90410053;93230490',\n",
       " 'compatibility_page': 1,\n",
       " 'compatibility_url': 'https://www.dormanproducts.com/itemdetailapp.aspx?ProductID=76729&PartType=Radiator+Fan+Assembly&start=0&num=50'}"
      ]
     },
     "execution_count": 1,
     "metadata": {},
     "output_type": "execute_result"
    }
   ],
   "source": [
    "dict_ = {'sku_count': 750,\n",
    " 'page_count': 8,\n",
    " 'page': 1,\n",
    " 'page_url': 'https://www.dormanproducts.com/gsearch.aspx?type=keyword&origin=keyword&parttype=Radiator%2520Fan%2520Assembly&start=0&num=100',\n",
    " 'no': 1,\n",
    " 'url': 'https://www.dormanproducts.com/p-76729-621-916.aspx?parttype=Radiator%2520Fan%2520Assembly&origin=keyword',\n",
    " 'picture': '',\n",
    " 'type_': 'Radiator Fan Assembly',\n",
    " 'json_src': '{\"0\": \"https://static.dormanproducts.com/images/product/medium/621-916-001.JPG\", \"1\": \"https://static.dormanproducts.com/images/product/medium/621-916-009.JPG\"}',\n",
    " 'brand': 'Dorman - OE Solutions',\n",
    " 'part_number': '621-916',\n",
    " 'description': 'Radiator Fan Assembly Without Controller',\n",
    " 'application_summary': 'Chevrolet Chevy 2012-96, Chevrolet Chevy Pickup 2003-99',\n",
    " 'warning': '',\n",
    " 'compatibility_home': 'https://www.dormanproducts.com/itemdetailapp.aspx?ProductID=76729&PartType=Radiator+Fan+Assembly&start=0&num=50',\n",
    " 'json_specification': '{\"Blade Material\": \"Plastic\", \"Connector Gender\": \"Male\", \"Connector Quantity\": \"1\", \"Fan Quantity\": \"1\", \"Motor Type\": \"Brushed\", \"Package Contents\": \"1 Radiator Fan Assembly\", \"Package Quantity\": \"1\", \"Packaging Type\": \"Box\", \"Shroud Color\": \"Black\", \"Shroud Included\": \"Yes\", \"Shroud Material\": \"Plastic\", \"Terminal Quantity\": \"2\"}',\n",
    " 'oem': '93803566;90410053;93230490',\n",
    " 'compatibility_page': 1,\n",
    " 'compatibility_url': 'https://www.dormanproducts.com/itemdetailapp.aspx?ProductID=76729&PartType=Radiator+Fan+Assembly&start=0&num=50'}\n",
    "\n",
    "dict_"
   ]
  },
  {
   "cell_type": "code",
   "execution_count": 2,
   "id": "e0c2c2a3-9f16-4752-958e-60277496d5f2",
   "metadata": {},
   "outputs": [],
   "source": [
    "import requests\n",
    "\n",
    "import sys\n",
    "sys.path.append('../00.Tools')\n",
    "from configuration import generate_header, generate_proxy"
   ]
  },
  {
   "cell_type": "code",
   "execution_count": 3,
   "id": "a3834d47-66c7-4fe3-98ae-8ac12c5c1ee4",
   "metadata": {},
   "outputs": [
    {
     "data": {
      "text/plain": [
       "200"
      ]
     },
     "execution_count": 3,
     "metadata": {},
     "output_type": "execute_result"
    }
   ],
   "source": [
    "response = requests.get(dict_['compatibility_url'],\n",
    "                        headers=generate_header(**{'Accept': 'text/html',\n",
    "                                                   'Accept-Language': 'en',\n",
    "                                                   'Cache-Control': 'no-cache',\n",
    "                                                   'Pragma': 'no-cache',\n",
    "                                                   'Sec-Fetch-Dest': 'document',\n",
    "                                                   'Sec-Fetch-Mode': 'navigate',\n",
    "                                                   'Sec-Fetch-Site': 'same-origin',\n",
    "                                                   'Sec-Fetch-User': '?1',\n",
    "                                                   'Upgrade-Insecure-Requests': '1'}),\n",
    "                        proxies=generate_proxy(),\n",
    "                        timeout=(10, 15),\n",
    "                        allow_redirects=False)\n",
    "\n",
    "response.status_code"
   ]
  },
  {
   "cell_type": "code",
   "execution_count": 4,
   "id": "abc1ffc4-576f-4ed3-b39f-2deb56fc8dd8",
   "metadata": {},
   "outputs": [],
   "source": [
    "from bs4 import BeautifulSoup"
   ]
  },
  {
   "cell_type": "code",
   "execution_count": 5,
   "id": "1d78229b-169c-422c-b27d-95a857d5323e",
   "metadata": {
    "scrolled": true
   },
   "outputs": [
    {
     "name": "stdout",
     "output_type": "stream",
     "text": [
      "<html>\n",
      " <head>\n",
      "  <title>\n",
      "   Detailed Applications\n",
      "  </title>\n",
      "  <link href=\"/content/bootstrap.min.css?d=20160316\" rel=\"stylesheet\" type=\"text/css\"/>\n",
      "  <link href=\"/content/style.min.css?d=20220208\" id=\"linkrbcss\" rel=\"stylesheet\" type=\"text/css\"/>\n",
      "  <script>\n",
      "   var __uzdbm_1 = \"5f707c7d-fb52-4edf-9371-5d28379672db\";var __uzdbm_2 = \"NTQwNDdmNmUtYnUydi00MmViLThiNzEtODcyY2FhOWQ2NTVmJDEyNC4xMzUuMTc1LjEwNw==\";var __uzdbm_3 = \"7f60008d126b3d-baab-4331-a49c-248f141dc1e717495195206050-c841de90cbb0858010\";var __uzdbm_4 = \"false\";var __uzdbm_5 = \"uzmx\";var __uzdbm_6 = \"7f900041cfc6a2-83c2-4677-aeff-3d052fc369391-17495195206050-a359c8a99e16a49f10\";var __uzdbm_7 = \"dormanproducts.com\";\n",
      "  </script>\n",
      "  <script>\n",
      "   (function (w, d, e, u, c, g, a, b) {     w[\"SSJSConnectorObj\"] = w[\"SSJSConnectorObj\"] || {       ss_cid: c,       domain_info: \"auto\",     };     w[g] = function (i, j) {       w[\"SSJSConnectorObj\"][i] = j;     };     a = d.createElement(e);     a.async = true;     if (       navigator.userAgent.indexOf('MSIE') !== -1 ||       navigator.appVersion.indexOf('Trident/') > -1     ) {       u = u.replace(\"/advanced/\", \"/advanced/ie/\");     }     a.src = u;     b = d.getElementsByTagName(e)[0];     b.parentNode.insertBefore(a, b);   })(     window, document, \"script\", \"https://www.dormanproducts.com/18f5227b-e27b-445a-a53f-f845fbe69b40/stormcaster.js\", \"bu2x\", \"ssConf\"   );   ssConf(\"c1\", \"https://www.dormanproducts.com\");   ssConf(\"c3\", \"c99a4269-161c-4242-a3f0-28d44fa6ce24\");   ssConf(\"au\", \"dormanproducts.com\");   ssConf(\"cu\", \"validate.perfdrive.com, ssc\");\n",
      "  </script>\n",
      " </head>\n",
      " <body>\n",
      "  <form action=\"./itemdetailapp.aspx?ProductID=76729&amp;PartType=Radiator+Fan+Assembly&amp;start=0&amp;num=50\" id=\"form1\" method=\"post\" name=\"form1\">\n",
      "   <div>\n",
      "    <input id=\"__VIEWSTATE\" name=\"__VIEWSTATE\" type=\"hidden\" value=\"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\"/>\n",
      "   </div>\n",
      "   <div>\n",
      "    <input id=\"__VIEWSTATEGENERATOR\" name=\"__VIEWSTATEGENERATOR\" type=\"hidden\" value=\"9ADCAD4B\"/>\n",
      "   </div>\n",
      "   <div>\n",
      "    <table border=\"0\" cellspacing=\"0\" class=\"table table-hover table-dorman table-striped detail-app-table\" id=\"gvDetailApps\" style=\"border-collapse:collapse;\">\n",
      "     <thead>\n",
      "      <tr>\n",
      "       <th scope=\"col\">\n",
      "        Year\n",
      "       </th>\n",
      "       <th scope=\"col\">\n",
      "        Make\n",
      "       </th>\n",
      "       <th scope=\"col\">\n",
      "        Model\n",
      "       </th>\n",
      "       <th scope=\"col\">\n",
      "        Configuration\n",
      "       </th>\n",
      "       <th scope=\"col\">\n",
      "        Positions\n",
      "       </th>\n",
      "       <th scope=\"col\">\n",
      "        Application Notes\n",
      "       </th>\n",
      "      </tr>\n",
      "     </thead>\n",
      "     <tbody>\n",
      "      <tr class=\"detail-app-row\">\n",
      "       <td style=\"width:5%;\">\n",
      "        2012\n",
      "       </td>\n",
      "       <td style=\"width:13%;\">\n",
      "        Chevrolet\n",
      "       </td>\n",
      "       <td style=\"width:17%;\">\n",
      "        Chevy (Mexico)\n",
      "       </td>\n",
      "       <td style=\"width:21%;\">\n",
      "        L4 98 1.6L (1598cc); Mexico Region\n",
      "       </td>\n",
      "       <td style=\"width:17%;\">\n",
      "       </td>\n",
      "       <td style=\"width:27%;\">\n",
      "        wo/Air Conditioning; Sell Until Depleted; Includes Shroud, Motor, and Blade\n",
      "       </td>\n",
      "      </tr>\n",
      "      <tr class=\"detail-app-row\">\n",
      "       <td style=\"width:5%;\">\n",
      "        2011\n",
      "       </td>\n",
      "       <td style=\"width:13%;\">\n",
      "        Chevrolet\n",
      "       </td>\n",
      "       <td style=\"width:17%;\">\n",
      "        Chevy (Mexico)\n",
      "       </td>\n",
      "       <td style=\"width:21%;\">\n",
      "        L4 98 1.6L (1598cc); Mexico Region\n",
      "       </td>\n",
      "       <td style=\"width:17%;\">\n",
      "       </td>\n",
      "       <td style=\"width:27%;\">\n",
      "        wo/Air Conditioning; Sell Until Depleted; Includes Shroud, Motor, and Blade\n",
      "       </td>\n",
      "      </tr>\n",
      "      <tr class=\"detail-app-row\">\n",
      "       <td style=\"width:5%;\">\n",
      "        2010\n",
      "       </td>\n",
      "       <td style=\"width:13%;\">\n",
      "        Chevrolet\n",
      "       </td>\n",
      "       <td style=\"width:17%;\">\n",
      "        Chevy (Mexico)\n",
      "       </td>\n",
      "       <td style=\"width:21%;\">\n",
      "        L4 98 1.6L (1598cc); Mexico Region\n",
      "       </td>\n",
      "       <td style=\"width:17%;\">\n",
      "       </td>\n",
      "       <td style=\"width:27%;\">\n",
      "        wo/Air Conditioning; Sell Until Depleted; Includes Shroud, Motor, and Blade\n",
      "       </td>\n",
      "      </tr>\n",
      "      <tr class=\"detail-app-row\">\n",
      "       <td style=\"width:5%;\">\n",
      "        2009\n",
      "       </td>\n",
      "       <td style=\"width:13%;\">\n",
      "        Chevrolet\n",
      "       </td>\n",
      "       <td style=\"width:17%;\">\n",
      "        Chevy (Mexico)\n",
      "       </td>\n",
      "       <td style=\"width:21%;\">\n",
      "        L4 98 1.6L (1598cc); Mexico Region\n",
      "       </td>\n",
      "       <td style=\"width:17%;\">\n",
      "       </td>\n",
      "       <td style=\"width:27%;\">\n",
      "        wo/Air Conditioning; Sell Until Depleted; Includes Shroud, Motor, and Blade\n",
      "       </td>\n",
      "      </tr>\n",
      "      <tr class=\"detail-app-row\">\n",
      "       <td style=\"width:5%;\">\n",
      "        2008\n",
      "       </td>\n",
      "       <td style=\"width:13%;\">\n",
      "        Chevrolet\n",
      "       </td>\n",
      "       <td style=\"width:17%;\">\n",
      "        Chevy (Mexico)\n",
      "       </td>\n",
      "       <td style=\"width:21%;\">\n",
      "        L4 98 1.6L (1598cc); Mexico Region\n",
      "       </td>\n",
      "       <td style=\"width:17%;\">\n",
      "       </td>\n",
      "       <td style=\"width:27%;\">\n",
      "        wo/Air Conditioning; Sell Until Depleted; Includes Shroud, Motor, and Blade\n",
      "       </td>\n",
      "      </tr>\n",
      "      <tr class=\"detail-app-row\">\n",
      "       <td style=\"width:5%;\">\n",
      "        2007\n",
      "       </td>\n",
      "       <td style=\"width:13%;\">\n",
      "        Chevrolet\n",
      "       </td>\n",
      "       <td style=\"width:17%;\">\n",
      "        Chevy (Mexico)\n",
      "       </td>\n",
      "       <td style=\"width:21%;\">\n",
      "        L4 98 1.6L (1598cc); Mexico Region\n",
      "       </td>\n",
      "       <td style=\"width:17%;\">\n",
      "       </td>\n",
      "       <td style=\"width:27%;\">\n",
      "        wo/Air Conditioning; Sell Until Depleted; Includes Shroud, Motor, and Blade\n",
      "       </td>\n",
      "      </tr>\n",
      "      <tr class=\"detail-app-row\">\n",
      "       <td style=\"width:5%;\">\n",
      "        2006\n",
      "       </td>\n",
      "       <td style=\"width:13%;\">\n",
      "        Chevrolet\n",
      "       </td>\n",
      "       <td style=\"width:17%;\">\n",
      "        Chevy (Mexico)\n",
      "       </td>\n",
      "       <td style=\"width:21%;\">\n",
      "        L4 98 1.6L (1598cc); Mexico Region\n",
      "       </td>\n",
      "       <td style=\"width:17%;\">\n",
      "       </td>\n",
      "       <td style=\"width:27%;\">\n",
      "        wo/Air Conditioning; Sell Until Depleted; Includes Shroud, Motor, and Blade\n",
      "       </td>\n",
      "      </tr>\n",
      "      <tr class=\"detail-app-row\">\n",
      "       <td style=\"width:5%;\">\n",
      "        2005\n",
      "       </td>\n",
      "       <td style=\"width:13%;\">\n",
      "        Chevrolet\n",
      "       </td>\n",
      "       <td style=\"width:17%;\">\n",
      "        Chevy (Mexico)\n",
      "       </td>\n",
      "       <td style=\"width:21%;\">\n",
      "        L4 98 1.6L (1598cc); Mexico Region\n",
      "       </td>\n",
      "       <td style=\"width:17%;\">\n",
      "       </td>\n",
      "       <td style=\"width:27%;\">\n",
      "        wo/Air Conditioning; Sell Until Depleted; Includes Shroud, Motor, and Blade\n",
      "       </td>\n",
      "      </tr>\n",
      "      <tr class=\"detail-app-row\">\n",
      "       <td style=\"width:5%;\">\n",
      "        2004\n",
      "       </td>\n",
      "       <td style=\"width:13%;\">\n",
      "        Chevrolet\n",
      "       </td>\n",
      "       <td style=\"width:17%;\">\n",
      "        Chevy (Mexico)\n",
      "       </td>\n",
      "       <td style=\"width:21%;\">\n",
      "        L4 98 1.6L (1598cc); Mexico Region\n",
      "       </td>\n",
      "       <td style=\"width:17%;\">\n",
      "       </td>\n",
      "       <td style=\"width:27%;\">\n",
      "        wo/Air Conditioning; Sell Until Depleted; Includes Shroud, Motor, and Blade\n",
      "       </td>\n",
      "      </tr>\n",
      "      <tr class=\"detail-app-row\">\n",
      "       <td style=\"width:5%;\">\n",
      "        2003\n",
      "       </td>\n",
      "       <td style=\"width:13%;\">\n",
      "        Chevrolet\n",
      "       </td>\n",
      "       <td style=\"width:17%;\">\n",
      "        Chevy (Mexico)\n",
      "       </td>\n",
      "       <td style=\"width:21%;\">\n",
      "        L4 98 1.6L (1598cc); Mexico Region\n",
      "       </td>\n",
      "       <td style=\"width:17%;\">\n",
      "       </td>\n",
      "       <td style=\"width:27%;\">\n",
      "        wo/Air Conditioning; Sell Until Depleted; Includes Shroud, Motor, and Blade\n",
      "       </td>\n",
      "      </tr>\n",
      "      <tr class=\"detail-app-row\">\n",
      "       <td style=\"width:5%;\">\n",
      "        2003\n",
      "       </td>\n",
      "       <td style=\"width:13%;\">\n",
      "        Chevrolet\n",
      "       </td>\n",
      "       <td style=\"width:17%;\">\n",
      "        Chevy Pickup (Mexico)\n",
      "       </td>\n",
      "       <td style=\"width:21%;\">\n",
      "        L4 98 1.6L (1598cc); Mexico Region\n",
      "       </td>\n",
      "       <td style=\"width:17%;\">\n",
      "       </td>\n",
      "       <td style=\"width:27%;\">\n",
      "        Sell Until Depleted\n",
      "       </td>\n",
      "      </tr>\n",
      "      <tr class=\"detail-app-row\">\n",
      "       <td style=\"width:5%;\">\n",
      "        2002\n",
      "       </td>\n",
      "       <td style=\"width:13%;\">\n",
      "        Chevrolet\n",
      "       </td>\n",
      "       <td style=\"width:17%;\">\n",
      "        Chevy (Mexico)\n",
      "       </td>\n",
      "       <td style=\"width:21%;\">\n",
      "        L4 98 1.6L (1598cc); Mexico Region\n",
      "       </td>\n",
      "       <td style=\"width:17%;\">\n",
      "       </td>\n",
      "       <td style=\"width:27%;\">\n",
      "        wo/Air Conditioning; Sell Until Depleted; Includes Shroud, Motor, and Blade\n",
      "       </td>\n",
      "      </tr>\n",
      "      <tr class=\"detail-app-row\">\n",
      "       <td style=\"width:5%;\">\n",
      "        2002\n",
      "       </td>\n",
      "       <td style=\"width:13%;\">\n",
      "        Chevrolet\n",
      "       </td>\n",
      "       <td style=\"width:17%;\">\n",
      "        Chevy Pickup (Mexico)\n",
      "       </td>\n",
      "       <td style=\"width:21%;\">\n",
      "        L4 98 1.6L (1598cc); Mexico Region\n",
      "       </td>\n",
      "       <td style=\"width:17%;\">\n",
      "       </td>\n",
      "       <td style=\"width:27%;\">\n",
      "        Sell Until Depleted\n",
      "       </td>\n",
      "      </tr>\n",
      "      <tr class=\"detail-app-row\">\n",
      "       <td style=\"width:5%;\">\n",
      "        2001\n",
      "       </td>\n",
      "       <td style=\"width:13%;\">\n",
      "        Chevrolet\n",
      "       </td>\n",
      "       <td style=\"width:17%;\">\n",
      "        Chevy (Mexico)\n",
      "       </td>\n",
      "       <td style=\"width:21%;\">\n",
      "        L4 98 1.6L (1598cc); Mexico Region\n",
      "       </td>\n",
      "       <td style=\"width:17%;\">\n",
      "       </td>\n",
      "       <td style=\"width:27%;\">\n",
      "        wo/Air Conditioning; Sell Until Depleted; Includes Shroud, Motor, and Blade\n",
      "       </td>\n",
      "      </tr>\n",
      "      <tr class=\"detail-app-row\">\n",
      "       <td style=\"width:5%;\">\n",
      "        2001\n",
      "       </td>\n",
      "       <td style=\"width:13%;\">\n",
      "        Chevrolet\n",
      "       </td>\n",
      "       <td style=\"width:17%;\">\n",
      "        Chevy Pickup (Mexico)\n",
      "       </td>\n",
      "       <td style=\"width:21%;\">\n",
      "        L4 98 1.6L (1598cc); Mexico Region\n",
      "       </td>\n",
      "       <td style=\"width:17%;\">\n",
      "       </td>\n",
      "       <td style=\"width:27%;\">\n",
      "        Sell Until Depleted\n",
      "       </td>\n",
      "      </tr>\n",
      "      <tr class=\"detail-app-row\">\n",
      "       <td style=\"width:5%;\">\n",
      "        2000\n",
      "       </td>\n",
      "       <td style=\"width:13%;\">\n",
      "        Chevrolet\n",
      "       </td>\n",
      "       <td style=\"width:17%;\">\n",
      "        Chevy (Mexico)\n",
      "       </td>\n",
      "       <td style=\"width:21%;\">\n",
      "        L4 98 1.6L (1598cc); Mexico Region\n",
      "       </td>\n",
      "       <td style=\"width:17%;\">\n",
      "       </td>\n",
      "       <td style=\"width:27%;\">\n",
      "        wo/Air Conditioning; Sell Until Depleted; Includes Shroud, Motor, and Blade\n",
      "       </td>\n",
      "      </tr>\n",
      "      <tr class=\"detail-app-row\">\n",
      "       <td style=\"width:5%;\">\n",
      "        2000\n",
      "       </td>\n",
      "       <td style=\"width:13%;\">\n",
      "        Chevrolet\n",
      "       </td>\n",
      "       <td style=\"width:17%;\">\n",
      "        Chevy Pickup (Mexico)\n",
      "       </td>\n",
      "       <td style=\"width:21%;\">\n",
      "        L4 98 1.6L (1598cc); Mexico Region\n",
      "       </td>\n",
      "       <td style=\"width:17%;\">\n",
      "       </td>\n",
      "       <td style=\"width:27%;\">\n",
      "        Sell Until Depleted\n",
      "       </td>\n",
      "      </tr>\n",
      "      <tr class=\"detail-app-row\">\n",
      "       <td style=\"width:5%;\">\n",
      "        1999\n",
      "       </td>\n",
      "       <td style=\"width:13%;\">\n",
      "        Chevrolet\n",
      "       </td>\n",
      "       <td style=\"width:17%;\">\n",
      "        Chevy (Mexico)\n",
      "       </td>\n",
      "       <td style=\"width:21%;\">\n",
      "        L4 98 1.6L (1598cc); Mexico Region\n",
      "       </td>\n",
      "       <td style=\"width:17%;\">\n",
      "       </td>\n",
      "       <td style=\"width:27%;\">\n",
      "        wo/Air Conditioning; Sell Until Depleted; Includes Shroud, Motor, and Blade\n",
      "       </td>\n",
      "      </tr>\n",
      "      <tr class=\"detail-app-row\">\n",
      "       <td style=\"width:5%;\">\n",
      "        1999\n",
      "       </td>\n",
      "       <td style=\"width:13%;\">\n",
      "        Chevrolet\n",
      "       </td>\n",
      "       <td style=\"width:17%;\">\n",
      "        Chevy Pickup (Mexico)\n",
      "       </td>\n",
      "       <td style=\"width:21%;\">\n",
      "        L4 98 1.6L (1598cc); Mexico Region\n",
      "       </td>\n",
      "       <td style=\"width:17%;\">\n",
      "       </td>\n",
      "       <td style=\"width:27%;\">\n",
      "        Sell Until Depleted\n",
      "       </td>\n",
      "      </tr>\n",
      "      <tr class=\"detail-app-row\">\n",
      "       <td style=\"width:5%;\">\n",
      "        1998\n",
      "       </td>\n",
      "       <td style=\"width:13%;\">\n",
      "        Chevrolet\n",
      "       </td>\n",
      "       <td style=\"width:17%;\">\n",
      "        Chevy (Mexico)\n",
      "       </td>\n",
      "       <td style=\"width:21%;\">\n",
      "        L4 98 1.6L (1598cc); Mexico Region\n",
      "       </td>\n",
      "       <td style=\"width:17%;\">\n",
      "       </td>\n",
      "       <td style=\"width:27%;\">\n",
      "        wo/Air Conditioning; Sell Until Depleted; Includes Shroud, Motor, and Blade\n",
      "       </td>\n",
      "      </tr>\n",
      "      <tr class=\"detail-app-row\">\n",
      "       <td style=\"width:5%;\">\n",
      "        1997\n",
      "       </td>\n",
      "       <td style=\"width:13%;\">\n",
      "        Chevrolet\n",
      "       </td>\n",
      "       <td style=\"width:17%;\">\n",
      "        Chevy (Mexico)\n",
      "       </td>\n",
      "       <td style=\"width:21%;\">\n",
      "        L4 98 1.6L (1588cc); Mexico Region\n",
      "       </td>\n",
      "       <td style=\"width:17%;\">\n",
      "       </td>\n",
      "       <td style=\"width:27%;\">\n",
      "        wo/Air Conditioning; Sell Until Depleted; Includes Shroud, Motor, and Blade\n",
      "       </td>\n",
      "      </tr>\n",
      "      <tr class=\"detail-app-row\">\n",
      "       <td style=\"width:5%;\">\n",
      "        1996\n",
      "       </td>\n",
      "       <td style=\"width:13%;\">\n",
      "        Chevrolet\n",
      "       </td>\n",
      "       <td style=\"width:17%;\">\n",
      "        Chevy (Mexico)\n",
      "       </td>\n",
      "       <td style=\"width:21%;\">\n",
      "        L4 98 1.6L (1588cc); Mexico Region\n",
      "       </td>\n",
      "       <td style=\"width:17%;\">\n",
      "       </td>\n",
      "       <td style=\"width:27%;\">\n",
      "        wo/Air Conditioning; Sell Until Depleted; Includes Shroud, Motor, and Blade\n",
      "       </td>\n",
      "      </tr>\n",
      "     </tbody>\n",
      "    </table>\n",
      "   </div>\n",
      "   <div class=\"detail-app-pager\">\n",
      "   </div>\n",
      "   <div class=\"detail-app-bottomspacing\">\n",
      "    <br/>\n",
      "   </div>\n",
      "   <div id=\"iframe_bottom\">\n",
      "   </div>\n",
      "   <script src=\"/scripts/jquery.min.js?d=20190905\" type=\"text/javascript\">\n",
      "   </script>\n",
      "   <script src=\"/scripts/jquery.floatThead.min.js?d=20190905\" type=\"text/javascript\">\n",
      "   </script>\n",
      "   <script type=\"text/javascript\">\n",
      "    $('#gvDetailApps').floatThead({\n",
      "                position: 'fixed'\n",
      "            });\n",
      "   </script>\n",
      "  </form>\n",
      " </body>\n",
      "</html>\n",
      "\n"
     ]
    }
   ],
   "source": [
    "soup = BeautifulSoup(response.text, 'html5lib')\n",
    "\n",
    "with open('./4.compatibility.html', 'w', encoding='utf-8') as file:\n",
    "    file.write(str(soup))\n",
    "\n",
    "print(soup.prettify())"
   ]
  },
  {
   "cell_type": "code",
   "execution_count": 6,
   "id": "f4503248-397c-4381-89a9-cf06ac381a2d",
   "metadata": {},
   "outputs": [],
   "source": [
    "from parsel import Selector"
   ]
  },
  {
   "cell_type": "code",
   "execution_count": 7,
   "id": "ac696630-6717-4ece-a8a1-2b05464398b6",
   "metadata": {},
   "outputs": [
    {
     "data": {
      "text/plain": [
       "<Selector query=None data='<html><head><title>\\n\\tDetailed Applica...'>"
      ]
     },
     "execution_count": 7,
     "metadata": {},
     "output_type": "execute_result"
    }
   ],
   "source": [
    "selector = Selector(text=str(soup))\n",
    "\n",
    "selector"
   ]
  },
  {
   "cell_type": "code",
   "execution_count": 8,
   "id": "a23e11f4-332e-4e3a-b7ef-e3b10e887e6a",
   "metadata": {},
   "outputs": [
    {
     "data": {
      "text/plain": [
       "[<Selector query='//div[@class=\"detail-app-pager\"]' data='<div class=\"detail-app-pager\">\\n      ...'>]"
      ]
     },
     "execution_count": 8,
     "metadata": {},
     "output_type": "execute_result"
    }
   ],
   "source": [
    "list_pager = selector.xpath('//div[@class=\"detail-app-pager\"]')\n",
    "\n",
    "list_pager"
   ]
  },
  {
   "cell_type": "code",
   "execution_count": 9,
   "id": "c37bdc32-a8fe-44c5-8d88-7016016d3c06",
   "metadata": {},
   "outputs": [
    {
     "data": {
      "text/plain": [
       "False"
      ]
     },
     "execution_count": 9,
     "metadata": {},
     "output_type": "execute_result"
    }
   ],
   "source": [
    "not list_pager"
   ]
  },
  {
   "cell_type": "code",
   "execution_count": 10,
   "id": "3a70a67c-faa4-43b6-961f-ad61513de79a",
   "metadata": {},
   "outputs": [
    {
     "data": {
      "text/plain": [
       "[]"
      ]
     },
     "execution_count": 10,
     "metadata": {},
     "output_type": "execute_result"
    }
   ],
   "source": [
    "next_ = selector.xpath('//a[@id=\"pagingBottom_nextButton\"]')\n",
    "\n",
    "next_"
   ]
  },
  {
   "cell_type": "code",
   "execution_count": 11,
   "id": "54853111-1958-409a-ab03-0f777ebe4c95",
   "metadata": {},
   "outputs": [
    {
     "data": {
      "text/plain": [
       "[]"
      ]
     },
     "execution_count": 11,
     "metadata": {},
     "output_type": "execute_result"
    }
   ],
   "source": [
    "dict_['compatibility_page'] == 1 and next_ and next_[0].xpath('./@href').get().strip() == 'Search/#'"
   ]
  },
  {
   "cell_type": "code",
   "execution_count": 12,
   "id": "c7da9a24-efb7-43ca-ac1e-04263222c863",
   "metadata": {
    "scrolled": true
   },
   "outputs": [
    {
     "data": {
      "text/plain": [
       "(['Year', 'Make', 'Model', 'Configuration', 'Positions', 'Application Notes'],\n",
       " [<Selector query='//tr[@class=\"detail-app-row\"]' data='<tr class=\"detail-app-row\">\\n\\t\\t\\t\\t<td s...'>,\n",
       "  <Selector query='//tr[@class=\"detail-app-row\"]' data='<tr class=\"detail-app-row\">\\n\\t\\t\\t\\t<td s...'>,\n",
       "  <Selector query='//tr[@class=\"detail-app-row\"]' data='<tr class=\"detail-app-row\">\\n\\t\\t\\t\\t<td s...'>,\n",
       "  <Selector query='//tr[@class=\"detail-app-row\"]' data='<tr class=\"detail-app-row\">\\n\\t\\t\\t\\t<td s...'>,\n",
       "  <Selector query='//tr[@class=\"detail-app-row\"]' data='<tr class=\"detail-app-row\">\\n\\t\\t\\t\\t<td s...'>,\n",
       "  <Selector query='//tr[@class=\"detail-app-row\"]' data='<tr class=\"detail-app-row\">\\n\\t\\t\\t\\t<td s...'>,\n",
       "  <Selector query='//tr[@class=\"detail-app-row\"]' data='<tr class=\"detail-app-row\">\\n\\t\\t\\t\\t<td s...'>,\n",
       "  <Selector query='//tr[@class=\"detail-app-row\"]' data='<tr class=\"detail-app-row\">\\n\\t\\t\\t\\t<td s...'>,\n",
       "  <Selector query='//tr[@class=\"detail-app-row\"]' data='<tr class=\"detail-app-row\">\\n\\t\\t\\t\\t<td s...'>,\n",
       "  <Selector query='//tr[@class=\"detail-app-row\"]' data='<tr class=\"detail-app-row\">\\n\\t\\t\\t\\t<td s...'>,\n",
       "  <Selector query='//tr[@class=\"detail-app-row\"]' data='<tr class=\"detail-app-row\">\\n\\t\\t\\t\\t<td s...'>,\n",
       "  <Selector query='//tr[@class=\"detail-app-row\"]' data='<tr class=\"detail-app-row\">\\n\\t\\t\\t\\t<td s...'>,\n",
       "  <Selector query='//tr[@class=\"detail-app-row\"]' data='<tr class=\"detail-app-row\">\\n\\t\\t\\t\\t<td s...'>,\n",
       "  <Selector query='//tr[@class=\"detail-app-row\"]' data='<tr class=\"detail-app-row\">\\n\\t\\t\\t\\t<td s...'>,\n",
       "  <Selector query='//tr[@class=\"detail-app-row\"]' data='<tr class=\"detail-app-row\">\\n\\t\\t\\t\\t<td s...'>,\n",
       "  <Selector query='//tr[@class=\"detail-app-row\"]' data='<tr class=\"detail-app-row\">\\n\\t\\t\\t\\t<td s...'>,\n",
       "  <Selector query='//tr[@class=\"detail-app-row\"]' data='<tr class=\"detail-app-row\">\\n\\t\\t\\t\\t<td s...'>,\n",
       "  <Selector query='//tr[@class=\"detail-app-row\"]' data='<tr class=\"detail-app-row\">\\n\\t\\t\\t\\t<td s...'>,\n",
       "  <Selector query='//tr[@class=\"detail-app-row\"]' data='<tr class=\"detail-app-row\">\\n\\t\\t\\t\\t<td s...'>,\n",
       "  <Selector query='//tr[@class=\"detail-app-row\"]' data='<tr class=\"detail-app-row\">\\n\\t\\t\\t\\t<td s...'>,\n",
       "  <Selector query='//tr[@class=\"detail-app-row\"]' data='<tr class=\"detail-app-row\">\\n\\t\\t\\t\\t<td s...'>,\n",
       "  <Selector query='//tr[@class=\"detail-app-row\"]' data='<tr class=\"detail-app-row\">\\n\\t\\t\\t\\t<td s...'>])"
      ]
     },
     "execution_count": 12,
     "metadata": {},
     "output_type": "execute_result"
    }
   ],
   "source": [
    "list_head, list_row = [text.strip() for text in selector.xpath('//th[@scope=\"col\"]/text()').getall()], selector.xpath('//tr[@class=\"detail-app-row\"]')\n",
    "\n",
    "list_head, list_row"
   ]
  },
  {
   "cell_type": "code",
   "execution_count": 13,
   "id": "dc6b9491-7691-4d39-b67f-7de4d08c10b0",
   "metadata": {},
   "outputs": [
    {
     "data": {
      "text/plain": [
       "{'compatibility_no': 1,\n",
       " 'Year': '2012',\n",
       " 'Make': 'Chevrolet',\n",
       " 'Model': 'Chevy (Mexico)',\n",
       " 'Configuration': 'L4 98 1.6L (1598cc); Mexico Region',\n",
       " 'Positions': '',\n",
       " 'Application Notes': 'wo/Air Conditioning; Sell Until Depleted; Includes Shroud, Motor, and Blade'}"
      ]
     },
     "execution_count": 13,
     "metadata": {},
     "output_type": "execute_result"
    }
   ],
   "source": [
    "dict_compatibility = {'compatibility_no': 1}\n",
    "for j, head in enumerate(list_head):\n",
    "    dict_compatibility[head] = list_row[0].xpath(f'./td[{j + 1}]/text()').get().strip()\n",
    "\n",
    "dict_compatibility"
   ]
  },
  {
   "cell_type": "code",
   "execution_count": 14,
   "id": "dbe43340-496b-4be2-b00e-62e5f7cb2c13",
   "metadata": {
    "scrolled": true
   },
   "outputs": [
    {
     "data": {
      "text/plain": [
       "{'sku_count': 750,\n",
       " 'page_count': 8,\n",
       " 'page': 1,\n",
       " 'page_url': 'https://www.dormanproducts.com/gsearch.aspx?type=keyword&origin=keyword&parttype=Radiator%2520Fan%2520Assembly&start=0&num=100',\n",
       " 'no': 1,\n",
       " 'url': 'https://www.dormanproducts.com/p-76729-621-916.aspx?parttype=Radiator%2520Fan%2520Assembly&origin=keyword',\n",
       " 'picture': '',\n",
       " 'type_': 'Radiator Fan Assembly',\n",
       " 'json_src': '{\"0\": \"https://static.dormanproducts.com/images/product/medium/621-916-001.JPG\", \"1\": \"https://static.dormanproducts.com/images/product/medium/621-916-009.JPG\"}',\n",
       " 'brand': 'Dorman - OE Solutions',\n",
       " 'part_number': '621-916',\n",
       " 'description': 'Radiator Fan Assembly Without Controller',\n",
       " 'application_summary': 'Chevrolet Chevy 2012-96, Chevrolet Chevy Pickup 2003-99',\n",
       " 'warning': '',\n",
       " 'compatibility_home': 'https://www.dormanproducts.com/itemdetailapp.aspx?ProductID=76729&PartType=Radiator+Fan+Assembly&start=0&num=50',\n",
       " 'json_specification': '{\"Blade Material\": \"Plastic\", \"Connector Gender\": \"Male\", \"Connector Quantity\": \"1\", \"Fan Quantity\": \"1\", \"Motor Type\": \"Brushed\", \"Package Contents\": \"1 Radiator Fan Assembly\", \"Package Quantity\": \"1\", \"Packaging Type\": \"Box\", \"Shroud Color\": \"Black\", \"Shroud Included\": \"Yes\", \"Shroud Material\": \"Plastic\", \"Terminal Quantity\": \"2\"}',\n",
       " 'oem': '93803566;90410053;93230490',\n",
       " 'compatibility_page': 1,\n",
       " 'compatibility_url': 'https://www.dormanproducts.com/itemdetailapp.aspx?ProductID=76729&PartType=Radiator+Fan+Assembly&start=0&num=50',\n",
       " 'compatibility_no': 1,\n",
       " 'Year': '2012',\n",
       " 'Make': 'Chevrolet',\n",
       " 'Model': 'Chevy (Mexico)',\n",
       " 'Configuration': 'L4 98 1.6L (1598cc); Mexico Region',\n",
       " 'Positions': '',\n",
       " 'Application Notes': 'wo/Air Conditioning; Sell Until Depleted; Includes Shroud, Motor, and Blade'}"
      ]
     },
     "execution_count": 14,
     "metadata": {},
     "output_type": "execute_result"
    }
   ],
   "source": [
    "{**dict_, **dict_compatibility}"
   ]
  },
  {
   "cell_type": "code",
   "execution_count": 15,
   "id": "56dc1de1-3cdc-430d-b093-c951c7311820",
   "metadata": {},
   "outputs": [
    {
     "data": {
      "text/plain": [
       "[]"
      ]
     },
     "execution_count": 15,
     "metadata": {},
     "output_type": "execute_result"
    }
   ],
   "source": [
    "next_"
   ]
  },
  {
   "cell_type": "code",
   "execution_count": 16,
   "id": "c934c9ec-f28a-4dca-bf97-1e705927f2ca",
   "metadata": {},
   "outputs": [],
   "source": [
    "from urllib.parse import urlsplit"
   ]
  },
  {
   "cell_type": "code",
   "execution_count": 17,
   "id": "77c4e58c-b459-4b79-b764-3f67b4a5e069",
   "metadata": {},
   "outputs": [
    {
     "data": {
      "text/plain": [
       "SplitResult(scheme='https', netloc='www.dormanproducts.com', path='/itemdetailapp.aspx', query='ProductID=76729&PartType=Radiator+Fan+Assembly&start=0&num=50', fragment='')"
      ]
     },
     "execution_count": 17,
     "metadata": {},
     "output_type": "execute_result"
    }
   ],
   "source": [
    "tuple_ = urlsplit(dict_['compatibility_url'])\n",
    "\n",
    "tuple_"
   ]
  },
  {
   "cell_type": "code",
   "execution_count": 18,
   "id": "9351a940-c086-4cc9-8a30-fd44de63e6f5",
   "metadata": {},
   "outputs": [],
   "source": [
    "from urllib.parse import parse_qs"
   ]
  },
  {
   "cell_type": "code",
   "execution_count": 19,
   "id": "9686b6db-8292-4e8a-8081-999cb6a23d86",
   "metadata": {},
   "outputs": [
    {
     "data": {
      "text/plain": [
       "{'ProductID': '76729',\n",
       " 'PartType': 'Radiator Fan Assembly',\n",
       " 'start': '0',\n",
       " 'num': '50'}"
      ]
     },
     "execution_count": 19,
     "metadata": {},
     "output_type": "execute_result"
    }
   ],
   "source": [
    "dict_query = {key: value[0] for key, value in parse_qs(tuple_.query).items()}\n",
    "\n",
    "dict_query"
   ]
  },
  {
   "cell_type": "code",
   "execution_count": 20,
   "id": "e55ac91e-57e2-472f-a126-8fd3fe686610",
   "metadata": {},
   "outputs": [
    {
     "data": {
      "text/plain": [
       "{'ProductID': '76729',\n",
       " 'PartType': 'Radiator Fan Assembly',\n",
       " 'start': 50,\n",
       " 'num': '50'}"
      ]
     },
     "execution_count": 20,
     "metadata": {},
     "output_type": "execute_result"
    }
   ],
   "source": [
    "dict_query['start'] = dict_['compatibility_page'] * 50\n",
    "\n",
    "dict_query"
   ]
  },
  {
   "cell_type": "code",
   "execution_count": 21,
   "id": "a03e5dbe-aa4a-4a94-9673-0ee3709c4033",
   "metadata": {},
   "outputs": [],
   "source": [
    "from urllib.parse import urlunsplit\n",
    "from urllib.parse import urlencode"
   ]
  },
  {
   "cell_type": "code",
   "execution_count": 22,
   "id": "0b62a007-5455-40ca-abeb-92346c5c231e",
   "metadata": {},
   "outputs": [
    {
     "data": {
      "text/plain": [
       "'https://www.dormanproducts.com/itemdetailapp.aspx?ProductID=76729&PartType=Radiator+Fan+Assembly&start=50&num=50'"
      ]
     },
     "execution_count": 22,
     "metadata": {},
     "output_type": "execute_result"
    }
   ],
   "source": [
    "compatibility_url = urlunsplit((tuple_.scheme, tuple_.netloc, tuple_.path, urlencode(dict_query), tuple_.fragment))\n",
    "\n",
    "compatibility_url"
   ]
  },
  {
   "cell_type": "code",
   "execution_count": 23,
   "id": "929d080a-46e1-4651-827d-3589f89ee9b4",
   "metadata": {},
   "outputs": [
    {
     "data": {
      "text/plain": [
       "{'sku_count': 750,\n",
       " 'page_count': 8,\n",
       " 'page': 1,\n",
       " 'page_url': 'https://www.dormanproducts.com/gsearch.aspx?type=keyword&origin=keyword&parttype=Radiator%2520Fan%2520Assembly&start=0&num=100',\n",
       " 'no': 1,\n",
       " 'url': 'https://www.dormanproducts.com/p-76729-621-916.aspx?parttype=Radiator%2520Fan%2520Assembly&origin=keyword',\n",
       " 'picture': '',\n",
       " 'type_': 'Radiator Fan Assembly',\n",
       " 'json_src': '{\"0\": \"https://static.dormanproducts.com/images/product/medium/621-916-001.JPG\", \"1\": \"https://static.dormanproducts.com/images/product/medium/621-916-009.JPG\"}',\n",
       " 'brand': 'Dorman - OE Solutions',\n",
       " 'part_number': '621-916',\n",
       " 'description': 'Radiator Fan Assembly Without Controller',\n",
       " 'application_summary': 'Chevrolet Chevy 2012-96, Chevrolet Chevy Pickup 2003-99',\n",
       " 'warning': '',\n",
       " 'compatibility_home': 'https://www.dormanproducts.com/itemdetailapp.aspx?ProductID=76729&PartType=Radiator+Fan+Assembly&start=0&num=50',\n",
       " 'json_specification': '{\"Blade Material\": \"Plastic\", \"Connector Gender\": \"Male\", \"Connector Quantity\": \"1\", \"Fan Quantity\": \"1\", \"Motor Type\": \"Brushed\", \"Package Contents\": \"1 Radiator Fan Assembly\", \"Package Quantity\": \"1\", \"Packaging Type\": \"Box\", \"Shroud Color\": \"Black\", \"Shroud Included\": \"Yes\", \"Shroud Material\": \"Plastic\", \"Terminal Quantity\": \"2\"}',\n",
       " 'oem': '93803566;90410053;93230490',\n",
       " 'compatibility_page': 2,\n",
       " 'compatibility_url': 'https://www.dormanproducts.com/itemdetailapp.aspx?ProductID=76729&PartType=Radiator+Fan+Assembly&start=50&num=50'}"
      ]
     },
     "execution_count": 23,
     "metadata": {},
     "output_type": "execute_result"
    }
   ],
   "source": [
    "{**dict_, 'compatibility_page': dict_['compatibility_page'] + 1, 'compatibility_url': compatibility_url}"
   ]
  },
  {
   "cell_type": "code",
   "execution_count": null,
   "id": "4ba3bb62-d8fb-4a68-ae11-48567f4fe3e9",
   "metadata": {},
   "outputs": [],
   "source": []
  }
 ],
 "metadata": {
  "kernelspec": {
   "display_name": "Python 3 (ipykernel)",
   "language": "python",
   "name": "python3"
  },
  "language_info": {
   "codemirror_mode": {
    "name": "ipython",
    "version": 3
   },
   "file_extension": ".py",
   "mimetype": "text/x-python",
   "name": "python",
   "nbconvert_exporter": "python",
   "pygments_lexer": "ipython3",
   "version": "3.12.7"
  }
 },
 "nbformat": 4,
 "nbformat_minor": 5
}
