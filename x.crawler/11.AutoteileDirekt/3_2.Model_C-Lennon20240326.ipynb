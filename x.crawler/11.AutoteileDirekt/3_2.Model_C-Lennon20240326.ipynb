{
 "cells": [
  {
   "cell_type": "code",
   "execution_count": 1,
   "id": "e96b6aaa",
   "metadata": {},
   "outputs": [],
   "source": [
    "import pandas as pd"
   ]
  },
  {
   "cell_type": "code",
   "execution_count": 2,
   "id": "5df09850",
   "metadata": {},
   "outputs": [
    {
     "name": "stdout",
     "output_type": "stream",
     "text": [
      "总数量：41\n"
     ]
    },
    {
     "data": {
      "text/plain": [
       "['84;117',\n",
       " '25',\n",
       " '185;72;109',\n",
       " '121',\n",
       " '5;16;36;184;72;74;80;104;121',\n",
       " '5;104;121',\n",
       " '694',\n",
       " '74;121',\n",
       " '1380',\n",
       " '185',\n",
       " '109',\n",
       " '109',\n",
       " '138;185',\n",
       " '36',\n",
       " '35',\n",
       " '694',\n",
       " '74',\n",
       " '5;104;121',\n",
       " '36',\n",
       " '183;77',\n",
       " '36',\n",
       " '55',\n",
       " '5;92;104;106;121',\n",
       " '21;35;88',\n",
       " '21;88',\n",
       " '35',\n",
       " '74;121',\n",
       " '694',\n",
       " '5;4896;104;106;121',\n",
       " '35',\n",
       " '35',\n",
       " '109',\n",
       " '84;117',\n",
       " '106;121',\n",
       " '185;84;117',\n",
       " '74;121',\n",
       " '184;72',\n",
       " '2',\n",
       " '74',\n",
       " '36',\n",
       " '63']"
      ]
     },
     "execution_count": 2,
     "metadata": {},
     "output_type": "execute_result"
    }
   ],
   "source": [
    "df = pd.read_excel('./part.xlsx',\n",
    "                   header=0,\n",
    "                   dtype=str).fillna('')\n",
    "\n",
    "df = df[df['Maker_Id'] != ''].reset_index(drop=True)\n",
    "\n",
    "print('总数量：' + str(len(df)))\n",
    "df['Maker_Id'].tolist()"
   ]
  },
  {
   "cell_type": "code",
   "execution_count": 3,
   "id": "5c18491e",
   "metadata": {
    "scrolled": true
   },
   "outputs": [
    {
     "data": {
      "text/plain": [
       "['https://www.autoteiledirekt.de/ajax/product/related-auto?productId=1363314&makerId=84',\n",
       " 'https://www.autoteiledirekt.de/ajax/product/related-auto?productId=1363314&makerId=117',\n",
       " 'https://www.autoteiledirekt.de/ajax/product/related-auto?productId=1362409&makerId=25',\n",
       " 'https://www.autoteiledirekt.de/ajax/product/related-auto?productId=1362413&makerId=185',\n",
       " 'https://www.autoteiledirekt.de/ajax/product/related-auto?productId=1362413&makerId=72',\n",
       " 'https://www.autoteiledirekt.de/ajax/product/related-auto?productId=1362413&makerId=109',\n",
       " 'https://www.autoteiledirekt.de/ajax/product/related-auto?productId=1362925&makerId=121',\n",
       " 'https://www.autoteiledirekt.de/ajax/product/related-auto?productId=16143&makerId=5',\n",
       " 'https://www.autoteiledirekt.de/ajax/product/related-auto?productId=16143&makerId=16',\n",
       " 'https://www.autoteiledirekt.de/ajax/product/related-auto?productId=16143&makerId=36',\n",
       " 'https://www.autoteiledirekt.de/ajax/product/related-auto?productId=16143&makerId=184',\n",
       " 'https://www.autoteiledirekt.de/ajax/product/related-auto?productId=16143&makerId=72',\n",
       " 'https://www.autoteiledirekt.de/ajax/product/related-auto?productId=16143&makerId=74',\n",
       " 'https://www.autoteiledirekt.de/ajax/product/related-auto?productId=16143&makerId=80',\n",
       " 'https://www.autoteiledirekt.de/ajax/product/related-auto?productId=16143&makerId=104',\n",
       " 'https://www.autoteiledirekt.de/ajax/product/related-auto?productId=16143&makerId=121',\n",
       " 'https://www.autoteiledirekt.de/ajax/product/related-auto?productId=1362932&makerId=5',\n",
       " 'https://www.autoteiledirekt.de/ajax/product/related-auto?productId=1362932&makerId=104',\n",
       " 'https://www.autoteiledirekt.de/ajax/product/related-auto?productId=1362932&makerId=121',\n",
       " 'https://www.autoteiledirekt.de/ajax/product/related-auto?productId=15809&makerId=694',\n",
       " 'https://www.autoteiledirekt.de/ajax/product/related-auto?productId=16144&makerId=74',\n",
       " 'https://www.autoteiledirekt.de/ajax/product/related-auto?productId=16144&makerId=121',\n",
       " 'https://www.autoteiledirekt.de/ajax/product/related-auto?productId=15842&makerId=1380',\n",
       " 'https://www.autoteiledirekt.de/ajax/product/related-auto?productId=1362479&makerId=185',\n",
       " 'https://www.autoteiledirekt.de/ajax/product/related-auto?productId=1362802&makerId=109',\n",
       " 'https://www.autoteiledirekt.de/ajax/product/related-auto?productId=1362803&makerId=109',\n",
       " 'https://www.autoteiledirekt.de/ajax/product/related-auto?productId=1362842&makerId=138',\n",
       " 'https://www.autoteiledirekt.de/ajax/product/related-auto?productId=1362842&makerId=185',\n",
       " 'https://www.autoteiledirekt.de/ajax/product/related-auto?productId=1362923&makerId=36',\n",
       " 'https://www.autoteiledirekt.de/ajax/product/related-auto?productId=15777&makerId=35',\n",
       " 'https://www.autoteiledirekt.de/ajax/product/related-auto?productId=15808&makerId=694',\n",
       " 'https://www.autoteiledirekt.de/ajax/product/related-auto?productId=1363252&makerId=74',\n",
       " 'https://www.autoteiledirekt.de/ajax/product/related-auto?productId=1362635&makerId=5',\n",
       " 'https://www.autoteiledirekt.de/ajax/product/related-auto?productId=1362635&makerId=104',\n",
       " 'https://www.autoteiledirekt.de/ajax/product/related-auto?productId=1362635&makerId=121',\n",
       " 'https://www.autoteiledirekt.de/ajax/product/related-auto?productId=1362368&makerId=36',\n",
       " 'https://www.autoteiledirekt.de/ajax/product/related-auto?productId=1362838&makerId=183',\n",
       " 'https://www.autoteiledirekt.de/ajax/product/related-auto?productId=1362838&makerId=77',\n",
       " 'https://www.autoteiledirekt.de/ajax/product/related-auto?productId=1362913&makerId=36',\n",
       " 'https://www.autoteiledirekt.de/ajax/product/related-auto?productId=16141&makerId=55',\n",
       " 'https://www.autoteiledirekt.de/ajax/product/related-auto?productId=7275104&makerId=5',\n",
       " 'https://www.autoteiledirekt.de/ajax/product/related-auto?productId=7275104&makerId=92',\n",
       " 'https://www.autoteiledirekt.de/ajax/product/related-auto?productId=7275104&makerId=104',\n",
       " 'https://www.autoteiledirekt.de/ajax/product/related-auto?productId=7275104&makerId=106',\n",
       " 'https://www.autoteiledirekt.de/ajax/product/related-auto?productId=7275104&makerId=121',\n",
       " 'https://www.autoteiledirekt.de/ajax/product/related-auto?productId=16142&makerId=21',\n",
       " 'https://www.autoteiledirekt.de/ajax/product/related-auto?productId=16142&makerId=35',\n",
       " 'https://www.autoteiledirekt.de/ajax/product/related-auto?productId=16142&makerId=88',\n",
       " 'https://www.autoteiledirekt.de/ajax/product/related-auto?productId=1362666&makerId=21',\n",
       " 'https://www.autoteiledirekt.de/ajax/product/related-auto?productId=1362666&makerId=88',\n",
       " 'https://www.autoteiledirekt.de/ajax/product/related-auto?productId=15778&makerId=35',\n",
       " 'https://www.autoteiledirekt.de/ajax/product/related-auto?productId=16145&makerId=74',\n",
       " 'https://www.autoteiledirekt.de/ajax/product/related-auto?productId=16145&makerId=121',\n",
       " 'https://www.autoteiledirekt.de/ajax/product/related-auto?productId=15811&makerId=694',\n",
       " 'https://www.autoteiledirekt.de/ajax/product/related-auto?productId=1362755&makerId=5',\n",
       " 'https://www.autoteiledirekt.de/ajax/product/related-auto?productId=1362755&makerId=4896',\n",
       " 'https://www.autoteiledirekt.de/ajax/product/related-auto?productId=1362755&makerId=104',\n",
       " 'https://www.autoteiledirekt.de/ajax/product/related-auto?productId=1362755&makerId=106',\n",
       " 'https://www.autoteiledirekt.de/ajax/product/related-auto?productId=1362755&makerId=121',\n",
       " 'https://www.autoteiledirekt.de/ajax/product/related-auto?productId=1362323&makerId=35',\n",
       " 'https://www.autoteiledirekt.de/ajax/product/related-auto?productId=1362644&makerId=35',\n",
       " 'https://www.autoteiledirekt.de/ajax/product/related-auto?productId=1362433&makerId=109',\n",
       " 'https://www.autoteiledirekt.de/ajax/product/related-auto?productId=1362921&makerId=84',\n",
       " 'https://www.autoteiledirekt.de/ajax/product/related-auto?productId=1362921&makerId=117',\n",
       " 'https://www.autoteiledirekt.de/ajax/product/related-auto?productId=1362570&makerId=106',\n",
       " 'https://www.autoteiledirekt.de/ajax/product/related-auto?productId=1362570&makerId=121',\n",
       " 'https://www.autoteiledirekt.de/ajax/product/related-auto?productId=1362480&makerId=185',\n",
       " 'https://www.autoteiledirekt.de/ajax/product/related-auto?productId=1362480&makerId=84',\n",
       " 'https://www.autoteiledirekt.de/ajax/product/related-auto?productId=1362480&makerId=117',\n",
       " 'https://www.autoteiledirekt.de/ajax/product/related-auto?productId=15779&makerId=74',\n",
       " 'https://www.autoteiledirekt.de/ajax/product/related-auto?productId=15779&makerId=121',\n",
       " 'https://www.autoteiledirekt.de/ajax/product/related-auto?productId=1362271&makerId=184',\n",
       " 'https://www.autoteiledirekt.de/ajax/product/related-auto?productId=1362271&makerId=72',\n",
       " 'https://www.autoteiledirekt.de/ajax/product/related-auto?productId=1362383&makerId=2',\n",
       " 'https://www.autoteiledirekt.de/ajax/product/related-auto?productId=1363312&makerId=74',\n",
       " 'https://www.autoteiledirekt.de/ajax/product/related-auto?productId=1362345&makerId=36',\n",
       " 'https://www.autoteiledirekt.de/ajax/product/related-auto?productId=1362261&makerId=63']"
      ]
     },
     "execution_count": 3,
     "metadata": {},
     "output_type": "execute_result"
    }
   ],
   "source": [
    "list_url = []\n",
    "for i in range(len(df)):\n",
    "    list_maker_id = df.loc[i, 'Maker_Id'].split(';')\n",
    "    for maker_id in list_maker_id:\n",
    "        list_url.append('https://www.autoteiledirekt.de/ajax/product/related-auto?productId=' + df.loc[i, 'Product_Id'] + '&makerId=' + maker_id)\n",
    "\n",
    "list_url"
   ]
  },
  {
   "cell_type": "code",
   "execution_count": 4,
   "id": "a0102999",
   "metadata": {
    "scrolled": true
   },
   "outputs": [
    {
     "data": {
      "text/plain": [
       "{'1': 'https://www.autoteiledirekt.de/ajax/product/related-auto?productId=1363314&makerId=84',\n",
       " '2': 'https://www.autoteiledirekt.de/ajax/product/related-auto?productId=1363314&makerId=117',\n",
       " '3': 'https://www.autoteiledirekt.de/ajax/product/related-auto?productId=1362409&makerId=25',\n",
       " '4': 'https://www.autoteiledirekt.de/ajax/product/related-auto?productId=1362413&makerId=185',\n",
       " '5': 'https://www.autoteiledirekt.de/ajax/product/related-auto?productId=1362413&makerId=72',\n",
       " '6': 'https://www.autoteiledirekt.de/ajax/product/related-auto?productId=1362413&makerId=109',\n",
       " '7': 'https://www.autoteiledirekt.de/ajax/product/related-auto?productId=1362925&makerId=121',\n",
       " '8': 'https://www.autoteiledirekt.de/ajax/product/related-auto?productId=16143&makerId=5',\n",
       " '9': 'https://www.autoteiledirekt.de/ajax/product/related-auto?productId=16143&makerId=16',\n",
       " '10': 'https://www.autoteiledirekt.de/ajax/product/related-auto?productId=16143&makerId=36',\n",
       " '11': 'https://www.autoteiledirekt.de/ajax/product/related-auto?productId=16143&makerId=184',\n",
       " '12': 'https://www.autoteiledirekt.de/ajax/product/related-auto?productId=16143&makerId=72',\n",
       " '13': 'https://www.autoteiledirekt.de/ajax/product/related-auto?productId=16143&makerId=74',\n",
       " '14': 'https://www.autoteiledirekt.de/ajax/product/related-auto?productId=16143&makerId=80',\n",
       " '15': 'https://www.autoteiledirekt.de/ajax/product/related-auto?productId=16143&makerId=104',\n",
       " '16': 'https://www.autoteiledirekt.de/ajax/product/related-auto?productId=16143&makerId=121',\n",
       " '17': 'https://www.autoteiledirekt.de/ajax/product/related-auto?productId=1362932&makerId=5',\n",
       " '18': 'https://www.autoteiledirekt.de/ajax/product/related-auto?productId=1362932&makerId=104',\n",
       " '19': 'https://www.autoteiledirekt.de/ajax/product/related-auto?productId=1362932&makerId=121',\n",
       " '20': 'https://www.autoteiledirekt.de/ajax/product/related-auto?productId=15809&makerId=694',\n",
       " '21': 'https://www.autoteiledirekt.de/ajax/product/related-auto?productId=16144&makerId=74',\n",
       " '22': 'https://www.autoteiledirekt.de/ajax/product/related-auto?productId=16144&makerId=121',\n",
       " '23': 'https://www.autoteiledirekt.de/ajax/product/related-auto?productId=15842&makerId=1380',\n",
       " '24': 'https://www.autoteiledirekt.de/ajax/product/related-auto?productId=1362479&makerId=185',\n",
       " '25': 'https://www.autoteiledirekt.de/ajax/product/related-auto?productId=1362802&makerId=109',\n",
       " '26': 'https://www.autoteiledirekt.de/ajax/product/related-auto?productId=1362803&makerId=109',\n",
       " '27': 'https://www.autoteiledirekt.de/ajax/product/related-auto?productId=1362842&makerId=138',\n",
       " '28': 'https://www.autoteiledirekt.de/ajax/product/related-auto?productId=1362842&makerId=185',\n",
       " '29': 'https://www.autoteiledirekt.de/ajax/product/related-auto?productId=1362923&makerId=36',\n",
       " '30': 'https://www.autoteiledirekt.de/ajax/product/related-auto?productId=15777&makerId=35',\n",
       " '31': 'https://www.autoteiledirekt.de/ajax/product/related-auto?productId=15808&makerId=694',\n",
       " '32': 'https://www.autoteiledirekt.de/ajax/product/related-auto?productId=1363252&makerId=74',\n",
       " '33': 'https://www.autoteiledirekt.de/ajax/product/related-auto?productId=1362635&makerId=5',\n",
       " '34': 'https://www.autoteiledirekt.de/ajax/product/related-auto?productId=1362635&makerId=104',\n",
       " '35': 'https://www.autoteiledirekt.de/ajax/product/related-auto?productId=1362635&makerId=121',\n",
       " '36': 'https://www.autoteiledirekt.de/ajax/product/related-auto?productId=1362368&makerId=36',\n",
       " '37': 'https://www.autoteiledirekt.de/ajax/product/related-auto?productId=1362838&makerId=183',\n",
       " '38': 'https://www.autoteiledirekt.de/ajax/product/related-auto?productId=1362838&makerId=77',\n",
       " '39': 'https://www.autoteiledirekt.de/ajax/product/related-auto?productId=1362913&makerId=36',\n",
       " '40': 'https://www.autoteiledirekt.de/ajax/product/related-auto?productId=16141&makerId=55',\n",
       " '41': 'https://www.autoteiledirekt.de/ajax/product/related-auto?productId=7275104&makerId=5',\n",
       " '42': 'https://www.autoteiledirekt.de/ajax/product/related-auto?productId=7275104&makerId=92',\n",
       " '43': 'https://www.autoteiledirekt.de/ajax/product/related-auto?productId=7275104&makerId=104',\n",
       " '44': 'https://www.autoteiledirekt.de/ajax/product/related-auto?productId=7275104&makerId=106',\n",
       " '45': 'https://www.autoteiledirekt.de/ajax/product/related-auto?productId=7275104&makerId=121',\n",
       " '46': 'https://www.autoteiledirekt.de/ajax/product/related-auto?productId=16142&makerId=21',\n",
       " '47': 'https://www.autoteiledirekt.de/ajax/product/related-auto?productId=16142&makerId=35',\n",
       " '48': 'https://www.autoteiledirekt.de/ajax/product/related-auto?productId=16142&makerId=88',\n",
       " '49': 'https://www.autoteiledirekt.de/ajax/product/related-auto?productId=1362666&makerId=21',\n",
       " '50': 'https://www.autoteiledirekt.de/ajax/product/related-auto?productId=1362666&makerId=88',\n",
       " '51': 'https://www.autoteiledirekt.de/ajax/product/related-auto?productId=15778&makerId=35',\n",
       " '52': 'https://www.autoteiledirekt.de/ajax/product/related-auto?productId=16145&makerId=74',\n",
       " '53': 'https://www.autoteiledirekt.de/ajax/product/related-auto?productId=16145&makerId=121',\n",
       " '54': 'https://www.autoteiledirekt.de/ajax/product/related-auto?productId=15811&makerId=694',\n",
       " '55': 'https://www.autoteiledirekt.de/ajax/product/related-auto?productId=1362755&makerId=5',\n",
       " '56': 'https://www.autoteiledirekt.de/ajax/product/related-auto?productId=1362755&makerId=4896',\n",
       " '57': 'https://www.autoteiledirekt.de/ajax/product/related-auto?productId=1362755&makerId=104',\n",
       " '58': 'https://www.autoteiledirekt.de/ajax/product/related-auto?productId=1362755&makerId=106',\n",
       " '59': 'https://www.autoteiledirekt.de/ajax/product/related-auto?productId=1362755&makerId=121',\n",
       " '60': 'https://www.autoteiledirekt.de/ajax/product/related-auto?productId=1362323&makerId=35',\n",
       " '61': 'https://www.autoteiledirekt.de/ajax/product/related-auto?productId=1362644&makerId=35',\n",
       " '62': 'https://www.autoteiledirekt.de/ajax/product/related-auto?productId=1362433&makerId=109',\n",
       " '63': 'https://www.autoteiledirekt.de/ajax/product/related-auto?productId=1362921&makerId=84',\n",
       " '64': 'https://www.autoteiledirekt.de/ajax/product/related-auto?productId=1362921&makerId=117',\n",
       " '65': 'https://www.autoteiledirekt.de/ajax/product/related-auto?productId=1362570&makerId=106',\n",
       " '66': 'https://www.autoteiledirekt.de/ajax/product/related-auto?productId=1362570&makerId=121',\n",
       " '67': 'https://www.autoteiledirekt.de/ajax/product/related-auto?productId=1362480&makerId=185',\n",
       " '68': 'https://www.autoteiledirekt.de/ajax/product/related-auto?productId=1362480&makerId=84',\n",
       " '69': 'https://www.autoteiledirekt.de/ajax/product/related-auto?productId=1362480&makerId=117',\n",
       " '70': 'https://www.autoteiledirekt.de/ajax/product/related-auto?productId=15779&makerId=74',\n",
       " '71': 'https://www.autoteiledirekt.de/ajax/product/related-auto?productId=15779&makerId=121',\n",
       " '72': 'https://www.autoteiledirekt.de/ajax/product/related-auto?productId=1362271&makerId=184',\n",
       " '73': 'https://www.autoteiledirekt.de/ajax/product/related-auto?productId=1362271&makerId=72',\n",
       " '74': 'https://www.autoteiledirekt.de/ajax/product/related-auto?productId=1362383&makerId=2',\n",
       " '75': 'https://www.autoteiledirekt.de/ajax/product/related-auto?productId=1363312&makerId=74',\n",
       " '76': 'https://www.autoteiledirekt.de/ajax/product/related-auto?productId=1362345&makerId=36',\n",
       " '77': 'https://www.autoteiledirekt.de/ajax/product/related-auto?productId=1362261&makerId=63'}"
      ]
     },
     "execution_count": 4,
     "metadata": {},
     "output_type": "execute_result"
    }
   ],
   "source": [
    "dict_url = {}\n",
    "for i in range(len(list_url)):\n",
    "    dict_url[str(i+1)] = list_url[i]\n",
    "    \n",
    "dict_url"
   ]
  },
  {
   "cell_type": "code",
   "execution_count": 5,
   "id": "830930b5",
   "metadata": {},
   "outputs": [],
   "source": [
    "import os"
   ]
  },
  {
   "cell_type": "code",
   "execution_count": 6,
   "id": "95c402aa",
   "metadata": {},
   "outputs": [
    {
     "data": {
      "text/plain": [
       "75"
      ]
     },
     "execution_count": 6,
     "metadata": {},
     "output_type": "execute_result"
    }
   ],
   "source": [
    "list_file = list(os.walk('./model'))[0][2]\n",
    "if '.DS_Store' in list_file:\n",
    "    list_file.remove('.DS_Store')\n",
    "if '0.null.txt' in list_file:\n",
    "    list_file.remove('0.null.txt')\n",
    "    \n",
    "list_file.sort()\n",
    "    \n",
    "len(list_file)"
   ]
  },
  {
   "cell_type": "code",
   "execution_count": 7,
   "id": "217348b4",
   "metadata": {},
   "outputs": [
    {
     "data": {
      "text/plain": [
       "{'18': 'https://www.autoteiledirekt.de/ajax/product/related-auto?productId=1362932&makerId=104',\n",
       " '45': 'https://www.autoteiledirekt.de/ajax/product/related-auto?productId=7275104&makerId=121'}"
      ]
     },
     "execution_count": 7,
     "metadata": {},
     "output_type": "execute_result"
    }
   ],
   "source": [
    "dict_url = dict(filter(lambda x: x[0] + '.txt' not in list_file, dict_url.items()))\n",
    "\n",
    "dict_url"
   ]
  },
  {
   "cell_type": "code",
   "execution_count": 8,
   "id": "3d3f95b8",
   "metadata": {},
   "outputs": [],
   "source": [
    "import pyperclip"
   ]
  },
  {
   "cell_type": "code",
   "execution_count": 9,
   "id": "bbbb5d48",
   "metadata": {},
   "outputs": [
    {
     "data": {
      "text/plain": [
       "'let dict_url = {\"18\": \"https://www.autoteiledirekt.de/ajax/product/related-auto?productId=1362932&makerId=104\", \"45\": \"https://www.autoteiledirekt.de/ajax/product/related-auto?productId=7275104&makerId=121\"};\\nlet list_key = [\"18\", \"45\"];\\n'"
      ]
     },
     "execution_count": 9,
     "metadata": {},
     "output_type": "execute_result"
    }
   ],
   "source": [
    "for i, key in zip(range(len(dict_url)), dict_url):\n",
    "    if i == 0:\n",
    "        data_1 = 'let dict_url = {\"' + key + '\": \"' + dict_url[key] + '\", '\n",
    "        data_2 = 'let list_key = [\"' + key + '\", '\n",
    "    else:\n",
    "        data_1 += '\"' + key + '\": \"' + dict_url[key] + '\", '\n",
    "        data_2 += '\"' + key + '\", '\n",
    "\n",
    "data = data_1[:-2] + '};\\n' + data_2[:-2] + '];\\n'\n",
    "\n",
    "pyperclip.copy(data)\n",
    "\n",
    "data"
   ]
  },
  {
   "cell_type": "code",
   "execution_count": null,
   "id": "4bf3dd7d",
   "metadata": {},
   "outputs": [],
   "source": []
  }
 ],
 "metadata": {
  "kernelspec": {
   "display_name": "Python 3 (ipykernel)",
   "language": "python",
   "name": "python3"
  },
  "language_info": {
   "codemirror_mode": {
    "name": "ipython",
    "version": 3
   },
   "file_extension": ".py",
   "mimetype": "text/x-python",
   "name": "python",
   "nbconvert_exporter": "python",
   "pygments_lexer": "ipython3",
   "version": "3.11.3"
  }
 },
 "nbformat": 4,
 "nbformat_minor": 5
}
