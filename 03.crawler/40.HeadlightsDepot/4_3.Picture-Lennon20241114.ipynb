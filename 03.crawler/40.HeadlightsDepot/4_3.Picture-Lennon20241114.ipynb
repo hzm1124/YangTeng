{
 "cells": [
  {
   "cell_type": "code",
   "execution_count": 1,
   "id": "fd57b18b-dc9c-4e81-9f9c-fd78ad3d007b",
   "metadata": {},
   "outputs": [],
   "source": [
    "from openpyxl import load_workbook\n",
    "from openpyxl.utils import get_column_letter\n",
    "\n",
    "# = = = = = = = = = = = = = = =\n",
    "\n",
    "from tqdm import tqdm\n",
    "\n",
    "# = = = = = = = = = = = = = = =\n",
    "\n",
    "import PIL\n",
    "\n",
    "# = = = = = = = = = = = = = = =\n",
    "\n",
    "from io import BytesIO\n",
    "\n",
    "# = = = = = = = = = = = = = = =\n",
    "\n",
    "from openpyxl.drawing.image import Image"
   ]
  },
  {
   "cell_type": "code",
   "execution_count": 2,
   "id": "495ac4ed-4844-4b56-a567-90e7fdf481f8",
   "metadata": {},
   "outputs": [],
   "source": [
    "size, quality = 500, '100%'"
   ]
  },
  {
   "cell_type": "code",
   "execution_count": 3,
   "id": "c49209d4-e100-4ceb-917d-49683c661ded",
   "metadata": {},
   "outputs": [
    {
     "name": "stdout",
     "output_type": "stream",
     "text": [
      "总数量：10\n",
      "\n"
     ]
    },
    {
     "data": {
      "text/plain": [
       "(32, 'AF', 10, 'J')"
      ]
     },
     "execution_count": 3,
     "metadata": {},
     "output_type": "execute_result"
    }
   ],
   "source": [
    "wb = load_workbook('./file/3.part.xlsx')\n",
    "ws = wb.worksheets[0]\n",
    "\n",
    "for column in range(1, ws.max_column + 1):\n",
    "    if ws.cell(1, column).value == 'Json_Src':\n",
    "        column_src = column\n",
    "    elif ws.cell(1, column).value == 'Picture':\n",
    "        column_pic = column\n",
    "\n",
    "count_remain = ws.max_row - 1\n",
    "\n",
    "print(f'总数量：{count_remain}')\n",
    "print()\n",
    "column_src, get_column_letter(column_src), column_pic, get_column_letter(column_pic)"
   ]
  },
  {
   "cell_type": "code",
   "execution_count": 4,
   "id": "02c7e12b-842c-48e0-9a9d-df5ba1459499",
   "metadata": {},
   "outputs": [
    {
     "name": "stderr",
     "output_type": "stream",
     "text": [
      "Progress: 100%|██████████████████████████████| 10/10 [00:01<00:00,  9.50it/s]"
     ]
    },
    {
     "name": "stdout",
     "output_type": "stream",
     "text": [
      "输出ing...\n",
      "\n",
      "Done ~\n"
     ]
    },
    {
     "name": "stderr",
     "output_type": "stream",
     "text": [
      "\n"
     ]
    }
   ],
   "source": [
    "for crawler_index in tqdm(range(2, ws.max_row + 1), desc='Progress', ncols=77):\n",
    "    image = PIL.Image.open(f'./file/3.picture/{crawler_index - 1}.jpg').convert('RGB')\n",
    "\n",
    "    # = = = = = = = = = = = = = = =\n",
    "\n",
    "    scale = size / max(image.width, image.height)\n",
    "    image = image.resize((int(image.width * scale), int(image.height * scale)), PIL.Image.Resampling.LANCZOS)\n",
    "\n",
    "    # = = = = = = = = = = = = = = =\n",
    "\n",
    "    buffer = BytesIO()\n",
    "    if quality == '100%':\n",
    "        image.save(buffer, format=\"PNG\")\n",
    "    else:\n",
    "        image.save(buffer, format=\"JPEG\", quality=int(compress.removesuffix('%')))\n",
    "    buffer.seek(0)\n",
    "\n",
    "    pic = Image(buffer)\n",
    "\n",
    "    # = = = = = = = = = = = = = = =\n",
    "\n",
    "    ws.add_image(pic, f'{get_column_letter(column_pic)}{crawler_index}')\n",
    "\n",
    "    # = = = = = = = = = = = = = = =\n",
    "\n",
    "print('输出ing...')\n",
    "print()\n",
    "wb.save('./file/4.pic.xlsx')\n",
    "print('Done ~')"
   ]
  },
  {
   "cell_type": "code",
   "execution_count": null,
   "id": "22d4f3db",
   "metadata": {},
   "outputs": [],
   "source": []
  }
 ],
 "metadata": {
  "kernelspec": {
   "display_name": "Python 3 (ipykernel)",
   "language": "python",
   "name": "python3"
  },
  "language_info": {
   "codemirror_mode": {
    "name": "ipython",
    "version": 3
   },
   "file_extension": ".py",
   "mimetype": "text/x-python",
   "name": "python",
   "nbconvert_exporter": "python",
   "pygments_lexer": "ipython3",
   "version": "3.12.7"
  }
 },
 "nbformat": 4,
 "nbformat_minor": 5
}
