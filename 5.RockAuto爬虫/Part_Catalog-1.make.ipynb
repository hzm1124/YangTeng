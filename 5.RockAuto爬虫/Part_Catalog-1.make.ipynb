{
 "cells": [
  {
   "cell_type": "markdown",
   "id": "83316369",
   "metadata": {},
   "source": [
    "- Update: 2023.05.11\n",
    "\n",
    "# 0. 配置参数\n",
    "\n",
    "- `ajax`：AJAX (ROCKAUTO)\n",
    "- `rockauto`：ROCKAUTO.COM"
   ]
  },
  {
   "cell_type": "code",
   "execution_count": null,
   "id": "fd4ef73b",
   "metadata": {},
   "outputs": [],
   "source": [
    "ajax = 'https://www.rockauto.com/catalog/catalogapi.php'\n",
    "\n",
    "rockauto = 'https://www.rockauto.com'"
   ]
  },
  {
   "cell_type": "code",
   "execution_count": null,
   "id": "50ecf54b",
   "metadata": {},
   "outputs": [],
   "source": [
    "from urllib.parse import quote"
   ]
  },
  {
   "cell_type": "code",
   "execution_count": null,
   "id": "1b552e2c",
   "metadata": {},
   "outputs": [],
   "source": [
    "headers = {'Content-Type': 'application/x-www-form-urlencoded; charset=UTF-8'}\n",
    "\n",
    "func = r'tab_fetch'\n",
    "payload = r'{\"jstab\":{\"key\":\"catalog\",\"label_simple\":\"Part <span class=\\\"narrow-screen-tab-text\\\">Catalog</span>\"}}'\n",
    "api_json_request = r'1'\n",
    "\n",
    "data = 'func=' + func + '&payload=' + quote(payload, safe=' ').replace(' ', '+') + '&api_json_request=' + api_json_request\n",
    "\n",
    "data"
   ]
  },
  {
   "cell_type": "code",
   "execution_count": null,
   "id": "680513fd",
   "metadata": {},
   "outputs": [],
   "source": [
    "import requests"
   ]
  },
  {
   "cell_type": "code",
   "execution_count": null,
   "id": "f45224ed",
   "metadata": {},
   "outputs": [],
   "source": [
    "resp = requests.post(ajax, headers=headers, data=data).text\n",
    "\n",
    "resp"
   ]
  },
  {
   "cell_type": "code",
   "execution_count": null,
   "id": "67f188a2",
   "metadata": {},
   "outputs": [],
   "source": [
    "import json"
   ]
  },
  {
   "cell_type": "code",
   "execution_count": null,
   "id": "d908d8fa",
   "metadata": {},
   "outputs": [],
   "source": [
    "html = json.loads(resp)['html_fill_sections']['section-tab-panel-inner-dynamic[catalog]']\n",
    "\n",
    "html"
   ]
  },
  {
   "cell_type": "code",
   "execution_count": null,
   "id": "8d084b12",
   "metadata": {},
   "outputs": [],
   "source": [
    "from bs4 import BeautifulSoup"
   ]
  },
  {
   "cell_type": "code",
   "execution_count": null,
   "id": "cc295fe8",
   "metadata": {},
   "outputs": [],
   "source": [
    "soup = BeautifulSoup(html, 'lxml')\n",
    "\n",
    "print(soup.prettify())"
   ]
  },
  {
   "cell_type": "code",
   "execution_count": null,
   "id": "45bb3bc6",
   "metadata": {},
   "outputs": [],
   "source": [
    "with open('./make.html', 'w', encoding='utf-8') as file:\n",
    "    file.write(str(soup))"
   ]
  },
  {
   "cell_type": "code",
   "execution_count": null,
   "id": "ce60db64",
   "metadata": {},
   "outputs": [],
   "source": [
    "from lxml import etree"
   ]
  },
  {
   "cell_type": "code",
   "execution_count": null,
   "id": "589845ab",
   "metadata": {},
   "outputs": [],
   "source": [
    "html = etree.HTML(str(soup))"
   ]
  },
  {
   "cell_type": "code",
   "execution_count": null,
   "id": "46b5906c",
   "metadata": {},
   "outputs": [],
   "source": [
    "list_make = html.xpath('//td[@class=\"nlabel\"]/a/text()')\n",
    "\n",
    "list_make"
   ]
  },
  {
   "cell_type": "code",
   "execution_count": null,
   "id": "b307d66d",
   "metadata": {},
   "outputs": [],
   "source": [
    "list_url = [rockauto + i for i in html.xpath('//td[@class=\"niconspace ncollapsedicon\"]/a/@href')]\n",
    "\n",
    "list_url"
   ]
  },
  {
   "cell_type": "code",
   "execution_count": null,
   "id": "eb11d126",
   "metadata": {},
   "outputs": [],
   "source": [
    "import pandas as pd"
   ]
  },
  {
   "cell_type": "code",
   "execution_count": null,
   "id": "5291e605",
   "metadata": {},
   "outputs": [],
   "source": [
    "df = pd.DataFrame({'make': list_make,\n",
    "                   'url': list_url})\n",
    "\n",
    "df.to_excel('./menu-make.xlsx', index=False)\n",
    "\n",
    "df"
   ]
  },
  {
   "cell_type": "code",
   "execution_count": null,
   "id": "0de90f54",
   "metadata": {},
   "outputs": [],
   "source": []
  }
 ],
 "metadata": {
  "kernelspec": {
   "display_name": "Python 3 (ipykernel)",
   "language": "python",
   "name": "python3"
  },
  "language_info": {
   "codemirror_mode": {
    "name": "ipython",
    "version": 3
   },
   "file_extension": ".py",
   "mimetype": "text/x-python",
   "name": "python",
   "nbconvert_exporter": "python",
   "pygments_lexer": "ipython3",
   "version": "3.11.3"
  }
 },
 "nbformat": 4,
 "nbformat_minor": 5
}
