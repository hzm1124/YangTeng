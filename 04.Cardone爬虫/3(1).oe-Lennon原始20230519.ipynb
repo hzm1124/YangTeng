{
 "cells": [
  {
   "cell_type": "code",
   "execution_count": 1,
   "id": "cdd9fb8d",
   "metadata": {},
   "outputs": [
    {
     "name": "stdout",
     "output_type": "stream",
     "text": [
      "1\n"
     ]
    },
    {
     "data": {
      "text/plain": [
       "['40-1000']"
      ]
     },
     "execution_count": 1,
     "metadata": {},
     "output_type": "execute_result"
    }
   ],
   "source": [
    "import pandas as pd\n",
    "\n",
    "df_menu = pd.read_excel('./detail.xlsx', header=0)\n",
    "list_part_number = df_menu['Part Number'].to_list()\n",
    "\n",
    "print(len(list_part_number))\n",
    "list_part_number"
   ]
  },
  {
   "cell_type": "code",
   "execution_count": 2,
   "id": "2552711d",
   "metadata": {},
   "outputs": [],
   "source": [
    "df = pd.DataFrame(columns=['Part Number',\n",
    "                           'OE',\n",
    "                           'status'])"
   ]
  },
  {
   "cell_type": "code",
   "execution_count": 3,
   "id": "f1d1a844",
   "metadata": {},
   "outputs": [],
   "source": [
    "import requests"
   ]
  },
  {
   "cell_type": "code",
   "execution_count": 4,
   "id": "e7b6001b",
   "metadata": {},
   "outputs": [
    {
     "data": {
      "text/plain": [
       "'[{\"__type\":\"FinishedGood\",\"__isSchema\":false,\"__path\":\"/ProductDeskEntity/\",\"__fullPath\":\"/ProductDeskEntity/CPCX|40-1000\",\"__modified\":\"2023-05-19T08:00:15.653Z\",\"__instanceId\":\"CPCX|40-1000\",\"__legacyId\":\"2085510957217265418\",\"productDeskName\":\"Windshield Wiper Motor\",\"id\":\"CPCX|40-1000\",\"RelatedProducts\":[],\"modifiedOn\":\"2023-05-19T08:00:15.653Z\",\"channels\":[{\"code\":\"R0164\",\"name\":\"B Attributes\",\"requiresApproval\":0,\"id\":\"5500392672583901\"},{\"code\":\"R0159\",\"name\":\"\\\\\"Popularity Sorting\\\\\"\",\"requiresApproval\":0,\"id\":\"14085640583406600\"},{\"code\":\"R0118\",\"name\":\"All SKU only\",\"requiresApproval\":0,\"id\":\"79040821002085808\"},{\"code\":\"R0161\",\"name\":\"Show on Site\",\"requiresApproval\":0,\"id\":\"115580352379583008\"},{\"code\":\"R0107\",\"name\":\"Vibrant Marketing Q\",\"requiresApproval\":0,\"id\":\"125106138327532704\"},{\"code\":\"R0155\",\"name\":\"\\\\\"Descriptions\\\\\"\",\"requiresApproval\":0,\"id\":\"250597815806126112\"},{\"code\":\"R0106\",\"name\":\"YouTube\",\"requiresApproval\":0,\"id\":\"391720998998962112\"},{\"code\":\"R0105\",\"name\":\"\\\\\"Digital Assets\\\\\"\",\"requiresApproval\":0,\"id\":\"440482911086949952\"},{\"code\":\"R0157\",\"name\":\"Brand New\",\"requiresApproval\":0,\"id\":\"527652436813773696\"},{\"code\":\"R0154\",\"name\":\"Item Descriptions\",\"requiresApproval\":0,\"id\":\"542604911495065984\"},{\"code\":\"R0156\",\"name\":\"Rebates Manager\",\"requiresApproval\":0,\"id\":\"599470158614506496\"},{\"code\":\"R0137\",\"name\":\"Color WorkQ\",\"requiresApproval\":0,\"id\":\"671808520482284928\"},{\"code\":\"R0109\",\"name\":\"Weight Update WorkQ\",\"requiresApproval\":0,\"id\":\"963914442537601152\"}],\"Category\":[{\"code\":\"Category|141\",\"name\":\"Windshield Wiper Motor\",\"modified\":\"2023-01-31T22:00:01.763Z\",\"id\":\"3249236616540717069\",\"parentId\":\"767406735833307828\"}],\"Category Mapping\":[{\"name\":\"Windshield Wiper Motor\",\"modified\":\"2022-07-18T21:46:02.927Z\",\"id\":\"844537821268574598\",\"value\":\"Category|141\"}],\"CrossReferences\":[{\"reference\":\"22154913\",\"accountId\":\"1299817030461690390\",\"note\":\"CNWN\",\"code\":\"22154913\",\"accountName\":\"DefaultVendor\",\"qualityCode\":\"S\",\"name\":\"Pontiac\",\"referenceType\":\"OE Part\",\"id\":\"978152669645277459\",\"quality\":\"Standard\"},{\"reference\":\"40-1000\",\"accountId\":\"1299817030461690390\",\"note\":\"CPCX\",\"code\":\"40-1000\",\"accountName\":\"DefaultVendor\",\"qualityCode\":\"P\",\"name\":\"CARDONE Reman\",\"referenceType\":\"User Defined\",\"id\":\"2256086424565955077\",\"quality\":\"Premium\"},{\"reference\":\"12336092\",\"accountId\":\"1299817030461690390\",\"note\":\"BCVC\",\"code\":\"12336092\",\"accountName\":\"DefaultVendor\",\"qualityCode\":\"S\",\"name\":\"ACDelco\",\"referenceType\":\"Competitor Part\",\"id\":\"147730513597525918\",\"quality\":\"Standard\"},{\"reference\":\"401000\",\"accountId\":\"1299817030461690390\",\"note\":\"CPCX\",\"code\":\"401000\",\"accountName\":\"DefaultVendor\",\"qualityCode\":\"P\",\"name\":\"CARDONE Reman\",\"referenceType\":\"Competitor Part\",\"id\":\"352335842440022844\",\"quality\":\"Premium\"},{\"reference\":\"22154913\",\"accountId\":\"1299817030461690390\",\"note\":\"BWPP\",\"code\":\"22154913\",\"accountName\":\"DefaultVendor\",\"qualityCode\":\"S\",\"name\":\"Chevrolet\",\"referenceType\":\"OE Part\",\"id\":\"733845483164362475\",\"quality\":\"Standard\"},{\"reference\":\"22110039\",\"accountId\":\"1299817030461690390\",\"note\":\"BWPP\",\"code\":\"22110039\",\"accountName\":\"DefaultVendor\",\"qualityCode\":\"S\",\"name\":\"Chevrolet\",\"referenceType\":\"OE Part\",\"id\":\"232141668810381360\",\"quality\":\"Standard\"},{\"reference\":\"22110039\",\"accountId\":\"1299817030461690390\",\"note\":\"CNWN\",\"code\":\"22110039\",\"accountName\":\"DefaultVendor\",\"qualityCode\":\"S\",\"name\":\"Pontiac\",\"referenceType\":\"OE Part\",\"id\":\"28064578914670860\",\"quality\":\"Standard\"}],\"DigitalAssets\":[{\"fileName\":\"401000-ang\",\"orientation\":\"\",\"altText\":\"CARDONE Reman 40-1000 Windshield Wiper Motor -Angle\",\"PIESAssetTypeCode\":\"\",\"description\":\"Image 1\",\"modified\":\"1684485991210\",\"sort\":\"1\",\"fileType\":\"jpg\",\"partType\":\"Windshield Wiper Motor\",\"url\":\"https://cardone.vsdam.com/Data/23/Repositories/F6C5638756DB46949C52F2D92027A142/0c6a58b4-f0db-49b4-a980-ac201c3bae23/Cache/482.jpg\",\"assetType\":\"P04\"},{\"orientation\":\"\",\"altText\":\"CARDONE Reman 40-1000 Windshield Wiper Motor -Back\",\"description\":\"Image 2\",\"modified\":\"1684485991210\",\"sort\":\"2\",\"url\":\"https://cardone.vsdam.com/Data/23/Repositories/F6C5638756DB46949C52F2D92027A142/b42106af-dbe7-424b-b14d-12d7456f07f1/Cache/482.jpg\",\"fileType\":\"jpg\",\"partType\":\"Windshield Wiper Motor\",\"assetType\":\"P01\"},{\"orientation\":\"\",\"altText\":\"CARDONE Reman 40-1000 Windshield Wiper Motor -Front\",\"description\":\"Image 1\",\"modified\":\"1684485991210\",\"sort\":\"2\",\"url\":\"https://cardone.vsdam.com/Data/23/Repositories/F6C5638756DB46949C52F2D92027A142/9e5bbc9d-b5e4-4a33-991b-16195ee80d38/Cache/482.jpg\",\"fileType\":\"jpg\",\"partType\":\"Windshield Wiper Motor\",\"assetType\":\"P01\"},{\"orientation\":\"\",\"altText\":\"CARDONE Reman 40-1000 Windshield Wiper Motor -Left\",\"description\":\"Image 3\",\"modified\":\"1684485991210\",\"sort\":\"4\",\"url\":\"https://cardone.vsdam.com/Data/23/Repositories/F6C5638756DB46949C52F2D92027A142/0663bb30-6f2b-4103-8a22-97602de1300c/Cache/482.jpg\",\"fileType\":\"jpg\",\"partType\":\"Windshield Wiper Motor\",\"assetType\":\"P01\"},{\"orientation\":\"\",\"altText\":\"CARDONE Reman 40-1000 Windshield Wiper Motor -Right\",\"description\":\"Image 4\",\"modified\":\"1684485991210\",\"sort\":\"5\",\"url\":\"https://cardone.vsdam.com/Data/23/Repositories/F6C5638756DB46949C52F2D92027A142/383d4019-147f-41c6-8672-5ffa7c0a65e2/Cache/482.jpg\",\"fileType\":\"jpg\",\"partType\":\"Windshield Wiper Motor\",\"assetType\":\"P01\"},{\"fileName\":\"401000-con\",\"orientation\":\"\",\"altText\":\"CARDONE Reman 40-1000 Windshield Wiper Motor -Connector\",\"PIESAssetTypeCode\":\"\",\"description\":\"Image 6\",\"modified\":\"1684485991210\",\"sort\":\"6\",\"fileType\":\"jpg\",\"partType\":\"Windshield Wiper Motor\",\"url\":\"https://cardone.vsdam.com/Data/23/Repositories/F6C5638756DB46949C52F2D92027A142/5a9bdcdc-6f11-45a0-baea-29da466e3ea1/Cache/482.jpg\",\"assetType\":\"P01\"},{\"orientation\":\"\",\"altText\":\"CARDONE Reman 40-1000 Windshield Wiper Motor -User Defined 1\",\"description\":\"Image 8\",\"modified\":\"1684485991210\",\"sort\":\"10\",\"url\":\"https://cardone.vsdam.com/Data/23/Repositories/F6C5638756DB46949C52F2D92027A142/2a13bb74-bd17-4387-b121-40110b8eb684/Cache/482.jpg\",\"fileType\":\"jpg\",\"partType\":\"Windshield Wiper Motor\",\"assetType\":\"P01\"},{\"orientation\":\"\",\"altText\":\"CARDONE Reman 40-1000 Windshield Wiper Motor -User Defined 2\",\"description\":\"Image 9\",\"modified\":\"1684485991210\",\"sort\":\"20\",\"url\":\"https://cardone.vsdam.com/Data/23/Repositories/F6C5638756DB46949C52F2D92027A142/4e9b1d03-e0f8-4903-bd01-2b04646022b6/Cache/482.jpg\",\"fileType\":\"jpg\",\"partType\":\"Windshield Wiper Motor\",\"assetType\":\"P01\"},{\"description\":\"Brochure1\",\"modified\":\"2022-04-21T20:24:55.577Z\",\"url\":\"https://www.cardone.com/content/Products/CPCX_Cardone Reman_Wiper Motor_Mkt.pdf\",\"fileType\":\"pdf\"},{\"fileName\":\"CPCX_Cardone Reman_Wiper Motor_Mkt\",\"PIESAssetTypeCode\":\"BRO\",\"description\":\"Brochure2\",\"modified\":\"1684485991195\",\"alias\":\"Marketing Copy\",\"url\":\"https://www.cardone.com/content/Products/CPCX_Cardone Reman_Wiper Motor_Mkt.pdf\",\"fileType\":\"pdf\"},{\"description\":\"Installation1\",\"modified\":\"2022-04-21T20:41:39.940Z\",\"url\":\"https://www.cardone.com/content/Products/931128-40DE Wiper Motors Digital English.pdf\",\"fileType\":\"pdf\"},{\"fileName\":\"931128-40DS Wiper Motors Digital Spanish\",\"PIESAssetTypeCode\":\"INS\",\"description\":\"Installation2\",\"modified\":\"1684485991195\",\"alias\":\"Wiper Motor Installation Spanish\",\"url\":\"https://www.cardone.com/content/Products/931128-40DS Wiper Motors Digital Spanish.pdf\",\"fileType\":\"pdf\"},{\"description\":\"Installation3\",\"modified\":\"2022-04-21T20:41:39.943Z\",\"url\":\"https://www.cardone.com/content/Products/931128-40DF Wiper Motors Digital French.pdf\",\"fileType\":\"pdf\"},{\"fileName\":\"931128-40DE Wiper Motors Digital English\",\"PIESAssetTypeCode\":\"INS\",\"description\":\"Installation4\",\"modified\":\"1684485991195\",\"alias\":\"Wiper Motor Installation English\",\"url\":\"https://www.cardone.com/content/Products/931128-40DE Wiper Motors Digital English.pdf\",\"fileType\":\"pdf\"},{\"description\":\"Installation5\",\"modified\":\"2022-04-21T20:41:39.950Z\",\"url\":\"https://www.cardone.com/content/Products/931128-40DS Wiper Motors Digital Spanish.pdf\",\"fileType\":\"pdf\"},{\"fileName\":\"931128-40DF Wiper Motors Digital French\",\"PIESAssetTypeCode\":\"INS\",\"description\":\"Installation6\",\"modified\":\"1684485991195\",\"alias\":\"Wiper Motor Installation French\",\"url\":\"https://www.cardone.com/content/Products/931128-40DF Wiper Motors Digital French.pdf\",\"fileType\":\"pdf\"},{\"fileName\":\"401214CPEM Core Policy - Electrical Motors\",\"PIESAssetTypeCode\":\"PDB\",\"description\":\"Product Brochure1\",\"modified\":\"1684485991195\",\"alias\":\"Electrical Motor Core Policy\",\"url\":\"https://www.cardone.com/content/Products/401214CPEM Core Policy - Electrical Motors.pdf\",\"fileType\":\"pdf\"},{\"description\":\"Product Brochure2\",\"modified\":\"2022-04-21T20:38:38.727Z\",\"url\":\"https://www.cardone.com/content/Products/401214CPEM Core Policy - Electrical Motors.pdf\",\"fileType\":\"pdf\"},{\"fileName\":\"PT40-0015\",\"PIESAssetTypeCode\":\"BUL\",\"alias\":\"40-1010, 1012, 1019, 1025. 85-1012, 1025 Crank Arm Adjustment\",\"description\":\"Technical Bulletin\",\"modified\":\"1684485991195\",\"fileType\":\"pdf\",\"url\":\"https://www.cardone.com/content/Products/PT40-0015.pdf\"},{\"fileName\":\"PT40-0005\",\"PIESAssetTypeCode\":\"BUL\",\"alias\":\"81-158PB Replacement Pulse Board park Problem\",\"description\":\"Technical Bulletin\",\"modified\":\"1684485991195\",\"fileType\":\"pdf\",\"url\":\"https://www.cardone.com/content/Products/PT40-0005.pdf\"},{\"fileName\":\"PT40-0011\",\"PIESAssetTypeCode\":\"BUL\",\"alias\":\"Wiper Motor Bench test for 40-446\",\"description\":\"Technical Bulletin\",\"modified\":\"1684485991195\",\"fileType\":\"pdf\",\"url\":\"https://www.cardone.com/content/Products/PT40-0011.pdf\"},{\"fileName\":\"PT40-0009\",\"PIESAssetTypeCode\":\"BUL\",\"alias\":\"Wiper Motor Bench Test for 40-299, 297, 267\",\"description\":\"Technical Bulletin\",\"modified\":\"1684485991195\",\"fileType\":\"pdf\",\"url\":\"https://www.cardone.com/content/Products/PT40-0009.pdf\"},{\"fileName\":\"PT40-0007\",\"PIESAssetTypeCode\":\"BUL\",\"alias\":\"Wiper Motor Bench Test for 40-190, 40-191\",\"description\":\"Technical Bulletin\",\"modified\":\"1684485991195\",\"fileType\":\"pdf\",\"url\":\"https://www.cardone.com/content/Products/PT40-0007.pdf\"},{\"fileName\":\"PT40-0003\",\"PIESAssetTypeCode\":\"BUL\",\"alias\":\"Wiper Motor Bench test for 40-169\",\"description\":\"Technical Bulletin\",\"modified\":\"1684485991195\",\"fileType\":\"pdf\",\"url\":\"https://www.cardone.com/content/Products/PT40-0003.pdf\"},{\"fileName\":\"PT40-0016\",\"PIESAssetTypeCode\":\"BUL\",\"alias\":\"Wiper Motor Bench Test\",\"description\":\"Technical Bulletin\",\"modified\":\"1684485991195\",\"fileType\":\"pdf\",\"url\":\"https://www.cardone.com/content/Products/PT40-0016.pdf\"},{\"fileName\":\"PT40-0014\",\"PIESAssetTypeCode\":\"BUL\",\"alias\":\"40-1032L: Determining GM Vehicles with Moisture Sensitive Wipers\",\"description\":\"Technical Bulletin\",\"modified\":\"1684485991195\",\"fileType\":\"pdf\",\"url\":\"https://www.cardone.com/content/Products/PT40-0014.pdf\"},{\"fileName\":\"PT40-0004\",\"PIESAssetTypeCode\":\"BUL\",\"alias\":\"Wiper Motor Bench Test 40-158, 159, 192, 1003, 1004.\",\"description\":\"Technical Bulletin\",\"modified\":\"1684485991195\",\"fileType\":\"pdf\",\"url\":\"https://www.cardone.com/content/Products/PT40-0004.pdf\"},{\"fileName\":\"PT40-0013\",\"PIESAssetTypeCode\":\"BUL\",\"alias\":\"Wiper Motor Bench test for 40-10005\",\"description\":\"Technical Bulletin\",\"modified\":\"1684485991195\",\"fileType\":\"pdf\",\"url\":\"https://www.cardone.com/content/Products/PT40-0013.pdf\"},{\"fileName\":\"PT40-0001\",\"PIESAssetTypeCode\":\"BUL\",\"description\":\"Technical Bulletin1\",\"modified\":\"1684485991195\",\"alias\":\"Grounding Wiper Motor Corrects Parking and Other Problems\",\"url\":\"https://www.cardone.com/content/Products/PT40-0001.pdf\",\"fileType\":\"pdf\"},{\"fileName\":\"PT40-0002\",\"PIESAssetTypeCode\":\"BUL\",\"description\":\"Technical Bulletin2\",\"modified\":\"1684485991195\",\"alias\":\"Operating Wiper Motor Before Installation Causes Problems\",\"url\":\"https://www.cardone.com/content/Products/PT40-0002.pdf\",\"fileType\":\"pdf\"},{\"description\":\"Technical Bulletin3\",\"modified\":\"2022-04-21T20:57:00.237Z\",\"url\":\"https://www.cardone.com/content/Products/PT40-0010.pdf\",\"fileType\":\"pdf\"},{\"fileName\":\"PT40-0008\",\"PIESAssetTypeCode\":\"BUL\",\"description\":\"Technical Bulletin4\",\"modified\":\"1684485991195\",\"alias\":\"Water Intrusion Causes Many Wiper Motor Problems\",\"url\":\"https://www.cardone.com/content/Products/PT40-0008.pdf\",\"fileType\":\"pdf\"},{\"description\":\"Technical Bulletin5\",\"modified\":\"2022-04-21T20:57:00.243Z\",\"url\":\"https://www.cardone.com/content/Products/PT40-0001.pdf\",\"fileType\":\"pdf\"},{\"description\":\"Technical Bulletin6\",\"modified\":\"2022-04-21T20:57:00.247Z\",\"url\":\"https://www.cardone.com/content/Products/PT40-0002.pdf\",\"fileType\":\"pdf\"},{\"fileName\":\"PT40-0010\",\"PIESAssetTypeCode\":\"BUL\",\"description\":\"Technical Bulletin7\",\"modified\":\"1684485991195\",\"alias\":\"Pro Tech Bulletin Summary - Motors\",\"url\":\"https://www.cardone.com/content/Products/PT40-0010.pdf\",\"fileType\":\"pdf\"},{\"description\":\"Technical Bulletin8\",\"modified\":\"2022-04-21T20:57:00.253Z\",\"url\":\"https://www.cardone.com/content/Products/PT40-0008.pdf\",\"fileType\":\"pdf\"},{\"description\":\"Warranty1\",\"modified\":\"2022-04-21T20:49:52.803Z\",\"url\":\"https://www.cardone.com/content/Products/99519WARR Cardone Warranty Policy_USA.pdf\",\"fileType\":\"pdf\"},{\"fileName\":\"99519CWARRF_Cardone_Warranty_Canada French\",\"PIESAssetTypeCode\":\"WAR\",\"description\":\"Warranty10\",\"modified\":\"1684485991195\",\"alias\":\"Cardone French Warranty\",\"url\":\"https://www.cardone.com/content/Products/99519CWARRF_Cardone_Warranty_Canada French.pdf\",\"fileType\":\"pdf\"},{\"description\":\"Warranty2\",\"modified\":\"2022-04-21T20:49:52.807Z\",\"url\":\"https://www.cardone.com/content/Products/99519CWARR Cardone Warranty Policy_Canada.pdf\",\"fileType\":\"pdf\"},{\"fileName\":\"99519WARRS_Cardone_Warranty_Span\",\"PIESAssetTypeCode\":\"WAR\",\"description\":\"Warranty3\",\"modified\":\"1684485991195\",\"alias\":\"Cardone Spanish Warranty\",\"url\":\"https://www.cardone.com/content/Products/99519WARRS_Cardone_Warranty_Span.pdf\",\"fileType\":\"pdf\"},{\"fileName\":\"99519WARRMS_Cardone_Warranty_MEX_Span\",\"PIESAssetTypeCode\":\"WAR\",\"description\":\"Warranty4\",\"modified\":\"1684485991195\",\"alias\":\"Cardone Mexico Warranty\",\"url\":\"https://www.cardone.com/content/Products/99519WARRMS_Cardone_Warranty_MEX_Span.pdf\",\"fileType\":\"pdf\"},{\"description\":\"Warranty5\",\"modified\":\"2022-04-21T20:49:52.813Z\",\"url\":\"https://www.cardone.com/content/Products/99519CWARRF_Cardone_Warranty_Canada French.pdf\",\"fileType\":\"pdf\"},{\"fileName\":\"99519WARR Cardone Warranty Policy_USA\",\"PIESAssetTypeCode\":\"WAR\",\"description\":\"Warranty6\",\"modified\":\"1684485991195\",\"alias\":\"Cardone USA Warranty\",\"url\":\"https://www.cardone.com/content/Products/99519WARR Cardone Warranty Policy_USA.pdf\",\"fileType\":\"pdf\"},{\"fileName\":\"99519CWARR Cardone Warranty Policy_Canada\",\"PIESAssetTypeCode\":\"WAR\",\"description\":\"Warranty7\",\"modified\":\"1684485991195\",\"alias\":\"Cardone Canada Warranty\",\"url\":\"https://www.cardone.com/content/Products/99519CWARR Cardone Warranty Policy_Canada.pdf\",\"fileType\":\"pdf\"},{\"description\":\"Warranty8\",\"modified\":\"2022-04-21T20:49:52.820Z\",\"url\":\"https://www.cardone.com/content/Products/99519WARRS_Cardone_Warranty_Span.pdf\",\"fileType\":\"pdf\"},{\"description\":\"Warranty9\",\"modified\":\"2022-04-21T20:49:52.820Z\",\"url\":\"https://www.cardone.com/content/Products/99519WARRMS_Cardone_Warranty_MEX_Span.pdf\",\"fileType\":\"pdf\"},{\"fileName\":\"\",\"PIESAssetTypeCode\":\"\",\"alias\":\"1993-2005 GM Wiper Motor Crank Arm Calibration\",\"description\":\"Installation Video\",\"modified\":\"1684485991210\",\"fileType\":\"wmv\",\"url\":\"http://www.youtube.com/watch?v=e_TBkMTN42I&list=PLF49430A12FFB3F98&index=1\",\"assetType\":\"VIN\"}],\"createdOn\":\"2022-02-03T17:09:15.923Z\",\"EXPI HTS\":\"8501312000\",\"QuantityofEaches\":\"1\",\"Warranty10\":\"https://cardoneb2b.mybigcommerce.com/content/Products/99519CWARRF_Cardone_Warranty_Canada French.pdf\",\"DEF Description\":\"Windshield Wiper Motor\",\"AAIAProductCategoryCode\":\"180103\",\"DES Description\":\"Windshield Wiper Motor\",\"Image 8\":\"https://cardone.vsdam.com/Data/23/Repositories/F6C5638756DB46949C52F2D92027A142/2a13bb74-bd17-4387-b121-40110b8eb684/Cache/482.jpg\",\"MinimumOrderQuantityUOM\":\"EA\",\"Installation\":\"https://cardoneb2b.mybigcommerce.com/content/Products/931128-40DE Wiper Motors Digital English.pdf|https://cardoneb2b.mybigcommerce.com/content/Products/931128-40DS Wiper Motors Digital Spanish.pdf|https://cardoneb2b.mybigcommerce.com/content/Products/931128-40DF Wiper Motors Digital French.pdf|https://cardoneb2b.mybigcommerce.com/content/Products/931128-40DE Wiper Motors Digital English.pdf|https://cardoneb2b.mybigcommerce.com/content/Products/931128-40DS Wiper Motors Digital Spanish.pdf|https://cardoneb2b.mybigcommerce.com/content/Products/931128-40DF Wiper Motors Digital French.pdf\",\"Length\":\"8.5\",\"EXPI WT1\":\"12\",\"ItemQuantitySize\":\"5.9\",\"QuantityPerApplicationQualifier\":\"NOR\",\"E-Waste\":\"Yes\",\"User Defined 2 AltText\":\"CARDONE Reman 40-1000 Windshield Wiper Motor-User Defined 2\",\"PackageLevelGTIN\":\"00082617338332\",\"Brochure1\":\"https://cardoneb2b.mybigcommerce.com/content/Products/CPCX_Cardone Reman_Wiper Motor_Mkt.pdf\",\"Product Brochure1\":\"https://cardoneb2b.mybigcommerce.com/content/Products/401214CPEM Core Policy - Electrical Motors.pdf\",\"UOM\":\"IN\",\"Brochure2\":\"https://cardoneb2b.mybigcommerce.com/content/Products/CPCX_Cardone Reman_Wiper Motor_Mkt.pdf\",\"PackageBarCodeCharacters\":\"00082617338332\",\"Warranty3\":\"https://cardoneb2b.mybigcommerce.com/content/Products/99519WARRS_Cardone_Warranty_Span.pdf\",\"Right AltText\":\"CARDONE Reman 40-1000 Windshield Wiper Motor-Right\",\"KEY Description\":\"Windshield Wiper Motor, Wiper Motor\",\"ItemQuantitySizeUOM\":\"LB\",\"User Defined 2 FileName\":\"CARDONE_Reman_40-1000_User_Defined_2.jpg\",\"ItemLevelGTIN\":\"00082617338332\",\"Warranty\":\"https://cardoneb2b.mybigcommerce.com/content/Products/99519WARR Cardone Warranty Policy_USA.pdf|https://cardoneb2b.mybigcommerce.com/content/Products/99519CWARR Cardone Warranty Policy_Canada.pdf|https://cardoneb2b.mybigcommerce.com/content/Products/99519WARRS_Cardone_Warranty_Span.pdf|https://cardoneb2b.mybigcommerce.com/content/Products/99519WARRMS_Cardone_Warranty_MEX_Span.pdf|https://cardoneb2b.mybigcommerce.com/content/Products/99519CWARRF_Cardone_Warranty_Canada French.pdf|https://cardoneb2b.mybigcommerce.com/content/Products/99519WARR Cardone Warranty Policy_USA.pdf|https://cardoneb2b.mybigcommerce.com/content/Products/99519CWARR Cardone Warranty Policy_Canada.pdf|https://cardoneb2b.mybigcommerce.com/content/Products/99519WARRS_Cardone_Warranty_Span.pdf|https://cardoneb2b.mybigcommerce.com/content/Products/99519WARRMS_Cardone_Warranty_MEX_Span.pdf|https://cardoneb2b.mybigcommerce.com/content/Products/99519CWARRF_Cardone_Warranty_Canada French.pdf\",\"Warranty Video\":\"http://www.youtube.com/watch?v=e_TBkMTN42I&list=PLF49430A12FFB3F98&index=1\",\"EXPI WS2\":\"TX\",\"Product Brochure2\":\"https://cardoneb2b.mybigcommerce.com/content/Products/401214CPEM Core Policy - Electrical Motors.pdf\",\"Technical Bulletin1\":\"https://cardoneb2b.mybigcommerce.com/content/Products/PT40-0001.pdf\",\"Product Line Marketing Stmt\":\"After 50 years of leadership in the automotive aftermarket, we are excited to start the next chapter of CARDONE’s dynamic history. We are positioned to support the next wave of vehicle technology and ready to innovate new solutions that bring value to our customers – all while upholding sustainable business practices and high ethical principles. We build it better.\",\"Installation5\":\"https://cardoneb2b.mybigcommerce.com/content/Products/931128-40DS Wiper Motors Digital Spanish.pdf\",\"Washer Pump Included\":\"No\",\"Image 2 AltText\":\"CARDONE Reman 40-1000 Windshield Wiper Motor-Back\",\"Mounting Hole Quantity\":\"3\",\"Right FileName\":\"CARDONE_Reman_40-1000_Right.jpg\",\"SyncToBC\":\"1\",\"PackageUOM\":\"EA\",\"Warranty Disclaimer\":\"A warranty must be returned to the parts supplier where the CARDONE product was purchased and is subject to that part store\\'s terms & conditions. If the parts retailer offers a different warranty than the CARDONE warranty, the retailer’s policy will prevail\",\"Sustainable Choice\":\"Yes\",\"Warranty5\":\"https://cardoneb2b.mybigcommerce.com/content/Products/99519CWARRF_Cardone_Warranty_Canada French.pdf\",\"EXPI LIF\":\"2\",\"FAQs\":\"<strong>The wiper motor continues to stop in the middle of the windshield. What’s causing this to happen?</strong><br><br>If the motor does not have hidden wiper blades, the most likely cause of parking misalignment is the crank arm position. Adjust the crank arm angle on the motor shaft to park wipers at bottom of windshield. Refer to a vehicle specific service manual or online material for the “hidden park” reset procedure.<br><br><strong>I just installed a new wiper motor and put my old washer pump on and the motor does not work. Is the motor defective?</strong><br><br>The motor is NOT defective. There are some wiper motors that will not operate if the washer pump is defective. This may be the cause of the original motor problem. Bench test wiper motor and washer pump before replacing either.<br><br><strong>Why won’t the wiper motor work? I have everything hooked up properly.</strong><br><br>Check the wiring harness ground, terminal ground lug or ground strap. If the motor still does not operate properly, check the switch and switch circuit.<br><br><strong>How can I determine if my vehicle is equipped with a moisture sensitive wiper motor?</strong><br><br>Most vehicles equipped with this feature have a rain sensor permanently mounted to the inside of the windshield in front of the rear view mirror.<br><br><strong>How do moisture sensitive wipers work?</strong><br><br>A moisture sensor monitors rainfall accumulation on the windshield and provides input to the windshield wiper motor control module. The windshield wiper control module adjusts the wiper motor speed accordingly.<br><br>\",\"Lifecycle Status\":\"Available to Order\",\"Image 3\":\"https://cardone.vsdam.com/Data/23/Repositories/F6C5638756DB46949C52F2D92027A142/0663bb30-6f2b-4103-8a22-97602de1300c/Cache/482.jpg\",\"AvailableDate\":\"2002-10-01\",\"EXPI PLM\":\"6\",\"QuantityPerApplicationUOM\":\"EA\",\"Back AltText\":\"CARDONE Reman 40-1000 Windshield Wiper Motor-Back\",\"Image 4\":\"https://cardone.vsdam.com/Data/23/Repositories/F6C5638756DB46949C52F2D92027A142/383d4019-147f-41c6-8672-5ffa7c0a65e2/Cache/482.jpg\",\"Technical Bulletin\":\"https://cardoneb2b.mybigcommerce.com/content/Products/PT40-0001.pdf|https://cardoneb2b.mybigcommerce.com/content/Products/PT40-0002.pdf|https://cardoneb2b.mybigcommerce.com/content/Products/PT40-0010.pdf|https://cardoneb2b.mybigcommerce.com/content/Products/PT40-0008.pdf|https://cardoneb2b.mybigcommerce.com/content/Products/PT40-0001.pdf|https://cardoneb2b.mybigcommerce.com/content/Products/PT40-0002.pdf|https://cardoneb2b.mybigcommerce.com/content/Products/PT40-0010.pdf|https://cardoneb2b.mybigcommerce.com/content/Products/PT40-0008.pdf\",\"Mounting Type\":\"Eyelet; Grommet\",\"MKT Description\":\"CARDONE\\'s legacy began in 1970 when its first product offering was released - Remanufactured Wiper Motors. Since then, the CARDONE name has become synonymous with high-quality, remanufactured products.  Every CARDONE wiper motor is re-engineered, built and tested to match O.E. performance. For nearly half a century, CARDONE Remanufactured Wiper Motors have provided rock-solid reliability that you can trust for the long haul.\",\"ACESApplications\":\"Y\",\"Website Part Type\":\"Windshield Wiper Motor\",\"Installation1\":\"https://cardoneb2b.mybigcommerce.com/content/Products/931128-40DE Wiper Motors Digital English.pdf\",\"Width\":\"12.25\",\"Technical Bulletin8\":\"https://cardoneb2b.mybigcommerce.com/content/Products/PT40-0008.pdf\",\"Warranty4\":\"https://cardoneb2b.mybigcommerce.com/content/Products/99519WARRMS_Cardone_Warranty_MEX_Span.pdf\",\"Image 9\":\"https://cardone.vsdam.com/Data/23/Repositories/F6C5638756DB46949C52F2D92027A142/4e9b1d03-e0f8-4903-bd01-2b04646022b6/Cache/482.jpg\",\"ApplicationSummary\":\"Chevrolet Camaro 1998-93; Pontiac Firebird 1998-93\",\"Left AltText\":\"CARDONE Reman 40-1000 Windshield Wiper Motor-Left\",\"Exclusive Coverage\":null,\"Warranty7\":\"https://cardoneb2b.mybigcommerce.com/content/Products/99519CWARR Cardone Warranty Policy_Canada.pdf\",\"User Defined 1 FileName\":\"CARDONE_Reman_40-1000_User_Defined_1.jpg\",\"Warranty9\":\"https://cardoneb2b.mybigcommerce.com/content/Products/99519WARRMS_Cardone_Warranty_MEX_Span.pdf\",\"Features and Benefits\":\"<li>Each unit has its main components tested or gauged against the O.E. standard. [Armature, Field, Bearing,  Parking switch, or pulse board] – Then the final product is tested for each of its functions on the vehicle.</li><li>Every motor bearing is re-impregnated or replaced as needed.</li><li>Lubrication is applied to the output gear to provide maximum load capacity and long life.</li><li>Weak solder points are 100% reflowed to extend life expectancy</li><li>Motor magnets are 100% recharged for performance and reliability.</li><li>As a remanufactured Original Equipment part, this unit guarantees a perfect vehicle fit.</li><li>Our remanufacturing process is earth-friendly, as it reduces the energy and raw material needed to make a new part by 80%.</li>\",\"Image 8 AltText\":\"CARDONE Reman 40-1000 Windshield Wiper Motor-User Defined 1\",\"Product Condition\":\"Remanufactured\",\"INV Description\":\"Reman. Windshield Wiper Motor\",\"Warranty6\":\"https://cardoneb2b.mybigcommerce.com/content/Products/99519WARR Cardone Warranty Policy_USA.pdf\",\"Technical Bulletin3\":\"https://cardoneb2b.mybigcommerce.com/content/Products/PT40-0010.pdf\",\"Weight PG\":\"5.9\",\"Installation4\":\"https://cardoneb2b.mybigcommerce.com/content/Products/931128-40DE Wiper Motors Digital English.pdf\",\"Package Contents\":\"Wiper Motor; Instruction Sheet\",\"QuantityPerApplication\":\"1\",\"Technical Bulletin6\":\"https://cardoneb2b.mybigcommerce.com/content/Products/PT40-0002.pdf\",\"Technical Bulletin7\":\"https://cardoneb2b.mybigcommerce.com/content/Products/PT40-0010.pdf\",\"EXPI MSR\":\"N\",\"Warranty Info\":\"1 Year/18,000 Mile\",\"Technical Video\":\"http://www.youtube.com/watch?v=e_TBkMTN42I&list=PLF49430A12FFB3F98&index=1\",\"Warranty1\":\"https://cardoneb2b.mybigcommerce.com/content/Products/99519WARR Cardone Warranty Policy_USA.pdf\",\"EXPI WT2\":\"MO\",\"LAB Description\":\"Remanufactured Windshield Wiper Motor\",\"ItemEffectiveDate\":\"2002-10-01\",\"Left FileName\":\"CARDONE_Reman_40-1000_Left.jpg\",\"Dimensional Weight PG\":\"4.23\",\"ContainerType\":\"BX\",\"Installation3\":\"https://cardoneb2b.mybigcommerce.com/content/Products/931128-40DF Wiper Motors Digital French.pdf\",\"Design Upgrade\":null,\"Image 2\":\"https://cardone.vsdam.com/Data/23/Repositories/F6C5638756DB46949C52F2D92027A142/b42106af-dbe7-424b-b14d-12d7456f07f1/Cache/482.jpg\",\"MinimumOrderQuantity\":\"1\",\"Installation2\":\"https://cardoneb2b.mybigcommerce.com/content/Products/931128-40DS Wiper Motors Digital Spanish.pdf\",\"Warranty2\":\"https://cardoneb2b.mybigcommerce.com/content/Products/99519CWARR Cardone Warranty Policy_Canada.pdf\",\"Technical Bulletin5\":\"https://cardoneb2b.mybigcommerce.com/content/Products/PT40-0001.pdf\",\"Brochure\":\"https://cardoneb2b.mybigcommerce.com/content/Products/CPCX_Cardone Reman_Wiper Motor_Mkt.pdf|https://cardoneb2b.mybigcommerce.com/content/Products/CPCX_Cardone Reman_Wiper Motor_Mkt.pdf\",\"EXPI WD1\":\"18000\",\"SHO Description\":\"Wiper Mtr\",\"ItemLevelGTINQualifier\":\"UP\",\"Image 3 AltText\":\"CARDONE Reman 40-1000 Windshield Wiper Motor-Left\",\"Technical Bulletin4\":\"https://cardoneb2b.mybigcommerce.com/content/Products/PT40-0008.pdf\",\"EXPI REM\":\"Y\",\"Technical Bulletin2\":\"https://cardoneb2b.mybigcommerce.com/content/Products/PT40-0002.pdf\",\"Meta Description\":\"Cardone Reman,Windshield Wiper Motor,Chevrolet Camaro 1998-93; Pontiac Firebird 1998-93\",\"Install Solution\":null,\"Image 1 AltText\":\"CARDONE Reman 40-1000 Windshield Wiper Motor-Front\",\"Warranty8\":\"https://cardoneb2b.mybigcommerce.com/content/Products/99519WARRS_Cardone_Warranty_Span.pdf\",\"EXPI EMS\":\"1\",\"VisibleOnBC\":\"1\",\"EXPI CTO\":\"MX\",\"Product Brochure\":\"https://cardoneb2b.mybigcommerce.com/content/Products/401214CPEM Core Policy - Electrical Motors.pdf|https://cardoneb2b.mybigcommerce.com/content/Products/401214CPEM Core Policy - Electrical Motors.pdf\",\"EXPI WD2\":\"MI\",\"EXPI PLC\":\"56\",\"Image 4 AltText\":\"CARDONE Reman 40-1000 Windshield Wiper Motor-Right\",\"Image 9 AltText\":\"CARDONE Reman 40-1000 Windshield Wiper Motor-User Defined 2\",\"Back FileName\":\"CARDONE_Reman_40-1000_Back.jpg\",\"User Defined 1 AltText\":\"CARDONE Reman 40-1000 Windshield Wiper Motor-User Defined 1\",\"EXPI LIS\":\"Available to Order\",\"Front AltText\":\"CARDONE Reman 40-1000 Windshield Wiper Motor-Front\",\"Image 1\":\"https://cardone.vsdam.com/Data/23/Repositories/F6C5638756DB46949C52F2D92027A142/9e5bbc9d-b5e4-4a33-991b-16195ee80d38/Cache/482.jpg\",\"Terminal Type\":\"Blade\",\"Front FileName\":\"CARDONE_Reman_40-1000_Front.jpg\",\"Height\":\"7.875\",\"Installation6\":\"https://cardoneb2b.mybigcommerce.com/content/Products/931128-40DF Wiper Motors Digital French.pdf\",\"Brand\":{\"id\":\"8689581028987187766\",\"number\":\"CPCX\",\"name\":\"CARDONE Reman\",\"BrandAAIAID\":null},\"Product Type\":{\"id\":\"4093636218520549380\",\"number\":\"8824\",\"name\":\"Windshield Wiper Motor\",\"Reman Prefix\":\"40, 43\",\"Site Keywords\":\"Windshield Wiper Motor, Wiper Motor\",\"New Prefix\":\"85\",\"Auto Care Subcategory\":\"Windshield Wiper Motor\",\"Auto Care Category\":\"Wiper and Washer\",\"PartTerminologyName\":\"Windshield Wiper Motor\",\"PartSubCategory\":\"Windshield Wiper Motor\",\"Positions\":[{\"Position\":\"Left\",\"PositionID\":\"2\"},{\"Position\":\"Right\",\"PositionID\":\"12\"},{\"Position\":\"Front Left\",\"PositionID\":\"103\"},{\"Position\":\"Front Right\",\"PositionID\":\"104\"},{\"Position\":\"Front Lower\",\"PositionID\":\"27\"},{\"Position\":\"Front Upper\",\"PositionID\":\"26\"},{\"Position\":\"Rear Right\",\"PositionID\":\"106\"},{\"Position\":\"Rear Left\",\"PositionID\":\"105\"},{\"Position\":\"Front\",\"PositionID\":\"22\"},{\"Position\":\"Rear\",\"PositionID\":\"30\"},{\"Position\":\"N/A\",\"PositionID\":\"1\"}],\"PartCategory\":\"Wiper and Washer\",\"SyncPartTypeToDMT\":\"1\"},\"productDeskTypeId\":\"2\",\"productDeskTypeName\":\"Finished Good\",\"productDeskItemNumber\":\"40-1000\",\"productDeskExternalKey\":\"CPCX|40-1000\",\"childrenCount\":0,\"parentId\":\"4093636218520549380\",\"__parentId\":\"4093636218520549380\",\"Availability Text\":\"Eligible for same-day shipment on Priority Plus orders. See Hours & Service Levels page for cutoff times.\",\"PurchasableOnBC\":\"available\",\"_addon\":\"40-1000::93715:125778:22322\",\"_addonCardone\":\"40-1000::98271:100085:306\",\"EXPI HSB\":\"8501312000\",\"EXPI HAC\":\"8501310010\",\"Eligible for R&R Service\":\"Yes\",\"Flash Programming Service\":null}]'"
      ]
     },
     "execution_count": 4,
     "metadata": {},
     "output_type": "execute_result"
    }
   ],
   "source": [
    "i = 0\n",
    "\n",
    "resp = requests.get('https://productdesk-api.cellacore.net/legacy/cardone/FinishedGood/?q=productDeskItemNumber.keyword:' + str(list_part_number[i])).text\n",
    "\n",
    "resp"
   ]
  },
  {
   "cell_type": "code",
   "execution_count": 5,
   "id": "9da22135",
   "metadata": {},
   "outputs": [],
   "source": [
    "import json"
   ]
  },
  {
   "cell_type": "code",
   "execution_count": 6,
   "id": "999e5d1a",
   "metadata": {
    "scrolled": true
   },
   "outputs": [
    {
     "data": {
      "text/plain": [
       "'22110039;22154913'"
      ]
     },
     "execution_count": 6,
     "metadata": {},
     "output_type": "execute_result"
    }
   ],
   "source": [
    "list_oe = []\n",
    "list_row = json.loads(resp)[0]['CrossReferences']\n",
    "for row in list_row:\n",
    "    if row['referenceType'] == 'OE Part':\n",
    "        list_oe.append(row['reference'])\n",
    "\n",
    "list_oe = list(set(list_oe))\n",
    "list_oe.sort()\n",
    "\n",
    "oe = ';'.join(list_oe)\n",
    "\n",
    "oe"
   ]
  },
  {
   "cell_type": "code",
   "execution_count": 7,
   "id": "07f731cd",
   "metadata": {},
   "outputs": [
    {
     "data": {
      "text/html": [
       "<div>\n",
       "<style scoped>\n",
       "    .dataframe tbody tr th:only-of-type {\n",
       "        vertical-align: middle;\n",
       "    }\n",
       "\n",
       "    .dataframe tbody tr th {\n",
       "        vertical-align: top;\n",
       "    }\n",
       "\n",
       "    .dataframe thead th {\n",
       "        text-align: right;\n",
       "    }\n",
       "</style>\n",
       "<table border=\"1\" class=\"dataframe\">\n",
       "  <thead>\n",
       "    <tr style=\"text-align: right;\">\n",
       "      <th></th>\n",
       "      <th>Part Number</th>\n",
       "      <th>OE</th>\n",
       "      <th>status</th>\n",
       "    </tr>\n",
       "  </thead>\n",
       "  <tbody>\n",
       "    <tr>\n",
       "      <th>0</th>\n",
       "      <td>40-1000</td>\n",
       "      <td>22110039;22154913</td>\n",
       "      <td>ok</td>\n",
       "    </tr>\n",
       "  </tbody>\n",
       "</table>\n",
       "</div>"
      ],
      "text/plain": [
       "  Part Number                 OE status\n",
       "0     40-1000  22110039;22154913     ok"
      ]
     },
     "execution_count": 7,
     "metadata": {},
     "output_type": "execute_result"
    }
   ],
   "source": [
    "df_temp = pd.DataFrame({'Part Number': list_part_number[i],\n",
    "                        'OE': oe,\n",
    "                        'status': ['ok']})\n",
    "\n",
    "df_temp"
   ]
  },
  {
   "cell_type": "code",
   "execution_count": 8,
   "id": "5b76d5c0",
   "metadata": {},
   "outputs": [
    {
     "data": {
      "text/html": [
       "<div>\n",
       "<style scoped>\n",
       "    .dataframe tbody tr th:only-of-type {\n",
       "        vertical-align: middle;\n",
       "    }\n",
       "\n",
       "    .dataframe tbody tr th {\n",
       "        vertical-align: top;\n",
       "    }\n",
       "\n",
       "    .dataframe thead th {\n",
       "        text-align: right;\n",
       "    }\n",
       "</style>\n",
       "<table border=\"1\" class=\"dataframe\">\n",
       "  <thead>\n",
       "    <tr style=\"text-align: right;\">\n",
       "      <th></th>\n",
       "      <th>Part Number</th>\n",
       "      <th>OE</th>\n",
       "      <th>status</th>\n",
       "    </tr>\n",
       "  </thead>\n",
       "  <tbody>\n",
       "    <tr>\n",
       "      <th>0</th>\n",
       "      <td>40-1000</td>\n",
       "      <td>22110039;22154913</td>\n",
       "      <td>ok</td>\n",
       "    </tr>\n",
       "  </tbody>\n",
       "</table>\n",
       "</div>"
      ],
      "text/plain": [
       "  Part Number                 OE status\n",
       "0     40-1000  22110039;22154913     ok"
      ]
     },
     "execution_count": 8,
     "metadata": {},
     "output_type": "execute_result"
    }
   ],
   "source": [
    "df = pd.concat([df, df_temp], ignore_index=True).fillna('')\n",
    "\n",
    "df"
   ]
  },
  {
   "cell_type": "code",
   "execution_count": null,
   "id": "415c43f5",
   "metadata": {},
   "outputs": [],
   "source": []
  }
 ],
 "metadata": {
  "kernelspec": {
   "display_name": "Python 3 (ipykernel)",
   "language": "python",
   "name": "python3"
  },
  "language_info": {
   "codemirror_mode": {
    "name": "ipython",
    "version": 3
   },
   "file_extension": ".py",
   "mimetype": "text/x-python",
   "name": "python",
   "nbconvert_exporter": "python",
   "pygments_lexer": "ipython3",
   "version": "3.11.3"
  }
 },
 "nbformat": 4,
 "nbformat_minor": 5
}
