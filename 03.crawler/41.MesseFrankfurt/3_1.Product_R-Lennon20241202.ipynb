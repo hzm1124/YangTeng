{
 "cells": [
  {
   "cell_type": "code",
   "execution_count": 1,
   "id": "224041ec-1ffa-4ed3-87c8-867094b3835d",
   "metadata": {},
   "outputs": [],
   "source": [
    "import pandas as pd\n",
    "\n",
    "# = = =  = = =  = = =\n",
    "\n",
    "import requests\n",
    "\n",
    "import sys\n",
    "sys.path.append('../00.Tools')\n",
    "from crawler_configuration import get_header, get_proxy\n",
    "\n",
    "import time\n",
    "\n",
    "# = = =  = = =  = = =\n",
    "\n",
    "from bs4 import BeautifulSoup\n",
    "import re\n",
    "\n",
    "# = = =  = = =  = = =\n",
    "\n",
    "import json"
   ]
  },
  {
   "cell_type": "code",
   "execution_count": 2,
   "id": "6e1de95d-a50c-468b-ac12-50f3388a4b79",
   "metadata": {},
   "outputs": [
    {
     "data": {
      "text/plain": [
       "'LXnMWcYQhipLAS7rImEzmZ3CkrU033FMha9cwVSngG4vbufTsAOCQQ=='"
      ]
     },
     "execution_count": 2,
     "metadata": {},
     "output_type": "execute_result"
    }
   ],
   "source": [
    "with open('./api.txt', 'r') as api_txt:\n",
    "    api = api_txt.read()\n",
    "\n",
    "api"
   ]
  },
  {
   "cell_type": "code",
   "execution_count": 3,
   "id": "7e78b5d3-6984-4c26-84ab-9e15dc054e7a",
   "metadata": {},
   "outputs": [
    {
     "name": "stdout",
     "output_type": "stream",
     "text": [
      "Data Loading...\n",
      "Loading Done !\n",
      "\n",
      "总数量：19705\n",
      "\n"
     ]
    },
    {
     "data": {
      "text/html": [
       "<div>\n",
       "<style scoped>\n",
       "    .dataframe tbody tr th:only-of-type {\n",
       "        vertical-align: middle;\n",
       "    }\n",
       "\n",
       "    .dataframe tbody tr th {\n",
       "        vertical-align: top;\n",
       "    }\n",
       "\n",
       "    .dataframe thead th {\n",
       "        text-align: right;\n",
       "    }\n",
       "</style>\n",
       "<table border=\"1\" class=\"dataframe\">\n",
       "  <thead>\n",
       "    <tr style=\"text-align: right;\">\n",
       "      <th></th>\n",
       "      <th>Url</th>\n",
       "      <th>[Product] No</th>\n",
       "      <th>[Product] Url</th>\n",
       "    </tr>\n",
       "  </thead>\n",
       "  <tbody>\n",
       "    <tr>\n",
       "      <th>0</th>\n",
       "      <td>https://automechanika-shanghai.hk.messefrankfu...</td>\n",
       "      <td>1</td>\n",
       "      <td>https://automechanika-shanghai.hk.messefrankfu...</td>\n",
       "    </tr>\n",
       "    <tr>\n",
       "      <th>1</th>\n",
       "      <td>https://automechanika-shanghai.hk.messefrankfu...</td>\n",
       "      <td>2</td>\n",
       "      <td>https://automechanika-shanghai.hk.messefrankfu...</td>\n",
       "    </tr>\n",
       "    <tr>\n",
       "      <th>2</th>\n",
       "      <td>https://automechanika-shanghai.hk.messefrankfu...</td>\n",
       "      <td>3</td>\n",
       "      <td>https://automechanika-shanghai.hk.messefrankfu...</td>\n",
       "    </tr>\n",
       "    <tr>\n",
       "      <th>3</th>\n",
       "      <td>https://automechanika-shanghai.hk.messefrankfu...</td>\n",
       "      <td>4</td>\n",
       "      <td>https://automechanika-shanghai.hk.messefrankfu...</td>\n",
       "    </tr>\n",
       "    <tr>\n",
       "      <th>4</th>\n",
       "      <td>https://automechanika-shanghai.hk.messefrankfu...</td>\n",
       "      <td>5</td>\n",
       "      <td>https://automechanika-shanghai.hk.messefrankfu...</td>\n",
       "    </tr>\n",
       "    <tr>\n",
       "      <th>...</th>\n",
       "      <td>...</td>\n",
       "      <td>...</td>\n",
       "      <td>...</td>\n",
       "    </tr>\n",
       "    <tr>\n",
       "      <th>19700</th>\n",
       "      <td>https://automechanika-shanghai.hk.messefrankfu...</td>\n",
       "      <td></td>\n",
       "      <td></td>\n",
       "    </tr>\n",
       "    <tr>\n",
       "      <th>19701</th>\n",
       "      <td>https://automechanika-shanghai.hk.messefrankfu...</td>\n",
       "      <td>1</td>\n",
       "      <td>https://automechanika-shanghai.hk.messefrankfu...</td>\n",
       "    </tr>\n",
       "    <tr>\n",
       "      <th>19702</th>\n",
       "      <td>https://automechanika-shanghai.hk.messefrankfu...</td>\n",
       "      <td>2</td>\n",
       "      <td>https://automechanika-shanghai.hk.messefrankfu...</td>\n",
       "    </tr>\n",
       "    <tr>\n",
       "      <th>19703</th>\n",
       "      <td>https://automechanika-shanghai.hk.messefrankfu...</td>\n",
       "      <td>3</td>\n",
       "      <td>https://automechanika-shanghai.hk.messefrankfu...</td>\n",
       "    </tr>\n",
       "    <tr>\n",
       "      <th>19704</th>\n",
       "      <td>https://automechanika-shanghai.hk.messefrankfu...</td>\n",
       "      <td>4</td>\n",
       "      <td>https://automechanika-shanghai.hk.messefrankfu...</td>\n",
       "    </tr>\n",
       "  </tbody>\n",
       "</table>\n",
       "<p>19705 rows × 3 columns</p>\n",
       "</div>"
      ],
      "text/plain": [
       "                                                     Url [Product] No  \\\n",
       "0      https://automechanika-shanghai.hk.messefrankfu...            1   \n",
       "1      https://automechanika-shanghai.hk.messefrankfu...            2   \n",
       "2      https://automechanika-shanghai.hk.messefrankfu...            3   \n",
       "3      https://automechanika-shanghai.hk.messefrankfu...            4   \n",
       "4      https://automechanika-shanghai.hk.messefrankfu...            5   \n",
       "...                                                  ...          ...   \n",
       "19700  https://automechanika-shanghai.hk.messefrankfu...                \n",
       "19701  https://automechanika-shanghai.hk.messefrankfu...            1   \n",
       "19702  https://automechanika-shanghai.hk.messefrankfu...            2   \n",
       "19703  https://automechanika-shanghai.hk.messefrankfu...            3   \n",
       "19704  https://automechanika-shanghai.hk.messefrankfu...            4   \n",
       "\n",
       "                                           [Product] Url  \n",
       "0      https://automechanika-shanghai.hk.messefrankfu...  \n",
       "1      https://automechanika-shanghai.hk.messefrankfu...  \n",
       "2      https://automechanika-shanghai.hk.messefrankfu...  \n",
       "3      https://automechanika-shanghai.hk.messefrankfu...  \n",
       "4      https://automechanika-shanghai.hk.messefrankfu...  \n",
       "...                                                  ...  \n",
       "19700                                                     \n",
       "19701  https://automechanika-shanghai.hk.messefrankfu...  \n",
       "19702  https://automechanika-shanghai.hk.messefrankfu...  \n",
       "19703  https://automechanika-shanghai.hk.messefrankfu...  \n",
       "19704  https://automechanika-shanghai.hk.messefrankfu...  \n",
       "\n",
       "[19705 rows x 3 columns]"
      ]
     },
     "execution_count": 3,
     "metadata": {},
     "output_type": "execute_result"
    }
   ],
   "source": [
    "print('Data Loading...')\n",
    "list_dict_correct, list_series_error, df_input = [], [], pd.read_excel('./file/2.product_url.xlsx',\n",
    "                                                                       header=0,\n",
    "                                                                       dtype=str).fillna('')\n",
    "print('Loading Done !')\n",
    "print()\n",
    "\n",
    "df_input['[Product] No'] = ['' if product_no == '' else int(product_no) for product_no in df_input['[Product] No']]\n",
    "\n",
    "crawler_remain = len(df_input)\n",
    "\n",
    "print(f'总数量：{crawler_remain}')\n",
    "print()\n",
    "\n",
    "df_input"
   ]
  },
  {
   "cell_type": "code",
   "execution_count": 4,
   "id": "790b689c-0070-4c78-bf1a-832b4f771e8e",
   "metadata": {},
   "outputs": [
    {
     "data": {
      "text/plain": [
       "(False,\n",
       " 0,\n",
       " Url              https://automechanika-shanghai.hk.messefrankfu...\n",
       " [Product] No                                                     1\n",
       " [Product] Url    https://automechanika-shanghai.hk.messefrankfu...\n",
       " Name: 0, dtype: object)"
      ]
     },
     "execution_count": 4,
     "metadata": {},
     "output_type": "execute_result"
    }
   ],
   "source": [
    "crawler_status, (crawler_index, crawler_series) = False, next(df_input.iterrows())\n",
    "\n",
    "crawler_status, crawler_index, crawler_series"
   ]
  },
  {
   "cell_type": "code",
   "execution_count": 5,
   "id": "0152d237-8ac9-4e96-8486-b6a8932c7c87",
   "metadata": {},
   "outputs": [
    {
     "data": {
      "text/plain": [
       "'https://api.messefrankfurt.com/service/esb_api/exhibitor-service/api/2.1/public/product/zh-CN/2e4fe27a-b72f-430e-90cc-20ee806ec900/mf_2_a3pk1a04eskp_4237825_10000100202401/AUTOMECHANIKASHANGHAI/details'"
      ]
     },
     "execution_count": 5,
     "metadata": {},
     "output_type": "execute_result"
    }
   ],
   "source": [
    "url_request = '' if crawler_series['[Product] Url'] == '' else f'''https://api.messefrankfurt.com/service/esb_api/exhibitor-service/api/2.1/public/product/zh-CN/{crawler_series['[Product] Url'].removeprefix('https://automechanika-shanghai.hk.messefrankfurt.com/shanghai/zh-cn/exhibitor-search.detail.html/').removesuffix('.html')}/AUTOMECHANIKASHANGHAI/details'''\n",
    "\n",
    "url_request"
   ]
  },
  {
   "cell_type": "code",
   "execution_count": 6,
   "id": "f5557308-d129-4173-b21e-98466d381667",
   "metadata": {},
   "outputs": [
    {
     "data": {
      "text/plain": [
       "False"
      ]
     },
     "execution_count": 6,
     "metadata": {},
     "output_type": "execute_result"
    }
   ],
   "source": [
    "url_request == ''"
   ]
  },
  {
   "cell_type": "code",
   "execution_count": 7,
   "id": "7cab2379-73bf-481c-8850-a840c731dc31",
   "metadata": {
    "scrolled": true
   },
   "outputs": [
    {
     "name": "stdout",
     "output_type": "stream",
     "text": [
      "1\n"
     ]
    },
    {
     "data": {
      "text/plain": [
       "{'success': True,\n",
       " 'fieldErrors': [],\n",
       " 'systemErrors': [],\n",
       " 'message': None,\n",
       " 'result': {'id': 'mf_2_a3pk1a04eskp_4237825_10000100202401',\n",
       "  'name': '1',\n",
       "  'description': {'images': ['product_pictures/10000100202401/A3PK1A04ESKP/1701160538978_110299494.jpeg'],\n",
       "   'text': None},\n",
       "  'specification': None,\n",
       "  'shortDescription': None,\n",
       "  'additionalImage': [],\n",
       "  'exhibition': {'id': 'AUTOMECHANIKASHANGHAI',\n",
       "   'name': 'Automechanika Shanghai 2024',\n",
       "   'synonyme': None,\n",
       "   'exhibitionHall': None,\n",
       "   'href': 'automechanika-shanghai.hk.messefrankfurt.com',\n",
       "   'logo': None,\n",
       "   'startdate': '2024-12-02',\n",
       "   'enddate': '2024-12-05'},\n",
       "  'exhibitorRef': {'id': 'mf_2_a3pk1a04eskp',\n",
       "   'fairId': 'AUTOMECHANIKASHANGHAI',\n",
       "   'rewriteId': '2e4fe27a-b72f-430e-90cc-20ee806ec900',\n",
       "   'name': None},\n",
       "  'isTopProduct': None,\n",
       "  'sortKey': '1',\n",
       "  'productLink3d': None,\n",
       "  'novelty': False,\n",
       "  'pressRelease': None,\n",
       "  'deeplink': '',\n",
       "  'nextradeDeeplink': '',\n",
       "  'contentdownloads': None,\n",
       "  'videocontents': None}}"
      ]
     },
     "execution_count": 7,
     "metadata": {},
     "output_type": "execute_result"
    }
   ],
   "source": [
    "crawler_retry = 0\n",
    "while True:\n",
    "    crawler_retry += 1\n",
    "    print(crawler_retry)\n",
    "    try:\n",
    "        url_check = crawler_series['[Product] Url']\n",
    "\n",
    "        resp = requests.get(url_request,\n",
    "                            headers=get_header(**{'Apikey': api}),\n",
    "                            proxies=get_proxy(),\n",
    "                            timeout=(5, 15))\n",
    "\n",
    "        if resp.status_code == 200 or resp.status_code == 401 or resp.status_code == 400:\n",
    "            dict_ = resp.json()\n",
    "\n",
    "            if resp.status_code == 200:\n",
    "                if dict_['success'] or dict_['systemErrors'] and dict_['systemErrors'][0]['statusCode'] == 400 and dict_['systemErrors'][0]['description'].strip() == 'FIND error: null':\n",
    "                    break\n",
    "            elif resp.status_code == 401 and dict_['status'] == 401 and dict_['message'].strip() == 'API GW: Unauthorized':\n",
    "                print(f'fuck api {api}')\n",
    "                time.sleep(3)\n",
    "                with open('./api.txt', 'r') as api_txt:\n",
    "                    api = api_txt.read()\n",
    "    except KeyboardInterrupt:\n",
    "        break\n",
    "    except:\n",
    "        time.sleep(3)\n",
    "        continue\n",
    "\n",
    "dict_"
   ]
  },
  {
   "cell_type": "code",
   "execution_count": 8,
   "id": "955cb8c0-74f5-49a5-9eff-50bab47af6e0",
   "metadata": {},
   "outputs": [
    {
     "data": {
      "text/plain": [
       "[]"
      ]
     },
     "execution_count": 8,
     "metadata": {},
     "output_type": "execute_result"
    }
   ],
   "source": [
    "dict_['systemErrors'] and dict_['systemErrors'][0]['statusCode'] == 400 and dict_['systemErrors'][0]['description'].strip() == 'FIND error: null'"
   ]
  },
  {
   "cell_type": "code",
   "execution_count": 9,
   "id": "078c92a4-5c0b-46b5-ab0d-21ac3bdd6e07",
   "metadata": {},
   "outputs": [
    {
     "data": {
      "text/plain": [
       "{'0': 'https://exhibitorsearch.hk.messefrankfurt.com/images/large/product_pictures/10000100202401/A3PK1A04ESKP/1701160538978_110299494.jpeg'}"
      ]
     },
     "execution_count": 9,
     "metadata": {},
     "output_type": "execute_result"
    }
   ],
   "source": [
    "dict_src, list_src = {}, dict_['result']['description']['images']\n",
    "for i, src in enumerate(list_src):\n",
    "    dict_src[str(i)] = f'https://exhibitorsearch.hk.messefrankfurt.com/images/large/{src.strip()}'\n",
    "\n",
    "dict_src"
   ]
  },
  {
   "cell_type": "code",
   "execution_count": 10,
   "id": "12ba1c3e-8a31-4ce2-b7e7-86068e32ed2f",
   "metadata": {},
   "outputs": [
    {
     "name": "stdout",
     "output_type": "stream",
     "text": [
      "\n"
     ]
    }
   ],
   "source": [
    "if dict_['result']['description']['text']:\n",
    "    soup = BeautifulSoup(dict_['result']['description']['text'], 'lxml')\n",
    "    description = re.sub(r'\\t+', '\\n', soup.get_text()).strip()\n",
    "else:\n",
    "    description = ''\n",
    "\n",
    "print(description)"
   ]
  },
  {
   "cell_type": "code",
   "execution_count": 11,
   "id": "0c86957f-e423-40e6-81cc-98d16a6ced04",
   "metadata": {},
   "outputs": [
    {
     "data": {
      "text/plain": [
       "[{'Url': 'https://automechanika-shanghai.hk.messefrankfurt.com/shanghai/zh-cn/exhibitor-search.detail.html/2e4fe27a-b72f-430e-90cc-20ee806ec900.html',\n",
       "  '[Product] No': 1,\n",
       "  '[Product] Name': '1',\n",
       "  '[Product] Description': '',\n",
       "  '[Product] Picture': '',\n",
       "  '[Product] Url': 'https://automechanika-shanghai.hk.messefrankfurt.com/shanghai/zh-cn/exhibitor-search.detail.html/2e4fe27a-b72f-430e-90cc-20ee806ec900/mf_2_a3pk1a04eskp_4237825_10000100202401.html',\n",
       "  '[Product] Json_Src': '{\"0\": \"https://exhibitorsearch.hk.messefrankfurt.com/images/large/product_pictures/10000100202401/A3PK1A04ESKP/1701160538978_110299494.jpeg\"}'}]"
      ]
     },
     "execution_count": 11,
     "metadata": {},
     "output_type": "execute_result"
    }
   ],
   "source": [
    "list_dict_correct.append({'Url': crawler_series['Url'],\n",
    "                          '[Product] No': crawler_series['[Product] No'],\n",
    "                          '[Product] Name': dict_['result']['name'].strip(),\n",
    "                          '[Product] Description': description,\n",
    "                          '[Product] Picture': '',\n",
    "                          '[Product] Url': crawler_series['[Product] Url'],\n",
    "                          '[Product] Json_Src': json.dumps(dict_src)})\n",
    "\n",
    "list_dict_correct"
   ]
  },
  {
   "cell_type": "code",
   "execution_count": 12,
   "id": "09d04cfc-1f1b-409f-93a4-3525d1283ce8",
   "metadata": {},
   "outputs": [
    {
     "data": {
      "text/plain": [
       "True"
      ]
     },
     "execution_count": 12,
     "metadata": {},
     "output_type": "execute_result"
    }
   ],
   "source": [
    "crawler_status = True\n",
    "\n",
    "crawler_status"
   ]
  },
  {
   "cell_type": "code",
   "execution_count": 13,
   "id": "bf5a18ed-ba9e-44ec-958f-1555c258ceeb",
   "metadata": {},
   "outputs": [
    {
     "data": {
      "text/plain": [
       "[Url              https://automechanika-shanghai.hk.messefrankfu...\n",
       " [Product] No                                                     1\n",
       " [Product] Url    https://automechanika-shanghai.hk.messefrankfu...\n",
       " Check_Url        https://automechanika-shanghai.hk.messefrankfu...\n",
       " Name: 0, dtype: object]"
      ]
     },
     "execution_count": 13,
     "metadata": {},
     "output_type": "execute_result"
    }
   ],
   "source": [
    "crawler_series['Check_Url'] = url_check\n",
    "\n",
    "list_series_error.append(crawler_series)\n",
    "\n",
    "list_series_error"
   ]
  },
  {
   "cell_type": "code",
   "execution_count": 14,
   "id": "799d366f-10e5-4752-957e-0956624859e1",
   "metadata": {},
   "outputs": [
    {
     "name": "stdout",
     "output_type": "stream",
     "text": [
      "Data Outputting...\n"
     ]
    },
    {
     "data": {
      "text/html": [
       "<div>\n",
       "<style scoped>\n",
       "    .dataframe tbody tr th:only-of-type {\n",
       "        vertical-align: middle;\n",
       "    }\n",
       "\n",
       "    .dataframe tbody tr th {\n",
       "        vertical-align: top;\n",
       "    }\n",
       "\n",
       "    .dataframe thead th {\n",
       "        text-align: right;\n",
       "    }\n",
       "</style>\n",
       "<table border=\"1\" class=\"dataframe\">\n",
       "  <thead>\n",
       "    <tr style=\"text-align: right;\">\n",
       "      <th></th>\n",
       "      <th>Url</th>\n",
       "      <th>[Product] No</th>\n",
       "      <th>[Product] Name</th>\n",
       "      <th>[Product] Description</th>\n",
       "      <th>[Product] Picture</th>\n",
       "      <th>[Product] Url</th>\n",
       "      <th>[Product] Json_Src</th>\n",
       "    </tr>\n",
       "  </thead>\n",
       "  <tbody>\n",
       "    <tr>\n",
       "      <th>0</th>\n",
       "      <td>https://automechanika-shanghai.hk.messefrankfu...</td>\n",
       "      <td>1</td>\n",
       "      <td>1</td>\n",
       "      <td></td>\n",
       "      <td></td>\n",
       "      <td>https://automechanika-shanghai.hk.messefrankfu...</td>\n",
       "      <td>{\"0\": \"https://exhibitorsearch.hk.messefrankfu...</td>\n",
       "    </tr>\n",
       "  </tbody>\n",
       "</table>\n",
       "</div>"
      ],
      "text/plain": [
       "                                                 Url  [Product] No  \\\n",
       "0  https://automechanika-shanghai.hk.messefrankfu...             1   \n",
       "\n",
       "  [Product] Name [Product] Description [Product] Picture  \\\n",
       "0              1                                           \n",
       "\n",
       "                                       [Product] Url  \\\n",
       "0  https://automechanika-shanghai.hk.messefrankfu...   \n",
       "\n",
       "                                  [Product] Json_Src  \n",
       "0  {\"0\": \"https://exhibitorsearch.hk.messefrankfu...  "
      ]
     },
     "execution_count": 14,
     "metadata": {},
     "output_type": "execute_result"
    }
   ],
   "source": [
    "print('Data Outputting...')\n",
    "if list_dict_correct:\n",
    "    df_correct = pd.DataFrame(list_dict_correct).sort_values(by=['Url', '[Product] No'],\n",
    "                                                             ascending=[True, True],\n",
    "                                                             ignore_index=True)\n",
    "    df_correct.to_excel('./test_product.xlsx', index=False)\n",
    "\n",
    "df_correct if list_dict_correct else ''"
   ]
  },
  {
   "cell_type": "code",
   "execution_count": 15,
   "id": "b5417f29-4628-473d-9254-47989a806ad8",
   "metadata": {},
   "outputs": [
    {
     "name": "stdout",
     "output_type": "stream",
     "text": [
      "Output Finished !\n",
      "\n"
     ]
    }
   ],
   "source": [
    "print('Output Finished !')\n",
    "print()"
   ]
  },
  {
   "cell_type": "code",
   "execution_count": 16,
   "id": "c1e7f7a4-c215-45e8-a03f-28396ec654f0",
   "metadata": {},
   "outputs": [
    {
     "name": "stdout",
     "output_type": "stream",
     "text": [
      "- Error Occurred -\n",
      "\n"
     ]
    },
    {
     "data": {
      "text/html": [
       "<div>\n",
       "<style scoped>\n",
       "    .dataframe tbody tr th:only-of-type {\n",
       "        vertical-align: middle;\n",
       "    }\n",
       "\n",
       "    .dataframe tbody tr th {\n",
       "        vertical-align: top;\n",
       "    }\n",
       "\n",
       "    .dataframe thead th {\n",
       "        text-align: right;\n",
       "    }\n",
       "</style>\n",
       "<table border=\"1\" class=\"dataframe\">\n",
       "  <thead>\n",
       "    <tr style=\"text-align: right;\">\n",
       "      <th></th>\n",
       "      <th>Url</th>\n",
       "      <th>[Product] No</th>\n",
       "      <th>[Product] Url</th>\n",
       "      <th>Check_Url</th>\n",
       "    </tr>\n",
       "  </thead>\n",
       "  <tbody>\n",
       "    <tr>\n",
       "      <th>0</th>\n",
       "      <td>https://automechanika-shanghai.hk.messefrankfu...</td>\n",
       "      <td>1</td>\n",
       "      <td>https://automechanika-shanghai.hk.messefrankfu...</td>\n",
       "      <td>https://automechanika-shanghai.hk.messefrankfu...</td>\n",
       "    </tr>\n",
       "  </tbody>\n",
       "</table>\n",
       "</div>"
      ],
      "text/plain": [
       "                                                 Url  [Product] No  \\\n",
       "0  https://automechanika-shanghai.hk.messefrankfu...             1   \n",
       "\n",
       "                                       [Product] Url  \\\n",
       "0  https://automechanika-shanghai.hk.messefrankfu...   \n",
       "\n",
       "                                           Check_Url  \n",
       "0  https://automechanika-shanghai.hk.messefrankfu...  "
      ]
     },
     "execution_count": 16,
     "metadata": {},
     "output_type": "execute_result"
    }
   ],
   "source": [
    "if list_series_error:\n",
    "    df_error = pd.DataFrame(list_series_error).sort_values(by=['Url', '[Product] No'],\n",
    "                                                           ascending=[True, True],\n",
    "                                                           ignore_index=True)\n",
    "    df_error.to_excel('./test_product_error.xlsx', index=False)\n",
    "    print('- Error Occurred -')\n",
    "    print()\n",
    "\n",
    "df_error if list_series_error else ''"
   ]
  },
  {
   "cell_type": "code",
   "execution_count": null,
   "id": "ba5d9f77-7464-4ad5-a42b-1fa0c0505832",
   "metadata": {},
   "outputs": [],
   "source": []
  }
 ],
 "metadata": {
  "kernelspec": {
   "display_name": "Python 3 (ipykernel)",
   "language": "python",
   "name": "python3"
  },
  "language_info": {
   "codemirror_mode": {
    "name": "ipython",
    "version": 3
   },
   "file_extension": ".py",
   "mimetype": "text/x-python",
   "name": "python",
   "nbconvert_exporter": "python",
   "pygments_lexer": "ipython3",
   "version": "3.12.7"
  }
 },
 "nbformat": 4,
 "nbformat_minor": 5
}
