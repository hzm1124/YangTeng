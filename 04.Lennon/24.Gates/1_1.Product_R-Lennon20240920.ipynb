{
 "cells": [
  {
   "cell_type": "code",
   "execution_count": 1,
   "id": "783f89be-0cdc-4912-942e-895cc5f09840",
   "metadata": {},
   "outputs": [],
   "source": [
    "import pandas as pd\n",
    "\n",
    "output_error = pd.DataFrame()"
   ]
  },
  {
   "cell_type": "code",
   "execution_count": 2,
   "id": "1c28f4ff-eee5-4220-a711-cc2f93fe08f0",
   "metadata": {
    "scrolled": true
   },
   "outputs": [
    {
     "name": "stdout",
     "output_type": "stream",
     "text": [
      "总数量：3\n"
     ]
    },
    {
     "data": {
      "text/plain": [
       "['https://www.gates.com/us/en/search.html?searchType=product&text=Positive+Crankcase+Ventilation+%28PCV%29+Hose',\n",
       " 'https://www.gates.com/de/de/search.html?searchType=product&text=Positive+Crankcase+Ventilation+%28PCV%29+Hose',\n",
       " 'https://www.gates.com/gb/en/search.html?searchType=product&text=Positive+Crankcase+Ventilation+%28PCV%29+Hose']"
      ]
     },
     "execution_count": 2,
     "metadata": {},
     "output_type": "execute_result"
    }
   ],
   "source": [
    "input_ = pd.read_excel('./file/input.xlsx',\n",
    "                       header=0,\n",
    "                       dtype=str).fillna('')\n",
    "\n",
    "input_['No'] = input_['No'].astype(int)\n",
    "\n",
    "print(f'总数量：{len(input_)}')\n",
    "input_['Url'].tolist()"
   ]
  },
  {
   "cell_type": "code",
   "execution_count": 3,
   "id": "5878a9f0-d639-4123-b6e0-bc564f72c2d6",
   "metadata": {},
   "outputs": [
    {
     "data": {
      "text/plain": [
       "0"
      ]
     },
     "execution_count": 3,
     "metadata": {},
     "output_type": "execute_result"
    }
   ],
   "source": [
    "a = 0\n",
    "\n",
    "a"
   ]
  },
  {
   "cell_type": "code",
   "execution_count": 4,
   "id": "9f61dd65-55da-4d0b-ba30-d0534eff0781",
   "metadata": {},
   "outputs": [
    {
     "data": {
      "text/plain": [
       "'error'"
      ]
     },
     "execution_count": 4,
     "metadata": {},
     "output_type": "execute_result"
    }
   ],
   "source": [
    "crawler_status = 'error'\n",
    "\n",
    "crawler_status"
   ]
  },
  {
   "cell_type": "code",
   "execution_count": 5,
   "id": "523cc867",
   "metadata": {
    "scrolled": true
   },
   "outputs": [
    {
     "name": "stdout",
     "output_type": "stream",
     "text": [
      "1 1\n",
      "1 2\n",
      "1 3\n",
      "1 4\n",
      "1 5\n"
     ]
    },
    {
     "data": {
      "text/plain": [
       "<Response [200]>"
      ]
     },
     "execution_count": 5,
     "metadata": {},
     "output_type": "execute_result"
    }
   ],
   "source": [
    "import requests\n",
    "\n",
    "import sys\n",
    "sys.path.append('../00.Tools')\n",
    "from crawler_configuration import get_header, get_proxy\n",
    "\n",
    "from bs4 import BeautifulSoup\n",
    "from lxml import etree\n",
    "\n",
    "url = input_.loc[a, 'Url']\n",
    "\n",
    "if '://www.gates.com/us/en/' in input_.loc[a, 'Url']:\n",
    "    country = 'US'\n",
    "elif '://www.gates.com/de/de/' in input_.loc[a, 'Url']:\n",
    "    country = 'DE'\n",
    "elif '://www.gates.com/gb/en/' in input_.loc[a, 'Url']:\n",
    "    country = 'UK'\n",
    "else:\n",
    "    country = 'fuck'\n",
    "\n",
    "dict_param = {}\n",
    "list_param = url.split('?')[1].split('&') if '?' in url else []\n",
    "for param in list_param:\n",
    "    dict_param[param.split('=')[0]] = param.split('=')[1]\n",
    "\n",
    "dict_param['sort'] = 'name-asc'\n",
    "\n",
    "url = url.split('?')[0] + '?'\n",
    "for key, value in dict_param.items():\n",
    "    url += f'{key}={value}&'\n",
    "    \n",
    "list_product_number, list_product_name, page = [], [], 1\n",
    "while True:\n",
    "    b = 0\n",
    "    while True:\n",
    "        b += 1\n",
    "        print(b, page)\n",
    "        try:\n",
    "            request_url = f'{url}page={page}'\n",
    "            \n",
    "            resp = requests.get(request_url,\n",
    "                                headers=get_header(),\n",
    "                                proxies=get_proxy(),\n",
    "                                timeout=(10, 10))\n",
    "        \n",
    "            if resp.status_code == 200:\n",
    "                soup = BeautifulSoup(resp.text, 'lxml')\n",
    "                html = etree.HTML(str(soup))\n",
    "\n",
    "                if html.xpath('//ol[@class=\"breadcrumbs\"]/li') or html.xpath('//span[@class=\"fontWhite\"]/text()') and html.xpath('//span[@class=\"fontWhite\"]/text()')[0] == 'ERROR CODE: 404':\n",
    "                    break\n",
    "        except KeyboardInterrupt:\n",
    "            break\n",
    "        except:\n",
    "            continue\n",
    "\n",
    "    # = = = = = = = = = = = = = = =\n",
    "\n",
    "    if html.xpath('//span[@class=\"fontWhite\"]/text()') and html.xpath('//span[@class=\"fontWhite\"]/text()')[0] == 'ERROR CODE: 404':\n",
    "        print('fuck')\n",
    "\n",
    "    # = = = = = = = = = = = = = = =\n",
    "\n",
    "    list_div = html.xpath('//div[@class=\"product-item\"]')\n",
    "\n",
    "    # = = = = = = = = = = = = = = =\n",
    "\n",
    "    if not list_div:\n",
    "        print('fuck')\n",
    "\n",
    "    # = = = = = = = = = = = = = = =\n",
    "\n",
    "    list_product_number += [div.xpath('./@data-productid')[0].strip() for div in list_div]\n",
    "    list_product_name += [div.xpath('./div[@class=\"product__wrapper\"]/div[@class=\"product-description\"]/a/h2/text()')[0].strip() for div in list_div]\n",
    "\n",
    "    # = = = = = = = = = = = = = = =\n",
    "    \n",
    "    page += 1\n",
    "\n",
    "    # = = = = = = = = = = = = = = =\n",
    "\n",
    "    if not html.xpath('//ol[@class=\"pagination\"][1]/li') or html.xpath('//ol[@class=\"pagination\"][1]/li')[-1].xpath('./@class')[0] == 'pagination-next disabled':\n",
    "        break\n",
    "\n",
    "resp"
   ]
  },
  {
   "cell_type": "code",
   "execution_count": 6,
   "id": "b9887c06-ea9c-4c28-8493-58ba891d73af",
   "metadata": {},
   "outputs": [
    {
     "data": {
      "text/plain": [
       "False"
      ]
     },
     "execution_count": 6,
     "metadata": {},
     "output_type": "execute_result"
    }
   ],
   "source": [
    "len(list_product_number) == 0"
   ]
  },
  {
   "cell_type": "code",
   "execution_count": 7,
   "id": "96f1239b-50f9-42d4-b879-831dc05deb48",
   "metadata": {
    "scrolled": true
   },
   "outputs": [
    {
     "data": {
      "text/html": [
       "<div>\n",
       "<style scoped>\n",
       "    .dataframe tbody tr th:only-of-type {\n",
       "        vertical-align: middle;\n",
       "    }\n",
       "\n",
       "    .dataframe tbody tr th {\n",
       "        vertical-align: top;\n",
       "    }\n",
       "\n",
       "    .dataframe thead th {\n",
       "        text-align: right;\n",
       "    }\n",
       "</style>\n",
       "<table border=\"1\" class=\"dataframe\">\n",
       "  <thead>\n",
       "    <tr style=\"text-align: right;\">\n",
       "      <th></th>\n",
       "      <th>Product No</th>\n",
       "      <th>Product Name</th>\n",
       "      <th>Product Number</th>\n",
       "      <th>Country</th>\n",
       "    </tr>\n",
       "  </thead>\n",
       "  <tbody>\n",
       "    <tr>\n",
       "      <th>0</th>\n",
       "      <td>1</td>\n",
       "      <td>1-1/4\" Special One-Piece Couplings - Female JI...</td>\n",
       "      <td>7347-000000-000575</td>\n",
       "      <td>US</td>\n",
       "    </tr>\n",
       "    <tr>\n",
       "      <th>1</th>\n",
       "      <td>2</td>\n",
       "      <td>12 Reel</td>\n",
       "      <td>0094-000000-000002</td>\n",
       "      <td>US</td>\n",
       "    </tr>\n",
       "    <tr>\n",
       "      <th>2</th>\n",
       "      <td>3</td>\n",
       "      <td>12 Reel</td>\n",
       "      <td>4980-000000-000000</td>\n",
       "      <td>US</td>\n",
       "    </tr>\n",
       "    <tr>\n",
       "      <th>3</th>\n",
       "      <td>4</td>\n",
       "      <td>4217IS Standard Diesel Emission Fluid</td>\n",
       "      <td>4217-000000-000002</td>\n",
       "      <td>US</td>\n",
       "    </tr>\n",
       "    <tr>\n",
       "      <th>4</th>\n",
       "      <td>5</td>\n",
       "      <td>4219BD Barricade™ Bio-Diesel Fuel</td>\n",
       "      <td>4219-000000-000013</td>\n",
       "      <td>US</td>\n",
       "    </tr>\n",
       "    <tr>\n",
       "      <th>...</th>\n",
       "      <td>...</td>\n",
       "      <td>...</td>\n",
       "      <td>...</td>\n",
       "      <td>...</td>\n",
       "    </tr>\n",
       "    <tr>\n",
       "      <th>95</th>\n",
       "      <td>96</td>\n",
       "      <td>Field Attachable Type T for G2</td>\n",
       "      <td>7231-000000-000001</td>\n",
       "      <td>US</td>\n",
       "    </tr>\n",
       "    <tr>\n",
       "      <th>96</th>\n",
       "      <td>97</td>\n",
       "      <td>Flange Kits</td>\n",
       "      <td>7253-000000-000004</td>\n",
       "      <td>US</td>\n",
       "    </tr>\n",
       "    <tr>\n",
       "      <th>97</th>\n",
       "      <td>98</td>\n",
       "      <td>Flexible Fuel Fill</td>\n",
       "      <td>4271-000000-000001</td>\n",
       "      <td>US</td>\n",
       "    </tr>\n",
       "    <tr>\n",
       "      <th>98</th>\n",
       "      <td>99</td>\n",
       "      <td>Food Master™ Beverage 150SD CR</td>\n",
       "      <td>3132-000000-000005</td>\n",
       "      <td>US</td>\n",
       "    </tr>\n",
       "    <tr>\n",
       "      <th>99</th>\n",
       "      <td>100</td>\n",
       "      <td>Food Master™ Beverage 250SD CR</td>\n",
       "      <td>3132-000000-000004</td>\n",
       "      <td>US</td>\n",
       "    </tr>\n",
       "  </tbody>\n",
       "</table>\n",
       "<p>100 rows × 4 columns</p>\n",
       "</div>"
      ],
      "text/plain": [
       "    Product No                                       Product Name  \\\n",
       "0            1  1-1/4\" Special One-Piece Couplings - Female JI...   \n",
       "1            2                                            12 Reel   \n",
       "2            3                                            12 Reel   \n",
       "3            4              4217IS Standard Diesel Emission Fluid   \n",
       "4            5                  4219BD Barricade™ Bio-Diesel Fuel   \n",
       "..         ...                                                ...   \n",
       "95          96                     Field Attachable Type T for G2   \n",
       "96          97                                        Flange Kits   \n",
       "97          98                                 Flexible Fuel Fill   \n",
       "98          99                     Food Master™ Beverage 150SD CR   \n",
       "99         100                     Food Master™ Beverage 250SD CR   \n",
       "\n",
       "        Product Number Country  \n",
       "0   7347-000000-000575      US  \n",
       "1   0094-000000-000002      US  \n",
       "2   4980-000000-000000      US  \n",
       "3   4217-000000-000002      US  \n",
       "4   4219-000000-000013      US  \n",
       "..                 ...     ...  \n",
       "95  7231-000000-000001      US  \n",
       "96  7253-000000-000004      US  \n",
       "97  4271-000000-000001      US  \n",
       "98  3132-000000-000005      US  \n",
       "99  3132-000000-000004      US  \n",
       "\n",
       "[100 rows x 4 columns]"
      ]
     },
     "execution_count": 7,
     "metadata": {},
     "output_type": "execute_result"
    }
   ],
   "source": [
    "output = pd.DataFrame({'Product No': [i+1 for i in range(len(list_product_name))],\n",
    "                       'Product Name': list_product_name,\n",
    "                       'Product Number': list_product_number,\n",
    "                       'Country': country})\n",
    "\n",
    "output = output.sort_values(by=['Product No'],\n",
    "                            ascending=[True],\n",
    "                            ignore_index=True)\n",
    "\n",
    "output.to_excel('./test_product.xlsx', index=False)\n",
    "\n",
    "output"
   ]
  },
  {
   "cell_type": "code",
   "execution_count": 8,
   "id": "fc4ed7f6-ed4f-431c-b944-b1690309cdae",
   "metadata": {},
   "outputs": [
    {
     "data": {
      "text/plain": [
       "'ok'"
      ]
     },
     "execution_count": 8,
     "metadata": {},
     "output_type": "execute_result"
    }
   ],
   "source": [
    "crawler_status = 'ok'\n",
    "\n",
    "crawler_status"
   ]
  },
  {
   "cell_type": "code",
   "execution_count": 9,
   "id": "65c745d1-446e-46c5-9dec-819c9f7944d3",
   "metadata": {},
   "outputs": [
    {
     "data": {
      "text/html": [
       "<div>\n",
       "<style scoped>\n",
       "    .dataframe tbody tr th:only-of-type {\n",
       "        vertical-align: middle;\n",
       "    }\n",
       "\n",
       "    .dataframe tbody tr th {\n",
       "        vertical-align: top;\n",
       "    }\n",
       "\n",
       "    .dataframe thead th {\n",
       "        text-align: right;\n",
       "    }\n",
       "</style>\n",
       "<table border=\"1\" class=\"dataframe\">\n",
       "  <thead>\n",
       "    <tr style=\"text-align: right;\">\n",
       "      <th></th>\n",
       "    </tr>\n",
       "  </thead>\n",
       "  <tbody>\n",
       "  </tbody>\n",
       "</table>\n",
       "</div>"
      ],
      "text/plain": [
       "Empty DataFrame\n",
       "Columns: []\n",
       "Index: []"
      ]
     },
     "execution_count": 9,
     "metadata": {},
     "output_type": "execute_result"
    }
   ],
   "source": [
    "if crawler_status == 'error':\n",
    "    df_temp = pd.DataFrame([input_.iloc[a]]).reset_index(drop=True)\n",
    "    df_temp.loc[0, 'Request_Url'] = request_url\n",
    "    \n",
    "    output_error = pd.concat([output_error, df_temp], ignore_index=True).fillna('')\n",
    "\n",
    "output_error"
   ]
  },
  {
   "cell_type": "code",
   "execution_count": 10,
   "id": "39a5441b-7f69-4812-aad8-7e10a1a24e78",
   "metadata": {},
   "outputs": [
    {
     "data": {
      "text/html": [
       "<div>\n",
       "<style scoped>\n",
       "    .dataframe tbody tr th:only-of-type {\n",
       "        vertical-align: middle;\n",
       "    }\n",
       "\n",
       "    .dataframe tbody tr th {\n",
       "        vertical-align: top;\n",
       "    }\n",
       "\n",
       "    .dataframe thead th {\n",
       "        text-align: right;\n",
       "    }\n",
       "</style>\n",
       "<table border=\"1\" class=\"dataframe\">\n",
       "  <thead>\n",
       "    <tr style=\"text-align: right;\">\n",
       "      <th></th>\n",
       "    </tr>\n",
       "  </thead>\n",
       "  <tbody>\n",
       "  </tbody>\n",
       "</table>\n",
       "</div>"
      ],
      "text/plain": [
       "Empty DataFrame\n",
       "Columns: []\n",
       "Index: []"
      ]
     },
     "execution_count": 10,
     "metadata": {},
     "output_type": "execute_result"
    }
   ],
   "source": [
    "if not output_error.empty:\n",
    "    output_error = output_error.sort_values(by=['No'],\n",
    "                                            ascending=[False],\n",
    "                                            ignore_index=True)\n",
    "    output_error.to_excel('./test_product_error.xlsx', index=False)\n",
    "\n",
    "output_error"
   ]
  },
  {
   "cell_type": "code",
   "execution_count": null,
   "id": "a31a202d-21e6-4a6a-8107-95dbbd0cf29b",
   "metadata": {},
   "outputs": [],
   "source": []
  }
 ],
 "metadata": {
  "kernelspec": {
   "display_name": "Python 3 (ipykernel)",
   "language": "python",
   "name": "python3"
  },
  "language_info": {
   "codemirror_mode": {
    "name": "ipython",
    "version": 3
   },
   "file_extension": ".py",
   "mimetype": "text/x-python",
   "name": "python",
   "nbconvert_exporter": "python",
   "pygments_lexer": "ipython3",
   "version": "3.11.3"
  }
 },
 "nbformat": 4,
 "nbformat_minor": 5
}
