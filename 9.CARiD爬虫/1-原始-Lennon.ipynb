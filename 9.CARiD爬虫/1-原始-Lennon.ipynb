{
 "cells": [
  {
   "cell_type": "markdown",
   "id": "c0551d44",
   "metadata": {},
   "source": [
    "- Update: 2023.04.11\n",
    "\n",
    "# 0. 配置参数\n",
    "\n",
    "- `url`：CARiD.COM"
   ]
  },
  {
   "cell_type": "code",
   "execution_count": 1,
   "id": "41d7a979",
   "metadata": {},
   "outputs": [],
   "source": [
    "url = 'https://www.carid.com/search/NGK+Laser+Iridium+Spark+Plugs/code-ccb8ce4eee843e4eb433d7a9a8931e0d/queryId-420738fe115bb7ad7af949d2688d7e1a/&redirect=1%2Fsort-price-asc#prod-list'\n",
    "\n",
    "chromedriver = '../../chromedriver.exe'"
   ]
  },
  {
   "cell_type": "code",
   "execution_count": 2,
   "id": "cf3cad15",
   "metadata": {},
   "outputs": [],
   "source": [
    "from selenium.webdriver import ChromeOptions, Chrome\n",
    "from selenium.webdriver.chrome.service import Service\n",
    "import time"
   ]
  },
  {
   "cell_type": "code",
   "execution_count": 5,
   "id": "c892ec7d",
   "metadata": {},
   "outputs": [],
   "source": [
    "chrome_options = ChromeOptions()\n",
    "chrome_options.add_experimental_option('excludeSwitches', ['enable-automation']) # Chrome正受到自动测试软件的控制\n",
    "chrome_options.add_argument('--disable-blink-features=AutomationControlled') # window.navigator.webdriver=false\n",
    "# chrome_options.add_argument('--headless')\n",
    "chrome_options.add_argument('--no-sandbox')\n",
    "chrome_options.add_argument('--disable-gpu')\n",
    "chrome_options.add_argument('--disable-dev-shm-usage')\n",
    "chrome_options.add_argument('user-agent=Mozilla/5.0 (Windows NT 10.0; Win64; x64) AppleWebKit/537.36 (KHTML, like Gecko) Chrome/111.0.0.0 Safari/537.36')\n",
    "# chrome_options.add_argument('--proxy-server=http://c126.kdltps.com:15818')\n",
    "# chrome_options.add_argument('blink-settings=imagesEnabled=false')\n",
    "# chrome_options.page_load_strategy = 'eager'\n",
    "\n",
    "driver = Chrome(service=Service(chromedriver), options=chrome_options)\n",
    "driver.maximize_window()\n",
    "driver.get(url)\n",
    "time.sleep(0.3)"
   ]
  },
  {
   "cell_type": "code",
   "execution_count": 4,
   "id": "1cc6c7c2",
   "metadata": {},
   "outputs": [],
   "source": [
    "from selenium.webdriver.common.by import By\n",
    "import pandas as pd"
   ]
  },
  {
   "cell_type": "code",
   "execution_count": null,
   "id": "a027e725",
   "metadata": {},
   "outputs": [],
   "source": [
    "try:\n",
    "    while True:\n",
    "        driver.find_element(By.XPATH, '//*[@class=\"simple-btn -large -wide -load-next -transparent js-pagination-more-btn\"]').click()\n",
    "        time.sleep(5)\n",
    "except:\n",
    "    pass"
   ]
  },
  {
   "cell_type": "code",
   "execution_count": null,
   "id": "6047f043",
   "metadata": {
    "scrolled": true
   },
   "outputs": [],
   "source": [
    "list_product = ['https://www.carid.com' + i.get_attribute('data-url') for i in driver.find_element(By.XPATH, '//*[@data-ga-product-list-type=\"Search Results\"]').find_elements(By.XPATH, '//*[@class=\"js-product-list-item\"]')]\n",
    "pd.DataFrame({'Product': list_product}).to_excel('./menu-ngk_laser_iridium_spark_plugs.xlsx', index=False)\n",
    "print('总数量：' + str(len(list_product)))\n",
    "print()"
   ]
  },
  {
   "cell_type": "markdown",
   "id": "5c800c43",
   "metadata": {},
   "source": [
    "# 1. 爬取"
   ]
  },
  {
   "cell_type": "code",
   "execution_count": null,
   "id": "2492d14a",
   "metadata": {},
   "outputs": [],
   "source": [
    "list_product = pd.read_excel('./menu-ngk_laser_iridium_spark_plugs.xlsx')['Product'].to_list()\n",
    "\n",
    "list_product"
   ]
  },
  {
   "cell_type": "code",
   "execution_count": null,
   "id": "b541ce99",
   "metadata": {},
   "outputs": [],
   "source": [
    "df = pd.DataFrame(columns=['Item',\n",
    "                           '标题',\n",
    "                           '图片',\n",
    "                           'Brand',\n",
    "                           'Part Number',\n",
    "                           'UPC',\n",
    "                           '车型',\n",
    "                           'Center Electrode Material',\n",
    "                           'Ground Electrode Material',\n",
    "                           'Electrode Material',\n",
    "                           '链接',\n",
    "                           '图片链接'])"
   ]
  },
  {
   "cell_type": "code",
   "execution_count": 18,
   "id": "eb6f712e",
   "metadata": {},
   "outputs": [],
   "source": [
    "driver.get(list_product[i])\n",
    "driver.maximize_window()\n",
    "time.sleep(0.3)"
   ]
  },
  {
   "cell_type": "code",
   "execution_count": 19,
   "id": "6426fff6",
   "metadata": {},
   "outputs": [],
   "source": [
    "from selenium.webdriver.support.wait import WebDriverWait\n",
    "from selenium.webdriver.support import expected_conditions as EC"
   ]
  },
  {
   "cell_type": "code",
   "execution_count": 20,
   "id": "d0004221",
   "metadata": {},
   "outputs": [
    {
     "name": "stdout",
     "output_type": "stream",
     "text": [
      "mpn4673007080 NGK® 96107 - Spark Plug https://images.carid.com/ngk/items/96107.jpg\n"
     ]
    }
   ],
   "source": [
    "WebDriverWait(driver, 30, 0.5, None).until(EC.presence_of_element_located((By.CLASS_NAME, 'prod-title.js-prod-title')))\n",
    "title = driver.find_element(By.CLASS_NAME, 'prod-title.js-prod-title').find_element(By.TAG_NAME, 'h1').text\n",
    "item = driver.find_element(By.CLASS_NAME, 'prod-title.js-prod-title').find_element(By.TAG_NAME, 'div').text.split('|')[1].replace('Item # ', '')\n",
    "pic = driver.find_element(By.XPATH, '//*[@class=\"product-image-main\"]').get_attribute('href')\n",
    "\n",
    "print(item + '; ' + title + '; ' + pic)"
   ]
  },
  {
   "cell_type": "code",
   "execution_count": 21,
   "id": "4423080d",
   "metadata": {},
   "outputs": [],
   "source": [
    "import re"
   ]
  },
  {
   "cell_type": "code",
   "execution_count": 23,
   "id": "88c20cdc",
   "metadata": {},
   "outputs": [
    {
     "name": "stdout",
     "output_type": "stream",
     "text": [
      "   \n"
     ]
    }
   ],
   "source": [
    "try:\n",
    "    specifications = driver.find_element(By.XPATH, '//*[@class=\"spec-stripped-table\"]').text\n",
    "\n",
    "    center_electrode_material = re.findall('\\nCenter Electrode\\nMaterial: .*?\\n', specifications)[0].replace('Center Electrode\\nMaterial: ', '').replace('\\n', '')\n",
    "    ground_electrode_material = re.findall('\\nGround Electrode\\nMaterial: .*?\\n', specifications)[0].replace('Ground Electrode\\nMaterial: ', '').replace('\\n', '')\n",
    "    electrode_material = re.findall('\\nElectrode Material: .*?\\n', specifications)[0].replace('Electrode Material: ', '').replace('\\n', '')\n",
    "except:\n",
    "    center_electrode_material = ''\n",
    "    ground_electrode_material = ''\n",
    "    electrode_material = ''\n",
    "    \n",
    "print(center_electrode_material + '; ' + ground_electrode_material + '; ' + electrode_material)"
   ]
  },
  {
   "cell_type": "code",
   "execution_count": null,
   "id": "31871ed9",
   "metadata": {},
   "outputs": [],
   "source": [
    "brand = ''\n",
    "part_number = ''\n",
    "upc = ''\n",
    "WebDriverWait(driver, 30, 0.5, None).until(EC.presence_of_element_located((By.XPATH, '//*[@class=\"prod-offer-item\"]')))\n",
    "list_feature = driver.find_elements(By.XPATH, '//*[@class=\"prod-offer-item\"]')\n",
    "for feature in list_feature:\n",
    "    if feature.text.startswith('Brand'):\n",
    "        brand = feature.text.split(':')[1]\n",
    "    elif feature.text.startswith('Part Number'):\n",
    "        part_number = feature.text.split(':')[1]\n",
    "    elif feature.text.startswith('UPC'):\n",
    "        upc = feature.text.split(':')[1]\n",
    "\n",
    "print(brand + '; ' + part_number + '; ' + upc)"
   ]
  },
  {
   "cell_type": "code",
   "execution_count": null,
   "id": "680da92c",
   "metadata": {},
   "outputs": [],
   "source": [
    "for j in driver.find_elements(By.XPATH, '//*[@class=\"mmy-row-expand\"]')[1:]:\n",
    "    j.click()\n",
    "    time.sleep(0.5)"
   ]
  },
  {
   "cell_type": "code",
   "execution_count": null,
   "id": "97a47c4a",
   "metadata": {},
   "outputs": [],
   "source": [
    "list_make = [j.text for j in driver.find_elements(By.XPATH, '//*[@class=\"mmy-row-title pointer js-mmy-row-expand\"]')]\n",
    "list_model = [j.text for j in driver.find_elements(By.XPATH, '//*[@class=\"mmy-row-description\"]')]\n",
    "\n",
    "list_vehicle = []\n",
    "for j in range(len(list_make)):\n",
    "    list_vehicle.extend([list_make[j] + ' ' + k for k in list_model[j].split('\\n')])\n",
    "    \n",
    "vehicle = '\\n'.join(list_vehicle)\n",
    "\n",
    "print(vehicle)"
   ]
  },
  {
   "cell_type": "code",
   "execution_count": 17,
   "id": "ca673bab",
   "metadata": {},
   "outputs": [
    {
     "ename": "NameError",
     "evalue": "name 'list_product' is not defined",
     "output_type": "error",
     "traceback": [
      "\u001b[1;31m---------------------------------------------------------------------------\u001b[0m",
      "\u001b[1;31mNameError\u001b[0m                                 Traceback (most recent call last)",
      "Cell \u001b[1;32mIn[17], line 12\u001b[0m\n\u001b[0;32m      1\u001b[0m df_temp \u001b[38;5;241m=\u001b[39m pd\u001b[38;5;241m.\u001b[39mDataFrame({\u001b[38;5;124m'\u001b[39m\u001b[38;5;124mItem\u001b[39m\u001b[38;5;124m'\u001b[39m: [item],\n\u001b[0;32m      2\u001b[0m                         \u001b[38;5;124m'\u001b[39m\u001b[38;5;124m标题\u001b[39m\u001b[38;5;124m'\u001b[39m: [title],\n\u001b[0;32m      3\u001b[0m                         \u001b[38;5;124m'\u001b[39m\u001b[38;5;124m图片\u001b[39m\u001b[38;5;124m'\u001b[39m: [\u001b[38;5;124m'\u001b[39m\u001b[38;5;124m'\u001b[39m],\n\u001b[0;32m      4\u001b[0m                         \u001b[38;5;124m'\u001b[39m\u001b[38;5;124mBrand\u001b[39m\u001b[38;5;124m'\u001b[39m: [brand],\n\u001b[0;32m      5\u001b[0m                         \u001b[38;5;124m'\u001b[39m\u001b[38;5;124mPart Number\u001b[39m\u001b[38;5;124m'\u001b[39m: [part_number],\n\u001b[0;32m      6\u001b[0m                         \u001b[38;5;124m'\u001b[39m\u001b[38;5;124mUPC\u001b[39m\u001b[38;5;124m'\u001b[39m: [upc],\n\u001b[0;32m      7\u001b[0m                         \u001b[38;5;124m'\u001b[39m\u001b[38;5;124m车型\u001b[39m\u001b[38;5;124m'\u001b[39m: [vehicle],\n\u001b[0;32m      8\u001b[0m                         \u001b[38;5;124m'\u001b[39m\u001b[38;5;124mSeat Type\u001b[39m\u001b[38;5;124m'\u001b[39m: [seat_type],\n\u001b[0;32m      9\u001b[0m                         \u001b[38;5;124m'\u001b[39m\u001b[38;5;124mCenter Electrode Material\u001b[39m\u001b[38;5;124m'\u001b[39m: [center_electrode_material],\n\u001b[0;32m     10\u001b[0m                         \u001b[38;5;124m'\u001b[39m\u001b[38;5;124mGround Electrode Material\u001b[39m\u001b[38;5;124m'\u001b[39m: [ground_electrode_material],\n\u001b[0;32m     11\u001b[0m                         \u001b[38;5;124m'\u001b[39m\u001b[38;5;124mElectrode Material\u001b[39m\u001b[38;5;124m'\u001b[39m: [electrode_material],\n\u001b[1;32m---> 12\u001b[0m                         \u001b[38;5;124m'\u001b[39m\u001b[38;5;124m链接\u001b[39m\u001b[38;5;124m'\u001b[39m: [\u001b[43mlist_product\u001b[49m[i]],\n\u001b[0;32m     13\u001b[0m                         \u001b[38;5;124m'\u001b[39m\u001b[38;5;124m图片链接\u001b[39m\u001b[38;5;124m'\u001b[39m: [pic]})\n\u001b[0;32m     15\u001b[0m df_temp\n",
      "\u001b[1;31mNameError\u001b[0m: name 'list_product' is not defined"
     ]
    }
   ],
   "source": [
    "df_temp = pd.DataFrame({'Item': [item],\n",
    "                        '标题': [title],\n",
    "                        '图片': [''],\n",
    "                        'Brand': [brand],\n",
    "                        'Part Number': [part_number],\n",
    "                        'UPC': [upc],\n",
    "                        '车型': [vehicle],\n",
    "                        'Center Electrode Material': [center_electrode_material],\n",
    "                        'Ground Electrode Material': [ground_electrode_material],\n",
    "                        'Electrode Material': [electrode_material],\n",
    "                        '链接': [list_product[i]],\n",
    "                        '图片链接': [pic]})\n",
    "\n",
    "df_temp"
   ]
  },
  {
   "cell_type": "code",
   "execution_count": null,
   "id": "477a9b1f",
   "metadata": {},
   "outputs": [],
   "source": [
    "df = pd.concat([df, df_temp], ignore_index=True).fillna('')\n",
    "\n",
    "driver.close()\n",
    "\n",
    "df"
   ]
  },
  {
   "cell_type": "code",
   "execution_count": null,
   "id": "52f49bea",
   "metadata": {},
   "outputs": [],
   "source": []
  }
 ],
 "metadata": {
  "kernelspec": {
   "display_name": "Python 3 (ipykernel)",
   "language": "python",
   "name": "python3"
  },
  "language_info": {
   "codemirror_mode": {
    "name": "ipython",
    "version": 3
   },
   "file_extension": ".py",
   "mimetype": "text/x-python",
   "name": "python",
   "nbconvert_exporter": "python",
   "pygments_lexer": "ipython3",
   "version": "3.9.12"
  }
 },
 "nbformat": 4,
 "nbformat_minor": 5
}
