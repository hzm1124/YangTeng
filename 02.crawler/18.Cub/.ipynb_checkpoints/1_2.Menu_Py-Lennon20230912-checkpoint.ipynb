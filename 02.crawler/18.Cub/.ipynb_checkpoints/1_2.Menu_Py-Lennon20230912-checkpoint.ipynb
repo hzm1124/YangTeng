{
 "cells": [
  {
   "cell_type": "code",
   "execution_count": 1,
   "id": "443b16ef",
   "metadata": {},
   "outputs": [],
   "source": [
    "import os"
   ]
  },
  {
   "cell_type": "code",
   "execution_count": 2,
   "id": "e1ee23bd",
   "metadata": {},
   "outputs": [
    {
     "data": {
      "text/plain": [
       "1"
      ]
     },
     "execution_count": 2,
     "metadata": {},
     "output_type": "execute_result"
    }
   ],
   "source": [
    "list_file = list(os.walk('./menu'))[0][2]\n",
    "if '.DS_Store' in list_file:\n",
    "    list_file.remove('.DS_Store')\n",
    "if '0.null.txt' in list_file:\n",
    "    list_file.remove('0.null.txt')\n",
    "    \n",
    "len(list_file)"
   ]
  },
  {
   "cell_type": "code",
   "execution_count": 3,
   "id": "cacdee29",
   "metadata": {},
   "outputs": [],
   "source": [
    "import pandas as pd"
   ]
  },
  {
   "cell_type": "code",
   "execution_count": 4,
   "id": "ffbee2c2",
   "metadata": {},
   "outputs": [
    {
     "data": {
      "text/html": [
       "<div>\n",
       "<style scoped>\n",
       "    .dataframe tbody tr th:only-of-type {\n",
       "        vertical-align: middle;\n",
       "    }\n",
       "\n",
       "    .dataframe tbody tr th {\n",
       "        vertical-align: top;\n",
       "    }\n",
       "\n",
       "    .dataframe thead th {\n",
       "        text-align: right;\n",
       "    }\n",
       "</style>\n",
       "<table border=\"1\" class=\"dataframe\">\n",
       "  <thead>\n",
       "    <tr style=\"text-align: right;\">\n",
       "      <th></th>\n",
       "    </tr>\n",
       "  </thead>\n",
       "  <tbody>\n",
       "  </tbody>\n",
       "</table>\n",
       "</div>"
      ],
      "text/plain": [
       "Empty DataFrame\n",
       "Columns: []\n",
       "Index: []"
      ]
     },
     "execution_count": 4,
     "metadata": {},
     "output_type": "execute_result"
    }
   ],
   "source": [
    "df = pd.DataFrame()\n",
    "\n",
    "df"
   ]
  },
  {
   "cell_type": "code",
   "execution_count": 5,
   "id": "e4ebde72",
   "metadata": {},
   "outputs": [],
   "source": [
    "from tqdm import tqdm\n",
    "import json"
   ]
  },
  {
   "cell_type": "code",
   "execution_count": 6,
   "id": "bb001936",
   "metadata": {},
   "outputs": [
    {
     "name": "stderr",
     "output_type": "stream",
     "text": [
      "进度: 100%|███████████████████████████████████| 1/1 [00:00<00:00, 463.41it/s]\n"
     ]
    },
    {
     "data": {
      "text/html": [
       "<div>\n",
       "<style scoped>\n",
       "    .dataframe tbody tr th:only-of-type {\n",
       "        vertical-align: middle;\n",
       "    }\n",
       "\n",
       "    .dataframe tbody tr th {\n",
       "        vertical-align: top;\n",
       "    }\n",
       "\n",
       "    .dataframe thead th {\n",
       "        text-align: right;\n",
       "    }\n",
       "</style>\n",
       "<table border=\"1\" class=\"dataframe\">\n",
       "  <thead>\n",
       "    <tr style=\"text-align: right;\">\n",
       "      <th></th>\n",
       "      <th>No.</th>\n",
       "      <th>Src</th>\n",
       "      <th>Url</th>\n",
       "      <th>Part_Number</th>\n",
       "      <th>Name</th>\n",
       "      <th>OE</th>\n",
       "      <th>Vehicle</th>\n",
       "      <th>Date</th>\n",
       "    </tr>\n",
       "  </thead>\n",
       "  <tbody>\n",
       "    <tr>\n",
       "      <th>0</th>\n",
       "      <td>1</td>\n",
       "      <td>https://www.cubelec.com.tw/product-new/1366704...</td>\n",
       "      <td>https://www.cubelec.com.tw/other-product-inner...</td>\n",
       "      <td>VS-48A054 / B011-053</td>\n",
       "      <td>Stoplight Switch</td>\n",
       "      <td>15064159;15128592;15197022</td>\n",
       "      <td>CADILLAC ESCALADE 2003-2006 CHEVROLET AVALANCH...</td>\n",
       "      <td>2013/04/16</td>\n",
       "    </tr>\n",
       "    <tr>\n",
       "      <th>1</th>\n",
       "      <td>2</td>\n",
       "      <td>https://www.cubelec.com.tw/product-new/1378343...</td>\n",
       "      <td>https://www.cubelec.com.tw/other-product-inner...</td>\n",
       "      <td>VS-48A055 / B011-054</td>\n",
       "      <td>Stoplight Switch</td>\n",
       "      <td>90059581;90059582</td>\n",
       "      <td>CHEVROLET CHEVY 2006-2012 PONTIAC GTO 2004</td>\n",
       "      <td>2013/09/05</td>\n",
       "    </tr>\n",
       "    <tr>\n",
       "      <th>2</th>\n",
       "      <td>3</td>\n",
       "      <td>https://www.cubelec.com.tw/product-new/2023010...</td>\n",
       "      <td>https://www.cubelec.com.tw/other-product-inner...</td>\n",
       "      <td>VS-48A056 / B011-055</td>\n",
       "      <td>Stoplight switch</td>\n",
       "      <td>25912943;25913321;89060201;SLS391</td>\n",
       "      <td>BUICK ENCLAVE 2008-2017 BUICK TERRAZA 2005-200...</td>\n",
       "      <td>2013/10/21</td>\n",
       "    </tr>\n",
       "    <tr>\n",
       "      <th>3</th>\n",
       "      <td>4</td>\n",
       "      <td>https://www.cubelec.com.tw/product-new/2023010...</td>\n",
       "      <td>https://www.cubelec.com.tw/other-product-inner...</td>\n",
       "      <td>VS-48A057 / B011-056</td>\n",
       "      <td>STOP LIGHT SWITCH</td>\n",
       "      <td>7T4Z13480AA;8T4Z13480A;BL3Z13480A;GEG166490;GL...</td>\n",
       "      <td>FORD C-MAX 2013-2018 FORD E-150 2009-2014 FORD...</td>\n",
       "      <td>2013/10/29</td>\n",
       "    </tr>\n",
       "    <tr>\n",
       "      <th>4</th>\n",
       "      <td>5</td>\n",
       "      <td>https://www.cubelec.com.tw/product-new/2023010...</td>\n",
       "      <td>https://www.cubelec.com.tw/other-product-inner...</td>\n",
       "      <td>VS-48A058 / B011-057</td>\n",
       "      <td>STOPLIGHT SWITCH</td>\n",
       "      <td>10302722;13597429;89047699</td>\n",
       "      <td>CADILLAC CTS 2004-2013 CADILLAC SRX 2004-2009 ...</td>\n",
       "      <td>2014/11/24</td>\n",
       "    </tr>\n",
       "    <tr>\n",
       "      <th>5</th>\n",
       "      <td>6</td>\n",
       "      <td>https://www.cubelec.com.tw/product-new/2023010...</td>\n",
       "      <td>https://www.cubelec.com.tw/other-product-inner...</td>\n",
       "      <td>VS-48A059 / B011-058</td>\n",
       "      <td>STOPLIGHT SWITCH</td>\n",
       "      <td>4373537;4565215;88924589</td>\n",
       "      <td>CHRYSLER CONQUEST 1989 CHRYSLER DYNASTY 1989-1...</td>\n",
       "      <td>2017/02/21</td>\n",
       "    </tr>\n",
       "    <tr>\n",
       "      <th>6</th>\n",
       "      <td>7</td>\n",
       "      <td>https://www.cubelec.com.tw/product-new/2023010...</td>\n",
       "      <td>https://www.cubelec.com.tw/other-product-inner...</td>\n",
       "      <td>VS-48A062 / B011-060</td>\n",
       "      <td>STOPLIGHT SWITCH</td>\n",
       "      <td>3M5Z-9F924-AC;3M5T9C872AC;3M5Z9F924AB</td>\n",
       "      <td>FORD CROWN VICTORIA 2007-2009 FORD ESCAPE 2007...</td>\n",
       "      <td>2015/04/28</td>\n",
       "    </tr>\n",
       "    <tr>\n",
       "      <th>7</th>\n",
       "      <td>8</td>\n",
       "      <td>https://www.cubelec.com.tw/product-new/2023010...</td>\n",
       "      <td>https://www.cubelec.com.tw/other-product-inner...</td>\n",
       "      <td>VS-48A063 / B011-061</td>\n",
       "      <td>STOPLIGHT SWITCH</td>\n",
       "      <td>M3S6513480AA</td>\n",
       "      <td>FORD FIESTA 2004-2008 FORD COURIER 2001-2008 F...</td>\n",
       "      <td>2016/03/31</td>\n",
       "    </tr>\n",
       "  </tbody>\n",
       "</table>\n",
       "</div>"
      ],
      "text/plain": [
       "   No.                                                Src  \\\n",
       "0    1  https://www.cubelec.com.tw/product-new/1366704...   \n",
       "1    2  https://www.cubelec.com.tw/product-new/1378343...   \n",
       "2    3  https://www.cubelec.com.tw/product-new/2023010...   \n",
       "3    4  https://www.cubelec.com.tw/product-new/2023010...   \n",
       "4    5  https://www.cubelec.com.tw/product-new/2023010...   \n",
       "5    6  https://www.cubelec.com.tw/product-new/2023010...   \n",
       "6    7  https://www.cubelec.com.tw/product-new/2023010...   \n",
       "7    8  https://www.cubelec.com.tw/product-new/2023010...   \n",
       "\n",
       "                                                 Url           Part_Number  \\\n",
       "0  https://www.cubelec.com.tw/other-product-inner...  VS-48A054 / B011-053   \n",
       "1  https://www.cubelec.com.tw/other-product-inner...  VS-48A055 / B011-054   \n",
       "2  https://www.cubelec.com.tw/other-product-inner...  VS-48A056 / B011-055   \n",
       "3  https://www.cubelec.com.tw/other-product-inner...  VS-48A057 / B011-056   \n",
       "4  https://www.cubelec.com.tw/other-product-inner...  VS-48A058 / B011-057   \n",
       "5  https://www.cubelec.com.tw/other-product-inner...  VS-48A059 / B011-058   \n",
       "6  https://www.cubelec.com.tw/other-product-inner...  VS-48A062 / B011-060   \n",
       "7  https://www.cubelec.com.tw/other-product-inner...  VS-48A063 / B011-061   \n",
       "\n",
       "                Name                                                 OE  \\\n",
       "0   Stoplight Switch                         15064159;15128592;15197022   \n",
       "1   Stoplight Switch                                  90059581;90059582   \n",
       "2   Stoplight switch                  25912943;25913321;89060201;SLS391   \n",
       "3  STOP LIGHT SWITCH  7T4Z13480AA;8T4Z13480A;BL3Z13480A;GEG166490;GL...   \n",
       "4   STOPLIGHT SWITCH                         10302722;13597429;89047699   \n",
       "5   STOPLIGHT SWITCH                           4373537;4565215;88924589   \n",
       "6   STOPLIGHT SWITCH              3M5Z-9F924-AC;3M5T9C872AC;3M5Z9F924AB   \n",
       "7   STOPLIGHT SWITCH                                       M3S6513480AA   \n",
       "\n",
       "                                             Vehicle        Date  \n",
       "0  CADILLAC ESCALADE 2003-2006 CHEVROLET AVALANCH...  2013/04/16  \n",
       "1         CHEVROLET CHEVY 2006-2012 PONTIAC GTO 2004  2013/09/05  \n",
       "2  BUICK ENCLAVE 2008-2017 BUICK TERRAZA 2005-200...  2013/10/21  \n",
       "3  FORD C-MAX 2013-2018 FORD E-150 2009-2014 FORD...  2013/10/29  \n",
       "4  CADILLAC CTS 2004-2013 CADILLAC SRX 2004-2009 ...  2014/11/24  \n",
       "5  CHRYSLER CONQUEST 1989 CHRYSLER DYNASTY 1989-1...  2017/02/21  \n",
       "6  FORD CROWN VICTORIA 2007-2009 FORD ESCAPE 2007...  2015/04/28  \n",
       "7  FORD FIESTA 2004-2008 FORD COURIER 2001-2008 F...  2016/03/31  "
      ]
     },
     "execution_count": 6,
     "metadata": {},
     "output_type": "execute_result"
    }
   ],
   "source": [
    "for file in tqdm(list_file, desc='进度', ncols=77):\n",
    "    with open('./menu/' + file, 'r', encoding='UTF-8') as f:\n",
    "        df = pd.concat([df, pd.DataFrame(json.loads(f.read()))], ignore_index=False)\n",
    "        \n",
    "#df = df[['Url', 'No.', 'Part_Number', 'Part_Type', 'Src']]\n",
    "\n",
    "df.to_excel('./menu.xlsx', index=False)\n",
    "\n",
    "df"
   ]
  },
  {
   "cell_type": "code",
   "execution_count": null,
   "id": "9e180f9f",
   "metadata": {},
   "outputs": [],
   "source": []
  }
 ],
 "metadata": {
  "kernelspec": {
   "display_name": "Python 3 (ipykernel)",
   "language": "python",
   "name": "python3"
  },
  "language_info": {
   "codemirror_mode": {
    "name": "ipython",
    "version": 3
   },
   "file_extension": ".py",
   "mimetype": "text/x-python",
   "name": "python",
   "nbconvert_exporter": "python",
   "pygments_lexer": "ipython3",
   "version": "3.11.3"
  }
 },
 "nbformat": 4,
 "nbformat_minor": 5
}
