{
 "cells": [
  {
   "cell_type": "code",
   "execution_count": 1,
   "id": "5a52743a-d139-4667-b3b4-363cb166476b",
   "metadata": {},
   "outputs": [],
   "source": [
    "import os\n",
    "import shutil\n",
    "\n",
    "directory_out = './file/5.collate'\n",
    "\n",
    "if os.path.exists(directory_out):\n",
    "    shutil.rmtree(directory_out)\n",
    "os.makedirs(directory_out)\n",
    "\n",
    "# = = = = = = = = = = = = = = =\n",
    "\n",
    "import pandas as pd\n",
    "\n",
    "from tqdm import tqdm\n",
    "import json"
   ]
  },
  {
   "cell_type": "markdown",
   "id": "2e688525-cdaa-470c-a533-fb612881a181",
   "metadata": {},
   "source": [
    "# 1. Part"
   ]
  },
  {
   "cell_type": "code",
   "execution_count": 2,
   "id": "ac7fb788-2e77-4500-b015-18b365a24a8b",
   "metadata": {},
   "outputs": [
    {
     "name": "stdout",
     "output_type": "stream",
     "text": [
      "crawler_1.xlsx\n"
     ]
    },
    {
     "name": "stderr",
     "output_type": "stream",
     "text": [
      "Progress: 100%|█████████████████████████████| 10/10 [00:00<00:00, 485.25it/s]\n"
     ]
    },
    {
     "name": "stdout",
     "output_type": "stream",
     "text": [
      "crawler_2.xlsx\n"
     ]
    },
    {
     "name": "stderr",
     "output_type": "stream",
     "text": [
      "Progress: 100%|████████████████████████████| 10/10 [00:00<00:00, 1075.74it/s]"
     ]
    },
    {
     "name": "stdout",
     "output_type": "stream",
     "text": [
      "\n",
      "Done ~\n"
     ]
    },
    {
     "name": "stderr",
     "output_type": "stream",
     "text": [
      "\n"
     ]
    }
   ],
   "source": [
    "directory_in = './file/4.info'\n",
    "\n",
    "list_file = [file for file in sorted(os.listdir(directory_in)) if file not in ['.DS_Store'] and os.path.isfile(f'{directory_in}/{file}')]\n",
    "for file in list_file:\n",
    "\n",
    "    print(file)\n",
    "\n",
    "    # = = = = = = = = = = = = = = =\n",
    "\n",
    "    df_input = pd.read_excel(f'{directory_in}/{file}',\n",
    "                             header=0,\n",
    "                             dtype=str).fillna('')\n",
    "\n",
    "    df_input['No'] = df_input['No'].astype(int)\n",
    "\n",
    "    # = = = = = = = = = = = = = = =\n",
    "\n",
    "    list_series, list_column, list_column_note, list_column_note_2, list_column_price, list_column_specification = [], df_input.columns.tolist(), ['Note 1'], ['Note 2'], ['Price'], []\n",
    "    for _, series in tqdm(df_input.iterrows(), total=len(df_input), desc='Progress', ncols=77):\n",
    "        dict_note, dict_note_2, dict_price, dict_dict = json.loads(series['Json_Note 1']), json.loads(series['Json_Note 2']), json.loads(series['Json_Price']), json.loads(series['Json_Specification'])\n",
    "\n",
    "        if len(dict_note) < 2:\n",
    "            series['Note 1'] = dict_note.get('0', '')\n",
    "        else:\n",
    "            for key, value in dict_note.items():\n",
    "                key = f'Note 1-{int(key) + 1}'\n",
    "\n",
    "                if key not in list_column_note:\n",
    "                    list_column_note.append(key)\n",
    "\n",
    "                series[key] = value\n",
    "\n",
    "        # = = = = = = = = = = = = = = =\n",
    "\n",
    "        if len(dict_note_2) < 2:\n",
    "            series['Note 2'] = dict_note_2.get('0', '')\n",
    "        else:\n",
    "            for key, value in dict_note_2.items():\n",
    "                key = f'Note 2-{int(key) + 1}'\n",
    "\n",
    "                if key not in list_column_note_2:\n",
    "                    list_column_note_2.append(key)\n",
    "\n",
    "                series[key] = value\n",
    "\n",
    "        # = = = = = = = = = = = = = = =\n",
    "\n",
    "        series['Price'] = dict_price.get('0', '')\n",
    "        for key, value in dict_price.get('1', {}).items():\n",
    "            key = f'Price-{int(key) + 2}'\n",
    "\n",
    "            if key not in list_column_price:\n",
    "                list_column_price.append(key)\n",
    "\n",
    "            series[key] = value\n",
    "\n",
    "        # = = = = = = = = = = = = = = =\n",
    "\n",
    "        for dict_ in dict_dict.values():\n",
    "            if dict_['0'] in list_column:\n",
    "                dict_['0'] = f'''{dict_['0']} (Specification)'''\n",
    "\n",
    "            if dict_['0'] not in list_column_specification:\n",
    "                list_column_specification.append(dict_['0'])\n",
    "\n",
    "            series[dict_['0']] = dict_.get('1', 'N/A')\n",
    "\n",
    "        list_series.append(series)\n",
    "\n",
    "    # = = = = = = = = = = = = = = =\n",
    "\n",
    "    df_output = pd.DataFrame(list_series).sort_values(by=['No'],\n",
    "                                                      ascending=[True],\n",
    "                                                      ignore_index=True)\n",
    "    df_output[list_column[:8] + list_column_note + list_column_note_2 + list_column[12:13] + list_column_price + sorted(list_column_specification) + list_column[8:12] + list_column[13:]].to_excel(f'{directory_out}/{file}', index=False)\n",
    "\n",
    "print()\n",
    "print('Done ~')"
   ]
  },
  {
   "cell_type": "markdown",
   "id": "638c7049-7ebe-4c62-874c-d1c440e5f1a8",
   "metadata": {},
   "source": [
    "# 2. Vehicle"
   ]
  },
  {
   "cell_type": "code",
   "execution_count": 3,
   "id": "8ba81059-56d8-4ffb-8fa6-67b5d34894e0",
   "metadata": {},
   "outputs": [
    {
     "name": "stdout",
     "output_type": "stream",
     "text": [
      "crawler_1-vehicle.xlsx\n"
     ]
    },
    {
     "name": "stderr",
     "output_type": "stream",
     "text": [
      "Progress: 100%|████████████████████████████| 10/10 [00:00<00:00, 1078.87it/s]\n"
     ]
    },
    {
     "name": "stdout",
     "output_type": "stream",
     "text": [
      "crawler_2-vehicle.xlsx\n"
     ]
    },
    {
     "name": "stderr",
     "output_type": "stream",
     "text": [
      "Progress: 100%|█████████████████████████████| 10/10 [00:00<00:00, 956.58it/s]"
     ]
    },
    {
     "name": "stdout",
     "output_type": "stream",
     "text": [
      "\n",
      "Done ~\n"
     ]
    },
    {
     "name": "stderr",
     "output_type": "stream",
     "text": [
      "\n"
     ]
    }
   ],
   "source": [
    "directory_in = './file/3.vehicle'\n",
    "\n",
    "list_file = [file for file in sorted(os.listdir(directory_in)) if file not in ['.DS_Store'] and os.path.isfile(f'{directory_in}/{file}')]\n",
    "for file in list_file:\n",
    "\n",
    "    print(file)\n",
    "\n",
    "    # = = = = = = = = = = = = = = =\n",
    "\n",
    "    df_input = pd.read_excel(f'{directory_in}/{file}',\n",
    "                             header=0,\n",
    "                             dtype=str).fillna('')\n",
    "\n",
    "    df_input['Vehicle No'] = df_input['Vehicle No'].astype(int)\n",
    "    df_input['Year'] = df_input['Year'].astype(int)\n",
    "\n",
    "    # = = = = = = = = = = = = = = =\n",
    "\n",
    "    list_dict, grouped = [], df_input.groupby('JOIN_MPNTCPC')\n",
    "    for mpntcpc, group in tqdm(grouped, desc='Progress', ncols=77):\n",
    "        df_temp = group.reset_index(drop=True)\n",
    "\n",
    "        dict_vehicle = {}\n",
    "        for i in range(len(df_temp)):\n",
    "            make, model, year = df_temp.loc[i, 'Make'], df_temp.loc[i, 'Model'], df_temp.loc[i, 'Year']\n",
    "\n",
    "            if make not in dict_vehicle:\n",
    "                dict_vehicle[make] = {model: [year]}\n",
    "            elif model not in dict_vehicle[make]:\n",
    "                dict_vehicle[make][model] = [year]\n",
    "            elif year not in dict_vehicle[make][model]:\n",
    "                dict_vehicle[make][model].append(year)\n",
    "\n",
    "        # = = = = = = = = = = = = = = =\n",
    "\n",
    "        list_vehicle = []\n",
    "        for make, dict_model in dict_vehicle.items():\n",
    "            for model, list_year in dict_model.items():\n",
    "                year_begin, year_end = min(list_year), max(list_year)\n",
    "                list_vehicle.append(f'{make} {model} {year_begin}' if year_begin == year_end else f'{make} {model} {year_begin}-{year_end}')\n",
    "\n",
    "        # = = = = = = = = = = = = = = =\n",
    "\n",
    "        list_dict.append({'JOIN_MPNTCPC': mpntcpc,\n",
    "                          'Vehicle': '\\n'.join(sorted(list_vehicle))})\n",
    "\n",
    "    # = = = = = = = = = = = = = = =\n",
    "\n",
    "    df_output = pd.DataFrame(list_dict).sort_values(by=['JOIN_MPNTCPC'],\n",
    "                                                    ascending=[True],\n",
    "                                                    ignore_index=True)\n",
    "    df_output.to_excel(f'{directory_out}/{file}', index=False)\n",
    "\n",
    "print()\n",
    "print('Done ~')"
   ]
  },
  {
   "cell_type": "code",
   "execution_count": null,
   "id": "27293b52-66ed-450d-b1e2-4ca40157e0e7",
   "metadata": {},
   "outputs": [],
   "source": []
  }
 ],
 "metadata": {
  "kernelspec": {
   "display_name": "Python 3 (ipykernel)",
   "language": "python",
   "name": "python3"
  },
  "language_info": {
   "codemirror_mode": {
    "name": "ipython",
    "version": 3
   },
   "file_extension": ".py",
   "mimetype": "text/x-python",
   "name": "python",
   "nbconvert_exporter": "python",
   "pygments_lexer": "ipython3",
   "version": "3.12.7"
  }
 },
 "nbformat": 4,
 "nbformat_minor": 5
}
