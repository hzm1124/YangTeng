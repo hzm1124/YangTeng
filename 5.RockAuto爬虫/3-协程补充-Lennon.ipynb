{
 "cells": [
  {
   "cell_type": "code",
   "execution_count": 1,
   "id": "f20cb324",
   "metadata": {},
   "outputs": [],
   "source": [
    "import os"
   ]
  },
  {
   "cell_type": "code",
   "execution_count": 2,
   "id": "948f96f6",
   "metadata": {},
   "outputs": [],
   "source": [
    "list_file = list(os.walk('./'))[0][2]"
   ]
  },
  {
   "cell_type": "code",
   "execution_count": 3,
   "id": "59f2123e",
   "metadata": {},
   "outputs": [
    {
     "data": {
      "text/plain": [
       "['1-原始-Lennon.ipynb',\n",
       " '2-协程-Lennon.ipynb',\n",
       " '3-协程补充-Lennon.ipynb',\n",
       " 'crawler-0.xlsx',\n",
       " 'crawler-1.xlsx',\n",
       " 'menu-dorman_parking+brake+cable_1696.xlsx']"
      ]
     },
     "execution_count": 3,
     "metadata": {},
     "output_type": "execute_result"
    }
   ],
   "source": [
    "list_file"
   ]
  },
  {
   "cell_type": "code",
   "execution_count": null,
   "id": "96f79ea7",
   "metadata": {},
   "outputs": [],
   "source": []
  },
  {
   "cell_type": "code",
   "execution_count": null,
   "id": "b1451863",
   "metadata": {},
   "outputs": [],
   "source": []
  },
  {
   "cell_type": "code",
   "execution_count": null,
   "id": "ed03d3f5",
   "metadata": {},
   "outputs": [],
   "source": []
  },
  {
   "cell_type": "code",
   "execution_count": null,
   "id": "bc15c0cf",
   "metadata": {},
   "outputs": [],
   "source": []
  }
 ],
 "metadata": {
  "kernelspec": {
   "display_name": "Python 3 (ipykernel)",
   "language": "python",
   "name": "python3"
  },
  "language_info": {
   "codemirror_mode": {
    "name": "ipython",
    "version": 3
   },
   "file_extension": ".py",
   "mimetype": "text/x-python",
   "name": "python",
   "nbconvert_exporter": "python",
   "pygments_lexer": "ipython3",
   "version": "3.9.12"
  }
 },
 "nbformat": 4,
 "nbformat_minor": 5
}
