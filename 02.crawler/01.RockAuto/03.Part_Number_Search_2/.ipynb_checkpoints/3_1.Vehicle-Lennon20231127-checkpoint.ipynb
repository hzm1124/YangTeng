{
 "cells": [
  {
   "cell_type": "code",
   "execution_count": null,
   "id": "03f4a83e",
   "metadata": {},
   "outputs": [],
   "source": [
    "import pandas as pd"
   ]
  },
  {
   "cell_type": "code",
   "execution_count": null,
   "id": "b4ca5c7e",
   "metadata": {},
   "outputs": [],
   "source": [
    "df = pd.read_excel('./part.xlsx',\n",
    "                   header=0,\n",
    "                   dtype=str).fillna('')\n",
    "\n",
    "list_type_code = df['Type_Code'].tolist()\n",
    "list_part_key = df['Part_Key'].tolist()\n",
    "\n",
    "print('总数量：' + str(len(list_part_key)))\n",
    "list_part_key"
   ]
  },
  {
   "cell_type": "code",
   "execution_count": null,
   "id": "6c83b34a",
   "metadata": {},
   "outputs": [],
   "source": [
    "df = pd.DataFrame()\n",
    "\n",
    "df"
   ]
  },
  {
   "cell_type": "code",
   "execution_count": null,
   "id": "c312537e",
   "metadata": {},
   "outputs": [],
   "source": [
    "from urllib.parse import quote\n",
    "import requests\n",
    "import json"
   ]
  },
  {
   "cell_type": "code",
   "execution_count": null,
   "id": "171d3566",
   "metadata": {},
   "outputs": [],
   "source": [
    "i = 0\n",
    "\n",
    "type_code = list_type_code[i]\n",
    "part_key = list_part_key[i]\n",
    "\n",
    "data = 'func=getbuyersguide&payload=' + quote('{\"partData\":{\"listing_data_essential\":{\"parttype\":\"') + type_code + quote('\",\"partkey\":\"') + part_key + quote('\"}}}') + '&api_json_request=1&sctchecked=1&scbeenloaded=true&curCartGroupID='\n",
    "\n",
    "resp = requests.post('https://www.rockauto.com/catalog/catalogapi.php',\n",
    "                     data=data,\n",
    "                     headers={'Content-Type': 'application/x-www-form-urlencoded; charset=UTF-8'}).text\n",
    "\n",
    "resp = json.loads(resp)\n",
    "\n",
    "resp"
   ]
  },
  {
   "cell_type": "code",
   "execution_count": null,
   "id": "84f8e9ea",
   "metadata": {},
   "outputs": [],
   "source": [
    "from bs4 import BeautifulSoup"
   ]
  },
  {
   "cell_type": "code",
   "execution_count": null,
   "id": "be9f27ab",
   "metadata": {},
   "outputs": [],
   "source": [
    "html = resp['buyersguidepieces']['body']\n",
    "\n",
    "soup = BeautifulSoup(html, 'lxml')\n",
    "\n",
    "with open('./vehicle.html', 'w', encoding='UTF-8') as file:\n",
    "    file.write(str(soup))\n",
    "\n",
    "print(soup.prettify())"
   ]
  },
  {
   "cell_type": "code",
   "execution_count": null,
   "id": "6d5642d6",
   "metadata": {},
   "outputs": [],
   "source": [
    "from lxml import etree"
   ]
  },
  {
   "cell_type": "code",
   "execution_count": null,
   "id": "6178eb0b",
   "metadata": {},
   "outputs": [],
   "source": [
    "html = etree.HTML(str(soup))\n",
    "\n",
    "list_vehicle = html.xpath('//div[contains(@class, \"buyersguide-nested\")]/descendant::table[contains(@class, \"nobmp\")]/tr')\n",
    "\n",
    "vehicle = '\\n'.join([' '.join(_.xpath('./td/text()')) for _ in list_vehicle])\n",
    "\n",
    "print(vehicle)"
   ]
  },
  {
   "cell_type": "code",
   "execution_count": null,
   "id": "c56713f6",
   "metadata": {},
   "outputs": [],
   "source": [
    "df_temp = pd.DataFrame([{'status': 'ok',\n",
    "                         'Part_Key': part_key,\n",
    "                         'Vehicle': vehicle}])\n",
    "\n",
    "df = pd.concat([df, df_temp], ignore_index=True).fillna('')\n",
    "\n",
    "df"
   ]
  },
  {
   "cell_type": "code",
   "execution_count": null,
   "id": "22d4f3db",
   "metadata": {},
   "outputs": [],
   "source": []
  }
 ],
 "metadata": {
  "kernelspec": {
   "display_name": "Python 3 (ipykernel)",
   "language": "python",
   "name": "python3"
  },
  "language_info": {
   "codemirror_mode": {
    "name": "ipython",
    "version": 3
   },
   "file_extension": ".py",
   "mimetype": "text/x-python",
   "name": "python",
   "nbconvert_exporter": "python",
   "pygments_lexer": "ipython3",
   "version": "3.11.3"
  }
 },
 "nbformat": 4,
 "nbformat_minor": 5
}
