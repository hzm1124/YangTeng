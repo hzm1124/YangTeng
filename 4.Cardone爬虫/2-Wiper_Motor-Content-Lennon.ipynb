{
 "cells": [
  {
   "cell_type": "markdown",
   "id": "eaa7b7ed",
   "metadata": {},
   "source": [
    "- Update: 2023.02.11\n",
    "\n",
    "# 0. 配置参数\n",
    "\n",
    "- `dict_menu`：目录文件的路径\n",
    "- `out`：保存结果的路径"
   ]
  },
  {
   "cell_type": "code",
   "execution_count": 1,
   "id": "faee8f3a",
   "metadata": {},
   "outputs": [],
   "source": [
    "dict_menu = {'file': '../../file/cardone-wiper_motor-menu.xlsx',\n",
    "             'head': 1}\n",
    "\n",
    "out = '../../file/cardone-wiper_motor-content.xlsx'"
   ]
  },
  {
   "cell_type": "code",
   "execution_count": 2,
   "id": "4efb7655",
   "metadata": {},
   "outputs": [],
   "source": [
    "import pandas as pd"
   ]
  },
  {
   "cell_type": "code",
   "execution_count": 3,
   "id": "b18d4ce9",
   "metadata": {},
   "outputs": [
    {
     "data": {
      "text/html": [
       "<div>\n",
       "<style scoped>\n",
       "    .dataframe tbody tr th:only-of-type {\n",
       "        vertical-align: middle;\n",
       "    }\n",
       "\n",
       "    .dataframe tbody tr th {\n",
       "        vertical-align: top;\n",
       "    }\n",
       "\n",
       "    .dataframe thead th {\n",
       "        text-align: right;\n",
       "    }\n",
       "</style>\n",
       "<table border=\"1\" class=\"dataframe\">\n",
       "  <thead>\n",
       "    <tr style=\"text-align: right;\">\n",
       "      <th></th>\n",
       "      <th>标题</th>\n",
       "      <th>品牌号</th>\n",
       "      <th>车型</th>\n",
       "      <th>链接</th>\n",
       "    </tr>\n",
       "  </thead>\n",
       "  <tbody>\n",
       "    <tr>\n",
       "      <th>0</th>\n",
       "      <td>Windshield Wiper Motor - 40-1000</td>\n",
       "      <td>40-1000</td>\n",
       "      <td>Chevrolet Camaro 1998-93\\nPontiac Firebird 199...</td>\n",
       "      <td>https://www.cardone.com/product/windshield-wip...</td>\n",
       "    </tr>\n",
       "    <tr>\n",
       "      <th>1</th>\n",
       "      <td>Windshield Wiper Motor - 40-10000</td>\n",
       "      <td>40-10000</td>\n",
       "      <td>Hummer H3 2010-06</td>\n",
       "      <td>https://www.cardone.com/product/windshield-wip...</td>\n",
       "    </tr>\n",
       "    <tr>\n",
       "      <th>2</th>\n",
       "      <td>Windshield Wiper Motor - 40-10005</td>\n",
       "      <td>40-10005</td>\n",
       "      <td>Cadillac CTS 2015-08, Escalade 2022-15, Escala...</td>\n",
       "      <td>https://www.cardone.com/product/windshield-wip...</td>\n",
       "    </tr>\n",
       "    <tr>\n",
       "      <th>3</th>\n",
       "      <td>Windshield Wiper Motor - 40-10006</td>\n",
       "      <td>40-10006</td>\n",
       "      <td>Buick Enclave 2017-08</td>\n",
       "      <td>https://www.cardone.com/product/windshield-wip...</td>\n",
       "    </tr>\n",
       "    <tr>\n",
       "      <th>4</th>\n",
       "      <td>Windshield Wiper Motor - 40-10007</td>\n",
       "      <td>40-10007</td>\n",
       "      <td>Chevrolet Malibu 2007-05</td>\n",
       "      <td>https://www.cardone.com/product/windshield-wip...</td>\n",
       "    </tr>\n",
       "    <tr>\n",
       "      <th>5</th>\n",
       "      <td>Windshield Wiper Motor - 40-10009</td>\n",
       "      <td>40-10009</td>\n",
       "      <td>Chevrolet Suburban 1500 2000, Suburban 2500 20...</td>\n",
       "      <td>https://www.cardone.com/product/windshield-wip...</td>\n",
       "    </tr>\n",
       "  </tbody>\n",
       "</table>\n",
       "</div>"
      ],
      "text/plain": [
       "                                  标题       品牌号  \\\n",
       "0   Windshield Wiper Motor - 40-1000   40-1000   \n",
       "1  Windshield Wiper Motor - 40-10000  40-10000   \n",
       "2  Windshield Wiper Motor - 40-10005  40-10005   \n",
       "3  Windshield Wiper Motor - 40-10006  40-10006   \n",
       "4  Windshield Wiper Motor - 40-10007  40-10007   \n",
       "5  Windshield Wiper Motor - 40-10009  40-10009   \n",
       "\n",
       "                                                  车型  \\\n",
       "0  Chevrolet Camaro 1998-93\\nPontiac Firebird 199...   \n",
       "1                                  Hummer H3 2010-06   \n",
       "2  Cadillac CTS 2015-08, Escalade 2022-15, Escala...   \n",
       "3                              Buick Enclave 2017-08   \n",
       "4                           Chevrolet Malibu 2007-05   \n",
       "5  Chevrolet Suburban 1500 2000, Suburban 2500 20...   \n",
       "\n",
       "                                                  链接  \n",
       "0  https://www.cardone.com/product/windshield-wip...  \n",
       "1  https://www.cardone.com/product/windshield-wip...  \n",
       "2  https://www.cardone.com/product/windshield-wip...  \n",
       "3  https://www.cardone.com/product/windshield-wip...  \n",
       "4  https://www.cardone.com/product/windshield-wip...  \n",
       "5  https://www.cardone.com/product/windshield-wip...  "
      ]
     },
     "execution_count": 3,
     "metadata": {},
     "output_type": "execute_result"
    }
   ],
   "source": [
    "df_menu = pd.read_excel(dict_menu['file'], header=dict_menu['head']-1)\n",
    "\n",
    "df_menu"
   ]
  },
  {
   "cell_type": "code",
   "execution_count": 4,
   "id": "bdcf96f8",
   "metadata": {},
   "outputs": [],
   "source": [
    "from selenium.webdriver import Chrome\n",
    "import datetime"
   ]
  },
  {
   "cell_type": "code",
   "execution_count": 5,
   "id": "0642a068",
   "metadata": {},
   "outputs": [
    {
     "name": "stdout",
     "output_type": "stream",
     "text": [
      "开始爬取时间：2023:02:11 08:54:04\n"
     ]
    }
   ],
   "source": [
    "browser = Chrome()\n",
    "browser.set_page_load_timeout(60)\n",
    "\n",
    "print(f'开始爬取时间：{datetime.datetime.now().strftime(\"%Y:%m:%d %H:%M:%S\")}')"
   ]
  },
  {
   "cell_type": "code",
   "execution_count": 6,
   "id": "1d200120",
   "metadata": {},
   "outputs": [],
   "source": [
    "from selenium.webdriver.common.by import By\n",
    "import time"
   ]
  },
  {
   "cell_type": "code",
   "execution_count": 7,
   "id": "58e6b466",
   "metadata": {
    "scrolled": true
   },
   "outputs": [
    {
     "name": "stdout",
     "output_type": "stream",
     "text": [
      "1\n",
      "2\n",
      "3\n",
      "4\n",
      "5\n",
      "6\n"
     ]
    }
   ],
   "source": [
    "col_href = []\n",
    "col_oe = []\n",
    "for i in range(len(df_menu)):\n",
    "    print(i+1)\n",
    "    browser.get(df_menu.loc[i, '链接'] + '#tab-specs')\n",
    "    browser.execute_script('window.scrollTo(0, document.body.scrollHeight)')\n",
    "    time.sleep(1.5)\n",
    "    browser.execute_script('window.scrollTo(0, -document.body.scrollHeight)')\n",
    "    time.sleep(0.5)\n",
    "    browser.execute_script('window.scrollTo(0, document.body.scrollHeight)')\n",
    "    \n",
    "    href = browser.find_element(by=By.CLASS_NAME, value='productView-img-container').find_element(by=By.TAG_NAME, value='a').get_attribute('href')\n",
    "    col_href.append(href)\n",
    "    # print(href)\n",
    "    list_oe = []\n",
    "    list_div = browser.find_element(by=By.CLASS_NAME, value='oe-nums').find_elements(by=By.CLASS_NAME, value='productView-table-data')\n",
    "    for div in list_div:\n",
    "        list_str = div.text.split(',')\n",
    "        for string in list_str:\n",
    "            list_oe.append(string.strip())\n",
    "    list_oe = set(list_oe)\n",
    "    oe = ';'.join(list_oe)\n",
    "    col_oe.append(oe)\n",
    "    # print(oe)\n",
    "    # print()"
   ]
  },
  {
   "cell_type": "code",
   "execution_count": 8,
   "id": "53952d0b",
   "metadata": {},
   "outputs": [],
   "source": [
    "df_menu['图片链接'] = col_href\n",
    "df_menu['OE号'] = col_oe\n",
    "\n",
    "df_content = df_menu[['标题', '品牌号', 'OE号', '车型', '链接', '图片链接']]"
   ]
  },
  {
   "cell_type": "code",
   "execution_count": 9,
   "id": "9a9e6b84",
   "metadata": {},
   "outputs": [
    {
     "name": "stdout",
     "output_type": "stream",
     "text": [
      "爬取结束时间：2023:02:11 08:54:37\n"
     ]
    }
   ],
   "source": [
    "browser.quit()\n",
    "print(f'爬取结束时间：{datetime.datetime.now().strftime(\"%Y:%m:%d %H:%M:%S\")}')"
   ]
  },
  {
   "cell_type": "code",
   "execution_count": 10,
   "id": "d1e76a1b",
   "metadata": {},
   "outputs": [],
   "source": [
    "df_content.to_excel(out, index=False)"
   ]
  },
  {
   "cell_type": "code",
   "execution_count": null,
   "id": "5c05a4fe",
   "metadata": {},
   "outputs": [],
   "source": []
  }
 ],
 "metadata": {
  "kernelspec": {
   "display_name": "Python 3 (ipykernel)",
   "language": "python",
   "name": "python3"
  },
  "language_info": {
   "codemirror_mode": {
    "name": "ipython",
    "version": 3
   },
   "file_extension": ".py",
   "mimetype": "text/x-python",
   "name": "python",
   "nbconvert_exporter": "python",
   "pygments_lexer": "ipython3",
   "version": "3.9.12"
  }
 },
 "nbformat": 4,
 "nbformat_minor": 5
}
