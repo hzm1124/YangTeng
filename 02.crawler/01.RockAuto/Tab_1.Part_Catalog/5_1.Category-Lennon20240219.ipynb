{
 "cells": [
  {
   "cell_type": "code",
   "execution_count": 1,
   "id": "7ee6a59b",
   "metadata": {},
   "outputs": [],
   "source": [
    "param_dir = 'data_20240206'\n",
    "param_make = 'ABARTH'"
   ]
  },
  {
   "cell_type": "code",
   "execution_count": 2,
   "id": "03f4a83e",
   "metadata": {},
   "outputs": [],
   "source": [
    "import pandas as pd\n",
    "\n",
    "output_correct = pd.DataFrame()\n",
    "\n",
    "output_error = pd.DataFrame()"
   ]
  },
  {
   "cell_type": "code",
   "execution_count": 3,
   "id": "964f1e38",
   "metadata": {
    "scrolled": true
   },
   "outputs": [
    {
     "name": "stdout",
     "output_type": "stream",
     "text": [
      "总数量：64\n"
     ]
    },
    {
     "data": {
      "text/plain": [
       "['982cc L4',\n",
       " '1.3L L4',\n",
       " '1.9L L4',\n",
       " '1.3L L4',\n",
       " '2.0L L4',\n",
       " '982cc L4',\n",
       " '1.3L L4',\n",
       " '1.9L L4',\n",
       " '1.3L L4',\n",
       " '2.0L L4',\n",
       " '982cc L4',\n",
       " '1.3L L4',\n",
       " '1.9L L4',\n",
       " '1.3L L4',\n",
       " '2.0L L4',\n",
       " '982cc L4',\n",
       " '1.1L L4',\n",
       " '1.6L L4',\n",
       " '1.9L L4',\n",
       " '847cc L4',\n",
       " '1.3L L4',\n",
       " '2.0L L4',\n",
       " '982cc L4',\n",
       " '1.6L L4',\n",
       " '847cc L4',\n",
       " '1.3L L4',\n",
       " '2.0L L4',\n",
       " '982cc L4',\n",
       " '1.6L L4',\n",
       " '847cc L4',\n",
       " '1.3L L4',\n",
       " '2.0L L4',\n",
       " '982cc L4',\n",
       " '1.6L L4',\n",
       " '847cc L4',\n",
       " '1.3L L4',\n",
       " '2.0L L4',\n",
       " '982cc L4',\n",
       " '1.6L L4',\n",
       " '847cc L4',\n",
       " '1.3L L4',\n",
       " '2.0L L4',\n",
       " '1.6L L4',\n",
       " '747cc L4',\n",
       " '833cc L4',\n",
       " '1.6L L4',\n",
       " '747cc L4',\n",
       " '833cc L4',\n",
       " '747cc L4',\n",
       " '747cc L4',\n",
       " '747cc L4',\n",
       " '747cc L4',\n",
       " '1.1L L4',\n",
       " '1.1L L4',\n",
       " '1.1L L4',\n",
       " '1.1L L4',\n",
       " '1.1L L4',\n",
       " '1.1L L4',\n",
       " '1.1L L4',\n",
       " '1.1L L4',\n",
       " '1.1L L4',\n",
       " '1.1L L4',\n",
       " '1.1L L4',\n",
       " '1.1L L4']"
      ]
     },
     "execution_count": 3,
     "metadata": {},
     "output_type": "execute_result"
    }
   ],
   "source": [
    "input_ = pd.read_excel('./' + param_dir + '/' + param_make + '/4.engine.xlsx',\n",
    "                       header=0,\n",
    "                       dtype=str).fillna('')\n",
    "\n",
    "length = len(input_)\n",
    "\n",
    "print('总数量：' + str(length))\n",
    "input_['Eninge'].tolist()"
   ]
  },
  {
   "cell_type": "code",
   "execution_count": 4,
   "id": "1df64da2",
   "metadata": {},
   "outputs": [
    {
     "name": "stdout",
     "output_type": "stream",
     "text": [
      "error\n"
     ]
    }
   ],
   "source": [
    "crawler_status = 'error'\n",
    "\n",
    "print(crawler_status)"
   ]
  },
  {
   "cell_type": "code",
   "execution_count": 5,
   "id": "c312537e",
   "metadata": {},
   "outputs": [],
   "source": [
    "import requests\n",
    "import json"
   ]
  },
  {
   "cell_type": "code",
   "execution_count": 6,
   "id": "1f6c50c9",
   "metadata": {},
   "outputs": [
    {
     "data": {
      "text/plain": [
       "{'html_fill_sections': {'navchildren[]': '<div class=\"ranavnode\" id=\"nav[__GIP__1__]\"><input type=\"hidden\" autocomplete=\"off\" id=\"jsn[__GIP__1__]\" value=\"{&quot;groupindex&quot;:&quot;__GIP__1__&quot;,&quot;tab&quot;:&quot;catalog&quot;,&quot;idepth&quot;:1,&quot;make&quot;:&quot;ABARTH&quot;,&quot;year&quot;:&quot;1969&quot;,&quot;model&quot;:&quot;1000&quot;,&quot;carcode&quot;:&quot;1438885&quot;,&quot;engine&quot;:&quot;982cc L4&quot;,&quot;groupname&quot;:&quot;Brake &amp; Wheel Hub&quot;,&quot;nodetype&quot;:&quot;groupname&quot;}\" /><input type=\"hidden\" autocomplete=\"off\" name=\"navnodeunique[catalog-abarth-1969-1000-1438885-brake &amp; wheel hub]\" id=\"navnodeunique[catalog-abarth-1969-1000-1438885-brake &amp; wheel hub]\" value=\"__GIP__1__\" /><div id=\"nav_o[__GIP__1__]\" class=\"ranavouter\"><div class=\"inner\"><table class=\"tbl\"  cellpadding=\"0\" cellspacing=\"0\"><tr><td class=\"niconspace nvlineicon\"></td><td class=\"niconspace ncollapsedicon\" id=\"navicon[__GIP__1__]\"><a href=\"/en/catalog/abarth,1969,1000,982cc+l4,1438885,brake+&amp;+wheel+hub\" onclick=\"cataloglite.LinkIntercept_ToggleNavNode(&quot;__GIP__1__&quot;); return false;\" tabindex=\"-1\"><img src=\"/Images/1pxtransparent.png\" alt=\"Toggle\"></a></td><td class=\"nlabel\" ><a class=\"navlabellink nvoffset nnormal\" href=\"/en/catalog/abarth,1969,1000,982cc+l4,1438885,brake+&amp;+wheel+hub\" onclick=\"cataloglite.LinkIntercept_ToggleNavNode(&quot;__GIP__1__&quot;); return false;\" id=\"navhref[__GIP__1__]\">Brake &amp; Wheel Hub</a></td></tr></table></div></div><div class=\"nchildren ra-hide\" id=\"navchildren[__GIP__1__]\" ></div></div><div class=\"ranavnode\" id=\"nav[__GIP__2__]\"><input type=\"hidden\" autocomplete=\"off\" id=\"jsn[__GIP__2__]\" value=\"{&quot;groupindex&quot;:&quot;__GIP__2__&quot;,&quot;tab&quot;:&quot;catalog&quot;,&quot;idepth&quot;:1,&quot;make&quot;:&quot;ABARTH&quot;,&quot;year&quot;:&quot;1969&quot;,&quot;model&quot;:&quot;1000&quot;,&quot;carcode&quot;:&quot;1438885&quot;,&quot;engine&quot;:&quot;982cc L4&quot;,&quot;groupname&quot;:&quot;Cooling System&quot;,&quot;nodetype&quot;:&quot;groupname&quot;}\" /><input type=\"hidden\" autocomplete=\"off\" name=\"navnodeunique[catalog-abarth-1969-1000-1438885-cooling system]\" id=\"navnodeunique[catalog-abarth-1969-1000-1438885-cooling system]\" value=\"__GIP__2__\" /><div id=\"nav_o[__GIP__2__]\" class=\"ranavouter\"><div class=\"inner\"><table class=\"tbl\"  cellpadding=\"0\" cellspacing=\"0\"><tr><td class=\"niconspace nvlineicon\"></td><td class=\"niconspace ncollapsedicon\" id=\"navicon[__GIP__2__]\"><a href=\"/en/catalog/abarth,1969,1000,982cc+l4,1438885,cooling+system\" onclick=\"cataloglite.LinkIntercept_ToggleNavNode(&quot;__GIP__2__&quot;); return false;\" tabindex=\"-1\"><img src=\"/Images/1pxtransparent.png\" alt=\"Toggle\"></a></td><td class=\"nlabel\" ><a class=\"navlabellink nvoffset nnormal\" href=\"/en/catalog/abarth,1969,1000,982cc+l4,1438885,cooling+system\" onclick=\"cataloglite.LinkIntercept_ToggleNavNode(&quot;__GIP__2__&quot;); return false;\" id=\"navhref[__GIP__2__]\">Cooling System</a></td></tr></table></div></div><div class=\"nchildren ra-hide\" id=\"navchildren[__GIP__2__]\" ></div></div><div class=\"ranavnode\" id=\"nav[__GIP__3__]\"><input type=\"hidden\" autocomplete=\"off\" id=\"jsn[__GIP__3__]\" value=\"{&quot;groupindex&quot;:&quot;__GIP__3__&quot;,&quot;tab&quot;:&quot;catalog&quot;,&quot;idepth&quot;:1,&quot;make&quot;:&quot;ABARTH&quot;,&quot;year&quot;:&quot;1969&quot;,&quot;model&quot;:&quot;1000&quot;,&quot;carcode&quot;:&quot;1438885&quot;,&quot;engine&quot;:&quot;982cc L4&quot;,&quot;groupname&quot;:&quot;Electrical-Bulb &amp; Socket&quot;,&quot;nodetype&quot;:&quot;groupname&quot;}\" /><input type=\"hidden\" autocomplete=\"off\" name=\"navnodeunique[catalog-abarth-1969-1000-1438885-electrical-bulb &amp; socket]\" id=\"navnodeunique[catalog-abarth-1969-1000-1438885-electrical-bulb &amp; socket]\" value=\"__GIP__3__\" /><div id=\"nav_o[__GIP__3__]\" class=\"ranavouter\"><div class=\"inner\"><table class=\"tbl\"  cellpadding=\"0\" cellspacing=\"0\"><tr><td class=\"niconspace nvlineicon\"></td><td class=\"niconspace ncollapsedicon\" id=\"navicon[__GIP__3__]\"><a href=\"/en/catalog/abarth,1969,1000,982cc+l4,1438885,electrical-bulb+&amp;+socket\" onclick=\"cataloglite.LinkIntercept_ToggleNavNode(&quot;__GIP__3__&quot;); return false;\" tabindex=\"-1\"><img src=\"/Images/1pxtransparent.png\" alt=\"Toggle\"></a></td><td class=\"nlabel\" ><a class=\"navlabellink nvoffset nnormal\" href=\"/en/catalog/abarth,1969,1000,982cc+l4,1438885,electrical-bulb+&amp;+socket\" onclick=\"cataloglite.LinkIntercept_ToggleNavNode(&quot;__GIP__3__&quot;); return false;\" id=\"navhref[__GIP__3__]\">Electrical-Bulb &amp; Socket</a></td></tr></table></div></div><div class=\"nchildren ra-hide\" id=\"navchildren[__GIP__3__]\" ></div></div><div class=\"ranavnode\" id=\"nav[__GIP__4__]\"><input type=\"hidden\" autocomplete=\"off\" id=\"jsn[__GIP__4__]\" value=\"{&quot;groupindex&quot;:&quot;__GIP__4__&quot;,&quot;tab&quot;:&quot;catalog&quot;,&quot;idepth&quot;:1,&quot;make&quot;:&quot;ABARTH&quot;,&quot;year&quot;:&quot;1969&quot;,&quot;model&quot;:&quot;1000&quot;,&quot;carcode&quot;:&quot;1438885&quot;,&quot;engine&quot;:&quot;982cc L4&quot;,&quot;groupname&quot;:&quot;Electrical-Connector&quot;,&quot;nodetype&quot;:&quot;groupname&quot;}\" /><input type=\"hidden\" autocomplete=\"off\" name=\"navnodeunique[catalog-abarth-1969-1000-1438885-electrical-connector]\" id=\"navnodeunique[catalog-abarth-1969-1000-1438885-electrical-connector]\" value=\"__GIP__4__\" /><div id=\"nav_o[__GIP__4__]\" class=\"ranavouter\"><div class=\"inner\"><table class=\"tbl\"  cellpadding=\"0\" cellspacing=\"0\"><tr><td class=\"niconspace nvlineicon\"></td><td class=\"niconspace ncollapsedicon\" id=\"navicon[__GIP__4__]\"><a href=\"/en/catalog/abarth,1969,1000,982cc+l4,1438885,electrical-connector\" onclick=\"cataloglite.LinkIntercept_ToggleNavNode(&quot;__GIP__4__&quot;); return false;\" tabindex=\"-1\"><img src=\"/Images/1pxtransparent.png\" alt=\"Toggle\"></a></td><td class=\"nlabel\" ><a class=\"navlabellink nvoffset nnormal\" href=\"/en/catalog/abarth,1969,1000,982cc+l4,1438885,electrical-connector\" onclick=\"cataloglite.LinkIntercept_ToggleNavNode(&quot;__GIP__4__&quot;); return false;\" id=\"navhref[__GIP__4__]\">Electrical-Connector</a></td></tr></table></div></div><div class=\"nchildren ra-hide\" id=\"navchildren[__GIP__4__]\" ></div></div><div class=\"ranavnode\" id=\"nav[__GIP__5__]\"><input type=\"hidden\" autocomplete=\"off\" id=\"jsn[__GIP__5__]\" value=\"{&quot;groupindex&quot;:&quot;__GIP__5__&quot;,&quot;tab&quot;:&quot;catalog&quot;,&quot;idepth&quot;:1,&quot;make&quot;:&quot;ABARTH&quot;,&quot;year&quot;:&quot;1969&quot;,&quot;model&quot;:&quot;1000&quot;,&quot;carcode&quot;:&quot;1438885&quot;,&quot;engine&quot;:&quot;982cc L4&quot;,&quot;groupname&quot;:&quot;Engine&quot;,&quot;nodetype&quot;:&quot;groupname&quot;}\" /><input type=\"hidden\" autocomplete=\"off\" name=\"navnodeunique[catalog-abarth-1969-1000-1438885-engine]\" id=\"navnodeunique[catalog-abarth-1969-1000-1438885-engine]\" value=\"__GIP__5__\" /><div id=\"nav_o[__GIP__5__]\" class=\"ranavouter\"><div class=\"inner\"><table class=\"tbl\"  cellpadding=\"0\" cellspacing=\"0\"><tr><td class=\"niconspace nvlineicon\"></td><td class=\"niconspace ncollapsedicon\" id=\"navicon[__GIP__5__]\"><a href=\"/en/catalog/abarth,1969,1000,982cc+l4,1438885,engine\" onclick=\"cataloglite.LinkIntercept_ToggleNavNode(&quot;__GIP__5__&quot;); return false;\" tabindex=\"-1\"><img src=\"/Images/1pxtransparent.png\" alt=\"Toggle\"></a></td><td class=\"nlabel\" ><a class=\"navlabellink nvoffset nnormal\" href=\"/en/catalog/abarth,1969,1000,982cc+l4,1438885,engine\" onclick=\"cataloglite.LinkIntercept_ToggleNavNode(&quot;__GIP__5__&quot;); return false;\" id=\"navhref[__GIP__5__]\">Engine</a></td></tr></table></div></div><div class=\"nchildren ra-hide\" id=\"navchildren[__GIP__5__]\" ></div></div><div class=\"ranavnode\" id=\"nav[__GIP__6__]\"><input type=\"hidden\" autocomplete=\"off\" id=\"jsn[__GIP__6__]\" value=\"{&quot;groupindex&quot;:&quot;__GIP__6__&quot;,&quot;tab&quot;:&quot;catalog&quot;,&quot;idepth&quot;:1,&quot;make&quot;:&quot;ABARTH&quot;,&quot;year&quot;:&quot;1969&quot;,&quot;model&quot;:&quot;1000&quot;,&quot;carcode&quot;:&quot;1438885&quot;,&quot;engine&quot;:&quot;982cc L4&quot;,&quot;groupname&quot;:&quot;Heat &amp; Air Conditioning&quot;,&quot;nodetype&quot;:&quot;groupname&quot;}\" /><input type=\"hidden\" autocomplete=\"off\" name=\"navnodeunique[catalog-abarth-1969-1000-1438885-heat &amp; air conditioning]\" id=\"navnodeunique[catalog-abarth-1969-1000-1438885-heat &amp; air conditioning]\" value=\"__GIP__6__\" /><div id=\"nav_o[__GIP__6__]\" class=\"ranavouter\"><div class=\"inner\"><table class=\"tbl\"  cellpadding=\"0\" cellspacing=\"0\"><tr><td class=\"niconspace nvlineicon\"></td><td class=\"niconspace ncollapsedicon\" id=\"navicon[__GIP__6__]\"><a href=\"/en/catalog/abarth,1969,1000,982cc+l4,1438885,heat+&amp;+air+conditioning\" onclick=\"cataloglite.LinkIntercept_ToggleNavNode(&quot;__GIP__6__&quot;); return false;\" tabindex=\"-1\"><img src=\"/Images/1pxtransparent.png\" alt=\"Toggle\"></a></td><td class=\"nlabel\" ><a class=\"navlabellink nvoffset nnormal\" href=\"/en/catalog/abarth,1969,1000,982cc+l4,1438885,heat+&amp;+air+conditioning\" onclick=\"cataloglite.LinkIntercept_ToggleNavNode(&quot;__GIP__6__&quot;); return false;\" id=\"navhref[__GIP__6__]\">Heat &amp; Air Conditioning</a></td></tr></table></div></div><div class=\"nchildren ra-hide\" id=\"navchildren[__GIP__6__]\" ></div></div><div class=\"ranavnode\" id=\"nav[__GIP__7__]\"><input type=\"hidden\" autocomplete=\"off\" id=\"jsn[__GIP__7__]\" value=\"{&quot;groupindex&quot;:&quot;__GIP__7__&quot;,&quot;tab&quot;:&quot;catalog&quot;,&quot;idepth&quot;:1,&quot;make&quot;:&quot;ABARTH&quot;,&quot;year&quot;:&quot;1969&quot;,&quot;model&quot;:&quot;1000&quot;,&quot;carcode&quot;:&quot;1438885&quot;,&quot;engine&quot;:&quot;982cc L4&quot;,&quot;groupname&quot;:&quot;Ignition&quot;,&quot;nodetype&quot;:&quot;groupname&quot;}\" /><input type=\"hidden\" autocomplete=\"off\" name=\"navnodeunique[catalog-abarth-1969-1000-1438885-ignition]\" id=\"navnodeunique[catalog-abarth-1969-1000-1438885-ignition]\" value=\"__GIP__7__\" /><div id=\"nav_o[__GIP__7__]\" class=\"ranavouter\"><div class=\"inner\"><table class=\"tbl\"  cellpadding=\"0\" cellspacing=\"0\"><tr><td class=\"niconspace nvlineicon\"></td><td class=\"niconspace ncollapsedicon\" id=\"navicon[__GIP__7__]\"><a href=\"/en/catalog/abarth,1969,1000,982cc+l4,1438885,ignition\" onclick=\"cataloglite.LinkIntercept_ToggleNavNode(&quot;__GIP__7__&quot;); return false;\" tabindex=\"-1\"><img src=\"/Images/1pxtransparent.png\" alt=\"Toggle\"></a></td><td class=\"nlabel\" ><a class=\"navlabellink nvoffset nnormal\" href=\"/en/catalog/abarth,1969,1000,982cc+l4,1438885,ignition\" onclick=\"cataloglite.LinkIntercept_ToggleNavNode(&quot;__GIP__7__&quot;); return false;\" id=\"navhref[__GIP__7__]\">Ignition</a></td></tr></table></div></div><div class=\"nchildren ra-hide\" id=\"navchildren[__GIP__7__]\" ></div></div><div class=\"ranavnode\" id=\"nav[__GIP__8__]\"><input type=\"hidden\" autocomplete=\"off\" id=\"jsn[__GIP__8__]\" value=\"{&quot;groupindex&quot;:&quot;__GIP__8__&quot;,&quot;tab&quot;:&quot;catalog&quot;,&quot;idepth&quot;:1,&quot;make&quot;:&quot;ABARTH&quot;,&quot;year&quot;:&quot;1969&quot;,&quot;model&quot;:&quot;1000&quot;,&quot;carcode&quot;:&quot;1438885&quot;,&quot;engine&quot;:&quot;982cc L4&quot;,&quot;groupname&quot;:&quot;Wiper &amp; Washer&quot;,&quot;nodetype&quot;:&quot;groupname&quot;}\" /><input type=\"hidden\" autocomplete=\"off\" name=\"navnodeunique[catalog-abarth-1969-1000-1438885-wiper &amp; washer]\" id=\"navnodeunique[catalog-abarth-1969-1000-1438885-wiper &amp; washer]\" value=\"__GIP__8__\" /><div id=\"nav_o[__GIP__8__]\" class=\"ranavouter\"><div class=\"inner\"><table class=\"tbl\"  cellpadding=\"0\" cellspacing=\"0\"><tr><td class=\"niconspace nvlineicon\"></td><td class=\"niconspace ncollapsedicon\" id=\"navicon[__GIP__8__]\"><a href=\"/en/catalog/abarth,1969,1000,982cc+l4,1438885,wiper+&amp;+washer\" onclick=\"cataloglite.LinkIntercept_ToggleNavNode(&quot;__GIP__8__&quot;); return false;\" tabindex=\"-1\"><img src=\"/Images/1pxtransparent.png\" alt=\"Toggle\"></a></td><td class=\"nlabel\" ><a class=\"navlabellink nvoffset nnormal\" href=\"/en/catalog/abarth,1969,1000,982cc+l4,1438885,wiper+&amp;+washer\" onclick=\"cataloglite.LinkIntercept_ToggleNavNode(&quot;__GIP__8__&quot;); return false;\" id=\"navhref[__GIP__8__]\">Wiper &amp; Washer</a></td></tr></table></div></div><div class=\"nchildren ra-hide\" id=\"navchildren[__GIP__8__]\" ></div></div><div class=\"ranavnode\" id=\"nav[__GIP__9__]\"><input type=\"hidden\" autocomplete=\"off\" id=\"jsn[__GIP__9__]\" value=\"{&quot;groupindex&quot;:&quot;__GIP__9__&quot;,&quot;tab&quot;:&quot;catalog&quot;,&quot;idepth&quot;:0,&quot;nodetype&quot;:&quot;closeoutsbutton&quot;,&quot;not_expandable&quot;:true}\" /><div id=\"nav_o[__GIP__9__]\" class=\"ranavouter\"><div class=\"inner\"><table class=\"tbl\"  cellpadding=\"0\" cellspacing=\"0\"><tr><td class=\"niconspace nvlineicon\" id=\"navicon[__GIP__9__]\"></td><td class=\"nlabel\" ><span class=\"navlabellink nvoffset nnormal\"><a class=\"ra-btn closeouts-btn\" href=\"/closeouts/?carcode=1438885\" target=\"_blank\" >Show Closeouts Only</a></span></td></tr></table></div></div><div class=\"nchildren ra-hide\" id=\"navchildren[__GIP__9__]\" ></div></div>'},\n",
       " 'jsn': {'tab': 'catalog',\n",
       "  'make': 'ABARTH',\n",
       "  'year': '1969',\n",
       "  'model': '1000',\n",
       "  'engine': '982cc L4',\n",
       "  'carcode': '1438885',\n",
       "  'nodetype': 'carcode',\n",
       "  'idepth': 0},\n",
       " 'collected_javascript': '/**UQ:85DBA73C**/\\nwindow.top.parent.window[\"_nck\"] = \"8LVLUxTaILBT+tLxkg8+3Ag7\\\\/0bbOhvn7P3rkFbL809YNOHQDmNBznFtdYfbcEUriQ0mcmy\\\\/TcWfcbfHTjxSwndfe2chgzy88liHO2MoAcp7wW7lek5DxawTLSg\\\\/DpYUwwgKwrMfy31gNd6Y6avoSjJj8VoRGWFT9dyadZR6934=\";\\n'}"
      ]
     },
     "execution_count": 6,
     "metadata": {},
     "output_type": "execute_result"
    }
   ],
   "source": [
    "i = 0\n",
    "\n",
    "jsn = '{\"jsn\":{\"tab\":\"catalog\",\"make\":\"' + input_.loc[i, 'Make'] + '\",\"year\":\"' + input_.loc[i, 'Year'] + '\",\"model\":\"' + input_.loc[i, 'Model'] + '\",\"engine\":\"' + input_.loc[i, 'Engine'] + '\",\"carcode\":\"' + input_.loc[i, 'Car_Code'] + '\",\"nodetype\":\"carcode\"}}'\n",
    "\n",
    "payload = {'func': 'navnode_fetch',\n",
    "           'payload': jsn,\n",
    "           'api_json_request': '1'}\n",
    "\n",
    "resp = requests.post('https://www.rockauto.com/catalog/catalogapi.php',\n",
    "                     data=payload).text\n",
    "\n",
    "resp = json.loads(resp)\n",
    "\n",
    "resp"
   ]
  },
  {
   "cell_type": "code",
   "execution_count": 7,
   "id": "84f8e9ea",
   "metadata": {},
   "outputs": [],
   "source": [
    "from bs4 import BeautifulSoup"
   ]
  },
  {
   "cell_type": "code",
   "execution_count": 8,
   "id": "be9f27ab",
   "metadata": {},
   "outputs": [
    {
     "name": "stdout",
     "output_type": "stream",
     "text": [
      "<html>\n",
      " <body>\n",
      "  <div class=\"ranavnode\" id=\"nav[__GIP__1__]\">\n",
      "   <input autocomplete=\"off\" id=\"jsn[__GIP__1__]\" type=\"hidden\" value='{\"groupindex\":\"__GIP__1__\",\"tab\":\"catalog\",\"idepth\":1,\"make\":\"ABARTH\",\"year\":\"1969\",\"model\":\"1000\",\"carcode\":\"1438885\",\"engine\":\"982cc L4\",\"groupname\":\"Brake &amp; Wheel Hub\",\"nodetype\":\"groupname\"}'/>\n",
      "   <input autocomplete=\"off\" id=\"navnodeunique[catalog-abarth-1969-1000-1438885-brake &amp; wheel hub]\" name=\"navnodeunique[catalog-abarth-1969-1000-1438885-brake &amp; wheel hub]\" type=\"hidden\" value=\"__GIP__1__\"/>\n",
      "   <div class=\"ranavouter\" id=\"nav_o[__GIP__1__]\">\n",
      "    <div class=\"inner\">\n",
      "     <table cellpadding=\"0\" cellspacing=\"0\" class=\"tbl\">\n",
      "      <tr>\n",
      "       <td class=\"niconspace nvlineicon\">\n",
      "       </td>\n",
      "       <td class=\"niconspace ncollapsedicon\" id=\"navicon[__GIP__1__]\">\n",
      "        <a href=\"/en/catalog/abarth,1969,1000,982cc+l4,1438885,brake+&amp;+wheel+hub\" onclick='cataloglite.LinkIntercept_ToggleNavNode(\"__GIP__1__\"); return false;' tabindex=\"-1\">\n",
      "         <img alt=\"Toggle\" src=\"/Images/1pxtransparent.png\"/>\n",
      "        </a>\n",
      "       </td>\n",
      "       <td class=\"nlabel\">\n",
      "        <a class=\"navlabellink nvoffset nnormal\" href=\"/en/catalog/abarth,1969,1000,982cc+l4,1438885,brake+&amp;+wheel+hub\" id=\"navhref[__GIP__1__]\" onclick='cataloglite.LinkIntercept_ToggleNavNode(\"__GIP__1__\"); return false;'>\n",
      "         Brake &amp; Wheel Hub\n",
      "        </a>\n",
      "       </td>\n",
      "      </tr>\n",
      "     </table>\n",
      "    </div>\n",
      "   </div>\n",
      "   <div class=\"nchildren ra-hide\" id=\"navchildren[__GIP__1__]\">\n",
      "   </div>\n",
      "  </div>\n",
      "  <div class=\"ranavnode\" id=\"nav[__GIP__2__]\">\n",
      "   <input autocomplete=\"off\" id=\"jsn[__GIP__2__]\" type=\"hidden\" value='{\"groupindex\":\"__GIP__2__\",\"tab\":\"catalog\",\"idepth\":1,\"make\":\"ABARTH\",\"year\":\"1969\",\"model\":\"1000\",\"carcode\":\"1438885\",\"engine\":\"982cc L4\",\"groupname\":\"Cooling System\",\"nodetype\":\"groupname\"}'/>\n",
      "   <input autocomplete=\"off\" id=\"navnodeunique[catalog-abarth-1969-1000-1438885-cooling system]\" name=\"navnodeunique[catalog-abarth-1969-1000-1438885-cooling system]\" type=\"hidden\" value=\"__GIP__2__\"/>\n",
      "   <div class=\"ranavouter\" id=\"nav_o[__GIP__2__]\">\n",
      "    <div class=\"inner\">\n",
      "     <table cellpadding=\"0\" cellspacing=\"0\" class=\"tbl\">\n",
      "      <tr>\n",
      "       <td class=\"niconspace nvlineicon\">\n",
      "       </td>\n",
      "       <td class=\"niconspace ncollapsedicon\" id=\"navicon[__GIP__2__]\">\n",
      "        <a href=\"/en/catalog/abarth,1969,1000,982cc+l4,1438885,cooling+system\" onclick='cataloglite.LinkIntercept_ToggleNavNode(\"__GIP__2__\"); return false;' tabindex=\"-1\">\n",
      "         <img alt=\"Toggle\" src=\"/Images/1pxtransparent.png\"/>\n",
      "        </a>\n",
      "       </td>\n",
      "       <td class=\"nlabel\">\n",
      "        <a class=\"navlabellink nvoffset nnormal\" href=\"/en/catalog/abarth,1969,1000,982cc+l4,1438885,cooling+system\" id=\"navhref[__GIP__2__]\" onclick='cataloglite.LinkIntercept_ToggleNavNode(\"__GIP__2__\"); return false;'>\n",
      "         Cooling System\n",
      "        </a>\n",
      "       </td>\n",
      "      </tr>\n",
      "     </table>\n",
      "    </div>\n",
      "   </div>\n",
      "   <div class=\"nchildren ra-hide\" id=\"navchildren[__GIP__2__]\">\n",
      "   </div>\n",
      "  </div>\n",
      "  <div class=\"ranavnode\" id=\"nav[__GIP__3__]\">\n",
      "   <input autocomplete=\"off\" id=\"jsn[__GIP__3__]\" type=\"hidden\" value='{\"groupindex\":\"__GIP__3__\",\"tab\":\"catalog\",\"idepth\":1,\"make\":\"ABARTH\",\"year\":\"1969\",\"model\":\"1000\",\"carcode\":\"1438885\",\"engine\":\"982cc L4\",\"groupname\":\"Electrical-Bulb &amp; Socket\",\"nodetype\":\"groupname\"}'/>\n",
      "   <input autocomplete=\"off\" id=\"navnodeunique[catalog-abarth-1969-1000-1438885-electrical-bulb &amp; socket]\" name=\"navnodeunique[catalog-abarth-1969-1000-1438885-electrical-bulb &amp; socket]\" type=\"hidden\" value=\"__GIP__3__\"/>\n",
      "   <div class=\"ranavouter\" id=\"nav_o[__GIP__3__]\">\n",
      "    <div class=\"inner\">\n",
      "     <table cellpadding=\"0\" cellspacing=\"0\" class=\"tbl\">\n",
      "      <tr>\n",
      "       <td class=\"niconspace nvlineicon\">\n",
      "       </td>\n",
      "       <td class=\"niconspace ncollapsedicon\" id=\"navicon[__GIP__3__]\">\n",
      "        <a href=\"/en/catalog/abarth,1969,1000,982cc+l4,1438885,electrical-bulb+&amp;+socket\" onclick='cataloglite.LinkIntercept_ToggleNavNode(\"__GIP__3__\"); return false;' tabindex=\"-1\">\n",
      "         <img alt=\"Toggle\" src=\"/Images/1pxtransparent.png\"/>\n",
      "        </a>\n",
      "       </td>\n",
      "       <td class=\"nlabel\">\n",
      "        <a class=\"navlabellink nvoffset nnormal\" href=\"/en/catalog/abarth,1969,1000,982cc+l4,1438885,electrical-bulb+&amp;+socket\" id=\"navhref[__GIP__3__]\" onclick='cataloglite.LinkIntercept_ToggleNavNode(\"__GIP__3__\"); return false;'>\n",
      "         Electrical-Bulb &amp; Socket\n",
      "        </a>\n",
      "       </td>\n",
      "      </tr>\n",
      "     </table>\n",
      "    </div>\n",
      "   </div>\n",
      "   <div class=\"nchildren ra-hide\" id=\"navchildren[__GIP__3__]\">\n",
      "   </div>\n",
      "  </div>\n",
      "  <div class=\"ranavnode\" id=\"nav[__GIP__4__]\">\n",
      "   <input autocomplete=\"off\" id=\"jsn[__GIP__4__]\" type=\"hidden\" value='{\"groupindex\":\"__GIP__4__\",\"tab\":\"catalog\",\"idepth\":1,\"make\":\"ABARTH\",\"year\":\"1969\",\"model\":\"1000\",\"carcode\":\"1438885\",\"engine\":\"982cc L4\",\"groupname\":\"Electrical-Connector\",\"nodetype\":\"groupname\"}'/>\n",
      "   <input autocomplete=\"off\" id=\"navnodeunique[catalog-abarth-1969-1000-1438885-electrical-connector]\" name=\"navnodeunique[catalog-abarth-1969-1000-1438885-electrical-connector]\" type=\"hidden\" value=\"__GIP__4__\"/>\n",
      "   <div class=\"ranavouter\" id=\"nav_o[__GIP__4__]\">\n",
      "    <div class=\"inner\">\n",
      "     <table cellpadding=\"0\" cellspacing=\"0\" class=\"tbl\">\n",
      "      <tr>\n",
      "       <td class=\"niconspace nvlineicon\">\n",
      "       </td>\n",
      "       <td class=\"niconspace ncollapsedicon\" id=\"navicon[__GIP__4__]\">\n",
      "        <a href=\"/en/catalog/abarth,1969,1000,982cc+l4,1438885,electrical-connector\" onclick='cataloglite.LinkIntercept_ToggleNavNode(\"__GIP__4__\"); return false;' tabindex=\"-1\">\n",
      "         <img alt=\"Toggle\" src=\"/Images/1pxtransparent.png\"/>\n",
      "        </a>\n",
      "       </td>\n",
      "       <td class=\"nlabel\">\n",
      "        <a class=\"navlabellink nvoffset nnormal\" href=\"/en/catalog/abarth,1969,1000,982cc+l4,1438885,electrical-connector\" id=\"navhref[__GIP__4__]\" onclick='cataloglite.LinkIntercept_ToggleNavNode(\"__GIP__4__\"); return false;'>\n",
      "         Electrical-Connector\n",
      "        </a>\n",
      "       </td>\n",
      "      </tr>\n",
      "     </table>\n",
      "    </div>\n",
      "   </div>\n",
      "   <div class=\"nchildren ra-hide\" id=\"navchildren[__GIP__4__]\">\n",
      "   </div>\n",
      "  </div>\n",
      "  <div class=\"ranavnode\" id=\"nav[__GIP__5__]\">\n",
      "   <input autocomplete=\"off\" id=\"jsn[__GIP__5__]\" type=\"hidden\" value='{\"groupindex\":\"__GIP__5__\",\"tab\":\"catalog\",\"idepth\":1,\"make\":\"ABARTH\",\"year\":\"1969\",\"model\":\"1000\",\"carcode\":\"1438885\",\"engine\":\"982cc L4\",\"groupname\":\"Engine\",\"nodetype\":\"groupname\"}'/>\n",
      "   <input autocomplete=\"off\" id=\"navnodeunique[catalog-abarth-1969-1000-1438885-engine]\" name=\"navnodeunique[catalog-abarth-1969-1000-1438885-engine]\" type=\"hidden\" value=\"__GIP__5__\"/>\n",
      "   <div class=\"ranavouter\" id=\"nav_o[__GIP__5__]\">\n",
      "    <div class=\"inner\">\n",
      "     <table cellpadding=\"0\" cellspacing=\"0\" class=\"tbl\">\n",
      "      <tr>\n",
      "       <td class=\"niconspace nvlineicon\">\n",
      "       </td>\n",
      "       <td class=\"niconspace ncollapsedicon\" id=\"navicon[__GIP__5__]\">\n",
      "        <a href=\"/en/catalog/abarth,1969,1000,982cc+l4,1438885,engine\" onclick='cataloglite.LinkIntercept_ToggleNavNode(\"__GIP__5__\"); return false;' tabindex=\"-1\">\n",
      "         <img alt=\"Toggle\" src=\"/Images/1pxtransparent.png\"/>\n",
      "        </a>\n",
      "       </td>\n",
      "       <td class=\"nlabel\">\n",
      "        <a class=\"navlabellink nvoffset nnormal\" href=\"/en/catalog/abarth,1969,1000,982cc+l4,1438885,engine\" id=\"navhref[__GIP__5__]\" onclick='cataloglite.LinkIntercept_ToggleNavNode(\"__GIP__5__\"); return false;'>\n",
      "         Engine\n",
      "        </a>\n",
      "       </td>\n",
      "      </tr>\n",
      "     </table>\n",
      "    </div>\n",
      "   </div>\n",
      "   <div class=\"nchildren ra-hide\" id=\"navchildren[__GIP__5__]\">\n",
      "   </div>\n",
      "  </div>\n",
      "  <div class=\"ranavnode\" id=\"nav[__GIP__6__]\">\n",
      "   <input autocomplete=\"off\" id=\"jsn[__GIP__6__]\" type=\"hidden\" value='{\"groupindex\":\"__GIP__6__\",\"tab\":\"catalog\",\"idepth\":1,\"make\":\"ABARTH\",\"year\":\"1969\",\"model\":\"1000\",\"carcode\":\"1438885\",\"engine\":\"982cc L4\",\"groupname\":\"Heat &amp; Air Conditioning\",\"nodetype\":\"groupname\"}'/>\n",
      "   <input autocomplete=\"off\" id=\"navnodeunique[catalog-abarth-1969-1000-1438885-heat &amp; air conditioning]\" name=\"navnodeunique[catalog-abarth-1969-1000-1438885-heat &amp; air conditioning]\" type=\"hidden\" value=\"__GIP__6__\"/>\n",
      "   <div class=\"ranavouter\" id=\"nav_o[__GIP__6__]\">\n",
      "    <div class=\"inner\">\n",
      "     <table cellpadding=\"0\" cellspacing=\"0\" class=\"tbl\">\n",
      "      <tr>\n",
      "       <td class=\"niconspace nvlineicon\">\n",
      "       </td>\n",
      "       <td class=\"niconspace ncollapsedicon\" id=\"navicon[__GIP__6__]\">\n",
      "        <a href=\"/en/catalog/abarth,1969,1000,982cc+l4,1438885,heat+&amp;+air+conditioning\" onclick='cataloglite.LinkIntercept_ToggleNavNode(\"__GIP__6__\"); return false;' tabindex=\"-1\">\n",
      "         <img alt=\"Toggle\" src=\"/Images/1pxtransparent.png\"/>\n",
      "        </a>\n",
      "       </td>\n",
      "       <td class=\"nlabel\">\n",
      "        <a class=\"navlabellink nvoffset nnormal\" href=\"/en/catalog/abarth,1969,1000,982cc+l4,1438885,heat+&amp;+air+conditioning\" id=\"navhref[__GIP__6__]\" onclick='cataloglite.LinkIntercept_ToggleNavNode(\"__GIP__6__\"); return false;'>\n",
      "         Heat &amp; Air Conditioning\n",
      "        </a>\n",
      "       </td>\n",
      "      </tr>\n",
      "     </table>\n",
      "    </div>\n",
      "   </div>\n",
      "   <div class=\"nchildren ra-hide\" id=\"navchildren[__GIP__6__]\">\n",
      "   </div>\n",
      "  </div>\n",
      "  <div class=\"ranavnode\" id=\"nav[__GIP__7__]\">\n",
      "   <input autocomplete=\"off\" id=\"jsn[__GIP__7__]\" type=\"hidden\" value='{\"groupindex\":\"__GIP__7__\",\"tab\":\"catalog\",\"idepth\":1,\"make\":\"ABARTH\",\"year\":\"1969\",\"model\":\"1000\",\"carcode\":\"1438885\",\"engine\":\"982cc L4\",\"groupname\":\"Ignition\",\"nodetype\":\"groupname\"}'/>\n",
      "   <input autocomplete=\"off\" id=\"navnodeunique[catalog-abarth-1969-1000-1438885-ignition]\" name=\"navnodeunique[catalog-abarth-1969-1000-1438885-ignition]\" type=\"hidden\" value=\"__GIP__7__\"/>\n",
      "   <div class=\"ranavouter\" id=\"nav_o[__GIP__7__]\">\n",
      "    <div class=\"inner\">\n",
      "     <table cellpadding=\"0\" cellspacing=\"0\" class=\"tbl\">\n",
      "      <tr>\n",
      "       <td class=\"niconspace nvlineicon\">\n",
      "       </td>\n",
      "       <td class=\"niconspace ncollapsedicon\" id=\"navicon[__GIP__7__]\">\n",
      "        <a href=\"/en/catalog/abarth,1969,1000,982cc+l4,1438885,ignition\" onclick='cataloglite.LinkIntercept_ToggleNavNode(\"__GIP__7__\"); return false;' tabindex=\"-1\">\n",
      "         <img alt=\"Toggle\" src=\"/Images/1pxtransparent.png\"/>\n",
      "        </a>\n",
      "       </td>\n",
      "       <td class=\"nlabel\">\n",
      "        <a class=\"navlabellink nvoffset nnormal\" href=\"/en/catalog/abarth,1969,1000,982cc+l4,1438885,ignition\" id=\"navhref[__GIP__7__]\" onclick='cataloglite.LinkIntercept_ToggleNavNode(\"__GIP__7__\"); return false;'>\n",
      "         Ignition\n",
      "        </a>\n",
      "       </td>\n",
      "      </tr>\n",
      "     </table>\n",
      "    </div>\n",
      "   </div>\n",
      "   <div class=\"nchildren ra-hide\" id=\"navchildren[__GIP__7__]\">\n",
      "   </div>\n",
      "  </div>\n",
      "  <div class=\"ranavnode\" id=\"nav[__GIP__8__]\">\n",
      "   <input autocomplete=\"off\" id=\"jsn[__GIP__8__]\" type=\"hidden\" value='{\"groupindex\":\"__GIP__8__\",\"tab\":\"catalog\",\"idepth\":1,\"make\":\"ABARTH\",\"year\":\"1969\",\"model\":\"1000\",\"carcode\":\"1438885\",\"engine\":\"982cc L4\",\"groupname\":\"Wiper &amp; Washer\",\"nodetype\":\"groupname\"}'/>\n",
      "   <input autocomplete=\"off\" id=\"navnodeunique[catalog-abarth-1969-1000-1438885-wiper &amp; washer]\" name=\"navnodeunique[catalog-abarth-1969-1000-1438885-wiper &amp; washer]\" type=\"hidden\" value=\"__GIP__8__\"/>\n",
      "   <div class=\"ranavouter\" id=\"nav_o[__GIP__8__]\">\n",
      "    <div class=\"inner\">\n",
      "     <table cellpadding=\"0\" cellspacing=\"0\" class=\"tbl\">\n",
      "      <tr>\n",
      "       <td class=\"niconspace nvlineicon\">\n",
      "       </td>\n",
      "       <td class=\"niconspace ncollapsedicon\" id=\"navicon[__GIP__8__]\">\n",
      "        <a href=\"/en/catalog/abarth,1969,1000,982cc+l4,1438885,wiper+&amp;+washer\" onclick='cataloglite.LinkIntercept_ToggleNavNode(\"__GIP__8__\"); return false;' tabindex=\"-1\">\n",
      "         <img alt=\"Toggle\" src=\"/Images/1pxtransparent.png\"/>\n",
      "        </a>\n",
      "       </td>\n",
      "       <td class=\"nlabel\">\n",
      "        <a class=\"navlabellink nvoffset nnormal\" href=\"/en/catalog/abarth,1969,1000,982cc+l4,1438885,wiper+&amp;+washer\" id=\"navhref[__GIP__8__]\" onclick='cataloglite.LinkIntercept_ToggleNavNode(\"__GIP__8__\"); return false;'>\n",
      "         Wiper &amp; Washer\n",
      "        </a>\n",
      "       </td>\n",
      "      </tr>\n",
      "     </table>\n",
      "    </div>\n",
      "   </div>\n",
      "   <div class=\"nchildren ra-hide\" id=\"navchildren[__GIP__8__]\">\n",
      "   </div>\n",
      "  </div>\n",
      "  <div class=\"ranavnode\" id=\"nav[__GIP__9__]\">\n",
      "   <input autocomplete=\"off\" id=\"jsn[__GIP__9__]\" type=\"hidden\" value='{\"groupindex\":\"__GIP__9__\",\"tab\":\"catalog\",\"idepth\":0,\"nodetype\":\"closeoutsbutton\",\"not_expandable\":true}'/>\n",
      "   <div class=\"ranavouter\" id=\"nav_o[__GIP__9__]\">\n",
      "    <div class=\"inner\">\n",
      "     <table cellpadding=\"0\" cellspacing=\"0\" class=\"tbl\">\n",
      "      <tr>\n",
      "       <td class=\"niconspace nvlineicon\" id=\"navicon[__GIP__9__]\">\n",
      "       </td>\n",
      "       <td class=\"nlabel\">\n",
      "        <span class=\"navlabellink nvoffset nnormal\">\n",
      "         <a class=\"ra-btn closeouts-btn\" href=\"/closeouts/?carcode=1438885\" target=\"_blank\">\n",
      "          Show Closeouts Only\n",
      "         </a>\n",
      "        </span>\n",
      "       </td>\n",
      "      </tr>\n",
      "     </table>\n",
      "    </div>\n",
      "   </div>\n",
      "   <div class=\"nchildren ra-hide\" id=\"navchildren[__GIP__9__]\">\n",
      "   </div>\n",
      "  </div>\n",
      " </body>\n",
      "</html>\n",
      "\n"
     ]
    }
   ],
   "source": [
    "html = resp['html_fill_sections']['navchildren[]']\n",
    "\n",
    "soup = BeautifulSoup(html, 'lxml')\n",
    "\n",
    "with open('./category.html', 'w', encoding='UTF-8') as file:\n",
    "    file.write(str(soup))\n",
    "\n",
    "print(soup.prettify())"
   ]
  },
  {
   "cell_type": "code",
   "execution_count": 9,
   "id": "6d5642d6",
   "metadata": {},
   "outputs": [],
   "source": [
    "from lxml import etree"
   ]
  },
  {
   "cell_type": "code",
   "execution_count": null,
   "id": "d3a76f74",
   "metadata": {},
   "outputs": [],
   "source": [
    "html = etree.HTML(str(soup))\n",
    "\n",
    "security_code = html.xpath('//div[@class=\"center\"]/div')\n",
    "\n",
    "security_code"
   ]
  },
  {
   "cell_type": "code",
   "execution_count": null,
   "id": "f475f3c7",
   "metadata": {},
   "outputs": [],
   "source": [
    "len(security_code) != 0 and 'security code' in security_code[0].text"
   ]
  },
  {
   "cell_type": "code",
   "execution_count": 10,
   "id": "6178eb0b",
   "metadata": {},
   "outputs": [
    {
     "data": {
      "text/plain": [
       "['Brake & Wheel Hub',\n",
       " 'Cooling System',\n",
       " 'Electrical-Bulb & Socket',\n",
       " 'Electrical-Connector',\n",
       " 'Engine',\n",
       " 'Heat & Air Conditioning',\n",
       " 'Ignition',\n",
       " 'Wiper & Washer']"
      ]
     },
     "execution_count": 10,
     "metadata": {},
     "output_type": "execute_result"
    }
   ],
   "source": [
    "list_category = [category.strip() for category in html.xpath('//td[@class=\"nlabel\"]/a/text()')]\n",
    "\n",
    "list_category"
   ]
  },
  {
   "cell_type": "code",
   "execution_count": 11,
   "id": "acf9d803",
   "metadata": {},
   "outputs": [
    {
     "data": {
      "text/plain": [
       "['https://www.rockauto.com/en/catalog/abarth,1969,1000,982cc+l4,1438885,brake+&+wheel+hub',\n",
       " 'https://www.rockauto.com/en/catalog/abarth,1969,1000,982cc+l4,1438885,cooling+system',\n",
       " 'https://www.rockauto.com/en/catalog/abarth,1969,1000,982cc+l4,1438885,electrical-bulb+&+socket',\n",
       " 'https://www.rockauto.com/en/catalog/abarth,1969,1000,982cc+l4,1438885,electrical-connector',\n",
       " 'https://www.rockauto.com/en/catalog/abarth,1969,1000,982cc+l4,1438885,engine',\n",
       " 'https://www.rockauto.com/en/catalog/abarth,1969,1000,982cc+l4,1438885,heat+&+air+conditioning',\n",
       " 'https://www.rockauto.com/en/catalog/abarth,1969,1000,982cc+l4,1438885,ignition',\n",
       " 'https://www.rockauto.com/en/catalog/abarth,1969,1000,982cc+l4,1438885,wiper+&+washer']"
      ]
     },
     "execution_count": 11,
     "metadata": {},
     "output_type": "execute_result"
    }
   ],
   "source": [
    "list_url = ['https://www.rockauto.com'+url.strip() for url in html.xpath('//td[@class=\"niconspace ncollapsedicon\"]/a/@href')]\n",
    "\n",
    "list_url"
   ]
  },
  {
   "cell_type": "code",
   "execution_count": null,
   "id": "4823b642",
   "metadata": {},
   "outputs": [],
   "source": [
    "df_temp = pd.DataFrame({'Tab_Label': input_.loc[i, 'Tab_Label'],\n",
    "                        'No.': int(input_.loc[i, 'No.']),\n",
    "                        'Make': input_.loc[i, 'Make'],\n",
    "                        'Year': input_.loc[i, 'Year'],\n",
    "                        'Model': input_.loc[i, 'Model'],\n",
    "                        'Engine': input_.loc[i, 'Engine'],\n",
    "                        'Car_Code': input_.loc[i, 'Car_Code'],\n",
    "                        'Category': list_category,\n",
    "                        'Url': list_url})\n",
    "\n",
    "output_correct = pd.concat([output_correct, df_temp], ignore_index=True).fillna('')\n",
    "\n",
    "output_correct"
   ]
  },
  {
   "cell_type": "code",
   "execution_count": 12,
   "id": "1f53e536",
   "metadata": {},
   "outputs": [
    {
     "name": "stdout",
     "output_type": "stream",
     "text": [
      "ok\n"
     ]
    }
   ],
   "source": [
    "crawler_status = 'ok'\n",
    "\n",
    "print(crawler_status)"
   ]
  },
  {
   "cell_type": "code",
   "execution_count": 13,
   "id": "9b8bdb6c",
   "metadata": {
    "scrolled": true
   },
   "outputs": [
    {
     "name": "stdout",
     "output_type": "stream",
     "text": [
      "8 0\n"
     ]
    }
   ],
   "source": [
    "if crawler_status != 'ok':\n",
    "    df_temp = pd.DataFrame([{'Tab_Label': input_.loc[i, 'Tab_Label'],\n",
    "                             'No.': int(input_.loc[i, 'No.']),\n",
    "                             'Make': input_.loc[i, 'Make'],\n",
    "                             'Year': input_.loc[i, 'Year'],\n",
    "                             'Model': input_.loc[i, 'Model'],\n",
    "                             'Engine': input_.loc[i, 'Engine'],\n",
    "                             'Car_Code': input_.loc[i, 'Car_Code'],\n",
    "                             'Url': input_.loc[i, 'Url']}])\n",
    "    \n",
    "    output_error = pd.concat([output_error, df_temp], ignore_index=True).fillna('')\n",
    "    \n",
    "output_error"
   ]
  },
  {
   "cell_type": "code",
   "execution_count": null,
   "id": "22d4f3db",
   "metadata": {},
   "outputs": [],
   "source": []
  }
 ],
 "metadata": {
  "kernelspec": {
   "display_name": "Python 3 (ipykernel)",
   "language": "python",
   "name": "python3"
  },
  "language_info": {
   "codemirror_mode": {
    "name": "ipython",
    "version": 3
   },
   "file_extension": ".py",
   "mimetype": "text/x-python",
   "name": "python",
   "nbconvert_exporter": "python",
   "pygments_lexer": "ipython3",
   "version": "3.11.3"
  }
 },
 "nbformat": 4,
 "nbformat_minor": 5
}
