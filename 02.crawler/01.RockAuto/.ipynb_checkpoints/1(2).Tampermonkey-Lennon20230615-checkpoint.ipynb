{
 "cells": [
  {
   "cell_type": "code",
   "execution_count": 1,
   "id": "e7078f24",
   "metadata": {},
   "outputs": [
    {
     "data": {
      "text/html": [
       "<div>\n",
       "<style scoped>\n",
       "    .dataframe tbody tr th:only-of-type {\n",
       "        vertical-align: middle;\n",
       "    }\n",
       "\n",
       "    .dataframe tbody tr th {\n",
       "        vertical-align: top;\n",
       "    }\n",
       "\n",
       "    .dataframe thead th {\n",
       "        text-align: right;\n",
       "    }\n",
       "</style>\n",
       "<table border=\"1\" class=\"dataframe\">\n",
       "  <thead>\n",
       "    <tr style=\"text-align: right;\">\n",
       "      <th></th>\n",
       "      <th>Part_Number</th>\n",
       "      <th>Url</th>\n",
       "    </tr>\n",
       "  </thead>\n",
       "  <tbody>\n",
       "  </tbody>\n",
       "</table>\n",
       "</div>"
      ],
      "text/plain": [
       "Empty DataFrame\n",
       "Columns: [Part_Number, Url]\n",
       "Index: []"
      ]
     },
     "execution_count": 1,
     "metadata": {},
     "output_type": "execute_result"
    }
   ],
   "source": [
    "import pandas as pd\n",
    "\n",
    "df = pd.DataFrame(columns=['Part_Number', 'Url'])\n",
    "\n",
    "df"
   ]
  },
  {
   "cell_type": "code",
   "execution_count": 2,
   "id": "a593ef33",
   "metadata": {},
   "outputs": [],
   "source": [
    "import json"
   ]
  },
  {
   "cell_type": "code",
   "execution_count": 3,
   "id": "8d3cdb2b",
   "metadata": {},
   "outputs": [
    {
     "data": {
      "text/html": [
       "<div>\n",
       "<style scoped>\n",
       "    .dataframe tbody tr th:only-of-type {\n",
       "        vertical-align: middle;\n",
       "    }\n",
       "\n",
       "    .dataframe tbody tr th {\n",
       "        vertical-align: top;\n",
       "    }\n",
       "\n",
       "    .dataframe thead th {\n",
       "        text-align: right;\n",
       "    }\n",
       "</style>\n",
       "<table border=\"1\" class=\"dataframe\">\n",
       "  <thead>\n",
       "    <tr style=\"text-align: right;\">\n",
       "      <th></th>\n",
       "      <th>Part_Number</th>\n",
       "      <th>Url</th>\n",
       "    </tr>\n",
       "  </thead>\n",
       "  <tbody>\n",
       "    <tr>\n",
       "      <th>0</th>\n",
       "      <td>ALS100</td>\n",
       "      <td>https://www.rockauto.com/en/parts/standard+mot...</td>\n",
       "    </tr>\n",
       "    <tr>\n",
       "      <th>1</th>\n",
       "      <td>ALS1807</td>\n",
       "      <td>https://www.rockauto.com/en/parts/standard+mot...</td>\n",
       "    </tr>\n",
       "    <tr>\n",
       "      <th>2</th>\n",
       "      <td>PC513</td>\n",
       "      <td>https://www.rockauto.com/en/parts/standard+mot...</td>\n",
       "    </tr>\n",
       "    <tr>\n",
       "      <th>3</th>\n",
       "      <td>PC514</td>\n",
       "      <td>https://www.rockauto.com/en/parts/standard+mot...</td>\n",
       "    </tr>\n",
       "    <tr>\n",
       "      <th>4</th>\n",
       "      <td>SC10</td>\n",
       "      <td>https://www.rockauto.com/en/parts/standard+mot...</td>\n",
       "    </tr>\n",
       "    <tr>\n",
       "      <th>...</th>\n",
       "      <td>...</td>\n",
       "      <td>...</td>\n",
       "    </tr>\n",
       "    <tr>\n",
       "      <th>477</th>\n",
       "      <td>SC90T</td>\n",
       "      <td>https://www.rockauto.com/en/parts/standard+mot...</td>\n",
       "    </tr>\n",
       "    <tr>\n",
       "      <th>478</th>\n",
       "      <td>SC96</td>\n",
       "      <td>https://www.rockauto.com/en/parts/standard+mot...</td>\n",
       "    </tr>\n",
       "    <tr>\n",
       "      <th>479</th>\n",
       "      <td>SC97</td>\n",
       "      <td>https://www.rockauto.com/en/parts/standard+mot...</td>\n",
       "    </tr>\n",
       "    <tr>\n",
       "      <th>480</th>\n",
       "      <td>SC98</td>\n",
       "      <td>https://www.rockauto.com/en/parts/standard+mot...</td>\n",
       "    </tr>\n",
       "    <tr>\n",
       "      <th>481</th>\n",
       "      <td>SC99</td>\n",
       "      <td>https://www.rockauto.com/en/parts/standard+mot...</td>\n",
       "    </tr>\n",
       "  </tbody>\n",
       "</table>\n",
       "<p>482 rows × 2 columns</p>\n",
       "</div>"
      ],
      "text/plain": [
       "    Part_Number                                                Url\n",
       "0        ALS100  https://www.rockauto.com/en/parts/standard+mot...\n",
       "1       ALS1807  https://www.rockauto.com/en/parts/standard+mot...\n",
       "2         PC513  https://www.rockauto.com/en/parts/standard+mot...\n",
       "3         PC514  https://www.rockauto.com/en/parts/standard+mot...\n",
       "4          SC10  https://www.rockauto.com/en/parts/standard+mot...\n",
       "..          ...                                                ...\n",
       "477       SC90T  https://www.rockauto.com/en/parts/standard+mot...\n",
       "478        SC96  https://www.rockauto.com/en/parts/standard+mot...\n",
       "479        SC97  https://www.rockauto.com/en/parts/standard+mot...\n",
       "480        SC98  https://www.rockauto.com/en/parts/standard+mot...\n",
       "481        SC99  https://www.rockauto.com/en/parts/standard+mot...\n",
       "\n",
       "[482 rows x 2 columns]"
      ]
     },
     "execution_count": 3,
     "metadata": {},
     "output_type": "execute_result"
    }
   ],
   "source": [
    "with open('./menu.txt', 'r') as f:\n",
    "    list_part = f.read()[1:-1].split('},{')\n",
    "    for i in range(len(list_part)):\n",
    "        if i == 0:\n",
    "            part = json.loads(list_part[i] + '}')\n",
    "        elif i == len(list_part) - 1:\n",
    "            part = json.loads('{' + list_part[i])\n",
    "        else:\n",
    "            part = json.loads('{' + list_part[i] + '}')\n",
    "        \n",
    "        df_temp = pd.DataFrame([{'Part_Number': part['Part_Number'],\n",
    "                                 'Url': part['Url']}])\n",
    "        df = pd.concat([df, df_temp], ignore_index=True)\n",
    "        \n",
    "df.to_excel('./menu.xlsx', index=False)\n",
    "\n",
    "df"
   ]
  },
  {
   "cell_type": "code",
   "execution_count": null,
   "id": "e8e93640",
   "metadata": {},
   "outputs": [],
   "source": []
  }
 ],
 "metadata": {
  "kernelspec": {
   "display_name": "Python 3 (ipykernel)",
   "language": "python",
   "name": "python3"
  },
  "language_info": {
   "codemirror_mode": {
    "name": "ipython",
    "version": 3
   },
   "file_extension": ".py",
   "mimetype": "text/x-python",
   "name": "python",
   "nbconvert_exporter": "python",
   "pygments_lexer": "ipython3",
   "version": "3.11.3"
  }
 },
 "nbformat": 4,
 "nbformat_minor": 5
}
