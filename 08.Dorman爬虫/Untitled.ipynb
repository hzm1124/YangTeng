{
 "cells": [
  {
   "cell_type": "code",
   "execution_count": 1,
   "id": "cd11a4c7",
   "metadata": {},
   "outputs": [],
   "source": [
    "from chaojiying import Chaojiying_Client\n",
    "from selenium import webdriver\n",
    "from selenium.webdriver.common.by import By\n",
    "import time"
   ]
  },
  {
   "cell_type": "code",
   "execution_count": 2,
   "id": "2c3c23b0",
   "metadata": {},
   "outputs": [],
   "source": [
    "chrome_options = webdriver.ChromeOptions()\n",
    "#chrome_options.add_argument('--incognito')\n",
    "chrome_options.add_argument('--disable-blink-features=AutomationControlled')\n",
    "chrome_options.add_argument('user-agent=Mozilla/5.0 (Windows NT 10.0; Win64; x64) AppleWebKit/537.36 (KHTML, like Gecko) Chrome/109.0.0.0 Safari/537.36')\n",
    "browser = webdriver.Chrome(options=chrome_options)"
   ]
  },
  {
   "cell_type": "code",
   "execution_count": 3,
   "id": "7c0c234a",
   "metadata": {},
   "outputs": [],
   "source": [
    "browser.get('https://www.dormanproducts.com/gsearch.aspx?type=keyword&origin=keyword&q=Turbocharger%2520Oil%2520Line&start=0&num=100')"
   ]
  },
  {
   "cell_type": "code",
   "execution_count": 4,
   "id": "5e7193d1",
   "metadata": {},
   "outputs": [],
   "source": [
    "iframe = browser.find_element(by=By.XPATH, value='//*[@title=\"包含 hCaptcha 安全挑战复选框的小部件\"]')\n",
    "browser.switch_to.frame(iframe)\n",
    "browser.find_element(by=By.XPATH, value='//*[@id=\"checkbox\"]').click()\n",
    "browser.switch_to.parent_frame()"
   ]
  },
  {
   "cell_type": "code",
   "execution_count": 5,
   "id": "4a792c3a",
   "metadata": {},
   "outputs": [
    {
     "name": "stdout",
     "output_type": "stream",
     "text": [
      "<chaojiying.Chaojiying_Client object at 0x00000287FD41DDC0>\n",
      "{'err_no': 0, 'err_str': 'OK', 'pic_id': '2208016211088290008', 'pic_str': '350,454|58,459|333,322', 'md5': '473c516ced806144b8248f2a5b984867'}\n",
      "['350,454', '58,459', '333,322']\n"
     ]
    }
   ],
   "source": [
    "time.sleep(5)\n",
    "img = browser.find_element(by=By.XPATH, value='//*[@title=\"hCaptcha挑战的主要内容\"]')\n",
    "cjy = Chaojiying_Client('1210882202', 'iPadmini6!', '945934')\n",
    "print(cjy)\n",
    "dict_img = cjy.PostPic(img.screenshot_as_png, 9009)\n",
    "print(dict_img)\n",
    "list_position = dict_img['pic_str'].split('|')\n",
    "print(list_position)"
   ]
  },
  {
   "cell_type": "code",
   "execution_count": 7,
   "id": "9a23ca99",
   "metadata": {},
   "outputs": [
    {
     "name": "stdout",
     "output_type": "stream",
     "text": [
      "160 164\n",
      "-132 169\n",
      "143 32\n"
     ]
    }
   ],
   "source": [
    "for position in list_position:\n",
    "    position_x, position_y = position.split(',')\n",
    "    position_x = round(int(position_x) - 200)\n",
    "    position_y = round(int(position_y) - 300)\n",
    "    print(position_x, position_y)\n",
    "    \n",
    "    #pg.moveTo((position_x, position_y))\n",
    "    #pg.click()\n",
    "    time.sleep(1.5)\n",
    "    webdriver.common.action_chains.ActionChains(browser).move_to_element_with_offset(img, position_x, position_y).click().perform()"
   ]
  },
  {
   "cell_type": "code",
   "execution_count": null,
   "id": "8506bf88",
   "metadata": {},
   "outputs": [],
   "source": []
  }
 ],
 "metadata": {
  "kernelspec": {
   "display_name": "Python 3 (ipykernel)",
   "language": "python",
   "name": "python3"
  },
  "language_info": {
   "codemirror_mode": {
    "name": "ipython",
    "version": 3
   },
   "file_extension": ".py",
   "mimetype": "text/x-python",
   "name": "python",
   "nbconvert_exporter": "python",
   "pygments_lexer": "ipython3",
   "version": "3.9.12"
  }
 },
 "nbformat": 4,
 "nbformat_minor": 5
}
