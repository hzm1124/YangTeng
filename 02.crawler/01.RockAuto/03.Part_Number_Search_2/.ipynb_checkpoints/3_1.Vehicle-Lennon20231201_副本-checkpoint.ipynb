{
 "cells": [
  {
   "cell_type": "code",
   "execution_count": 1,
   "id": "03f4a83e",
   "metadata": {},
   "outputs": [],
   "source": [
    "import pandas as pd"
   ]
  },
  {
   "cell_type": "code",
   "execution_count": 2,
   "id": "b4ca5c7e",
   "metadata": {},
   "outputs": [
    {
     "name": "stdout",
     "output_type": "stream",
     "text": [
      "总数量：1\n"
     ]
    },
    {
     "data": {
      "text/plain": [
       "['7088216']"
      ]
     },
     "execution_count": 2,
     "metadata": {},
     "output_type": "execute_result"
    }
   ],
   "source": [
    "df = pd.read_excel('./kit.xlsx',\n",
    "                   header=0,\n",
    "                   dtype=str).fillna('')\n",
    "\n",
    "list_type_code = df['Type_Code'].tolist()\n",
    "list_part_key = df['Part_Key'].tolist()\n",
    "\n",
    "print('总数量：' + str(len(list_part_key)))\n",
    "list_part_key"
   ]
  },
  {
   "cell_type": "code",
   "execution_count": 3,
   "id": "6c83b34a",
   "metadata": {},
   "outputs": [
    {
     "data": {
      "text/html": [
       "<div>\n",
       "<style scoped>\n",
       "    .dataframe tbody tr th:only-of-type {\n",
       "        vertical-align: middle;\n",
       "    }\n",
       "\n",
       "    .dataframe tbody tr th {\n",
       "        vertical-align: top;\n",
       "    }\n",
       "\n",
       "    .dataframe thead th {\n",
       "        text-align: right;\n",
       "    }\n",
       "</style>\n",
       "<table border=\"1\" class=\"dataframe\">\n",
       "  <thead>\n",
       "    <tr style=\"text-align: right;\">\n",
       "      <th></th>\n",
       "    </tr>\n",
       "  </thead>\n",
       "  <tbody>\n",
       "  </tbody>\n",
       "</table>\n",
       "</div>"
      ],
      "text/plain": [
       "Empty DataFrame\n",
       "Columns: []\n",
       "Index: []"
      ]
     },
     "execution_count": 3,
     "metadata": {},
     "output_type": "execute_result"
    }
   ],
   "source": [
    "df = pd.DataFrame()\n",
    "\n",
    "df"
   ]
  },
  {
   "cell_type": "code",
   "execution_count": 4,
   "id": "c312537e",
   "metadata": {},
   "outputs": [],
   "source": [
    "from urllib.parse import quote\n",
    "import requests\n",
    "import json"
   ]
  },
  {
   "cell_type": "code",
   "execution_count": 6,
   "id": "171d3566",
   "metadata": {},
   "outputs": [
    {
     "data": {
      "text/plain": [
       "{'buyersguidepieces': {'body': '<div class=\"buyersguide-nested\"><div style=\"padding: .5em;\"><table class=\"nobmp\" style=\"width: 100%;\"><tr><td class=\"altrow-a-0\">DODGE</td><td class=\"altrow-a-0\">DAKOTA</td><td class=\"altrow-a-0\">2000-2002</td></tr><tr><td class=\"altrow-a-1\">DODGE</td><td class=\"altrow-a-1\">DURANGO</td><td class=\"altrow-a-1\">2000-2002</td></tr><tr><td class=\"altrow-a-0\">DODGE</td><td class=\"altrow-a-0\">RAM 1500 PICKUP</td><td class=\"altrow-a-0\">2002</td></tr><tr><td class=\"altrow-a-1\">JEEP</td><td class=\"altrow-a-1\">GRAND CHEROKEE</td><td class=\"altrow-a-1\">1999-2004</td></tr></table><div>Please refer to catalog for application details.</div></div></div>',\n",
       "  'title': \"Buyer's Guide :   Timing Cam Sprocket\"},\n",
       " 'groupindex': None,\n",
       " 'collected_javascript': '/**UQ:84A16381**/\\nwindow.top.parent.window[\"_nck\"] = \"8LVLUxTaILBT+tLxkg8+3Ag7\\\\/0bbOhvn7P3rkFbL80\\\\/4ONrpMMyyMoTAzqUtg75DXjLFbtL0RWwG2TIS5g0HjN+BEpbJggwRicfW87qYxCroJDOCFdvb3koFH0TxTw3x1dhhkAt5X2DwCKM7H+wr2hzpe5dh2iW\\\\/JUfOqmsXVqM=\";\\n'}"
      ]
     },
     "execution_count": 6,
     "metadata": {},
     "output_type": "execute_result"
    }
   ],
   "source": [
    "import sys\n",
    "sys.path.append('../../../00.module')\n",
    "import UA\n",
    "import Proxy\n",
    "\n",
    "i = 0\n",
    "\n",
    "type_code = list_type_code[i]\n",
    "part_key = list_part_key[i]\n",
    "\n",
    "data = 'func=getbuyersguide&payload=' + quote('{\"partData\":{\"listing_data_essential\":{\"parttype\":\"') + type_code + quote('\",\"partkey\":\"') + part_key + quote('\"}}}') + '&api_json_request=1&sctchecked=1&scbeenloaded=true&curCartGroupID='\n",
    "\n",
    "resp = requests.post('https://www.rockauto.com/catalog/catalogapi.php',\n",
    "                     data=data,\n",
    "                     headers={'Content-Type': 'application/x-www-form-urlencoded; charset=UTF-8'},\n",
    "                     proxies=Proxy.get_Proxy_Requests()).text\n",
    "\n",
    "resp = json.loads(resp)\n",
    "\n",
    "resp"
   ]
  },
  {
   "cell_type": "code",
   "execution_count": 7,
   "id": "84f8e9ea",
   "metadata": {},
   "outputs": [],
   "source": [
    "from bs4 import BeautifulSoup"
   ]
  },
  {
   "cell_type": "code",
   "execution_count": 8,
   "id": "be9f27ab",
   "metadata": {},
   "outputs": [
    {
     "name": "stdout",
     "output_type": "stream",
     "text": [
      "<html>\n",
      " <body>\n",
      "  <div class=\"buyersguide-nested\">\n",
      "   <div style=\"padding: .5em;\">\n",
      "    <table class=\"nobmp\" style=\"width: 100%;\">\n",
      "     <tr>\n",
      "      <td class=\"altrow-a-0\">\n",
      "       DODGE\n",
      "      </td>\n",
      "      <td class=\"altrow-a-0\">\n",
      "       DAKOTA\n",
      "      </td>\n",
      "      <td class=\"altrow-a-0\">\n",
      "       2000-2002\n",
      "      </td>\n",
      "     </tr>\n",
      "     <tr>\n",
      "      <td class=\"altrow-a-1\">\n",
      "       DODGE\n",
      "      </td>\n",
      "      <td class=\"altrow-a-1\">\n",
      "       DURANGO\n",
      "      </td>\n",
      "      <td class=\"altrow-a-1\">\n",
      "       2000-2002\n",
      "      </td>\n",
      "     </tr>\n",
      "     <tr>\n",
      "      <td class=\"altrow-a-0\">\n",
      "       DODGE\n",
      "      </td>\n",
      "      <td class=\"altrow-a-0\">\n",
      "       RAM 1500 PICKUP\n",
      "      </td>\n",
      "      <td class=\"altrow-a-0\">\n",
      "       2002\n",
      "      </td>\n",
      "     </tr>\n",
      "     <tr>\n",
      "      <td class=\"altrow-a-1\">\n",
      "       JEEP\n",
      "      </td>\n",
      "      <td class=\"altrow-a-1\">\n",
      "       GRAND CHEROKEE\n",
      "      </td>\n",
      "      <td class=\"altrow-a-1\">\n",
      "       1999-2004\n",
      "      </td>\n",
      "     </tr>\n",
      "    </table>\n",
      "    <div>\n",
      "     Please refer to catalog for application details.\n",
      "    </div>\n",
      "   </div>\n",
      "  </div>\n",
      " </body>\n",
      "</html>\n",
      "\n"
     ]
    }
   ],
   "source": [
    "html = resp['buyersguidepieces']['body']\n",
    "\n",
    "soup = BeautifulSoup(html, 'lxml')\n",
    "\n",
    "with open('./vehicle.html', 'w', encoding='UTF-8') as file:\n",
    "    file.write(str(soup))\n",
    "\n",
    "print(soup.prettify())"
   ]
  },
  {
   "cell_type": "code",
   "execution_count": 9,
   "id": "6d5642d6",
   "metadata": {},
   "outputs": [],
   "source": [
    "from lxml import etree"
   ]
  },
  {
   "cell_type": "code",
   "execution_count": 10,
   "id": "6178eb0b",
   "metadata": {},
   "outputs": [
    {
     "name": "stdout",
     "output_type": "stream",
     "text": [
      "DODGE DAKOTA 2000-2002\n",
      "DODGE DURANGO 2000-2002\n",
      "DODGE RAM 1500 PICKUP 2002\n",
      "JEEP GRAND CHEROKEE 1999-2004\n"
     ]
    }
   ],
   "source": [
    "html = etree.HTML(str(soup))\n",
    "\n",
    "list_vehicle = html.xpath('//div[contains(@class, \"buyersguide-nested\")]/descendant::table[contains(@class, \"nobmp\")]/tr')\n",
    "\n",
    "vehicle = '\\n'.join([' '.join(_.xpath('./td/text()')) for _ in list_vehicle])\n",
    "\n",
    "print(vehicle)"
   ]
  },
  {
   "cell_type": "code",
   "execution_count": 11,
   "id": "c56713f6",
   "metadata": {},
   "outputs": [
    {
     "data": {
      "text/html": [
       "<div>\n",
       "<style scoped>\n",
       "    .dataframe tbody tr th:only-of-type {\n",
       "        vertical-align: middle;\n",
       "    }\n",
       "\n",
       "    .dataframe tbody tr th {\n",
       "        vertical-align: top;\n",
       "    }\n",
       "\n",
       "    .dataframe thead th {\n",
       "        text-align: right;\n",
       "    }\n",
       "</style>\n",
       "<table border=\"1\" class=\"dataframe\">\n",
       "  <thead>\n",
       "    <tr style=\"text-align: right;\">\n",
       "      <th></th>\n",
       "      <th>status</th>\n",
       "      <th>Part_Key</th>\n",
       "      <th>Vehicle</th>\n",
       "    </tr>\n",
       "  </thead>\n",
       "  <tbody>\n",
       "    <tr>\n",
       "      <th>0</th>\n",
       "      <td>ok</td>\n",
       "      <td>7088216</td>\n",
       "      <td>DODGE DAKOTA 2000-2002\\nDODGE DURANGO 2000-200...</td>\n",
       "    </tr>\n",
       "  </tbody>\n",
       "</table>\n",
       "</div>"
      ],
      "text/plain": [
       "  status Part_Key                                            Vehicle\n",
       "0     ok  7088216  DODGE DAKOTA 2000-2002\\nDODGE DURANGO 2000-200..."
      ]
     },
     "execution_count": 11,
     "metadata": {},
     "output_type": "execute_result"
    }
   ],
   "source": [
    "df_temp = pd.DataFrame([{'status': 'ok',\n",
    "                         'Part_Key': part_key,\n",
    "                         'Vehicle': vehicle}])\n",
    "\n",
    "df = pd.concat([df, df_temp], ignore_index=True).fillna('')\n",
    "\n",
    "df"
   ]
  },
  {
   "cell_type": "code",
   "execution_count": null,
   "id": "22d4f3db",
   "metadata": {},
   "outputs": [],
   "source": []
  }
 ],
 "metadata": {
  "kernelspec": {
   "display_name": "Python 3 (ipykernel)",
   "language": "python",
   "name": "python3"
  },
  "language_info": {
   "codemirror_mode": {
    "name": "ipython",
    "version": 3
   },
   "file_extension": ".py",
   "mimetype": "text/x-python",
   "name": "python",
   "nbconvert_exporter": "python",
   "pygments_lexer": "ipython3",
   "version": "3.11.3"
  }
 },
 "nbformat": 4,
 "nbformat_minor": 5
}
