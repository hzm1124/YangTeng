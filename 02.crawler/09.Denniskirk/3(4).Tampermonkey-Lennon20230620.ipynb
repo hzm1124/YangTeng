{
 "cells": [
  {
   "cell_type": "code",
   "execution_count": 1,
   "id": "14ca4672",
   "metadata": {},
   "outputs": [],
   "source": [
    "import os"
   ]
  },
  {
   "cell_type": "code",
   "execution_count": 2,
   "id": "a3369d1a",
   "metadata": {},
   "outputs": [
    {
     "data": {
      "text/plain": [
       "7"
      ]
     },
     "execution_count": 2,
     "metadata": {},
     "output_type": "execute_result"
    }
   ],
   "source": [
    "list_file = list(os.walk('./crawler'))[0][2]\n",
    "if '.DS_Store' in list_file:\n",
    "   list_file.remove('.DS_Store')\n",
    "\n",
    "len(list_file)"
   ]
  },
  {
   "cell_type": "code",
   "execution_count": 3,
   "id": "552c5c8c",
   "metadata": {},
   "outputs": [],
   "source": [
    "import pandas as pd"
   ]
  },
  {
   "cell_type": "code",
   "execution_count": 4,
   "id": "19a50da8",
   "metadata": {},
   "outputs": [
    {
     "data": {
      "text/html": [
       "<div>\n",
       "<style scoped>\n",
       "    .dataframe tbody tr th:only-of-type {\n",
       "        vertical-align: middle;\n",
       "    }\n",
       "\n",
       "    .dataframe tbody tr th {\n",
       "        vertical-align: top;\n",
       "    }\n",
       "\n",
       "    .dataframe thead th {\n",
       "        text-align: right;\n",
       "    }\n",
       "</style>\n",
       "<table border=\"1\" class=\"dataframe\">\n",
       "  <thead>\n",
       "    <tr style=\"text-align: right;\">\n",
       "      <th></th>\n",
       "      <th>Url</th>\n",
       "      <th>Vehicle</th>\n",
       "      <th>Src</th>\n",
       "    </tr>\n",
       "  </thead>\n",
       "  <tbody>\n",
       "  </tbody>\n",
       "</table>\n",
       "</div>"
      ],
      "text/plain": [
       "Empty DataFrame\n",
       "Columns: [Url, Vehicle, Src]\n",
       "Index: []"
      ]
     },
     "execution_count": 4,
     "metadata": {},
     "output_type": "execute_result"
    }
   ],
   "source": [
    "df = pd.DataFrame(columns=['Url', 'Vehicle', 'Src'])\n",
    "\n",
    "df"
   ]
  },
  {
   "cell_type": "code",
   "execution_count": 5,
   "id": "000d53d7",
   "metadata": {},
   "outputs": [],
   "source": [
    "import json"
   ]
  },
  {
   "cell_type": "code",
   "execution_count": null,
   "id": "9d0bbcbf",
   "metadata": {},
   "outputs": [],
   "source": []
  },
  {
   "cell_type": "code",
   "execution_count": null,
   "id": "192d49ca",
   "metadata": {},
   "outputs": [],
   "source": []
  },
  {
   "cell_type": "code",
   "execution_count": null,
   "id": "5daf528b",
   "metadata": {},
   "outputs": [],
   "source": []
  },
  {
   "cell_type": "code",
   "execution_count": 6,
   "id": "ee5f6ace",
   "metadata": {},
   "outputs": [],
   "source": [
    "f = open('./crawler/' + list_file[0], 'r')\n",
    "part = json.loads(f.read()[1:-1])"
   ]
  },
  {
   "cell_type": "code",
   "execution_count": 7,
   "id": "cefac4dd",
   "metadata": {},
   "outputs": [
    {
     "data": {
      "text/plain": [
       "{'Url': 'https://www.denniskirk.com/moose/complete-front-left-axle-kit-0214-1064.p5501589.prd/5501589.sku',\n",
       " 'Alternate/OEM Part Number(s)': '02141064',\n",
       " 'Vehicle': 'Polaris RZR 570 2012, 2015-2020\\nPolaris RZR 570 EPS 2015-2019\\nPolaris RZR 570 Indy Red 2013-2014\\nPolaris RZR 570 LE EPS Blue Fire 2014\\nPolaris RZR 570 LE EPS Gloss Black 2013\\nPolaris RZR 570 LE EPS White Lightning 2014\\nPolaris RZR 570 Trail 2021-2022\\nPolaris RZR 800 2008-2012\\nPolaris RZR 800 LE Boardwalk Blue 2012\\nPolaris RZR 800 LE Boardwalk Blue/White 2011\\nPolaris RZR 800 LE EPS Boardwalk Blue 2012\\nPolaris RZR 800 LE EPS Orange Madness 2011\\nPolaris RZR 800 LE EPS Sunset Red 2010\\nPolaris RZR 800 LE Indy Red/White 2011\\nPolaris RZR 800 LE Magnetic Metallic 2012\\nPolaris RZR 800 LE Nuclear Sunset2009, 2013\\nPolaris RZR 800 LE Pearl White2010\\nPolaris RZR 800 LE Stealth Black2010\\nPolaris RZR 800 LE Sunset Red2009-2010, 2013\\nPolaris RZR 800 LE Tequila Gold Premium2010\\nPolaris RZR 800 LE Turbo Silver Premium2010\\nPolaris RZR 800 LE Walker Evans2010-2011\\nPolaris RZR 800 LE White Lightning/Red2012\\nPolaris RZR 800 S2009-2012\\nPolaris RZR 800 S LE Black Carbon Fiber2011\\nPolaris RZR 800 S LE Black/Orange Madness2011\\nPolaris RZR 800 S LE Black/White/Red2012\\nPolaris RZR 800 S LE Orange Madness Premium2010\\nPolaris RZR 800 S LE Orange Madness/Black2012\\nPolaris RZR 800 S LE Purple Thunder2010',\n",
       " 'Src': 'https://www.denniskirk.com/dk/product_images/dk/600pix/dk5501589_d7766266eb74654ae75a0b62791082341a4e3da6.jpg',\n",
       " 'durability': 'Standard',\n",
       " 'mfg #:': '0214-1064',\n",
       " 'part #:': '5501589',\n",
       " 'position': 'Front Right',\n",
       " 'type': 'CV Axle - Complete',\n",
       " 'units': 'Kit',\n",
       " 'weight': '9.65 lbs'}"
      ]
     },
     "execution_count": 7,
     "metadata": {},
     "output_type": "execute_result"
    }
   ],
   "source": [
    "part"
   ]
  },
  {
   "cell_type": "code",
   "execution_count": 8,
   "id": "1d3df716",
   "metadata": {},
   "outputs": [
    {
     "name": "stdout",
     "output_type": "stream",
     "text": [
      "www.denniskirk.com_moose_complete-front-left-axle-kit-0214-1064.p5501589.prd_5501589.sku_index=5.txt\n",
      "www.denniskirk.com_moose_complete-front-left-axle-kit-0214-1065.p5501590.prd_5501590.sku_index=6.txt\n",
      "www.denniskirk.com_moose_complete-rear-left-right-axle-kit-0214-1058.p5501583.prd_5501583.sku_index=0.txt\n",
      "www.denniskirk.com_moose_complete-rear-left-right-axle-kit-0214-1062.p5501587.prd_5501587.sku_index=3.txt\n",
      "www.denniskirk.com_moose_complete-rear-left-right-axle-kit-0214-1063.p5501588.prd_5501588.sku_index=4.txt\n",
      "www.denniskirk.com_moose_complete-rear-left-axle-kit-0214-1060.p5501585.prd_5501585.sku_index=1.txt\n",
      "www.denniskirk.com_moose_complete-rear-right-axle-kit-0214-1061.p5501586.prd_5501586.sku_index=2.txt\n"
     ]
    }
   ],
   "source": [
    "for file in list_file:\n",
    "    print(file)\n",
    "    with open('./crawler/' + file) as f:\n",
    "        part = json.loads(f.read()[1:-1])\n",
    "                \n",
    "        df_temp = pd.DataFrame([{'Url': part['Url'],\n",
    "                                 'Vehicle': part['Vehicle'],\n",
    "                                 'Src': part['Src']}])\n",
    "        for key in part:\n",
    "            if key == 'Url' or key == 'Vehicle' or key == 'Src':\n",
    "                continue\n",
    "            else:\n",
    "                df_temp.loc[0, key] = part[key]\n",
    "        df = pd.concat([df, df_temp], ignore_index=True)"
   ]
  },
  {
   "cell_type": "code",
   "execution_count": 9,
   "id": "e7c8e52b",
   "metadata": {},
   "outputs": [
    {
     "data": {
      "text/html": [
       "<div>\n",
       "<style scoped>\n",
       "    .dataframe tbody tr th:only-of-type {\n",
       "        vertical-align: middle;\n",
       "    }\n",
       "\n",
       "    .dataframe tbody tr th {\n",
       "        vertical-align: top;\n",
       "    }\n",
       "\n",
       "    .dataframe thead th {\n",
       "        text-align: right;\n",
       "    }\n",
       "</style>\n",
       "<table border=\"1\" class=\"dataframe\">\n",
       "  <thead>\n",
       "    <tr style=\"text-align: right;\">\n",
       "      <th></th>\n",
       "      <th>Url</th>\n",
       "      <th>Vehicle</th>\n",
       "      <th>Src</th>\n",
       "      <th>Alternate/OEM Part Number(s)</th>\n",
       "      <th>durability</th>\n",
       "      <th>mfg #:</th>\n",
       "      <th>part #:</th>\n",
       "      <th>position</th>\n",
       "      <th>type</th>\n",
       "      <th>units</th>\n",
       "      <th>weight</th>\n",
       "    </tr>\n",
       "  </thead>\n",
       "  <tbody>\n",
       "    <tr>\n",
       "      <th>0</th>\n",
       "      <td>https://www.denniskirk.com/moose/complete-fron...</td>\n",
       "      <td>Polaris RZR 570 2012, 2015-2020\\nPolaris RZR 5...</td>\n",
       "      <td>https://www.denniskirk.com/dk/product_images/d...</td>\n",
       "      <td>02141064</td>\n",
       "      <td>Standard</td>\n",
       "      <td>0214-1064</td>\n",
       "      <td>5501589</td>\n",
       "      <td>Front Right</td>\n",
       "      <td>CV Axle - Complete</td>\n",
       "      <td>Kit</td>\n",
       "      <td>9.65 lbs</td>\n",
       "    </tr>\n",
       "    <tr>\n",
       "      <th>1</th>\n",
       "      <td>https://www.denniskirk.com/moose/complete-fron...</td>\n",
       "      <td>Polaris Sportsman 400 4x4 2005\\nPolaris Sports...</td>\n",
       "      <td>https://www.denniskirk.com/dk/product_images/d...</td>\n",
       "      <td>02141065</td>\n",
       "      <td>Standard</td>\n",
       "      <td>0214-1065</td>\n",
       "      <td>5501590</td>\n",
       "      <td>Front Right</td>\n",
       "      <td>CV Axle - Complete</td>\n",
       "      <td>Kit</td>\n",
       "      <td>9.50 lbs</td>\n",
       "    </tr>\n",
       "    <tr>\n",
       "      <th>2</th>\n",
       "      <td>https://www.denniskirk.com/moose/complete-rear...</td>\n",
       "      <td>Kawasaki KRF750N Teryx FI 4x4 2012-2013\\nKawas...</td>\n",
       "      <td>https://www.denniskirk.com/dk/product_images/d...</td>\n",
       "      <td>02141058</td>\n",
       "      <td>Standard</td>\n",
       "      <td>0214-1058</td>\n",
       "      <td>5501583</td>\n",
       "      <td>Rear Right</td>\n",
       "      <td>CV Axle - Complete</td>\n",
       "      <td>Kit</td>\n",
       "      <td>10.40 lbs</td>\n",
       "    </tr>\n",
       "    <tr>\n",
       "      <th>3</th>\n",
       "      <td>https://www.denniskirk.com/moose/complete-rear...</td>\n",
       "      <td>Polaris Sportsman 400 4x4 2003-2005\\nPolaris S...</td>\n",
       "      <td>https://www.denniskirk.com/dk/product_images/d...</td>\n",
       "      <td>02141062</td>\n",
       "      <td>Standard</td>\n",
       "      <td>0214-1062</td>\n",
       "      <td>5501587</td>\n",
       "      <td>Rear Right</td>\n",
       "      <td>CV Axle - Complete</td>\n",
       "      <td>Kit</td>\n",
       "      <td>14.50 lbs</td>\n",
       "    </tr>\n",
       "    <tr>\n",
       "      <th>4</th>\n",
       "      <td>https://www.denniskirk.com/moose/complete-rear...</td>\n",
       "      <td>Polaris Sportsman 335 4x4 2000\\nPolaris Sports...</td>\n",
       "      <td>https://www.denniskirk.com/dk/product_images/d...</td>\n",
       "      <td>02141063</td>\n",
       "      <td>Standard</td>\n",
       "      <td>0214-1063</td>\n",
       "      <td>5501588</td>\n",
       "      <td>Rear Right</td>\n",
       "      <td>CV Axle - Complete</td>\n",
       "      <td>Kit</td>\n",
       "      <td>14.60 lbs</td>\n",
       "    </tr>\n",
       "    <tr>\n",
       "      <th>5</th>\n",
       "      <td>https://www.denniskirk.com/moose/complete-rear...</td>\n",
       "      <td>Kawasaki KRF750A Teryx 750 4x4 2008\\nKawasaki ...</td>\n",
       "      <td>https://www.denniskirk.com/dk/product_images/d...</td>\n",
       "      <td>02141060</td>\n",
       "      <td>Standard</td>\n",
       "      <td>0214-1060</td>\n",
       "      <td>5501585</td>\n",
       "      <td>Rear Left</td>\n",
       "      <td>CV Axle - Complete</td>\n",
       "      <td>Kit</td>\n",
       "      <td>12.15 lbs</td>\n",
       "    </tr>\n",
       "    <tr>\n",
       "      <th>6</th>\n",
       "      <td>https://www.denniskirk.com/moose/complete-rear...</td>\n",
       "      <td>Kawasaki KRF750A Teryx 750 4x4 2008\\nKawasaki ...</td>\n",
       "      <td>https://www.denniskirk.com/dk/product_images/d...</td>\n",
       "      <td>02141061</td>\n",
       "      <td>Standard</td>\n",
       "      <td>0214-1061</td>\n",
       "      <td>5501586</td>\n",
       "      <td>Rear Right</td>\n",
       "      <td>CV Axle - Complete</td>\n",
       "      <td>Kit</td>\n",
       "      <td>12.05 lbs</td>\n",
       "    </tr>\n",
       "  </tbody>\n",
       "</table>\n",
       "</div>"
      ],
      "text/plain": [
       "                                                 Url  \\\n",
       "0  https://www.denniskirk.com/moose/complete-fron...   \n",
       "1  https://www.denniskirk.com/moose/complete-fron...   \n",
       "2  https://www.denniskirk.com/moose/complete-rear...   \n",
       "3  https://www.denniskirk.com/moose/complete-rear...   \n",
       "4  https://www.denniskirk.com/moose/complete-rear...   \n",
       "5  https://www.denniskirk.com/moose/complete-rear...   \n",
       "6  https://www.denniskirk.com/moose/complete-rear...   \n",
       "\n",
       "                                             Vehicle  \\\n",
       "0  Polaris RZR 570 2012, 2015-2020\\nPolaris RZR 5...   \n",
       "1  Polaris Sportsman 400 4x4 2005\\nPolaris Sports...   \n",
       "2  Kawasaki KRF750N Teryx FI 4x4 2012-2013\\nKawas...   \n",
       "3  Polaris Sportsman 400 4x4 2003-2005\\nPolaris S...   \n",
       "4  Polaris Sportsman 335 4x4 2000\\nPolaris Sports...   \n",
       "5  Kawasaki KRF750A Teryx 750 4x4 2008\\nKawasaki ...   \n",
       "6  Kawasaki KRF750A Teryx 750 4x4 2008\\nKawasaki ...   \n",
       "\n",
       "                                                 Src  \\\n",
       "0  https://www.denniskirk.com/dk/product_images/d...   \n",
       "1  https://www.denniskirk.com/dk/product_images/d...   \n",
       "2  https://www.denniskirk.com/dk/product_images/d...   \n",
       "3  https://www.denniskirk.com/dk/product_images/d...   \n",
       "4  https://www.denniskirk.com/dk/product_images/d...   \n",
       "5  https://www.denniskirk.com/dk/product_images/d...   \n",
       "6  https://www.denniskirk.com/dk/product_images/d...   \n",
       "\n",
       "  Alternate/OEM Part Number(s) durability     mfg #:  part #:     position  \\\n",
       "0                     02141064   Standard  0214-1064  5501589  Front Right   \n",
       "1                     02141065   Standard  0214-1065  5501590  Front Right   \n",
       "2                     02141058   Standard  0214-1058  5501583   Rear Right   \n",
       "3                     02141062   Standard  0214-1062  5501587   Rear Right   \n",
       "4                     02141063   Standard  0214-1063  5501588   Rear Right   \n",
       "5                     02141060   Standard  0214-1060  5501585    Rear Left   \n",
       "6                     02141061   Standard  0214-1061  5501586   Rear Right   \n",
       "\n",
       "                 type units     weight  \n",
       "0  CV Axle - Complete   Kit   9.65 lbs  \n",
       "1  CV Axle - Complete   Kit   9.50 lbs  \n",
       "2  CV Axle - Complete   Kit  10.40 lbs  \n",
       "3  CV Axle - Complete   Kit  14.50 lbs  \n",
       "4  CV Axle - Complete   Kit  14.60 lbs  \n",
       "5  CV Axle - Complete   Kit  12.15 lbs  \n",
       "6  CV Axle - Complete   Kit  12.05 lbs  "
      ]
     },
     "execution_count": 9,
     "metadata": {},
     "output_type": "execute_result"
    }
   ],
   "source": [
    "df.to_excel('./crawler.xlsx', index=False)\n",
    "\n",
    "df"
   ]
  },
  {
   "cell_type": "code",
   "execution_count": null,
   "id": "f1b946e9",
   "metadata": {},
   "outputs": [],
   "source": []
  }
 ],
 "metadata": {
  "kernelspec": {
   "display_name": "Python 3 (ipykernel)",
   "language": "python",
   "name": "python3"
  },
  "language_info": {
   "codemirror_mode": {
    "name": "ipython",
    "version": 3
   },
   "file_extension": ".py",
   "mimetype": "text/x-python",
   "name": "python",
   "nbconvert_exporter": "python",
   "pygments_lexer": "ipython3",
   "version": "3.11.3"
  }
 },
 "nbformat": 4,
 "nbformat_minor": 5
}
