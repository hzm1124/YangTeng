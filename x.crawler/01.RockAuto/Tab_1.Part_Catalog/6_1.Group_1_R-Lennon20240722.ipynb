{
 "cells": [
  {
   "cell_type": "code",
   "execution_count": 1,
   "id": "a3ab352a-d243-44f8-b85e-b4f88454ef50",
   "metadata": {},
   "outputs": [],
   "source": [
    "param_date = '20240715'"
   ]
  },
  {
   "cell_type": "code",
   "execution_count": 2,
   "id": "547e32ac-c43a-4c08-99da-f075e5dba73b",
   "metadata": {},
   "outputs": [
    {
     "data": {
      "text/plain": [
       "['make_1.ABARTH.xlsx',\n",
       " 'make_10.AMERICAN AUSTIN.xlsx',\n",
       " 'make_100.GOLIATH.xlsx',\n",
       " 'make_101.GORDON-KEEBLE.xlsx',\n",
       " 'make_102.GRAHAM.xlsx',\n",
       " 'make_103.GRAHAM-PAIGE.xlsx',\n",
       " 'make_104.GRIFFITH.xlsx',\n",
       " 'make_105.HEALEY.xlsx',\n",
       " 'make_106.HENRY J.xlsx',\n",
       " 'make_107.HILLMAN.xlsx',\n",
       " 'make_108.HINO.xlsx',\n",
       " 'make_109.HISPANO-SUIZA.xlsx',\n",
       " 'make_11.AMERICAN BANTAM.xlsx',\n",
       " 'make_110.HONDA.xlsx',\n",
       " 'make_111.HOTCHKISS.xlsx',\n",
       " 'make_112.HRG.xlsx',\n",
       " 'make_113.HUDSON.xlsx',\n",
       " 'make_114.HUMBER.xlsx',\n",
       " 'make_115.HUMMER.xlsx',\n",
       " 'make_116.HUPMOBILE.xlsx',\n",
       " 'make_117.HYUNDAI.xlsx',\n",
       " 'make_118.INFINITI.xlsx',\n",
       " 'make_119.INTERNATIONAL.xlsx',\n",
       " 'make_12.AMERICAN MOTORS.xlsx',\n",
       " 'make_120.ISO.xlsx',\n",
       " 'make_121.ISUZU.xlsx',\n",
       " 'make_122.IVECO.xlsx',\n",
       " 'make_123.JAC.xlsx',\n",
       " 'make_124.JAGUAR.xlsx',\n",
       " 'make_125.JEEP.xlsx',\n",
       " 'make_126.JENSEN.xlsx',\n",
       " 'make_127.JEWETT.xlsx',\n",
       " 'make_128.JMC.xlsx',\n",
       " 'make_129.JORDAN.xlsx',\n",
       " 'make_13.AMPHICAR.xlsx',\n",
       " 'make_130.JOWETT.xlsx',\n",
       " 'make_131.KAISER-FRAZER.xlsx',\n",
       " 'make_132.KARMA.xlsx',\n",
       " 'make_133.KENWORTH.xlsx',\n",
       " 'make_134.KIA.xlsx',\n",
       " 'make_135.KISSEL.xlsx',\n",
       " 'make_136.KURTIS.xlsx',\n",
       " 'make_137.LADA.xlsx',\n",
       " 'make_138.LAFORZA.xlsx',\n",
       " 'make_139.LAGONDA.xlsx',\n",
       " 'make_14.APOLLO.xlsx',\n",
       " 'make_140.LAMBORGHINI.xlsx',\n",
       " 'make_141.LANCHESTER.xlsx',\n",
       " 'make_142.LANCIA.xlsx',\n",
       " 'make_143.LAND ROVER.xlsx',\n",
       " 'make_144.LASALLE.xlsx',\n",
       " 'make_145.LEA-FRANCIS.xlsx',\n",
       " 'make_146.LEXINGTON.xlsx',\n",
       " 'make_147.LEXUS.xlsx',\n",
       " 'make_148.LINCOLN.xlsx',\n",
       " 'make_149.LORDSTOWN MOTORS.xlsx',\n",
       " 'make_15.ARMSTRONG-SIDDELEY.xlsx',\n",
       " 'make_150.LOTUS.xlsx',\n",
       " 'make_151.LUCID.xlsx',\n",
       " 'make_152.MACK.xlsx',\n",
       " 'make_153.MAICO.xlsx',\n",
       " 'make_154.MARATHON.xlsx',\n",
       " 'make_155.MARAUDER.xlsx',\n",
       " 'make_156.MARCOS.xlsx',\n",
       " 'make_157.MARMON.xlsx',\n",
       " 'make_158.MASERATI.xlsx',\n",
       " 'make_159.MASTRETTA.xlsx',\n",
       " 'make_16.ARNOLT-BRISTOL.xlsx',\n",
       " 'make_160.MATRA.xlsx',\n",
       " 'make_161.MAXWELL.xlsx',\n",
       " 'make_162.MAYBACH.xlsx',\n",
       " 'make_163.MAZDA.xlsx',\n",
       " 'make_164.MCLAREN.xlsx',\n",
       " 'make_165.MERCEDES-BENZ.xlsx',\n",
       " 'make_166.MERCURY.xlsx',\n",
       " 'make_167.MERKUR.xlsx',\n",
       " 'make_168.MESSERSCHMITT.xlsx',\n",
       " 'make_169.MG.xlsx',\n",
       " 'make_17.ARNOLT-MG.xlsx',\n",
       " 'make_170.MINI.xlsx',\n",
       " 'make_171.MITSUBISHI.xlsx',\n",
       " 'make_172.MITSUBISHI FUSO.xlsx',\n",
       " 'make_173.MOBILITY VENTURES.xlsx',\n",
       " 'make_174.MONTEVERDI.xlsx',\n",
       " 'make_175.MOON.xlsx',\n",
       " 'make_176.MORETTI.xlsx',\n",
       " 'make_177.MORGAN.xlsx',\n",
       " 'make_178.MORRIS.xlsx',\n",
       " 'make_179.MOSKVICH.xlsx',\n",
       " 'make_18.ASTON MARTIN.xlsx',\n",
       " 'make_180.NARDI.xlsx',\n",
       " 'make_181.NASH.xlsx',\n",
       " 'make_182.NISSAN.xlsx',\n",
       " 'make_183.NSU.xlsx',\n",
       " 'make_184.OAKLAND.xlsx',\n",
       " 'make_185.OLDSMOBILE.xlsx',\n",
       " 'make_186.OMEGA.xlsx',\n",
       " 'make_187.OPEL.xlsx',\n",
       " 'make_188.OSCA.xlsx',\n",
       " 'make_189.PACKARD.xlsx',\n",
       " 'make_19.ASUNA.xlsx',\n",
       " 'make_190.PAIGE.xlsx',\n",
       " 'make_191.PANHARD.xlsx',\n",
       " 'make_192.PANOZ.xlsx',\n",
       " 'make_193.PANTHER.xlsx',\n",
       " 'make_194.PASSPORT.xlsx',\n",
       " 'make_195.PEERLESS.xlsx',\n",
       " 'make_196.PEGASO.xlsx',\n",
       " 'make_197.PETERBILT.xlsx',\n",
       " 'make_198.PEUGEOT.xlsx',\n",
       " 'make_199.PIERCE-ARROW.xlsx',\n",
       " 'make_2.AC.xlsx',\n",
       " 'make_20.AUBURN.xlsx',\n",
       " 'make_200.PLYMOUTH.xlsx',\n",
       " 'make_201.POLESTAR.xlsx',\n",
       " 'make_202.PONTIAC.xlsx',\n",
       " 'make_203.PORSCHE.xlsx',\n",
       " 'make_204.QVALE.xlsx',\n",
       " 'make_205.RAM.xlsx',\n",
       " 'make_206.RELIANT.xlsx',\n",
       " 'make_207.RENAULT.xlsx',\n",
       " 'make_208.REO.xlsx',\n",
       " 'make_209.RICKENBACKER.xlsx',\n",
       " 'make_21.AUDI.xlsx',\n",
       " 'make_210.RILEY.xlsx',\n",
       " 'make_211.RIVIAN.xlsx',\n",
       " 'make_212.ROAMER.xlsx',\n",
       " 'make_213.ROCKNE.xlsx',\n",
       " 'make_214.ROLLS-ROYCE.xlsx',\n",
       " 'make_215.ROVER.xlsx',\n",
       " 'make_216.SAAB.xlsx',\n",
       " 'make_217.SABRA.xlsx',\n",
       " 'make_218.SALEEN.xlsx',\n",
       " 'make_219.SALMSON.xlsx',\n",
       " 'make_22.AUSTIN.xlsx',\n",
       " 'make_220.SATURN.xlsx',\n",
       " 'make_221.SCION.xlsx',\n",
       " 'make_222.SEAT.xlsx',\n",
       " 'make_223.SHELBY.xlsx',\n",
       " 'make_224.SIATA.xlsx',\n",
       " 'make_225.SIMCA.xlsx',\n",
       " 'make_226.SINGER.xlsx',\n",
       " 'make_227.SKODA.xlsx',\n",
       " 'make_228.SMART.xlsx',\n",
       " 'make_229.SPYKER.xlsx',\n",
       " 'make_23.AUSTIN-HEALEY.xlsx',\n",
       " 'make_230.SRT.xlsx',\n",
       " 'make_231.SSANGYONG.xlsx',\n",
       " 'make_232.STANDARD.xlsx',\n",
       " 'make_233.STAR.xlsx',\n",
       " 'make_234.STEARNS KNIGHT.xlsx',\n",
       " 'make_235.STERLING.xlsx',\n",
       " 'make_236.STEVENS-DURYEA.xlsx',\n",
       " 'make_237.STUDEBAKER.xlsx',\n",
       " 'make_238.STUTZ.xlsx',\n",
       " 'make_239.SUBARU.xlsx',\n",
       " 'make_24.AVANTI.xlsx',\n",
       " 'make_240.SUNBEAM.xlsx',\n",
       " 'make_241.SUZUKI.xlsx',\n",
       " 'make_242.SWALLOW.xlsx',\n",
       " 'make_243.TALBOT-LAGO.xlsx',\n",
       " 'make_244.TATRA.xlsx',\n",
       " 'make_245.TESLA.xlsx',\n",
       " 'make_246.THINK.xlsx',\n",
       " 'make_247.TOYOTA.xlsx',\n",
       " 'make_248.TRIUMPH.xlsx',\n",
       " 'make_249.TURNER.xlsx',\n",
       " 'make_25.BAIC.xlsx',\n",
       " 'make_250.TVR.xlsx',\n",
       " 'make_251.UAZ.xlsx',\n",
       " 'make_252.UD.xlsx',\n",
       " 'make_253.UTILIMASTER.xlsx',\n",
       " 'make_254.VAM.xlsx',\n",
       " 'make_255.VAUXHALL.xlsx',\n",
       " 'make_256.VESPA.xlsx',\n",
       " 'make_257.VINFAST.xlsx',\n",
       " 'make_258.VOLKSWAGEN.xlsx',\n",
       " 'make_259.VOLVO.xlsx',\n",
       " 'make_26.BENTLEY.xlsx',\n",
       " 'make_260.VPG.xlsx',\n",
       " 'make_261.WARTBURG.xlsx',\n",
       " 'make_262.WESTCOTT.xlsx',\n",
       " 'make_263.WHIPPET.xlsx',\n",
       " 'make_264.WILLYS.xlsx',\n",
       " 'make_265.WINDSOR.xlsx',\n",
       " 'make_266.WOLSELEY.xlsx',\n",
       " 'make_267.WORKHORSE.xlsx',\n",
       " 'make_268.YELLOW CAB.xlsx',\n",
       " 'make_269.YUGO.xlsx',\n",
       " 'make_27.BERKELEY.xlsx',\n",
       " 'make_270.ZACUA.xlsx',\n",
       " 'make_271.ZUNDAPP.xlsx',\n",
       " 'make_28.BIZZARRINI.xlsx',\n",
       " 'make_29.BMW.xlsx',\n",
       " 'make_3.ACURA.xlsx',\n",
       " 'make_30.BOND.xlsx',\n",
       " 'make_31.BORGWARD.xlsx',\n",
       " 'make_32.BRICKLIN.xlsx',\n",
       " 'make_33.BRIGHTDROP.xlsx',\n",
       " 'make_34.BRISTOL.xlsx',\n",
       " 'make_35.BUGATTI.xlsx',\n",
       " 'make_36.BUICK.xlsx',\n",
       " 'make_37.CADILLAC.xlsx',\n",
       " 'make_38.CASE.xlsx',\n",
       " 'make_39.CHANGAN.xlsx',\n",
       " 'make_4.ALFA ROMEO.xlsx',\n",
       " 'make_40.CHECKER.xlsx',\n",
       " 'make_41.CHEVROLET.xlsx',\n",
       " 'make_42.CHIREY.xlsx',\n",
       " 'make_43.CHRYSLER.xlsx',\n",
       " 'make_44.CISITALIA.xlsx',\n",
       " 'make_45.CITROEN.xlsx',\n",
       " 'make_46.COLE.xlsx',\n",
       " 'make_47.CONTINENTAL.xlsx',\n",
       " 'make_48.CORD.xlsx',\n",
       " 'make_49.CROSLEY.xlsx',\n",
       " 'make_5.ALLARD.xlsx',\n",
       " 'make_50.CUNNINGHAM.xlsx',\n",
       " 'make_51.CUPRA.xlsx',\n",
       " 'make_52.DAEWOO.xlsx',\n",
       " 'make_53.DAF.xlsx',\n",
       " 'make_54.DAIHATSU.xlsx',\n",
       " 'make_55.DAIMLER.xlsx',\n",
       " 'make_56.DATSUN.xlsx',\n",
       " 'make_57.DELAGE.xlsx',\n",
       " 'make_58.DELAHAYE.xlsx',\n",
       " 'make_59.DELLOW.xlsx',\n",
       " 'make_6.ALLSTATE.xlsx',\n",
       " 'make_60.DELOREAN.xlsx',\n",
       " 'make_61.DENZEL.xlsx',\n",
       " 'make_62.DESOTO.xlsx',\n",
       " 'make_63.DETOMASO.xlsx',\n",
       " 'make_64.DEUTSCH-BONNET.xlsx',\n",
       " 'make_65.DIANA.xlsx',\n",
       " 'make_66.DKW.xlsx',\n",
       " 'make_67.DODGE.xlsx',\n",
       " 'make_68.DORETTI.xlsx',\n",
       " 'make_69.DU PONT.xlsx',\n",
       " 'make_7.ALPINE.xlsx',\n",
       " 'make_70.DUAL-GHIA.xlsx',\n",
       " 'make_71.DUESENBERG.xlsx',\n",
       " 'make_72.DURANT.xlsx',\n",
       " 'make_73.EAGLE.xlsx',\n",
       " 'make_74.EDSEL.xlsx',\n",
       " 'make_75.ELCAR.xlsx',\n",
       " 'make_76.ELVA.xlsx',\n",
       " 'make_77.ERSKINE.xlsx',\n",
       " 'make_78.ESSEX.xlsx',\n",
       " 'make_79.EXCALIBUR.xlsx',\n",
       " 'make_8.ALVIS.xlsx',\n",
       " 'make_80.FACEL VEGA.xlsx',\n",
       " 'make_81.FAIRTHORPE.xlsx',\n",
       " 'make_82.FALCON KNIGHT.xlsx',\n",
       " 'make_83.FARGO.xlsx',\n",
       " 'make_84.FAW.xlsx',\n",
       " 'make_85.FERRARI.xlsx',\n",
       " 'make_86.FIAT.xlsx',\n",
       " 'make_87.FISKER.xlsx',\n",
       " 'make_88.FLINT.xlsx',\n",
       " 'make_89.FORD.xlsx',\n",
       " 'make_9.AM GENERAL.xlsx',\n",
       " 'make_90.FOTON.xlsx',\n",
       " 'make_91.FRANKLIN.xlsx',\n",
       " 'make_92.FRAZER NASH.xlsx',\n",
       " 'make_93.FREIGHTLINER.xlsx',\n",
       " 'make_94.GARDNER.xlsx',\n",
       " 'make_95.GENESIS.xlsx',\n",
       " 'make_96.GEO.xlsx',\n",
       " 'make_97.GIANT MOTORS.xlsx',\n",
       " 'make_98.GLAS.xlsx',\n",
       " 'make_99.GMC.xlsx']"
      ]
     },
     "execution_count": 2,
     "metadata": {},
     "output_type": "execute_result"
    }
   ],
   "source": [
    "import os\n",
    "\n",
    "list_file = sorted(list(os.walk(f'./{param_date}/5.engine_2'))[0][2])\n",
    "while '.DS_Store' in list_file:\n",
    "    list_file.remove('.DS_Store')\n",
    "while '0.null.txt' in list_file:\n",
    "    list_file.remove('0.null.txt')\n",
    "\n",
    "list_file"
   ]
  },
  {
   "cell_type": "code",
   "execution_count": 3,
   "id": "2063f72d-9cc2-4f63-9874-f5978ab0831e",
   "metadata": {},
   "outputs": [
    {
     "data": {
      "text/plain": [
       "'make_259.VOLVO.xlsx'"
      ]
     },
     "execution_count": 3,
     "metadata": {},
     "output_type": "execute_result"
    }
   ],
   "source": [
    "file = 'make_259.VOLVO.xlsx'#list_file[0]\n",
    "\n",
    "file"
   ]
  },
  {
   "cell_type": "code",
   "execution_count": 4,
   "id": "783f89be-0cdc-4912-942e-895cc5f09840",
   "metadata": {},
   "outputs": [],
   "source": [
    "import pandas as pd\n",
    "\n",
    "output_correct, output_error = pd.DataFrame(), pd.DataFrame()"
   ]
  },
  {
   "cell_type": "code",
   "execution_count": 5,
   "id": "1c28f4ff-eee5-4220-a711-cc2f93fe08f0",
   "metadata": {
    "scrolled": true
   },
   "outputs": [
    {
     "name": "stdout",
     "output_type": "stream",
     "text": [
      "总数量：2\n"
     ]
    },
    {
     "data": {
      "text/plain": [
       "['ELECTRIC', 'ELECTRIC']"
      ]
     },
     "execution_count": 5,
     "metadata": {},
     "output_type": "execute_result"
    }
   ],
   "source": [
    "input_ = pd.read_excel(f'./{param_date}/5.engine_2/{file}',\n",
    "                       header=0,\n",
    "                       dtype=str).fillna('')\n",
    "\n",
    "input_['Make No'] = input_['Make No'].astype(int)\n",
    "input_['Model No'] = input_['Model No'].astype(int)\n",
    "input_['Engine No'] = input_['Engine No'].astype(int)\n",
    "input_['Year'] = input_['Year'].astype(int)\n",
    "\n",
    "print(f'总数量：{len(input_)}')\n",
    "input_['Engine'].tolist()"
   ]
  },
  {
   "cell_type": "code",
   "execution_count": 6,
   "id": "5878a9f0-d639-4123-b6e0-bc564f72c2d6",
   "metadata": {},
   "outputs": [
    {
     "data": {
      "text/plain": [
       "0"
      ]
     },
     "execution_count": 6,
     "metadata": {},
     "output_type": "execute_result"
    }
   ],
   "source": [
    "a = 0\n",
    "\n",
    "a"
   ]
  },
  {
   "cell_type": "code",
   "execution_count": 7,
   "id": "9f61dd65-55da-4d0b-ba30-d0534eff0781",
   "metadata": {},
   "outputs": [
    {
     "data": {
      "text/plain": [
       "'error'"
      ]
     },
     "execution_count": 7,
     "metadata": {},
     "output_type": "execute_result"
    }
   ],
   "source": [
    "crawler_status = 'error'\n",
    "\n",
    "crawler_status"
   ]
  },
  {
   "cell_type": "code",
   "execution_count": 8,
   "id": "523cc867",
   "metadata": {
    "scrolled": true
   },
   "outputs": [
    {
     "name": "stdout",
     "output_type": "stream",
     "text": [
      "1\n"
     ]
    },
    {
     "data": {
      "text/plain": [
       "<Response [200]>"
      ]
     },
     "execution_count": 8,
     "metadata": {},
     "output_type": "execute_result"
    }
   ],
   "source": [
    "import requests\n",
    "import json\n",
    "\n",
    "import sys\n",
    "sys.path.append('../../00.Tools')\n",
    "from crawler_configuration import get_header, get_proxy\n",
    "\n",
    "payload = {'jsn': {'tab': 'catalog',\n",
    "                   'make': input_.loc[a, 'Make'],\n",
    "                   'year': int(input_.loc[a, 'Year']),\n",
    "                   'model': input_.loc[a, 'Model'],\n",
    "                   'carcode': input_.loc[a, 'Car Code'],\n",
    "                   'engine': input_.loc[a, 'Engine'],\n",
    "                   'nodetype': 'carcode'}}\n",
    "\n",
    "data = {'func': 'navnode_fetch',\n",
    "        'payload': json.dumps(payload),\n",
    "        'api_json_request': '1'}\n",
    "\n",
    "b = 0\n",
    "while True:\n",
    "\n",
    "    while True:\n",
    "        b += 1\n",
    "        print(b)\n",
    "        try:\n",
    "            resp = requests.post('https://www.rockauto.com/catalog/catalogapi.php',\n",
    "                                 data=data,\n",
    "                                 headers=get_header(),\n",
    "                                 proxies=get_proxy(),\n",
    "                                 timeout=(10, 10))\n",
    "            break\n",
    "        except:\n",
    "            continue\n",
    "\n",
    "    if resp.status_code == 200:\n",
    "        break\n",
    "\n",
    "resp"
   ]
  },
  {
   "cell_type": "code",
   "execution_count": 9,
   "id": "3be6677e-d86b-4f58-a0d7-fb2636a4bf34",
   "metadata": {
    "scrolled": true
   },
   "outputs": [
    {
     "data": {
      "text/plain": [
       "{'html_fill_sections': {'navchildren[]': ''},\n",
       " 'jsn': {'tab': 'catalog',\n",
       "  'make': 'VOLVO',\n",
       "  'year': 2023,\n",
       "  'model': 'XC40',\n",
       "  'carcode': '3454623',\n",
       "  'engine': 'ELECTRIC',\n",
       "  'nodetype': 'carcode',\n",
       "  'idepth': 0},\n",
       " 'collected_javascript': '/**UQ:4EB2F1B3**/\\nwindow.top.parent.window[\"_nck\"] = \"8LVLUxTaILBT+tLxkg8+3Ag7\\\\/0bbOhvn7P3rkFbL80\\\\/oQB6RvzNfa5dcHvATqXAMxw5whzaDEdxk+27zeij67BjKru6WqTdNqG6tiEsD1EZhbTv0XForkbYp+nLaIKxDXfb4DjpqS2ae95PzxKc98fOtz\\\\/IcT1SXVXpRlqFxhz8=\";\\n'}"
      ]
     },
     "execution_count": 9,
     "metadata": {},
     "output_type": "execute_result"
    }
   ],
   "source": [
    "json_ = resp.json()\n",
    "\n",
    "json_"
   ]
  },
  {
   "cell_type": "code",
   "execution_count": null,
   "id": "5326bc59-a4cb-4232-91e8-f1c2c606b488",
   "metadata": {},
   "outputs": [],
   "source": [
    "'redirect_to_url' in json_"
   ]
  },
  {
   "cell_type": "code",
   "execution_count": 10,
   "id": "00f39222-6ac6-4f7b-9797-d74781044b40",
   "metadata": {},
   "outputs": [
    {
     "data": {
      "text/plain": [
       "True"
      ]
     },
     "execution_count": 10,
     "metadata": {},
     "output_type": "execute_result"
    }
   ],
   "source": [
    "json_['jsn']['tab'] == 'catalog' and json_['jsn']['make'] == input_.loc[a, 'Make'] and json_['jsn']['year'] == input_.loc[a, 'Year'] and json_['jsn']['model'] == input_.loc[a, 'Model'] and json_['jsn']['carcode'] == input_.loc[a, 'Car Code'] and json_['jsn']['engine'] == input_.loc[a, 'Engine'] and json_['jsn']['nodetype'] == 'carcode' and 'collected_javascript' in json_"
   ]
  },
  {
   "cell_type": "code",
   "execution_count": 11,
   "id": "86ef5f53-4ba1-4024-af2a-5ad7c6898c6a",
   "metadata": {
    "scrolled": true
   },
   "outputs": [
    {
     "name": "stdout",
     "output_type": "stream",
     "text": [
      "\n"
     ]
    }
   ],
   "source": [
    "from bs4 import BeautifulSoup\n",
    "from lxml import etree\n",
    "\n",
    "soup = BeautifulSoup(json_['html_fill_sections']['navchildren[]'], 'lxml')\n",
    "html = etree.HTML(str(soup))\n",
    "\n",
    "with open('./group_1.html', 'w', encoding='UTF-8') as file:\n",
    "    file.write(str(soup))\n",
    "\n",
    "print(soup.prettify())"
   ]
  },
  {
   "cell_type": "code",
   "execution_count": 12,
   "id": "5ead8fcb-2178-428a-9f72-5730837cb4ff",
   "metadata": {
    "scrolled": true
   },
   "outputs": [
    {
     "ename": "AttributeError",
     "evalue": "'NoneType' object has no attribute 'xpath'",
     "output_type": "error",
     "traceback": [
      "\u001b[0;31m---------------------------------------------------------------------------\u001b[0m",
      "\u001b[0;31mAttributeError\u001b[0m                            Traceback (most recent call last)",
      "Cell \u001b[0;32mIn[12], line 1\u001b[0m\n\u001b[0;32m----> 1\u001b[0m list_json \u001b[38;5;241m=\u001b[39m \u001b[43mhtml\u001b[49m\u001b[38;5;241;43m.\u001b[39;49m\u001b[43mxpath\u001b[49m(\u001b[38;5;124m'\u001b[39m\u001b[38;5;124m//input[contains(@id, \u001b[39m\u001b[38;5;124m\"\u001b[39m\u001b[38;5;124mjsn[__GIP__\u001b[39m\u001b[38;5;124m\"\u001b[39m\u001b[38;5;124m)]/@value\u001b[39m\u001b[38;5;124m'\u001b[39m)\n\u001b[1;32m      3\u001b[0m list_json\n",
      "\u001b[0;31mAttributeError\u001b[0m: 'NoneType' object has no attribute 'xpath'"
     ]
    }
   ],
   "source": [
    "list_json = html.xpath('//input[contains(@id, \"jsn[__GIP__\")]/@value')\n",
    "\n",
    "list_json"
   ]
  },
  {
   "cell_type": "code",
   "execution_count": null,
   "id": "cf26ada9-0fad-4dca-829b-253d66cd0015",
   "metadata": {},
   "outputs": [],
   "source": [
    "list_group = []\n",
    "for json_ in list_json:\n",
    "    json_ = json.loads(json_)\n",
    "    if 'groupname' in json_ and json_['groupname'].strip() != '':\n",
    "        list_group.append(json_['groupname'])\n",
    "\n",
    "list_group"
   ]
  },
  {
   "cell_type": "code",
   "execution_count": null,
   "id": "27fcfa08-a1ae-4b23-a6b2-53eab79896b1",
   "metadata": {},
   "outputs": [],
   "source": [
    "len(list_group) == 0"
   ]
  },
  {
   "cell_type": "code",
   "execution_count": null,
   "id": "96f1239b-50f9-42d4-b879-831dc05deb48",
   "metadata": {
    "scrolled": true
   },
   "outputs": [],
   "source": [
    "df_temp = pd.DataFrame({'Make No': input_.loc[a, 'Make No'],\n",
    "                        'Make': input_.loc[a, 'Make'],\n",
    "                        'Model No': input_.loc[a, 'Model No'],\n",
    "                        'Model': input_.loc[a, 'Model'],\n",
    "                        'Engine No': input_.loc[a, 'Engine No'],\n",
    "                        'Engine': input_.loc[a, 'Engine'],\n",
    "                        'Car Code': input_.loc[a, 'Car Code'],\n",
    "                        'Year': input_.loc[a, 'Year'],\n",
    "                        'Group No': [i+1 for i in range(len(list_group))],\n",
    "                        'Group': list_group})\n",
    "\n",
    "output_correct = pd.concat([output_correct, df_temp], ignore_index=True).fillna('')\n",
    "\n",
    "output_correct"
   ]
  },
  {
   "cell_type": "code",
   "execution_count": null,
   "id": "fc4ed7f6-ed4f-431c-b944-b1690309cdae",
   "metadata": {},
   "outputs": [],
   "source": [
    "crawler_status = 'ok'\n",
    "\n",
    "crawler_status"
   ]
  },
  {
   "cell_type": "code",
   "execution_count": null,
   "id": "65c745d1-446e-46c5-9dec-819c9f7944d3",
   "metadata": {},
   "outputs": [],
   "source": [
    "if crawler_status == 'error':\n",
    "    df_temp = pd.DataFrame([{'Make No': input_.loc[a, 'Make No'],\n",
    "                             'Make': input_.loc[a, 'Make'],\n",
    "                             'Model No': input_.loc[a, 'Model No'],\n",
    "                             'Model': input_.loc[a, 'Model'],\n",
    "                             'Engine No': input_.loc[a, 'Engine No'],\n",
    "                             'Engine': input_.loc[a, 'Engine'],\n",
    "                             'Car Code': input_.loc[a, 'Car Code'],\n",
    "                             'Year': input_.loc[a, 'Year']}])\n",
    "\n",
    "    output_error = pd.concat([output_error, df_temp], ignore_index=True).fillna('')\n",
    "\n",
    "output_error"
   ]
  },
  {
   "cell_type": "code",
   "execution_count": null,
   "id": "7fd477de",
   "metadata": {},
   "outputs": [],
   "source": [
    "if not output_correct.empty:\n",
    "    output_correct = output_correct.sort_values(by=['Make No', 'Model No', 'Engine No', 'Year', 'Group No'],\n",
    "                                                ascending=[True, True, True, False, True],\n",
    "                                                ignore_index=True)\n",
    "    output_correct.to_excel('./test_group_1.xlsx', index=False)\n",
    "\n",
    "output_correct"
   ]
  },
  {
   "cell_type": "code",
   "execution_count": null,
   "id": "39a5441b-7f69-4812-aad8-7e10a1a24e78",
   "metadata": {},
   "outputs": [],
   "source": [
    "if not output_error.empty:\n",
    "    output_error = output_error.sort_values(by=['Make No', 'Model No', 'Engine No', 'Year'],\n",
    "                                            ascending=[True, True, True, False],\n",
    "                                            ignore_index=True)\n",
    "    output_error.to_excel('./test_group_1_error.xlsx', index=False)\n",
    "\n",
    "output_error"
   ]
  },
  {
   "cell_type": "code",
   "execution_count": null,
   "id": "ba5d9f77-7464-4ad5-a42b-1fa0c0505832",
   "metadata": {},
   "outputs": [],
   "source": []
  }
 ],
 "metadata": {
  "kernelspec": {
   "display_name": "Python 3 (ipykernel)",
   "language": "python",
   "name": "python3"
  },
  "language_info": {
   "codemirror_mode": {
    "name": "ipython",
    "version": 3
   },
   "file_extension": ".py",
   "mimetype": "text/x-python",
   "name": "python",
   "nbconvert_exporter": "python",
   "pygments_lexer": "ipython3",
   "version": "3.11.3"
  }
 },
 "nbformat": 4,
 "nbformat_minor": 5
}
