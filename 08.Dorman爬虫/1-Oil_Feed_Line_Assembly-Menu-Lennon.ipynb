{
 "cells": [
  {
   "cell_type": "markdown",
   "id": "abb5ed70",
   "metadata": {},
   "source": [
    "- Update: 2023.03.13\n",
    "\n",
    "# 0. 配置参数\n",
    "\n",
    "- `dict_page`：品类链接的参数\n",
    "- `out`：保存结果的路径"
   ]
  },
  {
   "cell_type": "code",
   "execution_count": 1,
   "id": "40f1ba8e",
   "metadata": {},
   "outputs": [],
   "source": [
    "dict_page = {'url': 'https://www.dormanproducts.com/gsearch.aspx?type=keyword&origin=keyword&q=Oil+Feed+Line+Assembly',\n",
    "             'max_page': 1}\n",
    "\n",
    "out = '../../file/dorman-oil_feed_line_assembly_1-menu.xlsx'"
   ]
  },
  {
   "cell_type": "code",
   "execution_count": 2,
   "id": "306b3341",
   "metadata": {},
   "outputs": [],
   "source": [
    "from selenium import webdriver\n",
    "from selenium.webdriver.common.by import By\n",
    "import random\n",
    "import time"
   ]
  },
  {
   "cell_type": "code",
   "execution_count": 3,
   "id": "e3eaf3e3",
   "metadata": {},
   "outputs": [],
   "source": [
    "chrome_options = webdriver.ChromeOptions()\n",
    "#chrome_options.add_argument('--incognito')\n",
    "chrome_options.add_argument('user-agent=Mozilla/5.0 (Windows NT 10.0; Win64; x64) AppleWebKit/537.36 (KHTML, like Gecko) Chrome/109.0.0.0 Safari/537.36')\n",
    "browser = webdriver.Chrome(options=chrome_options)"
   ]
  },
  {
   "cell_type": "code",
   "execution_count": 4,
   "id": "0d302df6",
   "metadata": {},
   "outputs": [
    {
     "name": "stdout",
     "output_type": "stream",
     "text": [
      "爬取页面1，实在是太6了！\n"
     ]
    }
   ],
   "source": [
    "list_manufacturer = []\n",
    "list_category = []\n",
    "list_summary = []\n",
    "list_url = []\n",
    "list_href = []\n",
    "for i in range(dict_page['max_page']):\n",
    "    browser.get(dict_page['url'].replace('WHAT_THE_FUCK', str(i*100)))\n",
    "    while len(browser.find_elements(by=By.CLASS_NAME, value='captcha-mid')) != 0:\n",
    "        print('我尼玛反爬，换ip...')\n",
    "        browser.quit()\n",
    "        time.sleep(3)\n",
    "        browser = webdriver.Chrome(options=chrome_options)\n",
    "        browser.get(dict_page['url'].replace('WHAT_THE_FUCK', str(i*100)))\n",
    "    \n",
    "    print('爬取页面'+str(i+1)+'，实在是太6了！')\n",
    "    list_article = browser.find_elements(by=By.XPATH, value='//*[@class=\"row searchResults\"]')\n",
    "    for article in list_article:\n",
    "        img = article.find_element(by=By.CLASS_NAME, value='searchItems-img')\n",
    "        list_url.append(img.find_element(by=By.TAG_NAME, value='a').get_attribute('href'))\n",
    "        list_href.append(img.find_element(by=By.TAG_NAME, value='img').get_attribute('src'))\n",
    "        info = article.find_element(by=By.CLASS_NAME, value='searchItems-info')\n",
    "        list_manufacturer.append(info.find_element(by=By.TAG_NAME, value='h2').text)\n",
    "        list_category.append(info.find_elements(by=By.TAG_NAME, value='div')[1].text)\n",
    "        if len(info.find_elements(by=By.TAG_NAME, value='p')) == 0:\n",
    "            summary = ''\n",
    "        else:\n",
    "            summary = info.find_elements(by=By.TAG_NAME, value='p')[0].text\n",
    "        list_summary.append(summary)\n",
    "    \n",
    "    time.sleep(1)\n",
    "\n",
    "browser.quit()"
   ]
  },
  {
   "cell_type": "code",
   "execution_count": 5,
   "id": "31ddf5b6",
   "metadata": {},
   "outputs": [],
   "source": [
    "import pandas as pd"
   ]
  },
  {
   "cell_type": "code",
   "execution_count": 6,
   "id": "6818c431",
   "metadata": {},
   "outputs": [],
   "source": [
    "pd.DataFrame({'工厂号': list_manufacturer,\n",
    "              '品类': list_category,\n",
    "              '段落': list_summary,\n",
    "              '链接': list_url,\n",
    "              '图片': list_href}).to_excel(out, index=False)"
   ]
  },
  {
   "cell_type": "code",
   "execution_count": null,
   "id": "e726ba5a",
   "metadata": {},
   "outputs": [],
   "source": []
  }
 ],
 "metadata": {
  "kernelspec": {
   "display_name": "Python 3 (ipykernel)",
   "language": "python",
   "name": "python3"
  },
  "language_info": {
   "codemirror_mode": {
    "name": "ipython",
    "version": 3
   },
   "file_extension": ".py",
   "mimetype": "text/x-python",
   "name": "python",
   "nbconvert_exporter": "python",
   "pygments_lexer": "ipython3",
   "version": "3.9.12"
  }
 },
 "nbformat": 4,
 "nbformat_minor": 5
}
