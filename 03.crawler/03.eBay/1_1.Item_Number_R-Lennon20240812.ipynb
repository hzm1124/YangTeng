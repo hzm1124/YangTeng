{
 "cells": [
  {
   "cell_type": "code",
   "execution_count": 1,
   "id": "783f89be-0cdc-4912-942e-895cc5f09840",
   "metadata": {},
   "outputs": [],
   "source": [
    "import pandas as pd\n",
    "\n",
    "output_error = pd.DataFrame()"
   ]
  },
  {
   "cell_type": "code",
   "execution_count": 2,
   "id": "1c28f4ff-eee5-4220-a711-cc2f93fe08f0",
   "metadata": {
    "scrolled": true
   },
   "outputs": [
    {
     "name": "stdout",
     "output_type": "stream",
     "text": [
      "总数量：2\n"
     ]
    },
    {
     "data": {
      "text/plain": [
       "[1, 2]"
      ]
     },
     "execution_count": 2,
     "metadata": {},
     "output_type": "execute_result"
    }
   ],
   "source": [
    "input_ = pd.read_excel('./file/input.xlsx',\n",
    "                       header=0,\n",
    "                       dtype=str).fillna('')\n",
    "\n",
    "input_['No'] = input_['No'].astype(int)\n",
    "\n",
    "print(f'总数量：{len(input_)}')\n",
    "input_['No'].tolist()"
   ]
  },
  {
   "cell_type": "code",
   "execution_count": 3,
   "id": "5878a9f0-d639-4123-b6e0-bc564f72c2d6",
   "metadata": {},
   "outputs": [
    {
     "data": {
      "text/plain": [
       "0"
      ]
     },
     "execution_count": 3,
     "metadata": {},
     "output_type": "execute_result"
    }
   ],
   "source": [
    "a = 0\n",
    "\n",
    "a"
   ]
  },
  {
   "cell_type": "code",
   "execution_count": 4,
   "id": "9f61dd65-55da-4d0b-ba30-d0534eff0781",
   "metadata": {},
   "outputs": [
    {
     "data": {
      "text/plain": [
       "'error'"
      ]
     },
     "execution_count": 4,
     "metadata": {},
     "output_type": "execute_result"
    }
   ],
   "source": [
    "crawler_status = 'error'\n",
    "\n",
    "crawler_status"
   ]
  },
  {
   "cell_type": "code",
   "execution_count": 5,
   "id": "523cc867",
   "metadata": {
    "scrolled": true
   },
   "outputs": [
    {
     "name": "stdout",
     "output_type": "stream",
     "text": [
      "1 1\n",
      "1 2\n"
     ]
    },
    {
     "data": {
      "text/plain": [
       "<Response [200]>"
      ]
     },
     "execution_count": 5,
     "metadata": {},
     "output_type": "execute_result"
    }
   ],
   "source": [
    "import requests\n",
    "\n",
    "import sys\n",
    "sys.path.append('../00.Tools')\n",
    "from crawler_configuration import get_header, get_proxy\n",
    "\n",
    "import json\n",
    "\n",
    "from bs4 import BeautifulSoup\n",
    "from lxml import etree\n",
    "\n",
    "url = input_.loc[a, 'Url']\n",
    "\n",
    "dict_param = {}\n",
    "list_param = url.split('?')[1].split('&') if '?' in url else []\n",
    "for param in list_param:\n",
    "    dict_param[param.split('=')[0]] = param.split('=')[1]\n",
    "\n",
    "dict_param.pop('_pgn', '')\n",
    "dict_param['orig_cvip'] = 'true'\n",
    "dict_param['_ipg'] = '240'\n",
    "\n",
    "if url.startswith('https://www.ebay.com/'):\n",
    "    dict_param['_ul'] = 'US'\n",
    "    dict_param['_stpos'] = '91710'\n",
    "elif url.startswith('https://www.ebay.de/'):\n",
    "    dict_param['_ul'] = 'DE'\n",
    "    dict_param['_stpos'] = '10115'\n",
    "elif url.startswith('https://www.ebay.co.uk/'):\n",
    "    dict_param['_ul'] = 'GB'\n",
    "    dict_param['_stpos'] = 'BS81QU'\n",
    "elif url.startswith('https://www.ebay.com.au/'):\n",
    "    dict_param['_ul'] = 'AU'\n",
    "    dict_param['_stpos'] = '2019'\n",
    "elif url.startswith('https://www.ebay.ca/'):\n",
    "    dict_param['_ul'] = 'CA'\n",
    "    dict_param['_stpos'] = 'M5S2E8'\n",
    "\n",
    "url = url.split('?')[0] + '?'\n",
    "for key, value in dict_param.items():\n",
    "    url += f'{key}={value}&'\n",
    "\n",
    "list_item_number, i = [], 1\n",
    "while True:\n",
    "    b = 0\n",
    "    while True:\n",
    "        b += 1\n",
    "        print(b, i)\n",
    "        try:\n",
    "            resp = requests.get(f'''{url}_pgn={i}''',\n",
    "                                headers=get_header(ua=False),\n",
    "                                proxies=get_proxy(),\n",
    "                                timeout=(10, 10))\n",
    "            \n",
    "            if resp.status_code == 200:\n",
    "                break\n",
    "        except KeyboardInterrupt:\n",
    "            break\n",
    "        except:\n",
    "            continue\n",
    "\n",
    "    # = = = = = = = = = = = = = = =\n",
    "\n",
    "    soup = BeautifulSoup(resp.text, 'lxml')\n",
    "    html = etree.HTML(str(soup))\n",
    "    \n",
    "    # = = = = = = = = = = = = = = =\n",
    "\n",
    "    json_ = json.loads(resp.text.split('$MC=(window.$MC||[]).concat(')[1].split(']}]})</script>')[0].strip() + ']}]}')\n",
    "    \n",
    "    # = = = = = = = = = = = = = = =\n",
    "\n",
    "    list_item_number += [w[2]['model']['action']['params']['itemId'].strip() if type(w[2]) == dict and 'model' in w[2] and 'action' in w[2]['model'] and 'params' in w[2]['model']['action'] and 'itemId' in w[2]['model']['action']['params'] else '' for w in json_['o']['w']]\n",
    "    while '' in list_item_number:\n",
    "        list_item_number.remove('')\n",
    "\n",
    "    list_item_number = sorted(list(set(list_item_number)), key=list_item_number.index)\n",
    "    \n",
    "    # = = = = = = = = = = = = = = =\n",
    "\n",
    "    i += 1\n",
    "\n",
    "    # = = = = = = = = = = = = = = =\n",
    "\n",
    "    if not html.xpath('//a[@type=\"next\"]'):\n",
    "        break\n",
    "\n",
    "resp"
   ]
  },
  {
   "cell_type": "code",
   "execution_count": 6,
   "id": "40668159-8e06-4b8d-b297-f1abaa9964a6",
   "metadata": {},
   "outputs": [
    {
     "data": {
      "text/plain": [
       "False"
      ]
     },
     "execution_count": 6,
     "metadata": {},
     "output_type": "execute_result"
    }
   ],
   "source": [
    "len(list_item_number) == 0"
   ]
  },
  {
   "cell_type": "code",
   "execution_count": 7,
   "id": "b74a87d3-bb2b-45bc-a374-df882b28cdff",
   "metadata": {},
   "outputs": [
    {
     "data": {
      "text/html": [
       "<div>\n",
       "<style scoped>\n",
       "    .dataframe tbody tr th:only-of-type {\n",
       "        vertical-align: middle;\n",
       "    }\n",
       "\n",
       "    .dataframe tbody tr th {\n",
       "        vertical-align: top;\n",
       "    }\n",
       "\n",
       "    .dataframe thead th {\n",
       "        text-align: right;\n",
       "    }\n",
       "</style>\n",
       "<table border=\"1\" class=\"dataframe\">\n",
       "  <thead>\n",
       "    <tr style=\"text-align: right;\">\n",
       "      <th></th>\n",
       "      <th>No</th>\n",
       "      <th>Item Number</th>\n",
       "      <th>Url</th>\n",
       "    </tr>\n",
       "  </thead>\n",
       "  <tbody>\n",
       "    <tr>\n",
       "      <th>0</th>\n",
       "      <td>1</td>\n",
       "      <td>235461387733</td>\n",
       "      <td>https://www.ebay.com/itm/235461387733?_ul=US&amp;_...</td>\n",
       "    </tr>\n",
       "    <tr>\n",
       "      <th>1</th>\n",
       "      <td>2</td>\n",
       "      <td>233621258535</td>\n",
       "      <td>https://www.ebay.com/itm/233621258535?_ul=US&amp;_...</td>\n",
       "    </tr>\n",
       "    <tr>\n",
       "      <th>2</th>\n",
       "      <td>3</td>\n",
       "      <td>334922305483</td>\n",
       "      <td>https://www.ebay.com/itm/334922305483?_ul=US&amp;_...</td>\n",
       "    </tr>\n",
       "    <tr>\n",
       "      <th>3</th>\n",
       "      <td>4</td>\n",
       "      <td>255586148611</td>\n",
       "      <td>https://www.ebay.com/itm/255586148611?_ul=US&amp;_...</td>\n",
       "    </tr>\n",
       "    <tr>\n",
       "      <th>4</th>\n",
       "      <td>5</td>\n",
       "      <td>234277033709</td>\n",
       "      <td>https://www.ebay.com/itm/234277033709?_ul=US&amp;_...</td>\n",
       "    </tr>\n",
       "    <tr>\n",
       "      <th>...</th>\n",
       "      <td>...</td>\n",
       "      <td>...</td>\n",
       "      <td>...</td>\n",
       "    </tr>\n",
       "    <tr>\n",
       "      <th>413</th>\n",
       "      <td>414</td>\n",
       "      <td>335511427393</td>\n",
       "      <td>https://www.ebay.com/itm/335511427393?_ul=US&amp;_...</td>\n",
       "    </tr>\n",
       "    <tr>\n",
       "      <th>414</th>\n",
       "      <td>415</td>\n",
       "      <td>234374652511</td>\n",
       "      <td>https://www.ebay.com/itm/234374652511?_ul=US&amp;_...</td>\n",
       "    </tr>\n",
       "    <tr>\n",
       "      <th>415</th>\n",
       "      <td>416</td>\n",
       "      <td>335501268202</td>\n",
       "      <td>https://www.ebay.com/itm/335501268202?_ul=US&amp;_...</td>\n",
       "    </tr>\n",
       "    <tr>\n",
       "      <th>416</th>\n",
       "      <td>417</td>\n",
       "      <td>256081676427</td>\n",
       "      <td>https://www.ebay.com/itm/256081676427?_ul=US&amp;_...</td>\n",
       "    </tr>\n",
       "    <tr>\n",
       "      <th>417</th>\n",
       "      <td>418</td>\n",
       "      <td>335356514587</td>\n",
       "      <td>https://www.ebay.com/itm/335356514587?_ul=US&amp;_...</td>\n",
       "    </tr>\n",
       "  </tbody>\n",
       "</table>\n",
       "<p>418 rows × 3 columns</p>\n",
       "</div>"
      ],
      "text/plain": [
       "      No   Item Number                                                Url\n",
       "0      1  235461387733  https://www.ebay.com/itm/235461387733?_ul=US&_...\n",
       "1      2  233621258535  https://www.ebay.com/itm/233621258535?_ul=US&_...\n",
       "2      3  334922305483  https://www.ebay.com/itm/334922305483?_ul=US&_...\n",
       "3      4  255586148611  https://www.ebay.com/itm/255586148611?_ul=US&_...\n",
       "4      5  234277033709  https://www.ebay.com/itm/234277033709?_ul=US&_...\n",
       "..   ...           ...                                                ...\n",
       "413  414  335511427393  https://www.ebay.com/itm/335511427393?_ul=US&_...\n",
       "414  415  234374652511  https://www.ebay.com/itm/234374652511?_ul=US&_...\n",
       "415  416  335501268202  https://www.ebay.com/itm/335501268202?_ul=US&_...\n",
       "416  417  256081676427  https://www.ebay.com/itm/256081676427?_ul=US&_...\n",
       "417  418  335356514587  https://www.ebay.com/itm/335356514587?_ul=US&_...\n",
       "\n",
       "[418 rows x 3 columns]"
      ]
     },
     "execution_count": 7,
     "metadata": {},
     "output_type": "execute_result"
    }
   ],
   "source": [
    "output = pd.DataFrame({'No': [i+1 for i in range(len(list_item_number))],\n",
    "                       'Item Number': list_item_number})\n",
    "\n",
    "if url.startswith('https://www.ebay.com/'):\n",
    "    output['Url'] = [f'https://www.ebay.com/itm/{item_number}?_ul=US&_stpos=91710&orig_cvip=true' for item_number in output['Item Number'].tolist()]\n",
    "elif url.startswith('https://www.ebay.de/'):\n",
    "    output['Url'] = [f'https://www.ebay.de/itm/{item_number}?_ul=DE&_stpos=10115&orig_cvip=true' for item_number in output['Item Number'].tolist()]\n",
    "elif url.startswith('https://www.ebay.co.uk/'):\n",
    "    output['Url'] = [f'https://www.ebay.co.uk/itm/{item_number}?_ul=GB&_stpos=BS81QU&orig_cvip=true' for item_number in output['Item Number'].tolist()]\n",
    "elif url.startswith('https://www.ebay.com.au/'):\n",
    "    output['Url'] = [f'https://www.ebay.com.au/itm/{item_number}?_ul=AU&_stpos=2019&orig_cvip=true' for item_number in output['Item Number'].tolist()]\n",
    "elif url.startswith('https://www.ebay.ca/'):\n",
    "    output['Url'] = [f'https://www.ebay.ca/itm/{item_number}?_ul=CA&_stpos=M5S2E8&orig_cvip=true' for item_number in output['Item Number'].tolist()]\n",
    "\n",
    "output = output.sort_values(by=['No'],\n",
    "                            ascending=[True],\n",
    "                            ignore_index=True)\n",
    "\n",
    "output.to_excel('./test_item_number.xlsx', index=False)\n",
    "\n",
    "output"
   ]
  },
  {
   "cell_type": "code",
   "execution_count": 8,
   "id": "fc4ed7f6-ed4f-431c-b944-b1690309cdae",
   "metadata": {},
   "outputs": [
    {
     "data": {
      "text/plain": [
       "'ok'"
      ]
     },
     "execution_count": 8,
     "metadata": {},
     "output_type": "execute_result"
    }
   ],
   "source": [
    "crawler_status = 'ok'\n",
    "\n",
    "crawler_status"
   ]
  },
  {
   "cell_type": "code",
   "execution_count": 9,
   "id": "65c745d1-446e-46c5-9dec-819c9f7944d3",
   "metadata": {},
   "outputs": [
    {
     "data": {
      "text/html": [
       "<div>\n",
       "<style scoped>\n",
       "    .dataframe tbody tr th:only-of-type {\n",
       "        vertical-align: middle;\n",
       "    }\n",
       "\n",
       "    .dataframe tbody tr th {\n",
       "        vertical-align: top;\n",
       "    }\n",
       "\n",
       "    .dataframe thead th {\n",
       "        text-align: right;\n",
       "    }\n",
       "</style>\n",
       "<table border=\"1\" class=\"dataframe\">\n",
       "  <thead>\n",
       "    <tr style=\"text-align: right;\">\n",
       "      <th></th>\n",
       "    </tr>\n",
       "  </thead>\n",
       "  <tbody>\n",
       "  </tbody>\n",
       "</table>\n",
       "</div>"
      ],
      "text/plain": [
       "Empty DataFrame\n",
       "Columns: []\n",
       "Index: []"
      ]
     },
     "execution_count": 9,
     "metadata": {},
     "output_type": "execute_result"
    }
   ],
   "source": [
    "if crawler_status == 'error':\n",
    "    output_error = pd.concat([output_error, pd.DataFrame([input_.iloc[a]]).reset_index(drop=True)], ignore_index=True).fillna('')\n",
    "\n",
    "output_error"
   ]
  },
  {
   "cell_type": "code",
   "execution_count": 10,
   "id": "39a5441b-7f69-4812-aad8-7e10a1a24e78",
   "metadata": {},
   "outputs": [
    {
     "data": {
      "text/html": [
       "<div>\n",
       "<style scoped>\n",
       "    .dataframe tbody tr th:only-of-type {\n",
       "        vertical-align: middle;\n",
       "    }\n",
       "\n",
       "    .dataframe tbody tr th {\n",
       "        vertical-align: top;\n",
       "    }\n",
       "\n",
       "    .dataframe thead th {\n",
       "        text-align: right;\n",
       "    }\n",
       "</style>\n",
       "<table border=\"1\" class=\"dataframe\">\n",
       "  <thead>\n",
       "    <tr style=\"text-align: right;\">\n",
       "      <th></th>\n",
       "    </tr>\n",
       "  </thead>\n",
       "  <tbody>\n",
       "  </tbody>\n",
       "</table>\n",
       "</div>"
      ],
      "text/plain": [
       "Empty DataFrame\n",
       "Columns: []\n",
       "Index: []"
      ]
     },
     "execution_count": 10,
     "metadata": {},
     "output_type": "execute_result"
    }
   ],
   "source": [
    "if not output_error.empty:\n",
    "    output_error = output_error.sort_values(by=['No'],\n",
    "                                            ascending=[False],\n",
    "                                            ignore_index=True)\n",
    "    output_error.to_excel('./test_item_number_error.xlsx', index=False)\n",
    "\n",
    "output_error"
   ]
  },
  {
   "cell_type": "code",
   "execution_count": null,
   "id": "a31a202d-21e6-4a6a-8107-95dbbd0cf29b",
   "metadata": {},
   "outputs": [],
   "source": []
  }
 ],
 "metadata": {
  "kernelspec": {
   "display_name": "Python 3 (ipykernel)",
   "language": "python",
   "name": "python3"
  },
  "language_info": {
   "codemirror_mode": {
    "name": "ipython",
    "version": 3
   },
   "file_extension": ".py",
   "mimetype": "text/x-python",
   "name": "python",
   "nbconvert_exporter": "python",
   "pygments_lexer": "ipython3",
   "version": "3.11.3"
  }
 },
 "nbformat": 4,
 "nbformat_minor": 5
}
