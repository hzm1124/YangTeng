{
 "cells": [
  {
   "cell_type": "markdown",
   "id": "b1b5a13e",
   "metadata": {},
   "source": [
    "- Update: 2023.01.12\n",
    "\n",
    "# 0. 配置参数\n",
    "\n",
    "- `category`：what the fuck"
   ]
  },
  {
   "cell_type": "code",
   "execution_count": 1,
   "id": "610df8a9",
   "metadata": {},
   "outputs": [],
   "source": [
    "category = 'Brake Hydraulic Hose'"
   ]
  },
  {
   "cell_type": "code",
   "execution_count": 2,
   "id": "b2d8bc68",
   "metadata": {},
   "outputs": [],
   "source": [
    "from selenium.webdriver import Chrome\n",
    "from selenium.webdriver.common.by import By\n",
    "import time\n",
    "\n",
    "browser = Chrome()"
   ]
  },
  {
   "cell_type": "code",
   "execution_count": 3,
   "id": "f6960f13",
   "metadata": {},
   "outputs": [],
   "source": [
    "browser.get('https://www.rockauto.com/en/partsearch/')"
   ]
  },
  {
   "cell_type": "code",
   "execution_count": 4,
   "id": "eb80006e",
   "metadata": {},
   "outputs": [],
   "source": [
    "import time"
   ]
  },
  {
   "cell_type": "code",
   "execution_count": 5,
   "id": "9cc9ca0e",
   "metadata": {},
   "outputs": [],
   "source": [
    "browser.find_element(by=By.ID, value='partnum_partsearch_007').send_keys('2201063')\n",
    "browser.find_element(by=By.ID, value='partsearch[do][partsearch_007]').click()\n",
    "time.sleep(3)\n",
    "browser.find_element(by=By.CLASS_NAME, value='listing-final-partnumber').click()"
   ]
  },
  {
   "cell_type": "code",
   "execution_count": 6,
   "id": "c1c35df3",
   "metadata": {},
   "outputs": [],
   "source": [
    "import pyperclip"
   ]
  },
  {
   "cell_type": "code",
   "execution_count": 7,
   "id": "267afca2",
   "metadata": {},
   "outputs": [
    {
     "name": "stdout",
     "output_type": "stream",
     "text": [
      "make: ['Chrysler', 'Dodge', 'Plymouth']\n",
      "\n",
      "= = = = = = = = = = = = = = = = = =\n",
      "\n",
      "vehicle:\n",
      "Chrysler Grand Voyager 1996-2000\n",
      "Chrysler Town & Country 1996-2000\n",
      "Chrysler Voyager 1996-2000\n",
      "Dodge Caravan 1996-2000\n",
      "Dodge Grand Caravan 1996-2000\n",
      "Plymouth Grand Voyager 1996-2000\n",
      "Plymouth Voyager 1996-2000\n"
     ]
    }
   ],
   "source": [
    "list_tr = browser.find_element(by=By.CLASS_NAME, value='buyersguide-nested').find_elements(by=By.TAG_NAME, value='tr')\n",
    "list_vehicle = []\n",
    "list_make = []\n",
    "for tr in list_tr:\n",
    "    list_td = tr.find_elements(by=By.TAG_NAME, value='td')\n",
    "    list_make_char = list(list_td[0].text.lower())\n",
    "    make = list_make_char[0].upper() + ''.join(list_make_char[1:])\n",
    "    list_make.append(make)\n",
    "    list_model_str = list_td[1].text.lower().split(' ')\n",
    "    for i in range(len(list_model_str)):\n",
    "        list_model_char = list(list_model_str[i])\n",
    "        list_model_str[i] = list_model_char[0].upper() + ''.join(list_model_char[1:])\n",
    "    model = ' '.join(list_model_str)\n",
    "    year = list_td[2].text\n",
    "    list_vehicle.append(make + ',' + model + ',' + year)\n",
    "\n",
    "list_make = list(set(list_make))\n",
    "list_make.sort()\n",
    "print('make: ' + str(list_make))\n",
    "print('\\n= = = = = = = = = = = = = = = = = =\\n')\n",
    "    \n",
    "list_vehicle.sort()\n",
    "vehicle = '\\n'.join([i.replace(',', ' ') for i in list_vehicle])\n",
    "print('vehicle:')\n",
    "print(vehicle)\n",
    "pyperclip.copy(vehicle)"
   ]
  },
  {
   "cell_type": "code",
   "execution_count": 8,
   "id": "073e4b88",
   "metadata": {},
   "outputs": [
    {
     "name": "stdout",
     "output_type": "stream",
     "text": [
      "For Chrysler Grand Voyager 1996-2000 Town & Country Voyager Dodge Caravan Grand Caravan Plymouth Grand Voyager Voyager Brake Hydraulic Hose,\n"
     ]
    }
   ],
   "source": [
    "description = 'For ' + list_vehicle[0].replace(',', ' ')\n",
    "pre_index = 0\n",
    "for vehicle in list_vehicle[1:]:\n",
    "    list_str = vehicle.split(',')\n",
    "    index = list_make.index(list_str[0])\n",
    "    if index != pre_index:\n",
    "        description += ' ' + list_str[0] + ' ' + list_str[1]\n",
    "        pre_index = index\n",
    "    else:\n",
    "        description += ' ' + list_str[1]\n",
    "\n",
    "description += ' ' + category + ','\n",
    "print(description)"
   ]
  },
  {
   "cell_type": "code",
   "execution_count": null,
   "id": "9d72b10d",
   "metadata": {},
   "outputs": [],
   "source": []
  },
  {
   "cell_type": "code",
   "execution_count": null,
   "id": "ad66aa2e",
   "metadata": {},
   "outputs": [],
   "source": []
  },
  {
   "cell_type": "code",
   "execution_count": null,
   "id": "253c9cf8",
   "metadata": {},
   "outputs": [],
   "source": []
  },
  {
   "cell_type": "code",
   "execution_count": 9,
   "id": "c67e4a2c",
   "metadata": {},
   "outputs": [],
   "source": [
    "browser.close()"
   ]
  },
  {
   "cell_type": "code",
   "execution_count": null,
   "id": "70226bae",
   "metadata": {},
   "outputs": [],
   "source": []
  }
 ],
 "metadata": {
  "kernelspec": {
   "display_name": "Python 3 (ipykernel)",
   "language": "python",
   "name": "python3"
  },
  "language_info": {
   "codemirror_mode": {
    "name": "ipython",
    "version": 3
   },
   "file_extension": ".py",
   "mimetype": "text/x-python",
   "name": "python",
   "nbconvert_exporter": "python",
   "pygments_lexer": "ipython3",
   "version": "3.9.12"
  }
 },
 "nbformat": 4,
 "nbformat_minor": 5
}
