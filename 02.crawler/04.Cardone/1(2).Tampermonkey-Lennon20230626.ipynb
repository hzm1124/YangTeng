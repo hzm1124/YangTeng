{
 "cells": [
  {
   "cell_type": "code",
   "execution_count": 1,
   "id": "14ca4672",
   "metadata": {},
   "outputs": [],
   "source": [
    "import os"
   ]
  },
  {
   "cell_type": "code",
   "execution_count": 2,
   "id": "a3369d1a",
   "metadata": {},
   "outputs": [
    {
     "data": {
      "text/plain": [
       "5"
      ]
     },
     "execution_count": 2,
     "metadata": {},
     "output_type": "execute_result"
    }
   ],
   "source": [
    "list_file = list(os.walk('./menu'))[0][2]\n",
    "if '.DS_Store' in list_file:\n",
    "   list_file.remove('.DS_Store')\n",
    "\n",
    "len(list_file)"
   ]
  },
  {
   "cell_type": "code",
   "execution_count": 3,
   "id": "552c5c8c",
   "metadata": {},
   "outputs": [],
   "source": [
    "import pandas as pd"
   ]
  },
  {
   "cell_type": "code",
   "execution_count": 4,
   "id": "19a50da8",
   "metadata": {},
   "outputs": [
    {
     "data": {
      "text/html": [
       "<div>\n",
       "<style scoped>\n",
       "    .dataframe tbody tr th:only-of-type {\n",
       "        vertical-align: middle;\n",
       "    }\n",
       "\n",
       "    .dataframe tbody tr th {\n",
       "        vertical-align: top;\n",
       "    }\n",
       "\n",
       "    .dataframe thead th {\n",
       "        text-align: right;\n",
       "    }\n",
       "</style>\n",
       "<table border=\"1\" class=\"dataframe\">\n",
       "  <thead>\n",
       "    <tr style=\"text-align: right;\">\n",
       "      <th></th>\n",
       "      <th>Title</th>\n",
       "      <th>Vehicle</th>\n",
       "      <th>Url</th>\n",
       "    </tr>\n",
       "  </thead>\n",
       "  <tbody>\n",
       "  </tbody>\n",
       "</table>\n",
       "</div>"
      ],
      "text/plain": [
       "Empty DataFrame\n",
       "Columns: [Title, Vehicle, Url]\n",
       "Index: []"
      ]
     },
     "execution_count": 4,
     "metadata": {},
     "output_type": "execute_result"
    }
   ],
   "source": [
    "df = pd.DataFrame(columns=['Title', 'Vehicle', 'Url'])\n",
    "\n",
    "df"
   ]
  },
  {
   "cell_type": "code",
   "execution_count": 5,
   "id": "000d53d7",
   "metadata": {},
   "outputs": [],
   "source": [
    "import json"
   ]
  },
  {
   "cell_type": "code",
   "execution_count": 6,
   "id": "1d3df716",
   "metadata": {},
   "outputs": [
    {
     "name": "stdout",
     "output_type": "stream",
     "text": [
      "www.cardone.com_fuel-air-exhaust_air-intake_fuel-injection-throttle-body__limit=96.txt\n",
      "www.cardone.com_fuel-air-exhaust_air-intake_fuel-injection-throttle-body__limit=96&page=5.txt\n",
      "www.cardone.com_fuel-air-exhaust_air-intake_fuel-injection-throttle-body__limit=96&page=4.txt\n",
      "www.cardone.com_fuel-air-exhaust_air-intake_fuel-injection-throttle-body__limit=96&page=3.txt\n",
      "www.cardone.com_fuel-air-exhaust_air-intake_fuel-injection-throttle-body__limit=96&page=2.txt\n"
     ]
    }
   ],
   "source": [
    "for file in list_file:\n",
    "    print(file)\n",
    "    with open('./menu/' + file) as f:\n",
    "        list_part = f.read()[1:-1].split('},{')\n",
    "        for i in range(len(list_part)):\n",
    "            if i == 0:\n",
    "                part = json.loads(list_part[i] + '}')\n",
    "            elif i == len(list_part) - 1:\n",
    "                part = json.loads('{' + list_part[i])\n",
    "            else:\n",
    "                part = json.loads('{' + list_part[i] + '}')\n",
    "                \n",
    "            df_temp = pd.DataFrame([{'Title': part['Title'],\n",
    "                                     'Vehicle': part['Vehicle'],\n",
    "                                     'Url': part['Url']}])\n",
    "            df = pd.concat([df, df_temp], ignore_index=True)"
   ]
  },
  {
   "cell_type": "code",
   "execution_count": 7,
   "id": "e7c8e52b",
   "metadata": {},
   "outputs": [
    {
     "data": {
      "text/html": [
       "<div>\n",
       "<style scoped>\n",
       "    .dataframe tbody tr th:only-of-type {\n",
       "        vertical-align: middle;\n",
       "    }\n",
       "\n",
       "    .dataframe tbody tr th {\n",
       "        vertical-align: top;\n",
       "    }\n",
       "\n",
       "    .dataframe thead th {\n",
       "        text-align: right;\n",
       "    }\n",
       "</style>\n",
       "<table border=\"1\" class=\"dataframe\">\n",
       "  <thead>\n",
       "    <tr style=\"text-align: right;\">\n",
       "      <th></th>\n",
       "      <th>Title</th>\n",
       "      <th>Vehicle</th>\n",
       "      <th>Url</th>\n",
       "    </tr>\n",
       "  </thead>\n",
       "  <tbody>\n",
       "    <tr>\n",
       "      <th>0</th>\n",
       "      <td>Fuel Injection Throttle Body - 67-0001</td>\n",
       "      <td>INFINITI FX35 2008-03, G35 2007-03, I35 2004-0...</td>\n",
       "      <td>https://www.cardone.com/product/fuel-injection...</td>\n",
       "    </tr>\n",
       "    <tr>\n",
       "      <th>1</th>\n",
       "      <td>Fuel Injection Throttle Body - 67-0002</td>\n",
       "      <td>Nissan Altima 2006-02, Sentra 2006-02, X-Trail...</td>\n",
       "      <td>https://www.cardone.com/product/fuel-injection...</td>\n",
       "    </tr>\n",
       "    <tr>\n",
       "      <th>2</th>\n",
       "      <td>Fuel Injection Throttle Body - 67-0004</td>\n",
       "      <td>Nissan Pathfinder 2004-02</td>\n",
       "      <td>https://www.cardone.com/product/fuel-injection...</td>\n",
       "    </tr>\n",
       "    <tr>\n",
       "      <th>3</th>\n",
       "      <td>Fuel Injection Throttle Body - 67-0005</td>\n",
       "      <td>Nissan Sentra 2006-03</td>\n",
       "      <td>https://www.cardone.com/product/fuel-injection...</td>\n",
       "    </tr>\n",
       "    <tr>\n",
       "      <th>4</th>\n",
       "      <td>Fuel Injection Throttle Body - 67-0006</td>\n",
       "      <td>INFINITI FX45 2006-03, Q45 2006-05</td>\n",
       "      <td>https://www.cardone.com/product/fuel-injection...</td>\n",
       "    </tr>\n",
       "    <tr>\n",
       "      <th>...</th>\n",
       "      <td>...</td>\n",
       "      <td>...</td>\n",
       "      <td>...</td>\n",
       "    </tr>\n",
       "    <tr>\n",
       "      <th>435</th>\n",
       "      <td>Fuel Injection Throttle Body - 67-4209</td>\n",
       "      <td>Mazda 3 2007, 6 2007-06, CX-7 2007</td>\n",
       "      <td>https://www.cardone.com/product/fuel-injection...</td>\n",
       "    </tr>\n",
       "    <tr>\n",
       "      <th>436</th>\n",
       "      <td>Fuel Injection Throttle Body - 67-4210</td>\n",
       "      <td>Mazda 6 2013-09, CX-9 2015-07</td>\n",
       "      <td>https://www.cardone.com/product/fuel-injection...</td>\n",
       "    </tr>\n",
       "    <tr>\n",
       "      <th>437</th>\n",
       "      <td>Fuel Injection Throttle Body - 67-4211</td>\n",
       "      <td>Mazda 6 2008-03</td>\n",
       "      <td>https://www.cardone.com/product/fuel-injection...</td>\n",
       "    </tr>\n",
       "    <tr>\n",
       "      <th>438</th>\n",
       "      <td>Fuel Injection Throttle Body - 67-5001</td>\n",
       "      <td>Dodge Sprinter 2500 2009-07, Sprinter 3500 200...</td>\n",
       "      <td>https://www.cardone.com/product/fuel-injection...</td>\n",
       "    </tr>\n",
       "    <tr>\n",
       "      <th>439</th>\n",
       "      <td>Fuel Injection Throttle Body - 67-5002</td>\n",
       "      <td>BMW 228i 2016-14, 228i xDrive 2016-15, 320i 20...</td>\n",
       "      <td>https://www.cardone.com/product/fuel-injection...</td>\n",
       "    </tr>\n",
       "  </tbody>\n",
       "</table>\n",
       "<p>440 rows × 3 columns</p>\n",
       "</div>"
      ],
      "text/plain": [
       "                                      Title  \\\n",
       "0    Fuel Injection Throttle Body - 67-0001   \n",
       "1    Fuel Injection Throttle Body - 67-0002   \n",
       "2    Fuel Injection Throttle Body - 67-0004   \n",
       "3    Fuel Injection Throttle Body - 67-0005   \n",
       "4    Fuel Injection Throttle Body - 67-0006   \n",
       "..                                      ...   \n",
       "435  Fuel Injection Throttle Body - 67-4209   \n",
       "436  Fuel Injection Throttle Body - 67-4210   \n",
       "437  Fuel Injection Throttle Body - 67-4211   \n",
       "438  Fuel Injection Throttle Body - 67-5001   \n",
       "439  Fuel Injection Throttle Body - 67-5002   \n",
       "\n",
       "                                               Vehicle  \\\n",
       "0    INFINITI FX35 2008-03, G35 2007-03, I35 2004-0...   \n",
       "1    Nissan Altima 2006-02, Sentra 2006-02, X-Trail...   \n",
       "2                            Nissan Pathfinder 2004-02   \n",
       "3                                Nissan Sentra 2006-03   \n",
       "4                   INFINITI FX45 2006-03, Q45 2006-05   \n",
       "..                                                 ...   \n",
       "435                 Mazda 3 2007, 6 2007-06, CX-7 2007   \n",
       "436                      Mazda 6 2013-09, CX-9 2015-07   \n",
       "437                                    Mazda 6 2008-03   \n",
       "438  Dodge Sprinter 2500 2009-07, Sprinter 3500 200...   \n",
       "439  BMW 228i 2016-14, 228i xDrive 2016-15, 320i 20...   \n",
       "\n",
       "                                                   Url  \n",
       "0    https://www.cardone.com/product/fuel-injection...  \n",
       "1    https://www.cardone.com/product/fuel-injection...  \n",
       "2    https://www.cardone.com/product/fuel-injection...  \n",
       "3    https://www.cardone.com/product/fuel-injection...  \n",
       "4    https://www.cardone.com/product/fuel-injection...  \n",
       "..                                                 ...  \n",
       "435  https://www.cardone.com/product/fuel-injection...  \n",
       "436  https://www.cardone.com/product/fuel-injection...  \n",
       "437  https://www.cardone.com/product/fuel-injection...  \n",
       "438  https://www.cardone.com/product/fuel-injection...  \n",
       "439  https://www.cardone.com/product/fuel-injection...  \n",
       "\n",
       "[440 rows x 3 columns]"
      ]
     },
     "execution_count": 7,
     "metadata": {},
     "output_type": "execute_result"
    }
   ],
   "source": [
    "df.to_excel('./menu.xlsx', index=False)\n",
    "\n",
    "df"
   ]
  },
  {
   "cell_type": "code",
   "execution_count": null,
   "id": "f1b946e9",
   "metadata": {},
   "outputs": [],
   "source": []
  }
 ],
 "metadata": {
  "kernelspec": {
   "display_name": "Python 3 (ipykernel)",
   "language": "python",
   "name": "python3"
  },
  "language_info": {
   "codemirror_mode": {
    "name": "ipython",
    "version": 3
   },
   "file_extension": ".py",
   "mimetype": "text/x-python",
   "name": "python",
   "nbconvert_exporter": "python",
   "pygments_lexer": "ipython3",
   "version": "3.11.3"
  }
 },
 "nbformat": 4,
 "nbformat_minor": 5
}
