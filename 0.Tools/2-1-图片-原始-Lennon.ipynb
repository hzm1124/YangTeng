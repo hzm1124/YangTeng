{
 "cells": [
  {
   "cell_type": "markdown",
   "id": "49be1054",
   "metadata": {},
   "source": [
    "- Update: 2023.04.12\n",
    "\n",
    "# 0. 配置参数\n",
    "\n",
    "- `file`：要下载图片的文件的路径"
   ]
  },
  {
   "cell_type": "code",
   "execution_count": 1,
   "id": "6ee971fc",
   "metadata": {},
   "outputs": [],
   "source": [
    "file = './NGK Laser Iridium Spark Plugs-CARiD-20230411.xlsx'"
   ]
  },
  {
   "cell_type": "code",
   "execution_count": 2,
   "id": "1db11ab1",
   "metadata": {},
   "outputs": [],
   "source": [
    "from openpyxl import load_workbook"
   ]
  },
  {
   "cell_type": "code",
   "execution_count": 3,
   "id": "84b2ba97",
   "metadata": {},
   "outputs": [
    {
     "name": "stdout",
     "output_type": "stream",
     "text": [
      "13; 4\n"
     ]
    }
   ],
   "source": [
    "wb = load_workbook(file)\n",
    "ws = wb.active\n",
    "\n",
    "for i in range(1, ws.max_column+1):\n",
    "    if ws.cell(1, i).value == '图片链接':\n",
    "        index_url = i\n",
    "    elif ws.cell(1, i).value == '图片':\n",
    "        index_img = i\n",
    "        \n",
    "print(str(index_url) + '; ' + str(index_img))"
   ]
  },
  {
   "cell_type": "code",
   "execution_count": 4,
   "id": "c8509cc7",
   "metadata": {},
   "outputs": [
    {
     "name": "stdout",
     "output_type": "stream",
     "text": [
      "https://images.carid.com/ngk/items/1402.jpg\n",
      "https://images.carid.com/ngk/items/1555.jpg\n",
      "https://images.carid.com/ngk/items/1989.jpg\n",
      "https://images.carid.com/ngk/items/3657.jpg\n",
      "https://images.carid.com/ngk/items/5787.jpg\n",
      "https://images.carid.com/ngk/items/6994.jpg\n",
      "https://images.carid.com/ngk/items/7751.jpg\n",
      "https://images.carid.com/ngk/items/91039.jpg\n",
      "https://images.carid.com/ngk/items/96870.jpg\n",
      "https://images.carid.com/ngk/items/1406.jpg\n",
      "https://images.carid.com/ngk/items/1422.jpg\n",
      "https://images.carid.com/ngk/items/1961.jpg\n",
      "https://images.carid.com/ngk/items/2687.jpg\n",
      "https://images.carid.com/ngk/items/3106.jpg\n",
      "https://images.carid.com/ngk/items/3656.jpg\n",
      "https://images.carid.com/ngk/items/4912.jpg\n",
      "https://images.carid.com/ngk/items/5245.jpg\n",
      "https://images.carid.com/ngk/items/6774.jpg\n",
      "https://images.carid.com/ngk/items/6858.jpg\n",
      "https://images.carid.com/ngk/items/7746.jpg\n",
      "https://images.carid.com/ngk/items/7913.jpg\n",
      "https://images.carid.com/ngk/items/90074.jpg\n",
      "https://images.carid.com/ngk/items/9029.jpg\n",
      "https://images.carid.com/ngk/items/91215.jpg\n",
      "https://images.carid.com/ngk/items/91448.jpg\n",
      "https://images.carid.com/ngk/items/92491.jpg\n",
      "https://images.carid.com/ngk/items/92924.jpg\n",
      "https://images.carid.com/ngk/items/93026.jpg\n",
      "https://images.carid.com/ngk/items/93053.jpg\n",
      "https://images.carid.com/ngk/items/93135.jpg\n",
      "https://images.carid.com/ngk/items/93482.jpg\n",
      "https://images.carid.com/ngk/items/93759.jpg\n",
      "https://images.carid.com/ngk/items/93815.jpg\n",
      "https://images.carid.com/ngk/items/94167.jpg\n",
      "https://images.carid.com/ngk/items/97218.jpg\n",
      "https://images.carid.com/ngk/items/9723.jpg\n",
      "https://images.carid.com/ngk/items/6481.jpg\n",
      "https://images.carid.com/ngk/items/6741.jpg\n",
      "https://images.carid.com/ngk/items/7563.jpg\n",
      "https://images.carid.com/ngk/items/7994.jpg\n",
      "https://images.carid.com/ngk/items/95710.jpg\n",
      "https://images.carid.com/ngk/items/1208.jpg\n",
      "https://images.carid.com/ngk/items/4294.jpg\n",
      "https://images.carid.com/ngk/items/1465.jpg\n",
      "https://images.carid.com/ngk/items/4213.jpg\n",
      "https://images.carid.com/ngk/items/5476.jpg\n",
      "https://images.carid.com/ngk/items/5599.jpg\n",
      "https://images.carid.com/ngk/items/90117.jpg\n",
      "https://images.carid.com/ngk/items/4589.jpg\n",
      "https://images.carid.com/ngk/items/4996.jpg\n",
      "https://images.carid.com/ngk/items/5344.jpg\n",
      "https://images.carid.com/ngk/items/5581.jpg\n",
      "https://images.carid.com/ngk/items/7418.jpg\n",
      "https://images.carid.com/ngk/items/1637.jpg\n",
      "https://images.carid.com/ngk/items/3107.jpg\n",
      "https://images.carid.com/ngk/items/4458.jpg\n",
      "https://images.carid.com/ngk/items/4477.jpg\n",
      "https://images.carid.com/ngk/items/5266.jpg\n",
      "https://images.carid.com/ngk/items/5794.jpg\n",
      "https://images.carid.com/ngk/items/6215.jpg\n",
      "https://images.carid.com/ngk/items/7854.jpg\n",
      "https://images.carid.com/ngk/items/90656.jpg\n",
      "https://images.carid.com/ngk/items/95705.jpg\n",
      "https://images.carid.com/ngk/items/98376.jpg\n",
      "https://images.carid.com/ngk/items/1313.jpg\n",
      "https://images.carid.com/ngk/items/3508.jpg\n",
      "https://images.carid.com/ngk/items/3588.jpg\n",
      "https://images.carid.com/ngk/items/3787.jpg\n",
      "https://images.carid.com/ngk/items/4867.jpg\n",
      "https://images.carid.com/ngk/items/4904.jpg\n",
      "https://images.carid.com/ngk/items/5648.jpg\n",
      "https://images.carid.com/ngk/items/5887.jpg\n",
      "https://images.carid.com/ngk/items/6043.jpg\n",
      "https://images.carid.com/ngk/items/6176.jpg\n",
      "https://images.carid.com/ngk/items/6507.jpg\n",
      "https://images.carid.com/ngk/items/6700.jpg\n",
      "https://images.carid.com/ngk/items/6701.jpg\n",
      "https://images.carid.com/ngk/items/7866.jpg\n",
      "https://images.carid.com/ngk/items/95369.jpg\n",
      "https://images.carid.com/ngk/items/96957.jpg\n",
      "https://images.carid.com/ngk/items/127.jpg\n",
      "https://images.carid.com/ngk/items/373.jpg\n",
      "https://images.carid.com/ngk/items/5468.jpg\n",
      "https://images.carid.com/ngk/items/7505.jpg\n",
      "https://images.carid.com/ngk/items/7658.jpg\n",
      "https://images.carid.com/ngk/items/96779.jpg\n",
      "https://images.carid.com/ngk/items/90174.jpg\n",
      "https://images.carid.com/ngk/items/90607.jpg\n",
      "https://images.carid.com/ngk/items/90813.jpg\n",
      "https://images.carid.com/ngk/items/96588.jpg\n",
      "https://images.carid.com/ngk/items/96329.jpg\n",
      "https://images.carid.com/ngk/items/96024.jpg\n",
      "https://images.carid.com/ngk/items/92085.jpg\n",
      "https://images.carid.com/ngk/items/95875.jpg\n",
      "https://images.carid.com/ngk/items/90654.jpg\n",
      "https://images.carid.com/ngk/items/90083.jpg\n",
      "https://images.carid.com/ngk/items/94124.jpg\n",
      "https://images.carid.com/ngk/items/97177.jpg\n",
      "https://images.carid.com/ngk/items/91568.jpg\n",
      "https://images.carid.com/ngk/items/94940.jpg\n",
      "https://images.carid.com/ngk/items/92605.jpg\n",
      "https://images.carid.com/ngk/items/96509.jpg\n",
      "https://images.carid.com/ngk/items/94769.jpg\n",
      "https://images.carid.com/ngk/items/90156.jpg\n",
      "https://images.carid.com/ngk/items/91715.jpg\n",
      "https://images.carid.com/ngk/items/95609.jpg\n",
      "https://images.carid.com/ngk/items/94489.jpg\n",
      "https://images.carid.com/ngk/items/90543.jpg\n",
      "https://images.carid.com/ngk/items/97506.jpg\n",
      "https://images.carid.com/ngk/items/93298.jpg\n",
      "https://images.carid.com/ngk/items/90137.jpg\n",
      "https://images.carid.com/ngk/items/5258.jpg\n",
      "https://images.carid.com/ngk/items/95350.jpg\n",
      "https://images.carid.com/ngk/items/94731.jpg\n",
      "https://images.carid.com/ngk/items/95264.jpg\n",
      "https://images.carid.com/ngk/items/90882.jpg\n",
      "https://images.carid.com/ngk/items/3403.jpg\n",
      "https://images.carid.com/ngk/items/1312.jpg\n",
      "https://images.carid.com/ngk/items/93476.jpg\n",
      "https://images.carid.com/ngk/items/91725.jpg\n",
      "https://images.carid.com/ngk/items/1311.jpg\n",
      "https://images.carid.com/ngk/items/94290.jpg\n",
      "https://images.carid.com/ngk/items/91924.jpg\n",
      "https://images.carid.com/ngk/items/92145.jpg\n",
      "https://images.carid.com/ngk/items/96964.jpg\n",
      "https://images.carid.com/ngk/items/91467.jpg\n",
      "https://images.carid.com/ngk/items/90935.jpg\n",
      "https://images.carid.com/ngk/items/93655.jpg\n",
      "https://images.carid.com/ngk/items/95112.jpg\n",
      "https://images.carid.com/ngk/items/95660.jpg\n",
      "https://images.carid.com/ngk/items/93593.jpg\n",
      "https://images.carid.com/ngk/items/91970.jpg\n",
      "https://images.carid.com/ngk/items/94702.jpg\n",
      "https://images.carid.com/ngk/items/94201.jpg\n",
      "https://images.carid.com/ngk/items/92315.jpg\n",
      "https://images.carid.com/ngk/items/93227.jpg\n",
      "https://images.carid.com/ngk/items/94051.jpg\n",
      "https://images.carid.com/ngk/items/95822.jpg\n",
      "https://images.carid.com/ngk/items/95248.jpg\n",
      "https://images.carid.com/ngk/items/92373.jpg\n",
      "https://images.carid.com/ngk/items/92217.jpg\n",
      "https://images.carid.com/ngk/items/93199.jpg\n",
      "https://images.carid.com/ngk/items/91006.jpg\n",
      "https://images.carid.com/ngk/items/91874.jpg\n",
      "https://images.carid.com/ngk/items/91794.jpg\n",
      "https://images.carid.com/ngk/items/90565.jpg\n",
      "https://images.carid.com/ngk/items/91121.jpg\n",
      "https://images.carid.com/ngk/items/96393.jpg\n",
      "https://images.carid.com/ngk/items/96372.jpg\n",
      "https://images.carid.com/ngk/items/95003.jpg\n",
      "https://images.carid.com/ngk/items/97319.jpg\n",
      "https://images.carid.com/ngk/items/92968.jpg\n",
      "https://images.carid.com/ngk/items/97293.jpg\n",
      "https://images.carid.com/ngk/items/90483.jpg\n",
      "https://images.carid.com/ngk/items/96107.jpg\n",
      "https://images.carid.com/ngk/items/95993.jpg\n",
      "https://images.carid.com/ngk/items/97968.jpg\n",
      "https://images.carid.com/ngk/items/97287.jpg\n",
      "https://images.carid.com/ngk/items/96008.jpg\n",
      "https://images.carid.com/ngk/items/93618.jpg\n",
      "https://images.carid.com/ngk/items/91961.jpg\n",
      "https://images.carid.com/ngk/items/97932.jpg\n",
      "https://images.carid.com/ngk/items/94697.jpg\n",
      "https://images.carid.com/ngk/items/97976.jpg\n",
      "https://images.carid.com/ngk/items/90219.jpg\n",
      "https://images.carid.com/ngk/items/97080.jpg\n",
      "https://images.carid.com/ngk/items/92422.jpg\n",
      "https://images.carid.com/no-image.jpg\n",
      "https://images.carid.com/no-image.jpg\n",
      "https://images.carid.com/no-image.jpg\n",
      "https://images.carid.com/no-image.jpg\n",
      "https://images.carid.com/no-image.jpg\n",
      "https://images.carid.com/no-image.jpg\n",
      "https://images.carid.com/no-image.jpg\n",
      "https://images.carid.com/no-image.jpg\n",
      "https://images.carid.com/no-image.jpg\n",
      "https://images.carid.com/no-image.jpg\n",
      "https://images.carid.com/no-image.jpg\n",
      "https://images.carid.com/no-image.jpg\n",
      "https://images.carid.com/no-image.jpg\n",
      "https://images.carid.com/no-image.jpg\n",
      "https://images.carid.com/no-image.jpg\n",
      "https://images.carid.com/ngk/items/3474.jpg\n",
      "https://images.carid.com/ngk/items/95770.jpg\n",
      "https://images.carid.com/ngk/items/4696.jpg\n",
      "https://images.carid.com/ngk/items/95853.jpg\n",
      "https://images.carid.com/ngk/items/hero-ngk-laser-iridium-2.jpg\n",
      "https://images.carid.com/ngk/ignition-spark-plugs-wires/laser-platinum-spark-plug-box.jpg\n",
      "https://images.carid.com/ngk/items/hero-ngk-iridium-ix-2.jpg\n"
     ]
    }
   ],
   "source": [
    "for i in range(2, ws.max_row+1):\n",
    "    print(ws.cell(i, index_url).value)"
   ]
  },
  {
   "cell_type": "code",
   "execution_count": 5,
   "id": "db76849c",
   "metadata": {},
   "outputs": [],
   "source": [
    "import requests\n",
    "from io import BytesIO\n",
    "from openpyxl.drawing.image import Image"
   ]
  },
  {
   "cell_type": "code",
   "execution_count": 6,
   "id": "f8da45c2",
   "metadata": {},
   "outputs": [
    {
     "data": {
      "text/plain": [
       "<openpyxl.drawing.image.Image at 0x22213f2c190>"
      ]
     },
     "execution_count": 6,
     "metadata": {},
     "output_type": "execute_result"
    }
   ],
   "source": [
    "j = 2\n",
    "url = ws.cell(j, index_url).value\n",
    "img = Image(BytesIO(requests.get(url).content))\n",
    "\n",
    "img"
   ]
  },
  {
   "cell_type": "code",
   "execution_count": null,
   "id": "6d625bf6",
   "metadata": {},
   "outputs": [],
   "source": [
    "if img.width >= img.height:\n",
    "    img.height = 18.0 / img.width * img.height\n",
    "    img.width = 18.0\n",
    "else:\n",
    "    img.width = 18.0 / img.height * img.width\n",
    "    img.height = 18.0\n",
    "    \n",
    "print(str(img.width) + '; ' + str(img.height))"
   ]
  },
  {
   "cell_type": "code",
   "execution_count": null,
   "id": "d1e431bc",
   "metadata": {},
   "outputs": [],
   "source": [
    "from openpyxl.utils import get_column_letter"
   ]
  },
  {
   "cell_type": "code",
   "execution_count": null,
   "id": "b37d8abd",
   "metadata": {},
   "outputs": [],
   "source": [
    "ws.add_image(img, get_column_letter(index_img) + str(j))"
   ]
  },
  {
   "cell_type": "code",
   "execution_count": null,
   "id": "d221df1c",
   "metadata": {},
   "outputs": [],
   "source": [
    "wb.save('./crawler-0.xlsx')"
   ]
  },
  {
   "cell_type": "code",
   "execution_count": null,
   "id": "62ae0ab9",
   "metadata": {},
   "outputs": [],
   "source": []
  }
 ],
 "metadata": {
  "kernelspec": {
   "display_name": "Python 3 (ipykernel)",
   "language": "python",
   "name": "python3"
  },
  "language_info": {
   "codemirror_mode": {
    "name": "ipython",
    "version": 3
   },
   "file_extension": ".py",
   "mimetype": "text/x-python",
   "name": "python",
   "nbconvert_exporter": "python",
   "pygments_lexer": "ipython3",
   "version": "3.9.12"
  }
 },
 "nbformat": 4,
 "nbformat_minor": 5
}
