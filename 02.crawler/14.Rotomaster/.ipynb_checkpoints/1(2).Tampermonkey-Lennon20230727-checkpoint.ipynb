{
 "cells": [
  {
   "cell_type": "code",
   "execution_count": 1,
   "id": "14ca4672",
   "metadata": {},
   "outputs": [],
   "source": [
    "import os"
   ]
  },
  {
   "cell_type": "code",
   "execution_count": 2,
   "id": "a3369d1a",
   "metadata": {},
   "outputs": [
    {
     "data": {
      "text/plain": [
       "12"
      ]
     },
     "execution_count": 2,
     "metadata": {},
     "output_type": "execute_result"
    }
   ],
   "source": [
    "list_file = list(os.walk('./menu'))[0][2]\n",
    "if '.DS_Store' in list_file:\n",
    "   list_file.remove('.DS_Store')\n",
    "\n",
    "len(list_file)"
   ]
  },
  {
   "cell_type": "code",
   "execution_count": 3,
   "id": "552c5c8c",
   "metadata": {},
   "outputs": [],
   "source": [
    "import pandas as pd"
   ]
  },
  {
   "cell_type": "code",
   "execution_count": 4,
   "id": "19a50da8",
   "metadata": {},
   "outputs": [
    {
     "data": {
      "text/html": [
       "<div>\n",
       "<style scoped>\n",
       "    .dataframe tbody tr th:only-of-type {\n",
       "        vertical-align: middle;\n",
       "    }\n",
       "\n",
       "    .dataframe tbody tr th {\n",
       "        vertical-align: top;\n",
       "    }\n",
       "\n",
       "    .dataframe thead th {\n",
       "        text-align: right;\n",
       "    }\n",
       "</style>\n",
       "<table border=\"1\" class=\"dataframe\">\n",
       "  <thead>\n",
       "    <tr style=\"text-align: right;\">\n",
       "      <th></th>\n",
       "      <th>Url</th>\n",
       "    </tr>\n",
       "  </thead>\n",
       "  <tbody>\n",
       "  </tbody>\n",
       "</table>\n",
       "</div>"
      ],
      "text/plain": [
       "Empty DataFrame\n",
       "Columns: [Url]\n",
       "Index: []"
      ]
     },
     "execution_count": 4,
     "metadata": {},
     "output_type": "execute_result"
    }
   ],
   "source": [
    "df = pd.DataFrame(columns=['Url'])\n",
    "\n",
    "df"
   ]
  },
  {
   "cell_type": "code",
   "execution_count": 5,
   "id": "000d53d7",
   "metadata": {},
   "outputs": [],
   "source": [
    "import json"
   ]
  },
  {
   "cell_type": "code",
   "execution_count": 6,
   "id": "1d3df716",
   "metadata": {},
   "outputs": [
    {
     "name": "stdout",
     "output_type": "stream",
     "text": [
      "rotomaster.com_search.php_page=6&section=product&search_query=Turbocharger&_bc_fsnf=1&Part%20Type=Turbocharger&limit=30&sort=alphaasc.txt\n",
      "rotomaster.com_search.php_page=7&section=product&search_query=Turbocharger&_bc_fsnf=1&Part%20Type=Turbocharger&limit=30&sort=alphaasc.txt\n",
      "rotomaster.com_search.php_page=1&section=product&search_query=Turbocharger&_bc_fsnf=1&Part+Type=Turbocharger&limit=30&sort=alphaasc.txt\n",
      "rotomaster.com_search.php_page=5&section=product&search_query=Turbocharger&_bc_fsnf=1&Part%20Type=Turbocharger&limit=30&sort=alphaasc.txt\n",
      "rotomaster.com_search.php_page=4&section=product&search_query=Turbocharger&_bc_fsnf=1&Part%20Type=Turbocharger&limit=30&sort=alphaasc.txt\n",
      "rotomaster.com_search.php_page=3&section=product&search_query=Turbocharger&_bc_fsnf=1&Part%20Type=Turbocharger&limit=30&sort=alphaasc.txt\n",
      "rotomaster.com_search.php_page=11&section=product&search_query=Turbocharger&_bc_fsnf=1&Part%20Type=Turbocharger&limit=30&sort=alphaasc.txt\n",
      "rotomaster.com_search.php_page=10&section=product&search_query=Turbocharger&_bc_fsnf=1&Part%20Type=Turbocharger&limit=30&sort=alphaasc.txt\n",
      "rotomaster.com_search.php_page=2&section=product&search_query=Turbocharger&_bc_fsnf=1&Part%20Type=Turbocharger&limit=30&sort=alphaasc.txt\n",
      "rotomaster.com_search.php_page=12&section=product&search_query=Turbocharger&_bc_fsnf=1&Part%20Type=Turbocharger&limit=30&sort=alphaasc.txt\n",
      "rotomaster.com_search.php_page=9&section=product&search_query=Turbocharger&_bc_fsnf=1&Part%20Type=Turbocharger&limit=30&sort=alphaasc.txt\n",
      "rotomaster.com_search.php_page=8&section=product&search_query=Turbocharger&_bc_fsnf=1&Part%20Type=Turbocharger&limit=30&sort=alphaasc.txt\n"
     ]
    },
    {
     "data": {
      "text/html": [
       "<div>\n",
       "<style scoped>\n",
       "    .dataframe tbody tr th:only-of-type {\n",
       "        vertical-align: middle;\n",
       "    }\n",
       "\n",
       "    .dataframe tbody tr th {\n",
       "        vertical-align: top;\n",
       "    }\n",
       "\n",
       "    .dataframe thead th {\n",
       "        text-align: right;\n",
       "    }\n",
       "</style>\n",
       "<table border=\"1\" class=\"dataframe\">\n",
       "  <thead>\n",
       "    <tr style=\"text-align: right;\">\n",
       "      <th></th>\n",
       "      <th>Url</th>\n",
       "    </tr>\n",
       "  </thead>\n",
       "  <tbody>\n",
       "    <tr>\n",
       "      <th>0</th>\n",
       "      <td>https://rotomaster.com/turbochargers/reman-tur...</td>\n",
       "    </tr>\n",
       "    <tr>\n",
       "      <th>1</th>\n",
       "      <td>https://rotomaster.com/turbochargers/reman-tur...</td>\n",
       "    </tr>\n",
       "    <tr>\n",
       "      <th>2</th>\n",
       "      <td>https://rotomaster.com/products/turbochargers/...</td>\n",
       "    </tr>\n",
       "    <tr>\n",
       "      <th>3</th>\n",
       "      <td>https://rotomaster.com/turbochargers/reman-tur...</td>\n",
       "    </tr>\n",
       "    <tr>\n",
       "      <th>4</th>\n",
       "      <td>https://rotomaster.com/turbochargers/reman-tur...</td>\n",
       "    </tr>\n",
       "    <tr>\n",
       "      <th>...</th>\n",
       "      <td>...</td>\n",
       "    </tr>\n",
       "    <tr>\n",
       "      <th>350</th>\n",
       "      <td>https://rotomaster.com/products/turbochargers/...</td>\n",
       "    </tr>\n",
       "    <tr>\n",
       "      <th>351</th>\n",
       "      <td>https://rotomaster.com/turbochargers/replaceme...</td>\n",
       "    </tr>\n",
       "    <tr>\n",
       "      <th>352</th>\n",
       "      <td>https://rotomaster.com/turbochargers/replaceme...</td>\n",
       "    </tr>\n",
       "    <tr>\n",
       "      <th>353</th>\n",
       "      <td>https://rotomaster.com/turbochargers/replaceme...</td>\n",
       "    </tr>\n",
       "    <tr>\n",
       "      <th>354</th>\n",
       "      <td>https://rotomaster.com/turbochargers/replaceme...</td>\n",
       "    </tr>\n",
       "  </tbody>\n",
       "</table>\n",
       "<p>355 rows × 1 columns</p>\n",
       "</div>"
      ],
      "text/plain": [
       "                                                   Url\n",
       "0    https://rotomaster.com/turbochargers/reman-tur...\n",
       "1    https://rotomaster.com/turbochargers/reman-tur...\n",
       "2    https://rotomaster.com/products/turbochargers/...\n",
       "3    https://rotomaster.com/turbochargers/reman-tur...\n",
       "4    https://rotomaster.com/turbochargers/reman-tur...\n",
       "..                                                 ...\n",
       "350  https://rotomaster.com/products/turbochargers/...\n",
       "351  https://rotomaster.com/turbochargers/replaceme...\n",
       "352  https://rotomaster.com/turbochargers/replaceme...\n",
       "353  https://rotomaster.com/turbochargers/replaceme...\n",
       "354  https://rotomaster.com/turbochargers/replaceme...\n",
       "\n",
       "[355 rows x 1 columns]"
      ]
     },
     "execution_count": 6,
     "metadata": {},
     "output_type": "execute_result"
    }
   ],
   "source": [
    "for file in list_file:\n",
    "    print(file)\n",
    "    with open('./menu/' + file) as f:\n",
    "        df = pd.concat([df, pd.DataFrame(json.loads(f.read()))], ignore_index=True)\n",
    "        \n",
    "df.to_excel('./menu.xlsx', index=False)\n",
    "\n",
    "df"
   ]
  },
  {
   "cell_type": "code",
   "execution_count": null,
   "id": "f1b946e9",
   "metadata": {},
   "outputs": [],
   "source": []
  }
 ],
 "metadata": {
  "kernelspec": {
   "display_name": "Python 3 (ipykernel)",
   "language": "python",
   "name": "python3"
  },
  "language_info": {
   "codemirror_mode": {
    "name": "ipython",
    "version": 3
   },
   "file_extension": ".py",
   "mimetype": "text/x-python",
   "name": "python",
   "nbconvert_exporter": "python",
   "pygments_lexer": "ipython3",
   "version": "3.11.3"
  }
 },
 "nbformat": 4,
 "nbformat_minor": 5
}
