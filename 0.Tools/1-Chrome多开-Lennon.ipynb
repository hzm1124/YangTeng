{
 "cells": [
  {
   "cell_type": "code",
   "execution_count": 1,
   "id": "f39197b0",
   "metadata": {},
   "outputs": [],
   "source": [
    "from selenium import webdriver\n",
    "from selenium.webdriver import Chrome"
   ]
  },
  {
   "cell_type": "code",
   "execution_count": 2,
   "id": "39cda57e",
   "metadata": {},
   "outputs": [],
   "source": [
    "us_options = webdriver.ChromeOptions()\n",
    "us_options.add_argument('user-agent=Mozilla/5.0 (Windows NT 10.0; Win64; x64) AppleWebKit/537.36 (KHTML, like Gecko) Chrome/104.0.0.0 Safari/537.36')\n",
    "us_url = 'https://www.ebay.com/sch/i.html?_from=R40&_trksid=p2334524.m570.l1313&_nkw=HONDA+PASSPORT+CROSS+BAR&_sacat=0&LH_TitleDesc=1&_stpos=91710&_odkw=HONDA+PASSPORT+CROSS+BAR&_osacat=0&LH_PrefLoc=1&_fcid=1'\n",
    "\n",
    "de_options = webdriver.ChromeOptions()\n",
    "de_options.add_argument('user-agent=Mozilla/5.0 (Windows NT 10.0; Win64; x64) AppleWebKit/537.36 (KHTML, like Gecko) Chrome/105.0.0.0 Safari/537.36')\n",
    "de_url = 'https://www.ebay.de/sch/i.html?_from=R40&_trksid=p2334524.m570.l1313&_nkw=68050129AA&_sacat=0&LH_TitleDesc=1&_odkw=68050129AA&_osacat=0&LH_PrefLoc=1&_fcid=77'\n",
    "\n",
    "uk_options = webdriver.ChromeOptions()\n",
    "uk_options.add_argument('user-agent=Mozilla/5.0 (Windows NT 10.0; Win64; x64) AppleWebKit/537.36 (KHTML, like Gecko) Chrome/106.0.0.0 Safari/537.36')\n",
    "uk_url = 'https://www.ebay.co.uk/sch/i.html?_from=R40&_trksid=m570.l1313&_nkw=68050129AA&_sacat=0'\n",
    "\n",
    "au_options = webdriver.ChromeOptions()\n",
    "au_options.add_argument('user-agent=Mozilla/5.0 (Windows NT 10.0; Win64; x64) AppleWebKit/537.36 (KHTML, like Gecko) Chrome/107.0.0.0 Safari/537.36')\n",
    "au_url = 'https://www.ebay.com.au/sch/i.html?_from=R40&_trksid=p2334524.m570.l1313&_nkw=68050129AA&_sacat=0&LH_TitleDesc=1&rt=nc&_odkw=5017404aa&_osacat=0&LH_PrefLoc=1&_fcid=15'\n",
    "\n",
    "ca_options = webdriver.ChromeOptions()\n",
    "ca_options.add_argument('user-agent=Mozilla/5.0 (Windows NT 10.0; Win64; x64) AppleWebKit/537.36 (KHTML, like Gecko) Chrome/108.0.0.0 Safari/537.36')\n",
    "ca_url = 'https://www.ebay.ca/sch/i.html?_from=R40&_nkw=HONDA+PASSPORT+CROSS+BAR&_sacat=0&LH_TitleDesc=1&LH_PrefLoc=1&_fcid=2'"
   ]
  },
  {
   "cell_type": "code",
   "execution_count": 6,
   "id": "900ca98a",
   "metadata": {},
   "outputs": [],
   "source": [
    "browser_1 = Chrome(options=us_options)\n",
    "browser_1.get(us_url)\n",
    "\n",
    "# browser_2 = Chrome(options=de_options)\n",
    "# browser_2.get(de_url)\n",
    "\n",
    "# browser_3 = Chrome(options=uk_options)\n",
    "# browser_3.get(uk_url)\n",
    "\n",
    "# browser_4 = Chrome(options=au_options)\n",
    "# browser_4.get(au_url)\n",
    "\n",
    "browser_5 = Chrome(options=ca_options)\n",
    "browser_5.get(ca_url)"
   ]
  },
  {
   "cell_type": "code",
   "execution_count": 4,
   "id": "d1325294",
   "metadata": {},
   "outputs": [],
   "source": [
    "# 看销量\n",
    "# https://www.ebay.com/bin/purchaseHistory?item=\n",
    "# ytbuyer@hotmail.com\n",
    "# yangteng20220811!"
   ]
  },
  {
   "cell_type": "code",
   "execution_count": null,
   "id": "9e5da4b4",
   "metadata": {},
   "outputs": [],
   "source": []
  }
 ],
 "metadata": {
  "kernelspec": {
   "display_name": "Python 3 (ipykernel)",
   "language": "python",
   "name": "python3"
  },
  "language_info": {
   "codemirror_mode": {
    "name": "ipython",
    "version": 3
   },
   "file_extension": ".py",
   "mimetype": "text/x-python",
   "name": "python",
   "nbconvert_exporter": "python",
   "pygments_lexer": "ipython3",
   "version": "3.9.12"
  }
 },
 "nbformat": 4,
 "nbformat_minor": 5
}
