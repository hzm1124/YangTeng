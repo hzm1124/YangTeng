{
 "cells": [
  {
   "cell_type": "code",
   "execution_count": 1,
   "id": "ba98551f-b0b1-4c50-8c47-3ad3a3730b73",
   "metadata": {},
   "outputs": [
    {
     "data": {
      "text/plain": [
       "['crawler_1.xlsx',\n",
       " 'crawler_10.xlsx',\n",
       " 'crawler_11.xlsx',\n",
       " 'crawler_12.xlsx',\n",
       " 'crawler_13.xlsx',\n",
       " 'crawler_14.xlsx',\n",
       " 'crawler_15.xlsx',\n",
       " 'crawler_16.xlsx',\n",
       " 'crawler_17.xlsx',\n",
       " 'crawler_18.xlsx',\n",
       " 'crawler_19.xlsx',\n",
       " 'crawler_2.xlsx',\n",
       " 'crawler_20.xlsx',\n",
       " 'crawler_21.xlsx',\n",
       " 'crawler_22.xlsx',\n",
       " 'crawler_23.xlsx',\n",
       " 'crawler_24.xlsx',\n",
       " 'crawler_25.xlsx',\n",
       " 'crawler_26.xlsx',\n",
       " 'crawler_27.xlsx',\n",
       " 'crawler_28.xlsx',\n",
       " 'crawler_29.xlsx',\n",
       " 'crawler_3.xlsx',\n",
       " 'crawler_30.xlsx',\n",
       " 'crawler_31.xlsx',\n",
       " 'crawler_32.xlsx',\n",
       " 'crawler_33.xlsx',\n",
       " 'crawler_34.xlsx',\n",
       " 'crawler_35.xlsx',\n",
       " 'crawler_36.xlsx',\n",
       " 'crawler_37.xlsx',\n",
       " 'crawler_38.xlsx',\n",
       " 'crawler_39.xlsx',\n",
       " 'crawler_4.xlsx',\n",
       " 'crawler_40.xlsx',\n",
       " 'crawler_41.xlsx',\n",
       " 'crawler_42.xlsx',\n",
       " 'crawler_43.xlsx',\n",
       " 'crawler_44.xlsx',\n",
       " 'crawler_45.xlsx',\n",
       " 'crawler_5.xlsx',\n",
       " 'crawler_6.xlsx',\n",
       " 'crawler_7.xlsx',\n",
       " 'crawler_8.xlsx',\n",
       " 'crawler_9.xlsx']"
      ]
     },
     "execution_count": 1,
     "metadata": {},
     "output_type": "execute_result"
    }
   ],
   "source": [
    "import os\n",
    "\n",
    "list_file = sorted(list(os.walk('./file/2.part_number'))[0][2])\n",
    "while '.DS_Store' in list_file:\n",
    "    list_file.remove('.DS_Store')\n",
    "while '0.null.txt' in list_file:\n",
    "    list_file.remove('0.null.txt')\n",
    "\n",
    "list_file"
   ]
  },
  {
   "cell_type": "code",
   "execution_count": 2,
   "id": "9b75b948-9701-432e-a5ef-88d0e629bd2c",
   "metadata": {},
   "outputs": [
    {
     "data": {
      "text/plain": [
       "'crawler_10.xlsx'"
      ]
     },
     "execution_count": 2,
     "metadata": {},
     "output_type": "execute_result"
    }
   ],
   "source": [
    "file = list_file[1]\n",
    "\n",
    "file"
   ]
  },
  {
   "cell_type": "code",
   "execution_count": 3,
   "id": "76ea49e2-7cc6-4bc1-af5b-7a6768eb6c08",
   "metadata": {},
   "outputs": [],
   "source": [
    "import pandas as pd\n",
    "\n",
    "output_correct, output_error = pd.DataFrame(), pd.DataFrame()"
   ]
  },
  {
   "cell_type": "code",
   "execution_count": 4,
   "id": "5d22fc26-a390-442a-bfe3-4d409c33f1e7",
   "metadata": {
    "scrolled": true
   },
   "outputs": [
    {
     "name": "stdout",
     "output_type": "stream",
     "text": [
      "总数量：12\n"
     ]
    },
    {
     "data": {
      "text/plain": [
       "['53021',\n",
       " '55030',\n",
       " '55032',\n",
       " '55046',\n",
       " '55052',\n",
       " '56266',\n",
       " '56268',\n",
       " '56270',\n",
       " '56980',\n",
       " '56986',\n",
       " '56988',\n",
       " '56992']"
      ]
     },
     "execution_count": 4,
     "metadata": {},
     "output_type": "execute_result"
    }
   ],
   "source": [
    "input_ = pd.read_excel(f'./file/2.part_number/{file}',\n",
    "                       header=0,\n",
    "                       dtype=str).fillna('')\n",
    "\n",
    "input_['No'] = input_['No'].astype(int)\n",
    "\n",
    "print(f'总数量：{len(input_)}')\n",
    "input_['Part Number'].tolist()"
   ]
  },
  {
   "cell_type": "code",
   "execution_count": 5,
   "id": "5878a9f0-d639-4123-b6e0-bc564f72c2d6",
   "metadata": {},
   "outputs": [
    {
     "data": {
      "text/plain": [
       "0"
      ]
     },
     "execution_count": 5,
     "metadata": {},
     "output_type": "execute_result"
    }
   ],
   "source": [
    "a = 0\n",
    "\n",
    "a"
   ]
  },
  {
   "cell_type": "code",
   "execution_count": 6,
   "id": "9f61dd65-55da-4d0b-ba30-d0534eff0781",
   "metadata": {},
   "outputs": [
    {
     "data": {
      "text/plain": [
       "'error'"
      ]
     },
     "execution_count": 6,
     "metadata": {},
     "output_type": "execute_result"
    }
   ],
   "source": [
    "crawler_status = 'error'\n",
    "\n",
    "crawler_status"
   ]
  },
  {
   "cell_type": "code",
   "execution_count": 7,
   "id": "ad99bc86-6e80-4fcf-8200-736dc5101097",
   "metadata": {},
   "outputs": [
    {
     "name": "stdout",
     "output_type": "stream",
     "text": [
      "1\n"
     ]
    },
    {
     "data": {
      "text/plain": [
       "<Response [200]>"
      ]
     },
     "execution_count": 7,
     "metadata": {},
     "output_type": "execute_result"
    }
   ],
   "source": [
    "import requests\n",
    "\n",
    "import sys\n",
    "sys.path.append('../00.Tools')\n",
    "from crawler_configuration import get_header, get_proxy\n",
    "\n",
    "b = 0\n",
    "while True:\n",
    "    b += 1\n",
    "    print(b)\n",
    "    try:\n",
    "        resp = requests.get(f'''https://ecatalog.smpcorp.com/v2/fs/api/part/partselect?part={input_.loc[a, 'Part Number']}&func=PART&vid=''',\n",
    "                            headers=get_header(),\n",
    "                            proxies=get_proxy(),\n",
    "                            timeout=(10, 10))\n",
    "\n",
    "        if resp.status_code == 200:\n",
    "            break\n",
    "    except KeyboardInterrupt:\n",
    "        break\n",
    "    except:\n",
    "        continue\n",
    "\n",
    "resp"
   ]
  },
  {
   "cell_type": "code",
   "execution_count": 8,
   "id": "067c3f3d-d710-43cf-9f6d-c9f45e42ff82",
   "metadata": {
    "scrolled": true
   },
   "outputs": [
    {
     "data": {
      "text/plain": [
       "{'pd': {'rowId': 1,\n",
       "  'site': 'FS',\n",
       "  'webBase': '53021',\n",
       "  'brand': 'FS',\n",
       "  'basePart': '53021',\n",
       "  'partDesc_en': 'Cooler Replacement Hose',\n",
       "  'partLongDesc_en': 'Cooler Replacement Hose',\n",
       "  'pop': 'F',\n",
       "  'partComment': None,\n",
       "  'qtyEach': 1,\n",
       "  'webColumn_Id': None,\n",
       "  'categoryName_en': None,\n",
       "  'vehicleId': None,\n",
       "  'mfg': None,\n",
       "  'mfG_Part': None,\n",
       "  'maxRows': 1,\n",
       "  'brandLink': None,\n",
       "  'imageUrl': None},\n",
       " 'pp': {'buyersGuides': [],\n",
       "  'partSpecs': [{'attributeCode': '1146',\n",
       "    'attributeValue': 16477,\n",
       "    'attributeSort': 0,\n",
       "    'attributeName_en': 'Clamps Required?',\n",
       "    'siteValue_en': 'No'},\n",
       "   {'attributeCode': '116',\n",
       "    'attributeValue': 20906,\n",
       "    'attributeSort': 0,\n",
       "    'attributeName_en': 'Description',\n",
       "    'siteValue_en': 'Cooler Replacement Hose'},\n",
       "   {'attributeCode': '1185',\n",
       "    'attributeValue': 21630,\n",
       "    'attributeSort': 0,\n",
       "    'attributeName_en': 'Hose Shape',\n",
       "    'siteValue_en': 'Non Molded'},\n",
       "   {'attributeCode': '1452',\n",
       "    'attributeValue': 26845,\n",
       "    'attributeSort': 0,\n",
       "    'attributeName_en': 'Warranty',\n",
       "    'siteValue_en': '120 days'},\n",
       "   {'attributeCode': '1538',\n",
       "    'attributeValue': 10082,\n",
       "    'attributeSort': 0,\n",
       "    'attributeName_en': 'Width IN',\n",
       "    'siteValue_en': 'N/A'},\n",
       "   {'attributeCode': '1583',\n",
       "    'attributeValue': 25428,\n",
       "    'attributeSort': 0,\n",
       "    'attributeName_en': 'I.D. IN',\n",
       "    'siteValue_en': '0.34'},\n",
       "   {'attributeCode': '1616',\n",
       "    'attributeValue': 55,\n",
       "    'attributeSort': 0,\n",
       "    'attributeName_en': 'Length IN',\n",
       "    'siteValue_en': '300'},\n",
       "   {'attributeCode': '1741',\n",
       "    'attributeValue': 15810,\n",
       "    'attributeSort': 0,\n",
       "    'attributeName_en': 'Hose Length FT',\n",
       "    'siteValue_en': '25.000'},\n",
       "   {'attributeCode': '1791',\n",
       "    'attributeValue': 25428,\n",
       "    'attributeSort': 0,\n",
       "    'attributeName_en': 'Hose I.D. IN',\n",
       "    'siteValue_en': '0.34'},\n",
       "   {'attributeCode': '1824',\n",
       "    'attributeValue': 55,\n",
       "    'attributeSort': 0,\n",
       "    'attributeName_en': 'Hose Length IN',\n",
       "    'siteValue_en': '300'},\n",
       "   {'attributeCode': '322',\n",
       "    'attributeValue': 2798,\n",
       "    'attributeSort': 0,\n",
       "    'attributeName_en': 'Material',\n",
       "    'siteValue_en': 'Rubber'},\n",
       "   {'attributeCode': '512',\n",
       "    'attributeValue': 7427,\n",
       "    'attributeSort': 0,\n",
       "    'attributeName_en': 'Style',\n",
       "    'siteValue_en': 'Barrier Hose'},\n",
       "   {'attributeCode': '571',\n",
       "    'attributeValue': 17752,\n",
       "    'attributeSort': 0,\n",
       "    'attributeName_en': 'Type',\n",
       "    'siteValue_en': 'Bulk Hoses'},\n",
       "   {'attributeCode': '73',\n",
       "    'attributeValue': 4443,\n",
       "    'attributeSort': 0,\n",
       "    'attributeName_en': 'Color',\n",
       "    'siteValue_en': 'Black'}],\n",
       "  'imageUrls': [],\n",
       "  'relatedParts': [],\n",
       "  'relatedCategories': None,\n",
       "  'fandB': [{'basePart': '53021',\n",
       "    'fbId': '8177',\n",
       "    'fbDesc': 'Our products are engineered and tested to provide years of trouble free operation.  Backed by over 50 years of mobile a/c experience, fix it once and fix it right with Four Seasons.',\n",
       "    'taB_Type': 'F&B Heading',\n",
       "    'assetSort': 1,\n",
       "    'digiSort': 0},\n",
       "   {'basePart': '53021',\n",
       "    'fbId': '181165',\n",
       "    'fbDesc': 'Compatible with 3/8 in. OEM cooler systems',\n",
       "    'taB_Type': 'F&B Details',\n",
       "    'assetSort': 8,\n",
       "    'digiSort': 1},\n",
       "   {'basePart': '53021',\n",
       "    'fbId': '20069',\n",
       "    'fbDesc': 'Tube made of black chemigum (nitrile)  ',\n",
       "    'taB_Type': 'F&B Details',\n",
       "    'assetSort': 8,\n",
       "    'digiSort': 2},\n",
       "   {'basePart': '53021',\n",
       "    'fbId': '20067',\n",
       "    'fbDesc': 'Reinforced with 2-spiral synthetic  ',\n",
       "    'taB_Type': 'F&B Details',\n",
       "    'assetSort': 8,\n",
       "    'digiSort': 3},\n",
       "   {'basePart': '53021',\n",
       "    'fbId': '20059',\n",
       "    'fbDesc': 'Covered in black Hypalon',\n",
       "    'taB_Type': 'F&B Details',\n",
       "    'assetSort': 8,\n",
       "    'digiSort': 4}],\n",
       "  'digiAssests': [{'asset_ID': 7,\n",
       "    'assetName': 'Videos',\n",
       "    'basePart': '53021',\n",
       "    'fileName': 'Impact of Airflow on HVAC Performance',\n",
       "    'fileURL': 'https://youtube.com/embed/l-dfJQONdy8',\n",
       "    'comment_ID': '138880',\n",
       "    'comment': 'Impact of Airflow on HVAC Performance',\n",
       "    'assetSort': 7,\n",
       "    'digiSort': 0,\n",
       "    'videoImage': None},\n",
       "   {'asset_ID': 7,\n",
       "    'assetName': 'Videos',\n",
       "    'basePart': '53021',\n",
       "    'fileName': 'SMP Engineering',\n",
       "    'fileURL': 'http://youtube.com/embed/z33qr7b3MWU',\n",
       "    'comment_ID': '138882',\n",
       "    'comment': 'SMP Engineering',\n",
       "    'assetSort': 7,\n",
       "    'digiSort': 0,\n",
       "    'videoImage': None},\n",
       "   {'asset_ID': 7,\n",
       "    'assetName': 'Videos',\n",
       "    'basePart': '53021',\n",
       "    'fileName': 'SMP Facilities',\n",
       "    'fileURL': 'https://youtube.com/embed/LMncDliQK_4',\n",
       "    'comment_ID': '138883',\n",
       "    'comment': 'SMP Facilities',\n",
       "    'assetSort': 7,\n",
       "    'digiSort': 0,\n",
       "    'videoImage': None},\n",
       "   {'asset_ID': 7,\n",
       "    'assetName': 'Videos',\n",
       "    'basePart': '53021',\n",
       "    'fileName': 'SMP Facilities (Quick Tour)',\n",
       "    'fileURL': 'https://youtube.com/embed/mGxHhNBSvjA',\n",
       "    'comment_ID': '138884',\n",
       "    'comment': 'SMP Facilities (Quick Tour)',\n",
       "    'assetSort': 7,\n",
       "    'digiSort': 0,\n",
       "    'videoImage': None},\n",
       "   {'asset_ID': 7,\n",
       "    'assetName': 'Videos',\n",
       "    'basePart': '53021',\n",
       "    'fileName': 'Temp Testing TXV System ',\n",
       "    'fileURL': 'https://youtube.com/embed/wF37ihNBXq8',\n",
       "    'comment_ID': '138887',\n",
       "    'comment': 'Temp Testing TXV System ',\n",
       "    'assetSort': 7,\n",
       "    'digiSort': 0,\n",
       "    'videoImage': None},\n",
       "   {'asset_ID': 7,\n",
       "    'assetName': 'Videos',\n",
       "    'basePart': '53021',\n",
       "    'fileName': 'SMP Mobile Parts App 3.0',\n",
       "    'fileURL': 'https://www.youtube.com/watch?v=HvA2lY15M28',\n",
       "    'comment_ID': '304016',\n",
       "    'comment': 'SMP Mobile Parts App 3.0',\n",
       "    'assetSort': 7,\n",
       "    'digiSort': 0,\n",
       "    'videoImage': None}],\n",
       "  'categories': [{'basePart': '53021',\n",
       "    'webLayout_ID': 10950,\n",
       "    'categoryName_en': 'Bulk Hoses',\n",
       "    'prodCategory_ASort': 10950}],\n",
       "  'crossRef': None,\n",
       "  'completeRepair': {'serviceParts': [],\n",
       "   'serviceSpec': [{'serviceName': 'Fuel Filter Flush (Required)'},\n",
       "    {'serviceName': 'Oil Change (Required)'}]}}}"
      ]
     },
     "execution_count": 8,
     "metadata": {},
     "output_type": "execute_result"
    }
   ],
   "source": [
    "json_ = resp.json()\n",
    "\n",
    "json_"
   ]
  },
  {
   "cell_type": "code",
   "execution_count": 9,
   "id": "86ef5f53-4ba1-4024-af2a-5ad7c6898c6a",
   "metadata": {
    "scrolled": true
   },
   "outputs": [
    {
     "data": {
      "text/html": [
       "<div>\n",
       "<style scoped>\n",
       "    .dataframe tbody tr th:only-of-type {\n",
       "        vertical-align: middle;\n",
       "    }\n",
       "\n",
       "    .dataframe tbody tr th {\n",
       "        vertical-align: top;\n",
       "    }\n",
       "\n",
       "    .dataframe thead th {\n",
       "        text-align: right;\n",
       "    }\n",
       "</style>\n",
       "<table border=\"1\" class=\"dataframe\">\n",
       "  <thead>\n",
       "    <tr style=\"text-align: right;\">\n",
       "      <th></th>\n",
       "      <th>No</th>\n",
       "      <th>Part Number</th>\n",
       "      <th>rowId</th>\n",
       "      <th>site</th>\n",
       "      <th>webBase</th>\n",
       "      <th>brand</th>\n",
       "      <th>basePart</th>\n",
       "      <th>partDesc_en</th>\n",
       "      <th>partLongDesc_en</th>\n",
       "      <th>pop</th>\n",
       "      <th>partComment</th>\n",
       "      <th>qtyEach</th>\n",
       "      <th>webColumn_Id</th>\n",
       "      <th>categoryName_en</th>\n",
       "      <th>vehicleId</th>\n",
       "      <th>mfg</th>\n",
       "      <th>mfG_Part</th>\n",
       "      <th>maxRows</th>\n",
       "      <th>brandLink</th>\n",
       "      <th>imageUrl</th>\n",
       "    </tr>\n",
       "  </thead>\n",
       "  <tbody>\n",
       "    <tr>\n",
       "      <th>0</th>\n",
       "      <td>1</td>\n",
       "      <td>53021</td>\n",
       "      <td>1</td>\n",
       "      <td>FS</td>\n",
       "      <td>53021</td>\n",
       "      <td>FS</td>\n",
       "      <td>53021</td>\n",
       "      <td>Cooler Replacement Hose</td>\n",
       "      <td>Cooler Replacement Hose</td>\n",
       "      <td>F</td>\n",
       "      <td></td>\n",
       "      <td>1</td>\n",
       "      <td></td>\n",
       "      <td></td>\n",
       "      <td></td>\n",
       "      <td></td>\n",
       "      <td></td>\n",
       "      <td>1</td>\n",
       "      <td></td>\n",
       "      <td></td>\n",
       "    </tr>\n",
       "  </tbody>\n",
       "</table>\n",
       "</div>"
      ],
      "text/plain": [
       "   No Part Number  rowId site webBase brand basePart              partDesc_en  \\\n",
       "0   1       53021      1   FS   53021    FS    53021  Cooler Replacement Hose   \n",
       "\n",
       "           partLongDesc_en pop partComment  qtyEach webColumn_Id  \\\n",
       "0  Cooler Replacement Hose   F                    1                \n",
       "\n",
       "  categoryName_en vehicleId mfg mfG_Part  maxRows brandLink imageUrl  \n",
       "0                                               1                     "
      ]
     },
     "execution_count": 9,
     "metadata": {},
     "output_type": "execute_result"
    }
   ],
   "source": [
    "df_temp = pd.concat([pd.DataFrame([input_.iloc[a]]).reset_index(drop=True), pd.DataFrame([json_['pd']])], axis=1).fillna('')\n",
    "\n",
    "df_temp"
   ]
  },
  {
   "cell_type": "code",
   "execution_count": 10,
   "id": "7eb2595b-6357-4a9c-a53e-025d6677f9c6",
   "metadata": {},
   "outputs": [
    {
     "data": {
      "text/plain": [
       "{}"
      ]
     },
     "execution_count": 10,
     "metadata": {},
     "output_type": "execute_result"
    }
   ],
   "source": [
    "dict_vehicle = {}\n",
    "list_vehicle = json_['pp']['buyersGuides']\n",
    "for i, vehicle in zip(range(len(list_vehicle)), list_vehicle):\n",
    "    dict_vehicle[str(i)] = vehicle['buyersGuideDesc'].strip()\n",
    "\n",
    "dict_vehicle"
   ]
  },
  {
   "cell_type": "code",
   "execution_count": 11,
   "id": "f933a1ab-8825-469f-91db-99d00e8d5c6d",
   "metadata": {
    "scrolled": true
   },
   "outputs": [
    {
     "data": {
      "text/plain": [
       "{'0': 'Fuel Filter Flush (Required)', '1': 'Oil Change (Required)'}"
      ]
     },
     "execution_count": 11,
     "metadata": {},
     "output_type": "execute_result"
    }
   ],
   "source": [
    "dict_service = {}\n",
    "list_service = json_['pp']['completeRepair']['serviceSpec']\n",
    "for i, service in zip(range(len(list_service)), list_service):\n",
    "    dict_service[str(i)] = service['serviceName'].strip()\n",
    "\n",
    "dict_service"
   ]
  },
  {
   "cell_type": "code",
   "execution_count": 12,
   "id": "43844a94-a200-41b1-a313-ed0256b88c71",
   "metadata": {},
   "outputs": [
    {
     "data": {
      "text/plain": [
       "{'0': {'Clamps Required?': 'No'},\n",
       " '1': {'Description': 'Cooler Replacement Hose'},\n",
       " '2': {'Hose Shape': 'Non Molded'},\n",
       " '3': {'Warranty': '120 days'},\n",
       " '4': {'Width IN': 'N/A'},\n",
       " '5': {'I.D. IN': '0.34'},\n",
       " '6': {'Length IN': '300'},\n",
       " '7': {'Hose Length FT': '25.000'},\n",
       " '8': {'Hose I.D. IN': '0.34'},\n",
       " '9': {'Hose Length IN': '300'},\n",
       " '10': {'Material': 'Rubber'},\n",
       " '11': {'Style': 'Barrier Hose'},\n",
       " '12': {'Type': 'Bulk Hoses'},\n",
       " '13': {'Color': 'Black'}}"
      ]
     },
     "execution_count": 12,
     "metadata": {},
     "output_type": "execute_result"
    }
   ],
   "source": [
    "dict_spec = {}\n",
    "list_spec = json_['pp']['partSpecs']\n",
    "for i, spec in zip(range(len(list_spec)), list_spec):\n",
    "    dict_spec[str(i)] = {spec['attributeName_en'].strip(): spec['siteValue_en'].strip()}\n",
    "\n",
    "dict_spec"
   ]
  },
  {
   "cell_type": "code",
   "execution_count": 13,
   "id": "46eff63e-1cfa-4a23-ba9e-8351742e8400",
   "metadata": {
    "scrolled": true
   },
   "outputs": [
    {
     "data": {
      "text/html": [
       "<div>\n",
       "<style scoped>\n",
       "    .dataframe tbody tr th:only-of-type {\n",
       "        vertical-align: middle;\n",
       "    }\n",
       "\n",
       "    .dataframe tbody tr th {\n",
       "        vertical-align: top;\n",
       "    }\n",
       "\n",
       "    .dataframe thead th {\n",
       "        text-align: right;\n",
       "    }\n",
       "</style>\n",
       "<table border=\"1\" class=\"dataframe\">\n",
       "  <thead>\n",
       "    <tr style=\"text-align: right;\">\n",
       "      <th></th>\n",
       "      <th>No</th>\n",
       "      <th>Part Number</th>\n",
       "      <th>rowId</th>\n",
       "      <th>site</th>\n",
       "      <th>webBase</th>\n",
       "      <th>brand</th>\n",
       "      <th>basePart</th>\n",
       "      <th>partDesc_en</th>\n",
       "      <th>partLongDesc_en</th>\n",
       "      <th>pop</th>\n",
       "      <th>...</th>\n",
       "      <th>mfg</th>\n",
       "      <th>mfG_Part</th>\n",
       "      <th>maxRows</th>\n",
       "      <th>brandLink</th>\n",
       "      <th>imageUrl</th>\n",
       "      <th>Picture</th>\n",
       "      <th>Url</th>\n",
       "      <th>Json_Vehicle</th>\n",
       "      <th>Json_Service</th>\n",
       "      <th>Json_Spec</th>\n",
       "    </tr>\n",
       "  </thead>\n",
       "  <tbody>\n",
       "    <tr>\n",
       "      <th>0</th>\n",
       "      <td>1</td>\n",
       "      <td>53021</td>\n",
       "      <td>1</td>\n",
       "      <td>FS</td>\n",
       "      <td>53021</td>\n",
       "      <td>FS</td>\n",
       "      <td>53021</td>\n",
       "      <td>Cooler Replacement Hose</td>\n",
       "      <td>Cooler Replacement Hose</td>\n",
       "      <td>F</td>\n",
       "      <td>...</td>\n",
       "      <td></td>\n",
       "      <td></td>\n",
       "      <td>1</td>\n",
       "      <td></td>\n",
       "      <td></td>\n",
       "      <td></td>\n",
       "      <td>https://www.standardbrand.com/en/ecatalog?part...</td>\n",
       "      <td>{}</td>\n",
       "      <td>{\"0\": \"Fuel Filter Flush (Required)\", \"1\": \"Oi...</td>\n",
       "      <td>{\"0\": {\"Clamps Required?\": \"No\"}, \"1\": {\"Descr...</td>\n",
       "    </tr>\n",
       "  </tbody>\n",
       "</table>\n",
       "<p>1 rows × 25 columns</p>\n",
       "</div>"
      ],
      "text/plain": [
       "   No Part Number  rowId site webBase brand basePart              partDesc_en  \\\n",
       "0   1       53021      1   FS   53021    FS    53021  Cooler Replacement Hose   \n",
       "\n",
       "           partLongDesc_en pop  ... mfg  mfG_Part maxRows brandLink imageUrl  \\\n",
       "0  Cooler Replacement Hose   F  ...                     1                      \n",
       "\n",
       "  Picture                                                Url  Json_Vehicle  \\\n",
       "0          https://www.standardbrand.com/en/ecatalog?part...            {}   \n",
       "\n",
       "                                        Json_Service  \\\n",
       "0  {\"0\": \"Fuel Filter Flush (Required)\", \"1\": \"Oi...   \n",
       "\n",
       "                                           Json_Spec  \n",
       "0  {\"0\": {\"Clamps Required?\": \"No\"}, \"1\": {\"Descr...  \n",
       "\n",
       "[1 rows x 25 columns]"
      ]
     },
     "execution_count": 13,
     "metadata": {},
     "output_type": "execute_result"
    }
   ],
   "source": [
    "import json\n",
    "\n",
    "df_temp['Picture'] = ''\n",
    "df_temp['Url'] = f'''https://www.4s.com/en/ecatalog?part={input_.loc[a, 'Part Number']}&type=p&search=s'''\n",
    "df_temp['Json_Vehicle'] = json.dumps(dict_vehicle)\n",
    "df_temp['Json_Service'] = json.dumps(dict_service)\n",
    "df_temp['Json_Spec'] = json.dumps(dict_spec)\n",
    "\n",
    "output_correct = pd.concat([output_correct, df_temp], ignore_index=True).fillna('')\n",
    "\n",
    "output_correct"
   ]
  },
  {
   "cell_type": "code",
   "execution_count": 14,
   "id": "fc4ed7f6-ed4f-431c-b944-b1690309cdae",
   "metadata": {},
   "outputs": [
    {
     "data": {
      "text/plain": [
       "'ok'"
      ]
     },
     "execution_count": 14,
     "metadata": {},
     "output_type": "execute_result"
    }
   ],
   "source": [
    "crawler_status = 'ok'\n",
    "\n",
    "crawler_status"
   ]
  },
  {
   "cell_type": "code",
   "execution_count": 15,
   "id": "65c745d1-446e-46c5-9dec-819c9f7944d3",
   "metadata": {},
   "outputs": [
    {
     "data": {
      "text/html": [
       "<div>\n",
       "<style scoped>\n",
       "    .dataframe tbody tr th:only-of-type {\n",
       "        vertical-align: middle;\n",
       "    }\n",
       "\n",
       "    .dataframe tbody tr th {\n",
       "        vertical-align: top;\n",
       "    }\n",
       "\n",
       "    .dataframe thead th {\n",
       "        text-align: right;\n",
       "    }\n",
       "</style>\n",
       "<table border=\"1\" class=\"dataframe\">\n",
       "  <thead>\n",
       "    <tr style=\"text-align: right;\">\n",
       "      <th></th>\n",
       "    </tr>\n",
       "  </thead>\n",
       "  <tbody>\n",
       "  </tbody>\n",
       "</table>\n",
       "</div>"
      ],
      "text/plain": [
       "Empty DataFrame\n",
       "Columns: []\n",
       "Index: []"
      ]
     },
     "execution_count": 15,
     "metadata": {},
     "output_type": "execute_result"
    }
   ],
   "source": [
    "if crawler_status == 'error':\n",
    "    output_error = pd.concat([output_error, pd.DataFrame([input_.iloc[a]]).reset_index(drop=True)], ignore_index=True).fillna('')\n",
    "\n",
    "output_error"
   ]
  },
  {
   "cell_type": "code",
   "execution_count": 16,
   "id": "7fd477de",
   "metadata": {},
   "outputs": [
    {
     "data": {
      "text/html": [
       "<div>\n",
       "<style scoped>\n",
       "    .dataframe tbody tr th:only-of-type {\n",
       "        vertical-align: middle;\n",
       "    }\n",
       "\n",
       "    .dataframe tbody tr th {\n",
       "        vertical-align: top;\n",
       "    }\n",
       "\n",
       "    .dataframe thead th {\n",
       "        text-align: right;\n",
       "    }\n",
       "</style>\n",
       "<table border=\"1\" class=\"dataframe\">\n",
       "  <thead>\n",
       "    <tr style=\"text-align: right;\">\n",
       "      <th></th>\n",
       "      <th>No</th>\n",
       "      <th>Part Number</th>\n",
       "      <th>rowId</th>\n",
       "      <th>site</th>\n",
       "      <th>webBase</th>\n",
       "      <th>brand</th>\n",
       "      <th>basePart</th>\n",
       "      <th>partDesc_en</th>\n",
       "      <th>partLongDesc_en</th>\n",
       "      <th>pop</th>\n",
       "      <th>...</th>\n",
       "      <th>mfg</th>\n",
       "      <th>mfG_Part</th>\n",
       "      <th>maxRows</th>\n",
       "      <th>brandLink</th>\n",
       "      <th>imageUrl</th>\n",
       "      <th>Picture</th>\n",
       "      <th>Url</th>\n",
       "      <th>Json_Vehicle</th>\n",
       "      <th>Json_Service</th>\n",
       "      <th>Json_Spec</th>\n",
       "    </tr>\n",
       "  </thead>\n",
       "  <tbody>\n",
       "    <tr>\n",
       "      <th>0</th>\n",
       "      <td>1</td>\n",
       "      <td>53021</td>\n",
       "      <td>1</td>\n",
       "      <td>FS</td>\n",
       "      <td>53021</td>\n",
       "      <td>FS</td>\n",
       "      <td>53021</td>\n",
       "      <td>Cooler Replacement Hose</td>\n",
       "      <td>Cooler Replacement Hose</td>\n",
       "      <td>F</td>\n",
       "      <td>...</td>\n",
       "      <td></td>\n",
       "      <td></td>\n",
       "      <td>1</td>\n",
       "      <td></td>\n",
       "      <td></td>\n",
       "      <td></td>\n",
       "      <td>https://www.standardbrand.com/en/ecatalog?part...</td>\n",
       "      <td>{}</td>\n",
       "      <td>{\"0\": \"Fuel Filter Flush (Required)\", \"1\": \"Oi...</td>\n",
       "      <td>{\"0\": {\"Clamps Required?\": \"No\"}, \"1\": {\"Descr...</td>\n",
       "    </tr>\n",
       "  </tbody>\n",
       "</table>\n",
       "<p>1 rows × 25 columns</p>\n",
       "</div>"
      ],
      "text/plain": [
       "   No Part Number  rowId site webBase brand basePart              partDesc_en  \\\n",
       "0   1       53021      1   FS   53021    FS    53021  Cooler Replacement Hose   \n",
       "\n",
       "           partLongDesc_en pop  ... mfg  mfG_Part maxRows brandLink imageUrl  \\\n",
       "0  Cooler Replacement Hose   F  ...                     1                      \n",
       "\n",
       "  Picture                                                Url  Json_Vehicle  \\\n",
       "0          https://www.standardbrand.com/en/ecatalog?part...            {}   \n",
       "\n",
       "                                        Json_Service  \\\n",
       "0  {\"0\": \"Fuel Filter Flush (Required)\", \"1\": \"Oi...   \n",
       "\n",
       "                                           Json_Spec  \n",
       "0  {\"0\": {\"Clamps Required?\": \"No\"}, \"1\": {\"Descr...  \n",
       "\n",
       "[1 rows x 25 columns]"
      ]
     },
     "execution_count": 16,
     "metadata": {},
     "output_type": "execute_result"
    }
   ],
   "source": [
    "if not output_correct.empty:\n",
    "    output_correct = output_correct.sort_values(by=['No'],\n",
    "                                                ascending=[True],\n",
    "                                                ignore_index=True)\n",
    "    output_correct.to_excel('./test_part.xlsx', index=False)\n",
    "\n",
    "output_correct"
   ]
  },
  {
   "cell_type": "code",
   "execution_count": 17,
   "id": "39a5441b-7f69-4812-aad8-7e10a1a24e78",
   "metadata": {},
   "outputs": [
    {
     "data": {
      "text/html": [
       "<div>\n",
       "<style scoped>\n",
       "    .dataframe tbody tr th:only-of-type {\n",
       "        vertical-align: middle;\n",
       "    }\n",
       "\n",
       "    .dataframe tbody tr th {\n",
       "        vertical-align: top;\n",
       "    }\n",
       "\n",
       "    .dataframe thead th {\n",
       "        text-align: right;\n",
       "    }\n",
       "</style>\n",
       "<table border=\"1\" class=\"dataframe\">\n",
       "  <thead>\n",
       "    <tr style=\"text-align: right;\">\n",
       "      <th></th>\n",
       "    </tr>\n",
       "  </thead>\n",
       "  <tbody>\n",
       "  </tbody>\n",
       "</table>\n",
       "</div>"
      ],
      "text/plain": [
       "Empty DataFrame\n",
       "Columns: []\n",
       "Index: []"
      ]
     },
     "execution_count": 17,
     "metadata": {},
     "output_type": "execute_result"
    }
   ],
   "source": [
    "if not output_error.empty:\n",
    "    output_error = output_error.sort_values(by=['No'],\n",
    "                                            ascending=[True],\n",
    "                                            ignore_index=True)\n",
    "    output_error.to_excel('./test_part_error.xlsx', index=False)\n",
    "\n",
    "output_error"
   ]
  },
  {
   "cell_type": "code",
   "execution_count": null,
   "id": "ba5d9f77-7464-4ad5-a42b-1fa0c0505832",
   "metadata": {},
   "outputs": [],
   "source": []
  }
 ],
 "metadata": {
  "kernelspec": {
   "display_name": "Python 3 (ipykernel)",
   "language": "python",
   "name": "python3"
  },
  "language_info": {
   "codemirror_mode": {
    "name": "ipython",
    "version": 3
   },
   "file_extension": ".py",
   "mimetype": "text/x-python",
   "name": "python",
   "nbconvert_exporter": "python",
   "pygments_lexer": "ipython3",
   "version": "3.11.3"
  }
 },
 "nbformat": 4,
 "nbformat_minor": 5
}
