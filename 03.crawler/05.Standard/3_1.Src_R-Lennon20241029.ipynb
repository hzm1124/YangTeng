{
 "cells": [
  {
   "cell_type": "code",
   "execution_count": 1,
   "id": "bc43eeb9-298f-4060-a29f-6cfeca9ef980",
   "metadata": {},
   "outputs": [],
   "source": [
    "import os\n",
    "\n",
    "# = = = = = = = = = = = = = = =\n",
    "\n",
    "import pandas as pd\n",
    "\n",
    "# = = = = = = = = = = = = = = =\n",
    "\n",
    "import requests\n",
    "\n",
    "import sys\n",
    "sys.path.append('../00.Tools')\n",
    "from crawler_configuration import get_header, get_proxy\n",
    "\n",
    "import json"
   ]
  },
  {
   "cell_type": "code",
   "execution_count": 2,
   "id": "1549e972-a339-4b58-be42-48542af8a6b2",
   "metadata": {},
   "outputs": [
    {
     "data": {
      "text/plain": [
       "'crawler_1.xlsx'"
      ]
     },
     "execution_count": 2,
     "metadata": {},
     "output_type": "execute_result"
    }
   ],
   "source": [
    "directory_in = './file/2.part'\n",
    "\n",
    "list_file = [file for file in sorted(os.listdir(directory_in)) if file not in ['.DS_Store'] and os.path.isfile(f'{directory_in}/{file}')]\n",
    "file = list_file[0]\n",
    "\n",
    "file"
   ]
  },
  {
   "cell_type": "code",
   "execution_count": 3,
   "id": "e54a1949-c728-4502-91a4-65957f9a0d43",
   "metadata": {},
   "outputs": [
    {
     "name": "stdout",
     "output_type": "stream",
     "text": [
      "总数量：1\n",
      "\n"
     ]
    },
    {
     "data": {
      "text/html": [
       "<div>\n",
       "<style scoped>\n",
       "    .dataframe tbody tr th:only-of-type {\n",
       "        vertical-align: middle;\n",
       "    }\n",
       "\n",
       "    .dataframe tbody tr th {\n",
       "        vertical-align: top;\n",
       "    }\n",
       "\n",
       "    .dataframe thead th {\n",
       "        text-align: right;\n",
       "    }\n",
       "</style>\n",
       "<table border=\"1\" class=\"dataframe\">\n",
       "  <thead>\n",
       "    <tr style=\"text-align: right;\">\n",
       "      <th></th>\n",
       "      <th>No</th>\n",
       "      <th>Part Number</th>\n",
       "      <th>Vehicle</th>\n",
       "      <th>Picture</th>\n",
       "      <th>Url</th>\n",
       "      <th>Json_Type</th>\n",
       "      <th>Json_Info</th>\n",
       "      <th>Json_Specification</th>\n",
       "    </tr>\n",
       "  </thead>\n",
       "  <tbody>\n",
       "    <tr>\n",
       "      <th>0</th>\n",
       "      <td>29</td>\n",
       "      <td>NS-173</td>\n",
       "      <td>Nissan D21 (94)\\nNissan Frontier (99-98)\\nNiss...</td>\n",
       "      <td></td>\n",
       "      <td>https://www.standardbrand.com/en/ecatalog?part...</td>\n",
       "      <td>{\"0\": \"Switch - Clutch Starter Safety\"}</td>\n",
       "      <td>{\"Brand\": \"STI\", \"Partdesc_En\": \"Clutch Starte...</td>\n",
       "      <td>{\"0\": {\"Warranty\": \"3 years/36,000 mile\"}, \"1\"...</td>\n",
       "    </tr>\n",
       "  </tbody>\n",
       "</table>\n",
       "</div>"
      ],
      "text/plain": [
       "   No Part Number                                            Vehicle Picture  \\\n",
       "0  29      NS-173  Nissan D21 (94)\\nNissan Frontier (99-98)\\nNiss...           \n",
       "\n",
       "                                                 Url  \\\n",
       "0  https://www.standardbrand.com/en/ecatalog?part...   \n",
       "\n",
       "                                 Json_Type  \\\n",
       "0  {\"0\": \"Switch - Clutch Starter Safety\"}   \n",
       "\n",
       "                                           Json_Info  \\\n",
       "0  {\"Brand\": \"STI\", \"Partdesc_En\": \"Clutch Starte...   \n",
       "\n",
       "                                  Json_Specification  \n",
       "0  {\"0\": {\"Warranty\": \"3 years/36,000 mile\"}, \"1\"...  "
      ]
     },
     "execution_count": 3,
     "metadata": {},
     "output_type": "execute_result"
    }
   ],
   "source": [
    "list_dict_correct, list_series_error, df_input = [], [], pd.read_excel(f'{directory_in}/{file}',\n",
    "                                                                       header=0,\n",
    "                                                                       dtype=str).fillna('')\n",
    "\n",
    "df_input['No'] = df_input['No'].astype(int)\n",
    "\n",
    "count_remain = len(df_input)\n",
    "\n",
    "print(f'总数量：{count_remain}')\n",
    "print()\n",
    "df_input"
   ]
  },
  {
   "cell_type": "code",
   "execution_count": 4,
   "id": "42130183-3b93-4078-ae77-346b4df4e38c",
   "metadata": {},
   "outputs": [
    {
     "data": {
      "text/plain": [
       "(0,\n",
       " No                                                                   29\n",
       " Part Number                                                      NS-173\n",
       " Vehicle               Nissan D21 (94)\\nNissan Frontier (99-98)\\nNiss...\n",
       " Picture                                                                \n",
       " Url                   https://www.standardbrand.com/en/ecatalog?part...\n",
       " Json_Type                       {\"0\": \"Switch - Clutch Starter Safety\"}\n",
       " Json_Info             {\"Brand\": \"STI\", \"Partdesc_En\": \"Clutch Starte...\n",
       " Json_Specification    {\"0\": {\"Warranty\": \"3 years/36,000 mile\"}, \"1\"...\n",
       " Name: 0, dtype: object)"
      ]
     },
     "execution_count": 4,
     "metadata": {},
     "output_type": "execute_result"
    }
   ],
   "source": [
    "(crawler_index, crawler_series) = next(df_input.iterrows())\n",
    "\n",
    "crawler_index, crawler_series"
   ]
  },
  {
   "cell_type": "code",
   "execution_count": 5,
   "id": "d1573928-cf3f-4364-b75a-2fd32bac0395",
   "metadata": {
    "scrolled": true
   },
   "outputs": [
    {
     "name": "stdout",
     "output_type": "stream",
     "text": [
      "1\n",
      "2\n"
     ]
    },
    {
     "data": {
      "text/plain": [
       "[]"
      ]
     },
     "execution_count": 5,
     "metadata": {},
     "output_type": "execute_result"
    }
   ],
   "source": [
    "import time\n",
    "\n",
    "count_retry = 0\n",
    "while True:\n",
    "    count_retry += 1\n",
    "    print(count_retry)\n",
    "    try:\n",
    "        url_request, url_check = f'''https://ecatalog.smpcorp.com/V2/STD/api/image/getallimages?partNum={crawler_series['Part Number']}&brand={json.loads(crawler_series['Json_Info'])['Brand']}&zoomFactor_sm=75&zoomFactor_md=360&zoomFactor_bg=960''', crawler_series['Url']\n",
    "\n",
    "        resp = requests.get(url_request,\n",
    "                            headers=get_header(),\n",
    "                            proxies=get_proxy(),\n",
    "                            timeout=(5, 15))\n",
    "\n",
    "        if resp.status_code == 200:\n",
    "            break\n",
    "    except KeyboardInterrupt:\n",
    "        break\n",
    "    except:\n",
    "        time.sleep(3)\n",
    "        continue\n",
    "\n",
    "resp.json()"
   ]
  },
  {
   "cell_type": "code",
   "execution_count": 6,
   "id": "99c448e5-f241-47f6-bdd9-41d9d62ed617",
   "metadata": {},
   "outputs": [
    {
     "data": {
      "text/plain": [
       "{}"
      ]
     },
     "execution_count": 6,
     "metadata": {},
     "output_type": "execute_result"
    }
   ],
   "source": [
    "dict_src = {}\n",
    "for i, dict_ in enumerate(resp.json()):\n",
    "    dict_src[str(i)] = dict_['image_BG_Url'].strip()\n",
    "\n",
    "dict_src"
   ]
  },
  {
   "cell_type": "code",
   "execution_count": 7,
   "id": "680faf74-7295-4e89-9b19-a2879c8bd7e0",
   "metadata": {
    "scrolled": true
   },
   "outputs": [
    {
     "data": {
      "text/plain": [
       "[{'No': 29,\n",
       "  'Part Number': 'NS-173',\n",
       "  'Vehicle': 'Nissan D21 (94)\\nNissan Frontier (99-98)\\nNissan Pickup (97-95)',\n",
       "  'Picture': '',\n",
       "  'Url': 'https://www.standardbrand.com/en/ecatalog?part=NS173&type=p&search=s',\n",
       "  'Json_Src': '{}',\n",
       "  'Json_Type': '{\"0\": \"Switch - Clutch Starter Safety\"}',\n",
       "  'Json_Info': '{\"Brand\": \"STI\", \"Partdesc_En\": \"Clutch Starter Safety Switch\", \"Partlongdesc_En\": \"Clutch Starter Safety Switch\", \"Pop\": \"X\", \"Qtyeach\": 1}',\n",
       "  'Json_Specification': '{\"0\": {\"Warranty\": \"3 years/36,000 mile\"}, \"1\": {\"Connector Quantity\": \"2\"}, \"2\": {\"Connector Gender\": \"Female; Female\"}, \"3\": {\"Terminal Quantity\": \"2\"}, \"4\": {\"Terminal Gender\": \"Female; Male\"}, \"5\": {\"Terminal Type\": \"Blade Terminals\"}, \"6\": {\"Color/Finish\": \"Black, Gray\"}, \"7\": {\"Finish\": \"Dichromate, Plastic\"}}'}]"
      ]
     },
     "execution_count": 7,
     "metadata": {},
     "output_type": "execute_result"
    }
   ],
   "source": [
    "list_dict_correct.append({'No': crawler_series['No'],\n",
    "                          'Part Number': crawler_series['Part Number'],\n",
    "                          'Vehicle': crawler_series['Vehicle'],\n",
    "                          'Picture': crawler_series['Picture'],\n",
    "                          'Url': crawler_series['Url'],\n",
    "                          'Json_Src': json.dumps(dict_src),\n",
    "                          'Json_Type': crawler_series['Json_Type'],\n",
    "                          'Json_Info': crawler_series['Json_Info'],\n",
    "                          'Json_Specification': crawler_series['Json_Specification']})\n",
    "\n",
    "list_dict_correct"
   ]
  },
  {
   "cell_type": "code",
   "execution_count": 8,
   "id": "fc4ed7f6-ed4f-431c-b944-b1690309cdae",
   "metadata": {},
   "outputs": [
    {
     "data": {
      "text/plain": [
       "True"
      ]
     },
     "execution_count": 8,
     "metadata": {},
     "output_type": "execute_result"
    }
   ],
   "source": [
    "crawler_status = True\n",
    "\n",
    "crawler_status"
   ]
  },
  {
   "cell_type": "code",
   "execution_count": 9,
   "id": "65c745d1-446e-46c5-9dec-819c9f7944d3",
   "metadata": {},
   "outputs": [
    {
     "data": {
      "text/plain": [
       "[No                                                                   29\n",
       " Part Number                                                      NS-173\n",
       " Vehicle               Nissan D21 (94)\\nNissan Frontier (99-98)\\nNiss...\n",
       " Picture                                                                \n",
       " Url                   https://www.standardbrand.com/en/ecatalog?part...\n",
       " Json_Type                       {\"0\": \"Switch - Clutch Starter Safety\"}\n",
       " Json_Info             {\"Brand\": \"STI\", \"Partdesc_En\": \"Clutch Starte...\n",
       " Json_Specification    {\"0\": {\"Warranty\": \"3 years/36,000 mile\"}, \"1\"...\n",
       " Request_Url           https://ecatalog.smpcorp.com/V2/STD/api/image/...\n",
       " Check_Url             https://www.standardbrand.com/en/ecatalog?part...\n",
       " Name: 0, dtype: object]"
      ]
     },
     "execution_count": 9,
     "metadata": {},
     "output_type": "execute_result"
    }
   ],
   "source": [
    "crawler_series['Request_Url'], crawler_series['Check_Url'] = url_request, url_check\n",
    "\n",
    "list_series_error.append(crawler_series)\n",
    "\n",
    "list_series_error"
   ]
  },
  {
   "cell_type": "code",
   "execution_count": 10,
   "id": "7fd477de",
   "metadata": {},
   "outputs": [
    {
     "data": {
      "text/html": [
       "<div>\n",
       "<style scoped>\n",
       "    .dataframe tbody tr th:only-of-type {\n",
       "        vertical-align: middle;\n",
       "    }\n",
       "\n",
       "    .dataframe tbody tr th {\n",
       "        vertical-align: top;\n",
       "    }\n",
       "\n",
       "    .dataframe thead th {\n",
       "        text-align: right;\n",
       "    }\n",
       "</style>\n",
       "<table border=\"1\" class=\"dataframe\">\n",
       "  <thead>\n",
       "    <tr style=\"text-align: right;\">\n",
       "      <th></th>\n",
       "      <th>No</th>\n",
       "      <th>Part Number</th>\n",
       "      <th>Vehicle</th>\n",
       "      <th>Picture</th>\n",
       "      <th>Url</th>\n",
       "      <th>Json_Src</th>\n",
       "      <th>Json_Type</th>\n",
       "      <th>Json_Info</th>\n",
       "      <th>Json_Specification</th>\n",
       "    </tr>\n",
       "  </thead>\n",
       "  <tbody>\n",
       "    <tr>\n",
       "      <th>0</th>\n",
       "      <td>29</td>\n",
       "      <td>NS-173</td>\n",
       "      <td>Nissan D21 (94)\\nNissan Frontier (99-98)\\nNiss...</td>\n",
       "      <td></td>\n",
       "      <td>https://www.standardbrand.com/en/ecatalog?part...</td>\n",
       "      <td>{}</td>\n",
       "      <td>{\"0\": \"Switch - Clutch Starter Safety\"}</td>\n",
       "      <td>{\"Brand\": \"STI\", \"Partdesc_En\": \"Clutch Starte...</td>\n",
       "      <td>{\"0\": {\"Warranty\": \"3 years/36,000 mile\"}, \"1\"...</td>\n",
       "    </tr>\n",
       "  </tbody>\n",
       "</table>\n",
       "</div>"
      ],
      "text/plain": [
       "   No Part Number                                            Vehicle Picture  \\\n",
       "0  29      NS-173  Nissan D21 (94)\\nNissan Frontier (99-98)\\nNiss...           \n",
       "\n",
       "                                                 Url Json_Src  \\\n",
       "0  https://www.standardbrand.com/en/ecatalog?part...       {}   \n",
       "\n",
       "                                 Json_Type  \\\n",
       "0  {\"0\": \"Switch - Clutch Starter Safety\"}   \n",
       "\n",
       "                                           Json_Info  \\\n",
       "0  {\"Brand\": \"STI\", \"Partdesc_En\": \"Clutch Starte...   \n",
       "\n",
       "                                  Json_Specification  \n",
       "0  {\"0\": {\"Warranty\": \"3 years/36,000 mile\"}, \"1\"...  "
      ]
     },
     "execution_count": 10,
     "metadata": {},
     "output_type": "execute_result"
    }
   ],
   "source": [
    "if list_dict_correct:\n",
    "    df_correct = pd.DataFrame(list_dict_correct).sort_values(by=['No'],\n",
    "                                                             ascending=[True],\n",
    "                                                             ignore_index=True)\n",
    "    df_correct.to_excel('./test_src.xlsx', index=False)\n",
    "\n",
    "df_correct"
   ]
  },
  {
   "cell_type": "code",
   "execution_count": 11,
   "id": "39a5441b-7f69-4812-aad8-7e10a1a24e78",
   "metadata": {},
   "outputs": [
    {
     "data": {
      "text/html": [
       "<div>\n",
       "<style scoped>\n",
       "    .dataframe tbody tr th:only-of-type {\n",
       "        vertical-align: middle;\n",
       "    }\n",
       "\n",
       "    .dataframe tbody tr th {\n",
       "        vertical-align: top;\n",
       "    }\n",
       "\n",
       "    .dataframe thead th {\n",
       "        text-align: right;\n",
       "    }\n",
       "</style>\n",
       "<table border=\"1\" class=\"dataframe\">\n",
       "  <thead>\n",
       "    <tr style=\"text-align: right;\">\n",
       "      <th></th>\n",
       "      <th>No</th>\n",
       "      <th>Part Number</th>\n",
       "      <th>Vehicle</th>\n",
       "      <th>Picture</th>\n",
       "      <th>Url</th>\n",
       "      <th>Json_Type</th>\n",
       "      <th>Json_Info</th>\n",
       "      <th>Json_Specification</th>\n",
       "      <th>Request_Url</th>\n",
       "      <th>Check_Url</th>\n",
       "    </tr>\n",
       "  </thead>\n",
       "  <tbody>\n",
       "    <tr>\n",
       "      <th>0</th>\n",
       "      <td>29</td>\n",
       "      <td>NS-173</td>\n",
       "      <td>Nissan D21 (94)\\nNissan Frontier (99-98)\\nNiss...</td>\n",
       "      <td></td>\n",
       "      <td>https://www.standardbrand.com/en/ecatalog?part...</td>\n",
       "      <td>{\"0\": \"Switch - Clutch Starter Safety\"}</td>\n",
       "      <td>{\"Brand\": \"STI\", \"Partdesc_En\": \"Clutch Starte...</td>\n",
       "      <td>{\"0\": {\"Warranty\": \"3 years/36,000 mile\"}, \"1\"...</td>\n",
       "      <td>https://ecatalog.smpcorp.com/V2/STD/api/image/...</td>\n",
       "      <td>https://www.standardbrand.com/en/ecatalog?part...</td>\n",
       "    </tr>\n",
       "  </tbody>\n",
       "</table>\n",
       "</div>"
      ],
      "text/plain": [
       "   No Part Number                                            Vehicle Picture  \\\n",
       "0  29      NS-173  Nissan D21 (94)\\nNissan Frontier (99-98)\\nNiss...           \n",
       "\n",
       "                                                 Url  \\\n",
       "0  https://www.standardbrand.com/en/ecatalog?part...   \n",
       "\n",
       "                                 Json_Type  \\\n",
       "0  {\"0\": \"Switch - Clutch Starter Safety\"}   \n",
       "\n",
       "                                           Json_Info  \\\n",
       "0  {\"Brand\": \"STI\", \"Partdesc_En\": \"Clutch Starte...   \n",
       "\n",
       "                                  Json_Specification  \\\n",
       "0  {\"0\": {\"Warranty\": \"3 years/36,000 mile\"}, \"1\"...   \n",
       "\n",
       "                                         Request_Url  \\\n",
       "0  https://ecatalog.smpcorp.com/V2/STD/api/image/...   \n",
       "\n",
       "                                           Check_Url  \n",
       "0  https://www.standardbrand.com/en/ecatalog?part...  "
      ]
     },
     "execution_count": 11,
     "metadata": {},
     "output_type": "execute_result"
    }
   ],
   "source": [
    "if list_series_error:\n",
    "    df_error = pd.DataFrame(list_series_error).sort_values(by=['No'],\n",
    "                                                           ascending=[True],\n",
    "                                                           ignore_index=True)\n",
    "    df_error.to_excel('./test_src_error.xlsx', index=False)\n",
    "\n",
    "df_error"
   ]
  },
  {
   "cell_type": "code",
   "execution_count": null,
   "id": "ba5d9f77-7464-4ad5-a42b-1fa0c0505832",
   "metadata": {},
   "outputs": [],
   "source": []
  }
 ],
 "metadata": {
  "kernelspec": {
   "display_name": "Python 3 (ipykernel)",
   "language": "python",
   "name": "python3"
  },
  "language_info": {
   "codemirror_mode": {
    "name": "ipython",
    "version": 3
   },
   "file_extension": ".py",
   "mimetype": "text/x-python",
   "name": "python",
   "nbconvert_exporter": "python",
   "pygments_lexer": "ipython3",
   "version": "3.12.7"
  }
 },
 "nbformat": 4,
 "nbformat_minor": 5
}
