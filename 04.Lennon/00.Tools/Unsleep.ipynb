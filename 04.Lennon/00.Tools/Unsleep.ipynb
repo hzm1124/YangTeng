{
 "cells": [
  {
   "cell_type": "code",
   "execution_count": 1,
   "id": "0a4f20d7",
   "metadata": {},
   "outputs": [
    {
     "ename": "KeyboardInterrupt",
     "evalue": "",
     "output_type": "error",
     "traceback": [
      "\u001b[0;31m---------------------------------------------------------------------------\u001b[0m",
      "\u001b[0;31mKeyboardInterrupt\u001b[0m                         Traceback (most recent call last)",
      "Cell \u001b[0;32mIn[1], line 10\u001b[0m\n\u001b[1;32m      8\u001b[0m time\u001b[38;5;241m.\u001b[39msleep(\u001b[38;5;241m10\u001b[39m)\n\u001b[1;32m      9\u001b[0m pyautogui\u001b[38;5;241m.\u001b[39mmoveTo(\u001b[38;5;241m1700\u001b[39m, \u001b[38;5;241m630\u001b[39m)\n\u001b[0;32m---> 10\u001b[0m time\u001b[38;5;241m.\u001b[39msleep(\u001b[38;5;241m10\u001b[39m)\n\u001b[1;32m     11\u001b[0m pyautogui\u001b[38;5;241m.\u001b[39mmoveTo(\u001b[38;5;241m800\u001b[39m, \u001b[38;5;241m630\u001b[39m)\n\u001b[1;32m     12\u001b[0m time\u001b[38;5;241m.\u001b[39msleep(\u001b[38;5;241m10\u001b[39m)\n",
      "\u001b[0;31mKeyboardInterrupt\u001b[0m: "
     ]
    }
   ],
   "source": [
    "import pyautogui\n",
    "import time\n",
    "\n",
    "while True:\n",
    "    pyautogui.moveTo(800, 330)\n",
    "    time.sleep(10)\n",
    "    pyautogui.moveTo(1700, 330)\n",
    "    time.sleep(10)\n",
    "    pyautogui.moveTo(1700, 630)\n",
    "    time.sleep(10)\n",
    "    pyautogui.moveTo(800, 630)\n",
    "    time.sleep(10)"
   ]
  },
  {
   "cell_type": "code",
   "execution_count": null,
   "id": "0dd26597",
   "metadata": {},
   "outputs": [],
   "source": []
  }
 ],
 "metadata": {
  "kernelspec": {
   "display_name": "Python 3 (ipykernel)",
   "language": "python",
   "name": "python3"
  },
  "language_info": {
   "codemirror_mode": {
    "name": "ipython",
    "version": 3
   },
   "file_extension": ".py",
   "mimetype": "text/x-python",
   "name": "python",
   "nbconvert_exporter": "python",
   "pygments_lexer": "ipython3",
   "version": "3.11.3"
  }
 },
 "nbformat": 4,
 "nbformat_minor": 5
}
