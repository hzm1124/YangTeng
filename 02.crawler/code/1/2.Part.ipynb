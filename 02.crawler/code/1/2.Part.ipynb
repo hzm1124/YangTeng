{
 "cells": [
  {
   "cell_type": "code",
   "execution_count": 1,
   "id": "9351f323-75e4-4a4d-8cd8-455cfe6d59b0",
   "metadata": {},
   "outputs": [
    {
     "data": {
      "text/plain": [
       "{'type_': 'Timing Chain & Component Kit',\n",
       " 'group': 'Engine',\n",
       " 'no': 1,\n",
       " 'type_code': '5756',\n",
       " 'manufacturer': 'MELLING',\n",
       " 'part_number': '30250S',\n",
       " 'url': 'https://www.rockauto.com/en/parts/melling,30250S,timing+chain+&+component+kit,5756'}"
      ]
     },
     "execution_count": 1,
     "metadata": {},
     "output_type": "execute_result"
    }
   ],
   "source": [
    "item = {'type_': 'Timing Chain & Component Kit',\n",
    " 'group': 'Engine',\n",
    " 'no': 1,\n",
    " 'type_code': '5756',\n",
    " 'manufacturer': 'MELLING',\n",
    " 'part_number': '30250S',\n",
    " 'url': 'https://www.rockauto.com/en/parts/melling,30250S,timing+chain+&+component+kit,5756'}\n",
    "\n",
    "item"
   ]
  },
  {
   "cell_type": "code",
   "execution_count": 2,
   "id": "dae50756-2062-4666-ae60-73dc868c8ba9",
   "metadata": {},
   "outputs": [],
   "source": [
    "import requests\n",
    "\n",
    "import sys\n",
    "sys.path.append('../00.Tools')\n",
    "from configuration import generate_header, generate_proxy"
   ]
  },
  {
   "cell_type": "code",
   "execution_count": 3,
   "id": "8d33c4e1-ae4d-48a0-9230-e42f32bee699",
   "metadata": {},
   "outputs": [
    {
     "data": {
      "text/plain": [
       "200"
      ]
     },
     "execution_count": 3,
     "metadata": {},
     "output_type": "execute_result"
    }
   ],
   "source": [
    "data = {'dopartsearch': '1',\n",
    "        'partsearch[partnum][partsearch_007]': item['part_number'],\n",
    "        'partsearch[manufacturer][partsearch_007]': item['manufacturer'],\n",
    "        'partsearch[parttype][partsearch_007]': item['type_code'],\n",
    "        'partsearch[do][partsearch_007]': '1',\n",
    "        'func': 'sendparttabsearch',\n",
    "        'api_json_request': '1'}\n",
    "response = requests.post('https://www.rockauto.com/catalog/catalogapi.php',\n",
    "                         data=data,\n",
    "                         headers=generate_header(),\n",
    "                         proxies=generate_proxy(),\n",
    "                         timeout=(10, 15),\n",
    "                         allow_redirects=False)\n",
    "\n",
    "response.status_code"
   ]
  },
  {
   "cell_type": "code",
   "execution_count": 4,
   "id": "d1eb620c-4d19-4195-9140-1791315e175c",
   "metadata": {
    "scrolled": true
   },
   "outputs": [
    {
     "data": {
      "text/plain": [
       "{'searchnoderesults': '<div class=\"ranavnode\" id=\"nav[__GIP__1__]\"><input type=\"hidden\" autocomplete=\"off\" id=\"jsn[__GIP__1__]\" value=\"{&quot;groupindex&quot;:&quot;__GIP__1__&quot;,&quot;tab&quot;:&quot;partsearch&quot;,&quot;idepth&quot;:0,&quot;parttype&quot;:&quot;5756&quot;,&quot;catalogname&quot;:&quot;MELLING&quot;,&quot;partnumber&quot;:&quot;30250S&quot;,&quot;nodetype&quot;:&quot;parttabsearch&quot;,&quot;expanded&quot;:true,&quot;loaded&quot;:true}\" /><input type=\"hidden\" autocomplete=\"off\" name=\"navnodeunique[partsearch-5756]\" id=\"navnodeunique[partsearch-5756]\" value=\"__GIP__1__\" /><div id=\"nav_o[__GIP__1__]\" class=\"ranavouter\"><div class=\"inner\"><table class=\"tbl\"  cellpadding=\"0\" cellspacing=\"0\"><tr><td class=\"niconspace nexpandedicon\" id=\"navicon[__GIP__1__]\"><a href=\"/en/parts/melling,30250S,timing+chain+&amp;+component+kit,5756\" onclick=\"cataloglite.LinkIntercept_ToggleNavNode(&quot;__GIP__1__&quot;); return false;\" tabindex=\"-1\"><img src=\"/Images/1pxtransparent.png\" alt=\"Toggle\"></a></td><td class=\"nlabel\" ><a class=\"navlabellink nvoffset nnormal\" href=\"/en/parts/melling,30250S,timing+chain+&amp;+component+kit,5756\" onclick=\"cataloglite.LinkIntercept_ToggleNavNode(&quot;__GIP__1__&quot;); return false;\" id=\"navhref[__GIP__1__]\">Search for Manufacturer=\\'MELLING\\' and Part Type=\\'Timing Chain &amp; Component Kit\\' and Part Number=\\'30250S\\'</a></td></tr></table></div></div><div class=\"nchildren\" id=\"navchildren[__GIP__1__]\" ><div id=\"listings[__GIP__2__]\" class=\"listings-container\"><form method=\"post\" id=\"frmlistings[__GIP__2__]\" class=\"nobmp\" action=\"/en/partsearch/?mfr=MELLING&parttype=5756&partnum=30250S\"><input type=\"hidden\" name=\"_nck\" value=\"8LVLUxTaILBT+tLxkg8+3Ag7/0bbOhvn7P3rkFbL80/4ONrpMMyyMoTAzqUtg75DXjLFbtL0RWwG2TIS5g0HjN+BEpbJggwRicfW87qYxCroJDOCFdvb3koFH0TxTw3xVpCZZysmtwBxz01F/5MgqLLoutu7gYqTyLMO41Xnk3z8whvbquIiNmyS1J5VdAwH\"><div class=\"listing-container-border\"><input type=\"hidden\" autocomplete=\"off\" id=\"parentnode[__GIP__2__]\" value=\"__GIP__1__\" /><div><div style=\"padding-top: 1px; padding-left: .25em; padding-right: .25em;\"><div class=\"remove-for-print\" style=\"padding-top:5px;\"><div class=\"ib vtop\"><span style=\"padding-left: .5em;\" class=\"show-if-js\"><img onclick=\"cataloglite.NavNode_SimulateClick(&quot;__GIP__1__&quot;);\" style=\"vertical-align: top;\" class=\"mouseover\" src=\"/catalog/images/close.gif\" alt=\"Close\" title=\"Close\" /></span><span style=\"padding-left: .5em;\" class=\"show-if-js\"><a href=\"/en/printlistings.php?ni=__GIP__2__&title=Print Part Listings\" target=\"_blank\" rel=\"opener\" ><img style=\"vertical-align: top; border: none; height: 20px;\" class=\"mouseover\" src=\"/Images/mobile/printer.png\" alt=\"Print Part Listings\" title=\"Print Part Listings\" /></a></span><span style=\"padding-left: .5em;\" class=\"show-if-js\"><a href=\"/en/emailpagetofriend.php?nurl=%2Fen%2Fpartsearch%2F%3Fmfr%3DMELLING%26parttype%3D5756%26partnum%3D30250S\" target=\"_blank\" onclick=\"cataloglite.AddFiltersToEmailListingURL(&quot;\\\\/en\\\\/partsearch\\\\/?mfr=MELLING&amp;parttype=5756&amp;partnum=30250S&quot;, &quot;__GIP__2__&quot;); return false;\"><img style=\"vertical-align: top; border: none; height: 14px;\" class=\"mouseover\" src=\"/Images/mobile/envelope.png\" alt=\"Send these listings to a friend\" title=\"Send these listings to a friend\" /></a></span><span style=\"padding-left: .5em;\" class=\"show-if-js\"><a href=\"/help/?page=2\" target=\"_blank\" style=\"text-decoration: none;\" title=\"How do I choose a part?\" alt=\"How do I choose a part?\">\\n                                            <img class=\"help_q_icon_16 vtop\" src=\"/Images/questionMark.png\" alt=\"Help\" />\\n                                            </a></span></div><span style=\"padding-left: .5em;\" class=\"span-filterinput\"><div class=\"ib\"><table class=\"tblz tbl-input-button-attached attached-filter-size\"><tr><td class=\"td-input\"><input type=\"text\" size=\"25\" value=\"\" name=\"filterinput\" class=\"filter-input\" id=\"filterinput[__GIP__2__]\" style=\"\" onclick=\"cataloglite.DisplayFilterBreakDown(&quot;__GIP__2__&quot;);\" onkeypress=\"return RA.InterceptEnter(event, function(){cataloglite.FilterListings(&quot;__GIP__2__&quot;);});\" onblur=\"cataloglite.FilterListings(&quot;__GIP__2__&quot;);\" autocomplete=\"off\" spellcheck=\"false\" autocorrect=\"off\" autocapitalize=\"off\" placeholder=\"Filter By Keyword(s)\" title=\"Filter listings below by entering words that you want to see. Use \\'-\\' before a word to find results that do NOT contain that word. Use OR between words or groups of words to see listings that match either. Use quotes &quot;...&quot; around a set of words you wish to match only when they exist together as a phrase. Multiple filters can be applied by entering new words or phrases after each filter operation.\" /></td><td class=\"td-button\"><img class=\"ib input-size ra-btn ra-btn-size-normal ra-btn-color-darkblue ra-btn-search-icon\" src=\"/Images/1pxtransparent.png\" style=\"color: black;\" onclick=\"RA.ThrottleRepeats(function() { cataloglite.SendPartTabSearch(\\'frm_partsearch\\', &quot;__GIP__2__&quot;); }, \\'part_tab_search_filter\\', 2.5); return false;\" alt=\"Apply Filter\" /></td></tr></table></div><span style=\"position: relative;\"><span id=\"filterbreakdownwrapper___GIP__2__\" class=\"ra-hide\" style=\"position: absolute; z-index: 10;\"><div style=\"background: #FFFFFF; border: 1px solid black; padding: 5px; white-space: nowrap;\"><div style=\"text-align: right;\" class=\"filter-breakdown-row-spacing\"><img onclick=\"cataloglite.DisplayFilterBreakDown(&quot;__GIP__2__&quot;, 1);\" style=\"vertical-align: top;\" class=\"mouseover\" src=\"/catalog/images/close.gif\" alt=\"Hide\" title=\"Hide\"></div><div id=\"filterbreakdownsteps___GIP__2__\"></div><div style=\"text-align: center; padding-top: .25em;\"><input type=\"submit\" name=\"clearfilter\" value=\"Clear Filter\" class=\"ra-btn mo-link\" style=\"color: blue;\" onclick=\"RA.ThrottleRepeats(function() { cataloglite.SendPartTabSearch(\\'frm_partsearch\\', &quot;__GIP__2__&quot;, 1); }, \\'part_tab_search_filter\\', 2.5); return false;\"></div></div></span></span></span></div></div><div style=\"clear: both; padding-top: .25em;\"></div><table class=\"nobmp\" style=\"width: 100%;\" cellpadding=\"0\" cellspacing=\"0\">\\n                    <tbody>\\n                        <tr>\\n                            <td colspan=\"2\">\\n                                \\n                            </td>\\n                            <td colspan=\"4\" class=\" listing-float-box-cell-shared-header\" style=\"height: 1px; text-align: center;\">\\n                                <span style=\"font-weight: bold;\">Price</span>\\n                            </td>\\n                            <td class=\"ra-hide listing-float-box-cell-shared-header\" style=\"height: 1px; text-align: center;\">\\n                                \\n                            </td>\\n                            <td class=\"ra-hide listing-float-box-cell-shared-header\" style=\"height: 1px; text-align: center;\">\\n                                \\n                            </td>\\n                            <td class=\"ra-hide listing-float-box-cell-shared-header\" style=\"height: 1px; text-align: center;\">\\n                                \\n                            </td>\\n                            <td class=\" listing-float-box-cell-shared-header\" style=\"text-align: center;\">\\n                                \\n                            </td>\\n                        </tr>\\n                    </tbody>\\n                    <tr class=\"remove-for-print\"><td colspan=\"6\" id=\"listingnopartscriteria[__GIP__2__]\" style=\"color: red;\" class=\"ra-hide\">No parts for vehicles in selected markets.</td></tr>\\n                    <tbody id=\"listingcontainer[__GIP__3__]\" class=\"listing-inner altrow-a-1  \" style=\"\">\\n                        <tr>\\n                            <td rowspan=\"2\" class=\"listing-border-top-line listing-inner-content\" style=\"\">\\n                                <span style=\"float: right;\"></span>\\n                                <div></div>\\n                                <div class=\"listing-text-row-moreinfo-truck\"><span class=\"listing-final-manufacturer \">MELLING</span> <span class=\"listing-final-partnumber  as-link-if-js\" id=\"vew_partnumber[__GIP__3__]\" onclick=\"if (cataloglite.IsMobileAndNotExpanded(&quot;__GIP__3__&quot;)) { return; } cataloglite.ShowBuyersGuidePopup(&quot;__GIP__3__&quot;);\" title=\"Buyer\\'s Guide\" alt=\"Buyer\\'s Guide\">30250S</span>     <a href=\"https://www.rockauto.com/en/moreinfo.php?pk=8304960&cc=0&pt=5756\" target=\"_blank\" rel=\"opener\"  class=\"ra-btn ra-btn-moreinfo\" onclick=\"cataloglite.MoreInfoClick(this, &quot;__GIP__3__&quot;); AddSerializedCookieDataToHref(this);\">Info</a>   <span name=\"vew_whtruckicon[__GIP__3__][0-0-0-1]\" class=\"truck ra-hide remove-for-print mouseover\" title=\"Could ship from same location as parts in cart\" onclick=\"FAQpopup(\\'/help/?page=2#MINSHIPCOST\\', &quot;Could ship from same location as parts in cart&quot;, null, this); RA.StopBubble(event); return false;\">&nbsp;</span>  </div>\\n                                <div class=\"listing-text-row\"><span  title=\"Please make sure this note matches your vehicle. A seemingly contradictory note (like &quot;Left; Right;&quot;) means the part fits either (left OR right) -- it does not mean you\\'ll receive two parts. Please do not choose a part if the note does not describe your application (for example, if the note says &quot;Sedan&quot; and you have a station wagon).\"><span class=\"listing-footnote-text\">Category: Timing Chain & Component Kit</span></span> </div>\\n                                <div></div>\\n                                <div></div>\\n                                <div></div>\\n                                \\n                                <input type=\"hidden\" autocomplete=\"off\" name=\"optionchoice[__GIP__3__]\" id=\"optionchoice[__GIP__3__]\" value=\"0-0-0-1\"><input type=\"hidden\" autocomplete=\"off\" name=\"listing_data_essential[__GIP__3__]\" id=\"listing_data_essential[__GIP__3__]\" value=\"{&quot;groupindex&quot;:&quot;__GIP__3__&quot;,&quot;carcode&quot;:0,&quot;parttype&quot;:&quot;5756&quot;,&quot;partkey&quot;:&quot;8304960&quot;,&quot;opts&quot;:{&quot;0-0-0-1&quot;:{&quot;warehouse&quot;:&quot;72901&quot;,&quot;whpartnum&quot;:&quot;MEL 3-0250S@NK&quot;,&quot;optionlist&quot;:&quot;0&quot;,&quot;paramcode&quot;:&quot;0&quot;,&quot;notekey&quot;:&quot;0&quot;,&quot;multiple&quot;:&quot;1&quot;}}}\" /><input type=\"hidden\" autocomplete=\"off\" id=\"listing_data_supplemental[__GIP__3__]\" value=\"{&quot;partnumber&quot;:&quot;30250S&quot;,&quot;catalogname&quot;:&quot;MELLING&quot;,&quot;belongstolisting&quot;:&quot;__GIP__2__&quot;,&quot;sortgroup&quot;:0,&quot;sortgrouptext&quot;:&quot;&quot;,&quot;paramdesc&quot;:&quot;&quot;,&quot;iskitparent&quot;:true}\" /><input type=\"hidden\" autocomplete=\"off\" id=\"mdl_whtruckicon[__GIP__3__][]\" value=\"false\"><input type=\"hidden\" autocomplete=\"off\" id=\"mdl_chkalternate[__GIP__3__][]\" value=\"false\"><input type=\"hidden\" autocomplete=\"off\" id=\"mdl_btnaddtocart[__GIP__3__][]\" value=\"false\"><input type=\"hidden\" autocomplete=\"off\" id=\"mdl_btnpartincart[__GIP__3__][]\" value=\"false\"><input type=\"hidden\" autocomplete=\"off\" id=\"lst_shipwhlist[__GIP__3__][0-0-0-1]\" value=\"{&quot;55525&quot;:55525,&quot;49200&quot;:49200,&quot;72901&quot;:72901,&quot;90250&quot;:90250}\" ><input type=\"hidden\" autocomplete=\"off\" id=\"mdl_whtruckicon[__GIP__3__][0-0-0-1]\" value=\"false\"><input type=\"hidden\" autocomplete=\"off\" id=\"mdl_btnaddtocart[__GIP__3__][0-0-0-1]\" value=\"true\"><input type=\"hidden\" autocomplete=\"off\" id=\"mdl_btnpartincart[__GIP__3__][0-0-0-1]\" value=\"false\"><input type=\"hidden\" autocomplete=\"off\" id=\"mdl_btnnotifyoos[__GIP__3__][0-0-0-1]\" value=\"false\"><input type=\"hidden\" autocomplete=\"off\" id=\"mdl_chkalternate[__GIP__3__][0-0-0-1]\" value=\"false\"><input type=\"hidden\" autocomplete=\"off\" id=\"component_children[__GIP__3__]\" value=\"[]\"/><input type=\"hidden\" autocomplete=\"off\" name=\"listing-codekey[__GIP__3__]\" value=\"186165,186185,186177,186297\"/><input type=\"hidden\" autocomplete=\"off\" name=\"ssk[__GIP__3__]\" value=\"HPc6NY4sqMvPDBCrBav8qc4IcyTYZBTRn9zbr7QB011NgknZ5jJ6kaOB4a+Okv664Mx4Dbt/V4E=\"/>\\n                                \\n                            </td>\\n                            \\n                            <td rowspan=\"2\" class=\"listing-border-top-line listing-float-box-cell-shared\" style=\"text-align: right; \">\\n                                <div class=\" listing-image-space-occupy\"><table class=\"tblz listing-image-table\" id=\"listing_image_table[__GIP__3__]\" style=\"\"><tr><td class=\"listing-image-table-leftrightcol\"><div id=\"inlineimg_left_small[__GIP__3__]\"><img id=\"inlineimgprevious[__GIP__3__]\" class=\"listing-image-prevnext-image remove-for-print show-if-js\" style=\" margin: .1em;\" src=\"/catalog/images/prevIMGbig.png\" onclick=\"cataloglite.Listing_InlineImageManualScroll(&quot;__GIP__3__&quot;, -1, false, false)\" alt=\"&lt;\" title=\"Previous Image\"></div></td><td class=\"listing-image-table-centercol\"><div id=\"inlineimgpositionancestor[__GIP__3__]\" style=\" position: relative; z-index: 1;\" class=\"ra-hide\"><div id=\"inlineimg_container[__GIP__3__]\" class=\" listing-inlineimg_container listing-inline-image-border\"  style=\"z-index: 1; text-align: center; background: #FFFFFF;\"><div id=\"inlineimg_containertitle[__GIP__3__]\" class=\"listing-inline-image-popup-widget-title ra-hide\" onmousedown=\"cataloglite.ImagePopupTitleMouseDown(&quot;__GIP__3__&quot;)\"><div style=\"text-align: center; \"><span style=\"padding: 0 2em 0 2em;\">MELLING 30250S</span><span style=\"position: absolute; right: 5px;\"><img src = \"/catalog/images/close12_1.gif\" style=\"padding: .2em; cursor: pointer; display: block;\" onclick=\"cataloglite.Listing_InlineImagePopupInPlace(&quot;__GIP__3__&quot;)\" alt=\"close\"/></span></div></div><div id=\"inlineimg_topper[__GIP__3__]\" class=\"img-topper-container\"><table class=\"tblz w100\"><tr><td class=\"pinched\" style=\"vertical-align: top;\"><div style=\"text-align: left; padding-right: .25em;\"><span id=\"inlineimg_left_big[__GIP__3__]\"></span></div><div class=\"listing-image-counter\"><div class=\"inner\" id=\"imagecounterdisplay[__GIP__3__]\"></div></div></td><td style=\"vertical-align: top;\"><div id=\"imgcarouseltitlephrase[__GIP__3__]\" class=\"img-carousel-titlephrase\"></div><div id=\"inlineimg_container360menu[__GIP__3__]\" class=\"ra-hide\" style=\"padding: .25em; margin-bottom: .5em;\"><div class=\"ra-bar-slider-bar-c\"><div  id=\"inlineimg_sliderbar[__GIP__3__]\"  class=\"ra-bar-slider-bar\" onmousedown=\"cataloglite.ImageSliderMouseDown(&quot;__GIP__3__&quot;, event);\" ontouchstart=\"cataloglite.ImageSliderMouseDown(&quot;__GIP__3__&quot;, event);\"><span class=\"ra-bar-slider-slider\" id=\"inlineimg_slider[__GIP__3__]\"></span></div></div></div></td><td class=\"pinched\" style=\"vertical-align: top; text-align: right;\"><div style=\"padding-left: .25em;\"><span id=\"inlineimg_right_big[__GIP__3__]\"></span></div></td></tr></table></div><div id=\"inlineimg_containersizer[__GIP__3__]\" class=\"inlineimg_containersizer ra-hide\" style=\" cursor: pointer;\" onclick=\"cataloglite.Listing_InlineImagePopupInPlace(&quot;__GIP__3__&quot;)\"><img id=\"inlineimg[__GIP__3__]\" class=\" listing-inline-image\"  src=\"/info/583/3-0250S-1-KIT__ra_m.jpg\" alt=\"Part image\"/></div></div></div><img id=\"inlineimg_thumb[__GIP__3__]\" class=\"listing-inline-image listing-inline-image-thumb listing-inline-image-border\" style=\"cursor: pointer;\" onclick=\"cataloglite.Listing_InlineImagePopupInPlace(&quot;__GIP__3__&quot;)\" src=\"/info/583/3-0250S-1-KIT__ra_m.jpg\" alt=\"Part image\" switch-to-highres=\"1\"/></td><td class=\"listing-image-table-leftrightcol\"><div id=\"inlineimg_right_small[__GIP__3__]\"><img id=\"inlineimgnext[__GIP__3__]\" name=\"inlnimgnextbtn\" class=\"listing-image-prevnext-image show-if-js remove-for-print\" style=\" margin: .1em;\" src=\"/catalog/images/nextIMGbig.png\" onclick=\"cataloglite.Listing_InlineImageManualScroll(&quot;__GIP__3__&quot;, 1, false, false)\" alt=\"&gt;\" title=\"Next Image\"></div></td></tr></table><input type=\"hidden\" autocomplete=\"off\" id=\"jsninlineimg[__GIP__3__]\" value=\"{&quot;Size&quot;:&quot;Thumb&quot;,&quot;SlotIndex&quot;:0,&quot;Slots&quot;:[{&quot;TitlePhrase&quot;:null,&quot;ParamCodes&quot;:[null],&quot;Type&quot;:&quot;Single&quot;,&quot;ImageData&quot;:{&quot;Thumb&quot;:&quot;\\\\/info\\\\/583\\\\/3-0250S-1-KIT__ra_m.jpg&quot;,&quot;Popup&quot;:&quot;\\\\/info\\\\/583\\\\/3-0250S-1-KIT.jpg&quot;,&quot;Full&quot;:&quot;\\\\/info\\\\/583\\\\/3-0250S-1-KIT.jpg&quot;}},{&quot;TitlePhrase&quot;:&quot;&lt;b&gt;[Timing Chain Guide \\\\/ Damper]&lt;\\\\/b&gt;&quot;,&quot;ParamCodes&quot;:[null],&quot;Type&quot;:&quot;Single&quot;,&quot;ImageData&quot;:{&quot;Thumb&quot;:&quot;\\\\/info\\\\/583\\\\/BT7015-2-SID__ra_m.jpg&quot;,&quot;Popup&quot;:&quot;\\\\/info\\\\/583\\\\/BT7015-2-SID.jpg&quot;,&quot;Full&quot;:&quot;\\\\/info\\\\/583\\\\/BT7015-2-SID.jpg&quot;}},{&quot;TitlePhrase&quot;:&quot;&lt;b&gt;[Timing Chain Guide \\\\/ Damper]&lt;\\\\/b&gt;&quot;,&quot;ParamCodes&quot;:[null],&quot;Type&quot;:&quot;Single&quot;,&quot;ImageData&quot;:{&quot;Thumb&quot;:&quot;\\\\/info\\\\/583\\\\/BG5515-3-FRO__ra_m.jpg&quot;,&quot;Popup&quot;:&quot;\\\\/info\\\\/583\\\\/BG5515-3-FRO.jpg&quot;,&quot;Full&quot;:&quot;\\\\/info\\\\/583\\\\/BG5515-3-FRO.jpg&quot;}},{&quot;TitlePhrase&quot;:&quot;&lt;b&gt;[Timing Chain]&lt;\\\\/b&gt;&quot;,&quot;ParamCodes&quot;:[null],&quot;Type&quot;:&quot;Single&quot;,&quot;ImageData&quot;:{&quot;Thumb&quot;:&quot;\\\\/info\\\\/583\\\\/715F-1-ANG__ra_m.jpg&quot;,&quot;Popup&quot;:&quot;\\\\/info\\\\/583\\\\/715F-1-ANG.jpg&quot;,&quot;Full&quot;:&quot;\\\\/info\\\\/583\\\\/715F-1-ANG.jpg&quot;}},{&quot;TitlePhrase&quot;:&quot;&lt;b&gt;[Timing Chain Tensioner]&lt;\\\\/b&gt;&quot;,&quot;ParamCodes&quot;:[null],&quot;Type&quot;:&quot;Single&quot;,&quot;ImageData&quot;:{&quot;Thumb&quot;:&quot;\\\\/info\\\\/583\\\\/BT5514-1-ANG__ra_m.jpg&quot;,&quot;Popup&quot;:&quot;\\\\/info\\\\/583\\\\/BT5514-1-ANG.jpg&quot;,&quot;Full&quot;:&quot;\\\\/info\\\\/583\\\\/BT5514-1-ANG.jpg&quot;}},{&quot;TitlePhrase&quot;:&quot;&lt;b&gt;[Timing Cam Sprocket]&lt;\\\\/b&gt;&quot;,&quot;ParamCodes&quot;:[null],&quot;Type&quot;:&quot;Single&quot;,&quot;ImageData&quot;:{&quot;Thumb&quot;:&quot;\\\\/info\\\\/583\\\\/S906A-1-FRO__ra_m.jpg&quot;,&quot;Popup&quot;:&quot;\\\\/info\\\\/583\\\\/S906A-1-FRO.jpg&quot;,&quot;Full&quot;:&quot;\\\\/info\\\\/583\\\\/S906A-1-FRO.jpg&quot;}},{&quot;TitlePhrase&quot;:&quot;&lt;b&gt;[Oil Pump Chain]&lt;\\\\/b&gt;&quot;,&quot;ParamCodes&quot;:[null],&quot;Type&quot;:&quot;Single&quot;,&quot;ImageData&quot;:{&quot;Thumb&quot;:&quot;\\\\/info\\\\/583\\\\/717F-1-ANG__ra_m.jpg&quot;,&quot;Popup&quot;:&quot;\\\\/info\\\\/583\\\\/717F-1-ANG.jpg&quot;,&quot;Full&quot;:&quot;\\\\/info\\\\/583\\\\/717F-1-ANG.jpg&quot;}},{&quot;TitlePhrase&quot;:&quot;&lt;b&gt;[Oil Pump Chain Tensioner]&lt;\\\\/b&gt;&quot;,&quot;ParamCodes&quot;:[null],&quot;Type&quot;:&quot;Single&quot;,&quot;ImageData&quot;:{&quot;Thumb&quot;:&quot;\\\\/info\\\\/583\\\\/BT7016-1-TOP__ra_m.jpg&quot;,&quot;Popup&quot;:&quot;\\\\/info\\\\/583\\\\/BT7016-1-TOP.jpg&quot;,&quot;Full&quot;:&quot;\\\\/info\\\\/583\\\\/BT7016-1-TOP.jpg&quot;}},{&quot;TitlePhrase&quot;:&quot;&lt;b&gt;[Timing Crank Sprocket]&lt;\\\\/b&gt;&quot;,&quot;ParamCodes&quot;:[null],&quot;Type&quot;:&quot;Single&quot;,&quot;ImageData&quot;:{&quot;Thumb&quot;:&quot;\\\\/info\\\\/583\\\\/S899-1-FRO__ra_m.jpg&quot;,&quot;Popup&quot;:&quot;\\\\/info\\\\/583\\\\/S899-1-FRO.jpg&quot;,&quot;Full&quot;:&quot;\\\\/info\\\\/583\\\\/S899-1-FRO.jpg&quot;}},{&quot;TitlePhrase&quot;:&quot;&lt;b&gt;[Oil Pump Sprocket]&lt;\\\\/b&gt;&quot;,&quot;ParamCodes&quot;:[null],&quot;Type&quot;:&quot;Single&quot;,&quot;ImageData&quot;:{&quot;Thumb&quot;:&quot;\\\\/info\\\\/583\\\\/S905-1-FRO__ra_m.jpg&quot;,&quot;Popup&quot;:&quot;\\\\/info\\\\/583\\\\/S905-1-FRO.jpg&quot;,&quot;Full&quot;:&quot;\\\\/info\\\\/583\\\\/S905-1-FRO.jpg&quot;}},{&quot;TitlePhrase&quot;:&quot;&lt;b&gt;[Oil Pump Chain Guide]&lt;\\\\/b&gt;&quot;,&quot;ParamCodes&quot;:[null],&quot;Type&quot;:&quot;Single&quot;,&quot;ImageData&quot;:{&quot;Thumb&quot;:&quot;\\\\/info\\\\/583\\\\/BG7019-2-SID__ra_m.jpg&quot;,&quot;Popup&quot;:&quot;\\\\/info\\\\/583\\\\/BG7019-2-SID.jpg&quot;,&quot;Full&quot;:&quot;\\\\/info\\\\/583\\\\/BG7019-2-SID.jpg&quot;}}]}\"/></div>\\n                            </td>\\n                            \\n                            <td id=\"listingtd[__GIP__3__][price]\" colspan=\"4\" class=\" listing-border-top-line listing-float-box-cell-shared listing-float-box-cell-more-padding\" style=\"height: 1px; text-align: center; \">\\n                                <span id=\"dprice[__GIP__3__][td]\" class=\"\"><span class=\"ra-formatted-amount listing-price listing-amount-bold\"><span id=\"dprice[__GIP__3__][v]\">$171.99</span></span></span>\\n                            </td>\\n                            <td id=\"listingtd[__GIP__3__][core]\" class=\"ra-hide listing-border-top-line listing-float-box-cell-shared listing-float-box-cell-more-padding\" style=\"height: 1px; text-align: center; \">\\n                                <span id=\"dcore[__GIP__3__][td]\" class=\"\"><span class=\"ra-formatted-amount listing-core\"><a id=\"dcore[__GIP__3__][color]\" href=\"/help/?page=2#CORE\" target=\"_blank\" onclick=\"return FAQpopup(this);\" style=\"text-decoration: none;\" class=\"\"><span id=\"dcore[__GIP__3__][v]\">$0.00</span></a></span></span>\\n                            </td>\\n                            <td id=\"listingtd[__GIP__3__][pack]\" class=\"ra-hide listing-border-top-line listing-float-box-cell-shared listing-float-box-cell-more-padding\" style=\"height: 1px; text-align: center; \">\\n                                <span id=\"dpack[__GIP__3__][v]\"><span class=\"hide-if-js\">+ Sold in packs of 1</span><span class=\"show-if-js\"><span class=\"pack_size_box no-text-select\" onclick=\"showContextPopup(\\'&nbsp;\\', &quot;Sold in packs of 1&quot;, this); RA.StopBubble(event); return false;\" title=\"Sold in packs of 1\"><span class=\"right\"><span class=\"left\"><span class=\"text\"><span class=\"text-x-small\">x</span>1</span></span></span></span></span></span>\\n                            </td>\\n                            <td id=\"listingtd[__GIP__3__][total]\" class=\"ra-hide listing-border-top-line listing-float-box-cell-shared listing-float-box-cell-more-padding\" style=\"height: 1px; text-align: center; \">\\n                                <span id=\"dtotal[__GIP__3__][td]\" class=\"listing-amount-bold\"><span class=\"ra-formatted-amount listing-total\"><span id=\"dtotal[__GIP__3__][v]\">$171.99</span></span></span>\\n                            </td>\\n                            <td rowspan=\"2\" class=\" listing-border-top-line listing-float-box-cell-shared\" style=\"text-align: center; \">\\n                                \\n                            </td>\\n                        </tr>\\n                        <tr>\\n                            <td colspan=\"4\" class=\" listing-float-box-cell-shared\" style=\"text-align: right;\">\\n                                <div style=\"padding-top: .25em; padding-bottom: .1em;\">\\n                                    <div class=\"listing-quantity-adjustment ib remove-for-print show-if-js\"><input type=\"hidden\" autocomplete=\"off\" id=\"listingoptkeytomultiple[__GIP__3__]\" value=\"{&quot;0-0-0-1&quot;:&quot;1&quot;}\" ><input type=\"hidden\" autocomplete=\"off\" id=\"listingoptkeytolinenumber[__GIP__3__]\" value=\"{&quot;0-0-0-1&quot;:null}\" ><input type=\"hidden\" autocomplete=\"off\" id=\"listingoptkeytoqtyincart[__GIP__3__]\" value=\"{&quot;0-0-0-1&quot;:null}\" ><input type=\"hidden\" autocomplete=\"off\" id=\"listingoptkeytoalternateid[__GIP__3__]\" value=\"{&quot;0-0-0-1&quot;:null}\" ><table class=\"tblz di tbl-input-button-attached\" id=\"listingquantitytable[__GIP__3__]\"><tr><td class=\"td-button-left\" style=\"text-align: right;\"><div class=\"qty-adjust-button\" onclick=\"cataloglite.ListingQuantityUpdate(&quot;__GIP__3__&quot;, -1);\" style=\"border-top-left-radius: 4px; border-bottom-left-radius: 4px;\"><img class=\"nobmp vmiddle\" src=\"/Images/mobile/qty_down_white.png\" alt=\"\" /></div></td><td class=\"td-input\"><label for=\"raquantity[__GIP__3__]\" style=\"display:none;\">Quantity</label><input type=\"text\" aria-label=\"Quantity\" class=\"input-quantity  ib\" style=\"text-align: center; width: 2em; padding-left: 0;\" maxlength=\"5\" name=\"raquantity[__GIP__3__]\" id=\"raquantity[__GIP__3__]\" value=\"1\" autocomplete=\"off\" spellcheck=\"false\" autocorrect=\"off\" autocapitalize=\"off\" data-autofill=\"block\" onkeypress=\"return RA.InterceptEnter(event, function(){RA.ByName(&quot;raquantity[__GIP__3__]&quot;)[0].blur()});\" onchange=\"cataloglite.ListingQuantityUpdate(&quot;__GIP__3__&quot;);\" /></td><td class=\"td-button-right\"><div class=\"qty-adjust-button\" onclick=\"cataloglite.ListingQuantityUpdate(&quot;__GIP__3__&quot;, 1);\"style=\"border-top-right-radius: 4px; border-bottom-right-radius: 4px;\"><img class=\"nobmp vmiddle\" src=\"/Images/mobile/qty_up_white.png\" alt=\"\" /></div></td></tr></table></div>\\n                                    <div class=\"catalog-listing-buttons-wrapper ib\" style=\"min-width:105px;\"><div class=\"vew_btnaddtocart remove-for-print  \" id=\"vew_btnaddtocart[__GIP__3__]\"><input type=\"submit\" name=\"addpart[__GIP__3__]\" id=\"addpart[__GIP__3__]\" value=\"Add to Cart &gt;\" class=\"hide-if-js ra-btn ra-btn-size-normal ra-btn-color-hotgreen\" onclick=\"cataloglite.ShowLoadingOverlay(null, \\'PK_ADDINGPARTTOCART\\'); return cataloglite.Cart.AddPartWhenReady(&quot;__GIP__3__&quot;);\"><a style=\"display: inline-block;\" class=\"show-if-js ra-btn ra-btn-color-hotgreen ra-btn-size-normal ra-btn-add-part\" onclick=\"RA.Click(\\'addpart[__GIP__3__]\\'); return false;\" href=\"#\"><span class=\"la-btn-v\">Add to Cart</span><img class=\"la-btn-v\" style=\"height: 1em; margin-left: .25em;\" src=\"/Images/mobile/right_arrow_white.png\" alt=\"\" /></a></div><div class=\"vew_btnpartincart remove-for-print ra-hide \" id=\"vew_btnpartincart[__GIP__3__]\"><input type=\"submit\" name=\"addpart[__GIP__3__]\" value=\"Part In Cart\" class=\"ra-btn ra-btn-size-normal ra-btn-part-in-cart\" onclick=\"cataloglite.Cart.ShowPartAlreadyInCart(__GIP__3__); return false;\"></div><div class=\"vew_btnnotifyoos remove-for-print ra-hide show-if-js\" id=\"vew_btnnotifyoos[__GIP__3__]\"><input type=\"button\" value=\"Notify Me When Available\" class=\"ra-btn ra-btn-size-normal ra-btn-color-darkblue\" onclick=\"cataloglite.GetAvailabilityAlertForOOSPart(&quot;__GIP__3__&quot;);\"></div></div>\\n                                </div>\\n                            </td>\\n                        </tr>\\n                    </tbody>\\n                    </table><div id=\"listingfiltermessage[__GIP__2__]\" class=\"listing-filter-bottom-message ra-hide\"></div><input type=\"hidden\" autocomplete=\"off\" id=\"part_groupindexes_in_this_listing[__GIP__2__]\" value=\"[&quot;__GIP__3__&quot;]\"/></div></div></form></div></div></div>',\n",
       " 'collected_javascript': '/**UQ:C8BC091A**/\\nvar PK_OK =\"OK\";\\nvar PK_XLISTINGSREMOVE=\"KEY__NUM listings removed\";\\nvar PK_XLISTINGREMOVE=\"KEY__NUM listing removed\";\\nwindow.top.parent.window[\"_nck\"] = \"8LVLUxTaILBT+tLxkg8+3Ag7\\\\/0bbOhvn7P3rkFbL80\\\\/4ONrpMMyyMoTAzqUtg75DXjLFbtL0RWwG2TIS5g0HjN+BEpbJggwRicfW87qYxCroJDOCFdvb3koFH0TxTw3xVpCZZysmtwBxz01F\\\\/5MgqLLoutu7gYqTyLMO41Xnk3z8whvbquIiNmyS1J5VdAwH\";\\n'}"
      ]
     },
     "execution_count": 4,
     "metadata": {},
     "output_type": "execute_result"
    }
   ],
   "source": [
    "dict_ = response.json()\n",
    "\n",
    "dict_"
   ]
  },
  {
   "cell_type": "code",
   "execution_count": 5,
   "id": "2a783ae6-8ff7-459d-b6b3-4a20d589321a",
   "metadata": {},
   "outputs": [
    {
     "data": {
      "text/plain": [
       "False"
      ]
     },
     "execution_count": 5,
     "metadata": {},
     "output_type": "execute_result"
    }
   ],
   "source": [
    "'redirect_to_url' in dict_"
   ]
  },
  {
   "cell_type": "code",
   "execution_count": 6,
   "id": "30d33ed8-f490-4c0b-9f32-ebbf0a4f68ac",
   "metadata": {},
   "outputs": [],
   "source": [
    "from bs4 import BeautifulSoup"
   ]
  },
  {
   "cell_type": "code",
   "execution_count": 7,
   "id": "4d03483f-c934-42a4-9163-e06ffa99acc7",
   "metadata": {
    "scrolled": true
   },
   "outputs": [
    {
     "name": "stdout",
     "output_type": "stream",
     "text": [
      "<html>\n",
      " <head>\n",
      " </head>\n",
      " <body>\n",
      "  <div class=\"ranavnode\" id=\"nav[__GIP__1__]\">\n",
      "   <input autocomplete=\"off\" id=\"jsn[__GIP__1__]\" type=\"hidden\" value='{\"groupindex\":\"__GIP__1__\",\"tab\":\"partsearch\",\"idepth\":0,\"parttype\":\"5756\",\"catalogname\":\"MELLING\",\"partnumber\":\"30250S\",\"nodetype\":\"parttabsearch\",\"expanded\":true,\"loaded\":true}'/>\n",
      "   <input autocomplete=\"off\" id=\"navnodeunique[partsearch-5756]\" name=\"navnodeunique[partsearch-5756]\" type=\"hidden\" value=\"__GIP__1__\"/>\n",
      "   <div class=\"ranavouter\" id=\"nav_o[__GIP__1__]\">\n",
      "    <div class=\"inner\">\n",
      "     <table cellpadding=\"0\" cellspacing=\"0\" class=\"tbl\">\n",
      "      <tbody>\n",
      "       <tr>\n",
      "        <td class=\"niconspace nexpandedicon\" id=\"navicon[__GIP__1__]\">\n",
      "         <a href=\"/en/parts/melling,30250S,timing+chain+&amp;+component+kit,5756\" onclick='cataloglite.LinkIntercept_ToggleNavNode(\"__GIP__1__\"); return false;' tabindex=\"-1\">\n",
      "          <img alt=\"Toggle\" src=\"/Images/1pxtransparent.png\"/>\n",
      "         </a>\n",
      "        </td>\n",
      "        <td class=\"nlabel\">\n",
      "         <a class=\"navlabellink nvoffset nnormal\" href=\"/en/parts/melling,30250S,timing+chain+&amp;+component+kit,5756\" id=\"navhref[__GIP__1__]\" onclick='cataloglite.LinkIntercept_ToggleNavNode(\"__GIP__1__\"); return false;'>\n",
      "          Search for Manufacturer='MELLING' and Part Type='Timing Chain &amp; Component Kit' and Part Number='30250S'\n",
      "         </a>\n",
      "        </td>\n",
      "       </tr>\n",
      "      </tbody>\n",
      "     </table>\n",
      "    </div>\n",
      "   </div>\n",
      "   <div class=\"nchildren\" id=\"navchildren[__GIP__1__]\">\n",
      "    <div class=\"listings-container\" id=\"listings[__GIP__2__]\">\n",
      "     <form action=\"/en/partsearch/?mfr=MELLING&amp;parttype=5756&amp;partnum=30250S\" class=\"nobmp\" id=\"frmlistings[__GIP__2__]\" method=\"post\">\n",
      "      <input name=\"_nck\" type=\"hidden\" value=\"8LVLUxTaILBT+tLxkg8+3Ag7/0bbOhvn7P3rkFbL80/4ONrpMMyyMoTAzqUtg75DXjLFbtL0RWwG2TIS5g0HjN+BEpbJggwRicfW87qYxCroJDOCFdvb3koFH0TxTw3xVpCZZysmtwBxz01F/5MgqLLoutu7gYqTyLMO41Xnk3z8whvbquIiNmyS1J5VdAwH\"/>\n",
      "      <div class=\"listing-container-border\">\n",
      "       <input autocomplete=\"off\" id=\"parentnode[__GIP__2__]\" type=\"hidden\" value=\"__GIP__1__\"/>\n",
      "       <div>\n",
      "        <div style=\"padding-top: 1px; padding-left: .25em; padding-right: .25em;\">\n",
      "         <div class=\"remove-for-print\" style=\"padding-top:5px;\">\n",
      "          <div class=\"ib vtop\">\n",
      "           <span class=\"show-if-js\" style=\"padding-left: .5em;\">\n",
      "            <img alt=\"Close\" class=\"mouseover\" onclick='cataloglite.NavNode_SimulateClick(\"__GIP__1__\");' src=\"/catalog/images/close.gif\" style=\"vertical-align: top;\" title=\"Close\"/>\n",
      "           </span>\n",
      "           <span class=\"show-if-js\" style=\"padding-left: .5em;\">\n",
      "            <a href=\"/en/printlistings.php?ni=__GIP__2__&amp;title=Print Part Listings\" rel=\"opener\" target=\"_blank\">\n",
      "             <img alt=\"Print Part Listings\" class=\"mouseover\" src=\"/Images/mobile/printer.png\" style=\"vertical-align: top; border: none; height: 20px;\" title=\"Print Part Listings\"/>\n",
      "            </a>\n",
      "           </span>\n",
      "           <span class=\"show-if-js\" style=\"padding-left: .5em;\">\n",
      "            <a href=\"/en/emailpagetofriend.php?nurl=%2Fen%2Fpartsearch%2F%3Fmfr%3DMELLING%26parttype%3D5756%26partnum%3D30250S\" onclick='cataloglite.AddFiltersToEmailListingURL(\"\\/en\\/partsearch\\/?mfr=MELLING&amp;parttype=5756&amp;partnum=30250S\", \"__GIP__2__\"); return false;' target=\"_blank\">\n",
      "             <img alt=\"Send these listings to a friend\" class=\"mouseover\" src=\"/Images/mobile/envelope.png\" style=\"vertical-align: top; border: none; height: 14px;\" title=\"Send these listings to a friend\"/>\n",
      "            </a>\n",
      "           </span>\n",
      "           <span class=\"show-if-js\" style=\"padding-left: .5em;\">\n",
      "            <a alt=\"How do I choose a part?\" href=\"/help/?page=2\" style=\"text-decoration: none;\" target=\"_blank\" title=\"How do I choose a part?\">\n",
      "             <img alt=\"Help\" class=\"help_q_icon_16 vtop\" src=\"/Images/questionMark.png\"/>\n",
      "            </a>\n",
      "           </span>\n",
      "          </div>\n",
      "          <span class=\"span-filterinput\" style=\"padding-left: .5em;\">\n",
      "           <div class=\"ib\">\n",
      "            <table class=\"tblz tbl-input-button-attached attached-filter-size\">\n",
      "             <tbody>\n",
      "              <tr>\n",
      "               <td class=\"td-input\">\n",
      "                <input autocapitalize=\"off\" autocomplete=\"off\" autocorrect=\"off\" class=\"filter-input\" id=\"filterinput[__GIP__2__]\" name=\"filterinput\" onblur='cataloglite.FilterListings(\"__GIP__2__\");' onclick='cataloglite.DisplayFilterBreakDown(\"__GIP__2__\");' onkeypress='return RA.InterceptEnter(event, function(){cataloglite.FilterListings(\"__GIP__2__\");});' placeholder=\"Filter By Keyword(s)\" size=\"25\" spellcheck=\"false\" style=\"\" title=\"Filter listings below by entering words that you want to see. Use '-' before a word to find results that do NOT contain that word. Use OR between words or groups of words to see listings that match either. Use quotes &quot;...&quot; around a set of words you wish to match only when they exist together as a phrase. Multiple filters can be applied by entering new words or phrases after each filter operation.\" type=\"text\" value=\"\"/>\n",
      "               </td>\n",
      "               <td class=\"td-button\">\n",
      "                <img alt=\"Apply Filter\" class=\"ib input-size ra-btn ra-btn-size-normal ra-btn-color-darkblue ra-btn-search-icon\" onclick=\"RA.ThrottleRepeats(function() { cataloglite.SendPartTabSearch('frm_partsearch', &quot;__GIP__2__&quot;); }, 'part_tab_search_filter', 2.5); return false;\" src=\"/Images/1pxtransparent.png\" style=\"color: black;\"/>\n",
      "               </td>\n",
      "              </tr>\n",
      "             </tbody>\n",
      "            </table>\n",
      "           </div>\n",
      "           <span style=\"position: relative;\">\n",
      "            <span class=\"ra-hide\" id=\"filterbreakdownwrapper___GIP__2__\" style=\"position: absolute; z-index: 10;\">\n",
      "             <div style=\"background: #FFFFFF; border: 1px solid black; padding: 5px; white-space: nowrap;\">\n",
      "              <div class=\"filter-breakdown-row-spacing\" style=\"text-align: right;\">\n",
      "               <img alt=\"Hide\" class=\"mouseover\" onclick='cataloglite.DisplayFilterBreakDown(\"__GIP__2__\", 1);' src=\"/catalog/images/close.gif\" style=\"vertical-align: top;\" title=\"Hide\"/>\n",
      "              </div>\n",
      "              <div id=\"filterbreakdownsteps___GIP__2__\">\n",
      "              </div>\n",
      "              <div style=\"text-align: center; padding-top: .25em;\">\n",
      "               <input class=\"ra-btn mo-link\" name=\"clearfilter\" onclick=\"RA.ThrottleRepeats(function() { cataloglite.SendPartTabSearch('frm_partsearch', &quot;__GIP__2__&quot;, 1); }, 'part_tab_search_filter', 2.5); return false;\" style=\"color: blue;\" type=\"submit\" value=\"Clear Filter\"/>\n",
      "              </div>\n",
      "             </div>\n",
      "            </span>\n",
      "           </span>\n",
      "          </span>\n",
      "         </div>\n",
      "        </div>\n",
      "        <div style=\"clear: both; padding-top: .25em;\">\n",
      "        </div>\n",
      "        <table cellpadding=\"0\" cellspacing=\"0\" class=\"nobmp\" style=\"width: 100%;\">\n",
      "         <tbody>\n",
      "          <tr>\n",
      "           <td colspan=\"2\">\n",
      "           </td>\n",
      "           <td class=\"listing-float-box-cell-shared-header\" colspan=\"4\" style=\"height: 1px; text-align: center;\">\n",
      "            <span style=\"font-weight: bold;\">\n",
      "             Price\n",
      "            </span>\n",
      "           </td>\n",
      "           <td class=\"ra-hide listing-float-box-cell-shared-header\" style=\"height: 1px; text-align: center;\">\n",
      "           </td>\n",
      "           <td class=\"ra-hide listing-float-box-cell-shared-header\" style=\"height: 1px; text-align: center;\">\n",
      "           </td>\n",
      "           <td class=\"ra-hide listing-float-box-cell-shared-header\" style=\"height: 1px; text-align: center;\">\n",
      "           </td>\n",
      "           <td class=\"listing-float-box-cell-shared-header\" style=\"text-align: center;\">\n",
      "           </td>\n",
      "          </tr>\n",
      "         </tbody>\n",
      "         <tbody>\n",
      "          <tr class=\"remove-for-print\">\n",
      "           <td class=\"ra-hide\" colspan=\"6\" id=\"listingnopartscriteria[__GIP__2__]\" style=\"color: red;\">\n",
      "            No parts for vehicles in selected markets.\n",
      "           </td>\n",
      "          </tr>\n",
      "         </tbody>\n",
      "         <tbody class=\"listing-inner altrow-a-1\" id=\"listingcontainer[__GIP__3__]\" style=\"\">\n",
      "          <tr>\n",
      "           <td class=\"listing-border-top-line listing-inner-content\" rowspan=\"2\" style=\"\">\n",
      "            <span style=\"float: right;\">\n",
      "            </span>\n",
      "            <div>\n",
      "            </div>\n",
      "            <div class=\"listing-text-row-moreinfo-truck\">\n",
      "             <span class=\"listing-final-manufacturer\">\n",
      "              MELLING\n",
      "             </span>\n",
      "             <span alt=\"Buyer's Guide\" class=\"listing-final-partnumber as-link-if-js\" id=\"vew_partnumber[__GIP__3__]\" onclick='if (cataloglite.IsMobileAndNotExpanded(\"__GIP__3__\")) { return; } cataloglite.ShowBuyersGuidePopup(\"__GIP__3__\");' title=\"Buyer's Guide\">\n",
      "              30250S\n",
      "             </span>\n",
      "             <a class=\"ra-btn ra-btn-moreinfo\" href=\"https://www.rockauto.com/en/moreinfo.php?pk=8304960&amp;cc=0&amp;pt=5756\" onclick='cataloglite.MoreInfoClick(this, \"__GIP__3__\"); AddSerializedCookieDataToHref(this);' rel=\"opener\" target=\"_blank\">\n",
      "              Info\n",
      "             </a>\n",
      "             <span class=\"truck ra-hide remove-for-print mouseover\" name=\"vew_whtruckicon[__GIP__3__][0-0-0-1]\" onclick=\"FAQpopup('/help/?page=2#MINSHIPCOST', &quot;Could ship from same location as parts in cart&quot;, null, this); RA.StopBubble(event); return false;\" title=\"Could ship from same location as parts in cart\">\n",
      "             </span>\n",
      "            </div>\n",
      "            <div class=\"listing-text-row\">\n",
      "             <span title=\"Please make sure this note matches your vehicle. A seemingly contradictory note (like &quot;Left; Right;&quot;) means the part fits either (left OR right) -- it does not mean you'll receive two parts. Please do not choose a part if the note does not describe your application (for example, if the note says &quot;Sedan&quot; and you have a station wagon).\">\n",
      "              <span class=\"listing-footnote-text\">\n",
      "               Category: Timing Chain &amp; Component Kit\n",
      "              </span>\n",
      "             </span>\n",
      "            </div>\n",
      "            <div>\n",
      "            </div>\n",
      "            <div>\n",
      "            </div>\n",
      "            <div>\n",
      "            </div>\n",
      "            <input autocomplete=\"off\" id=\"optionchoice[__GIP__3__]\" name=\"optionchoice[__GIP__3__]\" type=\"hidden\" value=\"0-0-0-1\"/>\n",
      "            <input autocomplete=\"off\" id=\"listing_data_essential[__GIP__3__]\" name=\"listing_data_essential[__GIP__3__]\" type=\"hidden\" value='{\"groupindex\":\"__GIP__3__\",\"carcode\":0,\"parttype\":\"5756\",\"partkey\":\"8304960\",\"opts\":{\"0-0-0-1\":{\"warehouse\":\"72901\",\"whpartnum\":\"MEL 3-0250S@NK\",\"optionlist\":\"0\",\"paramcode\":\"0\",\"notekey\":\"0\",\"multiple\":\"1\"}}}'/>\n",
      "            <input autocomplete=\"off\" id=\"listing_data_supplemental[__GIP__3__]\" type=\"hidden\" value='{\"partnumber\":\"30250S\",\"catalogname\":\"MELLING\",\"belongstolisting\":\"__GIP__2__\",\"sortgroup\":0,\"sortgrouptext\":\"\",\"paramdesc\":\"\",\"iskitparent\":true}'/>\n",
      "            <input autocomplete=\"off\" id=\"mdl_whtruckicon[__GIP__3__][]\" type=\"hidden\" value=\"false\"/>\n",
      "            <input autocomplete=\"off\" id=\"mdl_chkalternate[__GIP__3__][]\" type=\"hidden\" value=\"false\"/>\n",
      "            <input autocomplete=\"off\" id=\"mdl_btnaddtocart[__GIP__3__][]\" type=\"hidden\" value=\"false\"/>\n",
      "            <input autocomplete=\"off\" id=\"mdl_btnpartincart[__GIP__3__][]\" type=\"hidden\" value=\"false\"/>\n",
      "            <input autocomplete=\"off\" id=\"lst_shipwhlist[__GIP__3__][0-0-0-1]\" type=\"hidden\" value='{\"55525\":55525,\"49200\":49200,\"72901\":72901,\"90250\":90250}'/>\n",
      "            <input autocomplete=\"off\" id=\"mdl_whtruckicon[__GIP__3__][0-0-0-1]\" type=\"hidden\" value=\"false\"/>\n",
      "            <input autocomplete=\"off\" id=\"mdl_btnaddtocart[__GIP__3__][0-0-0-1]\" type=\"hidden\" value=\"true\"/>\n",
      "            <input autocomplete=\"off\" id=\"mdl_btnpartincart[__GIP__3__][0-0-0-1]\" type=\"hidden\" value=\"false\"/>\n",
      "            <input autocomplete=\"off\" id=\"mdl_btnnotifyoos[__GIP__3__][0-0-0-1]\" type=\"hidden\" value=\"false\"/>\n",
      "            <input autocomplete=\"off\" id=\"mdl_chkalternate[__GIP__3__][0-0-0-1]\" type=\"hidden\" value=\"false\"/>\n",
      "            <input autocomplete=\"off\" id=\"component_children[__GIP__3__]\" type=\"hidden\" value=\"[]\"/>\n",
      "            <input autocomplete=\"off\" name=\"listing-codekey[__GIP__3__]\" type=\"hidden\" value=\"186165,186185,186177,186297\"/>\n",
      "            <input autocomplete=\"off\" name=\"ssk[__GIP__3__]\" type=\"hidden\" value=\"HPc6NY4sqMvPDBCrBav8qc4IcyTYZBTRn9zbr7QB011NgknZ5jJ6kaOB4a+Okv664Mx4Dbt/V4E=\"/>\n",
      "           </td>\n",
      "           <td class=\"listing-border-top-line listing-float-box-cell-shared\" rowspan=\"2\" style=\"text-align: right; \">\n",
      "            <div class=\"listing-image-space-occupy\">\n",
      "             <table class=\"tblz listing-image-table\" id=\"listing_image_table[__GIP__3__]\" style=\"\">\n",
      "              <tbody>\n",
      "               <tr>\n",
      "                <td class=\"listing-image-table-leftrightcol\">\n",
      "                 <div id=\"inlineimg_left_small[__GIP__3__]\">\n",
      "                  <img alt=\"&lt;\" class=\"listing-image-prevnext-image remove-for-print show-if-js\" id=\"inlineimgprevious[__GIP__3__]\" onclick='cataloglite.Listing_InlineImageManualScroll(\"__GIP__3__\", -1, false, false)' src=\"/catalog/images/prevIMGbig.png\" style=\" margin: .1em;\" title=\"Previous Image\"/>\n",
      "                 </div>\n",
      "                </td>\n",
      "                <td class=\"listing-image-table-centercol\">\n",
      "                 <div class=\"ra-hide\" id=\"inlineimgpositionancestor[__GIP__3__]\" style=\" position: relative; z-index: 1;\">\n",
      "                  <div class=\"listing-inlineimg_container listing-inline-image-border\" id=\"inlineimg_container[__GIP__3__]\" style=\"z-index: 1; text-align: center; background: #FFFFFF;\">\n",
      "                   <div class=\"listing-inline-image-popup-widget-title ra-hide\" id=\"inlineimg_containertitle[__GIP__3__]\" onmousedown='cataloglite.ImagePopupTitleMouseDown(\"__GIP__3__\")'>\n",
      "                    <div style=\"text-align: center; \">\n",
      "                     <span style=\"padding: 0 2em 0 2em;\">\n",
      "                      MELLING 30250S\n",
      "                     </span>\n",
      "                     <span style=\"position: absolute; right: 5px;\">\n",
      "                      <img alt=\"close\" onclick='cataloglite.Listing_InlineImagePopupInPlace(\"__GIP__3__\")' src=\"/catalog/images/close12_1.gif\" style=\"padding: .2em; cursor: pointer; display: block;\"/>\n",
      "                     </span>\n",
      "                    </div>\n",
      "                   </div>\n",
      "                   <div class=\"img-topper-container\" id=\"inlineimg_topper[__GIP__3__]\">\n",
      "                    <table class=\"tblz w100\">\n",
      "                     <tbody>\n",
      "                      <tr>\n",
      "                       <td class=\"pinched\" style=\"vertical-align: top;\">\n",
      "                        <div style=\"text-align: left; padding-right: .25em;\">\n",
      "                         <span id=\"inlineimg_left_big[__GIP__3__]\">\n",
      "                         </span>\n",
      "                        </div>\n",
      "                        <div class=\"listing-image-counter\">\n",
      "                         <div class=\"inner\" id=\"imagecounterdisplay[__GIP__3__]\">\n",
      "                         </div>\n",
      "                        </div>\n",
      "                       </td>\n",
      "                       <td style=\"vertical-align: top;\">\n",
      "                        <div class=\"img-carousel-titlephrase\" id=\"imgcarouseltitlephrase[__GIP__3__]\">\n",
      "                        </div>\n",
      "                        <div class=\"ra-hide\" id=\"inlineimg_container360menu[__GIP__3__]\" style=\"padding: .25em; margin-bottom: .5em;\">\n",
      "                         <div class=\"ra-bar-slider-bar-c\">\n",
      "                          <div class=\"ra-bar-slider-bar\" id=\"inlineimg_sliderbar[__GIP__3__]\" onmousedown='cataloglite.ImageSliderMouseDown(\"__GIP__3__\", event);' ontouchstart='cataloglite.ImageSliderMouseDown(\"__GIP__3__\", event);'>\n",
      "                           <span class=\"ra-bar-slider-slider\" id=\"inlineimg_slider[__GIP__3__]\">\n",
      "                           </span>\n",
      "                          </div>\n",
      "                         </div>\n",
      "                        </div>\n",
      "                       </td>\n",
      "                       <td class=\"pinched\" style=\"vertical-align: top; text-align: right;\">\n",
      "                        <div style=\"padding-left: .25em;\">\n",
      "                         <span id=\"inlineimg_right_big[__GIP__3__]\">\n",
      "                         </span>\n",
      "                        </div>\n",
      "                       </td>\n",
      "                      </tr>\n",
      "                     </tbody>\n",
      "                    </table>\n",
      "                   </div>\n",
      "                   <div class=\"inlineimg_containersizer ra-hide\" id=\"inlineimg_containersizer[__GIP__3__]\" onclick='cataloglite.Listing_InlineImagePopupInPlace(\"__GIP__3__\")' style=\" cursor: pointer;\">\n",
      "                    <img alt=\"Part image\" class=\"listing-inline-image\" id=\"inlineimg[__GIP__3__]\" src=\"/info/583/3-0250S-1-KIT__ra_m.jpg\"/>\n",
      "                   </div>\n",
      "                  </div>\n",
      "                 </div>\n",
      "                 <img alt=\"Part image\" class=\"listing-inline-image listing-inline-image-thumb listing-inline-image-border\" id=\"inlineimg_thumb[__GIP__3__]\" onclick='cataloglite.Listing_InlineImagePopupInPlace(\"__GIP__3__\")' src=\"/info/583/3-0250S-1-KIT__ra_m.jpg\" style=\"cursor: pointer;\" switch-to-highres=\"1\"/>\n",
      "                </td>\n",
      "                <td class=\"listing-image-table-leftrightcol\">\n",
      "                 <div id=\"inlineimg_right_small[__GIP__3__]\">\n",
      "                  <img alt=\"&gt;\" class=\"listing-image-prevnext-image show-if-js remove-for-print\" id=\"inlineimgnext[__GIP__3__]\" name=\"inlnimgnextbtn\" onclick='cataloglite.Listing_InlineImageManualScroll(\"__GIP__3__\", 1, false, false)' src=\"/catalog/images/nextIMGbig.png\" style=\" margin: .1em;\" title=\"Next Image\"/>\n",
      "                 </div>\n",
      "                </td>\n",
      "               </tr>\n",
      "              </tbody>\n",
      "             </table>\n",
      "             <input autocomplete=\"off\" id=\"jsninlineimg[__GIP__3__]\" type=\"hidden\" value='{\"Size\":\"Thumb\",\"SlotIndex\":0,\"Slots\":[{\"TitlePhrase\":null,\"ParamCodes\":[null],\"Type\":\"Single\",\"ImageData\":{\"Thumb\":\"\\/info\\/583\\/3-0250S-1-KIT__ra_m.jpg\",\"Popup\":\"\\/info\\/583\\/3-0250S-1-KIT.jpg\",\"Full\":\"\\/info\\/583\\/3-0250S-1-KIT.jpg\"}},{\"TitlePhrase\":\"&lt;b&gt;[Timing Chain Guide \\/ Damper]&lt;\\/b&gt;\",\"ParamCodes\":[null],\"Type\":\"Single\",\"ImageData\":{\"Thumb\":\"\\/info\\/583\\/BT7015-2-SID__ra_m.jpg\",\"Popup\":\"\\/info\\/583\\/BT7015-2-SID.jpg\",\"Full\":\"\\/info\\/583\\/BT7015-2-SID.jpg\"}},{\"TitlePhrase\":\"&lt;b&gt;[Timing Chain Guide \\/ Damper]&lt;\\/b&gt;\",\"ParamCodes\":[null],\"Type\":\"Single\",\"ImageData\":{\"Thumb\":\"\\/info\\/583\\/BG5515-3-FRO__ra_m.jpg\",\"Popup\":\"\\/info\\/583\\/BG5515-3-FRO.jpg\",\"Full\":\"\\/info\\/583\\/BG5515-3-FRO.jpg\"}},{\"TitlePhrase\":\"&lt;b&gt;[Timing Chain]&lt;\\/b&gt;\",\"ParamCodes\":[null],\"Type\":\"Single\",\"ImageData\":{\"Thumb\":\"\\/info\\/583\\/715F-1-ANG__ra_m.jpg\",\"Popup\":\"\\/info\\/583\\/715F-1-ANG.jpg\",\"Full\":\"\\/info\\/583\\/715F-1-ANG.jpg\"}},{\"TitlePhrase\":\"&lt;b&gt;[Timing Chain Tensioner]&lt;\\/b&gt;\",\"ParamCodes\":[null],\"Type\":\"Single\",\"ImageData\":{\"Thumb\":\"\\/info\\/583\\/BT5514-1-ANG__ra_m.jpg\",\"Popup\":\"\\/info\\/583\\/BT5514-1-ANG.jpg\",\"Full\":\"\\/info\\/583\\/BT5514-1-ANG.jpg\"}},{\"TitlePhrase\":\"&lt;b&gt;[Timing Cam Sprocket]&lt;\\/b&gt;\",\"ParamCodes\":[null],\"Type\":\"Single\",\"ImageData\":{\"Thumb\":\"\\/info\\/583\\/S906A-1-FRO__ra_m.jpg\",\"Popup\":\"\\/info\\/583\\/S906A-1-FRO.jpg\",\"Full\":\"\\/info\\/583\\/S906A-1-FRO.jpg\"}},{\"TitlePhrase\":\"&lt;b&gt;[Oil Pump Chain]&lt;\\/b&gt;\",\"ParamCodes\":[null],\"Type\":\"Single\",\"ImageData\":{\"Thumb\":\"\\/info\\/583\\/717F-1-ANG__ra_m.jpg\",\"Popup\":\"\\/info\\/583\\/717F-1-ANG.jpg\",\"Full\":\"\\/info\\/583\\/717F-1-ANG.jpg\"}},{\"TitlePhrase\":\"&lt;b&gt;[Oil Pump Chain Tensioner]&lt;\\/b&gt;\",\"ParamCodes\":[null],\"Type\":\"Single\",\"ImageData\":{\"Thumb\":\"\\/info\\/583\\/BT7016-1-TOP__ra_m.jpg\",\"Popup\":\"\\/info\\/583\\/BT7016-1-TOP.jpg\",\"Full\":\"\\/info\\/583\\/BT7016-1-TOP.jpg\"}},{\"TitlePhrase\":\"&lt;b&gt;[Timing Crank Sprocket]&lt;\\/b&gt;\",\"ParamCodes\":[null],\"Type\":\"Single\",\"ImageData\":{\"Thumb\":\"\\/info\\/583\\/S899-1-FRO__ra_m.jpg\",\"Popup\":\"\\/info\\/583\\/S899-1-FRO.jpg\",\"Full\":\"\\/info\\/583\\/S899-1-FRO.jpg\"}},{\"TitlePhrase\":\"&lt;b&gt;[Oil Pump Sprocket]&lt;\\/b&gt;\",\"ParamCodes\":[null],\"Type\":\"Single\",\"ImageData\":{\"Thumb\":\"\\/info\\/583\\/S905-1-FRO__ra_m.jpg\",\"Popup\":\"\\/info\\/583\\/S905-1-FRO.jpg\",\"Full\":\"\\/info\\/583\\/S905-1-FRO.jpg\"}},{\"TitlePhrase\":\"&lt;b&gt;[Oil Pump Chain Guide]&lt;\\/b&gt;\",\"ParamCodes\":[null],\"Type\":\"Single\",\"ImageData\":{\"Thumb\":\"\\/info\\/583\\/BG7019-2-SID__ra_m.jpg\",\"Popup\":\"\\/info\\/583\\/BG7019-2-SID.jpg\",\"Full\":\"\\/info\\/583\\/BG7019-2-SID.jpg\"}}]}'/>\n",
      "            </div>\n",
      "           </td>\n",
      "           <td class=\"listing-border-top-line listing-float-box-cell-shared listing-float-box-cell-more-padding\" colspan=\"4\" id=\"listingtd[__GIP__3__][price]\" style=\"height: 1px; text-align: center; \">\n",
      "            <span class=\"\" id=\"dprice[__GIP__3__][td]\">\n",
      "             <span class=\"ra-formatted-amount listing-price listing-amount-bold\">\n",
      "              <span id=\"dprice[__GIP__3__][v]\">\n",
      "               $171.99\n",
      "              </span>\n",
      "             </span>\n",
      "            </span>\n",
      "           </td>\n",
      "           <td class=\"ra-hide listing-border-top-line listing-float-box-cell-shared listing-float-box-cell-more-padding\" id=\"listingtd[__GIP__3__][core]\" style=\"height: 1px; text-align: center; \">\n",
      "            <span class=\"\" id=\"dcore[__GIP__3__][td]\">\n",
      "             <span class=\"ra-formatted-amount listing-core\">\n",
      "              <a class=\"\" href=\"/help/?page=2#CORE\" id=\"dcore[__GIP__3__][color]\" onclick=\"return FAQpopup(this);\" style=\"text-decoration: none;\" target=\"_blank\">\n",
      "               <span id=\"dcore[__GIP__3__][v]\">\n",
      "                $0.00\n",
      "               </span>\n",
      "              </a>\n",
      "             </span>\n",
      "            </span>\n",
      "           </td>\n",
      "           <td class=\"ra-hide listing-border-top-line listing-float-box-cell-shared listing-float-box-cell-more-padding\" id=\"listingtd[__GIP__3__][pack]\" style=\"height: 1px; text-align: center; \">\n",
      "            <span id=\"dpack[__GIP__3__][v]\">\n",
      "             <span class=\"hide-if-js\">\n",
      "              + Sold in packs of 1\n",
      "             </span>\n",
      "             <span class=\"show-if-js\">\n",
      "              <span class=\"pack_size_box no-text-select\" onclick=\"showContextPopup(' ', &quot;Sold in packs of 1&quot;, this); RA.StopBubble(event); return false;\" title=\"Sold in packs of 1\">\n",
      "               <span class=\"right\">\n",
      "                <span class=\"left\">\n",
      "                 <span class=\"text\">\n",
      "                  <span class=\"text-x-small\">\n",
      "                   x\n",
      "                  </span>\n",
      "                  1\n",
      "                 </span>\n",
      "                </span>\n",
      "               </span>\n",
      "              </span>\n",
      "             </span>\n",
      "            </span>\n",
      "           </td>\n",
      "           <td class=\"ra-hide listing-border-top-line listing-float-box-cell-shared listing-float-box-cell-more-padding\" id=\"listingtd[__GIP__3__][total]\" style=\"height: 1px; text-align: center; \">\n",
      "            <span class=\"listing-amount-bold\" id=\"dtotal[__GIP__3__][td]\">\n",
      "             <span class=\"ra-formatted-amount listing-total\">\n",
      "              <span id=\"dtotal[__GIP__3__][v]\">\n",
      "               $171.99\n",
      "              </span>\n",
      "             </span>\n",
      "            </span>\n",
      "           </td>\n",
      "           <td class=\"listing-border-top-line listing-float-box-cell-shared\" rowspan=\"2\" style=\"text-align: center; \">\n",
      "           </td>\n",
      "          </tr>\n",
      "          <tr>\n",
      "           <td class=\"listing-float-box-cell-shared\" colspan=\"4\" style=\"text-align: right;\">\n",
      "            <div style=\"padding-top: .25em; padding-bottom: .1em;\">\n",
      "             <div class=\"listing-quantity-adjustment ib remove-for-print show-if-js\">\n",
      "              <input autocomplete=\"off\" id=\"listingoptkeytomultiple[__GIP__3__]\" type=\"hidden\" value='{\"0-0-0-1\":\"1\"}'/>\n",
      "              <input autocomplete=\"off\" id=\"listingoptkeytolinenumber[__GIP__3__]\" type=\"hidden\" value='{\"0-0-0-1\":null}'/>\n",
      "              <input autocomplete=\"off\" id=\"listingoptkeytoqtyincart[__GIP__3__]\" type=\"hidden\" value='{\"0-0-0-1\":null}'/>\n",
      "              <input autocomplete=\"off\" id=\"listingoptkeytoalternateid[__GIP__3__]\" type=\"hidden\" value='{\"0-0-0-1\":null}'/>\n",
      "              <table class=\"tblz di tbl-input-button-attached\" id=\"listingquantitytable[__GIP__3__]\">\n",
      "               <tbody>\n",
      "                <tr>\n",
      "                 <td class=\"td-button-left\" style=\"text-align: right;\">\n",
      "                  <div class=\"qty-adjust-button\" onclick='cataloglite.ListingQuantityUpdate(\"__GIP__3__\", -1);' style=\"border-top-left-radius: 4px; border-bottom-left-radius: 4px;\">\n",
      "                   <img alt=\"\" class=\"nobmp vmiddle\" src=\"/Images/mobile/qty_down_white.png\"/>\n",
      "                  </div>\n",
      "                 </td>\n",
      "                 <td class=\"td-input\">\n",
      "                  <label for=\"raquantity[__GIP__3__]\" style=\"display:none;\">\n",
      "                   Quantity\n",
      "                  </label>\n",
      "                  <input aria-label=\"Quantity\" autocapitalize=\"off\" autocomplete=\"off\" autocorrect=\"off\" class=\"input-quantity ib\" data-autofill=\"block\" id=\"raquantity[__GIP__3__]\" maxlength=\"5\" name=\"raquantity[__GIP__3__]\" onchange='cataloglite.ListingQuantityUpdate(\"__GIP__3__\");' onkeypress='return RA.InterceptEnter(event, function(){RA.ByName(\"raquantity[__GIP__3__]\")[0].blur()});' spellcheck=\"false\" style=\"text-align: center; width: 2em; padding-left: 0;\" type=\"text\" value=\"1\"/>\n",
      "                 </td>\n",
      "                 <td class=\"td-button-right\">\n",
      "                  <div class=\"qty-adjust-button\" onclick='cataloglite.ListingQuantityUpdate(\"__GIP__3__\", 1);' style=\"border-top-right-radius: 4px; border-bottom-right-radius: 4px;\">\n",
      "                   <img alt=\"\" class=\"nobmp vmiddle\" src=\"/Images/mobile/qty_up_white.png\"/>\n",
      "                  </div>\n",
      "                 </td>\n",
      "                </tr>\n",
      "               </tbody>\n",
      "              </table>\n",
      "             </div>\n",
      "             <div class=\"catalog-listing-buttons-wrapper ib\" style=\"min-width:105px;\">\n",
      "              <div class=\"vew_btnaddtocart remove-for-print\" id=\"vew_btnaddtocart[__GIP__3__]\">\n",
      "               <input class=\"hide-if-js ra-btn ra-btn-size-normal ra-btn-color-hotgreen\" id=\"addpart[__GIP__3__]\" name=\"addpart[__GIP__3__]\" onclick=\"cataloglite.ShowLoadingOverlay(null, 'PK_ADDINGPARTTOCART'); return cataloglite.Cart.AddPartWhenReady(&quot;__GIP__3__&quot;);\" type=\"submit\" value=\"Add to Cart &gt;\"/>\n",
      "               <a class=\"show-if-js ra-btn ra-btn-color-hotgreen ra-btn-size-normal ra-btn-add-part\" href=\"#\" onclick=\"RA.Click('addpart[__GIP__3__]'); return false;\" style=\"display: inline-block;\">\n",
      "                <span class=\"la-btn-v\">\n",
      "                 Add to Cart\n",
      "                </span>\n",
      "                <img alt=\"\" class=\"la-btn-v\" src=\"/Images/mobile/right_arrow_white.png\" style=\"height: 1em; margin-left: .25em;\"/>\n",
      "               </a>\n",
      "              </div>\n",
      "              <div class=\"vew_btnpartincart remove-for-print ra-hide\" id=\"vew_btnpartincart[__GIP__3__]\">\n",
      "               <input class=\"ra-btn ra-btn-size-normal ra-btn-part-in-cart\" name=\"addpart[__GIP__3__]\" onclick=\"cataloglite.Cart.ShowPartAlreadyInCart(__GIP__3__); return false;\" type=\"submit\" value=\"Part In Cart\"/>\n",
      "              </div>\n",
      "              <div class=\"vew_btnnotifyoos remove-for-print ra-hide show-if-js\" id=\"vew_btnnotifyoos[__GIP__3__]\">\n",
      "               <input class=\"ra-btn ra-btn-size-normal ra-btn-color-darkblue\" onclick='cataloglite.GetAvailabilityAlertForOOSPart(\"__GIP__3__\");' type=\"button\" value=\"Notify Me When Available\"/>\n",
      "              </div>\n",
      "             </div>\n",
      "            </div>\n",
      "           </td>\n",
      "          </tr>\n",
      "         </tbody>\n",
      "        </table>\n",
      "        <div class=\"listing-filter-bottom-message ra-hide\" id=\"listingfiltermessage[__GIP__2__]\">\n",
      "        </div>\n",
      "        <input autocomplete=\"off\" id=\"part_groupindexes_in_this_listing[__GIP__2__]\" type=\"hidden\" value='[\"__GIP__3__\"]'/>\n",
      "       </div>\n",
      "      </div>\n",
      "     </form>\n",
      "    </div>\n",
      "   </div>\n",
      "  </div>\n",
      " </body>\n",
      "</html>\n",
      "\n"
     ]
    }
   ],
   "source": [
    "soup = BeautifulSoup(dict_['searchnoderesults'], 'html5lib')\n",
    "\n",
    "with open('./2.part.html', 'w', encoding='utf-8') as file:\n",
    "    file.write(str(soup))\n",
    "\n",
    "print(soup.prettify())"
   ]
  },
  {
   "cell_type": "code",
   "execution_count": 8,
   "id": "53f4a989-f389-49a4-9986-c69004e69c78",
   "metadata": {},
   "outputs": [],
   "source": [
    "from parsel import Selector"
   ]
  },
  {
   "cell_type": "code",
   "execution_count": 9,
   "id": "a3abe0cb-7db6-4be4-aaa4-327d20adcd13",
   "metadata": {},
   "outputs": [
    {
     "data": {
      "text/plain": [
       "<Selector query=None data='<html><head></head><body><div class=\"...'>"
      ]
     },
     "execution_count": 9,
     "metadata": {},
     "output_type": "execute_result"
    }
   ],
   "source": [
    "selector = Selector(text=str(soup))\n",
    "\n",
    "selector"
   ]
  },
  {
   "cell_type": "code",
   "execution_count": 10,
   "id": "47b17bc3-977d-43d7-b099-ac8560ffb509",
   "metadata": {},
   "outputs": [
    {
     "data": {
      "text/plain": [
       "[<Selector query='//tbody[contains(@id, \"listingcontainer[__GIP__\")]' data='<tbody class=\"listing-inner altrow-a-...'>]"
      ]
     },
     "execution_count": 10,
     "metadata": {},
     "output_type": "execute_result"
    }
   ],
   "source": [
    "list_tbody = selector.xpath('//tbody[contains(@id, \"listingcontainer[__GIP__\")]')\n",
    "\n",
    "list_tbody"
   ]
  },
  {
   "cell_type": "code",
   "execution_count": 11,
   "id": "fc799727-5c7e-4a02-a49f-1170c425d5b1",
   "metadata": {},
   "outputs": [],
   "source": [
    "import json"
   ]
  },
  {
   "cell_type": "code",
   "execution_count": 12,
   "id": "eb506069-d8be-4fef-be3d-95a574ba9c4a",
   "metadata": {},
   "outputs": [
    {
     "data": {
      "text/plain": [
       "[{'groupindex': '__GIP__3__',\n",
       "  'carcode': 0,\n",
       "  'parttype': '5756',\n",
       "  'partkey': '8304960',\n",
       "  'opts': {'0-0-0-1': {'warehouse': '72901',\n",
       "    'whpartnum': 'MEL 3-0250S@NK',\n",
       "    'optionlist': '0',\n",
       "    'paramcode': '0',\n",
       "    'notekey': '0',\n",
       "    'multiple': '1'}}}]"
      ]
     },
     "execution_count": 12,
     "metadata": {},
     "output_type": "execute_result"
    }
   ],
   "source": [
    "list_dict = [json.loads(tbody.xpath('./tr[1]/td[contains(@class, \"listing-inner-content\")]/input[contains(@id, \"listing_data_essential[__GIP__\")]/@value').get()) for tbody in list_tbody]\n",
    "\n",
    "list_dict"
   ]
  },
  {
   "cell_type": "code",
   "execution_count": 13,
   "id": "961e00e9-08cb-4440-beed-6dbec8ece83a",
   "metadata": {},
   "outputs": [
    {
     "data": {
      "text/plain": [
       "(['5756'], ['8304960'])"
      ]
     },
     "execution_count": 13,
     "metadata": {},
     "output_type": "execute_result"
    }
   ],
   "source": [
    "list_type_code, list_part_code = [dict_['parttype'] for dict_ in list_dict], [dict_['partkey'] for dict_ in list_dict]\n",
    "\n",
    "list_type_code, list_part_code"
   ]
  },
  {
   "cell_type": "code",
   "execution_count": 14,
   "id": "0b159852-8edd-4959-a216-3a22c7d2f486",
   "metadata": {},
   "outputs": [],
   "source": [
    "import numpy as np"
   ]
  },
  {
   "cell_type": "code",
   "execution_count": 15,
   "id": "31891b3f-3157-49a7-9f24-db422b34a62b",
   "metadata": {},
   "outputs": [
    {
     "data": {
      "text/plain": [
       "array([0])"
      ]
     },
     "execution_count": 15,
     "metadata": {},
     "output_type": "execute_result"
    }
   ],
   "source": [
    "array_index_type_code = np.where(np.array(list_type_code) == item['type_code'])[0]\n",
    "\n",
    "array_index_type_code"
   ]
  },
  {
   "cell_type": "code",
   "execution_count": 16,
   "id": "4ac34a7f-0951-4a88-a586-6df6aa53b03c",
   "metadata": {},
   "outputs": [
    {
     "data": {
      "text/plain": [
       "[{'partnumber': '30250S',\n",
       "  'catalogname': 'MELLING',\n",
       "  'belongstolisting': '__GIP__2__',\n",
       "  'sortgroup': 0,\n",
       "  'sortgrouptext': '',\n",
       "  'paramdesc': '',\n",
       "  'iskitparent': True}]"
      ]
     },
     "execution_count": 16,
     "metadata": {},
     "output_type": "execute_result"
    }
   ],
   "source": [
    "list_dict_2 = [json.loads(tbody.xpath('./tr[1]/td[contains(@class, \"listing-inner-content\")]/input[contains(@id, \"listing_data_supplemental[__GIP__\")]/@value').get()) for tbody in list_tbody]\n",
    "\n",
    "list_dict_2"
   ]
  },
  {
   "cell_type": "code",
   "execution_count": 17,
   "id": "c8803c13-7929-4810-99c5-c9cbc218d088",
   "metadata": {},
   "outputs": [
    {
     "data": {
      "text/plain": [
       "(['30250S'], ['MELLING'], [''])"
      ]
     },
     "execution_count": 17,
     "metadata": {},
     "output_type": "execute_result"
    }
   ],
   "source": [
    "list_part_number, list_manufacturer, list_choose = [dict_['partnumber'] for dict_ in list_dict_2], [dict_['catalogname'] for dict_ in list_dict_2], [dict_['paramdesc'] for dict_ in list_dict_2]\n",
    "\n",
    "list_part_number, list_manufacturer, list_choose"
   ]
  },
  {
   "cell_type": "code",
   "execution_count": 18,
   "id": "986b3205-2b64-4207-8cb3-4414e20668bc",
   "metadata": {},
   "outputs": [
    {
     "data": {
      "text/plain": [
       "(array([0]), array([0]))"
      ]
     },
     "execution_count": 18,
     "metadata": {},
     "output_type": "execute_result"
    }
   ],
   "source": [
    "array_index_part_number, array_index_manufacturer = np.where(np.array(list_part_number) == item['part_number'])[0], np.where(np.array(list_manufacturer) == item['manufacturer'])[0]\n",
    "\n",
    "array_index_part_number, array_index_manufacturer"
   ]
  },
  {
   "cell_type": "code",
   "execution_count": 19,
   "id": "668d82f1-fecf-4066-80d7-862a7a1d4f8d",
   "metadata": {},
   "outputs": [
    {
     "data": {
      "text/plain": [
       "array([0])"
      ]
     },
     "execution_count": 19,
     "metadata": {},
     "output_type": "execute_result"
    }
   ],
   "source": [
    "array_index_part = np.intersect1d(np.intersect1d(array_index_type_code, array_index_part_number), array_index_manufacturer)\n",
    "\n",
    "array_index_part"
   ]
  },
  {
   "cell_type": "code",
   "execution_count": 20,
   "id": "72a5e791-6704-49d6-b30d-b2d39a758c04",
   "metadata": {},
   "outputs": [
    {
     "data": {
      "text/plain": [
       "np.int64(0)"
      ]
     },
     "execution_count": 20,
     "metadata": {},
     "output_type": "execute_result"
    }
   ],
   "source": [
    "if array_index_part.size == 1:\n",
    "    index_part = array_index_part[0]\n",
    "\n",
    "index_part"
   ]
  },
  {
   "cell_type": "code",
   "execution_count": 21,
   "id": "0e201bf4-b8a4-4a6d-be7f-42bd62f48a13",
   "metadata": {},
   "outputs": [],
   "source": [
    "from lxml import etree\n",
    "import re\n",
    "import html"
   ]
  },
  {
   "cell_type": "code",
   "execution_count": 22,
   "id": "467c34c3-c10a-42eb-9130-983385088d12",
   "metadata": {},
   "outputs": [
    {
     "data": {
      "text/plain": [
       "{}"
      ]
     },
     "execution_count": 22,
     "metadata": {},
     "output_type": "execute_result"
    }
   ],
   "source": [
    "dict_sidenote, i, list_span = {}, 0, list_tbody[index_part].xpath('./tr[1]/td[contains(@class, \"listing-inner-content\")]/div[@class=\"listing-text-row-moreinfo-truck\"]/span[@class=\"span-link-underline-remover\"]')\n",
    "for span in list_span:\n",
    "    sidenote = etree.tostring(span.root).decode('utf-8')\n",
    "    sidenote = re.sub(r'<.*?>', '', sidenote)\n",
    "    sidenote = re.sub(r' +', ' ', sidenote)\n",
    "    sidenote = html.unescape(sidenote).strip()\n",
    "    if sidenote != '':\n",
    "        dict_sidenote[str(i)] = sidenote\n",
    "        i += 1\n",
    "\n",
    "dict_sidenote"
   ]
  },
  {
   "cell_type": "code",
   "execution_count": 23,
   "id": "87e0a24e-2fc9-4208-831c-623560ba3e46",
   "metadata": {},
   "outputs": [
    {
     "data": {
      "text/plain": [
       "'https://www.rockauto.com/en/moreinfo.php?pk=8304960&cc=0&pt=5756'"
      ]
     },
     "execution_count": 23,
     "metadata": {},
     "output_type": "execute_result"
    }
   ],
   "source": [
    "list_a = list_tbody[index_part].xpath('./tr[1]/td[contains(@class, \"listing-inner-content\")]/div[@class=\"listing-text-row-moreinfo-truck\"]/a[@class=\"ra-btn ra-btn-moreinfo\"]')\n",
    "info_url = list_a[0].xpath('./@href').get() if list_a else ''\n",
    "info_url = info_url if info_url.startswith('https://www.rockauto.com/en/moreinfo.php?') else f'https://www.rockauto.com/en/moreinfo.php?pk={list_part_code[index_part]}&pt={list_type_code[index_part]}&Lennon=1'\n",
    "\n",
    "info_url"
   ]
  },
  {
   "cell_type": "code",
   "execution_count": 24,
   "id": "2a14ea4b-9ba7-43ef-9990-70db846e0729",
   "metadata": {},
   "outputs": [
    {
     "data": {
      "text/plain": [
       "{'0': 'Category: Timing Chain & Component Kit'}"
      ]
     },
     "execution_count": 24,
     "metadata": {},
     "output_type": "execute_result"
    }
   ],
   "source": [
    "dict_footnote, i, list_span = {}, 0, list_tbody[index_part].xpath('./tr[1]/td[contains(@class, \"listing-inner-content\")]/div[@class=\"listing-text-row\"]/span[contains(@title, \"Please make sure\")]/span[@class=\"listing-footnote-text\"]')\n",
    "for span in list_span:\n",
    "    footnote = etree.tostring(span.root).decode('utf-8')\n",
    "    footnote = re.sub(r'<.*?>', '', footnote)\n",
    "    footnote = re.sub(r' +', ' ', footnote)\n",
    "    footnote = html.unescape(footnote).strip()\n",
    "    if footnote != '':\n",
    "        dict_footnote[str(i)] = footnote\n",
    "        i += 1\n",
    "\n",
    "dict_footnote"
   ]
  },
  {
   "cell_type": "code",
   "execution_count": 25,
   "id": "330ac717-6bd9-485e-ac3d-47cb815938f8",
   "metadata": {},
   "outputs": [
    {
     "data": {
      "text/plain": [
       "[]"
      ]
     },
     "execution_count": 25,
     "metadata": {},
     "output_type": "execute_result"
    }
   ],
   "source": [
    "list_oem, list_str_oem = [], list_tbody[index_part].xpath('./tr[1]/td[contains(@class, \"listing-inner-content\")]/span[contains(@title, \"Replaces these Alternate\")]/text()').getall()\n",
    "for str_oem in list_str_oem:\n",
    "    list_oem_temp = [oem.strip() for oem in str_oem.split(',')]\n",
    "    for oem in list_oem_temp:\n",
    "        if oem != '' and oem not in list_oem:\n",
    "            list_oem.append(oem)\n",
    "\n",
    "list_oem"
   ]
  },
  {
   "cell_type": "code",
   "execution_count": 26,
   "id": "8fc33978-c9bb-4878-95ba-309062f28502",
   "metadata": {},
   "outputs": [],
   "source": [
    "from urllib.parse import urljoin"
   ]
  },
  {
   "cell_type": "code",
   "execution_count": 27,
   "id": "403b52e5-e6d7-4ce4-b33e-cf1990d5dcbb",
   "metadata": {},
   "outputs": [
    {
     "data": {
      "text/plain": [
       "{'0': 'https://www.rockauto.com/info/583/3-0250S-1-KIT.jpg',\n",
       " '1': 'https://www.rockauto.com/info/583/BT7015-2-SID.jpg',\n",
       " '2': 'https://www.rockauto.com/info/583/BG5515-3-FRO.jpg',\n",
       " '3': 'https://www.rockauto.com/info/583/715F-1-ANG.jpg',\n",
       " '4': 'https://www.rockauto.com/info/583/BT5514-1-ANG.jpg',\n",
       " '5': 'https://www.rockauto.com/info/583/S906A-1-FRO.jpg',\n",
       " '6': 'https://www.rockauto.com/info/583/717F-1-ANG.jpg',\n",
       " '7': 'https://www.rockauto.com/info/583/BT7016-1-TOP.jpg',\n",
       " '8': 'https://www.rockauto.com/info/583/S899-1-FRO.jpg',\n",
       " '9': 'https://www.rockauto.com/info/583/S905-1-FRO.jpg',\n",
       " '10': 'https://www.rockauto.com/info/583/BG7019-2-SID.jpg'}"
      ]
     },
     "execution_count": 27,
     "metadata": {},
     "output_type": "execute_result"
    }
   ],
   "source": [
    "dict_src, i, list_value = {}, 0, list_tbody[index_part].xpath('./tr[1]/td/div[contains(@class, \"listing-image-space-occupy\")]/input[contains(@id, \"jsninlineimg[__GIP__\")]/@value').getall()\n",
    "for value in list_value:\n",
    "    list_src = json.loads(value).get('Slots', None)\n",
    "    for src in list_src:\n",
    "        dict_src[str(i)] = urljoin(item['url'], src['ImageData']['Full'].strip())\n",
    "        i += 1\n",
    "\n",
    "dict_src"
   ]
  },
  {
   "cell_type": "code",
   "execution_count": 28,
   "id": "75e43fdd-737a-4ca2-b3ef-7f3b008d4f01",
   "metadata": {},
   "outputs": [
    {
     "data": {
      "text/plain": [
       "{'default': '$171.99'}"
      ]
     },
     "execution_count": 28,
     "metadata": {},
     "output_type": "execute_result"
    }
   ],
   "source": [
    "span = list_tbody[index_part].xpath('./tr[1]/td[contains(@id, \"listingtd[__GIP__\") and contains(@id, \"__][price]\")]/span[contains(@id, \"dprice[__GIP__\") and contains(@id, \"__][td]\")]/span/span[contains(@id, \"dprice[__GIP__\") and contains(@id, \"__][v]\")]')[0]\n",
    "price = etree.tostring(span.root).decode('utf-8')\n",
    "price = re.sub(r'<.*?>', '', price)\n",
    "price = re.sub(r' +', ' ', price)\n",
    "price = html.unescape(price).strip()\n",
    "dict_price = {'default': price}\n",
    "\n",
    "i, list_td = 0, list_tbody[index_part].xpath('./tr[1]/td[contains(@class, \"listing-inner-content\")]/div/div[contains(@class, \"listing-optionchoice-multiple-container\")]/span[contains(@id, \"ddrepl[optionchoice[__GIP__\") and contains(@id, \"__]][container]\")]/span[@class=\"hide-if-js\"]/select[contains(@id, \"optionchoice[__GIP__\")]/option[@value!=\"\"]')\n",
    "for td in list_td:\n",
    "    price = etree.tostring(td.root).decode('utf-8')\n",
    "    price = re.sub(r'<.*?>', '', price)\n",
    "    price = re.sub(r' +', ' ', price)\n",
    "    price = html.unescape(price).strip()\n",
    "    if price != '':\n",
    "        if i == 0:\n",
    "            dict_price['choose'] = {}\n",
    "        dict_price['choose'][str(i)] = price\n",
    "        i += 1\n",
    "\n",
    "dict_price"
   ]
  },
  {
   "cell_type": "code",
   "execution_count": 29,
   "id": "89b2563f-a4ff-4cf3-b519-86b0b73bd693",
   "metadata": {},
   "outputs": [
    {
     "data": {
      "text/plain": [
       "{'type_': 'Timing Chain & Component Kit',\n",
       " 'group': 'Engine',\n",
       " 'no': 1,\n",
       " 'type_code': '5756',\n",
       " 'manufacturer': 'MELLING',\n",
       " 'part_number': '30250S',\n",
       " 'url': 'https://www.rockauto.com/en/parts/melling,30250S,timing+chain+&+component+kit,5756',\n",
       " 'picture': '',\n",
       " 'part_code': '8304960',\n",
       " 'join_mpntcpc': 'MELLING;30250S;5756;8304960',\n",
       " 'choose': '',\n",
       " 'json_sidenote': '{}',\n",
       " 'info_url': 'https://www.rockauto.com/en/moreinfo.php?pk=8304960&cc=0&pt=5756',\n",
       " 'json_footnote': '{\"0\": \"Category: Timing Chain & Component Kit\"}',\n",
       " 'oem': '',\n",
       " 'json_src': '{\"0\": \"https://www.rockauto.com/info/583/3-0250S-1-KIT.jpg\", \"1\": \"https://www.rockauto.com/info/583/BT7015-2-SID.jpg\", \"2\": \"https://www.rockauto.com/info/583/BG5515-3-FRO.jpg\", \"3\": \"https://www.rockauto.com/info/583/715F-1-ANG.jpg\", \"4\": \"https://www.rockauto.com/info/583/BT5514-1-ANG.jpg\", \"5\": \"https://www.rockauto.com/info/583/S906A-1-FRO.jpg\", \"6\": \"https://www.rockauto.com/info/583/717F-1-ANG.jpg\", \"7\": \"https://www.rockauto.com/info/583/BT7016-1-TOP.jpg\", \"8\": \"https://www.rockauto.com/info/583/S899-1-FRO.jpg\", \"9\": \"https://www.rockauto.com/info/583/S905-1-FRO.jpg\", \"10\": \"https://www.rockauto.com/info/583/BG7019-2-SID.jpg\"}',\n",
       " 'json_price': '{\"default\": \"$171.99\"}'}"
      ]
     },
     "execution_count": 29,
     "metadata": {},
     "output_type": "execute_result"
    }
   ],
   "source": [
    "{'type_': item['type_'],\n",
    " 'group': item['group'],\n",
    " 'no': item['no'],\n",
    " 'type_code': item['type_code'],\n",
    " 'manufacturer': item['manufacturer'],\n",
    " 'part_number': item['part_number'],\n",
    " 'url': item['url'],\n",
    " 'picture': '',\n",
    " 'part_code': list_part_code[index_part],\n",
    " 'join_mpntcpc': f'{item['manufacturer']};{item['part_number']};{item['type_code']};{list_part_code[index_part]}',\n",
    " 'choose': list_choose[index_part],\n",
    " 'json_sidenote': json.dumps(dict_sidenote),\n",
    " 'info_url': info_url,\n",
    " 'json_footnote': json.dumps(dict_footnote),\n",
    " 'oem': ';'.join(list_oem),\n",
    " 'json_src': json.dumps(dict_src),\n",
    " 'json_price': json.dumps(dict_price)}"
   ]
  },
  {
   "cell_type": "code",
   "execution_count": null,
   "id": "de6de2c2-fa0c-4278-84df-17a48afbd6d8",
   "metadata": {},
   "outputs": [],
   "source": []
  }
 ],
 "metadata": {
  "kernelspec": {
   "display_name": "Python 3 (ipykernel)",
   "language": "python",
   "name": "python3"
  },
  "language_info": {
   "codemirror_mode": {
    "name": "ipython",
    "version": 3
   },
   "file_extension": ".py",
   "mimetype": "text/x-python",
   "name": "python",
   "nbconvert_exporter": "python",
   "pygments_lexer": "ipython3",
   "version": "3.12.7"
  }
 },
 "nbformat": 4,
 "nbformat_minor": 5
}
