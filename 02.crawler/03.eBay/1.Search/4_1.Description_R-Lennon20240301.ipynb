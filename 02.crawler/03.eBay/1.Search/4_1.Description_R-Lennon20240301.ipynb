{
 "cells": [
  {
   "cell_type": "code",
   "execution_count": 1,
   "id": "aac44a48",
   "metadata": {},
   "outputs": [],
   "source": [
    "import pandas as pd\n",
    "\n",
    "output_correct = pd.DataFrame()\n",
    "output_error = pd.DataFrame()"
   ]
  },
  {
   "cell_type": "code",
   "execution_count": 2,
   "id": "625180e9",
   "metadata": {},
   "outputs": [
    {
     "name": "stdout",
     "output_type": "stream",
     "text": [
      "总数量：25\n"
     ]
    },
    {
     "data": {
      "text/plain": [
       "['https://vi.vipr.ebaydesc.com/itmdesc/273142816010?t=1565807490000&category=50454&seller=zamo-zuan&excSoj=1&excTrk=1&lsite=100&ittenable=true&domain=ebay.com&descgauge=1&cspheader=1&oneClk=2&secureDesc=1',\n",
       " 'https://vi.vipr.ebaydesc.com/itmdesc/273996486803?t=1575486695000&category=50454&seller=zamo-zuan&excSoj=1&excTrk=1&lsite=100&ittenable=true&domain=ebay.com&descgauge=1&cspheader=1&oneClk=2&secureDesc=1',\n",
       " 'https://vi.vipr.ebaydesc.com/itmdesc/274193643518?t=0&category=50454&seller=zamo-zuan&excSoj=1&excTrk=1&lsite=100&ittenable=true&domain=ebay.com&descgauge=1&cspheader=1&oneClk=2&secureDesc=1',\n",
       " 'https://vi.vipr.ebaydesc.com/itmdesc/274316783418?t=0&category=50454&seller=zamo-zuan&excSoj=1&excTrk=1&lsite=100&ittenable=true&domain=ebay.com&descgauge=1&cspheader=1&oneClk=2&secureDesc=1',\n",
       " 'https://vi.vipr.ebaydesc.com/itmdesc/274316790657?t=1585067498000&category=50454&seller=zamo-zuan&excSoj=1&excTrk=1&lsite=100&ittenable=true&domain=ebay.com&descgauge=1&cspheader=1&oneClk=2&secureDesc=1',\n",
       " 'https://vi.vipr.ebaydesc.com/itmdesc/274316919193?t=0&category=50454&seller=zamo-zuan&excSoj=1&excTrk=1&lsite=100&ittenable=true&domain=ebay.com&descgauge=1&cspheader=1&oneClk=2&secureDesc=1',\n",
       " 'https://vi.vipr.ebaydesc.com/itmdesc/274317742080?t=0&category=50454&seller=zamo-zuan&excSoj=1&excTrk=1&lsite=100&ittenable=true&domain=ebay.com&descgauge=1&cspheader=1&oneClk=2&secureDesc=1',\n",
       " 'https://vi.vipr.ebaydesc.com/itmdesc/274317755789?t=0&category=50454&seller=zamo-zuan&excSoj=1&excTrk=1&lsite=100&ittenable=true&domain=ebay.com&descgauge=1&cspheader=1&oneClk=2&secureDesc=1',\n",
       " 'https://vi.vipr.ebaydesc.com/itmdesc/274741149767?t=1617232677000&category=50454&seller=zamo-zuan&excSoj=1&excTrk=1&lsite=100&ittenable=true&domain=ebay.com&descgauge=1&cspheader=1&oneClk=2&secureDesc=1',\n",
       " 'https://vi.vipr.ebaydesc.com/itmdesc/283587876037?t=1566411946000&category=50454&seller=zamo-zuan&excSoj=1&excTrk=1&lsite=100&ittenable=true&domain=ebay.com&descgauge=1&cspheader=1&oneClk=2&secureDesc=1',\n",
       " 'https://vi.vipr.ebaydesc.com/itmdesc/283589953356?t=1617914499000&category=50454&seller=zamo-zuan&excSoj=1&excTrk=1&lsite=100&ittenable=true&domain=ebay.com&descgauge=1&cspheader=1&oneClk=2&secureDesc=1',\n",
       " 'https://vi.vipr.ebaydesc.com/itmdesc/283737038749?t=1578559304000&category=50454&seller=zamo-zuan&excSoj=1&excTrk=1&lsite=100&ittenable=true&domain=ebay.com&descgauge=1&cspheader=1&oneClk=2&secureDesc=1',\n",
       " 'https://vi.vipr.ebaydesc.com/itmdesc/283737332956?t=1578580424000&category=50454&seller=zamo-zuan&excSoj=1&excTrk=1&lsite=100&ittenable=true&domain=ebay.com&descgauge=1&cspheader=1&oneClk=2&secureDesc=1',\n",
       " 'https://vi.vipr.ebaydesc.com/itmdesc/283825955126?t=1585067541000&category=50454&seller=zamo-zuan&excSoj=1&excTrk=1&lsite=100&ittenable=true&domain=ebay.com&descgauge=1&cspheader=1&oneClk=2&secureDesc=1',\n",
       " 'https://vi.vipr.ebaydesc.com/itmdesc/283826025436?t=0&category=50454&seller=zamo-zuan&excSoj=1&excTrk=1&lsite=100&ittenable=true&domain=ebay.com&descgauge=1&cspheader=1&oneClk=2&secureDesc=1',\n",
       " 'https://vi.vipr.ebaydesc.com/itmdesc/283826027864?t=0&category=50454&seller=zamo-zuan&excSoj=1&excTrk=1&lsite=100&ittenable=true&domain=ebay.com&descgauge=1&cspheader=1&oneClk=2&secureDesc=1',\n",
       " 'https://vi.vipr.ebaydesc.com/itmdesc/283826055979?t=0&category=50454&seller=zamo-zuan&excSoj=1&excTrk=1&lsite=100&ittenable=true&domain=ebay.com&descgauge=1&cspheader=1&oneClk=2&secureDesc=1',\n",
       " 'https://vi.vipr.ebaydesc.com/itmdesc/283826069101?t=0&category=50454&seller=zamo-zuan&excSoj=1&excTrk=1&lsite=100&ittenable=true&domain=ebay.com&descgauge=1&cspheader=1&oneClk=2&secureDesc=1',\n",
       " 'https://vi.vipr.ebaydesc.com/itmdesc/285411478772?t=1690910300000&category=50454&seller=zamo-zuan&excSoj=1&excTrk=1&lsite=100&ittenable=true&domain=ebay.com&descgauge=1&cspheader=1&oneClk=2&secureDesc=1',\n",
       " 'https://vi.vipr.ebaydesc.com/itmdesc/303260419995?t=0&category=50454&seller=zamo-zuan&excSoj=1&excTrk=1&lsite=100&ittenable=true&domain=ebay.com&descgauge=1&cspheader=1&oneClk=2&secureDesc=1',\n",
       " 'https://vi.vipr.ebaydesc.com/itmdesc/303379789225?t=1575487110000&category=50454&seller=zamo-zuan&excSoj=1&excTrk=1&lsite=100&ittenable=true&domain=ebay.com&descgauge=1&cspheader=1&oneClk=2&secureDesc=1',\n",
       " 'https://vi.vipr.ebaydesc.com/itmdesc/303379793324?t=1575487189000&category=50454&seller=zamo-zuan&excSoj=1&excTrk=1&lsite=100&ittenable=true&domain=ebay.com&descgauge=1&cspheader=1&oneClk=2&secureDesc=1',\n",
       " 'https://vi.vipr.ebaydesc.com/itmdesc/303522857355?t=1585076441000&category=50454&seller=zamo-zuan&excSoj=1&excTrk=1&lsite=100&ittenable=true&domain=ebay.com&descgauge=1&cspheader=1&oneClk=2&secureDesc=1',\n",
       " 'https://vi.vipr.ebaydesc.com/itmdesc/303522899104?t=0&category=50454&seller=zamo-zuan&excSoj=1&excTrk=1&lsite=100&ittenable=true&domain=ebay.com&descgauge=1&cspheader=1&oneClk=2&secureDesc=1',\n",
       " 'https://vi.vipr.ebaydesc.com/itmdesc/303522906541?t=0&category=50454&seller=zamo-zuan&excSoj=1&excTrk=1&lsite=100&ittenable=true&domain=ebay.com&descgauge=1&cspheader=1&oneClk=2&secureDesc=1']"
      ]
     },
     "execution_count": 2,
     "metadata": {},
     "output_type": "execute_result"
    }
   ],
   "source": [
    "input_ = pd.read_excel('./item.xlsx',\n",
    "                       header=0,\n",
    "                       dtype=str).fillna('')\n",
    "\n",
    "print('总数量：' + str(len(input_)))\n",
    "input_['Description_Url'].tolist()"
   ]
  },
  {
   "cell_type": "code",
   "execution_count": 3,
   "id": "287cb149",
   "metadata": {},
   "outputs": [
    {
     "name": "stdout",
     "output_type": "stream",
     "text": [
      "error\n"
     ]
    }
   ],
   "source": [
    "crawler_status = 'error'\n",
    "\n",
    "print(crawler_status)"
   ]
  },
  {
   "cell_type": "code",
   "execution_count": 4,
   "id": "4c4efd91",
   "metadata": {},
   "outputs": [],
   "source": [
    "import requests\n",
    "\n",
    "import sys\n",
    "sys.path.append('../00.Tools')\n",
    "import UA\n",
    "import Proxy"
   ]
  },
  {
   "cell_type": "code",
   "execution_count": 5,
   "id": "f4d0ee82",
   "metadata": {
    "scrolled": true
   },
   "outputs": [
    {
     "data": {
      "text/plain": [
       "'<!doctype html><html lang=zh><head><link rel=\"dns-prefetch\" href=\"//ir.ebaystatic.com\"><link rel=\"dns-prefetch\" href=\"//secureir.ebaystatic.com\"><link rel=\"dns-prefetch\" href=\"//i.ebayimg.com\"><link rel=\"dns-prefetch\" href=\"//rover.ebay.com\"><script>$ssgST=new Date().getTime();</script><link rel=preload fetchpriority=high href=https://ir.ebaystatic.com/cr/v/c1/market-sans/v1.0/MarketSans-Regular-WebS.woff2 as=font type=font/woff2><style nonce=/T9lRWCiFL42lfYV2Ho2Jw==>\\n            body { font-family: \"Market Sans\", Arial, sans-serif; }\\n        </style><meta charset=UTF-8><meta name=viewport content=\"width=device-width, initial-scale=1\"><title>eBay</title><link rel=\"stylesheet\" href=\"https://ir.ebaystatic.com/rs/c/item-desc-2Vk6qq44.css\"></head><body><noscript id=\"afph0\"></noscript><script src=\"https://ir.ebaystatic.com/rs/c/item-desc-wp-NMN7j.js\"></script>\\n<script nonce=\"/T9lRWCiFL42lfYV2Ho2Jw==\">$_mod.ready();</script> <script nonce=\"/T9lRWCiFL42lfYV2Ho2Jw==\" src=\"https://ir.ebaystatic.com/cr/v/c1/ebay-cookies/1.js\"></script><script type=\"text/javascript\" nonce=\"/T9lRWCiFL42lfYV2Ho2Jw==\">(function(scope) {var trackingInfo = {\"X_EBAY_C_CORRELATION_SESSION\":\"si=f8d03a6018d0a77e00ac923ffffb57e2,c=1,operationId=3458402,trk-gflgs=QA**\"};scope.trkCorrelationSessionInfo={};scope.trkCorrelationSessionInfo.getTrackingInfo=function(){return trackingInfo;};scope.trkCorrelationSessionInfo.getTrackingCorrelationSessionInfo=function(){return trackingInfo.X_EBAY_C_CORRELATION_SESSION};})(window)</script><script type=\"text/javascript\" nonce=\"/T9lRWCiFL42lfYV2Ho2Jw==\">if(typeof raptor !== \"undefined\" && raptor.require){var Uri=raptor.require(\"ebay/legacy/utils/Uri\");$uri=function(href){return new Uri(href);};window.raptor.extend(window.raptor, require(\"ebay/legacy/adaptor-utils\"));}</script><script id=\"taasHeaderRes\" type=\"text/javascript\" src=\"https://ir.ebaystatic.com/cr/v/c01/10341xh50yz21mhhydueu4m5wad.js\" nonce=\"/T9lRWCiFL42lfYV2Ho2Jw==\"></script><script id=\"taasContent\" type=\"text/javascript\" nonce=\"/T9lRWCiFL42lfYV2Ho2Jw==\">try {new window.TaaSTrackingCore({\"psi\":\"A0Dp1GPA*\",\"rover\":{\"imp\":\"/roverimp/0/0/9\",\"clk\":\"/roverclk/0/0/9\",\"uri\":\"https://rover.ebay.com\"},\"pid\":\"p3458402\"});\\nvar _plsubtInp={\"eventFamily\":\"DFLT\",\"samplingRate\":100, \"pageLoadTime\": new Date().getTime(), \"pageId\":3458402, \"app\":\"Testapp\", \"disableImp\":true};var _plsUBTTQ=[];var TaaSIdMapTrackerObj = new TaaSIdMapTracker();TaaSIdMapTrackerObj.roverService(\"https://rover.ebay.com/idmap/0?footer\");} catch (err) { console && console.log && console.log(err); }</script><script id=\"taasFooterRes\" type=\"text/javascript\" src=\"https://ir.ebaystatic.com/rs/v/s0hteylevy4bpkd12dvkd4yi5ms.js\" nonce=\"/T9lRWCiFL42lfYV2Ho2Jw==\"></script><script>$ssg={bRsTiming:false,iST:$ssgST,st1a:100,sUrl:\"https://sofe.ebay.com/ws/web/SojPagePerf?cmdname=videsc&s_app_name=r1vinode&pagename=videsc&cxy=lvsr1vinode-6hb9h-tess0027&s_host=lvsr1vinode-6hb9h-tess0027&s_10s=&st1=1709276412466\",fsom:false,manifestId:\"r1vinode-0.0.4_20240229181827413\",s_env:\"production\",durationThreshold:40,aChunktimes:[]};</script><script nonce=\"/T9lRWCiFL42lfYV2Ho2Jw==\">(window.$ebay||($ebay = {})).tracking={pageId:\\'4487351\\',pageName:\\'videsc\\'}</script><div id=\"af0\" style=\"display:none\"><!--M#s0-14--><div data-marko-key=\"@container s0-14\" class=x-item-description-child data-testid=x-item-description-child><!--F#p_container--><font rwr=\"1\" size=\"4\" style=\"font-family:Arial\"><meta name=\"viewport\" content=\"width=device-width, initial-scale=1.0\"> <style> header { height: 100px; padding: 0 15px; } #pagewrap { font-family: Trebuchet MS; font-size: medium;} #mainLeft { width: 47%; float: left; padding: 10px; margin: 0px; } #mainRight { width: 47%; float: right; padding: 10px; margin: 0px; } header, #mainLeft, #mainRight { margin-bottom: 5px; } .titleFont { font-size: 138.5%; line-height: 120.0%; color: black !important; /*font-weight: bold;*/ font-family: Impact; } .underline { text-decoration: underline; } .emphasis { color: rgb(0, 66, 154); /*font-weight: bold;*/ font-family: Impact; font-size: large; } .emphasisColor { color: rgb(0, 66, 154); } .leftMargin { margin-left: -40px; } </style> <div id=\"pagewrap\"> <p align=\"center\" class=\"titleFont\">Hasport Mounts Dual Height K20 K24 Swap Mount Kit for 88-91 Civic/CRX EFK2-70A</p> <p class=\"titleFont underline\">Product Information:</p> <p><span class=\"emphasis\">Part Type:</span></p> <ul> <li>Hasport Performance Mount - Hasport Performance Mount Kit</li> </ul> <p><span class=\"emphasis\">Product Code / Interchanges</span></p> <ul> <li>EFK270A / EFK2-70A</li> </ul> <p><span class=\"emphasis\"></span></p> <ul> </ul> <dl><dt class=\"emphasis\">Includes:</dt><dd><ul class=\"leftMargin\"><li>1 x EFK2-70A Swap Mount Kit</li><li>1 x Installation Instructions</li></ul></dd></dl><dl><dt class=\"emphasis\">Fitment:</dt><dd><ul class=\"leftMargin\"><li>1988-1991 Honda Civic/CRX</li></ul></dd></dl><dl><dt class=\"emphasis\">Note:</dt><dd><ul class=\"leftMargin\"><li>70A Black Bushing.</li><li>Track use/250-500 Rating(HP).</li><li>The dual-height K-Series mount kit allows the head of either a K20 or K24 to remain in the same spot.</li><li><font color=\"#002cfd\">If using a K24 with the K24 crank pulley a dropped radius rod will be needed.</font></li><li>It only works with K20 Transmission.</li></ul></dd></dl><dl><dt class=\"emphasis\">This kit features:</dt><dd><ul class=\"leftMargin\"><li>Ideal engine placement and axle alignment.</li><li>Designed blending strength and style with a lifetime warranty for worry free use.</li><li>Four different bushing durometers for applications ranging from daily driver to 8 second drag car. </li><li>Hasport\\'s superior customer service.</li></ul></dd></dl><dl><dt class=\"emphasis\">Hasport also has these products available for this swap:</dt><dd><ul class=\"leftMargin\"><li>Wiring conversions</li><li>ECU modifications</li><li>Axles</li><li>Suspension upgrades</li><li>And other swap accessories</li><li>For converting the hydraulic clutch to work with the EF, we have a conversion kit available.SOLD SEPERATELY</li></ul></dd></dl> <p class=\"titleFont underline\">General Information:</p> <p><span class=\"emphasis\">Warranty:</span></p> <ul> <li>What is covered: This warranty covers any defect in materials or workmanship in your HASPORT engine mount kit. (\"engine mount\")</li><li>What is not covered: Damage to the engine mount that is caused by abuse, misuse, modification, or excessive force being applied to the engine mount (such as crashing your automobile). Consequential and incidental damage (such as damage to your automobile if the engine mount fails) are not covered. Some states do not allow this exclusion or limitation of consequential damages, so the above limitation or exclusion may not apply to you.</li><li>How long coverage lasts: This warranty lasts as long as you own the engine mount.</li><li>What HASPORT will do: HASPORT will repair or replace the engine mount if it is defective at no charge. HASPORT is not responsible for costs of removing or re-installing the engine mount.</li><li>What you should do to obtain service: You must return the engine mount to HASPORT for inspection and pay the shipping cost for the return. Proof of purchase is required when obtaining warranty service, so you should include a copy of your invoice or other proof of purchase. If an engine mount is defective, HASPORT will repair or replace it within 30 days of receipt. - Additional rights under state law: If a state law creates implied warranties, these implied warranties are limited in duration to the period that this warranty is in effect. Some states do not allow limitations on how long an implied warranty lasts, so the above limitation may not apply to you. This warranty give you specific legal rights, and you may also have other rights which vary from state to state.</li>\\n\\n</ul></div></font><!--F/--></div><!--M/--></div><script nonce=\"/T9lRWCiFL42lfYV2Ho2Jw==\">function $af(d, a, e, l, g, h, k, b, f, c) {\\n  c = $af;if (a && !c[a]) (c[a += \"$\"] || (c[a] = [])).push(d);else {\\n    e = document;l = e.getElementById(\"af\" + d);g = e.getElementById(\"afph\" + d);h = e.createDocumentFragment();k = l.childNodes;b = 0;for (f = k.length; b < f; b++) h.appendChild(k.item(0));g && g.parentNode.replaceChild(h, g);c[d] = 1;if (a = c[d + \"$\"]) for (b = 0, f = a.length; b < f; b++) c(a[b]);\\n  }\\n};$af(0);$MC=(window.$MC||[]).concat({\"l\":1,\"g\":{\"showdiag\":false,\"language\":\"zh\",\"env\":\"production\",\"marketplaceId\":\"EBAY-US\",\"userId\":null,\"rlogid\":\"t6q4pnmjbb9%3Fjqpw7qjkicf(0oa%3Cn*w%60ut3540-18df8d03a32-0x3\",\"pageId\":\"3458402\",\"mobile\":false,\"itemId\":\"273142816010\"},\"w\":[[\"s0-14\",0,{\"model\":{\"_type\":\"SectionModule\",\"sections\":[{\"_type\":\"Section\",\"dataItems\":[{\"_type\":\"TextualDisplay\",\"textSpans\":[{\"_type\":\"TextSpan\",\"text\":\"<font rwr=\\\\\"1\\\\\" size=\\\\\"4\\\\\" style=\\\\\"font-family:Arial\\\\\"><meta name=\\\\\"viewport\\\\\" content=\\\\\"width=device-width, initial-scale=1.0\\\\\"> <style> header { height: 100px; padding: 0 15px; } #pagewrap { font-family: Trebuchet MS; font-size: medium;} #mainLeft { width: 47%; float: left; padding: 10px; margin: 0px; } #mainRight { width: 47%; float: right; padding: 10px; margin: 0px; } header, #mainLeft, #mainRight { margin-bottom: 5px; } .titleFont { font-size: 138.5%; line-height: 120.0%; color: black !important; /*font-weight: bold;*/ font-family: Impact; } .underline { text-decoration: underline; } .emphasis { color: rgb(0, 66, 154); /*font-weight: bold;*/ font-family: Impact; font-size: large; } .emphasisColor { color: rgb(0, 66, 154); } .leftMargin { margin-left: -40px; } \\\\u003C/style> <div id=\\\\\"pagewrap\\\\\"> <p align=\\\\\"center\\\\\" class=\\\\\"titleFont\\\\\">Hasport Mounts Dual Height K20 K24 Swap Mount Kit for 88-91 Civic/CRX EFK2-70A\\\\u003C/p> <p class=\\\\\"titleFont underline\\\\\">Product Information:\\\\u003C/p> <p><span class=\\\\\"emphasis\\\\\">Part Type:\\\\u003C/span>\\\\u003C/p> <ul> <li>Hasport Performance Mount - Hasport Performance Mount Kit\\\\u003C/li> \\\\u003C/ul> <p><span class=\\\\\"emphasis\\\\\">Product Code / Interchanges\\\\u003C/span>\\\\u003C/p> <ul> <li>EFK270A / EFK2-70A\\\\u003C/li> \\\\u003C/ul> <p><span class=\\\\\"emphasis\\\\\">\\\\u003C/span>\\\\u003C/p> <ul> \\\\u003C/ul> <dl><dt class=\\\\\"emphasis\\\\\">Includes:\\\\u003C/dt><dd><ul class=\\\\\"leftMargin\\\\\"><li>1 x EFK2-70A Swap Mount Kit\\\\u003C/li><li>1 x Installation Instructions\\\\u003C/li>\\\\u003C/ul>\\\\u003C/dd>\\\\u003C/dl><dl><dt class=\\\\\"emphasis\\\\\">Fitment:\\\\u003C/dt><dd><ul class=\\\\\"leftMargin\\\\\"><li>1988-1991 Honda Civic/CRX\\\\u003C/li>\\\\u003C/ul>\\\\u003C/dd>\\\\u003C/dl><dl><dt class=\\\\\"emphasis\\\\\">Note:\\\\u003C/dt><dd><ul class=\\\\\"leftMargin\\\\\"><li>70A Black Bushing.\\\\u003C/li><li>Track use/250-500 Rating(HP).\\\\u003C/li><li>The dual-height K-Series mount kit allows the head of either a K20 or K24 to remain in the same spot.\\\\u003C/li><li><font color=\\\\\"#002cfd\\\\\">If using a K24 with the K24 crank pulley a dropped radius rod will be needed.\\\\u003C/font>\\\\u003C/li><li>It only works with K20 Transmission.\\\\u003C/li>\\\\u003C/ul>\\\\u003C/dd>\\\\u003C/dl><dl><dt class=\\\\\"emphasis\\\\\">This kit features:\\\\u003C/dt><dd><ul class=\\\\\"leftMargin\\\\\"><li>Ideal engine placement and axle alignment.\\\\u003C/li><li>Designed blending strength and style with a lifetime warranty for worry free use.\\\\u003C/li><li>Four different bushing durometers for applications ranging from daily driver to 8 second drag car. \\\\u003C/li><li>Hasport\\'s superior customer service.\\\\u003C/li>\\\\u003C/ul>\\\\u003C/dd>\\\\u003C/dl><dl><dt class=\\\\\"emphasis\\\\\">Hasport also has these products available for this swap:\\\\u003C/dt><dd><ul class=\\\\\"leftMargin\\\\\"><li>Wiring conversions\\\\u003C/li><li>ECU modifications\\\\u003C/li><li>Axles\\\\u003C/li><li>Suspension upgrades\\\\u003C/li><li>And other swap accessories\\\\u003C/li><li>For converting the hydraulic clutch to work with the EF, we have a conversion kit available.SOLD SEPERATELY\\\\u003C/li>\\\\u003C/ul>\\\\u003C/dd>\\\\u003C/dl> <p class=\\\\\"titleFont underline\\\\\">General Information:\\\\u003C/p> <p><span class=\\\\\"emphasis\\\\\">Warranty:\\\\u003C/span>\\\\u003C/p> <ul> <li>What is covered: This warranty covers any defect in materials or workmanship in your HASPORT engine mount kit. (\\\\\"engine mount\\\\\")\\\\u003C/li><li>What is not covered: Damage to the engine mount that is caused by abuse, misuse, modification, or excessive force being applied to the engine mount (such as crashing your automobile). Consequential and incidental damage (such as damage to your automobile if the engine mount fails) are not covered. Some states do not allow this exclusion or limitation of consequential damages, so the above limitation or exclusion may not apply to you.\\\\u003C/li><li>How long coverage lasts: This warranty lasts as long as you own the engine mount.\\\\u003C/li><li>What HASPORT will do: HASPORT will repair or replace the engine mount if it is defective at no charge. HASPORT is not responsible for costs of removing or re-installing the engine mount.\\\\u003C/li><li>What you should do to obtain service: You must return the engine mount to HASPORT for inspection and pay the shipping cost for the return. Proof of purchase is required when obtaining warranty service, so you should include a copy of your invoice or other proof of purchase. If an engine mount is defective, HASPORT will repair or replace it within 30 days of receipt. - Additional rights under state law: If a state law creates implied warranties, these implied warranties are limited in duration to the period that this warranty is in effect. Some states do not allow limitations on how long an implied warranty lasts, so the above limitation may not apply to you. This warranty give you specific legal rights, and you may also have other rights which vary from state to state.\\\\u003C/li>\\\\n\\\\n\\\\u003C/ul>\\\\u003C/div>\\\\u003C/font>\"}],\"accessibilityText\":\"Seller provided item description\"}]}],\"title\":{\"_type\":\"TextualDisplay\",\"textSpans\":[{\"_type\":\"TextSpan\",\"text\":\"Item Description from Seller\"}]},\"meta\":{\"name\":\"SELLER_ITEM_DESC\",\"trackingList\":[{\"eventFamily\":\"ITM\",\"eventAction\":\"VIEW\",\"operationId\":\"3458402\",\"flushImmediately\":false,\"eventProperty\":{\"moduledtl\":\"mi:158519\",\"trackableId\":\"01HQWD0EQQJPAMDCM0YKHFST3Q\",\"interaction\":\"wwFVrK2vRE0lhQQ0MDFIUVdEMEVRUUpQQU1EQ00wWUtIRlNUM1E0MDFIUVdEMEVOOEdBR0tORVhYWlNTOFZQRFEAAAAAAA==\"}}],\"moduleIdentification\":{\"instanceId\":\"1\",\"provider\":\"SELLER_ITEM_DESC\",\"sojournerModuleId\":\"158519\",\"scenario\":\"*\",\"uxComponentGroup\":\"SELLER_ITEM_DESC\"},\"viewportTracking\":{\"trackableId\":\"01HQWD0EQQJPAMDCM0YKHFST3Q\"}}}}]],\"t\":[\"/@ebay/ux-app$7.15.2/components/x-item-description-child/component-browser\"]})</script></body></html><!-- RcmdId videsc,RlogId t6q4pnmjbb9%3Fjqpw7qjkicf(0oa%3Cn*w%60ut3540-18df8d03a32-0x3 --><!-- SiteId: 0, Environment: production, AppName: r1vinode, PageId: 4487351 -->'"
      ]
     },
     "execution_count": 5,
     "metadata": {},
     "output_type": "execute_result"
    }
   ],
   "source": [
    "a = 0\n",
    "\n",
    "resp = requests.get(input_.loc[a, 'Description_Url'],\n",
    "                    headers=UA.get_User_Agent_Requests(),\n",
    "                    proxies=Proxy.get_Proxy_Requests()).text\n",
    "\n",
    "resp"
   ]
  },
  {
   "cell_type": "code",
   "execution_count": 6,
   "id": "84b202f6",
   "metadata": {},
   "outputs": [],
   "source": [
    "from bs4 import BeautifulSoup\n",
    "from lxml import etree"
   ]
  },
  {
   "cell_type": "code",
   "execution_count": 7,
   "id": "1500fda5",
   "metadata": {},
   "outputs": [
    {
     "name": "stdout",
     "output_type": "stream",
     "text": [
      "<!DOCTYPE html>\n",
      "<html lang=\"zh\">\n",
      " <head>\n",
      "  <link href=\"//ir.ebaystatic.com\" rel=\"dns-prefetch\"/>\n",
      "  <link href=\"//secureir.ebaystatic.com\" rel=\"dns-prefetch\"/>\n",
      "  <link href=\"//i.ebayimg.com\" rel=\"dns-prefetch\"/>\n",
      "  <link href=\"//rover.ebay.com\" rel=\"dns-prefetch\"/>\n",
      "  <script>\n",
      "   $ssgST=new Date().getTime();\n",
      "  </script>\n",
      "  <link as=\"font\" fetchpriority=\"high\" href=\"https://ir.ebaystatic.com/cr/v/c1/market-sans/v1.0/MarketSans-Regular-WebS.woff2\" rel=\"preload\" type=\"font/woff2\"/>\n",
      "  <style nonce=\"/T9lRWCiFL42lfYV2Ho2Jw==\">\n",
      "   body { font-family: \"Market Sans\", Arial, sans-serif; }\n",
      "  </style>\n",
      "  <meta charset=\"utf-8\"/>\n",
      "  <meta content=\"width=device-width, initial-scale=1\" name=\"viewport\"/>\n",
      "  <title>\n",
      "   eBay\n",
      "  </title>\n",
      "  <link href=\"https://ir.ebaystatic.com/rs/c/item-desc-2Vk6qq44.css\" rel=\"stylesheet\"/>\n",
      " </head>\n",
      " <body>\n",
      "  <noscript id=\"afph0\">\n",
      "  </noscript>\n",
      "  <script src=\"https://ir.ebaystatic.com/rs/c/item-desc-wp-NMN7j.js\">\n",
      "  </script>\n",
      "  <script nonce=\"/T9lRWCiFL42lfYV2Ho2Jw==\">\n",
      "   $_mod.ready();\n",
      "  </script>\n",
      "  <script nonce=\"/T9lRWCiFL42lfYV2Ho2Jw==\" src=\"https://ir.ebaystatic.com/cr/v/c1/ebay-cookies/1.js\">\n",
      "  </script>\n",
      "  <script nonce=\"/T9lRWCiFL42lfYV2Ho2Jw==\" type=\"text/javascript\">\n",
      "   (function(scope) {var trackingInfo = {\"X_EBAY_C_CORRELATION_SESSION\":\"si=f8d03a6018d0a77e00ac923ffffb57e2,c=1,operationId=3458402,trk-gflgs=QA**\"};scope.trkCorrelationSessionInfo={};scope.trkCorrelationSessionInfo.getTrackingInfo=function(){return trackingInfo;};scope.trkCorrelationSessionInfo.getTrackingCorrelationSessionInfo=function(){return trackingInfo.X_EBAY_C_CORRELATION_SESSION};})(window)\n",
      "  </script>\n",
      "  <script nonce=\"/T9lRWCiFL42lfYV2Ho2Jw==\" type=\"text/javascript\">\n",
      "   if(typeof raptor !== \"undefined\" && raptor.require){var Uri=raptor.require(\"ebay/legacy/utils/Uri\");$uri=function(href){return new Uri(href);};window.raptor.extend(window.raptor, require(\"ebay/legacy/adaptor-utils\"));}\n",
      "  </script>\n",
      "  <script id=\"taasHeaderRes\" nonce=\"/T9lRWCiFL42lfYV2Ho2Jw==\" src=\"https://ir.ebaystatic.com/cr/v/c01/10341xh50yz21mhhydueu4m5wad.js\" type=\"text/javascript\">\n",
      "  </script>\n",
      "  <script id=\"taasContent\" nonce=\"/T9lRWCiFL42lfYV2Ho2Jw==\" type=\"text/javascript\">\n",
      "   try {new window.TaaSTrackingCore({\"psi\":\"A0Dp1GPA*\",\"rover\":{\"imp\":\"/roverimp/0/0/9\",\"clk\":\"/roverclk/0/0/9\",\"uri\":\"https://rover.ebay.com\"},\"pid\":\"p3458402\"});\n",
      "var _plsubtInp={\"eventFamily\":\"DFLT\",\"samplingRate\":100, \"pageLoadTime\": new Date().getTime(), \"pageId\":3458402, \"app\":\"Testapp\", \"disableImp\":true};var _plsUBTTQ=[];var TaaSIdMapTrackerObj = new TaaSIdMapTracker();TaaSIdMapTrackerObj.roverService(\"https://rover.ebay.com/idmap/0?footer\");} catch (err) { console && console.log && console.log(err); }\n",
      "  </script>\n",
      "  <script id=\"taasFooterRes\" nonce=\"/T9lRWCiFL42lfYV2Ho2Jw==\" src=\"https://ir.ebaystatic.com/rs/v/s0hteylevy4bpkd12dvkd4yi5ms.js\" type=\"text/javascript\">\n",
      "  </script>\n",
      "  <script>\n",
      "   $ssg={bRsTiming:false,iST:$ssgST,st1a:100,sUrl:\"https://sofe.ebay.com/ws/web/SojPagePerf?cmdname=videsc&s_app_name=r1vinode&pagename=videsc&cxy=lvsr1vinode-6hb9h-tess0027&s_host=lvsr1vinode-6hb9h-tess0027&s_10s=&st1=1709276412466\",fsom:false,manifestId:\"r1vinode-0.0.4_20240229181827413\",s_env:\"production\",durationThreshold:40,aChunktimes:[]};\n",
      "  </script>\n",
      "  <script nonce=\"/T9lRWCiFL42lfYV2Ho2Jw==\">\n",
      "   (window.$ebay||($ebay = {})).tracking={pageId:'4487351',pageName:'videsc'}\n",
      "  </script>\n",
      "  <div id=\"af0\" style=\"display:none\">\n",
      "   <!--M#s0-14-->\n",
      "   <div class=\"x-item-description-child\" data-marko-key=\"@container s0-14\" data-testid=\"x-item-description-child\">\n",
      "    <!--F#p_container-->\n",
      "    <font rwr=\"1\" size=\"4\" style=\"font-family:Arial\">\n",
      "     <meta content=\"width=device-width, initial-scale=1.0\" name=\"viewport\"/>\n",
      "     <style>\n",
      "      header { height: 100px; padding: 0 15px; } #pagewrap { font-family: Trebuchet MS; font-size: medium;} #mainLeft { width: 47%; float: left; padding: 10px; margin: 0px; } #mainRight { width: 47%; float: right; padding: 10px; margin: 0px; } header, #mainLeft, #mainRight { margin-bottom: 5px; } .titleFont { font-size: 138.5%; line-height: 120.0%; color: black !important; /*font-weight: bold;*/ font-family: Impact; } .underline { text-decoration: underline; } .emphasis { color: rgb(0, 66, 154); /*font-weight: bold;*/ font-family: Impact; font-size: large; } .emphasisColor { color: rgb(0, 66, 154); } .leftMargin { margin-left: -40px; }\n",
      "     </style>\n",
      "     <div id=\"pagewrap\">\n",
      "      <p align=\"center\" class=\"titleFont\">\n",
      "       Hasport Mounts Dual Height K20 K24 Swap Mount Kit for 88-91 Civic/CRX EFK2-70A\n",
      "      </p>\n",
      "      <p class=\"titleFont underline\">\n",
      "       Product Information:\n",
      "      </p>\n",
      "      <p>\n",
      "       <span class=\"emphasis\">\n",
      "        Part Type:\n",
      "       </span>\n",
      "      </p>\n",
      "      <ul>\n",
      "       <li>\n",
      "        Hasport Performance Mount - Hasport Performance Mount Kit\n",
      "       </li>\n",
      "      </ul>\n",
      "      <p>\n",
      "       <span class=\"emphasis\">\n",
      "        Product Code / Interchanges\n",
      "       </span>\n",
      "      </p>\n",
      "      <ul>\n",
      "       <li>\n",
      "        EFK270A / EFK2-70A\n",
      "       </li>\n",
      "      </ul>\n",
      "      <p>\n",
      "       <span class=\"emphasis\">\n",
      "       </span>\n",
      "      </p>\n",
      "      <ul>\n",
      "      </ul>\n",
      "      <dl>\n",
      "       <dt class=\"emphasis\">\n",
      "        Includes:\n",
      "       </dt>\n",
      "       <dd>\n",
      "        <ul class=\"leftMargin\">\n",
      "         <li>\n",
      "          1 x EFK2-70A Swap Mount Kit\n",
      "         </li>\n",
      "         <li>\n",
      "          1 x Installation Instructions\n",
      "         </li>\n",
      "        </ul>\n",
      "       </dd>\n",
      "      </dl>\n",
      "      <dl>\n",
      "       <dt class=\"emphasis\">\n",
      "        Fitment:\n",
      "       </dt>\n",
      "       <dd>\n",
      "        <ul class=\"leftMargin\">\n",
      "         <li>\n",
      "          1988-1991 Honda Civic/CRX\n",
      "         </li>\n",
      "        </ul>\n",
      "       </dd>\n",
      "      </dl>\n",
      "      <dl>\n",
      "       <dt class=\"emphasis\">\n",
      "        Note:\n",
      "       </dt>\n",
      "       <dd>\n",
      "        <ul class=\"leftMargin\">\n",
      "         <li>\n",
      "          70A Black Bushing.\n",
      "         </li>\n",
      "         <li>\n",
      "          Track use/250-500 Rating(HP).\n",
      "         </li>\n",
      "         <li>\n",
      "          The dual-height K-Series mount kit allows the head of either a K20 or K24 to remain in the same spot.\n",
      "         </li>\n",
      "         <li>\n",
      "          <font color=\"#002cfd\">\n",
      "           If using a K24 with the K24 crank pulley a dropped radius rod will be needed.\n",
      "          </font>\n",
      "         </li>\n",
      "         <li>\n",
      "          It only works with K20 Transmission.\n",
      "         </li>\n",
      "        </ul>\n",
      "       </dd>\n",
      "      </dl>\n",
      "      <dl>\n",
      "       <dt class=\"emphasis\">\n",
      "        This kit features:\n",
      "       </dt>\n",
      "       <dd>\n",
      "        <ul class=\"leftMargin\">\n",
      "         <li>\n",
      "          Ideal engine placement and axle alignment.\n",
      "         </li>\n",
      "         <li>\n",
      "          Designed blending strength and style with a lifetime warranty for worry free use.\n",
      "         </li>\n",
      "         <li>\n",
      "          Four different bushing durometers for applications ranging from daily driver to 8 second drag car.\n",
      "         </li>\n",
      "         <li>\n",
      "          Hasport's superior customer service.\n",
      "         </li>\n",
      "        </ul>\n",
      "       </dd>\n",
      "      </dl>\n",
      "      <dl>\n",
      "       <dt class=\"emphasis\">\n",
      "        Hasport also has these products available for this swap:\n",
      "       </dt>\n",
      "       <dd>\n",
      "        <ul class=\"leftMargin\">\n",
      "         <li>\n",
      "          Wiring conversions\n",
      "         </li>\n",
      "         <li>\n",
      "          ECU modifications\n",
      "         </li>\n",
      "         <li>\n",
      "          Axles\n",
      "         </li>\n",
      "         <li>\n",
      "          Suspension upgrades\n",
      "         </li>\n",
      "         <li>\n",
      "          And other swap accessories\n",
      "         </li>\n",
      "         <li>\n",
      "          For converting the hydraulic clutch to work with the EF, we have a conversion kit available.SOLD SEPERATELY\n",
      "         </li>\n",
      "        </ul>\n",
      "       </dd>\n",
      "      </dl>\n",
      "      <p class=\"titleFont underline\">\n",
      "       General Information:\n",
      "      </p>\n",
      "      <p>\n",
      "       <span class=\"emphasis\">\n",
      "        Warranty:\n",
      "       </span>\n",
      "      </p>\n",
      "      <ul>\n",
      "       <li>\n",
      "        What is covered: This warranty covers any defect in materials or workmanship in your HASPORT engine mount kit. (\"engine mount\")\n",
      "       </li>\n",
      "       <li>\n",
      "        What is not covered: Damage to the engine mount that is caused by abuse, misuse, modification, or excessive force being applied to the engine mount (such as crashing your automobile). Consequential and incidental damage (such as damage to your automobile if the engine mount fails) are not covered. Some states do not allow this exclusion or limitation of consequential damages, so the above limitation or exclusion may not apply to you.\n",
      "       </li>\n",
      "       <li>\n",
      "        How long coverage lasts: This warranty lasts as long as you own the engine mount.\n",
      "       </li>\n",
      "       <li>\n",
      "        What HASPORT will do: HASPORT will repair or replace the engine mount if it is defective at no charge. HASPORT is not responsible for costs of removing or re-installing the engine mount.\n",
      "       </li>\n",
      "       <li>\n",
      "        What you should do to obtain service: You must return the engine mount to HASPORT for inspection and pay the shipping cost for the return. Proof of purchase is required when obtaining warranty service, so you should include a copy of your invoice or other proof of purchase. If an engine mount is defective, HASPORT will repair or replace it within 30 days of receipt. - Additional rights under state law: If a state law creates implied warranties, these implied warranties are limited in duration to the period that this warranty is in effect. Some states do not allow limitations on how long an implied warranty lasts, so the above limitation may not apply to you. This warranty give you specific legal rights, and you may also have other rights which vary from state to state.\n",
      "       </li>\n",
      "      </ul>\n",
      "     </div>\n",
      "    </font>\n",
      "    <!--F/-->\n",
      "   </div>\n",
      "   <!--M/-->\n",
      "  </div>\n",
      "  <script nonce=\"/T9lRWCiFL42lfYV2Ho2Jw==\">\n",
      "   function $af(d, a, e, l, g, h, k, b, f, c) {\n",
      "  c = $af;if (a && !c[a]) (c[a += \"$\"] || (c[a] = [])).push(d);else {\n",
      "    e = document;l = e.getElementById(\"af\" + d);g = e.getElementById(\"afph\" + d);h = e.createDocumentFragment();k = l.childNodes;b = 0;for (f = k.length; b < f; b++) h.appendChild(k.item(0));g && g.parentNode.replaceChild(h, g);c[d] = 1;if (a = c[d + \"$\"]) for (b = 0, f = a.length; b < f; b++) c(a[b]);\n",
      "  }\n",
      "};$af(0);$MC=(window.$MC||[]).concat({\"l\":1,\"g\":{\"showdiag\":false,\"language\":\"zh\",\"env\":\"production\",\"marketplaceId\":\"EBAY-US\",\"userId\":null,\"rlogid\":\"t6q4pnmjbb9%3Fjqpw7qjkicf(0oa%3Cn*w%60ut3540-18df8d03a32-0x3\",\"pageId\":\"3458402\",\"mobile\":false,\"itemId\":\"273142816010\"},\"w\":[[\"s0-14\",0,{\"model\":{\"_type\":\"SectionModule\",\"sections\":[{\"_type\":\"Section\",\"dataItems\":[{\"_type\":\"TextualDisplay\",\"textSpans\":[{\"_type\":\"TextSpan\",\"text\":\"<font rwr=\\\"1\\\" size=\\\"4\\\" style=\\\"font-family:Arial\\\"><meta name=\\\"viewport\\\" content=\\\"width=device-width, initial-scale=1.0\\\"> <style> header { height: 100px; padding: 0 15px; } #pagewrap { font-family: Trebuchet MS; font-size: medium;} #mainLeft { width: 47%; float: left; padding: 10px; margin: 0px; } #mainRight { width: 47%; float: right; padding: 10px; margin: 0px; } header, #mainLeft, #mainRight { margin-bottom: 5px; } .titleFont { font-size: 138.5%; line-height: 120.0%; color: black !important; /*font-weight: bold;*/ font-family: Impact; } .underline { text-decoration: underline; } .emphasis { color: rgb(0, 66, 154); /*font-weight: bold;*/ font-family: Impact; font-size: large; } .emphasisColor { color: rgb(0, 66, 154); } .leftMargin { margin-left: -40px; } \\u003C/style> <div id=\\\"pagewrap\\\"> <p align=\\\"center\\\" class=\\\"titleFont\\\">Hasport Mounts Dual Height K20 K24 Swap Mount Kit for 88-91 Civic/CRX EFK2-70A\\u003C/p> <p class=\\\"titleFont underline\\\">Product Information:\\u003C/p> <p><span class=\\\"emphasis\\\">Part Type:\\u003C/span>\\u003C/p> <ul> <li>Hasport Performance Mount - Hasport Performance Mount Kit\\u003C/li> \\u003C/ul> <p><span class=\\\"emphasis\\\">Product Code / Interchanges\\u003C/span>\\u003C/p> <ul> <li>EFK270A / EFK2-70A\\u003C/li> \\u003C/ul> <p><span class=\\\"emphasis\\\">\\u003C/span>\\u003C/p> <ul> \\u003C/ul> <dl><dt class=\\\"emphasis\\\">Includes:\\u003C/dt><dd><ul class=\\\"leftMargin\\\"><li>1 x EFK2-70A Swap Mount Kit\\u003C/li><li>1 x Installation Instructions\\u003C/li>\\u003C/ul>\\u003C/dd>\\u003C/dl><dl><dt class=\\\"emphasis\\\">Fitment:\\u003C/dt><dd><ul class=\\\"leftMargin\\\"><li>1988-1991 Honda Civic/CRX\\u003C/li>\\u003C/ul>\\u003C/dd>\\u003C/dl><dl><dt class=\\\"emphasis\\\">Note:\\u003C/dt><dd><ul class=\\\"leftMargin\\\"><li>70A Black Bushing.\\u003C/li><li>Track use/250-500 Rating(HP).\\u003C/li><li>The dual-height K-Series mount kit allows the head of either a K20 or K24 to remain in the same spot.\\u003C/li><li><font color=\\\"#002cfd\\\">If using a K24 with the K24 crank pulley a dropped radius rod will be needed.\\u003C/font>\\u003C/li><li>It only works with K20 Transmission.\\u003C/li>\\u003C/ul>\\u003C/dd>\\u003C/dl><dl><dt class=\\\"emphasis\\\">This kit features:\\u003C/dt><dd><ul class=\\\"leftMargin\\\"><li>Ideal engine placement and axle alignment.\\u003C/li><li>Designed blending strength and style with a lifetime warranty for worry free use.\\u003C/li><li>Four different bushing durometers for applications ranging from daily driver to 8 second drag car. \\u003C/li><li>Hasport's superior customer service.\\u003C/li>\\u003C/ul>\\u003C/dd>\\u003C/dl><dl><dt class=\\\"emphasis\\\">Hasport also has these products available for this swap:\\u003C/dt><dd><ul class=\\\"leftMargin\\\"><li>Wiring conversions\\u003C/li><li>ECU modifications\\u003C/li><li>Axles\\u003C/li><li>Suspension upgrades\\u003C/li><li>And other swap accessories\\u003C/li><li>For converting the hydraulic clutch to work with the EF, we have a conversion kit available.SOLD SEPERATELY\\u003C/li>\\u003C/ul>\\u003C/dd>\\u003C/dl> <p class=\\\"titleFont underline\\\">General Information:\\u003C/p> <p><span class=\\\"emphasis\\\">Warranty:\\u003C/span>\\u003C/p> <ul> <li>What is covered: This warranty covers any defect in materials or workmanship in your HASPORT engine mount kit. (\\\"engine mount\\\")\\u003C/li><li>What is not covered: Damage to the engine mount that is caused by abuse, misuse, modification, or excessive force being applied to the engine mount (such as crashing your automobile). Consequential and incidental damage (such as damage to your automobile if the engine mount fails) are not covered. Some states do not allow this exclusion or limitation of consequential damages, so the above limitation or exclusion may not apply to you.\\u003C/li><li>How long coverage lasts: This warranty lasts as long as you own the engine mount.\\u003C/li><li>What HASPORT will do: HASPORT will repair or replace the engine mount if it is defective at no charge. HASPORT is not responsible for costs of removing or re-installing the engine mount.\\u003C/li><li>What you should do to obtain service: You must return the engine mount to HASPORT for inspection and pay the shipping cost for the return. Proof of purchase is required when obtaining warranty service, so you should include a copy of your invoice or other proof of purchase. If an engine mount is defective, HASPORT will repair or replace it within 30 days of receipt. - Additional rights under state law: If a state law creates implied warranties, these implied warranties are limited in duration to the period that this warranty is in effect. Some states do not allow limitations on how long an implied warranty lasts, so the above limitation may not apply to you. This warranty give you specific legal rights, and you may also have other rights which vary from state to state.\\u003C/li>\\n\\n\\u003C/ul>\\u003C/div>\\u003C/font>\"}],\"accessibilityText\":\"Seller provided item description\"}]}],\"title\":{\"_type\":\"TextualDisplay\",\"textSpans\":[{\"_type\":\"TextSpan\",\"text\":\"Item Description from Seller\"}]},\"meta\":{\"name\":\"SELLER_ITEM_DESC\",\"trackingList\":[{\"eventFamily\":\"ITM\",\"eventAction\":\"VIEW\",\"operationId\":\"3458402\",\"flushImmediately\":false,\"eventProperty\":{\"moduledtl\":\"mi:158519\",\"trackableId\":\"01HQWD0EQQJPAMDCM0YKHFST3Q\",\"interaction\":\"wwFVrK2vRE0lhQQ0MDFIUVdEMEVRUUpQQU1EQ00wWUtIRlNUM1E0MDFIUVdEMEVOOEdBR0tORVhYWlNTOFZQRFEAAAAAAA==\"}}],\"moduleIdentification\":{\"instanceId\":\"1\",\"provider\":\"SELLER_ITEM_DESC\",\"sojournerModuleId\":\"158519\",\"scenario\":\"*\",\"uxComponentGroup\":\"SELLER_ITEM_DESC\"},\"viewportTracking\":{\"trackableId\":\"01HQWD0EQQJPAMDCM0YKHFST3Q\"}}}}]],\"t\":[\"/@ebay/ux-app$7.15.2/components/x-item-description-child/component-browser\"]})\n",
      "  </script>\n",
      " </body>\n",
      "</html>\n",
      "<!-- RcmdId videsc,RlogId t6q4pnmjbb9%3Fjqpw7qjkicf(0oa%3Cn*w%60ut3540-18df8d03a32-0x3 -->\n",
      "<!-- SiteId: 0, Environment: production, AppName: r1vinode, PageId: 4487351 -->\n",
      "\n"
     ]
    }
   ],
   "source": [
    "soup = BeautifulSoup(resp, 'lxml')\n",
    "html = etree.HTML(str(soup))\n",
    "\n",
    "with open('./description.html', 'w', encoding='UTF-8') as file:\n",
    "    file.write(str(soup))\n",
    "\n",
    "print(soup.prettify())"
   ]
  },
  {
   "cell_type": "code",
   "execution_count": 8,
   "id": "0172c871",
   "metadata": {},
   "outputs": [
    {
     "data": {
      "text/plain": [
       "[<Element p at 0x121d11800>,\n",
       " <Element p at 0x1217a6d80>,\n",
       " <Element p at 0x121a25880>,\n",
       " <Element p at 0x121a27b00>]"
      ]
     },
     "execution_count": 8,
     "metadata": {},
     "output_type": "execute_result"
    }
   ],
   "source": [
    "list_p = html.xpath('//div[@id=\"pagewrap\"]/p[not(@class)]')\n",
    "\n",
    "list_p"
   ]
  },
  {
   "cell_type": "code",
   "execution_count": 9,
   "id": "56bac1f3",
   "metadata": {},
   "outputs": [
    {
     "data": {
      "text/plain": [
       "[<Element ul at 0x121a25fc0>,\n",
       " <Element ul at 0x121a240c0>,\n",
       " <Element ul at 0x121a24040>,\n",
       " <Element ul at 0x121a25d00>]"
      ]
     },
     "execution_count": 9,
     "metadata": {},
     "output_type": "execute_result"
    }
   ],
   "source": [
    "list_ul = html.xpath('//div[@id=\"pagewrap\"]/ul')\n",
    "\n",
    "list_ul"
   ]
  },
  {
   "cell_type": "code",
   "execution_count": 10,
   "id": "9ea0c798",
   "metadata": {},
   "outputs": [
    {
     "data": {
      "text/plain": [
       "True"
      ]
     },
     "execution_count": 10,
     "metadata": {},
     "output_type": "execute_result"
    }
   ],
   "source": [
    "len(list_p) == len(list_ul)"
   ]
  },
  {
   "cell_type": "code",
   "execution_count": 12,
   "id": "7a688f94",
   "metadata": {},
   "outputs": [
    {
     "ename": "IndexError",
     "evalue": "list index out of range",
     "output_type": "error",
     "traceback": [
      "\u001b[0;31m---------------------------------------------------------------------------\u001b[0m",
      "\u001b[0;31mIndexError\u001b[0m                                Traceback (most recent call last)",
      "Cell \u001b[0;32mIn[12], line 4\u001b[0m\n\u001b[1;32m      1\u001b[0m df_temp \u001b[38;5;241m=\u001b[39m pd\u001b[38;5;241m.\u001b[39mDataFrame([{\u001b[38;5;124m'\u001b[39m\u001b[38;5;124mDescription_Url\u001b[39m\u001b[38;5;124m'\u001b[39m: input_\u001b[38;5;241m.\u001b[39mloc[a, \u001b[38;5;124m'\u001b[39m\u001b[38;5;124mDescription_Url\u001b[39m\u001b[38;5;124m'\u001b[39m]}])\n\u001b[1;32m      3\u001b[0m \u001b[38;5;28;01mfor\u001b[39;00m p, ul \u001b[38;5;129;01min\u001b[39;00m \u001b[38;5;28mzip\u001b[39m(list_p, list_ul):\n\u001b[0;32m----> 4\u001b[0m     name \u001b[38;5;241m=\u001b[39m \u001b[43mp\u001b[49m\u001b[38;5;241;43m.\u001b[39;49m\u001b[43mxpath\u001b[49m\u001b[43m(\u001b[49m\u001b[38;5;124;43m'\u001b[39;49m\u001b[38;5;124;43m./descendant-or-self::*/text()\u001b[39;49m\u001b[38;5;124;43m'\u001b[39;49m\u001b[43m)\u001b[49m\u001b[43m[\u001b[49m\u001b[38;5;241;43m0\u001b[39;49m\u001b[43m]\u001b[49m\u001b[38;5;241m.\u001b[39mstrip()\n\u001b[1;32m      5\u001b[0m     name \u001b[38;5;241m=\u001b[39m name[:\u001b[38;5;241m-\u001b[39m\u001b[38;5;241m1\u001b[39m]\u001b[38;5;241m.\u001b[39mstrip() \u001b[38;5;28;01mif\u001b[39;00m name\u001b[38;5;241m.\u001b[39mendswith(\u001b[38;5;124m'\u001b[39m\u001b[38;5;124m:\u001b[39m\u001b[38;5;124m'\u001b[39m) \u001b[38;5;28;01melse\u001b[39;00m name\n\u001b[1;32m      6\u001b[0m     df_temp\u001b[38;5;241m.\u001b[39mloc[\u001b[38;5;241m0\u001b[39m, name] \u001b[38;5;241m=\u001b[39m \u001b[38;5;124m'\u001b[39m\u001b[38;5;130;01m\\n\u001b[39;00m\u001b[38;5;124m'\u001b[39m\u001b[38;5;241m.\u001b[39mjoin([li\u001b[38;5;241m.\u001b[39mstrip() \u001b[38;5;28;01mfor\u001b[39;00m li \u001b[38;5;129;01min\u001b[39;00m ul\u001b[38;5;241m.\u001b[39mxpath(\u001b[38;5;124m'\u001b[39m\u001b[38;5;124m./li/text()\u001b[39m\u001b[38;5;124m'\u001b[39m)])\n",
      "\u001b[0;31mIndexError\u001b[0m: list index out of range"
     ]
    }
   ],
   "source": [
    "df_temp = pd.DataFrame([{'Description_Url': input_.loc[a, 'Description_Url']}])\n",
    "\n",
    "for p, ul in zip(list_p, list_ul):\n",
    "    name = p.xpath('./*/text()')[0].strip()\n",
    "    name = name[:-1].strip() if name.endswith(':') else name\n",
    "    df_temp.loc[0, name] = '\\n'.join([li.strip() for li in ul.xpath('./li/text()')])\n",
    "\n",
    "output_correct = pd.concat([output_correct, df_temp], ignore_index=True).fillna('')\n",
    "\n",
    "len(output_correct)"
   ]
  },
  {
   "cell_type": "code",
   "execution_count": null,
   "id": "f50e9784",
   "metadata": {},
   "outputs": [],
   "source": [
    "crawler_status = 'ok'\n",
    "\n",
    "crawler_status"
   ]
  },
  {
   "cell_type": "code",
   "execution_count": null,
   "id": "418c5902",
   "metadata": {},
   "outputs": [],
   "source": [
    "if crawler_status == 'error':\n",
    "    df_temp = pd.DataFrame([{'Description_Url': input_.loc[a, 'Description_Url']}])\n",
    "    \n",
    "    output_error = pd.concat([output_error, df_temp], ignore_index=True).fillna('')\n",
    "\n",
    "len(output_error)"
   ]
  },
  {
   "cell_type": "code",
   "execution_count": null,
   "id": "d4bb5067",
   "metadata": {},
   "outputs": [],
   "source": [
    "output_correct = output_correct.drop_duplicates(ignore_index=True)\n",
    "output_correct = output_correct.sort_values(by=['Description_Url'], ascending=[True]).reset_index(drop=True)\n",
    "output_correct.to_excel('./test_description.xlsx', index=False)\n",
    "\n",
    "output_correct"
   ]
  },
  {
   "cell_type": "code",
   "execution_count": null,
   "id": "17399c37",
   "metadata": {},
   "outputs": [],
   "source": [
    "if len(output_error) != 0:\n",
    "    output_error = output_error.drop_duplicates(ignore_index=True)\n",
    "    output_error = output_error.sort_values(by=['Description_Url'], ascending=[True]).reset_index(drop=True)\n",
    "    output_error.to_excel('./test_description_error.xlsx', index=False)\n",
    "\n",
    "output_error"
   ]
  },
  {
   "cell_type": "code",
   "execution_count": null,
   "id": "3b67a89a",
   "metadata": {},
   "outputs": [],
   "source": []
  }
 ],
 "metadata": {
  "kernelspec": {
   "display_name": "Python 3 (ipykernel)",
   "language": "python",
   "name": "python3"
  },
  "language_info": {
   "codemirror_mode": {
    "name": "ipython",
    "version": 3
   },
   "file_extension": ".py",
   "mimetype": "text/x-python",
   "name": "python",
   "nbconvert_exporter": "python",
   "pygments_lexer": "ipython3",
   "version": "3.11.3"
  }
 },
 "nbformat": 4,
 "nbformat_minor": 5
}
