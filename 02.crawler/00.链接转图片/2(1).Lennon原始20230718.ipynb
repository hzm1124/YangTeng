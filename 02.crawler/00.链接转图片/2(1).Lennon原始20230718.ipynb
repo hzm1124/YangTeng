{
 "cells": [
  {
   "cell_type": "code",
   "execution_count": null,
   "id": "84b2ba97",
   "metadata": {},
   "outputs": [],
   "source": [
    "from openpyxl import load_workbook"
   ]
  },
  {
   "cell_type": "code",
   "execution_count": null,
   "id": "792c92ea",
   "metadata": {},
   "outputs": [],
   "source": [
    "wb = load_workbook('./crawler.xlsx')\n",
    "ws = wb.active\n",
    "\n",
    "for column in range(1, ws.max_column+1):\n",
    "    if ws.cell(1, column).value == 'Src':\n",
    "        index_src = column\n",
    "    elif ws.cell(1, column).value == 'Pic':\n",
    "        index_pic = column\n",
    "        \n",
    "print('Src索引：' + str(index_src))\n",
    "print('Pic索引：' + str(index_pic))"
   ]
  },
  {
   "cell_type": "code",
   "execution_count": 1,
   "id": "db76849c",
   "metadata": {},
   "outputs": [],
   "source": [
    "import requests\n",
    "from io import BytesIO\n",
    "import PIL\n",
    "from openpyxl.drawing import image"
   ]
  },
  {
   "cell_type": "code",
   "execution_count": 2,
   "id": "3cbdda3e",
   "metadata": {},
   "outputs": [
    {
     "ename": "NameError",
     "evalue": "name 'ws' is not defined",
     "output_type": "error",
     "traceback": [
      "\u001b[0;31m---------------------------------------------------------------------------\u001b[0m",
      "\u001b[0;31mNameError\u001b[0m                                 Traceback (most recent call last)",
      "Cell \u001b[0;32mIn[2], line 3\u001b[0m\n\u001b[1;32m      1\u001b[0m row \u001b[38;5;241m=\u001b[39m \u001b[38;5;241m5\u001b[39m\n\u001b[0;32m----> 3\u001b[0m src \u001b[38;5;241m=\u001b[39m \u001b[43mws\u001b[49m\u001b[38;5;241m.\u001b[39mcell(row, index_src)\u001b[38;5;241m.\u001b[39mvalue\n\u001b[1;32m      5\u001b[0m src\n",
      "\u001b[0;31mNameError\u001b[0m: name 'ws' is not defined"
     ]
    }
   ],
   "source": [
    "row = 5\n",
    "\n",
    "src = ws.cell(row, index_src).value\n",
    "\n",
    "src"
   ]
  },
  {
   "cell_type": "code",
   "execution_count": 3,
   "id": "d644191b",
   "metadata": {},
   "outputs": [
    {
     "ename": "NameError",
     "evalue": "name 'src' is not defined",
     "output_type": "error",
     "traceback": [
      "\u001b[0;31m---------------------------------------------------------------------------\u001b[0m",
      "\u001b[0;31mNameError\u001b[0m                                 Traceback (most recent call last)",
      "Cell \u001b[0;32mIn[3], line 1\u001b[0m\n\u001b[0;32m----> 1\u001b[0m pic \u001b[38;5;241m=\u001b[39m PIL\u001b[38;5;241m.\u001b[39mImage\u001b[38;5;241m.\u001b[39mopen(BytesIO(requests\u001b[38;5;241m.\u001b[39mget(\u001b[43msrc\u001b[49m)\u001b[38;5;241m.\u001b[39mcontent))\u001b[38;5;241m.\u001b[39mconvert(\u001b[38;5;124m'\u001b[39m\u001b[38;5;124mRGB\u001b[39m\u001b[38;5;124m'\u001b[39m)\n\u001b[1;32m      2\u001b[0m pic\u001b[38;5;241m.\u001b[39msave(\u001b[38;5;124m'\u001b[39m\u001b[38;5;124m./img/\u001b[39m\u001b[38;5;124m'\u001b[39m \u001b[38;5;241m+\u001b[39m \u001b[38;5;28mstr\u001b[39m(row) \u001b[38;5;241m+\u001b[39m \u001b[38;5;124m'\u001b[39m\u001b[38;5;124m_pic.png\u001b[39m\u001b[38;5;124m'\u001b[39m, \u001b[38;5;124m'\u001b[39m\u001b[38;5;124mpng\u001b[39m\u001b[38;5;124m'\u001b[39m)\n\u001b[1;32m      3\u001b[0m pic \u001b[38;5;241m=\u001b[39m image\u001b[38;5;241m.\u001b[39mImage(\u001b[38;5;124m'\u001b[39m\u001b[38;5;124m./img/\u001b[39m\u001b[38;5;124m'\u001b[39m \u001b[38;5;241m+\u001b[39m \u001b[38;5;28mstr\u001b[39m(row) \u001b[38;5;241m+\u001b[39m \u001b[38;5;124m'\u001b[39m\u001b[38;5;124m_pic.png\u001b[39m\u001b[38;5;124m'\u001b[39m)\n",
      "\u001b[0;31mNameError\u001b[0m: name 'src' is not defined"
     ]
    }
   ],
   "source": [
    "pic = PIL.Image.open(BytesIO(requests.get(src).content)).convert('RGB')\n",
    "pic.save('./img/' + str(row) + '_pic.png', 'png')\n",
    "pic = image.Image('./img/' + str(row) + '_pic.png')\n",
    "\n",
    "pic"
   ]
  },
  {
   "cell_type": "code",
   "execution_count": null,
   "id": "6d625bf6",
   "metadata": {},
   "outputs": [],
   "source": [
    "if pic.width >= pic.height:\n",
    "    pic.height = 50.0 / pic.width * pic.height\n",
    "    pic.width = 50.0\n",
    "else:\n",
    "    pic.width = 50.0 / pic.height * pic.width\n",
    "    pic.height = 50.0\n",
    "    \n",
    "print('Pic宽度：' + str(pic.width))\n",
    "print('Pic高度：' + str(pic.height))"
   ]
  },
  {
   "cell_type": "code",
   "execution_count": null,
   "id": "d1e431bc",
   "metadata": {},
   "outputs": [],
   "source": [
    "from openpyxl.utils import get_column_letter\n",
    "\n",
    "ws.add_image(pic, get_column_letter(index_pic) + str(row))"
   ]
  },
  {
   "cell_type": "code",
   "execution_count": null,
   "id": "d221df1c",
   "metadata": {},
   "outputs": [],
   "source": [
    "wb.save('./crawler-pic.xlsx')"
   ]
  },
  {
   "cell_type": "code",
   "execution_count": null,
   "id": "62ae0ab9",
   "metadata": {},
   "outputs": [],
   "source": []
  }
 ],
 "metadata": {
  "kernelspec": {
   "display_name": "Python 3 (ipykernel)",
   "language": "python",
   "name": "python3"
  },
  "language_info": {
   "codemirror_mode": {
    "name": "ipython",
    "version": 3
   },
   "file_extension": ".py",
   "mimetype": "text/x-python",
   "name": "python",
   "nbconvert_exporter": "python",
   "pygments_lexer": "ipython3",
   "version": "3.11.3"
  }
 },
 "nbformat": 4,
 "nbformat_minor": 5
}
