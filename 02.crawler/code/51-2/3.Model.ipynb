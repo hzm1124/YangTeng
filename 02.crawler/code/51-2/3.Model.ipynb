{
 "cells": [
  {
   "cell_type": "code",
   "execution_count": 1,
   "id": "1eb46287-90e8-4977-bf36-a2638616fe09",
   "metadata": {},
   "outputs": [
    {
     "data": {
      "text/plain": [
       "{'no': 1,\n",
       " 'brand': 'KYB',\n",
       " 'part_number': '344115',\n",
       " 'part_no': 1,\n",
       " 'tag': 'KYB Shock absorber (344115)',\n",
       " 'url': 'https://www.onlinecarparts.co.uk/kyb-828666.html',\n",
       " 'article_id': 828666,\n",
       " 'article_no': '344115',\n",
       " 'picture': '',\n",
       " 'json_src': '{\"0\": \"https://media.autoteiledirekt.de/360_photos/828666/preview.jpg\", \"1\": \"https://cdn.autoteiledirekt.de/thumb?id=828666&m=0&n=0&lng=en&rev=94077896\", \"2\": \"https://cdn.autoteiledirekt.de/thumb?id=828666&m=0&n=1&lng=en&rev=94077896\", \"3\": \"https://cdn.autoteiledirekt.de/thumb?id=828666&m=0&n=2&lng=en&rev=94077896\", \"4\": \"https://cdn.autoteiledirekt.de/thumb?id=828666&m=0&n=3&lng=en&rev=94077896\", \"5\": \"https://cdn.autoteiledirekt.de/thumb?id=828666&m=0&n=4&lng=en&rev=94077896\", \"6\": \"https://cdn.autoteiledirekt.de/thumb?id=828666&m=0&n=5&lng=en&rev=94077896\"}',\n",
       " 'type_': 'Shock absorber',\n",
       " 'price': 'GBP 28.48',\n",
       " 'breadcrumbs': '3. Car Shock absorber at a good price (https://www.onlinecarparts.co.uk/spare-parts/shock-absorber.html)\\n2. Car Damping (https://www.onlinecarparts.co.uk/spare-parts/damping-group.html)\\n1. parts catalogue (https://www.onlinecarparts.co.uk/spare-parts.html)',\n",
       " 'title': 'KYB Excel-G 344115 Shock absorber',\n",
       " 'subtitle': 'Rear Axle, Gas Pressure, Twin-Tube, Telescopic Shock Absorber',\n",
       " 'json_info': '{\"Article number\": \"344115\", \"Manufacturer\": \"KYB\"}',\n",
       " 'json_detail': '{\"Product line\": \"nan\", \"Fitting Position\": \"Rear Axle\", \"Shock Absorber System\": \"Twin-Tube\", \"Shock Absorber Type\": \"Gas Pressure\", \"Shock Absorber Design\": \"Telescopic Shock Absorber\", \"Shock Absorber Mounting Type\": \"Top eye, Bottom eye\", \"Condition\": \"New\"}',\n",
       " 'oem': '46402631;46405783;46409717;46414480;46414586;46415599;46416471;46417133;46417134;46421626;46424224;46437778;46439462;46442796;46444663;46455144;46456096;46456415;46459363;46463792;46463793;46463794;46463795;46463796;46468146;46477065;46510793;46518129;46519351;46528791;46539299;46747928;46798864;46803344;46839039;51846396;60500393;60602722;60605178;60607640;60620082;60620083;71712474;71712478;71712481;71712486;71712487;71712488;71712641;71713814;71716544;71716546;71718285;71718287;7610120;7610121;7613698;7619437;7638163;7640930;7640931;7642982;7642983;7648480;7648482;7658106;7658317;7678636;7690033;7720720;7753565;7754144;7777585;7777948;7782234;7783497;7788046;82491295;KK13528700A;KK15328700B',\n",
       " 'json_equivalent': '{\"BILSTEIN\": \"19-019826\", \"BOGE\": \"27-D92-A\", \"MONROE\": \"23430\", \"SACHS\": \"170392\"}',\n",
       " 'make_no': 1,\n",
       " 'make_id': '2',\n",
       " 'make': 'ALFA ROMEO',\n",
       " 'model_url': 'https://www.onlinecarparts.co.uk/ajax/product/related-auto?productId=828666&makerId=2'}"
      ]
     },
     "execution_count": 1,
     "metadata": {},
     "output_type": "execute_result"
    }
   ],
   "source": [
    "dict_ = {'no': 1,\n",
    " 'brand': 'KYB',\n",
    " 'part_number': '344115',\n",
    " 'part_no': 1,\n",
    " 'tag': 'KYB Shock absorber (344115)',\n",
    " 'url': 'https://www.onlinecarparts.co.uk/kyb-828666.html',\n",
    " 'article_id': 828666,\n",
    " 'article_no': '344115',\n",
    " 'picture': '',\n",
    " 'json_src': '{\"0\": \"https://media.autoteiledirekt.de/360_photos/828666/preview.jpg\", \"1\": \"https://cdn.autoteiledirekt.de/thumb?id=828666&m=0&n=0&lng=en&rev=94077896\", \"2\": \"https://cdn.autoteiledirekt.de/thumb?id=828666&m=0&n=1&lng=en&rev=94077896\", \"3\": \"https://cdn.autoteiledirekt.de/thumb?id=828666&m=0&n=2&lng=en&rev=94077896\", \"4\": \"https://cdn.autoteiledirekt.de/thumb?id=828666&m=0&n=3&lng=en&rev=94077896\", \"5\": \"https://cdn.autoteiledirekt.de/thumb?id=828666&m=0&n=4&lng=en&rev=94077896\", \"6\": \"https://cdn.autoteiledirekt.de/thumb?id=828666&m=0&n=5&lng=en&rev=94077896\"}',\n",
    " 'type_': 'Shock absorber',\n",
    " 'price': 'GBP 28.48',\n",
    " 'breadcrumbs': '3. Car Shock absorber at a good price (https://www.onlinecarparts.co.uk/spare-parts/shock-absorber.html)\\n2. Car Damping (https://www.onlinecarparts.co.uk/spare-parts/damping-group.html)\\n1. parts catalogue (https://www.onlinecarparts.co.uk/spare-parts.html)',\n",
    " 'title': 'KYB Excel-G 344115 Shock absorber',\n",
    " 'subtitle': 'Rear Axle, Gas Pressure, Twin-Tube, Telescopic Shock Absorber',\n",
    " 'json_info': '{\"Article number\": \"344115\", \"Manufacturer\": \"KYB\"}',\n",
    " 'json_detail': '{\"Product line\": \"nan\", \"Fitting Position\": \"Rear Axle\", \"Shock Absorber System\": \"Twin-Tube\", \"Shock Absorber Type\": \"Gas Pressure\", \"Shock Absorber Design\": \"Telescopic Shock Absorber\", \"Shock Absorber Mounting Type\": \"Top eye, Bottom eye\", \"Condition\": \"New\"}',\n",
    " 'oem': '46402631;46405783;46409717;46414480;46414586;46415599;46416471;46417133;46417134;46421626;46424224;46437778;46439462;46442796;46444663;46455144;46456096;46456415;46459363;46463792;46463793;46463794;46463795;46463796;46468146;46477065;46510793;46518129;46519351;46528791;46539299;46747928;46798864;46803344;46839039;51846396;60500393;60602722;60605178;60607640;60620082;60620083;71712474;71712478;71712481;71712486;71712487;71712488;71712641;71713814;71716544;71716546;71718285;71718287;7610120;7610121;7613698;7619437;7638163;7640930;7640931;7642982;7642983;7648480;7648482;7658106;7658317;7678636;7690033;7720720;7753565;7754144;7777585;7777948;7782234;7783497;7788046;82491295;KK13528700A;KK15328700B',\n",
    " 'json_equivalent': '{\"BILSTEIN\": \"19-019826\", \"BOGE\": \"27-D92-A\", \"MONROE\": \"23430\", \"SACHS\": \"170392\"}',\n",
    " 'make_no': 1,\n",
    " 'make_id': '2',\n",
    " 'make': 'ALFA ROMEO',\n",
    " 'model_url': 'https://www.onlinecarparts.co.uk/ajax/product/related-auto?productId=828666&makerId=2'}\n",
    "\n",
    "dict_"
   ]
  },
  {
   "cell_type": "code",
   "execution_count": 2,
   "id": "f99b70ab-6d91-4212-8565-0a1dc3544d10",
   "metadata": {},
   "outputs": [],
   "source": [
    "import requests\n",
    "\n",
    "import sys\n",
    "sys.path.append('../00.Tools')\n",
    "from configuration import generate_header, generate_proxy"
   ]
  },
  {
   "cell_type": "code",
   "execution_count": 3,
   "id": "1fef3bd7-2b5c-441b-87e4-1709ca57e176",
   "metadata": {},
   "outputs": [
    {
     "data": {
      "text/plain": [
       "200"
      ]
     },
     "execution_count": 3,
     "metadata": {},
     "output_type": "execute_result"
    }
   ],
   "source": [
    "response = requests.get(dict_['model_url'],\n",
    "                        headers=generate_header(**{'Referer': dict_['url']}),\n",
    "                        # proxies=generate_proxy(),\n",
    "                        timeout=(10, 15),\n",
    "                        allow_redirects=False)\n",
    "\n",
    "response.status_code"
   ]
  },
  {
   "cell_type": "code",
   "execution_count": 4,
   "id": "4ab1d3a9-1f01-4771-8ccf-bd912dc570f0",
   "metadata": {},
   "outputs": [],
   "source": [
    "from bs4 import BeautifulSoup"
   ]
  },
  {
   "cell_type": "code",
   "execution_count": 5,
   "id": "6d18de26-4b71-4751-b2e2-e86d5a9cacdd",
   "metadata": {},
   "outputs": [
    {
     "name": "stdout",
     "output_type": "stream",
     "text": [
      "<html>\n",
      " <head>\n",
      " </head>\n",
      " <body>\n",
      "  <ul class=\"compatibility__model-list show\" id=\"maker-2\" style=\"display: block;\">\n",
      "   <li class=\"compatibility__model\">\n",
      "    <div class=\"compatibility__model-title\" data-article-id=\"828666\" data-maker-id=\"2\" data-model-id=\"278\" data-target=\"model-2-278\" data-toggle-model=\"\" data-toggle-vehicles=\"\">\n",
      "     ALFA ROMEO 145 (930) (Year of Construction 07.1994 - 01.2001)\n",
      "    </div>\n",
      "    <ul class=\"compatibility__motor-list\" data-parent=\"#maker-2\" data-vehicles-list=\"\" id=\"model-2-278\">\n",
      "    </ul>\n",
      "   </li>\n",
      "   <li class=\"compatibility__model\">\n",
      "    <div class=\"compatibility__model-title\" data-article-id=\"828666\" data-maker-id=\"2\" data-model-id=\"282\" data-target=\"model-2-282\" data-toggle-model=\"\" data-toggle-vehicles=\"\">\n",
      "     ALFA ROMEO 155 (167) (Year of Construction 01.1992 - 12.1997)\n",
      "    </div>\n",
      "    <ul class=\"compatibility__motor-list\" data-parent=\"#maker-2\" data-vehicles-list=\"\" id=\"model-2-282\">\n",
      "    </ul>\n",
      "   </li>\n",
      "   <li class=\"compatibility__model\">\n",
      "    <div class=\"compatibility__model-title\" data-article-id=\"828666\" data-maker-id=\"2\" data-model-id=\"1321\" data-target=\"model-2-1321\" data-toggle-model=\"\" data-toggle-vehicles=\"\">\n",
      "     ALFA ROMEO 146 (930) (Year of Construction 12.1994 - 01.2001)\n",
      "    </div>\n",
      "    <ul class=\"compatibility__motor-list\" data-parent=\"#maker-2\" data-vehicles-list=\"\" id=\"model-2-1321\">\n",
      "    </ul>\n",
      "   </li>\n",
      "  </ul>\n",
      " </body>\n",
      "</html>\n",
      "\n"
     ]
    }
   ],
   "source": [
    "soup = BeautifulSoup(response.text, 'html5lib')\n",
    "\n",
    "with open('./3.model.html', 'w', encoding='utf-8') as file:\n",
    "    file.write(str(soup))\n",
    "\n",
    "print(soup.prettify())"
   ]
  },
  {
   "cell_type": "code",
   "execution_count": 6,
   "id": "4a243c28-5e12-44d1-a674-103c907d2da4",
   "metadata": {},
   "outputs": [],
   "source": [
    "from parsel import Selector"
   ]
  },
  {
   "cell_type": "code",
   "execution_count": 7,
   "id": "feb917a2-e61a-48f4-b3b8-7bc8e02bbbee",
   "metadata": {},
   "outputs": [
    {
     "data": {
      "text/plain": [
       "<Selector query=None data='<html><head></head><body><ul class=\"c...'>"
      ]
     },
     "execution_count": 7,
     "metadata": {},
     "output_type": "execute_result"
    }
   ],
   "source": [
    "selector = Selector(text=str(soup))\n",
    "\n",
    "selector"
   ]
  },
  {
   "cell_type": "code",
   "execution_count": 8,
   "id": "e2ab541f-2d3d-4b3c-9e65-46f9444e61b1",
   "metadata": {},
   "outputs": [
    {
     "data": {
      "text/plain": [
       "[<Selector query='//ul/li[@class=\"compatibility__model\"]' data='<li class=\"compatibility__model\">\\n   ...'>,\n",
       " <Selector query='//ul/li[@class=\"compatibility__model\"]' data='<li class=\"compatibility__model\">\\n   ...'>,\n",
       " <Selector query='//ul/li[@class=\"compatibility__model\"]' data='<li class=\"compatibility__model\">\\n   ...'>]"
      ]
     },
     "execution_count": 8,
     "metadata": {},
     "output_type": "execute_result"
    }
   ],
   "source": [
    "list_div = selector.xpath('//ul/li[@class=\"compatibility__model\"]')\n",
    "\n",
    "list_div"
   ]
  },
  {
   "cell_type": "code",
   "execution_count": 9,
   "id": "e35ddc28-d660-4516-8906-02e4eceae249",
   "metadata": {},
   "outputs": [
    {
     "data": {
      "text/plain": [
       "[<Selector query='//ul/li[@class=\"compatibility__model\"]' data='<li class=\"compatibility__model\">\\n   ...'>,\n",
       " <Selector query='//ul/li[@class=\"compatibility__model\"]' data='<li class=\"compatibility__model\">\\n   ...'>,\n",
       " <Selector query='//ul/li[@class=\"compatibility__model\"]' data='<li class=\"compatibility__model\">\\n   ...'>]"
      ]
     },
     "execution_count": 9,
     "metadata": {},
     "output_type": "execute_result"
    }
   ],
   "source": [
    "list_div"
   ]
  },
  {
   "cell_type": "code",
   "execution_count": 10,
   "id": "1aed14e7-e0db-4b88-9d92-612150bd1b04",
   "metadata": {},
   "outputs": [
    {
     "data": {
      "text/plain": [
       "('278', 'ALFA ROMEO 145 (930) (Year of Construction 07.1994 - 01.2001)')"
      ]
     },
     "execution_count": 10,
     "metadata": {},
     "output_type": "execute_result"
    }
   ],
   "source": [
    "model_id, model = list_div[0].xpath('./div[@class=\"compatibility__model-title\"]/@data-model-id').get(), list_div[0].xpath('./div[@class=\"compatibility__model-title\"]/text()').get().strip()\n",
    "\n",
    "model_id, model"
   ]
  },
  {
   "cell_type": "code",
   "execution_count": 11,
   "id": "a40645cd-4906-47e1-a8c0-ac0d5e0da389",
   "metadata": {},
   "outputs": [
    {
     "data": {
      "text/plain": [
       "{'no': 1,\n",
       " 'brand': 'KYB',\n",
       " 'part_number': '344115',\n",
       " 'part_no': 1,\n",
       " 'tag': 'KYB Shock absorber (344115)',\n",
       " 'url': 'https://www.onlinecarparts.co.uk/kyb-828666.html',\n",
       " 'article_id': 828666,\n",
       " 'article_no': '344115',\n",
       " 'picture': '',\n",
       " 'json_src': '{\"0\": \"https://media.autoteiledirekt.de/360_photos/828666/preview.jpg\", \"1\": \"https://cdn.autoteiledirekt.de/thumb?id=828666&m=0&n=0&lng=en&rev=94077896\", \"2\": \"https://cdn.autoteiledirekt.de/thumb?id=828666&m=0&n=1&lng=en&rev=94077896\", \"3\": \"https://cdn.autoteiledirekt.de/thumb?id=828666&m=0&n=2&lng=en&rev=94077896\", \"4\": \"https://cdn.autoteiledirekt.de/thumb?id=828666&m=0&n=3&lng=en&rev=94077896\", \"5\": \"https://cdn.autoteiledirekt.de/thumb?id=828666&m=0&n=4&lng=en&rev=94077896\", \"6\": \"https://cdn.autoteiledirekt.de/thumb?id=828666&m=0&n=5&lng=en&rev=94077896\"}',\n",
       " 'type_': 'Shock absorber',\n",
       " 'price': 'GBP 28.48',\n",
       " 'breadcrumbs': '3. Car Shock absorber at a good price (https://www.onlinecarparts.co.uk/spare-parts/shock-absorber.html)\\n2. Car Damping (https://www.onlinecarparts.co.uk/spare-parts/damping-group.html)\\n1. parts catalogue (https://www.onlinecarparts.co.uk/spare-parts.html)',\n",
       " 'title': 'KYB Excel-G 344115 Shock absorber',\n",
       " 'subtitle': 'Rear Axle, Gas Pressure, Twin-Tube, Telescopic Shock Absorber',\n",
       " 'json_info': '{\"Article number\": \"344115\", \"Manufacturer\": \"KYB\"}',\n",
       " 'json_detail': '{\"Product line\": \"nan\", \"Fitting Position\": \"Rear Axle\", \"Shock Absorber System\": \"Twin-Tube\", \"Shock Absorber Type\": \"Gas Pressure\", \"Shock Absorber Design\": \"Telescopic Shock Absorber\", \"Shock Absorber Mounting Type\": \"Top eye, Bottom eye\", \"Condition\": \"New\"}',\n",
       " 'oem': '46402631;46405783;46409717;46414480;46414586;46415599;46416471;46417133;46417134;46421626;46424224;46437778;46439462;46442796;46444663;46455144;46456096;46456415;46459363;46463792;46463793;46463794;46463795;46463796;46468146;46477065;46510793;46518129;46519351;46528791;46539299;46747928;46798864;46803344;46839039;51846396;60500393;60602722;60605178;60607640;60620082;60620083;71712474;71712478;71712481;71712486;71712487;71712488;71712641;71713814;71716544;71716546;71718285;71718287;7610120;7610121;7613698;7619437;7638163;7640930;7640931;7642982;7642983;7648480;7648482;7658106;7658317;7678636;7690033;7720720;7753565;7754144;7777585;7777948;7782234;7783497;7788046;82491295;KK13528700A;KK15328700B',\n",
       " 'json_equivalent': '{\"BILSTEIN\": \"19-019826\", \"BOGE\": \"27-D92-A\", \"MONROE\": \"23430\", \"SACHS\": \"170392\"}',\n",
       " 'make_no': 1,\n",
       " 'make_id': '2',\n",
       " 'make': 'ALFA ROMEO',\n",
       " 'model_url': 'https://www.onlinecarparts.co.uk/ajax/product/related-auto?productId=828666&makerId=2',\n",
       " 'model_no': 1,\n",
       " 'model_id': '278',\n",
       " 'model': 'ALFA ROMEO 145 (930) (Year of Construction 07.1994 - 01.2001)',\n",
       " 'compatibility_url': 'https://www.onlinecarparts.co.uk/ajax/product/related/vehicles?articleId=828666&makerId=2&modelId=278'}"
      ]
     },
     "execution_count": 11,
     "metadata": {},
     "output_type": "execute_result"
    }
   ],
   "source": [
    "{'no': dict_['no'],\n",
    " 'brand': dict_['brand'],\n",
    " 'part_number': dict_['part_number'],\n",
    " 'part_no': dict_['part_no'],\n",
    " 'tag': dict_['tag'],\n",
    " 'url': dict_['url'],\n",
    " 'article_id': dict_['article_id'],\n",
    " 'article_no': dict_['article_no'],\n",
    " 'picture': dict_['picture'],\n",
    " 'json_src': dict_['json_src'],\n",
    " 'type_': dict_['type_'],\n",
    " 'price': dict_['price'],\n",
    " 'breadcrumbs': dict_['breadcrumbs'],\n",
    " 'title': dict_['title'],\n",
    " 'subtitle': dict_['subtitle'],\n",
    " 'json_info': dict_['json_info'],\n",
    " 'json_detail': dict_['json_detail'],\n",
    " 'oem': dict_['oem'],\n",
    " 'json_equivalent': dict_['json_equivalent'],\n",
    " 'make_no': dict_['make_no'],\n",
    " 'make_id': dict_['make_id'],\n",
    " 'make': dict_['make'],\n",
    " 'model_url': dict_['model_url'],\n",
    " 'model_no': 1,\n",
    " 'model_id': model_id,\n",
    " 'model': model,\n",
    " 'compatibility_url': f'''https://www.onlinecarparts.co.uk/ajax/product/related/vehicles?articleId={dict_['article_id']}&makerId={dict_['make_id']}&modelId={model_id}'''}"
   ]
  },
  {
   "cell_type": "code",
   "execution_count": null,
   "id": "1b879e7b-646f-41d7-9c44-05d23f23f483",
   "metadata": {},
   "outputs": [],
   "source": []
  }
 ],
 "metadata": {
  "kernelspec": {
   "display_name": "Python 3 (ipykernel)",
   "language": "python",
   "name": "python3"
  },
  "language_info": {
   "codemirror_mode": {
    "name": "ipython",
    "version": 3
   },
   "file_extension": ".py",
   "mimetype": "text/x-python",
   "name": "python",
   "nbconvert_exporter": "python",
   "pygments_lexer": "ipython3",
   "version": "3.12.7"
  }
 },
 "nbformat": 4,
 "nbformat_minor": 5
}
