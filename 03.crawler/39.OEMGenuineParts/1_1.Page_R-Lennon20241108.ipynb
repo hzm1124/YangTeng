{
 "cells": [
  {
   "cell_type": "code",
   "execution_count": 1,
   "id": "618250fb-8441-43dd-97d7-6047141c836b",
   "metadata": {},
   "outputs": [],
   "source": [
    "import pandas as pd\n",
    "\n",
    "# = = = = = = = = = = = = = = =\n",
    "\n",
    "from urllib.parse import urlparse, parse_qs, urlencode\n",
    "\n",
    "import requests\n",
    "\n",
    "import sys\n",
    "sys.path.append('../00.Tools')\n",
    "from crawler_configuration_oversea import get_header, get_proxy\n",
    "\n",
    "from bs4 import BeautifulSoup\n",
    "from lxml import etree\n",
    "\n",
    "import re\n",
    "import html as html_lib\n",
    "\n",
    "# = = = = = = = = = = = = = = =\n",
    "\n",
    "import math"
   ]
  },
  {
   "cell_type": "code",
   "execution_count": 2,
   "id": "1c28f4ff-eee5-4220-a711-cc2f93fe08f0",
   "metadata": {
    "scrolled": true
   },
   "outputs": [
    {
     "name": "stdout",
     "output_type": "stream",
     "text": [
      "总数量：2\n",
      "\n"
     ]
    },
    {
     "data": {
      "text/html": [
       "<div>\n",
       "<style scoped>\n",
       "    .dataframe tbody tr th:only-of-type {\n",
       "        vertical-align: middle;\n",
       "    }\n",
       "\n",
       "    .dataframe tbody tr th {\n",
       "        vertical-align: top;\n",
       "    }\n",
       "\n",
       "    .dataframe thead th {\n",
       "        text-align: right;\n",
       "    }\n",
       "</style>\n",
       "<table border=\"1\" class=\"dataframe\">\n",
       "  <thead>\n",
       "    <tr style=\"text-align: right;\">\n",
       "      <th></th>\n",
       "      <th>No</th>\n",
       "      <th>Url</th>\n",
       "    </tr>\n",
       "  </thead>\n",
       "  <tbody>\n",
       "    <tr>\n",
       "      <th>0</th>\n",
       "      <td>1</td>\n",
       "      <td>https://toyota.oempartsonline.com/search?searc...</td>\n",
       "    </tr>\n",
       "    <tr>\n",
       "      <th>1</th>\n",
       "      <td>2</td>\n",
       "      <td>https://nissan.oempartsonline.com/search?searc...</td>\n",
       "    </tr>\n",
       "  </tbody>\n",
       "</table>\n",
       "</div>"
      ],
      "text/plain": [
       "   No                                                Url\n",
       "0   1  https://toyota.oempartsonline.com/search?searc...\n",
       "1   2  https://nissan.oempartsonline.com/search?searc..."
      ]
     },
     "execution_count": 2,
     "metadata": {},
     "output_type": "execute_result"
    }
   ],
   "source": [
    "list_dict_correct, list_series_error, df_input = [], [], pd.read_excel('./file/input.xlsx',\n",
    "                                                                       header=0,\n",
    "                                                                       dtype=str).fillna('')\n",
    "\n",
    "df_input['No'] = df_input['No'].astype(int)\n",
    "\n",
    "count_remain = len(df_input)\n",
    "\n",
    "print(f'总数量：{count_remain}')\n",
    "print()\n",
    "df_input"
   ]
  },
  {
   "cell_type": "code",
   "execution_count": 3,
   "id": "d132d424-f5bb-4c91-8ef9-5eb2c4de2d44",
   "metadata": {},
   "outputs": [
    {
     "data": {
      "text/plain": [
       "(False,\n",
       " 0,\n",
       " No                                                     1\n",
       " Url    https://toyota.oempartsonline.com/search?searc...\n",
       " Name: 0, dtype: object)"
      ]
     },
     "execution_count": 3,
     "metadata": {},
     "output_type": "execute_result"
    }
   ],
   "source": [
    "crawler_status, (crawler_index, crawler_series) = False, next(df_input.iterrows())\n",
    "\n",
    "crawler_status, crawler_index, crawler_series"
   ]
  },
  {
   "cell_type": "code",
   "execution_count": 4,
   "id": "523cc867",
   "metadata": {
    "scrolled": true
   },
   "outputs": [
    {
     "name": "stdout",
     "output_type": "stream",
     "text": [
      "1\n"
     ]
    },
    {
     "data": {
      "text/plain": [
       "('1,183 Results for “Resonator”', 1183)"
      ]
     },
     "execution_count": 4,
     "metadata": {},
     "output_type": "execute_result"
    }
   ],
   "source": [
    "import time\n",
    "\n",
    "url_parse = urlparse(crawler_series['Url'])\n",
    "\n",
    "dict_param = parse_qs(url_parse.query)\n",
    "dict_param.pop('page', None)\n",
    "\n",
    "url_base = f'{url_parse.scheme}://{url_parse.netloc}{url_parse.path}?{urlencode(dict_param, doseq=True)}'\n",
    "\n",
    "count_retry = 0\n",
    "while True:\n",
    "    count_retry += 1\n",
    "    print(count_retry)\n",
    "    try:\n",
    "        url_request = url_base\n",
    "\n",
    "        resp = requests.get(url_request,\n",
    "                            headers=get_header(),\n",
    "                            proxies=get_proxy(),\n",
    "                            timeout=(5, 15))\n",
    "\n",
    "        if resp.status_code == 200:\n",
    "            soup = BeautifulSoup(resp.text, 'lxml')\n",
    "            html = etree.HTML(str(soup))\n",
    "\n",
    "            result = etree.tostring(html.xpath('//h1[@data-test-id=\"page-subheader__page_heading\"]')[0]).decode('utf-8')\n",
    "            result = re.sub(r'<.*?>', '', result)\n",
    "            result = re.sub(r' +', ' ', result.strip())\n",
    "            result = html_lib.unescape(result)\n",
    "\n",
    "            count = int(result.split('Results')[0].replace(',', '').replace(' ', ''))\n",
    "            if 'results for' in result.lower() and dict_param['search_str'][0].lower().strip() in result.lower() and count > 0:\n",
    "                with open('./page.html', 'w', encoding='UTF-8') as file:\n",
    "                    file.write(str(soup))\n",
    "                break\n",
    "    except KeyboardInterrupt:\n",
    "        break\n",
    "    except:\n",
    "        time.sleep(3)\n",
    "        continue\n",
    "\n",
    "result, count"
   ]
  },
  {
   "cell_type": "code",
   "execution_count": 5,
   "id": "817b672b-69a7-4d11-8c38-f40953c89e41",
   "metadata": {},
   "outputs": [
    {
     "data": {
      "text/plain": [
       "[{'No': 1,\n",
       "  'Url': 'https://toyota.oempartsonline.com/search?search_str=Resonator',\n",
       "  'SKU Count': 1183,\n",
       "  'Page': 66}]"
      ]
     },
     "execution_count": 5,
     "metadata": {},
     "output_type": "execute_result"
    }
   ],
   "source": [
    "list_dict_correct.append({'No': crawler_series['No'],\n",
    "                          'Url': url_request,\n",
    "                          'SKU Count': count,\n",
    "                          'Page': math.ceil(count / 18)})\n",
    "\n",
    "list_dict_correct"
   ]
  },
  {
   "cell_type": "code",
   "execution_count": 6,
   "id": "fc4ed7f6-ed4f-431c-b944-b1690309cdae",
   "metadata": {},
   "outputs": [
    {
     "data": {
      "text/plain": [
       "True"
      ]
     },
     "execution_count": 6,
     "metadata": {},
     "output_type": "execute_result"
    }
   ],
   "source": [
    "crawler_status = True\n",
    "\n",
    "crawler_status"
   ]
  },
  {
   "cell_type": "code",
   "execution_count": 7,
   "id": "65c745d1-446e-46c5-9dec-819c9f7944d3",
   "metadata": {},
   "outputs": [
    {
     "data": {
      "text/plain": [
       "[No                                                             1\n",
       " Url            https://toyota.oempartsonline.com/search?searc...\n",
       " Request_Url    https://toyota.oempartsonline.com/search?searc...\n",
       " Name: 0, dtype: object]"
      ]
     },
     "execution_count": 7,
     "metadata": {},
     "output_type": "execute_result"
    }
   ],
   "source": [
    "crawler_series['Request_Url'] = url_request\n",
    "\n",
    "list_series_error.append(crawler_series)\n",
    "\n",
    "list_series_error"
   ]
  },
  {
   "cell_type": "code",
   "execution_count": 8,
   "id": "b6c3eefd-9d51-4639-b913-91a415433414",
   "metadata": {},
   "outputs": [
    {
     "data": {
      "text/html": [
       "<div>\n",
       "<style scoped>\n",
       "    .dataframe tbody tr th:only-of-type {\n",
       "        vertical-align: middle;\n",
       "    }\n",
       "\n",
       "    .dataframe tbody tr th {\n",
       "        vertical-align: top;\n",
       "    }\n",
       "\n",
       "    .dataframe thead th {\n",
       "        text-align: right;\n",
       "    }\n",
       "</style>\n",
       "<table border=\"1\" class=\"dataframe\">\n",
       "  <thead>\n",
       "    <tr style=\"text-align: right;\">\n",
       "      <th></th>\n",
       "      <th>No</th>\n",
       "      <th>Url</th>\n",
       "      <th>SKU Count</th>\n",
       "      <th>Page</th>\n",
       "    </tr>\n",
       "  </thead>\n",
       "  <tbody>\n",
       "    <tr>\n",
       "      <th>0</th>\n",
       "      <td>1</td>\n",
       "      <td>https://toyota.oempartsonline.com/search?searc...</td>\n",
       "      <td>1183</td>\n",
       "      <td>66</td>\n",
       "    </tr>\n",
       "  </tbody>\n",
       "</table>\n",
       "</div>"
      ],
      "text/plain": [
       "   No                                                Url  SKU Count  Page\n",
       "0   1  https://toyota.oempartsonline.com/search?searc...       1183    66"
      ]
     },
     "execution_count": 8,
     "metadata": {},
     "output_type": "execute_result"
    }
   ],
   "source": [
    "if list_dict_correct:\n",
    "    df_correct = pd.DataFrame(list_dict_correct).sort_values(by=['No'],\n",
    "                                                             ascending=[True],\n",
    "                                                             ignore_index=True)\n",
    "    df_correct.to_excel('./test_page.xlsx', index=False)\n",
    "\n",
    "df_correct"
   ]
  },
  {
   "cell_type": "code",
   "execution_count": 9,
   "id": "39a5441b-7f69-4812-aad8-7e10a1a24e78",
   "metadata": {},
   "outputs": [
    {
     "data": {
      "text/html": [
       "<div>\n",
       "<style scoped>\n",
       "    .dataframe tbody tr th:only-of-type {\n",
       "        vertical-align: middle;\n",
       "    }\n",
       "\n",
       "    .dataframe tbody tr th {\n",
       "        vertical-align: top;\n",
       "    }\n",
       "\n",
       "    .dataframe thead th {\n",
       "        text-align: right;\n",
       "    }\n",
       "</style>\n",
       "<table border=\"1\" class=\"dataframe\">\n",
       "  <thead>\n",
       "    <tr style=\"text-align: right;\">\n",
       "      <th></th>\n",
       "      <th>No</th>\n",
       "      <th>Url</th>\n",
       "      <th>Request_Url</th>\n",
       "    </tr>\n",
       "  </thead>\n",
       "  <tbody>\n",
       "    <tr>\n",
       "      <th>0</th>\n",
       "      <td>1</td>\n",
       "      <td>https://toyota.oempartsonline.com/search?searc...</td>\n",
       "      <td>https://toyota.oempartsonline.com/search?searc...</td>\n",
       "    </tr>\n",
       "  </tbody>\n",
       "</table>\n",
       "</div>"
      ],
      "text/plain": [
       "   No                                                Url  \\\n",
       "0   1  https://toyota.oempartsonline.com/search?searc...   \n",
       "\n",
       "                                         Request_Url  \n",
       "0  https://toyota.oempartsonline.com/search?searc...  "
      ]
     },
     "execution_count": 9,
     "metadata": {},
     "output_type": "execute_result"
    }
   ],
   "source": [
    "if list_series_error:\n",
    "    df_error = pd.DataFrame(list_series_error).sort_values(by=['No'],\n",
    "                                                           ascending=[True],\n",
    "                                                           ignore_index=True)\n",
    "    df_error.to_excel('./test_page_error.xlsx', index=False)\n",
    "\n",
    "df_error"
   ]
  },
  {
   "cell_type": "code",
   "execution_count": null,
   "id": "a31a202d-21e6-4a6a-8107-95dbbd0cf29b",
   "metadata": {},
   "outputs": [],
   "source": []
  }
 ],
 "metadata": {
  "kernelspec": {
   "display_name": "Python 3 (ipykernel)",
   "language": "python",
   "name": "python3"
  },
  "language_info": {
   "codemirror_mode": {
    "name": "ipython",
    "version": 3
   },
   "file_extension": ".py",
   "mimetype": "text/x-python",
   "name": "python",
   "nbconvert_exporter": "python",
   "pygments_lexer": "ipython3",
   "version": "3.12.7"
  }
 },
 "nbformat": 4,
 "nbformat_minor": 5
}
