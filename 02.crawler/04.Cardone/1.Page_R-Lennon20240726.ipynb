{
 "cells": [
  {
   "cell_type": "code",
   "execution_count": 1,
   "id": "a06a178d-3f62-4b5e-b3c2-fb2881157f03",
   "metadata": {},
   "outputs": [],
   "source": [
    "param_url = 'https://www.cardone.com/motors/wiper-and-washer/windshield-wiper-motor/?sort=alphaasc&limit=96&page=1'\n",
    "param_count = 1401"
   ]
  },
  {
   "cell_type": "code",
   "execution_count": 2,
   "id": "24ea34e9-011f-4359-9335-43b048976032",
   "metadata": {},
   "outputs": [
    {
     "data": {
      "text/plain": [
       "{'limit': '96', 'sort': 'alphaasc', 'page': '1'}"
      ]
     },
     "execution_count": 2,
     "metadata": {},
     "output_type": "execute_result"
    }
   ],
   "source": [
    "dict_param = {}\n",
    "list_param = param_url.split('?')[1].split('&') if '?' in param_url else []\n",
    "for param in list_param:\n",
    "    dict_param[param.split('=')[0]] = param.split('=')[1]\n",
    "\n",
    "dict_param"
   ]
  },
  {
   "cell_type": "code",
   "execution_count": 3,
   "id": "ee8deb0c-3440-4047-b3c4-d9cd3e34596f",
   "metadata": {},
   "outputs": [
    {
     "data": {
      "text/plain": [
       "{}"
      ]
     },
     "execution_count": 3,
     "metadata": {},
     "output_type": "execute_result"
    }
   ],
   "source": [
    "dict_param.pop('sort', '')\n",
    "dict_param.pop('limit', '')\n",
    "dict_param.pop('page', '')\n",
    "\n",
    "dict_param"
   ]
  },
  {
   "cell_type": "code",
   "execution_count": 4,
   "id": "b0620e76-b73e-4a48-b023-de23c0bcca99",
   "metadata": {},
   "outputs": [
    {
     "data": {
      "text/plain": [
       "'https://www.cardone.com/motors/wiper-and-washer/windshield-wiper-motor/?'"
      ]
     },
     "execution_count": 4,
     "metadata": {},
     "output_type": "execute_result"
    }
   ],
   "source": [
    "param_url = param_url.split('?')[0] + '?'\n",
    "for key, valuanye in dict_param.items():\n",
    "    param_url += f'{key}={value}&'\n",
    "\n",
    "param_url"
   ]
  },
  {
   "cell_type": "code",
   "execution_count": 5,
   "id": "fc9525de-1fb0-4416-acd3-160844fbe2fe",
   "metadata": {},
   "outputs": [
    {
     "data": {
      "text/plain": [
       "15"
      ]
     },
     "execution_count": 5,
     "metadata": {},
     "output_type": "execute_result"
    }
   ],
   "source": [
    "import math\n",
    "\n",
    "page = math.ceil(param_count / 96)\n",
    "\n",
    "page"
   ]
  },
  {
   "cell_type": "code",
   "execution_count": 6,
   "id": "fe4f86a1-c0e4-49ad-8225-c4f3918fa2d4",
   "metadata": {},
   "outputs": [
    {
     "data": {
      "text/html": [
       "<div>\n",
       "<style scoped>\n",
       "    .dataframe tbody tr th:only-of-type {\n",
       "        vertical-align: middle;\n",
       "    }\n",
       "\n",
       "    .dataframe tbody tr th {\n",
       "        vertical-align: top;\n",
       "    }\n",
       "\n",
       "    .dataframe thead th {\n",
       "        text-align: right;\n",
       "    }\n",
       "</style>\n",
       "<table border=\"1\" class=\"dataframe\">\n",
       "  <thead>\n",
       "    <tr style=\"text-align: right;\">\n",
       "      <th></th>\n",
       "      <th>Page</th>\n",
       "      <th>Page Url</th>\n",
       "    </tr>\n",
       "  </thead>\n",
       "  <tbody>\n",
       "    <tr>\n",
       "      <th>0</th>\n",
       "      <td>1</td>\n",
       "      <td>https://www.cardone.com/motors/wiper-and-washe...</td>\n",
       "    </tr>\n",
       "    <tr>\n",
       "      <th>1</th>\n",
       "      <td>2</td>\n",
       "      <td>https://www.cardone.com/motors/wiper-and-washe...</td>\n",
       "    </tr>\n",
       "    <tr>\n",
       "      <th>2</th>\n",
       "      <td>3</td>\n",
       "      <td>https://www.cardone.com/motors/wiper-and-washe...</td>\n",
       "    </tr>\n",
       "    <tr>\n",
       "      <th>3</th>\n",
       "      <td>4</td>\n",
       "      <td>https://www.cardone.com/motors/wiper-and-washe...</td>\n",
       "    </tr>\n",
       "    <tr>\n",
       "      <th>4</th>\n",
       "      <td>5</td>\n",
       "      <td>https://www.cardone.com/motors/wiper-and-washe...</td>\n",
       "    </tr>\n",
       "    <tr>\n",
       "      <th>5</th>\n",
       "      <td>6</td>\n",
       "      <td>https://www.cardone.com/motors/wiper-and-washe...</td>\n",
       "    </tr>\n",
       "    <tr>\n",
       "      <th>6</th>\n",
       "      <td>7</td>\n",
       "      <td>https://www.cardone.com/motors/wiper-and-washe...</td>\n",
       "    </tr>\n",
       "    <tr>\n",
       "      <th>7</th>\n",
       "      <td>8</td>\n",
       "      <td>https://www.cardone.com/motors/wiper-and-washe...</td>\n",
       "    </tr>\n",
       "    <tr>\n",
       "      <th>8</th>\n",
       "      <td>9</td>\n",
       "      <td>https://www.cardone.com/motors/wiper-and-washe...</td>\n",
       "    </tr>\n",
       "    <tr>\n",
       "      <th>9</th>\n",
       "      <td>10</td>\n",
       "      <td>https://www.cardone.com/motors/wiper-and-washe...</td>\n",
       "    </tr>\n",
       "    <tr>\n",
       "      <th>10</th>\n",
       "      <td>11</td>\n",
       "      <td>https://www.cardone.com/motors/wiper-and-washe...</td>\n",
       "    </tr>\n",
       "    <tr>\n",
       "      <th>11</th>\n",
       "      <td>12</td>\n",
       "      <td>https://www.cardone.com/motors/wiper-and-washe...</td>\n",
       "    </tr>\n",
       "    <tr>\n",
       "      <th>12</th>\n",
       "      <td>13</td>\n",
       "      <td>https://www.cardone.com/motors/wiper-and-washe...</td>\n",
       "    </tr>\n",
       "    <tr>\n",
       "      <th>13</th>\n",
       "      <td>14</td>\n",
       "      <td>https://www.cardone.com/motors/wiper-and-washe...</td>\n",
       "    </tr>\n",
       "    <tr>\n",
       "      <th>14</th>\n",
       "      <td>15</td>\n",
       "      <td>https://www.cardone.com/motors/wiper-and-washe...</td>\n",
       "    </tr>\n",
       "  </tbody>\n",
       "</table>\n",
       "</div>"
      ],
      "text/plain": [
       "    Page                                           Page Url\n",
       "0      1  https://www.cardone.com/motors/wiper-and-washe...\n",
       "1      2  https://www.cardone.com/motors/wiper-and-washe...\n",
       "2      3  https://www.cardone.com/motors/wiper-and-washe...\n",
       "3      4  https://www.cardone.com/motors/wiper-and-washe...\n",
       "4      5  https://www.cardone.com/motors/wiper-and-washe...\n",
       "5      6  https://www.cardone.com/motors/wiper-and-washe...\n",
       "6      7  https://www.cardone.com/motors/wiper-and-washe...\n",
       "7      8  https://www.cardone.com/motors/wiper-and-washe...\n",
       "8      9  https://www.cardone.com/motors/wiper-and-washe...\n",
       "9     10  https://www.cardone.com/motors/wiper-and-washe...\n",
       "10    11  https://www.cardone.com/motors/wiper-and-washe...\n",
       "11    12  https://www.cardone.com/motors/wiper-and-washe...\n",
       "12    13  https://www.cardone.com/motors/wiper-and-washe...\n",
       "13    14  https://www.cardone.com/motors/wiper-and-washe...\n",
       "14    15  https://www.cardone.com/motors/wiper-and-washe..."
      ]
     },
     "execution_count": 6,
     "metadata": {},
     "output_type": "execute_result"
    }
   ],
   "source": [
    "import pandas as pd\n",
    "import math\n",
    "\n",
    "output = pd.DataFrame({'Page': [_+1 for _ in range(page)],\n",
    "                       'Page Url': [f'{param_url}sort=alphaasc&limit=96&page={_+1}' for _ in range(page)]})\n",
    "\n",
    "output.to_excel('./1.page.xlsx', index=False)\n",
    "\n",
    "output"
   ]
  },
  {
   "cell_type": "code",
   "execution_count": null,
   "id": "6e14442a-8451-4bd5-8631-e0ff9eba4e07",
   "metadata": {},
   "outputs": [],
   "source": []
  }
 ],
 "metadata": {
  "kernelspec": {
   "display_name": "Python 3 (ipykernel)",
   "language": "python",
   "name": "python3"
  },
  "language_info": {
   "codemirror_mode": {
    "name": "ipython",
    "version": 3
   },
   "file_extension": ".py",
   "mimetype": "text/x-python",
   "name": "python",
   "nbconvert_exporter": "python",
   "pygments_lexer": "ipython3",
   "version": "3.11.3"
  }
 },
 "nbformat": 4,
 "nbformat_minor": 5
}
