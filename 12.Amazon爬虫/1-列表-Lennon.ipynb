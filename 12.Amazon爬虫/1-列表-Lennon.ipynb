{
 "cells": [
  {
   "cell_type": "markdown",
   "id": "4dd12824",
   "metadata": {},
   "source": [
    "- Update: 2023.04.11\n",
    "\n",
    "# 0. 配置参数\n",
    "\n",
    "- `url`：Aamazon.COM"
   ]
  },
  {
   "cell_type": "code",
   "execution_count": null,
   "id": "72ae6fc3",
   "metadata": {},
   "outputs": [],
   "source": [
    "url = 'https://www.amazon.com/s?k=Towing+Mirrors&me=A1FGGAX0MPAJE0&ref=nb_sb_noss'\n",
    "\n",
    "chromedriver = '../../chromedriver.exe'"
   ]
  },
  {
   "cell_type": "code",
   "execution_count": null,
   "id": "19ce8e24",
   "metadata": {},
   "outputs": [],
   "source": [
    "from selenium.webdriver import ChromeOptions, Chrome\n",
    "from selenium.webdriver.chrome.service import Service\n",
    "import time"
   ]
  },
  {
   "cell_type": "code",
   "execution_count": null,
   "id": "134c50cc",
   "metadata": {},
   "outputs": [],
   "source": [
    "chrome_options = ChromeOptions()\n",
    "chrome_options.add_experimental_option('excludeSwitches', ['enable-automation']) # Chrome正受到自动测试软件的控制\n",
    "chrome_options.add_argument('--disable-blink-features=AutomationControlled') # window.navigator.webdriver=false\n",
    "# chrome_options.add_argument('--headless')\n",
    "chrome_options.add_argument('--no-sandbox')\n",
    "chrome_options.add_argument('--disable-gpu')\n",
    "chrome_options.add_argument('--disable-dev-shm-usage')\n",
    "chrome_options.add_argument('user-agent=Mozilla/5.0 (Windows NT 10.0; Win64; x64) AppleWebKit/537.36 (KHTML, like Gecko) Chrome/111.0.0.0 Safari/537.36')\n",
    "# chrome_options.add_argument('--proxy-server=http://j933.kdltps.com:15818')\n",
    "# chrome_options.add_argument('blink-settings=imagesEnabled=false')\n",
    "# chrome_options.page_load_strategy = 'eager'\n",
    "\n",
    "driver = Chrome(service=Service(chromedriver), options=chrome_options)\n",
    "driver.maximize_window()\n",
    "driver.get(url)\n",
    "time.sleep(0.3)"
   ]
  },
  {
   "cell_type": "code",
   "execution_count": null,
   "id": "48c75870",
   "metadata": {},
   "outputs": [],
   "source": [
    "# 91710"
   ]
  },
  {
   "cell_type": "code",
   "execution_count": null,
   "id": "993fa2e0",
   "metadata": {},
   "outputs": [],
   "source": [
    "from selenium.webdriver.common.by import By\n",
    "import pandas as pd"
   ]
  },
  {
   "cell_type": "code",
   "execution_count": null,
   "id": "648a5005",
   "metadata": {},
   "outputs": [],
   "source": [
    "for i in range(44):\n",
    "    print(i)\n",
    "    try:\n",
    "        list_item = driver.find_elements(By.XPATH, '//*[@class=\"sg-col-20-of-24 s-result-item s-asin sg-col-0-of-12 sg-col-16-of-20 sg-col s-widget-spacing-small sg-col-12-of-16\"]')\n",
    "        list_title = []\n",
    "        list_star = []\n",
    "        list_amount = []\n",
    "        for item in list_item:\n",
    "            list_title.append(item.find_element(By.CLASS_NAME, 'a-size-medium.a-color-base.a-text-normal').text)\n",
    "            comment = item.find_element(By.CLASS_NAME, 'a-section.a-spacing-none.a-spacing-top-micro').text\n",
    "            if comment.startswith('$'):\n",
    "                list_star.append('')\n",
    "                list_amount.append('')\n",
    "            else:\n",
    "                list_star.append(comment.split('\\n')[0])\n",
    "                list_amount.append(comment.split('\\n')[1].replace('(', '').replace(')', ''))\n",
    "\n",
    "        pd.DataFrame({'标题': list_title,\n",
    "                      '评分': list_star,\n",
    "                      '评论数量': list_amount}).to_excel('./crawler-' + str(i+1) + '.xlsx', index=False)\n",
    "\n",
    "        driver.find_element(By.XPATH, '//*[@class=\"s-pagination-item s-pagination-next s-pagination-button s-pagination-separator\"]').click()\n",
    "        time.sleep(3)\n",
    "    except:\n",
    "        continue"
   ]
  },
  {
   "cell_type": "code",
   "execution_count": null,
   "id": "52f49bea",
   "metadata": {},
   "outputs": [],
   "source": [
    "driver.close()"
   ]
  },
  {
   "cell_type": "code",
   "execution_count": null,
   "id": "8b398ffd",
   "metadata": {},
   "outputs": [],
   "source": []
  }
 ],
 "metadata": {
  "kernelspec": {
   "display_name": "Python 3 (ipykernel)",
   "language": "python",
   "name": "python3"
  },
  "language_info": {
   "codemirror_mode": {
    "name": "ipython",
    "version": 3
   },
   "file_extension": ".py",
   "mimetype": "text/x-python",
   "name": "python",
   "nbconvert_exporter": "python",
   "pygments_lexer": "ipython3",
   "version": "3.9.12"
  }
 },
 "nbformat": 4,
 "nbformat_minor": 5
}
