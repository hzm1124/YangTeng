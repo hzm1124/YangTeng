{
 "cells": [
  {
   "cell_type": "code",
   "execution_count": 1,
   "id": "84b2ba97",
   "metadata": {},
   "outputs": [],
   "source": [
    "from openpyxl import load_workbook"
   ]
  },
  {
   "cell_type": "code",
   "execution_count": 2,
   "id": "792c92ea",
   "metadata": {},
   "outputs": [
    {
     "name": "stdout",
     "output_type": "stream",
     "text": [
      "Src索引：15\n",
      "Pic索引：13\n",
      "\n"
     ]
    }
   ],
   "source": [
    "wb = load_workbook('./crawler.xlsx')\n",
    "ws = wb.active\n",
    "\n",
    "for column in range(1, ws.max_column+1):\n",
    "    if ws.cell(1, column).value == 'Src':\n",
    "        src_index = column\n",
    "    elif ws.cell(1, column).value == 'Pic':\n",
    "        pic_index = column\n",
    "        \n",
    "print('Src索引：' + str(src_index))\n",
    "print('Pic索引：' + str(pic_index))\n",
    "print()"
   ]
  },
  {
   "cell_type": "code",
   "execution_count": 3,
   "id": "8257da9d",
   "metadata": {},
   "outputs": [
    {
     "data": {
      "text/plain": [
       "'https://m.media-amazon.com/images/I/61eoPK6soZL._AC_SY355_PIbundle-2,TopRight,0,0_SH20_.jpg'"
      ]
     },
     "execution_count": 3,
     "metadata": {},
     "output_type": "execute_result"
    }
   ],
   "source": [
    "row = 2\n",
    "\n",
    "src = ws.cell(row, src_index).value\n",
    "\n",
    "src"
   ]
  },
  {
   "cell_type": "code",
   "execution_count": 4,
   "id": "a29c974c",
   "metadata": {},
   "outputs": [],
   "source": [
    "import requests\n",
    "from io import BytesIO\n",
    "import PIL\n",
    "from openpyxl.drawing import image"
   ]
  },
  {
   "cell_type": "code",
   "execution_count": 5,
   "id": "d644191b",
   "metadata": {},
   "outputs": [
    {
     "data": {
      "text/plain": [
       "<openpyxl.drawing.image.Image at 0x24f25159050>"
      ]
     },
     "execution_count": 5,
     "metadata": {},
     "output_type": "execute_result"
    }
   ],
   "source": [
    "pic = PIL.Image.open(BytesIO(requests.get(src).content)).convert('RGB')\n",
    "pic.save('./pic/' + str(row) + '.png', 'png')\n",
    "pic = image.Image('./pic/' + str(row) + '.png')\n",
    "\n",
    "pic"
   ]
  },
  {
   "cell_type": "code",
   "execution_count": 6,
   "id": "6d625bf6",
   "metadata": {},
   "outputs": [
    {
     "name": "stdout",
     "output_type": "stream",
     "text": [
      "Pic宽度：50.0\n",
      "Pic高度：46.957671957671955\n"
     ]
    }
   ],
   "source": [
    "if pic.width >= pic.height:\n",
    "    pic.height = 50.0 / pic.width * pic.height\n",
    "    pic.width = 50.0\n",
    "else:\n",
    "    pic.width = 50.0 / pic.height * pic.width\n",
    "    pic.height = 50.0\n",
    "    \n",
    "print('Pic宽度：' + str(pic.width))\n",
    "print('Pic高度：' + str(pic.height))"
   ]
  },
  {
   "cell_type": "code",
   "execution_count": 7,
   "id": "b050fecb",
   "metadata": {},
   "outputs": [],
   "source": [
    "from openpyxl.utils import get_column_letter"
   ]
  },
  {
   "cell_type": "code",
   "execution_count": 8,
   "id": "d1e431bc",
   "metadata": {},
   "outputs": [],
   "source": [
    "ws.add_image(pic, get_column_letter(pic_index) + str(row))\n",
    "\n",
    "wb.save('./crawler-pic.xlsx')"
   ]
  },
  {
   "cell_type": "code",
   "execution_count": null,
   "id": "62ae0ab9",
   "metadata": {},
   "outputs": [],
   "source": []
  }
 ],
 "metadata": {
  "kernelspec": {
   "display_name": "Python 3 (ipykernel)",
   "language": "python",
   "name": "python3"
  },
  "language_info": {
   "codemirror_mode": {
    "name": "ipython",
    "version": 3
   },
   "file_extension": ".py",
   "mimetype": "text/x-python",
   "name": "python",
   "nbconvert_exporter": "python",
   "pygments_lexer": "ipython3",
   "version": "3.11.5"
  }
 },
 "nbformat": 4,
 "nbformat_minor": 5
}
