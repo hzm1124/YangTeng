{
 "cells": [
  {
   "cell_type": "code",
   "execution_count": 1,
   "id": "b556471b-fda0-475d-8737-8d113081c46a",
   "metadata": {
    "scrolled": true
   },
   "outputs": [
    {
     "data": {
      "text/plain": [
       "['type_10.Brake Caliper-serial_1-vehicle_error.xlsx']"
      ]
     },
     "execution_count": 1,
     "metadata": {},
     "output_type": "execute_result"
    }
   ],
   "source": [
    "import os\n",
    "\n",
    "list_file = sorted(list(os.walk('./7.OEM_2'))[0][2])\n",
    "while '.DS_Store' in list_file:\n",
    "    list_file.remove('.DS_Store')\n",
    "while '0.null.txt' in list_file:\n",
    "    list_file.remove('0.null.txt')\n",
    "\n",
    "list_file"
   ]
  },
  {
   "cell_type": "code",
   "execution_count": 2,
   "id": "28ccdc11-a620-4d21-86b4-4b7287d9b46c",
   "metadata": {},
   "outputs": [
    {
     "data": {
      "text/plain": [
       "'type_10.Brake Caliper-serial_1-vehicle_error.xlsx'"
      ]
     },
     "execution_count": 2,
     "metadata": {},
     "output_type": "execute_result"
    }
   ],
   "source": [
    "file = list_file[0]\n",
    "\n",
    "file"
   ]
  },
  {
   "cell_type": "code",
   "execution_count": 3,
   "id": "783f89be-0cdc-4912-942e-895cc5f09840",
   "metadata": {},
   "outputs": [],
   "source": [
    "import pandas as pd\n",
    "\n",
    "output_correct, output_error = pd.DataFrame(), pd.DataFrame()"
   ]
  },
  {
   "cell_type": "code",
   "execution_count": 4,
   "id": "1c28f4ff-eee5-4220-a711-cc2f93fe08f0",
   "metadata": {
    "scrolled": true
   },
   "outputs": [
    {
     "name": "stdout",
     "output_type": "stream",
     "text": [
      "总数量：8\n"
     ]
    },
    {
     "data": {
      "text/plain": [
       "['18-4114',\n",
       " '18-4115',\n",
       " '18-4227',\n",
       " '18-4228',\n",
       " '18-4319',\n",
       " '18-4320',\n",
       " '18-4323',\n",
       " '18-4324']"
      ]
     },
     "execution_count": 4,
     "metadata": {},
     "output_type": "execute_result"
    }
   ],
   "source": [
    "input_ = pd.read_excel(f'./7.OEM_2/{file}',\n",
    "                       header=0,\n",
    "                       dtype=str).fillna('')\n",
    "\n",
    "input_['No'] = input_['No'].astype(int)\n",
    "\n",
    "print(f'总数量：{len(input_)}')\n",
    "input_['Part Number'].tolist()"
   ]
  },
  {
   "cell_type": "code",
   "execution_count": 5,
   "id": "5878a9f0-d639-4123-b6e0-bc564f72c2d6",
   "metadata": {},
   "outputs": [
    {
     "data": {
      "text/plain": [
       "0"
      ]
     },
     "execution_count": 5,
     "metadata": {},
     "output_type": "execute_result"
    }
   ],
   "source": [
    "a = 0\n",
    "\n",
    "a"
   ]
  },
  {
   "cell_type": "code",
   "execution_count": 6,
   "id": "9f61dd65-55da-4d0b-ba30-d0534eff0781",
   "metadata": {},
   "outputs": [
    {
     "data": {
      "text/plain": [
       "'error'"
      ]
     },
     "execution_count": 6,
     "metadata": {},
     "output_type": "execute_result"
    }
   ],
   "source": [
    "crawler_status = 'error'\n",
    "\n",
    "crawler_status"
   ]
  },
  {
   "cell_type": "code",
   "execution_count": 7,
   "id": "bc772159-21ed-43fb-a2c3-c50eba48d20a",
   "metadata": {
    "scrolled": true
   },
   "outputs": [
    {
     "name": "stdout",
     "output_type": "stream",
     "text": [
      "1\n"
     ]
    },
    {
     "data": {
      "text/plain": [
       "<Response [200]>"
      ]
     },
     "execution_count": 7,
     "metadata": {},
     "output_type": "execute_result"
    }
   ],
   "source": [
    "import requests\n",
    "\n",
    "import sys\n",
    "sys.path.append('../00.Tools')\n",
    "from crawler_configuration import get_header, get_proxy\n",
    "\n",
    "b = 0\n",
    "while True:\n",
    "    b += 1\n",
    "    print(b)\n",
    "    try:\n",
    "        resp = requests.get(f'''https://productdesk-api.cellacore.net/legacy/cardone/Vehicle/Recommendation/?q=(productSKU.keyword:{input_.loc[a, 'Part Number']})&size=5000&useCache=true&auth={input_.loc[a, 'Auth']}''',\n",
    "                            headers=get_header(),\n",
    "                            proxies=get_proxy(),\n",
    "                            timeout=(10, 10))\n",
    "\n",
    "        if resp.status_code == 200:\n",
    "            break\n",
    "    except:\n",
    "        continue\n",
    "\n",
    "resp"
   ]
  },
  {
   "cell_type": "code",
   "execution_count": 8,
   "id": "de28fbfa-b458-490b-99a8-473584ee1b6a",
   "metadata": {
    "scrolled": true
   },
   "outputs": [
    {
     "data": {
      "text/plain": [
       "[]"
      ]
     },
     "execution_count": 8,
     "metadata": {},
     "output_type": "execute_result"
    }
   ],
   "source": [
    "list_json = resp.json()\n",
    "\n",
    "list_json"
   ]
  },
  {
   "cell_type": "code",
   "execution_count": 9,
   "id": "b283c3eb-95e8-4ccb-afcc-9376aa60cc55",
   "metadata": {
    "scrolled": true
   },
   "outputs": [
    {
     "data": {
      "text/plain": [
       "[]"
      ]
     },
     "execution_count": 9,
     "metadata": {},
     "output_type": "execute_result"
    }
   ],
   "source": [
    "list_make = [json_['fitment']['Vcdb']['MakeName'].strip() for json_ in list_json]\n",
    "\n",
    "list_make"
   ]
  },
  {
   "cell_type": "code",
   "execution_count": 10,
   "id": "38f20cab-2770-4241-8502-8ccd19b9155e",
   "metadata": {
    "scrolled": true
   },
   "outputs": [
    {
     "data": {
      "text/plain": [
       "[]"
      ]
     },
     "execution_count": 10,
     "metadata": {},
     "output_type": "execute_result"
    }
   ],
   "source": [
    "list_model = [json_['fitment']['Vcdb']['ModelName'].strip() for json_ in list_json]\n",
    "\n",
    "list_model"
   ]
  },
  {
   "cell_type": "code",
   "execution_count": 11,
   "id": "791bca94-afa6-43f5-bcb2-bb817236e99a",
   "metadata": {
    "scrolled": true
   },
   "outputs": [
    {
     "data": {
      "text/plain": [
       "[]"
      ]
     },
     "execution_count": 11,
     "metadata": {},
     "output_type": "execute_result"
    }
   ],
   "source": [
    "list_region = [json_['fitment']['Vcdb']['RegionName'].strip() for json_ in list_json]\n",
    "\n",
    "list_region"
   ]
  },
  {
   "cell_type": "code",
   "execution_count": 12,
   "id": "0731930e-5fdb-4609-a56b-d2108600b995",
   "metadata": {
    "scrolled": true
   },
   "outputs": [
    {
     "data": {
      "text/plain": [
       "[]"
      ]
     },
     "execution_count": 12,
     "metadata": {},
     "output_type": "execute_result"
    }
   ],
   "source": [
    "list_submodel = [json_['fitment']['Vcdb']['SubModelName'].strip() for json_ in list_json]\n",
    "\n",
    "list_submodel"
   ]
  },
  {
   "cell_type": "code",
   "execution_count": 13,
   "id": "e1a36e6f-4a12-44f0-86b6-c6c3012bfc20",
   "metadata": {
    "scrolled": true
   },
   "outputs": [
    {
     "data": {
      "text/plain": [
       "[]"
      ]
     },
     "execution_count": 13,
     "metadata": {},
     "output_type": "execute_result"
    }
   ],
   "source": [
    "list_vehicle_type = [json_['fitment']['Vcdb']['VehicleTypeName'].strip() for json_ in list_json]\n",
    "\n",
    "list_vehicle_type"
   ]
  },
  {
   "cell_type": "code",
   "execution_count": 14,
   "id": "7ba47ec7-f4fe-4f5a-be83-cb844a24ab5b",
   "metadata": {
    "scrolled": true
   },
   "outputs": [
    {
     "data": {
      "text/plain": [
       "[]"
      ]
     },
     "execution_count": 14,
     "metadata": {},
     "output_type": "execute_result"
    }
   ],
   "source": [
    "list_year = [int(json_['fitment']['Vcdb']['Year'].strip()) for json_ in list_json]\n",
    "\n",
    "list_year"
   ]
  },
  {
   "cell_type": "code",
   "execution_count": 15,
   "id": "b2a09a03-a687-4b08-8978-f61f0f4852bb",
   "metadata": {
    "scrolled": true
   },
   "outputs": [
    {
     "data": {
      "text/plain": [
       "([], [], [], [], [])"
      ]
     },
     "execution_count": 15,
     "metadata": {},
     "output_type": "execute_result"
    }
   ],
   "source": [
    "list_list_aspiration, list_list_cylinder, list_list_displacement, list_list_fuel, list_list_liter = [], [], [], [], []\n",
    "list_list_engine = [json_['fitment']['Vcdb']['Engines'] for json_ in list_json]\n",
    "for list_engine in list_list_engine:\n",
    "    if list_engine:\n",
    "        list_aspiration, list_cylinder, list_displacement, list_fuel, list_liter = [], [], [], [], []\n",
    "        for engine in list_engine:\n",
    "            list_aspiration.append(engine['AspirationName'].strip() if 'AspirationName' in engine and engine['AspirationName'].strip() != '-' else '')\n",
    "\n",
    "            # = = = = = = = = = = = = = = =\n",
    "            \n",
    "            cylinder = ''\n",
    "            if 'BlockType' in engine and engine['BlockType'].strip() != '-':\n",
    "                cylinder += engine['BlockType'].strip()\n",
    "            if 'Cylinders' in engine and engine['Cylinders'] != 0:\n",
    "                cylinder += str(engine['Cylinders'])\n",
    "            list_cylinder.append(cylinder)\n",
    "            \n",
    "            # = = = = = = = = = = = = = = =\n",
    "\n",
    "            displacement = ''\n",
    "            if engine['CID'].strip() != '-':\n",
    "                displacement += f'''{engine['CID'].strip()}cid'''\n",
    "            elif engine['CC'].strip() != '-':\n",
    "                displacement += f'''/{engine['CC'].strip()}cc'''\n",
    "            list_displacement.append(displacement.removeprefix('/'))\n",
    "            \n",
    "            # = = = = = = = = = = = = = = =\n",
    "\n",
    "            list_fuel.append(engine['FuelTypeName'].strip() if 'FuelTypeName' in engine else '')\n",
    "\n",
    "            # = = = = = = = = = = = = = = =\n",
    "\n",
    "            list_liter.append(f'''{engine['Liter']}L''' if 'Liter' in engine and engine['Liter'] != 0 else '')\n",
    "    else:\n",
    "        list_aspiration, list_cylinder, list_displacement, list_fuel, list_liter = [''], [''], [''], [''], ['']\n",
    "\n",
    "    list_list_aspiration.append(list_aspiration)\n",
    "    list_list_cylinder.append(list_cylinder)\n",
    "    list_list_displacement.append(list_displacement)\n",
    "    list_list_fuel.append(list_fuel)\n",
    "    list_list_liter.append(list_liter)\n",
    "\n",
    "list_list_aspiration, list_list_cylinder, list_list_displacement, list_list_fuel, list_list_liter"
   ]
  },
  {
   "cell_type": "code",
   "execution_count": 16,
   "id": "c1ff5a31-5e85-408d-981e-c329c1cd80a2",
   "metadata": {
    "scrolled": true
   },
   "outputs": [
    {
     "data": {
      "text/plain": [
       "[]"
      ]
     },
     "execution_count": 16,
     "metadata": {},
     "output_type": "execute_result"
    }
   ],
   "source": [
    "list_list_drive_type = []\n",
    "list_list_drive_type_2 = [json_['fitment']['Vcdb']['DriveTypes'] for json_ in list_json]\n",
    "for list_drive_type_2 in list_list_drive_type_2:\n",
    "    if list_drive_type_2:\n",
    "        list_drive_type = []\n",
    "        for drive_type_2 in list_drive_type_2:\n",
    "            list_drive_type.append(drive_type_2['DriveTypeName'].strip())\n",
    "    else:\n",
    "        list_drive_type = ['']\n",
    "\n",
    "    list_list_drive_type.append(list_drive_type)\n",
    "\n",
    "list_list_drive_type"
   ]
  },
  {
   "cell_type": "code",
   "execution_count": 17,
   "id": "7d289807-8f04-430d-a34a-1c7fb2c0247a",
   "metadata": {
    "scrolled": true
   },
   "outputs": [
    {
     "data": {
      "text/plain": [
       "[]"
      ]
     },
     "execution_count": 17,
     "metadata": {},
     "output_type": "execute_result"
    }
   ],
   "source": [
    "list_position = [json_['fitment']['acesCriteria']['PositionName'].strip() if 'PositionName' in json_['fitment']['acesCriteria'] else '' for json_ in list_json]\n",
    "\n",
    "list_position"
   ]
  },
  {
   "cell_type": "code",
   "execution_count": 18,
   "id": "b37d6f00-e9c3-4fad-9f76-a08149fb306f",
   "metadata": {
    "scrolled": true
   },
   "outputs": [
    {
     "ename": "KeyError",
     "evalue": "'Region'",
     "output_type": "error",
     "traceback": [
      "\u001b[0;31m---------------------------------------------------------------------------\u001b[0m",
      "\u001b[0;31mKeyError\u001b[0m                                  Traceback (most recent call last)",
      "\u001b[0;32m/var/folders/20/g09tvx4s7mdd977ps185l3_r0000gn/T/ipykernel_13249/1501481936.py\u001b[0m in \u001b[0;36m?\u001b[0;34m()\u001b[0m\n\u001b[1;32m     20\u001b[0m         \u001b[0mdf_temp_temp_temp\u001b[0m\u001b[0;34m[\u001b[0m\u001b[0;34m'Position'\u001b[0m\u001b[0;34m]\u001b[0m \u001b[0;34m=\u001b[0m \u001b[0mlist_position\u001b[0m\u001b[0;34m[\u001b[0m\u001b[0mi\u001b[0m\u001b[0;34m]\u001b[0m\u001b[0;34m\u001b[0m\u001b[0;34m\u001b[0m\u001b[0m\n\u001b[1;32m     21\u001b[0m         \u001b[0mdf_temp\u001b[0m \u001b[0;34m=\u001b[0m \u001b[0mpd\u001b[0m\u001b[0;34m.\u001b[0m\u001b[0mconcat\u001b[0m\u001b[0;34m(\u001b[0m\u001b[0;34m[\u001b[0m\u001b[0mdf_temp\u001b[0m\u001b[0;34m,\u001b[0m \u001b[0mdf_temp_temp_temp\u001b[0m\u001b[0;34m]\u001b[0m\u001b[0;34m,\u001b[0m \u001b[0mignore_index\u001b[0m\u001b[0;34m=\u001b[0m\u001b[0;32mTrue\u001b[0m\u001b[0;34m)\u001b[0m\u001b[0;34m.\u001b[0m\u001b[0mfillna\u001b[0m\u001b[0;34m(\u001b[0m\u001b[0;34m''\u001b[0m\u001b[0;34m)\u001b[0m\u001b[0;34m\u001b[0m\u001b[0;34m\u001b[0m\u001b[0m\n\u001b[1;32m     22\u001b[0m \u001b[0;34m\u001b[0m\u001b[0m\n\u001b[1;32m     23\u001b[0m \u001b[0mdf_temp\u001b[0m \u001b[0;34m=\u001b[0m \u001b[0mdf_temp\u001b[0m\u001b[0;34m.\u001b[0m\u001b[0mdrop_duplicates\u001b[0m\u001b[0;34m(\u001b[0m\u001b[0mkeep\u001b[0m\u001b[0;34m=\u001b[0m\u001b[0;34m'first'\u001b[0m\u001b[0;34m,\u001b[0m \u001b[0mignore_index\u001b[0m\u001b[0;34m=\u001b[0m\u001b[0;32mTrue\u001b[0m\u001b[0;34m)\u001b[0m\u001b[0;34m\u001b[0m\u001b[0;34m\u001b[0m\u001b[0m\n\u001b[0;32m---> 24\u001b[0;31m df_temp = df_temp.sort_values(by=['Region', 'Vehicle Type', 'Fuel', 'Make', 'Model', 'Submodel', 'Cylinder', 'Displacement', 'Liter', 'Year', 'Aspiration', 'Drive Type', 'Position'],\n\u001b[0m\u001b[1;32m     25\u001b[0m                               \u001b[0mascending\u001b[0m\u001b[0;34m=\u001b[0m\u001b[0;34m[\u001b[0m\u001b[0;32mTrue\u001b[0m\u001b[0;34m,\u001b[0m \u001b[0;32mTrue\u001b[0m\u001b[0;34m,\u001b[0m \u001b[0;32mTrue\u001b[0m\u001b[0;34m,\u001b[0m \u001b[0;32mTrue\u001b[0m\u001b[0;34m,\u001b[0m \u001b[0;32mTrue\u001b[0m\u001b[0;34m,\u001b[0m \u001b[0;32mTrue\u001b[0m\u001b[0;34m,\u001b[0m \u001b[0;32mTrue\u001b[0m\u001b[0;34m,\u001b[0m \u001b[0;32mTrue\u001b[0m\u001b[0;34m,\u001b[0m \u001b[0;32mTrue\u001b[0m\u001b[0;34m,\u001b[0m \u001b[0;32mTrue\u001b[0m\u001b[0;34m,\u001b[0m \u001b[0;32mTrue\u001b[0m\u001b[0;34m,\u001b[0m \u001b[0;32mTrue\u001b[0m\u001b[0;34m,\u001b[0m \u001b[0;32mTrue\u001b[0m\u001b[0;34m]\u001b[0m\u001b[0;34m,\u001b[0m\u001b[0;34m\u001b[0m\u001b[0;34m\u001b[0m\u001b[0m\n\u001b[1;32m     26\u001b[0m                               ignore_index=True)\n\u001b[1;32m     27\u001b[0m \u001b[0;34m\u001b[0m\u001b[0m\n",
      "\u001b[0;32m~/Desktop/venv/lib/python3.11/site-packages/pandas/core/frame.py\u001b[0m in \u001b[0;36m?\u001b[0;34m(self, by, axis, ascending, inplace, kind, na_position, ignore_index, key)\u001b[0m\n\u001b[1;32m   7168\u001b[0m                 \u001b[0;34mf\"Length of ascending ({len(ascending)})\"\u001b[0m  \u001b[0;31m# type: ignore[arg-type]\u001b[0m\u001b[0;34m\u001b[0m\u001b[0;34m\u001b[0m\u001b[0m\n\u001b[1;32m   7169\u001b[0m                 \u001b[0;34mf\" != length of by ({len(by)})\"\u001b[0m\u001b[0;34m\u001b[0m\u001b[0;34m\u001b[0m\u001b[0m\n\u001b[1;32m   7170\u001b[0m             )\n\u001b[1;32m   7171\u001b[0m         \u001b[0;32mif\u001b[0m \u001b[0mlen\u001b[0m\u001b[0;34m(\u001b[0m\u001b[0mby\u001b[0m\u001b[0;34m)\u001b[0m \u001b[0;34m>\u001b[0m \u001b[0;36m1\u001b[0m\u001b[0;34m:\u001b[0m\u001b[0;34m\u001b[0m\u001b[0;34m\u001b[0m\u001b[0m\n\u001b[0;32m-> 7172\u001b[0;31m             \u001b[0mkeys\u001b[0m \u001b[0;34m=\u001b[0m \u001b[0;34m[\u001b[0m\u001b[0mself\u001b[0m\u001b[0;34m.\u001b[0m\u001b[0m_get_label_or_level_values\u001b[0m\u001b[0;34m(\u001b[0m\u001b[0mx\u001b[0m\u001b[0;34m,\u001b[0m \u001b[0maxis\u001b[0m\u001b[0;34m=\u001b[0m\u001b[0maxis\u001b[0m\u001b[0;34m)\u001b[0m \u001b[0;32mfor\u001b[0m \u001b[0mx\u001b[0m \u001b[0;32min\u001b[0m \u001b[0mby\u001b[0m\u001b[0;34m]\u001b[0m\u001b[0;34m\u001b[0m\u001b[0;34m\u001b[0m\u001b[0m\n\u001b[0m\u001b[1;32m   7173\u001b[0m \u001b[0;34m\u001b[0m\u001b[0m\n\u001b[1;32m   7174\u001b[0m             \u001b[0;31m# need to rewrap columns in Series to apply key function\u001b[0m\u001b[0;34m\u001b[0m\u001b[0;34m\u001b[0m\u001b[0m\n\u001b[1;32m   7175\u001b[0m             \u001b[0;32mif\u001b[0m \u001b[0mkey\u001b[0m \u001b[0;32mis\u001b[0m \u001b[0;32mnot\u001b[0m \u001b[0;32mNone\u001b[0m\u001b[0;34m:\u001b[0m\u001b[0;34m\u001b[0m\u001b[0;34m\u001b[0m\u001b[0m\n",
      "\u001b[0;32m~/Desktop/venv/lib/python3.11/site-packages/pandas/core/frame.py\u001b[0m in \u001b[0;36m?\u001b[0;34m(.0)\u001b[0m\n\u001b[0;32m-> 7172\u001b[0;31m         \u001b[0;34m...\u001b[0m     \u001b[0mkey\u001b[0m\u001b[0;34m=\u001b[0m\u001b[0;32mlambda\u001b[0m \u001b[0mx\u001b[0m\u001b[0;34m:\u001b[0m \u001b[0mnp\u001b[0m\u001b[0;34m.\u001b[0m\u001b[0margsort\u001b[0m\u001b[0;34m(\u001b[0m\u001b[0mindex_natsorted\u001b[0m\u001b[0;34m(\u001b[0m\u001b[0mdf\u001b[0m\u001b[0;34m[\u001b[0m\u001b[0;34m\"time\"\u001b[0m\u001b[0;34m]\u001b[0m\u001b[0;34m)\u001b[0m\u001b[0;34m)\u001b[0m\u001b[0;34m\u001b[0m\u001b[0;34m\u001b[0m\u001b[0m\n\u001b[0m",
      "\u001b[0;32m~/Desktop/venv/lib/python3.11/site-packages/pandas/core/generic.py\u001b[0m in \u001b[0;36m?\u001b[0;34m(self, key, axis)\u001b[0m\n\u001b[1;32m   1907\u001b[0m             \u001b[0mvalues\u001b[0m \u001b[0;34m=\u001b[0m \u001b[0mself\u001b[0m\u001b[0;34m.\u001b[0m\u001b[0mxs\u001b[0m\u001b[0;34m(\u001b[0m\u001b[0mkey\u001b[0m\u001b[0;34m,\u001b[0m \u001b[0maxis\u001b[0m\u001b[0;34m=\u001b[0m\u001b[0mother_axes\u001b[0m\u001b[0;34m[\u001b[0m\u001b[0;36m0\u001b[0m\u001b[0;34m]\u001b[0m\u001b[0;34m)\u001b[0m\u001b[0;34m.\u001b[0m\u001b[0m_values\u001b[0m\u001b[0;34m\u001b[0m\u001b[0;34m\u001b[0m\u001b[0m\n\u001b[1;32m   1908\u001b[0m         \u001b[0;32melif\u001b[0m \u001b[0mself\u001b[0m\u001b[0;34m.\u001b[0m\u001b[0m_is_level_reference\u001b[0m\u001b[0;34m(\u001b[0m\u001b[0mkey\u001b[0m\u001b[0;34m,\u001b[0m \u001b[0maxis\u001b[0m\u001b[0;34m=\u001b[0m\u001b[0maxis\u001b[0m\u001b[0;34m)\u001b[0m\u001b[0;34m:\u001b[0m\u001b[0;34m\u001b[0m\u001b[0;34m\u001b[0m\u001b[0m\n\u001b[1;32m   1909\u001b[0m             \u001b[0mvalues\u001b[0m \u001b[0;34m=\u001b[0m \u001b[0mself\u001b[0m\u001b[0;34m.\u001b[0m\u001b[0maxes\u001b[0m\u001b[0;34m[\u001b[0m\u001b[0maxis\u001b[0m\u001b[0;34m]\u001b[0m\u001b[0;34m.\u001b[0m\u001b[0mget_level_values\u001b[0m\u001b[0;34m(\u001b[0m\u001b[0mkey\u001b[0m\u001b[0;34m)\u001b[0m\u001b[0;34m.\u001b[0m\u001b[0m_values\u001b[0m\u001b[0;34m\u001b[0m\u001b[0;34m\u001b[0m\u001b[0m\n\u001b[1;32m   1910\u001b[0m         \u001b[0;32melse\u001b[0m\u001b[0;34m:\u001b[0m\u001b[0;34m\u001b[0m\u001b[0;34m\u001b[0m\u001b[0m\n\u001b[0;32m-> 1911\u001b[0;31m             \u001b[0;32mraise\u001b[0m \u001b[0mKeyError\u001b[0m\u001b[0;34m(\u001b[0m\u001b[0mkey\u001b[0m\u001b[0;34m)\u001b[0m\u001b[0;34m\u001b[0m\u001b[0;34m\u001b[0m\u001b[0m\n\u001b[0m\u001b[1;32m   1912\u001b[0m \u001b[0;34m\u001b[0m\u001b[0m\n\u001b[1;32m   1913\u001b[0m         \u001b[0;31m# Check for duplicates\u001b[0m\u001b[0;34m\u001b[0m\u001b[0;34m\u001b[0m\u001b[0m\n\u001b[1;32m   1914\u001b[0m         \u001b[0;32mif\u001b[0m \u001b[0mvalues\u001b[0m\u001b[0;34m.\u001b[0m\u001b[0mndim\u001b[0m \u001b[0;34m>\u001b[0m \u001b[0;36m1\u001b[0m\u001b[0;34m:\u001b[0m\u001b[0;34m\u001b[0m\u001b[0;34m\u001b[0m\u001b[0m\n",
      "\u001b[0;31mKeyError\u001b[0m: 'Region'"
     ]
    }
   ],
   "source": [
    "df_temp = pd.DataFrame()\n",
    "for i in range(len(list_json)):\n",
    "    df_temp_temp = pd.DataFrame({'No': input_.loc[a, 'No'],\n",
    "                                 'Part Number': input_.loc[a, 'Part Number'],\n",
    "                                 'Auth': input_.loc[a, 'Auth'],\n",
    "                                 'Region': list_region[i],\n",
    "                                 'Vehicle Type': list_vehicle_type[i],\n",
    "                                 'Fuel': list_list_fuel[i],\n",
    "                                 'Make': list_make[i],\n",
    "                                 'Model': list_model[i],\n",
    "                                 'Submodel': list_submodel[i],\n",
    "                                 'Cylinder': list_list_cylinder[i],\n",
    "                                 'Displacement': list_list_displacement[i],\n",
    "                                 'Liter': list_list_liter[i],\n",
    "                                 'Year': list_year[i],\n",
    "                                 'Aspiration': list_list_aspiration[i]})\n",
    "    for j in range(len(list_list_drive_type[i])):\n",
    "        df_temp_temp_temp = df_temp_temp.copy()\n",
    "        df_temp_temp_temp['Drive Type'] = list_list_drive_type[i][j]\n",
    "        df_temp_temp_temp['Position'] = list_position[i]\n",
    "        df_temp = pd.concat([df_temp, df_temp_temp_temp], ignore_index=True).fillna('')\n",
    "\n",
    "df_temp = df_temp.drop_duplicates(keep='first', ignore_index=True)\n",
    "df_temp = df_temp.sort_values(by=['Region', 'Vehicle Type', 'Fuel', 'Make', 'Model', 'Submodel', 'Cylinder', 'Displacement', 'Liter', 'Year', 'Aspiration', 'Drive Type', 'Position'],\n",
    "                              ascending=[True, True, True, True, True, True, True, True, True, True, True, True, True],\n",
    "                              ignore_index=True)\n",
    "\n",
    "df_temp['Row'] = [i+1 for i in range(len(df_temp))]\n",
    "\n",
    "output_correct = pd.concat([output_correct, df_temp], ignore_index=True).fillna('')\n",
    "\n",
    "output_correct"
   ]
  },
  {
   "cell_type": "code",
   "execution_count": null,
   "id": "fc4ed7f6-ed4f-431c-b944-b1690309cdae",
   "metadata": {},
   "outputs": [],
   "source": [
    "crawler_status = 'ok'\n",
    "\n",
    "crawler_status"
   ]
  },
  {
   "cell_type": "code",
   "execution_count": null,
   "id": "65c745d1-446e-46c5-9dec-819c9f7944d3",
   "metadata": {},
   "outputs": [],
   "source": [
    "if crawler_status == 'error':\n",
    "    df_temp = pd.DataFrame([{'No': input_.loc[a, 'No'],\n",
    "                             'Part Number': input_.loc[a, 'Part Number'],\n",
    "                             'Auth': input_.loc[a, 'Auth']}])\n",
    "\n",
    "    output_error = pd.concat([output_error, df_temp], ignore_index=True).fillna('')\n",
    "\n",
    "output_error"
   ]
  },
  {
   "cell_type": "code",
   "execution_count": null,
   "id": "7fd477de",
   "metadata": {},
   "outputs": [],
   "source": [
    "if not output_correct.empty:\n",
    "    output_correct = output_correct.sort_values(by=['No', 'Row'],\n",
    "                                                ascending=[True, True],\n",
    "                                                ignore_index=True)\n",
    "    output_correct[['No',\n",
    "                    'Part Number',\n",
    "                    'Auth',\n",
    "                    'Row',\n",
    "                    'Region',\n",
    "                    'Vehicle Type',\n",
    "                    'Fuel',\n",
    "                    'Make',\n",
    "                    'Model',\n",
    "                    'Submodel',\n",
    "                    'Cylinder',\n",
    "                    'Displacement',\n",
    "                    'Liter',\n",
    "                    'Year',\n",
    "                    'Aspiration',\n",
    "                    'Drive Type',\n",
    "                    'Position']].to_excel('./test_vehicle.xlsx', index=False)\n",
    "\n",
    "output_correct"
   ]
  },
  {
   "cell_type": "code",
   "execution_count": null,
   "id": "39a5441b-7f69-4812-aad8-7e10a1a24e78",
   "metadata": {},
   "outputs": [],
   "source": [
    "if not output_error.empty:\n",
    "    output_error = output_error.sort_values(by=['No'],\n",
    "                                            ascending=[True],\n",
    "                                            ignore_index=True)\n",
    "    output_error.to_excel('./test_vehicle_error.xlsx', index=False)\n",
    "\n",
    "output_error"
   ]
  },
  {
   "cell_type": "code",
   "execution_count": null,
   "id": "ba5d9f77-7464-4ad5-a42b-1fa0c0505832",
   "metadata": {},
   "outputs": [],
   "source": []
  }
 ],
 "metadata": {
  "kernelspec": {
   "display_name": "Python 3 (ipykernel)",
   "language": "python",
   "name": "python3"
  },
  "language_info": {
   "codemirror_mode": {
    "name": "ipython",
    "version": 3
   },
   "file_extension": ".py",
   "mimetype": "text/x-python",
   "name": "python",
   "nbconvert_exporter": "python",
   "pygments_lexer": "ipython3",
   "version": "3.11.3"
  }
 },
 "nbformat": 4,
 "nbformat_minor": 5
}
