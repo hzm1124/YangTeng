{
 "cells": [
  {
   "cell_type": "code",
   "execution_count": 1,
   "id": "f5cb51f3",
   "metadata": {},
   "outputs": [],
   "source": [
    "import pandas as pd"
   ]
  },
  {
   "cell_type": "code",
   "execution_count": 2,
   "id": "ee0068f6",
   "metadata": {},
   "outputs": [
    {
     "name": "stdout",
     "output_type": "stream",
     "text": [
      "总数量：75\n"
     ]
    },
    {
     "data": {
      "text/plain": [
       "['https://www.amazon.com/labwork-6L2Z7861382EA-6L2Z7861383AA-Replacement-Mountaineer/dp/B08HS5XZTR/ref=zg_bs_g_15730491_d_sccl_1/137-5565607-0668155?psc=1',\n",
       " 'https://www.amazon.com/Motorcraft-MM-990-Seat-Actuator-Motor/dp/B009TKMV2C/ref=zg_bs_g_15730491_d_sccl_2/137-5565607-0668155?psc=1',\n",
       " 'https://www.amazon.com/Cherokee-Seat-Height-Adjuster-Motor/dp/B0BDW1KD6R/ref=zg_bs_g_15730491_d_sccl_3/137-5565607-0668155?psc=1',\n",
       " 'https://www.amazon.com/Motorcraft-MM949-Power-Seat-Motor/dp/B000EQ8XM2/ref=zg_bs_g_15730491_d_sccl_4/137-5565607-0668155?psc=1',\n",
       " 'https://www.amazon.com/HERCOO-Compatible-2004-2006-2003-2008-2002-2005/dp/B08MZYRNXH/ref=zg_bs_g_15730491_d_sccl_5/137-5565607-0668155?psc=1',\n",
       " 'https://www.amazon.com/Daewoo-Automotive-12VDC-Motor-Broaching/dp/B00LPV5H0Q/ref=zg_bs_g_15730491_d_sccl_6/137-5565607-0668155?psc=1',\n",
       " 'https://www.amazon.com/Motorcraft-MM1100-Adjuster-Motor-Assembly/dp/B009B5SS86/ref=zg_bs_g_15730491_d_sccl_7/137-5565607-0668155?psc=1',\n",
       " 'https://www.amazon.com/Daewoo-Automotive-Power-Gear-head-Motor/dp/B00LQU6GCE/ref=zg_bs_g_15730491_d_sccl_8/137-5565607-0668155?psc=1',\n",
       " 'https://www.amazon.com/NewYall-Rear-Power-Hinge-Motor/dp/B099KHNHK8/ref=zg_bs_g_15730491_d_sccl_9/137-5565607-0668155?psc=1',\n",
       " 'https://www.amazon.com/Premium-Power-Folding-Seat-Hinge-Motor-Mercedes-Benz-X164-GL320-2007-2009-GL63-AMG-2013-2016/dp/B0BNTJNFZY/ref=zg_bs_g_15730491_d_sccl_10/137-5565607-0668155?psc=1',\n",
       " 'https://www.amazon.com/Adjuster-Compatible-Cherokee-1996-2001-1999-2004/dp/B09RKF9N7B/ref=zg_bs_g_15730491_d_sccl_11/137-5565607-0668155?psc=1',\n",
       " 'https://www.amazon.com/Explorer-Mercury-Mountaineer-2006-2010-Motor/dp/B084BVCBF1/ref=zg_bs_g_15730491_d_sccl_12/137-5565607-0668155?psc=1',\n",
       " 'https://www.amazon.com/Motorcraft-MM951-Power-Seat-Motor/dp/B000EQAVMM/ref=zg_bs_g_15730491_d_sccl_13/137-5565607-0668155?psc=1',\n",
       " 'https://www.amazon.com/Motorcraft-MM1101-Adjuster-Motor-Assembly/dp/B009B5SSEU/ref=zg_bs_g_15730491_d_sccl_14/137-5565607-0668155?psc=1',\n",
       " 'https://www.amazon.com/Seat-Adjustment-Motor-Forward-Back/dp/B009HBURYW/ref=zg_bs_g_15730491_d_sccl_15/137-5565607-0668155?psc=1',\n",
       " 'https://www.amazon.com/ACONTauto-Height-Adjuster-Suitable-Chevrolet/dp/B0CNW17XLH/ref=zg_bs_g_15730491_d_sccl_16/137-5565607-0668155?psc=1',\n",
       " 'https://www.amazon.com/Motorcraft-MM-991-Seat-Actuator-Motor/dp/B009TKMWE4/ref=zg_bs_g_15730491_d_sccl_17/137-5565607-0668155?psc=1',\n",
       " 'https://www.amazon.com/Folding-6L2Z7861383AA-6L2Z-7861383-AA-Explorer-2006-2010/dp/B084ZMRLQQ/ref=zg_bs_g_15730491_d_sccl_18/137-5565607-0668155?psc=1',\n",
       " 'https://www.amazon.com/Motorcraft-MM-1037-Seat-Actuator-Motor/dp/B009TKMHNA/ref=zg_bs_g_15730491_d_sccl_19/137-5565607-0668155?psc=1',\n",
       " 'https://www.amazon.com/GSKMOTOR-Support-Actuator-Repair-Chrome/dp/B08FB9B2HF/ref=zg_bs_g_15730491_d_sccl_20/137-5565607-0668155?psc=1',\n",
       " 'https://www.amazon.com/labwork-Support-Actuator-Repair-52107068045/dp/B07RQZDTN9/ref=zg_bs_g_15730491_d_sccl_21/137-5565607-0668155?psc=1',\n",
       " 'https://www.amazon.com/Toyota-Cruiser-Power-Electric-Adjust/dp/B07PVNT8RR/ref=zg_bs_g_15730491_d_sccl_22/137-5565607-0668155?psc=1',\n",
       " 'https://www.amazon.com/2006-2013-Stainless-Steel-Motor-Drive/dp/B0CHHB7WHR/ref=zg_bs_g_15730491_d_sccl_23/137-5565607-0668155?psc=1',\n",
       " 'https://www.amazon.com/Motorcraft-MM1099-Adjuster-Motor-Assembly/dp/B009B5SS36/ref=zg_bs_g_15730491_d_sccl_24/137-5565607-0668155?psc=1',\n",
       " 'https://www.amazon.com/6L2Z7861382EA-Folding-Explorer-Mountaineer-2006-2010/dp/B082TY7LP5/ref=zg_bs_g_15730491_d_sccl_25/137-5565607-0668155?psc=1',\n",
       " 'https://www.amazon.com/13578630-ACTUATOR-ASM-F-SEAT-ADJR/dp/B015NEG8XU/ref=zg_bs_g_15730491_d_sccl_26/137-5565607-0668155?psc=1',\n",
       " 'https://www.amazon.com/Explorer-Mercury-Mountaineer-2006-2010-Right/dp/B084BPL3ZJ/ref=zg_bs_g_15730491_d_sccl_27/137-5565607-0668155?psc=1',\n",
       " 'https://www.amazon.com/439440-10360-hx162000-7542-Front-Motor-Suitable/dp/B0B1YZ7QGN/ref=zg_bs_g_15730491_d_sccl_28/137-5565607-0668155?psc=1',\n",
       " 'https://www.amazon.com/beler-Electric-Adjustment-85820-30760-439440-10220/dp/B0C6LJG82W/ref=zg_bs_g_15730491_d_sccl_29/137-5565607-0668155?psc=1',\n",
       " 'https://www.amazon.com/Silscvtt-6L2Z-7861383-AA-Replacement-Mountaineer-2006-2010/dp/B0BJCPZ372/ref=zg_bs_g_15730491_d_sccl_30/137-5565607-0668155?psc=1',\n",
       " 'https://www.amazon.com/WFLNHB-Replacement-Mountaineer-6L2Z7861383AA-6L2Z7861382EA/dp/B0BM8VF4PB/ref=zg_bs_g_15730491_d_sccl_31/137-5565607-0668155?psc=1',\n",
       " 'https://www.amazon.com/Motorcraft-MM-1036-Seat-Actuator-Motor/dp/B009TKMG3G/ref=zg_bs_g_15730491_d_sccl_32/137-5565607-0668155?psc=1',\n",
       " 'https://www.amazon.com/Premium-Compatible-Mountaineer-2006-2010-Passenger/dp/B09P568VYP/ref=zg_bs_g_15730491_d_sccl_33/137-5565607-0668155?psc=1',\n",
       " 'https://www.amazon.com/WFLNHB-Support-Actuator-Repair-52107068045/dp/B081C4TZXK/ref=zg_bs_g_15730491_d_sccl_34/137-5565607-0668155?psc=1',\n",
       " 'https://www.amazon.com/Motorcraft-MM948-Power-Seat-Motor/dp/B000EQ82Z0/ref=zg_bs_g_15730491_d_sccl_35/137-5565607-0668155?psc=1',\n",
       " 'https://www.amazon.com/labwork-6L2Z7861382EA-6L2Z7861383AA-Replacement-Mountaineer/dp/B08HS4MJBC/ref=zg_bs_g_15730491_d_sccl_36/137-5565607-0668155?psc=1',\n",
       " 'https://www.amazon.com/Motorcraft-MM-968-Seat-Actuator-Motor/dp/B00809W6G4/ref=zg_bs_g_15730491_d_sccl_37/137-5565607-0668155?psc=1',\n",
       " 'https://www.amazon.com/Ford-Assembly-2009-2015-Explorer-9U5Z14547C/dp/B00XZ003Z4/ref=zg_bs_g_15730491_d_sccl_38/137-5565607-0668155?psc=1',\n",
       " 'https://www.amazon.com/Motorcraft-MM967-Seat-Motor/dp/B00130OGL0/ref=zg_bs_g_15730491_d_sccl_39/137-5565607-0668155?psc=1',\n",
       " 'https://www.amazon.com/marddpair-6L2Z7861382EA-Replacement-Explorer-Mountaineer/dp/B09V2GTCXH/ref=zg_bs_g_15730491_d_sccl_40/137-5565607-0668155?psc=1',\n",
       " 'https://www.amazon.com/439440-10350-hx162000-7532-Front-Motor-Suitable/dp/B0B1YX7X9J/ref=zg_bs_g_15730491_d_sccl_41/137-5565607-0668155?psc=1',\n",
       " 'https://www.amazon.com/Premium-Compatible-Explorer-Mountaineer-2006-2010/dp/B09P55MTRN/ref=zg_bs_g_15730491_d_sccl_42/137-5565607-0668155?psc=1',\n",
       " 'https://www.amazon.com/Adjuster-5609780-Chevrolet-Cadillac-Escalade/dp/B0BXX5YG2D/ref=zg_bs_g_15730491_d_sccl_43/137-5565607-0668155?psc=1',\n",
       " 'https://www.amazon.com/ouyanglong-6L2Z-7861383-AA-2006-2010-Explorer-Mountaineer/dp/B0BLC7Q9SB/ref=zg_bs_g_15730491_d_sccl_44/137-5565607-0668155?psc=1',\n",
       " 'https://www.amazon.com/2003-2019-Ruckus-Lowering-Storage-Container/dp/B07L6PPWQL/ref=zg_bs_g_15730491_d_sccl_45/137-5565607-0668155?psc=1',\n",
       " 'https://www.amazon.com/Dorman-924-556-Power-Seat-Motor/dp/B00902G2RE/ref=zg_bs_g_15730491_d_sccl_46/137-5565607-0668155?psc=1',\n",
       " 'https://www.amazon.com/Replacement-Seat-Motor-Front-Right/dp/B0BYCPTXFR/ref=zg_bs_g_15730491_d_sccl_47/137-5565607-0668155?psc=1',\n",
       " 'https://www.amazon.com/Motorcraft-MM923-Power-Seat-Motor/dp/B000EQ830E/ref=zg_bs_g_15730491_d_sccl_48/137-5565607-0668155?psc=1',\n",
       " 'https://www.amazon.com/Country-Height-Adjuster-5609780-Repair/dp/B0BDM6RFYH/ref=zg_bs_g_15730491_d_sccl_49/137-5565607-0668155?psc=1',\n",
       " 'https://www.amazon.com/Repair-Thigh-Actuator-Support-2001-2014/dp/B09XWSSVLY/ref=zg_bs_g_15730491_d_sccl_50/137-5565607-0668155?psc=1',\n",
       " 'https://www.amazon.com/Bicos-6L2Z7861382EA-Explorer-Mountaineer-6L2Z-7861382-EA/dp/B0BZTTY6F5/ref=zg_bs_g_15730491_d_sccl_1/137-5565607-0668155?psc=1',\n",
       " 'https://www.amazon.com/waltyotur-6L2Z7861383AA-6L2Z-7861383-AA-Replacement-Mountaineer/dp/B09L8554GV/ref=zg_bs_g_15730491_d_sccl_2/137-5565607-0668155?psc=1',\n",
       " 'https://www.amazon.com/LABLT-Replacement-2006-2010-Mountaineer-6L2Z7861383AA/dp/B0C61W1Z59/ref=zg_bs_g_15730491_d_sccl_3/137-5565607-0668155?psc=1',\n",
       " 'https://www.amazon.com/Silscvtt-6L2Z7861383AA-6L2Z7861382EA-Replacement-Mountaineer/dp/B0BSQ8PWDP/ref=zg_bs_g_15730491_d_sccl_4/137-5565607-0668155?psc=1',\n",
       " 'https://www.amazon.com/Chevrolet-GMC-Trucks-2X-Seat/dp/B0BDWSZ81S/ref=zg_bs_g_15730491_d_sccl_5/137-5565607-0668155?psc=1',\n",
       " 'https://www.amazon.com/waltyotur-6L2Z7861383AA-6L2Z-7861383-AA-Replacement-Mountaineer/dp/B09L841B2D/ref=zg_bs_g_15730491_d_sccl_6/137-5565607-0668155?psc=1',\n",
       " 'https://www.amazon.com/Genuine-2088200842/dp/B009HC3PL8/ref=zg_bs_g_15730491_d_sccl_7/137-5565607-0668155?psc=1',\n",
       " 'https://www.amazon.com/Premium-Compatible-Explorer-Mountaineer-2006-2010/dp/B09WH6WRFN/ref=zg_bs_g_15730491_d_sccl_8/137-5565607-0668155?psc=1',\n",
       " 'https://www.amazon.com/Seat-Height-Adjuster-Motor-5609780/dp/B0BDW2CM7V/ref=zg_bs_g_15730491_d_sccl_9/137-5565607-0668155?psc=1',\n",
       " 'https://www.amazon.com/Bicos-6L2Z7861383AA-6L2Z7861382EA-6L2Z-7861383-AA-6L2Z-7861382-EA/dp/B0BZTWT5YZ/ref=zg_bs_g_15730491_d_sccl_10/137-5565607-0668155?psc=1',\n",
       " 'https://www.amazon.com/ACDelco-19257602-Original-Equipment-Motor/dp/B00B4LCJG2/ref=zg_bs_g_15730491_d_sccl_11/137-5565607-0668155?psc=1',\n",
       " 'https://www.amazon.com/marddpair-6L2Z7861383AA-Replacement-Explorer-Mountaineer/dp/B09V2JL6JK/ref=zg_bs_g_15730491_d_sccl_12/137-5565607-0668155?psc=1',\n",
       " 'https://www.amazon.com/Bicos-6L2Z7861383AA-Explorer-Mountaineer-6L2Z-7861383-AA/dp/B0BZTSV4LY/ref=zg_bs_g_15730491_d_sccl_13/137-5565607-0668155?psc=1',\n",
       " 'https://www.amazon.com/BMW-99-03-Adjustment-Motor-seating/dp/B00AEK6UZU/ref=zg_bs_g_15730491_d_sccl_14/137-5565607-0668155?psc=1',\n",
       " 'https://www.amazon.com/Cadillac-Escalade-Avenue-Height-Adjuster/dp/B0BDVY34J9/ref=zg_bs_g_15730491_d_sccl_15/137-5565607-0668155?psc=1',\n",
       " 'https://www.amazon.com/TechSmart-Power-Seat-Adjustment-C82003/dp/B00LLSIWP0/ref=zg_bs_g_15730491_d_sccl_16/137-5565607-0668155?psc=1',\n",
       " 'https://www.amazon.com/2014-2018-Mazda-Motor-Driveshaft-Stainless/dp/B0CKGDMWQJ/ref=zg_bs_g_15730491_d_sccl_17/137-5565607-0668155?psc=1',\n",
       " 'https://www.amazon.com/52107068045-Thigh-Support-Actuator-Repair/dp/B08R8J6HTL/ref=zg_bs_g_15730491_d_sccl_18/137-5565607-0668155?psc=1',\n",
       " 'https://www.amazon.com/Ford-8A5Z-14547-B-MOTOR-ASY-SEAT/dp/B001H1UF8S/ref=zg_bs_g_15730491_d_sccl_19/137-5565607-0668155?psc=1',\n",
       " 'https://www.amazon.com/Three-Durable-Support-Actuator-52107068045/dp/B0BKNZF44J/ref=zg_bs_g_15730491_d_sccl_20/137-5565607-0668155?psc=1',\n",
       " 'https://www.amazon.com/Seat-Motor-Adjustment-Gear-BMW/dp/B0C4F5D7GQ/ref=zg_bs_g_15730491_d_sccl_21/137-5565607-0668155?psc=1',\n",
       " 'https://www.amazon.com/Jaguar-Motor-Computer-Module-LJA2160AG/dp/B00UE2OENI/ref=zg_bs_g_15730491_d_sccl_22/137-5565607-0668155?psc=1',\n",
       " 'https://www.amazon.com/Ford-6L2Z-14547-AA-MOTOR-ASY-SEAT/dp/B000NTWWOU/ref=zg_bs_g_15730491_d_sccl_23/137-5565607-0668155?psc=1',\n",
       " 'https://www.amazon.com/Height-Adjuster-Repair-Cadillac-Escalade/dp/B0BFNMXQKV/ref=zg_bs_g_15730491_d_sccl_24/137-5565607-0668155?psc=1',\n",
       " 'https://www.amazon.com/Motorcraft-WPT687-Power-Seat-Connector/dp/B000IYM04W/ref=zg_bs_g_15730491_d_sccl_25/137-5565607-0668155?psc=1']"
      ]
     },
     "execution_count": 2,
     "metadata": {},
     "output_type": "execute_result"
    }
   ],
   "source": [
    "df = pd.read_excel('./menu.xlsx',\n",
    "                   header=0,\n",
    "                   dtype=str).fillna('')\n",
    "\n",
    "print('总数量：' + str(len(df)))\n",
    "df['Url'].tolist()"
   ]
  },
  {
   "cell_type": "code",
   "execution_count": 3,
   "id": "ccba061d",
   "metadata": {},
   "outputs": [
    {
     "data": {
      "text/plain": [
       "{'1': 'https://www.amazon.com/labwork-6L2Z7861382EA-6L2Z7861383AA-Replacement-Mountaineer/dp/B08HS5XZTR/ref=zg_bs_g_15730491_d_sccl_1/137-5565607-0668155?psc=1',\n",
       " '2': 'https://www.amazon.com/Motorcraft-MM-990-Seat-Actuator-Motor/dp/B009TKMV2C/ref=zg_bs_g_15730491_d_sccl_2/137-5565607-0668155?psc=1',\n",
       " '3': 'https://www.amazon.com/Cherokee-Seat-Height-Adjuster-Motor/dp/B0BDW1KD6R/ref=zg_bs_g_15730491_d_sccl_3/137-5565607-0668155?psc=1',\n",
       " '4': 'https://www.amazon.com/Motorcraft-MM949-Power-Seat-Motor/dp/B000EQ8XM2/ref=zg_bs_g_15730491_d_sccl_4/137-5565607-0668155?psc=1',\n",
       " '5': 'https://www.amazon.com/HERCOO-Compatible-2004-2006-2003-2008-2002-2005/dp/B08MZYRNXH/ref=zg_bs_g_15730491_d_sccl_5/137-5565607-0668155?psc=1',\n",
       " '6': 'https://www.amazon.com/Daewoo-Automotive-12VDC-Motor-Broaching/dp/B00LPV5H0Q/ref=zg_bs_g_15730491_d_sccl_6/137-5565607-0668155?psc=1',\n",
       " '7': 'https://www.amazon.com/Motorcraft-MM1100-Adjuster-Motor-Assembly/dp/B009B5SS86/ref=zg_bs_g_15730491_d_sccl_7/137-5565607-0668155?psc=1',\n",
       " '8': 'https://www.amazon.com/Daewoo-Automotive-Power-Gear-head-Motor/dp/B00LQU6GCE/ref=zg_bs_g_15730491_d_sccl_8/137-5565607-0668155?psc=1',\n",
       " '9': 'https://www.amazon.com/NewYall-Rear-Power-Hinge-Motor/dp/B099KHNHK8/ref=zg_bs_g_15730491_d_sccl_9/137-5565607-0668155?psc=1',\n",
       " '10': 'https://www.amazon.com/Premium-Power-Folding-Seat-Hinge-Motor-Mercedes-Benz-X164-GL320-2007-2009-GL63-AMG-2013-2016/dp/B0BNTJNFZY/ref=zg_bs_g_15730491_d_sccl_10/137-5565607-0668155?psc=1',\n",
       " '11': 'https://www.amazon.com/Adjuster-Compatible-Cherokee-1996-2001-1999-2004/dp/B09RKF9N7B/ref=zg_bs_g_15730491_d_sccl_11/137-5565607-0668155?psc=1',\n",
       " '12': 'https://www.amazon.com/Explorer-Mercury-Mountaineer-2006-2010-Motor/dp/B084BVCBF1/ref=zg_bs_g_15730491_d_sccl_12/137-5565607-0668155?psc=1',\n",
       " '13': 'https://www.amazon.com/Motorcraft-MM951-Power-Seat-Motor/dp/B000EQAVMM/ref=zg_bs_g_15730491_d_sccl_13/137-5565607-0668155?psc=1',\n",
       " '14': 'https://www.amazon.com/Motorcraft-MM1101-Adjuster-Motor-Assembly/dp/B009B5SSEU/ref=zg_bs_g_15730491_d_sccl_14/137-5565607-0668155?psc=1',\n",
       " '15': 'https://www.amazon.com/Seat-Adjustment-Motor-Forward-Back/dp/B009HBURYW/ref=zg_bs_g_15730491_d_sccl_15/137-5565607-0668155?psc=1',\n",
       " '16': 'https://www.amazon.com/ACONTauto-Height-Adjuster-Suitable-Chevrolet/dp/B0CNW17XLH/ref=zg_bs_g_15730491_d_sccl_16/137-5565607-0668155?psc=1',\n",
       " '17': 'https://www.amazon.com/Motorcraft-MM-991-Seat-Actuator-Motor/dp/B009TKMWE4/ref=zg_bs_g_15730491_d_sccl_17/137-5565607-0668155?psc=1',\n",
       " '18': 'https://www.amazon.com/Folding-6L2Z7861383AA-6L2Z-7861383-AA-Explorer-2006-2010/dp/B084ZMRLQQ/ref=zg_bs_g_15730491_d_sccl_18/137-5565607-0668155?psc=1',\n",
       " '19': 'https://www.amazon.com/Motorcraft-MM-1037-Seat-Actuator-Motor/dp/B009TKMHNA/ref=zg_bs_g_15730491_d_sccl_19/137-5565607-0668155?psc=1',\n",
       " '20': 'https://www.amazon.com/GSKMOTOR-Support-Actuator-Repair-Chrome/dp/B08FB9B2HF/ref=zg_bs_g_15730491_d_sccl_20/137-5565607-0668155?psc=1',\n",
       " '21': 'https://www.amazon.com/labwork-Support-Actuator-Repair-52107068045/dp/B07RQZDTN9/ref=zg_bs_g_15730491_d_sccl_21/137-5565607-0668155?psc=1',\n",
       " '22': 'https://www.amazon.com/Toyota-Cruiser-Power-Electric-Adjust/dp/B07PVNT8RR/ref=zg_bs_g_15730491_d_sccl_22/137-5565607-0668155?psc=1',\n",
       " '23': 'https://www.amazon.com/2006-2013-Stainless-Steel-Motor-Drive/dp/B0CHHB7WHR/ref=zg_bs_g_15730491_d_sccl_23/137-5565607-0668155?psc=1',\n",
       " '24': 'https://www.amazon.com/Motorcraft-MM1099-Adjuster-Motor-Assembly/dp/B009B5SS36/ref=zg_bs_g_15730491_d_sccl_24/137-5565607-0668155?psc=1',\n",
       " '25': 'https://www.amazon.com/6L2Z7861382EA-Folding-Explorer-Mountaineer-2006-2010/dp/B082TY7LP5/ref=zg_bs_g_15730491_d_sccl_25/137-5565607-0668155?psc=1',\n",
       " '26': 'https://www.amazon.com/13578630-ACTUATOR-ASM-F-SEAT-ADJR/dp/B015NEG8XU/ref=zg_bs_g_15730491_d_sccl_26/137-5565607-0668155?psc=1',\n",
       " '27': 'https://www.amazon.com/Explorer-Mercury-Mountaineer-2006-2010-Right/dp/B084BPL3ZJ/ref=zg_bs_g_15730491_d_sccl_27/137-5565607-0668155?psc=1',\n",
       " '28': 'https://www.amazon.com/439440-10360-hx162000-7542-Front-Motor-Suitable/dp/B0B1YZ7QGN/ref=zg_bs_g_15730491_d_sccl_28/137-5565607-0668155?psc=1',\n",
       " '29': 'https://www.amazon.com/beler-Electric-Adjustment-85820-30760-439440-10220/dp/B0C6LJG82W/ref=zg_bs_g_15730491_d_sccl_29/137-5565607-0668155?psc=1',\n",
       " '30': 'https://www.amazon.com/Silscvtt-6L2Z-7861383-AA-Replacement-Mountaineer-2006-2010/dp/B0BJCPZ372/ref=zg_bs_g_15730491_d_sccl_30/137-5565607-0668155?psc=1',\n",
       " '31': 'https://www.amazon.com/WFLNHB-Replacement-Mountaineer-6L2Z7861383AA-6L2Z7861382EA/dp/B0BM8VF4PB/ref=zg_bs_g_15730491_d_sccl_31/137-5565607-0668155?psc=1',\n",
       " '32': 'https://www.amazon.com/Motorcraft-MM-1036-Seat-Actuator-Motor/dp/B009TKMG3G/ref=zg_bs_g_15730491_d_sccl_32/137-5565607-0668155?psc=1',\n",
       " '33': 'https://www.amazon.com/Premium-Compatible-Mountaineer-2006-2010-Passenger/dp/B09P568VYP/ref=zg_bs_g_15730491_d_sccl_33/137-5565607-0668155?psc=1',\n",
       " '34': 'https://www.amazon.com/WFLNHB-Support-Actuator-Repair-52107068045/dp/B081C4TZXK/ref=zg_bs_g_15730491_d_sccl_34/137-5565607-0668155?psc=1',\n",
       " '35': 'https://www.amazon.com/Motorcraft-MM948-Power-Seat-Motor/dp/B000EQ82Z0/ref=zg_bs_g_15730491_d_sccl_35/137-5565607-0668155?psc=1',\n",
       " '36': 'https://www.amazon.com/labwork-6L2Z7861382EA-6L2Z7861383AA-Replacement-Mountaineer/dp/B08HS4MJBC/ref=zg_bs_g_15730491_d_sccl_36/137-5565607-0668155?psc=1',\n",
       " '37': 'https://www.amazon.com/Motorcraft-MM-968-Seat-Actuator-Motor/dp/B00809W6G4/ref=zg_bs_g_15730491_d_sccl_37/137-5565607-0668155?psc=1',\n",
       " '38': 'https://www.amazon.com/Ford-Assembly-2009-2015-Explorer-9U5Z14547C/dp/B00XZ003Z4/ref=zg_bs_g_15730491_d_sccl_38/137-5565607-0668155?psc=1',\n",
       " '39': 'https://www.amazon.com/Motorcraft-MM967-Seat-Motor/dp/B00130OGL0/ref=zg_bs_g_15730491_d_sccl_39/137-5565607-0668155?psc=1',\n",
       " '40': 'https://www.amazon.com/marddpair-6L2Z7861382EA-Replacement-Explorer-Mountaineer/dp/B09V2GTCXH/ref=zg_bs_g_15730491_d_sccl_40/137-5565607-0668155?psc=1',\n",
       " '41': 'https://www.amazon.com/439440-10350-hx162000-7532-Front-Motor-Suitable/dp/B0B1YX7X9J/ref=zg_bs_g_15730491_d_sccl_41/137-5565607-0668155?psc=1',\n",
       " '42': 'https://www.amazon.com/Premium-Compatible-Explorer-Mountaineer-2006-2010/dp/B09P55MTRN/ref=zg_bs_g_15730491_d_sccl_42/137-5565607-0668155?psc=1',\n",
       " '43': 'https://www.amazon.com/Adjuster-5609780-Chevrolet-Cadillac-Escalade/dp/B0BXX5YG2D/ref=zg_bs_g_15730491_d_sccl_43/137-5565607-0668155?psc=1',\n",
       " '44': 'https://www.amazon.com/ouyanglong-6L2Z-7861383-AA-2006-2010-Explorer-Mountaineer/dp/B0BLC7Q9SB/ref=zg_bs_g_15730491_d_sccl_44/137-5565607-0668155?psc=1',\n",
       " '45': 'https://www.amazon.com/2003-2019-Ruckus-Lowering-Storage-Container/dp/B07L6PPWQL/ref=zg_bs_g_15730491_d_sccl_45/137-5565607-0668155?psc=1',\n",
       " '46': 'https://www.amazon.com/Dorman-924-556-Power-Seat-Motor/dp/B00902G2RE/ref=zg_bs_g_15730491_d_sccl_46/137-5565607-0668155?psc=1',\n",
       " '47': 'https://www.amazon.com/Replacement-Seat-Motor-Front-Right/dp/B0BYCPTXFR/ref=zg_bs_g_15730491_d_sccl_47/137-5565607-0668155?psc=1',\n",
       " '48': 'https://www.amazon.com/Motorcraft-MM923-Power-Seat-Motor/dp/B000EQ830E/ref=zg_bs_g_15730491_d_sccl_48/137-5565607-0668155?psc=1',\n",
       " '49': 'https://www.amazon.com/Country-Height-Adjuster-5609780-Repair/dp/B0BDM6RFYH/ref=zg_bs_g_15730491_d_sccl_49/137-5565607-0668155?psc=1',\n",
       " '50': 'https://www.amazon.com/Repair-Thigh-Actuator-Support-2001-2014/dp/B09XWSSVLY/ref=zg_bs_g_15730491_d_sccl_50/137-5565607-0668155?psc=1',\n",
       " '51': 'https://www.amazon.com/Bicos-6L2Z7861382EA-Explorer-Mountaineer-6L2Z-7861382-EA/dp/B0BZTTY6F5/ref=zg_bs_g_15730491_d_sccl_1/137-5565607-0668155?psc=1',\n",
       " '52': 'https://www.amazon.com/waltyotur-6L2Z7861383AA-6L2Z-7861383-AA-Replacement-Mountaineer/dp/B09L8554GV/ref=zg_bs_g_15730491_d_sccl_2/137-5565607-0668155?psc=1',\n",
       " '53': 'https://www.amazon.com/LABLT-Replacement-2006-2010-Mountaineer-6L2Z7861383AA/dp/B0C61W1Z59/ref=zg_bs_g_15730491_d_sccl_3/137-5565607-0668155?psc=1',\n",
       " '54': 'https://www.amazon.com/Silscvtt-6L2Z7861383AA-6L2Z7861382EA-Replacement-Mountaineer/dp/B0BSQ8PWDP/ref=zg_bs_g_15730491_d_sccl_4/137-5565607-0668155?psc=1',\n",
       " '55': 'https://www.amazon.com/Chevrolet-GMC-Trucks-2X-Seat/dp/B0BDWSZ81S/ref=zg_bs_g_15730491_d_sccl_5/137-5565607-0668155?psc=1',\n",
       " '56': 'https://www.amazon.com/waltyotur-6L2Z7861383AA-6L2Z-7861383-AA-Replacement-Mountaineer/dp/B09L841B2D/ref=zg_bs_g_15730491_d_sccl_6/137-5565607-0668155?psc=1',\n",
       " '57': 'https://www.amazon.com/Genuine-2088200842/dp/B009HC3PL8/ref=zg_bs_g_15730491_d_sccl_7/137-5565607-0668155?psc=1',\n",
       " '58': 'https://www.amazon.com/Premium-Compatible-Explorer-Mountaineer-2006-2010/dp/B09WH6WRFN/ref=zg_bs_g_15730491_d_sccl_8/137-5565607-0668155?psc=1',\n",
       " '59': 'https://www.amazon.com/Seat-Height-Adjuster-Motor-5609780/dp/B0BDW2CM7V/ref=zg_bs_g_15730491_d_sccl_9/137-5565607-0668155?psc=1',\n",
       " '60': 'https://www.amazon.com/Bicos-6L2Z7861383AA-6L2Z7861382EA-6L2Z-7861383-AA-6L2Z-7861382-EA/dp/B0BZTWT5YZ/ref=zg_bs_g_15730491_d_sccl_10/137-5565607-0668155?psc=1',\n",
       " '61': 'https://www.amazon.com/ACDelco-19257602-Original-Equipment-Motor/dp/B00B4LCJG2/ref=zg_bs_g_15730491_d_sccl_11/137-5565607-0668155?psc=1',\n",
       " '62': 'https://www.amazon.com/marddpair-6L2Z7861383AA-Replacement-Explorer-Mountaineer/dp/B09V2JL6JK/ref=zg_bs_g_15730491_d_sccl_12/137-5565607-0668155?psc=1',\n",
       " '63': 'https://www.amazon.com/Bicos-6L2Z7861383AA-Explorer-Mountaineer-6L2Z-7861383-AA/dp/B0BZTSV4LY/ref=zg_bs_g_15730491_d_sccl_13/137-5565607-0668155?psc=1',\n",
       " '64': 'https://www.amazon.com/BMW-99-03-Adjustment-Motor-seating/dp/B00AEK6UZU/ref=zg_bs_g_15730491_d_sccl_14/137-5565607-0668155?psc=1',\n",
       " '65': 'https://www.amazon.com/Cadillac-Escalade-Avenue-Height-Adjuster/dp/B0BDVY34J9/ref=zg_bs_g_15730491_d_sccl_15/137-5565607-0668155?psc=1',\n",
       " '66': 'https://www.amazon.com/TechSmart-Power-Seat-Adjustment-C82003/dp/B00LLSIWP0/ref=zg_bs_g_15730491_d_sccl_16/137-5565607-0668155?psc=1',\n",
       " '67': 'https://www.amazon.com/2014-2018-Mazda-Motor-Driveshaft-Stainless/dp/B0CKGDMWQJ/ref=zg_bs_g_15730491_d_sccl_17/137-5565607-0668155?psc=1',\n",
       " '68': 'https://www.amazon.com/52107068045-Thigh-Support-Actuator-Repair/dp/B08R8J6HTL/ref=zg_bs_g_15730491_d_sccl_18/137-5565607-0668155?psc=1',\n",
       " '69': 'https://www.amazon.com/Ford-8A5Z-14547-B-MOTOR-ASY-SEAT/dp/B001H1UF8S/ref=zg_bs_g_15730491_d_sccl_19/137-5565607-0668155?psc=1',\n",
       " '70': 'https://www.amazon.com/Three-Durable-Support-Actuator-52107068045/dp/B0BKNZF44J/ref=zg_bs_g_15730491_d_sccl_20/137-5565607-0668155?psc=1',\n",
       " '71': 'https://www.amazon.com/Seat-Motor-Adjustment-Gear-BMW/dp/B0C4F5D7GQ/ref=zg_bs_g_15730491_d_sccl_21/137-5565607-0668155?psc=1',\n",
       " '72': 'https://www.amazon.com/Jaguar-Motor-Computer-Module-LJA2160AG/dp/B00UE2OENI/ref=zg_bs_g_15730491_d_sccl_22/137-5565607-0668155?psc=1',\n",
       " '73': 'https://www.amazon.com/Ford-6L2Z-14547-AA-MOTOR-ASY-SEAT/dp/B000NTWWOU/ref=zg_bs_g_15730491_d_sccl_23/137-5565607-0668155?psc=1',\n",
       " '74': 'https://www.amazon.com/Height-Adjuster-Repair-Cadillac-Escalade/dp/B0BFNMXQKV/ref=zg_bs_g_15730491_d_sccl_24/137-5565607-0668155?psc=1',\n",
       " '75': 'https://www.amazon.com/Motorcraft-WPT687-Power-Seat-Connector/dp/B000IYM04W/ref=zg_bs_g_15730491_d_sccl_25/137-5565607-0668155?psc=1'}"
      ]
     },
     "execution_count": 3,
     "metadata": {},
     "output_type": "execute_result"
    }
   ],
   "source": [
    "dict_url = {}\n",
    "for i in range(len(df)):\n",
    "    dict_url[str(i+1)] = df.loc[i, 'Url']\n",
    "    \n",
    "dict_url"
   ]
  },
  {
   "cell_type": "code",
   "execution_count": 4,
   "id": "2c8c4c84",
   "metadata": {},
   "outputs": [],
   "source": [
    "import os"
   ]
  },
  {
   "cell_type": "code",
   "execution_count": 5,
   "id": "56069c5f",
   "metadata": {},
   "outputs": [
    {
     "data": {
      "text/plain": [
       "75"
      ]
     },
     "execution_count": 5,
     "metadata": {},
     "output_type": "execute_result"
    }
   ],
   "source": [
    "list_file = list(os.walk('./part'))[0][2]\n",
    "if '.DS_Store' in list_file:\n",
    "    list_file.remove('.DS_Store')\n",
    "if '0.null.txt' in list_file:\n",
    "    list_file.remove('0.null.txt')\n",
    "    \n",
    "list_file.sort()\n",
    "    \n",
    "len(list_file)"
   ]
  },
  {
   "cell_type": "code",
   "execution_count": 6,
   "id": "b244d524",
   "metadata": {},
   "outputs": [
    {
     "data": {
      "text/plain": [
       "{}"
      ]
     },
     "execution_count": 6,
     "metadata": {},
     "output_type": "execute_result"
    }
   ],
   "source": [
    "dict_url = dict(filter(lambda x: x[0] + '.txt' not in list_file, dict_url.items()))\n",
    "\n",
    "dict_url"
   ]
  },
  {
   "cell_type": "code",
   "execution_count": 7,
   "id": "e51b9069",
   "metadata": {},
   "outputs": [],
   "source": [
    "import pyperclip"
   ]
  },
  {
   "cell_type": "code",
   "execution_count": 8,
   "id": "02c48936",
   "metadata": {},
   "outputs": [
    {
     "ename": "NameError",
     "evalue": "name 'data_1' is not defined",
     "output_type": "error",
     "traceback": [
      "\u001b[0;31m---------------------------------------------------------------------------\u001b[0m",
      "\u001b[0;31mNameError\u001b[0m                                 Traceback (most recent call last)",
      "Cell \u001b[0;32mIn[8], line 9\u001b[0m\n\u001b[1;32m      6\u001b[0m         data_1 \u001b[38;5;241m+\u001b[39m\u001b[38;5;241m=\u001b[39m \u001b[38;5;124m'\u001b[39m\u001b[38;5;124m\"\u001b[39m\u001b[38;5;124m'\u001b[39m \u001b[38;5;241m+\u001b[39m key \u001b[38;5;241m+\u001b[39m \u001b[38;5;124m'\u001b[39m\u001b[38;5;124m\"\u001b[39m\u001b[38;5;124m: \u001b[39m\u001b[38;5;124m\"\u001b[39m\u001b[38;5;124m'\u001b[39m \u001b[38;5;241m+\u001b[39m dict_url[key] \u001b[38;5;241m+\u001b[39m \u001b[38;5;124m'\u001b[39m\u001b[38;5;124m\"\u001b[39m\u001b[38;5;124m, \u001b[39m\u001b[38;5;124m'\u001b[39m\n\u001b[1;32m      7\u001b[0m         data_2 \u001b[38;5;241m+\u001b[39m\u001b[38;5;241m=\u001b[39m \u001b[38;5;124m'\u001b[39m\u001b[38;5;124m\"\u001b[39m\u001b[38;5;124m'\u001b[39m \u001b[38;5;241m+\u001b[39m key \u001b[38;5;241m+\u001b[39m \u001b[38;5;124m'\u001b[39m\u001b[38;5;124m\"\u001b[39m\u001b[38;5;124m, \u001b[39m\u001b[38;5;124m'\u001b[39m\n\u001b[0;32m----> 9\u001b[0m data \u001b[38;5;241m=\u001b[39m \u001b[43mdata_1\u001b[49m[:\u001b[38;5;241m-\u001b[39m\u001b[38;5;241m2\u001b[39m] \u001b[38;5;241m+\u001b[39m \u001b[38;5;124m'\u001b[39m\u001b[38;5;124m};\u001b[39m\u001b[38;5;130;01m\\n\u001b[39;00m\u001b[38;5;124m'\u001b[39m \u001b[38;5;241m+\u001b[39m data_2[:\u001b[38;5;241m-\u001b[39m\u001b[38;5;241m2\u001b[39m] \u001b[38;5;241m+\u001b[39m \u001b[38;5;124m'\u001b[39m\u001b[38;5;124m];\u001b[39m\u001b[38;5;130;01m\\n\u001b[39;00m\u001b[38;5;124m'\u001b[39m\n\u001b[1;32m     11\u001b[0m pyperclip\u001b[38;5;241m.\u001b[39mcopy(data)\n\u001b[1;32m     13\u001b[0m data\n",
      "\u001b[0;31mNameError\u001b[0m: name 'data_1' is not defined"
     ]
    }
   ],
   "source": [
    "for i, key in zip(range(len(dict_url)), dict_url):\n",
    "    if i == 0:\n",
    "        data_1 = 'let dict_url = {\"' + key + '\": \"' + dict_url[key] + '\", '\n",
    "        data_2 = 'let list_key = [\"' + key + '\", '\n",
    "    else:\n",
    "        data_1 += '\"' + key + '\": \"' + dict_url[key] + '\", '\n",
    "        data_2 += '\"' + key + '\", '\n",
    "\n",
    "data = data_1[:-2] + '};\\n' + data_2[:-2] + '];\\n'\n",
    "\n",
    "pyperclip.copy(data)\n",
    "\n",
    "data"
   ]
  },
  {
   "cell_type": "code",
   "execution_count": null,
   "id": "ff4dd310",
   "metadata": {},
   "outputs": [],
   "source": []
  }
 ],
 "metadata": {
  "kernelspec": {
   "display_name": "Python 3 (ipykernel)",
   "language": "python",
   "name": "python3"
  },
  "language_info": {
   "codemirror_mode": {
    "name": "ipython",
    "version": 3
   },
   "file_extension": ".py",
   "mimetype": "text/x-python",
   "name": "python",
   "nbconvert_exporter": "python",
   "pygments_lexer": "ipython3",
   "version": "3.11.3"
  }
 },
 "nbformat": 4,
 "nbformat_minor": 5
}
