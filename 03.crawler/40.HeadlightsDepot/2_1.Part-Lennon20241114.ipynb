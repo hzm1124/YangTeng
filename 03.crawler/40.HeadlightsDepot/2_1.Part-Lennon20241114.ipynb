{
 "cells": [
  {
   "cell_type": "code",
   "execution_count": 1,
   "id": "4f9b8583-ca2c-4a91-ac45-82c3a384282c",
   "metadata": {},
   "outputs": [],
   "source": [
    "import pandas as pd\n",
    "import pyperclip"
   ]
  },
  {
   "cell_type": "code",
   "execution_count": 2,
   "id": "7d273bca-64b5-4e8d-b2f0-d7e31a9d0b52",
   "metadata": {
    "scrolled": true
   },
   "outputs": [
    {
     "data": {
      "text/plain": [
       "'let list_url = [\"https://www.headlightsdepot.com/07-12-nissan-altima-fog-lights-driver-and-passenger-side-set-sku-ds687-b100p.html\", \"https://www.headlightsdepot.com/13-18-ram-1500-ss3-led-pod-sport-ram-vertical-kit-white-sae-fog-sku-dd6672-gbfg.html\", \"https://www.headlightsdepot.com/14-17-jeep-wrangler-morimoto-xb-led-fogs-type-m-set-black-sku-lf030.html\", \"https://www.headlightsdepot.com/18-20-ford-f-150-capa-certified-fog-light-with-bracket-left-driver-right-passenger-pair-sku-330-2052p-ac.html\", \"https://www.headlightsdepot.com/1997-2000-dodge-dakota-1998-2000-dodge-passenger-side-fog-light-sku-cs125-b000r.html\", \"https://www.headlightsdepot.com/1997-2005-buick-century-1997-2004-buick-regal-driver-side-fog-light-sku-gm512-b000l.html\", \"https://www.headlightsdepot.com/1999-2002-chevy-silverado-2000-2006-tahoe-suburban-fog-light-passenger-side-sku-gm308-b000r.html\", \"https://www.headlightsdepot.com/1999-2002-chevy-silverado-2000-2006-tahoe-suburban-fog-lights-set-left-right-driver-side-assembly-sku-gm308-b000p.html\", \"https://www.headlightsdepot.com/2001-2004-ford-superduty-pickup-2001-2004-ford-f-250-2001-2004-ford-f-350-2001-2004-ford-f-450-2001-2004-ford-f-550-2001-2004-ford-excursion-factory-installed-fog-sku-fr542-b000p.html\", \"https://www.headlightsdepot.com/2001-2004-ford-superduty-pickup-2001-2004-ford-f-250-2001-2004-ford-f-350-2001-2004-ford-f-450-2001-2004-ford-f-550-2001-2004-ford-excursion-factory-installed-fog-light-right-hand-passengers-side-sku-fr542-b000r.html\"];\\n'"
      ]
     },
     "execution_count": 2,
     "metadata": {},
     "output_type": "execute_result"
    }
   ],
   "source": [
    "df_input = pd.read_excel('./file/1.url.xlsx',\n",
    "                         header=0,\n",
    "                         dtype=str).fillna('')\n",
    "\n",
    "df_input['Page'] = df_input['Page'].astype(int)\n",
    "df_input['No'] = df_input['No'].astype(int)\n",
    "\n",
    "for i, url in enumerate(df_input['Url'].tolist()):\n",
    "    if i == 0:\n",
    "        data = f'let list_url = [\"{url}\", '\n",
    "    else:\n",
    "        data += f'\"{url}\", '\n",
    "data = f'{data[:-2]}];\\n'\n",
    "\n",
    "pyperclip.copy(data)\n",
    "\n",
    "data"
   ]
  },
  {
   "cell_type": "code",
   "execution_count": null,
   "id": "1aebc3c8-70e6-4576-ad93-73c08af7277d",
   "metadata": {},
   "outputs": [],
   "source": []
  }
 ],
 "metadata": {
  "kernelspec": {
   "display_name": "Python 3 (ipykernel)",
   "language": "python",
   "name": "python3"
  },
  "language_info": {
   "codemirror_mode": {
    "name": "ipython",
    "version": 3
   },
   "file_extension": ".py",
   "mimetype": "text/x-python",
   "name": "python",
   "nbconvert_exporter": "python",
   "pygments_lexer": "ipython3",
   "version": "3.12.7"
  }
 },
 "nbformat": 4,
 "nbformat_minor": 5
}
