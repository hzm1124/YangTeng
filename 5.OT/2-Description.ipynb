{
 "cells": [
  {
   "cell_type": "markdown",
   "id": "ff12281f",
   "metadata": {},
   "source": [
    "- Update: 2023.01.14\n",
    "\n",
    "# 0. 配置参数\n",
    "\n",
    "- `category`：what the fuck"
   ]
  },
  {
   "cell_type": "code",
   "execution_count": 1,
   "id": "3380fc1f",
   "metadata": {},
   "outputs": [],
   "source": [
    "category = 'Brake Hydraulic Hose'\n",
    "\n",
    "str_vehicle = '''Lexus RX300 1999-2003\n",
    "Toyota Avalon 1995-2004\n",
    "Toyota Camry 1992-1996;1997-2001\n",
    "Toyota Solara 1999-2003'''\n",
    "\n",
    "note = 'Rear Left'"
   ]
  },
  {
   "cell_type": "code",
   "execution_count": 2,
   "id": "cf0584ee",
   "metadata": {},
   "outputs": [],
   "source": [
    "import pyperclip"
   ]
  },
  {
   "cell_type": "code",
   "execution_count": 3,
   "id": "86dd267b",
   "metadata": {},
   "outputs": [
    {
     "name": "stdout",
     "output_type": "stream",
     "text": [
      "For Lexus RX300 1999-2003 Toyota Avalon Camry Solara Brake Hydraulic Hose, Rear Left\n"
     ]
    }
   ],
   "source": [
    "list_vehicle = str_vehicle.split('\\n')\n",
    "for i in range(len(list_vehicle)):\n",
    "    list_str = list_vehicle[i].split(' ')\n",
    "    if i == 0:\n",
    "        now_make = list_str[0]\n",
    "        description = 'For ' + list_vehicle[0]\n",
    "    else:\n",
    "        if list_str[0] == now_make:\n",
    "            description += ' ' + ' '.join(list_str[1:-1])\n",
    "        else:\n",
    "            now_make = list_str[0]\n",
    "            description += ' ' + list_str[0] + ' ' + ' '.join(list_str[1:-1])\n",
    "\n",
    "description += ' ' + category + ', ' + note\n",
    "pyperclip.copy(description)\n",
    "print(description)"
   ]
  },
  {
   "cell_type": "code",
   "execution_count": null,
   "id": "b45f3c8d",
   "metadata": {},
   "outputs": [],
   "source": []
  }
 ],
 "metadata": {
  "kernelspec": {
   "display_name": "Python 3 (ipykernel)",
   "language": "python",
   "name": "python3"
  },
  "language_info": {
   "codemirror_mode": {
    "name": "ipython",
    "version": 3
   },
   "file_extension": ".py",
   "mimetype": "text/x-python",
   "name": "python",
   "nbconvert_exporter": "python",
   "pygments_lexer": "ipython3",
   "version": "3.9.12"
  }
 },
 "nbformat": 4,
 "nbformat_minor": 5
}
