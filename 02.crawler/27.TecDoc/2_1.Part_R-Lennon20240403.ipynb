{
 "cells": [
  {
   "cell_type": "code",
   "execution_count": 1,
   "id": "882f9201",
   "metadata": {},
   "outputs": [],
   "source": [
    "param_x_api_key = '2BeBXg68o3pSd6GQvdyS5erm1aSyJUdKxZcgwsrEukJHa1mYjko5'"
   ]
  },
  {
   "cell_type": "code",
   "execution_count": 2,
   "id": "aac44a48",
   "metadata": {},
   "outputs": [],
   "source": [
    "import pandas as pd\n",
    "\n",
    "output_correct = pd.DataFrame()\n",
    "output_error = pd.DataFrame()"
   ]
  },
  {
   "cell_type": "code",
   "execution_count": 3,
   "id": "625180e9",
   "metadata": {},
   "outputs": [
    {
     "name": "stdout",
     "output_type": "stream",
     "text": [
      "总数量：1\n"
     ]
    },
    {
     "data": {
      "text/plain": [
       "['[DKHD]-[210-1146]']"
      ]
     },
     "execution_count": 3,
     "metadata": {},
     "output_type": "execute_result"
    }
   ],
   "source": [
    "input_ = pd.read_excel('./menu.xlsx',\n",
    "                       header=0,\n",
    "                       dtype=str).fillna('')\n",
    "\n",
    "print('总数量：' + str(len(input_)))\n",
    "input_['Row_Id'].tolist()"
   ]
  },
  {
   "cell_type": "code",
   "execution_count": 4,
   "id": "287cb149",
   "metadata": {},
   "outputs": [
    {
     "data": {
      "text/plain": [
       "'error'"
      ]
     },
     "execution_count": 4,
     "metadata": {},
     "output_type": "execute_result"
    }
   ],
   "source": [
    "crawler_status = 'error'\n",
    "\n",
    "crawler_status"
   ]
  },
  {
   "cell_type": "code",
   "execution_count": 5,
   "id": "4c4efd91",
   "metadata": {},
   "outputs": [],
   "source": [
    "import requests\n",
    "\n",
    "import sys\n",
    "sys.path.append('../00.Tools')\n",
    "import UA\n",
    "import Proxy"
   ]
  },
  {
   "cell_type": "code",
   "execution_count": 6,
   "id": "f4d0ee82",
   "metadata": {
    "scrolled": true
   },
   "outputs": [
    {
     "data": {
      "text/plain": [
       "'{\"piesItem\":{\"partNumber\":\"210-1146\",\"brandCode\":\"DKHD\",\"brandName\":\"Walker Products\",\"brandAdditionalInfo\":{\"isKnowYourParts\":false,\"websiteURL\":\"https:\\\\/\\\\/www.walkerproducts.com\\\\/\",\"logoImageURL50x20\":\"https:\\\\/\\\\/digital-assets.opticatonline.com\\\\/brand-logos\\\\/50x20\\\\/walker-products-raster.gif\",\"logoImageURL100x40\":\"https:\\\\/\\\\/digital-assets.opticatonline.com\\\\/brand-logos\\\\/100x40\\\\/walker-products-raster.gif\",\"logoImageURL200x80\":\"https:\\\\/\\\\/digital-assets.opticatonline.com\\\\/brand-logos\\\\/200x80\\\\/walker-products-raster.gif\",\"logoImageURL400x160\":\"https:\\\\/\\\\/digital-assets.opticatonline.com\\\\/brand-logos\\\\/400x160\\\\/walker-products-raster.gif\",\"logoImageURL800x320\":\"https:\\\\/\\\\/digital-assets.opticatonline.com\\\\/brand-logos\\\\/800x320\\\\/walker-products-raster.gif\"},\"brandLabel\":\"Walker Products\",\"hasACESApplications\":true,\"categoryId\":9,\"categoryName\":\"Emission Control\",\"subCategoryId\":202,\"subCategoryName\":\"Sensors\",\"partTypeId\":5120,\"partTypeName\":\"Engine Intake Manifold Temperature Sensor\",\"hazardousMaterialCode\":false,\"itemLevelGTIN\":{\"gtin\":\"00724620204364\",\"qualifierCode\":\"UP\",\"qualifierName\":\"UPC\"},\"itemQuantitySize\":{\"value\":1.0,\"uomCode\":\"EA\",\"uomName\":\"Each\"},\"containerTypeUOMCode\":\"BX\",\"containerTypeUOMName\":\"Box\",\"quantityPerApplication\":{\"value\":1,\"uomCode\":\"EA\",\"uomName\":\"Each\"},\"aaiaProductCategory\":{\"code\":\"650201\",\"categoryCode\":\"65\",\"categoryName\":\"Application Electrical\",\"subCategoryCode\":\"02\",\"subCategoryName\":\"Engine Management Sensors\",\"segmentCode\":\"01\",\"segmentName\":\"Air Charge Temperature Sensors\",\"notes\":\"\"},\"descriptions\":[{\"value\":\"Dodge Ram 2500 2002-1998, Ram 3500 2002-1998\",\"descriptionTypeCode\":\"APS\",\"descriptionTypeName\":\"Application Summary\",\"languageCode\":\"EN\"},{\"value\":\"Walker Products components are manufactured using only premium materials and meet or exceed original equipment specifications.\",\"descriptionTypeCode\":\"FAB\",\"descriptionTypeName\":\"Features and Benefits\",\"languageCode\":\"EN\"},{\"value\":\"IMTS\",\"descriptionTypeCode\":\"ABR\",\"descriptionTypeName\":\"Product Description - Abbreviated\",\"languageCode\":\"EN\"},{\"value\":\"Walker Products 210-1146 Intake Manifold Temperature Sensor\",\"descriptionTypeCode\":\"LAB\",\"descriptionTypeName\":\"Product Description - Label\",\"languageCode\":\"EN\"},{\"value\":\"Temperature Sensor\",\"descriptionTypeCode\":\"SHO\",\"descriptionTypeName\":\"Product Description - Short\",\"languageCode\":\"EN\"},{\"value\":\"Walker Products 210-1146 Intake Temp Sns\",\"descriptionTypeCode\":\"INV\",\"descriptionTypeName\":\"Product Description - Invoice\",\"languageCode\":\"EN\"},{\"value\":\"Engine Intake Manifold Temperature Sensor\",\"descriptionTypeCode\":\"TLE\",\"descriptionTypeName\":\"Product Description - SEO\",\"languageCode\":\"EN\"},{\"value\":\"Walker Products 210-1146 Engine Intake Manifold Temperature Sensor\",\"descriptionTypeCode\":\"DES\",\"descriptionTypeName\":\"Product Description - Long\",\"languageCode\":\"EN\"},{\"value\":\"Walker Products began supplying the fuel system needs of the automotive industry in 1946. Today Walker is one of the largest, privately owned manufacturers of fuel system components and engine sensors, and has served the needs of the worldwide automotive aftermarket. We are committed to supplying products manufactured to meet or exceed OEM standards and specifications. This effort is backed by our own manufacturing, product management and engineering staff to ensure it is maintained and accurate in the production of quality parts, vehicle applications, instruction sheets and technical support. Our products include Carburetor and Fuel Injection Repair Kits, Oxygen Sensors and other Engine Management products such as Throttle Position Sensors, Cam and Crankshaft Sensors, Fuel Injectors, Spark Plug Wires and Gaskets. As an ISO 9001\\\\/IATF16949 certified company, we are committed to supplying the highest quality products. © 2023 Walker Products Inc. All rights reserved.\",\"descriptionTypeCode\":\"MKT\",\"descriptionTypeName\":\"Marketing Description\",\"languageCode\":\"EN\"}],\"extendedInformation\":[{\"value\":\"Y\",\"formattedValue\":\"Yes\",\"expiCode\":\"TAX\",\"expiName\":\"Taxable\",\"languageCode\":\"EN\"},{\"value\":\"1\",\"formattedValue\":\"CARB Eligible\",\"expiCode\":\"EMS\",\"expiName\":\"Emission Code\",\"languageCode\":\"EN\"},{\"value\":\"N\",\"formattedValue\":\"No\",\"expiCode\":\"MSR\",\"expiName\":\"SDR Required Flag\",\"languageCode\":\"EN\"},{\"value\":\"BR\",\"formattedValue\":\"Brazil\",\"expiCode\":\"CTO\",\"expiName\":\"Country of Origin (Primary)\",\"languageCode\":\"EN\"},{\"value\":\"8533408070\",\"formattedValue\":\"8533408070\",\"expiCode\":\"HTS\",\"expiName\":\"Harmonized Tariff Code (HTS)\",\"languageCode\":\"EN\"},{\"value\":\"C\",\"formattedValue\":\"(C) Next 15% of Product Group Sales Value\",\"expiCode\":\"NPC\",\"expiName\":\"National Popularity Code\"},{\"value\":\"Next 15% of Product Group Sales Value\",\"formattedValue\":\"Next 15% of Product Group Sales Value\",\"expiCode\":\"NPD\",\"expiName\":\"National Popularity Description\",\"isDuplicateDescriptionOfEXPICode\":\"NPC\"},{\"value\":\"2\",\"formattedValue\":\"Available to Order\",\"expiCode\":\"LIF\",\"expiName\":\"Life Cycle Status Code\"},{\"value\":\"Available to Order\",\"formattedValue\":\"Available to Order\",\"expiCode\":\"LIS\",\"expiName\":\"Life Cycle Status Description\",\"isDuplicateDescriptionOfEXPICode\":\"LIF\"}],\"productAttributes\":[{\"value\":\"WARNING: This product can expose you to chemicals, including lead, which is known to the State of California to cause cancer or birth defects or other reproductive harm. www.p65warnings.ca.gov\",\"attributeId\":\"CA_Prop65_Lead\",\"isPAdbAttribute\":false,\"customAttributeName\":\"CA_Prop65_Lead\"},{\"value\":\"Pin\",\"languageCode\":\"EN\",\"attributeId\":\"29\",\"isPAdbAttribute\":true,\"padbAttributeId\":29,\"padbAttributeName\":\"Terminal Type\",\"padbAttributeDescription\":\"Describes Type Of Terminal\"},{\"value\":\"1\",\"languageCode\":\"EN\",\"attributeId\":\"342\",\"isPAdbAttribute\":true,\"padbAttributeId\":342,\"padbAttributeName\":\"Connector Quantity\",\"padbAttributeDescription\":\"Describes Quantity\"},{\"value\":\"Oblong\",\"languageCode\":\"EN\",\"attributeId\":\"344\",\"isPAdbAttribute\":true,\"padbAttributeId\":344,\"padbAttributeName\":\"Connector Shape\",\"padbAttributeDescription\":\"Describes Shape\"},{\"value\":\"2\",\"languageCode\":\"EN\",\"attributeId\":\"42\",\"isPAdbAttribute\":true,\"padbAttributeId\":42,\"padbAttributeName\":\"Terminal Quantity\",\"padbAttributeDescription\":\"Describe Quantity\"},{\"value\":\"Female\",\"languageCode\":\"EN\",\"attributeId\":\"43\",\"isPAdbAttribute\":true,\"padbAttributeId\":43,\"padbAttributeName\":\"Connector Gender\",\"padbAttributeDescription\":\"Describe Gender\"},{\"value\":\"Male\",\"languageCode\":\"EN\",\"attributeId\":\"44\",\"isPAdbAttribute\":true,\"padbAttributeId\":44,\"padbAttributeName\":\"Terminal Gender\",\"padbAttributeDescription\":\"Describe Gender\"}],\"packages\":[{\"packageUOMCode\":\"PL\",\"packageUOMName\":\"Pallet\",\"quantityOfEaches\":10500,\"dimensions\":{\"height\":75.0000,\"width\":40.0000,\"length\":48.0000,\"shippingHeight\":48.0000,\"shippingWidth\":40.0000,\"shippingLength\":75.0000,\"uomCode\":\"IN\",\"uomName\":\"Inch\"},\"weights\":{\"weight\":549.7700,\"uomCode\":\"PG\",\"uomName\":\"Pounds Gross\"},\"hazardousMaterials\":[]},{\"packageLevelGTINNumber\":\"20724620204368\",\"packageUOMCode\":\"CA\",\"packageUOMName\":\"Case\",\"quantityOfEaches\":150,\"dimensions\":{\"height\":7.0000,\"width\":13.0000,\"length\":20.0000,\"shippingHeight\":7.0000,\"shippingWidth\":13.0000,\"shippingLength\":20.0000,\"uomCode\":\"IN\",\"uomName\":\"Inch\"},\"weights\":{\"weight\":14.4220,\"uomCode\":\"PG\",\"uomName\":\"Pounds Gross\"},\"hazardousMaterials\":[]},{\"packageLevelGTINNumber\":\"00724620204364\",\"packageBarCodeCharacters\":\"724620204364\",\"packageUOMCode\":\"EA\",\"packageUOMName\":\"Smallest Pack (Consumer Level)\",\"quantityOfEaches\":1,\"dimensions\":{\"height\":1.5000,\"width\":2.2500,\"length\":3.0000,\"shippingHeight\":3.0000,\"shippingWidth\":2.2500,\"shippingLength\":1.5000,\"uomCode\":\"IN\",\"uomName\":\"Inch\"},\"weights\":{\"weight\":0.0900,\"uomCode\":\"PG\",\"uomName\":\"Pounds Gross\"},\"hazardousMaterials\":[]}],\"kits\":[],\"partInterchanges\":[{\"interchangeTypeCode\":\"O\",\"brandCode\":\"BWRV\",\"brandName\":\"Chrysler\",\"partNumber\":\"5011402AA\"},{\"interchangeTypeCode\":\"S\",\"brandCode\":\"FVCM\",\"brandName\":\"MTE-THOMSON\",\"brandAdditionalInfo\":{\"isKnowYourParts\":false,\"websiteURL\":\"https:\\\\/\\\\/www.mte-thomson.com.br\\\\/\",\"logoImageURL50x20\":\"https:\\\\/\\\\/digital-assets.opticatonline.com\\\\/brand-logos\\\\/50x20\\\\/mte-thomson.gif\",\"logoImageURL100x40\":\"https:\\\\/\\\\/digital-assets.opticatonline.com\\\\/brand-logos\\\\/100x40\\\\/mte-thomson.gif\",\"logoImageURL200x80\":\"https:\\\\/\\\\/digital-assets.opticatonline.com\\\\/brand-logos\\\\/200x80\\\\/mte-thomson.gif\",\"logoImageURL400x160\":\"https:\\\\/\\\\/digital-assets.opticatonline.com\\\\/brand-logos\\\\/400x160\\\\/mte-thomson.gif\",\"logoImageURL800x320\":\"https:\\\\/\\\\/digital-assets.opticatonline.com\\\\/brand-logos\\\\/800x320\\\\/mte-thomson.gif\"},\"partNumber\":\"5097\"},{\"interchangeTypeCode\":\"S\",\"brandCode\":\"GXDN\",\"brandName\":\"SMP\",\"brandAdditionalInfo\":{\"isKnowYourParts\":false,\"websiteURL\":\"https:\\\\/\\\\/www.smp-automotive.com\\\\/de\\\\/\",\"logoImageURL50x20\":\"https:\\\\/\\\\/digital-assets.opticatonline.com\\\\/brand-logos\\\\/50x20\\\\/standard.gif\",\"logoImageURL100x40\":\"https:\\\\/\\\\/digital-assets.opticatonline.com\\\\/brand-logos\\\\/100x40\\\\/standard.gif\",\"logoImageURL200x80\":\"https:\\\\/\\\\/digital-assets.opticatonline.com\\\\/brand-logos\\\\/200x80\\\\/standard.gif\",\"logoImageURL400x160\":\"https:\\\\/\\\\/digital-assets.opticatonline.com\\\\/brand-logos\\\\/400x160\\\\/standard.gif\",\"logoImageURL800x320\":\"https:\\\\/\\\\/digital-assets.opticatonline.com\\\\/brand-logos\\\\/800x320\\\\/standard.gif\"},\"partNumber\":\"AX68\"}],\"digitalAssets\":[{\"assetTypeCode\":\"P04\",\"assetTypeName\":\"Photo - Primary\",\"representationTypeCode\":\"A\",\"representationTypeName\":\"Actual\",\"orientationViewTypeCode\":\"ANG\",\"orientationViewTypeName\":\"Angle\",\"languageCode\":\"EN\",\"imageURL50\":\"https:\\\\/\\\\/digital-assets.opticatonline.com\\\\/images\\\\/50\\\\/3c4e16288b4e26d661e75d0d2f350b5b6987492f.jpg\",\"imageURL100\":\"https:\\\\/\\\\/digital-assets.opticatonline.com\\\\/images\\\\/100\\\\/3c4e16288b4e26d661e75d0d2f350b5b6987492f.jpg\",\"imageURL200\":\"https:\\\\/\\\\/digital-assets.opticatonline.com\\\\/images\\\\/200\\\\/3c4e16288b4e26d661e75d0d2f350b5b6987492f.jpg\",\"imageURL400\":\"https:\\\\/\\\\/digital-assets.opticatonline.com\\\\/images\\\\/400\\\\/3c4e16288b4e26d661e75d0d2f350b5b6987492f.jpg\",\"imageURL800\":\"https:\\\\/\\\\/digital-assets.opticatonline.com\\\\/images\\\\/800\\\\/3c4e16288b4e26d661e75d0d2f350b5b6987492f.jpg\",\"imageURL1600\":\"https:\\\\/\\\\/digital-assets.opticatonline.com\\\\/images\\\\/1600\\\\/3c4e16288b4e26d661e75d0d2f350b5b6987492f.jpg\",\"imageURL3200\":\"https:\\\\/\\\\/digital-assets.opticatonline.com\\\\/images\\\\/3200\\\\/3c4e16288b4e26d661e75d0d2f350b5b6987492f.jpg\",\"descriptions\":[],\"fileName\":\"210-1146_1.jpg\"},{\"assetTypeCode\":\"P05\",\"assetTypeName\":\"Photo - Close Up\",\"representationTypeCode\":\"A\",\"representationTypeName\":\"Actual\",\"orientationViewTypeCode\":\"ANG\",\"orientationViewTypeName\":\"Angle\",\"languageCode\":\"EN\",\"imageURL50\":\"https:\\\\/\\\\/digital-assets.opticatonline.com\\\\/images\\\\/50\\\\/ec0f8752dc7c0b425811ace2fa62bf294b102685.jpg\",\"imageURL100\":\"https:\\\\/\\\\/digital-assets.opticatonline.com\\\\/images\\\\/100\\\\/ec0f8752dc7c0b425811ace2fa62bf294b102685.jpg\",\"imageURL200\":\"https:\\\\/\\\\/digital-assets.opticatonline.com\\\\/images\\\\/200\\\\/ec0f8752dc7c0b425811ace2fa62bf294b102685.jpg\",\"imageURL400\":\"https:\\\\/\\\\/digital-assets.opticatonline.com\\\\/images\\\\/400\\\\/ec0f8752dc7c0b425811ace2fa62bf294b102685.jpg\",\"imageURL800\":\"https:\\\\/\\\\/digital-assets.opticatonline.com\\\\/images\\\\/800\\\\/ec0f8752dc7c0b425811ace2fa62bf294b102685.jpg\",\"imageURL1600\":\"https:\\\\/\\\\/digital-assets.opticatonline.com\\\\/images\\\\/1600\\\\/ec0f8752dc7c0b425811ace2fa62bf294b102685.jpg\",\"imageURL3200\":\"https:\\\\/\\\\/digital-assets.opticatonline.com\\\\/images\\\\/3200\\\\/ec0f8752dc7c0b425811ace2fa62bf294b102685.jpg\",\"descriptions\":[],\"fileName\":\"210-1146_2.jpg\"},{\"assetTypeCode\":\"P05\",\"assetTypeName\":\"Photo - Close Up\",\"representationTypeCode\":\"A\",\"representationTypeName\":\"Actual\",\"orientationViewTypeCode\":\"ANG\",\"orientationViewTypeName\":\"Angle\",\"languageCode\":\"EN\",\"imageURL50\":\"https:\\\\/\\\\/digital-assets.opticatonline.com\\\\/images\\\\/50\\\\/2141fa35e810d309feccf212539ad10c7aadbd53.jpg\",\"imageURL100\":\"https:\\\\/\\\\/digital-assets.opticatonline.com\\\\/images\\\\/100\\\\/2141fa35e810d309feccf212539ad10c7aadbd53.jpg\",\"imageURL200\":\"https:\\\\/\\\\/digital-assets.opticatonline.com\\\\/images\\\\/200\\\\/2141fa35e810d309feccf212539ad10c7aadbd53.jpg\",\"imageURL400\":\"https:\\\\/\\\\/digital-assets.opticatonline.com\\\\/images\\\\/400\\\\/2141fa35e810d309feccf212539ad10c7aadbd53.jpg\",\"imageURL800\":\"https:\\\\/\\\\/digital-assets.opticatonline.com\\\\/images\\\\/800\\\\/2141fa35e810d309feccf212539ad10c7aadbd53.jpg\",\"imageURL1600\":\"https:\\\\/\\\\/digital-assets.opticatonline.com\\\\/images\\\\/1600\\\\/2141fa35e810d309feccf212539ad10c7aadbd53.jpg\",\"imageURL3200\":\"https:\\\\/\\\\/digital-assets.opticatonline.com\\\\/images\\\\/3200\\\\/2141fa35e810d309feccf212539ad10c7aadbd53.jpg\",\"descriptions\":[],\"fileName\":\"210-1146_4.jpg\"},{\"assetTypeCode\":\"P05\",\"assetTypeName\":\"Photo - Close Up\",\"representationTypeCode\":\"A\",\"representationTypeName\":\"Actual\",\"orientationViewTypeCode\":\"CON\",\"orientationViewTypeName\":\"Connector\",\"languageCode\":\"EN\",\"imageURL50\":\"https:\\\\/\\\\/digital-assets.opticatonline.com\\\\/images\\\\/50\\\\/6da9fb66da2af138f4cca2821ace8d84378945fe.jpg\",\"imageURL100\":\"https:\\\\/\\\\/digital-assets.opticatonline.com\\\\/images\\\\/100\\\\/6da9fb66da2af138f4cca2821ace8d84378945fe.jpg\",\"imageURL200\":\"https:\\\\/\\\\/digital-assets.opticatonline.com\\\\/images\\\\/200\\\\/6da9fb66da2af138f4cca2821ace8d84378945fe.jpg\",\"imageURL400\":\"https:\\\\/\\\\/digital-assets.opticatonline.com\\\\/images\\\\/400\\\\/6da9fb66da2af138f4cca2821ace8d84378945fe.jpg\",\"imageURL800\":\"https:\\\\/\\\\/digital-assets.opticatonline.com\\\\/images\\\\/800\\\\/6da9fb66da2af138f4cca2821ace8d84378945fe.jpg\",\"imageURL1600\":\"https:\\\\/\\\\/digital-assets.opticatonline.com\\\\/images\\\\/1600\\\\/6da9fb66da2af138f4cca2821ace8d84378945fe.jpg\",\"imageURL3200\":\"https:\\\\/\\\\/digital-assets.opticatonline.com\\\\/images\\\\/3200\\\\/6da9fb66da2af138f4cca2821ace8d84378945fe.jpg\",\"descriptions\":[],\"fileName\":\"210-1146_3.jpg\"},{\"assetId\":\"prop65_Lead\",\"assetTypeCode\":\"RGL\",\"orientationViewTypeCode\":\"NUL\",\"orientationViewTypeName\":\"Not Applicable\",\"languageCode\":\"EN\",\"imageURL50\":\"https:\\\\/\\\\/digital-assets.opticatonline.com\\\\/images\\\\/50\\\\/1072aa79f1c4416303eb83f980783675c9c2afdb.jpg\",\"imageURL100\":\"https:\\\\/\\\\/digital-assets.opticatonline.com\\\\/images\\\\/100\\\\/1072aa79f1c4416303eb83f980783675c9c2afdb.jpg\",\"imageURL200\":\"https:\\\\/\\\\/digital-assets.opticatonline.com\\\\/images\\\\/200\\\\/1072aa79f1c4416303eb83f980783675c9c2afdb.jpg\",\"imageURL400\":\"https:\\\\/\\\\/digital-assets.opticatonline.com\\\\/images\\\\/400\\\\/1072aa79f1c4416303eb83f980783675c9c2afdb.jpg\",\"imageURL800\":\"https:\\\\/\\\\/digital-assets.opticatonline.com\\\\/images\\\\/800\\\\/1072aa79f1c4416303eb83f980783675c9c2afdb.jpg\",\"imageURL1600\":\"https:\\\\/\\\\/digital-assets.opticatonline.com\\\\/images\\\\/1600\\\\/1072aa79f1c4416303eb83f980783675c9c2afdb.jpg\",\"imageURL3200\":\"https:\\\\/\\\\/digital-assets.opticatonline.com\\\\/images\\\\/3200\\\\/1072aa79f1c4416303eb83f980783675c9c2afdb.jpg\",\"descriptions\":[],\"fileName\":\"ca_P65_Lead.jpg\"}]},\"status\":200}'"
      ]
     },
     "execution_count": 6,
     "metadata": {},
     "output_type": "execute_result"
    }
   ],
   "source": [
    "a = 0\n",
    "\n",
    "data = '{\"getAutoCarePartDetails\":{\"brandCode\":\"' + input_.loc[a, 'Row_Id'].split(']-[')[0].replace('[', '').strip() + '\",\"partNumber\":\"' + input_.loc[a, 'Row_Id'].split(']-[')[1].replace(']', '').strip() + '\"}}'\n",
    "\n",
    "headers = UA.get_User_Agent_Requests()\n",
    "headers['X-Api-Key'] = param_x_api_key\n",
    "\n",
    "resp = requests.post('https://webservice.opticatonline.com/autocare/v1/services/Catalog.jsonEndpoint',\n",
    "                     data=data,\n",
    "                     headers=headers,\n",
    "                     proxies=Proxy.get_Proxy_Requests()).text\n",
    "\n",
    "resp"
   ]
  },
  {
   "cell_type": "code",
   "execution_count": 7,
   "id": "2380928e",
   "metadata": {},
   "outputs": [],
   "source": [
    "import json"
   ]
  },
  {
   "cell_type": "code",
   "execution_count": 8,
   "id": "25ac6be0",
   "metadata": {},
   "outputs": [
    {
     "data": {
      "text/plain": [
       "{'piesItem': {'partNumber': '210-1146',\n",
       "  'brandCode': 'DKHD',\n",
       "  'brandName': 'Walker Products',\n",
       "  'brandAdditionalInfo': {'isKnowYourParts': False,\n",
       "   'websiteURL': 'https://www.walkerproducts.com/',\n",
       "   'logoImageURL50x20': 'https://digital-assets.opticatonline.com/brand-logos/50x20/walker-products-raster.gif',\n",
       "   'logoImageURL100x40': 'https://digital-assets.opticatonline.com/brand-logos/100x40/walker-products-raster.gif',\n",
       "   'logoImageURL200x80': 'https://digital-assets.opticatonline.com/brand-logos/200x80/walker-products-raster.gif',\n",
       "   'logoImageURL400x160': 'https://digital-assets.opticatonline.com/brand-logos/400x160/walker-products-raster.gif',\n",
       "   'logoImageURL800x320': 'https://digital-assets.opticatonline.com/brand-logos/800x320/walker-products-raster.gif'},\n",
       "  'brandLabel': 'Walker Products',\n",
       "  'hasACESApplications': True,\n",
       "  'categoryId': 9,\n",
       "  'categoryName': 'Emission Control',\n",
       "  'subCategoryId': 202,\n",
       "  'subCategoryName': 'Sensors',\n",
       "  'partTypeId': 5120,\n",
       "  'partTypeName': 'Engine Intake Manifold Temperature Sensor',\n",
       "  'hazardousMaterialCode': False,\n",
       "  'itemLevelGTIN': {'gtin': '00724620204364',\n",
       "   'qualifierCode': 'UP',\n",
       "   'qualifierName': 'UPC'},\n",
       "  'itemQuantitySize': {'value': 1.0, 'uomCode': 'EA', 'uomName': 'Each'},\n",
       "  'containerTypeUOMCode': 'BX',\n",
       "  'containerTypeUOMName': 'Box',\n",
       "  'quantityPerApplication': {'value': 1, 'uomCode': 'EA', 'uomName': 'Each'},\n",
       "  'aaiaProductCategory': {'code': '650201',\n",
       "   'categoryCode': '65',\n",
       "   'categoryName': 'Application Electrical',\n",
       "   'subCategoryCode': '02',\n",
       "   'subCategoryName': 'Engine Management Sensors',\n",
       "   'segmentCode': '01',\n",
       "   'segmentName': 'Air Charge Temperature Sensors',\n",
       "   'notes': ''},\n",
       "  'descriptions': [{'value': 'Dodge Ram 2500 2002-1998, Ram 3500 2002-1998',\n",
       "    'descriptionTypeCode': 'APS',\n",
       "    'descriptionTypeName': 'Application Summary',\n",
       "    'languageCode': 'EN'},\n",
       "   {'value': 'Walker Products components are manufactured using only premium materials and meet or exceed original equipment specifications.',\n",
       "    'descriptionTypeCode': 'FAB',\n",
       "    'descriptionTypeName': 'Features and Benefits',\n",
       "    'languageCode': 'EN'},\n",
       "   {'value': 'IMTS',\n",
       "    'descriptionTypeCode': 'ABR',\n",
       "    'descriptionTypeName': 'Product Description - Abbreviated',\n",
       "    'languageCode': 'EN'},\n",
       "   {'value': 'Walker Products 210-1146 Intake Manifold Temperature Sensor',\n",
       "    'descriptionTypeCode': 'LAB',\n",
       "    'descriptionTypeName': 'Product Description - Label',\n",
       "    'languageCode': 'EN'},\n",
       "   {'value': 'Temperature Sensor',\n",
       "    'descriptionTypeCode': 'SHO',\n",
       "    'descriptionTypeName': 'Product Description - Short',\n",
       "    'languageCode': 'EN'},\n",
       "   {'value': 'Walker Products 210-1146 Intake Temp Sns',\n",
       "    'descriptionTypeCode': 'INV',\n",
       "    'descriptionTypeName': 'Product Description - Invoice',\n",
       "    'languageCode': 'EN'},\n",
       "   {'value': 'Engine Intake Manifold Temperature Sensor',\n",
       "    'descriptionTypeCode': 'TLE',\n",
       "    'descriptionTypeName': 'Product Description - SEO',\n",
       "    'languageCode': 'EN'},\n",
       "   {'value': 'Walker Products 210-1146 Engine Intake Manifold Temperature Sensor',\n",
       "    'descriptionTypeCode': 'DES',\n",
       "    'descriptionTypeName': 'Product Description - Long',\n",
       "    'languageCode': 'EN'},\n",
       "   {'value': 'Walker Products began supplying the fuel system needs of the automotive industry in 1946. Today Walker is one of the largest, privately owned manufacturers of fuel system components and engine sensors, and has served the needs of the worldwide automotive aftermarket. We are committed to supplying products manufactured to meet or exceed OEM standards and specifications. This effort is backed by our own manufacturing, product management and engineering staff to ensure it is maintained and accurate in the production of quality parts, vehicle applications, instruction sheets and technical support. Our products include Carburetor and Fuel Injection Repair Kits, Oxygen Sensors and other Engine Management products such as Throttle Position Sensors, Cam and Crankshaft Sensors, Fuel Injectors, Spark Plug Wires and Gaskets. As an ISO 9001/IATF16949 certified company, we are committed to supplying the highest quality products. © 2023 Walker Products Inc. All rights reserved.',\n",
       "    'descriptionTypeCode': 'MKT',\n",
       "    'descriptionTypeName': 'Marketing Description',\n",
       "    'languageCode': 'EN'}],\n",
       "  'extendedInformation': [{'value': 'Y',\n",
       "    'formattedValue': 'Yes',\n",
       "    'expiCode': 'TAX',\n",
       "    'expiName': 'Taxable',\n",
       "    'languageCode': 'EN'},\n",
       "   {'value': '1',\n",
       "    'formattedValue': 'CARB Eligible',\n",
       "    'expiCode': 'EMS',\n",
       "    'expiName': 'Emission Code',\n",
       "    'languageCode': 'EN'},\n",
       "   {'value': 'N',\n",
       "    'formattedValue': 'No',\n",
       "    'expiCode': 'MSR',\n",
       "    'expiName': 'SDR Required Flag',\n",
       "    'languageCode': 'EN'},\n",
       "   {'value': 'BR',\n",
       "    'formattedValue': 'Brazil',\n",
       "    'expiCode': 'CTO',\n",
       "    'expiName': 'Country of Origin (Primary)',\n",
       "    'languageCode': 'EN'},\n",
       "   {'value': '8533408070',\n",
       "    'formattedValue': '8533408070',\n",
       "    'expiCode': 'HTS',\n",
       "    'expiName': 'Harmonized Tariff Code (HTS)',\n",
       "    'languageCode': 'EN'},\n",
       "   {'value': 'C',\n",
       "    'formattedValue': '(C) Next 15% of Product Group Sales Value',\n",
       "    'expiCode': 'NPC',\n",
       "    'expiName': 'National Popularity Code'},\n",
       "   {'value': 'Next 15% of Product Group Sales Value',\n",
       "    'formattedValue': 'Next 15% of Product Group Sales Value',\n",
       "    'expiCode': 'NPD',\n",
       "    'expiName': 'National Popularity Description',\n",
       "    'isDuplicateDescriptionOfEXPICode': 'NPC'},\n",
       "   {'value': '2',\n",
       "    'formattedValue': 'Available to Order',\n",
       "    'expiCode': 'LIF',\n",
       "    'expiName': 'Life Cycle Status Code'},\n",
       "   {'value': 'Available to Order',\n",
       "    'formattedValue': 'Available to Order',\n",
       "    'expiCode': 'LIS',\n",
       "    'expiName': 'Life Cycle Status Description',\n",
       "    'isDuplicateDescriptionOfEXPICode': 'LIF'}],\n",
       "  'productAttributes': [{'value': 'WARNING: This product can expose you to chemicals, including lead, which is known to the State of California to cause cancer or birth defects or other reproductive harm. www.p65warnings.ca.gov',\n",
       "    'attributeId': 'CA_Prop65_Lead',\n",
       "    'isPAdbAttribute': False,\n",
       "    'customAttributeName': 'CA_Prop65_Lead'},\n",
       "   {'value': 'Pin',\n",
       "    'languageCode': 'EN',\n",
       "    'attributeId': '29',\n",
       "    'isPAdbAttribute': True,\n",
       "    'padbAttributeId': 29,\n",
       "    'padbAttributeName': 'Terminal Type',\n",
       "    'padbAttributeDescription': 'Describes Type Of Terminal'},\n",
       "   {'value': '1',\n",
       "    'languageCode': 'EN',\n",
       "    'attributeId': '342',\n",
       "    'isPAdbAttribute': True,\n",
       "    'padbAttributeId': 342,\n",
       "    'padbAttributeName': 'Connector Quantity',\n",
       "    'padbAttributeDescription': 'Describes Quantity'},\n",
       "   {'value': 'Oblong',\n",
       "    'languageCode': 'EN',\n",
       "    'attributeId': '344',\n",
       "    'isPAdbAttribute': True,\n",
       "    'padbAttributeId': 344,\n",
       "    'padbAttributeName': 'Connector Shape',\n",
       "    'padbAttributeDescription': 'Describes Shape'},\n",
       "   {'value': '2',\n",
       "    'languageCode': 'EN',\n",
       "    'attributeId': '42',\n",
       "    'isPAdbAttribute': True,\n",
       "    'padbAttributeId': 42,\n",
       "    'padbAttributeName': 'Terminal Quantity',\n",
       "    'padbAttributeDescription': 'Describe Quantity'},\n",
       "   {'value': 'Female',\n",
       "    'languageCode': 'EN',\n",
       "    'attributeId': '43',\n",
       "    'isPAdbAttribute': True,\n",
       "    'padbAttributeId': 43,\n",
       "    'padbAttributeName': 'Connector Gender',\n",
       "    'padbAttributeDescription': 'Describe Gender'},\n",
       "   {'value': 'Male',\n",
       "    'languageCode': 'EN',\n",
       "    'attributeId': '44',\n",
       "    'isPAdbAttribute': True,\n",
       "    'padbAttributeId': 44,\n",
       "    'padbAttributeName': 'Terminal Gender',\n",
       "    'padbAttributeDescription': 'Describe Gender'}],\n",
       "  'packages': [{'packageUOMCode': 'PL',\n",
       "    'packageUOMName': 'Pallet',\n",
       "    'quantityOfEaches': 10500,\n",
       "    'dimensions': {'height': 75.0,\n",
       "     'width': 40.0,\n",
       "     'length': 48.0,\n",
       "     'shippingHeight': 48.0,\n",
       "     'shippingWidth': 40.0,\n",
       "     'shippingLength': 75.0,\n",
       "     'uomCode': 'IN',\n",
       "     'uomName': 'Inch'},\n",
       "    'weights': {'weight': 549.77, 'uomCode': 'PG', 'uomName': 'Pounds Gross'},\n",
       "    'hazardousMaterials': []},\n",
       "   {'packageLevelGTINNumber': '20724620204368',\n",
       "    'packageUOMCode': 'CA',\n",
       "    'packageUOMName': 'Case',\n",
       "    'quantityOfEaches': 150,\n",
       "    'dimensions': {'height': 7.0,\n",
       "     'width': 13.0,\n",
       "     'length': 20.0,\n",
       "     'shippingHeight': 7.0,\n",
       "     'shippingWidth': 13.0,\n",
       "     'shippingLength': 20.0,\n",
       "     'uomCode': 'IN',\n",
       "     'uomName': 'Inch'},\n",
       "    'weights': {'weight': 14.422, 'uomCode': 'PG', 'uomName': 'Pounds Gross'},\n",
       "    'hazardousMaterials': []},\n",
       "   {'packageLevelGTINNumber': '00724620204364',\n",
       "    'packageBarCodeCharacters': '724620204364',\n",
       "    'packageUOMCode': 'EA',\n",
       "    'packageUOMName': 'Smallest Pack (Consumer Level)',\n",
       "    'quantityOfEaches': 1,\n",
       "    'dimensions': {'height': 1.5,\n",
       "     'width': 2.25,\n",
       "     'length': 3.0,\n",
       "     'shippingHeight': 3.0,\n",
       "     'shippingWidth': 2.25,\n",
       "     'shippingLength': 1.5,\n",
       "     'uomCode': 'IN',\n",
       "     'uomName': 'Inch'},\n",
       "    'weights': {'weight': 0.09, 'uomCode': 'PG', 'uomName': 'Pounds Gross'},\n",
       "    'hazardousMaterials': []}],\n",
       "  'kits': [],\n",
       "  'partInterchanges': [{'interchangeTypeCode': 'O',\n",
       "    'brandCode': 'BWRV',\n",
       "    'brandName': 'Chrysler',\n",
       "    'partNumber': '5011402AA'},\n",
       "   {'interchangeTypeCode': 'S',\n",
       "    'brandCode': 'FVCM',\n",
       "    'brandName': 'MTE-THOMSON',\n",
       "    'brandAdditionalInfo': {'isKnowYourParts': False,\n",
       "     'websiteURL': 'https://www.mte-thomson.com.br/',\n",
       "     'logoImageURL50x20': 'https://digital-assets.opticatonline.com/brand-logos/50x20/mte-thomson.gif',\n",
       "     'logoImageURL100x40': 'https://digital-assets.opticatonline.com/brand-logos/100x40/mte-thomson.gif',\n",
       "     'logoImageURL200x80': 'https://digital-assets.opticatonline.com/brand-logos/200x80/mte-thomson.gif',\n",
       "     'logoImageURL400x160': 'https://digital-assets.opticatonline.com/brand-logos/400x160/mte-thomson.gif',\n",
       "     'logoImageURL800x320': 'https://digital-assets.opticatonline.com/brand-logos/800x320/mte-thomson.gif'},\n",
       "    'partNumber': '5097'},\n",
       "   {'interchangeTypeCode': 'S',\n",
       "    'brandCode': 'GXDN',\n",
       "    'brandName': 'SMP',\n",
       "    'brandAdditionalInfo': {'isKnowYourParts': False,\n",
       "     'websiteURL': 'https://www.smp-automotive.com/de/',\n",
       "     'logoImageURL50x20': 'https://digital-assets.opticatonline.com/brand-logos/50x20/standard.gif',\n",
       "     'logoImageURL100x40': 'https://digital-assets.opticatonline.com/brand-logos/100x40/standard.gif',\n",
       "     'logoImageURL200x80': 'https://digital-assets.opticatonline.com/brand-logos/200x80/standard.gif',\n",
       "     'logoImageURL400x160': 'https://digital-assets.opticatonline.com/brand-logos/400x160/standard.gif',\n",
       "     'logoImageURL800x320': 'https://digital-assets.opticatonline.com/brand-logos/800x320/standard.gif'},\n",
       "    'partNumber': 'AX68'}],\n",
       "  'digitalAssets': [{'assetTypeCode': 'P04',\n",
       "    'assetTypeName': 'Photo - Primary',\n",
       "    'representationTypeCode': 'A',\n",
       "    'representationTypeName': 'Actual',\n",
       "    'orientationViewTypeCode': 'ANG',\n",
       "    'orientationViewTypeName': 'Angle',\n",
       "    'languageCode': 'EN',\n",
       "    'imageURL50': 'https://digital-assets.opticatonline.com/images/50/3c4e16288b4e26d661e75d0d2f350b5b6987492f.jpg',\n",
       "    'imageURL100': 'https://digital-assets.opticatonline.com/images/100/3c4e16288b4e26d661e75d0d2f350b5b6987492f.jpg',\n",
       "    'imageURL200': 'https://digital-assets.opticatonline.com/images/200/3c4e16288b4e26d661e75d0d2f350b5b6987492f.jpg',\n",
       "    'imageURL400': 'https://digital-assets.opticatonline.com/images/400/3c4e16288b4e26d661e75d0d2f350b5b6987492f.jpg',\n",
       "    'imageURL800': 'https://digital-assets.opticatonline.com/images/800/3c4e16288b4e26d661e75d0d2f350b5b6987492f.jpg',\n",
       "    'imageURL1600': 'https://digital-assets.opticatonline.com/images/1600/3c4e16288b4e26d661e75d0d2f350b5b6987492f.jpg',\n",
       "    'imageURL3200': 'https://digital-assets.opticatonline.com/images/3200/3c4e16288b4e26d661e75d0d2f350b5b6987492f.jpg',\n",
       "    'descriptions': [],\n",
       "    'fileName': '210-1146_1.jpg'},\n",
       "   {'assetTypeCode': 'P05',\n",
       "    'assetTypeName': 'Photo - Close Up',\n",
       "    'representationTypeCode': 'A',\n",
       "    'representationTypeName': 'Actual',\n",
       "    'orientationViewTypeCode': 'ANG',\n",
       "    'orientationViewTypeName': 'Angle',\n",
       "    'languageCode': 'EN',\n",
       "    'imageURL50': 'https://digital-assets.opticatonline.com/images/50/ec0f8752dc7c0b425811ace2fa62bf294b102685.jpg',\n",
       "    'imageURL100': 'https://digital-assets.opticatonline.com/images/100/ec0f8752dc7c0b425811ace2fa62bf294b102685.jpg',\n",
       "    'imageURL200': 'https://digital-assets.opticatonline.com/images/200/ec0f8752dc7c0b425811ace2fa62bf294b102685.jpg',\n",
       "    'imageURL400': 'https://digital-assets.opticatonline.com/images/400/ec0f8752dc7c0b425811ace2fa62bf294b102685.jpg',\n",
       "    'imageURL800': 'https://digital-assets.opticatonline.com/images/800/ec0f8752dc7c0b425811ace2fa62bf294b102685.jpg',\n",
       "    'imageURL1600': 'https://digital-assets.opticatonline.com/images/1600/ec0f8752dc7c0b425811ace2fa62bf294b102685.jpg',\n",
       "    'imageURL3200': 'https://digital-assets.opticatonline.com/images/3200/ec0f8752dc7c0b425811ace2fa62bf294b102685.jpg',\n",
       "    'descriptions': [],\n",
       "    'fileName': '210-1146_2.jpg'},\n",
       "   {'assetTypeCode': 'P05',\n",
       "    'assetTypeName': 'Photo - Close Up',\n",
       "    'representationTypeCode': 'A',\n",
       "    'representationTypeName': 'Actual',\n",
       "    'orientationViewTypeCode': 'ANG',\n",
       "    'orientationViewTypeName': 'Angle',\n",
       "    'languageCode': 'EN',\n",
       "    'imageURL50': 'https://digital-assets.opticatonline.com/images/50/2141fa35e810d309feccf212539ad10c7aadbd53.jpg',\n",
       "    'imageURL100': 'https://digital-assets.opticatonline.com/images/100/2141fa35e810d309feccf212539ad10c7aadbd53.jpg',\n",
       "    'imageURL200': 'https://digital-assets.opticatonline.com/images/200/2141fa35e810d309feccf212539ad10c7aadbd53.jpg',\n",
       "    'imageURL400': 'https://digital-assets.opticatonline.com/images/400/2141fa35e810d309feccf212539ad10c7aadbd53.jpg',\n",
       "    'imageURL800': 'https://digital-assets.opticatonline.com/images/800/2141fa35e810d309feccf212539ad10c7aadbd53.jpg',\n",
       "    'imageURL1600': 'https://digital-assets.opticatonline.com/images/1600/2141fa35e810d309feccf212539ad10c7aadbd53.jpg',\n",
       "    'imageURL3200': 'https://digital-assets.opticatonline.com/images/3200/2141fa35e810d309feccf212539ad10c7aadbd53.jpg',\n",
       "    'descriptions': [],\n",
       "    'fileName': '210-1146_4.jpg'},\n",
       "   {'assetTypeCode': 'P05',\n",
       "    'assetTypeName': 'Photo - Close Up',\n",
       "    'representationTypeCode': 'A',\n",
       "    'representationTypeName': 'Actual',\n",
       "    'orientationViewTypeCode': 'CON',\n",
       "    'orientationViewTypeName': 'Connector',\n",
       "    'languageCode': 'EN',\n",
       "    'imageURL50': 'https://digital-assets.opticatonline.com/images/50/6da9fb66da2af138f4cca2821ace8d84378945fe.jpg',\n",
       "    'imageURL100': 'https://digital-assets.opticatonline.com/images/100/6da9fb66da2af138f4cca2821ace8d84378945fe.jpg',\n",
       "    'imageURL200': 'https://digital-assets.opticatonline.com/images/200/6da9fb66da2af138f4cca2821ace8d84378945fe.jpg',\n",
       "    'imageURL400': 'https://digital-assets.opticatonline.com/images/400/6da9fb66da2af138f4cca2821ace8d84378945fe.jpg',\n",
       "    'imageURL800': 'https://digital-assets.opticatonline.com/images/800/6da9fb66da2af138f4cca2821ace8d84378945fe.jpg',\n",
       "    'imageURL1600': 'https://digital-assets.opticatonline.com/images/1600/6da9fb66da2af138f4cca2821ace8d84378945fe.jpg',\n",
       "    'imageURL3200': 'https://digital-assets.opticatonline.com/images/3200/6da9fb66da2af138f4cca2821ace8d84378945fe.jpg',\n",
       "    'descriptions': [],\n",
       "    'fileName': '210-1146_3.jpg'},\n",
       "   {'assetId': 'prop65_Lead',\n",
       "    'assetTypeCode': 'RGL',\n",
       "    'orientationViewTypeCode': 'NUL',\n",
       "    'orientationViewTypeName': 'Not Applicable',\n",
       "    'languageCode': 'EN',\n",
       "    'imageURL50': 'https://digital-assets.opticatonline.com/images/50/1072aa79f1c4416303eb83f980783675c9c2afdb.jpg',\n",
       "    'imageURL100': 'https://digital-assets.opticatonline.com/images/100/1072aa79f1c4416303eb83f980783675c9c2afdb.jpg',\n",
       "    'imageURL200': 'https://digital-assets.opticatonline.com/images/200/1072aa79f1c4416303eb83f980783675c9c2afdb.jpg',\n",
       "    'imageURL400': 'https://digital-assets.opticatonline.com/images/400/1072aa79f1c4416303eb83f980783675c9c2afdb.jpg',\n",
       "    'imageURL800': 'https://digital-assets.opticatonline.com/images/800/1072aa79f1c4416303eb83f980783675c9c2afdb.jpg',\n",
       "    'imageURL1600': 'https://digital-assets.opticatonline.com/images/1600/1072aa79f1c4416303eb83f980783675c9c2afdb.jpg',\n",
       "    'imageURL3200': 'https://digital-assets.opticatonline.com/images/3200/1072aa79f1c4416303eb83f980783675c9c2afdb.jpg',\n",
       "    'descriptions': [],\n",
       "    'fileName': 'ca_P65_Lead.jpg'}]},\n",
       " 'status': 200}"
      ]
     },
     "execution_count": 8,
     "metadata": {},
     "output_type": "execute_result"
    }
   ],
   "source": [
    "json_data = json.loads(resp)\n",
    "\n",
    "json_data"
   ]
  },
  {
   "cell_type": "code",
   "execution_count": 9,
   "id": "6ad0a122",
   "metadata": {},
   "outputs": [
    {
     "data": {
      "text/plain": [
       "'210-1146'"
      ]
     },
     "execution_count": 9,
     "metadata": {},
     "output_type": "execute_result"
    }
   ],
   "source": [
    "part_number = json_data['piesItem']['partNumber'].strip()\n",
    "\n",
    "part_number"
   ]
  },
  {
   "cell_type": "code",
   "execution_count": 10,
   "id": "5f1fe800",
   "metadata": {},
   "outputs": [
    {
     "data": {
      "text/plain": [
       "'DKHD'"
      ]
     },
     "execution_count": 10,
     "metadata": {},
     "output_type": "execute_result"
    }
   ],
   "source": [
    "brand_id = json_data['piesItem']['brandCode'].strip()\n",
    "\n",
    "brand_id"
   ]
  },
  {
   "cell_type": "code",
   "execution_count": 11,
   "id": "79a4f71b",
   "metadata": {},
   "outputs": [
    {
     "data": {
      "text/plain": [
       "'Walker Products'"
      ]
     },
     "execution_count": 11,
     "metadata": {},
     "output_type": "execute_result"
    }
   ],
   "source": [
    "brand = json_data['piesItem']['brandName'].strip()\n",
    "\n",
    "brand"
   ]
  },
  {
   "cell_type": "code",
   "execution_count": 12,
   "id": "280ff192",
   "metadata": {},
   "outputs": [
    {
     "data": {
      "text/plain": [
       "'https://www.walkerproducts.com/'"
      ]
     },
     "execution_count": 12,
     "metadata": {},
     "output_type": "execute_result"
    }
   ],
   "source": [
    "manufacturer_website = json_data['piesItem']['brandAdditionalInfo']['websiteURL'].strip()\n",
    "\n",
    "manufacturer_website"
   ]
  },
  {
   "cell_type": "code",
   "execution_count": 13,
   "id": "100874e2",
   "metadata": {},
   "outputs": [
    {
     "data": {
      "text/plain": [
       "'https://web.tecalliance.net/walkerproducts/qa/parts/DKHD/210-1146/ap-detail'"
      ]
     },
     "execution_count": 13,
     "metadata": {},
     "output_type": "execute_result"
    }
   ],
   "source": [
    "'https://web.tecalliance.net/walkerproducts/qa/parts/' + brand_id + '/' + part_number + '/ap-detail'"
   ]
  },
  {
   "cell_type": "code",
   "execution_count": 14,
   "id": "ca9ae59b",
   "metadata": {},
   "outputs": [
    {
     "data": {
      "text/plain": [
       "'00724620204364'"
      ]
     },
     "execution_count": 14,
     "metadata": {},
     "output_type": "execute_result"
    }
   ],
   "source": [
    "gtin_ean = ''\n",
    "if 'itemLevelGTIN' in json_data['piesItem']:\n",
    "    gtin_ean = json_data['piesItem']['itemLevelGTIN']['gtin'].strip()\n",
    "\n",
    "gtin_ean"
   ]
  },
  {
   "cell_type": "code",
   "execution_count": 15,
   "id": "9979fc73",
   "metadata": {},
   "outputs": [
    {
     "data": {
      "text/plain": [
       "'Emission Control > Sensors > Engine Intake Manifold Temperature Sensor'"
      ]
     },
     "execution_count": 15,
     "metadata": {},
     "output_type": "execute_result"
    }
   ],
   "source": [
    "type_of_part = json_data['piesItem']['categoryName'].strip() + ' > ' + json_data['piesItem']['subCategoryName'].strip() + ' > ' + json_data['piesItem']['partTypeName'].strip()\n",
    "\n",
    "type_of_part"
   ]
  },
  {
   "cell_type": "code",
   "execution_count": 16,
   "id": "173b1d11",
   "metadata": {},
   "outputs": [
    {
     "data": {
      "text/plain": [
       "'https://web.tecalliance.net/walkerproducts/qa/parts/DKHD/210-1146/ap-detail'"
      ]
     },
     "execution_count": 16,
     "metadata": {},
     "output_type": "execute_result"
    }
   ],
   "source": [
    "'https://web.tecalliance.net/walkerproducts/qa/parts/' + brand_id + '/' + part_number + '/ap-detail'"
   ]
  },
  {
   "cell_type": "code",
   "execution_count": 17,
   "id": "a2ecc924",
   "metadata": {},
   "outputs": [
    {
     "data": {
      "text/plain": [
       "False"
      ]
     },
     "execution_count": 17,
     "metadata": {},
     "output_type": "execute_result"
    }
   ],
   "source": [
    "environmentally_hazardous_material = ''\n",
    "if 'hazardousMaterialCode' in json_data['piesItem']:\n",
    "    environmentally_hazardous_material = json_data['piesItem']['hazardousMaterialCode']\n",
    "\n",
    "environmentally_hazardous_material"
   ]
  },
  {
   "cell_type": "code",
   "execution_count": 18,
   "id": "f6d7522f",
   "metadata": {},
   "outputs": [
    {
     "data": {
      "text/plain": [
       "True"
      ]
     },
     "execution_count": 18,
     "metadata": {},
     "output_type": "execute_result"
    }
   ],
   "source": [
    "aces_applications_available = json_data['piesItem']['hasACESApplications']\n",
    "\n",
    "aces_applications_available"
   ]
  },
  {
   "cell_type": "code",
   "execution_count": 19,
   "id": "5d18d61a",
   "metadata": {},
   "outputs": [
    {
     "data": {
      "text/plain": [
       "'1.0 Each'"
      ]
     },
     "execution_count": 19,
     "metadata": {},
     "output_type": "execute_result"
    }
   ],
   "source": [
    "number_of_parts = str(json_data['piesItem']['itemQuantitySize']['value']) + ' ' + json_data['piesItem']['itemQuantitySize']['uomName'].strip()\n",
    "\n",
    "number_of_parts"
   ]
  },
  {
   "cell_type": "code",
   "execution_count": 20,
   "id": "ca69768d",
   "metadata": {},
   "outputs": [
    {
     "data": {
      "text/plain": [
       "'Box'"
      ]
     },
     "execution_count": 20,
     "metadata": {},
     "output_type": "execute_result"
    }
   ],
   "source": [
    "type_of_container = json_data['piesItem']['containerTypeUOMName'].strip()\n",
    "\n",
    "type_of_container"
   ]
  },
  {
   "cell_type": "code",
   "execution_count": 21,
   "id": "ef3e9b72",
   "metadata": {},
   "outputs": [
    {
     "data": {
      "text/plain": [
       "'1 Each'"
      ]
     },
     "execution_count": 21,
     "metadata": {},
     "output_type": "execute_result"
    }
   ],
   "source": [
    "quantity_per_application = str(json_data['piesItem']['quantityPerApplication']['value']) + ' ' + json_data['piesItem']['quantityPerApplication']['uomName'].strip()\n",
    "\n",
    "quantity_per_application"
   ]
  },
  {
   "cell_type": "code",
   "execution_count": 23,
   "id": "48e0c1ec",
   "metadata": {},
   "outputs": [
    {
     "data": {
      "text/plain": [
       "'https://web.tecalliance.net/walkerproducts/qa/parts/DKHD/210-1146/ap-detail'"
      ]
     },
     "execution_count": 23,
     "metadata": {},
     "output_type": "execute_result"
    }
   ],
   "source": [
    "'https://web.tecalliance.net/walkerproducts/qa/parts/' + brand_id + '/' + part_number + '/ap-detail'"
   ]
  },
  {
   "cell_type": "code",
   "execution_count": 24,
   "id": "9be963e5",
   "metadata": {},
   "outputs": [
    {
     "data": {
      "text/plain": [
       "''"
      ]
     },
     "execution_count": 24,
     "metadata": {},
     "output_type": "execute_result"
    }
   ],
   "source": [
    "minimum_order = ''\n",
    "if 'minimumOrderQuantity' in json_data['piesItem']:\n",
    "    minimum_order = str(json_data['piesItem']['minimumOrderQuantity']['value']) + ' ' + json_data['piesItem']['minimumOrderQuantity']['uomName'].strip()\n",
    "\n",
    "minimum_order"
   ]
  },
  {
   "cell_type": "code",
   "execution_count": null,
   "id": "a1f80508",
   "metadata": {},
   "outputs": [],
   "source": [
    "list_description = json_data['piesItem']['descriptions']\n",
    "\n",
    "len(list_description)"
   ]
  },
  {
   "cell_type": "code",
   "execution_count": null,
   "id": "d3ad2844",
   "metadata": {},
   "outputs": [],
   "source": [
    "list_extended_information = json_data['piesItem']['extendedInformation']\n",
    "\n",
    "len(list_extended_information)"
   ]
  },
  {
   "cell_type": "code",
   "execution_count": null,
   "id": "799f62ff",
   "metadata": {},
   "outputs": [],
   "source": [
    "list_product_attribute = json_data['piesItem']['productAttributes']\n",
    "\n",
    "len(list_product_attribute)"
   ]
  },
  {
   "cell_type": "code",
   "execution_count": null,
   "id": "2252e27f",
   "metadata": {},
   "outputs": [],
   "source": [
    "list_package = json_data['piesItem']['packages']\n",
    "\n",
    "len(list_package)"
   ]
  },
  {
   "cell_type": "code",
   "execution_count": null,
   "id": "348d2c43",
   "metadata": {},
   "outputs": [],
   "source": [
    "oe = ';'.join([oe['partNumber'].strip() for oe in json_data['piesItem']['partInterchanges']])\n",
    "\n",
    "oe"
   ]
  },
  {
   "cell_type": "code",
   "execution_count": null,
   "id": "5dcd3ca0",
   "metadata": {
    "scrolled": true
   },
   "outputs": [],
   "source": [
    "json_data['piesItem']['digitalAssets']"
   ]
  },
  {
   "cell_type": "code",
   "execution_count": null,
   "id": "f05c085b",
   "metadata": {},
   "outputs": [],
   "source": [
    "src = ''\n",
    "list_src = json_data['piesItem']['digitalAssets']\n",
    "for src_ in list_src:\n",
    "    if 'imageURL3200' in src_:\n",
    "        src = src_['imageURL3200'].strip()\n",
    "        break\n",
    "        \n",
    "src"
   ]
  },
  {
   "cell_type": "code",
   "execution_count": null,
   "id": "f0b86735",
   "metadata": {
    "scrolled": true
   },
   "outputs": [],
   "source": [
    "df_temp = pd.DataFrame([{'序号': int(input_.loc[a, 'No.']),\n",
    "                         'Part_Number': part_number,\n",
    "                         'Brand_Id': brand_id,\n",
    "                         'Brand': brand,\n",
    "                         'Manufacturer_Website': manufacturer_website,\n",
    "                         'GTIN_EAN': gtin_ean,\n",
    "                         'Type_Of_Part': type_of_part,\n",
    "                         'Environmentally_Hazardous_Material': environmentally_hazardous_material,\n",
    "                         'ACES_Applications_Available': aces_applications_available,\n",
    "                         'Number_Of_Parts': number_of_parts,\n",
    "                         'Type_Of_Container': type_of_container,\n",
    "                         'Qantity_Per_Aplication': quantity_per_application,\n",
    "                         'Minimum_Order': minimum_order,\n",
    "                         'Vehicle': '',\n",
    "                         'OE': oe,\n",
    "                         'Pic': '',\n",
    "                         'Url': 'https://web.tecalliance.net/walkerproducts/qa/parts/' + brand_id + '/' + part_number + '/ap-detail',\n",
    "                         'Src': src,\n",
    "                         'Vehicle_Page': '',\n",
    "                         'JOIN_PNBI': part_number + ';' + brand_id}])\n",
    "\n",
    "for description in list_description:\n",
    "    df_temp.loc[0, 'Description_' + description['descriptionTypeName'].strip() + ' (' + description['languageCode'].strip() + ')'] = description['value'].strip()\n",
    "    \n",
    "for extended_information in list_extended_information:\n",
    "    df_temp.loc[0, 'Additional_' + extended_information['expiName'].strip()] = extended_information['formattedValue'].strip()\n",
    "    \n",
    "for product_attribute in list_product_attribute:\n",
    "    if 'customAttributeName' in product_attribute:\n",
    "        df_temp.loc[0, 'Attribute_' + product_attribute['customAttributeName'].strip()] = product_attribute['value'].strip()\n",
    "    else:\n",
    "        df_temp.loc[0, 'Attribute_' + product_attribute['padbAttributeName'].strip()] = product_attribute['value'].strip() + ' ' + product_attribute['uomCode'].strip() if 'uomCode' in product_attribute else product_attribute['value'].strip()\n",
    "\n",
    "for i in range(len(list_package)):\n",
    "    for name in list_package[i]:\n",
    "        if name == 'dimensions':\n",
    "            df_temp.loc[0, 'Package_' + str(i+1) + '_height'] = str(list_package[i][name]['height']) + ' ' + list_package[i][name]['uomName']\n",
    "            df_temp.loc[0, 'Package_' + str(i+1) + '_width'] = str(list_package[i][name]['width']) + ' ' + list_package[i][name]['uomName']\n",
    "            df_temp.loc[0, 'Package_' + str(i+1) + '_length'] = str(list_package[i][name]['length']) + ' ' + list_package[i][name]['uomName']\n",
    "        elif name == 'weights':\n",
    "            df_temp.loc[0, 'Package_' + str(i+1) + '_weight'] = str(list_package[i][name]['weight']) + ' ' + list_package[i][name]['uomName']\n",
    "        elif list_package[i][name] == []:\n",
    "            pass\n",
    "        else:\n",
    "            df_temp.loc[0, 'Package_' + str(i+1) + '_' + name.strip()] = list_package[i][name]\n",
    "\n",
    "output_correct = pd.concat([output_correct, df_temp], ignore_index=True).fillna('')\n",
    "\n",
    "len(output_correct)"
   ]
  },
  {
   "cell_type": "code",
   "execution_count": null,
   "id": "ea9079d6",
   "metadata": {},
   "outputs": [],
   "source": [
    "crawler_status = 'ok'\n",
    "\n",
    "crawler_status"
   ]
  },
  {
   "cell_type": "code",
   "execution_count": null,
   "id": "22d4f3db",
   "metadata": {},
   "outputs": [],
   "source": [
    "if crawler_status == 'error':\n",
    "    df_temp = pd.DataFrame([{'No.': int(input_.loc[a, 'No.']),\n",
    "                             'Row_Id': input_.loc[a, 'Row_Id']}])\n",
    "    \n",
    "    output_error = pd.concat([output_error, df_temp], ignore_index=True).fillna('')\n",
    "\n",
    "len(output_error)"
   ]
  },
  {
   "cell_type": "code",
   "execution_count": null,
   "id": "412408b6",
   "metadata": {},
   "outputs": [],
   "source": [
    "output_correct = output_correct.drop_duplicates(ignore_index=True)\n",
    "output_correct = output_correct.sort_values(by=['序号'], ascending=[True]).reset_index(drop=True)\n",
    "output_correct.to_excel('./test_part.xlsx', index=False)\n",
    "\n",
    "output_correct"
   ]
  },
  {
   "cell_type": "code",
   "execution_count": null,
   "id": "17399c37",
   "metadata": {},
   "outputs": [],
   "source": [
    "if len(output_error) != 0:\n",
    "    output_error = output_error.drop_duplicates(ignore_index=True)\n",
    "    output_error = output_error.sort_values(by=['No.'], ascending=[True]).reset_index(drop=True)\n",
    "    output_error.to_excel('./test_part_error.xlsx', index=False)\n",
    "\n",
    "output_error"
   ]
  },
  {
   "cell_type": "code",
   "execution_count": null,
   "id": "3b67a89a",
   "metadata": {},
   "outputs": [],
   "source": []
  }
 ],
 "metadata": {
  "kernelspec": {
   "display_name": "Python 3 (ipykernel)",
   "language": "python",
   "name": "python3"
  },
  "language_info": {
   "codemirror_mode": {
    "name": "ipython",
    "version": 3
   },
   "file_extension": ".py",
   "mimetype": "text/x-python",
   "name": "python",
   "nbconvert_exporter": "python",
   "pygments_lexer": "ipython3",
   "version": "3.11.3"
  }
 },
 "nbformat": 4,
 "nbformat_minor": 5
}
