{
 "cells": [
  {
   "cell_type": "code",
   "execution_count": 1,
   "id": "ba98551f-b0b1-4c50-8c47-3ad3a3730b73",
   "metadata": {},
   "outputs": [
    {
     "data": {
      "text/plain": [
       "['crawler_1.xlsx', 'crawler_2.xlsx', 'crawler_3.xlsx']"
      ]
     },
     "execution_count": 1,
     "metadata": {},
     "output_type": "execute_result"
    }
   ],
   "source": [
    "import os\n",
    "\n",
    "list_file = sorted(list(os.walk('./file/1.product'))[0][2])\n",
    "while '.DS_Store' in list_file:\n",
    "    list_file.remove('.DS_Store')\n",
    "while '0.null.txt' in list_file:\n",
    "    list_file.remove('0.null.txt')\n",
    "\n",
    "list_file"
   ]
  },
  {
   "cell_type": "code",
   "execution_count": 2,
   "id": "9b75b948-9701-432e-a5ef-88d0e629bd2c",
   "metadata": {},
   "outputs": [
    {
     "data": {
      "text/plain": [
       "'crawler_1.xlsx'"
      ]
     },
     "execution_count": 2,
     "metadata": {},
     "output_type": "execute_result"
    }
   ],
   "source": [
    "file = list_file[0]\n",
    "\n",
    "file"
   ]
  },
  {
   "cell_type": "code",
   "execution_count": 3,
   "id": "76ea49e2-7cc6-4bc1-af5b-7a6768eb6c08",
   "metadata": {},
   "outputs": [],
   "source": [
    "import pandas as pd\n",
    "\n",
    "output_correct, output_error = pd.DataFrame(), pd.DataFrame()"
   ]
  },
  {
   "cell_type": "code",
   "execution_count": 4,
   "id": "5d22fc26-a390-442a-bfe3-4d409c33f1e7",
   "metadata": {
    "scrolled": true
   },
   "outputs": [
    {
     "name": "stdout",
     "output_type": "stream",
     "text": [
      "总数量：100\n"
     ]
    },
    {
     "data": {
      "text/plain": [
       "['1-1/4\" Special One-Piece Couplings - Female JIC 37° Flare Swivel',\n",
       " '12 Reel',\n",
       " '12 Reel',\n",
       " '4217IS Standard Diesel Emission Fluid',\n",
       " '4219BD Barricade™ Bio-Diesel Fuel',\n",
       " '4219BF Barricade™ GreenShield™ Fuel',\n",
       " '4219BG Barricade™ Carbureted Engines Fuel',\n",
       " '45° Silicone Coolant',\n",
       " '90° Curved Silicone',\n",
       " '90° Molded Heater',\n",
       " 'AC134A Air Conditioning PolarSeal™ I',\n",
       " 'ACC-PSII Air Conditioning PolarSeal™ II',\n",
       " 'Ag Master™ PVC Solution',\n",
       " 'Air Brake Assortments',\n",
       " 'Air Brake Coupling Nut',\n",
       " 'Air Brake Coupling Sleeve',\n",
       " 'Air Brake Coupling Spring Guard Nut',\n",
       " 'Air Brake Couplings Spring Guard',\n",
       " 'Air Brake Couplings Union',\n",
       " 'Air Brake Couplings to Female Air Brake Couplings Swivel',\n",
       " 'Air Brake Couplings to Female Air Brake Couplings Swivel with Adapter',\n",
       " 'Air Brake Couplings to Male Pipe Adapter',\n",
       " 'Air Brake Couplings to Male Pipe with Nut and Sleeve',\n",
       " 'Air Brake Couplings to Male Pipe with Spring Guard',\n",
       " 'Air Brake Couplings to Male Pipe without Nut and Sleeve',\n",
       " 'Air Brake',\n",
       " 'Air Brake Male Pipe to Female Pipe Bulkhead',\n",
       " 'Air Duct',\n",
       " 'Air Master™ Diving Umbilical',\n",
       " 'Aluminum',\n",
       " 'Angled Fuel Fill',\n",
       " 'Barb Stem Couplings',\n",
       " 'Barricade™ Carburetion',\n",
       " 'Barricade™ Carburetion',\n",
       " 'Barricade™ Fuel Injection',\n",
       " 'Barricade™ Fuel Injection',\n",
       " 'Barricade™ Fuel Injection',\n",
       " 'Black Gold™ ABS Bulk Material - 300SD',\n",
       " 'Black Gold™ ABS Mud and Oil',\n",
       " 'Black Gold™ Fuel',\n",
       " 'Black Gold™ Oilfield Frac',\n",
       " 'Black Gold™ Oilfield Service',\n",
       " 'Black Gold™ Oilfield Service 400D MegaTuff',\n",
       " 'Black Gold™ Oilfield Vacuum',\n",
       " 'Black Gold™ Potable Water',\n",
       " 'Braid Stainless Steel Couplings',\n",
       " 'Brass Lock-On Field Attachable Couplings for LOC and LOL',\n",
       " 'Bulk Master™ PVC',\n",
       " 'C14',\n",
       " 'C14 Swage Equipment',\n",
       " 'C5C Hydraulic',\n",
       " 'C5C-XH XTreme™ Heat Hydraulic',\n",
       " 'C5D Hydraulic',\n",
       " 'C5E Hydraulic',\n",
       " 'C5M Hydraulic',\n",
       " 'CM2T Wire Braid',\n",
       " 'CR1 1-Wire Braid',\n",
       " 'CR2 2-Wire Braid',\n",
       " 'Cam Gear Sprocket Tool',\n",
       " 'Charter™ Air',\n",
       " 'Chem Master™ Hydrocarbon Drain',\n",
       " 'Chem Master™ Plus XLPE',\n",
       " 'Clean Master™ 3000',\n",
       " 'Clean Master™ PW4000',\n",
       " 'Clean Master™ Plus PW6000',\n",
       " 'Clean Master™ Pressure Wash',\n",
       " 'Clean Master™ Washdown',\n",
       " 'Coal Power/Longwall Mine',\n",
       " 'Coal Power/Longwall Mine',\n",
       " 'Conductive C14 PTFE',\n",
       " 'D.O.T. Type A1 Field Attachable Couplings',\n",
       " 'D.O.T. Type A2 Field Attachable Couplings',\n",
       " 'Data Center Cooling',\n",
       " 'Dual I.D. Heater',\n",
       " 'EF Coal Power/Longwall Mine',\n",
       " 'EF Coal Power/Longwall Mine',\n",
       " 'EF Longwall Mine',\n",
       " 'EF Longwall Mine',\n",
       " 'EFG3K Spiral Wire',\n",
       " 'EFG3K-MTF Spiral Wire',\n",
       " 'EFG4K Spiral Wire',\n",
       " 'EFG4K-MTF Spiral Wire',\n",
       " 'EFG4K-XTF Spiral Wire',\n",
       " 'EFG4KL Spiral Wire',\n",
       " 'EFG5K Spiral Wire',\n",
       " 'EFG5K-MTF Spiral Wire',\n",
       " 'EFG5K-XTF Spiral Wire',\n",
       " 'EFG5KL Spiral Wire',\n",
       " 'EFG6K Spiral Wire',\n",
       " 'EFG6K-MTF Spiral Wire',\n",
       " 'EFG6KL Spiral Wire',\n",
       " 'Emission',\n",
       " 'Engine Air Intake',\n",
       " 'Engine Coolant Soft Wall',\n",
       " 'Field Attachable Type T for G1',\n",
       " 'Field Attachable Type T for G2',\n",
       " 'Flange Kits',\n",
       " 'Flexible Fuel Fill',\n",
       " 'Food Master™ Beverage 150SD CR',\n",
       " 'Food Master™ Beverage 250SD CR']"
      ]
     },
     "execution_count": 4,
     "metadata": {},
     "output_type": "execute_result"
    }
   ],
   "source": [
    "input_ = pd.read_excel(f'./file/1.product/{file}',\n",
    "                       header=0,\n",
    "                       dtype=str).fillna('')\n",
    "\n",
    "input_['Product No'] = input_['Product No'].astype(int)\n",
    "\n",
    "print(f'总数量：{len(input_)}')\n",
    "input_['Product Name'].tolist()"
   ]
  },
  {
   "cell_type": "code",
   "execution_count": 5,
   "id": "5878a9f0-d639-4123-b6e0-bc564f72c2d6",
   "metadata": {},
   "outputs": [
    {
     "data": {
      "text/plain": [
       "0"
      ]
     },
     "execution_count": 5,
     "metadata": {},
     "output_type": "execute_result"
    }
   ],
   "source": [
    "a = 0\n",
    "\n",
    "a"
   ]
  },
  {
   "cell_type": "code",
   "execution_count": 6,
   "id": "9f61dd65-55da-4d0b-ba30-d0534eff0781",
   "metadata": {},
   "outputs": [
    {
     "data": {
      "text/plain": [
       "'error'"
      ]
     },
     "execution_count": 6,
     "metadata": {},
     "output_type": "execute_result"
    }
   ],
   "source": [
    "crawler_status = 'error'\n",
    "\n",
    "crawler_status"
   ]
  },
  {
   "cell_type": "code",
   "execution_count": 7,
   "id": "80b9954a-35ee-495e-b240-e478e320c240",
   "metadata": {
    "scrolled": true
   },
   "outputs": [
    {
     "name": "stdout",
     "output_type": "stream",
     "text": [
      "1\n"
     ]
    },
    {
     "data": {
      "text/plain": [
       "{'draw': 1,\n",
       " 'recordsTotal': '9',\n",
       " 'recordsFiltered': '9',\n",
       " 'data': [{'baseproductcode_string': '7347-000000-000575',\n",
       "   'partnumberauto_en_string': 'G21100-2020X',\n",
       "   'code_string': '7347-08600',\n",
       "   'itemtype_string': 'CouplingVariantProduct',\n",
       "   'partnumberind_string': '20MGS-20MP XBULK',\n",
       "   'partnumberfull_string': 'G21100-2020X',\n",
       "   'name_text_en': 'G21100-2020X 20MGS-20MP XBULK',\n",
       "   'productnumber_en_string': '73478600'},\n",
       "  {'baseproductcode_string': '7347-000000-000575',\n",
       "   'partnumberauto_en_string': 'G21100-2020',\n",
       "   'code_string': '7347-086005',\n",
       "   'itemtype_string': 'CouplingVariantProduct',\n",
       "   'partnumberind_string': '20MGS-20MP',\n",
       "   'partnumberfull_string': 'G21100-2020',\n",
       "   'name_text_en': 'G21100-2020 20MGS-20MP',\n",
       "   'productnumber_en_string': '734786005'},\n",
       "  {'baseproductcode_string': '7347-000000-000575',\n",
       "   'partnumberauto_en_string': 'G21165-2020',\n",
       "   'code_string': '7347-086015',\n",
       "   'itemtype_string': 'CouplingVariantProduct',\n",
       "   'partnumberind_string': '20MGS-20MJ',\n",
       "   'partnumberfull_string': 'G21165-2020',\n",
       "   'name_text_en': 'G21165-2020 20MGS-20MJ',\n",
       "   'productnumber_en_string': '734786015'},\n",
       "  {'baseproductcode_string': '7347-000000-000575',\n",
       "   'partnumberauto_en_string': 'G21307-2020',\n",
       "   'code_string': '7347-086075',\n",
       "   'itemtype_string': 'CouplingVariantProduct',\n",
       "   'partnumberind_string': '20MGS-20FL45S-032',\n",
       "   'partnumberfull_string': 'G21307-2020',\n",
       "   'name_text_en': 'G21307-2020 20MGS-20FL45S-032',\n",
       "   'productnumber_en_string': '734786075'},\n",
       "  {'baseproductcode_string': '7347-000000-000575',\n",
       "   'partnumberauto_en_string': 'G21315-2020',\n",
       "   'code_string': '7347-086085',\n",
       "   'itemtype_string': 'CouplingVariantProduct',\n",
       "   'partnumberind_string': '20MGS-20FL90M-090',\n",
       "   'partnumberfull_string': 'G21315-2020',\n",
       "   'name_text_en': 'G21315-2020 20MGS-20FL90M-090',\n",
       "   'productnumber_en_string': '734786085'},\n",
       "  {'baseproductcode_string': '7347-000000-000575',\n",
       "   'partnumberauto_en_string': 'G21720-2038',\n",
       "   'code_string': '7347-086095',\n",
       "   'itemtype_string': 'CouplingVariantProduct',\n",
       "   'partnumberind_string': '20MGS-38FDHORX',\n",
       "   'partnumberfull_string': 'G21720-2038',\n",
       "   'name_text_en': 'G21720-2038 20MGS-38FDHORX',\n",
       "   'productnumber_en_string': '734786095'},\n",
       "  {'baseproductcode_string': '7347-000000-000575',\n",
       "   'partnumberauto_en_string': 'G21830-2020',\n",
       "   'code_string': '7347-086105',\n",
       "   'itemtype_string': 'CouplingVariantProduct',\n",
       "   'partnumberind_string': '20MGS-20FBSPORX',\n",
       "   'partnumberfull_string': 'G21830-2020',\n",
       "   'name_text_en': 'G21830-2020 20MGS-20FBSPORX',\n",
       "   'productnumber_en_string': '734786105'},\n",
       "  {'baseproductcode_string': '7347-000000-000575',\n",
       "   'partnumberauto_en_string': 'G21715-2038',\n",
       "   'code_string': '7347-086115',\n",
       "   'itemtype_string': 'CouplingVariantProduct',\n",
       "   'partnumberind_string': '20MGS-38MDH',\n",
       "   'partnumberfull_string': 'G21715-2038',\n",
       "   'name_text_en': 'G21715-2038 20MGS-38MDH',\n",
       "   'productnumber_en_string': '734786115'},\n",
       "  {'baseproductcode_string': '7347-000000-000575',\n",
       "   'partnumberauto_en_string': 'G21350-2020',\n",
       "   'code_string': '7347-086135',\n",
       "   'itemtype_string': 'CouplingVariantProduct',\n",
       "   'partnumberind_string': '20MGS-20FLH',\n",
       "   'partnumberfull_string': 'G21350-2020',\n",
       "   'name_text_en': 'G21350-2020 20MGS-20FLH',\n",
       "   'productnumber_en_string': '734786135'}]}"
      ]
     },
     "execution_count": 7,
     "metadata": {},
     "output_type": "execute_result"
    }
   ],
   "source": [
    "import requests\n",
    "\n",
    "import time\n",
    "\n",
    "import sys\n",
    "sys.path.append('../00.Tools')\n",
    "from crawler_configuration import get_header, get_proxy\n",
    "\n",
    "if input_.loc[a, 'Country'] == 'US':\n",
    "    partnumberauto_string, productnumber_string, name_text, lang, country, lang_2 = 'partnumberauto_en_string', 'productnumber_en_string', 'name_text_en', 'en', 'us', 'en'\n",
    "elif input_.loc[a, 'Country'] == 'DE':\n",
    "    partnumberauto_string, productnumber_string, name_text, lang, country, lang_2 = 'partnumberauto_de_string', 'productnumber_de_string', 'name_text_de', 'de', 'de', 'de'\n",
    "elif input_.loc[a, 'Country'] == 'UK':\n",
    "    partnumberauto_string, productnumber_string, name_text, lang, country, lang_2 = 'partnumberauto_en_gb_string', 'productnumber_en_gb_string', 'name_text_en_gb', 'en_gb', 'gb', 'en'\n",
    "else:\n",
    "    partnumberauto_string, productnumber_string, name_text, lang, country, lang_2 = 'fuck', 'fuck', 'fuck', 'fuck', 'fuck', 'fuck'\n",
    "\n",
    "b = 0\n",
    "while True:\n",
    "    b += 1\n",
    "    print(b)\n",
    "    try:\n",
    "        request_url = f'''https://www.gates.com/bin/listing/products/variant?draw=1&columns%5B0%5D%5Bdata%5D=&columns%5B0%5D%5Bname%5D={partnumberauto_string}&columns%5B0%5D%5Bsearchable%5D=true&columns%5B0%5D%5Borderable%5D=true&columns%5B0%5D%5Bsearch%5D%5Bvalue%5D=&columns%5B0%5D%5Bsearch%5D%5Bregex%5D=false&columns%5B1%5D%5Bdata%5D=&columns%5B1%5D%5Bname%5D={productnumber_string}&columns%5B1%5D%5Bsearchable%5D=true&columns%5B1%5D%5Borderable%5D=true&columns%5B1%5D%5Bsearch%5D%5Bvalue%5D=&columns%5B1%5D%5Bsearch%5D%5Bregex%5D=false&columns%5B2%5D%5Bdata%5D={name_text}&columns%5B2%5D%5Bname%5D={name_text}&columns%5B2%5D%5Bsearchable%5D=true&columns%5B2%5D%5Borderable%5D=true&columns%5B2%5D%5Bsearch%5D%5Bvalue%5D=&columns%5B2%5D%5Bsearch%5D%5Bregex%5D=false&order%5B0%5D%5Bcolumn%5D=1&order%5B0%5D%5Bdir%5D=asc&start=0&length=10&search%5Bvalue%5D=&search%5Bregex%5D=false&id={input_.loc[a, 'Product Number']}&lang={lang}&country={country}&fieldList=code_string,{partnumberauto_string},{productnumber_string},{name_text}&filters=&_={int(time.time() * 1000)}'''\n",
    "        check_url = f'''https://www.gates.com/{country}/{lang_2}/search.p.{input_.loc[a, 'Product Number']}.html'''\n",
    "        \n",
    "        resp = requests.get(request_url,\n",
    "                            headers=get_header(),\n",
    "                            proxies=get_proxy(),\n",
    "                            timeout=(10, 10))\n",
    "\n",
    "        if resp.status_code == 200:\n",
    "            dict_ = resp.json()\n",
    "\n",
    "            if dict_:\n",
    "                break\n",
    "    except KeyboardInterrupt:\n",
    "        break\n",
    "    except:\n",
    "        continue\n",
    "\n",
    "dict_"
   ]
  },
  {
   "cell_type": "code",
   "execution_count": 8,
   "id": "2d340d94-c91f-4506-a909-3556a09edd8a",
   "metadata": {},
   "outputs": [
    {
     "data": {
      "text/plain": [
       "False"
      ]
     },
     "execution_count": 8,
     "metadata": {},
     "output_type": "execute_result"
    }
   ],
   "source": [
    "int(dict_['recordsTotal'].strip()) <= 0"
   ]
  },
  {
   "cell_type": "code",
   "execution_count": 9,
   "id": "877e0c95-20c0-465c-bc84-6b3c7da7860e",
   "metadata": {},
   "outputs": [
    {
     "data": {
      "text/html": [
       "<div>\n",
       "<style scoped>\n",
       "    .dataframe tbody tr th:only-of-type {\n",
       "        vertical-align: middle;\n",
       "    }\n",
       "\n",
       "    .dataframe tbody tr th {\n",
       "        vertical-align: top;\n",
       "    }\n",
       "\n",
       "    .dataframe thead th {\n",
       "        text-align: right;\n",
       "    }\n",
       "</style>\n",
       "<table border=\"1\" class=\"dataframe\">\n",
       "  <thead>\n",
       "    <tr style=\"text-align: right;\">\n",
       "      <th></th>\n",
       "      <th>Product No</th>\n",
       "      <th>Product Name</th>\n",
       "      <th>Product Number</th>\n",
       "      <th>Country</th>\n",
       "      <th>SKU Count</th>\n",
       "      <th>Page</th>\n",
       "    </tr>\n",
       "  </thead>\n",
       "  <tbody>\n",
       "    <tr>\n",
       "      <th>0</th>\n",
       "      <td>1</td>\n",
       "      <td>1-1/4\" Special One-Piece Couplings - Female JI...</td>\n",
       "      <td>7347-000000-000575</td>\n",
       "      <td>US</td>\n",
       "      <td>9</td>\n",
       "      <td>1</td>\n",
       "    </tr>\n",
       "  </tbody>\n",
       "</table>\n",
       "</div>"
      ],
      "text/plain": [
       "   Product No                                       Product Name  \\\n",
       "0           1  1-1/4\" Special One-Piece Couplings - Female JI...   \n",
       "\n",
       "       Product Number Country SKU Count  Page  \n",
       "0  7347-000000-000575      US         9     1  "
      ]
     },
     "execution_count": 9,
     "metadata": {},
     "output_type": "execute_result"
    }
   ],
   "source": [
    "import math\n",
    "\n",
    "df_temp = pd.DataFrame([{'Product No': input_.loc[a, 'Product No'],\n",
    "                         'Product Name': input_.loc[a, 'Product Name'],\n",
    "                         'Product Number': input_.loc[a, 'Product Number'],\n",
    "                         'Country': input_.loc[a, 'Country'],\n",
    "                         'SKU Count': int(dict_['recordsTotal'].strip()),\n",
    "                         'Page': math.ceil(int(dict_['recordsTotal'].strip()) / 10)}])\n",
    "\n",
    "output_correct = pd.concat([output_correct, df_temp], ignore_index=True).fillna('')\n",
    "\n",
    "output_correct"
   ]
  },
  {
   "cell_type": "code",
   "execution_count": 10,
   "id": "fc4ed7f6-ed4f-431c-b944-b1690309cdae",
   "metadata": {},
   "outputs": [
    {
     "data": {
      "text/plain": [
       "'ok'"
      ]
     },
     "execution_count": 10,
     "metadata": {},
     "output_type": "execute_result"
    }
   ],
   "source": [
    "crawler_status = 'ok'\n",
    "\n",
    "crawler_status"
   ]
  },
  {
   "cell_type": "code",
   "execution_count": 11,
   "id": "65c745d1-446e-46c5-9dec-819c9f7944d3",
   "metadata": {},
   "outputs": [
    {
     "data": {
      "text/html": [
       "<div>\n",
       "<style scoped>\n",
       "    .dataframe tbody tr th:only-of-type {\n",
       "        vertical-align: middle;\n",
       "    }\n",
       "\n",
       "    .dataframe tbody tr th {\n",
       "        vertical-align: top;\n",
       "    }\n",
       "\n",
       "    .dataframe thead th {\n",
       "        text-align: right;\n",
       "    }\n",
       "</style>\n",
       "<table border=\"1\" class=\"dataframe\">\n",
       "  <thead>\n",
       "    <tr style=\"text-align: right;\">\n",
       "      <th></th>\n",
       "    </tr>\n",
       "  </thead>\n",
       "  <tbody>\n",
       "  </tbody>\n",
       "</table>\n",
       "</div>"
      ],
      "text/plain": [
       "Empty DataFrame\n",
       "Columns: []\n",
       "Index: []"
      ]
     },
     "execution_count": 11,
     "metadata": {},
     "output_type": "execute_result"
    }
   ],
   "source": [
    "if crawler_status == 'error':\n",
    "    df_temp = pd.DataFrame([input_.iloc[a]]).reset_index(drop=True)\n",
    "    df_temp.loc[0, 'Request_Url'] = request_url\n",
    "    df_temp.loc[0, 'Check_Url'] = check_url\n",
    "    \n",
    "    output_error = pd.concat([output_error, df_temp], ignore_index=True).fillna('')\n",
    "    \n",
    "output_error"
   ]
  },
  {
   "cell_type": "code",
   "execution_count": 12,
   "id": "7fd477de",
   "metadata": {},
   "outputs": [
    {
     "data": {
      "text/html": [
       "<div>\n",
       "<style scoped>\n",
       "    .dataframe tbody tr th:only-of-type {\n",
       "        vertical-align: middle;\n",
       "    }\n",
       "\n",
       "    .dataframe tbody tr th {\n",
       "        vertical-align: top;\n",
       "    }\n",
       "\n",
       "    .dataframe thead th {\n",
       "        text-align: right;\n",
       "    }\n",
       "</style>\n",
       "<table border=\"1\" class=\"dataframe\">\n",
       "  <thead>\n",
       "    <tr style=\"text-align: right;\">\n",
       "      <th></th>\n",
       "      <th>Product No</th>\n",
       "      <th>Product Name</th>\n",
       "      <th>Product Number</th>\n",
       "      <th>Country</th>\n",
       "      <th>SKU Count</th>\n",
       "      <th>Page</th>\n",
       "    </tr>\n",
       "  </thead>\n",
       "  <tbody>\n",
       "    <tr>\n",
       "      <th>0</th>\n",
       "      <td>1</td>\n",
       "      <td>1-1/4\" Special One-Piece Couplings - Female JI...</td>\n",
       "      <td>7347-000000-000575</td>\n",
       "      <td>US</td>\n",
       "      <td>9</td>\n",
       "      <td>1</td>\n",
       "    </tr>\n",
       "  </tbody>\n",
       "</table>\n",
       "</div>"
      ],
      "text/plain": [
       "   Product No                                       Product Name  \\\n",
       "0           1  1-1/4\" Special One-Piece Couplings - Female JI...   \n",
       "\n",
       "       Product Number Country SKU Count  Page  \n",
       "0  7347-000000-000575      US         9     1  "
      ]
     },
     "execution_count": 12,
     "metadata": {},
     "output_type": "execute_result"
    }
   ],
   "source": [
    "if not output_correct.empty:\n",
    "    output_correct = output_correct.sort_values(by=['Product No'],\n",
    "                                                ascending=[True],\n",
    "                                                ignore_index=True)\n",
    "    output_correct.to_excel('./test_page.xlsx', index=False)\n",
    "\n",
    "output_correct"
   ]
  },
  {
   "cell_type": "code",
   "execution_count": 13,
   "id": "39a5441b-7f69-4812-aad8-7e10a1a24e78",
   "metadata": {},
   "outputs": [
    {
     "data": {
      "text/html": [
       "<div>\n",
       "<style scoped>\n",
       "    .dataframe tbody tr th:only-of-type {\n",
       "        vertical-align: middle;\n",
       "    }\n",
       "\n",
       "    .dataframe tbody tr th {\n",
       "        vertical-align: top;\n",
       "    }\n",
       "\n",
       "    .dataframe thead th {\n",
       "        text-align: right;\n",
       "    }\n",
       "</style>\n",
       "<table border=\"1\" class=\"dataframe\">\n",
       "  <thead>\n",
       "    <tr style=\"text-align: right;\">\n",
       "      <th></th>\n",
       "    </tr>\n",
       "  </thead>\n",
       "  <tbody>\n",
       "  </tbody>\n",
       "</table>\n",
       "</div>"
      ],
      "text/plain": [
       "Empty DataFrame\n",
       "Columns: []\n",
       "Index: []"
      ]
     },
     "execution_count": 13,
     "metadata": {},
     "output_type": "execute_result"
    }
   ],
   "source": [
    "if not output_error.empty:\n",
    "    output_error = output_error.sort_values(by=['Product No'],\n",
    "                                            ascending=[True],\n",
    "                                            ignore_index=True)\n",
    "    output_error.to_excel('./test_page.xlsx', index=False)\n",
    "\n",
    "output_error"
   ]
  },
  {
   "cell_type": "code",
   "execution_count": null,
   "id": "ba5d9f77-7464-4ad5-a42b-1fa0c0505832",
   "metadata": {},
   "outputs": [],
   "source": []
  }
 ],
 "metadata": {
  "kernelspec": {
   "display_name": "Python 3 (ipykernel)",
   "language": "python",
   "name": "python3"
  },
  "language_info": {
   "codemirror_mode": {
    "name": "ipython",
    "version": 3
   },
   "file_extension": ".py",
   "mimetype": "text/x-python",
   "name": "python",
   "nbconvert_exporter": "python",
   "pygments_lexer": "ipython3",
   "version": "3.11.3"
  }
 },
 "nbformat": 4,
 "nbformat_minor": 5
}
