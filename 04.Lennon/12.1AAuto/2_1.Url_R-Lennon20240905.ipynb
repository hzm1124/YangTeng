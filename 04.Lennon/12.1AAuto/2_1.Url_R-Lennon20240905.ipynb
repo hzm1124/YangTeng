{
 "cells": [
  {
   "cell_type": "code",
   "execution_count": 1,
   "id": "783f89be-0cdc-4912-942e-895cc5f09840",
   "metadata": {},
   "outputs": [],
   "source": [
    "import pandas as pd\n",
    "\n",
    "output_error = pd.DataFrame()"
   ]
  },
  {
   "cell_type": "code",
   "execution_count": 2,
   "id": "1c28f4ff-eee5-4220-a711-cc2f93fe08f0",
   "metadata": {
    "scrolled": true
   },
   "outputs": [
    {
     "name": "stdout",
     "output_type": "stream",
     "text": [
      "总数量：107\n"
     ]
    },
    {
     "data": {
      "text/plain": [
       "['https://www.1aauto.com/1a-auto-parts/b/101',\n",
       " 'https://www.1aauto.com/accu-form-parts/b/260',\n",
       " 'https://www.1aauto.com/acdelco-parts/b/3',\n",
       " 'https://www.1aauto.com/acdelco-and-gm-parts/b/62',\n",
       " 'https://www.1aauto.com/armor-all-parts/b/202',\n",
       " 'https://www.1aauto.com/arnott-parts/b/15',\n",
       " 'https://www.1aauto.com/atlantic-automotive-engineering-parts/b/322',\n",
       " 'https://www.1aauto.com/audi-parts/b/49',\n",
       " 'https://www.1aauto.com/auto-7-parts/b/24',\n",
       " 'https://www.1aauto.com/auto-custom-carpets-parts/b/95',\n",
       " 'https://www.1aauto.com/autolite-parts/b/103',\n",
       " 'https://www.1aauto.com/bbt-automotive-components-parts/b/308',\n",
       " 'https://www.1aauto.com/beck-arnley-parts/b/16',\n",
       " 'https://www.1aauto.com/borgeson-parts/b/29',\n",
       " 'https://www.1aauto.com/bosch-parts/b/220',\n",
       " 'https://www.1aauto.com/cardone-reman-parts/b/253',\n",
       " 'https://www.1aauto.com/cardone-select-parts/b/117',\n",
       " 'https://www.1aauto.com/carrand-parts/b/194',\n",
       " 'https://www.1aauto.com/catco-parts/b/263',\n",
       " 'https://www.1aauto.com/cateran-inc-parts/b/216',\n",
       " 'https://www.1aauto.com/cta-parts/b/109',\n",
       " 'https://www.1aauto.com/davico-mfg-parts/b/217',\n",
       " 'https://www.1aauto.com/dea-parts/b/51',\n",
       " 'https://www.1aauto.com/delphi-parts/b/63',\n",
       " 'https://www.1aauto.com/depo-parts/b/100',\n",
       " 'https://www.1aauto.com/dickies-parts/b/204',\n",
       " 'https://www.1aauto.com/dorman-parts/b/18',\n",
       " 'https://www.1aauto.com/dyna-grip-parts/b/186',\n",
       " 'https://www.1aauto.com/eagle-eyes-parts/b/261',\n",
       " 'https://www.1aauto.com/ecogard-parts/b/125',\n",
       " 'https://www.1aauto.com/empi-parts/b/264',\n",
       " 'https://www.1aauto.com/exedy-parts/b/8',\n",
       " 'https://www.1aauto.com/ez-red-parts/b/181',\n",
       " 'https://www.1aauto.com/fairchild-automotive-parts/b/105',\n",
       " 'https://www.1aauto.com/fel-pro-parts/b/12',\n",
       " 'https://www.1aauto.com/fiat-parts/b/61',\n",
       " 'https://www.1aauto.com/ford-oem-parts/b/27',\n",
       " 'https://www.1aauto.com/four-seasons-parts/b/233',\n",
       " 'https://www.1aauto.com/funnel-king-parts/b/199',\n",
       " 'https://www.1aauto.com/gates-parts/b/9',\n",
       " 'https://www.1aauto.com/general-motors-oem-parts/b/30',\n",
       " 'https://www.1aauto.com/gkn-parts/b/301',\n",
       " 'https://www.1aauto.com/gunk-parts/b/209',\n",
       " 'https://www.1aauto.com/hitachi-automotive-parts/b/312',\n",
       " 'https://www.1aauto.com/honda-oem-parts/b/37',\n",
       " 'https://www.1aauto.com/hozeez-parts/b/183',\n",
       " 'https://www.1aauto.com/hyundai-oem-parts/b/39',\n",
       " 'https://www.1aauto.com/infiniti-parts/b/46',\n",
       " 'https://www.1aauto.com/kia-parts/b/25',\n",
       " 'https://www.1aauto.com/kyb-parts/b/75',\n",
       " 'https://www.1aauto.com/led-innovation-parts/b/235',\n",
       " 'https://www.1aauto.com/lexus-parts/b/54',\n",
       " 'https://www.1aauto.com/lisle-parts/b/108',\n",
       " 'https://www.1aauto.com/maxsa-innovations-parts/b/142',\n",
       " 'https://www.1aauto.com/mazda-parts/b/33',\n",
       " 'https://www.1aauto.com/mercedes-benz-parts/b/38',\n",
       " 'https://www.1aauto.com/metro-moulded-parts-parts/b/212',\n",
       " 'https://www.1aauto.com/moog-parts/b/1',\n",
       " 'https://www.1aauto.com/mopar-parts/b/14',\n",
       " 'https://www.1aauto.com/motorcraft-parts/b/7',\n",
       " 'https://www.1aauto.com/motorcraft-and-ford-parts/b/48',\n",
       " 'https://www.1aauto.com/ngk-parts/b/22',\n",
       " 'https://www.1aauto.com/nightstick-parts/b/197',\n",
       " 'https://www.1aauto.com/nissan-oem-parts/b/36',\n",
       " 'https://www.1aauto.com/performance-tool-parts/b/219',\n",
       " 'https://www.1aauto.com/philips-automotive-lighting-parts/b/267',\n",
       " 'https://www.1aauto.com/phoenix-graphix-parts/b/213',\n",
       " 'https://www.1aauto.com/pierburg-parts/b/69',\n",
       " 'https://www.1aauto.com/porsche-parts/b/60',\n",
       " 'https://www.1aauto.com/precision-replacement-parts-parts/b/215',\n",
       " 'https://www.1aauto.com/preferred-components-inc-parts/b/236',\n",
       " 'https://www.1aauto.com/quicksteer-parts/b/250',\n",
       " 'https://www.1aauto.com/raven-parts/b/185',\n",
       " 'https://www.1aauto.com/raybestos-parts/b/17',\n",
       " 'https://www.1aauto.com/rein-parts/b/321',\n",
       " 'https://www.1aauto.com/rem-automotive-inc-parts/b/237',\n",
       " 'https://www.1aauto.com/rts-parts/b/303',\n",
       " 'https://www.1aauto.com/sachs-parts/b/238',\n",
       " 'https://www.1aauto.com/sas-safety-corp-parts/b/132',\n",
       " 'https://www.1aauto.com/scion-parts/b/45',\n",
       " 'https://www.1aauto.com/seat-armour-parts/b/59',\n",
       " 'https://www.1aauto.com/shark-industries-parts/b/170',\n",
       " 'https://www.1aauto.com/sherman-auto-parts-parts/b/329',\n",
       " 'https://www.1aauto.com/sm-arnold-parts/b/169',\n",
       " 'https://www.1aauto.com/smart-parts/b/58',\n",
       " 'https://www.1aauto.com/sparta-parts/b/318',\n",
       " 'https://www.1aauto.com/standard-motor-products-parts/b/99',\n",
       " 'https://www.1aauto.com/subaru-parts/b/41',\n",
       " 'https://www.1aauto.com/suplex-parts/b/281',\n",
       " 'https://www.1aauto.com/timken-parts/b/10',\n",
       " 'https://www.1aauto.com/toyota-oem-parts/b/35',\n",
       " 'https://www.1aauto.com/trail-ridge-parts/b/80',\n",
       " 'https://www.1aauto.com/trico-exact-fit-parts/b/167',\n",
       " 'https://www.1aauto.com/trico-ice-parts/b/168',\n",
       " 'https://www.1aauto.com/trico-neoform-parts/b/208',\n",
       " 'https://www.1aauto.com/trico-sentry-parts/b/200',\n",
       " 'https://www.1aauto.com/trico-tech-parts/b/166',\n",
       " 'https://www.1aauto.com/trq-parts/b/97',\n",
       " 'https://www.1aauto.com/truck-tuff-parts/b/240',\n",
       " 'https://www.1aauto.com/tuff-support-parts/b/218',\n",
       " 'https://www.1aauto.com/turtle-wax-parts/b/162',\n",
       " 'https://www.1aauto.com/tyc-parts/b/241',\n",
       " 'https://www.1aauto.com/uro-parts/b/226',\n",
       " 'https://www.1aauto.com/volkswagen-parts/b/31',\n",
       " 'https://www.1aauto.com/volvo-parts/b/56',\n",
       " 'https://www.1aauto.com/walker-products-parts/b/20',\n",
       " 'https://www.1aauto.com/wells-vehicle-electronics-parts/b/19']"
      ]
     },
     "execution_count": 2,
     "metadata": {},
     "output_type": "execute_result"
    }
   ],
   "source": [
    "input_ = pd.read_excel('./file/input.xlsx',\n",
    "                       header=0,\n",
    "                       dtype=str).fillna('')\n",
    "\n",
    "input_['No'] = input_['No'].astype(int)\n",
    "\n",
    "print(f'总数量：{len(input_)}')\n",
    "input_['Url'].tolist()"
   ]
  },
  {
   "cell_type": "code",
   "execution_count": 3,
   "id": "5878a9f0-d639-4123-b6e0-bc564f72c2d6",
   "metadata": {},
   "outputs": [
    {
     "data": {
      "text/plain": [
       "0"
      ]
     },
     "execution_count": 3,
     "metadata": {},
     "output_type": "execute_result"
    }
   ],
   "source": [
    "a = 0\n",
    "\n",
    "a"
   ]
  },
  {
   "cell_type": "code",
   "execution_count": 4,
   "id": "9f61dd65-55da-4d0b-ba30-d0534eff0781",
   "metadata": {},
   "outputs": [
    {
     "data": {
      "text/plain": [
       "'error'"
      ]
     },
     "execution_count": 4,
     "metadata": {},
     "output_type": "execute_result"
    }
   ],
   "source": [
    "crawler_status = 'error'\n",
    "\n",
    "crawler_status"
   ]
  },
  {
   "cell_type": "code",
   "execution_count": 5,
   "id": "523cc867",
   "metadata": {
    "scrolled": true
   },
   "outputs": [
    {
     "name": "stdout",
     "output_type": "stream",
     "text": [
      "1 1\n"
     ]
    },
    {
     "data": {
      "text/plain": [
       "<Response [200]>"
      ]
     },
     "execution_count": 5,
     "metadata": {},
     "output_type": "execute_result"
    }
   ],
   "source": [
    "import requests\n",
    "\n",
    "import sys\n",
    "sys.path.append('../00.Tools')\n",
    "from crawler_configuration import get_header, get_proxy\n",
    "\n",
    "from bs4 import BeautifulSoup\n",
    "from lxml import etree\n",
    "\n",
    "url = input_.loc[a, 'Url']\n",
    "\n",
    "dict_param = {}\n",
    "list_param = url.split('?')[1].split('&') if '?' in url else []\n",
    "for param in list_param:\n",
    "    dict_param[param.split('=')[0]] = param.split('=')[1]\n",
    "\n",
    "dict_param.pop('page', '')\n",
    "dict_param['sort'] = 'name+asc'\n",
    "\n",
    "url = url.split('?')[0] + '?'\n",
    "for key, value in dict_param.items():\n",
    "    url += f'{key}={value}&'\n",
    "    \n",
    "list_url, i = [], 1\n",
    "while True:\n",
    "    b = 0\n",
    "    while True:\n",
    "        b += 1\n",
    "        print(b, i)\n",
    "        try:\n",
    "            resp = requests.get(f'{url}page={i}',\n",
    "                                headers=get_header(),\n",
    "                                proxies=get_proxy(),\n",
    "                                timeout=(10, 10))\n",
    "        \n",
    "            if resp.status_code == 200:\n",
    "                soup = BeautifulSoup(resp.text, 'lxml')\n",
    "                html = etree.HTML(str(soup))\n",
    "\n",
    "                list_href = html.xpath('//ul[@id=\"serp-list\"]/li/div/div[@class=\"desktop-product-results\"]/descendant::h4/a/@href')\n",
    "                if list_href:\n",
    "                    break\n",
    "        except KeyboardInterrupt:\n",
    "            break\n",
    "        except:\n",
    "            continue\n",
    "\n",
    "    # = = = = = = = = = = = = = = =\n",
    "\n",
    "    list_url += [f'''https://www.1aauto.com{href.strip()}''' for href in list_href]\n",
    "\n",
    "    # = = = = = = = = = = = = = = =\n",
    "    \n",
    "    i += 1\n",
    "\n",
    "    # = = = = = = = = = = = = = = =\n",
    "\n",
    "    if not html.xpath('//a[@class=\"pagination-button pagination-button-next\"]'):\n",
    "        break\n",
    "\n",
    "resp"
   ]
  },
  {
   "cell_type": "code",
   "execution_count": 6,
   "id": "96f1239b-50f9-42d4-b879-831dc05deb48",
   "metadata": {
    "scrolled": true
   },
   "outputs": [
    {
     "data": {
      "text/html": [
       "<div>\n",
       "<style scoped>\n",
       "    .dataframe tbody tr th:only-of-type {\n",
       "        vertical-align: middle;\n",
       "    }\n",
       "\n",
       "    .dataframe tbody tr th {\n",
       "        vertical-align: top;\n",
       "    }\n",
       "\n",
       "    .dataframe thead th {\n",
       "        text-align: right;\n",
       "    }\n",
       "</style>\n",
       "<table border=\"1\" class=\"dataframe\">\n",
       "  <thead>\n",
       "    <tr style=\"text-align: right;\">\n",
       "      <th></th>\n",
       "      <th>No</th>\n",
       "      <th>Url</th>\n",
       "    </tr>\n",
       "  </thead>\n",
       "  <tbody>\n",
       "    <tr>\n",
       "      <th>0</th>\n",
       "      <td>1</td>\n",
       "      <td>https://www.1aauto.com/1a-auto-t-shirt-tee-shi...</td>\n",
       "    </tr>\n",
       "    <tr>\n",
       "      <th>1</th>\n",
       "      <td>2</td>\n",
       "      <td>https://www.1aauto.com/1a-auto-t-shirt-tee-shi...</td>\n",
       "    </tr>\n",
       "    <tr>\n",
       "      <th>2</th>\n",
       "      <td>3</td>\n",
       "      <td>https://www.1aauto.com/1a-auto-t-shirt-tee-shi...</td>\n",
       "    </tr>\n",
       "    <tr>\n",
       "      <th>3</th>\n",
       "      <td>4</td>\n",
       "      <td>https://www.1aauto.com/1a-auto-t-shirt-tee-shi...</td>\n",
       "    </tr>\n",
       "    <tr>\n",
       "      <th>4</th>\n",
       "      <td>5</td>\n",
       "      <td>https://www.1aauto.com/1a-auto-t-shirt-tee-shi...</td>\n",
       "    </tr>\n",
       "    <tr>\n",
       "      <th>5</th>\n",
       "      <td>6</td>\n",
       "      <td>https://www.1aauto.com/1a-auto-t-shirt-tee-shi...</td>\n",
       "    </tr>\n",
       "  </tbody>\n",
       "</table>\n",
       "</div>"
      ],
      "text/plain": [
       "   No                                                Url\n",
       "0   1  https://www.1aauto.com/1a-auto-t-shirt-tee-shi...\n",
       "1   2  https://www.1aauto.com/1a-auto-t-shirt-tee-shi...\n",
       "2   3  https://www.1aauto.com/1a-auto-t-shirt-tee-shi...\n",
       "3   4  https://www.1aauto.com/1a-auto-t-shirt-tee-shi...\n",
       "4   5  https://www.1aauto.com/1a-auto-t-shirt-tee-shi...\n",
       "5   6  https://www.1aauto.com/1a-auto-t-shirt-tee-shi..."
      ]
     },
     "execution_count": 6,
     "metadata": {},
     "output_type": "execute_result"
    }
   ],
   "source": [
    "output = pd.DataFrame({'No': [i+1 for i in range(len(list_url))],\n",
    "                       'Url': list_url})\n",
    "\n",
    "output = output.sort_values(by=['No'],\n",
    "                            ascending=[True],\n",
    "                            ignore_index=True)\n",
    "\n",
    "output.to_excel('./test_url.xlsx', index=False)\n",
    "\n",
    "output"
   ]
  },
  {
   "cell_type": "code",
   "execution_count": 7,
   "id": "fc4ed7f6-ed4f-431c-b944-b1690309cdae",
   "metadata": {},
   "outputs": [
    {
     "data": {
      "text/plain": [
       "'ok'"
      ]
     },
     "execution_count": 7,
     "metadata": {},
     "output_type": "execute_result"
    }
   ],
   "source": [
    "crawler_status = 'ok'\n",
    "\n",
    "crawler_status"
   ]
  },
  {
   "cell_type": "code",
   "execution_count": 8,
   "id": "65c745d1-446e-46c5-9dec-819c9f7944d3",
   "metadata": {},
   "outputs": [
    {
     "data": {
      "text/html": [
       "<div>\n",
       "<style scoped>\n",
       "    .dataframe tbody tr th:only-of-type {\n",
       "        vertical-align: middle;\n",
       "    }\n",
       "\n",
       "    .dataframe tbody tr th {\n",
       "        vertical-align: top;\n",
       "    }\n",
       "\n",
       "    .dataframe thead th {\n",
       "        text-align: right;\n",
       "    }\n",
       "</style>\n",
       "<table border=\"1\" class=\"dataframe\">\n",
       "  <thead>\n",
       "    <tr style=\"text-align: right;\">\n",
       "      <th></th>\n",
       "    </tr>\n",
       "  </thead>\n",
       "  <tbody>\n",
       "  </tbody>\n",
       "</table>\n",
       "</div>"
      ],
      "text/plain": [
       "Empty DataFrame\n",
       "Columns: []\n",
       "Index: []"
      ]
     },
     "execution_count": 8,
     "metadata": {},
     "output_type": "execute_result"
    }
   ],
   "source": [
    "if crawler_status == 'error':\n",
    "    output_error = pd.concat([output_error, pd.DataFrame([input_.iloc[a]]).reset_index(drop=True)], ignore_index=True).fillna('')\n",
    "\n",
    "output_error"
   ]
  },
  {
   "cell_type": "code",
   "execution_count": 9,
   "id": "39a5441b-7f69-4812-aad8-7e10a1a24e78",
   "metadata": {},
   "outputs": [
    {
     "data": {
      "text/html": [
       "<div>\n",
       "<style scoped>\n",
       "    .dataframe tbody tr th:only-of-type {\n",
       "        vertical-align: middle;\n",
       "    }\n",
       "\n",
       "    .dataframe tbody tr th {\n",
       "        vertical-align: top;\n",
       "    }\n",
       "\n",
       "    .dataframe thead th {\n",
       "        text-align: right;\n",
       "    }\n",
       "</style>\n",
       "<table border=\"1\" class=\"dataframe\">\n",
       "  <thead>\n",
       "    <tr style=\"text-align: right;\">\n",
       "      <th></th>\n",
       "    </tr>\n",
       "  </thead>\n",
       "  <tbody>\n",
       "  </tbody>\n",
       "</table>\n",
       "</div>"
      ],
      "text/plain": [
       "Empty DataFrame\n",
       "Columns: []\n",
       "Index: []"
      ]
     },
     "execution_count": 9,
     "metadata": {},
     "output_type": "execute_result"
    }
   ],
   "source": [
    "if not output_error.empty:\n",
    "    output_error = output_error.sort_values(by=['No'],\n",
    "                                            ascending=[False],\n",
    "                                            ignore_index=True)\n",
    "    output_error.to_excel('./test_url.xlsx', index=False)\n",
    "\n",
    "output_error"
   ]
  },
  {
   "cell_type": "code",
   "execution_count": null,
   "id": "0f8b03c2-2022-4f07-9642-0842d4a7fac6",
   "metadata": {},
   "outputs": [],
   "source": []
  }
 ],
 "metadata": {
  "kernelspec": {
   "display_name": "Python 3 (ipykernel)",
   "language": "python",
   "name": "python3"
  },
  "language_info": {
   "codemirror_mode": {
    "name": "ipython",
    "version": 3
   },
   "file_extension": ".py",
   "mimetype": "text/x-python",
   "name": "python",
   "nbconvert_exporter": "python",
   "pygments_lexer": "ipython3",
   "version": "3.11.3"
  }
 },
 "nbformat": 4,
 "nbformat_minor": 5
}
