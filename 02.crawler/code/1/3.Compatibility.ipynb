{
 "cells": [
  {
   "cell_type": "code",
   "execution_count": 1,
   "id": "a3d72041-e4f3-4d18-a1a0-ebdcf95425e4",
   "metadata": {
    "scrolled": true
   },
   "outputs": [
    {
     "data": {
      "text/plain": [
       "{'type_': 'Timing Chain & Component Kit',\n",
       " 'group': 'Engine',\n",
       " 'no': 1,\n",
       " 'type_code': '5756',\n",
       " 'manufacturer': 'MELLING',\n",
       " 'part_number': '30250S',\n",
       " 'url': 'https://www.rockauto.com/en/parts/melling,30250S,timing+chain+&+component+kit,5756',\n",
       " 'picture': '',\n",
       " 'part_code': '8304960',\n",
       " 'join_mpntcpc': 'MELLING;30250S;5756;8304960',\n",
       " 'choose': '',\n",
       " 'json_sidenote': '{}',\n",
       " 'info_url': 'https://www.rockauto.com/en/moreinfo.php?pk=8304960&cc=0&pt=5756',\n",
       " 'json_footnote': '{\"0\": \"Category: Timing Chain & Component Kit\"}',\n",
       " 'oem': '',\n",
       " 'json_src': '{\"0\": \"https://www.rockauto.com/info/583/3-0250S-1-KIT.jpg\", \"1\": \"https://www.rockauto.com/info/583/BT7015-2-SID.jpg\", \"2\": \"https://www.rockauto.com/info/583/BG5515-3-FRO.jpg\", \"3\": \"https://www.rockauto.com/info/583/715F-1-ANG.jpg\", \"4\": \"https://www.rockauto.com/info/583/BT5514-1-ANG.jpg\", \"5\": \"https://www.rockauto.com/info/583/S906A-1-FRO.jpg\", \"6\": \"https://www.rockauto.com/info/583/717F-1-ANG.jpg\", \"7\": \"https://www.rockauto.com/info/583/BT7016-1-TOP.jpg\", \"8\": \"https://www.rockauto.com/info/583/S899-1-FRO.jpg\", \"9\": \"https://www.rockauto.com/info/583/S905-1-FRO.jpg\", \"10\": \"https://www.rockauto.com/info/583/BG7019-2-SID.jpg\"}',\n",
       " 'json_price': '{\"default\": \"$171.99\"}'}"
      ]
     },
     "execution_count": 1,
     "metadata": {},
     "output_type": "execute_result"
    }
   ],
   "source": [
    "item = {'type_': 'Timing Chain & Component Kit',\n",
    " 'group': 'Engine',\n",
    " 'no': 1,\n",
    " 'type_code': '5756',\n",
    " 'manufacturer': 'MELLING',\n",
    " 'part_number': '30250S',\n",
    " 'url': 'https://www.rockauto.com/en/parts/melling,30250S,timing+chain+&+component+kit,5756',\n",
    " 'picture': '',\n",
    " 'part_code': '8304960',\n",
    " 'join_mpntcpc': 'MELLING;30250S;5756;8304960',\n",
    " 'choose': '',\n",
    " 'json_sidenote': '{}',\n",
    " 'info_url': 'https://www.rockauto.com/en/moreinfo.php?pk=8304960&cc=0&pt=5756',\n",
    " 'json_footnote': '{\"0\": \"Category: Timing Chain & Component Kit\"}',\n",
    " 'oem': '',\n",
    " 'json_src': '{\"0\": \"https://www.rockauto.com/info/583/3-0250S-1-KIT.jpg\", \"1\": \"https://www.rockauto.com/info/583/BT7015-2-SID.jpg\", \"2\": \"https://www.rockauto.com/info/583/BG5515-3-FRO.jpg\", \"3\": \"https://www.rockauto.com/info/583/715F-1-ANG.jpg\", \"4\": \"https://www.rockauto.com/info/583/BT5514-1-ANG.jpg\", \"5\": \"https://www.rockauto.com/info/583/S906A-1-FRO.jpg\", \"6\": \"https://www.rockauto.com/info/583/717F-1-ANG.jpg\", \"7\": \"https://www.rockauto.com/info/583/BT7016-1-TOP.jpg\", \"8\": \"https://www.rockauto.com/info/583/S899-1-FRO.jpg\", \"9\": \"https://www.rockauto.com/info/583/S905-1-FRO.jpg\", \"10\": \"https://www.rockauto.com/info/583/BG7019-2-SID.jpg\"}',\n",
    " 'json_price': '{\"default\": \"$171.99\"}'}\n",
    "\n",
    "item"
   ]
  },
  {
   "cell_type": "code",
   "execution_count": 2,
   "id": "de6d84d1-706d-44c8-a6a6-cbd23de1c2e1",
   "metadata": {},
   "outputs": [],
   "source": [
    "import json\n",
    "import requests\n",
    "\n",
    "import sys\n",
    "sys.path.append('../00.Tools')\n",
    "from configuration import generate_header, generate_proxy"
   ]
  },
  {
   "cell_type": "code",
   "execution_count": 3,
   "id": "ada1a480-b052-4b65-8886-d15ae9c05e08",
   "metadata": {},
   "outputs": [
    {
     "data": {
      "text/plain": [
       "200"
      ]
     },
     "execution_count": 3,
     "metadata": {},
     "output_type": "execute_result"
    }
   ],
   "source": [
    "data = {'func': 'getbuyersguide',\n",
    "        'payload': json.dumps({'partData': {'listing_data_essential': {'partkey': item['part_code']},\n",
    "                                            'listing_data_supplemental': {'partnumber': item['part_number'],\n",
    "                                                                          'catalogname': item['manufacturer']}}}),\n",
    "        'api_json_request': '1'}\n",
    "response = requests.post('https://www.rockauto.com/catalog/catalogapi.php',\n",
    "                         data=data,\n",
    "                         headers=generate_header(),\n",
    "                         proxies=generate_proxy(),\n",
    "                         timeout=(10, 15),\n",
    "                         allow_redirects=False)\n",
    "\n",
    "response.status_code"
   ]
  },
  {
   "cell_type": "code",
   "execution_count": 4,
   "id": "fceb7d5f-8e84-4ba8-94f8-0209518cc344",
   "metadata": {},
   "outputs": [
    {
     "data": {
      "text/plain": [
       "{'buyersguidepieces': {'body': '<div class=\"buyersguide-nested\"><div style=\"padding: .5em;\"><table class=\"nobmp\" style=\"width: 100%;\"><tr><td class=\"altrow-a-0\">MAZDA</td><td class=\"altrow-a-0\">3</td><td class=\"altrow-a-0\">2004-2007</td></tr><tr><td class=\"altrow-a-1\">MAZDA</td><td class=\"altrow-a-1\">5</td><td class=\"altrow-a-1\">2006-2007</td></tr><tr><td class=\"altrow-a-0\">MAZDA</td><td class=\"altrow-a-0\">6</td><td class=\"altrow-a-0\">2003-2007</td></tr></table><div>Please refer to catalog for application details.</div></div></div>',\n",
       "  'title': \"Buyer's Guide : MELLING 30250S \"},\n",
       " 'groupindex': None,\n",
       " 'collected_javascript': '/**UQ:51F34FB8**/\\nwindow.top.parent.window[\"_nck\"] = \"8LVLUxTaILBT+tLxkg8+3Ag7\\\\/0bbOhvn7P3rkFbL80\\\\/oQB6RvzNfa5dcHvATqXAMxw5whzaDEdxk+27zeij67BjKru6WqTdNqG6tiEsD1EZhbTv0XForkbYp+nLaIKxDo22dqJiHLUbvTlG3cY8Stf2ZoPxlnBFU59Urvm8OyPY=\";\\n'}"
      ]
     },
     "execution_count": 4,
     "metadata": {},
     "output_type": "execute_result"
    }
   ],
   "source": [
    "dict_ = response.json()\n",
    "\n",
    "dict_"
   ]
  },
  {
   "cell_type": "code",
   "execution_count": 5,
   "id": "f4e7011f-7fe6-4a30-ac5a-9227bb24d43d",
   "metadata": {},
   "outputs": [],
   "source": [
    "import re"
   ]
  },
  {
   "cell_type": "code",
   "execution_count": 6,
   "id": "a740e7e1-93a3-45bf-bd71-30b3497c7a15",
   "metadata": {},
   "outputs": [
    {
     "data": {
      "text/plain": [
       "False"
      ]
     },
     "execution_count": 6,
     "metadata": {},
     "output_type": "execute_result"
    }
   ],
   "source": [
    "'redirect_to_url' in dict_ or re.sub(' +', ' ', dict_['buyersguidepieces']['title']).strip() != re.sub(' +', ' ', f'''Buyer's Guide : {item['manufacturer']} {item['part_number']}''').strip()"
   ]
  },
  {
   "cell_type": "code",
   "execution_count": 7,
   "id": "7d08a11c-f56e-4bb5-ba76-ef5b9617430a",
   "metadata": {},
   "outputs": [
    {
     "data": {
      "text/plain": [
       "False"
      ]
     },
     "execution_count": 7,
     "metadata": {},
     "output_type": "execute_result"
    }
   ],
   "source": [
    "dict_['buyersguidepieces']['body'].strip() == 'No applications found.'"
   ]
  },
  {
   "cell_type": "code",
   "execution_count": 8,
   "id": "ea71ed56-4881-43db-a9f0-bedc984abf4d",
   "metadata": {},
   "outputs": [],
   "source": [
    "from bs4 import BeautifulSoup"
   ]
  },
  {
   "cell_type": "code",
   "execution_count": 9,
   "id": "9283a66b-c761-472a-8195-ee60243e4746",
   "metadata": {
    "scrolled": true
   },
   "outputs": [
    {
     "name": "stdout",
     "output_type": "stream",
     "text": [
      "<html>\n",
      " <head>\n",
      " </head>\n",
      " <body>\n",
      "  <div class=\"buyersguide-nested\">\n",
      "   <div style=\"padding: .5em;\">\n",
      "    <table class=\"nobmp\" style=\"width: 100%;\">\n",
      "     <tbody>\n",
      "      <tr>\n",
      "       <td class=\"altrow-a-0\">\n",
      "        MAZDA\n",
      "       </td>\n",
      "       <td class=\"altrow-a-0\">\n",
      "        3\n",
      "       </td>\n",
      "       <td class=\"altrow-a-0\">\n",
      "        2004-2007\n",
      "       </td>\n",
      "      </tr>\n",
      "      <tr>\n",
      "       <td class=\"altrow-a-1\">\n",
      "        MAZDA\n",
      "       </td>\n",
      "       <td class=\"altrow-a-1\">\n",
      "        5\n",
      "       </td>\n",
      "       <td class=\"altrow-a-1\">\n",
      "        2006-2007\n",
      "       </td>\n",
      "      </tr>\n",
      "      <tr>\n",
      "       <td class=\"altrow-a-0\">\n",
      "        MAZDA\n",
      "       </td>\n",
      "       <td class=\"altrow-a-0\">\n",
      "        6\n",
      "       </td>\n",
      "       <td class=\"altrow-a-0\">\n",
      "        2003-2007\n",
      "       </td>\n",
      "      </tr>\n",
      "     </tbody>\n",
      "    </table>\n",
      "    <div>\n",
      "     Please refer to catalog for application details.\n",
      "    </div>\n",
      "   </div>\n",
      "  </div>\n",
      " </body>\n",
      "</html>\n",
      "\n"
     ]
    }
   ],
   "source": [
    "soup = BeautifulSoup(dict_['buyersguidepieces']['body'], 'html5lib')\n",
    "\n",
    "with open('./3.compatibility.html', 'w', encoding='utf-8') as file:\n",
    "    file.write(str(soup))\n",
    "\n",
    "print(soup.prettify())"
   ]
  },
  {
   "cell_type": "code",
   "execution_count": 10,
   "id": "41341330-70ca-49eb-9115-5230186c500c",
   "metadata": {},
   "outputs": [],
   "source": [
    "from parsel import Selector"
   ]
  },
  {
   "cell_type": "code",
   "execution_count": 11,
   "id": "e3565ddb-9d2e-42e6-8e38-e0fbe3c1e08f",
   "metadata": {},
   "outputs": [
    {
     "data": {
      "text/plain": [
       "<Selector query=None data='<html><head></head><body><div class=\"...'>"
      ]
     },
     "execution_count": 11,
     "metadata": {},
     "output_type": "execute_result"
    }
   ],
   "source": [
    "selector = Selector(text=str(soup))\n",
    "\n",
    "selector"
   ]
  },
  {
   "cell_type": "code",
   "execution_count": 12,
   "id": "31bc7d15-e9fb-4c31-a3b3-6f3a162d38e3",
   "metadata": {},
   "outputs": [
    {
     "data": {
      "text/plain": [
       "[<Selector query='//tr' data='<tr><td class=\"altrow-a-0\">MAZDA</td>...'>,\n",
       " <Selector query='//tr' data='<tr><td class=\"altrow-a-1\">MAZDA</td>...'>,\n",
       " <Selector query='//tr' data='<tr><td class=\"altrow-a-0\">MAZDA</td>...'>]"
      ]
     },
     "execution_count": 12,
     "metadata": {},
     "output_type": "execute_result"
    }
   ],
   "source": [
    "list_tr = selector.xpath('//tr')\n",
    "\n",
    "list_tr"
   ]
  },
  {
   "cell_type": "code",
   "execution_count": 13,
   "id": "ffd73c4c-08f9-4040-8ebc-f964c0e45f13",
   "metadata": {},
   "outputs": [
    {
     "data": {
      "text/plain": [
       "False"
      ]
     },
     "execution_count": 13,
     "metadata": {},
     "output_type": "execute_result"
    }
   ],
   "source": [
    "not list_tr"
   ]
  },
  {
   "cell_type": "code",
   "execution_count": 14,
   "id": "857e6904-3e86-4e8e-9eea-f9182aef78a2",
   "metadata": {},
   "outputs": [
    {
     "name": "stdout",
     "output_type": "stream",
     "text": [
      "False\n",
      "False\n",
      "False\n"
     ]
    }
   ],
   "source": [
    "for tr in list_tr:\n",
    "    list_text = tr.xpath('./td/text()').getall()\n",
    "    print(len(list_text) not in [2, 3])"
   ]
  },
  {
   "cell_type": "code",
   "execution_count": 15,
   "id": "a2454510-e2df-4285-a53b-06413eff7522",
   "metadata": {},
   "outputs": [
    {
     "data": {
      "text/plain": [
       "{'type_': 'Timing Chain & Component Kit',\n",
       " 'group': 'Engine',\n",
       " 'no': 1,\n",
       " 'type_code': '5756',\n",
       " 'manufacturer': 'MELLING',\n",
       " 'part_number': '30250S',\n",
       " 'url': 'https://www.rockauto.com/en/parts/melling,30250S,timing+chain+&+component+kit,5756',\n",
       " 'picture': '',\n",
       " 'part_code': '8304960',\n",
       " 'join_mpntcpc': 'MELLING;30250S;5756;8304960',\n",
       " 'choose': '',\n",
       " 'json_sidenote': '{}',\n",
       " 'info_url': 'https://www.rockauto.com/en/moreinfo.php?pk=8304960&cc=0&pt=5756',\n",
       " 'json_footnote': '{\"0\": \"Category: Timing Chain & Component Kit\"}',\n",
       " 'oem': '',\n",
       " 'json_src': '{\"0\": \"https://www.rockauto.com/info/583/3-0250S-1-KIT.jpg\", \"1\": \"https://www.rockauto.com/info/583/BT7015-2-SID.jpg\", \"2\": \"https://www.rockauto.com/info/583/BG5515-3-FRO.jpg\", \"3\": \"https://www.rockauto.com/info/583/715F-1-ANG.jpg\", \"4\": \"https://www.rockauto.com/info/583/BT5514-1-ANG.jpg\", \"5\": \"https://www.rockauto.com/info/583/S906A-1-FRO.jpg\", \"6\": \"https://www.rockauto.com/info/583/717F-1-ANG.jpg\", \"7\": \"https://www.rockauto.com/info/583/BT7016-1-TOP.jpg\", \"8\": \"https://www.rockauto.com/info/583/S899-1-FRO.jpg\", \"9\": \"https://www.rockauto.com/info/583/S905-1-FRO.jpg\", \"10\": \"https://www.rockauto.com/info/583/BG7019-2-SID.jpg\"}',\n",
       " 'json_price': '{\"default\": \"$171.99\"}',\n",
       " 'compatibility_no': 1,\n",
       " 'make': 'MAZDA',\n",
       " 'model': '3',\n",
       " 'year': '2004-2007'}"
      ]
     },
     "execution_count": 15,
     "metadata": {},
     "output_type": "execute_result"
    }
   ],
   "source": [
    "list_text = list_tr[0].xpath('./td/text()').getall()\n",
    "{'type_': item['type_'],\n",
    " 'group': item['group'],\n",
    " 'no': item['no'],\n",
    " 'type_code': item['type_code'],\n",
    " 'manufacturer': item['manufacturer'],\n",
    " 'part_number': item['part_number'],\n",
    " 'url': item['url'],\n",
    " 'picture': item['picture'],\n",
    " 'part_code': item['part_code'],\n",
    " 'join_mpntcpc': item['join_mpntcpc'],\n",
    " 'choose': item['choose'],\n",
    " 'json_sidenote': item['json_sidenote'],\n",
    " 'info_url': item['info_url'],\n",
    " 'json_footnote': item['json_footnote'],\n",
    " 'oem': item['oem'],\n",
    " 'json_src': item['json_src'],\n",
    " 'json_price': item['json_price'],\n",
    " 'compatibility_no': 1,\n",
    " 'make': list_text[0].strip(),\n",
    " 'model': list_text[1].strip() if len(list_text) == 3 else '',\n",
    " 'year': list_text[-1].strip()}\n",
    "# def get_list_year(year):\n",
    "#     list_year, list_str_year = [], [str_year.strip() for str_year in str(year).split(',')]\n",
    "#     for str_year in list_str_year:\n",
    "#         year_begin, year_end = int(str_year.split('-')[0].strip()), int(str_year.split('-')[-1].strip())\n",
    "#         for year in range(year_begin, year_end + 1):\n",
    "#             if year not in list_year:\n",
    "#                 list_year.append(year)\n",
    "\n",
    "#     return sorted(list_year)"
   ]
  },
  {
   "cell_type": "code",
   "execution_count": null,
   "id": "1aa8f6ca-c257-47bd-8158-d1011912d9f3",
   "metadata": {},
   "outputs": [],
   "source": []
  }
 ],
 "metadata": {
  "kernelspec": {
   "display_name": "Python 3 (ipykernel)",
   "language": "python",
   "name": "python3"
  },
  "language_info": {
   "codemirror_mode": {
    "name": "ipython",
    "version": 3
   },
   "file_extension": ".py",
   "mimetype": "text/x-python",
   "name": "python",
   "nbconvert_exporter": "python",
   "pygments_lexer": "ipython3",
   "version": "3.12.7"
  }
 },
 "nbformat": 4,
 "nbformat_minor": 5
}
