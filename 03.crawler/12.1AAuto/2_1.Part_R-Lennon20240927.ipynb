{
 "cells": [
  {
   "cell_type": "code",
   "execution_count": 1,
   "id": "ba98551f-b0b1-4c50-8c47-3ad3a3730b73",
   "metadata": {},
   "outputs": [
    {
     "data": {
      "text/plain": [
       "['crawler_2-part_error.xlsx']"
      ]
     },
     "execution_count": 1,
     "metadata": {},
     "output_type": "execute_result"
    }
   ],
   "source": [
    "import os\n",
    "\n",
    "list_file = sorted(list(os.walk('./file/1.url'))[0][2])\n",
    "while '.DS_Store' in list_file:\n",
    "    list_file.remove('.DS_Store')\n",
    "while '0.null.txt' in list_file:\n",
    "    list_file.remove('0.null.txt')\n",
    "\n",
    "list_file"
   ]
  },
  {
   "cell_type": "code",
   "execution_count": 2,
   "id": "9b75b948-9701-432e-a5ef-88d0e629bd2c",
   "metadata": {},
   "outputs": [
    {
     "data": {
      "text/plain": [
       "'crawler_2-part_error.xlsx'"
      ]
     },
     "execution_count": 2,
     "metadata": {},
     "output_type": "execute_result"
    }
   ],
   "source": [
    "file = list_file[0]\n",
    "\n",
    "file"
   ]
  },
  {
   "cell_type": "code",
   "execution_count": 3,
   "id": "76ea49e2-7cc6-4bc1-af5b-7a6768eb6c08",
   "metadata": {},
   "outputs": [],
   "source": [
    "import pandas as pd\n",
    "\n",
    "output_correct, output_error = pd.DataFrame(), pd.DataFrame()"
   ]
  },
  {
   "cell_type": "code",
   "execution_count": 4,
   "id": "5d22fc26-a390-442a-bfe3-4d409c33f1e7",
   "metadata": {
    "scrolled": true
   },
   "outputs": [
    {
     "name": "stdout",
     "output_type": "stream",
     "text": [
      "总数量：3\n"
     ]
    },
    {
     "data": {
      "text/plain": [
       "['https://www.1aauto.com/1978-81-chevrolet-pontiac-roofrail-weatherstrip-seal-2-piece-set-metro-moulded-parts-rr-5020/i/1awsr00095',\n",
       " 'https://www.1aauto.com/ford-front-driver-side-door-weatherstrip-seal-fairchild-automotive-f3004/i/1awsd00176',\n",
       " 'https://www.1aauto.com/chevrolet-gmc-olds-inner-and-outer-window-sweep-4-piece-set-fairchild-automotive-kg2006/i/1awss00115']"
      ]
     },
     "execution_count": 4,
     "metadata": {},
     "output_type": "execute_result"
    }
   ],
   "source": [
    "input_ = pd.read_excel(f'./file/1.url/{file}',\n",
    "                       header=0,\n",
    "                       dtype=str).fillna('')\n",
    "\n",
    "input_['No'] = input_['No'].astype(int)\n",
    "\n",
    "print(f'总数量：{len(input_)}')\n",
    "input_['Url'].tolist()"
   ]
  },
  {
   "cell_type": "code",
   "execution_count": 5,
   "id": "5878a9f0-d639-4123-b6e0-bc564f72c2d6",
   "metadata": {},
   "outputs": [
    {
     "data": {
      "text/plain": [
       "0"
      ]
     },
     "execution_count": 5,
     "metadata": {},
     "output_type": "execute_result"
    }
   ],
   "source": [
    "a = 0\n",
    "\n",
    "a"
   ]
  },
  {
   "cell_type": "code",
   "execution_count": 6,
   "id": "9f61dd65-55da-4d0b-ba30-d0534eff0781",
   "metadata": {},
   "outputs": [
    {
     "data": {
      "text/plain": [
       "'error'"
      ]
     },
     "execution_count": 6,
     "metadata": {},
     "output_type": "execute_result"
    }
   ],
   "source": [
    "crawler_status = 'error'\n",
    "\n",
    "crawler_status"
   ]
  },
  {
   "cell_type": "code",
   "execution_count": 7,
   "id": "ad99bc86-6e80-4fcf-8200-736dc5101097",
   "metadata": {
    "scrolled": true
   },
   "outputs": [
    {
     "name": "stdout",
     "output_type": "stream",
     "text": [
      "1\n"
     ]
    },
    {
     "data": {
      "text/plain": [
       "'1978-81 Chevrolet Pontiac Roofrail Weatherstrip Seal 2 Piece Set Metro Moulded Parts RR 5020'"
      ]
     },
     "execution_count": 7,
     "metadata": {},
     "output_type": "execute_result"
    }
   ],
   "source": [
    "import requests\n",
    "\n",
    "import sys\n",
    "sys.path.append('../00.Tools')\n",
    "from crawler_configuration import get_header, get_proxy\n",
    "\n",
    "from bs4 import BeautifulSoup\n",
    "from lxml import etree\n",
    "\n",
    "b = 0\n",
    "while True:\n",
    "    b += 1\n",
    "    print(b)\n",
    "    try:\n",
    "        request_url = input_.loc[a, 'Url']\n",
    "        \n",
    "        resp = requests.get(request_url,\n",
    "                            headers=get_header(),\n",
    "                            proxies=get_proxy(),\n",
    "                            timeout=(10, 10))\n",
    "\n",
    "        if resp.status_code == 200:\n",
    "            soup = BeautifulSoup(resp.text, 'lxml')\n",
    "            html = etree.HTML(str(soup))\n",
    "\n",
    "            title = html.xpath('//head/title/text()')[0].strip()\n",
    "            with open('./part.html', 'w', encoding='UTF-8') as file:\n",
    "                file.write(str(soup))\n",
    "            break\n",
    "    except KeyboardInterrupt:\n",
    "        break\n",
    "    except:\n",
    "        continue\n",
    "\n",
    "title"
   ]
  },
  {
   "cell_type": "code",
   "execution_count": 8,
   "id": "4acc867e-1dfc-409c-8613-d1f440fcf30a",
   "metadata": {},
   "outputs": [
    {
     "data": {
      "text/plain": [
       "'Weatherstripping'"
      ]
     },
     "execution_count": 8,
     "metadata": {},
     "output_type": "execute_result"
    }
   ],
   "source": [
    "type_ = html.xpath('//span[@itemprop=\"name\"]')[-1].xpath('./text()')[0].strip()\n",
    "\n",
    "type_"
   ]
  },
  {
   "cell_type": "code",
   "execution_count": 9,
   "id": "bebc385c-cd72-4a60-9c19-e46eef8adc67",
   "metadata": {},
   "outputs": [
    {
     "data": {
      "text/plain": [
       "'Replaces'"
      ]
     },
     "execution_count": 9,
     "metadata": {},
     "output_type": "execute_result"
    }
   ],
   "source": [
    "tag = html.xpath('//p[@class=\"product-title\"]/text()')[0].strip() if html.xpath('//p[@class=\"product-title\"]/text()') else ''\n",
    "\n",
    "tag"
   ]
  },
  {
   "cell_type": "code",
   "execution_count": 10,
   "id": "e3f781d5-d0f4-4e9f-854a-3a07afb7101d",
   "metadata": {},
   "outputs": [
    {
     "data": {
      "text/plain": [
       "{'0': 'https://cdn.1aauto.com/partimage/WSR/1AWSR00095/2187fb6f954c4e6cb9c4287963975d64_490.jpg'}"
      ]
     },
     "execution_count": 10,
     "metadata": {},
     "output_type": "execute_result"
    }
   ],
   "source": [
    "dict_src, list_src = {}, html.xpath('//div[@class=\"oneaCarousel onea-carousel-container onea-carousel-vertical\"]/ul[@class=\"oneaCarouselBody onea-carousel-body invisible-scroll-y\"]/li/img[@class=\"img-sq-s lazy-img lazyOnReady carouselDisplaySelect\"]/@data-replacement')\n",
    "for i, src in enumerate(list_src):\n",
    "    dict_src[str(i)] = f'''https:{src.strip()}'''\n",
    "\n",
    "dict_src"
   ]
  },
  {
   "cell_type": "code",
   "execution_count": 11,
   "id": "9a0e8f89-e1c9-4ce2-9577-6af06814aedb",
   "metadata": {},
   "outputs": [
    {
     "data": {
      "text/plain": [
       "{'Quantity': 1, 'Item Condition': 1, 'WARNING': 1}"
      ]
     },
     "execution_count": 11,
     "metadata": {},
     "output_type": "execute_result"
    }
   ],
   "source": [
    "list_div, dict_count = html.xpath('//div[@id=\"product-description-tab\"]/div/ul/li'), {}\n",
    "for div in list_div:\n",
    "    list_text = [text.strip().removesuffix(':').strip() for text in div.xpath('./span/text()')]\n",
    "    if len(list_text) > 1:\n",
    "        if list_text[0] in dict_count:\n",
    "            dict_count[list_text[0]] += 1\n",
    "        else:\n",
    "            dict_count[list_text[0]] = 1\n",
    "\n",
    "list_specification = html.xpath('//div[@id=\"product-description-tab\"]/specifications/specification')\n",
    "for specification in list_specification:\n",
    "    key = specification.xpath('./text()')[0].strip()\n",
    "    if key in dict_count:\n",
    "        dict_count[key] += 1\n",
    "    else:\n",
    "        dict_count[key] = 1\n",
    "\n",
    "list_p = html.xpath('//div[@id=\"product-description-tab\"]/p')\n",
    "for p in list_p:\n",
    "    if p.xpath('./strong/text()'):\n",
    "        key = p.xpath('./strong/text()')[0].strip().removesuffix(':').strip()\n",
    "        if key in ['Item Condition', 'WARNING']:\n",
    "            if key in dict_count:\n",
    "                dict_count[key] += 1\n",
    "            else:\n",
    "                dict_count[key] = 1\n",
    "\n",
    "dict_count"
   ]
  },
  {
   "cell_type": "code",
   "execution_count": 12,
   "id": "c1801881-a69f-4d0b-8666-5828bccd49ee",
   "metadata": {},
   "outputs": [
    {
     "data": {
      "text/plain": [
       "{'0': {'Quantity': '2 Piece Set'},\n",
       " '6': {'Item Condition': 'New'},\n",
       " '7': {'WARNING': 'This product can expose you to chemicals including Mercaptobenzothiazole, which is known to the State of California to cause cancer, and birth defects or other reproductive harm.\\xa0 For more information, go to www.P65Warnings.ca.gov.'}}"
      ]
     },
     "execution_count": 12,
     "metadata": {},
     "output_type": "execute_result"
    }
   ],
   "source": [
    "i, dict_description, dict_no = 0, {}, {}\n",
    "for div in list_div:\n",
    "    list_text = [text.strip().removesuffix(':').strip() for text in div.xpath('./span/text()')]\n",
    "    if len(list_text) == 2:\n",
    "        if dict_count[list_text[0]] == 1:\n",
    "            dict_description[str(i)] = {list_text[0]: list_text[1]}\n",
    "        else:\n",
    "            if list_text[0] in dict_no:\n",
    "                dict_no[list_text[0]] += 1\n",
    "            else:\n",
    "                dict_no[list_text[0]] = 1\n",
    "            dict_description[str(i)] = {f'{list_text[0]}-{dict_no[list_text[0]]}': list_text[1]}\n",
    "    elif len(list_text) > 2:\n",
    "        if dict_count[list_text[0]] == 1:\n",
    "            dict_description[str(i)] = {list_text[0]: {}}\n",
    "            for j, text in enumerate(list_text[1:]):\n",
    "                dict_description[str(i)][list_text[0]][str(j)] = text\n",
    "        else:\n",
    "            if list_text[0] in dict_no:\n",
    "                dict_no[list_text[0]] += 1\n",
    "            else:\n",
    "                dict_no[list_text[0]] = 1\n",
    "            dict_description[str(i)] = {f'{list_text[0]}-{dict_no[list_text[0]]}': {}}\n",
    "            for j, text in enumerate(list_text[1:]):\n",
    "                dict_description[str(i)][f'{list_text[0]}-{dict_no[list_text[0]]}'][str(j)] = text\n",
    "    i += 1\n",
    "\n",
    "for j, specification in enumerate(list_specification):\n",
    "    key = specification.xpath('./text()')[0].strip()\n",
    "    if dict_count[key] == 1:\n",
    "        dict_description[str(i)] = {key: html.xpath('//div[@id=\"product-description-tab\"]/specifications/value')[j].xpath('./text()')[0].strip()}\n",
    "    else:\n",
    "        if key in dict_no:\n",
    "            dict_no[key] += 1\n",
    "        else:\n",
    "            dict_no[key] = 1\n",
    "        dict_description[str(i)] = {f'{key}-{dict_no[key]}': html.xpath('//div[@id=\"product-description-tab\"]/specifications/value')[j].xpath('./text()')[0].strip()}\n",
    "    i += 1\n",
    "\n",
    "for p in list_p:\n",
    "    if p.xpath('./strong/text()'):\n",
    "        key = p.xpath('./strong/text()')[0].strip().removesuffix(':').strip()\n",
    "        if key == 'Item Condition':\n",
    "            if dict_count[key] == 1:\n",
    "                dict_description[str(i)] = {key: p.xpath('./span/text()')[0].strip()}\n",
    "            else:\n",
    "                if key in dict_no:\n",
    "                    dict_no[key] += 1\n",
    "                else:\n",
    "                    dict_no[key] = 1\n",
    "                dict_description[str(i)] = {f'{key}-{dict_no[key]}': p.xpath('./span/text()')[0].strip()}\n",
    "            i += 1\n",
    "        elif key == 'WARNING':\n",
    "            if dict_count[key] == 1:\n",
    "                dict_description[str(i)] = {key: p.xpath('./text()')[0].strip()}\n",
    "            else:\n",
    "                if key in dict_no:\n",
    "                    dict_no[key] += 1\n",
    "                else:\n",
    "                    dict_no[key] = 1\n",
    "                dict_description[str(i)] = {f'{key}-{dict_no[key]}': p.xpath('./text()')[0].strip()}\n",
    "            i += 1\n",
    "        \n",
    "dict_description"
   ]
  },
  {
   "cell_type": "code",
   "execution_count": 13,
   "id": "31b108ee-b454-4a7f-b749-c3d78adca2ef",
   "metadata": {
    "scrolled": true
   },
   "outputs": [
    {
     "data": {
      "text/plain": [
       "{'@context': 'https://schema.org/',\n",
       " '@type': 'Product',\n",
       " 'name': '1AWSR00095-1978-81 Chevrolet Pontiac Roofrail Weatherstrip Seal 2 Piece Set Metro Moulded Parts RR 5020',\n",
       " 'image': ['//cdn.1aauto.com/partimage/WSR/1AWSR00095/2187fb6f954c4e6cb9c4287963975d64_490.jpg'],\n",
       " 'description': '<div class=\"item_specifications\">\\n <p>\\n  These weatherstrips are some of the highest quality reproduction available. This weatherstrip seals the door glass to the body of the vehicle.\\n </p>\\n <p>\\n  <strong>Specifications</strong>\\n </p>\\n <ul>\\n  <li>Comes as a <strong>PAIR</strong>\\n   <ul>\\n    <li>Fits both LH (Driver Side) &amp; RH (Passenger Side) \\n    </li>\\n   </ul>\\n  </li>\\n  <li>Molded exactly like the original on your car\\n  </li>\\n  <li>Smooth soft fine grain rubber\\n  </li>\\n  <li>Direct Replacement\\n  </li>\\n  <li>\\n   <strong>Correct for 2 Door models only</strong>\\n  </li>\\n </ul>\\n <p>\\n  If your weatherstripping is causing leaks allowing damaging rain in, then this seal is for you. Why not replace your old, hardened, rotted seal with this new, ready to install weatherstrip.\\n </p>\\n</div>     ',\n",
       " 'sku': '1AWSR00095',\n",
       " 'mpn': 'RR 5020',\n",
       " 'brand': {'@type': 'Brand', 'name': 'Metro Moulded Parts'},\n",
       " 'offers': {'@type': 'Offer',\n",
       "  'url': 'https://www.1aauto.com/1978-81-chevrolet-pontiac-roofrail-weatherstrip-seal-2-piece-set-metro-moulded-parts-rr-5020/i/1awsr00095',\n",
       "  'priceCurrency': 'USD',\n",
       "  'price': 97.92,\n",
       "  'priceValidUntil': '2024/9/26',\n",
       "  'itemCondition': 'https://schema.org/NewCondition',\n",
       "  'availability': 'https://schema.org/InStock',\n",
       "  'shippingDetails': {'@type': 'OfferShippingDetails',\n",
       "   'shippingRate': {'@type': 'MonetaryAmount',\n",
       "    'value': '0',\n",
       "    'currency': 'USD'},\n",
       "   'shippingDestination': {'@type': 'DefinedRegion', 'addressCountry': 'US'},\n",
       "   'deliveryTime': {'@type': 'ShippingDeliveryTime',\n",
       "    'handlingTime': {'@type': 'QuantitativeValue',\n",
       "     'minValue': 0,\n",
       "     'maxValue': 1,\n",
       "     'unitCode': 'DAY'},\n",
       "    'transitTime': {'@type': 'QuantitativeValue',\n",
       "     'minValue': 2,\n",
       "     'maxValue': 8,\n",
       "     'unitCode': 'DAY'}}},\n",
       "  'hasMerchantReturnPolicy': {'@type': 'MerchantReturnPolicy',\n",
       "   'applicableCountry': 'US',\n",
       "   'returnPolicyCategory': 'https://schema.org/MerchantReturnFiniteReturnWindow',\n",
       "   'merchantReturnDays': 60,\n",
       "   'returnMethod': 'https://schema.org/ReturnByMail'}},\n",
       " 'aggregateRating': None,\n",
       " 'review': []}"
      ]
     },
     "execution_count": 13,
     "metadata": {},
     "output_type": "execute_result"
    }
   ],
   "source": [
    "import json\n",
    "\n",
    "dict_ = json.loads(resp.text.split('<!-- Google structured data  Markup -->')[1].split('<script type=\"application/ld+json\">')[1].split('</script>')[0])\n",
    "\n",
    "dict_"
   ]
  },
  {
   "cell_type": "code",
   "execution_count": 14,
   "id": "0ebb0da6-9494-41fc-9823-6866ea382cff",
   "metadata": {},
   "outputs": [
    {
     "data": {
      "text/html": [
       "<div>\n",
       "<style scoped>\n",
       "    .dataframe tbody tr th:only-of-type {\n",
       "        vertical-align: middle;\n",
       "    }\n",
       "\n",
       "    .dataframe tbody tr th {\n",
       "        vertical-align: top;\n",
       "    }\n",
       "\n",
       "    .dataframe thead th {\n",
       "        text-align: right;\n",
       "    }\n",
       "</style>\n",
       "<table border=\"1\" class=\"dataframe\">\n",
       "  <thead>\n",
       "    <tr style=\"text-align: right;\">\n",
       "      <th></th>\n",
       "      <th>No</th>\n",
       "      <th>Type</th>\n",
       "      <th>SKU</th>\n",
       "      <th>Part Number</th>\n",
       "      <th>Brand</th>\n",
       "      <th>Tag</th>\n",
       "      <th>Title</th>\n",
       "      <th>Picture</th>\n",
       "      <th>Url</th>\n",
       "      <th>Json_Src</th>\n",
       "      <th>Vehicle Url</th>\n",
       "      <th>Json_Description</th>\n",
       "      <th>Price</th>\n",
       "      <th>Rating</th>\n",
       "      <th>Rating Count</th>\n",
       "    </tr>\n",
       "  </thead>\n",
       "  <tbody>\n",
       "    <tr>\n",
       "      <th>0</th>\n",
       "      <td>660</td>\n",
       "      <td>Weatherstripping</td>\n",
       "      <td>RR 5020</td>\n",
       "      <td>1AWSR00095</td>\n",
       "      <td>Metro Moulded Parts</td>\n",
       "      <td>Replaces</td>\n",
       "      <td>1978-81 Chevrolet Pontiac Roofrail Weatherstri...</td>\n",
       "      <td></td>\n",
       "      <td>https://www.1aauto.com/1978-81-chevrolet-ponti...</td>\n",
       "      <td>{\"0\": \"https://cdn.1aauto.com/partimage/WSR/1A...</td>\n",
       "      <td>https://www.1aauto.com/catalog/product/fit?sku...</td>\n",
       "      <td>{\"0\": {\"Quantity\": \"2 Piece Set\"}, \"6\": {\"Item...</td>\n",
       "      <td>USD 97.92</td>\n",
       "      <td></td>\n",
       "      <td>0</td>\n",
       "    </tr>\n",
       "  </tbody>\n",
       "</table>\n",
       "</div>"
      ],
      "text/plain": [
       "    No              Type      SKU Part Number                Brand       Tag  \\\n",
       "0  660  Weatherstripping  RR 5020  1AWSR00095  Metro Moulded Parts  Replaces   \n",
       "\n",
       "                                               Title Picture  \\\n",
       "0  1978-81 Chevrolet Pontiac Roofrail Weatherstri...           \n",
       "\n",
       "                                                 Url  \\\n",
       "0  https://www.1aauto.com/1978-81-chevrolet-ponti...   \n",
       "\n",
       "                                            Json_Src  \\\n",
       "0  {\"0\": \"https://cdn.1aauto.com/partimage/WSR/1A...   \n",
       "\n",
       "                                         Vehicle Url  \\\n",
       "0  https://www.1aauto.com/catalog/product/fit?sku...   \n",
       "\n",
       "                                    Json_Description      Price Rating  \\\n",
       "0  {\"0\": {\"Quantity\": \"2 Piece Set\"}, \"6\": {\"Item...  USD 97.92          \n",
       "\n",
       "   Rating Count  \n",
       "0             0  "
      ]
     },
     "execution_count": 14,
     "metadata": {},
     "output_type": "execute_result"
    }
   ],
   "source": [
    "df_temp = pd.DataFrame([{'No': input_.loc[a, 'No'],\n",
    "                         'Type': type_,\n",
    "                         'SKU': dict_['mpn'].strip() if dict_['mpn'] else '',\n",
    "                         'Part Number': dict_['sku'].strip(),\n",
    "                         'Brand': dict_['brand']['name'].strip(),\n",
    "                         'Tag': tag,\n",
    "                         'Title': title,\n",
    "                         'Picture': '',\n",
    "                         'Url': input_.loc[a, 'Url'],\n",
    "                         'Json_Src': json.dumps(dict_src),\n",
    "                         'OEM Url': f'''https://www.1aauto.com/catalog/product/fit?skuId={resp.text.split('window.productId =')[1].split(';')[0].strip()}&pathName={input_.loc[a, 'Url'].removeprefix('https://www.1aauto.com').replace('/', '%2F')}''',\n",
    "                         'Json_Description': json.dumps(dict_description),\n",
    "                         'Price': f'''{dict_['offers']['priceCurrency'].strip()} {dict_['offers']['price']}''',\n",
    "                         'Rating': dict_['aggregateRating']['ratingValue'].strip() if dict_['aggregateRating'] else '',\n",
    "                         'Rating Count': int(dict_['aggregateRating']['ratingCount'].strip()) if dict_['aggregateRating'] else 0}])\n",
    "\n",
    "output_correct = pd.concat([output_correct, df_temp], ignore_index=True).fillna('')\n",
    "\n",
    "output_correct"
   ]
  },
  {
   "cell_type": "code",
   "execution_count": 15,
   "id": "fc4ed7f6-ed4f-431c-b944-b1690309cdae",
   "metadata": {},
   "outputs": [
    {
     "data": {
      "text/plain": [
       "'ok'"
      ]
     },
     "execution_count": 15,
     "metadata": {},
     "output_type": "execute_result"
    }
   ],
   "source": [
    "crawler_status = 'ok'\n",
    "\n",
    "crawler_status"
   ]
  },
  {
   "cell_type": "code",
   "execution_count": 16,
   "id": "65c745d1-446e-46c5-9dec-819c9f7944d3",
   "metadata": {},
   "outputs": [
    {
     "data": {
      "text/html": [
       "<div>\n",
       "<style scoped>\n",
       "    .dataframe tbody tr th:only-of-type {\n",
       "        vertical-align: middle;\n",
       "    }\n",
       "\n",
       "    .dataframe tbody tr th {\n",
       "        vertical-align: top;\n",
       "    }\n",
       "\n",
       "    .dataframe thead th {\n",
       "        text-align: right;\n",
       "    }\n",
       "</style>\n",
       "<table border=\"1\" class=\"dataframe\">\n",
       "  <thead>\n",
       "    <tr style=\"text-align: right;\">\n",
       "      <th></th>\n",
       "    </tr>\n",
       "  </thead>\n",
       "  <tbody>\n",
       "  </tbody>\n",
       "</table>\n",
       "</div>"
      ],
      "text/plain": [
       "Empty DataFrame\n",
       "Columns: []\n",
       "Index: []"
      ]
     },
     "execution_count": 16,
     "metadata": {},
     "output_type": "execute_result"
    }
   ],
   "source": [
    "if crawler_status == 'error':\n",
    "    df_temp = pd.DataFrame([input_.iloc[a]]).reset_index(drop=True)\n",
    "    df_temp.loc[0, 'Request_Url'] = request_url\n",
    "    \n",
    "    output_error = pd.concat([output_error, df_temp], ignore_index=True).fillna('')\n",
    "\n",
    "output_error"
   ]
  },
  {
   "cell_type": "code",
   "execution_count": 17,
   "id": "7fd477de",
   "metadata": {},
   "outputs": [
    {
     "data": {
      "text/html": [
       "<div>\n",
       "<style scoped>\n",
       "    .dataframe tbody tr th:only-of-type {\n",
       "        vertical-align: middle;\n",
       "    }\n",
       "\n",
       "    .dataframe tbody tr th {\n",
       "        vertical-align: top;\n",
       "    }\n",
       "\n",
       "    .dataframe thead th {\n",
       "        text-align: right;\n",
       "    }\n",
       "</style>\n",
       "<table border=\"1\" class=\"dataframe\">\n",
       "  <thead>\n",
       "    <tr style=\"text-align: right;\">\n",
       "      <th></th>\n",
       "      <th>No</th>\n",
       "      <th>Type</th>\n",
       "      <th>SKU</th>\n",
       "      <th>Part Number</th>\n",
       "      <th>Brand</th>\n",
       "      <th>Tag</th>\n",
       "      <th>Title</th>\n",
       "      <th>Picture</th>\n",
       "      <th>Url</th>\n",
       "      <th>Json_Src</th>\n",
       "      <th>Vehicle Url</th>\n",
       "      <th>Json_Description</th>\n",
       "      <th>Price</th>\n",
       "      <th>Rating</th>\n",
       "      <th>Rating Count</th>\n",
       "    </tr>\n",
       "  </thead>\n",
       "  <tbody>\n",
       "    <tr>\n",
       "      <th>0</th>\n",
       "      <td>660</td>\n",
       "      <td>Weatherstripping</td>\n",
       "      <td>RR 5020</td>\n",
       "      <td>1AWSR00095</td>\n",
       "      <td>Metro Moulded Parts</td>\n",
       "      <td>Replaces</td>\n",
       "      <td>1978-81 Chevrolet Pontiac Roofrail Weatherstri...</td>\n",
       "      <td></td>\n",
       "      <td>https://www.1aauto.com/1978-81-chevrolet-ponti...</td>\n",
       "      <td>{\"0\": \"https://cdn.1aauto.com/partimage/WSR/1A...</td>\n",
       "      <td>https://www.1aauto.com/catalog/product/fit?sku...</td>\n",
       "      <td>{\"0\": {\"Quantity\": \"2 Piece Set\"}, \"6\": {\"Item...</td>\n",
       "      <td>USD 97.92</td>\n",
       "      <td></td>\n",
       "      <td>0</td>\n",
       "    </tr>\n",
       "  </tbody>\n",
       "</table>\n",
       "</div>"
      ],
      "text/plain": [
       "    No              Type      SKU Part Number                Brand       Tag  \\\n",
       "0  660  Weatherstripping  RR 5020  1AWSR00095  Metro Moulded Parts  Replaces   \n",
       "\n",
       "                                               Title Picture  \\\n",
       "0  1978-81 Chevrolet Pontiac Roofrail Weatherstri...           \n",
       "\n",
       "                                                 Url  \\\n",
       "0  https://www.1aauto.com/1978-81-chevrolet-ponti...   \n",
       "\n",
       "                                            Json_Src  \\\n",
       "0  {\"0\": \"https://cdn.1aauto.com/partimage/WSR/1A...   \n",
       "\n",
       "                                         Vehicle Url  \\\n",
       "0  https://www.1aauto.com/catalog/product/fit?sku...   \n",
       "\n",
       "                                    Json_Description      Price Rating  \\\n",
       "0  {\"0\": {\"Quantity\": \"2 Piece Set\"}, \"6\": {\"Item...  USD 97.92          \n",
       "\n",
       "   Rating Count  \n",
       "0             0  "
      ]
     },
     "execution_count": 17,
     "metadata": {},
     "output_type": "execute_result"
    }
   ],
   "source": [
    "if not output_correct.empty:\n",
    "    output_correct = output_correct.sort_values(by=['No'],\n",
    "                                                ascending=[True],\n",
    "                                                ignore_index=True)\n",
    "    output_correct.to_excel('./test_part.xlsx', index=False)\n",
    "\n",
    "output_correct"
   ]
  },
  {
   "cell_type": "code",
   "execution_count": 18,
   "id": "39a5441b-7f69-4812-aad8-7e10a1a24e78",
   "metadata": {},
   "outputs": [
    {
     "data": {
      "text/html": [
       "<div>\n",
       "<style scoped>\n",
       "    .dataframe tbody tr th:only-of-type {\n",
       "        vertical-align: middle;\n",
       "    }\n",
       "\n",
       "    .dataframe tbody tr th {\n",
       "        vertical-align: top;\n",
       "    }\n",
       "\n",
       "    .dataframe thead th {\n",
       "        text-align: right;\n",
       "    }\n",
       "</style>\n",
       "<table border=\"1\" class=\"dataframe\">\n",
       "  <thead>\n",
       "    <tr style=\"text-align: right;\">\n",
       "      <th></th>\n",
       "    </tr>\n",
       "  </thead>\n",
       "  <tbody>\n",
       "  </tbody>\n",
       "</table>\n",
       "</div>"
      ],
      "text/plain": [
       "Empty DataFrame\n",
       "Columns: []\n",
       "Index: []"
      ]
     },
     "execution_count": 18,
     "metadata": {},
     "output_type": "execute_result"
    }
   ],
   "source": [
    "if not output_error.empty:\n",
    "    output_error = output_error.sort_values(by=['No'],\n",
    "                                            ascending=[True],\n",
    "                                            ignore_index=True)\n",
    "    output_error.to_excel('./test_part_error.xlsx', index=False)\n",
    "\n",
    "output_error"
   ]
  },
  {
   "cell_type": "code",
   "execution_count": null,
   "id": "ba5d9f77-7464-4ad5-a42b-1fa0c0505832",
   "metadata": {},
   "outputs": [],
   "source": []
  }
 ],
 "metadata": {
  "kernelspec": {
   "display_name": "Python 3 (ipykernel)",
   "language": "python",
   "name": "python3"
  },
  "language_info": {
   "codemirror_mode": {
    "name": "ipython",
    "version": 3
   },
   "file_extension": ".py",
   "mimetype": "text/x-python",
   "name": "python",
   "nbconvert_exporter": "python",
   "pygments_lexer": "ipython3",
   "version": "3.11.3"
  }
 },
 "nbformat": 4,
 "nbformat_minor": 5
}
