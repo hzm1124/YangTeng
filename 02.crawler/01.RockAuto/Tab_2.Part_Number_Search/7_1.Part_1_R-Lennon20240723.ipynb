{
 "cells": [
  {
   "cell_type": "code",
   "execution_count": 1,
   "id": "a3ab352a-d243-44f8-b85e-b4f88454ef50",
   "metadata": {},
   "outputs": [],
   "source": [
    "param_date = '20240715'"
   ]
  },
  {
   "cell_type": "code",
   "execution_count": 2,
   "id": "32a12924-e1d6-4d3e-a9ef-8073d0aeb574",
   "metadata": {
    "scrolled": true
   },
   "outputs": [
    {
     "data": {
      "text/plain": [
       "['group_1.Apparel & Gifts.xlsx',\n",
       " 'group_10.Electrical-Switch & Relay-serial_1.xlsx',\n",
       " 'group_10.Electrical-Switch & Relay-serial_2.xlsx',\n",
       " 'group_10.Electrical-Switch & Relay-serial_3.xlsx',\n",
       " 'group_11.Engine-serial_1.xlsx',\n",
       " 'group_11.Engine-serial_10.xlsx',\n",
       " 'group_11.Engine-serial_2.xlsx',\n",
       " 'group_11.Engine-serial_3.xlsx',\n",
       " 'group_11.Engine-serial_4.xlsx',\n",
       " 'group_11.Engine-serial_5.xlsx',\n",
       " 'group_11.Engine-serial_6.xlsx',\n",
       " 'group_11.Engine-serial_7.xlsx',\n",
       " 'group_11.Engine-serial_8.xlsx',\n",
       " 'group_11.Engine-serial_9.xlsx',\n",
       " 'group_12.Exhaust & Emission-serial_1.xlsx',\n",
       " 'group_12.Exhaust & Emission-serial_2.xlsx',\n",
       " 'group_12.Exhaust & Emission-serial_3.xlsx',\n",
       " 'group_12.Exhaust & Emission-serial_4.xlsx',\n",
       " 'group_12.Exhaust & Emission-serial_5.xlsx',\n",
       " 'group_12.Exhaust & Emission-serial_6.xlsx',\n",
       " 'group_13.Fuel & Air-serial_1.xlsx',\n",
       " 'group_13.Fuel & Air-serial_2.xlsx',\n",
       " 'group_13.Fuel & Air-serial_3.xlsx',\n",
       " 'group_13.Fuel & Air-serial_4.xlsx',\n",
       " 'group_13.Fuel & Air-serial_5.xlsx',\n",
       " 'group_13.Fuel & Air-serial_6.xlsx',\n",
       " 'group_14.Garage Equipment.xlsx',\n",
       " 'group_15.Hardware.xlsx',\n",
       " 'group_16.Heat & Air Conditioning-serial_1.xlsx',\n",
       " 'group_16.Heat & Air Conditioning-serial_2.xlsx',\n",
       " 'group_16.Heat & Air Conditioning-serial_3.xlsx',\n",
       " 'group_16.Heat & Air Conditioning-serial_4.xlsx',\n",
       " 'group_16.Heat & Air Conditioning-serial_5.xlsx',\n",
       " 'group_16.Heat & Air Conditioning-serial_6.xlsx',\n",
       " 'group_17.Hoses%2FLines & Clamps.xlsx',\n",
       " 'group_18.Ignition-serial_1.xlsx',\n",
       " 'group_18.Ignition-serial_2.xlsx',\n",
       " 'group_18.Ignition-serial_3.xlsx',\n",
       " 'group_18.Ignition-serial_4.xlsx',\n",
       " 'group_19.Interior-serial_1.xlsx',\n",
       " 'group_19.Interior-serial_2.xlsx',\n",
       " 'group_19.Interior-serial_3.xlsx',\n",
       " 'group_19.Interior-serial_4.xlsx',\n",
       " 'group_19.Interior-serial_5.xlsx',\n",
       " 'group_19.Interior-serial_6.xlsx',\n",
       " 'group_19.Interior-serial_7.xlsx',\n",
       " 'group_19.Interior-serial_8.xlsx',\n",
       " 'group_2.Belt Drive-serial_1.xlsx',\n",
       " 'group_2.Belt Drive-serial_2.xlsx',\n",
       " 'group_20.Literature.xlsx',\n",
       " 'group_21.Steering-serial_1.xlsx',\n",
       " 'group_21.Steering-serial_2.xlsx',\n",
       " 'group_21.Steering-serial_3.xlsx',\n",
       " 'group_21.Steering-serial_4.xlsx',\n",
       " 'group_22.Suspension-serial_1.xlsx',\n",
       " 'group_22.Suspension-serial_2.xlsx',\n",
       " 'group_22.Suspension-serial_3.xlsx',\n",
       " 'group_22.Suspension-serial_4.xlsx',\n",
       " 'group_22.Suspension-serial_5.xlsx',\n",
       " 'group_22.Suspension-serial_6.xlsx',\n",
       " 'group_22.Suspension-serial_7.xlsx',\n",
       " 'group_23.Transmission-Automatic-serial_1.xlsx',\n",
       " 'group_23.Transmission-Automatic-serial_2.xlsx',\n",
       " 'group_23.Transmission-Automatic-serial_3.xlsx',\n",
       " 'group_24.Transmission-Manual-serial_1.xlsx',\n",
       " 'group_24.Transmission-Manual-serial_2.xlsx',\n",
       " 'group_24.Transmission-Manual-serial_3.xlsx',\n",
       " 'group_25.Wheel.xlsx',\n",
       " 'group_26.Wiper & Washer.xlsx',\n",
       " 'group_3.Body & Lamp Assembly-serial_1.xlsx',\n",
       " 'group_3.Body & Lamp Assembly-serial_10.xlsx',\n",
       " 'group_3.Body & Lamp Assembly-serial_11.xlsx',\n",
       " 'group_3.Body & Lamp Assembly-serial_2.xlsx',\n",
       " 'group_3.Body & Lamp Assembly-serial_3.xlsx',\n",
       " 'group_3.Body & Lamp Assembly-serial_4.xlsx',\n",
       " 'group_3.Body & Lamp Assembly-serial_5.xlsx',\n",
       " 'group_3.Body & Lamp Assembly-serial_6.xlsx',\n",
       " 'group_3.Body & Lamp Assembly-serial_7.xlsx',\n",
       " 'group_3.Body & Lamp Assembly-serial_8.xlsx',\n",
       " 'group_3.Body & Lamp Assembly-serial_9.xlsx',\n",
       " 'group_4.Brake & Wheel Hub-serial_1.xlsx',\n",
       " 'group_4.Brake & Wheel Hub-serial_10.xlsx',\n",
       " 'group_4.Brake & Wheel Hub-serial_11.xlsx',\n",
       " 'group_4.Brake & Wheel Hub-serial_2.xlsx',\n",
       " 'group_4.Brake & Wheel Hub-serial_3.xlsx',\n",
       " 'group_4.Brake & Wheel Hub-serial_4.xlsx',\n",
       " 'group_4.Brake & Wheel Hub-serial_5.xlsx',\n",
       " 'group_4.Brake & Wheel Hub-serial_6.xlsx',\n",
       " 'group_4.Brake & Wheel Hub-serial_7.xlsx',\n",
       " 'group_4.Brake & Wheel Hub-serial_8.xlsx',\n",
       " 'group_4.Brake & Wheel Hub-serial_9.xlsx',\n",
       " 'group_5.Cooling System-serial_1.xlsx',\n",
       " 'group_5.Cooling System-serial_2.xlsx',\n",
       " 'group_5.Cooling System-serial_3.xlsx',\n",
       " 'group_5.Cooling System-serial_4.xlsx',\n",
       " 'group_6.Drivetrain-serial_1.xlsx',\n",
       " 'group_6.Drivetrain-serial_2.xlsx',\n",
       " 'group_6.Drivetrain-serial_3.xlsx',\n",
       " 'group_6.Drivetrain-serial_4.xlsx',\n",
       " 'group_7.Electrical-serial_1.xlsx',\n",
       " 'group_7.Electrical-serial_2.xlsx',\n",
       " 'group_7.Electrical-serial_3.xlsx',\n",
       " 'group_7.Electrical-serial_4.xlsx',\n",
       " 'group_8.Electrical-Bulb & Socket.xlsx',\n",
       " 'group_9.Electrical-Connector.xlsx']"
      ]
     },
     "execution_count": 2,
     "metadata": {},
     "output_type": "execute_result"
    }
   ],
   "source": [
    "import os\n",
    "\n",
    "list_file = sorted(list(os.walk(f'./{param_date}/6.part_number_2'))[0][2])\n",
    "while '.DS_Store' in list_file:\n",
    "    list_file.remove('.DS_Store')\n",
    "while '0.null.txt' in list_file:\n",
    "    list_file.remove('0.null.txt')\n",
    "\n",
    "list_file"
   ]
  },
  {
   "cell_type": "code",
   "execution_count": 3,
   "id": "c9de1936-ff24-4793-98f4-5ef072598a26",
   "metadata": {},
   "outputs": [
    {
     "data": {
      "text/plain": [
       "'group_1.Apparel & Gifts.xlsx'"
      ]
     },
     "execution_count": 3,
     "metadata": {},
     "output_type": "execute_result"
    }
   ],
   "source": [
    "file = list_file[0]\n",
    "\n",
    "file"
   ]
  },
  {
   "cell_type": "code",
   "execution_count": 4,
   "id": "783f89be-0cdc-4912-942e-895cc5f09840",
   "metadata": {},
   "outputs": [],
   "source": [
    "import pandas as pd\n",
    "\n",
    "output_correct, output_error = pd.DataFrame(), pd.DataFrame()"
   ]
  },
  {
   "cell_type": "code",
   "execution_count": 5,
   "id": "1c28f4ff-eee5-4220-a711-cc2f93fe08f0",
   "metadata": {
    "scrolled": true
   },
   "outputs": [
    {
     "name": "stdout",
     "output_type": "stream",
     "text": [
      "总数量：33\n"
     ]
    },
    {
     "data": {
      "text/plain": [
       "['GIFTCERT100',\n",
       " 'GIFTCERT25',\n",
       " 'GIFTCERT50',\n",
       " 'GIFTCERT75',\n",
       " 'GIFTCERTVAR',\n",
       " 'B1',\n",
       " 'B2',\n",
       " 'B3',\n",
       " 'BLACKHAT',\n",
       " 'H1',\n",
       " 'H2',\n",
       " 'LANYARD',\n",
       " 'MAGPACK',\n",
       " 'A507',\n",
       " 'BUMPERDECAL',\n",
       " 'BUMPERDECAL2',\n",
       " 'DECALCOMBO',\n",
       " 'DECALCOMBO2',\n",
       " 'DECALCOMBO3',\n",
       " 'WINDOWDECAL',\n",
       " 'T1',\n",
       " 'T10',\n",
       " 'T11',\n",
       " 'T2',\n",
       " 'T3',\n",
       " 'T3C',\n",
       " 'T3R',\n",
       " 'T4',\n",
       " 'T5',\n",
       " 'T6',\n",
       " 'T7',\n",
       " 'T8',\n",
       " 'T9']"
      ]
     },
     "execution_count": 5,
     "metadata": {},
     "output_type": "execute_result"
    }
   ],
   "source": [
    "input_ = pd.read_excel(f'./{param_date}/6.part_number_2/{file}',\n",
    "                       header=0,\n",
    "                       dtype=str).fillna('')\n",
    "\n",
    "input_['Group No'] = input_['Group No'].astype(int)\n",
    "input_['Type No'] = input_['Type No'].astype(int)\n",
    "input_['Manufacturer No'] = input_['Manufacturer No'].astype(int)\n",
    "input_['Part No'] = input_['Part No'].astype(int)\n",
    "\n",
    "print(f'总数量：{len(input_)}')\n",
    "input_['Part Number'].tolist()"
   ]
  },
  {
   "cell_type": "code",
   "execution_count": 6,
   "id": "5878a9f0-d639-4123-b6e0-bc564f72c2d6",
   "metadata": {},
   "outputs": [
    {
     "data": {
      "text/plain": [
       "0"
      ]
     },
     "execution_count": 6,
     "metadata": {},
     "output_type": "execute_result"
    }
   ],
   "source": [
    "a = 0\n",
    "\n",
    "a"
   ]
  },
  {
   "cell_type": "code",
   "execution_count": 7,
   "id": "9f61dd65-55da-4d0b-ba30-d0534eff0781",
   "metadata": {},
   "outputs": [
    {
     "data": {
      "text/plain": [
       "'error'"
      ]
     },
     "execution_count": 7,
     "metadata": {},
     "output_type": "execute_result"
    }
   ],
   "source": [
    "crawler_status = 'error'\n",
    "\n",
    "crawler_status"
   ]
  },
  {
   "cell_type": "code",
   "execution_count": 8,
   "id": "523cc867",
   "metadata": {
    "scrolled": true
   },
   "outputs": [
    {
     "name": "stdout",
     "output_type": "stream",
     "text": [
      "1\n"
     ]
    },
    {
     "data": {
      "text/plain": [
       "<Response [200]>"
      ]
     },
     "execution_count": 8,
     "metadata": {},
     "output_type": "execute_result"
    }
   ],
   "source": [
    "import requests\n",
    "import json\n",
    "\n",
    "import sys\n",
    "sys.path.append('../../00.Tools')\n",
    "from crawler_configuration import get_header, get_proxy\n",
    "\n",
    "data = {'dopartsearch': '1',\n",
    "        'partsearch[partnum][partsearch_007]': input_.loc[a, 'Part Number'],\n",
    "        'partsearch[manufacturer][partsearch_007]': input_.loc[a, 'Manufacturer'],\n",
    "        'partsearch[partgroup][partsearch_007]': input_.loc[a, 'Group'],\n",
    "        'partsearch[parttype][partsearch_007]': input_.loc[a, 'Type Code'],\n",
    "        'partsearch[do][partsearch_007]': '1',\n",
    "        'func': 'sendparttabsearch',\n",
    "        'giveback': json.dumps({}),\n",
    "        'api_json_request': '1'}\n",
    "\n",
    "b = 0\n",
    "while True:\n",
    "\n",
    "    while True:\n",
    "        b += 1\n",
    "        print(b)\n",
    "        try:\n",
    "            resp = requests.post('https://www.rockauto.com/catalog/catalogapi.php',\n",
    "                                 data=data,\n",
    "                                 headers=get_header(),\n",
    "                                 proxies=get_proxy(),\n",
    "                                 timeout=(10, 10))\n",
    "            break\n",
    "        except:\n",
    "            continue\n",
    "\n",
    "    if resp.status_code == 200:\n",
    "        break\n",
    "\n",
    "resp"
   ]
  },
  {
   "cell_type": "code",
   "execution_count": 9,
   "id": "c2c1e618-4c65-4491-9740-189b35b9f009",
   "metadata": {
    "scrolled": true
   },
   "outputs": [
    {
     "data": {
      "text/plain": [
       "{'giveback': [],\n",
       " 'searchnoderesults': '<div class=\"ranavnode\" id=\"nav[__GIP__1__]\"><input type=\"hidden\" autocomplete=\"off\" id=\"jsn[__GIP__1__]\" value=\"{&quot;groupindex&quot;:&quot;__GIP__1__&quot;,&quot;tab&quot;:&quot;partsearch&quot;,&quot;idepth&quot;:0,&quot;groupname&quot;:&quot;Apparel &amp; Gifts&quot;,&quot;parttype&quot;:&quot;260&quot;,&quot;catalogname&quot;:&quot;ROCKAUTO&quot;,&quot;partnumber&quot;:&quot;GIFTCERT100&quot;,&quot;nodetype&quot;:&quot;parttabsearch&quot;,&quot;expanded&quot;:true,&quot;loaded&quot;:true}\" /><input type=\"hidden\" autocomplete=\"off\" name=\"navnodeunique[partsearch-apparel &amp; gifts-260]\" id=\"navnodeunique[partsearch-apparel &amp; gifts-260]\" value=\"__GIP__1__\" /><div id=\"nav_o[__GIP__1__]\" class=\"ranavouter\"><div class=\"inner\"><table class=\"tbl\"  cellpadding=\"0\" cellspacing=\"0\"><tr><td class=\"niconspace nexpandedicon\" id=\"navicon[__GIP__1__]\"><a href=\"/en/parts/rockauto,GIFTCERT100,gift+certificate,260\" onclick=\"cataloglite.LinkIntercept_ToggleNavNode(&quot;__GIP__1__&quot;); return false;\" tabindex=\"-1\"><img src=\"/Images/1pxtransparent.png\" alt=\"Toggle\"></a></td><td class=\"nlabel\" ><a class=\"navlabellink nvoffset nnormal\" href=\"/en/parts/rockauto,GIFTCERT100,gift+certificate,260\" onclick=\"cataloglite.LinkIntercept_ToggleNavNode(&quot;__GIP__1__&quot;); return false;\" id=\"navhref[__GIP__1__]\">Search for Manufacturer=\\'ROCKAUTO\\' and Part Group=\\'Apparel &amp; Gifts\\' and Part Type=\\'Gift Certificate\\' and Part Number=\\'GIFTCERT100\\'</a></td></tr></table></div></div><div class=\"nchildren\" id=\"navchildren[__GIP__1__]\" ><div id=\"listings[__GIP__2__]\" class=\"listings-container\"><form method=\"post\" id=\"frmlistings[__GIP__2__]\" class=\"nobmp\" action=\"/en/partsearch/?mfr=ROCKAUTO&parttype=260&partnum=GIFTCERT100\"><input type=\"hidden\" name=\"_nck\" value=\"8LVLUxTaILBT+tLxkg8+3Ag7/0bbOhvn7P3rkFbL809YNOHQDmNBznFtdYfbcEUriQ0mcmy/TcWfcbfHTjxSwndfe2chgzy88liHO2MoAcp7wW7lek5DxawTLSg/DpYUwwgKwrMfy33KXt0mHe+QhpAIxa6l/re5wWtdOgIou84xSaq04tRYZyGMgYZdZpD/\"><div class=\"listing-container-border\"><input type=\"hidden\" autocomplete=\"off\" id=\"parentnode[__GIP__2__]\" value=\"__GIP__1__\" /><div><div style=\"padding-top: 1px; padding-left: .25em; padding-right: .25em;\"><div class=\"remove-for-print\" style=\"padding-top:5px;\"><div class=\"ib vtop\"><span style=\"padding-left: .5em;\" class=\"show-if-js\"><img onclick=\"cataloglite.NavNode_SimulateClick(&quot;__GIP__1__&quot;);\" style=\"vertical-align: top;\" class=\"mouseover\" src=\"/catalog/images/close.gif\" alt=\"Close\" title=\"Close\" /></span><span style=\"padding-left: .5em;\" class=\"show-if-js\"><a href=\"/en/printlistings.php?ni=__GIP__2__&title=Print Part Listings\" target=\"_blank\" rel=\"opener\" ><img style=\"vertical-align: top; border: none; height: 20px;\" class=\"mouseover\" src=\"/Images/mobile/printer.png\" alt=\"Print Part Listings\" title=\"Print Part Listings\" /></a></span><span style=\"padding-left: .5em;\" class=\"show-if-js\"><a href=\"/en/emailpagetofriend.php?nurl=%2Fen%2Fpartsearch%2F%3Fmfr%3DROCKAUTO%26parttype%3D260%26partnum%3DGIFTCERT100\" target=\"_blank\" onclick=\"cataloglite.AddFiltersToEmailListingURL(&quot;\\\\/en\\\\/partsearch\\\\/?mfr=ROCKAUTO&amp;parttype=260&amp;partnum=GIFTCERT100&quot;, &quot;__GIP__2__&quot;); return false;\"><img style=\"vertical-align: top; border: none; height: 14px;\" class=\"mouseover\" src=\"/Images/mobile/envelope.png\" alt=\"Send these listings to a friend\" title=\"Send these listings to a friend\" /></a></span><span style=\"padding-left: .5em;\" class=\"show-if-js\"><a href=\"/help/?page=2\" target=\"_blank\" style=\"text-decoration: none;\" title=\"How do I choose a part?\" alt=\"How do I choose a part?\">\\n                                            <img class=\"help_q_icon_16 vtop\" src=\"/Images/questionMark.png\" alt=\"Help\" />\\n                                            </a></span></div><span style=\"padding-left: .5em;\" class=\"span-filterinput\"><div class=\"ib\"><table class=\"tblz tbl-input-button-attached attached-filter-size\"><tr><td class=\"td-input\"><input type=\"text\" size=\"25\" value=\"\" name=\"filterinput\" class=\"filter-input\" id=\"filterinput[__GIP__2__]\" style=\"\" onclick=\"cataloglite.DisplayFilterBreakDown(&quot;__GIP__2__&quot;);\" onkeypress=\"return RA.InterceptEnter(event, function(){cataloglite.FilterListings(&quot;__GIP__2__&quot;);});\" onblur=\"cataloglite.FilterListings(&quot;__GIP__2__&quot;);\" autocomplete=\"off\" spellcheck=\"false\" autocorrect=\"off\" autocapitalize=\"off\" placeholder=\"Filter By Keyword(s)\" title=\"Filter listings below by entering words that you want to see. Use \\'-\\' before a word to find results that do NOT contain that word. Use OR between words or groups of words to see listings that match either. Use quotes &quot;...&quot; around a set of words you wish to match only when they exist together as a phrase. Multiple filters can be applied by entering new words or phrases after each filter operation.\" /></td><td class=\"td-button\"><img class=\"ib input-size ra-btn ra-btn-size-normal ra-btn-color-darkblue ra-btn-search-icon\" src=\"/Images/1pxtransparent.png\" style=\"color: black;\" onclick=\"RA.ThrottleRepeats(function() { cataloglite.SendPartTabSearch(\\'frm_partsearch\\', &quot;__GIP__2__&quot;); }, \\'part_tab_search_filter\\', 2.5); return false;\" alt=\"Apply Filter\" /></td></tr></table></div><span style=\"position: relative;\"><span id=\"filterbreakdownwrapper___GIP__2__\" class=\"ra-hide\" style=\"position: absolute; z-index: 10;\"><div style=\"background: #FFFFFF; border: 1px solid black; padding: 5px; white-space: nowrap;\"><div style=\"text-align: right;\" class=\"filter-breakdown-row-spacing\"><img onclick=\"cataloglite.DisplayFilterBreakDown(&quot;__GIP__2__&quot;, 1);\" style=\"vertical-align: top;\" class=\"mouseover\" src=\"/catalog/images/close.gif\" alt=\"Hide\" title=\"Hide\"></div><div id=\"filterbreakdownsteps___GIP__2__\"></div><div style=\"text-align: center; padding-top: .25em;\"><input type=\"submit\" name=\"clearfilter\" value=\"Clear Filter\" class=\"ra-btn mo-link\" style=\"color: blue;\" onclick=\"RA.ThrottleRepeats(function() { cataloglite.SendPartTabSearch(\\'frm_partsearch\\', &quot;__GIP__2__&quot;, 1); }, \\'part_tab_search_filter\\', 2.5); return false;\"></div></div></span></span></span></div></div><div style=\"clear: both; padding-top: .25em;\"></div><table class=\"nobmp\" style=\"width: 100%;\" cellpadding=\"0\" cellspacing=\"0\">\\n                    <tbody>\\n                        <tr>\\n                            <td colspan=\"2\">\\n                                \\n                            </td>\\n                            <td colspan=\"4\" class=\" listing-float-box-cell-shared-header\" style=\"height: 1px; text-align: center;\">\\n                                <span style=\"font-weight: bold;\">Price</span>\\n                            </td>\\n                            <td class=\"ra-hide listing-float-box-cell-shared-header\" style=\"height: 1px; text-align: center;\">\\n                                \\n                            </td>\\n                            <td class=\"ra-hide listing-float-box-cell-shared-header\" style=\"height: 1px; text-align: center;\">\\n                                \\n                            </td>\\n                            <td class=\"ra-hide listing-float-box-cell-shared-header\" style=\"height: 1px; text-align: center;\">\\n                                \\n                            </td>\\n                            <td class=\" listing-float-box-cell-shared-header\" style=\"text-align: center;\">\\n                                \\n                            </td>\\n                        </tr>\\n                    </tbody>\\n                    <tr class=\"remove-for-print\"><td colspan=\"6\" id=\"listingnopartscriteria[__GIP__2__]\" style=\"color: red;\" class=\"ra-hide\">No parts for vehicles in selected markets.</td></tr>\\n                    <tbody id=\"listingcontainer[__GIP__3__]\" class=\"listing-inner altrow-a-1  \" style=\"\">\\n                        <tr>\\n                            <td rowspan=\"2\" class=\"listing-border-top-line listing-inner-content\" style=\"\">\\n                                <span style=\"float: right;\"></span>\\n                                <div></div>\\n                                <div class=\"listing-text-row-moreinfo-truck\"><span class=\"listing-final-manufacturer \">ROCKAUTO</span> <span class=\"listing-final-partnumber  as-link-if-js\" id=\"vew_partnumber[__GIP__3__]\" onclick=\"if (cataloglite.IsMobileAndNotExpanded(&quot;__GIP__3__&quot;)) { return; } cataloglite.ShowBuyersGuidePopup(&quot;__GIP__3__&quot;);\" title=\"Buyer\\'s Guide\" alt=\"Buyer\\'s Guide\">GIFTCERT100</span>  <span class=\"span-link-underline-remover\">$100 Gift Certificate</span>   <a href=\"https://www.rockauto.com/en/moreinfo.php?pk=368852&cc=0&pt=260\" target=\"_blank\" rel=\"opener\"  class=\"ra-btn ra-btn-moreinfo\" onclick=\"cataloglite.MoreInfoClick(this, &quot;__GIP__3__&quot;); AddSerializedCookieDataToHref(this);\">Info</a>   <span name=\"vew_whtruckicon[__GIP__3__][alloptions]\" class=\"truck ra-hide remove-for-print mouseover\" title=\"Could ship from same location as parts in cart\" onclick=\"FAQpopup(\\'/help/?page=2#MINSHIPCOST\\', &quot;Could ship from same location as parts in cart&quot;, null, this); RA.StopBubble(event); return false;\">&nbsp;</span>  </div>\\n                                <div class=\"listing-text-row\"><span  title=\"Please make sure this note matches your vehicle. A seemingly contradictory note (like &quot;Left; Right;&quot;) means the part fits either (left OR right) -- it does not mean you\\'ll receive two parts. Please do not choose a part if the note does not describe your application (for example, if the note says &quot;Sedan&quot; and you have a station wagon).\"><span class=\"listing-footnote-text\">Category: Gift Certificate</span></span> </div>\\n                                <div><div class=\"listing-optionchoice-multiple-container remove-for-print\"><span class=\"listing-optionchoice-multiple-label\">Choose Format: </span><span id=\"ddrepl[optionchoice[__GIP__3__]][container]\" class=\"ra-vertical-dropdown-replacement-c\"><span class=\"hide-if-js\"><select id=\"optionchoice[__GIP__3__]\" name=\"optionchoice[__GIP__3__]\" class = \"listing-optionchoice-multiple\" onchange = \"cataloglite.change_opt(&quot;__GIP__3__&quot;); cataloglite.DynamicDropDown_SetSelected(&quot;ddrepl[optionchoice[__GIP__3__]]&quot;, -1, \\'r\\');\" tabindex=\"0\" autocomplete = \"none\"><option value=\"\"  selected >&nbsp</option><option value=\"6-Email-0-1\"  ><span class=\"param-value-text\">Email (free shipping)</span>  ^</option><option value=\"6-Paper-0-1\"  ><span class=\"param-value-text\">Paper Copy (regular shipping costs apply)</span>  ^</option></select></span><span id=\"ddrepl[optionchoice[__GIP__3__]]\" class=\"ra-vertical-dropdown-replacement tfk show-if-js\" style=\"\"><input type=\"hidden\" autocomplete=\"off\" id=\"ddrepl[optionchoice[__GIP__3__]][jsstate]\" value=\"{&quot;expanded&quot;:&quot;&quot;,&quot;selectedindex&quot;:0,&quot;selectid&quot;:&quot;optionchoice[__GIP__3__]&quot;,&quot;disabled&quot;:false,&quot;tfk&quot;:false}\"><table class=\"control-table nobmp-table\"><tr><td><span id=\"ddrepl[optionchoice[__GIP__3__]][collapse]\" class=\"collapsed input-border input-padding no-text-select  listing-optionchoice-multiple\" onclick=\"clb.DynamicDropDown_CollapsedClick(&quot;ddrepl[optionchoice[__GIP__3__]]&quot;, event);\" style=\"min-width: 14.33em;\"><span class=\"down-arrow\"></span><span class=\"vmiddle\" id=\"ddrepl[optionchoice[__GIP__3__]][collapsetext]\">&nbsp</span></span><div id=\"ddrepl[optionchoice[__GIP__3__]][expand]\" class=\"expanded ra-hide\"><div class=\"absolute\" id=\"ddrepl[optionchoice[__GIP__3__]][absolute]\"><ul class=\"scroll\" id=\"ddrepl[optionchoice[__GIP__3__]][scroll]\"><li class=\"list-item first\" id=\"ddrepl[optionchoice[__GIP__3__]][list-item][0]\" onclick=\"clb.DynamicDropDown_SetSelected(&quot;ddrepl[optionchoice[__GIP__3__]]&quot;, 0, \\'w\\');\"><div class=\"outer selected\" id=\"ddrepl[optionchoice[__GIP__3__]][list-item][0][outer]\"><div class=\"inner\" id=\"ddrepl[optionchoice[__GIP__3__]][list-item][0][inner]\">&nbsp</div></div></li><li class=\"list-item\" id=\"ddrepl[optionchoice[__GIP__3__]][list-item][1]\" onclick=\"clb.DynamicDropDown_SetSelected(&quot;ddrepl[optionchoice[__GIP__3__]]&quot;, 1, \\'w\\');\"><div class=\"outer\" id=\"ddrepl[optionchoice[__GIP__3__]][list-item][1][outer]\"><div class=\"inner\" id=\"ddrepl[optionchoice[__GIP__3__]][list-item][1][inner]\"><span class=\"di vmiddle\"><span class=\"param-value-text\">Email (free shipping)</span> </span> <img name=\"vew_whtruckicon[__GIP__3__][6-Email-0-1]\" src=\"/Images/mobile/truck.png\" class=\"nobmp di vmiddle ra-hide\" style=\"height: 1.25em; margin-left: .25em;\" onmousemove=\"clb.FAQHover_MouseMove(this, event, \\'/help/?page=2#MINSHIPCOST\\', \\'Could ship from same location as parts in cart\\');\" onmouseout=\"clb.FAQHover_MouseOut(this, event);\" title=\"Could ship from same location as parts in cart\" alt=\"Warehouse\"/></div></div></li><li class=\"list-item last\" id=\"ddrepl[optionchoice[__GIP__3__]][list-item][2]\" onclick=\"clb.DynamicDropDown_SetSelected(&quot;ddrepl[optionchoice[__GIP__3__]]&quot;, 2, \\'w\\');\"><div class=\"outer\" id=\"ddrepl[optionchoice[__GIP__3__]][list-item][2][outer]\"><div class=\"inner\" id=\"ddrepl[optionchoice[__GIP__3__]][list-item][2][inner]\"><span class=\"di vmiddle\"><span class=\"param-value-text\">Paper Copy (regular shipping costs apply)</span> </span> <img name=\"vew_whtruckicon[__GIP__3__][6-Paper-0-1]\" src=\"/Images/mobile/truck.png\" class=\"nobmp di vmiddle ra-hide\" style=\"height: 1.25em; margin-left: .25em;\" onmousemove=\"clb.FAQHover_MouseMove(this, event, \\'/help/?page=2#MINSHIPCOST\\', \\'Could ship from same location as parts in cart\\');\" onmouseout=\"clb.FAQHover_MouseOut(this, event);\" title=\"Could ship from same location as parts in cart\" alt=\"Warehouse\"/></div></div></li></ul></div></div></td><td style=\"width: 1px;\"><label for=\"ddrepl[optionchoice[__GIP__3__]][tabbable]\" style=\"display:none;\">Intentionally blank</label><input id=\"ddrepl[optionchoice[__GIP__3__]][tabbable]\" tabindex=\"0\" onfocus=\"clb.DynamicDropDown_SetFocus(&quot;ddrepl[optionchoice[__GIP__3__]]&quot;, event);\" type=\"text\" class=\"almost-hidden-input no-text-select ra-hide\" value=\"\" /></td><td style=\"width: 1px;\"><label for=\"ddrepl[optionchoice[__GIP__3__]][readonly]\" style=\"display:none;\">Intentionally blank</label><input id=\"ddrepl[optionchoice[__GIP__3__]][readonly]\" tabindex=\"-1\" onfocus=\"clb.DynamicDropDown_Readonly_OnFocus(&quot;ddrepl[optionchoice[__GIP__3__]]&quot;, event);\" onblur=\"clb.DynamicDropDown_Readonly_OnBlur(&quot;ddrepl[optionchoice[__GIP__3__]]&quot;, event);\" onkeydown=\"cataloglite.DynamicDropDown_Readonly_OnKeyDown(&quot;ddrepl[optionchoice[__GIP__3__]]&quot;, event);\" type=\"text\" readonly class=\"almost-hidden-input no-text-select ra-hide\" value=\"\" /></td></tr></table></span></span><label for=\"optionchoice[__GIP__3__]\" style=\"display:none;\">Choose</label></div></div>\\n                                <div><div class=\"listing-notification-wrapper hide-if-js\"><span class=\"hide-if-js\">^ Could ship from same location as parts in cart</span><span class=\"show-if-js\"><img src=\"/Images/mobile/truck.png\" class=\"nobmp di vmiddle ra-hide\" style=\"height: 1.25em; margin-left: .25em;\" onclick=\"FAQpopup(\\'/help/?page=2#MINSHIPCOST\\', \\'Could ship from same location as parts in cart\\', null, this); RA.StopBubble(event); return false;\" title=\"Could ship from same location as parts in cart\" alt=\"Warehouse\"/></span></div></div>\\n                                <div></div>\\n                                \\n                                <input type=\"hidden\" autocomplete=\"off\" id=\"pricebreakdown[__GIP__3__][]\" value=\"{&quot;colspan&quot;:4,&quot;v&quot;:&quot;$100.00&quot;,&quot;n&quot;:&quot;100.00&quot;}\"><input type=\"hidden\" autocomplete=\"off\" id=\"corebreakdown[__GIP__3__][]\" value=\"{&quot;display&quot;:&quot;none&quot;,&quot;v&quot;:&quot;$0.00&quot;,&quot;n&quot;:&quot;0.00&quot;}\"><input type=\"hidden\" autocomplete=\"off\" id=\"totalbreakdown[__GIP__3__][]\" value=\"{&quot;display&quot;:&quot;none&quot;,&quot;v&quot;:&quot;$100.00&quot;,&quot;n&quot;:&quot;100.00&quot;}\"><input type=\"hidden\" autocomplete=\"off\" id=\"packbreakdown[__GIP__3__][]\" value=\"{&quot;multiple&quot;:&quot;1&quot;,&quot;v&quot;:&quot;&lt;span class=\\\\&quot;hide-if-js\\\\&quot;&gt;+ Sold in packs of 1&lt;\\\\/span&gt;&lt;span class=\\\\&quot;show-if-js\\\\&quot;&gt;&lt;span class=\\\\&quot;pack_size_box no-text-select\\\\&quot; onclick=\\\\&quot;showContextPopup(\\'&amp;nbsp;\\', &amp;quot;Sold in packs of 1&amp;quot;, this); RA.StopBubble(event); return false;\\\\&quot; title=\\\\&quot;Sold in packs of 1\\\\&quot;&gt;&lt;span class=\\\\&quot;right\\\\&quot;&gt;&lt;span class=\\\\&quot;left\\\\&quot;&gt;&lt;span class=\\\\&quot;text\\\\&quot;&gt;&lt;span class=\\\\&quot;text-x-small\\\\&quot;&gt;x&lt;\\\\/span&gt;1&lt;\\\\/span&gt;&lt;\\\\/span&gt;&lt;\\\\/span&gt;&lt;\\\\/span&gt;&lt;\\\\/span&gt;&quot;,&quot;display&quot;:&quot;none&quot;}\"><input type=\"hidden\" autocomplete=\"off\" id=\"pricebreakdown[__GIP__3__][6-Email-0-1]\" value=\"{&quot;bold&quot;:false,&quot;notbold&quot;:false,&quot;oos&quot;:false,&quot;v&quot;:&quot;$100.00&quot;,&quot;colspan&quot;:4,&quot;n&quot;:&quot;100.00&quot;}\"><input type=\"hidden\" autocomplete=\"off\" id=\"corebreakdown[__GIP__3__][6-Email-0-1]\" value=\"{&quot;bold&quot;:false,&quot;notbold&quot;:false,&quot;oos&quot;:false,&quot;v&quot;:&quot;$0.00&quot;,&quot;display&quot;:&quot;none&quot;,&quot;n&quot;:&quot;0.00&quot;}\"><input type=\"hidden\" autocomplete=\"off\" id=\"totalbreakdown[__GIP__3__][6-Email-0-1]\" value=\"{&quot;bold&quot;:false,&quot;notbold&quot;:false,&quot;oos&quot;:false,&quot;v&quot;:&quot;$100.00&quot;,&quot;display&quot;:&quot;none&quot;,&quot;n&quot;:&quot;100.00&quot;}\"><input type=\"hidden\" autocomplete=\"off\" id=\"packbreakdown[__GIP__3__][6-Email-0-1]\" value=\"{&quot;multiple&quot;:&quot;1&quot;,&quot;v&quot;:&quot;&lt;span class=\\\\&quot;hide-if-js\\\\&quot;&gt;+ Sold in packs of 1&lt;\\\\/span&gt;&lt;span class=\\\\&quot;show-if-js\\\\&quot;&gt;&lt;span class=\\\\&quot;pack_size_box no-text-select\\\\&quot; onclick=\\\\&quot;showContextPopup(\\'&amp;nbsp;\\', &amp;quot;Sold in packs of 1&amp;quot;, this); RA.StopBubble(event); return false;\\\\&quot; title=\\\\&quot;Sold in packs of 1\\\\&quot;&gt;&lt;span class=\\\\&quot;right\\\\&quot;&gt;&lt;span class=\\\\&quot;left\\\\&quot;&gt;&lt;span class=\\\\&quot;text\\\\&quot;&gt;&lt;span class=\\\\&quot;text-x-small\\\\&quot;&gt;x&lt;\\\\/span&gt;1&lt;\\\\/span&gt;&lt;\\\\/span&gt;&lt;\\\\/span&gt;&lt;\\\\/span&gt;&lt;\\\\/span&gt;&quot;,&quot;display&quot;:&quot;none&quot;}\"><input type=\"hidden\" autocomplete=\"off\" id=\"pricebreakdown[__GIP__3__][6-Paper-0-1]\" value=\"{&quot;bold&quot;:false,&quot;notbold&quot;:false,&quot;oos&quot;:false,&quot;v&quot;:&quot;$100.00&quot;,&quot;colspan&quot;:4,&quot;n&quot;:&quot;100.00&quot;}\"><input type=\"hidden\" autocomplete=\"off\" id=\"corebreakdown[__GIP__3__][6-Paper-0-1]\" value=\"{&quot;bold&quot;:false,&quot;notbold&quot;:false,&quot;oos&quot;:false,&quot;v&quot;:&quot;$0.00&quot;,&quot;display&quot;:&quot;none&quot;,&quot;n&quot;:&quot;0.00&quot;}\"><input type=\"hidden\" autocomplete=\"off\" id=\"totalbreakdown[__GIP__3__][6-Paper-0-1]\" value=\"{&quot;bold&quot;:false,&quot;notbold&quot;:false,&quot;oos&quot;:false,&quot;v&quot;:&quot;$100.00&quot;,&quot;display&quot;:&quot;none&quot;,&quot;n&quot;:&quot;100.00&quot;}\"><input type=\"hidden\" autocomplete=\"off\" id=\"packbreakdown[__GIP__3__][6-Paper-0-1]\" value=\"{&quot;multiple&quot;:&quot;1&quot;,&quot;v&quot;:&quot;&lt;span class=\\\\&quot;hide-if-js\\\\&quot;&gt;+ Sold in packs of 1&lt;\\\\/span&gt;&lt;span class=\\\\&quot;show-if-js\\\\&quot;&gt;&lt;span class=\\\\&quot;pack_size_box no-text-select\\\\&quot; onclick=\\\\&quot;showContextPopup(\\'&amp;nbsp;\\', &amp;quot;Sold in packs of 1&amp;quot;, this); RA.StopBubble(event); return false;\\\\&quot; title=\\\\&quot;Sold in packs of 1\\\\&quot;&gt;&lt;span class=\\\\&quot;right\\\\&quot;&gt;&lt;span class=\\\\&quot;left\\\\&quot;&gt;&lt;span class=\\\\&quot;text\\\\&quot;&gt;&lt;span class=\\\\&quot;text-x-small\\\\&quot;&gt;x&lt;\\\\/span&gt;1&lt;\\\\/span&gt;&lt;\\\\/span&gt;&lt;\\\\/span&gt;&lt;\\\\/span&gt;&lt;\\\\/span&gt;&quot;,&quot;display&quot;:&quot;none&quot;}\"><input type=\"hidden\" autocomplete=\"off\" name=\"listing_data_essential[__GIP__3__]\" id=\"listing_data_essential[__GIP__3__]\" value=\"{&quot;groupindex&quot;:&quot;__GIP__3__&quot;,&quot;carcode&quot;:0,&quot;parttype&quot;:&quot;260&quot;,&quot;partkey&quot;:&quot;368852&quot;,&quot;opts&quot;:{&quot;6-Email-0-1&quot;:{&quot;warehouse&quot;:&quot;53717&quot;,&quot;whpartnum&quot;:&quot;999 GIFTCERT100E&quot;,&quot;optionlist&quot;:&quot;6&quot;,&quot;paramcode&quot;:&quot;Email&quot;,&quot;notekey&quot;:&quot;0&quot;,&quot;multiple&quot;:&quot;1&quot;},&quot;6-Paper-0-1&quot;:{&quot;warehouse&quot;:&quot;53714&quot;,&quot;whpartnum&quot;:&quot;999 GIFTCERT100P&quot;,&quot;optionlist&quot;:&quot;6&quot;,&quot;paramcode&quot;:&quot;Paper&quot;,&quot;notekey&quot;:&quot;0&quot;,&quot;multiple&quot;:&quot;1&quot;}}}\" /><input type=\"hidden\" autocomplete=\"off\" id=\"listing_data_supplemental[__GIP__3__]\" value=\"{&quot;partnumber&quot;:&quot;GIFTCERT100&quot;,&quot;catalogname&quot;:&quot;ROCKAUTO&quot;,&quot;belongstolisting&quot;:&quot;__GIP__2__&quot;,&quot;sortgroup&quot;:0,&quot;sortgrouptext&quot;:&quot;&quot;,&quot;paramdesc&quot;:&quot;Format&quot;}\" /><input type=\"hidden\" autocomplete=\"off\" id=\"mdl_whtruckicon[__GIP__3__][]\" value=\"false\"><input type=\"hidden\" autocomplete=\"off\" id=\"mdl_chkalternate[__GIP__3__][]\" value=\"false\"><input type=\"hidden\" autocomplete=\"off\" id=\"mdl_btnaddtocart[__GIP__3__][]\" value=\"false\"><input type=\"hidden\" autocomplete=\"off\" id=\"mdl_btnpartincart[__GIP__3__][]\" value=\"false\"><input type=\"hidden\" autocomplete=\"off\" id=\"mdl_whtruckicon[__GIP__3__][alloptions]\" value=\"false\"><input type=\"hidden\" autocomplete=\"off\" id=\"lst_shipwhlist[__GIP__3__][6-Email-0-1]\" value=\"{&quot;53717&quot;:53717}\" ><input type=\"hidden\" autocomplete=\"off\" id=\"mdl_whtruckicon[__GIP__3__][6-Email-0-1]\" value=\"false\"><input type=\"hidden\" autocomplete=\"off\" id=\"mdl_btnaddtocart[__GIP__3__][6-Email-0-1]\" value=\"true\"><input type=\"hidden\" autocomplete=\"off\" id=\"mdl_btnpartincart[__GIP__3__][6-Email-0-1]\" value=\"false\"><input type=\"hidden\" autocomplete=\"off\" id=\"mdl_btnnotifyoos[__GIP__3__][6-Email-0-1]\" value=\"false\"><input type=\"hidden\" autocomplete=\"off\" id=\"mdl_chkalternate[__GIP__3__][6-Email-0-1]\" value=\"true\"><input type=\"hidden\" autocomplete=\"off\" id=\"lst_shipwhlist[__GIP__3__][6-Paper-0-1]\" value=\"{&quot;53719&quot;:53719}\" ><input type=\"hidden\" autocomplete=\"off\" id=\"mdl_whtruckicon[__GIP__3__][6-Paper-0-1]\" value=\"false\"><input type=\"hidden\" autocomplete=\"off\" id=\"mdl_btnaddtocart[__GIP__3__][6-Paper-0-1]\" value=\"true\"><input type=\"hidden\" autocomplete=\"off\" id=\"mdl_btnpartincart[__GIP__3__][6-Paper-0-1]\" value=\"false\"><input type=\"hidden\" autocomplete=\"off\" id=\"mdl_btnnotifyoos[__GIP__3__][6-Paper-0-1]\" value=\"false\"><input type=\"hidden\" autocomplete=\"off\" id=\"mdl_chkalternate[__GIP__3__][6-Paper-0-1]\" value=\"true\"><input type=\"hidden\" autocomplete=\"off\" name=\"ssk[__GIP__3__]\" value=\"HPc6NY4sqMvPDBCrBav8qR8/XBqp0fOt7niJL8WPcslZXOi5Nt9OoLctriT0TF5wGkt14SjSibk=\"/>\\n                                <span style=\"display: none;\" title=\"Replaces these Alternate/ OE Part Numbers\">GIFTCERT100E, GIFTCERT100P</span>\\n                            </td>\\n                            \\n                            <td rowspan=\"2\" class=\"listing-border-top-line listing-float-box-cell-shared\" style=\"text-align: right; \">\\n                                <div class=\" listing-image-space-occupy\"><table class=\"tblz listing-image-table\" id=\"listing_image_table[__GIP__3__]\" style=\"\"><tr><td class=\"listing-image-table-leftrightcol\"></td><td class=\"listing-image-table-centercol\"><div id=\"inlineimgpositionancestor[__GIP__3__]\" style=\" position: relative; z-index: 1;\" class=\"ra-hide\"><div id=\"inlineimg_container[__GIP__3__]\" class=\" listing-inlineimg_container listing-inline-image-border\"  style=\"z-index: 1; text-align: center; background: #FFFFFF;\"><div id=\"inlineimg_containertitle[__GIP__3__]\" class=\"listing-inline-image-popup-widget-title ra-hide\" onmousedown=\"cataloglite.ImagePopupTitleMouseDown(&quot;__GIP__3__&quot;)\"><div style=\"text-align: center; \"><span style=\"padding: 0 2em 0 2em;\">ROCKAUTO GIFTCERT100</span><span style=\"position: absolute; right: 5px;\"><img src = \"/catalog/images/close12_1.gif\" style=\"padding: .2em; cursor: pointer; display: block;\" onclick=\"cataloglite.Listing_InlineImagePopupInPlace(&quot;__GIP__3__&quot;)\" alt=\"close\"/></span></div></div><div id=\"inlineimg_topper[__GIP__3__]\" class=\"img-topper-container\"><table class=\"tblz w100\"><tr><td class=\"pinched\" style=\"vertical-align: top;\"><div style=\"text-align: left; padding-right: .25em;\"><span id=\"inlineimg_left_big[__GIP__3__]\"></span></div><div class=\"listing-image-counter\"><div class=\"inner\" id=\"imagecounterdisplay[__GIP__3__]\"></div></div></td><td style=\"vertical-align: top;\"><div id=\"imgcarouseltitlephrase[__GIP__3__]\" class=\"img-carousel-titlephrase\"></div><div id=\"inlineimg_container360menu[__GIP__3__]\" class=\"ra-hide\" style=\"padding: .25em; margin-bottom: .5em;\"><div class=\"ra-bar-slider-bar-c\"><div  id=\"inlineimg_sliderbar[__GIP__3__]\"  class=\"ra-bar-slider-bar\" onmousedown=\"cataloglite.ImageSliderMouseDown(&quot;__GIP__3__&quot;, event);\" ontouchstart=\"cataloglite.ImageSliderMouseDown(&quot;__GIP__3__&quot;, event);\"><span class=\"ra-bar-slider-slider\" id=\"inlineimg_slider[__GIP__3__]\"></span></div></div></div></td><td class=\"pinched\" style=\"vertical-align: top; text-align: right;\"><div style=\"padding-left: .25em;\"><span id=\"inlineimg_right_big[__GIP__3__]\"></span></div></td></tr></table></div><div id=\"inlineimg_containersizer[__GIP__3__]\" class=\"inlineimg_containersizer ra-hide\" style=\" cursor: pointer;\" onclick=\"cataloglite.Listing_InlineImagePopupInPlace(&quot;__GIP__3__&quot;)\"><img id=\"inlineimg[__GIP__3__]\" class=\" listing-inline-image\"  src=\"/info/999/GCcat_100__ra_m.jpg\" alt=\"Part image\"/></div></div></div><img id=\"inlineimg_thumb[__GIP__3__]\" class=\"listing-inline-image listing-inline-image-thumb listing-inline-image-border\" style=\"cursor: pointer;\" onclick=\"cataloglite.Listing_InlineImagePopupInPlace(&quot;__GIP__3__&quot;)\" src=\"/info/999/GCcat_100__ra_m.jpg\" alt=\"Part image\" switch-to-highres=\"1\"/></td><td class=\"listing-image-table-leftrightcol\"></td></tr></table><input type=\"hidden\" autocomplete=\"off\" id=\"jsninlineimg[__GIP__3__]\" value=\"{&quot;Size&quot;:&quot;Thumb&quot;,&quot;SlotIndex&quot;:0,&quot;Slots&quot;:[{&quot;TitlePhrase&quot;:null,&quot;ParamCodes&quot;:[null],&quot;Type&quot;:&quot;Single&quot;,&quot;ImageData&quot;:{&quot;Thumb&quot;:&quot;\\\\/info\\\\/999\\\\/GCcat_100__ra_m.jpg&quot;,&quot;Popup&quot;:&quot;\\\\/info\\\\/999\\\\/GCcat_100.jpg&quot;,&quot;Full&quot;:&quot;\\\\/info\\\\/999\\\\/GCcat_100.jpg&quot;}}]}\"/></div>\\n                            </td>\\n                            \\n                            <td id=\"listingtd[__GIP__3__][price]\" colspan=\"4\" class=\" listing-border-top-line listing-float-box-cell-shared listing-float-box-cell-more-padding\" style=\"height: 1px; text-align: center; \">\\n                                <span id=\"dprice[__GIP__3__][td]\" class=\"\"><span class=\"ra-formatted-amount listing-price listing-amount-bold\"><span id=\"dprice[__GIP__3__][v]\">$100.00</span></span></span>\\n                            </td>\\n                            <td id=\"listingtd[__GIP__3__][core]\" class=\"ra-hide listing-border-top-line listing-float-box-cell-shared listing-float-box-cell-more-padding\" style=\"height: 1px; text-align: center; \">\\n                                <span id=\"dcore[__GIP__3__][td]\" class=\"\"><span class=\"ra-formatted-amount listing-core\"><a id=\"dcore[__GIP__3__][color]\" href=\"/help/?page=2#CORE\" target=\"_blank\" onclick=\"return FAQpopup(this);\" style=\"text-decoration: none;\" class=\"\"><span id=\"dcore[__GIP__3__][v]\">$0.00</span></a></span></span>\\n                            </td>\\n                            <td id=\"listingtd[__GIP__3__][pack]\" class=\"ra-hide listing-border-top-line listing-float-box-cell-shared listing-float-box-cell-more-padding\" style=\"height: 1px; text-align: center; \">\\n                                <span id=\"dpack[__GIP__3__][v]\"><span class=\"hide-if-js\">+ Sold in packs of 1</span><span class=\"show-if-js\"><span class=\"pack_size_box no-text-select\" onclick=\"showContextPopup(\\'&nbsp;\\', &quot;Sold in packs of 1&quot;, this); RA.StopBubble(event); return false;\" title=\"Sold in packs of 1\"><span class=\"right\"><span class=\"left\"><span class=\"text\"><span class=\"text-x-small\">x</span>1</span></span></span></span></span></span>\\n                            </td>\\n                            <td id=\"listingtd[__GIP__3__][total]\" class=\"ra-hide listing-border-top-line listing-float-box-cell-shared listing-float-box-cell-more-padding\" style=\"height: 1px; text-align: center; \">\\n                                <span id=\"dtotal[__GIP__3__][td]\" class=\"listing-amount-bold\"><span class=\"ra-formatted-amount listing-total\"><span id=\"dtotal[__GIP__3__][v]\">$100.00</span></span></span>\\n                            </td>\\n                            <td rowspan=\"2\" class=\" listing-border-top-line listing-float-box-cell-shared\" style=\"text-align: center; \">\\n                                \\n                            </td>\\n                        </tr>\\n                        <tr>\\n                            <td colspan=\"4\" class=\" listing-float-box-cell-shared\" style=\"text-align: right;\">\\n                                <div style=\"padding-top: .25em; padding-bottom: .1em;\">\\n                                    <div class=\"listing-quantity-adjustment ib remove-for-print show-if-js\"><input type=\"hidden\" autocomplete=\"off\" id=\"listingoptkeytomultiple[__GIP__3__]\" value=\"{&quot;6-Email-0-1&quot;:&quot;1&quot;,&quot;6-Paper-0-1&quot;:&quot;1&quot;}\" ><input type=\"hidden\" autocomplete=\"off\" id=\"listingoptkeytolinenumber[__GIP__3__]\" value=\"{&quot;6-Email-0-1&quot;:null,&quot;6-Paper-0-1&quot;:null}\" ><input type=\"hidden\" autocomplete=\"off\" id=\"listingoptkeytoqtyincart[__GIP__3__]\" value=\"{&quot;6-Email-0-1&quot;:null,&quot;6-Paper-0-1&quot;:null}\" ><input type=\"hidden\" autocomplete=\"off\" id=\"listingoptkeytoalternateid[__GIP__3__]\" value=\"{&quot;6-Email-0-1&quot;:null,&quot;6-Paper-0-1&quot;:null}\" ><table class=\"tblz di tbl-input-button-attached ra-invisible\" id=\"listingquantitytable[__GIP__3__]\"><tr><td class=\"td-button-left\" style=\"text-align: right;\"><div class=\"qty-adjust-button\" onclick=\"cataloglite.ListingQuantityUpdate(&quot;__GIP__3__&quot;, -1);\" style=\"border-top-left-radius: 4px; border-bottom-left-radius: 4px;\"><img class=\"nobmp vmiddle\" src=\"/Images/mobile/qty_down_white.png\" alt=\"\" /></div></td><td class=\"td-input\"><label for=\"raquantity[__GIP__3__]\" style=\"display:none;\">Quantity</label><input type=\"text\" aria-label=\"Quantity\" class=\"input-quantity  ib\" style=\"text-align: center; width: 2em; padding-left: 0;\" maxlength=\"5\" name=\"raquantity[__GIP__3__]\" id=\"raquantity[__GIP__3__]\" value=\"1\" autocomplete=\"off\" spellcheck=\"false\" autocorrect=\"off\" autocapitalize=\"off\" data-autofill=\"block\" onkeypress=\"return RA.InterceptEnter(event, function(){RA.ByName(&quot;raquantity[__GIP__3__]&quot;)[0].blur()});\" onchange=\"cataloglite.ListingQuantityUpdate(&quot;__GIP__3__&quot;);\" /></td><td class=\"td-button-right\"><div class=\"qty-adjust-button\" onclick=\"cataloglite.ListingQuantityUpdate(&quot;__GIP__3__&quot;, 1);\"style=\"border-top-right-radius: 4px; border-bottom-right-radius: 4px;\"><img class=\"nobmp vmiddle\" src=\"/Images/mobile/qty_up_white.png\" alt=\"\" /></div></td></tr></table></div>\\n                                    <div class=\"catalog-listing-buttons-wrapper ib\" style=\"min-width:105px;\"><div class=\"vew_btnaddtocart remove-for-print  hide-if-js\" id=\"vew_btnaddtocart[__GIP__3__]\"><input type=\"submit\" name=\"addpart[__GIP__3__]\" id=\"addpart[__GIP__3__]\" value=\"Add to Cart &gt;\" class=\"hide-if-js ra-btn ra-btn-size-normal ra-btn-color-hotgreen\" onclick=\"cataloglite.ShowLoadingOverlay(null, \\'PK_ADDINGPARTTOCART\\'); return cataloglite.Cart.AddPartWhenReady(&quot;__GIP__3__&quot;);\"><a style=\"display: inline-block;\" class=\"show-if-js ra-btn ra-btn-color-hotgreen ra-btn-size-normal ra-btn-add-part\" onclick=\"RA.Click(\\'addpart[__GIP__3__]\\'); return false;\" href=\"#\"><span class=\"la-btn-v\">Add to Cart</span><img class=\"la-btn-v\" style=\"height: 1em; margin-left: .25em;\" src=\"/Images/mobile/right_arrow_white.png\" alt=\"\" /></a></div><div class=\"vew_btnpartincart remove-for-print ra-hide hide-if-js\" id=\"vew_btnpartincart[__GIP__3__]\"><input type=\"submit\" name=\"addpart[__GIP__3__]\" value=\"Part In Cart\" class=\"ra-btn ra-btn-size-normal ra-btn-part-in-cart\" onclick=\"cataloglite.Cart.ShowPartAlreadyInCart(__GIP__3__); return false;\"></div><div class=\"vew_btnnotifyoos remove-for-print ra-hide hide-if-js\" id=\"vew_btnnotifyoos[__GIP__3__]\"><input type=\"button\" value=\"Notify Me When Available\" class=\"ra-btn ra-btn-size-normal ra-btn-color-darkblue\" onclick=\"cataloglite.GetAvailabilityAlertForOOSPart(&quot;__GIP__3__&quot;);\"></div></div>\\n                                </div>\\n                            </td>\\n                        </tr>\\n                    </tbody>\\n                    </table><div id=\"listingfiltermessage[__GIP__2__]\" class=\"listing-filter-bottom-message ra-hide\"></div><input type=\"hidden\" autocomplete=\"off\" id=\"part_groupindexes_in_this_listing[__GIP__2__]\" value=\"[&quot;__GIP__3__&quot;]\"/></div></div></form></div></div></div>',\n",
       " 'collected_javascript': '/**UQ:DAA6D11C**/\\nvar PK_OK =\"OK\";\\nvar PK_XLISTINGSREMOVE=\"KEY__NUM listings removed\";\\nvar PK_XLISTINGREMOVE=\"KEY__NUM listing removed\";\\nRABoot.WaitFor(\"jQuery\", function() {$(document).ready(function(){clb.DynamicDropDown_SetupMonitoring(\"ddrepl[optionchoice[__GIP__3__]]\");});});\\nwindow.top.parent.window[\"_nck\"] = \"8LVLUxTaILBT+tLxkg8+3Ag7\\\\/0bbOhvn7P3rkFbL809YNOHQDmNBznFtdYfbcEUriQ0mcmy\\\\/TcWfcbfHTjxSwndfe2chgzy88liHO2MoAcp7wW7lek5DxawTLSg\\\\/DpYUwwgKwrMfy33KXt0mHe+QhpAIxa6l\\\\/re5wWtdOgIou84xSaq04tRYZyGMgYZdZpD\\\\/\";\\n'}"
      ]
     },
     "execution_count": 9,
     "metadata": {},
     "output_type": "execute_result"
    }
   ],
   "source": [
    "json_ = resp.json()\n",
    "\n",
    "json_"
   ]
  },
  {
   "cell_type": "code",
   "execution_count": 10,
   "id": "6b205ec5-dd1f-4018-9ff3-205bf5215894",
   "metadata": {},
   "outputs": [
    {
     "data": {
      "text/plain": [
       "False"
      ]
     },
     "execution_count": 10,
     "metadata": {},
     "output_type": "execute_result"
    }
   ],
   "source": [
    "'redirect_to_url' in json_"
   ]
  },
  {
   "cell_type": "code",
   "execution_count": 11,
   "id": "68076a16-41fb-467e-b360-54ae2a12a625",
   "metadata": {},
   "outputs": [
    {
     "data": {
      "text/plain": [
       "True"
      ]
     },
     "execution_count": 11,
     "metadata": {},
     "output_type": "execute_result"
    }
   ],
   "source": [
    "not resp.json()['giveback'] and 'collected_javascript' in json_"
   ]
  },
  {
   "cell_type": "code",
   "execution_count": 12,
   "id": "86ef5f53-4ba1-4024-af2a-5ad7c6898c6a",
   "metadata": {
    "scrolled": true
   },
   "outputs": [
    {
     "name": "stdout",
     "output_type": "stream",
     "text": [
      "<html>\n",
      " <body>\n",
      "  <div class=\"ranavnode\" id=\"nav[__GIP__1__]\">\n",
      "   <input autocomplete=\"off\" id=\"jsn[__GIP__1__]\" type=\"hidden\" value='{\"groupindex\":\"__GIP__1__\",\"tab\":\"partsearch\",\"idepth\":0,\"groupname\":\"Apparel &amp; Gifts\",\"parttype\":\"260\",\"catalogname\":\"ROCKAUTO\",\"partnumber\":\"GIFTCERT100\",\"nodetype\":\"parttabsearch\",\"expanded\":true,\"loaded\":true}'/>\n",
      "   <input autocomplete=\"off\" id=\"navnodeunique[partsearch-apparel &amp; gifts-260]\" name=\"navnodeunique[partsearch-apparel &amp; gifts-260]\" type=\"hidden\" value=\"__GIP__1__\"/>\n",
      "   <div class=\"ranavouter\" id=\"nav_o[__GIP__1__]\">\n",
      "    <div class=\"inner\">\n",
      "     <table cellpadding=\"0\" cellspacing=\"0\" class=\"tbl\">\n",
      "      <tr>\n",
      "       <td class=\"niconspace nexpandedicon\" id=\"navicon[__GIP__1__]\">\n",
      "        <a href=\"/en/parts/rockauto,GIFTCERT100,gift+certificate,260\" onclick='cataloglite.LinkIntercept_ToggleNavNode(\"__GIP__1__\"); return false;' tabindex=\"-1\">\n",
      "         <img alt=\"Toggle\" src=\"/Images/1pxtransparent.png\"/>\n",
      "        </a>\n",
      "       </td>\n",
      "       <td class=\"nlabel\">\n",
      "        <a class=\"navlabellink nvoffset nnormal\" href=\"/en/parts/rockauto,GIFTCERT100,gift+certificate,260\" id=\"navhref[__GIP__1__]\" onclick='cataloglite.LinkIntercept_ToggleNavNode(\"__GIP__1__\"); return false;'>\n",
      "         Search for Manufacturer='ROCKAUTO' and Part Group='Apparel &amp; Gifts' and Part Type='Gift Certificate' and Part Number='GIFTCERT100'\n",
      "        </a>\n",
      "       </td>\n",
      "      </tr>\n",
      "     </table>\n",
      "    </div>\n",
      "   </div>\n",
      "   <div class=\"nchildren\" id=\"navchildren[__GIP__1__]\">\n",
      "    <div class=\"listings-container\" id=\"listings[__GIP__2__]\">\n",
      "     <form action=\"/en/partsearch/?mfr=ROCKAUTO&amp;parttype=260&amp;partnum=GIFTCERT100\" class=\"nobmp\" id=\"frmlistings[__GIP__2__]\" method=\"post\">\n",
      "      <input name=\"_nck\" type=\"hidden\" value=\"8LVLUxTaILBT+tLxkg8+3Ag7/0bbOhvn7P3rkFbL809YNOHQDmNBznFtdYfbcEUriQ0mcmy/TcWfcbfHTjxSwndfe2chgzy88liHO2MoAcp7wW7lek5DxawTLSg/DpYUwwgKwrMfy33KXt0mHe+QhpAIxa6l/re5wWtdOgIou84xSaq04tRYZyGMgYZdZpD/\"/>\n",
      "      <div class=\"listing-container-border\">\n",
      "       <input autocomplete=\"off\" id=\"parentnode[__GIP__2__]\" type=\"hidden\" value=\"__GIP__1__\"/>\n",
      "       <div>\n",
      "        <div style=\"padding-top: 1px; padding-left: .25em; padding-right: .25em;\">\n",
      "         <div class=\"remove-for-print\" style=\"padding-top:5px;\">\n",
      "          <div class=\"ib vtop\">\n",
      "           <span class=\"show-if-js\" style=\"padding-left: .5em;\">\n",
      "            <img alt=\"Close\" class=\"mouseover\" onclick='cataloglite.NavNode_SimulateClick(\"__GIP__1__\");' src=\"/catalog/images/close.gif\" style=\"vertical-align: top;\" title=\"Close\"/>\n",
      "           </span>\n",
      "           <span class=\"show-if-js\" style=\"padding-left: .5em;\">\n",
      "            <a href=\"/en/printlistings.php?ni=__GIP__2__&amp;title=Print Part Listings\" rel=\"opener\" target=\"_blank\">\n",
      "             <img alt=\"Print Part Listings\" class=\"mouseover\" src=\"/Images/mobile/printer.png\" style=\"vertical-align: top; border: none; height: 20px;\" title=\"Print Part Listings\"/>\n",
      "            </a>\n",
      "           </span>\n",
      "           <span class=\"show-if-js\" style=\"padding-left: .5em;\">\n",
      "            <a href=\"/en/emailpagetofriend.php?nurl=%2Fen%2Fpartsearch%2F%3Fmfr%3DROCKAUTO%26parttype%3D260%26partnum%3DGIFTCERT100\" onclick='cataloglite.AddFiltersToEmailListingURL(\"\\/en\\/partsearch\\/?mfr=ROCKAUTO&amp;parttype=260&amp;partnum=GIFTCERT100\", \"__GIP__2__\"); return false;' target=\"_blank\">\n",
      "             <img alt=\"Send these listings to a friend\" class=\"mouseover\" src=\"/Images/mobile/envelope.png\" style=\"vertical-align: top; border: none; height: 14px;\" title=\"Send these listings to a friend\"/>\n",
      "            </a>\n",
      "           </span>\n",
      "           <span class=\"show-if-js\" style=\"padding-left: .5em;\">\n",
      "            <a alt=\"How do I choose a part?\" href=\"/help/?page=2\" style=\"text-decoration: none;\" target=\"_blank\" title=\"How do I choose a part?\">\n",
      "             <img alt=\"Help\" class=\"help_q_icon_16 vtop\" src=\"/Images/questionMark.png\"/>\n",
      "            </a>\n",
      "           </span>\n",
      "          </div>\n",
      "          <span class=\"span-filterinput\" style=\"padding-left: .5em;\">\n",
      "           <div class=\"ib\">\n",
      "            <table class=\"tblz tbl-input-button-attached attached-filter-size\">\n",
      "             <tr>\n",
      "              <td class=\"td-input\">\n",
      "               <input autocapitalize=\"off\" autocomplete=\"off\" autocorrect=\"off\" class=\"filter-input\" id=\"filterinput[__GIP__2__]\" name=\"filterinput\" onblur='cataloglite.FilterListings(\"__GIP__2__\");' onclick='cataloglite.DisplayFilterBreakDown(\"__GIP__2__\");' onkeypress='return RA.InterceptEnter(event, function(){cataloglite.FilterListings(\"__GIP__2__\");});' placeholder=\"Filter By Keyword(s)\" size=\"25\" spellcheck=\"false\" style=\"\" title=\"Filter listings below by entering words that you want to see. Use '-' before a word to find results that do NOT contain that word. Use OR between words or groups of words to see listings that match either. Use quotes &quot;...&quot; around a set of words you wish to match only when they exist together as a phrase. Multiple filters can be applied by entering new words or phrases after each filter operation.\" type=\"text\" value=\"\"/>\n",
      "              </td>\n",
      "              <td class=\"td-button\">\n",
      "               <img alt=\"Apply Filter\" class=\"ib input-size ra-btn ra-btn-size-normal ra-btn-color-darkblue ra-btn-search-icon\" onclick=\"RA.ThrottleRepeats(function() { cataloglite.SendPartTabSearch('frm_partsearch', &quot;__GIP__2__&quot;); }, 'part_tab_search_filter', 2.5); return false;\" src=\"/Images/1pxtransparent.png\" style=\"color: black;\"/>\n",
      "              </td>\n",
      "             </tr>\n",
      "            </table>\n",
      "           </div>\n",
      "           <span style=\"position: relative;\">\n",
      "            <span class=\"ra-hide\" id=\"filterbreakdownwrapper___GIP__2__\" style=\"position: absolute; z-index: 10;\">\n",
      "             <div style=\"background: #FFFFFF; border: 1px solid black; padding: 5px; white-space: nowrap;\">\n",
      "              <div class=\"filter-breakdown-row-spacing\" style=\"text-align: right;\">\n",
      "               <img alt=\"Hide\" class=\"mouseover\" onclick='cataloglite.DisplayFilterBreakDown(\"__GIP__2__\", 1);' src=\"/catalog/images/close.gif\" style=\"vertical-align: top;\" title=\"Hide\"/>\n",
      "              </div>\n",
      "              <div id=\"filterbreakdownsteps___GIP__2__\">\n",
      "              </div>\n",
      "              <div style=\"text-align: center; padding-top: .25em;\">\n",
      "               <input class=\"ra-btn mo-link\" name=\"clearfilter\" onclick=\"RA.ThrottleRepeats(function() { cataloglite.SendPartTabSearch('frm_partsearch', &quot;__GIP__2__&quot;, 1); }, 'part_tab_search_filter', 2.5); return false;\" style=\"color: blue;\" type=\"submit\" value=\"Clear Filter\"/>\n",
      "              </div>\n",
      "             </div>\n",
      "            </span>\n",
      "           </span>\n",
      "          </span>\n",
      "         </div>\n",
      "        </div>\n",
      "        <div style=\"clear: both; padding-top: .25em;\">\n",
      "        </div>\n",
      "        <table cellpadding=\"0\" cellspacing=\"0\" class=\"nobmp\" style=\"width: 100%;\">\n",
      "         <tbody>\n",
      "          <tr>\n",
      "           <td colspan=\"2\">\n",
      "           </td>\n",
      "           <td class=\"listing-float-box-cell-shared-header\" colspan=\"4\" style=\"height: 1px; text-align: center;\">\n",
      "            <span style=\"font-weight: bold;\">\n",
      "             Price\n",
      "            </span>\n",
      "           </td>\n",
      "           <td class=\"ra-hide listing-float-box-cell-shared-header\" style=\"height: 1px; text-align: center;\">\n",
      "           </td>\n",
      "           <td class=\"ra-hide listing-float-box-cell-shared-header\" style=\"height: 1px; text-align: center;\">\n",
      "           </td>\n",
      "           <td class=\"ra-hide listing-float-box-cell-shared-header\" style=\"height: 1px; text-align: center;\">\n",
      "           </td>\n",
      "           <td class=\"listing-float-box-cell-shared-header\" style=\"text-align: center;\">\n",
      "           </td>\n",
      "          </tr>\n",
      "         </tbody>\n",
      "         <tr class=\"remove-for-print\">\n",
      "          <td class=\"ra-hide\" colspan=\"6\" id=\"listingnopartscriteria[__GIP__2__]\" style=\"color: red;\">\n",
      "           No parts for vehicles in selected markets.\n",
      "          </td>\n",
      "         </tr>\n",
      "         <tbody class=\"listing-inner altrow-a-1\" id=\"listingcontainer[__GIP__3__]\" style=\"\">\n",
      "          <tr>\n",
      "           <td class=\"listing-border-top-line listing-inner-content\" rowspan=\"2\" style=\"\">\n",
      "            <span style=\"float: right;\">\n",
      "            </span>\n",
      "            <div>\n",
      "            </div>\n",
      "            <div class=\"listing-text-row-moreinfo-truck\">\n",
      "             <span class=\"listing-final-manufacturer\">\n",
      "              ROCKAUTO\n",
      "             </span>\n",
      "             <span alt=\"Buyer's Guide\" class=\"listing-final-partnumber as-link-if-js\" id=\"vew_partnumber[__GIP__3__]\" onclick='if (cataloglite.IsMobileAndNotExpanded(\"__GIP__3__\")) { return; } cataloglite.ShowBuyersGuidePopup(\"__GIP__3__\");' title=\"Buyer's Guide\">\n",
      "              GIFTCERT100\n",
      "             </span>\n",
      "             <span class=\"span-link-underline-remover\">\n",
      "              $100 Gift Certificate\n",
      "             </span>\n",
      "             <a class=\"ra-btn ra-btn-moreinfo\" href=\"https://www.rockauto.com/en/moreinfo.php?pk=368852&amp;cc=0&amp;pt=260\" onclick='cataloglite.MoreInfoClick(this, \"__GIP__3__\"); AddSerializedCookieDataToHref(this);' rel=\"opener\" target=\"_blank\">\n",
      "              Info\n",
      "             </a>\n",
      "             <span class=\"truck ra-hide remove-for-print mouseover\" name=\"vew_whtruckicon[__GIP__3__][alloptions]\" onclick=\"FAQpopup('/help/?page=2#MINSHIPCOST', &quot;Could ship from same location as parts in cart&quot;, null, this); RA.StopBubble(event); return false;\" title=\"Could ship from same location as parts in cart\">\n",
      "             </span>\n",
      "            </div>\n",
      "            <div class=\"listing-text-row\">\n",
      "             <span title=\"Please make sure this note matches your vehicle. A seemingly contradictory note (like &quot;Left; Right;&quot;) means the part fits either (left OR right) -- it does not mean you'll receive two parts. Please do not choose a part if the note does not describe your application (for example, if the note says &quot;Sedan&quot; and you have a station wagon).\">\n",
      "              <span class=\"listing-footnote-text\">\n",
      "               Category: Gift Certificate\n",
      "              </span>\n",
      "             </span>\n",
      "            </div>\n",
      "            <div>\n",
      "             <div class=\"listing-optionchoice-multiple-container remove-for-print\">\n",
      "              <span class=\"listing-optionchoice-multiple-label\">\n",
      "               Choose Format:\n",
      "              </span>\n",
      "              <span class=\"ra-vertical-dropdown-replacement-c\" id=\"ddrepl[optionchoice[__GIP__3__]][container]\">\n",
      "               <span class=\"hide-if-js\">\n",
      "                <select autocomplete=\"none\" class=\"listing-optionchoice-multiple\" id=\"optionchoice[__GIP__3__]\" name=\"optionchoice[__GIP__3__]\" onchange=\"cataloglite.change_opt(&quot;__GIP__3__&quot;); cataloglite.DynamicDropDown_SetSelected(&quot;ddrepl[optionchoice[__GIP__3__]]&quot;, -1, 'r');\" tabindex=\"0\">\n",
      "                 <option selected=\"\" value=\"\">\n",
      "                  &amp;nbsp\n",
      "                 </option>\n",
      "                 <option value=\"6-Email-0-1\">\n",
      "                  <span class=\"param-value-text\">\n",
      "                   Email (free shipping)\n",
      "                  </span>\n",
      "                  ^\n",
      "                 </option>\n",
      "                 <option value=\"6-Paper-0-1\">\n",
      "                  <span class=\"param-value-text\">\n",
      "                   Paper Copy (regular shipping costs apply)\n",
      "                  </span>\n",
      "                  ^\n",
      "                 </option>\n",
      "                </select>\n",
      "               </span>\n",
      "               <span class=\"ra-vertical-dropdown-replacement tfk show-if-js\" id=\"ddrepl[optionchoice[__GIP__3__]]\" style=\"\">\n",
      "                <input autocomplete=\"off\" id=\"ddrepl[optionchoice[__GIP__3__]][jsstate]\" type=\"hidden\" value='{\"expanded\":\"\",\"selectedindex\":0,\"selectid\":\"optionchoice[__GIP__3__]\",\"disabled\":false,\"tfk\":false}'/>\n",
      "                <table class=\"control-table nobmp-table\">\n",
      "                 <tr>\n",
      "                  <td>\n",
      "                   <span class=\"collapsed input-border input-padding no-text-select listing-optionchoice-multiple\" id=\"ddrepl[optionchoice[__GIP__3__]][collapse]\" onclick='clb.DynamicDropDown_CollapsedClick(\"ddrepl[optionchoice[__GIP__3__]]\", event);' style=\"min-width: 14.33em;\">\n",
      "                    <span class=\"down-arrow\">\n",
      "                    </span>\n",
      "                    <span class=\"vmiddle\" id=\"ddrepl[optionchoice[__GIP__3__]][collapsetext]\">\n",
      "                     &amp;nbsp\n",
      "                    </span>\n",
      "                   </span>\n",
      "                   <div class=\"expanded ra-hide\" id=\"ddrepl[optionchoice[__GIP__3__]][expand]\">\n",
      "                    <div class=\"absolute\" id=\"ddrepl[optionchoice[__GIP__3__]][absolute]\">\n",
      "                     <ul class=\"scroll\" id=\"ddrepl[optionchoice[__GIP__3__]][scroll]\">\n",
      "                      <li class=\"list-item first\" id=\"ddrepl[optionchoice[__GIP__3__]][list-item][0]\" onclick=\"clb.DynamicDropDown_SetSelected(&quot;ddrepl[optionchoice[__GIP__3__]]&quot;, 0, 'w');\">\n",
      "                       <div class=\"outer selected\" id=\"ddrepl[optionchoice[__GIP__3__]][list-item][0][outer]\">\n",
      "                        <div class=\"inner\" id=\"ddrepl[optionchoice[__GIP__3__]][list-item][0][inner]\">\n",
      "                         &amp;nbsp\n",
      "                        </div>\n",
      "                       </div>\n",
      "                      </li>\n",
      "                      <li class=\"list-item\" id=\"ddrepl[optionchoice[__GIP__3__]][list-item][1]\" onclick=\"clb.DynamicDropDown_SetSelected(&quot;ddrepl[optionchoice[__GIP__3__]]&quot;, 1, 'w');\">\n",
      "                       <div class=\"outer\" id=\"ddrepl[optionchoice[__GIP__3__]][list-item][1][outer]\">\n",
      "                        <div class=\"inner\" id=\"ddrepl[optionchoice[__GIP__3__]][list-item][1][inner]\">\n",
      "                         <span class=\"di vmiddle\">\n",
      "                          <span class=\"param-value-text\">\n",
      "                           Email (free shipping)\n",
      "                          </span>\n",
      "                         </span>\n",
      "                         <img alt=\"Warehouse\" class=\"nobmp di vmiddle ra-hide\" name=\"vew_whtruckicon[__GIP__3__][6-Email-0-1]\" onmousemove=\"clb.FAQHover_MouseMove(this, event, '/help/?page=2#MINSHIPCOST', 'Could ship from same location as parts in cart');\" onmouseout=\"clb.FAQHover_MouseOut(this, event);\" src=\"/Images/mobile/truck.png\" style=\"height: 1.25em; margin-left: .25em;\" title=\"Could ship from same location as parts in cart\"/>\n",
      "                        </div>\n",
      "                       </div>\n",
      "                      </li>\n",
      "                      <li class=\"list-item last\" id=\"ddrepl[optionchoice[__GIP__3__]][list-item][2]\" onclick=\"clb.DynamicDropDown_SetSelected(&quot;ddrepl[optionchoice[__GIP__3__]]&quot;, 2, 'w');\">\n",
      "                       <div class=\"outer\" id=\"ddrepl[optionchoice[__GIP__3__]][list-item][2][outer]\">\n",
      "                        <div class=\"inner\" id=\"ddrepl[optionchoice[__GIP__3__]][list-item][2][inner]\">\n",
      "                         <span class=\"di vmiddle\">\n",
      "                          <span class=\"param-value-text\">\n",
      "                           Paper Copy (regular shipping costs apply)\n",
      "                          </span>\n",
      "                         </span>\n",
      "                         <img alt=\"Warehouse\" class=\"nobmp di vmiddle ra-hide\" name=\"vew_whtruckicon[__GIP__3__][6-Paper-0-1]\" onmousemove=\"clb.FAQHover_MouseMove(this, event, '/help/?page=2#MINSHIPCOST', 'Could ship from same location as parts in cart');\" onmouseout=\"clb.FAQHover_MouseOut(this, event);\" src=\"/Images/mobile/truck.png\" style=\"height: 1.25em; margin-left: .25em;\" title=\"Could ship from same location as parts in cart\"/>\n",
      "                        </div>\n",
      "                       </div>\n",
      "                      </li>\n",
      "                     </ul>\n",
      "                    </div>\n",
      "                   </div>\n",
      "                  </td>\n",
      "                  <td style=\"width: 1px;\">\n",
      "                   <label for=\"ddrepl[optionchoice[__GIP__3__]][tabbable]\" style=\"display:none;\">\n",
      "                    Intentionally blank\n",
      "                   </label>\n",
      "                   <input class=\"almost-hidden-input no-text-select ra-hide\" id=\"ddrepl[optionchoice[__GIP__3__]][tabbable]\" onfocus='clb.DynamicDropDown_SetFocus(\"ddrepl[optionchoice[__GIP__3__]]\", event);' tabindex=\"0\" type=\"text\" value=\"\"/>\n",
      "                  </td>\n",
      "                  <td style=\"width: 1px;\">\n",
      "                   <label for=\"ddrepl[optionchoice[__GIP__3__]][readonly]\" style=\"display:none;\">\n",
      "                    Intentionally blank\n",
      "                   </label>\n",
      "                   <input class=\"almost-hidden-input no-text-select ra-hide\" id=\"ddrepl[optionchoice[__GIP__3__]][readonly]\" onblur='clb.DynamicDropDown_Readonly_OnBlur(\"ddrepl[optionchoice[__GIP__3__]]\", event);' onfocus='clb.DynamicDropDown_Readonly_OnFocus(\"ddrepl[optionchoice[__GIP__3__]]\", event);' onkeydown='cataloglite.DynamicDropDown_Readonly_OnKeyDown(\"ddrepl[optionchoice[__GIP__3__]]\", event);' readonly=\"\" tabindex=\"-1\" type=\"text\" value=\"\"/>\n",
      "                  </td>\n",
      "                 </tr>\n",
      "                </table>\n",
      "               </span>\n",
      "              </span>\n",
      "              <label for=\"optionchoice[__GIP__3__]\" style=\"display:none;\">\n",
      "               Choose\n",
      "              </label>\n",
      "             </div>\n",
      "            </div>\n",
      "            <div>\n",
      "             <div class=\"listing-notification-wrapper hide-if-js\">\n",
      "              <span class=\"hide-if-js\">\n",
      "               ^ Could ship from same location as parts in cart\n",
      "              </span>\n",
      "              <span class=\"show-if-js\">\n",
      "               <img alt=\"Warehouse\" class=\"nobmp di vmiddle ra-hide\" onclick=\"FAQpopup('/help/?page=2#MINSHIPCOST', 'Could ship from same location as parts in cart', null, this); RA.StopBubble(event); return false;\" src=\"/Images/mobile/truck.png\" style=\"height: 1.25em; margin-left: .25em;\" title=\"Could ship from same location as parts in cart\"/>\n",
      "              </span>\n",
      "             </div>\n",
      "            </div>\n",
      "            <div>\n",
      "            </div>\n",
      "            <input autocomplete=\"off\" id=\"pricebreakdown[__GIP__3__][]\" type=\"hidden\" value='{\"colspan\":4,\"v\":\"$100.00\",\"n\":\"100.00\"}'/>\n",
      "            <input autocomplete=\"off\" id=\"corebreakdown[__GIP__3__][]\" type=\"hidden\" value='{\"display\":\"none\",\"v\":\"$0.00\",\"n\":\"0.00\"}'/>\n",
      "            <input autocomplete=\"off\" id=\"totalbreakdown[__GIP__3__][]\" type=\"hidden\" value='{\"display\":\"none\",\"v\":\"$100.00\",\"n\":\"100.00\"}'/>\n",
      "            <input autocomplete=\"off\" id=\"packbreakdown[__GIP__3__][]\" type=\"hidden\" value=\"{&quot;multiple&quot;:&quot;1&quot;,&quot;v&quot;:&quot;&lt;span class=\\&quot;hide-if-js\\&quot;&gt;+ Sold in packs of 1&lt;\\/span&gt;&lt;span class=\\&quot;show-if-js\\&quot;&gt;&lt;span class=\\&quot;pack_size_box no-text-select\\&quot; onclick=\\&quot;showContextPopup('&amp;nbsp;', &amp;quot;Sold in packs of 1&amp;quot;, this); RA.StopBubble(event); return false;\\&quot; title=\\&quot;Sold in packs of 1\\&quot;&gt;&lt;span class=\\&quot;right\\&quot;&gt;&lt;span class=\\&quot;left\\&quot;&gt;&lt;span class=\\&quot;text\\&quot;&gt;&lt;span class=\\&quot;text-x-small\\&quot;&gt;x&lt;\\/span&gt;1&lt;\\/span&gt;&lt;\\/span&gt;&lt;\\/span&gt;&lt;\\/span&gt;&lt;\\/span&gt;&quot;,&quot;display&quot;:&quot;none&quot;}\"/>\n",
      "            <input autocomplete=\"off\" id=\"pricebreakdown[__GIP__3__][6-Email-0-1]\" type=\"hidden\" value='{\"bold\":false,\"notbold\":false,\"oos\":false,\"v\":\"$100.00\",\"colspan\":4,\"n\":\"100.00\"}'/>\n",
      "            <input autocomplete=\"off\" id=\"corebreakdown[__GIP__3__][6-Email-0-1]\" type=\"hidden\" value='{\"bold\":false,\"notbold\":false,\"oos\":false,\"v\":\"$0.00\",\"display\":\"none\",\"n\":\"0.00\"}'/>\n",
      "            <input autocomplete=\"off\" id=\"totalbreakdown[__GIP__3__][6-Email-0-1]\" type=\"hidden\" value='{\"bold\":false,\"notbold\":false,\"oos\":false,\"v\":\"$100.00\",\"display\":\"none\",\"n\":\"100.00\"}'/>\n",
      "            <input autocomplete=\"off\" id=\"packbreakdown[__GIP__3__][6-Email-0-1]\" type=\"hidden\" value=\"{&quot;multiple&quot;:&quot;1&quot;,&quot;v&quot;:&quot;&lt;span class=\\&quot;hide-if-js\\&quot;&gt;+ Sold in packs of 1&lt;\\/span&gt;&lt;span class=\\&quot;show-if-js\\&quot;&gt;&lt;span class=\\&quot;pack_size_box no-text-select\\&quot; onclick=\\&quot;showContextPopup('&amp;nbsp;', &amp;quot;Sold in packs of 1&amp;quot;, this); RA.StopBubble(event); return false;\\&quot; title=\\&quot;Sold in packs of 1\\&quot;&gt;&lt;span class=\\&quot;right\\&quot;&gt;&lt;span class=\\&quot;left\\&quot;&gt;&lt;span class=\\&quot;text\\&quot;&gt;&lt;span class=\\&quot;text-x-small\\&quot;&gt;x&lt;\\/span&gt;1&lt;\\/span&gt;&lt;\\/span&gt;&lt;\\/span&gt;&lt;\\/span&gt;&lt;\\/span&gt;&quot;,&quot;display&quot;:&quot;none&quot;}\"/>\n",
      "            <input autocomplete=\"off\" id=\"pricebreakdown[__GIP__3__][6-Paper-0-1]\" type=\"hidden\" value='{\"bold\":false,\"notbold\":false,\"oos\":false,\"v\":\"$100.00\",\"colspan\":4,\"n\":\"100.00\"}'/>\n",
      "            <input autocomplete=\"off\" id=\"corebreakdown[__GIP__3__][6-Paper-0-1]\" type=\"hidden\" value='{\"bold\":false,\"notbold\":false,\"oos\":false,\"v\":\"$0.00\",\"display\":\"none\",\"n\":\"0.00\"}'/>\n",
      "            <input autocomplete=\"off\" id=\"totalbreakdown[__GIP__3__][6-Paper-0-1]\" type=\"hidden\" value='{\"bold\":false,\"notbold\":false,\"oos\":false,\"v\":\"$100.00\",\"display\":\"none\",\"n\":\"100.00\"}'/>\n",
      "            <input autocomplete=\"off\" id=\"packbreakdown[__GIP__3__][6-Paper-0-1]\" type=\"hidden\" value=\"{&quot;multiple&quot;:&quot;1&quot;,&quot;v&quot;:&quot;&lt;span class=\\&quot;hide-if-js\\&quot;&gt;+ Sold in packs of 1&lt;\\/span&gt;&lt;span class=\\&quot;show-if-js\\&quot;&gt;&lt;span class=\\&quot;pack_size_box no-text-select\\&quot; onclick=\\&quot;showContextPopup('&amp;nbsp;', &amp;quot;Sold in packs of 1&amp;quot;, this); RA.StopBubble(event); return false;\\&quot; title=\\&quot;Sold in packs of 1\\&quot;&gt;&lt;span class=\\&quot;right\\&quot;&gt;&lt;span class=\\&quot;left\\&quot;&gt;&lt;span class=\\&quot;text\\&quot;&gt;&lt;span class=\\&quot;text-x-small\\&quot;&gt;x&lt;\\/span&gt;1&lt;\\/span&gt;&lt;\\/span&gt;&lt;\\/span&gt;&lt;\\/span&gt;&lt;\\/span&gt;&quot;,&quot;display&quot;:&quot;none&quot;}\"/>\n",
      "            <input autocomplete=\"off\" id=\"listing_data_essential[__GIP__3__]\" name=\"listing_data_essential[__GIP__3__]\" type=\"hidden\" value='{\"groupindex\":\"__GIP__3__\",\"carcode\":0,\"parttype\":\"260\",\"partkey\":\"368852\",\"opts\":{\"6-Email-0-1\":{\"warehouse\":\"53717\",\"whpartnum\":\"999 GIFTCERT100E\",\"optionlist\":\"6\",\"paramcode\":\"Email\",\"notekey\":\"0\",\"multiple\":\"1\"},\"6-Paper-0-1\":{\"warehouse\":\"53714\",\"whpartnum\":\"999 GIFTCERT100P\",\"optionlist\":\"6\",\"paramcode\":\"Paper\",\"notekey\":\"0\",\"multiple\":\"1\"}}}'/>\n",
      "            <input autocomplete=\"off\" id=\"listing_data_supplemental[__GIP__3__]\" type=\"hidden\" value='{\"partnumber\":\"GIFTCERT100\",\"catalogname\":\"ROCKAUTO\",\"belongstolisting\":\"__GIP__2__\",\"sortgroup\":0,\"sortgrouptext\":\"\",\"paramdesc\":\"Format\"}'/>\n",
      "            <input autocomplete=\"off\" id=\"mdl_whtruckicon[__GIP__3__][]\" type=\"hidden\" value=\"false\"/>\n",
      "            <input autocomplete=\"off\" id=\"mdl_chkalternate[__GIP__3__][]\" type=\"hidden\" value=\"false\"/>\n",
      "            <input autocomplete=\"off\" id=\"mdl_btnaddtocart[__GIP__3__][]\" type=\"hidden\" value=\"false\"/>\n",
      "            <input autocomplete=\"off\" id=\"mdl_btnpartincart[__GIP__3__][]\" type=\"hidden\" value=\"false\"/>\n",
      "            <input autocomplete=\"off\" id=\"mdl_whtruckicon[__GIP__3__][alloptions]\" type=\"hidden\" value=\"false\"/>\n",
      "            <input autocomplete=\"off\" id=\"lst_shipwhlist[__GIP__3__][6-Email-0-1]\" type=\"hidden\" value='{\"53717\":53717}'/>\n",
      "            <input autocomplete=\"off\" id=\"mdl_whtruckicon[__GIP__3__][6-Email-0-1]\" type=\"hidden\" value=\"false\"/>\n",
      "            <input autocomplete=\"off\" id=\"mdl_btnaddtocart[__GIP__3__][6-Email-0-1]\" type=\"hidden\" value=\"true\"/>\n",
      "            <input autocomplete=\"off\" id=\"mdl_btnpartincart[__GIP__3__][6-Email-0-1]\" type=\"hidden\" value=\"false\"/>\n",
      "            <input autocomplete=\"off\" id=\"mdl_btnnotifyoos[__GIP__3__][6-Email-0-1]\" type=\"hidden\" value=\"false\"/>\n",
      "            <input autocomplete=\"off\" id=\"mdl_chkalternate[__GIP__3__][6-Email-0-1]\" type=\"hidden\" value=\"true\"/>\n",
      "            <input autocomplete=\"off\" id=\"lst_shipwhlist[__GIP__3__][6-Paper-0-1]\" type=\"hidden\" value='{\"53719\":53719}'/>\n",
      "            <input autocomplete=\"off\" id=\"mdl_whtruckicon[__GIP__3__][6-Paper-0-1]\" type=\"hidden\" value=\"false\"/>\n",
      "            <input autocomplete=\"off\" id=\"mdl_btnaddtocart[__GIP__3__][6-Paper-0-1]\" type=\"hidden\" value=\"true\"/>\n",
      "            <input autocomplete=\"off\" id=\"mdl_btnpartincart[__GIP__3__][6-Paper-0-1]\" type=\"hidden\" value=\"false\"/>\n",
      "            <input autocomplete=\"off\" id=\"mdl_btnnotifyoos[__GIP__3__][6-Paper-0-1]\" type=\"hidden\" value=\"false\"/>\n",
      "            <input autocomplete=\"off\" id=\"mdl_chkalternate[__GIP__3__][6-Paper-0-1]\" type=\"hidden\" value=\"true\"/>\n",
      "            <input autocomplete=\"off\" name=\"ssk[__GIP__3__]\" type=\"hidden\" value=\"HPc6NY4sqMvPDBCrBav8qR8/XBqp0fOt7niJL8WPcslZXOi5Nt9OoLctriT0TF5wGkt14SjSibk=\"/>\n",
      "            <span style=\"display: none;\" title=\"Replaces these Alternate/ OE Part Numbers\">\n",
      "             GIFTCERT100E, GIFTCERT100P\n",
      "            </span>\n",
      "           </td>\n",
      "           <td class=\"listing-border-top-line listing-float-box-cell-shared\" rowspan=\"2\" style=\"text-align: right; \">\n",
      "            <div class=\"listing-image-space-occupy\">\n",
      "             <table class=\"tblz listing-image-table\" id=\"listing_image_table[__GIP__3__]\" style=\"\">\n",
      "              <tr>\n",
      "               <td class=\"listing-image-table-leftrightcol\">\n",
      "               </td>\n",
      "               <td class=\"listing-image-table-centercol\">\n",
      "                <div class=\"ra-hide\" id=\"inlineimgpositionancestor[__GIP__3__]\" style=\" position: relative; z-index: 1;\">\n",
      "                 <div class=\"listing-inlineimg_container listing-inline-image-border\" id=\"inlineimg_container[__GIP__3__]\" style=\"z-index: 1; text-align: center; background: #FFFFFF;\">\n",
      "                  <div class=\"listing-inline-image-popup-widget-title ra-hide\" id=\"inlineimg_containertitle[__GIP__3__]\" onmousedown='cataloglite.ImagePopupTitleMouseDown(\"__GIP__3__\")'>\n",
      "                   <div style=\"text-align: center; \">\n",
      "                    <span style=\"padding: 0 2em 0 2em;\">\n",
      "                     ROCKAUTO GIFTCERT100\n",
      "                    </span>\n",
      "                    <span style=\"position: absolute; right: 5px;\">\n",
      "                     <img alt=\"close\" onclick='cataloglite.Listing_InlineImagePopupInPlace(\"__GIP__3__\")' src=\"/catalog/images/close12_1.gif\" style=\"padding: .2em; cursor: pointer; display: block;\"/>\n",
      "                    </span>\n",
      "                   </div>\n",
      "                  </div>\n",
      "                  <div class=\"img-topper-container\" id=\"inlineimg_topper[__GIP__3__]\">\n",
      "                   <table class=\"tblz w100\">\n",
      "                    <tr>\n",
      "                     <td class=\"pinched\" style=\"vertical-align: top;\">\n",
      "                      <div style=\"text-align: left; padding-right: .25em;\">\n",
      "                       <span id=\"inlineimg_left_big[__GIP__3__]\">\n",
      "                       </span>\n",
      "                      </div>\n",
      "                      <div class=\"listing-image-counter\">\n",
      "                       <div class=\"inner\" id=\"imagecounterdisplay[__GIP__3__]\">\n",
      "                       </div>\n",
      "                      </div>\n",
      "                     </td>\n",
      "                     <td style=\"vertical-align: top;\">\n",
      "                      <div class=\"img-carousel-titlephrase\" id=\"imgcarouseltitlephrase[__GIP__3__]\">\n",
      "                      </div>\n",
      "                      <div class=\"ra-hide\" id=\"inlineimg_container360menu[__GIP__3__]\" style=\"padding: .25em; margin-bottom: .5em;\">\n",
      "                       <div class=\"ra-bar-slider-bar-c\">\n",
      "                        <div class=\"ra-bar-slider-bar\" id=\"inlineimg_sliderbar[__GIP__3__]\" onmousedown='cataloglite.ImageSliderMouseDown(\"__GIP__3__\", event);' ontouchstart='cataloglite.ImageSliderMouseDown(\"__GIP__3__\", event);'>\n",
      "                         <span class=\"ra-bar-slider-slider\" id=\"inlineimg_slider[__GIP__3__]\">\n",
      "                         </span>\n",
      "                        </div>\n",
      "                       </div>\n",
      "                      </div>\n",
      "                     </td>\n",
      "                     <td class=\"pinched\" style=\"vertical-align: top; text-align: right;\">\n",
      "                      <div style=\"padding-left: .25em;\">\n",
      "                       <span id=\"inlineimg_right_big[__GIP__3__]\">\n",
      "                       </span>\n",
      "                      </div>\n",
      "                     </td>\n",
      "                    </tr>\n",
      "                   </table>\n",
      "                  </div>\n",
      "                  <div class=\"inlineimg_containersizer ra-hide\" id=\"inlineimg_containersizer[__GIP__3__]\" onclick='cataloglite.Listing_InlineImagePopupInPlace(\"__GIP__3__\")' style=\" cursor: pointer;\">\n",
      "                   <img alt=\"Part image\" class=\"listing-inline-image\" id=\"inlineimg[__GIP__3__]\" src=\"/info/999/GCcat_100__ra_m.jpg\"/>\n",
      "                  </div>\n",
      "                 </div>\n",
      "                </div>\n",
      "                <img alt=\"Part image\" class=\"listing-inline-image listing-inline-image-thumb listing-inline-image-border\" id=\"inlineimg_thumb[__GIP__3__]\" onclick='cataloglite.Listing_InlineImagePopupInPlace(\"__GIP__3__\")' src=\"/info/999/GCcat_100__ra_m.jpg\" style=\"cursor: pointer;\" switch-to-highres=\"1\"/>\n",
      "               </td>\n",
      "               <td class=\"listing-image-table-leftrightcol\">\n",
      "               </td>\n",
      "              </tr>\n",
      "             </table>\n",
      "             <input autocomplete=\"off\" id=\"jsninlineimg[__GIP__3__]\" type=\"hidden\" value='{\"Size\":\"Thumb\",\"SlotIndex\":0,\"Slots\":[{\"TitlePhrase\":null,\"ParamCodes\":[null],\"Type\":\"Single\",\"ImageData\":{\"Thumb\":\"\\/info\\/999\\/GCcat_100__ra_m.jpg\",\"Popup\":\"\\/info\\/999\\/GCcat_100.jpg\",\"Full\":\"\\/info\\/999\\/GCcat_100.jpg\"}}]}'/>\n",
      "            </div>\n",
      "           </td>\n",
      "           <td class=\"listing-border-top-line listing-float-box-cell-shared listing-float-box-cell-more-padding\" colspan=\"4\" id=\"listingtd[__GIP__3__][price]\" style=\"height: 1px; text-align: center; \">\n",
      "            <span class=\"\" id=\"dprice[__GIP__3__][td]\">\n",
      "             <span class=\"ra-formatted-amount listing-price listing-amount-bold\">\n",
      "              <span id=\"dprice[__GIP__3__][v]\">\n",
      "               $100.00\n",
      "              </span>\n",
      "             </span>\n",
      "            </span>\n",
      "           </td>\n",
      "           <td class=\"ra-hide listing-border-top-line listing-float-box-cell-shared listing-float-box-cell-more-padding\" id=\"listingtd[__GIP__3__][core]\" style=\"height: 1px; text-align: center; \">\n",
      "            <span class=\"\" id=\"dcore[__GIP__3__][td]\">\n",
      "             <span class=\"ra-formatted-amount listing-core\">\n",
      "              <a class=\"\" href=\"/help/?page=2#CORE\" id=\"dcore[__GIP__3__][color]\" onclick=\"return FAQpopup(this);\" style=\"text-decoration: none;\" target=\"_blank\">\n",
      "               <span id=\"dcore[__GIP__3__][v]\">\n",
      "                $0.00\n",
      "               </span>\n",
      "              </a>\n",
      "             </span>\n",
      "            </span>\n",
      "           </td>\n",
      "           <td class=\"ra-hide listing-border-top-line listing-float-box-cell-shared listing-float-box-cell-more-padding\" id=\"listingtd[__GIP__3__][pack]\" style=\"height: 1px; text-align: center; \">\n",
      "            <span id=\"dpack[__GIP__3__][v]\">\n",
      "             <span class=\"hide-if-js\">\n",
      "              + Sold in packs of 1\n",
      "             </span>\n",
      "             <span class=\"show-if-js\">\n",
      "              <span class=\"pack_size_box no-text-select\" onclick=\"showContextPopup(' ', &quot;Sold in packs of 1&quot;, this); RA.StopBubble(event); return false;\" title=\"Sold in packs of 1\">\n",
      "               <span class=\"right\">\n",
      "                <span class=\"left\">\n",
      "                 <span class=\"text\">\n",
      "                  <span class=\"text-x-small\">\n",
      "                   x\n",
      "                  </span>\n",
      "                  1\n",
      "                 </span>\n",
      "                </span>\n",
      "               </span>\n",
      "              </span>\n",
      "             </span>\n",
      "            </span>\n",
      "           </td>\n",
      "           <td class=\"ra-hide listing-border-top-line listing-float-box-cell-shared listing-float-box-cell-more-padding\" id=\"listingtd[__GIP__3__][total]\" style=\"height: 1px; text-align: center; \">\n",
      "            <span class=\"listing-amount-bold\" id=\"dtotal[__GIP__3__][td]\">\n",
      "             <span class=\"ra-formatted-amount listing-total\">\n",
      "              <span id=\"dtotal[__GIP__3__][v]\">\n",
      "               $100.00\n",
      "              </span>\n",
      "             </span>\n",
      "            </span>\n",
      "           </td>\n",
      "           <td class=\"listing-border-top-line listing-float-box-cell-shared\" rowspan=\"2\" style=\"text-align: center; \">\n",
      "           </td>\n",
      "          </tr>\n",
      "          <tr>\n",
      "           <td class=\"listing-float-box-cell-shared\" colspan=\"4\" style=\"text-align: right;\">\n",
      "            <div style=\"padding-top: .25em; padding-bottom: .1em;\">\n",
      "             <div class=\"listing-quantity-adjustment ib remove-for-print show-if-js\">\n",
      "              <input autocomplete=\"off\" id=\"listingoptkeytomultiple[__GIP__3__]\" type=\"hidden\" value='{\"6-Email-0-1\":\"1\",\"6-Paper-0-1\":\"1\"}'/>\n",
      "              <input autocomplete=\"off\" id=\"listingoptkeytolinenumber[__GIP__3__]\" type=\"hidden\" value='{\"6-Email-0-1\":null,\"6-Paper-0-1\":null}'/>\n",
      "              <input autocomplete=\"off\" id=\"listingoptkeytoqtyincart[__GIP__3__]\" type=\"hidden\" value='{\"6-Email-0-1\":null,\"6-Paper-0-1\":null}'/>\n",
      "              <input autocomplete=\"off\" id=\"listingoptkeytoalternateid[__GIP__3__]\" type=\"hidden\" value='{\"6-Email-0-1\":null,\"6-Paper-0-1\":null}'/>\n",
      "              <table class=\"tblz di tbl-input-button-attached ra-invisible\" id=\"listingquantitytable[__GIP__3__]\">\n",
      "               <tr>\n",
      "                <td class=\"td-button-left\" style=\"text-align: right;\">\n",
      "                 <div class=\"qty-adjust-button\" onclick='cataloglite.ListingQuantityUpdate(\"__GIP__3__\", -1);' style=\"border-top-left-radius: 4px; border-bottom-left-radius: 4px;\">\n",
      "                  <img alt=\"\" class=\"nobmp vmiddle\" src=\"/Images/mobile/qty_down_white.png\"/>\n",
      "                 </div>\n",
      "                </td>\n",
      "                <td class=\"td-input\">\n",
      "                 <label for=\"raquantity[__GIP__3__]\" style=\"display:none;\">\n",
      "                  Quantity\n",
      "                 </label>\n",
      "                 <input aria-label=\"Quantity\" autocapitalize=\"off\" autocomplete=\"off\" autocorrect=\"off\" class=\"input-quantity ib\" data-autofill=\"block\" id=\"raquantity[__GIP__3__]\" maxlength=\"5\" name=\"raquantity[__GIP__3__]\" onchange='cataloglite.ListingQuantityUpdate(\"__GIP__3__\");' onkeypress='return RA.InterceptEnter(event, function(){RA.ByName(\"raquantity[__GIP__3__]\")[0].blur()});' spellcheck=\"false\" style=\"text-align: center; width: 2em; padding-left: 0;\" type=\"text\" value=\"1\"/>\n",
      "                </td>\n",
      "                <td class=\"td-button-right\">\n",
      "                 <div class=\"qty-adjust-button\" onclick='cataloglite.ListingQuantityUpdate(\"__GIP__3__\", 1);' style=\"border-top-right-radius: 4px; border-bottom-right-radius: 4px;\">\n",
      "                  <img alt=\"\" class=\"nobmp vmiddle\" src=\"/Images/mobile/qty_up_white.png\"/>\n",
      "                 </div>\n",
      "                </td>\n",
      "               </tr>\n",
      "              </table>\n",
      "             </div>\n",
      "             <div class=\"catalog-listing-buttons-wrapper ib\" style=\"min-width:105px;\">\n",
      "              <div class=\"vew_btnaddtocart remove-for-print hide-if-js\" id=\"vew_btnaddtocart[__GIP__3__]\">\n",
      "               <input class=\"hide-if-js ra-btn ra-btn-size-normal ra-btn-color-hotgreen\" id=\"addpart[__GIP__3__]\" name=\"addpart[__GIP__3__]\" onclick=\"cataloglite.ShowLoadingOverlay(null, 'PK_ADDINGPARTTOCART'); return cataloglite.Cart.AddPartWhenReady(&quot;__GIP__3__&quot;);\" type=\"submit\" value=\"Add to Cart &gt;\"/>\n",
      "               <a class=\"show-if-js ra-btn ra-btn-color-hotgreen ra-btn-size-normal ra-btn-add-part\" href=\"#\" onclick=\"RA.Click('addpart[__GIP__3__]'); return false;\" style=\"display: inline-block;\">\n",
      "                <span class=\"la-btn-v\">\n",
      "                 Add to Cart\n",
      "                </span>\n",
      "                <img alt=\"\" class=\"la-btn-v\" src=\"/Images/mobile/right_arrow_white.png\" style=\"height: 1em; margin-left: .25em;\"/>\n",
      "               </a>\n",
      "              </div>\n",
      "              <div class=\"vew_btnpartincart remove-for-print ra-hide hide-if-js\" id=\"vew_btnpartincart[__GIP__3__]\">\n",
      "               <input class=\"ra-btn ra-btn-size-normal ra-btn-part-in-cart\" name=\"addpart[__GIP__3__]\" onclick=\"cataloglite.Cart.ShowPartAlreadyInCart(__GIP__3__); return false;\" type=\"submit\" value=\"Part In Cart\"/>\n",
      "              </div>\n",
      "              <div class=\"vew_btnnotifyoos remove-for-print ra-hide hide-if-js\" id=\"vew_btnnotifyoos[__GIP__3__]\">\n",
      "               <input class=\"ra-btn ra-btn-size-normal ra-btn-color-darkblue\" onclick='cataloglite.GetAvailabilityAlertForOOSPart(\"__GIP__3__\");' type=\"button\" value=\"Notify Me When Available\"/>\n",
      "              </div>\n",
      "             </div>\n",
      "            </div>\n",
      "           </td>\n",
      "          </tr>\n",
      "         </tbody>\n",
      "        </table>\n",
      "        <div class=\"listing-filter-bottom-message ra-hide\" id=\"listingfiltermessage[__GIP__2__]\">\n",
      "        </div>\n",
      "        <input autocomplete=\"off\" id=\"part_groupindexes_in_this_listing[__GIP__2__]\" type=\"hidden\" value='[\"__GIP__3__\"]'/>\n",
      "       </div>\n",
      "      </div>\n",
      "     </form>\n",
      "    </div>\n",
      "   </div>\n",
      "  </div>\n",
      " </body>\n",
      "</html>\n",
      "\n"
     ]
    }
   ],
   "source": [
    "from bs4 import BeautifulSoup\n",
    "from lxml import etree\n",
    "\n",
    "soup = BeautifulSoup(json_['searchnoderesults'], 'lxml')\n",
    "html = etree.HTML(str(soup))\n",
    "\n",
    "with open('./part_1.html', 'w', encoding='UTF-8') as file:\n",
    "    file.write(str(soup))\n",
    "\n",
    "print(soup.prettify())"
   ]
  },
  {
   "cell_type": "code",
   "execution_count": 13,
   "id": "69e041ec-be24-4915-acb2-ec60c36ee095",
   "metadata": {},
   "outputs": [
    {
     "data": {
      "text/plain": [
       "[<Element tbody at 0x11cdaa180>]"
      ]
     },
     "execution_count": 13,
     "metadata": {},
     "output_type": "execute_result"
    }
   ],
   "source": [
    "list_tbody = html.xpath('//tbody[contains(@class, \"listing-inner\") and (contains(@class, \"altrow-a-1\") or contains(@class, \"altrow-a-0\"))]')\n",
    "\n",
    "list_tbody"
   ]
  },
  {
   "cell_type": "code",
   "execution_count": 14,
   "id": "139563de-d0bd-4810-bbab-3ad53513a67f",
   "metadata": {},
   "outputs": [
    {
     "data": {
      "text/plain": [
       "[{'groupindex': '__GIP__3__',\n",
       "  'carcode': 0,\n",
       "  'parttype': '260',\n",
       "  'partkey': '368852',\n",
       "  'opts': {'6-Email-0-1': {'warehouse': '53717',\n",
       "    'whpartnum': '999 GIFTCERT100E',\n",
       "    'optionlist': '6',\n",
       "    'paramcode': 'Email',\n",
       "    'notekey': '0',\n",
       "    'multiple': '1'},\n",
       "   '6-Paper-0-1': {'warehouse': '53714',\n",
       "    'whpartnum': '999 GIFTCERT100P',\n",
       "    'optionlist': '6',\n",
       "    'paramcode': 'Paper',\n",
       "    'notekey': '0',\n",
       "    'multiple': '1'}}}]"
      ]
     },
     "execution_count": 14,
     "metadata": {},
     "output_type": "execute_result"
    }
   ],
   "source": [
    "list_json = [json.loads(tbody.xpath('./tr[1]/td[contains(@class, \"listing-inner-content\")]/input[contains(@id, \"listing_data_essential[__GIP__\")]/@value')[0]) for tbody in list_tbody]\n",
    "\n",
    "list_json"
   ]
  },
  {
   "cell_type": "code",
   "execution_count": 15,
   "id": "be4e6682-74c7-45f9-876e-3f3a84bf32e4",
   "metadata": {},
   "outputs": [
    {
     "data": {
      "text/plain": [
       "(array([0]),)"
      ]
     },
     "execution_count": 15,
     "metadata": {},
     "output_type": "execute_result"
    }
   ],
   "source": [
    "import numpy as np\n",
    "\n",
    "array_index_type_code = np.where(np.array([json_['parttype'] for json_ in list_json]) == input_.loc[a, 'Type Code'])\n",
    "\n",
    "array_index_type_code"
   ]
  },
  {
   "cell_type": "code",
   "execution_count": 16,
   "id": "4d9ee173-d7fb-4581-a24a-06408547b227",
   "metadata": {},
   "outputs": [
    {
     "data": {
      "text/plain": [
       "['368852']"
      ]
     },
     "execution_count": 16,
     "metadata": {},
     "output_type": "execute_result"
    }
   ],
   "source": [
    "list_key = [json_['partkey'] for json_ in list_json]\n",
    "\n",
    "list_key"
   ]
  },
  {
   "cell_type": "code",
   "execution_count": 17,
   "id": "0fb0c739-fdc6-40d2-92dd-a1409c911322",
   "metadata": {},
   "outputs": [
    {
     "data": {
      "text/plain": [
       "[{'partnumber': 'GIFTCERT100',\n",
       "  'catalogname': 'ROCKAUTO',\n",
       "  'belongstolisting': '__GIP__2__',\n",
       "  'sortgroup': 0,\n",
       "  'sortgrouptext': '',\n",
       "  'paramdesc': 'Format'}]"
      ]
     },
     "execution_count": 17,
     "metadata": {},
     "output_type": "execute_result"
    }
   ],
   "source": [
    "list_json = [json.loads(tbody.xpath('./tr[1]/td/input[contains(@id, \"listing_data_supplemental[\")]/@value')[0]) for tbody in list_tbody]\n",
    "\n",
    "list_json"
   ]
  },
  {
   "cell_type": "code",
   "execution_count": 18,
   "id": "1b5dfcb9-4037-4fe0-b74f-d6fe4f9fc3fd",
   "metadata": {},
   "outputs": [
    {
     "data": {
      "text/plain": [
       "(array([0]),)"
      ]
     },
     "execution_count": 18,
     "metadata": {},
     "output_type": "execute_result"
    }
   ],
   "source": [
    "array_index_part_number = np.where(np.array([json_['partnumber'] for json_ in list_json]) == input_.loc[a, 'Part Number'])\n",
    "\n",
    "array_index_part_number"
   ]
  },
  {
   "cell_type": "code",
   "execution_count": 19,
   "id": "b97569ac-c1b1-4be0-a284-5df159906aac",
   "metadata": {},
   "outputs": [
    {
     "data": {
      "text/plain": [
       "(array([0]),)"
      ]
     },
     "execution_count": 19,
     "metadata": {},
     "output_type": "execute_result"
    }
   ],
   "source": [
    "array_index_manufacturer = np.where(np.array([json_['catalogname'] for json_ in list_json]) == input_.loc[a, 'Manufacturer'])\n",
    "\n",
    "array_index_manufacturer"
   ]
  },
  {
   "cell_type": "code",
   "execution_count": 20,
   "id": "e1740fa2-b104-410d-997c-9bcc80703fd9",
   "metadata": {},
   "outputs": [
    {
     "data": {
      "text/plain": [
       "['Format']"
      ]
     },
     "execution_count": 20,
     "metadata": {},
     "output_type": "execute_result"
    }
   ],
   "source": [
    "list_parameter = [json_['paramdesc'].strip() for json_ in list_json]\n",
    "\n",
    "list_parameter"
   ]
  },
  {
   "cell_type": "code",
   "execution_count": 21,
   "id": "bb639158-17ae-4220-bd10-e935aaf72b72",
   "metadata": {},
   "outputs": [
    {
     "data": {
      "text/plain": [
       "array([0])"
      ]
     },
     "execution_count": 21,
     "metadata": {},
     "output_type": "execute_result"
    }
   ],
   "source": [
    "array_index_part = np.intersect1d(np.intersect1d(array_index_type_code, array_index_part_number), array_index_manufacturer)\n",
    "\n",
    "array_index_part"
   ]
  },
  {
   "cell_type": "code",
   "execution_count": 22,
   "id": "673d33e8-7ce4-4703-aca3-c92b89671e7b",
   "metadata": {},
   "outputs": [
    {
     "data": {
      "text/plain": [
       "True"
      ]
     },
     "execution_count": 22,
     "metadata": {},
     "output_type": "execute_result"
    }
   ],
   "source": [
    "len(array_index_part) == 1"
   ]
  },
  {
   "cell_type": "code",
   "execution_count": 23,
   "id": "d4cd0ccf-d129-48b5-b720-7872bfe03f6e",
   "metadata": {},
   "outputs": [
    {
     "data": {
      "text/plain": [
       "0"
      ]
     },
     "execution_count": 23,
     "metadata": {},
     "output_type": "execute_result"
    }
   ],
   "source": [
    "part_index = array_index_part[0]\n",
    "\n",
    "part_index"
   ]
  },
  {
   "cell_type": "code",
   "execution_count": 24,
   "id": "4dbfa77d-c870-4274-8366-b287c70daeec",
   "metadata": {},
   "outputs": [
    {
     "data": {
      "text/plain": [
       "'$100 Gift Certificate'"
      ]
     },
     "execution_count": 24,
     "metadata": {},
     "output_type": "execute_result"
    }
   ],
   "source": [
    "list_note = list_tbody[part_index].xpath('./tr[1]/td/div[@class=\"listing-text-row-moreinfo-truck\"]/span[@class=\"span-link-underline-remover\"]/text()')\n",
    "note = '\\n'.join([note.strip() for note in list_note])\n",
    "\n",
    "note"
   ]
  },
  {
   "cell_type": "code",
   "execution_count": 25,
   "id": "84865e84-1219-4db9-9a0b-143fe42be669",
   "metadata": {},
   "outputs": [
    {
     "data": {
      "text/plain": [
       "'https://www.rockauto.com/en/moreinfo.php?pk=368852&cc=0&pt=260'"
      ]
     },
     "execution_count": 25,
     "metadata": {},
     "output_type": "execute_result"
    }
   ],
   "source": [
    "list_info = list_tbody[part_index].xpath('./tr[1]/td/div[@class=\"listing-text-row-moreinfo-truck\"]/a[@class=\"ra-btn ra-btn-moreinfo\"]/@href')\n",
    "info = list_info[0].strip() if list_info and list_info[0].startswith('https://www.rockauto.com/en/moreinfo.php?') else ''\n",
    "\n",
    "info"
   ]
  },
  {
   "cell_type": "code",
   "execution_count": 26,
   "id": "60a75697-b94b-4c8e-a97b-4cea7207d460",
   "metadata": {},
   "outputs": [
    {
     "data": {
      "text/plain": [
       "'Category: Gift Certificate'"
      ]
     },
     "execution_count": 26,
     "metadata": {},
     "output_type": "execute_result"
    }
   ],
   "source": [
    "import re\n",
    "\n",
    "note_2 = etree.tostring(list_tbody[part_index].xpath('./tr[1]/td/div[@class=\"listing-text-row\"]')[0]).decode('utf-8')\n",
    "note_2 = re.sub(r'<.*?>', '', note_2.strip())\n",
    "note_2 = re.sub(r' +', ' ', note_2.strip())\n",
    "\n",
    "note_2"
   ]
  },
  {
   "cell_type": "code",
   "execution_count": 27,
   "id": "1664f737-de6d-43e3-89e3-fba920b5106d",
   "metadata": {},
   "outputs": [
    {
     "data": {
      "text/plain": [
       "(array([0]),)"
      ]
     },
     "execution_count": 27,
     "metadata": {},
     "output_type": "execute_result"
    }
   ],
   "source": [
    "array_index_part_number = np.where(np.array([json_['partnumber'] for json_ in list_json]) == input_.loc[a, 'Part Number'])\n",
    "\n",
    "array_index_part_number"
   ]
  },
  {
   "cell_type": "code",
   "execution_count": 28,
   "id": "91f88e2a-c5d8-4740-a5fa-dbe3572c9684",
   "metadata": {},
   "outputs": [
    {
     "data": {
      "text/plain": [
       "'GIFTCERT100E;GIFTCERT100P'"
      ]
     },
     "execution_count": 28,
     "metadata": {},
     "output_type": "execute_result"
    }
   ],
   "source": [
    "list_oem = list_tbody[part_index].xpath('./tr[1]/td/span[contains(@title, \"Replaces these Alternate\")]/text()')\n",
    "oem = ','.join(list_oem)\n",
    "oem = ';'.join([oem_split.strip() for oem_split in oem.split(',')])\n",
    "\n",
    "oem"
   ]
  },
  {
   "cell_type": "code",
   "execution_count": 29,
   "id": "c78f2ee9-cc9b-4b44-8ec7-ef9f953983b2",
   "metadata": {},
   "outputs": [
    {
     "data": {
      "text/plain": [
       "[{'TitlePhrase': None,\n",
       "  'ParamCodes': [None],\n",
       "  'Type': 'Single',\n",
       "  'ImageData': {'Thumb': '/info/999/GCcat_100__ra_m.jpg',\n",
       "   'Popup': '/info/999/GCcat_100.jpg',\n",
       "   'Full': '/info/999/GCcat_100.jpg'}}]"
      ]
     },
     "execution_count": 29,
     "metadata": {},
     "output_type": "execute_result"
    }
   ],
   "source": [
    "list_src = json.loads(list_tbody[part_index].xpath('./tr[1]/td/div/input[contains(@id, \"jsninlineimg[\")]/@value')[0])['Slots'] if list_tbody[part_index].xpath('./tr[1]/td/div/input[contains(@id, \"jsninlineimg[\")]/@value') else []\n",
    "\n",
    "list_src"
   ]
  },
  {
   "cell_type": "code",
   "execution_count": 30,
   "id": "989704c4-7f33-48ab-85e2-eff20a44b6dd",
   "metadata": {},
   "outputs": [
    {
     "data": {
      "text/plain": [
       "{'0': 'https://www.rockauto.com/info/999/GCcat_100.jpg'}"
      ]
     },
     "execution_count": 30,
     "metadata": {},
     "output_type": "execute_result"
    }
   ],
   "source": [
    "dict_src = {}\n",
    "for i, src in zip(range(len(list_src)), list_src):\n",
    "    dict_src[str(i)] = 'https://www.rockauto.com' + src['ImageData']['Full'].strip()\n",
    "\n",
    "dict_src"
   ]
  },
  {
   "cell_type": "code",
   "execution_count": 31,
   "id": "96f1239b-50f9-42d4-b879-831dc05deb48",
   "metadata": {
    "scrolled": true
   },
   "outputs": [
    {
     "data": {
      "text/html": [
       "<div>\n",
       "<style scoped>\n",
       "    .dataframe tbody tr th:only-of-type {\n",
       "        vertical-align: middle;\n",
       "    }\n",
       "\n",
       "    .dataframe tbody tr th {\n",
       "        vertical-align: top;\n",
       "    }\n",
       "\n",
       "    .dataframe thead th {\n",
       "        text-align: right;\n",
       "    }\n",
       "</style>\n",
       "<table border=\"1\" class=\"dataframe\">\n",
       "  <thead>\n",
       "    <tr style=\"text-align: right;\">\n",
       "      <th></th>\n",
       "      <th>Group No</th>\n",
       "      <th>Group</th>\n",
       "      <th>Type No</th>\n",
       "      <th>Type</th>\n",
       "      <th>Type Code</th>\n",
       "      <th>Manufacturer No</th>\n",
       "      <th>Manufacturer</th>\n",
       "      <th>Tab 2 Url</th>\n",
       "      <th>Part No</th>\n",
       "      <th>Part Number</th>\n",
       "      <th>Url</th>\n",
       "      <th>Key</th>\n",
       "      <th>JOIN_MPNTCK</th>\n",
       "      <th>Tab 2 Note 1</th>\n",
       "      <th>Tab 2 Note 2</th>\n",
       "      <th>Parameter</th>\n",
       "      <th>OEM</th>\n",
       "      <th>Info</th>\n",
       "      <th>Json_Src</th>\n",
       "    </tr>\n",
       "  </thead>\n",
       "  <tbody>\n",
       "    <tr>\n",
       "      <th>0</th>\n",
       "      <td>1</td>\n",
       "      <td>Apparel &amp; Gifts</td>\n",
       "      <td>1</td>\n",
       "      <td>Gift Certificate</td>\n",
       "      <td>260</td>\n",
       "      <td>1</td>\n",
       "      <td>ROCKAUTO</td>\n",
       "      <td>https://www.rockauto.com/en/parts/ROCKAUTO,Gif...</td>\n",
       "      <td>1</td>\n",
       "      <td>GIFTCERT100</td>\n",
       "      <td>https://www.rockauto.com/en/parts/rockauto,GIF...</td>\n",
       "      <td>368852</td>\n",
       "      <td>ROCKAUTO;GIFTCERT100;260;368852</td>\n",
       "      <td>$100 Gift Certificate</td>\n",
       "      <td>Category: Gift Certificate</td>\n",
       "      <td>Format</td>\n",
       "      <td>GIFTCERT100E;GIFTCERT100P</td>\n",
       "      <td>https://www.rockauto.com/en/moreinfo.php?pk=36...</td>\n",
       "      <td>{\"0\": \"https://www.rockauto.com/info/999/GCcat...</td>\n",
       "    </tr>\n",
       "  </tbody>\n",
       "</table>\n",
       "</div>"
      ],
      "text/plain": [
       "   Group No            Group  Type No              Type Type Code  \\\n",
       "0         1  Apparel & Gifts        1  Gift Certificate       260   \n",
       "\n",
       "   Manufacturer No Manufacturer  \\\n",
       "0                1     ROCKAUTO   \n",
       "\n",
       "                                           Tab 2 Url  Part No  Part Number  \\\n",
       "0  https://www.rockauto.com/en/parts/ROCKAUTO,Gif...        1  GIFTCERT100   \n",
       "\n",
       "                                                 Url     Key  \\\n",
       "0  https://www.rockauto.com/en/parts/rockauto,GIF...  368852   \n",
       "\n",
       "                       JOIN_MPNTCK           Tab 2 Note 1  \\\n",
       "0  ROCKAUTO;GIFTCERT100;260;368852  $100 Gift Certificate   \n",
       "\n",
       "                 Tab 2 Note 2 Parameter                        OEM  \\\n",
       "0  Category: Gift Certificate    Format  GIFTCERT100E;GIFTCERT100P   \n",
       "\n",
       "                                                Info  \\\n",
       "0  https://www.rockauto.com/en/moreinfo.php?pk=36...   \n",
       "\n",
       "                                            Json_Src  \n",
       "0  {\"0\": \"https://www.rockauto.com/info/999/GCcat...  "
      ]
     },
     "execution_count": 31,
     "metadata": {},
     "output_type": "execute_result"
    }
   ],
   "source": [
    "df_temp = pd.DataFrame([{'Group No': input_.loc[a, 'Group No'],\n",
    "                         'Group': input_.loc[a, 'Group'],\n",
    "                         'Type No': input_.loc[a, 'Type No'],\n",
    "                         'Type': input_.loc[a, 'Type'],\n",
    "                         'Type Code': input_.loc[a, 'Type Code'],\n",
    "                         'Manufacturer No': input_.loc[a, 'Manufacturer No'],\n",
    "                         'Manufacturer': input_.loc[a, 'Manufacturer'],\n",
    "                         'Tab 2 Url': input_.loc[a, 'Tab 2 Url'],\n",
    "                         'Part No': input_.loc[a, 'Part No'],\n",
    "                         'Part Number': input_.loc[a, 'Part Number'],\n",
    "                         'Url': input_.loc[a, 'Url'],\n",
    "                         'Key': list_key[part_index],\n",
    "                         'JOIN_MPNTCK': f'''{input_.loc[a, 'Manufacturer']};{input_.loc[a, 'Part Number']};{input_.loc[a, 'Type Code']};{list_key[part_index]}''',\n",
    "                         'Tab 2 Note 1': note,\n",
    "                         'Tab 2 Note 2': note_2,\n",
    "                         'Parameter': list_parameter[part_index],\n",
    "                         'OEM': oem,\n",
    "                         'Info': info,\n",
    "                         'Json_Src': json.dumps(dict_src)}])\n",
    "\n",
    "output_correct = pd.concat([output_correct, df_temp], ignore_index=True).fillna('')\n",
    "\n",
    "output_correct"
   ]
  },
  {
   "cell_type": "code",
   "execution_count": 32,
   "id": "fc4ed7f6-ed4f-431c-b944-b1690309cdae",
   "metadata": {},
   "outputs": [
    {
     "data": {
      "text/plain": [
       "'ok'"
      ]
     },
     "execution_count": 32,
     "metadata": {},
     "output_type": "execute_result"
    }
   ],
   "source": [
    "crawler_status = 'ok'\n",
    "\n",
    "crawler_status"
   ]
  },
  {
   "cell_type": "code",
   "execution_count": 33,
   "id": "65c745d1-446e-46c5-9dec-819c9f7944d3",
   "metadata": {},
   "outputs": [
    {
     "data": {
      "text/html": [
       "<div>\n",
       "<style scoped>\n",
       "    .dataframe tbody tr th:only-of-type {\n",
       "        vertical-align: middle;\n",
       "    }\n",
       "\n",
       "    .dataframe tbody tr th {\n",
       "        vertical-align: top;\n",
       "    }\n",
       "\n",
       "    .dataframe thead th {\n",
       "        text-align: right;\n",
       "    }\n",
       "</style>\n",
       "<table border=\"1\" class=\"dataframe\">\n",
       "  <thead>\n",
       "    <tr style=\"text-align: right;\">\n",
       "      <th></th>\n",
       "    </tr>\n",
       "  </thead>\n",
       "  <tbody>\n",
       "  </tbody>\n",
       "</table>\n",
       "</div>"
      ],
      "text/plain": [
       "Empty DataFrame\n",
       "Columns: []\n",
       "Index: []"
      ]
     },
     "execution_count": 33,
     "metadata": {},
     "output_type": "execute_result"
    }
   ],
   "source": [
    "if crawler_status == 'error':\n",
    "    df_temp = pd.DataFrame([{'Group No': input_.loc[a, 'Group No'],\n",
    "                             'Group': input_.loc[a, 'Group'],\n",
    "                             'Type No': input_.loc[a, 'Type No'],\n",
    "                             'Type': input_.loc[a, 'Type'],\n",
    "                             'Type Code': input_.loc[a, 'Type Code'],\n",
    "                             'Manufacturer No': input_.loc[a, 'Manufacturer No'],\n",
    "                             'Manufacturer': input_.loc[a, 'Manufacturer'],\n",
    "                             'Tab 2 Url': input_.loc[a, 'Tab 2 Url'],\n",
    "                             'Part No': input_.loc[a, 'Part No'],\n",
    "                             'Part Number': input_.loc[a, 'Part Number'],\n",
    "                             'Url': input_.loc[a, 'Url']}])\n",
    "\n",
    "    output_error = pd.concat([output_error, df_temp], ignore_index=True).fillna('')\n",
    "\n",
    "output_error"
   ]
  },
  {
   "cell_type": "code",
   "execution_count": 34,
   "id": "7fd477de",
   "metadata": {},
   "outputs": [
    {
     "data": {
      "text/html": [
       "<div>\n",
       "<style scoped>\n",
       "    .dataframe tbody tr th:only-of-type {\n",
       "        vertical-align: middle;\n",
       "    }\n",
       "\n",
       "    .dataframe tbody tr th {\n",
       "        vertical-align: top;\n",
       "    }\n",
       "\n",
       "    .dataframe thead th {\n",
       "        text-align: right;\n",
       "    }\n",
       "</style>\n",
       "<table border=\"1\" class=\"dataframe\">\n",
       "  <thead>\n",
       "    <tr style=\"text-align: right;\">\n",
       "      <th></th>\n",
       "      <th>Group No</th>\n",
       "      <th>Group</th>\n",
       "      <th>Type No</th>\n",
       "      <th>Type</th>\n",
       "      <th>Type Code</th>\n",
       "      <th>Manufacturer No</th>\n",
       "      <th>Manufacturer</th>\n",
       "      <th>Tab 2 Url</th>\n",
       "      <th>Part No</th>\n",
       "      <th>Part Number</th>\n",
       "      <th>Url</th>\n",
       "      <th>Key</th>\n",
       "      <th>JOIN_MPNTCK</th>\n",
       "      <th>Tab 2 Note 1</th>\n",
       "      <th>Tab 2 Note 2</th>\n",
       "      <th>Parameter</th>\n",
       "      <th>OEM</th>\n",
       "      <th>Info</th>\n",
       "      <th>Json_Src</th>\n",
       "    </tr>\n",
       "  </thead>\n",
       "  <tbody>\n",
       "    <tr>\n",
       "      <th>0</th>\n",
       "      <td>1</td>\n",
       "      <td>Apparel &amp; Gifts</td>\n",
       "      <td>1</td>\n",
       "      <td>Gift Certificate</td>\n",
       "      <td>260</td>\n",
       "      <td>1</td>\n",
       "      <td>ROCKAUTO</td>\n",
       "      <td>https://www.rockauto.com/en/parts/ROCKAUTO,Gif...</td>\n",
       "      <td>1</td>\n",
       "      <td>GIFTCERT100</td>\n",
       "      <td>https://www.rockauto.com/en/parts/rockauto,GIF...</td>\n",
       "      <td>368852</td>\n",
       "      <td>ROCKAUTO;GIFTCERT100;260;368852</td>\n",
       "      <td>$100 Gift Certificate</td>\n",
       "      <td>Category: Gift Certificate</td>\n",
       "      <td>Format</td>\n",
       "      <td>GIFTCERT100E;GIFTCERT100P</td>\n",
       "      <td>https://www.rockauto.com/en/moreinfo.php?pk=36...</td>\n",
       "      <td>{\"0\": \"https://www.rockauto.com/info/999/GCcat...</td>\n",
       "    </tr>\n",
       "  </tbody>\n",
       "</table>\n",
       "</div>"
      ],
      "text/plain": [
       "   Group No            Group  Type No              Type Type Code  \\\n",
       "0         1  Apparel & Gifts        1  Gift Certificate       260   \n",
       "\n",
       "   Manufacturer No Manufacturer  \\\n",
       "0                1     ROCKAUTO   \n",
       "\n",
       "                                           Tab 2 Url  Part No  Part Number  \\\n",
       "0  https://www.rockauto.com/en/parts/ROCKAUTO,Gif...        1  GIFTCERT100   \n",
       "\n",
       "                                                 Url     Key  \\\n",
       "0  https://www.rockauto.com/en/parts/rockauto,GIF...  368852   \n",
       "\n",
       "                       JOIN_MPNTCK           Tab 2 Note 1  \\\n",
       "0  ROCKAUTO;GIFTCERT100;260;368852  $100 Gift Certificate   \n",
       "\n",
       "                 Tab 2 Note 2 Parameter                        OEM  \\\n",
       "0  Category: Gift Certificate    Format  GIFTCERT100E;GIFTCERT100P   \n",
       "\n",
       "                                                Info  \\\n",
       "0  https://www.rockauto.com/en/moreinfo.php?pk=36...   \n",
       "\n",
       "                                            Json_Src  \n",
       "0  {\"0\": \"https://www.rockauto.com/info/999/GCcat...  "
      ]
     },
     "execution_count": 34,
     "metadata": {},
     "output_type": "execute_result"
    }
   ],
   "source": [
    "if not output_correct.empty:\n",
    "    output_correct = output_correct.sort_values(by=['Group No', 'Type No', 'Manufacturer No', 'Part No'],\n",
    "                                                ascending=[True, True, True, True],\n",
    "                                                ignore_index=True)\n",
    "    output_correct.to_excel('./test_part_1.xlsx', index=False)\n",
    "\n",
    "output_correct"
   ]
  },
  {
   "cell_type": "code",
   "execution_count": 35,
   "id": "39a5441b-7f69-4812-aad8-7e10a1a24e78",
   "metadata": {},
   "outputs": [
    {
     "data": {
      "text/html": [
       "<div>\n",
       "<style scoped>\n",
       "    .dataframe tbody tr th:only-of-type {\n",
       "        vertical-align: middle;\n",
       "    }\n",
       "\n",
       "    .dataframe tbody tr th {\n",
       "        vertical-align: top;\n",
       "    }\n",
       "\n",
       "    .dataframe thead th {\n",
       "        text-align: right;\n",
       "    }\n",
       "</style>\n",
       "<table border=\"1\" class=\"dataframe\">\n",
       "  <thead>\n",
       "    <tr style=\"text-align: right;\">\n",
       "      <th></th>\n",
       "    </tr>\n",
       "  </thead>\n",
       "  <tbody>\n",
       "  </tbody>\n",
       "</table>\n",
       "</div>"
      ],
      "text/plain": [
       "Empty DataFrame\n",
       "Columns: []\n",
       "Index: []"
      ]
     },
     "execution_count": 35,
     "metadata": {},
     "output_type": "execute_result"
    }
   ],
   "source": [
    "if not output_error.empty:\n",
    "    output_error = output_error.sort_values(by=['Group No', 'Type No', 'Manufacturer No', 'Part No'],\n",
    "                                            ascending=[True, True, True, True],\n",
    "                                            ignore_index=True)\n",
    "    output_error.to_excel('./test_part_1_error.xlsx', index=False)\n",
    "\n",
    "output_error"
   ]
  },
  {
   "cell_type": "code",
   "execution_count": null,
   "id": "ba5d9f77-7464-4ad5-a42b-1fa0c0505832",
   "metadata": {},
   "outputs": [],
   "source": []
  }
 ],
 "metadata": {
  "kernelspec": {
   "display_name": "Python 3 (ipykernel)",
   "language": "python",
   "name": "python3"
  },
  "language_info": {
   "codemirror_mode": {
    "name": "ipython",
    "version": 3
   },
   "file_extension": ".py",
   "mimetype": "text/x-python",
   "name": "python",
   "nbconvert_exporter": "python",
   "pygments_lexer": "ipython3",
   "version": "3.11.3"
  }
 },
 "nbformat": 4,
 "nbformat_minor": 5
}
