{
 "cells": [
  {
   "cell_type": "code",
   "execution_count": 1,
   "id": "6ad18ad3",
   "metadata": {},
   "outputs": [
    {
     "name": "stdout",
     "output_type": "stream",
     "text": [
      "总数量：8\n"
     ]
    },
    {
     "data": {
      "text/plain": [
       "['https://www.summitracing.com/search?PageSize=100&SortBy=SKU&SortOrder=Ascending&keyword=LS%20Oil%20Pan&page=1',\n",
       " 'https://www.summitracing.com/search?PageSize=100&SortBy=SKU&SortOrder=Ascending&keyword=LS%20Oil%20Pan&page=2',\n",
       " 'https://www.summitracing.com/search?PageSize=100&SortBy=SKU&SortOrder=Ascending&keyword=LS%20Oil%20Pan&page=3',\n",
       " 'https://www.summitracing.com/search?PageSize=100&SortBy=SKU&SortOrder=Ascending&keyword=LS%20Oil%20Pan&page=4',\n",
       " 'https://www.summitracing.com/search?PageSize=100&SortBy=SKU&SortOrder=Ascending&keyword=LS%20Oil%20Pan&page=5',\n",
       " 'https://www.summitracing.com/search?PageSize=100&SortBy=SKU&SortOrder=Ascending&keyword=LS%20Oil%20Pan&page=6',\n",
       " 'https://www.summitracing.com/search?PageSize=100&SortBy=SKU&SortOrder=Ascending&keyword=LS%20Oil%20Pan&page=7',\n",
       " 'https://www.summitracing.com/search?PageSize=100&SortBy=SKU&SortOrder=Ascending&keyword=LS%20Oil%20Pan&page=8']"
      ]
     },
     "execution_count": 1,
     "metadata": {},
     "output_type": "execute_result"
    }
   ],
   "source": [
    "param_keyword = 'LS%20Oil%20Pan'\n",
    "param_len = 8\n",
    "\n",
    "list_url = ['https://www.summitracing.com/search?PageSize=100&SortBy=SKU&SortOrder=Ascending&keyword='+ param_keyword + '&page=' + str(_+1) for _ in range(param_len)]\n",
    "\n",
    "print('总数量：' + str(len(list_url)))\n",
    "list_url"
   ]
  },
  {
   "cell_type": "code",
   "execution_count": 2,
   "id": "9a48e555",
   "metadata": {},
   "outputs": [],
   "source": [
    "import pandas as pd"
   ]
  },
  {
   "cell_type": "code",
   "execution_count": 3,
   "id": "cb1681d6",
   "metadata": {},
   "outputs": [
    {
     "data": {
      "text/html": [
       "<div>\n",
       "<style scoped>\n",
       "    .dataframe tbody tr th:only-of-type {\n",
       "        vertical-align: middle;\n",
       "    }\n",
       "\n",
       "    .dataframe tbody tr th {\n",
       "        vertical-align: top;\n",
       "    }\n",
       "\n",
       "    .dataframe thead th {\n",
       "        text-align: right;\n",
       "    }\n",
       "</style>\n",
       "<table border=\"1\" class=\"dataframe\">\n",
       "  <thead>\n",
       "    <tr style=\"text-align: right;\">\n",
       "      <th></th>\n",
       "    </tr>\n",
       "  </thead>\n",
       "  <tbody>\n",
       "  </tbody>\n",
       "</table>\n",
       "</div>"
      ],
      "text/plain": [
       "Empty DataFrame\n",
       "Columns: []\n",
       "Index: []"
      ]
     },
     "execution_count": 3,
     "metadata": {},
     "output_type": "execute_result"
    }
   ],
   "source": [
    "df = pd.DataFrame()\n",
    "\n",
    "df"
   ]
  },
  {
   "cell_type": "code",
   "execution_count": 4,
   "id": "394bb4e7",
   "metadata": {},
   "outputs": [],
   "source": [
    "from selenium.webdriver import ChromeOptions"
   ]
  },
  {
   "cell_type": "code",
   "execution_count": 5,
   "id": "79f1e0d5",
   "metadata": {},
   "outputs": [],
   "source": [
    "option = ChromeOptions()"
   ]
  },
  {
   "cell_type": "code",
   "execution_count": 6,
   "id": "e1ce0308",
   "metadata": {},
   "outputs": [],
   "source": [
    "import sys\n",
    "sys.path.append('../../00.module')\n",
    "import UA\n",
    "import Proxy\n",
    "\n",
    "option.add_extension(Proxy.get_Proxy_Selenium(''))\n",
    "option.add_experimental_option('useAutomationExtension', False)\n",
    "option.add_argument('blink-settings=imagesEnabled=false')\n",
    "option.add_argument('--disable-blink-features=AutomationControlled')\n",
    "option.add_argument('--disable-dev-shm-usage')\n",
    "option.add_argument('--disable-gpu')\n",
    "option.add_experimental_option('excludeSwitches', ['enable-automation'])\n",
    "# option.add_argument('--headless')\n",
    "option.add_argument('--no-sandbox')\n",
    "option.add_argument(UA.get_User_Agent_Selenium())\n",
    "option.page_load_strategy = 'eager'"
   ]
  },
  {
   "cell_type": "code",
   "execution_count": 7,
   "id": "0929c4ba",
   "metadata": {},
   "outputs": [],
   "source": [
    "from selenium.webdriver import Chrome\n",
    "from selenium.webdriver.chrome.service import Service"
   ]
  },
  {
   "cell_type": "code",
   "execution_count": 8,
   "id": "ce78873b",
   "metadata": {},
   "outputs": [],
   "source": [
    "i = 0\n",
    "\n",
    "url = list_url[i]\n",
    "\n",
    "browser = Chrome(service=Service('../../../chromedriver'), options=option)\n",
    "\n",
    "browser.maximize_window()\n",
    "\n",
    "browser.get(url)"
   ]
  },
  {
   "cell_type": "code",
   "execution_count": 9,
   "id": "d4bac1a0",
   "metadata": {},
   "outputs": [],
   "source": [
    "import time"
   ]
  },
  {
   "cell_type": "code",
   "execution_count": 10,
   "id": "65e0ec8b",
   "metadata": {},
   "outputs": [],
   "source": [
    "browser.execute_script('window.scrollTo(0, document.body.scrollHeight);')\n",
    "time.sleep(1)\n",
    "browser.execute_script('window.scrollTo(0, -document.body.scrollHeight);')"
   ]
  },
  {
   "cell_type": "code",
   "execution_count": 11,
   "id": "ef0c1595",
   "metadata": {},
   "outputs": [],
   "source": [
    "from selenium.webdriver.support import expected_conditions as EC\n",
    "from selenium.webdriver.support.wait import WebDriverWait\n",
    "from selenium.webdriver.common.by import By"
   ]
  },
  {
   "cell_type": "code",
   "execution_count": 12,
   "id": "dda8abd1",
   "metadata": {
    "scrolled": true
   },
   "outputs": [
    {
     "data": {
      "text/plain": [
       "['https://www.summitracing.com/parts/aaf-all26240',\n",
       " 'https://www.summitracing.com/parts/sum-01-3454',\n",
       " 'https://www.summitracing.com/parts/aaf-all26241',\n",
       " 'https://www.summitracing.com/parts/ado-10-9246',\n",
       " 'https://www.summitracing.com/parts/ado-10-9246t',\n",
       " 'https://www.summitracing.com/parts/ado-10-9289',\n",
       " 'https://www.summitracing.com/parts/ado-10-9290',\n",
       " 'https://www.summitracing.com/parts/ado-11099271',\n",
       " 'https://www.summitracing.com/parts/ado-11562588',\n",
       " 'https://www.summitracing.com/parts/ado-11570082',\n",
       " 'https://www.summitracing.com/parts/ado-11589253',\n",
       " 'https://www.summitracing.com/parts/ado-12612350',\n",
       " 'https://www.summitracing.com/parts/ado-12640746',\n",
       " 'https://www.summitracing.com/parts/ado-24203590',\n",
       " 'https://www.summitracing.com/parts/ado-24203911',\n",
       " 'https://www.summitracing.com/parts/ado-24239049',\n",
       " 'https://www.summitracing.com/parts/ado-pt2386',\n",
       " 'https://www.summitracing.com/parts/arp-134-6902',\n",
       " 'https://www.summitracing.com/parts/arp-534-9505',\n",
       " 'https://www.summitracing.com/parts/arp-534-9605',\n",
       " 'https://www.summitracing.com/parts/arp-534-9705',\n",
       " 'https://www.summitracing.com/parts/atp-103013',\n",
       " 'https://www.summitracing.com/parts/atp-fg25',\n",
       " 'https://www.summitracing.com/parts/btc-btr12350',\n",
       " 'https://www.summitracing.com/parts/btc-btr29793',\n",
       " 'https://www.summitracing.com/parts/btc-btr73450',\n",
       " 'https://www.summitracing.com/parts/cgt-cp5173',\n",
       " 'https://www.summitracing.com/parts/chp-700ls1',\n",
       " 'https://www.summitracing.com/parts/chp-703ls1',\n",
       " 'https://www.summitracing.com/parts/chp-704ls1',\n",
       " 'https://www.summitracing.com/parts/chp-750ls1',\n",
       " 'https://www.summitracing.com/parts/chp-751ls1',\n",
       " 'https://www.summitracing.com/parts/chp-ls1000',\n",
       " 'https://www.summitracing.com/parts/chp-ls1000-nff',\n",
       " 'https://www.summitracing.com/parts/chp-ls1060',\n",
       " 'https://www.summitracing.com/parts/chp-ls1060-2',\n",
       " 'https://www.summitracing.com/parts/chp-ls1100',\n",
       " 'https://www.summitracing.com/parts/chp-ls1110',\n",
       " 'https://www.summitracing.com/parts/chp-ls1111',\n",
       " 'https://www.summitracing.com/parts/chp-ls1150',\n",
       " 'https://www.summitracing.com/parts/chp-ls1150-l3',\n",
       " 'https://www.summitracing.com/parts/chp-ls1152',\n",
       " 'https://www.summitracing.com/parts/chp-ls1155',\n",
       " 'https://www.summitracing.com/parts/chp-ls1155l2',\n",
       " 'https://www.summitracing.com/parts/chp-ls1171',\n",
       " 'https://www.summitracing.com/parts/chp-ls3000',\n",
       " 'https://www.summitracing.com/parts/chp-ls3060',\n",
       " 'https://www.summitracing.com/parts/chp-ls3155',\n",
       " 'https://www.summitracing.com/parts/chp-ls3157-3',\n",
       " 'https://www.summitracing.com/parts/chp-ls3158l3',\n",
       " 'https://www.summitracing.com/parts/chp-lsnx1140',\n",
       " 'https://www.summitracing.com/parts/chp-lsnx172l3',\n",
       " 'https://www.summitracing.com/parts/chp-lsnx3050',\n",
       " 'https://www.summitracing.com/parts/chp-lsnx3055',\n",
       " 'https://www.summitracing.com/parts/cmb-08-0059',\n",
       " 'https://www.summitracing.com/parts/cmb-08-0125',\n",
       " 'https://www.summitracing.com/parts/cmb-08-0127',\n",
       " 'https://www.summitracing.com/parts/cmb-08-0128',\n",
       " 'https://www.summitracing.com/parts/cmb-08-0129',\n",
       " 'https://www.summitracing.com/parts/cmb-08-0130',\n",
       " 'https://www.summitracing.com/parts/cmb-08-0131',\n",
       " 'https://www.summitracing.com/parts/cmb-08-0132',\n",
       " 'https://www.summitracing.com/parts/cmb-08-0133',\n",
       " 'https://www.summitracing.com/parts/cmb-08-0134',\n",
       " 'https://www.summitracing.com/parts/cmb-08-0135',\n",
       " 'https://www.summitracing.com/parts/cmb-08-0136',\n",
       " 'https://www.summitracing.com/parts/cmb-08-0137',\n",
       " 'https://www.summitracing.com/parts/cmb-08-0138',\n",
       " 'https://www.summitracing.com/parts/cmb-08-0139',\n",
       " 'https://www.summitracing.com/parts/cmb-08-0140',\n",
       " 'https://www.summitracing.com/parts/cmb-08-0141',\n",
       " 'https://www.summitracing.com/parts/cmb-08-0142',\n",
       " 'https://www.summitracing.com/parts/cmb-08-0143',\n",
       " 'https://www.summitracing.com/parts/cmb-08-0144',\n",
       " 'https://www.summitracing.com/parts/cmb-08-0145',\n",
       " 'https://www.summitracing.com/parts/cmb-08-0146',\n",
       " 'https://www.summitracing.com/parts/cmb-08-0147',\n",
       " 'https://www.summitracing.com/parts/cmb-08-0148',\n",
       " 'https://www.summitracing.com/parts/cmb-08-0149',\n",
       " 'https://www.summitracing.com/parts/cmb-08-0150',\n",
       " 'https://www.summitracing.com/parts/cmb-08-0151',\n",
       " 'https://www.summitracing.com/parts/cmb-08-0152',\n",
       " 'https://www.summitracing.com/parts/cmb-08-0153',\n",
       " 'https://www.summitracing.com/parts/cmb-08-0154',\n",
       " 'https://www.summitracing.com/parts/cmb-08-0155',\n",
       " 'https://www.summitracing.com/parts/cmb-08-0156',\n",
       " 'https://www.summitracing.com/parts/cmb-08-0157',\n",
       " 'https://www.summitracing.com/parts/cmb-08-0158',\n",
       " 'https://www.summitracing.com/parts/cmb-08-0159',\n",
       " 'https://www.summitracing.com/parts/cmb-08-0160',\n",
       " 'https://www.summitracing.com/parts/cmb-08-0161',\n",
       " 'https://www.summitracing.com/parts/cmb-08-0162',\n",
       " 'https://www.summitracing.com/parts/cmb-08-0163',\n",
       " 'https://www.summitracing.com/parts/cmb-08-0164',\n",
       " 'https://www.summitracing.com/parts/cmb-08-0165',\n",
       " 'https://www.summitracing.com/parts/cmb-08-0166',\n",
       " 'https://www.summitracing.com/parts/cmb-08-0167',\n",
       " 'https://www.summitracing.com/parts/cmb-08-0168',\n",
       " 'https://www.summitracing.com/parts/cmb-08-0169',\n",
       " 'https://www.summitracing.com/parts/cmb-08-0170',\n",
       " 'https://www.summitracing.com/parts/cmb-08-0171']"
      ]
     },
     "execution_count": 12,
     "metadata": {},
     "output_type": "execute_result"
    }
   ],
   "source": [
    "wait = WebDriverWait(browser, 60)\n",
    "wait.until(EC.presence_of_element_located((By.XPATH, '//div[@class=\"columns medium-17 large-18 show-for-medium\"]/h2/a')))\n",
    "list_url = [a.get_attribute('href') for a in browser.find_elements(by=By.XPATH, value='//div[@class=\"columns medium-17 large-18 show-for-medium\"]/h2/a')]\n",
    "\n",
    "list_url"
   ]
  },
  {
   "cell_type": "code",
   "execution_count": 13,
   "id": "b5445e2c",
   "metadata": {},
   "outputs": [
    {
     "data": {
      "text/html": [
       "<div>\n",
       "<style scoped>\n",
       "    .dataframe tbody tr th:only-of-type {\n",
       "        vertical-align: middle;\n",
       "    }\n",
       "\n",
       "    .dataframe tbody tr th {\n",
       "        vertical-align: top;\n",
       "    }\n",
       "\n",
       "    .dataframe thead th {\n",
       "        text-align: right;\n",
       "    }\n",
       "</style>\n",
       "<table border=\"1\" class=\"dataframe\">\n",
       "  <thead>\n",
       "    <tr style=\"text-align: right;\">\n",
       "      <th></th>\n",
       "      <th>status</th>\n",
       "      <th>Menu</th>\n",
       "      <th>Url</th>\n",
       "    </tr>\n",
       "  </thead>\n",
       "  <tbody>\n",
       "    <tr>\n",
       "      <th>0</th>\n",
       "      <td>ok</td>\n",
       "      <td>https://www.summitracing.com/search?PageSize=1...</td>\n",
       "      <td>https://www.summitracing.com/parts/aaf-all26240</td>\n",
       "    </tr>\n",
       "    <tr>\n",
       "      <th>1</th>\n",
       "      <td>ok</td>\n",
       "      <td>https://www.summitracing.com/search?PageSize=1...</td>\n",
       "      <td>https://www.summitracing.com/parts/sum-01-3454</td>\n",
       "    </tr>\n",
       "    <tr>\n",
       "      <th>2</th>\n",
       "      <td>ok</td>\n",
       "      <td>https://www.summitracing.com/search?PageSize=1...</td>\n",
       "      <td>https://www.summitracing.com/parts/aaf-all26241</td>\n",
       "    </tr>\n",
       "    <tr>\n",
       "      <th>3</th>\n",
       "      <td>ok</td>\n",
       "      <td>https://www.summitracing.com/search?PageSize=1...</td>\n",
       "      <td>https://www.summitracing.com/parts/ado-10-9246</td>\n",
       "    </tr>\n",
       "    <tr>\n",
       "      <th>4</th>\n",
       "      <td>ok</td>\n",
       "      <td>https://www.summitracing.com/search?PageSize=1...</td>\n",
       "      <td>https://www.summitracing.com/parts/ado-10-9246t</td>\n",
       "    </tr>\n",
       "    <tr>\n",
       "      <th>...</th>\n",
       "      <td>...</td>\n",
       "      <td>...</td>\n",
       "      <td>...</td>\n",
       "    </tr>\n",
       "    <tr>\n",
       "      <th>96</th>\n",
       "      <td>ok</td>\n",
       "      <td>https://www.summitracing.com/search?PageSize=1...</td>\n",
       "      <td>https://www.summitracing.com/parts/cmb-08-0167</td>\n",
       "    </tr>\n",
       "    <tr>\n",
       "      <th>97</th>\n",
       "      <td>ok</td>\n",
       "      <td>https://www.summitracing.com/search?PageSize=1...</td>\n",
       "      <td>https://www.summitracing.com/parts/cmb-08-0168</td>\n",
       "    </tr>\n",
       "    <tr>\n",
       "      <th>98</th>\n",
       "      <td>ok</td>\n",
       "      <td>https://www.summitracing.com/search?PageSize=1...</td>\n",
       "      <td>https://www.summitracing.com/parts/cmb-08-0169</td>\n",
       "    </tr>\n",
       "    <tr>\n",
       "      <th>99</th>\n",
       "      <td>ok</td>\n",
       "      <td>https://www.summitracing.com/search?PageSize=1...</td>\n",
       "      <td>https://www.summitracing.com/parts/cmb-08-0170</td>\n",
       "    </tr>\n",
       "    <tr>\n",
       "      <th>100</th>\n",
       "      <td>ok</td>\n",
       "      <td>https://www.summitracing.com/search?PageSize=1...</td>\n",
       "      <td>https://www.summitracing.com/parts/cmb-08-0171</td>\n",
       "    </tr>\n",
       "  </tbody>\n",
       "</table>\n",
       "<p>101 rows × 3 columns</p>\n",
       "</div>"
      ],
      "text/plain": [
       "    status                                               Menu  \\\n",
       "0       ok  https://www.summitracing.com/search?PageSize=1...   \n",
       "1       ok  https://www.summitracing.com/search?PageSize=1...   \n",
       "2       ok  https://www.summitracing.com/search?PageSize=1...   \n",
       "3       ok  https://www.summitracing.com/search?PageSize=1...   \n",
       "4       ok  https://www.summitracing.com/search?PageSize=1...   \n",
       "..     ...                                                ...   \n",
       "96      ok  https://www.summitracing.com/search?PageSize=1...   \n",
       "97      ok  https://www.summitracing.com/search?PageSize=1...   \n",
       "98      ok  https://www.summitracing.com/search?PageSize=1...   \n",
       "99      ok  https://www.summitracing.com/search?PageSize=1...   \n",
       "100     ok  https://www.summitracing.com/search?PageSize=1...   \n",
       "\n",
       "                                                 Url  \n",
       "0    https://www.summitracing.com/parts/aaf-all26240  \n",
       "1     https://www.summitracing.com/parts/sum-01-3454  \n",
       "2    https://www.summitracing.com/parts/aaf-all26241  \n",
       "3     https://www.summitracing.com/parts/ado-10-9246  \n",
       "4    https://www.summitracing.com/parts/ado-10-9246t  \n",
       "..                                               ...  \n",
       "96    https://www.summitracing.com/parts/cmb-08-0167  \n",
       "97    https://www.summitracing.com/parts/cmb-08-0168  \n",
       "98    https://www.summitracing.com/parts/cmb-08-0169  \n",
       "99    https://www.summitracing.com/parts/cmb-08-0170  \n",
       "100   https://www.summitracing.com/parts/cmb-08-0171  \n",
       "\n",
       "[101 rows x 3 columns]"
      ]
     },
     "execution_count": 13,
     "metadata": {},
     "output_type": "execute_result"
    }
   ],
   "source": [
    "df_temp = pd.DataFrame({'status': 'ok',\n",
    "                        'Menu': url,\n",
    "                        'Url': list_url})\n",
    "\n",
    "browser.quit()\n",
    "\n",
    "df = pd.concat([df, df_temp], ignore_index=True).fillna('')\n",
    "\n",
    "df"
   ]
  },
  {
   "cell_type": "code",
   "execution_count": null,
   "id": "244794fe",
   "metadata": {},
   "outputs": [],
   "source": []
  }
 ],
 "metadata": {
  "kernelspec": {
   "display_name": "Python 3 (ipykernel)",
   "language": "python",
   "name": "python3"
  },
  "language_info": {
   "codemirror_mode": {
    "name": "ipython",
    "version": 3
   },
   "file_extension": ".py",
   "mimetype": "text/x-python",
   "name": "python",
   "nbconvert_exporter": "python",
   "pygments_lexer": "ipython3",
   "version": "3.11.3"
  }
 },
 "nbformat": 4,
 "nbformat_minor": 5
}
