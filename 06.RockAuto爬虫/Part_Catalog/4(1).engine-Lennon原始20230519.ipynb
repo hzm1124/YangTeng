{
 "cells": [
  {
   "cell_type": "code",
   "execution_count": null,
   "id": "143903ef",
   "metadata": {},
   "outputs": [],
   "source": [
    "import pandas as pd\n",
    "\n",
    "df_menu = pd.read_excel('./engine_in.xlsx', header=0)\n",
    "list_make = df_menu['Make'].to_list()\n",
    "\n",
    "list_make"
   ]
  },
  {
   "cell_type": "code",
   "execution_count": null,
   "id": "6ffa3214",
   "metadata": {},
   "outputs": [],
   "source": [
    "list_year = df_menu['Year'].to_list()\n",
    "\n",
    "list_year"
   ]
  },
  {
   "cell_type": "code",
   "execution_count": null,
   "id": "6efef6ac",
   "metadata": {},
   "outputs": [],
   "source": [
    "list_model = df_menu['Model'].to_list()\n",
    "\n",
    "print(len(list_model))\n",
    "list_model"
   ]
  },
  {
   "cell_type": "code",
   "execution_count": 9,
   "id": "1abb525e",
   "metadata": {},
   "outputs": [],
   "source": [
    "df = pd.DataFrame(columns=['Make',\n",
    "                           'Year',\n",
    "                           'Model',\n",
    "                           'Engine',\n",
    "                           'Url',\n",
    "                           'status'])"
   ]
  },
  {
   "cell_type": "code",
   "execution_count": 4,
   "id": "fff8f24b",
   "metadata": {},
   "outputs": [],
   "source": [
    "from urllib.parse import quote"
   ]
  },
  {
   "cell_type": "code",
   "execution_count": 5,
   "id": "70b1f15c",
   "metadata": {},
   "outputs": [
    {
     "data": {
      "text/plain": [
       "'func=navnode_fetch&payload=%7B%22jsn%22%3A%7B%22tab%22%3A%22catalog%22%2C%22make%22%3A%22ACURA%22%2C%22year%22%3A%222023%22%2C%22model%22%3A%22INTEGRA%22%7D%7D&api_json_request=1'"
      ]
     },
     "execution_count": 5,
     "metadata": {},
     "output_type": "execute_result"
    }
   ],
   "source": [
    "i = 0\n",
    "\n",
    "headers = {'Content-Type': 'application/x-www-form-urlencoded; charset=UTF-8'}\n",
    "\n",
    "func = r'navnode_fetch'\n",
    "payload = r'{\"jsn\":{\"tab\":\"catalog\",\"make\":\"' + list_make[i] + '\",\"year\":\"' + str(list_year[i]) + '\",\"model\":\"' + list_model[i] +'\"}}'\n",
    "api_json_request = r'1'\n",
    "\n",
    "data = 'func=' + func + '&payload=' + quote(payload, safe=' ').replace(' ', '+') + '&api_json_request=' + api_json_request\n",
    "\n",
    "data"
   ]
  },
  {
   "cell_type": "code",
   "execution_count": 10,
   "id": "680513fd",
   "metadata": {},
   "outputs": [],
   "source": [
    "import requests"
   ]
  },
  {
   "cell_type": "code",
   "execution_count": 11,
   "id": "f45224ed",
   "metadata": {},
   "outputs": [
    {
     "data": {
      "text/plain": [
       "'{\"html_fill_sections\":{\"navchildren[]\":\"<div class=\\\\\"ranavnode\\\\\" id=\\\\\"nav[__GIP__1__]\\\\\"><input type=\\\\\"hidden\\\\\" autocomplete=\\\\\"off\\\\\" id=\\\\\"jsn[__GIP__1__]\\\\\" value=\\\\\"{&quot;groupindex&quot;:&quot;__GIP__1__&quot;,&quot;nodetype&quot;:&quot;carcode&quot;,&quot;tab&quot;:&quot;catalog&quot;,&quot;idepth&quot;:1,&quot;make&quot;:&quot;ACURA&quot;,&quot;year&quot;:&quot;2023&quot;,&quot;model&quot;:&quot;INTEGRA&quot;,&quot;carcode&quot;:&quot;3451548&quot;,&quot;engine&quot;:&quot;1.5L L4 Turbocharged&quot;,&quot;jsdata&quot;:{&quot;markets&quot;:[{&quot;c&quot;:&quot;US&quot;},{&quot;c&quot;:&quot;CA&quot;},{&quot;c&quot;:&quot;MX&quot;}],&quot;mktlist&quot;:&quot;US,CA,MX&quot;,&quot;Show&quot;:1}}\\\\\" \\\\/><input type=\\\\\"hidden\\\\\" autocomplete=\\\\\"off\\\\\" name=\\\\\"navnodeunique[catalog-acura-2023-integra-3451548]\\\\\" id=\\\\\"navnodeunique[catalog-acura-2023-integra-3451548]\\\\\" value=\\\\\"__GIP__1__\\\\\" \\\\/><div id=\\\\\"nav_o[__GIP__1__]\\\\\" class=\\\\\"ranavouter\\\\\"><div class=\\\\\"inner\\\\\"><table class=\\\\\"tbl\\\\\"  cellpadding=\\\\\"0\\\\\" cellspacing=\\\\\"0\\\\\"><tr><td class=\\\\\"niconspace nvlineicon\\\\\"><\\\\/td><td class=\\\\\"niconspace ncollapsedicon\\\\\" id=\\\\\"navicon[__GIP__1__]\\\\\"><a href=\\\\\"\\\\/en\\\\/catalog\\\\/acura,2023,integra,1.5l+l4+turbocharged,3451548\\\\\" onclick=\\\\\"cataloglite.LinkIntercept_ToggleNavNode(&quot;__GIP__1__&quot;); return false;\\\\\" tabindex=\\\\\"-1\\\\\"><img src=\\\\\"\\\\/Images\\\\/1pxtransparent.png\\\\\" alt=\\\\\"Toggle\\\\\"><\\\\/a><\\\\/td><td class=\\\\\"nlabel\\\\\" ><a class=\\\\\"navlabellink nvoffset nnormal\\\\\" href=\\\\\"\\\\/en\\\\/catalog\\\\/acura,2023,integra,1.5l+l4+turbocharged,3451548\\\\\" onclick=\\\\\"cataloglite.LinkIntercept_ToggleNavNode(&quot;__GIP__1__&quot;); return false;\\\\\" id=\\\\\"navhref[__GIP__1__]\\\\\">1.5L L4 Turbocharged<\\\\/a><\\\\/td><td class=\\\\\"rc nflags\\\\\"><a class=\\\\\"sprite desktopflags us\\\\\" style=\\\\\"margin-left: 3px;\\\\\" href=\\\\\"\\\\/help\\\\/?page=1#WHATDOTHE\\\\\" id=\\\\\"flags[__GIP__1__][US]\\\\\" onclick=\\\\\"RA.StopBubble(event); return FAQpopup(this)\\\\\" aria-label=\\\\\"the USA flag\\\\\"><\\\\/a><a class=\\\\\"sprite desktopflags ca\\\\\" style=\\\\\"margin-left: 3px;\\\\\" href=\\\\\"\\\\/help\\\\/?page=1#WHATDOTHE\\\\\" id=\\\\\"flags[__GIP__1__][CA]\\\\\" onclick=\\\\\"RA.StopBubble(event); return FAQpopup(this)\\\\\" aria-label=\\\\\"Canada flag\\\\\"><\\\\/a><a class=\\\\\"sprite desktopflags mx\\\\\" style=\\\\\"margin-left: 3px;\\\\\" href=\\\\\"\\\\/help\\\\/?page=1#WHATDOTHE\\\\\" id=\\\\\"flags[__GIP__1__][MX]\\\\\" onclick=\\\\\"RA.StopBubble(event); return FAQpopup(this)\\\\\" aria-label=\\\\\"Mexico flag\\\\\"><\\\\/a><\\\\/td><td class=\\\\\"rc\\\\\"><a href=\\\\\"\\\\/RSS\\\\/subscribe.php?carcode=3451548\\\\\" target=\\\\\"_blank\\\\\"><img style=\\\\\"border: none; display: inline-block; vertical-align: top; margin-top: 2px;\\\\\" src=\\\\\"\\\\/RSS\\\\/images\\\\/feed_icon.gif\\\\\" alt=\\\\\"RSS Feed\\\\\" title=\\\\\"Subscribe to RSS feed to be notified when new parts are added for this car\\\\\" \\\\/><\\\\/a><\\\\/td><td class=\\\\\"rc show-if-js ra-hide\\\\\"><span name=\\\\\"icon_add_car_to_account\\\\\"><img class=\\\\\"mouseover\\\\\" onclick=\\\\\"cataloglite.AddRemoveSavedVehicle(\\'add\\', &quot;3451548&quot;, &quot;__GIP__1__&quot;);(&quot;3451548&quot;); AccountWidgets.SavedVehiclesWidget.Refresh(); $(this).addClass(\\'ra-hide\\');\\\\\" style=\\\\\"vertical-align: top; height: 18px;\\\\\" src=\\\\\"\\\\/catalog\\\\/images\\\\/accounts\\\\/vehicles.png\\\\\" alt=\\\\\"Add Car to My List\\\\\" title=\\\\\"Add Car to My List\\\\\" \\\\/><\\\\/span><\\\\/td><td class=\\\\\"rc show-if-js\\\\\"><div id=\\\\\"navcarcodesearchwrapper[__GIP__1__]\\\\\" class=\\\\\"ccsi-wrapper vtop ra-hide\\\\\"><table class=\\\\\"tblz tbl-input-button-attached attached-ccparttype-size\\\\\" style=\\\\\"\\\\\"><tr><td class=\\\\\"td-input\\\\\" style=\\\\\"width: 99%;\\\\\"><input type=\\\\\"text\\\\\" name=\\\\\"navcarcodesearchinput[__GIP__1__]\\\\\" id=\\\\\"navcarcodesearchinput[__GIP__1__]\\\\\" placeholder=\\\\\"part name or part type\\\\\" class=\\\\\"input-carcodesearch\\\\\" autocomplete=\\\\\"off\\\\\" spellcheck=\\\\\"false\\\\\" autocorrect=\\\\\"off\\\\\" autocapitalize=\\\\\"off\\\\\" title=\\\\\"Enter Part Name to Search Categories Under this Vehicle \\\\n(e.g. \\'Hydraulic Hose\\', \\'Control Arm Bushing\\', \\'Tail Lamp Bulb\\', etc.)\\\\\" onfocus=\\\\\"acmp_partcategory = \\'1\\'; currentSTCID = &quot;__GIP__1__&quot;;\\\\\" onclick=\\\\\"setTimeout(function() {acmp_request();}, 50);\\\\\" onkeyup=\\\\\"acmp_partcategory = \\'1\\'; currentSTCID = &quot;__GIP__1__&quot;; acmp_keyup(event, true);\\\\\" onkeydown=\\\\\"acmp_partcategory = \\'1\\'; currentSTCID = &quot;__GIP__1__&quot;;akhandler(event);\\\\\" \\\\/><div style=\\\\\"margin-top:-1px;\\\\\"><div style=\\\\\"position: relative;\\\\\"><table id=\\\\\"suggesttypescar[__GIP__1__]\\\\\" style=\\\\\"display:none; position: absolute; z-index: 2; border: solid 1px #7777FF; opacity: 1; background-color: #FFFFFF; width: 400px;\\\\\" class=\\\\\"autosuggest-box\\\\\" cellpadding=\\\\\"0\\\\\" cellspacing=\\\\\"0\\\\\"><\\\\/table><\\\\/div><\\\\/div><\\\\/td><td class=\\\\\"td-button\\\\\"><div class=\\\\\"hide-if-js\\\\\"><input type=\\\\\"submit\\\\\" name=\\\\\"btntabsearch\\\\\" id=\\\\\"btncarcodesearch[__GIP__1__]\\\\\" value=\\\\\"Search\\\\\" class=\\\\\"ra-btn ra-btn-size-normal ra-btn-color-darkblue ra-btn-search-icon\\\\\" alt=\\\\\"Search\\\\\" title=\\\\\"Search\\\\\" onclick=\\\\\"go_search(true);\\\\\"\\\\/><\\\\/div><div class=\\\\\"show-if-js\\\\\"><img class=\\\\\"ib input-size ra-btn ra-btn-size-normal ra-btn-color-darkblue ra-btn-search-icon\\\\\" src=\\\\\"\\\\/Images\\\\/1pxtransparent.png\\\\\" style=\\\\\"color: black;\\\\\" onclick=\\\\\"RA.Click(\\'btncarcodesearch[__GIP__1__]\\')\\\\\" alt=\\\\\"Search\\\\\" title=\\\\\"Search\\\\\"\\\\/><\\\\/div><\\\\/td><td style=\\\\\"padding-left: .5em; vertical-align: middle;\\\\\"><img class=\\\\\"help_q_icon_16 vmiddle\\\\\" src=\\\\\"\\\\/Images\\\\/questionMark.png\\\\\" onclick=\\\\\"helpPopup(&quot;Enter Part Name to Search Categories Under this Vehicle&lt;br\\\\\\\\\\\\/&gt;(e.g. \\'Hydraulic Hose\\', \\'Control Arm Bushing\\', \\'Tail Lamp Bulb\\', etc.)&quot;, this);\\\\\" alt=\\\\\"How to Search\\\\\" title=\\\\\"How to Search\\\\\" \\\\/><\\\\/td><\\\\/tr><\\\\/table><span id=\\\\\"navcarcodesearchmsg[__GIP__1__]\\\\\" class=\\\\\"searchresultmsg\\\\\"><\\\\/span><\\\\/div><\\\\/td><\\\\/tr><\\\\/table><\\\\/div><\\\\/div><div class=\\\\\"nchildren ra-hide\\\\\" id=\\\\\"navchildren[__GIP__1__]\\\\\" ><\\\\/div><\\\\/div>\"},\"jsn\":{\"tab\":\"catalog\",\"make\":\"ACURA\",\"year\":\"2023\",\"model\":\"INTEGRA\"},\"collected_javascript\":\"\\\\/**UQ:EE8268B3**\\\\/\\\\nRABoot.WaitFor(\\\\\"jQuery\\\\\", function() {$(document).ready(function(){cataloglite.AddClearXToInput(\\\\\"navcarcodesearchinput[__GIP__1__]\\\\\");});});\\\\nwindow.top.parent.window[\\\\\"_nck\\\\\"] = \\\\\"8LVLUxTaILBT+tLxkg8+3Ag7\\\\\\\\\\\\/0bbOhvn7P3rkFbL809YNOHQDmNBznFtdYfbcEUriQ0mcmy\\\\\\\\\\\\/TcWfcbfHTjxSwndfe2chgzy88liHO2MoAcp7wW7lek5DxawTLSg\\\\\\\\\\\\/DpYUdGmw0NGb\\\\\\\\\\\\/5n4VApdthtV0pijm37HSXatedVz9Ec05pE=\\\\\";\\\\n\"}'"
      ]
     },
     "execution_count": 11,
     "metadata": {},
     "output_type": "execute_result"
    }
   ],
   "source": [
    "resp = requests.post('https://www.rockauto.com/catalog/catalogapi.php', headers=headers, data=data).text\n",
    "\n",
    "resp"
   ]
  },
  {
   "cell_type": "code",
   "execution_count": 12,
   "id": "767e1146",
   "metadata": {},
   "outputs": [],
   "source": [
    "import json"
   ]
  },
  {
   "cell_type": "code",
   "execution_count": 13,
   "id": "d908d8fa",
   "metadata": {},
   "outputs": [
    {
     "data": {
      "text/plain": [
       "'<div class=\"ranavnode\" id=\"nav[__GIP__1__]\"><input type=\"hidden\" autocomplete=\"off\" id=\"jsn[__GIP__1__]\" value=\"{&quot;groupindex&quot;:&quot;__GIP__1__&quot;,&quot;nodetype&quot;:&quot;carcode&quot;,&quot;tab&quot;:&quot;catalog&quot;,&quot;idepth&quot;:1,&quot;make&quot;:&quot;ACURA&quot;,&quot;year&quot;:&quot;2023&quot;,&quot;model&quot;:&quot;INTEGRA&quot;,&quot;carcode&quot;:&quot;3451548&quot;,&quot;engine&quot;:&quot;1.5L L4 Turbocharged&quot;,&quot;jsdata&quot;:{&quot;markets&quot;:[{&quot;c&quot;:&quot;US&quot;},{&quot;c&quot;:&quot;CA&quot;},{&quot;c&quot;:&quot;MX&quot;}],&quot;mktlist&quot;:&quot;US,CA,MX&quot;,&quot;Show&quot;:1}}\" /><input type=\"hidden\" autocomplete=\"off\" name=\"navnodeunique[catalog-acura-2023-integra-3451548]\" id=\"navnodeunique[catalog-acura-2023-integra-3451548]\" value=\"__GIP__1__\" /><div id=\"nav_o[__GIP__1__]\" class=\"ranavouter\"><div class=\"inner\"><table class=\"tbl\"  cellpadding=\"0\" cellspacing=\"0\"><tr><td class=\"niconspace nvlineicon\"></td><td class=\"niconspace ncollapsedicon\" id=\"navicon[__GIP__1__]\"><a href=\"/en/catalog/acura,2023,integra,1.5l+l4+turbocharged,3451548\" onclick=\"cataloglite.LinkIntercept_ToggleNavNode(&quot;__GIP__1__&quot;); return false;\" tabindex=\"-1\"><img src=\"/Images/1pxtransparent.png\" alt=\"Toggle\"></a></td><td class=\"nlabel\" ><a class=\"navlabellink nvoffset nnormal\" href=\"/en/catalog/acura,2023,integra,1.5l+l4+turbocharged,3451548\" onclick=\"cataloglite.LinkIntercept_ToggleNavNode(&quot;__GIP__1__&quot;); return false;\" id=\"navhref[__GIP__1__]\">1.5L L4 Turbocharged</a></td><td class=\"rc nflags\"><a class=\"sprite desktopflags us\" style=\"margin-left: 3px;\" href=\"/help/?page=1#WHATDOTHE\" id=\"flags[__GIP__1__][US]\" onclick=\"RA.StopBubble(event); return FAQpopup(this)\" aria-label=\"the USA flag\"></a><a class=\"sprite desktopflags ca\" style=\"margin-left: 3px;\" href=\"/help/?page=1#WHATDOTHE\" id=\"flags[__GIP__1__][CA]\" onclick=\"RA.StopBubble(event); return FAQpopup(this)\" aria-label=\"Canada flag\"></a><a class=\"sprite desktopflags mx\" style=\"margin-left: 3px;\" href=\"/help/?page=1#WHATDOTHE\" id=\"flags[__GIP__1__][MX]\" onclick=\"RA.StopBubble(event); return FAQpopup(this)\" aria-label=\"Mexico flag\"></a></td><td class=\"rc\"><a href=\"/RSS/subscribe.php?carcode=3451548\" target=\"_blank\"><img style=\"border: none; display: inline-block; vertical-align: top; margin-top: 2px;\" src=\"/RSS/images/feed_icon.gif\" alt=\"RSS Feed\" title=\"Subscribe to RSS feed to be notified when new parts are added for this car\" /></a></td><td class=\"rc show-if-js ra-hide\"><span name=\"icon_add_car_to_account\"><img class=\"mouseover\" onclick=\"cataloglite.AddRemoveSavedVehicle(\\'add\\', &quot;3451548&quot;, &quot;__GIP__1__&quot;);(&quot;3451548&quot;); AccountWidgets.SavedVehiclesWidget.Refresh(); $(this).addClass(\\'ra-hide\\');\" style=\"vertical-align: top; height: 18px;\" src=\"/catalog/images/accounts/vehicles.png\" alt=\"Add Car to My List\" title=\"Add Car to My List\" /></span></td><td class=\"rc show-if-js\"><div id=\"navcarcodesearchwrapper[__GIP__1__]\" class=\"ccsi-wrapper vtop ra-hide\"><table class=\"tblz tbl-input-button-attached attached-ccparttype-size\" style=\"\"><tr><td class=\"td-input\" style=\"width: 99%;\"><input type=\"text\" name=\"navcarcodesearchinput[__GIP__1__]\" id=\"navcarcodesearchinput[__GIP__1__]\" placeholder=\"part name or part type\" class=\"input-carcodesearch\" autocomplete=\"off\" spellcheck=\"false\" autocorrect=\"off\" autocapitalize=\"off\" title=\"Enter Part Name to Search Categories Under this Vehicle \\n(e.g. \\'Hydraulic Hose\\', \\'Control Arm Bushing\\', \\'Tail Lamp Bulb\\', etc.)\" onfocus=\"acmp_partcategory = \\'1\\'; currentSTCID = &quot;__GIP__1__&quot;;\" onclick=\"setTimeout(function() {acmp_request();}, 50);\" onkeyup=\"acmp_partcategory = \\'1\\'; currentSTCID = &quot;__GIP__1__&quot;; acmp_keyup(event, true);\" onkeydown=\"acmp_partcategory = \\'1\\'; currentSTCID = &quot;__GIP__1__&quot;;akhandler(event);\" /><div style=\"margin-top:-1px;\"><div style=\"position: relative;\"><table id=\"suggesttypescar[__GIP__1__]\" style=\"display:none; position: absolute; z-index: 2; border: solid 1px #7777FF; opacity: 1; background-color: #FFFFFF; width: 400px;\" class=\"autosuggest-box\" cellpadding=\"0\" cellspacing=\"0\"></table></div></div></td><td class=\"td-button\"><div class=\"hide-if-js\"><input type=\"submit\" name=\"btntabsearch\" id=\"btncarcodesearch[__GIP__1__]\" value=\"Search\" class=\"ra-btn ra-btn-size-normal ra-btn-color-darkblue ra-btn-search-icon\" alt=\"Search\" title=\"Search\" onclick=\"go_search(true);\"/></div><div class=\"show-if-js\"><img class=\"ib input-size ra-btn ra-btn-size-normal ra-btn-color-darkblue ra-btn-search-icon\" src=\"/Images/1pxtransparent.png\" style=\"color: black;\" onclick=\"RA.Click(\\'btncarcodesearch[__GIP__1__]\\')\" alt=\"Search\" title=\"Search\"/></div></td><td style=\"padding-left: .5em; vertical-align: middle;\"><img class=\"help_q_icon_16 vmiddle\" src=\"/Images/questionMark.png\" onclick=\"helpPopup(&quot;Enter Part Name to Search Categories Under this Vehicle&lt;br\\\\/&gt;(e.g. \\'Hydraulic Hose\\', \\'Control Arm Bushing\\', \\'Tail Lamp Bulb\\', etc.)&quot;, this);\" alt=\"How to Search\" title=\"How to Search\" /></td></tr></table><span id=\"navcarcodesearchmsg[__GIP__1__]\" class=\"searchresultmsg\"></span></div></td></tr></table></div></div><div class=\"nchildren ra-hide\" id=\"navchildren[__GIP__1__]\" ></div></div>'"
      ]
     },
     "execution_count": 13,
     "metadata": {},
     "output_type": "execute_result"
    }
   ],
   "source": [
    "html = json.loads(resp)['html_fill_sections']['navchildren[]']\n",
    "\n",
    "html"
   ]
  },
  {
   "cell_type": "code",
   "execution_count": 14,
   "id": "8d084b12",
   "metadata": {},
   "outputs": [],
   "source": [
    "from bs4 import BeautifulSoup"
   ]
  },
  {
   "cell_type": "code",
   "execution_count": 15,
   "id": "cc295fe8",
   "metadata": {},
   "outputs": [
    {
     "name": "stdout",
     "output_type": "stream",
     "text": [
      "<html>\n",
      " <body>\n",
      "  <div class=\"ranavnode\" id=\"nav[__GIP__1__]\">\n",
      "   <input autocomplete=\"off\" id=\"jsn[__GIP__1__]\" type=\"hidden\" value='{\"groupindex\":\"__GIP__1__\",\"nodetype\":\"carcode\",\"tab\":\"catalog\",\"idepth\":1,\"make\":\"ACURA\",\"year\":\"2023\",\"model\":\"INTEGRA\",\"carcode\":\"3451548\",\"engine\":\"1.5L L4 Turbocharged\",\"jsdata\":{\"markets\":[{\"c\":\"US\"},{\"c\":\"CA\"},{\"c\":\"MX\"}],\"mktlist\":\"US,CA,MX\",\"Show\":1}}'/>\n",
      "   <input autocomplete=\"off\" id=\"navnodeunique[catalog-acura-2023-integra-3451548]\" name=\"navnodeunique[catalog-acura-2023-integra-3451548]\" type=\"hidden\" value=\"__GIP__1__\"/>\n",
      "   <div class=\"ranavouter\" id=\"nav_o[__GIP__1__]\">\n",
      "    <div class=\"inner\">\n",
      "     <table cellpadding=\"0\" cellspacing=\"0\" class=\"tbl\">\n",
      "      <tr>\n",
      "       <td class=\"niconspace nvlineicon\">\n",
      "       </td>\n",
      "       <td class=\"niconspace ncollapsedicon\" id=\"navicon[__GIP__1__]\">\n",
      "        <a href=\"/en/catalog/acura,2023,integra,1.5l+l4+turbocharged,3451548\" onclick='cataloglite.LinkIntercept_ToggleNavNode(\"__GIP__1__\"); return false;' tabindex=\"-1\">\n",
      "         <img alt=\"Toggle\" src=\"/Images/1pxtransparent.png\"/>\n",
      "        </a>\n",
      "       </td>\n",
      "       <td class=\"nlabel\">\n",
      "        <a class=\"navlabellink nvoffset nnormal\" href=\"/en/catalog/acura,2023,integra,1.5l+l4+turbocharged,3451548\" id=\"navhref[__GIP__1__]\" onclick='cataloglite.LinkIntercept_ToggleNavNode(\"__GIP__1__\"); return false;'>\n",
      "         1.5L L4 Turbocharged\n",
      "        </a>\n",
      "       </td>\n",
      "       <td class=\"rc nflags\">\n",
      "        <a aria-label=\"the USA flag\" class=\"sprite desktopflags us\" href=\"/help/?page=1#WHATDOTHE\" id=\"flags[__GIP__1__][US]\" onclick=\"RA.StopBubble(event); return FAQpopup(this)\" style=\"margin-left: 3px;\">\n",
      "        </a>\n",
      "        <a aria-label=\"Canada flag\" class=\"sprite desktopflags ca\" href=\"/help/?page=1#WHATDOTHE\" id=\"flags[__GIP__1__][CA]\" onclick=\"RA.StopBubble(event); return FAQpopup(this)\" style=\"margin-left: 3px;\">\n",
      "        </a>\n",
      "        <a aria-label=\"Mexico flag\" class=\"sprite desktopflags mx\" href=\"/help/?page=1#WHATDOTHE\" id=\"flags[__GIP__1__][MX]\" onclick=\"RA.StopBubble(event); return FAQpopup(this)\" style=\"margin-left: 3px;\">\n",
      "        </a>\n",
      "       </td>\n",
      "       <td class=\"rc\">\n",
      "        <a href=\"/RSS/subscribe.php?carcode=3451548\" target=\"_blank\">\n",
      "         <img alt=\"RSS Feed\" src=\"/RSS/images/feed_icon.gif\" style=\"border: none; display: inline-block; vertical-align: top; margin-top: 2px;\" title=\"Subscribe to RSS feed to be notified when new parts are added for this car\"/>\n",
      "        </a>\n",
      "       </td>\n",
      "       <td class=\"rc show-if-js ra-hide\">\n",
      "        <span name=\"icon_add_car_to_account\">\n",
      "         <img alt=\"Add Car to My List\" class=\"mouseover\" onclick=\"cataloglite.AddRemoveSavedVehicle('add', &quot;3451548&quot;, &quot;__GIP__1__&quot;);(&quot;3451548&quot;); AccountWidgets.SavedVehiclesWidget.Refresh(); $(this).addClass('ra-hide');\" src=\"/catalog/images/accounts/vehicles.png\" style=\"vertical-align: top; height: 18px;\" title=\"Add Car to My List\"/>\n",
      "        </span>\n",
      "       </td>\n",
      "       <td class=\"rc show-if-js\">\n",
      "        <div class=\"ccsi-wrapper vtop ra-hide\" id=\"navcarcodesearchwrapper[__GIP__1__]\">\n",
      "         <table class=\"tblz tbl-input-button-attached attached-ccparttype-size\" style=\"\">\n",
      "          <tr>\n",
      "           <td class=\"td-input\" style=\"width: 99%;\">\n",
      "            <input autocapitalize=\"off\" autocomplete=\"off\" autocorrect=\"off\" class=\"input-carcodesearch\" id=\"navcarcodesearchinput[__GIP__1__]\" name=\"navcarcodesearchinput[__GIP__1__]\" onclick=\"setTimeout(function() {acmp_request();}, 50);\" onfocus=\"acmp_partcategory = '1'; currentSTCID = &quot;__GIP__1__&quot;;\" onkeydown=\"acmp_partcategory = '1'; currentSTCID = &quot;__GIP__1__&quot;;akhandler(event);\" onkeyup=\"acmp_partcategory = '1'; currentSTCID = &quot;__GIP__1__&quot;; acmp_keyup(event, true);\" placeholder=\"part name or part type\" spellcheck=\"false\" title=\"Enter Part Name to Search Categories Under this Vehicle \n",
      "(e.g. 'Hydraulic Hose', 'Control Arm Bushing', 'Tail Lamp Bulb', etc.)\" type=\"text\"/>\n",
      "            <div style=\"margin-top:-1px;\">\n",
      "             <div style=\"position: relative;\">\n",
      "              <table cellpadding=\"0\" cellspacing=\"0\" class=\"autosuggest-box\" id=\"suggesttypescar[__GIP__1__]\" style=\"display:none; position: absolute; z-index: 2; border: solid 1px #7777FF; opacity: 1; background-color: #FFFFFF; width: 400px;\">\n",
      "              </table>\n",
      "             </div>\n",
      "            </div>\n",
      "           </td>\n",
      "           <td class=\"td-button\">\n",
      "            <div class=\"hide-if-js\">\n",
      "             <input alt=\"Search\" class=\"ra-btn ra-btn-size-normal ra-btn-color-darkblue ra-btn-search-icon\" id=\"btncarcodesearch[__GIP__1__]\" name=\"btntabsearch\" onclick=\"go_search(true);\" title=\"Search\" type=\"submit\" value=\"Search\"/>\n",
      "            </div>\n",
      "            <div class=\"show-if-js\">\n",
      "             <img alt=\"Search\" class=\"ib input-size ra-btn ra-btn-size-normal ra-btn-color-darkblue ra-btn-search-icon\" onclick=\"RA.Click('btncarcodesearch[__GIP__1__]')\" src=\"/Images/1pxtransparent.png\" style=\"color: black;\" title=\"Search\"/>\n",
      "            </div>\n",
      "           </td>\n",
      "           <td style=\"padding-left: .5em; vertical-align: middle;\">\n",
      "            <img alt=\"How to Search\" class=\"help_q_icon_16 vmiddle\" onclick=\"helpPopup(&quot;Enter Part Name to Search Categories Under this Vehicle&lt;br\\/&gt;(e.g. 'Hydraulic Hose', 'Control Arm Bushing', 'Tail Lamp Bulb', etc.)&quot;, this);\" src=\"/Images/questionMark.png\" title=\"How to Search\"/>\n",
      "           </td>\n",
      "          </tr>\n",
      "         </table>\n",
      "         <span class=\"searchresultmsg\" id=\"navcarcodesearchmsg[__GIP__1__]\">\n",
      "         </span>\n",
      "        </div>\n",
      "       </td>\n",
      "      </tr>\n",
      "     </table>\n",
      "    </div>\n",
      "   </div>\n",
      "   <div class=\"nchildren ra-hide\" id=\"navchildren[__GIP__1__]\">\n",
      "   </div>\n",
      "  </div>\n",
      " </body>\n",
      "</html>\n",
      "\n"
     ]
    }
   ],
   "source": [
    "soup = BeautifulSoup(html, 'lxml')\n",
    "\n",
    "print(soup.prettify())"
   ]
  },
  {
   "cell_type": "code",
   "execution_count": 17,
   "id": "45bb3bc6",
   "metadata": {},
   "outputs": [],
   "source": [
    "with open('./engine.html', 'w', encoding='utf-8') as file:\n",
    "    file.write(str(soup))"
   ]
  },
  {
   "cell_type": "code",
   "execution_count": 18,
   "id": "ce60db64",
   "metadata": {},
   "outputs": [],
   "source": [
    "from lxml import etree"
   ]
  },
  {
   "cell_type": "code",
   "execution_count": 19,
   "id": "46b5906c",
   "metadata": {
    "scrolled": true
   },
   "outputs": [
    {
     "data": {
      "text/plain": [
       "['1.5L L4 Turbocharged']"
      ]
     },
     "execution_count": 19,
     "metadata": {},
     "output_type": "execute_result"
    }
   ],
   "source": [
    "html = etree.HTML(str(soup))\n",
    "\n",
    "list_engine = html.xpath('//td[@class=\"nlabel\"]/a/text()')\n",
    "\n",
    "list_engine"
   ]
  },
  {
   "cell_type": "code",
   "execution_count": 20,
   "id": "69201345",
   "metadata": {
    "scrolled": true
   },
   "outputs": [
    {
     "data": {
      "text/plain": [
       "['https://www.rockauto.com/en/catalog/acura,2023,integra,1.5l+l4+turbocharged,3451548']"
      ]
     },
     "execution_count": 20,
     "metadata": {},
     "output_type": "execute_result"
    }
   ],
   "source": [
    "list_url = ['https://www.rockauto.com' + url for url in html.xpath('//td[@class=\"niconspace ncollapsedicon\"]/a/@href')]\n",
    "\n",
    "list_url"
   ]
  },
  {
   "cell_type": "code",
   "execution_count": 21,
   "id": "5291e605",
   "metadata": {},
   "outputs": [
    {
     "data": {
      "text/html": [
       "<div>\n",
       "<style scoped>\n",
       "    .dataframe tbody tr th:only-of-type {\n",
       "        vertical-align: middle;\n",
       "    }\n",
       "\n",
       "    .dataframe tbody tr th {\n",
       "        vertical-align: top;\n",
       "    }\n",
       "\n",
       "    .dataframe thead th {\n",
       "        text-align: right;\n",
       "    }\n",
       "</style>\n",
       "<table border=\"1\" class=\"dataframe\">\n",
       "  <thead>\n",
       "    <tr style=\"text-align: right;\">\n",
       "      <th></th>\n",
       "      <th>make</th>\n",
       "      <th>year</th>\n",
       "      <th>model</th>\n",
       "      <th>engine</th>\n",
       "      <th>url</th>\n",
       "      <th>status</th>\n",
       "    </tr>\n",
       "  </thead>\n",
       "  <tbody>\n",
       "    <tr>\n",
       "      <th>0</th>\n",
       "      <td>ACURA</td>\n",
       "      <td>2023</td>\n",
       "      <td>INTEGRA</td>\n",
       "      <td>1.5L L4 Turbocharged</td>\n",
       "      <td>https://www.rockauto.com/en/catalog/acura,2023...</td>\n",
       "      <td>ok</td>\n",
       "    </tr>\n",
       "  </tbody>\n",
       "</table>\n",
       "</div>"
      ],
      "text/plain": [
       "    make  year    model                engine   \n",
       "0  ACURA  2023  INTEGRA  1.5L L4 Turbocharged  \\\n",
       "\n",
       "                                                 url status  \n",
       "0  https://www.rockauto.com/en/catalog/acura,2023...     ok  "
      ]
     },
     "execution_count": 21,
     "metadata": {},
     "output_type": "execute_result"
    }
   ],
   "source": [
    "df_temp = pd.DataFrame({'Make': list_make[i],\n",
    "                        'Year': int(list_year[i]),\n",
    "                        'Model': list_model[i],\n",
    "                        'Engine': list_engine,\n",
    "                        'Url': list_url,\n",
    "                        'status': 'ok'})\n",
    "\n",
    "df = pd.concat([df, df_temp], ignore_index=True).fillna('')\n",
    "\n",
    "df"
   ]
  },
  {
   "cell_type": "code",
   "execution_count": null,
   "id": "0de90f54",
   "metadata": {},
   "outputs": [],
   "source": []
  }
 ],
 "metadata": {
  "kernelspec": {
   "display_name": "Python 3 (ipykernel)",
   "language": "python",
   "name": "python3"
  },
  "language_info": {
   "codemirror_mode": {
    "name": "ipython",
    "version": 3
   },
   "file_extension": ".py",
   "mimetype": "text/x-python",
   "name": "python",
   "nbconvert_exporter": "python",
   "pygments_lexer": "ipython3",
   "version": "3.11.3"
  }
 },
 "nbformat": 4,
 "nbformat_minor": 5
}
