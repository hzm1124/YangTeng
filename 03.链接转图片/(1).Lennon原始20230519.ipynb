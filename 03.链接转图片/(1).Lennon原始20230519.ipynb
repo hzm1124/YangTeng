{
 "cells": [
  {
   "cell_type": "code",
   "execution_count": 3,
   "id": "84b2ba97",
   "metadata": {},
   "outputs": [
    {
     "name": "stdout",
     "output_type": "stream",
     "text": [
      "9; 6\n"
     ]
    }
   ],
   "source": [
    "from openpyxl import load_workbook\n",
    "\n",
    "wb = load_workbook('./file.xlsx')\n",
    "ws = wb.active\n",
    "\n",
    "for i in range(1, ws.max_column+1):\n",
    "    if ws.cell(1, i).value == 'src':\n",
    "        index_url = i\n",
    "    elif ws.cell(1, i).value == 'pic':\n",
    "        index_img = i\n",
    "        \n",
    "print('src索引：' + str(index_url))\n",
    "print('pic索引：' + str(index_img))"
   ]
  },
  {
   "cell_type": "code",
   "execution_count": 5,
   "id": "db76849c",
   "metadata": {},
   "outputs": [],
   "source": [
    "import requests\n",
    "from io import BytesIO\n",
    "from openpyxl.drawing.image import Image\n",
    "\n",
    "row = 2\n",
    "url = ws.cell(row, index_url).value\n",
    "img = Image(BytesIO(requests.get(url).content))\n",
    "\n",
    "img"
   ]
  },
  {
   "cell_type": "code",
   "execution_count": 7,
   "id": "6d625bf6",
   "metadata": {},
   "outputs": [
    {
     "name": "stdout",
     "output_type": "stream",
     "text": [
      "18.0; 18.0\n"
     ]
    }
   ],
   "source": [
    "if img.width >= img.height:\n",
    "    img.height = 50.0 / img.width * img.height\n",
    "    img.width = 50.0\n",
    "else:\n",
    "    img.width = 50.0 / img.height * img.width\n",
    "    img.height = 50.0\n",
    "    \n",
    "print('pic宽度：' + str(img.width))\n",
    "print('pic高度：' + str(img.height))"
   ]
  },
  {
   "cell_type": "code",
   "execution_count": 8,
   "id": "d1e431bc",
   "metadata": {},
   "outputs": [],
   "source": [
    "from openpyxl.utils import get_column_letter\n",
    "\n",
    "ws.add_image(img, get_column_letter(index_img) + str(row))"
   ]
  },
  {
   "cell_type": "code",
   "execution_count": 10,
   "id": "d221df1c",
   "metadata": {},
   "outputs": [],
   "source": [
    "wb.save('./file-pic.xlsx')"
   ]
  },
  {
   "cell_type": "code",
   "execution_count": null,
   "id": "62ae0ab9",
   "metadata": {},
   "outputs": [],
   "source": []
  }
 ],
 "metadata": {
  "kernelspec": {
   "display_name": "Python 3 (ipykernel)",
   "language": "python",
   "name": "python3"
  },
  "language_info": {
   "codemirror_mode": {
    "name": "ipython",
    "version": 3
   },
   "file_extension": ".py",
   "mimetype": "text/x-python",
   "name": "python",
   "nbconvert_exporter": "python",
   "pygments_lexer": "ipython3",
   "version": "3.11.3"
  }
 },
 "nbformat": 4,
 "nbformat_minor": 5
}
