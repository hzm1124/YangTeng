{
 "cells": [
  {
   "cell_type": "code",
   "execution_count": 1,
   "id": "3549c21d-85e3-432c-b31e-0f7bea25694e",
   "metadata": {},
   "outputs": [],
   "source": [
    "import pandas as pd\n",
    "\n",
    "# = = =  = = =  = = =\n",
    "\n",
    "from selenium.webdriver import ChromeOptions\n",
    "\n",
    "import sys\n",
    "sys.path.append('../00.Tools')\n",
    "from crawler_configuration import get_header, get_proxy\n",
    "\n",
    "from selenium.webdriver import Chrome\n",
    "from selenium.webdriver.chrome.service import Service\n",
    "\n",
    "import time\n",
    "\n",
    "# = = =  = = =  = = =\n",
    "\n",
    "from urllib.parse import urlparse, parse_qs, urlencode\n",
    "\n",
    "from bs4 import BeautifulSoup\n",
    "from lxml import etree\n",
    "\n",
    "# = = =  = = =  = = =\n",
    "\n",
    "import re\n",
    "\n",
    "# = = =  = = =  = = =\n",
    "\n",
    "import json\n",
    "\n",
    "# = = =  = = =  = = =\n",
    "\n",
    "import html as html_lib"
   ]
  },
  {
   "cell_type": "code",
   "execution_count": 2,
   "id": "9e14ec94-37b0-4cb6-b065-12820ddd3a5d",
   "metadata": {
    "scrolled": true
   },
   "outputs": [
    {
     "name": "stdout",
     "output_type": "stream",
     "text": [
      "Data Loading...\n",
      "Loading Done !\n",
      "\n",
      "总数量：28\n",
      "\n"
     ]
    },
    {
     "data": {
      "text/html": [
       "<div>\n",
       "<style scoped>\n",
       "    .dataframe tbody tr th:only-of-type {\n",
       "        vertical-align: middle;\n",
       "    }\n",
       "\n",
       "    .dataframe tbody tr th {\n",
       "        vertical-align: top;\n",
       "    }\n",
       "\n",
       "    .dataframe thead th {\n",
       "        text-align: right;\n",
       "    }\n",
       "</style>\n",
       "<table border=\"1\" class=\"dataframe\">\n",
       "  <thead>\n",
       "    <tr style=\"text-align: right;\">\n",
       "      <th></th>\n",
       "      <th>No</th>\n",
       "      <th>Url</th>\n",
       "      <th>Unnamed: 2</th>\n",
       "      <th>Unnamed: 3</th>\n",
       "      <th>Request_Url</th>\n",
       "    </tr>\n",
       "  </thead>\n",
       "  <tbody>\n",
       "    <tr>\n",
       "      <th>0</th>\n",
       "      <td>136</td>\n",
       "      <td>https://www.amazon.com/TWTADE-Control-Momentar...</td>\n",
       "      <td>SWITCH</td>\n",
       "      <td>foot switch</td>\n",
       "      <td>https://www.amazon.com/TWTADE-Control-Momentar...</td>\n",
       "    </tr>\n",
       "    <tr>\n",
       "      <th>1</th>\n",
       "      <td>138</td>\n",
       "      <td>https://www.amazon.com/TWTADE-Pneumatic-Positi...</td>\n",
       "      <td>SWITCH</td>\n",
       "      <td>foot switch</td>\n",
       "      <td>https://www.amazon.com/TWTADE-Pneumatic-Positi...</td>\n",
       "    </tr>\n",
       "    <tr>\n",
       "      <th>2</th>\n",
       "      <td>280</td>\n",
       "      <td>https://www.amazon.com/3pcs-CBB61-Celiling-Cap...</td>\n",
       "      <td>Capacitance</td>\n",
       "      <td></td>\n",
       "      <td>https://www.amazon.com/3pcs-CBB61-Celiling-Cap...</td>\n",
       "    </tr>\n",
       "    <tr>\n",
       "      <th>3</th>\n",
       "      <td>282</td>\n",
       "      <td>https://www.amazon.com/3pcs-CBB61-Celiling-Cap...</td>\n",
       "      <td>Capacitance</td>\n",
       "      <td></td>\n",
       "      <td>https://www.amazon.com/3pcs-CBB61-Celiling-Cap...</td>\n",
       "    </tr>\n",
       "    <tr>\n",
       "      <th>4</th>\n",
       "      <td>285</td>\n",
       "      <td>https://www.amazon.com/TWTADE-Indicator-%EF%BC...</td>\n",
       "      <td>Signal lamp</td>\n",
       "      <td></td>\n",
       "      <td>https://www.amazon.com/TWTADE-Indicator-%EF%BC...</td>\n",
       "    </tr>\n",
       "    <tr>\n",
       "      <th>5</th>\n",
       "      <td>323</td>\n",
       "      <td>https://www.amazon.com/TWTADE-Conditioner-Swit...</td>\n",
       "      <td>Automobile decoration</td>\n",
       "      <td>Ford F150 6pcs</td>\n",
       "      <td>https://www.amazon.com/TWTADE-Conditioner-Swit...</td>\n",
       "    </tr>\n",
       "    <tr>\n",
       "      <th>6</th>\n",
       "      <td>324</td>\n",
       "      <td>https://www.amazon.com/TWTADE-Conditioner-Swit...</td>\n",
       "      <td>Automobile decoration</td>\n",
       "      <td>Ford F150 6pcs</td>\n",
       "      <td>https://www.amazon.com/TWTADE-Conditioner-Swit...</td>\n",
       "    </tr>\n",
       "    <tr>\n",
       "      <th>7</th>\n",
       "      <td>325</td>\n",
       "      <td>https://www.amazon.com/TWTADE-Conditioner-Swit...</td>\n",
       "      <td>Automobile decoration</td>\n",
       "      <td>Ford F150 6pcs</td>\n",
       "      <td>https://www.amazon.com/TWTADE-Conditioner-Swit...</td>\n",
       "    </tr>\n",
       "    <tr>\n",
       "      <th>8</th>\n",
       "      <td>333</td>\n",
       "      <td>https://www.amazon.com/TWTADE-Conditioner-Cons...</td>\n",
       "      <td>Automobile decoration</td>\n",
       "      <td>Toyota Camry</td>\n",
       "      <td>https://www.amazon.com/TWTADE-Conditioner-Cons...</td>\n",
       "    </tr>\n",
       "    <tr>\n",
       "      <th>9</th>\n",
       "      <td>334</td>\n",
       "      <td>https://www.amazon.com/TWTADE-Conditioner-Cons...</td>\n",
       "      <td>Automobile decoration</td>\n",
       "      <td>Toyota Camry</td>\n",
       "      <td>https://www.amazon.com/TWTADE-Conditioner-Cons...</td>\n",
       "    </tr>\n",
       "    <tr>\n",
       "      <th>10</th>\n",
       "      <td>348</td>\n",
       "      <td>https://www.amazon.com/TWTADE-Footswitch-House...</td>\n",
       "      <td>Foot switch</td>\n",
       "      <td></td>\n",
       "      <td>https://www.amazon.com/TWTADE-Footswitch-House...</td>\n",
       "    </tr>\n",
       "    <tr>\n",
       "      <th>11</th>\n",
       "      <td>349</td>\n",
       "      <td>https://www.amazon.com/TWTADE-Control-Momentar...</td>\n",
       "      <td>Foot switch</td>\n",
       "      <td></td>\n",
       "      <td>https://www.amazon.com/TWTADE-Control-Momentar...</td>\n",
       "    </tr>\n",
       "    <tr>\n",
       "      <th>12</th>\n",
       "      <td>353</td>\n",
       "      <td>https://www.amazon.com/TWTADE-Pneumatic-Positi...</td>\n",
       "      <td>Foot switch</td>\n",
       "      <td></td>\n",
       "      <td>https://www.amazon.com/TWTADE-Pneumatic-Positi...</td>\n",
       "    </tr>\n",
       "    <tr>\n",
       "      <th>13</th>\n",
       "      <td>359</td>\n",
       "      <td>https://www.amazon.com/TWTADE-Keyboard-Splitte...</td>\n",
       "      <td>Usb Cable</td>\n",
       "      <td></td>\n",
       "      <td>https://www.amazon.com/TWTADE-Keyboard-Splitte...</td>\n",
       "    </tr>\n",
       "    <tr>\n",
       "      <th>14</th>\n",
       "      <td>360</td>\n",
       "      <td>https://www.amazon.com/TWTADE-Adapter-Extensio...</td>\n",
       "      <td>Usb Cable</td>\n",
       "      <td></td>\n",
       "      <td>https://www.amazon.com/TWTADE-Adapter-Extensio...</td>\n",
       "    </tr>\n",
       "    <tr>\n",
       "      <th>15</th>\n",
       "      <td>361</td>\n",
       "      <td>https://www.amazon.com/TWTADE-Adapter-Extensio...</td>\n",
       "      <td>Usb Cable</td>\n",
       "      <td></td>\n",
       "      <td>https://www.amazon.com/TWTADE-Adapter-Extensio...</td>\n",
       "    </tr>\n",
       "    <tr>\n",
       "      <th>16</th>\n",
       "      <td>362</td>\n",
       "      <td>https://www.amazon.com/TWTADE-Adapter-Extensio...</td>\n",
       "      <td>Usb Cable</td>\n",
       "      <td></td>\n",
       "      <td>https://www.amazon.com/TWTADE-Adapter-Extensio...</td>\n",
       "    </tr>\n",
       "    <tr>\n",
       "      <th>17</th>\n",
       "      <td>363</td>\n",
       "      <td>https://www.amazon.com/TWTADE-Adapter-Extensio...</td>\n",
       "      <td>Usb Cable</td>\n",
       "      <td></td>\n",
       "      <td>https://www.amazon.com/TWTADE-Adapter-Extensio...</td>\n",
       "    </tr>\n",
       "    <tr>\n",
       "      <th>18</th>\n",
       "      <td>364</td>\n",
       "      <td>https://www.amazon.com/TWTADE-Splitter-Chargin...</td>\n",
       "      <td>Usb Cable</td>\n",
       "      <td></td>\n",
       "      <td>https://www.amazon.com/TWTADE-Splitter-Chargin...</td>\n",
       "    </tr>\n",
       "    <tr>\n",
       "      <th>19</th>\n",
       "      <td>365</td>\n",
       "      <td>https://www.amazon.com/TWTADE-Extension-Drivin...</td>\n",
       "      <td>Usb Cable</td>\n",
       "      <td></td>\n",
       "      <td>https://www.amazon.com/TWTADE-Extension-Drivin...</td>\n",
       "    </tr>\n",
       "    <tr>\n",
       "      <th>20</th>\n",
       "      <td>366</td>\n",
       "      <td>https://www.amazon.com/TWTADE-Extension-Drivin...</td>\n",
       "      <td>Usb Cable</td>\n",
       "      <td></td>\n",
       "      <td>https://www.amazon.com/TWTADE-Extension-Drivin...</td>\n",
       "    </tr>\n",
       "    <tr>\n",
       "      <th>21</th>\n",
       "      <td>367</td>\n",
       "      <td>https://www.amazon.com/TWTADE-2-5-3RPM-Synchro...</td>\n",
       "      <td>Motor</td>\n",
       "      <td></td>\n",
       "      <td>https://www.amazon.com/TWTADE-2-5-3RPM-Synchro...</td>\n",
       "    </tr>\n",
       "    <tr>\n",
       "      <th>22</th>\n",
       "      <td>368</td>\n",
       "      <td>https://www.amazon.com/TWTADE-Extension-Female...</td>\n",
       "      <td>RCA Cable</td>\n",
       "      <td></td>\n",
       "      <td>https://www.amazon.com/TWTADE-Extension-Female...</td>\n",
       "    </tr>\n",
       "    <tr>\n",
       "      <th>23</th>\n",
       "      <td>369</td>\n",
       "      <td>https://www.amazon.com/TWTADE-Composite-Subwoo...</td>\n",
       "      <td>RCA Cable</td>\n",
       "      <td></td>\n",
       "      <td>https://www.amazon.com/TWTADE-Composite-Subwoo...</td>\n",
       "    </tr>\n",
       "    <tr>\n",
       "      <th>24</th>\n",
       "      <td>370</td>\n",
       "      <td>https://www.amazon.com/TWTADE-Composite-Cable-...</td>\n",
       "      <td>RCA Cable</td>\n",
       "      <td></td>\n",
       "      <td>https://www.amazon.com/TWTADE-Composite-Cable-...</td>\n",
       "    </tr>\n",
       "    <tr>\n",
       "      <th>25</th>\n",
       "      <td>371</td>\n",
       "      <td>https://www.amazon.com/TWTADE-Composite-Subwoo...</td>\n",
       "      <td>RCA Cable</td>\n",
       "      <td></td>\n",
       "      <td>https://www.amazon.com/TWTADE-Composite-Subwoo...</td>\n",
       "    </tr>\n",
       "    <tr>\n",
       "      <th>26</th>\n",
       "      <td>373</td>\n",
       "      <td>https://www.amazon.com/TWTADE-TWTADE-4-Digital...</td>\n",
       "      <td>Tachometer</td>\n",
       "      <td></td>\n",
       "      <td>https://www.amazon.com/TWTADE-TWTADE-4-Digital...</td>\n",
       "    </tr>\n",
       "    <tr>\n",
       "      <th>27</th>\n",
       "      <td>374</td>\n",
       "      <td>https://www.amazon.com/TWTADE-TWTADE-4-Digital...</td>\n",
       "      <td>Tachometer</td>\n",
       "      <td></td>\n",
       "      <td>https://www.amazon.com/TWTADE-TWTADE-4-Digital...</td>\n",
       "    </tr>\n",
       "  </tbody>\n",
       "</table>\n",
       "</div>"
      ],
      "text/plain": [
       "     No                                                Url  \\\n",
       "0   136  https://www.amazon.com/TWTADE-Control-Momentar...   \n",
       "1   138  https://www.amazon.com/TWTADE-Pneumatic-Positi...   \n",
       "2   280  https://www.amazon.com/3pcs-CBB61-Celiling-Cap...   \n",
       "3   282  https://www.amazon.com/3pcs-CBB61-Celiling-Cap...   \n",
       "4   285  https://www.amazon.com/TWTADE-Indicator-%EF%BC...   \n",
       "5   323  https://www.amazon.com/TWTADE-Conditioner-Swit...   \n",
       "6   324  https://www.amazon.com/TWTADE-Conditioner-Swit...   \n",
       "7   325  https://www.amazon.com/TWTADE-Conditioner-Swit...   \n",
       "8   333  https://www.amazon.com/TWTADE-Conditioner-Cons...   \n",
       "9   334  https://www.amazon.com/TWTADE-Conditioner-Cons...   \n",
       "10  348  https://www.amazon.com/TWTADE-Footswitch-House...   \n",
       "11  349  https://www.amazon.com/TWTADE-Control-Momentar...   \n",
       "12  353  https://www.amazon.com/TWTADE-Pneumatic-Positi...   \n",
       "13  359  https://www.amazon.com/TWTADE-Keyboard-Splitte...   \n",
       "14  360  https://www.amazon.com/TWTADE-Adapter-Extensio...   \n",
       "15  361  https://www.amazon.com/TWTADE-Adapter-Extensio...   \n",
       "16  362  https://www.amazon.com/TWTADE-Adapter-Extensio...   \n",
       "17  363  https://www.amazon.com/TWTADE-Adapter-Extensio...   \n",
       "18  364  https://www.amazon.com/TWTADE-Splitter-Chargin...   \n",
       "19  365  https://www.amazon.com/TWTADE-Extension-Drivin...   \n",
       "20  366  https://www.amazon.com/TWTADE-Extension-Drivin...   \n",
       "21  367  https://www.amazon.com/TWTADE-2-5-3RPM-Synchro...   \n",
       "22  368  https://www.amazon.com/TWTADE-Extension-Female...   \n",
       "23  369  https://www.amazon.com/TWTADE-Composite-Subwoo...   \n",
       "24  370  https://www.amazon.com/TWTADE-Composite-Cable-...   \n",
       "25  371  https://www.amazon.com/TWTADE-Composite-Subwoo...   \n",
       "26  373  https://www.amazon.com/TWTADE-TWTADE-4-Digital...   \n",
       "27  374  https://www.amazon.com/TWTADE-TWTADE-4-Digital...   \n",
       "\n",
       "               Unnamed: 2      Unnamed: 3  \\\n",
       "0                  SWITCH     foot switch   \n",
       "1                  SWITCH     foot switch   \n",
       "2            Capacitance                    \n",
       "3            Capacitance                    \n",
       "4             Signal lamp                   \n",
       "5   Automobile decoration  Ford F150 6pcs   \n",
       "6   Automobile decoration  Ford F150 6pcs   \n",
       "7   Automobile decoration  Ford F150 6pcs   \n",
       "8   Automobile decoration    Toyota Camry   \n",
       "9   Automobile decoration    Toyota Camry   \n",
       "10            Foot switch                   \n",
       "11            Foot switch                   \n",
       "12            Foot switch                   \n",
       "13              Usb Cable                   \n",
       "14              Usb Cable                   \n",
       "15              Usb Cable                   \n",
       "16              Usb Cable                   \n",
       "17              Usb Cable                   \n",
       "18              Usb Cable                   \n",
       "19              Usb Cable                   \n",
       "20              Usb Cable                   \n",
       "21                  Motor                   \n",
       "22              RCA Cable                   \n",
       "23              RCA Cable                   \n",
       "24              RCA Cable                   \n",
       "25              RCA Cable                   \n",
       "26             Tachometer                   \n",
       "27             Tachometer                   \n",
       "\n",
       "                                          Request_Url  \n",
       "0   https://www.amazon.com/TWTADE-Control-Momentar...  \n",
       "1   https://www.amazon.com/TWTADE-Pneumatic-Positi...  \n",
       "2   https://www.amazon.com/3pcs-CBB61-Celiling-Cap...  \n",
       "3   https://www.amazon.com/3pcs-CBB61-Celiling-Cap...  \n",
       "4   https://www.amazon.com/TWTADE-Indicator-%EF%BC...  \n",
       "5   https://www.amazon.com/TWTADE-Conditioner-Swit...  \n",
       "6   https://www.amazon.com/TWTADE-Conditioner-Swit...  \n",
       "7   https://www.amazon.com/TWTADE-Conditioner-Swit...  \n",
       "8   https://www.amazon.com/TWTADE-Conditioner-Cons...  \n",
       "9   https://www.amazon.com/TWTADE-Conditioner-Cons...  \n",
       "10  https://www.amazon.com/TWTADE-Footswitch-House...  \n",
       "11  https://www.amazon.com/TWTADE-Control-Momentar...  \n",
       "12  https://www.amazon.com/TWTADE-Pneumatic-Positi...  \n",
       "13  https://www.amazon.com/TWTADE-Keyboard-Splitte...  \n",
       "14  https://www.amazon.com/TWTADE-Adapter-Extensio...  \n",
       "15  https://www.amazon.com/TWTADE-Adapter-Extensio...  \n",
       "16  https://www.amazon.com/TWTADE-Adapter-Extensio...  \n",
       "17  https://www.amazon.com/TWTADE-Adapter-Extensio...  \n",
       "18  https://www.amazon.com/TWTADE-Splitter-Chargin...  \n",
       "19  https://www.amazon.com/TWTADE-Extension-Drivin...  \n",
       "20  https://www.amazon.com/TWTADE-Extension-Drivin...  \n",
       "21  https://www.amazon.com/TWTADE-2-5-3RPM-Synchro...  \n",
       "22  https://www.amazon.com/TWTADE-Extension-Female...  \n",
       "23  https://www.amazon.com/TWTADE-Composite-Subwoo...  \n",
       "24  https://www.amazon.com/TWTADE-Composite-Cable-...  \n",
       "25  https://www.amazon.com/TWTADE-Composite-Subwoo...  \n",
       "26  https://www.amazon.com/TWTADE-TWTADE-4-Digital...  \n",
       "27  https://www.amazon.com/TWTADE-TWTADE-4-Digital...  "
      ]
     },
     "execution_count": 2,
     "metadata": {},
     "output_type": "execute_result"
    }
   ],
   "source": [
    "print('Data Loading...')\n",
    "list_dict_correct, list_series_error, df_input = [], [], pd.read_excel('./file/1.url.xlsx',\n",
    "                                                                       header=0,\n",
    "                                                                       dtype=str).fillna('')\n",
    "print('Loading Done !')\n",
    "print()\n",
    "\n",
    "df_input['No'] = df_input['No'].astype(int)\n",
    "\n",
    "crawler_remain = len(df_input)\n",
    "\n",
    "print(f'总数量：{crawler_remain}')\n",
    "print()\n",
    "\n",
    "df_input"
   ]
  },
  {
   "cell_type": "code",
   "execution_count": 3,
   "id": "683123d4-59ce-4401-a4a0-09ca203ed98b",
   "metadata": {},
   "outputs": [
    {
     "name": "stdout",
     "output_type": "stream",
     "text": [
      "1\n"
     ]
    },
    {
     "data": {
      "text/plain": [
       "<selenium.webdriver.chrome.webdriver.WebDriver (session=\"e59bd9931d7b76aae1e6522d7436aca0\")>"
      ]
     },
     "execution_count": 3,
     "metadata": {},
     "output_type": "execute_result"
    }
   ],
   "source": [
    "option = ChromeOptions()\n",
    "option.add_experimental_option('useAutomationExtension', False)\n",
    "option.add_experimental_option('excludeSwitches', ['enable-automation'])\n",
    "option.add_argument('--disable-blink-features=AutomationControlled')\n",
    "option.add_argument('--disable-dev-shm-usage')\n",
    "option.add_argument('--disable-gpu')\n",
    "option.add_argument('--no-sandbox')\n",
    "# option.add_argument('--headless=new')\n",
    "# option.add_argument('blink-settings=imagesEnabled=false')\n",
    "option.add_argument(get_header(method='selenium'))\n",
    "option.add_argument(get_proxy(method='selenium'))\n",
    "option.page_load_strategy = 'normal'\n",
    "\n",
    "driver = Chrome(service=Service('../chromedriver'), options=option)\n",
    "driver.maximize_window()\n",
    "\n",
    "# = = =  = = =  = = =\n",
    "\n",
    "crawler_retry = 0\n",
    "while True:\n",
    "    crawler_retry += 1\n",
    "    print(crawler_retry)\n",
    "    try:\n",
    "        driver.get('https://www.amazon.com/?language=en_US')\n",
    "        time.sleep(1)\n",
    "        driver.execute_script(\"window.scrollTo(0, 0.2 * document.body.scrollHeight);\")\n",
    "        time.sleep(1.5)\n",
    "        driver.execute_script(\"window.scrollTo(0, 0.45 * document.body.scrollHeight);\")\n",
    "        time.sleep(0.7)\n",
    "        driver.execute_script(\"window.scrollTo(0, 0.7 * document.body.scrollHeight);\")\n",
    "        time.sleep(1.2)\n",
    "        driver.execute_script(\"window.scrollTo(0, 0.95 * document.body.scrollHeight);\")\n",
    "        time.sleep(1)\n",
    "        driver.execute_script(\"window.scrollTo(0, 0);\")\n",
    "\n",
    "        break\n",
    "    except KeyboardInterrupt:\n",
    "        break\n",
    "    except:\n",
    "        time.sleep(3)\n",
    "        continue\n",
    "\n",
    "driver"
   ]
  },
  {
   "cell_type": "code",
   "execution_count": 4,
   "id": "cd418ced-91fa-4aac-8d04-d5bc2f96c03d",
   "metadata": {},
   "outputs": [
    {
     "data": {
      "text/plain": [
       "(False,\n",
       " 0,\n",
       " No                                                           136\n",
       " Url            https://www.amazon.com/TWTADE-Control-Momentar...\n",
       " Unnamed: 2                                                SWITCH\n",
       " Unnamed: 3                                           foot switch\n",
       " Request_Url    https://www.amazon.com/TWTADE-Control-Momentar...\n",
       " Name: 0, dtype: object)"
      ]
     },
     "execution_count": 4,
     "metadata": {},
     "output_type": "execute_result"
    }
   ],
   "source": [
    "crawler_status, (crawler_index, crawler_series) = False, next(df_input.iterrows())\n",
    "\n",
    "crawler_status, crawler_index, crawler_series"
   ]
  },
  {
   "cell_type": "code",
   "execution_count": 5,
   "id": "dd671a87-288a-4611-bc26-2184ddfec8e9",
   "metadata": {},
   "outputs": [
    {
     "data": {
      "text/plain": [
       "'https://www.amazon.com/TWTADE-Control-Momentary-Industrial-Aluminum/dp/B0885T3QJL?ref_=ast_sto_dp&language=en_US'"
      ]
     },
     "execution_count": 5,
     "metadata": {},
     "output_type": "execute_result"
    }
   ],
   "source": [
    "url_parse = urlparse(crawler_series['Url'])\n",
    "\n",
    "dict_param = parse_qs(url_parse.query)\n",
    "dict_param['language'] = 'en_US'\n",
    "\n",
    "url_request = f'{url_parse.scheme}://{url_parse.netloc}{url_parse.path}?{urlencode(dict_param, doseq=True)}'\n",
    "\n",
    "crawler_retry = 0\n",
    "while True:\n",
    "    crawler_retry += 1\n",
    "\n",
    "    try:\n",
    "        driver.get(url_request)\n",
    "        time.sleep(1)\n",
    "        driver.execute_script(\"window.scrollTo(0, 0.2 * document.body.scrollHeight);\")\n",
    "        time.sleep(1.5)\n",
    "        driver.execute_script(\"window.scrollTo(0, 0.45 * document.body.scrollHeight);\")\n",
    "        time.sleep(0.7)\n",
    "        driver.execute_script(\"window.scrollTo(0, 0.7 * document.body.scrollHeight);\")\n",
    "        time.sleep(1.2)\n",
    "        driver.execute_script(\"window.scrollTo(0, 0.95 * document.body.scrollHeight);\")\n",
    "        time.sleep(1)\n",
    "        driver.execute_script(\"window.scrollTo(0, 0);\")\n",
    "\n",
    "        soup = BeautifulSoup(driver.page_source, 'lxml')\n",
    "        html = etree.HTML(str(soup))\n",
    "\n",
    "        with open('./part.html', 'w', encoding='UTF-8') as file:\n",
    "            file.write(str(soup))\n",
    "\n",
    "        break\n",
    "    except KeyboardInterrupt:\n",
    "        break\n",
    "    except:\n",
    "        continue\n",
    "\n",
    "url_request"
   ]
  },
  {
   "cell_type": "code",
   "execution_count": 6,
   "id": "f34c40bb-985f-4775-a407-7eeed013e76a",
   "metadata": {},
   "outputs": [
    {
     "data": {
      "text/plain": [
       "'Chino 91710'"
      ]
     },
     "execution_count": 6,
     "metadata": {},
     "output_type": "execute_result"
    }
   ],
   "source": [
    "zip_code = re.sub(r'[\\u0020\\u00A0\\u2000\\u2001\\u2002\\u2003\\u2004\\u2005\\u2006\\u2007\\u2008\\u2009\\u200a\\u200b\\u200c\\u200d\\u200e\\u200f\\u202f\\u205f\\u2060\\u2061\\u2062\\u2063\\u2064\\u3000\\ufeff ]+', ' ', html.xpath('//span[@id=\"glow-ingress-line2\"]/text()')[0]).strip()\n",
    "\n",
    "zip_code"
   ]
  },
  {
   "cell_type": "code",
   "execution_count": 7,
   "id": "760491ed-9997-4176-9d8d-13b846a04783",
   "metadata": {},
   "outputs": [
    {
     "data": {
      "text/plain": [
       "'$39.95'"
      ]
     },
     "execution_count": 7,
     "metadata": {},
     "output_type": "execute_result"
    }
   ],
   "source": [
    "price = html.xpath('//span[@class=\"a-offscreen\"]/text()')[0].strip() if html.xpath('//span[@class=\"a-offscreen\"]/text()') else ''\n",
    "\n",
    "price"
   ]
  },
  {
   "cell_type": "code",
   "execution_count": 8,
   "id": "d5224c1b-bde2-45d2-a0f0-51d4fddf1997",
   "metadata": {},
   "outputs": [
    {
     "data": {
      "text/plain": [
       "{'0': 'https://m.media-amazon.com/images/I/41FpUnGjsnL.jpg',\n",
       " '1': 'https://m.media-amazon.com/images/I/41jK1dCTDEL.jpg',\n",
       " '2': 'https://m.media-amazon.com/images/I/41btjVfIhhL.jpg',\n",
       " '3': 'https://m.media-amazon.com/images/I/418jOBWTnDL.jpg',\n",
       " '4': 'https://m.media-amazon.com/images/I/41tcxM5h24L.jpg'}"
      ]
     },
     "execution_count": 8,
     "metadata": {},
     "output_type": "execute_result"
    }
   ],
   "source": [
    "dict_src, list_src = {}, json.loads('{\"initial\":[{' + str(soup).split('\\'colorImages\\': { \\'initial\\': [{')[1].split('}]},')[0] + '}]}')['initial']\n",
    "for i, src in enumerate(list_src):\n",
    "    dict_src[str(i)] = src['hiRes'].strip() if src['hiRes'] else src['large'].strip()\n",
    "\n",
    "dict_src"
   ]
  },
  {
   "cell_type": "code",
   "execution_count": 9,
   "id": "7fadb330-a41f-4e69-a008-883730900479",
   "metadata": {},
   "outputs": [
    {
     "data": {
      "text/plain": [
       "{'0': {'Operation Mode': 'Foot Switch'},\n",
       " '1': {'Current Rating': '15 Amps'},\n",
       " '2': {'Operating Voltage': '380 Volts'},\n",
       " '3': {'Contact Type': 'Normally Open, Normally Closed'},\n",
       " '4': {'Brand': 'TWTADE'},\n",
       " '5': {'Terminal': 'Spdt'},\n",
       " '6': {'Mounting Type': 'Panel Mount'},\n",
       " '7': {'Connectivity Protocol': 'X-10'},\n",
       " '8': {'Unit Count': '1 Count'},\n",
       " '9': {'Manufacturer': 'TWTADE'}}"
      ]
     },
     "execution_count": 9,
     "metadata": {},
     "output_type": "execute_result"
    }
   ],
   "source": [
    "dict_key, list_tr = {}, html.xpath('//table[@class=\"a-normal a-spacing-micro\"]/tbody/tr')\n",
    "for tr in list_tr:\n",
    "    key = re.sub(r'[\\u0020\\u00A0\\u2000\\u2001\\u2002\\u2003\\u2004\\u2005\\u2006\\u2007\\u2008\\u2009\\u200a\\u200b\\u200c\\u200d\\u200e\\u200f\\u202f\\u205f\\u2060\\u2061\\u2062\\u2063\\u2064\\u3000\\ufeff ]+', ' ', tr.xpath('./td/span/text()')[0]).strip()\n",
    "    if key in dict_key:\n",
    "        dict_key[key] += 1\n",
    "    else:\n",
    "        dict_key[key] = 1\n",
    "\n",
    "dict_overview, dict_count = {}, {}\n",
    "for i, tr in enumerate(list_tr):\n",
    "    key = re.sub(r'[\\u0020\\u00A0\\u2000\\u2001\\u2002\\u2003\\u2004\\u2005\\u2006\\u2007\\u2008\\u2009\\u200a\\u200b\\u200c\\u200d\\u200e\\u200f\\u202f\\u205f\\u2060\\u2061\\u2062\\u2063\\u2064\\u3000\\ufeff ]+', ' ', tr.xpath('./td/span/text()')[0]).strip()\n",
    "    if dict_key[key] == 1:\n",
    "        dict_overview[str(i)] = {key: re.sub(r'[\\u0020\\u00A0\\u2000\\u2001\\u2002\\u2003\\u2004\\u2005\\u2006\\u2007\\u2008\\u2009\\u200a\\u200b\\u200c\\u200d\\u200e\\u200f\\u202f\\u205f\\u2060\\u2061\\u2062\\u2063\\u2064\\u3000\\ufeff ]+', ' ', tr.xpath('./td/span/text()')[1]).strip()}\n",
    "    else:\n",
    "        if key in dict_key:\n",
    "            dict_key[key] += 1\n",
    "        else:\n",
    "            dict_key[key] = 1\n",
    "        dict_overview[str(i)] = {f'{key}-{dict_count[key]}': re.sub(r'[\\u0020\\u00A0\\u2000\\u2001\\u2002\\u2003\\u2004\\u2005\\u2006\\u2007\\u2008\\u2009\\u200a\\u200b\\u200c\\u200d\\u200e\\u200f\\u202f\\u205f\\u2060\\u2061\\u2062\\u2063\\u2064\\u3000\\ufeff ]+', ' ', tr.xpath('./td/span/text()')[1]).strip()}\n",
    "\n",
    "dict_overview"
   ]
  },
  {
   "cell_type": "code",
   "execution_count": 10,
   "id": "1f4f1c71-ebdd-4a0c-a1a4-420dc9b1066e",
   "metadata": {},
   "outputs": [
    {
     "name": "stdout",
     "output_type": "stream",
     "text": [
      "\n"
     ]
    }
   ],
   "source": [
    "about, list_text = '', [re.sub(r'[\\u0020\\u00A0\\u2000\\u2001\\u2002\\u2003\\u2004\\u2005\\u2006\\u2007\\u2008\\u2009\\u200a\\u200b\\u200c\\u200d\\u200e\\u200f\\u202f\\u205f\\u2060\\u2061\\u2062\\u2063\\u2064\\u3000\\ufeff ]+', ' ', text).strip() for text in html.xpath('//ul[@class=\"a-unordered-list a-vertical a-spacing-mini\"]/li/span/text()')]\n",
    "for i, text in enumerate(list_text):\n",
    "    about += f'{i + 1}. {text}\\n'\n",
    "\n",
    "print(about.strip())"
   ]
  },
  {
   "cell_type": "code",
   "execution_count": 11,
   "id": "aba3232b-2858-4b1a-8fbc-e6e88591348c",
   "metadata": {
    "scrolled": true
   },
   "outputs": [
    {
     "data": {
      "text/plain": [
       "{'dataInJson': None,\n",
       " 'alwaysIncludeVideo': True,\n",
       " 'autoplayVideo': False,\n",
       " 'defaultColor': 'initial',\n",
       " 'mainImageSizes': [['342', '445'],\n",
       "  ['385', '500'],\n",
       "  ['425', '550'],\n",
       "  ['466', '606'],\n",
       "  ['522', '679']],\n",
       " 'maxAlts': 7,\n",
       " 'altsOnLeft': True,\n",
       " 'productGroupID': 'biss_basic_display_on_website',\n",
       " 'lazyLoadExperienceDisabled': True,\n",
       " 'lazyLoadExperienceOnHoverDisabled': False,\n",
       " 'useChromelessVideoPlayer': False,\n",
       " 'colorToAsin': {},\n",
       " 'refactorEnabled': True,\n",
       " 'useIV': True,\n",
       " 'tabletWeb': False,\n",
       " 'views': ['ImageBlockMagnifierView',\n",
       "  'ImageBlockAltImageView',\n",
       "  'ImageBlockVideoView',\n",
       "  'ImageBlockTwisterView',\n",
       "  'ImageBlockImmersiveViewImages',\n",
       "  'ImageBlockImmersiveViewVideos',\n",
       "  'ImageBlockImmersiveViewDimensionIngress',\n",
       "  'ImageBlockImmersiveViewShowroom',\n",
       "  'ImageBlockImmersiveView360',\n",
       "  'ImageBlockTabbedImmersiveView',\n",
       "  'ImageBlockShoppableSceneView'],\n",
       " 'enhancedHoverOverlay': False,\n",
       " 'landingAsinColor': 'initial',\n",
       " 'colorImages': {},\n",
       " 'heroImages': {},\n",
       " 'enable360Map': {},\n",
       " 'staticImages': {'hoverZoomIcon': 'https://m.media-amazon.com/images/G/01/img11/apparel/UX/DP/icon_zoom._CB485946671_.png',\n",
       "  'shoppableSceneViewProductsButton': 'https://m.media-amazon.com/images/G/01/shopbylook/shoppable-images/view_products._CB427832024_.svg',\n",
       "  'zoomLensBackground': 'https://m.media-amazon.com/images/G/01/apparel/rcxgs/tile._CB483369110_.gif',\n",
       "  'shoppableSceneDotHighlighted': 'https://m.media-amazon.com/images/G/01/shopbylook/shoppable-images/dot_highlighted._CB649293510_.svg',\n",
       "  'zoomInCur': 'https://m.media-amazon.com/images/G/01/detail-page/cursors/zoomIn._CB485921866_.cur',\n",
       "  'shoppableSceneSideSheetClose': 'https://m.media-amazon.com/images/G/01/shopbylook/shoppable-images/close_x_white._CB404688921_.png',\n",
       "  'shoppableSceneBackToTopArrow': 'https://m.media-amazon.com/images/G/01/shopbylook/shoppable-images/back_to_top_arrow._CB427936690_.svg',\n",
       "  'arrow': 'https://m.media-amazon.com/images/G/01/javascripts/lib/popover/images/light/sprite-vertical-popover-arrow._CB485933082_.png',\n",
       "  'icon360V2': 'https://m.media-amazon.com/images/G/01/HomeCustomProduct/imageBlock-360-thumbnail-icon-small._CB612115888_.png',\n",
       "  'zoomIn': 'https://m.media-amazon.com/images/G/01/detail-page/cursors/zoom-in._CB485944643_.bmp',\n",
       "  'zoomOut': 'https://m.media-amazon.com/images/G/01/detail-page/cursors/zoom-out._CB485943857_.bmp',\n",
       "  'videoThumbIcon': 'https://m.media-amazon.com/images/G/01/Quarterdeck/en_US/images/video._CB485935537_SX38_SY50_CR,0,0,38,50_.gif',\n",
       "  'spinnerNoLabel': 'https://m.media-amazon.com/images/G/01/ui/loadIndicators/loading-large._CB485945288_.gif',\n",
       "  'zoomOutCur': 'https://m.media-amazon.com/images/G/01/detail-page/cursors/zoomOut._CB485921725_.cur',\n",
       "  'videoSWFPath': 'https://m.media-amazon.com/images/G/01/Quarterdeck/en_US/video/20110518115040892/Video._CB485981003_.swf',\n",
       "  'grabbing': 'https://m.media-amazon.com/images/G/01/HomeCustomProduct/grabbingbox._CB485943551_.cur',\n",
       "  'shoppableSceneDot': 'https://m.media-amazon.com/images/G/01/shopbylook/shoppable-images/dot._CB649293510_.svg',\n",
       "  'icon360': 'https://m.media-amazon.com/images/G/01/HomeCustomProduct/360_icon_73x73v2._CB485971279_SX38_SY50_CR,0,0,38,50_.png',\n",
       "  'grab': 'https://m.media-amazon.com/images/G/01/HomeCustomProduct/grabbox._CB485922675_.cur',\n",
       "  'spinner': 'https://m.media-amazon.com/images/G/01/ui/loadIndicators/loading-large_labeled._CB485921664_.gif'},\n",
       " 'staticStrings': {'dragToSpin': 'Drag to Spin',\n",
       "  'videos': 'Videos',\n",
       "  'video': 'video',\n",
       "  'shoppableSceneTabsTitleT3': 'Shop the collection',\n",
       "  'shoppableSceneTabsTitle': 'Shop similar items',\n",
       "  'shoppableSceneTabsTitleT2': 'Shop this style ',\n",
       "  'rollOverToZoom': 'Roll over image to zoom in',\n",
       "  'singleVideo': 'VIDEO',\n",
       "  'clickSceneTagsToShopProducts': 'Click the dots to see similar items',\n",
       "  'close': 'Close',\n",
       "  'shoppableSceneViewProductsButton': 'Shop similar items',\n",
       "  'images': 'Images',\n",
       "  'watchMoreVideos': 'Click to see more videos',\n",
       "  'shoppableSceneViewProductsButtonT2': 'Shop this style ',\n",
       "  'shoppableSceneViewProductsButtonT1': 'Shop the look',\n",
       "  'shoppableSceneViewProductsButtonT3': 'Shop the collection',\n",
       "  'allMedia': 'All Media',\n",
       "  'clickToExpand': 'Click image to open expanded view',\n",
       "  'shoppableSceneTabsTitleT1': 'Shop the look',\n",
       "  'playVideo': 'Click to play video',\n",
       "  'shoppableSceneNoSuggestions': 'No results available',\n",
       "  'touchToZoom': 'Touch the image to zoom in',\n",
       "  'multipleVideos': 'VIDEOS',\n",
       "  'shoppableSceneSeeMoreString': 'See more',\n",
       "  'pleaseSelect': 'Please select',\n",
       "  'clickToZoom': 'Click on image to zoom in'},\n",
       " 'useChildVideos': True,\n",
       " 'useClickZoom': False,\n",
       " 'useHoverZoom': True,\n",
       " 'useHoverZoomIpad': False,\n",
       " 'visualDimensions': [],\n",
       " 'mainImageHeightPartitions': None,\n",
       " 'mainImageMaxSizes': None,\n",
       " 'heroFocalPoint': None,\n",
       " 'showMagnifierOnHover': False,\n",
       " 'disableHoverOnAltImages': False,\n",
       " 'overrideAltImageClickAction': False,\n",
       " 'naturalMainImageSize': None,\n",
       " 'imgTagWrapperClasses': None,\n",
       " 'prioritizeVideos': False,\n",
       " 'usePeekHover': False,\n",
       " 'fadeMagnifier': False,\n",
       " 'repositionHeroImage': False,\n",
       " 'heroVideoVariant': None,\n",
       " 'videos': [],\n",
       " 'title': 'TWTADE Heavy Duty Control Nonslip Foot Switch Momentary AC 380V 15A SPDT NO NC Industrial Aluminum Foot Pedal Switch TFS-302',\n",
       " 'airyConfigEnabled': False,\n",
       " 'airyConfig': None,\n",
       " 'vseVideoDataSourceTreatment': 'T1',\n",
       " 'mediaAsin': 'B0885T3QJL',\n",
       " 'parentAsin': 'B0885T3QJL',\n",
       " 'largeSCLVideoThumbnail': False,\n",
       " 'displayVideoBanner': False,\n",
       " 'useVSEVideos': True,\n",
       " 'notShowVideoCount': False,\n",
       " 'enableS2WithoutS1': False,\n",
       " 'useTabbedImmersiveView': True,\n",
       " 'dpRequestId': 'ST7HSHWNXZDHS58JB549',\n",
       " 'contentWeblab': '',\n",
       " 'contentWeblabTreatment': '',\n",
       " 'dp60VideoThumbMap': None,\n",
       " 'videoBackgroundChromefulMainView': 'black'}"
      ]
     },
     "execution_count": 11,
     "metadata": {},
     "output_type": "execute_result"
    }
   ],
   "source": [
    "dict_ = json.loads(re.sub(r'\\\\(?![\"\\\\])', r'\\\\\\\\', str(soup).split('jQuery.parseJSON(\\'')[1].split('}\\');')[0] + '}'))\n",
    "\n",
    "dict_"
   ]
  },
  {
   "cell_type": "code",
   "execution_count": 12,
   "id": "cf0f3b67-41ea-48d2-aebf-83f1e9fe0a60",
   "metadata": {},
   "outputs": [
    {
     "data": {
      "text/plain": [
       "'TWTADE Heavy Duty Control Nonslip Foot Switch Momentary AC 380V 15A SPDT NO NC Industrial Aluminum Foot Pedal Switch TFS-302'"
      ]
     },
     "execution_count": 12,
     "metadata": {},
     "output_type": "execute_result"
    }
   ],
   "source": [
    "title = re.sub(r'[\\u0020\\u00A0\\u2000\\u2001\\u2002\\u2003\\u2004\\u2005\\u2006\\u2007\\u2008\\u2009\\u200a\\u200b\\u200c\\u200d\\u200e\\u200f\\u202f\\u205f\\u2060\\u2061\\u2062\\u2063\\u2064\\u3000\\ufeff ]+', ' ', dict_['title']).strip()\n",
    "\n",
    "title"
   ]
  },
  {
   "cell_type": "code",
   "execution_count": 13,
   "id": "5c50a573-9f1d-4532-b818-24d5463f063b",
   "metadata": {},
   "outputs": [
    {
     "data": {
      "text/plain": [
       "'B0885T3QJL'"
      ]
     },
     "execution_count": 13,
     "metadata": {},
     "output_type": "execute_result"
    }
   ],
   "source": [
    "parent_asin = dict_['parentAsin'].strip()\n",
    "\n",
    "parent_asin"
   ]
  },
  {
   "cell_type": "code",
   "execution_count": 14,
   "id": "0f16e4bc-f301-41e8-b064-a792cfe6a0e4",
   "metadata": {},
   "outputs": [
    {
     "data": {
      "text/plain": [
       "{}"
      ]
     },
     "execution_count": 14,
     "metadata": {},
     "output_type": "execute_result"
    }
   ],
   "source": [
    "dict_key, list_tr = {}, html.xpath('//table[@id=\"productDetails_techSpec_section_1\"]/tbody/tr')\n",
    "for tr in list_tr:\n",
    "    key = re.sub(r'[\\u0020\\u00A0\\u2000\\u2001\\u2002\\u2003\\u2004\\u2005\\u2006\\u2007\\u2008\\u2009\\u200a\\u200b\\u200c\\u200d\\u200e\\u200f\\u202f\\u205f\\u2060\\u2061\\u2062\\u2063\\u2064\\u3000\\ufeff ]+', ' ', tr.xpath('./th/text()')[0]).strip()\n",
    "    if key in dict_key:\n",
    "        dict_key[key] += 1\n",
    "    else:\n",
    "        dict_key[key] = 1\n",
    "\n",
    "dict_technical, dict_count = {}, {}\n",
    "for i, tr in enumerate(list_tr):\n",
    "    key = re.sub(r'[\\u0020\\u00A0\\u2000\\u2001\\u2002\\u2003\\u2004\\u2005\\u2006\\u2007\\u2008\\u2009\\u200a\\u200b\\u200c\\u200d\\u200e\\u200f\\u202f\\u205f\\u2060\\u2061\\u2062\\u2063\\u2064\\u3000\\ufeff ]+', ' ', tr.xpath('./th/text()')[0]).strip()\n",
    "    if dict_key[key] == 1:\n",
    "        dict_technical[str(i)] = {key: re.sub(r'[\\u0020\\u00A0\\u2000\\u2001\\u2002\\u2003\\u2004\\u2005\\u2006\\u2007\\u2008\\u2009\\u200a\\u200b\\u200c\\u200d\\u200e\\u200f\\u202f\\u205f\\u2060\\u2061\\u2062\\u2063\\u2064\\u3000\\ufeff ]+', ' ', tr.xpath('./td/text()')[0]).strip()}\n",
    "    else:\n",
    "        if key in dict_count:\n",
    "            dict_count[key] += 1\n",
    "        else:\n",
    "            dict_count[key] = 1\n",
    "        dict_technical[str(i)] = {f'{key}-{dict_count[key]}': re.sub(r'[\\u0020\\u00A0\\u2000\\u2001\\u2002\\u2003\\u2004\\u2005\\u2006\\u2007\\u2008\\u2009\\u200a\\u200b\\u200c\\u200d\\u200e\\u200f\\u202f\\u205f\\u2060\\u2061\\u2062\\u2063\\u2064\\u3000\\ufeff ]+', ' ', tr.xpath('./td/text()')[0]).strip()}\n",
    "\n",
    "dict_technical"
   ]
  },
  {
   "cell_type": "code",
   "execution_count": 15,
   "id": "f8a531f6-c45e-4f4d-a1be-bb567aa83517",
   "metadata": {},
   "outputs": [
    {
     "data": {
      "text/plain": [
       "{}"
      ]
     },
     "execution_count": 15,
     "metadata": {},
     "output_type": "execute_result"
    }
   ],
   "source": [
    "i, dict_additional, list_tr = 0, {}, html.xpath('//table[@id=\"productDetails_detailBullets_sections1\"]/tbody/tr')\n",
    "for tr in list_tr:\n",
    "    key = re.sub(r'[\\u0020\\u00A0\\u2000\\u2001\\u2002\\u2003\\u2004\\u2005\\u2006\\u2007\\u2008\\u2009\\u200a\\u200b\\u200c\\u200d\\u200e\\u200f\\u202f\\u205f\\u2060\\u2061\\u2062\\u2063\\u2064\\u3000\\ufeff ]+', ' ', tr.xpath('./th/text()')[0]).strip()\n",
    "    if key == 'Customer Reviews':\n",
    "        dict_additional[str(i)] = {'Customer Reviews Rating Count': tr.xpath('./td/div/span[@data-action=\"acrLink-click-metrics\"]/a/span/text()')[0].strip()}\n",
    "        dict_additional[str(i + 1)] = {'Customer Reviews Rating': tr.xpath('./td/div/span[@data-action=\"acrStarsLink-click-metrics\"]/span/@title')[0].strip()}\n",
    "        i += 2\n",
    "    elif key == 'Best Sellers Rank':\n",
    "        list_span = tr.xpath('./td/span/span')\n",
    "        list_text = [etree.tostring(span).decode('utf-8') for span in list_span]\n",
    "        list_text = [re.sub(r'<.*?>|\\(.*?\\)', '', text).strip() for text in list_text]\n",
    "        list_text = [re.sub(r' +', ' ', text.strip()) for text in list_text]\n",
    "        list_text = [html_lib.unescape(text) for text in list_text]\n",
    "\n",
    "        list_href = [f'https://www.amazon.com{href.strip()}' for href in tr.xpath('./td/span/span/a/@href')]\n",
    "        for j, (text, href) in enumerate(zip(list_text, list_href)):\n",
    "            if j == 0:\n",
    "                dict_additional[str(i)] = {'Best Sellers Rank': text}\n",
    "                dict_additional[str(i + 1)] = {'Best Sellers Rank Url': href}\n",
    "            else:\n",
    "                dict_additional[str(i)] = {f'Best Sellers Rank-{j + 1}': text}\n",
    "                dict_additional[str(i + 1)] = {f'Best Sellers Rank-{j + 1} Url': href}\n",
    "            i += 2\n",
    "    else:\n",
    "        dict_additional[str(i)] = {key: re.sub(r'[\\u0020\\u00A0\\u2000\\u2001\\u2002\\u2003\\u2004\\u2005\\u2006\\u2007\\u2008\\u2009\\u200a\\u200b\\u200c\\u200d\\u200e\\u200f\\u202f\\u205f\\u2060\\u2061\\u2062\\u2063\\u2064\\u3000\\ufeff ]+', ' ', tr.xpath('./td/text()')[0]).strip()}\n",
    "        i += 1\n",
    "\n",
    "dict_additional"
   ]
  },
  {
   "cell_type": "code",
   "execution_count": 16,
   "id": "9c15e01e-2a61-4972-8ed6-69bb7d6cfbea",
   "metadata": {},
   "outputs": [
    {
     "data": {
      "text/plain": [
       "{'0': {'Package Dimensions': '8.43 x 5.39 x 4.37 inches; 1.54 Pounds'},\n",
       " '1': {'Date First Available': 'May 6, 2020'},\n",
       " '2': {'Manufacturer': 'TWTADE'},\n",
       " '3': {'ASIN': 'B0885T3QJL'}}"
      ]
     },
     "execution_count": 16,
     "metadata": {},
     "output_type": "execute_result"
    }
   ],
   "source": [
    "dict_key, list_tr = {}, html.xpath('//div[@id=\"detailBulletsWrapper_feature_div\"]/div[@id=\"detailBullets_feature_div\"]/ul/li/span')\n",
    "for tr in list_tr:\n",
    "    key = re.sub(r'[\\u0020\\u00A0\\u2000\\u2001\\u2002\\u2003\\u2004\\u2005\\u2006\\u2007\\u2008\\u2009\\u200a\\u200b\\u200c\\u200d\\u200e\\u200f\\u202f\\u205f\\u2060\\u2061\\u2062\\u2063\\u2064\\u3000\\ufeff ]+', ' ', tr.xpath('./span/text()')[0]).strip().removesuffix(':').strip()\n",
    "    if key in dict_key:\n",
    "        dict_key[key] += 1\n",
    "    else:\n",
    "        dict_key[key] = 1\n",
    "\n",
    "dict_technical_2, dict_count = {}, {}\n",
    "for i, tr in enumerate(list_tr):\n",
    "    key = re.sub(r'[\\u0020\\u00A0\\u2000\\u2001\\u2002\\u2003\\u2004\\u2005\\u2006\\u2007\\u2008\\u2009\\u200a\\u200b\\u200c\\u200d\\u200e\\u200f\\u202f\\u205f\\u2060\\u2061\\u2062\\u2063\\u2064\\u3000\\ufeff ]+', ' ', tr.xpath('./span/text()')[0]).strip().removesuffix(':').strip()\n",
    "    if dict_key[key] == 1:\n",
    "        dict_technical_2[str(i)] = {key: re.sub(r'[\\u0020\\u00A0\\u2000\\u2001\\u2002\\u2003\\u2004\\u2005\\u2006\\u2007\\u2008\\u2009\\u200a\\u200b\\u200c\\u200d\\u200e\\u200f\\u202f\\u205f\\u2060\\u2061\\u2062\\u2063\\u2064\\u3000\\ufeff ]+', ' ', tr.xpath('./span/text()')[1]).strip()}\n",
    "    else:\n",
    "        if key in dict_count:\n",
    "            dict_count[key] += 1\n",
    "        else:\n",
    "            dict_count[key] = 1\n",
    "        dict_technical_2[str(i)] = {f'{key}-{dict_count[key]}': re.sub(r'[\\u0020\\u00A0\\u2000\\u2001\\u2002\\u2003\\u2004\\u2005\\u2006\\u2007\\u2008\\u2009\\u200a\\u200b\\u200c\\u200d\\u200e\\u200f\\u202f\\u205f\\u2060\\u2061\\u2062\\u2063\\u2064\\u3000\\ufeff ]+', ' ', tr.xpath('./span/text()')[1]).strip()}\n",
    "\n",
    "dict_technical_2"
   ]
  },
  {
   "cell_type": "code",
   "execution_count": 17,
   "id": "1f6fa370-64b8-4f1d-88b4-006b767746ad",
   "metadata": {},
   "outputs": [
    {
     "data": {
      "text/plain": [
       "{'0': {'Customer Reviews Rating Count': '13 ratings'},\n",
       " '1': {'Customer Reviews Rating': '4.2 out of 5 stars'}}"
      ]
     },
     "execution_count": 17,
     "metadata": {},
     "output_type": "execute_result"
    }
   ],
   "source": [
    "i, dict_additional_2, list_span = 0, {}, html.xpath('//div[@id=\"detailBulletsWrapper_feature_div\"]/ul[@class=\"a-unordered-list a-nostyle a-vertical a-spacing-none detail-bullet-list\"]/li/span')\n",
    "for span in list_span:\n",
    "    if not span.xpath('./span'):\n",
    "        continue\n",
    "\n",
    "    key = re.sub(r'[\\u0020\\u00A0\\u2000\\u2001\\u2002\\u2003\\u2004\\u2005\\u2006\\u2007\\u2008\\u2009\\u200a\\u200b\\u200c\\u200d\\u200e\\u200f\\u202f\\u205f\\u2060\\u2061\\u2062\\u2063\\u2064\\u3000\\ufeff ]+', ' ', span.xpath('./span/text()')[0]).strip().removesuffix(':').strip()\n",
    "    if key == 'Customer Reviews':\n",
    "        dict_additional_2[str(i)] = {'Customer Reviews Rating Count': span.xpath('./div/span[@data-action=\"acrLink-click-metrics\"]/a/span/text()')[0].strip()}\n",
    "        dict_additional_2[str(i + 1)] = {'Customer Reviews Rating': span.xpath('./div/span[@data-action=\"acrStarsLink-click-metrics\"]/span/@title')[0].strip()}\n",
    "        i += 2\n",
    "    elif key == 'Best Sellers Rank':\n",
    "        list_span_2 = span.xpath('./descendant-or-self::span[@class=\"a-list-item\"]')\n",
    "        list_text = [etree.tostring(span_2).decode('utf-8') for span_2 in list_span_2]\n",
    "        list_text = [re.sub(r'<ul.*?</ul>|<span.*?Best Sellers Rank.*?</span>|<.*?>|\\(.*?\\)', '', text).strip() for text in list_text]\n",
    "        list_text = [re.sub(r' +', ' ', text.strip()) for text in list_text]\n",
    "        list_text = [html_lib.unescape(text) for text in list_text]\n",
    "\n",
    "        list_href = [f'https://www.amazon.com{href.strip()}' for href in span.xpath('./descendant-or-self::a/@href')]\n",
    "        for j, (text, href) in enumerate(zip(list_text, list_href)):\n",
    "            if j == 0:\n",
    "                dict_additional_2[str(i)] = {'Best Sellers Rank': text}\n",
    "                dict_additional_2[str(i + 1)] = {'Best Sellers Rank Url': href}\n",
    "            else:\n",
    "                dict_additional_2[str(i)] = {f'Best Sellers Rank-{j + 1}': text}\n",
    "                dict_additional_2[str(i + 1)] = {f'Best Sellers Rank-{j + 1} Url': href}\n",
    "            i += 2\n",
    "    else:\n",
    "        print('fuck')\n",
    "\n",
    "dict_additional_2"
   ]
  },
  {
   "cell_type": "code",
   "execution_count": 18,
   "id": "2f94e800-5352-4e5b-be7b-7d932fbb1d65",
   "metadata": {},
   "outputs": [
    {
     "data": {
      "text/plain": [
       "{}"
      ]
     },
     "execution_count": 18,
     "metadata": {},
     "output_type": "execute_result"
    }
   ],
   "source": [
    "dict_key, list_tr = {}, html.xpath('//div[@id=\"productDetails_expanderSectionTables\"]/div[@class=\"a-row\"]/div[contains(@class, \"a-column a-span6\")]/div[@class=\"a-row a-spacing-medium-plus\"]/div[@class=\"a-section\"]/div[contains(@data-csa-c-content-id, \"voyager-expander-btn\")]/div/div[@class=\"a-section\"]/table/tbody/tr')\n",
    "for tr in list_tr:\n",
    "    key = re.sub(r'[\\u0020\\u00A0\\u2000\\u2001\\u2002\\u2003\\u2004\\u2005\\u2006\\u2007\\u2008\\u2009\\u200a\\u200b\\u200c\\u200d\\u200e\\u200f\\u202f\\u205f\\u2060\\u2061\\u2062\\u2063\\u2064\\u3000\\ufeff ]+', ' ', tr.xpath('./th/text()')[0]).strip().removesuffix(':').strip()\n",
    "    if key in dict_key:\n",
    "        dict_key[key] += 1\n",
    "    else:\n",
    "        dict_key[key] = 1\n",
    "\n",
    "i, dict_information, dict_count = 0, {}, {}\n",
    "for tr in list_tr:\n",
    "    key = re.sub(r'[\\u0020\\u00A0\\u2000\\u2001\\u2002\\u2003\\u2004\\u2005\\u2006\\u2007\\u2008\\u2009\\u200a\\u200b\\u200c\\u200d\\u200e\\u200f\\u202f\\u205f\\u2060\\u2061\\u2062\\u2063\\u2064\\u3000\\ufeff ]+', ' ', tr.xpath('./th/text()')[0]).strip().removesuffix(':').strip()\n",
    "    if dict_key[key] == 1:\n",
    "        if key == 'Customer Reviews':\n",
    "            dict_information[str(i)] = {'Customer Reviews Rating Count': tr.xpath('./td/div/span[@data-action=\"acrLink-click-metrics\"]/a/span/text()')[0].strip()}\n",
    "            dict_information[str(i + 1)] = {'Customer Reviews Rating': tr.xpath('./td/div/span[@data-action=\"acrStarsLink-click-metrics\"]/span/@title')[0].strip()}\n",
    "            i += 2\n",
    "        elif key == 'Best Sellers Rank':\n",
    "            list_span = tr.xpath('./td/span/span')\n",
    "            list_text = [etree.tostring(span).decode('utf-8') for span in list_span]\n",
    "            list_text = [re.sub(r'<.*?>|\\(.*?\\)', '', text).strip() for text in list_text]\n",
    "            list_text = [re.sub(r' +', ' ', text.strip()) for text in list_text]\n",
    "            list_text = [html_lib.unescape(text) for text in list_text]\n",
    "\n",
    "            list_href = [f'https://www.amazon.com{href.strip()}' for href in tr.xpath('./td/span/span/a/@href')]\n",
    "            for j, (text, href) in enumerate(zip(list_text, list_href)):\n",
    "                if j == 0:\n",
    "                    dict_information[str(i)] = {'Best Sellers Rank': text}\n",
    "                    dict_information[str(i + 1)] = {'Best Sellers Rank Url': href}\n",
    "                else:\n",
    "                    dict_information[str(i)] = {f'Best Sellers Rank-{j + 1}': text}\n",
    "                    dict_information[str(i + 1)] = {f'Best Sellers Rank-{j + 1} Url': href}\n",
    "                i += 2\n",
    "        else:\n",
    "            dict_information[str(i)] = {key: re.sub(r'[\\u0020\\u00A0\\u2000\\u2001\\u2002\\u2003\\u2004\\u2005\\u2006\\u2007\\u2008\\u2009\\u200a\\u200b\\u200c\\u200d\\u200e\\u200f\\u202f\\u205f\\u2060\\u2061\\u2062\\u2063\\u2064\\u3000\\ufeff ]+', ' ', tr.xpath('./td/text()')[0]).strip()}\n",
    "            i += 1\n",
    "    else:\n",
    "        if key in dict_count:\n",
    "            dict_count[key] += 1\n",
    "        else:\n",
    "            dict_count[key] = 1\n",
    "        dict_information[str(i)] = {f'{key}-{dict_count[key]}': re.sub(r'[\\u0020\\u00A0\\u2000\\u2001\\u2002\\u2003\\u2004\\u2005\\u2006\\u2007\\u2008\\u2009\\u200a\\u200b\\u200c\\u200d\\u200e\\u200f\\u202f\\u205f\\u2060\\u2061\\u2062\\u2063\\u2064\\u3000\\ufeff ]+', ' ', tr.xpath('./td/text()')[0]).strip()}\n",
    "\n",
    "dict_information"
   ]
  },
  {
   "cell_type": "code",
   "execution_count": 19,
   "id": "178ea75c-8457-44a3-9cd4-19ba5c89a0c3",
   "metadata": {},
   "outputs": [
    {
     "data": {
      "text/plain": [
       "False"
      ]
     },
     "execution_count": 19,
     "metadata": {},
     "output_type": "execute_result"
    }
   ],
   "source": [
    "not dict_technical and not dict_additional and not dict_technical_2 and not dict_additional_2 and not dict_information"
   ]
  },
  {
   "cell_type": "code",
   "execution_count": 20,
   "id": "64cd1565-8e34-42ed-9345-0ac5d9348475",
   "metadata": {},
   "outputs": [
    {
     "data": {
      "text/plain": [
       "[{'No': 136,\n",
       "  'Title': 'TWTADE Heavy Duty Control Nonslip Foot Switch Momentary AC 380V 15A SPDT NO NC Industrial Aluminum Foot Pedal Switch TFS-302',\n",
       "  'About': '',\n",
       "  'Price': '$39.95',\n",
       "  'Picture': '',\n",
       "  'Url': 'https://www.amazon.com/TWTADE-Control-Momentary-Industrial-Aluminum/dp/B0885T3QJL?ref_=ast_sto_dp&language=en_US',\n",
       "  'Zip Code': 'Chino 91710',\n",
       "  'Parent ASIN': 'B0885T3QJL',\n",
       "  'Json_Src': '{\"0\": \"https://m.media-amazon.com/images/I/41FpUnGjsnL.jpg\", \"1\": \"https://m.media-amazon.com/images/I/41jK1dCTDEL.jpg\", \"2\": \"https://m.media-amazon.com/images/I/41btjVfIhhL.jpg\", \"3\": \"https://m.media-amazon.com/images/I/418jOBWTnDL.jpg\", \"4\": \"https://m.media-amazon.com/images/I/41tcxM5h24L.jpg\"}',\n",
       "  'Json_Overview': '{\"0\": {\"Operation Mode\": \"Foot Switch\"}, \"1\": {\"Current Rating\": \"15 Amps\"}, \"2\": {\"Operating Voltage\": \"380 Volts\"}, \"3\": {\"Contact Type\": \"Normally Open, Normally Closed\"}, \"4\": {\"Brand\": \"TWTADE\"}, \"5\": {\"Terminal\": \"Spdt\"}, \"6\": {\"Mounting Type\": \"Panel Mount\"}, \"7\": {\"Connectivity Protocol\": \"X-10\"}, \"8\": {\"Unit Count\": \"1 Count\"}, \"9\": {\"Manufacturer\": \"TWTADE\"}}',\n",
       "  'Json_Technical': '{}',\n",
       "  'Json_Additional': '{}',\n",
       "  'Json_Technical 2': '{\"0\": {\"Package Dimensions\": \"8.43 x 5.39 x 4.37 inches; 1.54 Pounds\"}, \"1\": {\"Date First Available\": \"May 6, 2020\"}, \"2\": {\"Manufacturer\": \"TWTADE\"}, \"3\": {\"ASIN\": \"B0885T3QJL\"}}',\n",
       "  'Json_Additional 2': '{\"0\": {\"Customer Reviews Rating Count\": \"13 ratings\"}, \"1\": {\"Customer Reviews Rating\": \"4.2 out of 5 stars\"}}',\n",
       "  'Json_Information': '{}'}]"
      ]
     },
     "execution_count": 20,
     "metadata": {},
     "output_type": "execute_result"
    }
   ],
   "source": [
    "list_dict_correct.append({'No': crawler_series['No'],\n",
    "                          'Title': title,\n",
    "                          'About': about.strip(),\n",
    "                          'Price': price,\n",
    "                          'Picture': '',\n",
    "                          'Url': url_request,\n",
    "                          'Zip Code': zip_code,\n",
    "                          'Parent ASIN': parent_asin,\n",
    "                          'Json_Src': json.dumps(dict_src),\n",
    "                          'Json_Overview': json.dumps(dict_overview),\n",
    "                          'Json_Technical': json.dumps(dict_technical),\n",
    "                          'Json_Additional': json.dumps(dict_additional),\n",
    "                          'Json_Technical 2': json.dumps(dict_technical_2),\n",
    "                          'Json_Additional 2': json.dumps(dict_additional_2),\n",
    "                          'Json_Information': json.dumps(dict_information)})\n",
    "\n",
    "list_dict_correct"
   ]
  },
  {
   "cell_type": "code",
   "execution_count": 21,
   "id": "ab6bad34-85f8-4284-8b9d-4d2841af5129",
   "metadata": {},
   "outputs": [
    {
     "data": {
      "text/plain": [
       "True"
      ]
     },
     "execution_count": 21,
     "metadata": {},
     "output_type": "execute_result"
    }
   ],
   "source": [
    "crawler_status = True\n",
    "\n",
    "crawler_status"
   ]
  },
  {
   "cell_type": "code",
   "execution_count": 22,
   "id": "5a51af34-bebe-49b6-bc46-81e1644ff917",
   "metadata": {},
   "outputs": [
    {
     "data": {
      "text/plain": [
       "[No                                                           136\n",
       " Url            https://www.amazon.com/TWTADE-Control-Momentar...\n",
       " Unnamed: 2                                                SWITCH\n",
       " Unnamed: 3                                           foot switch\n",
       " Request_Url    https://www.amazon.com/TWTADE-Control-Momentar...\n",
       " Name: 0, dtype: object]"
      ]
     },
     "execution_count": 22,
     "metadata": {},
     "output_type": "execute_result"
    }
   ],
   "source": [
    "crawler_series['Request_Url'] = url_request\n",
    "\n",
    "list_series_error.append(crawler_series)\n",
    "\n",
    "list_series_error"
   ]
  },
  {
   "cell_type": "code",
   "execution_count": 23,
   "id": "5cfcd587-f7ff-4496-8e94-bca6b8e4ca26",
   "metadata": {},
   "outputs": [
    {
     "name": "stdout",
     "output_type": "stream",
     "text": [
      "Data Outputting...\n"
     ]
    },
    {
     "data": {
      "text/html": [
       "<div>\n",
       "<style scoped>\n",
       "    .dataframe tbody tr th:only-of-type {\n",
       "        vertical-align: middle;\n",
       "    }\n",
       "\n",
       "    .dataframe tbody tr th {\n",
       "        vertical-align: top;\n",
       "    }\n",
       "\n",
       "    .dataframe thead th {\n",
       "        text-align: right;\n",
       "    }\n",
       "</style>\n",
       "<table border=\"1\" class=\"dataframe\">\n",
       "  <thead>\n",
       "    <tr style=\"text-align: right;\">\n",
       "      <th></th>\n",
       "      <th>No</th>\n",
       "      <th>Title</th>\n",
       "      <th>About</th>\n",
       "      <th>Price</th>\n",
       "      <th>Picture</th>\n",
       "      <th>Url</th>\n",
       "      <th>Zip Code</th>\n",
       "      <th>Parent ASIN</th>\n",
       "      <th>Json_Src</th>\n",
       "      <th>Json_Overview</th>\n",
       "      <th>Json_Technical</th>\n",
       "      <th>Json_Additional</th>\n",
       "      <th>Json_Technical 2</th>\n",
       "      <th>Json_Additional 2</th>\n",
       "      <th>Json_Information</th>\n",
       "    </tr>\n",
       "  </thead>\n",
       "  <tbody>\n",
       "    <tr>\n",
       "      <th>0</th>\n",
       "      <td>136</td>\n",
       "      <td>TWTADE Heavy Duty Control Nonslip Foot Switch ...</td>\n",
       "      <td></td>\n",
       "      <td>$39.95</td>\n",
       "      <td></td>\n",
       "      <td>https://www.amazon.com/TWTADE-Control-Momentar...</td>\n",
       "      <td>Chino 91710</td>\n",
       "      <td>B0885T3QJL</td>\n",
       "      <td>{\"0\": \"https://m.media-amazon.com/images/I/41F...</td>\n",
       "      <td>{\"0\": {\"Operation Mode\": \"Foot Switch\"}, \"1\": ...</td>\n",
       "      <td>{}</td>\n",
       "      <td>{}</td>\n",
       "      <td>{\"0\": {\"Package Dimensions\": \"8.43 x 5.39 x 4....</td>\n",
       "      <td>{\"0\": {\"Customer Reviews Rating Count\": \"13 ra...</td>\n",
       "      <td>{}</td>\n",
       "    </tr>\n",
       "  </tbody>\n",
       "</table>\n",
       "</div>"
      ],
      "text/plain": [
       "    No                                              Title About   Price  \\\n",
       "0  136  TWTADE Heavy Duty Control Nonslip Foot Switch ...        $39.95   \n",
       "\n",
       "  Picture                                                Url     Zip Code  \\\n",
       "0          https://www.amazon.com/TWTADE-Control-Momentar...  Chino 91710   \n",
       "\n",
       "  Parent ASIN                                           Json_Src  \\\n",
       "0  B0885T3QJL  {\"0\": \"https://m.media-amazon.com/images/I/41F...   \n",
       "\n",
       "                                       Json_Overview Json_Technical  \\\n",
       "0  {\"0\": {\"Operation Mode\": \"Foot Switch\"}, \"1\": ...             {}   \n",
       "\n",
       "  Json_Additional                                   Json_Technical 2  \\\n",
       "0              {}  {\"0\": {\"Package Dimensions\": \"8.43 x 5.39 x 4....   \n",
       "\n",
       "                                   Json_Additional 2 Json_Information  \n",
       "0  {\"0\": {\"Customer Reviews Rating Count\": \"13 ra...               {}  "
      ]
     },
     "execution_count": 23,
     "metadata": {},
     "output_type": "execute_result"
    }
   ],
   "source": [
    "print('Data Outputting...')\n",
    "if list_dict_correct:\n",
    "    df_correct = pd.DataFrame(list_dict_correct).sort_values(by=['No'],\n",
    "                                                             ascending=[True],\n",
    "                                                             ignore_index=True)\n",
    "    df_correct.to_excel('./test_part.xlsx', index=False)\n",
    "\n",
    "df_correct if list_dict_correct else ''"
   ]
  },
  {
   "cell_type": "code",
   "execution_count": 24,
   "id": "23eb6d9d-a512-4835-ab2a-4d78c71cd446",
   "metadata": {},
   "outputs": [
    {
     "name": "stdout",
     "output_type": "stream",
     "text": [
      "Output Finished !\n",
      "\n"
     ]
    }
   ],
   "source": [
    "print('Output Finished !')\n",
    "print()"
   ]
  },
  {
   "cell_type": "code",
   "execution_count": 25,
   "id": "7701f698-89bf-41c9-b05c-fd383aeb791b",
   "metadata": {},
   "outputs": [
    {
     "name": "stdout",
     "output_type": "stream",
     "text": [
      "- Error Occurred -\n",
      "\n"
     ]
    },
    {
     "data": {
      "text/html": [
       "<div>\n",
       "<style scoped>\n",
       "    .dataframe tbody tr th:only-of-type {\n",
       "        vertical-align: middle;\n",
       "    }\n",
       "\n",
       "    .dataframe tbody tr th {\n",
       "        vertical-align: top;\n",
       "    }\n",
       "\n",
       "    .dataframe thead th {\n",
       "        text-align: right;\n",
       "    }\n",
       "</style>\n",
       "<table border=\"1\" class=\"dataframe\">\n",
       "  <thead>\n",
       "    <tr style=\"text-align: right;\">\n",
       "      <th></th>\n",
       "      <th>No</th>\n",
       "      <th>Url</th>\n",
       "      <th>Unnamed: 2</th>\n",
       "      <th>Unnamed: 3</th>\n",
       "      <th>Request_Url</th>\n",
       "    </tr>\n",
       "  </thead>\n",
       "  <tbody>\n",
       "    <tr>\n",
       "      <th>0</th>\n",
       "      <td>136</td>\n",
       "      <td>https://www.amazon.com/TWTADE-Control-Momentar...</td>\n",
       "      <td>SWITCH</td>\n",
       "      <td>foot switch</td>\n",
       "      <td>https://www.amazon.com/TWTADE-Control-Momentar...</td>\n",
       "    </tr>\n",
       "  </tbody>\n",
       "</table>\n",
       "</div>"
      ],
      "text/plain": [
       "    No                                                Url Unnamed: 2  \\\n",
       "0  136  https://www.amazon.com/TWTADE-Control-Momentar...     SWITCH   \n",
       "\n",
       "    Unnamed: 3                                        Request_Url  \n",
       "0  foot switch  https://www.amazon.com/TWTADE-Control-Momentar...  "
      ]
     },
     "execution_count": 25,
     "metadata": {},
     "output_type": "execute_result"
    }
   ],
   "source": [
    "if list_series_error:\n",
    "    df_error = pd.DataFrame(list_series_error).sort_values(by=['No'],\n",
    "                                                           ascending=[True],\n",
    "                                                           ignore_index=True)\n",
    "    df_error.to_excel('./test_part_error.xlsx', index=False)\n",
    "    print('- Error Occurred -')\n",
    "    print()\n",
    "\n",
    "df_error if list_series_error else ''"
   ]
  },
  {
   "cell_type": "code",
   "execution_count": 26,
   "id": "69dda192-faa6-421a-8cf0-41d1d7fd79cf",
   "metadata": {},
   "outputs": [
    {
     "name": "stdout",
     "output_type": "stream",
     "text": [
      "Done ~\n"
     ]
    }
   ],
   "source": [
    "driver.quit()\n",
    "print('Done ~')"
   ]
  },
  {
   "cell_type": "code",
   "execution_count": null,
   "id": "65a73d55-f26c-466a-89d7-529fb5ec190b",
   "metadata": {},
   "outputs": [],
   "source": []
  }
 ],
 "metadata": {
  "kernelspec": {
   "display_name": "Python 3 (ipykernel)",
   "language": "python",
   "name": "python3"
  },
  "language_info": {
   "codemirror_mode": {
    "name": "ipython",
    "version": 3
   },
   "file_extension": ".py",
   "mimetype": "text/x-python",
   "name": "python",
   "nbconvert_exporter": "python",
   "pygments_lexer": "ipython3",
   "version": "3.12.7"
  }
 },
 "nbformat": 4,
 "nbformat_minor": 5
}
