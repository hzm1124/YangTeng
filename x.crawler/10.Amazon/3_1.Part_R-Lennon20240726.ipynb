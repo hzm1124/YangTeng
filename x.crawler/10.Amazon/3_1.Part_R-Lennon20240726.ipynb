{
 "cells": [
  {
   "cell_type": "code",
   "execution_count": 1,
   "id": "3a9c33f2-0f9a-4884-a677-2bfd2f2bc264",
   "metadata": {},
   "outputs": [],
   "source": [
    "param_session_id = '137-5565607-0668155'\n",
    "param_ubid_main = '135-9546146-6073418'\n",
    "param_session_token = '3iuUPMVP9pez3dDPQbNug4OUnEGlaHZeQY9Lce8uZBCsPt4SKBcnO64MyZyzMa2RnnwQ1uME9HxpBWntNnbtQzSwlsoNuCEiRDccVzgX92EuNgQ3/11zpOlsqJdSYsBORGoLYBF62oKjF9owTY858bDLhii5koaRu+QGJ8WJUudg+Oaa3LDFmWWcmKNoUy8eYXv58AFaGQwBIx38AHJXAS8G5Jso/PCkh6HPeWeqBi1EKov9b1Mh/pST5ekzars+FQlSa58bO9iDhOSy4v9htikWD2im1H0XywbNJQNRFwoHGkM2Y5fWjV7B8CBcaWcHQcCQUNh5WUnWX9C0w5dZ4UGvdLucCbUC'"
   ]
  },
  {
   "cell_type": "code",
   "execution_count": 2,
   "id": "783f89be-0cdc-4912-942e-895cc5f09840",
   "metadata": {},
   "outputs": [],
   "source": [
    "import pandas as pd\n",
    "\n",
    "output_correct, output_error = pd.DataFrame(), pd.DataFrame()"
   ]
  },
  {
   "cell_type": "code",
   "execution_count": 3,
   "id": "1c28f4ff-eee5-4220-a711-cc2f93fe08f0",
   "metadata": {
    "scrolled": true
   },
   "outputs": [
    {
     "name": "stdout",
     "output_type": "stream",
     "text": [
      "总数量：100\n"
     ]
    },
    {
     "data": {
      "text/plain": [
       "['B08W98H7H7',\n",
       " 'B009B5S5E8',\n",
       " 'B0CN8J4K53',\n",
       " 'B004SJN66O',\n",
       " 'B0CW2SKD6R',\n",
       " 'B08TTC1HQ3',\n",
       " 'B0CYYYL59H',\n",
       " 'B009TKMXV6',\n",
       " 'B08W9MX59Y',\n",
       " 'B09PH28FG2',\n",
       " 'B0BF9SR4VN',\n",
       " 'B0C81FVYS9',\n",
       " 'B00M370TI6',\n",
       " 'B0BPCP4XQN',\n",
       " 'B00OU7PZCM',\n",
       " 'B0963B61HD',\n",
       " 'B0BY213GX3',\n",
       " 'B01KHL31PW',\n",
       " 'B09V88967X',\n",
       " 'B0BBY8VHG7',\n",
       " 'B076PRPYRS',\n",
       " 'B097JWWR4V',\n",
       " 'B0CZ6TQ86D',\n",
       " 'B0D5847ZLT',\n",
       " 'B01DQ1B0ZS',\n",
       " 'B0C7WDPGV7',\n",
       " 'B093Q6SV5Z',\n",
       " 'B004SIXYXU',\n",
       " 'B010GO6EAE',\n",
       " 'B0BN3HY23Y',\n",
       " 'B006EFV6KS',\n",
       " 'B0CRHCPWQ9',\n",
       " 'B004A2D6DM',\n",
       " 'B0CW99T1MR',\n",
       " 'B0C4HTBXDL',\n",
       " 'B0BYXR6L1R',\n",
       " 'B0C61D28WR',\n",
       " 'B0D7927R5J',\n",
       " 'B0CHRZFQNV',\n",
       " 'B01E6G23MG',\n",
       " 'B000C5C4GG',\n",
       " 'B0CDPXRFWQ',\n",
       " 'B089YFSSL1',\n",
       " 'B093S8XVSL',\n",
       " 'B0C7Z4SGZW',\n",
       " 'B09YD2YJ6M',\n",
       " 'B00809W1M8',\n",
       " 'B0CZ33S81S',\n",
       " 'B09H5JQKQJ',\n",
       " 'B0CXPJJMW4',\n",
       " 'B0D2V9CFXN',\n",
       " 'B0CC8P4YLL',\n",
       " 'B0CJF4J9N1',\n",
       " 'B07KFKRM26',\n",
       " 'B0CYWNVSNG',\n",
       " 'B09P54QWQ8',\n",
       " 'B0BHHV42TQ',\n",
       " 'B0CBM9N9B2',\n",
       " 'B09F34ZCQJ',\n",
       " 'B0BZPJ6KDK',\n",
       " 'B00HQ2CBNE',\n",
       " 'B01G48AJ4S',\n",
       " 'B08NVLBNK8',\n",
       " 'B09PH13WTM',\n",
       " 'B0C5ZHH3WQ',\n",
       " 'B00809W0YC',\n",
       " 'B09TB2SSNB',\n",
       " 'B0BWJNZCMZ',\n",
       " 'B092PYD7P7',\n",
       " 'B09KN6WKQ9',\n",
       " 'B0C3ML1NDC',\n",
       " 'B09Y61GJD1',\n",
       " 'B01K8IX2OO',\n",
       " 'B00HQ2CCCE',\n",
       " 'B0C5Z9TM23',\n",
       " 'B00HQ2C6KM',\n",
       " 'B0CDP8NCMJ',\n",
       " 'B09J7PZLPH',\n",
       " 'B0CG7LMX28',\n",
       " 'B0CNJZ51QG',\n",
       " 'B09KR47HS3',\n",
       " 'B07FZ7ZHXR',\n",
       " 'B0CYLYQ8M4',\n",
       " 'B0BH4ZXNKP',\n",
       " 'B0BR4WKW3H',\n",
       " 'B0B179GW1C',\n",
       " 'B0CL91HCJF',\n",
       " 'B0CQ1P4B58',\n",
       " 'B0CH5NL9MN',\n",
       " 'B07PGLCTJ6',\n",
       " 'B00JIWAX12',\n",
       " 'B0BZ19PYGS',\n",
       " 'B095C2ZSK1',\n",
       " 'B0C6SWXZVX',\n",
       " 'B09WJQZDRN',\n",
       " 'B008B68P3O',\n",
       " 'B004SJ02SE',\n",
       " 'B0BPM39KYM',\n",
       " 'B095SB3KWW',\n",
       " 'B0945T4JB3']"
      ]
     },
     "execution_count": 3,
     "metadata": {},
     "output_type": "execute_result"
    }
   ],
   "source": [
    "input_ = pd.read_excel('./2.menu.xlsx',\n",
    "                       header=0,\n",
    "                       dtype=str).fillna('')\n",
    "\n",
    "input_['No'] = input_['No'].astype(int)\n",
    "\n",
    "print(f'总数量：{len(input_)}')\n",
    "input_['ASIN'].tolist()"
   ]
  },
  {
   "cell_type": "code",
   "execution_count": 4,
   "id": "5878a9f0-d639-4123-b6e0-bc564f72c2d6",
   "metadata": {},
   "outputs": [
    {
     "data": {
      "text/plain": [
       "0"
      ]
     },
     "execution_count": 4,
     "metadata": {},
     "output_type": "execute_result"
    }
   ],
   "source": [
    "a = 0\n",
    "\n",
    "a"
   ]
  },
  {
   "cell_type": "code",
   "execution_count": 5,
   "id": "9f61dd65-55da-4d0b-ba30-d0534eff0781",
   "metadata": {},
   "outputs": [
    {
     "data": {
      "text/plain": [
       "'error'"
      ]
     },
     "execution_count": 5,
     "metadata": {},
     "output_type": "execute_result"
    }
   ],
   "source": [
    "crawler_status = 'error'\n",
    "\n",
    "crawler_status"
   ]
  },
  {
   "cell_type": "code",
   "execution_count": 6,
   "id": "90deee26-228c-43e6-9c4a-49921b303a36",
   "metadata": {},
   "outputs": [
    {
     "name": "stdout",
     "output_type": "stream",
     "text": [
      "1\n"
     ]
    },
    {
     "data": {
      "text/plain": [
       "<Response [200]>"
      ]
     },
     "execution_count": 6,
     "metadata": {},
     "output_type": "execute_result"
    }
   ],
   "source": [
    "import requests\n",
    "\n",
    "import sys\n",
    "sys.path.append('../00.Tools')\n",
    "from crawler_configuration import get_header, get_proxy\n",
    "\n",
    "if input_.loc[a, 'Market'] == 'US':\n",
    "    url = f'''https://www.amazon.com/dp/{input_.loc[a, 'ASIN']}?language=en_US'''\n",
    "\n",
    "cookie = {'session-id': param_session_id,\n",
    "          'ubid-main': param_ubid_main,\n",
    "          'session-token': param_session_token}\n",
    "\n",
    "b = 0\n",
    "while True:\n",
    "\n",
    "    while True:\n",
    "        b += 1\n",
    "        print(b)\n",
    "        try:\n",
    "            resp = requests.get(url,\n",
    "                                headers=get_header(),\n",
    "                                proxies=get_proxy(),\n",
    "                                cookies=cookie,\n",
    "                                timeout=(10, 10))\n",
    "            break\n",
    "        except:\n",
    "            continue\n",
    "\n",
    "    if resp.status_code == 200:\n",
    "        break\n",
    "\n",
    "resp"
   ]
  },
  {
   "cell_type": "code",
   "execution_count": 7,
   "id": "b3e3d3bf-b2ef-4802-af00-cb40d5882e4f",
   "metadata": {
    "scrolled": true
   },
   "outputs": [
    {
     "name": "stderr",
     "output_type": "stream",
     "text": [
      "IOPub data rate exceeded.\n",
      "The Jupyter server will temporarily stop sending output\n",
      "to the client in order to avoid crashing it.\n",
      "To change this limit, set the config variable\n",
      "`--ServerApp.iopub_data_rate_limit`.\n",
      "\n",
      "Current values:\n",
      "ServerApp.iopub_data_rate_limit=1000000.0 (bytes/sec)\n",
      "ServerApp.rate_limit_window=3.0 (secs)\n",
      "\n"
     ]
    }
   ],
   "source": [
    "from bs4 import BeautifulSoup\n",
    "from lxml import etree\n",
    "\n",
    "soup = BeautifulSoup(resp.text, 'lxml')\n",
    "html = etree.HTML(str(soup))\n",
    "\n",
    "with open('./part.html', 'w', encoding='UTF-8') as file:\n",
    "    file.write(str(soup))\n",
    "\n",
    "print(soup.prettify())"
   ]
  },
  {
   "cell_type": "code",
   "execution_count": 8,
   "id": "2fe93bfa-3eb7-4fc4-a6f6-bf3e9b2562a7",
   "metadata": {},
   "outputs": [
    {
     "data": {
      "text/plain": [
       "[]"
      ]
     },
     "execution_count": 8,
     "metadata": {},
     "output_type": "execute_result"
    }
   ],
   "source": [
    "list_captcha = html.xpath('//div[@class=\"a-box-inner\"]/h4/text()')\n",
    "\n",
    "list_captcha"
   ]
  },
  {
   "cell_type": "code",
   "execution_count": 9,
   "id": "e1b593aa-7137-4688-911f-3a54429d2485",
   "metadata": {},
   "outputs": [
    {
     "data": {
      "text/plain": [
       "False"
      ]
     },
     "execution_count": 9,
     "metadata": {},
     "output_type": "execute_result"
    }
   ],
   "source": [
    "len(list_captcha) != 0 and list_captcha[0].strip() == 'Enter the characters you see below'"
   ]
  },
  {
   "cell_type": "code",
   "execution_count": 10,
   "id": "4fc565bc-74f5-4060-aa66-c8be5252aceb",
   "metadata": {
    "scrolled": true
   },
   "outputs": [
    {
     "data": {
      "text/plain": [
       "'Chino 91710'"
      ]
     },
     "execution_count": 10,
     "metadata": {},
     "output_type": "execute_result"
    }
   ],
   "source": [
    "import re\n",
    "\n",
    "zip_code = re.sub(r'[\\u0020\\u00A0\\u2000\\u2001\\u2002\\u2003\\u2004\\u2005\\u2006\\u2007\\u2008\\u2009\\u200a\\u200b\\u200c\\u200d\\u200e\\u200f\\u202f\\u205f\\u2060\\u2061\\u2062\\u2063\\u2064\\u3000\\ufeff ]+', ' ', html.xpath('//span[@id=\"glow-ingress-line2\"]/text()')[0]).strip()\n",
    "\n",
    "zip_code"
   ]
  },
  {
   "cell_type": "code",
   "execution_count": 11,
   "id": "1a33c1bf-f0be-46ff-9fe0-91c89f0aa689",
   "metadata": {},
   "outputs": [
    {
     "data": {
      "text/plain": [
       "'$59.99'"
      ]
     },
     "execution_count": 11,
     "metadata": {},
     "output_type": "execute_result"
    }
   ],
   "source": [
    "price = html.xpath('//span[@class=\"a-offscreen\"]/text()')[0].strip()\n",
    "\n",
    "price"
   ]
  },
  {
   "cell_type": "code",
   "execution_count": 12,
   "id": "213f015d-0d39-47c2-aaa0-d2384e6b6bc2",
   "metadata": {
    "scrolled": true
   },
   "outputs": [
    {
     "data": {
      "text/plain": [
       "{'initial': [{'hiRes': 'https://m.media-amazon.com/images/I/71wmhb446HL._AC_SL1500_.jpg',\n",
       "   'thumb': 'https://m.media-amazon.com/images/I/418HkojPaZL._AC_US40_.jpg',\n",
       "   'large': 'https://m.media-amazon.com/images/I/418HkojPaZL._AC_.jpg',\n",
       "   'main': {'https://m.media-amazon.com/images/I/71wmhb446HL._AC_SY355_.jpg': [355,\n",
       "     355],\n",
       "    'https://m.media-amazon.com/images/I/71wmhb446HL._AC_SY450_.jpg': [450,\n",
       "     450],\n",
       "    'https://m.media-amazon.com/images/I/71wmhb446HL._AC_SX425_.jpg': [425,\n",
       "     425],\n",
       "    'https://m.media-amazon.com/images/I/71wmhb446HL._AC_SX466_.jpg': [466,\n",
       "     466],\n",
       "    'https://m.media-amazon.com/images/I/71wmhb446HL._AC_SX522_.jpg': [522,\n",
       "     522],\n",
       "    'https://m.media-amazon.com/images/I/71wmhb446HL._AC_SX569_.jpg': [569,\n",
       "     569],\n",
       "    'https://m.media-amazon.com/images/I/71wmhb446HL._AC_SX679_.jpg': [679,\n",
       "     679]},\n",
       "   'variant': 'MAIN',\n",
       "   'lowRes': None,\n",
       "   'shoppableScene': None},\n",
       "  {'hiRes': 'https://m.media-amazon.com/images/I/61MmawXIPpL._AC_SL1500_.jpg',\n",
       "   'thumb': 'https://m.media-amazon.com/images/I/41eXu6uYnbL._AC_US40_.jpg',\n",
       "   'large': 'https://m.media-amazon.com/images/I/41eXu6uYnbL._AC_.jpg',\n",
       "   'main': {'https://m.media-amazon.com/images/I/61MmawXIPpL._AC_SY355_.jpg': [355,\n",
       "     355],\n",
       "    'https://m.media-amazon.com/images/I/61MmawXIPpL._AC_SY450_.jpg': [450,\n",
       "     450],\n",
       "    'https://m.media-amazon.com/images/I/61MmawXIPpL._AC_SX425_.jpg': [425,\n",
       "     425],\n",
       "    'https://m.media-amazon.com/images/I/61MmawXIPpL._AC_SX466_.jpg': [466,\n",
       "     466],\n",
       "    'https://m.media-amazon.com/images/I/61MmawXIPpL._AC_SX522_.jpg': [522,\n",
       "     522],\n",
       "    'https://m.media-amazon.com/images/I/61MmawXIPpL._AC_SX569_.jpg': [569,\n",
       "     569],\n",
       "    'https://m.media-amazon.com/images/I/61MmawXIPpL._AC_SX679_.jpg': [679,\n",
       "     679]},\n",
       "   'variant': 'PT01',\n",
       "   'lowRes': None,\n",
       "   'shoppableScene': None},\n",
       "  {'hiRes': 'https://m.media-amazon.com/images/I/61SQ4nZeAsL._AC_SL1500_.jpg',\n",
       "   'thumb': 'https://m.media-amazon.com/images/I/41M73r0sV+L._AC_US40_.jpg',\n",
       "   'large': 'https://m.media-amazon.com/images/I/41M73r0sV+L._AC_.jpg',\n",
       "   'main': {'https://m.media-amazon.com/images/I/61SQ4nZeAsL._AC_SY355_.jpg': [355,\n",
       "     355],\n",
       "    'https://m.media-amazon.com/images/I/61SQ4nZeAsL._AC_SY450_.jpg': [450,\n",
       "     450],\n",
       "    'https://m.media-amazon.com/images/I/61SQ4nZeAsL._AC_SX425_.jpg': [425,\n",
       "     425],\n",
       "    'https://m.media-amazon.com/images/I/61SQ4nZeAsL._AC_SX466_.jpg': [466,\n",
       "     466],\n",
       "    'https://m.media-amazon.com/images/I/61SQ4nZeAsL._AC_SX522_.jpg': [522,\n",
       "     522],\n",
       "    'https://m.media-amazon.com/images/I/61SQ4nZeAsL._AC_SX569_.jpg': [569,\n",
       "     569],\n",
       "    'https://m.media-amazon.com/images/I/61SQ4nZeAsL._AC_SX679_.jpg': [679,\n",
       "     679]},\n",
       "   'variant': 'PT02',\n",
       "   'lowRes': None,\n",
       "   'shoppableScene': None},\n",
       "  {'hiRes': 'https://m.media-amazon.com/images/I/719cpaejDhL._AC_SL1500_.jpg',\n",
       "   'thumb': 'https://m.media-amazon.com/images/I/41drnGl8PZL._AC_US40_.jpg',\n",
       "   'large': 'https://m.media-amazon.com/images/I/41drnGl8PZL._AC_.jpg',\n",
       "   'main': {'https://m.media-amazon.com/images/I/719cpaejDhL._AC_SY355_.jpg': [355,\n",
       "     355],\n",
       "    'https://m.media-amazon.com/images/I/719cpaejDhL._AC_SY450_.jpg': [450,\n",
       "     450],\n",
       "    'https://m.media-amazon.com/images/I/719cpaejDhL._AC_SX425_.jpg': [425,\n",
       "     425],\n",
       "    'https://m.media-amazon.com/images/I/719cpaejDhL._AC_SX466_.jpg': [466,\n",
       "     466],\n",
       "    'https://m.media-amazon.com/images/I/719cpaejDhL._AC_SX522_.jpg': [522,\n",
       "     522],\n",
       "    'https://m.media-amazon.com/images/I/719cpaejDhL._AC_SX569_.jpg': [569,\n",
       "     569],\n",
       "    'https://m.media-amazon.com/images/I/719cpaejDhL._AC_SX679_.jpg': [679,\n",
       "     679]},\n",
       "   'variant': 'PT03',\n",
       "   'lowRes': None,\n",
       "   'shoppableScene': None},\n",
       "  {'hiRes': 'https://m.media-amazon.com/images/I/71F+7vhZHgL._AC_SL1500_.jpg',\n",
       "   'thumb': 'https://m.media-amazon.com/images/I/41Nu-El5sHL._AC_US40_.jpg',\n",
       "   'large': 'https://m.media-amazon.com/images/I/41Nu-El5sHL._AC_.jpg',\n",
       "   'main': {'https://m.media-amazon.com/images/I/71F+7vhZHgL._AC_SY355_.jpg': [355,\n",
       "     355],\n",
       "    'https://m.media-amazon.com/images/I/71F+7vhZHgL._AC_SY450_.jpg': [450,\n",
       "     450],\n",
       "    'https://m.media-amazon.com/images/I/71F+7vhZHgL._AC_SX425_.jpg': [425,\n",
       "     425],\n",
       "    'https://m.media-amazon.com/images/I/71F+7vhZHgL._AC_SX466_.jpg': [466,\n",
       "     466],\n",
       "    'https://m.media-amazon.com/images/I/71F+7vhZHgL._AC_SX522_.jpg': [522,\n",
       "     522],\n",
       "    'https://m.media-amazon.com/images/I/71F+7vhZHgL._AC_SX569_.jpg': [569,\n",
       "     569],\n",
       "    'https://m.media-amazon.com/images/I/71F+7vhZHgL._AC_SX679_.jpg': [679,\n",
       "     679]},\n",
       "   'variant': 'PT04',\n",
       "   'lowRes': None,\n",
       "   'shoppableScene': None},\n",
       "  {'hiRes': 'https://m.media-amazon.com/images/I/71vEvtWLDZL._AC_SL1500_.jpg',\n",
       "   'thumb': 'https://m.media-amazon.com/images/I/41Q3XMnvMEL._AC_US40_.jpg',\n",
       "   'large': 'https://m.media-amazon.com/images/I/41Q3XMnvMEL._AC_.jpg',\n",
       "   'main': {'https://m.media-amazon.com/images/I/71vEvtWLDZL._AC_SY355_.jpg': [355,\n",
       "     355],\n",
       "    'https://m.media-amazon.com/images/I/71vEvtWLDZL._AC_SY450_.jpg': [450,\n",
       "     450],\n",
       "    'https://m.media-amazon.com/images/I/71vEvtWLDZL._AC_SX425_.jpg': [425,\n",
       "     425],\n",
       "    'https://m.media-amazon.com/images/I/71vEvtWLDZL._AC_SX466_.jpg': [466,\n",
       "     466],\n",
       "    'https://m.media-amazon.com/images/I/71vEvtWLDZL._AC_SX522_.jpg': [522,\n",
       "     522],\n",
       "    'https://m.media-amazon.com/images/I/71vEvtWLDZL._AC_SX569_.jpg': [569,\n",
       "     569],\n",
       "    'https://m.media-amazon.com/images/I/71vEvtWLDZL._AC_SX679_.jpg': [679,\n",
       "     679]},\n",
       "   'variant': 'PT05',\n",
       "   'lowRes': None,\n",
       "   'shoppableScene': None},\n",
       "  {'hiRes': 'https://m.media-amazon.com/images/I/71zda1Q0fhL._AC_SL1500_.jpg',\n",
       "   'thumb': 'https://m.media-amazon.com/images/I/51HZlRtydML._AC_US40_.jpg',\n",
       "   'large': 'https://m.media-amazon.com/images/I/51HZlRtydML._AC_.jpg',\n",
       "   'main': {'https://m.media-amazon.com/images/I/71zda1Q0fhL._AC_SY355_.jpg': [355,\n",
       "     355],\n",
       "    'https://m.media-amazon.com/images/I/71zda1Q0fhL._AC_SY450_.jpg': [450,\n",
       "     450],\n",
       "    'https://m.media-amazon.com/images/I/71zda1Q0fhL._AC_SX425_.jpg': [425,\n",
       "     425],\n",
       "    'https://m.media-amazon.com/images/I/71zda1Q0fhL._AC_SX466_.jpg': [466,\n",
       "     466],\n",
       "    'https://m.media-amazon.com/images/I/71zda1Q0fhL._AC_SX522_.jpg': [522,\n",
       "     522],\n",
       "    'https://m.media-amazon.com/images/I/71zda1Q0fhL._AC_SX569_.jpg': [569,\n",
       "     569],\n",
       "    'https://m.media-amazon.com/images/I/71zda1Q0fhL._AC_SX679_.jpg': [679,\n",
       "     679]},\n",
       "   'variant': 'PT06',\n",
       "   'lowRes': None,\n",
       "   'shoppableScene': None},\n",
       "  {'hiRes': 'https://m.media-amazon.com/images/I/71PUp0xK1pL._AC_SL1500_.jpg',\n",
       "   'thumb': 'https://m.media-amazon.com/images/I/41JtiErP6DL._AC_US40_.jpg',\n",
       "   'large': 'https://m.media-amazon.com/images/I/41JtiErP6DL._AC_.jpg',\n",
       "   'main': {'https://m.media-amazon.com/images/I/71PUp0xK1pL._AC_SY355_.jpg': [355,\n",
       "     355],\n",
       "    'https://m.media-amazon.com/images/I/71PUp0xK1pL._AC_SY450_.jpg': [450,\n",
       "     450],\n",
       "    'https://m.media-amazon.com/images/I/71PUp0xK1pL._AC_SX425_.jpg': [425,\n",
       "     425],\n",
       "    'https://m.media-amazon.com/images/I/71PUp0xK1pL._AC_SX466_.jpg': [466,\n",
       "     466],\n",
       "    'https://m.media-amazon.com/images/I/71PUp0xK1pL._AC_SX522_.jpg': [522,\n",
       "     522],\n",
       "    'https://m.media-amazon.com/images/I/71PUp0xK1pL._AC_SX569_.jpg': [569,\n",
       "     569],\n",
       "    'https://m.media-amazon.com/images/I/71PUp0xK1pL._AC_SX679_.jpg': [679,\n",
       "     679]},\n",
       "   'variant': 'PT07',\n",
       "   'lowRes': None,\n",
       "   'shoppableScene': None}]}"
      ]
     },
     "execution_count": 12,
     "metadata": {},
     "output_type": "execute_result"
    }
   ],
   "source": [
    "import json\n",
    "\n",
    "json_ = json.loads('{\"initial\":[{' + resp.text.split('\\'colorImages\\': { \\'initial\\': [{')[1].split('}]},')[0] + '}]}')\n",
    "\n",
    "json_"
   ]
  },
  {
   "cell_type": "code",
   "execution_count": 13,
   "id": "cbcfeb8f-4cdc-462a-9103-8027ec69bfa1",
   "metadata": {},
   "outputs": [
    {
     "data": {
      "text/plain": [
       "{'0': 'https://m.media-amazon.com/images/I/71wmhb446HL._AC_SL1500_.jpg',\n",
       " '1': 'https://m.media-amazon.com/images/I/61MmawXIPpL._AC_SL1500_.jpg',\n",
       " '2': 'https://m.media-amazon.com/images/I/61SQ4nZeAsL._AC_SL1500_.jpg',\n",
       " '3': 'https://m.media-amazon.com/images/I/719cpaejDhL._AC_SL1500_.jpg',\n",
       " '4': 'https://m.media-amazon.com/images/I/71F+7vhZHgL._AC_SL1500_.jpg',\n",
       " '5': 'https://m.media-amazon.com/images/I/71vEvtWLDZL._AC_SL1500_.jpg',\n",
       " '6': 'https://m.media-amazon.com/images/I/71zda1Q0fhL._AC_SL1500_.jpg',\n",
       " '7': 'https://m.media-amazon.com/images/I/71PUp0xK1pL._AC_SL1500_.jpg'}"
      ]
     },
     "execution_count": 13,
     "metadata": {},
     "output_type": "execute_result"
    }
   ],
   "source": [
    "dict_src = {}\n",
    "list_src = [src['hiRes'].strip() if src['hiRes'] else src['large'].strip() for src in json_['initial']]\n",
    "for i, src in zip(range(len(list_src)), list_src):\n",
    "    dict_src[str(i)] = src\n",
    "\n",
    "dict_src"
   ]
  },
  {
   "cell_type": "code",
   "execution_count": 14,
   "id": "988331b2-a4cd-4adb-b66e-4fc20788457b",
   "metadata": {},
   "outputs": [
    {
     "data": {
      "text/plain": [
       "{'0': {'Brand': 'A-Premium'},\n",
       " '1': {'Voltage': '12 Volts'},\n",
       " '2': {'Material': 'Metal,Plastic'},\n",
       " '3': {'Item Weight': '1.54 Pounds'},\n",
       " '4': {'Manufacturer': 'PremiumpartsWhosale'}}"
      ]
     },
     "execution_count": 14,
     "metadata": {},
     "output_type": "execute_result"
    }
   ],
   "source": [
    "dict_overview = {}\n",
    "list_tr = html.xpath('//table[@class=\"a-normal a-spacing-micro\"]/tr')\n",
    "for i, tr in zip(range(len(list_tr)), list_tr):\n",
    "    list_span = [re.sub(r'[\\u0020\\u00A0\\u2000\\u2001\\u2002\\u2003\\u2004\\u2005\\u2006\\u2007\\u2008\\u2009\\u200a\\u200b\\u200c\\u200d\\u200e\\u200f\\u202f\\u205f\\u2060\\u2061\\u2062\\u2063\\u2064\\u3000\\ufeff ]+', ' ', text).strip() for text in tr.xpath('./td/span/text()')]\n",
    "    dict_overview[str(i)] = {list_span[0]: list_span[1]}\n",
    "\n",
    "dict_overview"
   ]
  },
  {
   "cell_type": "code",
   "execution_count": 15,
   "id": "16e456e4-f866-4e71-8165-35e3b6e31bea",
   "metadata": {},
   "outputs": [
    {
     "name": "stdout",
     "output_type": "stream",
     "text": [
      "1. [Vehicle Fitment]: Compatible with Ford Explorer 2011-2017 Sport Utility (Before 2/11/2017) --- No Tilt Function\n",
      "2. [Specifications]: ① Position: (Sunroof) Left or Right; ② Terminal Quantity: 14 Pins; ③ Attachment Type: Screw-in; ④ Electric/Manual: Electric; ⑤ Material: Metal and Plastic; ⑥ Installation Hardware: with 3 Screws; ⑦ Fitment: Direct Replacement\n",
      "3. [Reference Number]: BB5Z15790A, BB5Z15790D, BB5Z-15790-A, BB5Z-15790-D, MM-1147, MM-1038\n",
      "4. [Features]: A-Premium Sunroof Motor is engineered to provide OE fit, form, and function. Being durable and wear-resistant, it ensures strong reliability, coupled with high technology to improve operating efficiency and response speed, and make the air fresh in the car.\n",
      "5. [Buy with Confidence]: A-Premium offers a one-year unlimited-mileage guarantee on our meticulously crafted sunroof motors. We offer a wide variety of automotive accessory categories, ensuring that you can hit the road with peace of mind.\n"
     ]
    }
   ],
   "source": [
    "about = ''\n",
    "list_span = [re.sub(r'[\\u0020\\u00A0\\u2000\\u2001\\u2002\\u2003\\u2004\\u2005\\u2006\\u2007\\u2008\\u2009\\u200a\\u200b\\u200c\\u200d\\u200e\\u200f\\u202f\\u205f\\u2060\\u2061\\u2062\\u2063\\u2064\\u3000\\ufeff ]+', ' ', text).strip() for text in html.xpath('//ul[@class=\"a-unordered-list a-vertical a-spacing-mini\"]/li/span/text()')]\n",
    "for i, span in zip(range(len(list_span)), list_span):\n",
    "    about += f'{i+1}. {span}\\n'\n",
    "\n",
    "print(about.strip())"
   ]
  },
  {
   "cell_type": "code",
   "execution_count": 16,
   "id": "c85a25ff-fc0d-4f91-aace-e311bcd7a1f7",
   "metadata": {
    "scrolled": true
   },
   "outputs": [
    {
     "data": {
      "text/plain": [
       "{'dataInJson': None,\n",
       " 'alwaysIncludeVideo': True,\n",
       " 'autoplayVideo': False,\n",
       " 'defaultColor': 'initial',\n",
       " 'mainImageSizes': [['355', '355'],\n",
       "  ['450', '450'],\n",
       "  ['425', '550'],\n",
       "  ['466', '606'],\n",
       "  ['522', '679'],\n",
       "  ['569', '741'],\n",
       "  ['679', '879']],\n",
       " 'maxAlts': 7,\n",
       " 'altsOnLeft': True,\n",
       " 'productGroupID': 'automotive_display_on_website',\n",
       " 'lazyLoadExperienceDisabled': True,\n",
       " 'lazyLoadExperienceOnHoverDisabled': False,\n",
       " 'useChromelessVideoPlayer': False,\n",
       " 'colorToAsin': {},\n",
       " 'refactorEnabled': True,\n",
       " 'useIV': True,\n",
       " 'tabletWeb': False,\n",
       " 'views': ['ImageBlockMagnifierView',\n",
       "  'ImageBlockAltImageView',\n",
       "  'ImageBlockVideoView',\n",
       "  'ImageBlockTwisterView',\n",
       "  'ImageBlockImmersiveViewImages',\n",
       "  'ImageBlockImmersiveViewVideos',\n",
       "  'ImageBlockImmersiveViewDimensionIngress',\n",
       "  'ImageBlockImmersiveViewShowroom',\n",
       "  'ImageBlockImmersiveView360',\n",
       "  'ImageBlockTabbedImmersiveView',\n",
       "  'ImageBlockShoppableSceneView'],\n",
       " 'enhancedHoverOverlay': False,\n",
       " 'landingAsinColor': 'initial',\n",
       " 'colorImages': {},\n",
       " 'heroImages': {},\n",
       " 'enable360Map': {},\n",
       " 'staticImages': {'hoverZoomIcon': 'https://m.media-amazon.com/images/G/01/img11/apparel/UX/DP/icon_zoom._CB485946671_.png',\n",
       "  'shoppableSceneViewProductsButton': 'https://m.media-amazon.com/images/G/01/shopbylook/shoppable-images/view_products._CB427832024_.svg',\n",
       "  'zoomLensBackground': 'https://m.media-amazon.com/images/G/01/apparel/rcxgs/tile._CB483369110_.gif',\n",
       "  'shoppableSceneDotHighlighted': 'https://m.media-amazon.com/images/G/01/shopbylook/shoppable-images/dot_highlighted._CB649293510_.svg',\n",
       "  'zoomInCur': 'https://m.media-amazon.com/images/G/01/detail-page/cursors/zoomIn._CB485921866_.cur',\n",
       "  'shoppableSceneSideSheetClose': 'https://m.media-amazon.com/images/G/01/shopbylook/shoppable-images/close_x_white._CB404688921_.png',\n",
       "  'shoppableSceneBackToTopArrow': 'https://m.media-amazon.com/images/G/01/shopbylook/shoppable-images/back_to_top_arrow._CB427936690_.svg',\n",
       "  'arrow': 'https://m.media-amazon.com/images/G/01/javascripts/lib/popover/images/light/sprite-vertical-popover-arrow._CB485933082_.png',\n",
       "  'icon360V2': 'https://m.media-amazon.com/images/G/01/HomeCustomProduct/imageBlock-360-thumbnail-icon-small._CB612115888_.png',\n",
       "  'zoomIn': 'https://m.media-amazon.com/images/G/01/detail-page/cursors/zoom-in._CB485944643_.bmp',\n",
       "  'zoomOut': 'https://m.media-amazon.com/images/G/01/detail-page/cursors/zoom-out._CB485943857_.bmp',\n",
       "  'videoThumbIcon': 'https://m.media-amazon.com/images/G/01/Quarterdeck/en_US/images/video._CB485935537_SS40_.gif',\n",
       "  'spinnerNoLabel': 'https://m.media-amazon.com/images/G/01/ui/loadIndicators/loading-large._CB485945288_.gif',\n",
       "  'zoomOutCur': 'https://m.media-amazon.com/images/G/01/detail-page/cursors/zoomOut._CB485921725_.cur',\n",
       "  'videoSWFPath': 'https://m.media-amazon.com/images/G/01/Quarterdeck/en_US/video/20110518115040892/Video._CB485981003_.swf',\n",
       "  'grabbing': 'https://m.media-amazon.com/images/G/01/HomeCustomProduct/grabbingbox._CB485943551_.cur',\n",
       "  'shoppableSceneDot': 'https://m.media-amazon.com/images/G/01/shopbylook/shoppable-images/dot._CB649293510_.svg',\n",
       "  'icon360': 'https://m.media-amazon.com/images/G/01/HomeCustomProduct/360_icon_73x73v2._CB485971279_SS40_.png',\n",
       "  'grab': 'https://m.media-amazon.com/images/G/01/HomeCustomProduct/grabbox._CB485922675_.cur',\n",
       "  'spinner': 'https://m.media-amazon.com/images/G/01/ui/loadIndicators/loading-large_labeled._CB485921664_.gif'},\n",
       " 'staticStrings': {'dragToSpin': 'Drag to Spin',\n",
       "  'videos': 'Videos',\n",
       "  'video': 'video',\n",
       "  'shoppableSceneTabsTitleT3': 'Shop the collection',\n",
       "  'shoppableSceneTabsTitle': 'Shop similar items',\n",
       "  'shoppableSceneTabsTitleT2': 'Shop this style ',\n",
       "  'rollOverToZoom': 'Roll over image to zoom in',\n",
       "  'singleVideo': 'VIDEO',\n",
       "  'clickSceneTagsToShopProducts': 'Click the dots to see similar items',\n",
       "  'close': 'Close',\n",
       "  'shoppableSceneViewProductsButton': 'Shop similar items',\n",
       "  'images': 'Images',\n",
       "  'watchMoreVideos': 'Click to see more videos',\n",
       "  'shoppableSceneViewProductsButtonT2': 'Shop this style ',\n",
       "  'shoppableSceneViewProductsButtonT1': 'Shop the look',\n",
       "  'shoppableSceneViewProductsButtonT3': 'Shop the collection',\n",
       "  'allMedia': 'All Media',\n",
       "  'clickToExpand': 'Click image to open expanded view',\n",
       "  'shoppableSceneTabsTitleT1': 'Shop the look',\n",
       "  'playVideo': 'Click to play video',\n",
       "  'shoppableSceneNoSuggestions': 'No results available',\n",
       "  'touchToZoom': 'Touch the image to zoom in',\n",
       "  'multipleVideos': 'VIDEOS',\n",
       "  'shoppableSceneSeeMoreString': 'See more',\n",
       "  'pleaseSelect': 'Please select',\n",
       "  'clickToZoom': 'Click on image to zoom in'},\n",
       " 'useChildVideos': True,\n",
       " 'useClickZoom': False,\n",
       " 'useHoverZoom': True,\n",
       " 'useHoverZoomIpad': False,\n",
       " 'visualDimensions': [],\n",
       " 'mainImageHeightPartitions': None,\n",
       " 'mainImageMaxSizes': None,\n",
       " 'heroFocalPoint': None,\n",
       " 'showMagnifierOnHover': False,\n",
       " 'disableHoverOnAltImages': False,\n",
       " 'overrideAltImageClickAction': False,\n",
       " 'naturalMainImageSize': None,\n",
       " 'imgTagWrapperClasses': None,\n",
       " 'prioritizeVideos': False,\n",
       " 'usePeekHover': False,\n",
       " 'fadeMagnifier': False,\n",
       " 'repositionHeroImage': False,\n",
       " 'heroVideoVariant': None,\n",
       " 'videos': [{'creatorProfile': {},\n",
       "   'groupType': 'IB_G1',\n",
       "   'aciContentId': 'amzn1.vse.video.08f1fb6654d54d6e9b790ce01a62c3b7',\n",
       "   'offset': '0',\n",
       "   'thumb': 'https://m.media-amazon.com/images/I/81F+wTli-4L.SS40_BG85,85,85_BR-120_PKdp-play-icon-overlay__.jpg',\n",
       "   'durationSeconds': 75,\n",
       "   'marketPlaceID': 'ATVPDKIKX0DER',\n",
       "   'isVideo': True,\n",
       "   'isHeroVideo': False,\n",
       "   'title': 'A-Premium Sunroof Roof Motor Compatible with Ford Explorer',\n",
       "   'languageCode': 'en_US',\n",
       "   'holderId': 'holder08f1fb6654d54d6e9b790ce01a62c3b7',\n",
       "   'url': 'https://m.media-amazon.com/images/S/vse-vms-transcoding-artifact-us-east-1-prod/299c5db7-3ee9-4d75-b04e-3cf12df67127/default.jobtemplate.mp4.480.mp4',\n",
       "   'videoHeight': '480',\n",
       "   'videoWidth': '854',\n",
       "   'durationTimestamp': '01:15',\n",
       "   'rankingStrategy': 'DEFAULT',\n",
       "   'slateUrl': 'https://m.media-amazon.com/images/I/81F+wTli-4L.SX522_.jpg',\n",
       "   'minimumAge': 0,\n",
       "   'variant': 'MAIN',\n",
       "   'slateHash': {'extension': 'jpg',\n",
       "    'physicalID': None,\n",
       "    'width': '1280',\n",
       "    'height': '720'},\n",
       "   'mediaObjectId': '08f1fb6654d54d6e9b790ce01a62c3b7',\n",
       "   'thumbUrl': 'https://m.media-amazon.com/images/I/81F+wTli-4L.SS40_BG85,85,85_BR-120_PKdp-play-icon-overlay__.jpg'}],\n",
       " 'title': 'A-Premium Sunroof Moon Roof Motor Compatible with Ford Explorer 2011-2017 Sport Utility BB5Z15790A Left or Right',\n",
       " 'airyConfigEnabled': False,\n",
       " 'airyConfig': None,\n",
       " 'vseVideoDataSourceTreatment': 'T1',\n",
       " 'mediaAsin': 'B08W98H7H7',\n",
       " 'parentAsin': 'B08W98H7H7',\n",
       " 'largeSCLVideoThumbnail': False,\n",
       " 'displayVideoBanner': False,\n",
       " 'useVSEVideos': True,\n",
       " 'notShowVideoCount': False,\n",
       " 'enableS2WithoutS1': False,\n",
       " 'useTabbedImmersiveView': True,\n",
       " 'dpRequestId': 'V2MYH4N5NRPYBK5PNP9B',\n",
       " 'contentWeblab': '',\n",
       " 'contentWeblabTreatment': '',\n",
       " 'dp60VideoThumbMap': None,\n",
       " 'videoBackgroundChromefulMainView': 'black'}"
      ]
     },
     "execution_count": 16,
     "metadata": {},
     "output_type": "execute_result"
    }
   ],
   "source": [
    "json_ = json.loads(resp.text.split('jQuery.parseJSON(\\'')[1].split('}\\');')[0] + '}')\n",
    "\n",
    "json_"
   ]
  },
  {
   "cell_type": "code",
   "execution_count": 17,
   "id": "34cc7c0c-4430-4dbf-82d2-03819ed4178d",
   "metadata": {},
   "outputs": [
    {
     "data": {
      "text/plain": [
       "'A-Premium Sunroof Moon Roof Motor Compatible with Ford Explorer 2011-2017 Sport Utility BB5Z15790A Left or Right'"
      ]
     },
     "execution_count": 17,
     "metadata": {},
     "output_type": "execute_result"
    }
   ],
   "source": [
    "title = re.sub(r'[\\u0020\\u00A0\\u2000\\u2001\\u2002\\u2003\\u2004\\u2005\\u2006\\u2007\\u2008\\u2009\\u200a\\u200b\\u200c\\u200d\\u200e\\u200f\\u202f\\u205f\\u2060\\u2061\\u2062\\u2063\\u2064\\u3000\\ufeff ]+', ' ', json_['title']).strip()\n",
    "\n",
    "title"
   ]
  },
  {
   "cell_type": "code",
   "execution_count": 18,
   "id": "739a8f9a-aa42-4561-a8d4-e6480dda4ea5",
   "metadata": {
    "scrolled": true
   },
   "outputs": [
    {
     "data": {
      "text/plain": [
       "'B08W98H7H7'"
      ]
     },
     "execution_count": 18,
     "metadata": {},
     "output_type": "execute_result"
    }
   ],
   "source": [
    "parent_asin = json_['parentAsin'].strip()\n",
    "\n",
    "parent_asin"
   ]
  },
  {
   "cell_type": "code",
   "execution_count": 19,
   "id": "b5a6d82c-4516-47b1-8acc-d57efdc36942",
   "metadata": {},
   "outputs": [
    {
     "data": {
      "text/plain": [
       "{'0': {'Manufacturer': 'PremiumpartsWhosale'},\n",
       " '1': {'Brand': 'A-Premium'},\n",
       " '2': {'Item Weight': '1.54 pounds'},\n",
       " '3': {'Package Dimensions': '7.8 x 4.84 x 2.13 inches'},\n",
       " '4': {'Item model number': 'Compatible with Ford'},\n",
       " '5': {'Manufacturer Part Number': 'APSRM001'},\n",
       " '6': {'OEM Part Number': 'BB5Z15790A, BB5Z15790D, BB5Z-15790-A, BB5Z-15790-D, MM-1147, MM-1038'},\n",
       " '7': {'Voltage': '12 Volts'}}"
      ]
     },
     "execution_count": 19,
     "metadata": {},
     "output_type": "execute_result"
    }
   ],
   "source": [
    "dict_detail = {}\n",
    "list_tr = html.xpath('//table[@id=\"productDetails_techSpec_section_1\"]/tr')\n",
    "for i, tr in zip(range(len(list_tr)), list_tr):\n",
    "    dict_detail[str(i)] = {re.sub(r'[\\u0020\\u00A0\\u2000\\u2001\\u2002\\u2003\\u2004\\u2005\\u2006\\u2007\\u2008\\u2009\\u200a\\u200b\\u200c\\u200d\\u200e\\u200f\\u202f\\u205f\\u2060\\u2061\\u2062\\u2063\\u2064\\u3000\\ufeff ]+', ' ', tr.xpath('./th/text()')[0]).strip(): re.sub(r'[\\u0020\\u00A0\\u2000\\u2001\\u2002\\u2003\\u2004\\u2005\\u2006\\u2007\\u2008\\u2009\\u200a\\u200b\\u200c\\u200d\\u200e\\u200f\\u202f\\u205f\\u2060\\u2061\\u2062\\u2063\\u2064\\u3000\\ufeff ]+', ' ', tr.xpath('./td/text()')[0]).strip()}\n",
    "\n",
    "dict_detail"
   ]
  },
  {
   "cell_type": "code",
   "execution_count": 20,
   "id": "52503fc9-eb79-44a3-9589-165d031978da",
   "metadata": {},
   "outputs": [
    {
     "data": {
      "text/plain": [
       "{'0': {'ASIN': 'B08W98H7H7'},\n",
       " '1': {'Customer Reviews': {'0': '4.0 out of 5 stars', '1': '217 ratings'}},\n",
       " '2': {'Best Sellers Rank': {'0': {'#26,703 in Automotive': 'https://www.amazon.com/gp/bestsellers/automotive/ref=pd_zg_ts_automotive'},\n",
       "   '1': {'#1 in Automotive Replacement Sun Roof Motors': 'https://www.amazon.com/gp/bestsellers/automotive/15730511/ref=pd_zg_hrsr_automotive'}}},\n",
       " '3': {'Date First Available': 'February 8, 2021'}}"
      ]
     },
     "execution_count": 20,
     "metadata": {},
     "output_type": "execute_result"
    }
   ],
   "source": [
    "dict_information = {}\n",
    "list_tr = html.xpath('//table[@id=\"productDetails_detailBullets_sections1\"]/tr')\n",
    "for i, tr in zip(range(len(list_tr)), list_tr):\n",
    "    th = re.sub(r'[\\u0020\\u00A0\\u2000\\u2001\\u2002\\u2003\\u2004\\u2005\\u2006\\u2007\\u2008\\u2009\\u200a\\u200b\\u200c\\u200d\\u200e\\u200f\\u202f\\u205f\\u2060\\u2061\\u2062\\u2063\\u2064\\u3000\\ufeff ]+', ' ', tr.xpath('./th/text()')[0]).strip()\n",
    "    if th == 'Customer Reviews':\n",
    "        dict_information[str(i)] = {th: {}}\n",
    "        dict_information[str(i)][th]['0'] = tr.xpath('./td/div/span[@data-action=\"acrStarsLink-click-metrics\"]/span/@title')[0].strip()\n",
    "        dict_information[str(i)][th]['1'] = tr.xpath('./td/div/span[@data-action=\"acrLink-click-metrics\"]/a/span/text()')[0].strip()\n",
    "    elif th == 'Best Sellers Rank':\n",
    "        dict_information[str(i)] = {th: {}}\n",
    "        list_span = [etree.tostring(span).decode('utf-8') for span in tr.xpath('./td/span/span')]\n",
    "        list_span = [re.sub(r'<.*?>|\\(.*?\\)', '', span).strip() for span in list_span]\n",
    "        list_href = [f'https://www.amazon.com{href.strip()}' for href in tr.xpath('./td/span/span/a/@href')]\n",
    "        for j, span, href in zip(range(len(list_span)), list_span, list_href):\n",
    "            dict_information[str(i)][th][str(j)] = {span: href}\n",
    "    else:\n",
    "        dict_information[str(i)] = {th: re.sub(r'[\\u0020\\u00A0\\u2000\\u2001\\u2002\\u2003\\u2004\\u2005\\u2006\\u2007\\u2008\\u2009\\u200a\\u200b\\u200c\\u200d\\u200e\\u200f\\u202f\\u205f\\u2060\\u2061\\u2062\\u2063\\u2064\\u3000\\ufeff ]+', ' ', tr.xpath('./td/text()')[0]).strip()}\n",
    "\n",
    "dict_information"
   ]
  },
  {
   "cell_type": "code",
   "execution_count": 21,
   "id": "267cc7e9-ae91-4d0f-be64-8674ae2c3287",
   "metadata": {},
   "outputs": [
    {
     "data": {
      "text/plain": [
       "{}"
      ]
     },
     "execution_count": 21,
     "metadata": {},
     "output_type": "execute_result"
    }
   ],
   "source": [
    "dict_detail_2 = {}\n",
    "list_span = html.xpath('//div[@id=\"detailBulletsWrapper_feature_div\"]/div[@id=\"detailBullets_feature_div\"]/ul/li/span')\n",
    "for i, span in zip(range(len(list_span)), list_span):\n",
    "    key = re.sub(r'[\\u0020\\u00A0\\u2000\\u2001\\u2002\\u2003\\u2004\\u2005\\u2006\\u2007\\u2008\\u2009\\u200a\\u200b\\u200c\\u200d\\u200e\\u200f\\u202f\\u205f\\u2060\\u2061\\u2062\\u2063\\u2064\\u3000\\ufeff ]+', ' ', span.xpath('./span/text()')[0]).strip()\n",
    "    dict_detail_2[str(i)] = {key[:-1].strip() if key.endswith(':') else key: re.sub(r'[\\u0020\\u00A0\\u2000\\u2001\\u2002\\u2003\\u2004\\u2005\\u2006\\u2007\\u2008\\u2009\\u200a\\u200b\\u200c\\u200d\\u200e\\u200f\\u202f\\u205f\\u2060\\u2061\\u2062\\u2063\\u2064\\u3000\\ufeff ]+', ' ', span.xpath('./span/text()')[1]).strip()}\n",
    "\n",
    "dict_detail_2"
   ]
  },
  {
   "cell_type": "code",
   "execution_count": 22,
   "id": "3b711195-2bb4-4a68-8606-d761a59a60d3",
   "metadata": {},
   "outputs": [
    {
     "data": {
      "text/plain": [
       "{}"
      ]
     },
     "execution_count": 22,
     "metadata": {},
     "output_type": "execute_result"
    }
   ],
   "source": [
    "dict_information_2 = {}\n",
    "list_span = html.xpath('//div[@id=\"detailBulletsWrapper_feature_div\"]/ul[@class=\"a-unordered-list a-nostyle a-vertical a-spacing-none detail-bullet-list\"]/li/span')\n",
    "for i, span in zip(range(len(list_span)), list_span):\n",
    "    key = re.sub(r'[\\u0020\\u00A0\\u2000\\u2001\\u2002\\u2003\\u2004\\u2005\\u2006\\u2007\\u2008\\u2009\\u200a\\u200b\\u200c\\u200d\\u200e\\u200f\\u202f\\u205f\\u2060\\u2061\\u2062\\u2063\\u2064\\u3000\\ufeff ]+', ' ', span.xpath('./span/text()')[0]).strip()\n",
    "    key = key[:-1].strip() if key.endswith(':') else key\n",
    "    if key == 'Customer Reviews':\n",
    "        dict_information_2[str(i)] = {key: {}}\n",
    "        dict_information_2[str(i)][key]['0'] = span.xpath('./div/span[@data-action=\"acrStarsLink-click-metrics\"]/span/@title')[0].strip()\n",
    "        dict_information_2[str(i)][key]['1'] = span.xpath('./div/span[@data-action=\"acrLink-click-metrics\"]/a/span/text()')[0].strip()\n",
    "    elif key == 'Best Sellers Rank':\n",
    "        dict_information_2[str(i)] = {key: {}}\n",
    "        list_span_2 = [etree.tostring(span_2).decode('utf-8') for span_2 in span.xpath('./descendant-or-self::span[@class=\"a-list-item\"]')]\n",
    "        list_span_2 = [re.sub(r'<ul.*?</ul>|<span.*?Best Sellers Rank.*?</span>|<.*?>|\\(.*?\\)', '', span_2).strip() for span_2 in list_span_2]\n",
    "        list_href = [f'https://www.amazon.com{href.strip()}' for href in span.xpath('./descendant-or-self::a/@href')]\n",
    "        for j, span_2, href in zip(range(len(list_span_2)), list_span_2, list_href):\n",
    "            dict_information_2[str(i)][key][str(j)] = {span_2: href}\n",
    "    else:\n",
    "        print('fuck')\n",
    "\n",
    "dict_information_2"
   ]
  },
  {
   "cell_type": "code",
   "execution_count": 23,
   "id": "183d7af1-1320-43b1-b87a-6ee674417f2a",
   "metadata": {},
   "outputs": [
    {
     "data": {
      "text/plain": [
       "False"
      ]
     },
     "execution_count": 23,
     "metadata": {},
     "output_type": "execute_result"
    }
   ],
   "source": [
    "not dict_detail == {} and not dict_detail_2 == {} and not dict_information == {} and not dict_information_2 == {}"
   ]
  },
  {
   "cell_type": "code",
   "execution_count": 24,
   "id": "96f1239b-50f9-42d4-b879-831dc05deb48",
   "metadata": {
    "scrolled": true
   },
   "outputs": [
    {
     "data": {
      "text/html": [
       "<div>\n",
       "<style scoped>\n",
       "    .dataframe tbody tr th:only-of-type {\n",
       "        vertical-align: middle;\n",
       "    }\n",
       "\n",
       "    .dataframe tbody tr th {\n",
       "        vertical-align: top;\n",
       "    }\n",
       "\n",
       "    .dataframe thead th {\n",
       "        text-align: right;\n",
       "    }\n",
       "</style>\n",
       "<table border=\"1\" class=\"dataframe\">\n",
       "  <thead>\n",
       "    <tr style=\"text-align: right;\">\n",
       "      <th></th>\n",
       "      <th>No</th>\n",
       "      <th>ASIN</th>\n",
       "      <th>Parent ASIN</th>\n",
       "      <th>Title</th>\n",
       "      <th>ZIP Code</th>\n",
       "      <th>Price</th>\n",
       "      <th>About</th>\n",
       "      <th>Picture</th>\n",
       "      <th>Url</th>\n",
       "      <th>Json_Src</th>\n",
       "      <th>Json_Overview</th>\n",
       "      <th>Json_Detail 1</th>\n",
       "      <th>Json_Detail 2</th>\n",
       "      <th>Json_Information 1</th>\n",
       "      <th>Json_Information 2</th>\n",
       "    </tr>\n",
       "  </thead>\n",
       "  <tbody>\n",
       "    <tr>\n",
       "      <th>0</th>\n",
       "      <td>1</td>\n",
       "      <td>B08W98H7H7</td>\n",
       "      <td>B08W98H7H7</td>\n",
       "      <td>A-Premium Sunroof Moon Roof Motor Compatible w...</td>\n",
       "      <td>Chino 91710</td>\n",
       "      <td>$59.99</td>\n",
       "      <td>1. [Vehicle Fitment]: Compatible with Ford Exp...</td>\n",
       "      <td></td>\n",
       "      <td>https://www.amazon.com/dp/B08W98H7H7?language=...</td>\n",
       "      <td>{\"0\": \"https://m.media-amazon.com/images/I/71w...</td>\n",
       "      <td>{\"0\": {\"Brand\": \"A-Premium\"}, \"1\": {\"Voltage\":...</td>\n",
       "      <td>{\"0\": {\"Manufacturer\": \"PremiumpartsWhosale\"},...</td>\n",
       "      <td>{}</td>\n",
       "      <td>{\"0\": {\"ASIN\": \"B08W98H7H7\"}, \"1\": {\"Customer ...</td>\n",
       "      <td>{}</td>\n",
       "    </tr>\n",
       "  </tbody>\n",
       "</table>\n",
       "</div>"
      ],
      "text/plain": [
       "   No        ASIN Parent ASIN  \\\n",
       "0   1  B08W98H7H7  B08W98H7H7   \n",
       "\n",
       "                                               Title     ZIP Code   Price  \\\n",
       "0  A-Premium Sunroof Moon Roof Motor Compatible w...  Chino 91710  $59.99   \n",
       "\n",
       "                                               About Picture  \\\n",
       "0  1. [Vehicle Fitment]: Compatible with Ford Exp...           \n",
       "\n",
       "                                                 Url  \\\n",
       "0  https://www.amazon.com/dp/B08W98H7H7?language=...   \n",
       "\n",
       "                                            Json_Src  \\\n",
       "0  {\"0\": \"https://m.media-amazon.com/images/I/71w...   \n",
       "\n",
       "                                       Json_Overview  \\\n",
       "0  {\"0\": {\"Brand\": \"A-Premium\"}, \"1\": {\"Voltage\":...   \n",
       "\n",
       "                                       Json_Detail 1 Json_Detail 2  \\\n",
       "0  {\"0\": {\"Manufacturer\": \"PremiumpartsWhosale\"},...            {}   \n",
       "\n",
       "                                  Json_Information 1 Json_Information 2  \n",
       "0  {\"0\": {\"ASIN\": \"B08W98H7H7\"}, \"1\": {\"Customer ...                 {}  "
      ]
     },
     "execution_count": 24,
     "metadata": {},
     "output_type": "execute_result"
    }
   ],
   "source": [
    "df_temp = pd.DataFrame([{'No': input_.loc[a, 'No'],\n",
    "                         'ASIN': input_.loc[a, 'ASIN'],\n",
    "                         'Parent ASIN': parent_asin,\n",
    "                         'Title': title,\n",
    "                         'ZIP Code': zip_code,\n",
    "                         'Price': price,\n",
    "                         'About': about.strip(),\n",
    "                         'Picture': '',\n",
    "                         'Url': url,\n",
    "                         'Json_Src': json.dumps(dict_src),\n",
    "                         'Json_Overview': json.dumps(dict_overview),\n",
    "                         'Json_Detail 1': json.dumps(dict_detail),\n",
    "                         'Json_Detail 2': json.dumps(dict_detail_2),\n",
    "                         'Json_Information 1': json.dumps(dict_information),\n",
    "                         'Json_Information 2': json.dumps(dict_information_2)}])\n",
    "\n",
    "output_correct = pd.concat([output_correct, df_temp], ignore_index=True).fillna('')\n",
    "\n",
    "output_correct"
   ]
  },
  {
   "cell_type": "code",
   "execution_count": 25,
   "id": "fc4ed7f6-ed4f-431c-b944-b1690309cdae",
   "metadata": {},
   "outputs": [
    {
     "data": {
      "text/plain": [
       "'ok'"
      ]
     },
     "execution_count": 25,
     "metadata": {},
     "output_type": "execute_result"
    }
   ],
   "source": [
    "crawler_status = 'ok'\n",
    "\n",
    "crawler_status"
   ]
  },
  {
   "cell_type": "code",
   "execution_count": 26,
   "id": "65c745d1-446e-46c5-9dec-819c9f7944d3",
   "metadata": {},
   "outputs": [
    {
     "data": {
      "text/html": [
       "<div>\n",
       "<style scoped>\n",
       "    .dataframe tbody tr th:only-of-type {\n",
       "        vertical-align: middle;\n",
       "    }\n",
       "\n",
       "    .dataframe tbody tr th {\n",
       "        vertical-align: top;\n",
       "    }\n",
       "\n",
       "    .dataframe thead th {\n",
       "        text-align: right;\n",
       "    }\n",
       "</style>\n",
       "<table border=\"1\" class=\"dataframe\">\n",
       "  <thead>\n",
       "    <tr style=\"text-align: right;\">\n",
       "      <th></th>\n",
       "    </tr>\n",
       "  </thead>\n",
       "  <tbody>\n",
       "  </tbody>\n",
       "</table>\n",
       "</div>"
      ],
      "text/plain": [
       "Empty DataFrame\n",
       "Columns: []\n",
       "Index: []"
      ]
     },
     "execution_count": 26,
     "metadata": {},
     "output_type": "execute_result"
    }
   ],
   "source": [
    "if crawler_status == 'error':\n",
    "    df_temp = pd.DataFrame([{'Market': input_.loc[a, 'Market'],\n",
    "                             'Page': input_.loc[a, 'Page'],\n",
    "                             'Page Url': input_.loc[a, 'Page Url'],\n",
    "                             'No': input_.loc[a, 'No'],\n",
    "                             'ASIN': input_.loc[a, 'ASIN']}])\n",
    "\n",
    "    output_error = pd.concat([output_error, df_temp], ignore_index=True).fillna('')\n",
    "\n",
    "output_error"
   ]
  },
  {
   "cell_type": "code",
   "execution_count": 27,
   "id": "7fd477de",
   "metadata": {},
   "outputs": [
    {
     "data": {
      "text/html": [
       "<div>\n",
       "<style scoped>\n",
       "    .dataframe tbody tr th:only-of-type {\n",
       "        vertical-align: middle;\n",
       "    }\n",
       "\n",
       "    .dataframe tbody tr th {\n",
       "        vertical-align: top;\n",
       "    }\n",
       "\n",
       "    .dataframe thead th {\n",
       "        text-align: right;\n",
       "    }\n",
       "</style>\n",
       "<table border=\"1\" class=\"dataframe\">\n",
       "  <thead>\n",
       "    <tr style=\"text-align: right;\">\n",
       "      <th></th>\n",
       "      <th>No</th>\n",
       "      <th>ASIN</th>\n",
       "      <th>Parent ASIN</th>\n",
       "      <th>Title</th>\n",
       "      <th>ZIP Code</th>\n",
       "      <th>Price</th>\n",
       "      <th>About</th>\n",
       "      <th>Picture</th>\n",
       "      <th>Url</th>\n",
       "      <th>Json_Src</th>\n",
       "      <th>Json_Overview</th>\n",
       "      <th>Json_Detail 1</th>\n",
       "      <th>Json_Detail 2</th>\n",
       "      <th>Json_Information 1</th>\n",
       "      <th>Json_Information 2</th>\n",
       "    </tr>\n",
       "  </thead>\n",
       "  <tbody>\n",
       "    <tr>\n",
       "      <th>0</th>\n",
       "      <td>1</td>\n",
       "      <td>B08W98H7H7</td>\n",
       "      <td>B08W98H7H7</td>\n",
       "      <td>A-Premium Sunroof Moon Roof Motor Compatible w...</td>\n",
       "      <td>Chino 91710</td>\n",
       "      <td>$59.99</td>\n",
       "      <td>1. [Vehicle Fitment]: Compatible with Ford Exp...</td>\n",
       "      <td></td>\n",
       "      <td>https://www.amazon.com/dp/B08W98H7H7?language=...</td>\n",
       "      <td>{\"0\": \"https://m.media-amazon.com/images/I/71w...</td>\n",
       "      <td>{\"0\": {\"Brand\": \"A-Premium\"}, \"1\": {\"Voltage\":...</td>\n",
       "      <td>{\"0\": {\"Manufacturer\": \"PremiumpartsWhosale\"},...</td>\n",
       "      <td>{}</td>\n",
       "      <td>{\"0\": {\"ASIN\": \"B08W98H7H7\"}, \"1\": {\"Customer ...</td>\n",
       "      <td>{}</td>\n",
       "    </tr>\n",
       "  </tbody>\n",
       "</table>\n",
       "</div>"
      ],
      "text/plain": [
       "   No        ASIN Parent ASIN  \\\n",
       "0   1  B08W98H7H7  B08W98H7H7   \n",
       "\n",
       "                                               Title     ZIP Code   Price  \\\n",
       "0  A-Premium Sunroof Moon Roof Motor Compatible w...  Chino 91710  $59.99   \n",
       "\n",
       "                                               About Picture  \\\n",
       "0  1. [Vehicle Fitment]: Compatible with Ford Exp...           \n",
       "\n",
       "                                                 Url  \\\n",
       "0  https://www.amazon.com/dp/B08W98H7H7?language=...   \n",
       "\n",
       "                                            Json_Src  \\\n",
       "0  {\"0\": \"https://m.media-amazon.com/images/I/71w...   \n",
       "\n",
       "                                       Json_Overview  \\\n",
       "0  {\"0\": {\"Brand\": \"A-Premium\"}, \"1\": {\"Voltage\":...   \n",
       "\n",
       "                                       Json_Detail 1 Json_Detail 2  \\\n",
       "0  {\"0\": {\"Manufacturer\": \"PremiumpartsWhosale\"},...            {}   \n",
       "\n",
       "                                  Json_Information 1 Json_Information 2  \n",
       "0  {\"0\": {\"ASIN\": \"B08W98H7H7\"}, \"1\": {\"Customer ...                 {}  "
      ]
     },
     "execution_count": 27,
     "metadata": {},
     "output_type": "execute_result"
    }
   ],
   "source": [
    "if not output_correct.empty:\n",
    "    output_correct = output_correct.sort_values(by=['No'],\n",
    "                                                ascending=[True],\n",
    "                                                ignore_index=True)\n",
    "    output_correct.to_excel('./test_part.xlsx', index=False)\n",
    "\n",
    "output_correct"
   ]
  },
  {
   "cell_type": "code",
   "execution_count": 28,
   "id": "39a5441b-7f69-4812-aad8-7e10a1a24e78",
   "metadata": {},
   "outputs": [
    {
     "data": {
      "text/html": [
       "<div>\n",
       "<style scoped>\n",
       "    .dataframe tbody tr th:only-of-type {\n",
       "        vertical-align: middle;\n",
       "    }\n",
       "\n",
       "    .dataframe tbody tr th {\n",
       "        vertical-align: top;\n",
       "    }\n",
       "\n",
       "    .dataframe thead th {\n",
       "        text-align: right;\n",
       "    }\n",
       "</style>\n",
       "<table border=\"1\" class=\"dataframe\">\n",
       "  <thead>\n",
       "    <tr style=\"text-align: right;\">\n",
       "      <th></th>\n",
       "    </tr>\n",
       "  </thead>\n",
       "  <tbody>\n",
       "  </tbody>\n",
       "</table>\n",
       "</div>"
      ],
      "text/plain": [
       "Empty DataFrame\n",
       "Columns: []\n",
       "Index: []"
      ]
     },
     "execution_count": 28,
     "metadata": {},
     "output_type": "execute_result"
    }
   ],
   "source": [
    "if not output_error.empty:\n",
    "    output_error = output_error.sort_values(by=['No'],\n",
    "                                            ascending=[True],\n",
    "                                            ignore_index=True)\n",
    "    output_error.to_excel('./test_part_error.xlsx', index=False)\n",
    "\n",
    "output_error"
   ]
  },
  {
   "cell_type": "code",
   "execution_count": null,
   "id": "ba5d9f77-7464-4ad5-a42b-1fa0c0505832",
   "metadata": {},
   "outputs": [],
   "source": []
  }
 ],
 "metadata": {
  "kernelspec": {
   "display_name": "Python 3 (ipykernel)",
   "language": "python",
   "name": "python3"
  },
  "language_info": {
   "codemirror_mode": {
    "name": "ipython",
    "version": 3
   },
   "file_extension": ".py",
   "mimetype": "text/x-python",
   "name": "python",
   "nbconvert_exporter": "python",
   "pygments_lexer": "ipython3",
   "version": "3.11.3"
  }
 },
 "nbformat": 4,
 "nbformat_minor": 5
}
