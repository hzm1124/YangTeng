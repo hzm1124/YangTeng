{
 "cells": [
  {
   "cell_type": "code",
   "execution_count": 1,
   "id": "14ca4672",
   "metadata": {},
   "outputs": [],
   "source": [
    "import os"
   ]
  },
  {
   "cell_type": "code",
   "execution_count": 2,
   "id": "a3369d1a",
   "metadata": {},
   "outputs": [
    {
     "data": {
      "text/plain": [
       "2"
      ]
     },
     "execution_count": 2,
     "metadata": {},
     "output_type": "execute_result"
    }
   ],
   "source": [
    "list_file = list(os.walk('./menu'))[0][2]\n",
    "if '.DS_Store' in list_file:\n",
    "   list_file.remove('.DS_Store')\n",
    "\n",
    "len(list_file)"
   ]
  },
  {
   "cell_type": "code",
   "execution_count": 3,
   "id": "552c5c8c",
   "metadata": {},
   "outputs": [],
   "source": [
    "import pandas as pd"
   ]
  },
  {
   "cell_type": "code",
   "execution_count": 4,
   "id": "19a50da8",
   "metadata": {},
   "outputs": [
    {
     "data": {
      "text/html": [
       "<div>\n",
       "<style scoped>\n",
       "    .dataframe tbody tr th:only-of-type {\n",
       "        vertical-align: middle;\n",
       "    }\n",
       "\n",
       "    .dataframe tbody tr th {\n",
       "        vertical-align: top;\n",
       "    }\n",
       "\n",
       "    .dataframe thead th {\n",
       "        text-align: right;\n",
       "    }\n",
       "</style>\n",
       "<table border=\"1\" class=\"dataframe\">\n",
       "  <thead>\n",
       "    <tr style=\"text-align: right;\">\n",
       "      <th></th>\n",
       "      <th>Part_Number</th>\n",
       "      <th>Part_Type</th>\n",
       "      <th>Application_Summary</th>\n",
       "      <th>Url</th>\n",
       "    </tr>\n",
       "  </thead>\n",
       "  <tbody>\n",
       "  </tbody>\n",
       "</table>\n",
       "</div>"
      ],
      "text/plain": [
       "Empty DataFrame\n",
       "Columns: [Part_Number, Part_Type, Application_Summary, Url]\n",
       "Index: []"
      ]
     },
     "execution_count": 4,
     "metadata": {},
     "output_type": "execute_result"
    }
   ],
   "source": [
    "df = pd.DataFrame(columns=['Part_Number', 'Part_Type', 'Application_Summary', 'Url'])\n",
    "\n",
    "df"
   ]
  },
  {
   "cell_type": "code",
   "execution_count": 5,
   "id": "000d53d7",
   "metadata": {},
   "outputs": [],
   "source": [
    "import json"
   ]
  },
  {
   "cell_type": "code",
   "execution_count": 6,
   "id": "1d3df716",
   "metadata": {},
   "outputs": [
    {
     "name": "stdout",
     "output_type": "stream",
     "text": [
      "www.dormanproducts.com_gsearch.aspx_type=keyword&origin=keyword&q=Climate%2520Control%2520Module&start=0&num=100.txt\n",
      "www.dormanproducts.com_gsearch.aspx_type=keyword&origin=keyword&q=Climate%2520Control%2520Module&start=100&num=100.txt\n"
     ]
    }
   ],
   "source": [
    "for file in list_file:\n",
    "    print(file)\n",
    "    with open('./menu/' + file) as f:\n",
    "        list_part = f.read()[1:-1].split('},{')\n",
    "        for i in range(len(list_part)):\n",
    "            if i == 0:\n",
    "                part = json.loads(list_part[i] + '}')\n",
    "            elif i == len(list_part) - 1:\n",
    "                part = json.loads('{' + list_part[i])\n",
    "            else:\n",
    "                part = json.loads('{' + list_part[i] + '}')\n",
    "                \n",
    "            df_temp = pd.DataFrame([{'Part_Number': part['Part_Number'],\n",
    "                                     'Part_Type': part['Part_Type'],\n",
    "                                     'Application_Summary': part['Application_Summary'],\n",
    "                                     'Url': part['Url']}])\n",
    "            df = pd.concat([df, df_temp], ignore_index=True)"
   ]
  },
  {
   "cell_type": "code",
   "execution_count": 7,
   "id": "e7c8e52b",
   "metadata": {},
   "outputs": [
    {
     "data": {
      "text/html": [
       "<div>\n",
       "<style scoped>\n",
       "    .dataframe tbody tr th:only-of-type {\n",
       "        vertical-align: middle;\n",
       "    }\n",
       "\n",
       "    .dataframe tbody tr th {\n",
       "        vertical-align: top;\n",
       "    }\n",
       "\n",
       "    .dataframe thead th {\n",
       "        text-align: right;\n",
       "    }\n",
       "</style>\n",
       "<table border=\"1\" class=\"dataframe\">\n",
       "  <thead>\n",
       "    <tr style=\"text-align: right;\">\n",
       "      <th></th>\n",
       "      <th>Part_Number</th>\n",
       "      <th>Part_Type</th>\n",
       "      <th>Application_Summary</th>\n",
       "      <th>Url</th>\n",
       "    </tr>\n",
       "  </thead>\n",
       "  <tbody>\n",
       "    <tr>\n",
       "      <th>0</th>\n",
       "      <td>599-210XD</td>\n",
       "      <td>Climate Control Module</td>\n",
       "      <td>General Motors 2009-02, Isuzu 2008-03, Saab 20...</td>\n",
       "      <td>https://www.dormanproducts.com/p-131697-599-21...</td>\n",
       "    </tr>\n",
       "    <tr>\n",
       "      <th>1</th>\n",
       "      <td>599-211XD</td>\n",
       "      <td>Climate Control Module</td>\n",
       "      <td>Buick 2007-04, Cadillac 2006-03, Chevrolet 200...</td>\n",
       "      <td>https://www.dormanproducts.com/p-131698-599-21...</td>\n",
       "    </tr>\n",
       "    <tr>\n",
       "      <th>2</th>\n",
       "      <td>601-036</td>\n",
       "      <td>HVAC Control Module</td>\n",
       "      <td>Cadillac 2006-03, Chevrolet 2006-03, GMC 2006-03</td>\n",
       "      <td>https://www.dormanproducts.com/p-106223-601-03...</td>\n",
       "    </tr>\n",
       "    <tr>\n",
       "      <th>3</th>\n",
       "      <td>599-215</td>\n",
       "      <td>Climate Control Module</td>\n",
       "      <td>Chevrolet 2002-00, GMC 2002-00</td>\n",
       "      <td>https://www.dormanproducts.com/p-128361-599-21...</td>\n",
       "    </tr>\n",
       "    <tr>\n",
       "      <th>4</th>\n",
       "      <td>599-228</td>\n",
       "      <td>Remanufactured Climate Control Module</td>\n",
       "      <td>Ford Fusion 2012-10, Lincoln MKZ 2012-10, Merc...</td>\n",
       "      <td>https://www.dormanproducts.com/p-82894-599-228...</td>\n",
       "    </tr>\n",
       "    <tr>\n",
       "      <th>...</th>\n",
       "      <td>...</td>\n",
       "      <td>...</td>\n",
       "      <td>...</td>\n",
       "      <td>...</td>\n",
       "    </tr>\n",
       "    <tr>\n",
       "      <th>145</th>\n",
       "      <td>961-304D</td>\n",
       "      <td>Metal Clip Nut No.8</td>\n",
       "      <td></td>\n",
       "      <td>https://www.dormanproducts.com/p-100837-961-30...</td>\n",
       "    </tr>\n",
       "    <tr>\n",
       "      <th>146</th>\n",
       "      <td>961-304</td>\n",
       "      <td>Metal Clip Nut</td>\n",
       "      <td></td>\n",
       "      <td>https://www.dormanproducts.com/p-73244-961-304...</td>\n",
       "    </tr>\n",
       "    <tr>\n",
       "      <th>147</th>\n",
       "      <td>700-520</td>\n",
       "      <td>Clip Nut - Wide Panel - No. 8 X 3/8 In - Panel...</td>\n",
       "      <td></td>\n",
       "      <td>https://www.dormanproducts.com/p-8384-700-520....</td>\n",
       "    </tr>\n",
       "    <tr>\n",
       "      <th>148</th>\n",
       "      <td>45406</td>\n",
       "      <td>Clip Nut - Wide Panel-No. 8 X 3/8 In, Panel Ra...</td>\n",
       "      <td></td>\n",
       "      <td>https://www.dormanproducts.com/p-21977-45406.a...</td>\n",
       "    </tr>\n",
       "    <tr>\n",
       "      <th>149</th>\n",
       "      <td>700-520BX</td>\n",
       "      <td>Clip Nut - Wide Panel - No. 8 X 3/8 In - Panel...</td>\n",
       "      <td></td>\n",
       "      <td>https://www.dormanproducts.com/p-125851-700-52...</td>\n",
       "    </tr>\n",
       "  </tbody>\n",
       "</table>\n",
       "<p>150 rows × 4 columns</p>\n",
       "</div>"
      ],
      "text/plain": [
       "    Part_Number                                          Part_Type  \\\n",
       "0     599-210XD                             Climate Control Module   \n",
       "1     599-211XD                             Climate Control Module   \n",
       "2       601-036                                HVAC Control Module   \n",
       "3       599-215                             Climate Control Module   \n",
       "4       599-228              Remanufactured Climate Control Module   \n",
       "..          ...                                                ...   \n",
       "145    961-304D                                Metal Clip Nut No.8   \n",
       "146     961-304                                     Metal Clip Nut   \n",
       "147     700-520  Clip Nut - Wide Panel - No. 8 X 3/8 In - Panel...   \n",
       "148       45406  Clip Nut - Wide Panel-No. 8 X 3/8 In, Panel Ra...   \n",
       "149   700-520BX  Clip Nut - Wide Panel - No. 8 X 3/8 In - Panel...   \n",
       "\n",
       "                                   Application_Summary  \\\n",
       "0    General Motors 2009-02, Isuzu 2008-03, Saab 20...   \n",
       "1    Buick 2007-04, Cadillac 2006-03, Chevrolet 200...   \n",
       "2     Cadillac 2006-03, Chevrolet 2006-03, GMC 2006-03   \n",
       "3                       Chevrolet 2002-00, GMC 2002-00   \n",
       "4    Ford Fusion 2012-10, Lincoln MKZ 2012-10, Merc...   \n",
       "..                                                 ...   \n",
       "145                                                      \n",
       "146                                                      \n",
       "147                                                      \n",
       "148                                                      \n",
       "149                                                      \n",
       "\n",
       "                                                   Url  \n",
       "0    https://www.dormanproducts.com/p-131697-599-21...  \n",
       "1    https://www.dormanproducts.com/p-131698-599-21...  \n",
       "2    https://www.dormanproducts.com/p-106223-601-03...  \n",
       "3    https://www.dormanproducts.com/p-128361-599-21...  \n",
       "4    https://www.dormanproducts.com/p-82894-599-228...  \n",
       "..                                                 ...  \n",
       "145  https://www.dormanproducts.com/p-100837-961-30...  \n",
       "146  https://www.dormanproducts.com/p-73244-961-304...  \n",
       "147  https://www.dormanproducts.com/p-8384-700-520....  \n",
       "148  https://www.dormanproducts.com/p-21977-45406.a...  \n",
       "149  https://www.dormanproducts.com/p-125851-700-52...  \n",
       "\n",
       "[150 rows x 4 columns]"
      ]
     },
     "execution_count": 7,
     "metadata": {},
     "output_type": "execute_result"
    }
   ],
   "source": [
    "df.to_excel('./menu.xlsx', index=False)\n",
    "\n",
    "df"
   ]
  },
  {
   "cell_type": "code",
   "execution_count": null,
   "id": "f1b946e9",
   "metadata": {},
   "outputs": [],
   "source": []
  }
 ],
 "metadata": {
  "kernelspec": {
   "display_name": "Python 3 (ipykernel)",
   "language": "python",
   "name": "python3"
  },
  "language_info": {
   "codemirror_mode": {
    "name": "ipython",
    "version": 3
   },
   "file_extension": ".py",
   "mimetype": "text/x-python",
   "name": "python",
   "nbconvert_exporter": "python",
   "pygments_lexer": "ipython3",
   "version": "3.11.3"
  }
 },
 "nbformat": 4,
 "nbformat_minor": 5
}
