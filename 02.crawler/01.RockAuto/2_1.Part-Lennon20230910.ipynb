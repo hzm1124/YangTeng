{
 "cells": [
  {
   "cell_type": "code",
   "execution_count": 1,
   "id": "520ee216",
   "metadata": {},
   "outputs": [],
   "source": [
    "computer = 'win'\n",
    "\n",
    "if computer == 'mac':\n",
    "    str_chromedriver = '../../../chromedriver'\n",
    "elif computer == 'win':\n",
    "    str_chromedriver = '../../../chromedriver.exe'\n",
    "else:\n",
    "    print('？？？')\n",
    "    exit(0)"
   ]
  },
  {
   "cell_type": "code",
   "execution_count": 2,
   "id": "75615279",
   "metadata": {},
   "outputs": [],
   "source": [
    "import pandas as pd"
   ]
  },
  {
   "cell_type": "code",
   "execution_count": 3,
   "id": "95822d56",
   "metadata": {
    "scrolled": true
   },
   "outputs": [
    {
     "name": "stdout",
     "output_type": "stream",
     "text": [
      "总数量：19\n"
     ]
    },
    {
     "data": {
      "text/plain": [
       "['https://www.rockauto.com/en/parts/wve,5S12714,headlamp+level+sensor,12575',\n",
       " 'https://www.rockauto.com/en/parts/wve,5S12715,headlamp+level+sensor,12575',\n",
       " 'https://www.rockauto.com/en/parts/wve,5S12716,headlamp+level+sensor,12575',\n",
       " 'https://www.rockauto.com/en/parts/wve,5S13515,headlamp+level+sensor,12575',\n",
       " 'https://www.rockauto.com/en/parts/wve,5S13885,headlamp+level+sensor,12575',\n",
       " 'https://www.rockauto.com/en/parts/wve,5S14989,headlamp+level+sensor,12575',\n",
       " 'https://www.rockauto.com/en/parts/wve,5S15024,headlamp+level+sensor,12575',\n",
       " 'https://www.rockauto.com/en/parts/wve,5S15030,headlamp+level+sensor,12575',\n",
       " 'https://www.rockauto.com/en/parts/wve,5S15034,headlamp+level+sensor,12575',\n",
       " 'https://www.rockauto.com/en/parts/wve,5S15035,headlamp+level+sensor,12575',\n",
       " 'https://www.rockauto.com/en/parts/wve,5S15046,headlamp+level+sensor,12575',\n",
       " 'https://www.rockauto.com/en/parts/wve,5S15048,headlamp+level+sensor,12575',\n",
       " 'https://www.rockauto.com/en/parts/wve,5S15399,headlamp+level+sensor,12575',\n",
       " 'https://www.rockauto.com/en/parts/wve,5S16368,headlamp+level+sensor,12575',\n",
       " 'https://www.rockauto.com/en/parts/wve,5S16588,headlamp+level+sensor,12575',\n",
       " 'https://www.rockauto.com/en/parts/wve,5S16590,headlamp+level+sensor,12575',\n",
       " 'https://www.rockauto.com/en/parts/wve,5S16591,headlamp+level+sensor,12575',\n",
       " 'https://www.rockauto.com/en/parts/wve,5S16845,headlamp+level+sensor,12575',\n",
       " 'https://www.rockauto.com/en/parts/wve,5S6989,headlamp+level+sensor,12575']"
      ]
     },
     "execution_count": 3,
     "metadata": {},
     "output_type": "execute_result"
    }
   ],
   "source": [
    "df_menu = pd.read_excel('./menu.xlsx',\n",
    "                        header=0,\n",
    "                        dtype=str).fillna('')\n",
    "\n",
    "list_url = df_menu['Url'].tolist()\n",
    "\n",
    "print('总数量：' + str(len(list_url)))\n",
    "list_url"
   ]
  },
  {
   "cell_type": "code",
   "execution_count": 4,
   "id": "ccc172ba",
   "metadata": {},
   "outputs": [
    {
     "data": {
      "text/html": [
       "<div>\n",
       "<style scoped>\n",
       "    .dataframe tbody tr th:only-of-type {\n",
       "        vertical-align: middle;\n",
       "    }\n",
       "\n",
       "    .dataframe tbody tr th {\n",
       "        vertical-align: top;\n",
       "    }\n",
       "\n",
       "    .dataframe thead th {\n",
       "        text-align: right;\n",
       "    }\n",
       "</style>\n",
       "<table border=\"1\" class=\"dataframe\">\n",
       "  <thead>\n",
       "    <tr style=\"text-align: right;\">\n",
       "      <th></th>\n",
       "    </tr>\n",
       "  </thead>\n",
       "  <tbody>\n",
       "  </tbody>\n",
       "</table>\n",
       "</div>"
      ],
      "text/plain": [
       "Empty DataFrame\n",
       "Columns: []\n",
       "Index: []"
      ]
     },
     "execution_count": 4,
     "metadata": {},
     "output_type": "execute_result"
    }
   ],
   "source": [
    "df = pd.DataFrame()\n",
    "\n",
    "df"
   ]
  },
  {
   "cell_type": "code",
   "execution_count": 5,
   "id": "8d1ca69c",
   "metadata": {},
   "outputs": [],
   "source": [
    "from selenium.webdriver import ChromeOptions"
   ]
  },
  {
   "cell_type": "code",
   "execution_count": 6,
   "id": "fe4e6120",
   "metadata": {},
   "outputs": [],
   "source": [
    "option = ChromeOptions()\n",
    "option.add_experimental_option('useAutomationExtension', False)\n",
    "# option.add_argument('blink-settings=imagesEnabled=false')\n",
    "option.add_argument('--disable-blink-features=AutomationControlled')\n",
    "option.add_argument('--disable-dev-shm-usage')\n",
    "option.add_argument('--disable-gpu')\n",
    "option.add_experimental_option('excludeSwitches', ['enable-automation'])\n",
    "# option.add_argument('--headless')\n",
    "option.add_argument('--no-sandbox')\n",
    "# option.add_argument('--proxy-server=' + Proxy.get_Proxy_Selenium())\n",
    "# option.add_argument('user-agent=' + UA.get_UA())\n",
    "option.page_load_strategy = 'eager'"
   ]
  },
  {
   "cell_type": "code",
   "execution_count": 7,
   "id": "615beeeb",
   "metadata": {},
   "outputs": [],
   "source": [
    "from selenium.webdriver import Chrome\n",
    "from selenium.webdriver.chrome.service import Service"
   ]
  },
  {
   "cell_type": "code",
   "execution_count": 8,
   "id": "018d81c1",
   "metadata": {},
   "outputs": [],
   "source": [
    "browser = Chrome(service=Service(str_chromedriver), options=option)\n",
    "\n",
    "browser.maximize_window()"
   ]
  },
  {
   "cell_type": "code",
   "execution_count": 9,
   "id": "1cd0a210",
   "metadata": {},
   "outputs": [],
   "source": [
    "import time"
   ]
  },
  {
   "cell_type": "code",
   "execution_count": 10,
   "id": "9e02fbb5",
   "metadata": {
    "scrolled": true
   },
   "outputs": [],
   "source": [
    "url = list_url[0]\n",
    "\n",
    "browser.get(url)\n",
    "\n",
    "time.sleep(3)"
   ]
  },
  {
   "cell_type": "code",
   "execution_count": 11,
   "id": "7cabed18",
   "metadata": {},
   "outputs": [],
   "source": [
    "from selenium.webdriver.support import expected_conditions as EC\n",
    "from selenium.webdriver.support.wait import WebDriverWait\n",
    "from selenium.webdriver.common.by import By"
   ]
  },
  {
   "cell_type": "code",
   "execution_count": 12,
   "id": "87e7672c",
   "metadata": {},
   "outputs": [],
   "source": [
    "if len(browser.find_elements(by=By.XPATH, value='//span[contains(@class, \"navlabellink\") and contains(@class, \"nvoffset\") and contains(@class, \"nnormal\")]')) != 0:\n",
    "    print('No Parts Found')"
   ]
  },
  {
   "cell_type": "code",
   "execution_count": 13,
   "id": "cd14a208",
   "metadata": {},
   "outputs": [
    {
     "data": {
      "text/plain": [
       "[<selenium.webdriver.remote.webelement.WebElement (session=\"69dde65f152c8362ef38244558bc9bdd\", element=\"C11A5FC66E203EEB9BCAA6FC9BFA801B_element_31\")>]"
      ]
     },
     "execution_count": 13,
     "metadata": {},
     "output_type": "execute_result"
    }
   ],
   "source": [
    "wait = WebDriverWait(browser, 60)\n",
    "wait.until(EC.presence_of_element_located((By.XPATH, '//tbody[contains(@class, \"listing-inner\") and contains(@class, \"altrow-a-1\")]')))\n",
    "list_part = browser.find_elements(by=By.XPATH, value='//tbody[contains(@class, \"listing-inner\") and (contains(@class, \"altrow-a-1\") or contains(@class, \"altrow-a-0\"))]')\n",
    "\n",
    "list_part"
   ]
  },
  {
   "cell_type": "code",
   "execution_count": 14,
   "id": "235d790d",
   "metadata": {},
   "outputs": [
    {
     "data": {
      "text/plain": [
       "[<selenium.webdriver.remote.webelement.WebElement (session=\"69dde65f152c8362ef38244558bc9bdd\", element=\"C11A5FC66E203EEB9BCAA6FC9BFA801B_element_32\")>]"
      ]
     },
     "execution_count": 14,
     "metadata": {},
     "output_type": "execute_result"
    }
   ],
   "source": [
    "list_part_number = [part.find_element(by=By.XPATH, value='./descendant::div[contains(@class, \"listing-text-row-moreinfo-truck\")]/span[contains(@title, \"Buyer\\'s Guide\")]') for part in list_part]\n",
    "\n",
    "list_part_number"
   ]
  },
  {
   "cell_type": "code",
   "execution_count": 15,
   "id": "1b109931",
   "metadata": {},
   "outputs": [
    {
     "data": {
      "text/plain": [
       "0"
      ]
     },
     "execution_count": 15,
     "metadata": {},
     "output_type": "execute_result"
    }
   ],
   "source": [
    "part_index = [part_number.text for part_number in list_part_number].index(url.split(',')[-3])\n",
    "\n",
    "part_index"
   ]
  },
  {
   "cell_type": "code",
   "execution_count": 16,
   "id": "5465a987",
   "metadata": {},
   "outputs": [
    {
     "data": {
      "text/plain": [
       "'WVE'"
      ]
     },
     "execution_count": 16,
     "metadata": {},
     "output_type": "execute_result"
    }
   ],
   "source": [
    "manufacturer = list_part[part_index].find_element(by=By.XPATH, value='./descendant::div[contains(@class, \"listing-text-row-moreinfo-truck\")]/span[contains(@class, \"listing-final-manufacturer\")]').text\n",
    "\n",
    "manufacturer"
   ]
  },
  {
   "cell_type": "code",
   "execution_count": 17,
   "id": "514d6e06",
   "metadata": {},
   "outputs": [
    {
     "name": "stdout",
     "output_type": "stream",
     "text": [
      "BMW 528I 2009-2010\n",
      "BMW 535I 2009-2010\n",
      "BMW 550I 2009-2010\n",
      "BMW 650I 2009-2010\n",
      "BMW M5 2009-2010\n",
      "BMW M6 2009-2010\n"
     ]
    }
   ],
   "source": [
    "list_part_number[part_index].click()\n",
    "time.sleep(7)\n",
    "list_vehicle = browser.find_element(by=By.XPATH, value='//div[contains(@id, \"buyersguidepopup-outer_c\")]').find_elements(by=By.XPATH, value='./descendant::table[contains(@class, \"nobmp\")]')\n",
    "if len(list_vehicle) == 0:\n",
    "    vehicle = ''\n",
    "else:\n",
    "    vehicle = list_vehicle[0].text\n",
    "\n",
    "print(vehicle)"
   ]
  },
  {
   "cell_type": "code",
   "execution_count": 18,
   "id": "0e21cbad",
   "metadata": {},
   "outputs": [
    {
     "data": {
      "text/plain": [
       "''"
      ]
     },
     "execution_count": 18,
     "metadata": {},
     "output_type": "execute_result"
    }
   ],
   "source": [
    "note_1 = ';'.join(row.text for row in list_part[part_index].find_elements(by=By.XPATH, value='./descendant::div[contains(@class, \"listing-text-row-moreinfo-truck\")]/span[contains(@class, \"span-link-underline-remover\")]'))\n",
    "\n",
    "note_1"
   ]
  },
  {
   "cell_type": "code",
   "execution_count": 19,
   "id": "d2bd254c",
   "metadata": {},
   "outputs": [
    {
     "data": {
      "text/plain": [
       "'https://www.rockauto.com/en/moreinfo.php?pk=3970215&cc=0&pt=12575'"
      ]
     },
     "execution_count": 19,
     "metadata": {},
     "output_type": "execute_result"
    }
   ],
   "source": [
    "info = ';'.join(row.get_attribute('href') for row in list_part[part_index].find_elements(by=By.XPATH, value='./descendant::div[contains(@class, \"listing-text-row-moreinfo-truck\")]/a[contains(@class, \"ra-btn\") and contains(@class, \"ra-btn-moreinfo\")]'))\n",
    "\n",
    "info"
   ]
  },
  {
   "cell_type": "code",
   "execution_count": 20,
   "id": "82228fd5",
   "metadata": {},
   "outputs": [
    {
     "data": {
      "text/plain": [
       "'Category: Headlamp Level Sensor'"
      ]
     },
     "execution_count": 20,
     "metadata": {},
     "output_type": "execute_result"
    }
   ],
   "source": [
    "note_2 = ';'.join(row.text for row in list_part[part_index].find_elements(by=By.XPATH, value='./descendant::div[contains(@class, \"listing-text-row\") and not(contains(@class, \"moreinfo-truck\"))]'))\n",
    "\n",
    "note_2"
   ]
  },
  {
   "cell_type": "code",
   "execution_count": 21,
   "id": "a4e918ae",
   "metadata": {},
   "outputs": [
    {
     "data": {
      "text/plain": [
       "'37140141444;37141093697;37141093699;37146778811;37146784696'"
      ]
     },
     "execution_count": 21,
     "metadata": {},
     "output_type": "execute_result"
    }
   ],
   "source": [
    "oe = ';'.join(row.get_attribute('textContent') for row in list_part[part_index].find_elements(by=By.XPATH, value='./descendant::span[contains(@title, \"Replaces these Alternate/ OE Part Numbers\")]'))\n",
    "oe = ';'.join(oe.split(', '))\n",
    "\n",
    "oe"
   ]
  },
  {
   "cell_type": "code",
   "execution_count": 22,
   "id": "1a81bf14",
   "metadata": {},
   "outputs": [
    {
     "data": {
      "text/plain": [
       "'https://www.rockauto.com/info/903/5S12714__ra_m.jpg'"
      ]
     },
     "execution_count": 22,
     "metadata": {},
     "output_type": "execute_result"
    }
   ],
   "source": [
    "src = ';'.join(row.get_attribute('src') for row in list_part[part_index].find_elements(by=By.XPATH, value='./descendant::img[contains(@id, \"inlineimg_thumb\")]'))\n",
    "\n",
    "src"
   ]
  },
  {
   "cell_type": "code",
   "execution_count": 23,
   "id": "07befa50",
   "metadata": {},
   "outputs": [
    {
     "data": {
      "text/html": [
       "<div>\n",
       "<style scoped>\n",
       "    .dataframe tbody tr th:only-of-type {\n",
       "        vertical-align: middle;\n",
       "    }\n",
       "\n",
       "    .dataframe tbody tr th {\n",
       "        vertical-align: top;\n",
       "    }\n",
       "\n",
       "    .dataframe thead th {\n",
       "        text-align: right;\n",
       "    }\n",
       "</style>\n",
       "<table border=\"1\" class=\"dataframe\">\n",
       "  <thead>\n",
       "    <tr style=\"text-align: right;\">\n",
       "      <th></th>\n",
       "      <th>status</th>\n",
       "      <th>序号</th>\n",
       "      <th>Part_Number</th>\n",
       "      <th>Manufacturer</th>\n",
       "      <th>Vehicle</th>\n",
       "      <th>Alternate_OE_Part_Numbers</th>\n",
       "      <th>Note_1</th>\n",
       "      <th>Note_2</th>\n",
       "      <th>Pic</th>\n",
       "      <th>Url</th>\n",
       "      <th>Info</th>\n",
       "      <th>Src</th>\n",
       "    </tr>\n",
       "  </thead>\n",
       "  <tbody>\n",
       "    <tr>\n",
       "      <th>0</th>\n",
       "      <td>ok</td>\n",
       "      <td></td>\n",
       "      <td>5S12714</td>\n",
       "      <td>WVE</td>\n",
       "      <td>BMW 528I 2009-2010\\nBMW 535I 2009-2010\\nBMW 55...</td>\n",
       "      <td>37140141444;37141093697;37141093699;3714677881...</td>\n",
       "      <td></td>\n",
       "      <td>Category: Headlamp Level Sensor</td>\n",
       "      <td></td>\n",
       "      <td>https://www.rockauto.com/en/parts/wve,5S12714,...</td>\n",
       "      <td>https://www.rockauto.com/en/moreinfo.php?pk=39...</td>\n",
       "      <td>https://www.rockauto.com/info/903/5S12714__ra_...</td>\n",
       "    </tr>\n",
       "  </tbody>\n",
       "</table>\n",
       "</div>"
      ],
      "text/plain": [
       "  status 序号 Part_Number Manufacturer  \\\n",
       "0     ok        5S12714          WVE   \n",
       "\n",
       "                                             Vehicle  \\\n",
       "0  BMW 528I 2009-2010\\nBMW 535I 2009-2010\\nBMW 55...   \n",
       "\n",
       "                           Alternate_OE_Part_Numbers Note_1  \\\n",
       "0  37140141444;37141093697;37141093699;3714677881...          \n",
       "\n",
       "                            Note_2 Pic  \\\n",
       "0  Category: Headlamp Level Sensor       \n",
       "\n",
       "                                                 Url  \\\n",
       "0  https://www.rockauto.com/en/parts/wve,5S12714,...   \n",
       "\n",
       "                                                Info  \\\n",
       "0  https://www.rockauto.com/en/moreinfo.php?pk=39...   \n",
       "\n",
       "                                                 Src  \n",
       "0  https://www.rockauto.com/info/903/5S12714__ra_...  "
      ]
     },
     "execution_count": 23,
     "metadata": {},
     "output_type": "execute_result"
    }
   ],
   "source": [
    "df_temp = pd.DataFrame([{'status': 'ok',\n",
    "                         '序号': '',\n",
    "                         'Part_Number': url.split(',')[-3],\n",
    "                         'Manufacturer': manufacturer,\n",
    "                         'Vehicle': vehicle,\n",
    "                         'Alternate_OE_Part_Numbers': oe,\n",
    "                         'Note_1': note_1,\n",
    "                         'Note_2': note_2,\n",
    "                         'Pic': '',\n",
    "                         'Url': url,\n",
    "                         'Info': info,\n",
    "                         'Src': src}])\n",
    "\n",
    "browser.quit()\n",
    "\n",
    "df = pd.concat([df, df_temp], ignore_index=True).fillna('')\n",
    "\n",
    "df"
   ]
  },
  {
   "cell_type": "code",
   "execution_count": null,
   "id": "0c886d37",
   "metadata": {},
   "outputs": [],
   "source": []
  }
 ],
 "metadata": {
  "kernelspec": {
   "display_name": "Python 3 (ipykernel)",
   "language": "python",
   "name": "python3"
  },
  "language_info": {
   "codemirror_mode": {
    "name": "ipython",
    "version": 3
   },
   "file_extension": ".py",
   "mimetype": "text/x-python",
   "name": "python",
   "nbconvert_exporter": "python",
   "pygments_lexer": "ipython3",
   "version": "3.11.5"
  }
 },
 "nbformat": 4,
 "nbformat_minor": 5
}
