{
 "cells": [
  {
   "cell_type": "code",
   "execution_count": 1,
   "id": "e806c5e7",
   "metadata": {},
   "outputs": [],
   "source": [
    "import pandas as pd\n",
    "\n",
    "df_menu = pd.read_excel('./url.xlsx', header=0)\n",
    "list_url = df_menu['url'].to_list()\n",
    "\n",
    "print(len(list_url))\n",
    "list_url"
   ]
  },
  {
   "cell_type": "code",
   "execution_count": null,
   "id": "57dec436",
   "metadata": {},
   "outputs": [],
   "source": [
    "df = pd.DataFrame(columns=['Part Number',\n",
    "                           'Category',\n",
    "                           'OE',\n",
    "                           'vehicle'\n",
    "                           'src',\n",
    "                           'url',\n",
    "                           'status'])"
   ]
  },
  {
   "cell_type": "code",
   "execution_count": 4,
   "id": "882c7950",
   "metadata": {},
   "outputs": [],
   "source": [
    "from selenium.webdriver import ChromeOptions\n",
    "\n",
    "option = ChromeOptions()\n",
    "option.add_experimental_option('useAutomationExtension', False)\n",
    "option.add_argument('blink-settings=imagesEnabled=false')\n",
    "option.add_argument('--disable-blink-features=AutomationControlled')\n",
    "option.add_argument('--disable-dev-shm-usage')\n",
    "option.add_argument('--disable-gpu')\n",
    "option.add_experimental_option('excludeSwitches', ['enable-automation'])\n",
    "# option.add_argument('--headless')\n",
    "option.add_argument('--no-sandbox')\n",
    "option.add_argument('--proxy-server=http://j933.kdltps.com:15818')\n",
    "option.add_argument('user-agent=Mozilla/5.0 (Windows NT 10.0; Win64; x64) AppleWebKit/537.36 (KHTML, like Gecko) Chrome/113.0.0.0 Safari/537.36')\n",
    "option.page_load_strategy = 'eager'"
   ]
  },
  {
   "cell_type": "code",
   "execution_count": 6,
   "id": "2ef7a35e",
   "metadata": {},
   "outputs": [],
   "source": [
    "from selenium.webdriver import Chrome\n",
    "from selenium.webdriver.chrome.service import Service\n",
    "\n",
    "browser = Chrome(service=Service('../../chromedriver.exe'), options=option)\n",
    "browser.maximize_window()"
   ]
  },
  {
   "cell_type": "code",
   "execution_count": 7,
   "id": "578e4553",
   "metadata": {},
   "outputs": [],
   "source": [
    "i = 0\n",
    "\n",
    "browser.get(list_url[i])"
   ]
  },
  {
   "cell_type": "code",
   "execution_count": 9,
   "id": "a397cff2",
   "metadata": {},
   "outputs": [],
   "source": [
    "from selenium.webdriver.support.wait import WebDriverWait\n",
    "\n",
    "wait = WebDriverWait(browser, 60, 0.1, None)"
   ]
  },
  {
   "cell_type": "code",
   "execution_count": 11,
   "id": "37c2b935",
   "metadata": {},
   "outputs": [
    {
     "data": {
      "text/plain": [
       "'746-006'"
      ]
     },
     "execution_count": 11,
     "metadata": {},
     "output_type": "execute_result"
    }
   ],
   "source": [
    "from selenium.webdriver.support import expected_conditions as EC\n",
    "from selenium.webdriver.common.by import By\n",
    "\n",
    "wait.until(EC.presence_of_element_located((By.XPATH, '//span[@id=\"lblProductName\"]')))\n",
    "part_number = browser.find_element(By.XPATH, '//span[@id=\"lblProductName\"]').text\n",
    "\n",
    "part_number"
   ]
  },
  {
   "cell_type": "code",
   "execution_count": 12,
   "id": "3ffd2199",
   "metadata": {},
   "outputs": [
    {
     "data": {
      "text/plain": [
       "'Door Lock Actuator - Left Sliding Door'"
      ]
     },
     "execution_count": 12,
     "metadata": {},
     "output_type": "execute_result"
    }
   ],
   "source": [
    "wait.until(EC.presence_of_element_located((By.XPATH, '//span[@id=\"lblProductDesc\"]')))\n",
    "category = browser.find_element(By.XPATH, '//span[@id=\"lblProductDesc\"]').text\n",
    "\n",
    "category"
   ]
  },
  {
   "cell_type": "code",
   "execution_count": 13,
   "id": "a0cb0e23",
   "metadata": {},
   "outputs": [
    {
     "data": {
      "text/plain": [
       "'72663SHJA11'"
      ]
     },
     "execution_count": 13,
     "metadata": {},
     "output_type": "execute_result"
    }
   ],
   "source": [
    "wait.until(EC.presence_of_element_located((By.XPATH, '//section[@id=\"productOE\"]/descendant::*/th[@scope=\"row\"]')))\n",
    "oe = browser.find_element(By.XPATH, '//section[@id=\"productOE\"]/descendant::*/th[@scope=\"row\"]').text\n",
    "\n",
    "oe"
   ]
  },
  {
   "cell_type": "code",
   "execution_count": 14,
   "id": "2877b8e7",
   "metadata": {},
   "outputs": [],
   "source": [
    "dict_vehicle = {}\n",
    "wait.until(EC.presence_of_element_located((By.XPATH, '//iframe[@id=\"ifDetailApp\"]')))\n",
    "for _ in range(100):\n",
    "    if browser.find_element(By.XPATH, '//iframe[@id=\"ifDetailApp\"]').get_attribute('src') == '':\n",
    "        time.sleep(1)\n",
    "iframe = browser.find_element(By.XPATH, '//iframe[@id=\"ifDetailApp\"]')\n",
    "browser.switch_to.frame(iframe)"
   ]
  },
  {
   "cell_type": "code",
   "execution_count": 15,
   "id": "3168e7aa",
   "metadata": {},
   "outputs": [
    {
     "data": {
      "text/plain": [
       "'Odyssey Honda 2005-2010'"
      ]
     },
     "execution_count": 15,
     "metadata": {},
     "output_type": "execute_result"
    }
   ],
   "source": [
    "wait.until(EC.presence_of_element_located((By.XPATH, '//tr[@class=\"detail-app-row\"]')))\n",
    "list_row = browser.find_elements(By.XPATH, '//tr[@class=\"detail-app-row\"]')\n",
    "for row in list_row:\n",
    "    make = row.find_element(By.XPATH, './td[3]').text\n",
    "    model = row.find_element(By.XPATH, './td[2]').text\n",
    "    year = row.find_element(By.XPATH, './td[1]').text\n",
    "    \n",
    "    if make not in dict_vehicle:\n",
    "        dict_vehicle[make] = {model: [year]}\n",
    "    else:\n",
    "        if model not in dict_vehicle[make]:\n",
    "            dict_vehicle[make][model] = [year]\n",
    "        else:\n",
    "            dict_vehicle[make][model].append(year)\n",
    "                \n",
    "list_vehicle = []\n",
    "for make in dict_vehicle:\n",
    "    for model in dict_vehicle[make]:\n",
    "        list_vehicle.append(make + ' ' + model + ' ' + min(dict_vehicle[make][model]) + '-' + max(dict_vehicle[make][model]))\n",
    "        \n",
    "vehicle = '\\n'.join(list_vehicle)\n",
    "browser.switch_to.parent_frame()\n",
    "\n",
    "vehicle"
   ]
  },
  {
   "cell_type": "code",
   "execution_count": 16,
   "id": "449e782f",
   "metadata": {},
   "outputs": [
    {
     "data": {
      "text/plain": [
       "'https://static.dormanproducts.com/images/product/medium/746-006-007.JPG'"
      ]
     },
     "execution_count": 16,
     "metadata": {},
     "output_type": "execute_result"
    }
   ],
   "source": [
    "wait.until(EC.presence_of_element_located((By.XPATH, '//img[@id=\"imgProductMain\"]')))\n",
    "src = browser.find_element(By.XPATH, '//img[@id=\"imgProductMain\"]').get_attribute('src').replace('/icon/', '/medium/')\n",
    "\n",
    "src"
   ]
  },
  {
   "cell_type": "code",
   "execution_count": null,
   "id": "983d0275",
   "metadata": {},
   "outputs": [],
   "source": [
    "browser.close()"
   ]
  },
  {
   "cell_type": "code",
   "execution_count": 18,
   "id": "aa1fba1f",
   "metadata": {},
   "outputs": [
    {
     "data": {
      "text/html": [
       "<div>\n",
       "<style scoped>\n",
       "    .dataframe tbody tr th:only-of-type {\n",
       "        vertical-align: middle;\n",
       "    }\n",
       "\n",
       "    .dataframe tbody tr th {\n",
       "        vertical-align: top;\n",
       "    }\n",
       "\n",
       "    .dataframe thead th {\n",
       "        text-align: right;\n",
       "    }\n",
       "</style>\n",
       "<table border=\"1\" class=\"dataframe\">\n",
       "  <thead>\n",
       "    <tr style=\"text-align: right;\">\n",
       "      <th></th>\n",
       "      <th>Part Number</th>\n",
       "      <th>Category</th>\n",
       "      <th>OE</th>\n",
       "      <th>车型图片链接</th>\n",
       "      <th>链接</th>\n",
       "      <th>status</th>\n",
       "      <th>车型</th>\n",
       "      <th>图片链接</th>\n",
       "    </tr>\n",
       "  </thead>\n",
       "  <tbody>\n",
       "    <tr>\n",
       "      <th>0</th>\n",
       "      <td>746-006</td>\n",
       "      <td>Door Lock Actuator - Left Sliding Door</td>\n",
       "      <td>72663SHJA11</td>\n",
       "      <td></td>\n",
       "      <td>https://www.dormanproducts.com/p-137759-746-00...</td>\n",
       "      <td>ok</td>\n",
       "      <td>Odyssey Honda 2005-2010</td>\n",
       "      <td>https://static.dormanproducts.com/images/produ...</td>\n",
       "    </tr>\n",
       "  </tbody>\n",
       "</table>\n",
       "</div>"
      ],
      "text/plain": [
       "  Part Number                                Category           OE 车型图片链接   \n",
       "0     746-006  Door Lock Actuator - Left Sliding Door  72663SHJA11         \\\n",
       "\n",
       "                                                  链接 status   \n",
       "0  https://www.dormanproducts.com/p-137759-746-00...     ok  \\\n",
       "\n",
       "                        车型                                               图片链接  \n",
       "0  Odyssey Honda 2005-2010  https://static.dormanproducts.com/images/produ...  "
      ]
     },
     "execution_count": 18,
     "metadata": {},
     "output_type": "execute_result"
    }
   ],
   "source": [
    "status = 'ok'\n",
    "df_temp = pd.DataFrame({'Part Number': part_number,\n",
    "                        'Category': category,\n",
    "                        'OE': oe,\n",
    "                        'vehicle': vehicle,\n",
    "                        'src': src,\n",
    "                        'url': list_url[i],\n",
    "                        'status': ['ok']})\n",
    "\n",
    "df = pd.concat([df, df_temp], ignore_index=True).fillna('')\n",
    "\n",
    "df"
   ]
  },
  {
   "cell_type": "code",
   "execution_count": null,
   "id": "89a0a419",
   "metadata": {},
   "outputs": [],
   "source": []
  }
 ],
 "metadata": {
  "kernelspec": {
   "display_name": "Python 3 (ipykernel)",
   "language": "python",
   "name": "python3"
  },
  "language_info": {
   "codemirror_mode": {
    "name": "ipython",
    "version": 3
   },
   "file_extension": ".py",
   "mimetype": "text/x-python",
   "name": "python",
   "nbconvert_exporter": "python",
   "pygments_lexer": "ipython3",
   "version": "3.11.3"
  }
 },
 "nbformat": 4,
 "nbformat_minor": 5
}
