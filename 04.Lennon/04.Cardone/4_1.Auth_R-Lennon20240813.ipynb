{
 "cells": [
  {
   "cell_type": "code",
   "execution_count": 1,
   "id": "ba98551f-b0b1-4c50-8c47-3ad3a3730b73",
   "metadata": {},
   "outputs": [
    {
     "data": {
      "text/plain": [
       "['crawler_1.xlsx',\n",
       " 'crawler_10.xlsx',\n",
       " 'crawler_100.xlsx',\n",
       " 'crawler_101.xlsx',\n",
       " 'crawler_102.xlsx',\n",
       " 'crawler_103.xlsx',\n",
       " 'crawler_104.xlsx',\n",
       " 'crawler_105.xlsx',\n",
       " 'crawler_106.xlsx',\n",
       " 'crawler_107.xlsx',\n",
       " 'crawler_108.xlsx',\n",
       " 'crawler_109.xlsx',\n",
       " 'crawler_11.xlsx',\n",
       " 'crawler_111.xlsx',\n",
       " 'crawler_112.xlsx',\n",
       " 'crawler_12.xlsx',\n",
       " 'crawler_13.xlsx',\n",
       " 'crawler_14.xlsx',\n",
       " 'crawler_15.xlsx',\n",
       " 'crawler_16.xlsx',\n",
       " 'crawler_17.xlsx',\n",
       " 'crawler_18.xlsx',\n",
       " 'crawler_19.xlsx',\n",
       " 'crawler_2.xlsx',\n",
       " 'crawler_20.xlsx',\n",
       " 'crawler_21.xlsx',\n",
       " 'crawler_22.xlsx',\n",
       " 'crawler_23.xlsx',\n",
       " 'crawler_24.xlsx',\n",
       " 'crawler_25.xlsx',\n",
       " 'crawler_26.xlsx',\n",
       " 'crawler_27.xlsx',\n",
       " 'crawler_28.xlsx',\n",
       " 'crawler_29.xlsx',\n",
       " 'crawler_3.xlsx',\n",
       " 'crawler_30.xlsx',\n",
       " 'crawler_31.xlsx',\n",
       " 'crawler_32.xlsx',\n",
       " 'crawler_33.xlsx',\n",
       " 'crawler_34.xlsx',\n",
       " 'crawler_35.xlsx',\n",
       " 'crawler_36.xlsx',\n",
       " 'crawler_37.xlsx',\n",
       " 'crawler_38.xlsx',\n",
       " 'crawler_39.xlsx',\n",
       " 'crawler_4.xlsx',\n",
       " 'crawler_40.xlsx',\n",
       " 'crawler_41.xlsx',\n",
       " 'crawler_42.xlsx',\n",
       " 'crawler_43.xlsx',\n",
       " 'crawler_44.xlsx',\n",
       " 'crawler_45.xlsx',\n",
       " 'crawler_46.xlsx',\n",
       " 'crawler_47.xlsx',\n",
       " 'crawler_48.xlsx',\n",
       " 'crawler_49.xlsx',\n",
       " 'crawler_5.xlsx',\n",
       " 'crawler_50.xlsx',\n",
       " 'crawler_51.xlsx',\n",
       " 'crawler_52.xlsx',\n",
       " 'crawler_53.xlsx',\n",
       " 'crawler_54.xlsx',\n",
       " 'crawler_55.xlsx',\n",
       " 'crawler_56.xlsx',\n",
       " 'crawler_57.xlsx',\n",
       " 'crawler_58.xlsx',\n",
       " 'crawler_59.xlsx',\n",
       " 'crawler_6.xlsx',\n",
       " 'crawler_60.xlsx',\n",
       " 'crawler_61.xlsx',\n",
       " 'crawler_62.xlsx',\n",
       " 'crawler_63.xlsx',\n",
       " 'crawler_64.xlsx',\n",
       " 'crawler_65.xlsx',\n",
       " 'crawler_66.xlsx',\n",
       " 'crawler_68.xlsx',\n",
       " 'crawler_69.xlsx',\n",
       " 'crawler_7.xlsx',\n",
       " 'crawler_70.xlsx',\n",
       " 'crawler_71.xlsx',\n",
       " 'crawler_72.xlsx',\n",
       " 'crawler_73.xlsx',\n",
       " 'crawler_74.xlsx',\n",
       " 'crawler_75.xlsx',\n",
       " 'crawler_76.xlsx',\n",
       " 'crawler_77.xlsx',\n",
       " 'crawler_78.xlsx',\n",
       " 'crawler_79.xlsx',\n",
       " 'crawler_8.xlsx',\n",
       " 'crawler_80.xlsx',\n",
       " 'crawler_81.xlsx',\n",
       " 'crawler_82.xlsx',\n",
       " 'crawler_83.xlsx',\n",
       " 'crawler_84.xlsx',\n",
       " 'crawler_85.xlsx',\n",
       " 'crawler_86.xlsx',\n",
       " 'crawler_87.xlsx',\n",
       " 'crawler_88.xlsx',\n",
       " 'crawler_89.xlsx',\n",
       " 'crawler_9.xlsx',\n",
       " 'crawler_90.xlsx',\n",
       " 'crawler_91.xlsx',\n",
       " 'crawler_92.xlsx',\n",
       " 'crawler_93.xlsx',\n",
       " 'crawler_94.xlsx',\n",
       " 'crawler_95.xlsx',\n",
       " 'crawler_96.xlsx',\n",
       " 'crawler_97.xlsx',\n",
       " 'crawler_98.xlsx',\n",
       " 'crawler_99.xlsx']"
      ]
     },
     "execution_count": 1,
     "metadata": {},
     "output_type": "execute_result"
    }
   ],
   "source": [
    "import os\n",
    "\n",
    "list_file = sorted(list(os.walk('./file/3.part'))[0][2])\n",
    "while '.DS_Store' in list_file:\n",
    "    list_file.remove('.DS_Store')\n",
    "while '0.null.txt' in list_file:\n",
    "    list_file.remove('0.null.txt')\n",
    "\n",
    "list_file"
   ]
  },
  {
   "cell_type": "code",
   "execution_count": 2,
   "id": "9b75b948-9701-432e-a5ef-88d0e629bd2c",
   "metadata": {},
   "outputs": [
    {
     "data": {
      "text/plain": [
       "'crawler_1.xlsx'"
      ]
     },
     "execution_count": 2,
     "metadata": {},
     "output_type": "execute_result"
    }
   ],
   "source": [
    "file = list_file[0]\n",
    "\n",
    "file"
   ]
  },
  {
   "cell_type": "code",
   "execution_count": 3,
   "id": "76ea49e2-7cc6-4bc1-af5b-7a6768eb6c08",
   "metadata": {},
   "outputs": [],
   "source": [
    "import pandas as pd\n",
    "\n",
    "output_correct, output_error = pd.DataFrame(), pd.DataFrame()"
   ]
  },
  {
   "cell_type": "code",
   "execution_count": 4,
   "id": "5d22fc26-a390-442a-bfe3-4d409c33f1e7",
   "metadata": {
    "scrolled": true
   },
   "outputs": [
    {
     "name": "stdout",
     "output_type": "stream",
     "text": [
      "总数量：167\n"
     ]
    },
    {
     "data": {
      "text/plain": [
       "['12-1000',\n",
       " '12-1001',\n",
       " '12-1002',\n",
       " '12-1011',\n",
       " '12-1014',\n",
       " '12-1015',\n",
       " '12-1017',\n",
       " '12-10200',\n",
       " '12-10201',\n",
       " '12-10202',\n",
       " '12-10203',\n",
       " '12-10205',\n",
       " '12-10206',\n",
       " '12-10207',\n",
       " '12-10208',\n",
       " '12-10209',\n",
       " '12-10210',\n",
       " '12-10212',\n",
       " '12-10213',\n",
       " '12-10214',\n",
       " '12-10215',\n",
       " '12-10216',\n",
       " '12-10217',\n",
       " '12-10219',\n",
       " '12-10220',\n",
       " '12-10222',\n",
       " '12-10224',\n",
       " '12-10225F',\n",
       " '12-10228',\n",
       " '12-10229',\n",
       " '12-10230',\n",
       " '12-10232',\n",
       " '12-10235',\n",
       " '12-10236',\n",
       " '12-10237',\n",
       " '12-10238',\n",
       " '12-10240',\n",
       " '12-10241',\n",
       " '12-10242',\n",
       " '12-10243',\n",
       " '12-10244',\n",
       " '12-10245',\n",
       " '12-10246',\n",
       " '12-10247',\n",
       " '12-10248',\n",
       " '12-10249',\n",
       " '12-10250',\n",
       " '12-10251',\n",
       " '12-10252',\n",
       " '12-10253',\n",
       " '12-10254',\n",
       " '12-10255F',\n",
       " '12-10256',\n",
       " '12-10257',\n",
       " '12-10259',\n",
       " '12-10261',\n",
       " '12-10262',\n",
       " '12-10263',\n",
       " '12-10264',\n",
       " '12-10265',\n",
       " '12-10267',\n",
       " '12-10268',\n",
       " '12-10269',\n",
       " '12-10271',\n",
       " '12-10273',\n",
       " '12-10275',\n",
       " '12-10276',\n",
       " '12-10277',\n",
       " '12-10278',\n",
       " '12-10280',\n",
       " '12-10281',\n",
       " '12-10283',\n",
       " '12-10284',\n",
       " '12-10285',\n",
       " '12-10286',\n",
       " '12-10288F',\n",
       " '12-1029',\n",
       " '12-10290F',\n",
       " '12-10294',\n",
       " '12-10295',\n",
       " '12-10296',\n",
       " '12-10297',\n",
       " '12-10298',\n",
       " '12-10302',\n",
       " '12-10303',\n",
       " '12-10304',\n",
       " '12-10305',\n",
       " '12-10306',\n",
       " '12-10310',\n",
       " '12-10311',\n",
       " '12-10312',\n",
       " '12-10313',\n",
       " '12-10314',\n",
       " '12-10317',\n",
       " '12-1032',\n",
       " '12-10321',\n",
       " '12-10323',\n",
       " '12-10324',\n",
       " '12-10334',\n",
       " '12-10335',\n",
       " '12-10336',\n",
       " '12-10337',\n",
       " '12-10340',\n",
       " '12-10341',\n",
       " '12-10349',\n",
       " '12-10350',\n",
       " '12-10351',\n",
       " '12-10352',\n",
       " '12-10353',\n",
       " '12-10356',\n",
       " '12-10357',\n",
       " '12-10358',\n",
       " '12-10359',\n",
       " '12-10360',\n",
       " '12-10362',\n",
       " '12-12173',\n",
       " '12-12200',\n",
       " '12-12201',\n",
       " '12-12202',\n",
       " '12-12203',\n",
       " '12-12204',\n",
       " '12-12205',\n",
       " '12-12207',\n",
       " '12-12212',\n",
       " '12-12214',\n",
       " '12-12220',\n",
       " '12-12221',\n",
       " '12-12223',\n",
       " '12-12229',\n",
       " '12-12230',\n",
       " '12-12231',\n",
       " '12-12232',\n",
       " '12-12233',\n",
       " '12-12234',\n",
       " '12-12236',\n",
       " '12-1408',\n",
       " '12-1432',\n",
       " '12-1460',\n",
       " '12-17200',\n",
       " '12-17201',\n",
       " '12-17202',\n",
       " '12-17203',\n",
       " '12-17204',\n",
       " '12-17207',\n",
       " '12-17213',\n",
       " '12-17214',\n",
       " '12-17215',\n",
       " '12-17218',\n",
       " '12-17219',\n",
       " '12-17220',\n",
       " '12-17221',\n",
       " '12-17224',\n",
       " '12-17225',\n",
       " '12-17226',\n",
       " '12-17228',\n",
       " '12-17237',\n",
       " '12-17239',\n",
       " '12-17240',\n",
       " '12-17241',\n",
       " '12-17242',\n",
       " '12-17245',\n",
       " '12-17248',\n",
       " '12-17261',\n",
       " '12-17264',\n",
       " '12-17412',\n",
       " '12-17413',\n",
       " '12-17420']"
      ]
     },
     "execution_count": 4,
     "metadata": {},
     "output_type": "execute_result"
    }
   ],
   "source": [
    "input_ = pd.read_excel(f'./file/3.part/{file}',\n",
    "                       header=0,\n",
    "                       dtype=str).fillna('')\n",
    "\n",
    "input_['No'] = input_['No'].astype(int)\n",
    "\n",
    "print(f'总数量：{len(input_)}')\n",
    "input_['Part Number'].tolist()"
   ]
  },
  {
   "cell_type": "code",
   "execution_count": 5,
   "id": "5878a9f0-d639-4123-b6e0-bc564f72c2d6",
   "metadata": {},
   "outputs": [
    {
     "data": {
      "text/plain": [
       "0"
      ]
     },
     "execution_count": 5,
     "metadata": {},
     "output_type": "execute_result"
    }
   ],
   "source": [
    "a = 0\n",
    "\n",
    "a"
   ]
  },
  {
   "cell_type": "code",
   "execution_count": 6,
   "id": "9f61dd65-55da-4d0b-ba30-d0534eff0781",
   "metadata": {},
   "outputs": [
    {
     "data": {
      "text/plain": [
       "'error'"
      ]
     },
     "execution_count": 6,
     "metadata": {},
     "output_type": "execute_result"
    }
   ],
   "source": [
    "crawler_status = 'error'\n",
    "\n",
    "crawler_status"
   ]
  },
  {
   "cell_type": "code",
   "execution_count": 7,
   "id": "ad99bc86-6e80-4fcf-8200-736dc5101097",
   "metadata": {},
   "outputs": [
    {
     "name": "stdout",
     "output_type": "stream",
     "text": [
      "1\n"
     ]
    },
    {
     "data": {
      "text/plain": [
       "<Response [200]>"
      ]
     },
     "execution_count": 7,
     "metadata": {},
     "output_type": "execute_result"
    }
   ],
   "source": [
    "import requests\n",
    "\n",
    "import sys\n",
    "sys.path.append('../00.Tools')\n",
    "from crawler_configuration import get_header, get_proxy\n",
    "\n",
    "b = 0\n",
    "while True:\n",
    "    b += 1\n",
    "    print(b)\n",
    "    try:\n",
    "        resp = requests.get(f'''{input_.loc[a, 'Bundle']}theme-bundle.main.js''',\n",
    "                            headers=get_header(),\n",
    "                            proxies=get_proxy(),\n",
    "                            timeout=(10, 10))\n",
    "\n",
    "        if resp.status_code == 200:\n",
    "            break\n",
    "    except KeyboardInterrupt:\n",
    "        break\n",
    "    except:\n",
    "        continue\n",
    "\n",
    "resp"
   ]
  },
  {
   "cell_type": "code",
   "execution_count": 8,
   "id": "32194560-e33f-49c9-922c-1618cf58e2f4",
   "metadata": {},
   "outputs": [
    {
     "data": {
      "text/plain": [
       "'mXWIhUuYvk3hklMcdwLi4lwVd3s6VASw'"
      ]
     },
     "execution_count": 8,
     "metadata": {},
     "output_type": "execute_result"
    }
   ],
   "source": [
    "auth = resp.text.split('h.getFitmentData')[1].split('auth=')[1].split('\"')[0]\n",
    "\n",
    "auth"
   ]
  },
  {
   "cell_type": "code",
   "execution_count": 9,
   "id": "0ebb0da6-9494-41fc-9823-6866ea382cff",
   "metadata": {},
   "outputs": [
    {
     "data": {
      "text/html": [
       "<div>\n",
       "<style scoped>\n",
       "    .dataframe tbody tr th:only-of-type {\n",
       "        vertical-align: middle;\n",
       "    }\n",
       "\n",
       "    .dataframe tbody tr th {\n",
       "        vertical-align: top;\n",
       "    }\n",
       "\n",
       "    .dataframe thead th {\n",
       "        text-align: right;\n",
       "    }\n",
       "</style>\n",
       "<table border=\"1\" class=\"dataframe\">\n",
       "  <thead>\n",
       "    <tr style=\"text-align: right;\">\n",
       "      <th></th>\n",
       "      <th>No</th>\n",
       "      <th>Type</th>\n",
       "      <th>Part Number</th>\n",
       "      <th>Title</th>\n",
       "      <th>Subtitle</th>\n",
       "      <th>Application Summary</th>\n",
       "      <th>Picture</th>\n",
       "      <th>Url</th>\n",
       "      <th>Json_Src</th>\n",
       "      <th>Json_Info</th>\n",
       "      <th>Bundle</th>\n",
       "      <th>Auth</th>\n",
       "    </tr>\n",
       "  </thead>\n",
       "  <tbody>\n",
       "    <tr>\n",
       "      <th>0</th>\n",
       "      <td>1</td>\n",
       "      <td>ABS Control Module</td>\n",
       "      <td>12-1000</td>\n",
       "      <td>ABS Control Module - 12-1000</td>\n",
       "      <td>CARDONE Reman</td>\n",
       "      <td>CARDONE Reman,ABS Control Module,Chevrolet Ast...</td>\n",
       "      <td></td>\n",
       "      <td>https://www.cardone.com/product/abs-control-mo...</td>\n",
       "      <td>{\"0\": \"https://cdn11.bigcommerce.com/s-z9vhe3o...</td>\n",
       "      <td>{\"0\": {\"productDeskExternalKey\": \"CPCX|12-1000...</td>\n",
       "      <td>https://cdn11.bigcommerce.com/s-z9vhe3o238/ste...</td>\n",
       "      <td>mXWIhUuYvk3hklMcdwLi4lwVd3s6VASw</td>\n",
       "    </tr>\n",
       "  </tbody>\n",
       "</table>\n",
       "</div>"
      ],
      "text/plain": [
       "   No                Type Part Number                         Title  \\\n",
       "0   1  ABS Control Module     12-1000  ABS Control Module - 12-1000   \n",
       "\n",
       "        Subtitle                                Application Summary Picture  \\\n",
       "0  CARDONE Reman  CARDONE Reman,ABS Control Module,Chevrolet Ast...           \n",
       "\n",
       "                                                 Url  \\\n",
       "0  https://www.cardone.com/product/abs-control-mo...   \n",
       "\n",
       "                                            Json_Src  \\\n",
       "0  {\"0\": \"https://cdn11.bigcommerce.com/s-z9vhe3o...   \n",
       "\n",
       "                                           Json_Info  \\\n",
       "0  {\"0\": {\"productDeskExternalKey\": \"CPCX|12-1000...   \n",
       "\n",
       "                                              Bundle  \\\n",
       "0  https://cdn11.bigcommerce.com/s-z9vhe3o238/ste...   \n",
       "\n",
       "                               Auth  \n",
       "0  mXWIhUuYvk3hklMcdwLi4lwVd3s6VASw  "
      ]
     },
     "execution_count": 9,
     "metadata": {},
     "output_type": "execute_result"
    }
   ],
   "source": [
    "df_temp = pd.DataFrame([{'No': input_.loc[a, 'No'],\n",
    "                         'Type': input_.loc[a, 'Type'],\n",
    "                         'Part Number': input_.loc[a, 'Part Number'],\n",
    "                         'Title': input_.loc[a, 'Title'],\n",
    "                         'Subtitle': input_.loc[a, 'Subtitle'],\n",
    "                         'Application Summary': input_.loc[a, 'Application Summary'],\n",
    "                         'Picture': input_.loc[a, 'Picture'],\n",
    "                         'Url': input_.loc[a, 'Url'],\n",
    "                         'Json_Src': input_.loc[a, 'Json_Src'],\n",
    "                         'Json_Info': input_.loc[a, 'Json_Info'],\n",
    "                         'Bundle': input_.loc[a, 'Bundle'],\n",
    "                         'Auth': auth}])\n",
    "\n",
    "output_correct = pd.concat([output_correct, df_temp], ignore_index=True).fillna('')\n",
    "\n",
    "output_correct"
   ]
  },
  {
   "cell_type": "code",
   "execution_count": 10,
   "id": "fc4ed7f6-ed4f-431c-b944-b1690309cdae",
   "metadata": {},
   "outputs": [
    {
     "data": {
      "text/plain": [
       "'ok'"
      ]
     },
     "execution_count": 10,
     "metadata": {},
     "output_type": "execute_result"
    }
   ],
   "source": [
    "crawler_status = 'ok'\n",
    "\n",
    "crawler_status"
   ]
  },
  {
   "cell_type": "code",
   "execution_count": 11,
   "id": "65c745d1-446e-46c5-9dec-819c9f7944d3",
   "metadata": {},
   "outputs": [
    {
     "data": {
      "text/html": [
       "<div>\n",
       "<style scoped>\n",
       "    .dataframe tbody tr th:only-of-type {\n",
       "        vertical-align: middle;\n",
       "    }\n",
       "\n",
       "    .dataframe tbody tr th {\n",
       "        vertical-align: top;\n",
       "    }\n",
       "\n",
       "    .dataframe thead th {\n",
       "        text-align: right;\n",
       "    }\n",
       "</style>\n",
       "<table border=\"1\" class=\"dataframe\">\n",
       "  <thead>\n",
       "    <tr style=\"text-align: right;\">\n",
       "      <th></th>\n",
       "    </tr>\n",
       "  </thead>\n",
       "  <tbody>\n",
       "  </tbody>\n",
       "</table>\n",
       "</div>"
      ],
      "text/plain": [
       "Empty DataFrame\n",
       "Columns: []\n",
       "Index: []"
      ]
     },
     "execution_count": 11,
     "metadata": {},
     "output_type": "execute_result"
    }
   ],
   "source": [
    "if crawler_status == 'error':\n",
    "    output_error = pd.concat([output_error, pd.DataFrame([input_.iloc[a]]).reset_index(drop=True)], ignore_index=True).fillna('')\n",
    "\n",
    "output_error"
   ]
  },
  {
   "cell_type": "code",
   "execution_count": 12,
   "id": "7fd477de",
   "metadata": {},
   "outputs": [
    {
     "data": {
      "text/html": [
       "<div>\n",
       "<style scoped>\n",
       "    .dataframe tbody tr th:only-of-type {\n",
       "        vertical-align: middle;\n",
       "    }\n",
       "\n",
       "    .dataframe tbody tr th {\n",
       "        vertical-align: top;\n",
       "    }\n",
       "\n",
       "    .dataframe thead th {\n",
       "        text-align: right;\n",
       "    }\n",
       "</style>\n",
       "<table border=\"1\" class=\"dataframe\">\n",
       "  <thead>\n",
       "    <tr style=\"text-align: right;\">\n",
       "      <th></th>\n",
       "      <th>No</th>\n",
       "      <th>Type</th>\n",
       "      <th>Part Number</th>\n",
       "      <th>Title</th>\n",
       "      <th>Subtitle</th>\n",
       "      <th>Application Summary</th>\n",
       "      <th>Picture</th>\n",
       "      <th>Url</th>\n",
       "      <th>Json_Src</th>\n",
       "      <th>Json_Info</th>\n",
       "      <th>Bundle</th>\n",
       "      <th>Auth</th>\n",
       "    </tr>\n",
       "  </thead>\n",
       "  <tbody>\n",
       "    <tr>\n",
       "      <th>0</th>\n",
       "      <td>1</td>\n",
       "      <td>ABS Control Module</td>\n",
       "      <td>12-1000</td>\n",
       "      <td>ABS Control Module - 12-1000</td>\n",
       "      <td>CARDONE Reman</td>\n",
       "      <td>CARDONE Reman,ABS Control Module,Chevrolet Ast...</td>\n",
       "      <td></td>\n",
       "      <td>https://www.cardone.com/product/abs-control-mo...</td>\n",
       "      <td>{\"0\": \"https://cdn11.bigcommerce.com/s-z9vhe3o...</td>\n",
       "      <td>{\"0\": {\"productDeskExternalKey\": \"CPCX|12-1000...</td>\n",
       "      <td>https://cdn11.bigcommerce.com/s-z9vhe3o238/ste...</td>\n",
       "      <td>mXWIhUuYvk3hklMcdwLi4lwVd3s6VASw</td>\n",
       "    </tr>\n",
       "  </tbody>\n",
       "</table>\n",
       "</div>"
      ],
      "text/plain": [
       "   No                Type Part Number                         Title  \\\n",
       "0   1  ABS Control Module     12-1000  ABS Control Module - 12-1000   \n",
       "\n",
       "        Subtitle                                Application Summary Picture  \\\n",
       "0  CARDONE Reman  CARDONE Reman,ABS Control Module,Chevrolet Ast...           \n",
       "\n",
       "                                                 Url  \\\n",
       "0  https://www.cardone.com/product/abs-control-mo...   \n",
       "\n",
       "                                            Json_Src  \\\n",
       "0  {\"0\": \"https://cdn11.bigcommerce.com/s-z9vhe3o...   \n",
       "\n",
       "                                           Json_Info  \\\n",
       "0  {\"0\": {\"productDeskExternalKey\": \"CPCX|12-1000...   \n",
       "\n",
       "                                              Bundle  \\\n",
       "0  https://cdn11.bigcommerce.com/s-z9vhe3o238/ste...   \n",
       "\n",
       "                               Auth  \n",
       "0  mXWIhUuYvk3hklMcdwLi4lwVd3s6VASw  "
      ]
     },
     "execution_count": 12,
     "metadata": {},
     "output_type": "execute_result"
    }
   ],
   "source": [
    "if not output_correct.empty:\n",
    "    output_correct = output_correct.sort_values(by=['No'],\n",
    "                                                ascending=[True],\n",
    "                                                ignore_index=True)\n",
    "    output_correct.to_excel('./test_auth.xlsx', index=False)\n",
    "\n",
    "output_correct"
   ]
  },
  {
   "cell_type": "code",
   "execution_count": 13,
   "id": "39a5441b-7f69-4812-aad8-7e10a1a24e78",
   "metadata": {},
   "outputs": [
    {
     "data": {
      "text/html": [
       "<div>\n",
       "<style scoped>\n",
       "    .dataframe tbody tr th:only-of-type {\n",
       "        vertical-align: middle;\n",
       "    }\n",
       "\n",
       "    .dataframe tbody tr th {\n",
       "        vertical-align: top;\n",
       "    }\n",
       "\n",
       "    .dataframe thead th {\n",
       "        text-align: right;\n",
       "    }\n",
       "</style>\n",
       "<table border=\"1\" class=\"dataframe\">\n",
       "  <thead>\n",
       "    <tr style=\"text-align: right;\">\n",
       "      <th></th>\n",
       "    </tr>\n",
       "  </thead>\n",
       "  <tbody>\n",
       "  </tbody>\n",
       "</table>\n",
       "</div>"
      ],
      "text/plain": [
       "Empty DataFrame\n",
       "Columns: []\n",
       "Index: []"
      ]
     },
     "execution_count": 13,
     "metadata": {},
     "output_type": "execute_result"
    }
   ],
   "source": [
    "if not output_error.empty:\n",
    "    output_error = output_error.sort_values(by=['No'],\n",
    "                                            ascending=[True],\n",
    "                                            ignore_index=True)\n",
    "    output_error.to_excel('./test_auth_error.xlsx', index=False)\n",
    "\n",
    "output_error"
   ]
  },
  {
   "cell_type": "code",
   "execution_count": null,
   "id": "ba5d9f77-7464-4ad5-a42b-1fa0c0505832",
   "metadata": {},
   "outputs": [],
   "source": []
  }
 ],
 "metadata": {
  "kernelspec": {
   "display_name": "Python 3 (ipykernel)",
   "language": "python",
   "name": "python3"
  },
  "language_info": {
   "codemirror_mode": {
    "name": "ipython",
    "version": 3
   },
   "file_extension": ".py",
   "mimetype": "text/x-python",
   "name": "python",
   "nbconvert_exporter": "python",
   "pygments_lexer": "ipython3",
   "version": "3.11.3"
  }
 },
 "nbformat": 4,
 "nbformat_minor": 5
}
