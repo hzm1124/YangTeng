{
 "cells": [
  {
   "cell_type": "code",
   "execution_count": 1,
   "id": "783f89be-0cdc-4912-942e-895cc5f09840",
   "metadata": {},
   "outputs": [],
   "source": [
    "import pandas as pd\n",
    "\n",
    "output_correct, output_error = pd.DataFrame(), pd.DataFrame()"
   ]
  },
  {
   "cell_type": "code",
   "execution_count": 2,
   "id": "1c28f4ff-eee5-4220-a711-cc2f93fe08f0",
   "metadata": {
    "scrolled": true
   },
   "outputs": [
    {
     "name": "stdout",
     "output_type": "stream",
     "text": [
      "总数量：1\n"
     ]
    },
    {
     "data": {
      "text/plain": [
       "['https://www.rockauto.com/en/moreinfo.php?pk=11158045&cc=0&pt=5756&jsn=3']"
      ]
     },
     "execution_count": 2,
     "metadata": {},
     "output_type": "execute_result"
    }
   ],
   "source": [
    "input_ = pd.read_excel(f'./part_2.xlsx',\n",
    "                       header=0,\n",
    "                       dtype=str).fillna('')\n",
    "\n",
    "print(f'总数量：{len(input_)}')\n",
    "input_['Info'].tolist()"
   ]
  },
  {
   "cell_type": "code",
   "execution_count": 3,
   "id": "5878a9f0-d639-4123-b6e0-bc564f72c2d6",
   "metadata": {},
   "outputs": [
    {
     "data": {
      "text/plain": [
       "0"
      ]
     },
     "execution_count": 3,
     "metadata": {},
     "output_type": "execute_result"
    }
   ],
   "source": [
    "a = 0\n",
    "\n",
    "a"
   ]
  },
  {
   "cell_type": "code",
   "execution_count": 4,
   "id": "9f61dd65-55da-4d0b-ba30-d0534eff0781",
   "metadata": {},
   "outputs": [
    {
     "data": {
      "text/plain": [
       "'error'"
      ]
     },
     "execution_count": 4,
     "metadata": {},
     "output_type": "execute_result"
    }
   ],
   "source": [
    "crawler_status = 'error'\n",
    "\n",
    "crawler_status"
   ]
  },
  {
   "cell_type": "code",
   "execution_count": 5,
   "id": "4da409e7-3f13-43df-a793-74cdf33ced70",
   "metadata": {
    "scrolled": true
   },
   "outputs": [
    {
     "name": "stdout",
     "output_type": "stream",
     "text": [
      "1\n",
      "2\n",
      "3\n",
      "4\n",
      "5\n",
      "6\n",
      "7\n",
      "8\n",
      "9\n",
      "10\n",
      "11\n"
     ]
    },
    {
     "data": {
      "text/plain": [
       "<Response [200]>"
      ]
     },
     "execution_count": 5,
     "metadata": {},
     "output_type": "execute_result"
    }
   ],
   "source": [
    "import requests\n",
    "\n",
    "import sys\n",
    "sys.path.append('../00.Tools')\n",
    "from crawler_configuration import get_header, get_proxy\n",
    "\n",
    "from bs4 import BeautifulSoup\n",
    "from lxml import etree\n",
    "\n",
    "b = 0\n",
    "while True:\n",
    "\n",
    "    while True:\n",
    "        b += 1\n",
    "        print(b)\n",
    "        try:\n",
    "            resp = requests.get(input_.loc[a, 'Info'],\n",
    "                                headers=get_header(),\n",
    "                                proxies=get_proxy(),\n",
    "                                timeout=(10, 10))\n",
    "            break\n",
    "        except:\n",
    "            continue\n",
    "\n",
    "    if resp.status_code == 200:\n",
    "        soup = BeautifulSoup(resp.text, 'lxml')\n",
    "        html = etree.HTML(str(soup))\n",
    "        try:\n",
    "            if html.xpath('//span[@class=\"la-btn-v\"]/text()')[0] == 'Continue Shopping':\n",
    "                with open('./info.html', 'w', encoding='UTF-8') as file:\n",
    "                    file.write(str(soup))\n",
    "                break\n",
    "        except:\n",
    "            continue\n",
    "\n",
    "resp"
   ]
  },
  {
   "cell_type": "code",
   "execution_count": 6,
   "id": "b968506a-f085-4811-a9c0-9af51b6f3e80",
   "metadata": {},
   "outputs": [
    {
     "data": {
      "text/plain": [
       "{'0': {'0': 'Sprockets Included', '1': 'No'},\n",
       " '1': {'0': 'Timing Chain Type', '1': 'Silent'}}"
      ]
     },
     "execution_count": 6,
     "metadata": {},
     "output_type": "execute_result"
    }
   ],
   "source": [
    "import re\n",
    "\n",
    "dict_specification = {}\n",
    "list_tr = html.xpath('//table[@class=\"moreinfotable\"]/tr')[1:] if html.xpath('//table[@class=\"moreinfotable\"]/tr') else []\n",
    "for i, tr in zip(range(len(list_tr)), list_tr):\n",
    "    dict_specification[str(i)] = {}\n",
    "\n",
    "    list_td = [re.sub(r'<.*?>', '', etree.tostring(text).decode('utf-8')).strip() for text in tr.xpath('./td')]\n",
    "    for j, td in zip(range(len(list_td)), list_td):\n",
    "        dict_specification[str(i)][str(j)] = td\n",
    "\n",
    "dict_specification"
   ]
  },
  {
   "cell_type": "code",
   "execution_count": 7,
   "id": "2450b6dc-244e-4ccb-b9fc-1f3304d06933",
   "metadata": {
    "scrolled": true
   },
   "outputs": [
    {
     "data": {
      "text/plain": [
       "{'0': {'quantity': 1,\n",
       "  'tag': 'Timing Chain',\n",
       "  'type_code': '5724',\n",
       "  'key': '8306448',\n",
       "  'part_number': '715F',\n",
       "  'manufacturer': 'MELLING',\n",
       "  'url': 'https://www.rockauto.com/en/parts/MELLING,715F,Timing Chain,5724',\n",
       "  'info': 'https://www.rockauto.com/en/moreinfo.php?pk=8306448&cc=0&pt=5724',\n",
       "  'dict_src': {'0': 'https://www.rockauto.com/info/583/715F-1-ANG.jpg'}},\n",
       " '1': {'quantity': 1,\n",
       "  'tag': 'Timing Chain Guide / Damper',\n",
       "  'type_code': '5728',\n",
       "  'key': '8307424',\n",
       "  'part_number': 'BG5515',\n",
       "  'manufacturer': 'MELLING',\n",
       "  'url': 'https://www.rockauto.com/en/parts/MELLING,BG5515,Timing Chain Guide / Damper,5728',\n",
       "  'info': 'https://www.rockauto.com/en/moreinfo.php?pk=8307424&cc=0&pt=5728',\n",
       "  'dict_src': {'0': 'https://www.rockauto.com/info/583/BG5515-1-SID.jpg'}},\n",
       " '2': {'quantity': 1,\n",
       "  'tag': 'Timing Chain Tensioner',\n",
       "  'type_code': '5736',\n",
       "  'key': '8308132',\n",
       "  'part_number': 'BT5514',\n",
       "  'manufacturer': 'MELLING',\n",
       "  'url': 'https://www.rockauto.com/en/parts/MELLING,BT5514,Timing Chain Tensioner,5736',\n",
       "  'info': 'https://www.rockauto.com/en/moreinfo.php?pk=8308132&cc=0&pt=5736',\n",
       "  'dict_src': {'0': 'https://www.rockauto.com/info/583/BT5514-1-ANG.jpg',\n",
       "   '1': 'https://www.rockauto.com/info/583/BT5514-2-TOP.jpg'}},\n",
       " '3': {'quantity': 1,\n",
       "  'tag': 'Timing Chain Guide / Damper',\n",
       "  'type_code': '5728',\n",
       "  'key': '8308292',\n",
       "  'part_number': 'BT7015',\n",
       "  'manufacturer': 'MELLING',\n",
       "  'url': 'https://www.rockauto.com/en/parts/MELLING,BT7015,Timing Chain Guide / Damper,5728',\n",
       "  'info': 'https://www.rockauto.com/en/moreinfo.php?pk=8308292&cc=0&pt=5728',\n",
       "  'dict_src': {'0': 'https://www.rockauto.com/info/583/BT7015-2-SID.jpg',\n",
       "   '1': 'https://www.rockauto.com/info/583/BT7015-1-TOP.jpg'}},\n",
       " '4': {'quantity': 1,\n",
       "  'tag': 'Oil Pump Chain Tensioner',\n",
       "  'type_code': '11860',\n",
       "  'key': '8308296',\n",
       "  'part_number': 'BT7016',\n",
       "  'manufacturer': 'MELLING',\n",
       "  'url': 'https://www.rockauto.com/en/parts/MELLING,BT7016,Oil Pump Chain Tensioner,11860',\n",
       "  'info': 'https://www.rockauto.com/en/moreinfo.php?pk=8308296&cc=0&pt=11860',\n",
       "  'dict_src': {'0': 'https://www.rockauto.com/info/583/BT7016-1-TOP.jpg',\n",
       "   '1': 'https://www.rockauto.com/info/583/BT7016-2-SID.jpg'}},\n",
       " '5': {'quantity': 1,\n",
       "  'tag': 'Oil Pump Chain',\n",
       "  'type_code': '5568',\n",
       "  'key': '8527968',\n",
       "  'part_number': '717F',\n",
       "  'manufacturer': 'MELLING',\n",
       "  'url': 'https://www.rockauto.com/en/parts/MELLING,717F,Oil Pump Chain,5568',\n",
       "  'info': 'https://www.rockauto.com/en/moreinfo.php?pk=8527968&cc=0&pt=5568',\n",
       "  'dict_src': {'0': 'https://www.rockauto.com/info/583/717F-1-ANG.jpg'}},\n",
       " '6': {'quantity': 1,\n",
       "  'tag': 'Oil Pump Chain Guide',\n",
       "  'type_code': '11859',\n",
       "  'key': '8921276',\n",
       "  'part_number': 'BG7019',\n",
       "  'manufacturer': 'MELLING',\n",
       "  'url': 'https://www.rockauto.com/en/parts/MELLING,BG7019,Oil Pump Chain Guide,11859',\n",
       "  'info': 'https://www.rockauto.com/en/moreinfo.php?pk=8921276&cc=0&pt=11859',\n",
       "  'dict_src': {'0': 'https://www.rockauto.com/info/583/BG7019-2-SID.jpg',\n",
       "   '1': 'https://www.rockauto.com/info/583/BG7019-1-TOP.jpg'}}}"
      ]
     },
     "execution_count": 7,
     "metadata": {},
     "output_type": "execute_result"
    }
   ],
   "source": [
    "import json\n",
    "\n",
    "dict_kit = {}\n",
    "list_tr = html.xpath('//section[contains(@aria-label, \"Components\") and contains(@aria-label, \"kit\")]/table/tbody/tr/td/table/tbody[contains(@class, \"listing-inner\") and (contains(@class, \"altrow-b-0\") or (contains(@class, \"altrow-b-1\")))]/tr')\n",
    "for i, tr in zip(range(len(list_tr)), list_tr):\n",
    "    dict_kit[str(i)] = {}\n",
    "\n",
    "    list_td = tr.xpath('./td')\n",
    "    dict_kit[str(i)]['quantity'] = int(list_td[0].xpath('./text()')[0].strip())\n",
    "\n",
    "    dict_kit[str(i)]['tag'] = list_td[1].xpath('./text()')[0].strip()\n",
    "\n",
    "    json_ = json.loads(list_td[2].xpath('./@value')[0])\n",
    "    dict_kit[str(i)]['type_code'] = json_['parttype']\n",
    "    dict_kit[str(i)]['key'] = json_['partkey']\n",
    "\n",
    "    json_2 = json.loads(tr.xpath('./input[contains(@id, \"listing_data_supplemental[\")]/@value')[0])\n",
    "    dict_kit[str(i)]['part_number'] = json_2['partnumber']\n",
    "    dict_kit[str(i)]['manufacturer'] = json_2['catalogname']\n",
    "\n",
    "    dict_kit[str(i)]['url'] = f'''https://www.rockauto.com/en/parts/{json_2['catalogname']},{json_2['partnumber']},{list_td[1].xpath('./text()')[0].strip()},{json_['parttype']}'''\n",
    "\n",
    "    list_info = tr.xpath('./div[@class=\"listing-text-row-moreinfo-truck\"]/a[@class=\"ra-btn ra-btn-moreinfo\"]/@href')\n",
    "    dict_kit[str(i)]['info'] = list_info[0].strip() if list_info and list_info[0].startswith('https://www.rockauto.com/en/moreinfo.php?') else f'''https://www.rockauto.com/en/moreinfo.php?pk={json_['partkey']}&pt={json_['parttype']}&Lennon=1'''\n",
    "\n",
    "    dict_src = {}\n",
    "    list_src = json.loads(list_td[3].xpath('./div/input[contains(@id, \"jsninlineimg[\")]/@value')[0])['Slots'] if list_td[3].xpath('./div/input[contains(@id, \"jsninlineimg[\")]/@value') else []\n",
    "    for j, src in zip(range(len(list_src)), list_src):\n",
    "        dict_src[str(j)] = 'https://www.rockauto.com' + src['ImageData']['Full'].strip()\n",
    "    dict_kit[str(i)]['dict_src'] = dict_src\n",
    "\n",
    "dict_kit"
   ]
  },
  {
   "cell_type": "code",
   "execution_count": 8,
   "id": "96f1239b-50f9-42d4-b879-831dc05deb48",
   "metadata": {
    "scrolled": true
   },
   "outputs": [
    {
     "data": {
      "text/html": [
       "<div>\n",
       "<style scoped>\n",
       "    .dataframe tbody tr th:only-of-type {\n",
       "        vertical-align: middle;\n",
       "    }\n",
       "\n",
       "    .dataframe tbody tr th {\n",
       "        vertical-align: top;\n",
       "    }\n",
       "\n",
       "    .dataframe thead th {\n",
       "        text-align: right;\n",
       "    }\n",
       "</style>\n",
       "<table border=\"1\" class=\"dataframe\">\n",
       "  <thead>\n",
       "    <tr style=\"text-align: right;\">\n",
       "      <th></th>\n",
       "      <th>JOIN_MPNTCK</th>\n",
       "      <th>Json_Specification</th>\n",
       "      <th>Json_Kit</th>\n",
       "    </tr>\n",
       "  </thead>\n",
       "  <tbody>\n",
       "    <tr>\n",
       "      <th>0</th>\n",
       "      <td>ROCKAUTO;BLACKHAT;131;10671829</td>\n",
       "      <td>{\"0\": {\"0\": \"Sprockets Included\", \"1\": \"No\"}, ...</td>\n",
       "      <td>{\"0\": {\"quantity\": 1, \"tag\": \"Timing Chain\", \"...</td>\n",
       "    </tr>\n",
       "  </tbody>\n",
       "</table>\n",
       "</div>"
      ],
      "text/plain": [
       "                      JOIN_MPNTCK  \\\n",
       "0  ROCKAUTO;BLACKHAT;131;10671829   \n",
       "\n",
       "                                  Json_Specification  \\\n",
       "0  {\"0\": {\"0\": \"Sprockets Included\", \"1\": \"No\"}, ...   \n",
       "\n",
       "                                            Json_Kit  \n",
       "0  {\"0\": {\"quantity\": 1, \"tag\": \"Timing Chain\", \"...  "
      ]
     },
     "execution_count": 8,
     "metadata": {},
     "output_type": "execute_result"
    }
   ],
   "source": [
    "df_temp = pd.DataFrame([{'JOIN_MPNTCK': input_.loc[a, 'JOIN_MPNTCK'],\n",
    "                         'Json_Specification': json.dumps(dict_specification),\n",
    "                         'Json_Kit': json.dumps(dict_kit)}])\n",
    "\n",
    "output_correct = pd.concat([output_correct, df_temp], ignore_index=True).fillna('')\n",
    "\n",
    "output_correct"
   ]
  },
  {
   "cell_type": "code",
   "execution_count": 9,
   "id": "fc4ed7f6-ed4f-431c-b944-b1690309cdae",
   "metadata": {},
   "outputs": [
    {
     "data": {
      "text/plain": [
       "'ok'"
      ]
     },
     "execution_count": 9,
     "metadata": {},
     "output_type": "execute_result"
    }
   ],
   "source": [
    "crawler_status = 'ok'\n",
    "\n",
    "crawler_status"
   ]
  },
  {
   "cell_type": "code",
   "execution_count": 10,
   "id": "65c745d1-446e-46c5-9dec-819c9f7944d3",
   "metadata": {},
   "outputs": [
    {
     "data": {
      "text/html": [
       "<div>\n",
       "<style scoped>\n",
       "    .dataframe tbody tr th:only-of-type {\n",
       "        vertical-align: middle;\n",
       "    }\n",
       "\n",
       "    .dataframe tbody tr th {\n",
       "        vertical-align: top;\n",
       "    }\n",
       "\n",
       "    .dataframe thead th {\n",
       "        text-align: right;\n",
       "    }\n",
       "</style>\n",
       "<table border=\"1\" class=\"dataframe\">\n",
       "  <thead>\n",
       "    <tr style=\"text-align: right;\">\n",
       "      <th></th>\n",
       "    </tr>\n",
       "  </thead>\n",
       "  <tbody>\n",
       "  </tbody>\n",
       "</table>\n",
       "</div>"
      ],
      "text/plain": [
       "Empty DataFrame\n",
       "Columns: []\n",
       "Index: []"
      ]
     },
     "execution_count": 10,
     "metadata": {},
     "output_type": "execute_result"
    }
   ],
   "source": [
    "if crawler_status == 'error':\n",
    "    df_temp = pd.DataFrame([{'JOIN_MPNTCK': input_.loc[a, 'JOIN_MPNTCK'],\n",
    "                             'Type Code': input_.loc[a, 'Type Code'],\n",
    "                             'Key': input_.loc[a, 'Key'],\n",
    "                             'Info': input_.loc[a, 'Info']}])\n",
    "\n",
    "    output_error = pd.concat([output_error, df_temp], ignore_index=True).fillna('')\n",
    "\n",
    "output_error"
   ]
  },
  {
   "cell_type": "code",
   "execution_count": 11,
   "id": "7fd477de",
   "metadata": {},
   "outputs": [
    {
     "data": {
      "text/html": [
       "<div>\n",
       "<style scoped>\n",
       "    .dataframe tbody tr th:only-of-type {\n",
       "        vertical-align: middle;\n",
       "    }\n",
       "\n",
       "    .dataframe tbody tr th {\n",
       "        vertical-align: top;\n",
       "    }\n",
       "\n",
       "    .dataframe thead th {\n",
       "        text-align: right;\n",
       "    }\n",
       "</style>\n",
       "<table border=\"1\" class=\"dataframe\">\n",
       "  <thead>\n",
       "    <tr style=\"text-align: right;\">\n",
       "      <th></th>\n",
       "      <th>JOIN_MPNTCK</th>\n",
       "      <th>Json_Specification</th>\n",
       "      <th>Json_Kit</th>\n",
       "    </tr>\n",
       "  </thead>\n",
       "  <tbody>\n",
       "    <tr>\n",
       "      <th>0</th>\n",
       "      <td>ROCKAUTO;BLACKHAT;131;10671829</td>\n",
       "      <td>{\"0\": {\"0\": \"Sprockets Included\", \"1\": \"No\"}, ...</td>\n",
       "      <td>{\"0\": {\"quantity\": 1, \"tag\": \"Timing Chain\", \"...</td>\n",
       "    </tr>\n",
       "  </tbody>\n",
       "</table>\n",
       "</div>"
      ],
      "text/plain": [
       "                      JOIN_MPNTCK  \\\n",
       "0  ROCKAUTO;BLACKHAT;131;10671829   \n",
       "\n",
       "                                  Json_Specification  \\\n",
       "0  {\"0\": {\"0\": \"Sprockets Included\", \"1\": \"No\"}, ...   \n",
       "\n",
       "                                            Json_Kit  \n",
       "0  {\"0\": {\"quantity\": 1, \"tag\": \"Timing Chain\", \"...  "
      ]
     },
     "execution_count": 11,
     "metadata": {},
     "output_type": "execute_result"
    }
   ],
   "source": [
    "if not output_correct.empty:\n",
    "    output_correct = output_correct.sort_values(by=['JOIN_MPNTCK'],\n",
    "                                                ascending=[True],\n",
    "                                                ignore_index=True)\n",
    "    output_correct.to_excel('./test_info.xlsx', index=False)\n",
    "\n",
    "output_correct"
   ]
  },
  {
   "cell_type": "code",
   "execution_count": 12,
   "id": "39a5441b-7f69-4812-aad8-7e10a1a24e78",
   "metadata": {},
   "outputs": [
    {
     "data": {
      "text/html": [
       "<div>\n",
       "<style scoped>\n",
       "    .dataframe tbody tr th:only-of-type {\n",
       "        vertical-align: middle;\n",
       "    }\n",
       "\n",
       "    .dataframe tbody tr th {\n",
       "        vertical-align: top;\n",
       "    }\n",
       "\n",
       "    .dataframe thead th {\n",
       "        text-align: right;\n",
       "    }\n",
       "</style>\n",
       "<table border=\"1\" class=\"dataframe\">\n",
       "  <thead>\n",
       "    <tr style=\"text-align: right;\">\n",
       "      <th></th>\n",
       "    </tr>\n",
       "  </thead>\n",
       "  <tbody>\n",
       "  </tbody>\n",
       "</table>\n",
       "</div>"
      ],
      "text/plain": [
       "Empty DataFrame\n",
       "Columns: []\n",
       "Index: []"
      ]
     },
     "execution_count": 12,
     "metadata": {},
     "output_type": "execute_result"
    }
   ],
   "source": [
    "if not output_error.empty:\n",
    "    output_error = output_error.sort_values(by=['JOIN_MPNTCK'],\n",
    "                                            ascending=[True],\n",
    "                                            ignore_index=True)\n",
    "    output_error.to_excel('./test_info_error.xlsx', index=False)\n",
    "\n",
    "output_error"
   ]
  },
  {
   "cell_type": "code",
   "execution_count": null,
   "id": "ba5d9f77-7464-4ad5-a42b-1fa0c0505832",
   "metadata": {},
   "outputs": [],
   "source": []
  }
 ],
 "metadata": {
  "kernelspec": {
   "display_name": "Python 3 (ipykernel)",
   "language": "python",
   "name": "python3"
  },
  "language_info": {
   "codemirror_mode": {
    "name": "ipython",
    "version": 3
   },
   "file_extension": ".py",
   "mimetype": "text/x-python",
   "name": "python",
   "nbconvert_exporter": "python",
   "pygments_lexer": "ipython3",
   "version": "3.11.3"
  }
 },
 "nbformat": 4,
 "nbformat_minor": 5
}
