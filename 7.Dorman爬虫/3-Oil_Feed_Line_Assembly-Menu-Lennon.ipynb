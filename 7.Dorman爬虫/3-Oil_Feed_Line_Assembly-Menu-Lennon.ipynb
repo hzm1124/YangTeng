{
 "cells": [
  {
   "cell_type": "markdown",
   "id": "abb5ed70",
   "metadata": {},
   "source": [
    "- Update: 2023.03.13\n",
    "\n",
    "# 0. 配置参数\n",
    "\n",
    "- `dict_page`：品类链接的参数\n",
    "- `out`：保存结果的路径"
   ]
  },
  {
   "cell_type": "code",
   "execution_count": 1,
   "id": "40f1ba8e",
   "metadata": {},
   "outputs": [],
   "source": [
    "dict_page = {'url': 'https://www.dormanproducts.com/gsearch.aspx?type=keyword&origin=keyword&q=Turbocharger%2520Oil%2520Line&start=WHAT_THE_FUCK&num=100',\n",
    "             'max_page': 2}\n",
    "\n",
    "out = '../../file/dorman-oil_feed_line_assembly_2-menu.xlsx'"
   ]
  },
  {
   "cell_type": "code",
   "execution_count": 2,
   "id": "306b3341",
   "metadata": {},
   "outputs": [],
   "source": [
    "from selenium import webdriver\n",
    "from selenium.webdriver.common.by import By\n",
    "import random\n",
    "import time"
   ]
  },
  {
   "cell_type": "code",
   "execution_count": 4,
   "id": "e3eaf3e3",
   "metadata": {},
   "outputs": [],
   "source": [
    "chrome_options = webdriver.ChromeOptions()\n",
    "#chrome_options.add_argument('--incognito')\n",
    "chrome_options.add_argument('user-agent=Mozilla/5.0 (Windows NT 10.0; Win64; x64) AppleWebKit/537.36 (KHTML, like Gecko) Chrome/109.0.0.0 Safari/537.36')\n",
    "browser = webdriver.Chrome(options=chrome_options)"
   ]
  },
  {
   "cell_type": "code",
   "execution_count": 5,
   "id": "0d302df6",
   "metadata": {},
   "outputs": [
    {
     "ename": "WebDriverException",
     "evalue": "Message: unknown error: net::ERR_PROXY_CONNECTION_FAILED\n  (Session info: chrome=111.0.5563.65)\nStacktrace:\nBacktrace:\n\t(No symbol) [0x00F1DCE3]\n\t(No symbol) [0x00EB39D1]\n\t(No symbol) [0x00DC4DA8]\n\t(No symbol) [0x00DC12F7]\n\t(No symbol) [0x00DB8835]\n\t(No symbol) [0x00DB980A]\n\t(No symbol) [0x00DB8B10]\n\t(No symbol) [0x00DB7F65]\n\t(No symbol) [0x00DB7EFC]\n\t(No symbol) [0x00DB6BF6]\n\t(No symbol) [0x00DB7358]\n\t(No symbol) [0x00DC6542]\n\t(No symbol) [0x00E1DB91]\n\t(No symbol) [0x00E0AECC]\n\t(No symbol) [0x00E1D57C]\n\t(No symbol) [0x00E0ACC6]\n\t(No symbol) [0x00DE6F68]\n\t(No symbol) [0x00DE80CD]\n\tGetHandleVerifier [0x01193832+2506274]\n\tGetHandleVerifier [0x011C9794+2727300]\n\tGetHandleVerifier [0x011CE36C+2746716]\n\tGetHandleVerifier [0x00FC6690+617600]\n\t(No symbol) [0x00EBC712]\n\t(No symbol) [0x00EC1FF8]\n\t(No symbol) [0x00EC20DB]\n\t(No symbol) [0x00ECC63B]\n\tBaseThreadInitThunk [0x76447D69+25]\n\tRtlInitializeExceptionChain [0x76F2BB9B+107]\n\tRtlClearBits [0x76F2BB1F+191]\n",
     "output_type": "error",
     "traceback": [
      "\u001b[1;31m---------------------------------------------------------------------------\u001b[0m",
      "\u001b[1;31mWebDriverException\u001b[0m                        Traceback (most recent call last)",
      "Cell \u001b[1;32mIn[5], line 7\u001b[0m\n\u001b[0;32m      5\u001b[0m list_href \u001b[38;5;241m=\u001b[39m []\n\u001b[0;32m      6\u001b[0m \u001b[38;5;28;01mfor\u001b[39;00m i \u001b[38;5;129;01min\u001b[39;00m \u001b[38;5;28mrange\u001b[39m(dict_page[\u001b[38;5;124m'\u001b[39m\u001b[38;5;124mmax_page\u001b[39m\u001b[38;5;124m'\u001b[39m]):\n\u001b[1;32m----> 7\u001b[0m     \u001b[43mbrowser\u001b[49m\u001b[38;5;241;43m.\u001b[39;49m\u001b[43mget\u001b[49m\u001b[43m(\u001b[49m\u001b[43mdict_page\u001b[49m\u001b[43m[\u001b[49m\u001b[38;5;124;43m'\u001b[39;49m\u001b[38;5;124;43murl\u001b[39;49m\u001b[38;5;124;43m'\u001b[39;49m\u001b[43m]\u001b[49m\u001b[38;5;241;43m.\u001b[39;49m\u001b[43mreplace\u001b[49m\u001b[43m(\u001b[49m\u001b[38;5;124;43m'\u001b[39;49m\u001b[38;5;124;43mWHAT_THE_FUCK\u001b[39;49m\u001b[38;5;124;43m'\u001b[39;49m\u001b[43m,\u001b[49m\u001b[43m \u001b[49m\u001b[38;5;28;43mstr\u001b[39;49m\u001b[43m(\u001b[49m\u001b[43mi\u001b[49m\u001b[38;5;241;43m*\u001b[39;49m\u001b[38;5;241;43m100\u001b[39;49m\u001b[43m)\u001b[49m\u001b[43m)\u001b[49m\u001b[43m)\u001b[49m\n\u001b[0;32m      8\u001b[0m     \u001b[38;5;28;01mwhile\u001b[39;00m \u001b[38;5;28mlen\u001b[39m(browser\u001b[38;5;241m.\u001b[39mfind_elements(by\u001b[38;5;241m=\u001b[39mBy\u001b[38;5;241m.\u001b[39mCLASS_NAME, value\u001b[38;5;241m=\u001b[39m\u001b[38;5;124m'\u001b[39m\u001b[38;5;124mcaptcha-mid\u001b[39m\u001b[38;5;124m'\u001b[39m)) \u001b[38;5;241m!=\u001b[39m \u001b[38;5;241m0\u001b[39m:\n\u001b[0;32m      9\u001b[0m         \u001b[38;5;28mprint\u001b[39m(\u001b[38;5;124m'\u001b[39m\u001b[38;5;124m我尼玛反爬，换ip...\u001b[39m\u001b[38;5;124m'\u001b[39m)\n",
      "File \u001b[1;32mD:\\Lennon\\python\\venv\\lib\\site-packages\\selenium\\webdriver\\remote\\webdriver.py:455\u001b[0m, in \u001b[0;36mWebDriver.get\u001b[1;34m(self, url)\u001b[0m\n\u001b[0;32m    451\u001b[0m \u001b[38;5;28;01mdef\u001b[39;00m \u001b[38;5;21mget\u001b[39m(\u001b[38;5;28mself\u001b[39m, url: \u001b[38;5;28mstr\u001b[39m) \u001b[38;5;241m-\u001b[39m\u001b[38;5;241m>\u001b[39m \u001b[38;5;28;01mNone\u001b[39;00m:\n\u001b[0;32m    452\u001b[0m \u001b[38;5;250m    \u001b[39m\u001b[38;5;124;03m\"\"\"\u001b[39;00m\n\u001b[0;32m    453\u001b[0m \u001b[38;5;124;03m    Loads a web page in the current browser session.\u001b[39;00m\n\u001b[0;32m    454\u001b[0m \u001b[38;5;124;03m    \"\"\"\u001b[39;00m\n\u001b[1;32m--> 455\u001b[0m     \u001b[38;5;28;43mself\u001b[39;49m\u001b[38;5;241;43m.\u001b[39;49m\u001b[43mexecute\u001b[49m\u001b[43m(\u001b[49m\u001b[43mCommand\u001b[49m\u001b[38;5;241;43m.\u001b[39;49m\u001b[43mGET\u001b[49m\u001b[43m,\u001b[49m\u001b[43m \u001b[49m\u001b[43m{\u001b[49m\u001b[38;5;124;43m\"\u001b[39;49m\u001b[38;5;124;43murl\u001b[39;49m\u001b[38;5;124;43m\"\u001b[39;49m\u001b[43m:\u001b[49m\u001b[43m \u001b[49m\u001b[43murl\u001b[49m\u001b[43m}\u001b[49m\u001b[43m)\u001b[49m\n",
      "File \u001b[1;32mD:\\Lennon\\python\\venv\\lib\\site-packages\\selenium\\webdriver\\remote\\webdriver.py:444\u001b[0m, in \u001b[0;36mWebDriver.execute\u001b[1;34m(self, driver_command, params)\u001b[0m\n\u001b[0;32m    442\u001b[0m response \u001b[38;5;241m=\u001b[39m \u001b[38;5;28mself\u001b[39m\u001b[38;5;241m.\u001b[39mcommand_executor\u001b[38;5;241m.\u001b[39mexecute(driver_command, params)\n\u001b[0;32m    443\u001b[0m \u001b[38;5;28;01mif\u001b[39;00m response:\n\u001b[1;32m--> 444\u001b[0m     \u001b[38;5;28;43mself\u001b[39;49m\u001b[38;5;241;43m.\u001b[39;49m\u001b[43merror_handler\u001b[49m\u001b[38;5;241;43m.\u001b[39;49m\u001b[43mcheck_response\u001b[49m\u001b[43m(\u001b[49m\u001b[43mresponse\u001b[49m\u001b[43m)\u001b[49m\n\u001b[0;32m    445\u001b[0m     response[\u001b[38;5;124m\"\u001b[39m\u001b[38;5;124mvalue\u001b[39m\u001b[38;5;124m\"\u001b[39m] \u001b[38;5;241m=\u001b[39m \u001b[38;5;28mself\u001b[39m\u001b[38;5;241m.\u001b[39m_unwrap_value(response\u001b[38;5;241m.\u001b[39mget(\u001b[38;5;124m\"\u001b[39m\u001b[38;5;124mvalue\u001b[39m\u001b[38;5;124m\"\u001b[39m, \u001b[38;5;28;01mNone\u001b[39;00m))\n\u001b[0;32m    446\u001b[0m     \u001b[38;5;28;01mreturn\u001b[39;00m response\n",
      "File \u001b[1;32mD:\\Lennon\\python\\venv\\lib\\site-packages\\selenium\\webdriver\\remote\\errorhandler.py:249\u001b[0m, in \u001b[0;36mErrorHandler.check_response\u001b[1;34m(self, response)\u001b[0m\n\u001b[0;32m    247\u001b[0m         alert_text \u001b[38;5;241m=\u001b[39m value[\u001b[38;5;124m\"\u001b[39m\u001b[38;5;124malert\u001b[39m\u001b[38;5;124m\"\u001b[39m]\u001b[38;5;241m.\u001b[39mget(\u001b[38;5;124m\"\u001b[39m\u001b[38;5;124mtext\u001b[39m\u001b[38;5;124m\"\u001b[39m)\n\u001b[0;32m    248\u001b[0m     \u001b[38;5;28;01mraise\u001b[39;00m exception_class(message, screen, stacktrace, alert_text)  \u001b[38;5;66;03m# type: ignore[call-arg]  # mypy is not smart enough here\u001b[39;00m\n\u001b[1;32m--> 249\u001b[0m \u001b[38;5;28;01mraise\u001b[39;00m exception_class(message, screen, stacktrace)\n",
      "\u001b[1;31mWebDriverException\u001b[0m: Message: unknown error: net::ERR_PROXY_CONNECTION_FAILED\n  (Session info: chrome=111.0.5563.65)\nStacktrace:\nBacktrace:\n\t(No symbol) [0x00F1DCE3]\n\t(No symbol) [0x00EB39D1]\n\t(No symbol) [0x00DC4DA8]\n\t(No symbol) [0x00DC12F7]\n\t(No symbol) [0x00DB8835]\n\t(No symbol) [0x00DB980A]\n\t(No symbol) [0x00DB8B10]\n\t(No symbol) [0x00DB7F65]\n\t(No symbol) [0x00DB7EFC]\n\t(No symbol) [0x00DB6BF6]\n\t(No symbol) [0x00DB7358]\n\t(No symbol) [0x00DC6542]\n\t(No symbol) [0x00E1DB91]\n\t(No symbol) [0x00E0AECC]\n\t(No symbol) [0x00E1D57C]\n\t(No symbol) [0x00E0ACC6]\n\t(No symbol) [0x00DE6F68]\n\t(No symbol) [0x00DE80CD]\n\tGetHandleVerifier [0x01193832+2506274]\n\tGetHandleVerifier [0x011C9794+2727300]\n\tGetHandleVerifier [0x011CE36C+2746716]\n\tGetHandleVerifier [0x00FC6690+617600]\n\t(No symbol) [0x00EBC712]\n\t(No symbol) [0x00EC1FF8]\n\t(No symbol) [0x00EC20DB]\n\t(No symbol) [0x00ECC63B]\n\tBaseThreadInitThunk [0x76447D69+25]\n\tRtlInitializeExceptionChain [0x76F2BB9B+107]\n\tRtlClearBits [0x76F2BB1F+191]\n"
     ]
    }
   ],
   "source": [
    "list_manufacturer = []\n",
    "list_category = []\n",
    "list_summary = []\n",
    "list_url = []\n",
    "list_href = []\n",
    "for i in range(dict_page['max_page']):\n",
    "    browser.get(dict_page['url'].replace('WHAT_THE_FUCK', str(i*100)))\n",
    "    while len(browser.find_elements(by=By.CLASS_NAME, value='captcha-mid')) != 0:\n",
    "        print('我尼玛反爬，换ip...')\n",
    "        browser.quit()\n",
    "        time.sleep(3)\n",
    "        browser = webdriver.Chrome(options=chrome_options)\n",
    "        browser.get(dict_page['url'].replace('WHAT_THE_FUCK', str(i*100)))\n",
    "    \n",
    "    print('爬取页面'+str(i+1)+'，实在是太6了！')\n",
    "    list_article = browser.find_elements(by=By.XPATH, value='//*[@class=\"row searchResults\"]')\n",
    "    for article in list_article:\n",
    "        img = article.find_element(by=By.CLASS_NAME, value='searchItems-img')\n",
    "        list_url.append(img.find_element(by=By.TAG_NAME, value='a').get_attribute('href'))\n",
    "        list_href.append(img.find_element(by=By.TAG_NAME, value='img').get_attribute('src'))\n",
    "        info = article.find_element(by=By.CLASS_NAME, value='searchItems-info')\n",
    "        list_manufacturer.append(info.find_element(by=By.TAG_NAME, value='h2').text)\n",
    "        list_category.append(info.find_elements(by=By.TAG_NAME, value='div')[1].text)\n",
    "        if len(info.find_elements(by=By.TAG_NAME, value='p')) == 0:\n",
    "            summary = ''\n",
    "        else:\n",
    "            summary = info.find_elements(by=By.TAG_NAME, value='p')[0].text\n",
    "        list_summary.append(summary)\n",
    "    \n",
    "    time.sleep(1)\n",
    "\n",
    "browser.quit()"
   ]
  },
  {
   "cell_type": "code",
   "execution_count": null,
   "id": "31ddf5b6",
   "metadata": {},
   "outputs": [],
   "source": [
    "import pandas as pd"
   ]
  },
  {
   "cell_type": "code",
   "execution_count": null,
   "id": "6818c431",
   "metadata": {},
   "outputs": [],
   "source": [
    "pd.DataFrame({'工厂号': list_manufacturer,\n",
    "              '品类': list_category,\n",
    "              '段落': list_summary,\n",
    "              '链接': list_url,\n",
    "              '图片': list_href}).to_excel(out, index=False)"
   ]
  },
  {
   "cell_type": "code",
   "execution_count": null,
   "id": "e726ba5a",
   "metadata": {},
   "outputs": [],
   "source": []
  }
 ],
 "metadata": {
  "kernelspec": {
   "display_name": "Python 3 (ipykernel)",
   "language": "python",
   "name": "python3"
  },
  "language_info": {
   "codemirror_mode": {
    "name": "ipython",
    "version": 3
   },
   "file_extension": ".py",
   "mimetype": "text/x-python",
   "name": "python",
   "nbconvert_exporter": "python",
   "pygments_lexer": "ipython3",
   "version": "3.9.12"
  }
 },
 "nbformat": 4,
 "nbformat_minor": 5
}
