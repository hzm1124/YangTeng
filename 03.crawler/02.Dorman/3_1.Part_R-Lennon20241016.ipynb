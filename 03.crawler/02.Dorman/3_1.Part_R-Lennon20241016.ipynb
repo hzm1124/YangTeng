{
 "cells": [
  {
   "cell_type": "code",
   "execution_count": 1,
   "id": "28567785-1bca-439f-9042-e39b3255a55b",
   "metadata": {},
   "outputs": [],
   "source": [
    "import os\n",
    "\n",
    "# = = = = = = = = = = = = = = =\n",
    "\n",
    "import pandas as pd\n",
    "\n",
    "# = = = = = = = = = = = = = = =\n",
    "\n",
    "import requests\n",
    "\n",
    "import sys\n",
    "sys.path.append('../00.Tools')\n",
    "from crawler_configuration import get_header, get_proxy\n",
    "\n",
    "from bs4 import BeautifulSoup\n",
    "from lxml import etree\n",
    "\n",
    "# = = = = = = = = = = = = = = =\n",
    "\n",
    "import json"
   ]
  },
  {
   "cell_type": "code",
   "execution_count": 2,
   "id": "9b75b948-9701-432e-a5ef-88d0e629bd2c",
   "metadata": {},
   "outputs": [
    {
     "data": {
      "text/plain": [
       "'crawler_1.xlsx'"
      ]
     },
     "execution_count": 2,
     "metadata": {},
     "output_type": "execute_result"
    }
   ],
   "source": [
    "directory_in = './file/2.url'\n",
    "\n",
    "list_file = [file for file in sorted(os.listdir(directory_in)) if file not in ['.DS_Store'] and os.path.isfile(f'{directory_in}/{file}')]\n",
    "file = list_file[0]\n",
    "\n",
    "file"
   ]
  },
  {
   "cell_type": "code",
   "execution_count": 3,
   "id": "5d22fc26-a390-442a-bfe3-4d409c33f1e7",
   "metadata": {
    "scrolled": true
   },
   "outputs": [
    {
     "name": "stdout",
     "output_type": "stream",
     "text": [
      "总数量：93\n",
      "\n"
     ]
    },
    {
     "data": {
      "text/html": [
       "<div>\n",
       "<style scoped>\n",
       "    .dataframe tbody tr th:only-of-type {\n",
       "        vertical-align: middle;\n",
       "    }\n",
       "\n",
       "    .dataframe tbody tr th {\n",
       "        vertical-align: top;\n",
       "    }\n",
       "\n",
       "    .dataframe thead th {\n",
       "        text-align: right;\n",
       "    }\n",
       "</style>\n",
       "<table border=\"1\" class=\"dataframe\">\n",
       "  <thead>\n",
       "    <tr style=\"text-align: right;\">\n",
       "      <th></th>\n",
       "      <th>No</th>\n",
       "      <th>Url</th>\n",
       "    </tr>\n",
       "  </thead>\n",
       "  <tbody>\n",
       "    <tr>\n",
       "      <th>0</th>\n",
       "      <td>1</td>\n",
       "      <td>https://www.dormanproducts.com/p-17668-34198.a...</td>\n",
       "    </tr>\n",
       "    <tr>\n",
       "      <th>1</th>\n",
       "      <td>2</td>\n",
       "      <td>https://www.dormanproducts.com/p-7395-34197.as...</td>\n",
       "    </tr>\n",
       "    <tr>\n",
       "      <th>2</th>\n",
       "      <td>3</td>\n",
       "      <td>https://www.dormanproducts.com/p-6889-34187.as...</td>\n",
       "    </tr>\n",
       "    <tr>\n",
       "      <th>3</th>\n",
       "      <td>4</td>\n",
       "      <td>https://www.dormanproducts.com/p-25955-34188.a...</td>\n",
       "    </tr>\n",
       "    <tr>\n",
       "      <th>4</th>\n",
       "      <td>5</td>\n",
       "      <td>https://www.dormanproducts.com/p-32262-34189.a...</td>\n",
       "    </tr>\n",
       "    <tr>\n",
       "      <th>...</th>\n",
       "      <td>...</td>\n",
       "      <td>...</td>\n",
       "    </tr>\n",
       "    <tr>\n",
       "      <th>88</th>\n",
       "      <td>89</td>\n",
       "      <td>https://www.dormanproducts.com/p-131747-34869....</td>\n",
       "    </tr>\n",
       "    <tr>\n",
       "      <th>89</th>\n",
       "      <td>90</td>\n",
       "      <td>https://www.dormanproducts.com/p-131983-34868....</td>\n",
       "    </tr>\n",
       "    <tr>\n",
       "      <th>90</th>\n",
       "      <td>91</td>\n",
       "      <td>https://www.dormanproducts.com/p-88995-34283.a...</td>\n",
       "    </tr>\n",
       "    <tr>\n",
       "      <th>91</th>\n",
       "      <td>92</td>\n",
       "      <td>https://www.dormanproducts.com/p-81798-419-500...</td>\n",
       "    </tr>\n",
       "    <tr>\n",
       "      <th>92</th>\n",
       "      <td>93</td>\n",
       "      <td>https://www.dormanproducts.com/p-23959-419-604...</td>\n",
       "    </tr>\n",
       "  </tbody>\n",
       "</table>\n",
       "<p>93 rows × 2 columns</p>\n",
       "</div>"
      ],
      "text/plain": [
       "    No                                                Url\n",
       "0    1  https://www.dormanproducts.com/p-17668-34198.a...\n",
       "1    2  https://www.dormanproducts.com/p-7395-34197.as...\n",
       "2    3  https://www.dormanproducts.com/p-6889-34187.as...\n",
       "3    4  https://www.dormanproducts.com/p-25955-34188.a...\n",
       "4    5  https://www.dormanproducts.com/p-32262-34189.a...\n",
       "..  ..                                                ...\n",
       "88  89  https://www.dormanproducts.com/p-131747-34869....\n",
       "89  90  https://www.dormanproducts.com/p-131983-34868....\n",
       "90  91  https://www.dormanproducts.com/p-88995-34283.a...\n",
       "91  92  https://www.dormanproducts.com/p-81798-419-500...\n",
       "92  93  https://www.dormanproducts.com/p-23959-419-604...\n",
       "\n",
       "[93 rows x 2 columns]"
      ]
     },
     "execution_count": 3,
     "metadata": {},
     "output_type": "execute_result"
    }
   ],
   "source": [
    "list_dict_correct, list_series_error, df_input = [], [], pd.read_excel(f'{directory_in}/{file}',\n",
    "                                                                       header=0,\n",
    "                                                                       dtype=str).fillna('')\n",
    "\n",
    "df_input['No'] = df_input['No'].astype(int)\n",
    "\n",
    "count_remain = len(df_input)\n",
    "\n",
    "print(f'总数量：{count_remain}')\n",
    "print()\n",
    "df_input"
   ]
  },
  {
   "cell_type": "code",
   "execution_count": 4,
   "id": "5878a9f0-d639-4123-b6e0-bc564f72c2d6",
   "metadata": {},
   "outputs": [
    {
     "data": {
      "text/plain": [
       "(False,\n",
       " 0,\n",
       " No                                                     1\n",
       " Url    https://www.dormanproducts.com/p-17668-34198.a...\n",
       " Name: 0, dtype: object)"
      ]
     },
     "execution_count": 4,
     "metadata": {},
     "output_type": "execute_result"
    }
   ],
   "source": [
    "crawler_status, (crawler_index, crawler_series) = False, next(df_input.iterrows())\n",
    "\n",
    "crawler_status, crawler_index, crawler_series"
   ]
  },
  {
   "cell_type": "code",
   "execution_count": 5,
   "id": "ad99bc86-6e80-4fcf-8200-736dc5101097",
   "metadata": {},
   "outputs": [
    {
     "name": "stdout",
     "output_type": "stream",
     "text": [
      "1\n"
     ]
    },
    {
     "data": {
      "text/plain": [
       "'Air Conditioning Bypass Pulley'"
      ]
     },
     "execution_count": 5,
     "metadata": {},
     "output_type": "execute_result"
    }
   ],
   "source": [
    "import time\n",
    "\n",
    "count_retry = 0\n",
    "while True:\n",
    "    count_retry += 1\n",
    "    print(count_retry)\n",
    "    try:\n",
    "        url_request = crawler_series['Url']\n",
    "\n",
    "        resp = requests.get(url_request,\n",
    "                            headers=get_header(),\n",
    "                            proxies=get_proxy(),\n",
    "                            timeout=(5, 15))\n",
    "\n",
    "        if resp.status_code == 200:\n",
    "            soup = BeautifulSoup(resp.text, 'lxml')\n",
    "            html = etree.HTML(str(soup))\n",
    "\n",
    "            type_ = html.xpath('//h1/span[@id=\"lblPartTypeName\"]/text()')[0].strip()\n",
    "            if type_:\n",
    "                with open('./part.html', 'w', encoding='UTF-8') as file:\n",
    "                    file.write(str(soup))\n",
    "                break\n",
    "    except KeyboardInterrupt:\n",
    "        break\n",
    "    except:\n",
    "        time.sleep(3)\n",
    "        continue\n",
    "\n",
    "type_"
   ]
  },
  {
   "cell_type": "code",
   "execution_count": 6,
   "id": "f933a1ab-8825-469f-91db-99d00e8d5c6d",
   "metadata": {
    "scrolled": true
   },
   "outputs": [
    {
     "data": {
      "text/plain": [
       "{'0': 'https://static.dormanproducts.com/images/product/medium/34198-007.JPG'}"
      ]
     },
     "execution_count": 6,
     "metadata": {},
     "output_type": "execute_result"
    }
   ],
   "source": [
    "dict_src, i, list_href = {}, 0, list(reversed([href.strip() for href in html.xpath('//a[@data-zoom-id=\"ProductPic\"]/@href')]))\n",
    "for href in list_href:\n",
    "    if href.startswith('http'):\n",
    "        dict_src[str(i)] = href\n",
    "        i += 1\n",
    "\n",
    "if not list_href:\n",
    "    list_href = [href.strip() for href in html.xpath('//a[@id=\"ProductPic\"]/@href')]\n",
    "    if list_href:\n",
    "        dict_src = {'0': list_href[0]}\n",
    "\n",
    "dict_src"
   ]
  },
  {
   "cell_type": "code",
   "execution_count": 7,
   "id": "43844a94-a200-41b1-a313-ed0256b88c71",
   "metadata": {},
   "outputs": [
    {
     "data": {
      "text/plain": [
       "'34198'"
      ]
     },
     "execution_count": 7,
     "metadata": {},
     "output_type": "execute_result"
    }
   ],
   "source": [
    "part_number = html.xpath('//span[@id=\"lblProductName\"]/text()')[0].strip()\n",
    "\n",
    "part_number"
   ]
  },
  {
   "cell_type": "code",
   "execution_count": 8,
   "id": "46eff63e-1cfa-4a23-ba9e-8351742e8400",
   "metadata": {
    "scrolled": true
   },
   "outputs": [
    {
     "data": {
      "text/plain": [
       "'Air Conditioning Bypass Pulley'"
      ]
     },
     "execution_count": 8,
     "metadata": {},
     "output_type": "execute_result"
    }
   ],
   "source": [
    "description = html.xpath('//span[@id=\"lblProductDesc\"]/text()')[0].strip()\n",
    "\n",
    "description"
   ]
  },
  {
   "cell_type": "code",
   "execution_count": 9,
   "id": "5f282eda-54ac-4f8e-a37c-412537540e5f",
   "metadata": {},
   "outputs": [
    {
     "data": {
      "text/plain": [
       "'Buick 1991 & 1989, Chevrolet 1996-94, 1991-89, GMC 1996-94, Oldsmobile 1991-89, Pontiac 1991-89'"
      ]
     },
     "execution_count": 9,
     "metadata": {},
     "output_type": "execute_result"
    }
   ],
   "source": [
    "list_text = [text.strip() for text in html.xpath('//div[@id=\"divAppSummary\"]/p/text()')]\n",
    "while '' in list_text:\n",
    "    list_text.remove('')\n",
    "\n",
    "application_summary = ';'.join(list_text)\n",
    "\n",
    "application_summary"
   ]
  },
  {
   "cell_type": "code",
   "execution_count": 10,
   "id": "e6506b87-53eb-4664-b3d4-f6ba7a650979",
   "metadata": {},
   "outputs": [
    {
     "data": {
      "text/plain": [
       "'Dorman - HELP! - Boxed'"
      ]
     },
     "execution_count": 10,
     "metadata": {},
     "output_type": "execute_result"
    }
   ],
   "source": [
    "brand = html.xpath('//span[@id=\"lblBrandName\"]/text()')[0].strip()\n",
    "\n",
    "brand"
   ]
  },
  {
   "cell_type": "code",
   "execution_count": 11,
   "id": "93bb5264-dfb2-41db-9baf-5978154f39a7",
   "metadata": {},
   "outputs": [
    {
     "data": {
      "text/plain": [
       "'https://www.dormanproducts.com/itemdetailapp.aspx?ProductID=17668&PartType=Air%20Conditioning%20Bypass%20Pulley'"
      ]
     },
     "execution_count": 11,
     "metadata": {},
     "output_type": "execute_result"
    }
   ],
   "source": [
    "value = html.xpath('//input[@id=\"hidfDetailApp\"]/@value')\n",
    "vehicle_url = f'https://www.dormanproducts.com/{value[0].strip()}' if value else ''\n",
    "\n",
    "vehicle_url"
   ]
  },
  {
   "cell_type": "code",
   "execution_count": 12,
   "id": "4fede4d9-4b8d-4484-bccf-920a04c411b9",
   "metadata": {},
   "outputs": [
    {
     "data": {
      "text/plain": [
       "{'0': {'Compressor Type': 'Fs10'},\n",
       " '1': {'Installation Instructions Included': 'Yes'},\n",
       " '2': {'Material': 'Plastic Pulley; Aluminum Bracket'},\n",
       " '3': {'Mounting Bracket Included': 'Yes'},\n",
       " '4': {'Mounting Hardware Included': 'Yes'},\n",
       " '5': {'Number of Pulleys Included': '1'},\n",
       " '6': {'Outside Diameter': '114 mm'},\n",
       " '7': {'Package Contents': 'Pulley; Bracket; and Installation Hardware'},\n",
       " '8': {'Package Quantity': '1'},\n",
       " '9': {'Packaging Type': 'Box'},\n",
       " '10': {'Pulley Type/Grooves': 'Serpentine'}}"
      ]
     },
     "execution_count": 12,
     "metadata": {},
     "output_type": "execute_result"
    }
   ],
   "source": [
    "list_tr, dict_count = html.xpath('//section[@id=\"productSpec\"]/div/table/tr'), {}\n",
    "for tr in list_tr:\n",
    "    key = tr.xpath('./th/text()')[0].strip().removesuffix(':').strip()\n",
    "    if key in dict_count:\n",
    "        dict_count[key] += 1\n",
    "    else:\n",
    "        dict_count[key] = 1\n",
    "\n",
    "dict_specification, dict_no = {}, {}\n",
    "for i, tr in enumerate(list_tr):\n",
    "    key = tr.xpath('./th/text()')[0].strip().removesuffix(':').strip()\n",
    "    if dict_count[key] == 1:\n",
    "        dict_specification[str(i)] = {key: tr.xpath('./td/text()')[0].strip()}\n",
    "    else:\n",
    "        if key in dict_no:\n",
    "            dict_no[key] += 1\n",
    "        else:\n",
    "            dict_no[key] = 1\n",
    "        dict_specification[str(i)] = {f'{key}-{dict_no[key]}': tr.xpath('./td/text()')[0].strip()}\n",
    "\n",
    "dict_specification"
   ]
  },
  {
   "cell_type": "code",
   "execution_count": 13,
   "id": "3f5e2322-f0e0-42c7-8f79-2c520f64bb3e",
   "metadata": {},
   "outputs": [
    {
     "data": {
      "text/plain": [
       "''"
      ]
     },
     "execution_count": 13,
     "metadata": {},
     "output_type": "execute_result"
    }
   ],
   "source": [
    "list_text = [text.strip() for text in html.xpath('//section[@id=\"productOE\"]/div/table/tbody/tr/th/text()')]\n",
    "oem = ';'.join(sorted(list(set(list_text)), key=list_text.index))\n",
    "\n",
    "oem"
   ]
  },
  {
   "cell_type": "code",
   "execution_count": 14,
   "id": "99f49dd4-107b-4d6f-9ed6-1db0c1be6093",
   "metadata": {},
   "outputs": [
    {
     "data": {
      "text/plain": [
       "[{'No': 1,\n",
       "  'Type': 'Air Conditioning Bypass Pulley',\n",
       "  'Part Number': '34198',\n",
       "  'Brand': 'Dorman - HELP! - Boxed',\n",
       "  'Description': 'Air Conditioning Bypass Pulley',\n",
       "  'Application Summary': 'Buick 1991 & 1989, Chevrolet 1996-94, 1991-89, GMC 1996-94, Oldsmobile 1991-89, Pontiac 1991-89',\n",
       "  'OEM': '',\n",
       "  'Picture': '',\n",
       "  'Url': 'https://www.dormanproducts.com/p-17668-34198.aspx?origin=keyword',\n",
       "  'Json_Src': '{\"0\": \"https://static.dormanproducts.com/images/product/medium/34198-007.JPG\"}',\n",
       "  'Vehicle Url': 'https://www.dormanproducts.com/itemdetailapp.aspx?ProductID=17668&PartType=Air%20Conditioning%20Bypass%20Pulley',\n",
       "  'Json_Specification': '{\"0\": {\"Compressor Type\": \"Fs10\"}, \"1\": {\"Installation Instructions Included\": \"Yes\"}, \"2\": {\"Material\": \"Plastic Pulley; Aluminum Bracket\"}, \"3\": {\"Mounting Bracket Included\": \"Yes\"}, \"4\": {\"Mounting Hardware Included\": \"Yes\"}, \"5\": {\"Number of Pulleys Included\": \"1\"}, \"6\": {\"Outside Diameter\": \"114 mm\"}, \"7\": {\"Package Contents\": \"Pulley; Bracket; and Installation Hardware\"}, \"8\": {\"Package Quantity\": \"1\"}, \"9\": {\"Packaging Type\": \"Box\"}, \"10\": {\"Pulley Type/Grooves\": \"Serpentine\"}}'}]"
      ]
     },
     "execution_count": 14,
     "metadata": {},
     "output_type": "execute_result"
    }
   ],
   "source": [
    "list_dict_correct.append({'No': crawler_series['No'],\n",
    "                          'Type': type_,\n",
    "                          'Part Number': part_number,\n",
    "                          'Brand': brand,\n",
    "                          'Description': description,\n",
    "                          'Application Summary': application_summary,\n",
    "                          'OEM': oem,\n",
    "                          'Picture': '',\n",
    "                          'Url': url_request,\n",
    "                          'Json_Src': json.dumps(dict_src),\n",
    "                          'Vehicle Url': vehicle_url,\n",
    "                          'Json_Specification': json.dumps(dict_specification)})\n",
    "\n",
    "list_dict_correct"
   ]
  },
  {
   "cell_type": "code",
   "execution_count": 15,
   "id": "fc4ed7f6-ed4f-431c-b944-b1690309cdae",
   "metadata": {},
   "outputs": [
    {
     "data": {
      "text/plain": [
       "True"
      ]
     },
     "execution_count": 15,
     "metadata": {},
     "output_type": "execute_result"
    }
   ],
   "source": [
    "crawler_status = True\n",
    "\n",
    "crawler_status"
   ]
  },
  {
   "cell_type": "code",
   "execution_count": 16,
   "id": "65c745d1-446e-46c5-9dec-819c9f7944d3",
   "metadata": {},
   "outputs": [
    {
     "data": {
      "text/plain": [
       "[No                                                             1\n",
       " Url            https://www.dormanproducts.com/p-17668-34198.a...\n",
       " Request_Url    https://www.dormanproducts.com/p-17668-34198.a...\n",
       " Name: 0, dtype: object]"
      ]
     },
     "execution_count": 16,
     "metadata": {},
     "output_type": "execute_result"
    }
   ],
   "source": [
    "crawler_series['Request_Url'] = url_request\n",
    "\n",
    "list_series_error.append(crawler_series)\n",
    "\n",
    "list_series_error"
   ]
  },
  {
   "cell_type": "code",
   "execution_count": 17,
   "id": "17a796b2-35c8-4c10-960e-6111fec4b993",
   "metadata": {},
   "outputs": [
    {
     "data": {
      "text/html": [
       "<div>\n",
       "<style scoped>\n",
       "    .dataframe tbody tr th:only-of-type {\n",
       "        vertical-align: middle;\n",
       "    }\n",
       "\n",
       "    .dataframe tbody tr th {\n",
       "        vertical-align: top;\n",
       "    }\n",
       "\n",
       "    .dataframe thead th {\n",
       "        text-align: right;\n",
       "    }\n",
       "</style>\n",
       "<table border=\"1\" class=\"dataframe\">\n",
       "  <thead>\n",
       "    <tr style=\"text-align: right;\">\n",
       "      <th></th>\n",
       "      <th>No</th>\n",
       "      <th>Type</th>\n",
       "      <th>Part Number</th>\n",
       "      <th>Brand</th>\n",
       "      <th>Description</th>\n",
       "      <th>Application Summary</th>\n",
       "      <th>OEM</th>\n",
       "      <th>Picture</th>\n",
       "      <th>Url</th>\n",
       "      <th>Json_Src</th>\n",
       "      <th>Vehicle Url</th>\n",
       "      <th>Json_Specification</th>\n",
       "    </tr>\n",
       "  </thead>\n",
       "  <tbody>\n",
       "    <tr>\n",
       "      <th>0</th>\n",
       "      <td>1</td>\n",
       "      <td>Air Conditioning Bypass Pulley</td>\n",
       "      <td>34198</td>\n",
       "      <td>Dorman - HELP! - Boxed</td>\n",
       "      <td>Air Conditioning Bypass Pulley</td>\n",
       "      <td>Buick 1991 &amp; 1989, Chevrolet 1996-94, 1991-89,...</td>\n",
       "      <td></td>\n",
       "      <td></td>\n",
       "      <td>https://www.dormanproducts.com/p-17668-34198.a...</td>\n",
       "      <td>{\"0\": \"https://static.dormanproducts.com/image...</td>\n",
       "      <td>https://www.dormanproducts.com/itemdetailapp.a...</td>\n",
       "      <td>{\"0\": {\"Compressor Type\": \"Fs10\"}, \"1\": {\"Inst...</td>\n",
       "    </tr>\n",
       "  </tbody>\n",
       "</table>\n",
       "</div>"
      ],
      "text/plain": [
       "   No                            Type Part Number                   Brand  \\\n",
       "0   1  Air Conditioning Bypass Pulley       34198  Dorman - HELP! - Boxed   \n",
       "\n",
       "                      Description  \\\n",
       "0  Air Conditioning Bypass Pulley   \n",
       "\n",
       "                                 Application Summary OEM Picture  \\\n",
       "0  Buick 1991 & 1989, Chevrolet 1996-94, 1991-89,...               \n",
       "\n",
       "                                                 Url  \\\n",
       "0  https://www.dormanproducts.com/p-17668-34198.a...   \n",
       "\n",
       "                                            Json_Src  \\\n",
       "0  {\"0\": \"https://static.dormanproducts.com/image...   \n",
       "\n",
       "                                         Vehicle Url  \\\n",
       "0  https://www.dormanproducts.com/itemdetailapp.a...   \n",
       "\n",
       "                                  Json_Specification  \n",
       "0  {\"0\": {\"Compressor Type\": \"Fs10\"}, \"1\": {\"Inst...  "
      ]
     },
     "execution_count": 17,
     "metadata": {},
     "output_type": "execute_result"
    }
   ],
   "source": [
    "if list_dict_correct:\n",
    "    df_correct = pd.DataFrame(list_dict_correct).sort_values(by=['Type', 'Part Number'],\n",
    "                                                             ascending=[True, True],\n",
    "                                                             ignore_index=True)\n",
    "    df_correct['No'] = range(1, len(df_correct) + 1)\n",
    "    df_correct.to_excel('./test_part.xlsx', index=False)\n",
    "\n",
    "df_correct"
   ]
  },
  {
   "cell_type": "code",
   "execution_count": 18,
   "id": "b21c3fac-203a-4c6e-b7ae-b0ac1a112665",
   "metadata": {},
   "outputs": [
    {
     "data": {
      "text/html": [
       "<div>\n",
       "<style scoped>\n",
       "    .dataframe tbody tr th:only-of-type {\n",
       "        vertical-align: middle;\n",
       "    }\n",
       "\n",
       "    .dataframe tbody tr th {\n",
       "        vertical-align: top;\n",
       "    }\n",
       "\n",
       "    .dataframe thead th {\n",
       "        text-align: right;\n",
       "    }\n",
       "</style>\n",
       "<table border=\"1\" class=\"dataframe\">\n",
       "  <thead>\n",
       "    <tr style=\"text-align: right;\">\n",
       "      <th></th>\n",
       "      <th>No</th>\n",
       "      <th>Url</th>\n",
       "      <th>Request_Url</th>\n",
       "    </tr>\n",
       "  </thead>\n",
       "  <tbody>\n",
       "    <tr>\n",
       "      <th>0</th>\n",
       "      <td>1</td>\n",
       "      <td>https://www.dormanproducts.com/p-17668-34198.a...</td>\n",
       "      <td>https://www.dormanproducts.com/p-17668-34198.a...</td>\n",
       "    </tr>\n",
       "  </tbody>\n",
       "</table>\n",
       "</div>"
      ],
      "text/plain": [
       "   No                                                Url  \\\n",
       "0   1  https://www.dormanproducts.com/p-17668-34198.a...   \n",
       "\n",
       "                                         Request_Url  \n",
       "0  https://www.dormanproducts.com/p-17668-34198.a...  "
      ]
     },
     "execution_count": 18,
     "metadata": {},
     "output_type": "execute_result"
    }
   ],
   "source": [
    "if list_series_error:\n",
    "    df_error = pd.DataFrame(list_series_error).sort_values(by=['No'],\n",
    "                                                           ascending=[True],\n",
    "                                                           ignore_index=True)\n",
    "    df_error.to_excel('./test_part_error.xlsx', index=False)\n",
    "\n",
    "df_error"
   ]
  },
  {
   "cell_type": "code",
   "execution_count": null,
   "id": "ba5d9f77-7464-4ad5-a42b-1fa0c0505832",
   "metadata": {},
   "outputs": [],
   "source": []
  }
 ],
 "metadata": {
  "kernelspec": {
   "display_name": "Python 3 (ipykernel)",
   "language": "python",
   "name": "python3"
  },
  "language_info": {
   "codemirror_mode": {
    "name": "ipython",
    "version": 3
   },
   "file_extension": ".py",
   "mimetype": "text/x-python",
   "name": "python",
   "nbconvert_exporter": "python",
   "pygments_lexer": "ipython3",
   "version": "3.12.7"
  }
 },
 "nbformat": 4,
 "nbformat_minor": 5
}
