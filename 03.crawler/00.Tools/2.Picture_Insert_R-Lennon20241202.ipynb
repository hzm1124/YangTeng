{
 "cells": [
  {
   "cell_type": "code",
   "execution_count": 1,
   "id": "6c685a12-117a-4b83-b926-29a81a8c12c1",
   "metadata": {},
   "outputs": [
    {
     "data": {
      "text/plain": [
       "'.'"
      ]
     },
     "execution_count": 1,
     "metadata": {},
     "output_type": "execute_result"
    }
   ],
   "source": [
    "import platform\n",
    "import os\n",
    "\n",
    "system = platform.system().lower().strip()\n",
    "if system in ['darwin', 'windows']:\n",
    "    path_root = '.'\n",
    "elif system == 'linux':\n",
    "    from google.colab import drive\n",
    "    drive.mount('/content/drive')\n",
    "\n",
    "    path_root = './drive/MyDrive/code/03.crawler/00.Tools'\n",
    "else:\n",
    "    print('fuck')\n",
    "\n",
    "path_root"
   ]
  },
  {
   "cell_type": "code",
   "execution_count": 2,
   "id": "01923d6f-45bc-4098-b5e3-c0748b53e86c",
   "metadata": {},
   "outputs": [
    {
     "name": "stdout",
     "output_type": "stream",
     "text": [
      "3.part (100.00%)\n",
      "Data Loading...\n",
      "Loading Done !\n",
      "\n",
      "总数量：100\n",
      "\n"
     ]
    },
    {
     "name": "stderr",
     "output_type": "stream",
     "text": [
      "Progress: 100%|████████████████████████████| 100/100 [00:14<00:00,  7.12it/s]\n"
     ]
    },
    {
     "name": "stdout",
     "output_type": "stream",
     "text": [
      "Data Outputting...\n",
      "Output Finished !\n",
      "\n",
      "Done ~\n"
     ]
    }
   ],
   "source": [
    "from openpyxl import load_workbook\n",
    "from openpyxl.utils import get_column_letter\n",
    "\n",
    "# = = =  = = =  = = =\n",
    "\n",
    "from tqdm import tqdm\n",
    "\n",
    "# = = =  = = =  = = =\n",
    "\n",
    "import PIL\n",
    "\n",
    "# = = =  = = =  = = =\n",
    "\n",
    "from io import BytesIO\n",
    "from openpyxl.drawing.image import Image\n",
    "\n",
    "# = = =  = = =  = = =\n",
    "\n",
    "size, quality = 500, '100%'\n",
    "\n",
    "# = = =  = = =  = = =\n",
    "\n",
    "import shutil\n",
    "directory_out = os.path.join(path_root, './insert')\n",
    "if os.path.exists(directory_out):\n",
    "    shutil.rmtree(directory_out)\n",
    "os.makedirs(directory_out)\n",
    "\n",
    "# = = =  = = =  = = =\n",
    "\n",
    "directory_in = os.path.join(path_root, './crawler')\n",
    "list_file = [file for file in sorted(list(os.walk(directory_in))[0][2]) if file not in ['0.null.txt', '.DS_Store'] and os.path.isfile(os.path.join(directory_in, file))]\n",
    "for file in list_file:\n",
    "\n",
    "    print(f'''{file.removesuffix('.xlsx')} ({(list_file.index(file) + 1) / len(list_file) * 100:.2f}%)''')\n",
    "\n",
    "    # = = =  = = =  = = =\n",
    "\n",
    "    print('Data Loading...')\n",
    "    wb = load_workbook(os.path.join(directory_in, file))\n",
    "    ws = wb.worksheets[0]\n",
    "    print('Loading Done !')\n",
    "    print()\n",
    "\n",
    "    for column in range(1, ws.max_column + 1):\n",
    "        if ws.cell(1, column).value == 'Picture':\n",
    "            column_pic = column\n",
    "\n",
    "    count_remain = ws.max_row - 1\n",
    "\n",
    "    print(f'总数量：{count_remain}')\n",
    "    print()\n",
    "\n",
    "    # = = =  = = =  = = =\n",
    "\n",
    "    for crawler_index in tqdm(range(2, ws.max_row + 1), desc='Progress', ncols=77):\n",
    "\n",
    "        try:\n",
    "            image = PIL.Image.open(f'''./download/{file.removesuffix('.xlsx')}/{crawler_index - 1}.png''').convert('RGB')\n",
    "        except FileNotFoundError:\n",
    "            continue\n",
    "\n",
    "        # = = =  = = =  = = =\n",
    "\n",
    "        image = PIL.Image.open(f'''./download/{file.removesuffix('.xlsx')}/{crawler_index - 1}.png''').convert('RGB')\n",
    "\n",
    "        # = = =  = = =  = = =\n",
    "\n",
    "        scale = size / max(image.width, image.height)\n",
    "        image = image.resize((int(image.width * scale), int(image.height * scale)), PIL.Image.Resampling.LANCZOS)\n",
    "\n",
    "        # = = =  = = =  = = =\n",
    "\n",
    "        buffer = BytesIO()\n",
    "        if quality == '100%':\n",
    "            image.save(buffer, format=\"PNG\")\n",
    "        else:\n",
    "            image.save(buffer, format=\"JPEG\", quality=int(quality.removesuffix('%')))\n",
    "        buffer.seek(0)\n",
    "\n",
    "        pic = Image(buffer)\n",
    "\n",
    "        # = = =  = = =  = = =\n",
    "\n",
    "        ws.add_image(pic, f'{get_column_letter(column_pic)}{crawler_index}')\n",
    "\n",
    "    # = = =  = = =  = = =\n",
    "\n",
    "    print('Data Outputting...')\n",
    "    wb.save(f'{directory_out}/{file}')\n",
    "    print('Output Finished !')\n",
    "    print()\n",
    "\n",
    "# = = =  = = =  = = =\n",
    "\n",
    "print('Done ~')"
   ]
  },
  {
   "cell_type": "code",
   "execution_count": null,
   "id": "3e6af052-d9f8-4dd3-96ac-d51cfa148f6b",
   "metadata": {},
   "outputs": [],
   "source": []
  }
 ],
 "metadata": {
  "kernelspec": {
   "display_name": "Python 3 (ipykernel)",
   "language": "python",
   "name": "python3"
  },
  "language_info": {
   "codemirror_mode": {
    "name": "ipython",
    "version": 3
   },
   "file_extension": ".py",
   "mimetype": "text/x-python",
   "name": "python",
   "nbconvert_exporter": "python",
   "pygments_lexer": "ipython3",
   "version": "3.12.7"
  }
 },
 "nbformat": 4,
 "nbformat_minor": 5
}
