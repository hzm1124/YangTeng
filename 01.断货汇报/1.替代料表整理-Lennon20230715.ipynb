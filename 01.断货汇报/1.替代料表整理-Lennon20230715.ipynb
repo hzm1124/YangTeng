{
 "cells": [
  {
   "cell_type": "code",
   "execution_count": 1,
   "id": "71614073",
   "metadata": {},
   "outputs": [],
   "source": [
    "import os"
   ]
  },
  {
   "cell_type": "code",
   "execution_count": 2,
   "id": "d7e2ceae",
   "metadata": {},
   "outputs": [
    {
     "name": "stdout",
     "output_type": "stream",
     "text": [
      "\talternate: \t./替代料总表10-24.xlsx\n"
     ]
    }
   ],
   "source": [
    "list_file = list(os.walk('./'))[0][2]\n",
    "for file in list_file:\n",
    "    if '替代料总表' in file:\n",
    "        alternate = './' + file\n",
    "\n",
    "print(f'\\talternate: \\t{alternate}')"
   ]
  },
  {
   "cell_type": "code",
   "execution_count": 3,
   "id": "ea4185ce",
   "metadata": {},
   "outputs": [],
   "source": [
    "import pandas as pd"
   ]
  },
  {
   "cell_type": "code",
   "execution_count": 4,
   "id": "2ec8e403",
   "metadata": {},
   "outputs": [
    {
     "data": {
      "text/html": [
       "<div>\n",
       "<style scoped>\n",
       "    .dataframe tbody tr th:only-of-type {\n",
       "        vertical-align: middle;\n",
       "    }\n",
       "\n",
       "    .dataframe tbody tr th {\n",
       "        vertical-align: top;\n",
       "    }\n",
       "\n",
       "    .dataframe thead th {\n",
       "        text-align: right;\n",
       "    }\n",
       "</style>\n",
       "<table border=\"1\" class=\"dataframe\">\n",
       "  <thead>\n",
       "    <tr style=\"text-align: right;\">\n",
       "      <th></th>\n",
       "      <th>主料SKU</th>\n",
       "      <th>替换料1</th>\n",
       "      <th>替换料2</th>\n",
       "      <th>替换料3</th>\n",
       "      <th>替换料4</th>\n",
       "      <th>替换料5</th>\n",
       "      <th>替换料6</th>\n",
       "    </tr>\n",
       "  </thead>\n",
       "  <tbody>\n",
       "    <tr>\n",
       "      <th>0</th>\n",
       "      <td>USCA171876D-3</td>\n",
       "      <td>USCA171876D</td>\n",
       "      <td>USCA171876-3</td>\n",
       "      <td>USCA171876</td>\n",
       "      <td></td>\n",
       "      <td></td>\n",
       "      <td></td>\n",
       "    </tr>\n",
       "    <tr>\n",
       "      <th>1</th>\n",
       "      <td>USGS00429LR</td>\n",
       "      <td>USGS00429T</td>\n",
       "      <td>USGS00429</td>\n",
       "      <td></td>\n",
       "      <td></td>\n",
       "      <td></td>\n",
       "      <td></td>\n",
       "    </tr>\n",
       "    <tr>\n",
       "      <th>2</th>\n",
       "      <td>USWL02211H</td>\n",
       "      <td>USWL02211</td>\n",
       "      <td></td>\n",
       "      <td></td>\n",
       "      <td></td>\n",
       "      <td></td>\n",
       "      <td></td>\n",
       "    </tr>\n",
       "    <tr>\n",
       "      <th>3</th>\n",
       "      <td>USETC35518D</td>\n",
       "      <td>USTC35518</td>\n",
       "      <td>USETC35518</td>\n",
       "      <td></td>\n",
       "      <td></td>\n",
       "      <td></td>\n",
       "      <td></td>\n",
       "    </tr>\n",
       "    <tr>\n",
       "      <th>4</th>\n",
       "      <td>USTHA7040PX</td>\n",
       "      <td>USTHA7040P</td>\n",
       "      <td></td>\n",
       "      <td></td>\n",
       "      <td></td>\n",
       "      <td></td>\n",
       "      <td></td>\n",
       "    </tr>\n",
       "    <tr>\n",
       "      <th>...</th>\n",
       "      <td>...</td>\n",
       "      <td>...</td>\n",
       "      <td>...</td>\n",
       "      <td>...</td>\n",
       "      <td>...</td>\n",
       "      <td>...</td>\n",
       "      <td>...</td>\n",
       "    </tr>\n",
       "    <tr>\n",
       "      <th>44816</th>\n",
       "      <td>USGS01664-2-C</td>\n",
       "      <td>USGS01664-2</td>\n",
       "      <td></td>\n",
       "      <td></td>\n",
       "      <td></td>\n",
       "      <td></td>\n",
       "      <td></td>\n",
       "    </tr>\n",
       "    <tr>\n",
       "      <th>44817</th>\n",
       "      <td>USASC06160-C</td>\n",
       "      <td>USASC06160</td>\n",
       "      <td></td>\n",
       "      <td></td>\n",
       "      <td></td>\n",
       "      <td></td>\n",
       "      <td></td>\n",
       "    </tr>\n",
       "    <tr>\n",
       "      <th>44818</th>\n",
       "      <td>USASC16160-C</td>\n",
       "      <td>USASC16160</td>\n",
       "      <td></td>\n",
       "      <td></td>\n",
       "      <td></td>\n",
       "      <td></td>\n",
       "      <td></td>\n",
       "    </tr>\n",
       "    <tr>\n",
       "      <th>44819</th>\n",
       "      <td>USASC20303-C</td>\n",
       "      <td>USASC20303</td>\n",
       "      <td></td>\n",
       "      <td></td>\n",
       "      <td></td>\n",
       "      <td></td>\n",
       "      <td></td>\n",
       "    </tr>\n",
       "    <tr>\n",
       "      <th>44820</th>\n",
       "      <td>USASC61600-C</td>\n",
       "      <td>USASC61600</td>\n",
       "      <td></td>\n",
       "      <td></td>\n",
       "      <td></td>\n",
       "      <td></td>\n",
       "      <td></td>\n",
       "    </tr>\n",
       "  </tbody>\n",
       "</table>\n",
       "<p>44821 rows × 7 columns</p>\n",
       "</div>"
      ],
      "text/plain": [
       "               主料SKU         替换料1          替换料2        替换料3 替换料4 替换料5 替换料6\n",
       "0      USCA171876D-3  USCA171876D  USCA171876-3  USCA171876               \n",
       "1        USGS00429LR   USGS00429T     USGS00429                           \n",
       "2         USWL02211H    USWL02211                                         \n",
       "3        USETC35518D    USTC35518    USETC35518                           \n",
       "4        USTHA7040PX   USTHA7040P                                         \n",
       "...              ...          ...           ...         ...  ...  ...  ...\n",
       "44816  USGS01664-2-C  USGS01664-2                                         \n",
       "44817   USASC06160-C   USASC06160                                         \n",
       "44818   USASC16160-C   USASC16160                                         \n",
       "44819   USASC20303-C   USASC20303                                         \n",
       "44820   USASC61600-C   USASC61600                                         \n",
       "\n",
       "[44821 rows x 7 columns]"
      ]
     },
     "execution_count": 4,
     "metadata": {},
     "output_type": "execute_result"
    }
   ],
   "source": [
    "df_alternate = pd.read_excel(alternate,\n",
    "                             header=1)[['主料SKU', '替换料1', '替换料2', '替换料3', '替换料4', '替换料5', '替换料6']].fillna('')\n",
    "\n",
    "df_alternate = df_alternate[df_alternate['替换料1'] != ''].reset_index(drop=True)\n",
    "\n",
    "df_alternate"
   ]
  },
  {
   "cell_type": "code",
   "execution_count": 5,
   "id": "275ff1f0",
   "metadata": {},
   "outputs": [],
   "source": [
    "from tqdm import tqdm"
   ]
  },
  {
   "cell_type": "code",
   "execution_count": 6,
   "id": "2b0b8a49",
   "metadata": {},
   "outputs": [
    {
     "name": "stdout",
     "output_type": "stream",
     "text": [
      "# = = = = = = = 0 = = = = = = = = = =\n"
     ]
    },
    {
     "name": "stderr",
     "output_type": "stream",
     "text": [
      "运行中: 100%|█████████████████████████| 44821/44821 [03:57<00:00, 188.62it/s]\n"
     ]
    },
    {
     "name": "stdout",
     "output_type": "stream",
     "text": [
      "\n",
      "# = = = = = = = 1 = = = = = = = = = =\n"
     ]
    },
    {
     "name": "stderr",
     "output_type": "stream",
     "text": [
      "运行中: 100%|█████████████████████████| 44803/44803 [03:57<00:00, 188.48it/s]\n"
     ]
    }
   ],
   "source": [
    "count = 0\n",
    "while True:\n",
    "    print('# = = = = = = = ' + str(count) + ' = = = = = = = = = =')\n",
    "    list_row = []\n",
    "    for i in tqdm(range(len(df_alternate)), desc='运行中', ncols=77):\n",
    "        list_sku = list(set(df_alternate.loc[i].tolist()))\n",
    "        if '' in list_sku:\n",
    "            list_sku.remove('')\n",
    "\n",
    "        find = False\n",
    "        for sku in list_sku:\n",
    "            for j in range(len(list_row)):\n",
    "                if sku in list_row[j]:\n",
    "                    list_row[j] = list(set(list_row[j] + list_sku))\n",
    "                    find = True\n",
    "                    break\n",
    "            if find == True:\n",
    "                break\n",
    "\n",
    "        if find == False:\n",
    "            list_row.append(list_sku)  \n",
    "        \n",
    "    if len(list_row) == len(df_alternate):\n",
    "        break\n",
    "    else:\n",
    "        df_alternate = pd.DataFrame(list_row).fillna('')\n",
    "        df_alternate.columns = ['主料SKU'] + ['替换料'+str(i) for i in range(1, len(df_alternate.columns))]\n",
    "        count += 1\n",
    "        print()"
   ]
  },
  {
   "cell_type": "code",
   "execution_count": 7,
   "id": "9ca62830",
   "metadata": {},
   "outputs": [],
   "source": [
    "import datetime"
   ]
  },
  {
   "cell_type": "code",
   "execution_count": 8,
   "id": "34a9a930",
   "metadata": {},
   "outputs": [],
   "source": [
    "writer = pd.ExcelWriter('Lennon_整理好的替代料总表_' + datetime.datetime.now().strftime(\"%Y%m%d_%H%M%S\") + '.xlsx')\n",
    "df_alternate.to_excel(writer, index=False)\n",
    "writer.close()"
   ]
  },
  {
   "cell_type": "code",
   "execution_count": null,
   "id": "5fb2c440",
   "metadata": {},
   "outputs": [],
   "source": []
  }
 ],
 "metadata": {
  "kernelspec": {
   "display_name": "Python 3 (ipykernel)",
   "language": "python",
   "name": "python3"
  },
  "language_info": {
   "codemirror_mode": {
    "name": "ipython",
    "version": 3
   },
   "file_extension": ".py",
   "mimetype": "text/x-python",
   "name": "python",
   "nbconvert_exporter": "python",
   "pygments_lexer": "ipython3",
   "version": "3.11.3"
  }
 },
 "nbformat": 4,
 "nbformat_minor": 5
}
