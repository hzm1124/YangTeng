{
 "cells": [
  {
   "cell_type": "code",
   "execution_count": 1,
   "id": "5a52743a-d139-4667-b3b4-363cb166476b",
   "metadata": {},
   "outputs": [],
   "source": [
    "import os\n",
    "import shutil\n",
    "\n",
    "directory_out = './file/6.collate'\n",
    "\n",
    "if os.path.exists(directory_out):\n",
    "    shutil.rmtree(directory_out)\n",
    "os.makedirs(directory_out)\n",
    "\n",
    "# = = = = = = = = = = = = = = =\n",
    "\n",
    "import pandas as pd\n",
    "\n",
    "from tqdm import tqdm\n",
    "import json"
   ]
  },
  {
   "cell_type": "markdown",
   "id": "2e688525-cdaa-470c-a533-fb612881a181",
   "metadata": {},
   "source": [
    "# 1. Part"
   ]
  },
  {
   "cell_type": "code",
   "execution_count": 2,
   "id": "ac7fb788-2e77-4500-b015-18b365a24a8b",
   "metadata": {},
   "outputs": [
    {
     "name": "stdout",
     "output_type": "stream",
     "text": [
      "crawler_1.xlsx\n"
     ]
    },
    {
     "name": "stderr",
     "output_type": "stream",
     "text": [
      "Progress: 100%|█████████████████████████████| 10/10 [00:00<00:00, 398.66it/s]\n"
     ]
    },
    {
     "name": "stdout",
     "output_type": "stream",
     "text": [
      "crawler_2.xlsx\n"
     ]
    },
    {
     "name": "stderr",
     "output_type": "stream",
     "text": [
      "Progress: 100%|████████████████████████████| 10/10 [00:00<00:00, 2972.58it/s]"
     ]
    },
    {
     "name": "stdout",
     "output_type": "stream",
     "text": [
      "\n",
      "Done ~\n"
     ]
    },
    {
     "name": "stderr",
     "output_type": "stream",
     "text": [
      "\n"
     ]
    }
   ],
   "source": [
    "directory_in = './file/2.part'\n",
    "\n",
    "list_file = [file for file in sorted(os.listdir(directory_in)) if file not in ['.DS_Store'] and os.path.isfile(f'{directory_in}/{file}')]\n",
    "for file in list_file:\n",
    "\n",
    "    print(file)\n",
    "\n",
    "    # = = = = = = = = = = = = = = =\n",
    "\n",
    "    df_input = pd.read_excel(f'{directory_in}/{file}',\n",
    "                             header=0,\n",
    "                             dtype=str).fillna('')\n",
    "\n",
    "    df_input['No'] = df_input['No'].astype(int)\n",
    "    df_input['Packing Unit'] = ['' if packing_unit == '' else int(packing_unit) for packing_unit in df_input['Packing Unit'].tolist()]\n",
    "    df_input['Quantity Per Packaging Unit'] = ['' if quantity_per_packing_unit == '' else int(quantity_per_packing_unit) for quantity_per_packing_unit in df_input['Quantity Per Packaging Unit'].tolist()]\n",
    "    df_input['Part Code'] = df_input['Part Code'].astype(int)\n",
    "\n",
    "    # = = = = = = = = = = = = = = =\n",
    "\n",
    "    list_series, list_column, list_column_information, list_column_criteria = [], df_input.columns.tolist(), [], []\n",
    "    for _, series in tqdm(df_input.iterrows(), total=len(df_input), desc='Progress', ncols=77):\n",
    "        dict_dict, dict_dict_2 = json.loads(series['Json_Information']), json.loads(series['Json_Criteria'])\n",
    "        dict_, dict_2 = {k: v for dict_temp in dict_dict.values() for k, v in dict_temp.items()}, {k: v for dict_temp in dict_dict_2.values() for k, v in dict_temp.items()}\n",
    "\n",
    "        for key, value in dict_.items():\n",
    "            if key in list_column:\n",
    "                key = f'{key} (Information)'\n",
    "\n",
    "            if key not in list_column_information:\n",
    "                list_column_information.append(key)\n",
    "\n",
    "            series[key] = value\n",
    "\n",
    "        # = = = = = = = = = = = = = = =\n",
    "\n",
    "        for key, value in dict_2.items():\n",
    "            if key in list_column:\n",
    "                key = f'{key} (Criteria)'\n",
    "\n",
    "            if key not in list_column_criteria:\n",
    "                list_column_criteria.append(key)\n",
    "\n",
    "            series[key] = value\n",
    "\n",
    "        list_series.append(series)\n",
    "\n",
    "    # = = = = = = = = = = = = = = =\n",
    "\n",
    "    df_output = pd.DataFrame(list_series).sort_values(by=['No'],\n",
    "                                                      ascending=[True],\n",
    "                                                      ignore_index=True)\n",
    "    df_output[list_column[:15] + sorted(list_column_information) + sorted(list_column_criteria) + list_column[15:]].to_excel(f'{directory_out}/{file}', index=False)\n",
    "\n",
    "print()\n",
    "print('Done ~')"
   ]
  },
  {
   "cell_type": "markdown",
   "id": "638c7049-7ebe-4c62-874c-d1c440e5f1a8",
   "metadata": {},
   "source": [
    "# 2. Vehicle"
   ]
  },
  {
   "cell_type": "code",
   "execution_count": 3,
   "id": "8ba81059-56d8-4ffb-8fa6-67b5d34894e0",
   "metadata": {},
   "outputs": [
    {
     "name": "stdout",
     "output_type": "stream",
     "text": [
      "crawler_1-vehicle.xlsx\n"
     ]
    },
    {
     "name": "stderr",
     "output_type": "stream",
     "text": [
      "Progress: 100%|██████████████████████████████| 10/10 [00:00<00:00, 25.80it/s]\n"
     ]
    },
    {
     "name": "stdout",
     "output_type": "stream",
     "text": [
      "crawler_2-vehicle.xlsx\n"
     ]
    },
    {
     "name": "stderr",
     "output_type": "stream",
     "text": [
      "Progress: 100%|███████████████████████████████| 2/2 [00:00<00:00, 404.60it/s]"
     ]
    },
    {
     "name": "stdout",
     "output_type": "stream",
     "text": [
      "\n",
      "Done ~\n"
     ]
    },
    {
     "name": "stderr",
     "output_type": "stream",
     "text": [
      "\n"
     ]
    }
   ],
   "source": [
    "directory_in = './file/5.vehicle'\n",
    "\n",
    "list_file = [file for file in sorted(os.listdir(directory_in)) if file not in ['.DS_Store'] and os.path.isfile(f'{directory_in}/{file}')]\n",
    "for file in list_file:\n",
    "\n",
    "    print(file)\n",
    "\n",
    "    # = = = = = = = = = = = = = = =\n",
    "\n",
    "    df_input = pd.read_excel(f'{directory_in}/{file}',\n",
    "                             header=0,\n",
    "                             dtype=str).fillna('')\n",
    "\n",
    "    df_input['Part Code'] = df_input['Part Code'].astype(int)\n",
    "    df_input['Link No'] = df_input['Link No'].astype(int)\n",
    "    df_input['Vehicle No'] = df_input['Vehicle No'].astype(int)\n",
    "\n",
    "    # = = = = = = = = = = = = = = =\n",
    "\n",
    "    list_dict, grouped = [], df_input.groupby('Part Code')\n",
    "    for part_code, group in tqdm(grouped, desc='Progress', ncols=77):\n",
    "        df_temp = group.reset_index(drop=True)\n",
    "\n",
    "        dict_vehicle = {}\n",
    "        for i in range(len(df_temp)):\n",
    "            make, model, engine, year, year_2 = df_temp.loc[i, 'Make'], df_temp.loc[i, 'Model'], '' if df_temp.loc[i, 'cc'] == '' else f'''{df_temp.loc[i, 'cc']}cc''', int(df_temp.loc[i, 'Year'].split('-')[0][:-2]), 2024 if df_temp.loc[i, 'Year'].split('-')[-1] == '' else int(df_temp.loc[i, 'Year'].split('-')[-1][:-2])\n",
    "\n",
    "            if make not in dict_vehicle:\n",
    "                dict_vehicle[make] = {model: {engine: [year] if year == year_2 else [year, year_2]}}\n",
    "            elif model not in dict_vehicle[make]:\n",
    "                dict_vehicle[make][model] = {engine: [year] if year == year_2 else [year, year_2]}\n",
    "            elif engine not in dict_vehicle[make][model]:\n",
    "                dict_vehicle[make][model][engine] = [year] if year == year_2 else [year, year_2]\n",
    "            else:\n",
    "                if year not in dict_vehicle[make][model][engine]:\n",
    "                    dict_vehicle[make][model][engine].append(year)\n",
    "                if year_2 not in dict_vehicle[make][model][engine]:\n",
    "                    dict_vehicle[make][model][engine].append(year_2)\n",
    "\n",
    "        # = = = = = = = = = = = = = = =\n",
    "\n",
    "        list_vehicle, list_vehicle_2 = [], []\n",
    "        for make, dict_model in dict_vehicle.items():\n",
    "            for model, dict_engine in dict_model.items():\n",
    "                list_year = [year for list_year in dict_engine.values() for year in list_year]\n",
    "                year_begin, year_end = min(list_year), max(list_year)\n",
    "                list_vehicle.append(f'{make} {model} {year_begin}' if year_begin == year_end else f'{make} {model} {year_begin}-{year_end}')\n",
    "\n",
    "                for engine, list_year in dict_engine.items():\n",
    "                    year_begin, year_end = min(list_year), max(list_year)\n",
    "                    list_vehicle_2.append(f'{make} {model} {year_begin} {engine}'.strip() if year_begin == year_end else f'{make} {model} {year_begin}-{year_end} {engine}'.strip())\n",
    "\n",
    "        # = = = = = = = = = = = = = = =\n",
    "\n",
    "        list_dict.append({'Part Code': part_code,\n",
    "                          'Vehicle W/o Engine': '\\n'.join(sorted(list_vehicle)),\n",
    "                          'Vehicle W/ Engine': '\\n'.join(sorted(list_vehicle_2))})\n",
    "\n",
    "    # = = = = = = = = = = = = = = =\n",
    "\n",
    "    df_output = pd.DataFrame(list_dict).sort_values(by=['Part Code'],\n",
    "                                                    ascending=[True],\n",
    "                                                    ignore_index=True)\n",
    "    df_output.to_excel(f'{directory_out}/{file}', index=False)\n",
    "\n",
    "print()\n",
    "print('Done ~')"
   ]
  },
  {
   "cell_type": "code",
   "execution_count": null,
   "id": "27293b52-66ed-450d-b1e2-4ca40157e0e7",
   "metadata": {},
   "outputs": [],
   "source": []
  }
 ],
 "metadata": {
  "kernelspec": {
   "display_name": "Python 3 (ipykernel)",
   "language": "python",
   "name": "python3"
  },
  "language_info": {
   "codemirror_mode": {
    "name": "ipython",
    "version": 3
   },
   "file_extension": ".py",
   "mimetype": "text/x-python",
   "name": "python",
   "nbconvert_exporter": "python",
   "pygments_lexer": "ipython3",
   "version": "3.12.7"
  }
 },
 "nbformat": 4,
 "nbformat_minor": 5
}
