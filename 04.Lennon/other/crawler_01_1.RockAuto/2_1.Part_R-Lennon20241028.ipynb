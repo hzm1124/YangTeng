{
 "cells": [
  {
   "cell_type": "code",
   "execution_count": 1,
   "id": "28567785-1bca-439f-9042-e39b3255a55b",
   "metadata": {},
   "outputs": [],
   "source": [
    "import os\n",
    "\n",
    "# = = = = = = = = = = = = = = =\n",
    "\n",
    "import pandas as pd\n",
    "\n",
    "# = = = = = = = = = = = = = = =\n",
    "\n",
    "import requests\n",
    "\n",
    "import sys\n",
    "sys.path.append('../../00.Tools')\n",
    "from crawler_configuration import get_header, get_proxy\n",
    "\n",
    "# = = = = = = = = = = = = = = =\n",
    "\n",
    "from bs4 import BeautifulSoup\n",
    "from lxml import etree\n",
    "\n",
    "# = = = = = = = = = = = = = = =\n",
    "\n",
    "import json\n",
    "\n",
    "# = = = = = = = = = = = = = = =\n",
    "\n",
    "import numpy as np\n",
    "\n",
    "# = = = = = = = = = = = = = = =\n",
    "\n",
    "import re\n",
    "import html as html_lib"
   ]
  },
  {
   "cell_type": "code",
   "execution_count": 2,
   "id": "9b75b948-9701-432e-a5ef-88d0e629bd2c",
   "metadata": {},
   "outputs": [
    {
     "data": {
      "text/plain": [
       "'part_number.xlsx'"
      ]
     },
     "execution_count": 2,
     "metadata": {},
     "output_type": "execute_result"
    }
   ],
   "source": [
    "directory_in = './file/1.part_number'\n",
    "\n",
    "list_file = [file for file in sorted(os.listdir(directory_in)) if file not in ['.DS_Store'] and os.path.isfile(f'{directory_in}/{file}')]\n",
    "file = list_file[0]\n",
    "\n",
    "file"
   ]
  },
  {
   "cell_type": "code",
   "execution_count": 3,
   "id": "5d22fc26-a390-442a-bfe3-4d409c33f1e7",
   "metadata": {
    "scrolled": true
   },
   "outputs": [
    {
     "name": "stdout",
     "output_type": "stream",
     "text": [
      "总数量：10\n",
      "\n"
     ]
    },
    {
     "data": {
      "text/html": [
       "<div>\n",
       "<style scoped>\n",
       "    .dataframe tbody tr th:only-of-type {\n",
       "        vertical-align: middle;\n",
       "    }\n",
       "\n",
       "    .dataframe tbody tr th {\n",
       "        vertical-align: top;\n",
       "    }\n",
       "\n",
       "    .dataframe thead th {\n",
       "        text-align: right;\n",
       "    }\n",
       "</style>\n",
       "<table border=\"1\" class=\"dataframe\">\n",
       "  <thead>\n",
       "    <tr style=\"text-align: right;\">\n",
       "      <th></th>\n",
       "      <th>No</th>\n",
       "      <th>Manufacturer</th>\n",
       "      <th>Part Number</th>\n",
       "    </tr>\n",
       "  </thead>\n",
       "  <tbody>\n",
       "    <tr>\n",
       "      <th>0</th>\n",
       "      <td>1</td>\n",
       "      <td>FOUR SEASONS</td>\n",
       "      <td>33072</td>\n",
       "    </tr>\n",
       "    <tr>\n",
       "      <th>1</th>\n",
       "      <td>2</td>\n",
       "      <td>FOUR SEASONS</td>\n",
       "      <td>33188</td>\n",
       "    </tr>\n",
       "    <tr>\n",
       "      <th>2</th>\n",
       "      <td>3</td>\n",
       "      <td>FOUR SEASONS</td>\n",
       "      <td>56790</td>\n",
       "    </tr>\n",
       "    <tr>\n",
       "      <th>3</th>\n",
       "      <td>4</td>\n",
       "      <td>FOUR SEASONS</td>\n",
       "      <td>33094</td>\n",
       "    </tr>\n",
       "    <tr>\n",
       "      <th>4</th>\n",
       "      <td>5</td>\n",
       "      <td>FOUR SEASONS</td>\n",
       "      <td>33155</td>\n",
       "    </tr>\n",
       "    <tr>\n",
       "      <th>5</th>\n",
       "      <td>6</td>\n",
       "      <td>FOUR SEASONS</td>\n",
       "      <td>55307</td>\n",
       "    </tr>\n",
       "    <tr>\n",
       "      <th>6</th>\n",
       "      <td>7</td>\n",
       "      <td>FOUR SEASONS</td>\n",
       "      <td>33098</td>\n",
       "    </tr>\n",
       "    <tr>\n",
       "      <th>7</th>\n",
       "      <td>8</td>\n",
       "      <td>FOUR SEASONS</td>\n",
       "      <td>83107</td>\n",
       "    </tr>\n",
       "    <tr>\n",
       "      <th>8</th>\n",
       "      <td>9</td>\n",
       "      <td>FOUR SEASONS</td>\n",
       "      <td>83044</td>\n",
       "    </tr>\n",
       "    <tr>\n",
       "      <th>9</th>\n",
       "      <td>10</td>\n",
       "      <td>FOUR SEASONS</td>\n",
       "      <td>83052</td>\n",
       "    </tr>\n",
       "  </tbody>\n",
       "</table>\n",
       "</div>"
      ],
      "text/plain": [
       "   No  Manufacturer Part Number\n",
       "0   1  FOUR SEASONS       33072\n",
       "1   2  FOUR SEASONS       33188\n",
       "2   3  FOUR SEASONS       56790\n",
       "3   4  FOUR SEASONS       33094\n",
       "4   5  FOUR SEASONS       33155\n",
       "5   6  FOUR SEASONS       55307\n",
       "6   7  FOUR SEASONS       33098\n",
       "7   8  FOUR SEASONS       83107\n",
       "8   9  FOUR SEASONS       83044\n",
       "9  10  FOUR SEASONS       83052"
      ]
     },
     "execution_count": 3,
     "metadata": {},
     "output_type": "execute_result"
    }
   ],
   "source": [
    "list_dict_correct, list_series_error, df_input = [], [], pd.read_excel(f'{directory_in}/{file}',\n",
    "                                                                       header=0,\n",
    "                                                                       dtype=str).fillna('')\n",
    "\n",
    "df_input['No'] = df_input['No'].astype(int)\n",
    "\n",
    "count_remain = len(df_input)\n",
    "\n",
    "print(f'总数量：{count_remain}')\n",
    "print()\n",
    "df_input"
   ]
  },
  {
   "cell_type": "code",
   "execution_count": 4,
   "id": "5878a9f0-d639-4123-b6e0-bc564f72c2d6",
   "metadata": {},
   "outputs": [
    {
     "data": {
      "text/plain": [
       "(False,\n",
       " 0,\n",
       " No                         1\n",
       " Manufacturer    FOUR SEASONS\n",
       " Part Number            33072\n",
       " Name: 0, dtype: object)"
      ]
     },
     "execution_count": 4,
     "metadata": {},
     "output_type": "execute_result"
    }
   ],
   "source": [
    "crawler_status, (crawler_index, crawler_series) = False, next(df_input.iterrows())\n",
    "\n",
    "crawler_status, crawler_index, crawler_series"
   ]
  },
  {
   "cell_type": "code",
   "execution_count": 5,
   "id": "ad99bc86-6e80-4fcf-8200-736dc5101097",
   "metadata": {
    "scrolled": true
   },
   "outputs": [
    {
     "name": "stdout",
     "output_type": "stream",
     "text": [
      "1\n",
      "2\n",
      "3\n",
      "4\n",
      "5\n",
      "6\n",
      "7\n",
      "8\n",
      "9\n",
      "10\n",
      "11\n",
      "12\n",
      "13\n",
      "14\n",
      "15\n",
      "16\n"
     ]
    },
    {
     "data": {
      "text/plain": [
       "{'searchnoderesults': '<div class=\"ranavnode\" id=\"nav[__GIP__1__]\"><input type=\"hidden\" autocomplete=\"off\" id=\"jsn[__GIP__1__]\" value=\"{&quot;groupindex&quot;:&quot;__GIP__1__&quot;,&quot;tab&quot;:&quot;partsearch&quot;,&quot;idepth&quot;:0,&quot;parttype&quot;:&quot;6972&quot;,&quot;catalogname&quot;:&quot;FOUR SEASONS&quot;,&quot;partnumber&quot;:&quot;33072&quot;,&quot;nodetype&quot;:&quot;parttabsearch&quot;,&quot;expanded&quot;:true,&quot;loaded&quot;:true}\" /><input type=\"hidden\" autocomplete=\"off\" name=\"navnodeunique[partsearch-6972]\" id=\"navnodeunique[partsearch-6972]\" value=\"__GIP__1__\" /><div id=\"nav_o[__GIP__1__]\" class=\"ranavouter\"><div class=\"inner\"><table class=\"tbl\"  cellpadding=\"0\" cellspacing=\"0\"><tr><td class=\"niconspace nexpandedicon\" id=\"navicon[__GIP__1__]\"><a href=\"/en/parts/four+seasons,33072,a/c+receiver+drier+/+accumulator,6972\" onclick=\"cataloglite.LinkIntercept_ToggleNavNode(&quot;__GIP__1__&quot;); return false;\" tabindex=\"-1\"><img src=\"/Images/1pxtransparent.png\" alt=\"Toggle\"></a></td><td class=\"nlabel\" ><a class=\"navlabellink nvoffset nnormal\" href=\"/en/parts/four+seasons,33072,a/c+receiver+drier+/+accumulator,6972\" onclick=\"cataloglite.LinkIntercept_ToggleNavNode(&quot;__GIP__1__&quot;); return false;\" id=\"navhref[__GIP__1__]\">Search for Manufacturer=\\'FOUR SEASONS\\' and Part Number=\\'33072\\'</a></td></tr></table></div></div><div class=\"nchildren\" id=\"navchildren[__GIP__1__]\" ><div id=\"listings[__GIP__2__]\" class=\"listings-container\"><form method=\"post\" id=\"frmlistings[__GIP__2__]\" class=\"nobmp\" action=\"/en/partsearch/?mfr=FOUR+SEASONS&parttype=6972&partnum=33072\"><input type=\"hidden\" name=\"_nck\" value=\"RaosfcaC2rGsyaDO5wlVVEZqgf1rMDVjY0i1RdkJs5pvjGfBKOiwpBt27aYgFrhIDezeZhyXxNlVlnNbAlN+BOyHtTLpKKLXavhQbhyfuDuEkbeHQsa94SioLryDREgOWlHG079ZdJv4BM29IUxbW5ipeWoa9Uw8CZdP/qbt0f4Nm8r+7didWAd0cE6bMiwQ+MXDKXgLfUg=\"><div class=\"listing-container-border\"><input type=\"hidden\" autocomplete=\"off\" id=\"parentnode[__GIP__2__]\" value=\"__GIP__1__\" /><div><div style=\"padding-top: 1px; padding-left: .25em; padding-right: .25em;\"><div class=\"remove-for-print\" style=\"padding-top:5px;\"><div class=\"ib vtop\"><span style=\"padding-left: .5em;\" class=\"show-if-js\"><img onclick=\"cataloglite.NavNode_SimulateClick(&quot;__GIP__1__&quot;);\" style=\"vertical-align: top;\" class=\"mouseover\" src=\"/catalog/images/close.gif\" alt=\"Close\" title=\"Close\" /></span><span style=\"padding-left: .5em;\" class=\"show-if-js\"><a href=\"/en/printlistings.php?ni=__GIP__2__&title=Print Part Listings\" target=\"_blank\" rel=\"opener\" ><img style=\"vertical-align: top; border: none; height: 20px;\" class=\"mouseover\" src=\"/Images/mobile/printer.png\" alt=\"Print Part Listings\" title=\"Print Part Listings\" /></a></span><span style=\"padding-left: .5em;\" class=\"show-if-js\"><a href=\"/en/emailpagetofriend.php?nurl=%2Fen%2Fpartsearch%2F%3Fmfr%3DFOUR%2BSEASONS%26parttype%3D6972%26partnum%3D33072\" target=\"_blank\" onclick=\"cataloglite.AddFiltersToEmailListingURL(&quot;\\\\/en\\\\/partsearch\\\\/?mfr=FOUR+SEASONS&amp;parttype=6972&amp;partnum=33072&quot;, &quot;__GIP__2__&quot;); return false;\"><img style=\"vertical-align: top; border: none; height: 14px;\" class=\"mouseover\" src=\"/Images/mobile/envelope.png\" alt=\"Send these listings to a friend\" title=\"Send these listings to a friend\" /></a></span><span style=\"padding-left: .5em;\" class=\"show-if-js\"><a href=\"/help/?page=2\" target=\"_blank\" style=\"text-decoration: none;\" title=\"How do I choose a part?\" alt=\"How do I choose a part?\">\\n                                            <img class=\"help_q_icon_16 vtop\" src=\"/Images/questionMark.png\" alt=\"Help\" />\\n                                            </a></span></div><span style=\"padding-left: .5em;\" class=\"span-filterinput\"><div class=\"ib\"><table class=\"tblz tbl-input-button-attached attached-filter-size\"><tr><td class=\"td-input\"><input type=\"text\" size=\"25\" value=\"\" name=\"filterinput\" class=\"filter-input\" id=\"filterinput[__GIP__2__]\" style=\"\" onclick=\"cataloglite.DisplayFilterBreakDown(&quot;__GIP__2__&quot;);\" onkeypress=\"return RA.InterceptEnter(event, function(){cataloglite.FilterListings(&quot;__GIP__2__&quot;);});\" onblur=\"cataloglite.FilterListings(&quot;__GIP__2__&quot;);\" autocomplete=\"off\" spellcheck=\"false\" autocorrect=\"off\" autocapitalize=\"off\" placeholder=\"Filter By Keyword(s)\" title=\"Filter listings below by entering words that you want to see. Use \\'-\\' before a word to find results that do NOT contain that word. Use OR between words or groups of words to see listings that match either. Use quotes &quot;...&quot; around a set of words you wish to match only when they exist together as a phrase. Multiple filters can be applied by entering new words or phrases after each filter operation.\" /></td><td class=\"td-button\"><img class=\"ib input-size ra-btn ra-btn-size-normal ra-btn-color-darkblue ra-btn-search-icon\" src=\"/Images/1pxtransparent.png\" style=\"color: black;\" onclick=\"RA.ThrottleRepeats(function() { cataloglite.SendPartTabSearch(\\'frm_partsearch\\', &quot;__GIP__2__&quot;); }, \\'part_tab_search_filter\\', 2.5); return false;\" alt=\"Apply Filter\" /></td></tr></table></div><span style=\"position: relative;\"><span id=\"filterbreakdownwrapper___GIP__2__\" class=\"ra-hide\" style=\"position: absolute; z-index: 10;\"><div style=\"background: #FFFFFF; border: 1px solid black; padding: 5px; white-space: nowrap;\"><div style=\"text-align: right;\" class=\"filter-breakdown-row-spacing\"><img onclick=\"cataloglite.DisplayFilterBreakDown(&quot;__GIP__2__&quot;, 1);\" style=\"vertical-align: top;\" class=\"mouseover\" src=\"/catalog/images/close.gif\" alt=\"Hide\" title=\"Hide\"></div><div id=\"filterbreakdownsteps___GIP__2__\"></div><div style=\"text-align: center; padding-top: .25em;\"><input type=\"submit\" name=\"clearfilter\" value=\"Clear Filter\" class=\"ra-btn mo-link\" style=\"color: blue;\" onclick=\"RA.ThrottleRepeats(function() { cataloglite.SendPartTabSearch(\\'frm_partsearch\\', &quot;__GIP__2__&quot;, 1); }, \\'part_tab_search_filter\\', 2.5); return false;\"></div></div></span></span></span></div></div><div style=\"clear: both; padding-top: .25em;\"></div><table class=\"nobmp\" style=\"width: 100%;\" cellpadding=\"0\" cellspacing=\"0\">\\n                    <tbody>\\n                        <tr>\\n                            <td colspan=\"2\">\\n                                \\n                            </td>\\n                            <td colspan=\"4\" class=\" listing-float-box-cell-shared-header\" style=\"height: 1px; text-align: center;\">\\n                                <span style=\"font-weight: bold;\">Price</span>\\n                            </td>\\n                            <td class=\"ra-hide listing-float-box-cell-shared-header\" style=\"height: 1px; text-align: center;\">\\n                                \\n                            </td>\\n                            <td class=\"ra-hide listing-float-box-cell-shared-header\" style=\"height: 1px; text-align: center;\">\\n                                \\n                            </td>\\n                            <td class=\"ra-hide listing-float-box-cell-shared-header\" style=\"height: 1px; text-align: center;\">\\n                                \\n                            </td>\\n                            <td class=\" listing-float-box-cell-shared-header\" style=\"text-align: center;\">\\n                                \\n                            </td>\\n                        </tr>\\n                    </tbody>\\n                    <tr class=\"remove-for-print\"><td colspan=\"6\" id=\"listingnopartscriteria[__GIP__2__]\" style=\"color: red;\" class=\"ra-hide\">No parts for vehicles in selected markets.</td></tr>\\n                    <tbody id=\"listingcontainer[__GIP__3__]\" class=\"listing-inner altrow-a-1  \" style=\"\">\\n                        <tr>\\n                            <td rowspan=\"2\" class=\"listing-border-top-line listing-inner-content\" style=\"\">\\n                                <span style=\"float: right;\"></span>\\n                                <div></div>\\n                                <div class=\"listing-text-row-moreinfo-truck\"><span class=\"listing-final-manufacturer \">FOUR SEASONS</span> <span class=\"listing-final-partnumber  as-link-if-js\" id=\"vew_partnumber[__GIP__3__]\" onclick=\"if (cataloglite.IsMobileAndNotExpanded(&quot;__GIP__3__&quot;)) { return; } cataloglite.ShowBuyersGuidePopup(&quot;__GIP__3__&quot;);\" title=\"Buyer\\'s Guide\" alt=\"Buyer\\'s Guide\">33072</span>     <a href=\"https://www.rockauto.com/en/moreinfo.php?pk=814749&cc=0&pt=6972\" target=\"_blank\" rel=\"opener\"  class=\"ra-btn ra-btn-moreinfo\" onclick=\"cataloglite.MoreInfoClick(this, &quot;__GIP__3__&quot;); AddSerializedCookieDataToHref(this);\">Info</a>   <span name=\"vew_whtruckicon[__GIP__3__][alloptions]\" class=\"truck ra-hide remove-for-print mouseover\" title=\"Could ship from same location as parts in cart\" onclick=\"FAQpopup(\\'/help/?page=2#MINSHIPCOST\\', &quot;Could ship from same location as parts in cart&quot;, null, this); RA.StopBubble(event); return false;\">&nbsp;</span>  </div>\\n                                <div class=\"listing-text-row\"><span  title=\"Please make sure this note matches your vehicle. A seemingly contradictory note (like &quot;Left; Right;&quot;) means the part fits either (left OR right) -- it does not mean you\\'ll receive two parts. Please do not choose a part if the note does not describe your application (for example, if the note says &quot;Sedan&quot; and you have a station wagon).\"><span class=\"listing-footnote-text\">Category: A/C Receiver Drier / Accumulator</span></span> </div>\\n                                <div><div class=\"listing-optionchoice-multiple-container remove-for-print\"><span class=\"listing-optionchoice-multiple-label\">Choose </span><span id=\"ddrepl[optionchoice[__GIP__3__]][container]\" class=\"ra-vertical-dropdown-replacement-c\"><span class=\"hide-if-js\"><select id=\"optionchoice[__GIP__3__]\" name=\"optionchoice[__GIP__3__]\" class = \"listing-optionchoice-multiple\" onchange = \"cataloglite.change_opt(&quot;__GIP__3__&quot;); cataloglite.DynamicDropDown_SetSelected(&quot;ddrepl[optionchoice[__GIP__3__]]&quot;, -1, \\'r\\');\" tabindex=\"0\" autocomplete = \"none\"><option value=\"\"  >&nbsp</option><option value=\"0-0-8-1\"  selected > [<a href=\"/lang/en/answersTab2.html#closeout\" target=\"blank\" onClick=\"return FAQpopup(this)\">Wholesaler Closeout</a> - Private Label Pkg. - 30 Day Warranty] <b>($5.76)</b> ^</option><option value=\"0-0-1-1\"  > [<a href=\"/lang/en/answersTab2.html#closeout\" target=\"blank\" onClick=\"return FAQpopup(this)\">Wholesaler Closeout</a> -- 30 Day Warranty] <b>($14.18)</b> ^</option><option value=\"0-0-0-1\"  > [<a href=\"/catalog/moreinfo.php?condition=REGULAR\" target=\"_blank\" onclick=\"return FAQpopup(this, \\'&nbsp;\\', true, this);\">Regular Inventory</a>] <b>($22.79)</b> ^</option></select></span><span id=\"ddrepl[optionchoice[__GIP__3__]]\" class=\"ra-vertical-dropdown-replacement tfk show-if-js\" style=\"\"><input type=\"hidden\" autocomplete=\"off\" id=\"ddrepl[optionchoice[__GIP__3__]][jsstate]\" value=\"{&quot;expanded&quot;:&quot;&quot;,&quot;selectedindex&quot;:1,&quot;selectid&quot;:&quot;optionchoice[__GIP__3__]&quot;,&quot;disabled&quot;:false,&quot;tfk&quot;:false}\"><table class=\"control-table nobmp-table\"><tr><td><span id=\"ddrepl[optionchoice[__GIP__3__]][collapse]\" class=\"collapsed input-border input-padding no-text-select  listing-optionchoice-multiple\" onclick=\"clb.DynamicDropDown_CollapsedClick(&quot;ddrepl[optionchoice[__GIP__3__]]&quot;, event);\" style=\"min-width: 23.33em;\"><span class=\"down-arrow\"></span><span class=\"vmiddle\" id=\"ddrepl[optionchoice[__GIP__3__]][collapsetext]\"><span class=\"di vmiddle\"> [<a href=\"/lang/en/answersTab2.html#closeout\" target=\"blank\" onClick=\"RA.StopBubble(event); return FAQpopup(this)\">Wholesaler Closeout</a> - Private Label Pkg. - 30 Day Warranty] <b>($5.76)</b></span> <img name=\"vew_whtruckicon[__GIP__3__][0-0-8-1]\" src=\"/Images/mobile/truck.png\" class=\"nobmp di vmiddle ra-hide\" style=\"height: 1.25em; margin-left: .25em;\" onmousemove=\"clb.FAQHover_MouseMove(this, event, \\'/help/?page=2#MINSHIPCOST\\', \\'Could ship from same location as parts in cart\\');\" onmouseout=\"clb.FAQHover_MouseOut(this, event);\" title=\"Could ship from same location as parts in cart\" alt=\"Warehouse\"/></span></span><div id=\"ddrepl[optionchoice[__GIP__3__]][expand]\" class=\"expanded ra-hide\"><div class=\"absolute\" id=\"ddrepl[optionchoice[__GIP__3__]][absolute]\"><ul class=\"scroll\" id=\"ddrepl[optionchoice[__GIP__3__]][scroll]\"><li class=\"list-item first\" id=\"ddrepl[optionchoice[__GIP__3__]][list-item][0]\" onclick=\"clb.DynamicDropDown_SetSelected(&quot;ddrepl[optionchoice[__GIP__3__]]&quot;, 0, \\'w\\');\"><div class=\"outer\" id=\"ddrepl[optionchoice[__GIP__3__]][list-item][0][outer]\"><div class=\"inner\" id=\"ddrepl[optionchoice[__GIP__3__]][list-item][0][inner]\">&nbsp</div></div></li><li class=\"list-item\" id=\"ddrepl[optionchoice[__GIP__3__]][list-item][1]\" onclick=\"clb.DynamicDropDown_SetSelected(&quot;ddrepl[optionchoice[__GIP__3__]]&quot;, 1, \\'w\\');\"><div class=\"outer selected\" id=\"ddrepl[optionchoice[__GIP__3__]][list-item][1][outer]\"><div class=\"inner\" id=\"ddrepl[optionchoice[__GIP__3__]][list-item][1][inner]\"><span class=\"di vmiddle\"> [<a href=\"/lang/en/answersTab2.html#closeout\" target=\"blank\" onClick=\"RA.StopBubble(event); return FAQpopup(this)\">Wholesaler Closeout</a> - Private Label Pkg. - 30 Day Warranty] <b>($5.76)</b></span> <img name=\"vew_whtruckicon[__GIP__3__][0-0-8-1]\" src=\"/Images/mobile/truck.png\" class=\"nobmp di vmiddle ra-hide\" style=\"height: 1.25em; margin-left: .25em;\" onmousemove=\"clb.FAQHover_MouseMove(this, event, \\'/help/?page=2#MINSHIPCOST\\', \\'Could ship from same location as parts in cart\\');\" onmouseout=\"clb.FAQHover_MouseOut(this, event);\" title=\"Could ship from same location as parts in cart\" alt=\"Warehouse\"/></div></div></li><li class=\"list-item\" id=\"ddrepl[optionchoice[__GIP__3__]][list-item][2]\" onclick=\"clb.DynamicDropDown_SetSelected(&quot;ddrepl[optionchoice[__GIP__3__]]&quot;, 2, \\'w\\');\"><div class=\"outer\" id=\"ddrepl[optionchoice[__GIP__3__]][list-item][2][outer]\"><div class=\"inner\" id=\"ddrepl[optionchoice[__GIP__3__]][list-item][2][inner]\"><span class=\"di vmiddle\"> [<a href=\"/lang/en/answersTab2.html#closeout\" target=\"blank\" onClick=\"RA.StopBubble(event); return FAQpopup(this)\">Wholesaler Closeout</a> -- 30 Day Warranty] <b>($14.18)</b></span> <img name=\"vew_whtruckicon[__GIP__3__][0-0-1-1]\" src=\"/Images/mobile/truck.png\" class=\"nobmp di vmiddle ra-hide\" style=\"height: 1.25em; margin-left: .25em;\" onmousemove=\"clb.FAQHover_MouseMove(this, event, \\'/help/?page=2#MINSHIPCOST\\', \\'Could ship from same location as parts in cart\\');\" onmouseout=\"clb.FAQHover_MouseOut(this, event);\" title=\"Could ship from same location as parts in cart\" alt=\"Warehouse\"/></div></div></li><li class=\"list-item last\" id=\"ddrepl[optionchoice[__GIP__3__]][list-item][3]\" onclick=\"clb.DynamicDropDown_SetSelected(&quot;ddrepl[optionchoice[__GIP__3__]]&quot;, 3, \\'w\\');\"><div class=\"outer\" id=\"ddrepl[optionchoice[__GIP__3__]][list-item][3][outer]\"><div class=\"inner\" id=\"ddrepl[optionchoice[__GIP__3__]][list-item][3][inner]\"><span class=\"di vmiddle\"> [<a href=\"/catalog/moreinfo.php?condition=REGULAR\" target=\"_blank\" onclick=\"RA.StopBubble(event); return FAQpopup(this, \\'&nbsp;\\', true, this);\">Regular Inventory</a>] <b>($22.79)</b></span> <img name=\"vew_whtruckicon[__GIP__3__][0-0-0-1]\" src=\"/Images/mobile/truck.png\" class=\"nobmp di vmiddle ra-hide\" style=\"height: 1.25em; margin-left: .25em;\" onmousemove=\"clb.FAQHover_MouseMove(this, event, \\'/help/?page=2#MINSHIPCOST\\', \\'Could ship from same location as parts in cart\\');\" onmouseout=\"clb.FAQHover_MouseOut(this, event);\" title=\"Could ship from same location as parts in cart\" alt=\"Warehouse\"/></div></div></li></ul></div></div></td><td style=\"width: 1px;\"><label for=\"ddrepl[optionchoice[__GIP__3__]][tabbable]\" style=\"display:none;\">Intentionally blank</label><input id=\"ddrepl[optionchoice[__GIP__3__]][tabbable]\" tabindex=\"0\" onfocus=\"clb.DynamicDropDown_SetFocus(&quot;ddrepl[optionchoice[__GIP__3__]]&quot;, event);\" type=\"text\" class=\"almost-hidden-input no-text-select ra-hide\" value=\"\" /></td><td style=\"width: 1px;\"><label for=\"ddrepl[optionchoice[__GIP__3__]][readonly]\" style=\"display:none;\">Intentionally blank</label><input id=\"ddrepl[optionchoice[__GIP__3__]][readonly]\" tabindex=\"-1\" onfocus=\"clb.DynamicDropDown_Readonly_OnFocus(&quot;ddrepl[optionchoice[__GIP__3__]]&quot;, event);\" onblur=\"clb.DynamicDropDown_Readonly_OnBlur(&quot;ddrepl[optionchoice[__GIP__3__]]&quot;, event);\" onkeydown=\"cataloglite.DynamicDropDown_Readonly_OnKeyDown(&quot;ddrepl[optionchoice[__GIP__3__]]&quot;, event);\" type=\"text\" readonly class=\"almost-hidden-input no-text-select ra-hide\" value=\"\" /></td></tr></table></span></span><label for=\"optionchoice[__GIP__3__]\" style=\"display:none;\">Choose</label></div></div>\\n                                <div><div class=\"listing-notification-wrapper hide-if-js\"><span class=\"hide-if-js\">^ Could ship from same location as parts in cart</span><span class=\"show-if-js\"><img src=\"/Images/mobile/truck.png\" class=\"nobmp di vmiddle ra-hide\" style=\"height: 1.25em; margin-left: .25em;\" onclick=\"FAQpopup(\\'/help/?page=2#MINSHIPCOST\\', \\'Could ship from same location as parts in cart\\', null, this); RA.StopBubble(event); return false;\" title=\"Could ship from same location as parts in cart\" alt=\"Warehouse\"/></span></div></div>\\n                                <div></div>\\n                                \\n                                <input type=\"hidden\" autocomplete=\"off\" id=\"pricebreakdown[__GIP__3__][]\" value=\"{&quot;bold&quot;:false,&quot;notbold&quot;:false,&quot;oos&quot;:false,&quot;v&quot;:&quot;&lt;span class=\\\\&quot;seeopt-price-text\\\\&quot;&gt;Choose  at Left&lt;\\\\/span&gt;&quot;,&quot;colspan&quot;:4,&quot;n&quot;:&quot;&lt;span class=\\\\&quot;seeopt-price-text\\\\&quot;&gt;Choose  at Left&lt;\\\\/span&gt;&quot;}\"><input type=\"hidden\" autocomplete=\"off\" id=\"corebreakdown[__GIP__3__][]\" value=\"{&quot;bold&quot;:false,&quot;notbold&quot;:false,&quot;oos&quot;:false,&quot;v&quot;:null,&quot;display&quot;:&quot;none&quot;}\"><input type=\"hidden\" autocomplete=\"off\" id=\"totalbreakdown[__GIP__3__][]\" value=\"{&quot;bold&quot;:false,&quot;notbold&quot;:false,&quot;oos&quot;:false,&quot;v&quot;:null,&quot;display&quot;:&quot;none&quot;}\"><input type=\"hidden\" autocomplete=\"off\" id=\"packbreakdown[__GIP__3__][]\" value=\"{&quot;multiple&quot;:null,&quot;v&quot;:&quot;&quot;,&quot;display&quot;:&quot;none&quot;}\"><input type=\"hidden\" autocomplete=\"off\" id=\"pricebreakdown[__GIP__3__][0-0-8-1]\" value=\"{&quot;bold&quot;:false,&quot;notbold&quot;:false,&quot;oos&quot;:false,&quot;v&quot;:&quot;$5.76&quot;,&quot;colspan&quot;:4,&quot;n&quot;:&quot;5.76&quot;}\"><input type=\"hidden\" autocomplete=\"off\" id=\"corebreakdown[__GIP__3__][0-0-8-1]\" value=\"{&quot;bold&quot;:false,&quot;notbold&quot;:false,&quot;oos&quot;:false,&quot;v&quot;:&quot;$0.00&quot;,&quot;display&quot;:&quot;none&quot;,&quot;n&quot;:&quot;0.00&quot;}\"><input type=\"hidden\" autocomplete=\"off\" id=\"totalbreakdown[__GIP__3__][0-0-8-1]\" value=\"{&quot;bold&quot;:false,&quot;notbold&quot;:false,&quot;oos&quot;:false,&quot;v&quot;:&quot;$5.76&quot;,&quot;display&quot;:&quot;none&quot;,&quot;n&quot;:&quot;5.76&quot;}\"><input type=\"hidden\" autocomplete=\"off\" id=\"packbreakdown[__GIP__3__][0-0-8-1]\" value=\"{&quot;multiple&quot;:&quot;1&quot;,&quot;v&quot;:&quot;&lt;span class=\\\\&quot;hide-if-js\\\\&quot;&gt;+ Sold in packs of 1&lt;\\\\/span&gt;&lt;span class=\\\\&quot;show-if-js\\\\&quot;&gt;&lt;span class=\\\\&quot;pack_size_box no-text-select\\\\&quot; onclick=\\\\&quot;showContextPopup(\\'&amp;nbsp;\\', &amp;quot;Sold in packs of 1&amp;quot;, this); RA.StopBubble(event); return false;\\\\&quot; title=\\\\&quot;Sold in packs of 1\\\\&quot;&gt;&lt;span class=\\\\&quot;right\\\\&quot;&gt;&lt;span class=\\\\&quot;left\\\\&quot;&gt;&lt;span class=\\\\&quot;text\\\\&quot;&gt;&lt;span class=\\\\&quot;text-x-small\\\\&quot;&gt;x&lt;\\\\/span&gt;1&lt;\\\\/span&gt;&lt;\\\\/span&gt;&lt;\\\\/span&gt;&lt;\\\\/span&gt;&lt;\\\\/span&gt;&quot;,&quot;display&quot;:&quot;none&quot;}\"><input type=\"hidden\" autocomplete=\"off\" id=\"pricebreakdown[__GIP__3__][0-0-1-1]\" value=\"{&quot;bold&quot;:false,&quot;notbold&quot;:false,&quot;oos&quot;:false,&quot;v&quot;:&quot;$14.18&quot;,&quot;colspan&quot;:4,&quot;n&quot;:&quot;14.18&quot;}\"><input type=\"hidden\" autocomplete=\"off\" id=\"corebreakdown[__GIP__3__][0-0-1-1]\" value=\"{&quot;bold&quot;:false,&quot;notbold&quot;:false,&quot;oos&quot;:false,&quot;v&quot;:&quot;$0.00&quot;,&quot;display&quot;:&quot;none&quot;,&quot;n&quot;:&quot;0.00&quot;}\"><input type=\"hidden\" autocomplete=\"off\" id=\"totalbreakdown[__GIP__3__][0-0-1-1]\" value=\"{&quot;bold&quot;:false,&quot;notbold&quot;:false,&quot;oos&quot;:false,&quot;v&quot;:&quot;$14.18&quot;,&quot;display&quot;:&quot;none&quot;,&quot;n&quot;:&quot;14.18&quot;}\"><input type=\"hidden\" autocomplete=\"off\" id=\"packbreakdown[__GIP__3__][0-0-1-1]\" value=\"{&quot;multiple&quot;:&quot;1&quot;,&quot;v&quot;:&quot;&lt;span class=\\\\&quot;hide-if-js\\\\&quot;&gt;+ Sold in packs of 1&lt;\\\\/span&gt;&lt;span class=\\\\&quot;show-if-js\\\\&quot;&gt;&lt;span class=\\\\&quot;pack_size_box no-text-select\\\\&quot; onclick=\\\\&quot;showContextPopup(\\'&amp;nbsp;\\', &amp;quot;Sold in packs of 1&amp;quot;, this); RA.StopBubble(event); return false;\\\\&quot; title=\\\\&quot;Sold in packs of 1\\\\&quot;&gt;&lt;span class=\\\\&quot;right\\\\&quot;&gt;&lt;span class=\\\\&quot;left\\\\&quot;&gt;&lt;span class=\\\\&quot;text\\\\&quot;&gt;&lt;span class=\\\\&quot;text-x-small\\\\&quot;&gt;x&lt;\\\\/span&gt;1&lt;\\\\/span&gt;&lt;\\\\/span&gt;&lt;\\\\/span&gt;&lt;\\\\/span&gt;&lt;\\\\/span&gt;&quot;,&quot;display&quot;:&quot;none&quot;}\"><input type=\"hidden\" autocomplete=\"off\" id=\"pricebreakdown[__GIP__3__][0-0-0-1]\" value=\"{&quot;bold&quot;:false,&quot;notbold&quot;:false,&quot;oos&quot;:false,&quot;v&quot;:&quot;$22.79&quot;,&quot;colspan&quot;:4,&quot;n&quot;:&quot;22.79&quot;}\"><input type=\"hidden\" autocomplete=\"off\" id=\"corebreakdown[__GIP__3__][0-0-0-1]\" value=\"{&quot;bold&quot;:false,&quot;notbold&quot;:false,&quot;oos&quot;:false,&quot;v&quot;:&quot;$0.00&quot;,&quot;display&quot;:&quot;none&quot;,&quot;n&quot;:&quot;0.00&quot;}\"><input type=\"hidden\" autocomplete=\"off\" id=\"totalbreakdown[__GIP__3__][0-0-0-1]\" value=\"{&quot;bold&quot;:false,&quot;notbold&quot;:false,&quot;oos&quot;:false,&quot;v&quot;:&quot;$22.79&quot;,&quot;display&quot;:&quot;none&quot;,&quot;n&quot;:&quot;22.79&quot;}\"><input type=\"hidden\" autocomplete=\"off\" id=\"packbreakdown[__GIP__3__][0-0-0-1]\" value=\"{&quot;multiple&quot;:&quot;1&quot;,&quot;v&quot;:&quot;&lt;span class=\\\\&quot;hide-if-js\\\\&quot;&gt;+ Sold in packs of 1&lt;\\\\/span&gt;&lt;span class=\\\\&quot;show-if-js\\\\&quot;&gt;&lt;span class=\\\\&quot;pack_size_box no-text-select\\\\&quot; onclick=\\\\&quot;showContextPopup(\\'&amp;nbsp;\\', &amp;quot;Sold in packs of 1&amp;quot;, this); RA.StopBubble(event); return false;\\\\&quot; title=\\\\&quot;Sold in packs of 1\\\\&quot;&gt;&lt;span class=\\\\&quot;right\\\\&quot;&gt;&lt;span class=\\\\&quot;left\\\\&quot;&gt;&lt;span class=\\\\&quot;text\\\\&quot;&gt;&lt;span class=\\\\&quot;text-x-small\\\\&quot;&gt;x&lt;\\\\/span&gt;1&lt;\\\\/span&gt;&lt;\\\\/span&gt;&lt;\\\\/span&gt;&lt;\\\\/span&gt;&lt;\\\\/span&gt;&quot;,&quot;display&quot;:&quot;none&quot;}\"><input type=\"hidden\" autocomplete=\"off\" name=\"listing_data_essential[__GIP__3__]\" id=\"listing_data_essential[__GIP__3__]\" value=\"{&quot;groupindex&quot;:&quot;__GIP__3__&quot;,&quot;carcode&quot;:0,&quot;parttype&quot;:&quot;6972&quot;,&quot;partkey&quot;:&quot;814749&quot;,&quot;opts&quot;:{&quot;0-0-8-1&quot;:{&quot;warehouse&quot;:&quot;77479&quot;,&quot;whpartnum&quot;:&quot;FOR 33072:8&quot;,&quot;optionlist&quot;:&quot;0&quot;,&quot;paramcode&quot;:&quot;0&quot;,&quot;notekey&quot;:&quot;8&quot;,&quot;multiple&quot;:&quot;1&quot;},&quot;0-0-1-1&quot;:{&quot;warehouse&quot;:&quot;77481&quot;,&quot;whpartnum&quot;:&quot;FOR 33072&quot;,&quot;optionlist&quot;:&quot;0&quot;,&quot;paramcode&quot;:&quot;0&quot;,&quot;notekey&quot;:&quot;1&quot;,&quot;multiple&quot;:&quot;1&quot;},&quot;0-0-0-1&quot;:{&quot;warehouse&quot;:&quot;23220&quot;,&quot;whpartnum&quot;:&quot;FOR 33072&quot;,&quot;optionlist&quot;:&quot;0&quot;,&quot;paramcode&quot;:&quot;0&quot;,&quot;notekey&quot;:&quot;0&quot;,&quot;multiple&quot;:&quot;1&quot;}}}\" /><input type=\"hidden\" autocomplete=\"off\" id=\"listing_data_supplemental[__GIP__3__]\" value=\"{&quot;partnumber&quot;:&quot;33072&quot;,&quot;catalogname&quot;:&quot;FOUR SEASONS&quot;,&quot;belongstolisting&quot;:&quot;__GIP__2__&quot;,&quot;sortgroup&quot;:0,&quot;sortgrouptext&quot;:&quot;&quot;,&quot;paramdesc&quot;:&quot;&quot;}\" /><input type=\"hidden\" autocomplete=\"off\" id=\"mdl_whtruckicon[__GIP__3__][]\" value=\"false\"><input type=\"hidden\" autocomplete=\"off\" id=\"mdl_chkalternate[__GIP__3__][]\" value=\"false\"><input type=\"hidden\" autocomplete=\"off\" id=\"mdl_btnaddtocart[__GIP__3__][]\" value=\"false\"><input type=\"hidden\" autocomplete=\"off\" id=\"mdl_btnpartincart[__GIP__3__][]\" value=\"false\"><input type=\"hidden\" autocomplete=\"off\" id=\"mdl_whtruckicon[__GIP__3__][alloptions]\" value=\"false\"><input type=\"hidden\" autocomplete=\"off\" id=\"lst_shipwhlist[__GIP__3__][0-0-8-1]\" value=\"{&quot;77479&quot;:77479,&quot;77478&quot;:77478}\" ><input type=\"hidden\" autocomplete=\"off\" id=\"mdl_whtruckicon[__GIP__3__][0-0-8-1]\" value=\"false\"><input type=\"hidden\" autocomplete=\"off\" id=\"mdl_btnaddtocart[__GIP__3__][0-0-8-1]\" value=\"true\"><input type=\"hidden\" autocomplete=\"off\" id=\"mdl_btnpartincart[__GIP__3__][0-0-8-1]\" value=\"false\"><input type=\"hidden\" autocomplete=\"off\" id=\"mdl_btnnotifyoos[__GIP__3__][0-0-8-1]\" value=\"false\"><input type=\"hidden\" autocomplete=\"off\" id=\"mdl_chkalternate[__GIP__3__][0-0-8-1]\" value=\"true\"><input type=\"hidden\" autocomplete=\"off\" id=\"lst_shipwhlist[__GIP__3__][0-0-1-1]\" value=\"{&quot;77481&quot;:77481,&quot;77478&quot;:77478,&quot;77479&quot;:77479}\" ><input type=\"hidden\" autocomplete=\"off\" id=\"mdl_whtruckicon[__GIP__3__][0-0-1-1]\" value=\"false\"><input type=\"hidden\" autocomplete=\"off\" id=\"mdl_btnaddtocart[__GIP__3__][0-0-1-1]\" value=\"true\"><input type=\"hidden\" autocomplete=\"off\" id=\"mdl_btnpartincart[__GIP__3__][0-0-1-1]\" value=\"false\"><input type=\"hidden\" autocomplete=\"off\" id=\"mdl_btnnotifyoos[__GIP__3__][0-0-1-1]\" value=\"false\"><input type=\"hidden\" autocomplete=\"off\" id=\"mdl_chkalternate[__GIP__3__][0-0-1-1]\" value=\"true\"><input type=\"hidden\" autocomplete=\"off\" id=\"lst_shipwhlist[__GIP__3__][0-0-0-1]\" value=\"{&quot;72902&quot;:72902,&quot;92407&quot;:92407,&quot;93722&quot;:93722,&quot;10462&quot;:10462,&quot;23220&quot;:23220}\" ><input type=\"hidden\" autocomplete=\"off\" id=\"mdl_whtruckicon[__GIP__3__][0-0-0-1]\" value=\"false\"><input type=\"hidden\" autocomplete=\"off\" id=\"mdl_btnaddtocart[__GIP__3__][0-0-0-1]\" value=\"true\"><input type=\"hidden\" autocomplete=\"off\" id=\"mdl_btnpartincart[__GIP__3__][0-0-0-1]\" value=\"false\"><input type=\"hidden\" autocomplete=\"off\" id=\"mdl_btnnotifyoos[__GIP__3__][0-0-0-1]\" value=\"false\"><input type=\"hidden\" autocomplete=\"off\" id=\"mdl_chkalternate[__GIP__3__][0-0-0-1]\" value=\"true\"><input type=\"hidden\" autocomplete=\"off\" name=\"ssk[__GIP__3__]\" value=\"HPc6NY4sqMvPDBCrBav8qdjYhwvF1G3LOhMH81BdLYHhKwm3SpokteSiJkK2a0VXNoX17cIag6E=\"/>\\n                                <span style=\"display: none;\" title=\"Replaces these Alternate/ OE Part Numbers\">151911, 19188493, 88919275, 88919343, F49Z19C836B</span>\\n                            </td>\\n                            \\n                            <td rowspan=\"2\" class=\"listing-border-top-line listing-float-box-cell-shared\" style=\"text-align: right; \">\\n                                <div class=\" listing-image-space-occupy\"><table class=\"tblz listing-image-table\" id=\"listing_image_table[__GIP__3__]\" style=\"\"><tr><td class=\"listing-image-table-leftrightcol\"><div id=\"inlineimg_left_small[__GIP__3__]\"><img id=\"inlineimgprevious[__GIP__3__]\" class=\"listing-image-prevnext-image remove-for-print show-if-js\" style=\" margin: .1em;\" src=\"/catalog/images/prevIMGbig.png\" onclick=\"cataloglite.Listing_InlineImageManualScroll(&quot;__GIP__3__&quot;, -1, false, false)\" alt=\"&lt;\" title=\"Previous Image\"></div></td><td class=\"listing-image-table-centercol\"><div id=\"inlineimgpositionancestor[__GIP__3__]\" style=\" position: relative; z-index: 1;\" class=\"ra-hide\"><div id=\"inlineimg_container[__GIP__3__]\" class=\" listing-inlineimg_container listing-inline-image-border\"  style=\"z-index: 1; text-align: center; background: #FFFFFF;\"><div id=\"inlineimg_containertitle[__GIP__3__]\" class=\"listing-inline-image-popup-widget-title ra-hide\" onmousedown=\"cataloglite.ImagePopupTitleMouseDown(&quot;__GIP__3__&quot;)\"><div style=\"text-align: center; \"><span style=\"padding: 0 2em 0 2em;\">FOUR SEASONS 33072</span><span style=\"position: absolute; right: 5px;\"><img src = \"/catalog/images/close12_1.gif\" style=\"padding: .2em; cursor: pointer; display: block;\" onclick=\"cataloglite.Listing_InlineImagePopupInPlace(&quot;__GIP__3__&quot;)\" alt=\"close\"/></span></div></div><div id=\"inlineimg_topper[__GIP__3__]\" class=\"img-topper-container\"><table class=\"tblz w100\"><tr><td class=\"pinched\" style=\"vertical-align: top;\"><div style=\"text-align: left; padding-right: .25em;\"><span id=\"inlineimg_left_big[__GIP__3__]\"></span></div><div class=\"listing-image-counter\"><div class=\"inner\" id=\"imagecounterdisplay[__GIP__3__]\"></div></div></td><td style=\"vertical-align: top;\"><div id=\"imgcarouseltitlephrase[__GIP__3__]\" class=\"img-carousel-titlephrase\"></div><div id=\"inlineimg_container360menu[__GIP__3__]\" class=\"ra-hide\" style=\"padding: .25em; margin-bottom: .5em;\"><div class=\"ra-bar-slider-bar-c\"><div  id=\"inlineimg_sliderbar[__GIP__3__]\"  class=\"ra-bar-slider-bar\" onmousedown=\"cataloglite.ImageSliderMouseDown(&quot;__GIP__3__&quot;, event);\" ontouchstart=\"cataloglite.ImageSliderMouseDown(&quot;__GIP__3__&quot;, event);\"><span class=\"ra-bar-slider-slider\" id=\"inlineimg_slider[__GIP__3__]\"></span></div></div></div></td><td class=\"pinched\" style=\"vertical-align: top; text-align: right;\"><div style=\"padding-left: .25em;\"><span id=\"inlineimg_right_big[__GIP__3__]\"></span></div></td></tr></table></div><div id=\"inlineimg_containersizer[__GIP__3__]\" class=\"inlineimg_containersizer ra-hide\" style=\" cursor: pointer;\" onclick=\"cataloglite.Listing_InlineImagePopupInPlace(&quot;__GIP__3__&quot;)\"><img id=\"inlineimg[__GIP__3__]\" class=\" listing-inline-image\"  src=\"/info/52/33072__ra_m.jpg\" alt=\"Part image\"/></div></div></div><img id=\"inlineimg_thumb[__GIP__3__]\" class=\"listing-inline-image listing-inline-image-thumb listing-inline-image-border\" style=\"cursor: pointer;\" onclick=\"cataloglite.Listing_InlineImagePopupInPlace(&quot;__GIP__3__&quot;)\" src=\"/info/52/33072__ra_m.jpg\" alt=\"Part image\" switch-to-highres=\"1\"/></td><td class=\"listing-image-table-leftrightcol\"><div id=\"inlineimg_right_small[__GIP__3__]\"><img id=\"inlineimgnext[__GIP__3__]\" name=\"inlnimgnextbtn\" class=\"listing-image-prevnext-image show-if-js remove-for-print\" style=\" margin: .1em;\" src=\"/catalog/images/nextIMGbig.png\" onclick=\"cataloglite.Listing_InlineImageManualScroll(&quot;__GIP__3__&quot;, 1, false, false)\" alt=\"&gt;\" title=\"Next Image\"></div></td></tr></table><input type=\"hidden\" autocomplete=\"off\" id=\"jsninlineimg[__GIP__3__]\" value=\"{&quot;Size&quot;:&quot;Thumb&quot;,&quot;SlotIndex&quot;:0,&quot;Slots&quot;:[{&quot;TitlePhrase&quot;:null,&quot;ParamCodes&quot;:[null],&quot;Type&quot;:&quot;Single&quot;,&quot;ImageData&quot;:{&quot;Thumb&quot;:&quot;\\\\/info\\\\/52\\\\/33072__ra_m.jpg&quot;,&quot;Popup&quot;:&quot;\\\\/info\\\\/52\\\\/33072.jpg&quot;,&quot;Full&quot;:&quot;\\\\/info\\\\/52\\\\/33072.jpg&quot;}},{&quot;TitlePhrase&quot;:null,&quot;ParamCodes&quot;:[null],&quot;Type&quot;:&quot;Single&quot;,&quot;ImageData&quot;:{&quot;Thumb&quot;:&quot;\\\\/info\\\\/52\\\\/33072FRO__ra_m.jpg&quot;,&quot;Popup&quot;:&quot;\\\\/info\\\\/52\\\\/33072FRO.jpg&quot;,&quot;Full&quot;:&quot;\\\\/info\\\\/52\\\\/33072FRO.jpg&quot;}},{&quot;TitlePhrase&quot;:null,&quot;ParamCodes&quot;:[null],&quot;Type&quot;:&quot;Single&quot;,&quot;ImageData&quot;:{&quot;Thumb&quot;:&quot;\\\\/info\\\\/52\\\\/33072RSID__ra_m.jpg&quot;,&quot;Popup&quot;:&quot;\\\\/info\\\\/52\\\\/33072RSID.jpg&quot;,&quot;Full&quot;:&quot;\\\\/info\\\\/52\\\\/33072RSID.jpg&quot;}},{&quot;TitlePhrase&quot;:null,&quot;ParamCodes&quot;:[null],&quot;Type&quot;:&quot;Single&quot;,&quot;ImageData&quot;:{&quot;Thumb&quot;:&quot;\\\\/info\\\\/52\\\\/33072LSID__ra_m.jpg&quot;,&quot;Popup&quot;:&quot;\\\\/info\\\\/52\\\\/33072LSID.jpg&quot;,&quot;Full&quot;:&quot;\\\\/info\\\\/52\\\\/33072LSID.jpg&quot;}},{&quot;TitlePhrase&quot;:null,&quot;ParamCodes&quot;:[null],&quot;Type&quot;:&quot;Single&quot;,&quot;ImageData&quot;:{&quot;Thumb&quot;:&quot;\\\\/info\\\\/52\\\\/33072BAC__ra_m.jpg&quot;,&quot;Popup&quot;:&quot;\\\\/info\\\\/52\\\\/33072BAC.jpg&quot;,&quot;Full&quot;:&quot;\\\\/info\\\\/52\\\\/33072BAC.jpg&quot;}},{&quot;TitlePhrase&quot;:null,&quot;ParamCodes&quot;:[null],&quot;Type&quot;:&quot;Single&quot;,&quot;ImageData&quot;:{&quot;Thumb&quot;:&quot;\\\\/info\\\\/52\\\\/33072TOP__ra_m.jpg&quot;,&quot;Popup&quot;:&quot;\\\\/info\\\\/52\\\\/33072TOP.jpg&quot;,&quot;Full&quot;:&quot;\\\\/info\\\\/52\\\\/33072TOP.jpg&quot;}}]}\"/></div>\\n                            </td>\\n                            \\n                            <td id=\"listingtd[__GIP__3__][price]\" colspan=\"4\" class=\" listing-border-top-line listing-float-box-cell-shared listing-float-box-cell-more-padding\" style=\"height: 1px; text-align: center; \">\\n                                <span id=\"dprice[__GIP__3__][td]\" class=\"\"><span class=\"ra-formatted-amount listing-price listing-amount-bold\"><span id=\"dprice[__GIP__3__][v]\">$5.76</span></span></span>\\n                            </td>\\n                            <td id=\"listingtd[__GIP__3__][core]\" class=\"ra-hide listing-border-top-line listing-float-box-cell-shared listing-float-box-cell-more-padding\" style=\"height: 1px; text-align: center; \">\\n                                <span id=\"dcore[__GIP__3__][td]\" class=\"\"><span class=\"ra-formatted-amount listing-core\"><a id=\"dcore[__GIP__3__][color]\" href=\"/help/?page=2#CORE\" target=\"_blank\" onclick=\"return FAQpopup(this);\" style=\"text-decoration: none;\" class=\"\"><span id=\"dcore[__GIP__3__][v]\">$0.00</span></a></span></span>\\n                            </td>\\n                            <td id=\"listingtd[__GIP__3__][pack]\" class=\"ra-hide listing-border-top-line listing-float-box-cell-shared listing-float-box-cell-more-padding\" style=\"height: 1px; text-align: center; \">\\n                                <span id=\"dpack[__GIP__3__][v]\"><span class=\"hide-if-js\">+ Sold in packs of 1</span><span class=\"show-if-js\"><span class=\"pack_size_box no-text-select\" onclick=\"showContextPopup(\\'&nbsp;\\', &quot;Sold in packs of 1&quot;, this); RA.StopBubble(event); return false;\" title=\"Sold in packs of 1\"><span class=\"right\"><span class=\"left\"><span class=\"text\"><span class=\"text-x-small\">x</span>1</span></span></span></span></span></span>\\n                            </td>\\n                            <td id=\"listingtd[__GIP__3__][total]\" class=\"ra-hide listing-border-top-line listing-float-box-cell-shared listing-float-box-cell-more-padding\" style=\"height: 1px; text-align: center; \">\\n                                <span id=\"dtotal[__GIP__3__][td]\" class=\"listing-amount-bold\"><span class=\"ra-formatted-amount listing-total\"><span id=\"dtotal[__GIP__3__][v]\">$5.76</span></span></span>\\n                            </td>\\n                            <td rowspan=\"2\" class=\" listing-border-top-line listing-float-box-cell-shared\" style=\"text-align: center; \">\\n                                \\n                            </td>\\n                        </tr>\\n                        <tr>\\n                            <td colspan=\"4\" class=\" listing-float-box-cell-shared\" style=\"text-align: right;\">\\n                                <div style=\"padding-top: .25em; padding-bottom: .1em;\">\\n                                    <div class=\"listing-quantity-adjustment ib remove-for-print show-if-js\"><input type=\"hidden\" autocomplete=\"off\" id=\"listingoptkeytomultiple[__GIP__3__]\" value=\"{&quot;0-0-8-1&quot;:&quot;1&quot;,&quot;0-0-1-1&quot;:&quot;1&quot;,&quot;0-0-0-1&quot;:&quot;1&quot;}\" ><input type=\"hidden\" autocomplete=\"off\" id=\"listingoptkeytolinenumber[__GIP__3__]\" value=\"{&quot;0-0-8-1&quot;:null,&quot;0-0-1-1&quot;:null,&quot;0-0-0-1&quot;:null}\" ><input type=\"hidden\" autocomplete=\"off\" id=\"listingoptkeytoqtyincart[__GIP__3__]\" value=\"{&quot;0-0-8-1&quot;:null,&quot;0-0-1-1&quot;:null,&quot;0-0-0-1&quot;:null}\" ><input type=\"hidden\" autocomplete=\"off\" id=\"listingoptkeytoalternateid[__GIP__3__]\" value=\"{&quot;0-0-8-1&quot;:null,&quot;0-0-1-1&quot;:null,&quot;0-0-0-1&quot;:null}\" ><table class=\"tblz di tbl-input-button-attached\" id=\"listingquantitytable[__GIP__3__]\"><tr><td class=\"td-button-left\" style=\"text-align: right;\"><div class=\"qty-adjust-button\" onclick=\"cataloglite.ListingQuantityUpdate(&quot;__GIP__3__&quot;, -1);\" style=\"border-top-left-radius: 4px; border-bottom-left-radius: 4px;\"><img class=\"nobmp vmiddle\" src=\"/Images/mobile/qty_down_white.png\" alt=\"\" /></div></td><td class=\"td-input\"><label for=\"raquantity[__GIP__3__]\" style=\"display:none;\">Quantity</label><input type=\"text\" aria-label=\"Quantity\" class=\"input-quantity  ib\" style=\"text-align: center; width: 2em; padding-left: 0;\" maxlength=\"5\" name=\"raquantity[__GIP__3__]\" id=\"raquantity[__GIP__3__]\" value=\"1\" autocomplete=\"off\" spellcheck=\"false\" autocorrect=\"off\" autocapitalize=\"off\" data-autofill=\"block\" onkeypress=\"return RA.InterceptEnter(event, function(){RA.ByName(&quot;raquantity[__GIP__3__]&quot;)[0].blur()});\" onchange=\"cataloglite.ListingQuantityUpdate(&quot;__GIP__3__&quot;);\" /></td><td class=\"td-button-right\"><div class=\"qty-adjust-button\" onclick=\"cataloglite.ListingQuantityUpdate(&quot;__GIP__3__&quot;, 1);\"style=\"border-top-right-radius: 4px; border-bottom-right-radius: 4px;\"><img class=\"nobmp vmiddle\" src=\"/Images/mobile/qty_up_white.png\" alt=\"\" /></div></td></tr></table></div>\\n                                    <div class=\"catalog-listing-buttons-wrapper ib\" style=\"min-width:105px;\"><div class=\"vew_btnaddtocart remove-for-print  \" id=\"vew_btnaddtocart[__GIP__3__]\"><input type=\"submit\" name=\"addpart[__GIP__3__]\" id=\"addpart[__GIP__3__]\" value=\"Add to Cart &gt;\" class=\"hide-if-js ra-btn ra-btn-size-normal ra-btn-color-hotgreen\" onclick=\"cataloglite.ShowLoadingOverlay(null, \\'PK_ADDINGPARTTOCART\\'); return cataloglite.Cart.AddPartWhenReady(&quot;__GIP__3__&quot;);\"><a style=\"display: inline-block;\" class=\"show-if-js ra-btn ra-btn-color-hotgreen ra-btn-size-normal ra-btn-add-part\" onclick=\"RA.Click(\\'addpart[__GIP__3__]\\'); return false;\" href=\"#\"><span class=\"la-btn-v\">Add to Cart</span><img class=\"la-btn-v\" style=\"height: 1em; margin-left: .25em;\" src=\"/Images/mobile/right_arrow_white.png\" alt=\"\" /></a></div><div class=\"vew_btnpartincart remove-for-print ra-hide \" id=\"vew_btnpartincart[__GIP__3__]\"><input type=\"submit\" name=\"addpart[__GIP__3__]\" value=\"Part In Cart\" class=\"ra-btn ra-btn-size-normal ra-btn-part-in-cart\" onclick=\"cataloglite.Cart.ShowPartAlreadyInCart(__GIP__3__); return false;\"></div><div class=\"vew_btnnotifyoos remove-for-print ra-hide show-if-js\" id=\"vew_btnnotifyoos[__GIP__3__]\"><input type=\"button\" value=\"Notify Me When Available\" class=\"ra-btn ra-btn-size-normal ra-btn-color-darkblue\" onclick=\"cataloglite.GetAvailabilityAlertForOOSPart(&quot;__GIP__3__&quot;);\"></div></div>\\n                                </div>\\n                            </td>\\n                        </tr>\\n                    </tbody>\\n                    </table><div id=\"listingfiltermessage[__GIP__2__]\" class=\"listing-filter-bottom-message ra-hide\"></div><input type=\"hidden\" autocomplete=\"off\" id=\"part_groupindexes_in_this_listing[__GIP__2__]\" value=\"[&quot;__GIP__3__&quot;]\"/></div></div></form></div></div></div>',\n",
       " 'collected_javascript': '/**UQ:489BB01C**/\\nvar PK_OK =\"OK\";\\nvar PK_XLISTINGSREMOVE=\"KEY__NUM listings removed\";\\nvar PK_XLISTINGREMOVE=\"KEY__NUM listing removed\";\\nRABoot.WaitFor(\"jQuery\", function() {$(document).ready(function(){clb.DynamicDropDown_SetupMonitoring(\"ddrepl[optionchoice[__GIP__3__]]\");});});\\nwindow.top.parent.window[\"_nck\"] = \"RaosfcaC2rGsyaDO5wlVVEZqgf1rMDVjY0i1RdkJs5pvjGfBKOiwpBt27aYgFrhIDezeZhyXxNlVlnNbAlN+BOyHtTLpKKLXavhQbhyfuDuEkbeHQsa94SioLryDREgOWlHG079ZdJv4BM29IUxbW5ipeWoa9Uw8CZdP\\\\/qbt0f4Nm8r+7didWAd0cE6bMiwQ+MXDKXgLfUg=\";\\n'}"
      ]
     },
     "execution_count": 5,
     "metadata": {},
     "output_type": "execute_result"
    }
   ],
   "source": [
    "import time\n",
    "\n",
    "data = {'dopartsearch': '1',\n",
    "        'partsearch[partnum][partsearch_007]': crawler_series['Part Number'],\n",
    "        'partsearch[manufacturer][partsearch_007]': crawler_series['Manufacturer'],\n",
    "        'partsearch[do][partsearch_007]': '1',\n",
    "        'func': 'sendparttabsearch',\n",
    "        'payload': '{}',\n",
    "        'api_json_request': '1'}\n",
    "\n",
    "count_retry = 0\n",
    "while True:\n",
    "    count_retry += 1\n",
    "    print(count_retry)\n",
    "    try:\n",
    "        url_check = f'''https://www.rockauto.com/en/partsearch/?mfr={crawler_series['Manufacturer']}&partnum={crawler_series['Part Number']}'''\n",
    "\n",
    "        resp = requests.post('https://www.rockauto.com/catalog/catalogapi.php',\n",
    "                             data=data,\n",
    "                             headers=get_header(),\n",
    "                             proxies=get_proxy(),\n",
    "                             timeout=(5, 15))\n",
    "\n",
    "        if resp.status_code == 200:\n",
    "            dict_ = resp.json()\n",
    "\n",
    "            if 'redirect_to_url' not in dict_ and 'collected_javascript' in dict_:\n",
    "                break\n",
    "    except KeyboardInterrupt:\n",
    "        break\n",
    "    except:\n",
    "        time.sleep(3)\n",
    "        continue\n",
    "\n",
    "dict_"
   ]
  },
  {
   "cell_type": "code",
   "execution_count": 6,
   "id": "f933a1ab-8825-469f-91db-99d00e8d5c6d",
   "metadata": {
    "scrolled": true
   },
   "outputs": [
    {
     "name": "stdout",
     "output_type": "stream",
     "text": [
      "<html>\n",
      " <body>\n",
      "  <div class=\"ranavnode\" id=\"nav[__GIP__1__]\">\n",
      "   <input autocomplete=\"off\" id=\"jsn[__GIP__1__]\" type=\"hidden\" value='{\"groupindex\":\"__GIP__1__\",\"tab\":\"partsearch\",\"idepth\":0,\"parttype\":\"6972\",\"catalogname\":\"FOUR SEASONS\",\"partnumber\":\"33072\",\"nodetype\":\"parttabsearch\",\"expanded\":true,\"loaded\":true}'/>\n",
      "   <input autocomplete=\"off\" id=\"navnodeunique[partsearch-6972]\" name=\"navnodeunique[partsearch-6972]\" type=\"hidden\" value=\"__GIP__1__\"/>\n",
      "   <div class=\"ranavouter\" id=\"nav_o[__GIP__1__]\">\n",
      "    <div class=\"inner\">\n",
      "     <table cellpadding=\"0\" cellspacing=\"0\" class=\"tbl\">\n",
      "      <tr>\n",
      "       <td class=\"niconspace nexpandedicon\" id=\"navicon[__GIP__1__]\">\n",
      "        <a href=\"/en/parts/four+seasons,33072,a/c+receiver+drier+/+accumulator,6972\" onclick='cataloglite.LinkIntercept_ToggleNavNode(\"__GIP__1__\"); return false;' tabindex=\"-1\">\n",
      "         <img alt=\"Toggle\" src=\"/Images/1pxtransparent.png\"/>\n",
      "        </a>\n",
      "       </td>\n",
      "       <td class=\"nlabel\">\n",
      "        <a class=\"navlabellink nvoffset nnormal\" href=\"/en/parts/four+seasons,33072,a/c+receiver+drier+/+accumulator,6972\" id=\"navhref[__GIP__1__]\" onclick='cataloglite.LinkIntercept_ToggleNavNode(\"__GIP__1__\"); return false;'>\n",
      "         Search for Manufacturer='FOUR SEASONS' and Part Number='33072'\n",
      "        </a>\n",
      "       </td>\n",
      "      </tr>\n",
      "     </table>\n",
      "    </div>\n",
      "   </div>\n",
      "   <div class=\"nchildren\" id=\"navchildren[__GIP__1__]\">\n",
      "    <div class=\"listings-container\" id=\"listings[__GIP__2__]\">\n",
      "     <form action=\"/en/partsearch/?mfr=FOUR+SEASONS&amp;parttype=6972&amp;partnum=33072\" class=\"nobmp\" id=\"frmlistings[__GIP__2__]\" method=\"post\">\n",
      "      <input name=\"_nck\" type=\"hidden\" value=\"RaosfcaC2rGsyaDO5wlVVEZqgf1rMDVjY0i1RdkJs5pvjGfBKOiwpBt27aYgFrhIDezeZhyXxNlVlnNbAlN+BOyHtTLpKKLXavhQbhyfuDuEkbeHQsa94SioLryDREgOWlHG079ZdJv4BM29IUxbW5ipeWoa9Uw8CZdP/qbt0f4Nm8r+7didWAd0cE6bMiwQ+MXDKXgLfUg=\"/>\n",
      "      <div class=\"listing-container-border\">\n",
      "       <input autocomplete=\"off\" id=\"parentnode[__GIP__2__]\" type=\"hidden\" value=\"__GIP__1__\"/>\n",
      "       <div>\n",
      "        <div style=\"padding-top: 1px; padding-left: .25em; padding-right: .25em;\">\n",
      "         <div class=\"remove-for-print\" style=\"padding-top:5px;\">\n",
      "          <div class=\"ib vtop\">\n",
      "           <span class=\"show-if-js\" style=\"padding-left: .5em;\">\n",
      "            <img alt=\"Close\" class=\"mouseover\" onclick='cataloglite.NavNode_SimulateClick(\"__GIP__1__\");' src=\"/catalog/images/close.gif\" style=\"vertical-align: top;\" title=\"Close\"/>\n",
      "           </span>\n",
      "           <span class=\"show-if-js\" style=\"padding-left: .5em;\">\n",
      "            <a href=\"/en/printlistings.php?ni=__GIP__2__&amp;title=Print Part Listings\" rel=\"opener\" target=\"_blank\">\n",
      "             <img alt=\"Print Part Listings\" class=\"mouseover\" src=\"/Images/mobile/printer.png\" style=\"vertical-align: top; border: none; height: 20px;\" title=\"Print Part Listings\"/>\n",
      "            </a>\n",
      "           </span>\n",
      "           <span class=\"show-if-js\" style=\"padding-left: .5em;\">\n",
      "            <a href=\"/en/emailpagetofriend.php?nurl=%2Fen%2Fpartsearch%2F%3Fmfr%3DFOUR%2BSEASONS%26parttype%3D6972%26partnum%3D33072\" onclick='cataloglite.AddFiltersToEmailListingURL(\"\\/en\\/partsearch\\/?mfr=FOUR+SEASONS&amp;parttype=6972&amp;partnum=33072\", \"__GIP__2__\"); return false;' target=\"_blank\">\n",
      "             <img alt=\"Send these listings to a friend\" class=\"mouseover\" src=\"/Images/mobile/envelope.png\" style=\"vertical-align: top; border: none; height: 14px;\" title=\"Send these listings to a friend\"/>\n",
      "            </a>\n",
      "           </span>\n",
      "           <span class=\"show-if-js\" style=\"padding-left: .5em;\">\n",
      "            <a alt=\"How do I choose a part?\" href=\"/help/?page=2\" style=\"text-decoration: none;\" target=\"_blank\" title=\"How do I choose a part?\">\n",
      "             <img alt=\"Help\" class=\"help_q_icon_16 vtop\" src=\"/Images/questionMark.png\"/>\n",
      "            </a>\n",
      "           </span>\n",
      "          </div>\n",
      "          <span class=\"span-filterinput\" style=\"padding-left: .5em;\">\n",
      "           <div class=\"ib\">\n",
      "            <table class=\"tblz tbl-input-button-attached attached-filter-size\">\n",
      "             <tr>\n",
      "              <td class=\"td-input\">\n",
      "               <input autocapitalize=\"off\" autocomplete=\"off\" autocorrect=\"off\" class=\"filter-input\" id=\"filterinput[__GIP__2__]\" name=\"filterinput\" onblur='cataloglite.FilterListings(\"__GIP__2__\");' onclick='cataloglite.DisplayFilterBreakDown(\"__GIP__2__\");' onkeypress='return RA.InterceptEnter(event, function(){cataloglite.FilterListings(\"__GIP__2__\");});' placeholder=\"Filter By Keyword(s)\" size=\"25\" spellcheck=\"false\" style=\"\" title=\"Filter listings below by entering words that you want to see. Use '-' before a word to find results that do NOT contain that word. Use OR between words or groups of words to see listings that match either. Use quotes &quot;...&quot; around a set of words you wish to match only when they exist together as a phrase. Multiple filters can be applied by entering new words or phrases after each filter operation.\" type=\"text\" value=\"\"/>\n",
      "              </td>\n",
      "              <td class=\"td-button\">\n",
      "               <img alt=\"Apply Filter\" class=\"ib input-size ra-btn ra-btn-size-normal ra-btn-color-darkblue ra-btn-search-icon\" onclick=\"RA.ThrottleRepeats(function() { cataloglite.SendPartTabSearch('frm_partsearch', &quot;__GIP__2__&quot;); }, 'part_tab_search_filter', 2.5); return false;\" src=\"/Images/1pxtransparent.png\" style=\"color: black;\"/>\n",
      "              </td>\n",
      "             </tr>\n",
      "            </table>\n",
      "           </div>\n",
      "           <span style=\"position: relative;\">\n",
      "            <span class=\"ra-hide\" id=\"filterbreakdownwrapper___GIP__2__\" style=\"position: absolute; z-index: 10;\">\n",
      "             <div style=\"background: #FFFFFF; border: 1px solid black; padding: 5px; white-space: nowrap;\">\n",
      "              <div class=\"filter-breakdown-row-spacing\" style=\"text-align: right;\">\n",
      "               <img alt=\"Hide\" class=\"mouseover\" onclick='cataloglite.DisplayFilterBreakDown(\"__GIP__2__\", 1);' src=\"/catalog/images/close.gif\" style=\"vertical-align: top;\" title=\"Hide\"/>\n",
      "              </div>\n",
      "              <div id=\"filterbreakdownsteps___GIP__2__\">\n",
      "              </div>\n",
      "              <div style=\"text-align: center; padding-top: .25em;\">\n",
      "               <input class=\"ra-btn mo-link\" name=\"clearfilter\" onclick=\"RA.ThrottleRepeats(function() { cataloglite.SendPartTabSearch('frm_partsearch', &quot;__GIP__2__&quot;, 1); }, 'part_tab_search_filter', 2.5); return false;\" style=\"color: blue;\" type=\"submit\" value=\"Clear Filter\"/>\n",
      "              </div>\n",
      "             </div>\n",
      "            </span>\n",
      "           </span>\n",
      "          </span>\n",
      "         </div>\n",
      "        </div>\n",
      "        <div style=\"clear: both; padding-top: .25em;\">\n",
      "        </div>\n",
      "        <table cellpadding=\"0\" cellspacing=\"0\" class=\"nobmp\" style=\"width: 100%;\">\n",
      "         <tbody>\n",
      "          <tr>\n",
      "           <td colspan=\"2\">\n",
      "           </td>\n",
      "           <td class=\"listing-float-box-cell-shared-header\" colspan=\"4\" style=\"height: 1px; text-align: center;\">\n",
      "            <span style=\"font-weight: bold;\">\n",
      "             Price\n",
      "            </span>\n",
      "           </td>\n",
      "           <td class=\"ra-hide listing-float-box-cell-shared-header\" style=\"height: 1px; text-align: center;\">\n",
      "           </td>\n",
      "           <td class=\"ra-hide listing-float-box-cell-shared-header\" style=\"height: 1px; text-align: center;\">\n",
      "           </td>\n",
      "           <td class=\"ra-hide listing-float-box-cell-shared-header\" style=\"height: 1px; text-align: center;\">\n",
      "           </td>\n",
      "           <td class=\"listing-float-box-cell-shared-header\" style=\"text-align: center;\">\n",
      "           </td>\n",
      "          </tr>\n",
      "         </tbody>\n",
      "         <tr class=\"remove-for-print\">\n",
      "          <td class=\"ra-hide\" colspan=\"6\" id=\"listingnopartscriteria[__GIP__2__]\" style=\"color: red;\">\n",
      "           No parts for vehicles in selected markets.\n",
      "          </td>\n",
      "         </tr>\n",
      "         <tbody class=\"listing-inner altrow-a-1\" id=\"listingcontainer[__GIP__3__]\" style=\"\">\n",
      "          <tr>\n",
      "           <td class=\"listing-border-top-line listing-inner-content\" rowspan=\"2\" style=\"\">\n",
      "            <span style=\"float: right;\">\n",
      "            </span>\n",
      "            <div>\n",
      "            </div>\n",
      "            <div class=\"listing-text-row-moreinfo-truck\">\n",
      "             <span class=\"listing-final-manufacturer\">\n",
      "              FOUR SEASONS\n",
      "             </span>\n",
      "             <span alt=\"Buyer's Guide\" class=\"listing-final-partnumber as-link-if-js\" id=\"vew_partnumber[__GIP__3__]\" onclick='if (cataloglite.IsMobileAndNotExpanded(\"__GIP__3__\")) { return; } cataloglite.ShowBuyersGuidePopup(\"__GIP__3__\");' title=\"Buyer's Guide\">\n",
      "              33072\n",
      "             </span>\n",
      "             <a class=\"ra-btn ra-btn-moreinfo\" href=\"https://www.rockauto.com/en/moreinfo.php?pk=814749&amp;cc=0&amp;pt=6972\" onclick='cataloglite.MoreInfoClick(this, \"__GIP__3__\"); AddSerializedCookieDataToHref(this);' rel=\"opener\" target=\"_blank\">\n",
      "              Info\n",
      "             </a>\n",
      "             <span class=\"truck ra-hide remove-for-print mouseover\" name=\"vew_whtruckicon[__GIP__3__][alloptions]\" onclick=\"FAQpopup('/help/?page=2#MINSHIPCOST', &quot;Could ship from same location as parts in cart&quot;, null, this); RA.StopBubble(event); return false;\" title=\"Could ship from same location as parts in cart\">\n",
      "             </span>\n",
      "            </div>\n",
      "            <div class=\"listing-text-row\">\n",
      "             <span title=\"Please make sure this note matches your vehicle. A seemingly contradictory note (like &quot;Left; Right;&quot;) means the part fits either (left OR right) -- it does not mean you'll receive two parts. Please do not choose a part if the note does not describe your application (for example, if the note says &quot;Sedan&quot; and you have a station wagon).\">\n",
      "              <span class=\"listing-footnote-text\">\n",
      "               Category: A/C Receiver Drier / Accumulator\n",
      "              </span>\n",
      "             </span>\n",
      "            </div>\n",
      "            <div>\n",
      "             <div class=\"listing-optionchoice-multiple-container remove-for-print\">\n",
      "              <span class=\"listing-optionchoice-multiple-label\">\n",
      "               Choose\n",
      "              </span>\n",
      "              <span class=\"ra-vertical-dropdown-replacement-c\" id=\"ddrepl[optionchoice[__GIP__3__]][container]\">\n",
      "               <span class=\"hide-if-js\">\n",
      "                <select autocomplete=\"none\" class=\"listing-optionchoice-multiple\" id=\"optionchoice[__GIP__3__]\" name=\"optionchoice[__GIP__3__]\" onchange=\"cataloglite.change_opt(&quot;__GIP__3__&quot;); cataloglite.DynamicDropDown_SetSelected(&quot;ddrepl[optionchoice[__GIP__3__]]&quot;, -1, 'r');\" tabindex=\"0\">\n",
      "                 <option value=\"\">\n",
      "                  &amp;nbsp\n",
      "                 </option>\n",
      "                 <option selected=\"\" value=\"0-0-8-1\">\n",
      "                  [\n",
      "                  <a href=\"/lang/en/answersTab2.html#closeout\" onclick=\"return FAQpopup(this)\" target=\"blank\">\n",
      "                   Wholesaler Closeout\n",
      "                  </a>\n",
      "                  - Private Label Pkg. - 30 Day Warranty]\n",
      "                  <b>\n",
      "                   ($5.76)\n",
      "                  </b>\n",
      "                  ^\n",
      "                 </option>\n",
      "                 <option value=\"0-0-1-1\">\n",
      "                  [\n",
      "                  <a href=\"/lang/en/answersTab2.html#closeout\" onclick=\"return FAQpopup(this)\" target=\"blank\">\n",
      "                   Wholesaler Closeout\n",
      "                  </a>\n",
      "                  -- 30 Day Warranty]\n",
      "                  <b>\n",
      "                   ($14.18)\n",
      "                  </b>\n",
      "                  ^\n",
      "                 </option>\n",
      "                 <option value=\"0-0-0-1\">\n",
      "                  [\n",
      "                  <a href=\"/catalog/moreinfo.php?condition=REGULAR\" onclick=\"return FAQpopup(this, ' ', true, this);\" target=\"_blank\">\n",
      "                   Regular Inventory\n",
      "                  </a>\n",
      "                  ]\n",
      "                  <b>\n",
      "                   ($22.79)\n",
      "                  </b>\n",
      "                  ^\n",
      "                 </option>\n",
      "                </select>\n",
      "               </span>\n",
      "               <span class=\"ra-vertical-dropdown-replacement tfk show-if-js\" id=\"ddrepl[optionchoice[__GIP__3__]]\" style=\"\">\n",
      "                <input autocomplete=\"off\" id=\"ddrepl[optionchoice[__GIP__3__]][jsstate]\" type=\"hidden\" value='{\"expanded\":\"\",\"selectedindex\":1,\"selectid\":\"optionchoice[__GIP__3__]\",\"disabled\":false,\"tfk\":false}'/>\n",
      "                <table class=\"control-table nobmp-table\">\n",
      "                 <tr>\n",
      "                  <td>\n",
      "                   <span class=\"collapsed input-border input-padding no-text-select listing-optionchoice-multiple\" id=\"ddrepl[optionchoice[__GIP__3__]][collapse]\" onclick='clb.DynamicDropDown_CollapsedClick(\"ddrepl[optionchoice[__GIP__3__]]\", event);' style=\"min-width: 23.33em;\">\n",
      "                    <span class=\"down-arrow\">\n",
      "                    </span>\n",
      "                    <span class=\"vmiddle\" id=\"ddrepl[optionchoice[__GIP__3__]][collapsetext]\">\n",
      "                     <span class=\"di vmiddle\">\n",
      "                      [\n",
      "                      <a href=\"/lang/en/answersTab2.html#closeout\" onclick=\"RA.StopBubble(event); return FAQpopup(this)\" target=\"blank\">\n",
      "                       Wholesaler Closeout\n",
      "                      </a>\n",
      "                      - Private Label Pkg. - 30 Day Warranty]\n",
      "                      <b>\n",
      "                       ($5.76)\n",
      "                      </b>\n",
      "                     </span>\n",
      "                     <img alt=\"Warehouse\" class=\"nobmp di vmiddle ra-hide\" name=\"vew_whtruckicon[__GIP__3__][0-0-8-1]\" onmousemove=\"clb.FAQHover_MouseMove(this, event, '/help/?page=2#MINSHIPCOST', 'Could ship from same location as parts in cart');\" onmouseout=\"clb.FAQHover_MouseOut(this, event);\" src=\"/Images/mobile/truck.png\" style=\"height: 1.25em; margin-left: .25em;\" title=\"Could ship from same location as parts in cart\"/>\n",
      "                    </span>\n",
      "                   </span>\n",
      "                   <div class=\"expanded ra-hide\" id=\"ddrepl[optionchoice[__GIP__3__]][expand]\">\n",
      "                    <div class=\"absolute\" id=\"ddrepl[optionchoice[__GIP__3__]][absolute]\">\n",
      "                     <ul class=\"scroll\" id=\"ddrepl[optionchoice[__GIP__3__]][scroll]\">\n",
      "                      <li class=\"list-item first\" id=\"ddrepl[optionchoice[__GIP__3__]][list-item][0]\" onclick=\"clb.DynamicDropDown_SetSelected(&quot;ddrepl[optionchoice[__GIP__3__]]&quot;, 0, 'w');\">\n",
      "                       <div class=\"outer\" id=\"ddrepl[optionchoice[__GIP__3__]][list-item][0][outer]\">\n",
      "                        <div class=\"inner\" id=\"ddrepl[optionchoice[__GIP__3__]][list-item][0][inner]\">\n",
      "                         &amp;nbsp\n",
      "                        </div>\n",
      "                       </div>\n",
      "                      </li>\n",
      "                      <li class=\"list-item\" id=\"ddrepl[optionchoice[__GIP__3__]][list-item][1]\" onclick=\"clb.DynamicDropDown_SetSelected(&quot;ddrepl[optionchoice[__GIP__3__]]&quot;, 1, 'w');\">\n",
      "                       <div class=\"outer selected\" id=\"ddrepl[optionchoice[__GIP__3__]][list-item][1][outer]\">\n",
      "                        <div class=\"inner\" id=\"ddrepl[optionchoice[__GIP__3__]][list-item][1][inner]\">\n",
      "                         <span class=\"di vmiddle\">\n",
      "                          [\n",
      "                          <a href=\"/lang/en/answersTab2.html#closeout\" onclick=\"RA.StopBubble(event); return FAQpopup(this)\" target=\"blank\">\n",
      "                           Wholesaler Closeout\n",
      "                          </a>\n",
      "                          - Private Label Pkg. - 30 Day Warranty]\n",
      "                          <b>\n",
      "                           ($5.76)\n",
      "                          </b>\n",
      "                         </span>\n",
      "                         <img alt=\"Warehouse\" class=\"nobmp di vmiddle ra-hide\" name=\"vew_whtruckicon[__GIP__3__][0-0-8-1]\" onmousemove=\"clb.FAQHover_MouseMove(this, event, '/help/?page=2#MINSHIPCOST', 'Could ship from same location as parts in cart');\" onmouseout=\"clb.FAQHover_MouseOut(this, event);\" src=\"/Images/mobile/truck.png\" style=\"height: 1.25em; margin-left: .25em;\" title=\"Could ship from same location as parts in cart\"/>\n",
      "                        </div>\n",
      "                       </div>\n",
      "                      </li>\n",
      "                      <li class=\"list-item\" id=\"ddrepl[optionchoice[__GIP__3__]][list-item][2]\" onclick=\"clb.DynamicDropDown_SetSelected(&quot;ddrepl[optionchoice[__GIP__3__]]&quot;, 2, 'w');\">\n",
      "                       <div class=\"outer\" id=\"ddrepl[optionchoice[__GIP__3__]][list-item][2][outer]\">\n",
      "                        <div class=\"inner\" id=\"ddrepl[optionchoice[__GIP__3__]][list-item][2][inner]\">\n",
      "                         <span class=\"di vmiddle\">\n",
      "                          [\n",
      "                          <a href=\"/lang/en/answersTab2.html#closeout\" onclick=\"RA.StopBubble(event); return FAQpopup(this)\" target=\"blank\">\n",
      "                           Wholesaler Closeout\n",
      "                          </a>\n",
      "                          -- 30 Day Warranty]\n",
      "                          <b>\n",
      "                           ($14.18)\n",
      "                          </b>\n",
      "                         </span>\n",
      "                         <img alt=\"Warehouse\" class=\"nobmp di vmiddle ra-hide\" name=\"vew_whtruckicon[__GIP__3__][0-0-1-1]\" onmousemove=\"clb.FAQHover_MouseMove(this, event, '/help/?page=2#MINSHIPCOST', 'Could ship from same location as parts in cart');\" onmouseout=\"clb.FAQHover_MouseOut(this, event);\" src=\"/Images/mobile/truck.png\" style=\"height: 1.25em; margin-left: .25em;\" title=\"Could ship from same location as parts in cart\"/>\n",
      "                        </div>\n",
      "                       </div>\n",
      "                      </li>\n",
      "                      <li class=\"list-item last\" id=\"ddrepl[optionchoice[__GIP__3__]][list-item][3]\" onclick=\"clb.DynamicDropDown_SetSelected(&quot;ddrepl[optionchoice[__GIP__3__]]&quot;, 3, 'w');\">\n",
      "                       <div class=\"outer\" id=\"ddrepl[optionchoice[__GIP__3__]][list-item][3][outer]\">\n",
      "                        <div class=\"inner\" id=\"ddrepl[optionchoice[__GIP__3__]][list-item][3][inner]\">\n",
      "                         <span class=\"di vmiddle\">\n",
      "                          [\n",
      "                          <a href=\"/catalog/moreinfo.php?condition=REGULAR\" onclick=\"RA.StopBubble(event); return FAQpopup(this, ' ', true, this);\" target=\"_blank\">\n",
      "                           Regular Inventory\n",
      "                          </a>\n",
      "                          ]\n",
      "                          <b>\n",
      "                           ($22.79)\n",
      "                          </b>\n",
      "                         </span>\n",
      "                         <img alt=\"Warehouse\" class=\"nobmp di vmiddle ra-hide\" name=\"vew_whtruckicon[__GIP__3__][0-0-0-1]\" onmousemove=\"clb.FAQHover_MouseMove(this, event, '/help/?page=2#MINSHIPCOST', 'Could ship from same location as parts in cart');\" onmouseout=\"clb.FAQHover_MouseOut(this, event);\" src=\"/Images/mobile/truck.png\" style=\"height: 1.25em; margin-left: .25em;\" title=\"Could ship from same location as parts in cart\"/>\n",
      "                        </div>\n",
      "                       </div>\n",
      "                      </li>\n",
      "                     </ul>\n",
      "                    </div>\n",
      "                   </div>\n",
      "                  </td>\n",
      "                  <td style=\"width: 1px;\">\n",
      "                   <label for=\"ddrepl[optionchoice[__GIP__3__]][tabbable]\" style=\"display:none;\">\n",
      "                    Intentionally blank\n",
      "                   </label>\n",
      "                   <input class=\"almost-hidden-input no-text-select ra-hide\" id=\"ddrepl[optionchoice[__GIP__3__]][tabbable]\" onfocus='clb.DynamicDropDown_SetFocus(\"ddrepl[optionchoice[__GIP__3__]]\", event);' tabindex=\"0\" type=\"text\" value=\"\"/>\n",
      "                  </td>\n",
      "                  <td style=\"width: 1px;\">\n",
      "                   <label for=\"ddrepl[optionchoice[__GIP__3__]][readonly]\" style=\"display:none;\">\n",
      "                    Intentionally blank\n",
      "                   </label>\n",
      "                   <input class=\"almost-hidden-input no-text-select ra-hide\" id=\"ddrepl[optionchoice[__GIP__3__]][readonly]\" onblur='clb.DynamicDropDown_Readonly_OnBlur(\"ddrepl[optionchoice[__GIP__3__]]\", event);' onfocus='clb.DynamicDropDown_Readonly_OnFocus(\"ddrepl[optionchoice[__GIP__3__]]\", event);' onkeydown='cataloglite.DynamicDropDown_Readonly_OnKeyDown(\"ddrepl[optionchoice[__GIP__3__]]\", event);' readonly=\"\" tabindex=\"-1\" type=\"text\" value=\"\"/>\n",
      "                  </td>\n",
      "                 </tr>\n",
      "                </table>\n",
      "               </span>\n",
      "              </span>\n",
      "              <label for=\"optionchoice[__GIP__3__]\" style=\"display:none;\">\n",
      "               Choose\n",
      "              </label>\n",
      "             </div>\n",
      "            </div>\n",
      "            <div>\n",
      "             <div class=\"listing-notification-wrapper hide-if-js\">\n",
      "              <span class=\"hide-if-js\">\n",
      "               ^ Could ship from same location as parts in cart\n",
      "              </span>\n",
      "              <span class=\"show-if-js\">\n",
      "               <img alt=\"Warehouse\" class=\"nobmp di vmiddle ra-hide\" onclick=\"FAQpopup('/help/?page=2#MINSHIPCOST', 'Could ship from same location as parts in cart', null, this); RA.StopBubble(event); return false;\" src=\"/Images/mobile/truck.png\" style=\"height: 1.25em; margin-left: .25em;\" title=\"Could ship from same location as parts in cart\"/>\n",
      "              </span>\n",
      "             </div>\n",
      "            </div>\n",
      "            <div>\n",
      "            </div>\n",
      "            <input autocomplete=\"off\" id=\"pricebreakdown[__GIP__3__][]\" type=\"hidden\" value='{\"bold\":false,\"notbold\":false,\"oos\":false,\"v\":\"&lt;span class=\\\"seeopt-price-text\\\"&gt;Choose  at Left&lt;\\/span&gt;\",\"colspan\":4,\"n\":\"&lt;span class=\\\"seeopt-price-text\\\"&gt;Choose  at Left&lt;\\/span&gt;\"}'/>\n",
      "            <input autocomplete=\"off\" id=\"corebreakdown[__GIP__3__][]\" type=\"hidden\" value='{\"bold\":false,\"notbold\":false,\"oos\":false,\"v\":null,\"display\":\"none\"}'/>\n",
      "            <input autocomplete=\"off\" id=\"totalbreakdown[__GIP__3__][]\" type=\"hidden\" value='{\"bold\":false,\"notbold\":false,\"oos\":false,\"v\":null,\"display\":\"none\"}'/>\n",
      "            <input autocomplete=\"off\" id=\"packbreakdown[__GIP__3__][]\" type=\"hidden\" value='{\"multiple\":null,\"v\":\"\",\"display\":\"none\"}'/>\n",
      "            <input autocomplete=\"off\" id=\"pricebreakdown[__GIP__3__][0-0-8-1]\" type=\"hidden\" value='{\"bold\":false,\"notbold\":false,\"oos\":false,\"v\":\"$5.76\",\"colspan\":4,\"n\":\"5.76\"}'/>\n",
      "            <input autocomplete=\"off\" id=\"corebreakdown[__GIP__3__][0-0-8-1]\" type=\"hidden\" value='{\"bold\":false,\"notbold\":false,\"oos\":false,\"v\":\"$0.00\",\"display\":\"none\",\"n\":\"0.00\"}'/>\n",
      "            <input autocomplete=\"off\" id=\"totalbreakdown[__GIP__3__][0-0-8-1]\" type=\"hidden\" value='{\"bold\":false,\"notbold\":false,\"oos\":false,\"v\":\"$5.76\",\"display\":\"none\",\"n\":\"5.76\"}'/>\n",
      "            <input autocomplete=\"off\" id=\"packbreakdown[__GIP__3__][0-0-8-1]\" type=\"hidden\" value=\"{&quot;multiple&quot;:&quot;1&quot;,&quot;v&quot;:&quot;&lt;span class=\\&quot;hide-if-js\\&quot;&gt;+ Sold in packs of 1&lt;\\/span&gt;&lt;span class=\\&quot;show-if-js\\&quot;&gt;&lt;span class=\\&quot;pack_size_box no-text-select\\&quot; onclick=\\&quot;showContextPopup('&amp;nbsp;', &amp;quot;Sold in packs of 1&amp;quot;, this); RA.StopBubble(event); return false;\\&quot; title=\\&quot;Sold in packs of 1\\&quot;&gt;&lt;span class=\\&quot;right\\&quot;&gt;&lt;span class=\\&quot;left\\&quot;&gt;&lt;span class=\\&quot;text\\&quot;&gt;&lt;span class=\\&quot;text-x-small\\&quot;&gt;x&lt;\\/span&gt;1&lt;\\/span&gt;&lt;\\/span&gt;&lt;\\/span&gt;&lt;\\/span&gt;&lt;\\/span&gt;&quot;,&quot;display&quot;:&quot;none&quot;}\"/>\n",
      "            <input autocomplete=\"off\" id=\"pricebreakdown[__GIP__3__][0-0-1-1]\" type=\"hidden\" value='{\"bold\":false,\"notbold\":false,\"oos\":false,\"v\":\"$14.18\",\"colspan\":4,\"n\":\"14.18\"}'/>\n",
      "            <input autocomplete=\"off\" id=\"corebreakdown[__GIP__3__][0-0-1-1]\" type=\"hidden\" value='{\"bold\":false,\"notbold\":false,\"oos\":false,\"v\":\"$0.00\",\"display\":\"none\",\"n\":\"0.00\"}'/>\n",
      "            <input autocomplete=\"off\" id=\"totalbreakdown[__GIP__3__][0-0-1-1]\" type=\"hidden\" value='{\"bold\":false,\"notbold\":false,\"oos\":false,\"v\":\"$14.18\",\"display\":\"none\",\"n\":\"14.18\"}'/>\n",
      "            <input autocomplete=\"off\" id=\"packbreakdown[__GIP__3__][0-0-1-1]\" type=\"hidden\" value=\"{&quot;multiple&quot;:&quot;1&quot;,&quot;v&quot;:&quot;&lt;span class=\\&quot;hide-if-js\\&quot;&gt;+ Sold in packs of 1&lt;\\/span&gt;&lt;span class=\\&quot;show-if-js\\&quot;&gt;&lt;span class=\\&quot;pack_size_box no-text-select\\&quot; onclick=\\&quot;showContextPopup('&amp;nbsp;', &amp;quot;Sold in packs of 1&amp;quot;, this); RA.StopBubble(event); return false;\\&quot; title=\\&quot;Sold in packs of 1\\&quot;&gt;&lt;span class=\\&quot;right\\&quot;&gt;&lt;span class=\\&quot;left\\&quot;&gt;&lt;span class=\\&quot;text\\&quot;&gt;&lt;span class=\\&quot;text-x-small\\&quot;&gt;x&lt;\\/span&gt;1&lt;\\/span&gt;&lt;\\/span&gt;&lt;\\/span&gt;&lt;\\/span&gt;&lt;\\/span&gt;&quot;,&quot;display&quot;:&quot;none&quot;}\"/>\n",
      "            <input autocomplete=\"off\" id=\"pricebreakdown[__GIP__3__][0-0-0-1]\" type=\"hidden\" value='{\"bold\":false,\"notbold\":false,\"oos\":false,\"v\":\"$22.79\",\"colspan\":4,\"n\":\"22.79\"}'/>\n",
      "            <input autocomplete=\"off\" id=\"corebreakdown[__GIP__3__][0-0-0-1]\" type=\"hidden\" value='{\"bold\":false,\"notbold\":false,\"oos\":false,\"v\":\"$0.00\",\"display\":\"none\",\"n\":\"0.00\"}'/>\n",
      "            <input autocomplete=\"off\" id=\"totalbreakdown[__GIP__3__][0-0-0-1]\" type=\"hidden\" value='{\"bold\":false,\"notbold\":false,\"oos\":false,\"v\":\"$22.79\",\"display\":\"none\",\"n\":\"22.79\"}'/>\n",
      "            <input autocomplete=\"off\" id=\"packbreakdown[__GIP__3__][0-0-0-1]\" type=\"hidden\" value=\"{&quot;multiple&quot;:&quot;1&quot;,&quot;v&quot;:&quot;&lt;span class=\\&quot;hide-if-js\\&quot;&gt;+ Sold in packs of 1&lt;\\/span&gt;&lt;span class=\\&quot;show-if-js\\&quot;&gt;&lt;span class=\\&quot;pack_size_box no-text-select\\&quot; onclick=\\&quot;showContextPopup('&amp;nbsp;', &amp;quot;Sold in packs of 1&amp;quot;, this); RA.StopBubble(event); return false;\\&quot; title=\\&quot;Sold in packs of 1\\&quot;&gt;&lt;span class=\\&quot;right\\&quot;&gt;&lt;span class=\\&quot;left\\&quot;&gt;&lt;span class=\\&quot;text\\&quot;&gt;&lt;span class=\\&quot;text-x-small\\&quot;&gt;x&lt;\\/span&gt;1&lt;\\/span&gt;&lt;\\/span&gt;&lt;\\/span&gt;&lt;\\/span&gt;&lt;\\/span&gt;&quot;,&quot;display&quot;:&quot;none&quot;}\"/>\n",
      "            <input autocomplete=\"off\" id=\"listing_data_essential[__GIP__3__]\" name=\"listing_data_essential[__GIP__3__]\" type=\"hidden\" value='{\"groupindex\":\"__GIP__3__\",\"carcode\":0,\"parttype\":\"6972\",\"partkey\":\"814749\",\"opts\":{\"0-0-8-1\":{\"warehouse\":\"77479\",\"whpartnum\":\"FOR 33072:8\",\"optionlist\":\"0\",\"paramcode\":\"0\",\"notekey\":\"8\",\"multiple\":\"1\"},\"0-0-1-1\":{\"warehouse\":\"77481\",\"whpartnum\":\"FOR 33072\",\"optionlist\":\"0\",\"paramcode\":\"0\",\"notekey\":\"1\",\"multiple\":\"1\"},\"0-0-0-1\":{\"warehouse\":\"23220\",\"whpartnum\":\"FOR 33072\",\"optionlist\":\"0\",\"paramcode\":\"0\",\"notekey\":\"0\",\"multiple\":\"1\"}}}'/>\n",
      "            <input autocomplete=\"off\" id=\"listing_data_supplemental[__GIP__3__]\" type=\"hidden\" value='{\"partnumber\":\"33072\",\"catalogname\":\"FOUR SEASONS\",\"belongstolisting\":\"__GIP__2__\",\"sortgroup\":0,\"sortgrouptext\":\"\",\"paramdesc\":\"\"}'/>\n",
      "            <input autocomplete=\"off\" id=\"mdl_whtruckicon[__GIP__3__][]\" type=\"hidden\" value=\"false\"/>\n",
      "            <input autocomplete=\"off\" id=\"mdl_chkalternate[__GIP__3__][]\" type=\"hidden\" value=\"false\"/>\n",
      "            <input autocomplete=\"off\" id=\"mdl_btnaddtocart[__GIP__3__][]\" type=\"hidden\" value=\"false\"/>\n",
      "            <input autocomplete=\"off\" id=\"mdl_btnpartincart[__GIP__3__][]\" type=\"hidden\" value=\"false\"/>\n",
      "            <input autocomplete=\"off\" id=\"mdl_whtruckicon[__GIP__3__][alloptions]\" type=\"hidden\" value=\"false\"/>\n",
      "            <input autocomplete=\"off\" id=\"lst_shipwhlist[__GIP__3__][0-0-8-1]\" type=\"hidden\" value='{\"77479\":77479,\"77478\":77478}'/>\n",
      "            <input autocomplete=\"off\" id=\"mdl_whtruckicon[__GIP__3__][0-0-8-1]\" type=\"hidden\" value=\"false\"/>\n",
      "            <input autocomplete=\"off\" id=\"mdl_btnaddtocart[__GIP__3__][0-0-8-1]\" type=\"hidden\" value=\"true\"/>\n",
      "            <input autocomplete=\"off\" id=\"mdl_btnpartincart[__GIP__3__][0-0-8-1]\" type=\"hidden\" value=\"false\"/>\n",
      "            <input autocomplete=\"off\" id=\"mdl_btnnotifyoos[__GIP__3__][0-0-8-1]\" type=\"hidden\" value=\"false\"/>\n",
      "            <input autocomplete=\"off\" id=\"mdl_chkalternate[__GIP__3__][0-0-8-1]\" type=\"hidden\" value=\"true\"/>\n",
      "            <input autocomplete=\"off\" id=\"lst_shipwhlist[__GIP__3__][0-0-1-1]\" type=\"hidden\" value='{\"77481\":77481,\"77478\":77478,\"77479\":77479}'/>\n",
      "            <input autocomplete=\"off\" id=\"mdl_whtruckicon[__GIP__3__][0-0-1-1]\" type=\"hidden\" value=\"false\"/>\n",
      "            <input autocomplete=\"off\" id=\"mdl_btnaddtocart[__GIP__3__][0-0-1-1]\" type=\"hidden\" value=\"true\"/>\n",
      "            <input autocomplete=\"off\" id=\"mdl_btnpartincart[__GIP__3__][0-0-1-1]\" type=\"hidden\" value=\"false\"/>\n",
      "            <input autocomplete=\"off\" id=\"mdl_btnnotifyoos[__GIP__3__][0-0-1-1]\" type=\"hidden\" value=\"false\"/>\n",
      "            <input autocomplete=\"off\" id=\"mdl_chkalternate[__GIP__3__][0-0-1-1]\" type=\"hidden\" value=\"true\"/>\n",
      "            <input autocomplete=\"off\" id=\"lst_shipwhlist[__GIP__3__][0-0-0-1]\" type=\"hidden\" value='{\"72902\":72902,\"92407\":92407,\"93722\":93722,\"10462\":10462,\"23220\":23220}'/>\n",
      "            <input autocomplete=\"off\" id=\"mdl_whtruckicon[__GIP__3__][0-0-0-1]\" type=\"hidden\" value=\"false\"/>\n",
      "            <input autocomplete=\"off\" id=\"mdl_btnaddtocart[__GIP__3__][0-0-0-1]\" type=\"hidden\" value=\"true\"/>\n",
      "            <input autocomplete=\"off\" id=\"mdl_btnpartincart[__GIP__3__][0-0-0-1]\" type=\"hidden\" value=\"false\"/>\n",
      "            <input autocomplete=\"off\" id=\"mdl_btnnotifyoos[__GIP__3__][0-0-0-1]\" type=\"hidden\" value=\"false\"/>\n",
      "            <input autocomplete=\"off\" id=\"mdl_chkalternate[__GIP__3__][0-0-0-1]\" type=\"hidden\" value=\"true\"/>\n",
      "            <input autocomplete=\"off\" name=\"ssk[__GIP__3__]\" type=\"hidden\" value=\"HPc6NY4sqMvPDBCrBav8qdjYhwvF1G3LOhMH81BdLYHhKwm3SpokteSiJkK2a0VXNoX17cIag6E=\"/>\n",
      "            <span style=\"display: none;\" title=\"Replaces these Alternate/ OE Part Numbers\">\n",
      "             151911, 19188493, 88919275, 88919343, F49Z19C836B\n",
      "            </span>\n",
      "           </td>\n",
      "           <td class=\"listing-border-top-line listing-float-box-cell-shared\" rowspan=\"2\" style=\"text-align: right; \">\n",
      "            <div class=\"listing-image-space-occupy\">\n",
      "             <table class=\"tblz listing-image-table\" id=\"listing_image_table[__GIP__3__]\" style=\"\">\n",
      "              <tr>\n",
      "               <td class=\"listing-image-table-leftrightcol\">\n",
      "                <div id=\"inlineimg_left_small[__GIP__3__]\">\n",
      "                 <img alt=\"&lt;\" class=\"listing-image-prevnext-image remove-for-print show-if-js\" id=\"inlineimgprevious[__GIP__3__]\" onclick='cataloglite.Listing_InlineImageManualScroll(\"__GIP__3__\", -1, false, false)' src=\"/catalog/images/prevIMGbig.png\" style=\" margin: .1em;\" title=\"Previous Image\"/>\n",
      "                </div>\n",
      "               </td>\n",
      "               <td class=\"listing-image-table-centercol\">\n",
      "                <div class=\"ra-hide\" id=\"inlineimgpositionancestor[__GIP__3__]\" style=\" position: relative; z-index: 1;\">\n",
      "                 <div class=\"listing-inlineimg_container listing-inline-image-border\" id=\"inlineimg_container[__GIP__3__]\" style=\"z-index: 1; text-align: center; background: #FFFFFF;\">\n",
      "                  <div class=\"listing-inline-image-popup-widget-title ra-hide\" id=\"inlineimg_containertitle[__GIP__3__]\" onmousedown='cataloglite.ImagePopupTitleMouseDown(\"__GIP__3__\")'>\n",
      "                   <div style=\"text-align: center; \">\n",
      "                    <span style=\"padding: 0 2em 0 2em;\">\n",
      "                     FOUR SEASONS 33072\n",
      "                    </span>\n",
      "                    <span style=\"position: absolute; right: 5px;\">\n",
      "                     <img alt=\"close\" onclick='cataloglite.Listing_InlineImagePopupInPlace(\"__GIP__3__\")' src=\"/catalog/images/close12_1.gif\" style=\"padding: .2em; cursor: pointer; display: block;\"/>\n",
      "                    </span>\n",
      "                   </div>\n",
      "                  </div>\n",
      "                  <div class=\"img-topper-container\" id=\"inlineimg_topper[__GIP__3__]\">\n",
      "                   <table class=\"tblz w100\">\n",
      "                    <tr>\n",
      "                     <td class=\"pinched\" style=\"vertical-align: top;\">\n",
      "                      <div style=\"text-align: left; padding-right: .25em;\">\n",
      "                       <span id=\"inlineimg_left_big[__GIP__3__]\">\n",
      "                       </span>\n",
      "                      </div>\n",
      "                      <div class=\"listing-image-counter\">\n",
      "                       <div class=\"inner\" id=\"imagecounterdisplay[__GIP__3__]\">\n",
      "                       </div>\n",
      "                      </div>\n",
      "                     </td>\n",
      "                     <td style=\"vertical-align: top;\">\n",
      "                      <div class=\"img-carousel-titlephrase\" id=\"imgcarouseltitlephrase[__GIP__3__]\">\n",
      "                      </div>\n",
      "                      <div class=\"ra-hide\" id=\"inlineimg_container360menu[__GIP__3__]\" style=\"padding: .25em; margin-bottom: .5em;\">\n",
      "                       <div class=\"ra-bar-slider-bar-c\">\n",
      "                        <div class=\"ra-bar-slider-bar\" id=\"inlineimg_sliderbar[__GIP__3__]\" onmousedown='cataloglite.ImageSliderMouseDown(\"__GIP__3__\", event);' ontouchstart='cataloglite.ImageSliderMouseDown(\"__GIP__3__\", event);'>\n",
      "                         <span class=\"ra-bar-slider-slider\" id=\"inlineimg_slider[__GIP__3__]\">\n",
      "                         </span>\n",
      "                        </div>\n",
      "                       </div>\n",
      "                      </div>\n",
      "                     </td>\n",
      "                     <td class=\"pinched\" style=\"vertical-align: top; text-align: right;\">\n",
      "                      <div style=\"padding-left: .25em;\">\n",
      "                       <span id=\"inlineimg_right_big[__GIP__3__]\">\n",
      "                       </span>\n",
      "                      </div>\n",
      "                     </td>\n",
      "                    </tr>\n",
      "                   </table>\n",
      "                  </div>\n",
      "                  <div class=\"inlineimg_containersizer ra-hide\" id=\"inlineimg_containersizer[__GIP__3__]\" onclick='cataloglite.Listing_InlineImagePopupInPlace(\"__GIP__3__\")' style=\" cursor: pointer;\">\n",
      "                   <img alt=\"Part image\" class=\"listing-inline-image\" id=\"inlineimg[__GIP__3__]\" src=\"/info/52/33072__ra_m.jpg\"/>\n",
      "                  </div>\n",
      "                 </div>\n",
      "                </div>\n",
      "                <img alt=\"Part image\" class=\"listing-inline-image listing-inline-image-thumb listing-inline-image-border\" id=\"inlineimg_thumb[__GIP__3__]\" onclick='cataloglite.Listing_InlineImagePopupInPlace(\"__GIP__3__\")' src=\"/info/52/33072__ra_m.jpg\" style=\"cursor: pointer;\" switch-to-highres=\"1\"/>\n",
      "               </td>\n",
      "               <td class=\"listing-image-table-leftrightcol\">\n",
      "                <div id=\"inlineimg_right_small[__GIP__3__]\">\n",
      "                 <img alt=\"&gt;\" class=\"listing-image-prevnext-image show-if-js remove-for-print\" id=\"inlineimgnext[__GIP__3__]\" name=\"inlnimgnextbtn\" onclick='cataloglite.Listing_InlineImageManualScroll(\"__GIP__3__\", 1, false, false)' src=\"/catalog/images/nextIMGbig.png\" style=\" margin: .1em;\" title=\"Next Image\"/>\n",
      "                </div>\n",
      "               </td>\n",
      "              </tr>\n",
      "             </table>\n",
      "             <input autocomplete=\"off\" id=\"jsninlineimg[__GIP__3__]\" type=\"hidden\" value='{\"Size\":\"Thumb\",\"SlotIndex\":0,\"Slots\":[{\"TitlePhrase\":null,\"ParamCodes\":[null],\"Type\":\"Single\",\"ImageData\":{\"Thumb\":\"\\/info\\/52\\/33072__ra_m.jpg\",\"Popup\":\"\\/info\\/52\\/33072.jpg\",\"Full\":\"\\/info\\/52\\/33072.jpg\"}},{\"TitlePhrase\":null,\"ParamCodes\":[null],\"Type\":\"Single\",\"ImageData\":{\"Thumb\":\"\\/info\\/52\\/33072FRO__ra_m.jpg\",\"Popup\":\"\\/info\\/52\\/33072FRO.jpg\",\"Full\":\"\\/info\\/52\\/33072FRO.jpg\"}},{\"TitlePhrase\":null,\"ParamCodes\":[null],\"Type\":\"Single\",\"ImageData\":{\"Thumb\":\"\\/info\\/52\\/33072RSID__ra_m.jpg\",\"Popup\":\"\\/info\\/52\\/33072RSID.jpg\",\"Full\":\"\\/info\\/52\\/33072RSID.jpg\"}},{\"TitlePhrase\":null,\"ParamCodes\":[null],\"Type\":\"Single\",\"ImageData\":{\"Thumb\":\"\\/info\\/52\\/33072LSID__ra_m.jpg\",\"Popup\":\"\\/info\\/52\\/33072LSID.jpg\",\"Full\":\"\\/info\\/52\\/33072LSID.jpg\"}},{\"TitlePhrase\":null,\"ParamCodes\":[null],\"Type\":\"Single\",\"ImageData\":{\"Thumb\":\"\\/info\\/52\\/33072BAC__ra_m.jpg\",\"Popup\":\"\\/info\\/52\\/33072BAC.jpg\",\"Full\":\"\\/info\\/52\\/33072BAC.jpg\"}},{\"TitlePhrase\":null,\"ParamCodes\":[null],\"Type\":\"Single\",\"ImageData\":{\"Thumb\":\"\\/info\\/52\\/33072TOP__ra_m.jpg\",\"Popup\":\"\\/info\\/52\\/33072TOP.jpg\",\"Full\":\"\\/info\\/52\\/33072TOP.jpg\"}}]}'/>\n",
      "            </div>\n",
      "           </td>\n",
      "           <td class=\"listing-border-top-line listing-float-box-cell-shared listing-float-box-cell-more-padding\" colspan=\"4\" id=\"listingtd[__GIP__3__][price]\" style=\"height: 1px; text-align: center; \">\n",
      "            <span class=\"\" id=\"dprice[__GIP__3__][td]\">\n",
      "             <span class=\"ra-formatted-amount listing-price listing-amount-bold\">\n",
      "              <span id=\"dprice[__GIP__3__][v]\">\n",
      "               $5.76\n",
      "              </span>\n",
      "             </span>\n",
      "            </span>\n",
      "           </td>\n",
      "           <td class=\"ra-hide listing-border-top-line listing-float-box-cell-shared listing-float-box-cell-more-padding\" id=\"listingtd[__GIP__3__][core]\" style=\"height: 1px; text-align: center; \">\n",
      "            <span class=\"\" id=\"dcore[__GIP__3__][td]\">\n",
      "             <span class=\"ra-formatted-amount listing-core\">\n",
      "              <a class=\"\" href=\"/help/?page=2#CORE\" id=\"dcore[__GIP__3__][color]\" onclick=\"return FAQpopup(this);\" style=\"text-decoration: none;\" target=\"_blank\">\n",
      "               <span id=\"dcore[__GIP__3__][v]\">\n",
      "                $0.00\n",
      "               </span>\n",
      "              </a>\n",
      "             </span>\n",
      "            </span>\n",
      "           </td>\n",
      "           <td class=\"ra-hide listing-border-top-line listing-float-box-cell-shared listing-float-box-cell-more-padding\" id=\"listingtd[__GIP__3__][pack]\" style=\"height: 1px; text-align: center; \">\n",
      "            <span id=\"dpack[__GIP__3__][v]\">\n",
      "             <span class=\"hide-if-js\">\n",
      "              + Sold in packs of 1\n",
      "             </span>\n",
      "             <span class=\"show-if-js\">\n",
      "              <span class=\"pack_size_box no-text-select\" onclick=\"showContextPopup(' ', &quot;Sold in packs of 1&quot;, this); RA.StopBubble(event); return false;\" title=\"Sold in packs of 1\">\n",
      "               <span class=\"right\">\n",
      "                <span class=\"left\">\n",
      "                 <span class=\"text\">\n",
      "                  <span class=\"text-x-small\">\n",
      "                   x\n",
      "                  </span>\n",
      "                  1\n",
      "                 </span>\n",
      "                </span>\n",
      "               </span>\n",
      "              </span>\n",
      "             </span>\n",
      "            </span>\n",
      "           </td>\n",
      "           <td class=\"ra-hide listing-border-top-line listing-float-box-cell-shared listing-float-box-cell-more-padding\" id=\"listingtd[__GIP__3__][total]\" style=\"height: 1px; text-align: center; \">\n",
      "            <span class=\"listing-amount-bold\" id=\"dtotal[__GIP__3__][td]\">\n",
      "             <span class=\"ra-formatted-amount listing-total\">\n",
      "              <span id=\"dtotal[__GIP__3__][v]\">\n",
      "               $5.76\n",
      "              </span>\n",
      "             </span>\n",
      "            </span>\n",
      "           </td>\n",
      "           <td class=\"listing-border-top-line listing-float-box-cell-shared\" rowspan=\"2\" style=\"text-align: center; \">\n",
      "           </td>\n",
      "          </tr>\n",
      "          <tr>\n",
      "           <td class=\"listing-float-box-cell-shared\" colspan=\"4\" style=\"text-align: right;\">\n",
      "            <div style=\"padding-top: .25em; padding-bottom: .1em;\">\n",
      "             <div class=\"listing-quantity-adjustment ib remove-for-print show-if-js\">\n",
      "              <input autocomplete=\"off\" id=\"listingoptkeytomultiple[__GIP__3__]\" type=\"hidden\" value='{\"0-0-8-1\":\"1\",\"0-0-1-1\":\"1\",\"0-0-0-1\":\"1\"}'/>\n",
      "              <input autocomplete=\"off\" id=\"listingoptkeytolinenumber[__GIP__3__]\" type=\"hidden\" value='{\"0-0-8-1\":null,\"0-0-1-1\":null,\"0-0-0-1\":null}'/>\n",
      "              <input autocomplete=\"off\" id=\"listingoptkeytoqtyincart[__GIP__3__]\" type=\"hidden\" value='{\"0-0-8-1\":null,\"0-0-1-1\":null,\"0-0-0-1\":null}'/>\n",
      "              <input autocomplete=\"off\" id=\"listingoptkeytoalternateid[__GIP__3__]\" type=\"hidden\" value='{\"0-0-8-1\":null,\"0-0-1-1\":null,\"0-0-0-1\":null}'/>\n",
      "              <table class=\"tblz di tbl-input-button-attached\" id=\"listingquantitytable[__GIP__3__]\">\n",
      "               <tr>\n",
      "                <td class=\"td-button-left\" style=\"text-align: right;\">\n",
      "                 <div class=\"qty-adjust-button\" onclick='cataloglite.ListingQuantityUpdate(\"__GIP__3__\", -1);' style=\"border-top-left-radius: 4px; border-bottom-left-radius: 4px;\">\n",
      "                  <img alt=\"\" class=\"nobmp vmiddle\" src=\"/Images/mobile/qty_down_white.png\"/>\n",
      "                 </div>\n",
      "                </td>\n",
      "                <td class=\"td-input\">\n",
      "                 <label for=\"raquantity[__GIP__3__]\" style=\"display:none;\">\n",
      "                  Quantity\n",
      "                 </label>\n",
      "                 <input aria-label=\"Quantity\" autocapitalize=\"off\" autocomplete=\"off\" autocorrect=\"off\" class=\"input-quantity ib\" data-autofill=\"block\" id=\"raquantity[__GIP__3__]\" maxlength=\"5\" name=\"raquantity[__GIP__3__]\" onchange='cataloglite.ListingQuantityUpdate(\"__GIP__3__\");' onkeypress='return RA.InterceptEnter(event, function(){RA.ByName(\"raquantity[__GIP__3__]\")[0].blur()});' spellcheck=\"false\" style=\"text-align: center; width: 2em; padding-left: 0;\" type=\"text\" value=\"1\"/>\n",
      "                </td>\n",
      "                <td class=\"td-button-right\">\n",
      "                 <div class=\"qty-adjust-button\" onclick='cataloglite.ListingQuantityUpdate(\"__GIP__3__\", 1);' style=\"border-top-right-radius: 4px; border-bottom-right-radius: 4px;\">\n",
      "                  <img alt=\"\" class=\"nobmp vmiddle\" src=\"/Images/mobile/qty_up_white.png\"/>\n",
      "                 </div>\n",
      "                </td>\n",
      "               </tr>\n",
      "              </table>\n",
      "             </div>\n",
      "             <div class=\"catalog-listing-buttons-wrapper ib\" style=\"min-width:105px;\">\n",
      "              <div class=\"vew_btnaddtocart remove-for-print\" id=\"vew_btnaddtocart[__GIP__3__]\">\n",
      "               <input class=\"hide-if-js ra-btn ra-btn-size-normal ra-btn-color-hotgreen\" id=\"addpart[__GIP__3__]\" name=\"addpart[__GIP__3__]\" onclick=\"cataloglite.ShowLoadingOverlay(null, 'PK_ADDINGPARTTOCART'); return cataloglite.Cart.AddPartWhenReady(&quot;__GIP__3__&quot;);\" type=\"submit\" value=\"Add to Cart &gt;\"/>\n",
      "               <a class=\"show-if-js ra-btn ra-btn-color-hotgreen ra-btn-size-normal ra-btn-add-part\" href=\"#\" onclick=\"RA.Click('addpart[__GIP__3__]'); return false;\" style=\"display: inline-block;\">\n",
      "                <span class=\"la-btn-v\">\n",
      "                 Add to Cart\n",
      "                </span>\n",
      "                <img alt=\"\" class=\"la-btn-v\" src=\"/Images/mobile/right_arrow_white.png\" style=\"height: 1em; margin-left: .25em;\"/>\n",
      "               </a>\n",
      "              </div>\n",
      "              <div class=\"vew_btnpartincart remove-for-print ra-hide\" id=\"vew_btnpartincart[__GIP__3__]\">\n",
      "               <input class=\"ra-btn ra-btn-size-normal ra-btn-part-in-cart\" name=\"addpart[__GIP__3__]\" onclick=\"cataloglite.Cart.ShowPartAlreadyInCart(__GIP__3__); return false;\" type=\"submit\" value=\"Part In Cart\"/>\n",
      "              </div>\n",
      "              <div class=\"vew_btnnotifyoos remove-for-print ra-hide show-if-js\" id=\"vew_btnnotifyoos[__GIP__3__]\">\n",
      "               <input class=\"ra-btn ra-btn-size-normal ra-btn-color-darkblue\" onclick='cataloglite.GetAvailabilityAlertForOOSPart(\"__GIP__3__\");' type=\"button\" value=\"Notify Me When Available\"/>\n",
      "              </div>\n",
      "             </div>\n",
      "            </div>\n",
      "           </td>\n",
      "          </tr>\n",
      "         </tbody>\n",
      "        </table>\n",
      "        <div class=\"listing-filter-bottom-message ra-hide\" id=\"listingfiltermessage[__GIP__2__]\">\n",
      "        </div>\n",
      "        <input autocomplete=\"off\" id=\"part_groupindexes_in_this_listing[__GIP__2__]\" type=\"hidden\" value='[\"__GIP__3__\"]'/>\n",
      "       </div>\n",
      "      </div>\n",
      "     </form>\n",
      "    </div>\n",
      "   </div>\n",
      "  </div>\n",
      " </body>\n",
      "</html>\n",
      "\n"
     ]
    }
   ],
   "source": [
    "soup = BeautifulSoup(dict_['searchnoderesults'], 'lxml')\n",
    "html = etree.HTML(str(soup))\n",
    "\n",
    "with open('./part.html', 'w', encoding='UTF-8') as file:\n",
    "    file.write(str(soup))\n",
    "\n",
    "print(soup.prettify())"
   ]
  },
  {
   "cell_type": "code",
   "execution_count": 7,
   "id": "43844a94-a200-41b1-a313-ed0256b88c71",
   "metadata": {},
   "outputs": [
    {
     "data": {
      "text/plain": [
       "[<Element tbody at 0x11b525280>]"
      ]
     },
     "execution_count": 7,
     "metadata": {},
     "output_type": "execute_result"
    }
   ],
   "source": [
    "list_tbody = html.xpath('//tbody[contains(@id, \"listingcontainer[__GIP__\")]')\n",
    "\n",
    "list_tbody"
   ]
  },
  {
   "cell_type": "code",
   "execution_count": 8,
   "id": "691455ca-ede7-400b-b5ba-f7efbd8ba4a4",
   "metadata": {},
   "outputs": [
    {
     "data": {
      "text/plain": [
       "[{'groupindex': '__GIP__3__',\n",
       "  'carcode': 0,\n",
       "  'parttype': '6972',\n",
       "  'partkey': '814749',\n",
       "  'opts': {'0-0-8-1': {'warehouse': '77479',\n",
       "    'whpartnum': 'FOR 33072:8',\n",
       "    'optionlist': '0',\n",
       "    'paramcode': '0',\n",
       "    'notekey': '8',\n",
       "    'multiple': '1'},\n",
       "   '0-0-1-1': {'warehouse': '77481',\n",
       "    'whpartnum': 'FOR 33072',\n",
       "    'optionlist': '0',\n",
       "    'paramcode': '0',\n",
       "    'notekey': '1',\n",
       "    'multiple': '1'},\n",
       "   '0-0-0-1': {'warehouse': '23220',\n",
       "    'whpartnum': 'FOR 33072',\n",
       "    'optionlist': '0',\n",
       "    'paramcode': '0',\n",
       "    'notekey': '0',\n",
       "    'multiple': '1'}}}]"
      ]
     },
     "execution_count": 8,
     "metadata": {},
     "output_type": "execute_result"
    }
   ],
   "source": [
    "list_dict = [json.loads(tbody.xpath('./tr[1]/td[contains(@class, \"listing-inner-content\")]/input[contains(@id, \"listing_data_essential[__GIP__\")]/@value')[0]) for tbody in list_tbody]\n",
    "\n",
    "list_dict"
   ]
  },
  {
   "cell_type": "code",
   "execution_count": 9,
   "id": "586d4436-2a33-4d40-8c36-5a9b1750c0c8",
   "metadata": {},
   "outputs": [
    {
     "data": {
      "text/plain": [
       "(['6972'], ['814749'])"
      ]
     },
     "execution_count": 9,
     "metadata": {},
     "output_type": "execute_result"
    }
   ],
   "source": [
    "list_type_code, list_part_code = [dict_['parttype'] for dict_ in list_dict], [dict_['partkey'] for dict_ in list_dict]\n",
    "\n",
    "list_type_code, list_part_code"
   ]
  },
  {
   "cell_type": "code",
   "execution_count": 10,
   "id": "794ef696-bb37-437b-ada7-cd673deff861",
   "metadata": {},
   "outputs": [
    {
     "data": {
      "text/plain": [
       "[{'partnumber': '33072',\n",
       "  'catalogname': 'FOUR SEASONS',\n",
       "  'belongstolisting': '__GIP__2__',\n",
       "  'sortgroup': 0,\n",
       "  'sortgrouptext': '',\n",
       "  'paramdesc': ''}]"
      ]
     },
     "execution_count": 10,
     "metadata": {},
     "output_type": "execute_result"
    }
   ],
   "source": [
    "list_dict_2 = [json.loads(tbody.xpath('./tr[1]/td/input[contains(@id, \"listing_data_supplemental[__GIP__\")]/@value')[0]) for tbody in list_tbody]\n",
    "\n",
    "list_dict_2"
   ]
  },
  {
   "cell_type": "code",
   "execution_count": 11,
   "id": "00149218-dbfd-482a-b9cd-6acc78a2384e",
   "metadata": {},
   "outputs": [
    {
     "data": {
      "text/plain": [
       "(['33072'], ['FOUR SEASONS'], [''])"
      ]
     },
     "execution_count": 11,
     "metadata": {},
     "output_type": "execute_result"
    }
   ],
   "source": [
    "list_part_number, list_manufacturer, list_choose = [dict_['partnumber'] for dict_ in list_dict_2], [dict_['catalogname'] for dict_ in list_dict_2], [dict_['paramdesc'].strip() for dict_ in list_dict_2]\n",
    "\n",
    "list_part_number, list_manufacturer, list_choose"
   ]
  },
  {
   "cell_type": "code",
   "execution_count": 12,
   "id": "995440b4-e514-4291-ad34-ed7be4ae13bf",
   "metadata": {},
   "outputs": [
    {
     "data": {
      "text/plain": [
       "(array([0]), array([0]))"
      ]
     },
     "execution_count": 12,
     "metadata": {},
     "output_type": "execute_result"
    }
   ],
   "source": [
    "array_index_part_number, array_index_manufacturer = np.where(np.array(list_part_number) == crawler_series['Part Number'])[0], np.where(np.array(list_manufacturer) == crawler_series['Manufacturer'])[0]\n",
    "\n",
    "array_index_part_number, array_index_manufacturer"
   ]
  },
  {
   "cell_type": "code",
   "execution_count": 13,
   "id": "87314651-b585-4b3d-b094-58a70f03a3d9",
   "metadata": {},
   "outputs": [
    {
     "data": {
      "text/plain": [
       "array([0])"
      ]
     },
     "execution_count": 13,
     "metadata": {},
     "output_type": "execute_result"
    }
   ],
   "source": [
    "array_index_part = np.intersect1d(array_index_part_number, array_index_manufacturer)\n",
    "\n",
    "array_index_part"
   ]
  },
  {
   "cell_type": "code",
   "execution_count": 14,
   "id": "74b0aa93-e180-4b03-b6d1-39f5e2225966",
   "metadata": {},
   "outputs": [
    {
     "data": {
      "text/plain": [
       "np.int64(0)"
      ]
     },
     "execution_count": 14,
     "metadata": {},
     "output_type": "execute_result"
    }
   ],
   "source": [
    "if array_index_part.size == 1:\n",
    "    index_part = array_index_part[0]\n",
    "\n",
    "index_part"
   ]
  },
  {
   "cell_type": "code",
   "execution_count": 15,
   "id": "5ad843be-4768-44f7-8c5b-45de43420af1",
   "metadata": {},
   "outputs": [
    {
     "data": {
      "text/plain": [
       "'https://www.rockauto.com/en/partsearch/?mfr=FOUR SEASONS&partnum=33072'"
      ]
     },
     "execution_count": 15,
     "metadata": {},
     "output_type": "execute_result"
    }
   ],
   "source": [
    "url_check"
   ]
  },
  {
   "cell_type": "code",
   "execution_count": 16,
   "id": "370d0b50-e897-43a2-8edd-2f300728d204",
   "metadata": {},
   "outputs": [
    {
     "data": {
      "text/plain": [
       "[]"
      ]
     },
     "execution_count": 16,
     "metadata": {},
     "output_type": "execute_result"
    }
   ],
   "source": [
    "list_span = list_tbody[index_part].xpath('./tr[1]/td[contains(@class, \"listing-inner-content\")]/div[@class=\"listing-text-row-moreinfo-truck\"]/span[@class=\"span-link-underline-remover\"]')\n",
    "list_note = [etree.tostring(span).decode('utf-8') for span in list_span]\n",
    "list_note = [re.sub(r'<.*?>', '', note) for note in list_note]\n",
    "list_note = [re.sub(r' +', ' ', note.strip()) for note in list_note]\n",
    "list_note = [html_lib.unescape(note) for note in list_note]\n",
    "\n",
    "list_note"
   ]
  },
  {
   "cell_type": "code",
   "execution_count": 17,
   "id": "830508d2-471a-4eab-a378-59ad5f6b762b",
   "metadata": {},
   "outputs": [
    {
     "data": {
      "text/plain": [
       "{}"
      ]
     },
     "execution_count": 17,
     "metadata": {},
     "output_type": "execute_result"
    }
   ],
   "source": [
    "dict_note, i = {}, 0\n",
    "for note in list_note:\n",
    "    if note != '':\n",
    "        dict_note[str(i)] = note\n",
    "\n",
    "dict_note"
   ]
  },
  {
   "cell_type": "code",
   "execution_count": 18,
   "id": "8a18f695-3265-4e5f-b6ee-8855065cad31",
   "metadata": {},
   "outputs": [
    {
     "data": {
      "text/plain": [
       "'https://www.rockauto.com/en/moreinfo.php?pk=814749&cc=0&pt=6972'"
      ]
     },
     "execution_count": 18,
     "metadata": {},
     "output_type": "execute_result"
    }
   ],
   "source": [
    "list_a = list_tbody[index_part].xpath('./tr[1]/td[contains(@class, \"listing-inner-content\")]/div[@class=\"listing-text-row-moreinfo-truck\"]/a[@class=\"ra-btn ra-btn-moreinfo\"]')\n",
    "info = list_a[0].xpath('./@href')[0].strip() if list_a else ''\n",
    "info = info if info.startswith('https://www.rockauto.com/en/moreinfo.php?') else f'https://www.rockauto.com/en/moreinfo.php?pk={list_part_code[index_part]}&pt={list_type_code[index_part]}&Lennon=1'\n",
    "\n",
    "info"
   ]
  },
  {
   "cell_type": "code",
   "execution_count": 19,
   "id": "4d5ee553-50bd-40c0-82fe-f5e936444105",
   "metadata": {},
   "outputs": [
    {
     "data": {
      "text/plain": [
       "['Category: A/C Receiver Drier / Accumulator']"
      ]
     },
     "execution_count": 19,
     "metadata": {},
     "output_type": "execute_result"
    }
   ],
   "source": [
    "list_div = list_tbody[index_part].xpath('./tr[1]/td[contains(@class, \"listing-inner-content\")]/div[@class=\"listing-text-row\"]/span[contains(@title, \"Please make sure\")]/parent::div[@class=\"listing-text-row\"]')\n",
    "list_note = [etree.tostring(div).decode('utf-8') for div in list_div]\n",
    "list_note = [re.sub(r'<.*?>', '', note) for note in list_note]\n",
    "list_note = [re.sub(r' +', ' ', note.strip()) for note in list_note]\n",
    "list_note = [html_lib.unescape(note) for note in list_note]\n",
    "\n",
    "list_note"
   ]
  },
  {
   "cell_type": "code",
   "execution_count": 20,
   "id": "1a2816a6-4be1-4b10-baf6-468d1e938822",
   "metadata": {},
   "outputs": [
    {
     "data": {
      "text/plain": [
       "{'0': 'Category: A/C Receiver Drier / Accumulator'}"
      ]
     },
     "execution_count": 20,
     "metadata": {},
     "output_type": "execute_result"
    }
   ],
   "source": [
    "dict_note_2, i = {}, 0\n",
    "for note in list_note:\n",
    "    if note != '':\n",
    "        dict_note_2[str(i)] = note\n",
    "\n",
    "dict_note_2"
   ]
  },
  {
   "cell_type": "code",
   "execution_count": 21,
   "id": "7c6a0a09-50fc-4031-aa31-6a3505bbf09e",
   "metadata": {},
   "outputs": [
    {
     "data": {
      "text/plain": [
       "'151911;19188493;88919275;88919343;F49Z19C836B'"
      ]
     },
     "execution_count": 21,
     "metadata": {},
     "output_type": "execute_result"
    }
   ],
   "source": [
    "list_list_text = [text.split(',') for td in list_tbody[index_part].xpath('./tr[1]/td[contains(@class, \"listing-inner-content\")]') for text in td.xpath('./span[contains(@title, \"Replaces these Alternate\")]/text()')]\n",
    "list_text = [text.strip() for list_text in list_list_text for text in list_text if text.strip() != '']\n",
    "oem = ';'.join(list(dict.fromkeys(list_text)))\n",
    "\n",
    "oem"
   ]
  },
  {
   "cell_type": "code",
   "execution_count": 22,
   "id": "abd1a18b-7a6c-43c7-aece-1e3dc1a0d385",
   "metadata": {
    "scrolled": true
   },
   "outputs": [
    {
     "data": {
      "text/plain": [
       "[{'Size': 'Thumb',\n",
       "  'SlotIndex': 0,\n",
       "  'Slots': [{'TitlePhrase': None,\n",
       "    'ParamCodes': [None],\n",
       "    'Type': 'Single',\n",
       "    'ImageData': {'Thumb': '/info/52/33072__ra_m.jpg',\n",
       "     'Popup': '/info/52/33072.jpg',\n",
       "     'Full': '/info/52/33072.jpg'}},\n",
       "   {'TitlePhrase': None,\n",
       "    'ParamCodes': [None],\n",
       "    'Type': 'Single',\n",
       "    'ImageData': {'Thumb': '/info/52/33072FRO__ra_m.jpg',\n",
       "     'Popup': '/info/52/33072FRO.jpg',\n",
       "     'Full': '/info/52/33072FRO.jpg'}},\n",
       "   {'TitlePhrase': None,\n",
       "    'ParamCodes': [None],\n",
       "    'Type': 'Single',\n",
       "    'ImageData': {'Thumb': '/info/52/33072RSID__ra_m.jpg',\n",
       "     'Popup': '/info/52/33072RSID.jpg',\n",
       "     'Full': '/info/52/33072RSID.jpg'}},\n",
       "   {'TitlePhrase': None,\n",
       "    'ParamCodes': [None],\n",
       "    'Type': 'Single',\n",
       "    'ImageData': {'Thumb': '/info/52/33072LSID__ra_m.jpg',\n",
       "     'Popup': '/info/52/33072LSID.jpg',\n",
       "     'Full': '/info/52/33072LSID.jpg'}},\n",
       "   {'TitlePhrase': None,\n",
       "    'ParamCodes': [None],\n",
       "    'Type': 'Single',\n",
       "    'ImageData': {'Thumb': '/info/52/33072BAC__ra_m.jpg',\n",
       "     'Popup': '/info/52/33072BAC.jpg',\n",
       "     'Full': '/info/52/33072BAC.jpg'}},\n",
       "   {'TitlePhrase': None,\n",
       "    'ParamCodes': [None],\n",
       "    'Type': 'Single',\n",
       "    'ImageData': {'Thumb': '/info/52/33072TOP__ra_m.jpg',\n",
       "     'Popup': '/info/52/33072TOP.jpg',\n",
       "     'Full': '/info/52/33072TOP.jpg'}}]}]"
      ]
     },
     "execution_count": 22,
     "metadata": {},
     "output_type": "execute_result"
    }
   ],
   "source": [
    "list_input = list_tbody[index_part].xpath('./tr[1]/td/div[contains(@class, \"listing-image-space-occupy\")]/input[contains(@id, \"jsninlineimg[__GIP__\")]')\n",
    "list_dict = [json.loads(value) for input_ in list_input for value in input_.xpath('./@value')]\n",
    "\n",
    "list_dict"
   ]
  },
  {
   "cell_type": "code",
   "execution_count": 23,
   "id": "e50c7581-fb31-4bf1-9777-e7ef240debda",
   "metadata": {},
   "outputs": [
    {
     "data": {
      "text/plain": [
       "{'0': 'https://www.rockauto.com/info/52/33072.jpg',\n",
       " '1': 'https://www.rockauto.com/info/52/33072FRO.jpg',\n",
       " '2': 'https://www.rockauto.com/info/52/33072RSID.jpg',\n",
       " '3': 'https://www.rockauto.com/info/52/33072LSID.jpg',\n",
       " '4': 'https://www.rockauto.com/info/52/33072BAC.jpg',\n",
       " '5': 'https://www.rockauto.com/info/52/33072TOP.jpg'}"
      ]
     },
     "execution_count": 23,
     "metadata": {},
     "output_type": "execute_result"
    }
   ],
   "source": [
    "dict_src, i = {}, 0\n",
    "for dict_ in list_dict:\n",
    "    list_src = dict_.get('Slots', [])\n",
    "    for src in list_src:\n",
    "        dict_src[str(i)] = f'''https://www.rockauto.com{src['ImageData']['Full'].strip()}'''\n",
    "        i += 1\n",
    "\n",
    "dict_src"
   ]
  },
  {
   "cell_type": "code",
   "execution_count": 24,
   "id": "75f1c322-6146-4016-8339-7dd4027ad99e",
   "metadata": {},
   "outputs": [
    {
     "data": {
      "text/plain": [
       "{'0': '$5.76'}"
      ]
     },
     "execution_count": 24,
     "metadata": {},
     "output_type": "execute_result"
    }
   ],
   "source": [
    "list_span = list_tbody[index_part].xpath('./tr[1]/td[contains(@id, \"listingtd[__GIP__\") and contains(@id, \"__][price]\")]/span[contains(@id, \"dprice[__GIP__\") and contains(@id, \"__][td]\")]/span/span[contains(@id, \"dprice[__GIP__\") and contains(@id, \"__][v]\")]')\n",
    "list_price = [etree.tostring(span).decode('utf-8') for span in list_span]\n",
    "list_price = [re.sub(r'<.*?>', '', price) for price in list_price]\n",
    "list_price = [re.sub(r' +', ' ', price.strip()) for price in list_price]\n",
    "list_price = [html_lib.unescape(price) for price in list_price]\n",
    "dict_price = {'0': '; '.join(list_price)}\n",
    "\n",
    "dict_price"
   ]
  },
  {
   "cell_type": "code",
   "execution_count": 25,
   "id": "d6531718-1b86-4a1e-8aee-2c2478ae120d",
   "metadata": {},
   "outputs": [
    {
     "data": {
      "text/plain": [
       "{'0': '$5.76',\n",
       " '1': {'0': '[Wholesaler Closeout - Private Label Pkg. - 30 Day Warranty] ($5.76) ^',\n",
       "  '1': '[Wholesaler Closeout -- 30 Day Warranty] ($14.18) ^',\n",
       "  '2': '[Regular Inventory] ($22.79) ^'}}"
      ]
     },
     "execution_count": 25,
     "metadata": {},
     "output_type": "execute_result"
    }
   ],
   "source": [
    "list_td = list_tbody[index_part].xpath('./tr[1]/td[contains(@class, \"listing-inner-content\")]')\n",
    "list_price = [etree.tostring(option).decode('utf-8') for td in list_td for option in td.xpath('./div/div[contains(@class, \"listing-optionchoice-multiple-container\")]/span[contains(@id, \"ddrepl[optionchoice[__GIP__\") and contains(@id, \"__]][container]\")]/span[@class=\"hide-if-js\"]/select[contains(@id, \"optionchoice[__GIP__\") and contains(@id, \"__]\")]/option[@value!=\"\"]')]\n",
    "list_price = [re.sub(r'<.*?>', '', price) for price in list_price]\n",
    "list_price = [re.sub(r' +', ' ', price.strip()) for price in list_price]\n",
    "list_price = [html_lib.unescape(price) for price in list_price]\n",
    "if list_price:\n",
    "    dict_price['1'] = {}\n",
    "    for i, price in enumerate(list_price):\n",
    "        dict_price['1'][str(i)] = price\n",
    "\n",
    "dict_price"
   ]
  },
  {
   "cell_type": "code",
   "execution_count": 26,
   "id": "99f49dd4-107b-4d6f-9ed6-1db0c1be6093",
   "metadata": {},
   "outputs": [
    {
     "data": {
      "text/plain": [
       "[{'No': 1,\n",
       "  'Manufacturer': 'FOUR SEASONS',\n",
       "  'Part Number': '33072',\n",
       "  'OEM': '151911;19188493;88919275;88919343;F49Z19C836B',\n",
       "  'Picture': '',\n",
       "  'Url': 'https://www.rockauto.com/en/parts/FOUR SEASONS,33072,Lennon,6972',\n",
       "  'Json_Src': '{\"0\": \"https://www.rockauto.com/info/52/33072.jpg\", \"1\": \"https://www.rockauto.com/info/52/33072FRO.jpg\", \"2\": \"https://www.rockauto.com/info/52/33072RSID.jpg\", \"3\": \"https://www.rockauto.com/info/52/33072LSID.jpg\", \"4\": \"https://www.rockauto.com/info/52/33072BAC.jpg\", \"5\": \"https://www.rockauto.com/info/52/33072TOP.jpg\"}',\n",
       "  'Info': 'https://www.rockauto.com/en/moreinfo.php?pk=814749&cc=0&pt=6972',\n",
       "  'Json_Note 1': '{}',\n",
       "  'Json_Note 2': '{\"0\": \"Category: A/C Receiver Drier / Accumulator\"}',\n",
       "  'Choose': '',\n",
       "  'Json_Price': '{\"0\": \"$5.76\", \"1\": {\"0\": \"[Wholesaler Closeout - Private Label Pkg. - 30 Day Warranty] ($5.76) ^\", \"1\": \"[Wholesaler Closeout -- 30 Day Warranty] ($14.18) ^\", \"2\": \"[Regular Inventory] ($22.79) ^\"}}',\n",
       "  'Type Code': '6972',\n",
       "  'Part Code': '814749',\n",
       "  'JOIN_MPNTCPC': 'FOUR SEASONS;33072;6972;814749'}]"
      ]
     },
     "execution_count": 26,
     "metadata": {},
     "output_type": "execute_result"
    }
   ],
   "source": [
    "list_dict_correct.append({'No': crawler_series['No'],\n",
    "                          'Manufacturer': crawler_series['Manufacturer'],\n",
    "                          'Part Number': crawler_series['Part Number'],\n",
    "                          'OEM': oem,\n",
    "                          'Picture': '',\n",
    "                          'Url': f'''https://www.rockauto.com/en/parts/{crawler_series['Manufacturer']},{crawler_series['Part Number']},Lennon,{list_type_code[index_part]}''',\n",
    "                          'Json_Src': json.dumps(dict_src),\n",
    "                          'Info': info,\n",
    "                          'Json_Note 1': json.dumps(dict_note),\n",
    "                          'Json_Note 2': json.dumps(dict_note_2),\n",
    "                          'Choose': list_choose[index_part],\n",
    "                          'Json_Price': json.dumps(dict_price),\n",
    "                          'Type Code': list_type_code[index_part],\n",
    "                          'Part Code': list_part_code[index_part],\n",
    "                          'JOIN_MPNTCPC': f'''{crawler_series['Manufacturer']};{crawler_series['Part Number']};{list_type_code[index_part]};{list_part_code[index_part]}'''})\n",
    "\n",
    "list_dict_correct"
   ]
  },
  {
   "cell_type": "code",
   "execution_count": 27,
   "id": "fc4ed7f6-ed4f-431c-b944-b1690309cdae",
   "metadata": {},
   "outputs": [
    {
     "data": {
      "text/plain": [
       "True"
      ]
     },
     "execution_count": 27,
     "metadata": {},
     "output_type": "execute_result"
    }
   ],
   "source": [
    "crawler_status = True\n",
    "\n",
    "crawler_status"
   ]
  },
  {
   "cell_type": "code",
   "execution_count": 28,
   "id": "65c745d1-446e-46c5-9dec-819c9f7944d3",
   "metadata": {},
   "outputs": [
    {
     "data": {
      "text/plain": [
       "[No                                                              1\n",
       " Manufacturer                                         FOUR SEASONS\n",
       " Part Number                                                 33072\n",
       " Check_Url       https://www.rockauto.com/en/partsearch/?mfr=FO...\n",
       " Name: 0, dtype: object]"
      ]
     },
     "execution_count": 28,
     "metadata": {},
     "output_type": "execute_result"
    }
   ],
   "source": [
    "crawler_series['Check_Url'] = url_check\n",
    "\n",
    "list_series_error.append(crawler_series)\n",
    "\n",
    "list_series_error"
   ]
  },
  {
   "cell_type": "code",
   "execution_count": 29,
   "id": "17a796b2-35c8-4c10-960e-6111fec4b993",
   "metadata": {},
   "outputs": [
    {
     "data": {
      "text/html": [
       "<div>\n",
       "<style scoped>\n",
       "    .dataframe tbody tr th:only-of-type {\n",
       "        vertical-align: middle;\n",
       "    }\n",
       "\n",
       "    .dataframe tbody tr th {\n",
       "        vertical-align: top;\n",
       "    }\n",
       "\n",
       "    .dataframe thead th {\n",
       "        text-align: right;\n",
       "    }\n",
       "</style>\n",
       "<table border=\"1\" class=\"dataframe\">\n",
       "  <thead>\n",
       "    <tr style=\"text-align: right;\">\n",
       "      <th></th>\n",
       "      <th>No</th>\n",
       "      <th>Manufacturer</th>\n",
       "      <th>Part Number</th>\n",
       "      <th>OEM</th>\n",
       "      <th>Picture</th>\n",
       "      <th>Url</th>\n",
       "      <th>Json_Src</th>\n",
       "      <th>Info</th>\n",
       "      <th>Json_Note 1</th>\n",
       "      <th>Json_Note 2</th>\n",
       "      <th>Choose</th>\n",
       "      <th>Json_Price</th>\n",
       "      <th>Type Code</th>\n",
       "      <th>Part Code</th>\n",
       "      <th>JOIN_MPNTCPC</th>\n",
       "    </tr>\n",
       "  </thead>\n",
       "  <tbody>\n",
       "    <tr>\n",
       "      <th>0</th>\n",
       "      <td>1</td>\n",
       "      <td>FOUR SEASONS</td>\n",
       "      <td>33072</td>\n",
       "      <td>151911;19188493;88919275;88919343;F49Z19C836B</td>\n",
       "      <td></td>\n",
       "      <td>https://www.rockauto.com/en/parts/FOUR SEASONS...</td>\n",
       "      <td>{\"0\": \"https://www.rockauto.com/info/52/33072....</td>\n",
       "      <td>https://www.rockauto.com/en/moreinfo.php?pk=81...</td>\n",
       "      <td>{}</td>\n",
       "      <td>{\"0\": \"Category: A/C Receiver Drier / Accumula...</td>\n",
       "      <td></td>\n",
       "      <td>{\"0\": \"$5.76\", \"1\": {\"0\": \"[Wholesaler Closeou...</td>\n",
       "      <td>6972</td>\n",
       "      <td>814749</td>\n",
       "      <td>FOUR SEASONS;33072;6972;814749</td>\n",
       "    </tr>\n",
       "  </tbody>\n",
       "</table>\n",
       "</div>"
      ],
      "text/plain": [
       "   No  Manufacturer Part Number  \\\n",
       "0   1  FOUR SEASONS       33072   \n",
       "\n",
       "                                             OEM Picture  \\\n",
       "0  151911;19188493;88919275;88919343;F49Z19C836B           \n",
       "\n",
       "                                                 Url  \\\n",
       "0  https://www.rockauto.com/en/parts/FOUR SEASONS...   \n",
       "\n",
       "                                            Json_Src  \\\n",
       "0  {\"0\": \"https://www.rockauto.com/info/52/33072....   \n",
       "\n",
       "                                                Info Json_Note 1  \\\n",
       "0  https://www.rockauto.com/en/moreinfo.php?pk=81...          {}   \n",
       "\n",
       "                                         Json_Note 2 Choose  \\\n",
       "0  {\"0\": \"Category: A/C Receiver Drier / Accumula...          \n",
       "\n",
       "                                          Json_Price Type Code Part Code  \\\n",
       "0  {\"0\": \"$5.76\", \"1\": {\"0\": \"[Wholesaler Closeou...      6972    814749   \n",
       "\n",
       "                     JOIN_MPNTCPC  \n",
       "0  FOUR SEASONS;33072;6972;814749  "
      ]
     },
     "execution_count": 29,
     "metadata": {},
     "output_type": "execute_result"
    }
   ],
   "source": [
    "if list_dict_correct:\n",
    "    df_correct = pd.DataFrame(list_dict_correct).sort_values(by=['No'],\n",
    "                                                             ascending=[True],\n",
    "                                                             ignore_index=True)\n",
    "    df_correct.to_excel('./test_part.xlsx', index=False)\n",
    "\n",
    "df_correct"
   ]
  },
  {
   "cell_type": "code",
   "execution_count": 30,
   "id": "b21c3fac-203a-4c6e-b7ae-b0ac1a112665",
   "metadata": {},
   "outputs": [
    {
     "data": {
      "text/html": [
       "<div>\n",
       "<style scoped>\n",
       "    .dataframe tbody tr th:only-of-type {\n",
       "        vertical-align: middle;\n",
       "    }\n",
       "\n",
       "    .dataframe tbody tr th {\n",
       "        vertical-align: top;\n",
       "    }\n",
       "\n",
       "    .dataframe thead th {\n",
       "        text-align: right;\n",
       "    }\n",
       "</style>\n",
       "<table border=\"1\" class=\"dataframe\">\n",
       "  <thead>\n",
       "    <tr style=\"text-align: right;\">\n",
       "      <th></th>\n",
       "      <th>No</th>\n",
       "      <th>Manufacturer</th>\n",
       "      <th>Part Number</th>\n",
       "      <th>Check_Url</th>\n",
       "    </tr>\n",
       "  </thead>\n",
       "  <tbody>\n",
       "    <tr>\n",
       "      <th>0</th>\n",
       "      <td>1</td>\n",
       "      <td>FOUR SEASONS</td>\n",
       "      <td>33072</td>\n",
       "      <td>https://www.rockauto.com/en/partsearch/?mfr=FO...</td>\n",
       "    </tr>\n",
       "  </tbody>\n",
       "</table>\n",
       "</div>"
      ],
      "text/plain": [
       "   No  Manufacturer Part Number  \\\n",
       "0   1  FOUR SEASONS       33072   \n",
       "\n",
       "                                           Check_Url  \n",
       "0  https://www.rockauto.com/en/partsearch/?mfr=FO...  "
      ]
     },
     "execution_count": 30,
     "metadata": {},
     "output_type": "execute_result"
    }
   ],
   "source": [
    "if list_series_error:\n",
    "    df_error = pd.DataFrame(list_series_error).sort_values(by=['No'],\n",
    "                                                           ascending=[True],\n",
    "                                                           ignore_index=True)\n",
    "    df_error.to_excel('./test_part_error.xlsx', index=False)\n",
    "\n",
    "df_error"
   ]
  },
  {
   "cell_type": "code",
   "execution_count": null,
   "id": "ba5d9f77-7464-4ad5-a42b-1fa0c0505832",
   "metadata": {},
   "outputs": [],
   "source": []
  }
 ],
 "metadata": {
  "kernelspec": {
   "display_name": "Python 3 (ipykernel)",
   "language": "python",
   "name": "python3"
  },
  "language_info": {
   "codemirror_mode": {
    "name": "ipython",
    "version": 3
   },
   "file_extension": ".py",
   "mimetype": "text/x-python",
   "name": "python",
   "nbconvert_exporter": "python",
   "pygments_lexer": "ipython3",
   "version": "3.12.7"
  }
 },
 "nbformat": 4,
 "nbformat_minor": 5
}
