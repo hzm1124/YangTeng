{
 "cells": [
  {
   "cell_type": "code",
   "execution_count": 1,
   "id": "32a12924-e1d6-4d3e-a9ef-8073d0aeb574",
   "metadata": {
    "scrolled": true
   },
   "outputs": [
    {
     "data": {
      "text/plain": [
       "['crawler_1.xlsx', 'crawler_2.xlsx']"
      ]
     },
     "execution_count": 1,
     "metadata": {},
     "output_type": "execute_result"
    }
   ],
   "source": [
    "import os\n",
    "\n",
    "list_file = sorted(list(os.walk('./file/1.part_number'))[0][2])\n",
    "while '.DS_Store' in list_file:\n",
    "    list_file.remove('.DS_Store')\n",
    "while '0.null.txt' in list_file:\n",
    "    list_file.remove('0.null.txt')\n",
    "\n",
    "list_file"
   ]
  },
  {
   "cell_type": "code",
   "execution_count": 2,
   "id": "c9de1936-ff24-4793-98f4-5ef072598a26",
   "metadata": {},
   "outputs": [
    {
     "data": {
      "text/plain": [
       "'crawler_1.xlsx'"
      ]
     },
     "execution_count": 2,
     "metadata": {},
     "output_type": "execute_result"
    }
   ],
   "source": [
    "file = list_file[0]\n",
    "\n",
    "file"
   ]
  },
  {
   "cell_type": "code",
   "execution_count": 3,
   "id": "783f89be-0cdc-4912-942e-895cc5f09840",
   "metadata": {},
   "outputs": [],
   "source": [
    "import pandas as pd\n",
    "\n",
    "output_correct, output_error = pd.DataFrame(), pd.DataFrame()"
   ]
  },
  {
   "cell_type": "code",
   "execution_count": 4,
   "id": "1c28f4ff-eee5-4220-a711-cc2f93fe08f0",
   "metadata": {
    "scrolled": true
   },
   "outputs": [
    {
     "name": "stdout",
     "output_type": "stream",
     "text": [
      "总数量：507\n"
     ]
    },
    {
     "data": {
      "text/plain": [
       "['30250S',\n",
       " '30250SX',\n",
       " '30420S',\n",
       " '30430S',\n",
       " '30460S',\n",
       " '30460SA',\n",
       " '30460SB',\n",
       " '30470S',\n",
       " '30470SX',\n",
       " '30490S',\n",
       " '30490SA',\n",
       " '30490SAX',\n",
       " '30490SX',\n",
       " '30719S',\n",
       " '30719SHWP',\n",
       " '31007S',\n",
       " '31035S',\n",
       " '31035SX',\n",
       " '31036S',\n",
       " '31036SA',\n",
       " '31038S',\n",
       " '31038SX',\n",
       " '31041S',\n",
       " '31045S',\n",
       " '31045SA',\n",
       " '31045SX',\n",
       " '31047S',\n",
       " '31047SH',\n",
       " '31047SHWP',\n",
       " '31047SK3',\n",
       " '31047SVVT',\n",
       " '31047SX',\n",
       " '31047SXH',\n",
       " '31047SXHWP',\n",
       " '31049S',\n",
       " '31049SA',\n",
       " '31049SAH',\n",
       " '31049SAVVT1',\n",
       " '31049SAW',\n",
       " '31049SAWVVT',\n",
       " '31049SAWVVT1',\n",
       " '31049SB',\n",
       " '31049SBH',\n",
       " '31049SBX',\n",
       " '31049SBXH',\n",
       " '31049SC',\n",
       " '31049SCH',\n",
       " '31049SCX',\n",
       " '31049SCXH',\n",
       " '31049SD',\n",
       " '31049SDH',\n",
       " '31049SDX',\n",
       " '31049SDXH',\n",
       " '31049SE',\n",
       " '31049SEH',\n",
       " '31049SEK3',\n",
       " '31049SEVVT',\n",
       " '31049SF',\n",
       " '31049SFH',\n",
       " '31049SFVVT',\n",
       " '31049SG',\n",
       " '31049SGX',\n",
       " '31049SH',\n",
       " '31049SJ',\n",
       " '31049SK',\n",
       " '31049SL',\n",
       " '31049SM',\n",
       " '31049SN',\n",
       " '31049SP',\n",
       " '31049SPVVT',\n",
       " '31049SVVT1',\n",
       " '31049SVVT2',\n",
       " '31049SW',\n",
       " '31051S',\n",
       " '31051SA',\n",
       " '31051SAX',\n",
       " '31051SX',\n",
       " '31054S',\n",
       " '31055S',\n",
       " '31055SX',\n",
       " '31056S',\n",
       " '31056SX',\n",
       " '31058S',\n",
       " '31058SX',\n",
       " '31060S',\n",
       " '31062S',\n",
       " '31062SX',\n",
       " '31064S',\n",
       " '31065S',\n",
       " '31065SX',\n",
       " '31067S',\n",
       " '31067SX',\n",
       " '31069SAX',\n",
       " '31069SX',\n",
       " '31073S',\n",
       " '31073SX',\n",
       " '31075SX',\n",
       " '31076S',\n",
       " '31076SA',\n",
       " '31076SAX',\n",
       " '31076SX',\n",
       " '31078S',\n",
       " '31079S',\n",
       " '31079SX',\n",
       " '31080S',\n",
       " '31080SX',\n",
       " '31081S',\n",
       " '31082S',\n",
       " '31082SX',\n",
       " '31083S',\n",
       " '31083SX',\n",
       " '31085SX',\n",
       " '31087SX',\n",
       " '31090S',\n",
       " '31090SAX',\n",
       " '31090SX',\n",
       " '31093S',\n",
       " '31093SA',\n",
       " '31093SAX',\n",
       " '31093SX',\n",
       " '3160S',\n",
       " '3163S',\n",
       " '3163SA',\n",
       " '3163SB',\n",
       " '3168S',\n",
       " '3168SA',\n",
       " '3168SC',\n",
       " '3168SD',\n",
       " '3168SE',\n",
       " '3169S',\n",
       " '3169SA',\n",
       " '3171S',\n",
       " '3181S',\n",
       " '3181SA',\n",
       " '3182S',\n",
       " '3192SA',\n",
       " '3195S',\n",
       " '3195SA',\n",
       " '3195SB',\n",
       " '3195SBX',\n",
       " '3195SC',\n",
       " '3195SX',\n",
       " '3202S',\n",
       " '3202SA',\n",
       " '33235S',\n",
       " '3344S',\n",
       " '3349S',\n",
       " '3350S',\n",
       " '3351S',\n",
       " '3356S',\n",
       " '3358S',\n",
       " '3358SA',\n",
       " '3359S',\n",
       " '3359SB',\n",
       " '3359SC',\n",
       " '3361S',\n",
       " '3365SA',\n",
       " '3370S',\n",
       " '3370SA',\n",
       " '3372S',\n",
       " '3373S',\n",
       " '3374S',\n",
       " '3374SA',\n",
       " '3375S',\n",
       " '3375SA',\n",
       " '3376S',\n",
       " '3376SA',\n",
       " '3376SB',\n",
       " '3377S',\n",
       " '3377SA',\n",
       " '3378S',\n",
       " '3378SA',\n",
       " '3380S',\n",
       " '3380SA',\n",
       " '3381A',\n",
       " '3381AS',\n",
       " '3383S',\n",
       " '3383SB',\n",
       " '3384S',\n",
       " '3385S',\n",
       " '3385SA',\n",
       " '3385SB',\n",
       " '3387SA',\n",
       " '3387SAX',\n",
       " '3387SAXH',\n",
       " '3387SC',\n",
       " '3387SG',\n",
       " '3387SGF',\n",
       " '3387SGWP',\n",
       " '3387SGX',\n",
       " '3387SHF',\n",
       " '3387SIF',\n",
       " '3387SIFWP',\n",
       " '3387SJF',\n",
       " '3387SKF',\n",
       " '3387SKFC',\n",
       " '3387SKFCH',\n",
       " '3387SKFH',\n",
       " '3387SLF',\n",
       " '3387SM',\n",
       " '3387SMH',\n",
       " '3387SMK3',\n",
       " '3387SMVVT',\n",
       " '3387SMVVT1',\n",
       " '3387SMVVTH',\n",
       " '3388S',\n",
       " '3388SA',\n",
       " '3390S',\n",
       " '3390SA',\n",
       " '3391S',\n",
       " '3391SA',\n",
       " '3391SB',\n",
       " '3391SC',\n",
       " '3391SCC',\n",
       " '3391SCCH',\n",
       " '3391SCCK3',\n",
       " '3391SCCK3A',\n",
       " '3391SCCVVT',\n",
       " '3391SCCVVT1',\n",
       " '3391SCCVVTH',\n",
       " '3391SCCWP',\n",
       " '3391SCCWP1',\n",
       " '3391SCH',\n",
       " '3391SCK3',\n",
       " '3391SCK3A',\n",
       " '3391SCVVT',\n",
       " '3391SCVVT1',\n",
       " '3391SCVVTH',\n",
       " '3391SCWP',\n",
       " '3391SCWP1',\n",
       " '3391SD',\n",
       " '3391SE',\n",
       " '3391SF',\n",
       " '3391SFH',\n",
       " '3391SG',\n",
       " '3391SX',\n",
       " '3391SXH',\n",
       " '3392S',\n",
       " '3393S',\n",
       " '3393SA',\n",
       " '3393SAH',\n",
       " '3393SB',\n",
       " '3393SBH',\n",
       " '3393SC',\n",
       " '3393SCH',\n",
       " '3393SD',\n",
       " '3393SF',\n",
       " '3393SFH',\n",
       " '3393SFX',\n",
       " '3393SFXH',\n",
       " '3393SX',\n",
       " '3393SXH',\n",
       " '3395S',\n",
       " '3395SA',\n",
       " '3396S',\n",
       " '3397S',\n",
       " '3397SA',\n",
       " '3397SB',\n",
       " '3397SBX',\n",
       " '3397SX',\n",
       " '3398LHA',\n",
       " '3398RHA',\n",
       " '3398S',\n",
       " '3398SA',\n",
       " '33DR130',\n",
       " '33SR60',\n",
       " '33SR60AS',\n",
       " '33SR64',\n",
       " '33SR64S',\n",
       " '33SRH106',\n",
       " '33SRH60HVVT1',\n",
       " '33SRH60S',\n",
       " '33SRH60SA',\n",
       " '33SRH60SB',\n",
       " '33SRH60SC',\n",
       " '33SRH60SD',\n",
       " '33SRH60SDHVVT',\n",
       " '33SRH60SE',\n",
       " '33SRH60SEHVVT',\n",
       " '33SRH60SF',\n",
       " '33SRH60SG',\n",
       " '33SRH60SX',\n",
       " '33SRH64',\n",
       " '33SRH64A',\n",
       " '33SRH64AS',\n",
       " '33SRH64S',\n",
       " '34167S',\n",
       " '34198S',\n",
       " '34198SX',\n",
       " '34200SA',\n",
       " '34201S',\n",
       " '34201SA',\n",
       " '34201SAHWP',\n",
       " '34201SAVVT1',\n",
       " '34201SAVVT2',\n",
       " '34201SB',\n",
       " '34201SBX',\n",
       " '34201SHWP',\n",
       " '34201SX',\n",
       " '34201SXHWP',\n",
       " '34202SAX',\n",
       " '34202SB',\n",
       " '34202SC',\n",
       " '34202SC1K3',\n",
       " '34202SC2K3',\n",
       " '34207S',\n",
       " '34207SA',\n",
       " '34207SAX',\n",
       " '34207SX',\n",
       " '34210SA',\n",
       " '34212S',\n",
       " '34212SA',\n",
       " '34212SB',\n",
       " '34212SC',\n",
       " '34212SCX',\n",
       " '34214SA',\n",
       " '34220SAX',\n",
       " '34220SX',\n",
       " '34221S',\n",
       " '34221SX',\n",
       " '3491S',\n",
       " '3491SA',\n",
       " '3494S',\n",
       " '3494SA',\n",
       " '3494SB',\n",
       " '3494SC',\n",
       " '3494SD',\n",
       " '3495S',\n",
       " '3498S',\n",
       " '3498SA',\n",
       " '3498SB',\n",
       " '3498SC',\n",
       " '3499S',\n",
       " '3499SA',\n",
       " '34SR48',\n",
       " '34SR50',\n",
       " '34SR50SA',\n",
       " '34SR50SB',\n",
       " '34SR50SC',\n",
       " '34SR50SD',\n",
       " '34SR50SE',\n",
       " '3501S',\n",
       " '3501SA',\n",
       " '3503S',\n",
       " '3505S',\n",
       " '3505SA',\n",
       " '3506S',\n",
       " '3506SA',\n",
       " '3506SB',\n",
       " '3506SC',\n",
       " '3507S',\n",
       " '3509S',\n",
       " '3509SA',\n",
       " '3509SB',\n",
       " '3700S',\n",
       " '3700SA',\n",
       " '3700SB',\n",
       " '3700SC',\n",
       " '3700SD',\n",
       " '3700SE',\n",
       " '3704S',\n",
       " '3704SA',\n",
       " '3705S',\n",
       " '3705SA',\n",
       " '3705SAX',\n",
       " '3705SB',\n",
       " '3705SBX',\n",
       " '3705SCX',\n",
       " '3705SDX',\n",
       " '3705SFX',\n",
       " '3705SGX',\n",
       " '3705SX',\n",
       " '3707SAX',\n",
       " '3707SX',\n",
       " '3708S',\n",
       " '3708SA',\n",
       " '3711S',\n",
       " '3711SA',\n",
       " '3711SB',\n",
       " '3711SBX',\n",
       " '3711SX',\n",
       " '3715S',\n",
       " '3715SA',\n",
       " '3715SAX',\n",
       " '3715SBX',\n",
       " '3715SX',\n",
       " '3720S',\n",
       " '3720SA',\n",
       " '3720SAHWP',\n",
       " '3720SAX',\n",
       " '3720SAXHWP',\n",
       " '3724S',\n",
       " '3727S',\n",
       " '3727SA',\n",
       " '3727SAX',\n",
       " '3727SB',\n",
       " '3727SBX',\n",
       " '3727SX',\n",
       " '3730S',\n",
       " '3730SA',\n",
       " '3730SA1HWP',\n",
       " '3730SAHWP',\n",
       " '3730SAX',\n",
       " '3730SAX1HWP',\n",
       " '3730SAXHWP',\n",
       " '3730SHWP',\n",
       " '3730SX',\n",
       " '3730SXHWP',\n",
       " '3750S',\n",
       " '3750SHVVT',\n",
       " '3750SX',\n",
       " '3752S',\n",
       " '3752SX',\n",
       " '3753S',\n",
       " '3753SK3',\n",
       " '3753SVVT',\n",
       " '3753SWP',\n",
       " '3753SX',\n",
       " '38MMSR130SX',\n",
       " '38MMSRH62S',\n",
       " '38MMSRH62SA',\n",
       " '38MMSRH72S',\n",
       " '38MMSRH72SA',\n",
       " '38MMSRH72SB',\n",
       " '3900CS',\n",
       " '3900CSA',\n",
       " '3900CSB',\n",
       " '3900CSX',\n",
       " '3916S',\n",
       " '3916SA',\n",
       " '3916SX',\n",
       " '3924S',\n",
       " '3924SX',\n",
       " '3DR1022',\n",
       " '3DR961',\n",
       " '3DR981',\n",
       " '3SR1021',\n",
       " '3SR921',\n",
       " '3SR961',\n",
       " '3SR961HD',\n",
       " '3SR981',\n",
       " '40201',\n",
       " '40202',\n",
       " '40203',\n",
       " '40204',\n",
       " '40205',\n",
       " '40206',\n",
       " '40217',\n",
       " '40400',\n",
       " '40401',\n",
       " '40402',\n",
       " '40403',\n",
       " '40404',\n",
       " '40405',\n",
       " '40406',\n",
       " '40407',\n",
       " '40408',\n",
       " '40409',\n",
       " '40410',\n",
       " '40500',\n",
       " '40510',\n",
       " '40520',\n",
       " '40540',\n",
       " '48500T9',\n",
       " '48510T9',\n",
       " '48520T9',\n",
       " '48530T9',\n",
       " '48551T9',\n",
       " '48560T9',\n",
       " '48561T9',\n",
       " '485626',\n",
       " '48562T9',\n",
       " '485636',\n",
       " '48563T9',\n",
       " '48564T9',\n",
       " '48565T9',\n",
       " '48566T9',\n",
       " '48567T9',\n",
       " '485683',\n",
       " '485699',\n",
       " '48570T9',\n",
       " '48571T9',\n",
       " 'TOPK1000',\n",
       " 'TOPK1000HV',\n",
       " 'TOPK1001',\n",
       " 'TOPK1001HV',\n",
       " 'TOPK1002',\n",
       " 'TOPK1002HV',\n",
       " 'TOPK1003',\n",
       " 'TOPK1003HV',\n",
       " 'TOPK1004',\n",
       " 'TOPK1004HV',\n",
       " 'TOPK1005',\n",
       " 'TOPK1005HV',\n",
       " 'TOPK1006',\n",
       " 'TOPK1006HV',\n",
       " 'TOPK1007',\n",
       " 'TOPK1008',\n",
       " 'TOPK1009HV',\n",
       " 'TOPK1010HV',\n",
       " 'TOPK1011HV',\n",
       " 'TOPK1012HV',\n",
       " 'TOPK1013',\n",
       " 'TOPK1014',\n",
       " 'TOPK1015',\n",
       " 'TOPK1015HV',\n",
       " 'TOPK1017']"
      ]
     },
     "execution_count": 4,
     "metadata": {},
     "output_type": "execute_result"
    }
   ],
   "source": [
    "input_ = pd.read_excel(f'./file/1.part_number/{file}',\n",
    "                       header=0,\n",
    "                       dtype=str).fillna('')\n",
    "\n",
    "input_['No'] = input_['No'].astype(int)\n",
    "\n",
    "print(f'总数量：{len(input_)}')\n",
    "input_['Part Number'].tolist()"
   ]
  },
  {
   "cell_type": "code",
   "execution_count": 5,
   "id": "5878a9f0-d639-4123-b6e0-bc564f72c2d6",
   "metadata": {},
   "outputs": [
    {
     "data": {
      "text/plain": [
       "0"
      ]
     },
     "execution_count": 5,
     "metadata": {},
     "output_type": "execute_result"
    }
   ],
   "source": [
    "a = 0\n",
    "\n",
    "a"
   ]
  },
  {
   "cell_type": "code",
   "execution_count": 6,
   "id": "9f61dd65-55da-4d0b-ba30-d0534eff0781",
   "metadata": {},
   "outputs": [
    {
     "data": {
      "text/plain": [
       "'error'"
      ]
     },
     "execution_count": 6,
     "metadata": {},
     "output_type": "execute_result"
    }
   ],
   "source": [
    "crawler_status = 'error'\n",
    "\n",
    "crawler_status"
   ]
  },
  {
   "cell_type": "code",
   "execution_count": 7,
   "id": "523cc867",
   "metadata": {
    "scrolled": true
   },
   "outputs": [
    {
     "name": "stdout",
     "output_type": "stream",
     "text": [
      "1\n"
     ]
    },
    {
     "data": {
      "text/plain": [
       "<Response [200]>"
      ]
     },
     "execution_count": 7,
     "metadata": {},
     "output_type": "execute_result"
    }
   ],
   "source": [
    "import requests\n",
    "import json\n",
    "\n",
    "import sys\n",
    "sys.path.append('../00.Tools')\n",
    "from crawler_configuration import get_header, get_proxy\n",
    "\n",
    "data = {'dopartsearch': '1',\n",
    "        'partsearch[partnum][partsearch_007]': input_.loc[a, 'Part Number'],\n",
    "        'partsearch[manufacturer][partsearch_007]': input_.loc[a, 'Manufacturer'],\n",
    "        'partsearch[partgroup][partsearch_007]': input_.loc[a, 'Group'],\n",
    "        'partsearch[parttype][partsearch_007]': input_.loc[a, 'Type Code'],\n",
    "        'partsearch[do][partsearch_007]': '1',\n",
    "        'func': 'sendparttabsearch',\n",
    "        'giveback': json.dumps({}),\n",
    "        'api_json_request': '1'}\n",
    "\n",
    "b = 0\n",
    "while True:\n",
    "    b += 1\n",
    "    print(b)\n",
    "    try:\n",
    "        resp = requests.post('https://www.rockauto.com/catalog/catalogapi.php',\n",
    "                             data=data,\n",
    "                             headers=get_header(),\n",
    "                             proxies=get_proxy(),\n",
    "                             timeout=(10, 10))\n",
    "        \n",
    "        if resp.status_code == 200:\n",
    "            json_ = resp.json()\n",
    "            \n",
    "            if 'redirect_to_url' not in json_ and not resp.json()['giveback'] and 'collected_javascript' in json_:\n",
    "                break\n",
    "    except KeyboardInterrupt:\n",
    "        break\n",
    "    except:\n",
    "        continue\n",
    "\n",
    "resp"
   ]
  },
  {
   "cell_type": "code",
   "execution_count": 8,
   "id": "86ef5f53-4ba1-4024-af2a-5ad7c6898c6a",
   "metadata": {
    "scrolled": true
   },
   "outputs": [
    {
     "name": "stdout",
     "output_type": "stream",
     "text": [
      "<html>\n",
      " <body>\n",
      "  <div class=\"ranavnode\" id=\"nav[__GIP__1__]\">\n",
      "   <input autocomplete=\"off\" id=\"jsn[__GIP__1__]\" type=\"hidden\" value='{\"groupindex\":\"__GIP__1__\",\"tab\":\"partsearch\",\"idepth\":0,\"groupname\":\"Engine\",\"parttype\":\"5756\",\"catalogname\":\"MELLING\",\"partnumber\":\"30250S\",\"nodetype\":\"parttabsearch\",\"expanded\":true,\"loaded\":true}'/>\n",
      "   <input autocomplete=\"off\" id=\"navnodeunique[partsearch-engine-5756]\" name=\"navnodeunique[partsearch-engine-5756]\" type=\"hidden\" value=\"__GIP__1__\"/>\n",
      "   <div class=\"ranavouter\" id=\"nav_o[__GIP__1__]\">\n",
      "    <div class=\"inner\">\n",
      "     <table cellpadding=\"0\" cellspacing=\"0\" class=\"tbl\">\n",
      "      <tr>\n",
      "       <td class=\"niconspace nexpandedicon\" id=\"navicon[__GIP__1__]\">\n",
      "        <a href=\"/en/parts/melling,30250S,timing+chain+&amp;+component+kit,5756\" onclick='cataloglite.LinkIntercept_ToggleNavNode(\"__GIP__1__\"); return false;' tabindex=\"-1\">\n",
      "         <img alt=\"Toggle\" src=\"/Images/1pxtransparent.png\"/>\n",
      "        </a>\n",
      "       </td>\n",
      "       <td class=\"nlabel\">\n",
      "        <a class=\"navlabellink nvoffset nnormal\" href=\"/en/parts/melling,30250S,timing+chain+&amp;+component+kit,5756\" id=\"navhref[__GIP__1__]\" onclick='cataloglite.LinkIntercept_ToggleNavNode(\"__GIP__1__\"); return false;'>\n",
      "         Search for Manufacturer='MELLING' and Part Group='Engine' and Part Type='Timing Chain &amp; Component Kit' and Part Number='30250S'\n",
      "        </a>\n",
      "       </td>\n",
      "      </tr>\n",
      "     </table>\n",
      "    </div>\n",
      "   </div>\n",
      "   <div class=\"nchildren\" id=\"navchildren[__GIP__1__]\">\n",
      "    <div class=\"listings-container\" id=\"listings[__GIP__2__]\">\n",
      "     <form action=\"/en/partsearch/?mfr=MELLING&amp;parttype=5756&amp;partnum=30250S\" class=\"nobmp\" id=\"frmlistings[__GIP__2__]\" method=\"post\">\n",
      "      <input name=\"_nck\" type=\"hidden\" value=\"8LVLUxTaILBT+tLxkg8+3Ag7/0bbOhvn7P3rkFbL80/4ONrpMMyyMoTAzqUtg75DXjLFbtL0RWwG2TIS5g0HjN+BEpbJggwRicfW87qYxCroJDOCFdvb3koFH0TxTw3xVSCSrP49mW2Mvintxk6EBFFc2c3HmvA5ETWuytTSclfxz68hwwL38q8ZBDJO1gcE\"/>\n",
      "      <div class=\"listing-container-border\">\n",
      "       <input autocomplete=\"off\" id=\"parentnode[__GIP__2__]\" type=\"hidden\" value=\"__GIP__1__\"/>\n",
      "       <div>\n",
      "        <div style=\"padding-top: 1px; padding-left: .25em; padding-right: .25em;\">\n",
      "         <div class=\"remove-for-print\" style=\"padding-top:5px;\">\n",
      "          <div class=\"ib vtop\">\n",
      "           <span class=\"show-if-js\" style=\"padding-left: .5em;\">\n",
      "            <img alt=\"Close\" class=\"mouseover\" onclick='cataloglite.NavNode_SimulateClick(\"__GIP__1__\");' src=\"/catalog/images/close.gif\" style=\"vertical-align: top;\" title=\"Close\"/>\n",
      "           </span>\n",
      "           <span class=\"show-if-js\" style=\"padding-left: .5em;\">\n",
      "            <a href=\"/en/printlistings.php?ni=__GIP__2__&amp;title=Print Part Listings\" rel=\"opener\" target=\"_blank\">\n",
      "             <img alt=\"Print Part Listings\" class=\"mouseover\" src=\"/Images/mobile/printer.png\" style=\"vertical-align: top; border: none; height: 20px;\" title=\"Print Part Listings\"/>\n",
      "            </a>\n",
      "           </span>\n",
      "           <span class=\"show-if-js\" style=\"padding-left: .5em;\">\n",
      "            <a href=\"/en/emailpagetofriend.php?nurl=%2Fen%2Fpartsearch%2F%3Fmfr%3DMELLING%26parttype%3D5756%26partnum%3D30250S\" onclick='cataloglite.AddFiltersToEmailListingURL(\"\\/en\\/partsearch\\/?mfr=MELLING&amp;parttype=5756&amp;partnum=30250S\", \"__GIP__2__\"); return false;' target=\"_blank\">\n",
      "             <img alt=\"Send these listings to a friend\" class=\"mouseover\" src=\"/Images/mobile/envelope.png\" style=\"vertical-align: top; border: none; height: 14px;\" title=\"Send these listings to a friend\"/>\n",
      "            </a>\n",
      "           </span>\n",
      "           <span class=\"show-if-js\" style=\"padding-left: .5em;\">\n",
      "            <a alt=\"How do I choose a part?\" href=\"/help/?page=2\" style=\"text-decoration: none;\" target=\"_blank\" title=\"How do I choose a part?\">\n",
      "             <img alt=\"Help\" class=\"help_q_icon_16 vtop\" src=\"/Images/questionMark.png\"/>\n",
      "            </a>\n",
      "           </span>\n",
      "          </div>\n",
      "          <span class=\"span-filterinput\" style=\"padding-left: .5em;\">\n",
      "           <div class=\"ib\">\n",
      "            <table class=\"tblz tbl-input-button-attached attached-filter-size\">\n",
      "             <tr>\n",
      "              <td class=\"td-input\">\n",
      "               <input autocapitalize=\"off\" autocomplete=\"off\" autocorrect=\"off\" class=\"filter-input\" id=\"filterinput[__GIP__2__]\" name=\"filterinput\" onblur='cataloglite.FilterListings(\"__GIP__2__\");' onclick='cataloglite.DisplayFilterBreakDown(\"__GIP__2__\");' onkeypress='return RA.InterceptEnter(event, function(){cataloglite.FilterListings(\"__GIP__2__\");});' placeholder=\"Filter By Keyword(s)\" size=\"25\" spellcheck=\"false\" style=\"\" title=\"Filter listings below by entering words that you want to see. Use '-' before a word to find results that do NOT contain that word. Use OR between words or groups of words to see listings that match either. Use quotes &quot;...&quot; around a set of words you wish to match only when they exist together as a phrase. Multiple filters can be applied by entering new words or phrases after each filter operation.\" type=\"text\" value=\"\"/>\n",
      "              </td>\n",
      "              <td class=\"td-button\">\n",
      "               <img alt=\"Apply Filter\" class=\"ib input-size ra-btn ra-btn-size-normal ra-btn-color-darkblue ra-btn-search-icon\" onclick=\"RA.ThrottleRepeats(function() { cataloglite.SendPartTabSearch('frm_partsearch', &quot;__GIP__2__&quot;); }, 'part_tab_search_filter', 2.5); return false;\" src=\"/Images/1pxtransparent.png\" style=\"color: black;\"/>\n",
      "              </td>\n",
      "             </tr>\n",
      "            </table>\n",
      "           </div>\n",
      "           <span style=\"position: relative;\">\n",
      "            <span class=\"ra-hide\" id=\"filterbreakdownwrapper___GIP__2__\" style=\"position: absolute; z-index: 10;\">\n",
      "             <div style=\"background: #FFFFFF; border: 1px solid black; padding: 5px; white-space: nowrap;\">\n",
      "              <div class=\"filter-breakdown-row-spacing\" style=\"text-align: right;\">\n",
      "               <img alt=\"Hide\" class=\"mouseover\" onclick='cataloglite.DisplayFilterBreakDown(\"__GIP__2__\", 1);' src=\"/catalog/images/close.gif\" style=\"vertical-align: top;\" title=\"Hide\"/>\n",
      "              </div>\n",
      "              <div id=\"filterbreakdownsteps___GIP__2__\">\n",
      "              </div>\n",
      "              <div style=\"text-align: center; padding-top: .25em;\">\n",
      "               <input class=\"ra-btn mo-link\" name=\"clearfilter\" onclick=\"RA.ThrottleRepeats(function() { cataloglite.SendPartTabSearch('frm_partsearch', &quot;__GIP__2__&quot;, 1); }, 'part_tab_search_filter', 2.5); return false;\" style=\"color: blue;\" type=\"submit\" value=\"Clear Filter\"/>\n",
      "              </div>\n",
      "             </div>\n",
      "            </span>\n",
      "           </span>\n",
      "          </span>\n",
      "         </div>\n",
      "        </div>\n",
      "        <div style=\"clear: both; padding-top: .25em;\">\n",
      "        </div>\n",
      "        <table cellpadding=\"0\" cellspacing=\"0\" class=\"nobmp\" style=\"width: 100%;\">\n",
      "         <tbody>\n",
      "          <tr>\n",
      "           <td colspan=\"2\">\n",
      "           </td>\n",
      "           <td class=\"listing-float-box-cell-shared-header\" colspan=\"4\" style=\"height: 1px; text-align: center;\">\n",
      "            <span style=\"font-weight: bold;\">\n",
      "             Price\n",
      "            </span>\n",
      "           </td>\n",
      "           <td class=\"ra-hide listing-float-box-cell-shared-header\" style=\"height: 1px; text-align: center;\">\n",
      "           </td>\n",
      "           <td class=\"ra-hide listing-float-box-cell-shared-header\" style=\"height: 1px; text-align: center;\">\n",
      "           </td>\n",
      "           <td class=\"ra-hide listing-float-box-cell-shared-header\" style=\"height: 1px; text-align: center;\">\n",
      "           </td>\n",
      "           <td class=\"listing-float-box-cell-shared-header\" style=\"text-align: center;\">\n",
      "           </td>\n",
      "          </tr>\n",
      "         </tbody>\n",
      "         <tr class=\"remove-for-print\">\n",
      "          <td class=\"ra-hide\" colspan=\"6\" id=\"listingnopartscriteria[__GIP__2__]\" style=\"color: red;\">\n",
      "           No parts for vehicles in selected markets.\n",
      "          </td>\n",
      "         </tr>\n",
      "         <tbody class=\"listing-inner altrow-a-1\" id=\"listingcontainer[__GIP__3__]\" style=\"\">\n",
      "          <tr>\n",
      "           <td class=\"listing-border-top-line listing-inner-content\" rowspan=\"2\" style=\"\">\n",
      "            <span style=\"float: right;\">\n",
      "            </span>\n",
      "            <div>\n",
      "            </div>\n",
      "            <div class=\"listing-text-row-moreinfo-truck\">\n",
      "             <span class=\"listing-final-manufacturer\">\n",
      "              MELLING\n",
      "             </span>\n",
      "             <span alt=\"Buyer's Guide\" class=\"listing-final-partnumber as-link-if-js\" id=\"vew_partnumber[__GIP__3__]\" onclick='if (cataloglite.IsMobileAndNotExpanded(\"__GIP__3__\")) { return; } cataloglite.ShowBuyersGuidePopup(\"__GIP__3__\");' title=\"Buyer's Guide\">\n",
      "              30250S\n",
      "             </span>\n",
      "             <a class=\"ra-btn ra-btn-moreinfo\" href=\"https://www.rockauto.com/en/moreinfo.php?pk=8304960&amp;cc=0&amp;pt=5756\" onclick='cataloglite.MoreInfoClick(this, \"__GIP__3__\"); AddSerializedCookieDataToHref(this);' rel=\"opener\" target=\"_blank\">\n",
      "              Info\n",
      "             </a>\n",
      "             <span class=\"truck ra-hide remove-for-print mouseover\" name=\"vew_whtruckicon[__GIP__3__][0-0-0-1]\" onclick=\"FAQpopup('/help/?page=2#MINSHIPCOST', &quot;Could ship from same location as parts in cart&quot;, null, this); RA.StopBubble(event); return false;\" title=\"Could ship from same location as parts in cart\">\n",
      "             </span>\n",
      "            </div>\n",
      "            <div class=\"listing-text-row\">\n",
      "             <span title=\"Please make sure this note matches your vehicle. A seemingly contradictory note (like &quot;Left; Right;&quot;) means the part fits either (left OR right) -- it does not mean you'll receive two parts. Please do not choose a part if the note does not describe your application (for example, if the note says &quot;Sedan&quot; and you have a station wagon).\">\n",
      "              <span class=\"listing-footnote-text\">\n",
      "               Category: Timing Chain &amp; Component Kit\n",
      "              </span>\n",
      "             </span>\n",
      "            </div>\n",
      "            <div>\n",
      "            </div>\n",
      "            <div>\n",
      "            </div>\n",
      "            <div>\n",
      "            </div>\n",
      "            <input autocomplete=\"off\" id=\"optionchoice[__GIP__3__]\" name=\"optionchoice[__GIP__3__]\" type=\"hidden\" value=\"0-0-0-1\"/>\n",
      "            <input autocomplete=\"off\" id=\"listing_data_essential[__GIP__3__]\" name=\"listing_data_essential[__GIP__3__]\" type=\"hidden\" value='{\"groupindex\":\"__GIP__3__\",\"carcode\":0,\"parttype\":\"5756\",\"partkey\":\"8304960\",\"opts\":{\"0-0-0-1\":{\"warehouse\":\"90250\",\"whpartnum\":\"MEL 3-0250S@NK\",\"optionlist\":\"0\",\"paramcode\":\"0\",\"notekey\":\"0\",\"multiple\":\"1\"}}}'/>\n",
      "            <input autocomplete=\"off\" id=\"listing_data_supplemental[__GIP__3__]\" type=\"hidden\" value='{\"partnumber\":\"30250S\",\"catalogname\":\"MELLING\",\"belongstolisting\":\"__GIP__2__\",\"sortgroup\":0,\"sortgrouptext\":\"\",\"paramdesc\":\"\",\"iskitparent\":true}'/>\n",
      "            <input autocomplete=\"off\" id=\"mdl_whtruckicon[__GIP__3__][]\" type=\"hidden\" value=\"false\"/>\n",
      "            <input autocomplete=\"off\" id=\"mdl_chkalternate[__GIP__3__][]\" type=\"hidden\" value=\"false\"/>\n",
      "            <input autocomplete=\"off\" id=\"mdl_btnaddtocart[__GIP__3__][]\" type=\"hidden\" value=\"false\"/>\n",
      "            <input autocomplete=\"off\" id=\"mdl_btnpartincart[__GIP__3__][]\" type=\"hidden\" value=\"false\"/>\n",
      "            <input autocomplete=\"off\" id=\"lst_shipwhlist[__GIP__3__][0-0-0-1]\" type=\"hidden\" value='{\"90250\":90250,\"49200\":49200,\"72901\":72901}'/>\n",
      "            <input autocomplete=\"off\" id=\"mdl_whtruckicon[__GIP__3__][0-0-0-1]\" type=\"hidden\" value=\"false\"/>\n",
      "            <input autocomplete=\"off\" id=\"mdl_btnaddtocart[__GIP__3__][0-0-0-1]\" type=\"hidden\" value=\"true\"/>\n",
      "            <input autocomplete=\"off\" id=\"mdl_btnpartincart[__GIP__3__][0-0-0-1]\" type=\"hidden\" value=\"false\"/>\n",
      "            <input autocomplete=\"off\" id=\"mdl_btnnotifyoos[__GIP__3__][0-0-0-1]\" type=\"hidden\" value=\"false\"/>\n",
      "            <input autocomplete=\"off\" id=\"mdl_chkalternate[__GIP__3__][0-0-0-1]\" type=\"hidden\" value=\"false\"/>\n",
      "            <input autocomplete=\"off\" id=\"component_children[__GIP__3__]\" type=\"hidden\" value=\"[]\"/>\n",
      "            <input autocomplete=\"off\" name=\"listing-codekey[__GIP__3__]\" type=\"hidden\" value=\"186165,186185,186177,186297\"/>\n",
      "            <input autocomplete=\"off\" name=\"ssk[__GIP__3__]\" type=\"hidden\" value=\"HPc6NY4sqMvPDBCrBav8qdsOotry1iz4DHQoJ9aE4rz4bi9TPp0+BGvH/+jBSw30jo0VDowGlgI=\"/>\n",
      "           </td>\n",
      "           <td class=\"listing-border-top-line listing-float-box-cell-shared\" rowspan=\"2\" style=\"text-align: right; \">\n",
      "            <div class=\"listing-image-space-occupy\">\n",
      "             <table class=\"tblz listing-image-table\" id=\"listing_image_table[__GIP__3__]\" style=\"\">\n",
      "              <tr>\n",
      "               <td class=\"listing-image-table-leftrightcol\">\n",
      "                <div id=\"inlineimg_left_small[__GIP__3__]\">\n",
      "                 <img alt=\"&lt;\" class=\"listing-image-prevnext-image remove-for-print show-if-js\" id=\"inlineimgprevious[__GIP__3__]\" onclick='cataloglite.Listing_InlineImageManualScroll(\"__GIP__3__\", -1, false, false)' src=\"/catalog/images/prevIMGbig.png\" style=\" margin: .1em;\" title=\"Previous Image\"/>\n",
      "                </div>\n",
      "               </td>\n",
      "               <td class=\"listing-image-table-centercol\">\n",
      "                <div class=\"ra-hide\" id=\"inlineimgpositionancestor[__GIP__3__]\" style=\" position: relative; z-index: 1;\">\n",
      "                 <div class=\"listing-inlineimg_container listing-inline-image-border\" id=\"inlineimg_container[__GIP__3__]\" style=\"z-index: 1; text-align: center; background: #FFFFFF;\">\n",
      "                  <div class=\"listing-inline-image-popup-widget-title ra-hide\" id=\"inlineimg_containertitle[__GIP__3__]\" onmousedown='cataloglite.ImagePopupTitleMouseDown(\"__GIP__3__\")'>\n",
      "                   <div style=\"text-align: center; \">\n",
      "                    <span style=\"padding: 0 2em 0 2em;\">\n",
      "                     MELLING 30250S\n",
      "                    </span>\n",
      "                    <span style=\"position: absolute; right: 5px;\">\n",
      "                     <img alt=\"close\" onclick='cataloglite.Listing_InlineImagePopupInPlace(\"__GIP__3__\")' src=\"/catalog/images/close12_1.gif\" style=\"padding: .2em; cursor: pointer; display: block;\"/>\n",
      "                    </span>\n",
      "                   </div>\n",
      "                  </div>\n",
      "                  <div class=\"img-topper-container\" id=\"inlineimg_topper[__GIP__3__]\">\n",
      "                   <table class=\"tblz w100\">\n",
      "                    <tr>\n",
      "                     <td class=\"pinched\" style=\"vertical-align: top;\">\n",
      "                      <div style=\"text-align: left; padding-right: .25em;\">\n",
      "                       <span id=\"inlineimg_left_big[__GIP__3__]\">\n",
      "                       </span>\n",
      "                      </div>\n",
      "                      <div class=\"listing-image-counter\">\n",
      "                       <div class=\"inner\" id=\"imagecounterdisplay[__GIP__3__]\">\n",
      "                       </div>\n",
      "                      </div>\n",
      "                     </td>\n",
      "                     <td style=\"vertical-align: top;\">\n",
      "                      <div class=\"img-carousel-titlephrase\" id=\"imgcarouseltitlephrase[__GIP__3__]\">\n",
      "                      </div>\n",
      "                      <div class=\"ra-hide\" id=\"inlineimg_container360menu[__GIP__3__]\" style=\"padding: .25em; margin-bottom: .5em;\">\n",
      "                       <div class=\"ra-bar-slider-bar-c\">\n",
      "                        <div class=\"ra-bar-slider-bar\" id=\"inlineimg_sliderbar[__GIP__3__]\" onmousedown='cataloglite.ImageSliderMouseDown(\"__GIP__3__\", event);' ontouchstart='cataloglite.ImageSliderMouseDown(\"__GIP__3__\", event);'>\n",
      "                         <span class=\"ra-bar-slider-slider\" id=\"inlineimg_slider[__GIP__3__]\">\n",
      "                         </span>\n",
      "                        </div>\n",
      "                       </div>\n",
      "                      </div>\n",
      "                     </td>\n",
      "                     <td class=\"pinched\" style=\"vertical-align: top; text-align: right;\">\n",
      "                      <div style=\"padding-left: .25em;\">\n",
      "                       <span id=\"inlineimg_right_big[__GIP__3__]\">\n",
      "                       </span>\n",
      "                      </div>\n",
      "                     </td>\n",
      "                    </tr>\n",
      "                   </table>\n",
      "                  </div>\n",
      "                  <div class=\"inlineimg_containersizer ra-hide\" id=\"inlineimg_containersizer[__GIP__3__]\" onclick='cataloglite.Listing_InlineImagePopupInPlace(\"__GIP__3__\")' style=\" cursor: pointer;\">\n",
      "                   <img alt=\"Part image\" class=\"listing-inline-image\" id=\"inlineimg[__GIP__3__]\" src=\"/info/583/3-0250S-1-KIT__ra_m.jpg\"/>\n",
      "                  </div>\n",
      "                 </div>\n",
      "                </div>\n",
      "                <img alt=\"Part image\" class=\"listing-inline-image listing-inline-image-thumb listing-inline-image-border\" id=\"inlineimg_thumb[__GIP__3__]\" onclick='cataloglite.Listing_InlineImagePopupInPlace(\"__GIP__3__\")' src=\"/info/583/3-0250S-1-KIT__ra_m.jpg\" style=\"cursor: pointer;\" switch-to-highres=\"1\"/>\n",
      "               </td>\n",
      "               <td class=\"listing-image-table-leftrightcol\">\n",
      "                <div id=\"inlineimg_right_small[__GIP__3__]\">\n",
      "                 <img alt=\"&gt;\" class=\"listing-image-prevnext-image show-if-js remove-for-print\" id=\"inlineimgnext[__GIP__3__]\" name=\"inlnimgnextbtn\" onclick='cataloglite.Listing_InlineImageManualScroll(\"__GIP__3__\", 1, false, false)' src=\"/catalog/images/nextIMGbig.png\" style=\" margin: .1em;\" title=\"Next Image\"/>\n",
      "                </div>\n",
      "               </td>\n",
      "              </tr>\n",
      "             </table>\n",
      "             <input autocomplete=\"off\" id=\"jsninlineimg[__GIP__3__]\" type=\"hidden\" value='{\"Size\":\"Thumb\",\"SlotIndex\":0,\"Slots\":[{\"TitlePhrase\":null,\"ParamCodes\":[null],\"Type\":\"Single\",\"ImageData\":{\"Thumb\":\"\\/info\\/583\\/3-0250S-1-KIT__ra_m.jpg\",\"Popup\":\"\\/info\\/583\\/3-0250S-1-KIT.jpg\",\"Full\":\"\\/info\\/583\\/3-0250S-1-KIT.jpg\"}},{\"TitlePhrase\":\"&lt;b&gt;[Timing Chain Guide \\/ Damper]&lt;\\/b&gt;\",\"ParamCodes\":[null],\"Type\":\"Single\",\"ImageData\":{\"Thumb\":\"\\/info\\/583\\/BT7015-2-SID__ra_m.jpg\",\"Popup\":\"\\/info\\/583\\/BT7015-2-SID.jpg\",\"Full\":\"\\/info\\/583\\/BT7015-2-SID.jpg\"}},{\"TitlePhrase\":\"&lt;b&gt;[Timing Chain Guide \\/ Damper]&lt;\\/b&gt;\",\"ParamCodes\":[null],\"Type\":\"Single\",\"ImageData\":{\"Thumb\":\"\\/info\\/583\\/BG5515-1-SID__ra_m.jpg\",\"Popup\":\"\\/info\\/583\\/BG5515-1-SID.jpg\",\"Full\":\"\\/info\\/583\\/BG5515-1-SID.jpg\"}},{\"TitlePhrase\":\"&lt;b&gt;[Timing Chain]&lt;\\/b&gt;\",\"ParamCodes\":[null],\"Type\":\"Single\",\"ImageData\":{\"Thumb\":\"\\/info\\/583\\/715F-1-ANG__ra_m.jpg\",\"Popup\":\"\\/info\\/583\\/715F-1-ANG.jpg\",\"Full\":\"\\/info\\/583\\/715F-1-ANG.jpg\"}},{\"TitlePhrase\":\"&lt;b&gt;[Timing Cam Sprocket]&lt;\\/b&gt;\",\"ParamCodes\":[null],\"Type\":\"Single\",\"ImageData\":{\"Thumb\":\"\\/info\\/583\\/S906A-1-ANG__ra_m.jpg\",\"Popup\":\"\\/info\\/583\\/S906A-1-ANG.jpg\",\"Full\":\"\\/info\\/583\\/S906A-1-ANG.jpg\"}},{\"TitlePhrase\":\"&lt;b&gt;[Timing Chain Tensioner]&lt;\\/b&gt;\",\"ParamCodes\":[null],\"Type\":\"Single\",\"ImageData\":{\"Thumb\":\"\\/info\\/583\\/BT5514-1-ANG__ra_m.jpg\",\"Popup\":\"\\/info\\/583\\/BT5514-1-ANG.jpg\",\"Full\":\"\\/info\\/583\\/BT5514-1-ANG.jpg\"}},{\"TitlePhrase\":\"&lt;b&gt;[Oil Pump Chain]&lt;\\/b&gt;\",\"ParamCodes\":[null],\"Type\":\"Single\",\"ImageData\":{\"Thumb\":\"\\/info\\/583\\/717F-1-ANG__ra_m.jpg\",\"Popup\":\"\\/info\\/583\\/717F-1-ANG.jpg\",\"Full\":\"\\/info\\/583\\/717F-1-ANG.jpg\"}},{\"TitlePhrase\":\"&lt;b&gt;[Oil Pump Chain Tensioner]&lt;\\/b&gt;\",\"ParamCodes\":[null],\"Type\":\"Single\",\"ImageData\":{\"Thumb\":\"\\/info\\/583\\/BT7016-1-TOP__ra_m.jpg\",\"Popup\":\"\\/info\\/583\\/BT7016-1-TOP.jpg\",\"Full\":\"\\/info\\/583\\/BT7016-1-TOP.jpg\"}},{\"TitlePhrase\":\"&lt;b&gt;[Timing Crank Sprocket]&lt;\\/b&gt;\",\"ParamCodes\":[null],\"Type\":\"Single\",\"ImageData\":{\"Thumb\":\"\\/info\\/583\\/S899-1-ANG__ra_m.jpg\",\"Popup\":\"\\/info\\/583\\/S899-1-ANG.jpg\",\"Full\":\"\\/info\\/583\\/S899-1-ANG.jpg\"}},{\"TitlePhrase\":\"&lt;b&gt;[Oil Pump Sprocket]&lt;\\/b&gt;\",\"ParamCodes\":[null],\"Type\":\"Single\",\"ImageData\":{\"Thumb\":\"\\/info\\/583\\/S905-1-FRO__ra_m.jpg\",\"Popup\":\"\\/info\\/583\\/S905-1-FRO.jpg\",\"Full\":\"\\/info\\/583\\/S905-1-FRO.jpg\"}},{\"TitlePhrase\":\"&lt;b&gt;[Oil Pump Chain Guide]&lt;\\/b&gt;\",\"ParamCodes\":[null],\"Type\":\"Single\",\"ImageData\":{\"Thumb\":\"\\/info\\/583\\/BG7019-2-SID__ra_m.jpg\",\"Popup\":\"\\/info\\/583\\/BG7019-2-SID.jpg\",\"Full\":\"\\/info\\/583\\/BG7019-2-SID.jpg\"}}]}'/>\n",
      "            </div>\n",
      "           </td>\n",
      "           <td class=\"listing-border-top-line listing-float-box-cell-shared listing-float-box-cell-more-padding\" colspan=\"4\" id=\"listingtd[__GIP__3__][price]\" style=\"height: 1px; text-align: center; \">\n",
      "            <span class=\"\" id=\"dprice[__GIP__3__][td]\">\n",
      "             <span class=\"ra-formatted-amount listing-price listing-amount-bold\">\n",
      "              <span id=\"dprice[__GIP__3__][v]\">\n",
      "               $172.79\n",
      "              </span>\n",
      "             </span>\n",
      "            </span>\n",
      "           </td>\n",
      "           <td class=\"ra-hide listing-border-top-line listing-float-box-cell-shared listing-float-box-cell-more-padding\" id=\"listingtd[__GIP__3__][core]\" style=\"height: 1px; text-align: center; \">\n",
      "            <span class=\"\" id=\"dcore[__GIP__3__][td]\">\n",
      "             <span class=\"ra-formatted-amount listing-core\">\n",
      "              <a class=\"\" href=\"/help/?page=2#CORE\" id=\"dcore[__GIP__3__][color]\" onclick=\"return FAQpopup(this);\" style=\"text-decoration: none;\" target=\"_blank\">\n",
      "               <span id=\"dcore[__GIP__3__][v]\">\n",
      "                $0.00\n",
      "               </span>\n",
      "              </a>\n",
      "             </span>\n",
      "            </span>\n",
      "           </td>\n",
      "           <td class=\"ra-hide listing-border-top-line listing-float-box-cell-shared listing-float-box-cell-more-padding\" id=\"listingtd[__GIP__3__][pack]\" style=\"height: 1px; text-align: center; \">\n",
      "            <span id=\"dpack[__GIP__3__][v]\">\n",
      "             <span class=\"hide-if-js\">\n",
      "              + Sold in packs of 1\n",
      "             </span>\n",
      "             <span class=\"show-if-js\">\n",
      "              <span class=\"pack_size_box no-text-select\" onclick=\"showContextPopup(' ', &quot;Sold in packs of 1&quot;, this); RA.StopBubble(event); return false;\" title=\"Sold in packs of 1\">\n",
      "               <span class=\"right\">\n",
      "                <span class=\"left\">\n",
      "                 <span class=\"text\">\n",
      "                  <span class=\"text-x-small\">\n",
      "                   x\n",
      "                  </span>\n",
      "                  1\n",
      "                 </span>\n",
      "                </span>\n",
      "               </span>\n",
      "              </span>\n",
      "             </span>\n",
      "            </span>\n",
      "           </td>\n",
      "           <td class=\"ra-hide listing-border-top-line listing-float-box-cell-shared listing-float-box-cell-more-padding\" id=\"listingtd[__GIP__3__][total]\" style=\"height: 1px; text-align: center; \">\n",
      "            <span class=\"listing-amount-bold\" id=\"dtotal[__GIP__3__][td]\">\n",
      "             <span class=\"ra-formatted-amount listing-total\">\n",
      "              <span id=\"dtotal[__GIP__3__][v]\">\n",
      "               $172.79\n",
      "              </span>\n",
      "             </span>\n",
      "            </span>\n",
      "           </td>\n",
      "           <td class=\"listing-border-top-line listing-float-box-cell-shared\" rowspan=\"2\" style=\"text-align: center; \">\n",
      "           </td>\n",
      "          </tr>\n",
      "          <tr>\n",
      "           <td class=\"listing-float-box-cell-shared\" colspan=\"4\" style=\"text-align: right;\">\n",
      "            <div style=\"padding-top: .25em; padding-bottom: .1em;\">\n",
      "             <div class=\"listing-quantity-adjustment ib remove-for-print show-if-js\">\n",
      "              <input autocomplete=\"off\" id=\"listingoptkeytomultiple[__GIP__3__]\" type=\"hidden\" value='{\"0-0-0-1\":\"1\"}'/>\n",
      "              <input autocomplete=\"off\" id=\"listingoptkeytolinenumber[__GIP__3__]\" type=\"hidden\" value='{\"0-0-0-1\":null}'/>\n",
      "              <input autocomplete=\"off\" id=\"listingoptkeytoqtyincart[__GIP__3__]\" type=\"hidden\" value='{\"0-0-0-1\":null}'/>\n",
      "              <input autocomplete=\"off\" id=\"listingoptkeytoalternateid[__GIP__3__]\" type=\"hidden\" value='{\"0-0-0-1\":null}'/>\n",
      "              <table class=\"tblz di tbl-input-button-attached\" id=\"listingquantitytable[__GIP__3__]\">\n",
      "               <tr>\n",
      "                <td class=\"td-button-left\" style=\"text-align: right;\">\n",
      "                 <div class=\"qty-adjust-button\" onclick='cataloglite.ListingQuantityUpdate(\"__GIP__3__\", -1);' style=\"border-top-left-radius: 4px; border-bottom-left-radius: 4px;\">\n",
      "                  <img alt=\"\" class=\"nobmp vmiddle\" src=\"/Images/mobile/qty_down_white.png\"/>\n",
      "                 </div>\n",
      "                </td>\n",
      "                <td class=\"td-input\">\n",
      "                 <label for=\"raquantity[__GIP__3__]\" style=\"display:none;\">\n",
      "                  Quantity\n",
      "                 </label>\n",
      "                 <input aria-label=\"Quantity\" autocapitalize=\"off\" autocomplete=\"off\" autocorrect=\"off\" class=\"input-quantity ib\" data-autofill=\"block\" id=\"raquantity[__GIP__3__]\" maxlength=\"5\" name=\"raquantity[__GIP__3__]\" onchange='cataloglite.ListingQuantityUpdate(\"__GIP__3__\");' onkeypress='return RA.InterceptEnter(event, function(){RA.ByName(\"raquantity[__GIP__3__]\")[0].blur()});' spellcheck=\"false\" style=\"text-align: center; width: 2em; padding-left: 0;\" type=\"text\" value=\"1\"/>\n",
      "                </td>\n",
      "                <td class=\"td-button-right\">\n",
      "                 <div class=\"qty-adjust-button\" onclick='cataloglite.ListingQuantityUpdate(\"__GIP__3__\", 1);' style=\"border-top-right-radius: 4px; border-bottom-right-radius: 4px;\">\n",
      "                  <img alt=\"\" class=\"nobmp vmiddle\" src=\"/Images/mobile/qty_up_white.png\"/>\n",
      "                 </div>\n",
      "                </td>\n",
      "               </tr>\n",
      "              </table>\n",
      "             </div>\n",
      "             <div class=\"catalog-listing-buttons-wrapper ib\" style=\"min-width:105px;\">\n",
      "              <div class=\"vew_btnaddtocart remove-for-print\" id=\"vew_btnaddtocart[__GIP__3__]\">\n",
      "               <input class=\"hide-if-js ra-btn ra-btn-size-normal ra-btn-color-hotgreen\" id=\"addpart[__GIP__3__]\" name=\"addpart[__GIP__3__]\" onclick=\"cataloglite.ShowLoadingOverlay(null, 'PK_ADDINGPARTTOCART'); return cataloglite.Cart.AddPartWhenReady(&quot;__GIP__3__&quot;);\" type=\"submit\" value=\"Add to Cart &gt;\"/>\n",
      "               <a class=\"show-if-js ra-btn ra-btn-color-hotgreen ra-btn-size-normal ra-btn-add-part\" href=\"#\" onclick=\"RA.Click('addpart[__GIP__3__]'); return false;\" style=\"display: inline-block;\">\n",
      "                <span class=\"la-btn-v\">\n",
      "                 Add to Cart\n",
      "                </span>\n",
      "                <img alt=\"\" class=\"la-btn-v\" src=\"/Images/mobile/right_arrow_white.png\" style=\"height: 1em; margin-left: .25em;\"/>\n",
      "               </a>\n",
      "              </div>\n",
      "              <div class=\"vew_btnpartincart remove-for-print ra-hide\" id=\"vew_btnpartincart[__GIP__3__]\">\n",
      "               <input class=\"ra-btn ra-btn-size-normal ra-btn-part-in-cart\" name=\"addpart[__GIP__3__]\" onclick=\"cataloglite.Cart.ShowPartAlreadyInCart(__GIP__3__); return false;\" type=\"submit\" value=\"Part In Cart\"/>\n",
      "              </div>\n",
      "              <div class=\"vew_btnnotifyoos remove-for-print ra-hide show-if-js\" id=\"vew_btnnotifyoos[__GIP__3__]\">\n",
      "               <input class=\"ra-btn ra-btn-size-normal ra-btn-color-darkblue\" onclick='cataloglite.GetAvailabilityAlertForOOSPart(\"__GIP__3__\");' type=\"button\" value=\"Notify Me When Available\"/>\n",
      "              </div>\n",
      "             </div>\n",
      "            </div>\n",
      "           </td>\n",
      "          </tr>\n",
      "         </tbody>\n",
      "        </table>\n",
      "        <div class=\"listing-filter-bottom-message ra-hide\" id=\"listingfiltermessage[__GIP__2__]\">\n",
      "        </div>\n",
      "        <input autocomplete=\"off\" id=\"part_groupindexes_in_this_listing[__GIP__2__]\" type=\"hidden\" value='[\"__GIP__3__\"]'/>\n",
      "       </div>\n",
      "      </div>\n",
      "     </form>\n",
      "    </div>\n",
      "   </div>\n",
      "  </div>\n",
      " </body>\n",
      "</html>\n",
      "\n"
     ]
    }
   ],
   "source": [
    "from bs4 import BeautifulSoup\n",
    "from lxml import etree\n",
    "\n",
    "soup = BeautifulSoup(json_['searchnoderesults'], 'lxml')\n",
    "html = etree.HTML(str(soup))\n",
    "\n",
    "with open('./part.html', 'w', encoding='UTF-8') as file:\n",
    "    file.write(str(soup))\n",
    "\n",
    "print(soup.prettify())"
   ]
  },
  {
   "cell_type": "code",
   "execution_count": 9,
   "id": "69e041ec-be24-4915-acb2-ec60c36ee095",
   "metadata": {},
   "outputs": [
    {
     "data": {
      "text/plain": [
       "[<Element tbody at 0x124eb9400>]"
      ]
     },
     "execution_count": 9,
     "metadata": {},
     "output_type": "execute_result"
    }
   ],
   "source": [
    "list_tbody = html.xpath('//tbody[contains(@class, \"listing-inner\") and (contains(@class, \"altrow-a-1\") or contains(@class, \"altrow-a-0\"))]')\n",
    "\n",
    "list_tbody"
   ]
  },
  {
   "cell_type": "code",
   "execution_count": 10,
   "id": "139563de-d0bd-4810-bbab-3ad53513a67f",
   "metadata": {},
   "outputs": [
    {
     "data": {
      "text/plain": [
       "[{'groupindex': '__GIP__3__',\n",
       "  'carcode': 0,\n",
       "  'parttype': '5756',\n",
       "  'partkey': '8304960',\n",
       "  'opts': {'0-0-0-1': {'warehouse': '90250',\n",
       "    'whpartnum': 'MEL 3-0250S@NK',\n",
       "    'optionlist': '0',\n",
       "    'paramcode': '0',\n",
       "    'notekey': '0',\n",
       "    'multiple': '1'}}}]"
      ]
     },
     "execution_count": 10,
     "metadata": {},
     "output_type": "execute_result"
    }
   ],
   "source": [
    "list_json = [json.loads(tbody.xpath('./tr[1]/td[contains(@class, \"listing-inner-content\")]/input[contains(@id, \"listing_data_essential[__GIP__\")]/@value')[0]) for tbody in list_tbody]\n",
    "\n",
    "list_json"
   ]
  },
  {
   "cell_type": "code",
   "execution_count": 11,
   "id": "be4e6682-74c7-45f9-876e-3f3a84bf32e4",
   "metadata": {},
   "outputs": [
    {
     "data": {
      "text/plain": [
       "(array([0]),)"
      ]
     },
     "execution_count": 11,
     "metadata": {},
     "output_type": "execute_result"
    }
   ],
   "source": [
    "import numpy as np\n",
    "\n",
    "array_index_type_code = np.where(np.array([json_['parttype'] for json_ in list_json]) == input_.loc[a, 'Type Code'])\n",
    "\n",
    "array_index_type_code"
   ]
  },
  {
   "cell_type": "code",
   "execution_count": 12,
   "id": "4d9ee173-d7fb-4581-a24a-06408547b227",
   "metadata": {},
   "outputs": [
    {
     "data": {
      "text/plain": [
       "['8304960']"
      ]
     },
     "execution_count": 12,
     "metadata": {},
     "output_type": "execute_result"
    }
   ],
   "source": [
    "list_key = [json_['partkey'] for json_ in list_json]\n",
    "\n",
    "list_key"
   ]
  },
  {
   "cell_type": "code",
   "execution_count": 13,
   "id": "0fb0c739-fdc6-40d2-92dd-a1409c911322",
   "metadata": {},
   "outputs": [
    {
     "data": {
      "text/plain": [
       "[{'partnumber': '30250S',\n",
       "  'catalogname': 'MELLING',\n",
       "  'belongstolisting': '__GIP__2__',\n",
       "  'sortgroup': 0,\n",
       "  'sortgrouptext': '',\n",
       "  'paramdesc': '',\n",
       "  'iskitparent': True}]"
      ]
     },
     "execution_count": 13,
     "metadata": {},
     "output_type": "execute_result"
    }
   ],
   "source": [
    "list_json = [json.loads(tbody.xpath('./tr[1]/td/input[contains(@id, \"listing_data_supplemental[\")]/@value')[0]) for tbody in list_tbody]\n",
    "\n",
    "list_json"
   ]
  },
  {
   "cell_type": "code",
   "execution_count": 14,
   "id": "1b5dfcb9-4037-4fe0-b74f-d6fe4f9fc3fd",
   "metadata": {},
   "outputs": [
    {
     "data": {
      "text/plain": [
       "(array([0]),)"
      ]
     },
     "execution_count": 14,
     "metadata": {},
     "output_type": "execute_result"
    }
   ],
   "source": [
    "array_index_part_number = np.where(np.array([json_['partnumber'] for json_ in list_json]) == input_.loc[a, 'Part Number'])\n",
    "\n",
    "array_index_part_number"
   ]
  },
  {
   "cell_type": "code",
   "execution_count": 15,
   "id": "b97569ac-c1b1-4be0-a284-5df159906aac",
   "metadata": {},
   "outputs": [
    {
     "data": {
      "text/plain": [
       "(array([0]),)"
      ]
     },
     "execution_count": 15,
     "metadata": {},
     "output_type": "execute_result"
    }
   ],
   "source": [
    "array_index_manufacturer = np.where(np.array([json_['catalogname'] for json_ in list_json]) == input_.loc[a, 'Manufacturer'])\n",
    "\n",
    "array_index_manufacturer"
   ]
  },
  {
   "cell_type": "code",
   "execution_count": 16,
   "id": "f11262ec-a8dd-48b7-816c-e073b1a4397a",
   "metadata": {},
   "outputs": [
    {
     "data": {
      "text/plain": [
       "['']"
      ]
     },
     "execution_count": 16,
     "metadata": {},
     "output_type": "execute_result"
    }
   ],
   "source": [
    "list_parameter = [json_['paramdesc'].strip() for json_ in list_json]\n",
    "\n",
    "list_parameter"
   ]
  },
  {
   "cell_type": "code",
   "execution_count": 17,
   "id": "bb639158-17ae-4220-bd10-e935aaf72b72",
   "metadata": {},
   "outputs": [
    {
     "data": {
      "text/plain": [
       "array([0])"
      ]
     },
     "execution_count": 17,
     "metadata": {},
     "output_type": "execute_result"
    }
   ],
   "source": [
    "array_index_part = np.intersect1d(np.intersect1d(array_index_type_code, array_index_part_number), array_index_manufacturer)\n",
    "\n",
    "array_index_part"
   ]
  },
  {
   "cell_type": "code",
   "execution_count": 18,
   "id": "673d33e8-7ce4-4703-aca3-c92b89671e7b",
   "metadata": {},
   "outputs": [
    {
     "data": {
      "text/plain": [
       "0"
      ]
     },
     "execution_count": 18,
     "metadata": {},
     "output_type": "execute_result"
    }
   ],
   "source": [
    "if len(array_index_part) == 1:\n",
    "    part_index = array_index_part[0]\n",
    "\n",
    "part_index"
   ]
  },
  {
   "cell_type": "code",
   "execution_count": 19,
   "id": "4dbfa77d-c870-4274-8366-b287c70daeec",
   "metadata": {},
   "outputs": [
    {
     "data": {
      "text/plain": [
       "''"
      ]
     },
     "execution_count": 19,
     "metadata": {},
     "output_type": "execute_result"
    }
   ],
   "source": [
    "list_note = list_tbody[part_index].xpath('./tr[1]/td/div[@class=\"listing-text-row-moreinfo-truck\"]/span[@class=\"span-link-underline-remover\"]/text()')\n",
    "note = '\\n'.join([note.strip() for note in list_note])\n",
    "\n",
    "note"
   ]
  },
  {
   "cell_type": "code",
   "execution_count": 20,
   "id": "84865e84-1219-4db9-9a0b-143fe42be669",
   "metadata": {},
   "outputs": [
    {
     "data": {
      "text/plain": [
       "'https://www.rockauto.com/en/moreinfo.php?pk=8304960&cc=0&pt=5756'"
      ]
     },
     "execution_count": 20,
     "metadata": {},
     "output_type": "execute_result"
    }
   ],
   "source": [
    "list_info = list_tbody[part_index].xpath('./tr[1]/td/div[@class=\"listing-text-row-moreinfo-truck\"]/a[@class=\"ra-btn ra-btn-moreinfo\"]/@href')\n",
    "info = list_info[0].strip() if list_info and list_info[0].startswith('https://www.rockauto.com/en/moreinfo.php?') else f'''https://www.rockauto.com/en/moreinfo.php?pk={list_key[part_index]}&pt={input_.loc[a, 'Type Code']}&Lennon=1'''\n",
    "\n",
    "info"
   ]
  },
  {
   "cell_type": "code",
   "execution_count": 21,
   "id": "60a75697-b94b-4c8e-a97b-4cea7207d460",
   "metadata": {},
   "outputs": [
    {
     "data": {
      "text/plain": [
       "'Category: Timing Chain &amp; Component Kit'"
      ]
     },
     "execution_count": 21,
     "metadata": {},
     "output_type": "execute_result"
    }
   ],
   "source": [
    "import re\n",
    "\n",
    "note_2 = etree.tostring(list_tbody[part_index].xpath('./tr[1]/td/div[@class=\"listing-text-row\"]')[0]).decode('utf-8')\n",
    "note_2 = re.sub(r'<.*?>', '', note_2.strip())\n",
    "note_2 = re.sub(r' +', ' ', note_2.strip())\n",
    "\n",
    "note_2"
   ]
  },
  {
   "cell_type": "code",
   "execution_count": 22,
   "id": "91f88e2a-c5d8-4740-a5fa-dbe3572c9684",
   "metadata": {},
   "outputs": [
    {
     "data": {
      "text/plain": [
       "''"
      ]
     },
     "execution_count": 22,
     "metadata": {},
     "output_type": "execute_result"
    }
   ],
   "source": [
    "list_oem = list_tbody[part_index].xpath('./tr[1]/td/span[contains(@title, \"Replaces these Alternate\")]/text()')\n",
    "oem = ','.join(list_oem)\n",
    "oem = ';'.join([oem_split.strip() for oem_split in oem.split(',')])\n",
    "\n",
    "oem"
   ]
  },
  {
   "cell_type": "code",
   "execution_count": 23,
   "id": "c78f2ee9-cc9b-4b44-8ec7-ef9f953983b2",
   "metadata": {},
   "outputs": [
    {
     "data": {
      "text/plain": [
       "[{'TitlePhrase': None,\n",
       "  'ParamCodes': [None],\n",
       "  'Type': 'Single',\n",
       "  'ImageData': {'Thumb': '/info/583/3-0250S-1-KIT__ra_m.jpg',\n",
       "   'Popup': '/info/583/3-0250S-1-KIT.jpg',\n",
       "   'Full': '/info/583/3-0250S-1-KIT.jpg'}},\n",
       " {'TitlePhrase': '<b>[Timing Chain Guide / Damper]</b>',\n",
       "  'ParamCodes': [None],\n",
       "  'Type': 'Single',\n",
       "  'ImageData': {'Thumb': '/info/583/BT7015-2-SID__ra_m.jpg',\n",
       "   'Popup': '/info/583/BT7015-2-SID.jpg',\n",
       "   'Full': '/info/583/BT7015-2-SID.jpg'}},\n",
       " {'TitlePhrase': '<b>[Timing Chain Guide / Damper]</b>',\n",
       "  'ParamCodes': [None],\n",
       "  'Type': 'Single',\n",
       "  'ImageData': {'Thumb': '/info/583/BG5515-1-SID__ra_m.jpg',\n",
       "   'Popup': '/info/583/BG5515-1-SID.jpg',\n",
       "   'Full': '/info/583/BG5515-1-SID.jpg'}},\n",
       " {'TitlePhrase': '<b>[Timing Chain]</b>',\n",
       "  'ParamCodes': [None],\n",
       "  'Type': 'Single',\n",
       "  'ImageData': {'Thumb': '/info/583/715F-1-ANG__ra_m.jpg',\n",
       "   'Popup': '/info/583/715F-1-ANG.jpg',\n",
       "   'Full': '/info/583/715F-1-ANG.jpg'}},\n",
       " {'TitlePhrase': '<b>[Timing Cam Sprocket]</b>',\n",
       "  'ParamCodes': [None],\n",
       "  'Type': 'Single',\n",
       "  'ImageData': {'Thumb': '/info/583/S906A-1-ANG__ra_m.jpg',\n",
       "   'Popup': '/info/583/S906A-1-ANG.jpg',\n",
       "   'Full': '/info/583/S906A-1-ANG.jpg'}},\n",
       " {'TitlePhrase': '<b>[Timing Chain Tensioner]</b>',\n",
       "  'ParamCodes': [None],\n",
       "  'Type': 'Single',\n",
       "  'ImageData': {'Thumb': '/info/583/BT5514-1-ANG__ra_m.jpg',\n",
       "   'Popup': '/info/583/BT5514-1-ANG.jpg',\n",
       "   'Full': '/info/583/BT5514-1-ANG.jpg'}},\n",
       " {'TitlePhrase': '<b>[Oil Pump Chain]</b>',\n",
       "  'ParamCodes': [None],\n",
       "  'Type': 'Single',\n",
       "  'ImageData': {'Thumb': '/info/583/717F-1-ANG__ra_m.jpg',\n",
       "   'Popup': '/info/583/717F-1-ANG.jpg',\n",
       "   'Full': '/info/583/717F-1-ANG.jpg'}},\n",
       " {'TitlePhrase': '<b>[Oil Pump Chain Tensioner]</b>',\n",
       "  'ParamCodes': [None],\n",
       "  'Type': 'Single',\n",
       "  'ImageData': {'Thumb': '/info/583/BT7016-1-TOP__ra_m.jpg',\n",
       "   'Popup': '/info/583/BT7016-1-TOP.jpg',\n",
       "   'Full': '/info/583/BT7016-1-TOP.jpg'}},\n",
       " {'TitlePhrase': '<b>[Timing Crank Sprocket]</b>',\n",
       "  'ParamCodes': [None],\n",
       "  'Type': 'Single',\n",
       "  'ImageData': {'Thumb': '/info/583/S899-1-ANG__ra_m.jpg',\n",
       "   'Popup': '/info/583/S899-1-ANG.jpg',\n",
       "   'Full': '/info/583/S899-1-ANG.jpg'}},\n",
       " {'TitlePhrase': '<b>[Oil Pump Sprocket]</b>',\n",
       "  'ParamCodes': [None],\n",
       "  'Type': 'Single',\n",
       "  'ImageData': {'Thumb': '/info/583/S905-1-FRO__ra_m.jpg',\n",
       "   'Popup': '/info/583/S905-1-FRO.jpg',\n",
       "   'Full': '/info/583/S905-1-FRO.jpg'}},\n",
       " {'TitlePhrase': '<b>[Oil Pump Chain Guide]</b>',\n",
       "  'ParamCodes': [None],\n",
       "  'Type': 'Single',\n",
       "  'ImageData': {'Thumb': '/info/583/BG7019-2-SID__ra_m.jpg',\n",
       "   'Popup': '/info/583/BG7019-2-SID.jpg',\n",
       "   'Full': '/info/583/BG7019-2-SID.jpg'}}]"
      ]
     },
     "execution_count": 23,
     "metadata": {},
     "output_type": "execute_result"
    }
   ],
   "source": [
    "list_src = json.loads(list_tbody[part_index].xpath('./tr[1]/td/div/input[contains(@id, \"jsninlineimg[\")]/@value')[0])['Slots'] if list_tbody[part_index].xpath('./tr[1]/td/div/input[contains(@id, \"jsninlineimg[\")]/@value') else []\n",
    "\n",
    "list_src"
   ]
  },
  {
   "cell_type": "code",
   "execution_count": 24,
   "id": "989704c4-7f33-48ab-85e2-eff20a44b6dd",
   "metadata": {},
   "outputs": [
    {
     "data": {
      "text/plain": [
       "{'0': 'https://www.rockauto.com/info/583/3-0250S-1-KIT.jpg',\n",
       " '1': 'https://www.rockauto.com/info/583/BT7015-2-SID.jpg',\n",
       " '2': 'https://www.rockauto.com/info/583/BG5515-1-SID.jpg',\n",
       " '3': 'https://www.rockauto.com/info/583/715F-1-ANG.jpg',\n",
       " '4': 'https://www.rockauto.com/info/583/S906A-1-ANG.jpg',\n",
       " '5': 'https://www.rockauto.com/info/583/BT5514-1-ANG.jpg',\n",
       " '6': 'https://www.rockauto.com/info/583/717F-1-ANG.jpg',\n",
       " '7': 'https://www.rockauto.com/info/583/BT7016-1-TOP.jpg',\n",
       " '8': 'https://www.rockauto.com/info/583/S899-1-ANG.jpg',\n",
       " '9': 'https://www.rockauto.com/info/583/S905-1-FRO.jpg',\n",
       " '10': 'https://www.rockauto.com/info/583/BG7019-2-SID.jpg'}"
      ]
     },
     "execution_count": 24,
     "metadata": {},
     "output_type": "execute_result"
    }
   ],
   "source": [
    "dict_src = {}\n",
    "for i, src in zip(range(len(list_src)), list_src):\n",
    "    dict_src[str(i)] = 'https://www.rockauto.com' + src['ImageData']['Full'].strip()\n",
    "\n",
    "dict_src"
   ]
  },
  {
   "cell_type": "code",
   "execution_count": 25,
   "id": "29badcfa-20a1-48c5-b505-3faf8fcc0d3f",
   "metadata": {},
   "outputs": [
    {
     "data": {
      "text/plain": [
       "{'0': '$172.79'}"
      ]
     },
     "execution_count": 25,
     "metadata": {},
     "output_type": "execute_result"
    }
   ],
   "source": [
    "price = etree.tostring(list_tbody[part_index].xpath('./tr[1]/td[contains(@id, \"listingtd[\") and contains(@id, \"][price]\")]/span/span/span[contains(@id, \"dprice[\") and contains(@id, \"][v]\")]')[0]).decode('utf-8')\n",
    "dict_price = {'0': re.sub(r'<.*?>', '', price.strip())}\n",
    "\n",
    "dict_price"
   ]
  },
  {
   "cell_type": "code",
   "execution_count": 26,
   "id": "3941872d-6ec0-4c44-b365-5e5d8c4110a8",
   "metadata": {},
   "outputs": [
    {
     "data": {
      "text/plain": [
       "{'0': '$172.79'}"
      ]
     },
     "execution_count": 26,
     "metadata": {},
     "output_type": "execute_result"
    }
   ],
   "source": [
    "list_li = list_tbody[part_index].xpath('./tr[1]/td/div/div/span/span[contains(@id, \"ddrepl[optionchoice[__\")]/table/tr/td[1]/div/div/ul/li')\n",
    "if list_li:\n",
    "    dict_price['1'] = {}\n",
    "    for j, li in zip(range(len(list_li[1:])), list_li[1:]):\n",
    "        dict_price['1'][str(j)] = re.sub(r' +', ' ', re.sub(r'<.*?>', ' ', etree.tostring(li.xpath('./div[contains(@class, \"outer\")]/div[contains(@class, \"inner\")]')[0]).decode('utf-8'))).strip()\n",
    "\n",
    "dict_price"
   ]
  },
  {
   "cell_type": "code",
   "execution_count": 27,
   "id": "96f1239b-50f9-42d4-b879-831dc05deb48",
   "metadata": {
    "scrolled": true
   },
   "outputs": [
    {
     "data": {
      "text/html": [
       "<div>\n",
       "<style scoped>\n",
       "    .dataframe tbody tr th:only-of-type {\n",
       "        vertical-align: middle;\n",
       "    }\n",
       "\n",
       "    .dataframe tbody tr th {\n",
       "        vertical-align: top;\n",
       "    }\n",
       "\n",
       "    .dataframe thead th {\n",
       "        text-align: right;\n",
       "    }\n",
       "</style>\n",
       "<table border=\"1\" class=\"dataframe\">\n",
       "  <thead>\n",
       "    <tr style=\"text-align: right;\">\n",
       "      <th></th>\n",
       "      <th>No</th>\n",
       "      <th>Group</th>\n",
       "      <th>Type</th>\n",
       "      <th>Type Code</th>\n",
       "      <th>Manufacturer</th>\n",
       "      <th>Part Number</th>\n",
       "      <th>Parameter</th>\n",
       "      <th>Json_Price</th>\n",
       "      <th>Note 1</th>\n",
       "      <th>Note 2</th>\n",
       "      <th>OEM</th>\n",
       "      <th>Picture</th>\n",
       "      <th>Url</th>\n",
       "      <th>Info</th>\n",
       "      <th>Json_Src</th>\n",
       "      <th>Key</th>\n",
       "    </tr>\n",
       "  </thead>\n",
       "  <tbody>\n",
       "    <tr>\n",
       "      <th>0</th>\n",
       "      <td>1</td>\n",
       "      <td>Engine</td>\n",
       "      <td>Timing Chain &amp; Component Kit</td>\n",
       "      <td>5756</td>\n",
       "      <td>MELLING</td>\n",
       "      <td>30250S</td>\n",
       "      <td></td>\n",
       "      <td>{\"0\": \"$172.79\"}</td>\n",
       "      <td></td>\n",
       "      <td>Category: Timing Chain &amp;amp; Component Kit</td>\n",
       "      <td></td>\n",
       "      <td></td>\n",
       "      <td>https://www.rockauto.com/en/parts/melling,3025...</td>\n",
       "      <td>https://www.rockauto.com/en/moreinfo.php?pk=83...</td>\n",
       "      <td>{\"0\": \"https://www.rockauto.com/info/583/3-025...</td>\n",
       "      <td>8304960</td>\n",
       "    </tr>\n",
       "  </tbody>\n",
       "</table>\n",
       "</div>"
      ],
      "text/plain": [
       "   No   Group                          Type Type Code Manufacturer  \\\n",
       "0   1  Engine  Timing Chain & Component Kit      5756      MELLING   \n",
       "\n",
       "  Part Number Parameter        Json_Price Note 1  \\\n",
       "0      30250S            {\"0\": \"$172.79\"}          \n",
       "\n",
       "                                       Note 2 OEM Picture  \\\n",
       "0  Category: Timing Chain &amp; Component Kit               \n",
       "\n",
       "                                                 Url  \\\n",
       "0  https://www.rockauto.com/en/parts/melling,3025...   \n",
       "\n",
       "                                                Info  \\\n",
       "0  https://www.rockauto.com/en/moreinfo.php?pk=83...   \n",
       "\n",
       "                                            Json_Src      Key  \n",
       "0  {\"0\": \"https://www.rockauto.com/info/583/3-025...  8304960  "
      ]
     },
     "execution_count": 27,
     "metadata": {},
     "output_type": "execute_result"
    }
   ],
   "source": [
    "df_temp = pd.DataFrame([{'No': input_.loc[a, 'No'],\n",
    "                         'Group': input_.loc[a, 'Group'],\n",
    "                         'Type': input_.loc[a, 'Type'],\n",
    "                         'Type Code': input_.loc[a, 'Type Code'],\n",
    "                         'Manufacturer': input_.loc[a, 'Manufacturer'],\n",
    "                         'Part Number': input_.loc[a, 'Part Number'],\n",
    "                         'Parameter': list_parameter[part_index],\n",
    "                         'Json_Price': json.dumps(dict_price),\n",
    "                         'Note 1': note,\n",
    "                         'Note 2': note_2,\n",
    "                         'OEM': oem,\n",
    "                         'Picture': '',\n",
    "                         'Url': input_.loc[a, 'Url'],\n",
    "                         'Info': info,\n",
    "                         'Json_Src': json.dumps(dict_src),\n",
    "                         'Key': list_key[part_index]}])\n",
    "\n",
    "output_correct = pd.concat([output_correct, df_temp], ignore_index=True).fillna('')\n",
    "\n",
    "output_correct"
   ]
  },
  {
   "cell_type": "code",
   "execution_count": 28,
   "id": "fc4ed7f6-ed4f-431c-b944-b1690309cdae",
   "metadata": {},
   "outputs": [
    {
     "data": {
      "text/plain": [
       "'ok'"
      ]
     },
     "execution_count": 28,
     "metadata": {},
     "output_type": "execute_result"
    }
   ],
   "source": [
    "crawler_status = 'ok'\n",
    "\n",
    "crawler_status"
   ]
  },
  {
   "cell_type": "code",
   "execution_count": 29,
   "id": "65c745d1-446e-46c5-9dec-819c9f7944d3",
   "metadata": {},
   "outputs": [
    {
     "data": {
      "text/html": [
       "<div>\n",
       "<style scoped>\n",
       "    .dataframe tbody tr th:only-of-type {\n",
       "        vertical-align: middle;\n",
       "    }\n",
       "\n",
       "    .dataframe tbody tr th {\n",
       "        vertical-align: top;\n",
       "    }\n",
       "\n",
       "    .dataframe thead th {\n",
       "        text-align: right;\n",
       "    }\n",
       "</style>\n",
       "<table border=\"1\" class=\"dataframe\">\n",
       "  <thead>\n",
       "    <tr style=\"text-align: right;\">\n",
       "      <th></th>\n",
       "    </tr>\n",
       "  </thead>\n",
       "  <tbody>\n",
       "  </tbody>\n",
       "</table>\n",
       "</div>"
      ],
      "text/plain": [
       "Empty DataFrame\n",
       "Columns: []\n",
       "Index: []"
      ]
     },
     "execution_count": 29,
     "metadata": {},
     "output_type": "execute_result"
    }
   ],
   "source": [
    "if crawler_status == 'error':\n",
    "    output_error = pd.concat([output_error, pd.DataFrame([input_.iloc[a]]).reset_index(drop=True)], ignore_index=True).fillna('')\n",
    "\n",
    "output_error"
   ]
  },
  {
   "cell_type": "code",
   "execution_count": 30,
   "id": "7fd477de",
   "metadata": {},
   "outputs": [
    {
     "data": {
      "text/html": [
       "<div>\n",
       "<style scoped>\n",
       "    .dataframe tbody tr th:only-of-type {\n",
       "        vertical-align: middle;\n",
       "    }\n",
       "\n",
       "    .dataframe tbody tr th {\n",
       "        vertical-align: top;\n",
       "    }\n",
       "\n",
       "    .dataframe thead th {\n",
       "        text-align: right;\n",
       "    }\n",
       "</style>\n",
       "<table border=\"1\" class=\"dataframe\">\n",
       "  <thead>\n",
       "    <tr style=\"text-align: right;\">\n",
       "      <th></th>\n",
       "      <th>No</th>\n",
       "      <th>Group</th>\n",
       "      <th>Type</th>\n",
       "      <th>Type Code</th>\n",
       "      <th>Manufacturer</th>\n",
       "      <th>Part Number</th>\n",
       "      <th>Parameter</th>\n",
       "      <th>Json_Price</th>\n",
       "      <th>Note 1</th>\n",
       "      <th>Note 2</th>\n",
       "      <th>OEM</th>\n",
       "      <th>Picture</th>\n",
       "      <th>Url</th>\n",
       "      <th>Info</th>\n",
       "      <th>Json_Src</th>\n",
       "      <th>Key</th>\n",
       "    </tr>\n",
       "  </thead>\n",
       "  <tbody>\n",
       "    <tr>\n",
       "      <th>0</th>\n",
       "      <td>1</td>\n",
       "      <td>Engine</td>\n",
       "      <td>Timing Chain &amp; Component Kit</td>\n",
       "      <td>5756</td>\n",
       "      <td>MELLING</td>\n",
       "      <td>30250S</td>\n",
       "      <td></td>\n",
       "      <td>{\"0\": \"$172.79\"}</td>\n",
       "      <td></td>\n",
       "      <td>Category: Timing Chain &amp;amp; Component Kit</td>\n",
       "      <td></td>\n",
       "      <td></td>\n",
       "      <td>https://www.rockauto.com/en/parts/melling,3025...</td>\n",
       "      <td>https://www.rockauto.com/en/moreinfo.php?pk=83...</td>\n",
       "      <td>{\"0\": \"https://www.rockauto.com/info/583/3-025...</td>\n",
       "      <td>8304960</td>\n",
       "    </tr>\n",
       "  </tbody>\n",
       "</table>\n",
       "</div>"
      ],
      "text/plain": [
       "   No   Group                          Type Type Code Manufacturer  \\\n",
       "0   1  Engine  Timing Chain & Component Kit      5756      MELLING   \n",
       "\n",
       "  Part Number Parameter        Json_Price Note 1  \\\n",
       "0      30250S            {\"0\": \"$172.79\"}          \n",
       "\n",
       "                                       Note 2 OEM Picture  \\\n",
       "0  Category: Timing Chain &amp; Component Kit               \n",
       "\n",
       "                                                 Url  \\\n",
       "0  https://www.rockauto.com/en/parts/melling,3025...   \n",
       "\n",
       "                                                Info  \\\n",
       "0  https://www.rockauto.com/en/moreinfo.php?pk=83...   \n",
       "\n",
       "                                            Json_Src      Key  \n",
       "0  {\"0\": \"https://www.rockauto.com/info/583/3-025...  8304960  "
      ]
     },
     "execution_count": 30,
     "metadata": {},
     "output_type": "execute_result"
    }
   ],
   "source": [
    "if not output_correct.empty:\n",
    "    output_correct = output_correct.sort_values(by=['No'],\n",
    "                                                ascending=[True],\n",
    "                                                ignore_index=True)\n",
    "    output_correct.to_excel('./test_part.xlsx', index=False)\n",
    "\n",
    "output_correct"
   ]
  },
  {
   "cell_type": "code",
   "execution_count": 31,
   "id": "39a5441b-7f69-4812-aad8-7e10a1a24e78",
   "metadata": {},
   "outputs": [
    {
     "data": {
      "text/html": [
       "<div>\n",
       "<style scoped>\n",
       "    .dataframe tbody tr th:only-of-type {\n",
       "        vertical-align: middle;\n",
       "    }\n",
       "\n",
       "    .dataframe tbody tr th {\n",
       "        vertical-align: top;\n",
       "    }\n",
       "\n",
       "    .dataframe thead th {\n",
       "        text-align: right;\n",
       "    }\n",
       "</style>\n",
       "<table border=\"1\" class=\"dataframe\">\n",
       "  <thead>\n",
       "    <tr style=\"text-align: right;\">\n",
       "      <th></th>\n",
       "    </tr>\n",
       "  </thead>\n",
       "  <tbody>\n",
       "  </tbody>\n",
       "</table>\n",
       "</div>"
      ],
      "text/plain": [
       "Empty DataFrame\n",
       "Columns: []\n",
       "Index: []"
      ]
     },
     "execution_count": 31,
     "metadata": {},
     "output_type": "execute_result"
    }
   ],
   "source": [
    "if not output_error.empty:\n",
    "    output_error = output_error.sort_values(by=['No'],\n",
    "                                            ascending=[True],\n",
    "                                            ignore_index=True)\n",
    "    output_error.to_excel('./test_part_error.xlsx', index=False)\n",
    "\n",
    "output_error"
   ]
  },
  {
   "cell_type": "code",
   "execution_count": null,
   "id": "ba5d9f77-7464-4ad5-a42b-1fa0c0505832",
   "metadata": {},
   "outputs": [],
   "source": []
  }
 ],
 "metadata": {
  "kernelspec": {
   "display_name": "Python 3 (ipykernel)",
   "language": "python",
   "name": "python3"
  },
  "language_info": {
   "codemirror_mode": {
    "name": "ipython",
    "version": 3
   },
   "file_extension": ".py",
   "mimetype": "text/x-python",
   "name": "python",
   "nbconvert_exporter": "python",
   "pygments_lexer": "ipython3",
   "version": "3.11.3"
  }
 },
 "nbformat": 4,
 "nbformat_minor": 5
}
